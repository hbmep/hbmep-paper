{
 "cells": [
  {
   "cell_type": "code",
   "execution_count": 1,
   "metadata": {},
   "outputs": [],
   "source": [
    "%reload_ext autoreload\n",
    "%autoreload 2\n",
    "\n",
    "import os\n",
    "import logging\n",
    "import multiprocessing\n",
    "from pathlib import Path\n",
    "\n",
    "import pandas as pd\n",
    "import numpy as np\n",
    "import jax\n",
    "import jax.numpy as jnp\n",
    "import numpyro\n",
    "\n",
    "import matplotlib.pyplot as plt\n",
    "import seaborn as sns\n",
    "\n",
    "from hbmep.config import Config\n",
    "from hbmep.model.utils import Site as site\n",
    "\n",
    "PLATFORM = \"cpu\"\n",
    "jax.config.update(\"jax_platforms\", PLATFORM)\n",
    "numpyro.set_platform(PLATFORM)\n",
    "\n",
    "cpu_count = multiprocessing.cpu_count() - 2\n",
    "numpyro.set_host_device_count(cpu_count)\n",
    "numpyro.enable_x64()\n",
    "numpyro.enable_validation()\n",
    "\n",
    "logger = logging.getLogger(__name__)"
   ]
  },
  {
   "cell_type": "code",
   "execution_count": 2,
   "metadata": {},
   "outputs": [],
   "source": [
    "import numpyro.distributions as dist\n",
    "from hbmep.model import Baseline\n",
    "from hbmep_paper.utils.constants import HBM\n",
    "\n",
    "\n",
    "class HierarchicalBayesianModel(Baseline):\n",
    "    LINK = HBM\n",
    "\n",
    "    def __init__(self, config: Config):\n",
    "        super(HierarchicalBayesianModel, self).__init__(config=config)\n",
    "        self.combination_columns = self.features + [self.subject]\n",
    "\n",
    "    def _model(self, subject, features, intensity, response_obs=None):\n",
    "        intensity = intensity.reshape(-1, 1)\n",
    "        intensity = np.tile(intensity, (1, self.n_response))\n",
    "\n",
    "        feature0 = features[0].reshape(-1,)\n",
    "\n",
    "        n_data = intensity.shape[0]\n",
    "        n_subject = np.unique(subject).shape[0]\n",
    "        n_feature0 = np.unique(feature0).shape[0]\n",
    "\n",
    "        n_baseline = 1\n",
    "        n_delta = n_feature0 - 1\n",
    "\n",
    "        \"\"\" Baseline \"\"\"\n",
    "        with numpyro.plate(site.n_response, self.n_response, dim=-1):\n",
    "            with numpyro.plate(\"n_baseline\", n_baseline, dim=-2):\n",
    "                mu_baseline = numpyro.sample(\n",
    "                    \"mu_baseline\",\n",
    "                    dist.TruncatedNormal(5, 10, low=0)\n",
    "                )\n",
    "                sigma_baseline = numpyro.sample(\n",
    "                    \"sigma_baseline\",\n",
    "                    dist.HalfNormal(10.0)\n",
    "                )\n",
    "\n",
    "                with numpyro.plate(site.n_subject, n_subject, dim=-3):\n",
    "                    baseline = numpyro.sample(\n",
    "                        \"baseline\",\n",
    "                        dist.TruncatedNormal(mu_baseline, sigma_baseline, low=0)\n",
    "                    )\n",
    "\n",
    "        \"\"\" Delta \"\"\"\n",
    "        with numpyro.plate(site.n_response, self.n_response, dim=-1):\n",
    "            with numpyro.plate(\"n_delta\", n_delta, dim=-2):\n",
    "                mu_delta = numpyro.sample(\"mu_delta\", dist.Normal(0, 10))\n",
    "                sigma_delta = numpyro.sample(\"sigma_delta\", dist.HalfNormal(10.0))\n",
    "\n",
    "                with numpyro.plate(site.n_subject, n_subject, dim=-3):\n",
    "                    delta = numpyro.sample(\"delta\", dist.Normal(mu_delta, sigma_delta))\n",
    "\n",
    "        with numpyro.plate(site.n_response, self.n_response, dim=-1):\n",
    "            with numpyro.plate(\"n_feature0\", n_feature0, dim=-2):\n",
    "                \"\"\" Hyper-priors \"\"\"\n",
    "                sigma_b = numpyro.sample(site.sigma_b, dist.HalfNormal(10))\n",
    "\n",
    "                sigma_L = numpyro.sample(site.sigma_L, dist.HalfNormal(2))\n",
    "                sigma_H = numpyro.sample(site.sigma_H, dist.HalfNormal(10))\n",
    "                sigma_v = numpyro.sample(site.sigma_v, dist.HalfNormal(10))\n",
    "\n",
    "                with numpyro.plate(site.n_subject, n_subject, dim=-3):\n",
    "                    \"\"\" Priors \"\"\"\n",
    "                    a = numpyro.deterministic(\n",
    "                        site.a,\n",
    "                        jnp.concatenate([baseline, baseline + delta], axis=1)\n",
    "                    )\n",
    "                    b = numpyro.sample(site.b, dist.HalfNormal(sigma_b))\n",
    "\n",
    "                    L = numpyro.sample(site.L, dist.HalfNormal(sigma_L))\n",
    "                    H = numpyro.sample(site.H, dist.HalfNormal(sigma_H))\n",
    "                    v = numpyro.sample(site.v, dist.HalfNormal(sigma_v))\n",
    "\n",
    "                    g_1 = numpyro.sample(site.g_1, dist.Exponential(0.01))\n",
    "                    g_2 = numpyro.sample(site.g_2, dist.Exponential(0.01))\n",
    "\n",
    "        \"\"\" Model \"\"\"\n",
    "        mu = numpyro.deterministic(\n",
    "            site.mu,\n",
    "            L[subject, feature0]\n",
    "            + jnp.maximum(\n",
    "                0,\n",
    "                -1\n",
    "                + (H[subject, feature0] + 1)\n",
    "                / jnp.power(\n",
    "                    1\n",
    "                    + (jnp.power(1 + H[subject, feature0], v[subject, feature0]) - 1)\n",
    "                    * jnp.exp(-b[subject, feature0] * (intensity - a[subject, feature0])),\n",
    "                    1 / v[subject, feature0]\n",
    "                )\n",
    "            )\n",
    "        )\n",
    "        beta = numpyro.deterministic(\n",
    "            site.beta,\n",
    "            g_1[subject, feature0] + g_2[subject, feature0] * (1 / mu) ** 2\n",
    "        )\n",
    "\n",
    "        \"\"\" Penalty \"\"\"\n",
    "        penalty = (jnp.fabs(baseline + delta) - (baseline + delta))\n",
    "        numpyro.factor(\"penalty\", -penalty)\n",
    "\n",
    "        \"\"\" Observation \"\"\"\n",
    "        with numpyro.plate(site.data, n_data):\n",
    "            return numpyro.sample(\n",
    "                site.obs,\n",
    "                dist.Gamma(concentration=mu * beta, rate=beta).to_event(1),\n",
    "                obs=response_obs\n",
    "            )\n"
   ]
  },
  {
   "cell_type": "code",
   "execution_count": 3,
   "metadata": {},
   "outputs": [
    {
     "name": "stderr",
     "output_type": "stream",
     "text": [
      "2023-09-26 12:06:02,476 - hbmep.config - INFO - Verifying configuration ...\n",
      "2023-09-26 12:06:02,476 - hbmep.config - INFO - Success!\n",
      "2023-09-26 12:06:02,490 - hbmep.model.baseline - INFO - Initialized model with hierarchical_bayesian link\n"
     ]
    }
   ],
   "source": [
    "root_path = Path(os.getcwd()).parent.parent.parent.absolute()\n",
    "toml_path = os.path.join(root_path, \"configs/human/intraoperative/config.toml\")\n",
    "\n",
    "config = Config(toml_path=toml_path)\n",
    "\n",
    "model = HierarchicalBayesianModel(config=config)\n"
   ]
  },
  {
   "cell_type": "code",
   "execution_count": 4,
   "metadata": {},
   "outputs": [
    {
     "name": "stderr",
     "output_type": "stream",
     "text": [
      "2023-09-26 12:06:02,549 - hbmep.dataset.core - INFO - Artefacts will be stored here - /home/vishu/repos/hbmep-paper/reports/human/intraoperative\n",
      "2023-09-26 12:06:02,549 - hbmep.dataset.core - INFO - Copied config to /home/vishu/repos/hbmep-paper/reports/human/intraoperative\n",
      "2023-09-26 12:06:02,550 - hbmep.dataset.core - INFO - Processing data ...\n",
      "2023-09-26 12:06:02,551 - hbmep.utils.utils - INFO - func:load took: 0.00 sec\n"
     ]
    }
   ],
   "source": [
    "src = \"/home/vishu/data/hbmep-processed/human/intraoperative/data.csv\"\n",
    "df = pd.read_csv(src)\n",
    "\n",
    "subset = [\n",
    "    'scapptio001'\n",
    "]\n",
    "ind = ~df[model.subject].isin(subset)\n",
    "df = df[ind].reset_index(drop=True).copy()\n",
    "\n",
    "df, encoder_dict = model.load(df=df)"
   ]
  },
  {
   "cell_type": "code",
   "execution_count": 5,
   "metadata": {},
   "outputs": [
    {
     "name": "stderr",
     "output_type": "stream",
     "text": [
      "2023-09-26 12:06:02,586 - hbmep.model.baseline - INFO - Running inference with hierarchical_bayesian ...\n"
     ]
    },
    {
     "data": {
      "application/vnd.jupyter.widget-view+json": {
       "model_id": "53f5f6d9515f4727811042514b04d7a4",
       "version_major": 2,
       "version_minor": 0
      },
      "text/plain": [
       "  0%|          | 0/1500 [00:00<?, ?it/s]"
      ]
     },
     "metadata": {},
     "output_type": "display_data"
    },
    {
     "data": {
      "application/vnd.jupyter.widget-view+json": {
       "model_id": "03360edc27254db8b2fe036293aa9f0b",
       "version_major": 2,
       "version_minor": 0
      },
      "text/plain": [
       "  0%|          | 0/1500 [00:00<?, ?it/s]"
      ]
     },
     "metadata": {},
     "output_type": "display_data"
    },
    {
     "data": {
      "application/vnd.jupyter.widget-view+json": {
       "model_id": "fc4f148b80db4cc09d21e85f5e185037",
       "version_major": 2,
       "version_minor": 0
      },
      "text/plain": [
       "  0%|          | 0/1500 [00:00<?, ?it/s]"
      ]
     },
     "metadata": {},
     "output_type": "display_data"
    },
    {
     "data": {
      "application/vnd.jupyter.widget-view+json": {
       "model_id": "f48c71f849bd466e929643fb70fecc43",
       "version_major": 2,
       "version_minor": 0
      },
      "text/plain": [
       "  0%|          | 0/1500 [00:00<?, ?it/s]"
      ]
     },
     "metadata": {},
     "output_type": "display_data"
    },
    {
     "name": "stderr",
     "output_type": "stream",
     "text": [
      "2023-09-26 12:08:01,162 - hbmep.utils.utils - INFO - func:run_inference took: 1 min and 58.58 sec\n"
     ]
    }
   ],
   "source": [
    "mcmc, posterior_samples = model.run_inference(df=df)\n"
   ]
  },
  {
   "cell_type": "code",
   "execution_count": 6,
   "metadata": {},
   "outputs": [
    {
     "name": "stdout",
     "output_type": "stream",
     "text": [
      "\n",
      "                         mean       std    median      2.5%     97.5%     n_eff     r_hat\n",
      "           H[0,0,0]      7.11      5.23      5.86      0.66     17.29   2583.81      1.00\n",
      "           H[0,1,0]      9.27      7.55      7.12      0.90     24.25   2077.81      1.00\n",
      "           H[1,0,0]      1.49      0.07      1.48      1.35      1.64   1094.50      1.01\n",
      "           H[1,1,0]      8.78      7.83      6.54      0.31     23.57   2253.75      1.00\n",
      "           H[2,0,0]      5.59      5.24      4.35      0.02     15.64   1434.27      1.00\n",
      "           H[2,1,0]      8.48      7.52      6.42      0.17     22.96   2487.99      1.00\n",
      "           H[3,0,0]      2.03      3.62      0.53      0.39     10.36     71.82      1.04\n",
      "           H[3,1,0]      8.56      7.73      6.41      0.21     23.63   2247.55      1.00\n",
      "           H[4,0,0]      5.98      4.14      3.88      2.96     14.59    993.73      1.00\n",
      "           H[4,1,0]      6.97      7.69      4.31      0.19     22.57   1614.82      1.00\n",
      "           H[5,0,0]      1.94      0.35      1.97      1.29      2.67   2151.77      1.00\n",
      "           H[5,1,0]      6.03      5.65      4.01      2.31     17.36    741.84      1.01\n",
      "           H[6,0,0]      0.99      0.17      0.97      0.69      1.33   2926.67      1.00\n",
      "           H[6,1,0]      8.88      7.61      6.60      0.62     23.88   2551.38      1.00\n",
      "           H[7,0,0]     11.56      1.81     11.34      8.32     14.83   1770.87      1.00\n",
      "           H[7,1,0]      9.58      6.70      7.31      2.83     23.55   1611.48      1.00\n",
      "           H[8,0,0]     13.68      0.15     13.68     13.39     13.96    268.74      1.01\n",
      "           H[8,1,0]     10.97      0.50     10.94     10.06     11.99   3084.79      1.00\n",
      "           H[9,0,0]     10.00      4.11      8.77      5.08     18.30   1781.03      1.00\n",
      "           H[9,1,0]      7.62      7.63      5.28      0.55     22.96   1747.46      1.00\n",
      "          H[10,0,0]      0.20      0.02      0.20      0.17      0.24   1258.37      1.00\n",
      "          H[10,1,0]      8.01      7.62      6.04      0.04     22.80   1916.88      1.00\n",
      "          H[11,0,0]      1.92      2.26      1.31      0.61      5.58    647.58      1.01\n",
      "          H[11,1,0]      8.48      7.53      6.42      0.16     23.16   2702.81      1.00\n",
      "           L[0,0,0]      0.40      0.11      0.40      0.18      0.59    785.21      1.01\n",
      "           L[0,1,0]      0.19      0.05      0.20      0.03      0.25    331.80      1.01\n",
      "           L[1,0,0]      0.05      0.02      0.05      0.03      0.11    505.22      1.00\n",
      "           L[1,1,0]      0.06      0.00      0.06      0.05      0.06   2906.47      1.00\n",
      "           L[2,0,0]      0.07      0.02      0.07      0.03      0.09    624.03      1.01\n",
      "           L[2,1,0]      0.05      0.01      0.05      0.04      0.06    282.98      1.01\n",
      "           L[3,0,0]      0.03      0.01      0.03      0.01      0.04     89.48      1.03\n",
      "           L[3,1,0]      0.03      0.00      0.03      0.03      0.04    382.71      1.02\n",
      "           L[4,0,0]      0.89      0.02      0.89      0.84      0.93   2935.43      1.00\n",
      "           L[4,1,0]      0.20      0.06      0.20      0.06      0.31    551.87      1.00\n",
      "           L[5,0,0]      0.32      0.27      0.25      0.00      0.83   1823.13      1.00\n",
      "           L[5,1,0]      0.14      0.12      0.11      0.00      0.36   2710.35      1.00\n",
      "           L[6,0,0]      0.03      0.00      0.03      0.02      0.03   3331.07      1.00\n",
      "           L[6,1,0]      0.02      0.00      0.02      0.02      0.03   3178.81      1.00\n",
      "           L[7,0,0]      0.09      0.01      0.08      0.07      0.11   2600.94      1.00\n",
      "           L[7,1,0]      0.08      0.00      0.08      0.08      0.09   3465.25      1.00\n",
      "           L[8,0,0]      0.07      0.02      0.07      0.04      0.10   3193.11      1.00\n",
      "           L[8,1,0]      0.13      0.05      0.12      0.05      0.24    919.80      1.00\n",
      "           L[9,0,0]      0.13      0.01      0.13      0.12      0.14   3320.42      1.00\n",
      "           L[9,1,0]      0.11      0.01      0.11      0.10      0.13   2043.00      1.00\n",
      "          L[10,0,0]      0.03      0.00      0.03      0.03      0.03   4139.41      1.00\n",
      "          L[10,1,0]      0.03      0.00      0.03      0.03      0.03   4086.45      1.00\n",
      "          L[11,0,0]      0.28      0.03      0.27      0.22      0.34    969.54      1.00\n",
      "          L[11,1,0]      0.26      0.00      0.26      0.25      0.27   3131.13      1.00\n",
      "           b[0,0,0]      1.00      0.82      0.77      0.06      2.56    863.18      1.00\n",
      "           b[0,1,0]      2.52      1.69      2.12      0.10      5.77   1255.81      1.00\n",
      "           b[1,0,0]      3.67      2.11      3.20      1.03      7.49    669.34      1.00\n",
      "           b[1,1,0]      3.89      2.73      3.26      0.24      8.99   1145.90      1.00\n",
      "           b[2,0,0]      0.27      0.73      0.12      0.00      0.76    465.00      1.01\n",
      "           b[2,1,0]      1.24      0.88      1.05      0.04      2.94   1103.21      1.00\n",
      "           b[3,0,0]      0.98      0.83      0.75      0.03      2.59    321.61      1.01\n",
      "           b[3,1,0]      1.21      0.90      1.00      0.05      3.02    837.09      1.01\n",
      "           b[4,0,0]      4.06      3.43      3.13      0.20     10.42    568.39      1.00\n",
      "           b[4,1,0]      3.93      3.01      3.21      0.19      9.44   1226.76      1.00\n",
      "           b[5,0,0]      5.25      4.05      4.07      0.62     13.05    362.74      1.00\n",
      "           b[5,1,0]      3.17      2.65      2.41      0.16      8.27   1313.72      1.00\n",
      "           b[6,0,0]      6.26      3.90      5.28      1.33     13.73    325.06      1.00\n",
      "           b[6,1,0]      3.08      2.02      2.64      0.20      7.14   1042.46      1.00\n",
      "           b[7,0,0]      3.52      2.97      2.67      0.37      9.26    537.28      1.00\n",
      "           b[7,1,0]      4.64      3.55      3.64      0.46     11.46   1036.88      1.00\n",
      "           b[8,0,0]      5.70      4.42      4.29      3.29     16.50     70.93      1.04\n",
      "           b[8,1,0]      7.12      3.78      6.36      1.71     14.43   1114.45      1.00\n",
      "           b[9,0,0]      2.70      1.95      2.16      0.29      6.51    753.54      1.00\n",
      "           b[9,1,0]      3.88      2.81      3.25      0.23      9.40   1173.34      1.00\n",
      "          b[10,0,0]      2.37      2.01      1.74      0.52      6.22    774.40      1.00\n",
      "          b[10,1,0]      1.56      1.95      0.92      0.02      5.43   1167.15      1.00\n",
      "          b[11,0,0]      4.22      3.28      3.31      0.28     10.31    572.47      1.00\n",
      "          b[11,1,0]      1.12      0.81      0.94      0.07      2.75   1345.81      1.00\n",
      "    baseline[0,0,0]      1.82      0.93      1.82      0.09      3.37   1203.88      1.01\n",
      "    baseline[1,0,0]      1.32      0.05      1.31      1.22      1.43    500.64      1.00\n",
      "    baseline[2,0,0]      2.63      1.29      2.66      0.26      4.49    567.09      1.01\n",
      "    baseline[3,0,0]      4.15      0.32      4.28      3.51      4.58     29.73      1.10\n",
      "    baseline[4,0,0]      5.48      0.71      5.28      4.54      7.05   1105.23      1.00\n",
      "    baseline[5,0,0]      0.68      0.45      0.61      0.00      1.46   2150.10      1.00\n",
      "    baseline[6,0,0]      3.20      0.16      3.17      2.99      3.51   1238.79      1.00\n",
      "    baseline[7,0,0]      1.21      0.19      1.21      0.90      1.57   1366.57      1.00\n",
      "    baseline[8,0,0]      1.98      0.01      1.97      1.96      1.99    452.88      1.01\n",
      "    baseline[9,0,0]      1.66      0.06      1.67      1.55      1.76   1853.56      1.00\n",
      "   baseline[10,0,0]      3.38      0.23      3.36      3.00      3.80   1332.91      1.00\n",
      "   baseline[11,0,0]      3.02      0.15      2.98      2.82      3.40    708.87      1.00\n",
      "       delta[0,0,0]      3.27      1.03      3.29      1.41      5.21    714.29      1.00\n",
      "       delta[1,0,0]      1.31      0.09      1.33      1.12      1.46    920.91      1.00\n",
      "       delta[2,0,0]      2.22      1.29      2.14      0.19      4.69    605.63      1.01\n",
      "       delta[3,0,0]      2.63      0.56      2.70      1.73      3.81     97.35      1.06\n",
      "       delta[4,0,0]      1.75      0.90      1.98     -0.23      3.11    615.55      1.00\n",
      "       delta[5,0,0]      0.79      1.19      0.75     -1.45      3.04   1228.94      1.01\n",
      "       delta[6,0,0]      1.42      0.17      1.45      1.08      1.69   1125.17      1.00\n",
      "       delta[7,0,0]      4.04      0.25      4.05      3.55      4.51   1286.45      1.00\n",
      "       delta[8,0,0]      4.65      0.12      4.63      4.40      4.81    369.86      1.01\n",
      "       delta[9,0,0]      3.83      0.08      3.82      3.69      3.98    612.66      1.01\n",
      "      delta[10,0,0]      5.59      0.61      5.58      4.53      6.66   1383.72      1.01\n",
      "      delta[11,0,0]      0.60      0.36      0.60     -0.11      1.34   1691.39      1.00\n",
      "         g_1[0,0,0]     49.57     42.98     38.42      0.03    133.34   2916.53      1.00\n",
      "         g_1[0,1,0]     14.61     10.97     12.43      0.01     35.53   2516.87      1.00\n",
      "         g_1[1,0,0]     90.53     32.22     86.16     34.27    154.53   2798.97      1.00\n",
      "         g_1[1,1,0]      4.86      3.66      4.06      0.00     11.94   3195.31      1.00\n",
      "         g_1[2,0,0]    134.92    123.85     99.09      0.10    380.02   2432.25      1.00\n",
      "         g_1[2,1,0]     82.32     40.68     78.77      5.37    155.37   1589.46      1.00\n",
      "         g_1[3,0,0]    107.47     48.48    100.28     25.08    205.73    253.74      1.01\n",
      "         g_1[3,1,0]    110.97     65.61    100.56      5.02    237.86    544.12      1.01\n",
      "         g_1[4,0,0]      1.57      1.46      1.15      0.00      4.50   4110.89      1.00\n",
      "         g_1[4,1,0]      1.22      0.61      1.14      0.13      2.40   2631.34      1.00\n",
      "         g_1[5,0,0]      0.73      0.50      0.66      0.00      1.67   2438.86      1.00\n",
      "         g_1[5,1,0]      4.40      3.13      3.94      0.00     10.16   2043.19      1.00\n",
      "         g_1[6,0,0]      0.11      0.11      0.08      0.00      0.33   3267.89      1.00\n",
      "         g_1[6,1,0]      2.41      0.94      2.29      0.74      4.21   3421.37      1.00\n",
      "         g_1[7,0,0]      0.35      0.10      0.34      0.16      0.53   2632.01      1.00\n",
      "         g_1[7,1,0]      0.96      0.49      0.89      0.10      1.89   4072.30      1.00\n",
      "         g_1[8,0,0]     25.67      5.76     25.30     14.72     36.76   2193.31      1.00\n",
      "         g_1[8,1,0]      3.44      1.14      3.33      1.42      5.72   2442.63      1.00\n",
      "         g_1[9,0,0]      0.90      0.32      0.87      0.33      1.55   3267.99      1.00\n",
      "         g_1[9,1,0]     18.60      6.80     17.90      5.99     31.60   2600.65      1.00\n",
      "        g_1[10,0,0]    133.69     99.20    114.44      0.22    325.15   3220.73      1.00\n",
      "        g_1[10,1,0]     40.03     40.41     28.04      0.05    119.81   3847.36      1.00\n",
      "        g_1[11,0,0]      0.69      0.61      0.53      0.00      1.91   3403.21      1.00\n",
      "        g_1[11,1,0]     32.47     30.95     23.12      0.00     96.65   2925.27      1.00\n",
      "         g_2[0,0,0]     64.99     44.76     57.83      0.09    148.43   2962.10      1.00\n",
      "         g_2[0,1,0]     12.87      6.30     12.30      1.64     24.98   2291.51      1.00\n",
      "         g_2[1,0,0]      1.16      1.13      0.79      0.00      3.37   2414.53      1.00\n",
      "         g_2[1,1,0]      0.65      0.18      0.64      0.32      1.01   3069.00      1.00\n",
      "         g_2[2,0,0]      6.51      2.82      6.36      0.75     11.62   2286.83      1.00\n",
      "         g_2[2,1,0]      0.59      0.36      0.54      0.00      1.25   1737.86      1.00\n",
      "         g_2[3,0,0]      1.25      0.89      1.06      0.03      2.94   2224.54      1.00\n",
      "         g_2[3,1,0]      0.40      0.21      0.37      0.00      0.78    615.72      1.02\n",
      "         g_2[4,0,0]    139.25     45.15    135.39     54.64    227.54   3205.86      1.00\n",
      "         g_2[4,1,0]      0.24      0.10      0.23      0.06      0.44   2938.24      1.00\n",
      "         g_2[5,0,0]      4.14      2.46      3.97      0.00      8.46   2276.45      1.00\n",
      "         g_2[5,1,0]     36.18     25.62     32.13      0.00     84.07   2210.88      1.00\n",
      "         g_2[6,0,0]      0.97      0.20      0.96      0.62      1.40   2607.22      1.00\n",
      "         g_2[6,1,0]      0.34      0.08      0.34      0.20      0.49   3428.14      1.00\n",
      "         g_2[7,0,0]      0.92      0.36      0.87      0.32      1.65   3291.47      1.00\n",
      "         g_2[7,1,0]      5.05      1.61      4.92      2.19      8.33   2625.64      1.00\n",
      "         g_2[8,0,0]      0.02      0.02      0.01      0.00      0.06   3937.65      1.00\n",
      "         g_2[8,1,0]      0.13      0.09      0.11      0.00      0.31   3454.03      1.00\n",
      "         g_2[9,0,0]      6.40      1.52      6.30      3.66      9.46   3507.98      1.00\n",
      "         g_2[9,1,0]      1.41      0.44      1.38      0.53      2.26   2265.53      1.00\n",
      "        g_2[10,0,0]      8.60      1.88      8.50      4.98     12.13   3714.75      1.00\n",
      "        g_2[10,1,0]      8.92      1.34      8.87      6.34     11.50   3710.66      1.00\n",
      "        g_2[11,0,0]      3.82      0.92      3.76      2.08      5.69   3387.43      1.00\n",
      "        g_2[11,1,0]     36.73      8.12     36.57     21.12     53.06   3110.01      1.00\n",
      "   mu_baseline[0,0]      1.72      0.87      1.77      0.04      3.09   1706.17      1.00\n",
      "      mu_delta[0,0]      2.64      0.61      2.65      1.43      3.84   2114.97      1.00\n",
      "sigma_baseline[0,0]      2.33      0.82      2.20      1.04      3.97   1734.10      1.00\n",
      "   sigma_delta[0,0]      1.96      0.55      1.87      1.06      2.99   2001.92      1.00\n",
      "           v[0,0,0]      8.90      7.24      6.99      0.02     22.93    794.43      1.00\n",
      "           v[0,1,0]     16.43     10.97     13.95      0.43     38.05   1310.25      1.00\n",
      "           v[1,0,0]      4.31      3.38      3.65      0.00     10.25    621.38      1.00\n",
      "           v[1,1,0]     12.24      8.76     10.16      0.29     29.27   1157.89      1.00\n",
      "           v[2,0,0]      8.57      7.39      6.69      0.00     23.19    871.72      1.00\n",
      "           v[2,1,0]     18.18     12.34     15.74      0.21     42.21   1157.73      1.00\n",
      "           v[3,0,0]      7.46      7.22      5.25      0.00     21.38    835.44      1.00\n",
      "           v[3,1,0]     18.42     12.36     15.80      0.03     42.23   1102.37      1.00\n",
      "           v[4,0,0]      5.37      5.25      3.89      0.01     15.38    649.50      1.00\n",
      "           v[4,1,0]     11.08      8.97      8.97      0.01     28.60   1147.73      1.00\n",
      "           v[5,0,0]      3.70      3.96      2.49      0.00     11.41    949.14      1.00\n",
      "           v[5,1,0]      9.60      9.10      6.91      0.00     27.62   1127.27      1.00\n",
      "           v[6,0,0]      2.99      3.04      2.06      0.01      8.93   1129.18      1.00\n",
      "           v[6,1,0]     15.19      9.92     12.97      0.72     35.47   1047.36      1.00\n",
      "           v[7,0,0]      5.49      4.88      4.20      0.02     15.20    554.23      1.00\n",
      "           v[7,1,0]      5.75      4.87      4.45      0.00     15.25   1038.21      1.00\n",
      "           v[8,0,0]      0.24      0.34      0.14      0.00      0.74    631.07      1.00\n",
      "           v[8,1,0]      4.38      2.78      3.88      0.00      9.57    957.13      1.00\n",
      "           v[9,0,0]      8.04      5.86      6.46      0.41     19.28    734.14      1.00\n",
      "           v[9,1,0]     11.22      8.31      9.38      0.02     27.63   1161.83      1.00\n",
      "          v[10,0,0]      5.11      5.32      3.47      0.00     15.22   1235.87      1.00\n",
      "          v[10,1,0]     17.04     12.02     14.58      0.12     40.20   1076.23      1.01\n",
      "          v[11,0,0]      4.13      4.15      2.93      0.00     12.35    680.93      1.00\n",
      "          v[11,1,0]     18.13     12.37     15.65      0.14     41.93   1213.56      1.00\n",
      "           σ_H[0,0]      7.88      2.25      7.45      4.48     12.58   1425.25      1.00\n",
      "           σ_H[1,0]     10.50      4.43      9.54      3.80     19.49   1229.53      1.00\n",
      "           σ_L[0,0]      0.36      0.09      0.34      0.21      0.53   2580.82      1.00\n",
      "           σ_L[1,0]      0.15      0.04      0.15      0.09      0.24   2092.37      1.00\n",
      "           σ_b[0,0]      4.61      2.50      3.94      1.52      9.69    157.80      1.01\n",
      "           σ_b[1,0]      4.34      2.09      3.95      1.16      8.52    752.61      1.00\n",
      "           σ_v[0,0]      7.30      4.21      6.47      0.71     15.62    477.04      1.00\n",
      "           σ_v[1,0]     15.20      5.86     14.64      4.60     26.61    703.47      1.00\n",
      "\n",
      "Number of divergences: 274\n"
     ]
    }
   ],
   "source": [
    "mcmc.print_summary(prob=.95)"
   ]
  },
  {
   "cell_type": "code",
   "execution_count": 7,
   "metadata": {},
   "outputs": [
    {
     "name": "stderr",
     "output_type": "stream",
     "text": [
      "2023-09-26 12:08:01,454 - hbmep.utils.utils - INFO - func:make_prediction_dataset took: 0.01 sec\n"
     ]
    },
    {
     "data": {
      "text/plain": [
       "(2400, 3)"
      ]
     },
     "execution_count": 7,
     "metadata": {},
     "output_type": "execute_result"
    }
   ],
   "source": [
    "prediction_df = model.make_prediction_dataset(df=df)\n",
    "prediction_df.shape"
   ]
  },
  {
   "cell_type": "code",
   "execution_count": 8,
   "metadata": {},
   "outputs": [
    {
     "name": "stderr",
     "output_type": "stream",
     "text": [
      "2023-09-26 12:08:05,484 - hbmep.utils.utils - INFO - func:predict took: 3.95 sec\n"
     ]
    }
   ],
   "source": [
    "posterior_predictive = model.predict(df=prediction_df, posterior_samples=posterior_samples)"
   ]
  },
  {
   "cell_type": "code",
   "execution_count": 9,
   "metadata": {},
   "outputs": [
    {
     "name": "stderr",
     "output_type": "stream",
     "text": [
      "2023-09-26 12:08:05,527 - hbmep.model.baseline - INFO - Rendering ...\n",
      "2023-09-26 12:08:09,900 - hbmep.model.baseline - INFO - Saved to /home/vishu/repos/hbmep-paper/reports/human/intraoperative/recruitment_curves.pdf\n",
      "2023-09-26 12:08:09,900 - hbmep.utils.utils - INFO - func:render_recruitment_curves took: 4.39 sec\n"
     ]
    }
   ],
   "source": [
    "model.render_recruitment_curves(df=df, encoder_dict=encoder_dict, posterior_samples=posterior_samples, prediction_df=prediction_df, posterior_predictive=posterior_predictive)\n"
   ]
  },
  {
   "cell_type": "code",
   "execution_count": 10,
   "metadata": {},
   "outputs": [
    {
     "name": "stderr",
     "output_type": "stream",
     "text": [
      "2023-09-26 12:08:09,956 - hbmep.model.baseline - INFO - Rendering Posterior Predictive Check ...\n"
     ]
    },
    {
     "name": "stderr",
     "output_type": "stream",
     "text": [
      "2023-09-26 12:08:14,951 - hbmep.model.baseline - INFO - Saved to /home/vishu/repos/hbmep-paper/reports/human/intraoperative/posterior_predictive_check.pdf\n",
      "2023-09-26 12:08:14,952 - hbmep.utils.utils - INFO - func:_render_predictive_check took: 5.02 sec\n",
      "2023-09-26 12:08:14,952 - hbmep.utils.utils - INFO - func:render_predictive_check took: 5.02 sec\n"
     ]
    }
   ],
   "source": [
    "model.render_predictive_check(df=df, encoder_dict=encoder_dict, prediction_df=prediction_df, posterior_predictive=posterior_predictive)\n"
   ]
  },
  {
   "cell_type": "code",
   "execution_count": 11,
   "metadata": {},
   "outputs": [
    {
     "data": {
      "text/plain": [
       "(4000, 1, 1)"
      ]
     },
     "execution_count": 11,
     "metadata": {},
     "output_type": "execute_result"
    }
   ],
   "source": [
    "mu_delta = posterior_samples[\"mu_delta\"]\n",
    "mu_delta.shape\n"
   ]
  },
  {
   "cell_type": "code",
   "execution_count": 12,
   "metadata": {},
   "outputs": [
    {
     "data": {
      "text/plain": [
       "array(['L', 'M'], dtype=object)"
      ]
     },
     "execution_count": 12,
     "metadata": {},
     "output_type": "execute_result"
    }
   ],
   "source": [
    "encoder_dict[model.features[0]].inverse_transform(np.array([0, 1]))"
   ]
  },
  {
   "cell_type": "code",
   "execution_count": 13,
   "metadata": {},
   "outputs": [
    {
     "data": {
      "text/plain": [
       "<matplotlib.legend.Legend at 0x7fcfa0147410>"
      ]
     },
     "execution_count": 13,
     "metadata": {},
     "output_type": "execute_result"
    },
    {
     "data": {
      "image/png": "[encoded data removed]",
      "text/plain": [
       "<Figure size 640x480 with 1 Axes>"
      ]
     },
     "metadata": {},
     "output_type": "display_data"
    }
   ],
   "source": [
    "posterior = mu_delta.reshape(-1,)\n",
    "prior = dist.Normal(0, 10).sample(model.rng_key, sample_shape=(100,))\n",
    "\n",
    "sns.kdeplot(posterior, label=\"Posterior\")\n",
    "sns.kdeplot(prior, label=\"Prior / Null Model\")\n",
    "\n",
    "plt.title(f\"Pr (Midline > Lateral) = {(posterior > 0).mean():.2f}\")\n",
    "plt.xlabel(\"α\")\n",
    "plt.legend(loc=\"upper left\")"
   ]
  },
  {
   "cell_type": "code",
   "execution_count": 14,
   "metadata": {},
   "outputs": [],
   "source": [
    "import pickle\n",
    "\n",
    "dest = os.path.join(model.build_dir, \"inference.pkl\")\n",
    "with open(dest, \"wb\") as f:\n",
    "    pickle.dump((model, mcmc, posterior_samples), f)"
   ]
  },
  {
   "cell_type": "code",
   "execution_count": 15,
   "metadata": {},
   "outputs": [],
   "source": [
    "# import pickle\n",
    "\n",
    "# with open(dest, \"rb\") as g:\n",
    "#     model_, mcmc_, posterior_samples_ = pickle.load(g)\n"
   ]
  },
  {
   "cell_type": "code",
   "execution_count": null,
   "metadata": {},
   "outputs": [],
   "source": []
  }
 ],
 "metadata": {
  "kernelspec": {
   "display_name": "Python 3 (ipykernel)",
   "language": "python",
   "name": "python3"
  },
  "orig_nbformat": 4
 },
 "nbformat": 4,
 "nbformat_minor": 2
}
