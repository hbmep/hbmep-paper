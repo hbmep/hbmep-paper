{
 "cells": [
  {
   "cell_type": "code",
   "execution_count": 1,
   "metadata": {},
   "outputs": [],
   "source": [
    "%reload_ext autoreload\n",
    "%autoreload 2\n",
    "\n",
    "import os\n",
    "import glob\n",
    "from pathlib import Path\n",
    "\n",
    "import numpy as np\n",
    "import pandas as pd\n",
    "\n",
    "from tqdm import tqdm\n",
    "from hbmep.utils import timing\n",
    "import mat73\n",
    "import tomllib"
   ]
  },
  {
   "cell_type": "code",
   "execution_count": 2,
   "metadata": {},
   "outputs": [],
   "source": [
    "MUSCLES = [\"ADM\", \"APB\", \"Biceps\", \"ECR\", \"FCR\", \"Triceps\"]\n",
    "PKPK_MUSCLES = [\"PKPK_\" + m for m in MUSCLES]\n",
    "AUC_MUSCLES = [\"AUC_\" + m for m in MUSCLES]\n",
    "\n",
    "@timing\n",
    "def load_tms_data(\n",
    "    dir: Path,\n",
    "    subjects: list[str]\n",
    "):\n",
    "    df = None\n",
    "\n",
    "    for subject in tqdm(subjects):\n",
    "        subdir = os.path.join(dir, subject)\n",
    "\n",
    "        fpath = glob.glob(f\"{subdir}/*REC_table.csv\")[0]\n",
    "        temp_df = pd.read_csv(fpath)\n",
    "\n",
    "        fpath = glob.glob(f\"{subdir}/*ep_matrix.mat\")[0]\n",
    "        data_dict = mat73.loadmat(fpath)\n",
    "\n",
    "        temp_mat = data_dict[\"ep_sliced\"]\n",
    "\n",
    "        fpath = glob.glob(f\"{subdir}/*cfg_proc.toml\")[0]\n",
    "        with open(fpath, \"rb\") as f:\n",
    "            cfg_proc = tomllib.load(f)\n",
    "\n",
    "        temp_df[\"participant\"] = subject\n",
    "\n",
    "        # Rename columns to actual muscle names\n",
    "        muscles = cfg_proc[\"st\"][\"channel\"]\n",
    "        pkpk_muscles_map = {\n",
    "            f\"pkpk_{i + 1}\": \"PKPK_\" + m for i, m in enumerate(muscles)\n",
    "        }\n",
    "        auc_muscles_map = {\n",
    "            f\"auc_{i + 1}\": \"AUC_\" + m for i, m in enumerate(muscles)\n",
    "        }\n",
    "        temp_df = temp_df.rename(columns=pkpk_muscles_map).copy()\n",
    "        temp_df = temp_df.rename(columns=auc_muscles_map).copy()\n",
    "\n",
    "        # Reorder MEP matrix\n",
    "        temp_mat = temp_mat[..., np.argsort(muscles)]\n",
    "\n",
    "        assert temp_df[\"target_muscle\"].unique().shape[0] == 1\n",
    "        side = temp_df[\"target_muscle\"].unique()[0][0]\n",
    "\n",
    "        pkpk_side_muscles = [\"PKPK_\" + side + muscle for muscle in MUSCLES]\n",
    "        temp_df[PKPK_MUSCLES] = temp_df[pkpk_side_muscles]\n",
    "\n",
    "        auc_side_muscles = [\"AUC_\" + side + muscle for muscle in MUSCLES]\n",
    "        temp_df[AUC_MUSCLES] = temp_df[auc_side_muscles]\n",
    "\n",
    "        ind = [i for i, m in enumerate(sorted(muscles)) if m in pkpk_side_muscles]\n",
    "        temp_mat = temp_mat[..., ind]\n",
    "\n",
    "        if df is None:\n",
    "            df = temp_df.copy()\n",
    "            mat = temp_mat\n",
    "\n",
    "            # time = data_dict[\"t_sliced\"]\n",
    "            # auc_window = cfg_proc[\"auc\"][\"t_slice_minmax\"]\n",
    "            muscles_sorted = sorted(muscles)\n",
    "\n",
    "            assert len(set(muscles_sorted)) == len(muscles_sorted)\n",
    "            continue\n",
    "\n",
    "        # assert (data_dict[\"t_sliced\"] == time).all()\n",
    "        # assert cfg_proc[\"auc\"][\"t_slice_minmax\"] == auc_window\n",
    "        assert set(muscles) == set(muscles_sorted)\n",
    "\n",
    "        df = pd.concat([df, temp_df], ignore_index=True).reset_index(drop=True).copy()\n",
    "        mat = np.vstack((mat, temp_mat))\n",
    "\n",
    "    # Rename df response columns to auc_i\n",
    "    pkpk_muscles_map = {\n",
    "        m: f\"pkpk_{i + 1}\" for i, m in enumerate(muscles_sorted)\n",
    "    }\n",
    "    auc_muscles_map = {\n",
    "        m: f\"auc_{i + 1}\" for i, m in enumerate(muscles_sorted)\n",
    "    }\n",
    "    # df = df.rename(columns=muscles_map).reset_index(drop=True).copy()\n",
    "\n",
    "    # muscles_map = {\n",
    "    #     v: u for u, v in muscles_map.items()\n",
    "    # }\n",
    "    return df, mat, pkpk_muscles_map, auc_muscles_map"
   ]
  },
  {
   "cell_type": "code",
   "execution_count": 3,
   "metadata": {},
   "outputs": [
    {
     "name": "stderr",
     "output_type": "stream",
     "text": [
      "  0%|                                                     | 0/8 [00:00<?, ?it/s]"
     ]
    },
    {
     "name": "stderr",
     "output_type": "stream",
     "text": [
      "100%|█████████████████████████████████████████████| 8/8 [00:01<00:00,  4.77it/s]\n",
      "2023-10-06 16:04:22,403 - hbmep.utils.utils - INFO - func:load_tms_data took: 1.69 sec\n"
     ]
    },
    {
     "data": {
      "text/plain": [
       "(568, 114)"
      ]
     },
     "execution_count": 3,
     "metadata": {},
     "output_type": "execute_result"
    }
   ],
   "source": [
    "dir = \"/mount/hdd1/human_non-inv/proc\"\n",
    "subjects = [\"SCA01\", \"SCA02\", \"SCA04\", \"SCA05\", \"SCA06\", \"SCA10\", \"SCS01\", \"SCS03\"]\n",
    "\n",
    "df, mat, pkpk_muscles_map, auc_muscles_map = load_tms_data(dir=dir, subjects=subjects)\n",
    "\n",
    "df.shape"
   ]
  },
  {
   "cell_type": "code",
   "execution_count": 4,
   "metadata": {},
   "outputs": [
    {
     "data": {
      "text/plain": [
       "(568, 1501, 0)"
      ]
     },
     "execution_count": 4,
     "metadata": {},
     "output_type": "execute_result"
    }
   ],
   "source": [
    "mat.shape"
   ]
  },
  {
   "cell_type": "code",
   "execution_count": 5,
   "metadata": {},
   "outputs": [
    {
     "data": {
      "text/html": [
       "<div>\n",
       "<style scoped>\n",
       "    .dataframe tbody tr th:only-of-type {\n",
       "        vertical-align: middle;\n",
       "    }\n",
       "\n",
       "    .dataframe tbody tr th {\n",
       "        vertical-align: top;\n",
       "    }\n",
       "\n",
       "    .dataframe thead th {\n",
       "        text-align: right;\n",
       "    }\n",
       "</style>\n",
       "<table border=\"1\" class=\"dataframe\">\n",
       "  <thead>\n",
       "    <tr style=\"text-align: right;\">\n",
       "      <th></th>\n",
       "      <th>participant</th>\n",
       "      <th>target_muscle</th>\n",
       "    </tr>\n",
       "  </thead>\n",
       "  <tbody>\n",
       "    <tr>\n",
       "      <th>0</th>\n",
       "      <td>SCA01</td>\n",
       "      <td>LAPB</td>\n",
       "    </tr>\n",
       "    <tr>\n",
       "      <th>1</th>\n",
       "      <td>SCA02</td>\n",
       "      <td>RAPB</td>\n",
       "    </tr>\n",
       "    <tr>\n",
       "      <th>2</th>\n",
       "      <td>SCA04</td>\n",
       "      <td>RAPB</td>\n",
       "    </tr>\n",
       "    <tr>\n",
       "      <th>3</th>\n",
       "      <td>SCA05</td>\n",
       "      <td>RAPB</td>\n",
       "    </tr>\n",
       "    <tr>\n",
       "      <th>4</th>\n",
       "      <td>SCA06</td>\n",
       "      <td>RAPB</td>\n",
       "    </tr>\n",
       "    <tr>\n",
       "      <th>5</th>\n",
       "      <td>SCA10</td>\n",
       "      <td>RAPB</td>\n",
       "    </tr>\n",
       "    <tr>\n",
       "      <th>6</th>\n",
       "      <td>SCS01</td>\n",
       "      <td>LAPB</td>\n",
       "    </tr>\n",
       "    <tr>\n",
       "      <th>7</th>\n",
       "      <td>SCS03</td>\n",
       "      <td>RAPB</td>\n",
       "    </tr>\n",
       "  </tbody>\n",
       "</table>\n",
       "</div>"
      ],
      "text/plain": [
       "  participant target_muscle\n",
       "0       SCA01          LAPB\n",
       "1       SCA02          RAPB\n",
       "2       SCA04          RAPB\n",
       "3       SCA05          RAPB\n",
       "4       SCA06          RAPB\n",
       "5       SCA10          RAPB\n",
       "6       SCS01          LAPB\n",
       "7       SCS03          RAPB"
      ]
     },
     "execution_count": 5,
     "metadata": {},
     "output_type": "execute_result"
    }
   ],
   "source": [
    "target_df = df \\\n",
    "    .groupby(by=[\"participant\"], as_index=False) \\\n",
    "    .agg({\"target_muscle\": np.unique}) \\\n",
    "    .explode(column=\"target_muscle\") \\\n",
    "    .reset_index(drop=True) \\\n",
    "    .copy()\n",
    "\n",
    "target_df"
   ]
  },
  {
   "cell_type": "code",
   "execution_count": 7,
   "metadata": {},
   "outputs": [],
   "source": [
    "for subject in df.participant.unique():\n",
    "    ind = df.participant.isin([subject])\n",
    "    temp_df = df[ind].reset_index(drop=True).copy()\n",
    "\n",
    "    side = temp_df.target_muscle.unique()[0][0]\n",
    "    pkpk_sided_muscles = [\"PKPK_\" + side + m for m in MUSCLES]\n",
    "    auc_sided_muscles = [\"AUC_\" + side + m for m in MUSCLES]\n",
    "\n",
    "    assert (temp_df[PKPK_MUSCLES].to_numpy() == temp_df[pkpk_sided_muscles].to_numpy()).all()\n",
    "    assert (temp_df[AUC_MUSCLES].to_numpy() == temp_df[auc_sided_muscles].to_numpy()).all()\n"
   ]
  },
  {
   "cell_type": "code",
   "execution_count": 8,
   "metadata": {},
   "outputs": [],
   "source": [
    "dst = \"/home/vishu/data/hbmep-processed/human/tms\"\n",
    "df.to_csv(os.path.join(dst, \"data_pkpk_auc.csv\"), index=False)\n",
    "\n",
    "np.save(os.path.join(dst, \"mep_matrix_pkpk_auc.npy\"), mat)\n",
    "# np.save(os.path.join(dst, \"auc_window.npy\"), np.array(auc_window))"
   ]
  },
  {
   "cell_type": "code",
   "execution_count": 9,
   "metadata": {},
   "outputs": [],
   "source": [
    "import json\n",
    "\n",
    "f = open(os.path.join(dst, \"pkpk_muscles_map.json\"), \"w\")\n",
    "f.write(json.dumps(pkpk_muscles_map))\n",
    "f.close;\n",
    "\n",
    "f = open(os.path.join(dst, \"auc_muscles_map.json\"), \"w\")\n",
    "f.write(json.dumps(auc_muscles_map))\n",
    "f.close;"
   ]
  },
  {
   "cell_type": "code",
   "execution_count": 10,
   "metadata": {},
   "outputs": [
    {
     "data": {
      "text/plain": [
       "{'LADM': 'pkpk_1',\n",
       " 'LAPB': 'pkpk_2',\n",
       " 'LBiceps': 'pkpk_3',\n",
       " 'LECR': 'pkpk_4',\n",
       " 'LFCR': 'pkpk_5',\n",
       " 'LFDI': 'pkpk_6',\n",
       " 'LTA': 'pkpk_7',\n",
       " 'LTriceps': 'pkpk_8',\n",
       " 'RADM': 'pkpk_9',\n",
       " 'RAPB': 'pkpk_10',\n",
       " 'RBiceps': 'pkpk_11',\n",
       " 'RECR': 'pkpk_12',\n",
       " 'RFCR': 'pkpk_13',\n",
       " 'RFDI': 'pkpk_14',\n",
       " 'RTA': 'pkpk_15',\n",
       " 'RTriceps': 'pkpk_16',\n",
       " 'trigger_peripheral': 'pkpk_17',\n",
       " 'trigger_tms': 'pkpk_18',\n",
       " 'trigger_tscs': 'pkpk_19'}"
      ]
     },
     "execution_count": 10,
     "metadata": {},
     "output_type": "execute_result"
    }
   ],
   "source": [
    "pkpk_muscles_map"
   ]
  },
  {
   "cell_type": "code",
   "execution_count": 11,
   "metadata": {},
   "outputs": [
    {
     "data": {
      "text/plain": [
       "{'LADM': 'auc_1',\n",
       " 'LAPB': 'auc_2',\n",
       " 'LBiceps': 'auc_3',\n",
       " 'LECR': 'auc_4',\n",
       " 'LFCR': 'auc_5',\n",
       " 'LFDI': 'auc_6',\n",
       " 'LTA': 'auc_7',\n",
       " 'LTriceps': 'auc_8',\n",
       " 'RADM': 'auc_9',\n",
       " 'RAPB': 'auc_10',\n",
       " 'RBiceps': 'auc_11',\n",
       " 'RECR': 'auc_12',\n",
       " 'RFCR': 'auc_13',\n",
       " 'RFDI': 'auc_14',\n",
       " 'RTA': 'auc_15',\n",
       " 'RTriceps': 'auc_16',\n",
       " 'trigger_peripheral': 'auc_17',\n",
       " 'trigger_tms': 'auc_18',\n",
       " 'trigger_tscs': 'auc_19'}"
      ]
     },
     "execution_count": 11,
     "metadata": {},
     "output_type": "execute_result"
    }
   ],
   "source": [
    "auc_muscles_map"
   ]
  },
  {
   "cell_type": "code",
   "execution_count": 10,
   "metadata": {},
   "outputs": [
    {
     "name": "stdout",
     "output_type": "stream",
     "text": [
      "-0.15 0.15\n"
     ]
    }
   ],
   "source": [
    "fpath = os.path.join(dir, \"SCA01\", \"SCA01_V1T0_TMS_REC_ep_matrix.mat\")\n",
    "data_dict = mat73.loadmat(fpath)\n",
    "\n",
    "t = data_dict[\"t_sliced\"]\n",
    "print(t.min(), t.max())"
   ]
  },
  {
   "cell_type": "code",
   "execution_count": 11,
   "metadata": {},
   "outputs": [
    {
     "data": {
      "text/plain": [
       "(568, 108)"
      ]
     },
     "execution_count": 11,
     "metadata": {},
     "output_type": "execute_result"
    }
   ],
   "source": [
    "df.shape"
   ]
  },
  {
   "cell_type": "code",
   "execution_count": 12,
   "metadata": {},
   "outputs": [
    {
     "data": {
      "text/plain": [
       "(568, 1501, 6)"
      ]
     },
     "execution_count": 12,
     "metadata": {},
     "output_type": "execute_result"
    }
   ],
   "source": [
    "mat.shape\n"
   ]
  },
  {
   "cell_type": "code",
   "execution_count": 13,
   "metadata": {},
   "outputs": [
    {
     "data": {
      "text/plain": [
       "True"
      ]
     },
     "execution_count": 13,
     "metadata": {},
     "output_type": "execute_result"
    }
   ],
   "source": [
    "sorted(MUSCLES) == MUSCLES\n"
   ]
  },
  {
   "cell_type": "code",
   "execution_count": null,
   "metadata": {},
   "outputs": [],
   "source": []
  }
 ],
 "metadata": {
  "kernelspec": {
   "display_name": "Python 3 (ipykernel)",
   "language": "python",
   "name": "python3"
  },
  "language_info": {
   "codemirror_mode": {
    "name": "ipython",
    "version": 3
   },
   "file_extension": ".py",
   "mimetype": "text/x-python",
   "name": "python",
   "nbconvert_exporter": "python",
   "pygments_lexer": "ipython3",
   "version": "3.11.4"
  },
  "orig_nbformat": 4,
  "vscode": {
   "interpreter": {
    "hash": "850bfd4e6f5ddd996dd5cd5088beecd08558625e274540230e1444ec52025b11"
   }
  }
 },
 "nbformat": 4,
 "nbformat_minor": 2
}
