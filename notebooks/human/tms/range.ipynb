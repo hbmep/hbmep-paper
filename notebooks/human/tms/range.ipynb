{
 "cells": [
  {
   "cell_type": "code",
   "execution_count": 1,
   "metadata": {},
   "outputs": [],
   "source": [
    "%reload_ext autoreload\n",
    "%autoreload 2\n",
    "\n",
    "import os\n",
    "import logging\n",
    "import multiprocessing\n",
    "from pathlib import Path\n",
    "from tqdm import tqdm\n",
    "\n",
    "import arviz as az\n",
    "import matplotlib\n",
    "import matplotlib.pyplot as plt\n",
    "from matplotlib.backends.backend_pdf import PdfPages\n",
    "import seaborn as sns\n",
    "\n",
    "import numpy as np\n",
    "import jax\n",
    "import jax.numpy as jnp\n",
    "import pandas as pd\n",
    "import scipy.stats as stats\n",
    "import numpyro\n",
    "from numpyro.diagnostics import hpdi\n",
    "\n",
    "from hbmep.config import Config\n",
    "# from hbmep_paper.simulator import HierarchicalBayesianModel\n",
    "from hbmep.model.utils import Site as site\n",
    "\n",
    "PLATFORM = \"cpu\"\n",
    "jax.config.update(\"jax_platforms\", PLATFORM)\n",
    "numpyro.set_platform(PLATFORM)\n",
    "\n",
    "cpu_count = multiprocessing.cpu_count() - 2\n",
    "numpyro.set_host_device_count(cpu_count)\n",
    "numpyro.enable_x64()\n",
    "numpyro.enable_validation()\n",
    "\n",
    "logger = logging.getLogger(__name__)"
   ]
  },
  {
   "cell_type": "code",
   "execution_count": 2,
   "metadata": {},
   "outputs": [],
   "source": [
    "import numpyro.distributions as dist\n",
    "from hbmep.model import Baseline\n",
    "from hbmep_paper.utils.constants import HBM\n",
    "\n",
    "\n",
    "class HierarchicalBayesianModel(Baseline):\n",
    "    LINK = HBM\n",
    "\n",
    "    def __init__(self, config: Config):\n",
    "        super(HierarchicalBayesianModel, self).__init__(config=config)\n",
    "        self.combination_columns = self.features + [self.subject]\n",
    "\n",
    "    def _model(self, subject, features, intensity, response_obs=None):\n",
    "        intensity = intensity.reshape(-1, 1)\n",
    "        intensity = np.tile(intensity, (1, self.n_response))\n",
    "\n",
    "        feature0 = features[0].reshape(-1,)\n",
    "\n",
    "        n_data = intensity.shape[0]\n",
    "        n_subject = np.unique(subject).shape[0]\n",
    "        n_feature0 = np.unique(feature0).shape[0]\n",
    "\n",
    "        with numpyro.plate(site.n_response, self.n_response, dim=-1):\n",
    "            with numpyro.plate(\"n_feature0\", n_feature0, dim=-2):\n",
    "                \"\"\" Hyper-priors \"\"\"\n",
    "                mu_a = numpyro.sample(\n",
    "                    site.mu_a,\n",
    "                    dist.TruncatedNormal(50, 50, low=0, high=100)\n",
    "                )\n",
    "                sigma_a = numpyro.sample(site.sigma_a, dist.HalfNormal(50))\n",
    "\n",
    "                sigma_b = numpyro.sample(site.sigma_b, dist.HalfNormal(0.1))\n",
    "\n",
    "                sigma_L = numpyro.sample(site.sigma_L, dist.HalfNormal(0.5))\n",
    "                sigma_H = numpyro.sample(site.sigma_H, dist.HalfNormal(5))\n",
    "                sigma_v = numpyro.sample(site.sigma_v, dist.HalfNormal(10))\n",
    "\n",
    "                with numpyro.plate(site.n_subject, n_subject, dim=-3):\n",
    "                    \"\"\" Priors \"\"\"\n",
    "                    a = numpyro.sample(\n",
    "                        site.a,\n",
    "                        dist.TruncatedNormal(mu_a, sigma_a, low=0, high=100)\n",
    "                    )\n",
    "                    b = numpyro.sample(site.b, dist.HalfNormal(sigma_b))\n",
    "\n",
    "                    L = numpyro.sample(site.L, dist.HalfNormal(sigma_L))\n",
    "                    H = numpyro.sample(site.H, dist.HalfNormal(sigma_H))\n",
    "                    v = numpyro.sample(site.v, dist.HalfNormal(sigma_v))\n",
    "\n",
    "                    g_1 = numpyro.sample(site.g_1, dist.Exponential(0.01))\n",
    "                    g_2 = numpyro.sample(site.g_2, dist.Exponential(0.01))\n",
    "\n",
    "        \"\"\" Model \"\"\"\n",
    "        mu = numpyro.deterministic(\n",
    "            site.mu,\n",
    "            L[subject, feature0]\n",
    "            + jnp.maximum(\n",
    "                0,\n",
    "                -1\n",
    "                + (H[subject, feature0] + 1)\n",
    "                / jnp.power(\n",
    "                    1\n",
    "                    + (jnp.power(1 + H[subject, feature0], v[subject, feature0]) - 1)\n",
    "                    * jnp.exp(-b[subject, feature0] * (intensity - a[subject, feature0])),\n",
    "                    1 / v[subject, feature0]\n",
    "                )\n",
    "            )\n",
    "        )\n",
    "        beta = numpyro.deterministic(\n",
    "            site.beta,\n",
    "            g_1[subject, feature0] + g_2[subject, feature0] * (1 / mu) ** 2\n",
    "        )\n",
    "\n",
    "        \"\"\" Observation \"\"\"\n",
    "        with numpyro.plate(site.data, n_data):\n",
    "            return numpyro.sample(\n",
    "                site.obs,\n",
    "                dist.Gamma(concentration=mu * beta, rate=beta).to_event(1),\n",
    "                obs=response_obs\n",
    "            )"
   ]
  },
  {
   "cell_type": "code",
   "execution_count": 3,
   "metadata": {},
   "outputs": [
    {
     "name": "stderr",
     "output_type": "stream",
     "text": [
      "2023-09-21 13:06:59,488 - hbmep.config - INFO - Verifying configuration ...\n",
      "2023-09-21 13:06:59,488 - hbmep.config - INFO - Success!\n",
      "2023-09-21 13:06:59,507 - hbmep.model.baseline - INFO - Initialized model with hierarchical_bayesian link\n",
      "2023-09-21 13:06:59,512 - hbmep.dataset.core - INFO - Artefacts will be stored here - /home/vishu/repos/hbmep-paper/reports/human/tms/hbm-chains\n",
      "2023-09-21 13:06:59,513 - hbmep.dataset.core - INFO - Copied config to /home/vishu/repos/hbmep-paper/reports/human/tms/hbm-chains\n",
      "2023-09-21 13:06:59,514 - hbmep.dataset.core - INFO - Processing data ...\n",
      "2023-09-21 13:06:59,515 - hbmep.utils.utils - INFO - func:load took: 0.00 sec\n"
     ]
    }
   ],
   "source": [
    "import pickle\n",
    "\n",
    "\n",
    "root_path = Path(os.getcwd()).parent.parent.parent.absolute()\n",
    "toml_path = os.path.join(root_path, \"configs/human/tms/hbm-chains.toml\")\n",
    "\n",
    "CONFIG = Config(toml_path=toml_path)\n",
    "MODEL = HierarchicalBayesianModel(config=CONFIG)\n",
    "\n",
    "src = \"/home/vishu/data/hbmep-processed/human/tms/data.csv\"\n",
    "DF = pd.read_csv(src)\n",
    "\n",
    "DF, ENCODER_DICT = MODEL.load(df=DF)\n",
    "\n",
    "dest = os.path.join(MODEL.build_dir, \"inference.pkl\")\n",
    "with open(dest, \"rb\") as g:\n",
    "    _, MCMC, POSTERIOR_SAMPLES = pickle.load(g)\n",
    "\n"
   ]
  },
  {
   "cell_type": "code",
   "execution_count": 160,
   "metadata": {},
   "outputs": [
    {
     "name": "stderr",
     "output_type": "stream",
     "text": [
      "2023-09-22 13:17:55,286 - __main__ - INFO - Rendering ...\n"
     ]
    },
    {
     "name": "stderr",
     "output_type": "stream",
     "text": [
      "2023-09-22 13:18:11,236 - __main__ - INFO - Saved to /home/vishu/repos/hbmep-paper/reports/human/tms/hbm-chains/range/comparison.pdf\n"
     ]
    }
   ],
   "source": [
    "# df1 = DF[MODEL.combination_columns].drop_duplicates().reset_index(drop=True)\n",
    "# prefix = \"range\"\n",
    "\n",
    "# start_space = [0, 10, 20, 30, 40, 50, 60]\n",
    "# end = 70\n",
    "# n_draws = 1\n",
    "\n",
    "# N = 56\n",
    "# m = 1\n",
    "# N_eff = N // m\n",
    "\n",
    "\n",
    "# # \"\"\" Test \"\"\"\n",
    "# # start_space = [0, 10, 20]\n",
    "# # end = 70\n",
    "# # n_draws = 2\n",
    "# #\n",
    "# # N = 3\n",
    "# # m = 1\n",
    "# # N_eff = N // m\n",
    "\n",
    "\n",
    "# dfs = []\n",
    "# threshold_dfs = []\n",
    "\n",
    "# for draw_ind in range(n_draws):\n",
    "#     curr_draw_threshold_true = np.array(POSTERIOR_SAMPLES[site.a][draw_ind, ...])\n",
    "#     curr_draw_threshold_true = curr_draw_threshold_true[None, ...]\n",
    "\n",
    "#     threshold_df = df1.copy()\n",
    "#     threshold_df[MODEL.response] = 0\n",
    "\n",
    "#     for c in combinations:\n",
    "#         ind = threshold_df[MODEL.combination_columns[::-1]].apply(tuple, axis=1).isin([tuple(c)])\n",
    "#         threshold_df.loc[ind, MODEL.response] = curr_draw_threshold_true[0, *c, :]\n",
    "\n",
    "#     threshold_dfs.append(threshold_df)\n",
    "\n",
    "#     for start in start_space:\n",
    "#         logger.info(f\"draw:{draw_ind}, start:{start}, end:{end}\")\n",
    "#         draw_dir = f\"draw{draw_ind:02}\"\n",
    "#         subdir = f\"start{start:02}\"\n",
    "\n",
    "#         df2 = pd.DataFrame(np.linspace(start, end, N_eff), columns=[MODEL.intensity])\n",
    "#         df = df1.merge(df2, how=\"cross\")\n",
    "#         df = pd.concat([df] * m, ignore_index=True).reset_index(drop=True)\n",
    "\n",
    "#         ppd = MODEL.predict(df=df, posterior_samples=POSTERIOR_SAMPLES)\n",
    "#         df[MODEL.response] = ppd[site.obs][draw_ind, ...]\n",
    "#         dfs.append(df)\n",
    "\n",
    "\n",
    "# def _plot(\n",
    "#     self,\n",
    "#     df: pd.DataFrame,\n",
    "#     dfs: list[pd.DataFrame],\n",
    "#     threshold_df: pd.DataFrame,\n",
    "#     destination_path: str,\n",
    "# ):\n",
    "#     \"\"\" Setup pdf layout \"\"\"\n",
    "#     combinations = self._make_combinations(df=df, columns=self.combination_columns)\n",
    "#     n_combinations = len(combinations)\n",
    "\n",
    "#     n_columns_per_response = 1 + len(dfs)\n",
    "\n",
    "#     n_fig_rows = 10\n",
    "#     n_fig_columns = n_columns_per_response * self.n_response\n",
    "\n",
    "#     n_pdf_pages = n_combinations // n_fig_rows\n",
    "#     if n_combinations % n_fig_rows: n_pdf_pages += 1\n",
    "#     logger.info(\"Rendering ...\")\n",
    "\n",
    "#     \"\"\" Iterate over pdf pages \"\"\"\n",
    "#     pdf = PdfPages(destination_path)\n",
    "#     combination_counter = 0\n",
    "\n",
    "#     for page in range(n_pdf_pages):\n",
    "#         n_rows_current_page = min(\n",
    "#             n_fig_rows,\n",
    "#             n_combinations - page * n_fig_rows\n",
    "#         )\n",
    "\n",
    "#         fig, axes = plt.subplots(\n",
    "#             n_rows_current_page,\n",
    "#             n_fig_columns,\n",
    "#             figsize=(\n",
    "#                 n_fig_columns * self.subplot_cell_width,\n",
    "#                 n_rows_current_page * self.subplot_cell_height\n",
    "#             ),\n",
    "#             constrained_layout=True,\n",
    "#             squeeze=False\n",
    "#         )\n",
    "\n",
    "#         \"\"\" Iterate over combinations \"\"\"\n",
    "#         for i in range(n_rows_current_page):\n",
    "#             curr_combination = combinations[combination_counter]\n",
    "\n",
    "#             \"\"\" Filter dataframe based on current combination \"\"\"\n",
    "#             df_ind = df[self.combination_columns].apply(tuple, axis=1).isin([curr_combination])\n",
    "#             curr_df = df[df_ind].reset_index(drop=True).copy()\n",
    "\n",
    "#             th_ind = threshold_df[self.combination_columns].apply(tuple, axis=1).isin([curr_combination])\n",
    "#             curr_th_df = threshold_df[th_ind].reset_index(drop=True).copy()\n",
    "#             curr_ths = curr_th_df[self.response].values[0]\n",
    "\n",
    "#             \"\"\" Iterate over responses \"\"\"\n",
    "#             j = 0\n",
    "#             for r, response in enumerate(self.response):\n",
    "#                 \"\"\" Plots: Scatter Plot \"\"\"\n",
    "#                 ax = axes[i, j]\n",
    "#                 sns.scatterplot(data=curr_df, x=self.intensity, y=response, color=self.response_colors[r], ax=ax)\n",
    "\n",
    "#                 if j == 1:\n",
    "#                     ax.legend(loc=\"upper right\")\n",
    "\n",
    "#                 ax.set_title(\"Real Data - \" + response)\n",
    "\n",
    "#                 j += 1\n",
    "\n",
    "#                 for sim_ind, curr_sim in enumerate(dfs):\n",
    "#                     curr_sim = curr_sim.copy()\n",
    "#                     curr_sim_ind = curr_sim[self.combination_columns].apply(tuple, axis=1).isin([curr_combination])\n",
    "#                     curr_sim = curr_sim[curr_sim_ind].reset_index(drop=True).copy()\n",
    "\n",
    "#                     ax = axes[i, j]\n",
    "#                     sns.scatterplot(data=curr_sim, x=self.intensity, y=response, color=self.response_colors[r], ax=ax)\n",
    "#                     ax.axvline(curr_ths[r], color=\"black\", label=\"True Threshold\")\n",
    "#                     ax.set_title(f\"Simulated Data: Interval ({start_space[sim_ind]}, 70)\")\n",
    "\n",
    "#                     if not sim_ind:\n",
    "#                         ax.legend(loc=\"upper right\")\n",
    "\n",
    "#                     j += 1\n",
    "\n",
    "#             combination_counter += 1\n",
    "\n",
    "#         pdf.savefig(fig)\n",
    "#         plt.close()\n",
    "\n",
    "#     pdf.close()\n",
    "#     plt.show()\n",
    "\n",
    "#     logger.info(f\"Saved to {destination_path}\")\n",
    "#     return\n",
    "\n",
    "# dest = os.path.join(MODEL.build_dir, prefix, \"comparison.pdf\")\n",
    "# _plot(self=MODEL, df=DF, dfs=dfs, threshold_df=threshold_dfs[0], destination_path=dest)"
   ]
  },
  {
   "cell_type": "code",
   "execution_count": 172,
   "metadata": {},
   "outputs": [
    {
     "name": "stderr",
     "output_type": "stream",
     "text": [
      "2023-09-22 14:34:22,474 - __main__ - INFO - Rendering ...\n"
     ]
    },
    {
     "name": "stderr",
     "output_type": "stream",
     "text": [
      "2023-09-22 14:34:33,073 - __main__ - INFO - Saved to /home/vishu/repos/hbmep-paper/reports/human/tms/hbm-chains/range/draws.pdf\n"
     ]
    }
   ],
   "source": [
    "# ppd = MODEL.predict(df=DF, posterior_samples=POSTERIOR_SAMPLES)\n",
    "# obs = ppd[site.obs]\n",
    "\n",
    "# n_draws = 3\n",
    "\n",
    "# dfs = []\n",
    "# threshold_dfs = []\n",
    "\n",
    "# for draw_ind in range(n_draws):\n",
    "#     df = DF.copy()\n",
    "#     df[MODEL.response] = obs[draw_ind, ...]\n",
    "#     dfs.append(df)\n",
    "\n",
    "#     curr_draw_threshold_true = np.array(POSTERIOR_SAMPLES[site.a][draw_ind, ...])\n",
    "#     curr_draw_threshold_true = curr_draw_threshold_true[None, ...]\n",
    "\n",
    "#     threshold_df = df1.copy()\n",
    "#     threshold_df[MODEL.response] = 0\n",
    "\n",
    "#     for c in combinations:\n",
    "#         ind = threshold_df[MODEL.combination_columns[::-1]].apply(tuple, axis=1).isin([tuple(c)])\n",
    "#         threshold_df.loc[ind, MODEL.response] = curr_draw_threshold_true[0, *c, :]\n",
    "\n",
    "#     threshold_dfs.append(threshold_df)\n",
    "\n",
    "# def _plot(\n",
    "#     self,\n",
    "#     df: pd.DataFrame,\n",
    "#     dfs: list[pd.DataFrame],\n",
    "#     threshold_dfs: list[pd.DataFrame],\n",
    "#     destination_path: str,\n",
    "# ):\n",
    "#     \"\"\" Setup pdf layout \"\"\"\n",
    "#     combinations = self._make_combinations(df=df, columns=self.combination_columns)\n",
    "#     n_combinations = len(combinations)\n",
    "\n",
    "#     n_columns_per_response = 1 + len(dfs)\n",
    "\n",
    "#     n_fig_rows = 10\n",
    "#     n_fig_columns = n_columns_per_response * self.n_response\n",
    "\n",
    "#     n_pdf_pages = n_combinations // n_fig_rows\n",
    "#     if n_combinations % n_fig_rows: n_pdf_pages += 1\n",
    "#     logger.info(\"Rendering ...\")\n",
    "\n",
    "#     \"\"\" Iterate over pdf pages \"\"\"\n",
    "#     pdf = PdfPages(destination_path)\n",
    "#     combination_counter = 0\n",
    "\n",
    "#     for page in range(n_pdf_pages):\n",
    "#         n_rows_current_page = min(\n",
    "#             n_fig_rows,\n",
    "#             n_combinations - page * n_fig_rows\n",
    "#         )\n",
    "\n",
    "#         fig, axes = plt.subplots(\n",
    "#             n_rows_current_page,\n",
    "#             n_fig_columns,\n",
    "#             figsize=(\n",
    "#                 n_fig_columns * self.subplot_cell_width,\n",
    "#                 n_rows_current_page * self.subplot_cell_height\n",
    "#             ),\n",
    "#             constrained_layout=True,\n",
    "#             squeeze=False\n",
    "#         )\n",
    "\n",
    "#         \"\"\" Iterate over combinations \"\"\"\n",
    "#         for i in range(n_rows_current_page):\n",
    "#             curr_combination = combinations[combination_counter]\n",
    "\n",
    "#             \"\"\" Filter dataframe based on current combination \"\"\"\n",
    "#             df_ind = df[self.combination_columns].apply(tuple, axis=1).isin([curr_combination])\n",
    "#             curr_df = df[df_ind].reset_index(drop=True).copy()\n",
    "\n",
    "#             \"\"\" Iterate over responses \"\"\"\n",
    "#             j = 0\n",
    "#             for r, response in enumerate(self.response):\n",
    "#                 \"\"\" Plots: Scatter Plot \"\"\"\n",
    "#                 ax = axes[i, j]\n",
    "#                 sns.scatterplot(data=curr_df, x=self.intensity, y=response, color=self.response_colors[r], ax=ax)\n",
    "\n",
    "#                 if j == 1:\n",
    "#                     ax.legend(loc=\"upper right\")\n",
    "\n",
    "#                 ax.set_title(\"Real Data - \" + response)\n",
    "\n",
    "#                 j += 1\n",
    "\n",
    "#                 for sim_ind, curr_sim in enumerate(dfs):\n",
    "#                     curr_sim = curr_sim.copy()\n",
    "#                     curr_sim_ind = curr_sim[self.combination_columns].apply(tuple, axis=1).isin([curr_combination])\n",
    "#                     curr_sim = curr_sim[curr_sim_ind].reset_index(drop=True).copy()\n",
    "\n",
    "#                     th_df = threshold_dfs[sim_ind].copy()\n",
    "#                     th_ind = th_df[self.combination_columns].apply(tuple, axis=1).isin([curr_combination])\n",
    "#                     th_df = th_df[th_ind].reset_index(drop=True).copy()\n",
    "#                     ths = th_df[self.response].values[0]\n",
    "\n",
    "#                     ax = axes[i, j]\n",
    "#                     sns.scatterplot(data=curr_sim, x=self.intensity, y=response, color=self.response_colors[r], ax=ax)\n",
    "#                     ax.axvline(ths[r], color=\"black\", label=\"True Threshold\")\n",
    "\n",
    "#                     if not sim_ind:\n",
    "#                         ax.legend(loc=\"upper right\")\n",
    "\n",
    "#                     ax.set_title(f\"Simulated Data: {sim_ind + 1:02}\")\n",
    "\n",
    "#                     ax.sharex(axes[i, j-1])\n",
    "#                     ax.sharey(axes[i, j-1])\n",
    "#                     j += 1\n",
    "\n",
    "#             combination_counter += 1\n",
    "\n",
    "#         pdf.savefig(fig)\n",
    "#         plt.close()\n",
    "\n",
    "#     pdf.close()\n",
    "#     plt.show()\n",
    "\n",
    "#     logger.info(f\"Saved to {destination_path}\")\n",
    "#     return\n",
    "\n",
    "# dest = os.path.join(MODEL.build_dir, prefix, \"draws.pdf\")\n",
    "# _plot(self=MODEL, df=DF, dfs=dfs, threshold_dfs=threshold_dfs, destination_path=dest)"
   ]
  },
  {
   "cell_type": "code",
   "execution_count": 5,
   "metadata": {},
   "outputs": [
    {
     "name": "stderr",
     "output_type": "stream",
     "text": [
      "2023-09-21 13:07:10,315 - __main__ - INFO - draw:0, start:0, end:70\n",
      "2023-09-21 13:07:13,755 - hbmep.utils.utils - INFO - func:predict took: 3.44 sec\n",
      "2023-09-21 13:07:13,766 - hbmep.config - INFO - Verifying configuration ...\n",
      "2023-09-21 13:07:13,766 - hbmep.config - INFO - Success!\n",
      "2023-09-21 13:07:13,767 - hbmep.model.baseline - INFO - Initialized model with hierarchical_bayesian link\n",
      "2023-09-21 13:07:13,767 - hbmep.model.baseline - INFO - Running inference with hierarchical_bayesian ...\n"
     ]
    },
    {
     "data": {
      "application/vnd.jupyter.widget-view+json": {
       "model_id": "6f4679898c254a1eb11d085dc71766f6",
       "version_major": 2,
       "version_minor": 0
      },
      "text/plain": [
       "  0%|          | 0/1500 [00:00<?, ?it/s]"
      ]
     },
     "metadata": {},
     "output_type": "display_data"
    },
    {
     "data": {
      "application/vnd.jupyter.widget-view+json": {
       "model_id": "594448f431134b8ca97d5c375cdfaf62",
       "version_major": 2,
       "version_minor": 0
      },
      "text/plain": [
       "  0%|          | 0/1500 [00:00<?, ?it/s]"
      ]
     },
     "metadata": {},
     "output_type": "display_data"
    },
    {
     "data": {
      "application/vnd.jupyter.widget-view+json": {
       "model_id": "7951785b9e1c4df596556f25ac94f6fc",
       "version_major": 2,
       "version_minor": 0
      },
      "text/plain": [
       "  0%|          | 0/1500 [00:00<?, ?it/s]"
      ]
     },
     "metadata": {},
     "output_type": "display_data"
    },
    {
     "data": {
      "application/vnd.jupyter.widget-view+json": {
       "model_id": "e5ce31b639444122b06ca669185443e8",
       "version_major": 2,
       "version_minor": 0
      },
      "text/plain": [
       "  0%|          | 0/1500 [00:00<?, ?it/s]"
      ]
     },
     "metadata": {},
     "output_type": "display_data"
    },
    {
     "name": "stderr",
     "output_type": "stream",
     "text": [
      "2023-09-21 13:13:15,872 - hbmep.utils.utils - INFO - func:run_inference took: 6 min and 2.11 sec\n",
      "2023-09-21 13:13:15,878 - hbmep.utils.utils - INFO - func:make_prediction_dataset took: 0.00 sec\n",
      "2023-09-21 13:13:21,383 - hbmep.utils.utils - INFO - func:predict took: 5.51 sec\n",
      "2023-09-21 13:13:21,406 - hbmep.model.baseline - INFO - Rendering ...\n",
      "2023-09-21 13:13:27,582 - hbmep.model.baseline - INFO - Saved to /home/vishu/repos/hbmep-paper/reports/human/tms/hbm-chains/range/draw00/start00/recruitment_curves.pdf\n",
      "2023-09-21 13:13:27,583 - hbmep.utils.utils - INFO - func:render_recruitment_curves took: 6.19 sec\n",
      "2023-09-21 13:13:27,615 - hbmep.model.baseline - INFO - Rendering Posterior Predictive Check ...\n",
      "2023-09-21 13:13:34,948 - hbmep.model.baseline - INFO - Saved to /home/vishu/repos/hbmep-paper/reports/human/tms/hbm-chains/range/draw00/start00/posterior_predictive_check.pdf\n",
      "2023-09-21 13:13:34,950 - hbmep.utils.utils - INFO - func:_render_predictive_check took: 7.37 sec\n",
      "2023-09-21 13:13:34,950 - hbmep.utils.utils - INFO - func:render_predictive_check took: 7.37 sec\n",
      "2023-09-21 13:13:34,951 - __main__ - INFO - draw:0, start:10, end:70\n",
      "2023-09-21 13:13:38,197 - hbmep.utils.utils - INFO - func:predict took: 3.24 sec\n",
      "2023-09-21 13:13:38,207 - hbmep.config - INFO - Verifying configuration ...\n",
      "2023-09-21 13:13:38,208 - hbmep.config - INFO - Success!\n",
      "2023-09-21 13:13:38,208 - hbmep.model.baseline - INFO - Initialized model with hierarchical_bayesian link\n",
      "2023-09-21 13:13:38,208 - hbmep.model.baseline - INFO - Running inference with hierarchical_bayesian ...\n"
     ]
    },
    {
     "data": {
      "application/vnd.jupyter.widget-view+json": {
       "model_id": "03b0624429ab458ab1f3f35b4a4385d7",
       "version_major": 2,
       "version_minor": 0
      },
      "text/plain": [
       "  0%|          | 0/1500 [00:00<?, ?it/s]"
      ]
     },
     "metadata": {},
     "output_type": "display_data"
    },
    {
     "data": {
      "application/vnd.jupyter.widget-view+json": {
       "model_id": "51e0a1aed76b44a39eea59a004419a50",
       "version_major": 2,
       "version_minor": 0
      },
      "text/plain": [
       "  0%|          | 0/1500 [00:00<?, ?it/s]"
      ]
     },
     "metadata": {},
     "output_type": "display_data"
    },
    {
     "data": {
      "application/vnd.jupyter.widget-view+json": {
       "model_id": "831ceda7cf2e4cfea50eae2d99503849",
       "version_major": 2,
       "version_minor": 0
      },
      "text/plain": [
       "  0%|          | 0/1500 [00:00<?, ?it/s]"
      ]
     },
     "metadata": {},
     "output_type": "display_data"
    },
    {
     "data": {
      "application/vnd.jupyter.widget-view+json": {
       "model_id": "204922f76956491aa6a8878f574c7492",
       "version_major": 2,
       "version_minor": 0
      },
      "text/plain": [
       "  0%|          | 0/1500 [00:00<?, ?it/s]"
      ]
     },
     "metadata": {},
     "output_type": "display_data"
    },
    {
     "name": "stderr",
     "output_type": "stream",
     "text": [
      "2023-09-21 13:19:51,144 - hbmep.utils.utils - INFO - func:run_inference took: 6 min and 12.94 sec\n",
      "2023-09-21 13:19:51,148 - hbmep.utils.utils - INFO - func:make_prediction_dataset took: 0.00 sec\n",
      "2023-09-21 13:19:56,655 - hbmep.utils.utils - INFO - func:predict took: 5.51 sec\n",
      "2023-09-21 13:19:56,679 - hbmep.model.baseline - INFO - Rendering ...\n",
      "2023-09-21 13:20:02,866 - hbmep.model.baseline - INFO - Saved to /home/vishu/repos/hbmep-paper/reports/human/tms/hbm-chains/range/draw00/start10/recruitment_curves.pdf\n",
      "2023-09-21 13:20:02,867 - hbmep.utils.utils - INFO - func:render_recruitment_curves took: 6.21 sec\n",
      "2023-09-21 13:20:02,897 - hbmep.model.baseline - INFO - Rendering Posterior Predictive Check ...\n",
      "2023-09-21 13:20:10,438 - hbmep.model.baseline - INFO - Saved to /home/vishu/repos/hbmep-paper/reports/human/tms/hbm-chains/range/draw00/start10/posterior_predictive_check.pdf\n",
      "2023-09-21 13:20:10,439 - hbmep.utils.utils - INFO - func:_render_predictive_check took: 7.57 sec\n",
      "2023-09-21 13:20:10,440 - hbmep.utils.utils - INFO - func:render_predictive_check took: 7.57 sec\n",
      "2023-09-21 13:20:10,440 - __main__ - INFO - draw:0, start:20, end:70\n",
      "2023-09-21 13:20:13,753 - hbmep.utils.utils - INFO - func:predict took: 3.31 sec\n",
      "2023-09-21 13:20:13,762 - hbmep.config - INFO - Verifying configuration ...\n",
      "2023-09-21 13:20:13,762 - hbmep.config - INFO - Success!\n",
      "2023-09-21 13:20:13,763 - hbmep.model.baseline - INFO - Initialized model with hierarchical_bayesian link\n",
      "2023-09-21 13:20:13,763 - hbmep.model.baseline - INFO - Running inference with hierarchical_bayesian ...\n"
     ]
    },
    {
     "data": {
      "application/vnd.jupyter.widget-view+json": {
       "model_id": "2534d811c7eb475d8528afeaa61a351c",
       "version_major": 2,
       "version_minor": 0
      },
      "text/plain": [
       "  0%|          | 0/1500 [00:00<?, ?it/s]"
      ]
     },
     "metadata": {},
     "output_type": "display_data"
    },
    {
     "data": {
      "application/vnd.jupyter.widget-view+json": {
       "model_id": "14b6e738503040cfbf6506826c341c0d",
       "version_major": 2,
       "version_minor": 0
      },
      "text/plain": [
       "  0%|          | 0/1500 [00:00<?, ?it/s]"
      ]
     },
     "metadata": {},
     "output_type": "display_data"
    },
    {
     "data": {
      "application/vnd.jupyter.widget-view+json": {
       "model_id": "5c290e24854347cb9852a514de66387a",
       "version_major": 2,
       "version_minor": 0
      },
      "text/plain": [
       "  0%|          | 0/1500 [00:00<?, ?it/s]"
      ]
     },
     "metadata": {},
     "output_type": "display_data"
    },
    {
     "data": {
      "application/vnd.jupyter.widget-view+json": {
       "model_id": "5bb533a2d7894bf0bfa448b3a0c45503",
       "version_major": 2,
       "version_minor": 0
      },
      "text/plain": [
       "  0%|          | 0/1500 [00:00<?, ?it/s]"
      ]
     },
     "metadata": {},
     "output_type": "display_data"
    },
    {
     "name": "stderr",
     "output_type": "stream",
     "text": [
      "2023-09-21 13:26:35,077 - hbmep.utils.utils - INFO - func:run_inference took: 6 min and 21.31 sec\n",
      "2023-09-21 13:26:35,082 - hbmep.utils.utils - INFO - func:make_prediction_dataset took: 0.00 sec\n",
      "2023-09-21 13:26:40,526 - hbmep.utils.utils - INFO - func:predict took: 5.44 sec\n",
      "2023-09-21 13:26:40,550 - hbmep.model.baseline - INFO - Rendering ...\n",
      "2023-09-21 13:26:47,478 - hbmep.model.baseline - INFO - Saved to /home/vishu/repos/hbmep-paper/reports/human/tms/hbm-chains/range/draw00/start20/recruitment_curves.pdf\n",
      "2023-09-21 13:26:47,479 - hbmep.utils.utils - INFO - func:render_recruitment_curves took: 6.95 sec\n",
      "2023-09-21 13:26:47,509 - hbmep.model.baseline - INFO - Rendering Posterior Predictive Check ...\n",
      "2023-09-21 13:26:54,873 - hbmep.model.baseline - INFO - Saved to /home/vishu/repos/hbmep-paper/reports/human/tms/hbm-chains/range/draw00/start20/posterior_predictive_check.pdf\n",
      "2023-09-21 13:26:54,874 - hbmep.utils.utils - INFO - func:_render_predictive_check took: 7.40 sec\n",
      "2023-09-21 13:26:54,875 - hbmep.utils.utils - INFO - func:render_predictive_check took: 7.40 sec\n",
      "2023-09-21 13:26:54,875 - __main__ - INFO - draw:0, start:30, end:70\n",
      "2023-09-21 13:26:58,207 - hbmep.utils.utils - INFO - func:predict took: 3.33 sec\n",
      "2023-09-21 13:26:58,216 - hbmep.config - INFO - Verifying configuration ...\n",
      "2023-09-21 13:26:58,216 - hbmep.config - INFO - Success!\n",
      "2023-09-21 13:26:58,217 - hbmep.model.baseline - INFO - Initialized model with hierarchical_bayesian link\n",
      "2023-09-21 13:26:58,217 - hbmep.model.baseline - INFO - Running inference with hierarchical_bayesian ...\n"
     ]
    },
    {
     "data": {
      "application/vnd.jupyter.widget-view+json": {
       "model_id": "46f1cd608f4f4043bc2a59797551a7af",
       "version_major": 2,
       "version_minor": 0
      },
      "text/plain": [
       "  0%|          | 0/1500 [00:00<?, ?it/s]"
      ]
     },
     "metadata": {},
     "output_type": "display_data"
    },
    {
     "data": {
      "application/vnd.jupyter.widget-view+json": {
       "model_id": "346fca289a8645aba0ef392c2436bd5a",
       "version_major": 2,
       "version_minor": 0
      },
      "text/plain": [
       "  0%|          | 0/1500 [00:00<?, ?it/s]"
      ]
     },
     "metadata": {},
     "output_type": "display_data"
    },
    {
     "data": {
      "application/vnd.jupyter.widget-view+json": {
       "model_id": "097dae6e7f33408aa6364a4c5955dacd",
       "version_major": 2,
       "version_minor": 0
      },
      "text/plain": [
       "  0%|          | 0/1500 [00:00<?, ?it/s]"
      ]
     },
     "metadata": {},
     "output_type": "display_data"
    },
    {
     "data": {
      "application/vnd.jupyter.widget-view+json": {
       "model_id": "e019712ea8bd408cbf2fa5bf8d12d0bd",
       "version_major": 2,
       "version_minor": 0
      },
      "text/plain": [
       "  0%|          | 0/1500 [00:00<?, ?it/s]"
      ]
     },
     "metadata": {},
     "output_type": "display_data"
    },
    {
     "name": "stderr",
     "output_type": "stream",
     "text": [
      "2023-09-21 13:33:27,277 - hbmep.utils.utils - INFO - func:run_inference took: 6 min and 29.06 sec\n",
      "2023-09-21 13:33:27,282 - hbmep.utils.utils - INFO - func:make_prediction_dataset took: 0.00 sec\n",
      "2023-09-21 13:33:32,834 - hbmep.utils.utils - INFO - func:predict took: 5.55 sec\n",
      "2023-09-21 13:33:32,855 - hbmep.model.baseline - INFO - Rendering ...\n",
      "2023-09-21 13:33:38,846 - hbmep.model.baseline - INFO - Saved to /home/vishu/repos/hbmep-paper/reports/human/tms/hbm-chains/range/draw00/start30/recruitment_curves.pdf\n",
      "2023-09-21 13:33:38,847 - hbmep.utils.utils - INFO - func:render_recruitment_curves took: 6.01 sec\n",
      "2023-09-21 13:33:38,877 - hbmep.model.baseline - INFO - Rendering Posterior Predictive Check ...\n",
      "2023-09-21 13:33:45,930 - hbmep.model.baseline - INFO - Saved to /home/vishu/repos/hbmep-paper/reports/human/tms/hbm-chains/range/draw00/start30/posterior_predictive_check.pdf\n",
      "2023-09-21 13:33:45,932 - hbmep.utils.utils - INFO - func:_render_predictive_check took: 7.08 sec\n",
      "2023-09-21 13:33:45,932 - hbmep.utils.utils - INFO - func:render_predictive_check took: 7.08 sec\n",
      "2023-09-21 13:33:45,933 - __main__ - INFO - draw:0, start:40, end:70\n",
      "2023-09-21 13:33:49,227 - hbmep.utils.utils - INFO - func:predict took: 3.29 sec\n",
      "2023-09-21 13:33:49,237 - hbmep.config - INFO - Verifying configuration ...\n",
      "2023-09-21 13:33:49,237 - hbmep.config - INFO - Success!\n",
      "2023-09-21 13:33:49,237 - hbmep.model.baseline - INFO - Initialized model with hierarchical_bayesian link\n",
      "2023-09-21 13:33:49,238 - hbmep.model.baseline - INFO - Running inference with hierarchical_bayesian ...\n"
     ]
    },
    {
     "data": {
      "application/vnd.jupyter.widget-view+json": {
       "model_id": "368211173d3440da964cff243b77c37b",
       "version_major": 2,
       "version_minor": 0
      },
      "text/plain": [
       "  0%|          | 0/1500 [00:00<?, ?it/s]"
      ]
     },
     "metadata": {},
     "output_type": "display_data"
    },
    {
     "data": {
      "application/vnd.jupyter.widget-view+json": {
       "model_id": "8922557482894a17bec21330675257f8",
       "version_major": 2,
       "version_minor": 0
      },
      "text/plain": [
       "  0%|          | 0/1500 [00:00<?, ?it/s]"
      ]
     },
     "metadata": {},
     "output_type": "display_data"
    },
    {
     "data": {
      "application/vnd.jupyter.widget-view+json": {
       "model_id": "21ae41d928be497ba3f8abdb324b3c85",
       "version_major": 2,
       "version_minor": 0
      },
      "text/plain": [
       "  0%|          | 0/1500 [00:00<?, ?it/s]"
      ]
     },
     "metadata": {},
     "output_type": "display_data"
    },
    {
     "data": {
      "application/vnd.jupyter.widget-view+json": {
       "model_id": "96fb88531293476eba17adcc63f12abd",
       "version_major": 2,
       "version_minor": 0
      },
      "text/plain": [
       "  0%|          | 0/1500 [00:00<?, ?it/s]"
      ]
     },
     "metadata": {},
     "output_type": "display_data"
    },
    {
     "name": "stderr",
     "output_type": "stream",
     "text": [
      "2023-09-21 13:40:18,896 - hbmep.utils.utils - INFO - func:run_inference took: 6 min and 29.66 sec\n",
      "2023-09-21 13:40:18,901 - hbmep.utils.utils - INFO - func:make_prediction_dataset took: 0.00 sec\n",
      "2023-09-21 13:40:24,485 - hbmep.utils.utils - INFO - func:predict took: 5.58 sec\n",
      "2023-09-21 13:40:24,507 - hbmep.model.baseline - INFO - Rendering ...\n",
      "2023-09-21 13:40:30,588 - hbmep.model.baseline - INFO - Saved to /home/vishu/repos/hbmep-paper/reports/human/tms/hbm-chains/range/draw00/start40/recruitment_curves.pdf\n",
      "2023-09-21 13:40:30,589 - hbmep.utils.utils - INFO - func:render_recruitment_curves took: 6.10 sec\n",
      "2023-09-21 13:40:30,619 - hbmep.model.baseline - INFO - Rendering Posterior Predictive Check ...\n",
      "2023-09-21 13:40:37,580 - hbmep.model.baseline - INFO - Saved to /home/vishu/repos/hbmep-paper/reports/human/tms/hbm-chains/range/draw00/start40/posterior_predictive_check.pdf\n",
      "2023-09-21 13:40:37,581 - hbmep.utils.utils - INFO - func:_render_predictive_check took: 6.99 sec\n",
      "2023-09-21 13:40:37,581 - hbmep.utils.utils - INFO - func:render_predictive_check took: 6.99 sec\n",
      "2023-09-21 13:40:37,582 - __main__ - INFO - draw:0, start:50, end:70\n",
      "2023-09-21 13:40:40,913 - hbmep.utils.utils - INFO - func:predict took: 3.33 sec\n",
      "2023-09-21 13:40:40,922 - hbmep.config - INFO - Verifying configuration ...\n",
      "2023-09-21 13:40:40,923 - hbmep.config - INFO - Success!\n",
      "2023-09-21 13:40:40,923 - hbmep.model.baseline - INFO - Initialized model with hierarchical_bayesian link\n",
      "2023-09-21 13:40:40,924 - hbmep.model.baseline - INFO - Running inference with hierarchical_bayesian ...\n"
     ]
    },
    {
     "data": {
      "application/vnd.jupyter.widget-view+json": {
       "model_id": "3984dbc9c27047a69f8d4a367b95ab5d",
       "version_major": 2,
       "version_minor": 0
      },
      "text/plain": [
       "  0%|          | 0/1500 [00:00<?, ?it/s]"
      ]
     },
     "metadata": {},
     "output_type": "display_data"
    },
    {
     "data": {
      "application/vnd.jupyter.widget-view+json": {
       "model_id": "8cfe3fb4da6c4080af35992468d5f528",
       "version_major": 2,
       "version_minor": 0
      },
      "text/plain": [
       "  0%|          | 0/1500 [00:00<?, ?it/s]"
      ]
     },
     "metadata": {},
     "output_type": "display_data"
    },
    {
     "data": {
      "application/vnd.jupyter.widget-view+json": {
       "model_id": "348df0aaca91443f951c33c50bc36ac6",
       "version_major": 2,
       "version_minor": 0
      },
      "text/plain": [
       "  0%|          | 0/1500 [00:00<?, ?it/s]"
      ]
     },
     "metadata": {},
     "output_type": "display_data"
    },
    {
     "data": {
      "application/vnd.jupyter.widget-view+json": {
       "model_id": "9d3c4c1b1f264412ab62a80927bf7b0b",
       "version_major": 2,
       "version_minor": 0
      },
      "text/plain": [
       "  0%|          | 0/1500 [00:00<?, ?it/s]"
      ]
     },
     "metadata": {},
     "output_type": "display_data"
    },
    {
     "name": "stderr",
     "output_type": "stream",
     "text": [
      "2023-09-21 13:47:12,599 - hbmep.utils.utils - INFO - func:run_inference took: 6 min and 31.68 sec\n",
      "2023-09-21 13:47:12,604 - hbmep.utils.utils - INFO - func:make_prediction_dataset took: 0.00 sec\n",
      "2023-09-21 13:47:18,084 - hbmep.utils.utils - INFO - func:predict took: 5.48 sec\n",
      "2023-09-21 13:47:18,107 - hbmep.model.baseline - INFO - Rendering ...\n",
      "2023-09-21 13:47:24,505 - hbmep.model.baseline - INFO - Saved to /home/vishu/repos/hbmep-paper/reports/human/tms/hbm-chains/range/draw00/start50/recruitment_curves.pdf\n",
      "2023-09-21 13:47:24,505 - hbmep.utils.utils - INFO - func:render_recruitment_curves took: 6.42 sec\n",
      "2023-09-21 13:47:24,536 - hbmep.model.baseline - INFO - Rendering Posterior Predictive Check ...\n",
      "2023-09-21 13:47:31,435 - hbmep.model.baseline - INFO - Saved to /home/vishu/repos/hbmep-paper/reports/human/tms/hbm-chains/range/draw00/start50/posterior_predictive_check.pdf\n",
      "2023-09-21 13:47:31,437 - hbmep.utils.utils - INFO - func:_render_predictive_check took: 6.93 sec\n",
      "2023-09-21 13:47:31,437 - hbmep.utils.utils - INFO - func:render_predictive_check took: 6.93 sec\n",
      "2023-09-21 13:47:31,438 - __main__ - INFO - draw:0, start:60, end:70\n",
      "2023-09-21 13:47:35,233 - hbmep.utils.utils - INFO - func:predict took: 3.79 sec\n",
      "2023-09-21 13:47:35,242 - hbmep.config - INFO - Verifying configuration ...\n",
      "2023-09-21 13:47:35,242 - hbmep.config - INFO - Success!\n",
      "2023-09-21 13:47:35,243 - hbmep.model.baseline - INFO - Initialized model with hierarchical_bayesian link\n",
      "2023-09-21 13:47:35,243 - hbmep.model.baseline - INFO - Running inference with hierarchical_bayesian ...\n"
     ]
    },
    {
     "data": {
      "application/vnd.jupyter.widget-view+json": {
       "model_id": "00167bfcdfbc4bbe9aefed0e8c7eba3a",
       "version_major": 2,
       "version_minor": 0
      },
      "text/plain": [
       "  0%|          | 0/1500 [00:00<?, ?it/s]"
      ]
     },
     "metadata": {},
     "output_type": "display_data"
    },
    {
     "data": {
      "application/vnd.jupyter.widget-view+json": {
       "model_id": "eef3b9fa959e46839dcdfa780afc0cce",
       "version_major": 2,
       "version_minor": 0
      },
      "text/plain": [
       "  0%|          | 0/1500 [00:00<?, ?it/s]"
      ]
     },
     "metadata": {},
     "output_type": "display_data"
    },
    {
     "data": {
      "application/vnd.jupyter.widget-view+json": {
       "model_id": "972f348e35e94ff9aff0e0972b0f8541",
       "version_major": 2,
       "version_minor": 0
      },
      "text/plain": [
       "  0%|          | 0/1500 [00:00<?, ?it/s]"
      ]
     },
     "metadata": {},
     "output_type": "display_data"
    },
    {
     "data": {
      "application/vnd.jupyter.widget-view+json": {
       "model_id": "76f5a242b081444d8bec02cc6cd17f13",
       "version_major": 2,
       "version_minor": 0
      },
      "text/plain": [
       "  0%|          | 0/1500 [00:00<?, ?it/s]"
      ]
     },
     "metadata": {},
     "output_type": "display_data"
    },
    {
     "name": "stderr",
     "output_type": "stream",
     "text": [
      "2023-09-21 13:53:53,644 - hbmep.utils.utils - INFO - func:run_inference took: 6 min and 18.40 sec\n",
      "2023-09-21 13:53:53,649 - hbmep.utils.utils - INFO - func:make_prediction_dataset took: 0.00 sec\n",
      "2023-09-21 13:53:59,090 - hbmep.utils.utils - INFO - func:predict took: 5.44 sec\n",
      "2023-09-21 13:53:59,113 - hbmep.model.baseline - INFO - Rendering ...\n",
      "2023-09-21 13:54:05,280 - hbmep.model.baseline - INFO - Saved to /home/vishu/repos/hbmep-paper/reports/human/tms/hbm-chains/range/draw00/start60/recruitment_curves.pdf\n",
      "2023-09-21 13:54:05,281 - hbmep.utils.utils - INFO - func:render_recruitment_curves took: 6.19 sec\n",
      "2023-09-21 13:54:05,312 - hbmep.model.baseline - INFO - Rendering Posterior Predictive Check ...\n",
      "2023-09-21 13:54:12,079 - hbmep.model.baseline - INFO - Saved to /home/vishu/repos/hbmep-paper/reports/human/tms/hbm-chains/range/draw00/start60/posterior_predictive_check.pdf\n",
      "2023-09-21 13:54:12,080 - hbmep.utils.utils - INFO - func:_render_predictive_check took: 6.80 sec\n",
      "2023-09-21 13:54:12,080 - hbmep.utils.utils - INFO - func:render_predictive_check took: 6.80 sec\n",
      "2023-09-21 13:54:12,081 - __main__ - INFO - draw:1, start:0, end:70\n",
      "2023-09-21 13:54:15,406 - hbmep.utils.utils - INFO - func:predict took: 3.32 sec\n",
      "2023-09-21 13:54:15,414 - hbmep.config - INFO - Verifying configuration ...\n",
      "2023-09-21 13:54:15,415 - hbmep.config - INFO - Success!\n",
      "2023-09-21 13:54:15,415 - hbmep.model.baseline - INFO - Initialized model with hierarchical_bayesian link\n",
      "2023-09-21 13:54:15,416 - hbmep.model.baseline - INFO - Running inference with hierarchical_bayesian ...\n"
     ]
    },
    {
     "data": {
      "application/vnd.jupyter.widget-view+json": {
       "model_id": "f9b0dc3c31f14de5ab8ccebe3e93eabf",
       "version_major": 2,
       "version_minor": 0
      },
      "text/plain": [
       "  0%|          | 0/1500 [00:00<?, ?it/s]"
      ]
     },
     "metadata": {},
     "output_type": "display_data"
    },
    {
     "data": {
      "application/vnd.jupyter.widget-view+json": {
       "model_id": "28701f5f9a884783b75a35de49e68199",
       "version_major": 2,
       "version_minor": 0
      },
      "text/plain": [
       "  0%|          | 0/1500 [00:00<?, ?it/s]"
      ]
     },
     "metadata": {},
     "output_type": "display_data"
    },
    {
     "data": {
      "application/vnd.jupyter.widget-view+json": {
       "model_id": "0927671e2a1e42d08d8ebf683dfbe5b4",
       "version_major": 2,
       "version_minor": 0
      },
      "text/plain": [
       "  0%|          | 0/1500 [00:00<?, ?it/s]"
      ]
     },
     "metadata": {},
     "output_type": "display_data"
    },
    {
     "data": {
      "application/vnd.jupyter.widget-view+json": {
       "model_id": "d494163d19864ff1942004b0fac03d67",
       "version_major": 2,
       "version_minor": 0
      },
      "text/plain": [
       "  0%|          | 0/1500 [00:00<?, ?it/s]"
      ]
     },
     "metadata": {},
     "output_type": "display_data"
    },
    {
     "name": "stderr",
     "output_type": "stream",
     "text": [
      "2023-09-21 14:00:28,960 - hbmep.utils.utils - INFO - func:run_inference took: 6 min and 13.54 sec\n",
      "2023-09-21 14:00:28,965 - hbmep.utils.utils - INFO - func:make_prediction_dataset took: 0.00 sec\n",
      "2023-09-21 14:00:34,446 - hbmep.utils.utils - INFO - func:predict took: 5.48 sec\n",
      "2023-09-21 14:00:34,467 - hbmep.model.baseline - INFO - Rendering ...\n",
      "2023-09-21 14:00:40,855 - hbmep.model.baseline - INFO - Saved to /home/vishu/repos/hbmep-paper/reports/human/tms/hbm-chains/range/draw01/start00/recruitment_curves.pdf\n",
      "2023-09-21 14:00:40,856 - hbmep.utils.utils - INFO - func:render_recruitment_curves took: 6.40 sec\n",
      "2023-09-21 14:00:40,886 - hbmep.model.baseline - INFO - Rendering Posterior Predictive Check ...\n",
      "2023-09-21 14:00:48,311 - hbmep.model.baseline - INFO - Saved to /home/vishu/repos/hbmep-paper/reports/human/tms/hbm-chains/range/draw01/start00/posterior_predictive_check.pdf\n",
      "2023-09-21 14:00:48,312 - hbmep.utils.utils - INFO - func:_render_predictive_check took: 7.46 sec\n",
      "2023-09-21 14:00:48,312 - hbmep.utils.utils - INFO - func:render_predictive_check took: 7.46 sec\n",
      "2023-09-21 14:00:48,313 - __main__ - INFO - draw:1, start:10, end:70\n",
      "2023-09-21 14:00:51,576 - hbmep.utils.utils - INFO - func:predict took: 3.26 sec\n",
      "2023-09-21 14:00:51,585 - hbmep.config - INFO - Verifying configuration ...\n",
      "2023-09-21 14:00:51,585 - hbmep.config - INFO - Success!\n",
      "2023-09-21 14:00:51,586 - hbmep.model.baseline - INFO - Initialized model with hierarchical_bayesian link\n",
      "2023-09-21 14:00:51,586 - hbmep.model.baseline - INFO - Running inference with hierarchical_bayesian ...\n"
     ]
    },
    {
     "data": {
      "application/vnd.jupyter.widget-view+json": {
       "model_id": "ca0b82e5f1ad4a4b85e57b41259bccfe",
       "version_major": 2,
       "version_minor": 0
      },
      "text/plain": [
       "  0%|          | 0/1500 [00:00<?, ?it/s]"
      ]
     },
     "metadata": {},
     "output_type": "display_data"
    },
    {
     "data": {
      "application/vnd.jupyter.widget-view+json": {
       "model_id": "c0db3fe99f9e4e99bdeab95fbe2ffcd1",
       "version_major": 2,
       "version_minor": 0
      },
      "text/plain": [
       "  0%|          | 0/1500 [00:00<?, ?it/s]"
      ]
     },
     "metadata": {},
     "output_type": "display_data"
    },
    {
     "data": {
      "application/vnd.jupyter.widget-view+json": {
       "model_id": "9a70776407bf4656af99f6610fab643d",
       "version_major": 2,
       "version_minor": 0
      },
      "text/plain": [
       "  0%|          | 0/1500 [00:00<?, ?it/s]"
      ]
     },
     "metadata": {},
     "output_type": "display_data"
    },
    {
     "data": {
      "application/vnd.jupyter.widget-view+json": {
       "model_id": "13f3b4338dda4a56b09d457c11607688",
       "version_major": 2,
       "version_minor": 0
      },
      "text/plain": [
       "  0%|          | 0/1500 [00:00<?, ?it/s]"
      ]
     },
     "metadata": {},
     "output_type": "display_data"
    },
    {
     "name": "stderr",
     "output_type": "stream",
     "text": [
      "2023-09-21 14:07:08,889 - hbmep.utils.utils - INFO - func:run_inference took: 6 min and 17.30 sec\n",
      "2023-09-21 14:07:08,894 - hbmep.utils.utils - INFO - func:make_prediction_dataset took: 0.00 sec\n",
      "2023-09-21 14:07:14,398 - hbmep.utils.utils - INFO - func:predict took: 5.50 sec\n",
      "2023-09-21 14:07:14,420 - hbmep.model.baseline - INFO - Rendering ...\n",
      "2023-09-21 14:07:20,659 - hbmep.model.baseline - INFO - Saved to /home/vishu/repos/hbmep-paper/reports/human/tms/hbm-chains/range/draw01/start10/recruitment_curves.pdf\n",
      "2023-09-21 14:07:20,660 - hbmep.utils.utils - INFO - func:render_recruitment_curves took: 6.26 sec\n",
      "2023-09-21 14:07:20,690 - hbmep.model.baseline - INFO - Rendering Posterior Predictive Check ...\n",
      "2023-09-21 14:07:28,542 - hbmep.model.baseline - INFO - Saved to /home/vishu/repos/hbmep-paper/reports/human/tms/hbm-chains/range/draw01/start10/posterior_predictive_check.pdf\n",
      "2023-09-21 14:07:28,544 - hbmep.utils.utils - INFO - func:_render_predictive_check took: 7.88 sec\n",
      "2023-09-21 14:07:28,544 - hbmep.utils.utils - INFO - func:render_predictive_check took: 7.88 sec\n",
      "2023-09-21 14:07:28,545 - __main__ - INFO - draw:1, start:20, end:70\n",
      "2023-09-21 14:07:31,869 - hbmep.utils.utils - INFO - func:predict took: 3.32 sec\n",
      "2023-09-21 14:07:31,878 - hbmep.config - INFO - Verifying configuration ...\n",
      "2023-09-21 14:07:31,879 - hbmep.config - INFO - Success!\n",
      "2023-09-21 14:07:31,879 - hbmep.model.baseline - INFO - Initialized model with hierarchical_bayesian link\n",
      "2023-09-21 14:07:31,880 - hbmep.model.baseline - INFO - Running inference with hierarchical_bayesian ...\n"
     ]
    },
    {
     "data": {
      "application/vnd.jupyter.widget-view+json": {
       "model_id": "cc0e76b8d9b24cd1b70294cc990101af",
       "version_major": 2,
       "version_minor": 0
      },
      "text/plain": [
       "  0%|          | 0/1500 [00:00<?, ?it/s]"
      ]
     },
     "metadata": {},
     "output_type": "display_data"
    },
    {
     "data": {
      "application/vnd.jupyter.widget-view+json": {
       "model_id": "bd99076116cb4762905d7fe7436d5bb1",
       "version_major": 2,
       "version_minor": 0
      },
      "text/plain": [
       "  0%|          | 0/1500 [00:00<?, ?it/s]"
      ]
     },
     "metadata": {},
     "output_type": "display_data"
    },
    {
     "data": {
      "application/vnd.jupyter.widget-view+json": {
       "model_id": "bec2ee59c970409bada9d36ff4abb921",
       "version_major": 2,
       "version_minor": 0
      },
      "text/plain": [
       "  0%|          | 0/1500 [00:00<?, ?it/s]"
      ]
     },
     "metadata": {},
     "output_type": "display_data"
    },
    {
     "data": {
      "application/vnd.jupyter.widget-view+json": {
       "model_id": "6638e24ee7954e8c95fcdb4f4299d00a",
       "version_major": 2,
       "version_minor": 0
      },
      "text/plain": [
       "  0%|          | 0/1500 [00:00<?, ?it/s]"
      ]
     },
     "metadata": {},
     "output_type": "display_data"
    },
    {
     "name": "stderr",
     "output_type": "stream",
     "text": [
      "2023-09-21 14:13:46,090 - hbmep.utils.utils - INFO - func:run_inference took: 6 min and 14.21 sec\n",
      "2023-09-21 14:13:46,095 - hbmep.utils.utils - INFO - func:make_prediction_dataset took: 0.00 sec\n",
      "2023-09-21 14:13:51,585 - hbmep.utils.utils - INFO - func:predict took: 5.49 sec\n",
      "2023-09-21 14:13:51,606 - hbmep.model.baseline - INFO - Rendering ...\n",
      "2023-09-21 14:13:58,133 - hbmep.model.baseline - INFO - Saved to /home/vishu/repos/hbmep-paper/reports/human/tms/hbm-chains/range/draw01/start20/recruitment_curves.pdf\n",
      "2023-09-21 14:13:58,134 - hbmep.utils.utils - INFO - func:render_recruitment_curves took: 6.54 sec\n",
      "2023-09-21 14:13:58,164 - hbmep.model.baseline - INFO - Rendering Posterior Predictive Check ...\n",
      "2023-09-21 14:14:05,420 - hbmep.model.baseline - INFO - Saved to /home/vishu/repos/hbmep-paper/reports/human/tms/hbm-chains/range/draw01/start20/posterior_predictive_check.pdf\n",
      "2023-09-21 14:14:05,421 - hbmep.utils.utils - INFO - func:_render_predictive_check took: 7.29 sec\n",
      "2023-09-21 14:14:05,421 - hbmep.utils.utils - INFO - func:render_predictive_check took: 7.29 sec\n",
      "2023-09-21 14:14:05,422 - __main__ - INFO - draw:1, start:30, end:70\n",
      "2023-09-21 14:14:08,738 - hbmep.utils.utils - INFO - func:predict took: 3.31 sec\n",
      "2023-09-21 14:14:08,746 - hbmep.config - INFO - Verifying configuration ...\n",
      "2023-09-21 14:14:08,747 - hbmep.config - INFO - Success!\n",
      "2023-09-21 14:14:08,747 - hbmep.model.baseline - INFO - Initialized model with hierarchical_bayesian link\n",
      "2023-09-21 14:14:08,747 - hbmep.model.baseline - INFO - Running inference with hierarchical_bayesian ...\n"
     ]
    },
    {
     "data": {
      "application/vnd.jupyter.widget-view+json": {
       "model_id": "edbda6931b2d41b29d531f065e99fea8",
       "version_major": 2,
       "version_minor": 0
      },
      "text/plain": [
       "  0%|          | 0/1500 [00:00<?, ?it/s]"
      ]
     },
     "metadata": {},
     "output_type": "display_data"
    },
    {
     "data": {
      "application/vnd.jupyter.widget-view+json": {
       "model_id": "721ef5c47bb04bce82a68fa3a82539be",
       "version_major": 2,
       "version_minor": 0
      },
      "text/plain": [
       "  0%|          | 0/1500 [00:00<?, ?it/s]"
      ]
     },
     "metadata": {},
     "output_type": "display_data"
    },
    {
     "data": {
      "application/vnd.jupyter.widget-view+json": {
       "model_id": "7baf758fcab94713bcd02b0229878322",
       "version_major": 2,
       "version_minor": 0
      },
      "text/plain": [
       "  0%|          | 0/1500 [00:00<?, ?it/s]"
      ]
     },
     "metadata": {},
     "output_type": "display_data"
    },
    {
     "data": {
      "application/vnd.jupyter.widget-view+json": {
       "model_id": "4f35e07721e747cba4c9db49b51c7b89",
       "version_major": 2,
       "version_minor": 0
      },
      "text/plain": [
       "  0%|          | 0/1500 [00:00<?, ?it/s]"
      ]
     },
     "metadata": {},
     "output_type": "display_data"
    },
    {
     "name": "stderr",
     "output_type": "stream",
     "text": [
      "2023-09-21 14:20:35,635 - hbmep.utils.utils - INFO - func:run_inference took: 6 min and 26.89 sec\n",
      "2023-09-21 14:20:35,640 - hbmep.utils.utils - INFO - func:make_prediction_dataset took: 0.00 sec\n",
      "2023-09-21 14:20:41,156 - hbmep.utils.utils - INFO - func:predict took: 5.51 sec\n",
      "2023-09-21 14:20:41,177 - hbmep.model.baseline - INFO - Rendering ...\n",
      "2023-09-21 14:20:47,835 - hbmep.model.baseline - INFO - Saved to /home/vishu/repos/hbmep-paper/reports/human/tms/hbm-chains/range/draw01/start30/recruitment_curves.pdf\n",
      "2023-09-21 14:20:47,836 - hbmep.utils.utils - INFO - func:render_recruitment_curves took: 6.68 sec\n",
      "2023-09-21 14:20:47,868 - hbmep.model.baseline - INFO - Rendering Posterior Predictive Check ...\n",
      "2023-09-21 14:20:55,086 - hbmep.model.baseline - INFO - Saved to /home/vishu/repos/hbmep-paper/reports/human/tms/hbm-chains/range/draw01/start30/posterior_predictive_check.pdf\n",
      "2023-09-21 14:20:55,087 - hbmep.utils.utils - INFO - func:_render_predictive_check took: 7.25 sec\n",
      "2023-09-21 14:20:55,087 - hbmep.utils.utils - INFO - func:render_predictive_check took: 7.25 sec\n",
      "2023-09-21 14:20:55,088 - __main__ - INFO - draw:1, start:40, end:70\n",
      "2023-09-21 14:20:58,355 - hbmep.utils.utils - INFO - func:predict took: 3.27 sec\n",
      "2023-09-21 14:20:58,364 - hbmep.config - INFO - Verifying configuration ...\n",
      "2023-09-21 14:20:58,364 - hbmep.config - INFO - Success!\n",
      "2023-09-21 14:20:58,364 - hbmep.model.baseline - INFO - Initialized model with hierarchical_bayesian link\n",
      "2023-09-21 14:20:58,365 - hbmep.model.baseline - INFO - Running inference with hierarchical_bayesian ...\n"
     ]
    },
    {
     "data": {
      "application/vnd.jupyter.widget-view+json": {
       "model_id": "1fa96ed0aa2c4430a7c663b6bb3ea6b1",
       "version_major": 2,
       "version_minor": 0
      },
      "text/plain": [
       "  0%|          | 0/1500 [00:00<?, ?it/s]"
      ]
     },
     "metadata": {},
     "output_type": "display_data"
    },
    {
     "data": {
      "application/vnd.jupyter.widget-view+json": {
       "model_id": "ff3e196139ac4ec2b5f124e2af8965d7",
       "version_major": 2,
       "version_minor": 0
      },
      "text/plain": [
       "  0%|          | 0/1500 [00:00<?, ?it/s]"
      ]
     },
     "metadata": {},
     "output_type": "display_data"
    },
    {
     "data": {
      "application/vnd.jupyter.widget-view+json": {
       "model_id": "dad054f041934fd3ad00dc29fe3559c6",
       "version_major": 2,
       "version_minor": 0
      },
      "text/plain": [
       "  0%|          | 0/1500 [00:00<?, ?it/s]"
      ]
     },
     "metadata": {},
     "output_type": "display_data"
    },
    {
     "data": {
      "application/vnd.jupyter.widget-view+json": {
       "model_id": "26d4aefc079741e88c9fc97b2250cb6e",
       "version_major": 2,
       "version_minor": 0
      },
      "text/plain": [
       "  0%|          | 0/1500 [00:00<?, ?it/s]"
      ]
     },
     "metadata": {},
     "output_type": "display_data"
    },
    {
     "name": "stderr",
     "output_type": "stream",
     "text": [
      "2023-09-21 14:27:29,641 - hbmep.utils.utils - INFO - func:run_inference took: 6 min and 31.28 sec\n",
      "2023-09-21 14:27:29,647 - hbmep.utils.utils - INFO - func:make_prediction_dataset took: 0.00 sec\n",
      "2023-09-21 14:27:35,158 - hbmep.utils.utils - INFO - func:predict took: 5.51 sec\n",
      "2023-09-21 14:27:35,178 - hbmep.model.baseline - INFO - Rendering ...\n",
      "2023-09-21 14:27:41,491 - hbmep.model.baseline - INFO - Saved to /home/vishu/repos/hbmep-paper/reports/human/tms/hbm-chains/range/draw01/start40/recruitment_curves.pdf\n",
      "2023-09-21 14:27:41,492 - hbmep.utils.utils - INFO - func:render_recruitment_curves took: 6.33 sec\n",
      "2023-09-21 14:27:41,523 - hbmep.model.baseline - INFO - Rendering Posterior Predictive Check ...\n",
      "2023-09-21 14:27:48,752 - hbmep.model.baseline - INFO - Saved to /home/vishu/repos/hbmep-paper/reports/human/tms/hbm-chains/range/draw01/start40/posterior_predictive_check.pdf\n",
      "2023-09-21 14:27:48,753 - hbmep.utils.utils - INFO - func:_render_predictive_check took: 7.26 sec\n",
      "2023-09-21 14:27:48,753 - hbmep.utils.utils - INFO - func:render_predictive_check took: 7.26 sec\n",
      "2023-09-21 14:27:48,754 - __main__ - INFO - draw:1, start:50, end:70\n",
      "2023-09-21 14:27:52,086 - hbmep.utils.utils - INFO - func:predict took: 3.33 sec\n",
      "2023-09-21 14:27:52,094 - hbmep.config - INFO - Verifying configuration ...\n",
      "2023-09-21 14:27:52,095 - hbmep.config - INFO - Success!\n",
      "2023-09-21 14:27:52,095 - hbmep.model.baseline - INFO - Initialized model with hierarchical_bayesian link\n",
      "2023-09-21 14:27:52,096 - hbmep.model.baseline - INFO - Running inference with hierarchical_bayesian ...\n"
     ]
    },
    {
     "data": {
      "application/vnd.jupyter.widget-view+json": {
       "model_id": "c616b36fb4374394a886060a02548581",
       "version_major": 2,
       "version_minor": 0
      },
      "text/plain": [
       "  0%|          | 0/1500 [00:00<?, ?it/s]"
      ]
     },
     "metadata": {},
     "output_type": "display_data"
    },
    {
     "data": {
      "application/vnd.jupyter.widget-view+json": {
       "model_id": "c98c94c3181b49b28ff4fcbac4fc6632",
       "version_major": 2,
       "version_minor": 0
      },
      "text/plain": [
       "  0%|          | 0/1500 [00:00<?, ?it/s]"
      ]
     },
     "metadata": {},
     "output_type": "display_data"
    },
    {
     "data": {
      "application/vnd.jupyter.widget-view+json": {
       "model_id": "fb47410edc0943adb2ad1b5f60a095cd",
       "version_major": 2,
       "version_minor": 0
      },
      "text/plain": [
       "  0%|          | 0/1500 [00:00<?, ?it/s]"
      ]
     },
     "metadata": {},
     "output_type": "display_data"
    },
    {
     "data": {
      "application/vnd.jupyter.widget-view+json": {
       "model_id": "46e87c9aea724e068e6155a21933e53c",
       "version_major": 2,
       "version_minor": 0
      },
      "text/plain": [
       "  0%|          | 0/1500 [00:00<?, ?it/s]"
      ]
     },
     "metadata": {},
     "output_type": "display_data"
    },
    {
     "name": "stderr",
     "output_type": "stream",
     "text": [
      "2023-09-21 14:34:21,720 - hbmep.utils.utils - INFO - func:run_inference took: 6 min and 29.62 sec\n",
      "2023-09-21 14:34:21,725 - hbmep.utils.utils - INFO - func:make_prediction_dataset took: 0.00 sec\n",
      "2023-09-21 14:34:27,282 - hbmep.utils.utils - INFO - func:predict took: 5.56 sec\n",
      "2023-09-21 14:34:27,303 - hbmep.model.baseline - INFO - Rendering ...\n",
      "2023-09-21 14:34:33,511 - hbmep.model.baseline - INFO - Saved to /home/vishu/repos/hbmep-paper/reports/human/tms/hbm-chains/range/draw01/start50/recruitment_curves.pdf\n",
      "2023-09-21 14:34:33,511 - hbmep.utils.utils - INFO - func:render_recruitment_curves took: 6.22 sec\n",
      "2023-09-21 14:34:33,541 - hbmep.model.baseline - INFO - Rendering Posterior Predictive Check ...\n",
      "2023-09-21 14:34:40,510 - hbmep.model.baseline - INFO - Saved to /home/vishu/repos/hbmep-paper/reports/human/tms/hbm-chains/range/draw01/start50/posterior_predictive_check.pdf\n",
      "2023-09-21 14:34:40,511 - hbmep.utils.utils - INFO - func:_render_predictive_check took: 7.00 sec\n",
      "2023-09-21 14:34:40,512 - hbmep.utils.utils - INFO - func:render_predictive_check took: 7.00 sec\n",
      "2023-09-21 14:34:40,512 - __main__ - INFO - draw:1, start:60, end:70\n",
      "2023-09-21 14:34:43,811 - hbmep.utils.utils - INFO - func:predict took: 3.30 sec\n",
      "2023-09-21 14:34:43,818 - hbmep.config - INFO - Verifying configuration ...\n",
      "2023-09-21 14:34:43,818 - hbmep.config - INFO - Success!\n",
      "2023-09-21 14:34:43,819 - hbmep.model.baseline - INFO - Initialized model with hierarchical_bayesian link\n",
      "2023-09-21 14:34:43,819 - hbmep.model.baseline - INFO - Running inference with hierarchical_bayesian ...\n"
     ]
    },
    {
     "data": {
      "application/vnd.jupyter.widget-view+json": {
       "model_id": "b7ff34c033df47a6819f37ca3c8d0155",
       "version_major": 2,
       "version_minor": 0
      },
      "text/plain": [
       "  0%|          | 0/1500 [00:00<?, ?it/s]"
      ]
     },
     "metadata": {},
     "output_type": "display_data"
    },
    {
     "data": {
      "application/vnd.jupyter.widget-view+json": {
       "model_id": "ad3d6658c7ac42e39c5929b25004d79e",
       "version_major": 2,
       "version_minor": 0
      },
      "text/plain": [
       "  0%|          | 0/1500 [00:00<?, ?it/s]"
      ]
     },
     "metadata": {},
     "output_type": "display_data"
    },
    {
     "data": {
      "application/vnd.jupyter.widget-view+json": {
       "model_id": "1229da0630284658942b5496f12c16f6",
       "version_major": 2,
       "version_minor": 0
      },
      "text/plain": [
       "  0%|          | 0/1500 [00:00<?, ?it/s]"
      ]
     },
     "metadata": {},
     "output_type": "display_data"
    },
    {
     "data": {
      "application/vnd.jupyter.widget-view+json": {
       "model_id": "5cb9b5f854c34c999804493d6d13fa15",
       "version_major": 2,
       "version_minor": 0
      },
      "text/plain": [
       "  0%|          | 0/1500 [00:00<?, ?it/s]"
      ]
     },
     "metadata": {},
     "output_type": "display_data"
    },
    {
     "name": "stderr",
     "output_type": "stream",
     "text": [
      "2023-09-21 14:41:01,277 - hbmep.utils.utils - INFO - func:run_inference took: 6 min and 17.46 sec\n",
      "2023-09-21 14:41:01,281 - hbmep.utils.utils - INFO - func:make_prediction_dataset took: 0.00 sec\n",
      "2023-09-21 14:41:06,793 - hbmep.utils.utils - INFO - func:predict took: 5.51 sec\n",
      "2023-09-21 14:41:06,813 - hbmep.model.baseline - INFO - Rendering ...\n",
      "2023-09-21 14:41:13,285 - hbmep.model.baseline - INFO - Saved to /home/vishu/repos/hbmep-paper/reports/human/tms/hbm-chains/range/draw01/start60/recruitment_curves.pdf\n",
      "2023-09-21 14:41:13,286 - hbmep.utils.utils - INFO - func:render_recruitment_curves took: 6.49 sec\n",
      "2023-09-21 14:41:13,316 - hbmep.model.baseline - INFO - Rendering Posterior Predictive Check ...\n",
      "2023-09-21 14:41:20,363 - hbmep.model.baseline - INFO - Saved to /home/vishu/repos/hbmep-paper/reports/human/tms/hbm-chains/range/draw01/start60/posterior_predictive_check.pdf\n",
      "2023-09-21 14:41:20,364 - hbmep.utils.utils - INFO - func:_render_predictive_check took: 7.08 sec\n",
      "2023-09-21 14:41:20,365 - hbmep.utils.utils - INFO - func:render_predictive_check took: 7.08 sec\n",
      "2023-09-21 14:41:20,366 - __main__ - INFO - draw:2, start:0, end:70\n",
      "2023-09-21 14:41:23,640 - hbmep.utils.utils - INFO - func:predict took: 3.27 sec\n",
      "2023-09-21 14:41:23,647 - hbmep.config - INFO - Verifying configuration ...\n",
      "2023-09-21 14:41:23,648 - hbmep.config - INFO - Success!\n",
      "2023-09-21 14:41:23,648 - hbmep.model.baseline - INFO - Initialized model with hierarchical_bayesian link\n",
      "2023-09-21 14:41:23,649 - hbmep.model.baseline - INFO - Running inference with hierarchical_bayesian ...\n"
     ]
    },
    {
     "data": {
      "application/vnd.jupyter.widget-view+json": {
       "model_id": "2d146e4a487b435fa89ed3a0e73fde5b",
       "version_major": 2,
       "version_minor": 0
      },
      "text/plain": [
       "  0%|          | 0/1500 [00:00<?, ?it/s]"
      ]
     },
     "metadata": {},
     "output_type": "display_data"
    },
    {
     "data": {
      "application/vnd.jupyter.widget-view+json": {
       "model_id": "450551d9c22a4608a4985ae00a8255b5",
       "version_major": 2,
       "version_minor": 0
      },
      "text/plain": [
       "  0%|          | 0/1500 [00:00<?, ?it/s]"
      ]
     },
     "metadata": {},
     "output_type": "display_data"
    },
    {
     "data": {
      "application/vnd.jupyter.widget-view+json": {
       "model_id": "0b5155a3d1f24959a6de6b722140a095",
       "version_major": 2,
       "version_minor": 0
      },
      "text/plain": [
       "  0%|          | 0/1500 [00:00<?, ?it/s]"
      ]
     },
     "metadata": {},
     "output_type": "display_data"
    },
    {
     "data": {
      "application/vnd.jupyter.widget-view+json": {
       "model_id": "3639dc7fd91b43cea70fb824c870629a",
       "version_major": 2,
       "version_minor": 0
      },
      "text/plain": [
       "  0%|          | 0/1500 [00:00<?, ?it/s]"
      ]
     },
     "metadata": {},
     "output_type": "display_data"
    },
    {
     "name": "stderr",
     "output_type": "stream",
     "text": [
      "2023-09-21 14:47:34,286 - hbmep.utils.utils - INFO - func:run_inference took: 6 min and 10.64 sec\n",
      "2023-09-21 14:47:34,291 - hbmep.utils.utils - INFO - func:make_prediction_dataset took: 0.00 sec\n",
      "2023-09-21 14:47:39,869 - hbmep.utils.utils - INFO - func:predict took: 5.58 sec\n",
      "2023-09-21 14:47:39,890 - hbmep.model.baseline - INFO - Rendering ...\n",
      "2023-09-21 14:47:46,278 - hbmep.model.baseline - INFO - Saved to /home/vishu/repos/hbmep-paper/reports/human/tms/hbm-chains/range/draw02/start00/recruitment_curves.pdf\n",
      "2023-09-21 14:47:46,279 - hbmep.utils.utils - INFO - func:render_recruitment_curves took: 6.40 sec\n",
      "2023-09-21 14:47:46,310 - hbmep.model.baseline - INFO - Rendering Posterior Predictive Check ...\n",
      "2023-09-21 14:47:53,855 - hbmep.model.baseline - INFO - Saved to /home/vishu/repos/hbmep-paper/reports/human/tms/hbm-chains/range/draw02/start00/posterior_predictive_check.pdf\n",
      "2023-09-21 14:47:53,856 - hbmep.utils.utils - INFO - func:_render_predictive_check took: 7.58 sec\n",
      "2023-09-21 14:47:53,857 - hbmep.utils.utils - INFO - func:render_predictive_check took: 7.58 sec\n",
      "2023-09-21 14:47:53,857 - __main__ - INFO - draw:2, start:10, end:70\n",
      "2023-09-21 14:47:57,151 - hbmep.utils.utils - INFO - func:predict took: 3.29 sec\n",
      "2023-09-21 14:47:57,158 - hbmep.config - INFO - Verifying configuration ...\n",
      "2023-09-21 14:47:57,158 - hbmep.config - INFO - Success!\n",
      "2023-09-21 14:47:57,158 - hbmep.model.baseline - INFO - Initialized model with hierarchical_bayesian link\n",
      "2023-09-21 14:47:57,159 - hbmep.model.baseline - INFO - Running inference with hierarchical_bayesian ...\n"
     ]
    },
    {
     "data": {
      "application/vnd.jupyter.widget-view+json": {
       "model_id": "5e2bb000043e4aaaa55ec5ac7c18877b",
       "version_major": 2,
       "version_minor": 0
      },
      "text/plain": [
       "  0%|          | 0/1500 [00:00<?, ?it/s]"
      ]
     },
     "metadata": {},
     "output_type": "display_data"
    },
    {
     "data": {
      "application/vnd.jupyter.widget-view+json": {
       "model_id": "cf10c33c8d7f4ed1952604134b676dc2",
       "version_major": 2,
       "version_minor": 0
      },
      "text/plain": [
       "  0%|          | 0/1500 [00:00<?, ?it/s]"
      ]
     },
     "metadata": {},
     "output_type": "display_data"
    },
    {
     "data": {
      "application/vnd.jupyter.widget-view+json": {
       "model_id": "ba2f4ad8b39348a68223319e74e3e1a7",
       "version_major": 2,
       "version_minor": 0
      },
      "text/plain": [
       "  0%|          | 0/1500 [00:00<?, ?it/s]"
      ]
     },
     "metadata": {},
     "output_type": "display_data"
    },
    {
     "data": {
      "application/vnd.jupyter.widget-view+json": {
       "model_id": "de7c76b2aeb4472e9b268552736530c2",
       "version_major": 2,
       "version_minor": 0
      },
      "text/plain": [
       "  0%|          | 0/1500 [00:00<?, ?it/s]"
      ]
     },
     "metadata": {},
     "output_type": "display_data"
    },
    {
     "name": "stderr",
     "output_type": "stream",
     "text": [
      "2023-09-21 14:54:07,809 - hbmep.utils.utils - INFO - func:run_inference took: 6 min and 10.65 sec\n",
      "2023-09-21 14:54:07,814 - hbmep.utils.utils - INFO - func:make_prediction_dataset took: 0.00 sec\n",
      "2023-09-21 14:54:13,325 - hbmep.utils.utils - INFO - func:predict took: 5.51 sec\n",
      "2023-09-21 14:54:13,347 - hbmep.model.baseline - INFO - Rendering ...\n",
      "2023-09-21 14:54:19,746 - hbmep.model.baseline - INFO - Saved to /home/vishu/repos/hbmep-paper/reports/human/tms/hbm-chains/range/draw02/start10/recruitment_curves.pdf\n",
      "2023-09-21 14:54:19,747 - hbmep.utils.utils - INFO - func:render_recruitment_curves took: 6.42 sec\n",
      "2023-09-21 14:54:19,777 - hbmep.model.baseline - INFO - Rendering Posterior Predictive Check ...\n",
      "2023-09-21 14:54:27,428 - hbmep.model.baseline - INFO - Saved to /home/vishu/repos/hbmep-paper/reports/human/tms/hbm-chains/range/draw02/start10/posterior_predictive_check.pdf\n",
      "2023-09-21 14:54:27,430 - hbmep.utils.utils - INFO - func:_render_predictive_check took: 7.68 sec\n",
      "2023-09-21 14:54:27,430 - hbmep.utils.utils - INFO - func:render_predictive_check took: 7.68 sec\n",
      "2023-09-21 14:54:27,430 - __main__ - INFO - draw:2, start:20, end:70\n",
      "2023-09-21 14:54:30,788 - hbmep.utils.utils - INFO - func:predict took: 3.36 sec\n",
      "2023-09-21 14:54:30,795 - hbmep.config - INFO - Verifying configuration ...\n",
      "2023-09-21 14:54:30,795 - hbmep.config - INFO - Success!\n",
      "2023-09-21 14:54:30,796 - hbmep.model.baseline - INFO - Initialized model with hierarchical_bayesian link\n",
      "2023-09-21 14:54:30,797 - hbmep.model.baseline - INFO - Running inference with hierarchical_bayesian ...\n"
     ]
    },
    {
     "data": {
      "application/vnd.jupyter.widget-view+json": {
       "model_id": "b6fece6eeb9c44e585b7d96c1a68b9e0",
       "version_major": 2,
       "version_minor": 0
      },
      "text/plain": [
       "  0%|          | 0/1500 [00:00<?, ?it/s]"
      ]
     },
     "metadata": {},
     "output_type": "display_data"
    },
    {
     "data": {
      "application/vnd.jupyter.widget-view+json": {
       "model_id": "55f038b315de47d38d4a77362588bcf8",
       "version_major": 2,
       "version_minor": 0
      },
      "text/plain": [
       "  0%|          | 0/1500 [00:00<?, ?it/s]"
      ]
     },
     "metadata": {},
     "output_type": "display_data"
    },
    {
     "data": {
      "application/vnd.jupyter.widget-view+json": {
       "model_id": "57ef8b336edf403380e95d4126351248",
       "version_major": 2,
       "version_minor": 0
      },
      "text/plain": [
       "  0%|          | 0/1500 [00:00<?, ?it/s]"
      ]
     },
     "metadata": {},
     "output_type": "display_data"
    },
    {
     "data": {
      "application/vnd.jupyter.widget-view+json": {
       "model_id": "735ff9ab6e10477294885cb3959cc032",
       "version_major": 2,
       "version_minor": 0
      },
      "text/plain": [
       "  0%|          | 0/1500 [00:00<?, ?it/s]"
      ]
     },
     "metadata": {},
     "output_type": "display_data"
    },
    {
     "name": "stderr",
     "output_type": "stream",
     "text": [
      "2023-09-21 15:00:48,472 - hbmep.utils.utils - INFO - func:run_inference took: 6 min and 17.68 sec\n",
      "2023-09-21 15:00:48,476 - hbmep.utils.utils - INFO - func:make_prediction_dataset took: 0.00 sec\n",
      "2023-09-21 15:00:53,947 - hbmep.utils.utils - INFO - func:predict took: 5.47 sec\n",
      "2023-09-21 15:00:53,967 - hbmep.model.baseline - INFO - Rendering ...\n",
      "2023-09-21 15:01:00,612 - hbmep.model.baseline - INFO - Saved to /home/vishu/repos/hbmep-paper/reports/human/tms/hbm-chains/range/draw02/start20/recruitment_curves.pdf\n",
      "2023-09-21 15:01:00,612 - hbmep.utils.utils - INFO - func:render_recruitment_curves took: 6.66 sec\n",
      "2023-09-21 15:01:00,644 - hbmep.model.baseline - INFO - Rendering Posterior Predictive Check ...\n",
      "2023-09-21 15:01:08,305 - hbmep.model.baseline - INFO - Saved to /home/vishu/repos/hbmep-paper/reports/human/tms/hbm-chains/range/draw02/start20/posterior_predictive_check.pdf\n",
      "2023-09-21 15:01:08,306 - hbmep.utils.utils - INFO - func:_render_predictive_check took: 7.69 sec\n",
      "2023-09-21 15:01:08,306 - hbmep.utils.utils - INFO - func:render_predictive_check took: 7.69 sec\n",
      "2023-09-21 15:01:08,307 - __main__ - INFO - draw:2, start:30, end:70\n",
      "2023-09-21 15:01:11,640 - hbmep.utils.utils - INFO - func:predict took: 3.33 sec\n",
      "2023-09-21 15:01:11,649 - hbmep.config - INFO - Verifying configuration ...\n",
      "2023-09-21 15:01:11,650 - hbmep.config - INFO - Success!\n",
      "2023-09-21 15:01:11,650 - hbmep.model.baseline - INFO - Initialized model with hierarchical_bayesian link\n",
      "2023-09-21 15:01:11,651 - hbmep.model.baseline - INFO - Running inference with hierarchical_bayesian ...\n"
     ]
    },
    {
     "data": {
      "application/vnd.jupyter.widget-view+json": {
       "model_id": "23643b9ac2e3492b8739304245d00fcd",
       "version_major": 2,
       "version_minor": 0
      },
      "text/plain": [
       "  0%|          | 0/1500 [00:00<?, ?it/s]"
      ]
     },
     "metadata": {},
     "output_type": "display_data"
    },
    {
     "data": {
      "application/vnd.jupyter.widget-view+json": {
       "model_id": "469a1265d70245e89cf17f1ee474b887",
       "version_major": 2,
       "version_minor": 0
      },
      "text/plain": [
       "  0%|          | 0/1500 [00:00<?, ?it/s]"
      ]
     },
     "metadata": {},
     "output_type": "display_data"
    },
    {
     "data": {
      "application/vnd.jupyter.widget-view+json": {
       "model_id": "f4b6e8a3cd5842fb94032870bce48f22",
       "version_major": 2,
       "version_minor": 0
      },
      "text/plain": [
       "  0%|          | 0/1500 [00:00<?, ?it/s]"
      ]
     },
     "metadata": {},
     "output_type": "display_data"
    },
    {
     "data": {
      "application/vnd.jupyter.widget-view+json": {
       "model_id": "d11f1a7b1f0847e1a2a7aa74c5da1b1c",
       "version_major": 2,
       "version_minor": 0
      },
      "text/plain": [
       "  0%|          | 0/1500 [00:00<?, ?it/s]"
      ]
     },
     "metadata": {},
     "output_type": "display_data"
    },
    {
     "name": "stderr",
     "output_type": "stream",
     "text": [
      "2023-09-21 15:07:41,233 - hbmep.utils.utils - INFO - func:run_inference took: 6 min and 29.58 sec\n",
      "2023-09-21 15:07:41,238 - hbmep.utils.utils - INFO - func:make_prediction_dataset took: 0.00 sec\n",
      "2023-09-21 15:07:46,765 - hbmep.utils.utils - INFO - func:predict took: 5.53 sec\n",
      "2023-09-21 15:07:46,785 - hbmep.model.baseline - INFO - Rendering ...\n",
      "2023-09-21 15:07:53,125 - hbmep.model.baseline - INFO - Saved to /home/vishu/repos/hbmep-paper/reports/human/tms/hbm-chains/range/draw02/start30/recruitment_curves.pdf\n",
      "2023-09-21 15:07:53,126 - hbmep.utils.utils - INFO - func:render_recruitment_curves took: 6.36 sec\n",
      "2023-09-21 15:07:53,159 - hbmep.model.baseline - INFO - Rendering Posterior Predictive Check ...\n",
      "2023-09-21 15:08:00,699 - hbmep.model.baseline - INFO - Saved to /home/vishu/repos/hbmep-paper/reports/human/tms/hbm-chains/range/draw02/start30/posterior_predictive_check.pdf\n",
      "2023-09-21 15:08:00,700 - hbmep.utils.utils - INFO - func:_render_predictive_check took: 7.57 sec\n",
      "2023-09-21 15:08:00,700 - hbmep.utils.utils - INFO - func:render_predictive_check took: 7.57 sec\n",
      "2023-09-21 15:08:00,701 - __main__ - INFO - draw:2, start:40, end:70\n",
      "2023-09-21 15:08:04,013 - hbmep.utils.utils - INFO - func:predict took: 3.31 sec\n",
      "2023-09-21 15:08:04,022 - hbmep.config - INFO - Verifying configuration ...\n",
      "2023-09-21 15:08:04,022 - hbmep.config - INFO - Success!\n",
      "2023-09-21 15:08:04,023 - hbmep.model.baseline - INFO - Initialized model with hierarchical_bayesian link\n",
      "2023-09-21 15:08:04,023 - hbmep.model.baseline - INFO - Running inference with hierarchical_bayesian ...\n"
     ]
    },
    {
     "data": {
      "application/vnd.jupyter.widget-view+json": {
       "model_id": "b997210045f44ce4b152859ae4fd2095",
       "version_major": 2,
       "version_minor": 0
      },
      "text/plain": [
       "  0%|          | 0/1500 [00:00<?, ?it/s]"
      ]
     },
     "metadata": {},
     "output_type": "display_data"
    },
    {
     "data": {
      "application/vnd.jupyter.widget-view+json": {
       "model_id": "fb7ea1fb4b6048d2aeece937a0d6644b",
       "version_major": 2,
       "version_minor": 0
      },
      "text/plain": [
       "  0%|          | 0/1500 [00:00<?, ?it/s]"
      ]
     },
     "metadata": {},
     "output_type": "display_data"
    },
    {
     "data": {
      "application/vnd.jupyter.widget-view+json": {
       "model_id": "f1982f6fa31a49b396f3717262b322c1",
       "version_major": 2,
       "version_minor": 0
      },
      "text/plain": [
       "  0%|          | 0/1500 [00:00<?, ?it/s]"
      ]
     },
     "metadata": {},
     "output_type": "display_data"
    },
    {
     "data": {
      "application/vnd.jupyter.widget-view+json": {
       "model_id": "428f9e93c51f41a4801bf049c2b529e2",
       "version_major": 2,
       "version_minor": 0
      },
      "text/plain": [
       "  0%|          | 0/1500 [00:00<?, ?it/s]"
      ]
     },
     "metadata": {},
     "output_type": "display_data"
    },
    {
     "name": "stderr",
     "output_type": "stream",
     "text": [
      "2023-09-21 15:14:36,800 - hbmep.utils.utils - INFO - func:run_inference took: 6 min and 32.78 sec\n",
      "2023-09-21 15:14:36,805 - hbmep.utils.utils - INFO - func:make_prediction_dataset took: 0.00 sec\n",
      "2023-09-21 15:14:42,342 - hbmep.utils.utils - INFO - func:predict took: 5.54 sec\n",
      "2023-09-21 15:14:42,363 - hbmep.model.baseline - INFO - Rendering ...\n",
      "2023-09-21 15:14:49,283 - hbmep.model.baseline - INFO - Saved to /home/vishu/repos/hbmep-paper/reports/human/tms/hbm-chains/range/draw02/start40/recruitment_curves.pdf\n",
      "2023-09-21 15:14:49,284 - hbmep.utils.utils - INFO - func:render_recruitment_curves took: 6.94 sec\n",
      "2023-09-21 15:14:49,314 - hbmep.model.baseline - INFO - Rendering Posterior Predictive Check ...\n",
      "2023-09-21 15:14:56,805 - hbmep.model.baseline - INFO - Saved to /home/vishu/repos/hbmep-paper/reports/human/tms/hbm-chains/range/draw02/start40/posterior_predictive_check.pdf\n",
      "2023-09-21 15:14:56,806 - hbmep.utils.utils - INFO - func:_render_predictive_check took: 7.52 sec\n",
      "2023-09-21 15:14:56,806 - hbmep.utils.utils - INFO - func:render_predictive_check took: 7.52 sec\n",
      "2023-09-21 15:14:56,807 - __main__ - INFO - draw:2, start:50, end:70\n",
      "2023-09-21 15:15:00,119 - hbmep.utils.utils - INFO - func:predict took: 3.31 sec\n",
      "2023-09-21 15:15:00,126 - hbmep.config - INFO - Verifying configuration ...\n",
      "2023-09-21 15:15:00,127 - hbmep.config - INFO - Success!\n",
      "2023-09-21 15:15:00,127 - hbmep.model.baseline - INFO - Initialized model with hierarchical_bayesian link\n",
      "2023-09-21 15:15:00,128 - hbmep.model.baseline - INFO - Running inference with hierarchical_bayesian ...\n"
     ]
    },
    {
     "data": {
      "application/vnd.jupyter.widget-view+json": {
       "model_id": "4baa6ffb579a45b7883900e306623cd9",
       "version_major": 2,
       "version_minor": 0
      },
      "text/plain": [
       "  0%|          | 0/1500 [00:00<?, ?it/s]"
      ]
     },
     "metadata": {},
     "output_type": "display_data"
    },
    {
     "data": {
      "application/vnd.jupyter.widget-view+json": {
       "model_id": "51a1dfb5b6a64787ae204925adc40169",
       "version_major": 2,
       "version_minor": 0
      },
      "text/plain": [
       "  0%|          | 0/1500 [00:00<?, ?it/s]"
      ]
     },
     "metadata": {},
     "output_type": "display_data"
    },
    {
     "data": {
      "application/vnd.jupyter.widget-view+json": {
       "model_id": "3d82700cf46e4e75a9bdfacf44e36200",
       "version_major": 2,
       "version_minor": 0
      },
      "text/plain": [
       "  0%|          | 0/1500 [00:00<?, ?it/s]"
      ]
     },
     "metadata": {},
     "output_type": "display_data"
    },
    {
     "data": {
      "application/vnd.jupyter.widget-view+json": {
       "model_id": "ca850a905d0b4f08bbf9620006f03f2d",
       "version_major": 2,
       "version_minor": 0
      },
      "text/plain": [
       "  0%|          | 0/1500 [00:00<?, ?it/s]"
      ]
     },
     "metadata": {},
     "output_type": "display_data"
    },
    {
     "name": "stderr",
     "output_type": "stream",
     "text": [
      "2023-09-21 15:21:27,014 - hbmep.utils.utils - INFO - func:run_inference took: 6 min and 26.89 sec\n",
      "2023-09-21 15:21:27,019 - hbmep.utils.utils - INFO - func:make_prediction_dataset took: 0.00 sec\n",
      "2023-09-21 15:21:32,662 - hbmep.utils.utils - INFO - func:predict took: 5.64 sec\n",
      "2023-09-21 15:21:32,682 - hbmep.model.baseline - INFO - Rendering ...\n",
      "2023-09-21 15:21:39,333 - hbmep.model.baseline - INFO - Saved to /home/vishu/repos/hbmep-paper/reports/human/tms/hbm-chains/range/draw02/start50/recruitment_curves.pdf\n",
      "2023-09-21 15:21:39,334 - hbmep.utils.utils - INFO - func:render_recruitment_curves took: 6.67 sec\n",
      "2023-09-21 15:21:39,364 - hbmep.model.baseline - INFO - Rendering Posterior Predictive Check ...\n",
      "2023-09-21 15:21:46,703 - hbmep.model.baseline - INFO - Saved to /home/vishu/repos/hbmep-paper/reports/human/tms/hbm-chains/range/draw02/start50/posterior_predictive_check.pdf\n",
      "2023-09-21 15:21:46,705 - hbmep.utils.utils - INFO - func:_render_predictive_check took: 7.37 sec\n",
      "2023-09-21 15:21:46,705 - hbmep.utils.utils - INFO - func:render_predictive_check took: 7.37 sec\n",
      "2023-09-21 15:21:46,706 - __main__ - INFO - draw:2, start:60, end:70\n",
      "2023-09-21 15:21:49,969 - hbmep.utils.utils - INFO - func:predict took: 3.26 sec\n",
      "2023-09-21 15:21:49,984 - hbmep.config - INFO - Verifying configuration ...\n",
      "2023-09-21 15:21:49,984 - hbmep.config - INFO - Success!\n",
      "2023-09-21 15:21:49,984 - hbmep.model.baseline - INFO - Initialized model with hierarchical_bayesian link\n",
      "2023-09-21 15:21:49,985 - hbmep.model.baseline - INFO - Running inference with hierarchical_bayesian ...\n"
     ]
    },
    {
     "data": {
      "application/vnd.jupyter.widget-view+json": {
       "model_id": "6464e7da94da40a299eda2d8ab5a2bd2",
       "version_major": 2,
       "version_minor": 0
      },
      "text/plain": [
       "  0%|          | 0/1500 [00:00<?, ?it/s]"
      ]
     },
     "metadata": {},
     "output_type": "display_data"
    },
    {
     "data": {
      "application/vnd.jupyter.widget-view+json": {
       "model_id": "42477ee5cde34e44b9ba1fc215915b7d",
       "version_major": 2,
       "version_minor": 0
      },
      "text/plain": [
       "  0%|          | 0/1500 [00:00<?, ?it/s]"
      ]
     },
     "metadata": {},
     "output_type": "display_data"
    },
    {
     "data": {
      "application/vnd.jupyter.widget-view+json": {
       "model_id": "59ea0e14b2464c4796a481dbbe51ef4f",
       "version_major": 2,
       "version_minor": 0
      },
      "text/plain": [
       "  0%|          | 0/1500 [00:00<?, ?it/s]"
      ]
     },
     "metadata": {},
     "output_type": "display_data"
    },
    {
     "data": {
      "application/vnd.jupyter.widget-view+json": {
       "model_id": "ee5739bb48e6458ca354d4af3bc87e51",
       "version_major": 2,
       "version_minor": 0
      },
      "text/plain": [
       "  0%|          | 0/1500 [00:00<?, ?it/s]"
      ]
     },
     "metadata": {},
     "output_type": "display_data"
    },
    {
     "name": "stderr",
     "output_type": "stream",
     "text": [
      "2023-09-21 15:28:09,039 - hbmep.utils.utils - INFO - func:run_inference took: 6 min and 19.05 sec\n",
      "2023-09-21 15:28:09,044 - hbmep.utils.utils - INFO - func:make_prediction_dataset took: 0.00 sec\n",
      "2023-09-21 15:28:14,533 - hbmep.utils.utils - INFO - func:predict took: 5.49 sec\n",
      "2023-09-21 15:28:14,553 - hbmep.model.baseline - INFO - Rendering ...\n",
      "2023-09-21 15:28:21,023 - hbmep.model.baseline - INFO - Saved to /home/vishu/repos/hbmep-paper/reports/human/tms/hbm-chains/range/draw02/start60/recruitment_curves.pdf\n",
      "2023-09-21 15:28:21,024 - hbmep.utils.utils - INFO - func:render_recruitment_curves took: 6.49 sec\n",
      "2023-09-21 15:28:21,054 - hbmep.model.baseline - INFO - Rendering Posterior Predictive Check ...\n",
      "2023-09-21 15:28:28,381 - hbmep.model.baseline - INFO - Saved to /home/vishu/repos/hbmep-paper/reports/human/tms/hbm-chains/range/draw02/start60/posterior_predictive_check.pdf\n",
      "2023-09-21 15:28:28,383 - hbmep.utils.utils - INFO - func:_render_predictive_check took: 7.36 sec\n",
      "2023-09-21 15:28:28,383 - hbmep.utils.utils - INFO - func:render_predictive_check took: 7.36 sec\n",
      "2023-09-21 15:28:28,384 - __main__ - INFO - draw:3, start:0, end:70\n",
      "2023-09-21 15:28:31,717 - hbmep.utils.utils - INFO - func:predict took: 3.33 sec\n",
      "2023-09-21 15:28:31,725 - hbmep.config - INFO - Verifying configuration ...\n",
      "2023-09-21 15:28:31,725 - hbmep.config - INFO - Success!\n",
      "2023-09-21 15:28:31,726 - hbmep.model.baseline - INFO - Initialized model with hierarchical_bayesian link\n",
      "2023-09-21 15:28:31,726 - hbmep.model.baseline - INFO - Running inference with hierarchical_bayesian ...\n"
     ]
    },
    {
     "data": {
      "application/vnd.jupyter.widget-view+json": {
       "model_id": "f98623e10ba44f28bac7aa960001ae1b",
       "version_major": 2,
       "version_minor": 0
      },
      "text/plain": [
       "  0%|          | 0/1500 [00:00<?, ?it/s]"
      ]
     },
     "metadata": {},
     "output_type": "display_data"
    },
    {
     "data": {
      "application/vnd.jupyter.widget-view+json": {
       "model_id": "40b11168fd6145398319fc82dd5acac2",
       "version_major": 2,
       "version_minor": 0
      },
      "text/plain": [
       "  0%|          | 0/1500 [00:00<?, ?it/s]"
      ]
     },
     "metadata": {},
     "output_type": "display_data"
    },
    {
     "data": {
      "application/vnd.jupyter.widget-view+json": {
       "model_id": "8e0ec28a3f5e4b9790b482b66db59212",
       "version_major": 2,
       "version_minor": 0
      },
      "text/plain": [
       "  0%|          | 0/1500 [00:00<?, ?it/s]"
      ]
     },
     "metadata": {},
     "output_type": "display_data"
    },
    {
     "data": {
      "application/vnd.jupyter.widget-view+json": {
       "model_id": "52d19002b90742e88715ac3b53f94660",
       "version_major": 2,
       "version_minor": 0
      },
      "text/plain": [
       "  0%|          | 0/1500 [00:00<?, ?it/s]"
      ]
     },
     "metadata": {},
     "output_type": "display_data"
    },
    {
     "name": "stderr",
     "output_type": "stream",
     "text": [
      "2023-09-21 15:34:43,687 - hbmep.utils.utils - INFO - func:run_inference took: 6 min and 11.96 sec\n",
      "2023-09-21 15:34:43,692 - hbmep.utils.utils - INFO - func:make_prediction_dataset took: 0.00 sec\n",
      "2023-09-21 15:34:49,161 - hbmep.utils.utils - INFO - func:predict took: 5.47 sec\n",
      "2023-09-21 15:34:49,180 - hbmep.model.baseline - INFO - Rendering ...\n",
      "2023-09-21 15:34:56,062 - hbmep.model.baseline - INFO - Saved to /home/vishu/repos/hbmep-paper/reports/human/tms/hbm-chains/range/draw03/start00/recruitment_curves.pdf\n",
      "2023-09-21 15:34:56,063 - hbmep.utils.utils - INFO - func:render_recruitment_curves took: 6.90 sec\n",
      "2023-09-21 15:34:56,094 - hbmep.model.baseline - INFO - Rendering Posterior Predictive Check ...\n",
      "2023-09-21 15:35:04,029 - hbmep.model.baseline - INFO - Saved to /home/vishu/repos/hbmep-paper/reports/human/tms/hbm-chains/range/draw03/start00/posterior_predictive_check.pdf\n",
      "2023-09-21 15:35:04,030 - hbmep.utils.utils - INFO - func:_render_predictive_check took: 7.97 sec\n",
      "2023-09-21 15:35:04,030 - hbmep.utils.utils - INFO - func:render_predictive_check took: 7.97 sec\n",
      "2023-09-21 15:35:04,031 - __main__ - INFO - draw:3, start:10, end:70\n",
      "2023-09-21 15:35:07,325 - hbmep.utils.utils - INFO - func:predict took: 3.29 sec\n",
      "2023-09-21 15:35:07,333 - hbmep.config - INFO - Verifying configuration ...\n",
      "2023-09-21 15:35:07,333 - hbmep.config - INFO - Success!\n",
      "2023-09-21 15:35:07,333 - hbmep.model.baseline - INFO - Initialized model with hierarchical_bayesian link\n",
      "2023-09-21 15:35:07,333 - hbmep.model.baseline - INFO - Running inference with hierarchical_bayesian ...\n"
     ]
    },
    {
     "data": {
      "application/vnd.jupyter.widget-view+json": {
       "model_id": "d067c69eea414ebb8a6ebeaecc53057e",
       "version_major": 2,
       "version_minor": 0
      },
      "text/plain": [
       "  0%|          | 0/1500 [00:00<?, ?it/s]"
      ]
     },
     "metadata": {},
     "output_type": "display_data"
    },
    {
     "data": {
      "application/vnd.jupyter.widget-view+json": {
       "model_id": "206c8196103447ebb80edff3273a6d47",
       "version_major": 2,
       "version_minor": 0
      },
      "text/plain": [
       "  0%|          | 0/1500 [00:00<?, ?it/s]"
      ]
     },
     "metadata": {},
     "output_type": "display_data"
    },
    {
     "data": {
      "application/vnd.jupyter.widget-view+json": {
       "model_id": "332f8378ddac4dc7859966c79677eb56",
       "version_major": 2,
       "version_minor": 0
      },
      "text/plain": [
       "  0%|          | 0/1500 [00:00<?, ?it/s]"
      ]
     },
     "metadata": {},
     "output_type": "display_data"
    },
    {
     "data": {
      "application/vnd.jupyter.widget-view+json": {
       "model_id": "00ff5e6a30924c6ca6f83b1a88cf5f99",
       "version_major": 2,
       "version_minor": 0
      },
      "text/plain": [
       "  0%|          | 0/1500 [00:00<?, ?it/s]"
      ]
     },
     "metadata": {},
     "output_type": "display_data"
    },
    {
     "name": "stderr",
     "output_type": "stream",
     "text": [
      "2023-09-21 15:41:19,509 - hbmep.utils.utils - INFO - func:run_inference took: 6 min and 12.18 sec\n",
      "2023-09-21 15:41:19,514 - hbmep.utils.utils - INFO - func:make_prediction_dataset took: 0.00 sec\n",
      "2023-09-21 15:41:25,007 - hbmep.utils.utils - INFO - func:predict took: 5.49 sec\n",
      "2023-09-21 15:41:25,027 - hbmep.model.baseline - INFO - Rendering ...\n",
      "2023-09-21 15:41:31,775 - hbmep.model.baseline - INFO - Saved to /home/vishu/repos/hbmep-paper/reports/human/tms/hbm-chains/range/draw03/start10/recruitment_curves.pdf\n",
      "2023-09-21 15:41:31,776 - hbmep.utils.utils - INFO - func:render_recruitment_curves took: 6.76 sec\n",
      "2023-09-21 15:41:31,807 - hbmep.model.baseline - INFO - Rendering Posterior Predictive Check ...\n",
      "2023-09-21 15:41:38,929 - hbmep.model.baseline - INFO - Saved to /home/vishu/repos/hbmep-paper/reports/human/tms/hbm-chains/range/draw03/start10/posterior_predictive_check.pdf\n",
      "2023-09-21 15:41:38,930 - hbmep.utils.utils - INFO - func:_render_predictive_check took: 7.15 sec\n",
      "2023-09-21 15:41:38,931 - hbmep.utils.utils - INFO - func:render_predictive_check took: 7.15 sec\n",
      "2023-09-21 15:41:38,932 - __main__ - INFO - draw:3, start:20, end:70\n",
      "2023-09-21 15:41:43,167 - hbmep.utils.utils - INFO - func:predict took: 4.23 sec\n",
      "2023-09-21 15:41:43,174 - hbmep.config - INFO - Verifying configuration ...\n",
      "2023-09-21 15:41:43,174 - hbmep.config - INFO - Success!\n",
      "2023-09-21 15:41:43,174 - hbmep.model.baseline - INFO - Initialized model with hierarchical_bayesian link\n",
      "2023-09-21 15:41:43,175 - hbmep.model.baseline - INFO - Running inference with hierarchical_bayesian ...\n"
     ]
    },
    {
     "data": {
      "application/vnd.jupyter.widget-view+json": {
       "model_id": "b5072d02eea349e383e6a1f4063564f5",
       "version_major": 2,
       "version_minor": 0
      },
      "text/plain": [
       "  0%|          | 0/1500 [00:00<?, ?it/s]"
      ]
     },
     "metadata": {},
     "output_type": "display_data"
    },
    {
     "data": {
      "application/vnd.jupyter.widget-view+json": {
       "model_id": "121260f88285488a9a7f633a19dfecbf",
       "version_major": 2,
       "version_minor": 0
      },
      "text/plain": [
       "  0%|          | 0/1500 [00:00<?, ?it/s]"
      ]
     },
     "metadata": {},
     "output_type": "display_data"
    },
    {
     "data": {
      "application/vnd.jupyter.widget-view+json": {
       "model_id": "8754ce6aceb54f9ca254d3bc9ba7662d",
       "version_major": 2,
       "version_minor": 0
      },
      "text/plain": [
       "  0%|          | 0/1500 [00:00<?, ?it/s]"
      ]
     },
     "metadata": {},
     "output_type": "display_data"
    },
    {
     "data": {
      "application/vnd.jupyter.widget-view+json": {
       "model_id": "bc480a1421db45f2a01f746f7eff8764",
       "version_major": 2,
       "version_minor": 0
      },
      "text/plain": [
       "  0%|          | 0/1500 [00:00<?, ?it/s]"
      ]
     },
     "metadata": {},
     "output_type": "display_data"
    },
    {
     "name": "stderr",
     "output_type": "stream",
     "text": [
      "2023-09-21 15:48:05,675 - hbmep.utils.utils - INFO - func:run_inference took: 6 min and 22.50 sec\n",
      "2023-09-21 15:48:05,680 - hbmep.utils.utils - INFO - func:make_prediction_dataset took: 0.00 sec\n",
      "2023-09-21 15:48:11,222 - hbmep.utils.utils - INFO - func:predict took: 5.54 sec\n",
      "2023-09-21 15:48:11,241 - hbmep.model.baseline - INFO - Rendering ...\n",
      "2023-09-21 15:48:18,721 - hbmep.model.baseline - INFO - Saved to /home/vishu/repos/hbmep-paper/reports/human/tms/hbm-chains/range/draw03/start20/recruitment_curves.pdf\n",
      "2023-09-21 15:48:18,722 - hbmep.utils.utils - INFO - func:render_recruitment_curves took: 7.50 sec\n",
      "2023-09-21 15:48:18,753 - hbmep.model.baseline - INFO - Rendering Posterior Predictive Check ...\n",
      "2023-09-21 15:48:25,724 - hbmep.model.baseline - INFO - Saved to /home/vishu/repos/hbmep-paper/reports/human/tms/hbm-chains/range/draw03/start20/posterior_predictive_check.pdf\n",
      "2023-09-21 15:48:25,725 - hbmep.utils.utils - INFO - func:_render_predictive_check took: 7.00 sec\n",
      "2023-09-21 15:48:25,725 - hbmep.utils.utils - INFO - func:render_predictive_check took: 7.00 sec\n",
      "2023-09-21 15:48:25,726 - __main__ - INFO - draw:3, start:30, end:70\n",
      "2023-09-21 15:48:29,026 - hbmep.utils.utils - INFO - func:predict took: 3.30 sec\n",
      "2023-09-21 15:48:29,032 - hbmep.config - INFO - Verifying configuration ...\n",
      "2023-09-21 15:48:29,033 - hbmep.config - INFO - Success!\n",
      "2023-09-21 15:48:29,033 - hbmep.model.baseline - INFO - Initialized model with hierarchical_bayesian link\n",
      "2023-09-21 15:48:29,034 - hbmep.model.baseline - INFO - Running inference with hierarchical_bayesian ...\n"
     ]
    },
    {
     "data": {
      "application/vnd.jupyter.widget-view+json": {
       "model_id": "00bf94de79d743588fde74d86002b767",
       "version_major": 2,
       "version_minor": 0
      },
      "text/plain": [
       "  0%|          | 0/1500 [00:00<?, ?it/s]"
      ]
     },
     "metadata": {},
     "output_type": "display_data"
    },
    {
     "data": {
      "application/vnd.jupyter.widget-view+json": {
       "model_id": "e74d039ea667411586e66d891c9b33ab",
       "version_major": 2,
       "version_minor": 0
      },
      "text/plain": [
       "  0%|          | 0/1500 [00:00<?, ?it/s]"
      ]
     },
     "metadata": {},
     "output_type": "display_data"
    },
    {
     "data": {
      "application/vnd.jupyter.widget-view+json": {
       "model_id": "4192750a25174bff815107058291c460",
       "version_major": 2,
       "version_minor": 0
      },
      "text/plain": [
       "  0%|          | 0/1500 [00:00<?, ?it/s]"
      ]
     },
     "metadata": {},
     "output_type": "display_data"
    },
    {
     "data": {
      "application/vnd.jupyter.widget-view+json": {
       "model_id": "f7456dc2ce8b43e9aa930ddae77baf1f",
       "version_major": 2,
       "version_minor": 0
      },
      "text/plain": [
       "  0%|          | 0/1500 [00:00<?, ?it/s]"
      ]
     },
     "metadata": {},
     "output_type": "display_data"
    },
    {
     "name": "stderr",
     "output_type": "stream",
     "text": [
      "2023-09-21 15:54:57,098 - hbmep.utils.utils - INFO - func:run_inference took: 6 min and 28.06 sec\n",
      "2023-09-21 15:54:57,103 - hbmep.utils.utils - INFO - func:make_prediction_dataset took: 0.00 sec\n",
      "2023-09-21 15:55:02,630 - hbmep.utils.utils - INFO - func:predict took: 5.53 sec\n",
      "2023-09-21 15:55:02,650 - hbmep.model.baseline - INFO - Rendering ...\n",
      "2023-09-21 15:55:09,023 - hbmep.model.baseline - INFO - Saved to /home/vishu/repos/hbmep-paper/reports/human/tms/hbm-chains/range/draw03/start30/recruitment_curves.pdf\n",
      "2023-09-21 15:55:09,024 - hbmep.utils.utils - INFO - func:render_recruitment_curves took: 6.39 sec\n",
      "2023-09-21 15:55:09,054 - hbmep.model.baseline - INFO - Rendering Posterior Predictive Check ...\n",
      "2023-09-21 15:55:15,904 - hbmep.model.baseline - INFO - Saved to /home/vishu/repos/hbmep-paper/reports/human/tms/hbm-chains/range/draw03/start30/posterior_predictive_check.pdf\n",
      "2023-09-21 15:55:15,906 - hbmep.utils.utils - INFO - func:_render_predictive_check took: 6.88 sec\n",
      "2023-09-21 15:55:15,906 - hbmep.utils.utils - INFO - func:render_predictive_check took: 6.88 sec\n",
      "2023-09-21 15:55:15,907 - __main__ - INFO - draw:3, start:40, end:70\n",
      "2023-09-21 15:55:19,219 - hbmep.utils.utils - INFO - func:predict took: 3.31 sec\n",
      "2023-09-21 15:55:19,226 - hbmep.config - INFO - Verifying configuration ...\n",
      "2023-09-21 15:55:19,226 - hbmep.config - INFO - Success!\n",
      "2023-09-21 15:55:19,226 - hbmep.model.baseline - INFO - Initialized model with hierarchical_bayesian link\n",
      "2023-09-21 15:55:19,227 - hbmep.model.baseline - INFO - Running inference with hierarchical_bayesian ...\n"
     ]
    },
    {
     "data": {
      "application/vnd.jupyter.widget-view+json": {
       "model_id": "6e6e1b63a68441f79d67d8828ea91625",
       "version_major": 2,
       "version_minor": 0
      },
      "text/plain": [
       "  0%|          | 0/1500 [00:00<?, ?it/s]"
      ]
     },
     "metadata": {},
     "output_type": "display_data"
    },
    {
     "data": {
      "application/vnd.jupyter.widget-view+json": {
       "model_id": "387cd98e20bd4f898af36e0dcd0fb63e",
       "version_major": 2,
       "version_minor": 0
      },
      "text/plain": [
       "  0%|          | 0/1500 [00:00<?, ?it/s]"
      ]
     },
     "metadata": {},
     "output_type": "display_data"
    },
    {
     "data": {
      "application/vnd.jupyter.widget-view+json": {
       "model_id": "abc8514afca549cbbbce5647c4dc08d3",
       "version_major": 2,
       "version_minor": 0
      },
      "text/plain": [
       "  0%|          | 0/1500 [00:00<?, ?it/s]"
      ]
     },
     "metadata": {},
     "output_type": "display_data"
    },
    {
     "data": {
      "application/vnd.jupyter.widget-view+json": {
       "model_id": "4aeb6b6a8b3144b9b3435d87d3008bf0",
       "version_major": 2,
       "version_minor": 0
      },
      "text/plain": [
       "  0%|          | 0/1500 [00:00<?, ?it/s]"
      ]
     },
     "metadata": {},
     "output_type": "display_data"
    },
    {
     "name": "stderr",
     "output_type": "stream",
     "text": [
      "2023-09-21 16:01:49,999 - hbmep.utils.utils - INFO - func:run_inference took: 6 min and 30.77 sec\n",
      "2023-09-21 16:01:50,004 - hbmep.utils.utils - INFO - func:make_prediction_dataset took: 0.00 sec\n",
      "2023-09-21 16:01:55,526 - hbmep.utils.utils - INFO - func:predict took: 5.52 sec\n",
      "2023-09-21 16:01:55,546 - hbmep.model.baseline - INFO - Rendering ...\n",
      "2023-09-21 16:02:01,936 - hbmep.model.baseline - INFO - Saved to /home/vishu/repos/hbmep-paper/reports/human/tms/hbm-chains/range/draw03/start40/recruitment_curves.pdf\n",
      "2023-09-21 16:02:01,937 - hbmep.utils.utils - INFO - func:render_recruitment_curves took: 6.41 sec\n",
      "2023-09-21 16:02:01,969 - hbmep.model.baseline - INFO - Rendering Posterior Predictive Check ...\n",
      "2023-09-21 16:02:10,117 - hbmep.model.baseline - INFO - Saved to /home/vishu/repos/hbmep-paper/reports/human/tms/hbm-chains/range/draw03/start40/posterior_predictive_check.pdf\n",
      "2023-09-21 16:02:10,119 - hbmep.utils.utils - INFO - func:_render_predictive_check took: 8.18 sec\n",
      "2023-09-21 16:02:10,119 - hbmep.utils.utils - INFO - func:render_predictive_check took: 8.18 sec\n",
      "2023-09-21 16:02:10,119 - __main__ - INFO - draw:3, start:50, end:70\n",
      "2023-09-21 16:02:13,534 - hbmep.utils.utils - INFO - func:predict took: 3.41 sec\n",
      "2023-09-21 16:02:13,541 - hbmep.config - INFO - Verifying configuration ...\n",
      "2023-09-21 16:02:13,541 - hbmep.config - INFO - Success!\n",
      "2023-09-21 16:02:13,542 - hbmep.model.baseline - INFO - Initialized model with hierarchical_bayesian link\n",
      "2023-09-21 16:02:13,542 - hbmep.model.baseline - INFO - Running inference with hierarchical_bayesian ...\n"
     ]
    },
    {
     "data": {
      "application/vnd.jupyter.widget-view+json": {
       "model_id": "d64ff1db91d84ae8b6cc99a11c1c4b22",
       "version_major": 2,
       "version_minor": 0
      },
      "text/plain": [
       "  0%|          | 0/1500 [00:00<?, ?it/s]"
      ]
     },
     "metadata": {},
     "output_type": "display_data"
    },
    {
     "data": {
      "application/vnd.jupyter.widget-view+json": {
       "model_id": "a47c7404c1c04c76abee5be6b5dad6ee",
       "version_major": 2,
       "version_minor": 0
      },
      "text/plain": [
       "  0%|          | 0/1500 [00:00<?, ?it/s]"
      ]
     },
     "metadata": {},
     "output_type": "display_data"
    },
    {
     "data": {
      "application/vnd.jupyter.widget-view+json": {
       "model_id": "cb9f962675a447ff807c2936708ab3d3",
       "version_major": 2,
       "version_minor": 0
      },
      "text/plain": [
       "  0%|          | 0/1500 [00:00<?, ?it/s]"
      ]
     },
     "metadata": {},
     "output_type": "display_data"
    },
    {
     "data": {
      "application/vnd.jupyter.widget-view+json": {
       "model_id": "b762463d43ad4a66b2d50539905e620e",
       "version_major": 2,
       "version_minor": 0
      },
      "text/plain": [
       "  0%|          | 0/1500 [00:00<?, ?it/s]"
      ]
     },
     "metadata": {},
     "output_type": "display_data"
    },
    {
     "name": "stderr",
     "output_type": "stream",
     "text": [
      "2023-09-21 16:08:46,268 - hbmep.utils.utils - INFO - func:run_inference took: 6 min and 32.73 sec\n",
      "2023-09-21 16:08:46,273 - hbmep.utils.utils - INFO - func:make_prediction_dataset took: 0.00 sec\n",
      "2023-09-21 16:08:51,843 - hbmep.utils.utils - INFO - func:predict took: 5.57 sec\n",
      "2023-09-21 16:08:51,864 - hbmep.model.baseline - INFO - Rendering ...\n",
      "2023-09-21 16:08:57,695 - hbmep.model.baseline - INFO - Saved to /home/vishu/repos/hbmep-paper/reports/human/tms/hbm-chains/range/draw03/start50/recruitment_curves.pdf\n",
      "2023-09-21 16:08:57,696 - hbmep.utils.utils - INFO - func:render_recruitment_curves took: 5.85 sec\n",
      "2023-09-21 16:08:57,727 - hbmep.model.baseline - INFO - Rendering Posterior Predictive Check ...\n",
      "2023-09-21 16:09:05,405 - hbmep.model.baseline - INFO - Saved to /home/vishu/repos/hbmep-paper/reports/human/tms/hbm-chains/range/draw03/start50/posterior_predictive_check.pdf\n",
      "2023-09-21 16:09:05,406 - hbmep.utils.utils - INFO - func:_render_predictive_check took: 7.71 sec\n",
      "2023-09-21 16:09:05,406 - hbmep.utils.utils - INFO - func:render_predictive_check took: 7.71 sec\n",
      "2023-09-21 16:09:05,407 - __main__ - INFO - draw:3, start:60, end:70\n",
      "2023-09-21 16:09:08,798 - hbmep.utils.utils - INFO - func:predict took: 3.39 sec\n",
      "2023-09-21 16:09:08,805 - hbmep.config - INFO - Verifying configuration ...\n",
      "2023-09-21 16:09:08,805 - hbmep.config - INFO - Success!\n",
      "2023-09-21 16:09:08,806 - hbmep.model.baseline - INFO - Initialized model with hierarchical_bayesian link\n",
      "2023-09-21 16:09:08,806 - hbmep.model.baseline - INFO - Running inference with hierarchical_bayesian ...\n"
     ]
    },
    {
     "data": {
      "application/vnd.jupyter.widget-view+json": {
       "model_id": "20e8182565e543dbb4ec65f647ec3f31",
       "version_major": 2,
       "version_minor": 0
      },
      "text/plain": [
       "  0%|          | 0/1500 [00:00<?, ?it/s]"
      ]
     },
     "metadata": {},
     "output_type": "display_data"
    },
    {
     "data": {
      "application/vnd.jupyter.widget-view+json": {
       "model_id": "2e7ec3bd9c8f465f85e4b340dee00ca5",
       "version_major": 2,
       "version_minor": 0
      },
      "text/plain": [
       "  0%|          | 0/1500 [00:00<?, ?it/s]"
      ]
     },
     "metadata": {},
     "output_type": "display_data"
    },
    {
     "data": {
      "application/vnd.jupyter.widget-view+json": {
       "model_id": "b8448cf65303400591d0f95a3739b4ad",
       "version_major": 2,
       "version_minor": 0
      },
      "text/plain": [
       "  0%|          | 0/1500 [00:00<?, ?it/s]"
      ]
     },
     "metadata": {},
     "output_type": "display_data"
    },
    {
     "data": {
      "application/vnd.jupyter.widget-view+json": {
       "model_id": "56df184a73e24c7ea5fb1d362fe66525",
       "version_major": 2,
       "version_minor": 0
      },
      "text/plain": [
       "  0%|          | 0/1500 [00:00<?, ?it/s]"
      ]
     },
     "metadata": {},
     "output_type": "display_data"
    }
   ],
   "source": [
    "df1 = DF[MODEL.combination_columns].drop_duplicates().reset_index(drop=True)\n",
    "prefix = \"range\"\n",
    "\n",
    "start_space = [0, 10, 20, 30, 40, 50, 60]\n",
    "end = 70\n",
    "n_draws = 10\n",
    "\n",
    "N = 56\n",
    "m = 1\n",
    "N_eff = N // m\n",
    "\n",
    "# \"\"\" Test \"\"\"\n",
    "# start_space = [0, 10, 20]\n",
    "# end = 70\n",
    "# n_draws = 2\n",
    "\n",
    "# N = 3\n",
    "# m = 1\n",
    "# N_eff = N // m\n",
    "\n",
    "threshold = None\n",
    "threshold_true = None\n",
    "\n",
    "for draw_ind in range(n_draws):\n",
    "    curr_draw_threshold = None\n",
    "\n",
    "    curr_draw_threshold_true = np.array(POSTERIOR_SAMPLES[site.a][draw_ind, ...])\n",
    "    curr_draw_threshold_true = curr_draw_threshold_true[None, ...]\n",
    "\n",
    "    if threshold_true is None:\n",
    "        threshold_true = curr_draw_threshold_true\n",
    "    else:\n",
    "        threshold_true = np.concatenate([threshold_true, curr_draw_threshold_true], axis=0)\n",
    "\n",
    "    for start in start_space:\n",
    "        logger.info(f\"draw:{draw_ind}, start:{start}, end:{end}\")\n",
    "        draw_dir = f\"draw{draw_ind:02}\"\n",
    "        subdir = f\"start{start:02}\"\n",
    "\n",
    "        df2 = pd.DataFrame(np.linspace(start, end, N_eff), columns=[MODEL.intensity])\n",
    "        df = df1.merge(df2, how=\"cross\")\n",
    "        df = pd.concat([df] * m, ignore_index=True).reset_index(drop=True)\n",
    "\n",
    "        ppd = MODEL.predict(df=df, posterior_samples=POSTERIOR_SAMPLES)\n",
    "        df[MODEL.response] = ppd[site.obs][draw_ind, ...]\n",
    "\n",
    "        \"\"\" Build model \"\"\"\n",
    "        config = Config(toml_path=toml_path)\n",
    "        config.BUILD_DIR = os.path.join(CONFIG.BUILD_DIR, prefix, draw_dir, subdir)\n",
    "        model = HierarchicalBayesianModel(config=config)\n",
    "        model._make_dir(dir=model.build_dir)\n",
    "\n",
    "        \"\"\" Fit \"\"\"\n",
    "        mcmc, posterior_samples = model.run_inference(df=df)\n",
    "\n",
    "        \"\"\" Predict \"\"\"\n",
    "        prediction_df = model.make_prediction_dataset(df=df)\n",
    "        ppd = model.predict(df=prediction_df, posterior_samples=posterior_samples)\n",
    "\n",
    "        \"\"\" Plot \"\"\"\n",
    "        model.render_recruitment_curves(df=df, posterior_samples=posterior_samples, prediction_df=prediction_df, posterior_predictive=ppd)\n",
    "        model.render_predictive_check(df=df, prediction_df=prediction_df, posterior_predictive=ppd)\n",
    "\n",
    "        \"\"\" Threshold \"\"\"\n",
    "        th = np.array(posterior_samples[site.a]).mean(axis=0)\n",
    "        th = th[None, ...]\n",
    "\n",
    "        if curr_draw_threshold is None:\n",
    "            curr_draw_threshold = th\n",
    "        else:\n",
    "            curr_draw_threshold = np.concatenate([curr_draw_threshold, th], axis=0)\n",
    "\n",
    "    curr_draw_threshold = curr_draw_threshold[None, ...]\n",
    "\n",
    "    if threshold is None:\n",
    "        threshold = curr_draw_threshold\n",
    "    else:\n",
    "        threshold = np.concatenate([threshold, curr_draw_threshold], axis=0)\n"
   ]
  },
  {
   "cell_type": "code",
   "execution_count": 75,
   "metadata": {},
   "outputs": [
    {
     "data": {
      "text/plain": [
       "(10, 6, 2, 6)"
      ]
     },
     "execution_count": 75,
     "metadata": {},
     "output_type": "execute_result"
    }
   ],
   "source": [
    "threshold_true.shape"
   ]
  },
  {
   "cell_type": "code",
   "execution_count": 76,
   "metadata": {},
   "outputs": [
    {
     "data": {
      "text/plain": [
       "(10, 7, 6, 2, 6)"
      ]
     },
     "execution_count": 76,
     "metadata": {},
     "output_type": "execute_result"
    }
   ],
   "source": [
    "threshold.shape"
   ]
  },
  {
   "cell_type": "code",
   "execution_count": 121,
   "metadata": {},
   "outputs": [],
   "source": [
    "dest = os.path.join(MODEL.build_dir, prefix, \"threshold.npy\")\n",
    "np.save(dest, threshold)\n",
    "\n",
    "dest = os.path.join(MODEL.build_dir, prefix, \"threshold_true.npy\")\n",
    "np.save(dest, threshold_true)"
   ]
  },
  {
   "cell_type": "code",
   "execution_count": 122,
   "metadata": {},
   "outputs": [
    {
     "data": {
      "text/plain": [
       "True"
      ]
     },
     "execution_count": 122,
     "metadata": {},
     "output_type": "execute_result"
    }
   ],
   "source": [
    "src = os.path.join(MODEL.build_dir, prefix, \"threshold.npy\")\n",
    "th_ = np.load(src)\n",
    "\n",
    "(th_ == threshold).all()"
   ]
  },
  {
   "cell_type": "code",
   "execution_count": 123,
   "metadata": {},
   "outputs": [
    {
     "data": {
      "text/plain": [
       "True"
      ]
     },
     "execution_count": 123,
     "metadata": {},
     "output_type": "execute_result"
    }
   ],
   "source": [
    "src = os.path.join(MODEL.build_dir, prefix, \"threshold_true.npy\")\n",
    "th_true = np.load(src)\n",
    "\n",
    "(th_true == threshold_true).all()"
   ]
  },
  {
   "cell_type": "code",
   "execution_count": 98,
   "metadata": {},
   "outputs": [
    {
     "name": "stdout",
     "output_type": "stream",
     "text": [
      "(10, 7, 6, 2, 6) (10, 6, 2, 6)\n"
     ]
    }
   ],
   "source": [
    "y = threshold\n",
    "y_true = threshold_true\n",
    "\n",
    "print(y.shape, y_true.shape)"
   ]
  },
  {
   "cell_type": "code",
   "execution_count": 99,
   "metadata": {},
   "outputs": [
    {
     "name": "stdout",
     "output_type": "stream",
     "text": [
      "(6, 2, 6)\n",
      "(10, 7, 6, 2, 6)\n",
      "(10, 6, 2, 6)\n"
     ]
    }
   ],
   "source": [
    "a = POSTERIOR_SAMPLES[site.a].mean(axis=0)\n",
    "print(a.shape)\n",
    "\n",
    "combinations = MODEL._make_combinations(df=DF, columns=MODEL.combination_columns)\n",
    "combinations = [list(c[::-1]) for c in combinations]\n",
    "\n",
    "y_mask = np.full(y.shape, True)\n",
    "y_mask[:, :, *map(list, zip(*combinations)), :] = False\n",
    "print(y_mask.shape)\n",
    "\n",
    "y_true_mask = np.full(y_true.shape, True)\n",
    "y_true_mask[:, *map(list, zip(*combinations)), :] = False\n",
    "print(y_true_mask.shape)"
   ]
  },
  {
   "cell_type": "code",
   "execution_count": 100,
   "metadata": {},
   "outputs": [],
   "source": [
    "for i in range(10):\n",
    "    for j in range(5):\n",
    "            assert (~y_mask[i, j, ...]).sum() == len(combinations) * MODEL.n_response\n",
    "            assert (y_mask[i, j, ...] == y_mask[0, 0, ...]).all()\n",
    "\n",
    "for i in range(10):\n",
    "    assert (~y_true_mask[i, ...]).sum() == len(combinations) * MODEL.n_response\n",
    "    assert (y_true_mask[i, ...] == y_true_mask[0, ...]).all()"
   ]
  },
  {
   "cell_type": "code",
   "execution_count": 101,
   "metadata": {},
   "outputs": [],
   "source": [
    "# Additional masks\n",
    "additional_masks = [\n",
    "    (2, 1, 0),\n",
    "    (1, 1, 1),\n",
    "    (0, 1, 2),\n",
    "    (1, 1, 2),\n",
    "    (2, 1, 2),\n",
    "    (4, 1, 2),\n",
    "    (3, 1, 2),\n",
    "    (1, 1, 3),\n",
    "    (1, 1, 4),\n",
    "    (0, 1, 5),\n",
    "    (4, 1, 5)\n",
    "]\n",
    "\n",
    "y_mask[:, :, *map(list, zip(*additional_masks))] = True\n",
    "y_true_mask[:, *map(list, zip(*additional_masks))] = True"
   ]
  },
  {
   "cell_type": "code",
   "execution_count": 102,
   "metadata": {},
   "outputs": [
    {
     "name": "stdout",
     "output_type": "stream",
     "text": [
      "(10, 7, 6, 2, 6) (10, 6, 2, 6)\n"
     ]
    }
   ],
   "source": [
    "y = np.ma.array(y, mask=y_mask)\n",
    "y_true = np.ma.array(y_true, mask=y_true_mask)\n",
    "\n",
    "print(y.shape, y_true.shape)"
   ]
  },
  {
   "cell_type": "code",
   "execution_count": 103,
   "metadata": {},
   "outputs": [
    {
     "data": {
      "text/plain": [
       "(10, 7, 6, 2, 6)"
      ]
     },
     "execution_count": 103,
     "metadata": {},
     "output_type": "execute_result"
    }
   ],
   "source": [
    "mae = np.ma.abs(y - y_true[:, None, ...])\n",
    "mae.shape"
   ]
  },
  {
   "cell_type": "code",
   "execution_count": 104,
   "metadata": {},
   "outputs": [
    {
     "data": {
      "text/plain": [
       "(7, 6, 2, 6)"
      ]
     },
     "execution_count": 104,
     "metadata": {},
     "output_type": "execute_result"
    }
   ],
   "source": [
    "mae[0, ...].shape"
   ]
  },
  {
   "cell_type": "code",
   "execution_count": 105,
   "metadata": {},
   "outputs": [
    {
     "data": {
      "text/plain": [
       "(7, 6, 2)"
      ]
     },
     "execution_count": 105,
     "metadata": {},
     "output_type": "execute_result"
    }
   ],
   "source": [
    "mae[0, ...].mean(axis=-1).shape"
   ]
  },
  {
   "cell_type": "code",
   "execution_count": 106,
   "metadata": {},
   "outputs": [
    {
     "data": {
      "text/plain": [
       "(7,)"
      ]
     },
     "execution_count": 106,
     "metadata": {},
     "output_type": "execute_result"
    }
   ],
   "source": [
    "mae[0, ...].mean(axis=-1).std(axis=(-1, -2)).shape"
   ]
  },
  {
   "cell_type": "code",
   "execution_count": 107,
   "metadata": {},
   "outputs": [
    {
     "data": {
      "text/plain": [
       "(10, 7, 6, 2, 6)"
      ]
     },
     "execution_count": 107,
     "metadata": {},
     "output_type": "execute_result"
    }
   ],
   "source": [
    "mae.shape"
   ]
  },
  {
   "cell_type": "code",
   "execution_count": 87,
   "metadata": {},
   "outputs": [
    {
     "data": {
      "text/plain": [
       "(10, 7, 6, 2, 6)"
      ]
     },
     "execution_count": 87,
     "metadata": {},
     "output_type": "execute_result"
    }
   ],
   "source": [
    "mae.shape"
   ]
  },
  {
   "cell_type": "code",
   "execution_count": 88,
   "metadata": {},
   "outputs": [
    {
     "data": {
      "text/plain": [
       "(7,)"
      ]
     },
     "execution_count": 88,
     "metadata": {},
     "output_type": "execute_result"
    }
   ],
   "source": [
    "mae[0, ...].mean(axis=-1).mean(axis=(-1, -2)).shape"
   ]
  },
  {
   "cell_type": "code",
   "execution_count": 108,
   "metadata": {},
   "outputs": [
    {
     "data": {
      "image/png": "[encoded data removed]",
      "text/plain": [
       "<Figure size 1000x1500 with 10 Axes>"
      ]
     },
     "metadata": {},
     "output_type": "display_data"
    }
   ],
   "source": [
    "nrows, ncols = 5, 2\n",
    "fig, axes = plt.subplots(nrows=nrows, ncols=ncols, figsize=(5 * ncols, 3 * nrows), constrained_layout=True, squeeze=False)\n",
    "\n",
    "counter = 0\n",
    "for draw_ind in range(n_draws):\n",
    "    ax = axes[counter // ncols, counter % ncols]\n",
    "    ax.bar(x=[elem + \"-70\" for elem in list(map(str, start_space))], height=mae[draw_ind, ...].mean(axis=-1).mean(axis=(-1, -2)))\n",
    "    counter += 1"
   ]
  },
  {
   "cell_type": "code",
   "execution_count": 109,
   "metadata": {},
   "outputs": [
    {
     "data": {
      "text/plain": [
       "(7, 6, 2)"
      ]
     },
     "execution_count": 109,
     "metadata": {},
     "output_type": "execute_result"
    }
   ],
   "source": [
    "mae.mean(axis=0).mean(axis=-1).shape"
   ]
  },
  {
   "cell_type": "code",
   "execution_count": 110,
   "metadata": {},
   "outputs": [
    {
     "data": {
      "text/plain": [
       "array([0.57920046, 0.54387104, 0.66772833, 0.63467714, 0.86881641,\n",
       "       0.72386881, 1.24095576])"
      ]
     },
     "execution_count": 110,
     "metadata": {},
     "output_type": "execute_result"
    }
   ],
   "source": [
    "stats.sem(mae.mean(axis=0).mean(axis=-1), axis=(-1, -2))"
   ]
  },
  {
   "cell_type": "code",
   "execution_count": 111,
   "metadata": {},
   "outputs": [
    {
     "data": {
      "image/png": "[encoded data removed]",
      "text/plain": [
       "<Figure size 640x480 with 1 Axes>"
      ]
     },
     "metadata": {},
     "output_type": "display_data"
    }
   ],
   "source": [
    "curr_mae = mae.mean(axis=0).mean(axis=-1)\n",
    "\n",
    "me = curr_mae.mean(axis=(-1, -2))\n",
    "sem = stats.sem(curr_mae, axis=(-1, -2))\n",
    "\n",
    "plt.bar(x=[elem + \"-70\" for elem in list(map(str, start_space))], height=me, yerr=sem)\n",
    "plt.grid()"
   ]
  },
  {
   "cell_type": "code",
   "execution_count": 119,
   "metadata": {},
   "outputs": [
    {
     "data": {
      "text/plain": [
       "Text(0.5, -0.3, '6 Participants, 6 Muscles, 10 Experiments\\n\\nH0: (0-70) = (30-70) vs H1 (0-70) < (30-70)\\np-value$(df = 5)$: 0.25')"
      ]
     },
     "execution_count": 119,
     "metadata": {},
     "output_type": "execute_result"
    },
    {
     "data": {
      "image/png": "[encoded data removed]",
      "text/plain": [
       "<Figure size 800x600 with 1 Axes>"
      ]
     },
     "metadata": {},
     "output_type": "display_data"
    }
   ],
   "source": [
    "fig, axes = plt.subplots(nrows=1, ncols=1, figsize=(8, 6), squeeze=False, constrained_layout=True)\n",
    "ax = axes[0, 0]\n",
    "\n",
    "curr_mae = mae.mean(axis=0).mean(axis=-1)\n",
    "\n",
    "me = curr_mae.mean(axis=(-1, -2))\n",
    "sem = stats.sem(curr_mae, axis=(-1, -2))\n",
    "\n",
    "ax.bar(x=[elem + \"-70\" for elem in list(map(str, start_space))], height=me, yerr=sem)\n",
    "ax.grid(axis=\"y\", linestyle='--', linewidth=.4)\n",
    "ax.set_yticks(np.arange(0, 15, 1))\n",
    "ax.set_xlabel(\"Pulse Interval (60 Pulses, 1 Rep)\")\n",
    "ax.set_ylabel(\"Mean Absolute Error (6 Participants)\")\n",
    "ax.set_title(\n",
    "    f'6 Participants, 6 Muscles, 10 Experiments\\n\\nH0: (0-70) = (30-70) vs H1 (0-70) < (30-70)\\np-value$(df = 5)$: 0.25',\n",
    "    y=-0.3\n",
    ")\n"
   ]
  },
  {
   "cell_type": "code",
   "execution_count": 113,
   "metadata": {},
   "outputs": [],
   "source": [
    "labs = [elem + \"-70\" for elem in list(map(str, start_space))]"
   ]
  },
  {
   "cell_type": "code",
   "execution_count": 114,
   "metadata": {},
   "outputs": [
    {
     "name": "stdout",
     "output_type": "stream",
     "text": [
      "30-70  vs  0-70\n",
      "p-value (one-sided): 0.25\n"
     ]
    }
   ],
   "source": [
    "curr_mae = mae.mean(axis=0).mean(axis=-1)\n",
    "\n",
    "compare_ind = 3\n",
    "t = (curr_mae[compare_ind, ...] - curr_mae[0, ...])\n",
    "t = t.reshape(t.shape[0], -1)\n",
    "t.shape\n",
    "\n",
    "p = stats.ttest_1samp(t[t.mask == False].data, popmean=0, alternative=\"greater\").pvalue\n",
    "print(labs[compare_ind], \" vs \", labs[0])\n",
    "print(f\"p-value (one-sided): {p:.2f}\")"
   ]
  },
  {
   "cell_type": "code",
   "execution_count": null,
   "metadata": {},
   "outputs": [],
   "source": []
  }
 ],
 "metadata": {
  "kernelspec": {
   "display_name": "Python 3 (ipykernel)",
   "language": "python",
   "name": "python3"
  },
  "orig_nbformat": 4
 },
 "nbformat": 4,
 "nbformat_minor": 2
}
