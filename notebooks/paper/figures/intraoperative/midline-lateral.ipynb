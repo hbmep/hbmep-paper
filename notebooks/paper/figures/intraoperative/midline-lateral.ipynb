{
 "cells": [
  {
   "cell_type": "code",
   "execution_count": 1,
   "metadata": {},
   "outputs": [],
   "source": [
    "%reload_ext autoreload\n",
    "%autoreload 2\n",
    "\n",
    "import os\n",
    "import pickle\n",
    "import logging\n",
    "import multiprocessing\n",
    "\n",
    "import pandas as pd\n",
    "import numpy as np\n",
    "import matplotlib.pyplot as plt\n",
    "import seaborn as sns\n",
    "\n",
    "import jax\n",
    "import jax.numpy as jnp\n",
    "\n",
    "import arviz as az\n",
    "import numpyro\n",
    "\n",
    "\n",
    "from hbmep.config import Config\n",
    "from hbmep.model.utils import Site as site\n",
    "\n",
    "PLATFORM = \"cpu\"\n",
    "jax.config.update(\"jax_platforms\", PLATFORM)\n",
    "numpyro.set_platform(PLATFORM)\n",
    "\n",
    "cpu_count = multiprocessing.cpu_count() - 2\n",
    "numpyro.set_host_device_count(cpu_count)\n",
    "numpyro.enable_x64()\n",
    "numpyro.enable_validation()\n",
    "\n",
    "logger = logging.getLogger(__name__)\n"
   ]
  },
  {
   "cell_type": "code",
   "execution_count": 2,
   "metadata": {},
   "outputs": [],
   "source": [
    "import numpyro.distributions as dist\n",
    "from hbmep.model import BaseModel\n",
    "\n",
    "\n",
    "class MixedEffects(BaseModel):\n",
    "    LINK = \"mixed_effects\"\n",
    "\n",
    "    def __init__(self, config: Config):\n",
    "        super(MixedEffects, self).__init__(config=config)\n",
    "        self.combination_columns = self.features + [self.subject]\n",
    "\n",
    "    def fn(self, x, a, b, v, L, ell, H):\n",
    "        return (\n",
    "            L\n",
    "            + jnp.where(\n",
    "                jnp.less(x, a),\n",
    "                0.,\n",
    "                -ell + jnp.true_divide(\n",
    "                    H + ell,\n",
    "                    jnp.power(\n",
    "                        1\n",
    "                        + jnp.multiply(\n",
    "                            -1\n",
    "                            + jnp.power(\n",
    "                                jnp.true_divide(H + ell, ell),\n",
    "                                v\n",
    "                            ),\n",
    "                            jnp.exp(jnp.multiply(-b, x - a))\n",
    "                        ),\n",
    "                        jnp.true_divide(1, v)\n",
    "                    )\n",
    "                )\n",
    "            )\n",
    "        )\n",
    "\n",
    "    def _model(self, subject, features, intensity, response_obs=None):\n",
    "        subject, n_subject = subject\n",
    "        features, n_features = features\n",
    "        intensity, n_data = intensity\n",
    "\n",
    "        intensity = intensity.reshape(-1, 1)\n",
    "        intensity = np.tile(intensity, (1, self.n_response))\n",
    "\n",
    "        feature0 = features[0].reshape(-1,)\n",
    "        n_feature0 = n_features[0]\n",
    "\n",
    "        n_baseline = 1\n",
    "        n_delta = n_feature0 - 1\n",
    "\n",
    "        \"\"\" Fixed Effects (Baseline) \"\"\"\n",
    "        with numpyro.plate(site.n_response, self.n_response):\n",
    "            with numpyro.plate(\"n_baseline\", n_baseline):\n",
    "                a_fixed_mean = numpyro.sample(\"a_fixed_mean\", dist.TruncatedNormal(5, 10, low=0))\n",
    "                a_fixed_scale = numpyro.sample(\"a_fixed_scale\", dist.HalfNormal(10.0))\n",
    "\n",
    "                with numpyro.plate(site.n_subject, n_subject):\n",
    "                    a_fixed = numpyro.sample(\n",
    "                        \"a_fixed\", dist.TruncatedNormal(a_fixed_mean, a_fixed_scale, low=0)\n",
    "                    )\n",
    "\n",
    "        \"\"\" Random Effects (Delta) \"\"\"\n",
    "        with numpyro.plate(site.n_response, self.n_response):\n",
    "            with numpyro.plate(\"n_delta\", n_delta):\n",
    "                a_random_mean = numpyro.sample(\"a_random_mean\", dist.Normal(0, 10))\n",
    "                a_random_scale = numpyro.sample(\"a_random_scale\", dist.HalfNormal(10.0))\n",
    "\n",
    "                with numpyro.plate(site.n_subject, n_subject):\n",
    "                    a_random = numpyro.sample(\"a_random\", dist.Normal(a_random_mean, a_random_scale))\n",
    "\n",
    "                    \"\"\" Penalty \"\"\"\n",
    "                    penalty_for_negative_a = (jnp.fabs(a_fixed + a_random) - (a_fixed + a_random))\n",
    "                    numpyro.factor(\"penalty\", -penalty_for_negative_a)\n",
    "\n",
    "        with numpyro.plate(site.n_response, self.n_response):\n",
    "            \"\"\" Global Priors \"\"\"\n",
    "            b_scale_global_scale = numpyro.sample(\"b_scale_global_scale\", dist.HalfNormal(10))\n",
    "            v_scale_global_scale = numpyro.sample(\"v_scale_global_scale\", dist.HalfNormal(10))\n",
    "\n",
    "            L_scale_global_scale = numpyro.sample(\"L_scale_global_scale\", dist.HalfNormal(2))\n",
    "            ell_scale_global_scale = numpyro.sample(\"ell_scale_global_scale\", dist.HalfNormal(10))\n",
    "            H_scale_global_scale = numpyro.sample(\"H_scale_global_scale\", dist.HalfNormal(10))\n",
    "\n",
    "            g_1_scale_global_scale = numpyro.sample(\"g_1_scale_global_scale\", dist.HalfNormal(100))\n",
    "            g_2_scale_global_scale = numpyro.sample(\"g_2_scale_global_scale\", dist.HalfNormal(100))\n",
    "\n",
    "            with numpyro.plate(\"n_feature0\", n_feature0):\n",
    "                \"\"\" Hyper-priors \"\"\"\n",
    "                b_scale_raw = numpyro.sample(\"b_scale_raw\", dist.HalfNormal(scale=1))\n",
    "                b_scale = numpyro.deterministic(\"b_scale\", jnp.multiply(b_scale_global_scale, b_scale_raw))\n",
    "\n",
    "                v_scale_raw = numpyro.sample(\"v_scale_raw\", dist.HalfNormal(scale=1))\n",
    "                v_scale = numpyro.deterministic(\"v_scale\", jnp.multiply(v_scale_global_scale, v_scale_raw))\n",
    "\n",
    "                L_scale_raw = numpyro.sample(\"L_scale_raw\", dist.HalfNormal(scale=1))\n",
    "                L_scale = numpyro.deterministic(\"L_scale\", jnp.multiply(L_scale_global_scale, L_scale_raw))\n",
    "\n",
    "                ell_scale_raw = numpyro.sample(\"ell_scale_raw\", dist.HalfNormal(scale=1))\n",
    "                ell_scale = numpyro.deterministic(\"sigma_ell\", jnp.multiply(ell_scale_global_scale, ell_scale_raw))\n",
    "\n",
    "                H_scale_raw = numpyro.sample(\"H_scale_raw\", dist.HalfNormal(scale=1))\n",
    "                H_scale = numpyro.deterministic(\"H_scale\", jnp.multiply(H_scale_global_scale, H_scale_raw))\n",
    "\n",
    "                g_1_scale_raw = numpyro.sample(\"g_1_scale_raw\", dist.HalfNormal(scale=1))\n",
    "                g_1_scale = numpyro.deterministic(\"g_1_scale\", jnp.multiply(g_1_scale_global_scale, g_1_scale_raw))\n",
    "\n",
    "                g_2_scale_raw = numpyro.sample(\"g_2_scale_raw\", dist.HalfNormal(scale=1))\n",
    "                g_2_scale = numpyro.deterministic(\"g_2_scale\", jnp.multiply(g_2_scale_global_scale, g_2_scale_raw))\n",
    "\n",
    "                with numpyro.plate(site.n_subject, n_subject):\n",
    "                    \"\"\" Priors \"\"\"\n",
    "                    a = numpyro.deterministic(\n",
    "                        site.a,\n",
    "                        jnp.concatenate([a_fixed, a_fixed + a_random], axis=1)\n",
    "                    )\n",
    "\n",
    "                    b_raw = numpyro.sample(\"b_raw\", dist.HalfNormal(scale=1))\n",
    "                    b = numpyro.deterministic(site.b, jnp.multiply(b_scale, b_raw))\n",
    "\n",
    "                    v_raw = numpyro.sample(\"v_raw\", dist.HalfNormal(scale=1))\n",
    "                    v = numpyro.deterministic(site.v, jnp.multiply(v_scale, v_raw))\n",
    "\n",
    "                    L_raw = numpyro.sample(\"L_raw\", dist.HalfNormal(scale=1))\n",
    "                    L = numpyro.deterministic(site.L, jnp.multiply(L_scale, L_raw))\n",
    "\n",
    "                    ell_raw = numpyro.sample(\"ell_raw\", dist.HalfNormal(scale=1))\n",
    "                    ell = numpyro.deterministic(\"ell\", jnp.multiply(ell_scale, ell_raw))\n",
    "\n",
    "                    H_raw = numpyro.sample(\"H_raw\", dist.HalfNormal(scale=1))\n",
    "                    H = numpyro.deterministic(site.H, jnp.multiply(H_scale, H_raw))\n",
    "\n",
    "                    g_1_raw = numpyro.sample(\"g_1_raw\", dist.HalfCauchy(scale=1))\n",
    "                    g_1 = numpyro.deterministic(site.g_1, jnp.multiply(g_1_scale, g_1_raw))\n",
    "\n",
    "                    g_2_raw = numpyro.sample(\"g_2_raw\", dist.HalfCauchy(scale=1))\n",
    "                    g_2 = numpyro.deterministic(site.g_2, jnp.multiply(g_2_scale, g_2_raw))\n",
    "\n",
    "        \"\"\" Outlier Distribution \"\"\"\n",
    "        outlier_prob = numpyro.sample(\"outlier_prob\", dist.Uniform(0., .05))\n",
    "        outlier_scale = numpyro.sample(\"outlier_scale\", dist.HalfNormal(5))\n",
    "\n",
    "        with numpyro.plate(site.n_response, self.n_response):\n",
    "            with numpyro.plate(site.n_data, n_data):\n",
    "                \"\"\" Model \"\"\"\n",
    "                mu = numpyro.deterministic(\n",
    "                    site.mu,\n",
    "                    self.fn(\n",
    "                        x=intensity,\n",
    "                        a=a[subject, feature0],\n",
    "                        b=b[subject, feature0],\n",
    "                        v=v[subject, feature0],\n",
    "                        L=L[subject, feature0],\n",
    "                        ell=ell[subject, feature0],\n",
    "                        H=H[subject, feature0]\n",
    "                    )\n",
    "                )\n",
    "                beta = numpyro.deterministic(\n",
    "                    site.beta,\n",
    "                    g_1[subject, feature0] + jnp.true_divide(g_2[subject, feature0], mu)\n",
    "                )\n",
    "\n",
    "                q = numpyro.deterministic(\"q\", outlier_prob * jnp.ones((n_data, self.n_response)))\n",
    "                bg_scale = numpyro.deterministic(\"bg_scale\", outlier_scale * jnp.ones((n_data, self.n_response)))\n",
    "\n",
    "                mixing_distribution = dist.Categorical(\n",
    "                    probs=jnp.stack([1 - q, q], axis=-1)\n",
    "                )\n",
    "                component_distributions=[\n",
    "                    dist.Gamma(concentration=jnp.multiply(mu, beta), rate=beta),\n",
    "                    dist.HalfNormal(scale=bg_scale)\n",
    "                ]\n",
    "\n",
    "                \"\"\" Mixture \"\"\"\n",
    "                Mixture = dist.MixtureGeneral(\n",
    "                    mixing_distribution=mixing_distribution,\n",
    "                    component_distributions=component_distributions\n",
    "                )\n",
    "\n",
    "                \"\"\" Observation \"\"\"\n",
    "                numpyro.sample(\n",
    "                    site.obs,\n",
    "                    Mixture,\n",
    "                    obs=response_obs\n",
    "                )"
   ]
  },
  {
   "cell_type": "code",
   "execution_count": 3,
   "metadata": {},
   "outputs": [
    {
     "name": "stderr",
     "output_type": "stream",
     "text": [
      "2023-11-17 10:00:53,996 - hbmep.config - INFO - Verifying configuration ...\n",
      "2023-11-17 10:00:53,997 - hbmep.config - INFO - Success!\n",
      "2023-11-17 10:00:54,014 - hbmep.model.baseline - INFO - Initialized base_model\n"
     ]
    }
   ],
   "source": [
    "toml_path = \"/home/vishu/repos/hbmep-paper/configs/paper/intraoperative/config.toml\"\n",
    "\n",
    "config = Config(toml_path=toml_path)\n",
    "config.BUILD_DIR = \"/home/vishu/repos/hbmep-paper/reports/paper/figures/intraoperative/midline-lateral\"\n",
    "\n",
    "config.MCMC_PARAMS[\"num_warmup\"] = 1000\n",
    "config.MCMC_PARAMS[\"num_samples\"] = 1000\n",
    "\n",
    "model = MixedEffects(config=config)"
   ]
  },
  {
   "cell_type": "code",
   "execution_count": 4,
   "metadata": {},
   "outputs": [
    {
     "name": "stderr",
     "output_type": "stream",
     "text": [
      "2023-11-17 10:00:54,068 - hbmep.dataset.core - INFO - Artefacts will be stored here - /home/vishu/repos/hbmep-paper/reports/paper/figures/intraoperative/midline-lateral\n",
      "2023-11-17 10:00:54,069 - hbmep.dataset.core - INFO - Copied config to /home/vishu/repos/hbmep-paper/reports/paper/figures/intraoperative/midline-lateral\n",
      "2023-11-17 10:00:54,070 - hbmep.dataset.core - INFO - Processing data ...\n",
      "2023-11-17 10:00:54,071 - hbmep.utils.utils - INFO - func:load took: 0.00 sec\n"
     ]
    }
   ],
   "source": [
    "src = \"/home/vishu/data/hbmep-processed/human/intraoperative/data.csv\"\n",
    "df = pd.read_csv(src)\n",
    "\n",
    "df[model.features[0]] = df[model.features[0]].replace({\"L\": \"01_L\", \"M\": \"02_M\"})\n",
    "\n",
    "ind = ~df[model.response].isna().values.any(axis=-1)\n",
    "df = df[ind].reset_index(drop=True).copy()\n",
    "\n",
    "df, encoder_dict = model.load(df=df)\n"
   ]
  },
  {
   "cell_type": "code",
   "execution_count": 5,
   "metadata": {},
   "outputs": [],
   "source": [
    "src = \"/home/vishu/repos/hbmep-paper/reports/paper/intraoperative/midline-lateral/inference.pkl\"\n",
    "\n",
    "with open(src, \"rb\") as g:\n",
    "    _, mcmc, posterior_samples = pickle.load(g)\n"
   ]
  },
  {
   "cell_type": "code",
   "execution_count": 6,
   "metadata": {},
   "outputs": [
    {
     "name": "stderr",
     "output_type": "stream",
     "text": [
      "2023-11-17 10:00:54,253 - hbmep.utils.utils - INFO - func:make_prediction_dataset took: 0.01 sec\n",
      "2023-11-17 10:02:13,680 - hbmep.utils.utils - INFO - func:predict took: 1 min and 19.43 sec\n",
      "2023-11-17 10:02:13,680 - hbmep.model.baseline - INFO - Rendering recruitment curves ...\n",
      "2023-11-17 10:02:20,821 - hbmep.model.baseline - INFO - Saved to /home/vishu/repos/hbmep-paper/reports/paper/figures/intraoperative/midline-lateral/recruitment_curves.pdf\n",
      "2023-11-17 10:02:20,822 - hbmep.utils.utils - INFO - func:render_recruitment_curves took: 7.14 sec\n",
      "2023-11-17 10:02:20,822 - hbmep.model.baseline - INFO - Rendering posterior predictive checks ...\n",
      "2023-11-17 10:02:51,255 - hbmep.model.baseline - INFO - Saved to /home/vishu/repos/hbmep-paper/reports/paper/figures/intraoperative/midline-lateral/posterior_predictive_check.pdf\n",
      "2023-11-17 10:02:51,256 - hbmep.utils.utils - INFO - func:predictive_checks_renderer took: 30.43 sec\n",
      "2023-11-17 10:02:51,256 - hbmep.utils.utils - INFO - func:render_predictive_check took: 30.43 sec\n"
     ]
    }
   ],
   "source": [
    "_posterior_samples = posterior_samples.copy()\n",
    "_posterior_samples[\"outlier_prob\"] = _posterior_samples[\"outlier_prob\"] * 0\n",
    "\n",
    "prediction_df = model.make_prediction_dataset(df=df, num=2000)\n",
    "posterior_predictive = model.predict(df=prediction_df, posterior_samples=_posterior_samples)\n",
    "\n",
    "model.render_recruitment_curves(df=df, encoder_dict=encoder_dict, posterior_samples=_posterior_samples, prediction_df=prediction_df, posterior_predictive=posterior_predictive)\n",
    "model.render_predictive_check(df=df, encoder_dict=encoder_dict, prediction_df=prediction_df, posterior_predictive=posterior_predictive)\n"
   ]
  },
  {
   "cell_type": "code",
   "execution_count": 7,
   "metadata": {},
   "outputs": [],
   "source": [
    "c = (7, 0)\n",
    "\n",
    "ind = df[model.combination_columns[::-1]].apply(tuple, axis=1).isin([c])\n",
    "temp_df = df[ind].reset_index(drop=True).copy()\n",
    "\n"
   ]
  },
  {
   "cell_type": "code",
   "execution_count": 8,
   "metadata": {},
   "outputs": [
    {
     "data": {
      "text/plain": [
       "(4000, 13, 2, 1)"
      ]
     },
     "execution_count": 8,
     "metadata": {},
     "output_type": "execute_result"
    }
   ],
   "source": [
    "a = posterior_samples[site.a]\n",
    "a.shape"
   ]
  },
  {
   "cell_type": "code",
   "execution_count": 9,
   "metadata": {},
   "outputs": [
    {
     "data": {
      "text/plain": [
       "(13, 2, 1)"
      ]
     },
     "execution_count": 9,
     "metadata": {},
     "output_type": "execute_result"
    }
   ],
   "source": [
    "a_map = a.mean(axis=0)\n",
    "a_map.shape\n"
   ]
  },
  {
   "cell_type": "code",
   "execution_count": 10,
   "metadata": {},
   "outputs": [],
   "source": [
    "mu = posterior_predictive[site.mu]\n",
    "obs = posterior_predictive[site.obs]\n"
   ]
  },
  {
   "cell_type": "code",
   "execution_count": 11,
   "metadata": {},
   "outputs": [
    {
     "data": {
      "text/plain": [
       "(2, 52000, 1)"
      ]
     },
     "execution_count": 11,
     "metadata": {},
     "output_type": "execute_result"
    }
   ],
   "source": [
    "from numpyro.diagnostics import hpdi\n",
    "\n",
    "obs_hpdi = hpdi(obs, prob=.95)\n",
    "obs_hpdi.shape\n"
   ]
  },
  {
   "cell_type": "code",
   "execution_count": 12,
   "metadata": {},
   "outputs": [
    {
     "data": {
      "text/plain": [
       "(4000,)"
      ]
     },
     "execution_count": 12,
     "metadata": {},
     "output_type": "execute_result"
    }
   ],
   "source": [
    "a_random_mean = posterior_samples[\"a_random_mean\"].reshape(-1,)\n",
    "a_random_mean.shape\n"
   ]
  },
  {
   "cell_type": "code",
   "execution_count": 13,
   "metadata": {},
   "outputs": [],
   "source": [
    "def fn_prime(x, *args):\n",
    "    grad = jax.grad(model.fn, argnums=0)\n",
    "    for _ in range(len(x.shape)):\n",
    "        grad = jax.vmap(grad)\n",
    "    return grad(x, *args)\n"
   ]
  },
  {
   "cell_type": "code",
   "execution_count": 14,
   "metadata": {},
   "outputs": [
    {
     "data": {
      "text/plain": [
       "(4000, 52000, 1)"
      ]
     },
     "execution_count": 14,
     "metadata": {},
     "output_type": "execute_result"
    }
   ],
   "source": [
    "a, b, v, ell, L, H = \\\n",
    "    np.array(posterior_samples[site.a]), np.array(posterior_samples[site.b]), np.array(posterior_samples[site.v]), np.array(posterior_samples[\"ell\"]), np.array(posterior_samples[site.L]), np.array(posterior_samples[site.H])\n",
    "\n",
    "(subject, n_subject), (features, n_features), (intensity, n_data), = model._collect_regressor(df=prediction_df)\n",
    "intensity = intensity.reshape(-1, 1)\n",
    "intensity = np.tile(intensity, (a.shape[0], 1, model.n_response))\n",
    "feature0 = features[0].reshape(-1,)\n",
    "\n",
    "params = [a, b, v, ell, L, H]\n",
    "params = [u[:, subject, feature0] for u in params]\n",
    "\n",
    "fn_prime_out = fn_prime(intensity, *params)\n",
    "fn_prime_out = np.array(fn_prime_out)\n",
    "\n",
    "fn_prime_out.shape\n"
   ]
  },
  {
   "cell_type": "code",
   "execution_count": 63,
   "metadata": {},
   "outputs": [
    {
     "data": {
      "text/plain": [
       "(4000, 2000)"
      ]
     },
     "execution_count": 63,
     "metadata": {},
     "output_type": "execute_result"
    }
   ],
   "source": [
    "temp_fn_prime_out.shape"
   ]
  },
  {
   "cell_type": "code",
   "execution_count": 50,
   "metadata": {},
   "outputs": [
    {
     "data": {
      "text/plain": [
       "(4000, 13)"
      ]
     },
     "execution_count": 50,
     "metadata": {},
     "output_type": "execute_result"
    }
   ],
   "source": [
    "a_random = posterior_samples[\"a_random\"][..., 0, 0]\n",
    "a_random.shape"
   ]
  },
  {
   "cell_type": "code",
   "execution_count": 55,
   "metadata": {},
   "outputs": [
    {
     "name": "stderr",
     "output_type": "stream",
     "text": [
      "/tmp/ipykernel_224127/1493889291.py:121: UserWarning: FixedFormatter should only be used together with FixedLocator\n",
      "  axes[0, 0].set_yticklabels([0., .5, 1.])\n"
     ]
    },
    {
     "data": {
      "image/png": "[encoded data removed]",
      "text/plain": [
       "<Figure size 1200x400 with 6 Axes>"
      ]
     },
     "metadata": {},
     "output_type": "display_data"
    }
   ],
   "source": [
    "response_colors = [(0.6706, 0.8510, 0.9137), (0.1725, 0.4824, 0.7137)]\n",
    "subject = 7\n",
    "cmap = sns.color_palette(\"tab10\")\n",
    "\n",
    "nrows, ncols = 2, 3\n",
    "fig, axes = plt.subplots(nrows=nrows, ncols=ncols, figsize=(4 * ncols, 2 * nrows), squeeze=False, constrained_layout=True, height_ratios=[.5, 1], width_ratios=[1, 1, .6])\n",
    "\n",
    "counter = 0\n",
    "for _ in range(nrows * ncols):\n",
    "    i, j = counter // ncols, counter % ncols\n",
    "    c = (subject, j)\n",
    "    ax = axes[i, j]\n",
    "\n",
    "    if i == 0 and j in {0, 1}: # Thresholds\n",
    "        sns.kdeplot(a[:, *c, 0], ax=ax, color=response_colors[j])\n",
    "        if j == 0:\n",
    "            ins = ax.inset_axes([0.6,0.4,0.3,0.5])\n",
    "            sns.kdeplot(a[:, *c, 0], ax=ins, color=response_colors[j])\n",
    "            ins.set_xlabel(\"\")\n",
    "            ins.set_ylabel(\"\")\n",
    "            ins.set_xlim(left=1.98, right=2.1)\n",
    "            ins.set_ylim(bottom=-.03)\n",
    "\n",
    "        # temp_fn_prime_out = fn_prime_out[:, pred_ind, 0]\n",
    "        # max_grad = temp_fn_prime_out.max(axis=-1)\n",
    "        # sns.kdeplot(max_grad, ax=axes[i, 2])\n",
    "\n",
    "    if i == 1 and j in {0, 1}:\n",
    "        ind = df[model.combination_columns[::-1]].apply(tuple, axis=1).isin([c])\n",
    "        temp_df = df[ind].reset_index(drop=True).copy()\n",
    "\n",
    "        pred_ind = prediction_df[model.combination_columns[::-1]].apply(tuple, axis=1).isin([c])\n",
    "        temp_pred_df = prediction_df[pred_ind].reset_index(drop=True).copy()\n",
    "\n",
    "        temp_obs = obs[:, pred_ind, 0]\n",
    "        temp_mu = mu[:, pred_ind, 0]\n",
    "        temp_obs_hpdi = obs_hpdi[:, pred_ind, 0]\n",
    "\n",
    "        sns.scatterplot(x=temp_df[model.intensity], y=temp_df[model.response[0]], ax=ax, color=response_colors[j])\n",
    "        # sns.lineplot(x=temp_pred_df[model.intensity], y=temp_obs.mean(axis=0), ax=ax)\n",
    "        sns.lineplot(x=temp_pred_df[model.intensity], y=temp_mu.mean(axis=0), color=response_colors[j], ax=ax)\n",
    "        ax.fill_between(\n",
    "            temp_pred_df[model.intensity],\n",
    "            temp_obs_hpdi[0, :],\n",
    "            temp_obs_hpdi[1, :],\n",
    "            color=response_colors[j],\n",
    "            alpha=.15\n",
    "        )\n",
    "\n",
    "    if i == 0 and j == 2:\n",
    "        ax = axes[i, j]\n",
    "        # sns.kdeplot(a[:, subject, 1, 0] - a[:, subject, 0, 0], ax=ax)\n",
    "        sns.kdeplot(a_random[:, subject], ax=ax)\n",
    "\n",
    "    if i == 1 and j == 2:\n",
    "        d = dist.Normal(0, 3)\n",
    "        prior = d.sample(model.rng_key, (10000, ))\n",
    "        sns.kdeplot(prior, ax=ax, color=cmap[-2], fill=True, label=\"Prior\")\n",
    "        sns.kdeplot(a_random_mean, ax=ax, color=cmap[6], fill=True, label=\"Posterior\")\n",
    "\n",
    "    counter += 1\n",
    "\n",
    "# gs = axes[0, 2].get_gridspec()\n",
    "# for ax in axes[:, -1]:\n",
    "#     ax.remove()\n",
    "# axbig = fig.add_subplot(gs[:, -1])\n",
    "# ax = axbig\n",
    "# d = dist.Normal(0, 3)\n",
    "# prior = d.sample(model.rng_key, (10000, ))\n",
    "# sns.kdeplot(prior, color=cmap[-2], fill=True, label=\"Prior\", ax=ax)\n",
    "# sns.kdeplot(a_random_mean, color=cmap[6], fill=True, label=\"Posterior\", ax=ax)\n",
    "# ax.legend(loc=\"upper left\")\n",
    "\n",
    "axes[0, 0].sharex(axes[1, 0])\n",
    "axes[0, 1].sharex(axes[1, 0])\n",
    "axes[1, 1].sharex(axes[1, 0])\n",
    "\n",
    "axes[0, 2].sharex(axes[1, 2])\n",
    "\n",
    "# axes[0, 1].sharey(axes[0, 0])\n",
    "axes[1, 1].sharey(axes[1, 0])\n",
    "\n",
    "axes[1, 2].legend(loc=\"upper left\", prop = { \"size\": 8 })\n",
    "\n",
    "subset = [(0, 0), (0, 1), (0, 2), (1, 0), (1, 1), (1, 2)]\n",
    "for i, j in subset:\n",
    "    ax = axes[i, j]\n",
    "    sides = ['right', 'top']\n",
    "    for side in sides:\n",
    "        ax.spines[side].set_visible(False)\n",
    "    ax.tick_params(\n",
    "        axis='both',\n",
    "        which='both',\n",
    "        left=True,\n",
    "        bottom=True,\n",
    "        right=False,\n",
    "        top=False,\n",
    "        labelleft=False,\n",
    "        labelbottom=False,\n",
    "        labelright=False,\n",
    "        labeltop=False,\n",
    "        labelrotation=15\n",
    "    )\n",
    "    if j == 0:\n",
    "        ax.tick_params(\n",
    "            axis='both',\n",
    "            which='both',\n",
    "            labelleft=True,\n",
    "            labelrotation=15\n",
    "        )\n",
    "    if i == 1:\n",
    "        ax.tick_params(\n",
    "            axis='both',\n",
    "            which='both',\n",
    "            labelbottom=True,\n",
    "            labelrotation=15\n",
    "        )\n",
    "\n",
    "# axes[0, 0].set_ylim(bottom=-2)\n",
    "# axes[0, 1].sharey(axes[0, 0])\n",
    "axes[0, 0].set_yticklabels([0., .5, 1.])\n",
    "\n",
    "axes[1, 0].set_yticks([0, 6, 12])\n",
    "axes[1, 0].set_xticks([0, 4, 8])\n",
    "\n",
    "axes[1, 2].set_xticks([-10, 0, 10])\n",
    "\n",
    "for i in range(nrows):\n",
    "    for j in range(ncols):\n",
    "        ax = axes[i, j]\n",
    "        ax.set_xlabel(\"\")\n",
    "        ax.set_ylabel(\"\")\n",
    "\n",
    "axis_label_size = 10\n",
    "axes[0, 0].set_ylabel(\"Probability Density\", size=axis_label_size)\n",
    "\n",
    "axes[1, 0].set_ylabel(\"AUC (µV$\\cdot$s)\", size=axis_label_size)\n",
    "axes[1, 0].set_xlabel(\"Stimulation Intensity (mA)\", size=axis_label_size)\n",
    "axes[1, 1].set_xlabel(\"Stimulation Intensity (mA)\", size=axis_label_size)\n",
    "\n",
    "axes[1, 2].set_xlabel(\"Midline $-$ Lateral Threshold (mA)\")\n",
    "\n",
    "axes[0, 0].set_title(\"Lateral\", fontweight=\"bold\", color=response_colors[0])\n",
    "axes[0, 1].set_title(\"Midline\", fontweight=\"bold\", color=response_colors[1])\n",
    "\n",
    "# axes[0, 0].set_title(\"Lateral\", fontweight=\"bold\", color=response_colors[0])\n",
    "# axes[0, 1].set_title(\"Midline\", fontweight=\"bold\", color=response_colors[1])\n",
    "\n",
    "fig.align_ylabels()\n",
    "\n",
    "dest = os.path.join(model.build_dir, \"midline-lateral.png\")\n",
    "fig.savefig(dest, dpi=600)\n"
   ]
  },
  {
   "cell_type": "code",
   "execution_count": 58,
   "metadata": {},
   "outputs": [
    {
     "data": {
      "text/plain": [
       "'/home/vishu/repos/hbmep-paper/reports/paper/figures/intraoperative/midline-lateral/midline-lateral.png'"
      ]
     },
     "execution_count": 58,
     "metadata": {},
     "output_type": "execute_result"
    }
   ],
   "source": [
    "dest"
   ]
  },
  {
   "cell_type": "code",
   "execution_count": null,
   "metadata": {},
   "outputs": [],
   "source": []
  }
 ],
 "metadata": {
  "kernelspec": {
   "display_name": "Python 3 (ipykernel)",
   "language": "python",
   "name": "python3"
  },
  "language_info": {
   "codemirror_mode": {
    "name": "ipython",
    "version": 3
   },
   "file_extension": ".py",
   "mimetype": "text/x-python",
   "name": "python",
   "nbconvert_exporter": "python",
   "pygments_lexer": "ipython3",
   "version": "3.11.4"
  }
 },
 "nbformat": 4,
 "nbformat_minor": 2
}
