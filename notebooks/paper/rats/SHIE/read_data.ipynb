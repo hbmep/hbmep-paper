{
 "cells": [
  {
   "cell_type": "code",
   "execution_count": 1,
   "metadata": {},
   "outputs": [],
   "source": [
    "%reload_ext autoreload\n",
    "%autoreload 2\n",
    "\n",
    "import os\n",
    "from pathlib import Path\n",
    "\n",
    "import numpy as np\n",
    "\n",
    "from hbmep_paper.utils import load_rats_data\n"
   ]
  },
  {
   "cell_type": "code",
   "execution_count": 2,
   "metadata": {},
   "outputs": [
    {
     "name": "stderr",
     "output_type": "stream",
     "text": [
      "  0%|                                                     | 0/8 [00:00<?, ?it/s]"
     ]
    },
    {
     "name": "stderr",
     "output_type": "stream",
     "text": [
      "100%|█████████████████████████████████████████████| 8/8 [00:01<00:00,  5.55it/s]\n",
      "2023-10-24 11:50:24,626 - hbmep.utils.utils - INFO - func:load_rats_data took: 1.44 sec\n"
     ]
    }
   ],
   "source": [
    "dir = \"/mount/hdd1/acute_mapping/proc/physio\"\n",
    "subdir_pattern = [\"*L_SHIE*\"]\n",
    "subjects = range(1, 9)\n",
    "\n",
    "df, mat, time, auc_window, muscles_map = load_rats_data(dir=dir, subdir_pattern=subdir_pattern, subjects=subjects)\n",
    "\n"
   ]
  },
  {
   "cell_type": "code",
   "execution_count": 3,
   "metadata": {},
   "outputs": [
    {
     "data": {
      "text/plain": [
       "{'auc_1': 'LADM',\n",
       " 'auc_2': 'LBiceps',\n",
       " 'auc_3': 'LBicepsFemoris',\n",
       " 'auc_4': 'LDeltoid',\n",
       " 'auc_5': 'LECR',\n",
       " 'auc_6': 'LFCR',\n",
       " 'auc_7': 'LTriceps',\n",
       " 'auc_8': 'RBiceps'}"
      ]
     },
     "execution_count": 3,
     "metadata": {},
     "output_type": "execute_result"
    }
   ],
   "source": [
    "muscles_map"
   ]
  },
  {
   "cell_type": "code",
   "execution_count": 4,
   "metadata": {},
   "outputs": [],
   "source": [
    "df = df.rename(columns=muscles_map).copy()\n",
    "\n",
    "dst = \"/home/vishu/data/hbmep-processed/L_SHIE\"\n",
    "df.to_csv(os.path.join(dst, \"data.csv\"), index=False)\n",
    "\n",
    "np.save(os.path.join(dst, \"mat.npy\"), mat)\n",
    "np.save(os.path.join(dst, \"auc_window.npy\"), np.array(auc_window))"
   ]
  },
  {
   "cell_type": "code",
   "execution_count": 5,
   "metadata": {},
   "outputs": [],
   "source": [
    "import json\n",
    "\n",
    "f = open(os.path.join(dst, \"muscles_map.json\"), \"w\")\n",
    "f.write(json.dumps(muscles_map))\n",
    "f.close;"
   ]
  },
  {
   "cell_type": "code",
   "execution_count": 6,
   "metadata": {},
   "outputs": [
    {
     "data": {
      "text/plain": [
       "{'auc_1': 'LADM',\n",
       " 'auc_2': 'LBiceps',\n",
       " 'auc_3': 'LBicepsFemoris',\n",
       " 'auc_4': 'LDeltoid',\n",
       " 'auc_5': 'LECR',\n",
       " 'auc_6': 'LFCR',\n",
       " 'auc_7': 'LTriceps',\n",
       " 'auc_8': 'RBiceps'}"
      ]
     },
     "execution_count": 6,
     "metadata": {},
     "output_type": "execute_result"
    }
   ],
   "source": [
    "muscles_map"
   ]
  },
  {
   "cell_type": "code",
   "execution_count": 7,
   "metadata": {},
   "outputs": [
    {
     "data": {
      "text/plain": [
       "(3572, 46)"
      ]
     },
     "execution_count": 7,
     "metadata": {},
     "output_type": "execute_result"
    }
   ],
   "source": [
    "df.shape"
   ]
  },
  {
   "cell_type": "code",
   "execution_count": null,
   "metadata": {},
   "outputs": [],
   "source": []
  }
 ],
 "metadata": {
  "kernelspec": {
   "display_name": "Python 3 (ipykernel)",
   "language": "python",
   "name": "python3"
  },
  "orig_nbformat": 4,
  "vscode": {
   "interpreter": {
    "hash": "850bfd4e6f5ddd996dd5cd5088beecd08558625e274540230e1444ec52025b11"
   }
  }
 },
 "nbformat": 4,
 "nbformat_minor": 2
}
