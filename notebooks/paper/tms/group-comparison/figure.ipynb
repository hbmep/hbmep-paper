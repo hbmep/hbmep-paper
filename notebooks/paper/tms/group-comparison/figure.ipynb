{
 "cells": [
  {
   "cell_type": "code",
   "execution_count": 1,
   "metadata": {},
   "outputs": [],
   "source": [
    "%reload_ext autoreload\n",
    "%autoreload 2\n",
    "\n",
    "import os\n",
    "import pickle\n",
    "import logging\n",
    "import multiprocessing\n",
    "\n",
    "import pandas as pd\n",
    "import numpy as np\n",
    "import matplotlib.pyplot as plt\n",
    "import seaborn as sns\n",
    "\n",
    "import jax\n",
    "import jax.numpy as jnp\n",
    "\n",
    "import arviz as az\n",
    "import numpyro\n",
    "from numpyro.diagnostics import hpdi\n",
    "\n",
    "from hbmep.config import Config\n",
    "from hbmep.model.utils import Site as site\n",
    "\n",
    "from core import MixtureModel\n",
    "\n",
    "PLATFORM = \"cpu\"\n",
    "jax.config.update(\"jax_platforms\", PLATFORM)\n",
    "numpyro.set_platform(PLATFORM)\n",
    "\n",
    "cpu_count = multiprocessing.cpu_count() - 2\n",
    "numpyro.set_host_device_count(cpu_count)\n",
    "numpyro.enable_x64()\n",
    "numpyro.enable_validation()\n",
    "\n",
    "logger = logging.getLogger(__name__)\n"
   ]
  },
  {
   "cell_type": "code",
   "execution_count": 2,
   "metadata": {},
   "outputs": [
    {
     "name": "stderr",
     "output_type": "stream",
     "text": [
      "2023-12-14 04:22:12,465 - hbmep.model.baseline - INFO - Initialized mixture_model\n"
     ]
    },
    {
     "name": "stderr",
     "output_type": "stream",
     "text": [
      "2023-12-14 04:22:12,485 - hbmep.dataset.core - INFO - Artefacts will be stored here - /home/vishu/repos/hbmep-paper/reports/paper/tms/group-comparison\n",
      "2023-12-14 04:22:12,486 - hbmep.dataset.core - INFO - Copied config to /home/vishu/repos/hbmep-paper/reports/paper/tms/group-comparison\n",
      "2023-12-14 04:22:12,487 - hbmep.dataset.core - WARNING - Total non-positive observations: 0\n",
      "2023-12-14 04:22:12,488 - hbmep.dataset.core - WARNING - Total missing observations: 0\n",
      "2023-12-14 04:22:12,488 - hbmep.dataset.core - INFO - Processing data ...\n",
      "2023-12-14 04:22:12,490 - hbmep.utils.utils - INFO - func:load took: 0.00 sec\n"
     ]
    }
   ],
   "source": [
    "toml_path = \"/home/vishu/repos/hbmep-paper/configs/paper/tms/config.toml\"\n",
    "config = Config(toml_path=toml_path)\n",
    "config.BUILD_DIR = os.path.join(config.BUILD_DIR, \"group-comparison\")\n",
    "config.FEATURES = [\"participant\", \"participant_condition\"]\n",
    "config.RESPONSE = ['PKPK_APB', 'PKPK_ECR', 'PKPK_FCR']\n",
    "config.MCMC_PARAMS[\"num_warmup\"] = 5000\n",
    "config.MCMC_PARAMS[\"num_samples\"] = 1000\n",
    "model = MixtureModel(config=config)\n",
    "\n",
    "src = \"/home/vishu/data/hbmep-processed/human/tms/proc_2023-11-28.csv\"\n",
    "df = pd.read_csv(src)\n",
    "df, encoder_dict = model.load(df=df)\n"
   ]
  },
  {
   "cell_type": "code",
   "execution_count": 3,
   "metadata": {},
   "outputs": [],
   "source": [
    "src = \"/home/vishu/repos/hbmep-paper/reports/paper/tms/group-comparison/inference.pkl\"\n",
    "with open(src, \"rb\") as g:\n",
    "    _, mcmc, posterior_samples = pickle.load(g)\n"
   ]
  },
  {
   "cell_type": "code",
   "execution_count": 4,
   "metadata": {},
   "outputs": [
    {
     "data": {
      "text/plain": [
       "(4000, 2, 3)"
      ]
     },
     "execution_count": 4,
     "metadata": {},
     "output_type": "execute_result"
    }
   ],
   "source": [
    "a_mean = posterior_samples[\"a_mean\"]\n",
    "a_mean.shape"
   ]
  },
  {
   "cell_type": "code",
   "execution_count": 5,
   "metadata": {},
   "outputs": [
    {
     "data": {
      "text/plain": [
       "array([0.89675, 0.87   , 0.97025])"
      ]
     },
     "execution_count": 5,
     "metadata": {},
     "output_type": "execute_result"
    }
   ],
   "source": [
    "((a_mean[:, 0, :] - a_mean[:, 1, :]) > 0).mean(axis=0)"
   ]
  },
  {
   "cell_type": "code",
   "execution_count": 6,
   "metadata": {},
   "outputs": [
    {
     "data": {
      "text/plain": [
       "['PKPK_APB', 'PKPK_ECR', 'PKPK_FCR']"
      ]
     },
     "execution_count": 6,
     "metadata": {},
     "output_type": "execute_result"
    }
   ],
   "source": [
    "model.response"
   ]
  },
  {
   "cell_type": "code",
   "execution_count": 7,
   "metadata": {},
   "outputs": [],
   "source": [
    "response_colors = {\n",
    "    0: (0.8157, 0.1098, 0.5451),\n",
    "    1: (0.2055, 0., 0.4000),\n",
    "    2: (0.3000, 0.3000, 0.3000)\n",
    "}\n",
    "prior_color = (.7, .7, .7)\n"
   ]
  },
  {
   "cell_type": "code",
   "execution_count": 8,
   "metadata": {},
   "outputs": [
    {
     "name": "stderr",
     "output_type": "stream",
     "text": [
      "2023-12-14 04:22:13,699 - hbmep.utils.utils - INFO - func:make_prediction_dataset took: 0.02 sec\n"
     ]
    },
    {
     "name": "stderr",
     "output_type": "stream",
     "text": [
      "2023-12-14 04:32:31,255 - hbmep.utils.utils - INFO - func:predict took: 10 min and 17.56 sec\n"
     ]
    }
   ],
   "source": [
    "_posterior_samples = posterior_samples.copy()\n",
    "_posterior_samples[\"outlier_prob\"] = _posterior_samples[\"outlier_prob\"] * 0\n",
    "prediction_df = model.make_prediction_dataset(df=df, num=5000)\n",
    "# prediction_df = model.make_prediction_dataset(df=df, num=100, min_intensity=0, max_intensity=82)\n",
    "posterior_predictive = model.predict(df=prediction_df, posterior_samples=_posterior_samples)\n"
   ]
  },
  {
   "cell_type": "code",
   "execution_count": 9,
   "metadata": {},
   "outputs": [],
   "source": [
    "a = posterior_samples[site.a]\n",
    "a_map = a.mean(axis=0)\n",
    "mu = posterior_predictive[site.mu]\n",
    "obs = posterior_predictive[site.obs]\n",
    "obs_hpdi = hpdi(obs, prob=.95)\n",
    "a_mean = posterior_samples[\"a_mean\"]\n"
   ]
  },
  {
   "cell_type": "code",
   "execution_count": 11,
   "metadata": {},
   "outputs": [],
   "source": [
    "response = [\"APB\", \"ECR\", \"FCR\"]\n",
    "axis_label_size = 10\n",
    "\n",
    "\"\"\" Plot \"\"\"\n",
    "nrows, ncols = 5, 3\n",
    "fig, axes = plt.subplots(nrows=nrows, ncols=ncols, figsize=(3 * ncols, 1.8 * nrows), squeeze=False, height_ratios=[1, .5, 1, .5, 1], constrained_layout=True)\n",
    "\n",
    "rec_ins = []\n",
    "\n",
    "for muscle_ind in range(model.n_response):\n",
    "    color = response_colors[muscle_ind]\n",
    "\n",
    "    for c_counter, c in enumerate([(5, 1), (18, 0)]):\n",
    "        ind = df[model.features].apply(tuple, axis=1).isin([c])\n",
    "        temp_df = df[ind].reset_index(drop=True).copy()\n",
    "\n",
    "        pred_ind = prediction_df[model.features].apply(tuple, axis=1).isin([c])\n",
    "        temp_pred_df = prediction_df[pred_ind].reset_index(drop=True).copy()\n",
    "\n",
    "        temp_obs = obs[:, pred_ind, muscle_ind]\n",
    "        temp_mu = mu[:, pred_ind, muscle_ind]\n",
    "        temp_obs_hpdi = obs_hpdi[:, pred_ind, muscle_ind]\n",
    "\n",
    "        ax = axes[2 * c_counter, muscle_ind]\n",
    "        sns.scatterplot(x=temp_df[model.intensity], y=temp_df[model.response[muscle_ind]], ax=ax, color=color)\n",
    "        sns.lineplot(x=temp_pred_df[model.intensity], y=temp_mu.mean(axis=0), color=color, ax=ax)\n",
    "        ax.fill_between(\n",
    "            temp_pred_df[model.intensity],\n",
    "            temp_obs_hpdi[0, :],\n",
    "            temp_obs_hpdi[1, :],\n",
    "            color=color,\n",
    "            alpha=.15\n",
    "        )\n",
    "        ax.sharex(axes[0, 0])\n",
    "        ax.sharey(axes[2 * c_counter, 0])\n",
    "\n",
    "        if (c, muscle_ind) in [((5, 1), 1), ((5, 1), 2)]:\n",
    "            ins = ax.inset_axes([0.15,0.4,0.8 ,0.5])\n",
    "            rec_ins.append(ins)\n",
    "            sns.scatterplot(x=temp_df[model.intensity], y=temp_df[model.response[muscle_ind]], ax=ins, color=color)\n",
    "            sns.lineplot(x=temp_pred_df[model.intensity], y=temp_mu.mean(axis=0), color=color, ax=ins)\n",
    "            ins.fill_between(\n",
    "                temp_pred_df[model.intensity],\n",
    "                temp_obs_hpdi[0, :],\n",
    "                temp_obs_hpdi[1, :],\n",
    "                color=color,\n",
    "                alpha=.15\n",
    "            )\n",
    "            ins.set_xlabel(\"\")\n",
    "            ins.set_ylabel(\"\")\n",
    "            ins.xaxis.set_major_locator(plt.MaxNLocator(3))\n",
    "            ins.yaxis.set_major_locator(plt.MaxNLocator(3))\n",
    "            # ins.set_xlim(left=4, right=6)\n",
    "            ins.tick_params(\n",
    "                axis='both',\n",
    "                which='both',\n",
    "                left=True,\n",
    "                bottom=True,\n",
    "                right=False,\n",
    "                top=False,\n",
    "                labelleft=True,\n",
    "                labelbottom=True,\n",
    "                labelright=False,\n",
    "                labeltop=False,\n",
    "                labelrotation=15,\n",
    "                labelsize=8\n",
    "            )\n",
    "\n",
    "        ax = axes[2 * c_counter + 1, muscle_ind]\n",
    "        sns.kdeplot(a[:, *c, muscle_ind], ax=ax, color=color)\n",
    "        ax.sharex(axes[0, 0])\n",
    "\n",
    "    ax = axes[4, muscle_ind]\n",
    "    samples = a_mean[:, 0, muscle_ind] - a_mean[:, 1, muscle_ind]\n",
    "    # d = dist.Normal(0, 3)\n",
    "    # prior = d.sample(model.rng_key, (10000, ))\n",
    "    # sns.kdeplot(prior, ax=ax, color=prior_color, label=\"Prior\")\n",
    "    sns.kdeplot(samples, ax=ax, color=color, label=\"Posterior\")\n",
    "    prob = (samples > 0).mean()\n",
    "    ax.set_title(f\"Pr( SCI > Uninjured ) = {prob:.2f}\", fontweight=\"bold\", size=8)\n",
    "    ax.sharex(axes[4, 0])\n",
    "    ax.sharey(axes[4, 0])\n",
    "    ax.axvline(x=0, color=prior_color, linestyle=\"--\")\n",
    "\n",
    "for i in range(nrows):\n",
    "    for j in range(ncols):\n",
    "        ax = axes[i, j]\n",
    "        sides = ['right', 'top']\n",
    "        for side in sides:\n",
    "            ax.spines[side].set_visible(False)\n",
    "        ax.tick_params(\n",
    "            axis='both',\n",
    "            which='both',\n",
    "            left=True,\n",
    "            bottom=True,\n",
    "            right=False,\n",
    "            top=False,\n",
    "            labelleft=False,\n",
    "            labelbottom=True,\n",
    "            labelright=False,\n",
    "            labeltop=False,\n",
    "            labelrotation=15\n",
    "        )\n",
    "        ax.set_xlabel(\"\")\n",
    "        ax.set_ylabel(\"\")\n",
    "\n",
    "for muscle_ind in range(1):\n",
    "    for c_counter, c in enumerate([(5, 1), (18, 0)]):\n",
    "        ax = axes[2 * c_counter, muscle_ind]\n",
    "        ax.set_xlabel(\"TMS Intensity (%)\", size=axis_label_size)\n",
    "\n",
    "        ax = axes[2 * c_counter + 1, muscle_ind]\n",
    "        ax.set_xlabel(\"Threshold (%)\", size=axis_label_size)\n",
    "        ax.tick_params(\n",
    "            axis='both',\n",
    "            which='both',\n",
    "            left=False,\n",
    "            labelleft=False,\n",
    "            labelrotation=15\n",
    "        )\n",
    "\n",
    "    ax = axes[4, muscle_ind]\n",
    "    ax.set_xlabel(\"SCI $-$ Uninjured Threshold (%)\", size=axis_label_size)\n",
    "    ax.tick_params(\n",
    "        axis='both',\n",
    "        which='both',\n",
    "        left=False,\n",
    "        labelleft=False,\n",
    "        labelrotation=15\n",
    "    )\n",
    "\n",
    "    ax = axes[0, muscle_ind]\n",
    "    ax.set_title(response[muscle_ind], fontweight=\"bold\")\n",
    "    # ax.set_title(response[muscle_ind], fontweight=\"bold\", color=response_colors[muscle_ind])\n",
    "\n",
    "ax = axes[0, 0]\n",
    "ax.tick_params(\n",
    "    axis='both',\n",
    "    which='both',\n",
    "    labelleft=True,\n",
    "    labelrotation=15\n",
    ")\n",
    "ax.set_ylabel(\"pk-pk (a.u.)\", size=axis_label_size)\n",
    "ax.set_xticks([0, 40, 80])\n",
    "ax.yaxis.set_major_locator(plt.MaxNLocator(3))\n",
    "ax.text(.001, 6.5, \"Uninjured\", size=10, ha=\"left\", va=\"center\", fontweight=\"bold\")\n",
    "\n",
    "ax = axes[1, 0]\n",
    "ax.set_ylabel(\"Prob. Density\", size=axis_label_size)\n",
    "\n",
    "ax = axes[2, 0]\n",
    "ax.set_ylabel(\"pk-pk (a.u.)\", size=axis_label_size)\n",
    "ax.yaxis.set_major_locator(plt.MaxNLocator(3))\n",
    "ax.tick_params(\n",
    "    axis='both',\n",
    "    which='both',\n",
    "    left=True,\n",
    "    labelleft=True,\n",
    ")\n",
    "ax.text(.001, 0.65, \"SCI\", size=10, ha=\"left\", va=\"center\", fontweight=\"bold\")\n",
    "\n",
    "ax = axes[3, 0]\n",
    "ax.set_ylabel(\"Prob. Density\", size=axis_label_size)\n",
    "\n",
    "ax = axes[4, 0]\n",
    "ax.tick_params(\n",
    "    axis='both',\n",
    "    which='both',\n",
    "    left=False,\n",
    "    labelleft=False,\n",
    "    labelbottom=True,\n",
    "    labelrotation=15\n",
    ")\n",
    "ax.set_ylabel(\"Probability Density\", size=axis_label_size)\n",
    "ax.set_xticks([-20, 0, 20, 40])\n",
    "\n",
    "rec_ins[1].sharex(rec_ins[0])\n",
    "rec_ins[1].sharey(rec_ins[0])\n",
    "\n",
    "fig.align_xlabels()\n",
    "fig.align_ylabels()\n",
    "\n",
    "dest = os.path.join(model.build_dir, \"group-comparison.svg\")\n",
    "fig.savefig(dest, dpi=600)\n",
    "dest = os.path.join(model.build_dir, \"group-comparison.png\")\n",
    "fig.savefig(dest, dpi=600)\n",
    "logger.info(f\"Saved figure to {dest}\")\n"
   ]
  }
 ],
 "metadata": {
  "kernelspec": {
   "display_name": "Python 3 (ipykernel)",
   "language": "python",
   "name": "python3"
  },
  "language_info": {
   "codemirror_mode": {
    "name": "ipython",
    "version": 3
   },
   "file_extension": ".py",
   "mimetype": "text/x-python",
   "name": "python",
   "nbconvert_exporter": "python",
   "pygments_lexer": "ipython3",
   "version": "3.11.4"
  }
 },
 "nbformat": 4,
 "nbformat_minor": 2
}
