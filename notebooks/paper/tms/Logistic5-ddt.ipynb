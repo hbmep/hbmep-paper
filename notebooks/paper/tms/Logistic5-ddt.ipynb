{
 "cells": [
  {
   "cell_type": "code",
   "execution_count": 1,
   "metadata": {},
   "outputs": [],
   "source": [
    "%reload_ext autoreload\n",
    "%autoreload 2\n",
    "\n",
    "import os\n",
    "import pickle\n",
    "import logging\n",
    "import multiprocessing\n",
    "from pathlib import Path\n",
    "\n",
    "import pandas as pd\n",
    "import numpy as np\n",
    "import jax\n",
    "import jax.numpy as jnp\n",
    "\n",
    "import arviz as az\n",
    "import numpyro\n",
    "\n",
    "from hbmep.config import Config\n",
    "from hbmep.model.utils import Site as site\n",
    "\n",
    "PLATFORM = \"cpu\"\n",
    "jax.config.update(\"jax_platforms\", PLATFORM)\n",
    "numpyro.set_platform(PLATFORM)\n",
    "\n",
    "cpu_count = multiprocessing.cpu_count() - 2\n",
    "numpyro.set_host_device_count(cpu_count)\n",
    "numpyro.enable_x64()\n",
    "numpyro.enable_validation()\n",
    "\n",
    "logger = logging.getLogger(__name__)\n"
   ]
  },
  {
   "cell_type": "code",
   "execution_count": 2,
   "metadata": {},
   "outputs": [],
   "source": [
    "# import numpyro.distributions as dist\n",
    "# from hbmep.model import Baseline\n",
    "\n",
    "\n",
    "# class Logistic5(Baseline):\n",
    "#     LINK = \"Logistic5\"\n",
    "\n",
    "#     def __init__(self, config: Config):\n",
    "#         super(Logistic5, self).__init__(config=config)\n",
    "#         self.combination_columns = self.features + [self.subject]\n",
    "\n",
    "#     def _model(self, subject, features, intensity, response_obs=None):\n",
    "#         intensity = intensity.reshape(-1, 1)\n",
    "#         intensity = np.tile(intensity, (1, self.n_response))\n",
    "\n",
    "#         feature0 = features[0].reshape(-1,)\n",
    "\n",
    "#         n_data = intensity.shape[0]\n",
    "#         n_subject = np.unique(subject).shape[0]\n",
    "#         n_feature0 = np.unique(feature0).shape[0]\n",
    "\n",
    "#         with numpyro.plate(site.n_response, self.n_response, dim=-1):\n",
    "#             global_sigma_b = numpyro.sample(\"global_sigma_b\", dist.HalfNormal(100))\n",
    "#             global_sigma_v = numpyro.sample(\"global_sigma_v\", dist.HalfNormal(100))\n",
    "\n",
    "#             global_sigma_L = numpyro.sample(\"global_sigma_L\", dist.HalfNormal(1))\n",
    "#             global_sigma_H = numpyro.sample(\"global_sigma_H\", dist.HalfNormal(5))\n",
    "\n",
    "#             global_sigma_g_1 = numpyro.sample(\"global_sigma_g_1\", dist.HalfNormal(100))\n",
    "#             global_sigma_g_2 = numpyro.sample(\"global_sigma_g_2\", dist.HalfNormal(100))\n",
    "\n",
    "#             global_sigma_p = numpyro.sample(\"global_sigma_p\", dist.HalfNormal(100))\n",
    "\n",
    "#             with numpyro.plate(\"n_feature0\", n_feature0, dim=-2):\n",
    "#                 \"\"\" Hyper-priors \"\"\"\n",
    "#                 mu_a = numpyro.sample(site.mu_a, dist.HalfNormal(scale=5))\n",
    "#                 sigma_a = numpyro.sample(site.sigma_a, dist.HalfNormal(scale=1))\n",
    "\n",
    "#                 sigma_b_raw = numpyro.sample(\"sigma_b_raw\", dist.HalfNormal(scale=1))\n",
    "#                 sigma_b = numpyro.deterministic(site.sigma_b, global_sigma_b * sigma_b_raw)\n",
    "\n",
    "#                 sigma_v_raw = numpyro.sample(\"sigma_v_raw\", dist.HalfNormal(scale=1))\n",
    "#                 sigma_v = numpyro.deterministic(site.sigma_v, global_sigma_v * sigma_v_raw)\n",
    "\n",
    "#                 sigma_L_raw = numpyro.sample(\"sigma_L_raw\", dist.HalfNormal(scale=1))\n",
    "#                 sigma_L = numpyro.deterministic(site.sigma_L, global_sigma_L * sigma_L_raw)\n",
    "\n",
    "#                 sigma_H_raw = numpyro.sample(\"sigma_H_raw\", dist.HalfNormal(scale=1))\n",
    "#                 sigma_H = numpyro.deterministic(site.sigma_H, global_sigma_H * sigma_H_raw)\n",
    "\n",
    "#                 sigma_g_1_raw = numpyro.sample(\"sigma_g_1_raw\", dist.HalfNormal(scale=1))\n",
    "#                 sigma_g_1 = numpyro.deterministic(\"sigma_g_1\", global_sigma_g_1 * sigma_g_1_raw)\n",
    "\n",
    "#                 sigma_g_2_raw = numpyro.sample(\"sigma_g_2_raw\", dist.HalfNormal(scale=1))\n",
    "#                 sigma_g_2 = numpyro.deterministic(\"sigma_g_2\", global_sigma_g_2 * sigma_g_2_raw)\n",
    "\n",
    "#                 sigma_p_raw = numpyro.sample(\"sigma_p_raw\", dist.HalfNormal(scale=1))\n",
    "#                 sigma_p = numpyro.deterministic(\"sigma_p\", global_sigma_p * sigma_p_raw)\n",
    "\n",
    "#                 with numpyro.plate(site.n_subject, n_subject, dim=-3):\n",
    "#                     \"\"\" Priors \"\"\"\n",
    "#                     a_raw = numpyro.sample(\"a_raw\", dist.Gamma(concentration=mu_a, rate=1))\n",
    "#                     a = numpyro.deterministic(site.a, (1 / sigma_a) * a_raw)\n",
    "\n",
    "#                     b_raw = numpyro.sample(\"b_raw\", dist.HalfNormal(scale=1))\n",
    "#                     b = numpyro.deterministic(site.b, sigma_b * b_raw)\n",
    "\n",
    "#                     v_raw = numpyro.sample(\"v_raw\", dist.HalfNormal(scale=1))\n",
    "#                     v = numpyro.deterministic(site.v, sigma_v * v_raw)\n",
    "\n",
    "#                     L_raw = numpyro.sample(\"L_raw\", dist.HalfNormal(scale=1))\n",
    "#                     L = numpyro.deterministic(site.L, sigma_L * L_raw)\n",
    "\n",
    "#                     H_raw = numpyro.sample(\"H_raw\", dist.HalfNormal(scale=1))\n",
    "#                     H = numpyro.deterministic(site.H, sigma_H * H_raw)\n",
    "\n",
    "#                     g_1_raw = numpyro.sample(\"g_1_raw\", dist.HalfCauchy(scale=1))\n",
    "#                     g_1 = numpyro.deterministic(site.g_1, sigma_g_1 * g_1_raw)\n",
    "\n",
    "#                     g_2_raw = numpyro.sample(\"g_2_raw\", dist.HalfCauchy(scale=1))\n",
    "#                     g_2 = numpyro.deterministic(site.g_2, sigma_g_2 * g_2_raw)\n",
    "\n",
    "#                     p_raw = numpyro.sample(\"p_raw\", dist.HalfNormal(scale=1))\n",
    "#                     p = numpyro.deterministic(\"p\", sigma_p * p_raw)\n",
    "\n",
    "#         \"\"\" Model \"\"\"\n",
    "#         z = numpyro.deterministic(\n",
    "#             \"z\",\n",
    "#             jnp.exp(-b[subject, feature0] * (intensity - a[subject, feature0]))\n",
    "#         )\n",
    "#         mu = numpyro.deterministic(\n",
    "#             site.mu,\n",
    "#             L[subject, feature0]\n",
    "#             + (\n",
    "#                 H[subject, feature0]\n",
    "#                 / jnp.power(\n",
    "#                     1 + v[subject, feature0] * z,\n",
    "#                     1 / v[subject, feature0]\n",
    "#                 )\n",
    "#             )\n",
    "#         )\n",
    "#         mu_prime = numpyro.deterministic(\n",
    "#             \"mu_prime\",\n",
    "#             b[subject, feature0]\n",
    "#             * H[subject, feature0]\n",
    "#             * z\n",
    "#             * jnp.power(\n",
    "#                 1\n",
    "#                 + (\n",
    "#                     v[subject, feature0]\n",
    "#                     * z\n",
    "#                 ),\n",
    "#                 - (1 + v[subject, feature0]) / v[subject, feature0]\n",
    "#             )\n",
    "#         )\n",
    "#         beta = numpyro.deterministic(\n",
    "#             site.beta,\n",
    "#             g_1[subject, feature0] + g_2[subject, feature0] * ((1 / (mu_prime + 1)) ** p[subject, feature0])\n",
    "#         )\n",
    "\n",
    "#         \"\"\" Observation \"\"\"\n",
    "#         with numpyro.plate(site.data, n_data):\n",
    "#             return numpyro.sample(\n",
    "#                 site.obs,\n",
    "#                 dist.Gamma(concentration=mu * beta, rate=beta).to_event(1),\n",
    "#                 obs=response_obs\n",
    "#             )\n"
   ]
  },
  {
   "cell_type": "code",
   "execution_count": 3,
   "metadata": {},
   "outputs": [],
   "source": [
    "import numpyro.distributions as dist\n",
    "from hbmep.model import Baseline\n",
    "\n",
    "\n",
    "class Logistic5(Baseline):\n",
    "    LINK = \"Logistic5\"\n",
    "\n",
    "    def __init__(self, config: Config):\n",
    "        super(Logistic5, self).__init__(config=config)\n",
    "        self.combination_columns = self.features + [self.subject]\n",
    "\n",
    "    def _model(self, subject, features, intensity, response_obs=None):\n",
    "        intensity = intensity.reshape(-1, 1)\n",
    "        intensity = np.tile(intensity, (1, self.n_response))\n",
    "\n",
    "        feature0 = features[0].reshape(-1,)\n",
    "\n",
    "        n_data = intensity.shape[0]\n",
    "        n_subject = np.unique(subject).shape[0]\n",
    "        n_feature0 = np.unique(feature0).shape[0]\n",
    "\n",
    "        with numpyro.plate(site.n_response, self.n_response, dim=-1):\n",
    "            global_sigma_b = numpyro.sample(\"global_sigma_b\", dist.HalfNormal(100))\n",
    "            global_sigma_v = numpyro.sample(\"global_sigma_v\", dist.HalfNormal(100))\n",
    "\n",
    "            global_sigma_L = numpyro.sample(\"global_sigma_L\", dist.HalfNormal(1))\n",
    "            global_sigma_H = numpyro.sample(\"global_sigma_H\", dist.HalfNormal(5))\n",
    "\n",
    "            global_sigma_g_1 = numpyro.sample(\"global_sigma_g_1\", dist.HalfNormal(100))\n",
    "            global_sigma_g_2 = numpyro.sample(\"global_sigma_g_2\", dist.HalfNormal(100))\n",
    "\n",
    "            global_sigma_p = numpyro.sample(\"global_sigma_p\", dist.HalfNormal(100))\n",
    "\n",
    "            with numpyro.plate(\"n_feature0\", n_feature0, dim=-2):\n",
    "                \"\"\" Hyper-priors \"\"\"\n",
    "                mu_a = numpyro.sample(site.mu_a, dist.HalfNormal(scale=5))\n",
    "                sigma_a = numpyro.sample(site.sigma_a, dist.HalfNormal(scale=1))\n",
    "\n",
    "                sigma_b_raw = numpyro.sample(\"sigma_b_raw\", dist.HalfNormal(scale=1))\n",
    "                sigma_b = numpyro.deterministic(site.sigma_b, global_sigma_b * sigma_b_raw)\n",
    "\n",
    "                sigma_v_raw = numpyro.sample(\"sigma_v_raw\", dist.HalfNormal(scale=1))\n",
    "                sigma_v = numpyro.deterministic(site.sigma_v, global_sigma_v * sigma_v_raw)\n",
    "\n",
    "                sigma_L_raw = numpyro.sample(\"sigma_L_raw\", dist.HalfNormal(scale=1))\n",
    "                sigma_L = numpyro.deterministic(site.sigma_L, global_sigma_L * sigma_L_raw)\n",
    "\n",
    "                sigma_H_raw = numpyro.sample(\"sigma_H_raw\", dist.HalfNormal(scale=1))\n",
    "                sigma_H = numpyro.deterministic(site.sigma_H, global_sigma_H * sigma_H_raw)\n",
    "\n",
    "                sigma_g_1_raw = numpyro.sample(\"sigma_g_1_raw\", dist.HalfNormal(scale=1))\n",
    "                sigma_g_1 = numpyro.deterministic(\"sigma_g_1\", global_sigma_g_1 * sigma_g_1_raw)\n",
    "\n",
    "                sigma_g_2_raw = numpyro.sample(\"sigma_g_2_raw\", dist.HalfNormal(scale=1))\n",
    "                sigma_g_2 = numpyro.deterministic(\"sigma_g_2\", global_sigma_g_2 * sigma_g_2_raw)\n",
    "\n",
    "                sigma_p_raw = numpyro.sample(\"sigma_p_raw\", dist.HalfNormal(scale=1))\n",
    "                sigma_p = numpyro.deterministic(\"sigma_p\", global_sigma_p * sigma_p_raw)\n",
    "\n",
    "                with numpyro.plate(site.n_subject, n_subject, dim=-3):\n",
    "                    \"\"\" Priors \"\"\"\n",
    "                    a_raw = numpyro.sample(\"a_raw\", dist.Gamma(concentration=mu_a, rate=1))\n",
    "                    a = numpyro.deterministic(site.a, (1 / sigma_a) * a_raw)\n",
    "\n",
    "                    b_raw = numpyro.sample(\"b_raw\", dist.HalfNormal(scale=1))\n",
    "                    b = numpyro.deterministic(site.b, sigma_b * b_raw)\n",
    "\n",
    "                    v_raw = numpyro.sample(\"v_raw\", dist.HalfNormal(scale=1))\n",
    "                    v = numpyro.deterministic(site.v, sigma_v * v_raw)\n",
    "\n",
    "                    L_raw = numpyro.sample(\"L_raw\", dist.HalfNormal(scale=1))\n",
    "                    L = numpyro.deterministic(site.L, sigma_L * L_raw)\n",
    "\n",
    "                    H_raw = numpyro.sample(\"H_raw\", dist.HalfNormal(scale=1))\n",
    "                    H = numpyro.deterministic(site.H, sigma_H * H_raw)\n",
    "\n",
    "                    g_1_raw = numpyro.sample(\"g_1_raw\", dist.HalfCauchy(scale=1))\n",
    "                    g_1 = numpyro.deterministic(site.g_1, sigma_g_1 * g_1_raw)\n",
    "\n",
    "                    g_2_raw = numpyro.sample(\"g_2_raw\", dist.HalfCauchy(scale=1))\n",
    "                    g_2 = numpyro.deterministic(site.g_2, sigma_g_2 * g_2_raw)\n",
    "\n",
    "                    p_raw = numpyro.sample(\"p_raw\", dist.HalfNormal(scale=1))\n",
    "                    p = numpyro.deterministic(\"p\", sigma_p * p_raw)\n",
    "\n",
    "        \"\"\" Model \"\"\"\n",
    "        mu = numpyro.deterministic(\n",
    "            site.mu,\n",
    "            L[subject, feature0]\n",
    "            + (\n",
    "                H[subject, feature0]\n",
    "                / jnp.power(\n",
    "                    1 + v[subject, feature0] * jnp.exp(-b[subject, feature0] * (intensity - a[subject, feature0])),\n",
    "                    1 / v[subject, feature0]\n",
    "                )\n",
    "            )\n",
    "        )\n",
    "        beta = numpyro.deterministic(\n",
    "            site.beta,\n",
    "            g_1[subject, feature0] + g_2[subject, feature0] * jnp.power(1 / (mu + 1), p[subject, feature0])\n",
    "        )\n",
    "\n",
    "        \"\"\" Observation \"\"\"\n",
    "        with numpyro.plate(site.data, n_data):\n",
    "            return numpyro.sample(\n",
    "                site.obs,\n",
    "                dist.Gamma(concentration=mu * beta, rate=beta).to_event(1),\n",
    "                obs=response_obs\n",
    "            )\n"
   ]
  },
  {
   "cell_type": "code",
   "execution_count": 4,
   "metadata": {},
   "outputs": [
    {
     "name": "stderr",
     "output_type": "stream",
     "text": [
      "2023-10-13 13:18:27,072 - hbmep.config - INFO - Verifying configuration ...\n",
      "2023-10-13 13:18:27,072 - hbmep.config - INFO - Success!\n",
      "2023-10-13 13:18:27,093 - hbmep.model.baseline - INFO - Initialized model with Logistic5 link\n"
     ]
    }
   ],
   "source": [
    "root_path = Path(os.getcwd()).parent.parent.parent.absolute()\n",
    "toml_path = os.path.join(root_path, \"configs/paper/tms/Logistic5.toml\")\n",
    "\n",
    "config = Config(toml_path=toml_path)\n",
    "# config.MCMC_PARAMS[\"num_warmup\"] = 40000\n",
    "# config.MCMC_PARAMS[\"num_samples\"] = 60000\n",
    "# config.MCMC_PARAMS[\"thinning\"] = 4\n",
    "\n",
    "model = Logistic5(config=config)\n"
   ]
  },
  {
   "cell_type": "code",
   "execution_count": 5,
   "metadata": {},
   "outputs": [
    {
     "name": "stderr",
     "output_type": "stream",
     "text": [
      "2023-10-13 13:18:27,533 - hbmep.dataset.core - INFO - Artefacts will be stored here - /home/vishu/repos/hbmep-paper/reports/paper/tms/Logistic5\n",
      "2023-10-13 13:18:27,533 - hbmep.dataset.core - INFO - Copied config to /home/vishu/repos/hbmep-paper/reports/paper/tms/Logistic5\n",
      "2023-10-13 13:18:27,534 - hbmep.dataset.core - INFO - Processing data ...\n",
      "2023-10-13 13:18:27,536 - hbmep.utils.utils - INFO - func:load took: 0.00 sec\n"
     ]
    }
   ],
   "source": [
    "src = \"/home/vishu/data/hbmep-processed/human/tms/data_pkpk_auc.csv\"\n",
    "df = pd.read_csv(src)\n",
    "\n",
    "model.mep_matrix_path = None\n",
    "subset = [\"SCA01\"]\n",
    "ind = df[model.subject].isin(subset)\n",
    "df = df[ind].reset_index(drop=True).copy()\n",
    "\n",
    "df, encoder_dict = model.load(df=df)\n"
   ]
  },
  {
   "cell_type": "code",
   "execution_count": 6,
   "metadata": {},
   "outputs": [
    {
     "name": "stderr",
     "output_type": "stream",
     "text": [
      "2023-10-13 13:18:27,639 - hbmep.model.baseline - INFO - Running inference with Logistic5 ...\n"
     ]
    },
    {
     "data": {
      "application/vnd.jupyter.widget-view+json": {
       "model_id": "40c276f7f0bd475fa6ccb66d2474ec7c",
       "version_major": 2,
       "version_minor": 0
      },
      "text/plain": [
       "  0%|          | 0/3000 [00:00<?, ?it/s]"
      ]
     },
     "metadata": {},
     "output_type": "display_data"
    },
    {
     "data": {
      "application/vnd.jupyter.widget-view+json": {
       "model_id": "d10051cdea1648bdaffabf310cb8f0d8",
       "version_major": 2,
       "version_minor": 0
      },
      "text/plain": [
       "  0%|          | 0/3000 [00:00<?, ?it/s]"
      ]
     },
     "metadata": {},
     "output_type": "display_data"
    },
    {
     "data": {
      "application/vnd.jupyter.widget-view+json": {
       "model_id": "204ff7bcc8cb4318b745bcddea0147e4",
       "version_major": 2,
       "version_minor": 0
      },
      "text/plain": [
       "  0%|          | 0/3000 [00:00<?, ?it/s]"
      ]
     },
     "metadata": {},
     "output_type": "display_data"
    },
    {
     "data": {
      "application/vnd.jupyter.widget-view+json": {
       "model_id": "28156d4badca49b1afa4b124a3fd51f2",
       "version_major": 2,
       "version_minor": 0
      },
      "text/plain": [
       "  0%|          | 0/3000 [00:00<?, ?it/s]"
      ]
     },
     "metadata": {},
     "output_type": "display_data"
    },
    {
     "name": "stderr",
     "output_type": "stream",
     "text": [
      "2023-10-13 13:19:25,745 - hbmep.utils.utils - INFO - func:run_inference took: 58.11 sec\n"
     ]
    }
   ],
   "source": [
    "mcmc, posterior_samples = model.run_inference(df=df)\n"
   ]
  },
  {
   "cell_type": "code",
   "execution_count": 7,
   "metadata": {},
   "outputs": [
    {
     "name": "stdout",
     "output_type": "stream",
     "text": [
      "\n",
      "                         mean       std    median      2.5%     97.5%     n_eff     r_hat\n",
      "       H_raw[0,0,0]      0.73      0.51      0.61      0.07      1.75     34.14      1.15\n",
      "       H_raw[0,0,1]      0.61      0.49      0.43      0.05      1.59     23.28      1.24\n",
      "       H_raw[0,0,2]      0.52      0.55      0.30      0.00      1.67     42.34      1.09\n",
      "       H_raw[0,0,3]      0.48      0.46      0.33      0.01      1.50     45.86      1.07\n",
      "       H_raw[0,0,4]      0.37      0.44      0.20      0.00      1.27     26.92      1.14\n",
      "       H_raw[0,0,5]      0.32      0.42      0.14      0.00      1.34     46.85      1.15\n",
      "       L_raw[0,0,0]      0.51      0.49      0.36      0.01      1.46     42.61      1.03\n",
      "       L_raw[0,0,1]      0.35      0.37      0.22      0.00      1.04     18.65      1.28\n",
      "       L_raw[0,0,2]      0.30      0.39      0.11      0.00      1.16     36.46      1.13\n",
      "       L_raw[0,0,3]      0.30      0.34      0.18      0.00      1.05     38.36      1.12\n",
      "       L_raw[0,0,4]      0.49      0.56      0.28      0.00      1.83     25.90      1.15\n",
      "       L_raw[0,0,5]      0.46      0.45      0.34      0.00      1.27     40.24      1.06\n",
      "       a_raw[0,0,0]      7.79      5.19      7.32      0.58     18.34     12.97      1.39\n",
      "       a_raw[0,0,1]      8.77      5.20      8.18      1.29     18.77     17.81      1.19\n",
      "       a_raw[0,0,2]      5.73      3.84      4.95      0.06     12.15     52.51      1.06\n",
      "       a_raw[0,0,3]      5.60      5.01      4.70      0.39     15.58      7.61      1.51\n",
      "       a_raw[0,0,4]      7.65      3.40      6.82      2.70     14.48     18.93      1.17\n",
      "       a_raw[0,0,5]      3.61      3.21      2.51      0.00      9.88     54.70      1.07\n",
      "       b_raw[0,0,0]      0.29      0.44      0.11      0.00      1.15     19.99      1.25\n",
      "       b_raw[0,0,1]      0.52      0.46      0.39      0.00      1.47     61.88      1.05\n",
      "       b_raw[0,0,2]      0.51      0.48      0.39      0.00      1.47     46.02      1.11\n",
      "       b_raw[0,0,3]      0.59      0.51      0.41      0.03      1.71     19.71      1.24\n",
      "       b_raw[0,0,4]      0.48      0.47      0.34      0.00      1.41     93.44      1.04\n",
      "       b_raw[0,0,5]      0.52      0.50      0.37      0.00      1.56     54.40      1.06\n",
      "     g_1_raw[0,0,0]      0.66      0.94      0.40      0.01      1.86     31.07      1.19\n",
      "     g_1_raw[0,0,1]      0.70      0.79      0.49      0.02      2.04     42.23      1.06\n",
      "     g_1_raw[0,0,2]     15.28     21.79      6.30      0.02     56.25     26.08      1.17\n",
      "     g_1_raw[0,0,3]      2.80      7.21      1.68      0.31      5.59     76.68      1.04\n",
      "     g_1_raw[0,0,4]      1.50      1.34      1.14      0.03      4.28     45.76      1.10\n",
      "     g_1_raw[0,0,5]     44.95     67.82     23.75      0.00    215.20      8.44      1.48\n",
      "     g_2_raw[0,0,0]   8409.06  35239.85    682.32      1.25  31796.03    107.85      1.07\n",
      "     g_2_raw[0,0,1]    187.47    206.27    115.41      9.09    582.19     37.28      1.07\n",
      "     g_2_raw[0,0,2]    321.05   1397.07      7.39      0.01   1566.56     84.48      1.04\n",
      "     g_2_raw[0,0,3]   4686.92  24352.30    486.41      3.18  13602.74     59.40      1.09\n",
      "     g_2_raw[0,0,4]  13888.91  75822.03    353.01      0.89  50440.75     82.66      1.04\n",
      "     g_2_raw[0,0,5]     13.19     27.03      1.46      0.00     55.55     10.25      1.16\n",
      "  global_sigma_H[0]      3.97      2.56      3.40      0.52      9.00     39.37      1.09\n",
      "  global_sigma_H[1]      4.11      2.47      3.71      0.32      8.83     62.22      1.09\n",
      "  global_sigma_H[2]      2.23      2.93      0.87      0.00      8.76     40.45      1.13\n",
      "  global_sigma_H[3]      2.25      2.37      1.33      0.03      7.39     19.58      1.19\n",
      "  global_sigma_H[4]      2.57      2.69      1.48      0.04      8.42     47.84      1.09\n",
      "  global_sigma_H[5]      1.67      2.30      0.71      0.00      6.47     43.53      1.10\n",
      "  global_sigma_L[0]      0.44      0.47      0.27      0.00      1.42     38.81      1.07\n",
      "  global_sigma_L[1]      0.46      0.48      0.26      0.01      1.44     30.15      1.16\n",
      "  global_sigma_L[2]      0.48      0.51      0.28      0.00      1.59     44.23      1.15\n",
      "  global_sigma_L[3]      0.27      0.36      0.13      0.00      0.97     19.62      1.15\n",
      "  global_sigma_L[4]      0.28      0.39      0.11      0.00      1.11     35.03      1.13\n",
      "  global_sigma_L[5]      0.37      0.43      0.20      0.00      1.25      6.97      1.32\n",
      "  global_sigma_b[0]     37.55     43.79     18.32      0.08    126.81     35.79      1.10\n",
      "  global_sigma_b[1]     28.64     44.84     11.25      0.16    122.18     23.03      1.22\n",
      "  global_sigma_b[2]     42.22     45.14     25.36      0.04    144.05     47.79      1.10\n",
      "  global_sigma_b[3]     53.13     46.04     38.75      0.48    137.48     39.24      1.08\n",
      "  global_sigma_b[4]     54.94     54.60     36.47      0.12    164.26     27.26      1.15\n",
      "  global_sigma_b[5]     52.49     54.12     29.91      0.02    152.47      7.76      1.27\n",
      "global_sigma_g_1[0]     60.33     52.19     45.18      0.89    164.87     18.42      1.16\n",
      "global_sigma_g_1[1]     48.69     45.27     37.79      1.27    143.77     33.60      1.12\n",
      "global_sigma_g_1[2]     90.22     57.49     75.26      7.68    206.32     37.44      1.14\n",
      "global_sigma_g_1[3]     96.18     56.01     88.25      2.55    193.99     39.06      1.06\n",
      "global_sigma_g_1[4]     92.61     56.54     79.93     11.21    209.33     48.25      1.10\n",
      "global_sigma_g_1[5]    103.85     65.87     98.57      3.98    230.95     36.23      1.14\n",
      "global_sigma_g_2[0]    126.24     75.72    118.21      1.80    262.24     26.30      1.19\n",
      "global_sigma_g_2[1]    129.24     53.12    126.38     30.07    224.74     43.25      1.11\n",
      "global_sigma_g_2[2]     86.81     62.51     76.42      3.08    200.84     32.31      1.10\n",
      "global_sigma_g_2[3]    124.01     72.57    121.77      0.80    260.83     27.76      1.13\n",
      "global_sigma_g_2[4]    141.57     68.86    145.06     28.01    279.13     57.21      1.05\n",
      "global_sigma_g_2[5]     84.63     58.10     76.52      3.23    190.44      7.38      1.27\n",
      "  global_sigma_p[0]    154.32     62.78    149.58     36.26    260.20     43.34      1.09\n",
      "  global_sigma_p[1]    144.33     58.78    140.53     36.32    243.20     16.18      1.17\n",
      "  global_sigma_p[2]    112.43     83.54    108.06      0.28    255.52     17.61      1.19\n",
      "  global_sigma_p[3]    165.15     55.86    167.12     57.52    269.66     15.22      1.22\n",
      "  global_sigma_p[4]    146.58     63.71    135.18     42.28    260.28     24.52      1.16\n",
      "  global_sigma_p[5]     80.34     59.27     74.14      0.42    197.90     37.20      1.15\n",
      "  global_sigma_v[0]     28.16     41.06      8.21      0.01    119.29     34.63      1.12\n",
      "  global_sigma_v[1]     34.42     46.02     15.07      0.02    130.14     52.83      1.10\n",
      "  global_sigma_v[2]     76.45     55.72     64.31      0.15    173.82     56.14      1.04\n",
      "  global_sigma_v[3]     69.38     53.09     58.44      1.04    172.81     34.14      1.11\n",
      "  global_sigma_v[4]     41.69     48.48     21.90      0.01    137.78     60.31      1.04\n",
      "  global_sigma_v[5]     85.01     62.42     76.31      0.92    206.11     47.66      1.12\n",
      "       p_raw[0,0,0]      1.52      0.58      1.47      0.48      2.70     26.15      1.17\n",
      "       p_raw[0,0,1]      1.21      0.62      1.17      0.24      2.37     29.92      1.08\n",
      "       p_raw[0,0,2]      0.94      0.68      0.79      0.01      2.29     21.97      1.16\n",
      "       p_raw[0,0,3]      1.70      0.60      1.63      0.76      2.97     44.78      1.07\n",
      "       p_raw[0,0,4]      1.68      0.70      1.58      0.33      2.91     27.03      1.07\n",
      "       p_raw[0,0,5]      0.57      0.51      0.42      0.00      1.65     49.31      1.11\n",
      "   sigma_H_raw[0,0]      0.78      0.47      0.70      0.08      1.64     49.67      1.14\n",
      "   sigma_H_raw[0,1]      0.95      0.65      0.83      0.09      2.20     35.70      1.18\n",
      "   sigma_H_raw[0,2]      0.47      0.47      0.33      0.00      1.47     70.19      1.07\n",
      "   sigma_H_raw[0,3]      0.57      0.51      0.43      0.01      1.62     32.29      1.14\n",
      "   sigma_H_raw[0,4]      0.40      0.41      0.25      0.00      1.25     10.21      1.19\n",
      "   sigma_H_raw[0,5]      0.35      0.50      0.10      0.00      1.46     12.60      1.26\n",
      "   sigma_L_raw[0,0]      0.31      0.39      0.13      0.00      1.22     11.71      1.23\n",
      "   sigma_L_raw[0,1]      0.43      0.49      0.22      0.00      1.46     31.78      1.13\n",
      "   sigma_L_raw[0,2]      0.37      0.41      0.21      0.00      1.18     32.85      1.20\n",
      "   sigma_L_raw[0,3]      0.52      0.51      0.36      0.00      1.54     17.16      1.35\n",
      "   sigma_L_raw[0,4]      0.55      0.46      0.45      0.00      1.48     75.45      1.06\n",
      "   sigma_L_raw[0,5]      0.28      0.41      0.13      0.00      1.17     72.35      1.07\n",
      "   sigma_b_raw[0,0]      0.46      0.55      0.24      0.00      1.68      7.45      1.29\n",
      "   sigma_b_raw[0,1]      0.36      0.40      0.22      0.00      1.17     20.21      1.15\n",
      "   sigma_b_raw[0,2]      0.55      0.51      0.41      0.00      1.54     52.66      1.10\n",
      "   sigma_b_raw[0,3]      0.65      0.55      0.54      0.00      1.60     18.72      1.18\n",
      "   sigma_b_raw[0,4]      0.54      0.57      0.27      0.00      1.71     22.10      1.16\n",
      "   sigma_b_raw[0,5]      0.71      0.60      0.57      0.00      1.82     45.75      1.09\n",
      " sigma_g_1_raw[0,0]      0.78      0.54      0.69      0.05      1.76     33.83      1.09\n",
      " sigma_g_1_raw[0,1]      0.62      0.50      0.49      0.00      1.59     37.13      1.12\n",
      " sigma_g_1_raw[0,2]      0.96      0.61      0.89      0.05      2.04     48.36      1.07\n",
      " sigma_g_1_raw[0,3]      1.05      0.52      0.96      0.28      2.08     54.39      1.09\n",
      " sigma_g_1_raw[0,4]      0.71      0.50      0.58      0.04      1.78     70.28      1.01\n",
      " sigma_g_1_raw[0,5]      1.16      0.62      1.10      0.12      2.30     44.72      1.10\n",
      " sigma_g_2_raw[0,0]      1.30      0.66      1.24      0.23      2.57     53.98      1.10\n",
      " sigma_g_2_raw[0,1]      1.19      0.58      1.11      0.13      2.22     56.59      1.06\n",
      " sigma_g_2_raw[0,2]      1.00      0.62      0.89      0.12      2.26     36.68      1.09\n",
      " sigma_g_2_raw[0,3]      1.18      0.68      1.03      0.13      2.48     55.38      1.03\n",
      " sigma_g_2_raw[0,4]      1.28      0.61      1.23      0.10      2.37     55.99      1.07\n",
      " sigma_g_2_raw[0,5]      0.89      0.76      0.65      0.03      2.52      7.53      1.30\n",
      "   sigma_p_raw[0,0]      1.47      0.57      1.33      0.53      2.66     45.72      1.11\n",
      "   sigma_p_raw[0,1]      1.23      0.56      1.17      0.31      2.29     24.43      1.12\n",
      "   sigma_p_raw[0,2]      1.28      0.88      1.24      0.01      3.14      5.13      1.42\n",
      "   sigma_p_raw[0,3]      1.89      0.66      1.91      0.55      3.00     43.86      1.10\n",
      "   sigma_p_raw[0,4]      1.48      0.62      1.39      0.20      2.66     30.14      1.12\n",
      "   sigma_p_raw[0,5]      0.80      0.53      0.70      0.03      1.78     45.89      1.08\n",
      "   sigma_v_raw[0,0]      0.38      0.50      0.20      0.00      1.47     46.69      1.06\n",
      "   sigma_v_raw[0,1]      0.32      0.40      0.16      0.00      1.14     25.85      1.24\n",
      "   sigma_v_raw[0,2]      0.82      0.58      0.72      0.00      1.97     65.55      1.08\n",
      "   sigma_v_raw[0,3]      0.81      0.53      0.73      0.01      1.84     37.18      1.08\n",
      "   sigma_v_raw[0,4]      0.48      0.50      0.34      0.00      1.46     48.80      1.08\n",
      "   sigma_v_raw[0,5]      0.88      0.63      0.84      0.00      1.99     32.16      1.15\n",
      "       v_raw[0,0,0]      0.39      0.47      0.22      0.00      1.39     22.91      1.25\n",
      "       v_raw[0,0,1]      0.29      0.42      0.10      0.00      1.24     47.72      1.07\n",
      "       v_raw[0,0,2]      0.82      0.57      0.69      0.08      1.95     28.92      1.10\n",
      "       v_raw[0,0,3]      0.63      0.48      0.52      0.03      1.70     39.25      1.03\n",
      "       v_raw[0,0,4]      0.59      0.53      0.43      0.00      1.67     52.67      1.10\n",
      "       v_raw[0,0,5]      0.98      0.65      0.83      0.03      2.21     54.31      1.04\n",
      "           µ_a[0,0]      6.61      3.95      6.07      0.56     14.24     15.18      1.28\n",
      "           µ_a[0,1]      7.58      3.96      7.44      0.64     14.70     17.96      1.20\n",
      "           µ_a[0,2]      4.95      3.09      4.59      0.17     10.28     38.06      1.10\n",
      "           µ_a[0,3]      4.82      3.67      4.11      0.16     12.51      7.56      1.40\n",
      "           µ_a[0,4]      6.76      3.03      6.13      2.26     13.07     23.70      1.14\n",
      "           µ_a[0,5]      3.84      2.66      3.07      0.05      9.04     48.18      1.10\n",
      "           σ_a[0,0]      0.16      0.11      0.15      0.01      0.39     12.95      1.39\n",
      "           σ_a[0,1]      0.22      0.13      0.20      0.03      0.47     17.82      1.19\n",
      "           σ_a[0,2]      0.22      0.40      0.07      0.00      1.10     15.96      1.37\n",
      "           σ_a[0,3]      0.12      0.11      0.10      0.01      0.34      7.58      1.50\n",
      "           σ_a[0,4]      0.17      0.07      0.15      0.06      0.32     19.50      1.15\n",
      "           σ_a[0,5]      0.71      0.62      0.61      0.00      1.95     21.74      1.19\n",
      "\n",
      "Number of divergences: 3865\n"
     ]
    }
   ],
   "source": [
    "mcmc.print_summary(prob=.95)\n"
   ]
  },
  {
   "cell_type": "code",
   "execution_count": 8,
   "metadata": {},
   "outputs": [
    {
     "name": "stderr",
     "output_type": "stream",
     "text": [
      "2023-10-13 13:19:25,977 - hbmep.utils.utils - INFO - func:make_prediction_dataset took: 0.01 sec\n",
      "2023-10-13 13:19:28,547 - hbmep.utils.utils - INFO - func:predict took: 2.57 sec\n",
      "2023-10-13 13:19:28,555 - hbmep.model.baseline - INFO - Rendering ...\n",
      "2023-10-13 13:19:30,361 - hbmep.model.baseline - INFO - Saved to /home/vishu/repos/hbmep-paper/reports/paper/tms/Logistic5/recruitment_curves.pdf\n",
      "2023-10-13 13:19:30,362 - hbmep.utils.utils - INFO - func:render_recruitment_curves took: 1.81 sec\n",
      "2023-10-13 13:19:30,369 - hbmep.model.baseline - INFO - Rendering Posterior Predictive Check ...\n",
      "2023-10-13 13:19:31,749 - hbmep.model.baseline - INFO - Saved to /home/vishu/repos/hbmep-paper/reports/paper/tms/Logistic5/posterior_predictive_check.pdf\n",
      "2023-10-13 13:19:31,750 - hbmep.utils.utils - INFO - func:_render_predictive_check took: 1.39 sec\n",
      "2023-10-13 13:19:31,751 - hbmep.utils.utils - INFO - func:render_predictive_check took: 1.39 sec\n"
     ]
    }
   ],
   "source": [
    "model.mep_matrix_path = None\n",
    "\n",
    "prediction_df = model.make_prediction_dataset(df=df)\n",
    "posterior_predictive = model.predict(df=prediction_df, posterior_samples=posterior_samples)\n",
    "\n",
    "model.render_recruitment_curves(df=df, encoder_dict=encoder_dict, posterior_samples=posterior_samples, prediction_df=prediction_df, posterior_predictive=posterior_predictive)\n",
    "model.render_predictive_check(df=df, encoder_dict=encoder_dict, prediction_df=prediction_df, posterior_predictive=posterior_predictive)\n"
   ]
  },
  {
   "cell_type": "code",
   "execution_count": 9,
   "metadata": {},
   "outputs": [
    {
     "name": "stderr",
     "output_type": "stream",
     "text": [
      "2023-10-13 13:19:32,959 - __main__ - INFO - Evaluating model ...\n"
     ]
    }
   ],
   "source": [
    "numpyro_data = az.from_numpyro(mcmc)\n",
    "\n",
    "\"\"\" Model evaluation \"\"\"\n",
    "logger.info(\"Evaluating model ...\")\n"
   ]
  },
  {
   "cell_type": "code",
   "execution_count": 10,
   "metadata": {},
   "outputs": [
    {
     "name": "stderr",
     "output_type": "stream",
     "text": [
      "/home/vishu/repos/hbmep-paper/.venv/lib/python3.11/site-packages/arviz/stats/stats.py:803: UserWarning: Estimated shape parameter of Pareto distribution is greater than 0.7 for one or more samples. You should consider using a more robust model, this is because importance sampling is less likely to work well if the marginal posterior and LOO posterior are very different. This is more likely to happen with a non-robust model and highly influential observations.\n",
      "  warnings.warn(\n",
      "2023-10-13 13:19:33,804 - __main__ - INFO - ELPD LOO (Log): 1380.38\n"
     ]
    }
   ],
   "source": [
    "score = az.loo(numpyro_data)\n",
    "logger.info(f\"ELPD LOO (Log): {score.elpd_loo:.2f}\")"
   ]
  },
  {
   "cell_type": "code",
   "execution_count": 11,
   "metadata": {},
   "outputs": [
    {
     "name": "stderr",
     "output_type": "stream",
     "text": [
      "/home/vishu/repos/hbmep-paper/.venv/lib/python3.11/site-packages/arviz/stats/stats.py:1645: UserWarning: For one or more samples the posterior variance of the log predictive densities exceeds 0.4. This could be indication of WAIC starting to fail. \n",
      "See http://arxiv.org/abs/1507.04544 for details\n",
      "  warnings.warn(\n",
      "2023-10-13 13:19:33,849 - __main__ - INFO - ELPD WAIC (Log): 1377.04\n"
     ]
    }
   ],
   "source": [
    "score = az.waic(numpyro_data)\n",
    "logger.info(f\"ELPD WAIC (Log): {score.elpd_waic:.2f}\")"
   ]
  },
  {
   "cell_type": "code",
   "execution_count": 11,
   "metadata": {},
   "outputs": [],
   "source": [
    "dest = os.path.join(model.build_dir, \"inference.pkl\")\n",
    "with open(dest, \"wb\") as f:\n",
    "    pickle.dump((model, mcmc, posterior_samples), f)\n"
   ]
  },
  {
   "cell_type": "code",
   "execution_count": 12,
   "metadata": {},
   "outputs": [],
   "source": [
    "# import pickle\n",
    "\n",
    "# with open(dest, \"rb\") as g:\n",
    "#     model_, mcmc_, posterior_samples_ = pickle.load(g)\n"
   ]
  },
  {
   "cell_type": "code",
   "execution_count": null,
   "metadata": {},
   "outputs": [],
   "source": []
  }
 ],
 "metadata": {
  "kernelspec": {
   "display_name": "Python 3 (ipykernel)",
   "language": "python",
   "name": "python3"
  },
  "language_info": {
   "codemirror_mode": {
    "name": "ipython",
    "version": 3
   },
   "file_extension": ".py",
   "mimetype": "text/x-python",
   "name": "python",
   "nbconvert_exporter": "python",
   "pygments_lexer": "ipython3",
   "version": "3.11.4"
  },
  "orig_nbformat": 4
 },
 "nbformat": 4,
 "nbformat_minor": 2
}
