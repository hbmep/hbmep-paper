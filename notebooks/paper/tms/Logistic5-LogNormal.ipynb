{
 "cells": [
  {
   "cell_type": "code",
   "execution_count": 1,
   "metadata": {},
   "outputs": [],
   "source": [
    "%reload_ext autoreload\n",
    "%autoreload 2\n",
    "\n",
    "import os\n",
    "import pickle\n",
    "import logging\n",
    "import multiprocessing\n",
    "from pathlib import Path\n",
    "\n",
    "import pandas as pd\n",
    "import numpy as np\n",
    "import jax\n",
    "import jax.numpy as jnp\n",
    "\n",
    "import arviz as az\n",
    "import numpyro\n",
    "\n",
    "from hbmep.config import Config\n",
    "from hbmep.model.utils import Site as site\n",
    "\n",
    "PLATFORM = \"cpu\"\n",
    "jax.config.update(\"jax_platforms\", PLATFORM)\n",
    "numpyro.set_platform(PLATFORM)\n",
    "\n",
    "cpu_count = multiprocessing.cpu_count() - 2\n",
    "numpyro.set_host_device_count(cpu_count)\n",
    "numpyro.enable_x64()\n",
    "numpyro.enable_validation()\n",
    "\n",
    "logger = logging.getLogger(__name__)\n"
   ]
  },
  {
   "cell_type": "code",
   "execution_count": 2,
   "metadata": {},
   "outputs": [],
   "source": [
    "import numpyro.distributions as dist\n",
    "from hbmep.model import Baseline\n",
    "\n",
    "\n",
    "class Logistic5(Baseline):\n",
    "    LINK = \"Logistic5\"\n",
    "\n",
    "    def __init__(self, config: Config):\n",
    "        super(Logistic5, self).__init__(config=config)\n",
    "        self.combination_columns = self.features + [self.subject]\n",
    "\n",
    "    def _model(self, subject, features, intensity, response_obs=None):\n",
    "        intensity = intensity.reshape(-1, 1)\n",
    "        intensity = np.tile(intensity, (1, self.n_response))\n",
    "\n",
    "        feature0 = features[0].reshape(-1,)\n",
    "\n",
    "        n_data = intensity.shape[0]\n",
    "        n_subject = np.unique(subject).shape[0]\n",
    "        n_feature0 = np.unique(feature0).shape[0]\n",
    "\n",
    "        with numpyro.plate(site.n_response, self.n_response, dim=-1):\n",
    "            global_sigma_b = numpyro.sample(\"global_sigma_b\", dist.HalfNormal(100))\n",
    "            global_sigma_v = numpyro.sample(\"global_sigma_v\", dist.HalfNormal(100))\n",
    "\n",
    "            global_sigma_L = numpyro.sample(\"global_sigma_L\", dist.HalfNormal(1))\n",
    "            global_sigma_H = numpyro.sample(\"global_sigma_H\", dist.HalfNormal(5))\n",
    "\n",
    "            global_sigma_g_1 = numpyro.sample(\"global_sigma_g_1\", dist.HalfNormal(100))\n",
    "            global_sigma_g_2 = numpyro.sample(\"global_sigma_g_2\", dist.HalfNormal(100))\n",
    "\n",
    "            global_sigma_p = numpyro.sample(\"global_sigma_p\", dist.HalfNormal(100))\n",
    "\n",
    "            with numpyro.plate(\"n_feature0\", n_feature0, dim=-2):\n",
    "                \"\"\" Hyper-priors \"\"\"\n",
    "                mu_a = numpyro.sample(site.mu_a, dist.HalfNormal(scale=5))\n",
    "                sigma_a = numpyro.sample(site.sigma_a, dist.HalfNormal(scale=1))\n",
    "\n",
    "                sigma_b_raw = numpyro.sample(\"sigma_b_raw\", dist.HalfNormal(scale=1))\n",
    "                sigma_b = numpyro.deterministic(site.sigma_b, global_sigma_b * sigma_b_raw)\n",
    "\n",
    "                sigma_v_raw = numpyro.sample(\"sigma_v_raw\", dist.HalfNormal(scale=1))\n",
    "                sigma_v = numpyro.deterministic(site.sigma_v, global_sigma_v * sigma_v_raw)\n",
    "\n",
    "                sigma_L_raw = numpyro.sample(\"sigma_L_raw\", dist.HalfNormal(scale=1))\n",
    "                sigma_L = numpyro.deterministic(site.sigma_L, global_sigma_L * sigma_L_raw)\n",
    "\n",
    "                sigma_H_raw = numpyro.sample(\"sigma_H_raw\", dist.HalfNormal(scale=1))\n",
    "                sigma_H = numpyro.deterministic(site.sigma_H, global_sigma_H * sigma_H_raw)\n",
    "\n",
    "                sigma_g_1_raw = numpyro.sample(\"sigma_g_1_raw\", dist.HalfNormal(scale=1))\n",
    "                sigma_g_1 = numpyro.deterministic(\"sigma_g_1\", global_sigma_g_1 * sigma_g_1_raw)\n",
    "\n",
    "                sigma_g_2_raw = numpyro.sample(\"sigma_g_2_raw\", dist.HalfNormal(scale=1))\n",
    "                sigma_g_2 = numpyro.deterministic(\"sigma_g_2\", global_sigma_g_2 * sigma_g_2_raw)\n",
    "\n",
    "                sigma_p_raw = numpyro.sample(\"sigma_p_raw\", dist.HalfNormal(scale=1))\n",
    "                sigma_p = numpyro.deterministic(\"sigma_p\", global_sigma_p * sigma_p_raw)\n",
    "\n",
    "                with numpyro.plate(site.n_subject, n_subject, dim=-3):\n",
    "                    \"\"\" Priors \"\"\"\n",
    "                    a_raw = numpyro.sample(\"a_raw\", dist.Gamma(concentration=mu_a, rate=1))\n",
    "                    a = numpyro.deterministic(site.a, (1 / sigma_a) * a_raw)\n",
    "\n",
    "                    b_raw = numpyro.sample(\"b_raw\", dist.HalfNormal(scale=1))\n",
    "                    b = numpyro.deterministic(site.b, sigma_b * b_raw)\n",
    "\n",
    "                    v_raw = numpyro.sample(\"v_raw\", dist.HalfNormal(scale=1))\n",
    "                    v = numpyro.deterministic(site.v, sigma_v * v_raw)\n",
    "\n",
    "                    L_raw = numpyro.sample(\"L_raw\", dist.HalfNormal(scale=1))\n",
    "                    L = numpyro.deterministic(site.L, sigma_L * L_raw)\n",
    "\n",
    "                    H_raw = numpyro.sample(\"H_raw\", dist.HalfNormal(scale=1))\n",
    "                    H = numpyro.deterministic(site.H, sigma_H * H_raw)\n",
    "\n",
    "                    g_1_raw = numpyro.sample(\"g_1_raw\", dist.HalfCauchy(scale=1))\n",
    "                    g_1 = numpyro.deterministic(site.g_1, sigma_g_1 * g_1_raw)\n",
    "\n",
    "                    g_2_raw = numpyro.sample(\"g_2_raw\", dist.HalfCauchy(scale=1))\n",
    "                    g_2 = numpyro.deterministic(site.g_2, sigma_g_2 * g_2_raw)\n",
    "\n",
    "                    p_raw = numpyro.sample(\"p_raw\", dist.HalfNormal(scale=1))\n",
    "                    p = numpyro.deterministic(\"p\", sigma_p * p_raw)\n",
    "\n",
    "        \"\"\" Model \"\"\"\n",
    "        mu = numpyro.deterministic(\n",
    "            site.mu,\n",
    "            L[subject, feature0]\n",
    "            + (\n",
    "                H[subject, feature0]\n",
    "                / jnp.power(\n",
    "                    1 + v[subject, feature0] * jnp.exp(-b[subject, feature0] * (intensity - a[subject, feature0])),\n",
    "                    1 / v[subject, feature0]\n",
    "                )\n",
    "            )\n",
    "        )\n",
    "        sigma = numpyro.deterministic(\n",
    "            site.beta,\n",
    "            g_1[subject, feature0] + g_2[subject, feature0] * jnp.power(mu, p[subject, feature0])\n",
    "        )\n",
    "\n",
    "        mu_squared = numpyro.deterministic(\"mu_squared\", jnp.power(mu, 2))\n",
    "        sigma_squared = numpyro.deterministic(\"sigma_squared\", jnp.power(sigma, 2))\n",
    "\n",
    "        \"\"\" Observation \"\"\"\n",
    "        with numpyro.plate(site.data, n_data):\n",
    "            return numpyro.sample(\n",
    "                site.obs,\n",
    "                dist.LogNormal(\n",
    "                    loc=jnp.log(mu_squared / jnp.power(mu_squared + sigma_squared, 0.5)),\n",
    "                    scale=jnp.power(jnp.log(1 + (sigma_squared / mu_squared)), 0.5)\n",
    "                ).to_event(1),\n",
    "                obs=response_obs\n",
    "            )\n"
   ]
  },
  {
   "cell_type": "code",
   "execution_count": 3,
   "metadata": {},
   "outputs": [
    {
     "name": "stderr",
     "output_type": "stream",
     "text": [
      "2023-10-13 13:23:15,138 - hbmep.config - INFO - Verifying configuration ...\n",
      "2023-10-13 13:23:15,138 - hbmep.config - INFO - Success!\n",
      "2023-10-13 13:23:15,151 - hbmep.model.baseline - INFO - Initialized model with Logistic5 link\n"
     ]
    }
   ],
   "source": [
    "root_path = Path(os.getcwd()).parent.parent.parent.absolute()\n",
    "toml_path = os.path.join(root_path, \"configs/paper/tms/Logistic5.toml\")\n",
    "\n",
    "config = Config(toml_path=toml_path)\n",
    "# config.MCMC_PARAMS[\"num_warmup\"] = 40000\n",
    "# config.MCMC_PARAMS[\"num_samples\"] = 60000\n",
    "# config.MCMC_PARAMS[\"thinning\"] = 4\n",
    "\n",
    "model = Logistic5(config=config)\n"
   ]
  },
  {
   "cell_type": "code",
   "execution_count": 4,
   "metadata": {},
   "outputs": [
    {
     "name": "stderr",
     "output_type": "stream",
     "text": [
      "2023-10-13 13:23:15,190 - hbmep.dataset.core - INFO - Artefacts will be stored here - /home/vishu/repos/hbmep-paper/reports/paper/tms/Logistic5\n",
      "2023-10-13 13:23:15,190 - hbmep.dataset.core - INFO - Copied config to /home/vishu/repos/hbmep-paper/reports/paper/tms/Logistic5\n",
      "2023-10-13 13:23:15,191 - hbmep.dataset.core - INFO - Processing data ...\n",
      "2023-10-13 13:23:15,192 - hbmep.utils.utils - INFO - func:load took: 0.00 sec\n"
     ]
    }
   ],
   "source": [
    "src = \"/home/vishu/data/hbmep-processed/human/tms/data_pkpk_auc.csv\"\n",
    "df = pd.read_csv(src)\n",
    "\n",
    "model.mep_matrix_path = None\n",
    "subset = [\"SCA01\"]\n",
    "ind = df[model.subject].isin(subset)\n",
    "df = df[ind].reset_index(drop=True).copy()\n",
    "\n",
    "df, encoder_dict = model.load(df=df)\n"
   ]
  },
  {
   "cell_type": "code",
   "execution_count": 5,
   "metadata": {},
   "outputs": [
    {
     "name": "stderr",
     "output_type": "stream",
     "text": [
      "2023-10-13 13:23:15,227 - hbmep.model.baseline - INFO - Running inference with Logistic5 ...\n"
     ]
    },
    {
     "data": {
      "application/vnd.jupyter.widget-view+json": {
       "model_id": "4bff772eaaad4fcc87eb3ef748101f8f",
       "version_major": 2,
       "version_minor": 0
      },
      "text/plain": [
       "  0%|          | 0/3000 [00:00<?, ?it/s]"
      ]
     },
     "metadata": {},
     "output_type": "display_data"
    },
    {
     "data": {
      "application/vnd.jupyter.widget-view+json": {
       "model_id": "275a2fe84dba4375ad34233833b56c8e",
       "version_major": 2,
       "version_minor": 0
      },
      "text/plain": [
       "  0%|          | 0/3000 [00:00<?, ?it/s]"
      ]
     },
     "metadata": {},
     "output_type": "display_data"
    },
    {
     "data": {
      "application/vnd.jupyter.widget-view+json": {
       "model_id": "6b72b903d96d4094b02ce9bd382f0f95",
       "version_major": 2,
       "version_minor": 0
      },
      "text/plain": [
       "  0%|          | 0/3000 [00:00<?, ?it/s]"
      ]
     },
     "metadata": {},
     "output_type": "display_data"
    },
    {
     "data": {
      "application/vnd.jupyter.widget-view+json": {
       "model_id": "b930a02b06764d918c6d5555a856fa89",
       "version_major": 2,
       "version_minor": 0
      },
      "text/plain": [
       "  0%|          | 0/3000 [00:00<?, ?it/s]"
      ]
     },
     "metadata": {},
     "output_type": "display_data"
    },
    {
     "name": "stderr",
     "output_type": "stream",
     "text": [
      "2023-10-13 13:24:18,782 - hbmep.utils.utils - INFO - func:run_inference took: 1 min and 3.56 sec\n"
     ]
    }
   ],
   "source": [
    "mcmc, posterior_samples = model.run_inference(df=df)\n"
   ]
  },
  {
   "cell_type": "code",
   "execution_count": 12,
   "metadata": {},
   "outputs": [
    {
     "name": "stdout",
     "output_type": "stream",
     "text": [
      "\n",
      "                         mean       std    median      2.5%     97.5%     n_eff     r_hat\n",
      "       H_raw[0,0,0]      0.85      0.53      0.74      0.08      1.80      8.32      1.28\n",
      "       H_raw[0,0,1]      0.66      0.41      0.57      0.04      1.44     27.36      1.19\n",
      "       H_raw[0,0,2]      0.52      0.59      0.24      0.00      1.67      6.14      1.46\n",
      "       H_raw[0,0,3]      0.47      0.42      0.36      0.01      1.37      7.28      1.39\n",
      "       H_raw[0,0,4]      0.89      0.60      0.77      0.06      1.97     24.69      1.18\n",
      "       H_raw[0,0,5]      0.59      0.51      0.50      0.00      1.59     30.88      1.15\n",
      "       L_raw[0,0,0]      0.38      0.42      0.22      0.01      1.16     13.46      1.27\n",
      "       L_raw[0,0,1]      0.38      0.34      0.26      0.02      1.04     18.85      1.24\n",
      "       L_raw[0,0,2]      0.35      0.48      0.15      0.00      1.45     29.01      1.14\n",
      "       L_raw[0,0,3]      0.47      0.43      0.31      0.02      1.48     31.43      1.10\n",
      "       L_raw[0,0,4]      0.25      0.37      0.09      0.00      1.02     19.80      1.18\n",
      "       L_raw[0,0,5]      0.30      0.41      0.11      0.00      1.22     13.99      1.32\n",
      "       a_raw[0,0,0]      7.01      3.15      6.14      2.40     14.26     15.02      1.19\n",
      "       a_raw[0,0,1]      8.34      5.58      6.94      0.79     18.13      4.78      1.44\n",
      "       a_raw[0,0,2]      4.52      3.93      2.95      0.06     11.53     15.20      1.31\n",
      "       a_raw[0,0,3]      6.93      3.99      6.37      2.04     14.24     10.83      1.27\n",
      "       a_raw[0,0,4]      5.34      4.21      3.96      0.68     13.43      7.64      1.74\n",
      "       a_raw[0,0,5]      5.19      4.08      4.45      0.09     14.06      6.59      1.34\n",
      "       b_raw[0,0,0]      0.53      0.43      0.46      0.02      1.40     38.88      1.13\n",
      "       b_raw[0,0,1]      0.40      0.48      0.23      0.01      1.45     20.56      1.19\n",
      "       b_raw[0,0,2]      0.52      0.52      0.35      0.00      1.60     31.72      1.10\n",
      "       b_raw[0,0,3]      0.45      0.53      0.24      0.00      1.70     21.47      1.22\n",
      "       b_raw[0,0,4]      0.52      0.42      0.43      0.02      1.28     12.78      1.30\n",
      "       b_raw[0,0,5]      0.60      0.53      0.47      0.00      1.61     29.87      1.16\n",
      "     g_1_raw[0,0,0]      0.16      0.28      0.03      0.00      0.75      7.99      1.48\n",
      "     g_1_raw[0,0,1]      0.85      1.16      0.36      0.00      3.67     16.97      1.33\n",
      "     g_1_raw[0,0,2]      0.27      0.84      0.03      0.00      1.57     33.49      1.14\n",
      "     g_1_raw[0,0,3]      0.23      0.49      0.06      0.00      1.19     33.94      1.16\n",
      "     g_1_raw[0,0,4]      0.14      0.40      0.01      0.00      0.73     56.84      1.07\n",
      "     g_1_raw[0,0,5]      0.33      0.71      0.01      0.00      1.77      6.64      1.42\n",
      "     g_2_raw[0,0,0]      1.06      2.63      0.35      0.00      4.10     32.24      1.11\n",
      "     g_2_raw[0,0,1]      1.10      2.27      0.44      0.01      4.31     38.55      1.09\n",
      "     g_2_raw[0,0,2]      3.44      9.26      1.25      0.01     11.91     91.95      1.03\n",
      "     g_2_raw[0,0,3]      4.68     13.51      1.20      0.04     16.51     36.34      1.11\n",
      "     g_2_raw[0,0,4]      0.86      1.10      0.51      0.00      2.99     40.18      1.14\n",
      "     g_2_raw[0,0,5]      3.56      8.07      1.66      0.03      9.67     96.75      1.02\n",
      "  global_sigma_H[0]      3.50      2.97      2.64      0.28      9.79     18.28      1.33\n",
      "  global_sigma_H[1]      3.99      2.70      3.30      0.62      9.20     29.13      1.15\n",
      "  global_sigma_H[2]      2.31      2.54      1.30      0.00      7.44     17.14      1.19\n",
      "  global_sigma_H[3]      1.90      2.26      1.01      0.03      6.71     15.61      1.30\n",
      "  global_sigma_H[4]      2.02      2.50      0.69      0.02      7.54      5.44      1.51\n",
      "  global_sigma_H[5]      2.72      3.08      1.61      0.00      9.27      8.51      1.28\n",
      "  global_sigma_L[0]      0.48      0.44      0.34      0.00      1.35     30.97      1.12\n",
      "  global_sigma_L[1]      0.56      0.43      0.45      0.03      1.41     22.43      1.13\n",
      "  global_sigma_L[2]      0.41      0.39      0.30      0.01      1.24     28.80      1.14\n",
      "  global_sigma_L[3]      0.32      0.41      0.13      0.00      1.17     19.90      1.19\n",
      "  global_sigma_L[4]      0.57      0.47      0.50      0.00      1.47     23.82      1.19\n",
      "  global_sigma_L[5]      0.28      0.35      0.14      0.00      1.09     15.73      1.23\n",
      "  global_sigma_b[0]     38.52     38.37     28.12      0.59    116.61     35.48      1.10\n",
      "  global_sigma_b[1]     58.99     48.68     45.23      2.28    156.96     32.90      1.11\n",
      "  global_sigma_b[2]     60.91     59.48     38.50      0.79    180.08     13.99      1.21\n",
      "  global_sigma_b[3]     67.38     55.11     50.88      0.25    180.00     33.18      1.11\n",
      "  global_sigma_b[4]     66.47     52.77     47.90      3.32    168.47     25.01      1.20\n",
      "  global_sigma_b[5]     51.58     54.25     35.62      0.09    168.96      6.61      1.32\n",
      "global_sigma_g_1[0]     27.15     41.20      8.54      0.04    118.73     29.01      1.13\n",
      "global_sigma_g_1[1]     32.70     44.13     10.22      0.14    127.02     13.63      1.20\n",
      "global_sigma_g_1[2]     14.99     29.74      3.73      0.00     73.92     55.31      1.07\n",
      "global_sigma_g_1[3]     31.57     42.66     15.18      0.01    125.84     15.58      1.16\n",
      "global_sigma_g_1[4]     21.51     41.52      2.72      0.00    119.18     24.74      1.17\n",
      "global_sigma_g_1[5]     16.03     35.68      1.99      0.00     87.21     44.11      1.10\n",
      "global_sigma_g_2[0]     67.73     59.91     55.18      0.21    183.16      8.46      1.24\n",
      "global_sigma_g_2[1]     36.38     47.05     17.00      0.01    136.52     21.28      1.16\n",
      "global_sigma_g_2[2]     69.72     64.40     50.65      0.28    218.73     26.09      1.16\n",
      "global_sigma_g_2[3]     88.33     58.06     77.34      3.05    196.72     40.54      1.08\n",
      "global_sigma_g_2[4]     46.88     46.95     30.66      0.35    137.39     33.24      1.19\n",
      "global_sigma_g_2[5]     87.40     63.63     68.54      1.74    222.92     33.42      1.13\n",
      "  global_sigma_p[0]     77.57     67.38     66.25      1.00    206.47      3.70      1.59\n",
      "  global_sigma_p[1]    123.05     72.73    110.97     14.00    259.81     22.17      1.20\n",
      "  global_sigma_p[2]     97.56     50.98     87.14     12.04    198.87     42.39      1.11\n",
      "  global_sigma_p[3]     97.47     62.21     86.97      2.11    221.47     49.70      1.10\n",
      "  global_sigma_p[4]     56.58     52.34     38.75      0.78    157.45     47.64      1.06\n",
      "  global_sigma_p[5]     86.85     50.50     79.19     10.59    184.28     39.16      1.07\n",
      "  global_sigma_v[0]     63.74     56.26     46.81      2.66    170.80     39.10      1.10\n",
      "  global_sigma_v[1]     58.97     44.51     48.54      0.51    142.04     55.44      1.14\n",
      "  global_sigma_v[2]     81.75     60.77     61.73      6.95    205.76     44.53      1.05\n",
      "  global_sigma_v[3]     63.74     54.41     46.01      2.25    178.66     40.41      1.05\n",
      "  global_sigma_v[4]     73.89     50.43     65.92      3.84    174.55     19.33      1.18\n",
      "  global_sigma_v[5]     84.32     62.52     75.36      0.82    203.15      9.15      1.22\n",
      "       p_raw[0,0,0]      0.83      0.64      0.65      0.00      2.02      4.89      1.44\n",
      "       p_raw[0,0,1]      1.04      0.76      0.88      0.02      2.56     20.91      1.13\n",
      "       p_raw[0,0,2]      0.93      0.60      0.90      0.02      1.97     57.29      1.07\n",
      "       p_raw[0,0,3]      0.73      0.50      0.68      0.02      1.62     45.52      1.10\n",
      "       p_raw[0,0,4]      0.49      0.55      0.26      0.01      1.63     13.88      1.40\n",
      "       p_raw[0,0,5]      0.72      0.56      0.56      0.02      1.81     30.12      1.19\n",
      "   sigma_H_raw[0,0]      0.82      0.55      0.73      0.11      1.87     12.41      1.36\n",
      "   sigma_H_raw[0,1]      0.69      0.47      0.55      0.08      1.57     34.00      1.12\n",
      "   sigma_H_raw[0,2]      0.35      0.57      0.08      0.00      1.78      6.83      1.52\n",
      "   sigma_H_raw[0,3]      0.62      0.50      0.51      0.02      1.57     21.23      1.15\n",
      "   sigma_H_raw[0,4]      0.53      0.63      0.27      0.00      1.80      8.56      1.47\n",
      "   sigma_H_raw[0,5]      0.45      0.57      0.21      0.00      1.63      9.20      1.22\n",
      "   sigma_L_raw[0,0]      0.63      0.59      0.43      0.01      1.90     18.14      1.23\n",
      "   sigma_L_raw[0,1]      0.64      0.44      0.55      0.07      1.53     54.61      1.08\n",
      "   sigma_L_raw[0,2]      0.33      0.50      0.13      0.00      1.50      9.04      1.37\n",
      "   sigma_L_raw[0,3]      0.56      0.53      0.39      0.01      1.66     18.11      1.37\n",
      "   sigma_L_raw[0,4]      0.43      0.49      0.26      0.01      1.51     21.55      1.25\n",
      "   sigma_L_raw[0,5]      0.79      0.64      0.57      0.01      2.20     28.36      1.13\n",
      "   sigma_b_raw[0,0]      0.52      0.46      0.41      0.00      1.41     33.68      1.11\n",
      "   sigma_b_raw[0,1]      0.79      0.56      0.64      0.01      1.83     15.56      1.26\n",
      "   sigma_b_raw[0,2]      0.76      0.55      0.59      0.00      1.91     24.87      1.17\n",
      "   sigma_b_raw[0,3]      0.53      0.46      0.42      0.00      1.54     30.68      1.15\n",
      "   sigma_b_raw[0,4]      0.40      0.36      0.30      0.02      1.08      8.03      1.38\n",
      "   sigma_b_raw[0,5]      0.50      0.53      0.33      0.00      1.56     20.33      1.26\n",
      " sigma_g_1_raw[0,0]      0.42      0.48      0.27      0.00      1.43      9.84      1.28\n",
      " sigma_g_1_raw[0,1]      0.25      0.40      0.06      0.00      1.22     25.04      1.17\n",
      " sigma_g_1_raw[0,2]      0.12      0.23      0.04      0.00      0.46     99.09      1.04\n",
      " sigma_g_1_raw[0,3]      0.26      0.38      0.09      0.00      1.05     28.19      1.13\n",
      " sigma_g_1_raw[0,4]      0.18      0.34      0.03      0.00      0.99     43.96      1.06\n",
      " sigma_g_1_raw[0,5]      0.36      0.49      0.14      0.00      1.42      6.58      1.38\n",
      " sigma_g_2_raw[0,0]      0.60      0.53      0.44      0.01      1.69     22.04      1.14\n",
      " sigma_g_2_raw[0,1]      0.48      0.58      0.25      0.00      1.67     22.22      1.25\n",
      " sigma_g_2_raw[0,2]      0.61      0.47      0.54      0.00      1.49     29.46      1.16\n",
      " sigma_g_2_raw[0,3]      0.57      0.52      0.42      0.02      1.70     72.52      1.04\n",
      " sigma_g_2_raw[0,4]      0.30      0.39      0.15      0.00      1.15     10.57      1.22\n",
      " sigma_g_2_raw[0,5]      0.80      0.61      0.67      0.02      1.96     33.77      1.14\n",
      "   sigma_p_raw[0,0]      1.02      0.75      1.02      0.01      2.39      3.57      1.59\n",
      "   sigma_p_raw[0,1]      1.18      0.62      1.20      0.00      2.18     17.95      1.21\n",
      "   sigma_p_raw[0,2]      0.96      0.58      0.86      0.08      2.06     17.39      1.19\n",
      "   sigma_p_raw[0,3]      0.89      0.59      0.85      0.02      1.97     44.12      1.07\n",
      "   sigma_p_raw[0,4]      0.40      0.45      0.24      0.00      1.34     21.31      1.21\n",
      "   sigma_p_raw[0,5]      0.86      0.49      0.77      0.06      1.76     68.14      1.09\n",
      "   sigma_v_raw[0,0]      0.81      0.59      0.70      0.03      2.04     19.54      1.23\n",
      "   sigma_v_raw[0,1]      0.75      0.47      0.65      0.06      1.74     42.54      1.11\n",
      "   sigma_v_raw[0,2]      0.72      0.59      0.57      0.01      1.88     12.59      1.25\n",
      "   sigma_v_raw[0,3]      0.61      0.54      0.43      0.00      1.69     40.84      1.10\n",
      "   sigma_v_raw[0,4]      0.78      0.48      0.68      0.08      1.74     25.01      1.17\n",
      "   sigma_v_raw[0,5]      0.70      0.59      0.58      0.02      1.81     19.04      1.21\n",
      "       v_raw[0,0,0]      0.60      0.52      0.45      0.01      1.66     25.02      1.16\n",
      "       v_raw[0,0,1]      0.62      0.50      0.50      0.00      1.67     20.45      1.22\n",
      "       v_raw[0,0,2]      0.69      0.59      0.52      0.01      1.76     33.39      1.10\n",
      "       v_raw[0,0,3]      0.41      0.39      0.28      0.01      1.13     15.41      1.29\n",
      "       v_raw[0,0,4]      0.90      0.55      0.74      0.18      2.08     17.37      1.15\n",
      "       v_raw[0,0,5]      0.80      0.55      0.68      0.02      1.87     36.42      1.12\n",
      "           µ_a[0,0]      6.12      2.98      5.62      0.49     11.81     18.51      1.15\n",
      "           µ_a[0,1]      7.07      4.11      5.93      0.71     14.48      4.12      1.53\n",
      "           µ_a[0,2]      4.03      3.02      3.09      0.18     10.34     25.95      1.18\n",
      "           µ_a[0,3]      6.17      3.00      5.66      1.72     12.32     14.28      1.25\n",
      "           µ_a[0,4]      5.01      3.09      4.73      0.59     10.54      4.37      1.68\n",
      "           µ_a[0,5]      4.83      3.09      4.33      0.21     11.69      8.52      1.29\n",
      "           σ_a[0,0]      0.14      0.06      0.12      0.03      0.27     14.39      1.22\n",
      "           σ_a[0,1]      0.19      0.13      0.16      0.02      0.42      4.82      1.44\n",
      "           σ_a[0,2]      0.66      0.58      0.47      0.01      1.76      4.82      1.48\n",
      "           σ_a[0,3]      0.15      0.09      0.14      0.05      0.32     10.92      1.26\n",
      "           σ_a[0,4]      0.09      0.07      0.07      0.01      0.19      6.90      1.49\n",
      "           σ_a[0,5]      0.53      0.60      0.25      0.00      1.73      6.16      1.47\n",
      "\n",
      "Number of divergences: 3967\n"
     ]
    }
   ],
   "source": [
    "mcmc.print_summary(prob=.95)\n"
   ]
  },
  {
   "cell_type": "code",
   "execution_count": 13,
   "metadata": {},
   "outputs": [
    {
     "name": "stderr",
     "output_type": "stream",
     "text": [
      "2023-10-13 13:24:39,620 - hbmep.utils.utils - INFO - func:make_prediction_dataset took: 0.00 sec\n",
      "2023-10-13 13:24:40,057 - hbmep.utils.utils - INFO - func:predict took: 0.44 sec\n",
      "2023-10-13 13:24:40,064 - hbmep.model.baseline - INFO - Rendering ...\n",
      "2023-10-13 13:24:41,195 - hbmep.model.baseline - INFO - Saved to /home/vishu/repos/hbmep-paper/reports/paper/tms/Logistic5/recruitment_curves.pdf\n",
      "2023-10-13 13:24:41,196 - hbmep.utils.utils - INFO - func:render_recruitment_curves took: 1.14 sec\n",
      "2023-10-13 13:24:41,209 - hbmep.model.baseline - INFO - Rendering Posterior Predictive Check ...\n",
      "2023-10-13 13:24:42,423 - hbmep.model.baseline - INFO - Saved to /home/vishu/repos/hbmep-paper/reports/paper/tms/Logistic5/posterior_predictive_check.pdf\n",
      "2023-10-13 13:24:42,424 - hbmep.utils.utils - INFO - func:_render_predictive_check took: 1.23 sec\n",
      "2023-10-13 13:24:42,424 - hbmep.utils.utils - INFO - func:render_predictive_check took: 1.23 sec\n"
     ]
    }
   ],
   "source": [
    "prediction_df = model.make_prediction_dataset(df=df)\n",
    "posterior_predictive = model.predict(df=prediction_df, posterior_samples=posterior_samples)\n",
    "\n",
    "model.render_recruitment_curves(df=df, encoder_dict=encoder_dict, posterior_samples=posterior_samples, prediction_df=prediction_df, posterior_predictive=posterior_predictive)\n",
    "model.render_predictive_check(df=df, encoder_dict=encoder_dict, prediction_df=prediction_df, posterior_predictive=posterior_predictive)\n"
   ]
  },
  {
   "cell_type": "code",
   "execution_count": 14,
   "metadata": {},
   "outputs": [
    {
     "name": "stderr",
     "output_type": "stream",
     "text": [
      "2023-10-13 13:24:42,761 - __main__ - INFO - Evaluating model ...\n"
     ]
    }
   ],
   "source": [
    "numpyro_data = az.from_numpyro(mcmc)\n",
    "\n",
    "\"\"\" Model evaluation \"\"\"\n",
    "logger.info(\"Evaluating model ...\")\n"
   ]
  },
  {
   "cell_type": "code",
   "execution_count": 15,
   "metadata": {},
   "outputs": [
    {
     "name": "stderr",
     "output_type": "stream",
     "text": [
      "/home/vishu/repos/hbmep-paper/.venv/lib/python3.11/site-packages/arviz/stats/stats.py:803: UserWarning: Estimated shape parameter of Pareto distribution is greater than 0.7 for one or more samples. You should consider using a more robust model, this is because importance sampling is less likely to work well if the marginal posterior and LOO posterior are very different. This is more likely to happen with a non-robust model and highly influential observations.\n",
      "  warnings.warn(\n",
      "2023-10-13 13:24:43,985 - __main__ - INFO - ELPD LOO (Log): 1292.82\n"
     ]
    }
   ],
   "source": [
    "score = az.loo(numpyro_data)\n",
    "logger.info(f\"ELPD LOO (Log): {score.elpd_loo:.2f}\")"
   ]
  },
  {
   "cell_type": "code",
   "execution_count": 16,
   "metadata": {},
   "outputs": [
    {
     "name": "stderr",
     "output_type": "stream",
     "text": [
      "/home/vishu/repos/hbmep-paper/.venv/lib/python3.11/site-packages/arviz/stats/stats.py:1645: UserWarning: For one or more samples the posterior variance of the log predictive densities exceeds 0.4. This could be indication of WAIC starting to fail. \n",
      "See http://arxiv.org/abs/1507.04544 for details\n",
      "  warnings.warn(\n",
      "2023-10-13 13:24:44,073 - __main__ - INFO - ELPD WAIC (Log): 1294.48\n"
     ]
    }
   ],
   "source": [
    "score = az.waic(numpyro_data)\n",
    "logger.info(f\"ELPD WAIC (Log): {score.elpd_waic:.2f}\")"
   ]
  },
  {
   "cell_type": "code",
   "execution_count": null,
   "metadata": {},
   "outputs": [],
   "source": [
    "import pickle\n",
    "\n",
    "dest = os.path.join(model.build_dir, \"inference.pkl\")\n",
    "with open(dest, \"wb\") as f:\n",
    "    pickle.dump((model, mcmc, posterior_samples), f)\n"
   ]
  },
  {
   "cell_type": "code",
   "execution_count": null,
   "metadata": {},
   "outputs": [],
   "source": [
    "# import pickle\n",
    "\n",
    "# with open(dest, \"rb\") as g:\n",
    "#     model_, mcmc_, posterior_samples_ = pickle.load(g)\n"
   ]
  },
  {
   "cell_type": "code",
   "execution_count": null,
   "metadata": {},
   "outputs": [],
   "source": []
  }
 ],
 "metadata": {
  "kernelspec": {
   "display_name": "Python 3 (ipykernel)",
   "language": "python",
   "name": "python3"
  },
  "language_info": {
   "codemirror_mode": {
    "name": "ipython",
    "version": 3
   },
   "file_extension": ".py",
   "mimetype": "text/x-python",
   "name": "python",
   "nbconvert_exporter": "python",
   "pygments_lexer": "ipython3",
   "version": "3.11.4"
  },
  "orig_nbformat": 4
 },
 "nbformat": 4,
 "nbformat_minor": 2
}
