{
 "cells": [
  {
   "cell_type": "code",
   "execution_count": 1,
   "metadata": {},
   "outputs": [],
   "source": [
    "%reload_ext autoreload\n",
    "%autoreload 2\n",
    "\n",
    "import os\n",
    "import logging\n",
    "import multiprocessing\n",
    "from pathlib import Path\n",
    "from tqdm import tqdm\n",
    "\n",
    "import arviz as az\n",
    "import matplotlib\n",
    "import matplotlib.pyplot as plt\n",
    "from matplotlib.backends.backend_pdf import PdfPages\n",
    "import seaborn as sns\n",
    "\n",
    "import numpy as np\n",
    "import jax\n",
    "import jax.numpy as jnp\n",
    "import pandas as pd\n",
    "import scipy.stats as stats\n",
    "import numpyro\n",
    "from numpyro.diagnostics import hpdi\n",
    "\n",
    "from hbmep.config import Config\n",
    "# from hbmep_paper.simulator import HierarchicalBayesianModel\n",
    "from hbmep.model.utils import Site as site\n",
    "\n",
    "PLATFORM = \"cpu\"\n",
    "jax.config.update(\"jax_platforms\", PLATFORM)\n",
    "numpyro.set_platform(PLATFORM)\n",
    "\n",
    "cpu_count = multiprocessing.cpu_count() - 2\n",
    "numpyro.set_host_device_count(cpu_count)\n",
    "numpyro.enable_x64()\n",
    "numpyro.enable_validation()\n",
    "\n",
    "logger = logging.getLogger(__name__)"
   ]
  },
  {
   "cell_type": "code",
   "execution_count": null,
   "metadata": {},
   "outputs": [],
   "source": [
    "import numpyro.distributions as dist\n",
    "from hbmep.model import Baseline\n",
    "from hbmep_paper.utils.constants import HBM\n",
    "\n",
    "\n",
    "class HierarchicalBayesianModel(Baseline):\n",
    "    LINK = HBM\n",
    "\n",
    "    def __init__(self, config: Config):\n",
    "        super(HierarchicalBayesianModel, self).__init__(config=config)\n",
    "        self.combination_columns = self.features + [self.subject]\n",
    "\n",
    "    def _model(self, subject, features, intensity, response_obs=None):\n",
    "        intensity = intensity.reshape(-1, 1)\n",
    "        intensity = np.tile(intensity, (1, self.n_response))\n",
    "\n",
    "        feature0 = features[0].reshape(-1,)\n",
    "\n",
    "        n_data = intensity.shape[0]\n",
    "        n_subject = np.unique(subject).shape[0]\n",
    "        n_feature0 = np.unique(feature0).shape[0]\n",
    "\n",
    "        global_sigma_a = numpyro.sample(\"global_sigma_a\", dist.HalfNormal(50))\n",
    "\n",
    "        global_sigma_b = numpyro.sample(\"global_sigma_b\", dist.HalfNormal(100))\n",
    "        global_sigma_v = numpyro.sample(\"global_sigma_v\", dist.HalfNormal(100))\n",
    "\n",
    "        global_sigma_L = numpyro.sample(\"global_sigma_L\", dist.HalfNormal(1))\n",
    "        global_sigma_H = numpyro.sample(\"global_sigma_H\", dist.HalfNormal(5))\n",
    "\n",
    "        global_sigma_g_1 = numpyro.sample(\"global_sigma_g_1\", dist.HalfNormal(10))\n",
    "        global_sigma_g_2 = numpyro.sample(\"global_sigma_g_2\", dist.HalfNormal(10))\n",
    "\n",
    "        with numpyro.plate(site.n_response, self.n_response, dim=-1):\n",
    "            with numpyro.plate(\"n_feature0\", n_feature0, dim=-2):\n",
    "                \"\"\" Hyper-priors \"\"\"\n",
    "                mu_a = numpyro.sample(\n",
    "                    site.mu_a,\n",
    "                    dist.TruncatedNormal(20, 50, low=0)\n",
    "                )\n",
    "\n",
    "                sigma_a_raw = numpyro.sample(\"sigma_a_raw\", dist.HalfNormal(scale=1))\n",
    "                sigma_a = numpyro.deterministic(site.sigma_a, global_sigma_a * sigma_a_raw)\n",
    "\n",
    "                sigma_b_raw = numpyro.sample(\"sigma_b_raw\", dist.HalfNormal(scale=1))\n",
    "                sigma_b = numpyro.deterministic(site.sigma_b, global_sigma_b * sigma_b_raw)\n",
    "\n",
    "                sigma_v_raw = numpyro.sample(\"sigma_v_raw\", dist.HalfNormal(scale=1))\n",
    "                sigma_v = numpyro.deterministic(site.sigma_v, global_sigma_v * sigma_v_raw)\n",
    "\n",
    "                sigma_L_raw = numpyro.sample(\"sigma_L_raw\", dist.HalfNormal(scale=1))\n",
    "                sigma_L = numpyro.deterministic(site.sigma_L, global_sigma_L * sigma_L_raw)\n",
    "\n",
    "                sigma_H_raw = numpyro.sample(\"sigma_H_raw\", dist.HalfNormal(scale=1))\n",
    "                sigma_H = numpyro.deterministic(site.sigma_H, global_sigma_H * sigma_H_raw)\n",
    "\n",
    "                sigma_g_1_raw = numpyro.sample(\"sigma_g_1_raw\", dist.Exponential(rate=1))\n",
    "                sigma_g_1 = numpyro.deterministic(\"sigma_g_1\", (1 / global_sigma_g_1) * sigma_g_1_raw)\n",
    "\n",
    "                sigma_g_2_raw = numpyro.sample(\"sigma_g_2_raw\", dist.Exponential(rate=1))\n",
    "                sigma_g_2 = numpyro.deterministic(\"sigma_g_2\", (1 / global_sigma_g_2) * sigma_g_2_raw)\n",
    "\n",
    "                with numpyro.plate(site.n_subject, n_subject, dim=-3):\n",
    "                    \"\"\" Priors \"\"\"\n",
    "                    a = numpyro.sample(\n",
    "                        site.a,\n",
    "                        dist.TruncatedNormal(mu_a, sigma_a, low=0)\n",
    "                    )\n",
    "\n",
    "                    b_raw = numpyro.sample(\"b_raw\", dist.HalfNormal(scale=1))\n",
    "                    b = numpyro.deterministic(site.b, sigma_b * b_raw)\n",
    "\n",
    "                    v_raw = numpyro.sample(\"v_raw\", dist.HalfNormal(scale=1))\n",
    "                    v = numpyro.deterministic(site.v, sigma_v * v_raw)\n",
    "\n",
    "                    L_raw = numpyro.sample(\"L_raw\", dist.HalfNormal(scale=1))\n",
    "                    L = numpyro.deterministic(site.L, sigma_L * L_raw)\n",
    "\n",
    "                    H_raw = numpyro.sample(\"H_raw\", dist.HalfNormal(scale=1))\n",
    "                    H = numpyro.deterministic(site.H, sigma_H * H_raw)\n",
    "\n",
    "                    g_1_raw = numpyro.sample(\"g_1_raw\", dist.Exponential(rate=1))\n",
    "                    g_1 = numpyro.deterministic(site.g_1, (1 / sigma_g_1) * g_1_raw)\n",
    "\n",
    "                    g_2_raw = numpyro.sample(\"g_2_raw\", dist.Exponential(rate=1))\n",
    "                    g_2 = numpyro.deterministic(site.g_2, (1 / sigma_g_2) * g_2_raw)\n",
    "\n",
    "        \"\"\" Model \"\"\"\n",
    "        mu = numpyro.deterministic(\n",
    "            site.mu,\n",
    "            L[subject, feature0]\n",
    "            + jnp.maximum(\n",
    "                0,\n",
    "                -1\n",
    "                + (H[subject, feature0] + 1)\n",
    "                / jnp.power(\n",
    "                    1\n",
    "                    + (jnp.power(1 + H[subject, feature0], v[subject, feature0]) - 1)\n",
    "                    * jnp.exp(-b[subject, feature0] * (intensity - a[subject, feature0])),\n",
    "                    1 / v[subject, feature0]\n",
    "                )\n",
    "            )\n",
    "        )\n",
    "        beta = numpyro.deterministic(\n",
    "            site.beta,\n",
    "            g_1[subject, feature0] + g_2[subject, feature0] * (1 / mu)\n",
    "        )\n",
    "\n",
    "        \"\"\" Observation \"\"\"\n",
    "        with numpyro.plate(site.data, n_data):\n",
    "            return numpyro.sample(\n",
    "                site.obs,\n",
    "                dist.Gamma(concentration=mu * beta, rate=beta).to_event(1),\n",
    "                obs=response_obs\n",
    "            )"
   ]
  },
  {
   "cell_type": "code",
   "execution_count": 3,
   "metadata": {},
   "outputs": [
    {
     "name": "stderr",
     "output_type": "stream",
     "text": [
      "2023-10-02 12:02:50,936 - hbmep.config - INFO - Verifying configuration ...\n",
      "2023-10-02 12:02:50,936 - hbmep.config - INFO - Success!\n",
      "2023-10-02 12:02:50,950 - hbmep.model.baseline - INFO - Initialized model with hierarchical_bayesian link\n"
     ]
    }
   ],
   "source": [
    "root_path = Path(os.getcwd()).parent.parent.parent.absolute()\n",
    "toml_path = os.path.join(root_path, \"configs/paper/tms/mixed-effects.toml\")\n",
    "\n",
    "config = Config(toml_path=toml_path)\n",
    "\n",
    "model = HierarchicalBayesianModel(config=config)\n"
   ]
  },
  {
   "cell_type": "code",
   "execution_count": 4,
   "metadata": {},
   "outputs": [
    {
     "name": "stderr",
     "output_type": "stream",
     "text": [
      "2023-10-02 12:02:51,066 - hbmep.dataset.core - INFO - Artefacts will be stored here - /home/vishu/repos/hbmep-paper/reports/human/tms/fit/mixed-effects\n",
      "2023-10-02 12:02:51,067 - hbmep.dataset.core - INFO - Copied config to /home/vishu/repos/hbmep-paper/reports/human/tms/fit/mixed-effects\n",
      "2023-10-02 12:02:51,067 - hbmep.dataset.core - INFO - Processing data ...\n",
      "2023-10-02 12:02:51,069 - hbmep.utils.utils - INFO - func:load took: 0.00 sec\n"
     ]
    }
   ],
   "source": [
    "src = \"/home/vishu/data/hbmep-processed/human/tms/data.csv\"\n",
    "df = pd.read_csv(src)\n",
    "\n",
    "# subset = [\"SCA01\"]\n",
    "# ind = df[model.subject].isin(subset)\n",
    "# df = df[ind].reset_index(drop=True).copy()\n",
    "\n",
    "df[model.features[0]] = 0\n",
    "\n",
    "df[model.response] = df[model.response] * 1000\n",
    "\n",
    "df, encoder_dict = model.load(df=df)\n"
   ]
  },
  {
   "cell_type": "code",
   "execution_count": 5,
   "metadata": {},
   "outputs": [
    {
     "name": "stderr",
     "output_type": "stream",
     "text": [
      "2023-10-02 12:02:51,341 - hbmep.model.baseline - INFO - Running inference with hierarchical_bayesian ...\n"
     ]
    },
    {
     "data": {
      "application/vnd.jupyter.widget-view+json": {
       "model_id": "38266ef2302d46e69bb35905f1ac06f2",
       "version_major": 2,
       "version_minor": 0
      },
      "text/plain": [
       "  0%|          | 0/1500 [00:00<?, ?it/s]"
      ]
     },
     "metadata": {},
     "output_type": "display_data"
    },
    {
     "data": {
      "application/vnd.jupyter.widget-view+json": {
       "model_id": "bee22b43964a416a89957bb8038db34c",
       "version_major": 2,
       "version_minor": 0
      },
      "text/plain": [
       "  0%|          | 0/1500 [00:00<?, ?it/s]"
      ]
     },
     "metadata": {},
     "output_type": "display_data"
    },
    {
     "data": {
      "application/vnd.jupyter.widget-view+json": {
       "model_id": "3863ac1c050840a882c88f66129de68f",
       "version_major": 2,
       "version_minor": 0
      },
      "text/plain": [
       "  0%|          | 0/1500 [00:00<?, ?it/s]"
      ]
     },
     "metadata": {},
     "output_type": "display_data"
    },
    {
     "data": {
      "application/vnd.jupyter.widget-view+json": {
       "model_id": "82a5b4c7bcdf47d4b0735bde31337c71",
       "version_major": 2,
       "version_minor": 0
      },
      "text/plain": [
       "  0%|          | 0/1500 [00:00<?, ?it/s]"
      ]
     },
     "metadata": {},
     "output_type": "display_data"
    },
    {
     "name": "stderr",
     "output_type": "stream",
     "text": [
      "2023-10-02 12:03:22,148 - hbmep.utils.utils - INFO - func:run_inference took: 30.81 sec\n"
     ]
    }
   ],
   "source": [
    "mcmc, posterior_samples = model.run_inference(df=df)\n"
   ]
  },
  {
   "cell_type": "code",
   "execution_count": 6,
   "metadata": {},
   "outputs": [
    {
     "name": "stdout",
     "output_type": "stream",
     "text": [
      "\n",
      "                                 mean       std    median      2.5%     97.5%     n_eff     r_hat\n",
      "          H_baseline[0,0,0]   1126.20     93.40   1121.66    945.48   1306.01    627.00      1.00\n",
      "          H_baseline[1,0,0]   1358.10   1228.92   1052.25      0.00   3678.53    665.77      1.01\n",
      "          H_baseline[2,0,0]   1208.59     87.39   1205.76   1043.81   1387.03    988.68      1.00\n",
      "          H_baseline[3,0,0]    570.45    100.82    556.69    385.41    772.62    678.44      1.00\n",
      "          H_baseline[4,0,0]   3085.92    314.38   3060.13   2541.06   3745.68    423.65      1.01\n",
      "          H_baseline[5,0,0]   4564.03    559.74   4526.56   3478.27   5689.11    882.79      1.01\n",
      "          H_baseline[6,0,0]    435.20    113.57    411.14    269.05    654.40    747.46      1.00\n",
      "          H_baseline[7,0,0]    424.92    207.69    378.03    213.65    771.11    209.46      1.02\n",
      "          L_baseline[0,0,0]      6.84      0.48      6.84      5.80      7.73    887.11      1.00\n",
      "          L_baseline[1,0,0]      5.76      0.12      5.77      5.54      6.00    616.73      1.01\n",
      "          L_baseline[2,0,0]      9.05      6.74      7.84      0.00     21.71    963.87      1.01\n",
      "          L_baseline[3,0,0]      6.99      0.77      6.95      5.57      8.53    762.91      1.00\n",
      "          L_baseline[4,0,0]      6.53      3.51      6.89      0.00     11.62    341.11      1.01\n",
      "          L_baseline[5,0,0]     10.25      2.36     10.33      5.06     15.33    446.19      1.01\n",
      "          L_baseline[6,0,0]     10.22      8.48      8.12      0.03     27.98    798.63      1.00\n",
      "          L_baseline[7,0,0]     19.31      7.96     17.67      8.61     35.29    801.26      1.01\n",
      "          a_baseline[0,0,0]     33.03      0.43     32.99     32.26     33.97    835.54      1.00\n",
      "          a_baseline[1,0,0]     35.00     16.02     30.74     14.15     74.83     48.50      1.12\n",
      "          a_baseline[2,0,0]     27.49      1.02     27.52     25.32     29.57    749.50      1.01\n",
      "          a_baseline[3,0,0]     33.70      1.01     33.78     31.74     35.48    774.58      1.01\n",
      "          a_baseline[4,0,0]     25.90      1.05     25.77     24.24     28.05    363.87      1.01\n",
      "          a_baseline[5,0,0]     27.21      1.32     27.48     24.36     29.26    329.98      1.01\n",
      "          a_baseline[6,0,0]     28.56      4.71     28.91     19.01     36.99    501.77      1.00\n",
      "          a_baseline[7,0,0]     25.52      6.91     27.03      9.14     36.31    103.33      1.05\n",
      "          b_baseline[0,0,0]      0.30      0.05      0.30      0.22      0.39    375.80      1.00\n",
      "          b_baseline[1,0,0]      0.02      0.06      0.00      0.00      0.13     83.61      1.08\n",
      "          b_baseline[2,0,0]      0.23      0.04      0.23      0.17      0.32    754.99      1.01\n",
      "          b_baseline[3,0,0]      0.16      0.04      0.16      0.10      0.23    579.29      1.00\n",
      "          b_baseline[4,0,0]      0.21      0.04      0.20      0.14      0.28    292.21      1.01\n",
      "          b_baseline[5,0,0]      0.16      0.02      0.16      0.12      0.21    533.65      1.01\n",
      "          b_baseline[6,0,0]      0.07      0.02      0.07      0.04      0.11    485.06      1.00\n",
      "          b_baseline[7,0,0]      0.12      0.07      0.10      0.03      0.24    302.50      1.01\n",
      "        g_1_baseline[0,0,0]      0.00      0.00      0.00      0.00      0.01   1044.44      1.00\n",
      "        g_1_baseline[1,0,0]      0.01      0.01      0.00      0.00      0.02   1981.08      1.00\n",
      "        g_1_baseline[2,0,0]      0.01      0.00      0.01      0.00      0.01    939.57      1.00\n",
      "        g_1_baseline[3,0,0]      0.01      0.00      0.01      0.00      0.01   1071.48      1.00\n",
      "        g_1_baseline[4,0,0]      0.00      0.00      0.00      0.00      0.00    701.72      1.00\n",
      "        g_1_baseline[5,0,0]      0.00      0.00      0.00      0.00      0.00    972.76      1.00\n",
      "        g_1_baseline[6,0,0]      0.01      0.00      0.01      0.00      0.01    921.19      1.00\n",
      "        g_1_baseline[7,0,0]      0.00      0.00      0.00      0.00      0.00    627.19      1.00\n",
      "        g_2_baseline[0,0,0]    104.62     35.44    100.77     42.68    176.72    973.66      1.00\n",
      "        g_2_baseline[1,0,0]    338.67     56.74    334.90    230.10    451.01   1149.01      1.00\n",
      "        g_2_baseline[2,0,0]     44.27     20.67     40.67      9.95     83.45   1281.79      1.00\n",
      "        g_2_baseline[3,0,0]     47.96     13.33     47.39     24.06     74.36   1170.59      1.00\n",
      "        g_2_baseline[4,0,0]     64.18     25.65     61.18     18.13    114.30    750.82      1.00\n",
      "        g_2_baseline[5,0,0]     54.85     17.95     52.88     23.22     91.43    634.77      1.00\n",
      "        g_2_baseline[6,0,0]    201.53     94.46    192.01     20.44    377.52    721.35      1.01\n",
      "        g_2_baseline[7,0,0]     72.55     34.40     67.89     11.96    143.77    554.32      1.00\n",
      "    global_sigma_H_baseline   1014.03    276.35    988.60    504.64   1538.47   1077.88      1.00\n",
      "    global_sigma_L_baseline     31.40     22.98     24.43      3.70     79.26   1065.63      1.00\n",
      "    global_sigma_b_baseline     20.33     36.19      4.38      0.05     99.16   1334.09      1.00\n",
      "  global_sigma_g_1_baseline    139.13     53.96    132.82     39.68    238.76   1336.17      1.00\n",
      "  global_sigma_g_2_baseline     12.33     28.31      0.94      0.00     71.92   1992.98      1.00\n",
      "    global_sigma_v_baseline     17.60     33.75      2.97      0.01     90.93   1906.87      1.00\n",
      "         mu_a_baseline[0,0]     28.34      4.55     29.11     15.33     35.72     69.76      1.06\n",
      "      sigma_H_baseline[0,0]   1926.26    445.89   1866.80   1187.82   2851.02    743.99      1.01\n",
      "      sigma_L_baseline[0,0]     12.65      5.31     11.49      5.23     22.03    820.80      1.00\n",
      "      sigma_a_baseline[0,0]      8.03      8.47      5.01      1.63     27.21     44.54      1.11\n",
      "      sigma_b_baseline[0,0]      0.22      0.07      0.20      0.11      0.36    585.02      1.00\n",
      "    sigma_g_1_baseline[0,0]    177.84     66.15    167.58     64.66    312.02   1208.90      1.00\n",
      "    sigma_g_2_baseline[0,0]      0.01      0.00      0.01      0.00      0.02   1378.33      1.00\n",
      "      sigma_v_baseline[0,0]      0.10      0.11      0.07      0.00      0.29    360.50      1.00\n",
      "          v_baseline[0,0,0]      0.06      0.05      0.04      0.01      0.16    561.44      1.01\n",
      "          v_baseline[1,0,0]      0.10      0.15      0.05      0.00      0.34    628.09      1.00\n",
      "          v_baseline[2,0,0]      0.06      0.07      0.04      0.00      0.20    622.80      1.00\n",
      "          v_baseline[3,0,0]      0.09      0.13      0.05      0.00      0.33    418.13      1.00\n",
      "          v_baseline[4,0,0]      0.05      0.06      0.03      0.00      0.17    656.87      1.00\n",
      "          v_baseline[5,0,0]      0.06      0.07      0.03      0.00      0.20    286.31      1.00\n",
      "          v_baseline[6,0,0]      0.08      0.10      0.04      0.00      0.28    420.81      1.00\n",
      "          v_baseline[7,0,0]      0.07      0.09      0.04      0.00      0.23    628.37      1.00\n",
      "\n",
      "Number of divergences: 1967\n"
     ]
    }
   ],
   "source": [
    "mcmc.print_summary(prob=.95)"
   ]
  },
  {
   "cell_type": "code",
   "execution_count": 7,
   "metadata": {},
   "outputs": [
    {
     "name": "stderr",
     "output_type": "stream",
     "text": [
      "2023-10-02 12:03:27,873 - hbmep.utils.utils - INFO - func:make_prediction_dataset took: 0.00 sec\n"
     ]
    },
    {
     "name": "stderr",
     "output_type": "stream",
     "text": [
      "2023-10-02 12:03:29,464 - hbmep.utils.utils - INFO - func:predict took: 1.59 sec\n",
      "2023-10-02 12:03:29,470 - hbmep.model.baseline - INFO - Rendering ...\n",
      "2023-10-02 12:03:30,897 - hbmep.model.baseline - INFO - Saved to /home/vishu/repos/hbmep-paper/reports/human/tms/fit/mixed-effects/recruitment_curves.pdf\n",
      "2023-10-02 12:03:30,898 - hbmep.utils.utils - INFO - func:render_recruitment_curves took: 1.43 sec\n",
      "2023-10-02 12:03:30,906 - hbmep.model.baseline - INFO - Rendering Posterior Predictive Check ...\n",
      "2023-10-02 12:03:32,432 - hbmep.model.baseline - INFO - Saved to /home/vishu/repos/hbmep-paper/reports/human/tms/fit/mixed-effects/posterior_predictive_check.pdf\n",
      "2023-10-02 12:03:32,433 - hbmep.utils.utils - INFO - func:_render_predictive_check took: 1.53 sec\n",
      "2023-10-02 12:03:32,433 - hbmep.utils.utils - INFO - func:render_predictive_check took: 1.54 sec\n"
     ]
    }
   ],
   "source": [
    "prediction_df = model.make_prediction_dataset(df=df)\n",
    "\n",
    "posterior_predictive = model.predict(df=prediction_df, posterior_samples=posterior_samples)\n",
    "\n",
    "model.render_recruitment_curves(df=df, encoder_dict=encoder_dict, posterior_samples=posterior_samples, prediction_df=prediction_df, posterior_predictive=posterior_predictive)\n",
    "\n",
    "model.render_predictive_check(df=df, encoder_dict=encoder_dict, prediction_df=prediction_df, posterior_predictive=posterior_predictive)\n"
   ]
  },
  {
   "cell_type": "code",
   "execution_count": 8,
   "metadata": {},
   "outputs": [],
   "source": [
    "import pickle\n",
    "\n",
    "dest = os.path.join(model.build_dir, \"inference.pkl\")\n",
    "with open(dest, \"wb\") as f:\n",
    "    pickle.dump((model, mcmc, posterior_samples), f)"
   ]
  },
  {
   "cell_type": "code",
   "execution_count": 9,
   "metadata": {},
   "outputs": [],
   "source": [
    "import pickle\n",
    "\n",
    "with open(dest, \"rb\") as g:\n",
    "    model_, mcmc_, posterior_samples_ = pickle.load(g)\n"
   ]
  },
  {
   "cell_type": "code",
   "execution_count": null,
   "metadata": {},
   "outputs": [],
   "source": []
  }
 ],
 "metadata": {
  "kernelspec": {
   "display_name": "Python 3 (ipykernel)",
   "language": "python",
   "name": "python3"
  },
  "orig_nbformat": 4
 },
 "nbformat": 4,
 "nbformat_minor": 2
}
