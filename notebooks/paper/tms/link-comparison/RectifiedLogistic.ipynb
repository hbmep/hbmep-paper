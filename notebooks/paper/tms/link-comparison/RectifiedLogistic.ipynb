{
 "cells": [
  {
   "cell_type": "code",
   "execution_count": 1,
   "metadata": {},
   "outputs": [],
   "source": [
    "%reload_ext autoreload\n",
    "%autoreload 2\n",
    "\n",
    "import os\n",
    "import pickle\n",
    "import logging\n",
    "import multiprocessing\n",
    "from pathlib import Path\n",
    "\n",
    "import pandas as pd\n",
    "import numpy as np\n",
    "import jax\n",
    "import jax.numpy as jnp\n",
    "\n",
    "import arviz as az\n",
    "import numpyro\n",
    "\n",
    "from hbmep.config import Config\n",
    "from hbmep.model.utils import Site as site\n",
    "\n",
    "PLATFORM = \"cpu\"\n",
    "jax.config.update(\"jax_platforms\", PLATFORM)\n",
    "numpyro.set_platform(PLATFORM)\n",
    "\n",
    "cpu_count = multiprocessing.cpu_count() - 2\n",
    "numpyro.set_host_device_count(cpu_count)\n",
    "numpyro.enable_x64()\n",
    "numpyro.enable_validation()\n",
    "\n",
    "logger = logging.getLogger(__name__)"
   ]
  },
  {
   "cell_type": "code",
   "execution_count": 2,
   "metadata": {},
   "outputs": [],
   "source": [
    "import numpyro.distributions as dist\n",
    "from hbmep.model import Baseline\n",
    "\n",
    "class RectifiedLogistic(Baseline):\n",
    "    LINK = \"RectifiedLogistic\"\n",
    "\n",
    "    def __init__(self, config: Config):\n",
    "        super(RectifiedLogistic, self).__init__(config=config)\n",
    "        self.combination_columns = self.features + [self.subject]\n",
    "\n",
    "    def _model(self, subject, features, intensity, response_obs=None):\n",
    "        subject, n_subject = subject\n",
    "        features, n_features = features\n",
    "        intensity, n_data = intensity\n",
    "\n",
    "        intensity = intensity.reshape(-1, 1)\n",
    "        intensity = np.tile(intensity, (1, self.n_response))\n",
    "\n",
    "        feature0 = features[0].reshape(-1,)\n",
    "        n_feature0 = n_features[0]\n",
    "\n",
    "        with numpyro.plate(site.n_response, self.n_response, dim=-1):\n",
    "            global_sigma_b = numpyro.sample(\"global_sigma_b\", dist.HalfNormal(100))\n",
    "            global_sigma_v = numpyro.sample(\"global_sigma_v\", dist.HalfNormal(100))\n",
    "\n",
    "            global_sigma_L = numpyro.sample(\"global_sigma_L\", dist.HalfNormal(1))\n",
    "            global_sigma_l = numpyro.sample(\"global_sigma_l\", dist.HalfNormal(100))\n",
    "            global_sigma_H = numpyro.sample(\"global_sigma_H\", dist.HalfNormal(5))\n",
    "\n",
    "            global_sigma_g_1 = numpyro.sample(\"global_sigma_g_1\", dist.HalfNormal(100))\n",
    "            global_sigma_g_2 = numpyro.sample(\"global_sigma_g_2\", dist.HalfNormal(100))\n",
    "\n",
    "            global_sigma_p = numpyro.sample(\"global_sigma_p\", dist.HalfNormal(100))\n",
    "\n",
    "            with numpyro.plate(\"n_feature0\", n_feature0, dim=-2):\n",
    "                \"\"\" Hyper-priors \"\"\"\n",
    "                mu_a = numpyro.sample(site.mu_a, dist.HalfNormal(scale=5))\n",
    "                sigma_a = numpyro.sample(site.sigma_a, dist.HalfNormal(scale=1))\n",
    "\n",
    "                sigma_b_raw = numpyro.sample(\"sigma_b_raw\", dist.HalfNormal(scale=1))\n",
    "                sigma_b = numpyro.deterministic(site.sigma_b, global_sigma_b * sigma_b_raw)\n",
    "\n",
    "                sigma_v_raw = numpyro.sample(\"sigma_v_raw\", dist.HalfNormal(scale=1))\n",
    "                sigma_v = numpyro.deterministic(site.sigma_v, global_sigma_v * sigma_v_raw)\n",
    "\n",
    "                sigma_L_raw = numpyro.sample(\"sigma_L_raw\", dist.HalfNormal(scale=1))\n",
    "                sigma_L = numpyro.deterministic(site.sigma_L, global_sigma_L * sigma_L_raw)\n",
    "\n",
    "                sigma_l_raw = numpyro.sample(\"sigma_l_raw\", dist.HalfNormal(scale=1))\n",
    "                sigma_l = numpyro.deterministic(\"sigma_l\", global_sigma_l * sigma_l_raw)\n",
    "\n",
    "                sigma_H_raw = numpyro.sample(\"sigma_H_raw\", dist.HalfNormal(scale=1))\n",
    "                sigma_H = numpyro.deterministic(site.sigma_H, global_sigma_H * sigma_H_raw)\n",
    "\n",
    "                sigma_g_1_raw = numpyro.sample(\"sigma_g_1_raw\", dist.HalfNormal(scale=1))\n",
    "                sigma_g_1 = numpyro.deterministic(\"sigma_g_1\", global_sigma_g_1 * sigma_g_1_raw)\n",
    "\n",
    "                sigma_g_2_raw = numpyro.sample(\"sigma_g_2_raw\", dist.HalfNormal(scale=1))\n",
    "                sigma_g_2 = numpyro.deterministic(\"sigma_g_2\", global_sigma_g_2 * sigma_g_2_raw)\n",
    "\n",
    "                sigma_p_raw = numpyro.sample(\"sigma_p_raw\", dist.HalfNormal(scale=1))\n",
    "                sigma_p = numpyro.deterministic(\"sigma_p\", global_sigma_p * sigma_p_raw)\n",
    "\n",
    "                with numpyro.plate(site.n_subject, n_subject, dim=-3):\n",
    "                    \"\"\" Priors \"\"\"\n",
    "                    a_raw = numpyro.sample(\"a_raw\", dist.Gamma(concentration=mu_a, rate=1))\n",
    "                    a = numpyro.deterministic(site.a, (1 / sigma_a) * a_raw)\n",
    "\n",
    "                    b_raw = numpyro.sample(\"b_raw\", dist.HalfNormal(scale=1))\n",
    "                    b = numpyro.deterministic(site.b, sigma_b * b_raw)\n",
    "\n",
    "                    v_raw = numpyro.sample(\"v_raw\", dist.HalfNormal(scale=1))\n",
    "                    v = numpyro.deterministic(site.v, sigma_v * v_raw)\n",
    "\n",
    "                    L_raw = numpyro.sample(\"L_raw\", dist.HalfNormal(scale=1))\n",
    "                    L = numpyro.deterministic(site.L, sigma_L * L_raw)\n",
    "\n",
    "                    l_raw = numpyro.sample(\"l_raw\", dist.HalfNormal(scale=1))\n",
    "                    l = numpyro.deterministic(\"l\", sigma_l * l_raw)\n",
    "\n",
    "                    H_raw = numpyro.sample(\"H_raw\", dist.HalfNormal(scale=1))\n",
    "                    H = numpyro.deterministic(site.H, sigma_H * H_raw)\n",
    "\n",
    "                    g_1_raw = numpyro.sample(\"g_1_raw\", dist.HalfCauchy(scale=1))\n",
    "                    g_1 = numpyro.deterministic(site.g_1, sigma_g_1 * g_1_raw)\n",
    "\n",
    "                    g_2_raw = numpyro.sample(\"g_2_raw\", dist.HalfCauchy(scale=1))\n",
    "                    g_2 = numpyro.deterministic(site.g_2, sigma_g_2 * g_2_raw)\n",
    "\n",
    "                    p_raw = numpyro.sample(\"p_raw\", dist.HalfNormal(scale=1))\n",
    "                    p = numpyro.deterministic(\"p\", sigma_p * p_raw)\n",
    "\n",
    "        with numpyro.plate(site.n_response, self.n_response, dim=-1):\n",
    "            with numpyro.plate(site.data, n_data, dim=-2):\n",
    "                \"\"\" Model \"\"\"\n",
    "                mu = numpyro.deterministic(\n",
    "                    site.mu,\n",
    "                    L[subject, feature0]\n",
    "                    + jnp.where(\n",
    "                        intensity <= a[subject, feature0],\n",
    "                        0,\n",
    "                        -l[subject, feature0]\n",
    "                        + (\n",
    "                            (H[subject, feature0] + l[subject, feature0])\n",
    "                            / jnp.power(\n",
    "                                1\n",
    "                                + (\n",
    "                                    (\n",
    "                                        -1\n",
    "                                        + jnp.power(\n",
    "                                            (H[subject, feature0] + l[subject, feature0]) / l[subject, feature0],\n",
    "                                            v[subject, feature0]\n",
    "                                        )\n",
    "                                    )\n",
    "                                    * jnp.exp(-b[subject, feature0] * (intensity - a[subject, feature0]))\n",
    "                                ),\n",
    "                                1 / v[subject, feature0]\n",
    "                            )\n",
    "                        )\n",
    "                    )\n",
    "                )\n",
    "                beta = numpyro.deterministic(\n",
    "                    site.beta,\n",
    "                    g_1[subject, feature0] + g_2[subject, feature0] * jnp.power(1 / (mu + 1), p[subject, feature0])\n",
    "                )\n",
    "\n",
    "                \"\"\" Observation \"\"\"\n",
    "                numpyro.sample(\n",
    "                    site.obs,\n",
    "                    dist.Gamma(concentration=mu * beta, rate=beta),\n",
    "                    obs=response_obs\n",
    "                )\n"
   ]
  },
  {
   "cell_type": "code",
   "execution_count": 3,
   "metadata": {},
   "outputs": [
    {
     "name": "stderr",
     "output_type": "stream",
     "text": [
      "2023-10-18 16:52:48,511 - hbmep.config - INFO - Verifying configuration ...\n",
      "2023-10-18 16:52:48,513 - hbmep.config - INFO - Success!\n",
      "2023-10-18 16:52:48,686 - hbmep.model.baseline - INFO - Initialized model with RectifiedLogistic link\n"
     ]
    }
   ],
   "source": [
    "toml_path = os.path.join(\"/home/vishu/repos/hbmep-paper/configs/paper/tms/link-comparison/RectifiedLogistic.toml\")\n",
    "\n",
    "config = Config(toml_path=toml_path)\n",
    "# config.MCMC_PARAMS[\"num_warmup\"] = 10000\n",
    "# config.MCMC_PARAMS[\"num_samples\"] = 12000\n",
    "# config.MCMC_PARAMS[\"thinning\"] = 4\n",
    "\n",
    "model = RectifiedLogistic(config=config)\n",
    "\n",
    "# from numpyro.infer import NUTS\n",
    "# sampler = NUTS(model=model._model, max_tree_depth=50)\n"
   ]
  },
  {
   "cell_type": "code",
   "execution_count": 4,
   "metadata": {},
   "outputs": [
    {
     "name": "stderr",
     "output_type": "stream",
     "text": [
      "2023-10-18 16:52:48,952 - hbmep.dataset.core - INFO - Artefacts will be stored here - /home/vishu/repos/hbmep-paper/reports/paper/tms/link-comparison/RectifiedLogistic\n",
      "2023-10-18 16:52:48,962 - hbmep.dataset.core - INFO - Copied config to /home/vishu/repos/hbmep-paper/reports/paper/tms/link-comparison/RectifiedLogistic\n",
      "2023-10-18 16:52:48,971 - hbmep.dataset.core - INFO - Processing data ...\n",
      "2023-10-18 16:52:48,983 - hbmep.utils.utils - INFO - func:load took: 0.03 sec\n"
     ]
    }
   ],
   "source": [
    "src = \"/home/vishu/data/hbmep-processed/human/tms/data_pkpk_auc.csv\"\n",
    "df = pd.read_csv(src)\n",
    "\n",
    "model.mep_matrix_path = None\n",
    "subset = [\"SCA01\"]\n",
    "# subset = [\"SCS03\"]\n",
    "ind = df[model.subject].isin(subset)\n",
    "df = df[ind].reset_index(drop=True).copy()\n",
    "\n",
    "df, encoder_dict = model.load(df=df)\n"
   ]
  },
  {
   "cell_type": "code",
   "execution_count": 5,
   "metadata": {},
   "outputs": [
    {
     "name": "stderr",
     "output_type": "stream",
     "text": [
      "2023-10-18 16:52:49,047 - hbmep.model.baseline - INFO - Running inference with RectifiedLogistic ...\n"
     ]
    },
    {
     "data": {
      "application/vnd.jupyter.widget-view+json": {
       "model_id": "a26a2bc6273a4a368357d9f75101ceab",
       "version_major": 2,
       "version_minor": 0
      },
      "text/plain": [
       "  0%|          | 0/3000 [00:00<?, ?it/s]"
      ]
     },
     "metadata": {},
     "output_type": "display_data"
    },
    {
     "data": {
      "application/vnd.jupyter.widget-view+json": {
       "model_id": "a5fd1b92226948cc8bdd2ddda68f8549",
       "version_major": 2,
       "version_minor": 0
      },
      "text/plain": [
       "  0%|          | 0/3000 [00:00<?, ?it/s]"
      ]
     },
     "metadata": {},
     "output_type": "display_data"
    },
    {
     "data": {
      "application/vnd.jupyter.widget-view+json": {
       "model_id": "3d551baf2b47470a893245a472b2ac75",
       "version_major": 2,
       "version_minor": 0
      },
      "text/plain": [
       "  0%|          | 0/3000 [00:00<?, ?it/s]"
      ]
     },
     "metadata": {},
     "output_type": "display_data"
    },
    {
     "data": {
      "application/vnd.jupyter.widget-view+json": {
       "model_id": "739b837be1bb425fbcbe2df4486ed64f",
       "version_major": 2,
       "version_minor": 0
      },
      "text/plain": [
       "  0%|          | 0/3000 [00:00<?, ?it/s]"
      ]
     },
     "metadata": {},
     "output_type": "display_data"
    },
    {
     "name": "stderr",
     "output_type": "stream",
     "text": [
      "2023-10-18 16:56:34,215 - hbmep.utils.utils - INFO - func:run_inference took: 3 min and 45.17 sec\n"
     ]
    }
   ],
   "source": [
    "mcmc, posterior_samples = model.run_inference(df=df)\n"
   ]
  },
  {
   "cell_type": "code",
   "execution_count": 6,
   "metadata": {},
   "outputs": [
    {
     "name": "stderr",
     "output_type": "stream",
     "text": [
      "2023-10-18 16:56:34,327 - hbmep.utils.utils - INFO - func:make_prediction_dataset took: 0.02 sec\n",
      "2023-10-18 16:56:37,070 - hbmep.utils.utils - INFO - func:predict took: 2.74 sec\n",
      "2023-10-18 16:56:37,079 - hbmep.model.baseline - INFO - Rendering ...\n",
      "2023-10-18 16:56:39,825 - hbmep.model.baseline - INFO - Saved to /home/vishu/repos/hbmep-paper/reports/paper/tms/link-comparison/RectifiedLogistic/recruitment_curves.pdf\n",
      "2023-10-18 16:56:39,826 - hbmep.utils.utils - INFO - func:render_recruitment_curves took: 2.75 sec\n",
      "2023-10-18 16:56:39,834 - hbmep.model.baseline - INFO - Rendering Posterior Predictive Check ...\n",
      "2023-10-18 16:56:42,232 - hbmep.model.baseline - INFO - Saved to /home/vishu/repos/hbmep-paper/reports/paper/tms/link-comparison/RectifiedLogistic/posterior_predictive_check.pdf\n",
      "2023-10-18 16:56:42,235 - hbmep.utils.utils - INFO - func:_render_predictive_check took: 2.41 sec\n",
      "2023-10-18 16:56:42,236 - hbmep.utils.utils - INFO - func:render_predictive_check took: 2.41 sec\n"
     ]
    }
   ],
   "source": [
    "prediction_df = model.make_prediction_dataset(df=df)\n",
    "posterior_predictive = model.predict(df=prediction_df, posterior_samples=posterior_samples)\n",
    "\n",
    "model.render_recruitment_curves(df=df, encoder_dict=encoder_dict, posterior_samples=posterior_samples, prediction_df=prediction_df, posterior_predictive=posterior_predictive)\n",
    "model.render_predictive_check(df=df, encoder_dict=encoder_dict, prediction_df=prediction_df, posterior_predictive=posterior_predictive)\n"
   ]
  },
  {
   "cell_type": "code",
   "execution_count": 8,
   "metadata": {},
   "outputs": [
    {
     "name": "stdout",
     "output_type": "stream",
     "text": [
      "\n",
      "                         mean       std    median      2.5%     97.5%     n_eff     r_hat\n",
      "       H_raw[0,0,0]      0.57      0.32      0.42      0.23      1.18      2.19      4.93\n",
      "       H_raw[0,0,1]      0.62      0.24      0.57      0.34      0.98      2.49      2.99\n",
      "       H_raw[0,0,2]      0.35      0.43      0.17      0.02      1.09      2.00     79.29\n",
      "       H_raw[0,0,3]      0.80      0.72      0.58      0.18      2.18      2.73      2.34\n",
      "       H_raw[0,0,4]      0.59      0.62      0.42      0.07      1.84      2.51      2.91\n",
      "       H_raw[0,0,5]      1.48      1.27      1.02      0.15      3.60      2.01     21.54\n",
      "       L_raw[0,0,0]      0.50      0.27      0.62      0.13      0.86      2.36      3.44\n",
      "       L_raw[0,0,1]      0.85      0.96      0.57      0.03      2.44      2.00     42.58\n",
      "       L_raw[0,0,2]      0.32      0.11      0.31      0.16      0.57      3.66      2.25\n",
      "       L_raw[0,0,3]      0.49      0.11      0.54      0.35      0.71      2.87      2.77\n",
      "       L_raw[0,0,4]      0.61      0.44      0.40      0.26      1.48      2.08     12.40\n",
      "       L_raw[0,0,5]      0.45      0.38      0.31      0.08      1.10      2.00     54.76\n",
      "       a_raw[0,0,0]      3.40      4.09      1.41      0.36     10.77      2.07      6.20\n",
      "       a_raw[0,0,1]      3.41      2.52      2.61      1.08      7.57      2.00     37.32\n",
      "       a_raw[0,0,2]      2.35      1.48      2.94      0.60      4.50      2.07      8.17\n",
      "       a_raw[0,0,3]      3.83      1.84      4.11      1.22      6.96      2.49      4.33\n",
      "       a_raw[0,0,4]      2.18      1.97      1.15      0.14      6.21      3.04      3.21\n",
      "       a_raw[0,0,5]      6.71      4.47      5.59      2.44     14.15      2.01     18.57\n",
      "       b_raw[0,0,0]      1.10      0.45      0.90      0.52      1.77      2.96      2.55\n",
      "       b_raw[0,0,1]      1.35      1.57      0.60      0.13      4.03      2.01     19.74\n",
      "       b_raw[0,0,2]      0.67      0.44      0.69      0.09      1.52      2.70      2.87\n",
      "       b_raw[0,0,3]      0.86      0.70      0.64      0.00      1.94      2.02     15.68\n",
      "       b_raw[0,0,4]      1.13      0.97      0.95      0.03      2.71      2.01     30.14\n",
      "       b_raw[0,0,5]      0.65      0.29      0.51      0.40      1.25      2.34      2.97\n",
      "     g_1_raw[0,0,0]      1.01      0.60      0.97      0.34      1.93      2.13      4.47\n",
      "     g_1_raw[0,0,1]      0.80      0.56      0.75      0.18      1.70      2.11      5.11\n",
      "     g_1_raw[0,0,2]      0.21      0.30      0.06      0.00      0.72      2.00    372.88\n",
      "     g_1_raw[0,0,3]      0.44      0.50      0.26      0.00      1.28      2.00     40.29\n",
      "     g_1_raw[0,0,4]      1.78      1.63      2.40      0.10      4.11      2.04      7.16\n",
      "     g_1_raw[0,0,5]      0.52      0.44      0.29      0.02      1.16      2.07      7.42\n",
      "     g_2_raw[0,0,0]      1.03      0.53      0.92      0.33      2.09      7.69      1.41\n",
      "     g_2_raw[0,0,1]      3.23      2.85      3.18      0.29      8.56      3.16      2.30\n",
      "     g_2_raw[0,0,2]      1.65      1.29      1.48      0.12      3.08      2.02     18.80\n",
      "     g_2_raw[0,0,3]      2.34      2.94      0.96      0.23      7.57      2.01     19.48\n",
      "     g_2_raw[0,0,4]      0.78      0.47      0.69      0.21      1.55      2.02     16.37\n",
      "     g_2_raw[0,0,5]      5.87      5.38      4.35      1.05     16.88      2.20      5.51\n",
      "  global_sigma_H[0]      0.55      0.21      0.61      0.12      0.83      3.00      2.05\n",
      "  global_sigma_H[1]      4.90      1.95      4.00      3.17      9.59      2.95      2.26\n",
      "  global_sigma_H[2]      1.66      2.15      0.51      0.24      5.40      2.00     37.82\n",
      "  global_sigma_H[3]      1.35      0.89      1.40      0.36      2.31      2.01     22.96\n",
      "  global_sigma_H[4]      1.03      0.67      1.21      0.11      1.88      2.02     13.94\n",
      "  global_sigma_H[5]      1.30      2.11      0.12      0.00      4.97      2.00    300.27\n",
      "  global_sigma_L[0]      0.43      0.26      0.39      0.09      0.77      2.97      2.33\n",
      "  global_sigma_L[1]      0.84      0.58      0.63      0.24      1.63      2.09      6.97\n",
      "  global_sigma_L[2]      0.87      1.04      0.36      0.10      2.66      2.00     86.11\n",
      "  global_sigma_L[3]      0.53      0.48      0.35      0.01      1.30      2.06      7.43\n",
      "  global_sigma_L[4]      0.31      0.34      0.21      0.01      0.87      2.00     54.81\n",
      "  global_sigma_L[5]      1.22      1.18      0.68      0.31      3.26      2.00     51.56\n",
      "  global_sigma_b[0]      6.21      4.36      4.40      0.36     12.00      2.35      3.51\n",
      "  global_sigma_b[1]     38.01     47.78     10.18      0.14    134.47      2.15      4.63\n",
      "  global_sigma_b[2]     35.78     45.45      4.39      0.15    119.27      3.34      1.93\n",
      "  global_sigma_b[3]     50.12     92.81      3.13      1.14    283.10      2.60      3.73\n",
      "  global_sigma_b[4]     16.72     28.70      1.80      0.19     82.09      2.41      2.86\n",
      "  global_sigma_b[5]     23.48     32.60      4.65      0.00     81.98      2.01     15.92\n",
      "global_sigma_g_1[0]      0.33      0.33      0.20      0.03      0.90      2.00     29.42\n",
      "global_sigma_g_1[1]      0.59      0.83      0.16      0.01      2.03      2.00     40.97\n",
      "global_sigma_g_1[2]      1.44      0.54      1.45      0.49      2.04      2.05      9.65\n",
      "global_sigma_g_1[3]      0.48      0.29      0.54      0.12      0.81      2.03     10.02\n",
      "global_sigma_g_1[4]      0.12      0.11      0.11      0.00      0.27      2.01     24.23\n",
      "global_sigma_g_1[5]      0.37      0.23      0.44      0.00      0.64      2.05      8.70\n",
      "global_sigma_g_2[0]     65.03     72.08     22.03      1.10    199.93      2.37      2.81\n",
      "global_sigma_g_2[1]     23.22     40.09      1.22      0.39    109.82      2.16      4.15\n",
      "global_sigma_g_2[2]     38.54     68.11      0.43      0.15    178.68      2.14      4.43\n",
      "global_sigma_g_2[3]      1.91      1.67      1.18      0.24      5.27      2.11      8.91\n",
      "global_sigma_g_2[4]      3.49      3.82      2.66      0.33      8.97      3.76      1.81\n",
      "global_sigma_g_2[5]      7.59      7.31      3.78      0.22     20.28      2.11      6.85\n",
      "  global_sigma_l[0]     72.67     80.43     27.70      2.12    217.94      2.67      2.48\n",
      "  global_sigma_l[1]     74.78     89.07     26.36      0.45    265.39      2.91      2.08\n",
      "  global_sigma_l[2]     53.04     62.95      6.00      0.21    163.39      2.57      2.59\n",
      "  global_sigma_l[3]     25.00     24.75      6.07      0.25     62.38      2.31      3.35\n",
      "  global_sigma_l[4]      9.93     20.59      3.89      0.12     48.28      9.45      1.47\n",
      "  global_sigma_l[5]     30.51     51.47      2.89      0.13    146.76      2.62      2.30\n",
      "  global_sigma_p[0]     19.11     25.39      3.64      0.92     66.94      3.46      1.83\n",
      "  global_sigma_p[1]     49.84     79.62      4.42      0.15    209.50      2.09      6.65\n",
      "  global_sigma_p[2]     26.79     49.27      0.72      0.51    123.82      2.42      2.86\n",
      "  global_sigma_p[3]      2.27      2.04      1.62      0.23      4.58      2.06     11.48\n",
      "  global_sigma_p[4]      1.82      2.46      0.58      0.13      7.62      2.17      3.88\n",
      "  global_sigma_p[5]     31.83     51.70      3.62      0.66    141.24      2.10      5.45\n",
      "  global_sigma_v[0]     46.23     80.57      3.37      0.42    240.83      2.33      5.89\n",
      "  global_sigma_v[1]     14.90     32.03      0.82      0.26     96.87      4.15      2.31\n",
      "  global_sigma_v[2]     47.71     79.86      3.92      1.49    221.29      2.30      5.19\n",
      "  global_sigma_v[3]      1.21      0.98      0.84      0.22      2.58      2.08      5.85\n",
      "  global_sigma_v[4]     27.17     49.50      1.03      0.50    126.93      2.40      2.90\n",
      "  global_sigma_v[5]     39.37     49.69      9.11      0.16    144.33      3.30      1.94\n",
      "       l_raw[0,0,0]      2.02      1.65      1.84      0.18      4.68      2.08      9.99\n",
      "       l_raw[0,0,1]      0.53      0.63      0.16      0.11      1.99      2.71      2.99\n",
      "       l_raw[0,0,2]      0.72      0.21      0.71      0.36      1.04      2.70      2.30\n",
      "       l_raw[0,0,3]      0.93      0.39      1.09      0.35      1.38      2.26      4.52\n",
      "       l_raw[0,0,4]      0.84      0.63      0.69      0.00      1.59      2.06      9.39\n",
      "       l_raw[0,0,5]      1.01      0.55      0.95      0.32      1.79      2.12      4.66\n",
      "       p_raw[0,0,0]      1.05      0.43      0.91      0.60      1.75      2.85      2.10\n",
      "       p_raw[0,0,1]      1.53      1.11      1.34      0.31      3.20      2.01     23.04\n",
      "       p_raw[0,0,2]      1.21      0.83      0.94      0.11      2.51      2.04     13.56\n",
      "       p_raw[0,0,3]      0.98      0.91      0.77      0.10      2.53      2.04     13.84\n",
      "       p_raw[0,0,4]      0.91      0.57      0.79      0.23      1.83      2.22      3.74\n",
      "       p_raw[0,0,5]      0.63      0.48      0.37      0.16      1.39      2.30      5.64\n",
      "              shape      2.62      2.08      2.64      0.35      4.83      2.00     53.90\n",
      "   sigma_H_raw[0,0]      0.85      0.25      0.91      0.50      1.18      2.33      2.96\n",
      "   sigma_H_raw[0,1]      1.01      0.84      0.79      0.12      2.34      2.01     43.33\n",
      "   sigma_H_raw[0,2]      0.82      1.21      0.13      0.05      2.93      2.00     70.18\n",
      "   sigma_H_raw[0,3]      0.16      0.10      0.15      0.03      0.32      2.21      3.90\n",
      "   sigma_H_raw[0,4]      0.63      0.64      0.53      0.04      2.33      2.97      2.75\n",
      "   sigma_H_raw[0,5]      0.36      0.44      0.12      0.03      1.13      2.01     18.18\n",
      "   sigma_L_raw[0,0]      0.49      0.31      0.49      0.05      0.85      2.02     12.65\n",
      "   sigma_L_raw[0,1]      0.73      0.61      0.30      0.11      1.56      2.66      2.65\n",
      "   sigma_L_raw[0,2]      0.15      0.15      0.07      0.05      0.42      2.01     14.84\n",
      "   sigma_L_raw[0,3]      0.65      0.40      0.48      0.07      1.22      2.30      5.37\n",
      "   sigma_L_raw[0,4]      0.48      0.33      0.50      0.01      0.96      2.06      9.16\n",
      "   sigma_L_raw[0,5]      0.13      0.09      0.09      0.04      0.29      2.01     15.73\n",
      "   sigma_b_raw[0,0]      1.13      0.76      1.07      0.24      2.27      2.25      3.75\n",
      "   sigma_b_raw[0,1]      1.16      0.78      0.93      0.09      2.14      2.07     10.77\n",
      "   sigma_b_raw[0,2]      0.60      0.53      0.32      0.13      1.53      2.07      5.98\n",
      "   sigma_b_raw[0,3]      2.15      1.11      2.49      0.41      3.61      2.36      5.74\n",
      "   sigma_b_raw[0,4]      1.05      1.06      0.76      0.01      2.74      2.00     59.24\n",
      "   sigma_b_raw[0,5]      0.67      0.39      0.60      0.27      1.38      2.05      7.67\n",
      " sigma_g_1_raw[0,0]      1.05      1.11      0.33      0.04      2.84      2.06      9.64\n",
      " sigma_g_1_raw[0,1]      0.86      0.46      0.93      0.05      1.44      2.06      9.59\n",
      " sigma_g_1_raw[0,2]      0.52      0.45      0.40      0.07      1.26      2.05     10.03\n",
      " sigma_g_1_raw[0,3]      1.64      0.57      1.69      0.83      2.46      2.09      6.59\n",
      " sigma_g_1_raw[0,4]      0.62      0.62      0.25      0.08      1.68      2.12      5.18\n",
      " sigma_g_1_raw[0,5]      0.66      0.65      0.36      0.12      1.73      2.00     30.14\n",
      " sigma_g_2_raw[0,0]      1.73      1.59      1.25      0.19      4.36      2.00     28.49\n",
      " sigma_g_2_raw[0,1]      1.18      0.72      0.90      0.26      2.30      2.07      7.47\n",
      " sigma_g_2_raw[0,2]      1.21      0.54      1.16      0.45      1.94      3.13      2.39\n",
      " sigma_g_2_raw[0,3]      0.88      1.30      0.14      0.06      3.14      2.00     68.35\n",
      " sigma_g_2_raw[0,4]      1.20      0.56      1.21      0.48      2.40      3.29      2.75\n",
      " sigma_g_2_raw[0,5]      0.74      0.23      0.62      0.47      1.11      2.44      2.61\n",
      "   sigma_l_raw[0,0]      0.54      0.36      0.45      0.12      1.25      2.09      5.29\n",
      "   sigma_l_raw[0,1]      0.96      0.20      0.97      0.68      1.19      2.28      3.51\n",
      "   sigma_l_raw[0,2]      0.79      0.48      0.75      0.08      1.43      2.07      6.28\n",
      "   sigma_l_raw[0,3]      2.57      1.90      2.39      0.68      5.66      2.02     12.81\n",
      "   sigma_l_raw[0,4]      0.51      0.32      0.57      0.09      0.84      5.20      1.70\n",
      "   sigma_l_raw[0,5]      0.79      0.34      0.74      0.42      1.29      2.14      5.68\n",
      "   sigma_p_raw[0,0]      0.79      0.73      0.52      0.09      2.06      2.01     23.35\n",
      "   sigma_p_raw[0,1]      0.38      0.14      0.45      0.17      0.51      2.20      5.04\n",
      "   sigma_p_raw[0,2]      1.56      0.97      1.72      0.46      2.73      2.03      9.79\n",
      "   sigma_p_raw[0,3]      0.87      0.67      0.63      0.22      2.02      2.04     11.52\n",
      "   sigma_p_raw[0,4]      2.21      1.67      2.03      0.10      4.79      2.01     22.20\n",
      "   sigma_p_raw[0,5]      1.48      1.06      1.66      0.04      2.86      2.01     19.11\n",
      "   sigma_v_raw[0,0]      1.23      0.54      1.14      0.64      2.21      2.20      5.02\n",
      "   sigma_v_raw[0,1]      1.57      0.43      1.57      0.60      2.12      3.63      2.32\n",
      "   sigma_v_raw[0,2]      0.39      0.19      0.39      0.12      0.67      2.10      6.64\n",
      "   sigma_v_raw[0,3]      1.27      1.13      0.84      0.07      2.88      2.13      4.91\n",
      "   sigma_v_raw[0,4]      0.87      0.83      0.67      0.07      2.12      2.00     38.18\n",
      "   sigma_v_raw[0,5]      2.23      1.53      1.57      0.56      4.77      2.20      4.48\n",
      "       v_raw[0,0,0]      0.94      0.51      1.01      0.34      1.88      2.58      2.45\n",
      "       v_raw[0,0,1]      2.26      1.30      2.55      0.63      4.00      2.04      9.80\n",
      "       v_raw[0,0,2]      1.84      1.29      1.40      0.70      4.01      2.06      6.65\n",
      "       v_raw[0,0,3]      1.02      0.92      0.64      0.11      2.41      2.02     12.95\n",
      "       v_raw[0,0,4]      1.78      1.25      1.79      0.22      3.45      2.12      5.52\n",
      "       v_raw[0,0,5]      2.11      1.28      2.25      0.50      3.93      2.06      6.87\n",
      "           µ_a[0,0]      2.52      2.90      1.38      0.15      9.70      2.47      2.73\n",
      "           µ_a[0,1]      5.07      2.50      4.30      1.70      7.86      2.11      5.52\n",
      "           µ_a[0,2]      0.67      0.50      0.46      0.16      1.84      6.86      2.31\n",
      "           µ_a[0,3]      4.03      2.87      4.24      0.39      9.12      2.44      3.04\n",
      "           µ_a[0,4]      1.66      1.03      1.31      0.52      4.01      2.51      2.50\n",
      "           µ_a[0,5]      3.09      3.46      1.46      0.14     11.03      2.39      3.17\n",
      "           σ_a[0,0]      0.71      0.33      0.71      0.19      1.30      2.80      3.57\n",
      "           σ_a[0,1]      0.33      0.29      0.25      0.03      0.82      2.00     84.86\n",
      "           σ_a[0,2]      1.05      0.78      1.16      0.07      2.16      2.59      3.12\n",
      "           σ_a[0,3]      0.52      0.24      0.53      0.13      0.81      2.13      4.51\n",
      "           σ_a[0,4]      0.67      0.59      0.37      0.07      1.55      2.06      7.27\n",
      "           σ_a[0,5]      0.63      0.78      0.21      0.11      2.25      2.21      3.63\n",
      "\n",
      "Number of divergences: 2905\n"
     ]
    }
   ],
   "source": [
    "mcmc.print_summary(prob=.95)\n"
   ]
  },
  {
   "cell_type": "code",
   "execution_count": null,
   "metadata": {},
   "outputs": [
    {
     "name": "stderr",
     "output_type": "stream",
     "text": [
      "2023-10-17 15:22:14,733 - __main__ - INFO - Evaluating model ...\n"
     ]
    }
   ],
   "source": [
    "numpyro_data = az.from_numpyro(mcmc)\n",
    "\n",
    "\"\"\" Model evaluation \"\"\"\n",
    "logger.info(\"Evaluating model ...\")\n"
   ]
  },
  {
   "cell_type": "code",
   "execution_count": null,
   "metadata": {},
   "outputs": [
    {
     "name": "stderr",
     "output_type": "stream",
     "text": [
      "/home/vishu/repos/hbmep-paper/.venv/lib/python3.11/site-packages/arviz/stats/stats.py:1037: RuntimeWarning: overflow encountered in exp\n",
      "  weights = 1 / np.exp(len_scale - len_scale[:, None]).sum(axis=1)\n",
      "/home/vishu/repos/hbmep-paper/.venv/lib/python3.11/site-packages/arviz/stats/stats.py:803: UserWarning: Estimated shape parameter of Pareto distribution is greater than 0.7 for one or more samples. You should consider using a more robust model, this is because importance sampling is less likely to work well if the marginal posterior and LOO posterior are very different. This is more likely to happen with a non-robust model and highly influential observations.\n",
      "  warnings.warn(\n",
      "2023-10-17 15:24:07,630 - __main__ - INFO - ELPD LOO (Log): 8805.45\n"
     ]
    }
   ],
   "source": [
    "score = az.loo(numpyro_data)\n",
    "logger.info(f\"ELPD LOO (Log): {score.elpd_loo:.2f}\")"
   ]
  },
  {
   "cell_type": "code",
   "execution_count": null,
   "metadata": {},
   "outputs": [
    {
     "name": "stderr",
     "output_type": "stream",
     "text": [
      "/home/vishu/repos/hbmep-paper/.venv/lib/python3.11/site-packages/arviz/stats/stats.py:1645: UserWarning: For one or more samples the posterior variance of the log predictive densities exceeds 0.4. This could be indication of WAIC starting to fail. \n",
      "See http://arxiv.org/abs/1507.04544 for details\n",
      "  warnings.warn(\n",
      "2023-10-17 15:24:37,815 - __main__ - INFO - ELPD WAIC (Log): 8818.58\n"
     ]
    }
   ],
   "source": [
    "score = az.waic(numpyro_data)\n",
    "logger.info(f\"ELPD WAIC (Log): {score.elpd_waic:.2f}\")"
   ]
  },
  {
   "cell_type": "code",
   "execution_count": null,
   "metadata": {},
   "outputs": [],
   "source": [
    "import pickle\n",
    "\n",
    "dest = os.path.join(model.build_dir, \"inference.pkl\")\n",
    "with open(dest, \"wb\") as f:\n",
    "    pickle.dump((model, mcmc, posterior_samples), f)"
   ]
  },
  {
   "cell_type": "code",
   "execution_count": null,
   "metadata": {},
   "outputs": [],
   "source": [
    "# import pickle\n",
    "\n",
    "# with open(dest, \"rb\") as g:\n",
    "#     model_, mcmc_, posterior_samples_ = pickle.load(g)\n"
   ]
  },
  {
   "cell_type": "code",
   "execution_count": null,
   "metadata": {},
   "outputs": [],
   "source": []
  }
 ],
 "metadata": {
  "kernelspec": {
   "display_name": "Python 3 (ipykernel)",
   "language": "python",
   "name": "python3"
  },
  "orig_nbformat": 4
 },
 "nbformat": 4,
 "nbformat_minor": 2
}
