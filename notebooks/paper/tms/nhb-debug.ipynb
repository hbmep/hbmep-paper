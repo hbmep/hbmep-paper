{
 "cells": [
  {
   "cell_type": "code",
   "execution_count": 1,
   "metadata": {},
   "outputs": [],
   "source": [
    "%reload_ext autoreload\n",
    "%autoreload 2\n",
    "\n",
    "import os\n",
    "import pickle\n",
    "import logging\n",
    "import multiprocessing\n",
    "\n",
    "import matplotlib\n",
    "import matplotlib.pyplot as plt\n",
    "from matplotlib.backends.backend_pdf import PdfPages\n",
    "import seaborn as sns\n",
    "\n",
    "import pandas as pd\n",
    "import numpy as np\n",
    "import jax\n",
    "import jax.numpy as jnp\n",
    "import scipy.stats as stats\n",
    "\n",
    "import numpyro\n",
    "import numpyro.distributions as dist\n",
    "\n",
    "from hbmep.model import Baseline\n",
    "from hbmep_paper.utils.constants import HBM\n",
    "from hbmep.config import Config\n",
    "from hbmep.model.utils import Site as site\n",
    "\n",
    "PLATFORM = \"cpu\"\n",
    "jax.config.update(\"jax_platforms\", PLATFORM)\n",
    "numpyro.set_platform(PLATFORM)\n",
    "\n",
    "cpu_count = multiprocessing.cpu_count() - 2\n",
    "numpyro.set_host_device_count(cpu_count)\n",
    "numpyro.enable_x64()\n",
    "numpyro.enable_validation()\n",
    "\n",
    "logger = logging.getLogger(__name__)\n"
   ]
  },
  {
   "cell_type": "code",
   "execution_count": 2,
   "metadata": {},
   "outputs": [],
   "source": [
    "class Simulation(Baseline):\n",
    "    LINK = HBM\n",
    "\n",
    "    def __init__(self, config: Config, mu_a_delta: int, sigma_a_delta: int):\n",
    "        super(Simulation, self).__init__(config=config)\n",
    "        self.combination_columns = self.features + [self.subject]\n",
    "        self.mu_a_delta = mu_a_delta\n",
    "        self.sigma_a_delta = sigma_a_delta\n",
    "\n",
    "    def _model(self, subject, features, intensity, response_obs=None):\n",
    "        intensity = intensity.reshape(-1, 1)\n",
    "        intensity = np.tile(intensity, (1, self.n_response))\n",
    "\n",
    "        feature0 = features[0].reshape(-1,)\n",
    "\n",
    "        n_data = intensity.shape[0]\n",
    "        n_subject = np.unique(subject).shape[0]\n",
    "        n_feature0 = np.unique(feature0).shape[0]\n",
    "\n",
    "        n_baseline = 1\n",
    "        n_delta = 1\n",
    "\n",
    "        global_sigma_b_baseline = numpyro.sample(\"global_sigma_b_baseline\", dist.HalfNormal(100))\n",
    "        global_sigma_v_baseline = numpyro.sample(\"global_sigma_v_baseline\", dist.HalfNormal(100))\n",
    "\n",
    "        global_sigma_L_baseline = numpyro.sample(\"global_sigma_L_baseline\", dist.HalfNormal(50))\n",
    "        global_sigma_H_baseline = numpyro.sample(\"global_sigma_H_baseline\", dist.HalfNormal(500))\n",
    "\n",
    "        global_sigma_g_1_baseline = numpyro.sample(\"global_sigma_g_1_baseline\", dist.HalfNormal(100))\n",
    "        global_sigma_g_2_baseline = numpyro.sample(\"global_sigma_g_2_baseline\", dist.HalfNormal(100))\n",
    "\n",
    "        \"\"\" Baseline \"\"\"\n",
    "        with numpyro.plate(site.n_response, self.n_response, dim=-1):\n",
    "            with numpyro.plate(\"n_baseline\", n_baseline, dim=-2):\n",
    "                \"\"\" Hyper-priors \"\"\"\n",
    "                mu_a_baseline = numpyro.sample(\n",
    "                    \"mu_a_baseline\",\n",
    "                    dist.TruncatedNormal(50, 50, low=0)\n",
    "                )\n",
    "                sigma_a_baseline = numpyro.sample(\n",
    "                    \"sigma_a_baseline\",\n",
    "                    dist.HalfNormal(50)\n",
    "                )\n",
    "\n",
    "                sigma_b_baseline = numpyro.sample(\"sigma_b_baseline\", dist.HalfNormal(global_sigma_b_baseline))\n",
    "                sigma_v_baseline = numpyro.sample(\"sigma_v_baseline\", dist.HalfNormal(global_sigma_v_baseline))\n",
    "\n",
    "                sigma_L_baseline = numpyro.sample(\"sigma_L_baseline\", dist.HalfNormal(global_sigma_L_baseline))\n",
    "                sigma_H_baseline = numpyro.sample(\"sigma_H_baseline\", dist.HalfNormal(global_sigma_H_baseline))\n",
    "\n",
    "                sigma_g_1_baseline = numpyro.sample(\"sigma_g_1_baseline\", dist.HalfNormal(global_sigma_g_1_baseline))\n",
    "                sigma_g_2_baseline = numpyro.sample(\"sigma_g_2_baseline\", dist.HalfNormal(global_sigma_g_2_baseline))\n",
    "\n",
    "                with numpyro.plate(site.n_subject, n_subject, dim=-3):\n",
    "                    \"\"\" Priors \"\"\"\n",
    "                    a_baseline = numpyro.sample(\n",
    "                        \"a_baseline\",\n",
    "                        dist.TruncatedNormal(mu_a_baseline, sigma_a_baseline, low=0)\n",
    "                    )\n",
    "\n",
    "                    b_baseline = numpyro.sample(\"b_baseline\", dist.HalfNormal(sigma_b_baseline))\n",
    "                    v_baseline = numpyro.sample(\"v_baseline\", dist.HalfNormal(sigma_v_baseline))\n",
    "\n",
    "                    L_baseline = numpyro.sample(\"L_baseline\", dist.HalfNormal(sigma_L_baseline))\n",
    "                    H_baseline = numpyro.sample(\"H_baseline\", dist.HalfNormal(sigma_H_baseline))\n",
    "\n",
    "                    g_1_baseline = numpyro.sample(\"g_1_baseline\", dist.Exponential(sigma_g_1_baseline))\n",
    "                    g_2_baseline = numpyro.sample(\"g_2_baseline\", dist.Exponential(sigma_g_2_baseline))\n",
    "\n",
    "        \"\"\" Delta \"\"\"\n",
    "        with numpyro.plate(site.n_response, self.n_response, dim=-1):\n",
    "            with numpyro.plate(\"n_delta\", n_delta, dim=-2):\n",
    "                mu_a_delta = numpyro.deterministic(\"mu_a_delta\", self.mu_a_delta)\n",
    "                sigma_a_delta = numpyro.deterministic(\"sigma_a_delta\", self.sigma_a_delta)\n",
    "\n",
    "                with numpyro.plate(site.n_subject, n_subject, dim=-3):\n",
    "                    a_delta = numpyro.sample(\"a_delta\", dist.Normal(mu_a_delta, sigma_a_delta))\n",
    "\n",
    "        with numpyro.plate(site.n_response, self.n_response, dim=-1):\n",
    "            with numpyro.plate(\"n_feature0\", n_feature0, dim=-2):\n",
    "                with numpyro.plate(site.n_subject, n_subject, dim=-3):\n",
    "                    a = numpyro.deterministic(\n",
    "                        site.a,\n",
    "                        jnp.concatenate([a_baseline, a_baseline + a_delta], axis=1)\n",
    "                    )\n",
    "\n",
    "                    b = numpyro.deterministic(\n",
    "                        site.b,\n",
    "                        jnp.concatenate([b_baseline, b_baseline], axis=1)\n",
    "                    )\n",
    "                    v = numpyro.deterministic(\n",
    "                        site.v,\n",
    "                        jnp.concatenate([v_baseline, v_baseline], axis=1)\n",
    "                    )\n",
    "\n",
    "                    L = numpyro.deterministic(\n",
    "                        site.L,\n",
    "                        jnp.concatenate([L_baseline, L_baseline], axis=1)\n",
    "                    )\n",
    "                    H = numpyro.deterministic(\n",
    "                        site.H,\n",
    "                        jnp.concatenate([H_baseline, H_baseline], axis=1)\n",
    "                    )\n",
    "\n",
    "                    g_1 = numpyro.deterministic(\n",
    "                        site.g_1,\n",
    "                        jnp.concatenate([g_1_baseline, g_1_baseline], axis=1)\n",
    "                    )\n",
    "                    g_2 = numpyro.deterministic(\n",
    "                        site.g_2,\n",
    "                        jnp.concatenate([g_2_baseline, g_2_baseline], axis=1)\n",
    "                    )\n",
    "\n",
    "                    # a = numpyro.deterministic(site.a, a_baseline)\n",
    "\n",
    "                    # b = numpyro.deterministic(site.b, b_baseline)\n",
    "                    # v = numpyro.deterministic(site.v, v_baseline)\n",
    "\n",
    "                    # L = numpyro.deterministic(site.L, L_baseline)\n",
    "                    # H = numpyro.deterministic(site.H, H_baseline)\n",
    "\n",
    "                    # g_1 = numpyro.deterministic(site.g_1, g_1_baseline)\n",
    "                    # g_2 = numpyro.deterministic(site.g_2, g_2_baseline)\n",
    "\n",
    "        \"\"\" Model \"\"\"\n",
    "        mu = numpyro.deterministic(\n",
    "            site.mu,\n",
    "            L[subject, feature0]\n",
    "            + jnp.maximum(\n",
    "                0,\n",
    "                -1\n",
    "                + (H[subject, feature0] + 1)\n",
    "                / jnp.power(\n",
    "                    1\n",
    "                    + (jnp.power(1 + H[subject, feature0], v[subject, feature0]) - 1)\n",
    "                    * jnp.exp(-b[subject, feature0] * (intensity - a[subject, feature0])),\n",
    "                    1 / v[subject, feature0]\n",
    "                )\n",
    "            )\n",
    "        )\n",
    "        beta = numpyro.deterministic(\n",
    "            site.beta,\n",
    "            g_1[subject, feature0] + g_2[subject, feature0] * (1 / mu) ** 2\n",
    "        )\n",
    "\n",
    "        # \"\"\" Penalty \"\"\"\n",
    "        # penalty = (jnp.fabs(baseline + delta) - (baseline + delta))\n",
    "        # numpyro.factor(\"penalty\", -penalty)\n",
    "\n",
    "        \"\"\" Observation \"\"\"\n",
    "        with numpyro.plate(site.data, n_data):\n",
    "            return numpyro.sample(\n",
    "                site.obs,\n",
    "                dist.Gamma(concentration=mu * beta, rate=beta).to_event(1),\n",
    "                obs=response_obs\n",
    "            )\n",
    "\n"
   ]
  },
  {
   "cell_type": "code",
   "execution_count": 3,
   "metadata": {},
   "outputs": [],
   "source": [
    "class HierarchicalBayesianModel(Baseline):\n",
    "    LINK = HBM\n",
    "\n",
    "    def __init__(self, config: Config):\n",
    "        super(HierarchicalBayesianModel, self).__init__(config=config)\n",
    "        self.combination_columns = self.features + [self.subject]\n",
    "\n",
    "    def _model(self, subject, features, intensity, response_obs=None):\n",
    "        intensity = intensity.reshape(-1, 1)\n",
    "        intensity = np.tile(intensity, (1, self.n_response))\n",
    "\n",
    "        feature0 = features[0].reshape(-1,)\n",
    "\n",
    "        n_data = intensity.shape[0]\n",
    "        n_subject = np.unique(subject).shape[0]\n",
    "        n_feature0 = np.unique(feature0).shape[0]\n",
    "\n",
    "        n_baseline = 1\n",
    "        n_delta = 1\n",
    "\n",
    "        global_sigma_b_baseline = numpyro.sample(\"global_sigma_b_baseline\", dist.HalfNormal(100))\n",
    "        global_sigma_v_baseline = numpyro.sample(\"global_sigma_v_baseline\", dist.HalfNormal(100))\n",
    "\n",
    "        global_sigma_L_baseline = numpyro.sample(\"global_sigma_L_baseline\", dist.HalfNormal(50))\n",
    "        global_sigma_H_baseline = numpyro.sample(\"global_sigma_H_baseline\", dist.HalfNormal(500))\n",
    "\n",
    "        global_sigma_g_1_baseline = numpyro.sample(\"global_sigma_g_1_baseline\", dist.HalfNormal(100))\n",
    "        global_sigma_g_2_baseline = numpyro.sample(\"global_sigma_g_2_baseline\", dist.HalfNormal(100))\n",
    "\n",
    "        \"\"\" Baseline \"\"\"\n",
    "        with numpyro.plate(site.n_response, self.n_response, dim=-1):\n",
    "            with numpyro.plate(\"n_baseline\", n_baseline, dim=-2):\n",
    "                \"\"\" Hyper-priors \"\"\"\n",
    "                mu_a_baseline = numpyro.sample(\n",
    "                    \"mu_a_baseline\",\n",
    "                    dist.TruncatedNormal(50, 50, low=0)\n",
    "                )\n",
    "                sigma_a_baseline = numpyro.sample(\n",
    "                    \"sigma_a_baseline\",\n",
    "                    dist.HalfNormal(50)\n",
    "                )\n",
    "\n",
    "                sigma_b_baseline = numpyro.sample(\"sigma_b_baseline\", dist.HalfNormal(global_sigma_b_baseline))\n",
    "                sigma_v_baseline = numpyro.sample(\"sigma_v_baseline\", dist.HalfNormal(global_sigma_v_baseline))\n",
    "\n",
    "                sigma_L_baseline = numpyro.sample(\"sigma_L_baseline\", dist.HalfNormal(global_sigma_L_baseline))\n",
    "                sigma_H_baseline = numpyro.sample(\"sigma_H_baseline\", dist.HalfNormal(global_sigma_H_baseline))\n",
    "\n",
    "                sigma_g_1_baseline = numpyro.sample(\"sigma_g_1_baseline\", dist.HalfNormal(global_sigma_g_1_baseline))\n",
    "                sigma_g_2_baseline = numpyro.sample(\"sigma_g_2_baseline\", dist.HalfNormal(global_sigma_g_2_baseline))\n",
    "\n",
    "                with numpyro.plate(site.n_subject, n_subject, dim=-3):\n",
    "                    \"\"\" Priors \"\"\"\n",
    "                    a_baseline = numpyro.sample(\n",
    "                        \"a_baseline\",\n",
    "                        dist.TruncatedNormal(mu_a_baseline, sigma_a_baseline, low=0)\n",
    "                    )\n",
    "\n",
    "                    b_baseline = numpyro.sample(\"b_baseline\", dist.HalfNormal(sigma_b_baseline))\n",
    "                    v_baseline = numpyro.sample(\"v_baseline\", dist.HalfNormal(sigma_v_baseline))\n",
    "\n",
    "                    L_baseline = numpyro.sample(\"L_baseline\", dist.HalfNormal(sigma_L_baseline))\n",
    "                    H_baseline = numpyro.sample(\"H_baseline\", dist.HalfNormal(sigma_H_baseline))\n",
    "\n",
    "                    g_1_baseline = numpyro.sample(\"g_1_baseline\", dist.Exponential(sigma_g_1_baseline))\n",
    "                    g_2_baseline = numpyro.sample(\"g_2_baseline\", dist.Exponential(sigma_g_2_baseline))\n",
    "\n",
    "        \"\"\" Delta \"\"\"\n",
    "        with numpyro.plate(site.n_response, self.n_response, dim=-1):\n",
    "            with numpyro.plate(\"n_delta\", n_delta, dim=-2):\n",
    "                mu_a_delta = numpyro.sample(\"mu_a_delta\", dist.Normal(0, 100))\n",
    "                sigma_a_delta = numpyro.sample(\"sigma_a_delta\", dist.HalfNormal(100))\n",
    "\n",
    "                with numpyro.plate(site.n_subject, n_subject, dim=-3):\n",
    "                    a_delta = numpyro.sample(\"a_delta\", dist.Normal(mu_a_delta, sigma_a_delta))\n",
    "\n",
    "        with numpyro.plate(site.n_response, self.n_response, dim=-1):\n",
    "            with numpyro.plate(\"n_feature0\", n_feature0, dim=-2):\n",
    "                with numpyro.plate(site.n_subject, n_subject, dim=-3):\n",
    "                    a = numpyro.deterministic(\n",
    "                        site.a,\n",
    "                        jnp.concatenate([a_baseline, a_baseline + a_delta], axis=1)\n",
    "                    )\n",
    "\n",
    "                    b = numpyro.deterministic(\n",
    "                        site.b,\n",
    "                        jnp.concatenate([b_baseline, b_baseline], axis=1)\n",
    "                    )\n",
    "                    v = numpyro.deterministic(\n",
    "                        site.v,\n",
    "                        jnp.concatenate([v_baseline, v_baseline], axis=1)\n",
    "                    )\n",
    "\n",
    "                    L = numpyro.deterministic(\n",
    "                        site.L,\n",
    "                        jnp.concatenate([L_baseline, L_baseline], axis=1)\n",
    "                    )\n",
    "                    H = numpyro.deterministic(\n",
    "                        site.H,\n",
    "                        jnp.concatenate([H_baseline, H_baseline], axis=1)\n",
    "                    )\n",
    "\n",
    "                    g_1 = numpyro.deterministic(\n",
    "                        site.g_1,\n",
    "                        jnp.concatenate([g_1_baseline, g_1_baseline], axis=1)\n",
    "                    )\n",
    "                    g_2 = numpyro.deterministic(\n",
    "                        site.g_2,\n",
    "                        jnp.concatenate([g_2_baseline, g_2_baseline], axis=1)\n",
    "                    )\n",
    "\n",
    "                    # a = numpyro.deterministic(site.a, a_baseline)\n",
    "\n",
    "                    # b = numpyro.deterministic(site.b, b_baseline)\n",
    "                    # v = numpyro.deterministic(site.v, v_baseline)\n",
    "\n",
    "                    # L = numpyro.deterministic(site.L, L_baseline)\n",
    "                    # H = numpyro.deterministic(site.H, H_baseline)\n",
    "\n",
    "                    # g_1 = numpyro.deterministic(site.g_1, g_1_baseline)\n",
    "                    # g_2 = numpyro.deterministic(site.g_2, g_2_baseline)\n",
    "\n",
    "        \"\"\" Model \"\"\"\n",
    "        mu = numpyro.deterministic(\n",
    "            site.mu,\n",
    "            L[subject, feature0]\n",
    "            + jnp.maximum(\n",
    "                0,\n",
    "                -1\n",
    "                + (H[subject, feature0] + 1)\n",
    "                / jnp.power(\n",
    "                    1\n",
    "                    + (jnp.power(1 + H[subject, feature0], v[subject, feature0]) - 1)\n",
    "                    * jnp.exp(-b[subject, feature0] * (intensity - a[subject, feature0])),\n",
    "                    1 / v[subject, feature0]\n",
    "                )\n",
    "            )\n",
    "        )\n",
    "        beta = numpyro.deterministic(\n",
    "            site.beta,\n",
    "            g_1[subject, feature0] + g_2[subject, feature0] * (1 / mu) ** 2\n",
    "        )\n",
    "\n",
    "        # \"\"\" Penalty \"\"\"\n",
    "        # penalty = (jnp.fabs(baseline + delta) - (baseline + delta))\n",
    "        # numpyro.factor(\"penalty\", -penalty)\n",
    "\n",
    "        \"\"\" Observation \"\"\"\n",
    "        with numpyro.plate(site.data, n_data):\n",
    "            return numpyro.sample(\n",
    "                site.obs,\n",
    "                dist.Gamma(concentration=mu * beta, rate=beta).to_event(1),\n",
    "                obs=response_obs\n",
    "            )\n"
   ]
  },
  {
   "cell_type": "code",
   "execution_count": 49,
   "metadata": {},
   "outputs": [],
   "source": [
    "class NonHierarchicalBayesianModel(Baseline):\n",
    "    LINK = \"non_hierarchical_bayesian\"\n",
    "\n",
    "    def __init__(self, config: Config):\n",
    "        super(NonHierarchicalBayesianModel, self).__init__(config=config)\n",
    "        self.combination_columns = self.features + [self.subject]\n",
    "\n",
    "    def _model(self, subject, features, intensity, response_obs=None):\n",
    "        intensity = intensity.reshape(-1, 1)\n",
    "        intensity = np.tile(intensity, (1, self.n_response))\n",
    "\n",
    "        feature0 = features[0].reshape(-1,)\n",
    "\n",
    "        n_data = intensity.shape[0]\n",
    "        n_subject = np.unique(subject).shape[0]\n",
    "        n_feature0 = np.unique(feature0).shape[0]\n",
    "\n",
    "        n_baseline = 1\n",
    "        n_delta = 1\n",
    "\n",
    "        # global_sigma_b_baseline = numpyro.sample(\"global_sigma_b_baseline\", dist.HalfNormal(100))\n",
    "        # global_sigma_v_baseline = numpyro.sample(\"global_sigma_v_baseline\", dist.HalfNormal(100))\n",
    "\n",
    "        # global_sigma_L_baseline = numpyro.sample(\"global_sigma_L_baseline\", dist.HalfNormal(50))\n",
    "        # global_sigma_H_baseline = numpyro.sample(\"global_sigma_H_baseline\", dist.HalfNormal(500))\n",
    "\n",
    "        # global_sigma_g_1_baseline = numpyro.sample(\"global_sigma_g_1_baseline\", dist.HalfNormal(100))\n",
    "        # global_sigma_g_2_baseline = numpyro.sample(\"global_sigma_g_2_baseline\", dist.HalfNormal(100))\n",
    "\n",
    "        \"\"\" Baseline \"\"\"\n",
    "        with numpyro.plate(site.n_response, self.n_response, dim=-1):\n",
    "            with numpyro.plate(\"n_baseline\", n_baseline, dim=-2):\n",
    "                # \"\"\" Hyper-priors \"\"\"\n",
    "                # mu_a_baseline = numpyro.sample(\n",
    "                #     \"mu_a_baseline\",\n",
    "                #     dist.TruncatedNormal(50, 50, low=0)\n",
    "                # )\n",
    "                # sigma_a_baseline = numpyro.sample(\n",
    "                #     \"sigma_a_baseline\",\n",
    "                #     dist.HalfNormal(50)\n",
    "                # )\n",
    "\n",
    "                # sigma_b_baseline = numpyro.sample(\"sigma_b_baseline\", dist.HalfNormal(global_sigma_b_baseline))\n",
    "                # sigma_v_baseline = numpyro.sample(\"sigma_v_baseline\", dist.HalfNormal(global_sigma_v_baseline))\n",
    "\n",
    "                # sigma_L_baseline = numpyro.sample(\"sigma_L_baseline\", dist.HalfNormal(global_sigma_L_baseline))\n",
    "                # sigma_H_baseline = numpyro.sample(\"sigma_H_baseline\", dist.HalfNormal(global_sigma_H_baseline))\n",
    "\n",
    "                # sigma_g_1_baseline = numpyro.sample(\"sigma_g_1_baseline\", dist.HalfNormal(global_sigma_g_1_baseline))\n",
    "                # sigma_g_2_baseline = numpyro.sample(\"sigma_g_2_baseline\", dist.HalfNormal(global_sigma_g_2_baseline))\n",
    "\n",
    "                with numpyro.plate(site.n_subject, n_subject, dim=-3):\n",
    "                    \"\"\" Priors \"\"\"\n",
    "                    a_baseline = numpyro.sample(\n",
    "                        \"a_baseline\",\n",
    "                        dist.TruncatedNormal(50, 50, low=0)\n",
    "                    )\n",
    "\n",
    "                    b_baseline = numpyro.sample(\"b_baseline\", dist.HalfNormal(100))\n",
    "                    v_baseline = numpyro.sample(\"v_baseline\", dist.HalfNormal(100))\n",
    "\n",
    "                    L_baseline = numpyro.sample(\"L_baseline\", dist.HalfNormal(50))\n",
    "                    H_baseline = numpyro.sample(\"H_baseline\", dist.HalfNormal(500))\n",
    "\n",
    "                    sigma_g_1_baseline = numpyro.sample(\"sigma_g_1_baseline\", dist.HalfNormal(5))\n",
    "                    sigma_g_2_baseline = numpyro.sample(\"sigma_g_2_baseline\", dist.HalfNormal(5))\n",
    "\n",
    "                    g_1_baseline = numpyro.sample(\"g_1_baseline\", dist.Exponential(sigma_g_1_baseline))\n",
    "                    g_2_baseline = numpyro.sample(\"g_2_baseline\", dist.Exponential(sigma_g_2_baseline))\n",
    "\n",
    "        \"\"\" Delta \"\"\"\n",
    "        with numpyro.plate(site.n_response, self.n_response, dim=-1):\n",
    "            with numpyro.plate(\"n_delta\", n_delta, dim=-2):\n",
    "                # mu_a_delta = numpyro.sample(\"mu_a_delta\", dist.Normal(0, 100))\n",
    "                # sigma_a_delta = numpyro.sample(\"sigma_a_delta\", dist.HalfNormal(100))\n",
    "\n",
    "                with numpyro.plate(site.n_subject, n_subject, dim=-3):\n",
    "                    a_delta = numpyro.sample(\"a_delta\", dist.Normal(0, 100))\n",
    "\n",
    "        with numpyro.plate(site.n_response, self.n_response, dim=-1):\n",
    "            with numpyro.plate(\"n_feature0\", n_feature0, dim=-2):\n",
    "                with numpyro.plate(site.n_subject, n_subject, dim=-3):\n",
    "                    a = numpyro.deterministic(\n",
    "                        site.a,\n",
    "                        jnp.concatenate([a_baseline, a_baseline + a_delta], axis=1)\n",
    "                    )\n",
    "\n",
    "                    b = numpyro.deterministic(\n",
    "                        site.b,\n",
    "                        jnp.concatenate([b_baseline, b_baseline], axis=1)\n",
    "                    )\n",
    "                    v = numpyro.deterministic(\n",
    "                        site.v,\n",
    "                        jnp.concatenate([v_baseline, v_baseline], axis=1)\n",
    "                    )\n",
    "\n",
    "                    L = numpyro.deterministic(\n",
    "                        site.L,\n",
    "                        jnp.concatenate([L_baseline, L_baseline], axis=1)\n",
    "                    )\n",
    "                    H = numpyro.deterministic(\n",
    "                        site.H,\n",
    "                        jnp.concatenate([H_baseline, H_baseline], axis=1)\n",
    "                    )\n",
    "\n",
    "                    g_1 = numpyro.deterministic(\n",
    "                        site.g_1,\n",
    "                        jnp.concatenate([g_1_baseline, g_1_baseline], axis=1)\n",
    "                    )\n",
    "                    g_2 = numpyro.deterministic(\n",
    "                        site.g_2,\n",
    "                        jnp.concatenate([g_2_baseline, g_2_baseline], axis=1)\n",
    "                    )\n",
    "\n",
    "                    # a = numpyro.deterministic(site.a, a_baseline)\n",
    "\n",
    "                    # b = numpyro.deterministic(site.b, b_baseline)\n",
    "                    # v = numpyro.deterministic(site.v, v_baseline)\n",
    "\n",
    "                    # L = numpyro.deterministic(site.L, L_baseline)\n",
    "                    # H = numpyro.deterministic(site.H, H_baseline)\n",
    "\n",
    "                    # g_1 = numpyro.deterministic(site.g_1, g_1_baseline)\n",
    "                    # g_2 = numpyro.deterministic(site.g_2, g_2_baseline)\n",
    "\n",
    "        \"\"\" Model \"\"\"\n",
    "        mu = numpyro.deterministic(\n",
    "            site.mu,\n",
    "            L[subject, feature0]\n",
    "            + jnp.maximum(\n",
    "                0,\n",
    "                -1\n",
    "                + (H[subject, feature0] + 1)\n",
    "                / jnp.power(\n",
    "                    1\n",
    "                    + (jnp.power(1 + H[subject, feature0], v[subject, feature0]) - 1)\n",
    "                    * jnp.exp(-b[subject, feature0] * (intensity - a[subject, feature0])),\n",
    "                    1 / v[subject, feature0]\n",
    "                )\n",
    "            )\n",
    "        )\n",
    "        beta = numpyro.deterministic(\n",
    "            site.beta,\n",
    "            g_1[subject, feature0] + g_2[subject, feature0] * (1 / mu) ** 2\n",
    "        )\n",
    "\n",
    "        \"\"\" Penalty \"\"\"\n",
    "        penalty = (jnp.fabs(a_baseline + a_delta) - (a_baseline + a_delta))\n",
    "        numpyro.factor(\"penalty\", -penalty)\n",
    "\n",
    "        \"\"\" Observation \"\"\"\n",
    "        with numpyro.plate(site.data, n_data):\n",
    "            return numpyro.sample(\n",
    "                site.obs,\n",
    "                dist.Gamma(concentration=mu * beta, rate=beta).to_event(1),\n",
    "                obs=response_obs\n",
    "            )\n"
   ]
  },
  {
   "cell_type": "code",
   "execution_count": 5,
   "metadata": {},
   "outputs": [
    {
     "name": "stderr",
     "output_type": "stream",
     "text": [
      "2023-10-06 10:54:47,137 - hbmep.config - INFO - Verifying configuration ...\n",
      "2023-10-06 10:54:47,137 - hbmep.config - INFO - Success!\n",
      "2023-10-06 10:54:47,154 - hbmep.model.baseline - INFO - Initialized model with hierarchical_bayesian link\n",
      "2023-10-06 10:54:47,161 - hbmep.dataset.core - INFO - Artefacts will be stored here - /home/vishu/repos/hbmep-paper/reports/human/tms/fit/mixed-effects\n",
      "2023-10-06 10:54:47,162 - hbmep.dataset.core - INFO - Copied config to /home/vishu/repos/hbmep-paper/reports/human/tms/fit/mixed-effects\n",
      "2023-10-06 10:54:47,162 - hbmep.dataset.core - INFO - Processing data ...\n",
      "2023-10-06 10:54:47,163 - hbmep.utils.utils - INFO - func:load took: 0.00 sec\n"
     ]
    }
   ],
   "source": [
    "mu_a_delta = -1.5\n",
    "sigma_a_delta = 1\n",
    "\n",
    "toml_path = \"/home/vishu/repos/hbmep-paper/configs/human/tms/mixed-effects.toml\"\n",
    "CONFIG = Config(toml_path=toml_path)\n",
    "\n",
    "MODEL = Simulation(config=CONFIG, mu_a_delta=mu_a_delta, sigma_a_delta=sigma_a_delta)\n",
    "\n",
    "src = \"/home/vishu/data/hbmep-processed/human/tms/data.csv\"\n",
    "DF = pd.read_csv(src)\n",
    "\n",
    "DF[MODEL.features[0]] = 0\n",
    "DF[MODEL.response] = DF[MODEL.response] * 1000\n",
    "\n",
    "DF, ENCODER_DICT = MODEL.load(df=DF)\n",
    "\n",
    "dest = os.path.join(MODEL.build_dir, \"inference.pkl\")\n",
    "with open(dest, \"rb\") as g:\n",
    "    _, MCMC, POSTERIOR_SAMPLES = pickle.load(g)"
   ]
  },
  {
   "cell_type": "code",
   "execution_count": 6,
   "metadata": {},
   "outputs": [
    {
     "name": "stderr",
     "output_type": "stream",
     "text": [
      "2023-10-06 10:54:47,227 - hbmep.utils.utils - INFO - func:make_prediction_dataset took: 0.01 sec\n"
     ]
    },
    {
     "name": "stderr",
     "output_type": "stream",
     "text": [
      "2023-10-06 10:55:22,884 - hbmep.utils.utils - INFO - func:predict took: 35.66 sec\n"
     ]
    }
   ],
   "source": [
    "prefix = \"hbm-vs-nhbm\"\n",
    "prefix_2 = f\"mu_a_delta_{mu_a_delta}_sigma_a_delta_{sigma_a_delta}\"\n",
    "\n",
    "priors = {\n",
    "    site.a, \"a_baseline\",\n",
    "    site.b, \"b_baseline\",\n",
    "    site.v, \"v_baseline\",\n",
    "    site.L, \"L_baseline\",\n",
    "    site.H, \"H_baseline\",\n",
    "    site.g_1, \"g_1_baseline\",\n",
    "    site.g_2, \"g_2_baseline\",\n",
    "    site.mu, site.beta\n",
    "}\n",
    "\n",
    "POST = {u: v for u, v in POSTERIOR_SAMPLES.items() if u not in priors}\n",
    "\n",
    "\"\"\" Experiment \"\"\"\n",
    "TOTAL_SUBJECTS = 200\n",
    "\n",
    "PREDICTION_DF = \\\n",
    "    pd.DataFrame(np.arange(0, TOTAL_SUBJECTS, 1), columns=[MODEL.subject]) \\\n",
    "    .merge(\n",
    "        pd.DataFrame(np.arange(0, 2, 1), columns=MODEL.features),\n",
    "        how=\"cross\"\n",
    "    ) \\\n",
    "    .merge(\n",
    "        pd.DataFrame([0, 100], columns=[MODEL.intensity]),\n",
    "        how=\"cross\"\n",
    "    )\n",
    "PREDICTION_DF = MODEL.make_prediction_dataset(df=PREDICTION_DF, num_points=60)\n",
    "\n",
    "POSTERIOR_PREDICTIVE = MODEL.predict(df=PREDICTION_DF, posterior_samples=POST)\n",
    "OBS = np.array(POSTERIOR_PREDICTIVE[site.obs])\n",
    "\n",
    "N_space = [2, 4, 6, 8, 12, 16, 20]\n",
    "# N_space = [2, 4, 6, 8, 10, 12]\n",
    "\n",
    "keys = jax.random.split(MODEL.rng_key, num=2)\n",
    "\n",
    "n_draws = 50\n",
    "draws_space = \\\n",
    "    jax.random.choice(\n",
    "        key=keys[0],\n",
    "        a=np.arange(0, CONFIG.MCMC_PARAMS[\"num_chains\"] * CONFIG.MCMC_PARAMS[\"num_samples\"], 1),\n",
    "        shape=(n_draws,),\n",
    "        replace=False\n",
    "    ) \\\n",
    "    .tolist()\n",
    "\n",
    "n_repeats = 50\n",
    "repeats_space = \\\n",
    "    jax.random.choice(\n",
    "        key=keys[1],\n",
    "        a=np.arange(0, n_repeats * 100, 1),\n",
    "        shape=(n_repeats,),\n",
    "        replace=False\n",
    "    ) \\\n",
    "    .tolist()\n",
    "\n"
   ]
  },
  {
   "cell_type": "code",
   "execution_count": 7,
   "metadata": {},
   "outputs": [
    {
     "data": {
      "text/plain": [
       "'/home/vishu/repos/hbmep-paper/reports/human/tms/fit/mixed-effects'"
      ]
     },
     "execution_count": 7,
     "metadata": {},
     "output_type": "execute_result"
    }
   ],
   "source": [
    "CONFIG.BUILD_DIR"
   ]
  },
  {
   "cell_type": "code",
   "execution_count": 53,
   "metadata": {},
   "outputs": [
    {
     "name": "stderr",
     "output_type": "stream",
     "text": [
      "2023-10-06 11:33:23,293 - hbmep.config - INFO - Verifying configuration ...\n",
      "2023-10-06 11:33:23,293 - hbmep.config - INFO - Success!\n",
      "2023-10-06 11:33:23,294 - hbmep.model.baseline - INFO - Initialized model with non_hierarchical_bayesian link\n",
      "2023-10-06 11:33:23,294 - hbmep.dataset.core - INFO - Artefacts will be stored here - /home/vishu/repos/hbmep-paper/reports/human/tms/fit/mixed-effects/nhb-debug\n",
      "2023-10-06 11:33:23,295 - hbmep.dataset.core - INFO - Copied config to /home/vishu/repos/hbmep-paper/reports/human/tms/fit/mixed-effects/nhb-debug\n",
      "2023-10-06 11:33:23,296 - hbmep.dataset.core - INFO - Processing data ...\n",
      "2023-10-06 11:33:23,297 - hbmep.utils.utils - INFO - func:load took: 0.00 sec\n"
     ]
    }
   ],
   "source": [
    "# N = N_space[N_counter]\n",
    "# draw_ind = draws_space[draw_counter]\n",
    "# seed = repeats_space[repeat_counter]\n",
    "\n",
    "N = 20\n",
    "draw_ind = draws_space[32]\n",
    "seed = repeats_space[29]\n",
    "\n",
    "subjects_ind = \\\n",
    "    jax.random.choice(\n",
    "        key=jax.random.PRNGKey(seed),\n",
    "        a=np.arange(0, TOTAL_SUBJECTS, 1),\n",
    "        shape=(N,),\n",
    "        replace=False\n",
    "    ) \\\n",
    "    .tolist()\n",
    "\n",
    "ind = PREDICTION_DF[MODEL.subject].isin(subjects_ind)\n",
    "df = PREDICTION_DF[ind].reset_index(drop=True).copy()\n",
    "df[MODEL.response] = OBS[draw_ind, ...][ind, ...]\n",
    "\n",
    "\"\"\" Build model \"\"\"\n",
    "config = Config(toml_path=toml_path)\n",
    "# config.MCMC_PARAMS[\"num_warmup\"] += 1000\n",
    "\n",
    "config.BUILD_DIR = os.path.join(CONFIG.BUILD_DIR, \"nhb-debug\")\n",
    "model = NonHierarchicalBayesianModel(config=config)\n",
    "\n",
    "\"\"\" Load data \"\"\"\n",
    "df, _ = model.load(df=df)\n",
    "\n",
    "# \"\"\" Fit \"\"\"\n",
    "# mcmc, posterior_samples = model.run_inference(df=df)\n"
   ]
  },
  {
   "cell_type": "code",
   "execution_count": 54,
   "metadata": {},
   "outputs": [
    {
     "name": "stderr",
     "output_type": "stream",
     "text": [
      "2023-10-06 11:33:25,434 - hbmep.config - INFO - Verifying configuration ...\n",
      "2023-10-06 11:33:25,434 - hbmep.config - INFO - Success!\n",
      "2023-10-06 11:33:25,435 - hbmep.model.baseline - INFO - Initialized model with non_hierarchical_bayesian link\n",
      "2023-10-06 11:33:25,435 - hbmep.dataset.core - INFO - Artefacts will be stored here - /home/vishu/repos/hbmep-paper/reports/human/tms/fit/mixed-effects/nhb-debug/subject_0\n",
      "2023-10-06 11:33:25,436 - hbmep.dataset.core - INFO - Copied config to /home/vishu/repos/hbmep-paper/reports/human/tms/fit/mixed-effects/nhb-debug/subject_0\n",
      "2023-10-06 11:33:25,437 - hbmep.dataset.core - INFO - Processing data ...\n",
      "2023-10-06 11:33:25,438 - hbmep.utils.utils - INFO - func:load took: 0.00 sec\n",
      "2023-10-06 11:33:25,439 - hbmep.model.baseline - INFO - Running inference with non_hierarchical_bayesian ...\n"
     ]
    },
    {
     "data": {
      "application/vnd.jupyter.widget-view+json": {
       "model_id": "9292bfc4888441dd81582fa5baf14a1f",
       "version_major": 2,
       "version_minor": 0
      },
      "text/plain": [
       "  0%|          | 0/1500 [00:00<?, ?it/s]"
      ]
     },
     "metadata": {},
     "output_type": "display_data"
    },
    {
     "data": {
      "application/vnd.jupyter.widget-view+json": {
       "model_id": "01a552db7fbe473e900680d5155afba6",
       "version_major": 2,
       "version_minor": 0
      },
      "text/plain": [
       "  0%|          | 0/1500 [00:00<?, ?it/s]"
      ]
     },
     "metadata": {},
     "output_type": "display_data"
    },
    {
     "data": {
      "application/vnd.jupyter.widget-view+json": {
       "model_id": "caf1c55b14fa4a3784408bd44c633e3d",
       "version_major": 2,
       "version_minor": 0
      },
      "text/plain": [
       "  0%|          | 0/1500 [00:00<?, ?it/s]"
      ]
     },
     "metadata": {},
     "output_type": "display_data"
    },
    {
     "data": {
      "application/vnd.jupyter.widget-view+json": {
       "model_id": "be006982bb834a3a9cf857c42f4b702f",
       "version_major": 2,
       "version_minor": 0
      },
      "text/plain": [
       "  0%|          | 0/1500 [00:00<?, ?it/s]"
      ]
     },
     "metadata": {},
     "output_type": "display_data"
    },
    {
     "name": "stderr",
     "output_type": "stream",
     "text": [
      "2023-10-06 11:33:30,354 - hbmep.utils.utils - INFO - func:run_inference took: 4.92 sec\n",
      "2023-10-06 11:33:30,363 - hbmep.utils.utils - INFO - func:make_prediction_dataset took: 0.00 sec\n"
     ]
    },
    {
     "name": "stdout",
     "output_type": "stream",
     "text": [
      "\n",
      "                               mean       std    median      2.5%     97.5%     n_eff     r_hat\n",
      "        H_baseline[0,0,0]     39.76      3.81     39.54     32.76     47.58    466.43      1.01\n",
      "        L_baseline[0,0,0]      5.90      0.40      5.88      5.12      6.74    383.59      1.01\n",
      "        a_baseline[0,0,0]     22.89      3.87     23.75     15.60     29.09    216.39      1.01\n",
      "           a_delta[0,0,0]     -1.03      1.86     -0.99     -4.90      2.41    439.75      1.00\n",
      "        b_baseline[0,0,0]     13.17      4.93     13.80      3.72     21.45    332.62      1.00\n",
      "      g_1_baseline[0,0,0]      0.01      0.01      0.01      0.00      0.02    594.26      1.01\n",
      "      g_2_baseline[0,0,0]     57.99     12.70     57.45     32.35     81.32    345.35      1.02\n",
      "sigma_g_1_baseline[0,0,0]      6.16      3.18      5.89      0.38     11.95    489.61      1.01\n",
      "sigma_g_2_baseline[0,0,0]      0.03      0.03      0.03      0.00      0.09    664.03      1.00\n",
      "        v_baseline[0,0,0]     42.38     23.85     38.44      2.95     91.84    188.23      1.01\n",
      "\n",
      "Number of divergences: 3210\n"
     ]
    },
    {
     "name": "stderr",
     "output_type": "stream",
     "text": [
      "2023-10-06 11:33:31,093 - hbmep.utils.utils - INFO - func:predict took: 0.73 sec\n",
      "2023-10-06 11:33:31,095 - hbmep.model.baseline - INFO - Rendering ...\n",
      "2023-10-06 11:33:31,555 - hbmep.model.baseline - INFO - Saved to /home/vishu/repos/hbmep-paper/reports/human/tms/fit/mixed-effects/nhb-debug/subject_0/recruitment_curves.pdf\n",
      "2023-10-06 11:33:31,555 - hbmep.utils.utils - INFO - func:render_recruitment_curves took: 0.46 sec\n",
      "2023-10-06 11:33:31,559 - hbmep.model.baseline - INFO - Rendering Posterior Predictive Check ...\n",
      "2023-10-06 11:33:32,001 - hbmep.model.baseline - INFO - Saved to /home/vishu/repos/hbmep-paper/reports/human/tms/fit/mixed-effects/nhb-debug/subject_0/posterior_predictive_check.pdf\n",
      "2023-10-06 11:33:32,001 - hbmep.utils.utils - INFO - func:_render_predictive_check took: 0.45 sec\n",
      "2023-10-06 11:33:32,001 - hbmep.utils.utils - INFO - func:render_predictive_check took: 0.45 sec\n",
      "2023-10-06 11:33:32,002 - hbmep.config - INFO - Verifying configuration ...\n",
      "2023-10-06 11:33:32,002 - hbmep.config - INFO - Success!\n",
      "2023-10-06 11:33:32,003 - hbmep.model.baseline - INFO - Initialized model with non_hierarchical_bayesian link\n",
      "2023-10-06 11:33:32,003 - hbmep.dataset.core - INFO - Artefacts will be stored here - /home/vishu/repos/hbmep-paper/reports/human/tms/fit/mixed-effects/nhb-debug/subject_1\n",
      "2023-10-06 11:33:32,004 - hbmep.dataset.core - INFO - Copied config to /home/vishu/repos/hbmep-paper/reports/human/tms/fit/mixed-effects/nhb-debug/subject_1\n",
      "2023-10-06 11:33:32,004 - hbmep.dataset.core - INFO - Processing data ...\n",
      "2023-10-06 11:33:32,005 - hbmep.utils.utils - INFO - func:load took: 0.00 sec\n",
      "2023-10-06 11:33:32,006 - hbmep.model.baseline - INFO - Running inference with non_hierarchical_bayesian ...\n"
     ]
    },
    {
     "data": {
      "application/vnd.jupyter.widget-view+json": {
       "model_id": "56ffcdca76e340318fd83b619a65f345",
       "version_major": 2,
       "version_minor": 0
      },
      "text/plain": [
       "  0%|          | 0/1500 [00:00<?, ?it/s]"
      ]
     },
     "metadata": {},
     "output_type": "display_data"
    },
    {
     "data": {
      "application/vnd.jupyter.widget-view+json": {
       "model_id": "a432e7bb59024d919b7d5db2fe3a0f9b",
       "version_major": 2,
       "version_minor": 0
      },
      "text/plain": [
       "  0%|          | 0/1500 [00:00<?, ?it/s]"
      ]
     },
     "metadata": {},
     "output_type": "display_data"
    },
    {
     "data": {
      "application/vnd.jupyter.widget-view+json": {
       "model_id": "36a030996311479aaf29f49e177e4a88",
       "version_major": 2,
       "version_minor": 0
      },
      "text/plain": [
       "  0%|          | 0/1500 [00:00<?, ?it/s]"
      ]
     },
     "metadata": {},
     "output_type": "display_data"
    },
    {
     "data": {
      "application/vnd.jupyter.widget-view+json": {
       "model_id": "bcb07b91285748d6bb832e53b28050f4",
       "version_major": 2,
       "version_minor": 0
      },
      "text/plain": [
       "  0%|          | 0/1500 [00:00<?, ?it/s]"
      ]
     },
     "metadata": {},
     "output_type": "display_data"
    },
    {
     "name": "stderr",
     "output_type": "stream",
     "text": [
      "2023-10-06 11:33:38,003 - hbmep.utils.utils - INFO - func:run_inference took: 6.00 sec\n",
      "2023-10-06 11:33:38,013 - hbmep.utils.utils - INFO - func:make_prediction_dataset took: 0.00 sec\n"
     ]
    },
    {
     "name": "stdout",
     "output_type": "stream",
     "text": [
      "\n",
      "                               mean       std    median      2.5%     97.5%     n_eff     r_hat\n",
      "        H_baseline[0,0,0]   2284.05     87.29   2282.78   2115.08   2450.99    579.22      1.01\n",
      "        L_baseline[0,0,0]      4.96      0.25      4.95      4.50      5.44    381.37      1.01\n",
      "        a_baseline[0,0,0]     25.82      1.03     25.91     23.16     27.50    109.65      1.05\n",
      "           a_delta[0,0,0]      0.32      0.62      0.27     -1.08      1.51    129.00      1.04\n",
      "        b_baseline[0,0,0]     15.19      5.99     16.14      4.24     24.13    200.63      1.01\n",
      "      g_1_baseline[0,0,0]      0.00      0.00      0.00      0.00      0.00    405.18      1.01\n",
      "      g_2_baseline[0,0,0]     76.24     21.08     73.56     40.90    119.97    369.32      1.01\n",
      "sigma_g_1_baseline[0,0,0]      6.54      3.19      6.09      1.12     12.59    444.16      1.01\n",
      "sigma_g_2_baseline[0,0,0]      0.03      0.02      0.02      0.00      0.07    360.55      1.00\n",
      "        v_baseline[0,0,0]      7.35      3.63      7.33      0.08     13.30    192.29      1.01\n",
      "\n",
      "Number of divergences: 3354\n"
     ]
    },
    {
     "name": "stderr",
     "output_type": "stream",
     "text": [
      "2023-10-06 11:33:38,738 - hbmep.utils.utils - INFO - func:predict took: 0.72 sec\n",
      "2023-10-06 11:33:38,740 - hbmep.model.baseline - INFO - Rendering ...\n",
      "2023-10-06 11:33:39,111 - hbmep.model.baseline - INFO - Saved to /home/vishu/repos/hbmep-paper/reports/human/tms/fit/mixed-effects/nhb-debug/subject_1/recruitment_curves.pdf\n",
      "2023-10-06 11:33:39,112 - hbmep.utils.utils - INFO - func:render_recruitment_curves took: 0.37 sec\n",
      "2023-10-06 11:33:39,114 - hbmep.model.baseline - INFO - Rendering Posterior Predictive Check ...\n",
      "2023-10-06 11:33:39,549 - hbmep.model.baseline - INFO - Saved to /home/vishu/repos/hbmep-paper/reports/human/tms/fit/mixed-effects/nhb-debug/subject_1/posterior_predictive_check.pdf\n",
      "2023-10-06 11:33:39,550 - hbmep.utils.utils - INFO - func:_render_predictive_check took: 0.44 sec\n",
      "2023-10-06 11:33:39,550 - hbmep.utils.utils - INFO - func:render_predictive_check took: 0.44 sec\n",
      "2023-10-06 11:33:39,551 - hbmep.config - INFO - Verifying configuration ...\n",
      "2023-10-06 11:33:39,551 - hbmep.config - INFO - Success!\n",
      "2023-10-06 11:33:39,552 - hbmep.model.baseline - INFO - Initialized model with non_hierarchical_bayesian link\n",
      "2023-10-06 11:33:39,552 - hbmep.dataset.core - INFO - Artefacts will be stored here - /home/vishu/repos/hbmep-paper/reports/human/tms/fit/mixed-effects/nhb-debug/subject_2\n",
      "2023-10-06 11:33:39,552 - hbmep.dataset.core - INFO - Copied config to /home/vishu/repos/hbmep-paper/reports/human/tms/fit/mixed-effects/nhb-debug/subject_2\n",
      "2023-10-06 11:33:39,553 - hbmep.dataset.core - INFO - Processing data ...\n",
      "2023-10-06 11:33:39,553 - hbmep.utils.utils - INFO - func:load took: 0.00 sec\n",
      "2023-10-06 11:33:39,554 - hbmep.model.baseline - INFO - Running inference with non_hierarchical_bayesian ...\n"
     ]
    },
    {
     "data": {
      "application/vnd.jupyter.widget-view+json": {
       "model_id": "235b80af949e4d1692c7bc53f6436044",
       "version_major": 2,
       "version_minor": 0
      },
      "text/plain": [
       "  0%|          | 0/1500 [00:00<?, ?it/s]"
      ]
     },
     "metadata": {},
     "output_type": "display_data"
    },
    {
     "data": {
      "application/vnd.jupyter.widget-view+json": {
       "model_id": "418a427cab144777ae257e37f1923866",
       "version_major": 2,
       "version_minor": 0
      },
      "text/plain": [
       "  0%|          | 0/1500 [00:00<?, ?it/s]"
      ]
     },
     "metadata": {},
     "output_type": "display_data"
    },
    {
     "data": {
      "application/vnd.jupyter.widget-view+json": {
       "model_id": "cb941b3f1e3b40dfa0e16ae4ec3784ad",
       "version_major": 2,
       "version_minor": 0
      },
      "text/plain": [
       "  0%|          | 0/1500 [00:00<?, ?it/s]"
      ]
     },
     "metadata": {},
     "output_type": "display_data"
    },
    {
     "data": {
      "application/vnd.jupyter.widget-view+json": {
       "model_id": "53c81cbd0b6a44dd91991da1dbce3252",
       "version_major": 2,
       "version_minor": 0
      },
      "text/plain": [
       "  0%|          | 0/1500 [00:00<?, ?it/s]"
      ]
     },
     "metadata": {},
     "output_type": "display_data"
    },
    {
     "name": "stderr",
     "output_type": "stream",
     "text": [
      "2023-10-06 11:33:47,293 - hbmep.utils.utils - INFO - func:run_inference took: 7.74 sec\n",
      "2023-10-06 11:33:47,302 - hbmep.utils.utils - INFO - func:make_prediction_dataset took: 0.00 sec\n"
     ]
    },
    {
     "name": "stdout",
     "output_type": "stream",
     "text": [
      "\n",
      "                               mean       std    median      2.5%     97.5%     n_eff     r_hat\n",
      "        H_baseline[0,0,0]   1831.27     73.97   1831.51   1691.79   1976.96    259.46      1.01\n",
      "        L_baseline[0,0,0]      6.05      0.32      6.05      5.39      6.66    376.60      1.01\n",
      "        a_baseline[0,0,0]     23.67      1.25     23.70     21.06     25.96    246.37      1.01\n",
      "           a_delta[0,0,0]      2.50      0.86      2.47      0.85      4.20    157.72      1.02\n",
      "        b_baseline[0,0,0]      9.86      4.73     10.64      0.26     16.10    159.12      1.01\n",
      "      g_1_baseline[0,0,0]      0.00      0.00      0.00      0.00      0.01    445.66      1.02\n",
      "      g_2_baseline[0,0,0]     84.37     21.23     82.78     48.09    127.70    291.90      1.01\n",
      "sigma_g_1_baseline[0,0,0]      6.15      3.22      5.80      0.66     12.02    312.90      1.02\n",
      "sigma_g_2_baseline[0,0,0]      0.03      0.02      0.02      0.00      0.07    327.99      1.00\n",
      "        v_baseline[0,0,0]     22.10     10.87     23.69      0.28     37.79    166.72      1.01\n",
      "\n",
      "Number of divergences: 3323\n"
     ]
    },
    {
     "name": "stderr",
     "output_type": "stream",
     "text": [
      "2023-10-06 11:33:48,026 - hbmep.utils.utils - INFO - func:predict took: 0.72 sec\n",
      "2023-10-06 11:33:48,027 - hbmep.model.baseline - INFO - Rendering ...\n",
      "2023-10-06 11:33:48,396 - hbmep.model.baseline - INFO - Saved to /home/vishu/repos/hbmep-paper/reports/human/tms/fit/mixed-effects/nhb-debug/subject_2/recruitment_curves.pdf\n",
      "2023-10-06 11:33:48,396 - hbmep.utils.utils - INFO - func:render_recruitment_curves took: 0.37 sec\n",
      "2023-10-06 11:33:48,398 - hbmep.model.baseline - INFO - Rendering Posterior Predictive Check ...\n",
      "2023-10-06 11:33:48,827 - hbmep.model.baseline - INFO - Saved to /home/vishu/repos/hbmep-paper/reports/human/tms/fit/mixed-effects/nhb-debug/subject_2/posterior_predictive_check.pdf\n",
      "2023-10-06 11:33:48,828 - hbmep.utils.utils - INFO - func:_render_predictive_check took: 0.43 sec\n",
      "2023-10-06 11:33:48,828 - hbmep.utils.utils - INFO - func:render_predictive_check took: 0.43 sec\n",
      "2023-10-06 11:33:48,829 - hbmep.config - INFO - Verifying configuration ...\n",
      "2023-10-06 11:33:48,829 - hbmep.config - INFO - Success!\n",
      "2023-10-06 11:33:48,829 - hbmep.model.baseline - INFO - Initialized model with non_hierarchical_bayesian link\n",
      "2023-10-06 11:33:48,830 - hbmep.dataset.core - INFO - Artefacts will be stored here - /home/vishu/repos/hbmep-paper/reports/human/tms/fit/mixed-effects/nhb-debug/subject_3\n",
      "2023-10-06 11:33:48,830 - hbmep.dataset.core - INFO - Copied config to /home/vishu/repos/hbmep-paper/reports/human/tms/fit/mixed-effects/nhb-debug/subject_3\n",
      "2023-10-06 11:33:48,831 - hbmep.dataset.core - INFO - Processing data ...\n",
      "2023-10-06 11:33:48,831 - hbmep.utils.utils - INFO - func:load took: 0.00 sec\n",
      "2023-10-06 11:33:48,832 - hbmep.model.baseline - INFO - Running inference with non_hierarchical_bayesian ...\n"
     ]
    },
    {
     "data": {
      "application/vnd.jupyter.widget-view+json": {
       "model_id": "2f58d7389c5949e6b2619164ba3d34e4",
       "version_major": 2,
       "version_minor": 0
      },
      "text/plain": [
       "  0%|          | 0/1500 [00:00<?, ?it/s]"
      ]
     },
     "metadata": {},
     "output_type": "display_data"
    },
    {
     "data": {
      "application/vnd.jupyter.widget-view+json": {
       "model_id": "37e1a6c6c60444f98d051d0fe74a3da7",
       "version_major": 2,
       "version_minor": 0
      },
      "text/plain": [
       "  0%|          | 0/1500 [00:00<?, ?it/s]"
      ]
     },
     "metadata": {},
     "output_type": "display_data"
    },
    {
     "data": {
      "application/vnd.jupyter.widget-view+json": {
       "model_id": "a41159067b884bff86a8836691c774b3",
       "version_major": 2,
       "version_minor": 0
      },
      "text/plain": [
       "  0%|          | 0/1500 [00:00<?, ?it/s]"
      ]
     },
     "metadata": {},
     "output_type": "display_data"
    },
    {
     "data": {
      "application/vnd.jupyter.widget-view+json": {
       "model_id": "a41b7d6aca414a67ae884c158ab0c3cf",
       "version_major": 2,
       "version_minor": 0
      },
      "text/plain": [
       "  0%|          | 0/1500 [00:00<?, ?it/s]"
      ]
     },
     "metadata": {},
     "output_type": "display_data"
    },
    {
     "name": "stderr",
     "output_type": "stream",
     "text": [
      "2023-10-06 11:33:55,672 - hbmep.utils.utils - INFO - func:run_inference took: 6.84 sec\n",
      "2023-10-06 11:33:55,682 - hbmep.utils.utils - INFO - func:make_prediction_dataset took: 0.00 sec\n"
     ]
    },
    {
     "name": "stdout",
     "output_type": "stream",
     "text": [
      "\n",
      "                               mean       std    median      2.5%     97.5%     n_eff     r_hat\n",
      "        H_baseline[0,0,0]    259.00     57.72    251.49    168.46    353.92    265.40      1.01\n",
      "        L_baseline[0,0,0]      2.58      0.10      2.57      2.38      2.77    651.36      1.00\n",
      "        a_baseline[0,0,0]     25.25      1.79     25.25     21.88     28.66    429.43      1.00\n",
      "           a_delta[0,0,0]     -0.98      1.42     -1.00     -3.75      1.64    426.74      1.01\n",
      "        b_baseline[0,0,0]      5.58      2.21      5.90      1.38      9.14    218.62      1.00\n",
      "      g_1_baseline[0,0,0]      0.00      0.00      0.00      0.00      0.01    686.28      1.01\n",
      "      g_2_baseline[0,0,0]     60.12     11.26     59.73     39.91     83.05    579.62      1.01\n",
      "sigma_g_1_baseline[0,0,0]      6.32      3.22      5.89      0.56     12.25   1010.68      1.00\n",
      "sigma_g_2_baseline[0,0,0]      0.03      0.03      0.03      0.00      0.08    724.66      1.01\n",
      "        v_baseline[0,0,0]     55.32     21.81     58.36     14.78     89.80    214.79      1.00\n",
      "\n",
      "Number of divergences: 3033\n"
     ]
    },
    {
     "name": "stderr",
     "output_type": "stream",
     "text": [
      "2023-10-06 11:33:56,433 - hbmep.utils.utils - INFO - func:predict took: 0.75 sec\n",
      "2023-10-06 11:33:56,435 - hbmep.model.baseline - INFO - Rendering ...\n",
      "2023-10-06 11:33:56,824 - hbmep.model.baseline - INFO - Saved to /home/vishu/repos/hbmep-paper/reports/human/tms/fit/mixed-effects/nhb-debug/subject_3/recruitment_curves.pdf\n",
      "2023-10-06 11:33:56,824 - hbmep.utils.utils - INFO - func:render_recruitment_curves took: 0.39 sec\n",
      "2023-10-06 11:33:56,827 - hbmep.model.baseline - INFO - Rendering Posterior Predictive Check ...\n",
      "2023-10-06 11:33:57,281 - hbmep.model.baseline - INFO - Saved to /home/vishu/repos/hbmep-paper/reports/human/tms/fit/mixed-effects/nhb-debug/subject_3/posterior_predictive_check.pdf\n",
      "2023-10-06 11:33:57,281 - hbmep.utils.utils - INFO - func:_render_predictive_check took: 0.46 sec\n",
      "2023-10-06 11:33:57,282 - hbmep.utils.utils - INFO - func:render_predictive_check took: 0.46 sec\n",
      "2023-10-06 11:33:57,282 - hbmep.config - INFO - Verifying configuration ...\n",
      "2023-10-06 11:33:57,283 - hbmep.config - INFO - Success!\n",
      "2023-10-06 11:33:57,284 - hbmep.model.baseline - INFO - Initialized model with non_hierarchical_bayesian link\n",
      "2023-10-06 11:33:57,284 - hbmep.dataset.core - INFO - Artefacts will be stored here - /home/vishu/repos/hbmep-paper/reports/human/tms/fit/mixed-effects/nhb-debug/subject_4\n",
      "2023-10-06 11:33:57,285 - hbmep.dataset.core - INFO - Copied config to /home/vishu/repos/hbmep-paper/reports/human/tms/fit/mixed-effects/nhb-debug/subject_4\n",
      "2023-10-06 11:33:57,285 - hbmep.dataset.core - INFO - Processing data ...\n",
      "2023-10-06 11:33:57,286 - hbmep.utils.utils - INFO - func:load took: 0.00 sec\n",
      "2023-10-06 11:33:57,287 - hbmep.model.baseline - INFO - Running inference with non_hierarchical_bayesian ...\n"
     ]
    },
    {
     "data": {
      "application/vnd.jupyter.widget-view+json": {
       "model_id": "7eb5438c2cc94edeb1673e48113d014f",
       "version_major": 2,
       "version_minor": 0
      },
      "text/plain": [
       "  0%|          | 0/1500 [00:00<?, ?it/s]"
      ]
     },
     "metadata": {},
     "output_type": "display_data"
    },
    {
     "data": {
      "application/vnd.jupyter.widget-view+json": {
       "model_id": "aa71e3bd0aec48b1a51f08d32c236caa",
       "version_major": 2,
       "version_minor": 0
      },
      "text/plain": [
       "  0%|          | 0/1500 [00:00<?, ?it/s]"
      ]
     },
     "metadata": {},
     "output_type": "display_data"
    },
    {
     "data": {
      "application/vnd.jupyter.widget-view+json": {
       "model_id": "bc95f6d8807447929e69e55f71cb2887",
       "version_major": 2,
       "version_minor": 0
      },
      "text/plain": [
       "  0%|          | 0/1500 [00:00<?, ?it/s]"
      ]
     },
     "metadata": {},
     "output_type": "display_data"
    },
    {
     "data": {
      "application/vnd.jupyter.widget-view+json": {
       "model_id": "9ef2ebaaaca64bab9fc7d7cdf467503d",
       "version_major": 2,
       "version_minor": 0
      },
      "text/plain": [
       "  0%|          | 0/1500 [00:00<?, ?it/s]"
      ]
     },
     "metadata": {},
     "output_type": "display_data"
    },
    {
     "name": "stderr",
     "output_type": "stream",
     "text": [
      "2023-10-06 11:34:03,473 - hbmep.utils.utils - INFO - func:run_inference took: 6.19 sec\n",
      "2023-10-06 11:34:03,482 - hbmep.utils.utils - INFO - func:make_prediction_dataset took: 0.00 sec\n"
     ]
    },
    {
     "name": "stdout",
     "output_type": "stream",
     "text": [
      "\n",
      "                               mean       std    median      2.5%     97.5%     n_eff     r_hat\n",
      "        H_baseline[0,0,0]    186.69     26.51    182.78    146.02    231.95    134.28      1.02\n",
      "        L_baseline[0,0,0]      7.18      0.24      7.17      6.71      7.64    372.58      1.01\n",
      "        a_baseline[0,0,0]     20.00      2.97     19.94     14.03     25.67    146.46      1.02\n",
      "           a_delta[0,0,0]     -1.77      1.31     -1.84     -4.34      0.78    115.16      1.05\n",
      "        b_baseline[0,0,0]      6.21      2.83      6.53      0.04     10.13     65.92      1.04\n",
      "      g_1_baseline[0,0,0]      0.00      0.00      0.00      0.00      0.01    186.65      1.03\n",
      "      g_2_baseline[0,0,0]    264.88     48.85    262.49    164.49    351.37    216.83      1.04\n",
      "sigma_g_1_baseline[0,0,0]      6.52      3.27      6.29      0.70     12.65    220.14      1.01\n",
      "sigma_g_2_baseline[0,0,0]      0.01      0.01      0.01      0.00      0.02    483.06      1.01\n",
      "        v_baseline[0,0,0]     57.06     26.24     59.13      0.01     95.40     64.01      1.04\n",
      "\n",
      "Number of divergences: 2851\n"
     ]
    },
    {
     "name": "stderr",
     "output_type": "stream",
     "text": [
      "2023-10-06 11:34:04,209 - hbmep.utils.utils - INFO - func:predict took: 0.73 sec\n",
      "2023-10-06 11:34:04,211 - hbmep.model.baseline - INFO - Rendering ...\n",
      "2023-10-06 11:34:04,595 - hbmep.model.baseline - INFO - Saved to /home/vishu/repos/hbmep-paper/reports/human/tms/fit/mixed-effects/nhb-debug/subject_4/recruitment_curves.pdf\n",
      "2023-10-06 11:34:04,596 - hbmep.utils.utils - INFO - func:render_recruitment_curves took: 0.39 sec\n",
      "2023-10-06 11:34:04,597 - hbmep.model.baseline - INFO - Rendering Posterior Predictive Check ...\n",
      "2023-10-06 11:34:05,046 - hbmep.model.baseline - INFO - Saved to /home/vishu/repos/hbmep-paper/reports/human/tms/fit/mixed-effects/nhb-debug/subject_4/posterior_predictive_check.pdf\n",
      "2023-10-06 11:34:05,046 - hbmep.utils.utils - INFO - func:_render_predictive_check took: 0.45 sec\n",
      "2023-10-06 11:34:05,046 - hbmep.utils.utils - INFO - func:render_predictive_check took: 0.45 sec\n",
      "2023-10-06 11:34:05,047 - hbmep.config - INFO - Verifying configuration ...\n",
      "2023-10-06 11:34:05,047 - hbmep.config - INFO - Success!\n",
      "2023-10-06 11:34:05,048 - hbmep.model.baseline - INFO - Initialized model with non_hierarchical_bayesian link\n",
      "2023-10-06 11:34:05,048 - hbmep.dataset.core - INFO - Artefacts will be stored here - /home/vishu/repos/hbmep-paper/reports/human/tms/fit/mixed-effects/nhb-debug/subject_5\n",
      "2023-10-06 11:34:05,049 - hbmep.dataset.core - INFO - Copied config to /home/vishu/repos/hbmep-paper/reports/human/tms/fit/mixed-effects/nhb-debug/subject_5\n",
      "2023-10-06 11:34:05,050 - hbmep.dataset.core - INFO - Processing data ...\n",
      "2023-10-06 11:34:05,051 - hbmep.utils.utils - INFO - func:load took: 0.00 sec\n",
      "2023-10-06 11:34:05,051 - hbmep.model.baseline - INFO - Running inference with non_hierarchical_bayesian ...\n"
     ]
    },
    {
     "data": {
      "application/vnd.jupyter.widget-view+json": {
       "model_id": "df6547fda9ea4c7f87cb2e829c6f5d61",
       "version_major": 2,
       "version_minor": 0
      },
      "text/plain": [
       "  0%|          | 0/1500 [00:00<?, ?it/s]"
      ]
     },
     "metadata": {},
     "output_type": "display_data"
    },
    {
     "data": {
      "application/vnd.jupyter.widget-view+json": {
       "model_id": "4d43c32f016540e0aa302e7e3ce634ea",
       "version_major": 2,
       "version_minor": 0
      },
      "text/plain": [
       "  0%|          | 0/1500 [00:00<?, ?it/s]"
      ]
     },
     "metadata": {},
     "output_type": "display_data"
    },
    {
     "data": {
      "application/vnd.jupyter.widget-view+json": {
       "model_id": "788457792d524da6bd997e093325c7aa",
       "version_major": 2,
       "version_minor": 0
      },
      "text/plain": [
       "  0%|          | 0/1500 [00:00<?, ?it/s]"
      ]
     },
     "metadata": {},
     "output_type": "display_data"
    },
    {
     "data": {
      "application/vnd.jupyter.widget-view+json": {
       "model_id": "5575b8bead2948078c5d6b5e2755c3b2",
       "version_major": 2,
       "version_minor": 0
      },
      "text/plain": [
       "  0%|          | 0/1500 [00:00<?, ?it/s]"
      ]
     },
     "metadata": {},
     "output_type": "display_data"
    },
    {
     "name": "stderr",
     "output_type": "stream",
     "text": [
      "2023-10-06 11:34:10,694 - hbmep.utils.utils - INFO - func:run_inference took: 5.64 sec\n",
      "2023-10-06 11:34:10,704 - hbmep.utils.utils - INFO - func:make_prediction_dataset took: 0.00 sec\n"
     ]
    },
    {
     "name": "stdout",
     "output_type": "stream",
     "text": [
      "\n",
      "                               mean       std    median      2.5%     97.5%     n_eff     r_hat\n",
      "        H_baseline[0,0,0]    334.20     38.93    332.32    262.35    412.00    366.42      1.02\n",
      "        L_baseline[0,0,0]      5.33      0.21      5.33      4.92      5.75    338.61      1.01\n",
      "        a_baseline[0,0,0]     19.44      0.74     19.50     17.87     20.73    287.69      1.01\n",
      "           a_delta[0,0,0]     -2.03      0.59     -2.05     -3.25     -0.90    214.28      1.03\n",
      "        b_baseline[0,0,0]     15.46      5.99     16.33      4.22     24.85    309.52      1.00\n",
      "      g_1_baseline[0,0,0]      0.00      0.00      0.00      0.00      0.00    299.80      1.02\n",
      "      g_2_baseline[0,0,0]    186.10     42.48    186.87    100.03    265.99    210.47      1.02\n",
      "sigma_g_1_baseline[0,0,0]      6.50      3.17      6.15      0.75     12.56    536.65      1.00\n",
      "sigma_g_2_baseline[0,0,0]      0.01      0.01      0.01      0.00      0.03    284.50      1.01\n",
      "        v_baseline[0,0,0]     26.45     10.80     27.50      7.22     46.47    304.48      1.00\n",
      "\n",
      "Number of divergences: 3554\n"
     ]
    },
    {
     "name": "stderr",
     "output_type": "stream",
     "text": [
      "2023-10-06 11:34:11,432 - hbmep.utils.utils - INFO - func:predict took: 0.73 sec\n",
      "2023-10-06 11:34:11,434 - hbmep.model.baseline - INFO - Rendering ...\n",
      "2023-10-06 11:34:11,825 - hbmep.model.baseline - INFO - Saved to /home/vishu/repos/hbmep-paper/reports/human/tms/fit/mixed-effects/nhb-debug/subject_5/recruitment_curves.pdf\n",
      "2023-10-06 11:34:11,825 - hbmep.utils.utils - INFO - func:render_recruitment_curves took: 0.39 sec\n",
      "2023-10-06 11:34:11,827 - hbmep.model.baseline - INFO - Rendering Posterior Predictive Check ...\n",
      "2023-10-06 11:34:12,271 - hbmep.model.baseline - INFO - Saved to /home/vishu/repos/hbmep-paper/reports/human/tms/fit/mixed-effects/nhb-debug/subject_5/posterior_predictive_check.pdf\n",
      "2023-10-06 11:34:12,271 - hbmep.utils.utils - INFO - func:_render_predictive_check took: 0.45 sec\n",
      "2023-10-06 11:34:12,271 - hbmep.utils.utils - INFO - func:render_predictive_check took: 0.45 sec\n",
      "2023-10-06 11:34:12,272 - hbmep.config - INFO - Verifying configuration ...\n",
      "2023-10-06 11:34:12,272 - hbmep.config - INFO - Success!\n",
      "2023-10-06 11:34:12,273 - hbmep.model.baseline - INFO - Initialized model with non_hierarchical_bayesian link\n",
      "2023-10-06 11:34:12,273 - hbmep.dataset.core - INFO - Artefacts will be stored here - /home/vishu/repos/hbmep-paper/reports/human/tms/fit/mixed-effects/nhb-debug/subject_6\n",
      "2023-10-06 11:34:12,274 - hbmep.dataset.core - INFO - Copied config to /home/vishu/repos/hbmep-paper/reports/human/tms/fit/mixed-effects/nhb-debug/subject_6\n",
      "2023-10-06 11:34:12,274 - hbmep.dataset.core - INFO - Processing data ...\n",
      "2023-10-06 11:34:12,275 - hbmep.utils.utils - INFO - func:load took: 0.00 sec\n",
      "2023-10-06 11:34:12,276 - hbmep.model.baseline - INFO - Running inference with non_hierarchical_bayesian ...\n"
     ]
    },
    {
     "data": {
      "application/vnd.jupyter.widget-view+json": {
       "model_id": "2e0b54d571f6489989f22037b5ab1b41",
       "version_major": 2,
       "version_minor": 0
      },
      "text/plain": [
       "  0%|          | 0/1500 [00:00<?, ?it/s]"
      ]
     },
     "metadata": {},
     "output_type": "display_data"
    },
    {
     "data": {
      "application/vnd.jupyter.widget-view+json": {
       "model_id": "92efa15405944e0681d0d23f2c5d4cfa",
       "version_major": 2,
       "version_minor": 0
      },
      "text/plain": [
       "  0%|          | 0/1500 [00:00<?, ?it/s]"
      ]
     },
     "metadata": {},
     "output_type": "display_data"
    },
    {
     "data": {
      "application/vnd.jupyter.widget-view+json": {
       "model_id": "36849952da184ddbb8798510a34c2be4",
       "version_major": 2,
       "version_minor": 0
      },
      "text/plain": [
       "  0%|          | 0/1500 [00:00<?, ?it/s]"
      ]
     },
     "metadata": {},
     "output_type": "display_data"
    },
    {
     "data": {
      "application/vnd.jupyter.widget-view+json": {
       "model_id": "ce6a4ad0491b436e9ba28f31ffc10344",
       "version_major": 2,
       "version_minor": 0
      },
      "text/plain": [
       "  0%|          | 0/1500 [00:00<?, ?it/s]"
      ]
     },
     "metadata": {},
     "output_type": "display_data"
    },
    {
     "name": "stderr",
     "output_type": "stream",
     "text": [
      "2023-10-06 11:34:18,001 - hbmep.utils.utils - INFO - func:run_inference took: 5.73 sec\n",
      "2023-10-06 11:34:18,010 - hbmep.utils.utils - INFO - func:make_prediction_dataset took: 0.00 sec\n"
     ]
    },
    {
     "name": "stdout",
     "output_type": "stream",
     "text": [
      "\n",
      "                               mean       std    median      2.5%     97.5%     n_eff     r_hat\n",
      "        H_baseline[0,0,0]    900.74     71.26    896.94    770.09   1043.08    256.47      1.03\n",
      "        L_baseline[0,0,0]     15.73      1.68     15.64     12.65     19.18    364.17      1.00\n",
      "        a_baseline[0,0,0]     23.21      2.53     23.67     17.87     27.19    216.62      1.02\n",
      "           a_delta[0,0,0]     -3.44      1.50     -3.52     -6.30     -0.31    375.19      1.01\n",
      "        b_baseline[0,0,0]     13.76      4.89     14.75      4.10     21.46    325.69      1.01\n",
      "      g_1_baseline[0,0,0]      0.00      0.00      0.00      0.00      0.00    383.96      1.01\n",
      "      g_2_baseline[0,0,0]     51.58     14.06     50.51     24.94     78.78    322.12      1.01\n",
      "sigma_g_1_baseline[0,0,0]      6.27      3.04      5.84      1.40     12.58    502.48      1.00\n",
      "sigma_g_2_baseline[0,0,0]      0.04      0.03      0.04      0.00      0.11    375.75      1.02\n",
      "        v_baseline[0,0,0]     23.44     10.52     23.26      2.16     43.30    253.16      1.01\n",
      "\n",
      "Number of divergences: 3306\n"
     ]
    },
    {
     "name": "stderr",
     "output_type": "stream",
     "text": [
      "2023-10-06 11:34:18,736 - hbmep.utils.utils - INFO - func:predict took: 0.73 sec\n",
      "2023-10-06 11:34:18,738 - hbmep.model.baseline - INFO - Rendering ...\n",
      "2023-10-06 11:34:19,109 - hbmep.model.baseline - INFO - Saved to /home/vishu/repos/hbmep-paper/reports/human/tms/fit/mixed-effects/nhb-debug/subject_6/recruitment_curves.pdf\n",
      "2023-10-06 11:34:19,109 - hbmep.utils.utils - INFO - func:render_recruitment_curves took: 0.37 sec\n",
      "2023-10-06 11:34:19,111 - hbmep.model.baseline - INFO - Rendering Posterior Predictive Check ...\n",
      "2023-10-06 11:34:19,554 - hbmep.model.baseline - INFO - Saved to /home/vishu/repos/hbmep-paper/reports/human/tms/fit/mixed-effects/nhb-debug/subject_6/posterior_predictive_check.pdf\n",
      "2023-10-06 11:34:19,554 - hbmep.utils.utils - INFO - func:_render_predictive_check took: 0.45 sec\n",
      "2023-10-06 11:34:19,555 - hbmep.utils.utils - INFO - func:render_predictive_check took: 0.45 sec\n",
      "2023-10-06 11:34:19,555 - hbmep.config - INFO - Verifying configuration ...\n",
      "2023-10-06 11:34:19,555 - hbmep.config - INFO - Success!\n",
      "2023-10-06 11:34:19,556 - hbmep.model.baseline - INFO - Initialized model with non_hierarchical_bayesian link\n",
      "2023-10-06 11:34:19,556 - hbmep.dataset.core - INFO - Artefacts will be stored here - /home/vishu/repos/hbmep-paper/reports/human/tms/fit/mixed-effects/nhb-debug/subject_7\n",
      "2023-10-06 11:34:19,556 - hbmep.dataset.core - INFO - Copied config to /home/vishu/repos/hbmep-paper/reports/human/tms/fit/mixed-effects/nhb-debug/subject_7\n",
      "2023-10-06 11:34:19,557 - hbmep.dataset.core - INFO - Processing data ...\n",
      "2023-10-06 11:34:19,558 - hbmep.utils.utils - INFO - func:load took: 0.00 sec\n",
      "2023-10-06 11:34:19,558 - hbmep.model.baseline - INFO - Running inference with non_hierarchical_bayesian ...\n"
     ]
    },
    {
     "data": {
      "application/vnd.jupyter.widget-view+json": {
       "model_id": "7cce5432d3fe4453bf19d7e3acb6f45a",
       "version_major": 2,
       "version_minor": 0
      },
      "text/plain": [
       "  0%|          | 0/1500 [00:00<?, ?it/s]"
      ]
     },
     "metadata": {},
     "output_type": "display_data"
    },
    {
     "data": {
      "application/vnd.jupyter.widget-view+json": {
       "model_id": "16204747e5f5444a99b7c17ebc0ecd72",
       "version_major": 2,
       "version_minor": 0
      },
      "text/plain": [
       "  0%|          | 0/1500 [00:00<?, ?it/s]"
      ]
     },
     "metadata": {},
     "output_type": "display_data"
    },
    {
     "data": {
      "application/vnd.jupyter.widget-view+json": {
       "model_id": "0abd63ff7f044a559f834eace9df1d95",
       "version_major": 2,
       "version_minor": 0
      },
      "text/plain": [
       "  0%|          | 0/1500 [00:00<?, ?it/s]"
      ]
     },
     "metadata": {},
     "output_type": "display_data"
    },
    {
     "data": {
      "application/vnd.jupyter.widget-view+json": {
       "model_id": "9cbbcba6c925409fa5bea072c4a705fe",
       "version_major": 2,
       "version_minor": 0
      },
      "text/plain": [
       "  0%|          | 0/1500 [00:00<?, ?it/s]"
      ]
     },
     "metadata": {},
     "output_type": "display_data"
    },
    {
     "name": "stderr",
     "output_type": "stream",
     "text": [
      "2023-10-06 11:34:25,833 - hbmep.utils.utils - INFO - func:run_inference took: 6.27 sec\n",
      "2023-10-06 11:34:25,842 - hbmep.utils.utils - INFO - func:make_prediction_dataset took: 0.00 sec\n"
     ]
    },
    {
     "name": "stdout",
     "output_type": "stream",
     "text": [
      "\n",
      "                               mean       std    median      2.5%     97.5%     n_eff     r_hat\n",
      "        H_baseline[0,0,0]    249.01    285.92    142.16      0.22    845.53     20.42      1.20\n",
      "        L_baseline[0,0,0]     45.46      6.00     46.27     33.46     56.47     18.14      1.19\n",
      "        a_baseline[0,0,0]     67.85     41.96     65.36      0.03    138.89     21.97      1.16\n",
      "           a_delta[0,0,0]     17.09     68.17      6.92    -96.60    143.03      4.10      1.78\n",
      "        b_baseline[0,0,0]      4.14      7.50      1.34      0.00     15.74     16.45      1.25\n",
      "      g_1_baseline[0,0,0]      0.03      0.00      0.03      0.02      0.03    187.92      1.02\n",
      "      g_2_baseline[0,0,0]      1.09      2.82      0.23      0.00      5.89    121.05      1.03\n",
      "sigma_g_1_baseline[0,0,0]      6.11      3.03      5.85      0.97     11.88    206.14      1.01\n",
      "sigma_g_2_baseline[0,0,0]      3.71      2.92      3.00      0.01      9.42    194.00      1.02\n",
      "        v_baseline[0,0,0]     56.52     35.25     53.91      0.47    117.75    161.45      1.01\n",
      "\n",
      "Number of divergences: 3870\n"
     ]
    },
    {
     "name": "stderr",
     "output_type": "stream",
     "text": [
      "2023-10-06 11:34:26,609 - hbmep.utils.utils - INFO - func:predict took: 0.77 sec\n",
      "2023-10-06 11:34:26,611 - hbmep.model.baseline - INFO - Rendering ...\n",
      "2023-10-06 11:34:26,987 - hbmep.model.baseline - INFO - Saved to /home/vishu/repos/hbmep-paper/reports/human/tms/fit/mixed-effects/nhb-debug/subject_7/recruitment_curves.pdf\n",
      "2023-10-06 11:34:26,987 - hbmep.utils.utils - INFO - func:render_recruitment_curves took: 0.38 sec\n",
      "2023-10-06 11:34:26,989 - hbmep.model.baseline - INFO - Rendering Posterior Predictive Check ...\n",
      "2023-10-06 11:34:27,438 - hbmep.model.baseline - INFO - Saved to /home/vishu/repos/hbmep-paper/reports/human/tms/fit/mixed-effects/nhb-debug/subject_7/posterior_predictive_check.pdf\n",
      "2023-10-06 11:34:27,438 - hbmep.utils.utils - INFO - func:_render_predictive_check took: 0.45 sec\n",
      "2023-10-06 11:34:27,438 - hbmep.utils.utils - INFO - func:render_predictive_check took: 0.45 sec\n",
      "2023-10-06 11:34:27,439 - hbmep.config - INFO - Verifying configuration ...\n",
      "2023-10-06 11:34:27,439 - hbmep.config - INFO - Success!\n",
      "2023-10-06 11:34:27,440 - hbmep.model.baseline - INFO - Initialized model with non_hierarchical_bayesian link\n",
      "2023-10-06 11:34:27,440 - hbmep.dataset.core - INFO - Artefacts will be stored here - /home/vishu/repos/hbmep-paper/reports/human/tms/fit/mixed-effects/nhb-debug/subject_8\n",
      "2023-10-06 11:34:27,440 - hbmep.dataset.core - INFO - Copied config to /home/vishu/repos/hbmep-paper/reports/human/tms/fit/mixed-effects/nhb-debug/subject_8\n",
      "2023-10-06 11:34:27,441 - hbmep.dataset.core - INFO - Processing data ...\n",
      "2023-10-06 11:34:27,442 - hbmep.utils.utils - INFO - func:load took: 0.00 sec\n",
      "2023-10-06 11:34:27,442 - hbmep.model.baseline - INFO - Running inference with non_hierarchical_bayesian ...\n"
     ]
    },
    {
     "data": {
      "application/vnd.jupyter.widget-view+json": {
       "model_id": "31ec73c7216e4b8e910d86161a8f6e68",
       "version_major": 2,
       "version_minor": 0
      },
      "text/plain": [
       "  0%|          | 0/1500 [00:00<?, ?it/s]"
      ]
     },
     "metadata": {},
     "output_type": "display_data"
    },
    {
     "data": {
      "application/vnd.jupyter.widget-view+json": {
       "model_id": "8f5adddb9c844d02aee29a10d9be4d32",
       "version_major": 2,
       "version_minor": 0
      },
      "text/plain": [
       "  0%|          | 0/1500 [00:00<?, ?it/s]"
      ]
     },
     "metadata": {},
     "output_type": "display_data"
    },
    {
     "data": {
      "application/vnd.jupyter.widget-view+json": {
       "model_id": "35d820a23e1b4a7eba4654afec664578",
       "version_major": 2,
       "version_minor": 0
      },
      "text/plain": [
       "  0%|          | 0/1500 [00:00<?, ?it/s]"
      ]
     },
     "metadata": {},
     "output_type": "display_data"
    },
    {
     "data": {
      "application/vnd.jupyter.widget-view+json": {
       "model_id": "806913dabce645fa8ea5cb85076e2c28",
       "version_major": 2,
       "version_minor": 0
      },
      "text/plain": [
       "  0%|          | 0/1500 [00:00<?, ?it/s]"
      ]
     },
     "metadata": {},
     "output_type": "display_data"
    },
    {
     "name": "stderr",
     "output_type": "stream",
     "text": [
      "2023-10-06 11:34:32,861 - hbmep.utils.utils - INFO - func:run_inference took: 5.42 sec\n",
      "2023-10-06 11:34:32,870 - hbmep.utils.utils - INFO - func:make_prediction_dataset took: 0.00 sec\n"
     ]
    },
    {
     "name": "stdout",
     "output_type": "stream",
     "text": [
      "\n",
      "                               mean       std    median      2.5%     97.5%     n_eff     r_hat\n",
      "        H_baseline[0,0,0]    368.22    282.75    302.26     14.24    921.54    409.09      1.01\n",
      "        L_baseline[0,0,0]     21.91      2.84     21.85     16.56     28.07    263.04      1.01\n",
      "        a_baseline[0,0,0]     78.38     29.11     78.56     20.21    128.95     68.95      1.07\n",
      "           a_delta[0,0,0]    -37.63     19.72    -34.46    -76.32     -5.11     48.73      1.13\n",
      "        b_baseline[0,0,0]      2.72      1.08      2.79      0.62      4.69    309.84      1.01\n",
      "      g_1_baseline[0,0,0]      0.03      0.01      0.03      0.01      0.05    138.95      1.04\n",
      "      g_2_baseline[0,0,0]      1.91      3.60      0.36      0.00     10.94    124.27      1.03\n",
      "sigma_g_1_baseline[0,0,0]      5.98      3.15      5.56      0.66     11.74    577.52      1.00\n",
      "sigma_g_2_baseline[0,0,0]      3.29      2.97      2.52      0.00      9.12    367.51      1.01\n",
      "        v_baseline[0,0,0]     44.24     22.20     42.36      3.70     86.60    241.28      1.01\n",
      "\n",
      "Number of divergences: 3286\n"
     ]
    },
    {
     "name": "stderr",
     "output_type": "stream",
     "text": [
      "2023-10-06 11:34:33,600 - hbmep.utils.utils - INFO - func:predict took: 0.73 sec\n",
      "2023-10-06 11:34:33,602 - hbmep.model.baseline - INFO - Rendering ...\n",
      "2023-10-06 11:34:33,984 - hbmep.model.baseline - INFO - Saved to /home/vishu/repos/hbmep-paper/reports/human/tms/fit/mixed-effects/nhb-debug/subject_8/recruitment_curves.pdf\n",
      "2023-10-06 11:34:33,984 - hbmep.utils.utils - INFO - func:render_recruitment_curves took: 0.38 sec\n",
      "2023-10-06 11:34:33,986 - hbmep.model.baseline - INFO - Rendering Posterior Predictive Check ...\n",
      "2023-10-06 11:34:34,426 - hbmep.model.baseline - INFO - Saved to /home/vishu/repos/hbmep-paper/reports/human/tms/fit/mixed-effects/nhb-debug/subject_8/posterior_predictive_check.pdf\n",
      "2023-10-06 11:34:34,426 - hbmep.utils.utils - INFO - func:_render_predictive_check took: 0.44 sec\n",
      "2023-10-06 11:34:34,427 - hbmep.utils.utils - INFO - func:render_predictive_check took: 0.44 sec\n",
      "2023-10-06 11:34:34,427 - hbmep.config - INFO - Verifying configuration ...\n",
      "2023-10-06 11:34:34,428 - hbmep.config - INFO - Success!\n",
      "2023-10-06 11:34:34,428 - hbmep.model.baseline - INFO - Initialized model with non_hierarchical_bayesian link\n",
      "2023-10-06 11:34:34,428 - hbmep.dataset.core - INFO - Artefacts will be stored here - /home/vishu/repos/hbmep-paper/reports/human/tms/fit/mixed-effects/nhb-debug/subject_9\n",
      "2023-10-06 11:34:34,429 - hbmep.dataset.core - INFO - Copied config to /home/vishu/repos/hbmep-paper/reports/human/tms/fit/mixed-effects/nhb-debug/subject_9\n",
      "2023-10-06 11:34:34,429 - hbmep.dataset.core - INFO - Processing data ...\n",
      "2023-10-06 11:34:34,430 - hbmep.utils.utils - INFO - func:load took: 0.00 sec\n",
      "2023-10-06 11:34:34,431 - hbmep.model.baseline - INFO - Running inference with non_hierarchical_bayesian ...\n"
     ]
    },
    {
     "data": {
      "application/vnd.jupyter.widget-view+json": {
       "model_id": "4e1c6a05261342b4bfb54914635d83a3",
       "version_major": 2,
       "version_minor": 0
      },
      "text/plain": [
       "  0%|          | 0/1500 [00:00<?, ?it/s]"
      ]
     },
     "metadata": {},
     "output_type": "display_data"
    },
    {
     "data": {
      "application/vnd.jupyter.widget-view+json": {
       "model_id": "0780351dad3c410b802488d660d211f8",
       "version_major": 2,
       "version_minor": 0
      },
      "text/plain": [
       "  0%|          | 0/1500 [00:00<?, ?it/s]"
      ]
     },
     "metadata": {},
     "output_type": "display_data"
    },
    {
     "data": {
      "application/vnd.jupyter.widget-view+json": {
       "model_id": "d5c7859e3c464c6284a8d265bbbf476b",
       "version_major": 2,
       "version_minor": 0
      },
      "text/plain": [
       "  0%|          | 0/1500 [00:00<?, ?it/s]"
      ]
     },
     "metadata": {},
     "output_type": "display_data"
    },
    {
     "data": {
      "application/vnd.jupyter.widget-view+json": {
       "model_id": "be33738333cd447b906f2af79e72acbe",
       "version_major": 2,
       "version_minor": 0
      },
      "text/plain": [
       "  0%|          | 0/1500 [00:00<?, ?it/s]"
      ]
     },
     "metadata": {},
     "output_type": "display_data"
    },
    {
     "name": "stderr",
     "output_type": "stream",
     "text": [
      "2023-10-06 11:34:42,291 - hbmep.utils.utils - INFO - func:run_inference took: 7.86 sec\n",
      "2023-10-06 11:34:42,301 - hbmep.utils.utils - INFO - func:make_prediction_dataset took: 0.00 sec\n"
     ]
    },
    {
     "name": "stdout",
     "output_type": "stream",
     "text": [
      "\n",
      "                               mean       std    median      2.5%     97.5%     n_eff     r_hat\n",
      "        H_baseline[0,0,0]    356.81     83.39    346.56    204.87    523.07    508.06      1.00\n",
      "        L_baseline[0,0,0]      0.89      0.14      0.87      0.64      1.17    613.55      1.01\n",
      "        a_baseline[0,0,0]     23.69      3.20     23.83     16.63     28.92    802.98      1.00\n",
      "           a_delta[0,0,0]     -4.99      2.64     -5.01     -9.99      0.31    875.55      1.01\n",
      "        b_baseline[0,0,0]      5.08      1.91      5.30      1.34      8.18    216.40      1.01\n",
      "      g_1_baseline[0,0,0]      0.00      0.00      0.00      0.00      0.00    709.88      1.01\n",
      "      g_2_baseline[0,0,0]      1.26      0.27      1.23      0.74      1.80    747.03      1.01\n",
      "sigma_g_1_baseline[0,0,0]      6.20      3.27      5.76      0.93     12.73   1054.68      1.00\n",
      "sigma_g_2_baseline[0,0,0]      1.52      1.05      1.30      0.04      3.49    774.12      1.01\n",
      "        v_baseline[0,0,0]     55.70     20.87     57.89     15.58     91.35    215.77      1.01\n",
      "\n",
      "Number of divergences: 2772\n"
     ]
    },
    {
     "name": "stderr",
     "output_type": "stream",
     "text": [
      "2023-10-06 11:34:43,032 - hbmep.utils.utils - INFO - func:predict took: 0.73 sec\n",
      "2023-10-06 11:34:43,034 - hbmep.model.baseline - INFO - Rendering ...\n",
      "2023-10-06 11:34:43,426 - hbmep.model.baseline - INFO - Saved to /home/vishu/repos/hbmep-paper/reports/human/tms/fit/mixed-effects/nhb-debug/subject_9/recruitment_curves.pdf\n",
      "2023-10-06 11:34:43,427 - hbmep.utils.utils - INFO - func:render_recruitment_curves took: 0.39 sec\n",
      "2023-10-06 11:34:43,430 - hbmep.model.baseline - INFO - Rendering Posterior Predictive Check ...\n",
      "2023-10-06 11:34:43,883 - hbmep.model.baseline - INFO - Saved to /home/vishu/repos/hbmep-paper/reports/human/tms/fit/mixed-effects/nhb-debug/subject_9/posterior_predictive_check.pdf\n",
      "2023-10-06 11:34:43,883 - hbmep.utils.utils - INFO - func:_render_predictive_check took: 0.46 sec\n",
      "2023-10-06 11:34:43,883 - hbmep.utils.utils - INFO - func:render_predictive_check took: 0.46 sec\n",
      "2023-10-06 11:34:43,884 - hbmep.config - INFO - Verifying configuration ...\n",
      "2023-10-06 11:34:43,884 - hbmep.config - INFO - Success!\n",
      "2023-10-06 11:34:43,885 - hbmep.model.baseline - INFO - Initialized model with non_hierarchical_bayesian link\n",
      "2023-10-06 11:34:43,885 - hbmep.dataset.core - INFO - Artefacts will be stored here - /home/vishu/repos/hbmep-paper/reports/human/tms/fit/mixed-effects/nhb-debug/subject_10\n",
      "2023-10-06 11:34:43,885 - hbmep.dataset.core - INFO - Copied config to /home/vishu/repos/hbmep-paper/reports/human/tms/fit/mixed-effects/nhb-debug/subject_10\n",
      "2023-10-06 11:34:43,886 - hbmep.dataset.core - INFO - Processing data ...\n",
      "2023-10-06 11:34:43,886 - hbmep.utils.utils - INFO - func:load took: 0.00 sec\n",
      "2023-10-06 11:34:43,887 - hbmep.model.baseline - INFO - Running inference with non_hierarchical_bayesian ...\n"
     ]
    },
    {
     "data": {
      "application/vnd.jupyter.widget-view+json": {
       "model_id": "7dfda78304c84068b7badd83c296d24b",
       "version_major": 2,
       "version_minor": 0
      },
      "text/plain": [
       "  0%|          | 0/1500 [00:00<?, ?it/s]"
      ]
     },
     "metadata": {},
     "output_type": "display_data"
    },
    {
     "data": {
      "application/vnd.jupyter.widget-view+json": {
       "model_id": "6d38f9c3e2484d7798a11cfc5db12b50",
       "version_major": 2,
       "version_minor": 0
      },
      "text/plain": [
       "  0%|          | 0/1500 [00:00<?, ?it/s]"
      ]
     },
     "metadata": {},
     "output_type": "display_data"
    },
    {
     "data": {
      "application/vnd.jupyter.widget-view+json": {
       "model_id": "ffd8a060fbad46f794c80f771a763c12",
       "version_major": 2,
       "version_minor": 0
      },
      "text/plain": [
       "  0%|          | 0/1500 [00:00<?, ?it/s]"
      ]
     },
     "metadata": {},
     "output_type": "display_data"
    },
    {
     "data": {
      "application/vnd.jupyter.widget-view+json": {
       "model_id": "dbde78c6aad841059a0068c3f1f48f1c",
       "version_major": 2,
       "version_minor": 0
      },
      "text/plain": [
       "  0%|          | 0/1500 [00:00<?, ?it/s]"
      ]
     },
     "metadata": {},
     "output_type": "display_data"
    },
    {
     "name": "stderr",
     "output_type": "stream",
     "text": [
      "2023-10-06 11:34:49,865 - hbmep.utils.utils - INFO - func:run_inference took: 5.98 sec\n",
      "2023-10-06 11:34:49,875 - hbmep.utils.utils - INFO - func:make_prediction_dataset took: 0.00 sec\n"
     ]
    },
    {
     "name": "stdout",
     "output_type": "stream",
     "text": [
      "\n",
      "                               mean       std    median      2.5%     97.5%     n_eff     r_hat\n",
      "        H_baseline[0,0,0]   2037.28     91.40   2039.50   1864.35   2217.58    130.30      1.05\n",
      "        L_baseline[0,0,0]      8.32      0.27      8.31      7.78      8.80    270.91      1.01\n",
      "        a_baseline[0,0,0]     26.85      0.69     26.85     25.43     28.12    222.27      1.01\n",
      "           a_delta[0,0,0]      0.32      0.38      0.31     -0.37      1.13    341.34      1.01\n",
      "        b_baseline[0,0,0]     12.01      5.31     12.89      1.07     19.64    151.72      1.01\n",
      "      g_1_baseline[0,0,0]      0.00      0.00      0.00      0.00      0.00    232.29      1.01\n",
      "      g_2_baseline[0,0,0]    281.58     74.79    275.28    151.79    433.14    294.68      1.02\n",
      "sigma_g_1_baseline[0,0,0]      6.40      3.20      6.05      0.79     12.21    242.05      1.01\n",
      "sigma_g_2_baseline[0,0,0]      0.01      0.01      0.01      0.00      0.02    279.30      1.01\n",
      "        v_baseline[0,0,0]     13.45      6.15     14.22      0.15     22.53    161.07      1.01\n",
      "\n",
      "Number of divergences: 3464\n"
     ]
    },
    {
     "name": "stderr",
     "output_type": "stream",
     "text": [
      "2023-10-06 11:34:50,602 - hbmep.utils.utils - INFO - func:predict took: 0.73 sec\n",
      "2023-10-06 11:34:50,605 - hbmep.model.baseline - INFO - Rendering ...\n",
      "2023-10-06 11:34:50,985 - hbmep.model.baseline - INFO - Saved to /home/vishu/repos/hbmep-paper/reports/human/tms/fit/mixed-effects/nhb-debug/subject_10/recruitment_curves.pdf\n",
      "2023-10-06 11:34:50,986 - hbmep.utils.utils - INFO - func:render_recruitment_curves took: 0.38 sec\n",
      "2023-10-06 11:34:50,988 - hbmep.model.baseline - INFO - Rendering Posterior Predictive Check ...\n",
      "2023-10-06 11:34:51,432 - hbmep.model.baseline - INFO - Saved to /home/vishu/repos/hbmep-paper/reports/human/tms/fit/mixed-effects/nhb-debug/subject_10/posterior_predictive_check.pdf\n",
      "2023-10-06 11:34:51,432 - hbmep.utils.utils - INFO - func:_render_predictive_check took: 0.45 sec\n",
      "2023-10-06 11:34:51,432 - hbmep.utils.utils - INFO - func:render_predictive_check took: 0.45 sec\n",
      "2023-10-06 11:34:51,433 - hbmep.config - INFO - Verifying configuration ...\n",
      "2023-10-06 11:34:51,433 - hbmep.config - INFO - Success!\n",
      "2023-10-06 11:34:51,434 - hbmep.model.baseline - INFO - Initialized model with non_hierarchical_bayesian link\n",
      "2023-10-06 11:34:51,434 - hbmep.dataset.core - INFO - Artefacts will be stored here - /home/vishu/repos/hbmep-paper/reports/human/tms/fit/mixed-effects/nhb-debug/subject_11\n",
      "2023-10-06 11:34:51,434 - hbmep.dataset.core - INFO - Copied config to /home/vishu/repos/hbmep-paper/reports/human/tms/fit/mixed-effects/nhb-debug/subject_11\n",
      "2023-10-06 11:34:51,435 - hbmep.dataset.core - INFO - Processing data ...\n",
      "2023-10-06 11:34:51,435 - hbmep.utils.utils - INFO - func:load took: 0.00 sec\n",
      "2023-10-06 11:34:51,436 - hbmep.model.baseline - INFO - Running inference with non_hierarchical_bayesian ...\n"
     ]
    },
    {
     "data": {
      "application/vnd.jupyter.widget-view+json": {
       "model_id": "e822d597a33d4e39868c36d9777481ed",
       "version_major": 2,
       "version_minor": 0
      },
      "text/plain": [
       "  0%|          | 0/1500 [00:00<?, ?it/s]"
      ]
     },
     "metadata": {},
     "output_type": "display_data"
    },
    {
     "data": {
      "application/vnd.jupyter.widget-view+json": {
       "model_id": "a4641a5f7ea64afe9748ada2a3af6c0a",
       "version_major": 2,
       "version_minor": 0
      },
      "text/plain": [
       "  0%|          | 0/1500 [00:00<?, ?it/s]"
      ]
     },
     "metadata": {},
     "output_type": "display_data"
    },
    {
     "data": {
      "application/vnd.jupyter.widget-view+json": {
       "model_id": "202905193cac4c3ea895bb4d94bc69b8",
       "version_major": 2,
       "version_minor": 0
      },
      "text/plain": [
       "  0%|          | 0/1500 [00:00<?, ?it/s]"
      ]
     },
     "metadata": {},
     "output_type": "display_data"
    },
    {
     "data": {
      "application/vnd.jupyter.widget-view+json": {
       "model_id": "a98a14564827498aa144410063adc8be",
       "version_major": 2,
       "version_minor": 0
      },
      "text/plain": [
       "  0%|          | 0/1500 [00:00<?, ?it/s]"
      ]
     },
     "metadata": {},
     "output_type": "display_data"
    },
    {
     "name": "stderr",
     "output_type": "stream",
     "text": [
      "2023-10-06 11:34:58,825 - hbmep.utils.utils - INFO - func:run_inference took: 7.39 sec\n",
      "2023-10-06 11:34:58,835 - hbmep.utils.utils - INFO - func:make_prediction_dataset took: 0.00 sec\n"
     ]
    },
    {
     "name": "stdout",
     "output_type": "stream",
     "text": [
      "\n",
      "                               mean       std    median      2.5%     97.5%     n_eff     r_hat\n",
      "        H_baseline[0,0,0]    804.33     24.15    805.14    749.69    847.98    129.34      1.02\n",
      "        L_baseline[0,0,0]     21.52      1.20     21.46     19.21     23.82    158.44      1.02\n",
      "        a_baseline[0,0,0]     21.47      1.95     21.41     17.55     25.23    132.55      1.02\n",
      "           a_delta[0,0,0]      2.58      0.79      2.55      1.09      4.06     98.14      1.04\n",
      "        b_baseline[0,0,0]     10.64      4.82     11.29      0.31     17.30    167.38      1.00\n",
      "      g_1_baseline[0,0,0]      0.02      0.00      0.02      0.01      0.02    179.49      1.02\n",
      "      g_2_baseline[0,0,0]    246.47     65.60    242.71    128.06    375.51     84.80      1.03\n",
      "sigma_g_1_baseline[0,0,0]      6.35      2.98      6.08      1.22     12.35    265.50      1.03\n",
      "sigma_g_2_baseline[0,0,0]      0.01      0.01      0.01      0.00      0.02    135.26      1.01\n",
      "        v_baseline[0,0,0]     25.13     12.00     25.87      0.01     43.42    147.00      1.00\n",
      "\n",
      "Number of divergences: 3646\n"
     ]
    },
    {
     "name": "stderr",
     "output_type": "stream",
     "text": [
      "2023-10-06 11:34:59,578 - hbmep.utils.utils - INFO - func:predict took: 0.74 sec\n",
      "2023-10-06 11:34:59,580 - hbmep.model.baseline - INFO - Rendering ...\n",
      "2023-10-06 11:34:59,984 - hbmep.model.baseline - INFO - Saved to /home/vishu/repos/hbmep-paper/reports/human/tms/fit/mixed-effects/nhb-debug/subject_11/recruitment_curves.pdf\n",
      "2023-10-06 11:34:59,984 - hbmep.utils.utils - INFO - func:render_recruitment_curves took: 0.41 sec\n",
      "2023-10-06 11:34:59,986 - hbmep.model.baseline - INFO - Rendering Posterior Predictive Check ...\n",
      "2023-10-06 11:35:00,449 - hbmep.model.baseline - INFO - Saved to /home/vishu/repos/hbmep-paper/reports/human/tms/fit/mixed-effects/nhb-debug/subject_11/posterior_predictive_check.pdf\n",
      "2023-10-06 11:35:00,449 - hbmep.utils.utils - INFO - func:_render_predictive_check took: 0.46 sec\n",
      "2023-10-06 11:35:00,449 - hbmep.utils.utils - INFO - func:render_predictive_check took: 0.47 sec\n",
      "2023-10-06 11:35:00,450 - hbmep.config - INFO - Verifying configuration ...\n",
      "2023-10-06 11:35:00,450 - hbmep.config - INFO - Success!\n",
      "2023-10-06 11:35:00,451 - hbmep.model.baseline - INFO - Initialized model with non_hierarchical_bayesian link\n",
      "2023-10-06 11:35:00,451 - hbmep.dataset.core - INFO - Artefacts will be stored here - /home/vishu/repos/hbmep-paper/reports/human/tms/fit/mixed-effects/nhb-debug/subject_12\n",
      "2023-10-06 11:35:00,452 - hbmep.dataset.core - INFO - Copied config to /home/vishu/repos/hbmep-paper/reports/human/tms/fit/mixed-effects/nhb-debug/subject_12\n",
      "2023-10-06 11:35:00,452 - hbmep.dataset.core - INFO - Processing data ...\n",
      "2023-10-06 11:35:00,453 - hbmep.utils.utils - INFO - func:load took: 0.00 sec\n",
      "2023-10-06 11:35:00,454 - hbmep.model.baseline - INFO - Running inference with non_hierarchical_bayesian ...\n"
     ]
    },
    {
     "data": {
      "application/vnd.jupyter.widget-view+json": {
       "model_id": "ee87925da25e4f6ca0ceecfe3b2dfa0a",
       "version_major": 2,
       "version_minor": 0
      },
      "text/plain": [
       "  0%|          | 0/1500 [00:00<?, ?it/s]"
      ]
     },
     "metadata": {},
     "output_type": "display_data"
    },
    {
     "data": {
      "application/vnd.jupyter.widget-view+json": {
       "model_id": "4993fc1a6a74429c8a650ab4abed32da",
       "version_major": 2,
       "version_minor": 0
      },
      "text/plain": [
       "  0%|          | 0/1500 [00:00<?, ?it/s]"
      ]
     },
     "metadata": {},
     "output_type": "display_data"
    },
    {
     "data": {
      "application/vnd.jupyter.widget-view+json": {
       "model_id": "606650b619ea4ea982e8a9f3a91435db",
       "version_major": 2,
       "version_minor": 0
      },
      "text/plain": [
       "  0%|          | 0/1500 [00:00<?, ?it/s]"
      ]
     },
     "metadata": {},
     "output_type": "display_data"
    },
    {
     "data": {
      "application/vnd.jupyter.widget-view+json": {
       "model_id": "27507d43ad7648f19d4767e0a4ff5e1f",
       "version_major": 2,
       "version_minor": 0
      },
      "text/plain": [
       "  0%|          | 0/1500 [00:00<?, ?it/s]"
      ]
     },
     "metadata": {},
     "output_type": "display_data"
    },
    {
     "name": "stderr",
     "output_type": "stream",
     "text": [
      "2023-10-06 11:35:09,971 - hbmep.utils.utils - INFO - func:run_inference took: 9.52 sec\n",
      "2023-10-06 11:35:09,981 - hbmep.utils.utils - INFO - func:make_prediction_dataset took: 0.00 sec\n"
     ]
    },
    {
     "name": "stdout",
     "output_type": "stream",
     "text": [
      "\n",
      "                               mean       std    median      2.5%     97.5%     n_eff     r_hat\n",
      "        H_baseline[0,0,0]   1478.01     83.81   1474.66   1313.02   1647.83   2681.34      1.00\n",
      "        L_baseline[0,0,0]      5.18      0.23      5.17      4.76      5.67   2059.54      1.00\n",
      "        a_baseline[0,0,0]     25.88      1.34     26.07     23.02     28.11    383.42      1.01\n",
      "           a_delta[0,0,0]     -0.29      0.99     -0.33     -1.99      1.69    572.32      1.01\n",
      "        b_baseline[0,0,0]      0.10      0.02      0.10      0.07      0.14    304.47      1.01\n",
      "      g_1_baseline[0,0,0]      0.01      0.00      0.01      0.00      0.01    527.21      1.01\n",
      "      g_2_baseline[0,0,0]     92.94     21.83     91.17     52.06    133.50   1299.86      1.00\n",
      "sigma_g_1_baseline[0,0,0]      6.23      3.21      5.84      0.48     11.99   1206.93      1.00\n",
      "sigma_g_2_baseline[0,0,0]      0.02      0.02      0.02      0.00      0.06   1887.49      1.00\n",
      "        v_baseline[0,0,0]      0.16      0.13      0.13      0.00      0.42    214.05      1.01\n",
      "\n",
      "Number of divergences: 135\n"
     ]
    },
    {
     "name": "stderr",
     "output_type": "stream",
     "text": [
      "2023-10-06 11:35:10,707 - hbmep.utils.utils - INFO - func:predict took: 0.73 sec\n",
      "2023-10-06 11:35:10,710 - hbmep.model.baseline - INFO - Rendering ...\n",
      "2023-10-06 11:35:11,085 - hbmep.model.baseline - INFO - Saved to /home/vishu/repos/hbmep-paper/reports/human/tms/fit/mixed-effects/nhb-debug/subject_12/recruitment_curves.pdf\n",
      "2023-10-06 11:35:11,085 - hbmep.utils.utils - INFO - func:render_recruitment_curves took: 0.38 sec\n",
      "2023-10-06 11:35:11,087 - hbmep.model.baseline - INFO - Rendering Posterior Predictive Check ...\n",
      "2023-10-06 11:35:11,539 - hbmep.model.baseline - INFO - Saved to /home/vishu/repos/hbmep-paper/reports/human/tms/fit/mixed-effects/nhb-debug/subject_12/posterior_predictive_check.pdf\n",
      "2023-10-06 11:35:11,539 - hbmep.utils.utils - INFO - func:_render_predictive_check took: 0.45 sec\n",
      "2023-10-06 11:35:11,540 - hbmep.utils.utils - INFO - func:render_predictive_check took: 0.45 sec\n",
      "2023-10-06 11:35:11,540 - hbmep.config - INFO - Verifying configuration ...\n",
      "2023-10-06 11:35:11,541 - hbmep.config - INFO - Success!\n",
      "2023-10-06 11:35:11,541 - hbmep.model.baseline - INFO - Initialized model with non_hierarchical_bayesian link\n",
      "2023-10-06 11:35:11,541 - hbmep.dataset.core - INFO - Artefacts will be stored here - /home/vishu/repos/hbmep-paper/reports/human/tms/fit/mixed-effects/nhb-debug/subject_13\n",
      "2023-10-06 11:35:11,542 - hbmep.dataset.core - INFO - Copied config to /home/vishu/repos/hbmep-paper/reports/human/tms/fit/mixed-effects/nhb-debug/subject_13\n",
      "2023-10-06 11:35:11,542 - hbmep.dataset.core - INFO - Processing data ...\n",
      "2023-10-06 11:35:11,543 - hbmep.utils.utils - INFO - func:load took: 0.00 sec\n",
      "2023-10-06 11:35:11,544 - hbmep.model.baseline - INFO - Running inference with non_hierarchical_bayesian ...\n"
     ]
    },
    {
     "data": {
      "application/vnd.jupyter.widget-view+json": {
       "model_id": "d34315db00e345248d8f747230593567",
       "version_major": 2,
       "version_minor": 0
      },
      "text/plain": [
       "  0%|          | 0/1500 [00:00<?, ?it/s]"
      ]
     },
     "metadata": {},
     "output_type": "display_data"
    },
    {
     "data": {
      "application/vnd.jupyter.widget-view+json": {
       "model_id": "d7fd697b2cde4f8d8b1fe9586f60d91a",
       "version_major": 2,
       "version_minor": 0
      },
      "text/plain": [
       "  0%|          | 0/1500 [00:00<?, ?it/s]"
      ]
     },
     "metadata": {},
     "output_type": "display_data"
    },
    {
     "data": {
      "application/vnd.jupyter.widget-view+json": {
       "model_id": "bf92936e090840fb96086e80b3fb1f6f",
       "version_major": 2,
       "version_minor": 0
      },
      "text/plain": [
       "  0%|          | 0/1500 [00:00<?, ?it/s]"
      ]
     },
     "metadata": {},
     "output_type": "display_data"
    },
    {
     "data": {
      "application/vnd.jupyter.widget-view+json": {
       "model_id": "e35ffd71a74b4d0c897c2e1f233189ab",
       "version_major": 2,
       "version_minor": 0
      },
      "text/plain": [
       "  0%|          | 0/1500 [00:00<?, ?it/s]"
      ]
     },
     "metadata": {},
     "output_type": "display_data"
    },
    {
     "name": "stderr",
     "output_type": "stream",
     "text": [
      "2023-10-06 11:35:19,396 - hbmep.utils.utils - INFO - func:run_inference took: 7.85 sec\n",
      "2023-10-06 11:35:19,406 - hbmep.utils.utils - INFO - func:make_prediction_dataset took: 0.00 sec\n"
     ]
    },
    {
     "name": "stdout",
     "output_type": "stream",
     "text": [
      "\n",
      "                               mean       std    median      2.5%     97.5%     n_eff     r_hat\n",
      "        H_baseline[0,0,0]   2576.96     66.42   2575.54   2442.46   2705.83   2313.87      1.00\n",
      "        L_baseline[0,0,0]     18.86      2.14     18.68     14.80     23.02   1078.20      1.00\n",
      "        a_baseline[0,0,0]     26.66      2.28     27.02     21.82     30.36    119.72      1.03\n",
      "           a_delta[0,0,0]      0.76      0.93      0.79     -1.23      2.43   1062.57      1.01\n",
      "        b_baseline[0,0,0]      0.17      0.03      0.16      0.13      0.22    712.94      1.02\n",
      "      g_1_baseline[0,0,0]      0.01      0.00      0.01      0.01      0.02   1752.56      1.00\n",
      "      g_2_baseline[0,0,0]     44.64     12.13     43.52     22.85     69.15   1564.44      1.00\n",
      "sigma_g_1_baseline[0,0,0]      6.28      3.27      6.00      0.54     12.30   2276.74      1.00\n",
      "sigma_g_2_baseline[0,0,0]      0.05      0.04      0.04      0.00      0.13    591.35      1.01\n",
      "        v_baseline[0,0,0]      0.22      0.17      0.19      0.00      0.54    204.90      1.03\n",
      "\n",
      "Number of divergences: 208\n"
     ]
    },
    {
     "name": "stderr",
     "output_type": "stream",
     "text": [
      "2023-10-06 11:35:20,132 - hbmep.utils.utils - INFO - func:predict took: 0.73 sec\n",
      "2023-10-06 11:35:20,134 - hbmep.model.baseline - INFO - Rendering ...\n",
      "2023-10-06 11:35:20,498 - hbmep.model.baseline - INFO - Saved to /home/vishu/repos/hbmep-paper/reports/human/tms/fit/mixed-effects/nhb-debug/subject_13/recruitment_curves.pdf\n",
      "2023-10-06 11:35:20,498 - hbmep.utils.utils - INFO - func:render_recruitment_curves took: 0.37 sec\n",
      "2023-10-06 11:35:20,500 - hbmep.model.baseline - INFO - Rendering Posterior Predictive Check ...\n",
      "2023-10-06 11:35:20,933 - hbmep.model.baseline - INFO - Saved to /home/vishu/repos/hbmep-paper/reports/human/tms/fit/mixed-effects/nhb-debug/subject_13/posterior_predictive_check.pdf\n",
      "2023-10-06 11:35:20,933 - hbmep.utils.utils - INFO - func:_render_predictive_check took: 0.44 sec\n",
      "2023-10-06 11:35:20,934 - hbmep.utils.utils - INFO - func:render_predictive_check took: 0.44 sec\n",
      "2023-10-06 11:35:20,934 - hbmep.config - INFO - Verifying configuration ...\n",
      "2023-10-06 11:35:20,934 - hbmep.config - INFO - Success!\n",
      "2023-10-06 11:35:20,935 - hbmep.model.baseline - INFO - Initialized model with non_hierarchical_bayesian link\n",
      "2023-10-06 11:35:20,935 - hbmep.dataset.core - INFO - Artefacts will be stored here - /home/vishu/repos/hbmep-paper/reports/human/tms/fit/mixed-effects/nhb-debug/subject_14\n",
      "2023-10-06 11:35:20,936 - hbmep.dataset.core - INFO - Copied config to /home/vishu/repos/hbmep-paper/reports/human/tms/fit/mixed-effects/nhb-debug/subject_14\n",
      "2023-10-06 11:35:20,936 - hbmep.dataset.core - INFO - Processing data ...\n",
      "2023-10-06 11:35:20,937 - hbmep.utils.utils - INFO - func:load took: 0.00 sec\n",
      "2023-10-06 11:35:20,937 - hbmep.model.baseline - INFO - Running inference with non_hierarchical_bayesian ...\n"
     ]
    },
    {
     "data": {
      "application/vnd.jupyter.widget-view+json": {
       "model_id": "1fd8cdc7edc24484ab1d517f6cd638a9",
       "version_major": 2,
       "version_minor": 0
      },
      "text/plain": [
       "  0%|          | 0/1500 [00:00<?, ?it/s]"
      ]
     },
     "metadata": {},
     "output_type": "display_data"
    },
    {
     "data": {
      "application/vnd.jupyter.widget-view+json": {
       "model_id": "e652ad09b01a4aeca78f74b62b3a779a",
       "version_major": 2,
       "version_minor": 0
      },
      "text/plain": [
       "  0%|          | 0/1500 [00:00<?, ?it/s]"
      ]
     },
     "metadata": {},
     "output_type": "display_data"
    },
    {
     "data": {
      "application/vnd.jupyter.widget-view+json": {
       "model_id": "e8d02fb30ebb4091a58184210208e639",
       "version_major": 2,
       "version_minor": 0
      },
      "text/plain": [
       "  0%|          | 0/1500 [00:00<?, ?it/s]"
      ]
     },
     "metadata": {},
     "output_type": "display_data"
    },
    {
     "data": {
      "application/vnd.jupyter.widget-view+json": {
       "model_id": "273f973e4d3948ae804cadaa62a4fd0f",
       "version_major": 2,
       "version_minor": 0
      },
      "text/plain": [
       "  0%|          | 0/1500 [00:00<?, ?it/s]"
      ]
     },
     "metadata": {},
     "output_type": "display_data"
    },
    {
     "name": "stderr",
     "output_type": "stream",
     "text": [
      "2023-10-06 11:35:26,721 - hbmep.utils.utils - INFO - func:run_inference took: 5.78 sec\n",
      "2023-10-06 11:35:26,730 - hbmep.utils.utils - INFO - func:make_prediction_dataset took: 0.00 sec\n"
     ]
    },
    {
     "name": "stdout",
     "output_type": "stream",
     "text": [
      "\n",
      "                               mean       std    median      2.5%     97.5%     n_eff     r_hat\n",
      "        H_baseline[0,0,0]    915.49     32.60    915.42    850.69    979.53   1964.21      1.00\n",
      "        L_baseline[0,0,0]      3.26      0.06      3.26      3.14      3.38   2552.31      1.00\n",
      "        a_baseline[0,0,0]     29.94      0.29     29.92     29.40     30.55   1401.94      1.00\n",
      "           a_delta[0,0,0]     -2.31      0.26     -2.31     -2.84     -1.83   1924.45      1.00\n",
      "        b_baseline[0,0,0]      0.50      0.21      0.45      0.29      0.78    399.60      1.01\n",
      "      g_1_baseline[0,0,0]      0.01      0.00      0.01      0.01      0.02   2508.00      1.00\n",
      "      g_2_baseline[0,0,0]    315.17     81.36    308.48    167.82    476.77   1949.23      1.00\n",
      "sigma_g_1_baseline[0,0,0]      6.24      3.22      5.86      0.76     12.26   2348.10      1.00\n",
      "sigma_g_2_baseline[0,0,0]      0.01      0.01      0.01      0.00      0.02   2327.47      1.00\n",
      "        v_baseline[0,0,0]      0.24      0.23      0.18      0.01      0.58    435.38      1.01\n",
      "\n",
      "Number of divergences: 416\n"
     ]
    },
    {
     "name": "stderr",
     "output_type": "stream",
     "text": [
      "2023-10-06 11:35:27,456 - hbmep.utils.utils - INFO - func:predict took: 0.73 sec\n",
      "2023-10-06 11:35:27,458 - hbmep.model.baseline - INFO - Rendering ...\n",
      "2023-10-06 11:35:27,838 - hbmep.model.baseline - INFO - Saved to /home/vishu/repos/hbmep-paper/reports/human/tms/fit/mixed-effects/nhb-debug/subject_14/recruitment_curves.pdf\n",
      "2023-10-06 11:35:27,838 - hbmep.utils.utils - INFO - func:render_recruitment_curves took: 0.38 sec\n",
      "2023-10-06 11:35:27,840 - hbmep.model.baseline - INFO - Rendering Posterior Predictive Check ...\n",
      "2023-10-06 11:35:28,271 - hbmep.model.baseline - INFO - Saved to /home/vishu/repos/hbmep-paper/reports/human/tms/fit/mixed-effects/nhb-debug/subject_14/posterior_predictive_check.pdf\n",
      "2023-10-06 11:35:28,271 - hbmep.utils.utils - INFO - func:_render_predictive_check took: 0.43 sec\n",
      "2023-10-06 11:35:28,271 - hbmep.utils.utils - INFO - func:render_predictive_check took: 0.43 sec\n",
      "2023-10-06 11:35:28,272 - hbmep.config - INFO - Verifying configuration ...\n",
      "2023-10-06 11:35:28,272 - hbmep.config - INFO - Success!\n",
      "2023-10-06 11:35:28,273 - hbmep.model.baseline - INFO - Initialized model with non_hierarchical_bayesian link\n",
      "2023-10-06 11:35:28,273 - hbmep.dataset.core - INFO - Artefacts will be stored here - /home/vishu/repos/hbmep-paper/reports/human/tms/fit/mixed-effects/nhb-debug/subject_15\n",
      "2023-10-06 11:35:28,273 - hbmep.dataset.core - INFO - Copied config to /home/vishu/repos/hbmep-paper/reports/human/tms/fit/mixed-effects/nhb-debug/subject_15\n",
      "2023-10-06 11:35:28,274 - hbmep.dataset.core - INFO - Processing data ...\n",
      "2023-10-06 11:35:28,275 - hbmep.utils.utils - INFO - func:load took: 0.00 sec\n",
      "2023-10-06 11:35:28,275 - hbmep.model.baseline - INFO - Running inference with non_hierarchical_bayesian ...\n"
     ]
    },
    {
     "data": {
      "application/vnd.jupyter.widget-view+json": {
       "model_id": "7c3933e2924a4c86b145fb86aacaacb7",
       "version_major": 2,
       "version_minor": 0
      },
      "text/plain": [
       "  0%|          | 0/1500 [00:00<?, ?it/s]"
      ]
     },
     "metadata": {},
     "output_type": "display_data"
    },
    {
     "data": {
      "application/vnd.jupyter.widget-view+json": {
       "model_id": "595356561e514c248844310b6dbe4285",
       "version_major": 2,
       "version_minor": 0
      },
      "text/plain": [
       "  0%|          | 0/1500 [00:00<?, ?it/s]"
      ]
     },
     "metadata": {},
     "output_type": "display_data"
    },
    {
     "data": {
      "application/vnd.jupyter.widget-view+json": {
       "model_id": "a62bd9ba78f94d59a32b8b0e7639f36b",
       "version_major": 2,
       "version_minor": 0
      },
      "text/plain": [
       "  0%|          | 0/1500 [00:00<?, ?it/s]"
      ]
     },
     "metadata": {},
     "output_type": "display_data"
    },
    {
     "data": {
      "application/vnd.jupyter.widget-view+json": {
       "model_id": "b9b4b469b0614132a54d96b426b4c93d",
       "version_major": 2,
       "version_minor": 0
      },
      "text/plain": [
       "  0%|          | 0/1500 [00:00<?, ?it/s]"
      ]
     },
     "metadata": {},
     "output_type": "display_data"
    },
    {
     "name": "stderr",
     "output_type": "stream",
     "text": [
      "2023-10-06 11:35:38,245 - hbmep.utils.utils - INFO - func:run_inference took: 9.97 sec\n",
      "2023-10-06 11:35:38,255 - hbmep.utils.utils - INFO - func:make_prediction_dataset took: 0.00 sec\n"
     ]
    },
    {
     "name": "stdout",
     "output_type": "stream",
     "text": [
      "\n",
      "                               mean       std    median      2.5%     97.5%     n_eff     r_hat\n",
      "        H_baseline[0,0,0]   1295.35     51.72   1293.32   1196.82   1401.90   2245.90      1.00\n",
      "        L_baseline[0,0,0]      5.67      0.13      5.67      5.42      5.93   2812.37      1.00\n",
      "        a_baseline[0,0,0]     23.74      0.76     23.77     22.30     25.27   1598.08      1.00\n",
      "           a_delta[0,0,0]     -1.85      0.52     -1.84     -2.86     -0.83   2113.87      1.00\n",
      "        b_baseline[0,0,0]      0.12      0.02      0.12      0.09      0.16   1540.54      1.00\n",
      "      g_1_baseline[0,0,0]      0.01      0.00      0.01      0.01      0.02   3709.31      1.00\n",
      "      g_2_baseline[0,0,0]    453.24    109.54    443.77    249.50    677.25   3078.64      1.00\n",
      "sigma_g_1_baseline[0,0,0]      6.13      3.26      5.76      0.67     12.43   2489.22      1.00\n",
      "sigma_g_2_baseline[0,0,0]      0.00      0.00      0.00      0.00      0.01   2630.61      1.00\n",
      "        v_baseline[0,0,0]      0.24      0.11      0.23      0.04      0.45   1402.87      1.00\n",
      "\n",
      "Number of divergences: 20\n"
     ]
    },
    {
     "name": "stderr",
     "output_type": "stream",
     "text": [
      "2023-10-06 11:35:38,979 - hbmep.utils.utils - INFO - func:predict took: 0.72 sec\n",
      "2023-10-06 11:35:38,981 - hbmep.model.baseline - INFO - Rendering ...\n",
      "2023-10-06 11:35:39,358 - hbmep.model.baseline - INFO - Saved to /home/vishu/repos/hbmep-paper/reports/human/tms/fit/mixed-effects/nhb-debug/subject_15/recruitment_curves.pdf\n",
      "2023-10-06 11:35:39,359 - hbmep.utils.utils - INFO - func:render_recruitment_curves took: 0.38 sec\n",
      "2023-10-06 11:35:39,360 - hbmep.model.baseline - INFO - Rendering Posterior Predictive Check ...\n",
      "2023-10-06 11:35:39,800 - hbmep.model.baseline - INFO - Saved to /home/vishu/repos/hbmep-paper/reports/human/tms/fit/mixed-effects/nhb-debug/subject_15/posterior_predictive_check.pdf\n",
      "2023-10-06 11:35:39,800 - hbmep.utils.utils - INFO - func:_render_predictive_check took: 0.44 sec\n",
      "2023-10-06 11:35:39,800 - hbmep.utils.utils - INFO - func:render_predictive_check took: 0.44 sec\n",
      "2023-10-06 11:35:39,801 - hbmep.config - INFO - Verifying configuration ...\n",
      "2023-10-06 11:35:39,801 - hbmep.config - INFO - Success!\n",
      "2023-10-06 11:35:39,802 - hbmep.model.baseline - INFO - Initialized model with non_hierarchical_bayesian link\n",
      "2023-10-06 11:35:39,802 - hbmep.dataset.core - INFO - Artefacts will be stored here - /home/vishu/repos/hbmep-paper/reports/human/tms/fit/mixed-effects/nhb-debug/subject_16\n",
      "2023-10-06 11:35:39,802 - hbmep.dataset.core - INFO - Copied config to /home/vishu/repos/hbmep-paper/reports/human/tms/fit/mixed-effects/nhb-debug/subject_16\n",
      "2023-10-06 11:35:39,803 - hbmep.dataset.core - INFO - Processing data ...\n",
      "2023-10-06 11:35:39,803 - hbmep.utils.utils - INFO - func:load took: 0.00 sec\n",
      "2023-10-06 11:35:39,804 - hbmep.model.baseline - INFO - Running inference with non_hierarchical_bayesian ...\n"
     ]
    },
    {
     "data": {
      "application/vnd.jupyter.widget-view+json": {
       "model_id": "4f650da49d784a778d4523c65c253b51",
       "version_major": 2,
       "version_minor": 0
      },
      "text/plain": [
       "  0%|          | 0/1500 [00:00<?, ?it/s]"
      ]
     },
     "metadata": {},
     "output_type": "display_data"
    },
    {
     "data": {
      "application/vnd.jupyter.widget-view+json": {
       "model_id": "43742328ee664722bdcb57a8d402169d",
       "version_major": 2,
       "version_minor": 0
      },
      "text/plain": [
       "  0%|          | 0/1500 [00:00<?, ?it/s]"
      ]
     },
     "metadata": {},
     "output_type": "display_data"
    },
    {
     "data": {
      "application/vnd.jupyter.widget-view+json": {
       "model_id": "44199b5e035f4aff9b90b2db2015f31f",
       "version_major": 2,
       "version_minor": 0
      },
      "text/plain": [
       "  0%|          | 0/1500 [00:00<?, ?it/s]"
      ]
     },
     "metadata": {},
     "output_type": "display_data"
    },
    {
     "data": {
      "application/vnd.jupyter.widget-view+json": {
       "model_id": "cd02c870c36243b5b0993db5afc7c9df",
       "version_major": 2,
       "version_minor": 0
      },
      "text/plain": [
       "  0%|          | 0/1500 [00:00<?, ?it/s]"
      ]
     },
     "metadata": {},
     "output_type": "display_data"
    },
    {
     "name": "stderr",
     "output_type": "stream",
     "text": [
      "2023-10-06 11:35:47,599 - hbmep.utils.utils - INFO - func:run_inference took: 7.80 sec\n",
      "2023-10-06 11:35:47,609 - hbmep.utils.utils - INFO - func:make_prediction_dataset took: 0.00 sec\n"
     ]
    },
    {
     "name": "stdout",
     "output_type": "stream",
     "text": [
      "\n",
      "                               mean       std    median      2.5%     97.5%     n_eff     r_hat\n",
      "        H_baseline[0,0,0]   3027.48     71.98   3028.14   2885.35   3166.84   1001.57      1.01\n",
      "        L_baseline[0,0,0]      3.06      0.07      3.06      2.93      3.21   1983.18      1.00\n",
      "        a_baseline[0,0,0]     26.69      0.45     26.77     25.77     27.41     96.48      1.05\n",
      "           a_delta[0,0,0]      0.02      0.27      0.02     -0.51      0.58   1272.10      1.00\n",
      "        b_baseline[0,0,0]      1.49      3.57      0.49      0.26     10.45     22.47      1.22\n",
      "      g_1_baseline[0,0,0]      0.01      0.00      0.01      0.01      0.01    524.92      1.01\n",
      "      g_2_baseline[0,0,0]    207.47     58.56    201.57    100.68    322.11   1208.88      1.01\n",
      "sigma_g_1_baseline[0,0,0]      6.20      3.25      5.77      0.76     12.61   2495.34      1.00\n",
      "sigma_g_2_baseline[0,0,0]      0.01      0.01      0.01      0.00      0.03   1199.89      1.00\n",
      "        v_baseline[0,0,0]      1.48      4.06      0.34      0.01     12.09     22.76      1.21\n",
      "\n",
      "Number of divergences: 270\n"
     ]
    },
    {
     "name": "stderr",
     "output_type": "stream",
     "text": [
      "2023-10-06 11:35:48,369 - hbmep.utils.utils - INFO - func:predict took: 0.76 sec\n",
      "2023-10-06 11:35:48,371 - hbmep.model.baseline - INFO - Rendering ...\n",
      "2023-10-06 11:35:48,779 - hbmep.model.baseline - INFO - Saved to /home/vishu/repos/hbmep-paper/reports/human/tms/fit/mixed-effects/nhb-debug/subject_16/recruitment_curves.pdf\n",
      "2023-10-06 11:35:48,779 - hbmep.utils.utils - INFO - func:render_recruitment_curves took: 0.41 sec\n",
      "2023-10-06 11:35:48,781 - hbmep.model.baseline - INFO - Rendering Posterior Predictive Check ...\n",
      "2023-10-06 11:35:49,234 - hbmep.model.baseline - INFO - Saved to /home/vishu/repos/hbmep-paper/reports/human/tms/fit/mixed-effects/nhb-debug/subject_16/posterior_predictive_check.pdf\n",
      "2023-10-06 11:35:49,235 - hbmep.utils.utils - INFO - func:_render_predictive_check took: 0.46 sec\n",
      "2023-10-06 11:35:49,235 - hbmep.utils.utils - INFO - func:render_predictive_check took: 0.46 sec\n",
      "2023-10-06 11:35:49,236 - hbmep.config - INFO - Verifying configuration ...\n",
      "2023-10-06 11:35:49,236 - hbmep.config - INFO - Success!\n",
      "2023-10-06 11:35:49,236 - hbmep.model.baseline - INFO - Initialized model with non_hierarchical_bayesian link\n",
      "2023-10-06 11:35:49,236 - hbmep.dataset.core - INFO - Artefacts will be stored here - /home/vishu/repos/hbmep-paper/reports/human/tms/fit/mixed-effects/nhb-debug/subject_17\n",
      "2023-10-06 11:35:49,237 - hbmep.dataset.core - INFO - Copied config to /home/vishu/repos/hbmep-paper/reports/human/tms/fit/mixed-effects/nhb-debug/subject_17\n",
      "2023-10-06 11:35:49,237 - hbmep.dataset.core - INFO - Processing data ...\n",
      "2023-10-06 11:35:49,238 - hbmep.utils.utils - INFO - func:load took: 0.00 sec\n",
      "2023-10-06 11:35:49,238 - hbmep.model.baseline - INFO - Running inference with non_hierarchical_bayesian ...\n"
     ]
    },
    {
     "data": {
      "application/vnd.jupyter.widget-view+json": {
       "model_id": "4ea0abe3112f4bb1ac4fdd73299e15f8",
       "version_major": 2,
       "version_minor": 0
      },
      "text/plain": [
       "  0%|          | 0/1500 [00:00<?, ?it/s]"
      ]
     },
     "metadata": {},
     "output_type": "display_data"
    },
    {
     "data": {
      "application/vnd.jupyter.widget-view+json": {
       "model_id": "72281a6e7f1e47939cb6279b43bc6ef8",
       "version_major": 2,
       "version_minor": 0
      },
      "text/plain": [
       "  0%|          | 0/1500 [00:00<?, ?it/s]"
      ]
     },
     "metadata": {},
     "output_type": "display_data"
    },
    {
     "data": {
      "application/vnd.jupyter.widget-view+json": {
       "model_id": "7e1bcaeb88764082997cc1f74a39a9f8",
       "version_major": 2,
       "version_minor": 0
      },
      "text/plain": [
       "  0%|          | 0/1500 [00:00<?, ?it/s]"
      ]
     },
     "metadata": {},
     "output_type": "display_data"
    },
    {
     "data": {
      "application/vnd.jupyter.widget-view+json": {
       "model_id": "40c656da60cd4b869723da8473c777be",
       "version_major": 2,
       "version_minor": 0
      },
      "text/plain": [
       "  0%|          | 0/1500 [00:00<?, ?it/s]"
      ]
     },
     "metadata": {},
     "output_type": "display_data"
    },
    {
     "name": "stderr",
     "output_type": "stream",
     "text": [
      "2023-10-06 11:35:56,114 - hbmep.utils.utils - INFO - func:run_inference took: 6.88 sec\n",
      "2023-10-06 11:35:56,123 - hbmep.utils.utils - INFO - func:make_prediction_dataset took: 0.00 sec\n"
     ]
    },
    {
     "name": "stdout",
     "output_type": "stream",
     "text": [
      "\n",
      "                               mean       std    median      2.5%     97.5%     n_eff     r_hat\n",
      "        H_baseline[0,0,0]   2523.52    175.74   2524.21   2139.77   2862.01    182.67      1.01\n",
      "        L_baseline[0,0,0]     16.69      0.69     16.65     15.27     18.06    122.45      1.04\n",
      "        a_baseline[0,0,0]     21.87      2.58     21.65     17.13     28.00     71.65      1.05\n",
      "           a_delta[0,0,0]     -2.44      1.11     -2.48     -4.82     -0.37    100.08      1.06\n",
      "        b_baseline[0,0,0]      6.69      3.32      7.35      0.08     11.04     70.38      1.03\n",
      "      g_1_baseline[0,0,0]      0.00      0.00      0.00      0.00      0.00    333.54      1.01\n",
      "      g_2_baseline[0,0,0]    302.04     68.52    298.74    170.50    428.34     85.59      1.04\n",
      "sigma_g_1_baseline[0,0,0]      6.72      3.44      6.42      0.87     13.05     89.13      1.05\n",
      "sigma_g_2_baseline[0,0,0]      0.01      0.01      0.00      0.00      0.02    159.06      1.02\n",
      "        v_baseline[0,0,0]     35.00     17.49     38.21      0.00     57.94     68.99      1.03\n",
      "\n",
      "Number of divergences: 3119\n"
     ]
    },
    {
     "name": "stderr",
     "output_type": "stream",
     "text": [
      "2023-10-06 11:35:56,855 - hbmep.utils.utils - INFO - func:predict took: 0.73 sec\n",
      "2023-10-06 11:35:56,857 - hbmep.model.baseline - INFO - Rendering ...\n",
      "2023-10-06 11:35:57,345 - hbmep.model.baseline - INFO - Saved to /home/vishu/repos/hbmep-paper/reports/human/tms/fit/mixed-effects/nhb-debug/subject_17/recruitment_curves.pdf\n",
      "2023-10-06 11:35:57,346 - hbmep.utils.utils - INFO - func:render_recruitment_curves took: 0.49 sec\n",
      "2023-10-06 11:35:57,348 - hbmep.model.baseline - INFO - Rendering Posterior Predictive Check ...\n",
      "2023-10-06 11:35:57,808 - hbmep.model.baseline - INFO - Saved to /home/vishu/repos/hbmep-paper/reports/human/tms/fit/mixed-effects/nhb-debug/subject_17/posterior_predictive_check.pdf\n",
      "2023-10-06 11:35:57,809 - hbmep.utils.utils - INFO - func:_render_predictive_check took: 0.46 sec\n",
      "2023-10-06 11:35:57,809 - hbmep.utils.utils - INFO - func:render_predictive_check took: 0.46 sec\n",
      "2023-10-06 11:35:57,810 - hbmep.config - INFO - Verifying configuration ...\n",
      "2023-10-06 11:35:57,810 - hbmep.config - INFO - Success!\n",
      "2023-10-06 11:35:57,811 - hbmep.model.baseline - INFO - Initialized model with non_hierarchical_bayesian link\n",
      "2023-10-06 11:35:57,811 - hbmep.dataset.core - INFO - Artefacts will be stored here - /home/vishu/repos/hbmep-paper/reports/human/tms/fit/mixed-effects/nhb-debug/subject_18\n",
      "2023-10-06 11:35:57,811 - hbmep.dataset.core - INFO - Copied config to /home/vishu/repos/hbmep-paper/reports/human/tms/fit/mixed-effects/nhb-debug/subject_18\n",
      "2023-10-06 11:35:57,812 - hbmep.dataset.core - INFO - Processing data ...\n",
      "2023-10-06 11:35:57,813 - hbmep.utils.utils - INFO - func:load took: 0.00 sec\n",
      "2023-10-06 11:35:57,813 - hbmep.model.baseline - INFO - Running inference with non_hierarchical_bayesian ...\n"
     ]
    },
    {
     "data": {
      "application/vnd.jupyter.widget-view+json": {
       "model_id": "fe3036221bb945c2b8def03d5aa4d3a8",
       "version_major": 2,
       "version_minor": 0
      },
      "text/plain": [
       "  0%|          | 0/1500 [00:00<?, ?it/s]"
      ]
     },
     "metadata": {},
     "output_type": "display_data"
    },
    {
     "data": {
      "application/vnd.jupyter.widget-view+json": {
       "model_id": "dd52f36189a24573a2a7b183dd48d202",
       "version_major": 2,
       "version_minor": 0
      },
      "text/plain": [
       "  0%|          | 0/1500 [00:00<?, ?it/s]"
      ]
     },
     "metadata": {},
     "output_type": "display_data"
    },
    {
     "data": {
      "application/vnd.jupyter.widget-view+json": {
       "model_id": "7e66fdd21a1d40119e87f57c0399e211",
       "version_major": 2,
       "version_minor": 0
      },
      "text/plain": [
       "  0%|          | 0/1500 [00:00<?, ?it/s]"
      ]
     },
     "metadata": {},
     "output_type": "display_data"
    },
    {
     "data": {
      "application/vnd.jupyter.widget-view+json": {
       "model_id": "6074c8863ec74828974baebf2b5a590f",
       "version_major": 2,
       "version_minor": 0
      },
      "text/plain": [
       "  0%|          | 0/1500 [00:00<?, ?it/s]"
      ]
     },
     "metadata": {},
     "output_type": "display_data"
    },
    {
     "name": "stderr",
     "output_type": "stream",
     "text": [
      "2023-10-06 11:36:03,416 - hbmep.utils.utils - INFO - func:run_inference took: 5.60 sec\n",
      "2023-10-06 11:36:03,425 - hbmep.utils.utils - INFO - func:make_prediction_dataset took: 0.00 sec\n"
     ]
    },
    {
     "name": "stdout",
     "output_type": "stream",
     "text": [
      "\n",
      "                               mean       std    median      2.5%     97.5%     n_eff     r_hat\n",
      "        H_baseline[0,0,0]    101.59      9.62    101.07     84.93    123.22    511.35      1.01\n",
      "        L_baseline[0,0,0]     16.64      1.30     16.59     14.08     19.18    281.74      1.01\n",
      "        a_baseline[0,0,0]     10.94      5.33     10.85      0.68     20.49    333.12      1.01\n",
      "           a_delta[0,0,0]     -0.72      2.54     -0.68     -5.57      4.41    933.53      1.00\n",
      "        b_baseline[0,0,0]      8.75      3.42      8.94      2.13     14.36    308.46      1.01\n",
      "      g_1_baseline[0,0,0]      0.01      0.00      0.01      0.00      0.02    368.17      1.02\n",
      "      g_2_baseline[0,0,0]    168.10     38.22    166.41     92.72    239.75    319.28      1.03\n",
      "sigma_g_1_baseline[0,0,0]      6.19      3.23      5.71      0.38     12.08    465.77      1.01\n",
      "sigma_g_2_baseline[0,0,0]      0.01      0.01      0.01      0.00      0.03    557.71      1.01\n",
      "        v_baseline[0,0,0]     72.04     30.09     71.91     16.94    128.12    274.21      1.01\n",
      "\n",
      "Number of divergences: 2939\n"
     ]
    },
    {
     "name": "stderr",
     "output_type": "stream",
     "text": [
      "2023-10-06 11:36:04,160 - hbmep.utils.utils - INFO - func:predict took: 0.73 sec\n",
      "2023-10-06 11:36:04,162 - hbmep.model.baseline - INFO - Rendering ...\n",
      "2023-10-06 11:36:04,563 - hbmep.model.baseline - INFO - Saved to /home/vishu/repos/hbmep-paper/reports/human/tms/fit/mixed-effects/nhb-debug/subject_18/recruitment_curves.pdf\n",
      "2023-10-06 11:36:04,564 - hbmep.utils.utils - INFO - func:render_recruitment_curves took: 0.40 sec\n",
      "2023-10-06 11:36:04,566 - hbmep.model.baseline - INFO - Rendering Posterior Predictive Check ...\n",
      "2023-10-06 11:36:05,020 - hbmep.model.baseline - INFO - Saved to /home/vishu/repos/hbmep-paper/reports/human/tms/fit/mixed-effects/nhb-debug/subject_18/posterior_predictive_check.pdf\n",
      "2023-10-06 11:36:05,021 - hbmep.utils.utils - INFO - func:_render_predictive_check took: 0.46 sec\n",
      "2023-10-06 11:36:05,021 - hbmep.utils.utils - INFO - func:render_predictive_check took: 0.46 sec\n",
      "2023-10-06 11:36:05,022 - hbmep.config - INFO - Verifying configuration ...\n",
      "2023-10-06 11:36:05,022 - hbmep.config - INFO - Success!\n",
      "2023-10-06 11:36:05,023 - hbmep.model.baseline - INFO - Initialized model with non_hierarchical_bayesian link\n",
      "2023-10-06 11:36:05,023 - hbmep.dataset.core - INFO - Artefacts will be stored here - /home/vishu/repos/hbmep-paper/reports/human/tms/fit/mixed-effects/nhb-debug/subject_19\n",
      "2023-10-06 11:36:05,024 - hbmep.dataset.core - INFO - Copied config to /home/vishu/repos/hbmep-paper/reports/human/tms/fit/mixed-effects/nhb-debug/subject_19\n",
      "2023-10-06 11:36:05,025 - hbmep.dataset.core - INFO - Processing data ...\n",
      "2023-10-06 11:36:05,025 - hbmep.utils.utils - INFO - func:load took: 0.00 sec\n",
      "2023-10-06 11:36:05,026 - hbmep.model.baseline - INFO - Running inference with non_hierarchical_bayesian ...\n"
     ]
    },
    {
     "data": {
      "application/vnd.jupyter.widget-view+json": {
       "model_id": "d05276fb10864ebaab91e2fb2954592f",
       "version_major": 2,
       "version_minor": 0
      },
      "text/plain": [
       "  0%|          | 0/1500 [00:00<?, ?it/s]"
      ]
     },
     "metadata": {},
     "output_type": "display_data"
    },
    {
     "data": {
      "application/vnd.jupyter.widget-view+json": {
       "model_id": "7306a9b3f0c040199c4115931bbc477f",
       "version_major": 2,
       "version_minor": 0
      },
      "text/plain": [
       "  0%|          | 0/1500 [00:00<?, ?it/s]"
      ]
     },
     "metadata": {},
     "output_type": "display_data"
    },
    {
     "data": {
      "application/vnd.jupyter.widget-view+json": {
       "model_id": "73c1d52fdf594a2483d599c0ae2c2f3b",
       "version_major": 2,
       "version_minor": 0
      },
      "text/plain": [
       "  0%|          | 0/1500 [00:00<?, ?it/s]"
      ]
     },
     "metadata": {},
     "output_type": "display_data"
    },
    {
     "data": {
      "application/vnd.jupyter.widget-view+json": {
       "model_id": "28cbd598197045c1be6a8b8ad71166e9",
       "version_major": 2,
       "version_minor": 0
      },
      "text/plain": [
       "  0%|          | 0/1500 [00:00<?, ?it/s]"
      ]
     },
     "metadata": {},
     "output_type": "display_data"
    },
    {
     "name": "stderr",
     "output_type": "stream",
     "text": [
      "2023-10-06 11:36:11,630 - hbmep.utils.utils - INFO - func:run_inference took: 6.60 sec\n",
      "2023-10-06 11:36:11,639 - hbmep.utils.utils - INFO - func:make_prediction_dataset took: 0.00 sec\n"
     ]
    },
    {
     "name": "stdout",
     "output_type": "stream",
     "text": [
      "\n",
      "                               mean       std    median      2.5%     97.5%     n_eff     r_hat\n",
      "        H_baseline[0,0,0]   1534.34     62.68   1533.16   1412.10   1654.95   1738.18      1.00\n",
      "        L_baseline[0,0,0]      3.74      0.09      3.74      3.56      3.92   1895.92      1.00\n",
      "        a_baseline[0,0,0]     29.85      0.49     29.89     28.87     30.72    896.70      1.00\n",
      "           a_delta[0,0,0]     -1.63      0.47     -1.62     -2.55     -0.68   2110.43      1.00\n",
      "        b_baseline[0,0,0]      0.23      0.08      0.21      0.13      0.38    580.03      1.00\n",
      "      g_1_baseline[0,0,0]      0.01      0.00      0.01      0.01      0.01   2045.18      1.00\n",
      "      g_2_baseline[0,0,0]    213.06     49.58    209.92    124.48    313.77   2092.73      1.00\n",
      "sigma_g_1_baseline[0,0,0]      6.15      3.24      5.71      0.54     12.16   2639.70      1.00\n",
      "sigma_g_2_baseline[0,0,0]      0.01      0.01      0.01      0.00      0.03   2665.84      1.00\n",
      "        v_baseline[0,0,0]      0.30      0.22      0.26      0.01      0.70    573.28      1.00\n",
      "\n",
      "Number of divergences: 254\n"
     ]
    },
    {
     "name": "stderr",
     "output_type": "stream",
     "text": [
      "2023-10-06 11:36:12,362 - hbmep.utils.utils - INFO - func:predict took: 0.72 sec\n",
      "2023-10-06 11:36:12,364 - hbmep.model.baseline - INFO - Rendering ...\n",
      "2023-10-06 11:36:12,740 - hbmep.model.baseline - INFO - Saved to /home/vishu/repos/hbmep-paper/reports/human/tms/fit/mixed-effects/nhb-debug/subject_19/recruitment_curves.pdf\n",
      "2023-10-06 11:36:12,740 - hbmep.utils.utils - INFO - func:render_recruitment_curves took: 0.38 sec\n",
      "2023-10-06 11:36:12,742 - hbmep.model.baseline - INFO - Rendering Posterior Predictive Check ...\n",
      "2023-10-06 11:36:13,189 - hbmep.model.baseline - INFO - Saved to /home/vishu/repos/hbmep-paper/reports/human/tms/fit/mixed-effects/nhb-debug/subject_19/posterior_predictive_check.pdf\n",
      "2023-10-06 11:36:13,189 - hbmep.utils.utils - INFO - func:_render_predictive_check took: 0.45 sec\n",
      "2023-10-06 11:36:13,189 - hbmep.utils.utils - INFO - func:render_predictive_check took: 0.45 sec\n"
     ]
    }
   ],
   "source": [
    "for subject in df[MODEL.subject].unique():\n",
    "    ind = df[MODEL.subject].isin([subject])\n",
    "    df_temp = df[ind].reset_index(drop=True).copy()\n",
    "\n",
    "    \"\"\" Build model \"\"\"\n",
    "    config = Config(toml_path=toml_path)\n",
    "    # config.MCMC_PARAMS[\"num_warmup\"] += 1000\n",
    "\n",
    "    config.BUILD_DIR = os.path.join(CONFIG.BUILD_DIR, \"nhb-debug\", f\"subject_{subject}\")\n",
    "    model = NonHierarchicalBayesianModel(config=config)\n",
    "\n",
    "    \"\"\" Load data \"\"\"\n",
    "    df_temp, _ = model.load(df=df_temp)\n",
    "\n",
    "    \"\"\" Fit \"\"\"\n",
    "    mcmc, posterior_samples = model.run_inference(df=df_temp)\n",
    "    mcmc.print_summary(prob=.95)\n",
    "\n",
    "    prediction_df = model.make_prediction_dataset(df=df_temp, num_points=100)\n",
    "    ppd = model.predict(df=prediction_df, posterior_samples=posterior_samples)\n",
    "\n",
    "    model.render_recruitment_curves(df=df_temp, posterior_samples=posterior_samples, prediction_df=prediction_df, posterior_predictive=ppd)\n",
    "    model.render_predictive_check(df=df_temp, prediction_df=prediction_df, posterior_predictive=ppd)\n"
   ]
  },
  {
   "cell_type": "code",
   "execution_count": 43,
   "metadata": {},
   "outputs": [
    {
     "name": "stderr",
     "output_type": "stream",
     "text": [
      "2023-10-06 11:18:42,111 - hbmep.utils.utils - INFO - func:make_prediction_dataset took: 0.01 sec\n"
     ]
    },
    {
     "name": "stderr",
     "output_type": "stream",
     "text": [
      "2023-10-06 11:18:48,312 - hbmep.utils.utils - INFO - func:predict took: 6.20 sec\n",
      "2023-10-06 11:18:48,427 - hbmep.model.baseline - INFO - Rendering ...\n",
      "2023-10-06 11:18:56,463 - hbmep.model.baseline - INFO - Saved to /home/vishu/repos/hbmep-paper/reports/human/tms/fit/mixed-effects/nhb-debug/recruitment_curves.pdf\n",
      "2023-10-06 11:18:56,467 - hbmep.utils.utils - INFO - func:render_recruitment_curves took: 8.15 sec\n",
      "2023-10-06 11:18:56,614 - hbmep.model.baseline - INFO - Rendering Posterior Predictive Check ...\n",
      "2023-10-06 11:19:05,792 - hbmep.model.baseline - INFO - Saved to /home/vishu/repos/hbmep-paper/reports/human/tms/fit/mixed-effects/nhb-debug/posterior_predictive_check.pdf\n",
      "2023-10-06 11:19:05,795 - hbmep.utils.utils - INFO - func:_render_predictive_check took: 9.33 sec\n",
      "2023-10-06 11:19:05,795 - hbmep.utils.utils - INFO - func:render_predictive_check took: 9.33 sec\n"
     ]
    }
   ],
   "source": [
    "\"\"\" Predict \"\"\"\n",
    "prediction_df = model.make_prediction_dataset(df=df, num_points=100)\n",
    "ppd = model.predict(df=prediction_df, posterior_samples=posterior_samples)\n",
    "\n",
    "\"\"\" Plot \"\"\"\n",
    "model.render_recruitment_curves(df=df, posterior_samples=posterior_samples, prediction_df=prediction_df, posterior_predictive=ppd)\n",
    "model.render_predictive_check(df=df, prediction_df=prediction_df, posterior_predictive=ppd)\n"
   ]
  },
  {
   "cell_type": "code",
   "execution_count": null,
   "metadata": {},
   "outputs": [],
   "source": [
    "\n",
    "\n",
    "\"\"\" Predict \"\"\"\n",
    "prediction_df = model.make_prediction_dataset(df=df, num_points=100)\n",
    "ppd = model.predict(df=prediction_df, posterior_samples=posterior_samples)\n",
    "\n",
    "\"\"\" Plot \"\"\"\n",
    "model.render_recruitment_curves(df=df, posterior_samples=posterior_samples, prediction_df=prediction_df, posterior_predictive=ppd)\n",
    "model.render_predictive_check(df=df, prediction_df=prediction_df, posterior_predictive=ppd)\n",
    "\n",
    "\"\"\" Save \"\"\"\n",
    "dest = os.path.join(model.build_dir, \"inference.pkl\")\n",
    "with open(dest, \"wb\") as f:\n",
    "    pickle.dump((posterior_samples, ), f)\n",
    "\n",
    "config, df, prediction_df, _,  = None, None, None, None\n",
    "model, posterior_samples = None, None\n",
    "ppd  = None\n",
    "\n",
    "del config, df, prediction_df, _, model, posterior_samples, ppd\n",
    "gc.collect()\n",
    "return\n"
   ]
  },
  {
   "cell_type": "code",
   "execution_count": 7,
   "metadata": {},
   "outputs": [
    {
     "data": {
      "text/plain": [
       "(4000, 200, 2, 1)"
      ]
     },
     "execution_count": 7,
     "metadata": {},
     "output_type": "execute_result"
    }
   ],
   "source": [
    "a = np.array(POSTERIOR_PREDICTIVE[site.a])\n",
    "a.shape"
   ]
  },
  {
   "cell_type": "code",
   "execution_count": 8,
   "metadata": {},
   "outputs": [
    {
     "data": {
      "text/plain": [
       "7"
      ]
     },
     "execution_count": 8,
     "metadata": {},
     "output_type": "execute_result"
    }
   ],
   "source": [
    "len(N_space)"
   ]
  },
  {
   "cell_type": "code",
   "execution_count": 11,
   "metadata": {},
   "outputs": [],
   "source": [
    "N_LIM = 7\n",
    "DRAW_LIM = 12\n",
    "SEED_LIM = n_repeats\n"
   ]
  },
  {
   "cell_type": "code",
   "execution_count": 13,
   "metadata": {},
   "outputs": [],
   "source": [
    "from tqdm import tqdm"
   ]
  },
  {
   "cell_type": "code",
   "execution_count": 17,
   "metadata": {},
   "outputs": [
    {
     "name": "stderr",
     "output_type": "stream",
     "text": [
      "Draw: 100%|█████████████████████████████████████| 12/12 [00:02<00:00,  4.53it/s]\n",
      "Draw: 100%|█████████████████████████████████████| 12/12 [00:04<00:00,  2.87it/s]\n",
      "Draw: 100%|█████████████████████████████████████| 12/12 [00:09<00:00,  1.31it/s]\n",
      "Draw: 100%|█████████████████████████████████████| 12/12 [00:14<00:00,  1.21s/it]\n",
      "Draw: 100%|█████████████████████████████████████| 12/12 [00:26<00:00,  2.21s/it]\n",
      "Draw: 100%|█████████████████████████████████████| 12/12 [00:35<00:00,  2.96s/it]\n",
      "Draw: 100%|█████████████████████████████████████| 12/12 [00:44<00:00,  3.70s/it]\n",
      "N: 100%|██████████████████████████████████████████| 7/7 [02:17<00:00, 19.61s/it]\n"
     ]
    }
   ],
   "source": [
    "model_prefix = \"hierarchical_bayesian\"\n",
    "\n",
    "mu_a_delta = None\n",
    "p_value = None\n",
    "a_error = None\n",
    "\n",
    "for N in tqdm(N_space[:N_LIM], desc=\"N\"):\n",
    "    curr_N_mu_delta = None\n",
    "    curr_N_p_value = None\n",
    "    curr_N_a_error = None\n",
    "\n",
    "    N_dir = f\"N_{N}\"\n",
    "\n",
    "    for draw_ind in tqdm(draws_space[:DRAW_LIM], desc=\"Draw\"):\n",
    "        curr_draw_mu_delta = None\n",
    "        curr_draw_p_value = None\n",
    "        curr_draw_a_error = None\n",
    "\n",
    "        draw_dir = f\"draw_{draw_ind}\"\n",
    "\n",
    "        for seed in repeats_space[:SEED_LIM]:\n",
    "            seed_dir = f\"seed_{seed}\"\n",
    "\n",
    "            \"\"\" Posterior samples \"\"\"\n",
    "            src = os.path.join(MODEL.build_dir, prefix, model_prefix, prefix_2, draw_dir, N_dir, seed_dir, \"inference.pkl\")\n",
    "            with open(src, \"rb\") as g:\n",
    "                posterior_samples, = pickle.load(g)\n",
    "\n",
    "            \"\"\" mu_a_delta \"\"\"\n",
    "            mu_delta_temp = posterior_samples[\"mu_a_delta\"]\n",
    "\n",
    "            mu_delta_temp = mu_delta_temp[None, ...]\n",
    "            if curr_draw_mu_delta is None:\n",
    "                curr_draw_mu_delta = mu_delta_temp\n",
    "            else:\n",
    "                curr_draw_mu_delta = np.concatenate([curr_draw_mu_delta, mu_delta_temp], axis=0)\n",
    "\n",
    "            \"\"\" True threshold \"\"\"\n",
    "            subjects_ind = \\\n",
    "                jax.random.choice(\n",
    "                    key=jax.random.PRNGKey(seed),\n",
    "                    a=np.arange(0, TOTAL_SUBJECTS, 1),\n",
    "                    shape=(N,),\n",
    "                    replace=False\n",
    "                ) \\\n",
    "                .tolist()\n",
    "            a_true = a[draw_ind, ...]\n",
    "            a_true = a_true[sorted(subjects_ind), ...]\n",
    "\n",
    "            \"\"\" Estimated threshold \"\"\"\n",
    "            a_temp = np.array(posterior_samples[site.a].mean(axis=0))\n",
    "\n",
    "            \"\"\" Error \"\"\"\n",
    "            mae_temp = np.abs(a_true - a_temp)\n",
    "            mae_temp = mae_temp.reshape(-1,).mean().item()\n",
    "\n",
    "            mse_temp = (a_true - a_temp) ** 2\n",
    "            mse_temp = mse_temp.reshape(-1,).mean().item()\n",
    "\n",
    "            error_temp = np.array([mae_temp, mse_temp])\n",
    "\n",
    "            error_temp = error_temp[None, ...]\n",
    "            if curr_draw_a_error is None:\n",
    "                curr_draw_a_error = error_temp\n",
    "            else:\n",
    "                curr_draw_a_error = np.concatenate([curr_draw_a_error, error_temp], axis=0)\n",
    "\n",
    "            \"\"\" p-value \"\"\"\n",
    "            diff = a_temp[..., 1, 0] - a_temp[..., 0, 0]\n",
    "            diff = diff.reshape(-1,)\n",
    "\n",
    "            ttest = stats.ttest_1samp(a=diff, popmean=0, alternative=\"less\").pvalue\n",
    "            ranktest = stats.wilcoxon(x=diff, alternative=\"less\").pvalue\n",
    "\n",
    "            p_value_temp = np.array([ttest, ranktest])\n",
    "\n",
    "            p_value_temp = p_value_temp[None, ...]\n",
    "            if curr_draw_p_value is None:\n",
    "                curr_draw_p_value = p_value_temp\n",
    "            else:\n",
    "                curr_draw_p_value = np.concatenate([curr_draw_p_value, p_value_temp], axis=0)\n",
    "\n",
    "        curr_draw_mu_delta = curr_draw_mu_delta[None, ...]\n",
    "        if curr_N_mu_delta is None:\n",
    "            curr_N_mu_delta = curr_draw_mu_delta\n",
    "        else:\n",
    "            curr_N_mu_delta = np.concatenate([curr_N_mu_delta, curr_draw_mu_delta], axis=0)\n",
    "\n",
    "        curr_draw_a_error = curr_draw_a_error[None, ...]\n",
    "        if curr_N_a_error is None:\n",
    "            curr_N_a_error = curr_draw_a_error\n",
    "        else:\n",
    "            curr_N_a_error = np.concatenate([curr_N_a_error, curr_draw_a_error], axis=0)\n",
    "\n",
    "        curr_draw_p_value = curr_draw_p_value[None, ...]\n",
    "        if curr_N_p_value is None:\n",
    "            curr_N_p_value = curr_draw_p_value\n",
    "        else:\n",
    "            curr_N_p_value = np.concatenate([curr_N_p_value, curr_draw_p_value], axis=0)\n",
    "\n",
    "    curr_N_mu_delta = curr_N_mu_delta[None, ...]\n",
    "    if mu_a_delta is None:\n",
    "        mu_a_delta = curr_N_mu_delta\n",
    "    else:\n",
    "        mu_a_delta = np.concatenate([mu_a_delta, curr_N_mu_delta], axis=0)\n",
    "\n",
    "    curr_N_a_error = curr_N_a_error[None, ...]\n",
    "    if a_error is None:\n",
    "        a_error = curr_N_a_error\n",
    "    else:\n",
    "        a_error = np.concatenate([a_error, curr_N_a_error], axis=0)\n",
    "\n",
    "    curr_N_p_value = curr_N_p_value[None, ...]\n",
    "    if p_value is None:\n",
    "        p_value = curr_N_p_value\n",
    "    else:\n",
    "        p_value = np.concatenate([p_value, curr_N_p_value], axis=0)\n"
   ]
  },
  {
   "cell_type": "code",
   "execution_count": 18,
   "metadata": {},
   "outputs": [],
   "source": [
    "hbm_mu_delta = mu_a_delta.copy()\n",
    "hbm_error = a_error.copy()\n",
    "hbm_p_value = p_value.copy()\n"
   ]
  },
  {
   "cell_type": "code",
   "execution_count": 19,
   "metadata": {},
   "outputs": [
    {
     "name": "stderr",
     "output_type": "stream",
     "text": [
      "Draw: 100%|█████████████████████████████████████| 12/12 [00:04<00:00,  2.87it/s]\n",
      "Draw: 100%|█████████████████████████████████████| 12/12 [00:07<00:00,  1.65it/s]\n",
      "Draw: 100%|█████████████████████████████████████| 12/12 [00:10<00:00,  1.16it/s]\n",
      "Draw: 100%|█████████████████████████████████████| 12/12 [00:15<00:00,  1.32s/it]\n",
      "Draw: 100%|█████████████████████████████████████| 12/12 [00:26<00:00,  2.25s/it]\n",
      "Draw: 100%|█████████████████████████████████████| 12/12 [00:35<00:00,  2.92s/it]\n",
      "Draw: 100%|█████████████████████████████████████| 12/12 [00:44<00:00,  3.68s/it]\n",
      "N: 100%|██████████████████████████████████████████| 7/7 [02:23<00:00, 20.56s/it]\n"
     ]
    }
   ],
   "source": [
    "model_prefix = \"non_hierarchical_bayesian\"\n",
    "\n",
    "p_value = None\n",
    "a_error = None\n",
    "\n",
    "for N in tqdm(N_space[:N_LIM], desc=\"N\"):\n",
    "    curr_N_p_value = None\n",
    "    curr_N_a_error = None\n",
    "\n",
    "    N_dir = f\"N_{N}\"\n",
    "\n",
    "    for draw_ind in tqdm(draws_space[:DRAW_LIM], desc=\"Draw\"):\n",
    "        curr_draw_p_value = None\n",
    "        curr_draw_a_error = None\n",
    "\n",
    "        draw_dir = f\"draw_{draw_ind}\"\n",
    "\n",
    "        for seed in repeats_space[:SEED_LIM]:\n",
    "            seed_dir = f\"seed_{seed}\"\n",
    "\n",
    "            \"\"\" Posterior samples \"\"\"\n",
    "            src = os.path.join(MODEL.build_dir, prefix, model_prefix, prefix_2, draw_dir, N_dir, seed_dir, \"inference.pkl\")\n",
    "            with open(src, \"rb\") as g:\n",
    "                posterior_samples, = pickle.load(g)\n",
    "\n",
    "            \"\"\" True threshold \"\"\"\n",
    "            subjects_ind = \\\n",
    "                jax.random.choice(\n",
    "                    key=jax.random.PRNGKey(seed),\n",
    "                    a=np.arange(0, TOTAL_SUBJECTS, 1),\n",
    "                    shape=(N,),\n",
    "                    replace=False\n",
    "                ) \\\n",
    "                .tolist()\n",
    "            a_true = a[draw_ind, ...]\n",
    "            a_true = a_true[sorted(subjects_ind), ...]\n",
    "\n",
    "            \"\"\" Estimated threshold \"\"\"\n",
    "            a_temp = np.array(posterior_samples[site.a].mean(axis=0))\n",
    "\n",
    "            \"\"\" Error \"\"\"\n",
    "            mae_temp = np.abs(a_true - a_temp)\n",
    "            mae_temp = mae_temp.reshape(-1,).mean().item()\n",
    "\n",
    "            mse_temp = (a_true - a_temp) ** 2\n",
    "            mse_temp = mse_temp.reshape(-1,).mean().item()\n",
    "\n",
    "            error_temp = np.array([mae_temp, mse_temp])\n",
    "\n",
    "            error_temp = error_temp[None, ...]\n",
    "            if curr_draw_a_error is None:\n",
    "                curr_draw_a_error = error_temp\n",
    "            else:\n",
    "                curr_draw_a_error = np.concatenate([curr_draw_a_error, error_temp], axis=0)\n",
    "\n",
    "            \"\"\" p-value \"\"\"\n",
    "            diff = a_temp[..., 1, 0] - a_temp[..., 0, 0]\n",
    "            diff = diff.reshape(-1,)\n",
    "\n",
    "            ttest = stats.ttest_1samp(a=diff, popmean=0, alternative=\"less\").pvalue\n",
    "            ranktest = stats.wilcoxon(x=diff, alternative=\"less\").pvalue\n",
    "\n",
    "            p_value_temp = np.array([ttest, ranktest])\n",
    "\n",
    "            p_value_temp = p_value_temp[None, ...]\n",
    "            if curr_draw_p_value is None:\n",
    "                curr_draw_p_value = p_value_temp\n",
    "            else:\n",
    "                curr_draw_p_value = np.concatenate([curr_draw_p_value, p_value_temp], axis=0)\n",
    "\n",
    "        curr_draw_a_error = curr_draw_a_error[None, ...]\n",
    "        if curr_N_a_error is None:\n",
    "            curr_N_a_error = curr_draw_a_error\n",
    "        else:\n",
    "            curr_N_a_error = np.concatenate([curr_N_a_error, curr_draw_a_error], axis=0)\n",
    "\n",
    "        curr_draw_p_value = curr_draw_p_value[None, ...]\n",
    "        if curr_N_p_value is None:\n",
    "            curr_N_p_value = curr_draw_p_value\n",
    "        else:\n",
    "            curr_N_p_value = np.concatenate([curr_N_p_value, curr_draw_p_value], axis=0)\n",
    "\n",
    "    curr_N_a_error = curr_N_a_error[None, ...]\n",
    "    if a_error is None:\n",
    "        a_error = curr_N_a_error\n",
    "    else:\n",
    "        a_error = np.concatenate([a_error, curr_N_a_error], axis=0)\n",
    "\n",
    "    curr_N_p_value = curr_N_p_value[None, ...]\n",
    "    if p_value is None:\n",
    "        p_value = curr_N_p_value\n",
    "    else:\n",
    "        p_value = np.concatenate([p_value, curr_N_p_value], axis=0)\n"
   ]
  },
  {
   "cell_type": "code",
   "execution_count": 21,
   "metadata": {},
   "outputs": [],
   "source": [
    "nhbm_error = a_error.copy()\n",
    "nhbm_p_value = p_value.copy()"
   ]
  },
  {
   "cell_type": "code",
   "execution_count": 22,
   "metadata": {},
   "outputs": [],
   "source": [
    "def _process(arr):\n",
    "    me = arr.mean(axis=-1)\n",
    "    sem = stats.sem(arr, axis=-1)\n",
    "    std = arr.std(axis=-1)\n",
    "    return me, sem, std\n",
    "\n",
    "def _process_bp(arr):\n",
    "    arr = ((arr < 0).mean(axis=(-1, -2, -3)) > .95).mean(axis=-1)\n",
    "    return _process(arr)\n",
    "\n",
    "def _process_fp(arr):\n",
    "    arr = (arr < .05).mean(axis=-1)\n",
    "    return _process(arr)\n"
   ]
  },
  {
   "cell_type": "code",
   "execution_count": 27,
   "metadata": {},
   "outputs": [
    {
     "data": {
      "image/png": "[encoded data removed]",
      "text/plain": [
       "<Figure size 500x300 with 1 Axes>"
      ]
     },
     "metadata": {},
     "output_type": "display_data"
    }
   ],
   "source": [
    "nrows, ncols = 1, 1\n",
    "fig, axes = plt.subplots(nrows=nrows, ncols=ncols, figsize=(5 * ncols, 3 * nrows), squeeze=False, constrained_layout=True)\n",
    "ax = axes[0, 0]\n",
    "\n",
    "me, sem, std = _process(hbm_error[..., 0].reshape(N_LIM, -1))\n",
    "ax.errorbar(x=N_space[:N_LIM], y=me, yerr=sem, marker=\"o\", label=\"Hb\")\n",
    "\n",
    "me, sem, std = _process(nhbm_error[..., 0].reshape(N_LIM, -1))\n",
    "ax.errorbar(x=N_space[:N_LIM], y=me, yerr=sem, marker=\"o\", label=\"nHb\")\n",
    "\n",
    "ax.legend()\n",
    "ax.set_xticks(N_space[:N_LIM])\n",
    "ax.set_ylabel(\"MAE\")\n",
    "ax.set_xlabel(\"# Subjects\");"
   ]
  },
  {
   "cell_type": "code",
   "execution_count": 26,
   "metadata": {},
   "outputs": [
    {
     "data": {
      "text/plain": [
       "(7, 12, 50)"
      ]
     },
     "execution_count": 26,
     "metadata": {},
     "output_type": "execute_result"
    }
   ],
   "source": [
    "hbm_error[..., 0].shape"
   ]
  },
  {
   "cell_type": "code",
   "execution_count": null,
   "metadata": {},
   "outputs": [],
   "source": [
    "nrows, ncols = 1, 1\n",
    "fig, axes = plt.subplots(nrows=nrows, ncols=ncols, figsize=(5 * ncols, 3 * nrows), squeeze=False, constrained_layout=True)\n",
    "ax = axes[0, 0]\n",
    "\n",
    "me, sem, std = _process(hbm_error[..., 0].reshape(N_LIM, -1))\n",
    "ax.errorbar(x=N_space[:N_LIM], y=me, yerr=std, marker=\"o\", label=\"Hb\")\n",
    "\n",
    "me, sem, std = _process(nhbm_error[..., 0].reshape(N_LIM, -1))\n",
    "ax.errorbar(x=N_space[:N_LIM], y=me, yerr=std, marker=\"o\", label=\"nHb\")\n",
    "\n",
    "ax.legend()\n",
    "ax.set_xticks(N_space[:N_LIM])\n",
    "ax.set_ylabel(\"MAE\")\n",
    "ax.set_xlabel(\"# Subjects\");"
   ]
  },
  {
   "cell_type": "code",
   "execution_count": 24,
   "metadata": {},
   "outputs": [
    {
     "data": {
      "text/plain": [
       "[<matplotlib.axis.XTick at 0x7f38212f3e10>,\n",
       " <matplotlib.axis.XTick at 0x7f38212f2010>,\n",
       " <matplotlib.axis.XTick at 0x7f3828272b50>,\n",
       " <matplotlib.axis.XTick at 0x7f3821352210>,\n",
       " <matplotlib.axis.XTick at 0x7f38213544d0>,\n",
       " <matplotlib.axis.XTick at 0x7f3821356710>,\n",
       " <matplotlib.axis.XTick at 0x7f3821357d10>]"
      ]
     },
     "execution_count": 24,
     "metadata": {},
     "output_type": "execute_result"
    },
    {
     "data": {
      "image/png": "[encoded data removed]",
      "text/plain": [
       "<Figure size 500x300 with 1 Axes>"
      ]
     },
     "metadata": {},
     "output_type": "display_data"
    }
   ],
   "source": [
    "nrows, ncols = 1, 1\n",
    "fig, axes = plt.subplots(nrows=nrows, ncols=ncols, figsize=(5 * ncols, 3 * nrows), squeeze=False, constrained_layout=True)\n",
    "ax = axes[0, 0]\n",
    "\n",
    "me, sem, std = _process_bp(hbm_mu_delta)\n",
    "ax.errorbar(x=N_space[:N_LIM], y=me, yerr=sem, marker=\"o\", label=\"Bayes prob.\")\n",
    "\n",
    "me, sem, std = _process_fp(hbm_p_value[..., 0])\n",
    "ax.errorbar(x=N_space[:N_LIM], y=me, yerr=sem, marker=\"o\", label=\"Hb t-test\")\n",
    "\n",
    "me, sem, std = _process_fp(hbm_p_value[..., 1])\n",
    "ax.errorbar(x=N_space[:N_LIM], y=me, yerr=sem, marker=\"o\", label=\"Hb signed-rank\")\n",
    "\n",
    "me, sem, std = _process_fp(nhbm_p_value[..., 0])\n",
    "ax.errorbar(x=N_space[:N_LIM], y=me, yerr=sem, marker=\"o\", label=\"nHb t-test\")\n",
    "\n",
    "me, sem, std = _process_fp(nhbm_p_value[..., 1])\n",
    "ax.errorbar(x=N_space[:N_LIM], y=me, yerr=sem, marker=\"o\", label=\"nHb signed-rank\")\n",
    "\n",
    "ax.legend()\n",
    "ax.set_xticks(N_space[:N_LIM])"
   ]
  },
  {
   "cell_type": "code",
   "execution_count": 34,
   "metadata": {},
   "outputs": [
    {
     "data": {
      "image/png": "[encoded data removed]",
      "text/plain": [
       "<Figure size 500x300 with 1 Axes>"
      ]
     },
     "metadata": {},
     "output_type": "display_data"
    }
   ],
   "source": [
    "nrows, ncols = 1, 1\n",
    "fig, axes = plt.subplots(nrows=nrows, ncols=ncols, figsize=(5 * ncols, 3 * nrows), squeeze=False, constrained_layout=True)\n",
    "ax = axes[0, 0]\n",
    "\n",
    "me, sem, std = _process(hbm_error[..., 0].reshape(N_LIM, -1))\n",
    "ax.errorbar(x=N_space[:N_LIM], y=me, yerr=sem, marker=\"o\", label=\"Hb\")\n",
    "\n",
    "me, sem, std = _process(nhbm_error[..., 0].reshape(N_LIM, -1))\n",
    "ax.errorbar(x=N_space[:N_LIM], y=me, yerr=sem, marker=\"o\", label=\"nHb\")\n",
    "\n",
    "ax.legend()\n",
    "ax.set_xticks(N_space[:N_LIM])\n",
    "ax.set_ylabel(\"MAE\")\n",
    "ax.set_xlabel(\"# Subjects\");\n"
   ]
  },
  {
   "cell_type": "code",
   "execution_count": 51,
   "metadata": {},
   "outputs": [
    {
     "data": {
      "text/plain": [
       "[<matplotlib.axis.XTick at 0x7f7580545390>,\n",
       " <matplotlib.axis.XTick at 0x7f76a87cbf50>,\n",
       " <matplotlib.axis.XTick at 0x7f758052f150>]"
      ]
     },
     "execution_count": 51,
     "metadata": {},
     "output_type": "execute_result"
    },
    {
     "data": {
      "image/png": "[encoded data removed]",
      "text/plain": [
       "<Figure size 500x300 with 1 Axes>"
      ]
     },
     "metadata": {},
     "output_type": "display_data"
    }
   ],
   "source": [
    "nrows, ncols = 1, 1\n",
    "fig, axes = plt.subplots(nrows=nrows, ncols=ncols, figsize=(5 * ncols, 3 * nrows), squeeze=False, constrained_layout=True)\n",
    "ax = axes[0, 0]\n",
    "\n",
    "me, sem, std = _process_bp(hbm_mu_delta)\n",
    "ax.errorbar(x=N_space[:N_LIM], y=me, yerr=sem, marker=\"o\", label=\"Bayes prob.\")\n",
    "\n",
    "me, sem, std = _process_fp(hbm_p_value[..., 0])\n",
    "ax.errorbar(x=N_space[:N_LIM], y=me, yerr=sem, marker=\"o\", label=\"Hb t-test\")\n",
    "\n",
    "me, sem, std = _process_fp(hbm_p_value[..., 1])\n",
    "ax.errorbar(x=N_space[:N_LIM], y=me, yerr=sem, marker=\"o\", label=\"Hb signed-rank\")\n",
    "\n",
    "me, sem, std = _process_fp(nhbm_p_value[..., 0])\n",
    "ax.errorbar(x=N_space[:N_LIM], y=me, yerr=sem, marker=\"o\", label=\"nHb t-test\")\n",
    "\n",
    "me, sem, std = _process_fp(nhbm_p_value[..., 1])\n",
    "ax.errorbar(x=N_space[:N_LIM], y=me, yerr=sem, marker=\"o\", label=\"nHb signed-rank\")\n",
    "\n",
    "ax.legend()\n",
    "ax.set_xticks(N_space[:N_LIM])"
   ]
  },
  {
   "cell_type": "code",
   "execution_count": null,
   "metadata": {},
   "outputs": [],
   "source": []
  }
 ],
 "metadata": {
  "kernelspec": {
   "display_name": "Python 3 (ipykernel)",
   "language": "python",
   "name": "python3"
  },
  "language_info": {
   "codemirror_mode": {
    "name": "ipython",
    "version": 3
   },
   "file_extension": ".py",
   "mimetype": "text/x-python",
   "name": "python",
   "nbconvert_exporter": "python",
   "pygments_lexer": "ipython3",
   "version": "3.11.4"
  },
  "orig_nbformat": 4
 },
 "nbformat": 4,
 "nbformat_minor": 2
}
