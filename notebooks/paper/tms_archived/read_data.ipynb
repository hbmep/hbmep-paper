{
 "cells": [
  {
   "cell_type": "code",
   "execution_count": 1,
   "metadata": {},
   "outputs": [],
   "source": [
    "%reload_ext autoreload\n",
    "%autoreload 2\n",
    "\n",
    "import os\n",
    "import glob\n",
    "from pathlib import Path\n",
    "\n",
    "import numpy as np\n",
    "import pandas as pd\n",
    "\n",
    "from tqdm import tqdm\n",
    "from hbmep.utils import timing\n",
    "import mat73\n",
    "import tomllib\n"
   ]
  },
  {
   "cell_type": "code",
   "execution_count": 2,
   "metadata": {},
   "outputs": [],
   "source": [
    "MUSCLES = [\"ADM\", \"APB\", \"Biceps\", \"ECR\", \"FCR\", \"Triceps\"]\n",
    "PKPK_MUSCLES = [\"PKPK_\" + m for m in MUSCLES]\n",
    "AUC_MUSCLES = [\"AUC_\" + m for m in MUSCLES]\n",
    "\n",
    "@timing\n",
    "def load_tms_data(\n",
    "    dir: Path,\n",
    "    subjects: list[str]\n",
    "):\n",
    "    df = None\n",
    "\n",
    "    for subject in tqdm(subjects):\n",
    "        subdir = os.path.join(dir, subject)\n",
    "\n",
    "        fpath = glob.glob(f\"{subdir}/*REC_table.csv\")[0]\n",
    "        temp_df = pd.read_csv(fpath)\n",
    "\n",
    "        fpath = glob.glob(f\"{subdir}/*ep_matrix.mat\")[0]\n",
    "        data_dict = mat73.loadmat(fpath)\n",
    "\n",
    "        temp_mat = data_dict[\"ep_sliced\"]\n",
    "\n",
    "        fpath = glob.glob(f\"{subdir}/*cfg_proc.toml\")[0]\n",
    "        with open(fpath, \"rb\") as f:\n",
    "            cfg_proc = tomllib.load(f)\n",
    "\n",
    "        temp_df[\"participant\"] = subject\n",
    "\n",
    "        # Rename columns to actual muscle names\n",
    "        muscles = cfg_proc[\"st\"][\"channel\"]\n",
    "        pkpk_muscles_map = {\n",
    "            f\"pkpk_{i + 1}\": \"PKPK_\" + m for i, m in enumerate(muscles)\n",
    "        }\n",
    "        auc_muscles_map = {\n",
    "            f\"auc_{i + 1}\": \"AUC_\" + m for i, m in enumerate(muscles)\n",
    "        }\n",
    "        temp_df = temp_df.rename(columns=pkpk_muscles_map).copy()\n",
    "        temp_df = temp_df.rename(columns=auc_muscles_map).copy()\n",
    "\n",
    "        # Reorder MEP matrix\n",
    "        temp_mat = temp_mat[..., np.argsort(muscles)]\n",
    "\n",
    "        assert temp_df[\"target_muscle\"].unique().shape[0] == 1\n",
    "        side = temp_df[\"target_muscle\"].unique()[0][0]\n",
    "\n",
    "        pkpk_side_muscles = [\"PKPK_\" + side + muscle for muscle in MUSCLES]\n",
    "        temp_df[PKPK_MUSCLES] = temp_df[pkpk_side_muscles]\n",
    "\n",
    "        auc_side_muscles = [\"AUC_\" + side + muscle for muscle in MUSCLES]\n",
    "        temp_df[AUC_MUSCLES] = temp_df[auc_side_muscles]\n",
    "\n",
    "        side_muscles = [side + muscle for muscle in MUSCLES]\n",
    "\n",
    "        ind = [i for i, m in enumerate(sorted(muscles)) if m in side_muscles]\n",
    "        temp_mat = temp_mat[..., ind]\n",
    "\n",
    "        if df is None:\n",
    "            df = temp_df.copy()\n",
    "            mat = temp_mat\n",
    "\n",
    "            # time = data_dict[\"t_sliced\"]\n",
    "            # auc_window = cfg_proc[\"auc\"][\"t_slice_minmax\"]\n",
    "            muscles_sorted = sorted(muscles)\n",
    "\n",
    "            assert len(set(muscles_sorted)) == len(muscles_sorted)\n",
    "            continue\n",
    "\n",
    "        # assert (data_dict[\"t_sliced\"] == time).all()\n",
    "        # assert cfg_proc[\"auc\"][\"t_slice_minmax\"] == auc_window\n",
    "        assert set(muscles) == set(muscles_sorted)\n",
    "\n",
    "        df = pd.concat([df, temp_df], ignore_index=True).reset_index(drop=True).copy()\n",
    "        mat = np.vstack((mat, temp_mat))\n",
    "\n",
    "    # # Rename df response columns to auc_i\n",
    "    # pkpk_muscles_map = {\n",
    "    #     m: f\"pkpk_{i + 1}\" for i, m in enumerate(muscles_sorted)\n",
    "    # }\n",
    "    # auc_muscles_map = {\n",
    "    #     m: f\"auc_{i + 1}\" for i, m in enumerate(muscles_sorted)\n",
    "    # }\n",
    "    # df = df.rename(columns=muscles_map).reset_index(drop=True).copy()\n",
    "\n",
    "    # muscles_map = {\n",
    "    #     v: u for u, v in muscles_map.items()\n",
    "    # }\n",
    "    return df, mat, pkpk_muscles_map, auc_muscles_map"
   ]
  },
  {
   "cell_type": "code",
   "execution_count": 3,
   "metadata": {},
   "outputs": [
    {
     "name": "stderr",
     "output_type": "stream",
     "text": [
      "  0%|                                                  | 0/16 [00:00<?, ?it/s]"
     ]
    },
    {
     "name": "stderr",
     "output_type": "stream",
     "text": [
      "100%|█████████████████████████████████████████| 16/16 [00:02<00:00,  6.60it/s]\n",
      "2023-11-08 11:49:19,459 - hbmep.utils.utils - INFO - func:load_tms_data took: 2.43 sec\n"
     ]
    },
    {
     "data": {
      "text/plain": [
       "(1112, 127)"
      ]
     },
     "execution_count": 3,
     "metadata": {},
     "output_type": "execute_result"
    }
   ],
   "source": [
    "# dir = \"/mount/hdd1/human_non-inv/proc\"\n",
    "dir = \"/mount/hdd1/human_non-inv/proc-2023-10-27\"\n",
    "# subjects = [\"SCA01\", \"SCA02\", \"SCA04\", \"SCA05\", \"SCA06\", \"SCA07\", \"SCA09\", \"SCA10\", \"SCA11\", \"SCS01\", \"SCS02\", \"SCS03\", \"SCS04\"]\n",
    "subjects = [\"SCA01\", \"SCA02\", \"SCA03\", \"SCA04\", \"SCA05\", \"SCA06\", \"SCA07\", \"SCA09\", \"SCA10\", \"SCA11\", \"SCS01\", \"SCS02\", \"SCS03\", \"SCS04\", \"SCS05\", \"SCS06\"]\n",
    "\n",
    "df, mat, pkpk_muscles_map, auc_muscles_map = load_tms_data(dir=dir, subjects=subjects)\n",
    "\n",
    "df.shape"
   ]
  },
  {
   "cell_type": "code",
   "execution_count": 4,
   "metadata": {},
   "outputs": [
    {
     "data": {
      "text/plain": [
       "(1112, 1501, 6)"
      ]
     },
     "execution_count": 4,
     "metadata": {},
     "output_type": "execute_result"
    }
   ],
   "source": [
    "mat.shape"
   ]
  },
  {
   "cell_type": "code",
   "execution_count": 5,
   "metadata": {},
   "outputs": [
    {
     "data": {
      "text/html": [
       "<div>\n",
       "<style scoped>\n",
       "    .dataframe tbody tr th:only-of-type {\n",
       "        vertical-align: middle;\n",
       "    }\n",
       "\n",
       "    .dataframe tbody tr th {\n",
       "        vertical-align: top;\n",
       "    }\n",
       "\n",
       "    .dataframe thead th {\n",
       "        text-align: right;\n",
       "    }\n",
       "</style>\n",
       "<table border=\"1\" class=\"dataframe\">\n",
       "  <thead>\n",
       "    <tr style=\"text-align: right;\">\n",
       "      <th></th>\n",
       "      <th>participant</th>\n",
       "      <th>target_muscle</th>\n",
       "    </tr>\n",
       "  </thead>\n",
       "  <tbody>\n",
       "    <tr>\n",
       "      <th>0</th>\n",
       "      <td>SCA01</td>\n",
       "      <td>LAPB</td>\n",
       "    </tr>\n",
       "    <tr>\n",
       "      <th>1</th>\n",
       "      <td>SCA02</td>\n",
       "      <td>RAPB</td>\n",
       "    </tr>\n",
       "    <tr>\n",
       "      <th>2</th>\n",
       "      <td>SCA03</td>\n",
       "      <td>RAPB</td>\n",
       "    </tr>\n",
       "    <tr>\n",
       "      <th>3</th>\n",
       "      <td>SCA04</td>\n",
       "      <td>RAPB</td>\n",
       "    </tr>\n",
       "    <tr>\n",
       "      <th>4</th>\n",
       "      <td>SCA05</td>\n",
       "      <td>RAPB</td>\n",
       "    </tr>\n",
       "    <tr>\n",
       "      <th>5</th>\n",
       "      <td>SCA06</td>\n",
       "      <td>RAPB</td>\n",
       "    </tr>\n",
       "    <tr>\n",
       "      <th>6</th>\n",
       "      <td>SCA07</td>\n",
       "      <td>RAPB</td>\n",
       "    </tr>\n",
       "    <tr>\n",
       "      <th>7</th>\n",
       "      <td>SCA09</td>\n",
       "      <td>RAPB</td>\n",
       "    </tr>\n",
       "    <tr>\n",
       "      <th>8</th>\n",
       "      <td>SCA10</td>\n",
       "      <td>RAPB</td>\n",
       "    </tr>\n",
       "    <tr>\n",
       "      <th>9</th>\n",
       "      <td>SCA11</td>\n",
       "      <td>RAPB</td>\n",
       "    </tr>\n",
       "    <tr>\n",
       "      <th>10</th>\n",
       "      <td>SCS01</td>\n",
       "      <td>LAPB</td>\n",
       "    </tr>\n",
       "    <tr>\n",
       "      <th>11</th>\n",
       "      <td>SCS02</td>\n",
       "      <td>RAPB</td>\n",
       "    </tr>\n",
       "    <tr>\n",
       "      <th>12</th>\n",
       "      <td>SCS03</td>\n",
       "      <td>RAPB</td>\n",
       "    </tr>\n",
       "    <tr>\n",
       "      <th>13</th>\n",
       "      <td>SCS04</td>\n",
       "      <td>RAPB</td>\n",
       "    </tr>\n",
       "    <tr>\n",
       "      <th>14</th>\n",
       "      <td>SCS05</td>\n",
       "      <td>RAPB</td>\n",
       "    </tr>\n",
       "    <tr>\n",
       "      <th>15</th>\n",
       "      <td>SCS06</td>\n",
       "      <td>RFDI</td>\n",
       "    </tr>\n",
       "  </tbody>\n",
       "</table>\n",
       "</div>"
      ],
      "text/plain": [
       "   participant target_muscle\n",
       "0        SCA01          LAPB\n",
       "1        SCA02          RAPB\n",
       "2        SCA03          RAPB\n",
       "3        SCA04          RAPB\n",
       "4        SCA05          RAPB\n",
       "5        SCA06          RAPB\n",
       "6        SCA07          RAPB\n",
       "7        SCA09          RAPB\n",
       "8        SCA10          RAPB\n",
       "9        SCA11          RAPB\n",
       "10       SCS01          LAPB\n",
       "11       SCS02          RAPB\n",
       "12       SCS03          RAPB\n",
       "13       SCS04          RAPB\n",
       "14       SCS05          RAPB\n",
       "15       SCS06          RFDI"
      ]
     },
     "execution_count": 5,
     "metadata": {},
     "output_type": "execute_result"
    }
   ],
   "source": [
    "target_df = df \\\n",
    "    .groupby(by=[\"participant\"], as_index=False) \\\n",
    "    .agg({\"target_muscle\": np.unique}) \\\n",
    "    .explode(column=\"target_muscle\") \\\n",
    "    .reset_index(drop=True) \\\n",
    "    .copy()\n",
    "\n",
    "target_df"
   ]
  },
  {
   "cell_type": "code",
   "execution_count": 6,
   "metadata": {},
   "outputs": [],
   "source": [
    "for subject in df.participant.unique():\n",
    "    ind = df.participant.isin([subject])\n",
    "    temp_df = df[ind].reset_index(drop=True).copy()\n",
    "\n",
    "    side = temp_df.target_muscle.unique()[0][0]\n",
    "    pkpk_sided_muscles = [\"PKPK_\" + side + m for m in MUSCLES]\n",
    "    auc_sided_muscles = [\"AUC_\" + side + m for m in MUSCLES]\n",
    "\n",
    "    assert (temp_df[PKPK_MUSCLES].to_numpy() == temp_df[pkpk_sided_muscles].to_numpy()).all()\n",
    "    assert (temp_df[AUC_MUSCLES].to_numpy() == temp_df[auc_sided_muscles].to_numpy()).all()\n"
   ]
  },
  {
   "cell_type": "code",
   "execution_count": 7,
   "metadata": {},
   "outputs": [],
   "source": [
    "dst = \"/home/vishu/data/hbmep-processed/human/tms\"\n",
    "df.to_csv(os.path.join(dst, \"data_pkpk_auc_proc-2023-10-27.csv\"), index=False)\n",
    "\n",
    "np.save(os.path.join(dst, \"mep_matrix_pkpk_auc_proc-2023-10-27.npy\"), mat)\n",
    "# np.save(os.path.join(dst, \"auc_window.npy\"), np.array(auc_window))\n"
   ]
  },
  {
   "cell_type": "code",
   "execution_count": 8,
   "metadata": {},
   "outputs": [],
   "source": [
    "import json\n",
    "\n",
    "f = open(os.path.join(dst, \"pkpk_muscles_map.json\"), \"w\")\n",
    "f.write(json.dumps(pkpk_muscles_map))\n",
    "f.close;\n",
    "\n",
    "f = open(os.path.join(dst, \"auc_muscles_map.json\"), \"w\")\n",
    "f.write(json.dumps(auc_muscles_map))\n",
    "f.close;\n"
   ]
  },
  {
   "cell_type": "code",
   "execution_count": 9,
   "metadata": {},
   "outputs": [
    {
     "data": {
      "text/plain": [
       "{'pkpk_1': 'PKPK_LBiceps',\n",
       " 'pkpk_2': 'PKPK_RBiceps',\n",
       " 'pkpk_3': 'PKPK_LTriceps',\n",
       " 'pkpk_4': 'PKPK_RTriceps',\n",
       " 'pkpk_5': 'PKPK_LFCR',\n",
       " 'pkpk_6': 'PKPK_RFCR',\n",
       " 'pkpk_7': 'PKPK_LECR',\n",
       " 'pkpk_8': 'PKPK_RECR',\n",
       " 'pkpk_9': 'PKPK_LAPB',\n",
       " 'pkpk_10': 'PKPK_RAPB',\n",
       " 'pkpk_11': 'PKPK_LADM',\n",
       " 'pkpk_12': 'PKPK_RADM',\n",
       " 'pkpk_13': 'PKPK_LFDI',\n",
       " 'pkpk_14': 'PKPK_RFDI',\n",
       " 'pkpk_15': 'PKPK_LTA',\n",
       " 'pkpk_16': 'PKPK_RTA',\n",
       " 'pkpk_17': 'PKPK_trigger_tscs',\n",
       " 'pkpk_18': 'PKPK_trigger_peripheral',\n",
       " 'pkpk_19': 'PKPK_trigger_tms'}"
      ]
     },
     "execution_count": 9,
     "metadata": {},
     "output_type": "execute_result"
    }
   ],
   "source": [
    "pkpk_muscles_map"
   ]
  },
  {
   "cell_type": "code",
   "execution_count": 10,
   "metadata": {},
   "outputs": [
    {
     "data": {
      "text/plain": [
       "{'LADM': 'auc_1',\n",
       " 'LAPB': 'auc_2',\n",
       " 'LBiceps': 'auc_3',\n",
       " 'LECR': 'auc_4',\n",
       " 'LFCR': 'auc_5',\n",
       " 'LFDI': 'auc_6',\n",
       " 'LTA': 'auc_7',\n",
       " 'LTriceps': 'auc_8',\n",
       " 'RADM': 'auc_9',\n",
       " 'RAPB': 'auc_10',\n",
       " 'RBiceps': 'auc_11',\n",
       " 'RECR': 'auc_12',\n",
       " 'RFCR': 'auc_13',\n",
       " 'RFDI': 'auc_14',\n",
       " 'RTA': 'auc_15',\n",
       " 'RTriceps': 'auc_16',\n",
       " 'trigger_peripheral': 'auc_17',\n",
       " 'trigger_tms': 'auc_18',\n",
       " 'trigger_tscs': 'auc_19'}"
      ]
     },
     "execution_count": 10,
     "metadata": {},
     "output_type": "execute_result"
    }
   ],
   "source": [
    "auc_muscles_map"
   ]
  },
  {
   "cell_type": "code",
   "execution_count": 11,
   "metadata": {},
   "outputs": [
    {
     "name": "stdout",
     "output_type": "stream",
     "text": [
      "-0.15 0.15\n"
     ]
    }
   ],
   "source": [
    "fpath = os.path.join(dir, \"SCA01\", \"SCA01_V1T0_TMS_REC_ep_matrix.mat\")\n",
    "data_dict = mat73.loadmat(fpath)\n",
    "\n",
    "t = data_dict[\"t_sliced\"]\n",
    "print(t.min(), t.max())"
   ]
  },
  {
   "cell_type": "code",
   "execution_count": 12,
   "metadata": {},
   "outputs": [
    {
     "data": {
      "text/plain": [
       "(568, 114)"
      ]
     },
     "execution_count": 12,
     "metadata": {},
     "output_type": "execute_result"
    }
   ],
   "source": [
    "df.shape"
   ]
  },
  {
   "cell_type": "code",
   "execution_count": 13,
   "metadata": {},
   "outputs": [
    {
     "data": {
      "text/plain": [
       "(568, 1501, 0)"
      ]
     },
     "execution_count": 13,
     "metadata": {},
     "output_type": "execute_result"
    }
   ],
   "source": [
    "mat.shape\n"
   ]
  },
  {
   "cell_type": "code",
   "execution_count": 14,
   "metadata": {},
   "outputs": [
    {
     "data": {
      "text/plain": [
       "True"
      ]
     },
     "execution_count": 14,
     "metadata": {},
     "output_type": "execute_result"
    }
   ],
   "source": [
    "sorted(MUSCLES) == MUSCLES\n"
   ]
  },
  {
   "cell_type": "code",
   "execution_count": null,
   "metadata": {},
   "outputs": [],
   "source": []
  }
 ],
 "metadata": {
  "kernelspec": {
   "display_name": "Python 3 (ipykernel)",
   "language": "python",
   "name": "python3"
  },
  "language_info": {
   "codemirror_mode": {
    "name": "ipython",
    "version": 3
   },
   "file_extension": ".py",
   "mimetype": "text/x-python",
   "name": "python",
   "nbconvert_exporter": "python",
   "pygments_lexer": "ipython3",
   "version": "3.11.4"
  },
  "orig_nbformat": 4,
  "vscode": {
   "interpreter": {
    "hash": "850bfd4e6f5ddd996dd5cd5088beecd08558625e274540230e1444ec52025b11"
   }
  }
 },
 "nbformat": 4,
 "nbformat_minor": 2
}
