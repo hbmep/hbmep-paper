{
 "cells": [
  {
   "cell_type": "code",
   "execution_count": 1,
   "metadata": {},
   "outputs": [],
   "source": [
    "%reload_ext autoreload\n",
    "%autoreload 2\n",
    "\n",
    "import os\n",
    "import pickle\n",
    "import logging\n",
    "import multiprocessing\n",
    "from pathlib import Path\n",
    "\n",
    "import pandas as pd\n",
    "import numpy as np\n",
    "import jax\n",
    "import jax.numpy as jnp\n",
    "\n",
    "import arviz as az\n",
    "import numpyro\n",
    "\n",
    "from hbmep.config import Config\n",
    "from hbmep.model.utils import Site as site\n",
    "\n",
    "PLATFORM = \"cpu\"\n",
    "jax.config.update(\"jax_platforms\", PLATFORM)\n",
    "numpyro.set_platform(PLATFORM)\n",
    "\n",
    "cpu_count = multiprocessing.cpu_count() - 2\n",
    "numpyro.set_host_device_count(cpu_count)\n",
    "numpyro.enable_x64()\n",
    "numpyro.enable_validation()\n",
    "\n",
    "logger = logging.getLogger(__name__)\n"
   ]
  },
  {
   "cell_type": "code",
   "execution_count": 2,
   "metadata": {},
   "outputs": [],
   "source": [
    "import numpyro.distributions as dist\n",
    "from hbmep.model import BaseModel\n",
    "\n",
    "\n",
    "class MixtureModel(BaseModel):\n",
    "    LINK = \"mixture_model\"\n",
    "\n",
    "    def __init__(self, config: Config):\n",
    "        super(MixtureModel, self).__init__(config=config)\n",
    "        self.combination_columns = self.features + [self.subject]\n",
    "\n",
    "    def fn(self, x, a, b, v, L, ell, H):\n",
    "        return (\n",
    "            L\n",
    "            + jnp.where(\n",
    "                jnp.less(x, a),\n",
    "                0.,\n",
    "                -ell + jnp.true_divide(\n",
    "                    H + ell,\n",
    "                    jnp.power(\n",
    "                        1\n",
    "                        + jnp.multiply(\n",
    "                            -1\n",
    "                            + jnp.power(\n",
    "                                jnp.true_divide(H + ell, ell),\n",
    "                                v\n",
    "                            ),\n",
    "                            jnp.exp(jnp.multiply(-b, x - a))\n",
    "                        ),\n",
    "                        jnp.true_divide(1, v)\n",
    "                    )\n",
    "                )\n",
    "            )\n",
    "        )\n",
    "\n",
    "    def _model(self, subject, features, intensity, response_obs=None):\n",
    "        subject, n_subject = subject\n",
    "        features, n_features = features\n",
    "        intensity, n_data = intensity\n",
    "\n",
    "        intensity = intensity.reshape(-1, 1)\n",
    "        intensity = np.tile(intensity, (1, self.n_response))\n",
    "\n",
    "        feature0 = features[0].reshape(-1,)\n",
    "        n_feature0 = n_features[0]\n",
    "\n",
    "        n_baseline = 1\n",
    "        n_delta = n_feature0 - n_baseline\n",
    "\n",
    "        \"\"\" Fixed Effects (Baseline) \"\"\"\n",
    "        with numpyro.plate(site.n_response, self.n_response):\n",
    "            with numpyro.plate(\"n_baseline\", n_baseline):\n",
    "                a_fixed_mean = numpyro.sample(\"a_fixed_mean\", dist.TruncatedNormal(50, 100, low=0))\n",
    "\n",
    "        \"\"\" Random Effects (Delta) \"\"\"\n",
    "        with numpyro.plate(site.n_response, self.n_response):\n",
    "            with numpyro.plate(\"n_delta\", n_delta):\n",
    "                a_random_mean = numpyro.sample(\"a_random_mean\", dist.Normal(0, 100))\n",
    "\n",
    "                \"\"\" Penalty \"\"\"\n",
    "                penalty_for_negative_a_random_mean = (jnp.fabs(a_fixed_mean + a_random_mean) - (a_fixed_mean + a_random_mean))\n",
    "                numpyro.factor(\"penalty_for_negative_a_random_mean\", -penalty_for_negative_a_random_mean)\n",
    "\n",
    "        with numpyro.plate(site.n_response, self.n_response):\n",
    "            \"\"\" Global Priors \"\"\"\n",
    "            b_scale_global_scale = numpyro.sample(\"b_scale_global_scale\", dist.HalfNormal(100))\n",
    "            v_scale_global_scale = numpyro.sample(\"v_scale_global_scale\", dist.HalfNormal(100))\n",
    "\n",
    "            L_scale_global_scale = numpyro.sample(\"L_scale_global_scale\", dist.HalfNormal(10))\n",
    "            ell_scale_global_scale = numpyro.sample(\"ell_scale_global_scale\", dist.HalfNormal(100))\n",
    "            H_scale_global_scale = numpyro.sample(\"H_scale_global_scale\", dist.HalfNormal(10))\n",
    "\n",
    "            g_1_scale_global_scale = numpyro.sample(\"g_1_scale_global_scale\", dist.HalfNormal(100))\n",
    "            g_2_scale_global_scale = numpyro.sample(\"g_2_scale_global_scale\", dist.HalfNormal(100))\n",
    "\n",
    "            with numpyro.plate(\"n_feature0\", n_feature0):\n",
    "                \"\"\" Hyper-priors \"\"\"\n",
    "                a_mean = numpyro.deterministic(\n",
    "                    \"a_mean\",\n",
    "                    jnp.concatenate([a_fixed_mean, a_fixed_mean + a_random_mean], axis=0)\n",
    "                )\n",
    "                a_scale = numpyro.sample(\"a_scale\", dist.HalfNormal(100.0))\n",
    "                print(\"a_mean\", a_mean.shape)\n",
    "                print(\"a_scale\", a_scale.shape)\n",
    "\n",
    "                b_scale_raw = numpyro.sample(\"b_scale_raw\", dist.HalfNormal(scale=1))\n",
    "                b_scale = numpyro.deterministic(\"b_scale\", jnp.multiply(b_scale_global_scale, b_scale_raw))\n",
    "\n",
    "                v_scale_raw = numpyro.sample(\"v_scale_raw\", dist.HalfNormal(scale=1))\n",
    "                v_scale = numpyro.deterministic(\"v_scale\", jnp.multiply(v_scale_global_scale, v_scale_raw))\n",
    "\n",
    "                L_scale_raw = numpyro.sample(\"L_scale_raw\", dist.HalfNormal(scale=1))\n",
    "                L_scale = numpyro.deterministic(\"L_scale\", jnp.multiply(L_scale_global_scale, L_scale_raw))\n",
    "\n",
    "                ell_scale_raw = numpyro.sample(\"ell_scale_raw\", dist.HalfNormal(scale=1))\n",
    "                ell_scale = numpyro.deterministic(\"sigma_ell\", jnp.multiply(ell_scale_global_scale, ell_scale_raw))\n",
    "\n",
    "                H_scale_raw = numpyro.sample(\"H_scale_raw\", dist.HalfNormal(scale=1))\n",
    "                H_scale = numpyro.deterministic(\"H_scale\", jnp.multiply(H_scale_global_scale, H_scale_raw))\n",
    "\n",
    "                g_1_scale_raw = numpyro.sample(\"g_1_scale_raw\", dist.HalfNormal(scale=1))\n",
    "                g_1_scale = numpyro.deterministic(\"g_1_scale\", jnp.multiply(g_1_scale_global_scale, g_1_scale_raw))\n",
    "\n",
    "                g_2_scale_raw = numpyro.sample(\"g_2_scale_raw\", dist.HalfNormal(scale=1))\n",
    "                g_2_scale = numpyro.deterministic(\"g_2_scale\", jnp.multiply(g_2_scale_global_scale, g_2_scale_raw))\n",
    "\n",
    "                with numpyro.plate(site.n_subject, n_subject):\n",
    "                    \"\"\" Priors \"\"\"\n",
    "                    a = numpyro.sample(site.a, dist.Normal(loc=a_mean, scale=a_scale))\n",
    "\n",
    "                    b_raw = numpyro.sample(\"b_raw\", dist.HalfNormal(scale=1))\n",
    "                    b = numpyro.deterministic(site.b, jnp.multiply(b_scale, b_raw))\n",
    "\n",
    "                    v_raw = numpyro.sample(\"v_raw\", dist.HalfNormal(scale=1))\n",
    "                    v = numpyro.deterministic(site.v, jnp.multiply(v_scale, v_raw))\n",
    "\n",
    "                    L_raw = numpyro.sample(\"L_raw\", dist.HalfNormal(scale=1))\n",
    "                    L = numpyro.deterministic(site.L, jnp.multiply(L_scale, L_raw))\n",
    "\n",
    "                    ell_raw = numpyro.sample(\"ell_raw\", dist.HalfNormal(scale=1))\n",
    "                    ell = numpyro.deterministic(\"ell\", jnp.multiply(ell_scale, ell_raw))\n",
    "\n",
    "                    H_raw = numpyro.sample(\"H_raw\", dist.HalfNormal(scale=1))\n",
    "                    H = numpyro.deterministic(site.H, jnp.multiply(H_scale, H_raw))\n",
    "\n",
    "                    g_1_raw = numpyro.sample(\"g_1_raw\", dist.HalfCauchy(scale=1))\n",
    "                    g_1 = numpyro.deterministic(site.g_1, jnp.multiply(g_1_scale, g_1_raw))\n",
    "\n",
    "                    g_2_raw = numpyro.sample(\"g_2_raw\", dist.HalfCauchy(scale=1))\n",
    "                    g_2 = numpyro.deterministic(site.g_2, jnp.multiply(g_2_scale, g_2_raw))\n",
    "\n",
    "                    \"\"\" Penalty \"\"\"\n",
    "                    penalty_for_negative_a = (jnp.fabs(a) - (a))\n",
    "                    numpyro.factor(\"penalty_for_negative_a\", -penalty_for_negative_a)\n",
    "\n",
    "        \"\"\" Outlier Distribution \"\"\"\n",
    "        outlier_prob = numpyro.sample(\"outlier_prob\", dist.Uniform(0., .05))\n",
    "        outlier_scale = numpyro.sample(\"outlier_scale\", dist.HalfNormal(5))\n",
    "\n",
    "        with numpyro.plate(site.n_response, self.n_response):\n",
    "            with numpyro.plate(site.n_data, n_data):\n",
    "                \"\"\" Model \"\"\"\n",
    "                mu = numpyro.deterministic(\n",
    "                    site.mu,\n",
    "                    self.fn(\n",
    "                        x=intensity,\n",
    "                        a=a[subject, feature0],\n",
    "                        b=b[subject, feature0],\n",
    "                        v=v[subject, feature0],\n",
    "                        L=L[subject, feature0],\n",
    "                        ell=ell[subject, feature0],\n",
    "                        H=H[subject, feature0]\n",
    "                    )\n",
    "                )\n",
    "                beta = numpyro.deterministic(\n",
    "                    site.beta,\n",
    "                    g_1[subject, feature0] + jnp.true_divide(g_2[subject, feature0], mu)\n",
    "                )\n",
    "\n",
    "                q = numpyro.deterministic(\"q\", outlier_prob * jnp.ones((n_data, self.n_response)))\n",
    "                bg_scale = numpyro.deterministic(\"bg_scale\", outlier_scale * jnp.ones((n_data, self.n_response)))\n",
    "\n",
    "                mixing_distribution = dist.Categorical(\n",
    "                    probs=jnp.stack([1 - q, q], axis=-1)\n",
    "                )\n",
    "                component_distributions=[\n",
    "                    dist.Gamma(concentration=jnp.multiply(mu, beta), rate=beta),\n",
    "                    dist.HalfNormal(scale=bg_scale)\n",
    "                ]\n",
    "\n",
    "                \"\"\" Mixture \"\"\"\n",
    "                Mixture = dist.MixtureGeneral(\n",
    "                    mixing_distribution=mixing_distribution,\n",
    "                    component_distributions=component_distributions\n",
    "                )\n",
    "\n",
    "                \"\"\" Observation \"\"\"\n",
    "                numpyro.sample(\n",
    "                    site.obs,\n",
    "                    Mixture,\n",
    "                    obs=response_obs\n",
    "                )\n"
   ]
  },
  {
   "cell_type": "code",
   "execution_count": 3,
   "metadata": {},
   "outputs": [
    {
     "name": "stderr",
     "output_type": "stream",
     "text": [
      "2023-11-20 10:15:37,032 - hbmep.config - INFO - Verifying configuration ...\n",
      "2023-11-20 10:15:37,033 - hbmep.config - INFO - Success!\n",
      "2023-11-20 10:15:37,046 - hbmep.model.baseline - INFO - Initialized base_model\n"
     ]
    }
   ],
   "source": [
    "toml_path = \"/home/vishu/repos/hbmep-paper/configs/paper/tms/proc-2023-11-13/config.toml\"\n",
    "\n",
    "config = Config(toml_path=toml_path)\n",
    "config.BUILD_DIR = os.path.join(config.BUILD_DIR, \"asia-comparison\")\n",
    "config.RESPONSE = [\"PKPK_APB\"]\n",
    "\n",
    "config.MCMC_PARAMS[\"num_warmup\"] = 1000\n",
    "config.MCMC_PARAMS[\"num_samples\"] = 1000\n",
    "\n",
    "model = MixtureModel(config=config)"
   ]
  },
  {
   "cell_type": "code",
   "execution_count": 4,
   "metadata": {},
   "outputs": [
    {
     "name": "stderr",
     "output_type": "stream",
     "text": [
      "2023-11-20 10:15:37,089 - hbmep.dataset.core - INFO - Artefacts will be stored here - /home/vishu/repos/hbmep-paper/reports/paper/tms/proc-2023-11-13/asia-comparison\n",
      "2023-11-20 10:15:37,089 - hbmep.dataset.core - INFO - Copied config to /home/vishu/repos/hbmep-paper/reports/paper/tms/proc-2023-11-13/asia-comparison\n",
      "2023-11-20 10:15:37,090 - hbmep.dataset.core - INFO - Processing data ...\n",
      "2023-11-20 10:15:37,091 - hbmep.utils.utils - INFO - func:load took: 0.00 sec\n"
     ]
    }
   ],
   "source": [
    "src = \"/home/vishu/data/hbmep-processed/human/tms/proc-2023-11-15.csv\"\n",
    "df = pd.read_csv(src)\n",
    "\n",
    "df[model.features[0]] = df[model.features[0]].replace({\n",
    "    \"Uninjured\": \"01_Uninjured\",\n",
    "    \"SCI\": \"02_SCI\"\n",
    "})\n",
    "\n",
    "# subset = [\"SCS06\"]\n",
    "# ind = df[model.subject].isin(subset)\n",
    "# df = df[ind].reset_index(drop=True).copy()\n",
    "\n",
    "df, encoder_dict = model.load(df=df)\n"
   ]
  },
  {
   "cell_type": "code",
   "execution_count": 5,
   "metadata": {},
   "outputs": [
    {
     "name": "stderr",
     "output_type": "stream",
     "text": [
      "2023-11-20 10:15:37,124 - hbmep.model.baseline - INFO - Running inference with base_model ...\n"
     ]
    },
    {
     "name": "stdout",
     "output_type": "stream",
     "text": [
      "a_mean (2, 1)\n",
      "a_scale (2, 1)\n",
      "a_mean (2, 1)\n",
      "a_scale (2, 1)\n"
     ]
    },
    {
     "data": {
      "application/vnd.jupyter.widget-view+json": {
       "model_id": "5e64dab592104b17bea0449796a83f94",
       "version_major": 2,
       "version_minor": 0
      },
      "text/plain": [
       "  0%|          | 0/2000 [00:00<?, ?it/s]"
      ]
     },
     "metadata": {},
     "output_type": "display_data"
    },
    {
     "data": {
      "application/vnd.jupyter.widget-view+json": {
       "model_id": "95e4414a1f9846e7b499e99533dbdf33",
       "version_major": 2,
       "version_minor": 0
      },
      "text/plain": [
       "  0%|          | 0/2000 [00:00<?, ?it/s]"
      ]
     },
     "metadata": {},
     "output_type": "display_data"
    },
    {
     "data": {
      "application/vnd.jupyter.widget-view+json": {
       "model_id": "08cc9710705648fa9adaceaa43757917",
       "version_major": 2,
       "version_minor": 0
      },
      "text/plain": [
       "  0%|          | 0/2000 [00:00<?, ?it/s]"
      ]
     },
     "metadata": {},
     "output_type": "display_data"
    },
    {
     "data": {
      "application/vnd.jupyter.widget-view+json": {
       "model_id": "60c08d6a04834647a8341a2787a00006",
       "version_major": 2,
       "version_minor": 0
      },
      "text/plain": [
       "  0%|          | 0/2000 [00:00<?, ?it/s]"
      ]
     },
     "metadata": {},
     "output_type": "display_data"
    },
    {
     "name": "stdout",
     "output_type": "stream",
     "text": [
      "a_mean (2, 1)\n",
      "a_scale (2, 1)\n",
      "a_mean (2, 1)\n",
      "a_scale (2, 1)\n"
     ]
    },
    {
     "name": "stderr",
     "output_type": "stream",
     "text": [
      "2023-11-20 10:21:27,154 - hbmep.utils.utils - INFO - func:run_inference took: 5 min and 50.03 sec\n"
     ]
    }
   ],
   "source": [
    "mcmc, posterior_samples = model.run_inference(df=df)\n"
   ]
  },
  {
   "cell_type": "code",
   "execution_count": 6,
   "metadata": {},
   "outputs": [
    {
     "name": "stderr",
     "output_type": "stream",
     "text": [
      "2023-11-20 10:21:42,571 - hbmep.utils.utils - INFO - func:make_prediction_dataset took: 0.00 sec\n"
     ]
    },
    {
     "name": "stdout",
     "output_type": "stream",
     "text": [
      "a_mean (2, 1)\n",
      "a_scale (2, 1)\n"
     ]
    },
    {
     "name": "stderr",
     "output_type": "stream",
     "text": [
      "2023-11-20 10:21:46,209 - hbmep.utils.utils - INFO - func:predict took: 3.64 sec\n",
      "2023-11-20 10:21:46,210 - hbmep.model.baseline - INFO - Rendering recruitment curves ...\n",
      "2023-11-20 10:21:49,131 - hbmep.model.baseline - INFO - Saved to /home/vishu/repos/hbmep-paper/reports/paper/tms/proc-2023-11-13/asia-comparison/recruitment_curves.pdf\n",
      "2023-11-20 10:21:49,132 - hbmep.utils.utils - INFO - func:render_recruitment_curves took: 2.92 sec\n",
      "2023-11-20 10:21:49,132 - hbmep.model.baseline - INFO - Rendering posterior predictive checks ...\n",
      "2023-11-20 10:21:52,464 - hbmep.model.baseline - INFO - Saved to /home/vishu/repos/hbmep-paper/reports/paper/tms/proc-2023-11-13/asia-comparison/posterior_predictive_check.pdf\n",
      "2023-11-20 10:21:52,464 - hbmep.utils.utils - INFO - func:predictive_checks_renderer took: 3.33 sec\n",
      "2023-11-20 10:21:52,464 - hbmep.utils.utils - INFO - func:render_predictive_check took: 3.33 sec\n"
     ]
    }
   ],
   "source": [
    "_posterior_samples = posterior_samples.copy()\n",
    "_posterior_samples[\"outlier_prob\"] = _posterior_samples[\"outlier_prob\"] * 0\n",
    "\n",
    "prediction_df = model.make_prediction_dataset(df=df)\n",
    "posterior_predictive = model.predict(df=prediction_df, posterior_samples=_posterior_samples)\n",
    "\n",
    "model.render_recruitment_curves(df=df, encoder_dict=encoder_dict, posterior_samples=_posterior_samples, prediction_df=prediction_df, posterior_predictive=posterior_predictive)\n",
    "model.render_predictive_check(df=df, encoder_dict=encoder_dict, prediction_df=prediction_df, posterior_predictive=posterior_predictive)\n"
   ]
  },
  {
   "cell_type": "code",
   "execution_count": 7,
   "metadata": {},
   "outputs": [
    {
     "name": "stderr",
     "output_type": "stream",
     "text": [
      "2023-11-16 14:42:36,199 - __main__ - INFO - Evaluating model ...\n",
      "/home/vishu/repos/hbmep-paper/.venv/lib/python3.11/site-packages/arviz/stats/stats.py:1037: RuntimeWarning: overflow encountered in exp\n",
      "  weights = 1 / np.exp(len_scale - len_scale[:, None]).sum(axis=1)\n",
      "/home/vishu/repos/hbmep-paper/.venv/lib/python3.11/site-packages/arviz/stats/stats.py:803: UserWarning: Estimated shape parameter of Pareto distribution is greater than 0.7 for one or more samples. You should consider using a more robust model, this is because importance sampling is less likely to work well if the marginal posterior and LOO posterior are very different. This is more likely to happen with a non-robust model and highly influential observations.\n",
      "  warnings.warn(\n",
      "2023-11-16 14:42:42,237 - __main__ - INFO - ELPD LOO (Log): 1274.65\n",
      "/home/vishu/repos/hbmep-paper/.venv/lib/python3.11/site-packages/arviz/stats/stats.py:1645: UserWarning: For one or more samples the posterior variance of the log predictive densities exceeds 0.4. This could be indication of WAIC starting to fail. \n",
      "See http://arxiv.org/abs/1507.04544 for details\n",
      "  warnings.warn(\n",
      "2023-11-16 14:42:42,310 - __main__ - INFO - ELPD WAIC (Log): 1247.96\n"
     ]
    }
   ],
   "source": [
    "numpyro_data = az.from_numpyro(mcmc)\n",
    "\n",
    "\"\"\" Model evaluation \"\"\"\n",
    "logger.info(\"Evaluating model ...\")\n",
    "\n",
    "score = az.loo(numpyro_data)\n",
    "logger.info(f\"ELPD LOO (Log): {score.elpd_loo:.2f}\")\n",
    "\n",
    "score = az.waic(numpyro_data)\n",
    "logger.info(f\"ELPD WAIC (Log): {score.elpd_waic:.2f}\")"
   ]
  },
  {
   "cell_type": "code",
   "execution_count": 20,
   "metadata": {},
   "outputs": [
    {
     "data": {
      "text/plain": [
       "TtestResult(statistic=-2.0859897656189625, pvalue=0.02723544173591708, df=15.0)"
      ]
     },
     "execution_count": 20,
     "metadata": {},
     "output_type": "execute_result"
    }
   ],
   "source": [
    "import scipy.stats as stats\n",
    "\n",
    "a = posterior_samples[\"a\"]\n",
    "a_map = a.mean(axis=0)\n",
    "\n",
    "stats.ttest_ind(\n",
    "    a=a_map[:10, 0, 0], b=a_map[10:, 1, 0], alternative=\"less\"\n",
    ")"
   ]
  },
  {
   "cell_type": "code",
   "execution_count": 10,
   "metadata": {},
   "outputs": [
    {
     "data": {
      "text/plain": [
       "(4000, 2, 1)"
      ]
     },
     "execution_count": 10,
     "metadata": {},
     "output_type": "execute_result"
    }
   ],
   "source": [
    "a_mean = posterior_samples[\"a_mean\"]\n",
    "a_mean.shape"
   ]
  },
  {
   "cell_type": "code",
   "execution_count": 12,
   "metadata": {},
   "outputs": [
    {
     "data": {
      "text/plain": [
       "0.6785"
      ]
     },
     "execution_count": 12,
     "metadata": {},
     "output_type": "execute_result"
    }
   ],
   "source": [
    "(a_mean[:, 0, 0] < a_mean[:, 1, 0]).mean()"
   ]
  },
  {
   "cell_type": "code",
   "execution_count": null,
   "metadata": {},
   "outputs": [
    {
     "name": "stdout",
     "output_type": "stream",
     "text": [
      "\n",
      "                               mean       std    median      2.5%     97.5%     n_eff     r_hat\n",
      "             H_raw[0,0,0]      0.81      0.58      0.69      0.00      1.91    525.30      1.01\n",
      "             H_raw[0,1,0]      0.69      0.52      0.55      0.04      1.75    241.96      1.02\n",
      "             H_raw[1,0,0]      0.73      0.60      0.60      0.00      1.93    459.19      1.00\n",
      "             H_raw[1,1,0]      0.81      0.59      0.71      0.00      1.96    301.61      1.02\n",
      "  H_scale_global_scale[0]      6.89      4.97      5.78      0.27     16.52    199.93      1.02\n",
      "         H_scale_raw[0,0]      0.70      0.58      0.58      0.00      1.81    275.10      1.02\n",
      "         H_scale_raw[1,0]      0.68      0.50      0.56      0.04      1.67    171.13      1.01\n",
      "             L_raw[0,0,0]      0.78      0.62      0.64      0.00      2.02    286.31      1.01\n",
      "             L_raw[0,1,0]      0.56      0.51      0.40      0.00      1.61    360.73      1.01\n",
      "             L_raw[1,0,0]      0.55      0.50      0.41      0.00      1.48    220.34      1.02\n",
      "             L_raw[1,1,0]      0.81      0.61      0.68      0.00      1.98    322.72      1.02\n",
      "  L_scale_global_scale[0]      0.50      1.43      0.09      0.00      2.24    178.68      1.03\n",
      "         L_scale_raw[0,0]      0.46      0.47      0.30      0.00      1.42    148.09      1.03\n",
      "         L_scale_raw[1,0]      0.49      0.50      0.31      0.00      1.55    165.97      1.02\n",
      "   a_mean_global_scale[0]     63.16     39.11     51.57     13.64    147.57    113.45      1.06\n",
      "          a_mean_raw[0,0]      0.72      0.46      0.64      0.05      1.58    264.22      1.01\n",
      "          a_mean_raw[1,0]      0.87      0.48      0.79      0.14      1.79    133.20      1.04\n",
      "             a_raw[0,0,0]     59.56     74.60     30.51      0.00    215.24    163.42      1.02\n",
      "             a_raw[0,1,0]     71.89     79.31     44.67      0.05    229.12    165.64      1.03\n",
      "             a_raw[1,0,0]     59.25     74.53     30.38      0.00    214.67    163.60      1.02\n",
      "             a_raw[1,1,0]     71.78     79.49     44.40      0.08    231.10    165.53      1.03\n",
      "  a_shape_global_scale[0]     79.19     61.43     63.14      0.95    193.15    148.68      1.03\n",
      "         a_shape_raw[0,0]      0.78      0.58      0.66      0.00      1.89    231.87      1.02\n",
      "         a_shape_raw[1,0]      0.91      0.59      0.81      0.02      1.99    241.76      1.01\n",
      "             b_raw[0,0,0]      0.85      0.59      0.74      0.00      1.94    468.13      1.01\n",
      "             b_raw[0,1,0]      0.67      0.56      0.53      0.00      1.76    247.87      1.01\n",
      "             b_raw[1,0,0]      0.33      0.44      0.15      0.00      1.25    344.07      1.00\n",
      "             b_raw[1,1,0]      0.83      0.59      0.72      0.01      1.98    417.20      1.01\n",
      "  b_scale_global_scale[0]     17.55     27.24      6.99      0.02     72.71    192.58      1.02\n",
      "         b_scale_raw[0,0]      0.34      0.44      0.16      0.00      1.26    451.80      1.01\n",
      "         b_scale_raw[1,0]      0.71      0.58      0.58      0.00      1.90    262.59      1.01\n",
      "           g_1_raw[0,0,0]      3.59      9.69      1.07      0.00     13.58    247.13      1.01\n",
      "           g_1_raw[0,1,0]      0.65      1.27      0.31      0.00      2.29    627.49      1.00\n",
      "           g_1_raw[1,0,0]      2.57      8.55      0.96      0.00      8.19    302.03      1.01\n",
      "           g_1_raw[1,1,0]      4.16     36.31      1.08      0.00     10.23    515.72      1.01\n",
      "g_1_scale_global_scale[0]     44.59     44.32     30.75      0.06    134.45    335.87      1.00\n",
      "       g_1_scale_raw[0,0]      0.80      0.57      0.69      0.01      1.91    464.41      1.01\n",
      "       g_1_scale_raw[1,0]      0.45      0.49      0.27      0.00      1.46    305.03      1.01\n",
      "           g_2_raw[0,0,0]     21.51    351.08      1.08      0.00     28.43    777.98      1.00\n",
      "           g_2_raw[0,1,0]      1.13      1.53      0.64      0.01      3.74    179.36      1.02\n",
      "           g_2_raw[1,0,0]      0.90      0.99      0.59      0.02      2.87    191.35      1.02\n",
      "           g_2_raw[1,1,0]      3.07      8.11      1.05      0.00     11.18    360.84      1.01\n",
      "g_2_scale_global_scale[0]     46.00     41.81     30.94      2.10    133.56    236.98      1.01\n",
      "       g_2_scale_raw[0,0]      0.57      0.48      0.44      0.01      1.53    196.77      1.01\n",
      "       g_2_scale_raw[1,0]      0.67      0.52      0.54      0.01      1.69    238.83      1.02\n",
      "             l_raw[0,0,0]      0.80      0.61      0.70      0.01      1.98    388.70      1.01\n",
      "             l_raw[0,1,0]      0.66      0.60      0.49      0.00      1.90    236.19      1.01\n",
      "             l_raw[1,0,0]      0.50      0.51      0.35      0.00      1.53    447.99      1.01\n",
      "             l_raw[1,1,0]      0.83      0.59      0.73      0.01      1.99    471.15      1.01\n",
      "  l_scale_global_scale[0]     30.54     44.94      8.83      0.00    131.42    166.83      1.02\n",
      "         l_scale_raw[0,0]      0.49      0.53      0.31      0.00      1.60    291.02      1.02\n",
      "         l_scale_raw[1,0]      0.67      0.58      0.53      0.00      1.74    203.00      1.02\n",
      "        outlier_prob[0,0]      0.02      0.02      0.01      0.00      0.06    405.83      1.01\n",
      "        outlier_prob[1,0]      0.12      0.05      0.13      0.01      0.20     96.43      1.06\n",
      "        outlier_rate[0,0]      0.75      0.61      0.62      0.00      1.95    316.48      1.01\n",
      "        outlier_rate[1,0]      1.28      0.60      1.24      0.13      2.37    243.17      1.01\n",
      "       outlier_shape[0,0]      3.96      2.96      3.38      0.00      9.69    459.07      1.01\n",
      "       outlier_shape[1,0]      0.63      0.80      0.47      0.12      1.51     61.28      1.05\n",
      "             v_raw[0,0,0]      0.79      0.59      0.69      0.00      1.92    350.75      1.01\n",
      "             v_raw[0,1,0]      0.83      0.57      0.70      0.02      1.92    450.05      1.00\n",
      "             v_raw[1,0,0]      1.01      0.61      0.92      0.05      2.15    369.01      1.01\n",
      "             v_raw[1,1,0]      0.86      0.64      0.71      0.00      2.08    370.65      1.00\n",
      "  v_scale_global_scale[0]     97.62     58.85     86.20      9.82    220.68    389.38      1.01\n",
      "         v_scale_raw[0,0]      1.08      0.60      0.99      0.04      2.20    385.49      1.01\n",
      "         v_scale_raw[1,0]      0.76      0.56      0.63      0.01      1.88    257.63      1.02\n",
      "\n",
      "Number of divergences: 1549\n"
     ]
    }
   ],
   "source": [
    "mcmc.print_summary(prob=.95)\n"
   ]
  },
  {
   "cell_type": "code",
   "execution_count": null,
   "metadata": {},
   "outputs": [],
   "source": [
    "import pickle\n",
    "\n",
    "dest = os.path.join(model.build_dir, \"inference.pkl\")\n",
    "with open(dest, \"wb\") as f:\n",
    "    pickle.dump((model, mcmc, posterior_samples), f)\n"
   ]
  }
 ],
 "metadata": {
  "kernelspec": {
   "display_name": "Python 3 (ipykernel)",
   "language": "python",
   "name": "python3"
  },
  "language_info": {
   "codemirror_mode": {
    "name": "ipython",
    "version": 3
   },
   "file_extension": ".py",
   "mimetype": "text/x-python",
   "name": "python",
   "nbconvert_exporter": "python",
   "pygments_lexer": "ipython3",
   "version": "3.11.4"
  }
 },
 "nbformat": 4,
 "nbformat_minor": 2
}
