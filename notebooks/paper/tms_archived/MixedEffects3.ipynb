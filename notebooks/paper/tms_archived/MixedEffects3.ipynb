{
 "cells": [
  {
   "cell_type": "code",
   "execution_count": 1,
   "metadata": {},
   "outputs": [],
   "source": [
    "%reload_ext autoreload\n",
    "%autoreload 2\n",
    "\n",
    "import os\n",
    "import pickle\n",
    "import logging\n",
    "import multiprocessing\n",
    "from pathlib import Path\n",
    "\n",
    "import pandas as pd\n",
    "import numpy as np\n",
    "import jax\n",
    "import jax.numpy as jnp\n",
    "\n",
    "import arviz as az\n",
    "import numpyro\n",
    "\n",
    "from hbmep.config import Config\n",
    "from hbmep.model.utils import Site as site\n",
    "\n",
    "PLATFORM = \"cpu\"\n",
    "jax.config.update(\"jax_platforms\", PLATFORM)\n",
    "numpyro.set_platform(PLATFORM)\n",
    "\n",
    "cpu_count = multiprocessing.cpu_count() - 2\n",
    "numpyro.set_host_device_count(cpu_count)\n",
    "numpyro.enable_x64()\n",
    "numpyro.enable_validation()\n",
    "\n",
    "logger = logging.getLogger(__name__)\n"
   ]
  },
  {
   "cell_type": "code",
   "execution_count": 2,
   "metadata": {},
   "outputs": [],
   "source": [
    "import numpyro.distributions as dist\n",
    "from hbmep.model import Baseline\n",
    "\n",
    "class MixedEffects(Baseline):\n",
    "    LINK = \"MixedEffects\"\n",
    "\n",
    "    def __init__(self, config: Config):\n",
    "        super(MixedEffects, self).__init__(config=config)\n",
    "        self.combination_columns = self.features + [self.subject]\n",
    "\n",
    "    def _model(self, subject, features, intensity, response_obs=None):\n",
    "        subject, n_subject = subject\n",
    "        features, n_features = features\n",
    "        intensity, n_data = intensity\n",
    "\n",
    "        intensity = intensity.reshape(-1, 1)\n",
    "        intensity = np.tile(intensity, (1, self.n_response))\n",
    "\n",
    "        feature0 = features[0].reshape(-1,)\n",
    "\n",
    "        n_baseline = 1\n",
    "        n_feature0 = 2\n",
    "        # n_delta = 1\n",
    "\n",
    "        with numpyro.plate(site.n_response, self.n_response, dim=-1):\n",
    "            global_sigma_b_baseline = numpyro.sample(\"global_sigma_b_baseline\", dist.HalfNormal(100))\n",
    "            global_sigma_v_baseline = numpyro.sample(\"global_sigma_v_baseline\", dist.HalfNormal(100))\n",
    "\n",
    "            global_sigma_L_baseline = numpyro.sample(\"global_sigma_L_baseline\", dist.HalfNormal(1))\n",
    "            global_sigma_l_baseline = numpyro.sample(\"global_sigma_l_baseline\", dist.HalfNormal(100))\n",
    "            global_sigma_H_baseline = numpyro.sample(\"global_sigma_H_baseline\", dist.HalfNormal(5))\n",
    "\n",
    "            global_sigma_g_1_baseline = numpyro.sample(\"global_sigma_g_1_baseline\", dist.HalfNormal(100))\n",
    "            global_sigma_g_2_baseline = numpyro.sample(\"global_sigma_g_2_baseline\", dist.HalfNormal(100))\n",
    "\n",
    "            global_sigma_p_baseline = numpyro.sample(\"global_sigma_p_baseline\", dist.HalfNormal(100))\n",
    "\n",
    "            with numpyro.plate(\"n_baseline\", n_baseline, dim=-2):\n",
    "                \"\"\" Hyper-priors \"\"\"\n",
    "                mu_a_baseline = numpyro.sample(\"mu_a_baseline\", dist.HalfNormal(scale=5))\n",
    "                sigma_a_baseline = numpyro.sample(\"sigma_a_baseline\", dist.HalfNormal(scale=1))\n",
    "\n",
    "                sigma_b_raw_baseline = numpyro.sample(\"sigma_b_raw_baseline\", dist.HalfNormal(scale=1))\n",
    "                sigma_b_baseline = numpyro.deterministic(\"sigma_b_baseline\", global_sigma_b_baseline * sigma_b_raw_baseline)\n",
    "\n",
    "                sigma_v_raw_baseline = numpyro.sample(\"sigma_v_raw_baseline\", dist.HalfNormal(scale=1))\n",
    "                sigma_v_baseline = numpyro.deterministic(\"sigma_v_baseline\", global_sigma_v_baseline * sigma_v_raw_baseline)\n",
    "\n",
    "                sigma_L_raw_baseline = numpyro.sample(\"sigma_L_raw_baseline\", dist.HalfNormal(scale=1))\n",
    "                sigma_L_baseline = numpyro.deterministic(\"sigma_L_baseline\", global_sigma_L_baseline * sigma_L_raw_baseline)\n",
    "\n",
    "                sigma_l_raw_baseline = numpyro.sample(\"sigma_l_raw_baseline\", dist.HalfNormal(scale=1))\n",
    "                sigma_l_baseline = numpyro.deterministic(\"sigma_l_baseline\", global_sigma_l_baseline * sigma_l_raw_baseline)\n",
    "\n",
    "                sigma_H_raw_baseline = numpyro.sample(\"sigma_H_raw_baseline\", dist.HalfNormal(scale=1))\n",
    "                sigma_H_baseline = numpyro.deterministic(\"sigma_H_baseline\", global_sigma_H_baseline * sigma_H_raw_baseline)\n",
    "\n",
    "                sigma_g_1_raw_baseline = numpyro.sample(\"sigma_g_1_raw_baseline\", dist.HalfNormal(scale=1))\n",
    "                sigma_g_1_baseline = numpyro.deterministic(\"sigma_g_1_baseline\", global_sigma_g_1_baseline * sigma_g_1_raw_baseline)\n",
    "\n",
    "                sigma_g_2_raw_baseline = numpyro.sample(\"sigma_g_2_raw_baseline\", dist.HalfNormal(scale=1))\n",
    "                sigma_g_2_baseline = numpyro.deterministic(\"sigma_g_2_baseline\", global_sigma_g_2_baseline * sigma_g_2_raw_baseline)\n",
    "\n",
    "                sigma_p_raw_baseline = numpyro.sample(\"sigma_p_raw_baseline\", dist.HalfNormal(scale=1))\n",
    "                sigma_p_baseline = numpyro.deterministic(\"sigma_p_baseline\", global_sigma_p_baseline * sigma_p_raw_baseline)\n",
    "\n",
    "                with numpyro.plate(site.n_subject, n_subject, dim=-3):\n",
    "                    \"\"\" Priors \"\"\"\n",
    "                    a_raw_baseline = numpyro.sample(\"a_raw_baseline\", dist.Gamma(concentration=mu_a_baseline, rate=1))\n",
    "                    a_baseline = numpyro.deterministic(\"a_baseline\", (1 / sigma_a_baseline) * a_raw_baseline)\n",
    "\n",
    "                    b_raw_baseline = numpyro.sample(\"b_raw_baseline\", dist.HalfNormal(scale=1))\n",
    "                    b_baseline = numpyro.deterministic(\"b_baseline\", sigma_b_baseline * b_raw_baseline)\n",
    "\n",
    "                    v_raw_baseline = numpyro.sample(\"v_raw_baseline\", dist.HalfNormal(scale=1))\n",
    "                    v_baseline = numpyro.deterministic(\"v_baseline\", sigma_v_baseline * v_raw_baseline)\n",
    "\n",
    "                    L_raw_baseline = numpyro.sample(\"L_raw_baseline\", dist.HalfNormal(scale=1))\n",
    "                    L_baseline = numpyro.deterministic(\"L_baseline\", sigma_L_baseline * L_raw_baseline)\n",
    "\n",
    "                    l_raw_baseline = numpyro.sample(\"l_raw_baseline\", dist.HalfNormal(scale=1))\n",
    "                    l_baseline = numpyro.deterministic(\"l_baseline\", sigma_l_baseline * l_raw_baseline)\n",
    "\n",
    "                    H_raw_baseline = numpyro.sample(\"H_raw_baseline\", dist.HalfNormal(scale=1))\n",
    "                    H_baseline = numpyro.deterministic(\"H_baseline\", sigma_H_baseline * H_raw_baseline)\n",
    "\n",
    "                    g_1_raw_baseline = numpyro.sample(\"g_1_raw_baseline\", dist.HalfCauchy(scale=1))\n",
    "                    g_1_baseline = numpyro.deterministic(\"g_1_baseline\", sigma_g_1_baseline * g_1_raw_baseline)\n",
    "\n",
    "                    g_2_raw_baseline = numpyro.sample(\"g_2_raw\", dist.HalfCauchy(scale=1))\n",
    "                    g_2_baseline = numpyro.deterministic(\"g_2_baseline\", sigma_g_2_baseline * g_2_raw_baseline)\n",
    "\n",
    "                    p_raw_baseline = numpyro.sample(\"p_raw\", dist.HalfNormal(scale=1))\n",
    "                    p_baseline = numpyro.deterministic(\"p_baseline\", sigma_p_baseline * p_raw_baseline)\n",
    "\n",
    "        # \"\"\" Delta \"\"\"\n",
    "        # with numpyro.plate(site.n_response, self.n_response, dim=-1):\n",
    "        #     mu_a_delta = numpyro.sample(\"mu_a_delta\", dist.Normal(0, 100))\n",
    "        #     sigma_a_delta = numpyro.sample(\"sigma_a_delta\", dist.HalfNormal(100))\n",
    "\n",
    "        #     with numpyro.plate(\"n_delta\", n_delta, dim=-2):\n",
    "        #         with numpyro.plate(site.n_subject, n_subject, dim=-3):\n",
    "        #             a_delta = numpyro.sample(\"a_delta\", dist.Normal(mu_a_delta, sigma_a_delta))\n",
    "\n",
    "        with numpyro.plate(site.n_response, self.n_response, dim=-1):\n",
    "            with numpyro.plate(\"n_feature0\", n_feature0, dim=-2):\n",
    "                with numpyro.plate(site.n_subject, n_subject, dim=-3):\n",
    "                    \"\"\" Deterministic \"\"\"\n",
    "                    a = numpyro.deterministic(\n",
    "                        site.a,\n",
    "                        jnp.concatenate([a_baseline, a_baseline], axis=1)\n",
    "                    )\n",
    "\n",
    "                    b = numpyro.deterministic(\n",
    "                        site.b,\n",
    "                        jnp.concatenate([b_baseline, b_baseline], axis=1)\n",
    "                    )\n",
    "                    v = numpyro.deterministic(\n",
    "                        site.v,\n",
    "                        jnp.concatenate([v_baseline, v_baseline], axis=1)\n",
    "                    )\n",
    "\n",
    "                    L = numpyro.deterministic(\n",
    "                        site.L,\n",
    "                        jnp.concatenate([L_baseline, L_baseline], axis=1)\n",
    "                    )\n",
    "                    l = numpyro.deterministic(\n",
    "                        \"l\",\n",
    "                        jnp.concatenate([l_baseline, l_baseline], axis=1)\n",
    "                    )\n",
    "\n",
    "                    H = numpyro.deterministic(\n",
    "                        site.H,\n",
    "                        jnp.concatenate([H_baseline, H_baseline], axis=1)\n",
    "                    )\n",
    "\n",
    "                    g_1 = numpyro.deterministic(\n",
    "                        site.g_1,\n",
    "                        jnp.concatenate([g_1_baseline, g_1_baseline], axis=1)\n",
    "                    )\n",
    "                    g_2 = numpyro.deterministic(\n",
    "                        site.g_2,\n",
    "                        jnp.concatenate([g_2_baseline, g_2_baseline], axis=1)\n",
    "                    )\n",
    "\n",
    "                    p = numpyro.deterministic(\n",
    "                        \"p\",\n",
    "                        jnp.concatenate([p_baseline, p_baseline], axis=1)\n",
    "                    )\n",
    "\n",
    "        with numpyro.plate(site.n_response, self.n_response, dim=-1):\n",
    "            with numpyro.plate(site.data, n_data, dim=-2):\n",
    "                \"\"\" Model \"\"\"\n",
    "                mu = numpyro.deterministic(\n",
    "                    site.mu,\n",
    "                    L[subject, feature0]\n",
    "                    + jnp.where(\n",
    "                        intensity <= a[subject, feature0],\n",
    "                        0,\n",
    "                        -l[subject, feature0]\n",
    "                        + (\n",
    "                            (H[subject, feature0] + l[subject, feature0])\n",
    "                            / jnp.power(\n",
    "                                1\n",
    "                                + (\n",
    "                                    (\n",
    "                                        -1\n",
    "                                        + jnp.power(\n",
    "                                            (H[subject, feature0] + l[subject, feature0]) / l[subject, feature0],\n",
    "                                            v[subject, feature0]\n",
    "                                        )\n",
    "                                    )\n",
    "                                    * jnp.exp(-b[subject, feature0] * (intensity - a[subject, feature0]))\n",
    "                                ),\n",
    "                                1 / v[subject, feature0]\n",
    "                            )\n",
    "                        )\n",
    "                    )\n",
    "                )\n",
    "                beta = numpyro.deterministic(\n",
    "                    site.beta,\n",
    "                    g_1[subject, feature0] + g_2[subject, feature0] * ((1 / (mu + 1)) ** p[subject, feature0])\n",
    "                )\n",
    "\n",
    "                \"\"\" Observation \"\"\"\n",
    "                numpyro.sample(\n",
    "                    site.obs,\n",
    "                    dist.Gamma(concentration=mu * beta, rate=beta),\n",
    "                    obs=response_obs\n",
    "                )\n",
    "\n"
   ]
  },
  {
   "cell_type": "code",
   "execution_count": 3,
   "metadata": {},
   "outputs": [
    {
     "name": "stderr",
     "output_type": "stream",
     "text": [
      "2023-10-16 11:50:28,912 - hbmep.config - INFO - Verifying configuration ...\n",
      "2023-10-16 11:50:28,912 - hbmep.config - INFO - Success!\n",
      "2023-10-16 11:50:28,933 - hbmep.model.baseline - INFO - Initialized model with MixedEffects link\n"
     ]
    }
   ],
   "source": [
    "root_path = Path(os.getcwd()).parent.parent.parent.absolute()\n",
    "toml_path = os.path.join(root_path, \"configs/paper/tms/MixedEffects.toml\")\n",
    "\n",
    "config = Config(toml_path=toml_path)\n",
    "# config.MCMC_PARAMS[\"num_warmup\"] = 40000\n",
    "# config.MCMC_PARAMS[\"num_samples\"] = 60000\n",
    "# config.MCMC_PARAMS[\"thinning\"] = 4\n",
    "\n",
    "model = MixedEffects(config=config)\n"
   ]
  },
  {
   "cell_type": "code",
   "execution_count": 4,
   "metadata": {},
   "outputs": [
    {
     "name": "stderr",
     "output_type": "stream",
     "text": [
      "2023-10-16 11:50:29,001 - hbmep.dataset.core - INFO - Artefacts will be stored here - /home/vishu/repos/hbmep-paper/reports/paper/tms/MixedEffects\n",
      "2023-10-16 11:50:29,001 - hbmep.dataset.core - INFO - Copied config to /home/vishu/repos/hbmep-paper/reports/paper/tms/MixedEffects\n",
      "2023-10-16 11:50:29,002 - hbmep.dataset.core - INFO - Processing data ...\n",
      "2023-10-16 11:50:29,004 - hbmep.utils.utils - INFO - func:load took: 0.00 sec\n"
     ]
    }
   ],
   "source": [
    "src = \"/home/vishu/data/hbmep-processed/human/tms/data_pkpk_auc.csv\"\n",
    "df = pd.read_csv(src)\n",
    "\n",
    "df[model.features[0]] = 0\n",
    "\n",
    "# subset = [\"SCA01\"]\n",
    "# ind = df[model.subject].isin(subset)\n",
    "# df = df[ind].reset_index(drop=True).copy()\n",
    "\n",
    "df, encoder_dict = model.load(df=df)\n"
   ]
  },
  {
   "cell_type": "code",
   "execution_count": 5,
   "metadata": {},
   "outputs": [],
   "source": [
    "from numpyro.infer import NUTS\n",
    "\n",
    "target_accept_prob = .95\n",
    "max_tree_depth = 20\n",
    "forward_mode_differentiation = True\n",
    "\n",
    "sampler = NUTS(model=model._model, max_tree_depth=max_tree_depth)\n"
   ]
  },
  {
   "cell_type": "code",
   "execution_count": 6,
   "metadata": {},
   "outputs": [
    {
     "name": "stderr",
     "output_type": "stream",
     "text": [
      "2023-10-16 11:50:29,153 - hbmep.model.baseline - INFO - Running inference with MixedEffects ...\n"
     ]
    },
    {
     "data": {
      "application/vnd.jupyter.widget-view+json": {
       "model_id": "1fad45818c16406987dfe4fd883e1345",
       "version_major": 2,
       "version_minor": 0
      },
      "text/plain": [
       "  0%|          | 0/3000 [00:00<?, ?it/s]"
      ]
     },
     "metadata": {},
     "output_type": "display_data"
    },
    {
     "data": {
      "application/vnd.jupyter.widget-view+json": {
       "model_id": "8c4dc11d6f664285a38c1ac07f9867d2",
       "version_major": 2,
       "version_minor": 0
      },
      "text/plain": [
       "  0%|          | 0/3000 [00:00<?, ?it/s]"
      ]
     },
     "metadata": {},
     "output_type": "display_data"
    },
    {
     "data": {
      "application/vnd.jupyter.widget-view+json": {
       "model_id": "d4a97b9ff23a4ef1b6fb499ed85b254a",
       "version_major": 2,
       "version_minor": 0
      },
      "text/plain": [
       "  0%|          | 0/3000 [00:00<?, ?it/s]"
      ]
     },
     "metadata": {},
     "output_type": "display_data"
    },
    {
     "data": {
      "application/vnd.jupyter.widget-view+json": {
       "model_id": "56e0dcaf8f6540d89e57c44b5f366b3b",
       "version_major": 2,
       "version_minor": 0
      },
      "text/plain": [
       "  0%|          | 0/3000 [00:00<?, ?it/s]"
      ]
     },
     "metadata": {},
     "output_type": "display_data"
    }
   ],
   "source": [
    "mcmc, posterior_samples = model.run_inference(df=df, sampler=sampler)\n"
   ]
  },
  {
   "cell_type": "code",
   "execution_count": null,
   "metadata": {},
   "outputs": [
    {
     "name": "stderr",
     "output_type": "stream",
     "text": [
      "2023-10-16 11:39:58,963 - hbmep.utils.utils - INFO - func:make_prediction_dataset took: 0.00 sec\n",
      "2023-10-16 11:39:59,745 - hbmep.utils.utils - INFO - func:predict took: 0.78 sec\n",
      "2023-10-16 11:39:59,747 - hbmep.model.baseline - INFO - Rendering ...\n",
      "2023-10-16 11:40:00,008 - hbmep.model.baseline - INFO - Saved to /home/vishu/repos/hbmep-paper/reports/paper/tms/MixedEffects/recruitment_curves.pdf\n",
      "2023-10-16 11:40:00,008 - hbmep.utils.utils - INFO - func:render_recruitment_curves took: 0.26 sec\n",
      "2023-10-16 11:40:00,010 - hbmep.model.baseline - INFO - Rendering Posterior Predictive Check ...\n",
      "2023-10-16 11:40:00,216 - hbmep.model.baseline - INFO - Saved to /home/vishu/repos/hbmep-paper/reports/paper/tms/MixedEffects/posterior_predictive_check.pdf\n",
      "2023-10-16 11:40:00,216 - hbmep.utils.utils - INFO - func:_render_predictive_check took: 0.21 sec\n",
      "2023-10-16 11:40:00,217 - hbmep.utils.utils - INFO - func:render_predictive_check took: 0.21 sec\n"
     ]
    }
   ],
   "source": [
    "prediction_df = model.make_prediction_dataset(df=df)\n",
    "posterior_predictive = model.predict(df=prediction_df, posterior_samples=posterior_samples)\n",
    "\n",
    "model.render_recruitment_curves(df=df, encoder_dict=encoder_dict, posterior_samples=posterior_samples, prediction_df=prediction_df, posterior_predictive=posterior_predictive)\n",
    "model.render_predictive_check(df=df, encoder_dict=encoder_dict, prediction_df=prediction_df, posterior_predictive=posterior_predictive)\n"
   ]
  },
  {
   "cell_type": "code",
   "execution_count": 11,
   "metadata": {},
   "outputs": [
    {
     "name": "stdout",
     "output_type": "stream",
     "text": [
      "\n",
      "                                  mean       std    median      2.5%     97.5%     n_eff     r_hat\n",
      "       H_raw_baseline[0,0,0]      0.74      0.50      0.61      0.09      1.76    334.83      1.01\n",
      "       L_raw_baseline[0,0,0]      0.46      0.49      0.29      0.00      1.48    372.87      1.01\n",
      "       a_raw_baseline[0,0,0]      7.25      4.08      6.67      0.60     14.99    260.73      1.00\n",
      "       b_raw_baseline[0,0,0]      0.48      0.48      0.32      0.00      1.48    469.42      1.01\n",
      "     g_1_raw_baseline[0,0,0]      0.81      1.17      0.44      0.01      2.67    418.28      1.01\n",
      "              g_2_raw[0,0,0]    199.84    314.94    106.15      8.47    630.27    338.93      1.02\n",
      "  global_sigma_H_baseline[0]      3.88      2.59      3.28      0.40      9.05    263.65      1.02\n",
      "  global_sigma_L_baseline[0]      0.38      0.45      0.21      0.00      1.39    431.47      1.02\n",
      "  global_sigma_b_baseline[0]     50.99     47.34     36.55      0.14    144.76    314.26      1.02\n",
      "global_sigma_g_1_baseline[0]     57.49     51.31     40.71      0.25    160.82    473.44      1.01\n",
      "global_sigma_g_2_baseline[0]    132.49     66.70    129.88     21.78    258.75    272.36      1.01\n",
      "  global_sigma_l_baseline[0]     50.54     47.18     34.46      0.19    148.57    508.42      1.00\n",
      "  global_sigma_p_baseline[0]    119.94     57.31    108.49     35.07    238.19    409.13      1.01\n",
      "  global_sigma_v_baseline[0]    103.78     62.07     95.00      9.59    222.00    491.51      1.01\n",
      "       l_raw_baseline[0,0,0]      0.50      0.48      0.37      0.00      1.45    558.37      1.01\n",
      "          mu_a_baseline[0,0]      6.30      3.21      5.91      0.91     12.41    277.97      1.01\n",
      "                p_raw[0,0,0]      1.13      0.53      1.07      0.21      2.18    354.24      1.03\n",
      "   sigma_H_raw_baseline[0,0]      0.77      0.53      0.64      0.08      1.85    303.29      1.00\n",
      "   sigma_L_raw_baseline[0,0]      0.40      0.44      0.24      0.00      1.33    408.76      1.01\n",
      "       sigma_a_baseline[0,0]      0.21      0.12      0.19      0.02      0.43    261.07      1.00\n",
      "   sigma_b_raw_baseline[0,0]      0.50      0.47      0.36      0.00      1.48    437.36      1.00\n",
      " sigma_g_1_raw_baseline[0,0]      0.57      0.52      0.41      0.01      1.65    360.80      1.01\n",
      " sigma_g_2_raw_baseline[0,0]      1.23      0.65      1.16      0.17      2.47    373.53      1.01\n",
      "   sigma_l_raw_baseline[0,0]      0.46      0.50      0.27      0.00      1.50    511.55      1.01\n",
      "   sigma_p_raw_baseline[0,0]      1.18      0.53      1.11      0.28      2.23    402.84      1.00\n",
      "   sigma_v_raw_baseline[0,0]      1.01      0.64      0.88      0.03      2.27    386.65      1.00\n",
      "       v_raw_baseline[0,0,0]      1.01      0.56      0.92      0.06      2.05    492.21      1.00\n",
      "\n",
      "Number of divergences: 2370\n"
     ]
    }
   ],
   "source": [
    "mcmc.print_summary(prob=.95)"
   ]
  },
  {
   "cell_type": "code",
   "execution_count": null,
   "metadata": {},
   "outputs": [
    {
     "name": "stderr",
     "output_type": "stream",
     "text": [
      "2023-10-13 16:47:36,865 - __main__ - INFO - Evaluating model ...\n"
     ]
    }
   ],
   "source": [
    "numpyro_data = az.from_numpyro(mcmc)\n",
    "\n",
    "\"\"\" Model evaluation \"\"\"\n",
    "logger.info(\"Evaluating model ...\")\n"
   ]
  },
  {
   "cell_type": "code",
   "execution_count": null,
   "metadata": {},
   "outputs": [
    {
     "name": "stderr",
     "output_type": "stream",
     "text": [
      "/home/vishu/repos/hbmep-paper/.venv/lib/python3.11/site-packages/arviz/stats/stats.py:803: UserWarning: Estimated shape parameter of Pareto distribution is greater than 0.7 for one or more samples. You should consider using a more robust model, this is because importance sampling is less likely to work well if the marginal posterior and LOO posterior are very different. This is more likely to happen with a non-robust model and highly influential observations.\n",
      "  warnings.warn(\n",
      "2023-10-13 16:47:39,557 - __main__ - INFO - ELPD LOO (Log): 670.68\n"
     ]
    }
   ],
   "source": [
    "score = az.loo(numpyro_data)\n",
    "logger.info(f\"ELPD LOO (Log): {score.elpd_loo:.2f}\")"
   ]
  },
  {
   "cell_type": "code",
   "execution_count": null,
   "metadata": {},
   "outputs": [
    {
     "name": "stderr",
     "output_type": "stream",
     "text": [
      "/home/vishu/repos/hbmep-paper/.venv/lib/python3.11/site-packages/arviz/stats/stats.py:1645: UserWarning: For one or more samples the posterior variance of the log predictive densities exceeds 0.4. This could be indication of WAIC starting to fail. \n",
      "See http://arxiv.org/abs/1507.04544 for details\n",
      "  warnings.warn(\n",
      "2023-10-13 16:47:40,432 - __main__ - INFO - ELPD WAIC (Log): 673.82\n"
     ]
    }
   ],
   "source": [
    "score = az.waic(numpyro_data)\n",
    "logger.info(f\"ELPD WAIC (Log): {score.elpd_waic:.2f}\")"
   ]
  },
  {
   "cell_type": "code",
   "execution_count": null,
   "metadata": {},
   "outputs": [],
   "source": [
    "import pickle\n",
    "\n",
    "dest = os.path.join(model.build_dir, \"inference.pkl\")\n",
    "with open(dest, \"wb\") as f:\n",
    "    pickle.dump((model, mcmc, posterior_samples), f)"
   ]
  },
  {
   "cell_type": "code",
   "execution_count": null,
   "metadata": {},
   "outputs": [],
   "source": [
    "import pickle\n",
    "\n",
    "with open(dest, \"rb\") as g:\n",
    "    model_, mcmc_, posterior_samples_ = pickle.load(g)\n"
   ]
  },
  {
   "cell_type": "code",
   "execution_count": null,
   "metadata": {},
   "outputs": [],
   "source": [
    "class Simulation(Baseline):\n",
    "    LINK = \"Simulation\"\n",
    "\n",
    "    def __init__(self, config: Config, n_delta, mu_a_delta, sigma_a_delta):\n",
    "        super(Simulation, self).__init__(config=config)\n",
    "        self.combination_columns = self.features + [self.subject]\n",
    "        self.n_delta, self.mu_a_delta, self.sigma_a_delta = n_delta, mu_a_delta, sigma_a_delta\n",
    "\n",
    "    def _model(self, subject, features, intensity, response_obs=None):\n",
    "        intensity = intensity.reshape(-1, 1)\n",
    "        intensity = np.tile(intensity, (1, self.n_response))\n",
    "\n",
    "        feature0 = features[0].reshape(-1,)\n",
    "\n",
    "        n_data = intensity.shape[0]\n",
    "        n_subject = np.unique(subject).shape[0]\n",
    "        n_feature0 = np.unique(feature0).shape[0]\n",
    "\n",
    "        n_baseline = 1\n",
    "        n_feature0 = 2\n",
    "        n_delta = self.n_delta\n",
    "\n",
    "        with numpyro.plate(site.n_response, self.n_response, dim=-1):\n",
    "            global_sigma_b_baseline = numpyro.sample(\"global_sigma_b_baseline\", dist.HalfNormal(100))\n",
    "            global_sigma_v_baseline = numpyro.sample(\"global_sigma_v_baseline\", dist.HalfNormal(100))\n",
    "\n",
    "            global_sigma_L_baseline = numpyro.sample(\"global_sigma_L_baseline\", dist.HalfNormal(1))\n",
    "            global_sigma_l_baseline = numpyro.sample(\"global_sigma_l_baseline\", dist.HalfNormal(100))\n",
    "            global_sigma_H_baseline = numpyro.sample(\"global_sigma_H_baseline\", dist.HalfNormal(5))\n",
    "\n",
    "            global_sigma_g_1_baseline = numpyro.sample(\"global_sigma_g_1_baseline\", dist.HalfNormal(100))\n",
    "            global_sigma_g_2_baseline = numpyro.sample(\"global_sigma_g_2_baseline\", dist.HalfNormal(100))\n",
    "\n",
    "            global_sigma_p_baseline = numpyro.sample(\"global_sigma_p_baseline\", dist.HalfNormal(100))\n",
    "\n",
    "            with numpyro.plate(\"n_baseline\", n_baseline, dim=-2):\n",
    "                \"\"\" Hyper-priors \"\"\"\n",
    "                mu_a_baseline = numpyro.sample(\"mu_a_baseline\", dist.HalfNormal(scale=5))\n",
    "                sigma_a_baseline = numpyro.sample(\"sigma_a_baseline\", dist.HalfNormal(scale=1))\n",
    "\n",
    "                sigma_b_raw_baseline = numpyro.sample(\"sigma_b_raw_baseline\", dist.HalfNormal(scale=1))\n",
    "                sigma_b_baseline = numpyro.deterministic(\"sigma_b_baseline\", global_sigma_b_baseline * sigma_b_raw_baseline)\n",
    "\n",
    "                sigma_v_raw_baseline = numpyro.sample(\"sigma_v_raw_baseline\", dist.HalfNormal(scale=1))\n",
    "                sigma_v_baseline = numpyro.deterministic(\"sigma_v_baseline\", global_sigma_v_baseline * sigma_v_raw_baseline)\n",
    "\n",
    "                sigma_L_raw_baseline = numpyro.sample(\"sigma_L_raw_baseline\", dist.HalfNormal(scale=1))\n",
    "                sigma_L_baseline = numpyro.deterministic(\"sigma_L_baseline\", global_sigma_L_baseline * sigma_L_raw_baseline)\n",
    "\n",
    "                sigma_l_raw_baseline = numpyro.sample(\"sigma_l_raw_baseline\", dist.HalfNormal(scale=1))\n",
    "                sigma_l_baseline = numpyro.deterministic(\"sigma_l_baseline\", global_sigma_l_baseline * sigma_l_raw_baseline)\n",
    "\n",
    "                sigma_H_raw_baseline = numpyro.sample(\"sigma_H_raw_baseline\", dist.HalfNormal(scale=1))\n",
    "                sigma_H_baseline = numpyro.deterministic(\"sigma_H_baseline\", global_sigma_H_baseline * sigma_H_raw_baseline)\n",
    "\n",
    "                sigma_g_1_raw_baseline = numpyro.sample(\"sigma_g_1_raw_baseline\", dist.HalfNormal(scale=1))\n",
    "                sigma_g_1_baseline = numpyro.deterministic(\"sigma_g_1_baseline\", global_sigma_g_1_baseline * sigma_g_1_raw_baseline)\n",
    "\n",
    "                sigma_g_2_raw_baseline = numpyro.sample(\"sigma_g_2_raw_baseline\", dist.HalfNormal(scale=1))\n",
    "                sigma_g_2_baseline = numpyro.deterministic(\"sigma_g_2_baseline\", global_sigma_g_2_baseline * sigma_g_2_raw_baseline)\n",
    "\n",
    "                sigma_p_raw_baseline = numpyro.sample(\"sigma_p_raw_baseline\", dist.HalfNormal(scale=1))\n",
    "                sigma_p_baseline = numpyro.deterministic(\"sigma_p_baseline\", global_sigma_p_baseline * sigma_p_raw_baseline)\n",
    "\n",
    "                with numpyro.plate(site.n_subject, n_subject, dim=-3):\n",
    "                    \"\"\" Priors \"\"\"\n",
    "                    a_raw_baseline = numpyro.sample(\"a_raw_baseline\", dist.Gamma(concentration=mu_a_baseline, rate=1))\n",
    "                    a_baseline = numpyro.deterministic(\"a_baseline\", (1 / sigma_a_baseline) * a_raw_baseline)\n",
    "\n",
    "                    b_raw_baseline = numpyro.sample(\"b_raw_baseline\", dist.HalfNormal(scale=1))\n",
    "                    b_baseline = numpyro.deterministic(\"b_baseline\", sigma_b_baseline * b_raw_baseline)\n",
    "\n",
    "                    v_raw_baseline = numpyro.sample(\"v_raw_baseline\", dist.HalfNormal(scale=1))\n",
    "                    v_baseline = numpyro.deterministic(\"v_baseline\", sigma_v_baseline * v_raw_baseline)\n",
    "\n",
    "                    L_raw_baseline = numpyro.sample(\"L_raw_baseline\", dist.HalfNormal(scale=1))\n",
    "                    L_baseline = numpyro.deterministic(\"L_baseline\", sigma_L_baseline * L_raw_baseline)\n",
    "\n",
    "                    l_raw_baseline = numpyro.sample(\"l_raw_baseline\", dist.HalfNormal(scale=1))\n",
    "                    l_baseline = numpyro.deterministic(\"l_baseline\", sigma_l_baseline * l_raw_baseline)\n",
    "\n",
    "                    H_raw_baseline = numpyro.sample(\"H_raw_baseline\", dist.HalfNormal(scale=1))\n",
    "                    H_baseline = numpyro.deterministic(\"H_baseline\", sigma_H_baseline * H_raw_baseline)\n",
    "\n",
    "                    g_1_raw_baseline = numpyro.sample(\"g_1_raw_baseline\", dist.HalfCauchy(scale=1))\n",
    "                    g_1_baseline = numpyro.deterministic(\"g_1_baseline\", sigma_g_1_baseline * g_1_raw_baseline)\n",
    "\n",
    "                    g_2_raw_baseline = numpyro.sample(\"g_2_raw\", dist.HalfCauchy(scale=1))\n",
    "                    g_2_baseline = numpyro.deterministic(\"g_2_baseline\", sigma_g_2_baseline * g_2_raw_baseline)\n",
    "\n",
    "                    p_raw_baseline = numpyro.sample(\"p_raw\", dist.HalfNormal(scale=1))\n",
    "                    p_baseline = numpyro.deterministic(\"p_baseline\", sigma_p_baseline * p_raw_baseline)\n",
    "\n",
    "        \"\"\" Delta \"\"\"\n",
    "        with numpyro.plate(site.n_response, self.n_response, dim=-1):\n",
    "            with numpyro.plate(\"n_delta\", n_delta, dim=-2):\n",
    "                mu_a_delta = numpyro.deterministic(\"mu_a_delta\", self.mu_a_delta)\n",
    "                sigma_a_delta = numpyro.sample(\"sigma_a_delta\", self.sigma_a_delta)\n",
    "\n",
    "                with numpyro.plate(site.n_subject, n_subject, dim=-3):\n",
    "                    a_delta = numpyro.sample(\"a_delta\", dist.Normal(mu_a_delta, sigma_a_delta))\n",
    "\n",
    "        with numpyro.plate(site.n_response, self.n_response, dim=-1):\n",
    "            with numpyro.plate(\"n_feature0\", n_feature0, dim=-2):\n",
    "                with numpyro.plate(site.n_subject, n_subject, dim=-3):\n",
    "                    \"\"\" Deterministic \"\"\"\n",
    "                    a = numpyro.deterministic(\n",
    "                        site.a,\n",
    "                        jnp.concatenate([a_baseline, a_baseline + a_delta], axis=1)\n",
    "                    )\n",
    "\n",
    "                    b = numpyro.deterministic(\n",
    "                        site.b,\n",
    "                        jnp.concatenate([b_baseline, b_baseline], axis=1)\n",
    "                    )\n",
    "                    v = numpyro.deterministic(\n",
    "                        site.v,\n",
    "                        jnp.concatenate([v_baseline, v_baseline], axis=1)\n",
    "                    )\n",
    "\n",
    "                    L = numpyro.deterministic(\n",
    "                        site.L,\n",
    "                        jnp.concatenate([L_baseline, L_baseline], axis=1)\n",
    "                    )\n",
    "                    l = numpyro.deterministic(\n",
    "                        \"l\",\n",
    "                        jnp.concatenate([l_baseline, l_baseline], axis=1)\n",
    "                    )\n",
    "\n",
    "                    H = numpyro.deterministic(\n",
    "                        site.H,\n",
    "                        jnp.concatenate([H_baseline, H_baseline], axis=1)\n",
    "                    )\n",
    "\n",
    "                    g_1 = numpyro.deterministic(\n",
    "                        site.g_1,\n",
    "                        jnp.concatenate([g_1_baseline, g_1_baseline], axis=1)\n",
    "                    )\n",
    "                    g_2 = numpyro.deterministic(\n",
    "                        site.g_2,\n",
    "                        jnp.concatenate([g_2_baseline, g_2_baseline], axis=1)\n",
    "                    )\n",
    "\n",
    "                    p = numpyro.deterministic(\n",
    "                        \"p\",\n",
    "                        jnp.concatenate([p_baseline, p_baseline], axis=1)\n",
    "                    )\n",
    "\n",
    "        \"\"\" Penalty \"\"\"\n",
    "        penalty = (jnp.fabs(a_baseline + a_delta) - (a_baseline + a_delta))\n",
    "        numpyro.factor(\"a_penalty\", -penalty)\n",
    "\n",
    "        with numpyro.plate(site.n_response, self.n_response, dim=-1):\n",
    "            with numpyro.plate(site.data, n_data, dim=-2):\n",
    "                \"\"\" Model \"\"\"\n",
    "                mu = numpyro.deterministic(\n",
    "                    site.mu,\n",
    "                    L[subject, feature0]\n",
    "                    + jnp.where(\n",
    "                        intensity <= a[subject, feature0],\n",
    "                        0,\n",
    "                        -l[subject, feature0]\n",
    "                        + (\n",
    "                            (H[subject, feature0] + l[subject, feature0])\n",
    "                            / jnp.power(\n",
    "                                1\n",
    "                                + (\n",
    "                                    (\n",
    "                                        -1\n",
    "                                        + jnp.power(\n",
    "                                            (H[subject, feature0] + l[subject, feature0]) / l[subject, feature0],\n",
    "                                            v[subject, feature0]\n",
    "                                        )\n",
    "                                    )\n",
    "                                    * jnp.exp(-b[subject, feature0] * (intensity - a[subject, feature0]))\n",
    "                                ),\n",
    "                                1 / v[subject, feature0]\n",
    "                            )\n",
    "                        )\n",
    "                    )\n",
    "                )\n",
    "                beta = numpyro.deterministic(\n",
    "                    site.beta,\n",
    "                    g_1[subject, feature0] + g_2[subject, feature0] * ((1 / (mu + 1)) ** p[subject, feature0])\n",
    "                )\n",
    "\n",
    "                \"\"\" Observation \"\"\"\n",
    "                numpyro.sample(\n",
    "                    site.obs,\n",
    "                    dist.Gamma(concentration=mu * beta, rate=beta),\n",
    "                    obs=response_obs\n",
    "                )\n",
    "\n",
    "        # with numpyro.plate(site.data, n_data):\n",
    "        #     return numpyro.sample(\n",
    "        #         site.obs,\n",
    "        #         dist.Gamma(concentration=mu * beta, rate=beta).to_event(1),\n",
    "        #         obs=response_obs\n",
    "        #     )\n"
   ]
  },
  {
   "cell_type": "code",
   "execution_count": null,
   "metadata": {},
   "outputs": [],
   "source": [
    "prediction_dataset = "
   ]
  },
  {
   "cell_type": "code",
   "execution_count": null,
   "metadata": {},
   "outputs": [
    {
     "data": {
      "text/plain": [
       "<Axes: ylabel='Density'>"
      ]
     },
     "execution_count": 24,
     "metadata": {},
     "output_type": "execute_result"
    },
    {
     "data": {
      "image/png": "[encoded data removed]",
      "text/plain": [
       "<Figure size 640x480 with 1 Axes>"
      ]
     },
     "metadata": {},
     "output_type": "display_data"
    }
   ],
   "source": [
    "import seaborn as sns\n",
    "\n",
    "sns.kdeplot(posterior_samples[\"mu_a_baseline\"].reshape(-1,) / posterior_samples[\"sigma_a_baseline\"].reshape(-1,))\n"
   ]
  }
 ],
 "metadata": {
  "kernelspec": {
   "display_name": "Python 3 (ipykernel)",
   "language": "python",
   "name": "python3"
  },
  "language_info": {
   "codemirror_mode": {
    "name": "ipython",
    "version": 3
   },
   "file_extension": ".py",
   "mimetype": "text/x-python",
   "name": "python",
   "nbconvert_exporter": "python",
   "pygments_lexer": "ipython3",
   "version": "3.11.4"
  },
  "orig_nbformat": 4
 },
 "nbformat": 4,
 "nbformat_minor": 2
}
