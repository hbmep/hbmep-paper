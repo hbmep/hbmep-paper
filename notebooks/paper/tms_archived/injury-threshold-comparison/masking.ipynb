{
 "cells": [
  {
   "cell_type": "code",
   "execution_count": 1,
   "metadata": {},
   "outputs": [],
   "source": [
    "%reload_ext autoreload\n",
    "%autoreload 2\n",
    "\n",
    "import os\n",
    "import logging\n",
    "import multiprocessing\n",
    "\n",
    "import matplotlib.pyplot as plt\n",
    "import seaborn as sns\n",
    "import pandas as pd\n",
    "import numpy as np\n",
    "\n",
    "import arviz as az\n",
    "import jax\n",
    "import jax.numpy as jnp\n",
    "import numpyro\n",
    "\n",
    "from hbmep.config import Config\n",
    "from hbmep.model.utils import Site as site\n",
    "\n",
    "PLATFORM = \"cpu\"\n",
    "jax.config.update(\"jax_platforms\", PLATFORM)\n",
    "numpyro.set_platform(PLATFORM)\n",
    "\n",
    "cpu_count = multiprocessing.cpu_count() - 2\n",
    "numpyro.set_host_device_count(cpu_count)\n",
    "numpyro.enable_x64()\n",
    "numpyro.enable_validation()\n",
    "\n",
    "logger = logging.getLogger(__name__)\n"
   ]
  },
  {
   "cell_type": "code",
   "execution_count": 2,
   "metadata": {},
   "outputs": [],
   "source": [
    "import numpyro.distributions as dist\n",
    "from hbmep.model import BaseModel\n",
    "\n",
    "class MixedEffects(BaseModel):\n",
    "    Name = \"mixed_effects_injury_threshold_comparison\"\n",
    "\n",
    "    def __init__(self, config: Config):\n",
    "        super(MixedEffects, self).__init__(config=config)\n",
    "        self.combination_columns = self.features + [self.subject]\n",
    "\n",
    "    def fn(self, x, a, b, v, L, l, H):\n",
    "        return (\n",
    "            L\n",
    "            + jnp.where(\n",
    "                jnp.less(x, a),\n",
    "                0.,\n",
    "                -l + jnp.true_divide(\n",
    "                    H + l,\n",
    "                    jnp.power(\n",
    "                        1\n",
    "                        + jnp.multiply(\n",
    "                            -1\n",
    "                            + jnp.power(\n",
    "                                jnp.true_divide(H + l, l),\n",
    "                                v\n",
    "                            ),\n",
    "                            jnp.exp(jnp.multiply(-b, x - a))\n",
    "                        ),\n",
    "                        jnp.true_divide(1, v)\n",
    "                    )\n",
    "                )\n",
    "            )\n",
    "        )\n",
    "\n",
    "    def _model(self, subject, features, intensity, response_obs=None):\n",
    "        subject, n_subject = subject\n",
    "        features, n_features = features\n",
    "        intensity, n_data = intensity\n",
    "\n",
    "        intensity = intensity.reshape(-1, 1)\n",
    "        intensity = np.tile(intensity, (1, self.n_response))\n",
    "\n",
    "        feature0 = features[0].reshape(-1,)\n",
    "        n_feature0 = n_features[0]\n",
    "        n_baseline = 1\n",
    "\n",
    "        mask = np.full((n_subject, n_feature0, self.n_response), True)\n",
    "        if response_obs is not None:\n",
    "            mask = np.full((n_subject, n_feature0, self.n_response), False)\n",
    "            combinations = list(set(zip(subject.tolist(), feature0.tolist())))\n",
    "            for c in combinations:\n",
    "                mask[*c, :] = True\n",
    "\n",
    "        \"\"\" Fixed Effect (Baseline) \"\"\"\n",
    "        with numpyro.plate(site.n_response, self.n_response, dim=-1):\n",
    "            with numpyro.plate(\"n_baseline\", n_baseline, dim=-2):\n",
    "                a_mean_baseline = numpyro.sample(\"a_mean_baseline\", dist.HalfNormal(scale=50))\n",
    "\n",
    "        \"\"\" Random Effect (Delta) \"\"\"\n",
    "        a_mean_delta_global_loc = numpyro.sample(\"a_mean_delta_global_loc\", dist.Normal(loc=0, scale=100))\n",
    "        a_mean_delta_global_scale = numpyro.sample(\"a_mean_delta_global_scale\", dist.HalfNormal(100))\n",
    "        a_mean_delta_global_df_minus_one = numpyro.sample(\"a_mean_delta_global_df_minus_one\", dist.Exponential(1 / 29.))\n",
    "\n",
    "        with numpyro.plate(site.n_response, self.n_response, dim=-1):\n",
    "            with numpyro.plate(\"n_delta\", (n_feature0 - n_baseline), dim=-2):\n",
    "                a_mean_delta = numpyro.sample(\n",
    "                    \"a_mean_delta\",\n",
    "                    dist.StudentT(\n",
    "                        loc=a_mean_delta_global_loc,\n",
    "                        scale=a_mean_delta_global_scale,\n",
    "                        df=a_mean_delta_global_df_minus_one + 1\n",
    "                    )\n",
    "                )\n",
    "\n",
    "        with numpyro.plate(site.n_response, self.n_response, dim=-1):\n",
    "            \"\"\" Global Priors \"\"\"\n",
    "            b_scale_global_scale = numpyro.sample(\"b_scale_global_scale\", dist.HalfNormal(100))\n",
    "            v_scale_global_scale = numpyro.sample(\"v_scale_global_scale\", dist.HalfNormal(100))\n",
    "\n",
    "            L_scale_global_scale = numpyro.sample(\"L_scale_global_scale\", dist.HalfNormal(1))\n",
    "            l_scale_global_scale = numpyro.sample(\"l_scale_global_scale\", dist.HalfNormal(100))\n",
    "            H_scale_global_scale = numpyro.sample(\"H_scale_global_scale\", dist.HalfNormal(5))\n",
    "\n",
    "            g_1_scale_global_scale = numpyro.sample(\"g_1_scale_global_scale\", dist.HalfNormal(100))\n",
    "            g_2_scale_global_scale = numpyro.sample(\"g_2_scale_global_scale\", dist.HalfNormal(100))\n",
    "\n",
    "            a_shape = numpyro.sample(\"a_shape\", dist.HalfNormal(scale=100))\n",
    "\n",
    "            with numpyro.plate(\"n_feature0\", n_feature0, dim=-2):\n",
    "                \"\"\" Hyper-priors \"\"\"\n",
    "                a_mean = numpyro.deterministic(\n",
    "                    \"a_mean\",\n",
    "                    jnp.concatenate([a_mean_baseline, a_mean_baseline + a_mean_delta], axis=0)\n",
    "                )\n",
    "\n",
    "                b_scale_raw = numpyro.sample(\"b_scale_raw\", dist.HalfNormal(scale=1))\n",
    "                b_scale = numpyro.deterministic(\"b_scale\", jnp.multiply(b_scale_global_scale, b_scale_raw))\n",
    "\n",
    "                v_scale_raw = numpyro.sample(\"v_scale_raw\", dist.HalfNormal(scale=1))\n",
    "                v_scale = numpyro.deterministic(\"v_scale\", jnp.multiply(v_scale_global_scale, v_scale_raw))\n",
    "\n",
    "                L_scale_raw = numpyro.sample(\"L_scale_raw\", dist.HalfNormal(scale=1))\n",
    "                L_scale = numpyro.deterministic(\"L_scale\", jnp.multiply(L_scale_global_scale, L_scale_raw))\n",
    "\n",
    "                l_scale_raw = numpyro.sample(\"l_scale_raw\", dist.HalfNormal(scale=1))\n",
    "                l_scale = numpyro.deterministic(\"sigma_l\", jnp.multiply(l_scale_global_scale, l_scale_raw))\n",
    "\n",
    "                H_scale_raw = numpyro.sample(\"H_scale_raw\", dist.HalfNormal(scale=1))\n",
    "                H_scale = numpyro.deterministic(\"H_scale\", jnp.multiply(H_scale_global_scale, H_scale_raw))\n",
    "\n",
    "                g_1_scale_raw = numpyro.sample(\"g_1_scale_raw\", dist.HalfNormal(scale=1))\n",
    "                g_1_scale = numpyro.deterministic(\"g_1_scale\", jnp.multiply(g_1_scale_global_scale, g_1_scale_raw))\n",
    "\n",
    "                g_2_scale_raw = numpyro.sample(\"g_2_scale_raw\", dist.HalfNormal(scale=1))\n",
    "                g_2_scale = numpyro.deterministic(\"g_2_scale\", jnp.multiply(g_2_scale_global_scale, g_2_scale_raw))\n",
    "\n",
    "                with numpyro.plate(site.n_subject, n_subject, dim=-3):\n",
    "                    \"\"\" Priors \"\"\"\n",
    "                    with numpyro.handlers.mask(mask=mask):\n",
    "                        a_raw = numpyro.sample(\"a_raw\", dist.Gamma(concentration=a_shape, rate=1))\n",
    "                        a = numpyro.deterministic(site.a, jnp.true_divide(jnp.multiply(a_raw, a_mean), a_shape))\n",
    "\n",
    "                        b_raw = numpyro.sample(\"b_raw\", dist.HalfNormal(scale=1))\n",
    "                        b = numpyro.deterministic(site.b, jnp.multiply(b_scale, b_raw))\n",
    "\n",
    "                        v_raw = numpyro.sample(\"v_raw\", dist.HalfNormal(scale=1))\n",
    "                        v = numpyro.deterministic(site.v, jnp.multiply(v_scale, v_raw))\n",
    "\n",
    "                        L_raw = numpyro.sample(\"L_raw\", dist.HalfNormal(scale=1))\n",
    "                        L = numpyro.deterministic(site.L, jnp.multiply(L_scale, L_raw))\n",
    "\n",
    "                        l_raw = numpyro.sample(\"l_raw\", dist.HalfNormal(scale=1))\n",
    "                        l = numpyro.deterministic(\"l\", jnp.multiply(l_scale, l_raw))\n",
    "\n",
    "                        H_raw = numpyro.sample(\"H_raw\", dist.HalfNormal(scale=1))\n",
    "                        H = numpyro.deterministic(site.H, jnp.multiply(H_scale, H_raw))\n",
    "\n",
    "                        g_1_raw = numpyro.sample(\"g_1_raw\", dist.HalfCauchy(scale=1))\n",
    "                        g_1 = numpyro.deterministic(site.g_1, jnp.multiply(g_1_scale, g_1_raw))\n",
    "\n",
    "                        g_2_raw = numpyro.sample(\"g_2_raw\", dist.HalfCauchy(scale=1))\n",
    "                        g_2 = numpyro.deterministic(site.g_2, jnp.multiply(g_2_scale, g_2_raw))\n",
    "\n",
    "        \"\"\" Penalty \"\"\"\n",
    "        a_mean_penalty_for_negative = (jnp.fabs(a_mean_baseline + a_mean_delta) - (a_mean_baseline + a_mean_delta))\n",
    "        numpyro.factor(\"a_mean_penalty_for_negative\", -a_mean_penalty_for_negative)\n",
    "\n",
    "        a_penalty_for_negative = (jnp.fabs(a) - a)\n",
    "        numpyro.factor(\"a_penalty_for_negative\", -a_penalty_for_negative)\n",
    "\n",
    "        \"\"\" Outlier Distribution \"\"\"\n",
    "        outlier_dist_shape = numpyro.sample(\"outlier_dist_loc\", dist.HalfNormal(5))\n",
    "        outlier_dist_rate = numpyro.sample(\"outlier_dist_scale\", dist.HalfNormal(1))\n",
    "\n",
    "        \"\"\" Mixture \"\"\"\n",
    "        if response_obs is not None:\n",
    "            outlier_prob = numpyro.sample(\"outlier_prob\", dist.Uniform(0.0, 0.2))\n",
    "        else: # Turn off mixture when predicting\n",
    "            outlier_prob = numpyro.deterministic(\"outlier_prob\", 0.)\n",
    "\n",
    "        mixing_distribution = dist.Categorical(probs=jnp.array([1 - outlier_prob, outlier_prob]))\n",
    "\n",
    "        with numpyro.plate(site.n_response, self.n_response, dim=-1):\n",
    "            with numpyro.plate(site.n_data, n_data, dim=-2):\n",
    "                \"\"\" Model \"\"\"\n",
    "                mu = numpyro.deterministic(\n",
    "                    site.mu,\n",
    "                    self.fn(\n",
    "                        x=intensity,\n",
    "                        a=a[subject, feature0],\n",
    "                        b=b[subject, feature0],\n",
    "                        v=v[subject, feature0],\n",
    "                        L=L[subject, feature0],\n",
    "                        l=l[subject, feature0],\n",
    "                        H=H[subject, feature0]\n",
    "                    )\n",
    "                )\n",
    "                beta = numpyro.deterministic(\n",
    "                    site.beta,\n",
    "                    g_1[subject, feature0] + jnp.true_divide(g_2[subject, feature0], mu)\n",
    "                )\n",
    "\n",
    "                \"\"\" Mixture \"\"\"\n",
    "                component_distributions = [\n",
    "                    dist.Gamma(concentration=jnp.multiply(mu, beta), rate=beta),\n",
    "                    dist.Gamma(concentration=outlier_dist_shape, rate=outlier_dist_rate)\n",
    "                ]\n",
    "                Mixture = dist.MixtureGeneral(\n",
    "                    mixing_distribution=mixing_distribution,\n",
    "                    component_distributions=component_distributions\n",
    "                )\n",
    "\n",
    "                \"\"\" Observation \"\"\"\n",
    "                numpyro.sample(\n",
    "                    site.obs,\n",
    "                    Mixture,\n",
    "                    obs=response_obs\n",
    "                )\n",
    "\n"
   ]
  },
  {
   "cell_type": "code",
   "execution_count": 3,
   "metadata": {},
   "outputs": [
    {
     "name": "stderr",
     "output_type": "stream",
     "text": [
      "2023-11-13 09:55:30,875 - hbmep.config - INFO - Verifying configuration ...\n",
      "2023-11-13 09:55:30,876 - hbmep.config - INFO - Success!\n",
      "2023-11-13 09:55:30,897 - hbmep.model.baseline - INFO - Initialized base_model\n"
     ]
    }
   ],
   "source": [
    "toml_path = \"/home/vishu/repos/hbmep-paper/configs/paper/tms/injury-threshold-comparison/fcr.toml\"\n",
    "\n",
    "config = Config(toml_path=toml_path)\n",
    "config.BUILD_DIR = os.path.join(config.BUILD_DIR, \"masking\")\n",
    "\n",
    "config.MCMC_PARAMS[\"num_warmup\"] = 500\n",
    "config.MCMC_PARAMS[\"num_samples\"] = 1000\n",
    "\n",
    "model = MixedEffects(config=config)\n"
   ]
  },
  {
   "cell_type": "code",
   "execution_count": 4,
   "metadata": {},
   "outputs": [
    {
     "name": "stderr",
     "output_type": "stream",
     "text": [
      "2023-11-13 09:55:30,995 - hbmep.dataset.core - INFO - Artefacts will be stored here - /home/vishu/repos/hbmep-paper/reports/paper/tms/injury-threshold-comparison/fcr/masking\n",
      "2023-11-13 09:55:30,995 - hbmep.dataset.core - INFO - Copied config to /home/vishu/repos/hbmep-paper/reports/paper/tms/injury-threshold-comparison/fcr/masking\n",
      "2023-11-13 09:55:30,997 - hbmep.dataset.core - INFO - Processing data ...\n",
      "2023-11-13 09:55:30,998 - hbmep.utils.utils - INFO - func:load took: 0.00 sec\n"
     ]
    }
   ],
   "source": [
    "src = \"/home/vishu/data/hbmep-processed/human/tms/data_pkpk_auc_proc-2023-10-27.csv\"\n",
    "df = pd.read_csv(src)\n",
    "\n",
    "df[model.features[0]] = \\\n",
    "    df[model.features[0]].replace({\n",
    "        \"Uninjured\": \"01_Uninjured\",\n",
    "        \"SCI\": \"02_SCI\"\n",
    "    })\n",
    "\n",
    "df, encoder_dict = model.load(df=df)\n"
   ]
  },
  {
   "cell_type": "code",
   "execution_count": 5,
   "metadata": {},
   "outputs": [
    {
     "name": "stderr",
     "output_type": "stream",
     "text": [
      "2023-11-13 09:55:36,261 - hbmep.model.baseline - INFO - Running inference with base_model ...\n"
     ]
    },
    {
     "data": {
      "application/vnd.jupyter.widget-view+json": {
       "model_id": "42b42a4e4b014f458675b36905da6e85",
       "version_major": 2,
       "version_minor": 0
      },
      "text/plain": [
       "  0%|          | 0/1500 [00:00<?, ?it/s]"
      ]
     },
     "metadata": {},
     "output_type": "display_data"
    },
    {
     "data": {
      "application/vnd.jupyter.widget-view+json": {
       "model_id": "2c08826d31a8473eaa34ba21edcb2e57",
       "version_major": 2,
       "version_minor": 0
      },
      "text/plain": [
       "  0%|          | 0/1500 [00:00<?, ?it/s]"
      ]
     },
     "metadata": {},
     "output_type": "display_data"
    },
    {
     "data": {
      "application/vnd.jupyter.widget-view+json": {
       "model_id": "4b4546bef2df4b4c80efbd145ab83bba",
       "version_major": 2,
       "version_minor": 0
      },
      "text/plain": [
       "  0%|          | 0/1500 [00:00<?, ?it/s]"
      ]
     },
     "metadata": {},
     "output_type": "display_data"
    },
    {
     "data": {
      "application/vnd.jupyter.widget-view+json": {
       "model_id": "dc81dbd9676144d78db74efd6645c5b6",
       "version_major": 2,
       "version_minor": 0
      },
      "text/plain": [
       "  0%|          | 0/1500 [00:00<?, ?it/s]"
      ]
     },
     "metadata": {},
     "output_type": "display_data"
    },
    {
     "name": "stderr",
     "output_type": "stream",
     "text": [
      "2023-11-13 10:02:36,007 - hbmep.utils.utils - INFO - func:run_inference took: 6 min and 59.75 sec\n"
     ]
    }
   ],
   "source": [
    "mcmc, posterior_samples = model.run_inference(df=df)\n"
   ]
  },
  {
   "cell_type": "code",
   "execution_count": 7,
   "metadata": {},
   "outputs": [
    {
     "name": "stderr",
     "output_type": "stream",
     "text": [
      "2023-11-13 09:29:12,700 - hbmep.utils.utils - INFO - func:make_prediction_dataset took: 0.01 sec\n"
     ]
    },
    {
     "name": "stderr",
     "output_type": "stream",
     "text": [
      "2023-11-13 09:29:20,862 - hbmep.utils.utils - INFO - func:predict took: 8.16 sec\n",
      "2023-11-13 09:29:20,863 - hbmep.model.baseline - INFO - Rendering recruitment curves ...\n",
      "2023-11-13 09:29:26,217 - hbmep.model.baseline - INFO - Saved to /home/vishu/repos/hbmep-paper/reports/paper/tms/injury-threshold-comparison/fcr/masking/recruitment_curves.pdf\n",
      "2023-11-13 09:29:26,217 - hbmep.utils.utils - INFO - func:render_recruitment_curves took: 5.35 sec\n",
      "2023-11-13 09:29:26,217 - hbmep.model.baseline - INFO - Rendering posterior predictive checks ...\n",
      "2023-11-13 09:29:29,589 - hbmep.model.baseline - INFO - Saved to /home/vishu/repos/hbmep-paper/reports/paper/tms/injury-threshold-comparison/fcr/masking/posterior_predictive_check.pdf\n",
      "2023-11-13 09:29:29,589 - hbmep.utils.utils - INFO - func:predictive_checks_renderer took: 3.37 sec\n",
      "2023-11-13 09:29:29,589 - hbmep.utils.utils - INFO - func:render_predictive_check took: 3.37 sec\n"
     ]
    }
   ],
   "source": [
    "prediction_df = model.make_prediction_dataset(df=df)\n",
    "posterior_predictive = model.predict(df=prediction_df, posterior_samples=posterior_samples)\n",
    "\n",
    "model.render_recruitment_curves(df=df, encoder_dict=encoder_dict, posterior_samples=posterior_samples, prediction_df=prediction_df, posterior_predictive=posterior_predictive)\n",
    "model.render_predictive_check(df=df, encoder_dict=encoder_dict, prediction_df=prediction_df, posterior_predictive=posterior_predictive)\n"
   ]
  },
  {
   "cell_type": "code",
   "execution_count": 1,
   "metadata": {},
   "outputs": [
    {
     "ename": "NameError",
     "evalue": "name 'az' is not defined",
     "output_type": "error",
     "traceback": [
      "\u001b[0;31m---------------------------------------------------------------------------\u001b[0m",
      "\u001b[0;31mNameError\u001b[0m                                 Traceback (most recent call last)",
      "\u001b[1;32m/home/vishu/repos/hbmep-paper/notebooks/paper/tms/injury-threshold-comparison/masking.ipynb Cell 7\u001b[0m line \u001b[0;36m1\n\u001b[0;32m----> <a href='vscode-notebook-cell://ssh-remote%2Bcumc00/home/vishu/repos/hbmep-paper/notebooks/paper/tms/injury-threshold-comparison/masking.ipynb#X42sdnNjb2RlLXJlbW90ZQ%3D%3D?line=0'>1</a>\u001b[0m az\u001b[39m.\u001b[39mfrom_numpyro(mcmc)\n",
      "\u001b[0;31mNameError\u001b[0m: name 'az' is not defined"
     ]
    }
   ],
   "source": [
    "az.from_numpyro(mcmc)"
   ]
  },
  {
   "cell_type": "code",
   "execution_count": 6,
   "metadata": {},
   "outputs": [
    {
     "data": {
      "text/plain": [
       "(4000, 1, 1)"
      ]
     },
     "execution_count": 6,
     "metadata": {},
     "output_type": "execute_result"
    }
   ],
   "source": [
    "a_mean_delta = posterior_samples[\"a_mean_delta\"]\n",
    "a_mean_delta = np.array(a_mean_delta)\n",
    "a_mean_delta.shape"
   ]
  },
  {
   "cell_type": "code",
   "execution_count": 17,
   "metadata": {},
   "outputs": [
    {
     "data": {
      "text/plain": [
       "(4000, 2, 1)"
      ]
     },
     "execution_count": 17,
     "metadata": {},
     "output_type": "execute_result"
    }
   ],
   "source": [
    "a_mean.shape"
   ]
  },
  {
   "cell_type": "code",
   "execution_count": 18,
   "metadata": {},
   "outputs": [
    {
     "data": {
      "text/plain": [
       "50.0913862672787"
      ]
     },
     "execution_count": 18,
     "metadata": {},
     "output_type": "execute_result"
    }
   ],
   "source": [
    "a_mean[:, 0, :].cmean()"
   ]
  },
  {
   "cell_type": "code",
   "execution_count": 22,
   "metadata": {},
   "outputs": [
    {
     "data": {
      "text/plain": [
       "41.888650968079325"
      ]
     },
     "execution_count": 22,
     "metadata": {},
     "output_type": "execute_result"
    }
   ],
   "source": [
    "a[:, :10, 0, :].mean()"
   ]
  },
  {
   "cell_type": "code",
   "execution_count": 25,
   "metadata": {},
   "outputs": [
    {
     "data": {
      "text/plain": [
       "41.888650968079325"
      ]
     },
     "execution_count": 25,
     "metadata": {},
     "output_type": "execute_result"
    }
   ],
   "source": [
    "a[:, :10, 0, :].mean()"
   ]
  },
  {
   "cell_type": "code",
   "execution_count": 27,
   "metadata": {},
   "outputs": [
    {
     "data": {
      "text/plain": [
       "64.3934675433804"
      ]
     },
     "execution_count": 27,
     "metadata": {},
     "output_type": "execute_result"
    }
   ],
   "source": [
    "a_mean[:, 1, :].mean()\n"
   ]
  },
  {
   "cell_type": "code",
   "execution_count": 28,
   "metadata": {},
   "outputs": [
    {
     "data": {
      "text/plain": [
       "57.42293698838677"
      ]
     },
     "execution_count": 28,
     "metadata": {},
     "output_type": "execute_result"
    }
   ],
   "source": [
    "a[:, 10:, 1, :].mean()\n"
   ]
  },
  {
   "cell_type": "code",
   "execution_count": 21,
   "metadata": {},
   "outputs": [
    {
     "data": {
      "text/plain": [
       "(4000, 16, 2, 1)"
      ]
     },
     "execution_count": 21,
     "metadata": {},
     "output_type": "execute_result"
    }
   ],
   "source": [
    "a.shape"
   ]
  },
  {
   "cell_type": "code",
   "execution_count": 7,
   "metadata": {},
   "outputs": [
    {
     "data": {
      "text/plain": [
       "Text(0.5, 1.0, '0.8595')"
      ]
     },
     "execution_count": 7,
     "metadata": {},
     "output_type": "execute_result"
    },
    {
     "data": {
      "image/png": "[encoded data removed]",
      "text/plain": [
       "<Figure size 640x480 with 1 Axes>"
      ]
     },
     "metadata": {},
     "output_type": "display_data"
    }
   ],
   "source": [
    "muscle_ind = 0\n",
    "sns.kdeplot(a_mean_delta[:, 0, muscle_ind], color=\"green\", label=\"Posterior\")\n",
    "plt.title((a_mean_delta[:, 0, muscle_ind] > 0).mean())\n"
   ]
  },
  {
   "cell_type": "code",
   "execution_count": 11,
   "metadata": {},
   "outputs": [
    {
     "data": {
      "text/plain": [
       "Text(0.5, 1.0, '0.9295')"
      ]
     },
     "execution_count": 11,
     "metadata": {},
     "output_type": "execute_result"
    },
    {
     "data": {
      "image/png": "[encoded data removed]",
      "text/plain": [
       "<Figure size 640x480 with 1 Axes>"
      ]
     },
     "metadata": {},
     "output_type": "display_data"
    }
   ],
   "source": [
    "muscle_ind = 0\n",
    "sns.kdeplot(a_mean_delta[:, 0, muscle_ind], color=\"green\", label=\"Posterior\")\n",
    "plt.title((a_mean_delta[:, 0, muscle_ind] > 0).mean())"
   ]
  },
  {
   "cell_type": "code",
   "execution_count": 8,
   "metadata": {},
   "outputs": [
    {
     "data": {
      "text/plain": [
       "(4000, 2, 1)"
      ]
     },
     "execution_count": 8,
     "metadata": {},
     "output_type": "execute_result"
    }
   ],
   "source": [
    "a_mean = posterior_samples[\"a_mean\"]\n",
    "a_mean.shape"
   ]
  },
  {
   "cell_type": "code",
   "execution_count": 9,
   "metadata": {},
   "outputs": [
    {
     "data": {
      "text/plain": [
       "(4000, 16, 2, 1)"
      ]
     },
     "execution_count": 9,
     "metadata": {},
     "output_type": "execute_result"
    }
   ],
   "source": [
    "a = posterior_samples[site.a]\n",
    "a.shape\n"
   ]
  },
  {
   "cell_type": "code",
   "execution_count": 23,
   "metadata": {},
   "outputs": [
    {
     "data": {
      "text/plain": [
       "array([40.65748374, 42.79305278, 43.49005278, 40.24415   , 42.68099946,\n",
       "       40.53501434])"
      ]
     },
     "execution_count": 23,
     "metadata": {},
     "output_type": "execute_result"
    }
   ],
   "source": [
    "a[:, 10:, 0, 0].mean(axis=0)\n"
   ]
  },
  {
   "cell_type": "code",
   "execution_count": 20,
   "metadata": {},
   "outputs": [
    {
     "data": {
      "text/plain": [
       "40.24971480149775"
      ]
     },
     "execution_count": 20,
     "metadata": {},
     "output_type": "execute_result"
    }
   ],
   "source": [
    "a[:, :10, 0, 0].mean(axis=(0, 1))\n"
   ]
  },
  {
   "cell_type": "code",
   "execution_count": 11,
   "metadata": {},
   "outputs": [
    {
     "data": {
      "text/plain": [
       "41.888650968079325"
      ]
     },
     "execution_count": 11,
     "metadata": {},
     "output_type": "execute_result"
    }
   ],
   "source": [
    "a[:, :10, 0, 0].mean(axis=(0, 1))\n"
   ]
  },
  {
   "cell_type": "code",
   "execution_count": 19,
   "metadata": {},
   "outputs": [
    {
     "data": {
      "text/plain": [
       "42.039150563415305"
      ]
     },
     "execution_count": 19,
     "metadata": {},
     "output_type": "execute_result"
    }
   ],
   "source": [
    "a_mean[:, 0, 0].mean(axis=0)"
   ]
  },
  {
   "cell_type": "code",
   "execution_count": 12,
   "metadata": {},
   "outputs": [
    {
     "data": {
      "text/plain": [
       "50.0913862672787"
      ]
     },
     "execution_count": 12,
     "metadata": {},
     "output_type": "execute_result"
    }
   ],
   "source": [
    "a_mean[:, 0, 0].mean(axis=0)"
   ]
  },
  {
   "cell_type": "code",
   "execution_count": 13,
   "metadata": {},
   "outputs": [
    {
     "data": {
      "text/plain": [
       "array([4.84127011e+225, 5.41255179e+205, 8.27577121e+101, 1.03712655e+037,\n",
       "       1.42930812e+155, 6.87503630e+075, 1.17469300e+094, 2.24278563e+301,\n",
       "       5.65666093e+137, 1.58005389e+212])"
      ]
     },
     "execution_count": 13,
     "metadata": {},
     "output_type": "execute_result"
    }
   ],
   "source": [
    "a[:, :10, 1, 0].mean(axis=0)\n"
   ]
  },
  {
   "cell_type": "code",
   "execution_count": 14,
   "metadata": {},
   "outputs": [
    {
     "data": {
      "text/plain": [
       "57.42293698838677"
      ]
     },
     "execution_count": 14,
     "metadata": {},
     "output_type": "execute_result"
    }
   ],
   "source": [
    "a[:, 10:, 1, 0].mean(axis=(0, 1))\n"
   ]
  },
  {
   "cell_type": "code",
   "execution_count": 15,
   "metadata": {},
   "outputs": [
    {
     "data": {
      "text/plain": [
       "64.3934675433804"
      ]
     },
     "execution_count": 15,
     "metadata": {},
     "output_type": "execute_result"
    }
   ],
   "source": [
    "a_mean[:, 1, 0].mean(axis=0)"
   ]
  },
  {
   "cell_type": "code",
   "execution_count": 8,
   "metadata": {},
   "outputs": [
    {
     "data": {
      "text/plain": [
       "Text(0.5, 1.0, '$\\\\Pr($ SCI Threshold > Uninjured Threshold $)$ = 0.394')"
      ]
     },
     "execution_count": 8,
     "metadata": {},
     "output_type": "execute_result"
    },
    {
     "data": {
      "image/png": "[encoded data removed]",
      "text/plain": [
       "<Figure size 640x480 with 1 Axes>"
      ]
     },
     "metadata": {},
     "output_type": "display_data"
    }
   ],
   "source": [
    "muscle_ind = 2\n",
    "\n",
    "a_mean_delta = posterior_samples[\"a_mean_delta\"]\n",
    "a_mean_delta = np.array(a_mean_delta)\n",
    "\n",
    "n_priors_to_plot = 5\n",
    "prior_palette = sns.color_palette(\"rocket\", as_cmap=True)\n",
    "prior_colors = iter(prior_palette(np.linspace(0, 1, n_priors_to_plot)))\n",
    "\n",
    "# d = dist.Uniform(50, 100)\n",
    "# a_mean_delta_global_scale = d.sample(model.rng_key, sample_shape=(n_priors_to_plot, ))\n",
    "\n",
    "d = dist.Exponential(1 / 29.)\n",
    "a_mean_delta_df_minus_one = d.sample(model.rng_key, sample_shape=(n_priors_to_plot, ))\n",
    "\n",
    "for i in range(n_priors_to_plot):\n",
    "    color = next(prior_colors)\n",
    "    d = dist.StudentT(loc=0, scale=50, df=a_mean_delta_df_minus_one[i] + 1)\n",
    "    samples = d.sample(model.rng_key, sample_shape=(1000, ))\n",
    "    sns.kdeplot(samples, color=color)\n",
    "\n",
    "sns.kdeplot(a_mean_delta[:, 0, muscle_ind], color=\"green\", label=\"Posterior\")\n",
    "plt.title(f\"$\\Pr($ SCI Threshold > Uninjured Threshold $)$ = {(a_mean_delta[:, 0, 0] > 0).mean():.3f}\")\n"
   ]
  },
  {
   "cell_type": "code",
   "execution_count": null,
   "metadata": {},
   "outputs": [],
   "source": []
  },
  {
   "cell_type": "code",
   "execution_count": null,
   "metadata": {},
   "outputs": [],
   "source": [
    "a_mean_delta_df_minus_one = numpyro.sample(\"a_mean_delta_df_one\", dist.Exponential(1 / 29.))\n",
    "\n",
    "with numpyro.plate(\"n_delta\", (n_feature0 - n_baseline), dim=-2):\n",
    "    a_mean_delta = numpyro.sample(\"a_mean_delta\", dist.StudentT(loc=0, scale=100, df=a_mean_delta_df_minus_one + 1))"
   ]
  },
  {
   "cell_type": "code",
   "execution_count": 12,
   "metadata": {},
   "outputs": [
    {
     "ename": "NameError",
     "evalue": "name 'a' is not defined",
     "output_type": "error",
     "traceback": [
      "\u001b[0;31m---------------------------------------------------------------------------\u001b[0m",
      "\u001b[0;31mNameError\u001b[0m                                 Traceback (most recent call last)",
      "\u001b[1;32m/home/vishu/repos/hbmep-paper/notebooks/paper/tms/injury-threshold-comparison/fcr.ipynb Cell 10\u001b[0m line \u001b[0;36m1\n\u001b[0;32m----> <a href='vscode-notebook-cell://ssh-remote%2Bcumc00/home/vishu/repos/hbmep-paper/notebooks/paper/tms/injury-threshold-comparison/fcr.ipynb#X12sdnNjb2RlLXJlbW90ZQ%3D%3D?line=0'>1</a>\u001b[0m a\u001b[39m.\u001b[39mshape\n",
      "\u001b[0;31mNameError\u001b[0m: name 'a' is not defined"
     ]
    }
   ],
   "source": []
  }
 ],
 "metadata": {
  "kernelspec": {
   "display_name": "Python 3 (ipykernel)",
   "language": "python",
   "name": "python3"
  },
  "language_info": {
   "codemirror_mode": {
    "name": "ipython",
    "version": 3
   },
   "file_extension": ".py",
   "mimetype": "text/x-python",
   "name": "python",
   "nbconvert_exporter": "python",
   "pygments_lexer": "ipython3",
   "version": "3.11.4"
  }
 },
 "nbformat": 4,
 "nbformat_minor": 2
}
