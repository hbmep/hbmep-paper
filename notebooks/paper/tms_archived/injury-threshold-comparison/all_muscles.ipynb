{
 "cells": [
  {
   "cell_type": "code",
   "execution_count": 1,
   "metadata": {},
   "outputs": [],
   "source": [
    "%reload_ext autoreload\n",
    "%autoreload 2\n",
    "\n",
    "import os\n",
    "import logging\n",
    "import multiprocessing\n",
    "\n",
    "import matplotlib.pyplot as plt\n",
    "import seaborn as sns\n",
    "import pandas as pd\n",
    "import numpy as np\n",
    "\n",
    "import arviz as az\n",
    "import jax\n",
    "import jax.numpy as jnp\n",
    "import numpyro\n",
    "\n",
    "from hbmep.config import Config\n",
    "from hbmep.model.utils import Site as site\n",
    "\n",
    "PLATFORM = \"cpu\"\n",
    "jax.config.update(\"jax_platforms\", PLATFORM)\n",
    "numpyro.set_platform(PLATFORM)\n",
    "\n",
    "cpu_count = multiprocessing.cpu_count() - 2\n",
    "numpyro.set_host_device_count(cpu_count)\n",
    "numpyro.enable_x64()\n",
    "numpyro.enable_validation()\n",
    "\n",
    "logger = logging.getLogger(__name__)\n"
   ]
  },
  {
   "cell_type": "code",
   "execution_count": 2,
   "metadata": {},
   "outputs": [],
   "source": [
    "import numpyro.distributions as dist\n",
    "from hbmep.model import BaseModel\n",
    "\n",
    "class MixedEffects(BaseModel):\n",
    "    Name = \"mixed_effects_injury_threshold_comparison\"\n",
    "\n",
    "    def __init__(self, config: Config):\n",
    "        super(MixedEffects, self).__init__(config=config)\n",
    "        self.combination_columns = self.features + [self.subject]\n",
    "\n",
    "    def fn(self, x, a, b, v, L, l, H):\n",
    "        return (\n",
    "            L\n",
    "            + jnp.where(\n",
    "                jnp.less(x, a),\n",
    "                0.,\n",
    "                -l + jnp.true_divide(\n",
    "                    H + l,\n",
    "                    jnp.power(\n",
    "                        1\n",
    "                        + jnp.multiply(\n",
    "                            -1\n",
    "                            + jnp.power(\n",
    "                                jnp.true_divide(H + l, l),\n",
    "                                v\n",
    "                            ),\n",
    "                            jnp.exp(jnp.multiply(-b, x - a))\n",
    "                        ),\n",
    "                        jnp.true_divide(1, v)\n",
    "                    )\n",
    "                )\n",
    "            )\n",
    "        )\n",
    "\n",
    "    def _model(self, subject, features, intensity, response_obs=None):\n",
    "        subject, n_subject = subject\n",
    "        features, n_features = features\n",
    "        intensity, n_data = intensity\n",
    "\n",
    "        intensity = intensity.reshape(-1, 1)\n",
    "        intensity = np.tile(intensity, (1, self.n_response))\n",
    "\n",
    "        feature0 = features[0].reshape(-1,)\n",
    "        n_feature0 = n_features[0]\n",
    "        n_baseline = 1\n",
    "\n",
    "        \"\"\" Fixed Effect (Baseline) \"\"\"\n",
    "        with numpyro.plate(site.n_response, self.n_response, dim=-1):\n",
    "            with numpyro.plate(\"n_baseline\", n_baseline, dim=-2):\n",
    "                a_mean_baseline = numpyro.sample(\"a_mean_baseline\", dist.HalfNormal(scale=50))\n",
    "\n",
    "        \"\"\" Random Effect (Delta) \"\"\"\n",
    "        with numpyro.plate(site.n_response, self.n_response, dim=-1):\n",
    "            a_mean_delta_global_df_minus_one = numpyro.sample(\"a_mean_delta_global_df_minus_one\", dist.Exponential(1 / 29.))\n",
    "\n",
    "            with numpyro.plate(\"n_delta\", (n_feature0 - n_baseline), dim=-2):\n",
    "                a_mean_delta = numpyro.sample(\"a_mean_delta\", dist.StudentT(loc=0, scale=50, df=a_mean_delta_global_df_minus_one + 1))\n",
    "\n",
    "        with numpyro.plate(site.n_response, self.n_response, dim=-1):\n",
    "            \"\"\" Global Priors \"\"\"\n",
    "            b_scale_global_scale = numpyro.sample(\"b_scale_global_scale\", dist.HalfNormal(100))\n",
    "            v_scale_global_scale = numpyro.sample(\"v_scale_global_scale\", dist.HalfNormal(100))\n",
    "\n",
    "            L_scale_global_scale = numpyro.sample(\"L_scale_global_scale\", dist.HalfNormal(1))\n",
    "            l_scale_global_scale = numpyro.sample(\"l_scale_global_scale\", dist.HalfNormal(100))\n",
    "            H_scale_global_scale = numpyro.sample(\"H_scale_global_scale\", dist.HalfNormal(5))\n",
    "\n",
    "            g_1_scale_global_scale = numpyro.sample(\"g_1_scale_global_scale\", dist.HalfNormal(100))\n",
    "            g_2_scale_global_scale = numpyro.sample(\"g_2_scale_global_scale\", dist.HalfNormal(100))\n",
    "\n",
    "            a_shape = numpyro.sample(\"a_shape\", dist.HalfNormal(scale=100))\n",
    "\n",
    "            with numpyro.plate(\"n_feature0\", n_feature0, dim=-2):\n",
    "                \"\"\" Hyper-priors \"\"\"\n",
    "                a_mean = numpyro.deterministic(\n",
    "                    \"a_mean\",\n",
    "                    jnp.concatenate([a_mean_baseline, a_mean_baseline + a_mean_delta], axis=0)\n",
    "                )\n",
    "\n",
    "                b_scale_raw = numpyro.sample(\"b_scale_raw\", dist.HalfNormal(scale=1))\n",
    "                b_scale = numpyro.deterministic(\"b_scale\", jnp.multiply(b_scale_global_scale, b_scale_raw))\n",
    "\n",
    "                v_scale_raw = numpyro.sample(\"v_scale_raw\", dist.HalfNormal(scale=1))\n",
    "                v_scale = numpyro.deterministic(\"v_scale\", jnp.multiply(v_scale_global_scale, v_scale_raw))\n",
    "\n",
    "                L_scale_raw = numpyro.sample(\"L_scale_raw\", dist.HalfNormal(scale=1))\n",
    "                L_scale = numpyro.deterministic(\"L_scale\", jnp.multiply(L_scale_global_scale, L_scale_raw))\n",
    "\n",
    "                l_scale_raw = numpyro.sample(\"l_scale_raw\", dist.HalfNormal(scale=1))\n",
    "                l_scale = numpyro.deterministic(\"sigma_l\", jnp.multiply(l_scale_global_scale, l_scale_raw))\n",
    "\n",
    "                H_scale_raw = numpyro.sample(\"H_scale_raw\", dist.HalfNormal(scale=1))\n",
    "                H_scale = numpyro.deterministic(\"H_scale\", jnp.multiply(H_scale_global_scale, H_scale_raw))\n",
    "\n",
    "                g_1_scale_raw = numpyro.sample(\"g_1_scale_raw\", dist.HalfNormal(scale=1))\n",
    "                g_1_scale = numpyro.deterministic(\"g_1_scale\", jnp.multiply(g_1_scale_global_scale, g_1_scale_raw))\n",
    "\n",
    "                g_2_scale_raw = numpyro.sample(\"g_2_scale_raw\", dist.HalfNormal(scale=1))\n",
    "                g_2_scale = numpyro.deterministic(\"g_2_scale\", jnp.multiply(g_2_scale_global_scale, g_2_scale_raw))\n",
    "\n",
    "                with numpyro.plate(site.n_subject, n_subject, dim=-3):\n",
    "                    \"\"\" Priors \"\"\"\n",
    "                    a_raw = numpyro.sample(\"a_raw\", dist.Gamma(concentration=a_shape, rate=1))\n",
    "                    a = numpyro.deterministic(site.a, jnp.true_divide(jnp.multiply(a_raw, a_mean), a_shape))\n",
    "\n",
    "                    b_raw = numpyro.sample(\"b_raw\", dist.HalfNormal(scale=1))\n",
    "                    b = numpyro.deterministic(site.b, jnp.multiply(b_scale, b_raw))\n",
    "\n",
    "                    v_raw = numpyro.sample(\"v_raw\", dist.HalfNormal(scale=1))\n",
    "                    v = numpyro.deterministic(site.v, jnp.multiply(v_scale, v_raw))\n",
    "\n",
    "                    L_raw = numpyro.sample(\"L_raw\", dist.HalfNormal(scale=1))\n",
    "                    L = numpyro.deterministic(site.L, jnp.multiply(L_scale, L_raw))\n",
    "\n",
    "                    l_raw = numpyro.sample(\"l_raw\", dist.HalfNormal(scale=1))\n",
    "                    l = numpyro.deterministic(\"l\", jnp.multiply(l_scale, l_raw))\n",
    "\n",
    "                    H_raw = numpyro.sample(\"H_raw\", dist.HalfNormal(scale=1))\n",
    "                    H = numpyro.deterministic(site.H, jnp.multiply(H_scale, H_raw))\n",
    "\n",
    "                    g_1_raw = numpyro.sample(\"g_1_raw\", dist.HalfCauchy(scale=1))\n",
    "                    g_1 = numpyro.deterministic(site.g_1, jnp.multiply(g_1_scale, g_1_raw))\n",
    "\n",
    "                    g_2_raw = numpyro.sample(\"g_2_raw\", dist.HalfCauchy(scale=1))\n",
    "                    g_2 = numpyro.deterministic(site.g_2, jnp.multiply(g_2_scale, g_2_raw))\n",
    "\n",
    "        \"\"\" Penalty \"\"\"\n",
    "        a_mean_penalty_for_negative = (jnp.fabs(a_mean_baseline + a_mean_delta) - (a_mean_baseline + a_mean_delta))\n",
    "        numpyro.factor(\"a_mean_penalty_for_negative\", -a_mean_penalty_for_negative)\n",
    "\n",
    "        a_penalty_for_negative = (jnp.fabs(a) - a)\n",
    "        numpyro.factor(\"a_penalty_for_negative\", -a_penalty_for_negative)\n",
    "\n",
    "        \"\"\" Outlier Distribution \"\"\"\n",
    "        outlier_dist_shape = numpyro.sample(\"outlier_dist_loc\", dist.HalfNormal(5))\n",
    "        outlier_dist_rate = numpyro.sample(\"outlier_dist_scale\", dist.HalfNormal(1))\n",
    "\n",
    "        \"\"\" Mixture \"\"\"\n",
    "        if response_obs is not None:\n",
    "            outlier_prob = numpyro.sample(\"outlier_prob\", dist.Uniform(0.0, 0.2))\n",
    "        else: # Turn off mixture when predicting\n",
    "            outlier_prob = numpyro.deterministic(\"outlier_prob\", 0.)\n",
    "\n",
    "        mixing_distribution = dist.Categorical(probs=jnp.array([1 - outlier_prob, outlier_prob]))\n",
    "\n",
    "        with numpyro.plate(site.n_response, self.n_response, dim=-1):\n",
    "            with numpyro.plate(site.n_data, n_data, dim=-2):\n",
    "                \"\"\" Model \"\"\"\n",
    "                mu = numpyro.deterministic(\n",
    "                    site.mu,\n",
    "                    self.fn(\n",
    "                        x=intensity,\n",
    "                        a=a[subject, feature0],\n",
    "                        b=b[subject, feature0],\n",
    "                        v=v[subject, feature0],\n",
    "                        L=L[subject, feature0],\n",
    "                        l=l[subject, feature0],\n",
    "                        H=H[subject, feature0]\n",
    "                    )\n",
    "                )\n",
    "                beta = numpyro.deterministic(\n",
    "                    site.beta,\n",
    "                    g_1[subject, feature0] + jnp.true_divide(g_2[subject, feature0], mu)\n",
    "                )\n",
    "\n",
    "                \"\"\" Mixture \"\"\"\n",
    "                component_distributions = [\n",
    "                    dist.Gamma(concentration=jnp.multiply(mu, beta), rate=beta),\n",
    "                    dist.Gamma(concentration=outlier_dist_shape, rate=outlier_dist_rate)\n",
    "                ]\n",
    "                Mixture = dist.MixtureGeneral(\n",
    "                    mixing_distribution=mixing_distribution,\n",
    "                    component_distributions=component_distributions\n",
    "                )\n",
    "\n",
    "                \"\"\" Observation \"\"\"\n",
    "                numpyro.sample(\n",
    "                    site.obs,\n",
    "                    Mixture,\n",
    "                    obs=response_obs\n",
    "                )\n",
    "\n"
   ]
  },
  {
   "cell_type": "code",
   "execution_count": 3,
   "metadata": {},
   "outputs": [
    {
     "name": "stderr",
     "output_type": "stream",
     "text": [
      "2023-11-10 15:58:30,269 - hbmep.config - INFO - Verifying configuration ...\n",
      "2023-11-10 15:58:30,270 - hbmep.config - INFO - Success!\n",
      "2023-11-10 15:58:30,283 - hbmep.model.baseline - INFO - Initialized base_model\n"
     ]
    }
   ],
   "source": [
    "toml_path = \"/home/vishu/repos/hbmep-paper/configs/paper/tms/injury-threshold-comparison/all_muscles.toml\"\n",
    "\n",
    "config = Config(toml_path=toml_path)\n",
    "config.MCMC_PARAMS[\"num_warmup\"] = 5000\n",
    "config.MCMC_PARAMS[\"num_samples\"] = 1000\n",
    "\n",
    "model = MixedEffects(config=config)\n"
   ]
  },
  {
   "cell_type": "code",
   "execution_count": 4,
   "metadata": {},
   "outputs": [
    {
     "name": "stderr",
     "output_type": "stream",
     "text": [
      "2023-11-10 15:58:30,352 - hbmep.dataset.core - INFO - Artefacts will be stored here - /home/vishu/repos/hbmep-paper/reports/paper/tms/injury-threshold-comparison/all-muscles\n",
      "2023-11-10 15:58:30,353 - hbmep.dataset.core - INFO - Copied config to /home/vishu/repos/hbmep-paper/reports/paper/tms/injury-threshold-comparison/all-muscles\n",
      "2023-11-10 15:58:30,354 - hbmep.dataset.core - INFO - Processing data ...\n",
      "2023-11-10 15:58:30,355 - hbmep.utils.utils - INFO - func:load took: 0.00 sec\n"
     ]
    }
   ],
   "source": [
    "src = \"/home/vishu/data/hbmep-processed/human/tms/data_pkpk_auc_proc-2023-10-27.csv\"\n",
    "df = pd.read_csv(src)\n",
    "\n",
    "df[model.features[0]] = \\\n",
    "    df[model.features[0]].replace({\n",
    "        \"Uninjured\": \"01_Uninjured\",\n",
    "        \"SCI\": \"02_SCI\"\n",
    "    })\n",
    "\n",
    "# ind = df[model.features[0]].isin([\"Uninjured\"])\n",
    "# df = df[ind].reset_index(drop=True).copy()\n",
    "\n",
    "# subset = [\"SCA02\"]\n",
    "# # subset = [\"SCA01\", \"SCA02\", \"SCA03\", \"SCS01\", \"SCS02\", \"SCS03\"]\n",
    "# ind = df[model.subject].isin(subset)\n",
    "# df = df[ind].reset_index(drop=True).copy()\n",
    "\n",
    "df, encoder_dict = model.load(df=df)\n",
    "# encoder_dict[model.features[0]].inverse_transform([0, 1])\n"
   ]
  },
  {
   "cell_type": "code",
   "execution_count": 5,
   "metadata": {},
   "outputs": [
    {
     "name": "stderr",
     "output_type": "stream",
     "text": [
      "2023-11-10 15:58:30,433 - hbmep.model.baseline - INFO - Running inference with base_model ...\n"
     ]
    },
    {
     "data": {
      "application/vnd.jupyter.widget-view+json": {
       "model_id": "4f32774308ce4bf6ae963698812ae3fc",
       "version_major": 2,
       "version_minor": 0
      },
      "text/plain": [
       "  0%|          | 0/6000 [00:00<?, ?it/s]"
      ]
     },
     "metadata": {},
     "output_type": "display_data"
    },
    {
     "data": {
      "application/vnd.jupyter.widget-view+json": {
       "model_id": "5be988be433f4d04981cae73a4c3f022",
       "version_major": 2,
       "version_minor": 0
      },
      "text/plain": [
       "  0%|          | 0/6000 [00:00<?, ?it/s]"
      ]
     },
     "metadata": {},
     "output_type": "display_data"
    },
    {
     "data": {
      "application/vnd.jupyter.widget-view+json": {
       "model_id": "6dc7a1efe2a8492b96f342a1bf019e35",
       "version_major": 2,
       "version_minor": 0
      },
      "text/plain": [
       "  0%|          | 0/6000 [00:00<?, ?it/s]"
      ]
     },
     "metadata": {},
     "output_type": "display_data"
    },
    {
     "data": {
      "application/vnd.jupyter.widget-view+json": {
       "model_id": "101775b026324a9591e1048a5388dfaa",
       "version_major": 2,
       "version_minor": 0
      },
      "text/plain": [
       "  0%|          | 0/6000 [00:00<?, ?it/s]"
      ]
     },
     "metadata": {},
     "output_type": "display_data"
    }
   ],
   "source": [
    "mcmc, posterior_samples = model.run_inference(df=df)\n"
   ]
  },
  {
   "cell_type": "code",
   "execution_count": 9,
   "metadata": {},
   "outputs": [
    {
     "name": "stderr",
     "output_type": "stream",
     "text": [
      "2023-11-10 22:28:19,903 - hbmep.utils.utils - INFO - func:make_prediction_dataset took: 0.00 sec\n"
     ]
    },
    {
     "name": "stderr",
     "output_type": "stream",
     "text": [
      "2023-11-10 22:28:48,186 - hbmep.utils.utils - INFO - func:predict took: 28.28 sec\n",
      "2023-11-10 22:28:48,186 - hbmep.model.baseline - INFO - Rendering recruitment curves ...\n",
      "2023-11-10 22:29:04,066 - hbmep.model.baseline - INFO - Saved to /home/vishu/repos/hbmep-paper/reports/paper/tms/injury-threshold-comparison/all-muscles/recruitment_curves.pdf\n",
      "2023-11-10 22:29:04,066 - hbmep.utils.utils - INFO - func:render_recruitment_curves took: 15.88 sec\n",
      "2023-11-10 22:29:04,067 - hbmep.model.baseline - INFO - Rendering posterior predictive checks ...\n",
      "2023-11-10 22:29:23,128 - hbmep.model.baseline - INFO - Saved to /home/vishu/repos/hbmep-paper/reports/paper/tms/injury-threshold-comparison/all-muscles/posterior_predictive_check.pdf\n",
      "2023-11-10 22:29:23,129 - hbmep.utils.utils - INFO - func:predictive_checks_renderer took: 19.06 sec\n",
      "2023-11-10 22:29:23,129 - hbmep.utils.utils - INFO - func:render_predictive_check took: 19.06 sec\n"
     ]
    }
   ],
   "source": [
    "prediction_df = model.make_prediction_dataset(df=df)\n",
    "posterior_predictive = model.predict(df=prediction_df, posterior_samples=posterior_samples)\n",
    "\n",
    "model.render_recruitment_curves(df=df, encoder_dict=encoder_dict, posterior_samples=posterior_samples, prediction_df=prediction_df, posterior_predictive=posterior_predictive)\n",
    "model.render_predictive_check(df=df, encoder_dict=encoder_dict, prediction_df=prediction_df, posterior_predictive=posterior_predictive)\n"
   ]
  },
  {
   "cell_type": "code",
   "execution_count": 8,
   "metadata": {},
   "outputs": [
    {
     "data": {
      "text/plain": [
       "Text(0.5, 1.0, '$\\\\Pr($ SCI Threshold > Uninjured Threshold $)$ = 0.394')"
      ]
     },
     "execution_count": 8,
     "metadata": {},
     "output_type": "execute_result"
    },
    {
     "data": {
      "image/png": "[encoded data removed]",
      "text/plain": [
       "<Figure size 640x480 with 1 Axes>"
      ]
     },
     "metadata": {},
     "output_type": "display_data"
    }
   ],
   "source": [
    "muscle_ind = 2\n",
    "\n",
    "a_mean_delta = posterior_samples[\"a_mean_delta\"]\n",
    "a_mean_delta = np.array(a_mean_delta)\n",
    "\n",
    "n_priors_to_plot = 5\n",
    "prior_palette = sns.color_palette(\"rocket\", as_cmap=True)\n",
    "prior_colors = iter(prior_palette(np.linspace(0, 1, n_priors_to_plot)))\n",
    "\n",
    "# d = dist.Uniform(50, 100)\n",
    "# a_mean_delta_global_scale = d.sample(model.rng_key, sample_shape=(n_priors_to_plot, ))\n",
    "\n",
    "d = dist.Exponential(1 / 29.)\n",
    "a_mean_delta_df_minus_one = d.sample(model.rng_key, sample_shape=(n_priors_to_plot, ))\n",
    "\n",
    "for i in range(n_priors_to_plot):\n",
    "    color = next(prior_colors)\n",
    "    d = dist.StudentT(loc=0, scale=50, df=a_mean_delta_df_minus_one[i] + 1)\n",
    "    samples = d.sample(model.rng_key, sample_shape=(1000, ))\n",
    "    sns.kdeplot(samples, color=color)\n",
    "\n",
    "sns.kdeplot(a_mean_delta[:, 0, muscle_ind], color=\"green\", label=\"Posterior\")\n",
    "plt.title(f\"$\\Pr($ SCI Threshold > Uninjured Threshold $)$ = {(a_mean_delta[:, 0, 0] > 0).mean():.3f}\")\n"
   ]
  },
  {
   "cell_type": "code",
   "execution_count": null,
   "metadata": {},
   "outputs": [],
   "source": []
  },
  {
   "cell_type": "code",
   "execution_count": null,
   "metadata": {},
   "outputs": [],
   "source": [
    "a_mean_delta_df_minus_one = numpyro.sample(\"a_mean_delta_df_one\", dist.Exponential(1 / 29.))\n",
    "\n",
    "with numpyro.plate(\"n_delta\", (n_feature0 - n_baseline), dim=-2):\n",
    "    a_mean_delta = numpyro.sample(\"a_mean_delta\", dist.StudentT(loc=0, scale=100, df=a_mean_delta_df_minus_one + 1))"
   ]
  },
  {
   "cell_type": "code",
   "execution_count": 12,
   "metadata": {},
   "outputs": [
    {
     "ename": "NameError",
     "evalue": "name 'a' is not defined",
     "output_type": "error",
     "traceback": [
      "\u001b[0;31m---------------------------------------------------------------------------\u001b[0m",
      "\u001b[0;31mNameError\u001b[0m                                 Traceback (most recent call last)",
      "\u001b[1;32m/home/vishu/repos/hbmep-paper/notebooks/paper/tms/injury-threshold-comparison/fcr.ipynb Cell 10\u001b[0m line \u001b[0;36m1\n\u001b[0;32m----> <a href='vscode-notebook-cell://ssh-remote%2Bcumc00/home/vishu/repos/hbmep-paper/notebooks/paper/tms/injury-threshold-comparison/fcr.ipynb#X12sdnNjb2RlLXJlbW90ZQ%3D%3D?line=0'>1</a>\u001b[0m a\u001b[39m.\u001b[39mshape\n",
      "\u001b[0;31mNameError\u001b[0m: name 'a' is not defined"
     ]
    }
   ],
   "source": []
  }
 ],
 "metadata": {
  "kernelspec": {
   "display_name": "Python 3 (ipykernel)",
   "language": "python",
   "name": "python3"
  },
  "language_info": {
   "codemirror_mode": {
    "name": "ipython",
    "version": 3
   },
   "file_extension": ".py",
   "mimetype": "text/x-python",
   "name": "python",
   "nbconvert_exporter": "python",
   "pygments_lexer": "ipython3",
   "version": "3.11.4"
  }
 },
 "nbformat": 4,
 "nbformat_minor": 2
}
