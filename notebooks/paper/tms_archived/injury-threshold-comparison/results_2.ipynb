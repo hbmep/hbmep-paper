{
 "cells": [
  {
   "cell_type": "code",
   "execution_count": 1,
   "metadata": {},
   "outputs": [],
   "source": [
    "%reload_ext autoreload\n",
    "%autoreload 2\n",
    "\n",
    "import os\n",
    "import pickle\n",
    "import logging\n",
    "import multiprocessing\n",
    "from pathlib import Path\n",
    "\n",
    "import pandas as pd\n",
    "import numpy as np\n",
    "import jax\n",
    "import jax.numpy as jnp\n",
    "\n",
    "import arviz as az\n",
    "import numpyro\n",
    "\n",
    "from hbmep.config import Config\n",
    "from hbmep.model.utils import Site as site\n",
    "\n",
    "PLATFORM = \"cpu\"\n",
    "jax.config.update(\"jax_platforms\", PLATFORM)\n",
    "numpyro.set_platform(PLATFORM)\n",
    "\n",
    "cpu_count = multiprocessing.cpu_count() - 2\n",
    "numpyro.set_host_device_count(cpu_count)\n",
    "numpyro.enable_x64()\n",
    "numpyro.enable_validation()\n",
    "\n",
    "logger = logging.getLogger(__name__)"
   ]
  },
  {
   "cell_type": "code",
   "execution_count": 2,
   "metadata": {},
   "outputs": [],
   "source": [
    "import numpyro.distributions as dist\n",
    "from hbmep.model import Baseline\n",
    "\n",
    "\n",
    "class RectifiedLogistic(Baseline):\n",
    "    LINK = \"rectified_logistic\"\n",
    "\n",
    "    def __init__(self, config: Config):\n",
    "        super(RectifiedLogistic, self).__init__(config=config)\n",
    "        self.combination_columns = self.features + [self.subject]\n",
    "\n",
    "    def fn(self, x, a, b, v, L, l, H):\n",
    "        return (\n",
    "            L\n",
    "            + jnp.where(\n",
    "                jnp.less(x, a),\n",
    "                0.,\n",
    "                -l + jnp.true_divide(\n",
    "                    H + l,\n",
    "                    jnp.power(\n",
    "                        1\n",
    "                        + jnp.multiply(\n",
    "                            -1\n",
    "                            + jnp.power(\n",
    "                                jnp.true_divide(H + l, l),\n",
    "                                v\n",
    "                            ),\n",
    "                            jnp.exp(jnp.multiply(-b, x - a))\n",
    "                        ),\n",
    "                        jnp.true_divide(1, v)\n",
    "                    )\n",
    "                )\n",
    "            )\n",
    "        )\n",
    "\n",
    "    def _model(self, subject, features, intensity, response_obs=None):\n",
    "        subject, n_subject = subject\n",
    "        features, n_features = features\n",
    "        intensity, n_data = intensity\n",
    "\n",
    "        intensity = intensity.reshape(-1, 1)\n",
    "        intensity = np.tile(intensity, (1, self.n_response))\n",
    "\n",
    "        feature0 = features[0].reshape(-1,)\n",
    "        n_feature0 = n_features[0]\n",
    "        n_baseline = 1\n",
    "\n",
    "        with numpyro.plate(site.n_response, self.n_response, dim=-1):\n",
    "            with numpyro.plate(\"n_baseline\", n_baseline, dim=-2):\n",
    "                mu_a_baseline = numpyro.sample(\"mu_a_baseline\", dist.HalfNormal(scale=50))\n",
    "                # a_shape_baseline = numpyro.sample(\"a_shape_baseline\", dist.HalfNormal(scale=100))\n",
    "\n",
    "        with numpyro.plate(site.n_response, self.n_response, dim=-1):\n",
    "            with numpyro.plate(\"n_delta\", (n_feature0 - n_baseline), dim=-2):\n",
    "                mu_a_delta = numpyro.sample(\"mu_a_delta\", dist.Normal(loc=0, scale=100))\n",
    "\n",
    "\n",
    "        with numpyro.plate(site.n_response, self.n_response, dim=-1):\n",
    "            global_sigma_b = numpyro.sample(\"global_sigma_b\", dist.HalfNormal(100))\n",
    "            global_sigma_v = numpyro.sample(\"global_sigma_v\", dist.HalfNormal(100))\n",
    "\n",
    "            global_sigma_L = numpyro.sample(\"global_sigma_L\", dist.HalfNormal(1))\n",
    "            global_sigma_l = numpyro.sample(\"global_sigma_l\", dist.HalfNormal(100))\n",
    "            global_sigma_H = numpyro.sample(\"global_sigma_H\", dist.HalfNormal(5))\n",
    "\n",
    "            global_sigma_g_1 = numpyro.sample(\"global_sigma_g_1\", dist.HalfNormal(100))\n",
    "            global_sigma_g_2 = numpyro.sample(\"global_sigma_g_2\", dist.HalfNormal(100))\n",
    "\n",
    "            with numpyro.plate(\"n_feature0\", n_feature0, dim=-2):\n",
    "                \"\"\" Hyper-priors \"\"\"\n",
    "                mu_a = numpyro.deterministic(\n",
    "                    site.mu_a,\n",
    "                    jnp.concatenate([mu_a_baseline, mu_a_baseline + mu_a_delta], axis=0)\n",
    "                )\n",
    "                # mu_a = numpyro.sample(site.mu_a, dist.HalfNormal(scale=50))\n",
    "                a_shape = numpyro.sample(\"a_shape\", dist.HalfNormal(scale=100))\n",
    "\n",
    "                sigma_b_raw = numpyro.sample(\"sigma_b_raw\", dist.HalfNormal(scale=1))\n",
    "                sigma_b = numpyro.deterministic(site.sigma_b, jnp.multiply(global_sigma_b, sigma_b_raw))\n",
    "\n",
    "                sigma_v_raw = numpyro.sample(\"sigma_v_raw\", dist.HalfNormal(scale=1))\n",
    "                sigma_v = numpyro.deterministic(site.sigma_v, jnp.multiply(global_sigma_v, sigma_v_raw))\n",
    "\n",
    "                # sigma_L_raw = numpyro.sample(\"sigma_L_raw\", dist.HalfNormal(scale=1))\n",
    "                # sigma_L = numpyro.deterministic(site.sigma_L, jnp.multiply(global_sigma_L, sigma_L_raw))\n",
    "\n",
    "                sigma_l_raw = numpyro.sample(\"sigma_l_raw\", dist.HalfNormal(scale=1))\n",
    "                sigma_l = numpyro.deterministic(\"sigma_l\", jnp.multiply(global_sigma_l, sigma_l_raw))\n",
    "\n",
    "                sigma_H_raw = numpyro.sample(\"sigma_H_raw\", dist.HalfNormal(scale=1))\n",
    "                sigma_H = numpyro.deterministic(site.sigma_H, jnp.multiply(global_sigma_H, sigma_H_raw))\n",
    "\n",
    "                sigma_g_1_raw = numpyro.sample(\"sigma_g_1_raw\", dist.HalfNormal(scale=1))\n",
    "                sigma_g_1 = numpyro.deterministic(\"sigma_g_1\", jnp.multiply(global_sigma_g_1, sigma_g_1_raw))\n",
    "\n",
    "                sigma_g_2_raw = numpyro.sample(\"sigma_g_2_raw\", dist.HalfNormal(scale=1))\n",
    "                sigma_g_2 = numpyro.deterministic(\"sigma_g_2\", jnp.multiply(global_sigma_g_2, sigma_g_2_raw))\n",
    "\n",
    "                # sigma_p_raw = numpyro.sample(\"sigma_p_raw\", dist.HalfNormal(scale=1))\n",
    "                # sigma_p = numpyro.deterministic(\"sigma_p\", jnp.multiply(global_sigma_p, sigma_p_raw))\n",
    "\n",
    "                with numpyro.plate(site.n_subject, n_subject, dim=-3):\n",
    "                    \"\"\" Priors \"\"\"\n",
    "                    a_raw = numpyro.sample(\"a_raw\", dist.Gamma(concentration=a_shape, rate=1))\n",
    "                    a = numpyro.deterministic(site.a, jnp.true_divide(jnp.multiply(a_raw, mu_a), a_shape))\n",
    "\n",
    "                    b_raw = numpyro.sample(\"b_raw\", dist.HalfNormal(scale=1))\n",
    "                    b = numpyro.deterministic(site.b, jnp.multiply(sigma_b, b_raw))\n",
    "\n",
    "                    v_raw = numpyro.sample(\"v_raw\", dist.HalfNormal(scale=1))\n",
    "                    v = numpyro.deterministic(site.v, jnp.multiply(sigma_v, v_raw))\n",
    "\n",
    "                    L_raw = numpyro.sample(\"L_raw\", dist.HalfNormal(scale=1))\n",
    "                    L = numpyro.deterministic(site.L, jnp.multiply(global_sigma_L, L_raw))\n",
    "\n",
    "                    l_raw = numpyro.sample(\"l_raw\", dist.HalfNormal(scale=1))\n",
    "                    l = numpyro.deterministic(\"l\", jnp.multiply(sigma_l, l_raw))\n",
    "\n",
    "                    H_raw = numpyro.sample(\"H_raw\", dist.HalfNormal(scale=1))\n",
    "                    H = numpyro.deterministic(site.H, jnp.multiply(sigma_H, H_raw))\n",
    "\n",
    "                    g_1_raw = numpyro.sample(\"g_1_raw\", dist.HalfCauchy(scale=1))\n",
    "                    g_1 = numpyro.deterministic(site.g_1, jnp.multiply(sigma_g_1, g_1_raw))\n",
    "\n",
    "                    g_2_raw = numpyro.sample(\"g_2_raw\", dist.HalfCauchy(scale=1))\n",
    "                    g_2 = numpyro.deterministic(site.g_2, jnp.multiply(sigma_g_2, g_2_raw))\n",
    "\n",
    "                    # p_raw = numpyro.sample(\"p_raw\", dist.HalfNormal(scale=1))\n",
    "                    # p = numpyro.deterministic(\"p\", jnp.multiply(sigma_p, p_raw))\n",
    "\n",
    "        with numpyro.plate(site.n_response, self.n_response, dim=-1):\n",
    "            with numpyro.plate(site.data, n_data, dim=-2):\n",
    "                \"\"\" Model \"\"\"\n",
    "                mu = numpyro.deterministic(\n",
    "                    site.mu,\n",
    "                    self.fn(\n",
    "                        x=intensity,\n",
    "                        a=a[subject, feature0],\n",
    "                        b=b[subject, feature0],\n",
    "                        v=v[subject, feature0],\n",
    "                        L=L[subject, feature0],\n",
    "                        l=l[subject, feature0],\n",
    "                        H=H[subject, feature0]\n",
    "                    )\n",
    "                )\n",
    "                beta = numpyro.deterministic(\n",
    "                    site.beta,\n",
    "                    g_1[subject, feature0] + jnp.true_divide(\n",
    "                        g_2[subject, feature0],\n",
    "                        mu\n",
    "                    )\n",
    "                )\n",
    "\n",
    "                \"\"\" Observation \"\"\"\n",
    "                numpyro.sample(\n",
    "                    site.obs,\n",
    "                    dist.Gamma(concentration=jnp.multiply(mu, beta), rate=beta),\n",
    "                    obs=response_obs\n",
    "                )\n"
   ]
  },
  {
   "cell_type": "code",
   "execution_count": 3,
   "metadata": {},
   "outputs": [
    {
     "name": "stderr",
     "output_type": "stream",
     "text": [
      "2023-11-08 16:44:05,260 - hbmep.config - INFO - Verifying configuration ...\n",
      "2023-11-08 16:44:05,260 - hbmep.config - INFO - Success!\n",
      "2023-11-08 16:44:05,281 - hbmep.model.baseline - INFO - Initialized model with rectified_logistic link\n"
     ]
    }
   ],
   "source": [
    "toml_path = \"/home/vishu/repos/hbmep-paper/configs/paper/tms/injury-threshold-comparison/config.toml\"\n",
    "\n",
    "config = Config(toml_path=toml_path)\n",
    "config.MCMC_PARAMS[\"num_warmup\"] = 500\n",
    "config.MCMC_PARAMS[\"num_samples\"] = 1000\n",
    "\n",
    "model = RectifiedLogistic(config=config)\n"
   ]
  },
  {
   "cell_type": "code",
   "execution_count": 4,
   "metadata": {},
   "outputs": [
    {
     "name": "stderr",
     "output_type": "stream",
     "text": [
      "2023-11-08 16:44:05,321 - hbmep.dataset.core - INFO - Artefacts will be stored here - /home/vishu/repos/hbmep-paper/reports/paper/tms/injury-threshold-comparison\n",
      "2023-11-08 16:44:05,321 - hbmep.dataset.core - INFO - Copied config to /home/vishu/repos/hbmep-paper/reports/paper/tms/injury-threshold-comparison\n",
      "2023-11-08 16:44:05,323 - hbmep.dataset.core - INFO - Processing data ...\n",
      "2023-11-08 16:44:05,324 - hbmep.utils.utils - INFO - func:load took: 0.00 sec\n"
     ]
    }
   ],
   "source": [
    "src = \"/home/vishu/data/hbmep-processed/human/tms/data_pkpk_auc_proc-2023-10-27.csv\"\n",
    "df = pd.read_csv(src)\n",
    "\n",
    "# ind = df[model.features[0]].isin([\"Uninjured\"])\n",
    "# df = df[ind].reset_index(drop=True).copy()\n",
    "\n",
    "# subset = [\"SCA01\"]\n",
    "# subset = [\"SCA01\", \"SCA02\", \"SCA03\", \"SCS01\", \"SCS02\", \"SCS03\"]\n",
    "# ind = df[model.subject].isin(subset)\n",
    "# df = df[ind].reset_index(drop=True).copy()\n",
    "\n",
    "df, encoder_dict = model.load(df=df)\n"
   ]
  },
  {
   "cell_type": "code",
   "execution_count": 5,
   "metadata": {},
   "outputs": [
    {
     "name": "stderr",
     "output_type": "stream",
     "text": [
      "2023-11-08 16:44:05,353 - hbmep.model.baseline - INFO - Running inference with rectified_logistic ...\n"
     ]
    },
    {
     "data": {
      "application/vnd.jupyter.widget-view+json": {
       "model_id": "ca12ff13d20747a1af70d658d3825782",
       "version_major": 2,
       "version_minor": 0
      },
      "text/plain": [
       "  0%|          | 0/1500 [00:00<?, ?it/s]"
      ]
     },
     "metadata": {},
     "output_type": "display_data"
    },
    {
     "data": {
      "application/vnd.jupyter.widget-view+json": {
       "model_id": "c8dbbfcb0de942c38369d2b57a10da6a",
       "version_major": 2,
       "version_minor": 0
      },
      "text/plain": [
       "  0%|          | 0/1500 [00:00<?, ?it/s]"
      ]
     },
     "metadata": {},
     "output_type": "display_data"
    },
    {
     "data": {
      "application/vnd.jupyter.widget-view+json": {
       "model_id": "2ed3b6b1f9fe4a3fa87ddd54dff43ec9",
       "version_major": 2,
       "version_minor": 0
      },
      "text/plain": [
       "  0%|          | 0/1500 [00:00<?, ?it/s]"
      ]
     },
     "metadata": {},
     "output_type": "display_data"
    },
    {
     "data": {
      "application/vnd.jupyter.widget-view+json": {
       "model_id": "54514ec60e9a416abbe19999c3385e5b",
       "version_major": 2,
       "version_minor": 0
      },
      "text/plain": [
       "  0%|          | 0/1500 [00:00<?, ?it/s]"
      ]
     },
     "metadata": {},
     "output_type": "display_data"
    },
    {
     "name": "stderr",
     "output_type": "stream",
     "text": [
      "2023-11-08 16:48:00,024 - hbmep.utils.utils - INFO - func:run_inference took: 3 min and 54.67 sec\n"
     ]
    }
   ],
   "source": [
    "mcmc, posterior_samples = model.run_inference(df=df)\n"
   ]
  },
  {
   "cell_type": "code",
   "execution_count": 6,
   "metadata": {},
   "outputs": [
    {
     "name": "stderr",
     "output_type": "stream",
     "text": [
      "2023-11-08 16:23:06,572 - hbmep.utils.utils - INFO - func:make_prediction_dataset took: 0.01 sec\n",
      "2023-11-08 16:23:11,513 - hbmep.utils.utils - INFO - func:predict took: 4.94 sec\n",
      "2023-11-08 16:23:11,531 - hbmep.model.baseline - INFO - Rendering ...\n",
      "2023-11-08 16:23:17,090 - hbmep.model.baseline - INFO - Saved to /home/vishu/repos/hbmep-paper/reports/paper/tms/injury-threshold-comparison/recruitment_curves.pdf\n",
      "2023-11-08 16:23:17,091 - hbmep.utils.utils - INFO - func:render_recruitment_curves took: 5.58 sec\n",
      "2023-11-08 16:23:17,106 - hbmep.model.baseline - INFO - Rendering Posterior Predictive Check ...\n",
      "2023-11-08 16:23:20,856 - hbmep.model.baseline - INFO - Saved to /home/vishu/repos/hbmep-paper/reports/paper/tms/injury-threshold-comparison/posterior_predictive_check.pdf\n",
      "2023-11-08 16:23:20,857 - hbmep.utils.utils - INFO - func:_render_predictive_check took: 3.77 sec\n",
      "2023-11-08 16:23:20,857 - hbmep.utils.utils - INFO - func:render_predictive_check took: 3.77 sec\n"
     ]
    }
   ],
   "source": [
    "prediction_df = model.make_prediction_dataset(df=df)\n",
    "posterior_predictive = model.predict(df=prediction_df, posterior_samples=posterior_samples)\n",
    "\n",
    "model.render_recruitment_curves(df=df, encoder_dict=encoder_dict, posterior_samples=posterior_samples, prediction_df=prediction_df, posterior_predictive=posterior_predictive)\n",
    "model.render_predictive_check(df=df, encoder_dict=encoder_dict, prediction_df=prediction_df, posterior_predictive=posterior_predictive)\n"
   ]
  },
  {
   "cell_type": "code",
   "execution_count": 11,
   "metadata": {},
   "outputs": [
    {
     "data": {
      "text/plain": [
       "(4000, 1)"
      ]
     },
     "execution_count": 11,
     "metadata": {},
     "output_type": "execute_result"
    }
   ],
   "source": [
    "mu_a[:, 0].shape"
   ]
  },
  {
   "cell_type": "code",
   "execution_count": 7,
   "metadata": {},
   "outputs": [
    {
     "data": {
      "text/plain": [
       "(4000, 1, 1)"
      ]
     },
     "execution_count": 7,
     "metadata": {},
     "output_type": "execute_result"
    }
   ],
   "source": [
    "mu_a_delta = posterior_samples[\"mu_a_delta\"]\n",
    "mu_a_delta = np.array(mu_a_delta)\n",
    "mu_a_delta.shape\n"
   ]
  },
  {
   "cell_type": "code",
   "execution_count": 11,
   "metadata": {},
   "outputs": [
    {
     "data": {
      "text/plain": [
       "0.603"
      ]
     },
     "execution_count": 11,
     "metadata": {},
     "output_type": "execute_result"
    }
   ],
   "source": [
    "(mu_a_delta[:, 0, 0] < 0).mean()"
   ]
  },
  {
   "cell_type": "code",
   "execution_count": 12,
   "metadata": {},
   "outputs": [
    {
     "data": {
      "text/plain": [
       "<Axes: ylabel='Density'>"
      ]
     },
     "execution_count": 12,
     "metadata": {},
     "output_type": "execute_result"
    },
    {
     "data": {
      "image/png": "[encoded data removed]",
      "text/plain": [
       "<Figure size 640x480 with 1 Axes>"
      ]
     },
     "metadata": {},
     "output_type": "display_data"
    }
   ],
   "source": [
    "import matplotlib.pyplot as plt\n",
    "import seaborn as sns\n",
    "\n",
    "sns.kdeplot(mu_a_delta[:, 0, 0])\n"
   ]
  },
  {
   "cell_type": "code",
   "execution_count": null,
   "metadata": {},
   "outputs": [
    {
     "name": "stdout",
     "output_type": "stream",
     "text": [
      "\n",
      "                         mean       std    median      2.5%     97.5%     n_eff     r_hat\n",
      "       H_raw[0,0,0]      1.39      0.64      1.35      0.23      2.48     13.58      1.29\n",
      "       H_raw[0,0,1]      1.10      0.66      1.00      0.25      2.77      4.18      2.28\n",
      "       H_raw[0,0,2]      0.74      0.68      0.63      0.00      1.98      5.94      1.61\n",
      "       H_raw[0,0,3]      0.84      0.67      0.74      0.02      2.21     10.92      1.33\n",
      "       H_raw[0,0,4]      0.56      0.44      0.46      0.07      1.46      6.25      1.42\n",
      "       H_raw[0,0,5]      0.55      0.53      0.40      0.01      1.62     14.12      1.28\n",
      "       H_raw[1,0,0]      0.76      0.46      0.64      0.08      1.78     21.91      1.26\n",
      "       H_raw[1,0,1]      0.60      0.57      0.41      0.01      1.80     14.34      1.45\n",
      "       H_raw[1,0,2]      0.67      0.52      0.59      0.00      1.71     24.56      1.15\n",
      "       H_raw[1,0,3]      0.75      0.74      0.61      0.00      2.14      5.37      1.66\n",
      "       H_raw[1,0,4]      0.63      0.56      0.46      0.01      1.74      7.73      1.39\n",
      "       H_raw[1,0,5]      0.80      0.52      0.64      0.10      1.82     13.17      1.35\n",
      "       H_raw[2,0,0]      0.65      0.51      0.53      0.05      1.60      6.89      1.88\n",
      "       H_raw[2,0,1]      0.14      0.09      0.13      0.03      0.39      5.50      2.29\n",
      "       H_raw[2,0,2]      0.65      0.45      0.55      0.02      1.47     26.09      1.13\n",
      "       H_raw[2,0,3]      0.19      0.30      0.05      0.00      0.82      2.60      2.34\n",
      "       H_raw[2,0,4]      0.61      0.54      0.43      0.01      1.71     30.46      1.07\n",
      "       H_raw[2,0,5]      0.64      0.41      0.53      0.03      1.53     19.80      1.29\n",
      "       L_raw[0,0,0]      0.21      0.20      0.10      0.01      0.63      2.78      2.34\n",
      "       L_raw[0,0,1]      0.55      0.20      0.54      0.17      0.93     10.49      1.40\n",
      "       L_raw[0,0,2]      0.82      0.36      0.79      0.27      1.55      7.18      1.76\n",
      "       L_raw[0,0,3]      0.69      0.38      0.64      0.22      1.41      2.84      2.55\n",
      "       L_raw[0,0,4]      0.88      0.57      0.75      0.08      2.19      6.01      2.09\n",
      "       L_raw[0,0,5]      0.73      0.42      0.59      0.19      1.66      2.49      3.76\n",
      "       L_raw[1,0,0]      1.31      0.54      1.23      0.39      2.43     19.11      1.18\n",
      "       L_raw[1,0,1]      0.43      0.15      0.41      0.14      0.71      8.23      1.50\n",
      "       L_raw[1,0,2]      1.52      0.57      1.51      0.56      2.61      6.00      1.80\n",
      "       L_raw[1,0,3]      0.96      0.63      0.72      0.28      2.26      2.75      2.91\n",
      "       L_raw[1,0,4]      0.62      0.40      0.53      0.05      1.53      6.46      2.03\n",
      "       L_raw[1,0,5]      0.84      0.48      0.69      0.21      1.88      2.43      3.61\n",
      "       L_raw[2,0,0]      0.23      0.22      0.11      0.01      0.65      3.02      2.18\n",
      "       L_raw[2,0,1]      0.95      0.33      0.91      0.36      1.61      8.16      1.42\n",
      "       L_raw[2,0,2]      0.78      0.33      0.74      0.23      1.41      6.84      1.74\n",
      "       L_raw[2,0,3]      0.84      0.55      0.73      0.03      1.85      3.03      2.05\n",
      "       L_raw[2,0,4]      0.60      0.38      0.55      0.04      1.29     13.27      1.45\n",
      "       L_raw[2,0,5]      0.66      0.38      0.54      0.18      1.49      2.50      3.79\n",
      "       a_raw[0,0,0]     31.00     40.32     12.70      2.32    119.49      4.79      1.51\n",
      "       a_raw[0,0,1]      4.78      3.91      3.60      1.11     16.17      8.88      1.97\n",
      "       a_raw[0,0,2]     52.72     36.66     52.01      3.44    121.43      3.72      1.65\n",
      "       a_raw[0,0,3]     17.09     29.91      9.92      0.49     73.18     12.13      1.41\n",
      "       a_raw[0,0,4]      9.30      9.44      5.91      0.38     30.30      3.49      1.97\n",
      "       a_raw[0,0,5]     53.15     38.06     47.37      3.24    127.93      3.89      2.01\n",
      "       a_raw[1,0,0]     25.73     39.31      9.06      1.61    116.03      5.23      1.45\n",
      "       a_raw[1,0,1]     10.67      7.98      8.28      2.09     31.76      9.00      1.87\n",
      "       a_raw[1,0,2]     57.23     39.26     55.26      2.39    135.45      4.11      1.56\n",
      "       a_raw[1,0,3]     18.92     27.79     11.02      0.49     68.85     14.31      1.33\n",
      "       a_raw[1,0,4]     14.84     11.81     10.62      0.79     39.42      3.36      2.29\n",
      "       a_raw[1,0,5]     45.61     34.10     43.27      2.06    117.07      3.77      1.95\n",
      "       a_raw[2,0,0]     34.50     44.85     14.37      2.57    133.52      4.79      1.51\n",
      "       a_raw[2,0,1]      6.41      5.29      4.81      1.41     21.82      8.87      1.98\n",
      "       a_raw[2,0,2]     56.21     40.58     52.63      5.70    138.48      5.18      1.49\n",
      "       a_raw[2,0,3]     15.63     26.16      8.22      0.06     61.95     14.65      1.34\n",
      "       a_raw[2,0,4]      9.25      9.23      5.93      0.40     29.83      3.49      2.03\n",
      "       a_raw[2,0,5]     54.74     38.40     54.28      2.98    130.10      3.60      2.00\n",
      "       b_raw[0,0,0]      0.97      0.58      0.93      0.09      1.91      5.37      1.52\n",
      "       b_raw[0,0,1]      0.71      0.53      0.60      0.02      1.78     13.98      1.60\n",
      "       b_raw[0,0,2]      0.48      0.49      0.31      0.02      1.47     16.76      1.35\n",
      "       b_raw[0,0,3]      0.67      0.40      0.63      0.06      1.42     29.30      1.14\n",
      "       b_raw[0,0,4]      0.80      0.38      0.78      0.15      1.56     53.06      1.07\n",
      "       b_raw[0,0,5]      0.64      0.55      0.50      0.01      1.73      5.24      1.49\n",
      "       b_raw[1,0,0]      0.49      0.39      0.40      0.03      1.23     10.36      1.28\n",
      "       b_raw[1,0,1]      0.69      0.55      0.55      0.03      1.91     13.69      1.36\n",
      "       b_raw[1,0,2]      0.69      0.50      0.57      0.06      1.74     35.00      1.12\n",
      "       b_raw[1,0,3]      0.79      0.66      0.72      0.00      1.97     19.48      1.26\n",
      "       b_raw[1,0,4]      0.49      0.46      0.28      0.01      1.36      8.60      1.33\n",
      "       b_raw[1,0,5]      0.79      0.66      0.61      0.06      2.07     12.59      1.70\n",
      "       b_raw[2,0,0]      0.49      0.40      0.38      0.01      1.26     11.08      1.36\n",
      "       b_raw[2,0,1]      0.75      0.57      0.59      0.06      1.82      7.05      1.35\n",
      "       b_raw[2,0,2]      0.73      0.48      0.58      0.07      1.75     11.73      1.58\n",
      "       b_raw[2,0,3]      1.03      0.69      0.90      0.02      2.39     16.66      1.27\n",
      "       b_raw[2,0,4]      0.64      0.59      0.41      0.05      2.03     14.58      1.37\n",
      "       b_raw[2,0,5]      0.56      0.44      0.42      0.01      1.45     24.17      1.21\n",
      "     g_1_raw[0,0,0]      0.18      0.27      0.06      0.00      0.74      7.58      1.48\n",
      "     g_1_raw[0,0,1]      0.80      0.92      0.48      0.01      2.16     30.68      1.18\n",
      "     g_1_raw[0,0,2]      8.38     27.25      0.60      0.01     71.00     10.20      1.53\n",
      "     g_1_raw[0,0,3]      1.24      0.98      0.98      0.23      3.12      9.04      1.39\n",
      "     g_1_raw[0,0,4]      0.83      0.77      0.63      0.04      2.21     38.77      1.14\n",
      "     g_1_raw[0,0,5]      0.50      0.45      0.40      0.02      1.23     31.94      1.13\n",
      "     g_1_raw[1,0,0]     51.60     81.72     24.93      0.18    260.19      9.85      1.78\n",
      "     g_1_raw[1,0,1]      0.23      0.36      0.09      0.00      0.77     24.94      1.13\n",
      "     g_1_raw[1,0,2]      1.74      2.95      0.83      0.02      6.62     33.50      1.09\n",
      "     g_1_raw[1,0,3]      0.35      0.23      0.29      0.06      0.88     12.69      1.49\n",
      "     g_1_raw[1,0,4]      0.51      0.61      0.26      0.00      1.82     33.79      1.15\n",
      "     g_1_raw[1,0,5]      2.22      2.76      1.27      0.01      7.10     13.31      1.31\n",
      "     g_1_raw[2,0,0]      0.39      0.57      0.20      0.00      1.41     31.40      1.12\n",
      "     g_1_raw[2,0,1]      3.62      5.22      1.52      0.14     13.34     26.24      1.23\n",
      "     g_1_raw[2,0,2]      0.94      2.38      0.33      0.00      2.25     24.05      1.20\n",
      "     g_1_raw[2,0,3]      1.31      0.99      0.96      0.21      3.48      5.12      1.58\n",
      "     g_1_raw[2,0,4]      1.05      0.95      0.79      0.09      3.05     79.94      1.07\n",
      "     g_1_raw[2,0,5]      0.15      0.28      0.07      0.00      0.50     39.46      1.13\n",
      "     g_2_raw[0,0,0]      1.57      2.11      0.78      0.07      7.45      5.67      2.73\n",
      "     g_2_raw[0,0,1]      0.83      0.71      0.70      0.01      2.04      4.21      1.88\n",
      "     g_2_raw[0,0,2]      0.23      0.17      0.20      0.02      0.58      5.39      1.79\n",
      "     g_2_raw[0,0,3]      1.12      1.35      0.67      0.04      3.42     31.64      1.13\n",
      "     g_2_raw[0,0,4]      1.33      1.23      0.90      0.29      4.68      5.29      2.69\n",
      "     g_2_raw[0,0,5]      0.25      0.31      0.16      0.00      0.98      8.68      1.45\n",
      "     g_2_raw[1,0,0]      0.78      1.27      0.28      0.01      3.79      3.75      1.64\n",
      "     g_2_raw[1,0,1]      0.02      0.02      0.01      0.00      0.06      4.84      1.58\n",
      "     g_2_raw[1,0,2]      3.28      2.87      2.43      0.10      9.83      3.59      1.83\n",
      "     g_2_raw[1,0,3]      0.60      0.95      0.18      0.01      2.77     15.29      1.43\n",
      "     g_2_raw[1,0,4]      0.07      0.08      0.04      0.00      0.25      6.83      2.33\n",
      "     g_2_raw[1,0,5]      5.85      8.14      2.07      0.03     26.73      8.62      1.97\n",
      "     g_2_raw[2,0,0]      1.66      2.20      0.87      0.07      7.35      5.80      2.46\n",
      "     g_2_raw[2,0,1]      0.66      0.66      0.50      0.01      1.67      4.71      1.73\n",
      "     g_2_raw[2,0,2]      0.39      0.35      0.30      0.05      1.10      4.17      1.61\n",
      "     g_2_raw[2,0,3]      0.96      0.94      0.60      0.04      3.01     26.26      1.16\n",
      "     g_2_raw[2,0,4]      1.11      1.05      0.75      0.28      3.82      4.89      2.52\n",
      "     g_2_raw[2,0,5]      0.77      1.10      0.29      0.00      3.74      5.57      2.38\n",
      "  global_sigma_H[0]      4.36      2.80      3.84      0.55      9.62      4.52      1.45\n",
      "  global_sigma_H[1]      2.64      1.82      2.13      0.18      6.41      6.70      2.01\n",
      "  global_sigma_H[2]      3.42      3.08      2.70      0.02      9.22     17.84      1.27\n",
      "  global_sigma_H[3]      4.12      3.15      3.56      0.10     10.28     20.14      1.26\n",
      "  global_sigma_H[4]      3.54      2.89      2.77      0.21      9.36      7.24      1.37\n",
      "  global_sigma_H[5]      3.54      2.69      3.13      0.03      8.46     25.94      1.21\n",
      "  global_sigma_L[0]      0.55      0.50      0.38      0.01      1.51      4.03      2.19\n",
      "  global_sigma_L[1]      0.39      0.49      0.17      0.01      1.32     11.14      1.33\n",
      "  global_sigma_L[2]      0.40      0.50      0.20      0.01      1.55      5.90      1.40\n",
      "  global_sigma_L[3]      0.08      0.08      0.05      0.00      0.23      6.84      1.66\n",
      "  global_sigma_L[4]      0.08      0.09      0.05      0.00      0.23     13.71      1.36\n",
      "  global_sigma_L[5]      0.31      0.47      0.12      0.01      1.15      9.00      1.45\n",
      "  global_sigma_b[0]     20.94     34.44      5.84      0.08     86.13     25.66      1.22\n",
      "  global_sigma_b[1]     23.95     29.12     12.94      0.21     77.53     22.99      1.27\n",
      "  global_sigma_b[2]     26.69     41.92      5.29      0.00    114.10      3.63      1.64\n",
      "  global_sigma_b[3]      4.66      8.46      1.54      0.08     21.71     29.76      1.14\n",
      "  global_sigma_b[4]     21.53     38.38      3.40      0.00     93.41      7.67      1.44\n",
      "  global_sigma_b[5]     29.07     36.62     15.36      0.17     98.34     54.27      1.05\n",
      "global_sigma_g_1[0]      4.73     18.01      0.08      0.00     16.49     17.92      1.21\n",
      "global_sigma_g_1[1]     13.62     28.68      2.09      0.00     70.30     22.65      1.18\n",
      "global_sigma_g_1[2]      1.81      7.73      0.03      0.00      6.65     39.68      1.12\n",
      "global_sigma_g_1[3]     18.90     41.17      0.27      0.00    109.54      8.31      1.29\n",
      "global_sigma_g_1[4]      8.17     27.27      0.18      0.00     42.84     26.09      1.13\n",
      "global_sigma_g_1[5]     14.30     25.49      1.09      0.00     67.70     20.30      1.23\n",
      "global_sigma_g_2[0]     22.01     53.61      1.68      0.07    168.57      6.46      2.35\n",
      "global_sigma_g_2[1]     30.98     41.35     10.33      0.28    117.25      3.65      1.79\n",
      "global_sigma_g_2[2]     32.86     41.22     12.93      0.20    113.24      8.66      1.56\n",
      "global_sigma_g_2[3]      1.50      3.72      0.35      0.00      6.41     38.05      1.09\n",
      "global_sigma_g_2[4]     25.46     37.27      9.99      0.08    108.25      9.34      1.36\n",
      "global_sigma_g_2[5]     28.17     39.39     11.71      0.03    120.28     12.25      1.48\n",
      "  global_sigma_l[0]     73.77     52.50     65.07      3.59    175.48     19.70      1.23\n",
      "  global_sigma_l[1]     80.25     46.29     73.17      9.04    174.17     60.01      1.12\n",
      "  global_sigma_l[2]     37.89     53.29     12.20      0.01    153.14      9.09      1.34\n",
      "  global_sigma_l[3]    106.93     56.83    100.99     10.51    213.67     34.68      1.12\n",
      "  global_sigma_l[4]     50.17     50.84     30.01      1.07    156.91     30.58      1.14\n",
      "  global_sigma_l[5]     36.03     48.05      8.03      0.01    135.66      4.30      1.78\n",
      "  global_sigma_v[0]     87.70     60.87     83.32      0.77    198.45     17.77      1.33\n",
      "  global_sigma_v[1]     94.87     52.50     87.29      5.80    194.38     23.78      1.14\n",
      "  global_sigma_v[2]     76.67     55.24     63.44      4.20    174.38     16.10      1.27\n",
      "  global_sigma_v[3]     88.01     60.81     71.11      0.82    211.35     28.38      1.11\n",
      "  global_sigma_v[4]    113.50     59.10    110.88      5.47    215.17     17.14      1.26\n",
      "  global_sigma_v[5]     79.47     53.60     64.42      3.08    191.15     28.89      1.19\n",
      "       l_raw[0,0,0]      0.77      0.53      0.63      0.03      1.90      7.09      1.39\n",
      "       l_raw[0,0,1]      0.78      0.63      0.62      0.06      2.12     28.63      1.19\n",
      "       l_raw[0,0,2]      0.63      0.48      0.58      0.00      1.53     18.24      1.18\n",
      "       l_raw[0,0,3]      0.91      0.58      0.91      0.01      1.90     20.90      1.27\n",
      "       l_raw[0,0,4]      1.18      0.55      1.14      0.12      2.18     19.19      1.16\n",
      "       l_raw[0,0,5]      0.65      0.53      0.44      0.01      1.67      9.77      1.30\n",
      "       l_raw[1,0,0]      1.25      0.64      1.20      0.09      2.34     19.21      1.27\n",
      "       l_raw[1,0,1]      0.75      0.52      0.70      0.04      1.82      6.23      1.35\n",
      "       l_raw[1,0,2]      0.46      0.44      0.34      0.02      1.49     20.48      1.20\n",
      "       l_raw[1,0,3]      0.85      0.60      0.71      0.01      2.05     10.32      1.30\n",
      "       l_raw[1,0,4]      0.72      0.70      0.50      0.01      2.12      5.16      1.72\n",
      "       l_raw[1,0,5]      0.91      0.52      0.82      0.02      1.88     40.19      1.09\n",
      "       l_raw[2,0,0]      0.76      0.42      0.70      0.10      1.63     18.37      1.26\n",
      "       l_raw[2,0,1]      0.87      0.65      0.73      0.00      2.10     14.53      1.33\n",
      "       l_raw[2,0,2]      0.37      0.40      0.23      0.00      1.24     23.74      1.26\n",
      "       l_raw[2,0,3]      1.02      0.72      0.98      0.01      2.33     13.66      1.25\n",
      "       l_raw[2,0,4]      0.91      0.50      0.82      0.17      1.97     39.29      1.12\n",
      "       l_raw[2,0,5]      0.69      0.65      0.53      0.00      2.03     14.87      1.34\n",
      "   sigma_H_raw[0,0]      0.79      0.60      0.70      0.04      1.94     13.05      1.28\n",
      "   sigma_H_raw[0,1]      0.64      0.32      0.60      0.08      1.19      8.93      1.41\n",
      "   sigma_H_raw[0,2]      0.68      0.57      0.53      0.00      1.91     28.31      1.19\n",
      "   sigma_H_raw[0,3]      0.21      0.29      0.07      0.00      0.85      4.33      1.54\n",
      "   sigma_H_raw[0,4]      0.73      0.50      0.56      0.06      1.73     18.80      1.20\n",
      "   sigma_H_raw[0,5]      0.55      0.65      0.18      0.00      1.84      6.01      1.49\n",
      "   sigma_L_raw[0,0]      0.37      0.34      0.28      0.01      0.99     10.76      1.60\n",
      "   sigma_L_raw[0,1]      0.18      0.31      0.08      0.00      0.81      8.05      1.33\n",
      "   sigma_L_raw[0,2]      0.14      0.22      0.05      0.00      0.54      8.99      1.56\n",
      "   sigma_L_raw[0,3]      0.71      0.71      0.48      0.02      2.18     10.53      1.75\n",
      "   sigma_L_raw[0,4]      0.34      0.31      0.23      0.03      0.99      8.91      1.48\n",
      "   sigma_L_raw[0,5]      0.35      0.43      0.10      0.00      1.17      2.19      4.05\n",
      "   sigma_b_raw[0,0]      0.15      0.32      0.05      0.00      0.56     21.82      1.16\n",
      "   sigma_b_raw[0,1]      0.33      0.34      0.24      0.00      1.07     20.96      1.28\n",
      "   sigma_b_raw[0,2]      0.23      0.36      0.07      0.00      1.03     12.71      1.22\n",
      "   sigma_b_raw[0,3]      0.49      0.46      0.34      0.01      1.58     25.25      1.15\n",
      "   sigma_b_raw[0,4]      0.14      0.26      0.01      0.00      0.69      6.34      1.37\n",
      "   sigma_b_raw[0,5]      0.33      0.48      0.09      0.00      1.43     17.05      1.33\n",
      " sigma_g_1_raw[0,0]      0.17      0.34      0.04      0.00      0.95     20.29      1.22\n",
      " sigma_g_1_raw[0,1]      0.00      0.01      0.00      0.00      0.03      8.92      1.73\n",
      " sigma_g_1_raw[0,2]      0.10      0.22      0.00      0.00      0.54     32.43      1.10\n",
      " sigma_g_1_raw[0,3]      0.17      0.31      0.01      0.00      0.77     10.98      1.50\n",
      " sigma_g_1_raw[0,4]      0.03      0.12      0.00      0.00      0.09     28.44      1.09\n",
      " sigma_g_1_raw[0,5]      0.03      0.12      0.00      0.00      0.21     17.11      1.34\n",
      " sigma_g_2_raw[0,0]      0.43      0.52      0.17      0.00      1.49      3.45      1.75\n",
      " sigma_g_2_raw[0,1]      0.35      0.39      0.23      0.00      1.12      9.80      1.54\n",
      " sigma_g_2_raw[0,2]      0.10      0.18      0.02      0.00      0.43     17.11      1.23\n",
      " sigma_g_2_raw[0,3]      0.30      0.37      0.14      0.00      1.08     15.63      1.41\n",
      " sigma_g_2_raw[0,4]      0.23      0.36      0.02      0.00      0.98      3.75      1.63\n",
      " sigma_g_2_raw[0,5]      0.12      0.33      0.01      0.00      0.97      8.07      1.71\n",
      "   sigma_l_raw[0,0]      0.95      0.79      0.74      0.01      2.39      5.02      1.69\n",
      "   sigma_l_raw[0,1]      0.55      0.68      0.23      0.00      1.92     17.56      1.39\n",
      "   sigma_l_raw[0,2]      0.62      0.58      0.43      0.01      1.71      6.70      1.41\n",
      "   sigma_l_raw[0,3]      0.89      0.69      0.67      0.00      2.15     12.37      1.39\n",
      "   sigma_l_raw[0,4]      0.49      0.53      0.26      0.00      1.58     14.45      1.38\n",
      "   sigma_l_raw[0,5]      0.35      0.46      0.13      0.00      1.30     18.13      1.19\n",
      "   sigma_v_raw[0,0]      1.13      0.77      0.92      0.01      2.73     16.36      1.30\n",
      "   sigma_v_raw[0,1]      1.14      0.64      1.11      0.03      2.33     22.34      1.26\n",
      "   sigma_v_raw[0,2]      1.19      0.56      1.16      0.21      2.29     20.69      1.20\n",
      "   sigma_v_raw[0,3]      0.82      0.56      0.69      0.02      1.89     10.04      1.59\n",
      "   sigma_v_raw[0,4]      1.02      0.56      0.91      0.17      2.17     21.70      1.29\n",
      "   sigma_v_raw[0,5]      0.92      0.61      0.86      0.01      2.04      6.02      1.38\n",
      "       v_raw[0,0,0]      0.77      0.57      0.61      0.09      1.98     25.56      1.19\n",
      "       v_raw[0,0,1]      0.84      0.55      0.73      0.11      2.00     24.43      1.15\n",
      "       v_raw[0,0,2]      0.97      0.52      0.88      0.16      2.05     33.22      1.13\n",
      "       v_raw[0,0,3]      0.83      0.61      0.62      0.04      2.10     20.54      1.27\n",
      "       v_raw[0,0,4]      0.86      0.57      0.74      0.04      2.01     19.85      1.24\n",
      "       v_raw[0,0,5]      0.70      0.46      0.62      0.05      1.63     44.58      1.09\n",
      "       v_raw[1,0,0]      0.90      0.62      0.77      0.06      2.02      6.03      1.66\n",
      "       v_raw[1,0,1]      0.91      0.60      0.84      0.03      1.93     15.29      1.21\n",
      "       v_raw[1,0,2]      1.10      0.56      1.03      0.16      2.13     46.51      1.18\n",
      "       v_raw[1,0,3]      0.81      0.48      0.76      0.08      1.64     18.52      1.24\n",
      "       v_raw[1,0,4]      1.06      0.62      0.94      0.10      2.30     23.29      1.16\n",
      "       v_raw[1,0,5]      0.83      0.59      0.70      0.03      1.95     25.12      1.25\n",
      "       v_raw[2,0,0]      0.92      0.53      0.90      0.04      1.88      6.39      1.39\n",
      "       v_raw[2,0,1]      0.92      0.71      0.80      0.01      2.22      6.57      1.33\n",
      "       v_raw[2,0,2]      0.93      0.58      0.87      0.11      2.03     10.57      1.44\n",
      "       v_raw[2,0,3]      0.89      0.66      0.80      0.03      2.11      6.66      1.39\n",
      "       v_raw[2,0,4]      0.96      0.64      0.87      0.05      2.16     13.36      1.25\n",
      "       v_raw[2,0,5]      1.07      0.62      1.13      0.03      2.11     13.85      1.33\n",
      "           µ_a[0,0]     33.79      8.50     36.35     12.11     43.42      3.20      2.80\n",
      "           µ_a[0,1]     59.73     11.08     58.14     42.86     81.03     16.40      1.39\n",
      "           µ_a[0,2]     53.01     11.46     50.91     32.91     74.27      7.34      1.61\n",
      "           µ_a[0,3]     52.72     18.72     51.45     23.75     89.06      2.97      2.18\n",
      "           µ_a[0,4]     50.25     12.06     49.46     28.75     75.20     12.83      1.39\n",
      "           µ_a[0,5]     63.00      8.73     62.26     48.14     78.80     17.63      1.43\n",
      "           σ_a[0,0]     29.85     41.33     12.56      0.68    119.44      4.77      1.51\n",
      "           σ_a[0,1]      7.65      5.63      5.74      1.89     22.93      8.70      1.90\n",
      "           σ_a[0,2]     55.59     38.44     53.78      4.05    129.37      4.23      1.58\n",
      "           σ_a[0,3]     17.26     27.78      9.86      0.75     67.53     13.09      1.37\n",
      "           σ_a[0,4]     11.05      9.87      7.57      0.79     34.55      3.09      2.33\n",
      "           σ_a[0,5]     51.70     36.80     49.11      3.02    125.55      3.61      1.95\n",
      "\n",
      "Number of divergences: 3093\n"
     ]
    }
   ],
   "source": [
    "mcmc.print_summary(prob=.95)\n"
   ]
  },
  {
   "cell_type": "code",
   "execution_count": null,
   "metadata": {},
   "outputs": [
    {
     "name": "stderr",
     "output_type": "stream",
     "text": [
      "2023-11-08 15:05:01,201 - __main__ - INFO - Evaluating model ...\n",
      "/home/vishu/repos/hbmep-paper/.venv/lib/python3.11/site-packages/arviz/stats/stats.py:803: UserWarning: Estimated shape parameter of Pareto distribution is greater than 0.7 for one or more samples. You should consider using a more robust model, this is because importance sampling is less likely to work well if the marginal posterior and LOO posterior are very different. This is more likely to happen with a non-robust model and highly influential observations.\n",
      "  warnings.warn(\n",
      "2023-11-08 15:05:02,047 - __main__ - INFO - ELPD LOO (Log): 1318.51\n",
      "/home/vishu/repos/hbmep-paper/.venv/lib/python3.11/site-packages/arviz/stats/stats.py:1645: UserWarning: For one or more samples the posterior variance of the log predictive densities exceeds 0.4. This could be indication of WAIC starting to fail. \n",
      "See http://arxiv.org/abs/1507.04544 for details\n",
      "  warnings.warn(\n",
      "2023-11-08 15:05:02,068 - __main__ - INFO - ELPD WAIC (Log): 1320.33\n"
     ]
    }
   ],
   "source": [
    "numpyro_data = az.from_numpyro(mcmc)\n",
    "\n",
    "\"\"\" Model evaluation \"\"\"\n",
    "logger.info(\"Evaluating model ...\")\n",
    "\n",
    "score = az.loo(numpyro_data)\n",
    "logger.info(f\"ELPD LOO (Log): {score.elpd_loo:.2f}\")\n",
    "\n",
    "score = az.waic(numpyro_data)\n",
    "logger.info(f\"ELPD WAIC (Log): {score.elpd_waic:.2f}\")\n"
   ]
  },
  {
   "cell_type": "code",
   "execution_count": null,
   "metadata": {},
   "outputs": [],
   "source": [
    "import pickle\n",
    "\n",
    "dest = os.path.join(model.build_dir, \"inference.pkl\")\n",
    "with open(dest, \"wb\") as f:\n",
    "    pickle.dump((model, mcmc, posterior_samples), f)\n"
   ]
  },
  {
   "cell_type": "code",
   "execution_count": null,
   "metadata": {},
   "outputs": [
    {
     "data": {
      "text/plain": [
       "'/home/vishu/repos/hbmep-paper/reports/paper/tms/link-comparison/rectified_logistic/numpyro_data.nc'"
      ]
     },
     "metadata": {},
     "output_type": "display_data"
    }
   ],
   "source": [
    "dest = os.path.join(model.build_dir, \"numpyro_data.nc\")\n",
    "az.to_netcdf(numpyro_data, dest)\n"
   ]
  },
  {
   "cell_type": "code",
   "execution_count": null,
   "metadata": {},
   "outputs": [
    {
     "data": {
      "text/plain": [
       "Array(3272.28571216, dtype=float64)"
      ]
     },
     "metadata": {},
     "output_type": "display_data"
    }
   ],
   "source": [
    "posterior_samples[\"g_2\"].mean(axis=0).max()"
   ]
  }
 ],
 "metadata": {
  "kernelspec": {
   "display_name": "Python 3 (ipykernel)",
   "language": "python",
   "name": "python3"
  }
 },
 "nbformat": 4,
 "nbformat_minor": 2
}
