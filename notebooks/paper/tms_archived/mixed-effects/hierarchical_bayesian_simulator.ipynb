{
 "cells": [
  {
   "cell_type": "code",
   "execution_count": 1,
   "metadata": {},
   "outputs": [],
   "source": [
    "%reload_ext autoreload\n",
    "%autoreload 2\n",
    "\n",
    "import os\n",
    "import pickle\n",
    "import logging\n",
    "import multiprocessing\n",
    "from pathlib import Path\n",
    "\n",
    "import pandas as pd\n",
    "import numpy as np\n",
    "import jax\n",
    "import jax.numpy as jnp\n",
    "\n",
    "import arviz as az\n",
    "import numpyro\n",
    "\n",
    "from hbmep.config import Config\n",
    "from hbmep.model.utils import Site as site\n",
    "\n",
    "PLATFORM = \"cpu\"\n",
    "jax.config.update(\"jax_platforms\", PLATFORM)\n",
    "numpyro.set_platform(PLATFORM)\n",
    "\n",
    "cpu_count = multiprocessing.cpu_count() - 2\n",
    "numpyro.set_host_device_count(cpu_count)\n",
    "numpyro.enable_x64()\n",
    "numpyro.enable_validation()\n",
    "\n",
    "logger = logging.getLogger(__name__)\n"
   ]
  },
  {
   "cell_type": "code",
   "execution_count": 2,
   "metadata": {},
   "outputs": [],
   "source": [
    "import numpyro.distributions as dist\n",
    "from hbmep.model import Baseline\n",
    "\n",
    "\n",
    "class HierarchicalBayesianSimulator(Baseline):\n",
    "    LINK = \"hierarchical_bayesian_simulator\"\n",
    "\n",
    "    def __init__(self, config: Config, mu_a_delta, sigma_a_delta):\n",
    "        super(HierarchicalBayesianSimulator, self).__init__(config=config)\n",
    "        self.combination_columns = self.features + [self.subject]\n",
    "        self.mu_a_delta, self.sigma_a_delta = mu_a_delta, sigma_a_delta\n",
    "\n",
    "    def _model(self, subject, features, intensity, response_obs=None):\n",
    "        subject, n_subject = subject\n",
    "        features, n_features = features\n",
    "        intensity, n_data = intensity\n",
    "\n",
    "        intensity = intensity.reshape(-1, 1)\n",
    "        intensity = np.tile(intensity, (1, self.n_response))\n",
    "\n",
    "        feature0 = features[0].reshape(-1,)\n",
    "\n",
    "        n_baseline = 1\n",
    "        n_feature0 = 2\n",
    "        n_delta = 1\n",
    "\n",
    "        with numpyro.plate(site.n_response, self.n_response, dim=-1):\n",
    "            global_sigma_b_baseline = numpyro.sample(\"global_sigma_b_baseline\", dist.HalfNormal(100))\n",
    "            global_sigma_v_baseline = numpyro.sample(\"global_sigma_v_baseline\", dist.HalfNormal(100))\n",
    "\n",
    "            global_sigma_L_baseline = numpyro.sample(\"global_sigma_L_baseline\", dist.HalfNormal(1))\n",
    "            global_sigma_l_baseline = numpyro.sample(\"global_sigma_l_baseline\", dist.HalfNormal(100))\n",
    "            global_sigma_H_baseline = numpyro.sample(\"global_sigma_H_baseline\", dist.HalfNormal(5))\n",
    "\n",
    "            global_sigma_g_1_baseline = numpyro.sample(\"global_sigma_g_1_baseline\", dist.HalfNormal(100))\n",
    "            global_sigma_g_2_baseline = numpyro.sample(\"global_sigma_g_2_baseline\", dist.HalfNormal(100))\n",
    "\n",
    "            global_sigma_p_baseline = numpyro.sample(\"global_sigma_p_baseline\", dist.HalfNormal(100))\n",
    "\n",
    "            with numpyro.plate(\"n_baseline\", n_baseline, dim=-2):\n",
    "                \"\"\" Hyper-priors \"\"\"\n",
    "                mu_a_baseline = numpyro.sample(\"mu_a_baseline\", dist.HalfNormal(scale=5))\n",
    "                sigma_a_baseline = numpyro.sample(\"sigma_a_baseline\", dist.HalfNormal(scale=1 / 10))\n",
    "\n",
    "                sigma_b_raw_baseline = numpyro.sample(\"sigma_b_raw_baseline\", dist.HalfNormal(scale=1))\n",
    "                sigma_b_baseline = numpyro.deterministic(\"sigma_b_baseline\", global_sigma_b_baseline * sigma_b_raw_baseline)\n",
    "\n",
    "                sigma_v_raw_baseline = numpyro.sample(\"sigma_v_raw_baseline\", dist.HalfNormal(scale=1))\n",
    "                sigma_v_baseline = numpyro.deterministic(\"sigma_v_baseline\", global_sigma_v_baseline * sigma_v_raw_baseline)\n",
    "\n",
    "                sigma_L_raw_baseline = numpyro.sample(\"sigma_L_raw_baseline\", dist.HalfNormal(scale=1))\n",
    "                sigma_L_baseline = numpyro.deterministic(\"sigma_L_baseline\", global_sigma_L_baseline * sigma_L_raw_baseline)\n",
    "\n",
    "                sigma_l_raw_baseline = numpyro.sample(\"sigma_l_raw_baseline\", dist.HalfNormal(scale=1))\n",
    "                sigma_l_baseline = numpyro.deterministic(\"sigma_l_baseline\", global_sigma_l_baseline * sigma_l_raw_baseline)\n",
    "\n",
    "                sigma_H_raw_baseline = numpyro.sample(\"sigma_H_raw_baseline\", dist.HalfNormal(scale=1))\n",
    "                sigma_H_baseline = numpyro.deterministic(\"sigma_H_baseline\", global_sigma_H_baseline * sigma_H_raw_baseline)\n",
    "\n",
    "                sigma_g_1_raw_baseline = numpyro.sample(\"sigma_g_1_raw_baseline\", dist.HalfNormal(scale=1))\n",
    "                sigma_g_1_baseline = numpyro.deterministic(\"sigma_g_1_baseline\", global_sigma_g_1_baseline * sigma_g_1_raw_baseline)\n",
    "\n",
    "                sigma_g_2_raw_baseline = numpyro.sample(\"sigma_g_2_raw_baseline\", dist.HalfNormal(scale=1))\n",
    "                sigma_g_2_baseline = numpyro.deterministic(\"sigma_g_2_baseline\", global_sigma_g_2_baseline * sigma_g_2_raw_baseline)\n",
    "\n",
    "                sigma_p_raw_baseline = numpyro.sample(\"sigma_p_raw_baseline\", dist.HalfNormal(scale=1))\n",
    "                sigma_p_baseline = numpyro.deterministic(\"sigma_p_baseline\", global_sigma_p_baseline * sigma_p_raw_baseline)\n",
    "\n",
    "                with numpyro.plate(site.n_subject, n_subject, dim=-3):\n",
    "                    \"\"\" Priors \"\"\"\n",
    "                    a_raw_baseline = numpyro.sample(\"a_raw_baseline\", dist.Gamma(concentration=mu_a_baseline, rate=1))\n",
    "                    a_baseline = numpyro.deterministic(\"a_baseline\", (1 / sigma_a_baseline) * a_raw_baseline)\n",
    "\n",
    "                    b_raw_baseline = numpyro.sample(\"b_raw_baseline\", dist.HalfNormal(scale=1))\n",
    "                    b_baseline = numpyro.deterministic(\"b_baseline\", sigma_b_baseline * b_raw_baseline)\n",
    "\n",
    "                    v_raw_baseline = numpyro.sample(\"v_raw_baseline\", dist.HalfNormal(scale=1))\n",
    "                    v_baseline = numpyro.deterministic(\"v_baseline\", sigma_v_baseline * v_raw_baseline)\n",
    "\n",
    "                    L_raw_baseline = numpyro.sample(\"L_raw_baseline\", dist.HalfNormal(scale=1))\n",
    "                    L_baseline = numpyro.deterministic(\"L_baseline\", sigma_L_baseline * L_raw_baseline)\n",
    "\n",
    "                    l_raw_baseline = numpyro.sample(\"l_raw_baseline\", dist.HalfNormal(scale=1))\n",
    "                    l_baseline = numpyro.deterministic(\"l_baseline\", sigma_l_baseline * l_raw_baseline)\n",
    "\n",
    "                    H_raw_baseline = numpyro.sample(\"H_raw_baseline\", dist.HalfNormal(scale=1))\n",
    "                    H_baseline = numpyro.deterministic(\"H_baseline\", sigma_H_baseline * H_raw_baseline)\n",
    "\n",
    "                    g_1_raw_baseline = numpyro.sample(\"g_1_raw_baseline\", dist.HalfCauchy(scale=1))\n",
    "                    g_1_baseline = numpyro.deterministic(\"g_1_baseline\", sigma_g_1_baseline * g_1_raw_baseline)\n",
    "\n",
    "                    g_2_raw_baseline = numpyro.sample(\"g_2_raw_baseline\", dist.HalfCauchy(scale=1))\n",
    "                    g_2_baseline = numpyro.deterministic(\"g_2_baseline\", sigma_g_2_baseline * g_2_raw_baseline)\n",
    "\n",
    "                    p_raw_baseline = numpyro.sample(\"p_raw_baseline\", dist.HalfNormal(scale=1))\n",
    "                    p_baseline = numpyro.deterministic(\"p_baseline\", sigma_p_baseline * p_raw_baseline)\n",
    "\n",
    "        \"\"\" Delta \"\"\"\n",
    "        with numpyro.plate(site.n_response, self.n_response, dim=-1):\n",
    "            with numpyro.plate(\"n_delta\", n_delta, dim=-2):\n",
    "                mu_a_delta = numpyro.deterministic(\"mu_a_delta\", self.mu_a_delta)\n",
    "                sigma_a_delta = numpyro.deterministic(\"sigma_a_delta\", self.sigma_a_delta)\n",
    "\n",
    "                with numpyro.plate(site.n_subject, n_subject, dim=-3):\n",
    "                    a_delta = numpyro.sample(\"a_delta\", dist.Normal(mu_a_delta, sigma_a_delta))\n",
    "\n",
    "        with numpyro.plate(site.n_response, self.n_response, dim=-1):\n",
    "            with numpyro.plate(\"n_feature0\", n_feature0, dim=-2):\n",
    "                with numpyro.plate(site.n_subject, n_subject, dim=-3):\n",
    "                    \"\"\" Deterministic \"\"\"\n",
    "                    a = numpyro.deterministic(\n",
    "                        site.a,\n",
    "                        jnp.concatenate([a_baseline, a_baseline + a_delta], axis=1)\n",
    "                    )\n",
    "\n",
    "                    b = numpyro.deterministic(\n",
    "                        site.b,\n",
    "                        jnp.concatenate([b_baseline, b_baseline], axis=1)\n",
    "                    )\n",
    "                    v = numpyro.deterministic(\n",
    "                        site.v,\n",
    "                        jnp.concatenate([v_baseline, v_baseline], axis=1)\n",
    "                    )\n",
    "\n",
    "                    L = numpyro.deterministic(\n",
    "                        site.L,\n",
    "                        jnp.concatenate([L_baseline, L_baseline], axis=1)\n",
    "                    )\n",
    "                    l = numpyro.deterministic(\n",
    "                        \"l\",\n",
    "                        jnp.concatenate([l_baseline, l_baseline], axis=1)\n",
    "                    )\n",
    "\n",
    "                    H = numpyro.deterministic(\n",
    "                        site.H,\n",
    "                        jnp.concatenate([H_baseline, H_baseline], axis=1)\n",
    "                    )\n",
    "\n",
    "                    g_1 = numpyro.deterministic(\n",
    "                        site.g_1,\n",
    "                        jnp.concatenate([g_1_baseline, g_1_baseline], axis=1)\n",
    "                    )\n",
    "                    g_2 = numpyro.deterministic(\n",
    "                        site.g_2,\n",
    "                        jnp.concatenate([g_2_baseline, g_2_baseline], axis=1)\n",
    "                    )\n",
    "\n",
    "                    p = numpyro.deterministic(\n",
    "                        \"p\",\n",
    "                        jnp.concatenate([p_baseline, p_baseline], axis=1)\n",
    "                    )\n",
    "\n",
    "        \"\"\" Penalty \"\"\"\n",
    "        penalty = (jnp.fabs(a_baseline + a_delta) - (a_baseline + a_delta))\n",
    "        numpyro.factor(\"a_penalty\", -penalty)\n",
    "\n",
    "        with numpyro.plate(site.n_response, self.n_response, dim=-1):\n",
    "            with numpyro.plate(site.data, n_data, dim=-2):\n",
    "                \"\"\" Model \"\"\"\n",
    "                mu = numpyro.deterministic(\n",
    "                    site.mu,\n",
    "                    L[subject, feature0]\n",
    "                    + jnp.where(\n",
    "                        intensity <= a[subject, feature0],\n",
    "                        0,\n",
    "                        -l[subject, feature0]\n",
    "                        + (\n",
    "                            (H[subject, feature0] + l[subject, feature0])\n",
    "                            / jnp.power(\n",
    "                                1\n",
    "                                + (\n",
    "                                    (\n",
    "                                        -1\n",
    "                                        + jnp.power(\n",
    "                                            (H[subject, feature0] + l[subject, feature0]) / l[subject, feature0],\n",
    "                                            v[subject, feature0]\n",
    "                                        )\n",
    "                                    )\n",
    "                                    * jnp.exp(-b[subject, feature0] * (intensity - a[subject, feature0]))\n",
    "                                ),\n",
    "                                1 / v[subject, feature0]\n",
    "                            )\n",
    "                        )\n",
    "                    )\n",
    "                )\n",
    "                beta = numpyro.deterministic(\n",
    "                    site.beta,\n",
    "                    g_1[subject, feature0] + g_2[subject, feature0] * jnp.power(1 / (mu + 1), p[subject, feature0])\n",
    "                )\n",
    "\n",
    "                \"\"\" Observation \"\"\"\n",
    "                numpyro.sample(\n",
    "                    site.obs,\n",
    "                    dist.Gamma(concentration=mu * beta, rate=beta),\n",
    "                    obs=response_obs\n",
    "                )\n"
   ]
  },
  {
   "cell_type": "code",
   "execution_count": 3,
   "metadata": {},
   "outputs": [
    {
     "name": "stderr",
     "output_type": "stream",
     "text": [
      "2023-10-27 16:32:49,364 - hbmep.config - INFO - Verifying configuration ...\n",
      "2023-10-27 16:32:49,364 - hbmep.config - INFO - Success!\n",
      "2023-10-27 16:32:49,385 - hbmep.model.baseline - INFO - Initialized model with hierarchical_bayesian_simulator link\n"
     ]
    }
   ],
   "source": [
    "toml_path = \"/home/vishu/repos/hbmep-paper/configs/paper/tms/mixed-effects/simulator/hierarchical_bayesian_simulator.toml\"\n",
    "mu_a_delta, sigma_a_delta = -1.5, 1\n",
    "simulation_prefix = f\"mu_a_delta_{mu_a_delta}__sigma_a_delta_{sigma_a_delta}\"\n",
    "\n",
    "CONFIG = Config(toml_path=toml_path)\n",
    "CONFIG.BUILD_DIR = os.path.join(CONFIG.BUILD_DIR, simulation_prefix)\n",
    "\n",
    "SIMULATOR = HierarchicalBayesianSimulator(config=CONFIG, mu_a_delta=mu_a_delta, sigma_a_delta=sigma_a_delta)\n"
   ]
  },
  {
   "cell_type": "code",
   "execution_count": 4,
   "metadata": {},
   "outputs": [],
   "source": [
    "src = \"/home/vishu/out/hbmep-paper/paper/tms/mixed-effects/numpyro_data.nc\"\n",
    "prior_data = az.from_netcdf(src)\n"
   ]
  },
  {
   "cell_type": "code",
   "execution_count": 5,
   "metadata": {},
   "outputs": [
    {
     "name": "stdout",
     "output_type": "stream",
     "text": [
      "sigma_H_baseline (4000, 1, 1)\n",
      "sigma_v_raw_baseline (4000, 1, 1)\n",
      "sigma_v_baseline (4000, 1, 1)\n",
      "global_sigma_g_2_baseline (4000, 1)\n",
      "sigma_g_1_raw_baseline (4000, 1, 1)\n",
      "sigma_a_baseline (4000, 1, 1)\n",
      "global_sigma_v_baseline (4000, 1)\n",
      "sigma_L_raw_baseline (4000, 1, 1)\n",
      "global_sigma_b_baseline (4000, 1)\n",
      "sigma_b_baseline (4000, 1, 1)\n",
      "mu_a_baseline (4000, 1, 1)\n",
      "sigma_g_2_raw_baseline (4000, 1, 1)\n",
      "sigma_p_raw_baseline (4000, 1, 1)\n",
      "global_sigma_H_baseline (4000, 1)\n",
      "sigma_p_baseline (4000, 1, 1)\n",
      "sigma_l_baseline (4000, 1, 1)\n",
      "global_sigma_g_1_baseline (4000, 1)\n",
      "global_sigma_L_baseline (4000, 1)\n",
      "global_sigma_l_baseline (4000, 1)\n",
      "sigma_g_1_baseline (4000, 1, 1)\n",
      "sigma_L_baseline (4000, 1, 1)\n",
      "sigma_l_raw_baseline (4000, 1, 1)\n",
      "sigma_g_2_baseline (4000, 1, 1)\n",
      "sigma_b_raw_baseline (4000, 1, 1)\n",
      "global_sigma_p_baseline (4000, 1)\n",
      "sigma_H_raw_baseline (4000, 1, 1)\n",
      "26\n"
     ]
    }
   ],
   "source": [
    "prior_vars = (site.a, site.b, site.v, site.L, \"l\", site.H, site.g_1, site.g_2, \"p\", site.mu, site.beta, site.obs)\n",
    "hyperprior_vars = {\n",
    "    u for u in prior_data.posterior.data_vars if not u.startswith(prior_vars)\n",
    "}\n",
    "hyperprior_posterior_samples = {\n",
    "    u: prior_data.posterior[u].to_numpy() for u in hyperprior_vars\n",
    "}\n",
    "hyperprior_posterior_samples = {\n",
    "    u: v.reshape(-1, *v.shape[2:]) for u, v in hyperprior_posterior_samples.items()\n",
    "}\n",
    "\n",
    "for u, v in hyperprior_posterior_samples.items():\n",
    "    print(u, v.shape)\n",
    "\n",
    "print(len(hyperprior_posterior_samples))"
   ]
  },
  {
   "cell_type": "code",
   "execution_count": 6,
   "metadata": {},
   "outputs": [
    {
     "name": "stderr",
     "output_type": "stream",
     "text": [
      "2023-10-27 16:32:50,253 - hbmep.utils.utils - INFO - func:make_prediction_dataset took: 0.08 sec\n",
      "2023-10-27 16:37:00,252 - hbmep.utils.utils - INFO - func:predict took: 4 min and 10.00 sec\n"
     ]
    }
   ],
   "source": [
    "\"\"\" Simulation \"\"\"\n",
    "TOTAL_SUBJECTS = 1000\n",
    "\n",
    "PREDICTION_DF = \\\n",
    "    pd.DataFrame(np.arange(0, TOTAL_SUBJECTS, 1), columns=[SIMULATOR.subject]) \\\n",
    "    .merge(\n",
    "        pd.DataFrame(np.arange(0, 2, 1), columns=SIMULATOR.features),\n",
    "        how=\"cross\"\n",
    "    ) \\\n",
    "    .merge(\n",
    "        pd.DataFrame([0, 100], columns=[SIMULATOR.intensity]),\n",
    "        how=\"cross\"\n",
    "    )\n",
    "PREDICTION_DF = SIMULATOR.make_prediction_dataset(df=PREDICTION_DF, num_points=60)\n",
    "\n",
    "POSTERIOR_PREDICTIVE = SIMULATOR.predict(df=PREDICTION_DF, posterior_samples=hyperprior_posterior_samples)\n"
   ]
  },
  {
   "cell_type": "code",
   "execution_count": 9,
   "metadata": {},
   "outputs": [
    {
     "data": {
      "text/plain": [
       "dict"
      ]
     },
     "execution_count": 9,
     "metadata": {},
     "output_type": "execute_result"
    }
   ],
   "source": [
    "type(POSTERIOR_PREDICTIVE)"
   ]
  },
  {
   "cell_type": "code",
   "execution_count": 11,
   "metadata": {},
   "outputs": [
    {
     "data": {
      "text/plain": [
       "'/home/vishu/out/hbmep-paper/paper/tms/mixed-effects/simulator/hierarchical_bayesian_simulator/mu_a_delta_-1.5__sigma_a_delta_1'"
      ]
     },
     "execution_count": 11,
     "metadata": {},
     "output_type": "execute_result"
    }
   ],
   "source": [
    "SIMULATOR.build_dir"
   ]
  },
  {
   "cell_type": "code",
   "execution_count": 10,
   "metadata": {},
   "outputs": [],
   "source": [
    "SIMULATOR._make_dir(SIMULATOR.build_dir)"
   ]
  },
  {
   "cell_type": "code",
   "execution_count": 12,
   "metadata": {},
   "outputs": [
    {
     "data": {
      "text/plain": [
       "'/home/vishu/out/hbmep-paper/paper/tms/mixed-effects/simulator/hierarchical_bayesian_simulator/mu_a_delta_-1.5__sigma_a_delta_1/PREDICTION_DF.csv'"
      ]
     },
     "execution_count": 12,
     "metadata": {},
     "output_type": "execute_result"
    }
   ],
   "source": [
    "dest = os.path.join(SIMULATOR.build_dir, \"PREDICTION_DF.csv\")\n",
    "PREDICTION_DF.to_csv(dest, index=False)\n",
    "dest"
   ]
  },
  {
   "cell_type": "code",
   "execution_count": 13,
   "metadata": {},
   "outputs": [
    {
     "data": {
      "text/plain": [
       "'/home/vishu/out/hbmep-paper/paper/tms/mixed-effects/simulator/hierarchical_bayesian_simulator/mu_a_delta_-1.5__sigma_a_delta_1/POSTERIOR_PREDICTIVE.pkl'"
      ]
     },
     "execution_count": 13,
     "metadata": {},
     "output_type": "execute_result"
    }
   ],
   "source": [
    "dest = os.path.join(SIMULATOR.build_dir, \"POSTERIOR_PREDICTIVE.pkl\")\n",
    "with open(dest, \"wb\") as f:\n",
    "    pickle.dump((POSTERIOR_PREDICTIVE,), f)\n",
    "dest"
   ]
  },
  {
   "cell_type": "code",
   "execution_count": null,
   "metadata": {},
   "outputs": [],
   "source": []
  }
 ],
 "metadata": {
  "kernelspec": {
   "display_name": "Python 3 (ipykernel)",
   "language": "python",
   "name": "python3"
  },
  "language_info": {
   "codemirror_mode": {
    "name": "ipython",
    "version": 3
   },
   "file_extension": ".py",
   "mimetype": "text/x-python",
   "name": "python",
   "nbconvert_exporter": "python",
   "pygments_lexer": "ipython3",
   "version": "3.11.4"
  },
  "orig_nbformat": 4
 },
 "nbformat": 4,
 "nbformat_minor": 2
}
