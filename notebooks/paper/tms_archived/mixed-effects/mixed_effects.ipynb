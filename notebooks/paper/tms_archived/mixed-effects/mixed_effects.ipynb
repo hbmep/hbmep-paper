{
 "cells": [
  {
   "cell_type": "code",
   "execution_count": 1,
   "metadata": {},
   "outputs": [],
   "source": [
    "%reload_ext autoreload\n",
    "%autoreload 2\n",
    "\n",
    "import os\n",
    "import pickle\n",
    "import logging\n",
    "import multiprocessing\n",
    "from pathlib import Path\n",
    "\n",
    "import pandas as pd\n",
    "import numpy as np\n",
    "import jax\n",
    "import jax.numpy as jnp\n",
    "\n",
    "import arviz as az\n",
    "import numpyro\n",
    "\n",
    "from hbmep.config import Config\n",
    "from hbmep.model.utils import Site as site\n",
    "\n",
    "PLATFORM = \"cpu\"\n",
    "jax.config.update(\"jax_platforms\", PLATFORM)\n",
    "numpyro.set_platform(PLATFORM)\n",
    "\n",
    "cpu_count = multiprocessing.cpu_count() - 2\n",
    "numpyro.set_host_device_count(cpu_count)\n",
    "numpyro.enable_x64()\n",
    "numpyro.enable_validation()\n",
    "\n",
    "logger = logging.getLogger(__name__)\n"
   ]
  },
  {
   "cell_type": "code",
   "execution_count": 2,
   "metadata": {},
   "outputs": [],
   "source": [
    "import numpyro.distributions as dist\n",
    "from hbmep.model import Baseline\n",
    "\n",
    "\n",
    "class MixedEffects(Baseline):\n",
    "    LINK = \"mixed_effects\"\n",
    "\n",
    "    def __init__(self, config: Config):\n",
    "        super(MixedEffects, self).__init__(config=config)\n",
    "        self.combination_columns = self.features + [self.subject]\n",
    "\n",
    "    def _model(self, subject, features, intensity, response_obs=None):\n",
    "        subject, n_subject = subject\n",
    "        features, n_features = features\n",
    "        intensity, n_data = intensity\n",
    "\n",
    "        intensity = intensity.reshape(-1, 1)\n",
    "        intensity = np.tile(intensity, (1, self.n_response))\n",
    "\n",
    "        feature0 = features[0].reshape(-1,)\n",
    "\n",
    "        n_baseline = 1\n",
    "        n_feature0 = 1\n",
    "        # n_delta = 1\n",
    "\n",
    "        with numpyro.plate(site.n_response, self.n_response, dim=-1):\n",
    "            global_sigma_b_baseline = numpyro.sample(\"global_sigma_b_baseline\", dist.HalfNormal(100))\n",
    "            global_sigma_v_baseline = numpyro.sample(\"global_sigma_v_baseline\", dist.HalfNormal(100))\n",
    "\n",
    "            global_sigma_L_baseline = numpyro.sample(\"global_sigma_L_baseline\", dist.HalfNormal(1))\n",
    "            global_sigma_l_baseline = numpyro.sample(\"global_sigma_l_baseline\", dist.HalfNormal(100))\n",
    "            global_sigma_H_baseline = numpyro.sample(\"global_sigma_H_baseline\", dist.HalfNormal(5))\n",
    "\n",
    "            global_sigma_g_1_baseline = numpyro.sample(\"global_sigma_g_1_baseline\", dist.HalfNormal(100))\n",
    "            global_sigma_g_2_baseline = numpyro.sample(\"global_sigma_g_2_baseline\", dist.HalfNormal(100))\n",
    "\n",
    "            global_sigma_p_baseline = numpyro.sample(\"global_sigma_p_baseline\", dist.HalfNormal(100))\n",
    "\n",
    "            with numpyro.plate(\"n_baseline\", n_baseline, dim=-2):\n",
    "                \"\"\" Hyper-priors \"\"\"\n",
    "                mu_a_baseline = numpyro.sample(\"mu_a_baseline\", dist.HalfNormal(scale=5))\n",
    "                sigma_a_baseline = numpyro.sample(\"sigma_a_baseline\", dist.HalfNormal(scale=1 / 10))\n",
    "\n",
    "                sigma_b_raw_baseline = numpyro.sample(\"sigma_b_raw_baseline\", dist.HalfNormal(scale=1))\n",
    "                sigma_b_baseline = numpyro.deterministic(\"sigma_b_baseline\", global_sigma_b_baseline * sigma_b_raw_baseline)\n",
    "\n",
    "                sigma_v_raw_baseline = numpyro.sample(\"sigma_v_raw_baseline\", dist.HalfNormal(scale=1))\n",
    "                sigma_v_baseline = numpyro.deterministic(\"sigma_v_baseline\", global_sigma_v_baseline * sigma_v_raw_baseline)\n",
    "\n",
    "                sigma_L_raw_baseline = numpyro.sample(\"sigma_L_raw_baseline\", dist.HalfNormal(scale=1))\n",
    "                sigma_L_baseline = numpyro.deterministic(\"sigma_L_baseline\", global_sigma_L_baseline * sigma_L_raw_baseline)\n",
    "\n",
    "                sigma_l_raw_baseline = numpyro.sample(\"sigma_l_raw_baseline\", dist.HalfNormal(scale=1))\n",
    "                sigma_l_baseline = numpyro.deterministic(\"sigma_l_baseline\", global_sigma_l_baseline * sigma_l_raw_baseline)\n",
    "\n",
    "                sigma_H_raw_baseline = numpyro.sample(\"sigma_H_raw_baseline\", dist.HalfNormal(scale=1))\n",
    "                sigma_H_baseline = numpyro.deterministic(\"sigma_H_baseline\", global_sigma_H_baseline * sigma_H_raw_baseline)\n",
    "\n",
    "                sigma_g_1_raw_baseline = numpyro.sample(\"sigma_g_1_raw_baseline\", dist.HalfNormal(scale=1))\n",
    "                sigma_g_1_baseline = numpyro.deterministic(\"sigma_g_1_baseline\", global_sigma_g_1_baseline * sigma_g_1_raw_baseline)\n",
    "\n",
    "                sigma_g_2_raw_baseline = numpyro.sample(\"sigma_g_2_raw_baseline\", dist.HalfNormal(scale=1))\n",
    "                sigma_g_2_baseline = numpyro.deterministic(\"sigma_g_2_baseline\", global_sigma_g_2_baseline * sigma_g_2_raw_baseline)\n",
    "\n",
    "                sigma_p_raw_baseline = numpyro.sample(\"sigma_p_raw_baseline\", dist.HalfNormal(scale=1))\n",
    "                sigma_p_baseline = numpyro.deterministic(\"sigma_p_baseline\", global_sigma_p_baseline * sigma_p_raw_baseline)\n",
    "\n",
    "                with numpyro.plate(site.n_subject, n_subject, dim=-3):\n",
    "                    \"\"\" Priors \"\"\"\n",
    "                    a_raw_baseline = numpyro.sample(\"a_raw_baseline\", dist.Gamma(concentration=mu_a_baseline, rate=1))\n",
    "                    a_baseline = numpyro.deterministic(\"a_baseline\", (1 / sigma_a_baseline) * a_raw_baseline)\n",
    "\n",
    "                    b_raw_baseline = numpyro.sample(\"b_raw_baseline\", dist.HalfNormal(scale=1))\n",
    "                    b_baseline = numpyro.deterministic(\"b_baseline\", sigma_b_baseline * b_raw_baseline)\n",
    "\n",
    "                    v_raw_baseline = numpyro.sample(\"v_raw_baseline\", dist.HalfNormal(scale=1))\n",
    "                    v_baseline = numpyro.deterministic(\"v_baseline\", sigma_v_baseline * v_raw_baseline)\n",
    "\n",
    "                    L_raw_baseline = numpyro.sample(\"L_raw_baseline\", dist.HalfNormal(scale=1))\n",
    "                    L_baseline = numpyro.deterministic(\"L_baseline\", sigma_L_baseline * L_raw_baseline)\n",
    "\n",
    "                    l_raw_baseline = numpyro.sample(\"l_raw_baseline\", dist.HalfNormal(scale=1))\n",
    "                    l_baseline = numpyro.deterministic(\"l_baseline\", sigma_l_baseline * l_raw_baseline)\n",
    "\n",
    "                    H_raw_baseline = numpyro.sample(\"H_raw_baseline\", dist.HalfNormal(scale=1))\n",
    "                    H_baseline = numpyro.deterministic(\"H_baseline\", sigma_H_baseline * H_raw_baseline)\n",
    "\n",
    "                    g_1_raw_baseline = numpyro.sample(\"g_1_raw_baseline\", dist.HalfCauchy(scale=1))\n",
    "                    g_1_baseline = numpyro.deterministic(\"g_1_baseline\", sigma_g_1_baseline * g_1_raw_baseline)\n",
    "\n",
    "                    g_2_raw_baseline = numpyro.sample(\"g_2_raw_baseline\", dist.HalfCauchy(scale=1))\n",
    "                    g_2_baseline = numpyro.deterministic(\"g_2_baseline\", sigma_g_2_baseline * g_2_raw_baseline)\n",
    "\n",
    "                    p_raw_baseline = numpyro.sample(\"p_raw_baseline\", dist.HalfNormal(scale=1))\n",
    "                    p_baseline = numpyro.deterministic(\"p_baseline\", sigma_p_baseline * p_raw_baseline)\n",
    "\n",
    "        # \"\"\" Delta \"\"\"\n",
    "        # with numpyro.plate(site.n_response, self.n_response, dim=-1):\n",
    "        #     with numpyro.plate(\"n_delta\", n_delta, dim=-2):\n",
    "        #         mu_a_delta = numpyro.sample(\"mu_a_delta\", dist.Normal(0, 100))\n",
    "        #         sigma_a_delta = numpyro.sample(\"sigma_a_delta\", dist.HalfNormal(100))\n",
    "\n",
    "        #         with numpyro.plate(site.n_subject, n_subject, dim=-3):\n",
    "        #             a_delta = numpyro.sample(\"a_delta\", dist.Normal(mu_a_delta, sigma_a_delta))\n",
    "\n",
    "        with numpyro.plate(site.n_response, self.n_response, dim=-1):\n",
    "            with numpyro.plate(\"n_feature0\", n_feature0, dim=-2):\n",
    "                with numpyro.plate(site.n_subject, n_subject, dim=-3):\n",
    "                    \"\"\" Deterministic \"\"\"\n",
    "                    # a = numpyro.deterministic(\n",
    "                    #     site.a,\n",
    "                    #     jnp.concatenate([a_baseline, a_baseline], axis=1)\n",
    "                    # )\n",
    "\n",
    "                    # b = numpyro.deterministic(\n",
    "                    #     site.b,\n",
    "                    #     jnp.concatenate([b_baseline, b_baseline], axis=1)\n",
    "                    # )\n",
    "                    # v = numpyro.deterministic(\n",
    "                    #     site.v,\n",
    "                    #     jnp.concatenate([v_baseline, v_baseline], axis=1)\n",
    "                    # )\n",
    "\n",
    "                    # L = numpyro.deterministic(\n",
    "                    #     site.L,\n",
    "                    #     jnp.concatenate([L_baseline, L_baseline], axis=1)\n",
    "                    # )\n",
    "                    # l = numpyro.deterministic(\n",
    "                    #     \"l\",\n",
    "                    #     jnp.concatenate([l_baseline, l_baseline], axis=1)\n",
    "                    # )\n",
    "\n",
    "                    # H = numpyro.deterministic(\n",
    "                    #     site.H,\n",
    "                    #     jnp.concatenate([H_baseline, H_baseline], axis=1)\n",
    "                    # )\n",
    "\n",
    "                    # g_1 = numpyro.deterministic(\n",
    "                    #     site.g_1,\n",
    "                    #     jnp.concatenate([g_1_baseline, g_1_baseline], axis=1)\n",
    "                    # )\n",
    "                    # g_2 = numpyro.deterministic(\n",
    "                    #     site.g_2,\n",
    "                    #     jnp.concatenate([g_2_baseline, g_2_baseline], axis=1)\n",
    "                    # )\n",
    "\n",
    "                    # p = numpyro.deterministic(\n",
    "                    #     \"p\",\n",
    "                    #     jnp.concatenate([p_baseline, p_baseline], axis=1)\n",
    "                    # )\n",
    "\n",
    "                    a = numpyro.deterministic(site.a, a_baseline)\n",
    "\n",
    "                    b = numpyro.deterministic(site.b, b_baseline)\n",
    "                    v = numpyro.deterministic(site.v, v_baseline)\n",
    "\n",
    "                    L = numpyro.deterministic(site.L, L_baseline)\n",
    "                    l = numpyro.deterministic(\"l\", l_baseline)\n",
    "\n",
    "                    H = numpyro.deterministic(site.H, H_baseline)\n",
    "\n",
    "                    g_1 = numpyro.deterministic(site.g_1, g_1_baseline)\n",
    "                    g_2 = numpyro.deterministic(site.g_2, g_2_baseline)\n",
    "\n",
    "                    p = numpyro.deterministic(\"p\", p_baseline)\n",
    "\n",
    "        # \"\"\" Penalty \"\"\"\n",
    "        # penalty = (jnp.fabs(a_baseline + a_delta) - (a_baseline + a_delta))\n",
    "        # numpyro.factor(\"a_penalty\", -penalty)\n",
    "\n",
    "        with numpyro.plate(site.n_response, self.n_response, dim=-1):\n",
    "            with numpyro.plate(site.data, n_data, dim=-2):\n",
    "                \"\"\" Model \"\"\"\n",
    "                mu = numpyro.deterministic(\n",
    "                    site.mu,\n",
    "                    L[subject, feature0]\n",
    "                    + jnp.where(\n",
    "                        intensity <= a[subject, feature0],\n",
    "                        0,\n",
    "                        -l[subject, feature0]\n",
    "                        + (\n",
    "                            (H[subject, feature0] + l[subject, feature0])\n",
    "                            / jnp.power(\n",
    "                                1\n",
    "                                + (\n",
    "                                    (\n",
    "                                        -1\n",
    "                                        + jnp.power(\n",
    "                                            (H[subject, feature0] + l[subject, feature0]) / l[subject, feature0],\n",
    "                                            v[subject, feature0]\n",
    "                                        )\n",
    "                                    )\n",
    "                                    * jnp.exp(-b[subject, feature0] * (intensity - a[subject, feature0]))\n",
    "                                ),\n",
    "                                1 / v[subject, feature0]\n",
    "                            )\n",
    "                        )\n",
    "                    )\n",
    "                )\n",
    "                beta = numpyro.deterministic(\n",
    "                    site.beta,\n",
    "                    g_1[subject, feature0] + g_2[subject, feature0] * jnp.power(1 / (mu + 1), p[subject, feature0])\n",
    "                )\n",
    "\n",
    "                \"\"\" Observation \"\"\"\n",
    "                numpyro.sample(\n",
    "                    site.obs,\n",
    "                    dist.Gamma(concentration=mu * beta, rate=beta),\n",
    "                    obs=response_obs\n",
    "                )\n"
   ]
  },
  {
   "cell_type": "code",
   "execution_count": 3,
   "metadata": {},
   "outputs": [
    {
     "name": "stderr",
     "output_type": "stream",
     "text": [
      "2023-10-27 16:18:33,330 - hbmep.config - INFO - Verifying configuration ...\n",
      "2023-10-27 16:18:33,330 - hbmep.config - INFO - Success!\n",
      "2023-10-27 16:18:33,346 - hbmep.model.baseline - INFO - Initialized model with mixed_effects link\n"
     ]
    }
   ],
   "source": [
    "toml_path = \"/home/vishu/repos/hbmep-paper/configs/paper/tms/mixed-effects/mixed_effects.toml\"\n",
    "config = Config(toml_path=toml_path)\n",
    "\n",
    "model = MixedEffects(config=config)\n"
   ]
  },
  {
   "cell_type": "code",
   "execution_count": 4,
   "metadata": {},
   "outputs": [
    {
     "name": "stderr",
     "output_type": "stream",
     "text": [
      "2023-10-27 16:18:33,431 - hbmep.dataset.core - INFO - Artefacts will be stored here - /home/vishu/out/hbmep-paper/paper/tms/mixed-effects\n",
      "2023-10-27 16:18:33,432 - hbmep.dataset.core - INFO - Copied config to /home/vishu/out/hbmep-paper/paper/tms/mixed-effects\n",
      "2023-10-27 16:18:33,433 - hbmep.dataset.core - INFO - Processing data ...\n",
      "2023-10-27 16:18:33,434 - hbmep.utils.utils - INFO - func:load took: 0.00 sec\n"
     ]
    }
   ],
   "source": [
    "src = \"/home/vishu/data/hbmep-processed/human/tms/data_pkpk_auc.csv\"\n",
    "df = pd.read_csv(src)\n",
    "\n",
    "# subset = [\"SCA01\"]\n",
    "# ind = df[model.subject].isin(subset)\n",
    "# df = df[ind].reset_index(drop=True).copy()\n",
    "\n",
    "df[model.features[0]] = 0\n",
    "df, encoder_dict = model.load(df=df)\n"
   ]
  },
  {
   "cell_type": "code",
   "execution_count": 5,
   "metadata": {},
   "outputs": [
    {
     "name": "stderr",
     "output_type": "stream",
     "text": [
      "2023-10-27 16:18:33,530 - hbmep.model.baseline - INFO - Running inference with mixed_effects ...\n"
     ]
    },
    {
     "data": {
      "application/vnd.jupyter.widget-view+json": {
       "model_id": "21376c149d884ed58214650c58ee3f4c",
       "version_major": 2,
       "version_minor": 0
      },
      "text/plain": [
       "  0%|          | 0/6000 [00:00<?, ?it/s]"
      ]
     },
     "metadata": {},
     "output_type": "display_data"
    },
    {
     "data": {
      "application/vnd.jupyter.widget-view+json": {
       "model_id": "1f31b2e5710d482ab16ccd9d5b0fc661",
       "version_major": 2,
       "version_minor": 0
      },
      "text/plain": [
       "  0%|          | 0/6000 [00:00<?, ?it/s]"
      ]
     },
     "metadata": {},
     "output_type": "display_data"
    },
    {
     "data": {
      "application/vnd.jupyter.widget-view+json": {
       "model_id": "21bf8495f17d4770954430bf14f0b404",
       "version_major": 2,
       "version_minor": 0
      },
      "text/plain": [
       "  0%|          | 0/6000 [00:00<?, ?it/s]"
      ]
     },
     "metadata": {},
     "output_type": "display_data"
    },
    {
     "data": {
      "application/vnd.jupyter.widget-view+json": {
       "model_id": "f92ba540093c443d81cab45775203cc2",
       "version_major": 2,
       "version_minor": 0
      },
      "text/plain": [
       "  0%|          | 0/6000 [00:00<?, ?it/s]"
      ]
     },
     "metadata": {},
     "output_type": "display_data"
    },
    {
     "name": "stderr",
     "output_type": "stream",
     "text": [
      "2023-10-27 16:27:30,211 - hbmep.utils.utils - INFO - func:run_inference took: 8 min and 56.68 sec\n"
     ]
    }
   ],
   "source": [
    "mcmc, posterior_samples = model.run_inference(df=df)\n"
   ]
  },
  {
   "cell_type": "code",
   "execution_count": 6,
   "metadata": {},
   "outputs": [
    {
     "name": "stderr",
     "output_type": "stream",
     "text": [
      "2023-10-27 16:27:30,349 - hbmep.utils.utils - INFO - func:make_prediction_dataset took: 0.01 sec\n",
      "2023-10-27 16:27:32,087 - hbmep.utils.utils - INFO - func:predict took: 1.74 sec\n",
      "2023-10-27 16:27:32,093 - hbmep.model.baseline - INFO - Rendering ...\n",
      "2023-10-27 16:27:33,599 - hbmep.model.baseline - INFO - Saved to /home/vishu/out/hbmep-paper/paper/tms/mixed-effects/recruitment_curves.pdf\n",
      "2023-10-27 16:27:33,600 - hbmep.utils.utils - INFO - func:render_recruitment_curves took: 1.51 sec\n",
      "2023-10-27 16:27:33,609 - hbmep.model.baseline - INFO - Rendering Posterior Predictive Check ...\n",
      "2023-10-27 16:27:35,228 - hbmep.model.baseline - INFO - Saved to /home/vishu/out/hbmep-paper/paper/tms/mixed-effects/posterior_predictive_check.pdf\n",
      "2023-10-27 16:27:35,229 - hbmep.utils.utils - INFO - func:_render_predictive_check took: 1.63 sec\n",
      "2023-10-27 16:27:35,229 - hbmep.utils.utils - INFO - func:render_predictive_check took: 1.63 sec\n"
     ]
    }
   ],
   "source": [
    "prediction_df = model.make_prediction_dataset(df=df)\n",
    "posterior_predictive = model.predict(df=prediction_df, posterior_samples=posterior_samples)\n",
    "\n",
    "model.render_recruitment_curves(df=df, encoder_dict=encoder_dict, posterior_samples=posterior_samples, prediction_df=prediction_df, posterior_predictive=posterior_predictive)\n",
    "model.render_predictive_check(df=df, encoder_dict=encoder_dict, prediction_df=prediction_df, posterior_predictive=posterior_predictive)\n"
   ]
  },
  {
   "cell_type": "code",
   "execution_count": 7,
   "metadata": {},
   "outputs": [
    {
     "name": "stdout",
     "output_type": "stream",
     "text": [
      "\n",
      "                                  mean       std    median      2.5%     97.5%     n_eff     r_hat\n",
      "       H_raw_baseline[0,0,0]      0.31      0.12      0.29      0.11      0.58     45.55      1.08\n",
      "       H_raw_baseline[1,0,0]      0.85      0.60      0.73      0.00      2.04    220.02      1.01\n",
      "       H_raw_baseline[2,0,0]      0.34      0.14      0.32      0.12      0.63     45.96      1.07\n",
      "       H_raw_baseline[3,0,0]      0.86      0.59      0.73      0.07      2.07    107.25      1.04\n",
      "       H_raw_baseline[4,0,0]      1.12      0.49      1.03      0.32      2.15     57.44      1.04\n",
      "       H_raw_baseline[5,0,0]      1.39      0.52      1.31      0.56      2.39     52.27      1.07\n",
      "       H_raw_baseline[6,0,0]      0.75      0.53      0.63      0.05      1.76    119.64      1.02\n",
      "       H_raw_baseline[7,0,0]      0.90      0.62      0.78      0.04      2.14    116.79      1.03\n",
      "       L_raw_baseline[0,0,0]      0.48      0.17      0.46      0.19      0.83     14.45      1.21\n",
      "       L_raw_baseline[1,0,0]      0.40      0.14      0.38      0.18      0.71     14.50      1.21\n",
      "       L_raw_baseline[2,0,0]      1.11      0.53      1.11      0.05      2.04     35.98      1.10\n",
      "       L_raw_baseline[3,0,0]      0.51      0.18      0.48      0.20      0.88     14.67      1.21\n",
      "       L_raw_baseline[4,0,0]      0.71      0.30      0.65      0.24      1.30     24.79      1.13\n",
      "       L_raw_baseline[5,0,0]      0.99      0.36      0.94      0.38      1.76     35.51      1.10\n",
      "       L_raw_baseline[6,0,0]      0.77      0.59      0.63      0.00      1.91    158.70      1.04\n",
      "       L_raw_baseline[7,0,0]      1.30      0.58      1.26      0.28      2.46     59.10      1.05\n",
      "       a_raw_baseline[0,0,0]      5.01      1.52      4.86      2.43      7.81      5.32      1.43\n",
      "       a_raw_baseline[1,0,0]     10.86      3.29     10.45      4.54     16.76      7.12      1.32\n",
      "       a_raw_baseline[2,0,0]      4.37      1.34      4.23      2.12      6.88      5.29      1.42\n",
      "       a_raw_baseline[3,0,0]      5.04      1.52      4.91      2.45      7.83      5.31      1.43\n",
      "       a_raw_baseline[4,0,0]      4.15      1.27      4.01      2.00      6.47      5.28      1.43\n",
      "       a_raw_baseline[5,0,0]      4.45      1.35      4.33      2.12      6.88      5.15      1.44\n",
      "       a_raw_baseline[6,0,0]      5.51      1.73      5.33      2.36      8.77      5.80      1.35\n",
      "       a_raw_baseline[7,0,0]      3.66      1.57      3.51      0.95      6.84      7.43      1.29\n",
      "       b_raw_baseline[0,0,0]      1.18      0.55      1.13      0.22      2.18     81.34      1.03\n",
      "       b_raw_baseline[1,0,0]      0.79      0.61      0.69      0.00      1.94    134.99      1.01\n",
      "       b_raw_baseline[2,0,0]      0.80      0.51      0.68      0.12      1.85     69.15      1.02\n",
      "       b_raw_baseline[3,0,0]      0.56      0.48      0.41      0.02      1.54     41.52      1.09\n",
      "       b_raw_baseline[4,0,0]      0.79      0.52      0.66      0.08      1.87     68.86      1.02\n",
      "       b_raw_baseline[5,0,0]      1.19      0.61      1.13      0.15      2.31     59.72      1.04\n",
      "       b_raw_baseline[6,0,0]      0.35      0.39      0.20      0.01      1.17     94.86      1.04\n",
      "       b_raw_baseline[7,0,0]      0.32      0.34      0.20      0.01      1.00    114.47      1.03\n",
      "     g_1_raw_baseline[0,0,0]      1.09      0.50      1.02      0.31      2.07     53.57      1.01\n",
      "     g_1_raw_baseline[1,0,0]      4.64     22.24      0.92      0.00     16.00    129.96      1.02\n",
      "     g_1_raw_baseline[2,0,0]      1.40      0.64      1.29      0.43      2.57     49.27      1.02\n",
      "     g_1_raw_baseline[3,0,0]      1.29      0.60      1.19      0.36      2.47     55.73      1.01\n",
      "     g_1_raw_baseline[4,0,0]      0.50      0.22      0.46      0.17      0.92     54.29      1.02\n",
      "     g_1_raw_baseline[5,0,0]      0.39      0.18      0.36      0.12      0.74     52.05      1.02\n",
      "     g_1_raw_baseline[6,0,0]      1.68      1.03      1.51      0.10      3.55     43.80      1.01\n",
      "     g_1_raw_baseline[7,0,0]      0.70      0.33      0.65      0.19      1.32     44.68      1.03\n",
      "     g_2_raw_baseline[0,0,0]     61.22     58.54     40.70      6.26    190.67     42.08      1.13\n",
      "     g_2_raw_baseline[1,0,0]     51.18     39.23     41.33      9.37    121.83     49.67      1.07\n",
      "     g_2_raw_baseline[2,0,0]      1.25      1.51      0.77      0.01      4.13     61.49      1.07\n",
      "     g_2_raw_baseline[3,0,0]    265.54    264.82    186.85      5.74    765.66     85.92      1.04\n",
      "     g_2_raw_baseline[4,0,0]      3.56      3.13      2.61      0.42      9.76     84.72      1.02\n",
      "     g_2_raw_baseline[5,0,0]      1.86      2.57      1.11      0.15      5.42     62.92      1.06\n",
      "     g_2_raw_baseline[6,0,0]      0.73      0.86      0.44      0.01      2.43    112.65      1.02\n",
      "     g_2_raw_baseline[7,0,0]     19.26    128.07      0.91      0.02     33.83    124.19      1.03\n",
      "  global_sigma_H_baseline[0]      5.02      2.91      4.33      1.19     11.85     18.10      1.16\n",
      "  global_sigma_L_baseline[0]      0.18      0.27      0.07      0.00      0.73     70.36      1.10\n",
      "  global_sigma_b_baseline[0]     35.35     44.68     15.64      0.09    128.63     65.31      1.06\n",
      "global_sigma_g_1_baseline[0]     42.09     46.50     22.55      1.62    144.41     38.88      1.09\n",
      "global_sigma_g_2_baseline[0]    192.84     69.99    187.12     75.11    332.39     39.67      1.13\n",
      "  global_sigma_l_baseline[0]     57.46     48.80     44.91      0.58    157.88    112.76      1.01\n",
      "  global_sigma_p_baseline[0]    114.71     47.94    107.74     40.28    213.72     88.11      1.04\n",
      "  global_sigma_v_baseline[0]    109.30     66.32    100.74      1.70    234.71    104.07      1.04\n",
      "       l_raw_baseline[0,0,0]      0.88      0.55      0.79      0.04      1.93    114.94      1.04\n",
      "       l_raw_baseline[1,0,0]      0.75      0.58      0.63      0.01      1.87    142.79      1.03\n",
      "       l_raw_baseline[2,0,0]      0.98      0.53      0.90      0.11      2.01    142.42      1.02\n",
      "       l_raw_baseline[3,0,0]      0.66      0.54      0.51      0.02      1.71     32.66      1.11\n",
      "       l_raw_baseline[4,0,0]      1.14      0.59      1.07      0.10      2.23     88.80      1.02\n",
      "       l_raw_baseline[5,0,0]      0.74      0.56      0.59      0.02      1.82    125.95      1.02\n",
      "       l_raw_baseline[6,0,0]      0.59      0.49      0.45      0.02      1.58     72.38      1.04\n",
      "       l_raw_baseline[7,0,0]      0.62      0.49      0.49      0.00      1.61    131.62      1.06\n",
      "          mu_a_baseline[0,0]      5.42      1.68      5.29      2.50      8.65      6.76      1.31\n",
      "       p_raw_baseline[0,0,0]      1.23      0.46      1.18      0.38      2.10    137.90      1.01\n",
      "       p_raw_baseline[1,0,0]      0.62      0.52      0.47      0.00      1.65     47.93      1.09\n",
      "       p_raw_baseline[2,0,0]      0.69      0.45      0.59      0.06      1.54     79.36      1.07\n",
      "       p_raw_baseline[3,0,0]      2.00      0.60      1.94      0.97      3.25     65.18      1.11\n",
      "       p_raw_baseline[4,0,0]      0.73      0.38      0.65      0.16      1.46     50.57      1.09\n",
      "       p_raw_baseline[5,0,0]      0.66      0.41      0.59      0.11      1.47     94.86      1.03\n",
      "       p_raw_baseline[6,0,0]      0.27      0.31      0.17      0.01      0.71     84.81      1.03\n",
      "       p_raw_baseline[7,0,0]      0.57      0.38      0.47      0.03      1.33     36.62      1.14\n",
      "   sigma_H_raw_baseline[0,0]      1.04      0.56      0.93      0.15      2.10     64.90      1.08\n",
      "   sigma_L_raw_baseline[0,0]      0.37      0.40      0.23      0.01      1.19     94.96      1.08\n",
      "       sigma_a_baseline[0,0]      0.14      0.04      0.14      0.07      0.22      5.34      1.43\n",
      "   sigma_b_raw_baseline[0,0]      0.21      0.34      0.06      0.00      0.95     85.02      1.06\n",
      " sigma_g_1_raw_baseline[0,0]      0.36      0.38      0.24      0.02      1.12     86.52      1.06\n",
      " sigma_g_2_raw_baseline[0,0]      2.15      0.72      2.18      0.83      3.57     33.25      1.10\n",
      "   sigma_l_raw_baseline[0,0]      0.43      0.42      0.29      0.01      1.27    102.49      1.02\n",
      "   sigma_p_raw_baseline[0,0]      1.14      0.49      1.08      0.31      2.09     74.34      1.07\n",
      "   sigma_v_raw_baseline[0,0]      1.21      0.68      1.11      0.04      2.49    136.93      1.03\n",
      "       v_raw_baseline[0,0,0]      0.84      0.56      0.71      0.03      1.91     86.84      1.06\n",
      "       v_raw_baseline[1,0,0]      0.81      0.59      0.74      0.00      1.91    108.19      1.05\n",
      "       v_raw_baseline[2,0,0]      0.74      0.53      0.62      0.01      1.75    123.12      1.02\n",
      "       v_raw_baseline[3,0,0]      0.98      0.58      0.90      0.07      2.15    140.99      1.03\n",
      "       v_raw_baseline[4,0,0]      0.62      0.48      0.54      0.00      1.59     65.60      1.05\n",
      "       v_raw_baseline[5,0,0]      0.55      0.43      0.44      0.02      1.41     72.60      1.02\n",
      "       v_raw_baseline[6,0,0]      1.10      0.61      1.03      0.06      2.18    148.57      1.02\n",
      "       v_raw_baseline[7,0,0]      1.17      0.60      1.12      0.16      2.32    162.30      1.03\n",
      "\n",
      "Number of divergences: 1256\n"
     ]
    }
   ],
   "source": [
    "mcmc.print_summary(prob=.95)"
   ]
  },
  {
   "cell_type": "code",
   "execution_count": 8,
   "metadata": {},
   "outputs": [
    {
     "name": "stderr",
     "output_type": "stream",
     "text": [
      "2023-10-27 16:27:36,416 - __main__ - INFO - Evaluating model ...\n",
      "/home/vishu/repos/hbmep-paper/.venv/lib/python3.11/site-packages/arviz/stats/stats.py:803: UserWarning: Estimated shape parameter of Pareto distribution is greater than 0.7 for one or more samples. You should consider using a more robust model, this is because importance sampling is less likely to work well if the marginal posterior and LOO posterior are very different. This is more likely to happen with a non-robust model and highly influential observations.\n",
      "  warnings.warn(\n",
      "2023-10-27 16:27:37,082 - __main__ - INFO - ELPD LOO (Log): 672.76\n",
      "/home/vishu/repos/hbmep-paper/.venv/lib/python3.11/site-packages/arviz/stats/stats.py:1645: UserWarning: For one or more samples the posterior variance of the log predictive densities exceeds 0.4. This could be indication of WAIC starting to fail. \n",
      "See http://arxiv.org/abs/1507.04544 for details\n",
      "  warnings.warn(\n",
      "2023-10-27 16:27:37,111 - __main__ - INFO - ELPD WAIC (Log): 674.68\n"
     ]
    }
   ],
   "source": [
    "numpyro_data = az.from_numpyro(mcmc)\n",
    "\n",
    "\"\"\" Model evaluation \"\"\"\n",
    "logger.info(\"Evaluating model ...\")\n",
    "\n",
    "score = az.loo(numpyro_data)\n",
    "logger.info(f\"ELPD LOO (Log): {score.elpd_loo:.2f}\")\n",
    "\n",
    "score = az.waic(numpyro_data)\n",
    "logger.info(f\"ELPD WAIC (Log): {score.elpd_waic:.2f}\")"
   ]
  },
  {
   "cell_type": "code",
   "execution_count": 11,
   "metadata": {},
   "outputs": [
    {
     "data": {
      "text/plain": [
       "'/home/vishu/out/hbmep-paper/paper/tms/mixed-effects/inference.pkl'"
      ]
     },
     "execution_count": 11,
     "metadata": {},
     "output_type": "execute_result"
    }
   ],
   "source": [
    "import pickle\n",
    "\n",
    "dest = os.path.join(model.build_dir, \"inference.pkl\")\n",
    "with open(dest, \"wb\") as f:\n",
    "    pickle.dump((model, mcmc, posterior_samples), f)\n",
    "dest"
   ]
  },
  {
   "cell_type": "code",
   "execution_count": 12,
   "metadata": {},
   "outputs": [
    {
     "data": {
      "text/plain": [
       "'/home/vishu/out/hbmep-paper/paper/tms/mixed-effects/numpyro_data.nc'"
      ]
     },
     "execution_count": 12,
     "metadata": {},
     "output_type": "execute_result"
    }
   ],
   "source": [
    "dest = os.path.join(model.build_dir, \"numpyro_data.nc\")\n",
    "az.to_netcdf(numpyro_data, dest)\n"
   ]
  },
  {
   "cell_type": "code",
   "execution_count": null,
   "metadata": {},
   "outputs": [],
   "source": []
  }
 ],
 "metadata": {
  "kernelspec": {
   "display_name": "Python 3 (ipykernel)",
   "language": "python",
   "name": "python3"
  },
  "orig_nbformat": 4
 },
 "nbformat": 4,
 "nbformat_minor": 2
}
