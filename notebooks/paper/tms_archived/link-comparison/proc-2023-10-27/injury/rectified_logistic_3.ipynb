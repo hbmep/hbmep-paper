{
 "cells": [
  {
   "cell_type": "code",
   "execution_count": 1,
   "metadata": {},
   "outputs": [],
   "source": [
    "%reload_ext autoreload\n",
    "%autoreload 2\n",
    "\n",
    "import os\n",
    "import pickle\n",
    "import logging\n",
    "import multiprocessing\n",
    "from pathlib import Path\n",
    "\n",
    "import pandas as pd\n",
    "import numpy as np\n",
    "import jax\n",
    "import jax.numpy as jnp\n",
    "\n",
    "import arviz as az\n",
    "import numpyro\n",
    "\n",
    "from hbmep.config import Config\n",
    "from hbmep.model.utils import Site as site\n",
    "\n",
    "PLATFORM = \"cpu\"\n",
    "jax.config.update(\"jax_platforms\", PLATFORM)\n",
    "numpyro.set_platform(PLATFORM)\n",
    "\n",
    "cpu_count = multiprocessing.cpu_count() - 2\n",
    "numpyro.set_host_device_count(cpu_count)\n",
    "numpyro.enable_x64()\n",
    "numpyro.enable_validation()\n",
    "\n",
    "logger = logging.getLogger(__name__)"
   ]
  },
  {
   "cell_type": "code",
   "execution_count": 2,
   "metadata": {},
   "outputs": [],
   "source": [
    "import numpyro.distributions as dist\n",
    "from hbmep.model import Baseline\n",
    "\n",
    "\n",
    "class RectifiedLogistic(Baseline):\n",
    "    LINK = \"rectified_logistic\"\n",
    "\n",
    "    def __init__(self, config: Config):\n",
    "        super(RectifiedLogistic, self).__init__(config=config)\n",
    "        self.combination_columns = self.features + [self.subject]\n",
    "\n",
    "    def _model(self, subject, features, intensity, response_obs=None):\n",
    "        subject, n_subject = subject\n",
    "        features, n_features = features\n",
    "        intensity, n_data = intensity\n",
    "\n",
    "        intensity = intensity.reshape(-1, 1)\n",
    "        intensity = np.tile(intensity, (1, self.n_response))\n",
    "\n",
    "        feature0 = features[0].reshape(-1,)\n",
    "        n_feature0 = n_features[0]\n",
    "        n_baseline = 1\n",
    "        n_delta = 1\n",
    "\n",
    "        with numpyro.plate(site.n_response, self.n_response, dim=-1):\n",
    "            with numpyro.plate(\"n_baseline\", n_baseline, dim=-2):\n",
    "                mu_a_baseline = numpyro.sample(\"mu_a_baseline\", dist.HalfNormal(scale=50))\n",
    "\n",
    "        with numpyro.plate(site.n_response, self.n_response, dim=-1):\n",
    "            with numpyro.plate(\"n_baseline\", n_baseline, dim=-2):\n",
    "                mu_a_delta = numpyro.sample(\"mu_a_delta\", dist.Normal(loc=0, scale=100))\n",
    "\n",
    "        with numpyro.plate(site.n_response, self.n_response, dim=-1):\n",
    "            global_sigma_b = numpyro.sample(\"global_sigma_b\", dist.HalfNormal(100))\n",
    "            global_sigma_v = numpyro.sample(\"global_sigma_v\", dist.HalfNormal(100))\n",
    "\n",
    "            global_sigma_L = numpyro.sample(\"global_sigma_L\", dist.HalfNormal(1))\n",
    "            global_sigma_l = numpyro.sample(\"global_sigma_l\", dist.HalfNormal(100))\n",
    "            global_sigma_H = numpyro.sample(\"global_sigma_H\", dist.HalfNormal(5))\n",
    "\n",
    "            global_sigma_g_1 = numpyro.sample(\"global_sigma_g_1\", dist.HalfNormal(100))\n",
    "            global_sigma_g_2 = numpyro.sample(\"global_sigma_g_2\", dist.HalfNormal(100))\n",
    "\n",
    "            global_sigma_p = numpyro.sample(\"global_sigma_p\", dist.HalfNormal(100))\n",
    "\n",
    "            with numpyro.plate(\"n_feature0\", n_feature0, dim=-2):\n",
    "                \"\"\" Hyper-priors \"\"\"\n",
    "                # mu_a = numpyro.sample(site.mu_a, dist.HalfNormal(scale=50))\n",
    "                mu_a = numpyro.deterministic(\n",
    "                    site.mu_a,\n",
    "                    jnp.concatenate([mu_a_baseline, mu_a_baseline + mu_a_delta], axis=0)\n",
    "                )\n",
    "                sigma_a = numpyro.sample(site.sigma_a, dist.HalfNormal(scale=1 / 50))\n",
    "\n",
    "                sigma_b_raw = numpyro.sample(\"sigma_b_raw\", dist.HalfNormal(scale=1))\n",
    "                sigma_b = numpyro.deterministic(site.sigma_b, global_sigma_b * sigma_b_raw)\n",
    "\n",
    "                sigma_v_raw = numpyro.sample(\"sigma_v_raw\", dist.HalfNormal(scale=1))\n",
    "                sigma_v = numpyro.deterministic(site.sigma_v, global_sigma_v * sigma_v_raw)\n",
    "\n",
    "                sigma_L_raw = numpyro.sample(\"sigma_L_raw\", dist.HalfNormal(scale=1))\n",
    "                sigma_L = numpyro.deterministic(site.sigma_L, global_sigma_L * sigma_L_raw)\n",
    "\n",
    "                sigma_l_raw = numpyro.sample(\"sigma_l_raw\", dist.HalfNormal(scale=1))\n",
    "                sigma_l = numpyro.deterministic(\"sigma_l\", global_sigma_l * sigma_l_raw)\n",
    "\n",
    "                sigma_H_raw = numpyro.sample(\"sigma_H_raw\", dist.HalfNormal(scale=1))\n",
    "                sigma_H = numpyro.deterministic(site.sigma_H, global_sigma_H * sigma_H_raw)\n",
    "\n",
    "                sigma_g_1_raw = numpyro.sample(\"sigma_g_1_raw\", dist.HalfNormal(scale=1))\n",
    "                sigma_g_1 = numpyro.deterministic(\"sigma_g_1\", global_sigma_g_1 * sigma_g_1_raw)\n",
    "\n",
    "                sigma_g_2_raw = numpyro.sample(\"sigma_g_2_raw\", dist.HalfNormal(scale=1))\n",
    "                sigma_g_2 = numpyro.deterministic(\"sigma_g_2\", global_sigma_g_2 * sigma_g_2_raw)\n",
    "\n",
    "                sigma_p_raw = numpyro.sample(\"sigma_p_raw\", dist.HalfNormal(scale=1))\n",
    "                sigma_p = numpyro.deterministic(\"sigma_p\", global_sigma_p * sigma_p_raw)\n",
    "\n",
    "                with numpyro.plate(site.n_subject, n_subject, dim=-3):\n",
    "                    \"\"\" Priors \"\"\"\n",
    "                    a_raw = numpyro.sample(\"a_raw\", dist.Gamma(concentration=mu_a * sigma_a, rate=1))\n",
    "                    a = numpyro.deterministic(site.a, (1 / sigma_a) * a_raw)\n",
    "\n",
    "                    b_raw = numpyro.sample(\"b_raw\", dist.HalfNormal(scale=1))\n",
    "                    b = numpyro.deterministic(site.b, sigma_b * b_raw)\n",
    "\n",
    "                    v_raw = numpyro.sample(\"v_raw\", dist.HalfNormal(scale=1))\n",
    "                    v = numpyro.deterministic(site.v, sigma_v * v_raw)\n",
    "\n",
    "                    L_raw = numpyro.sample(\"L_raw\", dist.HalfNormal(scale=1))\n",
    "                    L = numpyro.deterministic(site.L, sigma_L * L_raw)\n",
    "\n",
    "                    l_raw = numpyro.sample(\"l_raw\", dist.HalfNormal(scale=1))\n",
    "                    l = numpyro.deterministic(\"l\", sigma_l * l_raw)\n",
    "\n",
    "                    H_raw = numpyro.sample(\"H_raw\", dist.HalfNormal(scale=1))\n",
    "                    H = numpyro.deterministic(site.H, sigma_H * H_raw)\n",
    "\n",
    "                    g_1_raw = numpyro.sample(\"g_1_raw\", dist.HalfCauchy(scale=1))\n",
    "                    g_1 = numpyro.deterministic(site.g_1, sigma_g_1 * g_1_raw)\n",
    "\n",
    "                    g_2_raw = numpyro.sample(\"g_2_raw\", dist.HalfCauchy(scale=1))\n",
    "                    g_2 = numpyro.deterministic(site.g_2, sigma_g_2 * g_2_raw)\n",
    "\n",
    "                    p_raw = numpyro.sample(\"p_raw\", dist.HalfNormal(scale=1))\n",
    "                    p = numpyro.deterministic(\"p\", sigma_p * p_raw)\n",
    "\n",
    "\n",
    "        \"\"\" Penalty \"\"\"\n",
    "        penalty = (jnp.fabs(mu_a_baseline + mu_a_delta) - (mu_a_baseline + mu_a_delta))\n",
    "        numpyro.factor(\"a_penalty\", -penalty)\n",
    "\n",
    "        with numpyro.plate(site.n_response, self.n_response, dim=-1):\n",
    "            with numpyro.plate(site.data, n_data, dim=-2):\n",
    "                \"\"\" Model \"\"\"\n",
    "                mu = numpyro.deterministic(\n",
    "                    site.mu,\n",
    "                    L[subject, feature0]\n",
    "                    + jnp.where(\n",
    "                        intensity <= a[subject, feature0],\n",
    "                        0,\n",
    "                        -l[subject, feature0]\n",
    "                        + (\n",
    "                            (H[subject, feature0] + l[subject, feature0])\n",
    "                            / jnp.power(\n",
    "                                1\n",
    "                                + (\n",
    "                                    (\n",
    "                                        -1\n",
    "                                        + jnp.power(\n",
    "                                            (H[subject, feature0] + l[subject, feature0]) / l[subject, feature0],\n",
    "                                            v[subject, feature0]\n",
    "                                        )\n",
    "                                    )\n",
    "                                    * jnp.exp(-b[subject, feature0] * (intensity - a[subject, feature0]))\n",
    "                                ),\n",
    "                                1 / v[subject, feature0]\n",
    "                            )\n",
    "                        )\n",
    "                    )\n",
    "                )\n",
    "                beta = numpyro.deterministic(\n",
    "                    site.beta,\n",
    "                    g_1[subject, feature0] + g_2[subject, feature0] * jnp.power(1 / (mu + 1), p[subject, feature0])\n",
    "                )\n",
    "\n",
    "                \"\"\" Observation \"\"\"\n",
    "                numpyro.sample(\n",
    "                    site.obs,\n",
    "                    dist.Gamma(concentration=mu * beta, rate=beta),\n",
    "                    obs=response_obs\n",
    "                )\n",
    "\n"
   ]
  },
  {
   "cell_type": "code",
   "execution_count": null,
   "metadata": {},
   "outputs": [],
   "source": []
  },
  {
   "cell_type": "code",
   "execution_count": 3,
   "metadata": {},
   "outputs": [
    {
     "name": "stderr",
     "output_type": "stream",
     "text": [
      "2023-10-30 13:02:43,211 - hbmep.config - INFO - Verifying configuration ...\n",
      "2023-10-30 13:02:43,211 - hbmep.config - INFO - Success!\n",
      "2023-10-30 13:02:43,232 - hbmep.model.baseline - INFO - Initialized model with rectified_logistic link\n"
     ]
    }
   ],
   "source": [
    "toml_path = os.path.join(\"/home/vishu/repos/hbmep-paper/configs/paper/tms/link-comparison/proc-2023-10-27/injury/rectified_logistic.toml\")\n",
    "\n",
    "\n",
    "config = Config(toml_path=toml_path)\n",
    "# config.MCMC_PARAMS[\"num_warmup\"] = 10000\n",
    "# config.MCMC_PARAMS[\"num_samples\"] = 12000\n",
    "# config.MCMC_PARAMS[\"thinning\"] = 4\n",
    "\n",
    "model = RectifiedLogistic(config=config)\n",
    "\n",
    "# from numpyro.infer import NUTS\n",
    "# sampler = NUTS(model=model._model, max_tree_depth=50)\n",
    "\n",
    "# mcmc = az.from_netcdf(\"/home/vishu/repos/hbmep-paper/reports/paper/tms/link-comparison/proc-2023-10-27/rectified_logistic/numpyro_data.nc\")\n",
    "# posterior_samples = {\n",
    "#     u: v.to_numpy().reshape(-1, *v.shape[2:]) for u, v in mcmc.posterior.items()\n",
    "# }"
   ]
  },
  {
   "cell_type": "code",
   "execution_count": 4,
   "metadata": {},
   "outputs": [
    {
     "name": "stderr",
     "output_type": "stream",
     "text": [
      "2023-10-30 13:02:43,326 - hbmep.dataset.core - INFO - Artefacts will be stored here - /home/vishu/repos/hbmep-paper/reports/paper/tms/link-comparison/proc-2023-10-27/injury\n",
      "2023-10-30 13:02:43,326 - hbmep.dataset.core - INFO - Copied config to /home/vishu/repos/hbmep-paper/reports/paper/tms/link-comparison/proc-2023-10-27/injury\n",
      "2023-10-30 13:02:43,327 - hbmep.dataset.core - INFO - Processing data ...\n",
      "2023-10-30 13:02:43,328 - hbmep.utils.utils - INFO - func:load took: 0.00 sec\n"
     ]
    }
   ],
   "source": [
    "src = \"/home/vishu/data/hbmep-processed/human/tms/data_pkpk_auc_proc-2023-10-27.csv\"\n",
    "df = pd.read_csv(src)\n",
    "\n",
    "# # subset = [\"SCA01\", \"SCA02\", \"SCS01\", \"SCS02\"]\n",
    "# subset = [\"SCA01\", \"SCS01\"]\n",
    "# ind = df[model.subject].isin(subset)\n",
    "# df = df[ind].reset_index(drop=True).copy()\n",
    "\n",
    "df, encoder_dict = model.load(df=df)\n"
   ]
  },
  {
   "cell_type": "code",
   "execution_count": 5,
   "metadata": {},
   "outputs": [
    {
     "name": "stderr",
     "output_type": "stream",
     "text": [
      "2023-10-30 13:02:43,637 - hbmep.model.baseline - INFO - Running inference with rectified_logistic ...\n"
     ]
    },
    {
     "data": {
      "application/vnd.jupyter.widget-view+json": {
       "model_id": "81d34f5655464356ba563a7d6b50d838",
       "version_major": 2,
       "version_minor": 0
      },
      "text/plain": [
       "  0%|          | 0/6000 [00:00<?, ?it/s]"
      ]
     },
     "metadata": {},
     "output_type": "display_data"
    },
    {
     "data": {
      "application/vnd.jupyter.widget-view+json": {
       "model_id": "579e24678bde45feac2162ee1e8adb0a",
       "version_major": 2,
       "version_minor": 0
      },
      "text/plain": [
       "  0%|          | 0/6000 [00:00<?, ?it/s]"
      ]
     },
     "metadata": {},
     "output_type": "display_data"
    },
    {
     "data": {
      "application/vnd.jupyter.widget-view+json": {
       "model_id": "488ed94441a4410eb12514197f44e171",
       "version_major": 2,
       "version_minor": 0
      },
      "text/plain": [
       "  0%|          | 0/6000 [00:00<?, ?it/s]"
      ]
     },
     "metadata": {},
     "output_type": "display_data"
    },
    {
     "data": {
      "application/vnd.jupyter.widget-view+json": {
       "model_id": "c13c5dfd129043bbb05b6abe4477849f",
       "version_major": 2,
       "version_minor": 0
      },
      "text/plain": [
       "  0%|          | 0/6000 [00:00<?, ?it/s]"
      ]
     },
     "metadata": {},
     "output_type": "display_data"
    },
    {
     "name": "stderr",
     "output_type": "stream",
     "text": [
      "2023-10-30 13:23:09,845 - hbmep.utils.utils - INFO - func:run_inference took: 20 min and 26.21 sec\n"
     ]
    }
   ],
   "source": [
    "mcmc, posterior_samples = model.run_inference(df=df)\n"
   ]
  },
  {
   "cell_type": "code",
   "execution_count": 17,
   "metadata": {},
   "outputs": [
    {
     "data": {
      "text/plain": [
       "(4000, 16, 2, 1)"
      ]
     },
     "execution_count": 17,
     "metadata": {},
     "output_type": "execute_result"
    }
   ],
   "source": [
    "a = np.array(posterior_samples[\"a\"])\n",
    "a.shape"
   ]
  },
  {
   "cell_type": "code",
   "execution_count": 52,
   "metadata": {},
   "outputs": [
    {
     "data": {
      "text/plain": [
       "array([ 36.71813814,  58.62359953,  15.83757468, 106.2876251 ,\n",
       "        46.89406694,  39.49670101])"
      ]
     },
     "execution_count": 52,
     "metadata": {},
     "output_type": "execute_result"
    }
   ],
   "source": [
    "inj = a[..., 10:, 0, 0]\n",
    "inj = inj.mean(axis=0)\n",
    "inj\n",
    "\n"
   ]
  },
  {
   "cell_type": "code",
   "execution_count": 53,
   "metadata": {},
   "outputs": [
    {
     "data": {
      "text/plain": [
       "array([ 34.39374184, 103.22415655,  44.003585  ,  26.43461925,\n",
       "        35.45578081,  28.23509581,  21.31441997,  38.10705197,\n",
       "        30.47587329,  21.71771044])"
      ]
     },
     "execution_count": 53,
     "metadata": {},
     "output_type": "execute_result"
    }
   ],
   "source": [
    "unj = a[..., :10, 1, 0]\n",
    "unj = unj.mean(axis=0)\n",
    "unj"
   ]
  },
  {
   "cell_type": "code",
   "execution_count": 56,
   "metadata": {},
   "outputs": [
    {
     "data": {
      "text/plain": [
       "TtestResult(statistic=0.8988620189356676, pvalue=0.19196280631376456, df=14.0)"
      ]
     },
     "execution_count": 56,
     "metadata": {},
     "output_type": "execute_result"
    }
   ],
   "source": [
    "import scipy.stats as stats\n",
    "\n",
    "stats.ttest_ind(a=inj, b=unj, alternative=\"greater\")"
   ]
  },
  {
   "cell_type": "code",
   "execution_count": 57,
   "metadata": {},
   "outputs": [
    {
     "data": {
      "text/plain": [
       "MannwhitneyuResult(statistic=43.0, pvalue=0.0902847152847153)"
      ]
     },
     "execution_count": 57,
     "metadata": {},
     "output_type": "execute_result"
    }
   ],
   "source": [
    "stats.mannwhitneyu(x=inj, y=unj, alternative=\"greater\")"
   ]
  },
  {
   "cell_type": "code",
   "execution_count": 58,
   "metadata": {},
   "outputs": [],
   "source": [
    "inj = a[..., 10:, 0, 0]\n",
    "unj = a[..., :10, 1, 0]\n"
   ]
  },
  {
   "cell_type": "code",
   "execution_count": 59,
   "metadata": {},
   "outputs": [
    {
     "data": {
      "text/plain": [
       "(4000, 6)"
      ]
     },
     "execution_count": 59,
     "metadata": {},
     "output_type": "execute_result"
    }
   ],
   "source": [
    "inj.shape"
   ]
  },
  {
   "cell_type": "code",
   "execution_count": 76,
   "metadata": {},
   "outputs": [],
   "source": [
    "def group_model(xsamples, ysamples):\n",
    "    nxsamples = xsamples.shape[0]\n",
    "    nysamples = ysamples.shape[0]\n",
    "    # nx = xsamples.shape[1]\n",
    "    # ny = ysamples.shape[1]\n",
    "\n",
    "    xmu = numpyro.sample(\"xmu\", dist.Normal(loc=50, scale=100))\n",
    "    xsigma = numpyro.sample(\"xsigma\", dist.HalfNormal(100))\n",
    "    ymu = numpyro.sample(\"ymu\", dist.Normal(loc=50, scale=100))\n",
    "    ysigma = numpyro.sample(\"ysigma\", dist.HalfNormal(100))\n",
    "\n",
    "    # with numpyro.plate(\"nx\", nx, dim=-1):\n",
    "    with numpyro.plate(\"nxsamples\", nxsamples, dim=-1):\n",
    "        numpyro.sample(\"xobs\", dist.Normal(loc=xmu, scale=xsigma), obs=xsamples)\n",
    "\n",
    "    # with numpyro.plate(\"ny\", ny, dim=-1):\n",
    "    with numpyro.plate(\"nysamples\", nysamples, dim=-1):\n",
    "        numpyro.sample(\"yobs\", dist.Normal(loc=ymu, scale=ysigma), obs=ysamples)\n",
    "\n",
    "    # with numpyro.plate(\"nx\", nx, dim=-1):\n",
    "    #     with numpyro.plate(\"nxsamples\", nxsamples, dim=-2):\n",
    "    #         numpyro.sample(\"xobs\", dist.Normal(loc=xmu, scale=xsigma), obs=xsamples)\n",
    "\n",
    "    # with numpyro.plate(\"ny\", ny, dim=-1):\n",
    "    #     with numpyro.plate(\"nysamples\", nysamples, dim=-2):\n",
    "    #         numpyro.sample(\"yobs\", dist.Normal(loc=ymu, scale=ysigma), obs=ysamples)\n",
    "\n"
   ]
  },
  {
   "cell_type": "code",
   "execution_count": 62,
   "metadata": {},
   "outputs": [
    {
     "data": {
      "text/plain": [
       "{'num_chains': 4, 'num_warmup': 5000, 'num_samples': 1000}"
      ]
     },
     "execution_count": 62,
     "metadata": {},
     "output_type": "execute_result"
    }
   ],
   "source": [
    "model.mcmc_params"
   ]
  },
  {
   "cell_type": "code",
   "execution_count": 64,
   "metadata": {},
   "outputs": [
    {
     "name": "stdout",
     "output_type": "stream",
     "text": [
      "\n",
      "                mean       std    median      2.5%     97.5%     n_eff     r_hat\n",
      "       xmu     50.64      0.25     50.64     50.16     51.12   4381.49      1.00\n",
      "    xsigma     37.79      0.17     37.80     37.47     38.13   4772.95      1.00\n",
      "       ymu     38.33      0.13     38.33     38.08     38.58   4553.58      1.00\n",
      "    ysigma     25.92      0.09     25.92     25.74     26.10   4891.20      1.00\n",
      "\n",
      "Number of divergences: 0\n"
     ]
    }
   ],
   "source": [
    "mcmc.print_summary(prob=.95)\n"
   ]
  },
  {
   "cell_type": "code",
   "execution_count": 81,
   "metadata": {},
   "outputs": [
    {
     "name": "stdout",
     "output_type": "stream",
     "text": [
      "\n",
      "                mean       std    median      2.5%     97.5%     n_eff     r_hat\n",
      "       xmu     50.64      0.25     50.64     50.18     51.14   4064.29      1.00\n",
      "    xsigma     37.79      0.17     37.79     37.46     38.14   4666.95      1.00\n",
      "       ymu     38.34      0.13     38.34     38.09     38.60   4731.81      1.00\n",
      "    ysigma     25.92      0.09     25.92     25.75     26.09   4845.99      1.00\n",
      "\n",
      "Number of divergences: 0\n"
     ]
    }
   ],
   "source": [
    "mcmc.print_summary(prob=.95)\n"
   ]
  },
  {
   "cell_type": "code",
   "execution_count": null,
   "metadata": {},
   "outputs": [],
   "source": []
  },
  {
   "cell_type": "code",
   "execution_count": 79,
   "metadata": {},
   "outputs": [],
   "source": [
    "ps = mcmc.get_samples()"
   ]
  },
  {
   "cell_type": "code",
   "execution_count": 66,
   "metadata": {},
   "outputs": [
    {
     "data": {
      "text/plain": [
       "<Axes: ylabel='Density'>"
      ]
     },
     "execution_count": 66,
     "metadata": {},
     "output_type": "execute_result"
    },
    {
     "data": {
      "image/png": "[encoded data removed]",
      "text/plain": [
       "<Figure size 640x480 with 1 Axes>"
      ]
     },
     "metadata": {},
     "output_type": "display_data"
    }
   ],
   "source": [
    "xmu = ps[\"xmu\"]\n",
    "ymu = ps[\"ymu\"]\n",
    "\n",
    "sns.kdeplot(xmu - ymu)"
   ]
  },
  {
   "cell_type": "code",
   "execution_count": 80,
   "metadata": {},
   "outputs": [
    {
     "data": {
      "text/plain": [
       "<Axes: ylabel='Density'>"
      ]
     },
     "execution_count": 80,
     "metadata": {},
     "output_type": "execute_result"
    },
    {
     "data": {
      "image/png": "[encoded data removed]",
      "text/plain": [
       "<Figure size 640x480 with 1 Axes>"
      ]
     },
     "metadata": {},
     "output_type": "display_data"
    }
   ],
   "source": [
    "xmu = ps[\"xmu\"]\n",
    "ymu = ps[\"ymu\"]\n",
    "\n",
    "sns.kdeplot(xmu - ymu)"
   ]
  },
  {
   "cell_type": "code",
   "execution_count": 73,
   "metadata": {},
   "outputs": [
    {
     "ename": "ValueError",
     "evalue": "operands could not be broadcast together with shapes (24000,) (40000,) ",
     "output_type": "error",
     "traceback": [
      "\u001b[0;31m---------------------------------------------------------------------------\u001b[0m",
      "\u001b[0;31mValueError\u001b[0m                                Traceback (most recent call last)",
      "\u001b[1;32m/home/vishu/repos/hbmep-paper/notebooks/paper/tms/link-comparison/proc-2023-10-27/injury/rectified_logistic_3.ipynb Cell 19\u001b[0m line \u001b[0;36m4\n\u001b[1;32m      <a href='vscode-notebook-cell://ssh-remote%2Bcumc00/home/vishu/repos/hbmep-paper/notebooks/paper/tms/link-comparison/proc-2023-10-27/injury/rectified_logistic_3.ipynb#X61sdnNjb2RlLXJlbW90ZQ%3D%3D?line=0'>1</a>\u001b[0m inj \u001b[39m=\u001b[39m a[\u001b[39m.\u001b[39m\u001b[39m.\u001b[39m\u001b[39m.\u001b[39m, \u001b[39m10\u001b[39m:, \u001b[39m0\u001b[39m, \u001b[39m0\u001b[39m]\n\u001b[1;32m      <a href='vscode-notebook-cell://ssh-remote%2Bcumc00/home/vishu/repos/hbmep-paper/notebooks/paper/tms/link-comparison/proc-2023-10-27/injury/rectified_logistic_3.ipynb#X61sdnNjb2RlLXJlbW90ZQ%3D%3D?line=1'>2</a>\u001b[0m unj \u001b[39m=\u001b[39m a[\u001b[39m.\u001b[39m\u001b[39m.\u001b[39m\u001b[39m.\u001b[39m, :\u001b[39m10\u001b[39m, \u001b[39m1\u001b[39m, \u001b[39m0\u001b[39m]\n\u001b[0;32m----> <a href='vscode-notebook-cell://ssh-remote%2Bcumc00/home/vishu/repos/hbmep-paper/notebooks/paper/tms/link-comparison/proc-2023-10-27/injury/rectified_logistic_3.ipynb#X61sdnNjb2RlLXJlbW90ZQ%3D%3D?line=3'>4</a>\u001b[0m sns\u001b[39m.\u001b[39mkdeplot(inj\u001b[39m.\u001b[39;49mreshape(\u001b[39m-\u001b[39;49m\u001b[39m1\u001b[39;49m,) \u001b[39m-\u001b[39;49m unj\u001b[39m.\u001b[39;49mreshape(\u001b[39m-\u001b[39;49m\u001b[39m1\u001b[39;49m,))\n",
      "\u001b[0;31mValueError\u001b[0m: operands could not be broadcast together with shapes (24000,) (40000,) "
     ]
    }
   ],
   "source": [
    "inj = a[..., 10:, 0, 0]\n",
    "unj = a[..., :10, 1, 0]\n",
    "\n",
    "sns.kdeplot(inj.reshape(-1,) -)\n",
    "sns.kdeplot()\n"
   ]
  },
  {
   "cell_type": "code",
   "execution_count": 77,
   "metadata": {},
   "outputs": [
    {
     "data": {
      "application/vnd.jupyter.widget-view+json": {
       "model_id": "dc36fc2bd7c74db58f9cc704db790489",
       "version_major": 2,
       "version_minor": 0
      },
      "text/plain": [
       "  0%|          | 0/6000 [00:00<?, ?it/s]"
      ]
     },
     "metadata": {},
     "output_type": "display_data"
    },
    {
     "data": {
      "application/vnd.jupyter.widget-view+json": {
       "model_id": "cc25eed9de1c425ab3f03ba6e482c593",
       "version_major": 2,
       "version_minor": 0
      },
      "text/plain": [
       "  0%|          | 0/6000 [00:00<?, ?it/s]"
      ]
     },
     "metadata": {},
     "output_type": "display_data"
    },
    {
     "data": {
      "application/vnd.jupyter.widget-view+json": {
       "model_id": "058f4100398b46379534d86639e4881d",
       "version_major": 2,
       "version_minor": 0
      },
      "text/plain": [
       "  0%|          | 0/6000 [00:00<?, ?it/s]"
      ]
     },
     "metadata": {},
     "output_type": "display_data"
    },
    {
     "data": {
      "application/vnd.jupyter.widget-view+json": {
       "model_id": "750c1a3ff80d4d1b9d1ed36293f5841b",
       "version_major": 2,
       "version_minor": 0
      },
      "text/plain": [
       "  0%|          | 0/6000 [00:00<?, ?it/s]"
      ]
     },
     "metadata": {},
     "output_type": "display_data"
    }
   ],
   "source": [
    "from numpyro.infer import MCMC, NUTS\n",
    "\n",
    "sampler = NUTS(group_model)\n",
    "mcmc = MCMC(sampler, **model.mcmc_params)\n",
    "\n",
    "rng_key = jax.random.PRNGKey(0)\n",
    "mcmc.run(rng_key, inj.reshape(-1,), unj.reshape(-1,))\n"
   ]
  },
  {
   "cell_type": "code",
   "execution_count": 51,
   "metadata": {},
   "outputs": [
    {
     "data": {
      "text/plain": [
       "Text(0.5, 1.0, '0.85475')"
      ]
     },
     "execution_count": 51,
     "metadata": {},
     "output_type": "execute_result"
    },
    {
     "data": {
      "image/png": "[encoded data removed]",
      "text/plain": [
       "<Figure size 640x480 with 1 Axes>"
      ]
     },
     "metadata": {},
     "output_type": "display_data"
    }
   ],
   "source": [
    "unj = a[..., :10, 1, 0].mean(axis=-1)\n",
    "inj = a[..., 10:, 0, 0].mean(axis=-1)\n",
    "sns.kdeplot(inj, label=\"inj\")\n",
    "sns.kdeplot(unj, label=\"un\")\n",
    "\n",
    "plt.legend()\n",
    "plt.title((inj > unj).mean())"
   ]
  },
  {
   "cell_type": "code",
   "execution_count": null,
   "metadata": {},
   "outputs": [],
   "source": []
  },
  {
   "cell_type": "code",
   "execution_count": null,
   "metadata": {},
   "outputs": [],
   "source": []
  },
  {
   "cell_type": "code",
   "execution_count": 7,
   "metadata": {},
   "outputs": [
    {
     "name": "stderr",
     "output_type": "stream",
     "text": [
      "2023-10-30 15:10:00,006 - hbmep.utils.utils - INFO - func:make_prediction_dataset took: 0.00 sec\n",
      "2023-10-30 15:10:03,006 - hbmep.utils.utils - INFO - func:predict took: 3.00 sec\n",
      "2023-10-30 15:10:03,017 - hbmep.model.baseline - INFO - Rendering ...\n",
      "2023-10-30 15:10:06,119 - hbmep.model.baseline - INFO - Saved to /home/vishu/repos/hbmep-paper/reports/paper/tms/link-comparison/proc-2023-10-27/injury/recruitment_curves.pdf\n",
      "2023-10-30 15:10:06,119 - hbmep.utils.utils - INFO - func:render_recruitment_curves took: 3.11 sec\n",
      "2023-10-30 15:10:06,134 - hbmep.model.baseline - INFO - Rendering Posterior Predictive Check ...\n",
      "2023-10-30 15:10:09,665 - hbmep.model.baseline - INFO - Saved to /home/vishu/repos/hbmep-paper/reports/paper/tms/link-comparison/proc-2023-10-27/injury/posterior_predictive_check.pdf\n",
      "2023-10-30 15:10:09,666 - hbmep.utils.utils - INFO - func:_render_predictive_check took: 3.55 sec\n",
      "2023-10-30 15:10:09,666 - hbmep.utils.utils - INFO - func:render_predictive_check took: 3.55 sec\n"
     ]
    }
   ],
   "source": [
    "prediction_df = model.make_prediction_dataset(df=df)\n",
    "posterior_predictive = model.predict(df=prediction_df, posterior_samples=posterior_samples)\n",
    "\n",
    "model.render_recruitment_curves(df=df, encoder_dict=encoder_dict, posterior_samples=posterior_samples, prediction_df=prediction_df, posterior_predictive=posterior_predictive)\n",
    "model.render_predictive_check(df=df, encoder_dict=encoder_dict, prediction_df=prediction_df, posterior_predictive=posterior_predictive)\n"
   ]
  },
  {
   "cell_type": "code",
   "execution_count": 7,
   "metadata": {},
   "outputs": [
    {
     "name": "stdout",
     "output_type": "stream",
     "text": [
      "\n",
      "                         mean       std    median      2.5%     97.5%     n_eff     r_hat\n",
      "       H_raw[0,0,0]      0.80      0.61      0.66      0.00      1.99    266.70      1.01\n",
      "       H_raw[0,1,0]      0.70      0.47      0.57      0.10      1.71    187.26      1.02\n",
      "       H_raw[1,0,0]      0.87      0.60      0.74      0.08      2.09    167.04      1.02\n",
      "       H_raw[1,1,0]      0.73      0.58      0.60      0.00      1.85    175.30      1.02\n",
      "       L_raw[0,0,0]      0.84      0.63      0.75      0.00      2.04    249.45      1.02\n",
      "       L_raw[0,1,0]      0.51      0.47      0.37      0.00      1.48    188.68      1.02\n",
      "       L_raw[1,0,0]      0.56      0.53      0.39      0.00      1.66    218.62      1.02\n",
      "       L_raw[1,1,0]      0.82      0.59      0.68      0.01      1.99    206.42      1.02\n",
      "       a_raw[0,0,0]      1.11      1.39      0.60      0.00      3.96    293.99      1.02\n",
      "       a_raw[0,1,0]      0.69      0.43      0.62      0.05      1.50     68.47      1.05\n",
      "       a_raw[1,0,0]      0.90      0.57      0.81      0.05      1.98    134.89      1.03\n",
      "       a_raw[1,1,0]      0.95      1.24      0.49      0.00      3.52    209.51      1.02\n",
      "       b_raw[0,0,0]      0.77      0.61      0.64      0.00      1.98    274.35      1.02\n",
      "       b_raw[0,1,0]      0.72      0.56      0.62      0.01      1.83    192.25      1.01\n",
      "       b_raw[1,0,0]      0.33      0.41      0.17      0.00      1.21    199.42      1.02\n",
      "       b_raw[1,1,0]      0.80      0.63      0.64      0.00      2.03    207.40      1.01\n",
      "     g_1_raw[0,0,0]      8.30     98.02      1.02      0.00     11.01    465.10      1.01\n",
      "     g_1_raw[0,1,0]      0.78      1.12      0.46      0.02      2.72    126.36      1.04\n",
      "     g_1_raw[1,0,0]      0.98      1.96      0.52      0.00      2.93    135.74      1.02\n",
      "     g_1_raw[1,1,0]     16.36    222.08      1.03      0.00     11.48    314.19      1.01\n",
      "     g_2_raw[0,0,0]      4.58     37.12      0.93      0.00     10.93    493.66      1.01\n",
      "     g_2_raw[0,1,0]    191.71    300.91     87.47      6.25    818.79     52.98      1.08\n",
      "     g_2_raw[1,0,0]      2.12      3.70      1.09      0.02      7.35    134.22      1.04\n",
      "     g_2_raw[1,1,0]      2.38      4.88      0.93      0.00      9.50    305.67      1.01\n",
      "  global_sigma_H[0]      4.11      2.53      3.57      0.51      9.27    168.08      1.02\n",
      "  global_sigma_L[0]      0.21      0.32      0.08      0.00      0.81    143.41      1.04\n",
      "  global_sigma_b[0]     22.10     31.17      8.31      0.03     88.66    121.13      1.05\n",
      "global_sigma_g_1[0]     46.97     41.81     33.59      2.46    134.40    209.65      1.01\n",
      "global_sigma_g_2[0]    133.73     66.20    128.63      8.02    253.88     63.42      1.07\n",
      "  global_sigma_l[0]     40.44     46.08     22.95      0.11    135.26    253.80      1.01\n",
      "  global_sigma_p[0]    100.98     52.53     89.25     25.30    209.26    123.50      1.03\n",
      "  global_sigma_v[0]    110.11     62.23     98.74     10.97    223.87    208.20      1.01\n",
      "       l_raw[0,0,0]      0.84      0.64      0.70      0.00      2.06    216.52      1.01\n",
      "       l_raw[0,1,0]      0.55      0.53      0.37      0.00      1.68    240.69      1.01\n",
      "       l_raw[1,0,0]      0.69      0.57      0.55      0.00      1.86    144.85      1.02\n",
      "       l_raw[1,1,0]      0.81      0.62      0.68      0.01      2.01    238.04      1.01\n",
      "       p_raw[0,0,0]      0.79      0.55      0.68      0.02      1.88    290.63      1.01\n",
      "       p_raw[0,1,0]      1.25      0.56      1.19      0.35      2.38    141.99      1.03\n",
      "       p_raw[1,0,0]      0.58      0.51      0.42      0.02      1.66     59.44      1.08\n",
      "       p_raw[1,1,0]      0.82      0.57      0.70      0.00      1.94    323.22      1.01\n",
      "   sigma_H_raw[0,0]      0.78      0.56      0.66      0.02      1.94    212.71      1.03\n",
      "   sigma_H_raw[1,0]      0.73      0.48      0.63      0.06      1.66    176.26      1.01\n",
      "   sigma_L_raw[0,0]      0.66      0.52      0.52      0.00      1.72    220.23      1.02\n",
      "   sigma_L_raw[1,0]      0.52      0.53      0.34      0.00      1.60    174.05      1.02\n",
      "   sigma_b_raw[0,0]      0.38      0.43      0.24      0.00      1.29    286.03      1.02\n",
      "   sigma_b_raw[1,0]      0.68      0.54      0.54      0.01      1.74    163.80      1.04\n",
      " sigma_g_1_raw[0,0]      0.56      0.53      0.40      0.00      1.66    143.50      1.05\n",
      " sigma_g_1_raw[1,0]      0.64      0.54      0.52      0.01      1.73    168.97      1.03\n",
      " sigma_g_2_raw[0,0]      0.85      0.57      0.75      0.04      1.93    246.98      1.02\n",
      " sigma_g_2_raw[1,0]      1.29      0.65      1.22      0.16      2.53    230.03      1.01\n",
      "   sigma_l_raw[0,0]      0.67      0.58      0.49      0.00      1.86    221.30      1.01\n",
      "   sigma_l_raw[1,0]      0.53      0.52      0.36      0.01      1.65    224.18      1.00\n",
      "   sigma_p_raw[0,0]      0.54      0.45      0.40      0.02      1.45    145.01      1.04\n",
      "   sigma_p_raw[1,0]      1.22      0.59      1.13      0.31      2.40    116.58      1.04\n",
      "   sigma_v_raw[0,0]      1.05      0.63      0.94      0.01      2.22    267.67      1.01\n",
      "   sigma_v_raw[1,0]      0.92      0.58      0.83      0.05      2.04    235.19      1.02\n",
      "       v_raw[0,0,0]      0.75      0.57      0.64      0.00      1.82    286.58      1.01\n",
      "       v_raw[0,1,0]      0.95      0.59      0.87      0.00      2.03    232.73      1.02\n",
      "       v_raw[1,0,0]      1.06      0.61      0.98      0.02      2.13    163.49      1.01\n",
      "       v_raw[1,1,0]      0.74      0.62      0.58      0.01      1.92    126.93      1.03\n",
      "           µ_a[0,0]     51.77     27.39     47.79      4.59    103.20    178.67      1.01\n",
      "           µ_a[1,0]     49.53     27.04     46.13      5.35    101.19     79.21      1.03\n",
      "           σ_a[0,0]      0.02      0.01      0.02      0.00      0.05    129.85      1.03\n",
      "           σ_a[1,0]      0.02      0.01      0.02      0.00      0.04     68.59      1.05\n",
      "\n",
      "Number of divergences: 3224\n"
     ]
    }
   ],
   "source": [
    "mcmc.print_summary(prob=.95)\n"
   ]
  },
  {
   "cell_type": "code",
   "execution_count": 25,
   "metadata": {},
   "outputs": [],
   "source": [
    "numpyro_data = az.from_numpyro(mcmc)\n"
   ]
  },
  {
   "cell_type": "code",
   "execution_count": 30,
   "metadata": {},
   "outputs": [
    {
     "data": {
      "text/plain": [
       "(4, 1000, 1, 1)"
      ]
     },
     "execution_count": 30,
     "metadata": {},
     "output_type": "execute_result"
    }
   ],
   "source": [
    "numpyro_data.log_likelihood[\"a_penalty\"].values.shape"
   ]
  },
  {
   "cell_type": "code",
   "execution_count": 31,
   "metadata": {},
   "outputs": [
    {
     "data": {
      "text/plain": [
       "(4000, 16, 2, 1)"
      ]
     },
     "execution_count": 31,
     "metadata": {},
     "output_type": "execute_result"
    }
   ],
   "source": [
    "posterior_samples[site.a].shape"
   ]
  },
  {
   "cell_type": "code",
   "execution_count": 26,
   "metadata": {},
   "outputs": [
    {
     "name": "stderr",
     "output_type": "stream",
     "text": [
      "2023-10-30 15:33:33,649 - __main__ - INFO - Evaluating model ...\n"
     ]
    },
    {
     "ename": "TypeError",
     "evalue": "Found several log likelihood arrays ['a_penalty', 'obs'], var_name cannot be None",
     "output_type": "error",
     "traceback": [
      "\u001b[0;31m---------------------------------------------------------------------------\u001b[0m",
      "\u001b[0;31mTypeError\u001b[0m                                 Traceback (most recent call last)",
      "\u001b[1;32m/home/vishu/repos/hbmep-paper/notebooks/paper/tms/link-comparison/proc-2023-10-27/injury/rectified_logistic_3.ipynb Cell 14\u001b[0m line \u001b[0;36m6\n\u001b[1;32m      <a href='vscode-notebook-cell://ssh-remote%2Bcumc00/home/vishu/repos/hbmep-paper/notebooks/paper/tms/link-comparison/proc-2023-10-27/injury/rectified_logistic_3.ipynb#X10sdnNjb2RlLXJlbW90ZQ%3D%3D?line=2'>3</a>\u001b[0m \u001b[39m\"\"\" Model evaluation \"\"\"\u001b[39;00m\n\u001b[1;32m      <a href='vscode-notebook-cell://ssh-remote%2Bcumc00/home/vishu/repos/hbmep-paper/notebooks/paper/tms/link-comparison/proc-2023-10-27/injury/rectified_logistic_3.ipynb#X10sdnNjb2RlLXJlbW90ZQ%3D%3D?line=3'>4</a>\u001b[0m logger\u001b[39m.\u001b[39minfo(\u001b[39m\"\u001b[39m\u001b[39mEvaluating model ...\u001b[39m\u001b[39m\"\u001b[39m)\n\u001b[0;32m----> <a href='vscode-notebook-cell://ssh-remote%2Bcumc00/home/vishu/repos/hbmep-paper/notebooks/paper/tms/link-comparison/proc-2023-10-27/injury/rectified_logistic_3.ipynb#X10sdnNjb2RlLXJlbW90ZQ%3D%3D?line=5'>6</a>\u001b[0m score \u001b[39m=\u001b[39m az\u001b[39m.\u001b[39;49mloo(numpyro_data)\n\u001b[1;32m      <a href='vscode-notebook-cell://ssh-remote%2Bcumc00/home/vishu/repos/hbmep-paper/notebooks/paper/tms/link-comparison/proc-2023-10-27/injury/rectified_logistic_3.ipynb#X10sdnNjb2RlLXJlbW90ZQ%3D%3D?line=6'>7</a>\u001b[0m logger\u001b[39m.\u001b[39minfo(\u001b[39mf\u001b[39m\u001b[39m\"\u001b[39m\u001b[39mELPD LOO (Log): \u001b[39m\u001b[39m{\u001b[39;00mscore\u001b[39m.\u001b[39melpd_loo\u001b[39m:\u001b[39;00m\u001b[39m.2f\u001b[39m\u001b[39m}\u001b[39;00m\u001b[39m\"\u001b[39m)\n\u001b[1;32m      <a href='vscode-notebook-cell://ssh-remote%2Bcumc00/home/vishu/repos/hbmep-paper/notebooks/paper/tms/link-comparison/proc-2023-10-27/injury/rectified_logistic_3.ipynb#X10sdnNjb2RlLXJlbW90ZQ%3D%3D?line=8'>9</a>\u001b[0m score \u001b[39m=\u001b[39m az\u001b[39m.\u001b[39mwaic(numpyro_data)\n",
      "File \u001b[0;32m~/repos/hbmep-paper/.venv/lib/python3.11/site-packages/arviz/stats/stats.py:766\u001b[0m, in \u001b[0;36mloo\u001b[0;34m(data, pointwise, var_name, reff, scale)\u001b[0m\n\u001b[1;32m    693\u001b[0m \u001b[39m\u001b[39m\u001b[39m\"\"\"Compute Pareto-smoothed importance sampling leave-one-out cross-validation (PSIS-LOO-CV).\u001b[39;00m\n\u001b[1;32m    694\u001b[0m \n\u001b[1;32m    695\u001b[0m \u001b[39mEstimates the expected log pointwise predictive density (elpd) using Pareto-smoothed\u001b[39;00m\n\u001b[0;32m   (...)\u001b[0m\n\u001b[1;32m    763\u001b[0m \u001b[39m       ...: data_loo.loo_i\u001b[39;00m\n\u001b[1;32m    764\u001b[0m \u001b[39m\"\"\"\u001b[39;00m\n\u001b[1;32m    765\u001b[0m inference_data \u001b[39m=\u001b[39m convert_to_inference_data(data)\n\u001b[0;32m--> 766\u001b[0m log_likelihood \u001b[39m=\u001b[39m _get_log_likelihood(inference_data, var_name\u001b[39m=\u001b[39;49mvar_name)\n\u001b[1;32m    767\u001b[0m pointwise \u001b[39m=\u001b[39m rcParams[\u001b[39m\"\u001b[39m\u001b[39mstats.ic_pointwise\u001b[39m\u001b[39m\"\u001b[39m] \u001b[39mif\u001b[39;00m pointwise \u001b[39mis\u001b[39;00m \u001b[39mNone\u001b[39;00m \u001b[39melse\u001b[39;00m pointwise\n\u001b[1;32m    769\u001b[0m log_likelihood \u001b[39m=\u001b[39m log_likelihood\u001b[39m.\u001b[39mstack(__sample__\u001b[39m=\u001b[39m(\u001b[39m\"\u001b[39m\u001b[39mchain\u001b[39m\u001b[39m\"\u001b[39m, \u001b[39m\"\u001b[39m\u001b[39mdraw\u001b[39m\u001b[39m\"\u001b[39m))\n",
      "File \u001b[0;32m~/repos/hbmep-paper/.venv/lib/python3.11/site-packages/arviz/stats/stats_utils.py:429\u001b[0m, in \u001b[0;36mget_log_likelihood\u001b[0;34m(idata, var_name)\u001b[0m\n\u001b[1;32m    427\u001b[0m     var_names \u001b[39m=\u001b[39m \u001b[39mlist\u001b[39m(idata\u001b[39m.\u001b[39mlog_likelihood\u001b[39m.\u001b[39mdata_vars)\n\u001b[1;32m    428\u001b[0m     \u001b[39mif\u001b[39;00m \u001b[39mlen\u001b[39m(var_names) \u001b[39m>\u001b[39m \u001b[39m1\u001b[39m:\n\u001b[0;32m--> 429\u001b[0m         \u001b[39mraise\u001b[39;00m \u001b[39mTypeError\u001b[39;00m(\n\u001b[1;32m    430\u001b[0m             \u001b[39mf\u001b[39m\u001b[39m\"\u001b[39m\u001b[39mFound several log likelihood arrays \u001b[39m\u001b[39m{\u001b[39;00mvar_names\u001b[39m}\u001b[39;00m\u001b[39m, var_name cannot be None\u001b[39m\u001b[39m\"\u001b[39m\n\u001b[1;32m    431\u001b[0m         )\n\u001b[1;32m    432\u001b[0m     \u001b[39mreturn\u001b[39;00m idata\u001b[39m.\u001b[39mlog_likelihood[var_names[\u001b[39m0\u001b[39m]]\n\u001b[1;32m    433\u001b[0m \u001b[39melse\u001b[39;00m:\n",
      "\u001b[0;31mTypeError\u001b[0m: Found several log likelihood arrays ['a_penalty', 'obs'], var_name cannot be None"
     ]
    }
   ],
   "source": [
    "numpyro_data = az.from_numpyro(mcmc)\n",
    "\n",
    "\"\"\" Model evaluation \"\"\"\n",
    "logger.info(\"Evaluating model ...\")\n",
    "\n",
    "score = az.loo(numpyro_data)\n",
    "logger.info(f\"ELPD LOO (Log): {score.elpd_loo:.2f}\")\n",
    "\n",
    "score = az.waic(numpyro_data)\n",
    "logger.info(f\"ELPD WAIC (Log): {score.elpd_waic:.2f}\")\n"
   ]
  },
  {
   "cell_type": "code",
   "execution_count": null,
   "metadata": {},
   "outputs": [],
   "source": [
    "import pickle\n",
    "\n",
    "dest = os.path.join(model.build_dir, \"inference.pkl\")\n",
    "with open(dest, \"wb\") as f:\n",
    "    pickle.dump((model, mcmc, posterior_samples), f)\n"
   ]
  },
  {
   "cell_type": "code",
   "execution_count": null,
   "metadata": {},
   "outputs": [
    {
     "data": {
      "text/plain": [
       "'/home/vishu/repos/hbmep-paper/reports/paper/tms/link-comparison/rectified_logistic/numpyro_data.nc'"
      ]
     },
     "execution_count": 10,
     "metadata": {},
     "output_type": "execute_result"
    }
   ],
   "source": [
    "dest = os.path.join(model.build_dir, \"numpyro_data.nc\")\n",
    "az.to_netcdf(numpyro_data, dest)\n"
   ]
  },
  {
   "cell_type": "code",
   "execution_count": null,
   "metadata": {},
   "outputs": [],
   "source": []
  }
 ],
 "metadata": {
  "kernelspec": {
   "display_name": "Python 3 (ipykernel)",
   "language": "python",
   "name": "python3"
  },
  "language_info": {
   "codemirror_mode": {
    "name": "ipython",
    "version": 3
   },
   "file_extension": ".py",
   "mimetype": "text/x-python",
   "name": "python",
   "nbconvert_exporter": "python",
   "pygments_lexer": "ipython3",
   "version": "3.11.4"
  },
  "orig_nbformat": 4
 },
 "nbformat": 4,
 "nbformat_minor": 2
}
