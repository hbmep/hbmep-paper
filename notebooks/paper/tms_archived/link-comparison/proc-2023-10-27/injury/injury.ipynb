{
 "cells": [
  {
   "cell_type": "code",
   "execution_count": 1,
   "metadata": {},
   "outputs": [],
   "source": [
    "%reload_ext autoreload\n",
    "%autoreload 2\n",
    "\n",
    "import os\n",
    "import pickle\n",
    "import logging\n",
    "import multiprocessing\n",
    "from pathlib import Path\n",
    "\n",
    "import pandas as pd\n",
    "import numpy as np\n",
    "import jax\n",
    "import jax.numpy as jnp\n",
    "\n",
    "import arviz as az\n",
    "import numpyro\n",
    "\n",
    "from hbmep.config import Config\n",
    "from hbmep.model.utils import Site as site\n",
    "\n",
    "PLATFORM = \"cpu\"\n",
    "jax.config.update(\"jax_platforms\", PLATFORM)\n",
    "numpyro.set_platform(PLATFORM)\n",
    "\n",
    "cpu_count = multiprocessing.cpu_count() - 2\n",
    "numpyro.set_host_device_count(cpu_count)\n",
    "numpyro.enable_x64()\n",
    "numpyro.enable_validation()\n",
    "\n",
    "logger = logging.getLogger(__name__)"
   ]
  },
  {
   "cell_type": "code",
   "execution_count": 2,
   "metadata": {},
   "outputs": [],
   "source": [
    "import matplotlib.pyplot as plt\n",
    "import seaborn as sns"
   ]
  },
  {
   "cell_type": "code",
   "execution_count": 3,
   "metadata": {},
   "outputs": [],
   "source": [
    "import numpyro.distributions as dist\n",
    "from hbmep.model import Baseline\n",
    "\n",
    "\n",
    "class RectifiedLogistic(Baseline):\n",
    "    LINK = \"rectified_logistic\"\n",
    "\n",
    "    def __init__(self, config: Config):\n",
    "        super(RectifiedLogistic, self).__init__(config=config)\n",
    "        self.combination_columns = self.features + [self.subject]\n",
    "\n",
    "    def _model(self, subject, features, intensity, response_obs=None):\n",
    "        subject, n_subject = subject\n",
    "        features, n_features = features\n",
    "        intensity, n_data = intensity\n",
    "\n",
    "        intensity = intensity.reshape(-1, 1)\n",
    "        intensity = np.tile(intensity, (1, self.n_response))\n",
    "\n",
    "        feature0 = features[0].reshape(-1,)\n",
    "        n_feature0 = n_features[0]\n",
    "        n_baseline = 1\n",
    "        n_delta = 1\n",
    "\n",
    "        with numpyro.plate(site.n_response, self.n_response, dim=-1):\n",
    "            with numpyro.plate(\"n_baseline\", n_baseline, dim=-2):\n",
    "                mu_a_baseline = numpyro.sample(\"mu_a_baseline\", dist.HalfNormal(scale=50))\n",
    "\n",
    "        with numpyro.plate(site.n_response, self.n_response, dim=-1):\n",
    "            with numpyro.plate(\"n_delta\", n_delta, dim=-2):\n",
    "                mu_a_delta = numpyro.sample(\"mu_a_delta\", dist.Normal(loc=0, scale=100))\n",
    "\n",
    "        with numpyro.plate(site.n_response, self.n_response, dim=-1):\n",
    "            global_sigma_a = numpyro.sample(\"global_sigma_a\", dist.HalfNormal(100))\n",
    "\n",
    "            global_sigma_b = numpyro.sample(\"global_sigma_b\", dist.HalfNormal(100))\n",
    "            global_sigma_v = numpyro.sample(\"global_sigma_v\", dist.HalfNormal(100))\n",
    "\n",
    "            global_sigma_L = numpyro.sample(\"global_sigma_L\", dist.HalfNormal(1))\n",
    "            global_sigma_l = numpyro.sample(\"global_sigma_l\", dist.HalfNormal(100))\n",
    "            global_sigma_H = numpyro.sample(\"global_sigma_H\", dist.HalfNormal(5))\n",
    "\n",
    "            global_sigma_g_1 = numpyro.sample(\"global_sigma_g_1\", dist.HalfNormal(100))\n",
    "            global_sigma_g_2 = numpyro.sample(\"global_sigma_g_2\", dist.HalfNormal(100))\n",
    "\n",
    "            global_sigma_p = numpyro.sample(\"global_sigma_p\", dist.HalfNormal(100))\n",
    "\n",
    "            with numpyro.plate(\"n_feature0\", n_feature0, dim=-2):\n",
    "                \"\"\" Hyper-priors \"\"\"\n",
    "                mu_a = numpyro.deterministic(\n",
    "                    site.mu_a,\n",
    "                    jnp.concatenate([mu_a_baseline, mu_a_baseline + mu_a_delta], axis=0)\n",
    "                )\n",
    "                sigma_a = numpyro.sample(site.sigma_a, dist.Exponential(rate=global_sigma_a))\n",
    "\n",
    "                sigma_b_raw = numpyro.sample(\"sigma_b_raw\", dist.HalfNormal(scale=1))\n",
    "                sigma_b = numpyro.deterministic(site.sigma_b, global_sigma_b * sigma_b_raw)\n",
    "\n",
    "                sigma_v_raw = numpyro.sample(\"sigma_v_raw\", dist.HalfNormal(scale=1))\n",
    "                sigma_v = numpyro.deterministic(site.sigma_v, global_sigma_v * sigma_v_raw)\n",
    "\n",
    "                sigma_L_raw = numpyro.sample(\"sigma_L_raw\", dist.HalfNormal(scale=1))\n",
    "                sigma_L = numpyro.deterministic(site.sigma_L, global_sigma_L * sigma_L_raw)\n",
    "\n",
    "                sigma_l_raw = numpyro.sample(\"sigma_l_raw\", dist.HalfNormal(scale=1))\n",
    "                sigma_l = numpyro.deterministic(\"sigma_l\", global_sigma_l * sigma_l_raw)\n",
    "\n",
    "                sigma_H_raw = numpyro.sample(\"sigma_H_raw\", dist.HalfNormal(scale=1))\n",
    "                sigma_H = numpyro.deterministic(site.sigma_H, global_sigma_H * sigma_H_raw)\n",
    "\n",
    "                sigma_g_1_raw = numpyro.sample(\"sigma_g_1_raw\", dist.HalfNormal(scale=1))\n",
    "                sigma_g_1 = numpyro.deterministic(\"sigma_g_1\", global_sigma_g_1 * sigma_g_1_raw)\n",
    "\n",
    "                sigma_g_2_raw = numpyro.sample(\"sigma_g_2_raw\", dist.HalfNormal(scale=1))\n",
    "                sigma_g_2 = numpyro.deterministic(\"sigma_g_2\", global_sigma_g_2 * sigma_g_2_raw)\n",
    "\n",
    "                sigma_p_raw = numpyro.sample(\"sigma_p_raw\", dist.HalfNormal(scale=1))\n",
    "                sigma_p = numpyro.deterministic(\"sigma_p\", global_sigma_p * sigma_p_raw)\n",
    "\n",
    "                with numpyro.plate(site.n_subject, n_subject, dim=-3):\n",
    "                    \"\"\" Priors \"\"\"\n",
    "                    a_raw = numpyro.sample(\"a_raw\", dist.Gamma(concentration=mu_a * sigma_a, rate=1))\n",
    "                    a = numpyro.deterministic(site.a, (1 / sigma_a) * a_raw)\n",
    "\n",
    "                    b_raw = numpyro.sample(\"b_raw\", dist.HalfNormal(scale=1))\n",
    "                    b = numpyro.deterministic(site.b, sigma_b * b_raw)\n",
    "\n",
    "                    v_raw = numpyro.sample(\"v_raw\", dist.HalfNormal(scale=1))\n",
    "                    v = numpyro.deterministic(site.v, sigma_v * v_raw)\n",
    "\n",
    "                    L_raw = numpyro.sample(\"L_raw\", dist.HalfNormal(scale=1))\n",
    "                    L = numpyro.deterministic(site.L, sigma_L * L_raw)\n",
    "\n",
    "                    l_raw = numpyro.sample(\"l_raw\", dist.HalfNormal(scale=1))\n",
    "                    l = numpyro.deterministic(\"l\", sigma_l * l_raw)\n",
    "\n",
    "                    H_raw = numpyro.sample(\"H_raw\", dist.HalfNormal(scale=1))\n",
    "                    H = numpyro.deterministic(site.H, sigma_H * H_raw)\n",
    "\n",
    "                    g_1_raw = numpyro.sample(\"g_1_raw\", dist.HalfCauchy(scale=1))\n",
    "                    g_1 = numpyro.deterministic(site.g_1, sigma_g_1 * g_1_raw)\n",
    "\n",
    "                    g_2_raw = numpyro.sample(\"g_2_raw\", dist.HalfCauchy(scale=1))\n",
    "                    g_2 = numpyro.deterministic(site.g_2, sigma_g_2 * g_2_raw)\n",
    "\n",
    "                    p_raw = numpyro.sample(\"p_raw\", dist.HalfNormal(scale=1))\n",
    "                    p = numpyro.deterministic(\"p\", sigma_p * p_raw)\n",
    "\n",
    "        \"\"\" Penalty \"\"\"\n",
    "        mu_a_penalty = (jnp.fabs(mu_a_baseline + mu_a_delta) - (mu_a_baseline + mu_a_delta))\n",
    "        numpyro.factor(\"mu_a_penalty\", -mu_a_penalty)\n",
    "\n",
    "        with numpyro.plate(site.n_response, self.n_response, dim=-1):\n",
    "            with numpyro.plate(site.data, n_data, dim=-2):\n",
    "                \"\"\" Model \"\"\"\n",
    "                mu = numpyro.deterministic(\n",
    "                    site.mu,\n",
    "                    L[subject, feature0]\n",
    "                    + jnp.where(\n",
    "                        intensity <= a[subject, feature0],\n",
    "                        0.,\n",
    "                        -l[subject, feature0]\n",
    "                        + (\n",
    "                            (H[subject, feature0] + l[subject, feature0])\n",
    "                            / jnp.power(\n",
    "                                1\n",
    "                                + (\n",
    "                                    (\n",
    "                                        -1\n",
    "                                        + jnp.power(\n",
    "                                            (H[subject, feature0] + l[subject, feature0]) / l[subject, feature0],\n",
    "                                            v[subject, feature0]\n",
    "                                        )\n",
    "                                    )\n",
    "                                    * jnp.exp(-b[subject, feature0] * (intensity - a[subject, feature0]))\n",
    "                                ),\n",
    "                                1 / v[subject, feature0]\n",
    "                            )\n",
    "                        )\n",
    "                    )\n",
    "                )\n",
    "                beta = numpyro.deterministic(\n",
    "                    site.beta,\n",
    "                    g_1[subject, feature0] + g_2[subject, feature0] * jnp.power(1 / (mu + 1), p[subject, feature0])\n",
    "                )\n",
    "\n",
    "                \"\"\" Observation \"\"\"\n",
    "                numpyro.sample(\n",
    "                    site.obs,\n",
    "                    dist.Gamma(concentration=mu * beta, rate=beta),\n",
    "                    obs=response_obs\n",
    "                )\n"
   ]
  },
  {
   "cell_type": "code",
   "execution_count": 4,
   "metadata": {},
   "outputs": [
    {
     "name": "stderr",
     "output_type": "stream",
     "text": [
      "2023-11-03 09:48:16,804 - hbmep.config - INFO - Verifying configuration ...\n",
      "2023-11-03 09:48:16,804 - hbmep.config - INFO - Success!\n",
      "2023-11-03 09:48:16,818 - hbmep.model.baseline - INFO - Initialized model with rectified_logistic link\n"
     ]
    }
   ],
   "source": [
    "toml_path = \"/home/vishu/repos/hbmep-paper/configs/paper/tms/link-comparison/proc-2023-10-27/injury/rectified_logistic.toml\"\n",
    "config = Config(toml_path=toml_path)\n",
    "config.MCMC_PARAMS[\"num_warmup\"] = 500\n",
    "config.MCMC_PARAMS[\"num_samples\"] = 1000\n",
    "\n",
    "model = RectifiedLogistic(config=config)\n"
   ]
  },
  {
   "cell_type": "code",
   "execution_count": 5,
   "metadata": {},
   "outputs": [
    {
     "name": "stderr",
     "output_type": "stream",
     "text": [
      "2023-11-03 09:48:16,987 - hbmep.dataset.core - INFO - Artefacts will be stored here - /home/vishu/repos/hbmep-paper/reports/paper/tms/link-comparison/proc-2023-10-27/injury\n",
      "2023-11-03 09:48:16,987 - hbmep.dataset.core - INFO - Copied config to /home/vishu/repos/hbmep-paper/reports/paper/tms/link-comparison/proc-2023-10-27/injury\n",
      "2023-11-03 09:48:16,988 - hbmep.dataset.core - INFO - Processing data ...\n",
      "2023-11-03 09:48:16,990 - hbmep.utils.utils - INFO - func:load took: 0.00 sec\n"
     ]
    }
   ],
   "source": [
    "src = \"/home/vishu/data/hbmep-processed/human/tms/data_pkpk_auc_proc-2023-10-27.csv\"\n",
    "df = pd.read_csv(src)\n",
    "\n",
    "# injured = [\"SCS02\", \"SCS04\"]\n",
    "# uninjured = [\"SCA01\", \"SCA04\", \"SCA05\", \"SCA06\", \"SCA07\", \"SCA09\", \"SCA10\", \"SCA11\"]\n",
    "# subset = injured + uninjured\n",
    "\n",
    "# injured = [\"SCS02\", \"SCS04\"]\n",
    "# uninjured = [\"SCA01\", \"SCA04\", \"SCA05\", \"SCA06\", \"SCA07\", \"SCA09\", \"SCA10\", \"SCA11\"]\n",
    "# subset = injured + uninjured\n",
    "\n",
    "# subset = [\"SCA01\", \"SCS02\"]\n",
    "\n",
    "# ind = df[model.subject].isin(subset)\n",
    "# df = df[ind].reset_index(drop=True).copy()\n",
    "\n",
    "df, encoder_dict = model.load(df=df)\n"
   ]
  },
  {
   "cell_type": "code",
   "execution_count": 6,
   "metadata": {},
   "outputs": [
    {
     "name": "stderr",
     "output_type": "stream",
     "text": [
      "2023-11-03 09:48:17,140 - hbmep.model.baseline - INFO - Running inference with rectified_logistic ...\n"
     ]
    },
    {
     "data": {
      "application/vnd.jupyter.widget-view+json": {
       "model_id": "2c3c37860fe1482599566d4cffb9b754",
       "version_major": 2,
       "version_minor": 0
      },
      "text/plain": [
       "  0%|          | 0/1500 [00:00<?, ?it/s]"
      ]
     },
     "metadata": {},
     "output_type": "display_data"
    },
    {
     "data": {
      "application/vnd.jupyter.widget-view+json": {
       "model_id": "c14af38d88bf49328fb2c46627fb2bea",
       "version_major": 2,
       "version_minor": 0
      },
      "text/plain": [
       "  0%|          | 0/1500 [00:00<?, ?it/s]"
      ]
     },
     "metadata": {},
     "output_type": "display_data"
    },
    {
     "data": {
      "application/vnd.jupyter.widget-view+json": {
       "model_id": "29b532f113fa4b959d13259b6e39a6a4",
       "version_major": 2,
       "version_minor": 0
      },
      "text/plain": [
       "  0%|          | 0/1500 [00:00<?, ?it/s]"
      ]
     },
     "metadata": {},
     "output_type": "display_data"
    },
    {
     "data": {
      "application/vnd.jupyter.widget-view+json": {
       "model_id": "a3377d55bf914462af8e76880ed4201d",
       "version_major": 2,
       "version_minor": 0
      },
      "text/plain": [
       "  0%|          | 0/1500 [00:00<?, ?it/s]"
      ]
     },
     "metadata": {},
     "output_type": "display_data"
    },
    {
     "name": "stderr",
     "output_type": "stream",
     "text": [
      "2023-11-03 09:54:44,237 - hbmep.utils.utils - INFO - func:run_inference took: 6 min and 27.10 sec\n"
     ]
    }
   ],
   "source": [
    "mcmc, posterior_samples = model.run_inference(df=df)\n"
   ]
  },
  {
   "cell_type": "code",
   "execution_count": 8,
   "metadata": {},
   "outputs": [
    {
     "name": "stderr",
     "output_type": "stream",
     "text": [
      "2023-11-03 11:06:01,612 - hbmep.utils.utils - INFO - func:make_prediction_dataset took: 0.00 sec\n"
     ]
    },
    {
     "name": "stderr",
     "output_type": "stream",
     "text": [
      "2023-11-03 11:06:05,369 - hbmep.utils.utils - INFO - func:predict took: 3.76 sec\n",
      "2023-11-03 11:06:05,382 - hbmep.model.baseline - INFO - Rendering ...\n",
      "2023-11-03 11:06:08,753 - hbmep.model.baseline - INFO - Saved to /home/vishu/repos/hbmep-paper/reports/paper/tms/link-comparison/proc-2023-10-27/injury/recruitment_curves.pdf\n",
      "2023-11-03 11:06:08,753 - hbmep.utils.utils - INFO - func:render_recruitment_curves took: 3.38 sec\n",
      "2023-11-03 11:06:08,769 - hbmep.model.baseline - INFO - Rendering Posterior Predictive Check ...\n",
      "2023-11-03 11:06:12,249 - hbmep.model.baseline - INFO - Saved to /home/vishu/repos/hbmep-paper/reports/paper/tms/link-comparison/proc-2023-10-27/injury/posterior_predictive_check.pdf\n",
      "2023-11-03 11:06:12,250 - hbmep.utils.utils - INFO - func:_render_predictive_check took: 3.50 sec\n",
      "2023-11-03 11:06:12,250 - hbmep.utils.utils - INFO - func:render_predictive_check took: 3.50 sec\n"
     ]
    }
   ],
   "source": [
    "prediction_df = model.make_prediction_dataset(df=df)\n",
    "posterior_predictive = model.predict(df=prediction_df, posterior_samples=posterior_samples)\n",
    "\n",
    "model.render_recruitment_curves(df=df, encoder_dict=encoder_dict, posterior_samples=posterior_samples, prediction_df=prediction_df, posterior_predictive=posterior_predictive)\n",
    "model.render_predictive_check(df=df, encoder_dict=encoder_dict, prediction_df=prediction_df, posterior_predictive=posterior_predictive)\n"
   ]
  },
  {
   "cell_type": "code",
   "execution_count": 10,
   "metadata": {},
   "outputs": [
    {
     "data": {
      "text/plain": [
       "Text(0.5, 1.0, '0.5435')"
      ]
     },
     "execution_count": 10,
     "metadata": {},
     "output_type": "execute_result"
    },
    {
     "data": {
      "image/png": "[encoded data removed]",
      "text/plain": [
       "<Figure size 640x480 with 1 Axes>"
      ]
     },
     "metadata": {},
     "output_type": "display_data"
    }
   ],
   "source": [
    "mu_a_delta = np.array(posterior_samples[\"mu_a_delta\"])\n",
    "mu_a_delta.shape\n",
    "\n",
    "mu_a = np.array(posterior_samples[site.mu_a])\n",
    "mu_a.shape\n",
    "\n",
    "from numpyro.diagnostics import hpdi\n",
    "\n",
    "sns.kdeplot(mu_a_delta.reshape(-1,))\n",
    "plt.title((mu_a_delta.reshape(-1,) < 0).mean())\n",
    "# plt.title(hpdi(mu_a_delta.reshape(-1,), 0.95))\n"
   ]
  },
  {
   "cell_type": "code",
   "execution_count": 9,
   "metadata": {},
   "outputs": [
    {
     "data": {
      "text/plain": [
       "Text(0.5, 1.0, '0.78575')"
      ]
     },
     "execution_count": 9,
     "metadata": {},
     "output_type": "execute_result"
    },
    {
     "data": {
      "image/png": "[encoded data removed]",
      "text/plain": [
       "<Figure size 640x480 with 1 Axes>"
      ]
     },
     "metadata": {},
     "output_type": "display_data"
    }
   ],
   "source": [
    "mu_a_delta = np.array(posterior_samples[\"mu_a_delta\"])\n",
    "mu_a_delta.shape\n",
    "\n",
    "mu_a = np.array(posterior_samples[site.mu_a])\n",
    "mu_a.shape\n",
    "\n",
    "from numpyro.diagnostics import hpdi\n",
    "\n",
    "sns.kdeplot(mu_a_delta.reshape(-1,))\n",
    "plt.title((mu_a_delta.reshape(-1,) < 0).mean())\n",
    "# plt.title(hpdi(mu_a_delta.reshape(-1,), 0.95))\n"
   ]
  },
  {
   "cell_type": "code",
   "execution_count": null,
   "metadata": {},
   "outputs": [],
   "source": []
  },
  {
   "cell_type": "code",
   "execution_count": 7,
   "metadata": {},
   "outputs": [
    {
     "name": "stdout",
     "output_type": "stream",
     "text": [
      "\n",
      "                         mean       std    median      2.5%     97.5%     n_eff     r_hat\n",
      "       H_raw[0,0,0]      0.83      0.60      0.70      0.00      1.99    220.01      1.01\n",
      "       H_raw[0,1,0]      0.34      0.07      0.33      0.21      0.47     28.75      1.14\n",
      "       H_raw[1,0,0]      0.80      0.61      0.66      0.01      1.99    162.00      1.05\n",
      "       H_raw[1,1,0]      0.86      0.18      0.84      0.52      1.23     27.10      1.15\n",
      "       H_raw[2,0,0]      0.73      0.62      0.59      0.00      1.93    206.19      1.01\n",
      "       H_raw[2,1,0]      0.17      0.12      0.15      0.08      0.25    111.83      1.03\n",
      "       H_raw[3,0,0]      0.83      0.60      0.74      0.00      1.94    193.45      1.01\n",
      "       H_raw[3,1,0]      1.00      0.23      0.97      0.56      1.45     32.25      1.15\n",
      "       H_raw[4,0,0]      0.77      0.60      0.63      0.00      1.97    157.94      1.02\n",
      "       H_raw[4,1,0]      1.15      0.24      1.14      0.70      1.62     26.28      1.16\n",
      "       H_raw[5,0,0]      0.76      0.61      0.62      0.00      1.95    198.84      1.03\n",
      "       H_raw[5,1,0]      1.02      0.22      1.00      0.61      1.46     20.22      1.17\n",
      "       H_raw[6,0,0]      0.85      0.60      0.74      0.00      2.06    267.68      1.01\n",
      "       H_raw[6,1,0]      1.45      0.34      1.39      0.85      2.13     22.55      1.16\n",
      "       H_raw[7,0,0]      0.81      0.60      0.72      0.00      1.92    154.92      1.01\n",
      "       H_raw[7,1,0]      1.38      0.33      1.35      0.82      2.09     51.71      1.08\n",
      "       H_raw[8,0,0]      0.70      0.62      0.55      0.00      1.95     82.70      1.06\n",
      "       H_raw[8,1,0]      0.77      0.56      0.68      0.00      1.86    123.28      1.05\n",
      "       H_raw[9,0,0]      0.76      0.57      0.66      0.00      1.82    341.14      1.00\n",
      "       H_raw[9,1,0]      0.80      0.62      0.68      0.00      1.90    124.47      1.02\n",
      "       L_raw[0,0,0]      0.80      0.59      0.67      0.00      1.93    290.35      1.02\n",
      "       L_raw[0,1,0]      0.59      0.15      0.59      0.29      0.89     33.36      1.12\n",
      "       L_raw[1,0,0]      0.74      0.62      0.61      0.00      1.96    199.85      1.03\n",
      "       L_raw[1,1,0]      1.18      0.31      1.15      0.57      1.78     41.54      1.09\n",
      "       L_raw[2,0,0]      0.83      0.58      0.75      0.01      1.97    312.49      1.02\n",
      "       L_raw[2,1,0]      0.62      0.16      0.62      0.30      0.93     33.65      1.12\n",
      "       L_raw[3,0,0]      0.84      0.63      0.69      0.02      2.17    148.73      1.03\n",
      "       L_raw[3,1,0]      0.79      0.30      0.79      0.08      1.27     58.99      1.09\n",
      "       L_raw[4,0,0]      0.79      0.64      0.65      0.00      2.07    118.98      1.05\n",
      "       L_raw[4,1,0]      0.99      0.27      1.00      0.47      1.50     32.99      1.12\n",
      "       L_raw[5,0,0]      0.86      0.61      0.77      0.00      2.03    159.80      1.06\n",
      "       L_raw[5,1,0]      0.73      0.24      0.71      0.26      1.20     50.37      1.06\n",
      "       L_raw[6,0,0]      0.82      0.58      0.70      0.03      2.01    169.52      1.02\n",
      "       L_raw[6,1,0]      0.92      0.38      0.91      0.11      1.57     14.84      1.37\n",
      "       L_raw[7,0,0]      0.79      0.57      0.68      0.01      1.91    470.51      1.01\n",
      "       L_raw[7,1,0]      1.38      0.35      1.38      0.66      2.06     34.83      1.11\n",
      "       L_raw[8,0,0]      1.07      0.58      1.01      0.12      2.12     37.58      1.10\n",
      "       L_raw[8,1,0]      0.81      0.59      0.70      0.00      1.98    238.35      1.02\n",
      "       L_raw[9,0,0]      0.35      0.21      0.31      0.04      0.77     37.22      1.10\n",
      "       L_raw[9,1,0]      0.78      0.59      0.63      0.01      1.96    316.44      1.02\n",
      "       a_raw[0,0,0]      1.71      1.67      1.18      0.00      5.04     84.28      1.06\n",
      "       a_raw[0,1,0]      1.36      0.51      1.30      0.58      2.33      7.65      1.26\n",
      "       a_raw[1,0,0]      1.74      1.65      1.32      0.00      5.18     60.24      1.06\n",
      "       a_raw[1,1,0]      1.03      0.40      0.98      0.44      1.79      8.57      1.26\n",
      "       a_raw[2,0,0]      1.62      1.61      1.14      0.00      4.86     44.31      1.09\n",
      "       a_raw[2,1,0]      1.40      0.53      1.33      0.58      2.36      7.44      1.26\n",
      "       a_raw[3,0,0]      1.60      1.63      1.13      0.00      4.82     37.69      1.07\n",
      "       a_raw[3,1,0]      1.11      0.42      1.07      0.45      1.90      7.60      1.26\n",
      "       a_raw[4,0,0]      1.67      1.71      1.17      0.00      5.03     71.53      1.06\n",
      "       a_raw[4,1,0]      0.86      0.34      0.81      0.34      1.57      8.88      1.24\n",
      "       a_raw[5,0,0]      1.77      1.71      1.23      0.00      5.08     92.88      1.05\n",
      "       a_raw[5,1,0]      1.49      0.57      1.41      0.63      2.61      7.52      1.27\n",
      "       a_raw[6,0,0]      1.61      1.72      1.01      0.00      5.15     44.56      1.07\n",
      "       a_raw[6,1,0]      1.18      0.46      1.12      0.51      2.08      8.01      1.28\n",
      "       a_raw[7,0,0]      1.67      1.73      1.08      0.00      5.19     65.48      1.06\n",
      "       a_raw[7,1,0]      0.85      0.32      0.82      0.36      1.46      7.57      1.26\n",
      "       a_raw[8,0,0]      1.55      1.03      1.35      0.01      3.54     46.94      1.09\n",
      "       a_raw[8,1,0]      1.69      1.35      1.39      0.02      4.33    188.53      1.04\n",
      "       a_raw[9,0,0]      2.37      1.74      2.06      0.00      5.59     24.12      1.13\n",
      "       a_raw[9,1,0]      1.60      1.36      1.26      0.02      4.28     92.80      1.06\n",
      "       b_raw[0,0,0]      0.78      0.64      0.62      0.00      2.07    169.62      1.01\n",
      "       b_raw[0,1,0]      1.01      0.48      0.92      0.22      1.95     77.60      1.04\n",
      "       b_raw[1,0,0]      0.85      0.63      0.74      0.00      1.97    128.72      1.04\n",
      "       b_raw[1,1,0]      0.84      0.40      0.78      0.19      1.61     88.69      1.03\n",
      "       b_raw[2,0,0]      0.73      0.57      0.62      0.00      1.80    136.52      1.02\n",
      "       b_raw[2,1,0]      0.71      0.42      0.63      0.10      1.57    118.20      1.03\n",
      "       b_raw[3,0,0]      0.76      0.61      0.62      0.00      1.99    175.98      1.02\n",
      "       b_raw[3,1,0]      0.46      0.30      0.38      0.07      1.01    105.40      1.09\n",
      "       b_raw[4,0,0]      0.79      0.57      0.68      0.00      1.88    156.40      1.02\n",
      "       b_raw[4,1,0]      0.70      0.30      0.66      0.17      1.27     96.02      1.07\n",
      "       b_raw[5,0,0]      0.73      0.58      0.56      0.01      1.86    164.49      1.01\n",
      "       b_raw[5,1,0]      0.99      0.44      0.92      0.26      1.85     45.66      1.09\n",
      "       b_raw[6,0,0]      0.80      0.58      0.65      0.00      1.92    231.70      1.01\n",
      "       b_raw[6,1,0]      0.62      0.39      0.50      0.12      1.45     98.48      1.03\n",
      "       b_raw[7,0,0]      0.86      0.58      0.76      0.02      1.97    274.57      1.02\n",
      "       b_raw[7,1,0]      1.16      0.47      1.11      0.38      2.11    136.37      1.01\n",
      "       b_raw[8,0,0]      0.72      0.55      0.61      0.00      1.77    161.51      1.02\n",
      "       b_raw[8,1,0]      0.77      0.58      0.68      0.00      1.89    225.62      1.05\n",
      "       b_raw[9,0,0]      0.70      0.59      0.56      0.00      1.87    134.11      1.04\n",
      "       b_raw[9,1,0]      0.81      0.60      0.66      0.01      1.91    173.10      1.03\n",
      "     g_1_raw[0,0,0]      6.31     29.81      1.16      0.01     20.42    215.10      1.02\n",
      "     g_1_raw[0,1,0]      1.33      0.57      1.23      0.43      2.48     40.50      1.09\n",
      "     g_1_raw[1,0,0]      8.01     96.69      1.02      0.00     10.20    448.16      1.01\n",
      "     g_1_raw[1,1,0]      1.10      0.46      1.05      0.35      2.03     39.43      1.06\n",
      "     g_1_raw[2,0,0]      5.95     65.49      1.01      0.01     10.47    382.82      1.01\n",
      "     g_1_raw[2,1,0]      1.73      0.79      1.64      0.39      3.23     55.36      1.06\n",
      "     g_1_raw[3,0,0]      4.19     15.72      0.91      0.00     15.15    129.17      1.04\n",
      "     g_1_raw[3,1,0]      0.57      0.25      0.52      0.15      1.08     53.35      1.08\n",
      "     g_1_raw[4,0,0]      5.90     32.31      1.03      0.01     12.64    195.26      1.03\n",
      "     g_1_raw[4,1,0]      1.22      0.52      1.13      0.36      2.29     53.67      1.07\n",
      "     g_1_raw[5,0,0]      3.96     15.65      0.95      0.00     15.91    207.68      1.02\n",
      "     g_1_raw[5,1,0]      0.78      0.35      0.73      0.22      1.46     36.05      1.08\n",
      "     g_1_raw[6,0,0]      3.24      9.71      0.86      0.00     12.99    141.75      1.03\n",
      "     g_1_raw[6,1,0]      0.51      0.22      0.47      0.13      0.94     38.17      1.10\n",
      "     g_1_raw[7,0,0]      3.05      8.35      1.06      0.00     11.36    454.60      1.01\n",
      "     g_1_raw[7,1,0]      0.60      0.27      0.55      0.16      1.18     39.05      1.08\n",
      "     g_1_raw[8,0,0]      0.84      1.15      0.48      0.00      2.82    264.28      1.02\n",
      "     g_1_raw[8,1,0]     12.15    258.01      0.94      0.00      9.28    829.42      1.00\n",
      "     g_1_raw[9,0,0]     11.50     56.00      1.01      0.00     36.25     63.77      1.07\n",
      "     g_1_raw[9,1,0]      2.98     15.39      0.85      0.00      7.75    514.96      1.00\n",
      "     g_2_raw[0,0,0]     12.89     85.20      1.15      0.00     42.16    304.93      1.01\n",
      "     g_2_raw[0,1,0]     29.18     22.70     23.17      2.19     73.34    165.85      1.00\n",
      "     g_2_raw[1,0,0]      4.25     23.63      0.94      0.00     12.17    554.43      1.01\n",
      "     g_2_raw[1,1,0]     10.44     15.62      6.37      0.40     30.78    124.05      1.04\n",
      "     g_2_raw[2,0,0]      3.81     11.24      0.96      0.00     16.31    142.84      1.01\n",
      "     g_2_raw[2,1,0]    290.29    310.42    189.17     19.04    848.10     91.17      1.01\n",
      "     g_2_raw[3,0,0]      2.86      8.92      0.79      0.00     10.82    181.34      1.03\n",
      "     g_2_raw[3,1,0]      2.89      2.67      2.08      0.28      7.33     99.65      1.06\n",
      "     g_2_raw[4,0,0]      3.18     10.90      0.95      0.01     10.83    389.79      1.02\n",
      "     g_2_raw[4,1,0]     12.58     23.57      4.40      0.21     47.33     63.84      1.05\n",
      "     g_2_raw[5,0,0]      7.79     48.59      1.07      0.00     22.04    175.47      1.03\n",
      "     g_2_raw[5,1,0]     24.62     42.51     10.96      0.14     88.73     94.17      1.05\n",
      "     g_2_raw[6,0,0]      5.21     25.59      1.05      0.01     16.31    261.25      1.01\n",
      "     g_2_raw[6,1,0]      2.84      7.49      1.33      0.10      7.88    139.06      1.03\n",
      "     g_2_raw[7,0,0]      1.89      3.01      0.94      0.01      6.82    212.33      1.01\n",
      "     g_2_raw[7,1,0]     39.84     86.25     16.07      1.19    153.09    161.28      1.02\n",
      "     g_2_raw[8,0,0]      5.31      8.28      2.73      0.31     18.97    156.33      1.04\n",
      "     g_2_raw[8,1,0]      2.49      8.81      0.97      0.00      8.50    583.86      1.01\n",
      "     g_2_raw[9,0,0]     18.42     15.02     13.89      0.79     50.15     29.13      1.17\n",
      "     g_2_raw[9,1,0]      2.74      9.94      0.81      0.01      9.29    395.95      1.01\n",
      "  global_sigma_H[0]      4.79      2.40      4.40      1.07      9.51     81.71      1.06\n",
      "  global_sigma_L[0]      0.12      0.19      0.06      0.01      0.46     51.43      1.08\n",
      "  global_sigma_b[0]      4.19      6.00      1.66      0.11     15.17    101.22      1.03\n",
      "global_sigma_g_1[0]     23.33     27.73     12.75      1.26     79.51     75.32      1.05\n",
      "global_sigma_g_2[0]    285.72     70.32    281.38    147.25    421.32     95.75      1.04\n",
      "  global_sigma_l[0]      7.64     18.94      1.28      0.01     40.57     80.07      1.07\n",
      "  global_sigma_p[0]    138.60     52.78    132.25     46.15    241.16     51.84      1.07\n",
      "  global_sigma_v[0]     38.80     40.50     24.46      0.67    131.14    119.41      1.01\n",
      "       l_raw[0,0,0]      0.86      0.61      0.76      0.00      2.00    201.40      1.01\n",
      "       l_raw[0,1,0]      0.86      0.53      0.74      0.06      1.93    168.26      1.02\n",
      "       l_raw[1,0,0]      0.79      0.60      0.66      0.01      1.95    212.01      1.01\n",
      "       l_raw[1,1,0]      0.20      0.28      0.10      0.00      0.70    164.47      1.04\n",
      "       l_raw[2,0,0]      0.84      0.61      0.74      0.00      2.00    178.86      1.04\n",
      "       l_raw[2,1,0]      0.49      0.42      0.37      0.01      1.35    108.21      1.05\n",
      "       l_raw[3,0,0]      0.81      0.59      0.71      0.00      1.90    136.55      1.04\n",
      "       l_raw[3,1,0]      1.28      0.63      1.21      0.17      2.53    189.16      1.02\n",
      "       l_raw[4,0,0]      0.76      0.62      0.60      0.00      1.95    113.67      1.05\n",
      "       l_raw[4,1,0]      0.36      0.36      0.24      0.00      1.13    101.43      1.05\n",
      "       l_raw[5,0,0]      0.81      0.61      0.68      0.00      2.00    228.74      1.02\n",
      "       l_raw[5,1,0]      0.48      0.40      0.37      0.00      1.29    105.20      1.04\n",
      "       l_raw[6,0,0]      0.82      0.58      0.70      0.01      2.00    212.00      1.02\n",
      "       l_raw[6,1,0]      1.43      0.66      1.33      0.25      2.67     72.42      1.07\n",
      "       l_raw[7,0,0]      0.89      0.66      0.75      0.00      2.15    123.46      1.03\n",
      "       l_raw[7,1,0]      0.81      0.48      0.72      0.11      1.83     87.93      1.05\n",
      "       l_raw[8,0,0]      0.76      0.61      0.61      0.00      1.96    104.53      1.05\n",
      "       l_raw[8,1,0]      0.80      0.58      0.70      0.00      1.91    248.37      1.01\n",
      "       l_raw[9,0,0]      0.80      0.59      0.68      0.00      1.92    294.37      1.01\n",
      "       l_raw[9,1,0]      0.82      0.59      0.74      0.01      1.95    277.27      1.01\n",
      " mu_a_baseline[0,0]     76.23     29.07     74.27     15.71    130.88     41.86      1.10\n",
      "    mu_a_delta[0,0]    -32.08     30.52    -31.32    -90.02     28.79     67.67      1.08\n",
      "       p_raw[0,0,0]      0.77      0.60      0.64      0.01      1.95    160.74      1.03\n",
      "       p_raw[0,1,0]      0.90      0.40      0.82      0.29      1.77    103.96      1.04\n",
      "       p_raw[1,0,0]      0.80      0.59      0.71      0.00      1.93    228.94      1.02\n",
      "       p_raw[1,1,0]      0.70      0.28      0.66      0.24      1.24     50.08      1.13\n",
      "       p_raw[2,0,0]      0.80      0.60      0.67      0.01      2.00    322.16      1.00\n",
      "       p_raw[2,1,0]      1.89      0.54      1.85      0.92      3.05     63.20      1.08\n",
      "       p_raw[3,0,0]      0.86      0.62      0.76      0.00      2.11    185.40      1.03\n",
      "       p_raw[3,1,0]      0.63      0.38      0.55      0.13      1.39     83.92      1.06\n",
      "       p_raw[4,0,0]      0.86      0.60      0.76      0.00      1.96    235.49      1.02\n",
      "       p_raw[4,1,0]      0.82      0.46      0.73      0.15      1.86     45.20      1.10\n",
      "       p_raw[5,0,0]      0.76      0.58      0.63      0.01      1.88    189.31      1.02\n",
      "       p_raw[5,1,0]      1.15      0.57      1.11      0.26      2.23     48.39      1.09\n",
      "       p_raw[6,0,0]      0.76      0.63      0.61      0.00      2.03    283.75      1.01\n",
      "       p_raw[6,1,0]      0.64      0.42      0.53      0.10      1.49     61.23      1.10\n",
      "       p_raw[7,0,0]      0.82      0.59      0.70      0.01      1.94    156.93      1.05\n",
      "       p_raw[7,1,0]      0.70      0.33      0.63      0.20      1.31     65.18      1.08\n",
      "       p_raw[8,0,0]      1.03      0.53      0.93      0.15      2.03    106.08      1.05\n",
      "       p_raw[8,1,0]      0.84      0.63      0.69      0.00      2.11    209.28      1.02\n",
      "       p_raw[9,0,0]      0.60      0.44      0.53      0.00      1.44    220.88      1.01\n",
      "       p_raw[9,1,0]      0.77      0.64      0.65      0.00      2.03    123.14      1.04\n",
      "   sigma_H_raw[0,0]      0.76      0.59      0.64      0.00      1.88    174.19      1.03\n",
      "   sigma_H_raw[1,0]      0.90      0.47      0.79      0.26      1.90     91.57      1.04\n",
      "   sigma_L_raw[0,0]      0.67      0.51      0.53      0.01      1.72    101.38      1.05\n",
      "   sigma_L_raw[1,0]      0.32      0.31      0.21      0.00      0.94     42.82      1.10\n",
      "   sigma_b_raw[0,0]      0.59      0.52      0.46      0.00      1.61    116.57      1.05\n",
      "   sigma_b_raw[1,0]      0.52      0.51      0.35      0.01      1.60    106.31      1.04\n",
      " sigma_g_1_raw[0,0]      0.62      0.52      0.49      0.00      1.64    234.64      1.01\n",
      " sigma_g_1_raw[1,0]      0.49      0.43      0.35      0.02      1.38    142.89      1.02\n",
      " sigma_g_2_raw[0,0]      1.45      0.68      1.37      0.26      2.69     37.85      1.09\n",
      " sigma_g_2_raw[1,0]      2.52      0.65      2.46      1.35      3.89    139.20      1.04\n",
      "   sigma_l_raw[0,0]      0.67      0.60      0.52      0.00      1.85     62.45      1.07\n",
      "   sigma_l_raw[1,0]      0.33      0.45      0.12      0.00      1.34     97.96      1.08\n",
      "   sigma_p_raw[0,0]      0.63      0.37      0.55      0.11      1.37     95.47      1.04\n",
      "   sigma_p_raw[1,0]      1.35      0.47      1.30      0.56      2.19    108.05      1.05\n",
      "   sigma_v_raw[0,0]      0.92      0.64      0.80      0.00      2.13    106.20      1.04\n",
      "   sigma_v_raw[1,0]      0.24      0.33      0.12      0.00      0.90    100.56      1.04\n",
      "       v_raw[0,0,0]      0.76      0.63      0.60      0.00      1.98    111.72      1.05\n",
      "       v_raw[0,1,0]      0.78      0.54      0.68      0.02      1.79     69.15      1.07\n",
      "       v_raw[1,0,0]      0.78      0.59      0.67      0.00      1.93    242.81      1.02\n",
      "       v_raw[1,1,0]      0.66      0.46      0.55      0.07      1.59     58.38      1.06\n",
      "       v_raw[2,0,0]      0.85      0.62      0.71      0.00      1.95    168.29      1.01\n",
      "       v_raw[2,1,0]      1.00      0.62      0.91      0.01      2.12    115.77      1.03\n",
      "       v_raw[3,0,0]      0.83      0.58      0.72      0.03      1.94    359.11      1.01\n",
      "       v_raw[3,1,0]      0.30      0.31      0.21      0.00      0.95    182.51      1.03\n",
      "       v_raw[4,0,0]      0.88      0.62      0.78      0.00      2.02    167.21      1.01\n",
      "       v_raw[4,1,0]      0.62      0.40      0.56      0.05      1.34     73.06      1.08\n",
      "       v_raw[5,0,0]      0.73      0.56      0.59      0.01      1.86    280.49      1.02\n",
      "       v_raw[5,1,0]      0.92      0.54      0.80      0.02      1.99     63.36      1.04\n",
      "       v_raw[6,0,0]      0.82      0.56      0.73      0.02      1.88    376.02      1.01\n",
      "       v_raw[6,1,0]      0.69      0.56      0.57      0.00      1.78     74.77      1.07\n",
      "       v_raw[7,0,0]      0.84      0.64      0.70      0.01      2.16    194.19      1.04\n",
      "       v_raw[7,1,0]      1.00      0.52      0.90      0.23      1.96     40.09      1.10\n",
      "       v_raw[8,0,0]      0.78      0.59      0.64      0.01      1.96    159.67      1.03\n",
      "       v_raw[8,1,0]      0.88      0.60      0.77      0.00      1.92    207.48      1.02\n",
      "       v_raw[9,0,0]      0.85      0.64      0.69      0.00      2.07    102.06      1.03\n",
      "       v_raw[9,1,0]      0.79      0.59      0.66      0.00      1.94    276.63      1.00\n",
      "           σ_a[0,0]      0.02      0.01      0.02      0.00      0.05     42.32      1.10\n",
      "           σ_a[1,0]      0.04      0.01      0.04      0.02      0.07      7.60      1.26\n",
      "\n",
      "Number of divergences: 1258\n"
     ]
    }
   ],
   "source": [
    "mcmc.print_summary(prob=.95)\n"
   ]
  },
  {
   "cell_type": "code",
   "execution_count": null,
   "metadata": {},
   "outputs": [
    {
     "name": "stderr",
     "output_type": "stream",
     "text": [
      "2023-10-27 15:51:53,418 - __main__ - INFO - Evaluating model ...\n",
      "/home/vishu/repos/hbmep-paper/.venv/lib/python3.11/site-packages/arviz/stats/stats.py:1037: RuntimeWarning: overflow encountered in exp\n",
      "  weights = 1 / np.exp(len_scale - len_scale[:, None]).sum(axis=1)\n",
      "/home/vishu/repos/hbmep-paper/.venv/lib/python3.11/site-packages/arviz/stats/stats.py:803: UserWarning: Estimated shape parameter of Pareto distribution is greater than 0.7 for one or more samples. You should consider using a more robust model, this is because importance sampling is less likely to work well if the marginal posterior and LOO posterior are very different. This is more likely to happen with a non-robust model and highly influential observations.\n",
      "  warnings.warn(\n",
      "2023-10-27 15:51:59,497 - __main__ - INFO - ELPD LOO (Log): 9011.30\n",
      "/home/vishu/repos/hbmep-paper/.venv/lib/python3.11/site-packages/arviz/stats/stats.py:1645: UserWarning: For one or more samples the posterior variance of the log predictive densities exceeds 0.4. This could be indication of WAIC starting to fail. \n",
      "See http://arxiv.org/abs/1507.04544 for details\n",
      "  warnings.warn(\n",
      "2023-10-27 15:51:59,700 - __main__ - INFO - ELPD WAIC (Log): 9033.36\n"
     ]
    }
   ],
   "source": [
    "numpyro_data = az.from_numpyro(mcmc)\n",
    "\n",
    "\"\"\" Model evaluation \"\"\"\n",
    "logger.info(\"Evaluating model ...\")\n",
    "\n",
    "score = az.loo(numpyro_data)\n",
    "logger.info(f\"ELPD LOO (Log): {score.elpd_loo:.2f}\")\n",
    "\n",
    "score = az.waic(numpyro_data)\n",
    "logger.info(f\"ELPD WAIC (Log): {score.elpd_waic:.2f}\")\n"
   ]
  },
  {
   "cell_type": "code",
   "execution_count": null,
   "metadata": {},
   "outputs": [],
   "source": [
    "import pickle\n",
    "\n",
    "dest = os.path.join(model.build_dir, \"inference.pkl\")\n",
    "with open(dest, \"wb\") as f:\n",
    "    pickle.dump((model, mcmc, posterior_samples), f)\n"
   ]
  },
  {
   "cell_type": "code",
   "execution_count": null,
   "metadata": {},
   "outputs": [
    {
     "data": {
      "text/plain": [
       "'/home/vishu/repos/hbmep-paper/reports/paper/tms/link-comparison/rectified_logistic/numpyro_data.nc'"
      ]
     },
     "execution_count": 10,
     "metadata": {},
     "output_type": "execute_result"
    }
   ],
   "source": [
    "dest = os.path.join(model.build_dir, \"numpyro_data.nc\")\n",
    "az.to_netcdf(numpyro_data, dest)\n"
   ]
  },
  {
   "cell_type": "code",
   "execution_count": 29,
   "metadata": {},
   "outputs": [
    {
     "data": {
      "application/vnd.jupyter.widget-view+json": {
       "model_id": "593bd7455aa44af0b0030cb3b7f39b5f",
       "version_major": 2,
       "version_minor": 0
      },
      "text/plain": [
       "  0%|          | 0/2500 [00:00<?, ?it/s]"
      ]
     },
     "metadata": {},
     "output_type": "display_data"
    },
    {
     "data": {
      "application/vnd.jupyter.widget-view+json": {
       "model_id": "0afce65f23994cc2868fb1dd935509bd",
       "version_major": 2,
       "version_minor": 0
      },
      "text/plain": [
       "  0%|          | 0/2500 [00:00<?, ?it/s]"
      ]
     },
     "metadata": {},
     "output_type": "display_data"
    },
    {
     "data": {
      "application/vnd.jupyter.widget-view+json": {
       "model_id": "9d789c2df39143c5b689957e0fbde733",
       "version_major": 2,
       "version_minor": 0
      },
      "text/plain": [
       "  0%|          | 0/2500 [00:00<?, ?it/s]"
      ]
     },
     "metadata": {},
     "output_type": "display_data"
    },
    {
     "name": "stdout",
     "output_type": "stream",
     "text": [
      "\n",
      "                mean       std    median      5.0%     95.0%     n_eff     r_hat\n",
      "      a[0]      0.49      0.01      0.49      0.47      0.51   4568.67      1.00\n",
      "      a[1]      2.89      0.13      2.89      2.68      3.11   3369.55      1.00\n",
      "      b[0]      0.47      0.01      0.47      0.45      0.49   4755.40      1.00\n",
      "      b[1]      0.97      0.04      0.97      0.91      1.03   3216.61      1.00\n",
      "\n",
      "Number of divergences: 0\n"
     ]
    }
   ],
   "source": [
    "import time\n",
    "import scipy.stats as stats\n",
    "from numpyro.infer import NUTS, MCMC\n",
    "# Generate Data\n",
    "\n",
    "# specify number of observations for each group\n",
    "n1 = 2000\n",
    "n2 = 1000\n",
    "\n",
    "# Sample observations from different beta distributions for each group, given specified sample size\n",
    "np.random.seed(seed=123)\n",
    "y1 = stats.beta.rvs(.5, .5, size=n1)\n",
    "np.random.seed(seed=321)\n",
    "y2 = stats.beta.rvs(3, 1, size=n2)\n",
    "\n",
    "pads = np.ones((n1-n2)) * .01\n",
    "y2 = np.concatenate([y2, pads])\n",
    "\n",
    "# Combine samples\n",
    "y = np.array([y1, y2], order='K').T\n",
    "\n",
    "\n",
    "sample_sizes =  np.array([n1, n2])\n",
    "\n",
    "def model(sample_sizes, y = None):\n",
    "    \n",
    "    # Define the number of groups from which we've attained samples\n",
    "    n_groups =  sample_sizes.shape[0]\n",
    "    \n",
    "    # Initialize a plate for each group\n",
    "    with numpyro.plate(\"n_groups\", n_groups):\n",
    "        \n",
    "        # Set priors on a and b within each group\n",
    "        a = numpyro.sample('a', dist.Gamma(.5, .5))\n",
    "        b =  numpyro.sample('b', dist.Gamma(3, 3))\n",
    "        \n",
    "        # Calculate maximum group size\n",
    "        I = sample_sizes.max().item()\n",
    "        # Create a range of 0:I\n",
    "        i = np.expand_dims(np.arange(I), -1)\n",
    "        \n",
    "        # Initialize a plate for each observation\n",
    "        with numpyro.plate('data', I):\n",
    "            # Mask observations that exceed sample size in the respective plate\n",
    "            with numpyro.handlers.mask(mask = i < sample_sizes): \n",
    "                # Estimate y_hat\n",
    "                y_hat = numpyro.sample('y_hat', dist.Beta(a, b), obs=y)\n",
    "\n",
    "rng_key = jax.random.PRNGKey(0)\n",
    "rng_key, rng_key_ = jax.random.split(rng_key)\n",
    "\n",
    "num_warmup, num_samples = 500, 2000\n",
    "\n",
    "# Run NUTS.\n",
    "kernel = NUTS(model)\n",
    "mcmc = MCMC(kernel, num_warmup=num_warmup, num_samples=num_samples, num_chains = 3)\n",
    "\n",
    "start = time.time()\n",
    "mcmc.run(rng_key_, sample_sizes=sample_sizes, y = y)\n",
    "end = time.time()\n",
    "mcmc.print_summary()"
   ]
  }
 ],
 "metadata": {
  "kernelspec": {
   "display_name": "Python 3 (ipykernel)",
   "language": "python",
   "name": "python3"
  },
  "language_info": {
   "codemirror_mode": {
    "name": "ipython",
    "version": 3
   },
   "file_extension": ".py",
   "mimetype": "text/x-python",
   "name": "python",
   "nbconvert_exporter": "python",
   "pygments_lexer": "ipython3",
   "version": "3.11.4"
  },
  "orig_nbformat": 4
 },
 "nbformat": 4,
 "nbformat_minor": 2
}
