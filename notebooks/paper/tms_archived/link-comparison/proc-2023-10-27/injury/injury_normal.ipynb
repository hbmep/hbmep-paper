{
 "cells": [
  {
   "cell_type": "code",
   "execution_count": 1,
   "metadata": {},
   "outputs": [],
   "source": [
    "%reload_ext autoreload\n",
    "%autoreload 2\n",
    "\n",
    "import os\n",
    "import pickle\n",
    "import logging\n",
    "import multiprocessing\n",
    "from pathlib import Path\n",
    "\n",
    "import pandas as pd\n",
    "import numpy as np\n",
    "import jax\n",
    "import jax.numpy as jnp\n",
    "\n",
    "import arviz as az\n",
    "import numpyro\n",
    "\n",
    "from hbmep.config import Config\n",
    "from hbmep.model.utils import Site as site\n",
    "\n",
    "PLATFORM = \"cpu\"\n",
    "jax.config.update(\"jax_platforms\", PLATFORM)\n",
    "numpyro.set_platform(PLATFORM)\n",
    "\n",
    "cpu_count = multiprocessing.cpu_count() - 2\n",
    "numpyro.set_host_device_count(cpu_count)\n",
    "numpyro.enable_x64()\n",
    "numpyro.enable_validation()\n",
    "\n",
    "logger = logging.getLogger(__name__)"
   ]
  },
  {
   "cell_type": "code",
   "execution_count": 2,
   "metadata": {},
   "outputs": [],
   "source": [
    "import matplotlib.pyplot as plt\n",
    "import seaborn as sns"
   ]
  },
  {
   "cell_type": "code",
   "execution_count": 3,
   "metadata": {},
   "outputs": [],
   "source": [
    "import numpyro.distributions as dist\n",
    "from hbmep.model import Baseline\n",
    "\n",
    "\n",
    "class RectifiedLogistic(Baseline):\n",
    "    LINK = \"rectified_logistic\"\n",
    "\n",
    "    def __init__(self, config: Config):\n",
    "        super(RectifiedLogistic, self).__init__(config=config)\n",
    "        self.combination_columns = self.features + [self.subject]\n",
    "\n",
    "    def _model(self, subject, features, intensity, response_obs=None):\n",
    "        subject, n_subject = subject\n",
    "        features, n_features = features\n",
    "        intensity, n_data = intensity\n",
    "\n",
    "        intensity = intensity.reshape(-1, 1)\n",
    "        intensity = np.tile(intensity, (1, self.n_response))\n",
    "\n",
    "        feature0 = features[0].reshape(-1,)\n",
    "        n_feature0 = n_features[0]\n",
    "        n_baseline = 1\n",
    "        n_delta = 1\n",
    "\n",
    "        with numpyro.plate(site.n_response, self.n_response, dim=-1):\n",
    "            with numpyro.plate(\"n_baseline\", n_baseline, dim=-2):\n",
    "                # mu_a_baseline = numpyro.sample(\"mu_a_baseline\", dist.HalfNormal(scale=5))\n",
    "                mu_a_baseline = numpyro.sample(\"mu_a_baseline\", dist.HalfNormal(scale=50))\n",
    "\n",
    "        with numpyro.plate(site.n_response, self.n_response, dim=-1):\n",
    "            with numpyro.plate(\"n_delta\", n_delta, dim=-2):\n",
    "                mu_a_delta = numpyro.sample(\"mu_a_delta\", dist.Normal(loc=0, scale=100))\n",
    "\n",
    "        with numpyro.plate(site.n_response, self.n_response, dim=-1):\n",
    "            global_sigma_b = numpyro.sample(\"global_sigma_b\", dist.HalfNormal(100))\n",
    "            global_sigma_v = numpyro.sample(\"global_sigma_v\", dist.HalfNormal(100))\n",
    "\n",
    "            global_sigma_L = numpyro.sample(\"global_sigma_L\", dist.HalfNormal(1))\n",
    "            global_sigma_l = numpyro.sample(\"global_sigma_l\", dist.HalfNormal(100))\n",
    "            global_sigma_H = numpyro.sample(\"global_sigma_H\", dist.HalfNormal(5))\n",
    "\n",
    "            global_sigma_g_1 = numpyro.sample(\"global_sigma_g_1\", dist.HalfNormal(100))\n",
    "            global_sigma_g_2 = numpyro.sample(\"global_sigma_g_2\", dist.HalfNormal(100))\n",
    "\n",
    "            global_sigma_p = numpyro.sample(\"global_sigma_p\", dist.HalfNormal(100))\n",
    "\n",
    "            with numpyro.plate(\"n_feature0\", n_feature0, dim=-2):\n",
    "                \"\"\" Hyper-priors \"\"\"\n",
    "                # mu_a = numpyro.sample(site.mu_a, dist.HalfNormal(scale=5))\n",
    "                mu_a = numpyro.deterministic(\n",
    "                    site.mu_a,\n",
    "                    jnp.concatenate([mu_a_baseline, mu_a_baseline + mu_a_delta], axis=0)\n",
    "                )\n",
    "                # sigma_a = numpyro.sample(site.sigma_a, dist.HalfNormal(scale=1 / 50))\n",
    "                sigma_a = numpyro.sample(site.sigma_a, dist.HalfCauchy(scale=1))\n",
    "\n",
    "                sigma_b_raw = numpyro.sample(\"sigma_b_raw\", dist.HalfNormal(scale=1))\n",
    "                sigma_b = numpyro.deterministic(site.sigma_b, global_sigma_b * sigma_b_raw)\n",
    "\n",
    "                sigma_v_raw = numpyro.sample(\"sigma_v_raw\", dist.HalfNormal(scale=1))\n",
    "                sigma_v = numpyro.deterministic(site.sigma_v, global_sigma_v * sigma_v_raw)\n",
    "\n",
    "                sigma_L_raw = numpyro.sample(\"sigma_L_raw\", dist.HalfNormal(scale=1))\n",
    "                sigma_L = numpyro.deterministic(site.sigma_L, global_sigma_L * sigma_L_raw)\n",
    "\n",
    "                sigma_l_raw = numpyro.sample(\"sigma_l_raw\", dist.HalfNormal(scale=1))\n",
    "                sigma_l = numpyro.deterministic(\"sigma_l\", global_sigma_l * sigma_l_raw)\n",
    "\n",
    "                sigma_H_raw = numpyro.sample(\"sigma_H_raw\", dist.HalfNormal(scale=1))\n",
    "                sigma_H = numpyro.deterministic(site.sigma_H, global_sigma_H * sigma_H_raw)\n",
    "\n",
    "                sigma_g_1_raw = numpyro.sample(\"sigma_g_1_raw\", dist.HalfNormal(scale=1))\n",
    "                sigma_g_1 = numpyro.deterministic(\"sigma_g_1\", global_sigma_g_1 * sigma_g_1_raw)\n",
    "\n",
    "                sigma_g_2_raw = numpyro.sample(\"sigma_g_2_raw\", dist.HalfNormal(scale=1))\n",
    "                sigma_g_2 = numpyro.deterministic(\"sigma_g_2\", global_sigma_g_2 * sigma_g_2_raw)\n",
    "\n",
    "                sigma_p_raw = numpyro.sample(\"sigma_p_raw\", dist.HalfNormal(scale=1))\n",
    "                sigma_p = numpyro.deterministic(\"sigma_p\", global_sigma_p * sigma_p_raw)\n",
    "\n",
    "                with numpyro.plate(site.n_subject, n_subject, dim=-3):\n",
    "                    \"\"\" Priors \"\"\"\n",
    "                    # a_raw = numpyro.sample(\"a_raw\", dist.Gamma(concentration=mu_a, rate=1))\n",
    "                    # a = numpyro.deterministic(site.a, (1 / sigma_a) * a_raw)\n",
    "                    # a_raw = numpyro.sample(\"a_raw\", dist.Gamma(concentration=mu_a * sigma_a, rate=1))\n",
    "                    # a = numpyro.deterministic(site.a, (1 / sigma_a) * a_raw)\n",
    "                    a_raw = numpyro.sample(\"a_raw\", dist.Normal(loc=0, scale=1))\n",
    "                    a = numpyro.deterministic(site.a, mu_a + sigma_a * a_raw)\n",
    "\n",
    "                    b_raw = numpyro.sample(\"b_raw\", dist.HalfNormal(scale=1))\n",
    "                    b = numpyro.deterministic(site.b, sigma_b * b_raw)\n",
    "\n",
    "                    v_raw = numpyro.sample(\"v_raw\", dist.HalfNormal(scale=1))\n",
    "                    v = numpyro.deterministic(site.v, sigma_v * v_raw)\n",
    "\n",
    "                    L_raw = numpyro.sample(\"L_raw\", dist.HalfNormal(scale=1))\n",
    "                    L = numpyro.deterministic(site.L, sigma_L * L_raw)\n",
    "\n",
    "                    l_raw = numpyro.sample(\"l_raw\", dist.HalfNormal(scale=1))\n",
    "                    l = numpyro.deterministic(\"l\", sigma_l * l_raw)\n",
    "\n",
    "                    H_raw = numpyro.sample(\"H_raw\", dist.HalfNormal(scale=1))\n",
    "                    H = numpyro.deterministic(site.H, sigma_H * H_raw)\n",
    "\n",
    "                    g_1_raw = numpyro.sample(\"g_1_raw\", dist.HalfCauchy(scale=1))\n",
    "                    g_1 = numpyro.deterministic(site.g_1, sigma_g_1 * g_1_raw)\n",
    "\n",
    "                    g_2_raw = numpyro.sample(\"g_2_raw\", dist.HalfCauchy(scale=1))\n",
    "                    g_2 = numpyro.deterministic(site.g_2, sigma_g_2 * g_2_raw)\n",
    "\n",
    "                    p_raw = numpyro.sample(\"p_raw\", dist.HalfNormal(scale=1))\n",
    "                    p = numpyro.deterministic(\"p\", sigma_p * p_raw)\n",
    "\n",
    "        \"\"\" Penalty \"\"\"\n",
    "        mu_a_penalty = (jnp.fabs(mu_a_baseline + mu_a_delta) - (mu_a_baseline + mu_a_delta))\n",
    "        numpyro.factor(\"mu_a_penalty\", -mu_a_penalty)\n",
    "\n",
    "        \"\"\" Penalty \"\"\"\n",
    "        a_penalty = (jnp.fabs(a) - (a))\n",
    "        numpyro.factor(\"a_penalty\", -a_penalty)\n",
    "\n",
    "        with numpyro.plate(site.n_response, self.n_response, dim=-1):\n",
    "            with numpyro.plate(site.data, n_data, dim=-2):\n",
    "                \"\"\" Model \"\"\"\n",
    "                mu = numpyro.deterministic(\n",
    "                    site.mu,\n",
    "                    L[subject, feature0]\n",
    "                    + jnp.where(\n",
    "                        intensity <= a[subject, feature0],\n",
    "                        0.,\n",
    "                        -l[subject, feature0]\n",
    "                        + (\n",
    "                            (H[subject, feature0] + l[subject, feature0])\n",
    "                            / jnp.power(\n",
    "                                1\n",
    "                                + (\n",
    "                                    (\n",
    "                                        -1\n",
    "                                        + jnp.power(\n",
    "                                            (H[subject, feature0] + l[subject, feature0]) / l[subject, feature0],\n",
    "                                            v[subject, feature0]\n",
    "                                        )\n",
    "                                    )\n",
    "                                    * jnp.exp(-b[subject, feature0] * (intensity - a[subject, feature0]))\n",
    "                                ),\n",
    "                                1 / v[subject, feature0]\n",
    "                            )\n",
    "                        )\n",
    "                    )\n",
    "                )\n",
    "                beta = numpyro.deterministic(\n",
    "                    site.beta,\n",
    "                    g_1[subject, feature0] + g_2[subject, feature0] * jnp.power(1 / (mu + 1), p[subject, feature0])\n",
    "                )\n",
    "\n",
    "                \"\"\" Observation \"\"\"\n",
    "                numpyro.sample(\n",
    "                    site.obs,\n",
    "                    dist.Gamma(concentration=mu * beta, rate=beta),\n",
    "                    obs=response_obs\n",
    "                )\n"
   ]
  },
  {
   "cell_type": "code",
   "execution_count": 4,
   "metadata": {},
   "outputs": [
    {
     "name": "stderr",
     "output_type": "stream",
     "text": [
      "2023-11-01 16:56:41,026 - hbmep.config - INFO - Verifying configuration ...\n",
      "2023-11-01 16:56:41,026 - hbmep.config - INFO - Success!\n",
      "2023-11-01 16:56:41,040 - hbmep.model.baseline - INFO - Initialized model with rectified_logistic link\n"
     ]
    }
   ],
   "source": [
    "toml_path = \"/home/vishu/repos/hbmep-paper/configs/paper/tms/link-comparison/proc-2023-10-27/injury/rectified_logistic.toml\"\n",
    "config = Config(toml_path=toml_path)\n",
    "config.MCMC_PARAMS[\"num_warmup\"] = 500\n",
    "config.MCMC_PARAMS[\"num_samples\"] = 1000\n",
    "\n",
    "model = RectifiedLogistic(config=config)\n"
   ]
  },
  {
   "cell_type": "code",
   "execution_count": 5,
   "metadata": {},
   "outputs": [
    {
     "name": "stderr",
     "output_type": "stream",
     "text": [
      "2023-11-01 16:56:41,085 - hbmep.dataset.core - INFO - Artefacts will be stored here - /home/vishu/repos/hbmep-paper/reports/paper/tms/link-comparison/proc-2023-10-27/injury\n",
      "2023-11-01 16:56:41,085 - hbmep.dataset.core - INFO - Copied config to /home/vishu/repos/hbmep-paper/reports/paper/tms/link-comparison/proc-2023-10-27/injury\n",
      "2023-11-01 16:56:41,086 - hbmep.dataset.core - INFO - Processing data ...\n",
      "2023-11-01 16:56:41,087 - hbmep.utils.utils - INFO - func:load took: 0.00 sec\n"
     ]
    }
   ],
   "source": [
    "src = \"/home/vishu/data/hbmep-processed/human/tms/data_pkpk_auc_proc-2023-10-27.csv\"\n",
    "df = pd.read_csv(src)\n",
    "\n",
    "# injured = [\"SCS02\", \"SCS04\"]\n",
    "# uninjured = [\"SCA01\", \"SCA04\", \"SCA05\", \"SCA06\", \"SCA07\", \"SCA09\", \"SCA10\", \"SCA11\"]\n",
    "# subset = injured + uninjured\n",
    "\n",
    "# injured = [\"SCS02\", \"SCS04\"]\n",
    "# uninjured = [\"SCA01\", \"SCA04\", \"SCA05\", \"SCA06\", \"SCA07\", \"SCA09\", \"SCA10\", \"SCA11\"]\n",
    "# subset = injured + uninjured\n",
    "\n",
    "# subset = [\"SCA01\", \"SCS02\"]\n",
    "\n",
    "# ind = df[model.subject].isin(subset)\n",
    "# df = df[ind].reset_index(drop=True).copy()\n",
    "\n",
    "df, encoder_dict = model.load(df=df)\n"
   ]
  },
  {
   "cell_type": "code",
   "execution_count": 6,
   "metadata": {},
   "outputs": [
    {
     "name": "stderr",
     "output_type": "stream",
     "text": [
      "2023-11-01 16:56:41,279 - hbmep.model.baseline - INFO - Running inference with rectified_logistic ...\n"
     ]
    },
    {
     "data": {
      "application/vnd.jupyter.widget-view+json": {
       "model_id": "0de4537f87d84ff1bbfd4557797448e0",
       "version_major": 2,
       "version_minor": 0
      },
      "text/plain": [
       "  0%|          | 0/1500 [00:00<?, ?it/s]"
      ]
     },
     "metadata": {},
     "output_type": "display_data"
    },
    {
     "data": {
      "application/vnd.jupyter.widget-view+json": {
       "model_id": "353419e4f0074f66ac0da2c0f275ad56",
       "version_major": 2,
       "version_minor": 0
      },
      "text/plain": [
       "  0%|          | 0/1500 [00:00<?, ?it/s]"
      ]
     },
     "metadata": {},
     "output_type": "display_data"
    },
    {
     "data": {
      "application/vnd.jupyter.widget-view+json": {
       "model_id": "816bdb660f45424c91444a6a960a59df",
       "version_major": 2,
       "version_minor": 0
      },
      "text/plain": [
       "  0%|          | 0/1500 [00:00<?, ?it/s]"
      ]
     },
     "metadata": {},
     "output_type": "display_data"
    },
    {
     "data": {
      "application/vnd.jupyter.widget-view+json": {
       "model_id": "258c0dee2e0a4b49879f6dda4c9221a7",
       "version_major": 2,
       "version_minor": 0
      },
      "text/plain": [
       "  0%|          | 0/1500 [00:00<?, ?it/s]"
      ]
     },
     "metadata": {},
     "output_type": "display_data"
    },
    {
     "name": "stderr",
     "output_type": "stream",
     "text": [
      "2023-11-01 17:01:44,316 - hbmep.utils.utils - INFO - func:run_inference took: 5 min and 3.04 sec\n"
     ]
    }
   ],
   "source": [
    "mcmc, posterior_samples = model.run_inference(df=df)\n"
   ]
  },
  {
   "cell_type": "code",
   "execution_count": 9,
   "metadata": {},
   "outputs": [
    {
     "name": "stderr",
     "output_type": "stream",
     "text": [
      "2023-11-01 17:04:52,423 - hbmep.utils.utils - INFO - func:make_prediction_dataset took: 0.00 sec\n"
     ]
    },
    {
     "name": "stderr",
     "output_type": "stream",
     "text": [
      "2023-11-01 17:04:55,376 - hbmep.utils.utils - INFO - func:predict took: 2.95 sec\n",
      "2023-11-01 17:04:55,386 - hbmep.model.baseline - INFO - Rendering ...\n",
      "2023-11-01 17:04:58,316 - hbmep.model.baseline - INFO - Saved to /home/vishu/repos/hbmep-paper/reports/paper/tms/link-comparison/proc-2023-10-27/injury/recruitment_curves.pdf\n",
      "2023-11-01 17:04:58,316 - hbmep.utils.utils - INFO - func:render_recruitment_curves took: 2.94 sec\n",
      "2023-11-01 17:04:58,331 - hbmep.model.baseline - INFO - Rendering Posterior Predictive Check ...\n",
      "2023-11-01 17:05:01,554 - hbmep.model.baseline - INFO - Saved to /home/vishu/repos/hbmep-paper/reports/paper/tms/link-comparison/proc-2023-10-27/injury/posterior_predictive_check.pdf\n",
      "2023-11-01 17:05:01,554 - hbmep.utils.utils - INFO - func:_render_predictive_check took: 3.24 sec\n",
      "2023-11-01 17:05:01,555 - hbmep.utils.utils - INFO - func:render_predictive_check took: 3.24 sec\n"
     ]
    }
   ],
   "source": [
    "prediction_df = model.make_prediction_dataset(df=df)\n",
    "posterior_predictive = model.predict(df=prediction_df, posterior_samples=posterior_samples)\n",
    "\n",
    "model.render_recruitment_curves(df=df, encoder_dict=encoder_dict, posterior_samples=posterior_samples, prediction_df=prediction_df, posterior_predictive=posterior_predictive)\n",
    "model.render_predictive_check(df=df, encoder_dict=encoder_dict, prediction_df=prediction_df, posterior_predictive=posterior_predictive)\n"
   ]
  },
  {
   "cell_type": "code",
   "execution_count": 7,
   "metadata": {},
   "outputs": [
    {
     "data": {
      "text/plain": [
       "Text(0.5, 1.0, '0.91275')"
      ]
     },
     "execution_count": 7,
     "metadata": {},
     "output_type": "execute_result"
    },
    {
     "data": {
      "image/png": "[encoded data removed]",
      "text/plain": [
       "<Figure size 640x480 with 1 Axes>"
      ]
     },
     "metadata": {},
     "output_type": "display_data"
    }
   ],
   "source": [
    "mu_a_delta = np.array(posterior_samples[\"mu_a_delta\"])\n",
    "mu_a_delta.shape\n",
    "\n",
    "mu_a = np.array(posterior_samples[site.mu_a])\n",
    "mu_a.shape\n",
    "\n",
    "sns.kdeplot(mu_a_delta.reshape(-1,))\n",
    "plt.title((mu_a_delta.reshape(-1,) < 0).mean())\n"
   ]
  },
  {
   "cell_type": "code",
   "execution_count": 9,
   "metadata": {},
   "outputs": [
    {
     "data": {
      "text/plain": [
       "Text(0.5, 1.0, '0.89475')"
      ]
     },
     "execution_count": 9,
     "metadata": {},
     "output_type": "execute_result"
    },
    {
     "data": {
      "image/png": "[encoded data removed]",
      "text/plain": [
       "<Figure size 640x480 with 1 Axes>"
      ]
     },
     "metadata": {},
     "output_type": "display_data"
    }
   ],
   "source": [
    "samples = mu_a[:, 1, 0] - mu_a[:, 0, 0]\n",
    "sns.kdeplot(samples)\n",
    "plt.title((samples < 0).mean())"
   ]
  },
  {
   "cell_type": "code",
   "execution_count": 9,
   "metadata": {},
   "outputs": [
    {
     "ename": "NameError",
     "evalue": "name 'mu_a_delta' is not defined",
     "output_type": "error",
     "traceback": [
      "\u001b[0;31m---------------------------------------------------------------------------\u001b[0m",
      "\u001b[0;31mNameError\u001b[0m                                 Traceback (most recent call last)",
      "\u001b[1;32m/home/vishu/repos/hbmep-paper/notebooks/paper/tms/link-comparison/proc-2023-10-27/injury/injury.ipynb Cell 10\u001b[0m line \u001b[0;36m1\n\u001b[0;32m----> <a href='vscode-notebook-cell://ssh-remote%2Bcumc00/home/vishu/repos/hbmep-paper/notebooks/paper/tms/link-comparison/proc-2023-10-27/injury/injury.ipynb#X25sdnNjb2RlLXJlbW90ZQ%3D%3D?line=0'>1</a>\u001b[0m sns\u001b[39m.\u001b[39mkdeplot(mu_a_delta\u001b[39m.\u001b[39mreshape(\u001b[39m-\u001b[39m\u001b[39m1\u001b[39m,))\n\u001b[1;32m      <a href='vscode-notebook-cell://ssh-remote%2Bcumc00/home/vishu/repos/hbmep-paper/notebooks/paper/tms/link-comparison/proc-2023-10-27/injury/injury.ipynb#X25sdnNjb2RlLXJlbW90ZQ%3D%3D?line=1'>2</a>\u001b[0m plt\u001b[39m.\u001b[39mtitle((mu_a_delta\u001b[39m.\u001b[39mreshape(\u001b[39m-\u001b[39m\u001b[39m1\u001b[39m,) \u001b[39m<\u001b[39m \u001b[39m0\u001b[39m)\u001b[39m.\u001b[39mmean())\n",
      "\u001b[0;31mNameError\u001b[0m: name 'mu_a_delta' is not defined"
     ]
    }
   ],
   "source": []
  },
  {
   "cell_type": "code",
   "execution_count": 10,
   "metadata": {},
   "outputs": [
    {
     "name": "stdout",
     "output_type": "stream",
     "text": [
      "\n",
      "                         mean       std    median      2.5%     97.5%     n_eff     r_hat\n",
      "       H_raw[0,0,0]      0.81      0.59      0.69      0.00      1.93    645.06      1.01\n",
      "       H_raw[0,1,0]      0.34      0.08      0.34      0.18      0.49     49.12      1.05\n",
      "       H_raw[1,0,0]      0.83      0.62      0.69      0.00      2.03    398.44      1.00\n",
      "       H_raw[1,1,0]      0.76      0.63      0.63      0.00      1.94     96.86      1.04\n",
      "       H_raw[2,0,0]      0.82      0.61      0.68      0.00      2.03    578.48      1.00\n",
      "       H_raw[2,1,0]      0.04      0.01      0.04      0.02      0.06     49.10      1.05\n",
      "       H_raw[3,0,0]      0.77      0.60      0.63      0.00      1.90    475.44      1.00\n",
      "       H_raw[3,1,0]      0.88      0.22      0.86      0.46      1.30     47.42      1.06\n",
      "       H_raw[4,0,0]      0.84      0.62      0.72      0.00      2.03    611.17      1.01\n",
      "       H_raw[4,1,0]      0.23      0.30      0.16      0.06      0.73     24.01      1.16\n",
      "       H_raw[5,0,0]      0.83      0.59      0.71      0.00      1.96    681.85      1.00\n",
      "       H_raw[5,1,0]      1.02      0.27      1.00      0.56      1.56     56.39      1.04\n",
      "       H_raw[6,0,0]      0.81      0.60      0.71      0.00      1.99    770.86      1.00\n",
      "       H_raw[6,1,0]      1.18      0.28      1.17      0.65      1.69     44.65      1.06\n",
      "       H_raw[7,0,0]      0.79      0.59      0.68      0.00      1.94    458.40      1.01\n",
      "       H_raw[7,1,0]      1.04      0.25      1.02      0.57      1.49     45.33      1.06\n",
      "       H_raw[8,0,0]      0.79      0.60      0.66      0.00      1.97    237.44      1.01\n",
      "       H_raw[8,1,0]      1.46      0.36      1.42      0.78      2.15     50.10      1.07\n",
      "       H_raw[9,0,0]      0.78      0.60      0.64      0.00      1.97    459.90      1.00\n",
      "       H_raw[9,1,0]      1.41      0.34      1.38      0.72      2.02     60.12      1.04\n",
      "      H_raw[10,0,0]      0.74      0.58      0.59      0.04      1.90    182.40      1.04\n",
      "      H_raw[10,1,0]      0.81      0.61      0.71      0.00      2.02    692.87      1.00\n",
      "      H_raw[11,0,0]      0.79      0.62      0.66      0.01      1.95    245.21      1.01\n",
      "      H_raw[11,1,0]      0.79      0.60      0.65      0.00      1.93    408.17      1.01\n",
      "      H_raw[12,0,0]      0.60      0.57      0.38      0.02      1.80    240.62      1.02\n",
      "      H_raw[12,1,0]      0.84      0.61      0.74      0.00      1.98    367.85      1.01\n",
      "      H_raw[13,0,0]      0.79      0.59      0.69      0.00      1.94    306.84      1.02\n",
      "      H_raw[13,1,0]      0.79      0.60      0.67      0.00      1.98    754.14      1.00\n",
      "      H_raw[14,0,0]      0.81      0.63      0.66      0.00      2.07    696.07      1.00\n",
      "      H_raw[14,1,0]      0.78      0.60      0.67      0.00      1.94    276.90      1.01\n",
      "      H_raw[15,0,0]      1.07      0.57      0.99      0.17      2.16    227.90      1.03\n",
      "      H_raw[15,1,0]      0.82      0.59      0.72      0.00      1.94    848.58      1.00\n",
      "       L_raw[0,0,0]      0.82      0.62      0.70      0.00      2.00    371.12      1.01\n",
      "       L_raw[0,1,0]      0.61      0.14      0.60      0.37      0.90     51.87      1.03\n",
      "       L_raw[1,0,0]      0.82      0.58      0.73      0.00      1.91    396.21      1.01\n",
      "       L_raw[1,1,0]      0.50      0.11      0.49      0.29      0.72     52.57      1.03\n",
      "       L_raw[2,0,0]      0.83      0.61      0.70      0.01      2.01    536.36      1.01\n",
      "       L_raw[2,1,0]      1.03      0.32      1.02      0.46      1.70    135.40      1.02\n",
      "       L_raw[3,0,0]      0.80      0.61      0.68      0.00      1.97    291.70      1.01\n",
      "       L_raw[3,1,0]      1.24      0.30      1.21      0.71      1.84     65.70      1.03\n",
      "       L_raw[4,0,0]      0.82      0.63      0.67      0.00      2.05    563.16      1.00\n",
      "       L_raw[4,1,0]      0.65      0.15      0.63      0.37      0.93     51.90      1.03\n",
      "       L_raw[5,0,0]      0.82      0.61      0.69      0.00      1.97    399.32      1.02\n",
      "       L_raw[5,1,0]      0.80      0.32      0.81      0.06      1.32     45.33      1.04\n",
      "       L_raw[6,0,0]      0.81      0.61      0.67      0.00      2.01    442.14      1.01\n",
      "       L_raw[6,1,0]      1.02      0.24      1.01      0.56      1.49     83.20      1.02\n",
      "       L_raw[7,0,0]      0.75      0.63      0.61      0.00      1.99    264.05      1.02\n",
      "       L_raw[7,1,0]      0.71      0.22      0.70      0.28      1.16     93.70      1.05\n",
      "       L_raw[8,0,0]      0.85      0.62      0.74      0.00      2.07    368.46      1.01\n",
      "       L_raw[8,1,0]      0.98      0.29      0.95      0.48      1.57    116.76      1.03\n",
      "       L_raw[9,0,0]      0.78      0.61      0.67      0.00      1.97    389.20      1.01\n",
      "       L_raw[9,1,0]      1.43      0.32      1.40      0.85      2.08     54.97      1.03\n",
      "      L_raw[10,0,0]      0.65      0.49      0.56      0.00      1.61    236.97      1.02\n",
      "      L_raw[10,1,0]      0.77      0.58      0.64      0.00      1.94    471.71      1.01\n",
      "      L_raw[11,0,0]      0.76      0.37      0.71      0.19      1.50    149.87      1.05\n",
      "      L_raw[11,1,0]      0.78      0.61      0.65      0.00      1.96    342.74      1.00\n",
      "      L_raw[12,0,0]      1.62      0.65      1.57      0.43      2.86    475.36      1.01\n",
      "      L_raw[12,1,0]      0.80      0.58      0.69      0.00      1.93    444.38      1.01\n",
      "      L_raw[13,0,0]      0.36      0.18      0.33      0.09      0.72    144.25      1.05\n",
      "      L_raw[13,1,0]      0.79      0.61      0.65      0.00      1.97    543.44      1.00\n",
      "      L_raw[14,0,0]      0.61      0.45      0.51      0.00      1.48    377.73      1.01\n",
      "      L_raw[14,1,0]      0.83      0.61      0.69      0.00      1.98    332.75      1.01\n",
      "      L_raw[15,0,0]      0.77      0.37      0.70      0.21      1.52    143.68      1.05\n",
      "      L_raw[15,1,0]      0.80      0.60      0.67      0.00      1.95    315.33      1.01\n",
      "       a_raw[0,0,0]      0.00      1.06     -0.02     -1.96      2.18    329.68      1.01\n",
      "       a_raw[0,1,0]      0.30      0.42      0.27     -0.47      1.15     36.25      1.10\n",
      "       a_raw[1,0,0]      0.05      1.00      0.07     -1.72      2.08    446.65      1.01\n",
      "       a_raw[1,1,0]      1.14      1.50      1.27     -1.74      3.55     32.04      1.14\n",
      "       a_raw[2,0,0]      0.11      1.00      0.15     -1.88      2.00    328.81      1.01\n",
      "       a_raw[2,1,0]      1.29      0.70      1.20      0.07      2.56     35.08      1.11\n",
      "       a_raw[3,0,0]      0.02      0.97      0.02     -1.91      1.85    478.71      1.00\n",
      "       a_raw[3,1,0]     -0.54      0.35     -0.54     -1.20      0.11     88.12      1.04\n",
      "       a_raw[4,0,0]     -0.01      0.99      0.01     -1.91      1.78    482.19      1.00\n",
      "       a_raw[4,1,0]      0.40      0.45      0.37     -0.41      1.29     32.80      1.12\n",
      "       a_raw[5,0,0]     -0.04      1.03     -0.04     -1.95      1.96    152.65      1.03\n",
      "       a_raw[5,1,0]     -0.36      0.35     -0.38     -1.00      0.32     69.07      1.04\n",
      "       a_raw[6,0,0]     -0.01      1.01      0.03     -1.92      2.00    294.52      1.01\n",
      "       a_raw[6,1,0]     -1.07      0.45     -1.04     -1.94     -0.24     58.34      1.10\n",
      "       a_raw[7,0,0]      0.01      1.01      0.01     -1.99      1.89    649.11      1.00\n",
      "       a_raw[7,1,0]      0.58      0.55      0.54     -0.38      1.67     38.23      1.11\n",
      "       a_raw[8,0,0]      0.03      0.97      0.01     -1.80      2.02    473.03      1.01\n",
      "       a_raw[8,1,0]     -0.14      0.35     -0.15     -0.77      0.53     57.51      1.05\n",
      "       a_raw[9,0,0]      0.14      0.99      0.16     -1.74      1.99    379.38      1.01\n",
      "       a_raw[9,1,0]     -1.06      0.43     -1.02     -1.95     -0.29     64.49      1.07\n",
      "      a_raw[10,0,0]      0.08      0.93      0.08     -1.79      1.88    335.31      1.02\n",
      "      a_raw[10,1,0]     -0.02      0.96      0.00     -1.90      1.90    337.98      1.01\n",
      "      a_raw[11,0,0]      0.21      1.05      0.21     -1.80      2.26    236.66      1.02\n",
      "      a_raw[11,1,0]      0.11      1.05      0.04     -1.77      2.12    133.08      1.04\n",
      "      a_raw[12,0,0]     -0.64      0.95     -0.65     -2.61      1.14    268.78      1.02\n",
      "      a_raw[12,1,0]     -0.00      0.98     -0.02     -2.02      1.76    447.63      1.00\n",
      "      a_raw[13,0,0]      0.19      1.01      0.23     -1.78      2.16    232.08      1.02\n",
      "      a_raw[13,1,0]      0.04      0.95      0.03     -1.77      1.96    522.81      1.01\n",
      "      a_raw[14,0,0]      0.02      0.98      0.08     -2.00      1.81    400.65      1.02\n",
      "      a_raw[14,1,0]     -0.02      0.93     -0.04     -1.78      1.75    342.02      1.00\n",
      "      a_raw[15,0,0]      0.18      0.84      0.15     -1.56      1.91    187.12      1.05\n",
      "      a_raw[15,1,0]      0.01      0.94     -0.03     -1.87      1.77    303.42      1.01\n",
      "       b_raw[0,0,0]      0.83      0.61      0.71      0.00      1.97    362.03      1.03\n",
      "       b_raw[0,1,0]      1.16      0.51      1.07      0.33      2.21    155.96      1.02\n",
      "       b_raw[1,0,0]      0.81      0.59      0.70      0.00      1.95    636.20      1.01\n",
      "       b_raw[1,1,0]      0.41      0.57      0.12      0.00      1.63     46.03      1.08\n",
      "       b_raw[2,0,0]      0.82      0.57      0.72      0.00      1.92    933.28      1.00\n",
      "       b_raw[2,1,0]      0.90      0.51      0.82      0.13      1.89    127.66      1.02\n",
      "       b_raw[3,0,0]      0.81      0.59      0.70      0.00      1.92    505.94      1.00\n",
      "       b_raw[3,1,0]      0.93      0.45      0.86      0.14      1.81    145.54      1.05\n",
      "       b_raw[4,0,0]      0.78      0.58      0.67      0.01      1.86    675.27      1.01\n",
      "       b_raw[4,1,0]      0.76      0.43      0.68      0.06      1.57     76.44      1.06\n",
      "       b_raw[5,0,0]      0.77      0.61      0.64      0.00      1.94    355.45      1.03\n",
      "       b_raw[5,1,0]      0.45      0.29      0.38      0.05      1.01    181.25      1.02\n",
      "       b_raw[6,0,0]      0.89      0.61      0.81      0.00      2.03    627.64      1.01\n",
      "       b_raw[6,1,0]      0.73      0.35      0.67      0.14      1.37    188.59      1.03\n",
      "       b_raw[7,0,0]      0.78      0.59      0.64      0.00      1.91    434.52      1.01\n",
      "       b_raw[7,1,0]      1.10      0.46      1.03      0.33      1.99    162.87      1.03\n",
      "       b_raw[8,0,0]      0.78      0.60      0.65      0.00      1.94    402.02      1.01\n",
      "       b_raw[8,1,0]      0.70      0.38      0.62      0.12      1.44    162.65      1.02\n",
      "       b_raw[9,0,0]      0.81      0.58      0.70      0.00      1.91    513.79      1.01\n",
      "       b_raw[9,1,0]      1.23      0.50      1.19      0.32      2.16    194.73      1.02\n",
      "      b_raw[10,0,0]      0.77      0.50      0.66      0.04      1.75    322.15      1.00\n",
      "      b_raw[10,1,0]      0.79      0.58      0.66      0.00      1.91    531.57      1.01\n",
      "      b_raw[11,0,0]      0.60      0.52      0.44      0.00      1.65    359.02      1.01\n",
      "      b_raw[11,1,0]      0.79      0.60      0.67      0.01      1.94    382.81      1.00\n",
      "      b_raw[12,0,0]      0.94      0.56      0.86      0.04      2.02    314.12      1.01\n",
      "      b_raw[12,1,0]      0.81      0.62      0.68      0.00      2.00    621.41      1.00\n",
      "      b_raw[13,0,0]      0.24      0.36      0.08      0.00      1.02    167.11      1.02\n",
      "      b_raw[13,1,0]      0.82      0.62      0.69      0.00      2.02    484.63      1.01\n",
      "      b_raw[14,0,0]      0.49      0.43      0.35      0.00      1.38    324.63      1.01\n",
      "      b_raw[14,1,0]      0.80      0.60      0.67      0.00      1.95    324.25      1.01\n",
      "      b_raw[15,0,0]      1.33      0.61      1.25      0.26      2.54    321.22      1.01\n",
      "      b_raw[15,1,0]      0.77      0.60      0.64      0.00      1.92    366.15      1.01\n",
      "     g_1_raw[0,0,0]      3.39     15.08      0.97      0.00     11.59   1125.88      1.00\n",
      "     g_1_raw[0,1,0]      1.24      0.53      1.14      0.40      2.31     84.11      1.05\n",
      "     g_1_raw[1,0,0]      5.35     54.39      1.06      0.00     14.84   1152.96      1.00\n",
      "     g_1_raw[1,1,0]      3.86     14.44      1.05      0.00     13.13   1337.96      1.00\n",
      "     g_1_raw[2,0,0]      5.28     23.25      1.05      0.00     16.56    272.75      1.01\n",
      "     g_1_raw[2,1,0]      5.92      2.59      5.42      1.98     11.16     89.86      1.05\n",
      "     g_1_raw[3,0,0]      3.77     16.60      1.03      0.00     14.08   1120.06      1.00\n",
      "     g_1_raw[3,1,0]      0.99      0.40      0.93      0.34      1.78     81.22      1.06\n",
      "     g_1_raw[4,0,0]      6.69    148.32      0.95      0.00     16.03   2666.76      1.00\n",
      "     g_1_raw[4,1,0]      1.58      0.67      1.48      0.51      2.91    100.42      1.04\n",
      "     g_1_raw[5,0,0]      3.41     23.93      0.94      0.00     10.99   1854.82      1.00\n",
      "     g_1_raw[5,1,0]      0.52      0.21      0.50      0.18      0.94     71.71      1.07\n",
      "     g_1_raw[6,0,0]      4.91     83.22      0.87      0.00      8.95   2906.50      1.00\n",
      "     g_1_raw[6,1,0]      1.12      0.45      1.06      0.36      1.97     70.40      1.07\n",
      "     g_1_raw[7,0,0]      3.89     20.63      0.97      0.00     11.49   1901.21      1.00\n",
      "     g_1_raw[7,1,0]      0.74      0.30      0.69      0.26      1.36     70.27      1.06\n",
      "     g_1_raw[8,0,0]     14.64    151.85      1.16      0.00     26.40    876.15      1.00\n",
      "     g_1_raw[8,1,0]      0.48      0.20      0.44      0.16      0.89     71.55      1.05\n",
      "     g_1_raw[9,0,0]      6.77     56.68      1.12      0.00     12.43    864.12      1.01\n",
      "     g_1_raw[9,1,0]      0.54      0.23      0.50      0.15      0.98     64.85      1.06\n",
      "    g_1_raw[10,0,0]      1.72      1.44      1.37      0.02      4.11    171.42      1.05\n",
      "    g_1_raw[10,1,0]      9.05     57.09      1.07      0.00     15.31    476.54      1.01\n",
      "    g_1_raw[11,0,0]      1.03      1.15      0.66      0.00      3.17    411.49      1.01\n",
      "    g_1_raw[11,1,0]      3.80     17.97      0.95      0.00     12.01   1091.59      1.00\n",
      "    g_1_raw[12,0,0]      0.72      0.54      0.58      0.07      1.70    120.62      1.05\n",
      "    g_1_raw[12,1,0]      3.44     25.87      0.87      0.00      8.86   1697.33      1.00\n",
      "    g_1_raw[13,0,0]     10.70     69.20      1.07      0.00     16.66    222.93      1.03\n",
      "    g_1_raw[13,1,0]      3.16     11.72      1.04      0.00     10.34    992.30      1.00\n",
      "    g_1_raw[14,0,0]      3.30      2.84      2.63      0.07      7.95    209.01      1.05\n",
      "    g_1_raw[14,1,0]      3.91     24.15      0.97      0.00     11.79    801.86      1.00\n",
      "    g_1_raw[15,0,0]      0.69      0.52      0.56      0.09      1.62    114.96      1.05\n",
      "    g_1_raw[15,1,0]      9.77     82.04      1.01      0.00     14.85    227.78      1.02\n",
      "     g_2_raw[0,0,0]    144.93   2485.74      1.12      0.00     16.26    318.12      1.01\n",
      "     g_2_raw[0,1,0]     28.45     40.04     20.67      4.00     66.81    509.45      1.02\n",
      "     g_2_raw[1,0,0]      4.46     16.51      1.05      0.00     14.44    564.51      1.01\n",
      "     g_2_raw[1,1,0]     25.57     18.69     20.33      5.31     58.44    327.77      1.01\n",
      "     g_2_raw[2,0,0]      9.45    110.38      0.97      0.00     12.91    880.48      1.00\n",
      "     g_2_raw[2,1,0]      1.78      3.85      0.96      0.06      5.32    584.75      1.01\n",
      "     g_2_raw[3,0,0]      7.76    240.94      1.06      0.00     10.51   2604.58      1.00\n",
      "     g_2_raw[3,1,0]     11.63     38.37      5.40      0.46     29.40    285.05      1.01\n",
      "     g_2_raw[4,0,0]      3.38     19.78      0.91      0.00     12.12   1203.56      1.00\n",
      "     g_2_raw[4,1,0]    199.19    199.46    136.71     17.96    564.44    250.63      1.01\n",
      "     g_2_raw[5,0,0]     53.52    965.85      1.08      0.00     12.61    246.91      1.01\n",
      "     g_2_raw[5,1,0]      2.36      2.69      1.67      0.21      6.47    387.51      1.01\n",
      "     g_2_raw[6,0,0]      2.83      9.17      0.89      0.00     10.52   1044.32      1.01\n",
      "     g_2_raw[6,1,0]     11.52     27.41      4.37      0.18     37.73    310.14      1.02\n",
      "     g_2_raw[7,0,0]      5.79     41.87      1.14      0.00     12.37    459.30      1.01\n",
      "     g_2_raw[7,1,0]     23.07     43.56     11.43      0.08     81.60    750.60      1.01\n",
      "     g_2_raw[8,0,0]      3.95     13.45      1.05      0.00     13.76    912.39      1.00\n",
      "     g_2_raw[8,1,0]      1.95      2.95      1.25      0.12      5.22    329.66      1.01\n",
      "     g_2_raw[9,0,0]      4.05     22.60      1.05      0.00     11.54   1138.62      1.00\n",
      "     g_2_raw[9,1,0]     39.53    103.80     11.50      1.48    170.90    363.24      1.01\n",
      "    g_2_raw[10,0,0]      1.16      5.25      0.44      0.00      2.95    450.66      1.01\n",
      "    g_2_raw[10,1,0]      6.73     81.58      1.03      0.00     16.15   1347.26      1.00\n",
      "    g_2_raw[11,0,0]      9.69     18.41      4.73      0.31     32.93    437.18      1.00\n",
      "    g_2_raw[11,1,0]      3.83     18.27      1.01      0.00     10.30    560.75      1.01\n",
      "    g_2_raw[12,0,0]      1.97      7.20      0.76      0.00      6.42   1579.38      1.00\n",
      "    g_2_raw[12,1,0]      4.24     18.32      0.93      0.00     14.81    433.84      1.01\n",
      "    g_2_raw[13,0,0]     17.19     15.84     13.01      0.05     40.80    272.96      1.02\n",
      "    g_2_raw[13,1,0]      8.56    184.39      0.91      0.00      9.10    935.31      1.00\n",
      "    g_2_raw[14,0,0]      1.14      7.55      0.31      0.00      3.32   1461.90      1.00\n",
      "    g_2_raw[14,1,0]      6.53     56.54      1.02      0.00     13.81    539.40      1.01\n",
      "    g_2_raw[15,0,0]    121.98    222.82     68.92      4.06    380.31    499.77      1.00\n",
      "    g_2_raw[15,1,0]      3.85     16.31      1.03      0.00     14.35    654.42      1.01\n",
      "  global_sigma_H[0]      4.69      2.22      4.28      1.27      9.05    281.86      1.00\n",
      "  global_sigma_L[0]      0.10      0.14      0.05      0.01      0.35    189.32      1.01\n",
      "  global_sigma_b[0]      3.47      9.43      1.13      0.08     12.71    208.16      1.02\n",
      "global_sigma_g_1[0]     21.48     22.16     13.45      1.09     68.26     93.60      1.05\n",
      "global_sigma_g_2[0]    303.73     67.17    301.39    178.52    440.42    358.26      1.01\n",
      "  global_sigma_l[0]      5.60     15.26      1.47      0.04     26.18    245.48      1.01\n",
      "  global_sigma_p[0]    132.36     46.15    124.44     53.33    221.78    261.42      1.01\n",
      "  global_sigma_v[0]     53.56     44.33     41.52      0.39    142.47    238.07      1.01\n",
      "       l_raw[0,0,0]      0.84      0.62      0.71      0.00      2.02    377.73      1.00\n",
      "       l_raw[0,1,0]      0.78      0.51      0.68      0.02      1.75    237.03      1.03\n",
      "       l_raw[1,0,0]      0.82      0.60      0.71      0.00      1.95    727.23      1.00\n",
      "       l_raw[1,1,0]      0.46      0.56      0.24      0.00      1.62     74.85      1.06\n",
      "       l_raw[2,0,0]      0.83      0.61      0.71      0.00      2.02    741.01      1.00\n",
      "       l_raw[2,1,0]      0.65      0.58      0.50      0.00      1.77    248.38      1.02\n",
      "       l_raw[3,0,0]      0.82      0.62      0.69      0.00      2.05    375.69      1.02\n",
      "       l_raw[3,1,0]      0.21      0.25      0.12      0.00      0.70    349.29      1.02\n",
      "       l_raw[4,0,0]      0.76      0.59      0.60      0.00      1.96    474.17      1.00\n",
      "       l_raw[4,1,0]      0.59      0.48      0.44      0.02      1.57     65.44      1.06\n",
      "       l_raw[5,0,0]      0.80      0.61      0.66      0.00      1.97    215.08      1.03\n",
      "       l_raw[5,1,0]      1.22      0.66      1.15      0.12      2.48    218.68      1.01\n",
      "       l_raw[6,0,0]      0.83      0.60      0.71      0.00      1.95    397.40      1.02\n",
      "       l_raw[6,1,0]      0.35      0.37      0.23      0.00      1.08    198.45      1.03\n",
      "       l_raw[7,0,0]      0.82      0.60      0.71      0.00      1.98    454.80      1.00\n",
      "       l_raw[7,1,0]      0.45      0.40      0.35      0.00      1.25    202.50      1.02\n",
      "       l_raw[8,0,0]      0.82      0.62      0.69      0.00      2.04    521.48      1.01\n",
      "       l_raw[8,1,0]      1.53      0.66      1.49      0.40      2.88    380.26      1.01\n",
      "       l_raw[9,0,0]      0.73      0.61      0.61      0.00      1.95    190.80      1.03\n",
      "       l_raw[9,1,0]      0.88      0.51      0.78      0.13      1.98    215.36      1.03\n",
      "      l_raw[10,0,0]      1.10      0.62      1.02      0.02      2.21    115.07      1.05\n",
      "      l_raw[10,1,0]      0.81      0.61      0.69      0.00      2.00    515.08      1.01\n",
      "      l_raw[11,0,0]      0.36      0.41      0.20      0.00      1.24    450.75      1.01\n",
      "      l_raw[11,1,0]      0.77      0.59      0.64      0.00      1.89    447.54      1.00\n",
      "      l_raw[12,0,0]      1.14      0.60      1.02      0.17      2.32    428.74      1.02\n",
      "      l_raw[12,1,0]      0.83      0.60      0.71      0.00      2.01    749.12      1.01\n",
      "      l_raw[13,0,0]      0.27      0.41      0.08      0.00      1.17    146.25      1.03\n",
      "      l_raw[13,1,0]      0.79      0.59      0.65      0.00      1.94    514.73      1.01\n",
      "      l_raw[14,0,0]      0.54      0.50      0.38      0.00      1.55    173.75      1.04\n",
      "      l_raw[14,1,0]      0.80      0.58      0.70      0.00      1.92    647.54      1.00\n",
      "      l_raw[15,0,0]      1.00      0.60      0.91      0.06      2.11    227.83      1.03\n",
      "      l_raw[15,1,0]      0.76      0.61      0.62      0.00      1.93    356.48      1.01\n",
      " mu_a_baseline[0,0]     38.97      1.90     39.09     34.73     42.34    142.01      1.03\n",
      "    mu_a_delta[0,0]     -6.72      4.47     -7.25    -14.54      2.44     45.29      1.06\n",
      "       p_raw[0,0,0]      0.85      0.60      0.75      0.00      1.99    506.86      1.01\n",
      "       p_raw[0,1,0]      0.95      0.39      0.88      0.36      1.75    310.48      1.01\n",
      "       p_raw[1,0,0]      0.78      0.59      0.66      0.00      1.93    633.90      1.02\n",
      "       p_raw[1,1,0]      0.56      0.45      0.46      0.00      1.40    351.84      1.02\n",
      "       p_raw[2,0,0]      0.81      0.60      0.67      0.01      1.98    347.98      1.00\n",
      "       p_raw[2,1,0]      0.91      0.45      0.84      0.17      1.79    198.49      1.03\n",
      "       p_raw[3,0,0]      0.79      0.60      0.68      0.00      1.93    562.70      1.00\n",
      "       p_raw[3,1,0]      0.74      0.29      0.70      0.28      1.30    151.05      1.02\n",
      "       p_raw[4,0,0]      0.81      0.61      0.67      0.00      1.92    373.76      1.01\n",
      "       p_raw[4,1,0]      1.82      0.51      1.79      0.87      2.82    213.52      1.03\n",
      "       p_raw[5,0,0]      0.83      0.62      0.73      0.00      1.96    200.96      1.01\n",
      "       p_raw[5,1,0]      0.63      0.38      0.51      0.14      1.43    257.43      1.01\n",
      "       p_raw[6,0,0]      0.82      0.58      0.72      0.01      1.91    510.63      1.00\n",
      "       p_raw[6,1,0]      0.84      0.39      0.79      0.20      1.57    161.55      1.04\n",
      "       p_raw[7,0,0]      0.76      0.59      0.62      0.00      1.89    481.47      1.01\n",
      "       p_raw[7,1,0]      1.22      0.48      1.20      0.26      2.11    179.05      1.02\n",
      "       p_raw[8,0,0]      0.80      0.61      0.67      0.00      2.00    518.98      1.01\n",
      "       p_raw[8,1,0]      0.66      0.31      0.61      0.13      1.28    381.98      1.01\n",
      "       p_raw[9,0,0]      0.77      0.60      0.63      0.00      1.93    438.30      1.01\n",
      "       p_raw[9,1,0]      0.70      0.35      0.60      0.18      1.41    170.33      1.02\n",
      "      p_raw[10,0,0]      0.32      0.31      0.23      0.02      0.87    235.31      1.01\n",
      "      p_raw[10,1,0]      0.73      0.57      0.59      0.00      1.85    497.29      1.01\n",
      "      p_raw[11,0,0]      0.97      0.43      0.90      0.21      1.83    155.57      1.05\n",
      "      p_raw[11,1,0]      0.81      0.60      0.69      0.00      1.95    454.34      1.02\n",
      "      p_raw[12,0,0]      0.61      0.37      0.53      0.08      1.39    316.23      1.03\n",
      "      p_raw[12,1,0]      0.75      0.57      0.62      0.01      1.84    252.02      1.01\n",
      "      p_raw[13,0,0]      0.56      0.49      0.43      0.00      1.58    219.43      1.01\n",
      "      p_raw[13,1,0]      0.77      0.59      0.64      0.00      1.93    472.86      1.01\n",
      "      p_raw[14,0,0]      1.09      0.75      1.03      0.00      2.43     47.78      1.08\n",
      "      p_raw[14,1,0]      0.81      0.60      0.69      0.00      1.98    360.02      1.00\n",
      "      p_raw[15,0,0]      1.21      0.52      1.11      0.35      2.18    197.75      1.02\n",
      "      p_raw[15,1,0]      0.80      0.60      0.69      0.00      1.96    811.52      1.01\n",
      "   sigma_H_raw[0,0]      0.86      0.52      0.72      0.12      1.91    252.91      1.03\n",
      "   sigma_H_raw[1,0]      0.89      0.46      0.78      0.24      1.84    177.27      1.01\n",
      "   sigma_L_raw[0,0]      0.65      0.52      0.51      0.01      1.69     93.08      1.05\n",
      "   sigma_L_raw[1,0]      0.30      0.28      0.22      0.01      0.87    106.99      1.05\n",
      "   sigma_b_raw[0,0]      0.43      0.44      0.28      0.00      1.40    263.82      1.02\n",
      "   sigma_b_raw[1,0]      0.65      0.54      0.50      0.00      1.76    133.50      1.02\n",
      " sigma_g_1_raw[0,0]      0.57      0.45      0.47      0.01      1.45    113.08      1.04\n",
      " sigma_g_1_raw[1,0]      0.52      0.44      0.36      0.02      1.43     52.07      1.11\n",
      " sigma_g_2_raw[0,0]      1.56      0.62      1.51      0.38      2.75    281.01      1.02\n",
      " sigma_g_2_raw[1,0]      2.76      0.67      2.71      1.51      4.08    282.23      1.01\n",
      "   sigma_l_raw[0,0]      0.73      0.58      0.59      0.00      1.86    237.58      1.01\n",
      "   sigma_l_raw[1,0]      0.20      0.27      0.10      0.00      0.76    179.37      1.03\n",
      "   sigma_p_raw[0,0]      0.84      0.42      0.76      0.23      1.66    171.03      1.03\n",
      "   sigma_p_raw[1,0]      1.37      0.51      1.29      0.53      2.47    152.84      1.01\n",
      "   sigma_v_raw[0,0]      1.02      0.60      0.93      0.04      2.18    431.25      1.02\n",
      "   sigma_v_raw[1,0]      0.15      0.22      0.07      0.00      0.54    196.27      1.02\n",
      "       v_raw[0,0,0]      0.74      0.59      0.59      0.00      1.91    399.55      1.01\n",
      "       v_raw[0,1,0]      0.80      0.52      0.70      0.01      1.78    142.26      1.02\n",
      "       v_raw[1,0,0]      0.78      0.63      0.65      0.00      1.98    450.77      1.01\n",
      "       v_raw[1,1,0]      1.00      0.67      0.90      0.00      2.28    124.55      1.05\n",
      "       v_raw[2,0,0]      0.80      0.60      0.69      0.01      1.96    375.19      1.02\n",
      "       v_raw[2,1,0]      0.82      0.58      0.74      0.00      1.88    310.37      1.01\n",
      "       v_raw[3,0,0]      0.86      0.60      0.77      0.00      1.99    552.73      1.01\n",
      "       v_raw[3,1,0]      0.67      0.46      0.57      0.01      1.53     71.81      1.06\n",
      "       v_raw[4,0,0]      0.73      0.60      0.59      0.00      1.92    391.22      1.01\n",
      "       v_raw[4,1,0]      1.06      0.58      1.00      0.04      2.13    202.23      1.03\n",
      "       v_raw[5,0,0]      0.76      0.59      0.64      0.00      1.87    171.00      1.03\n",
      "       v_raw[5,1,0]      0.25      0.30      0.15      0.00      0.88    225.11      1.03\n",
      "       v_raw[6,0,0]      0.78      0.61      0.65      0.00      1.98    162.27      1.03\n",
      "       v_raw[6,1,0]      0.60      0.41      0.52      0.01      1.39    185.49      1.01\n",
      "       v_raw[7,0,0]      0.74      0.60      0.61      0.00      1.92    342.72      1.02\n",
      "       v_raw[7,1,0]      0.96      0.50      0.87      0.15      1.96    180.85      1.03\n",
      "       v_raw[8,0,0]      0.75      0.62      0.63      0.00      1.90    167.07      1.02\n",
      "       v_raw[8,1,0]      0.76      0.59      0.65      0.00      1.92    107.57      1.04\n",
      "       v_raw[9,0,0]      0.74      0.59      0.60      0.00      1.92    213.74      1.02\n",
      "       v_raw[9,1,0]      1.00      0.49      0.94      0.07      1.92    180.26      1.02\n",
      "      v_raw[10,0,0]      0.88      0.58      0.79      0.00      1.99    203.58      1.01\n",
      "      v_raw[10,1,0]      0.82      0.60      0.71      0.00      1.98    461.92      1.01\n",
      "      v_raw[11,0,0]      0.97      0.59      0.88      0.06      2.09    414.43      1.01\n",
      "      v_raw[11,1,0]      0.82      0.60      0.71      0.01      2.01    527.19      1.01\n",
      "      v_raw[12,0,0]      0.72      0.54      0.61      0.00      1.75    250.20      1.02\n",
      "      v_raw[12,1,0]      0.77      0.58      0.65      0.00      1.91    467.75      1.01\n",
      "      v_raw[13,0,0]      1.09      0.62      1.00      0.06      2.26    307.39      1.01\n",
      "      v_raw[13,1,0]      0.84      0.61      0.72      0.00      2.00    343.83      1.02\n",
      "      v_raw[14,0,0]      1.05      0.59      0.98      0.08      2.16    392.38      1.02\n",
      "      v_raw[14,1,0]      0.83      0.61      0.70      0.01      2.01    722.81      1.01\n",
      "      v_raw[15,0,0]      0.34      0.31      0.25      0.00      0.95    136.61      1.03\n",
      "      v_raw[15,1,0]      0.79      0.61      0.67      0.00      1.97    537.36      1.01\n",
      "           σ_a[0,0]      3.58      7.04      1.40      0.00     17.15     24.46      1.16\n",
      "           σ_a[1,0]     11.07      4.81      9.98      4.29     20.40     28.64      1.16\n",
      "\n",
      "Number of divergences: 1336\n"
     ]
    }
   ],
   "source": [
    "mcmc.print_summary(prob=.95)\n"
   ]
  },
  {
   "cell_type": "code",
   "execution_count": null,
   "metadata": {},
   "outputs": [
    {
     "name": "stderr",
     "output_type": "stream",
     "text": [
      "2023-10-27 15:51:53,418 - __main__ - INFO - Evaluating model ...\n",
      "/home/vishu/repos/hbmep-paper/.venv/lib/python3.11/site-packages/arviz/stats/stats.py:1037: RuntimeWarning: overflow encountered in exp\n",
      "  weights = 1 / np.exp(len_scale - len_scale[:, None]).sum(axis=1)\n",
      "/home/vishu/repos/hbmep-paper/.venv/lib/python3.11/site-packages/arviz/stats/stats.py:803: UserWarning: Estimated shape parameter of Pareto distribution is greater than 0.7 for one or more samples. You should consider using a more robust model, this is because importance sampling is less likely to work well if the marginal posterior and LOO posterior are very different. This is more likely to happen with a non-robust model and highly influential observations.\n",
      "  warnings.warn(\n",
      "2023-10-27 15:51:59,497 - __main__ - INFO - ELPD LOO (Log): 9011.30\n",
      "/home/vishu/repos/hbmep-paper/.venv/lib/python3.11/site-packages/arviz/stats/stats.py:1645: UserWarning: For one or more samples the posterior variance of the log predictive densities exceeds 0.4. This could be indication of WAIC starting to fail. \n",
      "See http://arxiv.org/abs/1507.04544 for details\n",
      "  warnings.warn(\n",
      "2023-10-27 15:51:59,700 - __main__ - INFO - ELPD WAIC (Log): 9033.36\n"
     ]
    }
   ],
   "source": [
    "numpyro_data = az.from_numpyro(mcmc)\n",
    "\n",
    "\"\"\" Model evaluation \"\"\"\n",
    "logger.info(\"Evaluating model ...\")\n",
    "\n",
    "score = az.loo(numpyro_data)\n",
    "logger.info(f\"ELPD LOO (Log): {score.elpd_loo:.2f}\")\n",
    "\n",
    "score = az.waic(numpyro_data)\n",
    "logger.info(f\"ELPD WAIC (Log): {score.elpd_waic:.2f}\")\n"
   ]
  },
  {
   "cell_type": "code",
   "execution_count": null,
   "metadata": {},
   "outputs": [],
   "source": [
    "import pickle\n",
    "\n",
    "dest = os.path.join(model.build_dir, \"inference.pkl\")\n",
    "with open(dest, \"wb\") as f:\n",
    "    pickle.dump((model, mcmc, posterior_samples), f)\n"
   ]
  },
  {
   "cell_type": "code",
   "execution_count": null,
   "metadata": {},
   "outputs": [
    {
     "data": {
      "text/plain": [
       "'/home/vishu/repos/hbmep-paper/reports/paper/tms/link-comparison/rectified_logistic/numpyro_data.nc'"
      ]
     },
     "execution_count": 10,
     "metadata": {},
     "output_type": "execute_result"
    }
   ],
   "source": [
    "dest = os.path.join(model.build_dir, \"numpyro_data.nc\")\n",
    "az.to_netcdf(numpyro_data, dest)\n"
   ]
  },
  {
   "cell_type": "code",
   "execution_count": 14,
   "metadata": {},
   "outputs": [],
   "source": [
    "a = posterior_samples[\"a\"]\n",
    "a = np.array(a)\n",
    "a.shape\n",
    "\n",
    "a_map = a.mean(axis=0)"
   ]
  },
  {
   "cell_type": "code",
   "execution_count": 15,
   "metadata": {},
   "outputs": [
    {
     "data": {
      "text/plain": [
       "(16, 2, 1)"
      ]
     },
     "execution_count": 15,
     "metadata": {},
     "output_type": "execute_result"
    }
   ],
   "source": [
    "a_map.shape"
   ]
  },
  {
   "cell_type": "code",
   "execution_count": null,
   "metadata": {},
   "outputs": [],
   "source": []
  },
  {
   "cell_type": "code",
   "execution_count": 17,
   "metadata": {},
   "outputs": [
    {
     "data": {
      "text/plain": [
       "TtestResult(statistic=2.393954441416075, pvalue=0.037442219957410844, df=10.114012591930747)"
      ]
     },
     "execution_count": 17,
     "metadata": {},
     "output_type": "execute_result"
    }
   ],
   "source": [
    "import scipy.stats as stats\n",
    "\n",
    "stats.ttest_ind(a_map[10:, 0, 0], a_map[:10, 1, 0], equal_var=False)\n"
   ]
  }
 ],
 "metadata": {
  "kernelspec": {
   "display_name": "Python 3 (ipykernel)",
   "language": "python",
   "name": "python3"
  },
  "language_info": {
   "codemirror_mode": {
    "name": "ipython",
    "version": 3
   },
   "file_extension": ".py",
   "mimetype": "text/x-python",
   "name": "python",
   "nbconvert_exporter": "python",
   "pygments_lexer": "ipython3",
   "version": "3.11.4"
  },
  "orig_nbformat": 4
 },
 "nbformat": 4,
 "nbformat_minor": 2
}
