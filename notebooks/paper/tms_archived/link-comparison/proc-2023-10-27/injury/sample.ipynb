{
 "cells": [
  {
   "cell_type": "code",
   "execution_count": 1,
   "metadata": {},
   "outputs": [],
   "source": [
    "%reload_ext autoreload\n",
    "%autoreload 2\n",
    "\n",
    "import os\n",
    "import pickle\n",
    "import logging\n",
    "import multiprocessing\n",
    "from pathlib import Path\n",
    "\n",
    "import pandas as pd\n",
    "import numpy as np\n",
    "import jax\n",
    "import jax.numpy as jnp\n",
    "\n",
    "import arviz as az\n",
    "import numpyro\n",
    "\n",
    "from hbmep.config import Config\n",
    "from hbmep.model.utils import Site as site\n",
    "\n",
    "PLATFORM = \"cpu\"\n",
    "jax.config.update(\"jax_platforms\", PLATFORM)\n",
    "numpyro.set_platform(PLATFORM)\n",
    "\n",
    "cpu_count = multiprocessing.cpu_count() - 2\n",
    "numpyro.set_host_device_count(cpu_count)\n",
    "numpyro.enable_x64()\n",
    "numpyro.enable_validation()\n",
    "\n",
    "logger = logging.getLogger(__name__)"
   ]
  },
  {
   "cell_type": "code",
   "execution_count": 2,
   "metadata": {},
   "outputs": [],
   "source": [
    "import numpyro.distributions as dist\n",
    "from hbmep.model import Baseline\n"
   ]
  },
  {
   "cell_type": "code",
   "execution_count": 3,
   "metadata": {},
   "outputs": [
    {
     "name": "stdout",
     "output_type": "stream",
     "text": [
      "shapes: (200,) (200,) (200,)\n",
      "n_unique: 2 3\n"
     ]
    }
   ],
   "source": [
    "rng_key = jax.random.PRNGKey(0)\n",
    "\n",
    "# Create data\n",
    "N = 100\n",
    "mu = 10\n",
    "mu00, mu11 = dist.Normal(mu, 1).sample(rng_key, (2,))\n",
    "data00 = dist.Normal(mu00, 1).sample(rng_key, (N,))\n",
    "data11 = dist.Normal(mu11, 1).sample(rng_key, (N,))\n",
    "\n",
    "df = \\\n",
    "    pd.DataFrame([[0, 0]] * N + [[1, 2]] * N, columns=[\"subject\", \"is_diabetic\"])\n",
    "df[\"response\"] = jnp.concatenate([data00, data11])\n",
    "\n",
    "subject = df[\"subject\"].values\n",
    "is_diabetic = df[\"is_diabetic\"].values\n",
    "response = df[\"response\"].values\n",
    "\n",
    "n_unique_subject = np.max(subject) + 1\n",
    "n_unique_is_diabetic = np.max(is_diabetic) + 1\n",
    "\n",
    "print(\"shapes:\", subject.shape, is_diabetic.shape, response.shape)\n",
    "print(\"n_unique:\", n_unique_subject, n_unique_is_diabetic)\n",
    "\n"
   ]
  },
  {
   "cell_type": "code",
   "execution_count": 4,
   "metadata": {},
   "outputs": [],
   "source": [
    "def hiearchical_model_with_unused_parameters(subject, n_unique_subject, is_diabetic, n_unique_is_diabetic, response=None):\n",
    "    global_mu_estimate = numpyro.sample(\"global_mu_estimate\", dist.Normal(0, 100))\n",
    "    with numpyro.plate(\"n_unique_is_diabetic\", n_unique_is_diabetic, dim=-1):\n",
    "        with numpyro.plate(\"n_unique_subject\", n_unique_subject, dim=-2):\n",
    "            mu_estimate = numpyro.sample(\"mu_estimate\", dist.Normal(global_mu_estimate, 10))\n",
    "\n",
    "    with numpyro.plate(\"data\", len(subject)):\n",
    "        numpyro.sample(\"obs\", dist.Normal(mu_estimate[subject, is_diabetic], 1), obs=response)\n",
    "\n",
    "\n",
    "def hiearchical_model_for_sanity_check(subject, n_unique_subject, response=None):\n",
    "    global_mu_estimate = numpyro.sample(\"global_mu_estimate\", dist.Normal(0, 100))\n",
    "    with numpyro.plate(\"n_unique_subject\", n_unique_subject, dim=-1):\n",
    "        mu_estimate = numpyro.sample(\"mu_estimate\", dist.Normal(global_mu_estimate, 10))\n",
    "\n",
    "    with numpyro.plate(\"data\", len(subject)):\n",
    "        numpyro.sample(\"obs\", dist.Normal(mu_estimate[subject], 1), obs=response)\n"
   ]
  },
  {
   "cell_type": "code",
   "execution_count": 5,
   "metadata": {},
   "outputs": [
    {
     "data": {
      "application/vnd.jupyter.widget-view+json": {
       "model_id": "c9640f45c84c4e29b9ca13d6c29b7a34",
       "version_major": 2,
       "version_minor": 0
      },
      "text/plain": [
       "  0%|          | 0/2500 [00:00<?, ?it/s]"
      ]
     },
     "metadata": {},
     "output_type": "display_data"
    },
    {
     "data": {
      "application/vnd.jupyter.widget-view+json": {
       "model_id": "6ea9c0aaa4264abaa479f6b4e5ddcb8d",
       "version_major": 2,
       "version_minor": 0
      },
      "text/plain": [
       "  0%|          | 0/2500 [00:00<?, ?it/s]"
      ]
     },
     "metadata": {},
     "output_type": "display_data"
    },
    {
     "data": {
      "application/vnd.jupyter.widget-view+json": {
       "model_id": "c63cb6af42694b2187f2dbf9ccea0271",
       "version_major": 2,
       "version_minor": 0
      },
      "text/plain": [
       "  0%|          | 0/2500 [00:00<?, ?it/s]"
      ]
     },
     "metadata": {},
     "output_type": "display_data"
    },
    {
     "data": {
      "application/vnd.jupyter.widget-view+json": {
       "model_id": "7622157ad2744113abe2c6822278dc32",
       "version_major": 2,
       "version_minor": 0
      },
      "text/plain": [
       "  0%|          | 0/2500 [00:00<?, ?it/s]"
      ]
     },
     "metadata": {},
     "output_type": "display_data"
    },
    {
     "name": "stdout",
     "output_type": "stream",
     "text": [
      "\n",
      "                          mean       std    median      5.0%     95.0%     n_eff     r_hat\n",
      "  global_mu_estimate     10.24      6.90     10.14     -1.43     21.19   3426.38      1.00\n",
      "    mu_estimate[0,0]     11.74      0.10     11.74     11.56     11.89  10828.78      1.00\n",
      "    mu_estimate[0,1]     10.18     12.03     10.07     -9.58     29.65   4882.29      1.00\n",
      "    mu_estimate[0,2]     10.20     12.27     10.29     -8.65     31.68   5005.39      1.00\n",
      "    mu_estimate[1,0]     10.15     12.27     10.24    -10.79     29.36   5080.25      1.00\n",
      "    mu_estimate[1,1]     10.23     12.03     10.14     -8.29     30.99   4424.68      1.00\n",
      "    mu_estimate[1,2]      9.17      0.10      9.17      9.00      9.33  10201.05      1.00\n",
      "\n",
      "Number of divergences: 0\n"
     ]
    }
   ],
   "source": [
    "from numpyro.infer import MCMC, NUTS\n",
    "\n",
    "num_warmup, num_samples = 500, 2000\n",
    "\n",
    "# Run NUTS\n",
    "sampler = NUTS(hiearchical_model_with_unused_parameters)\n",
    "mcmc = MCMC(sampler, num_warmup=num_warmup, num_samples=num_samples, num_chains=4)\n",
    "mcmc.run(rng_key, subject=subject, n_unique_subject=n_unique_subject, is_diabetic=is_diabetic, n_unique_is_diabetic=n_unique_is_diabetic, response=response)\n",
    "posterior_samples = mcmc.get_samples()\n",
    "mcmc.print_summary()\n"
   ]
  },
  {
   "cell_type": "code",
   "execution_count": 6,
   "metadata": {},
   "outputs": [
    {
     "data": {
      "application/vnd.jupyter.widget-view+json": {
       "model_id": "7f07241f0c124aa9949cae5299827c08",
       "version_major": 2,
       "version_minor": 0
      },
      "text/plain": [
       "  0%|          | 0/2500 [00:00<?, ?it/s]"
      ]
     },
     "metadata": {},
     "output_type": "display_data"
    },
    {
     "data": {
      "application/vnd.jupyter.widget-view+json": {
       "model_id": "cdedb7800f7f4c5c9e5532bbb38c0efc",
       "version_major": 2,
       "version_minor": 0
      },
      "text/plain": [
       "  0%|          | 0/2500 [00:00<?, ?it/s]"
      ]
     },
     "metadata": {},
     "output_type": "display_data"
    },
    {
     "data": {
      "application/vnd.jupyter.widget-view+json": {
       "model_id": "1dd7811d473f40c8ac198c2936557064",
       "version_major": 2,
       "version_minor": 0
      },
      "text/plain": [
       "  0%|          | 0/2500 [00:00<?, ?it/s]"
      ]
     },
     "metadata": {},
     "output_type": "display_data"
    },
    {
     "data": {
      "application/vnd.jupyter.widget-view+json": {
       "model_id": "d060f42efe6442b593a8f0e23572f1cf",
       "version_major": 2,
       "version_minor": 0
      },
      "text/plain": [
       "  0%|          | 0/2500 [00:00<?, ?it/s]"
      ]
     },
     "metadata": {},
     "output_type": "display_data"
    },
    {
     "name": "stdout",
     "output_type": "stream",
     "text": [
      "\n",
      "                          mean       std    median      5.0%     95.0%     n_eff     r_hat\n",
      "  global_mu_estimate     10.32      7.05     10.37     -1.21     21.43   8386.26      1.00\n",
      "      mu_estimate[0]     11.74      0.10     11.74     11.58     11.91   7317.59      1.00\n",
      "      mu_estimate[1]      9.17      0.10      9.17      9.00      9.33   8295.34      1.00\n",
      "\n",
      "Number of divergences: 0\n"
     ]
    }
   ],
   "source": [
    "num_warmup, num_samples = 500, 2000\n",
    "\n",
    "# Run NUTS\n",
    "sampler = NUTS(hiearchical_model_for_sanity_check)\n",
    "mcmc = MCMC(sampler, num_warmup=num_warmup, num_samples=num_samples, num_chains=4)\n",
    "mcmc.run(rng_key, subject=subject, n_unique_subject=n_unique_subject, response=response)\n",
    "posterior_samples = mcmc.get_samples()\n",
    "mcmc.print_summary()"
   ]
  },
  {
   "cell_type": "code",
   "execution_count": 7,
   "metadata": {},
   "outputs": [
    {
     "data": {
      "text/plain": [
       "(Array(11.81608667, dtype=float64), Array(9.24511516, dtype=float64))"
      ]
     },
     "execution_count": 7,
     "metadata": {},
     "output_type": "execute_result"
    }
   ],
   "source": [
    "mu00, mu11"
   ]
  },
  {
   "cell_type": "code",
   "execution_count": null,
   "metadata": {},
   "outputs": [],
   "source": []
  }
 ],
 "metadata": {
  "kernelspec": {
   "display_name": "Python 3 (ipykernel)",
   "language": "python",
   "name": "python3"
  },
  "orig_nbformat": 4
 },
 "nbformat": 4,
 "nbformat_minor": 2
}
