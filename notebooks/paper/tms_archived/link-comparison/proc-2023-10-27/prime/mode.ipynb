{
 "cells": [
  {
   "cell_type": "code",
   "execution_count": 1,
   "metadata": {},
   "outputs": [],
   "source": [
    "%reload_ext autoreload\n",
    "%autoreload 2\n",
    "\n",
    "import os\n",
    "import pickle\n",
    "import logging\n",
    "import multiprocessing\n",
    "from pathlib import Path\n",
    "\n",
    "import pandas as pd\n",
    "import numpy as np\n",
    "import jax\n",
    "import jax.numpy as jnp\n",
    "\n",
    "import arviz as az\n",
    "import numpyro\n",
    "\n",
    "from hbmep.config import Config\n",
    "from hbmep.model.utils import Site as site\n",
    "\n",
    "PLATFORM = \"cpu\"\n",
    "jax.config.update(\"jax_platforms\", PLATFORM)\n",
    "numpyro.set_platform(PLATFORM)\n",
    "\n",
    "cpu_count = multiprocessing.cpu_count() - 2\n",
    "numpyro.set_host_device_count(cpu_count)\n",
    "numpyro.enable_x64()\n",
    "numpyro.enable_validation()\n",
    "\n",
    "logger = logging.getLogger(__name__)"
   ]
  },
  {
   "cell_type": "code",
   "execution_count": 2,
   "metadata": {},
   "outputs": [],
   "source": [
    "from xml.sax import xmlreader\n",
    "import numpyro.distributions as dist\n",
    "from hbmep.model import Baseline\n",
    "\n",
    "\n",
    "class RectifiedLogistic(Baseline):\n",
    "    LINK = \"rectified_logistic\"\n",
    "\n",
    "    def __init__(self, config: Config):\n",
    "        super(RectifiedLogistic, self).__init__(config=config)\n",
    "        self.combination_columns = self.features + [self.subject]\n",
    "\n",
    "    def fn(self, x, a, b, v, L, l, H):\n",
    "        return (\n",
    "            L\n",
    "            + jnp.where(\n",
    "                jnp.less(x, a),\n",
    "                0.,\n",
    "                -l + jnp.true_divide(\n",
    "                    H + l,\n",
    "                    jnp.power(\n",
    "                        1\n",
    "                        + jnp.multiply(\n",
    "                            -1\n",
    "                            + jnp.power(\n",
    "                                jnp.true_divide(H + l, l),\n",
    "                                v\n",
    "                            ),\n",
    "                            jnp.exp(-b * (x - a))\n",
    "                        ),\n",
    "                        1 / v\n",
    "                    )\n",
    "                )\n",
    "            )\n",
    "        )\n",
    "\n",
    "    def _model(self, subject, features, intensity, response_obs=None):\n",
    "        subject, n_subject = subject\n",
    "        features, n_features = features\n",
    "        intensity, n_data = intensity\n",
    "\n",
    "        intensity = intensity.reshape(-1, 1)\n",
    "        intensity = np.tile(intensity, (1, self.n_response))\n",
    "\n",
    "        feature0 = features[0].reshape(-1,)\n",
    "        n_feature0 = n_features[0]\n",
    "\n",
    "        with numpyro.plate(site.n_response, self.n_response, dim=-1):\n",
    "            global_sigma_b = numpyro.sample(\"global_sigma_b\", dist.HalfNormal(100))\n",
    "            global_sigma_v = numpyro.sample(\"global_sigma_v\", dist.HalfNormal(100))\n",
    "\n",
    "            global_sigma_L = numpyro.sample(\"global_sigma_L\", dist.HalfNormal(1))\n",
    "            global_sigma_l = numpyro.sample(\"global_sigma_l\", dist.HalfNormal(100))\n",
    "            global_sigma_H = numpyro.sample(\"global_sigma_H\", dist.HalfNormal(5))\n",
    "\n",
    "            global_sigma_g_1 = numpyro.sample(\"global_sigma_g_1\", dist.HalfNormal(100))\n",
    "            global_sigma_g_2 = numpyro.sample(\"global_sigma_g_2\", dist.HalfNormal(100))\n",
    "\n",
    "            # global_sigma_p = numpyro.sample(\"global_sigma_p\", dist.HalfNormal(100))\n",
    "\n",
    "            with numpyro.plate(\"n_feature0\", n_feature0, dim=-2):\n",
    "                \"\"\" Hyper-priors \"\"\"\n",
    "                mu_a = numpyro.sample(site.mu_a, dist.HalfNormal(scale=5))\n",
    "                sigma_a = numpyro.sample(site.sigma_a, dist.HalfNormal(scale=1 / 10))\n",
    "\n",
    "                sigma_b_raw = numpyro.sample(\"sigma_b_raw\", dist.HalfNormal(scale=1))\n",
    "                sigma_b = numpyro.deterministic(site.sigma_b, global_sigma_b * sigma_b_raw)\n",
    "\n",
    "                sigma_v_raw = numpyro.sample(\"sigma_v_raw\", dist.HalfNormal(scale=1))\n",
    "                sigma_v = numpyro.deterministic(site.sigma_v, global_sigma_v * sigma_v_raw)\n",
    "\n",
    "                sigma_L_raw = numpyro.sample(\"sigma_L_raw\", dist.HalfNormal(scale=1))\n",
    "                sigma_L = numpyro.deterministic(site.sigma_L, global_sigma_L * sigma_L_raw)\n",
    "\n",
    "                sigma_l_raw = numpyro.sample(\"sigma_l_raw\", dist.HalfNormal(scale=1))\n",
    "                sigma_l = numpyro.deterministic(\"sigma_l\", global_sigma_l * sigma_l_raw)\n",
    "\n",
    "                sigma_H_raw = numpyro.sample(\"sigma_H_raw\", dist.HalfNormal(scale=1))\n",
    "                sigma_H = numpyro.deterministic(site.sigma_H, global_sigma_H * sigma_H_raw)\n",
    "\n",
    "                sigma_g_1_raw = numpyro.sample(\"sigma_g_1_raw\", dist.HalfNormal(scale=1))\n",
    "                sigma_g_1 = numpyro.deterministic(\"sigma_g_1\", global_sigma_g_1 * sigma_g_1_raw)\n",
    "\n",
    "                sigma_g_2_raw = numpyro.sample(\"sigma_g_2_raw\", dist.HalfNormal(scale=1))\n",
    "                sigma_g_2 = numpyro.deterministic(\"sigma_g_2\", global_sigma_g_2 * sigma_g_2_raw)\n",
    "\n",
    "                # sigma_p_raw = numpyro.sample(\"sigma_p_raw\", dist.HalfNormal(scale=1))\n",
    "                # sigma_p = numpyro.deterministic(\"sigma_p\", global_sigma_p * sigma_p_raw)\n",
    "\n",
    "                with numpyro.plate(site.n_subject, n_subject, dim=-3):\n",
    "                    \"\"\" Priors \"\"\"\n",
    "                    a_raw = numpyro.sample(\"a_raw\", dist.Gamma(concentration=mu_a, rate=1))\n",
    "                    a = numpyro.deterministic(site.a, (1 / sigma_a) * a_raw)\n",
    "\n",
    "                    b_raw = numpyro.sample(\"b_raw\", dist.HalfNormal(scale=1))\n",
    "                    b = numpyro.deterministic(site.b, sigma_b * b_raw)\n",
    "\n",
    "                    v_raw = numpyro.sample(\"v_raw\", dist.HalfNormal(scale=1))\n",
    "                    v = numpyro.deterministic(site.v, sigma_v * v_raw)\n",
    "\n",
    "                    L_raw = numpyro.sample(\"L_raw\", dist.HalfNormal(scale=1))\n",
    "                    L = numpyro.deterministic(site.L, sigma_L * L_raw)\n",
    "\n",
    "                    l_raw = numpyro.sample(\"l_raw\", dist.HalfNormal(scale=1))\n",
    "                    l = numpyro.deterministic(\"l\", sigma_l * l_raw)\n",
    "\n",
    "                    H_raw = numpyro.sample(\"H_raw\", dist.HalfNormal(scale=1))\n",
    "                    H = numpyro.deterministic(site.H, sigma_H * H_raw)\n",
    "\n",
    "                    g_1_raw = numpyro.sample(\"g_1_raw\", dist.HalfCauchy(scale=1))\n",
    "                    g_1 = numpyro.deterministic(site.g_1, sigma_g_1 * g_1_raw)\n",
    "\n",
    "                    g_2_raw = numpyro.sample(\"g_2_raw\", dist.HalfCauchy(scale=1))\n",
    "                    g_2 = numpyro.deterministic(site.g_2, sigma_g_2 * g_2_raw)\n",
    "\n",
    "                    # p_raw = numpyro.sample(\"p_raw\", dist.HalfNormal(scale=1))\n",
    "                    # p = numpyro.deterministic(\"p\", sigma_p * p_raw)\n",
    "\n",
    "        with numpyro.plate(site.n_response, self.n_response, dim=-1):\n",
    "            with numpyro.plate(site.data, n_data, dim=-2):\n",
    "                \"\"\" Model \"\"\"\n",
    "                mu = numpyro.deterministic(\n",
    "                    site.mu,\n",
    "                    self.fn(\n",
    "                        intensity,\n",
    "                        a[subject, feature0],\n",
    "                        b[subject, feature0],\n",
    "                        v[subject, feature0],\n",
    "                        L[subject, feature0],\n",
    "                        l[subject, feature0],\n",
    "                        H[subject, feature0]\n",
    "                    )\n",
    "                )\n",
    "                beta = numpyro.deterministic(\n",
    "                    site.beta,\n",
    "                    g_1[subject, feature0] + jnp.true_divide(g_2[subject, feature0], mu + 1)\n",
    "                )\n",
    "                # beta = numpyro.deterministic(\n",
    "                #     site.beta,\n",
    "                #     jnp.where(\n",
    "                #         jnp.less(intensity, a[subject, feature0]),\n",
    "                #         g_1[subject, feature0],\n",
    "                #         jnp.true_divide(g_2[subject, feature0], mu + 1)\n",
    "                #     )\n",
    "                # )\n",
    "\n",
    "                \"\"\" Observation \"\"\"\n",
    "                numpyro.sample(\n",
    "                    site.obs,\n",
    "                    dist.Gamma(concentration=1 + jnp.multiply(mu, beta), rate=beta),\n",
    "                    obs=response_obs\n",
    "                )\n"
   ]
  },
  {
   "cell_type": "code",
   "execution_count": 3,
   "metadata": {},
   "outputs": [
    {
     "name": "stderr",
     "output_type": "stream",
     "text": [
      "2023-11-03 16:18:48,888 - hbmep.config - INFO - Verifying configuration ...\n",
      "2023-11-03 16:18:48,889 - hbmep.config - INFO - Success!\n",
      "2023-11-03 16:18:48,904 - hbmep.model.baseline - INFO - Initialized model with rectified_logistic link\n"
     ]
    }
   ],
   "source": [
    "toml_path = \"/home/vishu/repos/hbmep-paper/configs/paper/tms/link-comparison/proc-2023-10-27/prime/rectified_logistic.toml\"\n",
    "\n",
    "config = Config(toml_path=toml_path)\n",
    "config.BUILD_DIR = os.path.join(config.BUILD_DIR, \"mode\")\n",
    "\n",
    "config.MCMC_PARAMS[\"num_warmup\"] = 500\n",
    "config.MCMC_PARAMS[\"num_samples\"] = 1000\n",
    "\n",
    "model = RectifiedLogistic(config=config)\n",
    "\n"
   ]
  },
  {
   "cell_type": "code",
   "execution_count": 4,
   "metadata": {},
   "outputs": [
    {
     "name": "stderr",
     "output_type": "stream",
     "text": [
      "2023-11-03 16:18:49,011 - hbmep.dataset.core - INFO - Artefacts will be stored here - /home/vishu/repos/hbmep-paper/reports/paper/tms/link-comparison/proc-2023-10-27/prime/rectified_logistic/mode\n",
      "2023-11-03 16:18:49,011 - hbmep.dataset.core - INFO - Copied config to /home/vishu/repos/hbmep-paper/reports/paper/tms/link-comparison/proc-2023-10-27/prime/rectified_logistic/mode\n",
      "2023-11-03 16:18:49,012 - hbmep.dataset.core - INFO - Processing data ...\n",
      "2023-11-03 16:18:49,013 - hbmep.utils.utils - INFO - func:load took: 0.00 sec\n"
     ]
    }
   ],
   "source": [
    "src = \"/home/vishu/data/hbmep-processed/human/tms/data_pkpk_auc_proc-2023-10-27.csv\"\n",
    "df = pd.read_csv(src)\n",
    "\n",
    "# subset = [\"SCA01\", \"SCA03\", \"SCA04\", \"SCA07\"]\n",
    "# ind = df[model.subject].isin(subset)\n",
    "# df = df[ind].reset_index(drop=True).copy()\n",
    "\n",
    "\n",
    "df, encoder_dict = model.load(df=df)\n"
   ]
  },
  {
   "cell_type": "code",
   "execution_count": 5,
   "metadata": {},
   "outputs": [
    {
     "name": "stderr",
     "output_type": "stream",
     "text": [
      "2023-11-03 16:18:49,101 - hbmep.model.baseline - INFO - Running inference with rectified_logistic ...\n"
     ]
    },
    {
     "data": {
      "application/vnd.jupyter.widget-view+json": {
       "model_id": "3aa4529f983145ffb1aef6ae7318b5e1",
       "version_major": 2,
       "version_minor": 0
      },
      "text/plain": [
       "  0%|          | 0/1500 [00:00<?, ?it/s]"
      ]
     },
     "metadata": {},
     "output_type": "display_data"
    },
    {
     "data": {
      "application/vnd.jupyter.widget-view+json": {
       "model_id": "25f4cdd5c38c4dbeb501ca3925a595b5",
       "version_major": 2,
       "version_minor": 0
      },
      "text/plain": [
       "  0%|          | 0/1500 [00:00<?, ?it/s]"
      ]
     },
     "metadata": {},
     "output_type": "display_data"
    },
    {
     "data": {
      "application/vnd.jupyter.widget-view+json": {
       "model_id": "e7969863dc304e16bdc1537acfe5191b",
       "version_major": 2,
       "version_minor": 0
      },
      "text/plain": [
       "  0%|          | 0/1500 [00:00<?, ?it/s]"
      ]
     },
     "metadata": {},
     "output_type": "display_data"
    },
    {
     "data": {
      "application/vnd.jupyter.widget-view+json": {
       "model_id": "bcf1feb1af874c92b230892a93013880",
       "version_major": 2,
       "version_minor": 0
      },
      "text/plain": [
       "  0%|          | 0/1500 [00:00<?, ?it/s]"
      ]
     },
     "metadata": {},
     "output_type": "display_data"
    }
   ],
   "source": [
    "mcmc, posterior_samples = model.run_inference(df=df)\n"
   ]
  },
  {
   "cell_type": "code",
   "execution_count": null,
   "metadata": {},
   "outputs": [
    {
     "name": "stderr",
     "output_type": "stream",
     "text": [
      "2023-11-03 15:05:09,016 - hbmep.utils.utils - INFO - func:make_prediction_dataset took: 0.01 sec\n"
     ]
    },
    {
     "name": "stderr",
     "output_type": "stream",
     "text": [
      "2023-11-03 15:05:12,067 - hbmep.utils.utils - INFO - func:predict took: 3.05 sec\n",
      "2023-11-03 15:05:12,075 - hbmep.model.baseline - INFO - Rendering ...\n",
      "2023-11-03 15:05:14,965 - hbmep.model.baseline - INFO - Saved to /home/vishu/repos/hbmep-paper/reports/paper/tms/link-comparison/proc-2023-10-27/prime/rectified_logistic/mode/recruitment_curves.pdf\n",
      "2023-11-03 15:05:14,966 - hbmep.utils.utils - INFO - func:render_recruitment_curves took: 2.90 sec\n",
      "2023-11-03 15:05:14,981 - hbmep.model.baseline - INFO - Rendering Posterior Predictive Check ...\n",
      "2023-11-03 15:05:18,134 - hbmep.model.baseline - INFO - Saved to /home/vishu/repos/hbmep-paper/reports/paper/tms/link-comparison/proc-2023-10-27/prime/rectified_logistic/mode/posterior_predictive_check.pdf\n",
      "2023-11-03 15:05:18,134 - hbmep.utils.utils - INFO - func:_render_predictive_check took: 3.17 sec\n",
      "2023-11-03 15:05:18,135 - hbmep.utils.utils - INFO - func:render_predictive_check took: 3.17 sec\n"
     ]
    }
   ],
   "source": [
    "prediction_df = model.make_prediction_dataset(df=df)\n",
    "posterior_predictive = model.predict(df=prediction_df, posterior_samples=posterior_samples)\n",
    "\n",
    "model.render_recruitment_curves(df=df, encoder_dict=encoder_dict, posterior_samples=posterior_samples, prediction_df=prediction_df, posterior_predictive=posterior_predictive)\n",
    "model.render_predictive_check(df=df, encoder_dict=encoder_dict, prediction_df=prediction_df, posterior_predictive=posterior_predictive)\n"
   ]
  },
  {
   "cell_type": "code",
   "execution_count": null,
   "metadata": {},
   "outputs": [
    {
     "name": "stdout",
     "output_type": "stream",
     "text": [
      "\n",
      "                         mean       std    median      2.5%     97.5%     n_eff     r_hat\n",
      "       H_raw[0,0,0]      0.78      0.61      0.64      0.01      2.00    176.47      1.02\n",
      "       H_raw[0,1,0]      0.31      0.07      0.31      0.15      0.44     27.31      1.14\n",
      "       H_raw[1,0,0]      0.77      0.57      0.66      0.00      1.94    236.71      1.03\n",
      "       H_raw[1,1,0]      0.81      0.62      0.67      0.00      2.03    277.50      1.00\n",
      "       H_raw[2,0,0]      0.90      0.63      0.78      0.00      2.03    110.09      1.03\n",
      "       H_raw[2,1,0]      0.04      0.01      0.04      0.02      0.06     20.39      1.16\n",
      "       H_raw[3,0,0]      0.84      0.59      0.74      0.01      1.98    282.39      1.03\n",
      "       H_raw[3,1,0]      0.94      0.26      0.92      0.49      1.43     41.43      1.12\n",
      "       H_raw[4,0,0]      0.68      0.58      0.52      0.00      1.88     70.88      1.09\n",
      "       H_raw[4,1,0]      0.14      0.04      0.13      0.07      0.21     29.13      1.12\n",
      "       H_raw[5,0,0]      0.84      0.61      0.73      0.00      2.01     43.29      1.07\n",
      "       H_raw[5,1,0]      1.17      0.33      1.14      0.59      1.82     36.86      1.11\n",
      "       H_raw[6,0,0]      0.81      0.60      0.65      0.01      1.95    169.55      1.01\n",
      "       H_raw[6,1,0]      1.20      0.29      1.20      0.61      1.70     20.83      1.16\n",
      "       H_raw[7,0,0]      0.83      0.58      0.72      0.00      1.93    334.53      1.01\n",
      "       H_raw[7,1,0]      1.04      0.27      1.02      0.50      1.51     13.39      1.19\n",
      "       H_raw[8,0,0]      0.78      0.62      0.65      0.00      2.00    240.30      1.01\n",
      "       H_raw[8,1,0]      1.61      0.48      1.54      0.80      2.65    115.72      1.04\n",
      "       H_raw[9,0,0]      0.81      0.58      0.69      0.03      1.95    137.27      1.03\n",
      "       H_raw[9,1,0]      1.41      0.39      1.39      0.71      2.16     21.14      1.12\n",
      "      H_raw[10,0,0]      0.71      0.58      0.52      0.04      1.88    142.08      1.04\n",
      "      H_raw[10,1,0]      0.79      0.61      0.64      0.00      2.01    119.64      1.02\n",
      "      H_raw[11,0,0]      0.66      0.61      0.53      0.00      1.84    225.02      1.03\n",
      "      H_raw[11,1,0]      0.73      0.61      0.58      0.00      1.93     68.04      1.04\n",
      "      H_raw[12,0,0]      0.71      0.53      0.58      0.02      1.76    144.73      1.03\n",
      "      H_raw[12,1,0]      0.75      0.56      0.63      0.00      1.89    219.36      1.03\n",
      "      H_raw[13,0,0]      0.77      0.61      0.69      0.00      1.95     92.38      1.03\n",
      "      H_raw[13,1,0]      0.81      0.59      0.69      0.01      2.01    142.25      1.04\n",
      "      H_raw[14,0,0]      0.82      0.63      0.71      0.00      2.03    119.69      1.03\n",
      "      H_raw[14,1,0]      0.86      0.63      0.71      0.01      2.08    154.03      1.04\n",
      "      H_raw[15,0,0]      1.11      0.58      1.04      0.16      2.24    149.76      1.01\n",
      "      H_raw[15,1,0]      0.75      0.63      0.61      0.00      1.91    101.38      1.04\n",
      "       L_raw[0,0,0]      0.81      0.55      0.69      0.01      1.89    143.97      1.02\n",
      "       L_raw[0,1,0]      0.45      0.37      0.36      0.01      1.15    189.42      1.01\n",
      "       L_raw[1,0,0]      0.84      0.60      0.73      0.00      1.96    152.23      1.03\n",
      "       L_raw[1,1,0]      2.01      0.55      1.99      0.96      3.03     73.02      1.10\n",
      "       L_raw[2,0,0]      0.71      0.58      0.57      0.00      1.87    121.77      1.03\n",
      "       L_raw[2,1,0]      0.58      0.46      0.46      0.00      1.49    217.82      1.01\n",
      "       L_raw[3,0,0]      0.75      0.58      0.62      0.00      1.89    130.79      1.03\n",
      "       L_raw[3,1,0]      0.58      0.48      0.46      0.00      1.57    214.38      1.03\n",
      "       L_raw[4,0,0]      0.71      0.64      0.54      0.00      1.96     84.28      1.04\n",
      "       L_raw[4,1,0]      0.36      0.33      0.26      0.00      1.02    177.30      1.03\n",
      "       L_raw[5,0,0]      0.77      0.59      0.62      0.04      1.91     19.78      1.11\n",
      "       L_raw[5,1,0]      0.66      0.54      0.54      0.00      1.73    115.76      1.03\n",
      "       L_raw[6,0,0]      0.85      0.61      0.75      0.01      1.97    155.59      1.02\n",
      "       L_raw[6,1,0]      0.52      0.48      0.37      0.00      1.51    137.48      1.01\n",
      "       L_raw[7,0,0]      0.87      0.64      0.76      0.00      2.04    113.22      1.03\n",
      "       L_raw[7,1,0]      0.49      0.44      0.39      0.00      1.33     80.45      1.04\n",
      "       L_raw[8,0,0]      0.77      0.58      0.64      0.00      1.90    242.56      1.02\n",
      "       L_raw[8,1,0]      0.66      0.49      0.56      0.00      1.63    221.44      1.02\n",
      "       L_raw[9,0,0]      0.78      0.57      0.66      0.01      1.91    313.69      1.02\n",
      "       L_raw[9,1,0]      0.64      0.48      0.55      0.01      1.60    313.31      1.02\n",
      "      L_raw[10,0,0]      0.84      0.58      0.73      0.00      1.94    276.65      1.01\n",
      "      L_raw[10,1,0]      0.75      0.61      0.61      0.01      1.96     61.78      1.06\n",
      "      L_raw[11,0,0]      1.24      0.66      1.21      0.07      2.53    107.31      1.03\n",
      "      L_raw[11,1,0]      0.76      0.57      0.60      0.00      1.86    105.99      1.03\n",
      "      L_raw[12,0,0]      0.61      0.52      0.47      0.00      1.62     44.06      1.10\n",
      "      L_raw[12,1,0]      0.74      0.61      0.58      0.00      1.98    229.71      1.01\n",
      "      L_raw[13,0,0]      1.14      0.53      1.03      0.35      2.19    110.51      1.04\n",
      "      L_raw[13,1,0]      0.79      0.60      0.66      0.00      1.96    130.26      1.04\n",
      "      L_raw[14,0,0]      0.57      0.45      0.46      0.00      1.45     65.98      1.02\n",
      "      L_raw[14,1,0]      0.78      0.59      0.66      0.01      1.92    280.43      1.01\n",
      "      L_raw[15,0,0]      0.44      0.39      0.31      0.00      1.22    141.20      1.02\n",
      "      L_raw[15,1,0]      0.83      0.64      0.69      0.01      2.06    253.38      1.01\n",
      "       a_raw[0,0,0]      5.16      3.01      4.74      0.19     10.65     55.58      1.06\n",
      "       a_raw[0,1,0]      5.48      1.91      4.87      3.18      9.18      3.62      2.37\n",
      "       a_raw[1,0,0]      5.16      3.15      4.58      0.08     11.01     50.54      1.06\n",
      "       a_raw[1,1,0]     11.01      3.76     10.31      5.46     18.19      4.27      1.74\n",
      "       a_raw[2,0,0]      4.96      3.11      4.35      0.23     10.85     61.69      1.06\n",
      "       a_raw[2,1,0]      6.71      2.34      6.02      3.79     11.10      3.54      2.40\n",
      "       a_raw[3,0,0]      5.02      3.01      4.31      0.55     11.25     56.11      1.06\n",
      "       a_raw[3,1,0]      5.03      1.76      4.48      2.86      8.42      3.60      2.37\n",
      "       a_raw[4,0,0]      5.23      2.99      4.86      0.54     10.92     77.33      1.02\n",
      "       a_raw[4,1,0]      6.08      2.13      5.45      3.50     10.18      3.64      2.38\n",
      "       a_raw[5,0,0]      5.12      3.01      4.47      0.71     10.92     57.13      1.06\n",
      "       a_raw[5,1,0]      4.36      1.53      3.87      2.52      7.28      3.59      2.38\n",
      "       a_raw[6,0,0]      5.13      3.17      4.57      0.47     11.30     53.08      1.06\n",
      "       a_raw[6,1,0]      4.37      1.53      3.91      2.57      7.33      3.59      2.39\n",
      "       a_raw[7,0,0]      4.94      3.00      4.45      0.17     10.50     52.49      1.08\n",
      "       a_raw[7,1,0]      6.35      2.21      5.65      3.69     10.65      3.64      2.34\n",
      "       a_raw[8,0,0]      5.15      3.01      4.59      0.42     11.28     59.70      1.06\n",
      "       a_raw[8,1,0]      4.72      1.65      4.21      2.69      7.92      3.59      2.40\n",
      "       a_raw[9,0,0]      4.98      2.99      4.56      0.32     10.59     39.74      1.09\n",
      "       a_raw[9,1,0]      4.08      1.43      3.60      2.30      6.88      3.67      2.34\n",
      "      a_raw[10,0,0]      3.52      1.59      3.16      0.99      6.78     26.50      1.17\n",
      "      a_raw[10,1,0]      6.04      3.16      5.59      1.26     12.29     13.84      1.24\n",
      "      a_raw[11,0,0]      5.47      3.02      5.09      0.52     11.12     60.23      1.04\n",
      "      a_raw[11,1,0]      5.99      3.12      5.35      1.19     12.43      9.97      1.24\n",
      "      a_raw[12,0,0]      5.51      2.50      4.95      1.47     10.61     28.12      1.15\n",
      "      a_raw[12,1,0]      5.70      3.09      5.16      1.07     11.71     13.41      1.20\n",
      "      a_raw[13,0,0]      6.55      3.17      6.15      0.13     12.27     34.72      1.11\n",
      "      a_raw[13,1,0]      6.01      3.22      5.32      0.96     12.52     14.44      1.19\n",
      "      a_raw[14,0,0]      6.45      2.76      5.97      2.18     11.88     52.37      1.05\n",
      "      a_raw[14,1,0]      6.33      3.13      5.80      1.57     12.84     21.00      1.17\n",
      "      a_raw[15,0,0]      3.88      1.72      3.51      1.48      7.38     23.90      1.19\n",
      "      a_raw[15,1,0]      6.11      3.00      5.58      1.17     12.40     10.87      1.17\n",
      "       b_raw[0,0,0]      0.78      0.61      0.67      0.01      1.93     79.64      1.03\n",
      "       b_raw[0,1,0]      1.37      0.51      1.33      0.51      2.39     77.40      1.07\n",
      "       b_raw[1,0,0]      0.87      0.64      0.71      0.01      2.09    172.98      1.03\n",
      "       b_raw[1,1,0]      0.64      0.54      0.53      0.00      1.72     44.49      1.12\n",
      "       b_raw[2,0,0]      0.73      0.57      0.58      0.00      1.82    109.76      1.03\n",
      "       b_raw[2,1,0]      1.11      0.57      1.00      0.17      2.27    173.56      1.04\n",
      "       b_raw[3,0,0]      0.80      0.60      0.70      0.00      1.96    102.14      1.01\n",
      "       b_raw[3,1,0]      0.63      0.33      0.55      0.10      1.28     83.22      1.05\n",
      "       b_raw[4,0,0]      0.81      0.62      0.69      0.00      2.00    116.17      1.03\n",
      "       b_raw[4,1,0]      0.72      0.39      0.64      0.13      1.52    104.43      1.03\n",
      "       b_raw[5,0,0]      0.84      0.61      0.71      0.00      2.04    189.97      1.01\n",
      "       b_raw[5,1,0]      0.40      0.32      0.32      0.05      1.05     48.48      1.09\n",
      "       b_raw[6,0,0]      0.86      0.59      0.74      0.01      1.97    325.41      1.02\n",
      "       b_raw[6,1,0]      0.56      0.25      0.53      0.12      1.05     78.54      1.05\n",
      "       b_raw[7,0,0]      0.71      0.61      0.61      0.00      1.89     34.05      1.13\n",
      "       b_raw[7,1,0]      0.93      0.53      0.83      0.15      1.99    131.54      1.04\n",
      "       b_raw[8,0,0]      0.85      0.59      0.72      0.02      1.98    174.49      1.00\n",
      "       b_raw[8,1,0]      0.84      0.52      0.73      0.07      1.89     84.31      1.03\n",
      "       b_raw[9,0,0]      0.76      0.58      0.62      0.00      1.87    148.65      1.02\n",
      "       b_raw[9,1,0]      0.99      0.43      0.91      0.26      1.86    116.33      1.03\n",
      "      b_raw[10,0,0]      0.52      0.47      0.37      0.01      1.49     88.32      1.06\n",
      "      b_raw[10,1,0]      0.81      0.62      0.65      0.01      2.07    161.55      1.03\n",
      "      b_raw[11,0,0]      0.63      0.61      0.43      0.00      1.87      7.92      1.20\n",
      "      b_raw[11,1,0]      0.82      0.61      0.72      0.01      1.96    141.11      1.02\n",
      "      b_raw[12,0,0]      0.77      0.56      0.63      0.01      1.95    144.43      1.03\n",
      "      b_raw[12,1,0]      0.82      0.61      0.70      0.00      2.00    176.52      1.02\n",
      "      b_raw[13,0,0]      0.83      0.61      0.73      0.00      1.98    238.13      1.02\n",
      "      b_raw[13,1,0]      0.83      0.63      0.69      0.00      2.05    128.91      1.02\n",
      "      b_raw[14,0,0]      0.54      0.55      0.35      0.00      1.67     53.68      1.05\n",
      "      b_raw[14,1,0]      0.84      0.65      0.70      0.00      2.12    176.03      1.01\n",
      "      b_raw[15,0,0]      1.22      0.64      1.11      0.09      2.45     52.55      1.04\n",
      "      b_raw[15,1,0]      0.74      0.63      0.59      0.00      2.02    181.55      1.02\n",
      "     g_1_raw[0,0,0]      3.13     13.30      1.08      0.00     10.36    326.57      1.01\n",
      "     g_1_raw[0,1,0]      1.56      2.08      0.87      0.00      5.32    348.85      1.01\n",
      "     g_1_raw[1,0,0]      3.40     19.48      0.96      0.00      9.52    926.03      1.00\n",
      "     g_1_raw[1,1,0]   6937.83  18437.17      1.68      0.00  43004.10      5.22      1.36\n",
      "     g_1_raw[2,0,0]      2.97     10.95      1.05      0.00     10.13    622.47      1.00\n",
      "     g_1_raw[2,1,0]      3.91     11.00      1.07      0.00     16.78     96.57      1.05\n",
      "     g_1_raw[3,0,0]      6.88     51.48      1.15      0.00     18.54    465.49      1.01\n",
      "     g_1_raw[3,1,0]      2.72      7.13      1.19      0.00      8.23    152.40      1.02\n",
      "     g_1_raw[4,0,0]      5.73     28.89      1.10      0.01     19.16    351.96      1.01\n",
      "     g_1_raw[4,1,0]      1.63      4.44      0.76      0.00      5.35    295.24      1.01\n",
      "     g_1_raw[5,0,0]      3.15      9.54      1.06      0.00     12.61    458.39      1.01\n",
      "     g_1_raw[5,1,0]      0.91      1.12      0.54      0.00      3.00     88.77      1.03\n",
      "     g_1_raw[6,0,0]      3.70     15.32      1.09      0.00     13.18    356.76      1.02\n",
      "     g_1_raw[6,1,0]      2.10      8.39      0.94      0.00      5.63    209.03      1.02\n",
      "     g_1_raw[7,0,0]      3.94     50.25      0.90      0.00     10.03   2700.77      1.00\n",
      "     g_1_raw[7,1,0]      2.76      3.80      1.54      0.01      9.05    137.32      1.03\n",
      "     g_1_raw[8,0,0]      4.66     28.84      0.87      0.00     12.25    211.51      1.02\n",
      "     g_1_raw[8,1,0]      1.13      1.61      0.65      0.00      4.03    165.34      1.03\n",
      "     g_1_raw[9,0,0]      7.11     87.90      0.83      0.00     14.61   1007.37      1.00\n",
      "     g_1_raw[9,1,0]      1.27      2.64      0.63      0.00      4.14     74.38      1.07\n",
      "    g_1_raw[10,0,0]      2.07      3.87      1.04      0.00      7.92     45.66      1.12\n",
      "    g_1_raw[10,1,0]     13.52     66.22      1.31      0.01     32.42     52.54      1.08\n",
      "    g_1_raw[11,0,0]      3.74      7.61      1.34      0.00     16.27    135.60      1.04\n",
      "    g_1_raw[11,1,0]      3.24     12.80      0.95      0.00     11.85    501.52      1.01\n",
      "    g_1_raw[12,0,0]      1.01      2.05      0.44      0.00      3.64     58.20      1.08\n",
      "    g_1_raw[12,1,0]      2.63      5.79      0.89      0.00     10.66     75.70      1.03\n",
      "    g_1_raw[13,0,0]    246.60    523.72      2.92      0.00    999.71      7.76      1.33\n",
      "    g_1_raw[13,1,0]      3.50     12.25      1.28      0.00     11.36    341.99      1.01\n",
      "    g_1_raw[14,0,0]      3.53      8.97      1.57      0.00     10.96     79.46      1.05\n",
      "    g_1_raw[14,1,0]      2.84      8.52      1.03      0.00      8.92    274.07      1.02\n",
      "    g_1_raw[15,0,0]      1.30      4.19      0.57      0.00      4.02    388.33      1.02\n",
      "    g_1_raw[15,1,0]      3.90      8.98      1.42      0.00     16.13    358.14      1.00\n",
      "     g_2_raw[0,0,0]      4.57     18.99      1.09      0.00     15.56    610.97      1.01\n",
      "     g_2_raw[0,1,0]      0.95      0.54      0.84      0.20      1.92     22.50      1.17\n",
      "     g_2_raw[1,0,0]      2.52     12.80      0.95      0.00      6.83    985.23      1.01\n",
      "     g_2_raw[1,1,0]    500.78    413.17    487.86      0.01   1251.27      4.07      1.65\n",
      "     g_2_raw[2,0,0]      3.20     14.42      0.96      0.01      9.56    709.78      1.01\n",
      "     g_2_raw[2,1,0]      2.73      1.78      2.21      0.57      6.15     19.33      1.22\n",
      "     g_2_raw[3,0,0]      6.16     28.68      1.19      0.00     19.65    323.23      1.01\n",
      "     g_2_raw[3,1,0]      0.92      0.54      0.79      0.22      2.00     22.84      1.17\n",
      "     g_2_raw[4,0,0]      2.11      6.35      0.77      0.00      6.87    427.28      1.01\n",
      "     g_2_raw[4,1,0]      1.57      0.89      1.34      0.28      3.22     21.17      1.18\n",
      "     g_2_raw[5,0,0]      3.33     13.35      1.14      0.00     12.28    487.10      1.01\n",
      "     g_2_raw[5,1,0]      0.51      0.30      0.44      0.10      1.02     20.58      1.20\n",
      "     g_2_raw[6,0,0]      3.20     11.62      1.22      0.00     10.19    419.97      1.01\n",
      "     g_2_raw[6,1,0]      1.79      0.97      1.54      0.32      3.59     22.10      1.16\n",
      "     g_2_raw[7,0,0]      2.65      6.71      1.01      0.00     10.60    425.15      1.01\n",
      "     g_2_raw[7,1,0]      0.52      0.33      0.45      0.07      1.10     20.45      1.20\n",
      "     g_2_raw[8,0,0]      2.74      7.46      0.82      0.00     10.93    286.72      1.01\n",
      "     g_2_raw[8,1,0]      0.36      0.20      0.32      0.07      0.78     25.89      1.14\n",
      "     g_2_raw[9,0,0]      8.32     87.81      0.92      0.00     10.90    692.30      1.01\n",
      "     g_2_raw[9,1,0]      0.48      0.30      0.40      0.08      1.06     22.59      1.15\n",
      "    g_2_raw[10,0,0]      1.02      0.72      0.79      0.10      2.53     11.81      1.18\n",
      "    g_2_raw[10,1,0]     10.18     28.71      1.34      0.00     57.24     20.42      1.17\n",
      "    g_2_raw[11,0,0]      3.64      3.73      2.51      0.07     12.63     13.91      1.21\n",
      "    g_2_raw[11,1,0]      4.59     39.67      1.14      0.00     12.02    823.66      1.00\n",
      "    g_2_raw[12,0,0]      0.38      0.39      0.24      0.00      1.30      7.41      1.33\n",
      "    g_2_raw[12,1,0]      4.71     26.83      0.90      0.00     12.64    568.25      1.01\n",
      "    g_2_raw[13,0,0]    143.96    144.22    122.18      0.01    413.19      6.47      1.33\n",
      "    g_2_raw[13,1,0]     16.55    245.93      1.00      0.00     13.65    371.42      1.01\n",
      "    g_2_raw[14,0,0]      1.28      0.88      1.07      0.03      2.92     85.97      1.01\n",
      "    g_2_raw[14,1,0]      4.38     19.23      1.31      0.00     11.87    472.88      1.01\n",
      "    g_2_raw[15,0,0]      0.47      0.35      0.39      0.01      1.14     18.28      1.14\n",
      "    g_2_raw[15,1,0]      3.21     10.33      0.97      0.00     10.90    544.69      1.01\n",
      "  global_sigma_H[0]      3.78      1.99      3.32      1.10      7.74     39.68      1.09\n",
      "  global_sigma_L[0]      0.04      0.09      0.01      0.00      0.16     66.92      1.11\n",
      "  global_sigma_b[0]     11.43     25.00      1.38      0.05     52.80     16.29      1.19\n",
      "global_sigma_g_1[0]     10.23     14.55      3.45      0.01     29.84     19.24      1.14\n",
      "global_sigma_g_2[0]     35.34     24.95     27.24      6.41     80.27     71.46      1.06\n",
      "  global_sigma_l[0]     65.30     56.79     49.43      0.75    183.27     82.37      1.06\n",
      "  global_sigma_v[0]     74.54     53.18     64.63      3.30    177.40     67.24      1.06\n",
      "       l_raw[0,0,0]      0.69      0.59      0.57      0.00      1.84    115.36      1.01\n",
      "       l_raw[0,1,0]      0.81      0.54      0.70      0.00      1.85    350.31      1.01\n",
      "       l_raw[1,0,0]      0.83      0.61      0.71      0.00      1.96    377.25      1.03\n",
      "       l_raw[1,1,0]      0.88      0.63      0.77      0.00      2.00    133.67      1.02\n",
      "       l_raw[2,0,0]      0.83      0.62      0.70      0.00      2.05    365.01      1.00\n",
      "       l_raw[2,1,0]      0.84      0.60      0.72      0.01      1.99    141.99      1.03\n",
      "       l_raw[3,0,0]      0.85      0.65      0.73      0.00      2.09    236.53      1.03\n",
      "       l_raw[3,1,0]      0.92      0.61      0.80      0.04      2.07     62.15      1.05\n",
      "       l_raw[4,0,0]      0.73      0.55      0.57      0.00      1.85    121.78      1.04\n",
      "       l_raw[4,1,0]      0.77      0.58      0.62      0.00      1.92    183.00      1.02\n",
      "       l_raw[5,0,0]      0.87      0.60      0.79      0.00      1.97    130.31      1.03\n",
      "       l_raw[5,1,0]      1.04      0.62      0.96      0.07      2.22    118.04      1.03\n",
      "       l_raw[6,0,0]      0.65      0.62      0.46      0.00      1.86     18.43      1.11\n",
      "       l_raw[6,1,0]      1.26      0.63      1.18      0.17      2.43    158.32      1.03\n",
      "       l_raw[7,0,0]      0.80      0.61      0.68      0.00      2.01    197.48      1.02\n",
      "       l_raw[7,1,0]      0.59      0.49      0.45      0.00      1.54    135.66      1.04\n",
      "       l_raw[8,0,0]      0.91      0.61      0.82      0.01      2.07    133.63      1.04\n",
      "       l_raw[8,1,0]      0.45      0.44      0.31      0.00      1.32     56.67      1.03\n",
      "       l_raw[9,0,0]      0.83      0.65      0.68      0.01      2.13    201.05      1.02\n",
      "       l_raw[9,1,0]      0.91      0.64      0.78      0.01      2.17     82.53      1.05\n",
      "      l_raw[10,0,0]      0.65      0.52      0.51      0.00      1.69    108.18      1.05\n",
      "      l_raw[10,1,0]      0.89      0.63      0.79      0.01      2.07     26.25      1.15\n",
      "      l_raw[11,0,0]      0.68      0.59      0.51      0.00      1.85     52.95      1.07\n",
      "      l_raw[11,1,0]      0.81      0.59      0.67      0.00      1.92    203.69      1.02\n",
      "      l_raw[12,0,0]      0.80      0.57      0.69      0.00      1.90    205.51      1.01\n",
      "      l_raw[12,1,0]      0.91      0.59      0.84      0.00      1.98    126.26      1.03\n",
      "      l_raw[13,0,0]      0.70      0.54      0.61      0.00      1.75    127.09      1.04\n",
      "      l_raw[13,1,0]      0.80      0.61      0.66      0.01      2.05    259.12      1.02\n",
      "      l_raw[14,0,0]      0.67      0.59      0.51      0.00      1.89    102.81      1.02\n",
      "      l_raw[14,1,0]      0.85      0.57      0.73      0.03      1.95    283.75      1.01\n",
      "      l_raw[15,0,0]      0.98      0.61      0.87      0.03      2.14    204.14      1.02\n",
      "      l_raw[15,1,0]      0.86      0.60      0.73      0.01      2.01    191.18      1.01\n",
      "   sigma_H_raw[0,0]      0.81      0.45      0.71      0.14      1.63    219.68      1.01\n",
      "   sigma_H_raw[1,0]      1.04      0.47      0.96      0.27      2.04     70.90      1.06\n",
      "   sigma_L_raw[0,0]      0.83      0.59      0.76      0.00      1.94     44.79      1.11\n",
      "   sigma_L_raw[1,0]      0.33      0.30      0.26      0.00      0.93     40.89      1.09\n",
      "   sigma_b_raw[0,0]      0.32      0.42      0.14      0.00      1.19     33.67      1.10\n",
      "   sigma_b_raw[1,0]      0.43      0.51      0.25      0.00      1.52     13.70      1.18\n",
      " sigma_g_1_raw[0,0]      0.57      0.48      0.39      0.00      1.56     68.69      1.02\n",
      " sigma_g_1_raw[1,0]      0.30      0.40      0.12      0.00      1.14     14.51      1.16\n",
      " sigma_g_2_raw[0,0]      0.67      0.51      0.55      0.05      1.68     15.01      1.16\n",
      " sigma_g_2_raw[1,0]      0.67      0.41      0.58      0.07      1.49     44.09      1.09\n",
      "   sigma_l_raw[0,0]      0.50      0.54      0.31      0.00      1.65    118.06      1.02\n",
      "   sigma_l_raw[1,0]      0.85      0.60      0.70      0.03      2.03    129.07      1.01\n",
      "   sigma_v_raw[0,0]      1.05      0.63      0.94      0.06      2.28    145.50      1.04\n",
      "   sigma_v_raw[1,0]      0.42      0.44      0.24      0.00      1.40     51.71      1.10\n",
      "       v_raw[0,0,0]      0.78      0.59      0.70      0.00      1.86     83.15      1.03\n",
      "       v_raw[0,1,0]      0.81      0.56      0.71      0.01      1.84    225.11      1.03\n",
      "       v_raw[1,0,0]      0.84      0.62      0.73      0.00      2.01    180.35      1.02\n",
      "       v_raw[1,1,0]      0.84      0.58      0.73      0.01      1.94    254.65      1.02\n",
      "       v_raw[2,0,0]      0.76      0.59      0.63      0.00      1.93    213.33      1.03\n",
      "       v_raw[2,1,0]      0.72      0.57      0.58      0.01      1.85    171.88      1.01\n",
      "       v_raw[3,0,0]      0.85      0.60      0.76      0.01      1.99    240.64      1.00\n",
      "       v_raw[3,1,0]      0.70      0.56      0.59      0.00      1.76    108.39      1.02\n",
      "       v_raw[4,0,0]      0.77      0.61      0.63      0.00      1.93    418.88      1.00\n",
      "       v_raw[4,1,0]      0.93      0.67      0.75      0.01      2.28     59.11      1.06\n",
      "       v_raw[5,0,0]      0.89      0.60      0.78      0.01      2.02    201.13      1.00\n",
      "       v_raw[5,1,0]      0.79      0.54      0.69      0.00      1.76    111.07      1.04\n",
      "       v_raw[6,0,0]      0.86      0.61      0.74      0.00      2.03    208.16      1.01\n",
      "       v_raw[6,1,0]      0.51      0.47      0.37      0.00      1.47     72.34      1.05\n",
      "       v_raw[7,0,0]      0.78      0.63      0.66      0.00      2.04     68.62      1.04\n",
      "       v_raw[7,1,0]      0.88      0.58      0.80      0.01      1.96    156.51      1.01\n",
      "       v_raw[8,0,0]      0.75      0.59      0.63      0.00      1.91    322.91      1.00\n",
      "       v_raw[8,1,0]      1.00      0.57      0.93      0.09      2.10    186.85      1.02\n",
      "       v_raw[9,0,0]      0.83      0.60      0.73      0.00      1.97     99.41      1.04\n",
      "       v_raw[9,1,0]      0.75      0.54      0.65      0.01      1.77     94.53      1.04\n",
      "      v_raw[10,0,0]      0.97      0.61      0.89      0.00      2.15    167.21      1.02\n",
      "      v_raw[10,1,0]      0.81      0.63      0.67      0.01      2.07    227.41      1.02\n",
      "      v_raw[11,0,0]      0.91      0.63      0.79      0.01      2.08    181.96      1.01\n",
      "      v_raw[11,1,0]      0.83      0.58      0.72      0.00      1.92    169.83      1.04\n",
      "      v_raw[12,0,0]      0.74      0.56      0.59      0.00      1.87    178.38      1.01\n",
      "      v_raw[12,1,0]      0.76      0.58      0.64      0.00      1.89    200.61      1.01\n",
      "      v_raw[13,0,0]      0.77      0.61      0.62      0.00      1.98    208.34      1.03\n",
      "      v_raw[13,1,0]      0.82      0.64      0.66      0.00      1.99    186.45      1.02\n",
      "      v_raw[14,0,0]      0.88      0.60      0.81      0.00      2.05    153.29      1.03\n",
      "      v_raw[14,1,0]      0.86      0.56      0.76      0.01      1.90    314.62      1.01\n",
      "      v_raw[15,0,0]      0.49      0.47      0.35      0.00      1.52    127.27      1.03\n",
      "      v_raw[15,1,0]      0.78      0.62      0.65      0.00      1.96    124.06      1.03\n",
      "           µ_a[0,0]      5.16      2.05      4.86      1.63      9.10     30.95      1.11\n",
      "           µ_a[1,0]      6.02      1.95      5.49      3.39     10.20      4.08      1.92\n",
      "           σ_a[0,0]      0.08      0.03      0.07      0.03      0.15     23.38      1.20\n",
      "           σ_a[1,0]      0.14      0.05      0.12      0.08      0.23      3.59      2.39\n",
      "\n",
      "Number of divergences: 3391\n"
     ]
    }
   ],
   "source": [
    "mcmc.print_summary(prob=.95)\n"
   ]
  },
  {
   "cell_type": "code",
   "execution_count": 43,
   "metadata": {},
   "outputs": [
    {
     "data": {
      "text/plain": [
       "Text(0.5, 1.0, '0.9465')"
      ]
     },
     "execution_count": 43,
     "metadata": {},
     "output_type": "execute_result"
    },
    {
     "data": {
      "image/png": "[encoded data removed]",
      "text/plain": [
       "<Figure size 640x480 with 1 Axes>"
      ]
     },
     "metadata": {},
     "output_type": "display_data"
    }
   ],
   "source": [
    "import matplotlib.pyplot as plt\n",
    "import seaborn as sns\n",
    "\n",
    "mu_a = posterior_samples[site.mu_a]\n",
    "mu_a = np.array(mu_a)\n",
    "mu_a.shape\n",
    "\n",
    "sigma_a = posterior_samples[site.sigma_a]\n",
    "sigma_a = np.array(sigma_a)\n",
    "sigma_a.shape\n",
    "\n",
    "loc = mu_a / sigma_a\n",
    "\n",
    "sns.kdeplot(loc[:, 0, 0], color=\"red\")\n",
    "sns.kdeplot(loc[:, 1, 0], color=\"blue\")\n",
    "plt.title((loc[:, 1, 0] < loc[:, 0, 0]).mean())\n"
   ]
  },
  {
   "cell_type": "code",
   "execution_count": 37,
   "metadata": {},
   "outputs": [
    {
     "data": {
      "text/plain": [
       "(4000, 1600, 1)"
      ]
     },
     "execution_count": 37,
     "metadata": {},
     "output_type": "execute_result"
    }
   ],
   "source": [
    "\n",
    "obs.shape\n"
   ]
  },
  {
   "cell_type": "code",
   "execution_count": 40,
   "metadata": {},
   "outputs": [
    {
     "data": {
      "text/plain": [
       "<Axes: xlabel='TMSInt', ylabel='PKPK_APB'>"
      ]
     },
     "execution_count": 40,
     "metadata": {},
     "output_type": "execute_result"
    },
    {
     "data": {
      "image/png": "[encoded data removed]",
      "text/plain": [
       "<Figure size 500x300 with 1 Axes>"
      ]
     },
     "metadata": {},
     "output_type": "display_data"
    }
   ],
   "source": [
    "plt.figure(figsize=(5, 3))\n",
    "\n",
    "mu = posterior_predictive[site.mu]\n",
    "mu = np.array(mu)\n",
    "mu.shape\n",
    "\n",
    "obs = posterior_predictive[site.obs]\n",
    "obs = np.array(obs)\n",
    "\n",
    "c = (8, 1)\n",
    "ind = df[model.combination_columns[::-1]].apply(tuple, axis=1).isin([c])\n",
    "temp_df = df[ind].reset_index(drop=True).copy()\n",
    "\n",
    "ind = prediction_df[model.combination_columns[::-1]].apply(tuple, axis=1).isin([c])\n",
    "temp_pred_df = prediction_df[ind].reset_index(drop=True).copy()\n",
    "temp_mu = mu[:, ind, 0]\n",
    "temp_obs = obs[:, ind, 0]\n",
    "\n",
    "sns.scatterplot(x=temp_df[model.intensity], y=temp_df[model.response[0]], color=\"red\", alpha=.5)\n",
    "sns.lineplot(x=temp_pred_df[model.intensity], y=temp_mu.mean(axis=0), color=\"black\")\n",
    "sns.lineplot(x=temp_pred_df[model.intensity], y=temp_obs.mean(axis=0), color=\"green\")\n"
   ]
  },
  {
   "cell_type": "code",
   "execution_count": 20,
   "metadata": {},
   "outputs": [
    {
     "name": "stderr",
     "output_type": "stream",
     "text": [
      "2023-11-03 15:28:36,386 - __main__ - INFO - Evaluating model ...\n",
      "/home/vishu/repos/hbmep-paper/.venv/lib/python3.11/site-packages/arviz/stats/stats.py:803: UserWarning: Estimated shape parameter of Pareto distribution is greater than 0.7 for one or more samples. You should consider using a more robust model, this is because importance sampling is less likely to work well if the marginal posterior and LOO posterior are very different. This is more likely to happen with a non-robust model and highly influential observations.\n",
      "  warnings.warn(\n",
      "2023-11-03 15:28:37,908 - __main__ - INFO - ELPD LOO (Log): 1134.32\n",
      "/home/vishu/repos/hbmep-paper/.venv/lib/python3.11/site-packages/arviz/stats/stats.py:1645: UserWarning: For one or more samples the posterior variance of the log predictive densities exceeds 0.4. This could be indication of WAIC starting to fail. \n",
      "See http://arxiv.org/abs/1507.04544 for details\n",
      "  warnings.warn(\n",
      "2023-11-03 15:28:37,965 - __main__ - INFO - ELPD WAIC (Log): 1138.72\n"
     ]
    }
   ],
   "source": [
    "numpyro_data = az.from_numpyro(mcmc)\n",
    "\n",
    "\"\"\" Model evaluation \"\"\"\n",
    "logger.info(\"Evaluating model ...\")\n",
    "\n",
    "loo = az.loo(numpyro_data)\n",
    "logger.info(f\"ELPD LOO (Log): {loo.elpd_loo:.2f}\")\n",
    "\n",
    "waic = az.waic(numpyro_data)\n",
    "logger.info(f\"ELPD WAIC (Log): {waic.elpd_waic:.2f}\")\n"
   ]
  },
  {
   "cell_type": "code",
   "execution_count": 42,
   "metadata": {},
   "outputs": [
    {
     "name": "stderr",
     "output_type": "stream",
     "text": [
      "/home/vishu/repos/hbmep-paper/.venv/lib/python3.11/site-packages/arviz/stats/stats.py:803: UserWarning: Estimated shape parameter of Pareto distribution is greater than 0.7 for one or more samples. You should consider using a more robust model, this is because importance sampling is less likely to work well if the marginal posterior and LOO posterior are very different. This is more likely to happen with a non-robust model and highly influential observations.\n",
      "  warnings.warn(\n"
     ]
    },
    {
     "data": {
      "text/plain": [
       "Computed from 4000 posterior samples and 1112 observations log-likelihood matrix.\n",
       "\n",
       "         Estimate       SE\n",
       "elpd_loo  1134.32    87.67\n",
       "p_loo      124.31        -\n",
       "\n",
       "There has been a warning during the calculation. Please check the results.\n",
       "------\n",
       "\n",
       "Pareto k diagnostic values:\n",
       "                         Count   Pct.\n",
       "(-Inf, 0.5]   (good)     1090   98.0%\n",
       " (0.5, 0.7]   (ok)         10    0.9%\n",
       "   (0.7, 1]   (bad)         7    0.6%\n",
       "   (1, Inf)   (very bad)    5    0.4%"
      ]
     },
     "execution_count": 42,
     "metadata": {},
     "output_type": "execute_result"
    }
   ],
   "source": [
    "loo = az.loo(numpyro_data, var_name=site.obs)\n",
    "loo\n"
   ]
  },
  {
   "cell_type": "code",
   "execution_count": null,
   "metadata": {},
   "outputs": [],
   "source": [
    "import pickle\n",
    "\n",
    "dest = os.path.join(model.build_dir, \"inference.pkl\")\n",
    "with open(dest, \"wb\") as f:\n",
    "    pickle.dump((model, mcmc, posterior_samples), f)\n"
   ]
  },
  {
   "cell_type": "code",
   "execution_count": null,
   "metadata": {},
   "outputs": [
    {
     "data": {
      "text/plain": [
       "'/home/vishu/repos/hbmep-paper/reports/paper/tms/link-comparison/rectified_logistic/numpyro_data.nc'"
      ]
     },
     "execution_count": 10,
     "metadata": {},
     "output_type": "execute_result"
    }
   ],
   "source": [
    "dest = os.path.join(model.build_dir, \"numpyro_data.nc\")\n",
    "az.to_netcdf(numpyro_data, dest)\n"
   ]
  },
  {
   "cell_type": "code",
   "execution_count": null,
   "metadata": {},
   "outputs": [],
   "source": []
  }
 ],
 "metadata": {
  "kernelspec": {
   "display_name": "Python 3 (ipykernel)",
   "language": "python",
   "name": "python3"
  },
  "language_info": {
   "codemirror_mode": {
    "name": "ipython",
    "version": 3
   },
   "file_extension": ".py",
   "mimetype": "text/x-python",
   "name": "python",
   "nbconvert_exporter": "python",
   "pygments_lexer": "ipython3",
   "version": "3.11.4"
  },
  "orig_nbformat": 4
 },
 "nbformat": 4,
 "nbformat_minor": 2
}
