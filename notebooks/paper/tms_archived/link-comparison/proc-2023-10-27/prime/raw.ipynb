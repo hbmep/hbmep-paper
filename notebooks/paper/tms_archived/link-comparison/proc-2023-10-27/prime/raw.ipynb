{
 "cells": [
  {
   "cell_type": "code",
   "execution_count": 1,
   "metadata": {},
   "outputs": [],
   "source": [
    "%reload_ext autoreload\n",
    "%autoreload 2\n",
    "\n",
    "import os\n",
    "import pickle\n",
    "import logging\n",
    "import multiprocessing\n",
    "from pathlib import Path\n",
    "\n",
    "import pandas as pd\n",
    "import numpy as np\n",
    "import jax\n",
    "import jax.numpy as jnp\n",
    "\n",
    "import arviz as az\n",
    "import numpyro\n",
    "\n",
    "from hbmep.config import Config\n",
    "from hbmep.model.utils import Site as site\n",
    "\n",
    "PLATFORM = \"cpu\"\n",
    "jax.config.update(\"jax_platforms\", PLATFORM)\n",
    "numpyro.set_platform(PLATFORM)\n",
    "\n",
    "cpu_count = multiprocessing.cpu_count() - 2\n",
    "numpyro.set_host_device_count(cpu_count)\n",
    "numpyro.enable_x64()\n",
    "numpyro.enable_validation()\n",
    "\n",
    "logger = logging.getLogger(__name__)"
   ]
  },
  {
   "cell_type": "code",
   "execution_count": 2,
   "metadata": {},
   "outputs": [],
   "source": [
    "from xml.sax import xmlreader\n",
    "import numpyro.distributions as dist\n",
    "from hbmep.model import Baseline\n",
    "\n",
    "\n",
    "class RectifiedLogistic(Baseline):\n",
    "    LINK = \"rectified_logistic\"\n",
    "\n",
    "    def __init__(self, config: Config):\n",
    "        super(RectifiedLogistic, self).__init__(config=config)\n",
    "        self.combination_columns = self.features + [self.subject]\n",
    "\n",
    "    def fn(self, x, a, b, v, L, l, H):\n",
    "        return (\n",
    "            L\n",
    "            + jnp.where(\n",
    "                x <= a,\n",
    "                0.,\n",
    "                -l\n",
    "                + (\n",
    "                    (H + l)\n",
    "                    / jnp.power(\n",
    "                        1\n",
    "                        + (\n",
    "                            (\n",
    "                                -1\n",
    "                                + jnp.power(\n",
    "                                    (H + l) / l,\n",
    "                                    v\n",
    "                                )\n",
    "                            )\n",
    "                            * jnp.exp(-b * (x - a))\n",
    "                        ),\n",
    "                        1 / v\n",
    "                    )\n",
    "                )\n",
    "            )\n",
    "        )\n",
    "\n",
    "    def fn_prime(self, x, *args):\n",
    "        gradient = jax.grad(self.fn, argnums=0)\n",
    "        for _ in range(len(x.shape)):\n",
    "            gradient = jax.vmap(gradient)\n",
    "        return gradient(x, *args)\n",
    "\n",
    "    def _model(self, subject, features, intensity, response_obs=None):\n",
    "        subject, n_subject = subject\n",
    "        features, n_features = features\n",
    "        intensity, n_data = intensity\n",
    "\n",
    "        intensity = intensity.reshape(-1, 1)\n",
    "        intensity = np.tile(intensity, (1, self.n_response))\n",
    "\n",
    "        feature0 = features[0].reshape(-1,)\n",
    "        n_feature0 = n_features[0]\n",
    "\n",
    "        with numpyro.plate(site.n_response, self.n_response, dim=-1):\n",
    "            global_sigma_b = numpyro.sample(\"global_sigma_b\", dist.HalfNormal(100))\n",
    "            global_sigma_v = numpyro.sample(\"global_sigma_v\", dist.HalfNormal(100))\n",
    "\n",
    "            global_sigma_L = numpyro.sample(\"global_sigma_L\", dist.HalfNormal(1))\n",
    "            global_sigma_l = numpyro.sample(\"global_sigma_l\", dist.HalfNormal(100))\n",
    "            global_sigma_H = numpyro.sample(\"global_sigma_H\", dist.HalfNormal(5))\n",
    "\n",
    "            global_sigma_g_1 = numpyro.sample(\"global_sigma_g_1\", dist.HalfNormal(100))\n",
    "            global_sigma_g_2 = numpyro.sample(\"global_sigma_g_2\", dist.HalfNormal(100))\n",
    "\n",
    "            global_sigma_p = numpyro.sample(\"global_sigma_p\", dist.HalfNormal(100))\n",
    "\n",
    "            with numpyro.plate(\"n_feature0\", n_feature0, dim=-2):\n",
    "                \"\"\" Hyper-priors \"\"\"\n",
    "                mu_a = numpyro.sample(site.mu_a, dist.HalfNormal(scale=5))\n",
    "                sigma_a = numpyro.sample(site.sigma_a, dist.HalfNormal(scale=1 / 10))\n",
    "\n",
    "                sigma_b_raw = numpyro.sample(\"sigma_b_raw\", dist.HalfNormal(scale=1))\n",
    "                sigma_b = numpyro.deterministic(site.sigma_b, global_sigma_b * sigma_b_raw)\n",
    "\n",
    "                sigma_v_raw = numpyro.sample(\"sigma_v_raw\", dist.HalfNormal(scale=1))\n",
    "                sigma_v = numpyro.deterministic(site.sigma_v, global_sigma_v * sigma_v_raw)\n",
    "\n",
    "                sigma_L_raw = numpyro.sample(\"sigma_L_raw\", dist.HalfNormal(scale=1))\n",
    "                sigma_L = numpyro.deterministic(site.sigma_L, global_sigma_L * sigma_L_raw)\n",
    "\n",
    "                sigma_l_raw = numpyro.sample(\"sigma_l_raw\", dist.HalfNormal(scale=1))\n",
    "                sigma_l = numpyro.deterministic(\"sigma_l\", global_sigma_l * sigma_l_raw)\n",
    "\n",
    "                sigma_H_raw = numpyro.sample(\"sigma_H_raw\", dist.HalfNormal(scale=1))\n",
    "                sigma_H = numpyro.deterministic(site.sigma_H, global_sigma_H * sigma_H_raw)\n",
    "\n",
    "                sigma_g_1_raw = numpyro.sample(\"sigma_g_1_raw\", dist.HalfNormal(scale=1))\n",
    "                sigma_g_1 = numpyro.deterministic(\"sigma_g_1\", global_sigma_g_1 * sigma_g_1_raw)\n",
    "\n",
    "                sigma_g_2_raw = numpyro.sample(\"sigma_g_2_raw\", dist.HalfNormal(scale=1))\n",
    "                sigma_g_2 = numpyro.deterministic(\"sigma_g_2\", global_sigma_g_2 * sigma_g_2_raw)\n",
    "\n",
    "                sigma_p_raw = numpyro.sample(\"sigma_p_raw\", dist.HalfNormal(scale=1))\n",
    "                sigma_p = numpyro.deterministic(\"sigma_p\", global_sigma_p * sigma_p_raw)\n",
    "\n",
    "                with numpyro.plate(site.n_subject, n_subject, dim=-3):\n",
    "                    \"\"\" Priors \"\"\"\n",
    "                    a_raw = numpyro.sample(\"a_raw\", dist.Gamma(concentration=mu_a, rate=1))\n",
    "                    a = numpyro.deterministic(site.a, (1 / sigma_a) * a_raw)\n",
    "\n",
    "                    b_raw = numpyro.sample(\"b_raw\", dist.HalfNormal(scale=1))\n",
    "                    b = numpyro.deterministic(site.b, sigma_b * b_raw)\n",
    "\n",
    "                    v_raw = numpyro.sample(\"v_raw\", dist.HalfNormal(scale=1))\n",
    "                    v = numpyro.deterministic(site.v, sigma_v * v_raw)\n",
    "\n",
    "                    L_raw = numpyro.sample(\"L_raw\", dist.HalfNormal(scale=1))\n",
    "                    L = numpyro.deterministic(site.L, sigma_L * L_raw)\n",
    "\n",
    "                    l_raw = numpyro.sample(\"l_raw\", dist.HalfNormal(scale=1))\n",
    "                    l = numpyro.deterministic(\"l\", sigma_l * l_raw)\n",
    "\n",
    "                    H_raw = numpyro.sample(\"H_raw\", dist.HalfNormal(scale=1))\n",
    "                    H = numpyro.deterministic(site.H, sigma_H * H_raw)\n",
    "\n",
    "                    g_1_raw = numpyro.sample(\"g_1_raw\", dist.HalfCauchy(scale=1))\n",
    "                    g_1 = numpyro.deterministic(site.g_1, sigma_g_1 * g_1_raw)\n",
    "\n",
    "                    g_2_raw = numpyro.sample(\"g_2_raw\", dist.HalfCauchy(scale=1))\n",
    "                    g_2 = numpyro.deterministic(site.g_2, sigma_g_2 * g_2_raw)\n",
    "\n",
    "                    p_raw = numpyro.sample(\"p_raw\", dist.HalfNormal(scale=1))\n",
    "                    p = numpyro.deterministic(\"p\", sigma_p * p_raw)\n",
    "\n",
    "        with numpyro.plate(site.n_response, self.n_response, dim=-1):\n",
    "            with numpyro.plate(site.data, n_data, dim=-2):\n",
    "                \"\"\" Model \"\"\"\n",
    "                mu = numpyro.deterministic(\n",
    "                    site.mu,\n",
    "                    self.fn(\n",
    "                        intensity,\n",
    "                        a[subject, feature0],\n",
    "                        b[subject, feature0],\n",
    "                        v[subject, feature0],\n",
    "                        L[subject, feature0],\n",
    "                        l[subject, feature0],\n",
    "                        H[subject, feature0]\n",
    "                    )\n",
    "                )\n",
    "                beta = numpyro.deterministic(\n",
    "                    site.beta,\n",
    "                    g_1[subject, feature0] + jnp.true_divide(g_2[subject, feature0], jnp.power(1 + mu, p[subject, feature0]))\n",
    "                )\n",
    "\n",
    "                \"\"\" Observation \"\"\"\n",
    "                numpyro.sample(\n",
    "                    site.obs,\n",
    "                    dist.Gamma(concentration=1 + jnp.multiply(mu, beta), rate=beta),\n",
    "                    obs=response_obs\n",
    "                )\n"
   ]
  },
  {
   "cell_type": "code",
   "execution_count": 3,
   "metadata": {},
   "outputs": [
    {
     "name": "stderr",
     "output_type": "stream",
     "text": [
      "2023-11-03 14:39:52,662 - hbmep.config - INFO - Verifying configuration ...\n",
      "2023-11-03 14:39:52,663 - hbmep.config - INFO - Success!\n",
      "2023-11-03 14:39:52,680 - hbmep.model.baseline - INFO - Initialized model with rectified_logistic link\n"
     ]
    }
   ],
   "source": [
    "toml_path = os.path.join(\"/home/vishu/repos/hbmep-paper/configs/paper/tms/link-comparison/proc-2023-10-27/prime/rectified_logistic.toml\")\n",
    "\n",
    "config = Config(toml_path=toml_path)\n",
    "config.BUILD_DIR = os.path.join(config.BUILD_DIR, \"raw\")\n",
    "\n",
    "config.MCMC_PARAMS[\"num_warmup\"] = 500\n",
    "config.MCMC_PARAMS[\"num_samples\"] = 1000\n",
    "\n",
    "model = RectifiedLogistic(config=config)\n",
    "\n"
   ]
  },
  {
   "cell_type": "code",
   "execution_count": 4,
   "metadata": {},
   "outputs": [
    {
     "name": "stderr",
     "output_type": "stream",
     "text": [
      "2023-11-03 14:39:52,752 - hbmep.dataset.core - INFO - Artefacts will be stored here - /home/vishu/repos/hbmep-paper/reports/paper/tms/link-comparison/proc-2023-10-27/prime/rectified_logistic/raw\n",
      "2023-11-03 14:39:52,753 - hbmep.dataset.core - INFO - Copied config to /home/vishu/repos/hbmep-paper/reports/paper/tms/link-comparison/proc-2023-10-27/prime/rectified_logistic/raw\n",
      "2023-11-03 14:39:52,753 - hbmep.dataset.core - INFO - Processing data ...\n",
      "2023-11-03 14:39:52,754 - hbmep.utils.utils - INFO - func:load took: 0.00 sec\n"
     ]
    }
   ],
   "source": [
    "src = \"/home/vishu/data/hbmep-processed/human/tms/data_pkpk_auc_proc-2023-10-27.csv\"\n",
    "df = pd.read_csv(src)\n",
    "\n",
    "subset = [\"SCA01\", \"SCA03\", \"SCA04\", \"SCA07\"]\n",
    "ind = df[model.subject].isin(subset)\n",
    "df = df[ind].reset_index(drop=True).copy()\n",
    "\n",
    "df, encoder_dict = model.load(df=df)\n"
   ]
  },
  {
   "cell_type": "code",
   "execution_count": 5,
   "metadata": {},
   "outputs": [
    {
     "name": "stderr",
     "output_type": "stream",
     "text": [
      "2023-11-03 14:39:52,836 - hbmep.model.baseline - INFO - Running inference with rectified_logistic ...\n"
     ]
    },
    {
     "data": {
      "application/vnd.jupyter.widget-view+json": {
       "model_id": "e2828cde46df498688bdded0b1ebb3e4",
       "version_major": 2,
       "version_minor": 0
      },
      "text/plain": [
       "  0%|          | 0/1500 [00:00<?, ?it/s]"
      ]
     },
     "metadata": {},
     "output_type": "display_data"
    },
    {
     "data": {
      "application/vnd.jupyter.widget-view+json": {
       "model_id": "2d5bf1df1d3b478eb09b50ae3d4885c5",
       "version_major": 2,
       "version_minor": 0
      },
      "text/plain": [
       "  0%|          | 0/1500 [00:00<?, ?it/s]"
      ]
     },
     "metadata": {},
     "output_type": "display_data"
    },
    {
     "data": {
      "application/vnd.jupyter.widget-view+json": {
       "model_id": "6f0293ed3e4d4778a4c522bf4a4bf49c",
       "version_major": 2,
       "version_minor": 0
      },
      "text/plain": [
       "  0%|          | 0/1500 [00:00<?, ?it/s]"
      ]
     },
     "metadata": {},
     "output_type": "display_data"
    },
    {
     "data": {
      "application/vnd.jupyter.widget-view+json": {
       "model_id": "a8446fc85f8848c0816a82a3de5363bf",
       "version_major": 2,
       "version_minor": 0
      },
      "text/plain": [
       "  0%|          | 0/1500 [00:00<?, ?it/s]"
      ]
     },
     "metadata": {},
     "output_type": "display_data"
    }
   ],
   "source": [
    "mcmc, posterior_samples = model.run_inference(df=df)\n"
   ]
  },
  {
   "cell_type": "code",
   "execution_count": null,
   "metadata": {},
   "outputs": [
    {
     "name": "stderr",
     "output_type": "stream",
     "text": [
      "2023-11-03 14:37:48,061 - hbmep.utils.utils - INFO - func:make_prediction_dataset took: 0.00 sec\n",
      "2023-11-03 14:37:49,105 - hbmep.utils.utils - INFO - func:predict took: 1.04 sec\n",
      "2023-11-03 14:37:49,108 - hbmep.model.baseline - INFO - Rendering ...\n",
      "2023-11-03 14:37:49,765 - hbmep.model.baseline - INFO - Saved to /home/vishu/repos/hbmep-paper/reports/paper/tms/link-comparison/proc-2023-10-27/prime/rectified_logistic/raw/recruitment_curves.pdf\n",
      "2023-11-03 14:37:49,766 - hbmep.utils.utils - INFO - func:render_recruitment_curves took: 0.66 sec\n",
      "2023-11-03 14:37:49,769 - hbmep.model.baseline - INFO - Rendering Posterior Predictive Check ...\n",
      "2023-11-03 14:37:50,611 - hbmep.model.baseline - INFO - Saved to /home/vishu/repos/hbmep-paper/reports/paper/tms/link-comparison/proc-2023-10-27/prime/rectified_logistic/raw/posterior_predictive_check.pdf\n",
      "2023-11-03 14:37:50,611 - hbmep.utils.utils - INFO - func:_render_predictive_check took: 0.85 sec\n",
      "2023-11-03 14:37:50,612 - hbmep.utils.utils - INFO - func:render_predictive_check took: 0.85 sec\n"
     ]
    }
   ],
   "source": [
    "prediction_df = model.make_prediction_dataset(df=df)\n",
    "posterior_predictive = model.predict(df=prediction_df, posterior_samples=posterior_samples)\n",
    "\n",
    "model.render_recruitment_curves(df=df, encoder_dict=encoder_dict, posterior_samples=posterior_samples, prediction_df=prediction_df, posterior_predictive=posterior_predictive)\n",
    "model.render_predictive_check(df=df, encoder_dict=encoder_dict, prediction_df=prediction_df, posterior_predictive=posterior_predictive)\n"
   ]
  },
  {
   "cell_type": "code",
   "execution_count": null,
   "metadata": {},
   "outputs": [
    {
     "name": "stdout",
     "output_type": "stream",
     "text": [
      "\n",
      "                         mean       std    median      2.5%     97.5%     n_eff     r_hat\n",
      "       H_raw[0,0,0]      0.45      0.19      0.41      0.19      0.85     28.02      1.15\n",
      "       H_raw[1,0,0]      0.67      0.60      0.54      0.00      1.80     31.06      1.13\n",
      "       H_raw[2,0,0]      0.06      0.02      0.05      0.02      0.10     27.43      1.16\n",
      "       H_raw[3,0,0]      1.56      0.65      1.45      0.60      2.88     26.14      1.17\n",
      "       L_raw[0,0,0]      0.62      0.25      0.59      0.15      1.05      3.76      1.58\n",
      "       L_raw[1,0,0]      0.51      0.21      0.49      0.11      0.88      3.64      1.62\n",
      "       L_raw[2,0,0]      1.06      0.45      1.03      0.22      1.87      4.68      1.40\n",
      "       L_raw[3,0,0]      1.18      0.53      1.18      0.23      2.13      3.78      1.68\n",
      "       a_raw[0,0,0]      2.76      1.30      2.64      0.58      5.20      9.95      1.31\n",
      "       a_raw[1,0,0]      6.09      3.30      5.89      0.02     11.50      7.68      1.53\n",
      "       a_raw[2,0,0]      3.68      1.74      3.47      0.66      6.87     11.44      1.27\n",
      "       a_raw[3,0,0]      1.91      0.99      1.69      0.32      3.77      6.90      1.44\n",
      "       b_raw[0,0,0]      0.84      0.51      0.71      0.10      1.87     59.21      1.02\n",
      "       b_raw[1,0,0]      0.71      0.59      0.60      0.00      1.85     63.44      1.07\n",
      "       b_raw[2,0,0]      0.73      0.55      0.60      0.04      1.83     47.30      1.10\n",
      "       b_raw[3,0,0]      0.50      0.41      0.37      0.01      1.33     30.53      1.12\n",
      "     g_1_raw[0,0,0]      0.47      0.50      0.33      0.04      1.25     16.90      1.25\n",
      "     g_1_raw[1,0,0]    418.78    935.73     76.46      0.02   1625.77      8.44      1.43\n",
      "     g_1_raw[2,0,0]      2.20      2.47      1.47      0.23      6.23     17.54      1.23\n",
      "     g_1_raw[3,0,0]      0.40      0.41      0.28      0.04      1.20     16.19      1.25\n",
      "     g_2_raw[0,0,0]     81.84    101.65     55.29      7.89    229.80     48.68      1.12\n",
      "     g_2_raw[1,0,0]     35.81     47.60     18.22      0.02    122.24      4.56      1.46\n",
      "     g_2_raw[2,0,0]      3.17      6.32      1.58      0.09      8.56     31.09      1.17\n",
      "     g_2_raw[3,0,0]     14.47     23.13      3.89      0.32     52.78      5.04      1.37\n",
      "  global_sigma_H[0]      4.61      3.22      3.71      0.31     11.59     20.58      1.14\n",
      "  global_sigma_L[0]      0.20      0.35      0.08      0.00      0.95     22.34      1.22\n",
      "  global_sigma_b[0]     26.65     31.64     15.49      0.06     87.43     30.37      1.14\n",
      "global_sigma_g_1[0]     47.40     42.97     31.85      2.87    141.68     46.29      1.09\n",
      "global_sigma_g_2[0]    166.64     66.88    158.25     49.36    291.14     39.23      1.10\n",
      "  global_sigma_l[0]     16.97     30.90      3.60      0.00     77.18     27.09      1.17\n",
      "  global_sigma_p[0]    109.22     51.50    103.27     16.44    199.91     55.77      1.04\n",
      "  global_sigma_v[0]     67.12     55.93     52.79      0.40    168.45     39.15      1.09\n",
      "       l_raw[0,0,0]      0.78      0.55      0.67      0.01      1.82     46.06      1.08\n",
      "       l_raw[1,0,0]      0.66      0.49      0.55      0.01      1.60     51.55      1.12\n",
      "       l_raw[2,0,0]      0.50      0.54      0.28      0.00      1.59     32.70      1.18\n",
      "       l_raw[3,0,0]      0.48      0.41      0.36      0.00      1.28     89.99      1.03\n",
      "       p_raw[0,0,0]      1.26      0.51      1.17      0.41      2.30     40.71      1.12\n",
      "       p_raw[1,0,0]      0.69      0.55      0.57      0.00      1.77     36.99      1.07\n",
      "       p_raw[2,0,0]      1.00      0.50      0.93      0.15      2.02     46.00      1.07\n",
      "       p_raw[3,0,0]      0.89      0.56      0.76      0.12      2.12     11.31      1.46\n",
      "   sigma_H_raw[0,0]      0.89      0.58      0.76      0.12      2.03     62.31      1.12\n",
      "   sigma_L_raw[0,0]      0.35      0.42      0.18      0.00      1.23     36.54      1.10\n",
      "   sigma_b_raw[0,0]      0.35      0.44      0.16      0.00      1.34     29.38      1.15\n",
      " sigma_g_1_raw[0,0]      0.70      0.56      0.57      0.07      1.79     26.51      1.20\n",
      " sigma_g_2_raw[0,0]      1.71      0.61      1.64      0.67      2.92     83.75      1.05\n",
      "   sigma_l_raw[0,0]      0.30      0.44      0.11      0.00      1.23     40.04      1.10\n",
      "   sigma_p_raw[0,0]      1.21      0.61      1.07      0.31      2.45     41.58      1.09\n",
      "   sigma_v_raw[0,0]      0.49      0.50      0.31      0.00      1.52      7.24      1.22\n",
      "       v_raw[0,0,0]      0.95      0.56      0.88      0.05      1.98     18.66      1.17\n",
      "       v_raw[1,0,0]      0.96      0.64      0.93      0.01      2.07      8.72      1.24\n",
      "       v_raw[2,0,0]      0.61      0.58      0.46      0.00      1.77      6.13      1.27\n",
      "       v_raw[3,0,0]      0.54      0.44      0.43      0.00      1.46     74.90      1.04\n",
      "           µ_a[0,0]      3.54      1.63      3.31      0.88      6.59      6.99      1.41\n",
      "           σ_a[0,0]      0.08      0.04      0.08      0.02      0.15     11.03      1.29\n",
      "\n",
      "Number of divergences: 2299\n"
     ]
    }
   ],
   "source": [
    "mcmc.print_summary(prob=.95)\n"
   ]
  },
  {
   "cell_type": "code",
   "execution_count": null,
   "metadata": {},
   "outputs": [
    {
     "name": "stderr",
     "output_type": "stream",
     "text": [
      "2023-11-03 14:37:22,098 - __main__ - INFO - Evaluating model ...\n",
      "/home/vishu/repos/hbmep-paper/.venv/lib/python3.11/site-packages/arviz/stats/stats.py:803: UserWarning: Estimated shape parameter of Pareto distribution is greater than 0.7 for one or more samples. You should consider using a more robust model, this is because importance sampling is less likely to work well if the marginal posterior and LOO posterior are very different. This is more likely to happen with a non-robust model and highly influential observations.\n",
      "  warnings.warn(\n",
      "2023-11-03 14:37:22,602 - __main__ - INFO - ELPD LOO (Log): 616.62\n",
      "/home/vishu/repos/hbmep-paper/.venv/lib/python3.11/site-packages/arviz/stats/stats.py:1645: UserWarning: For one or more samples the posterior variance of the log predictive densities exceeds 0.4. This could be indication of WAIC starting to fail. \n",
      "See http://arxiv.org/abs/1507.04544 for details\n",
      "  warnings.warn(\n",
      "2023-11-03 14:37:22,615 - __main__ - INFO - ELPD WAIC (Log): 619.41\n"
     ]
    }
   ],
   "source": [
    "numpyro_data = az.from_numpyro(mcmc)\n",
    "\n",
    "\"\"\" Model evaluation \"\"\"\n",
    "logger.info(\"Evaluating model ...\")\n",
    "\n",
    "score = az.loo(numpyro_data)\n",
    "logger.info(f\"ELPD LOO (Log): {score.elpd_loo:.2f}\")\n",
    "\n",
    "score = az.waic(numpyro_data)\n",
    "logger.info(f\"ELPD WAIC (Log): {score.elpd_waic:.2f}\")\n"
   ]
  },
  {
   "cell_type": "code",
   "execution_count": null,
   "metadata": {},
   "outputs": [],
   "source": [
    "import pickle\n",
    "\n",
    "dest = os.path.join(model.build_dir, \"inference.pkl\")\n",
    "with open(dest, \"wb\") as f:\n",
    "    pickle.dump((model, mcmc, posterior_samples), f)\n"
   ]
  },
  {
   "cell_type": "code",
   "execution_count": null,
   "metadata": {},
   "outputs": [
    {
     "data": {
      "text/plain": [
       "'/home/vishu/repos/hbmep-paper/reports/paper/tms/link-comparison/rectified_logistic/numpyro_data.nc'"
      ]
     },
     "execution_count": 10,
     "metadata": {},
     "output_type": "execute_result"
    }
   ],
   "source": [
    "dest = os.path.join(model.build_dir, \"numpyro_data.nc\")\n",
    "az.to_netcdf(numpyro_data, dest)\n"
   ]
  },
  {
   "cell_type": "code",
   "execution_count": null,
   "metadata": {},
   "outputs": [],
   "source": []
  }
 ],
 "metadata": {
  "kernelspec": {
   "display_name": "Python 3 (ipykernel)",
   "language": "python",
   "name": "python3"
  },
  "language_info": {
   "codemirror_mode": {
    "name": "ipython",
    "version": 3
   },
   "file_extension": ".py",
   "mimetype": "text/x-python",
   "name": "python",
   "nbconvert_exporter": "python",
   "pygments_lexer": "ipython3",
   "version": "3.11.4"
  },
  "orig_nbformat": 4
 },
 "nbformat": 4,
 "nbformat_minor": 2
}
