{
 "cells": [
  {
   "cell_type": "code",
   "execution_count": 1,
   "metadata": {},
   "outputs": [],
   "source": [
    "%reload_ext autoreload\n",
    "%autoreload 2\n",
    "\n",
    "import os\n",
    "import pickle\n",
    "import logging\n",
    "import multiprocessing\n",
    "from pathlib import Path\n",
    "\n",
    "import pandas as pd\n",
    "import numpy as np\n",
    "import jax\n",
    "import jax.numpy as jnp\n",
    "\n",
    "import arviz as az\n",
    "import numpyro\n",
    "\n",
    "from hbmep.config import Config\n",
    "from hbmep.model.utils import Site as site\n",
    "\n",
    "PLATFORM = \"cpu\"\n",
    "jax.config.update(\"jax_platforms\", PLATFORM)\n",
    "numpyro.set_platform(PLATFORM)\n",
    "\n",
    "cpu_count = multiprocessing.cpu_count() - 2\n",
    "numpyro.set_host_device_count(cpu_count)\n",
    "numpyro.enable_x64()\n",
    "numpyro.enable_validation()\n",
    "\n",
    "logger = logging.getLogger(__name__)"
   ]
  },
  {
   "cell_type": "code",
   "execution_count": 2,
   "metadata": {},
   "outputs": [],
   "source": [
    "from xml.sax import xmlreader\n",
    "import numpyro.distributions as dist\n",
    "from hbmep.model import Baseline\n",
    "\n",
    "\n",
    "class RectifiedLogistic(Baseline):\n",
    "    LINK = \"rectified_logistic\"\n",
    "\n",
    "    def __init__(self, config: Config):\n",
    "        super(RectifiedLogistic, self).__init__(config=config)\n",
    "        self.combination_columns = self.features + [self.subject]\n",
    "\n",
    "    def fn(self, x, a, b, v, L, l, H):\n",
    "        return (\n",
    "            L\n",
    "            + jnp.where(\n",
    "                x <= a,\n",
    "                0.,\n",
    "                -l\n",
    "                + (\n",
    "                    (H + l)\n",
    "                    / jnp.power(\n",
    "                        1\n",
    "                        + (\n",
    "                            (\n",
    "                                -1\n",
    "                                + jnp.power(\n",
    "                                    (H + l) / l,\n",
    "                                    v\n",
    "                                )\n",
    "                            )\n",
    "                            * jnp.exp(-b * (x - a))\n",
    "                        ),\n",
    "                        1 / v\n",
    "                    )\n",
    "                )\n",
    "            )\n",
    "        )\n",
    "\n",
    "    def fn_prime(self, x, *args):\n",
    "        gradient = jax.grad(self.fn, argnums=0)\n",
    "        for _ in range(len(x.shape)):\n",
    "            gradient = jax.vmap(gradient)\n",
    "        return gradient(x, *args)\n",
    "\n",
    "    def _model(self, subject, features, intensity, response_obs=None):\n",
    "        subject, n_subject = subject\n",
    "        features, n_features = features\n",
    "        intensity, n_data = intensity\n",
    "\n",
    "        intensity = intensity.reshape(-1, 1)\n",
    "        intensity = np.tile(intensity, (1, self.n_response))\n",
    "\n",
    "        feature0 = features[0].reshape(-1,)\n",
    "        n_feature0 = n_features[0]\n",
    "\n",
    "        with numpyro.plate(site.n_response, self.n_response, dim=-1):\n",
    "            global_sigma_b = numpyro.sample(\"global_sigma_b\", dist.HalfNormal(100))\n",
    "            global_sigma_v = numpyro.sample(\"global_sigma_v\", dist.HalfNormal(100))\n",
    "\n",
    "            global_sigma_L = numpyro.sample(\"global_sigma_L\", dist.HalfNormal(1))\n",
    "            global_sigma_l = numpyro.sample(\"global_sigma_l\", dist.HalfNormal(100))\n",
    "            global_sigma_H = numpyro.sample(\"global_sigma_H\", dist.HalfNormal(5))\n",
    "\n",
    "            global_sigma_g_1 = numpyro.sample(\"global_sigma_g_1\", dist.HalfNormal(100))\n",
    "            global_sigma_g_2 = numpyro.sample(\"global_sigma_g_2\", dist.HalfNormal(100))\n",
    "            global_sigma_g_3 = numpyro.sample(\"global_sigma_g_3\", dist.HalfNormal(100))\n",
    "\n",
    "            # global_sigma_p = numpyro.sample(\"global_sigma_p\", dist.HalfNormal(100))\n",
    "\n",
    "            with numpyro.plate(\"n_feature0\", n_feature0, dim=-2):\n",
    "                \"\"\" Hyper-priors \"\"\"\n",
    "                mu_a = numpyro.sample(site.mu_a, dist.HalfNormal(scale=5))\n",
    "                sigma_a = numpyro.sample(site.sigma_a, dist.HalfNormal(scale=1 / 10))\n",
    "\n",
    "                sigma_b_raw = numpyro.sample(\"sigma_b_raw\", dist.HalfNormal(scale=1))\n",
    "                sigma_b = numpyro.deterministic(site.sigma_b, global_sigma_b * sigma_b_raw)\n",
    "\n",
    "                sigma_v_raw = numpyro.sample(\"sigma_v_raw\", dist.HalfNormal(scale=1))\n",
    "                sigma_v = numpyro.deterministic(site.sigma_v, global_sigma_v * sigma_v_raw)\n",
    "\n",
    "                sigma_L_raw = numpyro.sample(\"sigma_L_raw\", dist.HalfNormal(scale=1))\n",
    "                sigma_L = numpyro.deterministic(site.sigma_L, global_sigma_L * sigma_L_raw)\n",
    "\n",
    "                sigma_l_raw = numpyro.sample(\"sigma_l_raw\", dist.HalfNormal(scale=1))\n",
    "                sigma_l = numpyro.deterministic(\"sigma_l\", global_sigma_l * sigma_l_raw)\n",
    "\n",
    "                sigma_H_raw = numpyro.sample(\"sigma_H_raw\", dist.HalfNormal(scale=1))\n",
    "                sigma_H = numpyro.deterministic(site.sigma_H, global_sigma_H * sigma_H_raw)\n",
    "\n",
    "                sigma_g_1_raw = numpyro.sample(\"sigma_g_1_raw\", dist.HalfNormal(scale=1))\n",
    "                sigma_g_1 = numpyro.deterministic(\"sigma_g_1\", global_sigma_g_1 * sigma_g_1_raw)\n",
    "\n",
    "                sigma_g_2_raw = numpyro.sample(\"sigma_g_2_raw\", dist.HalfNormal(scale=1))\n",
    "                sigma_g_2 = numpyro.deterministic(\"sigma_g_2\", global_sigma_g_2 * sigma_g_2_raw)\n",
    "\n",
    "                sigma_g_3_raw = numpyro.sample(\"sigma_g_3_raw\", dist.HalfNormal(scale=1))\n",
    "                sigma_g_3 = numpyro.deterministic(\"sigma_g_3\", global_sigma_g_3 * sigma_g_3_raw)\n",
    "\n",
    "                # sigma_p_raw = numpyro.sample(\"sigma_p_raw\", dist.HalfNormal(scale=1))\n",
    "                # sigma_p = numpyro.deterministic(\"sigma_p\", global_sigma_p * sigma_p_raw)\n",
    "\n",
    "                with numpyro.plate(site.n_subject, n_subject, dim=-3):\n",
    "                    \"\"\" Priors \"\"\"\n",
    "                    a_raw = numpyro.sample(\"a_raw\", dist.Gamma(concentration=mu_a, rate=1))\n",
    "                    a = numpyro.deterministic(site.a, (1 / sigma_a) * a_raw)\n",
    "\n",
    "                    b_raw = numpyro.sample(\"b_raw\", dist.HalfNormal(scale=1))\n",
    "                    b = numpyro.deterministic(site.b, sigma_b * b_raw)\n",
    "\n",
    "                    v_raw = numpyro.sample(\"v_raw\", dist.HalfNormal(scale=1))\n",
    "                    v = numpyro.deterministic(site.v, sigma_v * v_raw)\n",
    "\n",
    "                    L_raw = numpyro.sample(\"L_raw\", dist.HalfNormal(scale=1))\n",
    "                    L = numpyro.deterministic(site.L, sigma_L * L_raw)\n",
    "\n",
    "                    l_raw = numpyro.sample(\"l_raw\", dist.HalfNormal(scale=1))\n",
    "                    l = numpyro.deterministic(\"l\", sigma_l * l_raw)\n",
    "\n",
    "                    H_raw = numpyro.sample(\"H_raw\", dist.HalfNormal(scale=1))\n",
    "                    H = numpyro.deterministic(site.H, sigma_H * H_raw)\n",
    "\n",
    "                    g_1_raw = numpyro.sample(\"g_1_raw\", dist.HalfCauchy(scale=1))\n",
    "                    g_1 = numpyro.deterministic(site.g_1, sigma_g_1 * g_1_raw)\n",
    "\n",
    "                    g_2_raw = numpyro.sample(\"g_2_raw\", dist.HalfCauchy(scale=1))\n",
    "                    g_2 = numpyro.deterministic(site.g_2, sigma_g_2 * g_2_raw)\n",
    "\n",
    "                    g_3_raw = numpyro.sample(\"g_3_raw\", dist.HalfCauchy(scale=1))\n",
    "                    g_3 = numpyro.deterministic(\"g_3\", sigma_g_3 * g_3_raw)\n",
    "\n",
    "                    # p_raw = numpyro.sample(\"p_raw\", dist.HalfNormal(scale=1))\n",
    "                    # p = numpyro.deterministic(\"p\", sigma_p * p_raw)\n",
    "\n",
    "        with numpyro.plate(site.n_response, self.n_response, dim=-1):\n",
    "            with numpyro.plate(site.data, n_data, dim=-2):\n",
    "                \"\"\" Model \"\"\"\n",
    "                mu = numpyro.deterministic(\n",
    "                    site.mu,\n",
    "                    self.fn(\n",
    "                        intensity,\n",
    "                        a[subject, feature0],\n",
    "                        b[subject, feature0],\n",
    "                        v[subject, feature0],\n",
    "                        L[subject, feature0],\n",
    "                        l[subject, feature0],\n",
    "                        H[subject, feature0]\n",
    "                    )\n",
    "                )\n",
    "                mu_prime = numpyro.deterministic(\n",
    "                    \"mu_prime\",\n",
    "                    self.fn_prime(\n",
    "                        intensity,\n",
    "                        a[subject, feature0],\n",
    "                        b[subject, feature0],\n",
    "                        v[subject, feature0],\n",
    "                        L[subject, feature0],\n",
    "                        l[subject, feature0],\n",
    "                        H[subject, feature0]\n",
    "                    )\n",
    "                )\n",
    "                beta = numpyro.deterministic(\n",
    "                    site.beta,\n",
    "                    g_1[subject, feature0] + g_2[subject, feature0] * (1 / (mu + 1)) + g_3[subject, feature0] * (1 / (mu_prime + 1))\n",
    "                )\n",
    "\n",
    "                \"\"\" Observation \"\"\"\n",
    "                numpyro.sample(\n",
    "                    site.obs,\n",
    "                    dist.Gamma(concentration=mu * beta, rate=beta),\n",
    "                    obs=response_obs\n",
    "                )\n"
   ]
  },
  {
   "cell_type": "code",
   "execution_count": 3,
   "metadata": {},
   "outputs": [
    {
     "name": "stderr",
     "output_type": "stream",
     "text": [
      "2023-11-03 12:21:39,962 - hbmep.config - INFO - Verifying configuration ...\n",
      "2023-11-03 12:21:39,962 - hbmep.config - INFO - Success!\n",
      "2023-11-03 12:21:39,978 - hbmep.model.baseline - INFO - Initialized model with rectified_logistic link\n"
     ]
    }
   ],
   "source": [
    "toml_path = os.path.join(\"/home/vishu/repos/hbmep-paper/configs/paper/tms/link-comparison/proc-2023-10-27/prime/rectified_logistic.toml\")\n",
    "\n",
    "config = Config(toml_path=toml_path)\n",
    "config.MCMC_PARAMS[\"num_warmup\"] = 500\n",
    "config.MCMC_PARAMS[\"num_samples\"] = 1000\n",
    "\n",
    "model = RectifiedLogistic(config=config)\n",
    "\n"
   ]
  },
  {
   "cell_type": "code",
   "execution_count": 4,
   "metadata": {},
   "outputs": [
    {
     "name": "stderr",
     "output_type": "stream",
     "text": [
      "2023-11-03 12:21:40,099 - hbmep.dataset.core - INFO - Artefacts will be stored here - /home/vishu/repos/hbmep-paper/reports/paper/tms/link-comparison/proc-2023-10-27/prime/rectified_logistic\n",
      "2023-11-03 12:21:40,100 - hbmep.dataset.core - INFO - Copied config to /home/vishu/repos/hbmep-paper/reports/paper/tms/link-comparison/proc-2023-10-27/prime/rectified_logistic\n",
      "2023-11-03 12:21:40,101 - hbmep.dataset.core - INFO - Processing data ...\n",
      "2023-11-03 12:21:40,102 - hbmep.utils.utils - INFO - func:load took: 0.00 sec\n"
     ]
    }
   ],
   "source": [
    "src = \"/home/vishu/data/hbmep-processed/human/tms/data_pkpk_auc_proc-2023-10-27.csv\"\n",
    "df = pd.read_csv(src)\n",
    "\n",
    "subset = [\"SCA01\", \"SCA02\", \"SCA03\", \"SCA07\"]\n",
    "ind = df[model.subject].isin(subset)\n",
    "df = df[ind].reset_index(drop=True).copy()\n",
    "\n",
    "df, encoder_dict = model.load(df=df)\n"
   ]
  },
  {
   "cell_type": "code",
   "execution_count": 5,
   "metadata": {},
   "outputs": [
    {
     "name": "stderr",
     "output_type": "stream",
     "text": [
      "2023-11-03 12:21:40,190 - hbmep.model.baseline - INFO - Running inference with rectified_logistic ...\n"
     ]
    },
    {
     "data": {
      "application/vnd.jupyter.widget-view+json": {
       "model_id": "de6d7b35c9374429babd616391014806",
       "version_major": 2,
       "version_minor": 0
      },
      "text/plain": [
       "  0%|          | 0/1500 [00:00<?, ?it/s]"
      ]
     },
     "metadata": {},
     "output_type": "display_data"
    },
    {
     "data": {
      "application/vnd.jupyter.widget-view+json": {
       "model_id": "138c51d40fd14ef288e2a0082208fb43",
       "version_major": 2,
       "version_minor": 0
      },
      "text/plain": [
       "  0%|          | 0/1500 [00:00<?, ?it/s]"
      ]
     },
     "metadata": {},
     "output_type": "display_data"
    },
    {
     "data": {
      "application/vnd.jupyter.widget-view+json": {
       "model_id": "11a811e8665846be829310aa88c204da",
       "version_major": 2,
       "version_minor": 0
      },
      "text/plain": [
       "  0%|          | 0/1500 [00:00<?, ?it/s]"
      ]
     },
     "metadata": {},
     "output_type": "display_data"
    },
    {
     "data": {
      "application/vnd.jupyter.widget-view+json": {
       "model_id": "6a26adce64b042ffafaff79d560439d6",
       "version_major": 2,
       "version_minor": 0
      },
      "text/plain": [
       "  0%|          | 0/1500 [00:00<?, ?it/s]"
      ]
     },
     "metadata": {},
     "output_type": "display_data"
    },
    {
     "name": "stderr",
     "output_type": "stream",
     "text": [
      "2023-11-03 12:22:32,991 - hbmep.utils.utils - INFO - func:run_inference took: 52.80 sec\n"
     ]
    }
   ],
   "source": [
    "mcmc, posterior_samples = model.run_inference(df=df)\n"
   ]
  },
  {
   "cell_type": "code",
   "execution_count": 8,
   "metadata": {},
   "outputs": [
    {
     "name": "stderr",
     "output_type": "stream",
     "text": [
      "2023-11-03 12:28:42,177 - hbmep.utils.utils - INFO - func:make_prediction_dataset took: 0.00 sec\n",
      "2023-11-03 12:28:43,318 - hbmep.utils.utils - INFO - func:predict took: 1.14 sec\n",
      "2023-11-03 12:28:43,321 - hbmep.model.baseline - INFO - Rendering ...\n",
      "2023-11-03 12:28:43,988 - hbmep.model.baseline - INFO - Saved to /home/vishu/repos/hbmep-paper/reports/paper/tms/link-comparison/proc-2023-10-27/prime/rectified_logistic/recruitment_curves.pdf\n",
      "2023-11-03 12:28:43,988 - hbmep.utils.utils - INFO - func:render_recruitment_curves took: 0.67 sec\n",
      "2023-11-03 12:28:43,991 - hbmep.model.baseline - INFO - Rendering Posterior Predictive Check ...\n",
      "2023-11-03 12:28:44,885 - hbmep.model.baseline - INFO - Saved to /home/vishu/repos/hbmep-paper/reports/paper/tms/link-comparison/proc-2023-10-27/prime/rectified_logistic/posterior_predictive_check.pdf\n",
      "2023-11-03 12:28:44,885 - hbmep.utils.utils - INFO - func:_render_predictive_check took: 0.90 sec\n",
      "2023-11-03 12:28:44,885 - hbmep.utils.utils - INFO - func:render_predictive_check took: 0.90 sec\n"
     ]
    }
   ],
   "source": [
    "prediction_df = model.make_prediction_dataset(df=df)\n",
    "posterior_predictive = model.predict(df=prediction_df, posterior_samples=posterior_samples)\n",
    "\n",
    "model.render_recruitment_curves(df=df, encoder_dict=encoder_dict, posterior_samples=posterior_samples, prediction_df=prediction_df, posterior_predictive=posterior_predictive)\n",
    "model.render_predictive_check(df=df, encoder_dict=encoder_dict, prediction_df=prediction_df, posterior_predictive=posterior_predictive)\n"
   ]
  },
  {
   "cell_type": "code",
   "execution_count": 7,
   "metadata": {},
   "outputs": [
    {
     "name": "stdout",
     "output_type": "stream",
     "text": [
      "\n",
      "                         mean       std    median      2.5%     97.5%     n_eff     r_hat\n",
      "       H_raw[0,0,0]      0.46      0.17      0.46      0.15      0.79     40.43      1.11\n",
      "       H_raw[1,0,0]      0.75      0.58      0.65      0.00      1.93    150.85      1.02\n",
      "       H_raw[2,0,0]      0.06      0.02      0.05      0.02      0.10     40.15      1.11\n",
      "       H_raw[3,0,0]      1.72      0.63      1.69      0.65      2.97     42.57      1.10\n",
      "       L_raw[0,0,0]      1.00      0.53      0.96      0.08      1.94     10.96      1.21\n",
      "       L_raw[1,0,0]      0.12      0.06      0.12      0.01      0.24      9.19      1.24\n",
      "       L_raw[2,0,0]      0.49      0.26      0.47      0.03      0.97      9.68      1.21\n",
      "       L_raw[3,0,0]      0.93      0.48      0.91      0.08      1.80      7.56      1.26\n",
      "       a_raw[0,0,0]      3.51      2.12      2.94      0.26      7.24     20.21      1.27\n",
      "       a_raw[1,0,0]      7.49      4.05      7.13      0.59     15.38     17.10      1.24\n",
      "       a_raw[2,0,0]      4.28      2.60      3.61      0.31      8.95     19.94      1.28\n",
      "       a_raw[3,0,0]      2.75      1.66      2.32      0.20      5.66     20.43      1.26\n",
      "       b_raw[0,0,0]      0.80      0.52      0.68      0.08      1.77     43.81      1.09\n",
      "       b_raw[1,0,0]      0.74      0.55      0.64      0.00      1.78    123.56      1.03\n",
      "       b_raw[2,0,0]      0.75      0.52      0.65      0.03      1.73    126.61      1.02\n",
      "       b_raw[3,0,0]      0.23      0.20      0.18      0.01      0.61     64.60      1.08\n",
      "     g_1_raw[0,0,0]      0.47      0.87      0.24      0.00      1.65     82.16      1.06\n",
      "     g_1_raw[1,0,0]   1521.03   3051.40    653.70      0.00   4782.52     29.49      1.08\n",
      "     g_1_raw[2,0,0]      1.78      3.81      0.92      0.02      5.07    206.96      1.02\n",
      "     g_1_raw[3,0,0]      0.63      2.05      0.30      0.00      1.79    291.18      1.01\n",
      "     g_2_raw[0,0,0]      0.43      0.74      0.20      0.00      1.44     72.24      1.06\n",
      "     g_2_raw[1,0,0]    234.03    644.06      1.66      0.00   1145.49      6.21      1.30\n",
      "     g_2_raw[2,0,0]      2.51      3.70      1.30      0.00      9.87     36.81      1.12\n",
      "     g_2_raw[3,0,0]      1.40      2.44      0.84      0.01      4.09    152.00      1.04\n",
      "     g_3_raw[0,0,0]      0.98      1.22      0.71      0.01      2.53    273.83      1.03\n",
      "     g_3_raw[1,0,0]      4.95     28.40      0.89      0.00     11.73    460.56      1.01\n",
      "     g_3_raw[2,0,0]      1.64      2.01      1.00      0.01      5.48    278.82      1.01\n",
      "     g_3_raw[3,0,0]      0.85      1.08      0.49      0.01      2.91     34.49      1.10\n",
      "  global_sigma_H[0]      4.01      2.29      3.56      0.60      8.45     57.25      1.06\n",
      "  global_sigma_L[0]      0.37      0.38      0.23      0.01      1.19     72.35      1.04\n",
      "  global_sigma_b[0]     29.23     40.33     11.38      0.17    116.00     80.91      1.04\n",
      "global_sigma_g_1[0]     36.13     39.98     22.43      0.14    123.00     67.72      1.05\n",
      "global_sigma_g_2[0]     44.46     45.39     28.22      0.10    134.06     63.41      1.07\n",
      "global_sigma_g_3[0]     34.92     39.64     18.69      0.47    119.56     57.26      1.06\n",
      "  global_sigma_l[0]    104.25     59.41     94.69      9.09    221.25     34.69      1.13\n",
      "  global_sigma_v[0]     67.09     53.15     55.27      0.60    168.20    162.80      1.03\n",
      "       l_raw[0,0,0]      0.97      0.60      0.91      0.01      2.09    194.49      1.03\n",
      "       l_raw[1,0,0]      0.82      0.60      0.70      0.01      2.00    201.74      1.01\n",
      "       l_raw[2,0,0]      0.92      0.59      0.84      0.00      2.00     75.21      1.06\n",
      "       l_raw[3,0,0]      0.93      0.59      0.81      0.06      2.07    123.69      1.03\n",
      "   sigma_H_raw[0,0]      0.84      0.53      0.72      0.16      1.85     81.26      1.06\n",
      "   sigma_L_raw[0,0]      0.43      0.43      0.28      0.01      1.39     89.79      1.03\n",
      "   sigma_b_raw[0,0]      0.24      0.33      0.10      0.00      0.91     93.41      1.03\n",
      " sigma_g_1_raw[0,0]      0.56      0.54      0.40      0.00      1.74     14.99      1.19\n",
      " sigma_g_2_raw[0,0]      0.46      0.44      0.31      0.00      1.40     52.81      1.10\n",
      " sigma_g_3_raw[0,0]      0.50      0.50      0.30      0.00      1.59     49.01      1.07\n",
      "   sigma_l_raw[0,0]      1.07      0.65      0.96      0.01      2.42     44.19      1.03\n",
      "   sigma_v_raw[0,0]      0.67      0.61      0.50      0.00      1.91     25.32      1.17\n",
      "       v_raw[0,0,0]      0.83      0.60      0.73      0.00      2.00    146.43      1.01\n",
      "       v_raw[1,0,0]      0.89      0.59      0.79      0.02      1.95    195.99      1.02\n",
      "       v_raw[2,0,0]      0.75      0.57      0.58      0.00      1.90    204.50      1.02\n",
      "       v_raw[3,0,0]      0.65      0.58      0.50      0.00      1.89     91.17      1.01\n",
      "           µ_a[0,0]      4.59      2.40      4.21      0.52      9.26     22.89      1.21\n",
      "           σ_a[0,0]      0.09      0.05      0.07      0.01      0.18     20.45      1.26\n",
      "\n",
      "Number of divergences: 3532\n"
     ]
    }
   ],
   "source": [
    "mcmc.print_summary(prob=.95)\n"
   ]
  },
  {
   "cell_type": "code",
   "execution_count": null,
   "metadata": {},
   "outputs": [
    {
     "name": "stderr",
     "output_type": "stream",
     "text": [
      "2023-10-27 15:51:53,418 - __main__ - INFO - Evaluating model ...\n",
      "/home/vishu/repos/hbmep-paper/.venv/lib/python3.11/site-packages/arviz/stats/stats.py:1037: RuntimeWarning: overflow encountered in exp\n",
      "  weights = 1 / np.exp(len_scale - len_scale[:, None]).sum(axis=1)\n",
      "/home/vishu/repos/hbmep-paper/.venv/lib/python3.11/site-packages/arviz/stats/stats.py:803: UserWarning: Estimated shape parameter of Pareto distribution is greater than 0.7 for one or more samples. You should consider using a more robust model, this is because importance sampling is less likely to work well if the marginal posterior and LOO posterior are very different. This is more likely to happen with a non-robust model and highly influential observations.\n",
      "  warnings.warn(\n",
      "2023-10-27 15:51:59,497 - __main__ - INFO - ELPD LOO (Log): 9011.30\n",
      "/home/vishu/repos/hbmep-paper/.venv/lib/python3.11/site-packages/arviz/stats/stats.py:1645: UserWarning: For one or more samples the posterior variance of the log predictive densities exceeds 0.4. This could be indication of WAIC starting to fail. \n",
      "See http://arxiv.org/abs/1507.04544 for details\n",
      "  warnings.warn(\n",
      "2023-10-27 15:51:59,700 - __main__ - INFO - ELPD WAIC (Log): 9033.36\n"
     ]
    }
   ],
   "source": [
    "numpyro_data = az.from_numpyro(mcmc)\n",
    "\n",
    "\"\"\" Model evaluation \"\"\"\n",
    "logger.info(\"Evaluating model ...\")\n",
    "\n",
    "score = az.loo(numpyro_data)\n",
    "logger.info(f\"ELPD LOO (Log): {score.elpd_loo:.2f}\")\n",
    "\n",
    "score = az.waic(numpyro_data)\n",
    "logger.info(f\"ELPD WAIC (Log): {score.elpd_waic:.2f}\")\n"
   ]
  },
  {
   "cell_type": "code",
   "execution_count": null,
   "metadata": {},
   "outputs": [],
   "source": [
    "import pickle\n",
    "\n",
    "dest = os.path.join(model.build_dir, \"inference.pkl\")\n",
    "with open(dest, \"wb\") as f:\n",
    "    pickle.dump((model, mcmc, posterior_samples), f)\n"
   ]
  },
  {
   "cell_type": "code",
   "execution_count": null,
   "metadata": {},
   "outputs": [
    {
     "data": {
      "text/plain": [
       "'/home/vishu/repos/hbmep-paper/reports/paper/tms/link-comparison/rectified_logistic/numpyro_data.nc'"
      ]
     },
     "execution_count": 10,
     "metadata": {},
     "output_type": "execute_result"
    }
   ],
   "source": [
    "dest = os.path.join(model.build_dir, \"numpyro_data.nc\")\n",
    "az.to_netcdf(numpyro_data, dest)\n"
   ]
  },
  {
   "cell_type": "code",
   "execution_count": null,
   "metadata": {},
   "outputs": [],
   "source": []
  }
 ],
 "metadata": {
  "kernelspec": {
   "display_name": "Python 3 (ipykernel)",
   "language": "python",
   "name": "python3"
  },
  "language_info": {
   "codemirror_mode": {
    "name": "ipython",
    "version": 3
   },
   "file_extension": ".py",
   "mimetype": "text/x-python",
   "name": "python",
   "nbconvert_exporter": "python",
   "pygments_lexer": "ipython3",
   "version": "3.11.4"
  },
  "orig_nbformat": 4
 },
 "nbformat": 4,
 "nbformat_minor": 2
}
