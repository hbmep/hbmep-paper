{
 "cells": [
  {
   "cell_type": "code",
   "execution_count": 1,
   "metadata": {},
   "outputs": [],
   "source": [
    "%reload_ext autoreload\n",
    "%autoreload 2\n",
    "\n",
    "import os\n",
    "import pickle\n",
    "import logging\n",
    "import multiprocessing\n",
    "from pathlib import Path\n",
    "\n",
    "import pandas as pd\n",
    "import numpy as np\n",
    "import jax\n",
    "import jax.numpy as jnp\n",
    "\n",
    "import arviz as az\n",
    "import numpyro\n",
    "\n",
    "from hbmep.config import Config\n",
    "from hbmep.model.utils import Site as site\n",
    "\n",
    "PLATFORM = \"cpu\"\n",
    "jax.config.update(\"jax_platforms\", PLATFORM)\n",
    "numpyro.set_platform(PLATFORM)\n",
    "\n",
    "cpu_count = multiprocessing.cpu_count() - 2\n",
    "numpyro.set_host_device_count(cpu_count)\n",
    "numpyro.enable_x64()\n",
    "numpyro.enable_validation()\n",
    "\n",
    "logger = logging.getLogger(__name__)"
   ]
  },
  {
   "cell_type": "code",
   "execution_count": 2,
   "metadata": {},
   "outputs": [],
   "source": [
    "import numpyro.distributions as dist\n",
    "from hbmep.model import Baseline\n",
    "\n",
    "\n",
    "class RectifiedLogistic(Baseline):\n",
    "    LINK = \"rectified_logistic\"\n",
    "\n",
    "    def __init__(self, config: Config):\n",
    "        super(RectifiedLogistic, self).__init__(config=config)\n",
    "        self.combination_columns = self.features + [self.subject]\n",
    "\n",
    "    def fn(self, x, a, b, v, L, l, H):\n",
    "        return (\n",
    "            L\n",
    "            + jnp.where(\n",
    "                jnp.less(x, a),\n",
    "                0.,\n",
    "                -l + jnp.true_divide(\n",
    "                    H + l,\n",
    "                    jnp.power(\n",
    "                        1\n",
    "                        + jnp.multiply(\n",
    "                            -1\n",
    "                            + jnp.power(\n",
    "                                jnp.true_divide(H + l, l),\n",
    "                                v\n",
    "                            ),\n",
    "                            jnp.exp(-b * (x - a))\n",
    "                        ),\n",
    "                        1 / v\n",
    "                    )\n",
    "                )\n",
    "            )\n",
    "        )\n",
    "\n",
    "    def fn_prime(self, x, *args):\n",
    "        gradient = jax.grad(self.fn, argnums=0)\n",
    "        for _ in range(len(x.shape)):\n",
    "            gradient = jnp.vmap(gradient)\n",
    "        return gradient(x, *args)\n",
    "\n",
    "    def _model(self, subject, features, intensity, response_obs=None):\n",
    "        if response_obs is not None: response_obs = jnp.log(response_obs)\n",
    "\n",
    "        subject, n_subject = subject\n",
    "        features, n_features = features\n",
    "        intensity, n_data = intensity\n",
    "\n",
    "        intensity = intensity.reshape(-1, 1)\n",
    "        intensity = np.tile(intensity, (1, self.n_response))\n",
    "\n",
    "        feature0 = features[0].reshape(-1,)\n",
    "        n_feature0 = n_features[0]\n",
    "\n",
    "\n",
    "        with numpyro.plate(site.n_response, self.n_response, dim=-1):\n",
    "            global_sigma_b = numpyro.sample(\"global_sigma_b\", dist.HalfNormal(10))\n",
    "            global_sigma_v = numpyro.sample(\"global_sigma_v\", dist.HalfNormal(10))\n",
    "\n",
    "            L_location_global_location = numpyro.sample(\"L_location_global_location\", dist.Normal(-5, 10))\n",
    "            L_location_global_scale = numpyro.sample(\"L_location_global_scale\", dist.HalfNormal(10))\n",
    "            L_scale_global_scale = numpyro.sample(\"L_scale_global_scale\", dist.HalfNormal(10))\n",
    "\n",
    "            l_scale_global_scale = numpyro.sample(\"l_scale_global_scale\", dist.HalfNormal(10))\n",
    "\n",
    "            H_location_global_location = numpyro.sample(\"H_location_global_location\", dist.Normal(0, 10))\n",
    "            H_location_global_scale = numpyro.sample(\"H_location_global_scale\", dist.HalfNormal(10))\n",
    "            H_scale_global_scale = numpyro.sample(\"H_scale_global_scale\", dist.HalfNormal(10))\n",
    "\n",
    "            global_sigma_g_1 = numpyro.sample(\"global_sigma_g_1\", dist.HalfNormal(10))\n",
    "            global_sigma_g_2 = numpyro.sample(\"global_sigma_g_2\", dist.HalfNormal(10))\n",
    "\n",
    "            global_sigma_p = numpyro.sample(\"global_sigma_p\", dist.HalfNormal(100))\n",
    "\n",
    "            with numpyro.plate(\"n_feature0\", n_feature0, dim=-2):\n",
    "                \"\"\" Hyper-priors \"\"\"\n",
    "                mu_a = numpyro.sample(site.mu_a, dist.HalfNormal(scale=5))\n",
    "                sigma_a = numpyro.sample(site.sigma_a, dist.HalfNormal(scale=1 / 10))\n",
    "\n",
    "                sigma_b_raw = numpyro.sample(\"sigma_b_raw\", dist.HalfNormal(scale=1))\n",
    "                sigma_b = numpyro.deterministic(site.sigma_b, global_sigma_b * sigma_b_raw)\n",
    "\n",
    "                sigma_v_raw = numpyro.sample(\"sigma_v_raw\", dist.HalfNormal(scale=1))\n",
    "                sigma_v = numpyro.deterministic(site.sigma_v, global_sigma_v * sigma_v_raw)\n",
    "\n",
    "                L_location_base = numpyro.sample(\"L_location_base\", dist.Normal(loc=0, scale=1))\n",
    "                L_location = numpyro.deterministic(\n",
    "                    \"L_location\",\n",
    "                    L_location_global_location + jnp.multiply(L_location_global_scale, L_location_base)\n",
    "                )\n",
    "                L_scale_base = numpyro.sample(\"L_scale_base\", dist.HalfNormal(scale=1))\n",
    "                L_scale = numpyro.deterministic(\n",
    "                    \"L_scale\",\n",
    "                    jnp.multiply(L_scale_global_scale, L_scale_base)\n",
    "                )\n",
    "\n",
    "                l_scale_base = numpyro.sample(\"l_scale_base\", dist.HalfNormal(scale=1))\n",
    "                l_scale = numpyro.deterministic(\n",
    "                    \"l_scale\",\n",
    "                    jnp.multiply(l_scale_global_scale, l_scale_base)\n",
    "                )\n",
    "\n",
    "                H_location_base = numpyro.sample(\"H_location_base\", dist.Normal(loc=0, scale=1))\n",
    "                H_location = numpyro.deterministic(\n",
    "                    \"H_location\",\n",
    "                    H_location_global_location + jnp.multiply(H_location_global_scale, H_location_base)\n",
    "                )\n",
    "                H_scale_base = numpyro.sample(\"H_scale_base\", dist.HalfNormal(scale=1))\n",
    "                H_scale = numpyro.deterministic(\n",
    "                    \"H_scale\",\n",
    "                    jnp.multiply(H_scale_global_scale, H_scale_base)\n",
    "                )\n",
    "\n",
    "                sigma_g_1_raw = numpyro.sample(\"sigma_g_1_raw\", dist.HalfNormal(scale=1))\n",
    "                sigma_g_1 = numpyro.deterministic(\"sigma_g_1\", global_sigma_g_1 * sigma_g_1_raw)\n",
    "\n",
    "                sigma_g_2_raw = numpyro.sample(\"sigma_g_2_raw\", dist.HalfNormal(scale=1))\n",
    "                sigma_g_2 = numpyro.deterministic(\"sigma_g_2\", global_sigma_g_2 * sigma_g_2_raw)\n",
    "\n",
    "                sigma_p_raw = numpyro.sample(\"sigma_p_raw\", dist.HalfNormal(scale=1))\n",
    "                sigma_p = numpyro.deterministic(\"sigma_p\", global_sigma_p * sigma_p_raw)\n",
    "\n",
    "                with numpyro.plate(site.n_subject, n_subject, dim=-3):\n",
    "                    \"\"\" Priors \"\"\"\n",
    "                    a_raw = numpyro.sample(\"a_raw\", dist.Gamma(concentration=mu_a, rate=1))\n",
    "                    a = numpyro.deterministic(site.a, (1 / sigma_a) * a_raw)\n",
    "\n",
    "                    b_raw = numpyro.sample(\"b_raw\", dist.HalfNormal(scale=1))\n",
    "                    b = numpyro.deterministic(site.b, sigma_b * b_raw)\n",
    "\n",
    "                    v_raw = numpyro.sample(\"v_raw\", dist.HalfNormal(scale=1))\n",
    "                    v = numpyro.deterministic(site.v, sigma_v * v_raw)\n",
    "\n",
    "                    L_base = numpyro.sample(\"L_base\", dist.Normal(loc=0, scale=1))\n",
    "                    L = numpyro.deterministic(\n",
    "                        site.L,\n",
    "                        L_location + jnp.multiply(L_scale, L_base)\n",
    "                    )\n",
    "\n",
    "                    l_base = numpyro.sample(\"l_base\", dist.HalfNormal(scale=1))\n",
    "                    l = numpyro.deterministic(\n",
    "                        \"l\",\n",
    "                        jnp.multiply(l_scale, l_base)\n",
    "                    )\n",
    "\n",
    "                    H_base = numpyro.sample(\"H_base\", dist.Normal(loc=0, scale=1))\n",
    "                    H = numpyro.deterministic(\n",
    "                        site.H,\n",
    "                        H_location + jnp.multiply(H_scale, H_base)\n",
    "                    )\n",
    "\n",
    "                    g_1_raw = numpyro.sample(\"g_1_raw\", dist.HalfNormal(scale=1))\n",
    "                    g_1 = numpyro.deterministic(site.g_1, sigma_g_1 * g_1_raw)\n",
    "\n",
    "                    g_2_raw = numpyro.sample(\"g_2_raw\", dist.HalfNormal(scale=1))\n",
    "                    g_2 = numpyro.deterministic(site.g_2, sigma_g_2 * g_2_raw)\n",
    "\n",
    "                    p_raw = numpyro.sample(\"p_raw\", dist.HalfNormal(scale=1))\n",
    "                    p = numpyro.deterministic(\"p\", sigma_p * p_raw)\n",
    "\n",
    "        with numpyro.plate(site.n_response, self.n_response, dim=-1):\n",
    "            with numpyro.plate(site.data, n_data, dim=-2):\n",
    "                \"\"\" Model \"\"\"\n",
    "                loc = numpyro.deterministic(\n",
    "                    \"loc\",\n",
    "                    self.fn(\n",
    "                        x=intensity,\n",
    "                        a=a[subject, feature0],\n",
    "                        b=b[subject, feature0],\n",
    "                        v=v[subject, feature0],\n",
    "                        L=L[subject, feature0],\n",
    "                        l=l[subject, feature0],\n",
    "                        H=H[subject, feature0]\n",
    "                    )\n",
    "                )\n",
    "                mu = numpyro.deterministic(\n",
    "                    site.mu,\n",
    "                    jnp.exp(loc)\n",
    "                )\n",
    "                scale = numpyro.deterministic(\n",
    "                    \"scale\",\n",
    "                    g_1[subject, feature0] + jnp.multiply(g_2[subject, feature0], jnp.power(jnp.exp(mu), p[subject, feature0]))\n",
    "                )\n",
    "\n",
    "                \"\"\" Observation \"\"\"\n",
    "                response = numpyro.sample(\n",
    "                    \"response_obs\",\n",
    "                    dist.Normal(loc=loc, scale=scale),\n",
    "                    obs=response_obs\n",
    "                )\n",
    "                numpyro.deterministic(\n",
    "                    site.obs,\n",
    "                    jnp.exp(response)\n",
    "                )\n",
    "\n"
   ]
  },
  {
   "cell_type": "code",
   "execution_count": 3,
   "metadata": {},
   "outputs": [
    {
     "name": "stderr",
     "output_type": "stream",
     "text": [
      "2023-11-06 14:16:59,747 - hbmep.config - INFO - Verifying configuration ...\n",
      "2023-11-06 14:16:59,747 - hbmep.config - INFO - Success!\n",
      "2023-11-06 14:16:59,763 - hbmep.model.baseline - INFO - Initialized model with rectified_logistic link\n"
     ]
    }
   ],
   "source": [
    "toml_path = \"/home/vishu/repos/hbmep-paper/configs/paper/tms/link-comparison/proc-2023-10-27/uninjured-link-comparison/rectified_logistic.toml\"\n",
    "config = Config(toml_path=toml_path)\n",
    "config.MCMC_PARAMS[\"num_warmup\"] = 5000\n",
    "config.MCMC_PARAMS[\"num_samples\"] = 1000\n",
    "\n",
    "model = RectifiedLogistic(config=config)\n"
   ]
  },
  {
   "cell_type": "code",
   "execution_count": 5,
   "metadata": {},
   "outputs": [
    {
     "name": "stderr",
     "output_type": "stream",
     "text": [
      "2023-11-06 14:16:59,974 - hbmep.dataset.core - INFO - Artefacts will be stored here - /home/vishu/repos/hbmep-paper/reports/paper/tms/link-comparison/proc-2023-10-27/uninjured-link-comparison/rectified_logistic\n",
      "2023-11-06 14:16:59,974 - hbmep.dataset.core - INFO - Copied config to /home/vishu/repos/hbmep-paper/reports/paper/tms/link-comparison/proc-2023-10-27/uninjured-link-comparison/rectified_logistic\n",
      "2023-11-06 14:16:59,975 - hbmep.dataset.core - INFO - Processing data ...\n",
      "2023-11-06 14:16:59,976 - hbmep.utils.utils - INFO - func:load took: 0.00 sec\n"
     ]
    }
   ],
   "source": [
    "src = \"/home/vishu/data/hbmep-processed/human/tms/data_pkpk_auc_proc-2023-10-27.csv\"\n",
    "df = pd.read_csv(src)\n",
    "\n",
    "# ind = df[model.features[0]].isin([\"Uninjured\"])\n",
    "# df = df[ind].reset_index(drop=True).copy()\n",
    "\n",
    "# subset = [\"SCA01\"]\n",
    "subset = [\"SCA01\", \"SCA02\", \"SCA03\"]\n",
    "ind = df[model.subject].isin(subset)\n",
    "df = df[ind].reset_index(drop=True).copy()\n",
    "\n",
    "df, encoder_dict = model.load(df=df)\n",
    "# df[model.response] = np.log(df[model.response])\n"
   ]
  },
  {
   "cell_type": "code",
   "execution_count": 4,
   "metadata": {},
   "outputs": [],
   "source": [
    "# model.plot(df=df, encoder_dict=encoder_dict)\n"
   ]
  },
  {
   "cell_type": "code",
   "execution_count": 6,
   "metadata": {},
   "outputs": [
    {
     "name": "stderr",
     "output_type": "stream",
     "text": [
      "2023-11-06 14:17:00,503 - hbmep.model.baseline - INFO - Running inference with rectified_logistic ...\n"
     ]
    },
    {
     "data": {
      "application/vnd.jupyter.widget-view+json": {
       "model_id": "a40214acc7f2412d9bf6f1a259f84654",
       "version_major": 2,
       "version_minor": 0
      },
      "text/plain": [
       "  0%|          | 0/6000 [00:00<?, ?it/s]"
      ]
     },
     "metadata": {},
     "output_type": "display_data"
    },
    {
     "data": {
      "application/vnd.jupyter.widget-view+json": {
       "model_id": "6cf71c67607c4b96933345423dfa7700",
       "version_major": 2,
       "version_minor": 0
      },
      "text/plain": [
       "  0%|          | 0/6000 [00:00<?, ?it/s]"
      ]
     },
     "metadata": {},
     "output_type": "display_data"
    },
    {
     "data": {
      "application/vnd.jupyter.widget-view+json": {
       "model_id": "bed38ecd35ee452fb1ba495bf016a1ea",
       "version_major": 2,
       "version_minor": 0
      },
      "text/plain": [
       "  0%|          | 0/6000 [00:00<?, ?it/s]"
      ]
     },
     "metadata": {},
     "output_type": "display_data"
    },
    {
     "data": {
      "application/vnd.jupyter.widget-view+json": {
       "model_id": "a8439b3eca6e4cf4bb27908acb13403c",
       "version_major": 2,
       "version_minor": 0
      },
      "text/plain": [
       "  0%|          | 0/6000 [00:00<?, ?it/s]"
      ]
     },
     "metadata": {},
     "output_type": "display_data"
    },
    {
     "name": "stderr",
     "output_type": "stream",
     "text": [
      "2023-11-06 14:19:13,071 - hbmep.utils.utils - INFO - func:run_inference took: 2 min and 12.57 sec\n"
     ]
    }
   ],
   "source": [
    "mcmc, posterior_samples = model.run_inference(df=df)\n"
   ]
  },
  {
   "cell_type": "code",
   "execution_count": 10,
   "metadata": {},
   "outputs": [
    {
     "name": "stderr",
     "output_type": "stream",
     "text": [
      "2023-11-06 14:52:33,892 - hbmep.utils.utils - INFO - func:make_prediction_dataset took: 0.01 sec\n"
     ]
    },
    {
     "name": "stderr",
     "output_type": "stream",
     "text": [
      "2023-11-06 14:52:34,269 - hbmep.utils.utils - INFO - func:predict took: 0.38 sec\n",
      "2023-11-06 14:52:34,272 - hbmep.model.baseline - INFO - Rendering ...\n",
      "2023-11-06 14:52:34,758 - hbmep.model.baseline - INFO - Saved to /home/vishu/repos/hbmep-paper/reports/paper/tms/link-comparison/proc-2023-10-27/uninjured-link-comparison/rectified_logistic/recruitment_curves.pdf\n",
      "2023-11-06 14:52:34,758 - hbmep.utils.utils - INFO - func:render_recruitment_curves took: 0.49 sec\n",
      "2023-11-06 14:52:34,761 - hbmep.model.baseline - INFO - Rendering Posterior Predictive Check ...\n",
      "2023-11-06 14:52:35,308 - hbmep.model.baseline - INFO - Saved to /home/vishu/repos/hbmep-paper/reports/paper/tms/link-comparison/proc-2023-10-27/uninjured-link-comparison/rectified_logistic/posterior_predictive_check.pdf\n",
      "2023-11-06 14:52:35,308 - hbmep.utils.utils - INFO - func:_render_predictive_check took: 0.55 sec\n",
      "2023-11-06 14:52:35,308 - hbmep.utils.utils - INFO - func:render_predictive_check took: 0.55 sec\n"
     ]
    }
   ],
   "source": [
    "prediction_df = model.make_prediction_dataset(df=df)\n",
    "posterior_predictive = model.predict(df=prediction_df, posterior_samples=posterior_samples)\n",
    "\n",
    "model.render_recruitment_curves(df=df, encoder_dict=encoder_dict, posterior_samples=posterior_samples, prediction_df=prediction_df, posterior_predictive=posterior_predictive)\n",
    "model.render_predictive_check(df=df, encoder_dict=encoder_dict, prediction_df=prediction_df, posterior_predictive=posterior_predictive)\n"
   ]
  },
  {
   "cell_type": "code",
   "execution_count": 9,
   "metadata": {},
   "outputs": [
    {
     "name": "stdout",
     "output_type": "stream",
     "text": [
      "\n",
      "                                   mean       std    median      2.5%     97.5%     n_eff     r_hat\n",
      "                H_base[0,0,0]      0.67      0.81      0.66     -1.11      1.63      4.99      1.45\n",
      "                H_base[1,0,0]     -0.58      1.08     -0.81     -2.86      1.22      3.07      1.82\n",
      "                H_base[2,0,0]     -0.25      0.67     -0.27     -1.74      0.58      4.43      1.50\n",
      "         H_location_base[0,0]      0.26      0.48      0.41     -1.08      0.95     34.71      1.16\n",
      "H_location_global_location[0]      1.20      5.85      1.00    -12.84     14.65     84.90      1.03\n",
      "   H_location_global_scale[0]     20.13     28.83      6.31      0.26     87.36      6.00      1.35\n",
      "            H_scale_base[0,0]      0.93      0.78      0.74      0.01      2.81      7.36      1.77\n",
      "      H_scale_global_scale[0]     17.71     31.76      3.63      0.37     94.14     10.59      1.23\n",
      "                L_base[0,0,0]      0.13      0.55      0.14     -0.77      1.17     20.14      1.21\n",
      "                L_base[1,0,0]     -0.34      1.33     -0.53     -2.68      1.62      2.80      2.26\n",
      "                L_base[2,0,0]      0.10      0.90      0.16     -1.14      1.66      3.49      1.73\n",
      "         L_location_base[0,0]     -0.37      0.53     -0.48     -1.64      0.70     20.28      1.18\n",
      "L_location_global_location[0]     -2.88      4.38     -2.24    -13.23      5.62     44.07      1.13\n",
      "   L_location_global_scale[0]     11.83     10.62      6.47      0.07     34.42     24.77      1.11\n",
      "            L_scale_base[0,0]      0.31      0.38      0.18      0.00      1.21     24.60      1.20\n",
      "      L_scale_global_scale[0]      8.04     20.26      0.50      0.04     49.32     25.32      1.10\n",
      "                 a_raw[0,0,0]      2.05      1.53      1.93      0.26      5.14      6.54      1.64\n",
      "                 a_raw[1,0,0]      3.10      3.91      0.68      0.14     11.32      3.71      1.95\n",
      "                 a_raw[2,0,0]      2.52      1.90      2.30      0.31      6.27      6.51      1.64\n",
      "                 b_raw[0,0,0]      0.99      0.76      0.78      0.11      2.28      2.90      1.87\n",
      "                 b_raw[1,0,0]      0.90      0.46      1.00      0.01      1.58     34.51      1.11\n",
      "                 b_raw[2,0,0]      0.70      0.46      0.61      0.03      1.33     10.12      1.19\n",
      "               g_1_raw[0,0,0]      0.20      0.32      0.07      0.00      0.86     46.74      1.06\n",
      "               g_1_raw[1,0,0]      0.98      0.68      0.72      0.10      2.34     12.24      1.39\n",
      "               g_1_raw[2,0,0]      0.76      0.58      0.61      0.00      1.59      5.29      1.56\n",
      "               g_2_raw[0,0,0]      0.61      0.24      0.63      0.14      1.09     40.11      1.08\n",
      "               g_2_raw[1,0,0]      0.31      0.15      0.28      0.06      0.64     30.30      1.14\n",
      "               g_2_raw[2,0,0]      1.16      0.48      1.18      0.27      2.08     30.10      1.14\n",
      "            global_sigma_b[0]     22.32     31.32     14.59      0.27     90.62     21.64      1.16\n",
      "          global_sigma_g_1[0]     30.06     44.34      8.11      0.30    131.09      6.36      1.28\n",
      "          global_sigma_g_2[0]     13.21     23.41      3.39      0.08     49.73     56.08      1.11\n",
      "          global_sigma_p_1[0]     50.73     68.40      3.48      0.14    186.29      3.77      1.58\n",
      "          global_sigma_p_2[0]      9.98     24.02      3.04      0.02     53.96     31.93      1.09\n",
      "            global_sigma_v[0]     31.17     47.43      1.78      0.29    132.09      4.41      1.46\n",
      "                l_base[0,0,0]      0.61      0.52      0.52      0.02      1.70      8.00      1.24\n",
      "                l_base[1,0,0]      1.45      0.98      1.23      0.01      2.93      2.99      1.87\n",
      "                l_base[2,0,0]      0.89      0.51      0.89      0.03      1.89     96.56      1.08\n",
      "            l_scale_base[0,0]      0.97      0.58      0.81      0.02      1.91      6.02      1.33\n",
      "      l_scale_global_scale[0]     49.56     62.45     21.54      0.13    176.00      4.97      1.43\n",
      "               p_1_raw[0,0,0]      0.93      0.59      0.99      0.12      2.02      5.40      1.35\n",
      "               p_1_raw[1,0,0]      0.67      0.64      0.47      0.00      1.84      3.41      1.67\n",
      "               p_1_raw[2,0,0]      0.59      0.53      0.41      0.00      1.71     21.04      1.17\n",
      "               p_2_raw[0,0,0]      0.60      0.50      0.39      0.00      1.61      5.03      1.68\n",
      "               p_2_raw[1,0,0]      0.75      0.46      0.73      0.04      1.66     84.40      1.09\n",
      "               p_2_raw[2,0,0]      0.70      0.56      0.48      0.00      1.43      4.39      1.53\n",
      "             sigma_b_raw[0,0]      0.36      0.40      0.27      0.00      1.43     21.15      1.20\n",
      "           sigma_g_1_raw[0,0]      0.49      0.35      0.46      0.00      1.16    126.93      1.03\n",
      "           sigma_g_2_raw[0,0]      0.20      0.29      0.13      0.00      0.89     36.09      1.17\n",
      "           sigma_p_1_raw[0,0]      0.92      0.60      0.76      0.06      2.10     25.23      1.23\n",
      "           sigma_p_2_raw[0,0]      0.48      0.53      0.17      0.00      1.29      3.60      1.57\n",
      "             sigma_v_raw[0,0]      0.80      0.49      0.76      0.02      1.51      5.55      1.36\n",
      "                 v_raw[0,0,0]      0.86      0.51      0.89      0.01      1.74     16.32      1.26\n",
      "                 v_raw[1,0,0]      0.91      0.74      0.67      0.03      2.41      6.93      1.34\n",
      "                 v_raw[2,0,0]      0.69      0.59      0.57      0.00      1.87      5.17      1.52\n",
      "                     µ_a[0,0]      2.54      2.32      1.63      0.21      7.62      3.76      1.94\n",
      "                     σ_a[0,0]      0.06      0.04      0.05      0.01      0.14      6.30      1.66\n",
      "\n",
      "Number of divergences: 2451\n"
     ]
    }
   ],
   "source": [
    "mcmc.print_summary(prob=.95)\n"
   ]
  },
  {
   "cell_type": "code",
   "execution_count": 9,
   "metadata": {},
   "outputs": [
    {
     "name": "stderr",
     "output_type": "stream",
     "text": [
      "2023-11-06 14:51:35,654 - __main__ - INFO - Evaluating model ...\n",
      "/home/vishu/repos/hbmep-paper/.venv/lib/python3.11/site-packages/arviz/stats/stats.py:803: UserWarning: Estimated shape parameter of Pareto distribution is greater than 0.7 for one or more samples. You should consider using a more robust model, this is because importance sampling is less likely to work well if the marginal posterior and LOO posterior are very different. This is more likely to happen with a non-robust model and highly influential observations.\n",
      "  warnings.warn(\n",
      "2023-11-06 14:51:35,956 - __main__ - INFO - ELPD LOO (Log): -113.63\n",
      "/home/vishu/repos/hbmep-paper/.venv/lib/python3.11/site-packages/arviz/stats/stats.py:1645: UserWarning: For one or more samples the posterior variance of the log predictive densities exceeds 0.4. This could be indication of WAIC starting to fail. \n",
      "See http://arxiv.org/abs/1507.04544 for details\n",
      "  warnings.warn(\n",
      "2023-11-06 14:51:35,964 - __main__ - INFO - ELPD WAIC (Log): -113.11\n"
     ]
    }
   ],
   "source": [
    "numpyro_data = az.from_numpyro(mcmc)\n",
    "\n",
    "\"\"\" Model evaluation \"\"\"\n",
    "logger.info(\"Evaluating model ...\")\n",
    "\n",
    "score = az.loo(numpyro_data)\n",
    "logger.info(f\"ELPD LOO (Log): {score.elpd_loo:.2f}\")\n",
    "\n",
    "score = az.waic(numpyro_data)\n",
    "logger.info(f\"ELPD WAIC (Log): {score.elpd_waic:.2f}\")\n"
   ]
  },
  {
   "cell_type": "code",
   "execution_count": null,
   "metadata": {},
   "outputs": [],
   "source": [
    "import pickle\n",
    "\n",
    "dest = os.path.join(model.build_dir, \"inference.pkl\")\n",
    "with open(dest, \"wb\") as f:\n",
    "    pickle.dump((model, mcmc, posterior_samples), f)\n"
   ]
  },
  {
   "cell_type": "code",
   "execution_count": null,
   "metadata": {},
   "outputs": [
    {
     "data": {
      "text/plain": [
       "'/home/vishu/repos/hbmep-paper/reports/paper/tms/link-comparison/rectified_logistic/numpyro_data.nc'"
      ]
     },
     "execution_count": 10,
     "metadata": {},
     "output_type": "execute_result"
    }
   ],
   "source": [
    "dest = os.path.join(model.build_dir, \"numpyro_data.nc\")\n",
    "az.to_netcdf(numpyro_data, dest)\n"
   ]
  },
  {
   "cell_type": "code",
   "execution_count": null,
   "metadata": {},
   "outputs": [],
   "source": []
  }
 ],
 "metadata": {
  "kernelspec": {
   "display_name": "Python 3 (ipykernel)",
   "language": "python",
   "name": "python3"
  },
  "language_info": {
   "codemirror_mode": {
    "name": "ipython",
    "version": 3
   },
   "file_extension": ".py",
   "mimetype": "text/x-python",
   "name": "python",
   "nbconvert_exporter": "python",
   "pygments_lexer": "ipython3",
   "version": "3.11.4"
  },
  "orig_nbformat": 4
 },
 "nbformat": 4,
 "nbformat_minor": 2
}
