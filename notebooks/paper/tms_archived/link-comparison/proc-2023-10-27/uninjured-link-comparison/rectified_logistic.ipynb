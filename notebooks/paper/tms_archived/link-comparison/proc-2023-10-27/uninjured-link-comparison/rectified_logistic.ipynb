{
 "cells": [
  {
   "cell_type": "code",
   "execution_count": 1,
   "metadata": {},
   "outputs": [],
   "source": [
    "%reload_ext autoreload\n",
    "%autoreload 2\n",
    "\n",
    "import os\n",
    "import pickle\n",
    "import logging\n",
    "import multiprocessing\n",
    "from pathlib import Path\n",
    "\n",
    "import pandas as pd\n",
    "import numpy as np\n",
    "import jax\n",
    "import jax.numpy as jnp\n",
    "\n",
    "import arviz as az\n",
    "import numpyro\n",
    "\n",
    "from hbmep.config import Config\n",
    "from hbmep.model.utils import Site as site\n",
    "\n",
    "PLATFORM = \"cpu\"\n",
    "jax.config.update(\"jax_platforms\", PLATFORM)\n",
    "numpyro.set_platform(PLATFORM)\n",
    "\n",
    "cpu_count = multiprocessing.cpu_count() - 2\n",
    "numpyro.set_host_device_count(cpu_count)\n",
    "numpyro.enable_x64()\n",
    "numpyro.enable_validation()\n",
    "\n",
    "logger = logging.getLogger(__name__)"
   ]
  },
  {
   "cell_type": "code",
   "execution_count": 2,
   "metadata": {},
   "outputs": [],
   "source": [
    "import numpyro.distributions as dist\n",
    "from hbmep.model import Baseline\n",
    "\n",
    "\n",
    "class RectifiedLogistic(Baseline):\n",
    "    LINK = \"rectified_logistic\"\n",
    "\n",
    "    def __init__(self, config: Config):\n",
    "        super(RectifiedLogistic, self).__init__(config=config)\n",
    "        self.combination_columns = self.features + [self.subject]\n",
    "\n",
    "    def fn(self, x, a, b, v, L, l, H):\n",
    "        return (\n",
    "            L\n",
    "            + jnp.where(\n",
    "                jnp.less(x, a),\n",
    "                0.,\n",
    "                -l + jnp.true_divide(\n",
    "                    H + l,\n",
    "                    jnp.power(\n",
    "                        1\n",
    "                        + jnp.multiply(\n",
    "                            -1\n",
    "                            + jnp.power(\n",
    "                                jnp.true_divide(H + l, l),\n",
    "                                v\n",
    "                            ),\n",
    "                            jnp.exp(-b * (x - a))\n",
    "                        ),\n",
    "                        1 / v\n",
    "                    )\n",
    "                )\n",
    "            )\n",
    "        )\n",
    "\n",
    "    def _model(self, subject, features, intensity, response_obs=None):\n",
    "        subject, n_subject = subject\n",
    "        features, n_features = features\n",
    "        intensity, n_data = intensity\n",
    "\n",
    "        intensity = intensity.reshape(-1, 1)\n",
    "        intensity = np.tile(intensity, (1, self.n_response))\n",
    "\n",
    "        feature0 = features[0].reshape(-1,)\n",
    "        n_feature0 = n_features[0]\n",
    "\n",
    "        with numpyro.plate(site.n_response, self.n_response, dim=-1):\n",
    "            global_sigma_b = numpyro.sample(\"global_sigma_b\", dist.HalfNormal(100))\n",
    "            global_sigma_v = numpyro.sample(\"global_sigma_v\", dist.HalfNormal(100))\n",
    "\n",
    "            global_sigma_L = numpyro.sample(\"global_sigma_L\", dist.HalfNormal(1))\n",
    "            global_sigma_l = numpyro.sample(\"global_sigma_l\", dist.HalfNormal(100))\n",
    "            global_sigma_H = numpyro.sample(\"global_sigma_H\", dist.HalfNormal(5))\n",
    "\n",
    "            global_sigma_g_1 = numpyro.sample(\"global_sigma_g_1\", dist.HalfNormal(100))\n",
    "            global_sigma_g_2 = numpyro.sample(\"global_sigma_g_2\", dist.HalfNormal(100))\n",
    "\n",
    "            global_sigma_p = numpyro.sample(\"global_sigma_p\", dist.HalfNormal(100))\n",
    "\n",
    "            with numpyro.plate(\"n_feature0\", n_feature0, dim=-2):\n",
    "                \"\"\" Hyper-priors \"\"\"\n",
    "                mu_a = numpyro.sample(site.mu_a, dist.HalfNormal(scale=5))\n",
    "                sigma_a = numpyro.sample(site.sigma_a, dist.HalfNormal(scale=1 / 10))\n",
    "\n",
    "                sigma_b_raw = numpyro.sample(\"sigma_b_raw\", dist.HalfNormal(scale=1))\n",
    "                sigma_b = numpyro.deterministic(site.sigma_b, jnp.multiply(global_sigma_b, sigma_b_raw))\n",
    "\n",
    "                sigma_v_raw = numpyro.sample(\"sigma_v_raw\", dist.HalfNormal(scale=1))\n",
    "                sigma_v = numpyro.deterministic(site.sigma_v, jnp.multiply(global_sigma_v, sigma_v_raw))\n",
    "\n",
    "                sigma_L_raw = numpyro.sample(\"sigma_L_raw\", dist.HalfNormal(scale=1))\n",
    "                sigma_L = numpyro.deterministic(site.sigma_L, jnp.multiply(global_sigma_L, sigma_L_raw))\n",
    "\n",
    "                sigma_l_raw = numpyro.sample(\"sigma_l_raw\", dist.HalfNormal(scale=1))\n",
    "                sigma_l = numpyro.deterministic(\"sigma_l\", jnp.multiply(global_sigma_l, sigma_l_raw))\n",
    "\n",
    "                sigma_H_raw = numpyro.sample(\"sigma_H_raw\", dist.HalfNormal(scale=1))\n",
    "                sigma_H = numpyro.deterministic(site.sigma_H, jnp.multiply(global_sigma_H, sigma_H_raw))\n",
    "\n",
    "                sigma_g_1_raw = numpyro.sample(\"sigma_g_1_raw\", dist.HalfNormal(scale=1))\n",
    "                sigma_g_1 = numpyro.deterministic(\"sigma_g_1\", jnp.multiply(global_sigma_g_1, sigma_g_1_raw))\n",
    "\n",
    "                sigma_g_2_raw = numpyro.sample(\"sigma_g_2_raw\", dist.HalfNormal(scale=1))\n",
    "                sigma_g_2 = numpyro.deterministic(\"sigma_g_2\", jnp.multiply(global_sigma_g_2, sigma_g_2_raw))\n",
    "\n",
    "                sigma_p_raw = numpyro.sample(\"sigma_p_raw\", dist.HalfNormal(scale=1))\n",
    "                sigma_p = numpyro.deterministic(\"sigma_p\", jnp.multiply(global_sigma_p, sigma_p_raw))\n",
    "\n",
    "                with numpyro.plate(site.n_subject, n_subject, dim=-3):\n",
    "                    \"\"\" Priors \"\"\"\n",
    "                    a_raw = numpyro.sample(\"a_raw\", dist.Gamma(concentration=mu_a, rate=1))\n",
    "                    a = numpyro.deterministic(site.a, jnp.true_divide(a_raw, sigma_a))\n",
    "\n",
    "                    b_raw = numpyro.sample(\"b_raw\", dist.HalfNormal(scale=1))\n",
    "                    b = numpyro.deterministic(site.b, jnp.multiply(sigma_b, b_raw))\n",
    "\n",
    "                    v_raw = numpyro.sample(\"v_raw\", dist.HalfNormal(scale=1))\n",
    "                    v = numpyro.deterministic(site.v, jnp.multiply(sigma_v, v_raw))\n",
    "\n",
    "                    L_raw = numpyro.sample(\"L_raw\", dist.HalfNormal(scale=1))\n",
    "                    L = numpyro.deterministic(site.L, jnp.multiply(sigma_L, L_raw))\n",
    "\n",
    "                    l_raw = numpyro.sample(\"l_raw\", dist.HalfNormal(scale=1))\n",
    "                    l = numpyro.deterministic(\"l\", jnp.multiply(sigma_l, l_raw))\n",
    "\n",
    "                    H_raw = numpyro.sample(\"H_raw\", dist.HalfNormal(scale=1))\n",
    "                    H = numpyro.deterministic(site.H, jnp.multiply(sigma_H, H_raw))\n",
    "\n",
    "                    g_1_raw = numpyro.sample(\"g_1_raw\", dist.HalfCauchy(scale=1))\n",
    "                    g_1 = numpyro.deterministic(site.g_1, jnp.multiply(sigma_g_1, g_1_raw))\n",
    "\n",
    "                    g_2_raw = numpyro.sample(\"g_2_raw\", dist.HalfCauchy(scale=1))\n",
    "                    g_2 = numpyro.deterministic(site.g_2, jnp.multiply(sigma_g_2, g_2_raw))\n",
    "\n",
    "                    p_raw = numpyro.sample(\"p_raw\", dist.HalfNormal(scale=1))\n",
    "                    p = numpyro.deterministic(\"p\", jnp.multiply(sigma_p, p_raw))\n",
    "\n",
    "        with numpyro.plate(site.n_response, self.n_response, dim=-1):\n",
    "            with numpyro.plate(site.data, n_data, dim=-2):\n",
    "                \"\"\" Model \"\"\"\n",
    "                mu = numpyro.deterministic(\n",
    "                    site.mu,\n",
    "                    self.fn(\n",
    "                        x=intensity,\n",
    "                        a=a[subject, feature0],\n",
    "                        b=b[subject, feature0],\n",
    "                        v=v[subject, feature0],\n",
    "                        L=L[subject, feature0],\n",
    "                        l=l[subject, feature0],\n",
    "                        H=H[subject, feature0]\n",
    "                    )\n",
    "                )\n",
    "                beta = numpyro.deterministic(\n",
    "                    site.beta,\n",
    "                    g_1[subject, feature0] + jnp.true_divide(\n",
    "                        g_2[subject, feature0], jnp.power(mu + 1, p[subject, feature0])\n",
    "                    )\n",
    "                )\n",
    "\n",
    "                \"\"\" Observation \"\"\"\n",
    "                numpyro.sample(\n",
    "                    site.obs,\n",
    "                    dist.Gamma(concentration=jnp.multiply(mu, beta), rate=beta),\n",
    "                    obs=response_obs\n",
    "                )\n"
   ]
  },
  {
   "cell_type": "code",
   "execution_count": 3,
   "metadata": {},
   "outputs": [
    {
     "name": "stderr",
     "output_type": "stream",
     "text": [
      "2023-11-06 14:59:01,880 - hbmep.config - INFO - Verifying configuration ...\n",
      "2023-11-06 14:59:01,880 - hbmep.config - INFO - Success!\n",
      "2023-11-06 14:59:01,895 - hbmep.model.baseline - INFO - Initialized model with rectified_logistic link\n"
     ]
    }
   ],
   "source": [
    "toml_path = \"/home/vishu/repos/hbmep-paper/configs/paper/tms/link-comparison/proc-2023-10-27/uninjured-link-comparison/rectified_logistic.toml\"\n",
    "config = Config(toml_path=toml_path)\n",
    "config.MCMC_PARAMS[\"num_warmup\"] = 5000\n",
    "config.MCMC_PARAMS[\"num_samples\"] = 1000\n",
    "\n",
    "model = RectifiedLogistic(config=config)\n"
   ]
  },
  {
   "cell_type": "code",
   "execution_count": 4,
   "metadata": {},
   "outputs": [
    {
     "name": "stderr",
     "output_type": "stream",
     "text": [
      "2023-11-06 14:59:01,968 - hbmep.dataset.core - INFO - Artefacts will be stored here - /home/vishu/repos/hbmep-paper/reports/paper/tms/link-comparison/proc-2023-10-27/uninjured-link-comparison/rectified_logistic\n",
      "2023-11-06 14:59:01,968 - hbmep.dataset.core - INFO - Copied config to /home/vishu/repos/hbmep-paper/reports/paper/tms/link-comparison/proc-2023-10-27/uninjured-link-comparison/rectified_logistic\n",
      "2023-11-06 14:59:01,969 - hbmep.dataset.core - INFO - Processing data ...\n",
      "2023-11-06 14:59:01,970 - hbmep.utils.utils - INFO - func:load took: 0.00 sec\n"
     ]
    }
   ],
   "source": [
    "src = \"/home/vishu/data/hbmep-processed/human/tms/data_pkpk_auc_proc-2023-10-27.csv\"\n",
    "df = pd.read_csv(src)\n",
    "\n",
    "ind = df[model.features[0]].isin([\"Uninjured\"])\n",
    "df = df[ind].reset_index(drop=True).copy()\n",
    "\n",
    "# # subset = [\"SCA01\"]\n",
    "# subset = [\"SCA01\", \"SCA02\", \"SCA03\"]\n",
    "# ind = df[model.subject].isin(subset)\n",
    "# df = df[ind].reset_index(drop=True).copy()\n",
    "\n",
    "df, encoder_dict = model.load(df=df)\n"
   ]
  },
  {
   "cell_type": "code",
   "execution_count": 5,
   "metadata": {},
   "outputs": [],
   "source": [
    "# model.plot(df=df, encoder_dict=encoder_dict)\n"
   ]
  },
  {
   "cell_type": "code",
   "execution_count": 6,
   "metadata": {},
   "outputs": [
    {
     "name": "stderr",
     "output_type": "stream",
     "text": [
      "2023-11-06 14:59:02,158 - hbmep.model.baseline - INFO - Running inference with rectified_logistic ...\n"
     ]
    },
    {
     "data": {
      "application/vnd.jupyter.widget-view+json": {
       "model_id": "3782365c8f614e8baf1a5421c70d5de4",
       "version_major": 2,
       "version_minor": 0
      },
      "text/plain": [
       "  0%|          | 0/6000 [00:00<?, ?it/s]"
      ]
     },
     "metadata": {},
     "output_type": "display_data"
    },
    {
     "data": {
      "application/vnd.jupyter.widget-view+json": {
       "model_id": "085036de09954d92b705c98c5fdd5b63",
       "version_major": 2,
       "version_minor": 0
      },
      "text/plain": [
       "  0%|          | 0/6000 [00:00<?, ?it/s]"
      ]
     },
     "metadata": {},
     "output_type": "display_data"
    },
    {
     "data": {
      "application/vnd.jupyter.widget-view+json": {
       "model_id": "37d3b9b365fc40e2b67db0a414038c0d",
       "version_major": 2,
       "version_minor": 0
      },
      "text/plain": [
       "  0%|          | 0/6000 [00:00<?, ?it/s]"
      ]
     },
     "metadata": {},
     "output_type": "display_data"
    },
    {
     "data": {
      "application/vnd.jupyter.widget-view+json": {
       "model_id": "e3db9795072e404abaa20bb8567b8b43",
       "version_major": 2,
       "version_minor": 0
      },
      "text/plain": [
       "  0%|          | 0/6000 [00:00<?, ?it/s]"
      ]
     },
     "metadata": {},
     "output_type": "display_data"
    },
    {
     "name": "stderr",
     "output_type": "stream",
     "text": [
      "2023-11-06 15:11:21,458 - hbmep.utils.utils - INFO - func:run_inference took: 12 min and 19.30 sec\n"
     ]
    }
   ],
   "source": [
    "mcmc, posterior_samples = model.run_inference(df=df)\n"
   ]
  },
  {
   "cell_type": "code",
   "execution_count": 14,
   "metadata": {},
   "outputs": [
    {
     "name": "stderr",
     "output_type": "stream",
     "text": [
      "2023-11-06 15:53:05,529 - hbmep.utils.utils - INFO - func:make_prediction_dataset took: 0.01 sec\n"
     ]
    },
    {
     "name": "stderr",
     "output_type": "stream",
     "text": [
      "2023-11-06 15:53:07,366 - hbmep.utils.utils - INFO - func:predict took: 1.84 sec\n",
      "2023-11-06 15:53:07,370 - hbmep.model.baseline - INFO - Rendering ...\n",
      "2023-11-06 15:53:09,151 - hbmep.model.baseline - INFO - Saved to /home/vishu/repos/hbmep-paper/reports/paper/tms/link-comparison/proc-2023-10-27/uninjured-link-comparison/rectified_logistic/recruitment_curves.pdf\n",
      "2023-11-06 15:53:09,154 - hbmep.utils.utils - INFO - func:render_recruitment_curves took: 1.79 sec\n",
      "2023-11-06 15:53:09,164 - hbmep.model.baseline - INFO - Rendering Posterior Predictive Check ...\n",
      "2023-11-06 15:53:10,962 - hbmep.model.baseline - INFO - Saved to /home/vishu/repos/hbmep-paper/reports/paper/tms/link-comparison/proc-2023-10-27/uninjured-link-comparison/rectified_logistic/posterior_predictive_check.pdf\n",
      "2023-11-06 15:53:10,963 - hbmep.utils.utils - INFO - func:_render_predictive_check took: 1.81 sec\n",
      "2023-11-06 15:53:10,963 - hbmep.utils.utils - INFO - func:render_predictive_check took: 1.81 sec\n"
     ]
    }
   ],
   "source": [
    "prediction_df = model.make_prediction_dataset(df=df)\n",
    "posterior_predictive = model.predict(df=prediction_df, posterior_samples=posterior_samples)\n",
    "\n",
    "model.render_recruitment_curves(df=df, encoder_dict=encoder_dict, posterior_samples=posterior_samples, prediction_df=prediction_df, posterior_predictive=posterior_predictive)\n",
    "model.render_predictive_check(df=df, encoder_dict=encoder_dict, prediction_df=prediction_df, posterior_predictive=posterior_predictive)\n"
   ]
  },
  {
   "cell_type": "code",
   "execution_count": null,
   "metadata": {},
   "outputs": [],
   "source": []
  },
  {
   "cell_type": "code",
   "execution_count": 8,
   "metadata": {},
   "outputs": [
    {
     "name": "stdout",
     "output_type": "stream",
     "text": [
      "\n",
      "                         mean       std    median      2.5%     97.5%     n_eff     r_hat\n",
      "       H_raw[0,0,0]      0.32      0.08      0.31      0.16      0.46     23.56      1.18\n",
      "       H_raw[1,0,0]      0.81      0.60      0.68      0.00      1.99    299.15      1.01\n",
      "       H_raw[2,0,0]      0.04      0.01      0.04      0.02      0.06     24.00      1.19\n",
      "       H_raw[3,0,0]      0.80      0.20      0.79      0.40      1.14     23.87      1.19\n",
      "       H_raw[4,0,0]      0.20      0.28      0.15      0.06      0.30     24.57      1.18\n",
      "       H_raw[5,0,0]      0.93      0.25      0.92      0.48      1.42     25.77      1.18\n",
      "       H_raw[6,0,0]      1.09      0.27      1.08      0.58      1.59     21.89      1.20\n",
      "       H_raw[7,0,0]      0.96      0.24      0.95      0.50      1.42     23.45      1.18\n",
      "       H_raw[8,0,0]      1.38      0.36      1.35      0.68      2.07     28.41      1.15\n",
      "       H_raw[9,0,0]      1.31      0.33      1.29      0.68      1.97     26.92      1.15\n",
      "       L_raw[0,0,0]      0.61      0.15      0.61      0.34      0.90     27.81      1.11\n",
      "       L_raw[1,0,0]      0.51      0.12      0.51      0.27      0.73     27.65      1.11\n",
      "       L_raw[2,0,0]      1.10      0.35      1.06      0.51      1.83     43.34      1.05\n",
      "       L_raw[3,0,0]      1.23      0.31      1.20      0.64      1.80     28.70      1.10\n",
      "       L_raw[4,0,0]      0.65      0.16      0.65      0.36      0.95     27.72      1.11\n",
      "       L_raw[5,0,0]      0.84      0.28      0.83      0.21      1.36     56.37      1.07\n",
      "       L_raw[6,0,0]      1.03      0.26      1.01      0.52      1.54     31.48      1.09\n",
      "       L_raw[7,0,0]      0.75      0.22      0.74      0.38      1.18     36.68      1.08\n",
      "       L_raw[8,0,0]      1.01      0.35      0.95      0.44      1.72     42.59      1.09\n",
      "       L_raw[9,0,0]      1.43      0.35      1.43      0.78      2.09     28.67      1.11\n",
      "       a_raw[0,0,0]      4.90      1.72      4.78      1.81      8.04     26.53      1.14\n",
      "       a_raw[1,0,0]     10.25      3.17     10.14      4.16     16.06     40.93      1.05\n",
      "       a_raw[2,0,0]      6.50      2.30      6.34      2.38     10.55     27.86      1.12\n",
      "       a_raw[3,0,0]      3.73      1.38      3.65      1.32      6.31     25.97      1.15\n",
      "       a_raw[4,0,0]      5.05      1.78      4.92      1.69      8.03     26.77      1.14\n",
      "       a_raw[5,0,0]      4.02      1.43      3.92      1.42      6.43     27.00      1.14\n",
      "       a_raw[6,0,0]      3.08      1.10      3.01      1.13      5.22     29.39      1.09\n",
      "       a_raw[7,0,0]      5.37      1.87      5.21      1.84      8.51     25.90      1.15\n",
      "       a_raw[8,0,0]      4.32      1.53      4.20      1.42      6.91     25.90      1.15\n",
      "       a_raw[9,0,0]      3.08      1.09      3.00      0.95      4.86     26.46      1.15\n",
      "       b_raw[0,0,0]      1.04      0.44      0.99      0.32      1.88    151.64      1.03\n",
      "       b_raw[1,0,0]      0.67      0.57      0.54      0.00      1.83    234.59      1.01\n",
      "       b_raw[2,0,0]      0.93      0.52      0.84      0.19      2.00    138.41      1.03\n",
      "       b_raw[3,0,0]      0.89      0.44      0.80      0.16      1.79    106.22      1.07\n",
      "       b_raw[4,0,0]      0.65      0.41      0.56      0.05      1.47     38.05      1.13\n",
      "       b_raw[5,0,0]      0.44      0.26      0.37      0.02      0.93     93.86      1.08\n",
      "       b_raw[6,0,0]      0.72      0.36      0.66      0.14      1.41     90.57      1.03\n",
      "       b_raw[7,0,0]      1.07      0.44      0.99      0.34      1.91     91.85      1.07\n",
      "       b_raw[8,0,0]      0.56      0.34      0.48      0.09      1.24     80.21      1.04\n",
      "       b_raw[9,0,0]      1.18      0.50      1.12      0.33      2.13    135.59      1.04\n",
      "     g_1_raw[0,0,0]      1.29      0.62      1.15      0.42      2.59     48.98      1.06\n",
      "     g_1_raw[1,0,0]      3.42     16.77      0.90      0.00     11.16    477.78      1.00\n",
      "     g_1_raw[2,0,0]      6.29      3.17      5.51      1.94     12.35     44.19      1.06\n",
      "     g_1_raw[3,0,0]      1.06      0.49      0.93      0.37      2.05     41.68      1.09\n",
      "     g_1_raw[4,0,0]      1.63      0.77      1.44      0.59      3.20     46.22      1.07\n",
      "     g_1_raw[5,0,0]      0.55      0.25      0.49      0.18      1.03     46.49      1.06\n",
      "     g_1_raw[6,0,0]      1.16      0.53      1.05      0.38      2.16     48.39      1.04\n",
      "     g_1_raw[7,0,0]      0.75      0.34      0.67      0.24      1.43     47.06      1.06\n",
      "     g_1_raw[8,0,0]      0.49      0.24      0.43      0.17      0.99     46.49      1.06\n",
      "     g_1_raw[9,0,0]      0.58      0.27      0.51      0.18      1.13     42.57      1.07\n",
      "     g_2_raw[0,0,0]     31.35     26.30     23.25      3.91     83.49    129.48      1.02\n",
      "     g_2_raw[1,0,0]     29.84     28.33     21.34      6.90     71.93     39.08      1.10\n",
      "     g_2_raw[2,0,0]      1.50      2.40      0.99      0.02      4.11    277.39      1.02\n",
      "     g_2_raw[3,0,0]     22.29    189.19      6.53      0.46     39.96    264.55      1.01\n",
      "     g_2_raw[4,0,0]    256.21    304.21    156.43      4.68    799.10    112.16      1.03\n",
      "     g_2_raw[5,0,0]      2.67      3.13      1.85      0.09      7.04    108.56      1.03\n",
      "     g_2_raw[6,0,0]     11.47     24.15      4.35      0.26     40.53    122.07      1.04\n",
      "     g_2_raw[7,0,0]     25.89     46.34     10.66      0.20     98.86    111.29      1.02\n",
      "     g_2_raw[8,0,0]      1.78      2.01      1.31      0.13      4.70    148.96      1.04\n",
      "     g_2_raw[9,0,0]     69.45    308.20     13.42      1.59    254.95    129.27      1.03\n",
      "  global_sigma_H[0]      4.62      2.47      4.00      1.01      9.21    106.97      1.04\n",
      "  global_sigma_L[0]      0.23      0.34      0.09      0.00      0.95    168.06      1.02\n",
      "  global_sigma_b[0]     29.28     41.33     11.11      0.09    118.58    131.03      1.05\n",
      "global_sigma_g_1[0]     43.73     43.34     29.35      1.41    135.92    160.52      1.05\n",
      "global_sigma_g_2[0]    272.67     62.43    270.75    160.93    404.59    156.65      1.03\n",
      "  global_sigma_l[0]     18.00     34.40      2.56      0.02     91.89    160.91      1.02\n",
      "  global_sigma_p[0]    134.46     52.21    127.22     44.11    245.36    122.84      1.05\n",
      "  global_sigma_v[0]     36.61     44.29     17.85      0.47    131.84    143.43      1.01\n",
      "       l_raw[0,0,0]      0.83      0.53      0.73      0.05      1.85    279.77      1.01\n",
      "       l_raw[1,0,0]      0.74      0.60      0.62      0.00      1.91    245.19      1.02\n",
      "       l_raw[2,0,0]      0.83      0.60      0.70      0.01      1.97    262.85      1.04\n",
      "       l_raw[3,0,0]      0.22      0.30      0.10      0.00      0.84    131.16      1.04\n",
      "       l_raw[4,0,0]      0.61      0.50      0.46      0.03      1.64     92.86      1.05\n",
      "       l_raw[5,0,0]      1.21      0.68      1.14      0.06      2.48    144.41      1.01\n",
      "       l_raw[6,0,0]      0.32      0.33      0.21      0.00      1.01    240.46      1.02\n",
      "       l_raw[7,0,0]      0.49      0.39      0.39      0.02      1.27    244.67      1.02\n",
      "       l_raw[8,0,0]      1.38      0.69      1.34      0.01      2.58     89.65      1.04\n",
      "       l_raw[9,0,0]      0.82      0.51      0.73      0.03      1.79     77.33      1.07\n",
      "       p_raw[0,0,0]      0.99      0.42      0.91      0.34      1.87    153.88      1.01\n",
      "       p_raw[1,0,0]      0.54      0.46      0.43      0.00      1.44    215.02      1.03\n",
      "       p_raw[2,0,0]      0.91      0.43      0.84      0.19      1.74     87.87      1.06\n",
      "       p_raw[3,0,0]      0.77      0.31      0.70      0.31      1.39    103.75      1.04\n",
      "       p_raw[4,0,0]      1.86      0.48      1.80      1.01      2.82    144.10      1.02\n",
      "       p_raw[5,0,0]      0.63      0.39      0.53      0.14      1.45    103.96      1.01\n",
      "       p_raw[6,0,0]      0.83      0.39      0.77      0.18      1.59     92.16      1.03\n",
      "       p_raw[7,0,0]      1.23      0.50      1.21      0.25      2.16    127.55      1.01\n",
      "       p_raw[8,0,0]      0.64      0.33      0.59      0.11      1.29     87.17      1.09\n",
      "       p_raw[9,0,0]      0.73      0.34      0.64      0.21      1.42    116.89      1.02\n",
      "   sigma_H_raw[0,0]      1.00      0.50      0.90      0.25      2.01    131.62      1.04\n",
      "   sigma_L_raw[0,0]      0.30      0.39      0.14      0.00      1.14    183.72      1.03\n",
      "   sigma_b_raw[0,0]      0.22      0.38      0.05      0.00      0.99    135.98      1.05\n",
      " sigma_g_1_raw[0,0]      0.32      0.39      0.17      0.01      1.19    137.61      1.02\n",
      " sigma_g_2_raw[0,0]      2.74      0.75      2.72      1.19      4.20     97.10      1.03\n",
      "   sigma_l_raw[0,0]      0.26      0.41      0.06      0.00      1.17    155.92      1.01\n",
      "   sigma_p_raw[0,0]      1.34      0.52      1.27      0.46      2.30     85.31      1.09\n",
      "   sigma_v_raw[0,0]      0.35      0.42      0.16      0.00      1.27    127.08      1.01\n",
      "       v_raw[0,0,0]      0.81      0.52      0.71      0.08      1.83     72.23      1.08\n",
      "       v_raw[1,0,0]      0.91      0.64      0.79      0.01      2.11    190.12      1.04\n",
      "       v_raw[2,0,0]      0.82      0.57      0.72      0.00      1.91    294.94      1.01\n",
      "       v_raw[3,0,0]      0.71      0.45      0.63      0.04      1.52     98.76      1.03\n",
      "       v_raw[4,0,0]      1.00      0.60      0.91      0.01      2.12    145.90      1.02\n",
      "       v_raw[5,0,0]      0.28      0.31      0.17      0.00      0.90    113.45      1.03\n",
      "       v_raw[6,0,0]      0.65      0.44      0.57      0.04      1.50    113.39      1.02\n",
      "       v_raw[7,0,0]      1.04      0.51      0.95      0.25      2.13    110.25      1.02\n",
      "       v_raw[8,0,0]      0.63      0.56      0.47      0.00      1.70     67.67      1.03\n",
      "       v_raw[9,0,0]      1.03      0.50      0.97      0.17      2.03    168.81      1.01\n",
      "           µ_a[0,0]      5.11      1.65      5.06      1.99      8.23     29.40      1.11\n",
      "           σ_a[0,0]      0.14      0.05      0.14      0.05      0.23     26.44      1.15\n",
      "\n",
      "Number of divergences: 485\n"
     ]
    }
   ],
   "source": [
    "mcmc.print_summary(prob=.95)\n"
   ]
  },
  {
   "cell_type": "code",
   "execution_count": 12,
   "metadata": {},
   "outputs": [
    {
     "name": "stderr",
     "output_type": "stream",
     "text": [
      "2023-11-06 15:52:08,031 - __main__ - INFO - Evaluating model ...\n",
      "/home/vishu/repos/hbmep-paper/.venv/lib/python3.11/site-packages/arviz/stats/stats.py:803: UserWarning: Estimated shape parameter of Pareto distribution is greater than 0.7 for one or more samples. You should consider using a more robust model, this is because importance sampling is less likely to work well if the marginal posterior and LOO posterior are very different. This is more likely to happen with a non-robust model and highly influential observations.\n",
      "  warnings.warn(\n",
      "2023-11-06 15:52:08,841 - __main__ - INFO - ELPD LOO (Log): 828.63\n",
      "/home/vishu/repos/hbmep-paper/.venv/lib/python3.11/site-packages/arviz/stats/stats.py:1645: UserWarning: For one or more samples the posterior variance of the log predictive densities exceeds 0.4. This could be indication of WAIC starting to fail. \n",
      "See http://arxiv.org/abs/1507.04544 for details\n",
      "  warnings.warn(\n",
      "2023-11-06 15:52:08,868 - __main__ - INFO - ELPD WAIC (Log): 836.33\n"
     ]
    }
   ],
   "source": [
    "numpyro_data = az.from_numpyro(mcmc)\n",
    "\n",
    "\"\"\" Model evaluation \"\"\"\n",
    "logger.info(\"Evaluating model ...\")\n",
    "\n",
    "score = az.loo(numpyro_data)\n",
    "logger.info(f\"ELPD LOO (Log): {score.elpd_loo:.2f}\")\n",
    "\n",
    "score = az.waic(numpyro_data)\n",
    "logger.info(f\"ELPD WAIC (Log): {score.elpd_waic:.2f}\")\n"
   ]
  },
  {
   "cell_type": "code",
   "execution_count": null,
   "metadata": {},
   "outputs": [],
   "source": [
    "import pickle\n",
    "\n",
    "dest = os.path.join(model.build_dir, \"inference.pkl\")\n",
    "with open(dest, \"wb\") as f:\n",
    "    pickle.dump((model, mcmc, posterior_samples), f)\n"
   ]
  },
  {
   "cell_type": "code",
   "execution_count": null,
   "metadata": {},
   "outputs": [
    {
     "data": {
      "text/plain": [
       "'/home/vishu/repos/hbmep-paper/reports/paper/tms/link-comparison/rectified_logistic/numpyro_data.nc'"
      ]
     },
     "execution_count": 10,
     "metadata": {},
     "output_type": "execute_result"
    }
   ],
   "source": [
    "dest = os.path.join(model.build_dir, \"numpyro_data.nc\")\n",
    "az.to_netcdf(numpyro_data, dest)\n"
   ]
  },
  {
   "cell_type": "code",
   "execution_count": null,
   "metadata": {},
   "outputs": [],
   "source": []
  }
 ],
 "metadata": {
  "kernelspec": {
   "display_name": "Python 3 (ipykernel)",
   "language": "python",
   "name": "python3"
  },
  "orig_nbformat": 4
 },
 "nbformat": 4,
 "nbformat_minor": 2
}
