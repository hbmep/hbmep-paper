{
 "cells": [
  {
   "cell_type": "code",
   "execution_count": 1,
   "metadata": {},
   "outputs": [],
   "source": [
    "%reload_ext autoreload\n",
    "%autoreload 2\n",
    "\n",
    "import os\n",
    "import pickle\n",
    "import logging\n",
    "import multiprocessing\n",
    "from pathlib import Path\n",
    "\n",
    "import pandas as pd\n",
    "import numpy as np\n",
    "import jax\n",
    "import jax.numpy as jnp\n",
    "\n",
    "import arviz as az\n",
    "import numpyro\n",
    "\n",
    "from hbmep.config import Config\n",
    "from hbmep.model.utils import Site as site\n",
    "\n",
    "PLATFORM = \"cpu\"\n",
    "jax.config.update(\"jax_platforms\", PLATFORM)\n",
    "numpyro.set_platform(PLATFORM)\n",
    "\n",
    "cpu_count = multiprocessing.cpu_count() - 2\n",
    "numpyro.set_host_device_count(cpu_count)\n",
    "numpyro.enable_x64()\n",
    "numpyro.enable_validation()\n",
    "\n",
    "logger = logging.getLogger(__name__)"
   ]
  },
  {
   "cell_type": "code",
   "execution_count": 2,
   "metadata": {},
   "outputs": [],
   "source": [
    "import numpyro.distributions as dist\n",
    "from hbmep.model import BaseModel\n",
    "\n",
    "\n",
    "class MixtureModel(BaseModel):\n",
    "    LINK = \"mixture_model\"\n",
    "\n",
    "    def __init__(self, config: Config):\n",
    "        super(MixtureModel, self).__init__(config=config)\n",
    "        self.combination_columns = self.features + [self.subject]\n",
    "\n",
    "    def fn(self, x, a, b, v, L, l, H):\n",
    "        return (\n",
    "            L\n",
    "            + jnp.where(\n",
    "                jnp.less(x, a),\n",
    "                0.,\n",
    "                -l + jnp.true_divide(\n",
    "                    H + l,\n",
    "                    jnp.power(\n",
    "                        1\n",
    "                        + jnp.multiply(\n",
    "                            -1\n",
    "                            + jnp.power(\n",
    "                                jnp.true_divide(H + l, l),\n",
    "                                v\n",
    "                            ),\n",
    "                            jnp.exp(jnp.multiply(-b, x - a))\n",
    "                        ),\n",
    "                        jnp.true_divide(1, v)\n",
    "                    )\n",
    "                )\n",
    "            )\n",
    "        )\n",
    "\n",
    "    def _model(self, subject, features, intensity, response_obs=None):\n",
    "        subject, n_subject = subject\n",
    "        features, n_features = features\n",
    "        intensity, n_data = intensity\n",
    "\n",
    "        intensity = intensity.reshape(-1, 1)\n",
    "        intensity = np.tile(intensity, (1, self.n_response))\n",
    "\n",
    "        feature0 = features[0].reshape(-1,)\n",
    "        n_feature0 = n_features[0]\n",
    "\n",
    "        with numpyro.plate(site.n_response, self.n_response):\n",
    "            \"\"\" Global Priors \"\"\"\n",
    "            a_mean_global_scale = numpyro.sample(\"a_mean_global_scale\", dist.HalfNormal(100))\n",
    "            a_shape_global_scale = numpyro.sample(\"a_shape_global_scale\", dist.HalfNormal(100))\n",
    "\n",
    "            b_scale_global_scale = numpyro.sample(\"b_scale_global_scale\", dist.HalfNormal(100))\n",
    "            v_scale_global_scale = numpyro.sample(\"v_scale_global_scale\", dist.HalfNormal(100))\n",
    "\n",
    "            L_scale_global_scale = numpyro.sample(\"L_scale_global_scale\", dist.HalfNormal(10))\n",
    "            l_scale_global_scale = numpyro.sample(\"l_scale_global_scale\", dist.HalfNormal(100))\n",
    "            H_scale_global_scale = numpyro.sample(\"H_scale_global_scale\", dist.HalfNormal(10))\n",
    "\n",
    "            g_1_scale_global_scale = numpyro.sample(\"g_1_scale_global_scale\", dist.HalfNormal(100))\n",
    "            g_2_scale_global_scale = numpyro.sample(\"g_2_scale_global_scale\", dist.HalfNormal(100))\n",
    "\n",
    "            with numpyro.plate(\"n_feature0\", n_feature0):\n",
    "                \"\"\" Hyper-priors \"\"\"\n",
    "                a_mean_raw = numpyro.sample(\"a_mean_raw\", dist.HalfNormal(scale=1))\n",
    "                a_mean = numpyro.deterministic(\"a_mean\", jnp.multiply(a_mean_global_scale, a_mean_raw))\n",
    "\n",
    "                a_shape_raw = numpyro.sample(\"a_shape_raw\", dist.HalfNormal(scale=1))\n",
    "                a_shape = numpyro.deterministic(\"a_shape\", jnp.multiply(a_shape_global_scale, a_shape_raw))\n",
    "\n",
    "                b_scale_raw = numpyro.sample(\"b_scale_raw\", dist.HalfNormal(scale=1))\n",
    "                b_scale = numpyro.deterministic(\"b_scale\", jnp.multiply(b_scale_global_scale, b_scale_raw))\n",
    "\n",
    "                v_scale_raw = numpyro.sample(\"v_scale_raw\", dist.HalfNormal(scale=1))\n",
    "                v_scale = numpyro.deterministic(\"v_scale\", jnp.multiply(v_scale_global_scale, v_scale_raw))\n",
    "\n",
    "                L_scale_raw = numpyro.sample(\"L_scale_raw\", dist.HalfNormal(scale=1))\n",
    "                L_scale = numpyro.deterministic(\"L_scale\", jnp.multiply(L_scale_global_scale, L_scale_raw))\n",
    "\n",
    "                l_scale_raw = numpyro.sample(\"l_scale_raw\", dist.HalfNormal(scale=1))\n",
    "                l_scale = numpyro.deterministic(\"sigma_l\", jnp.multiply(l_scale_global_scale, l_scale_raw))\n",
    "\n",
    "                H_scale_raw = numpyro.sample(\"H_scale_raw\", dist.HalfNormal(scale=1))\n",
    "                H_scale = numpyro.deterministic(\"H_scale\", jnp.multiply(H_scale_global_scale, H_scale_raw))\n",
    "\n",
    "                g_1_scale_raw = numpyro.sample(\"g_1_scale_raw\", dist.HalfNormal(scale=1))\n",
    "                g_1_scale = numpyro.deterministic(\"g_1_scale\", jnp.multiply(g_1_scale_global_scale, g_1_scale_raw))\n",
    "\n",
    "                g_2_scale_raw = numpyro.sample(\"g_2_scale_raw\", dist.HalfNormal(scale=1))\n",
    "                g_2_scale = numpyro.deterministic(\"g_2_scale\", jnp.multiply(g_2_scale_global_scale, g_2_scale_raw))\n",
    "\n",
    "                with numpyro.plate(site.n_subject, n_subject):\n",
    "                    \"\"\" Priors \"\"\"\n",
    "                    a_raw = numpyro.sample(\"a_raw\", dist.Gamma(concentration=a_shape, rate=1))\n",
    "                    a = numpyro.deterministic(site.a, jnp.true_divide(jnp.multiply(a_raw, a_mean), a_shape))\n",
    "\n",
    "                    b_raw = numpyro.sample(\"b_raw\", dist.HalfNormal(scale=1))\n",
    "                    b = numpyro.deterministic(site.b, jnp.multiply(b_scale, b_raw))\n",
    "\n",
    "                    v_raw = numpyro.sample(\"v_raw\", dist.HalfNormal(scale=1))\n",
    "                    v = numpyro.deterministic(site.v, jnp.multiply(v_scale, v_raw))\n",
    "\n",
    "                    L_raw = numpyro.sample(\"L_raw\", dist.HalfNormal(scale=1))\n",
    "                    L = numpyro.deterministic(site.L, jnp.multiply(L_scale, L_raw))\n",
    "\n",
    "                    l_raw = numpyro.sample(\"l_raw\", dist.HalfNormal(scale=1))\n",
    "                    l = numpyro.deterministic(\"l\", jnp.multiply(l_scale, l_raw))\n",
    "\n",
    "                    H_raw = numpyro.sample(\"H_raw\", dist.HalfNormal(scale=1))\n",
    "                    H = numpyro.deterministic(site.H, jnp.multiply(H_scale, H_raw))\n",
    "\n",
    "                    g_1_raw = numpyro.sample(\"g_1_raw\", dist.HalfCauchy(scale=1))\n",
    "                    g_1 = numpyro.deterministic(site.g_1, jnp.multiply(g_1_scale, g_1_raw))\n",
    "\n",
    "                    g_2_raw = numpyro.sample(\"g_2_raw\", dist.HalfCauchy(scale=1))\n",
    "                    g_2 = numpyro.deterministic(site.g_2, jnp.multiply(g_2_scale, g_2_raw))\n",
    "\n",
    "        with numpyro.plate(site.n_response, self.n_response):\n",
    "            with numpyro.plate(\"n_feature0\", n_feature0):\n",
    "                \"\"\" Outlier Distribution \"\"\"\n",
    "                outlier_shape = numpyro.sample(\"outlier_shape\", dist.HalfNormal(100))\n",
    "                outlier_rate = numpyro.sample(\"outlier_rate\", dist.HalfNormal(100))\n",
    "                outlier_prob = numpyro.sample(\"outlier_prob\", dist.Uniform(0., .2))\n",
    "\n",
    "        with numpyro.plate(site.n_response, self.n_response):\n",
    "            with numpyro.plate(site.n_data, n_data):\n",
    "                \"\"\" Model \"\"\"\n",
    "                mu = numpyro.deterministic(\n",
    "                    site.mu,\n",
    "                    self.fn(\n",
    "                        x=intensity,\n",
    "                        a=a[subject, feature0],\n",
    "                        b=b[subject, feature0],\n",
    "                        v=v[subject, feature0],\n",
    "                        L=L[subject, feature0],\n",
    "                        l=l[subject, feature0],\n",
    "                        H=H[subject, feature0]\n",
    "                    )\n",
    "                )\n",
    "                beta = numpyro.deterministic(\n",
    "                    site.beta,\n",
    "                    g_1[subject, feature0] + jnp.true_divide(g_2[subject, feature0], mu)\n",
    "                )\n",
    "\n",
    "                q = numpyro.deterministic(\"q\", outlier_prob[feature0])\n",
    "                bg_shape = numpyro.deterministic(\"bg_shape\", outlier_shape[feature0])\n",
    "                bg_rate = numpyro.deterministic(\"bg_rate\", outlier_rate[feature0])\n",
    "\n",
    "                \"\"\" Mixture \"\"\"\n",
    "                Mixture = dist.MixtureSameFamily(\n",
    "                    mixing_distribution = dist.Categorical(\n",
    "                        probs=jnp.stack([1 - q, q], axis=-1)\n",
    "                    ),\n",
    "                    component_distribution=dist.Gamma(\n",
    "                        concentration=jnp.stack(\n",
    "                            [jnp.multiply(mu, beta), bg_shape],\n",
    "                            axis=-1\n",
    "                        ),\n",
    "                        rate=jnp.stack(\n",
    "                            [beta, bg_rate],\n",
    "                            axis=-1\n",
    "                        )\n",
    "                    )\n",
    "                )\n",
    "\n",
    "                \"\"\" Observation \"\"\"\n",
    "                numpyro.sample(\n",
    "                    site.obs,\n",
    "                    Mixture,\n",
    "                    obs=response_obs\n",
    "                )\n"
   ]
  },
  {
   "cell_type": "code",
   "execution_count": 3,
   "metadata": {},
   "outputs": [
    {
     "name": "stderr",
     "output_type": "stream",
     "text": [
      "2023-11-15 16:30:22,474 - hbmep.config - INFO - Verifying configuration ...\n",
      "2023-11-15 16:30:22,475 - hbmep.config - INFO - Success!\n",
      "2023-11-15 16:30:22,488 - hbmep.model.baseline - INFO - Initialized base_model\n"
     ]
    }
   ],
   "source": [
    "toml_path = \"/home/vishu/repos/hbmep-paper/configs/paper/tms/proc-2023-11-13/config.toml\"\n",
    "\n",
    "config = Config(toml_path=toml_path)\n",
    "config.BUILD_DIR = os.path.join(config.BUILD_DIR, \"model-comparison/mixture-model/wide/adm\")\n",
    "config.RESPONSE = [\"PKPK_ADM\"]\n",
    "\n",
    "config.MCMC_PARAMS[\"num_warmup\"] = 10000\n",
    "config.MCMC_PARAMS[\"num_samples\"] = 1000\n",
    "\n",
    "model = MixtureModel(config=config)\n"
   ]
  },
  {
   "cell_type": "code",
   "execution_count": 4,
   "metadata": {},
   "outputs": [
    {
     "name": "stderr",
     "output_type": "stream",
     "text": [
      "2023-11-15 16:30:22,560 - hbmep.dataset.core - INFO - Artefacts will be stored here - /home/vishu/repos/hbmep-paper/reports/paper/tms/proc-2023-11-13/model-comparison/mixture-model/wide/adm\n",
      "2023-11-15 16:30:22,560 - hbmep.dataset.core - INFO - Copied config to /home/vishu/repos/hbmep-paper/reports/paper/tms/proc-2023-11-13/model-comparison/mixture-model/wide/adm\n",
      "2023-11-15 16:30:22,561 - hbmep.dataset.core - INFO - Processing data ...\n",
      "2023-11-15 16:30:22,562 - hbmep.utils.utils - INFO - func:load took: 0.00 sec\n"
     ]
    }
   ],
   "source": [
    "src = \"/home/vishu/data/hbmep-processed/human/tms/proc-2023-11-15.csv\"\n",
    "df = pd.read_csv(src)\n",
    "\n",
    "df[model.features[0]] = df[model.features[0]].replace({\n",
    "    \"Uninjured\": \"01_Uninjured\",\n",
    "    \"SCI\": \"02_SCI\"\n",
    "})\n",
    "\n",
    "# subset = [\"SCS06\"]\n",
    "# ind = df[model.subject].isin(subset)\n",
    "# df = df[ind].reset_index(drop=True).copy()\n",
    "\n",
    "df, encoder_dict = model.load(df=df)\n"
   ]
  },
  {
   "cell_type": "code",
   "execution_count": 5,
   "metadata": {},
   "outputs": [
    {
     "name": "stderr",
     "output_type": "stream",
     "text": [
      "2023-11-15 16:30:22,629 - hbmep.model.baseline - INFO - Running inference with base_model ...\n"
     ]
    },
    {
     "data": {
      "application/vnd.jupyter.widget-view+json": {
       "model_id": "f0814f07037e4d49b9fd2cc52a367f99",
       "version_major": 2,
       "version_minor": 0
      },
      "text/plain": [
       "  0%|          | 0/11000 [00:00<?, ?it/s]"
      ]
     },
     "metadata": {},
     "output_type": "display_data"
    },
    {
     "data": {
      "application/vnd.jupyter.widget-view+json": {
       "model_id": "44dba2e420b2419ab3483558d6e5c741",
       "version_major": 2,
       "version_minor": 0
      },
      "text/plain": [
       "  0%|          | 0/11000 [00:00<?, ?it/s]"
      ]
     },
     "metadata": {},
     "output_type": "display_data"
    },
    {
     "data": {
      "application/vnd.jupyter.widget-view+json": {
       "model_id": "6257c4ae41174909b8a08fc767204c84",
       "version_major": 2,
       "version_minor": 0
      },
      "text/plain": [
       "  0%|          | 0/11000 [00:00<?, ?it/s]"
      ]
     },
     "metadata": {},
     "output_type": "display_data"
    },
    {
     "data": {
      "application/vnd.jupyter.widget-view+json": {
       "model_id": "5715a740bbc0409791797b26663b7aac",
       "version_major": 2,
       "version_minor": 0
      },
      "text/plain": [
       "  0%|          | 0/11000 [00:00<?, ?it/s]"
      ]
     },
     "metadata": {},
     "output_type": "display_data"
    }
   ],
   "source": [
    "mcmc, posterior_samples = model.run_inference(df=df)\n"
   ]
  },
  {
   "cell_type": "code",
   "execution_count": null,
   "metadata": {},
   "outputs": [
    {
     "ename": "NameError",
     "evalue": "name 'posterior_samples' is not defined",
     "output_type": "error",
     "traceback": [
      "\u001b[0;31m---------------------------------------------------------------------------\u001b[0m",
      "\u001b[0;31mNameError\u001b[0m                                 Traceback (most recent call last)",
      "\u001b[1;32m/home/vishu/repos/hbmep-paper/notebooks/paper/tms/model-comparison/wide-outlier-dist/adm.ipynb Cell 6\u001b[0m line \u001b[0;36m1\n\u001b[0;32m----> <a href='vscode-notebook-cell://ssh-remote%2Bcumc00/home/vishu/repos/hbmep-paper/notebooks/paper/tms/model-comparison/wide-outlier-dist/adm.ipynb#W5sdnNjb2RlLXJlbW90ZQ%3D%3D?line=0'>1</a>\u001b[0m _posterior_samples \u001b[39m=\u001b[39m posterior_samples\u001b[39m.\u001b[39mcopy()\n\u001b[1;32m      <a href='vscode-notebook-cell://ssh-remote%2Bcumc00/home/vishu/repos/hbmep-paper/notebooks/paper/tms/model-comparison/wide-outlier-dist/adm.ipynb#W5sdnNjb2RlLXJlbW90ZQ%3D%3D?line=1'>2</a>\u001b[0m _posterior_samples[\u001b[39m\"\u001b[39m\u001b[39moutlier_prob\u001b[39m\u001b[39m\"\u001b[39m] \u001b[39m=\u001b[39m _posterior_samples[\u001b[39m\"\u001b[39m\u001b[39moutlier_prob\u001b[39m\u001b[39m\"\u001b[39m] \u001b[39m*\u001b[39m \u001b[39m0\u001b[39m\n\u001b[1;32m      <a href='vscode-notebook-cell://ssh-remote%2Bcumc00/home/vishu/repos/hbmep-paper/notebooks/paper/tms/model-comparison/wide-outlier-dist/adm.ipynb#W5sdnNjb2RlLXJlbW90ZQ%3D%3D?line=3'>4</a>\u001b[0m prediction_df \u001b[39m=\u001b[39m model\u001b[39m.\u001b[39mmake_prediction_dataset(df\u001b[39m=\u001b[39mdf)\n",
      "\u001b[0;31mNameError\u001b[0m: name 'posterior_samples' is not defined"
     ]
    }
   ],
   "source": [
    "_posterior_samples = posterior_samples.copy()\n",
    "_posterior_samples[\"outlier_prob\"] = _posterior_samples[\"outlier_prob\"] * 0\n",
    "\n",
    "prediction_df = model.make_prediction_dataset(df=df)\n",
    "posterior_predictive = model.predict(df=prediction_df, posterior_samples=_posterior_samples)\n",
    "\n",
    "model.render_recruitment_curves(df=df, encoder_dict=encoder_dict, posterior_samples=_posterior_samples, prediction_df=prediction_df, posterior_predictive=posterior_predictive)\n",
    "model.render_predictive_check(df=df, encoder_dict=encoder_dict, prediction_df=prediction_df, posterior_predictive=posterior_predictive)\n"
   ]
  },
  {
   "cell_type": "code",
   "execution_count": null,
   "metadata": {},
   "outputs": [
    {
     "data": {
      "text/plain": [
       "array([[0.12449268],\n",
       "       [0.04172893]])"
      ]
     },
     "metadata": {},
     "output_type": "display_data"
    }
   ],
   "source": [
    "posterior_samples[\"outlier_prob\"].mean(axis=0)"
   ]
  },
  {
   "cell_type": "code",
   "execution_count": null,
   "metadata": {},
   "outputs": [],
   "source": [
    "numpyro_data = az.from_numpyro(mcmc)\n",
    "\n",
    "\"\"\" Model evaluation \"\"\"\n",
    "logger.info(\"Evaluating model ...\")\n",
    "\n",
    "score = az.loo(numpyro_data)\n",
    "logger.info(f\"ELPD LOO (Log): {score.elpd_loo:.2f}\")\n",
    "\n",
    "score = az.waic(numpyro_data)\n",
    "logger.info(f\"ELPD WAIC (Log): {score.elpd_waic:.2f}\")"
   ]
  },
  {
   "cell_type": "code",
   "execution_count": null,
   "metadata": {},
   "outputs": [
    {
     "name": "stdout",
     "output_type": "stream",
     "text": [
      "\n",
      "                               mean       std    median      2.5%     97.5%     n_eff     r_hat\n",
      "             H_raw[0,0,0]      0.81      0.58      0.69      0.00      1.91    525.30      1.01\n",
      "             H_raw[0,1,0]      0.69      0.52      0.55      0.04      1.75    241.96      1.02\n",
      "             H_raw[1,0,0]      0.73      0.60      0.60      0.00      1.93    459.19      1.00\n",
      "             H_raw[1,1,0]      0.81      0.59      0.71      0.00      1.96    301.61      1.02\n",
      "  H_scale_global_scale[0]      6.89      4.97      5.78      0.27     16.52    199.93      1.02\n",
      "         H_scale_raw[0,0]      0.70      0.58      0.58      0.00      1.81    275.10      1.02\n",
      "         H_scale_raw[1,0]      0.68      0.50      0.56      0.04      1.67    171.13      1.01\n",
      "             L_raw[0,0,0]      0.78      0.62      0.64      0.00      2.02    286.31      1.01\n",
      "             L_raw[0,1,0]      0.56      0.51      0.40      0.00      1.61    360.73      1.01\n",
      "             L_raw[1,0,0]      0.55      0.50      0.41      0.00      1.48    220.34      1.02\n",
      "             L_raw[1,1,0]      0.81      0.61      0.68      0.00      1.98    322.72      1.02\n",
      "  L_scale_global_scale[0]      0.50      1.43      0.09      0.00      2.24    178.68      1.03\n",
      "         L_scale_raw[0,0]      0.46      0.47      0.30      0.00      1.42    148.09      1.03\n",
      "         L_scale_raw[1,0]      0.49      0.50      0.31      0.00      1.55    165.97      1.02\n",
      "   a_mean_global_scale[0]     63.16     39.11     51.57     13.64    147.57    113.45      1.06\n",
      "          a_mean_raw[0,0]      0.72      0.46      0.64      0.05      1.58    264.22      1.01\n",
      "          a_mean_raw[1,0]      0.87      0.48      0.79      0.14      1.79    133.20      1.04\n",
      "             a_raw[0,0,0]     59.56     74.60     30.51      0.00    215.24    163.42      1.02\n",
      "             a_raw[0,1,0]     71.89     79.31     44.67      0.05    229.12    165.64      1.03\n",
      "             a_raw[1,0,0]     59.25     74.53     30.38      0.00    214.67    163.60      1.02\n",
      "             a_raw[1,1,0]     71.78     79.49     44.40      0.08    231.10    165.53      1.03\n",
      "  a_shape_global_scale[0]     79.19     61.43     63.14      0.95    193.15    148.68      1.03\n",
      "         a_shape_raw[0,0]      0.78      0.58      0.66      0.00      1.89    231.87      1.02\n",
      "         a_shape_raw[1,0]      0.91      0.59      0.81      0.02      1.99    241.76      1.01\n",
      "             b_raw[0,0,0]      0.85      0.59      0.74      0.00      1.94    468.13      1.01\n",
      "             b_raw[0,1,0]      0.67      0.56      0.53      0.00      1.76    247.87      1.01\n",
      "             b_raw[1,0,0]      0.33      0.44      0.15      0.00      1.25    344.07      1.00\n",
      "             b_raw[1,1,0]      0.83      0.59      0.72      0.01      1.98    417.20      1.01\n",
      "  b_scale_global_scale[0]     17.55     27.24      6.99      0.02     72.71    192.58      1.02\n",
      "         b_scale_raw[0,0]      0.34      0.44      0.16      0.00      1.26    451.80      1.01\n",
      "         b_scale_raw[1,0]      0.71      0.58      0.58      0.00      1.90    262.59      1.01\n",
      "           g_1_raw[0,0,0]      3.59      9.69      1.07      0.00     13.58    247.13      1.01\n",
      "           g_1_raw[0,1,0]      0.65      1.27      0.31      0.00      2.29    627.49      1.00\n",
      "           g_1_raw[1,0,0]      2.57      8.55      0.96      0.00      8.19    302.03      1.01\n",
      "           g_1_raw[1,1,0]      4.16     36.31      1.08      0.00     10.23    515.72      1.01\n",
      "g_1_scale_global_scale[0]     44.59     44.32     30.75      0.06    134.45    335.87      1.00\n",
      "       g_1_scale_raw[0,0]      0.80      0.57      0.69      0.01      1.91    464.41      1.01\n",
      "       g_1_scale_raw[1,0]      0.45      0.49      0.27      0.00      1.46    305.03      1.01\n",
      "           g_2_raw[0,0,0]     21.51    351.08      1.08      0.00     28.43    777.98      1.00\n",
      "           g_2_raw[0,1,0]      1.13      1.53      0.64      0.01      3.74    179.36      1.02\n",
      "           g_2_raw[1,0,0]      0.90      0.99      0.59      0.02      2.87    191.35      1.02\n",
      "           g_2_raw[1,1,0]      3.07      8.11      1.05      0.00     11.18    360.84      1.01\n",
      "g_2_scale_global_scale[0]     46.00     41.81     30.94      2.10    133.56    236.98      1.01\n",
      "       g_2_scale_raw[0,0]      0.57      0.48      0.44      0.01      1.53    196.77      1.01\n",
      "       g_2_scale_raw[1,0]      0.67      0.52      0.54      0.01      1.69    238.83      1.02\n",
      "             l_raw[0,0,0]      0.80      0.61      0.70      0.01      1.98    388.70      1.01\n",
      "             l_raw[0,1,0]      0.66      0.60      0.49      0.00      1.90    236.19      1.01\n",
      "             l_raw[1,0,0]      0.50      0.51      0.35      0.00      1.53    447.99      1.01\n",
      "             l_raw[1,1,0]      0.83      0.59      0.73      0.01      1.99    471.15      1.01\n",
      "  l_scale_global_scale[0]     30.54     44.94      8.83      0.00    131.42    166.83      1.02\n",
      "         l_scale_raw[0,0]      0.49      0.53      0.31      0.00      1.60    291.02      1.02\n",
      "         l_scale_raw[1,0]      0.67      0.58      0.53      0.00      1.74    203.00      1.02\n",
      "        outlier_prob[0,0]      0.02      0.02      0.01      0.00      0.06    405.83      1.01\n",
      "        outlier_prob[1,0]      0.12      0.05      0.13      0.01      0.20     96.43      1.06\n",
      "        outlier_rate[0,0]      0.75      0.61      0.62      0.00      1.95    316.48      1.01\n",
      "        outlier_rate[1,0]      1.28      0.60      1.24      0.13      2.37    243.17      1.01\n",
      "       outlier_shape[0,0]      3.96      2.96      3.38      0.00      9.69    459.07      1.01\n",
      "       outlier_shape[1,0]      0.63      0.80      0.47      0.12      1.51     61.28      1.05\n",
      "             v_raw[0,0,0]      0.79      0.59      0.69      0.00      1.92    350.75      1.01\n",
      "             v_raw[0,1,0]      0.83      0.57      0.70      0.02      1.92    450.05      1.00\n",
      "             v_raw[1,0,0]      1.01      0.61      0.92      0.05      2.15    369.01      1.01\n",
      "             v_raw[1,1,0]      0.86      0.64      0.71      0.00      2.08    370.65      1.00\n",
      "  v_scale_global_scale[0]     97.62     58.85     86.20      9.82    220.68    389.38      1.01\n",
      "         v_scale_raw[0,0]      1.08      0.60      0.99      0.04      2.20    385.49      1.01\n",
      "         v_scale_raw[1,0]      0.76      0.56      0.63      0.01      1.88    257.63      1.02\n",
      "\n",
      "Number of divergences: 1549\n"
     ]
    }
   ],
   "source": [
    "mcmc.print_summary(prob=.95)\n"
   ]
  },
  {
   "cell_type": "code",
   "execution_count": null,
   "metadata": {},
   "outputs": [],
   "source": [
    "import pickle\n",
    "\n",
    "dest = os.path.join(model.build_dir, \"inference.pkl\")\n",
    "with open(dest, \"wb\") as f:\n",
    "    pickle.dump((model, mcmc, posterior_samples), f)\n"
   ]
  },
  {
   "cell_type": "code",
   "execution_count": null,
   "metadata": {},
   "outputs": [],
   "source": []
  }
 ],
 "metadata": {
  "kernelspec": {
   "display_name": "Python 3 (ipykernel)",
   "language": "python",
   "name": "python3"
  },
  "language_info": {
   "codemirror_mode": {
    "name": "ipython",
    "version": 3
   },
   "file_extension": ".py",
   "mimetype": "text/x-python",
   "name": "python",
   "nbconvert_exporter": "python",
   "pygments_lexer": "ipython3",
   "version": "3.11.4"
  }
 },
 "nbformat": 4,
 "nbformat_minor": 2
}
