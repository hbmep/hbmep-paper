{
 "cells": [
  {
   "cell_type": "code",
   "execution_count": 1,
   "metadata": {},
   "outputs": [],
   "source": [
    "%reload_ext autoreload\n",
    "%autoreload 2\n",
    "\n",
    "import os\n",
    "import pickle\n",
    "import logging\n",
    "import multiprocessing\n",
    "from pathlib import Path\n",
    "\n",
    "import pandas as pd\n",
    "import numpy as np\n",
    "import jax\n",
    "import jax.numpy as jnp\n",
    "\n",
    "import arviz as az\n",
    "import numpyro\n",
    "\n",
    "from hbmep.config import Config\n",
    "from hbmep.model.utils import Site as site\n",
    "\n",
    "PLATFORM = \"cpu\"\n",
    "jax.config.update(\"jax_platforms\", PLATFORM)\n",
    "numpyro.set_platform(PLATFORM)\n",
    "\n",
    "cpu_count = multiprocessing.cpu_count() - 2\n",
    "numpyro.set_host_device_count(cpu_count)\n",
    "numpyro.enable_x64()\n",
    "numpyro.enable_validation()\n",
    "\n",
    "logger = logging.getLogger(__name__)"
   ]
  },
  {
   "cell_type": "code",
   "execution_count": 2,
   "metadata": {},
   "outputs": [],
   "source": [
    "import numpyro.distributions as dist\n",
    "from hbmep.model import BaseModel\n",
    "\n",
    "\n",
    "class MixtureModel(BaseModel):\n",
    "    LINK = \"mixture_model\"\n",
    "\n",
    "    def __init__(self, config: Config):\n",
    "        super(MixtureModel, self).__init__(config=config)\n",
    "        self.combination_columns = self.features + [self.subject]\n",
    "\n",
    "    def fn(self, x, a, b, v, L, l, H):\n",
    "        return (\n",
    "            L\n",
    "            + jnp.where(\n",
    "                jnp.less(x, a),\n",
    "                0.,\n",
    "                -l + jnp.true_divide(\n",
    "                    H + l,\n",
    "                    jnp.power(\n",
    "                        1\n",
    "                        + jnp.multiply(\n",
    "                            -1\n",
    "                            + jnp.power(\n",
    "                                jnp.true_divide(H + l, l),\n",
    "                                v\n",
    "                            ),\n",
    "                            jnp.exp(jnp.multiply(-b, x - a))\n",
    "                        ),\n",
    "                        jnp.true_divide(1, v)\n",
    "                    )\n",
    "                )\n",
    "            )\n",
    "        )\n",
    "\n",
    "    def _model(self, subject, features, intensity, response_obs=None):\n",
    "        subject, n_subject = subject\n",
    "        features, n_features = features\n",
    "        intensity, n_data = intensity\n",
    "\n",
    "        intensity = intensity.reshape(-1, 1)\n",
    "        intensity = np.tile(intensity, (1, self.n_response))\n",
    "\n",
    "        feature0 = features[0].reshape(-1,)\n",
    "        n_feature0 = n_features[0]\n",
    "\n",
    "        with numpyro.plate(site.n_response, self.n_response):\n",
    "            \"\"\" Global Priors \"\"\"\n",
    "            a_mean_global_scale = numpyro.sample(\"a_mean_global_scale\", dist.HalfNormal(100))\n",
    "            a_shape_global_scale = numpyro.sample(\"a_shape_global_scale\", dist.HalfNormal(100))\n",
    "\n",
    "            b_scale_global_scale = numpyro.sample(\"b_scale_global_scale\", dist.HalfNormal(100))\n",
    "            v_scale_global_scale = numpyro.sample(\"v_scale_global_scale\", dist.HalfNormal(100))\n",
    "\n",
    "            L_scale_global_scale = numpyro.sample(\"L_scale_global_scale\", dist.HalfNormal(10))\n",
    "            l_scale_global_scale = numpyro.sample(\"l_scale_global_scale\", dist.HalfNormal(100))\n",
    "            H_scale_global_scale = numpyro.sample(\"H_scale_global_scale\", dist.HalfNormal(10))\n",
    "\n",
    "            g_1_scale_global_scale = numpyro.sample(\"g_1_scale_global_scale\", dist.HalfNormal(100))\n",
    "            g_2_scale_global_scale = numpyro.sample(\"g_2_scale_global_scale\", dist.HalfNormal(100))\n",
    "\n",
    "            print(\"a_mean_global_scale\", a_mean_global_scale.shape)\n",
    "\n",
    "            with numpyro.plate(\"n_feature0\", n_feature0):\n",
    "                \"\"\" Hyper-priors \"\"\"\n",
    "                a_mean_raw = numpyro.sample(\"a_mean_raw\", dist.HalfNormal(scale=1))\n",
    "                a_mean = numpyro.deterministic(\"a_mean\", jnp.multiply(a_mean_global_scale, a_mean_raw))\n",
    "\n",
    "                a_shape_raw = numpyro.sample(\"a_shape_raw\", dist.HalfNormal(scale=1))\n",
    "                a_shape = numpyro.deterministic(\"a_shape\", jnp.multiply(a_shape_global_scale, a_shape_raw))\n",
    "\n",
    "                b_scale_raw = numpyro.sample(\"b_scale_raw\", dist.HalfNormal(scale=1))\n",
    "                b_scale = numpyro.deterministic(\"b_scale\", jnp.multiply(b_scale_global_scale, b_scale_raw))\n",
    "\n",
    "                v_scale_raw = numpyro.sample(\"v_scale_raw\", dist.HalfNormal(scale=1))\n",
    "                v_scale = numpyro.deterministic(\"v_scale\", jnp.multiply(v_scale_global_scale, v_scale_raw))\n",
    "\n",
    "                L_scale_raw = numpyro.sample(\"L_scale_raw\", dist.HalfNormal(scale=1))\n",
    "                L_scale = numpyro.deterministic(\"L_scale\", jnp.multiply(L_scale_global_scale, L_scale_raw))\n",
    "\n",
    "                l_scale_raw = numpyro.sample(\"l_scale_raw\", dist.HalfNormal(scale=1))\n",
    "                l_scale = numpyro.deterministic(\"sigma_l\", jnp.multiply(l_scale_global_scale, l_scale_raw))\n",
    "\n",
    "                H_scale_raw = numpyro.sample(\"H_scale_raw\", dist.HalfNormal(scale=1))\n",
    "                H_scale = numpyro.deterministic(\"H_scale\", jnp.multiply(H_scale_global_scale, H_scale_raw))\n",
    "\n",
    "                g_1_scale_raw = numpyro.sample(\"g_1_scale_raw\", dist.HalfNormal(scale=1))\n",
    "                g_1_scale = numpyro.deterministic(\"g_1_scale\", jnp.multiply(g_1_scale_global_scale, g_1_scale_raw))\n",
    "\n",
    "                g_2_scale_raw = numpyro.sample(\"g_2_scale_raw\", dist.HalfNormal(scale=1))\n",
    "                g_2_scale = numpyro.deterministic(\"g_2_scale\", jnp.multiply(g_2_scale_global_scale, g_2_scale_raw))\n",
    "\n",
    "                # p_scale_raw = numpyro.sample(\"p_scale_raw\", dist.HalfNormal(scale=1))\n",
    "                # p_scale = numpyro.deterministic(\"p_scale\", p_scale_global_scale * p_scale_raw)\n",
    "                print(\"a_mean\", a_mean.shape)\n",
    "\n",
    "                with numpyro.plate(site.n_subject, n_subject):\n",
    "                    \"\"\" Priors \"\"\"\n",
    "                    a_raw = numpyro.sample(\"a_raw\", dist.Gamma(concentration=a_shape, rate=1))\n",
    "                    a = numpyro.deterministic(site.a, jnp.true_divide(jnp.multiply(a_raw, a_mean), a_shape))\n",
    "                    # a = numpyro.sample(site.a, dist.TruncatedNormal(loc=a_mean, scale=a_scale, low=0))\n",
    "\n",
    "                    b_raw = numpyro.sample(\"b_raw\", dist.HalfNormal(scale=1))\n",
    "                    b = numpyro.deterministic(site.b, jnp.multiply(b_scale, b_raw))\n",
    "\n",
    "                    v_raw = numpyro.sample(\"v_raw\", dist.HalfNormal(scale=1))\n",
    "                    v = numpyro.deterministic(site.v, jnp.multiply(v_scale, v_raw))\n",
    "\n",
    "                    L_raw = numpyro.sample(\"L_raw\", dist.HalfNormal(scale=1))\n",
    "                    L = numpyro.deterministic(site.L, jnp.multiply(L_scale, L_raw))\n",
    "\n",
    "                    l_raw = numpyro.sample(\"l_raw\", dist.HalfNormal(scale=1))\n",
    "                    l = numpyro.deterministic(\"l\", jnp.multiply(l_scale, l_raw))\n",
    "\n",
    "                    H_raw = numpyro.sample(\"H_raw\", dist.HalfNormal(scale=1))\n",
    "                    H = numpyro.deterministic(site.H, jnp.multiply(H_scale, H_raw))\n",
    "\n",
    "                    g_1_raw = numpyro.sample(\"g_1_raw\", dist.HalfCauchy(scale=1))\n",
    "                    g_1 = numpyro.deterministic(site.g_1, jnp.multiply(g_1_scale, g_1_raw))\n",
    "\n",
    "                    g_2_raw = numpyro.sample(\"g_2_raw\", dist.HalfCauchy(scale=1))\n",
    "                    g_2 = numpyro.deterministic(site.g_2, jnp.multiply(g_2_scale, g_2_raw))\n",
    "\n",
    "                    # p_raw = numpyro.sample(\"p_raw\", dist.HalfNormal(scale=1))\n",
    "                    # p = numpyro.deterministic(\"p\", p_scale * p_raw)\n",
    "                    print(\"a\", a.shape)\n",
    "\n",
    "        with numpyro.plate(site.n_response, self.n_response):\n",
    "            with numpyro.plate(\"n_feature0\", n_feature0):\n",
    "                \"\"\" Outlier Distribution \"\"\"\n",
    "                outlier_shape = numpyro.sample(\"outlier_shape\", dist.HalfNormal(5))\n",
    "                outlier_rate = numpyro.sample(\"outlier_rate\", dist.HalfNormal(1))\n",
    "                outlier_prob = numpyro.sample(\"outlier_prob\", dist.Uniform(0., .2))\n",
    "\n",
    "        with numpyro.plate(site.n_response, self.n_response):\n",
    "            with numpyro.plate(site.n_data, n_data):\n",
    "                \"\"\" Model \"\"\"\n",
    "                mu = numpyro.deterministic(\n",
    "                    site.mu,\n",
    "                    self.fn(\n",
    "                        x=intensity,\n",
    "                        a=a[subject, feature0],\n",
    "                        b=b[subject, feature0],\n",
    "                        v=v[subject, feature0],\n",
    "                        L=L[subject, feature0],\n",
    "                        l=l[subject, feature0],\n",
    "                        H=H[subject, feature0]\n",
    "                    )\n",
    "                )\n",
    "                beta = numpyro.deterministic(\n",
    "                    site.beta,\n",
    "                    g_1[subject, feature0] + jnp.true_divide(g_2[subject, feature0], mu)\n",
    "                )\n",
    "\n",
    "                q = numpyro.deterministic(\"q\", outlier_prob[feature0])\n",
    "                bg_shape = numpyro.deterministic(\"bg_shape\", outlier_shape[feature0])\n",
    "                bg_rate = numpyro.deterministic(\"bg_rate\", outlier_rate[feature0])\n",
    "                print(\"q\", q.shape, \"bg_shape\", bg_shape.shape, \"bg_rate\", bg_rate.shape)\n",
    "                print(\"probs\", jnp.stack([1 - q, q], axis=-1).shape)\n",
    "                print(\"conc\", jnp.stack([jnp.multiply(mu, beta), bg_shape], axis=-1).shape)\n",
    "                print(\"rate\", jnp.stack([beta, bg_rate], axis=-1).shape)\n",
    "\n",
    "                print(\"categorical_batch_shape\", dist.Categorical(probs=jnp.stack([1 - q, q], axis=-1)).batch_shape)\n",
    "\n",
    "                \"\"\" Mixture \"\"\"\n",
    "                Mixture = dist.MixtureSameFamily(\n",
    "                    mixing_distribution = dist.Categorical(\n",
    "                        probs=jnp.stack([1 - q, q], axis=-1)\n",
    "                    ),\n",
    "                    component_distribution=dist.Gamma(\n",
    "                        concentration=jnp.stack(\n",
    "                            [jnp.multiply(mu, beta), bg_shape],\n",
    "                            axis=-1\n",
    "                        ),\n",
    "                        rate=jnp.stack(\n",
    "                            [beta, bg_rate],\n",
    "                            axis=-1\n",
    "                        )\n",
    "                    )\n",
    "                )\n",
    "\n",
    "                \"\"\" Observation \"\"\"\n",
    "                obs = numpyro.sample(\n",
    "                    site.obs,\n",
    "                    Mixture,\n",
    "                    obs=response_obs\n",
    "                )\n",
    "                log_probs = Mixture.component_log_probs(obs)\n",
    "                numpyro.deterministic(\n",
    "                    \"p\", log_probs - jax.nn.logsumexp(log_probs, axis=-1, keepdims=True)\n",
    "                )\n"
   ]
  },
  {
   "cell_type": "code",
   "execution_count": 3,
   "metadata": {},
   "outputs": [
    {
     "name": "stderr",
     "output_type": "stream",
     "text": [
      "2023-11-15 14:25:40,221 - hbmep.config - INFO - Verifying configuration ...\n",
      "2023-11-15 14:25:40,222 - hbmep.config - INFO - Success!\n"
     ]
    },
    {
     "name": "stderr",
     "output_type": "stream",
     "text": [
      "2023-11-15 14:25:40,393 - hbmep.model.baseline - INFO - Initialized base_model\n"
     ]
    }
   ],
   "source": [
    "toml_path = \"/home/vishu/repos/hbmep-paper/configs/paper/tms/proc-2023-11-13/config.toml\"\n",
    "\n",
    "config = Config(toml_path=toml_path)\n",
    "config.BUILD_DIR = os.path.join(config.BUILD_DIR, \"model-comparison/mixture-model/grade/\")\n",
    "config.RESPONSE = [\"PKPK_ADM\"]\n",
    "\n",
    "config.MCMC_PARAMS[\"num_warmup\"] = 5000\n",
    "config.MCMC_PARAMS[\"num_samples\"] = 1000\n",
    "\n",
    "model = MixtureModel(config=config)\n"
   ]
  },
  {
   "cell_type": "code",
   "execution_count": 4,
   "metadata": {},
   "outputs": [
    {
     "name": "stderr",
     "output_type": "stream",
     "text": [
      "2023-11-15 14:25:40,557 - hbmep.dataset.core - INFO - Artefacts will be stored here - /home/vishu/repos/hbmep-paper/reports/paper/tms/proc-2023-11-13/model-comparison/mixture-model/grade/\n",
      "2023-11-15 14:25:40,563 - hbmep.dataset.core - INFO - Copied config to /home/vishu/repos/hbmep-paper/reports/paper/tms/proc-2023-11-13/model-comparison/mixture-model/grade/\n",
      "2023-11-15 14:25:40,572 - hbmep.dataset.core - INFO - Processing data ...\n",
      "2023-11-15 14:25:40,581 - hbmep.utils.utils - INFO - func:load took: 0.02 sec\n"
     ]
    }
   ],
   "source": [
    "src = \"/home/vishu/data/hbmep-processed/human/tms/proc-2023-11-15.csv\"\n",
    "df = pd.read_csv(src)\n",
    "\n",
    "df[model.features[0]] = df[model.features[0]].replace({\n",
    "    \"Uninjured\": \"01_Uninjured\",\n",
    "    \"SCI\": \"02_SCI\"\n",
    "})\n",
    "\n",
    "subset = [\"SCA01\", \"SCS04\"]\n",
    "ind = df[model.subject].isin(subset)\n",
    "df = df[ind].reset_index(drop=True).copy()\n",
    "\n",
    "# ind = df[model.intensity] > 0\n",
    "# df = df[ind].reset_index(drop=True).copy()\n",
    "\n",
    "df, encoder_dict = model.load(df=df)\n"
   ]
  },
  {
   "cell_type": "code",
   "execution_count": 5,
   "metadata": {},
   "outputs": [
    {
     "name": "stderr",
     "output_type": "stream",
     "text": [
      "2023-11-15 14:25:40,686 - hbmep.model.baseline - INFO - Running inference with base_model ...\n"
     ]
    },
    {
     "name": "stdout",
     "output_type": "stream",
     "text": [
      "a_mean_global_scale (1,)\n",
      "a_mean (2, 1)\n",
      "a (2, 2, 1)\n",
      "q (157, 1) bg_shape (157, 1) bg_rate (157, 1)\n",
      "probs (157, 1, 2)\n",
      "conc (157, 1, 2)\n",
      "rate (157, 1, 2)\n",
      "categorical_batch_shape (157, 1)\n",
      "a_mean_global_scale (1,)\n",
      "a_mean (2, 1)\n",
      "a (2, 2, 1)\n",
      "q (157, 1) bg_shape (157, 1) bg_rate (157, 1)\n",
      "probs (157, 1, 2)\n",
      "conc (157, 1, 2)\n",
      "rate (157, 1, 2)\n",
      "categorical_batch_shape (157, 1)\n"
     ]
    },
    {
     "data": {
      "application/vnd.jupyter.widget-view+json": {
       "model_id": "2dd590f121cc40188fe820a6c0038218",
       "version_major": 2,
       "version_minor": 0
      },
      "text/plain": [
       "  0%|          | 0/6000 [00:00<?, ?it/s]"
      ]
     },
     "metadata": {},
     "output_type": "display_data"
    },
    {
     "data": {
      "application/vnd.jupyter.widget-view+json": {
       "model_id": "ee278fe1d8ca48c992adbe4f6296dc4d",
       "version_major": 2,
       "version_minor": 0
      },
      "text/plain": [
       "  0%|          | 0/6000 [00:00<?, ?it/s]"
      ]
     },
     "metadata": {},
     "output_type": "display_data"
    },
    {
     "data": {
      "application/vnd.jupyter.widget-view+json": {
       "model_id": "9e2e0a676c784033be0915c2069c1a78",
       "version_major": 2,
       "version_minor": 0
      },
      "text/plain": [
       "  0%|          | 0/6000 [00:00<?, ?it/s]"
      ]
     },
     "metadata": {},
     "output_type": "display_data"
    },
    {
     "data": {
      "application/vnd.jupyter.widget-view+json": {
       "model_id": "04a952fdf5ea4f1e92b7fff17de88785",
       "version_major": 2,
       "version_minor": 0
      },
      "text/plain": [
       "  0%|          | 0/6000 [00:00<?, ?it/s]"
      ]
     },
     "metadata": {},
     "output_type": "display_data"
    },
    {
     "name": "stdout",
     "output_type": "stream",
     "text": [
      "a_mean_global_scale (1,)\n",
      "a_mean (2, 1)\n",
      "a (2, 2, 1)\n",
      "q (157, 1) bg_shape (157, 1) bg_rate (157, 1)\n",
      "probs (157, 1, 2)\n",
      "conc (157, 1, 2)\n",
      "rate (157, 1, 2)\n",
      "categorical_batch_shape (157, 1)\n",
      "a_mean_global_scale (1,)\n",
      "a_mean (2, 1)\n",
      "a (2, 2, 1)\n",
      "q (157, 1) bg_shape (157, 1) bg_rate (157, 1)\n",
      "probs (157, 1, 2)\n",
      "conc (157, 1, 2)\n",
      "rate (157, 1, 2)\n",
      "categorical_batch_shape (157, 1)\n"
     ]
    }
   ],
   "source": [
    "mcmc, posterior_samples = model.run_inference(df=df)\n"
   ]
  },
  {
   "cell_type": "code",
   "execution_count": null,
   "metadata": {},
   "outputs": [],
   "source": [
    "_posterior_samples = posterior_samples.copy()\n",
    "# _posterior_samples[\"q\"] = _posterior_samples[\"q\"] * 0\n",
    "_posterior_samples[\"outlier_prob\"] = _posterior_samples[\"outlier_prob\"] * 0"
   ]
  },
  {
   "cell_type": "code",
   "execution_count": 9,
   "metadata": {},
   "outputs": [
    {
     "name": "stderr",
     "output_type": "stream",
     "text": [
      "2023-11-15 14:08:56,704 - hbmep.utils.utils - INFO - func:make_prediction_dataset took: 0.01 sec\n"
     ]
    },
    {
     "name": "stdout",
     "output_type": "stream",
     "text": [
      "a_mean_global_scale (1,)\n",
      "a_mean (1, 1)\n",
      "a (1, 1, 1)\n",
      "q (100, 1) bg_shape (100, 1) bg_rate (100, 1)\n",
      "probs (100, 1, 2)\n",
      "conc (100, 1, 2)\n",
      "rate (100, 1, 2)\n",
      "categorical_batch_shape (100, 1)\n"
     ]
    },
    {
     "name": "stderr",
     "output_type": "stream",
     "text": [
      "2023-11-15 14:08:59,295 - hbmep.utils.utils - INFO - func:predict took: 2.59 sec\n",
      "2023-11-15 14:08:59,303 - hbmep.model.baseline - INFO - Rendering recruitment curves ...\n",
      "2023-11-15 14:09:00,748 - hbmep.model.baseline - INFO - Saved to /home/vishu/repos/hbmep-paper/reports/paper/tms/proc-2023-11-13/model-comparison/mixture-model/grade/recruitment_curves.pdf\n",
      "2023-11-15 14:09:00,756 - hbmep.utils.utils - INFO - func:render_recruitment_curves took: 1.45 sec\n",
      "2023-11-15 14:09:00,757 - hbmep.model.baseline - INFO - Rendering posterior predictive checks ...\n",
      "2023-11-15 14:09:01,204 - hbmep.model.baseline - INFO - Saved to /home/vishu/repos/hbmep-paper/reports/paper/tms/proc-2023-11-13/model-comparison/mixture-model/grade/posterior_predictive_check.pdf\n",
      "2023-11-15 14:09:01,211 - hbmep.utils.utils - INFO - func:predictive_checks_renderer took: 0.45 sec\n",
      "2023-11-15 14:09:01,213 - hbmep.utils.utils - INFO - func:render_predictive_check took: 0.46 sec\n"
     ]
    }
   ],
   "source": [
    "prediction_df = model.make_prediction_dataset(df=df)\n",
    "posterior_predictive = model.predict(df=prediction_df, posterior_samples=_posterior_samples)\n",
    "\n",
    "model.render_recruitment_curves(df=df, encoder_dict=encoder_dict, posterior_samples=_posterior_samples, prediction_df=prediction_df, posterior_predictive=posterior_predictive)\n",
    "model.render_predictive_check(df=df, encoder_dict=encoder_dict, prediction_df=prediction_df, posterior_predictive=posterior_predictive)\n"
   ]
  },
  {
   "cell_type": "code",
   "execution_count": 51,
   "metadata": {},
   "outputs": [
    {
     "data": {
      "text/plain": [
       "(79,)"
      ]
     },
     "execution_count": 51,
     "metadata": {},
     "output_type": "execute_result"
    }
   ],
   "source": [
    "fb_prob = np.exp(posterior_samples[\"p\"][..., 1]).mean(axis=0)[..., 0]\n",
    "fb_prob.shape"
   ]
  },
  {
   "cell_type": "code",
   "execution_count": 66,
   "metadata": {},
   "outputs": [
    {
     "data": {
      "image/png": "[encoded data removed]",
      "text/plain": [
       "<Figure size 500x300 with 2 Axes>"
      ]
     },
     "metadata": {},
     "output_type": "display_data"
    }
   ],
   "source": [
    "import matplotlib.pyplot as plt\n",
    "import seaborn as sns\n",
    "\n",
    "nrows, ncols = 1, 1\n",
    "fig, axes = plt.subplots(nrows=nrows, ncols=ncols, figsize=(ncols * 5, nrows * 3), squeeze=False, constrained_layout=True)\n",
    "\n",
    "ax = axes[0, 0]\n",
    "sns.scatterplot(x=df[model.intensity], y=df[model.response[0]], c=fb_prob, cmap=sns.color_palette(\"flare\", as_cmap=True), ax=ax)\n",
    "PCM=ax.get_children()[0]\n",
    "plt.colorbar(PCM, ax=ax, label=\"Outlier Probability\", ticks=[0.0, .5, 1.], format='%.1f');\n"
   ]
  },
  {
   "cell_type": "code",
   "execution_count": null,
   "metadata": {},
   "outputs": [],
   "source": [
    "fg_prob = jnp.mean(jnp.exp(sampler.get_samples()[\"p\"][..., 0]), axis=0)"
   ]
  },
  {
   "cell_type": "code",
   "execution_count": 17,
   "metadata": {},
   "outputs": [],
   "source": [
    "posterior_samples[\"outlier_prob\"] = posterior_samples[\"outlier_prob\"] * 0"
   ]
  },
  {
   "cell_type": "code",
   "execution_count": 15,
   "metadata": {},
   "outputs": [
    {
     "data": {
      "text/plain": [
       "array([[1.],\n",
       "       [1.]])"
      ]
     },
     "execution_count": 15,
     "metadata": {},
     "output_type": "execute_result"
    }
   ],
   "source": [
    "posterior_samples[\"outlier_prob\"].mean(axis=0)"
   ]
  },
  {
   "cell_type": "code",
   "execution_count": 7,
   "metadata": {},
   "outputs": [
    {
     "name": "stdout",
     "output_type": "stream",
     "text": [
      "\n",
      "                               mean       std    median      2.5%     97.5%     n_eff     r_hat\n",
      "             H_raw[0,0,0]      0.78      0.56      0.62      0.02      1.86     82.64      1.04\n",
      "             H_raw[0,1,0]      0.90      0.61      0.80      0.01      1.98    135.52      1.04\n",
      "             H_raw[1,0,0]      0.85      0.57      0.80      0.01      1.94    164.57      1.02\n",
      "             H_raw[1,1,0]      0.63      0.58      0.49      0.00      1.79     58.52      1.07\n",
      "             H_raw[2,0,0]      0.81      0.58      0.68      0.02      1.85    115.00      1.04\n",
      "             H_raw[2,1,0]      0.77      0.57      0.67      0.00      1.87    126.88      1.04\n",
      "  H_scale_global_scale[0]      5.32      4.86      3.67      0.29     15.18     55.83      1.09\n",
      "         H_scale_raw[0,0]      0.78      0.58      0.60      0.03      1.83     94.21      1.10\n",
      "         H_scale_raw[1,0]      0.66      0.61      0.49      0.00      1.88     71.54      1.06\n",
      "             L_raw[0,0,0]      0.45      0.44      0.30      0.00      1.28     71.60      1.06\n",
      "             L_raw[0,1,0]      0.78      0.58      0.71      0.00      1.84    157.27      1.04\n",
      "             L_raw[1,0,0]      0.77      0.59      0.69      0.00      1.87     62.88      1.05\n",
      "             L_raw[1,1,0]      0.95      0.58      0.86      0.10      2.03     86.27      1.04\n",
      "             L_raw[2,0,0]      0.85      0.62      0.72      0.02      1.98     72.98      1.07\n",
      "             L_raw[2,1,0]      0.32      0.20      0.28      0.02      0.68     89.83      1.04\n",
      "  L_scale_global_scale[0]      0.41      0.90      0.09      0.00      1.89     17.64      1.25\n",
      "         L_scale_raw[0,0]      0.46      0.45      0.31      0.00      1.41     97.00      1.02\n",
      "         L_scale_raw[1,0]      0.48      0.47      0.32      0.00      1.41     55.44      1.12\n",
      "   a_mean_global_scale[0]     55.58     38.25     43.94     10.88    136.90     53.08      1.11\n",
      "          a_mean_raw[0,0]      1.07      0.68      0.89      0.24      2.75     10.04      1.28\n",
      "          a_mean_raw[1,0]      0.47      0.36      0.39      0.01      1.19    188.09      1.02\n",
      "             a_raw[0,0,0]     75.70     79.14     52.99      0.54    242.03     63.11      1.09\n",
      "             a_raw[0,1,0]     65.27     74.84     36.76      0.04    215.28     92.40      1.06\n",
      "             a_raw[1,0,0]     75.69     79.01     53.38      0.20    237.42     64.66      1.08\n",
      "             a_raw[1,1,0]     64.29     74.56     37.19      0.03    218.30     94.39      1.06\n",
      "             a_raw[2,0,0]     74.96     78.87     52.61      0.18    237.35     62.70      1.09\n",
      "             a_raw[2,1,0]     65.83     75.60     37.69      0.06    217.69     93.12      1.06\n",
      "  a_shape_global_scale[0]     93.34     61.61     80.66      2.21    207.91     90.18      1.03\n",
      "         a_shape_raw[0,0]      0.83      0.58      0.72      0.04      1.95     87.65      1.09\n",
      "         a_shape_raw[1,0]      0.71      0.58      0.57      0.00      1.92    102.39      1.08\n",
      "             b_raw[0,0,0]      0.75      0.58      0.60      0.01      1.95    143.93      1.03\n",
      "             b_raw[0,1,0]      0.86      0.64      0.73      0.00      1.97     79.92      1.08\n",
      "             b_raw[1,0,0]      0.81      0.61      0.66      0.01      2.01    187.35      1.03\n",
      "             b_raw[1,1,0]      0.37      0.42      0.21      0.00      1.26    126.61      1.04\n",
      "             b_raw[2,0,0]      0.82      0.58      0.67      0.01      1.95    167.34      1.04\n",
      "             b_raw[2,1,0]      0.65      0.57      0.52      0.00      1.77    108.07      1.05\n",
      "  b_scale_global_scale[0]     12.97     22.94      4.29      0.00     58.37    137.98      1.04\n",
      "         b_scale_raw[0,0]      0.79      0.54      0.70      0.02      1.83    187.50      1.03\n",
      "         b_scale_raw[1,0]      0.16      0.30      0.04      0.00      0.71    111.66      1.02\n",
      "           g_1_raw[0,0,0]      0.78      1.69      0.30      0.00      3.07    138.48      1.03\n",
      "           g_1_raw[0,1,0]     16.14    137.26      0.97      0.00     16.93    100.97      1.04\n",
      "           g_1_raw[1,0,0]     64.37   1120.42      0.82      0.00     14.20    338.08      1.01\n",
      "           g_1_raw[1,1,0]      2.60      8.27      0.83      0.00      8.81    460.62      1.01\n",
      "           g_1_raw[2,0,0]      3.97     20.72      1.29      0.00     10.75    349.44      1.02\n",
      "           g_1_raw[2,1,0]      2.20      7.49      0.83      0.00      6.32    172.91      1.03\n",
      "g_1_scale_global_scale[0]     41.54     47.76     22.97      0.04    146.43    224.20      1.01\n",
      "       g_1_scale_raw[0,0]      0.49      0.50      0.31      0.00      1.57     87.36      1.02\n",
      "       g_1_scale_raw[1,0]      0.82      0.60      0.71      0.00      1.97    202.96      1.01\n",
      "           g_2_raw[0,0,0]      1.14      2.22      0.54      0.01      3.66     95.49      1.04\n",
      "           g_2_raw[0,1,0]      3.43     13.82      0.83      0.00     11.54    295.79      1.01\n",
      "           g_2_raw[1,0,0]      4.31     41.25      0.89      0.00      9.72    784.29      1.00\n",
      "           g_2_raw[1,1,0]     21.47     34.21     12.19      1.28     58.93    145.19      1.02\n",
      "           g_2_raw[2,0,0]      4.76     22.64      0.97      0.00     15.68    426.71      1.01\n",
      "           g_2_raw[2,1,0]      0.26      0.40      0.15      0.01      0.76    136.59      1.02\n",
      "g_2_scale_global_scale[0]     74.91     52.82     61.90      4.25    175.57     95.15      1.03\n",
      "       g_2_scale_raw[0,0]      0.68      0.51      0.57      0.01      1.70     68.35      1.06\n",
      "       g_2_scale_raw[1,0]      0.97      0.58      0.85      0.06      2.00     41.12      1.09\n",
      "             l_raw[0,0,0]      0.68      0.56      0.53      0.00      1.80    168.97      1.03\n",
      "             l_raw[0,1,0]      0.81      0.58      0.69      0.01      1.90    177.44      1.01\n",
      "             l_raw[1,0,0]      0.86      0.68      0.72      0.00      2.18     34.72      1.10\n",
      "             l_raw[1,1,0]      0.58      0.57      0.41      0.00      1.76     74.00      1.06\n",
      "             l_raw[2,0,0]      0.72      0.58      0.57      0.00      1.86    164.91      1.03\n",
      "             l_raw[2,1,0]      0.68      0.56      0.55      0.00      1.72    120.16      1.03\n",
      "  l_scale_global_scale[0]     24.81     40.67      4.40      0.00    116.51     62.05      1.06\n",
      "         l_scale_raw[0,0]      0.71      0.59      0.58      0.00      1.89    137.58      1.05\n",
      "         l_scale_raw[1,0]      0.46      0.50      0.33      0.00      1.44     91.56      1.06\n",
      "        outlier_prob[0,0]      0.15      0.04      0.16      0.07      0.20     15.50      1.13\n",
      "        outlier_prob[1,0]      0.04      0.02      0.04      0.01      0.08    148.15      1.02\n",
      "             outlier_rate      1.76      0.65      1.71      0.60      3.15     73.39      1.07\n",
      "            outlier_shape      0.57      0.16      0.56      0.27      0.87     28.12      1.11\n",
      "             v_raw[0,0,0]      0.69      0.55      0.54      0.00      1.75    142.11      1.04\n",
      "             v_raw[0,1,0]      0.82      0.59      0.69      0.00      1.93    211.26      1.02\n",
      "             v_raw[1,0,0]      0.89      0.56      0.80      0.00      2.00    279.58      1.02\n",
      "             v_raw[1,1,0]      1.02      0.59      0.97      0.02      2.10    143.37      1.02\n",
      "             v_raw[2,0,0]      0.95      0.59      0.89      0.02      2.11    378.61      1.02\n",
      "             v_raw[2,1,0]      0.92      0.58      0.80      0.04      2.05    108.53      1.03\n",
      "  v_scale_global_scale[0]     86.57     52.60     77.34      6.27    186.46    111.65      1.04\n",
      "         v_scale_raw[0,0]      0.74      0.52      0.61      0.03      1.72    196.74      1.02\n",
      "         v_scale_raw[1,0]      1.04      0.63      0.96      0.03      2.22     78.18      1.06\n",
      "\n",
      "Number of divergences: 1200\n"
     ]
    }
   ],
   "source": [
    "mcmc.print_summary(prob=.95)\n"
   ]
  },
  {
   "cell_type": "code",
   "execution_count": null,
   "metadata": {},
   "outputs": [
    {
     "name": "stderr",
     "output_type": "stream",
     "text": [
      "2023-10-27 15:51:53,418 - __main__ - INFO - Evaluating model ...\n",
      "/home/vishu/repos/hbmep-paper/.venv/lib/python3.11/site-packages/arviz/stats/stats.py:1037: RuntimeWarning: overflow encountered in exp\n",
      "  weights = 1 / np.exp(len_scale - len_scale[:, None]).sum(axis=1)\n",
      "/home/vishu/repos/hbmep-paper/.venv/lib/python3.11/site-packages/arviz/stats/stats.py:803: UserWarning: Estimated shape parameter of Pareto distribution is greater than 0.7 for one or more samples. You should consider using a more robust model, this is because importance sampling is less likely to work well if the marginal posterior and LOO posterior are very different. This is more likely to happen with a non-robust model and highly influential observations.\n",
      "  warnings.warn(\n",
      "2023-10-27 15:51:59,497 - __main__ - INFO - ELPD LOO (Log): 9011.30\n",
      "/home/vishu/repos/hbmep-paper/.venv/lib/python3.11/site-packages/arviz/stats/stats.py:1645: UserWarning: For one or more samples the posterior variance of the log predictive densities exceeds 0.4. This could be indication of WAIC starting to fail. \n",
      "See http://arxiv.org/abs/1507.04544 for details\n",
      "  warnings.warn(\n",
      "2023-10-27 15:51:59,700 - __main__ - INFO - ELPD WAIC (Log): 9033.36\n"
     ]
    }
   ],
   "source": [
    "numpyro_data = az.from_numpyro(mcmc)\n",
    "\n",
    "\"\"\" Model evaluation \"\"\"\n",
    "logger.info(\"Evaluating model ...\")\n",
    "\n",
    "score = az.loo(numpyro_data)\n",
    "logger.info(f\"ELPD LOO (Log): {score.elpd_loo:.2f}\")\n",
    "\n",
    "score = az.waic(numpyro_data)\n",
    "logger.info(f\"ELPD WAIC (Log): {score.elpd_waic:.2f}\")\n"
   ]
  },
  {
   "cell_type": "code",
   "execution_count": null,
   "metadata": {},
   "outputs": [],
   "source": [
    "import pickle\n",
    "\n",
    "dest = os.path.join(model.build_dir, \"inference.pkl\")\n",
    "with open(dest, \"wb\") as f:\n",
    "    pickle.dump((model, mcmc, posterior_samples), f)\n"
   ]
  },
  {
   "cell_type": "code",
   "execution_count": null,
   "metadata": {},
   "outputs": [
    {
     "data": {
      "text/plain": [
       "'/home/vishu/repos/hbmep-paper/reports/paper/tms/link-comparison/rectified_logistic/numpyro_data.nc'"
      ]
     },
     "metadata": {},
     "output_type": "display_data"
    }
   ],
   "source": [
    "dest = os.path.join(model.build_dir, \"numpyro_data.nc\")\n",
    "az.to_netcdf(numpyro_data, dest)\n"
   ]
  }
 ],
 "metadata": {
  "kernelspec": {
   "display_name": "Python 3 (ipykernel)",
   "language": "python",
   "name": "python3"
  },
  "language_info": {
   "codemirror_mode": {
    "name": "ipython",
    "version": 3
   },
   "file_extension": ".py",
   "mimetype": "text/x-python",
   "name": "python",
   "nbconvert_exporter": "python",
   "pygments_lexer": "ipython3",
   "version": "3.11.4"
  }
 },
 "nbformat": 4,
 "nbformat_minor": 2
}
