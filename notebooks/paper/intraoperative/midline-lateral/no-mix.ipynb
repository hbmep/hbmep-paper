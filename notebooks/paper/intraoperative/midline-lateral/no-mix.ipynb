{
 "cells": [
  {
   "cell_type": "code",
   "execution_count": 1,
   "metadata": {},
   "outputs": [],
   "source": [
    "%reload_ext autoreload\n",
    "%autoreload 2\n",
    "\n",
    "import os\n",
    "import pickle\n",
    "import logging\n",
    "import multiprocessing\n",
    "from pathlib import Path\n",
    "\n",
    "import pandas as pd\n",
    "import numpy as np\n",
    "import jax\n",
    "import jax.numpy as jnp\n",
    "\n",
    "import arviz as az\n",
    "import numpyro\n",
    "\n",
    "from hbmep.config import Config\n",
    "from hbmep.model.utils import Site as site\n",
    "\n",
    "PLATFORM = \"cpu\"\n",
    "jax.config.update(\"jax_platforms\", PLATFORM)\n",
    "numpyro.set_platform(PLATFORM)\n",
    "\n",
    "cpu_count = multiprocessing.cpu_count() - 2\n",
    "numpyro.set_host_device_count(cpu_count)\n",
    "numpyro.enable_x64()\n",
    "numpyro.enable_validation()\n",
    "\n",
    "logger = logging.getLogger(__name__)\n"
   ]
  },
  {
   "cell_type": "code",
   "execution_count": 2,
   "metadata": {},
   "outputs": [],
   "source": [
    "import numpyro.distributions as dist\n",
    "from hbmep.model import BaseModel\n",
    "\n",
    "\n",
    "class MixedEffects(BaseModel):\n",
    "    LINK = \"mixed_effects\"\n",
    "\n",
    "    def __init__(self, config: Config):\n",
    "        super(MixedEffects, self).__init__(config=config)\n",
    "        self.combination_columns = self.features + [self.subject]\n",
    "\n",
    "    def fn(self, x, a, b, v, L, ell, H):\n",
    "        return (\n",
    "            L\n",
    "            + jnp.where(\n",
    "                jnp.less(x, a),\n",
    "                0.,\n",
    "                -ell + jnp.true_divide(\n",
    "                    H + ell,\n",
    "                    jnp.power(\n",
    "                        1\n",
    "                        + jnp.multiply(\n",
    "                            -1\n",
    "                            + jnp.power(\n",
    "                                jnp.true_divide(H + ell, ell),\n",
    "                                v\n",
    "                            ),\n",
    "                            jnp.exp(jnp.multiply(-b, x - a))\n",
    "                        ),\n",
    "                        jnp.true_divide(1, v)\n",
    "                    )\n",
    "                )\n",
    "            )\n",
    "        )\n",
    "\n",
    "    def _model(self, subject, features, intensity, response_obs=None):\n",
    "        subject, n_subject = subject\n",
    "        features, n_features = features\n",
    "        intensity, n_data = intensity\n",
    "\n",
    "        intensity = intensity.reshape(-1, 1)\n",
    "        intensity = np.tile(intensity, (1, self.n_response))\n",
    "\n",
    "        feature0 = features[0].reshape(-1,)\n",
    "        n_feature0 = n_features[0]\n",
    "\n",
    "        n_baseline = 1\n",
    "        n_delta = n_feature0 - 1\n",
    "\n",
    "        \"\"\" Fixed Effects (Baseline) \"\"\"\n",
    "        with numpyro.plate(site.n_response, self.n_response):\n",
    "            with numpyro.plate(\"n_baseline\", n_baseline):\n",
    "                a_fixed_mean = numpyro.sample(\"a_fixed_mean\", dist.TruncatedNormal(5, 10, low=0))\n",
    "                a_fixed_scale = numpyro.sample(\"a_fixed_scale\", dist.HalfNormal(10.0))\n",
    "\n",
    "                with numpyro.plate(site.n_subject, n_subject):\n",
    "                    a_fixed = numpyro.sample(\n",
    "                        \"a_fixed\", dist.TruncatedNormal(a_fixed_mean, a_fixed_scale, low=0)\n",
    "                    )\n",
    "\n",
    "        \"\"\" Random Effects (Delta) \"\"\"\n",
    "        with numpyro.plate(site.n_response, self.n_response):\n",
    "            with numpyro.plate(\"n_delta\", n_delta):\n",
    "                a_random_mean = numpyro.sample(\"a_random_mean\", dist.Normal(0, 10))\n",
    "                a_random_scale = numpyro.sample(\"a_random_scale\", dist.HalfNormal(10.0))\n",
    "\n",
    "                with numpyro.plate(site.n_subject, n_subject):\n",
    "                    a_random = numpyro.sample(\"a_random\", dist.Normal(a_random_mean, a_random_scale))\n",
    "\n",
    "                    \"\"\" Penalty \"\"\"\n",
    "                    penalty_for_negative_a = (jnp.fabs(a_fixed + a_random) - (a_fixed + a_random))\n",
    "                    numpyro.factor(\"penalty_for_negative_a\", -penalty_for_negative_a)\n",
    "\n",
    "        with numpyro.plate(site.n_response, self.n_response):\n",
    "            \"\"\" Global Priors \"\"\"\n",
    "            b_scale_global_scale = numpyro.sample(\"b_scale_global_scale\", dist.HalfNormal(100))\n",
    "            v_scale_global_scale = numpyro.sample(\"v_scale_global_scale\", dist.HalfNormal(100))\n",
    "\n",
    "            L_scale_global_scale = numpyro.sample(\"L_scale_global_scale\", dist.HalfNormal(2))\n",
    "            ell_scale_global_scale = numpyro.sample(\"ell_scale_global_scale\", dist.HalfNormal(100))\n",
    "            H_scale_global_scale = numpyro.sample(\"H_scale_global_scale\", dist.HalfNormal(10))\n",
    "\n",
    "            g_1_scale_global_scale = numpyro.sample(\"g_1_scale_global_scale\", dist.HalfNormal(100))\n",
    "            g_2_scale_global_scale = numpyro.sample(\"g_2_scale_global_scale\", dist.HalfNormal(100))\n",
    "\n",
    "            with numpyro.plate(\"n_feature0\", n_feature0):\n",
    "                \"\"\" Hyper-priors \"\"\"\n",
    "                b_scale_raw = numpyro.sample(\"b_scale_raw\", dist.HalfNormal(scale=1))\n",
    "                b_scale = numpyro.deterministic(\"b_scale\", jnp.multiply(b_scale_global_scale, b_scale_raw))\n",
    "\n",
    "                v_scale_raw = numpyro.sample(\"v_scale_raw\", dist.HalfNormal(scale=1))\n",
    "                v_scale = numpyro.deterministic(\"v_scale\", jnp.multiply(v_scale_global_scale, v_scale_raw))\n",
    "\n",
    "                L_scale_raw = numpyro.sample(\"L_scale_raw\", dist.HalfNormal(scale=1))\n",
    "                L_scale = numpyro.deterministic(\"L_scale\", jnp.multiply(L_scale_global_scale, L_scale_raw))\n",
    "\n",
    "                ell_scale_raw = numpyro.sample(\"ell_scale_raw\", dist.HalfNormal(scale=1))\n",
    "                ell_scale = numpyro.deterministic(\"sigma_ell\", jnp.multiply(ell_scale_global_scale, ell_scale_raw))\n",
    "\n",
    "                H_scale_raw = numpyro.sample(\"H_scale_raw\", dist.HalfNormal(scale=1))\n",
    "                H_scale = numpyro.deterministic(\"H_scale\", jnp.multiply(H_scale_global_scale, H_scale_raw))\n",
    "\n",
    "                g_1_scale_raw = numpyro.sample(\"g_1_scale_raw\", dist.HalfNormal(scale=1))\n",
    "                g_1_scale = numpyro.deterministic(\"g_1_scale\", jnp.multiply(g_1_scale_global_scale, g_1_scale_raw))\n",
    "\n",
    "                g_2_scale_raw = numpyro.sample(\"g_2_scale_raw\", dist.HalfNormal(scale=1))\n",
    "                g_2_scale = numpyro.deterministic(\"g_2_scale\", jnp.multiply(g_2_scale_global_scale, g_2_scale_raw))\n",
    "\n",
    "                with numpyro.plate(site.n_subject, n_subject):\n",
    "                    \"\"\" Priors \"\"\"\n",
    "                    a = numpyro.deterministic(\n",
    "                        site.a,\n",
    "                        jnp.concatenate([a_fixed, a_fixed + a_random], axis=1)\n",
    "                    )\n",
    "\n",
    "                    b_raw = numpyro.sample(\"b_raw\", dist.HalfNormal(scale=1))\n",
    "                    b = numpyro.deterministic(site.b, jnp.multiply(b_scale, b_raw))\n",
    "\n",
    "                    v_raw = numpyro.sample(\"v_raw\", dist.HalfNormal(scale=1))\n",
    "                    v = numpyro.deterministic(site.v, jnp.multiply(v_scale, v_raw))\n",
    "\n",
    "                    L_raw = numpyro.sample(\"L_raw\", dist.HalfNormal(scale=1))\n",
    "                    L = numpyro.deterministic(site.L, jnp.multiply(L_scale, L_raw))\n",
    "\n",
    "                    ell_raw = numpyro.sample(\"ell_raw\", dist.HalfNormal(scale=1))\n",
    "                    ell = numpyro.deterministic(\"ell\", jnp.multiply(ell_scale, ell_raw))\n",
    "\n",
    "                    H_raw = numpyro.sample(\"H_raw\", dist.HalfNormal(scale=1))\n",
    "                    H = numpyro.deterministic(site.H, jnp.multiply(H_scale, H_raw))\n",
    "\n",
    "                    g_1_raw = numpyro.sample(\"g_1_raw\", dist.HalfCauchy(scale=1))\n",
    "                    g_1 = numpyro.deterministic(site.g_1, jnp.multiply(g_1_scale, g_1_raw))\n",
    "\n",
    "                    g_2_raw = numpyro.sample(\"g_2_raw\", dist.HalfCauchy(scale=1))\n",
    "                    g_2 = numpyro.deterministic(site.g_2, jnp.multiply(g_2_scale, g_2_raw))\n",
    "\n",
    "        \"\"\" Outlier Distribution \"\"\"\n",
    "        outlier_prob = numpyro.sample(\"outlier_prob\", dist.Uniform(0., .05))\n",
    "        outlier_scale = numpyro.sample(\"outlier_scale\", dist.HalfNormal(30))\n",
    "\n",
    "        with numpyro.plate(site.n_response, self.n_response):\n",
    "            with numpyro.plate(site.n_data, n_data):\n",
    "                \"\"\" Model \"\"\"\n",
    "                mu = numpyro.deterministic(\n",
    "                    site.mu,\n",
    "                    self.fn(\n",
    "                        x=intensity,\n",
    "                        a=a[subject, feature0],\n",
    "                        b=b[subject, feature0],\n",
    "                        v=v[subject, feature0],\n",
    "                        L=L[subject, feature0],\n",
    "                        ell=ell[subject, feature0],\n",
    "                        H=H[subject, feature0]\n",
    "                    )\n",
    "                )\n",
    "                beta = numpyro.deterministic(\n",
    "                    site.beta,\n",
    "                    g_1[subject, feature0] + jnp.true_divide(g_2[subject, feature0], mu)\n",
    "                )\n",
    "\n",
    "                q = numpyro.deterministic(\"q\", outlier_prob * jnp.ones((n_data, self.n_response)))\n",
    "                bg_scale = numpyro.deterministic(\"bg_scale\", outlier_scale * jnp.ones((n_data, self.n_response)))\n",
    "\n",
    "                mixing_distribution = dist.Categorical(\n",
    "                    probs=jnp.stack([1 - q, q], axis=-1)\n",
    "                )\n",
    "                component_distributions=[\n",
    "                    dist.Gamma(concentration=jnp.multiply(mu, beta), rate=beta),\n",
    "                    dist.HalfNormal(scale=bg_scale)\n",
    "                ]\n",
    "\n",
    "                \"\"\" Mixture \"\"\"\n",
    "                Mixture = dist.MixtureGeneral(\n",
    "                    mixing_distribution=mixing_distribution,\n",
    "                    component_distributions=component_distributions\n",
    "                )\n",
    "\n",
    "                \"\"\" Observation \"\"\"\n",
    "                numpyro.sample(\n",
    "                    site.obs,\n",
    "                    Mixture,\n",
    "                    obs=response_obs\n",
    "                )\n"
   ]
  },
  {
   "cell_type": "code",
   "execution_count": 3,
   "metadata": {},
   "outputs": [
    {
     "name": "stderr",
     "output_type": "stream",
     "text": [
      "2023-11-20 14:22:31,517 - hbmep.config - INFO - Verifying configuration ...\n",
      "2023-11-20 14:22:31,518 - hbmep.config - INFO - Success!\n",
      "2023-11-20 14:22:31,538 - hbmep.model.baseline - INFO - Initialized base_model\n"
     ]
    }
   ],
   "source": [
    "toml_path = \"/home/vishu/repos/hbmep-paper/configs/paper/intraoperative/config.toml\"\n",
    "\n",
    "config = Config(toml_path=toml_path)\n",
    "config.BUILD_DIR = os.path.join(config.BUILD_DIR, \"midline-lateral\", \"all-muscles\", \"no-mix\")\n",
    "config.RESPONSE = [\"Triceps\", \"APB\", \"ADM\"]\n",
    "\n",
    "config.MCMC_PARAMS[\"num_warmup\"] = 1000\n",
    "config.MCMC_PARAMS[\"num_samples\"] = 5000\n",
    "\n",
    "model = MixedEffects(config=config)\n"
   ]
  },
  {
   "cell_type": "code",
   "execution_count": 4,
   "metadata": {},
   "outputs": [
    {
     "name": "stderr",
     "output_type": "stream",
     "text": [
      "2023-11-20 14:22:31,608 - hbmep.dataset.core - INFO - Artefacts will be stored here - /home/vishu/repos/hbmep-paper/reports/paper/intraoperative/midline-lateral/all-muscles/no-mix\n",
      "2023-11-20 14:22:31,609 - hbmep.dataset.core - INFO - Copied config to /home/vishu/repos/hbmep-paper/reports/paper/intraoperative/midline-lateral/all-muscles/no-mix\n",
      "2023-11-20 14:22:31,610 - hbmep.dataset.core - INFO - Processing data ...\n",
      "2023-11-20 14:22:31,611 - hbmep.utils.utils - INFO - func:load took: 0.00 sec\n"
     ]
    }
   ],
   "source": [
    "src = \"/home/vishu/data/hbmep-processed/human/intraoperative/data.csv\"\n",
    "df = pd.read_csv(src)\n",
    "\n",
    "df[model.features[0]] = df[model.features[0]].replace({\"L\": \"01_L\", \"M\": \"02_M\"})\n",
    "\n",
    "ind = ~df[model.response].isna().values.any(axis=-1)\n",
    "df = df[ind].reset_index(drop=True).copy()\n",
    "\n",
    "df, encoder_dict = model.load(df=df)\n"
   ]
  },
  {
   "cell_type": "code",
   "execution_count": 5,
   "metadata": {},
   "outputs": [
    {
     "data": {
      "text/plain": [
       "array(['01_L', '02_M'], dtype=object)"
      ]
     },
     "execution_count": 5,
     "metadata": {},
     "output_type": "execute_result"
    }
   ],
   "source": [
    "encoder_dict[model.features[0]].inverse_transform([0, 1])"
   ]
  },
  {
   "cell_type": "code",
   "execution_count": 6,
   "metadata": {},
   "outputs": [
    {
     "name": "stderr",
     "output_type": "stream",
     "text": [
      "2023-11-20 14:22:31,990 - hbmep.model.baseline - INFO - Running inference with base_model ...\n"
     ]
    },
    {
     "data": {
      "application/vnd.jupyter.widget-view+json": {
       "model_id": "afc419b2a5cf45e6b0e50ef4300e88c1",
       "version_major": 2,
       "version_minor": 0
      },
      "text/plain": [
       "  0%|          | 0/6000 [00:00<?, ?it/s]"
      ]
     },
     "metadata": {},
     "output_type": "display_data"
    },
    {
     "data": {
      "application/vnd.jupyter.widget-view+json": {
       "model_id": "afefcedf848b4eaaa75679bfce85f363",
       "version_major": 2,
       "version_minor": 0
      },
      "text/plain": [
       "  0%|          | 0/6000 [00:00<?, ?it/s]"
      ]
     },
     "metadata": {},
     "output_type": "display_data"
    },
    {
     "data": {
      "application/vnd.jupyter.widget-view+json": {
       "model_id": "a0371bd091f4428aa0b2689131110e60",
       "version_major": 2,
       "version_minor": 0
      },
      "text/plain": [
       "  0%|          | 0/6000 [00:00<?, ?it/s]"
      ]
     },
     "metadata": {},
     "output_type": "display_data"
    },
    {
     "data": {
      "application/vnd.jupyter.widget-view+json": {
       "model_id": "fdd9fe2b99c8407199c96c296f1dc1dd",
       "version_major": 2,
       "version_minor": 0
      },
      "text/plain": [
       "  0%|          | 0/6000 [00:00<?, ?it/s]"
      ]
     },
     "metadata": {},
     "output_type": "display_data"
    }
   ],
   "source": [
    "mcmc, posterior_samples = model.run_inference(df=df)\n"
   ]
  },
  {
   "cell_type": "code",
   "execution_count": null,
   "metadata": {},
   "outputs": [
    {
     "name": "stderr",
     "output_type": "stream",
     "text": [
      "2023-11-20 13:54:09,650 - hbmep.utils.utils - INFO - func:make_prediction_dataset took: 0.00 sec\n"
     ]
    },
    {
     "name": "stderr",
     "output_type": "stream",
     "text": [
      "2023-11-20 13:55:06,555 - hbmep.utils.utils - INFO - func:predict took: 56.90 sec\n",
      "2023-11-20 13:55:06,555 - hbmep.model.baseline - INFO - Rendering recruitment curves ...\n",
      "2023-11-20 13:55:26,234 - hbmep.model.baseline - INFO - Saved to /home/vishu/repos/hbmep-paper/reports/paper/intraoperative/midline-lateral/all-muscles/no-mix/recruitment_curves.pdf\n",
      "2023-11-20 13:55:26,235 - hbmep.utils.utils - INFO - func:render_recruitment_curves took: 19.68 sec\n",
      "2023-11-20 13:55:26,235 - hbmep.model.baseline - INFO - Rendering posterior predictive checks ...\n",
      "2023-11-20 13:56:03,547 - hbmep.model.baseline - INFO - Saved to /home/vishu/repos/hbmep-paper/reports/paper/intraoperative/midline-lateral/all-muscles/no-mix/posterior_predictive_check.pdf\n",
      "2023-11-20 13:56:03,548 - hbmep.utils.utils - INFO - func:predictive_checks_renderer took: 37.31 sec\n",
      "2023-11-20 13:56:03,548 - hbmep.utils.utils - INFO - func:render_predictive_check took: 37.31 sec\n"
     ]
    }
   ],
   "source": [
    "_posterior_samples = posterior_samples.copy()\n",
    "# _posterior_samples[\"outlier_prob\"] = _posterior_samples[\"outlier_prob\"] * 0\n",
    "\n",
    "prediction_df = model.make_prediction_dataset(df=df)\n",
    "posterior_predictive = model.predict(df=prediction_df, posterior_samples=_posterior_samples)\n",
    "\n",
    "model.render_recruitment_curves(df=df, encoder_dict=encoder_dict, posterior_samples=_posterior_samples, prediction_df=prediction_df, posterior_predictive=posterior_predictive)\n",
    "model.render_predictive_check(df=df, encoder_dict=encoder_dict, prediction_df=prediction_df, posterior_predictive=posterior_predictive)\n"
   ]
  },
  {
   "cell_type": "code",
   "execution_count": null,
   "metadata": {},
   "outputs": [
    {
     "data": {
      "text/plain": [
       "(20000, 1, 3)"
      ]
     },
     "execution_count": 10,
     "metadata": {},
     "output_type": "execute_result"
    }
   ],
   "source": [
    "a_random_mean = posterior_samples[\"a_random_mean\"]\n",
    "a_random_mean.shape\n"
   ]
  },
  {
   "cell_type": "code",
   "execution_count": 13,
   "metadata": {},
   "outputs": [
    {
     "data": {
      "text/plain": [
       "Text(0.5, 1.0, '0.9959')"
      ]
     },
     "execution_count": 13,
     "metadata": {},
     "output_type": "execute_result"
    },
    {
     "data": {
      "image/png": "[encoded data removed]",
      "text/plain": [
       "<Figure size 640x480 with 1 Axes>"
      ]
     },
     "metadata": {},
     "output_type": "display_data"
    }
   ],
   "source": [
    "import seaborn as sns\n",
    "import matplotlib.pyplot as plt\n",
    "\n",
    "muscle_ind = 1\n",
    "a_random_mean = posterior_samples[\"a_random_mean\"]\n",
    "\n",
    "samples = a_random_mean[:, 0, muscle_ind]\n",
    "sns.kdeplot(samples)\n",
    "plt.title((samples > 0).mean())\n"
   ]
  },
  {
   "cell_type": "code",
   "execution_count": 8,
   "metadata": {},
   "outputs": [
    {
     "data": {
      "text/plain": [
       "Text(0.5, 1.0, '0.9995')"
      ]
     },
     "execution_count": 8,
     "metadata": {},
     "output_type": "execute_result"
    },
    {
     "data": {
      "image/png": "[encoded data removed]",
      "text/plain": [
       "<Figure size 640x480 with 1 Axes>"
      ]
     },
     "metadata": {},
     "output_type": "display_data"
    }
   ],
   "source": [
    "import seaborn as sns\n",
    "import matplotlib.pyplot as plt\n",
    "\n",
    "\n",
    "a_random_mean = posterior_samples[\"a_random_mean\"].reshape(-1,)\n",
    "\n",
    "sns.kdeplot(a_random_mean)\n",
    "plt.title((a_random_mean > 0).mean())\n"
   ]
  },
  {
   "cell_type": "code",
   "execution_count": 9,
   "metadata": {},
   "outputs": [
    {
     "data": {
      "text/plain": [
       "Text(0.5, 1.0, '0.99925')"
      ]
     },
     "execution_count": 9,
     "metadata": {},
     "output_type": "execute_result"
    },
    {
     "data": {
      "image/png": "[encoded data removed]",
      "text/plain": [
       "<Figure size 640x480 with 1 Axes>"
      ]
     },
     "metadata": {},
     "output_type": "display_data"
    }
   ],
   "source": [
    "import seaborn as sns\n",
    "import matplotlib.pyplot as plt\n",
    "\n",
    "\n",
    "a_random_mean = posterior_samples[\"a_random_mean\"].reshape(-1,)\n",
    "\n",
    "sns.kdeplot(a_random_mean)\n",
    "plt.title((a_random_mean > 0).mean())\n"
   ]
  },
  {
   "cell_type": "code",
   "execution_count": 14,
   "metadata": {},
   "outputs": [
    {
     "name": "stderr",
     "output_type": "stream",
     "text": [
      "2023-11-20 14:01:23,335 - __main__ - INFO - Evaluating model ...\n",
      "/home/vishu/repos/hbmep-paper/.venv/lib/python3.11/site-packages/arviz/stats/stats.py:1037: RuntimeWarning: overflow encountered in exp\n",
      "  weights = 1 / np.exp(len_scale - len_scale[:, None]).sum(axis=1)\n",
      "/home/vishu/repos/hbmep-paper/.venv/lib/python3.11/site-packages/numpy/core/_methods.py:49: RuntimeWarning: overflow encountered in reduce\n",
      "  return umr_sum(a, axis, dtype, out, keepdims, initial, where)\n",
      "/home/vishu/repos/hbmep-paper/.venv/lib/python3.11/site-packages/arviz/stats/stats.py:803: UserWarning: Estimated shape parameter of Pareto distribution is greater than 0.7 for one or more samples. You should consider using a more robust model, this is because importance sampling is less likely to work well if the marginal posterior and LOO posterior are very different. This is more likely to happen with a non-robust model and highly influential observations.\n",
      "  warnings.warn(\n",
      "2023-11-20 14:02:03,007 - __main__ - INFO - ELPD LOO (Log): 4971.23\n",
      "/home/vishu/repos/hbmep-paper/.venv/lib/python3.11/site-packages/arviz/stats/stats.py:1645: UserWarning: For one or more samples the posterior variance of the log predictive densities exceeds 0.4. This could be indication of WAIC starting to fail. \n",
      "See http://arxiv.org/abs/1507.04544 for details\n",
      "  warnings.warn(\n",
      "2023-11-20 14:02:03,989 - __main__ - INFO - ELPD WAIC (Log): 5002.07\n"
     ]
    }
   ],
   "source": [
    "numpyro_data = az.from_numpyro(mcmc)\n",
    "\n",
    "\"\"\" Model evaluation \"\"\"\n",
    "logger.info(\"Evaluating model ...\")\n",
    "\n",
    "score = az.loo(numpyro_data, var_name=site.obs)\n",
    "logger.info(f\"ELPD LOO (Log): {score.elpd_loo:.2f}\")\n",
    "\n",
    "score = az.waic(numpyro_data, var_name=site.obs)\n",
    "logger.info(f\"ELPD WAIC (Log): {score.elpd_waic:.2f}\")\n"
   ]
  },
  {
   "cell_type": "code",
   "execution_count": 11,
   "metadata": {},
   "outputs": [],
   "source": [
    "import pickle\n",
    "\n",
    "dest = os.path.join(model.build_dir, \"inference.pkl\")\n",
    "with open(dest, \"wb\") as f:\n",
    "    pickle.dump((model, mcmc, posterior_samples), f)\n"
   ]
  },
  {
   "cell_type": "code",
   "execution_count": 14,
   "metadata": {},
   "outputs": [
    {
     "data": {
      "text/plain": [
       "'/home/vishu/repos/hbmep-paper/reports/paper/intraoperative/midline-lateral/inference.pkl'"
      ]
     },
     "execution_count": 14,
     "metadata": {},
     "output_type": "execute_result"
    }
   ],
   "source": [
    "os.path.join(model.build_dir, \"inference.pkl\")"
   ]
  },
  {
   "cell_type": "code",
   "execution_count": 12,
   "metadata": {},
   "outputs": [
    {
     "data": {
      "text/plain": [
       "'/home/vishu/repos/hbmep-paper/reports/paper/intraoperative/midline-lateral/inference.nc'"
      ]
     },
     "execution_count": 12,
     "metadata": {},
     "output_type": "execute_result"
    }
   ],
   "source": [
    "dest = os.path.join(model.build_dir, \"inference.nc\")\n",
    "az.to_netcdf(mcmc, dest)\n"
   ]
  },
  {
   "cell_type": "code",
   "execution_count": null,
   "metadata": {},
   "outputs": [],
   "source": []
  }
 ],
 "metadata": {
  "kernelspec": {
   "display_name": "Python 3 (ipykernel)",
   "language": "python",
   "name": "python3"
  },
  "language_info": {
   "codemirror_mode": {
    "name": "ipython",
    "version": 3
   },
   "file_extension": ".py",
   "mimetype": "text/x-python",
   "name": "python",
   "nbconvert_exporter": "python",
   "pygments_lexer": "ipython3",
   "version": "3.11.4"
  }
 },
 "nbformat": 4,
 "nbformat_minor": 2
}
