{
 "cells": [
  {
   "cell_type": "code",
   "execution_count": 1,
   "metadata": {},
   "outputs": [],
   "source": [
    "%reload_ext autoreload\n",
    "%autoreload 2\n",
    "\n",
    "import os\n",
    "import pickle\n",
    "import logging\n",
    "import multiprocessing\n",
    "from pathlib import Path\n",
    "\n",
    "import pandas as pd\n",
    "import numpy as np\n",
    "import jax\n",
    "import jax.numpy as jnp\n",
    "\n",
    "import arviz as az\n",
    "import numpyro\n",
    "\n",
    "from hbmep.config import Config\n",
    "from hbmep.model.utils import Site as site\n",
    "\n",
    "from hbmep_paper.utils import load_intraoperative_data\n",
    "\n",
    "\n",
    "PLATFORM = \"cpu\"\n",
    "jax.config.update(\"jax_platforms\", PLATFORM)\n",
    "numpyro.set_platform(PLATFORM)\n",
    "\n",
    "cpu_count = multiprocessing.cpu_count() - 2\n",
    "numpyro.set_host_device_count(cpu_count)\n",
    "numpyro.enable_x64()\n",
    "numpyro.enable_validation()\n",
    "\n",
    "logger = logging.getLogger(__name__)\n"
   ]
  },
  {
   "cell_type": "code",
   "execution_count": 2,
   "metadata": {},
   "outputs": [],
   "source": [
    "import numpyro.distributions as dist\n",
    "from hbmep.model import BaseModel\n",
    "\n",
    "\n",
    "class MixedEffects(BaseModel):\n",
    "    LINK = \"mixed_effects\"\n",
    "\n",
    "    def __init__(self, config: Config):\n",
    "        super(MixedEffects, self).__init__(config=config)\n",
    "        self.combination_columns =  self.features[::-1] + [self.subject]\n",
    "\n",
    "    def fn(self, x, a, b, v, L, ell, H):\n",
    "        return (\n",
    "            L\n",
    "            + jnp.where(\n",
    "                jnp.less(x, a),\n",
    "                0.,\n",
    "                -ell + jnp.true_divide(\n",
    "                    H + ell,\n",
    "                    jnp.power(\n",
    "                        1\n",
    "                        + jnp.multiply(\n",
    "                            -1\n",
    "                            + jnp.power(\n",
    "                                jnp.true_divide(H + ell, ell),\n",
    "                                v\n",
    "                            ),\n",
    "                            jnp.exp(jnp.multiply(-b, x - a))\n",
    "                        ),\n",
    "                        jnp.true_divide(1, v)\n",
    "                    )\n",
    "                )\n",
    "            )\n",
    "        )\n",
    "\n",
    "    def _model(self, subject, features, intensity, response_obs=None):\n",
    "        subject, n_subject = subject\n",
    "        features, n_features = features\n",
    "        intensity, n_data = intensity\n",
    "\n",
    "        intensity = intensity.reshape(-1, 1)\n",
    "        intensity = np.tile(intensity, (1, self.n_response))\n",
    "\n",
    "        feature0 = features[0].reshape(-1,)\n",
    "        n_feature0 = n_features[0]\n",
    "\n",
    "        feature1 = features[1].reshape(-1,)\n",
    "        n_feature1 = n_features[1]\n",
    "\n",
    "        with numpyro.plate(site.n_response, self.n_response):\n",
    "            \"\"\" Global Priors \"\"\"\n",
    "            b_scale_global_scale = numpyro.sample(\"b_scale_global_scale\", dist.HalfNormal(1))\n",
    "            v_scale_global_scale = numpyro.sample(\"v_scale_global_scale\", dist.HalfNormal(1))\n",
    "\n",
    "            L_scale_global_scale = numpyro.sample(\"L_scale_global_scale\", dist.HalfNormal(.5))\n",
    "            ell_scale_global_scale = numpyro.sample(\"ell_scale_global_scale\", dist.HalfNormal(100))\n",
    "            H_scale_global_scale = numpyro.sample(\"H_scale_global_scale\", dist.HalfNormal(5))\n",
    "\n",
    "            g_1_scale_global_scale = numpyro.sample(\"g_1_scale_global_scale\", dist.HalfNormal(100))\n",
    "            g_2_scale_global_scale = numpyro.sample(\"g_2_scale_global_scale\", dist.HalfNormal(100))\n",
    "\n",
    "            with numpyro.plate(\"n_feature1\", n_feature1):\n",
    "                with numpyro.plate(\"n_feature0\", n_feature0):\n",
    "                    \"\"\" Hyper-priors \"\"\"\n",
    "                    a_mean = numpyro.sample(\"a_mean\", dist.TruncatedNormal(5, 10, low=0))\n",
    "                    a_scale = numpyro.sample(\"a_scale\", dist.HalfNormal(10.0))\n",
    "\n",
    "                    b_scale_raw = numpyro.sample(\"b_scale_raw\", dist.HalfNormal(scale=1))\n",
    "                    b_scale = numpyro.deterministic(\"b_scale\", jnp.multiply(b_scale_global_scale, b_scale_raw))\n",
    "\n",
    "                    v_scale_raw = numpyro.sample(\"v_scale_raw\", dist.HalfNormal(scale=1))\n",
    "                    v_scale = numpyro.deterministic(\"v_scale\", jnp.multiply(v_scale_global_scale, v_scale_raw))\n",
    "\n",
    "                    L_scale_raw = numpyro.sample(\"L_scale_raw\", dist.HalfNormal(scale=1))\n",
    "                    L_scale = numpyro.deterministic(\"L_scale\", jnp.multiply(L_scale_global_scale, L_scale_raw))\n",
    "\n",
    "                    ell_scale_raw = numpyro.sample(\"ell_scale_raw\", dist.HalfNormal(scale=1))\n",
    "                    ell_scale = numpyro.deterministic(\"sigma_ell\", jnp.multiply(ell_scale_global_scale, ell_scale_raw))\n",
    "\n",
    "                    H_scale_raw = numpyro.sample(\"H_scale_raw\", dist.HalfNormal(scale=1))\n",
    "                    H_scale = numpyro.deterministic(\"H_scale\", jnp.multiply(H_scale_global_scale, H_scale_raw))\n",
    "\n",
    "                    g_1_scale_raw = numpyro.sample(\"g_1_scale_raw\", dist.HalfNormal(scale=1))\n",
    "                    g_1_scale = numpyro.deterministic(\"g_1_scale\", jnp.multiply(g_1_scale_global_scale, g_1_scale_raw))\n",
    "\n",
    "                    g_2_scale_raw = numpyro.sample(\"g_2_scale_raw\", dist.HalfNormal(scale=1))\n",
    "                    g_2_scale = numpyro.deterministic(\"g_2_scale\", jnp.multiply(g_2_scale_global_scale, g_2_scale_raw))\n",
    "\n",
    "                    with numpyro.plate(site.n_subject, n_subject):\n",
    "                        \"\"\" Priors \"\"\"\n",
    "                        a = numpyro.sample(\"a\", dist.TruncatedNormal(a_mean, a_scale, low=0))\n",
    "\n",
    "                        b_raw = numpyro.sample(\"b_raw\", dist.HalfNormal(scale=1))\n",
    "                        b = numpyro.deterministic(site.b, jnp.multiply(b_scale, b_raw))\n",
    "\n",
    "                        v_raw = numpyro.sample(\"v_raw\", dist.HalfNormal(scale=1))\n",
    "                        v = numpyro.deterministic(site.v, jnp.multiply(v_scale, v_raw))\n",
    "\n",
    "                        L_raw = numpyro.sample(\"L_raw\", dist.HalfNormal(scale=1))\n",
    "                        L = numpyro.deterministic(site.L, jnp.multiply(L_scale, L_raw))\n",
    "\n",
    "                        ell_raw = numpyro.sample(\"ell_raw\", dist.HalfNormal(scale=1))\n",
    "                        ell = numpyro.deterministic(\"ell\", jnp.multiply(ell_scale, ell_raw))\n",
    "\n",
    "                        H_raw = numpyro.sample(\"H_raw\", dist.HalfNormal(scale=1))\n",
    "                        H = numpyro.deterministic(site.H, jnp.multiply(H_scale, H_raw))\n",
    "\n",
    "                        g_1_raw = numpyro.sample(\"g_1_raw\", dist.HalfCauchy(scale=1))\n",
    "                        g_1 = numpyro.deterministic(site.g_1, jnp.multiply(g_1_scale, g_1_raw))\n",
    "\n",
    "                        g_2_raw = numpyro.sample(\"g_2_raw\", dist.HalfCauchy(scale=1))\n",
    "                        g_2 = numpyro.deterministic(site.g_2, jnp.multiply(g_2_scale, g_2_raw))\n",
    "\n",
    "        \"\"\" Outlier Distribution \"\"\"\n",
    "        outlier_prob = numpyro.sample(\"outlier_prob\", dist.Uniform(0., .001))\n",
    "        outlier_scale = numpyro.sample(\"outlier_scale\", dist.HalfNormal(20))\n",
    "\n",
    "        with numpyro.plate(site.n_response, self.n_response):\n",
    "            with numpyro.plate(site.n_data, n_data):\n",
    "                \"\"\" Model \"\"\"\n",
    "                mu = numpyro.deterministic(\n",
    "                    site.mu,\n",
    "                    self.fn(\n",
    "                        x=intensity,\n",
    "                        a=a[subject, feature0, feature1],\n",
    "                        b=b[subject, feature0, feature1],\n",
    "                        v=v[subject, feature0, feature1],\n",
    "                        L=L[subject, feature0, feature1],\n",
    "                        ell=ell[subject, feature0, feature1],\n",
    "                        H=H[subject, feature0, feature1]\n",
    "                    )\n",
    "                )\n",
    "                beta = numpyro.deterministic(\n",
    "                    site.beta,\n",
    "                    g_1[subject, feature0, feature1] + jnp.true_divide(g_2[subject, feature0, feature1], mu)\n",
    "                )\n",
    "\n",
    "                q = numpyro.deterministic(\"q\", outlier_prob * jnp.ones((n_data, self.n_response)))\n",
    "                bg_scale = numpyro.deterministic(\"bg_scale\", outlier_scale * jnp.ones((n_data, self.n_response)))\n",
    "\n",
    "                mixing_distribution = dist.Categorical(\n",
    "                    probs=jnp.stack([1 - q, q], axis=-1)\n",
    "                )\n",
    "                component_distributions=[\n",
    "                    dist.Gamma(concentration=jnp.multiply(mu, beta), rate=beta),\n",
    "                    dist.HalfNormal(scale=bg_scale)\n",
    "                ]\n",
    "\n",
    "                \"\"\" Mixture \"\"\"\n",
    "                Mixture = dist.MixtureGeneral(\n",
    "                    mixing_distribution=mixing_distribution,\n",
    "                    component_distributions=component_distributions\n",
    "                )\n",
    "\n",
    "                \"\"\" Observation \"\"\"\n",
    "                numpyro.sample(\n",
    "                    site.obs,\n",
    "                    Mixture,\n",
    "                    obs=response_obs\n",
    "                )\n"
   ]
  },
  {
   "cell_type": "code",
   "execution_count": 3,
   "metadata": {},
   "outputs": [
    {
     "name": "stderr",
     "output_type": "stream",
     "text": [
      "2023-11-20 15:52:05,631 - hbmep.config - INFO - Verifying configuration ...\n",
      "2023-11-20 15:52:05,632 - hbmep.config - INFO - Success!\n",
      "2023-11-20 15:52:05,654 - hbmep.model.baseline - INFO - Initialized base_model\n"
     ]
    }
   ],
   "source": [
    "toml_path = \"/home/vishu/repos/hbmep-paper/configs/paper/intraoperative/config.toml\"\n",
    "\n",
    "config = Config(toml_path=toml_path)\n",
    "config.BUILD_DIR = os.path.join(config.BUILD_DIR, \"subdural-epidural\", \"adm\")\n",
    "config.FEATURES = [\"sc_depth\", \"sc_laterality\"]\n",
    "# config.RESPONSE = [\"Triceps\", \"APB\", \"ADM\"]\n",
    "config.RESPONSE = [\"ADM\"]\n",
    "\n",
    "\n",
    "config.MCMC_PARAMS[\"num_warmup\"] = 3000\n",
    "config.MCMC_PARAMS[\"num_samples\"] = 1000\n",
    "\n",
    "model = MixedEffects(config=config)\n"
   ]
  },
  {
   "cell_type": "code",
   "execution_count": 4,
   "metadata": {},
   "outputs": [
    {
     "name": "stderr",
     "output_type": "stream",
     "text": [
      "2023-11-20 15:52:05,884 - hbmep.utils.utils - INFO - func:load_intraoperative_data took: 0.04 sec\n",
      "2023-11-20 15:52:05,885 - hbmep.dataset.core - INFO - Artefacts will be stored here - /home/vishu/repos/hbmep-paper/reports/paper/intraoperative/subdural-epidural/adm\n",
      "2023-11-20 15:52:05,886 - hbmep.dataset.core - INFO - Copied config to /home/vishu/repos/hbmep-paper/reports/paper/intraoperative/subdural-epidural/adm\n",
      "2023-11-20 15:52:05,886 - hbmep.dataset.core - INFO - Processing data ...\n",
      "2023-11-20 15:52:05,887 - hbmep.utils.utils - INFO - func:load took: 0.00 sec\n"
     ]
    },
    {
     "data": {
      "text/plain": [
       "(188, 229)"
      ]
     },
     "execution_count": 4,
     "metadata": {},
     "output_type": "execute_result"
    }
   ],
   "source": [
    "dir = \"/home/vishu/data/\"\n",
    "sc_approach = \"posterior\"\n",
    "df = load_intraoperative_data(dir=dir, sc_approach=sc_approach, subdural_epidural_only=True)\n",
    "\n",
    "df[model.features[0]] = df[model.features[0]].replace({\"epidural\": \"01_epidural\", \"subdural\": \"02_subdural\"})\n",
    "df[model.features[1]] = df[model.features[1]].replace({\"R\": \"01_R\", \"M\": \"02_M\"})\n",
    "\n",
    "df, encoder_dict = model.load(df=df)\n",
    "\n",
    "df.shape"
   ]
  },
  {
   "cell_type": "code",
   "execution_count": 5,
   "metadata": {},
   "outputs": [
    {
     "name": "stderr",
     "output_type": "stream",
     "text": [
      "2023-11-20 15:52:06,234 - hbmep.model.baseline - INFO - Running inference with base_model ...\n"
     ]
    },
    {
     "data": {
      "application/vnd.jupyter.widget-view+json": {
       "model_id": "b7f07ba438824f26937987c63bb96f81",
       "version_major": 2,
       "version_minor": 0
      },
      "text/plain": [
       "  0%|          | 0/4000 [00:00<?, ?it/s]"
      ]
     },
     "metadata": {},
     "output_type": "display_data"
    },
    {
     "data": {
      "application/vnd.jupyter.widget-view+json": {
       "model_id": "4dd2fdc630a344a9bf8e8ce546d4662d",
       "version_major": 2,
       "version_minor": 0
      },
      "text/plain": [
       "  0%|          | 0/4000 [00:00<?, ?it/s]"
      ]
     },
     "metadata": {},
     "output_type": "display_data"
    },
    {
     "data": {
      "application/vnd.jupyter.widget-view+json": {
       "model_id": "07d1a8c0e61b4ce6b0e64a2b8dc1d421",
       "version_major": 2,
       "version_minor": 0
      },
      "text/plain": [
       "  0%|          | 0/4000 [00:00<?, ?it/s]"
      ]
     },
     "metadata": {},
     "output_type": "display_data"
    },
    {
     "data": {
      "application/vnd.jupyter.widget-view+json": {
       "model_id": "a2d5103817794d5693207c47e6648728",
       "version_major": 2,
       "version_minor": 0
      },
      "text/plain": [
       "  0%|          | 0/4000 [00:00<?, ?it/s]"
      ]
     },
     "metadata": {},
     "output_type": "display_data"
    },
    {
     "name": "stderr",
     "output_type": "stream",
     "text": [
      "2023-11-20 15:53:36,638 - hbmep.utils.utils - INFO - func:run_inference took: 1 min and 30.40 sec\n"
     ]
    }
   ],
   "source": [
    "mcmc, posterior_samples = model.run_inference(df=df)\n"
   ]
  },
  {
   "cell_type": "code",
   "execution_count": 8,
   "metadata": {},
   "outputs": [
    {
     "name": "stderr",
     "output_type": "stream",
     "text": [
      "2023-11-20 16:18:47,817 - hbmep.utils.utils - INFO - func:make_prediction_dataset took: 0.00 sec\n"
     ]
    },
    {
     "name": "stderr",
     "output_type": "stream",
     "text": [
      "2023-11-20 16:18:49,008 - hbmep.utils.utils - INFO - func:predict took: 1.19 sec\n",
      "2023-11-20 16:18:49,008 - hbmep.model.baseline - INFO - Rendering recruitment curves ...\n",
      "2023-11-20 16:18:49,771 - hbmep.model.baseline - INFO - Saved to /home/vishu/repos/hbmep-paper/reports/paper/intraoperative/subdural-epidural/adm/recruitment_curves.pdf\n",
      "2023-11-20 16:18:49,771 - hbmep.utils.utils - INFO - func:render_recruitment_curves took: 0.76 sec\n",
      "2023-11-20 16:18:49,772 - hbmep.model.baseline - INFO - Rendering posterior predictive checks ...\n",
      "2023-11-20 16:18:50,478 - hbmep.model.baseline - INFO - Saved to /home/vishu/repos/hbmep-paper/reports/paper/intraoperative/subdural-epidural/adm/posterior_predictive_check.pdf\n",
      "2023-11-20 16:18:50,479 - hbmep.utils.utils - INFO - func:predictive_checks_renderer took: 0.71 sec\n",
      "2023-11-20 16:18:50,479 - hbmep.utils.utils - INFO - func:render_predictive_check took: 0.71 sec\n"
     ]
    }
   ],
   "source": [
    "_posterior_samples = posterior_samples.copy()\n",
    "_posterior_samples[\"outlier_prob\"] = _posterior_samples[\"outlier_prob\"] * 0\n",
    "\n",
    "prediction_df = model.make_prediction_dataset(df=df)\n",
    "posterior_predictive = model.predict(df=prediction_df, posterior_samples=_posterior_samples)\n",
    "\n",
    "model.render_recruitment_curves(df=df, encoder_dict=encoder_dict, posterior_samples=_posterior_samples, prediction_df=prediction_df, posterior_predictive=posterior_predictive)\n",
    "model.render_predictive_check(df=df, encoder_dict=encoder_dict, prediction_df=prediction_df, posterior_predictive=posterior_predictive)\n"
   ]
  },
  {
   "cell_type": "code",
   "execution_count": 10,
   "metadata": {},
   "outputs": [
    {
     "data": {
      "text/plain": [
       "Text(0.5, 0.98, 'Triceps')"
      ]
     },
     "execution_count": 10,
     "metadata": {},
     "output_type": "execute_result"
    },
    {
     "data": {
      "image/png": "[encoded data removed]",
      "text/plain": [
       "<Figure size 900x450 with 9 Axes>"
      ]
     },
     "metadata": {},
     "output_type": "display_data"
    }
   ],
   "source": [
    "a = posterior_samples[site.a]\n",
    "a.shape\n",
    "\n",
    "\n",
    "import matplotlib.pyplot as plt\n",
    "import seaborn as sns\n",
    "\n",
    "\n",
    "nrows, ncols = 3, 3\n",
    "fig, axes = plt.subplots(nrows=nrows, ncols=ncols, figsize=(3 * ncols, 1.5 * nrows), squeeze=False, constrained_layout=True)\n",
    "\n",
    "muscle_ind = 0\n",
    "c = [(0, 0, 0), (0, 0, 1), (0, 1, 0), (0, 1, 1)]\n",
    "\n",
    "counter = 0\n",
    "for _ in range(nrows * ncols):\n",
    "    i, j = counter // ncols, counter % ncols\n",
    "    ax = axes[i, j]\n",
    "\n",
    "    if i in {0, 1} and j < 2:\n",
    "        sns.kdeplot(a[:, 0, i, j, muscle_ind], ax=ax, cut=0)\n",
    "        c_inv = []\n",
    "        c_inv.append(encoder_dict[model.features[0]].inverse_transform([i])[0][3:])\n",
    "        c_inv.append(encoder_dict[model.features[1]].inverse_transform([j])[0][3:])\n",
    "        c_inv = \", \".join(c_inv)\n",
    "        ax.set_title(c_inv)\n",
    "    counter += 1\n",
    "\n",
    "    if i in {0, 1} and j == 2:\n",
    "        samples = a[:, 0, i, 1, muscle_ind] - a[:, 0, i, 0, muscle_ind]\n",
    "        sns.kdeplot(samples, ax=ax)\n",
    "        prob = (samples > 0).mean()\n",
    "        ax.set_title(f\"$Pr($M - L $> 0) = ${prob:.2f}\")\n",
    "\n",
    "    if i == 2 and j in {0, 1}:\n",
    "        ax = axes[i, j]\n",
    "        samples = a[:, 0, 0, j, muscle_ind] - a[:, 0, 1, j, muscle_ind]\n",
    "        sns.kdeplot(samples, ax=ax)\n",
    "        prob = (samples > 0).mean()\n",
    "        ax.set_title(f\"$Pr($Epidural - Subdural $> 0) = ${prob:.2f}\")\n",
    "\n",
    "\n",
    "fig.suptitle(\"Triceps\")\n"
   ]
  },
  {
   "cell_type": "code",
   "execution_count": 10,
   "metadata": {},
   "outputs": [
    {
     "name": "stderr",
     "output_type": "stream",
     "text": [
      "2023-11-16 15:28:49,714 - __main__ - INFO - Evaluating model ...\n",
      "/home/vishu/repos/hbmep-paper/.venv/lib/python3.11/site-packages/arviz/stats/stats.py:803: UserWarning: Estimated shape parameter of Pareto distribution is greater than 0.7 for one or more samples. You should consider using a more robust model, this is because importance sampling is less likely to work well if the marginal posterior and LOO posterior are very different. This is more likely to happen with a non-robust model and highly influential observations.\n",
      "  warnings.warn(\n",
      "2023-11-16 15:28:53,635 - __main__ - INFO - ELPD LOO (Log): 1231.18\n",
      "/home/vishu/repos/hbmep-paper/.venv/lib/python3.11/site-packages/arviz/stats/stats.py:1645: UserWarning: For one or more samples the posterior variance of the log predictive densities exceeds 0.4. This could be indication of WAIC starting to fail. \n",
      "See http://arxiv.org/abs/1507.04544 for details\n",
      "  warnings.warn(\n",
      "2023-11-16 15:28:53,697 - __main__ - INFO - ELPD WAIC (Log): 1214.50\n"
     ]
    }
   ],
   "source": [
    "numpyro_data = az.from_numpyro(mcmc)\n",
    "\n",
    "\"\"\" Model evaluation \"\"\"\n",
    "logger.info(\"Evaluating model ...\")\n",
    "\n",
    "score = az.loo(numpyro_data, var_name=site.obs)\n",
    "logger.info(f\"ELPD LOO (Log): {score.elpd_loo:.2f}\")\n",
    "\n",
    "score = az.waic(numpyro_data, var_name=site.obs)\n",
    "logger.info(f\"ELPD WAIC (Log): {score.elpd_waic:.2f}\")\n"
   ]
  },
  {
   "cell_type": "code",
   "execution_count": 11,
   "metadata": {},
   "outputs": [],
   "source": [
    "import pickle\n",
    "\n",
    "dest = os.path.join(model.build_dir, \"inference.pkl\")\n",
    "with open(dest, \"wb\") as f:\n",
    "    pickle.dump((model, mcmc, posterior_samples), f)\n"
   ]
  },
  {
   "cell_type": "code",
   "execution_count": 14,
   "metadata": {},
   "outputs": [
    {
     "data": {
      "text/plain": [
       "'/home/vishu/repos/hbmep-paper/reports/paper/intraoperative/midline-lateral/inference.pkl'"
      ]
     },
     "execution_count": 14,
     "metadata": {},
     "output_type": "execute_result"
    }
   ],
   "source": [
    "os.path.join(model.build_dir, \"inference.pkl\")"
   ]
  },
  {
   "cell_type": "code",
   "execution_count": 12,
   "metadata": {},
   "outputs": [
    {
     "data": {
      "text/plain": [
       "'/home/vishu/repos/hbmep-paper/reports/paper/intraoperative/midline-lateral/inference.nc'"
      ]
     },
     "execution_count": 12,
     "metadata": {},
     "output_type": "execute_result"
    }
   ],
   "source": [
    "dest = os.path.join(model.build_dir, \"inference.nc\")\n",
    "az.to_netcdf(mcmc, dest)\n"
   ]
  },
  {
   "cell_type": "code",
   "execution_count": 9,
   "metadata": {},
   "outputs": [
    {
     "name": "stdout",
     "output_type": "stream",
     "text": [
      "\n",
      "                               mean       std    median      2.5%     97.5%     n_eff     r_hat\n",
      "           H_raw[0,0,0,0]      1.39      0.62      1.32      0.28      2.56    187.65      1.02\n",
      "           H_raw[0,0,1,0]      0.78      0.57      0.65      0.02      1.94   2566.62      1.00\n",
      "           H_raw[0,1,0,0]      2.04      0.60      1.99      0.95      3.22   3258.98      1.00\n",
      "           H_raw[0,1,1,0]      0.45      0.51      0.26      0.00      1.51   2040.24      1.00\n",
      "  H_scale_global_scale[0]     11.10      3.05     10.83      5.22     16.92   2888.76      1.00\n",
      "       H_scale_raw[0,0,0]      1.39      0.60      1.33      0.34      2.57    447.24      1.02\n",
      "       H_scale_raw[0,1,0]      0.80      0.58      0.67      0.02      1.94   2050.14      1.00\n",
      "       H_scale_raw[1,0,0]      2.01      0.59      1.96      0.93      3.13   2623.47      1.00\n",
      "       H_scale_raw[1,1,0]      0.45      0.52      0.26      0.00      1.55   2818.38      1.00\n",
      "           L_raw[0,0,0,0]      1.16      0.73      1.06      0.08      2.54     11.38      1.12\n",
      "           L_raw[0,0,1,0]      0.66      0.49      0.55      0.04      1.64   1000.13      1.01\n",
      "           L_raw[0,1,0,0]      0.65      0.49      0.52      0.03      1.67    337.65      1.02\n",
      "           L_raw[0,1,1,0]      0.64      0.48      0.52      0.03      1.61    821.78      1.01\n",
      "  L_scale_global_scale[0]      0.36      0.26      0.29      0.03      0.87      9.26      1.17\n",
      "       L_scale_raw[0,0,0]      1.16      0.71      1.06      0.05      2.46     12.14      1.12\n",
      "       L_scale_raw[0,1,0]      0.63      0.48      0.50      0.03      1.60    182.79      1.02\n",
      "       L_scale_raw[1,0,0]      0.66      0.48      0.54      0.02      1.63    479.14      1.01\n",
      "       L_scale_raw[1,1,0]      0.63      0.50      0.49      0.03      1.64    181.82      1.02\n",
      "               a[0,0,0,0]      1.48      1.03      1.15      0.05      2.98      5.28      1.35\n",
      "               a[0,0,1,0]      5.47      0.63      5.74      4.06      5.96    104.68      1.03\n",
      "               a[0,1,0,0]      0.84      0.15      0.90      0.53      0.99    270.99      1.02\n",
      "               a[0,1,1,0]      2.06      0.29      2.12      1.48      2.55    561.22      1.01\n",
      "            a_mean[0,0,0]      4.47      4.25      3.08      0.01     13.30   3608.31      1.00\n",
      "            a_mean[0,1,0]      6.20      4.04      5.65      0.00     13.86   3134.26      1.00\n",
      "            a_mean[1,0,0]      4.34      4.36      2.95      0.00     13.33   3056.04      1.00\n",
      "            a_mean[1,1,0]      4.53      4.16      3.11      0.00     13.06   2839.66      1.00\n",
      "           a_scale[0,0,0]      6.97      5.53      5.79      0.01     17.62   3255.16      1.00\n",
      "           a_scale[0,1,0]      6.53      5.38      5.29      0.02     17.21   2409.13      1.00\n",
      "           a_scale[1,0,0]      7.06      5.41      5.95      0.02     17.56   3450.17      1.00\n",
      "           a_scale[1,1,0]      6.61      5.45      5.27      0.01     16.86   3280.85      1.00\n",
      "           b_raw[0,0,0,0]      0.98      0.59      0.88      0.09      2.12    134.33      1.03\n",
      "           b_raw[0,0,1,0]      0.73      0.53      0.61      0.02      1.76   1886.72      1.00\n",
      "           b_raw[0,1,0,0]      1.34      0.58      1.27      0.28      2.45   3091.41      1.00\n",
      "           b_raw[0,1,1,0]      0.55      0.58      0.34      0.00      1.74   1630.88      1.00\n",
      "  b_scale_global_scale[0]      1.26      0.57      1.18      0.26      2.39    314.38      1.01\n",
      "       b_scale_raw[0,0,0]      1.01      0.58      0.91      0.11      2.15    110.41      1.02\n",
      "       b_scale_raw[0,1,0]      0.70      0.54      0.57      0.01      1.76   2065.66      1.00\n",
      "       b_scale_raw[1,0,0]      1.33      0.58      1.26      0.29      2.42   2280.06      1.00\n",
      "       b_scale_raw[1,1,0]      0.56      0.57      0.36      0.00      1.72   1693.34      1.00\n",
      "         ell_raw[0,0,0,0]      0.82      0.60      0.70      0.00      1.96   4131.53      1.00\n",
      "         ell_raw[0,0,1,0]      0.67      0.61      0.51      0.00      1.88    809.84      1.00\n",
      "         ell_raw[0,1,0,0]      0.78      0.59      0.65      0.01      1.93   3367.50      1.00\n",
      "         ell_raw[0,1,1,0]      0.73      0.58      0.60      0.00      1.87   3103.05      1.00\n",
      "ell_scale_global_scale[0]     59.37     57.92     42.53      0.00    176.91    653.70      1.00\n",
      "     ell_scale_raw[0,0,0]      0.82      0.61      0.70      0.00      2.01   3892.45      1.00\n",
      "     ell_scale_raw[0,1,0]      0.67      0.60      0.51      0.00      1.84   1124.83      1.00\n",
      "     ell_scale_raw[1,0,0]      0.78      0.60      0.66      0.00      1.96   3569.18      1.00\n",
      "     ell_scale_raw[1,1,0]      0.74      0.60      0.61      0.00      1.89   3125.07      1.00\n",
      "         g_1_raw[0,0,0,0]      0.95      1.94      0.48      0.00      3.12    226.26      1.02\n",
      "         g_1_raw[0,0,1,0]      1.93      4.47      0.82      0.00      6.66   2608.84      1.00\n",
      "         g_1_raw[0,1,0,0]      1.88      4.91      0.92      0.03      5.89   1969.76      1.00\n",
      "         g_1_raw[0,1,1,0]     80.98    903.62      1.02      0.00     20.54    142.96      1.03\n",
      "g_1_scale_global_scale[0]      0.51      0.44      0.38      0.00      1.42    573.81      1.01\n",
      "     g_1_scale_raw[0,0,0]      0.58      0.53      0.42      0.00      1.64    107.58      1.03\n",
      "     g_1_scale_raw[0,1,0]      0.74      0.59      0.60      0.00      1.88   4211.24      1.00\n",
      "     g_1_scale_raw[1,0,0]      0.80      0.56      0.68      0.00      1.92   3223.43      1.00\n",
      "     g_1_scale_raw[1,1,0]      0.79      0.61      0.67      0.00      1.99   3022.27      1.00\n",
      "         g_2_raw[0,0,0,0]      0.79      1.24      0.48      0.00      2.46   1000.76      1.01\n",
      "         g_2_raw[0,0,1,0]      8.10     15.12      4.71      0.69     21.97    905.15      1.00\n",
      "         g_2_raw[0,1,0,0]      1.41      2.08      0.93      0.09      3.90   1573.23      1.00\n",
      "         g_2_raw[0,1,1,0]    239.28    585.65    131.04      0.06    666.21    960.47      1.00\n",
      "g_2_scale_global_scale[0]      1.42      0.60      1.34      0.33      2.58   2152.20      1.00\n",
      "     g_2_scale_raw[0,0,0]      0.56      0.50      0.43      0.00      1.51     98.54      1.03\n",
      "     g_2_scale_raw[0,1,0]      1.20      0.64      1.13      0.09      2.41   2798.72      1.00\n",
      "     g_2_scale_raw[1,0,0]      0.80      0.52      0.70      0.02      1.79   2908.45      1.00\n",
      "     g_2_scale_raw[1,1,0]      1.23      0.66      1.15      0.06      2.44   1930.51      1.00\n",
      "           v_raw[0,0,0,0]      0.81      0.59      0.69      0.00      1.99   4036.23      1.00\n",
      "           v_raw[0,0,1,0]      0.84      0.61      0.72      0.00      1.99   3953.38      1.00\n",
      "           v_raw[0,1,0,0]      0.75      0.58      0.62      0.00      1.87   4714.88      1.00\n",
      "           v_raw[0,1,1,0]      0.82      0.62      0.69      0.00      2.03   3301.18      1.00\n",
      "  v_scale_global_scale[0]      0.81      0.58      0.71      0.00      1.91   3724.49      1.00\n",
      "       v_scale_raw[0,0,0]      0.78      0.60      0.64      0.00      1.92   4166.03      1.00\n",
      "       v_scale_raw[0,1,0]      0.84      0.60      0.74      0.00      1.96   3562.58      1.00\n",
      "       v_scale_raw[1,0,0]      0.74      0.56      0.63      0.00      1.83   4082.52      1.00\n",
      "       v_scale_raw[1,1,0]      0.84      0.62      0.73      0.00      2.01   3617.39      1.00\n",
      "\n",
      "Number of divergences: 203\n"
     ]
    }
   ],
   "source": [
    "mcmc.print_summary(prob=.95)\n"
   ]
  }
 ],
 "metadata": {
  "kernelspec": {
   "display_name": "Python 3 (ipykernel)",
   "language": "python",
   "name": "python3"
  },
  "language_info": {
   "codemirror_mode": {
    "name": "ipython",
    "version": 3
   },
   "file_extension": ".py",
   "mimetype": "text/x-python",
   "name": "python",
   "nbconvert_exporter": "python",
   "pygments_lexer": "ipython3",
   "version": "3.11.4"
  }
 },
 "nbformat": 4,
 "nbformat_minor": 2
}
