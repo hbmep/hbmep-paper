{
 "cells": [
  {
   "cell_type": "code",
   "execution_count": 1,
   "metadata": {},
   "outputs": [],
   "source": [
    "%reload_ext autoreload\n",
    "%autoreload 2\n",
    "\n",
    "import os\n",
    "import pickle\n",
    "import logging\n",
    "import multiprocessing\n",
    "from pathlib import Path\n",
    "\n",
    "import pandas as pd\n",
    "import numpy as np\n",
    "import jax\n",
    "import jax.numpy as jnp\n",
    "\n",
    "import arviz as az\n",
    "import numpyro\n",
    "\n",
    "from hbmep.config import Config\n",
    "from hbmep.model.utils import Site as site\n",
    "\n",
    "PLATFORM = \"cpu\"\n",
    "jax.config.update(\"jax_platforms\", PLATFORM)\n",
    "numpyro.set_platform(PLATFORM)\n",
    "\n",
    "cpu_count = multiprocessing.cpu_count() - 2\n",
    "numpyro.set_host_device_count(cpu_count)\n",
    "numpyro.enable_x64()\n",
    "numpyro.enable_validation()\n",
    "\n",
    "logger = logging.getLogger(__name__)\n"
   ]
  },
  {
   "cell_type": "code",
   "execution_count": 9,
   "metadata": {},
   "outputs": [],
   "source": [
    "import numpyro.distributions as dist\n",
    "from hbmep.model import Baseline\n",
    "\n",
    "\n",
    "class RectifiedLogistic(Baseline):\n",
    "    LINK = \"rectified_logistic\"\n",
    "\n",
    "    def __init__(self, config: Config):\n",
    "        super(RectifiedLogistic, self).__init__(config=config)\n",
    "        # self.combination_columns = self.features + [self.subject]\n",
    "\n",
    "    def _model(self, subject, features, intensity, response_obs=None):\n",
    "        subject, n_subject = subject\n",
    "        features, n_features = features\n",
    "        intensity, n_data = intensity\n",
    "\n",
    "        intensity = intensity.reshape(-1, 1)\n",
    "        intensity = np.tile(intensity, (1, self.n_response))\n",
    "\n",
    "        feature0 = features[0].reshape(-1,)\n",
    "        n_feature0 = n_features[0]\n",
    "\n",
    "        mask = True\n",
    "        if response_obs is not None: mask = np.logical_not(np.isnan(response_obs, where=True))\n",
    "\n",
    "        with numpyro.plate(site.n_response, self.n_response, dim=-1):\n",
    "            global_sigma_b = numpyro.sample(\"global_sigma_b\", dist.HalfNormal(100))\n",
    "            global_sigma_v = numpyro.sample(\"global_sigma_v\", dist.HalfNormal(100))\n",
    "\n",
    "            global_sigma_L = numpyro.sample(\"global_sigma_L\", dist.HalfNormal(1))\n",
    "            global_sigma_l = numpyro.sample(\"global_sigma_l\", dist.HalfNormal(100))\n",
    "            global_sigma_H = numpyro.sample(\"global_sigma_H\", dist.HalfNormal(5))\n",
    "\n",
    "            global_sigma_g_1 = numpyro.sample(\"global_sigma_g_1\", dist.HalfNormal(100))\n",
    "            global_sigma_g_2 = numpyro.sample(\"global_sigma_g_2\", dist.HalfNormal(100))\n",
    "\n",
    "            global_sigma_p = numpyro.sample(\"global_sigma_p\", dist.HalfNormal(100))\n",
    "\n",
    "            with numpyro.plate(site.n_subject, n_subject, dim=-2):\n",
    "                \"\"\" Hyper-priors \"\"\"\n",
    "                mu_a = numpyro.sample(site.mu_a, dist.HalfNormal(scale=10))\n",
    "                sigma_a = numpyro.sample(site.sigma_a, dist.HalfNormal(scale=10 / 150))\n",
    "\n",
    "                sigma_b_raw = numpyro.sample(\"sigma_b_raw\", dist.HalfNormal(scale=1))\n",
    "                sigma_b = numpyro.deterministic(site.sigma_b, global_sigma_b * sigma_b_raw)\n",
    "\n",
    "                sigma_v_raw = numpyro.sample(\"sigma_v_raw\", dist.HalfNormal(scale=1))\n",
    "                sigma_v = numpyro.deterministic(site.sigma_v, global_sigma_v * sigma_v_raw)\n",
    "\n",
    "                sigma_L_raw = numpyro.sample(\"sigma_L_raw\", dist.HalfNormal(scale=1))\n",
    "                sigma_L = numpyro.deterministic(site.sigma_L, global_sigma_L * sigma_L_raw)\n",
    "\n",
    "                sigma_l_raw = numpyro.sample(\"sigma_l_raw\", dist.HalfNormal(scale=1))\n",
    "                sigma_l = numpyro.deterministic(\"sigma_l\", global_sigma_l * sigma_l_raw)\n",
    "\n",
    "                sigma_H_raw = numpyro.sample(\"sigma_H_raw\", dist.HalfNormal(scale=1))\n",
    "                sigma_H = numpyro.deterministic(site.sigma_H, global_sigma_H * sigma_H_raw)\n",
    "\n",
    "                sigma_g_1_raw = numpyro.sample(\"sigma_g_1_raw\", dist.HalfNormal(scale=1))\n",
    "                sigma_g_1 = numpyro.deterministic(\"sigma_g_1\", global_sigma_g_1 * sigma_g_1_raw)\n",
    "\n",
    "                sigma_g_2_raw = numpyro.sample(\"sigma_g_2_raw\", dist.HalfNormal(scale=1))\n",
    "                sigma_g_2 = numpyro.deterministic(\"sigma_g_2\", global_sigma_g_2 * sigma_g_2_raw)\n",
    "\n",
    "                sigma_p_raw = numpyro.sample(\"sigma_p_raw\", dist.HalfNormal(scale=1))\n",
    "                sigma_p = numpyro.deterministic(\"sigma_p\", global_sigma_p * sigma_p_raw)\n",
    "\n",
    "                with numpyro.plate(\"n_feature0\", n_feature0, dim=-3):\n",
    "                    \"\"\" Priors \"\"\"\n",
    "                    a_raw = numpyro.sample(\"a_raw\", dist.Gamma(concentration=mu_a, rate=1))\n",
    "                    a = numpyro.deterministic(site.a, (1 / sigma_a) * a_raw)\n",
    "\n",
    "                    b_raw = numpyro.sample(\"b_raw\", dist.HalfNormal(scale=1))\n",
    "                    b = numpyro.deterministic(site.b, sigma_b * b_raw)\n",
    "\n",
    "                    v_raw = numpyro.sample(\"v_raw\", dist.HalfNormal(scale=1))\n",
    "                    v = numpyro.deterministic(site.v, sigma_v * v_raw)\n",
    "\n",
    "                    L_raw = numpyro.sample(\"L_raw\", dist.HalfNormal(scale=1))\n",
    "                    L = numpyro.deterministic(site.L, sigma_L * L_raw)\n",
    "\n",
    "                    l_raw = numpyro.sample(\"l_raw\", dist.HalfNormal(scale=1))\n",
    "                    l = numpyro.deterministic(\"l\", sigma_l * l_raw)\n",
    "\n",
    "                    H_raw = numpyro.sample(\"H_raw\", dist.HalfNormal(scale=1))\n",
    "                    H = numpyro.deterministic(site.H, sigma_H * H_raw)\n",
    "\n",
    "                    g_1_raw = numpyro.sample(\"g_1_raw\", dist.HalfCauchy(scale=1))\n",
    "                    g_1 = numpyro.deterministic(site.g_1, sigma_g_1 * g_1_raw)\n",
    "\n",
    "                    g_2_raw = numpyro.sample(\"g_2_raw\", dist.HalfCauchy(scale=1))\n",
    "                    g_2 = numpyro.deterministic(site.g_2, sigma_g_2 * g_2_raw)\n",
    "\n",
    "                    p_raw = numpyro.sample(\"p_raw\", dist.HalfNormal(scale=1))\n",
    "                    p = numpyro.deterministic(\"p\", sigma_p * p_raw)\n",
    "\n",
    "        with numpyro.plate(site.n_response, self.n_response, dim=-1):\n",
    "            with numpyro.plate(site.data, n_data, dim=-2):\n",
    "                \"\"\" Model \"\"\"\n",
    "                mu = numpyro.deterministic(\n",
    "                    site.mu,\n",
    "                    L[feature0, subject]\n",
    "                    + jnp.where(\n",
    "                        intensity <= a[feature0, subject],\n",
    "                        0,\n",
    "                        -l[feature0, subject]\n",
    "                        + (\n",
    "                            (H[feature0, subject] + l[feature0, subject])\n",
    "                            / jnp.power(\n",
    "                                1\n",
    "                                + (\n",
    "                                    (\n",
    "                                        -1\n",
    "                                        + jnp.power(\n",
    "                                            (H[feature0, subject] + l[feature0, subject]) / l[feature0, subject],\n",
    "                                            v[feature0, subject]\n",
    "                                        )\n",
    "                                    )\n",
    "                                    * jnp.exp(-b[feature0, subject] * (intensity - a[feature0, subject]))\n",
    "                                ),\n",
    "                                1 / v[feature0, subject]\n",
    "                            )\n",
    "                        )\n",
    "                    )\n",
    "                )\n",
    "                beta = numpyro.deterministic(\n",
    "                    site.beta,\n",
    "                    g_1[feature0, subject] + g_2[feature0, subject] * jnp.power(1 / (mu + 1), p[feature0, subject])\n",
    "                )\n",
    "\n",
    "                with numpyro.handlers.mask(mask=mask):\n",
    "                    \"\"\" Observation \"\"\"\n",
    "                    numpyro.sample(\n",
    "                        site.obs,\n",
    "                        dist.Gamma(concentration=mu * beta, rate=beta),\n",
    "                        obs=response_obs\n",
    "                    )\n"
   ]
  },
  {
   "cell_type": "code",
   "execution_count": 3,
   "metadata": {},
   "outputs": [
    {
     "name": "stderr",
     "output_type": "stream",
     "text": [
      "2023-10-27 12:52:44,127 - hbmep.config - INFO - Verifying configuration ...\n",
      "2023-10-27 12:52:44,127 - hbmep.config - INFO - Success!\n",
      "2023-10-27 12:52:44,143 - hbmep.model.baseline - INFO - Initialized model with rectified_logistic link\n"
     ]
    }
   ],
   "source": [
    "toml_path = \"/home/vishu/repos/hbmep-paper/configs/paper/rats/J_RCML_000/link-comparison/rectified_logistic.toml\"\n",
    "\n",
    "config = Config(toml_path=toml_path)\n",
    "config.BUILD_DIR = os.path.join(config.BUILD_DIR, \"az-debug\")\n",
    "# config.MCMC_PARAMS[\"num_warmup\"] = 4000\n",
    "# config.MCMC_PARAMS[\"num_samples\"] = 6000\n",
    "# config.MCMC_PARAMS[\"thinning\"] = 4\n",
    "\n",
    "model = RectifiedLogistic(config=config)\n"
   ]
  },
  {
   "cell_type": "code",
   "execution_count": 4,
   "metadata": {},
   "outputs": [
    {
     "name": "stderr",
     "output_type": "stream",
     "text": [
      "2023-10-27 12:52:45,406 - hbmep.dataset.core - INFO - Artefacts will be stored here - /home/vishu/repos/hbmep-paper/reports/paper/rats/J_RCML_000/link-comparison/rectified_logistic/az-debug\n",
      "2023-10-27 12:52:45,407 - hbmep.dataset.core - INFO - Copied config to /home/vishu/repos/hbmep-paper/reports/paper/rats/J_RCML_000/link-comparison/rectified_logistic/az-debug\n",
      "2023-10-27 12:52:45,407 - hbmep.dataset.core - INFO - Processing data ...\n",
      "2023-10-27 12:52:45,408 - hbmep.utils.utils - INFO - func:load took: 0.00 sec\n"
     ]
    }
   ],
   "source": [
    "src = \"/home/vishu/data/hbmep-processed/J_RCML_000/data.csv\"\n",
    "df = pd.read_csv(src)\n",
    "\n",
    "# model.mep_matrix_path = None\n",
    "# subset = [\"amap01\"]\n",
    "# ind = df[model.subject].isin(subset)\n",
    "\n",
    "subset = [(\"-C5L\", \"amap01\"), (\"-C6L\", \"amap01\")]\n",
    "subset = [(\"-C6L\", \"amap01\")]\n",
    "subset = [(\"-C7L\", \"amap01\")]\n",
    "subset = [(\"amap01\", \"-C6L\"), (\"amap01\", \"-C7L\")]\n",
    "ind = df[model.combination_columns].apply(tuple, axis=1).isin(subset)\n",
    "df = df[ind].reset_index(drop=True).copy()\n",
    "\n",
    "df, encoder_dict = model.load(df=df)\n"
   ]
  },
  {
   "cell_type": "code",
   "execution_count": 5,
   "metadata": {},
   "outputs": [
    {
     "name": "stderr",
     "output_type": "stream",
     "text": [
      "2023-10-27 12:52:46,971 - hbmep.model.baseline - INFO - Running inference with rectified_logistic ...\n"
     ]
    },
    {
     "data": {
      "application/vnd.jupyter.widget-view+json": {
       "model_id": "144fb292d4984739a1cf5293909630de",
       "version_major": 2,
       "version_minor": 0
      },
      "text/plain": [
       "  0%|          | 0/6000 [00:00<?, ?it/s]"
      ]
     },
     "metadata": {},
     "output_type": "display_data"
    },
    {
     "data": {
      "application/vnd.jupyter.widget-view+json": {
       "model_id": "9a67d1e3d11a477bb22428a9576af380",
       "version_major": 2,
       "version_minor": 0
      },
      "text/plain": [
       "  0%|          | 0/6000 [00:00<?, ?it/s]"
      ]
     },
     "metadata": {},
     "output_type": "display_data"
    },
    {
     "data": {
      "application/vnd.jupyter.widget-view+json": {
       "model_id": "d6d41818f7e549e392312f9729ce44f4",
       "version_major": 2,
       "version_minor": 0
      },
      "text/plain": [
       "  0%|          | 0/6000 [00:00<?, ?it/s]"
      ]
     },
     "metadata": {},
     "output_type": "display_data"
    },
    {
     "data": {
      "application/vnd.jupyter.widget-view+json": {
       "model_id": "39376ac9519d431f87d2d00b24d76e7b",
       "version_major": 2,
       "version_minor": 0
      },
      "text/plain": [
       "  0%|          | 0/6000 [00:00<?, ?it/s]"
      ]
     },
     "metadata": {},
     "output_type": "display_data"
    },
    {
     "name": "stderr",
     "output_type": "stream",
     "text": [
      "2023-10-27 12:54:55,642 - hbmep.utils.utils - INFO - func:run_inference took: 2 min and 8.67 sec\n"
     ]
    }
   ],
   "source": [
    "mcmc, posterior_samples = model.run_inference(df=df)\n"
   ]
  },
  {
   "cell_type": "code",
   "execution_count": 6,
   "metadata": {},
   "outputs": [
    {
     "name": "stderr",
     "output_type": "stream",
     "text": [
      "2023-10-27 12:54:56,050 - hbmep.utils.utils - INFO - func:make_prediction_dataset took: 0.00 sec\n",
      "2023-10-27 12:54:56,969 - hbmep.utils.utils - INFO - func:predict took: 0.92 sec\n",
      "2023-10-27 12:54:56,971 - hbmep.model.baseline - INFO - Rendering ...\n",
      "2023-10-27 12:54:57,491 - hbmep.model.baseline - INFO - Saved to /home/vishu/repos/hbmep-paper/reports/paper/rats/J_RCML_000/link-comparison/rectified_logistic/az-debug/recruitment_curves.pdf\n",
      "2023-10-27 12:54:57,492 - hbmep.utils.utils - INFO - func:render_recruitment_curves took: 0.52 sec\n",
      "2023-10-27 12:54:57,494 - hbmep.model.baseline - INFO - Rendering Posterior Predictive Check ...\n",
      "2023-10-27 12:54:57,958 - hbmep.model.baseline - INFO - Saved to /home/vishu/repos/hbmep-paper/reports/paper/rats/J_RCML_000/link-comparison/rectified_logistic/az-debug/posterior_predictive_check.pdf\n",
      "2023-10-27 12:54:57,959 - hbmep.utils.utils - INFO - func:_render_predictive_check took: 0.47 sec\n",
      "2023-10-27 12:54:57,959 - hbmep.utils.utils - INFO - func:render_predictive_check took: 0.47 sec\n"
     ]
    }
   ],
   "source": [
    "prediction_df = model.make_prediction_dataset(df=df)\n",
    "posterior_predictive = model.predict(df=prediction_df, posterior_samples=posterior_samples)\n",
    "\n",
    "model.render_recruitment_curves(df=df, encoder_dict=encoder_dict, posterior_samples=posterior_samples, prediction_df=prediction_df, posterior_predictive=posterior_predictive)\n",
    "model.render_predictive_check(df=df, encoder_dict=encoder_dict, prediction_df=prediction_df, posterior_predictive=posterior_predictive)\n"
   ]
  },
  {
   "cell_type": "code",
   "execution_count": 7,
   "metadata": {},
   "outputs": [
    {
     "name": "stdout",
     "output_type": "stream",
     "text": [
      "\n",
      "                         mean       std    median      2.5%     97.5%     n_eff     r_hat\n",
      "       H_raw[0,0,0]      0.79      0.47      0.69      0.08      1.69   1368.89      1.01\n",
      "       H_raw[1,0,0]      0.88      0.51      0.78      0.08      1.86   1483.84      1.00\n",
      "       L_raw[0,0,0]      0.63      0.39      0.56      0.04      1.38   1384.03      1.00\n",
      "       L_raw[1,0,0]      0.76      0.46      0.67      0.04      1.65   1255.91      1.01\n",
      "       a_raw[0,0,0]      7.15      3.64      6.65      1.14     14.55    620.68      1.00\n",
      "       a_raw[1,0,0]     11.59      5.89     10.81      1.21     22.91    624.60      1.00\n",
      "       b_raw[0,0,0]      0.50      0.48      0.34      0.00      1.50   1285.18      1.00\n",
      "       b_raw[1,0,0]      0.62      0.51      0.50      0.00      1.64   1642.07      1.00\n",
      "     g_1_raw[0,0,0]      0.95      0.94      0.69      0.07      2.57   1642.19      1.00\n",
      "     g_1_raw[1,0,0]      1.49      1.47      1.09      0.06      4.01   1567.52      1.00\n",
      "     g_2_raw[0,0,0]      3.34      7.06      1.68      0.00     10.33   1201.00      1.00\n",
      "     g_2_raw[1,0,0]      2.41      6.03      1.18      0.00      7.01    933.07      1.00\n",
      "  global_sigma_H[0]      3.92      2.64      3.29      0.41      9.16   1880.22      1.00\n",
      "  global_sigma_L[0]      0.42      0.43      0.27      0.01      1.32   1513.94      1.00\n",
      "  global_sigma_b[0]     16.49     31.90      2.24      0.00     88.75   2104.26      1.00\n",
      "global_sigma_g_1[0]     76.39     50.79     65.53      3.73    176.80   1955.63      1.00\n",
      "global_sigma_g_2[0]    105.94     57.32     99.37      4.94    210.90   2152.27      1.00\n",
      "  global_sigma_l[0]     86.84     61.63     76.07      0.10    203.68   2037.00      1.00\n",
      "  global_sigma_p[0]     76.44     53.42     63.81      1.13    182.18   2349.58      1.00\n",
      "  global_sigma_v[0]     70.75     56.52     58.38      0.03    179.58   2863.90      1.00\n",
      "       l_raw[0,0,0]      1.04      0.62      0.95      0.04      2.19   2879.71      1.00\n",
      "       l_raw[1,0,0]      0.60      0.58      0.42      0.00      1.78   1594.85      1.00\n",
      "       p_raw[0,0,0]      0.81      0.54      0.71      0.01      1.85   2316.52      1.00\n",
      "       p_raw[1,0,0]      0.78      0.53      0.68      0.00      1.79   2426.57      1.00\n",
      "   sigma_H_raw[0,0]      0.75      0.50      0.63      0.06      1.74   1885.35      1.00\n",
      "   sigma_L_raw[0,0]      0.42      0.45      0.25      0.01      1.37   1328.56      1.00\n",
      "   sigma_b_raw[0,0]      0.17      0.32      0.02      0.00      0.83   1996.84      1.00\n",
      " sigma_g_1_raw[0,0]      0.78      0.51      0.68      0.06      1.78   2015.35      1.00\n",
      " sigma_g_2_raw[0,0]      1.06      0.60      0.97      0.08      2.23   2673.06      1.00\n",
      "   sigma_l_raw[0,0]      0.88      0.61      0.77      0.01      2.05   2435.72      1.00\n",
      "   sigma_p_raw[0,0]      0.76      0.54      0.63      0.02      1.84   2323.60      1.00\n",
      "   sigma_v_raw[0,0]      0.68      0.59      0.53      0.00      1.84   2958.60      1.00\n",
      "       v_raw[0,0,0]      0.59      0.53      0.45      0.00      1.62   3099.41      1.00\n",
      "       v_raw[1,0,0]      0.91      0.63      0.80      0.00      2.08   3060.34      1.00\n",
      "           µ_a[0,0]      9.34      4.61      8.77      0.99     17.92    676.13      1.00\n",
      "           σ_a[0,0]      0.06      0.03      0.05      0.01      0.11    623.09      1.00\n",
      "\n",
      "Number of divergences: 41\n"
     ]
    }
   ],
   "source": [
    "mcmc.print_summary(prob=.95)\n"
   ]
  },
  {
   "cell_type": "code",
   "execution_count": 8,
   "metadata": {},
   "outputs": [
    {
     "name": "stderr",
     "output_type": "stream",
     "text": [
      "2023-10-27 12:55:08,655 - __main__ - INFO - Evaluating model ...\n",
      "/home/vishu/repos/hbmep-paper/.venv/lib/python3.11/site-packages/arviz/stats/stats.py:803: UserWarning: Estimated shape parameter of Pareto distribution is greater than 0.7 for one or more samples. You should consider using a more robust model, this is because importance sampling is less likely to work well if the marginal posterior and LOO posterior are very different. This is more likely to happen with a non-robust model and highly influential observations.\n",
      "  warnings.warn(\n",
      "2023-10-27 12:55:08,739 - __main__ - INFO - ELPD LOO (Log): 143.52\n",
      "/home/vishu/repos/hbmep-paper/.venv/lib/python3.11/site-packages/arviz/stats/stats.py:1645: UserWarning: For one or more samples the posterior variance of the log predictive densities exceeds 0.4. This could be indication of WAIC starting to fail. \n",
      "See http://arxiv.org/abs/1507.04544 for details\n",
      "  warnings.warn(\n",
      "2023-10-27 12:55:08,744 - __main__ - INFO - ELPD WAIC (Log): 144.45\n"
     ]
    }
   ],
   "source": [
    "numpyro_data = az.from_numpyro(mcmc)\n",
    "\n",
    "\"\"\" Model evaluation \"\"\"\n",
    "logger.info(\"Evaluating model ...\")\n",
    "\n",
    "score = az.loo(numpyro_data)\n",
    "logger.info(f\"ELPD LOO (Log): {score.elpd_loo:.2f}\")\n",
    "\n",
    "score = az.waic(numpyro_data)\n",
    "logger.info(f\"ELPD WAIC (Log): {score.elpd_waic:.2f}\")\n"
   ]
  },
  {
   "cell_type": "code",
   "execution_count": 11,
   "metadata": {},
   "outputs": [],
   "source": [
    "import pickle\n",
    "\n",
    "dest = os.path.join(model.build_dir, \"inference.pkl\")\n",
    "with open(dest, \"wb\") as f:\n",
    "    pickle.dump((model, mcmc, posterior_samples), f)\n"
   ]
  },
  {
   "cell_type": "code",
   "execution_count": 12,
   "metadata": {},
   "outputs": [
    {
     "data": {
      "text/plain": [
       "'/home/vishu/repos/hbmep-paper/reports/paper/rats/J_RCML_000/link-comparison/rectified_logistic/numpyro_data.nc'"
      ]
     },
     "execution_count": 12,
     "metadata": {},
     "output_type": "execute_result"
    }
   ],
   "source": [
    "dest = os.path.join(model.build_dir, \"numpyro_data.nc\")\n",
    "az.to_netcdf(numpyro_data, dest)\n"
   ]
  },
  {
   "cell_type": "code",
   "execution_count": null,
   "metadata": {},
   "outputs": [],
   "source": [
    "# import pickle\n",
    "\n",
    "# with open(dest, \"rb\") as g:\n",
    "#     model_, mcmc_, posterior_samples_ = pickle.load(g)\n"
   ]
  },
  {
   "cell_type": "code",
   "execution_count": null,
   "metadata": {},
   "outputs": [],
   "source": []
  }
 ],
 "metadata": {
  "kernelspec": {
   "display_name": "Python 3 (ipykernel)",
   "language": "python",
   "name": "python3"
  },
  "language_info": {
   "codemirror_mode": {
    "name": "ipython",
    "version": 3
   },
   "file_extension": ".py",
   "mimetype": "text/x-python",
   "name": "python",
   "nbconvert_exporter": "python",
   "pygments_lexer": "ipython3",
   "version": "3.11.4"
  }
 },
 "nbformat": 4,
 "nbformat_minor": 2
}
