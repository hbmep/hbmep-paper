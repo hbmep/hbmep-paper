{
 "cells": [
  {
   "cell_type": "code",
   "execution_count": 1,
   "metadata": {},
   "outputs": [],
   "source": [
    "%reload_ext autoreload\n",
    "%autoreload 2\n",
    "\n",
    "import os\n",
    "from pathlib import Path\n",
    "import multiprocessing\n",
    "\n",
    "import jax\n",
    "import jax.numpy as jnp\n",
    "import pandas as pd\n",
    "import numpy as np\n",
    "import numpyro\n",
    "import numpyro.distributions as dist\n",
    "\n",
    "from hbmep.config import Config\n",
    "from hbmep.model import Baseline\n",
    "from hbmep.model.utils import Site as site\n",
    "from hbmep.utils.constants import RECTIFIED_LOGISTIC\n",
    "\n",
    "PLATFORM = \"cpu\"\n",
    "jax.config.update(\"jax_platforms\", PLATFORM)\n",
    "numpyro.set_platform(PLATFORM)\n",
    "\n",
    "cpu_count = multiprocessing.cpu_count() - 2\n",
    "numpyro.set_host_device_count(cpu_count)\n",
    "numpyro.enable_x64()\n"
   ]
  },
  {
   "attachments": {},
   "cell_type": "markdown",
   "metadata": {},
   "source": [
    "#### Load config"
   ]
  },
  {
   "cell_type": "code",
   "execution_count": 2,
   "metadata": {},
   "outputs": [
    {
     "name": "stderr",
     "output_type": "stream",
     "text": [
      "2023-07-18 10:43:00,769 - hbmep.config - INFO - Verifying configuration ...\n",
      "2023-07-18 10:43:00,769 - hbmep.config - INFO - Success!\n"
     ]
    }
   ],
   "source": [
    "root_path = Path(os.getcwd()).parent.parent.parent.absolute()\n",
    "toml_path = os.path.join(root_path, \"configs/fix.toml\")\n",
    "\n",
    "config = Config(toml_path=toml_path)\n"
   ]
  },
  {
   "attachments": {},
   "cell_type": "markdown",
   "metadata": {},
   "source": [
    "#### Load data and preprocess"
   ]
  },
  {
   "cell_type": "code",
   "execution_count": 3,
   "metadata": {},
   "outputs": [],
   "source": [
    "class RectifiedLogistic(Baseline):\n",
    "    def __init__(self, config: Config):\n",
    "        super(RectifiedLogistic, self).__init__(config=config)\n",
    "        self.link = RECTIFIED_LOGISTIC\n",
    "\n",
    "    def _model(self, subject, features, intensity, response_obs=None):\n",
    "        intensity = intensity.reshape(-1, 1)\n",
    "        intensity = np.tile(intensity, (1, self.n_response))\n",
    "\n",
    "        feature0 = features[0].reshape(-1,)\n",
    "\n",
    "        n_data = intensity.shape[0]\n",
    "        n_subject = np.unique(subject).shape[0]\n",
    "        n_feature0 = np.unique(feature0).shape[0]\n",
    "\n",
    "        with numpyro.plate(site.n_response, self.n_response, dim=-1):\n",
    "            with numpyro.plate(site.n_subject, n_subject, dim=-2):\n",
    "                \"\"\" Hyper-priors \"\"\"\n",
    "                mu_a = numpyro.sample(\n",
    "                    site.mu_a,\n",
    "                    dist.TruncatedNormal(100, 100, low=0)\n",
    "                )\n",
    "                sigma_a = numpyro.sample(site.sigma_a, dist.HalfCauchy(20))\n",
    "\n",
    "                sigma_b = numpyro.sample(site.sigma_b, dist.HalfCauchy(0.5))\n",
    "\n",
    "                sigma_L = numpyro.sample(site.sigma_L, dist.HalfCauchy(0.05))\n",
    "                sigma_H = numpyro.sample(site.sigma_H, dist.HalfCauchy(5))\n",
    "                sigma_v = numpyro.sample(site.sigma_v, dist.HalfCauchy(5))\n",
    "\n",
    "                with numpyro.plate(\"n_feature0\", n_feature0, dim=-3):\n",
    "                    \"\"\" Priors \"\"\"\n",
    "                    a = numpyro.sample(\n",
    "                        site.a,\n",
    "                        dist.TruncatedNormal(mu_a, sigma_a, low=0)\n",
    "                    )\n",
    "                    b = numpyro.sample(site.b, dist.HalfNormal(sigma_b))\n",
    "\n",
    "                    L = numpyro.sample(site.L, dist.HalfNormal(sigma_L))\n",
    "                    H = numpyro.sample(site.H, dist.HalfNormal(sigma_H))\n",
    "                    v = numpyro.sample(site.v, dist.HalfNormal(sigma_v))\n",
    "\n",
    "                    p = numpyro.sample(site.p, dist.HalfNormal(10))\n",
    "\n",
    "                    g_1 = numpyro.sample(\n",
    "                        site.g_1, dist.HalfCauchy(20)\n",
    "                    )\n",
    "                    g_2 = numpyro.sample(\n",
    "                        site.g_2, dist.HalfCauchy(20)\n",
    "                    )\n",
    "\n",
    "        \"\"\" Model \"\"\"\n",
    "        mu = numpyro.deterministic(\n",
    "            site.mu,\n",
    "            L[feature0, subject]\n",
    "            + jnp.maximum(\n",
    "                0,\n",
    "                -1\n",
    "                + (H[feature0, subject] + 1)\n",
    "                / jnp.power(\n",
    "                    1\n",
    "                    + (jnp.power(1 + H[feature0, subject], v[feature0, subject]) - 1)\n",
    "                    * jnp.exp(-b[feature0, subject] * (intensity - a[feature0, subject])),\n",
    "                    1 / v[feature0, subject]\n",
    "                )\n",
    "            )\n",
    "        )\n",
    "        beta = numpyro.deterministic(\n",
    "            site.beta,\n",
    "            g_1[feature0, subject]\n",
    "            + g_2[feature0, subject] * jnp.power(1 / mu, p[feature0, subject])\n",
    "        )\n",
    "\n",
    "        with numpyro.plate(site.data, n_data):\n",
    "            return numpyro.sample(\n",
    "                site.obs,\n",
    "                dist.Gamma(mu * beta, beta).to_event(1),\n",
    "                obs=response_obs\n",
    "            )\n",
    "\n",
    "\n",
    "model = RectifiedLogistic(config=config)"
   ]
  },
  {
   "cell_type": "code",
   "execution_count": 4,
   "metadata": {},
   "outputs": [
    {
     "name": "stderr",
     "output_type": "stream",
     "text": [
      "2023-07-18 10:43:00,923 - hbmep.dataset.core - INFO - Artefacts will be stored here - /home/vishu/reports/fix\n",
      "2023-07-18 10:43:00,924 - hbmep.dataset.core - INFO - Copied config to /home/vishu/reports/fix\n",
      "2023-07-18 10:43:00,924 - hbmep.dataset.core - INFO - Processing data ...\n",
      "2023-07-18 10:43:00,925 - hbmep.utils.utils - INFO - func:load took: 0.00 sec\n"
     ]
    }
   ],
   "source": [
    "df = pd.read_csv(model.csv_path)\n",
    "\n",
    "\"\"\" Filter \"\"\"\n",
    "# ind = df.compound_position.isin([\"-C5M\"])\n",
    "subset = [\n",
    "    (\"amap01\", \"-C5M\"),\n",
    "    (\"amap02\", \"-C5M\")\n",
    "]\n",
    "ind = df[model.columns].apply(tuple, axis=1).isin(subset)\n",
    "\n",
    "df = df[ind].copy()\n",
    "df.reset_index(drop=True, inplace=True)\n",
    "\n",
    "\"\"\" Load data \"\"\"\n",
    "df, encoder_dict = model.load(df=df)"
   ]
  },
  {
   "cell_type": "code",
   "execution_count": 5,
   "metadata": {},
   "outputs": [
    {
     "name": "stderr",
     "output_type": "stream",
     "text": [
      "2023-07-18 10:43:00,969 - hbmep.model.baseline - INFO - Running inference with rectified_logistic ...\n"
     ]
    },
    {
     "data": {
      "application/vnd.jupyter.widget-view+json": {
       "model_id": "5c7d6fa444f944dca6ab7c8476193ade",
       "version_major": 2,
       "version_minor": 0
      },
      "text/plain": [
       "  0%|          | 0/10000 [00:00<?, ?it/s]"
      ]
     },
     "metadata": {},
     "output_type": "display_data"
    },
    {
     "data": {
      "application/vnd.jupyter.widget-view+json": {
       "model_id": "4f6b38dfa9a549b28ba18703492db0c7",
       "version_major": 2,
       "version_minor": 0
      },
      "text/plain": [
       "  0%|          | 0/10000 [00:00<?, ?it/s]"
      ]
     },
     "metadata": {},
     "output_type": "display_data"
    },
    {
     "data": {
      "application/vnd.jupyter.widget-view+json": {
       "model_id": "24effe465b9e45ab9eb0d64d645fac7a",
       "version_major": 2,
       "version_minor": 0
      },
      "text/plain": [
       "  0%|          | 0/10000 [00:00<?, ?it/s]"
      ]
     },
     "metadata": {},
     "output_type": "display_data"
    },
    {
     "data": {
      "application/vnd.jupyter.widget-view+json": {
       "model_id": "a3ef6cb18966456883a6ea0795a28199",
       "version_major": 2,
       "version_minor": 0
      },
      "text/plain": [
       "  0%|          | 0/10000 [00:00<?, ?it/s]"
      ]
     },
     "metadata": {},
     "output_type": "display_data"
    },
    {
     "name": "stderr",
     "output_type": "stream",
     "text": [
      "2023-07-18 10:45:34,165 - hbmep.utils.utils - INFO - func:run_inference took: 2 min and 33.20 sec\n"
     ]
    }
   ],
   "source": [
    "mcmc, posterior_samples = model.run_inference(df=df)\n"
   ]
  },
  {
   "cell_type": "code",
   "execution_count": 9,
   "metadata": {},
   "outputs": [
    {
     "name": "stdout",
     "output_type": "stream",
     "text": [
      "\n",
      "                mean       std    median      2.5%     97.5%     n_eff     r_hat\n",
      "  H[0,0,0]     14.13    112.06      2.52      0.74     37.30   4956.91      1.00\n",
      "  H[0,0,1]      7.19    372.43      0.68      0.40     11.25  12342.72      1.00\n",
      "  H[0,1,0]     34.54    403.78      6.48      0.59     72.79   6411.11      1.00\n",
      "  H[0,1,1]     46.28    984.65      3.54      0.13     58.33   6871.97      1.00\n",
      "  L[0,0,0]      0.04      0.00      0.04      0.03      0.04  12763.06      1.00\n",
      "  L[0,0,1]      0.02      0.00      0.02      0.02      0.02  14438.52      1.00\n",
      "  L[0,1,0]      0.02      0.00      0.02      0.02      0.02  13147.25      1.00\n",
      "  L[0,1,1]      0.02      0.00      0.02      0.02      0.03   7935.47      1.00\n",
      "  a[0,0,0]    163.39      4.30    163.53    154.32    171.72   8798.85      1.00\n",
      "  a[0,0,1]    171.52      2.75    171.62    164.75    176.01   5915.58      1.00\n",
      "  a[0,1,0]    198.19      3.36    199.15    191.76    202.65   4480.74      1.00\n",
      "  a[0,1,1]    266.38      9.97    268.25    249.33    283.33   1710.91      1.00\n",
      "  b[0,0,0]      0.07      0.14      0.03      0.00      0.31   5558.89      1.00\n",
      "  b[0,0,1]      0.12      0.21      0.04      0.00      0.45   7073.40      1.00\n",
      "  b[0,1,0]      0.14      0.19      0.07      0.00      0.53   5399.67      1.00\n",
      "  b[0,1,1]      0.09      0.15      0.04      0.00      0.34   1857.59      1.00\n",
      "g_1[0,0,0]     28.87     19.44     25.91      0.01     64.84  11579.06      1.00\n",
      "g_1[0,0,1]     10.47      7.55      9.15      0.00     24.75   7465.92      1.00\n",
      "g_1[0,1,0]      3.06      1.15      2.96      0.95      5.33  15034.04      1.00\n",
      "g_1[0,1,1]     15.96     14.76     11.80      0.00     45.28  12249.99      1.00\n",
      "g_2[0,0,0]     21.93     15.71     19.15      0.02     51.51  10166.15      1.00\n",
      "g_2[0,0,1]      5.70      3.83      5.07      0.01     12.81   9272.68      1.00\n",
      "g_2[0,1,0]      0.17      0.18      0.11      0.00      0.52  10305.81      1.00\n",
      "g_2[0,1,1]      9.37      8.69      6.93      0.00     26.04   8836.77      1.00\n",
      "  p[0,0,0]      0.55      0.30      0.51      0.03      1.13   8344.65      1.00\n",
      "  p[0,0,1]      1.32      0.26      1.29      0.85      1.85   5815.27      1.00\n",
      "  p[0,1,0]      2.41      0.32      2.37      1.82      3.04   7589.90      1.00\n",
      "  p[0,1,1]      1.11      0.31      1.07      0.55      1.73   5774.88      1.00\n",
      "  v[0,0,0]     18.34     34.97      6.83      0.00     77.56   5480.68      1.00\n",
      "  v[0,0,1]     30.35     57.34     11.32      0.00    122.23   7164.06      1.00\n",
      "  v[0,1,0]     21.31     29.07     10.95      0.00     79.92   5673.95      1.00\n",
      "  v[0,1,1]     32.47     55.47     13.37      0.00    127.20   2292.90      1.00\n",
      "  µ_a[0,0]    155.50     35.01    161.34     60.89    222.26   5039.82      1.00\n",
      "  µ_a[0,1]    162.77     35.03    169.35     65.54    222.53   4542.59      1.00\n",
      "  µ_a[1,0]    182.98     43.32    194.68     63.52    254.20   2205.35      1.00\n",
      "  µ_a[1,1]    234.62     59.71    255.86     75.46    311.75   4219.46      1.00\n",
      "  σ_H[0,0]     18.11    114.57      4.77      0.30     47.87   4417.01      1.00\n",
      "  σ_H[0,1]     10.62    274.25      2.39      0.19     20.43   6549.27      1.00\n",
      "  σ_H[1,0]     42.37    517.92      8.37      0.44     93.08   7434.49      1.00\n",
      "  σ_H[1,1]     53.65   1020.70      5.65      0.12     72.89   6708.71      1.00\n",
      "  σ_L[0,0]      0.07      0.11      0.05      0.01      0.19   8182.45      1.00\n",
      "  σ_L[0,1]      0.05      0.08      0.03      0.01      0.15   9946.45      1.00\n",
      "  σ_L[1,0]      0.05      0.11      0.03      0.00      0.14   2693.94      1.00\n",
      "  σ_L[1,1]      0.06      0.10      0.04      0.01      0.15   8887.98      1.00\n",
      "  σ_a[0,0]     40.51    161.79     18.01      0.29    137.69  10358.66      1.00\n",
      "  σ_a[0,1]     39.88    101.19     18.01      0.25    138.79   6877.16      1.00\n",
      "  σ_a[1,0]     46.67    121.01     19.45      0.28    163.66   5604.45      1.00\n",
      "  σ_a[1,1]     63.43    213.52     23.78      0.60    232.16  10031.39      1.00\n",
      "  σ_b[0,0]      0.31      0.70      0.14      0.00      1.01  14799.75      1.00\n",
      "  σ_b[0,1]      0.38      0.91      0.19      0.00      1.23  12346.99      1.00\n",
      "  σ_b[1,0]      0.43      0.78      0.23      0.00      1.38  10398.81      1.00\n",
      "  σ_b[1,1]      0.34      0.85      0.16      0.00      1.11   4422.78      1.00\n",
      "  σ_v[0,0]     24.19     81.97      8.42      0.00     91.83   9232.88      1.00\n",
      "  σ_v[0,1]     39.30    115.88     12.28      0.00    149.06  10065.66      1.00\n",
      "  σ_v[1,0]     27.69     66.93     11.96      0.01     97.31   6721.10      1.00\n",
      "  σ_v[1,1]     40.38    102.96     13.99      0.00    154.12   3673.74      1.00\n",
      "\n",
      "Number of divergences: 4797\n"
     ]
    }
   ],
   "source": [
    "mcmc.print_summary(prob=.95)\n"
   ]
  },
  {
   "cell_type": "code",
   "execution_count": 7,
   "metadata": {},
   "outputs": [
    {
     "name": "stderr",
     "output_type": "stream",
     "text": [
      "2023-07-18 10:45:34,514 - hbmep.model.baseline - INFO - Rendering recruitment curves ...\n",
      "2023-07-18 10:45:39,964 - hbmep.model.baseline - INFO - Saved to /home/vishu/reports/fix/recruitment_curves.pdf\n",
      "2023-07-18 10:45:39,965 - hbmep.utils.utils - INFO - func:render_recruitment_curves took: 5.45 sec\n"
     ]
    }
   ],
   "source": [
    "model.render_recruitment_curves(df=df, encoder_dict=encoder_dict, posterior_samples=posterior_samples)\n"
   ]
  },
  {
   "cell_type": "code",
   "execution_count": 8,
   "metadata": {},
   "outputs": [
    {
     "name": "stderr",
     "output_type": "stream",
     "text": [
      "2023-07-18 10:45:40,279 - hbmep.model.baseline - INFO - Rendering Posterior Predictive Check ...\n",
      "2023-07-18 10:45:46,511 - hbmep.model.baseline - INFO - Saved to /home/vishu/reports/fix/posterior_predictive_check.pdf\n",
      "2023-07-18 10:45:46,515 - hbmep.utils.utils - INFO - func:render_predictive_check took: 6.24 sec\n"
     ]
    }
   ],
   "source": [
    "model.render_predictive_check(df=df, encoder_dict=encoder_dict, posterior_samples=posterior_samples)\n"
   ]
  },
  {
   "cell_type": "code",
   "execution_count": null,
   "metadata": {},
   "outputs": [],
   "source": []
  }
 ],
 "metadata": {
  "kernelspec": {
   "display_name": ".venv",
   "language": "python",
   "name": "python3"
  },
  "language_info": {
   "codemirror_mode": {
    "name": "ipython",
    "version": 3
   },
   "file_extension": ".py",
   "mimetype": "text/x-python",
   "name": "python",
   "nbconvert_exporter": "python",
   "pygments_lexer": "ipython3",
   "version": "3.11.4"
  },
  "orig_nbformat": 4,
  "vscode": {
   "interpreter": {
    "hash": "850bfd4e6f5ddd996dd5cd5088beecd08558625e274540230e1444ec52025b11"
   }
  }
 },
 "nbformat": 4,
 "nbformat_minor": 2
}
