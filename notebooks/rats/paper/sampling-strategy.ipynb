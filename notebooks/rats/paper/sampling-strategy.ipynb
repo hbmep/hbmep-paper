{
 "cells": [
  {
   "cell_type": "code",
   "execution_count": 1,
   "metadata": {},
   "outputs": [],
   "source": [
    "%reload_ext autoreload\n",
    "%autoreload 2\n",
    "\n",
    "import os\n",
    "import logging\n",
    "import multiprocessing\n",
    "from pathlib import Path\n",
    "from tqdm import tqdm\n",
    "\n",
    "import arviz as az\n",
    "import matplotlib\n",
    "import matplotlib.pyplot as plt\n",
    "import seaborn as sns\n",
    "\n",
    "import numpy as np\n",
    "import jax\n",
    "import jax.numpy as jnp\n",
    "import pandas as pd\n",
    "import scipy.stats as stats\n",
    "import numpyro\n",
    "from numpyro.diagnostics import hpdi\n",
    "\n",
    "from hbmep.config import Config\n",
    "from hbmep_paper.simulator import HierarchicalBayesianModel\n",
    "from hbmep.model.utils import Site as site\n",
    "\n",
    "PLATFORM = \"cpu\"\n",
    "jax.config.update(\"jax_platforms\", PLATFORM)\n",
    "numpyro.set_platform(PLATFORM)\n",
    "\n",
    "cpu_count = multiprocessing.cpu_count() - 2\n",
    "numpyro.set_host_device_count(cpu_count)\n",
    "numpyro.enable_x64()\n",
    "numpyro.enable_validation()\n",
    "\n",
    "logger = logging.getLogger(__name__)\n"
   ]
  },
  {
   "cell_type": "code",
   "execution_count": 6,
   "metadata": {},
   "outputs": [
    {
     "data": {
      "text/html": [
       "<div>\n",
       "<style scoped>\n",
       "    .dataframe tbody tr th:only-of-type {\n",
       "        vertical-align: middle;\n",
       "    }\n",
       "\n",
       "    .dataframe tbody tr th {\n",
       "        vertical-align: top;\n",
       "    }\n",
       "\n",
       "    .dataframe thead th {\n",
       "        text-align: right;\n",
       "    }\n",
       "</style>\n",
       "<table border=\"1\" class=\"dataframe\">\n",
       "  <thead>\n",
       "    <tr style=\"text-align: right;\">\n",
       "      <th></th>\n",
       "      <th>pulse_amplitude</th>\n",
       "      <th>compound_position</th>\n",
       "      <th>participant</th>\n",
       "      <th>Biceps</th>\n",
       "      <th>Triceps</th>\n",
       "      <th>APB</th>\n",
       "    </tr>\n",
       "  </thead>\n",
       "  <tbody>\n",
       "    <tr>\n",
       "      <th>0</th>\n",
       "      <td>0.0</td>\n",
       "      <td>0</td>\n",
       "      <td>0</td>\n",
       "      <td>0.016175</td>\n",
       "      <td>0.154478</td>\n",
       "      <td>0.014103</td>\n",
       "    </tr>\n",
       "    <tr>\n",
       "      <th>1</th>\n",
       "      <td>44.0</td>\n",
       "      <td>0</td>\n",
       "      <td>0</td>\n",
       "      <td>0.019536</td>\n",
       "      <td>0.114382</td>\n",
       "      <td>0.014754</td>\n",
       "    </tr>\n",
       "    <tr>\n",
       "      <th>2</th>\n",
       "      <td>88.0</td>\n",
       "      <td>0</td>\n",
       "      <td>0</td>\n",
       "      <td>0.016855</td>\n",
       "      <td>0.164685</td>\n",
       "      <td>0.011458</td>\n",
       "    </tr>\n",
       "    <tr>\n",
       "      <th>3</th>\n",
       "      <td>132.0</td>\n",
       "      <td>0</td>\n",
       "      <td>0</td>\n",
       "      <td>0.016967</td>\n",
       "      <td>0.146734</td>\n",
       "      <td>0.016941</td>\n",
       "    </tr>\n",
       "    <tr>\n",
       "      <th>4</th>\n",
       "      <td>176.0</td>\n",
       "      <td>0</td>\n",
       "      <td>0</td>\n",
       "      <td>0.013771</td>\n",
       "      <td>0.561963</td>\n",
       "      <td>0.876413</td>\n",
       "    </tr>\n",
       "    <tr>\n",
       "      <th>...</th>\n",
       "      <td>...</td>\n",
       "      <td>...</td>\n",
       "      <td>...</td>\n",
       "      <td>...</td>\n",
       "      <td>...</td>\n",
       "      <td>...</td>\n",
       "    </tr>\n",
       "    <tr>\n",
       "      <th>895</th>\n",
       "      <td>176.0</td>\n",
       "      <td>0</td>\n",
       "      <td>9</td>\n",
       "      <td>0.028445</td>\n",
       "      <td>0.000122</td>\n",
       "      <td>3.970674</td>\n",
       "    </tr>\n",
       "    <tr>\n",
       "      <th>896</th>\n",
       "      <td>224.0</td>\n",
       "      <td>0</td>\n",
       "      <td>9</td>\n",
       "      <td>0.042657</td>\n",
       "      <td>0.151382</td>\n",
       "      <td>6.816915</td>\n",
       "    </tr>\n",
       "    <tr>\n",
       "      <th>897</th>\n",
       "      <td>268.0</td>\n",
       "      <td>0</td>\n",
       "      <td>9</td>\n",
       "      <td>0.433376</td>\n",
       "      <td>0.476729</td>\n",
       "      <td>7.085731</td>\n",
       "    </tr>\n",
       "    <tr>\n",
       "      <th>898</th>\n",
       "      <td>312.0</td>\n",
       "      <td>0</td>\n",
       "      <td>9</td>\n",
       "      <td>0.950837</td>\n",
       "      <td>0.646506</td>\n",
       "      <td>7.978973</td>\n",
       "    </tr>\n",
       "    <tr>\n",
       "      <th>899</th>\n",
       "      <td>356.0</td>\n",
       "      <td>0</td>\n",
       "      <td>9</td>\n",
       "      <td>1.285035</td>\n",
       "      <td>0.992742</td>\n",
       "      <td>7.801035</td>\n",
       "    </tr>\n",
       "  </tbody>\n",
       "</table>\n",
       "<p>900 rows × 6 columns</p>\n",
       "</div>"
      ],
      "text/plain": [
       "     pulse_amplitude  compound_position  participant    Biceps   Triceps  \\\n",
       "0                0.0                  0            0  0.016175  0.154478   \n",
       "1               44.0                  0            0  0.019536  0.114382   \n",
       "2               88.0                  0            0  0.016855  0.164685   \n",
       "3              132.0                  0            0  0.016967  0.146734   \n",
       "4              176.0                  0            0  0.013771  0.561963   \n",
       "..               ...                ...          ...       ...       ...   \n",
       "895            176.0                  0            9  0.028445  0.000122   \n",
       "896            224.0                  0            9  0.042657  0.151382   \n",
       "897            268.0                  0            9  0.433376  0.476729   \n",
       "898            312.0                  0            9  0.950837  0.646506   \n",
       "899            356.0                  0            9  1.285035  0.992742   \n",
       "\n",
       "          APB  \n",
       "0    0.014103  \n",
       "1    0.014754  \n",
       "2    0.011458  \n",
       "3    0.016941  \n",
       "4    0.876413  \n",
       "..        ...  \n",
       "895  3.970674  \n",
       "896  6.816915  \n",
       "897  7.085731  \n",
       "898  7.978973  \n",
       "899  7.801035  \n",
       "\n",
       "[900 rows x 6 columns]"
      ]
     },
     "execution_count": 6,
     "metadata": {},
     "output_type": "execute_result"
    }
   ],
   "source": [
    "df"
   ]
  },
  {
   "cell_type": "code",
   "execution_count": 2,
   "metadata": {},
   "outputs": [
    {
     "name": "stderr",
     "output_type": "stream",
     "text": [
      "2023-09-13 11:47:14,283 - hbmep.config - INFO - Verifying configuration ...\n",
      "2023-09-13 11:47:14,283 - hbmep.config - INFO - Success!\n",
      "2023-09-13 11:47:14,304 - hbmep.model.baseline - INFO - Initialized model with hierarchical_bayesian link\n"
     ]
    }
   ],
   "source": [
    "root_path = Path(os.getcwd()).parent.parent.parent.absolute()\n",
    "toml_path = os.path.join(root_path, \"configs/simulation.toml\")\n",
    "\n",
    "config = Config(toml_path=toml_path)\n",
    "\n",
    "model = HierarchicalBayesianModel(config=config)\n",
    "\n"
   ]
  },
  {
   "cell_type": "code",
   "execution_count": 3,
   "metadata": {},
   "outputs": [
    {
     "name": "stderr",
     "output_type": "stream",
     "text": [
      "2023-09-13 11:47:14,504 - hbmep.model.baseline - INFO - Simulating data ...\n"
     ]
    },
    {
     "name": "stderr",
     "output_type": "stream",
     "text": [
      "2023-09-13 11:47:16,416 - hbmep.utils.utils - INFO - func:predict took: 1.91 sec\n",
      "2023-09-13 11:47:16,417 - hbmep.utils.utils - INFO - func:simulate took: 1.91 sec\n"
     ]
    },
    {
     "data": {
      "text/plain": [
       "(90, 4)"
      ]
     },
     "execution_count": 3,
     "metadata": {},
     "output_type": "execute_result"
    }
   ],
   "source": [
    "# Load data\n",
    "simulation_params = {\n",
    "    \"n_subject\": 1,\n",
    "    \"n_feature0\": 1,\n",
    "    \"n_repeats\": 10\n",
    "}\n",
    "df_full, posterior_samples_true = model.simulate(**simulation_params)\n",
    "\n",
    "obs = np.array(posterior_samples_true[site.obs])\n",
    "df_full[model.response] = obs[0, ...]\n",
    "\n",
    "df_full.shape"
   ]
  },
  {
   "cell_type": "code",
   "execution_count": 50,
   "metadata": {},
   "outputs": [
    {
     "name": "stderr",
     "output_type": "stream",
     "text": [
      "2023-09-13 12:42:32,634 - __main__ - INFO - (5, 4)\n",
      "2023-09-13 12:42:32,635 - hbmep.dataset.core - INFO - Artefacts will be stored here - /home/vishu/repos/hbmep-paper/reports/simulation/\n",
      "2023-09-13 12:42:32,635 - hbmep.dataset.core - INFO - Copied config to /home/vishu/repos/hbmep-paper/reports/simulation/\n",
      "2023-09-13 12:42:32,636 - hbmep.dataset.core - INFO - Processing data ...\n",
      "2023-09-13 12:42:32,637 - hbmep.utils.utils - INFO - func:load took: 0.00 sec\n",
      "2023-09-13 12:42:32,646 - hbmep.model.baseline - INFO - Running inference with hierarchical_bayesian ...\n"
     ]
    },
    {
     "data": {
      "application/vnd.jupyter.widget-view+json": {
       "model_id": "fcfdd78bf70c40b5b82f3f0e97bf1794",
       "version_major": 2,
       "version_minor": 0
      },
      "text/plain": [
       "  0%|          | 0/10000 [00:00<?, ?it/s]"
      ]
     },
     "metadata": {},
     "output_type": "display_data"
    },
    {
     "data": {
      "application/vnd.jupyter.widget-view+json": {
       "model_id": "a3e6516975fb40acb51f3b1a6e6d9147",
       "version_major": 2,
       "version_minor": 0
      },
      "text/plain": [
       "  0%|          | 0/10000 [00:00<?, ?it/s]"
      ]
     },
     "metadata": {},
     "output_type": "display_data"
    },
    {
     "data": {
      "application/vnd.jupyter.widget-view+json": {
       "model_id": "7bb494b71b6d478888879653a53ae5fd",
       "version_major": 2,
       "version_minor": 0
      },
      "text/plain": [
       "  0%|          | 0/10000 [00:00<?, ?it/s]"
      ]
     },
     "metadata": {},
     "output_type": "display_data"
    },
    {
     "data": {
      "application/vnd.jupyter.widget-view+json": {
       "model_id": "963fa22f994f434ca0a1617c81bc720e",
       "version_major": 2,
       "version_minor": 0
      },
      "text/plain": [
       "  0%|          | 0/10000 [00:00<?, ?it/s]"
      ]
     },
     "metadata": {},
     "output_type": "display_data"
    },
    {
     "name": "stderr",
     "output_type": "stream",
     "text": [
      "2023-09-13 12:42:39,989 - hbmep.utils.utils - INFO - func:run_inference took: 7.34 sec\n",
      "2023-09-13 12:42:41,160 - hbmep.utils.utils - INFO - func:predict took: 1.16 sec\n",
      "2023-09-13 12:42:41,600 - __main__ - INFO - (6, 4)\n",
      "2023-09-13 12:42:41,601 - hbmep.dataset.core - INFO - Artefacts will be stored here - /home/vishu/repos/hbmep-paper/reports/simulation/\n",
      "2023-09-13 12:42:41,602 - hbmep.dataset.core - INFO - Copied config to /home/vishu/repos/hbmep-paper/reports/simulation/\n",
      "2023-09-13 12:42:41,603 - hbmep.dataset.core - INFO - Processing data ...\n",
      "2023-09-13 12:42:41,604 - hbmep.utils.utils - INFO - func:load took: 0.00 sec\n",
      "2023-09-13 12:42:41,616 - hbmep.model.baseline - INFO - Running inference with hierarchical_bayesian ...\n"
     ]
    },
    {
     "data": {
      "application/vnd.jupyter.widget-view+json": {
       "model_id": "5832c4d931e74309ad7584fba73a57a7",
       "version_major": 2,
       "version_minor": 0
      },
      "text/plain": [
       "  0%|          | 0/10000 [00:00<?, ?it/s]"
      ]
     },
     "metadata": {},
     "output_type": "display_data"
    },
    {
     "data": {
      "application/vnd.jupyter.widget-view+json": {
       "model_id": "1b98ec07fb534cbbb5a03dbbc32a0aaf",
       "version_major": 2,
       "version_minor": 0
      },
      "text/plain": [
       "  0%|          | 0/10000 [00:00<?, ?it/s]"
      ]
     },
     "metadata": {},
     "output_type": "display_data"
    },
    {
     "data": {
      "application/vnd.jupyter.widget-view+json": {
       "model_id": "5926f1fd1e05478c93af62c7b0b12f34",
       "version_major": 2,
       "version_minor": 0
      },
      "text/plain": [
       "  0%|          | 0/10000 [00:00<?, ?it/s]"
      ]
     },
     "metadata": {},
     "output_type": "display_data"
    },
    {
     "data": {
      "application/vnd.jupyter.widget-view+json": {
       "model_id": "6c45918046e0465092c79ddc7766b07d",
       "version_major": 2,
       "version_minor": 0
      },
      "text/plain": [
       "  0%|          | 0/10000 [00:00<?, ?it/s]"
      ]
     },
     "metadata": {},
     "output_type": "display_data"
    },
    {
     "name": "stderr",
     "output_type": "stream",
     "text": [
      "2023-09-13 12:42:49,293 - hbmep.utils.utils - INFO - func:run_inference took: 7.68 sec\n",
      "2023-09-13 12:42:50,467 - hbmep.utils.utils - INFO - func:predict took: 1.17 sec\n",
      "2023-09-13 12:42:50,908 - __main__ - INFO - (9, 4)\n",
      "2023-09-13 12:42:50,909 - hbmep.dataset.core - INFO - Artefacts will be stored here - /home/vishu/repos/hbmep-paper/reports/simulation/\n",
      "2023-09-13 12:42:50,909 - hbmep.dataset.core - INFO - Copied config to /home/vishu/repos/hbmep-paper/reports/simulation/\n",
      "2023-09-13 12:42:50,910 - hbmep.dataset.core - INFO - Processing data ...\n",
      "2023-09-13 12:42:50,911 - hbmep.utils.utils - INFO - func:load took: 0.00 sec\n",
      "2023-09-13 12:42:50,923 - hbmep.model.baseline - INFO - Running inference with hierarchical_bayesian ...\n"
     ]
    },
    {
     "data": {
      "application/vnd.jupyter.widget-view+json": {
       "model_id": "1748de1760ad4cd5a18647488198e42d",
       "version_major": 2,
       "version_minor": 0
      },
      "text/plain": [
       "  0%|          | 0/10000 [00:00<?, ?it/s]"
      ]
     },
     "metadata": {},
     "output_type": "display_data"
    },
    {
     "data": {
      "application/vnd.jupyter.widget-view+json": {
       "model_id": "e56ad76c297641aaa8a0ac4c372362a1",
       "version_major": 2,
       "version_minor": 0
      },
      "text/plain": [
       "  0%|          | 0/10000 [00:00<?, ?it/s]"
      ]
     },
     "metadata": {},
     "output_type": "display_data"
    },
    {
     "data": {
      "application/vnd.jupyter.widget-view+json": {
       "model_id": "6ad21663721a4608a7046539c084640d",
       "version_major": 2,
       "version_minor": 0
      },
      "text/plain": [
       "  0%|          | 0/10000 [00:00<?, ?it/s]"
      ]
     },
     "metadata": {},
     "output_type": "display_data"
    },
    {
     "data": {
      "application/vnd.jupyter.widget-view+json": {
       "model_id": "2cc11a9362af413e96c8361b295ed266",
       "version_major": 2,
       "version_minor": 0
      },
      "text/plain": [
       "  0%|          | 0/10000 [00:00<?, ?it/s]"
      ]
     },
     "metadata": {},
     "output_type": "display_data"
    },
    {
     "name": "stderr",
     "output_type": "stream",
     "text": [
      "2023-09-13 12:42:58,710 - hbmep.utils.utils - INFO - func:run_inference took: 7.79 sec\n",
      "2023-09-13 12:42:59,887 - hbmep.utils.utils - INFO - func:predict took: 1.17 sec\n",
      "2023-09-13 12:43:00,333 - __main__ - INFO - (90, 4)\n",
      "2023-09-13 12:43:00,334 - hbmep.dataset.core - INFO - Artefacts will be stored here - /home/vishu/repos/hbmep-paper/reports/simulation/\n",
      "2023-09-13 12:43:00,335 - hbmep.dataset.core - INFO - Copied config to /home/vishu/repos/hbmep-paper/reports/simulation/\n",
      "2023-09-13 12:43:00,336 - hbmep.dataset.core - INFO - Processing data ...\n",
      "2023-09-13 12:43:00,337 - hbmep.utils.utils - INFO - func:load took: 0.00 sec\n",
      "2023-09-13 12:43:00,348 - hbmep.model.baseline - INFO - Running inference with hierarchical_bayesian ...\n"
     ]
    },
    {
     "data": {
      "application/vnd.jupyter.widget-view+json": {
       "model_id": "6c3eef70ea594558803d662da8444976",
       "version_major": 2,
       "version_minor": 0
      },
      "text/plain": [
       "  0%|          | 0/10000 [00:00<?, ?it/s]"
      ]
     },
     "metadata": {},
     "output_type": "display_data"
    },
    {
     "data": {
      "application/vnd.jupyter.widget-view+json": {
       "model_id": "eafe707b1fe24f0caa713f7f7c3b24c2",
       "version_major": 2,
       "version_minor": 0
      },
      "text/plain": [
       "  0%|          | 0/10000 [00:00<?, ?it/s]"
      ]
     },
     "metadata": {},
     "output_type": "display_data"
    },
    {
     "data": {
      "application/vnd.jupyter.widget-view+json": {
       "model_id": "b66311715e594ffe93777521141118be",
       "version_major": 2,
       "version_minor": 0
      },
      "text/plain": [
       "  0%|          | 0/10000 [00:00<?, ?it/s]"
      ]
     },
     "metadata": {},
     "output_type": "display_data"
    },
    {
     "data": {
      "application/vnd.jupyter.widget-view+json": {
       "model_id": "4df41147216a461b8e02fbc5a7ba0130",
       "version_major": 2,
       "version_minor": 0
      },
      "text/plain": [
       "  0%|          | 0/10000 [00:00<?, ?it/s]"
      ]
     },
     "metadata": {},
     "output_type": "display_data"
    },
    {
     "name": "stderr",
     "output_type": "stream",
     "text": [
      "2023-09-13 12:43:39,831 - hbmep.utils.utils - INFO - func:run_inference took: 39.48 sec\n",
      "2023-09-13 12:43:41,020 - hbmep.utils.utils - INFO - func:predict took: 1.18 sec\n"
     ]
    }
   ],
   "source": [
    "from matplotlib.backends.backend_pdf import PdfPages\n",
    "\n",
    "after_every_space = [20, 15, 10, 1]\n",
    "n_after_every_space = len(after_every_space)\n",
    "after_every_counter = 0\n",
    "\n",
    "nrows, ncols = len(after_every_space), 2\n",
    "fig, axes = plt.subplots(nrows=nrows, ncols=ncols, figsize=(3 * ncols, 3 * nrows), squeeze=False, constrained_layout=True)\n",
    "\n",
    "n_fig_rows = 10\n",
    "n_columns_per_response = 4\n",
    "n_fig_columns = n_columns_per_response * model.n_response\n",
    "\n",
    "n_combinations = n_after_every_space\n",
    "n_pdf_pages = n_combinations // n_fig_rows\n",
    "if n_combinations % n_fig_rows: n_pdf_pages += 1\n",
    "\n",
    "dst = os.path.join(model.build_dir, \"checks.pdf\")\n",
    "pdf = PdfPages(dst)\n",
    "\n",
    "for page in range(n_pdf_pages):\n",
    "    \"\"\" No. of rows for current page \"\"\"\n",
    "    n_rows_current_page = min(\n",
    "        n_fig_rows,\n",
    "        n_combinations - page * n_fig_rows\n",
    "    )\n",
    "\n",
    "    \"\"\" Figure for current page \"\"\"\n",
    "    fig, axes = plt.subplots(\n",
    "        n_rows_current_page,\n",
    "        n_fig_columns,\n",
    "        figsize=(\n",
    "            n_fig_columns * model.subplot_cell_width,\n",
    "            n_rows_current_page * model.subplot_cell_height\n",
    "        ),\n",
    "        constrained_layout=True,\n",
    "        squeeze=False,\n",
    "        sharex=\"col\"\n",
    "    )\n",
    "\n",
    "    for i in range(n_rows_current_page):\n",
    "        after_every = after_every_space[after_every_counter]\n",
    "        df = df_full.iloc[::after_every].reset_index(drop=True).copy()\n",
    "        logger.info(df.shape)\n",
    "\n",
    "        df, encoder_dict = model.load(df=df)\n",
    "\n",
    "        ax = axes[i, 0]\n",
    "        sns.scatterplot(x=df[model.intensity], y=df[model.response[0]], ax=ax)\n",
    "\n",
    "        mcmc, posterior_samples = model.run_inference(df=df)\n",
    "\n",
    "        pred_df = model._make_prediction_dataset(df=df)\n",
    "        obs_posterior = model.predict(df=pred_df, posterior_samples=posterior_samples)\n",
    "        mu_posterior = np.array(obs_posterior[site.mu])\n",
    "        obs_posterior = np.array(obs_posterior[site.obs])\n",
    "\n",
    "        \"\"\" Filter prediction dataframe based on current combination \"\"\"\n",
    "        temp_pred_df = pred_df.copy()\n",
    "\n",
    "        curr_obs_posterior = obs_posterior\n",
    "        curr_mu_posterior = mu_posterior\n",
    "\n",
    "        \"\"\" Posterior mean \"\"\"\n",
    "        curr_obs_posterior_mean = curr_obs_posterior.mean(axis=0)\n",
    "        curr_mu_posterior_mean = curr_mu_posterior.mean(axis=0)\n",
    "\n",
    "        \"\"\" HPDI intervals \"\"\"\n",
    "        hpdi_obs_95 = hpdi(curr_obs_posterior, prob=.95)\n",
    "        hpdi_obs_85 = hpdi(curr_obs_posterior, prob=.85)\n",
    "        hpdi_obs_65 = hpdi(curr_obs_posterior, prob=.65)\n",
    "\n",
    "        hpdi_mu_95 = hpdi(curr_mu_posterior, prob=.95)\n",
    "\n",
    "        \"\"\" Threshold \"\"\"\n",
    "        threshold_posterior = posterior_samples[site.a].reshape(-1,)\n",
    "        threshold = threshold_posterior.mean()\n",
    "        threshold_true = posterior_samples_true[site.a][0].reshape(-1,)\n",
    "        hpdi_interval = hpdi(threshold_posterior, prob=0.95)\n",
    "\n",
    "        ax = axes[i, 1]\n",
    "        sns.lineplot(x=temp_pred_df[model.intensity], y=curr_obs_posterior_mean[:, 0], color=\"k\", ax=ax, linestyle=\"dashed\")\n",
    "        sns.scatterplot(x=df[model.intensity], y=df[model.response[0]], ax=ax)\n",
    "        # sns.kdeplot(\n",
    "        #     x=threshold_posterior,\n",
    "        #     color=\"b\",\n",
    "        #     ax=ax,\n",
    "        #     alpha=.4\n",
    "        # )\n",
    "        ax.axvline(\n",
    "            threshold,\n",
    "            linestyle=\"--\",\n",
    "            color=\"r\",\n",
    "            label=f\"Predicted Threshold\"\n",
    "        )\n",
    "        ax.axvline(\n",
    "            threshold_true,\n",
    "            linestyle=\"--\",\n",
    "            color=\"g\",\n",
    "            label=f\"Actual Threshold\"\n",
    "        )\n",
    "        # ax.axvline(\n",
    "        #     hpdi_interval[0],\n",
    "        #     linestyle=\"--\",\n",
    "        #     color=\"grey\",\n",
    "        #     label=f\"95% HPDI Interval\"\n",
    "        # )\n",
    "        # ax.axvline(\n",
    "        #     hpdi_interval[1],\n",
    "        #     linestyle=\"--\",\n",
    "        #     color=\"grey\"\n",
    "        # )\n",
    "        ax.legend()\n",
    "\n",
    "        ax = axes[i, 2]\n",
    "        sns.kdeplot(\n",
    "            x=threshold_posterior,\n",
    "            color=\"b\",\n",
    "            ax=ax,\n",
    "            alpha=.4\n",
    "        )\n",
    "        ax.axvline(\n",
    "            threshold,\n",
    "            linestyle=\"--\",\n",
    "            color=\"r\",\n",
    "            label=f\"Predicted Threshold\"\n",
    "        )\n",
    "        ax.axvline(\n",
    "            threshold_true,\n",
    "            linestyle=\"--\",\n",
    "            color=\"g\",\n",
    "            label=f\"Actual Threshold\"\n",
    "        )\n",
    "        # ax.axvline(\n",
    "        #     hpdi_interval[0],\n",
    "        #     linestyle=\"--\",\n",
    "        #     color=\"grey\",\n",
    "        #     label=f\"95% HPDI Interval\"\n",
    "        # )\n",
    "        # ax.axvline(\n",
    "        #     hpdi_interval[1],\n",
    "        #     linestyle=\"--\",\n",
    "        #     color=\"grey\"\n",
    "        # )\n",
    "        ax.legend()\n",
    "\n",
    "        ax = axes[i, 3]\n",
    "        sns.lineplot(x=temp_pred_df[model.intensity], y=curr_obs_posterior_mean[:, 0], color=\"k\", ax=ax, linestyle=\"dashed\")\n",
    "        ax.fill_between(\n",
    "            temp_pred_df[model.intensity],\n",
    "            hpdi_mu_95[0, :, 0],\n",
    "            hpdi_mu_95[1, :, 0],\n",
    "            color=\"C1\",\n",
    "            linestyle=\"dashed\"\n",
    "        )\n",
    "        sns.scatterplot(\n",
    "            data=df,\n",
    "            x=model.intensity,\n",
    "            y=model.response[0],\n",
    "            color=\"y\",\n",
    "            edgecolor=\"black\",\n",
    "            ax=ax\n",
    "        )\n",
    "\n",
    "        after_every_counter += 1\n",
    "\n",
    "    pdf.savefig(fig)\n",
    "    plt.close()\n",
    "\n",
    "plt.close()\n",
    "pdf.close();\n"
   ]
  },
  {
   "cell_type": "code",
   "execution_count": 64,
   "metadata": {},
   "outputs": [
    {
     "data": {
      "text/plain": [
       "99"
      ]
     },
     "execution_count": 64,
     "metadata": {},
     "output_type": "execute_result"
    }
   ],
   "source": [
    "np.argmax(hpdi_mu_95[1, ...] - hpdi_mu_95[0, ...])"
   ]
  },
  {
   "cell_type": "code",
   "execution_count": 62,
   "metadata": {},
   "outputs": [
    {
     "data": {
      "text/html": [
       "<div>\n",
       "<style scoped>\n",
       "    .dataframe tbody tr th:only-of-type {\n",
       "        vertical-align: middle;\n",
       "    }\n",
       "\n",
       "    .dataframe tbody tr th {\n",
       "        vertical-align: top;\n",
       "    }\n",
       "\n",
       "    .dataframe thead th {\n",
       "        text-align: right;\n",
       "    }\n",
       "</style>\n",
       "<table border=\"1\" class=\"dataframe\">\n",
       "  <thead>\n",
       "    <tr style=\"text-align: right;\">\n",
       "      <th></th>\n",
       "      <th>participant</th>\n",
       "      <th>compound_position</th>\n",
       "      <th>pulse_amplitude</th>\n",
       "      <th>biceps</th>\n",
       "    </tr>\n",
       "  </thead>\n",
       "  <tbody>\n",
       "    <tr>\n",
       "      <th>0</th>\n",
       "      <td>0</td>\n",
       "      <td>0</td>\n",
       "      <td>0.0</td>\n",
       "      <td>0.004091</td>\n",
       "    </tr>\n",
       "    <tr>\n",
       "      <th>1</th>\n",
       "      <td>0</td>\n",
       "      <td>0</td>\n",
       "      <td>4.0</td>\n",
       "      <td>0.002846</td>\n",
       "    </tr>\n",
       "    <tr>\n",
       "      <th>2</th>\n",
       "      <td>0</td>\n",
       "      <td>0</td>\n",
       "      <td>8.0</td>\n",
       "      <td>0.000083</td>\n",
       "    </tr>\n",
       "    <tr>\n",
       "      <th>3</th>\n",
       "      <td>0</td>\n",
       "      <td>0</td>\n",
       "      <td>12.0</td>\n",
       "      <td>0.000087</td>\n",
       "    </tr>\n",
       "    <tr>\n",
       "      <th>4</th>\n",
       "      <td>0</td>\n",
       "      <td>0</td>\n",
       "      <td>16.0</td>\n",
       "      <td>0.001027</td>\n",
       "    </tr>\n",
       "    <tr>\n",
       "      <th>...</th>\n",
       "      <td>...</td>\n",
       "      <td>...</td>\n",
       "      <td>...</td>\n",
       "      <td>...</td>\n",
       "    </tr>\n",
       "    <tr>\n",
       "      <th>85</th>\n",
       "      <td>0</td>\n",
       "      <td>0</td>\n",
       "      <td>340.0</td>\n",
       "      <td>1.634435</td>\n",
       "    </tr>\n",
       "    <tr>\n",
       "      <th>86</th>\n",
       "      <td>0</td>\n",
       "      <td>0</td>\n",
       "      <td>344.0</td>\n",
       "      <td>1.538792</td>\n",
       "    </tr>\n",
       "    <tr>\n",
       "      <th>87</th>\n",
       "      <td>0</td>\n",
       "      <td>0</td>\n",
       "      <td>348.0</td>\n",
       "      <td>1.545144</td>\n",
       "    </tr>\n",
       "    <tr>\n",
       "      <th>88</th>\n",
       "      <td>0</td>\n",
       "      <td>0</td>\n",
       "      <td>352.0</td>\n",
       "      <td>1.763370</td>\n",
       "    </tr>\n",
       "    <tr>\n",
       "      <th>89</th>\n",
       "      <td>0</td>\n",
       "      <td>0</td>\n",
       "      <td>356.0</td>\n",
       "      <td>1.845276</td>\n",
       "    </tr>\n",
       "  </tbody>\n",
       "</table>\n",
       "<p>90 rows × 4 columns</p>\n",
       "</div>"
      ],
      "text/plain": [
       "    participant  compound_position  pulse_amplitude    biceps\n",
       "0             0                  0              0.0  0.004091\n",
       "1             0                  0              4.0  0.002846\n",
       "2             0                  0              8.0  0.000083\n",
       "3             0                  0             12.0  0.000087\n",
       "4             0                  0             16.0  0.001027\n",
       "..          ...                ...              ...       ...\n",
       "85            0                  0            340.0  1.634435\n",
       "86            0                  0            344.0  1.538792\n",
       "87            0                  0            348.0  1.545144\n",
       "88            0                  0            352.0  1.763370\n",
       "89            0                  0            356.0  1.845276\n",
       "\n",
       "[90 rows x 4 columns]"
      ]
     },
     "execution_count": 62,
     "metadata": {},
     "output_type": "execute_result"
    }
   ],
   "source": [
    "df_full"
   ]
  },
  {
   "cell_type": "code",
   "execution_count": 59,
   "metadata": {},
   "outputs": [
    {
     "data": {
      "text/html": [
       "<div>\n",
       "<style scoped>\n",
       "    .dataframe tbody tr th:only-of-type {\n",
       "        vertical-align: middle;\n",
       "    }\n",
       "\n",
       "    .dataframe tbody tr th {\n",
       "        vertical-align: top;\n",
       "    }\n",
       "\n",
       "    .dataframe thead th {\n",
       "        text-align: right;\n",
       "    }\n",
       "</style>\n",
       "<table border=\"1\" class=\"dataframe\">\n",
       "  <thead>\n",
       "    <tr style=\"text-align: right;\">\n",
       "      <th></th>\n",
       "      <th>participant</th>\n",
       "      <th>compound_position</th>\n",
       "      <th>pulse_amplitude</th>\n",
       "    </tr>\n",
       "  </thead>\n",
       "  <tbody>\n",
       "    <tr>\n",
       "      <th>0</th>\n",
       "      <td>0</td>\n",
       "      <td>0</td>\n",
       "      <td>0.000000</td>\n",
       "    </tr>\n",
       "    <tr>\n",
       "      <th>1</th>\n",
       "      <td>0</td>\n",
       "      <td>0</td>\n",
       "      <td>3.434343</td>\n",
       "    </tr>\n",
       "    <tr>\n",
       "      <th>2</th>\n",
       "      <td>0</td>\n",
       "      <td>0</td>\n",
       "      <td>6.868687</td>\n",
       "    </tr>\n",
       "    <tr>\n",
       "      <th>3</th>\n",
       "      <td>0</td>\n",
       "      <td>0</td>\n",
       "      <td>10.303030</td>\n",
       "    </tr>\n",
       "    <tr>\n",
       "      <th>4</th>\n",
       "      <td>0</td>\n",
       "      <td>0</td>\n",
       "      <td>13.737374</td>\n",
       "    </tr>\n",
       "    <tr>\n",
       "      <th>...</th>\n",
       "      <td>...</td>\n",
       "      <td>...</td>\n",
       "      <td>...</td>\n",
       "    </tr>\n",
       "    <tr>\n",
       "      <th>95</th>\n",
       "      <td>0</td>\n",
       "      <td>0</td>\n",
       "      <td>326.262626</td>\n",
       "    </tr>\n",
       "    <tr>\n",
       "      <th>96</th>\n",
       "      <td>0</td>\n",
       "      <td>0</td>\n",
       "      <td>329.696970</td>\n",
       "    </tr>\n",
       "    <tr>\n",
       "      <th>97</th>\n",
       "      <td>0</td>\n",
       "      <td>0</td>\n",
       "      <td>333.131313</td>\n",
       "    </tr>\n",
       "    <tr>\n",
       "      <th>98</th>\n",
       "      <td>0</td>\n",
       "      <td>0</td>\n",
       "      <td>336.565657</td>\n",
       "    </tr>\n",
       "    <tr>\n",
       "      <th>99</th>\n",
       "      <td>0</td>\n",
       "      <td>0</td>\n",
       "      <td>340.000000</td>\n",
       "    </tr>\n",
       "  </tbody>\n",
       "</table>\n",
       "<p>100 rows × 3 columns</p>\n",
       "</div>"
      ],
      "text/plain": [
       "    participant  compound_position  pulse_amplitude\n",
       "0             0                  0         0.000000\n",
       "1             0                  0         3.434343\n",
       "2             0                  0         6.868687\n",
       "3             0                  0        10.303030\n",
       "4             0                  0        13.737374\n",
       "..          ...                ...              ...\n",
       "95            0                  0       326.262626\n",
       "96            0                  0       329.696970\n",
       "97            0                  0       333.131313\n",
       "98            0                  0       336.565657\n",
       "99            0                  0       340.000000\n",
       "\n",
       "[100 rows x 3 columns]"
      ]
     },
     "execution_count": 59,
     "metadata": {},
     "output_type": "execute_result"
    }
   ],
   "source": [
    "pred_df"
   ]
  },
  {
   "cell_type": "code",
   "execution_count": 73,
   "metadata": {},
   "outputs": [
    {
     "data": {
      "text/plain": [
       "[0, 30, 60]"
      ]
     },
     "execution_count": 73,
     "metadata": {},
     "output_type": "execute_result"
    }
   ],
   "source": [
    "list(range(0, 90, 30))"
   ]
  },
  {
   "cell_type": "code",
   "execution_count": 228,
   "metadata": {},
   "outputs": [
    {
     "name": "stderr",
     "output_type": "stream",
     "text": [
      "2023-09-13 16:37:11,375 - __main__ - INFO - (4, 4)\n",
      "2023-09-13 16:37:11,375 - hbmep.dataset.core - INFO - Artefacts will be stored here - /home/vishu/repos/hbmep-paper/reports/simulation/\n",
      "2023-09-13 16:37:11,375 - hbmep.dataset.core - INFO - Copied config to /home/vishu/repos/hbmep-paper/reports/simulation/\n",
      "2023-09-13 16:37:11,376 - hbmep.dataset.core - INFO - Processing data ...\n",
      "2023-09-13 16:37:11,377 - hbmep.utils.utils - INFO - func:load took: 0.00 sec\n",
      "2023-09-13 16:37:11,386 - hbmep.model.baseline - INFO - Running inference with hierarchical_bayesian ...\n"
     ]
    },
    {
     "data": {
      "application/vnd.jupyter.widget-view+json": {
       "model_id": "fba3d931a77f48ab80c59414255aefd7",
       "version_major": 2,
       "version_minor": 0
      },
      "text/plain": [
       "  0%|          | 0/10000 [00:00<?, ?it/s]"
      ]
     },
     "metadata": {},
     "output_type": "display_data"
    },
    {
     "data": {
      "application/vnd.jupyter.widget-view+json": {
       "model_id": "eb54e0665dd948a3b3bb77b5b8556b28",
       "version_major": 2,
       "version_minor": 0
      },
      "text/plain": [
       "  0%|          | 0/10000 [00:00<?, ?it/s]"
      ]
     },
     "metadata": {},
     "output_type": "display_data"
    },
    {
     "data": {
      "application/vnd.jupyter.widget-view+json": {
       "model_id": "a2b63526812f47f7be4f5e8e954c34f9",
       "version_major": 2,
       "version_minor": 0
      },
      "text/plain": [
       "  0%|          | 0/10000 [00:00<?, ?it/s]"
      ]
     },
     "metadata": {},
     "output_type": "display_data"
    },
    {
     "data": {
      "application/vnd.jupyter.widget-view+json": {
       "model_id": "3192357faff041bd9bb627fcb0101b54",
       "version_major": 2,
       "version_minor": 0
      },
      "text/plain": [
       "  0%|          | 0/10000 [00:00<?, ?it/s]"
      ]
     },
     "metadata": {},
     "output_type": "display_data"
    },
    {
     "name": "stderr",
     "output_type": "stream",
     "text": [
      "2023-09-13 16:37:18,513 - hbmep.utils.utils - INFO - func:run_inference took: 7.13 sec\n",
      "2023-09-13 16:37:19,610 - hbmep.utils.utils - INFO - func:predict took: 1.09 sec\n",
      "/home/vishu/repos/hbmep-paper/.venv/lib/python3.11/site-packages/arviz/stats/stats.py:1037: RuntimeWarning: overflow encountered in exp\n",
      "  weights = 1 / np.exp(len_scale - len_scale[:, None]).sum(axis=1)\n",
      "/home/vishu/repos/hbmep-paper/.venv/lib/python3.11/site-packages/arviz/stats/stats.py:803: UserWarning: Estimated shape parameter of Pareto distribution is greater than 0.7 for one or more samples. You should consider using a more robust model, this is because importance sampling is less likely to work well if the marginal posterior and LOO posterior are very different. This is more likely to happen with a non-robust model and highly influential observations.\n",
      "  warnings.warn(\n",
      "/home/vishu/repos/hbmep-paper/.venv/lib/python3.11/site-packages/arviz/stats/stats.py:1645: UserWarning: For one or more samples the posterior variance of the log predictive densities exceeds 0.4. This could be indication of WAIC starting to fail. \n",
      "See http://arxiv.org/abs/1507.04544 for details\n",
      "  warnings.warn(\n",
      "2023-09-13 16:37:20,167 - __main__ - INFO - (5, 4)\n",
      "2023-09-13 16:37:20,168 - hbmep.dataset.core - INFO - Artefacts will be stored here - /home/vishu/repos/hbmep-paper/reports/simulation/\n",
      "2023-09-13 16:37:20,168 - hbmep.dataset.core - INFO - Copied config to /home/vishu/repos/hbmep-paper/reports/simulation/\n",
      "2023-09-13 16:37:20,169 - hbmep.dataset.core - INFO - Processing data ...\n",
      "2023-09-13 16:37:20,170 - hbmep.utils.utils - INFO - func:load took: 0.00 sec\n",
      "2023-09-13 16:37:20,181 - hbmep.model.baseline - INFO - Running inference with hierarchical_bayesian ...\n"
     ]
    },
    {
     "data": {
      "application/vnd.jupyter.widget-view+json": {
       "model_id": "87a80c61515d4200912b7cb16f747e6c",
       "version_major": 2,
       "version_minor": 0
      },
      "text/plain": [
       "  0%|          | 0/10000 [00:00<?, ?it/s]"
      ]
     },
     "metadata": {},
     "output_type": "display_data"
    },
    {
     "data": {
      "application/vnd.jupyter.widget-view+json": {
       "model_id": "2b53e291b3b348e19675bed3e4d76d29",
       "version_major": 2,
       "version_minor": 0
      },
      "text/plain": [
       "  0%|          | 0/10000 [00:00<?, ?it/s]"
      ]
     },
     "metadata": {},
     "output_type": "display_data"
    },
    {
     "data": {
      "application/vnd.jupyter.widget-view+json": {
       "model_id": "5332e644a56345a48d2c619538d7cb21",
       "version_major": 2,
       "version_minor": 0
      },
      "text/plain": [
       "  0%|          | 0/10000 [00:00<?, ?it/s]"
      ]
     },
     "metadata": {},
     "output_type": "display_data"
    },
    {
     "data": {
      "application/vnd.jupyter.widget-view+json": {
       "model_id": "244e3f10e21347d48de37a9e8c0c6d1f",
       "version_major": 2,
       "version_minor": 0
      },
      "text/plain": [
       "  0%|          | 0/10000 [00:00<?, ?it/s]"
      ]
     },
     "metadata": {},
     "output_type": "display_data"
    },
    {
     "name": "stderr",
     "output_type": "stream",
     "text": [
      "2023-09-13 16:37:28,128 - hbmep.utils.utils - INFO - func:run_inference took: 7.95 sec\n",
      "2023-09-13 16:37:29,221 - hbmep.utils.utils - INFO - func:predict took: 1.09 sec\n",
      "/home/vishu/repos/hbmep-paper/.venv/lib/python3.11/site-packages/arviz/stats/stats.py:1037: RuntimeWarning: overflow encountered in exp\n",
      "  weights = 1 / np.exp(len_scale - len_scale[:, None]).sum(axis=1)\n",
      "/home/vishu/repos/hbmep-paper/.venv/lib/python3.11/site-packages/arviz/stats/stats.py:803: UserWarning: Estimated shape parameter of Pareto distribution is greater than 0.7 for one or more samples. You should consider using a more robust model, this is because importance sampling is less likely to work well if the marginal posterior and LOO posterior are very different. This is more likely to happen with a non-robust model and highly influential observations.\n",
      "  warnings.warn(\n",
      "/home/vishu/repos/hbmep-paper/.venv/lib/python3.11/site-packages/arviz/stats/stats.py:1645: UserWarning: For one or more samples the posterior variance of the log predictive densities exceeds 0.4. This could be indication of WAIC starting to fail. \n",
      "See http://arxiv.org/abs/1507.04544 for details\n",
      "  warnings.warn(\n",
      "2023-09-13 16:37:29,783 - __main__ - INFO - (6, 4)\n",
      "2023-09-13 16:37:29,783 - hbmep.dataset.core - INFO - Artefacts will be stored here - /home/vishu/repos/hbmep-paper/reports/simulation/\n",
      "2023-09-13 16:37:29,784 - hbmep.dataset.core - INFO - Copied config to /home/vishu/repos/hbmep-paper/reports/simulation/\n",
      "2023-09-13 16:37:29,785 - hbmep.dataset.core - INFO - Processing data ...\n",
      "2023-09-13 16:37:29,786 - hbmep.utils.utils - INFO - func:load took: 0.00 sec\n",
      "2023-09-13 16:37:29,805 - hbmep.model.baseline - INFO - Running inference with hierarchical_bayesian ...\n"
     ]
    },
    {
     "data": {
      "application/vnd.jupyter.widget-view+json": {
       "model_id": "a6ba2f90747c4db6ab7b4c2aa83c428f",
       "version_major": 2,
       "version_minor": 0
      },
      "text/plain": [
       "  0%|          | 0/10000 [00:00<?, ?it/s]"
      ]
     },
     "metadata": {},
     "output_type": "display_data"
    },
    {
     "data": {
      "application/vnd.jupyter.widget-view+json": {
       "model_id": "abc5a119b4bf4f1fb94ddf770ed9d62d",
       "version_major": 2,
       "version_minor": 0
      },
      "text/plain": [
       "  0%|          | 0/10000 [00:00<?, ?it/s]"
      ]
     },
     "metadata": {},
     "output_type": "display_data"
    },
    {
     "data": {
      "application/vnd.jupyter.widget-view+json": {
       "model_id": "917ead98b51f48b2989dd985730cb731",
       "version_major": 2,
       "version_minor": 0
      },
      "text/plain": [
       "  0%|          | 0/10000 [00:00<?, ?it/s]"
      ]
     },
     "metadata": {},
     "output_type": "display_data"
    },
    {
     "data": {
      "application/vnd.jupyter.widget-view+json": {
       "model_id": "ad9529e56db54c2382c4565c701b8352",
       "version_major": 2,
       "version_minor": 0
      },
      "text/plain": [
       "  0%|          | 0/10000 [00:00<?, ?it/s]"
      ]
     },
     "metadata": {},
     "output_type": "display_data"
    },
    {
     "name": "stderr",
     "output_type": "stream",
     "text": [
      "2023-09-13 16:37:38,348 - hbmep.utils.utils - INFO - func:run_inference took: 8.54 sec\n",
      "2023-09-13 16:37:42,257 - hbmep.utils.utils - INFO - func:predict took: 3.91 sec\n",
      "/home/vishu/repos/hbmep-paper/.venv/lib/python3.11/site-packages/arviz/stats/stats.py:803: UserWarning: Estimated shape parameter of Pareto distribution is greater than 0.7 for one or more samples. You should consider using a more robust model, this is because importance sampling is less likely to work well if the marginal posterior and LOO posterior are very different. This is more likely to happen with a non-robust model and highly influential observations.\n",
      "  warnings.warn(\n",
      "/home/vishu/repos/hbmep-paper/.venv/lib/python3.11/site-packages/arviz/stats/stats.py:1645: UserWarning: For one or more samples the posterior variance of the log predictive densities exceeds 0.4. This could be indication of WAIC starting to fail. \n",
      "See http://arxiv.org/abs/1507.04544 for details\n",
      "  warnings.warn(\n",
      "2023-09-13 16:37:42,804 - __main__ - INFO - (7, 4)\n",
      "2023-09-13 16:37:42,805 - hbmep.dataset.core - INFO - Artefacts will be stored here - /home/vishu/repos/hbmep-paper/reports/simulation/\n",
      "2023-09-13 16:37:42,805 - hbmep.dataset.core - INFO - Copied config to /home/vishu/repos/hbmep-paper/reports/simulation/\n",
      "2023-09-13 16:37:42,806 - hbmep.dataset.core - INFO - Processing data ...\n",
      "2023-09-13 16:37:42,807 - hbmep.utils.utils - INFO - func:load took: 0.00 sec\n",
      "2023-09-13 16:37:42,819 - hbmep.model.baseline - INFO - Running inference with hierarchical_bayesian ...\n"
     ]
    },
    {
     "data": {
      "application/vnd.jupyter.widget-view+json": {
       "model_id": "22059c4fa7e244b2a76e015c041059c7",
       "version_major": 2,
       "version_minor": 0
      },
      "text/plain": [
       "  0%|          | 0/10000 [00:00<?, ?it/s]"
      ]
     },
     "metadata": {},
     "output_type": "display_data"
    },
    {
     "data": {
      "application/vnd.jupyter.widget-view+json": {
       "model_id": "c41c0acfba87472d9c5026eddb8910f5",
       "version_major": 2,
       "version_minor": 0
      },
      "text/plain": [
       "  0%|          | 0/10000 [00:00<?, ?it/s]"
      ]
     },
     "metadata": {},
     "output_type": "display_data"
    },
    {
     "data": {
      "application/vnd.jupyter.widget-view+json": {
       "model_id": "c0a6e449afa64d15b60bcc5c8e109dbc",
       "version_major": 2,
       "version_minor": 0
      },
      "text/plain": [
       "  0%|          | 0/10000 [00:00<?, ?it/s]"
      ]
     },
     "metadata": {},
     "output_type": "display_data"
    },
    {
     "data": {
      "application/vnd.jupyter.widget-view+json": {
       "model_id": "539c220a5e0443ffa889557d897c06b1",
       "version_major": 2,
       "version_minor": 0
      },
      "text/plain": [
       "  0%|          | 0/10000 [00:00<?, ?it/s]"
      ]
     },
     "metadata": {},
     "output_type": "display_data"
    },
    {
     "name": "stderr",
     "output_type": "stream",
     "text": [
      "2023-09-13 16:37:52,856 - hbmep.utils.utils - INFO - func:run_inference took: 10.04 sec\n",
      "2023-09-13 16:37:53,960 - hbmep.utils.utils - INFO - func:predict took: 1.10 sec\n",
      "/home/vishu/repos/hbmep-paper/.venv/lib/python3.11/site-packages/arviz/stats/stats.py:803: UserWarning: Estimated shape parameter of Pareto distribution is greater than 0.7 for one or more samples. You should consider using a more robust model, this is because importance sampling is less likely to work well if the marginal posterior and LOO posterior are very different. This is more likely to happen with a non-robust model and highly influential observations.\n",
      "  warnings.warn(\n",
      "/home/vishu/repos/hbmep-paper/.venv/lib/python3.11/site-packages/arviz/stats/stats.py:1645: UserWarning: For one or more samples the posterior variance of the log predictive densities exceeds 0.4. This could be indication of WAIC starting to fail. \n",
      "See http://arxiv.org/abs/1507.04544 for details\n",
      "  warnings.warn(\n",
      "2023-09-13 16:37:54,511 - __main__ - INFO - (8, 4)\n",
      "2023-09-13 16:37:54,511 - hbmep.dataset.core - INFO - Artefacts will be stored here - /home/vishu/repos/hbmep-paper/reports/simulation/\n",
      "2023-09-13 16:37:54,511 - hbmep.dataset.core - INFO - Copied config to /home/vishu/repos/hbmep-paper/reports/simulation/\n",
      "2023-09-13 16:37:54,512 - hbmep.dataset.core - INFO - Processing data ...\n",
      "2023-09-13 16:37:54,513 - hbmep.utils.utils - INFO - func:load took: 0.00 sec\n",
      "2023-09-13 16:37:54,525 - hbmep.model.baseline - INFO - Running inference with hierarchical_bayesian ...\n"
     ]
    },
    {
     "data": {
      "application/vnd.jupyter.widget-view+json": {
       "model_id": "a178cd4c632e40a78e27e2e20aea310a",
       "version_major": 2,
       "version_minor": 0
      },
      "text/plain": [
       "  0%|          | 0/10000 [00:00<?, ?it/s]"
      ]
     },
     "metadata": {},
     "output_type": "display_data"
    },
    {
     "data": {
      "application/vnd.jupyter.widget-view+json": {
       "model_id": "fc0b8177f32a455f9d6854ab3045f12b",
       "version_major": 2,
       "version_minor": 0
      },
      "text/plain": [
       "  0%|          | 0/10000 [00:00<?, ?it/s]"
      ]
     },
     "metadata": {},
     "output_type": "display_data"
    },
    {
     "data": {
      "application/vnd.jupyter.widget-view+json": {
       "model_id": "433e5f830bea4e69b5f65bafd8f36fd2",
       "version_major": 2,
       "version_minor": 0
      },
      "text/plain": [
       "  0%|          | 0/10000 [00:00<?, ?it/s]"
      ]
     },
     "metadata": {},
     "output_type": "display_data"
    },
    {
     "data": {
      "application/vnd.jupyter.widget-view+json": {
       "model_id": "41e35bf6b58f4c26ad2a98030dfbd32a",
       "version_major": 2,
       "version_minor": 0
      },
      "text/plain": [
       "  0%|          | 0/10000 [00:00<?, ?it/s]"
      ]
     },
     "metadata": {},
     "output_type": "display_data"
    },
    {
     "name": "stderr",
     "output_type": "stream",
     "text": [
      "2023-09-13 16:38:04,454 - hbmep.utils.utils - INFO - func:run_inference took: 9.93 sec\n",
      "2023-09-13 16:38:05,547 - hbmep.utils.utils - INFO - func:predict took: 1.09 sec\n",
      "/home/vishu/repos/hbmep-paper/.venv/lib/python3.11/site-packages/arviz/stats/stats.py:803: UserWarning: Estimated shape parameter of Pareto distribution is greater than 0.7 for one or more samples. You should consider using a more robust model, this is because importance sampling is less likely to work well if the marginal posterior and LOO posterior are very different. This is more likely to happen with a non-robust model and highly influential observations.\n",
      "  warnings.warn(\n",
      "/home/vishu/repos/hbmep-paper/.venv/lib/python3.11/site-packages/arviz/stats/stats.py:1645: UserWarning: For one or more samples the posterior variance of the log predictive densities exceeds 0.4. This could be indication of WAIC starting to fail. \n",
      "See http://arxiv.org/abs/1507.04544 for details\n",
      "  warnings.warn(\n",
      "2023-09-13 16:38:06,097 - __main__ - INFO - (9, 4)\n",
      "2023-09-13 16:38:06,097 - hbmep.dataset.core - INFO - Artefacts will be stored here - /home/vishu/repos/hbmep-paper/reports/simulation/\n",
      "2023-09-13 16:38:06,098 - hbmep.dataset.core - INFO - Copied config to /home/vishu/repos/hbmep-paper/reports/simulation/\n",
      "2023-09-13 16:38:06,098 - hbmep.dataset.core - INFO - Processing data ...\n",
      "2023-09-13 16:38:06,099 - hbmep.utils.utils - INFO - func:load took: 0.00 sec\n",
      "2023-09-13 16:38:06,111 - hbmep.model.baseline - INFO - Running inference with hierarchical_bayesian ...\n"
     ]
    },
    {
     "data": {
      "application/vnd.jupyter.widget-view+json": {
       "model_id": "8301c5e10781444e8164f593e4dce9a9",
       "version_major": 2,
       "version_minor": 0
      },
      "text/plain": [
       "  0%|          | 0/10000 [00:00<?, ?it/s]"
      ]
     },
     "metadata": {},
     "output_type": "display_data"
    },
    {
     "data": {
      "application/vnd.jupyter.widget-view+json": {
       "model_id": "4ef8dc97a0fd42d48ac74143897585f0",
       "version_major": 2,
       "version_minor": 0
      },
      "text/plain": [
       "  0%|          | 0/10000 [00:00<?, ?it/s]"
      ]
     },
     "metadata": {},
     "output_type": "display_data"
    },
    {
     "data": {
      "application/vnd.jupyter.widget-view+json": {
       "model_id": "9e97d4a2b872448fb547b33aa549ec24",
       "version_major": 2,
       "version_minor": 0
      },
      "text/plain": [
       "  0%|          | 0/10000 [00:00<?, ?it/s]"
      ]
     },
     "metadata": {},
     "output_type": "display_data"
    },
    {
     "data": {
      "application/vnd.jupyter.widget-view+json": {
       "model_id": "6aaf8ec106b94ae398e37182ffd1a37a",
       "version_major": 2,
       "version_minor": 0
      },
      "text/plain": [
       "  0%|          | 0/10000 [00:00<?, ?it/s]"
      ]
     },
     "metadata": {},
     "output_type": "display_data"
    },
    {
     "name": "stderr",
     "output_type": "stream",
     "text": [
      "2023-09-13 16:38:15,529 - hbmep.utils.utils - INFO - func:run_inference took: 9.42 sec\n",
      "2023-09-13 16:38:16,629 - hbmep.utils.utils - INFO - func:predict took: 1.10 sec\n",
      "/home/vishu/repos/hbmep-paper/.venv/lib/python3.11/site-packages/arviz/stats/stats.py:803: UserWarning: Estimated shape parameter of Pareto distribution is greater than 0.7 for one or more samples. You should consider using a more robust model, this is because importance sampling is less likely to work well if the marginal posterior and LOO posterior are very different. This is more likely to happen with a non-robust model and highly influential observations.\n",
      "  warnings.warn(\n",
      "/home/vishu/repos/hbmep-paper/.venv/lib/python3.11/site-packages/arviz/stats/stats.py:1645: UserWarning: For one or more samples the posterior variance of the log predictive densities exceeds 0.4. This could be indication of WAIC starting to fail. \n",
      "See http://arxiv.org/abs/1507.04544 for details\n",
      "  warnings.warn(\n",
      "2023-09-13 16:38:17,184 - __main__ - INFO - (10, 4)\n",
      "2023-09-13 16:38:17,185 - hbmep.dataset.core - INFO - Artefacts will be stored here - /home/vishu/repos/hbmep-paper/reports/simulation/\n",
      "2023-09-13 16:38:17,185 - hbmep.dataset.core - INFO - Copied config to /home/vishu/repos/hbmep-paper/reports/simulation/\n",
      "2023-09-13 16:38:17,186 - hbmep.dataset.core - INFO - Processing data ...\n",
      "2023-09-13 16:38:17,187 - hbmep.utils.utils - INFO - func:load took: 0.00 sec\n",
      "2023-09-13 16:38:17,199 - hbmep.model.baseline - INFO - Running inference with hierarchical_bayesian ...\n"
     ]
    },
    {
     "data": {
      "application/vnd.jupyter.widget-view+json": {
       "model_id": "5303ca0d70f3440884d7aa87d91c768e",
       "version_major": 2,
       "version_minor": 0
      },
      "text/plain": [
       "  0%|          | 0/10000 [00:00<?, ?it/s]"
      ]
     },
     "metadata": {},
     "output_type": "display_data"
    },
    {
     "data": {
      "application/vnd.jupyter.widget-view+json": {
       "model_id": "0448b91bd1d34db680186b753c6f5e76",
       "version_major": 2,
       "version_minor": 0
      },
      "text/plain": [
       "  0%|          | 0/10000 [00:00<?, ?it/s]"
      ]
     },
     "metadata": {},
     "output_type": "display_data"
    },
    {
     "data": {
      "application/vnd.jupyter.widget-view+json": {
       "model_id": "120abb8843c74749b09caf2318c69e7b",
       "version_major": 2,
       "version_minor": 0
      },
      "text/plain": [
       "  0%|          | 0/10000 [00:00<?, ?it/s]"
      ]
     },
     "metadata": {},
     "output_type": "display_data"
    },
    {
     "data": {
      "application/vnd.jupyter.widget-view+json": {
       "model_id": "a76bc2b0c0ac49eb94c9cc320421a030",
       "version_major": 2,
       "version_minor": 0
      },
      "text/plain": [
       "  0%|          | 0/10000 [00:00<?, ?it/s]"
      ]
     },
     "metadata": {},
     "output_type": "display_data"
    },
    {
     "name": "stderr",
     "output_type": "stream",
     "text": [
      "2023-09-13 16:38:27,381 - hbmep.utils.utils - INFO - func:run_inference took: 10.18 sec\n",
      "2023-09-13 16:38:28,523 - hbmep.utils.utils - INFO - func:predict took: 1.14 sec\n",
      "/home/vishu/repos/hbmep-paper/.venv/lib/python3.11/site-packages/arviz/stats/stats.py:803: UserWarning: Estimated shape parameter of Pareto distribution is greater than 0.7 for one or more samples. You should consider using a more robust model, this is because importance sampling is less likely to work well if the marginal posterior and LOO posterior are very different. This is more likely to happen with a non-robust model and highly influential observations.\n",
      "  warnings.warn(\n",
      "/home/vishu/repos/hbmep-paper/.venv/lib/python3.11/site-packages/arviz/stats/stats.py:1645: UserWarning: For one or more samples the posterior variance of the log predictive densities exceeds 0.4. This could be indication of WAIC starting to fail. \n",
      "See http://arxiv.org/abs/1507.04544 for details\n",
      "  warnings.warn(\n",
      "2023-09-13 16:38:29,079 - __main__ - INFO - (11, 4)\n",
      "2023-09-13 16:38:29,079 - hbmep.dataset.core - INFO - Artefacts will be stored here - /home/vishu/repos/hbmep-paper/reports/simulation/\n",
      "2023-09-13 16:38:29,081 - hbmep.dataset.core - INFO - Copied config to /home/vishu/repos/hbmep-paper/reports/simulation/\n",
      "2023-09-13 16:38:29,081 - hbmep.dataset.core - INFO - Processing data ...\n",
      "2023-09-13 16:38:29,082 - hbmep.utils.utils - INFO - func:load took: 0.00 sec\n",
      "2023-09-13 16:38:29,096 - hbmep.model.baseline - INFO - Running inference with hierarchical_bayesian ...\n"
     ]
    },
    {
     "data": {
      "application/vnd.jupyter.widget-view+json": {
       "model_id": "00becf949d3747d49daf0ba6fa6aff90",
       "version_major": 2,
       "version_minor": 0
      },
      "text/plain": [
       "  0%|          | 0/10000 [00:00<?, ?it/s]"
      ]
     },
     "metadata": {},
     "output_type": "display_data"
    },
    {
     "data": {
      "application/vnd.jupyter.widget-view+json": {
       "model_id": "87d874439f0a4b45b96ae83955002cfd",
       "version_major": 2,
       "version_minor": 0
      },
      "text/plain": [
       "  0%|          | 0/10000 [00:00<?, ?it/s]"
      ]
     },
     "metadata": {},
     "output_type": "display_data"
    },
    {
     "data": {
      "application/vnd.jupyter.widget-view+json": {
       "model_id": "d27a2c04911c42efacddaa5f75998dc3",
       "version_major": 2,
       "version_minor": 0
      },
      "text/plain": [
       "  0%|          | 0/10000 [00:00<?, ?it/s]"
      ]
     },
     "metadata": {},
     "output_type": "display_data"
    },
    {
     "data": {
      "application/vnd.jupyter.widget-view+json": {
       "model_id": "db3c417452934aa1bf8a4f9ccf164719",
       "version_major": 2,
       "version_minor": 0
      },
      "text/plain": [
       "  0%|          | 0/10000 [00:00<?, ?it/s]"
      ]
     },
     "metadata": {},
     "output_type": "display_data"
    },
    {
     "name": "stderr",
     "output_type": "stream",
     "text": [
      "2023-09-13 16:38:39,881 - hbmep.utils.utils - INFO - func:run_inference took: 10.79 sec\n",
      "2023-09-13 16:38:40,983 - hbmep.utils.utils - INFO - func:predict took: 1.10 sec\n",
      "/home/vishu/repos/hbmep-paper/.venv/lib/python3.11/site-packages/arviz/stats/stats.py:803: UserWarning: Estimated shape parameter of Pareto distribution is greater than 0.7 for one or more samples. You should consider using a more robust model, this is because importance sampling is less likely to work well if the marginal posterior and LOO posterior are very different. This is more likely to happen with a non-robust model and highly influential observations.\n",
      "  warnings.warn(\n",
      "/home/vishu/repos/hbmep-paper/.venv/lib/python3.11/site-packages/arviz/stats/stats.py:1645: UserWarning: For one or more samples the posterior variance of the log predictive densities exceeds 0.4. This could be indication of WAIC starting to fail. \n",
      "See http://arxiv.org/abs/1507.04544 for details\n",
      "  warnings.warn(\n",
      "2023-09-13 16:38:41,546 - __main__ - INFO - (12, 4)\n",
      "2023-09-13 16:38:41,547 - hbmep.dataset.core - INFO - Artefacts will be stored here - /home/vishu/repos/hbmep-paper/reports/simulation/\n",
      "2023-09-13 16:38:41,547 - hbmep.dataset.core - INFO - Copied config to /home/vishu/repos/hbmep-paper/reports/simulation/\n",
      "2023-09-13 16:38:41,548 - hbmep.dataset.core - INFO - Processing data ...\n",
      "2023-09-13 16:38:41,549 - hbmep.utils.utils - INFO - func:load took: 0.00 sec\n",
      "2023-09-13 16:38:41,561 - hbmep.model.baseline - INFO - Running inference with hierarchical_bayesian ...\n"
     ]
    },
    {
     "data": {
      "application/vnd.jupyter.widget-view+json": {
       "model_id": "fbae9bc564044cc8b4a2f49f36ea81e5",
       "version_major": 2,
       "version_minor": 0
      },
      "text/plain": [
       "  0%|          | 0/10000 [00:00<?, ?it/s]"
      ]
     },
     "metadata": {},
     "output_type": "display_data"
    },
    {
     "data": {
      "application/vnd.jupyter.widget-view+json": {
       "model_id": "424ec1207a2b4f3bb5e9ced869a22d74",
       "version_major": 2,
       "version_minor": 0
      },
      "text/plain": [
       "  0%|          | 0/10000 [00:00<?, ?it/s]"
      ]
     },
     "metadata": {},
     "output_type": "display_data"
    },
    {
     "data": {
      "application/vnd.jupyter.widget-view+json": {
       "model_id": "3ffb07e8790c4bc4aa12634192d9af29",
       "version_major": 2,
       "version_minor": 0
      },
      "text/plain": [
       "  0%|          | 0/10000 [00:00<?, ?it/s]"
      ]
     },
     "metadata": {},
     "output_type": "display_data"
    },
    {
     "data": {
      "application/vnd.jupyter.widget-view+json": {
       "model_id": "8636aca390e241d08910315a95ca48a0",
       "version_major": 2,
       "version_minor": 0
      },
      "text/plain": [
       "  0%|          | 0/10000 [00:00<?, ?it/s]"
      ]
     },
     "metadata": {},
     "output_type": "display_data"
    },
    {
     "name": "stderr",
     "output_type": "stream",
     "text": [
      "2023-09-13 16:38:52,914 - hbmep.utils.utils - INFO - func:run_inference took: 11.35 sec\n",
      "2023-09-13 16:38:54,005 - hbmep.utils.utils - INFO - func:predict took: 1.09 sec\n",
      "/home/vishu/repos/hbmep-paper/.venv/lib/python3.11/site-packages/arviz/stats/stats.py:803: UserWarning: Estimated shape parameter of Pareto distribution is greater than 0.7 for one or more samples. You should consider using a more robust model, this is because importance sampling is less likely to work well if the marginal posterior and LOO posterior are very different. This is more likely to happen with a non-robust model and highly influential observations.\n",
      "  warnings.warn(\n",
      "/home/vishu/repos/hbmep-paper/.venv/lib/python3.11/site-packages/arviz/stats/stats.py:1645: UserWarning: For one or more samples the posterior variance of the log predictive densities exceeds 0.4. This could be indication of WAIC starting to fail. \n",
      "See http://arxiv.org/abs/1507.04544 for details\n",
      "  warnings.warn(\n",
      "2023-09-13 16:38:54,571 - __main__ - INFO - (13, 4)\n",
      "2023-09-13 16:38:54,571 - hbmep.dataset.core - INFO - Artefacts will be stored here - /home/vishu/repos/hbmep-paper/reports/simulation/\n",
      "2023-09-13 16:38:54,572 - hbmep.dataset.core - INFO - Copied config to /home/vishu/repos/hbmep-paper/reports/simulation/\n",
      "2023-09-13 16:38:54,572 - hbmep.dataset.core - INFO - Processing data ...\n",
      "2023-09-13 16:38:54,573 - hbmep.utils.utils - INFO - func:load took: 0.00 sec\n",
      "2023-09-13 16:38:54,585 - hbmep.model.baseline - INFO - Running inference with hierarchical_bayesian ...\n"
     ]
    },
    {
     "data": {
      "application/vnd.jupyter.widget-view+json": {
       "model_id": "2407d8e6eec643ab9a24383a1ec863e7",
       "version_major": 2,
       "version_minor": 0
      },
      "text/plain": [
       "  0%|          | 0/10000 [00:00<?, ?it/s]"
      ]
     },
     "metadata": {},
     "output_type": "display_data"
    },
    {
     "data": {
      "application/vnd.jupyter.widget-view+json": {
       "model_id": "cbbc15a5b35748f9a0565381a5b1b9eb",
       "version_major": 2,
       "version_minor": 0
      },
      "text/plain": [
       "  0%|          | 0/10000 [00:00<?, ?it/s]"
      ]
     },
     "metadata": {},
     "output_type": "display_data"
    },
    {
     "data": {
      "application/vnd.jupyter.widget-view+json": {
       "model_id": "3da684bd6eaa476d95750027cc742157",
       "version_major": 2,
       "version_minor": 0
      },
      "text/plain": [
       "  0%|          | 0/10000 [00:00<?, ?it/s]"
      ]
     },
     "metadata": {},
     "output_type": "display_data"
    },
    {
     "data": {
      "application/vnd.jupyter.widget-view+json": {
       "model_id": "c3ed363fa61b4683868d4c68f6f582c9",
       "version_major": 2,
       "version_minor": 0
      },
      "text/plain": [
       "  0%|          | 0/10000 [00:00<?, ?it/s]"
      ]
     },
     "metadata": {},
     "output_type": "display_data"
    },
    {
     "name": "stderr",
     "output_type": "stream",
     "text": [
      "2023-09-13 16:39:07,666 - hbmep.utils.utils - INFO - func:run_inference took: 13.08 sec\n",
      "2023-09-13 16:39:08,757 - hbmep.utils.utils - INFO - func:predict took: 1.09 sec\n",
      "/home/vishu/repos/hbmep-paper/.venv/lib/python3.11/site-packages/arviz/stats/stats.py:803: UserWarning: Estimated shape parameter of Pareto distribution is greater than 0.7 for one or more samples. You should consider using a more robust model, this is because importance sampling is less likely to work well if the marginal posterior and LOO posterior are very different. This is more likely to happen with a non-robust model and highly influential observations.\n",
      "  warnings.warn(\n",
      "/home/vishu/repos/hbmep-paper/.venv/lib/python3.11/site-packages/arviz/stats/stats.py:1645: UserWarning: For one or more samples the posterior variance of the log predictive densities exceeds 0.4. This could be indication of WAIC starting to fail. \n",
      "See http://arxiv.org/abs/1507.04544 for details\n",
      "  warnings.warn(\n",
      "2023-09-13 16:39:11,028 - __main__ - INFO - (14, 4)\n",
      "2023-09-13 16:39:11,029 - hbmep.dataset.core - INFO - Artefacts will be stored here - /home/vishu/repos/hbmep-paper/reports/simulation/\n",
      "2023-09-13 16:39:11,029 - hbmep.dataset.core - INFO - Copied config to /home/vishu/repos/hbmep-paper/reports/simulation/\n",
      "2023-09-13 16:39:11,030 - hbmep.dataset.core - INFO - Processing data ...\n",
      "2023-09-13 16:39:11,031 - hbmep.utils.utils - INFO - func:load took: 0.00 sec\n",
      "2023-09-13 16:39:11,040 - hbmep.model.baseline - INFO - Running inference with hierarchical_bayesian ...\n"
     ]
    },
    {
     "data": {
      "application/vnd.jupyter.widget-view+json": {
       "model_id": "8e0441874e0a457ba86cbfe943e95bc1",
       "version_major": 2,
       "version_minor": 0
      },
      "text/plain": [
       "  0%|          | 0/10000 [00:00<?, ?it/s]"
      ]
     },
     "metadata": {},
     "output_type": "display_data"
    },
    {
     "data": {
      "application/vnd.jupyter.widget-view+json": {
       "model_id": "68472e839c804063b4b4d5dda9401a77",
       "version_major": 2,
       "version_minor": 0
      },
      "text/plain": [
       "  0%|          | 0/10000 [00:00<?, ?it/s]"
      ]
     },
     "metadata": {},
     "output_type": "display_data"
    },
    {
     "data": {
      "application/vnd.jupyter.widget-view+json": {
       "model_id": "960db65435f04b84aed87bcb09ee7adb",
       "version_major": 2,
       "version_minor": 0
      },
      "text/plain": [
       "  0%|          | 0/10000 [00:00<?, ?it/s]"
      ]
     },
     "metadata": {},
     "output_type": "display_data"
    },
    {
     "data": {
      "application/vnd.jupyter.widget-view+json": {
       "model_id": "d5c36c46d4aa4c64a7308b1a1dba01b1",
       "version_major": 2,
       "version_minor": 0
      },
      "text/plain": [
       "  0%|          | 0/10000 [00:00<?, ?it/s]"
      ]
     },
     "metadata": {},
     "output_type": "display_data"
    },
    {
     "name": "stderr",
     "output_type": "stream",
     "text": [
      "2023-09-13 16:39:23,878 - hbmep.utils.utils - INFO - func:run_inference took: 12.84 sec\n",
      "2023-09-13 16:39:24,988 - hbmep.utils.utils - INFO - func:predict took: 1.11 sec\n",
      "/home/vishu/repos/hbmep-paper/.venv/lib/python3.11/site-packages/arviz/stats/stats.py:803: UserWarning: Estimated shape parameter of Pareto distribution is greater than 0.7 for one or more samples. You should consider using a more robust model, this is because importance sampling is less likely to work well if the marginal posterior and LOO posterior are very different. This is more likely to happen with a non-robust model and highly influential observations.\n",
      "  warnings.warn(\n",
      "/home/vishu/repos/hbmep-paper/.venv/lib/python3.11/site-packages/arviz/stats/stats.py:1645: UserWarning: For one or more samples the posterior variance of the log predictive densities exceeds 0.4. This could be indication of WAIC starting to fail. \n",
      "See http://arxiv.org/abs/1507.04544 for details\n",
      "  warnings.warn(\n",
      "2023-09-13 16:39:25,697 - __main__ - INFO - (15, 4)\n",
      "2023-09-13 16:39:25,698 - hbmep.dataset.core - INFO - Artefacts will be stored here - /home/vishu/repos/hbmep-paper/reports/simulation/\n",
      "2023-09-13 16:39:25,698 - hbmep.dataset.core - INFO - Copied config to /home/vishu/repos/hbmep-paper/reports/simulation/\n",
      "2023-09-13 16:39:25,699 - hbmep.dataset.core - INFO - Processing data ...\n",
      "2023-09-13 16:39:25,700 - hbmep.utils.utils - INFO - func:load took: 0.00 sec\n",
      "2023-09-13 16:39:25,712 - hbmep.model.baseline - INFO - Running inference with hierarchical_bayesian ...\n"
     ]
    },
    {
     "data": {
      "application/vnd.jupyter.widget-view+json": {
       "model_id": "a088580fba7846ee8f4d5db56638a15e",
       "version_major": 2,
       "version_minor": 0
      },
      "text/plain": [
       "  0%|          | 0/10000 [00:00<?, ?it/s]"
      ]
     },
     "metadata": {},
     "output_type": "display_data"
    },
    {
     "data": {
      "application/vnd.jupyter.widget-view+json": {
       "model_id": "9391ee341990429492aa23c355ec3a62",
       "version_major": 2,
       "version_minor": 0
      },
      "text/plain": [
       "  0%|          | 0/10000 [00:00<?, ?it/s]"
      ]
     },
     "metadata": {},
     "output_type": "display_data"
    },
    {
     "data": {
      "application/vnd.jupyter.widget-view+json": {
       "model_id": "73e060ebfcd54f53be8300bbcb8883b6",
       "version_major": 2,
       "version_minor": 0
      },
      "text/plain": [
       "  0%|          | 0/10000 [00:00<?, ?it/s]"
      ]
     },
     "metadata": {},
     "output_type": "display_data"
    },
    {
     "data": {
      "application/vnd.jupyter.widget-view+json": {
       "model_id": "0d2eab2dd11148ad807b93e221635fc5",
       "version_major": 2,
       "version_minor": 0
      },
      "text/plain": [
       "  0%|          | 0/10000 [00:00<?, ?it/s]"
      ]
     },
     "metadata": {},
     "output_type": "display_data"
    },
    {
     "name": "stderr",
     "output_type": "stream",
     "text": [
      "2023-09-13 16:39:39,824 - hbmep.utils.utils - INFO - func:run_inference took: 14.11 sec\n",
      "2023-09-13 16:39:40,917 - hbmep.utils.utils - INFO - func:predict took: 1.09 sec\n",
      "/home/vishu/repos/hbmep-paper/.venv/lib/python3.11/site-packages/arviz/stats/stats.py:803: UserWarning: Estimated shape parameter of Pareto distribution is greater than 0.7 for one or more samples. You should consider using a more robust model, this is because importance sampling is less likely to work well if the marginal posterior and LOO posterior are very different. This is more likely to happen with a non-robust model and highly influential observations.\n",
      "  warnings.warn(\n",
      "/home/vishu/repos/hbmep-paper/.venv/lib/python3.11/site-packages/arviz/stats/stats.py:1645: UserWarning: For one or more samples the posterior variance of the log predictive densities exceeds 0.4. This could be indication of WAIC starting to fail. \n",
      "See http://arxiv.org/abs/1507.04544 for details\n",
      "  warnings.warn(\n",
      "2023-09-13 16:39:41,634 - __main__ - INFO - (16, 4)\n",
      "2023-09-13 16:39:41,635 - hbmep.dataset.core - INFO - Artefacts will be stored here - /home/vishu/repos/hbmep-paper/reports/simulation/\n",
      "2023-09-13 16:39:41,635 - hbmep.dataset.core - INFO - Copied config to /home/vishu/repos/hbmep-paper/reports/simulation/\n",
      "2023-09-13 16:39:41,636 - hbmep.dataset.core - INFO - Processing data ...\n",
      "2023-09-13 16:39:41,637 - hbmep.utils.utils - INFO - func:load took: 0.00 sec\n",
      "2023-09-13 16:39:41,650 - hbmep.model.baseline - INFO - Running inference with hierarchical_bayesian ...\n"
     ]
    },
    {
     "data": {
      "application/vnd.jupyter.widget-view+json": {
       "model_id": "7eedf532e1e14c51b31825852511fe1e",
       "version_major": 2,
       "version_minor": 0
      },
      "text/plain": [
       "  0%|          | 0/10000 [00:00<?, ?it/s]"
      ]
     },
     "metadata": {},
     "output_type": "display_data"
    },
    {
     "data": {
      "application/vnd.jupyter.widget-view+json": {
       "model_id": "034f98ffffcc49409fad67e6d5f81c65",
       "version_major": 2,
       "version_minor": 0
      },
      "text/plain": [
       "  0%|          | 0/10000 [00:00<?, ?it/s]"
      ]
     },
     "metadata": {},
     "output_type": "display_data"
    },
    {
     "data": {
      "application/vnd.jupyter.widget-view+json": {
       "model_id": "08a07ad75cd54672a8ffb9adbc16c5af",
       "version_major": 2,
       "version_minor": 0
      },
      "text/plain": [
       "  0%|          | 0/10000 [00:00<?, ?it/s]"
      ]
     },
     "metadata": {},
     "output_type": "display_data"
    },
    {
     "data": {
      "application/vnd.jupyter.widget-view+json": {
       "model_id": "e2dc3b569d084a998a692c0cf1a7323b",
       "version_major": 2,
       "version_minor": 0
      },
      "text/plain": [
       "  0%|          | 0/10000 [00:00<?, ?it/s]"
      ]
     },
     "metadata": {},
     "output_type": "display_data"
    },
    {
     "name": "stderr",
     "output_type": "stream",
     "text": [
      "2023-09-13 16:39:58,994 - hbmep.utils.utils - INFO - func:run_inference took: 17.34 sec\n",
      "2023-09-13 16:40:00,104 - hbmep.utils.utils - INFO - func:predict took: 1.11 sec\n",
      "/home/vishu/repos/hbmep-paper/.venv/lib/python3.11/site-packages/arviz/stats/stats.py:803: UserWarning: Estimated shape parameter of Pareto distribution is greater than 0.7 for one or more samples. You should consider using a more robust model, this is because importance sampling is less likely to work well if the marginal posterior and LOO posterior are very different. This is more likely to happen with a non-robust model and highly influential observations.\n",
      "  warnings.warn(\n",
      "/home/vishu/repos/hbmep-paper/.venv/lib/python3.11/site-packages/arviz/stats/stats.py:1645: UserWarning: For one or more samples the posterior variance of the log predictive densities exceeds 0.4. This could be indication of WAIC starting to fail. \n",
      "See http://arxiv.org/abs/1507.04544 for details\n",
      "  warnings.warn(\n",
      "2023-09-13 16:40:00,821 - __main__ - INFO - (17, 4)\n",
      "2023-09-13 16:40:00,822 - hbmep.dataset.core - INFO - Artefacts will be stored here - /home/vishu/repos/hbmep-paper/reports/simulation/\n",
      "2023-09-13 16:40:00,822 - hbmep.dataset.core - INFO - Copied config to /home/vishu/repos/hbmep-paper/reports/simulation/\n",
      "2023-09-13 16:40:00,823 - hbmep.dataset.core - INFO - Processing data ...\n",
      "2023-09-13 16:40:00,824 - hbmep.utils.utils - INFO - func:load took: 0.00 sec\n",
      "2023-09-13 16:40:00,836 - hbmep.model.baseline - INFO - Running inference with hierarchical_bayesian ...\n"
     ]
    },
    {
     "data": {
      "application/vnd.jupyter.widget-view+json": {
       "model_id": "6940af6f8c5744dd82a73abea5eebda1",
       "version_major": 2,
       "version_minor": 0
      },
      "text/plain": [
       "  0%|          | 0/10000 [00:00<?, ?it/s]"
      ]
     },
     "metadata": {},
     "output_type": "display_data"
    },
    {
     "data": {
      "application/vnd.jupyter.widget-view+json": {
       "model_id": "fe1f81bc25fb49d699faa9067b42ee19",
       "version_major": 2,
       "version_minor": 0
      },
      "text/plain": [
       "  0%|          | 0/10000 [00:00<?, ?it/s]"
      ]
     },
     "metadata": {},
     "output_type": "display_data"
    },
    {
     "data": {
      "application/vnd.jupyter.widget-view+json": {
       "model_id": "aa137046d7cc4835b2273385c73406d1",
       "version_major": 2,
       "version_minor": 0
      },
      "text/plain": [
       "  0%|          | 0/10000 [00:00<?, ?it/s]"
      ]
     },
     "metadata": {},
     "output_type": "display_data"
    },
    {
     "data": {
      "application/vnd.jupyter.widget-view+json": {
       "model_id": "2a92f88fc9ed4425b42b0e7a4bba2f72",
       "version_major": 2,
       "version_minor": 0
      },
      "text/plain": [
       "  0%|          | 0/10000 [00:00<?, ?it/s]"
      ]
     },
     "metadata": {},
     "output_type": "display_data"
    },
    {
     "name": "stderr",
     "output_type": "stream",
     "text": [
      "2023-09-13 16:40:15,093 - hbmep.utils.utils - INFO - func:run_inference took: 14.26 sec\n",
      "2023-09-13 16:40:16,199 - hbmep.utils.utils - INFO - func:predict took: 1.10 sec\n",
      "/home/vishu/repos/hbmep-paper/.venv/lib/python3.11/site-packages/arviz/stats/stats.py:803: UserWarning: Estimated shape parameter of Pareto distribution is greater than 0.7 for one or more samples. You should consider using a more robust model, this is because importance sampling is less likely to work well if the marginal posterior and LOO posterior are very different. This is more likely to happen with a non-robust model and highly influential observations.\n",
      "  warnings.warn(\n",
      "/home/vishu/repos/hbmep-paper/.venv/lib/python3.11/site-packages/arviz/stats/stats.py:1645: UserWarning: For one or more samples the posterior variance of the log predictive densities exceeds 0.4. This could be indication of WAIC starting to fail. \n",
      "See http://arxiv.org/abs/1507.04544 for details\n",
      "  warnings.warn(\n",
      "2023-09-13 16:40:16,926 - __main__ - INFO - (18, 4)\n",
      "2023-09-13 16:40:16,927 - hbmep.dataset.core - INFO - Artefacts will be stored here - /home/vishu/repos/hbmep-paper/reports/simulation/\n",
      "2023-09-13 16:40:16,927 - hbmep.dataset.core - INFO - Copied config to /home/vishu/repos/hbmep-paper/reports/simulation/\n",
      "2023-09-13 16:40:16,928 - hbmep.dataset.core - INFO - Processing data ...\n",
      "2023-09-13 16:40:16,929 - hbmep.utils.utils - INFO - func:load took: 0.00 sec\n",
      "2023-09-13 16:40:16,942 - hbmep.model.baseline - INFO - Running inference with hierarchical_bayesian ...\n"
     ]
    },
    {
     "data": {
      "application/vnd.jupyter.widget-view+json": {
       "model_id": "3e0b68237287455a977b6d610c830ecd",
       "version_major": 2,
       "version_minor": 0
      },
      "text/plain": [
       "  0%|          | 0/10000 [00:00<?, ?it/s]"
      ]
     },
     "metadata": {},
     "output_type": "display_data"
    },
    {
     "data": {
      "application/vnd.jupyter.widget-view+json": {
       "model_id": "809709768a1e421abd769ac44c3b8f84",
       "version_major": 2,
       "version_minor": 0
      },
      "text/plain": [
       "  0%|          | 0/10000 [00:00<?, ?it/s]"
      ]
     },
     "metadata": {},
     "output_type": "display_data"
    },
    {
     "data": {
      "application/vnd.jupyter.widget-view+json": {
       "model_id": "d90c08205cbf468abbbc9c7b921fdfd0",
       "version_major": 2,
       "version_minor": 0
      },
      "text/plain": [
       "  0%|          | 0/10000 [00:00<?, ?it/s]"
      ]
     },
     "metadata": {},
     "output_type": "display_data"
    },
    {
     "data": {
      "application/vnd.jupyter.widget-view+json": {
       "model_id": "5611a69b11944a46811d9d26b4dfb4ce",
       "version_major": 2,
       "version_minor": 0
      },
      "text/plain": [
       "  0%|          | 0/10000 [00:00<?, ?it/s]"
      ]
     },
     "metadata": {},
     "output_type": "display_data"
    },
    {
     "name": "stderr",
     "output_type": "stream",
     "text": [
      "2023-09-13 16:40:33,354 - hbmep.utils.utils - INFO - func:run_inference took: 16.41 sec\n",
      "2023-09-13 16:40:34,447 - hbmep.utils.utils - INFO - func:predict took: 1.09 sec\n",
      "/home/vishu/repos/hbmep-paper/.venv/lib/python3.11/site-packages/arviz/stats/stats.py:803: UserWarning: Estimated shape parameter of Pareto distribution is greater than 0.7 for one or more samples. You should consider using a more robust model, this is because importance sampling is less likely to work well if the marginal posterior and LOO posterior are very different. This is more likely to happen with a non-robust model and highly influential observations.\n",
      "  warnings.warn(\n",
      "/home/vishu/repos/hbmep-paper/.venv/lib/python3.11/site-packages/arviz/stats/stats.py:1645: UserWarning: For one or more samples the posterior variance of the log predictive densities exceeds 0.4. This could be indication of WAIC starting to fail. \n",
      "See http://arxiv.org/abs/1507.04544 for details\n",
      "  warnings.warn(\n",
      "2023-09-13 16:40:35,202 - __main__ - INFO - (19, 4)\n",
      "2023-09-13 16:40:35,202 - hbmep.dataset.core - INFO - Artefacts will be stored here - /home/vishu/repos/hbmep-paper/reports/simulation/\n",
      "2023-09-13 16:40:35,203 - hbmep.dataset.core - INFO - Copied config to /home/vishu/repos/hbmep-paper/reports/simulation/\n",
      "2023-09-13 16:40:35,204 - hbmep.dataset.core - INFO - Processing data ...\n",
      "2023-09-13 16:40:35,205 - hbmep.utils.utils - INFO - func:load took: 0.00 sec\n",
      "2023-09-13 16:40:35,218 - hbmep.model.baseline - INFO - Running inference with hierarchical_bayesian ...\n"
     ]
    },
    {
     "data": {
      "application/vnd.jupyter.widget-view+json": {
       "model_id": "e7bd14f5577643ffbb90676a35e5b7bd",
       "version_major": 2,
       "version_minor": 0
      },
      "text/plain": [
       "  0%|          | 0/10000 [00:00<?, ?it/s]"
      ]
     },
     "metadata": {},
     "output_type": "display_data"
    },
    {
     "data": {
      "application/vnd.jupyter.widget-view+json": {
       "model_id": "6964b048e3b9405abaaef2f0ba9b8260",
       "version_major": 2,
       "version_minor": 0
      },
      "text/plain": [
       "  0%|          | 0/10000 [00:00<?, ?it/s]"
      ]
     },
     "metadata": {},
     "output_type": "display_data"
    },
    {
     "data": {
      "application/vnd.jupyter.widget-view+json": {
       "model_id": "e3303b7be2384df0857ef72cfeca768f",
       "version_major": 2,
       "version_minor": 0
      },
      "text/plain": [
       "  0%|          | 0/10000 [00:00<?, ?it/s]"
      ]
     },
     "metadata": {},
     "output_type": "display_data"
    },
    {
     "data": {
      "application/vnd.jupyter.widget-view+json": {
       "model_id": "89471bfc128348de82b5546dced7cd57",
       "version_major": 2,
       "version_minor": 0
      },
      "text/plain": [
       "  0%|          | 0/10000 [00:00<?, ?it/s]"
      ]
     },
     "metadata": {},
     "output_type": "display_data"
    },
    {
     "name": "stderr",
     "output_type": "stream",
     "text": [
      "2023-09-13 16:40:51,010 - hbmep.utils.utils - INFO - func:run_inference took: 15.79 sec\n",
      "2023-09-13 16:40:52,103 - hbmep.utils.utils - INFO - func:predict took: 1.09 sec\n",
      "/home/vishu/repos/hbmep-paper/.venv/lib/python3.11/site-packages/arviz/stats/stats.py:803: UserWarning: Estimated shape parameter of Pareto distribution is greater than 0.7 for one or more samples. You should consider using a more robust model, this is because importance sampling is less likely to work well if the marginal posterior and LOO posterior are very different. This is more likely to happen with a non-robust model and highly influential observations.\n",
      "  warnings.warn(\n",
      "/home/vishu/repos/hbmep-paper/.venv/lib/python3.11/site-packages/arviz/stats/stats.py:1645: UserWarning: For one or more samples the posterior variance of the log predictive densities exceeds 0.4. This could be indication of WAIC starting to fail. \n",
      "See http://arxiv.org/abs/1507.04544 for details\n",
      "  warnings.warn(\n",
      "2023-09-13 16:40:52,892 - __main__ - INFO - (20, 4)\n",
      "2023-09-13 16:40:52,892 - hbmep.dataset.core - INFO - Artefacts will be stored here - /home/vishu/repos/hbmep-paper/reports/simulation/\n",
      "2023-09-13 16:40:52,893 - hbmep.dataset.core - INFO - Copied config to /home/vishu/repos/hbmep-paper/reports/simulation/\n",
      "2023-09-13 16:40:52,894 - hbmep.dataset.core - INFO - Processing data ...\n",
      "2023-09-13 16:40:52,894 - hbmep.utils.utils - INFO - func:load took: 0.00 sec\n",
      "2023-09-13 16:40:52,903 - hbmep.model.baseline - INFO - Running inference with hierarchical_bayesian ...\n"
     ]
    },
    {
     "data": {
      "application/vnd.jupyter.widget-view+json": {
       "model_id": "60863a05ce7440278421ec7e0503111e",
       "version_major": 2,
       "version_minor": 0
      },
      "text/plain": [
       "  0%|          | 0/10000 [00:00<?, ?it/s]"
      ]
     },
     "metadata": {},
     "output_type": "display_data"
    },
    {
     "data": {
      "application/vnd.jupyter.widget-view+json": {
       "model_id": "64878b37e8f3470898e0e30c355c0d69",
       "version_major": 2,
       "version_minor": 0
      },
      "text/plain": [
       "  0%|          | 0/10000 [00:00<?, ?it/s]"
      ]
     },
     "metadata": {},
     "output_type": "display_data"
    },
    {
     "data": {
      "application/vnd.jupyter.widget-view+json": {
       "model_id": "9dc16b4a3bc0497ea475b3da078d0c23",
       "version_major": 2,
       "version_minor": 0
      },
      "text/plain": [
       "  0%|          | 0/10000 [00:00<?, ?it/s]"
      ]
     },
     "metadata": {},
     "output_type": "display_data"
    },
    {
     "data": {
      "application/vnd.jupyter.widget-view+json": {
       "model_id": "3014c194d3a04da59ca3153f75273e87",
       "version_major": 2,
       "version_minor": 0
      },
      "text/plain": [
       "  0%|          | 0/10000 [00:00<?, ?it/s]"
      ]
     },
     "metadata": {},
     "output_type": "display_data"
    },
    {
     "name": "stderr",
     "output_type": "stream",
     "text": [
      "2023-09-13 16:41:08,343 - hbmep.utils.utils - INFO - func:run_inference took: 15.44 sec\n",
      "2023-09-13 16:41:09,442 - hbmep.utils.utils - INFO - func:predict took: 1.10 sec\n",
      "/home/vishu/repos/hbmep-paper/.venv/lib/python3.11/site-packages/arviz/stats/stats.py:803: UserWarning: Estimated shape parameter of Pareto distribution is greater than 0.7 for one or more samples. You should consider using a more robust model, this is because importance sampling is less likely to work well if the marginal posterior and LOO posterior are very different. This is more likely to happen with a non-robust model and highly influential observations.\n",
      "  warnings.warn(\n",
      "/home/vishu/repos/hbmep-paper/.venv/lib/python3.11/site-packages/arviz/stats/stats.py:1645: UserWarning: For one or more samples the posterior variance of the log predictive densities exceeds 0.4. This could be indication of WAIC starting to fail. \n",
      "See http://arxiv.org/abs/1507.04544 for details\n",
      "  warnings.warn(\n",
      "2023-09-13 16:41:10,209 - __main__ - INFO - (21, 4)\n",
      "2023-09-13 16:41:10,210 - hbmep.dataset.core - INFO - Artefacts will be stored here - /home/vishu/repos/hbmep-paper/reports/simulation/\n",
      "2023-09-13 16:41:10,210 - hbmep.dataset.core - INFO - Copied config to /home/vishu/repos/hbmep-paper/reports/simulation/\n",
      "2023-09-13 16:41:10,211 - hbmep.dataset.core - INFO - Processing data ...\n",
      "2023-09-13 16:41:10,212 - hbmep.utils.utils - INFO - func:load took: 0.00 sec\n",
      "2023-09-13 16:41:10,221 - hbmep.model.baseline - INFO - Running inference with hierarchical_bayesian ...\n"
     ]
    },
    {
     "data": {
      "application/vnd.jupyter.widget-view+json": {
       "model_id": "c0d8a294be4340cd8f5b62fd04ec938f",
       "version_major": 2,
       "version_minor": 0
      },
      "text/plain": [
       "  0%|          | 0/10000 [00:00<?, ?it/s]"
      ]
     },
     "metadata": {},
     "output_type": "display_data"
    },
    {
     "data": {
      "application/vnd.jupyter.widget-view+json": {
       "model_id": "a2d274a25fb342b9a99c4472e8d16e60",
       "version_major": 2,
       "version_minor": 0
      },
      "text/plain": [
       "  0%|          | 0/10000 [00:00<?, ?it/s]"
      ]
     },
     "metadata": {},
     "output_type": "display_data"
    },
    {
     "data": {
      "application/vnd.jupyter.widget-view+json": {
       "model_id": "d4a2d4dbcc564b6c84b69bdcc037c699",
       "version_major": 2,
       "version_minor": 0
      },
      "text/plain": [
       "  0%|          | 0/10000 [00:00<?, ?it/s]"
      ]
     },
     "metadata": {},
     "output_type": "display_data"
    },
    {
     "data": {
      "application/vnd.jupyter.widget-view+json": {
       "model_id": "affef2ec04db4cdd887491f3dbe5afce",
       "version_major": 2,
       "version_minor": 0
      },
      "text/plain": [
       "  0%|          | 0/10000 [00:00<?, ?it/s]"
      ]
     },
     "metadata": {},
     "output_type": "display_data"
    },
    {
     "name": "stderr",
     "output_type": "stream",
     "text": [
      "2023-09-13 16:41:27,824 - hbmep.utils.utils - INFO - func:run_inference took: 17.60 sec\n",
      "2023-09-13 16:41:28,933 - hbmep.utils.utils - INFO - func:predict took: 1.11 sec\n",
      "/home/vishu/repos/hbmep-paper/.venv/lib/python3.11/site-packages/arviz/stats/stats.py:803: UserWarning: Estimated shape parameter of Pareto distribution is greater than 0.7 for one or more samples. You should consider using a more robust model, this is because importance sampling is less likely to work well if the marginal posterior and LOO posterior are very different. This is more likely to happen with a non-robust model and highly influential observations.\n",
      "  warnings.warn(\n",
      "/home/vishu/repos/hbmep-paper/.venv/lib/python3.11/site-packages/arviz/stats/stats.py:1645: UserWarning: For one or more samples the posterior variance of the log predictive densities exceeds 0.4. This could be indication of WAIC starting to fail. \n",
      "See http://arxiv.org/abs/1507.04544 for details\n",
      "  warnings.warn(\n",
      "2023-09-13 16:41:29,687 - __main__ - INFO - (22, 4)\n",
      "2023-09-13 16:41:29,688 - hbmep.dataset.core - INFO - Artefacts will be stored here - /home/vishu/repos/hbmep-paper/reports/simulation/\n",
      "2023-09-13 16:41:29,689 - hbmep.dataset.core - INFO - Copied config to /home/vishu/repos/hbmep-paper/reports/simulation/\n",
      "2023-09-13 16:41:29,689 - hbmep.dataset.core - INFO - Processing data ...\n",
      "2023-09-13 16:41:29,691 - hbmep.utils.utils - INFO - func:load took: 0.00 sec\n",
      "2023-09-13 16:41:29,703 - hbmep.model.baseline - INFO - Running inference with hierarchical_bayesian ...\n"
     ]
    },
    {
     "data": {
      "application/vnd.jupyter.widget-view+json": {
       "model_id": "6522ce3f9f144aad995c4888ad957259",
       "version_major": 2,
       "version_minor": 0
      },
      "text/plain": [
       "  0%|          | 0/10000 [00:00<?, ?it/s]"
      ]
     },
     "metadata": {},
     "output_type": "display_data"
    },
    {
     "data": {
      "application/vnd.jupyter.widget-view+json": {
       "model_id": "53798029240e43fcaaf3e84a501129d7",
       "version_major": 2,
       "version_minor": 0
      },
      "text/plain": [
       "  0%|          | 0/10000 [00:00<?, ?it/s]"
      ]
     },
     "metadata": {},
     "output_type": "display_data"
    },
    {
     "data": {
      "application/vnd.jupyter.widget-view+json": {
       "model_id": "565c23c98c35409b926913fd2431f8ad",
       "version_major": 2,
       "version_minor": 0
      },
      "text/plain": [
       "  0%|          | 0/10000 [00:00<?, ?it/s]"
      ]
     },
     "metadata": {},
     "output_type": "display_data"
    },
    {
     "data": {
      "application/vnd.jupyter.widget-view+json": {
       "model_id": "63fe8bfb2dd8421ea4016e5d851435c7",
       "version_major": 2,
       "version_minor": 0
      },
      "text/plain": [
       "  0%|          | 0/10000 [00:00<?, ?it/s]"
      ]
     },
     "metadata": {},
     "output_type": "display_data"
    },
    {
     "name": "stderr",
     "output_type": "stream",
     "text": [
      "2023-09-13 16:41:48,254 - hbmep.utils.utils - INFO - func:run_inference took: 18.55 sec\n",
      "2023-09-13 16:41:49,362 - hbmep.utils.utils - INFO - func:predict took: 1.11 sec\n",
      "/home/vishu/repos/hbmep-paper/.venv/lib/python3.11/site-packages/arviz/stats/stats.py:803: UserWarning: Estimated shape parameter of Pareto distribution is greater than 0.7 for one or more samples. You should consider using a more robust model, this is because importance sampling is less likely to work well if the marginal posterior and LOO posterior are very different. This is more likely to happen with a non-robust model and highly influential observations.\n",
      "  warnings.warn(\n",
      "/home/vishu/repos/hbmep-paper/.venv/lib/python3.11/site-packages/arviz/stats/stats.py:1645: UserWarning: For one or more samples the posterior variance of the log predictive densities exceeds 0.4. This could be indication of WAIC starting to fail. \n",
      "See http://arxiv.org/abs/1507.04544 for details\n",
      "  warnings.warn(\n",
      "2023-09-13 16:41:50,112 - __main__ - INFO - (23, 4)\n",
      "2023-09-13 16:41:50,112 - hbmep.dataset.core - INFO - Artefacts will be stored here - /home/vishu/repos/hbmep-paper/reports/simulation/\n",
      "2023-09-13 16:41:50,113 - hbmep.dataset.core - INFO - Copied config to /home/vishu/repos/hbmep-paper/reports/simulation/\n",
      "2023-09-13 16:41:50,113 - hbmep.dataset.core - INFO - Processing data ...\n",
      "2023-09-13 16:41:50,114 - hbmep.utils.utils - INFO - func:load took: 0.00 sec\n",
      "2023-09-13 16:41:50,126 - hbmep.model.baseline - INFO - Running inference with hierarchical_bayesian ...\n"
     ]
    },
    {
     "data": {
      "application/vnd.jupyter.widget-view+json": {
       "model_id": "78dc67d5c77a48728f9e4739509d844b",
       "version_major": 2,
       "version_minor": 0
      },
      "text/plain": [
       "  0%|          | 0/10000 [00:00<?, ?it/s]"
      ]
     },
     "metadata": {},
     "output_type": "display_data"
    },
    {
     "data": {
      "application/vnd.jupyter.widget-view+json": {
       "model_id": "36afb694195b4c599d818d19ace95fc9",
       "version_major": 2,
       "version_minor": 0
      },
      "text/plain": [
       "  0%|          | 0/10000 [00:00<?, ?it/s]"
      ]
     },
     "metadata": {},
     "output_type": "display_data"
    },
    {
     "data": {
      "application/vnd.jupyter.widget-view+json": {
       "model_id": "546a3204df7649d3a2760d6215977b73",
       "version_major": 2,
       "version_minor": 0
      },
      "text/plain": [
       "  0%|          | 0/10000 [00:00<?, ?it/s]"
      ]
     },
     "metadata": {},
     "output_type": "display_data"
    },
    {
     "data": {
      "application/vnd.jupyter.widget-view+json": {
       "model_id": "8cf533e59e4440a591eade2248dd5ffd",
       "version_major": 2,
       "version_minor": 0
      },
      "text/plain": [
       "  0%|          | 0/10000 [00:00<?, ?it/s]"
      ]
     },
     "metadata": {},
     "output_type": "display_data"
    },
    {
     "name": "stderr",
     "output_type": "stream",
     "text": [
      "2023-09-13 16:42:08,393 - hbmep.utils.utils - INFO - func:run_inference took: 18.27 sec\n",
      "2023-09-13 16:42:09,509 - hbmep.utils.utils - INFO - func:predict took: 1.11 sec\n",
      "/home/vishu/repos/hbmep-paper/.venv/lib/python3.11/site-packages/arviz/stats/stats.py:803: UserWarning: Estimated shape parameter of Pareto distribution is greater than 0.7 for one or more samples. You should consider using a more robust model, this is because importance sampling is less likely to work well if the marginal posterior and LOO posterior are very different. This is more likely to happen with a non-robust model and highly influential observations.\n",
      "  warnings.warn(\n",
      "/home/vishu/repos/hbmep-paper/.venv/lib/python3.11/site-packages/arviz/stats/stats.py:1645: UserWarning: For one or more samples the posterior variance of the log predictive densities exceeds 0.4. This could be indication of WAIC starting to fail. \n",
      "See http://arxiv.org/abs/1507.04544 for details\n",
      "  warnings.warn(\n",
      "2023-09-13 16:42:11,859 - __main__ - INFO - (24, 4)\n",
      "2023-09-13 16:42:11,860 - hbmep.dataset.core - INFO - Artefacts will be stored here - /home/vishu/repos/hbmep-paper/reports/simulation/\n",
      "2023-09-13 16:42:11,860 - hbmep.dataset.core - INFO - Copied config to /home/vishu/repos/hbmep-paper/reports/simulation/\n",
      "2023-09-13 16:42:11,861 - hbmep.dataset.core - INFO - Processing data ...\n",
      "2023-09-13 16:42:11,862 - hbmep.utils.utils - INFO - func:load took: 0.00 sec\n",
      "2023-09-13 16:42:11,871 - hbmep.model.baseline - INFO - Running inference with hierarchical_bayesian ...\n"
     ]
    },
    {
     "data": {
      "application/vnd.jupyter.widget-view+json": {
       "model_id": "336a8986bce843a7b7c2fb5335483224",
       "version_major": 2,
       "version_minor": 0
      },
      "text/plain": [
       "  0%|          | 0/10000 [00:00<?, ?it/s]"
      ]
     },
     "metadata": {},
     "output_type": "display_data"
    },
    {
     "data": {
      "application/vnd.jupyter.widget-view+json": {
       "model_id": "29b8b3f261ea4eb0a47e72c113b009b4",
       "version_major": 2,
       "version_minor": 0
      },
      "text/plain": [
       "  0%|          | 0/10000 [00:00<?, ?it/s]"
      ]
     },
     "metadata": {},
     "output_type": "display_data"
    },
    {
     "data": {
      "application/vnd.jupyter.widget-view+json": {
       "model_id": "78386910e8e643039885ae178912cdf0",
       "version_major": 2,
       "version_minor": 0
      },
      "text/plain": [
       "  0%|          | 0/10000 [00:00<?, ?it/s]"
      ]
     },
     "metadata": {},
     "output_type": "display_data"
    },
    {
     "data": {
      "application/vnd.jupyter.widget-view+json": {
       "model_id": "e3f7e16929674c299c7167a964a7926c",
       "version_major": 2,
       "version_minor": 0
      },
      "text/plain": [
       "  0%|          | 0/10000 [00:00<?, ?it/s]"
      ]
     },
     "metadata": {},
     "output_type": "display_data"
    },
    {
     "name": "stderr",
     "output_type": "stream",
     "text": [
      "2023-09-13 16:42:29,331 - hbmep.utils.utils - INFO - func:run_inference took: 17.46 sec\n",
      "2023-09-13 16:42:30,433 - hbmep.utils.utils - INFO - func:predict took: 1.10 sec\n",
      "/home/vishu/repos/hbmep-paper/.venv/lib/python3.11/site-packages/arviz/stats/stats.py:803: UserWarning: Estimated shape parameter of Pareto distribution is greater than 0.7 for one or more samples. You should consider using a more robust model, this is because importance sampling is less likely to work well if the marginal posterior and LOO posterior are very different. This is more likely to happen with a non-robust model and highly influential observations.\n",
      "  warnings.warn(\n",
      "/home/vishu/repos/hbmep-paper/.venv/lib/python3.11/site-packages/arviz/stats/stats.py:1645: UserWarning: For one or more samples the posterior variance of the log predictive densities exceeds 0.4. This could be indication of WAIC starting to fail. \n",
      "See http://arxiv.org/abs/1507.04544 for details\n",
      "  warnings.warn(\n"
     ]
    }
   ],
   "source": [
    "ind = [0, 30, 60, 89]\n",
    "n_iter = 20\n",
    "n_after_every_space = n_iter + 1\n",
    "after_every_counter = 0\n",
    "\n",
    "n_fig_rows = 10\n",
    "n_columns_per_response = 4\n",
    "n_fig_columns = n_columns_per_response * model.n_response\n",
    "\n",
    "n_combinations = n_iter + 1\n",
    "n_pdf_pages = n_combinations // n_fig_rows\n",
    "if n_combinations % n_fig_rows: n_pdf_pages += 1\n",
    "\n",
    "dst = os.path.join(model.build_dir, \"checks.pdf\")\n",
    "pdf = PdfPages(dst)\n",
    "\n",
    "argmin = None\n",
    "score_df = None\n",
    "score_columns = [\"num_points\", \"loo\", \"waic\", \"mae\", \"mse\"]\n",
    "\n",
    "pred_df = df_full.copy()\n",
    "\n",
    "for page in range(n_pdf_pages):\n",
    "    \"\"\" No. of rows for current page \"\"\"\n",
    "    n_rows_current_page = min(\n",
    "        n_fig_rows,\n",
    "        n_combinations - page * n_fig_rows\n",
    "    )\n",
    "\n",
    "    \"\"\" Figure for current page \"\"\"\n",
    "    fig, axes = plt.subplots(\n",
    "        n_rows_current_page,\n",
    "        n_fig_columns,\n",
    "        figsize=(\n",
    "            n_fig_columns * model.subplot_cell_width,\n",
    "            n_rows_current_page * model.subplot_cell_height\n",
    "        ),\n",
    "        constrained_layout=True,\n",
    "        squeeze=False,\n",
    "        sharex=\"col\"\n",
    "    )\n",
    "\n",
    "    for i in range(n_rows_current_page):\n",
    "        df = df_full.iloc[ind].reset_index(drop=True).copy()\n",
    "        logger.info(df.shape)\n",
    "\n",
    "        df, encoder_dict = model.load(df=df)\n",
    "\n",
    "        ax = axes[i, 0]\n",
    "        sns.scatterplot(x=df[model.intensity], y=df[model.response[0]], ax=ax)\n",
    "        title = f\"Num points: {df.shape[0]}\"\n",
    "        ax.set_title(title)\n",
    "\n",
    "        mcmc, posterior_samples = model.run_inference(df=df)\n",
    "\n",
    "        obs_posterior = model.predict(df=pred_df, posterior_samples=posterior_samples)\n",
    "        mu_posterior = np.array(obs_posterior[site.mu])\n",
    "        obs_posterior = np.array(obs_posterior[site.obs])\n",
    "\n",
    "        \"\"\" Filter prediction dataframe based on current combination \"\"\"\n",
    "        temp_pred_df = pred_df.copy()\n",
    "\n",
    "        curr_mu_posterior = mu_posterior\n",
    "        curr_obs_posterior = obs_posterior\n",
    "\n",
    "        \"\"\" Posterior mean \"\"\"\n",
    "        curr_mu_posterior_mean = curr_mu_posterior.mean(axis=0)\n",
    "        curr_obs_posterior_mean = curr_obs_posterior.mean(axis=0)\n",
    "\n",
    "        \"\"\" HPDI intervals \"\"\"\n",
    "        hpdi_obs_95 = hpdi(curr_obs_posterior, prob=.95)\n",
    "        hpdi_obs_85 = hpdi(curr_obs_posterior, prob=.85)\n",
    "        hpdi_obs_65 = hpdi(curr_obs_posterior, prob=.65)\n",
    "\n",
    "        hpdi_mu_95 = hpdi(curr_mu_posterior, prob=.95)\n",
    "\n",
    "        \"\"\" Threshold \"\"\"\n",
    "        threshold_posterior = posterior_samples[site.a].reshape(-1,)\n",
    "        threshold = threshold_posterior.mean().item()\n",
    "        threshold_true = posterior_samples_true[site.a][0].reshape(-1,).item()\n",
    "        hpdi_interval = hpdi(threshold_posterior, prob=0.95)\n",
    "\n",
    "        \"\"\" Scores \"\"\"\n",
    "        numpyro_data = az.from_numpyro(mcmc)\n",
    "        loo_score = az.loo(numpyro_data).elpd_loo\n",
    "        waic_score = az.waic(numpyro_data).elpd_waic\n",
    "        mae = abs(threshold_true - threshold)\n",
    "        mse = mae ** 2\n",
    "\n",
    "        ax = axes[i, 1]\n",
    "        sns.lineplot(x=temp_pred_df[model.intensity], y=curr_mu_posterior_mean[:, 0], color=\"k\", ax=ax, linestyle=\"dashed\")\n",
    "        sns.scatterplot(x=df[model.intensity], y=df[model.response[0]], ax=ax)\n",
    "        ax.axvline(\n",
    "            threshold,\n",
    "            linestyle=\"--\",\n",
    "            color=\"r\",\n",
    "            label=f\"Predicted Threshold\"\n",
    "        )\n",
    "        ax.axvline(\n",
    "            threshold_true,\n",
    "            linestyle=\"--\",\n",
    "            color=\"g\",\n",
    "            label=f\"Actual Threshold\"\n",
    "        )\n",
    "        ax.legend()\n",
    "\n",
    "        ax = axes[i, 2]\n",
    "        sns.kdeplot(\n",
    "            x=threshold_posterior,\n",
    "            color=\"b\",\n",
    "            ax=ax,\n",
    "            alpha=.4\n",
    "        )\n",
    "        ax.axvline(\n",
    "            threshold,\n",
    "            linestyle=\"--\",\n",
    "            color=\"r\",\n",
    "            label=f\"Predicted Threshold\"\n",
    "        )\n",
    "        ax.axvline(\n",
    "            threshold_true,\n",
    "            linestyle=\"--\",\n",
    "            color=\"g\",\n",
    "            label=f\"Actual Threshold\"\n",
    "        )\n",
    "        ax.legend()\n",
    "\n",
    "        ax = axes[i, 3]\n",
    "        sns.lineplot(x=temp_pred_df[model.intensity], y=curr_mu_posterior_mean[:, 0], color=\"k\", ax=ax, linestyle=\"dashed\")\n",
    "        ax.fill_between(\n",
    "            temp_pred_df[model.intensity],\n",
    "            hpdi_mu_95[0, :, 0],\n",
    "            hpdi_mu_95[1, :, 0],\n",
    "            color=\"C1\",\n",
    "            linestyle=\"dashed\"\n",
    "        )\n",
    "        sns.scatterplot(\n",
    "            data=df,\n",
    "            x=model.intensity,\n",
    "            y=model.response[0],\n",
    "            color=\"y\",\n",
    "            edgecolor=\"black\",\n",
    "            ax=ax\n",
    "        )\n",
    "        title = f\"Loo: {loo_score: .2f}, WAIC: {waic_score: .2f}\"\n",
    "        ax.set_title(title)\n",
    "\n",
    "        score_row = [[df.shape[0], loo_score, waic_score, mae, mse]]\n",
    "        temp_score_df = pd.DataFrame(score_row, columns=score_columns)\n",
    "        if score_df is None:\n",
    "            score_df = temp_score_df.copy()\n",
    "        else:\n",
    "            score_df = pd.concat([score_df, temp_score_df])\n",
    "\n",
    "        ind_filter = sorted(list(set(range(df_full.shape[0])) - set(ind)))\n",
    "        argmax = np.abs(hpdi_mu_95[:, ind_filter, ...] - curr_mu_posterior_mean[None, ind_filter, ...]).max(axis=0).argmax()\n",
    "        argmax = ind_filter[argmax]\n",
    "        ind.append(argmax)\n",
    "        ind = sorted(ind)\n",
    "\n",
    "        sns.scatterplot(\n",
    "            x=[df_full[model.intensity][argmax]],\n",
    "            y=[df_full[model.response[0]][argmax]],\n",
    "            color=\"black\",\n",
    "            edgecolor=\"black\",\n",
    "            ax=ax\n",
    "        )\n",
    "\n",
    "    pdf.savefig(fig)\n",
    "    plt.close()\n",
    "\n",
    "nrows, ncols = 1, 4\n",
    "fig, axes = plt.subplots(nrows=nrows, ncols=ncols, figsize=(5 * ncols, 3 * nrows), squeeze=False, constrained_layout=True, sharex=\"row\")\n",
    "\n",
    "metrics = [\"loo\", \"waic\", \"mae\", \"mse\"]\n",
    "for i, metric in enumerate(metrics):\n",
    "    ax = axes[0, i]\n",
    "    sns.lineplot(data=score_df, x=\"num_points\", y=metric, marker=\"o\", linestyle=\"dashed\", ms=8, ax=ax)\n",
    "    ax.set_title(metric)\n",
    "    ax.set_xticks(score_df[\"num_points\"])\n",
    "\n",
    "pdf.savefig(fig)\n",
    "plt.close()\n",
    "\n",
    "pdf.close();\n"
   ]
  },
  {
   "cell_type": "code",
   "execution_count": 223,
   "metadata": {},
   "outputs": [
    {
     "data": {
      "text/plain": [
       "(100, 1)"
      ]
     },
     "execution_count": 223,
     "metadata": {},
     "output_type": "execute_result"
    }
   ],
   "source": [
    "curr_mu_posterior_mean.shape"
   ]
  },
  {
   "cell_type": "code",
   "execution_count": 221,
   "metadata": {},
   "outputs": [
    {
     "data": {
      "text/html": [
       "<div>\n",
       "<style scoped>\n",
       "    .dataframe tbody tr th:only-of-type {\n",
       "        vertical-align: middle;\n",
       "    }\n",
       "\n",
       "    .dataframe tbody tr th {\n",
       "        vertical-align: top;\n",
       "    }\n",
       "\n",
       "    .dataframe thead th {\n",
       "        text-align: right;\n",
       "    }\n",
       "</style>\n",
       "<table border=\"1\" class=\"dataframe\">\n",
       "  <thead>\n",
       "    <tr style=\"text-align: right;\">\n",
       "      <th></th>\n",
       "      <th>participant</th>\n",
       "      <th>compound_position</th>\n",
       "      <th>pulse_amplitude</th>\n",
       "      <th>biceps</th>\n",
       "    </tr>\n",
       "  </thead>\n",
       "  <tbody>\n",
       "    <tr>\n",
       "      <th>0</th>\n",
       "      <td>0</td>\n",
       "      <td>0</td>\n",
       "      <td>0.0</td>\n",
       "      <td>0.004091</td>\n",
       "    </tr>\n",
       "    <tr>\n",
       "      <th>1</th>\n",
       "      <td>0</td>\n",
       "      <td>0</td>\n",
       "      <td>4.0</td>\n",
       "      <td>0.002846</td>\n",
       "    </tr>\n",
       "    <tr>\n",
       "      <th>2</th>\n",
       "      <td>0</td>\n",
       "      <td>0</td>\n",
       "      <td>8.0</td>\n",
       "      <td>0.000083</td>\n",
       "    </tr>\n",
       "    <tr>\n",
       "      <th>3</th>\n",
       "      <td>0</td>\n",
       "      <td>0</td>\n",
       "      <td>12.0</td>\n",
       "      <td>0.000087</td>\n",
       "    </tr>\n",
       "    <tr>\n",
       "      <th>4</th>\n",
       "      <td>0</td>\n",
       "      <td>0</td>\n",
       "      <td>16.0</td>\n",
       "      <td>0.001027</td>\n",
       "    </tr>\n",
       "    <tr>\n",
       "      <th>...</th>\n",
       "      <td>...</td>\n",
       "      <td>...</td>\n",
       "      <td>...</td>\n",
       "      <td>...</td>\n",
       "    </tr>\n",
       "    <tr>\n",
       "      <th>85</th>\n",
       "      <td>0</td>\n",
       "      <td>0</td>\n",
       "      <td>340.0</td>\n",
       "      <td>1.634435</td>\n",
       "    </tr>\n",
       "    <tr>\n",
       "      <th>86</th>\n",
       "      <td>0</td>\n",
       "      <td>0</td>\n",
       "      <td>344.0</td>\n",
       "      <td>1.538792</td>\n",
       "    </tr>\n",
       "    <tr>\n",
       "      <th>87</th>\n",
       "      <td>0</td>\n",
       "      <td>0</td>\n",
       "      <td>348.0</td>\n",
       "      <td>1.545144</td>\n",
       "    </tr>\n",
       "    <tr>\n",
       "      <th>88</th>\n",
       "      <td>0</td>\n",
       "      <td>0</td>\n",
       "      <td>352.0</td>\n",
       "      <td>1.763370</td>\n",
       "    </tr>\n",
       "    <tr>\n",
       "      <th>89</th>\n",
       "      <td>0</td>\n",
       "      <td>0</td>\n",
       "      <td>356.0</td>\n",
       "      <td>1.845276</td>\n",
       "    </tr>\n",
       "  </tbody>\n",
       "</table>\n",
       "<p>90 rows × 4 columns</p>\n",
       "</div>"
      ],
      "text/plain": [
       "    participant  compound_position  pulse_amplitude    biceps\n",
       "0             0                  0              0.0  0.004091\n",
       "1             0                  0              4.0  0.002846\n",
       "2             0                  0              8.0  0.000083\n",
       "3             0                  0             12.0  0.000087\n",
       "4             0                  0             16.0  0.001027\n",
       "..          ...                ...              ...       ...\n",
       "85            0                  0            340.0  1.634435\n",
       "86            0                  0            344.0  1.538792\n",
       "87            0                  0            348.0  1.545144\n",
       "88            0                  0            352.0  1.763370\n",
       "89            0                  0            356.0  1.845276\n",
       "\n",
       "[90 rows x 4 columns]"
      ]
     },
     "execution_count": 221,
     "metadata": {},
     "output_type": "execute_result"
    }
   ],
   "source": [
    "df_full"
   ]
  },
  {
   "cell_type": "code",
   "execution_count": 220,
   "metadata": {},
   "outputs": [
    {
     "data": {
      "text/html": [
       "<div>\n",
       "<style scoped>\n",
       "    .dataframe tbody tr th:only-of-type {\n",
       "        vertical-align: middle;\n",
       "    }\n",
       "\n",
       "    .dataframe tbody tr th {\n",
       "        vertical-align: top;\n",
       "    }\n",
       "\n",
       "    .dataframe thead th {\n",
       "        text-align: right;\n",
       "    }\n",
       "</style>\n",
       "<table border=\"1\" class=\"dataframe\">\n",
       "  <thead>\n",
       "    <tr style=\"text-align: right;\">\n",
       "      <th></th>\n",
       "      <th>participant</th>\n",
       "      <th>compound_position</th>\n",
       "      <th>pulse_amplitude</th>\n",
       "    </tr>\n",
       "  </thead>\n",
       "  <tbody>\n",
       "    <tr>\n",
       "      <th>0</th>\n",
       "      <td>0</td>\n",
       "      <td>0</td>\n",
       "      <td>0.000000</td>\n",
       "    </tr>\n",
       "    <tr>\n",
       "      <th>1</th>\n",
       "      <td>0</td>\n",
       "      <td>0</td>\n",
       "      <td>3.636364</td>\n",
       "    </tr>\n",
       "    <tr>\n",
       "      <th>2</th>\n",
       "      <td>0</td>\n",
       "      <td>0</td>\n",
       "      <td>7.272727</td>\n",
       "    </tr>\n",
       "    <tr>\n",
       "      <th>3</th>\n",
       "      <td>0</td>\n",
       "      <td>0</td>\n",
       "      <td>10.909091</td>\n",
       "    </tr>\n",
       "    <tr>\n",
       "      <th>4</th>\n",
       "      <td>0</td>\n",
       "      <td>0</td>\n",
       "      <td>14.545455</td>\n",
       "    </tr>\n",
       "    <tr>\n",
       "      <th>...</th>\n",
       "      <td>...</td>\n",
       "      <td>...</td>\n",
       "      <td>...</td>\n",
       "    </tr>\n",
       "    <tr>\n",
       "      <th>95</th>\n",
       "      <td>0</td>\n",
       "      <td>0</td>\n",
       "      <td>345.454545</td>\n",
       "    </tr>\n",
       "    <tr>\n",
       "      <th>96</th>\n",
       "      <td>0</td>\n",
       "      <td>0</td>\n",
       "      <td>349.090909</td>\n",
       "    </tr>\n",
       "    <tr>\n",
       "      <th>97</th>\n",
       "      <td>0</td>\n",
       "      <td>0</td>\n",
       "      <td>352.727273</td>\n",
       "    </tr>\n",
       "    <tr>\n",
       "      <th>98</th>\n",
       "      <td>0</td>\n",
       "      <td>0</td>\n",
       "      <td>356.363636</td>\n",
       "    </tr>\n",
       "    <tr>\n",
       "      <th>99</th>\n",
       "      <td>0</td>\n",
       "      <td>0</td>\n",
       "      <td>360.000000</td>\n",
       "    </tr>\n",
       "  </tbody>\n",
       "</table>\n",
       "<p>100 rows × 3 columns</p>\n",
       "</div>"
      ],
      "text/plain": [
       "    participant  compound_position  pulse_amplitude\n",
       "0             0                  0         0.000000\n",
       "1             0                  0         3.636364\n",
       "2             0                  0         7.272727\n",
       "3             0                  0        10.909091\n",
       "4             0                  0        14.545455\n",
       "..          ...                ...              ...\n",
       "95            0                  0       345.454545\n",
       "96            0                  0       349.090909\n",
       "97            0                  0       352.727273\n",
       "98            0                  0       356.363636\n",
       "99            0                  0       360.000000\n",
       "\n",
       "[100 rows x 3 columns]"
      ]
     },
     "execution_count": 220,
     "metadata": {},
     "output_type": "execute_result"
    }
   ],
   "source": [
    "pred_df"
   ]
  },
  {
   "cell_type": "code",
   "execution_count": 208,
   "metadata": {},
   "outputs": [
    {
     "data": {
      "text/plain": [
       "<matplotlib.lines.Line2D at 0x7f962c1758d0>"
      ]
     },
     "execution_count": 208,
     "metadata": {},
     "output_type": "execute_result"
    },
    {
     "data": {
      "image/png": "[encoded data removed]",
      "text/plain": [
       "<Figure size 640x480 with 1 Axes>"
      ]
     },
     "metadata": {},
     "output_type": "display_data"
    }
   ],
   "source": [
    "sns.lineplot(x=temp_pred_df[model.intensity], y=curr_mu_posterior_mean[:, 0], color=\"k\", linestyle=\"dashed\")\n",
    "plt.fill_between(\n",
    "    temp_pred_df[model.intensity],\n",
    "    hpdi_mu_95[0, :, 0],\n",
    "    hpdi_mu_95[1, :, 0],\n",
    "    color=\"C1\",\n",
    "    linestyle=\"dashed\"\n",
    ")\n",
    "sns.scatterplot(\n",
    "    data=df,\n",
    "    x=model.intensity,\n",
    "    y=model.response[0],\n",
    "    color=\"y\",\n",
    "    edgecolor=\"black\"\n",
    ")\n",
    "plt.axvline(pred_df[model.intensity][argmax])\n",
    "plt.axvline(df_full[model.intensity][argmin], color=\"r\")"
   ]
  },
  {
   "cell_type": "code",
   "execution_count": 194,
   "metadata": {},
   "outputs": [
    {
     "data": {
      "text/plain": [
       "79"
      ]
     },
     "execution_count": 194,
     "metadata": {},
     "output_type": "execute_result"
    }
   ],
   "source": [
    "argmax"
   ]
  },
  {
   "cell_type": "code",
   "execution_count": 195,
   "metadata": {},
   "outputs": [
    {
     "data": {
      "text/plain": [
       "69"
      ]
     },
     "execution_count": 195,
     "metadata": {},
     "output_type": "execute_result"
    }
   ],
   "source": [
    "argmin"
   ]
  },
  {
   "cell_type": "code",
   "execution_count": 213,
   "metadata": {},
   "outputs": [
    {
     "data": {
      "text/plain": [
       "[0, 30, 60, 69, 89]"
      ]
     },
     "execution_count": 213,
     "metadata": {},
     "output_type": "execute_result"
    }
   ],
   "source": [
    "ind"
   ]
  },
  {
   "cell_type": "code",
   "execution_count": 218,
   "metadata": {},
   "outputs": [
    {
     "data": {
      "text/plain": [
       "72"
      ]
     },
     "execution_count": 218,
     "metadata": {},
     "output_type": "execute_result"
    }
   ],
   "source": [
    "ind_filter[argmin]"
   ]
  },
  {
   "cell_type": "code",
   "execution_count": 217,
   "metadata": {},
   "outputs": [
    {
     "data": {
      "text/plain": [
       "array([  4.,   8.,  12.,  16.,  20.,  24.,  28.,  32.,  36.,  40.,  44.,\n",
       "        48.,  52.,  56.,  60.,  64.,  68.,  72.,  76.,  80.,  84.,  88.,\n",
       "        92.,  96., 100., 104., 108., 112., 116., 124., 128., 132., 136.,\n",
       "       140., 144., 148., 152., 156., 160., 164., 168., 172., 176., 180.,\n",
       "       184., 188., 192., 196., 200., 204., 208., 212., 216., 220., 224.,\n",
       "       228., 232., 236., 244., 248., 252., 256., 260., 264., 268., 272.,\n",
       "       276., 280., 284., 288., 292., 296., 300., 304., 308., 312., 316.,\n",
       "       320., 324., 328., 332., 336., 340., 344., 348., 352.])"
      ]
     },
     "execution_count": 217,
     "metadata": {},
     "output_type": "execute_result"
    }
   ],
   "source": [
    "df_full[model.intensity][ind_filter].resetvalues"
   ]
  },
  {
   "cell_type": "code",
   "execution_count": 210,
   "metadata": {},
   "outputs": [
    {
     "data": {
      "text/plain": [
       "1     283.272727\n",
       "2     279.272727\n",
       "3     275.272727\n",
       "4     271.272727\n",
       "5     267.272727\n",
       "         ...    \n",
       "84     48.727273\n",
       "85     52.727273\n",
       "86     56.727273\n",
       "87     60.727273\n",
       "88     64.727273\n",
       "Name: pulse_amplitude, Length: 86, dtype: float64"
      ]
     },
     "execution_count": 210,
     "metadata": {},
     "output_type": "execute_result"
    }
   ],
   "source": [
    "np.abs(df_full[model.intensity][ind_filter] - pred_df[model.intensity][argmax])"
   ]
  },
  {
   "cell_type": "code",
   "execution_count": null,
   "metadata": {},
   "outputs": [],
   "source": []
  },
  {
   "cell_type": "code",
   "execution_count": 199,
   "metadata": {},
   "outputs": [
    {
     "data": {
      "text/plain": [
       "287.27272727272725"
      ]
     },
     "execution_count": 199,
     "metadata": {},
     "output_type": "execute_result"
    }
   ],
   "source": [
    "pred_df[model.intensity][argmax]"
   ]
  },
  {
   "cell_type": "code",
   "execution_count": 197,
   "metadata": {},
   "outputs": [
    {
     "data": {
      "text/plain": [
       "276.0"
      ]
     },
     "execution_count": 197,
     "metadata": {},
     "output_type": "execute_result"
    }
   ],
   "source": [
    "df_full[model.intensity][argmin]"
   ]
  },
  {
   "cell_type": "code",
   "execution_count": null,
   "metadata": {},
   "outputs": [],
   "source": []
  },
  {
   "cell_type": "code",
   "execution_count": 202,
   "metadata": {},
   "outputs": [
    {
     "data": {
      "text/plain": [
       "70    280.0\n",
       "71    284.0\n",
       "72    288.0\n",
       "73    292.0\n",
       "74    296.0\n",
       "75    300.0\n",
       "76    304.0\n",
       "77    308.0\n",
       "78    312.0\n",
       "79    316.0\n",
       "80    320.0\n",
       "81    324.0\n",
       "82    328.0\n",
       "83    332.0\n",
       "84    336.0\n",
       "85    340.0\n",
       "86    344.0\n",
       "87    348.0\n",
       "88    352.0\n",
       "89    356.0\n",
       "Name: pulse_amplitude, dtype: float64"
      ]
     },
     "execution_count": 202,
     "metadata": {},
     "output_type": "execute_result"
    }
   ],
   "source": [
    "df_full.pulse_amplitude[70:90]"
   ]
  },
  {
   "cell_type": "code",
   "execution_count": null,
   "metadata": {},
   "outputs": [],
   "source": [
    "np.abs(hpdi_mu_95 - curr_mu_posterior_mean[None, ...]).max(axis=0).argmax()"
   ]
  },
  {
   "cell_type": "code",
   "execution_count": 192,
   "metadata": {},
   "outputs": [
    {
     "data": {
      "text/plain": [
       "99"
      ]
     },
     "execution_count": 192,
     "metadata": {},
     "output_type": "execute_result"
    }
   ],
   "source": [
    "np.abs(hpdi_mu_95 - curr_mu_posterior_mean[None, ...]).max(axis=0).reshape(-1,).argmax()"
   ]
  },
  {
   "cell_type": "code",
   "execution_count": 17,
   "metadata": {},
   "outputs": [
    {
     "name": "stderr",
     "output_type": "stream",
     "text": [
      "2023-09-13 11:16:37,829 - hbmep.dataset.core - INFO - Artefacts will be stored here - /home/vishu/repos/hbmep-paper/reports/simulation/\n",
      "2023-09-13 11:16:37,829 - hbmep.dataset.core - INFO - Copied config to /home/vishu/repos/hbmep-paper/reports/simulation/\n",
      "2023-09-13 11:16:37,830 - hbmep.dataset.core - INFO - Processing data ...\n",
      "2023-09-13 11:16:37,831 - hbmep.utils.utils - INFO - func:load took: 0.00 sec\n"
     ]
    }
   ],
   "source": [
    "df, encoder_dict = model.load(df)"
   ]
  },
  {
   "cell_type": "code",
   "execution_count": 18,
   "metadata": {},
   "outputs": [
    {
     "name": "stderr",
     "output_type": "stream",
     "text": [
      "2023-09-13 11:16:39,386 - hbmep.dataset.core - INFO - Plotting dataset ...\n"
     ]
    },
    {
     "name": "stderr",
     "output_type": "stream",
     "text": [
      "2023-09-13 11:16:39,621 - hbmep.dataset.core - INFO - Saved to /home/vishu/repos/hbmep-paper/reports/simulation/dataset.pdf\n",
      "2023-09-13 11:16:39,621 - hbmep.utils.utils - INFO - func:plot took: 0.24 sec\n"
     ]
    }
   ],
   "source": [
    "model.plot(df=df, encoder_dict=encoder_dict)"
   ]
  },
  {
   "cell_type": "code",
   "execution_count": 19,
   "metadata": {},
   "outputs": [
    {
     "name": "stderr",
     "output_type": "stream",
     "text": [
      "2023-09-13 11:16:41,156 - hbmep.model.baseline - INFO - Running inference with hierarchical_bayesian ...\n"
     ]
    },
    {
     "data": {
      "application/vnd.jupyter.widget-view+json": {
       "model_id": "13e8619484024ec19347341e615bfa4c",
       "version_major": 2,
       "version_minor": 0
      },
      "text/plain": [
       "  0%|          | 0/10000 [00:00<?, ?it/s]"
      ]
     },
     "metadata": {},
     "output_type": "display_data"
    },
    {
     "data": {
      "application/vnd.jupyter.widget-view+json": {
       "model_id": "70c6ab9d80a840c9a3f14c3ec5183919",
       "version_major": 2,
       "version_minor": 0
      },
      "text/plain": [
       "  0%|          | 0/10000 [00:00<?, ?it/s]"
      ]
     },
     "metadata": {},
     "output_type": "display_data"
    },
    {
     "data": {
      "application/vnd.jupyter.widget-view+json": {
       "model_id": "7530b4a705804bca8a63f8125fffd936",
       "version_major": 2,
       "version_minor": 0
      },
      "text/plain": [
       "  0%|          | 0/10000 [00:00<?, ?it/s]"
      ]
     },
     "metadata": {},
     "output_type": "display_data"
    },
    {
     "data": {
      "application/vnd.jupyter.widget-view+json": {
       "model_id": "37dd973a2f294c55ab7297548ce54b4c",
       "version_major": 2,
       "version_minor": 0
      },
      "text/plain": [
       "  0%|          | 0/10000 [00:00<?, ?it/s]"
      ]
     },
     "metadata": {},
     "output_type": "display_data"
    },
    {
     "name": "stderr",
     "output_type": "stream",
     "text": [
      "2023-09-13 11:16:49,276 - hbmep.utils.utils - INFO - func:run_inference took: 8.12 sec\n"
     ]
    }
   ],
   "source": [
    "mcmc, posterior_samples = model.run_inference(df=df)\n"
   ]
  },
  {
   "cell_type": "code",
   "execution_count": 154,
   "metadata": {},
   "outputs": [
    {
     "data": {
      "text/plain": [
       "(10, 90, 1)"
      ]
     },
     "execution_count": 154,
     "metadata": {},
     "output_type": "execute_result"
    }
   ],
   "source": [
    "obs.shape"
   ]
  },
  {
   "cell_type": "code",
   "execution_count": 20,
   "metadata": {},
   "outputs": [
    {
     "name": "stdout",
     "output_type": "stream",
     "text": [
      "\n",
      "                mean       std    median      2.5%     97.5%     n_eff     r_hat\n",
      "  H[0,0,0]      5.31      4.31      3.97      0.68     13.84  10133.07      1.00\n",
      "  L[0,0,0]      0.01      0.00      0.01      0.00      0.01  10471.45      1.00\n",
      "  a[0,0,0]    174.69      8.12    175.24    158.56    188.84  11181.13      1.00\n",
      "  b[0,0,0]      0.05      0.04      0.04      0.00      0.13   7635.79      1.00\n",
      "g_1[0,0,0]     68.10     46.92     57.94      0.59    160.79   7898.05      1.00\n",
      "g_2[0,0,0]      1.03      0.70      0.90      0.00      2.36  12838.31      1.00\n",
      "  v[0,0,0]      8.92      7.19      7.16      0.00     23.00   7346.79      1.00\n",
      "  µ_a[0,0]    167.47     28.75    170.38    106.38    225.07   7577.30      1.00\n",
      "  σ_H[0,0]      5.36      2.95      4.86      0.77     11.13  10448.30      1.00\n",
      "  σ_L[0,0]      0.02      0.02      0.02      0.00      0.07  13094.44      1.00\n",
      "  σ_a[0,0]     34.85     26.94     28.86      0.54     88.32   8499.37      1.00\n",
      "  σ_b[0,0]      0.08      0.05      0.07      0.00      0.18  11861.70      1.00\n",
      "  σ_v[0,0]      9.75      5.80      8.84      0.28     20.75  10619.00      1.00\n",
      "\n",
      "Number of divergences: 310\n"
     ]
    }
   ],
   "source": [
    "mcmc.print_summary(prob=.95)\n"
   ]
  },
  {
   "cell_type": "code",
   "execution_count": 21,
   "metadata": {},
   "outputs": [
    {
     "name": "stderr",
     "output_type": "stream",
     "text": [
      "2023-09-13 11:16:53,055 - hbmep.model.baseline - INFO - Generating predictions ...\n",
      "2023-09-13 11:16:54,239 - hbmep.utils.utils - INFO - func:predict took: 1.18 sec\n",
      "2023-09-13 11:16:54,244 - hbmep.model.baseline - INFO - Rendering recruitment curves ...\n",
      "2023-09-13 11:16:54,551 - hbmep.model.baseline - INFO - Saved to /home/vishu/repos/hbmep-paper/reports/simulation/recruitment_curves.pdf\n",
      "2023-09-13 11:16:54,551 - hbmep.utils.utils - INFO - func:render_recruitment_curves took: 1.50 sec\n"
     ]
    }
   ],
   "source": [
    "model.render_recruitment_curves(df=df, encoder_dict=encoder_dict, posterior_samples=posterior_samples)\n"
   ]
  },
  {
   "cell_type": "code",
   "execution_count": 22,
   "metadata": {},
   "outputs": [
    {
     "name": "stderr",
     "output_type": "stream",
     "text": [
      "2023-09-13 11:16:56,304 - hbmep.model.baseline - INFO - Generating predictions ...\n"
     ]
    },
    {
     "name": "stderr",
     "output_type": "stream",
     "text": [
      "2023-09-13 11:16:57,472 - hbmep.utils.utils - INFO - func:predict took: 1.16 sec\n",
      "2023-09-13 11:16:57,479 - hbmep.model.baseline - INFO - Rendering Posterior Predictive Check ...\n",
      "2023-09-13 11:16:58,022 - hbmep.model.baseline - INFO - Saved to /home/vishu/repos/hbmep-paper/reports/simulation/posterior_predictive_check.pdf\n",
      "2023-09-13 11:16:58,024 - hbmep.utils.utils - INFO - func:render_predictive_check took: 1.72 sec\n"
     ]
    }
   ],
   "source": [
    "model.render_predictive_check(df=df, encoder_dict=encoder_dict, posterior_samples=posterior_samples)\n"
   ]
  },
  {
   "cell_type": "code",
   "execution_count": 24,
   "metadata": {},
   "outputs": [
    {
     "name": "stdout",
     "output_type": "stream",
     "text": [
      "ELPD LOO (Log): 21.18\n",
      "ELPD WAIC (Log): 22.31\n"
     ]
    },
    {
     "name": "stderr",
     "output_type": "stream",
     "text": [
      "/home/vishu/repos/hbmep-paper/.venv/lib/python3.11/site-packages/arviz/stats/stats.py:803: UserWarning: Estimated shape parameter of Pareto distribution is greater than 0.7 for one or more samples. You should consider using a more robust model, this is because importance sampling is less likely to work well if the marginal posterior and LOO posterior are very different. This is more likely to happen with a non-robust model and highly influential observations.\n",
      "  warnings.warn(\n",
      "/home/vishu/repos/hbmep-paper/.venv/lib/python3.11/site-packages/arviz/stats/stats.py:1645: UserWarning: For one or more samples the posterior variance of the log predictive densities exceeds 0.4. This could be indication of WAIC starting to fail. \n",
      "See http://arxiv.org/abs/1507.04544 for details\n",
      "  warnings.warn(\n"
     ]
    }
   ],
   "source": [
    "numpyro_data = az.from_numpyro(mcmc)\n",
    "\n",
    "loo_score = az.loo(numpyro_data)\n",
    "print(f\"ELPD LOO (Log): {loo_score.elpd_loo:.2f}\")\n",
    "\n",
    "waic_score = az.waic(numpyro_data)\n",
    "print(f\"ELPD WAIC (Log): {waic_score.elpd_waic:.2f}\")\n",
    "\n"
   ]
  },
  {
   "cell_type": "code",
   "execution_count": 1,
   "metadata": {},
   "outputs": [
    {
     "ename": "NameError",
     "evalue": "name 'posterior_samples_true' is not defined",
     "output_type": "error",
     "traceback": [
      "\u001b[0;31m---------------------------------------------------------------------------\u001b[0m",
      "\u001b[0;31mNameError\u001b[0m                                 Traceback (most recent call last)",
      "\u001b[1;32m/home/vishu/repos/hbmep-paper/notebooks/rats/paper/sampling-strategy.ipynb Cell 13\u001b[0m line \u001b[0;36m1\n\u001b[0;32m----> <a href='vscode-notebook-cell://ssh-remote%2Bcumc00/home/vishu/repos/hbmep-paper/notebooks/rats/paper/sampling-strategy.ipynb#X34sdnNjb2RlLXJlbW90ZQ%3D%3D?line=0'>1</a>\u001b[0m posterior_samples_true[site\u001b[39m.\u001b[39ma][\u001b[39m0\u001b[39m, \u001b[39m.\u001b[39m\u001b[39m.\u001b[39m\u001b[39m.\u001b[39m]\n",
      "\u001b[0;31mNameError\u001b[0m: name 'posterior_samples_true' is not defined"
     ]
    }
   ],
   "source": [
    "posterior_samples_true[site.a][0, ...]\n"
   ]
  }
 ],
 "metadata": {
  "kernelspec": {
   "display_name": "Python 3 (ipykernel)",
   "language": "python",
   "name": "python3"
  },
  "orig_nbformat": 4
 },
 "nbformat": 4,
 "nbformat_minor": 2
}
