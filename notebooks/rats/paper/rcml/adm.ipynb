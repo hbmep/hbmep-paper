{
 "cells": [
  {
   "cell_type": "code",
   "execution_count": 1,
   "metadata": {},
   "outputs": [],
   "source": [
    "%reload_ext autoreload\n",
    "%autoreload 2\n",
    "\n",
    "import os\n",
    "from pathlib import Path\n",
    "import multiprocessing\n",
    "\n",
    "import jax\n",
    "import jax.numpy as jnp\n",
    "import pandas as pd\n",
    "import numpy as np\n",
    "import numpyro\n",
    "import numpyro.distributions as dist\n",
    "\n",
    "from hbmep.config import Config\n",
    "from hbmep.model import Baseline\n",
    "from hbmep.model.utils import Site as site\n",
    "from hbmep.utils.constants import RECTIFIED_LOGISTIC\n",
    "\n",
    "PLATFORM = \"cpu\"\n",
    "jax.config.update(\"jax_platforms\", PLATFORM)\n",
    "numpyro.set_platform(PLATFORM)\n",
    "\n",
    "cpu_count = multiprocessing.cpu_count() - 2\n",
    "numpyro.set_host_device_count(cpu_count)\n",
    "numpyro.enable_x64()\n",
    "numpyro.enable_validation()\n"
   ]
  },
  {
   "cell_type": "code",
   "execution_count": 2,
   "metadata": {},
   "outputs": [
    {
     "name": "stderr",
     "output_type": "stream",
     "text": [
      "2023-08-09 13:12:21,589 - hbmep.config - INFO - Verifying configuration ...\n",
      "2023-08-09 13:12:21,589 - hbmep.config - INFO - Success!\n"
     ]
    }
   ],
   "source": [
    "root_path = Path(os.getcwd()).parent.parent.parent.parent.absolute()\n",
    "toml_path = os.path.join(root_path, \"configs/rcml/adm.toml\")\n",
    "\n",
    "config = Config(toml_path=toml_path)\n"
   ]
  },
  {
   "attachments": {},
   "cell_type": "markdown",
   "metadata": {},
   "source": [
    "#### Load data and preprocess"
   ]
  },
  {
   "cell_type": "code",
   "execution_count": 3,
   "metadata": {},
   "outputs": [
    {
     "name": "stderr",
     "output_type": "stream",
     "text": [
      "2023-08-09 13:12:21,622 - hbmep.model.baseline - INFO - Initialized model with rectified_logistic link\n"
     ]
    }
   ],
   "source": [
    "class RectifiedLogistic(Baseline):\n",
    "    LINK = RECTIFIED_LOGISTIC\n",
    "\n",
    "    def __init__(self, config: Config):\n",
    "        super(RectifiedLogistic, self).__init__(config=config)\n",
    "\n",
    "    def _model(self, subject, features, intensity, response_obs=None):\n",
    "        intensity = intensity.reshape(-1, 1)\n",
    "        intensity = np.tile(intensity, (1, self.n_response))\n",
    "\n",
    "        feature0 = features[0, ...].reshape(-1,)\n",
    "\n",
    "        n_data = intensity.shape[0]\n",
    "        n_subject = np.unique(subject).shape[0]\n",
    "        n_feature0 = np.unique(feature0).shape[0]\n",
    "\n",
    "        with numpyro.plate(site.n_response, self.n_response, dim=-1):\n",
    "            with numpyro.plate(site.n_subject, n_subject, dim=-2):\n",
    "                \"\"\" Hyper-priors \"\"\"\n",
    "                mu_a = numpyro.sample(\n",
    "                    site.mu_a,\n",
    "                    dist.TruncatedNormal(150, 50, low=0)\n",
    "                )\n",
    "                sigma_a = numpyro.sample(site.sigma_a, dist.HalfNormal(50))\n",
    "\n",
    "                sigma_b = numpyro.sample(site.sigma_b, dist.HalfNormal(0.1))\n",
    "\n",
    "                sigma_L = numpyro.sample(site.sigma_L, dist.HalfNormal(0.05))\n",
    "                sigma_H = numpyro.sample(site.sigma_H, dist.HalfNormal(5))\n",
    "                sigma_v = numpyro.sample(site.sigma_v, dist.HalfNormal(10))\n",
    "\n",
    "                with numpyro.plate(\"n_feature0\", n_feature0, dim=-3):\n",
    "                    \"\"\" Priors \"\"\"\n",
    "                    a = numpyro.sample(\n",
    "                        site.a,\n",
    "                        dist.TruncatedNormal(mu_a, sigma_a, low=0)\n",
    "                    )\n",
    "                    b = numpyro.sample(site.b, dist.HalfNormal(sigma_b))\n",
    "\n",
    "                    L = numpyro.sample(site.L, dist.HalfNormal(sigma_L))\n",
    "                    H = numpyro.sample(site.H, dist.HalfNormal(sigma_H))\n",
    "                    v = numpyro.sample(site.v, dist.HalfNormal(sigma_v))\n",
    "\n",
    "                    g_1 = numpyro.sample(site.g_1, dist.Exponential(0.01))\n",
    "                    g_2 = numpyro.sample(site.g_2, dist.Exponential(0.01))\n",
    "\n",
    "        \"\"\" Model \"\"\"\n",
    "        mu = numpyro.deterministic(\n",
    "            site.mu,\n",
    "            L[feature0, subject]\n",
    "            + jnp.maximum(\n",
    "                0,\n",
    "                -1\n",
    "                + (H[feature0, subject] + 1)\n",
    "                / jnp.power(\n",
    "                    1\n",
    "                    + (jnp.power(1 + H[feature0, subject], v[feature0, subject]) - 1)\n",
    "                    * jnp.exp(-b[feature0, subject] * (intensity - a[feature0, subject])),\n",
    "                    1 / v[feature0, subject]\n",
    "                )\n",
    "            )\n",
    "        )\n",
    "        beta = numpyro.deterministic(\n",
    "            site.beta,\n",
    "            g_1[feature0, subject] + g_2[feature0, subject] * (1 / mu)\n",
    "        )\n",
    "\n",
    "        \"\"\" Observation \"\"\"\n",
    "        with numpyro.plate(site.data, n_data):\n",
    "            return numpyro.sample(\n",
    "                site.obs,\n",
    "                dist.Gamma(concentration=mu * beta, rate=beta).to_event(1),\n",
    "                obs=response_obs\n",
    "            )\n",
    "\n",
    "\n",
    "model = RectifiedLogistic(config=config)\n"
   ]
  },
  {
   "cell_type": "code",
   "execution_count": 4,
   "metadata": {},
   "outputs": [
    {
     "name": "stderr",
     "output_type": "stream",
     "text": [
      "2023-08-09 13:12:21,648 - hbmep.dataset.core - INFO - Artefacts will be stored here - /home/vishu/repos/hbmep-paper/reports/J_RCML_000/adm\n",
      "2023-08-09 13:12:21,649 - hbmep.dataset.core - INFO - Copied config to /home/vishu/repos/hbmep-paper/reports/J_RCML_000/adm\n",
      "2023-08-09 13:12:21,650 - hbmep.dataset.core - INFO - Processing data ...\n",
      "2023-08-09 13:12:21,652 - hbmep.utils.utils - INFO - func:load took: 0.00 sec\n",
      "2023-08-09 13:12:21,654 - hbmep.dataset.core - INFO - Plotting dataset ...\n"
     ]
    },
    {
     "name": "stderr",
     "output_type": "stream",
     "text": [
      "2023-08-09 13:12:28,848 - hbmep.dataset.core - INFO - Saved to /home/vishu/repos/hbmep-paper/reports/J_RCML_000/adm/dataset.pdf\n",
      "2023-08-09 13:12:28,848 - hbmep.utils.utils - INFO - func:plot took: 7.20 sec\n"
     ]
    }
   ],
   "source": [
    "df = pd.read_csv(model.csv_path)\n",
    "\n",
    "ind = df.pulse_amplitude.isin([0])\n",
    "df = df[~ind].reset_index(drop=True).copy()\n",
    "\n",
    "subset = ['-C5L', '-C6L', '-C7L', '-C8L']\n",
    "ind = df.compound_position.isin(subset)\n",
    "df = df[ind].reset_index(drop=True).copy()\n",
    "\n",
    "# df[model.features] = \\\n",
    "#     df.compound_position \\\n",
    "#         .apply(lambda x: x.split(\"-\")) \\\n",
    "#         .apply(lambda x: (x[0][:2] + \"-\" + x[1][:2], x[0][-1])) \\\n",
    "#         .apply(pd.Series)\n",
    "\n",
    "\"\"\" Process \"\"\"\n",
    "df, encoder_dict = model.load(df=df)\n",
    "\n",
    "\"\"\" Plot \"\"\"\n",
    "model.plot(df=df, encoder_dict=encoder_dict)"
   ]
  },
  {
   "cell_type": "code",
   "execution_count": 5,
   "metadata": {},
   "outputs": [
    {
     "data": {
      "text/plain": [
       "(1604, 44)"
      ]
     },
     "execution_count": 5,
     "metadata": {},
     "output_type": "execute_result"
    }
   ],
   "source": [
    "df.shape"
   ]
  },
  {
   "cell_type": "code",
   "execution_count": 6,
   "metadata": {},
   "outputs": [
    {
     "name": "stderr",
     "output_type": "stream",
     "text": [
      "2023-08-09 13:12:28,885 - hbmep.model.baseline - INFO - Running inference with rectified_logistic ...\n"
     ]
    },
    {
     "data": {
      "application/vnd.jupyter.widget-view+json": {
       "model_id": "fb7a8ce47bc64c5ab015a5a7e0a54831",
       "version_major": 2,
       "version_minor": 0
      },
      "text/plain": [
       "  0%|          | 0/10000 [00:00<?, ?it/s]"
      ]
     },
     "metadata": {},
     "output_type": "display_data"
    },
    {
     "data": {
      "application/vnd.jupyter.widget-view+json": {
       "model_id": "57a51c339db548b7b0cea7b784ffbc4d",
       "version_major": 2,
       "version_minor": 0
      },
      "text/plain": [
       "  0%|          | 0/10000 [00:00<?, ?it/s]"
      ]
     },
     "metadata": {},
     "output_type": "display_data"
    },
    {
     "data": {
      "application/vnd.jupyter.widget-view+json": {
       "model_id": "c8ea7021932a4c52ab3b8e036b8718ae",
       "version_major": 2,
       "version_minor": 0
      },
      "text/plain": [
       "  0%|          | 0/10000 [00:00<?, ?it/s]"
      ]
     },
     "metadata": {},
     "output_type": "display_data"
    },
    {
     "data": {
      "application/vnd.jupyter.widget-view+json": {
       "model_id": "1df2f976045342bfb2e0660f98639165",
       "version_major": 2,
       "version_minor": 0
      },
      "text/plain": [
       "  0%|          | 0/10000 [00:00<?, ?it/s]"
      ]
     },
     "metadata": {},
     "output_type": "display_data"
    },
    {
     "name": "stderr",
     "output_type": "stream",
     "text": [
      "2023-08-09 13:59:07,324 - hbmep.utils.utils - INFO - func:run_inference took: 46 min and 38.44 sec\n"
     ]
    }
   ],
   "source": [
    "mcmc, posterior_samples = model.run_inference(df=df)\n"
   ]
  },
  {
   "cell_type": "code",
   "execution_count": 7,
   "metadata": {},
   "outputs": [
    {
     "name": "stdout",
     "output_type": "stream",
     "text": [
      "\n",
      "                mean       std    median      2.5%     97.5%     n_eff     r_hat\n",
      "  H[0,0,0]      0.89      0.97      0.73      0.57      1.29    292.58      1.01\n",
      "  H[0,1,0]      2.43      3.68      0.90      0.04      9.77   2081.26      1.00\n",
      "  H[0,2,0]      2.42      0.09      2.42      2.26      2.61   2445.42      1.00\n",
      "  H[0,3,0]      3.86      3.81      2.77      0.16     10.92   2523.29      1.00\n",
      "  H[0,4,0]      2.11      2.41      1.26      0.24      6.74   3518.11      1.00\n",
      "  H[0,5,0]      0.09      0.01      0.09      0.07      0.11   4191.88      1.00\n",
      "  H[0,6,0]      1.83      2.51      0.75      0.20      6.66   2637.48      1.00\n",
      "  H[0,7,0]      1.70      2.14      1.03      0.00      5.85   2348.20      1.01\n",
      "  H[1,0,0]      2.40      2.70      1.42      0.43      7.79   1399.37      1.00\n",
      "  H[1,1,0]      3.31      3.75      1.97      0.18     10.66   2358.96      1.00\n",
      "  H[1,2,0]      2.49      0.06      2.49      2.37      2.61   3243.58      1.00\n",
      "  H[1,3,0]      3.60      3.68      2.46      0.08     10.85   3961.08      1.00\n",
      "  H[1,4,0]      3.04      2.47      2.25      0.56      7.92   2130.58      1.00\n",
      "  H[1,5,0]      0.43      0.82      0.21      0.08      1.80   1622.78      1.00\n",
      "  H[1,6,0]      0.94      0.85      0.79      0.51      1.54   1219.45      1.01\n",
      "  H[1,7,0]      2.23      0.06      2.22      2.10      2.35   2692.04      1.00\n",
      "  H[2,0,0]      1.71      2.64      0.74      0.00      6.93   2464.70      1.00\n",
      "  H[2,1,0]      2.80      3.58      1.50      0.08      9.78   3022.39      1.00\n",
      "  H[2,2,0]      2.46      0.04      2.46      2.38      2.55   4193.93      1.00\n",
      "  H[2,3,0]      4.14      3.65      3.02      0.69     11.22   2313.80      1.00\n",
      "  H[2,4,0]      1.25      0.13      1.23      1.05      1.49   1766.92      1.00\n",
      "  H[2,5,0]      1.01      0.05      1.01      0.92      1.11   5054.71      1.00\n",
      "  H[2,6,0]      0.74      0.05      0.74      0.65      0.84   4336.20      1.00\n",
      "  H[2,7,0]      2.00      0.03      2.00      1.95      2.06   4433.44      1.00\n",
      "  H[3,0,0]      1.67      2.62      0.71      0.00      6.69   2576.66      1.00\n",
      "  H[3,1,0]      2.91      3.68      1.58      0.02     10.27   2870.62      1.00\n",
      "  H[3,2,0]      2.53      0.75      2.31      1.77      3.89   1655.48      1.00\n",
      "  H[3,3,0]      2.70      0.17      2.69      2.40      3.02   1758.55      1.00\n",
      "  H[3,4,0]      1.32      0.04      1.32      1.24      1.39   4288.23      1.00\n",
      "  H[3,5,0]      2.12      0.06      2.12      2.00      2.24   4456.17      1.00\n",
      "  H[3,6,0]      4.38      2.75      3.57      1.32      9.79   3142.57      1.00\n",
      "  H[3,7,0]      0.92      1.27      0.57      0.34      2.94    479.44      1.01\n",
      "  L[0,0,0]      0.02      0.00      0.02      0.01      0.02   3395.44      1.00\n",
      "  L[0,1,0]      0.03      0.00      0.03      0.02      0.04    229.36      1.00\n",
      "  L[0,2,0]      0.02      0.00      0.02      0.01      0.02   1868.60      1.00\n",
      "  L[0,3,0]      0.03      0.00      0.03      0.03      0.04   4510.80      1.00\n",
      "  L[0,4,0]      0.02      0.00      0.02      0.01      0.02   4472.61      1.00\n",
      "  L[0,5,0]      0.03      0.00      0.03      0.03      0.03   5082.40      1.00\n",
      "  L[0,6,0]      0.02      0.00      0.02      0.02      0.03   4487.36      1.00\n",
      "  L[0,7,0]      0.02      0.00      0.02      0.02      0.02    268.13      1.02\n",
      "  L[1,0,0]      0.02      0.00      0.02      0.01      0.02   4037.63      1.00\n",
      "  L[1,1,0]      0.02      0.00      0.02      0.02      0.02   3308.00      1.00\n",
      "  L[1,2,0]      0.02      0.00      0.02      0.01      0.02   5050.11      1.00\n",
      "  L[1,3,0]      0.04      0.00      0.04      0.03      0.05   3535.09      1.00\n",
      "  L[1,4,0]      0.02      0.00      0.02      0.01      0.02   3716.92      1.00\n",
      "  L[1,5,0]      0.04      0.00      0.04      0.03      0.04   5312.63      1.00\n",
      "  L[1,6,0]      0.02      0.00      0.02      0.01      0.02   5715.04      1.00\n",
      "  L[1,7,0]      0.03      0.00      0.03      0.02      0.04   2608.98      1.00\n",
      "  L[2,0,0]      0.01      0.00      0.01      0.01      0.02   1828.84      1.00\n",
      "  L[2,1,0]      0.02      0.00      0.02      0.02      0.02   3324.27      1.00\n",
      "  L[2,2,0]      0.02      0.00      0.02      0.01      0.02   5508.02      1.00\n",
      "  L[2,3,0]      0.02      0.00      0.02      0.02      0.02   4010.32      1.00\n",
      "  L[2,4,0]      0.02      0.00      0.02      0.01      0.02   2857.17      1.00\n",
      "  L[2,5,0]      0.03      0.01      0.03      0.02      0.05   3487.99      1.00\n",
      "  L[2,6,0]      0.02      0.00      0.02      0.01      0.02   3203.71      1.00\n",
      "  L[2,7,0]      0.02      0.00      0.02      0.02      0.02   4315.57      1.00\n",
      "  L[3,0,0]      0.02      0.00      0.02      0.01      0.02   1591.91      1.00\n",
      "  L[3,1,0]      0.02      0.00      0.02      0.02      0.02   4698.68      1.00\n",
      "  L[3,2,0]      0.02      0.00      0.02      0.01      0.02   1169.36      1.00\n",
      "  L[3,3,0]      0.04      0.01      0.04      0.03      0.06   4720.01      1.00\n",
      "  L[3,4,0]      0.01      0.00      0.01      0.01      0.02   4238.27      1.00\n",
      "  L[3,5,0]      0.03      0.00      0.03      0.03      0.03   4988.36      1.00\n",
      "  L[3,6,0]      0.02      0.00      0.02      0.01      0.02   5600.29      1.00\n",
      "  L[3,7,0]      0.02      0.00      0.02      0.02      0.02   5208.91      1.00\n",
      "  a[0,0,0]    154.92      3.67    155.42    147.58    161.51   2685.88      1.00\n",
      "  a[0,1,0]    149.57     39.91    159.78     36.21    195.62    141.78      1.01\n",
      "  a[0,2,0]     52.01      1.33     52.01     48.66     53.79   1027.98      1.00\n",
      "  a[0,3,0]    270.84      7.30    271.98    253.73    284.33   1363.24      1.00\n",
      "  a[0,4,0]     35.74      3.47     35.70     29.11     42.95   4116.92      1.00\n",
      "  a[0,5,0]    344.95      2.09    344.89    341.05    349.25   3605.47      1.00\n",
      "  a[0,6,0]    200.20      6.98    199.60    188.99    215.01   2060.63      1.00\n",
      "  a[0,7,0]    143.28     96.55    113.90      0.46    303.13    180.05      1.03\n",
      "  a[1,0,0]    131.52      4.10    131.86    123.38    139.19   3836.78      1.00\n",
      "  a[1,1,0]    162.59      8.88    162.33    144.08    180.06   2071.57      1.00\n",
      "  a[1,2,0]    120.83      1.26    121.03    118.17    123.03   3615.08      1.00\n",
      "  a[1,3,0]    284.76     14.94    288.88    255.20    304.84    505.68      1.00\n",
      "  a[1,4,0]     31.15      2.87     30.89     25.84     37.03   3522.86      1.00\n",
      "  a[1,5,0]    369.68      7.01    371.36    355.77    378.93   1210.69      1.00\n",
      "  a[1,6,0]     81.20      6.03     82.01     69.29     91.39   2358.53      1.00\n",
      "  a[1,7,0]     51.08      2.07     50.81     46.94     55.13   2484.69      1.00\n",
      "  a[2,0,0]    223.86     49.37    229.64    133.85    303.58    867.36      1.00\n",
      "  a[2,1,0]    217.79     17.75    217.01    189.56    250.27   1742.68      1.00\n",
      "  a[2,2,0]    169.54      0.28    169.58    168.99    170.05   4923.66      1.00\n",
      "  a[2,3,0]    228.31      2.41    228.14    223.84    234.45   1496.60      1.00\n",
      "  a[2,4,0]     44.83      2.43     45.00     40.11     49.68   2527.52      1.00\n",
      "  a[2,5,0]     68.59      4.20     68.37     60.76     77.42   3903.41      1.00\n",
      "  a[2,6,0]     47.18      2.21     47.72     41.91     50.69   2105.51      1.00\n",
      "  a[2,7,0]     34.10      0.50     34.18     33.08     34.96   2635.85      1.00\n",
      "  a[3,0,0]    194.16     85.01    172.68     59.93    401.25    694.78      1.01\n",
      "  a[3,1,0]    197.24     13.31    197.36    170.38    222.93   3385.49      1.00\n",
      "  a[3,2,0]    243.29      3.00    241.81    239.69    249.05    191.86      1.02\n",
      "  a[3,3,0]    186.89      3.23    186.99    180.45    193.14   3667.60      1.00\n",
      "  a[3,4,0]     36.24      0.29     36.17     35.85     36.90   2153.78      1.00\n",
      "  a[3,5,0]    114.33      1.27    114.38    111.75    116.61   4952.87      1.00\n",
      "  a[3,6,0]    207.54      0.92    207.68    205.81    209.10   3480.09      1.00\n",
      "  a[3,7,0]    163.57      1.50    163.96    159.82    165.79    639.48      1.01\n",
      "  b[0,0,0]      0.07      0.04      0.06      0.00      0.14   1070.94      1.01\n",
      "  b[0,1,0]      0.01      0.02      0.01      0.00      0.05   1407.18      1.00\n",
      "  b[0,2,0]      0.02      0.00      0.02      0.01      0.02   2053.20      1.00\n",
      "  b[0,3,0]      0.05      0.03      0.04      0.00      0.11   2002.83      1.00\n",
      "  b[0,4,0]      0.03      0.02      0.03      0.00      0.07   2100.98      1.00\n",
      "  b[0,5,0]      0.25      0.12      0.22      0.06      0.49   3506.51      1.00\n",
      "  b[0,6,0]      0.04      0.03      0.03      0.00      0.09   2326.01      1.00\n",
      "  b[0,7,0]      0.07      0.10      0.02      0.00      0.27    555.57      1.01\n",
      "  b[1,0,0]      0.03      0.03      0.03      0.00      0.08   1676.78      1.00\n",
      "  b[1,1,0]      0.01      0.01      0.01      0.00      0.03   1939.16      1.00\n",
      "  b[1,2,0]      0.02      0.00      0.02      0.02      0.03   2360.85      1.00\n",
      "  b[1,3,0]      0.04      0.04      0.03      0.00      0.11   2619.52      1.00\n",
      "  b[1,4,0]      0.04      0.03      0.03      0.00      0.09   2284.70      1.00\n",
      "  b[1,5,0]      0.24      0.15      0.21      0.01      0.51   2032.35      1.00\n",
      "  b[1,6,0]      0.04      0.03      0.03      0.00      0.09   3245.53      1.00\n",
      "  b[1,7,0]      0.18      0.07      0.17      0.07      0.32   1735.97      1.00\n",
      "  b[2,0,0]      0.01      0.04      0.00      0.00      0.09    986.89      1.00\n",
      "  b[2,1,0]      0.01      0.01      0.01      0.00      0.04   1487.37      1.00\n",
      "  b[2,2,0]      0.04      0.00      0.04      0.03      0.05   3022.89      1.00\n",
      "  b[2,3,0]      0.07      0.05      0.06      0.00      0.17   1927.74      1.00\n",
      "  b[2,4,0]      0.08      0.05      0.07      0.01      0.17   2358.86      1.00\n",
      "  b[2,5,0]      0.08      0.05      0.07      0.02      0.17   3000.20      1.00\n",
      "  b[2,6,0]      0.07      0.03      0.06      0.03      0.14   1782.85      1.00\n",
      "  b[2,7,0]      0.12      0.03      0.11      0.07      0.19   2737.86      1.00\n",
      "  b[3,0,0]      0.01      0.04      0.00      0.00      0.08   1305.38      1.01\n",
      "  b[3,1,0]      0.00      0.00      0.00      0.00      0.01   2631.66      1.00\n",
      "  b[3,2,0]      0.03      0.02      0.03      0.01      0.07   2144.83      1.00\n",
      "  b[3,3,0]      0.13      0.07      0.12      0.02      0.28   1974.34      1.00\n",
      "  b[3,4,0]      0.12      0.03      0.11      0.08      0.17   2431.79      1.00\n",
      "  b[3,5,0]      0.17      0.08      0.15      0.04      0.34   2648.37      1.00\n",
      "  b[3,6,0]      0.08      0.05      0.07      0.01      0.17   1727.95      1.00\n",
      "  b[3,7,0]      0.19      0.12      0.17      0.02      0.42   1924.84      1.00\n",
      "g_1[0,0,0]      8.39      5.27      7.71      0.00     18.15   2689.63      1.00\n",
      "g_1[0,1,0]     20.11     17.49     15.43      0.00     55.41   2509.32      1.00\n",
      "g_1[0,2,0]     41.97     14.32     41.50     14.11     70.21   2753.35      1.00\n",
      "g_1[0,3,0]     51.56     30.27     47.63      0.03    106.94   2725.48      1.00\n",
      "g_1[0,4,0]      2.12      2.04      1.49      0.00      6.20   4790.85      1.00\n",
      "g_1[0,5,0]     11.27     11.28      7.84      0.00     33.27   8320.60      1.00\n",
      "g_1[0,6,0]     14.12     11.94     11.10      0.00     37.38   5100.31      1.00\n",
      "g_1[0,7,0]    100.41    100.98     69.16      0.00    302.24   8038.02      1.00\n",
      "g_1[1,0,0]     12.60      6.54     11.99      0.47     24.64   4550.62      1.00\n",
      "g_1[1,1,0]      7.05      6.81      5.04      0.00     20.56   4908.43      1.00\n",
      "g_1[1,2,0]     28.69     13.11     27.95      3.48     53.86   3577.23      1.00\n",
      "g_1[1,3,0]     16.15     13.93     12.36      0.00     44.26   3043.19      1.00\n",
      "g_1[1,4,0]      2.56      2.40      1.87      0.00      7.41   6422.44      1.00\n",
      "g_1[1,5,0]      2.31      2.46      1.52      0.00      7.21   8987.94      1.00\n",
      "g_1[1,6,0]      1.34      1.15      1.02      0.00      3.63   5257.29      1.00\n",
      "g_1[1,7,0]     39.52     11.19     38.64     18.47     61.32   3680.13      1.00\n",
      "g_1[2,0,0]     90.46     91.19     61.90      0.00    269.88   7198.69      1.00\n",
      "g_1[2,1,0]      6.66      6.63      4.66      0.00     19.89   7820.84      1.00\n",
      "g_1[2,2,0]     38.08     21.01     36.10      0.30     75.78   3953.55      1.00\n",
      "g_1[2,3,0]      2.17      2.10      1.55      0.00      6.37   6543.23      1.00\n",
      "g_1[2,4,0]     15.03      5.67     14.66      4.28     26.27   4412.50      1.00\n",
      "g_1[2,5,0]     13.69      5.62     13.46      2.43     24.55   3343.78      1.00\n",
      "g_1[2,6,0]      3.87      2.97      3.27      0.00      9.63   3274.15      1.00\n",
      "g_1[2,7,0]     64.91     21.76     63.78     24.36    109.18   4831.76      1.00\n",
      "g_1[3,0,0]     98.62     99.12     68.95      0.00    296.17   6435.54      1.00\n",
      "g_1[3,1,0]     48.48     48.43     33.52      0.00    146.64   6948.56      1.00\n",
      "g_1[3,2,0]      9.02      6.72      7.68      0.00     21.99    991.11      1.01\n",
      "g_1[3,3,0]     16.99      5.35     16.57      7.46     27.71   3481.88      1.00\n",
      "g_1[3,4,0]     14.03      8.42     13.21      0.03     29.14   3364.12      1.00\n",
      "g_1[3,5,0]     15.93      7.25     15.49      1.45     29.19   4559.24      1.00\n",
      "g_1[3,6,0]      5.71      5.05      4.36      0.00     15.71   6709.32      1.00\n",
      "g_1[3,7,0]      5.11      5.00      3.59      0.00     15.29   5884.17      1.00\n",
      "g_2[0,0,0]      5.34      1.57      5.24      2.45      8.46   4412.60      1.00\n",
      "g_2[0,1,0]      3.86      1.31      3.91      1.17      6.46   2471.48      1.00\n",
      "g_2[0,2,0]     22.70     12.14     20.98      2.43     46.54   2273.38      1.00\n",
      "g_2[0,3,0]      2.73      1.31      2.71      0.02      4.94   3012.07      1.00\n",
      "g_2[0,4,0]      5.90      1.28      5.84      3.45      8.48   3430.65      1.00\n",
      "g_2[0,5,0]     16.85      3.52     16.63     10.19     23.79   5021.42      1.00\n",
      "g_2[0,6,0]      7.22      1.71      7.11      3.98     10.62   5135.55      1.00\n",
      "g_2[0,7,0]     65.69     14.62     64.49     38.74     95.31    890.45      1.00\n",
      "g_2[1,0,0]      3.75      1.22      3.65      1.45      6.15   3804.82      1.00\n",
      "g_2[1,1,0]      6.96      1.55      6.88      4.10     10.10   4534.20      1.00\n",
      "g_2[1,2,0]     37.32     14.13     35.49     11.44     65.01   3493.48      1.00\n",
      "g_2[1,3,0]      3.31      1.00      3.32      1.29      5.31   3571.35      1.00\n",
      "g_2[1,4,0]      8.20      1.85      8.09      4.73     11.90   3659.87      1.00\n",
      "g_2[1,5,0]      6.25      1.33      6.16      3.79      8.88   4040.50      1.00\n",
      "g_2[1,6,0]      3.39      0.85      3.35      1.72      5.04   4548.99      1.00\n",
      "g_2[1,7,0]      3.29      1.77      3.06      0.07      6.55   3084.92      1.00\n",
      "g_2[2,0,0]     42.94      9.42     42.30     25.25     61.69   2971.11      1.00\n",
      "g_2[2,1,0]      7.95      1.69      7.84      4.83     11.32   4181.60      1.00\n",
      "g_2[2,2,0]     78.53     25.36     76.37     32.04    128.79   3788.03      1.00\n",
      "g_2[2,3,0]     11.91      2.47     11.73      7.21     16.72   3617.14      1.00\n",
      "g_2[2,4,0]      4.99      1.95      4.78      1.63      8.96   3716.12      1.00\n",
      "g_2[2,5,0]      5.72      2.67      5.37      1.11     11.07   3225.43      1.00\n",
      "g_2[2,6,0]      5.61      2.05      5.57      1.72      9.48   3160.49      1.00\n",
      "g_2[2,7,0]     38.79     18.61     36.09      6.85     74.95   4650.17      1.00\n",
      "g_2[3,0,0]     41.31      8.74     40.65     24.91     58.81   4617.20      1.00\n",
      "g_2[3,1,0]     26.26      5.70     25.90     15.29     37.52   6167.75      1.00\n",
      "g_2[3,2,0]     17.04      4.66     16.62      8.59     26.29    860.35      1.00\n",
      "g_2[3,3,0]      0.77      0.41      0.74      0.00      1.51   4688.78      1.00\n",
      "g_2[3,4,0]     21.27      8.77     20.64      5.74     38.22   2957.68      1.00\n",
      "g_2[3,5,0]     19.71      7.25     18.89      6.53     33.94   3526.45      1.00\n",
      "g_2[3,6,0]     12.92      2.85     12.78      7.34     18.35   4661.92      1.00\n",
      "g_2[3,7,0]      8.21      1.89      8.09      4.78     12.01   2945.78      1.00\n",
      "  v[0,0,0]     12.88      8.77     11.64      0.00     29.07   1101.70      1.01\n",
      "  v[0,1,0]     11.27     10.35      8.32      0.00     32.05   2472.69      1.00\n",
      "  v[0,2,0]      1.40      0.66      1.36      0.00      2.55   1931.72      1.00\n",
      "  v[0,3,0]     14.46     10.31     12.15      0.01     34.35   2103.90      1.00\n",
      "  v[0,4,0]     13.77     10.21     11.45      0.01     33.81   2185.54      1.00\n",
      "  v[0,5,0]      7.38      6.91      5.46      0.03     20.92   4987.89      1.00\n",
      "  v[0,6,0]      7.22      6.70      5.28      0.00     20.62   1649.27      1.00\n",
      "  v[0,7,0]      9.40      8.39      7.16      0.01     25.90   2887.46      1.00\n",
      "  v[1,0,0]     14.07     10.61     11.71      0.00     34.62   1651.56      1.00\n",
      "  v[1,1,0]     11.61      9.94      8.91      0.00     31.29   1933.38      1.00\n",
      "  v[1,2,0]      0.22      0.22      0.15      0.00      0.65   2497.53      1.00\n",
      "  v[1,3,0]     14.25     10.56     11.87      0.02     34.64   2726.87      1.00\n",
      "  v[1,4,0]     13.99      9.14     11.92      1.15     32.35   2244.37      1.00\n",
      "  v[1,5,0]      7.47      6.95      5.50      0.01     21.37   3211.94      1.00\n",
      "  v[1,6,0]      3.72      4.66      2.16      0.00     12.94   1995.30      1.00\n",
      "  v[1,7,0]     12.57      4.72     11.73      5.12     22.41   1712.93      1.00\n",
      "  v[2,0,0]     16.57     13.42     13.45      0.00     42.94   3256.08      1.00\n",
      "  v[2,1,0]     10.15      9.58      7.39      0.00     29.00   2304.91      1.00\n",
      "  v[2,2,0]      0.14      0.15      0.10      0.00      0.44   3602.81      1.00\n",
      "  v[2,3,0]     12.56      8.37     10.82      0.01     28.44   1921.73      1.00\n",
      "  v[2,4,0]      8.79      5.50      7.76      0.00     19.20   2285.06      1.00\n",
      "  v[2,5,0]     12.65      7.89     10.93      0.64     28.02   2934.16      1.00\n",
      "  v[2,6,0]      2.51      3.23      1.45      0.00      8.73   1744.45      1.00\n",
      "  v[2,7,0]      1.57      1.07      1.38      0.00      3.57   2528.94      1.00\n",
      "  v[3,0,0]     15.77     13.17     12.62      0.01     41.41   2995.08      1.00\n",
      "  v[3,1,0]     14.56     12.00     11.60      0.00     38.10   2563.71      1.00\n",
      "  v[3,2,0]      3.65      2.41      3.31      0.00      8.05   1473.44      1.00\n",
      "  v[3,3,0]      9.26      5.31      8.29      0.84     19.99   1967.17      1.00\n",
      "  v[3,4,0]      0.57      0.61      0.38      0.00      1.74   2761.44      1.00\n",
      "  v[3,5,0]      9.84      4.99      8.83      1.95     19.86   2634.02      1.00\n",
      "  v[3,6,0]      6.96      4.23      5.98      0.98     15.41   1736.94      1.00\n",
      "  v[3,7,0]      2.63      2.99      1.65      0.00      8.53    970.76      1.01\n",
      "  µ_a[0,0]    165.61     30.12    163.13    109.05    230.40   2148.68      1.00\n",
      "  µ_a[1,0]    176.65     23.83    179.21    124.88    222.30    633.50      1.00\n",
      "  µ_a[2,0]    143.34     31.11    143.98     82.50    205.29   6136.30      1.00\n",
      "  µ_a[3,0]    221.20     27.30    224.59    161.17    269.08   3804.28      1.00\n",
      "  µ_a[4,0]     38.83     10.39     37.89     19.64     61.59   1689.52      1.00\n",
      "  µ_a[5,0]    177.08     40.75    178.25     96.33    255.19   4886.15      1.00\n",
      "  µ_a[6,0]    134.76     32.35    135.31     68.91    196.95   3876.01      1.00\n",
      "  µ_a[7,0]    106.05     36.76    104.44     36.94    180.83    990.32      1.01\n",
      "  σ_H[0,0]      2.56      2.19      1.80      0.29      7.18   1413.55      1.00\n",
      "  σ_H[1,0]      3.71      2.92      3.00      0.12      9.50   1738.22      1.00\n",
      "  σ_H[2,0]      3.26      1.37      2.94      1.26      5.99   4086.72      1.00\n",
      "  σ_H[3,0]      4.53      2.43      3.95      1.14      9.46   2709.86      1.00\n",
      "  σ_H[4,0]      2.87      1.81      2.35      0.66      6.60   2640.71      1.00\n",
      "  σ_H[5,0]      1.81      1.00      1.54      0.61      3.79   3238.40      1.00\n",
      "  σ_H[6,0]      3.26      1.98      2.73      0.65      7.25   3117.87      1.00\n",
      "  σ_H[7,0]      2.66      1.43      2.27      0.88      5.57   2723.49      1.00\n",
      "  σ_L[0,0]      0.02      0.01      0.02      0.01      0.05   3517.69      1.00\n",
      "  σ_L[1,0]      0.03      0.01      0.03      0.01      0.06   5307.89      1.00\n",
      "  σ_L[2,0]      0.02      0.01      0.02      0.01      0.04   5066.55      1.00\n",
      "  σ_L[3,0]      0.04      0.02      0.04      0.02      0.07   4836.27      1.00\n",
      "  σ_L[4,0]      0.02      0.01      0.02      0.01      0.04   3656.77      1.00\n",
      "  σ_L[5,0]      0.04      0.02      0.04      0.02      0.07   5103.80      1.00\n",
      "  σ_L[6,0]      0.03      0.01      0.02      0.01      0.05   4949.98      1.00\n",
      "  σ_L[7,0]      0.03      0.01      0.03      0.01      0.05   4303.24      1.00\n",
      "  σ_a[0,0]     55.62     29.70     51.36      7.01    112.68   1082.16      1.01\n",
      "  σ_a[1,0]     41.72     22.57     36.48      9.24     90.88    481.95      1.00\n",
      "  σ_a[2,0]     75.60     22.12     72.00     38.32    119.85   4160.95      1.00\n",
      "  σ_a[3,0]     54.20     21.23     49.90     20.67     96.90   3080.88      1.00\n",
      "  σ_a[4,0]     13.70     13.14      9.25      1.27     40.69   2226.31      1.00\n",
      "  σ_a[5,0]    113.07     24.15    110.57     68.25    160.16   4665.00      1.00\n",
      "  σ_a[6,0]     76.86     21.90     73.68     39.98    120.24   5753.01      1.00\n",
      "  σ_a[7,0]     75.16     24.59     71.86     31.62    122.62   1310.61      1.01\n",
      "  σ_b[0,0]      0.05      0.04      0.05      0.00      0.13   1106.82      1.01\n",
      "  σ_b[1,0]      0.02      0.02      0.01      0.00      0.06   1668.41      1.00\n",
      "  σ_b[2,0]      0.04      0.02      0.04      0.01      0.09   3682.62      1.00\n",
      "  σ_b[3,0]      0.10      0.05      0.09      0.02      0.19   1983.02      1.00\n",
      "  σ_b[4,0]      0.09      0.04      0.09      0.03      0.16   3315.55      1.00\n",
      "  σ_b[5,0]      0.18      0.06      0.17      0.07      0.29   2674.40      1.00\n",
      "  σ_b[6,0]      0.07      0.04      0.07      0.02      0.15   2025.16      1.00\n",
      "  σ_b[7,0]      0.15      0.05      0.14      0.06      0.25   2506.12      1.00\n",
      "  σ_v[0,0]     14.68      6.61     14.27      2.47     27.77   1494.28      1.01\n",
      "  σ_v[1,0]     12.54      6.62     11.84      0.84     25.25   1760.51      1.00\n",
      "  σ_v[2,0]      2.92      2.19      2.37      0.01      7.11   2285.64      1.00\n",
      "  σ_v[3,0]     13.29      5.68     12.66      3.19     24.42   2013.59      1.00\n",
      "  σ_v[4,0]     11.66      5.46     10.89      2.49     22.51   2063.57      1.00\n",
      "  σ_v[5,0]     11.19      4.98     10.38      2.92     21.05   3623.41      1.00\n",
      "  σ_v[6,0]      7.32      4.47      6.33      0.87     16.25   1464.53      1.00\n",
      "  σ_v[7,0]      9.58      4.41      8.74      2.65     18.28   2642.59      1.00\n",
      "\n",
      "Number of divergences: 3692\n"
     ]
    }
   ],
   "source": [
    "mcmc.print_summary(prob=.95)\n"
   ]
  },
  {
   "cell_type": "code",
   "execution_count": 8,
   "metadata": {},
   "outputs": [
    {
     "name": "stderr",
     "output_type": "stream",
     "text": [
      "2023-08-09 13:59:08,167 - hbmep.model.baseline - INFO - Generating predictions ...\n"
     ]
    },
    {
     "name": "stderr",
     "output_type": "stream",
     "text": [
      "2023-08-09 13:59:36,285 - hbmep.utils.utils - INFO - func:predict took: 28.11 sec\n",
      "2023-08-09 13:59:36,391 - hbmep.model.baseline - INFO - Rendering recruitment curves ...\n",
      "2023-08-09 13:59:46,029 - hbmep.model.baseline - INFO - Saved to /home/vishu/repos/hbmep-paper/reports/J_RCML_000/adm/recruitment_curves.pdf\n",
      "2023-08-09 13:59:46,029 - hbmep.utils.utils - INFO - func:render_recruitment_curves took: 37.86 sec\n"
     ]
    }
   ],
   "source": [
    "model.render_recruitment_curves(df=df, encoder_dict=encoder_dict, posterior_samples=posterior_samples)\n",
    "\n"
   ]
  },
  {
   "cell_type": "code",
   "execution_count": 9,
   "metadata": {},
   "outputs": [
    {
     "name": "stderr",
     "output_type": "stream",
     "text": [
      "2023-08-09 13:59:46,063 - hbmep.model.baseline - INFO - Generating predictions ...\n",
      "2023-08-09 14:00:14,038 - hbmep.utils.utils - INFO - func:predict took: 27.97 sec\n",
      "2023-08-09 14:00:14,223 - hbmep.model.baseline - INFO - Rendering Posterior Predictive Check ...\n",
      "2023-08-09 14:00:32,892 - hbmep.model.baseline - INFO - Saved to /home/vishu/repos/hbmep-paper/reports/J_RCML_000/adm/posterior_predictive_check.pdf\n",
      "2023-08-09 14:00:32,895 - hbmep.utils.utils - INFO - func:render_predictive_check took: 46.83 sec\n"
     ]
    }
   ],
   "source": [
    "model.render_predictive_check(df=df, encoder_dict=encoder_dict, posterior_samples=posterior_samples)\n"
   ]
  },
  {
   "cell_type": "code",
   "execution_count": 10,
   "metadata": {},
   "outputs": [
    {
     "name": "stderr",
     "output_type": "stream",
     "text": [
      "2023-08-09 14:00:32,963 - hbmep.model.baseline - INFO - Saving inference data ...\n",
      "2023-08-09 14:00:51,562 - hbmep.model.baseline - INFO - Saved to /home/vishu/repos/hbmep-paper/reports/J_RCML_000/adm/mcmc.nc\n",
      "2023-08-09 14:00:51,563 - hbmep.model.baseline - INFO - Rendering convergence diagnostics ...\n",
      "2023-08-09 14:01:23,132 - hbmep.model.baseline - INFO - Saved to /home/vishu/repos/hbmep-paper/reports/J_RCML_000/adm/diagnostics.csv\n",
      "2023-08-09 14:01:23,133 - hbmep.model.baseline - INFO - Evaluating model ...\n",
      "/home/vishu/repos/hbmep-paper/.venv/lib/python3.11/site-packages/arviz/stats/stats.py:1037: RuntimeWarning: overflow encountered in exp\n",
      "  weights = 1 / np.exp(len_scale - len_scale[:, None]).sum(axis=1)\n",
      "/home/vishu/repos/hbmep-paper/.venv/lib/python3.11/site-packages/arviz/stats/stats.py:803: UserWarning: Estimated shape parameter of Pareto distribution is greater than 0.7 for one or more samples. You should consider using a more robust model, this is because importance sampling is less likely to work well if the marginal posterior and LOO posterior are very different. This is more likely to happen with a non-robust model and highly influential observations.\n",
      "  warnings.warn(\n",
      "2023-08-09 14:01:28,554 - hbmep.model.baseline - INFO - ELPD LOO (Log): 3285.54\n",
      "/home/vishu/repos/hbmep-paper/.venv/lib/python3.11/site-packages/arviz/stats/stats.py:1645: UserWarning: For one or more samples the posterior variance of the log predictive densities exceeds 0.4. This could be indication of WAIC starting to fail. \n",
      "See http://arxiv.org/abs/1507.04544 for details\n",
      "  warnings.warn(\n",
      "2023-08-09 14:01:29,050 - hbmep.model.baseline - INFO - ELPD WAIC (Log): 3313.26\n",
      "2023-08-09 14:01:29,055 - hbmep.utils.utils - INFO - func:save took: 56.09 sec\n"
     ]
    }
   ],
   "source": [
    "model.save(mcmc=mcmc)"
   ]
  },
  {
   "cell_type": "code",
   "execution_count": null,
   "metadata": {},
   "outputs": [],
   "source": []
  }
 ],
 "metadata": {
  "kernelspec": {
   "display_name": ".venv",
   "language": "python",
   "name": "python3"
  },
  "language_info": {
   "codemirror_mode": {
    "name": "ipython",
    "version": 3
   },
   "file_extension": ".py",
   "mimetype": "text/x-python",
   "name": "python",
   "nbconvert_exporter": "python",
   "pygments_lexer": "ipython3",
   "version": "3.11.4"
  },
  "orig_nbformat": 4,
  "vscode": {
   "interpreter": {
    "hash": "850bfd4e6f5ddd996dd5cd5088beecd08558625e274540230e1444ec52025b11"
   }
  }
 },
 "nbformat": 4,
 "nbformat_minor": 2
}
