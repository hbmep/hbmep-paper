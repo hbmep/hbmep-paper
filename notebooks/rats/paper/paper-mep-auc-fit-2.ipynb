{
 "cells": [
  {
   "cell_type": "code",
   "execution_count": 1,
   "metadata": {},
   "outputs": [],
   "source": [
    "%reload_ext autoreload\n",
    "%autoreload 2\n",
    "\n",
    "import os\n",
    "import logging\n",
    "from pathlib import Path\n",
    "import multiprocessing\n",
    "\n",
    "import jax.numpy as jnp\n",
    "import pandas as pd\n",
    "import numpy as np\n",
    "import numpyro\n",
    "import numpyro.distributions as dist\n",
    "from numpyro.distributions.mixtures import MixtureGeneral\n",
    "\n",
    "from hbmep.config import Config\n",
    "from hbmep.dataset import Dataset\n",
    "from hbmep.model import Baseline\n",
    "from hbmep.model.utils import Site as site\n",
    "from hbmep.utils.constants import RECTIFIED_LOGISTIC\n",
    "# from hbmep_paper.models.rats.utils import load_data\n",
    "\n",
    "numpyro.set_platform(\"cpu\")\n",
    "cpu_count = multiprocessing.cpu_count() - 2\n",
    "numpyro.set_host_device_count(cpu_count)\n",
    "numpyro.enable_x64()\n",
    "\n",
    "FORMAT = \"%(asctime)s - %(name)s - %(levelname)s - %(message)s\"\n",
    "logging.basicConfig(format=FORMAT, level=logging.INFO)\n",
    "logger = logging.getLogger(__name__)\n"
   ]
  },
  {
   "attachments": {},
   "cell_type": "markdown",
   "metadata": {},
   "source": [
    "#### Load config"
   ]
  },
  {
   "cell_type": "code",
   "execution_count": 2,
   "metadata": {},
   "outputs": [
    {
     "name": "stderr",
     "output_type": "stream",
     "text": [
      "2023-07-14 15:01:21,854 - hbmep.config - INFO - Verifying configuration ...\n",
      "2023-07-14 15:01:21,854 - hbmep.config - INFO - Success!\n"
     ]
    }
   ],
   "source": [
    "root_path = Path(os.getcwd()).parent.parent.parent.absolute()\n",
    "toml_path = os.path.join(root_path, \"configs/config.toml\")\n",
    "\n",
    "config = Config(toml_path=toml_path)"
   ]
  },
  {
   "attachments": {},
   "cell_type": "markdown",
   "metadata": {},
   "source": [
    "#### Load data and preprocess"
   ]
  },
  {
   "cell_type": "code",
   "execution_count": 3,
   "metadata": {},
   "outputs": [
    {
     "name": "stderr",
     "output_type": "stream",
     "text": [
      "2023-07-14 15:01:22,137 - hbmep.dataset.core - INFO - Artefacts will be stored here - /home/vishu/repos/reports/paper/run01\n",
      "2023-07-14 15:01:22,137 - hbmep.dataset.core - INFO - Copied config to /home/vishu/repos/reports/paper/run01\n",
      "2023-07-14 15:01:22,137 - hbmep.dataset.core - INFO - Processing data ...\n",
      "2023-07-14 15:01:22,139 - hbmep.utils.utils - INFO - func:build took: 0.00 sec\n"
     ]
    }
   ],
   "source": [
    "dir = \"/home/vishu/data/hbmep-processed/J_RCML_000\"\n",
    "\n",
    "# auc_window_path = os.path.join(dir, \"auc_window.npy\")\n",
    "# time_path = os.path.join(dir, \"time.npy\")\n",
    "\n",
    "# mat_path = os.path.join(dir, \"mat.npy\")\n",
    "# mat = np.load(mat_path)\n",
    "\n",
    "# auc_window = np.load(auc_window_path)\n",
    "# time = np.load(time_path)\n",
    "\n",
    "df_path = os.path.join(dir, \"data.csv\")\n",
    "df = pd.read_csv(df_path)\n",
    "\n",
    "data = Dataset(config)\n",
    "\n",
    "\"\"\" Filter \"\"\"\n",
    "columns = data.columns\n",
    "sub = [\n",
    "    # (\"amap06\", \"-C7L\"),\n",
    "    # (\"amap06\", \"-C8L\"),\n",
    "    # (\"amap08\", \"C6M-C7L\"),\n",
    "    (\"amap08\", \"C7M-C7L\")\n",
    "]\n",
    "ind = df[columns].apply(tuple, axis=1).isin(sub)\n",
    "\n",
    "df = df[ind].copy()\n",
    "df.reset_index(drop=True, inplace=True)\n",
    "\n",
    "# mat = mat[ind, ...]\n",
    "\n",
    "df, encoder_dict = data.build(df=df)\n"
   ]
  },
  {
   "cell_type": "code",
   "execution_count": 4,
   "metadata": {},
   "outputs": [],
   "source": [
    "class RectifiedLogistic(Baseline):\n",
    "    def __init__(self, config: Config):\n",
    "        super(RectifiedLogistic, self).__init__(config=config)\n",
    "        self.link = RECTIFIED_LOGISTIC\n",
    "\n",
    "        self.mu_a = config.PRIORS[site.mu_a]\n",
    "        self.sigma_a = config.PRIORS[site.sigma_a]\n",
    "\n",
    "        self.sigma_b = config.PRIORS[site.sigma_b]\n",
    "\n",
    "        self.sigma_L = config.PRIORS[site.sigma_L]\n",
    "        self.sigma_H = config.PRIORS[site.sigma_H]\n",
    "        self.sigma_v = config.PRIORS[site.sigma_v]\n",
    "\n",
    "        self.g_1 = config.PRIORS[site.g_1]\n",
    "        self.g_2 = config.PRIORS[site.g_2]\n",
    "\n",
    "        self.p = config.PRIORS[site.p]\n",
    "\n",
    "    def _model(self, subject, features, intensity, response_obs=None):\n",
    "        intensity = intensity.reshape(-1, 1)\n",
    "        intensity = np.tile(intensity, (1, self.n_response))\n",
    "\n",
    "        feature0 = features[0].reshape(-1,)\n",
    "\n",
    "        n_data = intensity.shape[0]\n",
    "        n_subject = np.unique(subject).shape[0]\n",
    "        n_feature0 = np.unique(feature0).shape[0]\n",
    "\n",
    "        with numpyro.plate(site.n_response, self.n_response, dim=-1):\n",
    "            with numpyro.plate(site.n_subject, n_subject, dim=-2):\n",
    "                \"\"\" Hyper-priors \"\"\"\n",
    "                mu_a = numpyro.sample(\n",
    "                    site.mu_a,\n",
    "                    dist.TruncatedNormal(self.mu_a[0], self.mu_a[1], low=0)\n",
    "                )\n",
    "                sigma_a = numpyro.sample(site.sigma_a, dist.HalfNormal(self.sigma_a))\n",
    "\n",
    "                sigma_b = numpyro.sample(site.sigma_b, dist.HalfNormal(self.sigma_b))\n",
    "\n",
    "                sigma_L = numpyro.sample(site.sigma_L, dist.HalfNormal(self.sigma_L))\n",
    "                sigma_H = numpyro.sample(site.sigma_H, dist.HalfNormal(self.sigma_H))\n",
    "                sigma_v = numpyro.sample(site.sigma_v, dist.HalfNormal(self.sigma_v))\n",
    "\n",
    "                with numpyro.plate(\"n_feature0\", n_feature0, dim=-3):\n",
    "                    \"\"\" Priors \"\"\"\n",
    "                    a = numpyro.sample(\n",
    "                        site.a,\n",
    "                        dist.TruncatedNormal(mu_a, sigma_a, low=0)\n",
    "                    )\n",
    "                    b = numpyro.sample(site.b, dist.HalfNormal(sigma_b))\n",
    "\n",
    "                    L = numpyro.sample(site.L, dist.HalfNormal(sigma_L))\n",
    "                    H = numpyro.sample(site.H, dist.HalfNormal(sigma_H))\n",
    "                    v = numpyro.sample(site.v, dist.HalfNormal(sigma_v))\n",
    "\n",
    "                    g_1 = numpyro.sample(\n",
    "                        site.g_1, dist.HalfCauchy(self.g_1)\n",
    "                    )\n",
    "                    g_2 = numpyro.sample(\n",
    "                        site.g_2, dist.HalfCauchy(self.g_2)\n",
    "                    )\n",
    "\n",
    "                    p = numpyro.sample(site.p, dist.HalfNormal(self.p))\n",
    "\n",
    "        \"\"\" Model \"\"\"\n",
    "        mu = numpyro.deterministic(\n",
    "            site.mu,\n",
    "            L[feature0, subject] + \\\n",
    "            jnp.maximum(\n",
    "                0,\n",
    "                -1 + \\\n",
    "                (H[feature0, subject] + 1) / \\\n",
    "                jnp.power(\n",
    "                    1 + \\\n",
    "                    (jnp.power(1 + H[feature0, subject], v[feature0, subject]) - 1) * \\\n",
    "                    jnp.exp(-b[feature0, subject] * (intensity - a[feature0, subject])),\n",
    "                    1 / v[feature0, subject]\n",
    "                )\n",
    "            )\n",
    "        )\n",
    "        beta = numpyro.deterministic(\n",
    "            site.beta,\n",
    "            g_1[feature0, subject] + \\\n",
    "            g_2[feature0, subject] * jnp.power(1 / mu, p[feature0, subject])\n",
    "        )\n",
    "\n",
    "        \"\"\" Mixture \"\"\"\n",
    "        q = numpyro.sample(\"q\", dist.Beta(1, 24))\n",
    "\n",
    "        mixing_distribution = dist.Categorical(probs=jnp.array([q, 1 - q]))\n",
    "\n",
    "        component_distributions = [\n",
    "            dist.Gamma(mu * beta, beta).to_event(1),\n",
    "            dist.Gamma(mu * 10000, 10000).to_event(1)\n",
    "        ]\n",
    "\n",
    "        Mixture = MixtureGeneral(\n",
    "            mixing_distribution=mixing_distribution,\n",
    "            component_distributions=component_distributions\n",
    "        )\n",
    "\n",
    "        # with numpyro.plate(site.data, n_data):\n",
    "        #     return numpyro.sample(\n",
    "        #         site.obs,\n",
    "        #         dist.Gamma(mu * beta, beta).to_event(1),\n",
    "        #         obs=response_obs\n",
    "        #     )\n",
    "\n",
    "        with numpyro.plate(site.data, n_data):\n",
    "            return numpyro.sample(\n",
    "                site.obs,\n",
    "                Mixture,\n",
    "                obs=response_obs\n",
    "            )\n",
    "\n"
   ]
  },
  {
   "cell_type": "code",
   "execution_count": 5,
   "metadata": {},
   "outputs": [
    {
     "name": "stderr",
     "output_type": "stream",
     "text": [
      "2023-07-14 15:01:22,826 - jax._src.xla_bridge - INFO - Unable to initialize backend 'cuda': module 'jaxlib.xla_extension' has no attribute 'GpuAllocatorConfig'\n",
      "2023-07-14 15:01:22,826 - jax._src.xla_bridge - INFO - Unable to initialize backend 'rocm': module 'jaxlib.xla_extension' has no attribute 'GpuAllocatorConfig'\n",
      "2023-07-14 15:01:22,826 - jax._src.xla_bridge - INFO - Unable to initialize backend 'tpu': INVALID_ARGUMENT: TpuPlatform is not available.\n",
      "2023-07-14 15:01:22,826 - jax._src.xla_bridge - INFO - Unable to initialize backend 'plugin': xla_extension has no attributes named get_plugin_device_client. Compile TensorFlow with //tensorflow/compiler/xla/python:enable_plugin_device set to true (defaults to false) to enable this.\n"
     ]
    }
   ],
   "source": [
    "model = RectifiedLogistic(config=config)"
   ]
  },
  {
   "cell_type": "code",
   "execution_count": 6,
   "metadata": {},
   "outputs": [],
   "source": [
    "# data.plot(df=df, encoder_dict=encoder_dict)"
   ]
  },
  {
   "cell_type": "code",
   "execution_count": 7,
   "metadata": {},
   "outputs": [
    {
     "name": "stderr",
     "output_type": "stream",
     "text": [
      "2023-07-14 15:01:23,248 - hbmep.model.baseline - INFO - Running inference with rectified_logistic ...\n"
     ]
    },
    {
     "data": {
      "application/vnd.jupyter.widget-view+json": {
       "model_id": "5dcf1a2afcb24868bff79e53cc9cd111",
       "version_major": 2,
       "version_minor": 0
      },
      "text/plain": [
       "  0%|          | 0/10000 [00:00<?, ?it/s]"
      ]
     },
     "metadata": {},
     "output_type": "display_data"
    },
    {
     "data": {
      "application/vnd.jupyter.widget-view+json": {
       "model_id": "8144df8c571e4eedaefbff0c4b346761",
       "version_major": 2,
       "version_minor": 0
      },
      "text/plain": [
       "  0%|          | 0/10000 [00:00<?, ?it/s]"
      ]
     },
     "metadata": {},
     "output_type": "display_data"
    },
    {
     "data": {
      "application/vnd.jupyter.widget-view+json": {
       "model_id": "db31b9cbf1ff41dc98b9d41094829158",
       "version_major": 2,
       "version_minor": 0
      },
      "text/plain": [
       "  0%|          | 0/10000 [00:00<?, ?it/s]"
      ]
     },
     "metadata": {},
     "output_type": "display_data"
    },
    {
     "data": {
      "application/vnd.jupyter.widget-view+json": {
       "model_id": "d767405b54a14df7958dd61856a25f83",
       "version_major": 2,
       "version_minor": 0
      },
      "text/plain": [
       "  0%|          | 0/10000 [00:00<?, ?it/s]"
      ]
     },
     "metadata": {},
     "output_type": "display_data"
    },
    {
     "name": "stderr",
     "output_type": "stream",
     "text": [
      "2023-07-14 15:02:04,653 - hbmep.utils.utils - INFO - func:run_inference took: 41.41 sec\n"
     ]
    }
   ],
   "source": [
    "mcmc, posterior_samples = model.run_inference(df=df)\n"
   ]
  },
  {
   "cell_type": "code",
   "execution_count": 11,
   "metadata": {},
   "outputs": [
    {
     "name": "stdout",
     "output_type": "stream",
     "text": [
      "\n",
      "                mean       std    median      2.5%     97.5%     n_eff     r_hat\n",
      "  H[0,0,0]      1.56      0.12      1.50      1.46      1.82      3.94      1.74\n",
      "  L[0,0,0]      0.01      0.00      0.01      0.01      0.02   3290.34      1.00\n",
      "  a[0,0,0]     53.86      3.53     54.46     47.33     59.54      9.21      1.21\n",
      "  b[0,0,0]      0.07      0.02      0.07      0.03      0.10      8.58      1.28\n",
      "g_1[0,0,0]     10.92      5.43     10.76      0.00     20.26    203.70      1.02\n",
      "g_2[0,0,0]      4.64      4.62      3.06      0.00     14.01    688.74      1.01\n",
      "  p[0,0,0]      0.39      0.47      0.25      0.00      1.13    106.33      1.05\n",
      "         q      0.45      0.06      0.45      0.33      0.57   1209.72      1.00\n",
      "  v[0,0,0]      1.18      1.31      0.72      0.00      3.97    111.71      1.05\n",
      "  µ_a[0,0]    126.74     20.67    126.75     87.46    166.25   2492.62      1.00\n",
      "  σ_H[0,0]     16.72     20.04      8.77      0.53     59.01   5177.34      1.00\n",
      "  σ_L[0,0]      0.03      0.02      0.03      0.01      0.08    780.15      1.00\n",
      "  σ_a[0,0]     39.49     11.58     38.70     17.10     62.11   1542.51      1.00\n",
      "  σ_b[0,0]      0.26      0.22      0.18      0.02      0.72   2375.44      1.00\n",
      "  σ_v[0,0]      2.83      2.47      2.16      0.00      7.76    409.64      1.01\n",
      "\n",
      "Number of divergences: 114\n"
     ]
    }
   ],
   "source": [
    "mcmc.print_summary(prob=.95)\n"
   ]
  },
  {
   "cell_type": "code",
   "execution_count": 9,
   "metadata": {},
   "outputs": [
    {
     "name": "stderr",
     "output_type": "stream",
     "text": [
      "2023-07-14 15:02:05,098 - hbmep.model.baseline - INFO - Rendering recruitment curves ...\n",
      "2023-07-14 15:02:08,041 - hbmep.model.baseline - INFO - Saved to /home/vishu/repos/reports/paper/run01/recruitment_curves.pdf\n",
      "2023-07-14 15:02:08,041 - hbmep.utils.utils - INFO - func:render_recruitment_curves took: 2.94 sec\n"
     ]
    }
   ],
   "source": [
    "model.render_recruitment_curves(df=df, encoder_dict=encoder_dict, posterior_samples=posterior_samples)\n"
   ]
  },
  {
   "cell_type": "code",
   "execution_count": 10,
   "metadata": {},
   "outputs": [
    {
     "name": "stderr",
     "output_type": "stream",
     "text": [
      "2023-07-14 15:02:08,306 - hbmep.model.baseline - INFO - Rendering Posterior Predictive Check ...\n",
      "2023-07-14 15:02:11,278 - hbmep.model.baseline - INFO - Saved to /home/vishu/repos/reports/paper/run01/posterior_predictive_check.pdf\n",
      "2023-07-14 15:02:11,280 - hbmep.utils.utils - INFO - func:render_predictive_check took: 2.98 sec\n"
     ]
    }
   ],
   "source": [
    "model.render_predictive_check(df=df, encoder_dict=encoder_dict, posterior_samples=posterior_samples)\n"
   ]
  },
  {
   "cell_type": "code",
   "execution_count": null,
   "metadata": {},
   "outputs": [],
   "source": []
  }
 ],
 "metadata": {
  "kernelspec": {
   "display_name": ".venv",
   "language": "python",
   "name": "python3"
  },
  "language_info": {
   "codemirror_mode": {
    "name": "ipython",
    "version": 3
   },
   "file_extension": ".py",
   "mimetype": "text/x-python",
   "name": "python",
   "nbconvert_exporter": "python",
   "pygments_lexer": "ipython3",
   "version": "3.11.4"
  },
  "orig_nbformat": 4,
  "vscode": {
   "interpreter": {
    "hash": "850bfd4e6f5ddd996dd5cd5088beecd08558625e274540230e1444ec52025b11"
   }
  }
 },
 "nbformat": 4,
 "nbformat_minor": 2
}
