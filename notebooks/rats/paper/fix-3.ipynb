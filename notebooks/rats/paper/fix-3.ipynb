{
 "cells": [
  {
   "cell_type": "code",
   "execution_count": 1,
   "metadata": {},
   "outputs": [],
   "source": [
    "%reload_ext autoreload\n",
    "%autoreload 2\n",
    "\n",
    "import os\n",
    "from pathlib import Path\n",
    "import multiprocessing\n",
    "\n",
    "import jax\n",
    "import jax.numpy as jnp\n",
    "import pandas as pd\n",
    "import numpy as np\n",
    "import numpyro\n",
    "import numpyro.distributions as dist\n",
    "\n",
    "from hbmep.config import Config\n",
    "from hbmep.model import Baseline\n",
    "from hbmep.model.utils import Site as site\n",
    "from hbmep.utils.constants import RECTIFIED_LOGISTIC\n",
    "\n",
    "PLATFORM = \"cpu\"\n",
    "jax.config.update(\"jax_platforms\", PLATFORM)\n",
    "numpyro.set_platform(PLATFORM)\n",
    "\n",
    "cpu_count = multiprocessing.cpu_count() - 2\n",
    "numpyro.set_host_device_count(cpu_count)\n",
    "numpyro.enable_x64()\n"
   ]
  },
  {
   "attachments": {},
   "cell_type": "markdown",
   "metadata": {},
   "source": [
    "#### Load config"
   ]
  },
  {
   "cell_type": "code",
   "execution_count": 2,
   "metadata": {},
   "outputs": [
    {
     "name": "stderr",
     "output_type": "stream",
     "text": [
      "2023-07-21 13:35:02,929 - hbmep.config - INFO - Verifying configuration ...\n",
      "2023-07-21 13:35:02,929 - hbmep.config - INFO - Success!\n"
     ]
    }
   ],
   "source": [
    "root_path = Path(os.getcwd()).parent.parent.parent.absolute()\n",
    "toml_path = os.path.join(root_path, \"configs/studentT.toml\")\n",
    "\n",
    "config = Config(toml_path=toml_path)\n",
    "\n",
    "config.BUILD_DIR = \"/home/vishu/repos/hbmep-paper/reports/fix-3\"\n"
   ]
  },
  {
   "cell_type": "code",
   "execution_count": 3,
   "metadata": {},
   "outputs": [],
   "source": [
    "class StudentT(Baseline):\n",
    "    LINK = \"studentT\"\n",
    "\n",
    "    def __init__(self, config: Config):\n",
    "        super(StudentT, self).__init__(config=config)\n",
    "\n",
    "    def _model(self, subject, features, intensity, response_obs=None):\n",
    "        intensity = intensity.reshape(-1, 1)\n",
    "        intensity = np.tile(intensity, (1, self.n_response))\n",
    "\n",
    "        feature0 = features[0].reshape(-1,)\n",
    "\n",
    "        n_data = intensity.shape[0]\n",
    "        n_subject = np.unique(subject).shape[0]\n",
    "        n_feature0 = np.unique(feature0).shape[0]\n",
    "\n",
    "        with numpyro.plate(site.n_response, self.n_response, dim=-1):\n",
    "            with numpyro.plate(site.n_subject, n_subject, dim=-2):\n",
    "                \"\"\" Hyper-priors \"\"\"\n",
    "                mu_a = numpyro.sample(\n",
    "                    site.mu_a,\n",
    "                    dist.TruncatedNormal(150, 50, low=0)\n",
    "                )\n",
    "                sigma_a = numpyro.sample(site.sigma_a, dist.HalfNormal(50))\n",
    "\n",
    "                sigma_b = numpyro.sample(site.sigma_b, dist.HalfNormal(0.5))\n",
    "\n",
    "                sigma_L = numpyro.sample(site.sigma_L, dist.HalfNormal(0.05))\n",
    "                sigma_H = numpyro.sample(site.sigma_H, dist.HalfNormal(5))\n",
    "                sigma_v = numpyro.sample(site.sigma_v, dist.HalfNormal(10))\n",
    "\n",
    "                with numpyro.plate(\"n_feature0\", n_feature0, dim=-3):\n",
    "                    \"\"\" Priors \"\"\"\n",
    "                    a = numpyro.sample(\n",
    "                        site.a,\n",
    "                        dist.TruncatedNormal(mu_a, sigma_a, low=0)\n",
    "                    )\n",
    "                    b = numpyro.sample(site.b, dist.HalfNormal(sigma_b))\n",
    "\n",
    "                    L = numpyro.sample(site.L, dist.HalfNormal(sigma_L))\n",
    "                    H = numpyro.sample(site.H, dist.HalfNormal(sigma_H))\n",
    "                    v = numpyro.sample(site.v, dist.HalfNormal(sigma_v))\n",
    "\n",
    "                    nu_1 = numpyro.sample(\"nu_1\", dist.HalfCauchy(1))\n",
    "                    nu_2 = numpyro.sample(\"nu_2\", dist.HalfCauchy(1))\n",
    "\n",
    "                    sigma_1 = numpyro.sample(\"sigma_1\", dist.HalfCauchy(1))\n",
    "                    sigma_2 = numpyro.sample(\"sigma_2\", dist.HalfCauchy(1))\n",
    "\n",
    "        \"\"\" Model \"\"\"\n",
    "        mu = numpyro.deterministic(\n",
    "            site.mu,\n",
    "            L[feature0, subject]\n",
    "            + jnp.maximum(\n",
    "                0,\n",
    "                -1\n",
    "                + (H[feature0, subject] + 1)\n",
    "                / jnp.power(\n",
    "                    1\n",
    "                    + (jnp.power(1 + H[feature0, subject], v[feature0, subject]) - 1)\n",
    "                    * jnp.exp(-b[feature0, subject] * (intensity - a[feature0, subject])),\n",
    "                    1 / v[feature0, subject]\n",
    "                )\n",
    "            )\n",
    "        )\n",
    "        sigma = numpyro.deterministic(\n",
    "            \"sigma\", (1 / sigma_1[feature0, subject]) + (1 / sigma_2[feature0, subject]) * mu\n",
    "        )\n",
    "        nu = numpyro.deterministic(\n",
    "            \"nu\", 2 + (1 / nu_1[feature0, subject]) + (1 / nu_2[feature0, subject]) * (1 / mu)\n",
    "        )\n",
    "\n",
    "        with numpyro.plate(site.data, n_data):\n",
    "            return numpyro.sample(\n",
    "                site.obs,\n",
    "                dist.StudentT(df=nu, loc=mu, scale=sigma).to_event(1),\n",
    "                obs=response_obs\n",
    "            )\n",
    "\n",
    "\n",
    "model = StudentT(config=config)"
   ]
  },
  {
   "cell_type": "code",
   "execution_count": 4,
   "metadata": {},
   "outputs": [],
   "source": [
    "# class Laplace(Baseline):\n",
    "#     LINK = \"laplace\"\n",
    "\n",
    "#     def __init__(self, config: Config):\n",
    "#         super(Laplace, self).__init__(config=config)\n",
    "\n",
    "#     def _model(self, subject, features, intensity, response_obs=None):\n",
    "#         intensity = intensity.reshape(-1, 1)\n",
    "#         intensity = np.tile(intensity, (1, self.n_response))\n",
    "\n",
    "#         feature0 = features[0].reshape(-1,)\n",
    "\n",
    "#         n_data = intensity.shape[0]\n",
    "#         n_subject = np.unique(subject).shape[0]\n",
    "#         n_feature0 = np.unique(feature0).shape[0]\n",
    "\n",
    "#         nu_1_scale = numpyro.sample(\"nu_1_scale\", dist.HalfCauchy(5))\n",
    "#         nu_2_scale = numpyro.sample(\"nu_2_scale\", dist.HalfCauchy(5))\n",
    "#         sigma_1_scale = numpyro.sample(\"sigma_1_scale\", dist.HalfCauchy(5))\n",
    "#         sigma_2_scale = numpyro.sample(\"sigma_2_scale\", dist.HalfCauchy(5))\n",
    "\n",
    "#         with numpyro.plate(site.n_response, self.n_response, dim=-1):\n",
    "#             with numpyro.plate(site.n_subject, n_subject, dim=-2):\n",
    "#                 \"\"\" Hyper-priors \"\"\"\n",
    "#                 mu_a = numpyro.sample(\n",
    "#                     site.mu_a,\n",
    "#                     dist.TruncatedNormal(150, 100, low=0)\n",
    "#                 )\n",
    "#                 sigma_a = numpyro.sample(site.sigma_a, dist.HalfNormal(20))\n",
    "\n",
    "#                 sigma_b = numpyro.sample(site.sigma_b, dist.HalfNormal(0.5))\n",
    "\n",
    "#                 sigma_L = numpyro.sample(site.sigma_L, dist.HalfNormal(0.05))\n",
    "#                 sigma_H = numpyro.sample(site.sigma_H, dist.HalfNormal(5))\n",
    "#                 sigma_v = numpyro.sample(site.sigma_v, dist.HalfNormal(5))\n",
    "\n",
    "#                 with numpyro.plate(\"n_feature0\", n_feature0, dim=-3):\n",
    "#                     \"\"\" Priors \"\"\"\n",
    "#                     a = numpyro.sample(\n",
    "#                         site.a,\n",
    "#                         dist.TruncatedNormal(mu_a, sigma_a, low=0)\n",
    "#                     )\n",
    "#                     b = numpyro.sample(site.b, dist.HalfNormal(sigma_b))\n",
    "\n",
    "#                     L = numpyro.sample(site.L, dist.HalfNormal(sigma_L))\n",
    "#                     H = numpyro.sample(site.H, dist.HalfNormal(sigma_H))\n",
    "#                     v = numpyro.sample(site.v, dist.HalfNormal(sigma_v))\n",
    "\n",
    "#                     nu_1 = numpyro.sample(\"nu_1\", dist.HalfCauchy(nu_1_scale))\n",
    "#                     nu_2 = numpyro.sample(\"nu_2\", dist.HalfCauchy(nu_2_scale))\n",
    "\n",
    "#                     sigma_1 = numpyro.sample(\"sigma_1\", dist.HalfCauchy(sigma_1_scale))\n",
    "#                     sigma_2 = numpyro.sample(\"sigma_2\", dist.HalfCauchy(sigma_2_scale))\n",
    "\n",
    "#         \"\"\" Model \"\"\"\n",
    "#         mu = numpyro.deterministic(\n",
    "#             site.mu,\n",
    "#             L[feature0, subject]\n",
    "#             + jnp.maximum(\n",
    "#                 0,\n",
    "#                 -1\n",
    "#                 + (H[feature0, subject] + 1)\n",
    "#                 / jnp.power(\n",
    "#                     1\n",
    "#                     + (jnp.power(1 + H[feature0, subject], v[feature0, subject]) - 1)\n",
    "#                     * jnp.exp(-b[feature0, subject] * (intensity - a[feature0, subject])),\n",
    "#                     1 / v[feature0, subject]\n",
    "#                 )\n",
    "#             )\n",
    "#         )\n",
    "#         sigma = numpyro.deterministic(\n",
    "#             \"sigma\", sigma_1[feature0, subject] + sigma_2[feature0, subject] * mu\n",
    "#         )\n",
    "#         nu = numpyro.deterministic(\n",
    "#             \"nu\", 1 + nu_1[feature0, subject] + nu_2[feature0, subject] * mu\n",
    "#         )\n",
    "\n",
    "#         with numpyro.plate(site.data, n_data):\n",
    "#             return numpyro.sample(\n",
    "#                 site.obs,\n",
    "#                 dist.AsymmetricLaplace(loc=mu - (1 - jnp.power(nu, 2)) / (nu * sigma), scale=sigma, asymmetry=nu).to_event(1),\n",
    "#                 obs=response_obs\n",
    "#             )\n",
    "\n",
    "\n",
    "# model = Laplace(config=config)"
   ]
  },
  {
   "cell_type": "code",
   "execution_count": 5,
   "metadata": {},
   "outputs": [],
   "source": [
    "# class RectifiedLogistic(Baseline):\n",
    "#     LINK = RECTIFIED_LOGISTIC\n",
    "\n",
    "#     def __init__(self, config: Config):\n",
    "#         super(RectifiedLogistic, self).__init__(config=config)\n",
    "\n",
    "#     def _model(self, subject, features, intensity, response_obs=None):\n",
    "#         intensity = intensity.reshape(-1, 1)\n",
    "#         intensity = np.tile(intensity, (1, self.n_response))\n",
    "\n",
    "#         feature0 = features[0].reshape(-1,)\n",
    "\n",
    "#         n_data = intensity.shape[0]\n",
    "#         n_subject = np.unique(subject).shape[0]\n",
    "#         n_feature0 = np.unique(feature0).shape[0]\n",
    "\n",
    "#         with numpyro.plate(site.n_response, self.n_response, dim=-1):\n",
    "#             with numpyro.plate(site.n_subject, n_subject, dim=-2):\n",
    "#                 \"\"\" Hyper-priors \"\"\"\n",
    "#                 mu_a = numpyro.sample(\n",
    "#                     site.mu_a,\n",
    "#                     dist.TruncatedNormal(150, 50, low=0)\n",
    "#                 )\n",
    "#                 sigma_a = numpyro.sample(site.sigma_a, dist.HalfNormal(50))\n",
    "\n",
    "#                 sigma_b = numpyro.sample(site.sigma_b, dist.HalfNormal(0.1))\n",
    "\n",
    "#                 sigma_L = numpyro.sample(site.sigma_L, dist.HalfNormal(0.05))\n",
    "#                 sigma_H = numpyro.sample(site.sigma_H, dist.HalfNormal(5))\n",
    "#                 sigma_v = numpyro.sample(site.sigma_v, dist.HalfNormal(10))\n",
    "\n",
    "#                 with numpyro.plate(\"n_feature0\", n_feature0, dim=-3):\n",
    "#                     \"\"\" Priors \"\"\"\n",
    "#                     a = numpyro.sample(\n",
    "#                         site.a,\n",
    "#                         dist.TruncatedNormal(mu_a, sigma_a, low=0)\n",
    "#                     )\n",
    "#                     b = numpyro.sample(site.b, dist.HalfNormal(sigma_b))\n",
    "\n",
    "#                     L = numpyro.sample(site.L, dist.HalfNormal(sigma_L))\n",
    "#                     H = numpyro.sample(site.H, dist.HalfNormal(sigma_H))\n",
    "#                     v = numpyro.sample(site.v, dist.HalfNormal(sigma_v))\n",
    "\n",
    "#                     g_1 = numpyro.sample(\"g_1\", dist.Exponential(1 / 100))\n",
    "#                     g_2 = numpyro.sample(\"g_2\", dist.Exponential(1 / 100))\n",
    "\n",
    "#         \"\"\" Model \"\"\"\n",
    "#         mu = numpyro.deterministic(\n",
    "#             site.mu,\n",
    "#             L[feature0, subject]\n",
    "#             + jnp.maximum(\n",
    "#                 0,\n",
    "#                 -1\n",
    "#                 + (H[feature0, subject] + 1)\n",
    "#                 / jnp.power(\n",
    "#                     1\n",
    "#                     + (jnp.power(1 + H[feature0, subject], v[feature0, subject]) - 1)\n",
    "#                     * jnp.exp(-b[feature0, subject] * (intensity - a[feature0, subject])),\n",
    "#                     1 / v[feature0, subject]\n",
    "#                 )\n",
    "#             )\n",
    "#         )\n",
    "#         beta = numpyro.deterministic(\n",
    "#             site.beta,\n",
    "#             g_1[feature0, subject] + g_2[feature0, subject] * (1 / jnp.log(mu + 1))\n",
    "#         )\n",
    "\n",
    "#         with numpyro.plate(site.data, n_data):\n",
    "#             return numpyro.sample(\n",
    "#                 site.obs,\n",
    "#                 dist.Gamma(concentration=mu * beta, rate=beta).to_event(1),\n",
    "#                 obs=response_obs\n",
    "#             )\n",
    "\n",
    "\n",
    "# model = RectifiedLogistic(config=config)"
   ]
  },
  {
   "cell_type": "code",
   "execution_count": 6,
   "metadata": {},
   "outputs": [
    {
     "name": "stderr",
     "output_type": "stream",
     "text": [
      "2023-07-21 13:35:03,329 - hbmep.dataset.core - INFO - Artefacts will be stored here - /home/vishu/repos/hbmep-paper/reports/fix-3\n",
      "2023-07-21 13:35:03,329 - hbmep.dataset.core - INFO - Copied config to /home/vishu/repos/hbmep-paper/reports/fix-3\n",
      "2023-07-21 13:35:03,330 - hbmep.dataset.core - INFO - Processing data ...\n",
      "2023-07-21 13:35:03,331 - hbmep.utils.utils - INFO - func:load took: 0.00 sec\n"
     ]
    }
   ],
   "source": [
    "df = pd.read_csv(model.csv_path)\n",
    "\n",
    "sub = [(\"amap06\", \"-C8L\")]\n",
    "ind = df[model.combination_columns].apply(tuple, axis=1).isin(sub)\n",
    "df = df[ind].copy()\n",
    "df.reset_index(inplace=True, drop=True)\n",
    "\n",
    "df, encoder_dict = model.load(df=df)\n"
   ]
  },
  {
   "cell_type": "code",
   "execution_count": 7,
   "metadata": {},
   "outputs": [
    {
     "name": "stderr",
     "output_type": "stream",
     "text": [
      "2023-07-21 13:35:03,382 - hbmep.model.baseline - INFO - Running inference with studentT ...\n"
     ]
    },
    {
     "data": {
      "application/vnd.jupyter.widget-view+json": {
       "model_id": "ff97f19e7ab246c4b04e9846c60ea4ad",
       "version_major": 2,
       "version_minor": 0
      },
      "text/plain": [
       "  0%|          | 0/10000 [00:00<?, ?it/s]"
      ]
     },
     "metadata": {},
     "output_type": "display_data"
    },
    {
     "data": {
      "application/vnd.jupyter.widget-view+json": {
       "model_id": "5f2874567b4f4abe91370c21e2022020",
       "version_major": 2,
       "version_minor": 0
      },
      "text/plain": [
       "  0%|          | 0/10000 [00:00<?, ?it/s]"
      ]
     },
     "metadata": {},
     "output_type": "display_data"
    },
    {
     "data": {
      "application/vnd.jupyter.widget-view+json": {
       "model_id": "3a8226cac2874388bbb5b2f9eb43e891",
       "version_major": 2,
       "version_minor": 0
      },
      "text/plain": [
       "  0%|          | 0/10000 [00:00<?, ?it/s]"
      ]
     },
     "metadata": {},
     "output_type": "display_data"
    },
    {
     "data": {
      "application/vnd.jupyter.widget-view+json": {
       "model_id": "df7a273f03ae42d6bf08ea80508ec142",
       "version_major": 2,
       "version_minor": 0
      },
      "text/plain": [
       "  0%|          | 0/10000 [00:00<?, ?it/s]"
      ]
     },
     "metadata": {},
     "output_type": "display_data"
    },
    {
     "name": "stderr",
     "output_type": "stream",
     "text": [
      "2023-07-21 13:35:49,449 - hbmep.utils.utils - INFO - func:run_inference took: 46.07 sec\n"
     ]
    }
   ],
   "source": [
    "mcmc, posterior_samples = model.run_inference(df=df)\n"
   ]
  },
  {
   "cell_type": "code",
   "execution_count": 8,
   "metadata": {},
   "outputs": [
    {
     "name": "stdout",
     "output_type": "stream",
     "text": [
      "\n",
      "                    mean       std    median      2.5%     97.5%     n_eff     r_hat\n",
      "      H[0,0,0]      4.22      0.13      4.22      3.97      4.47  11309.34      1.00\n",
      "      H[0,0,1]      1.47      0.02      1.46      1.44      1.50  14290.18      1.00\n",
      "      L[0,0,0]      0.04      0.01      0.04      0.02      0.07  13071.88      1.00\n",
      "      L[0,0,1]      0.02      0.00      0.02      0.02      0.03  21529.32      1.00\n",
      "      a[0,0,0]    160.69      3.07    160.69    155.21    166.46  13555.34      1.00\n",
      "      a[0,0,1]    166.93      4.97    164.54    162.95    180.73     21.20      1.22\n",
      "      b[0,0,0]      0.02      0.00      0.02      0.02      0.03   7390.69      1.00\n",
      "      b[0,0,1]      0.10      0.05      0.08      0.04      0.18   1630.67      1.01\n",
      "   nu_1[0,0,0]     16.96    473.63      2.21      0.00     26.59   8625.86      1.00\n",
      "   nu_1[0,0,1]     61.75   2202.60      5.60      0.35     77.50  14921.11      1.00\n",
      "   nu_2[0,0,0]    171.77  18199.88      5.70      0.01    112.96  23598.13      1.00\n",
      "   nu_2[0,0,1]    215.36   5247.03     19.73      0.55    471.62  19741.25      1.00\n",
      "sigma_1[0,0,0]     22.24      7.82     20.71      9.63     37.73  11946.92      1.00\n",
      "sigma_1[0,0,1]    414.04    213.60    374.01    148.42    752.90   3041.58      1.00\n",
      "sigma_2[0,0,0]     36.25     36.04     29.78     11.02     72.63   4087.98      1.00\n",
      "sigma_2[0,0,1]     31.86     10.75     30.16     14.33     53.55    196.29      1.02\n",
      "      v[0,0,0]      0.27      0.27      0.19      0.00      0.81   7367.69      1.00\n",
      "      v[0,0,1]      4.83      3.81      4.09      0.00     11.41    180.60      1.03\n",
      "      µ_a[0,0]    160.11     19.26    160.59    119.23    202.34   8176.60      1.00\n",
      "      µ_a[0,1]    166.06     20.09    165.76    125.44    209.99    436.21      1.01\n",
      "      σ_H[0,0]      5.09      2.38      4.58      1.48      9.80  23877.51      1.00\n",
      "      σ_H[0,1]      3.36      2.27      2.73      0.51      7.98  23102.61      1.00\n",
      "      σ_L[0,0]      0.05      0.02      0.05      0.01      0.10  22548.27      1.00\n",
      "      σ_L[0,1]      0.04      0.02      0.03      0.01      0.09  23033.73      1.00\n",
      "      σ_a[0,0]     15.91     11.79     13.49      0.17     38.83   9566.94      1.00\n",
      "      σ_a[0,1]     15.92     11.92     13.49      0.18     38.98   7619.80      1.00\n",
      "      σ_b[0,0]      0.18      0.21      0.10      0.01      0.62  21775.70      1.00\n",
      "      σ_b[0,1]      0.29      0.23      0.21      0.02      0.76  21914.65      1.00\n",
      "      σ_v[0,0]      3.06      3.95      1.45      0.00     11.52  22605.55      1.00\n",
      "      σ_v[0,1]      7.76      5.22      6.62      0.01     18.01    732.72      1.01\n",
      "\n",
      "Number of divergences: 296\n"
     ]
    }
   ],
   "source": [
    "mcmc.print_summary(prob=.95)\n"
   ]
  },
  {
   "cell_type": "code",
   "execution_count": 9,
   "metadata": {},
   "outputs": [
    {
     "name": "stderr",
     "output_type": "stream",
     "text": [
      "2023-07-21 13:35:49,626 - hbmep.model.baseline - INFO - Rendering recruitment curves ...\n",
      "2023-07-21 13:35:52,786 - hbmep.model.baseline - INFO - Saved to /home/vishu/repos/hbmep-paper/reports/fix-3/recruitment_curves.pdf\n",
      "2023-07-21 13:35:52,786 - hbmep.utils.utils - INFO - func:render_recruitment_curves took: 3.16 sec\n"
     ]
    }
   ],
   "source": [
    "model.render_recruitment_curves(df=df, encoder_dict=encoder_dict, posterior_samples=posterior_samples)\n"
   ]
  },
  {
   "cell_type": "code",
   "execution_count": 10,
   "metadata": {},
   "outputs": [
    {
     "name": "stderr",
     "output_type": "stream",
     "text": [
      "2023-07-21 13:35:52,828 - hbmep.model.baseline - INFO - Rendering Posterior Predictive Check ...\n",
      "2023-07-21 13:35:56,313 - hbmep.model.baseline - INFO - Saved to /home/vishu/repos/hbmep-paper/reports/fix-3/posterior_predictive_check.pdf\n",
      "2023-07-21 13:35:56,318 - hbmep.utils.utils - INFO - func:render_predictive_check took: 3.49 sec\n"
     ]
    }
   ],
   "source": [
    "model.render_predictive_check(df=df, encoder_dict=encoder_dict, posterior_samples=posterior_samples)\n"
   ]
  },
  {
   "cell_type": "code",
   "execution_count": null,
   "metadata": {},
   "outputs": [],
   "source": []
  }
 ],
 "metadata": {
  "kernelspec": {
   "display_name": ".venv",
   "language": "python",
   "name": "python3"
  },
  "language_info": {
   "codemirror_mode": {
    "name": "ipython",
    "version": 3
   },
   "file_extension": ".py",
   "mimetype": "text/x-python",
   "name": "python",
   "nbconvert_exporter": "python",
   "pygments_lexer": "ipython3",
   "version": "3.11.4"
  },
  "orig_nbformat": 4,
  "vscode": {
   "interpreter": {
    "hash": "850bfd4e6f5ddd996dd5cd5088beecd08558625e274540230e1444ec52025b11"
   }
  }
 },
 "nbformat": 4,
 "nbformat_minor": 2
}
