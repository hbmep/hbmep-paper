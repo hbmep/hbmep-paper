{
 "cells": [
  {
   "cell_type": "code",
   "execution_count": 1,
   "metadata": {},
   "outputs": [],
   "source": [
    "%reload_ext autoreload\n",
    "%autoreload 2\n",
    "\n",
    "import os\n",
    "from pathlib import Path\n",
    "import multiprocessing\n",
    "from tqdm import tqdm\n",
    "\n",
    "import arviz as az\n",
    "import matplotlib\n",
    "import matplotlib.pyplot as plt\n",
    "import seaborn as sns\n",
    "\n",
    "import numpy as np\n",
    "import jax\n",
    "import jax.numpy as jnp\n",
    "import pandas as pd\n",
    "import scipy.stats as stats\n",
    "import numpyro\n",
    "from numpyro.diagnostics import hpdi\n",
    "\n",
    "from hbmep.config import Config\n",
    "from hbmep.model import Baseline\n",
    "from hbmep.model.utils import Site as site\n",
    "\n",
    "PLATFORM = \"cpu\"\n",
    "jax.config.update(\"jax_platforms\", PLATFORM)\n",
    "numpyro.set_platform(PLATFORM)\n",
    "\n",
    "cpu_count = multiprocessing.cpu_count() - 2\n",
    "numpyro.set_host_device_count(cpu_count)\n",
    "numpyro.enable_x64()\n",
    "numpyro.enable_validation()\n",
    "matplotlib.rcParams.update({'font.size': 10})\n"
   ]
  },
  {
   "cell_type": "code",
   "execution_count": 2,
   "metadata": {},
   "outputs": [
    {
     "name": "stderr",
     "output_type": "stream",
     "text": [
      "2023-09-12 10:01:40,094 - hbmep.config - INFO - Verifying configuration ...\n",
      "2023-09-12 10:01:40,094 - hbmep.config - INFO - Success!\n",
      "2023-09-12 10:01:40,110 - hbmep.model.baseline - INFO - Initialized model with baseline link\n",
      "2023-09-12 10:01:40,119 - hbmep.dataset.core - INFO - Artefacts will be stored here - /home/vishu/repos/hbmep-paper/reports/L_SHIE/fcr\n",
      "2023-09-12 10:01:40,119 - hbmep.dataset.core - INFO - Copied config to /home/vishu/repos/hbmep-paper/reports/L_SHIE/fcr\n",
      "2023-09-12 10:01:40,120 - hbmep.dataset.core - INFO - Processing data ...\n",
      "2023-09-12 10:01:40,122 - hbmep.utils.utils - INFO - func:load took: 0.00 sec\n"
     ]
    }
   ],
   "source": [
    "root_path = Path(os.getcwd()).parent.parent.parent.parent.absolute()\n",
    "toml_path = os.path.join(root_path, \"configs/shie/fcr.toml\")\n",
    "\n",
    "config = Config(toml_path=toml_path)\n",
    "\n",
    "model = Baseline(config=config)\n",
    "\n",
    "df = pd.read_csv(model.csv_path)\n",
    "\n",
    "ind = df.pulse_amplitude.isin([0])\n",
    "df = df[~ind].reset_index(drop=True).copy()\n",
    "\n",
    "\"\"\" Process \"\"\"\n",
    "df, encoder_dict = model.load(df=df)\n"
   ]
  },
  {
   "cell_type": "code",
   "execution_count": 3,
   "metadata": {},
   "outputs": [
    {
     "data": {
      "text/plain": [
       "(3392, 46)"
      ]
     },
     "execution_count": 3,
     "metadata": {},
     "output_type": "execute_result"
    }
   ],
   "source": [
    "df.shape"
   ]
  },
  {
   "cell_type": "code",
   "execution_count": 5,
   "metadata": {},
   "outputs": [
    {
     "data": {
      "text/html": [
       "<div>\n",
       "<style scoped>\n",
       "    .dataframe tbody tr th:only-of-type {\n",
       "        vertical-align: middle;\n",
       "    }\n",
       "\n",
       "    .dataframe tbody tr th {\n",
       "        vertical-align: top;\n",
       "    }\n",
       "\n",
       "    .dataframe thead th {\n",
       "        text-align: right;\n",
       "    }\n",
       "</style>\n",
       "<table border=\"1\" class=\"dataframe\">\n",
       "  <thead>\n",
       "    <tr style=\"text-align: right;\">\n",
       "      <th></th>\n",
       "      <th>compound_position</th>\n",
       "      <th>participant</th>\n",
       "      <th>pulse_amplitude</th>\n",
       "      <th>Biceps</th>\n",
       "      <th>Triceps</th>\n",
       "      <th>APB</th>\n",
       "    </tr>\n",
       "  </thead>\n",
       "  <tbody>\n",
       "    <tr>\n",
       "      <th>0</th>\n",
       "      <td>0</td>\n",
       "      <td>0</td>\n",
       "      <td>0.0</td>\n",
       "      <td>0.117726</td>\n",
       "      <td>0.034792</td>\n",
       "      <td>0.003943</td>\n",
       "    </tr>\n",
       "    <tr>\n",
       "      <th>1</th>\n",
       "      <td>0</td>\n",
       "      <td>0</td>\n",
       "      <td>44.0</td>\n",
       "      <td>0.145037</td>\n",
       "      <td>0.050807</td>\n",
       "      <td>0.004099</td>\n",
       "    </tr>\n",
       "    <tr>\n",
       "      <th>2</th>\n",
       "      <td>0</td>\n",
       "      <td>0</td>\n",
       "      <td>88.0</td>\n",
       "      <td>0.079579</td>\n",
       "      <td>0.040865</td>\n",
       "      <td>0.003469</td>\n",
       "    </tr>\n",
       "    <tr>\n",
       "      <th>3</th>\n",
       "      <td>0</td>\n",
       "      <td>0</td>\n",
       "      <td>132.0</td>\n",
       "      <td>0.117517</td>\n",
       "      <td>0.047211</td>\n",
       "      <td>0.003536</td>\n",
       "    </tr>\n",
       "    <tr>\n",
       "      <th>4</th>\n",
       "      <td>0</td>\n",
       "      <td>0</td>\n",
       "      <td>176.0</td>\n",
       "      <td>0.119749</td>\n",
       "      <td>0.311021</td>\n",
       "      <td>0.036985</td>\n",
       "    </tr>\n",
       "    <tr>\n",
       "      <th>...</th>\n",
       "      <td>...</td>\n",
       "      <td>...</td>\n",
       "      <td>...</td>\n",
       "      <td>...</td>\n",
       "      <td>...</td>\n",
       "      <td>...</td>\n",
       "    </tr>\n",
       "    <tr>\n",
       "      <th>535</th>\n",
       "      <td>0</td>\n",
       "      <td>5</td>\n",
       "      <td>176.0</td>\n",
       "      <td>0.258185</td>\n",
       "      <td>0.245615</td>\n",
       "      <td>0.048679</td>\n",
       "    </tr>\n",
       "    <tr>\n",
       "      <th>536</th>\n",
       "      <td>0</td>\n",
       "      <td>5</td>\n",
       "      <td>224.0</td>\n",
       "      <td>0.637872</td>\n",
       "      <td>0.609057</td>\n",
       "      <td>0.047406</td>\n",
       "    </tr>\n",
       "    <tr>\n",
       "      <th>537</th>\n",
       "      <td>0</td>\n",
       "      <td>5</td>\n",
       "      <td>268.0</td>\n",
       "      <td>1.235613</td>\n",
       "      <td>0.887590</td>\n",
       "      <td>0.051601</td>\n",
       "    </tr>\n",
       "    <tr>\n",
       "      <th>538</th>\n",
       "      <td>0</td>\n",
       "      <td>5</td>\n",
       "      <td>312.0</td>\n",
       "      <td>1.166648</td>\n",
       "      <td>1.182639</td>\n",
       "      <td>0.451890</td>\n",
       "    </tr>\n",
       "    <tr>\n",
       "      <th>539</th>\n",
       "      <td>0</td>\n",
       "      <td>5</td>\n",
       "      <td>356.0</td>\n",
       "      <td>1.911700</td>\n",
       "      <td>1.564975</td>\n",
       "      <td>0.900296</td>\n",
       "    </tr>\n",
       "  </tbody>\n",
       "</table>\n",
       "<p>540 rows × 6 columns</p>\n",
       "</div>"
      ],
      "text/plain": [
       "     compound_position  participant  pulse_amplitude    Biceps   Triceps  \\\n",
       "0                    0            0              0.0  0.117726  0.034792   \n",
       "1                    0            0             44.0  0.145037  0.050807   \n",
       "2                    0            0             88.0  0.079579  0.040865   \n",
       "3                    0            0            132.0  0.117517  0.047211   \n",
       "4                    0            0            176.0  0.119749  0.311021   \n",
       "..                 ...          ...              ...       ...       ...   \n",
       "535                  0            5            176.0  0.258185  0.245615   \n",
       "536                  0            5            224.0  0.637872  0.609057   \n",
       "537                  0            5            268.0  1.235613  0.887590   \n",
       "538                  0            5            312.0  1.166648  1.182639   \n",
       "539                  0            5            356.0  1.911700  1.564975   \n",
       "\n",
       "          APB  \n",
       "0    0.003943  \n",
       "1    0.004099  \n",
       "2    0.003469  \n",
       "3    0.003536  \n",
       "4    0.036985  \n",
       "..        ...  \n",
       "535  0.048679  \n",
       "536  0.047406  \n",
       "537  0.051601  \n",
       "538  0.451890  \n",
       "539  0.900296  \n",
       "\n",
       "[540 rows x 6 columns]"
      ]
     },
     "execution_count": 5,
     "metadata": {},
     "output_type": "execute_result"
    }
   ],
   "source": [
    "df"
   ]
  },
  {
   "cell_type": "code",
   "execution_count": 7,
   "metadata": {},
   "outputs": [
    {
     "data": {
      "text/plain": [
       "(4, 6, 2)"
      ]
     },
     "execution_count": 7,
     "metadata": {},
     "output_type": "execute_result"
    }
   ],
   "source": [
    "scores.shape"
   ]
  },
  {
   "cell_type": "code",
   "execution_count": 8,
   "metadata": {},
   "outputs": [
    {
     "data": {
      "text/plain": [
       "(4, 6, 6)"
      ]
     },
     "execution_count": 8,
     "metadata": {},
     "output_type": "execute_result"
    }
   ],
   "source": [
    "err_mae.shape"
   ]
  },
  {
   "cell_type": "code",
   "execution_count": 29,
   "metadata": {},
   "outputs": [],
   "source": [
    "err_mae_mean = err_mae.mean(axis=-1)\n",
    "err_mse_mean = err_mse.mean(axis=-1)\n",
    "\n",
    "err_mae_std = err_mae.std(axis=-1, ddof=1)\n",
    "err_mse_std = err_mse.std(axis=-1, ddof=1)\n",
    "\n",
    "err_mae_se = err_mae_std / np.sqrt(err_mae.shape[-1])\n",
    "err_mse_se = err_mse_std / np.sqrt(err_mae.shape[-1])"
   ]
  },
  {
   "cell_type": "code",
   "execution_count": 80,
   "metadata": {},
   "outputs": [
    {
     "data": {
      "text/plain": [
       "Text(0.5, -0.4, '6 Participants, 3 Muscles\\nH0: (m=1) == (m=3) vs H1: (m=1) < (m=3)\\np-values: [0.04, 0.49, 0.6, 0.15, 0.25, 0.03]')"
      ]
     },
     "execution_count": 80,
     "metadata": {},
     "output_type": "execute_result"
    },
    {
     "data": {
      "image/png": "[encoded data removed]",
      "text/plain": [
       "<Figure size 600x400 with 1 Axes>"
      ]
     },
     "metadata": {},
     "output_type": "display_data"
    }
   ],
   "source": [
    "nrows, ncols = 1, 1\n",
    "fig, axes = plt.subplots(nrows=nrows, ncols=ncols, figsize=(6 * ncols, 4 * nrows), squeeze=False, constrained_layout=True)\n",
    "\n",
    "ax = axes[0, 0]\n",
    "\n",
    "for j, m in enumerate(m_space):\n",
    "    # sns.lineplot(x=N_space, y=err_mse_mean[j, ...], marker=\"o\", linestyle=\"dashed\", ms=8, ax=ax, label=f\"m = {m}\")\n",
    "\n",
    "    ax.errorbar(\n",
    "        x=N_space,\n",
    "        y=err_mse_mean[j, ...],\n",
    "        fmt=\"--\",\n",
    "        marker=\"o\",\n",
    "        # markersize=pt_size,\n",
    "        # color=pt_color,\n",
    "        # xerr=xError,\n",
    "        yerr=[err_mse_mean[j, ...] - err_mse_se[j, ...], err_mse_mean[j, ...] + err_mse_se[j, ...]],\n",
    "        # elinewidth=err_width,\n",
    "        # capsize=err_capsize,\n",
    "        # capthick=cap_width,\n",
    "        # barsabove=False,\n",
    "        # ecolor=err_color,\n",
    "        label=f\"m = {m}\"\n",
    "    )\n",
    "\n",
    "ax.set(yscale='log')\n",
    "ax.set_ylabel(\"MSE (log-scale)\")\n",
    "ax.set_xlabel(\"# points\")\n",
    "ax.legend(loc=\"upper right\")\n",
    "plt.title(f\"6 Participants, 3 Muscles\\nH0: (m=1) == (m=3) vs H1: (m=1) < (m=3)\\np-values: {np.round([0.04491838, 0.48950663, 0.59609639, 0.14868006, 0.2525384, 0.02530878], 2).tolist()}\", y=-0.4)"
   ]
  },
  {
   "cell_type": "code",
   "execution_count": 45,
   "metadata": {},
   "outputs": [
    {
     "data": {
      "text/plain": [
       "(4, 6, 6)"
      ]
     },
     "execution_count": 45,
     "metadata": {},
     "output_type": "execute_result"
    }
   ],
   "source": [
    "err_mse.shape"
   ]
  },
  {
   "cell_type": "code",
   "execution_count": 46,
   "metadata": {},
   "outputs": [],
   "source": [
    "import scipy.stats as stats"
   ]
  },
  {
   "cell_type": "code",
   "execution_count": 48,
   "metadata": {},
   "outputs": [
    {
     "data": {
      "text/plain": [
       "(6,)"
      ]
     },
     "execution_count": 48,
     "metadata": {},
     "output_type": "execute_result"
    }
   ],
   "source": [
    "err_mse[0, -1, ...] - err_mse[1, -1, ...]"
   ]
  },
  {
   "cell_type": "code",
   "execution_count": null,
   "metadata": {},
   "outputs": [],
   "source": [
    "m = 1 is better than m = 3 if err_mse[0, -1, ...] < err_mse[1, -1, ...] or "
   ]
  },
  {
   "cell_type": "code",
   "execution_count": 50,
   "metadata": {},
   "outputs": [
    {
     "data": {
      "text/plain": [
       "(6, 6)"
      ]
     },
     "execution_count": 50,
     "metadata": {},
     "output_type": "execute_result"
    }
   ],
   "source": [
    "err_mse[0, ...].shape"
   ]
  },
  {
   "cell_type": "code",
   "execution_count": 53,
   "metadata": {},
   "outputs": [
    {
     "data": {
      "text/plain": [
       "TtestResult(statistic=array([-2.09926716, -0.02764696,  0.25646872, -1.16286974, -0.71768152,\n",
       "       -2.56047188]), pvalue=array([0.04491838, 0.48950663, 0.59609639, 0.14868006, 0.2525384 ,\n",
       "       0.02530878]), df=array([5, 5, 5, 5, 5, 5]))"
      ]
     },
     "execution_count": 53,
     "metadata": {},
     "output_type": "execute_result"
    }
   ],
   "source": [
    "stats.ttest_1samp(\n",
    "    a = err_mse[0, ...] - err_mse[1, ...],\n",
    "    popmean=0,\n",
    "    alternative=\"less\",\n",
    "    axis=-1\n",
    ")"
   ]
  },
  {
   "cell_type": "code",
   "execution_count": 49,
   "metadata": {},
   "outputs": [
    {
     "data": {
      "text/plain": [
       "TtestResult(statistic=-2.5604718751568867, pvalue=0.02530878353788898, df=5)"
      ]
     },
     "execution_count": 49,
     "metadata": {},
     "output_type": "execute_result"
    }
   ],
   "source": [
    "stats.ttest_1samp(\n",
    "    a = err_mse[0, ...] - err_mse[1, ...],\n",
    "    popmean=0,\n",
    "    alternative=\"less\",\n",
    "    axis=-1\n",
    ")"
   ]
  },
  {
   "cell_type": "code",
   "execution_count": 8,
   "metadata": {},
   "outputs": [
    {
     "data": {
      "text/plain": [
       "(4, 6, 2)"
      ]
     },
     "execution_count": 8,
     "metadata": {},
     "output_type": "execute_result"
    }
   ],
   "source": [
    "scores.shape"
   ]
  }
 ],
 "metadata": {
  "kernelspec": {
   "display_name": "Python 3 (ipykernel)",
   "language": "python",
   "name": "python3"
  },
  "language_info": {
   "codemirror_mode": {
    "name": "ipython",
    "version": 3
   },
   "file_extension": ".py",
   "mimetype": "text/x-python",
   "name": "python",
   "nbconvert_exporter": "python",
   "pygments_lexer": "ipython3",
   "version": "3.11.4"
  },
  "orig_nbformat": 4,
  "vscode": {
   "interpreter": {
    "hash": "850bfd4e6f5ddd996dd5cd5088beecd08558625e274540230e1444ec52025b11"
   }
  }
 },
 "nbformat": 4,
 "nbformat_minor": 2
}
