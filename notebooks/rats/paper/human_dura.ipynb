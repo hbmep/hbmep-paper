{
 "cells": [
  {
   "cell_type": "code",
   "execution_count": 1,
   "metadata": {},
   "outputs": [],
   "source": [
    "%reload_ext autoreload\n",
    "%autoreload 2\n",
    "\n",
    "import os\n",
    "from pathlib import Path\n",
    "import multiprocessing\n",
    "\n",
    "import jax\n",
    "import jax.numpy as jnp\n",
    "import pandas as pd\n",
    "import numpy as np\n",
    "import numpyro\n",
    "import numpyro.distributions as dist\n",
    "\n",
    "from hbmep.config import Config\n",
    "from hbmep.model import Baseline\n",
    "from hbmep.model.utils import Site as site\n",
    "from hbmep.utils.constants import RECTIFIED_LOGISTIC\n",
    "\n",
    "PLATFORM = \"cpu\"\n",
    "jax.config.update(\"jax_platforms\", PLATFORM)\n",
    "numpyro.set_platform(PLATFORM)\n",
    "\n",
    "cpu_count = multiprocessing.cpu_count() - 2\n",
    "numpyro.set_host_device_count(cpu_count)\n",
    "numpyro.enable_x64()\n"
   ]
  },
  {
   "attachments": {},
   "cell_type": "markdown",
   "metadata": {},
   "source": [
    "#### Load config"
   ]
  },
  {
   "cell_type": "code",
   "execution_count": 2,
   "metadata": {},
   "outputs": [
    {
     "name": "stderr",
     "output_type": "stream",
     "text": [
      "2023-07-27 15:17:59,208 - hbmep.config - INFO - Verifying configuration ...\n",
      "2023-07-27 15:17:59,209 - hbmep.config - INFO - Success!\n"
     ]
    }
   ],
   "source": [
    "root_path = Path(os.getcwd()).parent.parent.parent.absolute()\n",
    "toml_path = os.path.join(root_path, \"configs/human_dura.toml\")\n",
    "\n",
    "config = Config(toml_path=toml_path)\n",
    "config.BUILD_DIR = \"/home/vishu/repos/hbmep-paper/reports/human/human_dura/nb\"\n"
   ]
  },
  {
   "cell_type": "code",
   "execution_count": 3,
   "metadata": {},
   "outputs": [
    {
     "name": "stderr",
     "output_type": "stream",
     "text": [
      "2023-07-27 15:17:59,273 - hbmep.model.baseline - INFO - Initialized model with rectified_logistic link\n"
     ]
    }
   ],
   "source": [
    "class RectifiedLogistic(Baseline):\n",
    "    LINK = RECTIFIED_LOGISTIC\n",
    "\n",
    "    def __init__(self, config: Config):\n",
    "        super(RectifiedLogistic, self).__init__(config=config)\n",
    "\n",
    "    def _model(self, subject, features, intensity, response_obs=None):\n",
    "        intensity = intensity.reshape(-1, 1)\n",
    "        intensity = np.tile(intensity, (1, self.n_response))\n",
    "\n",
    "        feature0 = features[0].reshape(-1,)\n",
    "        feature1 = features[1].reshape(-1,)\n",
    "\n",
    "        n_data = intensity.shape[0]\n",
    "        n_subject = np.unique(subject).shape[0]\n",
    "        n_feature0 = np.unique(feature0).shape[0]\n",
    "        n_feature1 = np.unique(feature1).shape[0]\n",
    "\n",
    "        with numpyro.plate(site.n_response, self.n_response, dim=-1):\n",
    "            with numpyro.plate(site.n_subject, n_subject, dim=-2):\n",
    "                \"\"\" Hyper-priors \"\"\"\n",
    "                mu_a = numpyro.sample(\n",
    "                    site.mu_a,\n",
    "                    dist.TruncatedNormal(3, 10, low=0)\n",
    "                )\n",
    "                sigma_a = numpyro.sample(site.sigma_a, dist.HalfNormal(2))\n",
    "\n",
    "                sigma_b = numpyro.sample(site.sigma_b, dist.HalfNormal(10))\n",
    "\n",
    "                sigma_L = numpyro.sample(site.sigma_L, dist.HalfNormal(2))\n",
    "                sigma_H = numpyro.sample(site.sigma_H, dist.HalfNormal(10))\n",
    "                sigma_v = numpyro.sample(site.sigma_v, dist.HalfNormal(10))\n",
    "\n",
    "                with numpyro.plate(\"n_feature0\", n_feature0, dim=-3):\n",
    "                    with numpyro.plate(\"n_feature1\", n_feature1, dim=-4):\n",
    "                        \"\"\" Priors \"\"\"\n",
    "                        a = numpyro.sample(\n",
    "                            site.a,\n",
    "                            dist.TruncatedNormal(mu_a, sigma_a, low=0)\n",
    "                        )\n",
    "                        b = numpyro.sample(site.b, dist.HalfNormal(sigma_b))\n",
    "\n",
    "                        L = numpyro.sample(site.L, dist.HalfNormal(sigma_L))\n",
    "                        H = numpyro.sample(site.H, dist.HalfNormal(sigma_H))\n",
    "                        v = numpyro.sample(site.v, dist.HalfNormal(sigma_v))\n",
    "\n",
    "                        g_1 = numpyro.sample(\"g_1\", dist.Exponential(1 / 100))\n",
    "                        g_2 = numpyro.sample(\"g_2\", dist.Exponential(1 / 100))\n",
    "\n",
    "        \"\"\" Model \"\"\"\n",
    "        mu = numpyro.deterministic(\n",
    "            site.mu,\n",
    "            L[feature1, feature0, subject]\n",
    "            + jnp.maximum(\n",
    "                0,\n",
    "                -1\n",
    "                + (H[feature1, feature0, subject] + 1)\n",
    "                / jnp.power(\n",
    "                    1\n",
    "                    + (jnp.power(1 + H[feature1, feature0, subject], v[feature1, feature0, subject]) - 1)\n",
    "                    * jnp.exp(-b[feature1, feature0, subject] * (intensity - a[feature1, feature0, subject])),\n",
    "                    1 / v[feature1, feature0, subject]\n",
    "                )\n",
    "            )\n",
    "        )\n",
    "        beta = numpyro.deterministic(\n",
    "            site.beta,\n",
    "            g_1[feature1, feature0, subject] + g_2[feature1, feature0, subject] * (1 / mu)\n",
    "        )\n",
    "\n",
    "        with numpyro.plate(site.data, n_data):\n",
    "            return numpyro.sample(\n",
    "                site.obs,\n",
    "                dist.Gamma(concentration=mu * beta, rate=beta).to_event(1),\n",
    "                obs=response_obs\n",
    "            )\n",
    "\n",
    "\n",
    "model = RectifiedLogistic(config=config)"
   ]
  },
  {
   "cell_type": "code",
   "execution_count": 4,
   "metadata": {},
   "outputs": [],
   "source": [
    "dir = \"/home/vishu/data\"\n",
    "\n",
    "DATASET_REAL = 'real_data/dnc_info_2022-05-26.parquet'\n",
    "df = pd.read_parquet(os.path.join(dir, DATASET_REAL))\n",
    "\n",
    "# ind = (df.participant.isin([\"scapptio017\"]))\n",
    "# ind &= (df.sc_depth.isin([\"epidural\", \"subdural\"]))\n",
    "# ind &= (df.sc_electrode_configuration.isin([\"RC\"]))\n",
    "# ind &= (df.position.isin([\"T1_R\", \"T1_M\"]))\n",
    "\n",
    "ind = (df.participant.isin([\"scapptio017\"]))\n",
    "ind &= (df.sc_depth.isin([\"epidural\"]))\n",
    "ind &= (df.sc_electrode_configuration.isin([\"RC\"]))\n",
    "ind &= (df.position.isin([\"T1_R\"]))\n",
    "\n",
    "df = df[ind].copy()\n",
    "df.reset_index(drop=True, inplace=True)\n",
    "\n",
    "df[model.intensity] *= 1000"
   ]
  },
  {
   "cell_type": "code",
   "execution_count": 5,
   "metadata": {},
   "outputs": [
    {
     "name": "stderr",
     "output_type": "stream",
     "text": [
      "2023-07-27 15:17:59,430 - hbmep.dataset.core - INFO - Artefacts will be stored here - /home/vishu/repos/hbmep-paper/reports/human/human_dura/nb\n",
      "2023-07-27 15:17:59,430 - hbmep.dataset.core - INFO - Copied config to /home/vishu/repos/hbmep-paper/reports/human/human_dura/nb\n",
      "2023-07-27 15:17:59,431 - hbmep.dataset.core - INFO - Processing data ...\n",
      "2023-07-27 15:17:59,432 - hbmep.utils.utils - INFO - func:load took: 0.00 sec\n"
     ]
    }
   ],
   "source": [
    "df, encoder_dict = model.load(df=df)"
   ]
  },
  {
   "cell_type": "code",
   "execution_count": 6,
   "metadata": {},
   "outputs": [
    {
     "name": "stderr",
     "output_type": "stream",
     "text": [
      "2023-07-27 15:17:59,467 - hbmep.dataset.core - INFO - Plotting dataset ...\n",
      "2023-07-27 15:17:59,738 - hbmep.dataset.core - INFO - Saved to /home/vishu/repos/hbmep-paper/reports/human/human_dura/nb/dataset.pdf\n",
      "2023-07-27 15:17:59,738 - hbmep.utils.utils - INFO - func:plot took: 0.27 sec\n"
     ]
    }
   ],
   "source": [
    "model.plot(df=df, encoder_dict=encoder_dict)"
   ]
  },
  {
   "cell_type": "code",
   "execution_count": 7,
   "metadata": {},
   "outputs": [
    {
     "name": "stderr",
     "output_type": "stream",
     "text": [
      "2023-07-27 15:17:59,861 - hbmep.model.baseline - INFO - Running inference with rectified_logistic ...\n"
     ]
    },
    {
     "data": {
      "application/vnd.jupyter.widget-view+json": {
       "model_id": "b139988849a34ed98beff186923240e9",
       "version_major": 2,
       "version_minor": 0
      },
      "text/plain": [
       "  0%|          | 0/10000 [00:00<?, ?it/s]"
      ]
     },
     "metadata": {},
     "output_type": "display_data"
    },
    {
     "data": {
      "application/vnd.jupyter.widget-view+json": {
       "model_id": "e6c613ee90e1459a879accfeda8002d9",
       "version_major": 2,
       "version_minor": 0
      },
      "text/plain": [
       "  0%|          | 0/10000 [00:00<?, ?it/s]"
      ]
     },
     "metadata": {},
     "output_type": "display_data"
    },
    {
     "data": {
      "application/vnd.jupyter.widget-view+json": {
       "model_id": "cf3be1d4221845bf8eb6aaec67f1d1e6",
       "version_major": 2,
       "version_minor": 0
      },
      "text/plain": [
       "  0%|          | 0/10000 [00:00<?, ?it/s]"
      ]
     },
     "metadata": {},
     "output_type": "display_data"
    },
    {
     "data": {
      "application/vnd.jupyter.widget-view+json": {
       "model_id": "fbd79c74c1084e8fa43afc734146e70e",
       "version_major": 2,
       "version_minor": 0
      },
      "text/plain": [
       "  0%|          | 0/10000 [00:00<?, ?it/s]"
      ]
     },
     "metadata": {},
     "output_type": "display_data"
    },
    {
     "name": "stderr",
     "output_type": "stream",
     "text": [
      "2023-07-27 15:18:31,514 - hbmep.utils.utils - INFO - func:run_inference took: 31.65 sec\n"
     ]
    }
   ],
   "source": [
    "mcmc, posterior_samples = model.run_inference(df=df)\n"
   ]
  },
  {
   "cell_type": "code",
   "execution_count": 8,
   "metadata": {},
   "outputs": [
    {
     "name": "stdout",
     "output_type": "stream",
     "text": [
      "\n",
      "                  mean       std    median      2.5%     97.5%     n_eff     r_hat\n",
      "  H[0,0,0,0]      1.66      1.13      1.53      0.93      2.27    997.96      1.00\n",
      "  H[0,0,0,1]     13.16      7.75     10.80      3.16     28.75   6310.76      1.00\n",
      "  H[0,0,0,2]     19.54      7.37     18.15      8.04     34.70   8824.58      1.00\n",
      "  L[0,0,0,0]      0.49      0.07      0.48      0.36      0.62   8642.79      1.00\n",
      "  L[0,0,0,1]      0.85      0.53      0.97      0.02      1.64   1525.68      1.00\n",
      "  L[0,0,0,2]      1.56      0.57      1.57      0.03      2.44   1275.78      1.00\n",
      "  a[0,0,0,0]      2.59      0.15      2.57      2.36      2.87   5391.03      1.00\n",
      "  a[0,0,0,1]      1.87      0.90      2.32      0.22      2.95   1259.29      1.00\n",
      "  a[0,0,0,2]      2.52      0.66      2.67      0.75      3.69    755.69      1.00\n",
      "  b[0,0,0,0]     12.10      9.29      9.48      0.85     30.92   7744.01      1.00\n",
      "  b[0,0,0,1]      7.61      6.73      5.62      0.25     20.48   4528.96      1.00\n",
      "  b[0,0,0,2]     10.64      8.33      8.33      0.76     27.49   4394.87      1.00\n",
      "g_1[0,0,0,0]      2.87      0.85      2.85      1.19      4.53   6299.30      1.00\n",
      "g_1[0,0,0,1]      0.34      0.16      0.34      0.05      0.65   2429.88      1.00\n",
      "g_1[0,0,0,2]      0.22      0.09      0.22      0.05      0.39   2752.57      1.00\n",
      "g_2[0,0,0,0]      0.29      0.27      0.22      0.00      0.85   7757.92      1.00\n",
      "g_2[0,0,0,1]      0.20      0.19      0.13      0.00      0.60   2072.58      1.00\n",
      "g_2[0,0,0,2]      0.11      0.11      0.08      0.00      0.34   1626.22      1.00\n",
      "  v[0,0,0,0]      2.73      3.22      1.64      0.00      9.17   7817.75      1.00\n",
      "  v[0,0,0,1]      5.19      5.55      3.41      0.00     16.38   3928.28      1.00\n",
      "  v[0,0,0,2]      3.54      3.87      2.36      0.00     10.96   3855.90      1.00\n",
      "    µ_a[0,0]      2.78      1.53      2.60      0.00      5.67   7762.48      1.00\n",
      "    µ_a[0,1]      2.24      1.63      2.08      0.00      5.29   4720.64      1.00\n",
      "    µ_a[0,2]      2.71      1.61      2.61      0.00      5.59   5969.39      1.00\n",
      "    σ_H[0,0]      5.43      4.53      3.96      0.48     14.85  10058.36      1.00\n",
      "    σ_H[0,1]     12.05      5.49     11.16      3.17     23.05   8850.01      1.00\n",
      "    σ_H[0,2]     14.49      5.36     13.77      5.16     25.19  11214.66      1.00\n",
      "    σ_L[0,0]      1.25      0.90      0.99      0.15      3.08  11222.68      1.00\n",
      "    σ_L[0,1]      1.46      1.01      1.26      0.02      3.39   4981.44      1.00\n",
      "    σ_L[0,2]      1.95      1.04      1.77      0.05      3.96   4478.69      1.00\n",
      "    σ_a[0,0]      1.57      1.15      1.35      0.01      3.76   9415.47      1.00\n",
      "    σ_a[0,1]      1.56      1.16      1.32      0.02      3.80   7934.94      1.00\n",
      "    σ_a[0,2]      1.57      1.15      1.35      0.03      3.77   8707.45      1.00\n",
      "    σ_b[0,0]     11.30      5.95     10.43      1.47     22.66   8669.03      1.00\n",
      "    σ_b[0,1]      9.16      5.66      8.15      0.64     19.94   8756.78      1.00\n",
      "    σ_b[0,2]     10.65      5.86      9.77      1.29     22.00   5964.08      1.00\n",
      "    σ_v[0,0]      5.83      4.96      4.52      0.00     15.77  11211.43      1.00\n",
      "    σ_v[0,1]      7.53      5.59      6.40      0.00     18.32   6260.60      1.00\n",
      "    σ_v[0,2]      6.59      5.27      5.34      0.03     17.09   6032.02      1.00\n",
      "\n",
      "Number of divergences: 3082\n"
     ]
    }
   ],
   "source": [
    "mcmc.print_summary(prob=.95)\n"
   ]
  },
  {
   "cell_type": "code",
   "execution_count": 9,
   "metadata": {},
   "outputs": [
    {
     "name": "stderr",
     "output_type": "stream",
     "text": [
      "2023-07-27 15:18:32,334 - hbmep.model.baseline - INFO - Rendering recruitment curves ...\n",
      "2023-07-27 15:18:35,999 - hbmep.model.baseline - INFO - Saved to /home/vishu/repos/hbmep-paper/reports/human/human_dura/nb/recruitment_curves.pdf\n",
      "2023-07-27 15:18:36,000 - hbmep.utils.utils - INFO - func:render_recruitment_curves took: 3.67 sec\n"
     ]
    }
   ],
   "source": [
    "model.render_recruitment_curves(df=df, encoder_dict=encoder_dict, posterior_samples=posterior_samples)\n"
   ]
  },
  {
   "cell_type": "code",
   "execution_count": 10,
   "metadata": {},
   "outputs": [
    {
     "name": "stderr",
     "output_type": "stream",
     "text": [
      "2023-07-27 15:18:36,995 - hbmep.model.baseline - INFO - Rendering Posterior Predictive Check ...\n"
     ]
    },
    {
     "name": "stderr",
     "output_type": "stream",
     "text": [
      "2023-07-27 15:18:41,317 - hbmep.model.baseline - INFO - Saved to /home/vishu/repos/hbmep-paper/reports/human/human_dura/nb/posterior_predictive_check.pdf\n",
      "2023-07-27 15:18:41,321 - hbmep.utils.utils - INFO - func:render_predictive_check took: 4.33 sec\n"
     ]
    }
   ],
   "source": [
    "model.render_predictive_check(df=df, encoder_dict=encoder_dict, posterior_samples=posterior_samples)\n"
   ]
  },
  {
   "cell_type": "code",
   "execution_count": 11,
   "metadata": {},
   "outputs": [
    {
     "name": "stderr",
     "output_type": "stream",
     "text": [
      "2023-07-27 15:18:42,271 - hbmep.model.baseline - INFO - Saving inference data ...\n"
     ]
    },
    {
     "name": "stderr",
     "output_type": "stream",
     "text": [
      "2023-07-27 15:18:43,901 - hbmep.model.baseline - INFO - Saved to /home/vishu/repos/hbmep-paper/reports/human/human_dura/nb/mcmc.nc\n",
      "2023-07-27 15:18:43,901 - hbmep.model.baseline - INFO - Rendering convergence diagnostics ...\n",
      "2023-07-27 15:18:46,507 - hbmep.model.baseline - INFO - Saved to /home/vishu/repos/hbmep-paper/reports/human/human_dura/nb/diagnostics.csv\n",
      "2023-07-27 15:18:46,507 - hbmep.model.baseline - INFO - Evaluating model ...\n",
      "2023-07-27 15:18:46,760 - hbmep.model.baseline - INFO - ELPD LOO (Log): -173.26\n",
      "/home/vishu/repos/hbmep-paper/.venv/lib/python3.11/site-packages/arviz/stats/stats.py:1645: UserWarning: For one or more samples the posterior variance of the log predictive densities exceeds 0.4. This could be indication of WAIC starting to fail. \n",
      "See http://arxiv.org/abs/1507.04544 for details\n",
      "  warnings.warn(\n",
      "2023-07-27 15:18:46,772 - hbmep.model.baseline - INFO - ELPD WAIC (Log): -172.97\n",
      "2023-07-27 15:18:46,773 - hbmep.utils.utils - INFO - func:save took: 4.50 sec\n"
     ]
    }
   ],
   "source": [
    "model.save(mcmc=mcmc)"
   ]
  },
  {
   "cell_type": "code",
   "execution_count": 12,
   "metadata": {},
   "outputs": [],
   "source": [
    "a = posterior_samples[\"a\"]"
   ]
  },
  {
   "cell_type": "code",
   "execution_count": 13,
   "metadata": {},
   "outputs": [
    {
     "data": {
      "text/plain": [
       "(24000, 1, 1, 1, 3)"
      ]
     },
     "execution_count": 13,
     "metadata": {},
     "output_type": "execute_result"
    }
   ],
   "source": [
    "a.shape"
   ]
  }
 ],
 "metadata": {
  "kernelspec": {
   "display_name": ".venv",
   "language": "python",
   "name": "python3"
  },
  "language_info": {
   "codemirror_mode": {
    "name": "ipython",
    "version": 3
   },
   "file_extension": ".py",
   "mimetype": "text/x-python",
   "name": "python",
   "nbconvert_exporter": "python",
   "pygments_lexer": "ipython3",
   "version": "3.11.4"
  },
  "orig_nbformat": 4,
  "vscode": {
   "interpreter": {
    "hash": "850bfd4e6f5ddd996dd5cd5088beecd08558625e274540230e1444ec52025b11"
   }
  }
 },
 "nbformat": 4,
 "nbformat_minor": 2
}
