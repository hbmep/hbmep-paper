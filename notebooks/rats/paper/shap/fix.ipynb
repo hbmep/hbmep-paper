{
 "cells": [
  {
   "cell_type": "code",
   "execution_count": 1,
   "metadata": {},
   "outputs": [],
   "source": [
    "%reload_ext autoreload\n",
    "%autoreload 2\n",
    "\n",
    "import os\n",
    "from pathlib import Path\n",
    "import multiprocessing\n",
    "\n",
    "import jax\n",
    "import jax.numpy as jnp\n",
    "import pandas as pd\n",
    "import numpy as np\n",
    "import numpyro\n",
    "import numpyro.distributions as dist\n",
    "\n",
    "from hbmep.config import Config\n",
    "from hbmep.model import Baseline\n",
    "from hbmep.model.utils import Site as site\n",
    "from hbmep.utils.constants import RECTIFIED_LOGISTIC\n",
    "\n",
    "PLATFORM = \"cpu\"\n",
    "jax.config.update(\"jax_platforms\", PLATFORM)\n",
    "numpyro.set_platform(PLATFORM)\n",
    "\n",
    "cpu_count = multiprocessing.cpu_count() - 2\n",
    "numpyro.set_host_device_count(cpu_count)\n",
    "numpyro.enable_x64()\n",
    "numpyro.enable_validation()\n"
   ]
  },
  {
   "cell_type": "code",
   "execution_count": 2,
   "metadata": {},
   "outputs": [
    {
     "name": "stderr",
     "output_type": "stream",
     "text": [
      "2023-08-15 10:38:35,055 - hbmep.config - INFO - Verifying configuration ...\n",
      "2023-08-15 10:38:35,055 - hbmep.config - INFO - Success!\n"
     ]
    }
   ],
   "source": [
    "root_path = Path(os.getcwd()).parent.parent.parent.parent.absolute()\n",
    "toml_path = os.path.join(root_path, \"configs/shap/adm.toml\")\n",
    "\n",
    "config = Config(toml_path=toml_path)\n",
    "config.BUILD_DIR = \"/home/vishu/repos/hbmep-paper/reports/J_SHAP/fix\"\n",
    "\n",
    "config.MCMC_PARAMS[\"num_chains\"] = 20\n",
    "config.MCMC_PARAMS[\"num_warmup\"] = 10000"
   ]
  },
  {
   "attachments": {},
   "cell_type": "markdown",
   "metadata": {},
   "source": [
    "#### Load data and preprocess"
   ]
  },
  {
   "cell_type": "code",
   "execution_count": 3,
   "metadata": {},
   "outputs": [
    {
     "name": "stderr",
     "output_type": "stream",
     "text": [
      "2023-08-15 10:38:35,114 - hbmep.model.baseline - INFO - Initialized model with rectified_logistic link\n"
     ]
    }
   ],
   "source": [
    "class RectifiedLogistic(Baseline):\n",
    "    LINK = RECTIFIED_LOGISTIC\n",
    "\n",
    "    def __init__(self, config: Config):\n",
    "        super(RectifiedLogistic, self).__init__(config=config)\n",
    "\n",
    "    def _model(self, subject, features, intensity, response_obs=None):\n",
    "        intensity = intensity.reshape(-1, 1)\n",
    "        intensity = np.tile(intensity, (1, self.n_response))\n",
    "\n",
    "        feature0 = features[0, ...].reshape(-1,)\n",
    "        feature1 = features[1, ...].reshape(-1,)\n",
    "\n",
    "        n_data = intensity.shape[0]\n",
    "        n_subject = np.unique(subject).shape[0]\n",
    "        n_feature0 = np.unique(feature0).shape[0]\n",
    "        n_feature1 = np.unique(feature1).shape[0]\n",
    "\n",
    "        with numpyro.plate(site.n_response, self.n_response, dim=-1):\n",
    "            with numpyro.plate(site.n_subject, n_subject, dim=-2):\n",
    "                \"\"\" Hyper-priors \"\"\"\n",
    "                mu_a = numpyro.sample(\n",
    "                    site.mu_a,\n",
    "                    dist.TruncatedNormal(150, 300, low=0)\n",
    "                )\n",
    "                sigma_a = numpyro.sample(site.sigma_a, dist.HalfNormal(150))\n",
    "\n",
    "                sigma_b = numpyro.sample(site.sigma_b, dist.HalfNormal(0.1))\n",
    "\n",
    "                sigma_L = numpyro.sample(site.sigma_L, dist.HalfNormal(0.05))\n",
    "                sigma_H = numpyro.sample(site.sigma_H, dist.HalfNormal(5))\n",
    "                sigma_v = numpyro.sample(site.sigma_v, dist.HalfNormal(10))\n",
    "\n",
    "                with numpyro.plate(\"n_feature0\", n_feature0, dim=-3):\n",
    "                    with numpyro.plate(\"n_feature1\", n_feature1, dim=-4):\n",
    "                        \"\"\" Priors \"\"\"\n",
    "                        a = numpyro.sample(\n",
    "                            site.a,\n",
    "                            dist.TruncatedNormal(mu_a, sigma_a, low=0)\n",
    "                        )\n",
    "                        b = numpyro.sample(site.b, dist.HalfNormal(sigma_b))\n",
    "\n",
    "                        L = numpyro.sample(site.L, dist.HalfNormal(sigma_L))\n",
    "                        H = numpyro.sample(site.H, dist.HalfNormal(sigma_H))\n",
    "                        v = numpyro.sample(site.v, dist.HalfNormal(sigma_v))\n",
    "\n",
    "                        g_1 = numpyro.sample(site.g_1, dist.Exponential(0.01))\n",
    "                        g_2 = numpyro.sample(site.g_2, dist.Exponential(0.01))\n",
    "                        c = numpyro.sample(\"c\", dist.Exponential(0.01))\n",
    "\n",
    "        \"\"\" Model \"\"\"\n",
    "        mu = numpyro.deterministic(\n",
    "            site.mu,\n",
    "            L[feature1, feature0, subject]\n",
    "            + jnp.maximum(\n",
    "                0,\n",
    "                -1\n",
    "                + (H[feature1, feature0, subject] + 1)\n",
    "                / jnp.power(\n",
    "                    1\n",
    "                    + (jnp.power(1 + H[feature1, feature0, subject], v[feature1, feature0, subject]) - 1)\n",
    "                    * jnp.exp(-b[feature1, feature0, subject] * (intensity - a[feature1, feature0, subject])),\n",
    "                    1 / v[feature1, feature0, subject]\n",
    "                )\n",
    "            )\n",
    "        )\n",
    "        beta = numpyro.deterministic(\n",
    "            site.beta,\n",
    "            g_1[feature1, feature0, subject] + g_2[feature1, feature0, subject] * (1 / (mu + c[feature1, feature0, subject]))\n",
    "        )\n",
    "\n",
    "        \"\"\" Observation \"\"\"\n",
    "        with numpyro.plate(site.data, n_data):\n",
    "            return numpyro.sample(\n",
    "                site.obs,\n",
    "                dist.Gamma(concentration=mu * beta, rate=beta).to_event(1),\n",
    "                obs=response_obs\n",
    "            )\n",
    "\n",
    "\n",
    "model = RectifiedLogistic(config=config)\n",
    "\n",
    "model.rng_key = jax.random.PRNGKey(model.random_state + 1)"
   ]
  },
  {
   "cell_type": "code",
   "execution_count": 4,
   "metadata": {},
   "outputs": [
    {
     "name": "stderr",
     "output_type": "stream",
     "text": [
      "2023-08-15 10:38:35,365 - hbmep.dataset.core - INFO - Artefacts will be stored here - /home/vishu/repos/hbmep-paper/reports/J_SHAP/fix\n",
      "2023-08-15 10:38:35,366 - hbmep.dataset.core - INFO - Copied config to /home/vishu/repos/hbmep-paper/reports/J_SHAP/fix\n",
      "2023-08-15 10:38:35,367 - hbmep.dataset.core - INFO - Processing data ...\n",
      "2023-08-15 10:38:35,368 - hbmep.utils.utils - INFO - func:load took: 0.00 sec\n"
     ]
    },
    {
     "data": {
      "text/plain": [
       "' Plot '"
      ]
     },
     "execution_count": 4,
     "metadata": {},
     "output_type": "execute_result"
    }
   ],
   "source": [
    "df = pd.read_csv(model.csv_path)\n",
    "\n",
    "ind = df.pulse_amplitude.isin([0])\n",
    "df = df[~ind].reset_index(drop=True).copy()\n",
    "\n",
    "\"\"\" Filter \"\"\"\n",
    "subset = [('50-0-50-0', 'C7L-', 'amap07')]\n",
    "ind = df[model.combination_columns[::-1]].apply(tuple, axis=1).isin(subset)\n",
    "df = df[ind].reset_index(drop=True).copy()\n",
    "\n",
    "\"\"\" Process \"\"\"\n",
    "df, encoder_dict = model.load(df=df)\n",
    "\n",
    "\"\"\" Plot \"\"\"\n",
    "# model.plot(df=df, encoder_dict=encoder_dict)"
   ]
  },
  {
   "cell_type": "code",
   "execution_count": 5,
   "metadata": {},
   "outputs": [
    {
     "name": "stderr",
     "output_type": "stream",
     "text": [
      "2023-08-15 10:38:35,496 - hbmep.model.baseline - INFO - Running inference with rectified_logistic ...\n"
     ]
    },
    {
     "data": {
      "application/vnd.jupyter.widget-view+json": {
       "model_id": "8fce59f2c7a84bc58d1ac7d3d749fedc",
       "version_major": 2,
       "version_minor": 0
      },
      "text/plain": [
       "  0%|          | 0/16000 [00:00<?, ?it/s]"
      ]
     },
     "metadata": {},
     "output_type": "display_data"
    },
    {
     "data": {
      "application/vnd.jupyter.widget-view+json": {
       "model_id": "ac2bd041312741b6a42478e06a7af0bb",
       "version_major": 2,
       "version_minor": 0
      },
      "text/plain": [
       "  0%|          | 0/16000 [00:00<?, ?it/s]"
      ]
     },
     "metadata": {},
     "output_type": "display_data"
    },
    {
     "data": {
      "application/vnd.jupyter.widget-view+json": {
       "model_id": "22d1026bedc047b9943c211f9f28aafc",
       "version_major": 2,
       "version_minor": 0
      },
      "text/plain": [
       "  0%|          | 0/16000 [00:00<?, ?it/s]"
      ]
     },
     "metadata": {},
     "output_type": "display_data"
    },
    {
     "data": {
      "application/vnd.jupyter.widget-view+json": {
       "model_id": "7956e93b6df749669ded45f7cae22381",
       "version_major": 2,
       "version_minor": 0
      },
      "text/plain": [
       "  0%|          | 0/16000 [00:00<?, ?it/s]"
      ]
     },
     "metadata": {},
     "output_type": "display_data"
    },
    {
     "data": {
      "application/vnd.jupyter.widget-view+json": {
       "model_id": "9e38187cb96b42b6899fecb98e0dfce4",
       "version_major": 2,
       "version_minor": 0
      },
      "text/plain": [
       "  0%|          | 0/16000 [00:00<?, ?it/s]"
      ]
     },
     "metadata": {},
     "output_type": "display_data"
    },
    {
     "data": {
      "application/vnd.jupyter.widget-view+json": {
       "model_id": "afcfe7934b1b40c5ab08bf5863e4e49b",
       "version_major": 2,
       "version_minor": 0
      },
      "text/plain": [
       "  0%|          | 0/16000 [00:00<?, ?it/s]"
      ]
     },
     "metadata": {},
     "output_type": "display_data"
    },
    {
     "data": {
      "application/vnd.jupyter.widget-view+json": {
       "model_id": "3eb6d5eb01bc4b11a137bc52c75355c7",
       "version_major": 2,
       "version_minor": 0
      },
      "text/plain": [
       "  0%|          | 0/16000 [00:00<?, ?it/s]"
      ]
     },
     "metadata": {},
     "output_type": "display_data"
    },
    {
     "data": {
      "application/vnd.jupyter.widget-view+json": {
       "model_id": "0b6561d3282d4d6cbbb822061b93b0ad",
       "version_major": 2,
       "version_minor": 0
      },
      "text/plain": [
       "  0%|          | 0/16000 [00:00<?, ?it/s]"
      ]
     },
     "metadata": {},
     "output_type": "display_data"
    },
    {
     "data": {
      "application/vnd.jupyter.widget-view+json": {
       "model_id": "518b9c4f28d54f1fa5dc854702ad4746",
       "version_major": 2,
       "version_minor": 0
      },
      "text/plain": [
       "  0%|          | 0/16000 [00:00<?, ?it/s]"
      ]
     },
     "metadata": {},
     "output_type": "display_data"
    },
    {
     "data": {
      "application/vnd.jupyter.widget-view+json": {
       "model_id": "58db51884e0e48b59ee404b861efb757",
       "version_major": 2,
       "version_minor": 0
      },
      "text/plain": [
       "  0%|          | 0/16000 [00:00<?, ?it/s]"
      ]
     },
     "metadata": {},
     "output_type": "display_data"
    },
    {
     "data": {
      "application/vnd.jupyter.widget-view+json": {
       "model_id": "0ec83ba2b1b141c6aace818eaeb0b575",
       "version_major": 2,
       "version_minor": 0
      },
      "text/plain": [
       "  0%|          | 0/16000 [00:00<?, ?it/s]"
      ]
     },
     "metadata": {},
     "output_type": "display_data"
    },
    {
     "data": {
      "application/vnd.jupyter.widget-view+json": {
       "model_id": "5f1d37599f8a4f1ebe475a9f25e0e35b",
       "version_major": 2,
       "version_minor": 0
      },
      "text/plain": [
       "  0%|          | 0/16000 [00:00<?, ?it/s]"
      ]
     },
     "metadata": {},
     "output_type": "display_data"
    },
    {
     "data": {
      "application/vnd.jupyter.widget-view+json": {
       "model_id": "3426f7c56ecf4977a39f0d4c8001c29a",
       "version_major": 2,
       "version_minor": 0
      },
      "text/plain": [
       "  0%|          | 0/16000 [00:00<?, ?it/s]"
      ]
     },
     "metadata": {},
     "output_type": "display_data"
    },
    {
     "data": {
      "application/vnd.jupyter.widget-view+json": {
       "model_id": "856e3ce3ce114dee921259b8d0fc85a1",
       "version_major": 2,
       "version_minor": 0
      },
      "text/plain": [
       "  0%|          | 0/16000 [00:00<?, ?it/s]"
      ]
     },
     "metadata": {},
     "output_type": "display_data"
    },
    {
     "data": {
      "application/vnd.jupyter.widget-view+json": {
       "model_id": "5e4bd6b162134385b745b2849b5c9dbb",
       "version_major": 2,
       "version_minor": 0
      },
      "text/plain": [
       "  0%|          | 0/16000 [00:00<?, ?it/s]"
      ]
     },
     "metadata": {},
     "output_type": "display_data"
    },
    {
     "data": {
      "application/vnd.jupyter.widget-view+json": {
       "model_id": "3f63f46285b747d682544ca6b8df4526",
       "version_major": 2,
       "version_minor": 0
      },
      "text/plain": [
       "  0%|          | 0/16000 [00:00<?, ?it/s]"
      ]
     },
     "metadata": {},
     "output_type": "display_data"
    },
    {
     "data": {
      "application/vnd.jupyter.widget-view+json": {
       "model_id": "7a1870995a394be8b5bca133bdcc8acf",
       "version_major": 2,
       "version_minor": 0
      },
      "text/plain": [
       "  0%|          | 0/16000 [00:00<?, ?it/s]"
      ]
     },
     "metadata": {},
     "output_type": "display_data"
    },
    {
     "data": {
      "application/vnd.jupyter.widget-view+json": {
       "model_id": "2cd1e9cada6e4520bb63bd66bef15274",
       "version_major": 2,
       "version_minor": 0
      },
      "text/plain": [
       "  0%|          | 0/16000 [00:00<?, ?it/s]"
      ]
     },
     "metadata": {},
     "output_type": "display_data"
    },
    {
     "data": {
      "application/vnd.jupyter.widget-view+json": {
       "model_id": "0feecc501c324dad9c894c5049c3ef2b",
       "version_major": 2,
       "version_minor": 0
      },
      "text/plain": [
       "  0%|          | 0/16000 [00:00<?, ?it/s]"
      ]
     },
     "metadata": {},
     "output_type": "display_data"
    },
    {
     "data": {
      "application/vnd.jupyter.widget-view+json": {
       "model_id": "0181a73249a44efe88c7de2d5fb5ed74",
       "version_major": 2,
       "version_minor": 0
      },
      "text/plain": [
       "  0%|          | 0/16000 [00:00<?, ?it/s]"
      ]
     },
     "metadata": {},
     "output_type": "display_data"
    },
    {
     "name": "stderr",
     "output_type": "stream",
     "text": [
      "2023-08-15 10:38:49,633 - hbmep.utils.utils - INFO - func:run_inference took: 14.14 sec\n"
     ]
    }
   ],
   "source": [
    "mcmc, posterior_samples = model.run_inference(df=df)\n"
   ]
  },
  {
   "cell_type": "code",
   "execution_count": 6,
   "metadata": {},
   "outputs": [
    {
     "name": "stdout",
     "output_type": "stream",
     "text": [
      "\n",
      "                  mean       std    median      2.5%     97.5%     n_eff     r_hat\n",
      "  H[0,0,0,0]      0.78      0.61      0.68      0.46      1.15   2882.57      1.01\n",
      "  L[0,0,0,0]      0.04      0.01      0.04      0.03      0.05  34292.11      1.00\n",
      "  a[0,0,0,0]    232.63      3.47    233.14    225.43    238.79   4292.94      1.00\n",
      "  b[0,0,0,0]      0.10      0.07      0.09      0.01      0.23  26783.32      1.00\n",
      "  c[0,0,0,0]     97.02     99.87     65.71      0.00    297.28  42646.80      1.00\n",
      "g_1[0,0,0,0]     16.50      6.08     16.89      1.58     26.91  16208.61      1.00\n",
      "g_2[0,0,0,0]     93.37     94.90     63.85      0.00    282.51  48887.50      1.00\n",
      "  v[0,0,0,0]      2.83      3.36      1.68      0.00      9.46  22017.00      1.00\n",
      "    µ_a[0,0]    223.69    102.24    225.77      0.00    400.57  51499.89      1.00\n",
      "    σ_H[0,0]      2.67      2.26      1.93      0.22      7.35  19540.99      1.00\n",
      "    σ_L[0,0]      0.05      0.02      0.04      0.01      0.10  48882.32      1.00\n",
      "    σ_a[0,0]    117.80     84.05    101.34      4.86    278.72  14086.89      1.00\n",
      "    σ_b[0,0]      0.11      0.06      0.10      0.02      0.22  38660.35      1.00\n",
      "    σ_v[0,0]      5.93      5.03      4.61      0.00     15.97  30412.35      1.00\n",
      "\n",
      "Number of divergences: 8932\n"
     ]
    }
   ],
   "source": [
    "mcmc.print_summary(prob=.95)\n"
   ]
  },
  {
   "cell_type": "code",
   "execution_count": 7,
   "metadata": {},
   "outputs": [
    {
     "name": "stderr",
     "output_type": "stream",
     "text": [
      "2023-08-15 10:38:58,856 - hbmep.model.baseline - INFO - Generating predictions ...\n",
      "2023-08-15 10:39:03,467 - hbmep.utils.utils - INFO - func:predict took: 4.61 sec\n",
      "2023-08-15 10:39:03,486 - hbmep.model.baseline - INFO - Rendering recruitment curves ...\n",
      "2023-08-15 10:39:04,305 - hbmep.model.baseline - INFO - Saved to /home/vishu/repos/hbmep-paper/reports/J_SHAP/fix/recruitment_curves.pdf\n",
      "2023-08-15 10:39:04,305 - hbmep.utils.utils - INFO - func:render_recruitment_curves took: 5.45 sec\n"
     ]
    }
   ],
   "source": [
    "model.render_recruitment_curves(df=df, encoder_dict=encoder_dict, posterior_samples=posterior_samples)\n"
   ]
  },
  {
   "cell_type": "code",
   "execution_count": 8,
   "metadata": {},
   "outputs": [
    {
     "name": "stderr",
     "output_type": "stream",
     "text": [
      "2023-08-15 10:39:04,423 - hbmep.model.baseline - INFO - Generating predictions ...\n"
     ]
    },
    {
     "name": "stderr",
     "output_type": "stream",
     "text": [
      "2023-08-15 10:39:09,315 - hbmep.utils.utils - INFO - func:predict took: 4.89 sec\n",
      "2023-08-15 10:39:09,345 - hbmep.model.baseline - INFO - Rendering Posterior Predictive Check ...\n",
      "2023-08-15 10:39:11,660 - hbmep.model.baseline - INFO - Saved to /home/vishu/repos/hbmep-paper/reports/J_SHAP/fix/posterior_predictive_check.pdf\n",
      "2023-08-15 10:39:11,662 - hbmep.utils.utils - INFO - func:render_predictive_check took: 7.24 sec\n"
     ]
    }
   ],
   "source": [
    "model.render_predictive_check(df=df, encoder_dict=encoder_dict, posterior_samples=posterior_samples)\n"
   ]
  },
  {
   "cell_type": "code",
   "execution_count": null,
   "metadata": {},
   "outputs": [
    {
     "name": "stderr",
     "output_type": "stream",
     "text": [
      "2023-08-09 00:36:59,874 - hbmep.model.baseline - INFO - Saving inference data ...\n",
      "2023-08-09 00:37:42,949 - hbmep.model.baseline - INFO - Saved to /home/vishu/repos/hbmep-paper/reports/L_SHIE/biceps/mcmc.nc\n",
      "2023-08-09 00:37:42,950 - hbmep.model.baseline - INFO - Rendering convergence diagnostics ...\n",
      "2023-08-09 00:38:52,426 - hbmep.model.baseline - INFO - Saved to /home/vishu/repos/hbmep-paper/reports/L_SHIE/biceps/diagnostics.csv\n",
      "2023-08-09 00:38:52,427 - hbmep.model.baseline - INFO - Evaluating model ...\n",
      "/home/vishu/repos/hbmep-paper/.venv/lib/python3.11/site-packages/arviz/stats/stats.py:1037: RuntimeWarning: overflow encountered in exp\n",
      "  weights = 1 / np.exp(len_scale - len_scale[:, None]).sum(axis=1)\n",
      "/home/vishu/repos/hbmep-paper/.venv/lib/python3.11/site-packages/arviz/stats/stats.py:803: UserWarning: Estimated shape parameter of Pareto distribution is greater than 0.7 for one or more samples. You should consider using a more robust model, this is because importance sampling is less likely to work well if the marginal posterior and LOO posterior are very different. This is more likely to happen with a non-robust model and highly influential observations.\n",
      "  warnings.warn(\n",
      "2023-08-09 00:39:06,546 - hbmep.model.baseline - INFO - ELPD LOO (Log): 3106.84\n",
      "/home/vishu/repos/hbmep-paper/.venv/lib/python3.11/site-packages/arviz/stats/stats.py:1645: UserWarning: For one or more samples the posterior variance of the log predictive densities exceeds 0.4. This could be indication of WAIC starting to fail. \n",
      "See http://arxiv.org/abs/1507.04544 for details\n",
      "  warnings.warn(\n",
      "2023-08-09 00:39:07,851 - hbmep.model.baseline - INFO - ELPD WAIC (Log): 3137.36\n",
      "2023-08-09 00:39:07,864 - hbmep.utils.utils - INFO - func:save took: 2 min and 7.99 sec\n"
     ]
    }
   ],
   "source": [
    "model.save(mcmc=mcmc)"
   ]
  },
  {
   "cell_type": "markdown",
   "metadata": {},
   "source": [
    "#### Analysis"
   ]
  },
  {
   "cell_type": "code",
   "execution_count": null,
   "metadata": {},
   "outputs": [],
   "source": [
    "import seaborn as sns\n",
    "import matplotlib.pyplot as plt\n",
    "import scipy.stats as stats\n"
   ]
  },
  {
   "cell_type": "code",
   "execution_count": null,
   "metadata": {},
   "outputs": [
    {
     "data": {
      "text/plain": [
       "['compound_position', 'compound_charge_params']"
      ]
     },
     "execution_count": 21,
     "metadata": {},
     "output_type": "execute_result"
    }
   ],
   "source": [
    "model.features"
   ]
  },
  {
   "cell_type": "code",
   "execution_count": 22,
   "metadata": {},
   "outputs": [],
   "source": [
    "pos_classes = encoder_dict[model.features[0]].classes_.tolist()\n",
    "pos_dict = {\n",
    "    encoder_dict[model.features[0]].transform([pos])[0]: pos for pos in pos_classes\n",
    "}\n",
    "\n",
    "charge_classes = encoder_dict[model.features[1]].classes_.tolist()\n",
    "charge_dict = {\n",
    "    encoder_dict[model.features[1]].transform([charge])[0]: charge for charge in charge_classes\n",
    "}"
   ]
  },
  {
   "cell_type": "code",
   "execution_count": 23,
   "metadata": {},
   "outputs": [
    {
     "data": {
      "text/plain": [
       "{0: '-C6LC', 1: 'C6LC-', 2: 'C6LC-C6LX', 3: 'C6LX-C6LC'}"
      ]
     },
     "execution_count": 23,
     "metadata": {},
     "output_type": "execute_result"
    }
   ],
   "source": [
    "pos_dict"
   ]
  },
  {
   "cell_type": "code",
   "execution_count": 24,
   "metadata": {},
   "outputs": [
    {
     "data": {
      "text/plain": [
       "{0: '20-0-80-25', 1: '50-0-50-100'}"
      ]
     },
     "execution_count": 24,
     "metadata": {},
     "output_type": "execute_result"
    }
   ],
   "source": [
    "charge_dict"
   ]
  },
  {
   "cell_type": "code",
   "execution_count": 25,
   "metadata": {},
   "outputs": [
    {
     "data": {
      "text/plain": [
       "['participant', 'compound_position', 'compound_charge_params']"
      ]
     },
     "execution_count": 25,
     "metadata": {},
     "output_type": "execute_result"
    }
   ],
   "source": [
    "model.combination_columns"
   ]
  },
  {
   "cell_type": "code",
   "execution_count": 31,
   "metadata": {},
   "outputs": [],
   "source": [
    "a = np.array(posterior_samples[site.a])     # samples x charge x pos x participants x response\n",
    "a_map = a.mean(axis=0)      # charge x pos x participants x response\n",
    "\n",
    "combinations = model._make_combinations(df=df, columns=model.combination_columns)       # participant x pos x charge\n",
    "\n",
    "conditions = model._make_combinations(df=df, columns=model.combination_columns[1:])     # pos x charge\n",
    "n_conditions = len(conditions)\n",
    "\n",
    "conditions_inv = [\n",
    "    f\"{pos_dict[pos]}::{charge_dict[charge]}\" for (pos, charge) in conditions\n",
    "]\n"
   ]
  },
  {
   "cell_type": "code",
   "execution_count": 32,
   "metadata": {},
   "outputs": [],
   "source": [
    "rows = []\n",
    "columns = [\"left\", \"right\", \"pr\"]\n",
    "\n",
    "for i in range(n_conditions):\n",
    "    (i_pos, i_ch) = conditions[i]\n",
    "\n",
    "    curr_row = []\n",
    "\n",
    "    for j in range(n_conditions):\n",
    "        (j_pos, j_ch) = conditions[j]\n",
    "\n",
    "        if i == j:\n",
    "            curr_row.append(0)\n",
    "            continue\n",
    "\n",
    "        # Common participants\n",
    "        common_participants = [part for (part, pos, ch) in combinations if pos == i_pos and ch == i_ch and (part, j_pos, j_ch) in combinations]\n",
    "\n",
    "        curr_pr = 0\n",
    "        for part in common_participants:\n",
    "            samples = a[:, i_ch, i_pos, part, 0] - a[:, j_ch, j_pos, part, 0]\n",
    "            pr = (samples < 0).mean()\n",
    "            curr_pr += pr\n",
    "\n",
    "        curr_row.append(curr_pr)\n",
    "\n",
    "    rows.append(curr_row)\n",
    "\n",
    "rows = np.array(rows)\n",
    "rows /= n_conditions"
   ]
  },
  {
   "cell_type": "code",
   "execution_count": null,
   "metadata": {},
   "outputs": [],
   "source": []
  },
  {
   "cell_type": "code",
   "execution_count": 33,
   "metadata": {},
   "outputs": [
    {
     "data": {
      "text/plain": [
       "<Axes: >"
      ]
     },
     "execution_count": 33,
     "metadata": {},
     "output_type": "execute_result"
    },
    {
     "data": {
      "image/png": "[encoded data removed]",
      "text/plain": [
       "<Figure size 640x480 with 2 Axes>"
      ]
     },
     "metadata": {},
     "output_type": "display_data"
    }
   ],
   "source": [
    "sns.heatmap(rows, xticklabels=conditions_inv, yticklabels=conditions_inv, annot=True)\n"
   ]
  },
  {
   "cell_type": "code",
   "execution_count": null,
   "metadata": {},
   "outputs": [
    {
     "data": {
      "image/png": "[encoded data removed]",
      "text/plain": [
       "<Figure size 640x480 with 1 Axes>"
      ]
     },
     "metadata": {},
     "output_type": "display_data"
    }
   ],
   "source": [
    "common_ = [(part, pos, charge) for (part, pos, charge) in combinations if charge == 1 and (part, pos, 0) in combinations]\n",
    "\n",
    "diff = []\n",
    "for part, pos, charge in common_:\n",
    "    samples = a[:, charge, pos, part, 0] - a[:, 0, pos, part, 0]\n",
    "    diff.append(samples.tolist())\n",
    "\n",
    "diff = np.array(diff)\n",
    "\n",
    "sns.kdeplot(diff.mean(axis=0))\n",
    "plt.xlabel(f\"(Th of {charge_dict[1]}) - (Th of {charge_dict[0]})\")\n",
    "\n",
    "diff = []\n",
    "for part, pos, charge in common_:\n",
    "    samples = a_map[charge, pos, part, 0] - a_map[0, pos, part, 0]\n",
    "    diff.append(samples)\n",
    "\n",
    "pvalue = stats.ttest_1samp(a=diff, popmean=0, alternative=\"less\").pvalue\n",
    "\n",
    "plt.title(f\"Paired t-test p-value: {pvalue:.02}\");"
   ]
  },
  {
   "cell_type": "code",
   "execution_count": null,
   "metadata": {},
   "outputs": [],
   "source": []
  }
 ],
 "metadata": {
  "kernelspec": {
   "display_name": ".venv",
   "language": "python",
   "name": "python3"
  },
  "language_info": {
   "codemirror_mode": {
    "name": "ipython",
    "version": 3
   },
   "file_extension": ".py",
   "mimetype": "text/x-python",
   "name": "python",
   "nbconvert_exporter": "python",
   "pygments_lexer": "ipython3",
   "version": "3.11.4"
  },
  "orig_nbformat": 4,
  "vscode": {
   "interpreter": {
    "hash": "850bfd4e6f5ddd996dd5cd5088beecd08558625e274540230e1444ec52025b11"
   }
  }
 },
 "nbformat": 4,
 "nbformat_minor": 2
}
