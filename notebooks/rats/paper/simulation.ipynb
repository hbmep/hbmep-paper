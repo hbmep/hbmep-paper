{
 "cells": [
  {
   "cell_type": "code",
   "execution_count": 1,
   "metadata": {},
   "outputs": [],
   "source": [
    "%reload_ext autoreload\n",
    "%autoreload 2\n",
    "\n",
    "import os\n",
    "from pathlib import Path\n",
    "import multiprocessing\n",
    "\n",
    "import jax\n",
    "import pandas as pd\n",
    "import numpy as np\n",
    "import numpyro\n",
    "\n",
    "from hbmep.config import Config\n",
    "from hbmep.model import Model\n",
    "\n",
    "PLATFORM = \"cpu\"\n",
    "jax.config.update(\"jax_platforms\", PLATFORM)\n",
    "numpyro.set_platform(PLATFORM)\n",
    "\n",
    "cpu_count = multiprocessing.cpu_count() - 2\n",
    "numpyro.set_host_device_count(cpu_count)\n",
    "numpyro.enable_x64()\n"
   ]
  },
  {
   "attachments": {},
   "cell_type": "markdown",
   "metadata": {},
   "source": [
    "#### Load config"
   ]
  },
  {
   "cell_type": "code",
   "execution_count": 2,
   "metadata": {},
   "outputs": [],
   "source": [
    "root_path = Path(os.getcwd()).parent.parent.parent.absolute()\n",
    "toml_path = os.path.join(root_path, \"configs/simulation.toml\")\n"
   ]
  },
  {
   "cell_type": "code",
   "execution_count": 3,
   "metadata": {},
   "outputs": [
    {
     "name": "stderr",
     "output_type": "stream",
     "text": [
      "2023-07-18 15:29:31,830 - hbmep.config - INFO - Verifying configuration ...\n",
      "2023-07-18 15:29:31,830 - hbmep.config - INFO - Success!\n"
     ]
    }
   ],
   "source": [
    "# Initialize and validate configuration\n",
    "config = Config(toml_path=toml_path)\n"
   ]
  },
  {
   "cell_type": "code",
   "execution_count": 4,
   "metadata": {},
   "outputs": [
    {
     "name": "stderr",
     "output_type": "stream",
     "text": [
      "2023-07-18 15:29:31,933 - hbmep.model.core - INFO - Initialized rectified_logistic model\n"
     ]
    }
   ],
   "source": [
    "# Initialize model\n",
    "model = Model(config=config)"
   ]
  },
  {
   "cell_type": "code",
   "execution_count": 5,
   "metadata": {},
   "outputs": [
    {
     "name": "stderr",
     "output_type": "stream",
     "text": [
      "2023-07-18 15:29:32,287 - hbmep.model.baseline - INFO - Simulating data ...\n",
      "2023-07-18 15:29:45,841 - hbmep.utils.utils - INFO - func:simulate took: 13.82 sec\n",
      "2023-07-18 15:29:45,842 - hbmep.dataset.core - INFO - Artefacts will be stored here - /home/vishu/repos/hbmep-paper/reports/simulation/\n",
      "2023-07-18 15:29:45,842 - hbmep.dataset.core - INFO - Copied config to /home/vishu/repos/hbmep-paper/reports/simulation/\n",
      "2023-07-18 15:29:45,843 - hbmep.dataset.core - INFO - Processing data ...\n",
      "2023-07-18 15:29:45,844 - hbmep.utils.utils - INFO - func:load took: 0.00 sec\n"
     ]
    }
   ],
   "source": [
    "# Load data\n",
    "df, encoder_dict = model.load()"
   ]
  },
  {
   "cell_type": "code",
   "execution_count": 6,
   "metadata": {},
   "outputs": [
    {
     "name": "stderr",
     "output_type": "stream",
     "text": [
      "2023-07-18 15:29:45,950 - hbmep.dataset.core - INFO - Plotting dataset ...\n"
     ]
    },
    {
     "name": "stderr",
     "output_type": "stream",
     "text": [
      "2023-07-18 15:29:47,317 - hbmep.dataset.core - INFO - Saved to /home/vishu/repos/hbmep-paper/reports/simulation/dataset.pdf\n",
      "2023-07-18 15:29:47,318 - hbmep.utils.utils - INFO - func:plot took: 1.37 sec\n"
     ]
    }
   ],
   "source": [
    "# Plot dataset\n",
    "model.plot(df=df, encoder_dict=encoder_dict)"
   ]
  },
  {
   "cell_type": "code",
   "execution_count": 7,
   "metadata": {},
   "outputs": [
    {
     "name": "stderr",
     "output_type": "stream",
     "text": [
      "2023-07-18 15:29:47,419 - hbmep.model.baseline - INFO - Running inference with rectified_logistic ...\n"
     ]
    },
    {
     "data": {
      "application/vnd.jupyter.widget-view+json": {
       "model_id": "bb99762071254bcbbdc8c893c03e3930",
       "version_major": 2,
       "version_minor": 0
      },
      "text/plain": [
       "  0%|          | 0/10000 [00:00<?, ?it/s]"
      ]
     },
     "metadata": {},
     "output_type": "display_data"
    },
    {
     "data": {
      "application/vnd.jupyter.widget-view+json": {
       "model_id": "5583e960cc7244ecb34d04a60d18421b",
       "version_major": 2,
       "version_minor": 0
      },
      "text/plain": [
       "  0%|          | 0/10000 [00:00<?, ?it/s]"
      ]
     },
     "metadata": {},
     "output_type": "display_data"
    },
    {
     "data": {
      "application/vnd.jupyter.widget-view+json": {
       "model_id": "0d49133718f74d4e982db5b4ac64c37b",
       "version_major": 2,
       "version_minor": 0
      },
      "text/plain": [
       "  0%|          | 0/10000 [00:00<?, ?it/s]"
      ]
     },
     "metadata": {},
     "output_type": "display_data"
    },
    {
     "data": {
      "application/vnd.jupyter.widget-view+json": {
       "model_id": "1d2d189b20844277960fae00fd1df556",
       "version_major": 2,
       "version_minor": 0
      },
      "text/plain": [
       "  0%|          | 0/10000 [00:00<?, ?it/s]"
      ]
     },
     "metadata": {},
     "output_type": "display_data"
    },
    {
     "name": "stderr",
     "output_type": "stream",
     "text": [
      "2023-07-18 15:36:36,055 - hbmep.utils.utils - INFO - func:run_inference took: 6 min and 48.64 sec\n"
     ]
    }
   ],
   "source": [
    "# Run inference\n",
    "mcmc, posterior_samples = model.run_inference(df=df)\n"
   ]
  },
  {
   "cell_type": "code",
   "execution_count": 8,
   "metadata": {},
   "outputs": [
    {
     "name": "stdout",
     "output_type": "stream",
     "text": [
      "\n",
      "                mean       std    median      2.5%     97.5%     n_eff     r_hat\n",
      "  H[0,0,0]      2.42      0.06      2.42      2.31      2.54  24138.52      1.00\n",
      "  H[0,0,1]      4.32      3.29      3.26      1.14     10.76  12132.31      1.00\n",
      "  H[0,1,0]      1.69      2.39      0.82      0.09      6.27  10667.17      1.00\n",
      "  H[0,1,1]      0.21      0.01      0.21      0.20      0.23  21684.74      1.00\n",
      "  H[0,2,0]      3.84      4.59      2.31      0.00     13.06   7469.68      1.00\n",
      "  H[0,2,1]      0.28      0.05      0.27      0.21      0.36   2511.59      1.00\n",
      "  H[1,0,0]      0.24      0.02      0.24      0.20      0.27  20985.70      1.00\n",
      "  H[1,0,1]      1.00      0.05      1.00      0.90      1.10  25325.17      1.00\n",
      "  H[1,1,0]      0.64      0.04      0.64      0.56      0.72  11895.24      1.00\n",
      "  H[1,1,1]      3.31      0.13      3.31      3.07      3.57  22373.82      1.00\n",
      "  H[1,2,0]      7.30      4.56      5.99      1.93     16.28  12416.72      1.00\n",
      "  H[1,2,1]      2.04      2.53      1.11      0.21      6.97  12598.60      1.00\n",
      "  L[0,0,0]      0.03      0.00      0.03      0.02      0.04  20122.47      1.00\n",
      "  L[0,0,1]      0.05      0.01      0.05      0.03      0.06  22020.25      1.00\n",
      "  L[0,1,0]      0.01      0.00      0.01      0.00      0.02   1584.83      1.00\n",
      "  L[0,1,1]      0.02      0.00      0.02      0.01      0.02  26064.53      1.00\n",
      "  L[0,2,0]      0.01      0.00      0.01      0.01      0.01  16890.39      1.00\n",
      "  L[0,2,1]      0.01      0.00      0.01      0.00      0.02   9104.79      1.00\n",
      "  L[1,0,0]      0.01      0.00      0.01      0.00      0.01  16360.62      1.00\n",
      "  L[1,0,1]      0.00      0.00      0.00      0.00      0.01  13461.07      1.00\n",
      "  L[1,1,0]      0.01      0.00      0.01      0.00      0.01  16653.39      1.00\n",
      "  L[1,1,1]      0.03      0.01      0.03      0.02      0.04  18890.56      1.00\n",
      "  L[1,2,0]      0.07      0.01      0.07      0.06      0.08  21629.31      1.00\n",
      "  L[1,2,1]      0.00      0.00      0.00      0.00      0.00  14665.28      1.00\n",
      "  a[0,0,0]    163.58      1.09    163.60    161.53    165.99  12878.78      1.00\n",
      "  a[0,0,1]    170.61      5.19    170.26    159.48    180.74  16464.79      1.00\n",
      "  a[0,1,0]    159.33     24.15    160.30    111.94    210.65   1204.12      1.00\n",
      "  a[0,1,1]    168.59      0.91    168.47    166.93    170.49  20113.73      1.00\n",
      "  a[0,2,0]    165.03     29.95    168.69    101.30    214.35   7167.74      1.00\n",
      "  a[0,2,1]    129.00      4.22    128.83    121.00    138.09   3745.05      1.00\n",
      "  a[1,0,0]    120.84      4.51    119.55    114.32    130.53   5749.59      1.00\n",
      "  a[1,0,1]    168.74      1.49    168.69    166.24    171.61  12572.72      1.00\n",
      "  a[1,1,0]    105.32      1.41    105.10    102.97    108.28  16010.43      1.00\n",
      "  a[1,1,1]    149.07      1.83    149.51    145.76    151.78   8069.44      1.00\n",
      "  a[1,2,0]    206.02      3.59    205.63    199.62    213.54  17769.55      1.00\n",
      "  a[1,2,1]     95.88      5.24     94.76     87.12    107.25  11152.56      1.00\n",
      "  b[0,0,0]      0.14      0.05      0.12      0.07      0.24   8444.09      1.00\n",
      "  b[0,0,1]      0.03      0.02      0.03      0.00      0.08  11182.99      1.00\n",
      "  b[0,1,0]      0.01      0.02      0.01      0.00      0.04   3623.11      1.00\n",
      "  b[0,1,1]      0.06      0.01      0.06      0.04      0.08  11458.24      1.00\n",
      "  b[0,2,0]      0.01      0.02      0.00      0.00      0.02   5561.00      1.00\n",
      "  b[0,2,1]      0.05      0.03      0.04      0.01      0.10  10398.75      1.00\n",
      "  b[1,0,0]      0.09      0.06      0.08      0.02      0.21   7795.84      1.00\n",
      "  b[1,0,1]      0.08      0.04      0.07      0.04      0.16  10276.28      1.00\n",
      "  b[1,1,0]      0.03      0.01      0.02      0.01      0.05   8131.57      1.00\n",
      "  b[1,1,1]      0.19      0.08      0.17      0.08      0.35  11099.88      1.00\n",
      "  b[1,2,0]      0.05      0.03      0.04      0.00      0.11   9908.34      1.00\n",
      "  b[1,2,1]      0.01      0.01      0.01      0.00      0.02  13993.34      1.00\n",
      "g_1[0,0,0]     16.95      4.66     17.05      7.46     26.99   9621.37      1.00\n",
      "g_1[0,0,1]     10.74      2.61     10.88      5.69     16.21   6313.90      1.00\n",
      "g_1[0,1,0]     19.79      7.09     19.82      3.86     33.70   7296.61      1.00\n",
      "g_1[0,1,1]    174.95     52.79    182.94     23.01    258.82   4430.41      1.00\n",
      "g_1[0,2,0]     92.09     72.51     80.98      0.00    208.02   9459.33      1.00\n",
      "g_1[0,2,1]      6.20      2.12      6.37      1.33     10.08   8984.88      1.00\n",
      "g_1[1,0,0]     13.78      4.92     14.42      2.44     22.40   7511.35      1.00\n",
      "g_1[1,0,1]     10.98      3.43     11.22      3.16     17.75   6894.03      1.00\n",
      "g_1[1,1,0]     27.87      9.41     29.10      5.76     44.41   8068.69      1.00\n",
      "g_1[1,1,1]      4.37      1.23      4.44      1.68      6.96   6349.02      1.00\n",
      "g_1[1,2,0]     20.96      6.07     21.38      7.72     32.42   9393.97      1.00\n",
      "g_1[1,2,1]     12.41      4.63     12.98      2.02     20.51  10490.54      1.00\n",
      "g_2[0,0,0]     52.37     85.36     43.48      4.77    105.00   7821.85      1.00\n",
      "g_2[0,0,1]     21.63    219.19      6.79      0.00     60.45  16430.81      1.00\n",
      "g_2[0,1,0]    100.02    367.89     30.56      0.01    379.86   4151.68      1.00\n",
      "g_2[0,1,1]     35.68    171.39     15.00      0.00    157.25  11204.83      1.00\n",
      "g_2[0,2,0]    122.82    121.50    116.97      0.00    288.30  12536.00      1.00\n",
      "g_2[0,2,1]     31.51     51.95     24.25      0.00     68.54   7054.09      1.00\n",
      "g_2[1,0,0]     12.82     55.25      9.24      0.00     29.83  11028.82      1.00\n",
      "g_2[1,0,1]     12.30    144.48      8.25      0.00     28.10  18934.23      1.00\n",
      "g_2[1,1,0]     20.42     19.25     16.30      0.00     51.81  12276.79      1.00\n",
      "g_2[1,1,1]     46.16     39.73     39.24     13.98     87.33   5490.35      1.00\n",
      "g_2[1,2,0]     37.12   1240.16     16.34      0.01     64.06  17464.59      1.00\n",
      "g_2[1,2,1]     14.17     24.15     10.36      0.00     34.69   7167.76      1.00\n",
      "  p[0,0,0]     14.04    222.01      8.25      0.41     37.44  16609.39      1.00\n",
      "  p[0,0,1]    125.45   1033.82     22.75      0.00    347.34  18486.76      1.00\n",
      "  p[0,1,0]     79.59    822.33     32.65      0.00    240.40  20802.76      1.00\n",
      "  p[0,1,1]     59.94    629.38      7.15      0.00    168.82  17615.94      1.00\n",
      "  p[0,2,0]     41.27    785.76     10.94      0.00     81.13  13467.32      1.00\n",
      "  p[0,2,1]     47.31   1088.85     19.40      0.04    128.01  11853.20      1.00\n",
      "  p[1,0,0]    181.86  12641.99      8.80      0.00    242.77  22779.16      1.00\n",
      "  p[1,0,1]    444.58  33948.94      8.21      0.00    240.98  10555.02      1.00\n",
      "  p[1,1,0]    224.14  16888.09      6.87      0.00    123.53  10607.16      1.00\n",
      "  p[1,1,1]     11.31     12.12      7.46      0.88     34.45   5681.18      1.00\n",
      "  p[1,2,0]     47.02    734.50      9.39      0.00     91.89  12564.24      1.00\n",
      "  p[1,2,1]    179.47   8059.61      9.62      0.00    205.44   8734.44      1.00\n",
      "  v[0,0,0]      1.55      1.44      1.16      0.01      4.35   7506.68      1.00\n",
      "  v[0,0,1]      6.26      4.57      5.25      0.00     15.06  10894.43      1.00\n",
      "  v[0,1,0]      5.10      5.22      3.50      0.00     15.40  10932.24      1.00\n",
      "  v[0,1,1]      2.35      2.76      1.41      0.00      7.86   9486.94      1.00\n",
      "  v[0,2,0]      7.19      6.00      5.67      0.00     19.02  10556.89      1.00\n",
      "  v[0,2,1]      3.55      3.79      2.29      0.00     11.25  14581.89      1.00\n",
      "  v[1,0,0]      2.74      3.37      1.54      0.00      9.49  14039.80      1.00\n",
      "  v[1,0,1]      2.99      2.78      2.21      0.00      8.47   8666.47      1.00\n",
      "  v[1,1,0]      3.10      3.52      1.95      0.00      9.87   7754.93      1.00\n",
      "  v[1,1,1]      1.44      1.31      1.07      0.01      4.05   9040.27      1.00\n",
      "  v[1,2,0]      5.76      3.94      4.80      0.18     13.52   9769.34      1.00\n",
      "  v[1,2,1]      6.36      5.69      4.87      0.00     17.55  12708.38      1.00\n",
      "  µ_a[0,0]    145.55     12.95    145.41    118.90    170.56  19680.05      1.00\n",
      "  µ_a[0,1]    167.11      8.06    168.30    148.85    182.48   9166.15      1.00\n",
      "  µ_a[1,0]    139.35     16.49    139.06    107.19    171.00   3397.55      1.00\n",
      "  µ_a[1,1]    156.35     10.68    157.03    133.81    177.35  14993.29      1.00\n",
      "  µ_a[2,0]    171.71     18.93    172.28    135.46    206.77   8637.30      1.00\n",
      "  µ_a[2,1]    127.88     14.63    126.53    100.26    157.12  18150.65      1.00\n",
      "  σ_H[0,0]      2.97      1.77      2.48      0.72      6.48  18836.89      1.00\n",
      "  σ_H[0,1]      4.07      2.44      3.49      0.65      8.90  14920.72      1.00\n",
      "  σ_H[1,0]      2.30      2.08      1.57      0.20      6.68  13424.53      1.00\n",
      "  σ_H[1,1]      3.58      1.89      3.10      1.05      7.42  18716.19      1.00\n",
      "  σ_H[2,0]      6.02      2.89      5.56      1.40     11.75  13495.45      1.00\n",
      "  σ_H[2,1]      2.36      2.15      1.62      0.14      6.85  14761.07      1.00\n",
      "  σ_L[0,0]      0.03      0.02      0.03      0.01      0.07  17789.66      1.00\n",
      "  σ_L[0,1]      0.04      0.02      0.04      0.01      0.08  21605.40      1.00\n",
      "  σ_L[1,0]      0.02      0.02      0.01      0.00      0.05  12594.74      1.00\n",
      "  σ_L[1,1]      0.04      0.02      0.03      0.01      0.07  19844.08      1.00\n",
      "  σ_L[2,0]      0.05      0.02      0.05      0.02      0.10  21822.23      1.00\n",
      "  σ_L[2,1]      0.02      0.01      0.01      0.00      0.05  16329.25      1.00\n",
      "  σ_a[0,0]     24.82      9.09     23.18     10.00     43.55  17801.08      1.00\n",
      "  σ_a[0,1]      9.55      8.91      6.78      0.11     27.52   7205.52      1.00\n",
      "  σ_a[1,0]     27.82     10.92     26.91      6.03     49.01   3922.34      1.00\n",
      "  σ_a[1,1]     17.50      8.65     15.58      4.99     34.90  16898.45      1.00\n",
      "  σ_a[2,0]     26.19     11.96     25.46      1.89     48.44   7991.99      1.00\n",
      "  σ_a[2,1]     24.74     10.13     23.19      7.75     44.88  16358.90      1.00\n",
      "  σ_b[0,0]      0.12      0.05      0.11      0.04      0.22  14862.50      1.00\n",
      "  σ_b[0,1]      0.09      0.04      0.08      0.02      0.17  15967.78      1.00\n",
      "  σ_b[1,0]      0.04      0.03      0.03      0.01      0.11  11354.24      1.00\n",
      "  σ_b[1,1]      0.13      0.05      0.13      0.05      0.23  16073.29      1.00\n",
      "  σ_b[2,0]      0.06      0.04      0.04      0.00      0.14  13949.75      1.00\n",
      "  σ_b[2,1]      0.06      0.04      0.05      0.01      0.14  16815.57      1.00\n",
      "  σ_v[0,0]      3.26      2.56      2.64      0.02      8.35  12378.80      1.00\n",
      "  σ_v[0,1]      5.32      2.87      4.91      0.38     10.79  12081.55      1.00\n",
      "  σ_v[1,0]      4.71      3.17      4.20      0.01     10.69   9757.24      1.00\n",
      "  σ_v[1,1]      3.06      2.41      2.48      0.02      7.81  11716.83      1.00\n",
      "  σ_v[2,0]      6.32      3.06      5.97      1.06     12.32  12436.78      1.00\n",
      "  σ_v[2,1]      5.37      3.24      4.94      0.00     11.37  11952.79      1.00\n",
      "\n",
      "Number of divergences: 2628\n"
     ]
    }
   ],
   "source": [
    "mcmc.print_summary(prob=.95)\n"
   ]
  },
  {
   "cell_type": "code",
   "execution_count": 9,
   "metadata": {},
   "outputs": [
    {
     "name": "stderr",
     "output_type": "stream",
     "text": [
      "2023-07-18 15:36:36,541 - hbmep.model.baseline - INFO - Rendering recruitment curves ...\n",
      "2023-07-18 15:36:53,388 - hbmep.model.baseline - INFO - Saved to /home/vishu/repos/hbmep-paper/reports/simulation/recruitment_curves.pdf\n",
      "2023-07-18 15:36:53,389 - hbmep.utils.utils - INFO - func:render_recruitment_curves took: 16.85 sec\n"
     ]
    }
   ],
   "source": [
    "# Recruitment curves\n",
    "model.render_recruitment_curves(df=df, encoder_dict=encoder_dict, posterior_samples=posterior_samples)\n"
   ]
  },
  {
   "cell_type": "code",
   "execution_count": 10,
   "metadata": {},
   "outputs": [
    {
     "name": "stderr",
     "output_type": "stream",
     "text": [
      "2023-07-18 15:36:53,425 - hbmep.model.baseline - INFO - Rendering Posterior Predictive Check ...\n"
     ]
    },
    {
     "name": "stderr",
     "output_type": "stream",
     "text": [
      "2023-07-18 15:37:13,407 - hbmep.model.baseline - INFO - Saved to /home/vishu/repos/hbmep-paper/reports/simulation/posterior_predictive_check.pdf\n",
      "2023-07-18 15:37:13,410 - hbmep.utils.utils - INFO - func:render_predictive_check took: 19.99 sec\n"
     ]
    }
   ],
   "source": [
    "# Posterior Predictive Check\n",
    "model.render_predictive_check(df=df, encoder_dict=encoder_dict, posterior_samples=posterior_samples)\n"
   ]
  },
  {
   "cell_type": "code",
   "execution_count": null,
   "metadata": {},
   "outputs": [],
   "source": []
  }
 ],
 "metadata": {
  "kernelspec": {
   "display_name": ".venv",
   "language": "python",
   "name": "python3"
  },
  "language_info": {
   "codemirror_mode": {
    "name": "ipython",
    "version": 3
   },
   "file_extension": ".py",
   "mimetype": "text/x-python",
   "name": "python",
   "nbconvert_exporter": "python",
   "pygments_lexer": "ipython3",
   "version": "3.11.4"
  },
  "orig_nbformat": 4,
  "vscode": {
   "interpreter": {
    "hash": "850bfd4e6f5ddd996dd5cd5088beecd08558625e274540230e1444ec52025b11"
   }
  }
 },
 "nbformat": 4,
 "nbformat_minor": 2
}
