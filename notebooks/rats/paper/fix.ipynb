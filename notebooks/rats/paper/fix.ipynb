{
 "cells": [
  {
   "cell_type": "code",
   "execution_count": 1,
   "metadata": {},
   "outputs": [],
   "source": [
    "%reload_ext autoreload\n",
    "%autoreload 2\n",
    "\n",
    "import os\n",
    "from pathlib import Path\n",
    "import multiprocessing\n",
    "\n",
    "import jax\n",
    "import jax.numpy as jnp\n",
    "import pandas as pd\n",
    "import numpy as np\n",
    "import numpyro\n",
    "import numpyro.distributions as dist\n",
    "\n",
    "from hbmep.config import Config\n",
    "from hbmep.model import Baseline\n",
    "from hbmep.model.utils import Site as site\n",
    "from hbmep.utils.constants import RECTIFIED_LOGISTIC\n",
    "\n",
    "PLATFORM = \"cpu\"\n",
    "jax.config.update(\"jax_platforms\", PLATFORM)\n",
    "numpyro.set_platform(PLATFORM)\n",
    "\n",
    "cpu_count = multiprocessing.cpu_count() - 2\n",
    "numpyro.set_host_device_count(cpu_count)\n",
    "numpyro.enable_x64()\n"
   ]
  },
  {
   "attachments": {},
   "cell_type": "markdown",
   "metadata": {},
   "source": [
    "#### Load config"
   ]
  },
  {
   "cell_type": "code",
   "execution_count": 2,
   "metadata": {},
   "outputs": [
    {
     "name": "stderr",
     "output_type": "stream",
     "text": [
      "2023-07-19 11:49:03,847 - hbmep.config - INFO - Verifying configuration ...\n",
      "2023-07-19 11:49:03,847 - hbmep.config - INFO - Success!\n"
     ]
    }
   ],
   "source": [
    "root_path = Path(os.getcwd()).parent.parent.parent.absolute()\n",
    "toml_path = os.path.join(root_path, \"configs/J_RCML_000.toml\")\n",
    "\n",
    "config = Config(toml_path=toml_path)\n",
    "\n",
    "config.BUILD_DIR = \"/home/vishu/repos/hbmep-paper/reports/J_RCML_000/fix/inv\"\n"
   ]
  },
  {
   "cell_type": "code",
   "execution_count": 3,
   "metadata": {},
   "outputs": [],
   "source": [
    "class RectifiedLogistic(Baseline):\n",
    "    def __init__(self, config: Config):\n",
    "        super(RectifiedLogistic, self).__init__(config=config)\n",
    "        self.link = RECTIFIED_LOGISTIC\n",
    "\n",
    "    def _model(self, subject, features, intensity, response_obs=None):\n",
    "        intensity = intensity.reshape(-1, 1)\n",
    "        intensity = np.tile(intensity, (1, self.n_response))\n",
    "\n",
    "        feature0 = features[0].reshape(-1,)\n",
    "\n",
    "        n_data = intensity.shape[0]\n",
    "        n_subject = np.unique(subject).shape[0]\n",
    "        n_feature0 = np.unique(feature0).shape[0]\n",
    "\n",
    "        with numpyro.plate(site.n_response, self.n_response, dim=-1):\n",
    "            with numpyro.plate(site.n_subject, n_subject, dim=-2):\n",
    "                \"\"\" Hyper-priors \"\"\"\n",
    "                mu_a = numpyro.sample(\n",
    "                    site.mu_a,\n",
    "                    dist.TruncatedNormal(150, 50, low=0)\n",
    "                )\n",
    "                sigma_a = numpyro.sample(site.sigma_a, dist.HalfCauchy(5))\n",
    "\n",
    "                # sigma_b = numpyro.sample(site.sigma_b, dist.HalfNormal(0.5))\n",
    "\n",
    "                # sigma_L = numpyro.sample(site.sigma_L, dist.HalfNormal(0.05))\n",
    "                # sigma_H = numpyro.sample(site.sigma_H, dist.HalfNormal(5))\n",
    "                # sigma_v = numpyro.sample(site.sigma_v, dist.HalfNormal(5))\n",
    "\n",
    "                with numpyro.plate(\"n_feature0\", n_feature0, dim=-3):\n",
    "                    \"\"\" Priors \"\"\"\n",
    "                    a = numpyro.sample(\n",
    "                        site.a,\n",
    "                        dist.TruncatedNormal(mu_a, sigma_a, low=0)\n",
    "                    )\n",
    "                    b = numpyro.sample(site.b, dist.HalfCauchy(1))\n",
    "\n",
    "                    L = numpyro.sample(site.L, dist.HalfCauchy(.05))\n",
    "                    H = numpyro.sample(site.H, dist.HalfCauchy(2))\n",
    "                    v = numpyro.sample(site.v, dist.HalfCauchy(5))\n",
    "\n",
    "                    # p = numpyro.sample(site.p, dist.HalfCauchy(10))\n",
    "\n",
    "                    sigma_1 = numpyro.sample(\n",
    "                        \"sigma_1\", dist.HalfCauchy(10)\n",
    "                    )\n",
    "                    sigma_2 = numpyro.sample(\n",
    "                        \"sigma_2\", dist.HalfCauchy(10)\n",
    "                    )\n",
    "\n",
    "                    d_1 = numpyro.sample(\n",
    "                        \"d_1\", dist.HalfCauchy(10)\n",
    "                    )\n",
    "                    d_2 = numpyro.sample(\n",
    "                        \"d_2\", dist.HalfCauchy(10)\n",
    "                    )\n",
    "\n",
    "        \"\"\" Model \"\"\"\n",
    "        mu = numpyro.deterministic(\n",
    "            site.mu,\n",
    "            L[feature0, subject]\n",
    "            + jnp.maximum(\n",
    "                0,\n",
    "                -1\n",
    "                + (H[feature0, subject] + 1)\n",
    "                / jnp.power(\n",
    "                    1\n",
    "                    + (jnp.power(1 + H[feature0, subject], v[feature0, subject]) - 1)\n",
    "                    * jnp.exp(-b[feature0, subject] * (intensity - a[feature0, subject])),\n",
    "                    1 / v[feature0, subject]\n",
    "                )\n",
    "            )\n",
    "        )\n",
    "        sigma = numpyro.deterministic(\n",
    "            \"sigma\",\n",
    "            sigma_1[feature0, subject]\n",
    "            + sigma_2[feature0, subject] * mu\n",
    "        )\n",
    "        d = numpyro.deterministic(\n",
    "            \"d\",\n",
    "            2 + d_1[feature0, subject]\n",
    "            + d_2[feature0, subject] * mu\n",
    "        )\n",
    "\n",
    "        with numpyro.plate(site.data, n_data):\n",
    "            return numpyro.sample(\n",
    "                site.obs,\n",
    "                dist.StudentT(df=d, loc=mu, scale=sigma).to_event(1),\n",
    "                obs=response_obs\n",
    "            )\n",
    "\n",
    "\n",
    "\n",
    "model = RectifiedLogistic(config=config)"
   ]
  },
  {
   "cell_type": "code",
   "execution_count": 4,
   "metadata": {},
   "outputs": [
    {
     "name": "stdout",
     "output_type": "stream",
     "text": [
      "['C5M-C5L' 'C5M-C6L' 'C7L-C8L' '-C5M' 'C7M-C8L' 'C8M-C8L' '-C8M' '-C6L'\n",
      " '-C7M' '-C8L' 'C7M-C8M' 'C5L-C6L' '-C5L' 'C6L-C7L' '-C7L' 'C7M-C7L'\n",
      " 'C6M-C7M' 'C5M-C6M' '-C6M' 'C6M-C7L' 'C6M-C6L']\n"
     ]
    }
   ],
   "source": [
    "df = pd.read_csv(model.csv_path)\n",
    "print(df.compound_position.unique())"
   ]
  },
  {
   "cell_type": "code",
   "execution_count": 5,
   "metadata": {},
   "outputs": [
    {
     "name": "stderr",
     "output_type": "stream",
     "text": [
      "2023-07-19 11:49:04,548 - hbmep.dataset.core - INFO - Artefacts will be stored here - /home/vishu/repos/hbmep-paper/reports/J_RCML_000/fix/inv\n",
      "2023-07-19 11:49:04,548 - hbmep.dataset.core - INFO - Copied config to /home/vishu/repos/hbmep-paper/reports/J_RCML_000/fix/inv\n",
      "2023-07-19 11:49:04,549 - hbmep.dataset.core - INFO - Processing data ...\n",
      "2023-07-19 11:49:04,550 - hbmep.utils.utils - INFO - func:load took: 0.00 sec\n"
     ]
    },
    {
     "data": {
      "text/plain": [
       "(173, 43)"
      ]
     },
     "execution_count": 5,
     "metadata": {},
     "output_type": "execute_result"
    }
   ],
   "source": [
    "\n",
    "\n",
    "\"\"\" Filter \"\"\"\n",
    "# ind = df.compound_position.isin([\"-C5M\"])\n",
    "sub = [\n",
    "    (\"amap01\", \"C5M-C5L\"),\n",
    "    (\"amap01\", \"C5M-C6L\"),\n",
    "    (\"amap01\", \"C7L-C8L\"),\n",
    "    # (\"amap01\", \"-C5M\"),\n",
    "    # (\"amap01\", \"C7M-C8L\"),\n",
    "    # (\"amap01\", \"C8M-C8L\"),\n",
    "    # (\"amap01\", \"-C8M\"),\n",
    "    # (\"amap01\", \"-C6L\"),\n",
    "    # (\"amap01\", \"-C7M\"),\n",
    "    # (\"amap01\", \"-C8L\"),\n",
    "    # (\"amap01\", \"C7M-C8M\"),\n",
    "    # (\"amap01\", \"C5L-C6L\"),\n",
    "]\n",
    "ind = df[model.combination_columns].apply(tuple, axis=1).isin(sub)\n",
    "# ind = df[model.subject].isin([\"amap01\"])\n",
    "\n",
    "df = df[ind].copy()\n",
    "df.reset_index(drop=True, inplace=True)\n",
    "\n",
    "df, encoder_dict = model.load(df=df)\n",
    "\n",
    "df.shape"
   ]
  },
  {
   "cell_type": "code",
   "execution_count": 6,
   "metadata": {},
   "outputs": [
    {
     "name": "stderr",
     "output_type": "stream",
     "text": [
      "2023-07-19 11:49:04,653 - hbmep.model.baseline - INFO - Running inference with rectified_logistic ...\n"
     ]
    },
    {
     "data": {
      "application/vnd.jupyter.widget-view+json": {
       "model_id": "30c27944b5c44e0aa9735e9c4b607db9",
       "version_major": 2,
       "version_minor": 0
      },
      "text/plain": [
       "  0%|          | 0/10000 [00:00<?, ?it/s]"
      ]
     },
     "metadata": {},
     "output_type": "display_data"
    },
    {
     "data": {
      "application/vnd.jupyter.widget-view+json": {
       "model_id": "4185a0cbafab4d658b7906e83b7c873f",
       "version_major": 2,
       "version_minor": 0
      },
      "text/plain": [
       "  0%|          | 0/10000 [00:00<?, ?it/s]"
      ]
     },
     "metadata": {},
     "output_type": "display_data"
    },
    {
     "data": {
      "application/vnd.jupyter.widget-view+json": {
       "model_id": "9e65b3e8dd6f4a9cb4e4dcef281694ed",
       "version_major": 2,
       "version_minor": 0
      },
      "text/plain": [
       "  0%|          | 0/10000 [00:00<?, ?it/s]"
      ]
     },
     "metadata": {},
     "output_type": "display_data"
    },
    {
     "data": {
      "application/vnd.jupyter.widget-view+json": {
       "model_id": "f4df921c4a4141f0a6014bd578b56541",
       "version_major": 2,
       "version_minor": 0
      },
      "text/plain": [
       "  0%|          | 0/10000 [00:00<?, ?it/s]"
      ]
     },
     "metadata": {},
     "output_type": "display_data"
    },
    {
     "name": "stderr",
     "output_type": "stream",
     "text": [
      "2023-07-19 11:52:19,863 - hbmep.utils.utils - INFO - func:run_inference took: 3 min and 15.21 sec\n"
     ]
    }
   ],
   "source": [
    "mcmc, posterior_samples = model.run_inference(df=df)\n"
   ]
  },
  {
   "cell_type": "code",
   "execution_count": 7,
   "metadata": {},
   "outputs": [
    {
     "name": "stdout",
     "output_type": "stream",
     "text": [
      "\n",
      "                    mean       std    median      2.5%     97.5%     n_eff     r_hat\n",
      "      H[0,0,0]      0.77      0.08      0.75      0.63      0.92   4722.19      1.00\n",
      "      H[0,0,1]      1.18     13.81      0.20      0.14      2.18   2194.07      1.00\n",
      "      H[0,0,2]      8.64     58.90      2.57      0.44     26.35   6528.85      1.00\n",
      "      H[1,0,0]      1.30      0.15      1.28      1.05      1.60   5447.55      1.00\n",
      "      H[1,0,1]      1.03      5.95      0.54      0.37      1.54   2167.84      1.00\n",
      "      H[1,0,2]      0.74      0.12      0.72      0.57      0.95   2712.22      1.00\n",
      "      H[2,0,0]      0.72      0.07      0.71      0.60      0.87   4669.32      1.00\n",
      "      H[2,0,1]      7.99     94.68      1.56      0.29     18.12   7409.89      1.00\n",
      "      H[2,0,2]     19.02    643.03      2.09      0.17     26.12   5678.50      1.00\n",
      "      L[0,0,0]      0.04      0.00      0.04      0.03      0.04   9286.99      1.00\n",
      "      L[0,0,1]      0.02      0.00      0.02      0.01      0.02   7513.55      1.00\n",
      "      L[0,0,2]      0.02      0.00      0.02      0.02      0.02   9059.39      1.00\n",
      "      L[1,0,0]      0.04      0.01      0.04      0.03      0.05   7554.18      1.00\n",
      "      L[1,0,1]      0.02      0.00      0.02      0.01      0.02   7896.89      1.00\n",
      "      L[1,0,2]      0.02      0.00      0.02      0.02      0.02   8645.08      1.00\n",
      "      L[2,0,0]      0.04      0.01      0.04      0.03      0.05   6691.04      1.00\n",
      "      L[2,0,1]      0.02      0.00      0.02      0.01      0.02   8070.57      1.00\n",
      "      L[2,0,2]      0.02      0.00      0.02      0.02      0.03   7787.46      1.00\n",
      "      a[0,0,0]    200.75      2.34    200.85    196.14    205.37   8648.74      1.00\n",
      "      a[0,0,1]    204.09      6.04    205.88    188.85    210.63    422.57      1.01\n",
      "      a[0,0,2]    201.02      1.96    201.13    197.24    204.60   7238.47      1.00\n",
      "      a[1,0,0]    122.09      2.71    122.43    116.54    126.79   4090.60      1.00\n",
      "      a[1,0,1]    128.68      1.88    128.76    124.83    132.41   5010.54      1.00\n",
      "      a[1,0,2]    136.36      2.79    136.91    130.27    141.50   2969.41      1.00\n",
      "      a[2,0,0]    177.68      5.32    177.16    169.12    188.32   3863.92      1.00\n",
      "      a[2,0,1]    178.45      3.84    179.05    170.42    185.70   4238.34      1.00\n",
      "      a[2,0,2]    180.52      7.07    180.80    166.71    193.09   6633.76      1.00\n",
      "      b[0,0,0]      0.30      0.40      0.13      0.01      1.16   5481.37      1.00\n",
      "      b[0,0,1]      0.09      0.20      0.03      0.00      0.42   2694.21      1.00\n",
      "      b[0,0,2]      0.23      0.28      0.12      0.00      0.81   3737.26      1.00\n",
      "      b[1,0,0]      0.02      0.04      0.02      0.01      0.03   1848.90      1.00\n",
      "      b[1,0,1]      0.10      0.26      0.02      0.00      0.55   3314.95      1.00\n",
      "      b[1,0,2]      0.04      0.12      0.02      0.01      0.07    951.43      1.01\n",
      "      b[2,0,0]      0.15      0.32      0.05      0.01      0.66   3706.27      1.00\n",
      "      b[2,0,1]      0.18      0.27      0.07      0.00      0.70   4349.12      1.00\n",
      "      b[2,0,2]      0.15      0.21      0.06      0.00      0.57   3524.01      1.00\n",
      "    d_1[0,0,0]     88.10    939.01     17.43      0.05    218.99   4438.06      1.00\n",
      "    d_1[0,0,1]      0.33      0.33      0.23      0.00      0.97  11137.25      1.00\n",
      "    d_1[0,0,2]     11.66     66.44      5.25      0.00     28.67   8851.90      1.00\n",
      "    d_1[1,0,0]     84.32    778.78     14.95      0.00    201.87   4999.84      1.00\n",
      "    d_1[1,0,1]      0.67      0.89      0.42      0.00      2.06   4375.31      1.00\n",
      "    d_1[1,0,2]     87.99   1958.94      9.22      0.00    118.23  10171.26      1.00\n",
      "    d_1[2,0,0]    154.50   7100.15     16.94      0.01    233.24  22819.19      1.00\n",
      "    d_1[2,0,1]      1.62      2.97      0.98      0.00      4.90   9424.09      1.00\n",
      "    d_1[2,0,2]     99.04   1754.16     17.48      0.01    216.35   5592.37      1.00\n",
      "    d_2[0,0,0]     84.68    861.36     10.91      0.00    181.41   5192.08      1.00\n",
      "    d_2[0,0,1]      5.87      6.21      4.05      0.00     17.48  10080.84      1.00\n",
      "    d_2[0,0,2]      8.25     46.23      3.83      0.00     24.11   7523.34      1.00\n",
      "    d_2[1,0,0]    110.54   2048.25     11.31      0.00    169.31   4330.33      1.00\n",
      "    d_2[1,0,1]      1.49      1.68      0.99      0.00      4.51   9147.16      1.00\n",
      "    d_2[1,0,2]     47.82   1223.01     10.10      0.00    103.48  16590.41      1.00\n",
      "    d_2[2,0,0]    115.93   1705.50     11.03      0.00    173.98   5517.46      1.00\n",
      "    d_2[2,0,1]     15.44     25.85      8.59      0.00     50.77   8813.79      1.00\n",
      "    d_2[2,0,2]     77.29    888.17     10.50      0.00    173.99   9108.03      1.00\n",
      "sigma_1[0,0,0]      0.01      0.00      0.01      0.00      0.02   6528.02      1.00\n",
      "sigma_1[0,0,1]      0.00      0.00      0.00      0.00      0.00   8159.23      1.00\n",
      "sigma_1[0,0,2]      0.00      0.00      0.00      0.00      0.00  10805.24      1.00\n",
      "sigma_1[1,0,0]      0.01      0.00      0.01      0.00      0.02   8160.60      1.00\n",
      "sigma_1[1,0,1]      0.00      0.00      0.00      0.00      0.00  10569.14      1.00\n",
      "sigma_1[1,0,2]      0.00      0.00      0.00      0.00      0.00  11634.22      1.00\n",
      "sigma_1[2,0,0]      0.01      0.00      0.01      0.01      0.02   7019.78      1.00\n",
      "sigma_1[2,0,1]      0.00      0.00      0.00      0.00      0.00  10461.28      1.00\n",
      "sigma_1[2,0,2]      0.00      0.00      0.00      0.00      0.00  10246.73      1.00\n",
      "sigma_2[0,0,0]      0.20      0.05      0.19      0.12      0.29   5903.49      1.00\n",
      "sigma_2[0,0,1]      0.14      0.03      0.14      0.09      0.20   2064.53      1.00\n",
      "sigma_2[0,0,2]      0.23      0.03      0.23      0.17      0.29   7166.57      1.00\n",
      "sigma_2[1,0,0]      0.20      0.03      0.20      0.14      0.26   6894.30      1.00\n",
      "sigma_2[1,0,1]      0.15      0.03      0.15      0.10      0.22   4090.69      1.00\n",
      "sigma_2[1,0,2]      0.24      0.03      0.24      0.18      0.31   6966.02      1.00\n",
      "sigma_2[2,0,0]      0.19      0.04      0.18      0.12      0.27   6046.20      1.00\n",
      "sigma_2[2,0,1]      0.16      0.03      0.16      0.11      0.22   8479.41      1.00\n",
      "sigma_2[2,0,2]      0.30      0.04      0.29      0.22      0.38   8820.37      1.00\n",
      "      v[0,0,0]     41.21     56.22     18.32      0.01    163.68   5454.06      1.00\n",
      "      v[0,0,1]     46.49    118.05      8.12      0.00    249.02   2296.73      1.00\n",
      "      v[0,0,2]     66.55     80.06     34.55      0.08    235.96   3746.76      1.00\n",
      "      v[1,0,0]      1.57      6.41      0.95      0.00      4.06   1868.31      1.00\n",
      "      v[1,0,1]     44.41    117.93      6.03      0.00    249.27   3227.39      1.00\n",
      "      v[1,0,2]      6.40     27.30      2.39      0.00     13.46    914.46      1.01\n",
      "      v[2,0,0]     19.35     46.72      4.80      0.00     93.89   3656.33      1.00\n",
      "      v[2,0,1]     83.97    125.48     32.93      0.00    331.99   4293.39      1.00\n",
      "      v[2,0,2]    105.10    152.49     44.16      0.00    410.43   3570.46      1.00\n",
      "      µ_a[0,0]    162.82     23.54    163.98    114.79    209.89   5168.27      1.00\n",
      "      µ_a[0,1]    166.32     22.21    167.38    120.45    211.08   6152.11      1.00\n",
      "      µ_a[0,2]    168.54     20.16    169.66    125.59    207.77   5087.26      1.00\n",
      "      σ_a[0,0]     45.50     32.91     36.85     13.98     98.08   4848.21      1.00\n",
      "      σ_a[0,1]     42.58     28.18     34.78     13.72     93.27   4570.62      1.00\n",
      "      σ_a[0,2]     36.75     25.31     30.09     11.86     77.49   4760.36      1.00\n",
      "\n",
      "Number of divergences: 14204\n"
     ]
    }
   ],
   "source": [
    "mcmc.print_summary(prob=.95)\n"
   ]
  },
  {
   "cell_type": "code",
   "execution_count": 8,
   "metadata": {},
   "outputs": [
    {
     "name": "stderr",
     "output_type": "stream",
     "text": [
      "2023-07-19 11:52:20,173 - hbmep.model.baseline - INFO - Rendering recruitment curves ...\n",
      "2023-07-19 11:52:32,621 - hbmep.model.baseline - INFO - Saved to /home/vishu/repos/hbmep-paper/reports/J_RCML_000/fix/inv/recruitment_curves.pdf\n",
      "2023-07-19 11:52:32,621 - hbmep.utils.utils - INFO - func:render_recruitment_curves took: 12.45 sec\n"
     ]
    }
   ],
   "source": [
    "model.render_recruitment_curves(df=df, encoder_dict=encoder_dict, posterior_samples=posterior_samples)\n"
   ]
  },
  {
   "cell_type": "code",
   "execution_count": 9,
   "metadata": {},
   "outputs": [
    {
     "name": "stderr",
     "output_type": "stream",
     "text": [
      "2023-07-19 11:52:32,668 - hbmep.model.baseline - INFO - Rendering Posterior Predictive Check ...\n"
     ]
    },
    {
     "name": "stderr",
     "output_type": "stream",
     "text": [
      "2023-07-19 11:52:47,319 - hbmep.model.baseline - INFO - Saved to /home/vishu/repos/hbmep-paper/reports/J_RCML_000/fix/inv/posterior_predictive_check.pdf\n",
      "2023-07-19 11:52:47,323 - hbmep.utils.utils - INFO - func:render_predictive_check took: 14.66 sec\n"
     ]
    }
   ],
   "source": [
    "model.render_predictive_check(df=df, encoder_dict=encoder_dict, posterior_samples=posterior_samples)\n"
   ]
  },
  {
   "cell_type": "code",
   "execution_count": null,
   "metadata": {},
   "outputs": [],
   "source": []
  }
 ],
 "metadata": {
  "kernelspec": {
   "display_name": ".venv",
   "language": "python",
   "name": "python3"
  },
  "language_info": {
   "codemirror_mode": {
    "name": "ipython",
    "version": 3
   },
   "file_extension": ".py",
   "mimetype": "text/x-python",
   "name": "python",
   "nbconvert_exporter": "python",
   "pygments_lexer": "ipython3",
   "version": "3.11.4"
  },
  "orig_nbformat": 4,
  "vscode": {
   "interpreter": {
    "hash": "850bfd4e6f5ddd996dd5cd5088beecd08558625e274540230e1444ec52025b11"
   }
  }
 },
 "nbformat": 4,
 "nbformat_minor": 2
}
