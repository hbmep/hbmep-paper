{
 "cells": [
  {
   "cell_type": "code",
   "execution_count": 1,
   "metadata": {},
   "outputs": [],
   "source": [
    "%reload_ext autoreload\n",
    "%autoreload 2\n",
    "\n",
    "import os\n",
    "from pathlib import Path\n",
    "import multiprocessing\n",
    "\n",
    "import jax\n",
    "import numpyro\n",
    "\n",
    "from hbmep.config import Config\n",
    "from hbmep.model import Model\n",
    "from hbmep.model.utils import Site as site\n",
    "\n",
    "from hbmep_paper.model import HierarchicalBayesian, MaximumLikelihood\n",
    "from hbmep_paper.utils import simulate, run_experiment\n",
    "\n",
    "PLATFORM = \"cpu\"\n",
    "jax.config.update(\"jax_platforms\", PLATFORM)\n",
    "numpyro.set_platform(PLATFORM)\n",
    "\n",
    "cpu_count = multiprocessing.cpu_count() - 2\n",
    "numpyro.set_host_device_count(cpu_count)\n",
    "numpyro.enable_x64()\n"
   ]
  },
  {
   "cell_type": "code",
   "execution_count": 2,
   "metadata": {},
   "outputs": [
    {
     "name": "stderr",
     "output_type": "stream",
     "text": [
      "2023-08-02 09:34:37,163 - hbmep.config - INFO - Verifying configuration ...\n",
      "2023-08-02 09:34:37,164 - hbmep.config - INFO - Success!\n"
     ]
    }
   ],
   "source": [
    "root_path = Path(os.getcwd()).parent.parent.parent.absolute()\n",
    "toml_path = os.path.join(root_path, \"configs/experiments.toml\")\n",
    "\n",
    "config = Config(toml_path=toml_path)\n",
    "config.BUILD_DIR = \"/home/vishu/repos/hbmep-paper/reports/mle/\""
   ]
  },
  {
   "cell_type": "code",
   "execution_count": 3,
   "metadata": {},
   "outputs": [
    {
     "name": "stderr",
     "output_type": "stream",
     "text": [
      "2023-08-02 09:34:40,566 - hbmep.model.baseline - INFO - Initialized model with hierarchical_bayesian link\n",
      "2023-08-02 09:34:40,566 - hbmep_paper.utils.utils - INFO - Simulating data ...\n"
     ]
    },
    {
     "name": "stderr",
     "output_type": "stream",
     "text": [
      "2023-08-02 09:34:42,698 - hbmep.utils.utils - INFO - func:predict took: 2.13 sec\n",
      "2023-08-02 09:34:42,698 - hbmep.utils.utils - INFO - func:simulate took: 2.13 sec\n"
     ]
    }
   ],
   "source": [
    "simulator = HierarchicalBayesian(config=config)\n",
    "\n",
    "simulation_params = {\n",
    "    \"n_subject\": 2,\n",
    "    \"n_feature0\": 3,\n",
    "    \"n_repeats\": 2\n",
    "}\n",
    "df, posterior_samples_true = simulate(model=simulator, **simulation_params)"
   ]
  },
  {
   "cell_type": "code",
   "execution_count": 4,
   "metadata": {},
   "outputs": [
    {
     "name": "stderr",
     "output_type": "stream",
     "text": [
      "2023-08-02 09:34:49,955 - hbmep.model.baseline - INFO - Initialized model with maximum_likelihood link\n",
      "2023-08-02 09:34:49,955 - hbmep.dataset.core - INFO - Artefacts will be stored here - /home/vishu/repos/hbmep-paper/reports/mle/\n",
      "2023-08-02 09:34:49,955 - hbmep.dataset.core - INFO - Copied config to /home/vishu/repos/hbmep-paper/reports/mle/\n",
      "2023-08-02 09:34:49,955 - hbmep.dataset.core - INFO - Processing data ...\n",
      "2023-08-02 09:34:49,956 - hbmep.utils.utils - INFO - func:load took: 0.00 sec\n"
     ]
    }
   ],
   "source": [
    "model = MaximumLikelihood(config=config)\n",
    "\n",
    "df, encoder_dict = model.load(df=df)\n",
    "\n",
    "df[model.response] = posterior_samples_true[site.obs][0, ...]"
   ]
  },
  {
   "cell_type": "code",
   "execution_count": 5,
   "metadata": {},
   "outputs": [
    {
     "name": "stderr",
     "output_type": "stream",
     "text": [
      "2023-08-02 09:34:52,297 - hbmep.dataset.core - INFO - Plotting dataset ...\n",
      "2023-08-02 09:34:53,351 - hbmep.dataset.core - INFO - Saved to /home/vishu/repos/hbmep-paper/reports/mle/dataset.pdf\n",
      "2023-08-02 09:34:53,351 - hbmep.utils.utils - INFO - func:plot took: 1.06 sec\n"
     ]
    }
   ],
   "source": [
    "model.plot(df=df, encoder_dict=encoder_dict)"
   ]
  },
  {
   "cell_type": "code",
   "execution_count": 6,
   "metadata": {},
   "outputs": [
    {
     "name": "stderr",
     "output_type": "stream",
     "text": [
      "2023-08-02 09:35:22,065 - hbmep_paper.model.mle - INFO - Running inference with maximum_likelihood ...\n"
     ]
    },
    {
     "data": {
      "application/vnd.jupyter.widget-view+json": {
       "model_id": "d5aedee71e1a4a5299533cc34be72798",
       "version_major": 2,
       "version_minor": 0
      },
      "text/plain": [
       "  0%|          | 0/10000 [00:00<?, ?it/s]"
      ]
     },
     "metadata": {},
     "output_type": "display_data"
    },
    {
     "data": {
      "application/vnd.jupyter.widget-view+json": {
       "model_id": "ad5b351f736b45c9a58f55f68105303f",
       "version_major": 2,
       "version_minor": 0
      },
      "text/plain": [
       "  0%|          | 0/10000 [00:00<?, ?it/s]"
      ]
     },
     "metadata": {},
     "output_type": "display_data"
    },
    {
     "data": {
      "application/vnd.jupyter.widget-view+json": {
       "model_id": "b6163f71771b4a378694401ccfb919d7",
       "version_major": 2,
       "version_minor": 0
      },
      "text/plain": [
       "  0%|          | 0/10000 [00:00<?, ?it/s]"
      ]
     },
     "metadata": {},
     "output_type": "display_data"
    },
    {
     "data": {
      "application/vnd.jupyter.widget-view+json": {
       "model_id": "2f848e4f9a7f4b0cb75cf29553c70fe9",
       "version_major": 2,
       "version_minor": 0
      },
      "text/plain": [
       "  0%|          | 0/10000 [00:00<?, ?it/s]"
      ]
     },
     "metadata": {},
     "output_type": "display_data"
    },
    {
     "name": "stderr",
     "output_type": "stream",
     "text": [
      "2023-08-02 09:45:59,428 - hbmep.utils.utils - INFO - func:run_inference took: 10 min and 37.36 sec\n"
     ]
    }
   ],
   "source": [
    "mcmc, posterior_samples = model.run_inference(df=df)"
   ]
  },
  {
   "cell_type": "code",
   "execution_count": 13,
   "metadata": {},
   "outputs": [
    {
     "name": "stdout",
     "output_type": "stream",
     "text": [
      "\n",
      "                mean       std    median      2.5%     97.5%     n_eff     r_hat\n",
      "  H[0,0,0]    112.72     79.32     97.83      4.30    241.61      4.83      1.39\n",
      "  H[0,1,0]      1.40      0.37      1.21      1.10      2.25      6.18      1.48\n",
      "  H[1,0,0]     57.84     49.20     41.17      0.30    156.82     75.57      1.07\n",
      "  H[1,1,0]     58.65     61.10     42.98      0.01    177.44      5.23      1.31\n",
      "  H[2,0,0]      5.28      1.17      4.73      3.95      7.59      2.68      2.04\n",
      "  H[2,1,0]     45.11     45.23     32.64      0.15    137.81     16.48      1.11\n",
      "  L[0,0,0]      0.01      0.00      0.01      0.01      0.01      7.12      1.25\n",
      "  L[0,1,0]      0.01      0.00      0.01      0.01      0.01     21.07      1.13\n",
      "  L[1,0,0]      0.07      0.00      0.07      0.06      0.07     30.08      1.11\n",
      "  L[1,1,0]      0.01      0.00      0.01      0.01      0.01     27.69      1.12\n",
      "  L[2,0,0]      0.00      0.00      0.00      0.00      0.00    190.83      1.02\n",
      "  L[2,1,0]      0.00      0.00      0.00      0.00      0.00     35.56      1.10\n",
      "  a[0,0,0]     93.31      0.21     93.31     92.86     93.74    505.32      1.01\n",
      "  a[0,1,0]    232.46      0.52    232.35    231.75    233.43      4.38      1.60\n",
      "  a[1,0,0]     64.25      2.87     64.02     58.00     70.51     41.57      1.14\n",
      "  a[1,1,0]    261.29     58.13    274.75    140.16    278.35     13.32      1.30\n",
      "  a[2,0,0]    108.62      0.50    108.42    107.98    109.62      4.45      1.37\n",
      "  a[2,1,0]    229.08      0.63    229.12    228.07    230.46     13.20      1.40\n",
      "  b[0,0,0]      0.50      0.38      0.56      0.00      1.15      3.68      1.55\n",
      "  b[0,1,0]      0.56      0.58      0.47      0.01      1.78      8.21      1.72\n",
      "  b[1,0,0]      0.08      0.06      0.07      0.01      0.18      4.15      1.46\n",
      "  b[1,1,0]      4.15     20.39      0.36      0.01      4.69     20.39      1.16\n",
      "  b[2,0,0]      0.57      0.76      0.13      0.01      2.26      2.58      2.36\n",
      "  b[2,1,0]      0.15      0.07      0.14      0.02      0.28    147.71      1.02\n",
      "g_1[0,0,0]     49.99     26.77     49.82      0.24     96.25    170.97      1.04\n",
      "g_1[0,1,0]     38.59     40.18     21.30      0.03    122.41     10.84      1.19\n",
      "g_1[1,0,0]     99.65    102.26     67.53      0.19    315.37     10.21      1.17\n",
      "g_1[1,1,0]     53.30     62.92     27.39      0.20    182.10     10.05      1.20\n",
      "g_1[2,0,0]     16.45     13.09     13.34      1.09     37.98      2.37      2.53\n",
      "g_1[2,1,0]    139.97    120.17     96.81      0.22    402.67     52.11      1.05\n",
      "g_2[0,0,0]    201.20     40.61    193.01    122.95    287.38    455.22      1.01\n",
      "g_2[0,1,0]    134.80     19.35    131.97     96.14    175.18     90.12      1.06\n",
      "g_2[1,0,0]    111.22     22.47    110.35     66.14    158.11     32.00      1.08\n",
      "g_2[1,1,0]     62.98     18.14     65.89      0.02     84.38     12.14      1.38\n",
      "g_2[2,0,0]     25.94      5.37     26.60     14.89     36.26    229.05      1.03\n",
      "g_2[2,1,0]     68.31     11.99     69.49     45.09     87.69      5.82      1.34\n",
      "  v[0,0,0]     73.91     56.49     82.00      0.54    170.15      3.68      1.55\n",
      "  v[0,1,0]     64.80     68.46     55.38      0.05    207.61      8.22      1.72\n",
      "  v[1,0,0]     90.04     67.05     77.12     13.77    205.92      4.17      1.46\n",
      "  v[1,1,0]    135.32     94.09    107.51      4.96    305.63      2.92      1.86\n",
      "  v[2,0,0]     52.80     71.58     12.03      0.01    211.17      2.59      2.35\n",
      "  v[2,1,0]    136.85     60.75    125.82     23.59    259.17    149.61      1.02\n",
      "\n",
      "Number of divergences: 17818\n"
     ]
    }
   ],
   "source": [
    "mcmc.print_summary(prob=.95)"
   ]
  },
  {
   "cell_type": "code",
   "execution_count": 11,
   "metadata": {},
   "outputs": [
    {
     "name": "stderr",
     "output_type": "stream",
     "text": [
      "2023-08-02 09:49:09,277 - hbmep.model.baseline - INFO - Generating predictions ...\n",
      "2023-08-02 09:49:14,397 - hbmep.utils.utils - INFO - func:predict took: 5.12 sec\n",
      "2023-08-02 09:49:14,422 - hbmep.model.baseline - INFO - Rendering recruitment curves ...\n",
      "2023-08-02 09:49:16,106 - hbmep.model.baseline - INFO - Saved to /home/vishu/repos/hbmep-paper/reports/mle/recruitment_curves.pdf\n",
      "2023-08-02 09:49:16,107 - hbmep.utils.utils - INFO - func:render_recruitment_curves took: 6.83 sec\n"
     ]
    }
   ],
   "source": [
    "model.render_recruitment_curves(df=df, encoder_dict=encoder_dict, posterior_samples=posterior_samples)\n"
   ]
  },
  {
   "cell_type": "code",
   "execution_count": 12,
   "metadata": {},
   "outputs": [
    {
     "name": "stderr",
     "output_type": "stream",
     "text": [
      "2023-08-02 09:49:16,146 - hbmep.model.baseline - INFO - Generating predictions ...\n",
      "2023-08-02 09:49:21,272 - hbmep.utils.utils - INFO - func:predict took: 5.12 sec\n",
      "2023-08-02 09:49:21,312 - hbmep.model.baseline - INFO - Rendering Posterior Predictive Check ...\n",
      "2023-08-02 09:49:24,535 - hbmep.model.baseline - INFO - Saved to /home/vishu/repos/hbmep-paper/reports/mle/posterior_predictive_check.pdf\n",
      "2023-08-02 09:49:24,536 - hbmep.utils.utils - INFO - func:render_predictive_check took: 8.39 sec\n"
     ]
    }
   ],
   "source": [
    "model.render_predictive_check(df=df, encoder_dict=encoder_dict, posterior_samples=posterior_samples)\n"
   ]
  },
  {
   "cell_type": "code",
   "execution_count": 22,
   "metadata": {},
   "outputs": [],
   "source": [
    "posterior_samples_2 = mcmc.get_samples(group_by_chain=True)\n",
    "a = np.array(posterior_samples_2[\"a\"])\n",
    "H = np.array(posterior_samples_2[\"H\"])"
   ]
  },
  {
   "cell_type": "code",
   "execution_count": 27,
   "metadata": {},
   "outputs": [
    {
     "data": {
      "image/png": "[encoded data removed]",
      "text/plain": [
       "<Figure size 640x480 with 1 Axes>"
      ]
     },
     "metadata": {},
     "output_type": "display_data"
    }
   ],
   "source": [
    "import arviz as az\n",
    "import numpy as np\n",
    "import matplotlib.pyplot as plt\n",
    "import seaborn as sns\n",
    "\n",
    "\n",
    "p, q, r = 1, 1, 0\n",
    "\n",
    "color = iter(plt.cm.rainbow(np.linspace(0, 1, 4)))\n",
    "x = np.linspace(0, 1, 6000)\n",
    "\n",
    "for i in range(4):\n",
    "    c = next(color)\n",
    "    sns.lineplot(x=x, y=a[i, :, p, q, r], color=c, label=f\"chain={i+1}\")"
   ]
  }
 ],
 "metadata": {
  "kernelspec": {
   "display_name": ".venv",
   "language": "python",
   "name": "python3"
  },
  "language_info": {
   "codemirror_mode": {
    "name": "ipython",
    "version": 3
   },
   "file_extension": ".py",
   "mimetype": "text/x-python",
   "name": "python",
   "nbconvert_exporter": "python",
   "pygments_lexer": "ipython3",
   "version": "3.11.4"
  },
  "orig_nbformat": 4,
  "vscode": {
   "interpreter": {
    "hash": "850bfd4e6f5ddd996dd5cd5088beecd08558625e274540230e1444ec52025b11"
   }
  }
 },
 "nbformat": 4,
 "nbformat_minor": 2
}
