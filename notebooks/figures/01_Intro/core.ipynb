{
 "cells": [
  {
   "cell_type": "code",
   "execution_count": 3,
   "metadata": {},
   "outputs": [
    {
     "name": "stderr",
     "output_type": "stream",
     "text": [
      "2024-01-29 15:52:48,267 - hbmep_paper.utils.utils - INFO - Logging to /home/vishu/repos/hbmep-paper/reports/figures/01_Intro/core.log\n"
     ]
    }
   ],
   "source": [
    "%reload_ext autoreload\n",
    "%autoreload 2\n",
    "\n",
    "import os\n",
    "import logging\n",
    "\n",
    "import matplotlib.pyplot as plt\n",
    "import seaborn as sns\n",
    "import pandas as pd\n",
    "import numpy as np\n",
    "import scipy.stats as stats\n",
    "from numpyro.diagnostics import hpdi\n",
    "\n",
    "from hbmep.config import Config\n",
    "from hbmep.model import functional as F\n",
    "from hbmep.model.utils import Site as site\n",
    "\n",
    "from hbmep_paper.utils import setup_logging\n",
    "from models import RectifiedLogistic\n",
    "\n",
    "plt.rcParams['svg.fonttype'] = 'none'\n",
    "\n",
    "logger = logging.getLogger(__name__)\n",
    "\n",
    "TOML_PATH = \"/home/vishu/repos/hbmep-paper/configs/rats/J_RCML_000.toml\"\n",
    "DATA_PATH = \"/home/vishu/repos/hbmep-paper/reports/figures/01_Intro/data.csv\"\n",
    "MAT_PATH = \"/home/vishu/repos/hbmep-paper/reports/figures/01_Intro/mat.npy\"\n",
    "RESPONSE = [\"APB\", \"ADM\"]\n",
    "FEATURES = [\"participant\"]\n",
    "BUILD_DIR = \"/home/vishu/repos/hbmep-paper/reports/figures/01_Intro\"\n",
    "\n",
    "os.makedirs(BUILD_DIR, exist_ok=True)\n",
    "setup_logging(dir=BUILD_DIR, fname=\"core\")\n"
   ]
  }
 ],
 "metadata": {
  "kernelspec": {
   "display_name": "Python 3 (ipykernel)",
   "language": "python",
   "name": "python3"
  },
  "language_info": {
   "codemirror_mode": {
    "name": "ipython",
    "version": 3
   },
   "file_extension": ".py",
   "mimetype": "text/x-python",
   "name": "python",
   "nbconvert_exporter": "python",
   "pygments_lexer": "ipython3",
   "version": "3.11.4"
  }
 },
 "nbformat": 4,
 "nbformat_minor": 2
}
