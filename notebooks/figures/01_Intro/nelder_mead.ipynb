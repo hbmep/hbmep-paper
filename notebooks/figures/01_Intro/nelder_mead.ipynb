{
 "cells": [
  {
   "cell_type": "code",
   "execution_count": 1,
   "metadata": {},
   "outputs": [
    {
     "name": "stderr",
     "output_type": "stream",
     "text": [
      "2024-01-30 14:55:03,467 - hbmep_paper.utils.utils - INFO - Logging to /home/vishu/repos/hbmep-paper/reports/figures/01_Intro/core.log\n"
     ]
    }
   ],
   "source": [
    "%reload_ext autoreload\n",
    "%autoreload 2\n",
    "\n",
    "import os\n",
    "import logging\n",
    "\n",
    "import matplotlib.pyplot as plt\n",
    "import seaborn as sns\n",
    "import pandas as pd\n",
    "import numpy as np\n",
    "import scipy.stats as stats\n",
    "from numpyro.diagnostics import hpdi\n",
    "\n",
    "from hbmep.config import Config\n",
    "from hbmep.model import functional as F\n",
    "from hbmep.model.utils import Site as site\n",
    "\n",
    "from hbmep_paper.utils import setup_logging\n",
    "from models import NelderMeadOptimization\n",
    "\n",
    "plt.rcParams['svg.fonttype'] = 'none'\n",
    "\n",
    "logger = logging.getLogger(__name__)\n",
    "\n",
    "TOML_PATH = \"/home/vishu/repos/hbmep-paper/configs/rats/J_RCML_000.toml\"\n",
    "DATA_PATH = \"/home/vishu/repos/hbmep-paper/reports/figures/01_Intro/data.csv\"\n",
    "MAT_PATH = \"/home/vishu/repos/hbmep-paper/reports/figures/01_Intro/mat.npy\"\n",
    "RESPONSE = [\"APB\", \"ADM\"]\n",
    "FEATURES = [\"participant\"]\n",
    "BUILD_DIR = \"/home/vishu/repos/hbmep-paper/reports/figures/01_Intro\"\n",
    "\n",
    "os.makedirs(BUILD_DIR, exist_ok=True)\n",
    "setup_logging(dir=BUILD_DIR, fname=\"core\")\n"
   ]
  },
  {
   "cell_type": "code",
   "execution_count": 2,
   "metadata": {},
   "outputs": [
    {
     "name": "stderr",
     "output_type": "stream",
     "text": [
      "2024-01-30 14:55:04,835 - __main__ - INFO - df.shape: (50, 4)\n",
      "2024-01-30 14:55:04,835 - __main__ - INFO - mat.shape: (50, 428, 2)\n"
     ]
    }
   ],
   "source": [
    "config = Config(toml_path=TOML_PATH)\n",
    "config.BUILD_DIR = BUILD_DIR\n",
    "config.RESPONSE = RESPONSE\n",
    "config.FEATURES = FEATURES\n",
    "config.MCMC_PARAMS[\"num_warmup\"] = 10000\n",
    "config.MCMC_PARAMS[\"num_samples\"] = 10000\n",
    "\n",
    "df = pd.read_csv(DATA_PATH)\n",
    "mat = np.load(MAT_PATH)\n",
    "\n",
    "logger.info(f\"df.shape: {df.shape}\")\n",
    "logger.info(f\"mat.shape: {mat.shape}\")\n"
   ]
  },
  {
   "cell_type": "code",
   "execution_count": 3,
   "metadata": {},
   "outputs": [
    {
     "name": "stderr",
     "output_type": "stream",
     "text": [
      "2024-01-30 14:55:06,043 - hbmep.model.baseline - INFO - Initialized nelder_mead\n",
      "2024-01-30 14:55:06,043 - hbmep.dataset.core - INFO - Artefacts will be stored here - /home/vishu/repos/hbmep-paper/reports/figures/01_Intro\n",
      "2024-01-30 14:55:06,044 - hbmep.dataset.core - INFO - Copied config to /home/vishu/repos/hbmep-paper/reports/figures/01_Intro\n",
      "2024-01-30 14:55:06,045 - hbmep.dataset.core - WARNING - Total non-positive observations: 0\n",
      "2024-01-30 14:55:06,045 - hbmep.dataset.core - WARNING - Total missing observations: 0\n",
      "2024-01-30 14:55:06,046 - hbmep.dataset.core - INFO - Processing data ...\n",
      "2024-01-30 14:55:06,046 - hbmep.utils.utils - INFO - func:load took: 0.00 sec\n"
     ]
    },
    {
     "name": "stderr",
     "output_type": "stream",
     "text": [
      "2024-01-30 14:55:19,395 - models - INFO - Optimal params for response APB:\n",
      "2024-01-30 14:55:19,396 - models - INFO -        message: Optimization terminated successfully.\n",
      "       success: True\n",
      "        status: 0\n",
      "           fun: 0.0794039052533974\n",
      "             x: [ 1.328e+02  8.391e-02  2.419e-03  7.966e-01]\n",
      "           nit: 235\n",
      "          nfev: 411\n",
      " final_simplex: (array([[ 1.328e+02,  8.391e-02,  2.419e-03,  7.966e-01],\n",
      "                       [ 1.328e+02,  8.391e-02,  2.419e-03,  7.966e-01],\n",
      "                       ...,\n",
      "                       [ 1.328e+02,  8.391e-02,  2.418e-03,  7.966e-01],\n",
      "                       [ 1.328e+02,  8.391e-02,  2.419e-03,  7.966e-01]]), array([ 7.940e-02,  7.940e-02,  7.940e-02,  7.940e-02,\n",
      "                        7.940e-02]))\n",
      "2024-01-30 14:55:32,880 - models - INFO - Optimal params for response ADM:\n",
      "2024-01-30 14:55:32,881 - models - INFO -        message: Optimization terminated successfully.\n",
      "       success: True\n",
      "        status: 0\n",
      "           fun: 0.28749564326537524\n",
      "             x: [ 5.237e+01  7.487e-02  1.000e-09  5.690e-01]\n",
      "           nit: 227\n",
      "          nfev: 388\n",
      " final_simplex: (array([[ 5.237e+01,  7.487e-02,  1.000e-09,  5.690e-01],\n",
      "                       [ 5.237e+01,  7.487e-02,  1.000e-09,  5.690e-01],\n",
      "                       ...,\n",
      "                       [ 5.237e+01,  7.487e-02,  1.000e-09,  5.690e-01],\n",
      "                       [ 5.237e+01,  7.487e-02,  1.000e-09,  5.690e-01]]), array([ 2.875e-01,  2.875e-01,  2.875e-01,  2.875e-01,\n",
      "                        2.875e-01]))\n",
      "2024-01-30 14:55:32,883 - hbmep.utils.utils - INFO - func:run_inference took: 26.84 sec\n"
     ]
    }
   ],
   "source": [
    "model = NelderMeadOptimization(config=config)\n",
    "df, encoder_dict = model.load(df=df)\n",
    "\n",
    "minimize_result = model.run_inference(df=df);\n",
    "\n",
    "# prediction_df = model.make_prediction_dataset(df=df, num=20000)\n",
    "# # prediction_df = model.make_prediction_dataset(df=df)\n",
    "# posterior_predictive = model.predict(df=prediction_df, posterior_samples=posterior_samples)\n",
    "# model.render_recruitment_curves(df=df, encoder_dict=encoder_dict, posterior_samples=posterior_samples, prediction_df=prediction_df, posterior_predictive=posterior_predictive)\n",
    "# model.render_predictive_check(df=df, encoder_dict=encoder_dict, prediction_df=prediction_df, posterior_predictive=posterior_predictive)\n"
   ]
  },
  {
   "cell_type": "code",
   "execution_count": 6,
   "metadata": {},
   "outputs": [
    {
     "name": "stderr",
     "output_type": "stream",
     "text": [
      "2024-01-30 14:56:45,201 - __main__ - INFO - Saved to /home/vishu/repos/hbmep-paper/reports/figures/01_Intro/minimize_result.pkl\n"
     ]
    }
   ],
   "source": [
    "import pickle\n",
    "\n",
    "dest = os.path.join(model.build_dir, \"minimize_result.pkl\")\n",
    "with open(dest, \"wb\") as f:\n",
    "    pickle.dump((minimize_result,), f)\n",
    "\n",
    "logger.info(f\"Saved to {dest}\")\n"
   ]
  },
  {
   "cell_type": "code",
   "execution_count": 4,
   "metadata": {},
   "outputs": [
    {
     "data": {
      "text/plain": [
       "'/home/vishu/repos/hbmep-paper/reports/figures/01_Intro'"
      ]
     },
     "execution_count": 4,
     "metadata": {},
     "output_type": "execute_result"
    }
   ],
   "source": [
    "model.build_dir"
   ]
  }
 ],
 "metadata": {
  "kernelspec": {
   "display_name": "Python 3 (ipykernel)",
   "language": "python",
   "name": "python3"
  }
 },
 "nbformat": 4,
 "nbformat_minor": 2
}
