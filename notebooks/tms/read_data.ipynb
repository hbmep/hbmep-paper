{
 "cells": [
  {
   "cell_type": "code",
   "execution_count": 1,
   "metadata": {},
   "outputs": [],
   "source": [
    "%reload_ext autoreload\n",
    "%autoreload 2\n",
    "\n",
    "import os\n",
    "import glob\n",
    "from pathlib import Path\n",
    "\n",
    "import numpy as np\n",
    "import pandas as pd\n",
    "\n",
    "from tqdm import tqdm\n",
    "from hbmep.utils import timing\n",
    "import mat73\n",
    "import tomllib\n"
   ]
  },
  {
   "cell_type": "code",
   "execution_count": 2,
   "metadata": {},
   "outputs": [],
   "source": [
    "MUSCLES = [\"ADM\", \"APB\", \"Biceps\", \"ECR\", \"FCR\", \"Triceps\"]\n",
    "PKPK_MUSCLES = [\"PKPK_\" + m for m in MUSCLES]\n",
    "AUC_MUSCLES = [\"AUC_\" + m for m in MUSCLES]\n",
    "\n",
    "\n",
    "@timing\n",
    "def load_non_invasive_data(\n",
    "    dir: Path,\n",
    "    subjects: list[str]\n",
    "):\n",
    "    df = None\n",
    "\n",
    "    for subject in tqdm(subjects):\n",
    "        print(subject)\n",
    "        subdir = os.path.join(dir, subject)\n",
    "\n",
    "        fpath = glob.glob(f\"{subdir}/*REC_table.csv\")[0]\n",
    "        temp_df = pd.read_csv(fpath)\n",
    "\n",
    "        fpath = glob.glob(f\"{subdir}/*ep_matrix.mat\")[0]\n",
    "        data_dict = mat73.loadmat(fpath)\n",
    "\n",
    "        temp_mat = data_dict[\"ep_sliced\"]\n",
    "\n",
    "        fpath = glob.glob(f\"{subdir}/*cfg_proc.toml\")[0]\n",
    "        with open(fpath, \"rb\") as f:\n",
    "            cfg_proc = tomllib.load(f)\n",
    "\n",
    "        temp_df[\"participant\"] = subject\n",
    "\n",
    "        # Rename columns to actual muscle names\n",
    "        muscles = cfg_proc[\"st\"][\"channel\"]\n",
    "        pkpk_muscles_map = {\n",
    "            f\"pkpk_{i + 1}\": \"PKPK_\" + m for i, m in enumerate(muscles)\n",
    "        }\n",
    "        auc_muscles_map = {\n",
    "            f\"auc_{i + 1}\": \"AUC_\" + m for i, m in enumerate(muscles)\n",
    "        }\n",
    "        temp_df = temp_df.rename(columns=pkpk_muscles_map).copy()\n",
    "        temp_df = temp_df.rename(columns=auc_muscles_map).copy()\n",
    "\n",
    "        # Reorder MEP matrix\n",
    "        temp_mat = temp_mat[..., np.argsort(muscles)]\n",
    "\n",
    "        assert temp_df[\"target_muscle\"].unique().shape[0] == 1\n",
    "        side = temp_df[\"target_muscle\"].unique()[0][0]\n",
    "\n",
    "        pkpk_side_muscles = [\"PKPK_\" + side + muscle for muscle in MUSCLES]\n",
    "        temp_df[PKPK_MUSCLES] = temp_df[pkpk_side_muscles]\n",
    "\n",
    "        auc_side_muscles = [\"AUC_\" + side + muscle for muscle in MUSCLES]\n",
    "        temp_df[AUC_MUSCLES] = temp_df[auc_side_muscles]\n",
    "\n",
    "        side_muscles = [side + muscle for muscle in MUSCLES]\n",
    "\n",
    "        ind = [i for i, m in enumerate(sorted(muscles)) if m in side_muscles]\n",
    "        temp_mat = temp_mat[..., ind]\n",
    "\n",
    "        if df is None:\n",
    "            df = temp_df.copy()\n",
    "            mat = temp_mat\n",
    "\n",
    "            muscles_sorted = sorted(muscles)\n",
    "\n",
    "            assert len(set(muscles_sorted)) == len(muscles_sorted)\n",
    "            continue\n",
    "\n",
    "        assert set(muscles) == set(muscles_sorted)\n",
    "\n",
    "        df = pd.concat([df, temp_df], ignore_index=True).reset_index(drop=True).copy()\n",
    "        mat = np.vstack((mat, temp_mat))\n",
    "\n",
    "    return df, mat, pkpk_muscles_map, auc_muscles_map\n"
   ]
  },
  {
   "cell_type": "code",
   "execution_count": 3,
   "metadata": {},
   "outputs": [
    {
     "name": "stdout",
     "output_type": "stream",
     "text": [
      "['SCA01', 'SCA04', 'SCA07', 'SCA11', 'SCA14', 'SCS02', 'SCS05', 'SCS09', 'SCS13', 'SCA02', 'SCA05', 'SCA09', 'SCA12', 'SCA15', 'SCS03', 'SCS06', 'SCS10', 'SCS14', 'SCA03', 'SCA06', 'SCA10', 'SCA13', 'SCS01', 'SCS04', 'SCS08', 'SCS12', 'SCS15']\n",
      "27\n"
     ]
    },
    {
     "name": "stderr",
     "output_type": "stream",
     "text": [
      "  0%|                                                                                            | 0/27 [00:00<?, ?it/s]ERROR:root:ERROR: MATLAB type not supported: string, (uint32)\n",
      "ERROR:root:ERROR: MATLAB type not supported: string, (uint32)\n",
      "ERROR:root:ERROR: MATLAB type not supported: string, (uint32)\n",
      "ERROR:root:ERROR: MATLAB type not supported: string, (uint32)\n",
      "ERROR:root:ERROR: MATLAB type not supported: string, (uint32)\n",
      "ERROR:root:ERROR: MATLAB type not supported: string, (uint32)\n",
      "ERROR:root:ERROR: MATLAB type not supported: string, (uint32)\n",
      "ERROR:root:ERROR: MATLAB type not supported: string, (uint32)\n"
     ]
    },
    {
     "name": "stdout",
     "output_type": "stream",
     "text": [
      "SCA01\n",
      "SCA04\n"
     ]
    },
    {
     "name": "stderr",
     "output_type": "stream",
     "text": [
      "  7%|██████▏                                                                             | 2/27 [00:00<00:02,  9.71it/s]ERROR:root:ERROR: MATLAB type not supported: string, (uint32)\n",
      "ERROR:root:ERROR: MATLAB type not supported: string, (uint32)\n",
      "ERROR:root:ERROR: MATLAB type not supported: string, (uint32)\n",
      "ERROR:root:ERROR: MATLAB type not supported: string, (uint32)\n",
      " 11%|█████████▎                                                                          | 3/27 [00:00<00:02,  9.62it/s]ERROR:root:ERROR: MATLAB type not supported: string, (uint32)\n",
      "ERROR:root:ERROR: MATLAB type not supported: string, (uint32)\n",
      "ERROR:root:ERROR: MATLAB type not supported: string, (uint32)\n",
      "ERROR:root:ERROR: MATLAB type not supported: string, (uint32)\n"
     ]
    },
    {
     "name": "stdout",
     "output_type": "stream",
     "text": [
      "SCA07\n",
      "SCA11\n",
      "SCA14\n"
     ]
    },
    {
     "name": "stderr",
     "output_type": "stream",
     "text": [
      "ERROR:root:ERROR: MATLAB type not supported: string, (uint32)\n",
      "ERROR:root:ERROR: MATLAB type not supported: string, (uint32)\n",
      "ERROR:root:ERROR: MATLAB type not supported: string, (uint32)\n",
      "ERROR:root:ERROR: MATLAB type not supported: string, (uint32)\n",
      " 19%|███████████████▌                                                                    | 5/27 [00:00<00:02, 10.44it/s]ERROR:root:ERROR: MATLAB type not supported: string, (uint32)\n",
      "ERROR:root:ERROR: MATLAB type not supported: string, (uint32)\n",
      "ERROR:root:ERROR: MATLAB type not supported: string, (uint32)\n",
      "ERROR:root:ERROR: MATLAB type not supported: string, (uint32)\n",
      "ERROR:root:ERROR: MATLAB type not supported: string, (uint32)\n",
      "ERROR:root:ERROR: MATLAB type not supported: string, (uint32)\n",
      "ERROR:root:ERROR: MATLAB type not supported: string, (uint32)\n",
      "ERROR:root:ERROR: MATLAB type not supported: string, (uint32)\n",
      " 26%|█████████████████████▊                                                              | 7/27 [00:00<00:01, 11.50it/s]ERROR:root:ERROR: MATLAB type not supported: string, (uint32)\n",
      "ERROR:root:ERROR: MATLAB type not supported: string, (uint32)\n",
      "ERROR:root:ERROR: MATLAB type not supported: string, (uint32)\n",
      "ERROR:root:ERROR: MATLAB type not supported: string, (uint32)\n"
     ]
    },
    {
     "name": "stdout",
     "output_type": "stream",
     "text": [
      "SCS02\n",
      "SCS05\n",
      "SCS09\n"
     ]
    },
    {
     "name": "stderr",
     "output_type": "stream",
     "text": [
      "ERROR:root:ERROR: MATLAB type not supported: string, (uint32)\n",
      "ERROR:root:ERROR: MATLAB type not supported: string, (uint32)\n",
      "ERROR:root:ERROR: MATLAB type not supported: string, (uint32)\n",
      "ERROR:root:ERROR: MATLAB type not supported: string, (uint32)\n",
      " 33%|████████████████████████████                                                        | 9/27 [00:00<00:01, 11.22it/s]ERROR:root:ERROR: MATLAB type not supported: string, (uint32)\n",
      "ERROR:root:ERROR: MATLAB type not supported: string, (uint32)\n",
      "ERROR:root:ERROR: MATLAB type not supported: string, (uint32)\n",
      "ERROR:root:ERROR: MATLAB type not supported: string, (uint32)\n"
     ]
    },
    {
     "name": "stdout",
     "output_type": "stream",
     "text": [
      "SCS13\n",
      "SCA02\n"
     ]
    },
    {
     "name": "stderr",
     "output_type": "stream",
     "text": [
      "ERROR:root:ERROR: MATLAB type not supported: string, (uint32)\n",
      "ERROR:root:ERROR: MATLAB type not supported: string, (uint32)\n",
      "ERROR:root:ERROR: MATLAB type not supported: string, (uint32)\n",
      "ERROR:root:ERROR: MATLAB type not supported: string, (uint32)\n",
      " 41%|█████████████████████████████████▊                                                 | 11/27 [00:01<00:01, 10.50it/s]ERROR:root:ERROR: MATLAB type not supported: string, (uint32)\n",
      "ERROR:root:ERROR: MATLAB type not supported: string, (uint32)\n",
      "ERROR:root:ERROR: MATLAB type not supported: string, (uint32)\n",
      "ERROR:root:ERROR: MATLAB type not supported: string, (uint32)\n"
     ]
    },
    {
     "name": "stdout",
     "output_type": "stream",
     "text": [
      "SCA05\n",
      "SCA09\n"
     ]
    },
    {
     "name": "stderr",
     "output_type": "stream",
     "text": [
      "ERROR:root:ERROR: MATLAB type not supported: string, (uint32)\n",
      "ERROR:root:ERROR: MATLAB type not supported: string, (uint32)\n",
      "ERROR:root:ERROR: MATLAB type not supported: string, (uint32)\n",
      "ERROR:root:ERROR: MATLAB type not supported: string, (uint32)\n",
      " 48%|███████████████████████████████████████▉                                           | 13/27 [00:01<00:01, 10.26it/s]ERROR:root:ERROR: MATLAB type not supported: string, (uint32)\n",
      "ERROR:root:ERROR: MATLAB type not supported: string, (uint32)\n",
      "ERROR:root:ERROR: MATLAB type not supported: string, (uint32)\n",
      "ERROR:root:ERROR: MATLAB type not supported: string, (uint32)\n"
     ]
    },
    {
     "name": "stdout",
     "output_type": "stream",
     "text": [
      "SCA12\n",
      "SCA15\n",
      "SCS03\n"
     ]
    },
    {
     "name": "stderr",
     "output_type": "stream",
     "text": [
      "ERROR:root:ERROR: MATLAB type not supported: string, (uint32)\n",
      "ERROR:root:ERROR: MATLAB type not supported: string, (uint32)\n",
      "ERROR:root:ERROR: MATLAB type not supported: string, (uint32)\n",
      "ERROR:root:ERROR: MATLAB type not supported: string, (uint32)\n",
      " 56%|██████████████████████████████████████████████                                     | 15/27 [00:01<00:01, 10.06it/s]ERROR:root:ERROR: MATLAB type not supported: string, (uint32)\n",
      "ERROR:root:ERROR: MATLAB type not supported: string, (uint32)\n",
      "ERROR:root:ERROR: MATLAB type not supported: string, (uint32)\n",
      "ERROR:root:ERROR: MATLAB type not supported: string, (uint32)\n",
      "ERROR:root:ERROR: MATLAB type not supported: string, (uint32)\n",
      "ERROR:root:ERROR: MATLAB type not supported: string, (uint32)\n",
      "ERROR:root:ERROR: MATLAB type not supported: string, (uint32)\n",
      "ERROR:root:ERROR: MATLAB type not supported: string, (uint32)\n"
     ]
    },
    {
     "name": "stdout",
     "output_type": "stream",
     "text": [
      "SCS06\n",
      "SCS10\n"
     ]
    },
    {
     "name": "stderr",
     "output_type": "stream",
     "text": [
      " 63%|████████████████████████████████████████████████████▎                              | 17/27 [00:01<00:00, 10.01it/s]ERROR:root:ERROR: MATLAB type not supported: string, (uint32)\n",
      "ERROR:root:ERROR: MATLAB type not supported: string, (uint32)\n",
      "ERROR:root:ERROR: MATLAB type not supported: string, (uint32)\n",
      "ERROR:root:ERROR: MATLAB type not supported: string, (uint32)\n",
      "ERROR:root:ERROR: MATLAB type not supported: string, (uint32)\n",
      "ERROR:root:ERROR: MATLAB type not supported: string, (uint32)\n",
      "ERROR:root:ERROR: MATLAB type not supported: string, (uint32)\n",
      "ERROR:root:ERROR: MATLAB type not supported: string, (uint32)\n"
     ]
    },
    {
     "name": "stdout",
     "output_type": "stream",
     "text": [
      "SCS14\n",
      "SCA03\n"
     ]
    },
    {
     "name": "stderr",
     "output_type": "stream",
     "text": [
      " 70%|██████████████████████████████████████████████████████████▍                        | 19/27 [00:01<00:00,  9.77it/s]ERROR:root:ERROR: MATLAB type not supported: string, (uint32)\n",
      "ERROR:root:ERROR: MATLAB type not supported: string, (uint32)\n",
      "ERROR:root:ERROR: MATLAB type not supported: string, (uint32)\n",
      "ERROR:root:ERROR: MATLAB type not supported: string, (uint32)\n",
      " 74%|█████████████████████████████████████████████████████████████▍                     | 20/27 [00:01<00:00,  9.60it/s]ERROR:root:ERROR: MATLAB type not supported: string, (uint32)\n",
      "ERROR:root:ERROR: MATLAB type not supported: string, (uint32)\n",
      "ERROR:root:ERROR: MATLAB type not supported: string, (uint32)\n",
      "ERROR:root:ERROR: MATLAB type not supported: string, (uint32)\n"
     ]
    },
    {
     "name": "stdout",
     "output_type": "stream",
     "text": [
      "SCA06\n",
      "SCA10\n"
     ]
    },
    {
     "name": "stderr",
     "output_type": "stream",
     "text": [
      " 78%|████████████████████████████████████████████████████████████████▌                  | 21/27 [00:02<00:00,  9.39it/s]ERROR:root:ERROR: MATLAB type not supported: string, (uint32)\n",
      "ERROR:root:ERROR: MATLAB type not supported: string, (uint32)\n",
      "ERROR:root:ERROR: MATLAB type not supported: string, (uint32)\n",
      "ERROR:root:ERROR: MATLAB type not supported: string, (uint32)\n",
      " 81%|███████████████████████████████████████████████████████████████████▋               | 22/27 [00:02<00:00,  9.34it/s]ERROR:root:ERROR: MATLAB type not supported: string, (uint32)\n",
      "ERROR:root:ERROR: MATLAB type not supported: string, (uint32)\n",
      "ERROR:root:ERROR: MATLAB type not supported: string, (uint32)\n",
      "ERROR:root:ERROR: MATLAB type not supported: string, (uint32)\n"
     ]
    },
    {
     "name": "stdout",
     "output_type": "stream",
     "text": [
      "SCA13\n",
      "SCS01\n"
     ]
    },
    {
     "name": "stderr",
     "output_type": "stream",
     "text": [
      " 85%|██████████████████████████████████████████████████████████████████████▋            | 23/27 [00:02<00:00,  9.13it/s]ERROR:root:ERROR: MATLAB type not supported: string, (uint32)\n",
      "ERROR:root:ERROR: MATLAB type not supported: string, (uint32)\n",
      "ERROR:root:ERROR: MATLAB type not supported: string, (uint32)\n",
      "ERROR:root:ERROR: MATLAB type not supported: string, (uint32)\n",
      " 89%|█████████████████████████████████████████████████████████████████████████▊         | 24/27 [00:02<00:00,  8.96it/s]ERROR:root:ERROR: MATLAB type not supported: string, (uint32)\n",
      "ERROR:root:ERROR: MATLAB type not supported: string, (uint32)\n",
      "ERROR:root:ERROR: MATLAB type not supported: string, (uint32)\n",
      "ERROR:root:ERROR: MATLAB type not supported: string, (uint32)\n"
     ]
    },
    {
     "name": "stdout",
     "output_type": "stream",
     "text": [
      "SCS04\n",
      "SCS08\n"
     ]
    },
    {
     "name": "stderr",
     "output_type": "stream",
     "text": [
      " 93%|████████████████████████████████████████████████████████████████████████████▊      | 25/27 [00:02<00:00,  8.43it/s]ERROR:root:ERROR: MATLAB type not supported: string, (uint32)\n",
      "ERROR:root:ERROR: MATLAB type not supported: string, (uint32)\n",
      "ERROR:root:ERROR: MATLAB type not supported: string, (uint32)\n",
      "ERROR:root:ERROR: MATLAB type not supported: string, (uint32)\n",
      " 96%|███████████████████████████████████████████████████████████████████████████████▉   | 26/27 [00:02<00:00,  8.47it/s]ERROR:root:ERROR: MATLAB type not supported: string, (uint32)\n",
      "ERROR:root:ERROR: MATLAB type not supported: string, (uint32)\n",
      "ERROR:root:ERROR: MATLAB type not supported: string, (uint32)\n",
      "ERROR:root:ERROR: MATLAB type not supported: string, (uint32)\n"
     ]
    },
    {
     "name": "stdout",
     "output_type": "stream",
     "text": [
      "SCS12\n",
      "SCS15\n"
     ]
    },
    {
     "name": "stderr",
     "output_type": "stream",
     "text": [
      "100%|███████████████████████████████████████████████████████████████████████████████████| 27/27 [00:02<00:00,  9.59it/s]\n"
     ]
    },
    {
     "data": {
      "text/plain": [
       "(1847, 139)"
      ]
     },
     "execution_count": 3,
     "metadata": {},
     "output_type": "execute_result"
    }
   ],
   "source": [
    "dir = \"/mount/hdd1/human_non-inv/proc/proc_2024-06-08/custom-visit-TMS-REC\"\n",
    "\n",
    "# subjects_string = \\a\n",
    "#     \"\"\"SCA01  SCA04  SCA07  SCA11  SCA14  SCS02  SCS05  SCS09  SCS14\n",
    "#     SCA02  SCA05  SCA09  SCA12  SCA15  SCS03  SCS06  SCS10  SCS15\n",
    "#     SCA03  SCA06  SCA10  SCA13   SCS01  SCS04  SCS08  SCS12\"\"\"\n",
    "\n",
    "subjects_string = \\\n",
    "    \"\"\"\n",
    "    SCA01  SCA04  SCA07  SCA11  SCA14  SCS02  SCS05  SCS09  SCS13\n",
    "    SCA02  SCA05  SCA09  SCA12  SCA15  SCS03  SCS06  SCS10  SCS14\n",
    "    SCA03  SCA06  SCA10  SCA13  SCS01  SCS04  SCS08  SCS12  SCS15\n",
    "    \"\"\"\n",
    "\n",
    "subjects = subjects_string.split()\n",
    "print(subjects)\n",
    "print(len(subjects))\n",
    "\n",
    "# subjects = subjects[0:2]\n",
    "\n",
    "df, mat, pkpk_muscles_map, auc_muscles_map = load_non_invasive_data(dir=dir, subjects=subjects)\n",
    "df.shape\n"
   ]
  },
  {
   "cell_type": "code",
   "execution_count": 4,
   "metadata": {},
   "outputs": [
    {
     "data": {
      "text/plain": [
       "(1847, 2501, 6)"
      ]
     },
     "execution_count": 4,
     "metadata": {},
     "output_type": "execute_result"
    }
   ],
   "source": [
    "mat.shape\n"
   ]
  },
  {
   "cell_type": "code",
   "execution_count": 5,
   "metadata": {},
   "outputs": [
    {
     "data": {
      "text/html": [
       "<div>\n",
       "<style scoped>\n",
       "    .dataframe tbody tr th:only-of-type {\n",
       "        vertical-align: middle;\n",
       "    }\n",
       "\n",
       "    .dataframe tbody tr th {\n",
       "        vertical-align: top;\n",
       "    }\n",
       "\n",
       "    .dataframe thead th {\n",
       "        text-align: right;\n",
       "    }\n",
       "</style>\n",
       "<table border=\"1\" class=\"dataframe\">\n",
       "  <thead>\n",
       "    <tr style=\"text-align: right;\">\n",
       "      <th></th>\n",
       "      <th>participant</th>\n",
       "      <th>target_muscle</th>\n",
       "    </tr>\n",
       "  </thead>\n",
       "  <tbody>\n",
       "    <tr>\n",
       "      <th>0</th>\n",
       "      <td>SCA01</td>\n",
       "      <td>LAPB</td>\n",
       "    </tr>\n",
       "    <tr>\n",
       "      <th>1</th>\n",
       "      <td>SCA02</td>\n",
       "      <td>RAPB</td>\n",
       "    </tr>\n",
       "    <tr>\n",
       "      <th>2</th>\n",
       "      <td>SCA03</td>\n",
       "      <td>RAPB</td>\n",
       "    </tr>\n",
       "    <tr>\n",
       "      <th>3</th>\n",
       "      <td>SCA04</td>\n",
       "      <td>RAPB</td>\n",
       "    </tr>\n",
       "    <tr>\n",
       "      <th>4</th>\n",
       "      <td>SCA05</td>\n",
       "      <td>RAPB</td>\n",
       "    </tr>\n",
       "    <tr>\n",
       "      <th>5</th>\n",
       "      <td>SCA06</td>\n",
       "      <td>RAPB</td>\n",
       "    </tr>\n",
       "    <tr>\n",
       "      <th>6</th>\n",
       "      <td>SCA07</td>\n",
       "      <td>RAPB</td>\n",
       "    </tr>\n",
       "    <tr>\n",
       "      <th>7</th>\n",
       "      <td>SCA09</td>\n",
       "      <td>RAPB</td>\n",
       "    </tr>\n",
       "    <tr>\n",
       "      <th>8</th>\n",
       "      <td>SCA10</td>\n",
       "      <td>RAPB</td>\n",
       "    </tr>\n",
       "    <tr>\n",
       "      <th>9</th>\n",
       "      <td>SCA11</td>\n",
       "      <td>RAPB</td>\n",
       "    </tr>\n",
       "    <tr>\n",
       "      <th>10</th>\n",
       "      <td>SCA12</td>\n",
       "      <td>LAPB</td>\n",
       "    </tr>\n",
       "    <tr>\n",
       "      <th>11</th>\n",
       "      <td>SCA13</td>\n",
       "      <td>RAPB</td>\n",
       "    </tr>\n",
       "    <tr>\n",
       "      <th>12</th>\n",
       "      <td>SCA14</td>\n",
       "      <td>RAPB</td>\n",
       "    </tr>\n",
       "    <tr>\n",
       "      <th>13</th>\n",
       "      <td>SCA15</td>\n",
       "      <td>LAPB</td>\n",
       "    </tr>\n",
       "    <tr>\n",
       "      <th>14</th>\n",
       "      <td>SCS01</td>\n",
       "      <td>LAPB</td>\n",
       "    </tr>\n",
       "    <tr>\n",
       "      <th>15</th>\n",
       "      <td>SCS02</td>\n",
       "      <td>RAPB</td>\n",
       "    </tr>\n",
       "    <tr>\n",
       "      <th>16</th>\n",
       "      <td>SCS03</td>\n",
       "      <td>RAPB</td>\n",
       "    </tr>\n",
       "    <tr>\n",
       "      <th>17</th>\n",
       "      <td>SCS04</td>\n",
       "      <td>LAPB</td>\n",
       "    </tr>\n",
       "    <tr>\n",
       "      <th>18</th>\n",
       "      <td>SCS05</td>\n",
       "      <td>RAPB</td>\n",
       "    </tr>\n",
       "    <tr>\n",
       "      <th>19</th>\n",
       "      <td>SCS06</td>\n",
       "      <td>RFDI</td>\n",
       "    </tr>\n",
       "    <tr>\n",
       "      <th>20</th>\n",
       "      <td>SCS08</td>\n",
       "      <td>LAPB</td>\n",
       "    </tr>\n",
       "    <tr>\n",
       "      <th>21</th>\n",
       "      <td>SCS09</td>\n",
       "      <td>LFDI</td>\n",
       "    </tr>\n",
       "    <tr>\n",
       "      <th>22</th>\n",
       "      <td>SCS10</td>\n",
       "      <td>LECR</td>\n",
       "    </tr>\n",
       "    <tr>\n",
       "      <th>23</th>\n",
       "      <td>SCS12</td>\n",
       "      <td>LAPB</td>\n",
       "    </tr>\n",
       "    <tr>\n",
       "      <th>24</th>\n",
       "      <td>SCS13</td>\n",
       "      <td>RECR</td>\n",
       "    </tr>\n",
       "    <tr>\n",
       "      <th>25</th>\n",
       "      <td>SCS14</td>\n",
       "      <td>RFDI</td>\n",
       "    </tr>\n",
       "    <tr>\n",
       "      <th>26</th>\n",
       "      <td>SCS15</td>\n",
       "      <td>RFCR</td>\n",
       "    </tr>\n",
       "  </tbody>\n",
       "</table>\n",
       "</div>"
      ],
      "text/plain": [
       "   participant target_muscle\n",
       "0        SCA01          LAPB\n",
       "1        SCA02          RAPB\n",
       "2        SCA03          RAPB\n",
       "3        SCA04          RAPB\n",
       "4        SCA05          RAPB\n",
       "5        SCA06          RAPB\n",
       "6        SCA07          RAPB\n",
       "7        SCA09          RAPB\n",
       "8        SCA10          RAPB\n",
       "9        SCA11          RAPB\n",
       "10       SCA12          LAPB\n",
       "11       SCA13          RAPB\n",
       "12       SCA14          RAPB\n",
       "13       SCA15          LAPB\n",
       "14       SCS01          LAPB\n",
       "15       SCS02          RAPB\n",
       "16       SCS03          RAPB\n",
       "17       SCS04          LAPB\n",
       "18       SCS05          RAPB\n",
       "19       SCS06          RFDI\n",
       "20       SCS08          LAPB\n",
       "21       SCS09          LFDI\n",
       "22       SCS10          LECR\n",
       "23       SCS12          LAPB\n",
       "24       SCS13          RECR\n",
       "25       SCS14          RFDI\n",
       "26       SCS15          RFCR"
      ]
     },
     "execution_count": 5,
     "metadata": {},
     "output_type": "execute_result"
    }
   ],
   "source": [
    "target_df = df \\\n",
    "    .groupby(by=[\"participant\"], as_index=False) \\\n",
    "    .agg({\"target_muscle\": np.unique}) \\\n",
    "    .explode(column=\"target_muscle\") \\\n",
    "    .reset_index(drop=True) \\\n",
    "    .copy()\n",
    "\n",
    "target_df\n"
   ]
  },
  {
   "cell_type": "code",
   "execution_count": 6,
   "metadata": {},
   "outputs": [
    {
     "ename": "AssertionError",
     "evalue": "",
     "output_type": "error",
     "traceback": [
      "\u001b[0;31m---------------------------------------------------------------------------\u001b[0m",
      "\u001b[0;31mAssertionError\u001b[0m                            Traceback (most recent call last)",
      "Cell \u001b[0;32mIn[6], line 9\u001b[0m\n\u001b[1;32m      6\u001b[0m pkpk_sided_muscles \u001b[38;5;241m=\u001b[39m [\u001b[38;5;124m\"\u001b[39m\u001b[38;5;124mPKPK_\u001b[39m\u001b[38;5;124m\"\u001b[39m \u001b[38;5;241m+\u001b[39m side \u001b[38;5;241m+\u001b[39m m \u001b[38;5;28;01mfor\u001b[39;00m m \u001b[38;5;129;01min\u001b[39;00m MUSCLES]\n\u001b[1;32m      7\u001b[0m auc_sided_muscles \u001b[38;5;241m=\u001b[39m [\u001b[38;5;124m\"\u001b[39m\u001b[38;5;124mAUC_\u001b[39m\u001b[38;5;124m\"\u001b[39m \u001b[38;5;241m+\u001b[39m side \u001b[38;5;241m+\u001b[39m m \u001b[38;5;28;01mfor\u001b[39;00m m \u001b[38;5;129;01min\u001b[39;00m MUSCLES]\n\u001b[0;32m----> 9\u001b[0m \u001b[38;5;28;01massert\u001b[39;00m (temp_df[PKPK_MUSCLES]\u001b[38;5;241m.\u001b[39mto_numpy() \u001b[38;5;241m==\u001b[39m temp_df[pkpk_sided_muscles]\u001b[38;5;241m.\u001b[39mto_numpy())\u001b[38;5;241m.\u001b[39mall()\n\u001b[1;32m     10\u001b[0m \u001b[38;5;28;01massert\u001b[39;00m (temp_df[AUC_MUSCLES]\u001b[38;5;241m.\u001b[39mto_numpy() \u001b[38;5;241m==\u001b[39m temp_df[auc_sided_muscles]\u001b[38;5;241m.\u001b[39mto_numpy())\u001b[38;5;241m.\u001b[39mall()\n",
      "\u001b[0;31mAssertionError\u001b[0m: "
     ]
    }
   ],
   "source": [
    "for subject in df.participant.unique():\n",
    "    ind = df.participant.isin([subject])\n",
    "    temp_df = df[ind].reset_index(drop=True).copy()\n",
    "\n",
    "    side = temp_df.target_muscle.unique()[0][0]\n",
    "    pkpk_sided_muscles = [\"PKPK_\" + side + m for m in MUSCLES]\n",
    "    auc_sided_muscles = [\"AUC_\" + side + m for m in MUSCLES]\n",
    "\n",
    "    assert (temp_df[PKPK_MUSCLES].to_numpy() == temp_df[pkpk_sided_muscles].to_numpy()).all()\n",
    "    assert (temp_df[AUC_MUSCLES].to_numpy() == temp_df[auc_sided_muscles].to_numpy()).all()\n"
   ]
  },
  {
   "cell_type": "code",
   "execution_count": 7,
   "metadata": {},
   "outputs": [
    {
     "data": {
      "text/plain": [
       "PKPK_ADM        0\n",
       "PKPK_APB        2\n",
       "PKPK_Biceps     2\n",
       "PKPK_ECR        0\n",
       "PKPK_FCR        0\n",
       "PKPK_Triceps    0\n",
       "dtype: int64"
      ]
     },
     "execution_count": 7,
     "metadata": {},
     "output_type": "execute_result"
    }
   ],
   "source": [
    "df[PKPK_MUSCLES].isna().sum()"
   ]
  },
  {
   "cell_type": "code",
   "execution_count": 8,
   "metadata": {},
   "outputs": [
    {
     "data": {
      "text/plain": [
       "0"
      ]
     },
     "execution_count": 8,
     "metadata": {},
     "output_type": "execute_result"
    }
   ],
   "source": [
    "(df[PKPK_MUSCLES].isna().any(axis=1) != df[AUC_MUSCLES].isna().any(axis=1)).sum()"
   ]
  },
  {
   "cell_type": "code",
   "execution_count": 9,
   "metadata": {},
   "outputs": [
    {
     "name": "stdout",
     "output_type": "stream",
     "text": [
      "(1843, 139)\n",
      "(1843, 2501, 6)\n"
     ]
    }
   ],
   "source": [
    "ind = df[PKPK_MUSCLES].isna().any(axis=1)\n",
    "df = df[~ind].reset_index(drop=True).copy()\n",
    "mat = mat[~ind, ...].copy()\n",
    "\n",
    "print(df.shape)\n",
    "print(mat.shape)\n"
   ]
  },
  {
   "cell_type": "code",
   "execution_count": 10,
   "metadata": {},
   "outputs": [],
   "source": [
    "for subject in df.participant.unique():\n",
    "    ind = df.participant.isin([subject])\n",
    "    temp_df = df[ind].reset_index(drop=True).copy()\n",
    "\n",
    "    side = temp_df.target_muscle.unique()[0][0]\n",
    "    pkpk_sided_muscles = [\"PKPK_\" + side + m for m in MUSCLES]\n",
    "    auc_sided_muscles = [\"AUC_\" + side + m for m in MUSCLES]\n",
    "\n",
    "    assert (temp_df[PKPK_MUSCLES].to_numpy() == temp_df[pkpk_sided_muscles].to_numpy()).all()\n",
    "    assert (temp_df[AUC_MUSCLES].to_numpy() == temp_df[auc_sided_muscles].to_numpy()).all()\n"
   ]
  },
  {
   "cell_type": "code",
   "execution_count": 11,
   "metadata": {},
   "outputs": [
    {
     "name": "stdout",
     "output_type": "stream",
     "text": [
      "data /home/vishu/data/hbmep-processed/human/tms/proc_2024-06-08.csv\n",
      "mat /home/vishu/data/hbmep-processed/human/tms/proc_2024-06-08.npy\n"
     ]
    }
   ],
   "source": [
    "dir = \"/home/vishu/data/hbmep-processed/human/tms\"\n",
    "\n",
    "dest = os.path.join(dir, \"proc_2024-06-08.csv\")\n",
    "df.to_csv(dest, index=False)\n",
    "print(\"data\", dest)\n",
    "\n",
    "dest = os.path.join(dir, \"proc_2024-06-08.npy\")\n",
    "np.save(dest, mat)\n",
    "print(\"mat\", dest)\n"
   ]
  },
  {
   "cell_type": "code",
   "execution_count": 12,
   "metadata": {},
   "outputs": [],
   "source": [
    "import json\n",
    "\n",
    "dest = os.path.join(dir, \"pkpk_muscles_map.json\")\n",
    "f = open(dest, \"w\")\n",
    "f.write(json.dumps(pkpk_muscles_map))\n",
    "f.close;\n",
    "\n",
    "dest = os.path.join(dir, \"auc_muscles_map.json\")\n",
    "f = open(dest, \"w\")\n",
    "f.write(json.dumps(auc_muscles_map))\n",
    "f.close;\n"
   ]
  },
  {
   "cell_type": "code",
   "execution_count": 13,
   "metadata": {},
   "outputs": [
    {
     "data": {
      "text/plain": [
       "{'pkpk_1': 'PKPK_LBiceps',\n",
       " 'pkpk_2': 'PKPK_LTriceps',\n",
       " 'pkpk_3': 'PKPK_LFCR',\n",
       " 'pkpk_4': 'PKPK_LECR',\n",
       " 'pkpk_5': 'PKPK_LAPB',\n",
       " 'pkpk_6': 'PKPK_LADM',\n",
       " 'pkpk_7': 'PKPK_LFDI',\n",
       " 'pkpk_8': 'PKPK_RBiceps',\n",
       " 'pkpk_9': 'PKPK_RTriceps',\n",
       " 'pkpk_10': 'PKPK_RFCR',\n",
       " 'pkpk_11': 'PKPK_RECR',\n",
       " 'pkpk_12': 'PKPK_RAPB',\n",
       " 'pkpk_13': 'PKPK_RADM',\n",
       " 'pkpk_14': 'PKPK_RFDI',\n",
       " 'pkpk_15': 'PKPK_trigger_tscs',\n",
       " 'pkpk_16': 'PKPK_trigger_peripheral',\n",
       " 'pkpk_17': 'PKPK_trigger_tms'}"
      ]
     },
     "execution_count": 13,
     "metadata": {},
     "output_type": "execute_result"
    }
   ],
   "source": [
    "pkpk_muscles_map\n"
   ]
  },
  {
   "cell_type": "code",
   "execution_count": 14,
   "metadata": {},
   "outputs": [
    {
     "data": {
      "text/plain": [
       "{'auc_1': 'AUC_LBiceps',\n",
       " 'auc_2': 'AUC_LTriceps',\n",
       " 'auc_3': 'AUC_LFCR',\n",
       " 'auc_4': 'AUC_LECR',\n",
       " 'auc_5': 'AUC_LAPB',\n",
       " 'auc_6': 'AUC_LADM',\n",
       " 'auc_7': 'AUC_LFDI',\n",
       " 'auc_8': 'AUC_RBiceps',\n",
       " 'auc_9': 'AUC_RTriceps',\n",
       " 'auc_10': 'AUC_RFCR',\n",
       " 'auc_11': 'AUC_RECR',\n",
       " 'auc_12': 'AUC_RAPB',\n",
       " 'auc_13': 'AUC_RADM',\n",
       " 'auc_14': 'AUC_RFDI',\n",
       " 'auc_15': 'AUC_trigger_tscs',\n",
       " 'auc_16': 'AUC_trigger_peripheral',\n",
       " 'auc_17': 'AUC_trigger_tms'}"
      ]
     },
     "execution_count": 14,
     "metadata": {},
     "output_type": "execute_result"
    }
   ],
   "source": [
    "auc_muscles_map"
   ]
  },
  {
   "cell_type": "code",
   "execution_count": 15,
   "metadata": {},
   "outputs": [
    {
     "name": "stderr",
     "output_type": "stream",
     "text": [
      "ERROR:root:ERROR: MATLAB type not supported: string, (uint32)\n",
      "ERROR:root:ERROR: MATLAB type not supported: string, (uint32)\n",
      "ERROR:root:ERROR: MATLAB type not supported: string, (uint32)\n",
      "ERROR:root:ERROR: MATLAB type not supported: string, (uint32)\n"
     ]
    },
    {
     "name": "stdout",
     "output_type": "stream",
     "text": [
      "-0.25 0.25\n"
     ]
    }
   ],
   "source": [
    "src = \"/mount/hdd1/human_non-inv/proc/proc_2024-06-06/custom-visit-TMS-REC/SCA01/SCA01_V1T0_TMS_REC_ep_matrix.mat\"\n",
    "data_dict = mat73.loadmat(src)\n",
    "\n",
    "t = data_dict[\"t_sliced\"]\n",
    "print(t.min(), t.max())\n"
   ]
  },
  {
   "cell_type": "code",
   "execution_count": 16,
   "metadata": {},
   "outputs": [
    {
     "data": {
      "text/plain": [
       "True"
      ]
     },
     "execution_count": 16,
     "metadata": {},
     "output_type": "execute_result"
    }
   ],
   "source": [
    "sorted(MUSCLES) == MUSCLES\n"
   ]
  },
  {
   "cell_type": "code",
   "execution_count": 17,
   "metadata": {},
   "outputs": [
    {
     "data": {
      "text/plain": [
       "(1843, 2501, 6)"
      ]
     },
     "execution_count": 17,
     "metadata": {},
     "output_type": "execute_result"
    }
   ],
   "source": [
    "mat.shape"
   ]
  },
  {
   "cell_type": "code",
   "execution_count": 18,
   "metadata": {},
   "outputs": [
    {
     "data": {
      "text/plain": [
       "(1843, 139)"
      ]
     },
     "execution_count": 18,
     "metadata": {},
     "output_type": "execute_result"
    }
   ],
   "source": [
    "df.shape\n"
   ]
  },
  {
   "cell_type": "code",
   "execution_count": null,
   "metadata": {},
   "outputs": [],
   "source": []
  }
 ],
 "metadata": {
  "kernelspec": {
   "display_name": "Python 3 (ipykernel)",
   "language": "python",
   "name": "python3"
  },
  "language_info": {
   "codemirror_mode": {
    "name": "ipython",
    "version": 3
   },
   "file_extension": ".py",
   "mimetype": "text/x-python",
   "name": "python",
   "nbconvert_exporter": "python",
   "pygments_lexer": "ipython3",
   "version": "3.11.9"
  },
  "orig_nbformat": 4,
  "vscode": {
   "interpreter": {
    "hash": "850bfd4e6f5ddd996dd5cd5088beecd08558625e274540230e1444ec52025b11"
   }
  }
 },
 "nbformat": 4,
 "nbformat_minor": 2
}
