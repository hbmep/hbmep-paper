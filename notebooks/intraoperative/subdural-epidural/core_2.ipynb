{
 "cells": [
  {
   "cell_type": "code",
   "execution_count": 1,
   "metadata": {},
   "outputs": [],
   "source": [
    "%reload_ext autoreload\n",
    "%autoreload 2\n",
    "\n",
    "import os\n",
    "import pickle\n",
    "import logging\n",
    "import multiprocessing\n",
    "from pathlib import Path\n",
    "\n",
    "import pandas as pd\n",
    "import numpy as np\n",
    "import jax\n",
    "import jax.numpy as jnp\n",
    "\n",
    "import arviz as az\n",
    "import numpyro\n",
    "\n",
    "from hbmep.config import Config\n",
    "from hbmep.model.utils import Site as site\n",
    "\n",
    "from hbmep_paper.utils import load_intraoperative_data\n",
    "\n",
    "\n",
    "PLATFORM = \"cpu\"\n",
    "jax.config.update(\"jax_platforms\", PLATFORM)\n",
    "numpyro.set_platform(PLATFORM)\n",
    "\n",
    "cpu_count = multiprocessing.cpu_count() - 2\n",
    "numpyro.set_host_device_count(cpu_count)\n",
    "numpyro.enable_x64()\n",
    "numpyro.enable_validation()\n",
    "\n",
    "logger = logging.getLogger(__name__)\n"
   ]
  },
  {
   "cell_type": "code",
   "execution_count": 2,
   "metadata": {},
   "outputs": [],
   "source": [
    "import numpyro.distributions as dist\n",
    "from hbmep.model import BaseModel\n",
    "\n",
    "\n",
    "class MixtureModel(BaseModel):\n",
    "    LINK = \"mixture_model\"\n",
    "\n",
    "    def __init__(self, config: Config):\n",
    "        super(MixtureModel, self).__init__(config=config)\n",
    "        self.combination_columns =  self.features[::-1] + [self.subject]\n",
    "\n",
    "    def fn(self, x, a, b, v, L, ell, H):\n",
    "        return (\n",
    "            L\n",
    "            + jnp.where(\n",
    "                jnp.less(x, a),\n",
    "                0.,\n",
    "                -ell + jnp.true_divide(\n",
    "                    H + ell,\n",
    "                    jnp.power(\n",
    "                        1\n",
    "                        + jnp.multiply(\n",
    "                            -1\n",
    "                            + jnp.power(\n",
    "                                jnp.true_divide(H + ell, ell),\n",
    "                                v\n",
    "                            ),\n",
    "                            jnp.exp(jnp.multiply(-b, x - a))\n",
    "                        ),\n",
    "                        jnp.true_divide(1, v)\n",
    "                    )\n",
    "                )\n",
    "            )\n",
    "        )\n",
    "\n",
    "    def _model(self, subject, features, intensity, response_obs=None):\n",
    "        subject, n_subject = subject\n",
    "        features, n_features = features\n",
    "        intensity, n_data = intensity\n",
    "\n",
    "        intensity = intensity.reshape(-1, 1)\n",
    "        intensity = np.tile(intensity, (1, self.n_response))\n",
    "\n",
    "        feature0 = features[0].reshape(-1,)\n",
    "        n_feature0 = n_features[0]\n",
    "\n",
    "        feature1 = features[1].reshape(-1,)\n",
    "        n_feature1 = n_features[1]\n",
    "\n",
    "        with numpyro.plate(site.n_response, self.n_response):\n",
    "            with numpyro.plate(\"n_feature1\", n_feature1):\n",
    "                with numpyro.plate(\"n_feature0\", n_feature0):\n",
    "                    with numpyro.plate(site.n_subject, n_subject):\n",
    "                        \"\"\" Priors \"\"\"\n",
    "                        a = numpyro.sample(\"a\", dist.TruncatedNormal(5, 10, low=0))\n",
    "                        b = numpyro.sample(site.b, dist.HalfNormal(scale=10))\n",
    "                        v = numpyro.sample(site.v, dist.HalfNormal(scale=10))\n",
    "\n",
    "                        L = numpyro.sample(site.L, dist.HalfNormal(scale=1))\n",
    "                        ell = numpyro.sample(\"ell\", dist.HalfNormal(scale=10))\n",
    "                        H = numpyro.sample(site.H, dist.HalfNormal(scale=10))\n",
    "\n",
    "                        g_1 = numpyro.sample(site.g_1, dist.HalfCauchy(scale=5))\n",
    "                        g_2 = numpyro.sample(site.g_2, dist.HalfCauchy(scale=5))\n",
    "\n",
    "        \"\"\" Outlier Distribution \"\"\"\n",
    "        outlier_prob = numpyro.sample(\"outlier_prob\", dist.Uniform(0., .005))\n",
    "        outlier_scale = numpyro.sample(\"outlier_scale\", dist.HalfNormal(10))\n",
    "\n",
    "        with numpyro.plate(site.n_response, self.n_response):\n",
    "            with numpyro.plate(site.n_data, n_data):\n",
    "                \"\"\" Model \"\"\"\n",
    "                mu = numpyro.deterministic(\n",
    "                    site.mu,\n",
    "                    self.fn(\n",
    "                        x=intensity,\n",
    "                        a=a[subject, feature0, feature1],\n",
    "                        b=b[subject, feature0, feature1],\n",
    "                        v=v[subject, feature0, feature1],\n",
    "                        L=L[subject, feature0, feature1],\n",
    "                        ell=ell[subject, feature0, feature1],\n",
    "                        H=H[subject, feature0, feature1]\n",
    "                    )\n",
    "                )\n",
    "                beta = numpyro.deterministic(\n",
    "                    site.beta,\n",
    "                    g_1[subject, feature0, feature1] + jnp.true_divide(g_2[subject, feature0, feature1], mu)\n",
    "                )\n",
    "\n",
    "                q = numpyro.deterministic(\"q\", outlier_prob * jnp.ones((n_data, self.n_response)))\n",
    "                bg_scale = numpyro.deterministic(\"bg_scale\", outlier_scale * jnp.ones((n_data, self.n_response)))\n",
    "\n",
    "                mixing_distribution = dist.Categorical(\n",
    "                    probs=jnp.stack([1 - q, q], axis=-1)\n",
    "                )\n",
    "                component_distributions=[\n",
    "                    dist.Gamma(concentration=jnp.multiply(mu, beta), rate=beta),\n",
    "                    dist.HalfNormal(scale=bg_scale)\n",
    "                ]\n",
    "\n",
    "                \"\"\" Mixture \"\"\"\n",
    "                Mixture = dist.MixtureGeneral(\n",
    "                    mixing_distribution=mixing_distribution,\n",
    "                    component_distributions=component_distributions\n",
    "                )\n",
    "\n",
    "                \"\"\" Observation \"\"\"\n",
    "                numpyro.sample(\n",
    "                    site.obs,\n",
    "                    Mixture,\n",
    "                    obs=response_obs\n",
    "                )\n"
   ]
  },
  {
   "cell_type": "code",
   "execution_count": 3,
   "metadata": {},
   "outputs": [
    {
     "name": "stderr",
     "output_type": "stream",
     "text": [
      "2023-11-28 14:10:10,638 - hbmep.config - INFO - Verifying configuration ...\n",
      "2023-11-28 14:10:10,638 - hbmep.config - INFO - Success!\n",
      "2023-11-28 14:10:10,663 - hbmep.model.baseline - INFO - Initialized base_model\n"
     ]
    }
   ],
   "source": [
    "toml_path = \"/home/vishu/repos/hbmep-paper/configs/paper/intraoperative/config.toml\"\n",
    "\n",
    "config = Config(toml_path=toml_path)\n",
    "config.BUILD_DIR = os.path.join(config.BUILD_DIR, \"subdural-epidural\", \"core_2\")\n",
    "config.FEATURES = [\"sc_depth\", \"sc_laterality\"]\n",
    "config.RESPONSE = [\"Triceps\", \"APB\", \"ADM\"]\n",
    "config.MCMC_PARAMS[\"num_chains\"] = 4\n",
    "# config.RESPONSE = [\"Triceps\"]\n",
    "\n",
    "\n",
    "config.MCMC_PARAMS[\"num_warmup\"] = 3000\n",
    "config.MCMC_PARAMS[\"num_samples\"] = 1000\n",
    "\n",
    "model = MixtureModel(config=config)\n"
   ]
  },
  {
   "cell_type": "code",
   "execution_count": 4,
   "metadata": {},
   "outputs": [
    {
     "name": "stderr",
     "output_type": "stream",
     "text": [
      "2023-11-28 14:10:10,795 - hbmep.utils.utils - INFO - func:load_intraoperative_data took: 0.04 sec\n",
      "2023-11-28 14:10:10,796 - hbmep.dataset.core - INFO - Artefacts will be stored here - /home/vishu/repos/hbmep-paper/reports/paper/intraoperative/subdural-epidural/core_2\n",
      "2023-11-28 14:10:10,797 - hbmep.dataset.core - INFO - Copied config to /home/vishu/repos/hbmep-paper/reports/paper/intraoperative/subdural-epidural/core_2\n",
      "2023-11-28 14:10:10,797 - hbmep.dataset.core - INFO - Processing data ...\n",
      "2023-11-28 14:10:10,798 - hbmep.utils.utils - INFO - func:load took: 0.00 sec\n"
     ]
    },
    {
     "data": {
      "text/plain": [
       "(188, 229)"
      ]
     },
     "execution_count": 4,
     "metadata": {},
     "output_type": "execute_result"
    }
   ],
   "source": [
    "dir = \"/home/vishu/data/\"\n",
    "sc_approach = \"posterior\"\n",
    "df = load_intraoperative_data(dir=dir, sc_approach=sc_approach, subdural_epidural_only=True)\n",
    "\n",
    "df[model.features[0]] = df[model.features[0]].replace({\"epidural\": \"01_epidural\", \"subdural\": \"02_subdural\"})\n",
    "df[model.features[1]] = df[model.features[1]].replace({\"R\": \"01_R\", \"M\": \"02_M\"})\n",
    "\n",
    "df, encoder_dict = model.load(df=df)\n",
    "\n",
    "df.shape\n"
   ]
  },
  {
   "cell_type": "code",
   "execution_count": 5,
   "metadata": {},
   "outputs": [
    {
     "name": "stderr",
     "output_type": "stream",
     "text": [
      "2023-11-28 14:10:11,152 - hbmep.model.baseline - INFO - Running inference with base_model ...\n"
     ]
    },
    {
     "data": {
      "application/vnd.jupyter.widget-view+json": {
       "model_id": "80057aff03304c709c63a881a52e3c8c",
       "version_major": 2,
       "version_minor": 0
      },
      "text/plain": [
       "  0%|          | 0/4000 [00:00<?, ?it/s]"
      ]
     },
     "metadata": {},
     "output_type": "display_data"
    },
    {
     "data": {
      "application/vnd.jupyter.widget-view+json": {
       "model_id": "8ab554fb0bbf43fe80f54d2185302a98",
       "version_major": 2,
       "version_minor": 0
      },
      "text/plain": [
       "  0%|          | 0/4000 [00:00<?, ?it/s]"
      ]
     },
     "metadata": {},
     "output_type": "display_data"
    },
    {
     "data": {
      "application/vnd.jupyter.widget-view+json": {
       "model_id": "dcba39f40e9748d9925317f217efc170",
       "version_major": 2,
       "version_minor": 0
      },
      "text/plain": [
       "  0%|          | 0/4000 [00:00<?, ?it/s]"
      ]
     },
     "metadata": {},
     "output_type": "display_data"
    },
    {
     "data": {
      "application/vnd.jupyter.widget-view+json": {
       "model_id": "084656e2911a4ca984afbffa384bb14c",
       "version_major": 2,
       "version_minor": 0
      },
      "text/plain": [
       "  0%|          | 0/4000 [00:00<?, ?it/s]"
      ]
     },
     "metadata": {},
     "output_type": "display_data"
    }
   ],
   "source": [
    "mcmc, posterior_samples = model.run_inference(df=df)\n"
   ]
  },
  {
   "cell_type": "code",
   "execution_count": 7,
   "metadata": {},
   "outputs": [
    {
     "name": "stderr",
     "output_type": "stream",
     "text": [
      "2023-11-28 13:56:13,775 - hbmep.utils.utils - INFO - func:make_prediction_dataset took: 0.00 sec\n"
     ]
    },
    {
     "name": "stderr",
     "output_type": "stream",
     "text": [
      "2023-11-28 13:56:21,135 - hbmep.utils.utils - INFO - func:predict took: 7.36 sec\n",
      "2023-11-28 13:56:21,137 - hbmep.model.baseline - INFO - Rendering recruitment curves ...\n",
      "2023-11-28 13:56:23,748 - hbmep.model.baseline - INFO - Saved to /home/vishu/repos/hbmep-paper/reports/paper/intraoperative/subdural-epidural/core_2/recruitment_curves.pdf\n",
      "2023-11-28 13:56:23,749 - hbmep.utils.utils - INFO - func:render_recruitment_curves took: 2.61 sec\n",
      "2023-11-28 13:56:23,749 - hbmep.model.baseline - INFO - Rendering posterior predictive checks ...\n",
      "2023-11-28 13:56:28,236 - hbmep.model.baseline - INFO - Saved to /home/vishu/repos/hbmep-paper/reports/paper/intraoperative/subdural-epidural/core_2/posterior_predictive_check.pdf\n",
      "2023-11-28 13:56:28,236 - hbmep.utils.utils - INFO - func:predictive_checks_renderer took: 4.49 sec\n",
      "2023-11-28 13:56:28,237 - hbmep.utils.utils - INFO - func:render_predictive_check took: 4.49 sec\n"
     ]
    }
   ],
   "source": [
    "_posterior_samples = posterior_samples.copy()\n",
    "_posterior_samples[\"outlier_prob\"] = _posterior_samples[\"outlier_prob\"] * 0\n",
    "# _posterior_samples = {\n",
    "#     u: v[:1000, ...] for u, v in _posterior_samples.items()\n",
    "# }\n",
    "\n",
    "prediction_df = model.make_prediction_dataset(df=df)\n",
    "posterior_predictive = model.predict(df=prediction_df, posterior_samples=_posterior_samples)\n",
    "\n",
    "model.render_recruitment_curves(df=df, encoder_dict=encoder_dict, posterior_samples=_posterior_samples, prediction_df=prediction_df, posterior_predictive=posterior_predictive)\n",
    "model.render_predictive_check(df=df, encoder_dict=encoder_dict, prediction_df=prediction_df, posterior_predictive=posterior_predictive)\n"
   ]
  },
  {
   "cell_type": "code",
   "execution_count": 13,
   "metadata": {},
   "outputs": [
    {
     "data": {
      "text/plain": [
       "Text(0.5, 0.98, 'ADM')"
      ]
     },
     "execution_count": 13,
     "metadata": {},
     "output_type": "execute_result"
    },
    {
     "data": {
      "image/png": "[encoded data removed]",
      "text/plain": [
       "<Figure size 900x450 with 9 Axes>"
      ]
     },
     "metadata": {},
     "output_type": "display_data"
    }
   ],
   "source": [
    "start = 0\n",
    "end = start + 1000\n",
    "\n",
    "a = posterior_samples[site.a]\n",
    "# a = posterior_samples[site.a][start:end, ...]\n",
    "\n",
    "a.shape\n",
    "\n",
    "import matplotlib.pyplot as plt\n",
    "import seaborn as sns\n",
    "\n",
    "\n",
    "nrows, ncols = 3, 3\n",
    "fig, axes = plt.subplots(nrows=nrows, ncols=ncols, figsize=(3 * ncols, 1.5 * nrows), squeeze=False, constrained_layout=True)\n",
    "\n",
    "muscle_ind = 2\n",
    "c = [(0, 0, 0), (0, 0, 1), (0, 1, 0), (0, 1, 1)]\n",
    "\n",
    "counter = 0\n",
    "for _ in range(nrows * ncols):\n",
    "    i, j = counter // ncols, counter % ncols\n",
    "    ax = axes[i, j]\n",
    "\n",
    "    if i in {0, 1} and j < 2:\n",
    "        sns.kdeplot(a[:, 0, i, j, muscle_ind], ax=ax, cut=0)\n",
    "        c_inv = []\n",
    "        c_inv.append(encoder_dict[model.features[0]].inverse_transform([i])[0][3:])\n",
    "        c_inv.append(encoder_dict[model.features[1]].inverse_transform([j])[0][3:])\n",
    "        c_inv = \", \".join(c_inv)\n",
    "        ax.set_title(c_inv)\n",
    "    counter += 1\n",
    "\n",
    "    if i in {0, 1} and j == 2:\n",
    "        samples = a[:, 0, i, 1, muscle_ind] - a[:, 0, i, 0, muscle_ind]\n",
    "        sns.kdeplot(samples, ax=ax)\n",
    "        prob = (samples > 0).mean()\n",
    "        ax.set_title(f\"$Pr($M - L $> 0) = ${prob:.2f}\")\n",
    "\n",
    "    if i == 2 and j in {0, 1}:\n",
    "        ax = axes[i, j]\n",
    "        samples = a[:, 0, 0, j, muscle_ind] - a[:, 0, 1, j, muscle_ind]\n",
    "        sns.kdeplot(samples, ax=ax)\n",
    "        prob = (samples > 0).mean()\n",
    "        ax.set_title(f\"$Pr($Epidural - Subdural $> 0) = ${prob:.2f}\")\n",
    "\n",
    "\n",
    "fig.suptitle(f\"{model.response[muscle_ind]}\")\n"
   ]
  },
  {
   "cell_type": "code",
   "execution_count": 1,
   "metadata": {},
   "outputs": [
    {
     "ename": "NameError",
     "evalue": "name 'model' is not defined",
     "output_type": "error",
     "traceback": [
      "\u001b[0;31m---------------------------------------------------------------------------\u001b[0m",
      "\u001b[0;31mNameError\u001b[0m                                 Traceback (most recent call last)",
      "\u001b[1;32m/home/vishu/repos/hbmep-paper/notebooks/paper/intraoperative/subdural-epidural/core.ipynb Cell 8\u001b[0m line \u001b[0;36m1\n\u001b[0;32m----> <a href='vscode-notebook-cell://ssh-remote%2Bcumc00/home/vishu/repos/hbmep-paper/notebooks/paper/intraoperative/subdural-epidural/core.ipynb#X16sdnNjb2RlLXJlbW90ZQ%3D%3D?line=0'>1</a>\u001b[0m combinations \u001b[39m=\u001b[39m model\u001b[39m.\u001b[39m_make_combinations(df\u001b[39m=\u001b[39mdf, columns\u001b[39m=\u001b[39mmodel\u001b[39m.\u001b[39mcombination_columns)\n",
      "\u001b[0;31mNameError\u001b[0m: name 'model' is not defined"
     ]
    }
   ],
   "source": [
    "combinations = model._make_combinations(df=df, columns=model.combination_columns)\n"
   ]
  },
  {
   "cell_type": "code",
   "execution_count": 2,
   "metadata": {},
   "outputs": [
    {
     "ename": "NameError",
     "evalue": "name 'a' is not defined",
     "output_type": "error",
     "traceback": [
      "\u001b[0;31m---------------------------------------------------------------------------\u001b[0m",
      "\u001b[0;31mNameError\u001b[0m                                 Traceback (most recent call last)",
      "\u001b[1;32m/home/vishu/repos/hbmep-paper/notebooks/paper/intraoperative/subdural-epidural/core.ipynb Cell 9\u001b[0m line \u001b[0;36m1\n\u001b[0;32m----> <a href='vscode-notebook-cell://ssh-remote%2Bcumc00/home/vishu/repos/hbmep-paper/notebooks/paper/intraoperative/subdural-epidural/core.ipynb#X15sdnNjb2RlLXJlbW90ZQ%3D%3D?line=0'>1</a>\u001b[0m a\n",
      "\u001b[0;31mNameError\u001b[0m: name 'a' is not defined"
     ]
    }
   ],
   "source": [
    "a"
   ]
  },
  {
   "cell_type": "code",
   "execution_count": 12,
   "metadata": {},
   "outputs": [
    {
     "name": "stderr",
     "output_type": "stream",
     "text": [
      "2023-11-21 09:23:06,092 - __main__ - INFO - Evaluating model ...\n",
      "/home/vishu/repos/hbmep-paper/.venv/lib/python3.11/site-packages/arviz/stats/stats.py:803: UserWarning: Estimated shape parameter of Pareto distribution is greater than 0.7 for one or more samples. You should consider using a more robust model, this is because importance sampling is less likely to work well if the marginal posterior and LOO posterior are very different. This is more likely to happen with a non-robust model and highly influential observations.\n",
      "  warnings.warn(\n",
      "2023-11-21 09:23:06,335 - __main__ - INFO - ELPD LOO (Log): 599.84\n",
      "/home/vishu/repos/hbmep-paper/.venv/lib/python3.11/site-packages/arviz/stats/stats.py:1645: UserWarning: For one or more samples the posterior variance of the log predictive densities exceeds 0.4. This could be indication of WAIC starting to fail. \n",
      "See http://arxiv.org/abs/1507.04544 for details\n",
      "  warnings.warn(\n",
      "2023-11-21 09:23:06,362 - __main__ - INFO - ELPD WAIC (Log): 612.22\n"
     ]
    }
   ],
   "source": [
    "numpyro_data = az.from_numpyro(mcmc)\n",
    "\n",
    "\"\"\" Model evaluation \"\"\"\n",
    "logger.info(\"Evaluating model ...\")\n",
    "\n",
    "score = az.loo(numpyro_data, var_name=site.obs)\n",
    "logger.info(f\"ELPD LOO (Log): {score.elpd_loo:.2f}\")\n",
    "\n",
    "score = az.waic(numpyro_data, var_name=site.obs)\n",
    "logger.info(f\"ELPD WAIC (Log): {score.elpd_waic:.2f}\")\n"
   ]
  },
  {
   "cell_type": "code",
   "execution_count": 13,
   "metadata": {},
   "outputs": [],
   "source": [
    "import pickle\n",
    "\n",
    "dest = os.path.join(model.build_dir, \"inference.pkl\")\n",
    "with open(dest, \"wb\") as f:\n",
    "    pickle.dump((model, mcmc, posterior_samples), f)\n"
   ]
  },
  {
   "cell_type": "code",
   "execution_count": 14,
   "metadata": {},
   "outputs": [
    {
     "data": {
      "text/plain": [
       "'/home/vishu/repos/hbmep-paper/reports/paper/intraoperative/subdural-epidural/inference.pkl'"
      ]
     },
     "execution_count": 14,
     "metadata": {},
     "output_type": "execute_result"
    }
   ],
   "source": [
    "os.path.join(model.build_dir, \"inference.pkl\")"
   ]
  },
  {
   "cell_type": "code",
   "execution_count": 15,
   "metadata": {},
   "outputs": [
    {
     "data": {
      "text/plain": [
       "'/home/vishu/repos/hbmep-paper/reports/paper/intraoperative/subdural-epidural/inference.nc'"
      ]
     },
     "execution_count": 15,
     "metadata": {},
     "output_type": "execute_result"
    }
   ],
   "source": [
    "dest = os.path.join(model.build_dir, \"inference.nc\")\n",
    "az.to_netcdf(mcmc, dest)\n"
   ]
  },
  {
   "cell_type": "code",
   "execution_count": 11,
   "metadata": {},
   "outputs": [
    {
     "name": "stdout",
     "output_type": "stream",
     "text": [
      "\n",
      "                               mean       std    median      5.0%     95.0%     n_eff     r_hat\n",
      "           H_raw[0,0,0,0]      0.77      0.49      0.65      0.11      1.47    972.44      1.00\n",
      "           H_raw[0,0,0,1]      1.48      0.58      1.41      0.56      2.35   1238.93      1.00\n",
      "           H_raw[0,0,0,2]      1.66      0.57      1.59      0.73      2.48    962.07      1.00\n",
      "           H_raw[0,0,1,0]      0.61      0.53      0.45      0.00      1.38   1219.58      1.00\n",
      "           H_raw[0,0,1,1]      0.86      0.56      0.75      0.09      1.68   1069.98      1.00\n",
      "           H_raw[0,0,1,2]      0.74      0.56      0.59      0.02      1.55   1261.13      1.00\n",
      "           H_raw[0,1,0,0]      1.10      0.56      1.00      0.24      1.93    773.90      1.00\n",
      "           H_raw[0,1,0,1]      1.62      0.56      1.56      0.71      2.46    957.57      1.00\n",
      "           H_raw[0,1,0,2]      1.85      0.56      1.79      1.01      2.78    943.21      1.00\n",
      "           H_raw[0,1,1,0]      0.92      0.60      0.80      0.09      1.80   1082.30      1.00\n",
      "           H_raw[0,1,1,1]      0.74      0.59      0.65      0.00      1.55   1049.11      1.00\n",
      "           H_raw[0,1,1,2]      0.49      0.52      0.30      0.00      1.29    892.40      1.01\n",
      "  H_scale_global_scale[0]      5.01      2.56      4.50      1.29      8.85    763.46      1.00\n",
      "  H_scale_global_scale[1]      9.91      2.81      9.70      5.56     14.52    986.45      1.00\n",
      "  H_scale_global_scale[2]     10.92      2.78     10.65      6.73     15.67    919.85      1.00\n",
      "       H_scale_raw[0,0,0]      0.78      0.49      0.69      0.12      1.51   1074.18      1.00\n",
      "       H_scale_raw[0,0,1]      1.47      0.59      1.39      0.54      2.35   1141.14      1.00\n",
      "       H_scale_raw[0,0,2]      1.65      0.58      1.57      0.70      2.52    975.29      1.00\n",
      "       H_scale_raw[0,1,0]      0.62      0.53      0.48      0.01      1.38   1086.22      1.00\n",
      "       H_scale_raw[0,1,1]      0.89      0.55      0.79      0.11      1.67   1308.97      1.00\n",
      "       H_scale_raw[0,1,2]      0.74      0.58      0.59      0.02      1.57   1276.97      1.00\n",
      "       H_scale_raw[1,0,0]      1.12      0.58      1.04      0.27      1.97   1199.45      1.00\n",
      "       H_scale_raw[1,0,1]      1.62      0.54      1.55      0.73      2.43    893.79      1.00\n",
      "       H_scale_raw[1,0,2]      1.88      0.56      1.82      1.00      2.72    915.60      1.00\n",
      "       H_scale_raw[1,1,0]      0.95      0.55      0.86      0.10      1.75   1404.82      1.00\n",
      "       H_scale_raw[1,1,1]      0.72      0.61      0.57      0.00      1.57   1482.63      1.00\n",
      "       H_scale_raw[1,1,2]      0.47      0.55      0.23      0.00      1.27    692.82      1.00\n",
      "           L_raw[0,0,0,0]      0.86      0.49      0.75      0.17      1.55   1091.50      1.00\n",
      "           L_raw[0,0,0,1]      0.98      0.56      0.89      0.13      1.80   1001.23      1.00\n",
      "           L_raw[0,0,0,2]      0.77      0.51      0.65      0.08      1.51    736.60      1.00\n",
      "           L_raw[0,0,1,0]      0.86      0.51      0.74      0.14      1.60    692.18      1.00\n",
      "           L_raw[0,0,1,1]      0.71      0.48      0.60      0.07      1.40    971.77      1.00\n",
      "           L_raw[0,0,1,2]      0.71      0.48      0.60      0.08      1.38   1097.36      1.00\n",
      "           L_raw[0,1,0,0]      0.87      0.49      0.77      0.15      1.56    929.73      1.00\n",
      "           L_raw[0,1,0,1]      0.77      0.49      0.66      0.09      1.48   1078.29      1.00\n",
      "           L_raw[0,1,0,2]      0.76      0.50      0.65      0.07      1.49   1015.28      1.00\n",
      "           L_raw[0,1,1,0]      0.90      0.50      0.80      0.18      1.64    960.00      1.00\n",
      "           L_raw[0,1,1,1]      0.70      0.49      0.58      0.06      1.41    928.02      1.00\n",
      "           L_raw[0,1,1,2]      0.76      0.51      0.62      0.07      1.50    827.74      1.00\n",
      "  L_scale_global_scale[0]      0.41      0.20      0.37      0.12      0.71    704.82      1.00\n",
      "  L_scale_global_scale[1]      0.26      0.17      0.22      0.04      0.49    745.68      1.00\n",
      "  L_scale_global_scale[2]      0.21      0.16      0.17      0.04      0.42    635.33      1.00\n",
      "       L_scale_raw[0,0,0]      0.87      0.48      0.78      0.19      1.59    924.10      1.00\n",
      "       L_scale_raw[0,0,1]      0.94      0.55      0.83      0.17      1.79    799.61      1.00\n",
      "       L_scale_raw[0,0,2]      0.80      0.51      0.68      0.08      1.54    729.28      1.00\n",
      "       L_scale_raw[0,1,0]      0.86      0.51      0.74      0.15      1.61    941.38      1.00\n",
      "       L_scale_raw[0,1,1]      0.71      0.49      0.59      0.09      1.46   1128.29      1.00\n",
      "       L_scale_raw[0,1,2]      0.76      0.50      0.66      0.07      1.47    928.98      1.00\n",
      "       L_scale_raw[1,0,0]      0.84      0.49      0.74      0.15      1.56    887.50      1.00\n",
      "       L_scale_raw[1,0,1]      0.79      0.50      0.69      0.09      1.48   1045.17      1.00\n",
      "       L_scale_raw[1,0,2]      0.71      0.48      0.62      0.06      1.38    964.86      1.00\n",
      "       L_scale_raw[1,1,0]      0.85      0.50      0.74      0.15      1.57    961.27      1.00\n",
      "       L_scale_raw[1,1,1]      0.69      0.49      0.58      0.06      1.37    955.23      1.00\n",
      "       L_scale_raw[1,1,2]      0.73      0.49      0.61      0.05      1.44   1051.47      1.00\n",
      "               a[0,0,0,0]      2.53      0.10      2.51      2.39      2.67    765.06      1.00\n",
      "               a[0,0,0,1]      2.26      0.40      2.30      1.62      2.87    146.67      1.00\n",
      "               a[0,0,0,2]      1.76      0.38      1.75      1.31      2.35    248.63      1.00\n",
      "               a[0,0,1,0]      4.69      0.79      4.75      3.49      5.90    756.73      1.00\n",
      "               a[0,0,1,1]      5.76      0.27      5.83      5.65      5.95    295.60      1.00\n",
      "               a[0,0,1,2]      5.87      0.14      5.92      5.75      5.98     98.27      1.03\n",
      "               a[0,1,0,0]      1.28      0.20      1.26      0.99      1.58    887.18      1.00\n",
      "               a[0,1,0,1]      1.25      0.18      1.22      0.99      1.53    920.50      1.00\n",
      "               a[0,1,0,2]      1.23      0.17      1.20      1.00      1.48    766.73      1.00\n",
      "               a[0,1,1,0]      2.40      0.42      2.50      1.82      2.91    186.01      1.00\n",
      "               a[0,1,1,1]     12.05      9.62      9.81      1.90     24.90    184.48      1.01\n",
      "               a[0,1,1,2]      2.05      0.35      2.13      1.59      2.56    179.94      1.01\n",
      "            a_mean[0,0,0]      4.55      3.95      3.17      0.00     10.16   1382.36      1.00\n",
      "            a_mean[0,0,1]      4.47      3.98      3.16      0.01     10.03   1420.26      1.00\n",
      "            a_mean[0,0,2]      4.53      4.20      3.17      0.00     10.30   1322.76      1.00\n",
      "            a_mean[0,1,0]      5.77      4.00      5.03      0.04     11.23   1559.01      1.00\n",
      "            a_mean[0,1,1]      6.27      3.96      5.79      0.04     11.53   1376.89      1.00\n",
      "            a_mean[0,1,2]      6.30      3.89      5.78      0.02     11.66   1016.79      1.00\n",
      "            a_mean[1,0,0]      4.03      3.86      2.72      0.01      9.30   1196.46      1.00\n",
      "            a_mean[1,0,1]      4.33      4.12      2.88      0.00     10.18   1222.39      1.00\n",
      "            a_mean[1,0,2]      4.14      4.00      2.74      0.00      9.75   1265.07      1.00\n",
      "            a_mean[1,1,0]      4.92      4.41      3.53      0.00     11.22   1315.20      1.00\n",
      "            a_mean[1,1,1]      9.76      6.72      8.71      0.07     19.17    376.77      1.00\n",
      "            a_mean[1,1,2]      4.62      4.23      3.26      0.03     10.61   1596.30      1.00\n",
      "           a_scale[0,0,0]      6.56      5.49      5.06      0.02     14.12   1641.47      1.00\n",
      "           a_scale[0,0,1]      6.70      5.40      5.44      0.01     14.37   1146.10      1.00\n",
      "           a_scale[0,0,2]      6.91      5.58      5.61      0.00     14.72   1436.80      1.00\n",
      "           a_scale[0,1,0]      6.66      5.14      5.48      0.01     13.90   1599.91      1.00\n",
      "           a_scale[0,1,1]      6.49      5.37      5.18      0.01     13.98    934.69      1.00\n",
      "           a_scale[0,1,2]      6.76      5.42      5.50      0.01     14.15   1262.23      1.00\n",
      "           a_scale[1,0,0]      6.63      5.31      5.33      0.01     14.14   1169.78      1.00\n",
      "           a_scale[1,0,1]      6.92      5.47      5.66      0.00     14.59   1162.52      1.00\n",
      "           a_scale[1,0,2]      6.69      5.36      5.46      0.00     13.99   1488.88      1.00\n",
      "           a_scale[1,1,0]      6.81      5.42      5.56      0.01     14.49   1182.56      1.00\n",
      "           a_scale[1,1,1]      7.80      5.99      6.53      0.03     16.35   1051.01      1.00\n",
      "           a_scale[1,1,2]      6.90      5.42      5.75      0.00     14.36   1437.07      1.00\n",
      "           b_raw[0,0,0,0]      1.63      0.58      1.56      0.65      2.47   1193.50      1.00\n",
      "           b_raw[0,0,0,1]      1.14      0.56      1.04      0.26      1.98    920.60      1.00\n",
      "           b_raw[0,0,0,2]      1.44      0.58      1.38      0.52      2.31   1236.28      1.00\n",
      "           b_raw[0,0,1,0]      0.50      0.49      0.33      0.00      1.22   1127.42      1.00\n",
      "           b_raw[0,0,1,1]      0.76      0.54      0.64      0.05      1.56   1177.58      1.00\n",
      "           b_raw[0,0,1,2]      0.67      0.51      0.56      0.03      1.40   1075.76      1.00\n",
      "           b_raw[0,1,0,0]      1.04      0.56      0.97      0.19      1.90   1144.06      1.00\n",
      "           b_raw[0,1,0,1]      1.38      0.61      1.31      0.46      2.34    916.30      1.00\n",
      "           b_raw[0,1,0,2]      1.53      0.56      1.47      0.64      2.40   1102.69      1.00\n",
      "           b_raw[0,1,1,0]      0.76      0.55      0.63      0.04      1.52   1336.16      1.00\n",
      "           b_raw[0,1,1,1]      0.70      0.59      0.55      0.00      1.52    798.55      1.01\n",
      "           b_raw[0,1,1,2]      0.62      0.59      0.43      0.00      1.48    618.38      1.00\n",
      "  b_scale_global_scale[0]      1.59      0.55      1.51      0.72      2.44   1002.34      1.00\n",
      "  b_scale_global_scale[1]      1.45      0.57      1.37      0.55      2.30    946.11      1.00\n",
      "  b_scale_global_scale[2]      1.77      0.58      1.72      0.81      2.66    859.61      1.00\n",
      "       b_scale_raw[0,0,0]      1.63      0.58      1.57      0.66      2.47   1213.93      1.00\n",
      "       b_scale_raw[0,0,1]      1.11      0.54      1.03      0.32      1.99   1076.93      1.00\n",
      "       b_scale_raw[0,0,2]      1.40      0.59      1.32      0.43      2.29    826.52      1.00\n",
      "       b_scale_raw[0,1,0]      0.43      0.46      0.27      0.00      1.09   1228.89      1.00\n",
      "       b_scale_raw[0,1,1]      0.76      0.52      0.65      0.05      1.52   1211.88      1.00\n",
      "       b_scale_raw[0,1,2]      0.67      0.52      0.55      0.02      1.39   1427.72      1.01\n",
      "       b_scale_raw[1,0,0]      1.06      0.58      0.97      0.15      1.89   1202.91      1.00\n",
      "       b_scale_raw[1,0,1]      1.33      0.57      1.25      0.44      2.21   1064.04      1.00\n",
      "       b_scale_raw[1,0,2]      1.49      0.58      1.43      0.57      2.38   1216.94      1.00\n",
      "       b_scale_raw[1,1,0]      0.78      0.56      0.64      0.03      1.57   1212.52      1.00\n",
      "       b_scale_raw[1,1,1]      0.68      0.60      0.53      0.00      1.54    760.39      1.01\n",
      "       b_scale_raw[1,1,2]      0.60      0.59      0.41      0.00      1.47    768.44      1.00\n",
      "         ell_raw[0,0,0,0]      0.89      0.60      0.78      0.00      1.73   1324.01      1.00\n",
      "         ell_raw[0,0,0,1]      0.46      0.53      0.25      0.00      1.21    479.41      1.00\n",
      "         ell_raw[0,0,0,2]      0.21      0.36      0.04      0.00      0.69    802.72      1.01\n",
      "         ell_raw[0,0,1,0]      0.73      0.61      0.59      0.00      1.58   1498.90      1.00\n",
      "         ell_raw[0,0,1,1]      0.76      0.59      0.63      0.00      1.58   1686.16      1.00\n",
      "         ell_raw[0,0,1,2]      0.73      0.57      0.60      0.00      1.54   1645.84      1.00\n",
      "         ell_raw[0,1,0,0]      0.88      0.60      0.76      0.01      1.69   1782.30      1.00\n",
      "         ell_raw[0,1,0,1]      0.97      0.61      0.87      0.07      1.88   1717.94      1.00\n",
      "         ell_raw[0,1,0,2]      0.96      0.63      0.86      0.01      1.85   1391.92      1.00\n",
      "         ell_raw[0,1,1,0]      0.63      0.61      0.45      0.00      1.51    818.42      1.00\n",
      "         ell_raw[0,1,1,1]      0.78      0.60      0.65      0.00      1.62   1653.21      1.00\n",
      "         ell_raw[0,1,1,2]      0.73      0.60      0.60      0.00      1.60   1542.31      1.00\n",
      "ell_scale_global_scale[0]     76.89     61.44     64.03      0.02    161.74    947.11      1.00\n",
      "ell_scale_global_scale[1]     60.92     56.80     44.19      0.00    142.27    577.44      1.00\n",
      "ell_scale_global_scale[2]     32.69     44.39     13.26      0.00     95.85    806.91      1.00\n",
      "     ell_scale_raw[0,0,0]      0.88      0.59      0.77      0.05      1.70   1892.60      1.00\n",
      "     ell_scale_raw[0,0,1]      0.45      0.51      0.26      0.00      1.18    329.55      1.00\n",
      "     ell_scale_raw[0,0,2]      0.25      0.39      0.07      0.00      0.76   1011.40      1.00\n",
      "     ell_scale_raw[0,1,0]      0.73      0.60      0.59      0.00      1.61   1834.59      1.00\n",
      "     ell_scale_raw[0,1,1]      0.75      0.60      0.62      0.00      1.60   2189.25      1.00\n",
      "     ell_scale_raw[0,1,2]      0.73      0.57      0.59      0.00      1.53   1772.56      1.00\n",
      "     ell_scale_raw[1,0,0]      0.90      0.61      0.78      0.02      1.77   1555.15      1.00\n",
      "     ell_scale_raw[1,0,1]      0.99      0.62      0.90      0.03      1.84   1625.16      1.00\n",
      "     ell_scale_raw[1,0,2]      0.99      0.63      0.90      0.07      1.90   1607.12      1.00\n",
      "     ell_scale_raw[1,1,0]      0.63      0.60      0.46      0.00      1.53    874.02      1.00\n",
      "     ell_scale_raw[1,1,1]      0.76      0.58      0.63      0.00      1.59   1930.45      1.00\n",
      "     ell_scale_raw[1,1,2]      0.72      0.58      0.60      0.00      1.55   1417.68      1.00\n",
      "         g_1_raw[0,0,0,0]      2.40     16.23      0.94      0.00      4.40   1921.72      1.00\n",
      "         g_1_raw[0,0,0,1]      0.86      1.61      0.47      0.02      1.89   1002.62      1.00\n",
      "         g_1_raw[0,0,0,2]      0.82      1.84      0.36      0.00      1.69   1319.02      1.00\n",
      "         g_1_raw[0,0,1,0]      2.85      5.88      1.11      0.00      6.54   1310.09      1.00\n",
      "         g_1_raw[0,0,1,1]      3.67      7.70      1.63      0.00      7.73   1473.80      1.00\n",
      "         g_1_raw[0,0,1,2]      1.91      4.90      0.79      0.00      3.72    887.33      1.00\n",
      "         g_1_raw[0,1,0,0]      0.96      5.29      0.38      0.00      1.71   1138.63      1.00\n",
      "         g_1_raw[0,1,0,1]      0.80      1.24      0.44      0.00      1.78   1030.51      1.00\n",
      "         g_1_raw[0,1,0,2]      1.24      3.14      0.55      0.00      2.62   1203.32      1.00\n",
      "         g_1_raw[0,1,1,0]      1.18      2.01      0.63      0.00      2.57   1778.81      1.00\n",
      "         g_1_raw[0,1,1,1]      7.31     30.47      1.19      0.00     14.23    805.00      1.00\n",
      "         g_1_raw[0,1,1,2]      5.02     35.68      1.00      0.00      6.36   2156.76      1.00\n",
      "g_1_scale_global_scale[0]     38.69     39.43     26.18      0.05     91.33    840.10      1.00\n",
      "g_1_scale_global_scale[1]     49.97     44.66     35.77      0.64    113.76    865.98      1.00\n",
      "g_1_scale_global_scale[2]     12.87     20.75      5.31      0.00     33.93   1226.48      1.00\n",
      "     g_1_scale_raw[0,0,0]      0.80      0.58      0.67      0.00      1.62   1620.51      1.00\n",
      "     g_1_scale_raw[0,0,1]      0.51      0.47      0.36      0.00      1.16   1066.88      1.00\n",
      "     g_1_scale_raw[0,0,2]      0.48      0.51      0.30      0.00      1.18   1582.56      1.00\n",
      "     g_1_scale_raw[0,1,0]      0.85      0.61      0.72      0.01      1.71   1515.20      1.00\n",
      "     g_1_scale_raw[0,1,1]      0.96      0.61      0.87      0.01      1.81   1864.69      1.00\n",
      "     g_1_scale_raw[0,1,2]      0.71      0.56      0.58      0.00      1.50   1888.72      1.00\n",
      "     g_1_scale_raw[1,0,0]      0.50      0.49      0.35      0.00      1.19   1599.79      1.00\n",
      "     g_1_scale_raw[1,0,1]      0.53      0.49      0.38      0.00      1.23   1154.46      1.00\n",
      "     g_1_scale_raw[1,0,2]      0.62      0.57      0.46      0.00      1.44   1513.35      1.00\n",
      "     g_1_scale_raw[1,1,0]      0.66      0.56      0.52      0.00      1.46   1652.55      1.00\n",
      "     g_1_scale_raw[1,1,1]      0.85      0.62      0.74      0.00      1.75   1818.65      1.00\n",
      "     g_1_scale_raw[1,1,2]      0.79      0.60      0.67      0.00      1.65   1520.34      1.00\n",
      "         g_2_raw[0,0,0,0]      1.33      1.75      0.87      0.02      2.68   1045.84      1.00\n",
      "         g_2_raw[0,0,0,1]      0.56      2.39      0.21      0.00      1.15    754.22      1.00\n",
      "         g_2_raw[0,0,0,2]      0.74      1.00      0.45      0.01      1.58   1246.31      1.00\n",
      "         g_2_raw[0,0,1,0]      1.71      2.37      1.10      0.04      3.35    858.60      1.00\n",
      "         g_2_raw[0,0,1,1]      1.88      2.87      1.07      0.03      3.81    763.87      1.00\n",
      "         g_2_raw[0,0,1,2]      1.42      6.42      0.86      0.12      2.47   1877.15      1.00\n",
      "         g_2_raw[0,1,0,0]      1.43      2.10      0.87      0.07      2.71    866.67      1.00\n",
      "         g_2_raw[0,1,0,1]      0.69      1.29      0.36      0.01      1.48   1016.46      1.00\n",
      "         g_2_raw[0,1,0,2]      6.33      8.95      3.86      0.61     13.48    553.51      1.00\n",
      "         g_2_raw[0,1,1,0]      1.10      1.58      0.70      0.06      2.15   1004.20      1.00\n",
      "         g_2_raw[0,1,1,1]      5.39      8.61      2.89      0.06     11.71    801.92      1.00\n",
      "         g_2_raw[0,1,1,2]      3.02      3.31      2.04      0.37      6.09    780.03      1.00\n",
      "g_2_scale_global_scale[0]     70.44     42.32     60.61     12.24    130.71    897.68      1.00\n",
      "g_2_scale_global_scale[1]     50.59     38.56     41.37      3.76    104.90    977.72      1.00\n",
      "g_2_scale_global_scale[2]    115.51     55.14    108.29     26.96    194.87    926.76      1.00\n",
      "     g_2_scale_raw[0,0,0]      0.80      0.52      0.70      0.08      1.56   1404.45      1.00\n",
      "     g_2_scale_raw[0,0,1]      0.37      0.41      0.21      0.00      0.95   1203.85      1.00\n",
      "     g_2_scale_raw[0,0,2]      0.53      0.46      0.39      0.00      1.15   1858.04      1.00\n",
      "     g_2_scale_raw[0,1,0]      0.86      0.57      0.75      0.05      1.69   1450.07      1.00\n",
      "     g_2_scale_raw[0,1,1]      0.87      0.58      0.76      0.08      1.68   1377.31      1.00\n",
      "     g_2_scale_raw[0,1,2]      0.84      0.54      0.72      0.09      1.64   1096.94      1.00\n",
      "     g_2_scale_raw[1,0,0]      0.80      0.53      0.69      0.06      1.56   1136.90      1.00\n",
      "     g_2_scale_raw[1,0,1]      0.50      0.46      0.35      0.00      1.15   1198.37      1.00\n",
      "     g_2_scale_raw[1,0,2]      1.16      0.62      1.08      0.14      2.05    926.85      1.00\n",
      "     g_2_scale_raw[1,1,0]      0.74      0.51      0.62      0.02      1.45   1308.42      1.00\n",
      "     g_2_scale_raw[1,1,1]      1.11      0.60      1.05      0.12      2.00   1334.63      1.00\n",
      "     g_2_scale_raw[1,1,2]      1.07      0.58      0.98      0.16      1.95   1293.85      1.00\n",
      "             outlier_prob      0.05      0.00      0.05      0.05      0.05   2118.48      1.00\n",
      "            outlier_scale      4.94      0.47      4.89      4.18      5.67   1384.60      1.00\n",
      "           v_raw[0,0,0,0]      0.76      0.59      0.62      0.00      1.60   2014.24      1.00\n",
      "           v_raw[0,0,0,1]      0.82      0.60      0.70      0.00      1.65   1508.45      1.00\n",
      "           v_raw[0,0,0,2]      0.97      0.58      0.86      0.10      1.88   1641.57      1.00\n",
      "           v_raw[0,0,1,0]      0.85      0.62      0.72      0.01      1.70   1880.12      1.00\n",
      "           v_raw[0,0,1,1]      0.80      0.60      0.68      0.00      1.64   1807.72      1.00\n",
      "           v_raw[0,0,1,2]      0.82      0.61      0.70      0.01      1.67   1644.59      1.00\n",
      "           v_raw[0,1,0,0]      0.79      0.62      0.65      0.00      1.65   2137.28      1.00\n",
      "           v_raw[0,1,0,1]      0.75      0.56      0.64      0.00      1.54   2170.31      1.00\n",
      "           v_raw[0,1,0,2]      0.67      0.53      0.54      0.00      1.42   1500.12      1.00\n",
      "           v_raw[0,1,1,0]      0.83      0.60      0.72      0.00      1.65   1871.09      1.00\n",
      "           v_raw[0,1,1,1]      0.82      0.61      0.69      0.00      1.65   1472.66      1.00\n",
      "           v_raw[0,1,1,2]      0.83      0.62      0.71      0.00      1.71   1414.98      1.00\n",
      "  v_scale_global_scale[0]      0.84      0.60      0.72      0.00      1.68   1699.51      1.00\n",
      "  v_scale_global_scale[1]      0.80      0.58      0.70      0.01      1.61   1466.59      1.00\n",
      "  v_scale_global_scale[2]      0.92      0.55      0.82      0.10      1.74   1421.49      1.00\n",
      "       v_scale_raw[0,0,0]      0.78      0.61      0.65      0.00      1.62   1556.41      1.00\n",
      "       v_scale_raw[0,0,1]      0.85      0.60      0.75      0.00      1.66   1258.51      1.00\n",
      "       v_scale_raw[0,0,2]      1.01      0.59      0.90      0.03      1.84   1574.10      1.00\n",
      "       v_scale_raw[0,1,0]      0.82      0.63      0.69      0.00      1.72   1989.93      1.00\n",
      "       v_scale_raw[0,1,1]      0.80      0.60      0.68      0.00      1.65   1699.71      1.00\n",
      "       v_scale_raw[0,1,2]      0.80      0.59      0.68      0.00      1.62   1837.52      1.00\n",
      "       v_scale_raw[1,0,0]      0.79      0.58      0.68      0.00      1.62   1205.91      1.00\n",
      "       v_scale_raw[1,0,1]      0.72      0.55      0.61      0.00      1.48   1898.33      1.00\n",
      "       v_scale_raw[1,0,2]      0.64      0.53      0.49      0.00      1.39   1529.34      1.00\n",
      "       v_scale_raw[1,1,0]      0.81      0.61      0.68      0.00      1.67   1720.16      1.00\n",
      "       v_scale_raw[1,1,1]      0.84      0.60      0.73      0.01      1.66   2047.17      1.00\n",
      "       v_scale_raw[1,1,2]      0.84      0.60      0.73      0.00      1.68   1605.40      1.00\n",
      "\n",
      "Number of divergences: 1620\n"
     ]
    }
   ],
   "source": [
    "mcmc.print_summary()"
   ]
  }
 ],
 "metadata": {
  "kernelspec": {
   "display_name": "Python 3 (ipykernel)",
   "language": "python",
   "name": "python3"
  },
  "language_info": {
   "codemirror_mode": {
    "name": "ipython",
    "version": 3
   },
   "file_extension": ".py",
   "mimetype": "text/x-python",
   "name": "python",
   "nbconvert_exporter": "python",
   "pygments_lexer": "ipython3",
   "version": "3.11.4"
  }
 },
 "nbformat": 4,
 "nbformat_minor": 2
}
