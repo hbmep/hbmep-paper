{
 "cells": [
  {
   "cell_type": "code",
   "execution_count": 1,
   "metadata": {},
   "outputs": [],
   "source": [
    "%reload_ext autoreload\n",
    "%autoreload 2\n",
    "\n",
    "import os\n",
    "import gc\n",
    "import pickle\n",
    "import logging\n",
    "import multiprocessing\n",
    "from pathlib import Path\n",
    "\n",
    "import pandas as pd\n",
    "import numpy as np\n",
    "import jax\n",
    "import jax.numpy as jnp\n",
    "import numpyro\n",
    "\n",
    "from hbmep.config import Config\n",
    "from hbmep.model.utils import Site as site\n",
    "\n",
    "PLATFORM = \"cpu\"\n",
    "jax.config.update(\"jax_platforms\", PLATFORM)\n",
    "numpyro.set_platform(PLATFORM)\n",
    "\n",
    "cpu_count = multiprocessing.cpu_count() - 2\n",
    "numpyro.set_host_device_count(cpu_count)\n",
    "numpyro.enable_x64()\n",
    "numpyro.enable_validation()\n",
    "\n",
    "logger = logging.getLogger(__name__)\n",
    "logger.setLevel(logging.INFO)\n",
    "\n",
    "FORMAT = \"%(asctime)s - %(name)s - %(levelname)s - %(message)s\"\n",
    "formatter = logging.Formatter(FORMAT)\n",
    "\n",
    "fhandler = logging.FileHandler(filename='power-analysis-parallel.log', mode=\"w\")\n",
    "fhandler.setFormatter(formatter)\n",
    "fhandler.setLevel(logging.INFO)\n",
    "logger.addHandler(fhandler)\n",
    "\n",
    "# consoleHandler = logging.StreamHandler(sys.stdout)\n",
    "# consoleHandler.setFormatter(formatter)\n",
    "# logger.addHandler(consoleHandler)\n"
   ]
  },
  {
   "cell_type": "code",
   "execution_count": null,
   "metadata": {},
   "outputs": [],
   "source": [
    "import numpyro.distributions as dist\n",
    "from hbmep.model import Baseline\n",
    "from hbmep_paper.utils.constants import HBM\n",
    "\n",
    "\n",
    "class HierarchicalBayesianModel(Baseline):\n",
    "    LINK = HBM\n",
    "\n",
    "    def __init__(self, config: Config):\n",
    "        super(HierarchicalBayesianModel, self).__init__(config=config)\n",
    "        self.combination_columns = self.features + [self.subject]\n",
    "        self.priors = {\"baseline\", \"delta\", site.a, site.b, site.L, site.H, site.v, site.g_1, site.g_2}\n",
    "\n",
    "    def _model(self, subject, features, intensity, response_obs=None):\n",
    "        intensity = intensity.reshape(-1, 1)\n",
    "        intensity = np.tile(intensity, (1, self.n_response))\n",
    "\n",
    "        feature0 = features[0].reshape(-1,)\n",
    "\n",
    "        n_data = intensity.shape[0]\n",
    "        n_subject = np.unique(subject).shape[0]\n",
    "        n_feature0 = np.unique(feature0).shape[0]\n",
    "\n",
    "        n_baseline = 1\n",
    "        n_delta = n_feature0 - 1\n",
    "\n",
    "        \"\"\" Baseline \"\"\"\n",
    "        with numpyro.plate(site.n_response, self.n_response, dim=-1):\n",
    "            with numpyro.plate(\"n_baseline\", n_baseline, dim=-2):\n",
    "                mu_baseline = numpyro.sample(\n",
    "                    \"mu_baseline\",\n",
    "                    dist.TruncatedNormal(5, 10, low=0)\n",
    "                )\n",
    "                sigma_baseline = numpyro.sample(\n",
    "                    \"sigma_baseline\",\n",
    "                    dist.HalfNormal(10.0)\n",
    "                )\n",
    "\n",
    "                with numpyro.plate(site.n_subject, n_subject, dim=-3):\n",
    "                    baseline = numpyro.sample(\n",
    "                        \"baseline\",\n",
    "                        dist.TruncatedNormal(mu_baseline, sigma_baseline, low=0)\n",
    "                    )\n",
    "\n",
    "        \"\"\" Delta \"\"\"\n",
    "        with numpyro.plate(site.n_response, self.n_response, dim=-1):\n",
    "            with numpyro.plate(\"n_delta\", n_delta, dim=-2):\n",
    "                mu_delta = numpyro.sample(\"mu_delta\", dist.Normal(0, 10))\n",
    "                sigma_delta = numpyro.sample(\"sigma_delta\", dist.HalfNormal(10.0))\n",
    "\n",
    "                with numpyro.plate(site.n_subject, n_subject, dim=-3):\n",
    "                    delta = numpyro.sample(\"delta\", dist.Normal(mu_delta, sigma_delta))\n",
    "\n",
    "        with numpyro.plate(site.n_response, self.n_response, dim=-1):\n",
    "            with numpyro.plate(\"n_feature0\", n_feature0, dim=-2):\n",
    "                \"\"\" Hyper-priors \"\"\"\n",
    "                sigma_b = numpyro.sample(site.sigma_b, dist.HalfNormal(10))\n",
    "\n",
    "                sigma_L = numpyro.sample(site.sigma_L, dist.HalfNormal(2))\n",
    "                sigma_H = numpyro.sample(site.sigma_H, dist.HalfNormal(10))\n",
    "                sigma_v = numpyro.sample(site.sigma_v, dist.HalfNormal(10))\n",
    "\n",
    "                with numpyro.plate(site.n_subject, n_subject, dim=-3):\n",
    "                    \"\"\" Priors \"\"\"\n",
    "                    a = numpyro.deterministic(\n",
    "                        site.a,\n",
    "                        jnp.concatenate([baseline, baseline + delta], axis=1)\n",
    "                    )\n",
    "                    b = numpyro.sample(site.b, dist.HalfNormal(sigma_b))\n",
    "\n",
    "                    L = numpyro.sample(site.L, dist.HalfNormal(sigma_L))\n",
    "                    H = numpyro.sample(site.H, dist.HalfNormal(sigma_H))\n",
    "                    v = numpyro.sample(site.v, dist.HalfNormal(sigma_v))\n",
    "\n",
    "                    g_1 = numpyro.sample(site.g_1, dist.Exponential(0.01))\n",
    "                    g_2 = numpyro.sample(site.g_2, dist.Exponential(0.01))\n",
    "\n",
    "        \"\"\" Model \"\"\"\n",
    "        mu = numpyro.deterministic(\n",
    "            site.mu,\n",
    "            L[subject, feature0]\n",
    "            + jnp.maximum(\n",
    "                0,\n",
    "                -1\n",
    "                + (H[subject, feature0] + 1)\n",
    "                / jnp.power(\n",
    "                    1\n",
    "                    + (jnp.power(1 + H[subject, feature0], v[subject, feature0]) - 1)\n",
    "                    * jnp.exp(-b[subject, feature0] * (intensity - a[subject, feature0])),\n",
    "                    1 / v[subject, feature0]\n",
    "                )\n",
    "            )\n",
    "        )\n",
    "        beta = numpyro.deterministic(\n",
    "            site.beta,\n",
    "            g_1[subject, feature0] + g_2[subject, feature0] * (1 / mu) ** 2\n",
    "        )\n",
    "\n",
    "        \"\"\" Penalty \"\"\"\n",
    "        penalty = (jnp.fabs(baseline + delta) - (baseline + delta))\n",
    "        numpyro.factor(\"penalty\", -penalty)\n",
    "\n",
    "        \"\"\" Observation \"\"\"\n",
    "        with numpyro.plate(site.data, n_data):\n",
    "            return numpyro.sample(\n",
    "                site.obs,\n",
    "                dist.Gamma(concentration=mu * beta, rate=beta).to_event(1),\n",
    "                obs=response_obs\n",
    "            )\n"
   ]
  },
  {
   "cell_type": "code",
   "execution_count": null,
   "metadata": {},
   "outputs": [],
   "source": []
  },
  {
   "cell_type": "code",
   "execution_count": 1,
   "metadata": {},
   "outputs": [
    {
     "name": "stderr",
     "output_type": "stream",
     "text": [
      "2023-09-28 13:41:27,444 - root - INFO - \n",
      "\n",
      "****This is HBMEP****\n",
      "\n",
      "\n"
     ]
    }
   ],
   "source": [
    "%reload_ext autoreload\n",
    "%autoreload 2\n",
    "\n",
    "import os\n",
    "import gc\n",
    "import pickle\n",
    "import logging\n",
    "import multiprocessing\n",
    "from pathlib import Path\n",
    "\n",
    "import pandas as pd\n",
    "import numpy as np\n",
    "import jax\n",
    "import jax.numpy as jnp\n",
    "import numpyro\n",
    "\n",
    "from hbmep.config import Config\n",
    "from hbmep.model.utils import Site as site\n",
    "\n",
    "PLATFORM = \"cpu\"\n",
    "jax.config.update(\"jax_platforms\", PLATFORM)\n",
    "numpyro.set_platform(PLATFORM)\n",
    "\n",
    "cpu_count = multiprocessing.cpu_count() - 2\n",
    "numpyro.set_host_device_count(cpu_count)\n",
    "numpyro.enable_x64()\n",
    "numpyro.enable_validation()\n",
    "\n",
    "logger = logging.getLogger(__name__)\n",
    "logger.setLevel(logging.INFO)\n",
    "\n",
    "FORMAT = \"%(asctime)s - %(name)s - %(levelname)s - %(message)s\"\n",
    "formatter = logging.Formatter(FORMAT)\n",
    "\n",
    "fhandler = logging.FileHandler(filename='power-analysis-parallel.log', mode=\"w\")\n",
    "fhandler.setFormatter(formatter)\n",
    "fhandler.setLevel(logging.INFO)\n",
    "logger.addHandler(fhandler)\n",
    "\n",
    "# consoleHandler = logging.StreamHandler(sys.stdout)\n",
    "# consoleHandler.setFormatter(formatter)\n",
    "# logger.addHandler(consoleHandler)\n"
   ]
  },
  {
   "cell_type": "code",
   "execution_count": 2,
   "metadata": {},
   "outputs": [
    {
     "name": "stdout",
     "output_type": "stream",
     "text": [
      "\n",
      "GC OBJECTS:\n",
      "[(<class 'float'>, 3940), (<class 'str'>, 2620), (<class 'tuple'>, 1408), (<class 'method'>, 215), (<class 'traitlets.traitlets.ObserveHandler'>, 209), (<class 'int'>, 105), (<class 'bool'>, 72), (<class 'list'>, 68), (<class 'jax._src.core.Var'>, 65), (<class 'fontTools.ttLib.tables.otConverters.ComputedUShort'>, 54)]\n",
      "\n",
      "GC OBJECTS:\n",
      "[(<class 'float'>, 3940), (<class 'str'>, 2619), (<class 'tuple'>, 1409), (<class 'method'>, 215), (<class 'traitlets.traitlets.ObserveHandler'>, 209), (<class 'int'>, 105), (<class 'bool'>, 73), (<class 'jax._src.core.Var'>, 70), (<class 'list'>, 68), (<class 'fontTools.ttLib.tables.otConverters.ComputedUShort'>, 54)]\n",
      "\n",
      "GC OBJECTS:\n",
      "[(<class 'float'>, 3940), (<class 'str'>, 2618), (<class 'tuple'>, 1410), (<class 'method'>, 215), (<class 'traitlets.traitlets.ObserveHandler'>, 209), (<class 'int'>, 105), (<class 'jax._src.core.Var'>, 75), (<class 'bool'>, 74), (<class 'list'>, 68), (<class 'fontTools.ttLib.tables.otConverters.ComputedUShort'>, 54)]\n"
     ]
    }
   ],
   "source": [
    "import gc\n",
    "from collections import Counter\n",
    "\n",
    "import jax;\n",
    "jax.config.update('jax_platform_name', 'cpu')\n",
    "from jax import numpy as np\n",
    "from jax import lax, random\n",
    "\n",
    "class ABC:\n",
    "    def body_fn(self, i, key):\n",
    "        key, _ = random.split(key)\n",
    "        return key\n",
    "\n",
    "for i in range(3):\n",
    "    abc = ABC()\n",
    "    value = lax.fori_loop(0, 10, abc.body_fn, random.PRNGKey(0))\n",
    "\n",
    "    print(\"\\nGC OBJECTS:\")\n",
    "    cnt = Counter()\n",
    "    # force collection; it is expected that count of different types\n",
    "    # should not increase per iteration\n",
    "    gc.collect()\n",
    "    for x in gc.get_objects():\n",
    "        if isinstance(x, list):\n",
    "            if len(x) > 1:\n",
    "                cnt[type(x[0])] += 1\n",
    "    print(cnt.most_common(10))"
   ]
  },
  {
   "cell_type": "code",
   "execution_count": 2,
   "metadata": {},
   "outputs": [],
   "source": [
    "import numpyro.distributions as dist\n",
    "from hbmep.model import Baseline\n",
    "from hbmep_paper.utils.constants import HBM\n",
    "\n",
    "\n",
    "class HierarchicalBayesianModel(Baseline):\n",
    "    LINK = HBM\n",
    "\n",
    "    def __init__(self, config: Config):\n",
    "        super(HierarchicalBayesianModel, self).__init__(config=config)\n",
    "        self.combination_columns = self.features + [self.subject]\n",
    "        self.priors = {\"baseline\", \"delta\", site.a, site.b, site.L, site.H, site.v, site.g_1, site.g_2}\n",
    "\n",
    "    def _model(self, subject, features, intensity, response_obs=None):\n",
    "        intensity = intensity.reshape(-1, 1)\n",
    "        intensity = np.tile(intensity, (1, self.n_response))\n",
    "\n",
    "        feature0 = features[0].reshape(-1,)\n",
    "\n",
    "        n_data = intensity.shape[0]\n",
    "        n_subject = np.unique(subject).shape[0]\n",
    "        n_feature0 = np.unique(feature0).shape[0]\n",
    "\n",
    "        n_baseline = 1\n",
    "        n_delta = n_feature0 - 1\n",
    "\n",
    "        \"\"\" Baseline \"\"\"\n",
    "        with numpyro.plate(site.n_response, self.n_response, dim=-1):\n",
    "            with numpyro.plate(\"n_baseline\", n_baseline, dim=-2):\n",
    "                mu_baseline = numpyro.sample(\n",
    "                    \"mu_baseline\",\n",
    "                    dist.TruncatedNormal(5, 10, low=0)\n",
    "                )\n",
    "                sigma_baseline = numpyro.sample(\n",
    "                    \"sigma_baseline\",\n",
    "                    dist.HalfNormal(10.0)\n",
    "                )\n",
    "\n",
    "                with numpyro.plate(site.n_subject, n_subject, dim=-3):\n",
    "                    baseline = numpyro.sample(\n",
    "                        \"baseline\",\n",
    "                        dist.TruncatedNormal(mu_baseline, sigma_baseline, low=0)\n",
    "                    )\n",
    "\n",
    "        \"\"\" Delta \"\"\"\n",
    "        with numpyro.plate(site.n_response, self.n_response, dim=-1):\n",
    "            with numpyro.plate(\"n_delta\", n_delta, dim=-2):\n",
    "                mu_delta = numpyro.sample(\"mu_delta\", dist.Normal(0, 10))\n",
    "                sigma_delta = numpyro.sample(\"sigma_delta\", dist.HalfNormal(10.0))\n",
    "\n",
    "                with numpyro.plate(site.n_subject, n_subject, dim=-3):\n",
    "                    delta = numpyro.sample(\"delta\", dist.Normal(mu_delta, sigma_delta))\n",
    "\n",
    "        with numpyro.plate(site.n_response, self.n_response, dim=-1):\n",
    "            with numpyro.plate(\"n_feature0\", n_feature0, dim=-2):\n",
    "                \"\"\" Hyper-priors \"\"\"\n",
    "                sigma_b = numpyro.sample(site.sigma_b, dist.HalfNormal(10))\n",
    "\n",
    "                sigma_L = numpyro.sample(site.sigma_L, dist.HalfNormal(2))\n",
    "                sigma_H = numpyro.sample(site.sigma_H, dist.HalfNormal(10))\n",
    "                sigma_v = numpyro.sample(site.sigma_v, dist.HalfNormal(10))\n",
    "\n",
    "                with numpyro.plate(site.n_subject, n_subject, dim=-3):\n",
    "                    \"\"\" Priors \"\"\"\n",
    "                    a = numpyro.deterministic(\n",
    "                        site.a,\n",
    "                        jnp.concatenate([baseline, baseline + delta], axis=1)\n",
    "                    )\n",
    "                    b = numpyro.sample(site.b, dist.HalfNormal(sigma_b))\n",
    "\n",
    "                    L = numpyro.sample(site.L, dist.HalfNormal(sigma_L))\n",
    "                    H = numpyro.sample(site.H, dist.HalfNormal(sigma_H))\n",
    "                    v = numpyro.sample(site.v, dist.HalfNormal(sigma_v))\n",
    "\n",
    "                    g_1 = numpyro.sample(site.g_1, dist.Exponential(0.01))\n",
    "                    g_2 = numpyro.sample(site.g_2, dist.Exponential(0.01))\n",
    "\n",
    "        \"\"\" Model \"\"\"\n",
    "        mu = numpyro.deterministic(\n",
    "            site.mu,\n",
    "            L[subject, feature0]\n",
    "            + jnp.maximum(\n",
    "                0,\n",
    "                -1\n",
    "                + (H[subject, feature0] + 1)\n",
    "                / jnp.power(\n",
    "                    1\n",
    "                    + (jnp.power(1 + H[subject, feature0], v[subject, feature0]) - 1)\n",
    "                    * jnp.exp(-b[subject, feature0] * (intensity - a[subject, feature0])),\n",
    "                    1 / v[subject, feature0]\n",
    "                )\n",
    "            )\n",
    "        )\n",
    "        beta = numpyro.deterministic(\n",
    "            site.beta,\n",
    "            g_1[subject, feature0] + g_2[subject, feature0] * (1 / mu) ** 2\n",
    "        )\n",
    "\n",
    "        \"\"\" Penalty \"\"\"\n",
    "        penalty = (jnp.fabs(baseline + delta) - (baseline + delta))\n",
    "        numpyro.factor(\"penalty\", -penalty)\n",
    "\n",
    "        \"\"\" Observation \"\"\"\n",
    "        with numpyro.plate(site.data, n_data):\n",
    "            return numpyro.sample(\n",
    "                site.obs,\n",
    "                dist.Gamma(concentration=mu * beta, rate=beta).to_event(1),\n",
    "                obs=response_obs\n",
    "            )\n"
   ]
  },
  {
   "cell_type": "code",
   "execution_count": 3,
   "metadata": {},
   "outputs": [
    {
     "name": "stderr",
     "output_type": "stream",
     "text": [
      "2023-09-28 12:53:19,699 - hbmep.config - INFO - Verifying configuration ...\n",
      "2023-09-28 12:53:19,699 - hbmep.config - INFO - Success!\n",
      "2023-09-28 12:53:19,704 - jax._src.xla_bridge - INFO - Unable to initialize backend 'cuda': module 'jaxlib.xla_extension' has no attribute 'GpuAllocatorConfig'\n",
      "2023-09-28 12:53:19,704 - jax._src.xla_bridge - INFO - Unable to initialize backend 'rocm': module 'jaxlib.xla_extension' has no attribute 'GpuAllocatorConfig'\n",
      "2023-09-28 12:53:19,704 - jax._src.xla_bridge - INFO - Unable to initialize backend 'tpu': INVALID_ARGUMENT: TpuPlatform is not available.\n",
      "2023-09-28 12:53:19,705 - jax._src.xla_bridge - WARNING - No GPU/TPU found, falling back to CPU. (Set TF_CPP_MIN_LOG_LEVEL=0 and rerun for more info.)\n",
      "2023-09-28 12:53:19,715 - hbmep.model.baseline - INFO - Initialized model with hierarchical_bayesian link\n",
      "2023-09-28 12:53:19,731 - hbmep.dataset.core - INFO - Artefacts will be stored here - /home/vishu/repos/hbmep-paper/reports/human/intraoperative\n",
      "2023-09-28 12:53:19,731 - hbmep.dataset.core - INFO - Copied config to /home/vishu/repos/hbmep-paper/reports/human/intraoperative\n",
      "2023-09-28 12:53:19,732 - hbmep.dataset.core - INFO - Processing data ...\n",
      "2023-09-28 12:53:19,733 - hbmep.utils.utils - INFO - func:load took: 0.00 sec\n"
     ]
    }
   ],
   "source": [
    "import pickle\n",
    "\n",
    "\n",
    "root_path = Path(os.getcwd()).parent.parent.parent.absolute()\n",
    "toml_path = os.path.join(root_path, \"configs/human/intraoperative/config.toml\")\n",
    "\n",
    "CONFIG = Config(toml_path=toml_path)\n",
    "MODEL = HierarchicalBayesianModel(config=CONFIG)\n",
    "\n",
    "src = \"/home/vishu/data/hbmep-processed/human/intraoperative/data.csv\"\n",
    "DF = pd.read_csv(src)\n",
    "\n",
    "subset = [\n",
    "    'scapptio001'\n",
    "]\n",
    "ind = ~DF[MODEL.subject].isin(subset)\n",
    "DF = DF[ind].reset_index(drop=True).copy()\n",
    "\n",
    "DF, ENCODER_DICT = MODEL.load(df=DF)\n",
    "\n",
    "dest = os.path.join(MODEL.build_dir, \"inference.pkl\")\n",
    "with open(dest, \"rb\") as g:\n",
    "    _, MCMC, POSTERIOR_SAMPLES = pickle.load(g)\n"
   ]
  },
  {
   "cell_type": "code",
   "execution_count": 4,
   "metadata": {},
   "outputs": [
    {
     "name": "stderr",
     "output_type": "stream",
     "text": [
      "2023-09-28 12:53:20,006 - hbmep.utils.utils - INFO - func:make_prediction_dataset took: 0.01 sec\n"
     ]
    },
    {
     "data": {
      "text/plain": [
       "(8000, 3)"
      ]
     },
     "execution_count": 4,
     "metadata": {},
     "output_type": "execute_result"
    }
   ],
   "source": [
    "TOTAL_SUBJECTS = 200\n",
    "\n",
    "PREDICTION_DF = \\\n",
    "    pd.DataFrame(np.arange(0, TOTAL_SUBJECTS, 1), columns=[MODEL.subject]) \\\n",
    "    .merge(\n",
    "        pd.DataFrame(np.arange(0, 2, 1), columns=MODEL.features),\n",
    "        how=\"cross\"\n",
    "    ) \\\n",
    "    .merge(\n",
    "        pd.DataFrame([0, 10], columns=[MODEL.intensity]),\n",
    "        how=\"cross\"\n",
    "    )\n",
    "\n",
    "PREDICTION_DF = MODEL.make_prediction_dataset(df=PREDICTION_DF, num_points=20)\n",
    "PREDICTION_DF.shape"
   ]
  },
  {
   "cell_type": "code",
   "execution_count": 5,
   "metadata": {},
   "outputs": [
    {
     "name": "stderr",
     "output_type": "stream",
     "text": [
      "2023-09-28 12:53:32,608 - hbmep.utils.utils - INFO - func:predict took: 12.48 sec\n"
     ]
    },
    {
     "data": {
      "text/plain": [
       "(4000, 8000, 1)"
      ]
     },
     "execution_count": 5,
     "metadata": {},
     "output_type": "execute_result"
    }
   ],
   "source": [
    "POST = {u: v for u, v in POSTERIOR_SAMPLES.items() if u not in MODEL.priors}\n",
    "POSTERIOR_PREDICTIVE = MODEL.predict(df=PREDICTION_DF, posterior_samples=POST)\n",
    "\n",
    "OBS = np.array(POSTERIOR_PREDICTIVE[site.obs])\n",
    "OBS.shape"
   ]
  },
  {
   "cell_type": "code",
   "execution_count": 6,
   "metadata": {},
   "outputs": [
    {
     "data": {
      "text/plain": [
       "(4000, 1, 1)"
      ]
     },
     "execution_count": 6,
     "metadata": {},
     "output_type": "execute_result"
    }
   ],
   "source": [
    "mu_delta_true = POSTERIOR_SAMPLES[\"mu_delta\"]\n",
    "mu_delta_true.shape"
   ]
  },
  {
   "cell_type": "code",
   "execution_count": 7,
   "metadata": {},
   "outputs": [],
   "source": [
    "prefix = \"power-analysis-parallel\"\n",
    "\n",
    "N_space = [2, 4, 8, 12, 16, 20]\n",
    "\n",
    "n_draws = 50\n",
    "draws_space = \\\n",
    "    jax.random.choice(\n",
    "        key=MODEL.rng_key,\n",
    "        a=np.arange(0, mu_delta_true.shape[0], 1),\n",
    "        shape=(n_draws,),\n",
    "        replace=False\n",
    "    ) \\\n",
    "    .tolist()\n",
    "\n",
    "n_repeats = 100\n",
    "repeats_space = \\\n",
    "    jax.random.choice(\n",
    "        key=MODEL.rng_key,\n",
    "        a=np.arange(0, 100 * n_repeats, 1),\n",
    "        shape=(n_repeats,),\n",
    "        replace=False\n",
    "    )\n",
    "\n",
    "# \"\"\" Test \"\"\"\n",
    "# N_space = [2, 3, 4]\n",
    "\n",
    "# n_draws = 4\n",
    "# draws_space = \\\n",
    "#     jax.random.choice(\n",
    "#         key=MODEL.rng_key,\n",
    "#         a=np.arange(0, mu_delta_true.shape[0], 1),\n",
    "#         shape=(n_draws,),\n",
    "#         replace=False\n",
    "#     ) \\\n",
    "#     .tolist()\n",
    "\n",
    "# n_repeats = 2\n",
    "# repeats_space = \\\n",
    "#     jax.random.choice(\n",
    "#         key=MODEL.rng_key,\n",
    "#         a=np.arange(0, 100 * n_repeats, 1),\n",
    "#         shape=(n_repeats,),\n",
    "#         replace=False\n",
    "#     )\n",
    "\n"
   ]
  },
  {
   "cell_type": "code",
   "execution_count": 8,
   "metadata": {},
   "outputs": [],
   "source": [
    "def _process(N_counter, draw_counter, repeat_counter):\n",
    "\n",
    "    # PLATFORM = \"cpu\"\n",
    "    # jax.config.update(\"jax_platforms\", PLATFORM)\n",
    "    # numpyro.set_platform(PLATFORM)\n",
    "\n",
    "    # cpu_count = multiprocessing.cpu_count() - 2\n",
    "    # numpyro.set_host_device_count(cpu_count)\n",
    "    # numpyro.enable_x64()\n",
    "    # numpyro.enable_validation()\n",
    "\n",
    "    N = N_space[N_counter]\n",
    "    draw_ind = draws_space[draw_counter]\n",
    "    seed = repeats_space[repeat_counter]\n",
    "\n",
    "    N_dir, draw_dir, seed_dir = f\"N_{N}\", f\"draw_{draw_ind}\", f\"seed_{seed}\"\n",
    "\n",
    "    subjects_ind = \\\n",
    "        jax.random.choice(\n",
    "            key=jax.random.PRNGKey(seed),\n",
    "            a=np.arange(0, TOTAL_SUBJECTS, 1),\n",
    "            shape=(N,),\n",
    "            replace=False\n",
    "        ) \\\n",
    "        .tolist()\n",
    "\n",
    "    ind = PREDICTION_DF[MODEL.subject].isin(subjects_ind)\n",
    "    df = PREDICTION_DF[ind].reset_index(drop=True).copy()\n",
    "    df[MODEL.response] = OBS[draw_ind, ...][ind, ...]\n",
    "\n",
    "    \"\"\" Build model \"\"\"\n",
    "    config = Config(toml_path=toml_path)\n",
    "    config.BUILD_DIR = os.path.join(CONFIG.BUILD_DIR, prefix, draw_dir, N_dir, seed_dir)\n",
    "    model = HierarchicalBayesianModel(config=config)\n",
    "\n",
    "    \"\"\" Load data \"\"\"\n",
    "    df, _ = model.load(df=df)\n",
    "\n",
    "    \"\"\" Fit \"\"\"\n",
    "    _, posterior_samples = model.run_inference(df=df)\n",
    "\n",
    "    \"\"\" Predict \"\"\"\n",
    "    prediction_df = model.make_prediction_dataset(df=df, num_points=100)\n",
    "    ppd = model.predict(df=prediction_df, posterior_samples=posterior_samples)\n",
    "\n",
    "    \"\"\" Plot \"\"\"\n",
    "    model.render_recruitment_curves(df=df, posterior_samples=posterior_samples, prediction_df=prediction_df, posterior_predictive=ppd)\n",
    "    model.render_predictive_check(df=df, prediction_df=prediction_df, posterior_predictive=ppd)\n",
    "\n",
    "    \"\"\" Power \"\"\"\n",
    "    mu_delta = np.array(posterior_samples[\"mu_delta\"])\n",
    "\n",
    "    dst = os.path.join(model.build_dir, \"mu_delta.npy\")\n",
    "    np.save(dst, mu_delta)\n",
    "    return\n",
    "    # config, curr_df, df, encoder_dict,  = None, None, None, None\n",
    "    # mcmc, model, posterior_samples = None, None, None\n",
    "    # prediction_df, ppd = None, None\n",
    "    # mu_delta = None\n"
   ]
  },
  {
   "cell_type": "code",
   "execution_count": 9,
   "metadata": {},
   "outputs": [
    {
     "name": "stderr",
     "output_type": "stream",
     "text": [
      "2023-09-28 12:53:33,851 - hbmep.config - INFO - Verifying configuration ...\n",
      "2023-09-28 12:53:33,851 - hbmep.config - INFO - Success!\n",
      "2023-09-28 12:53:33,852 - hbmep.model.baseline - INFO - Initialized model with hierarchical_bayesian link\n",
      "2023-09-28 12:53:33,852 - hbmep.dataset.core - INFO - Artefacts will be stored here - /home/vishu/repos/hbmep-paper/reports/human/intraoperative/power-analysis-parallel/draw_2829/N_2/seed_1792\n",
      "2023-09-28 12:53:33,853 - hbmep.dataset.core - INFO - Copied config to /home/vishu/repos/hbmep-paper/reports/human/intraoperative/power-analysis-parallel/draw_2829/N_2/seed_1792\n",
      "2023-09-28 12:53:33,854 - hbmep.dataset.core - INFO - Processing data ...\n",
      "2023-09-28 12:53:33,855 - hbmep.utils.utils - INFO - func:load took: 0.00 sec\n",
      "/home/vishu/repos/hbmep/src/hbmep/model/baseline.py:571: UserWarning: There are not enough devices to run parallel chains: expected 4 but got 1. Chains will be drawn sequentially. If you are running MCMC in CPU, consider using `numpyro.set_host_device_count(4)` at the beginning of your program. You can double-check how many devices are available in your system using `jax.local_device_count()`.\n",
      "  mcmc = MCMC(nuts_kernel, **self.mcmc_params)\n",
      "2023-09-28 12:53:33,856 - hbmep.model.baseline - INFO - Running inference with hierarchical_bayesian ...\n",
      "sample: 100%|████████████████████████████████████████████████████████████████████████████████████████████████████████| 1500/1500 [00:19<00:00, 78.78it/s, 1023 steps of size 1.93e-05. acc. prob=0.86]\n",
      "sample: 100%|██████████████████████████████████████████████████████████████████████████████████████████████████████████| 1500/1500 [00:02<00:00, 607.00it/s, 7 steps of size 6.00e-02. acc. prob=0.62]\n",
      "sample: 100%|████████████████████████████████████████████████████████████████████████████████████████████████████████| 1500/1500 [00:18<00:00, 81.89it/s, 1023 steps of size 2.37e-05. acc. prob=0.90]\n",
      "sample: 100%|█████████████████████████████████████████████████████████████████████████████████████████████████████████| 1500/1500 [00:01<00:00, 936.15it/s, 10 steps of size 1.22e-02. acc. prob=0.79]\n",
      "2023-09-28 12:54:18,981 - hbmep.utils.utils - INFO - func:run_inference took: 45.13 sec\n",
      "2023-09-28 12:54:18,986 - hbmep.utils.utils - INFO - func:make_prediction_dataset took: 0.00 sec\n",
      "2023-09-28 12:54:20,025 - hbmep.utils.utils - INFO - func:predict took: 1.04 sec\n",
      "2023-09-28 12:54:20,028 - hbmep.model.baseline - INFO - Rendering ...\n",
      "2023-09-28 12:54:20,845 - hbmep.model.baseline - INFO - Saved to /home/vishu/repos/hbmep-paper/reports/human/intraoperative/power-analysis-parallel/draw_2829/N_2/seed_1792/recruitment_curves.pdf\n",
      "2023-09-28 12:54:20,845 - hbmep.utils.utils - INFO - func:render_recruitment_curves took: 0.82 sec\n",
      "2023-09-28 12:54:20,848 - hbmep.model.baseline - INFO - Rendering Posterior Predictive Check ...\n",
      "2023-09-28 12:54:21,706 - hbmep.model.baseline - INFO - Saved to /home/vishu/repos/hbmep-paper/reports/human/intraoperative/power-analysis-parallel/draw_2829/N_2/seed_1792/posterior_predictive_check.pdf\n",
      "2023-09-28 12:54:21,706 - hbmep.utils.utils - INFO - func:_render_predictive_check took: 0.86 sec\n",
      "2023-09-28 12:54:21,707 - hbmep.utils.utils - INFO - func:render_predictive_check took: 0.86 sec\n"
     ]
    }
   ],
   "source": [
    "_process(0, 0, 0)"
   ]
  },
  {
   "cell_type": "code",
   "execution_count": 2,
   "metadata": {},
   "outputs": [
    {
     "ename": "NameError",
     "evalue": "name 'jax' is not defined",
     "output_type": "error",
     "traceback": [
      "\u001b[0;31m---------------------------------------------------------------------------\u001b[0m",
      "\u001b[0;31mNameError\u001b[0m                                 Traceback (most recent call last)",
      "\u001b[1;32m/home/vishu/repos/hbmep-paper/notebooks/human/intraoperative/power-analysis-parallel.ipynb Cell 10\u001b[0m line \u001b[0;36m1\n\u001b[0;32m----> <a href='vscode-notebook-cell://ssh-remote%2Bcumc00/home/vishu/repos/hbmep-paper/notebooks/human/intraoperative/power-analysis-parallel.ipynb#X50sdnNjb2RlLXJlbW90ZQ%3D%3D?line=0'>1</a>\u001b[0m jax\n",
      "\u001b[0;31mNameError\u001b[0m: name 'jax' is not defined"
     ]
    }
   ],
   "source": [
    "jax."
   ]
  },
  {
   "cell_type": "code",
   "execution_count": 9,
   "metadata": {},
   "outputs": [],
   "source": [
    "from joblib import Parallel, delayed"
   ]
  },
  {
   "cell_type": "code",
   "execution_count": 10,
   "metadata": {},
   "outputs": [],
   "source": [
    "parallel = Parallel(n_jobs=-1)"
   ]
  },
  {
   "cell_type": "code",
   "execution_count": 11,
   "metadata": {},
   "outputs": [
    {
     "name": "stderr",
     "output_type": "stream",
     "text": [
      "No GPU/TPU found, falling back to CPU. (Set TF_CPP_MIN_LOG_LEVEL=0 and rerun for more info.)\n",
      "No GPU/TPU found, falling back to CPU. (Set TF_CPP_MIN_LOG_LEVEL=0 and rerun for more info.)\n",
      "No GPU/TPU found, falling back to CPU. (Set TF_CPP_MIN_LOG_LEVEL=0 and rerun for more info.)\n",
      "No GPU/TPU found, falling back to CPU. (Set TF_CPP_MIN_LOG_LEVEL=0 and rerun for more info.)\n",
      "No GPU/TPU found, falling back to CPU. (Set TF_CPP_MIN_LOG_LEVEL=0 and rerun for more info.)\n",
      "No GPU/TPU found, falling back to CPU. (Set TF_CPP_MIN_LOG_LEVEL=0 and rerun for more info.)\n",
      "No GPU/TPU found, falling back to CPU. (Set TF_CPP_MIN_LOG_LEVEL=0 and rerun for more info.)\n",
      "No GPU/TPU found, falling back to CPU. (Set TF_CPP_MIN_LOG_LEVEL=0 and rerun for more info.)\n",
      "No GPU/TPU found, falling back to CPU. (Set TF_CPP_MIN_LOG_LEVEL=0 and rerun for more info.)\n",
      "No GPU/TPU found, falling back to CPU. (Set TF_CPP_MIN_LOG_LEVEL=0 and rerun for more info.)\n",
      "No GPU/TPU found, falling back to CPU. (Set TF_CPP_MIN_LOG_LEVEL=0 and rerun for more info.)\n",
      "No GPU/TPU found, falling back to CPU. (Set TF_CPP_MIN_LOG_LEVEL=0 and rerun for more info.)\n",
      "No GPU/TPU found, falling back to CPU. (Set TF_CPP_MIN_LOG_LEVEL=0 and rerun for more info.)\n",
      "No GPU/TPU found, falling back to CPU. (Set TF_CPP_MIN_LOG_LEVEL=0 and rerun for more info.)\n",
      "No GPU/TPU found, falling back to CPU. (Set TF_CPP_MIN_LOG_LEVEL=0 and rerun for more info.)\n",
      "No GPU/TPU found, falling back to CPU. (Set TF_CPP_MIN_LOG_LEVEL=0 and rerun for more info.)\n",
      "No GPU/TPU found, falling back to CPU. (Set TF_CPP_MIN_LOG_LEVEL=0 and rerun for more info.)\n",
      "No GPU/TPU found, falling back to CPU. (Set TF_CPP_MIN_LOG_LEVEL=0 and rerun for more info.)\n",
      "No GPU/TPU found, falling back to CPU. (Set TF_CPP_MIN_LOG_LEVEL=0 and rerun for more info.)\n",
      "No GPU/TPU found, falling back to CPU. (Set TF_CPP_MIN_LOG_LEVEL=0 and rerun for more info.)\n",
      "No GPU/TPU found, falling back to CPU. (Set TF_CPP_MIN_LOG_LEVEL=0 and rerun for more info.)\n",
      "No GPU/TPU found, falling back to CPU. (Set TF_CPP_MIN_LOG_LEVEL=0 and rerun for more info.)\n",
      "No GPU/TPU found, falling back to CPU. (Set TF_CPP_MIN_LOG_LEVEL=0 and rerun for more info.)\n",
      "No GPU/TPU found, falling back to CPU. (Set TF_CPP_MIN_LOG_LEVEL=0 and rerun for more info.)\n",
      "No GPU/TPU found, falling back to CPU. (Set TF_CPP_MIN_LOG_LEVEL=0 and rerun for more info.)\n",
      "No GPU/TPU found, falling back to CPU. (Set TF_CPP_MIN_LOG_LEVEL=0 and rerun for more info.)\n",
      "No GPU/TPU found, falling back to CPU. (Set TF_CPP_MIN_LOG_LEVEL=0 and rerun for more info.)\n",
      "No GPU/TPU found, falling back to CPU. (Set TF_CPP_MIN_LOG_LEVEL=0 and rerun for more info.)\n",
      "No GPU/TPU found, falling back to CPU. (Set TF_CPP_MIN_LOG_LEVEL=0 and rerun for more info.)\n",
      "No GPU/TPU found, falling back to CPU. (Set TF_CPP_MIN_LOG_LEVEL=0 and rerun for more info.)\n",
      "No GPU/TPU found, falling back to CPU. (Set TF_CPP_MIN_LOG_LEVEL=0 and rerun for more info.)\n",
      "No GPU/TPU found, falling back to CPU. (Set TF_CPP_MIN_LOG_LEVEL=0 and rerun for more info.)\n",
      "2023-09-28 12:22:15,165 - hbmep.config - INFO - Verifying configuration ...\n",
      "2023-09-28 12:22:15,165 - hbmep.config - INFO - Success!\n",
      "2023-09-28 12:22:15,182 - hbmep.model.baseline - INFO - Initialized model with hierarchical_bayesian link\n",
      "2023-09-28 12:22:15,182 - hbmep.dataset.core - INFO - Artefacts will be stored here - /home/vishu/repos/hbmep-paper/reports/human/intraoperative/power-analysis-parallel/draw_2829/N_2/seed_7600\n",
      "2023-09-28 12:22:15,182 - hbmep.dataset.core - INFO - Copied config to /home/vishu/repos/hbmep-paper/reports/human/intraoperative/power-analysis-parallel/draw_2829/N_2/seed_7600\n",
      "2023-09-28 12:22:15,184 - hbmep.dataset.core - INFO - Processing data ...\n",
      "2023-09-28 12:22:15,186 - hbmep.utils.utils - INFO - func:load took: 0.00 sec\n",
      "2023-09-28 12:22:15,186 - hbmep.model.baseline - INFO - Running inference with hierarchical_bayesian ...\n",
      "2023-09-28 12:22:15,312 - hbmep.config - INFO - Verifying configuration ...\n",
      "2023-09-28 12:22:15,312 - hbmep.config - INFO - Success!\n",
      "2023-09-28 12:22:15,318 - hbmep.config - INFO - Verifying configuration ...\n",
      "2023-09-28 12:22:15,318 - hbmep.config - INFO - Success!\n",
      "2023-09-28 12:22:15,325 - hbmep.model.baseline - INFO - Initialized model with hierarchical_bayesian link\n",
      "2023-09-28 12:22:15,326 - hbmep.dataset.core - INFO - Artefacts will be stored here - /home/vishu/repos/hbmep-paper/reports/human/intraoperative/power-analysis-parallel/draw_2829/N_2/seed_2745\n",
      "2023-09-28 12:22:15,326 - hbmep.dataset.core - INFO - Copied config to /home/vishu/repos/hbmep-paper/reports/human/intraoperative/power-analysis-parallel/draw_2829/N_2/seed_2745\n",
      "2023-09-28 12:22:15,327 - hbmep.dataset.core - INFO - Processing data ...\n",
      "2023-09-28 12:22:15,329 - hbmep.utils.utils - INFO - func:load took: 0.00 sec\n",
      "2023-09-28 12:22:15,329 - hbmep.model.baseline - INFO - Running inference with hierarchical_bayesian ...\n",
      "2023-09-28 12:22:15,333 - hbmep.model.baseline - INFO - Initialized model with hierarchical_bayesian link\n",
      "2023-09-28 12:22:15,333 - hbmep.dataset.core - INFO - Artefacts will be stored here - /home/vishu/repos/hbmep-paper/reports/human/intraoperative/power-analysis-parallel/draw_2829/N_2/seed_1792\n",
      "2023-09-28 12:22:15,334 - hbmep.dataset.core - INFO - Copied config to /home/vishu/repos/hbmep-paper/reports/human/intraoperative/power-analysis-parallel/draw_2829/N_2/seed_1792\n",
      "2023-09-28 12:22:15,335 - hbmep.dataset.core - INFO - Processing data ...\n",
      "2023-09-28 12:22:15,337 - hbmep.utils.utils - INFO - func:load took: 0.00 sec\n",
      "2023-09-28 12:22:15,338 - hbmep.model.baseline - INFO - Running inference with hierarchical_bayesian ...\n",
      "2023-09-28 12:22:15,357 - hbmep.config - INFO - Verifying configuration ...\n",
      "2023-09-28 12:22:15,357 - hbmep.config - INFO - Success!\n",
      "2023-09-28 12:22:15,370 - hbmep.model.baseline - INFO - Initialized model with hierarchical_bayesian link\n",
      "2023-09-28 12:22:15,371 - hbmep.dataset.core - INFO - Artefacts will be stored here - /home/vishu/repos/hbmep-paper/reports/human/intraoperative/power-analysis-parallel/draw_2829/N_2/seed_6568\n",
      "2023-09-28 12:22:15,371 - hbmep.dataset.core - INFO - Copied config to /home/vishu/repos/hbmep-paper/reports/human/intraoperative/power-analysis-parallel/draw_2829/N_2/seed_6568\n",
      "2023-09-28 12:22:15,372 - hbmep.dataset.core - INFO - Processing data ...\n",
      "2023-09-28 12:22:15,374 - hbmep.utils.utils - INFO - func:load took: 0.00 sec\n",
      "2023-09-28 12:22:15,374 - hbmep.model.baseline - INFO - Running inference with hierarchical_bayesian ...\n",
      "2023-09-28 12:22:15,376 - hbmep.config - INFO - Verifying configuration ...\n",
      "2023-09-28 12:22:15,376 - hbmep.config - INFO - Success!\n",
      "2023-09-28 12:22:15,388 - hbmep.model.baseline - INFO - Initialized model with hierarchical_bayesian link\n",
      "2023-09-28 12:22:15,389 - hbmep.dataset.core - INFO - Artefacts will be stored here - /home/vishu/repos/hbmep-paper/reports/human/intraoperative/power-analysis-parallel/draw_2829/N_2/seed_281\n",
      "2023-09-28 12:22:15,389 - hbmep.dataset.core - INFO - Copied config to /home/vishu/repos/hbmep-paper/reports/human/intraoperative/power-analysis-parallel/draw_2829/N_2/seed_281\n",
      "2023-09-28 12:22:15,390 - hbmep.dataset.core - INFO - Processing data ...\n",
      "2023-09-28 12:22:15,392 - hbmep.utils.utils - INFO - func:load took: 0.00 sec\n",
      "2023-09-28 12:22:15,392 - hbmep.model.baseline - INFO - Running inference with hierarchical_bayesian ...\n",
      "2023-09-28 12:22:15,447 - hbmep.config - INFO - Verifying configuration ...\n",
      "2023-09-28 12:22:15,448 - hbmep.config - INFO - Success!\n",
      "2023-09-28 12:22:15,458 - hbmep.config - INFO - Verifying configuration ...\n",
      "2023-09-28 12:22:15,458 - hbmep.config - INFO - Success!\n",
      "2023-09-28 12:22:15,461 - hbmep.model.baseline - INFO - Initialized model with hierarchical_bayesian link\n",
      "2023-09-28 12:22:15,461 - hbmep.dataset.core - INFO - Artefacts will be stored here - /home/vishu/repos/hbmep-paper/reports/human/intraoperative/power-analysis-parallel/draw_2829/N_2/seed_7375\n",
      "2023-09-28 12:22:15,461 - hbmep.dataset.core - INFO - Copied config to /home/vishu/repos/hbmep-paper/reports/human/intraoperative/power-analysis-parallel/draw_2829/N_2/seed_7375\n",
      "2023-09-28 12:22:15,463 - hbmep.dataset.core - INFO - Processing data ...\n",
      "2023-09-28 12:22:15,464 - hbmep.utils.utils - INFO - func:load took: 0.00 sec\n",
      "2023-09-28 12:22:15,465 - hbmep.model.baseline - INFO - Running inference with hierarchical_bayesian ...\n",
      "2023-09-28 12:22:15,471 - hbmep.model.baseline - INFO - Initialized model with hierarchical_bayesian link\n",
      "2023-09-28 12:22:15,471 - hbmep.dataset.core - INFO - Artefacts will be stored here - /home/vishu/repos/hbmep-paper/reports/human/intraoperative/power-analysis-parallel/draw_2829/N_2/seed_7122\n",
      "2023-09-28 12:22:15,471 - hbmep.dataset.core - INFO - Copied config to /home/vishu/repos/hbmep-paper/reports/human/intraoperative/power-analysis-parallel/draw_2829/N_2/seed_7122\n",
      "2023-09-28 12:22:15,473 - hbmep.dataset.core - INFO - Processing data ...\n",
      "2023-09-28 12:22:15,474 - hbmep.utils.utils - INFO - func:load took: 0.00 sec\n",
      "2023-09-28 12:22:15,475 - hbmep.model.baseline - INFO - Running inference with hierarchical_bayesian ...\n",
      "2023-09-28 12:22:15,503 - hbmep.config - INFO - Verifying configuration ...\n",
      "2023-09-28 12:22:15,503 - hbmep.config - INFO - Verifying configuration ...\n",
      "2023-09-28 12:22:15,503 - hbmep.config - INFO - Success!\n",
      "2023-09-28 12:22:15,503 - hbmep.config - INFO - Success!\n",
      "2023-09-28 12:22:15,504 - hbmep.config - INFO - Verifying configuration ...\n",
      "2023-09-28 12:22:15,504 - hbmep.config - INFO - Verifying configuration ...\n",
      "2023-09-28 12:22:15,504 - hbmep.config - INFO - Success!\n",
      "2023-09-28 12:22:15,504 - hbmep.config - INFO - Success!\n",
      "2023-09-28 12:22:15,514 - hbmep.model.baseline - INFO - Initialized model with hierarchical_bayesian link\n",
      "2023-09-28 12:22:15,514 - hbmep.model.baseline - INFO - Initialized model with hierarchical_bayesian link\n",
      "2023-09-28 12:22:15,514 - hbmep.dataset.core - INFO - Artefacts will be stored here - /home/vishu/repos/hbmep-paper/reports/human/intraoperative/power-analysis-parallel/draw_2829/N_2/seed_2246\n",
      "2023-09-28 12:22:15,514 - hbmep.dataset.core - INFO - Copied config to /home/vishu/repos/hbmep-paper/reports/human/intraoperative/power-analysis-parallel/draw_2829/N_2/seed_2246\n",
      "2023-09-28 12:22:15,515 - hbmep.dataset.core - INFO - Artefacts will be stored here - /home/vishu/repos/hbmep-paper/reports/human/intraoperative/power-analysis-parallel/draw_2829/N_2/seed_3330\n",
      "2023-09-28 12:22:15,515 - hbmep.dataset.core - INFO - Copied config to /home/vishu/repos/hbmep-paper/reports/human/intraoperative/power-analysis-parallel/draw_2829/N_2/seed_3330\n",
      "2023-09-28 12:22:15,515 - hbmep.config - INFO - Verifying configuration ...\n",
      "2023-09-28 12:22:15,515 - hbmep.config - INFO - Success!\n",
      "2023-09-28 12:22:15,515 - hbmep.model.baseline - INFO - Initialized model with hierarchical_bayesian link\n",
      "2023-09-28 12:22:15,516 - hbmep.model.baseline - INFO - Initialized model with hierarchical_bayesian link\n",
      "2023-09-28 12:22:15,516 - hbmep.dataset.core - INFO - Artefacts will be stored here - /home/vishu/repos/hbmep-paper/reports/human/intraoperative/power-analysis-parallel/draw_2829/N_2/seed_8934\n",
      "2023-09-28 12:22:15,516 - hbmep.dataset.core - INFO - Processing data ...\n",
      "2023-09-28 12:22:15,516 - hbmep.dataset.core - INFO - Artefacts will be stored here - /home/vishu/repos/hbmep-paper/reports/human/intraoperative/power-analysis-parallel/draw_2829/N_2/seed_5139\n",
      "2023-09-28 12:22:15,516 - hbmep.dataset.core - INFO - Copied config to /home/vishu/repos/hbmep-paper/reports/human/intraoperative/power-analysis-parallel/draw_2829/N_2/seed_5139\n",
      "2023-09-28 12:22:15,516 - hbmep.dataset.core - INFO - Copied config to /home/vishu/repos/hbmep-paper/reports/human/intraoperative/power-analysis-parallel/draw_2829/N_2/seed_8934\n",
      "2023-09-28 12:22:15,516 - hbmep.dataset.core - INFO - Processing data ...\n",
      "2023-09-28 12:22:15,517 - hbmep.utils.utils - INFO - func:load took: 0.00 sec\n",
      "2023-09-28 12:22:15,517 - hbmep.dataset.core - INFO - Processing data ...\n",
      "2023-09-28 12:22:15,517 - hbmep.model.baseline - INFO - Running inference with hierarchical_bayesian ...\n",
      "2023-09-28 12:22:15,517 - hbmep.dataset.core - INFO - Processing data ...\n",
      "2023-09-28 12:22:15,518 - hbmep.utils.utils - INFO - func:load took: 0.00 sec\n",
      "2023-09-28 12:22:15,518 - hbmep.model.baseline - INFO - Running inference with hierarchical_bayesian ...\n",
      "2023-09-28 12:22:15,518 - hbmep.utils.utils - INFO - func:load took: 0.00 sec\n",
      "2023-09-28 12:22:15,519 - hbmep.utils.utils - INFO - func:load took: 0.00 sec\n",
      "2023-09-28 12:22:15,519 - hbmep.model.baseline - INFO - Running inference with hierarchical_bayesian ...\n",
      "2023-09-28 12:22:15,519 - hbmep.model.baseline - INFO - Running inference with hierarchical_bayesian ...\n",
      "2023-09-28 12:22:15,523 - hbmep.config - INFO - Verifying configuration ...\n",
      "2023-09-28 12:22:15,523 - hbmep.config - INFO - Success!\n",
      "2023-09-28 12:22:15,524 - hbmep.config - INFO - Verifying configuration ...\n",
      "2023-09-28 12:22:15,525 - hbmep.config - INFO - Success!\n",
      "2023-09-28 12:22:15,527 - hbmep.model.baseline - INFO - Initialized model with hierarchical_bayesian link\n",
      "2023-09-28 12:22:15,527 - hbmep.dataset.core - INFO - Artefacts will be stored here - /home/vishu/repos/hbmep-paper/reports/human/intraoperative/power-analysis-parallel/draw_2829/N_2/seed_3950\n",
      "2023-09-28 12:22:15,528 - hbmep.dataset.core - INFO - Copied config to /home/vishu/repos/hbmep-paper/reports/human/intraoperative/power-analysis-parallel/draw_2829/N_2/seed_3950\n",
      "2023-09-28 12:22:15,529 - hbmep.dataset.core - INFO - Processing data ...\n",
      "2023-09-28 12:22:15,530 - hbmep.utils.utils - INFO - func:load took: 0.00 sec\n",
      "2023-09-28 12:22:15,531 - hbmep.model.baseline - INFO - Running inference with hierarchical_bayesian ...\n",
      "2023-09-28 12:22:15,534 - hbmep.config - INFO - Verifying configuration ...\n",
      "2023-09-28 12:22:15,534 - hbmep.config - INFO - Success!\n",
      "2023-09-28 12:22:15,534 - hbmep.model.baseline - INFO - Initialized model with hierarchical_bayesian link\n",
      "2023-09-28 12:22:15,535 - hbmep.dataset.core - INFO - Artefacts will be stored here - /home/vishu/repos/hbmep-paper/reports/human/intraoperative/power-analysis-parallel/draw_2829/N_2/seed_9410\n",
      "2023-09-28 12:22:15,535 - hbmep.dataset.core - INFO - Copied config to /home/vishu/repos/hbmep-paper/reports/human/intraoperative/power-analysis-parallel/draw_2829/N_2/seed_9410\n",
      "2023-09-28 12:22:15,536 - hbmep.model.baseline - INFO - Initialized model with hierarchical_bayesian link\n",
      "2023-09-28 12:22:15,536 - hbmep.config - INFO - Verifying configuration ...\n",
      "2023-09-28 12:22:15,536 - hbmep.config - INFO - Success!\n",
      "2023-09-28 12:22:15,536 - hbmep.dataset.core - INFO - Artefacts will be stored here - /home/vishu/repos/hbmep-paper/reports/human/intraoperative/power-analysis-parallel/draw_2829/N_2/seed_3939\n",
      "2023-09-28 12:22:15,536 - hbmep.dataset.core - INFO - Copied config to /home/vishu/repos/hbmep-paper/reports/human/intraoperative/power-analysis-parallel/draw_2829/N_2/seed_3939\n",
      "2023-09-28 12:22:15,536 - hbmep.dataset.core - INFO - Processing data ...\n",
      "2023-09-28 12:22:15,537 - hbmep.dataset.core - INFO - Processing data ...\n",
      "2023-09-28 12:22:15,538 - hbmep.utils.utils - INFO - func:load took: 0.00 sec\n",
      "2023-09-28 12:22:15,538 - hbmep.model.baseline - INFO - Running inference with hierarchical_bayesian ...\n",
      "2023-09-28 12:22:15,538 - hbmep.utils.utils - INFO - func:load took: 0.00 sec\n",
      "2023-09-28 12:22:15,539 - hbmep.model.baseline - INFO - Running inference with hierarchical_bayesian ...\n",
      "2023-09-28 12:22:15,547 - hbmep.model.baseline - INFO - Initialized model with hierarchical_bayesian link\n",
      "2023-09-28 12:22:15,547 - hbmep.dataset.core - INFO - Artefacts will be stored here - /home/vishu/repos/hbmep-paper/reports/human/intraoperative/power-analysis-parallel/draw_2829/N_2/seed_2487\n",
      "2023-09-28 12:22:15,547 - hbmep.dataset.core - INFO - Copied config to /home/vishu/repos/hbmep-paper/reports/human/intraoperative/power-analysis-parallel/draw_2829/N_2/seed_2487\n",
      "2023-09-28 12:22:15,549 - hbmep.dataset.core - INFO - Processing data ...\n",
      "2023-09-28 12:22:15,550 - hbmep.utils.utils - INFO - func:load took: 0.00 sec\n",
      "2023-09-28 12:22:15,550 - hbmep.config - INFO - Verifying configuration ...\n",
      "2023-09-28 12:22:15,550 - hbmep.config - INFO - Success!\n",
      "2023-09-28 12:22:15,551 - hbmep.model.baseline - INFO - Running inference with hierarchical_bayesian ...\n",
      "2023-09-28 12:22:15,559 - hbmep.model.baseline - INFO - Initialized model with hierarchical_bayesian link\n",
      "2023-09-28 12:22:15,559 - hbmep.dataset.core - INFO - Artefacts will be stored here - /home/vishu/repos/hbmep-paper/reports/human/intraoperative/power-analysis-parallel/draw_2829/N_2/seed_6054\n",
      "2023-09-28 12:22:15,560 - hbmep.dataset.core - INFO - Copied config to /home/vishu/repos/hbmep-paper/reports/human/intraoperative/power-analysis-parallel/draw_2829/N_2/seed_6054\n",
      "2023-09-28 12:22:15,561 - hbmep.dataset.core - INFO - Processing data ...\n",
      "2023-09-28 12:22:15,562 - hbmep.model.baseline - INFO - Initialized model with hierarchical_bayesian link\n",
      "2023-09-28 12:22:15,562 - hbmep.utils.utils - INFO - func:load took: 0.00 sec\n",
      "2023-09-28 12:22:15,562 - hbmep.dataset.core - INFO - Artefacts will be stored here - /home/vishu/repos/hbmep-paper/reports/human/intraoperative/power-analysis-parallel/draw_2829/N_2/seed_6124\n",
      "2023-09-28 12:22:15,562 - hbmep.dataset.core - INFO - Copied config to /home/vishu/repos/hbmep-paper/reports/human/intraoperative/power-analysis-parallel/draw_2829/N_2/seed_6124\n",
      "2023-09-28 12:22:15,563 - hbmep.model.baseline - INFO - Running inference with hierarchical_bayesian ...\n",
      "2023-09-28 12:22:15,564 - hbmep.dataset.core - INFO - Processing data ...\n",
      "2023-09-28 12:22:15,565 - hbmep.utils.utils - INFO - func:load took: 0.00 sec\n",
      "2023-09-28 12:22:15,566 - hbmep.model.baseline - INFO - Running inference with hierarchical_bayesian ...\n",
      "2023-09-28 12:22:15,567 - hbmep.config - INFO - Verifying configuration ...\n",
      "2023-09-28 12:22:15,567 - hbmep.config - INFO - Success!\n",
      "2023-09-28 12:22:15,571 - hbmep.config - INFO - Verifying configuration ...\n",
      "2023-09-28 12:22:15,571 - hbmep.config - INFO - Verifying configuration ...\n",
      "2023-09-28 12:22:15,571 - hbmep.config - INFO - Verifying configuration ...\n",
      "2023-09-28 12:22:15,571 - hbmep.config - INFO - Success!\n",
      "2023-09-28 12:22:15,571 - hbmep.config - INFO - Success!\n",
      "2023-09-28 12:22:15,572 - hbmep.config - INFO - Success!\n",
      "2023-09-28 12:22:15,579 - hbmep.config - INFO - Verifying configuration ...\n",
      "2023-09-28 12:22:15,579 - hbmep.config - INFO - Verifying configuration ...\n",
      "2023-09-28 12:22:15,579 - hbmep.config - INFO - Success!\n",
      "2023-09-28 12:22:15,579 - hbmep.config - INFO - Success!\n",
      "2023-09-28 12:22:15,580 - hbmep.model.baseline - INFO - Initialized model with hierarchical_bayesian link\n",
      "2023-09-28 12:22:15,581 - hbmep.dataset.core - INFO - Artefacts will be stored here - /home/vishu/repos/hbmep-paper/reports/human/intraoperative/power-analysis-parallel/draw_2829/N_2/seed_9402\n",
      "2023-09-28 12:22:15,581 - hbmep.dataset.core - INFO - Copied config to /home/vishu/repos/hbmep-paper/reports/human/intraoperative/power-analysis-parallel/draw_2829/N_2/seed_9402\n",
      "2023-09-28 12:22:15,582 - hbmep.config - INFO - Verifying configuration ...\n",
      "2023-09-28 12:22:15,582 - hbmep.config - INFO - Success!\n",
      "2023-09-28 12:22:15,583 - hbmep.dataset.core - INFO - Processing data ...\n",
      "2023-09-28 12:22:15,584 - hbmep.utils.utils - INFO - func:load took: 0.00 sec\n",
      "2023-09-28 12:22:15,585 - hbmep.model.baseline - INFO - Initialized model with hierarchical_bayesian link\n",
      "2023-09-28 12:22:15,585 - hbmep.model.baseline - INFO - Initialized model with hierarchical_bayesian link\n",
      "2023-09-28 12:22:15,585 - hbmep.model.baseline - INFO - Initialized model with hierarchical_bayesian link\n",
      "2023-09-28 12:22:15,585 - hbmep.dataset.core - INFO - Artefacts will be stored here - /home/vishu/repos/hbmep-paper/reports/human/intraoperative/power-analysis-parallel/draw_2829/N_2/seed_559\n",
      "2023-09-28 12:22:15,585 - hbmep.model.baseline - INFO - Running inference with hierarchical_bayesian ...\n",
      "2023-09-28 12:22:15,585 - hbmep.dataset.core - INFO - Artefacts will be stored here - /home/vishu/repos/hbmep-paper/reports/human/intraoperative/power-analysis-parallel/draw_2829/N_2/seed_7877\n",
      "2023-09-28 12:22:15,585 - hbmep.dataset.core - INFO - Artefacts will be stored here - /home/vishu/repos/hbmep-paper/reports/human/intraoperative/power-analysis-parallel/draw_2829/N_2/seed_4704\n",
      "2023-09-28 12:22:15,585 - hbmep.dataset.core - INFO - Copied config to /home/vishu/repos/hbmep-paper/reports/human/intraoperative/power-analysis-parallel/draw_2829/N_2/seed_4704\n",
      "2023-09-28 12:22:15,585 - hbmep.dataset.core - INFO - Copied config to /home/vishu/repos/hbmep-paper/reports/human/intraoperative/power-analysis-parallel/draw_2829/N_2/seed_559\n",
      "2023-09-28 12:22:15,585 - hbmep.dataset.core - INFO - Copied config to /home/vishu/repos/hbmep-paper/reports/human/intraoperative/power-analysis-parallel/draw_2829/N_2/seed_7877\n",
      "2023-09-28 12:22:15,587 - hbmep.dataset.core - INFO - Processing data ...\n",
      "2023-09-28 12:22:15,587 - hbmep.dataset.core - INFO - Processing data ...\n",
      "2023-09-28 12:22:15,587 - hbmep.dataset.core - INFO - Processing data ...\n",
      "2023-09-28 12:22:15,588 - hbmep.utils.utils - INFO - func:load took: 0.00 sec\n",
      "2023-09-28 12:22:15,588 - hbmep.utils.utils - INFO - func:load took: 0.00 sec\n",
      "2023-09-28 12:22:15,588 - hbmep.utils.utils - INFO - func:load took: 0.00 sec\n",
      "2023-09-28 12:22:15,589 - hbmep.model.baseline - INFO - Running inference with hierarchical_bayesian ...\n",
      "2023-09-28 12:22:15,589 - hbmep.model.baseline - INFO - Running inference with hierarchical_bayesian ...\n",
      "2023-09-28 12:22:15,589 - hbmep.model.baseline - INFO - Running inference with hierarchical_bayesian ...\n",
      "2023-09-28 12:22:15,590 - hbmep.config - INFO - Verifying configuration ...\n",
      "2023-09-28 12:22:15,590 - hbmep.config - INFO - Success!\n",
      "2023-09-28 12:22:15,590 - hbmep.config - INFO - Verifying configuration ...\n",
      "2023-09-28 12:22:15,590 - hbmep.config - INFO - Success!\n",
      "2023-09-28 12:22:15,591 - hbmep.config - INFO - Verifying configuration ...\n",
      "2023-09-28 12:22:15,591 - hbmep.config - INFO - Success!\n",
      "2023-09-28 12:22:15,593 - hbmep.model.baseline - INFO - Initialized model with hierarchical_bayesian link\n",
      "2023-09-28 12:22:15,593 - hbmep.model.baseline - INFO - Initialized model with hierarchical_bayesian link\n",
      "2023-09-28 12:22:15,593 - hbmep.dataset.core - INFO - Artefacts will be stored here - /home/vishu/repos/hbmep-paper/reports/human/intraoperative/power-analysis-parallel/draw_2829/N_2/seed_9268\n",
      "2023-09-28 12:22:15,593 - hbmep.dataset.core - INFO - Artefacts will be stored here - /home/vishu/repos/hbmep-paper/reports/human/intraoperative/power-analysis-parallel/draw_2829/N_2/seed_5394\n",
      "2023-09-28 12:22:15,593 - hbmep.dataset.core - INFO - Copied config to /home/vishu/repos/hbmep-paper/reports/human/intraoperative/power-analysis-parallel/draw_2829/N_2/seed_5394\n",
      "2023-09-28 12:22:15,593 - hbmep.dataset.core - INFO - Copied config to /home/vishu/repos/hbmep-paper/reports/human/intraoperative/power-analysis-parallel/draw_2829/N_2/seed_9268\n",
      "2023-09-28 12:22:15,594 - hbmep.dataset.core - INFO - Processing data ...\n",
      "2023-09-28 12:22:15,594 - hbmep.dataset.core - INFO - Processing data ...\n",
      "2023-09-28 12:22:15,595 - hbmep.model.baseline - INFO - Initialized model with hierarchical_bayesian link\n",
      "2023-09-28 12:22:15,595 - hbmep.dataset.core - INFO - Artefacts will be stored here - /home/vishu/repos/hbmep-paper/reports/human/intraoperative/power-analysis-parallel/draw_2829/N_2/seed_3862\n",
      "2023-09-28 12:22:15,596 - hbmep.dataset.core - INFO - Copied config to /home/vishu/repos/hbmep-paper/reports/human/intraoperative/power-analysis-parallel/draw_2829/N_2/seed_3862\n",
      "2023-09-28 12:22:15,596 - hbmep.utils.utils - INFO - func:load took: 0.00 sec\n",
      "2023-09-28 12:22:15,596 - hbmep.utils.utils - INFO - func:load took: 0.00 sec\n",
      "2023-09-28 12:22:15,596 - hbmep.model.baseline - INFO - Running inference with hierarchical_bayesian ...\n",
      "2023-09-28 12:22:15,596 - hbmep.model.baseline - INFO - Running inference with hierarchical_bayesian ...\n",
      "2023-09-28 12:22:15,597 - hbmep.config - INFO - Verifying configuration ...\n",
      "2023-09-28 12:22:15,597 - hbmep.config - INFO - Success!\n",
      "2023-09-28 12:22:15,597 - hbmep.dataset.core - INFO - Processing data ...\n",
      "2023-09-28 12:22:15,598 - hbmep.utils.utils - INFO - func:load took: 0.00 sec\n",
      "2023-09-28 12:22:15,599 - hbmep.model.baseline - INFO - Running inference with hierarchical_bayesian ...\n",
      "2023-09-28 12:22:15,602 - hbmep.model.baseline - INFO - Initialized model with hierarchical_bayesian link\n",
      "2023-09-28 12:22:15,602 - hbmep.model.baseline - INFO - Initialized model with hierarchical_bayesian link\n",
      "2023-09-28 12:22:15,602 - hbmep.dataset.core - INFO - Artefacts will be stored here - /home/vishu/repos/hbmep-paper/reports/human/intraoperative/power-analysis-parallel/draw_2829/N_2/seed_3197\n",
      "2023-09-28 12:22:15,602 - hbmep.dataset.core - INFO - Artefacts will be stored here - /home/vishu/repos/hbmep-paper/reports/human/intraoperative/power-analysis-parallel/draw_2829/N_2/seed_9001\n",
      "2023-09-28 12:22:15,602 - hbmep.dataset.core - INFO - Copied config to /home/vishu/repos/hbmep-paper/reports/human/intraoperative/power-analysis-parallel/draw_2829/N_2/seed_3197\n",
      "2023-09-28 12:22:15,602 - hbmep.dataset.core - INFO - Copied config to /home/vishu/repos/hbmep-paper/reports/human/intraoperative/power-analysis-parallel/draw_2829/N_2/seed_9001\n",
      "2023-09-28 12:22:15,603 - hbmep.dataset.core - INFO - Processing data ...\n",
      "2023-09-28 12:22:15,603 - hbmep.dataset.core - INFO - Processing data ...\n",
      "2023-09-28 12:22:15,604 - hbmep.utils.utils - INFO - func:load took: 0.00 sec\n",
      "2023-09-28 12:22:15,604 - hbmep.utils.utils - INFO - func:load took: 0.00 sec\n",
      "2023-09-28 12:22:15,605 - hbmep.model.baseline - INFO - Running inference with hierarchical_bayesian ...\n",
      "2023-09-28 12:22:15,605 - hbmep.model.baseline - INFO - Running inference with hierarchical_bayesian ...\n",
      "2023-09-28 12:22:15,606 - hbmep.model.baseline - INFO - Initialized model with hierarchical_bayesian link\n",
      "2023-09-28 12:22:15,607 - hbmep.dataset.core - INFO - Artefacts will be stored here - /home/vishu/repos/hbmep-paper/reports/human/intraoperative/power-analysis-parallel/draw_2829/N_2/seed_2097\n",
      "2023-09-28 12:22:15,607 - hbmep.dataset.core - INFO - Copied config to /home/vishu/repos/hbmep-paper/reports/human/intraoperative/power-analysis-parallel/draw_2829/N_2/seed_2097\n",
      "2023-09-28 12:22:15,608 - hbmep.dataset.core - INFO - Processing data ...\n",
      "2023-09-28 12:22:15,610 - hbmep.utils.utils - INFO - func:load took: 0.00 sec\n",
      "2023-09-28 12:22:15,611 - hbmep.model.baseline - INFO - Running inference with hierarchical_bayesian ...\n",
      "2023-09-28 12:22:15,614 - hbmep.model.baseline - INFO - Initialized model with hierarchical_bayesian link\n",
      "2023-09-28 12:22:15,614 - hbmep.dataset.core - INFO - Artefacts will be stored here - /home/vishu/repos/hbmep-paper/reports/human/intraoperative/power-analysis-parallel/draw_2829/N_2/seed_73\n",
      "2023-09-28 12:22:15,614 - hbmep.dataset.core - INFO - Copied config to /home/vishu/repos/hbmep-paper/reports/human/intraoperative/power-analysis-parallel/draw_2829/N_2/seed_73\n",
      "2023-09-28 12:22:15,616 - hbmep.dataset.core - INFO - Processing data ...\n",
      "2023-09-28 12:22:15,617 - hbmep.utils.utils - INFO - func:load took: 0.00 sec\n",
      "2023-09-28 12:22:15,619 - hbmep.model.baseline - INFO - Running inference with hierarchical_bayesian ...\n",
      "2023-09-28 12:22:15,622 - hbmep.config - INFO - Verifying configuration ...\n",
      "2023-09-28 12:22:15,622 - hbmep.config - INFO - Success!\n",
      "2023-09-28 12:22:15,633 - hbmep.config - INFO - Verifying configuration ...\n",
      "2023-09-28 12:22:15,633 - hbmep.config - INFO - Success!\n",
      "2023-09-28 12:22:15,635 - hbmep.model.baseline - INFO - Initialized model with hierarchical_bayesian link\n",
      "2023-09-28 12:22:15,635 - hbmep.dataset.core - INFO - Artefacts will be stored here - /home/vishu/repos/hbmep-paper/reports/human/intraoperative/power-analysis-parallel/draw_2829/N_2/seed_5344\n",
      "2023-09-28 12:22:15,635 - hbmep.dataset.core - INFO - Copied config to /home/vishu/repos/hbmep-paper/reports/human/intraoperative/power-analysis-parallel/draw_2829/N_2/seed_5344\n",
      "2023-09-28 12:22:15,637 - hbmep.dataset.core - INFO - Processing data ...\n",
      "2023-09-28 12:22:15,638 - hbmep.utils.utils - INFO - func:load took: 0.00 sec\n",
      "2023-09-28 12:22:15,638 - hbmep.model.baseline - INFO - Running inference with hierarchical_bayesian ...\n",
      "2023-09-28 12:22:15,646 - hbmep.model.baseline - INFO - Initialized model with hierarchical_bayesian link\n",
      "2023-09-28 12:22:15,646 - hbmep.dataset.core - INFO - Artefacts will be stored here - /home/vishu/repos/hbmep-paper/reports/human/intraoperative/power-analysis-parallel/draw_2829/N_2/seed_928\n",
      "2023-09-28 12:22:15,647 - hbmep.dataset.core - INFO - Copied config to /home/vishu/repos/hbmep-paper/reports/human/intraoperative/power-analysis-parallel/draw_2829/N_2/seed_928\n",
      "2023-09-28 12:22:15,648 - hbmep.dataset.core - INFO - Processing data ...\n",
      "2023-09-28 12:22:15,649 - hbmep.utils.utils - INFO - func:load took: 0.00 sec\n",
      "2023-09-28 12:22:15,650 - hbmep.model.baseline - INFO - Running inference with hierarchical_bayesian ...\n",
      "2023-09-28 12:22:15,716 - hbmep.config - INFO - Verifying configuration ...\n",
      "2023-09-28 12:22:15,716 - hbmep.config - INFO - Success!\n",
      "2023-09-28 12:22:15,742 - hbmep.model.baseline - INFO - Initialized model with hierarchical_bayesian link\n",
      "2023-09-28 12:22:15,742 - hbmep.dataset.core - INFO - Artefacts will be stored here - /home/vishu/repos/hbmep-paper/reports/human/intraoperative/power-analysis-parallel/draw_2829/N_2/seed_9701\n",
      "2023-09-28 12:22:15,743 - hbmep.dataset.core - INFO - Copied config to /home/vishu/repos/hbmep-paper/reports/human/intraoperative/power-analysis-parallel/draw_2829/N_2/seed_9701\n",
      "2023-09-28 12:22:15,744 - hbmep.dataset.core - INFO - Processing data ...\n",
      "2023-09-28 12:22:15,745 - hbmep.utils.utils - INFO - func:load took: 0.00 sec\n",
      "2023-09-28 12:22:15,746 - hbmep.model.baseline - INFO - Running inference with hierarchical_bayesian ...\n",
      "2023-09-28 12:22:15,765 - hbmep.config - INFO - Verifying configuration ...\n",
      "2023-09-28 12:22:15,765 - hbmep.config - INFO - Success!\n",
      "2023-09-28 12:22:15,794 - hbmep.model.baseline - INFO - Initialized model with hierarchical_bayesian link\n",
      "2023-09-28 12:22:15,794 - hbmep.dataset.core - INFO - Artefacts will be stored here - /home/vishu/repos/hbmep-paper/reports/human/intraoperative/power-analysis-parallel/draw_2829/N_2/seed_7331\n",
      "2023-09-28 12:22:15,794 - hbmep.dataset.core - INFO - Copied config to /home/vishu/repos/hbmep-paper/reports/human/intraoperative/power-analysis-parallel/draw_2829/N_2/seed_7331\n",
      "2023-09-28 12:22:15,796 - hbmep.dataset.core - INFO - Processing data ...\n",
      "2023-09-28 12:22:15,797 - hbmep.utils.utils - INFO - func:load took: 0.00 sec\n",
      "2023-09-28 12:22:15,797 - hbmep.model.baseline - INFO - Running inference with hierarchical_bayesian ...\n",
      "Compiling.. :   0%|          | 0/1500 [00:00<?, ?it/s]\n",
      "  0%|          | 0/1500 [00:00<?, ?it/s]\u001b[A\n",
      "Compiling.. :   0%|          | 0/1500 [00:00<?, ?it/s]\u001b[A\n",
      "\n",
      "  0%|          | 0/1500 [00:00<?, ?it/s]\u001b[A\u001b[A\n",
      "\n",
      "Compiling.. :   0%|          | 0/1500 [00:00<?, ?it/s]\u001b[A\u001b[A\n",
      "\n",
      "\n",
      "  0%|          | 0/1500 [00:00<?, ?it/s]\u001b[A\u001b[A\u001b[A\n",
      "\n",
      "\n",
      "Compiling.. :   0%|          | 0/1500 [00:00<?, ?it/s]\u001b[A\u001b[A\u001b[A\n",
      "  0%|          | 0/1500 [00:00<?, ?it/s]\u001b[A\n",
      "Compiling.. :   0%|          | 0/1500 [00:00<?, ?it/s]\u001b[A\n",
      "\n",
      "  0%|          | 0/1500 [00:00<?, ?it/s]\u001b[A\u001b[A\n",
      "\n",
      "Compiling.. :   0%|          | 0/1500 [00:00<?, ?it/s]\u001b[A\u001b[A\n",
      "\n",
      "\n",
      "  0%|          | 0/1500 [00:00<?, ?it/s]\u001b[A\u001b[A\u001b[A\n",
      "\n",
      "\n",
      "Compiling.. :   0%|          | 0/1500 [00:00<?, ?it/s]\u001b[A\u001b[A\u001b[A\n",
      "  0%|          | 0/1500 [00:00<?, ?it/s]\u001b[A\n",
      "Compiling.. :   0%|          | 0/1500 [00:00<?, ?it/s]\u001b[A\n",
      "\n",
      "  0%|          | 0/1500 [00:00<?, ?it/s]\u001b[A\u001b[A\n",
      "\n",
      "Compiling.. :   0%|          | 0/1500 [00:00<?, ?it/s]\u001b[A\u001b[A\n",
      "\n",
      "\n",
      "  0%|          | 0/1500 [00:00<?, ?it/s]\u001b[A\u001b[A\u001b[A\n",
      "\n",
      "\n",
      "Compiling.. :   0%|          | 0/1500 [00:00<?, ?it/s]\u001b[A\u001b[A\u001b[A\n",
      "  0%|          | 0/1500 [00:00<?, ?it/s]\u001b[A\n",
      "Compiling.. :   0%|          | 0/1500 [00:00<?, ?it/s]\u001b[A\n",
      "\n",
      "  0%|          | 0/1500 [00:00<?, ?it/s]\u001b[A\u001b[A\n",
      "\n",
      "Compiling.. :   0%|          | 0/1500 [00:00<?, ?it/s]\u001b[A\u001b[A\n",
      "\n",
      "\n",
      "  0%|          | 0/1500 [00:00<?, ?it/s]\u001b[A\u001b[A\u001b[A\n",
      "\n",
      "\n",
      "Compiling.. :   0%|          | 0/1500 [00:00<?, ?it/s]\u001b[A\u001b[A\u001b[A\n",
      "  0%|          | 0/1500 [00:00<?, ?it/s]\u001b[A\n",
      "Compiling.. :   0%|          | 0/1500 [00:00<?, ?it/s]\u001b[A\n",
      "\n",
      "  0%|          | 0/1500 [00:00<?, ?it/s]\u001b[A\u001b[A\n",
      "\n",
      "Compiling.. :   0%|          | 0/1500 [00:00<?, ?it/s]\u001b[A\u001b[A\n",
      "\n",
      "\n",
      "  0%|          | 0/1500 [00:00<?, ?it/s]\u001b[A\u001b[A\u001b[A\n",
      "\n",
      "\n",
      "Compiling.. :   0%|          | 0/1500 [00:00<?, ?it/s]\u001b[A\u001b[A\u001b[A\n",
      "  0%|          | 0/1500 [00:00<?, ?it/s]\u001b[A\n",
      "Compiling.. :   0%|          | 0/1500 [00:00<?, ?it/s]\u001b[A\n",
      "\n",
      "  0%|          | 0/1500 [00:00<?, ?it/s]\u001b[A\u001b[A\n",
      "\n",
      "Compiling.. :   0%|          | 0/1500 [00:00<?, ?it/s]\u001b[A\u001b[A\n",
      "\n",
      "\n",
      "  0%|          | 0/1500 [00:00<?, ?it/s]\u001b[A\u001b[A\u001b[A\n",
      "\n",
      "\n",
      "Compiling.. :   0%|          | 0/1500 [00:00<?, ?it/s]\u001b[A\u001b[A\u001b[A\n",
      "  0%|          | 0/1500 [00:00<?, ?it/s]\u001b[A\n",
      "Compiling.. :   0%|          | 0/1500 [00:00<?, ?it/s]\u001b[A\n",
      "\n",
      "  0%|          | 0/1500 [00:00<?, ?it/s]\u001b[A\u001b[A\n",
      "\n",
      "Compiling.. :   0%|          | 0/1500 [00:00<?, ?it/s]\u001b[A\u001b[A\n",
      "\n",
      "\n",
      "  0%|          | 0/1500 [00:00<?, ?it/s]\u001b[A\u001b[A\u001b[A\n",
      "\n",
      "\n",
      "Compiling.. :   0%|          | 0/1500 [00:00<?, ?it/s]\u001b[A\u001b[A\u001b[A\n",
      "  0%|          | 0/1500 [00:00<?, ?it/s]\u001b[A\n",
      "Compiling.. :   0%|          | 0/1500 [00:00<?, ?it/s]\u001b[A\n",
      "\n",
      "  0%|          | 0/1500 [00:00<?, ?it/s]\u001b[A\u001b[A\n",
      "\n",
      "Compiling.. :   0%|          | 0/1500 [00:00<?, ?it/s]\u001b[A\u001b[A\n",
      "\n",
      "\n",
      "  0%|          | 0/1500 [00:00<?, ?it/s]\u001b[A\u001b[A\u001b[A\n",
      "\n",
      "\n",
      "Compiling.. :   0%|          | 0/1500 [00:00<?, ?it/s]\u001b[A\u001b[A\u001b[A\n",
      "  0%|          | 0/1500 [00:00<?, ?it/s]\u001b[A\n",
      "Compiling.. :   0%|          | 0/1500 [00:00<?, ?it/s]\u001b[A\n",
      "\n",
      "  0%|          | 0/1500 [00:00<?, ?it/s]\u001b[A\u001b[A\n",
      "\n",
      "Compiling.. :   0%|          | 0/1500 [00:00<?, ?it/s]\u001b[A\u001b[A\n",
      "\n",
      "\n",
      "  0%|          | 0/1500 [00:00<?, ?it/s]\u001b[A\u001b[A\u001b[A\n",
      "\n",
      "\n",
      "Compiling.. :   0%|          | 0/1500 [00:00<?, ?it/s]\u001b[A\u001b[A\u001b[A\n",
      "  0%|          | 0/1500 [00:00<?, ?it/s]\u001b[A\n",
      "Compiling.. :   0%|          | 0/1500 [00:00<?, ?it/s]\u001b[A\n",
      "\n",
      "  0%|          | 0/1500 [00:00<?, ?it/s]\u001b[A\u001b[A\n",
      "\n",
      "Compiling.. :   0%|          | 0/1500 [00:00<?, ?it/s]\u001b[A\u001b[A\n",
      "\n",
      "\n",
      "  0%|          | 0/1500 [00:00<?, ?it/s]\u001b[A\u001b[A\u001b[A\n",
      "\n",
      "\n",
      "Compiling.. :   0%|          | 0/1500 [00:00<?, ?it/s]\u001b[A\u001b[A\u001b[A\n",
      "  0%|          | 0/1500 [00:00<?, ?it/s]\u001b[A\n",
      "Compiling.. :   0%|          | 0/1500 [00:00<?, ?it/s]\u001b[A\n",
      "\n",
      "  0%|          | 0/1500 [00:00<?, ?it/s]\u001b[A\u001b[A\n",
      "\n",
      "Compiling.. :   0%|          | 0/1500 [00:00<?, ?it/s]\u001b[A\u001b[A\n",
      "\n",
      "\n",
      "  0%|          | 0/1500 [00:00<?, ?it/s]\u001b[A\u001b[A\u001b[A\n",
      "\n",
      "\n",
      "Compiling.. :   0%|          | 0/1500 [00:00<?, ?it/s]\u001b[A\u001b[A\u001b[A\n",
      "  0%|          | 0/1500 [00:00<?, ?it/s]\u001b[A\n",
      "Compiling.. :   0%|          | 0/1500 [00:00<?, ?it/s]\u001b[A\n",
      "\n",
      "  0%|          | 0/1500 [00:00<?, ?it/s]\u001b[A\u001b[A\n",
      "\n",
      "Compiling.. :   0%|          | 0/1500 [00:00<?, ?it/s]\u001b[A\u001b[A\n",
      "\n",
      "\n",
      "  0%|          | 0/1500 [00:00<?, ?it/s]\u001b[A\u001b[A\u001b[A\n",
      "\n",
      "\n",
      "Compiling.. :   0%|          | 0/1500 [00:00<?, ?it/s]\u001b[A\u001b[A\u001b[A\n",
      "  0%|          | 0/1500 [00:00<?, ?it/s]\u001b[A\n",
      "Compiling.. :   0%|          | 0/1500 [00:00<?, ?it/s]\u001b[A\n",
      "\n",
      "  0%|          | 0/1500 [00:00<?, ?it/s]\u001b[A\u001b[A\n",
      "\n",
      "Compiling.. :   0%|          | 0/1500 [00:00<?, ?it/s]\u001b[A\u001b[A\n",
      "\n",
      "\n",
      "  0%|          | 0/1500 [00:00<?, ?it/s]\u001b[A\u001b[A\u001b[A\n",
      "\n",
      "\n",
      "Compiling.. :   0%|          | 0/1500 [00:00<?, ?it/s]\u001b[A\u001b[A\u001b[A\n",
      "  0%|          | 0/1500 [00:00<?, ?it/s]\u001b[A\n",
      "Compiling.. :   0%|          | 0/1500 [00:00<?, ?it/s]\u001b[A\n",
      "\n",
      "  0%|          | 0/1500 [00:00<?, ?it/s]\u001b[A\u001b[A\n",
      "\n",
      "Compiling.. :   0%|          | 0/1500 [00:00<?, ?it/s]\u001b[A\u001b[A\n",
      "\n",
      "\n",
      "  0%|          | 0/1500 [00:00<?, ?it/s]\u001b[A\u001b[A\u001b[A\n",
      "\n",
      "\n",
      "Compiling.. :   0%|          | 0/1500 [00:00<?, ?it/s]\u001b[A\u001b[A\u001b[A\n",
      "  0%|          | 0/1500 [00:00<?, ?it/s]\u001b[A\n",
      "Compiling.. :   0%|          | 0/1500 [00:00<?, ?it/s]\u001b[A\n",
      "\n",
      "  0%|          | 0/1500 [00:00<?, ?it/s]\u001b[A\u001b[A\n",
      "\n",
      "Compiling.. :   0%|          | 0/1500 [00:00<?, ?it/s]\u001b[A\u001b[A\n",
      "\n",
      "\n",
      "  0%|          | 0/1500 [00:00<?, ?it/s]\u001b[A\u001b[A\u001b[A\n",
      "\n",
      "\n",
      "Compiling.. :   0%|          | 0/1500 [00:00<?, ?it/s]\u001b[A\u001b[A\u001b[A\n",
      "  0%|          | 0/1500 [00:00<?, ?it/s]\u001b[A\n",
      "Compiling.. :   0%|          | 0/1500 [00:00<?, ?it/s]\u001b[A\n",
      "\n",
      "  0%|          | 0/1500 [00:00<?, ?it/s]\u001b[A\u001b[A\n",
      "\n",
      "Compiling.. :   0%|          | 0/1500 [00:00<?, ?it/s]\u001b[A\u001b[A\n",
      "\n",
      "\n",
      "  0%|          | 0/1500 [00:00<?, ?it/s]\u001b[A\u001b[A\u001b[A\n",
      "\n",
      "\n",
      "Compiling.. :   0%|          | 0/1500 [00:00<?, ?it/s]\u001b[A\u001b[A\u001b[A\n",
      "  0%|          | 0/1500 [00:00<?, ?it/s]\u001b[A\n",
      "Compiling.. :   0%|          | 0/1500 [00:00<?, ?it/s]\u001b[A\n",
      "\n",
      "  0%|          | 0/1500 [00:00<?, ?it/s]\u001b[A\u001b[A\n",
      "\n",
      "Compiling.. :   0%|          | 0/1500 [00:00<?, ?it/s]\u001b[A\u001b[A\n",
      "\n",
      "\n",
      "  0%|          | 0/1500 [00:00<?, ?it/s]\u001b[A\u001b[A\u001b[A\n",
      "\n",
      "\n",
      "Compiling.. :   0%|          | 0/1500 [00:00<?, ?it/s]\u001b[A\u001b[A\u001b[A\n",
      "  0%|          | 0/1500 [00:00<?, ?it/s]\u001b[A\n",
      "Compiling.. :   0%|          | 0/1500 [00:00<?, ?it/s]\u001b[A\n",
      "\n",
      "  0%|          | 0/1500 [00:00<?, ?it/s]\u001b[A\u001b[A\n",
      "\n",
      "Compiling.. :   0%|          | 0/1500 [00:00<?, ?it/s]\u001b[A\u001b[A\n",
      "\n",
      "\n",
      "  0%|          | 0/1500 [00:00<?, ?it/s]\u001b[A\u001b[A\u001b[A\n",
      "\n",
      "\n",
      "Compiling.. :   0%|          | 0/1500 [00:00<?, ?it/s]\u001b[A\u001b[A\u001b[A\n",
      "  0%|          | 0/1500 [00:00<?, ?it/s]\u001b[A\n",
      "Compiling.. :   0%|          | 0/1500 [00:00<?, ?it/s]\u001b[A\n",
      "\n",
      "  0%|          | 0/1500 [00:00<?, ?it/s]\u001b[A\u001b[A\n",
      "\n",
      "Compiling.. :   0%|          | 0/1500 [00:00<?, ?it/s]\u001b[A\u001b[A\n",
      "\n",
      "\n",
      "  0%|          | 0/1500 [00:00<?, ?it/s]\u001b[A\u001b[A\u001b[A\n",
      "\n",
      "\n",
      "Compiling.. :   0%|          | 0/1500 [00:00<?, ?it/s]\u001b[A\u001b[A\u001b[A\n",
      "  0%|          | 0/1500 [00:00<?, ?it/s]\u001b[A\n",
      "Compiling.. :   0%|          | 0/1500 [00:00<?, ?it/s]\u001b[A\n",
      "\n",
      "  0%|          | 0/1500 [00:00<?, ?it/s]\u001b[A\u001b[A\n",
      "\n",
      "Compiling.. :   0%|          | 0/1500 [00:00<?, ?it/s]\u001b[A\u001b[A\n",
      "\n",
      "\n",
      "  0%|          | 0/1500 [00:00<?, ?it/s]\u001b[A\u001b[A\u001b[A\n",
      "\n",
      "\n",
      "Compiling.. :   0%|          | 0/1500 [00:00<?, ?it/s]\u001b[A\u001b[A\u001b[A\n",
      "  0%|          | 0/1500 [00:00<?, ?it/s]\u001b[A\n",
      "Compiling.. :   0%|          | 0/1500 [00:00<?, ?it/s]\u001b[A\n",
      "\n",
      "  0%|          | 0/1500 [00:00<?, ?it/s]\u001b[A\u001b[A\n",
      "\n",
      "Compiling.. :   0%|          | 0/1500 [00:00<?, ?it/s]\u001b[A\u001b[A\n",
      "\n",
      "\n",
      "  0%|          | 0/1500 [00:00<?, ?it/s]\u001b[A\u001b[A\u001b[A\n",
      "\n",
      "\n",
      "Compiling.. :   0%|          | 0/1500 [00:00<?, ?it/s]\u001b[A\u001b[A\u001b[A\n",
      "  0%|          | 0/1500 [00:00<?, ?it/s]\u001b[A\n",
      "Compiling.. :   0%|          | 0/1500 [00:00<?, ?it/s]\u001b[A\n",
      "\n",
      "  0%|          | 0/1500 [00:00<?, ?it/s]\u001b[A\u001b[A\n",
      "\n",
      "Compiling.. :   0%|          | 0/1500 [00:00<?, ?it/s]\u001b[A\u001b[A\n",
      "\n",
      "\n",
      "  0%|          | 0/1500 [00:00<?, ?it/s]\u001b[A\u001b[A\u001b[A\n",
      "\n",
      "\n",
      "Compiling.. :   0%|          | 0/1500 [00:00<?, ?it/s]\u001b[A\u001b[A\u001b[A\n",
      "  0%|          | 0/1500 [00:00<?, ?it/s]\u001b[A\n",
      "Compiling.. :   0%|          | 0/1500 [00:00<?, ?it/s]\u001b[A\n",
      "\n",
      "  0%|          | 0/1500 [00:00<?, ?it/s]\u001b[A\u001b[A\n",
      "\n",
      "Compiling.. :   0%|          | 0/1500 [00:00<?, ?it/s]\u001b[A\u001b[A\n",
      "\n",
      "\n",
      "  0%|          | 0/1500 [00:00<?, ?it/s]\u001b[A\u001b[A\u001b[A\n",
      "\n",
      "\n",
      "Compiling.. :   0%|          | 0/1500 [00:00<?, ?it/s]\u001b[A\u001b[A\u001b[A\n",
      "  0%|          | 0/1500 [00:00<?, ?it/s]\u001b[A\n",
      "Compiling.. :   0%|          | 0/1500 [00:00<?, ?it/s]\u001b[A\n",
      "\n",
      "\n",
      "  0%|          | 0/1500 [00:00<?, ?it/s]\u001b[A\n",
      "  0%|          | 0/1500 [00:00<?, ?it/s]\u001b[A\u001b[A\n",
      "\n",
      "Compiling.. :   0%|          | 0/1500 [00:00<?, ?it/s]\u001b[A\u001b[A\n",
      "\n",
      "  0%|          | 0/1500 [00:00<?, ?it/s]\n",
      "\n",
      "\n",
      "\u001b[A\u001b[A\n",
      "\n",
      "Compiling.. :   0%|          | 0/1500 [00:00<?, ?it/s]\u001b[A\u001b[A\u001b[A\u001b[A\u001b[A\n",
      "\n",
      "\n",
      "\n",
      "\n",
      "\n",
      "  0%|          | 0/1500 [00:00<?, ?it/s]\u001b[A\u001b[A\u001b[Ait/s]\u001b[A\u001b[A\u001b[A\n",
      "\n",
      "\n",
      "Compiling.. :   0%|          | 0/1500 [00:00<?, ?it/s]\u001b[A\u001b[A\u001b[A\n",
      "  0%|          | 0/1500 [00:00<?, ?it/s]\u001b[A\n",
      "Compiling.. :   0%|          | 0/1500 [00:00<?, ?it/s]\u001b[A\n",
      "\n",
      "  0%|          | 0/1500 [00:00<?, ?it/s]\u001b[A\u001b[A\n",
      "\n",
      "Compiling.. :   0%|          | 0/1500 [00:00<?, ?it/s]\u001b[A\u001b[A\n",
      "\n",
      "\n",
      "  0%|          | 0/1500 [00:00<?, ?it/s]\u001b[A\u001b[A\u001b[A\n",
      "\n",
      "\n",
      "Compiling.. :   0%|          | 0/1500 [00:00<?, ?it/s]\u001b[A\u001b[A\u001b[A\n",
      "  0%|          | 0/1500 [00:00<?, ?it/s]\u001b[A\n",
      "Compiling.. :   0%|          | 0/1500 [00:00<?, ?it/s]\u001b[A\n",
      "\n",
      "  0%|          | 0/1500 [00:00<?, ?it/s]\u001b[A\u001b[A\n",
      "\n",
      "Compiling.. :   0%|          | 0/1500 [00:00<?, ?it/s]\u001b[A\u001b[A\n",
      "\n",
      "\n",
      "  0%|          | 0/1500 [00:00<?, ?it/s]\u001b[A\u001b[A\u001b[A\n",
      "\n",
      "\n",
      "Compiling.. :   0%|          | 0/1500 [00:00<?, ?it/s]\u001b[A\u001b[A\u001b[A\n",
      "  0%|          | 0/1500 [00:00<?, ?it/s]\u001b[A\n",
      "Compiling.. :   0%|          | 0/1500 [00:00<?, ?it/s]\u001b[A\n",
      "\n",
      "  0%|          | 0/1500 [00:00<?, ?it/s]\u001b[A\u001b[A\n",
      "\n",
      "Compiling.. :   0%|          | 0/1500 [00:00<?, ?it/s]\u001b[A\u001b[A\n",
      "\n",
      "\n",
      "  0%|          | 0/1500 [00:00<?, ?it/s]\u001b[A\u001b[A\u001b[A\n",
      "\n",
      "\n",
      "Compiling.. :   0%|          | 0/1500 [00:00<?, ?it/s]\u001b[A\u001b[A\u001b[A\n",
      "  0%|          | 0/1500 [00:00<?, ?it/s]\u001b[A\n",
      "Compiling.. :   0%|          | 0/1500 [00:00<?, ?it/s]\u001b[A\n",
      "\n",
      "  0%|          | 0/1500 [00:00<?, ?it/s]\u001b[A\u001b[A\n",
      "\n",
      "Compiling.. :   0%|          | 0/1500 [00:00<?, ?it/s]\u001b[A\u001b[A\n",
      "\n",
      "\n",
      "  0%|          | 0/1500 [00:00<?, ?it/s]\u001b[A\u001b[A\u001b[A\n",
      "\n",
      "\n",
      "Compiling.. :   0%|          | 0/1500 [00:00<?, ?it/s]\u001b[A\u001b[A\u001b[A\n",
      "  0%|          | 0/1500 [00:00<?, ?it/s]\u001b[A\n",
      "Compiling.. :   0%|          | 0/1500 [00:00<?, ?it/s]\u001b[A\n",
      "\n",
      "  0%|          | 0/1500 [00:00<?, ?it/s]\u001b[A\u001b[A\n",
      "\n",
      "Compiling.. :   0%|          | 0/1500 [00:00<?, ?it/s]\u001b[A\u001b[A\n",
      "\n",
      "\n",
      "  0%|          | 0/1500 [00:00<?, ?it/s]\u001b[A\u001b[A\u001b[A\n",
      "\n",
      "\n",
      "Compiling.. :   0%|          | 0/1500 [00:00<?, ?it/s]\u001b[A\u001b[A\u001b[A\n",
      "  0%|          | 0/1500 [00:00<?, ?it/s]\u001b[A\n",
      "Compiling.. :   0%|          | 0/1500 [00:00<?, ?it/s]\u001b[A\n",
      "\n",
      "  0%|          | 0/1500 [00:00<?, ?it/s]\u001b[A\u001b[A\n",
      "\n",
      "Compiling.. :   0%|          | 0/1500 [00:00<?, ?it/s]\u001b[A\u001b[A\n",
      "\n",
      "\n",
      "  0%|          | 0/1500 [00:00<?, ?it/s]\u001b[A\u001b[A\u001b[A\n",
      "\n",
      "\n",
      "Compiling.. :   0%|          | 0/1500 [00:00<?, ?it/s]\u001b[A\u001b[A\u001b[A\n",
      "  0%|          | 0/1500 [00:00<?, ?it/s]\u001b[A\n",
      "Compiling.. :   0%|          | 0/1500 [00:00<?, ?it/s]\u001b[A\n",
      "\n",
      "  0%|          | 0/1500 [00:00<?, ?it/s]\u001b[A\u001b[A\n",
      "\n",
      "Compiling.. :   0%|          | 0/1500 [00:00<?, ?it/s]\u001b[A\u001b[A\n",
      "\n",
      "\n",
      "  0%|          | 0/1500 [00:00<?, ?it/s]\u001b[A\u001b[A\u001b[A\n",
      "\n",
      "\n",
      "Compiling.. :   0%|          | 0/1500 [00:00<?, ?it/s]\u001b[A\u001b[A\u001b[A"
     ]
    },
    {
     "ename": "KeyboardInterrupt",
     "evalue": "",
     "output_type": "error",
     "traceback": [
      "\u001b[0;31m---------------------------------------------------------------------------\u001b[0m",
      "\u001b[0;31mKeyboardInterrupt\u001b[0m                         Traceback (most recent call last)",
      "\u001b[1;32m/home/vishu/repos/hbmep-paper/notebooks/human/intraoperative/power-analysis-parallel.ipynb Cell 11\u001b[0m line \u001b[0;36m1\n\u001b[0;32m----> <a href='vscode-notebook-cell://ssh-remote%2Bcumc00/home/vishu/repos/hbmep-paper/notebooks/human/intraoperative/power-analysis-parallel.ipynb#X13sdnNjb2RlLXJlbW90ZQ%3D%3D?line=0'>1</a>\u001b[0m parallel(delayed(_process)(N_counter, draw_counter, repeat_counter) \u001b[39mfor\u001b[39;49;00m N_counter \u001b[39min\u001b[39;49;00m \u001b[39mrange\u001b[39;49m(\u001b[39mlen\u001b[39;49m(N_space)) \u001b[39mfor\u001b[39;49;00m draw_counter \u001b[39min\u001b[39;49;00m \u001b[39mrange\u001b[39;49m(n_draws) \u001b[39mfor\u001b[39;49;00m repeat_counter \u001b[39min\u001b[39;49;00m \u001b[39mrange\u001b[39;49m(n_repeats))\n",
      "File \u001b[0;32m~/repos/hbmep-paper/.venv/lib/python3.11/site-packages/joblib/parallel.py:1952\u001b[0m, in \u001b[0;36mParallel.__call__\u001b[0;34m(self, iterable)\u001b[0m\n\u001b[1;32m   1946\u001b[0m \u001b[39m# The first item from the output is blank, but it makes the interpreter\u001b[39;00m\n\u001b[1;32m   1947\u001b[0m \u001b[39m# progress until it enters the Try/Except block of the generator and\u001b[39;00m\n\u001b[1;32m   1948\u001b[0m \u001b[39m# reach the first `yield` statement. This starts the aynchronous\u001b[39;00m\n\u001b[1;32m   1949\u001b[0m \u001b[39m# dispatch of the tasks to the workers.\u001b[39;00m\n\u001b[1;32m   1950\u001b[0m \u001b[39mnext\u001b[39m(output)\n\u001b[0;32m-> 1952\u001b[0m \u001b[39mreturn\u001b[39;00m output \u001b[39mif\u001b[39;00m \u001b[39mself\u001b[39m\u001b[39m.\u001b[39mreturn_generator \u001b[39melse\u001b[39;00m \u001b[39mlist\u001b[39;49m(output)\n",
      "File \u001b[0;32m~/repos/hbmep-paper/.venv/lib/python3.11/site-packages/joblib/parallel.py:1595\u001b[0m, in \u001b[0;36mParallel._get_outputs\u001b[0;34m(self, iterator, pre_dispatch)\u001b[0m\n\u001b[1;32m   1592\u001b[0m     \u001b[39myield\u001b[39;00m\n\u001b[1;32m   1594\u001b[0m     \u001b[39mwith\u001b[39;00m \u001b[39mself\u001b[39m\u001b[39m.\u001b[39m_backend\u001b[39m.\u001b[39mretrieval_context():\n\u001b[0;32m-> 1595\u001b[0m         \u001b[39myield from\u001b[39;00m \u001b[39mself\u001b[39m\u001b[39m.\u001b[39m_retrieve()\n\u001b[1;32m   1597\u001b[0m \u001b[39mexcept\u001b[39;00m \u001b[39mGeneratorExit\u001b[39;00m:\n\u001b[1;32m   1598\u001b[0m     \u001b[39m# The generator has been garbage collected before being fully\u001b[39;00m\n\u001b[1;32m   1599\u001b[0m     \u001b[39m# consumed. This aborts the remaining tasks if possible and warn\u001b[39;00m\n\u001b[1;32m   1600\u001b[0m     \u001b[39m# the user if necessary.\u001b[39;00m\n\u001b[1;32m   1601\u001b[0m     \u001b[39mself\u001b[39m\u001b[39m.\u001b[39m_exception \u001b[39m=\u001b[39m \u001b[39mTrue\u001b[39;00m\n",
      "File \u001b[0;32m~/repos/hbmep-paper/.venv/lib/python3.11/site-packages/joblib/parallel.py:1707\u001b[0m, in \u001b[0;36mParallel._retrieve\u001b[0;34m(self)\u001b[0m\n\u001b[1;32m   1702\u001b[0m \u001b[39m# If the next job is not ready for retrieval yet, we just wait for\u001b[39;00m\n\u001b[1;32m   1703\u001b[0m \u001b[39m# async callbacks to progress.\u001b[39;00m\n\u001b[1;32m   1704\u001b[0m \u001b[39mif\u001b[39;00m ((\u001b[39mlen\u001b[39m(\u001b[39mself\u001b[39m\u001b[39m.\u001b[39m_jobs) \u001b[39m==\u001b[39m \u001b[39m0\u001b[39m) \u001b[39mor\u001b[39;00m\n\u001b[1;32m   1705\u001b[0m     (\u001b[39mself\u001b[39m\u001b[39m.\u001b[39m_jobs[\u001b[39m0\u001b[39m]\u001b[39m.\u001b[39mget_status(\n\u001b[1;32m   1706\u001b[0m         timeout\u001b[39m=\u001b[39m\u001b[39mself\u001b[39m\u001b[39m.\u001b[39mtimeout) \u001b[39m==\u001b[39m TASK_PENDING)):\n\u001b[0;32m-> 1707\u001b[0m     time\u001b[39m.\u001b[39msleep(\u001b[39m0.01\u001b[39m)\n\u001b[1;32m   1708\u001b[0m     \u001b[39mcontinue\u001b[39;00m\n\u001b[1;32m   1710\u001b[0m \u001b[39m# We need to be careful: the job list can be filling up as\u001b[39;00m\n\u001b[1;32m   1711\u001b[0m \u001b[39m# we empty it and Python list are not thread-safe by\u001b[39;00m\n\u001b[1;32m   1712\u001b[0m \u001b[39m# default hence the use of the lock\u001b[39;00m\n",
      "\u001b[0;31mKeyboardInterrupt\u001b[0m: "
     ]
    }
   ],
   "source": [
    "parallel(delayed(_process)(N_counter, draw_counter, repeat_counter) for N_counter in range(len(N_space)) for draw_counter in range(n_draws) for repeat_counter in range(n_repeats))\n"
   ]
  },
  {
   "cell_type": "code",
   "execution_count": null,
   "metadata": {},
   "outputs": [],
   "source": []
  },
  {
   "cell_type": "code",
   "execution_count": 8,
   "metadata": {},
   "outputs": [
    {
     "name": "stderr",
     "output_type": "stream",
     "text": [
      "2023-09-27 17:14:38,662 - __main__ - INFO - BUILD_DIR: /home/vishu/repos/hbmep-paper/reports/human/intraoperative/power-analysis\n",
      "2023-09-27 17:14:38,662 - __main__ - INFO - N_space: 2, 4, 8, 12, 16, 20\n",
      "2023-09-27 17:14:38,663 - __main__ - INFO - n_draws: 50\n",
      "2023-09-27 17:14:38,663 - __main__ - INFO - draws: 2829, 807, 3728, 3454, 2756, 3889, 1823, 813, 502, 745, 2901, 1220, 3315, 3616, 773, 3672, 1409, 1055, 3458, 458, 3240, 40, 3200, 1983, 3641, 531, 755, 1349, 3178, 1897, 1787, 2597, 1767, 139, 2864, 2618, 1371, 1850, 1750, 2241, 1843, 1509, 2822, 192, 2402, 1497, 3691, 645, 3923, 2428\n",
      "2023-09-27 17:14:38,664 - __main__ - INFO - n_repeats: 10\n",
      "2023-09-27 17:14:38,672 - __main__ - INFO - seeds: 339, 777, 129, 822, 616, 214, 204, 912, 698, 677\n",
      "2023-09-27 17:14:38,673 - __main__ - INFO - \n",
      "\n",
      "Draw:1/50, N:1/6, Repeat:1/10\n",
      "2023-09-27 17:14:38,747 - __main__ - INFO - Seed:339, Subjects: 67, 138\n",
      "2023-09-27 17:14:38,748 - hbmep.config - INFO - Verifying configuration ...\n",
      "2023-09-27 17:14:38,748 - hbmep.config - INFO - Success!\n",
      "2023-09-27 17:14:38,749 - hbmep.model.baseline - INFO - Initialized model with hierarchical_bayesian link\n",
      "2023-09-27 17:14:38,749 - hbmep.dataset.core - INFO - Artefacts will be stored here - /home/vishu/repos/hbmep-paper/reports/human/intraoperative/power-analysis/draw_2829/N_2/seed_339\n",
      "2023-09-27 17:14:38,749 - hbmep.dataset.core - INFO - Copied config to /home/vishu/repos/hbmep-paper/reports/human/intraoperative/power-analysis/draw_2829/N_2/seed_339\n",
      "2023-09-27 17:14:38,750 - hbmep.dataset.core - INFO - Processing data ...\n",
      "2023-09-27 17:14:38,751 - hbmep.utils.utils - INFO - func:load took: 0.00 sec\n",
      "2023-09-27 17:14:38,751 - __main__ - INFO - Fitting ...\n",
      "2023-09-27 17:14:38,751 - hbmep.model.baseline - INFO - Running inference with hierarchical_bayesian ...\n"
     ]
    },
    {
     "data": {
      "application/vnd.jupyter.widget-view+json": {
       "model_id": "ec080fcaa8f3466aab410925b9d50a47",
       "version_major": 2,
       "version_minor": 0
      },
      "text/plain": [
       "  0%|          | 0/1500 [00:00<?, ?it/s]"
      ]
     },
     "metadata": {},
     "output_type": "display_data"
    },
    {
     "data": {
      "application/vnd.jupyter.widget-view+json": {
       "model_id": "0cf13773dedb414f8e2cc97351d13454",
       "version_major": 2,
       "version_minor": 0
      },
      "text/plain": [
       "  0%|          | 0/1500 [00:00<?, ?it/s]"
      ]
     },
     "metadata": {},
     "output_type": "display_data"
    },
    {
     "data": {
      "application/vnd.jupyter.widget-view+json": {
       "model_id": "a517c77236244014b164f1544669b1d4",
       "version_major": 2,
       "version_minor": 0
      },
      "text/plain": [
       "  0%|          | 0/1500 [00:00<?, ?it/s]"
      ]
     },
     "metadata": {},
     "output_type": "display_data"
    },
    {
     "data": {
      "application/vnd.jupyter.widget-view+json": {
       "model_id": "40df1005de4d4f33b8d0fd7bc5b0d761",
       "version_major": 2,
       "version_minor": 0
      },
      "text/plain": [
       "  0%|          | 0/1500 [00:00<?, ?it/s]"
      ]
     },
     "metadata": {},
     "output_type": "display_data"
    },
    {
     "name": "stderr",
     "output_type": "stream",
     "text": [
      "2023-09-27 17:15:04,001 - hbmep.utils.utils - INFO - func:run_inference took: 25.25 sec\n",
      "2023-09-27 17:15:04,002 - __main__ - INFO - Predicting ...\n",
      "2023-09-27 17:15:04,007 - hbmep.utils.utils - INFO - func:make_prediction_dataset took: 0.00 sec\n",
      "2023-09-27 17:15:04,946 - hbmep.utils.utils - INFO - func:predict took: 0.94 sec\n",
      "2023-09-27 17:15:04,946 - __main__ - INFO - Plotting recruitment curves ...\n",
      "2023-09-27 17:15:04,950 - hbmep.model.baseline - INFO - Rendering ...\n",
      "2023-09-27 17:15:05,744 - hbmep.model.baseline - INFO - Saved to /home/vishu/repos/hbmep-paper/reports/human/intraoperative/power-analysis/draw_2829/N_2/seed_339/recruitment_curves.pdf\n",
      "2023-09-27 17:15:05,744 - hbmep.utils.utils - INFO - func:render_recruitment_curves took: 0.80 sec\n",
      "2023-09-27 17:15:05,744 - __main__ - INFO - Plotting posterior checks ...\n",
      "2023-09-27 17:15:05,750 - hbmep.model.baseline - INFO - Rendering Posterior Predictive Check ...\n",
      "2023-09-27 17:15:06,661 - hbmep.model.baseline - INFO - Saved to /home/vishu/repos/hbmep-paper/reports/human/intraoperative/power-analysis/draw_2829/N_2/seed_339/posterior_predictive_check.pdf\n",
      "2023-09-27 17:15:06,662 - hbmep.utils.utils - INFO - func:_render_predictive_check took: 0.92 sec\n",
      "2023-09-27 17:15:06,662 - hbmep.utils.utils - INFO - func:render_predictive_check took: 0.92 sec\n",
      "2023-09-27 17:15:06,747 - __main__ - INFO - \n",
      "\n",
      "Draw:1/50, N:1/6, Repeat:2/10\n",
      "2023-09-27 17:15:06,749 - __main__ - INFO - Seed:777, Subjects: 23, 34\n",
      "2023-09-27 17:15:06,750 - hbmep.config - INFO - Verifying configuration ...\n",
      "2023-09-27 17:15:06,750 - hbmep.config - INFO - Success!\n",
      "2023-09-27 17:15:06,750 - hbmep.model.baseline - INFO - Initialized model with hierarchical_bayesian link\n",
      "2023-09-27 17:15:06,751 - hbmep.dataset.core - INFO - Artefacts will be stored here - /home/vishu/repos/hbmep-paper/reports/human/intraoperative/power-analysis/draw_2829/N_2/seed_777\n",
      "2023-09-27 17:15:06,772 - hbmep.dataset.core - INFO - Copied config to /home/vishu/repos/hbmep-paper/reports/human/intraoperative/power-analysis/draw_2829/N_2/seed_777\n",
      "2023-09-27 17:15:06,773 - hbmep.dataset.core - INFO - Processing data ...\n",
      "2023-09-27 17:15:06,774 - hbmep.utils.utils - INFO - func:load took: 0.02 sec\n",
      "2023-09-27 17:15:06,774 - __main__ - INFO - Fitting ...\n",
      "2023-09-27 17:15:06,775 - hbmep.model.baseline - INFO - Running inference with hierarchical_bayesian ...\n"
     ]
    },
    {
     "data": {
      "application/vnd.jupyter.widget-view+json": {
       "model_id": "cf6c0fbe0a7e41a38ab7bd2bfb53bb7c",
       "version_major": 2,
       "version_minor": 0
      },
      "text/plain": [
       "  0%|          | 0/1500 [00:00<?, ?it/s]"
      ]
     },
     "metadata": {},
     "output_type": "display_data"
    },
    {
     "data": {
      "application/vnd.jupyter.widget-view+json": {
       "model_id": "0f14f8310ea04b5a9fa9409b4dfc55ef",
       "version_major": 2,
       "version_minor": 0
      },
      "text/plain": [
       "  0%|          | 0/1500 [00:00<?, ?it/s]"
      ]
     },
     "metadata": {},
     "output_type": "display_data"
    },
    {
     "data": {
      "application/vnd.jupyter.widget-view+json": {
       "model_id": "b35ca6a860454382b2f517ec17f7866e",
       "version_major": 2,
       "version_minor": 0
      },
      "text/plain": [
       "  0%|          | 0/1500 [00:00<?, ?it/s]"
      ]
     },
     "metadata": {},
     "output_type": "display_data"
    },
    {
     "data": {
      "application/vnd.jupyter.widget-view+json": {
       "model_id": "898df5c5c6204aa79fc765474f6c0ebc",
       "version_major": 2,
       "version_minor": 0
      },
      "text/plain": [
       "  0%|          | 0/1500 [00:00<?, ?it/s]"
      ]
     },
     "metadata": {},
     "output_type": "display_data"
    },
    {
     "name": "stderr",
     "output_type": "stream",
     "text": [
      "2023-09-27 17:15:20,282 - hbmep.utils.utils - INFO - func:run_inference took: 13.51 sec\n",
      "2023-09-27 17:15:20,283 - __main__ - INFO - Predicting ...\n",
      "2023-09-27 17:15:20,287 - hbmep.utils.utils - INFO - func:make_prediction_dataset took: 0.00 sec\n",
      "2023-09-27 17:15:21,220 - hbmep.utils.utils - INFO - func:predict took: 0.93 sec\n",
      "2023-09-27 17:15:21,220 - __main__ - INFO - Plotting recruitment curves ...\n",
      "2023-09-27 17:15:21,224 - hbmep.model.baseline - INFO - Rendering ...\n",
      "2023-09-27 17:15:21,996 - hbmep.model.baseline - INFO - Saved to /home/vishu/repos/hbmep-paper/reports/human/intraoperative/power-analysis/draw_2829/N_2/seed_777/recruitment_curves.pdf\n",
      "2023-09-27 17:15:21,997 - hbmep.utils.utils - INFO - func:render_recruitment_curves took: 0.78 sec\n",
      "2023-09-27 17:15:21,997 - __main__ - INFO - Plotting posterior checks ...\n",
      "2023-09-27 17:15:22,001 - hbmep.model.baseline - INFO - Rendering Posterior Predictive Check ...\n",
      "2023-09-27 17:15:22,856 - hbmep.model.baseline - INFO - Saved to /home/vishu/repos/hbmep-paper/reports/human/intraoperative/power-analysis/draw_2829/N_2/seed_777/posterior_predictive_check.pdf\n",
      "2023-09-27 17:15:22,857 - hbmep.utils.utils - INFO - func:_render_predictive_check took: 0.86 sec\n",
      "2023-09-27 17:15:22,857 - hbmep.utils.utils - INFO - func:render_predictive_check took: 0.86 sec\n",
      "2023-09-27 17:15:22,950 - __main__ - INFO - \n",
      "\n",
      "Draw:1/50, N:1/6, Repeat:3/10\n",
      "2023-09-27 17:15:22,952 - __main__ - INFO - Seed:129, Subjects: 151, 192\n",
      "2023-09-27 17:15:22,953 - hbmep.config - INFO - Verifying configuration ...\n",
      "2023-09-27 17:15:22,953 - hbmep.config - INFO - Success!\n",
      "2023-09-27 17:15:22,954 - hbmep.model.baseline - INFO - Initialized model with hierarchical_bayesian link\n",
      "2023-09-27 17:15:22,954 - hbmep.dataset.core - INFO - Artefacts will be stored here - /home/vishu/repos/hbmep-paper/reports/human/intraoperative/power-analysis/draw_2829/N_2/seed_129\n",
      "2023-09-27 17:15:22,954 - hbmep.dataset.core - INFO - Copied config to /home/vishu/repos/hbmep-paper/reports/human/intraoperative/power-analysis/draw_2829/N_2/seed_129\n",
      "2023-09-27 17:15:22,955 - hbmep.dataset.core - INFO - Processing data ...\n",
      "2023-09-27 17:15:22,955 - hbmep.utils.utils - INFO - func:load took: 0.00 sec\n",
      "2023-09-27 17:15:22,956 - __main__ - INFO - Fitting ...\n",
      "2023-09-27 17:15:22,956 - hbmep.model.baseline - INFO - Running inference with hierarchical_bayesian ...\n"
     ]
    },
    {
     "data": {
      "application/vnd.jupyter.widget-view+json": {
       "model_id": "7913c464f0ac4d0b92b511d6f74619d3",
       "version_major": 2,
       "version_minor": 0
      },
      "text/plain": [
       "  0%|          | 0/1500 [00:00<?, ?it/s]"
      ]
     },
     "metadata": {},
     "output_type": "display_data"
    },
    {
     "data": {
      "application/vnd.jupyter.widget-view+json": {
       "model_id": "0522bca90cac4033bcf4d5dd73406330",
       "version_major": 2,
       "version_minor": 0
      },
      "text/plain": [
       "  0%|          | 0/1500 [00:00<?, ?it/s]"
      ]
     },
     "metadata": {},
     "output_type": "display_data"
    },
    {
     "data": {
      "application/vnd.jupyter.widget-view+json": {
       "model_id": "66b2441301b24de09956e1d0775e5eb8",
       "version_major": 2,
       "version_minor": 0
      },
      "text/plain": [
       "  0%|          | 0/1500 [00:00<?, ?it/s]"
      ]
     },
     "metadata": {},
     "output_type": "display_data"
    },
    {
     "data": {
      "application/vnd.jupyter.widget-view+json": {
       "model_id": "8c7e3921d5844c5d85a6ba34ed141e1b",
       "version_major": 2,
       "version_minor": 0
      },
      "text/plain": [
       "  0%|          | 0/1500 [00:00<?, ?it/s]"
      ]
     },
     "metadata": {},
     "output_type": "display_data"
    },
    {
     "name": "stderr",
     "output_type": "stream",
     "text": [
      "2023-09-27 17:15:36,862 - hbmep.utils.utils - INFO - func:run_inference took: 13.91 sec\n",
      "2023-09-27 17:15:36,863 - __main__ - INFO - Predicting ...\n",
      "2023-09-27 17:15:36,867 - hbmep.utils.utils - INFO - func:make_prediction_dataset took: 0.00 sec\n",
      "2023-09-27 17:15:37,804 - hbmep.utils.utils - INFO - func:predict took: 0.94 sec\n",
      "2023-09-27 17:15:37,805 - __main__ - INFO - Plotting recruitment curves ...\n",
      "2023-09-27 17:15:37,808 - hbmep.model.baseline - INFO - Rendering ...\n",
      "2023-09-27 17:15:38,518 - hbmep.model.baseline - INFO - Saved to /home/vishu/repos/hbmep-paper/reports/human/intraoperative/power-analysis/draw_2829/N_2/seed_129/recruitment_curves.pdf\n",
      "2023-09-27 17:15:38,518 - hbmep.utils.utils - INFO - func:render_recruitment_curves took: 0.71 sec\n",
      "2023-09-27 17:15:38,518 - __main__ - INFO - Plotting posterior checks ...\n",
      "2023-09-27 17:15:38,523 - hbmep.model.baseline - INFO - Rendering Posterior Predictive Check ...\n",
      "2023-09-27 17:15:39,440 - hbmep.model.baseline - INFO - Saved to /home/vishu/repos/hbmep-paper/reports/human/intraoperative/power-analysis/draw_2829/N_2/seed_129/posterior_predictive_check.pdf\n",
      "2023-09-27 17:15:39,440 - hbmep.utils.utils - INFO - func:_render_predictive_check took: 0.92 sec\n",
      "2023-09-27 17:15:39,440 - hbmep.utils.utils - INFO - func:render_predictive_check took: 0.92 sec\n",
      "2023-09-27 17:15:39,541 - __main__ - INFO - \n",
      "\n",
      "Draw:1/50, N:1/6, Repeat:4/10\n",
      "2023-09-27 17:15:39,543 - __main__ - INFO - Seed:822, Subjects: 98, 32\n",
      "2023-09-27 17:15:39,543 - hbmep.config - INFO - Verifying configuration ...\n",
      "2023-09-27 17:15:39,544 - hbmep.config - INFO - Success!\n",
      "2023-09-27 17:15:39,544 - hbmep.model.baseline - INFO - Initialized model with hierarchical_bayesian link\n",
      "2023-09-27 17:15:39,544 - hbmep.dataset.core - INFO - Artefacts will be stored here - /home/vishu/repos/hbmep-paper/reports/human/intraoperative/power-analysis/draw_2829/N_2/seed_822\n",
      "2023-09-27 17:15:39,544 - hbmep.dataset.core - INFO - Copied config to /home/vishu/repos/hbmep-paper/reports/human/intraoperative/power-analysis/draw_2829/N_2/seed_822\n",
      "2023-09-27 17:15:39,545 - hbmep.dataset.core - INFO - Processing data ...\n",
      "2023-09-27 17:15:39,546 - hbmep.utils.utils - INFO - func:load took: 0.00 sec\n",
      "2023-09-27 17:15:39,546 - __main__ - INFO - Fitting ...\n",
      "2023-09-27 17:15:39,546 - hbmep.model.baseline - INFO - Running inference with hierarchical_bayesian ...\n"
     ]
    },
    {
     "data": {
      "application/vnd.jupyter.widget-view+json": {
       "model_id": "e6454a6ec640447583a1f6271bb20855",
       "version_major": 2,
       "version_minor": 0
      },
      "text/plain": [
       "  0%|          | 0/1500 [00:00<?, ?it/s]"
      ]
     },
     "metadata": {},
     "output_type": "display_data"
    },
    {
     "data": {
      "application/vnd.jupyter.widget-view+json": {
       "model_id": "b5bc57a363fd480097104a3dd730e47b",
       "version_major": 2,
       "version_minor": 0
      },
      "text/plain": [
       "  0%|          | 0/1500 [00:00<?, ?it/s]"
      ]
     },
     "metadata": {},
     "output_type": "display_data"
    },
    {
     "data": {
      "application/vnd.jupyter.widget-view+json": {
       "model_id": "35086041968547128c6a8e9bb208f1c2",
       "version_major": 2,
       "version_minor": 0
      },
      "text/plain": [
       "  0%|          | 0/1500 [00:00<?, ?it/s]"
      ]
     },
     "metadata": {},
     "output_type": "display_data"
    },
    {
     "data": {
      "application/vnd.jupyter.widget-view+json": {
       "model_id": "b1da42e569a142aabad05a66e4ff7515",
       "version_major": 2,
       "version_minor": 0
      },
      "text/plain": [
       "  0%|          | 0/1500 [00:00<?, ?it/s]"
      ]
     },
     "metadata": {},
     "output_type": "display_data"
    },
    {
     "name": "stderr",
     "output_type": "stream",
     "text": [
      "2023-09-27 17:15:55,639 - hbmep.utils.utils - INFO - func:run_inference took: 16.09 sec\n",
      "2023-09-27 17:15:55,640 - __main__ - INFO - Predicting ...\n",
      "2023-09-27 17:15:55,644 - hbmep.utils.utils - INFO - func:make_prediction_dataset took: 0.00 sec\n",
      "2023-09-27 17:15:56,571 - hbmep.utils.utils - INFO - func:predict took: 0.93 sec\n",
      "2023-09-27 17:15:56,572 - __main__ - INFO - Plotting recruitment curves ...\n",
      "2023-09-27 17:15:56,575 - hbmep.model.baseline - INFO - Rendering ...\n",
      "2023-09-27 17:15:57,284 - hbmep.model.baseline - INFO - Saved to /home/vishu/repos/hbmep-paper/reports/human/intraoperative/power-analysis/draw_2829/N_2/seed_822/recruitment_curves.pdf\n",
      "2023-09-27 17:15:57,285 - hbmep.utils.utils - INFO - func:render_recruitment_curves took: 0.71 sec\n",
      "2023-09-27 17:15:57,285 - __main__ - INFO - Plotting posterior checks ...\n",
      "2023-09-27 17:15:57,289 - hbmep.model.baseline - INFO - Rendering Posterior Predictive Check ...\n",
      "2023-09-27 17:15:58,243 - hbmep.model.baseline - INFO - Saved to /home/vishu/repos/hbmep-paper/reports/human/intraoperative/power-analysis/draw_2829/N_2/seed_822/posterior_predictive_check.pdf\n",
      "2023-09-27 17:15:58,244 - hbmep.utils.utils - INFO - func:_render_predictive_check took: 0.96 sec\n",
      "2023-09-27 17:15:58,244 - hbmep.utils.utils - INFO - func:render_predictive_check took: 0.96 sec\n",
      "2023-09-27 17:15:58,353 - __main__ - INFO - \n",
      "\n",
      "Draw:1/50, N:1/6, Repeat:5/10\n",
      "2023-09-27 17:15:58,355 - __main__ - INFO - Seed:616, Subjects: 130, 39\n",
      "2023-09-27 17:15:58,356 - hbmep.config - INFO - Verifying configuration ...\n",
      "2023-09-27 17:15:58,356 - hbmep.config - INFO - Success!\n",
      "2023-09-27 17:15:58,356 - hbmep.model.baseline - INFO - Initialized model with hierarchical_bayesian link\n",
      "2023-09-27 17:15:58,357 - hbmep.dataset.core - INFO - Artefacts will be stored here - /home/vishu/repos/hbmep-paper/reports/human/intraoperative/power-analysis/draw_2829/N_2/seed_616\n",
      "2023-09-27 17:15:58,357 - hbmep.dataset.core - INFO - Copied config to /home/vishu/repos/hbmep-paper/reports/human/intraoperative/power-analysis/draw_2829/N_2/seed_616\n",
      "2023-09-27 17:15:58,357 - hbmep.dataset.core - INFO - Processing data ...\n",
      "2023-09-27 17:15:58,358 - hbmep.utils.utils - INFO - func:load took: 0.00 sec\n",
      "2023-09-27 17:15:58,358 - __main__ - INFO - Fitting ...\n",
      "2023-09-27 17:15:58,359 - hbmep.model.baseline - INFO - Running inference with hierarchical_bayesian ...\n"
     ]
    },
    {
     "data": {
      "application/vnd.jupyter.widget-view+json": {
       "model_id": "47365984ebb04682946185a77413bddc",
       "version_major": 2,
       "version_minor": 0
      },
      "text/plain": [
       "  0%|          | 0/1500 [00:00<?, ?it/s]"
      ]
     },
     "metadata": {},
     "output_type": "display_data"
    },
    {
     "data": {
      "application/vnd.jupyter.widget-view+json": {
       "model_id": "0d00368c4ad5474eb11951ffce0a79ef",
       "version_major": 2,
       "version_minor": 0
      },
      "text/plain": [
       "  0%|          | 0/1500 [00:00<?, ?it/s]"
      ]
     },
     "metadata": {},
     "output_type": "display_data"
    },
    {
     "data": {
      "application/vnd.jupyter.widget-view+json": {
       "model_id": "115efafd92234602a3d4ff413a18e6f6",
       "version_major": 2,
       "version_minor": 0
      },
      "text/plain": [
       "  0%|          | 0/1500 [00:00<?, ?it/s]"
      ]
     },
     "metadata": {},
     "output_type": "display_data"
    },
    {
     "data": {
      "application/vnd.jupyter.widget-view+json": {
       "model_id": "badd280876a44612a3d604018ebaf60d",
       "version_major": 2,
       "version_minor": 0
      },
      "text/plain": [
       "  0%|          | 0/1500 [00:00<?, ?it/s]"
      ]
     },
     "metadata": {},
     "output_type": "display_data"
    },
    {
     "name": "stderr",
     "output_type": "stream",
     "text": [
      "2023-09-27 17:16:08,490 - hbmep.utils.utils - INFO - func:run_inference took: 10.13 sec\n",
      "2023-09-27 17:16:08,491 - __main__ - INFO - Predicting ...\n",
      "2023-09-27 17:16:08,495 - hbmep.utils.utils - INFO - func:make_prediction_dataset took: 0.00 sec\n",
      "2023-09-27 17:16:09,429 - hbmep.utils.utils - INFO - func:predict took: 0.93 sec\n",
      "2023-09-27 17:16:09,429 - __main__ - INFO - Plotting recruitment curves ...\n",
      "2023-09-27 17:16:09,433 - hbmep.model.baseline - INFO - Rendering ...\n",
      "2023-09-27 17:16:10,165 - hbmep.model.baseline - INFO - Saved to /home/vishu/repos/hbmep-paper/reports/human/intraoperative/power-analysis/draw_2829/N_2/seed_616/recruitment_curves.pdf\n",
      "2023-09-27 17:16:10,165 - hbmep.utils.utils - INFO - func:render_recruitment_curves took: 0.74 sec\n",
      "2023-09-27 17:16:10,166 - __main__ - INFO - Plotting posterior checks ...\n",
      "2023-09-27 17:16:10,170 - hbmep.model.baseline - INFO - Rendering Posterior Predictive Check ...\n",
      "2023-09-27 17:16:11,031 - hbmep.model.baseline - INFO - Saved to /home/vishu/repos/hbmep-paper/reports/human/intraoperative/power-analysis/draw_2829/N_2/seed_616/posterior_predictive_check.pdf\n",
      "2023-09-27 17:16:11,032 - hbmep.utils.utils - INFO - func:_render_predictive_check took: 0.87 sec\n",
      "2023-09-27 17:16:11,032 - hbmep.utils.utils - INFO - func:render_predictive_check took: 0.87 sec\n",
      "2023-09-27 17:16:11,158 - __main__ - INFO - \n",
      "\n",
      "Draw:1/50, N:1/6, Repeat:6/10\n",
      "2023-09-27 17:16:11,159 - __main__ - INFO - Seed:214, Subjects: 120, 179\n",
      "2023-09-27 17:16:11,160 - hbmep.config - INFO - Verifying configuration ...\n",
      "2023-09-27 17:16:11,160 - hbmep.config - INFO - Success!\n",
      "2023-09-27 17:16:11,161 - hbmep.model.baseline - INFO - Initialized model with hierarchical_bayesian link\n",
      "2023-09-27 17:16:11,161 - hbmep.dataset.core - INFO - Artefacts will be stored here - /home/vishu/repos/hbmep-paper/reports/human/intraoperative/power-analysis/draw_2829/N_2/seed_214\n",
      "2023-09-27 17:16:11,161 - hbmep.dataset.core - INFO - Copied config to /home/vishu/repos/hbmep-paper/reports/human/intraoperative/power-analysis/draw_2829/N_2/seed_214\n",
      "2023-09-27 17:16:11,162 - hbmep.dataset.core - INFO - Processing data ...\n",
      "2023-09-27 17:16:11,162 - hbmep.utils.utils - INFO - func:load took: 0.00 sec\n",
      "2023-09-27 17:16:11,162 - __main__ - INFO - Fitting ...\n",
      "2023-09-27 17:16:11,163 - hbmep.model.baseline - INFO - Running inference with hierarchical_bayesian ...\n"
     ]
    },
    {
     "data": {
      "application/vnd.jupyter.widget-view+json": {
       "model_id": "f251b29b4ece4e019c69db8275ca3a10",
       "version_major": 2,
       "version_minor": 0
      },
      "text/plain": [
       "  0%|          | 0/1500 [00:00<?, ?it/s]"
      ]
     },
     "metadata": {},
     "output_type": "display_data"
    },
    {
     "data": {
      "application/vnd.jupyter.widget-view+json": {
       "model_id": "c5930acbc75a4cfda92e89c88b8d0d94",
       "version_major": 2,
       "version_minor": 0
      },
      "text/plain": [
       "  0%|          | 0/1500 [00:00<?, ?it/s]"
      ]
     },
     "metadata": {},
     "output_type": "display_data"
    },
    {
     "data": {
      "application/vnd.jupyter.widget-view+json": {
       "model_id": "f918df734b8d426685bfdef3591214a6",
       "version_major": 2,
       "version_minor": 0
      },
      "text/plain": [
       "  0%|          | 0/1500 [00:00<?, ?it/s]"
      ]
     },
     "metadata": {},
     "output_type": "display_data"
    },
    {
     "data": {
      "application/vnd.jupyter.widget-view+json": {
       "model_id": "db8decd2e30a44b6ab8a063e67f8152d",
       "version_major": 2,
       "version_minor": 0
      },
      "text/plain": [
       "  0%|          | 0/1500 [00:00<?, ?it/s]"
      ]
     },
     "metadata": {},
     "output_type": "display_data"
    },
    {
     "name": "stderr",
     "output_type": "stream",
     "text": [
      "2023-09-27 17:16:36,707 - hbmep.utils.utils - INFO - func:run_inference took: 25.54 sec\n",
      "2023-09-27 17:16:36,707 - __main__ - INFO - Predicting ...\n",
      "2023-09-27 17:16:36,712 - hbmep.utils.utils - INFO - func:make_prediction_dataset took: 0.00 sec\n",
      "2023-09-27 17:16:37,647 - hbmep.utils.utils - INFO - func:predict took: 0.93 sec\n",
      "2023-09-27 17:16:37,647 - __main__ - INFO - Plotting recruitment curves ...\n",
      "2023-09-27 17:16:37,651 - hbmep.model.baseline - INFO - Rendering ...\n",
      "2023-09-27 17:16:38,375 - hbmep.model.baseline - INFO - Saved to /home/vishu/repos/hbmep-paper/reports/human/intraoperative/power-analysis/draw_2829/N_2/seed_214/recruitment_curves.pdf\n",
      "2023-09-27 17:16:38,375 - hbmep.utils.utils - INFO - func:render_recruitment_curves took: 0.73 sec\n",
      "2023-09-27 17:16:38,375 - __main__ - INFO - Plotting posterior checks ...\n",
      "2023-09-27 17:16:38,380 - hbmep.model.baseline - INFO - Rendering Posterior Predictive Check ...\n",
      "2023-09-27 17:16:39,244 - hbmep.model.baseline - INFO - Saved to /home/vishu/repos/hbmep-paper/reports/human/intraoperative/power-analysis/draw_2829/N_2/seed_214/posterior_predictive_check.pdf\n",
      "2023-09-27 17:16:39,245 - hbmep.utils.utils - INFO - func:_render_predictive_check took: 0.87 sec\n",
      "2023-09-27 17:16:39,245 - hbmep.utils.utils - INFO - func:render_predictive_check took: 0.87 sec\n",
      "2023-09-27 17:16:39,383 - __main__ - INFO - \n",
      "\n",
      "Draw:1/50, N:1/6, Repeat:7/10\n",
      "2023-09-27 17:16:39,385 - __main__ - INFO - Seed:204, Subjects: 195, 25\n",
      "2023-09-27 17:16:39,386 - hbmep.config - INFO - Verifying configuration ...\n",
      "2023-09-27 17:16:39,386 - hbmep.config - INFO - Success!\n",
      "2023-09-27 17:16:39,387 - hbmep.model.baseline - INFO - Initialized model with hierarchical_bayesian link\n",
      "2023-09-27 17:16:39,387 - hbmep.dataset.core - INFO - Artefacts will be stored here - /home/vishu/repos/hbmep-paper/reports/human/intraoperative/power-analysis/draw_2829/N_2/seed_204\n",
      "2023-09-27 17:16:39,387 - hbmep.dataset.core - INFO - Copied config to /home/vishu/repos/hbmep-paper/reports/human/intraoperative/power-analysis/draw_2829/N_2/seed_204\n",
      "2023-09-27 17:16:39,388 - hbmep.dataset.core - INFO - Processing data ...\n",
      "2023-09-27 17:16:39,389 - hbmep.utils.utils - INFO - func:load took: 0.00 sec\n",
      "2023-09-27 17:16:39,389 - __main__ - INFO - Fitting ...\n",
      "2023-09-27 17:16:39,389 - hbmep.model.baseline - INFO - Running inference with hierarchical_bayesian ...\n"
     ]
    },
    {
     "data": {
      "application/vnd.jupyter.widget-view+json": {
       "model_id": "59cac84a569143a1bbc9c5028fbeb6db",
       "version_major": 2,
       "version_minor": 0
      },
      "text/plain": [
       "  0%|          | 0/1500 [00:00<?, ?it/s]"
      ]
     },
     "metadata": {},
     "output_type": "display_data"
    },
    {
     "data": {
      "application/vnd.jupyter.widget-view+json": {
       "model_id": "8554c2e8675e4bf7a23c2385132ec143",
       "version_major": 2,
       "version_minor": 0
      },
      "text/plain": [
       "  0%|          | 0/1500 [00:00<?, ?it/s]"
      ]
     },
     "metadata": {},
     "output_type": "display_data"
    },
    {
     "data": {
      "application/vnd.jupyter.widget-view+json": {
       "model_id": "5e666f540ee24bbb90e5a47625c4d7e3",
       "version_major": 2,
       "version_minor": 0
      },
      "text/plain": [
       "  0%|          | 0/1500 [00:00<?, ?it/s]"
      ]
     },
     "metadata": {},
     "output_type": "display_data"
    },
    {
     "data": {
      "application/vnd.jupyter.widget-view+json": {
       "model_id": "bffbafe347d44354a3372e03b89c7d96",
       "version_major": 2,
       "version_minor": 0
      },
      "text/plain": [
       "  0%|          | 0/1500 [00:00<?, ?it/s]"
      ]
     },
     "metadata": {},
     "output_type": "display_data"
    },
    {
     "name": "stderr",
     "output_type": "stream",
     "text": [
      "2023-09-27 17:17:01,353 - hbmep.utils.utils - INFO - func:run_inference took: 21.96 sec\n",
      "2023-09-27 17:17:01,353 - __main__ - INFO - Predicting ...\n",
      "2023-09-27 17:17:01,358 - hbmep.utils.utils - INFO - func:make_prediction_dataset took: 0.00 sec\n",
      "2023-09-27 17:17:02,459 - hbmep.utils.utils - INFO - func:predict took: 1.10 sec\n",
      "2023-09-27 17:17:02,460 - __main__ - INFO - Plotting recruitment curves ...\n",
      "2023-09-27 17:17:02,463 - hbmep.model.baseline - INFO - Rendering ...\n",
      "2023-09-27 17:17:03,167 - hbmep.model.baseline - INFO - Saved to /home/vishu/repos/hbmep-paper/reports/human/intraoperative/power-analysis/draw_2829/N_2/seed_204/recruitment_curves.pdf\n",
      "2023-09-27 17:17:03,167 - hbmep.utils.utils - INFO - func:render_recruitment_curves took: 0.71 sec\n",
      "2023-09-27 17:17:03,167 - __main__ - INFO - Plotting posterior checks ...\n",
      "2023-09-27 17:17:03,171 - hbmep.model.baseline - INFO - Rendering Posterior Predictive Check ...\n",
      "2023-09-27 17:17:04,015 - hbmep.model.baseline - INFO - Saved to /home/vishu/repos/hbmep-paper/reports/human/intraoperative/power-analysis/draw_2829/N_2/seed_204/posterior_predictive_check.pdf\n",
      "2023-09-27 17:17:04,016 - hbmep.utils.utils - INFO - func:_render_predictive_check took: 0.85 sec\n",
      "2023-09-27 17:17:04,016 - hbmep.utils.utils - INFO - func:render_predictive_check took: 0.85 sec\n",
      "2023-09-27 17:17:04,172 - __main__ - INFO - \n",
      "\n",
      "Draw:1/50, N:1/6, Repeat:8/10\n",
      "2023-09-27 17:17:04,173 - __main__ - INFO - Seed:912, Subjects: 108, 85\n",
      "2023-09-27 17:17:04,174 - hbmep.config - INFO - Verifying configuration ...\n",
      "2023-09-27 17:17:04,175 - hbmep.config - INFO - Success!\n",
      "2023-09-27 17:17:04,175 - hbmep.model.baseline - INFO - Initialized model with hierarchical_bayesian link\n",
      "2023-09-27 17:17:04,176 - hbmep.dataset.core - INFO - Artefacts will be stored here - /home/vishu/repos/hbmep-paper/reports/human/intraoperative/power-analysis/draw_2829/N_2/seed_912\n",
      "2023-09-27 17:17:04,176 - hbmep.dataset.core - INFO - Copied config to /home/vishu/repos/hbmep-paper/reports/human/intraoperative/power-analysis/draw_2829/N_2/seed_912\n",
      "2023-09-27 17:17:04,176 - hbmep.dataset.core - INFO - Processing data ...\n",
      "2023-09-27 17:17:04,177 - hbmep.utils.utils - INFO - func:load took: 0.00 sec\n",
      "2023-09-27 17:17:04,177 - __main__ - INFO - Fitting ...\n",
      "2023-09-27 17:17:04,178 - hbmep.model.baseline - INFO - Running inference with hierarchical_bayesian ...\n"
     ]
    },
    {
     "data": {
      "application/vnd.jupyter.widget-view+json": {
       "model_id": "eccbbe12fd2246d8b3e6c050bb162aea",
       "version_major": 2,
       "version_minor": 0
      },
      "text/plain": [
       "  0%|          | 0/1500 [00:00<?, ?it/s]"
      ]
     },
     "metadata": {},
     "output_type": "display_data"
    },
    {
     "data": {
      "application/vnd.jupyter.widget-view+json": {
       "model_id": "298665cbd0e14d7887774a33be463dc3",
       "version_major": 2,
       "version_minor": 0
      },
      "text/plain": [
       "  0%|          | 0/1500 [00:00<?, ?it/s]"
      ]
     },
     "metadata": {},
     "output_type": "display_data"
    },
    {
     "data": {
      "application/vnd.jupyter.widget-view+json": {
       "model_id": "8a959aec7f2b41dd8f710c6143576dfb",
       "version_major": 2,
       "version_minor": 0
      },
      "text/plain": [
       "  0%|          | 0/1500 [00:00<?, ?it/s]"
      ]
     },
     "metadata": {},
     "output_type": "display_data"
    },
    {
     "data": {
      "application/vnd.jupyter.widget-view+json": {
       "model_id": "b5da70fd8d504dbea1acd115458532d8",
       "version_major": 2,
       "version_minor": 0
      },
      "text/plain": [
       "  0%|          | 0/1500 [00:00<?, ?it/s]"
      ]
     },
     "metadata": {},
     "output_type": "display_data"
    },
    {
     "name": "stderr",
     "output_type": "stream",
     "text": [
      "2023-09-27 17:17:20,197 - hbmep.utils.utils - INFO - func:run_inference took: 16.02 sec\n",
      "2023-09-27 17:17:20,197 - __main__ - INFO - Predicting ...\n",
      "2023-09-27 17:17:20,202 - hbmep.utils.utils - INFO - func:make_prediction_dataset took: 0.00 sec\n",
      "2023-09-27 17:17:21,130 - hbmep.utils.utils - INFO - func:predict took: 0.93 sec\n",
      "2023-09-27 17:17:21,130 - __main__ - INFO - Plotting recruitment curves ...\n",
      "2023-09-27 17:17:21,134 - hbmep.model.baseline - INFO - Rendering ...\n",
      "2023-09-27 17:17:22,019 - hbmep.model.baseline - INFO - Saved to /home/vishu/repos/hbmep-paper/reports/human/intraoperative/power-analysis/draw_2829/N_2/seed_912/recruitment_curves.pdf\n",
      "2023-09-27 17:17:22,019 - hbmep.utils.utils - INFO - func:render_recruitment_curves took: 0.89 sec\n",
      "2023-09-27 17:17:22,019 - __main__ - INFO - Plotting posterior checks ...\n",
      "2023-09-27 17:17:22,023 - hbmep.model.baseline - INFO - Rendering Posterior Predictive Check ...\n",
      "2023-09-27 17:17:22,883 - hbmep.model.baseline - INFO - Saved to /home/vishu/repos/hbmep-paper/reports/human/intraoperative/power-analysis/draw_2829/N_2/seed_912/posterior_predictive_check.pdf\n",
      "2023-09-27 17:17:22,883 - hbmep.utils.utils - INFO - func:_render_predictive_check took: 0.86 sec\n",
      "2023-09-27 17:17:22,884 - hbmep.utils.utils - INFO - func:render_predictive_check took: 0.86 sec\n",
      "2023-09-27 17:17:23,053 - __main__ - INFO - \n",
      "\n",
      "Draw:1/50, N:1/6, Repeat:9/10\n",
      "2023-09-27 17:17:23,055 - __main__ - INFO - Seed:698, Subjects: 50, 190\n",
      "2023-09-27 17:17:23,056 - hbmep.config - INFO - Verifying configuration ...\n",
      "2023-09-27 17:17:23,056 - hbmep.config - INFO - Success!\n",
      "2023-09-27 17:17:23,056 - hbmep.model.baseline - INFO - Initialized model with hierarchical_bayesian link\n",
      "2023-09-27 17:17:23,057 - hbmep.dataset.core - INFO - Artefacts will be stored here - /home/vishu/repos/hbmep-paper/reports/human/intraoperative/power-analysis/draw_2829/N_2/seed_698\n",
      "2023-09-27 17:17:23,057 - hbmep.dataset.core - INFO - Copied config to /home/vishu/repos/hbmep-paper/reports/human/intraoperative/power-analysis/draw_2829/N_2/seed_698\n",
      "2023-09-27 17:17:23,057 - hbmep.dataset.core - INFO - Processing data ...\n",
      "2023-09-27 17:17:23,058 - hbmep.utils.utils - INFO - func:load took: 0.00 sec\n",
      "2023-09-27 17:17:23,058 - __main__ - INFO - Fitting ...\n",
      "2023-09-27 17:17:23,059 - hbmep.model.baseline - INFO - Running inference with hierarchical_bayesian ...\n"
     ]
    },
    {
     "data": {
      "application/vnd.jupyter.widget-view+json": {
       "model_id": "80ed79ea07264f16a417fad8f3eeac7a",
       "version_major": 2,
       "version_minor": 0
      },
      "text/plain": [
       "  0%|          | 0/1500 [00:00<?, ?it/s]"
      ]
     },
     "metadata": {},
     "output_type": "display_data"
    },
    {
     "data": {
      "application/vnd.jupyter.widget-view+json": {
       "model_id": "4c787928ed9d4d0aaf1d001b0e807e76",
       "version_major": 2,
       "version_minor": 0
      },
      "text/plain": [
       "  0%|          | 0/1500 [00:00<?, ?it/s]"
      ]
     },
     "metadata": {},
     "output_type": "display_data"
    },
    {
     "data": {
      "application/vnd.jupyter.widget-view+json": {
       "model_id": "b16945ffcc774389bfdc54869560cf68",
       "version_major": 2,
       "version_minor": 0
      },
      "text/plain": [
       "  0%|          | 0/1500 [00:00<?, ?it/s]"
      ]
     },
     "metadata": {},
     "output_type": "display_data"
    },
    {
     "data": {
      "application/vnd.jupyter.widget-view+json": {
       "model_id": "18a923cf97c84e8e83f65d9efb54621f",
       "version_major": 2,
       "version_minor": 0
      },
      "text/plain": [
       "  0%|          | 0/1500 [00:00<?, ?it/s]"
      ]
     },
     "metadata": {},
     "output_type": "display_data"
    },
    {
     "name": "stderr",
     "output_type": "stream",
     "text": [
      "2023-09-27 17:17:43,113 - hbmep.utils.utils - INFO - func:run_inference took: 20.05 sec\n",
      "2023-09-27 17:17:43,114 - __main__ - INFO - Predicting ...\n",
      "2023-09-27 17:17:43,118 - hbmep.utils.utils - INFO - func:make_prediction_dataset took: 0.00 sec\n",
      "2023-09-27 17:17:44,045 - hbmep.utils.utils - INFO - func:predict took: 0.93 sec\n",
      "2023-09-27 17:17:44,045 - __main__ - INFO - Plotting recruitment curves ...\n",
      "2023-09-27 17:17:44,049 - hbmep.model.baseline - INFO - Rendering ...\n",
      "2023-09-27 17:17:44,951 - hbmep.model.baseline - INFO - Saved to /home/vishu/repos/hbmep-paper/reports/human/intraoperative/power-analysis/draw_2829/N_2/seed_698/recruitment_curves.pdf\n",
      "2023-09-27 17:17:44,952 - hbmep.utils.utils - INFO - func:render_recruitment_curves took: 0.91 sec\n",
      "2023-09-27 17:17:44,952 - __main__ - INFO - Plotting posterior checks ...\n",
      "2023-09-27 17:17:44,956 - hbmep.model.baseline - INFO - Rendering Posterior Predictive Check ...\n",
      "2023-09-27 17:17:45,817 - hbmep.model.baseline - INFO - Saved to /home/vishu/repos/hbmep-paper/reports/human/intraoperative/power-analysis/draw_2829/N_2/seed_698/posterior_predictive_check.pdf\n",
      "2023-09-27 17:17:45,817 - hbmep.utils.utils - INFO - func:_render_predictive_check took: 0.87 sec\n",
      "2023-09-27 17:17:45,818 - hbmep.utils.utils - INFO - func:render_predictive_check took: 0.87 sec\n",
      "2023-09-27 17:17:45,995 - __main__ - INFO - \n",
      "\n",
      "Draw:1/50, N:1/6, Repeat:10/10\n",
      "2023-09-27 17:17:45,996 - __main__ - INFO - Seed:677, Subjects: 156, 108\n",
      "2023-09-27 17:17:45,997 - hbmep.config - INFO - Verifying configuration ...\n",
      "2023-09-27 17:17:45,997 - hbmep.config - INFO - Success!\n",
      "2023-09-27 17:17:45,998 - hbmep.model.baseline - INFO - Initialized model with hierarchical_bayesian link\n",
      "2023-09-27 17:17:45,998 - hbmep.dataset.core - INFO - Artefacts will be stored here - /home/vishu/repos/hbmep-paper/reports/human/intraoperative/power-analysis/draw_2829/N_2/seed_677\n",
      "2023-09-27 17:17:45,998 - hbmep.dataset.core - INFO - Copied config to /home/vishu/repos/hbmep-paper/reports/human/intraoperative/power-analysis/draw_2829/N_2/seed_677\n",
      "2023-09-27 17:17:45,999 - hbmep.dataset.core - INFO - Processing data ...\n",
      "2023-09-27 17:17:46,000 - hbmep.utils.utils - INFO - func:load took: 0.00 sec\n",
      "2023-09-27 17:17:46,000 - __main__ - INFO - Fitting ...\n",
      "2023-09-27 17:17:46,001 - hbmep.model.baseline - INFO - Running inference with hierarchical_bayesian ...\n"
     ]
    },
    {
     "data": {
      "application/vnd.jupyter.widget-view+json": {
       "model_id": "f4a21e3fea634ae19ade07fb98bac7fa",
       "version_major": 2,
       "version_minor": 0
      },
      "text/plain": [
       "  0%|          | 0/1500 [00:00<?, ?it/s]"
      ]
     },
     "metadata": {},
     "output_type": "display_data"
    },
    {
     "data": {
      "application/vnd.jupyter.widget-view+json": {
       "model_id": "b31948ad00394053a8da531979243a8e",
       "version_major": 2,
       "version_minor": 0
      },
      "text/plain": [
       "  0%|          | 0/1500 [00:00<?, ?it/s]"
      ]
     },
     "metadata": {},
     "output_type": "display_data"
    },
    {
     "data": {
      "application/vnd.jupyter.widget-view+json": {
       "model_id": "724dd1a0f3614e34893b1f366f7aa383",
       "version_major": 2,
       "version_minor": 0
      },
      "text/plain": [
       "  0%|          | 0/1500 [00:00<?, ?it/s]"
      ]
     },
     "metadata": {},
     "output_type": "display_data"
    },
    {
     "data": {
      "application/vnd.jupyter.widget-view+json": {
       "model_id": "2a38e49773474c6dba97ae0d9da2a8bb",
       "version_major": 2,
       "version_minor": 0
      },
      "text/plain": [
       "  0%|          | 0/1500 [00:00<?, ?it/s]"
      ]
     },
     "metadata": {},
     "output_type": "display_data"
    },
    {
     "name": "stderr",
     "output_type": "stream",
     "text": [
      "2023-09-27 17:18:01,728 - hbmep.utils.utils - INFO - func:run_inference took: 15.73 sec\n",
      "2023-09-27 17:18:01,729 - __main__ - INFO - Predicting ...\n",
      "2023-09-27 17:18:01,733 - hbmep.utils.utils - INFO - func:make_prediction_dataset took: 0.00 sec\n",
      "2023-09-27 17:18:02,681 - hbmep.utils.utils - INFO - func:predict took: 0.95 sec\n",
      "2023-09-27 17:18:02,681 - __main__ - INFO - Plotting recruitment curves ...\n",
      "2023-09-27 17:18:02,685 - hbmep.model.baseline - INFO - Rendering ...\n",
      "2023-09-27 17:18:03,605 - hbmep.model.baseline - INFO - Saved to /home/vishu/repos/hbmep-paper/reports/human/intraoperative/power-analysis/draw_2829/N_2/seed_677/recruitment_curves.pdf\n",
      "2023-09-27 17:18:03,605 - hbmep.utils.utils - INFO - func:render_recruitment_curves took: 0.92 sec\n",
      "2023-09-27 17:18:03,606 - __main__ - INFO - Plotting posterior checks ...\n",
      "2023-09-27 17:18:03,609 - hbmep.model.baseline - INFO - Rendering Posterior Predictive Check ...\n",
      "2023-09-27 17:18:04,467 - hbmep.model.baseline - INFO - Saved to /home/vishu/repos/hbmep-paper/reports/human/intraoperative/power-analysis/draw_2829/N_2/seed_677/posterior_predictive_check.pdf\n",
      "2023-09-27 17:18:04,467 - hbmep.utils.utils - INFO - func:_render_predictive_check took: 0.86 sec\n",
      "2023-09-27 17:18:04,467 - hbmep.utils.utils - INFO - func:render_predictive_check took: 0.86 sec\n",
      "2023-09-27 17:18:04,661 - __main__ - INFO - \n",
      "\n",
      "Draw:1/50, N:2/6, Repeat:1/10\n",
      "2023-09-27 17:18:04,669 - __main__ - INFO - Seed:339, Subjects: 67, 138, 116, 43\n",
      "2023-09-27 17:18:04,671 - hbmep.config - INFO - Verifying configuration ...\n",
      "2023-09-27 17:18:04,671 - hbmep.config - INFO - Success!\n",
      "2023-09-27 17:18:04,672 - hbmep.model.baseline - INFO - Initialized model with hierarchical_bayesian link\n",
      "2023-09-27 17:18:04,672 - hbmep.dataset.core - INFO - Artefacts will be stored here - /home/vishu/repos/hbmep-paper/reports/human/intraoperative/power-analysis/draw_2829/N_4/seed_339\n",
      "2023-09-27 17:18:04,672 - hbmep.dataset.core - INFO - Copied config to /home/vishu/repos/hbmep-paper/reports/human/intraoperative/power-analysis/draw_2829/N_4/seed_339\n",
      "2023-09-27 17:18:04,673 - hbmep.dataset.core - INFO - Processing data ...\n",
      "2023-09-27 17:18:04,674 - hbmep.utils.utils - INFO - func:load took: 0.00 sec\n",
      "2023-09-27 17:18:04,674 - __main__ - INFO - Fitting ...\n",
      "2023-09-27 17:18:04,674 - hbmep.model.baseline - INFO - Running inference with hierarchical_bayesian ...\n"
     ]
    },
    {
     "data": {
      "application/vnd.jupyter.widget-view+json": {
       "model_id": "fca83b6f7dd74f448dc43eb664010171",
       "version_major": 2,
       "version_minor": 0
      },
      "text/plain": [
       "  0%|          | 0/1500 [00:00<?, ?it/s]"
      ]
     },
     "metadata": {},
     "output_type": "display_data"
    },
    {
     "data": {
      "application/vnd.jupyter.widget-view+json": {
       "model_id": "ef31ed2f1de14962bb71ebd469e56222",
       "version_major": 2,
       "version_minor": 0
      },
      "text/plain": [
       "  0%|          | 0/1500 [00:00<?, ?it/s]"
      ]
     },
     "metadata": {},
     "output_type": "display_data"
    },
    {
     "data": {
      "application/vnd.jupyter.widget-view+json": {
       "model_id": "77998dcd2573418889866cb82bc25c8a",
       "version_major": 2,
       "version_minor": 0
      },
      "text/plain": [
       "  0%|          | 0/1500 [00:00<?, ?it/s]"
      ]
     },
     "metadata": {},
     "output_type": "display_data"
    },
    {
     "data": {
      "application/vnd.jupyter.widget-view+json": {
       "model_id": "1ce4c9a1677a4be2aa1b57d93fcb6d62",
       "version_major": 2,
       "version_minor": 0
      },
      "text/plain": [
       "  0%|          | 0/1500 [00:00<?, ?it/s]"
      ]
     },
     "metadata": {},
     "output_type": "display_data"
    },
    {
     "name": "stderr",
     "output_type": "stream",
     "text": [
      "2023-09-27 17:18:47,937 - hbmep.utils.utils - INFO - func:run_inference took: 43.26 sec\n",
      "2023-09-27 17:18:47,938 - __main__ - INFO - Predicting ...\n",
      "2023-09-27 17:18:47,942 - hbmep.utils.utils - INFO - func:make_prediction_dataset took: 0.00 sec\n",
      "2023-09-27 17:18:49,420 - hbmep.utils.utils - INFO - func:predict took: 1.48 sec\n",
      "2023-09-27 17:18:49,420 - __main__ - INFO - Plotting recruitment curves ...\n",
      "2023-09-27 17:18:49,426 - hbmep.model.baseline - INFO - Rendering ...\n",
      "2023-09-27 17:18:51,056 - hbmep.model.baseline - INFO - Saved to /home/vishu/repos/hbmep-paper/reports/human/intraoperative/power-analysis/draw_2829/N_4/seed_339/recruitment_curves.pdf\n",
      "2023-09-27 17:18:51,057 - hbmep.utils.utils - INFO - func:render_recruitment_curves took: 1.64 sec\n",
      "2023-09-27 17:18:51,057 - __main__ - INFO - Plotting posterior checks ...\n",
      "2023-09-27 17:18:51,066 - hbmep.model.baseline - INFO - Rendering Posterior Predictive Check ...\n",
      "2023-09-27 17:18:52,763 - hbmep.model.baseline - INFO - Saved to /home/vishu/repos/hbmep-paper/reports/human/intraoperative/power-analysis/draw_2829/N_4/seed_339/posterior_predictive_check.pdf\n",
      "2023-09-27 17:18:52,763 - hbmep.utils.utils - INFO - func:_render_predictive_check took: 1.71 sec\n",
      "2023-09-27 17:18:52,763 - hbmep.utils.utils - INFO - func:render_predictive_check took: 1.71 sec\n",
      "2023-09-27 17:18:53,004 - __main__ - INFO - \n",
      "\n",
      "Draw:1/50, N:2/6, Repeat:2/10\n",
      "2023-09-27 17:18:53,006 - __main__ - INFO - Seed:777, Subjects: 23, 34, 144, 97\n",
      "2023-09-27 17:18:53,007 - hbmep.config - INFO - Verifying configuration ...\n",
      "2023-09-27 17:18:53,007 - hbmep.config - INFO - Success!\n",
      "2023-09-27 17:18:53,007 - hbmep.model.baseline - INFO - Initialized model with hierarchical_bayesian link\n",
      "2023-09-27 17:18:53,007 - hbmep.dataset.core - INFO - Artefacts will be stored here - /home/vishu/repos/hbmep-paper/reports/human/intraoperative/power-analysis/draw_2829/N_4/seed_777\n",
      "2023-09-27 17:18:53,008 - hbmep.dataset.core - INFO - Copied config to /home/vishu/repos/hbmep-paper/reports/human/intraoperative/power-analysis/draw_2829/N_4/seed_777\n",
      "2023-09-27 17:18:53,008 - hbmep.dataset.core - INFO - Processing data ...\n",
      "2023-09-27 17:18:53,009 - hbmep.utils.utils - INFO - func:load took: 0.00 sec\n",
      "2023-09-27 17:18:53,009 - __main__ - INFO - Fitting ...\n",
      "2023-09-27 17:18:53,010 - hbmep.model.baseline - INFO - Running inference with hierarchical_bayesian ...\n"
     ]
    },
    {
     "data": {
      "application/vnd.jupyter.widget-view+json": {
       "model_id": "e6304b31e63a4e30b23d423c6abf2839",
       "version_major": 2,
       "version_minor": 0
      },
      "text/plain": [
       "  0%|          | 0/1500 [00:00<?, ?it/s]"
      ]
     },
     "metadata": {},
     "output_type": "display_data"
    },
    {
     "data": {
      "application/vnd.jupyter.widget-view+json": {
       "model_id": "ca3d911d6fda40118a6f5b76172e9c80",
       "version_major": 2,
       "version_minor": 0
      },
      "text/plain": [
       "  0%|          | 0/1500 [00:00<?, ?it/s]"
      ]
     },
     "metadata": {},
     "output_type": "display_data"
    },
    {
     "data": {
      "application/vnd.jupyter.widget-view+json": {
       "model_id": "9733045c647a4b6480f2c8bd62708f2e",
       "version_major": 2,
       "version_minor": 0
      },
      "text/plain": [
       "  0%|          | 0/1500 [00:00<?, ?it/s]"
      ]
     },
     "metadata": {},
     "output_type": "display_data"
    },
    {
     "data": {
      "application/vnd.jupyter.widget-view+json": {
       "model_id": "8134db0231e74122899892421eef0e19",
       "version_major": 2,
       "version_minor": 0
      },
      "text/plain": [
       "  0%|          | 0/1500 [00:00<?, ?it/s]"
      ]
     },
     "metadata": {},
     "output_type": "display_data"
    },
    {
     "name": "stderr",
     "output_type": "stream",
     "text": [
      "2023-09-27 17:19:12,019 - hbmep.utils.utils - INFO - func:run_inference took: 19.01 sec\n",
      "2023-09-27 17:19:12,020 - __main__ - INFO - Predicting ...\n",
      "2023-09-27 17:19:12,025 - hbmep.utils.utils - INFO - func:make_prediction_dataset took: 0.00 sec\n",
      "2023-09-27 17:19:13,486 - hbmep.utils.utils - INFO - func:predict took: 1.46 sec\n",
      "2023-09-27 17:19:13,487 - __main__ - INFO - Plotting recruitment curves ...\n",
      "2023-09-27 17:19:13,492 - hbmep.model.baseline - INFO - Rendering ...\n",
      "2023-09-27 17:19:15,185 - hbmep.model.baseline - INFO - Saved to /home/vishu/repos/hbmep-paper/reports/human/intraoperative/power-analysis/draw_2829/N_4/seed_777/recruitment_curves.pdf\n",
      "2023-09-27 17:19:15,186 - hbmep.utils.utils - INFO - func:render_recruitment_curves took: 1.70 sec\n",
      "2023-09-27 17:19:15,186 - __main__ - INFO - Plotting posterior checks ...\n",
      "2023-09-27 17:19:15,192 - hbmep.model.baseline - INFO - Rendering Posterior Predictive Check ...\n",
      "2023-09-27 17:19:16,894 - hbmep.model.baseline - INFO - Saved to /home/vishu/repos/hbmep-paper/reports/human/intraoperative/power-analysis/draw_2829/N_4/seed_777/posterior_predictive_check.pdf\n",
      "2023-09-27 17:19:16,895 - hbmep.utils.utils - INFO - func:_render_predictive_check took: 1.71 sec\n",
      "2023-09-27 17:19:16,895 - hbmep.utils.utils - INFO - func:render_predictive_check took: 1.71 sec\n",
      "2023-09-27 17:19:17,156 - __main__ - INFO - \n",
      "\n",
      "Draw:1/50, N:2/6, Repeat:3/10\n",
      "2023-09-27 17:19:17,157 - __main__ - INFO - Seed:129, Subjects: 151, 192, 17, 74\n",
      "2023-09-27 17:19:17,158 - hbmep.config - INFO - Verifying configuration ...\n",
      "2023-09-27 17:19:17,159 - hbmep.config - INFO - Success!\n",
      "2023-09-27 17:19:17,159 - hbmep.model.baseline - INFO - Initialized model with hierarchical_bayesian link\n",
      "2023-09-27 17:19:17,159 - hbmep.dataset.core - INFO - Artefacts will be stored here - /home/vishu/repos/hbmep-paper/reports/human/intraoperative/power-analysis/draw_2829/N_4/seed_129\n",
      "2023-09-27 17:19:17,160 - hbmep.dataset.core - INFO - Copied config to /home/vishu/repos/hbmep-paper/reports/human/intraoperative/power-analysis/draw_2829/N_4/seed_129\n",
      "2023-09-27 17:19:17,160 - hbmep.dataset.core - INFO - Processing data ...\n",
      "2023-09-27 17:19:17,161 - hbmep.utils.utils - INFO - func:load took: 0.00 sec\n",
      "2023-09-27 17:19:17,161 - __main__ - INFO - Fitting ...\n",
      "2023-09-27 17:19:17,162 - hbmep.model.baseline - INFO - Running inference with hierarchical_bayesian ...\n"
     ]
    },
    {
     "data": {
      "application/vnd.jupyter.widget-view+json": {
       "model_id": "bb74ed8ea9a748a0a8e07b2fed78ffe5",
       "version_major": 2,
       "version_minor": 0
      },
      "text/plain": [
       "  0%|          | 0/1500 [00:00<?, ?it/s]"
      ]
     },
     "metadata": {},
     "output_type": "display_data"
    },
    {
     "data": {
      "application/vnd.jupyter.widget-view+json": {
       "model_id": "e37190a0633f4518968ec0a867be3596",
       "version_major": 2,
       "version_minor": 0
      },
      "text/plain": [
       "  0%|          | 0/1500 [00:00<?, ?it/s]"
      ]
     },
     "metadata": {},
     "output_type": "display_data"
    },
    {
     "data": {
      "application/vnd.jupyter.widget-view+json": {
       "model_id": "f3d811b61f044648a141fee17d73f4f5",
       "version_major": 2,
       "version_minor": 0
      },
      "text/plain": [
       "  0%|          | 0/1500 [00:00<?, ?it/s]"
      ]
     },
     "metadata": {},
     "output_type": "display_data"
    },
    {
     "data": {
      "application/vnd.jupyter.widget-view+json": {
       "model_id": "b72d59b0809540478008c8eaf23f1ec3",
       "version_major": 2,
       "version_minor": 0
      },
      "text/plain": [
       "  0%|          | 0/1500 [00:00<?, ?it/s]"
      ]
     },
     "metadata": {},
     "output_type": "display_data"
    },
    {
     "name": "stderr",
     "output_type": "stream",
     "text": [
      "2023-09-27 17:19:35,570 - hbmep.utils.utils - INFO - func:run_inference took: 18.41 sec\n",
      "2023-09-27 17:19:35,571 - __main__ - INFO - Predicting ...\n",
      "2023-09-27 17:19:35,575 - hbmep.utils.utils - INFO - func:make_prediction_dataset took: 0.00 sec\n",
      "2023-09-27 17:19:37,047 - hbmep.utils.utils - INFO - func:predict took: 1.47 sec\n",
      "2023-09-27 17:19:37,048 - __main__ - INFO - Plotting recruitment curves ...\n",
      "2023-09-27 17:19:37,053 - hbmep.model.baseline - INFO - Rendering ...\n",
      "2023-09-27 17:19:38,775 - hbmep.model.baseline - INFO - Saved to /home/vishu/repos/hbmep-paper/reports/human/intraoperative/power-analysis/draw_2829/N_4/seed_129/recruitment_curves.pdf\n",
      "2023-09-27 17:19:38,775 - hbmep.utils.utils - INFO - func:render_recruitment_curves took: 1.73 sec\n",
      "2023-09-27 17:19:38,775 - __main__ - INFO - Plotting posterior checks ...\n",
      "2023-09-27 17:19:38,782 - hbmep.model.baseline - INFO - Rendering Posterior Predictive Check ...\n",
      "2023-09-27 17:19:40,488 - hbmep.model.baseline - INFO - Saved to /home/vishu/repos/hbmep-paper/reports/human/intraoperative/power-analysis/draw_2829/N_4/seed_129/posterior_predictive_check.pdf\n",
      "2023-09-27 17:19:40,488 - hbmep.utils.utils - INFO - func:_render_predictive_check took: 1.71 sec\n",
      "2023-09-27 17:19:40,489 - hbmep.utils.utils - INFO - func:render_predictive_check took: 1.71 sec\n",
      "2023-09-27 17:19:40,766 - __main__ - INFO - \n",
      "\n",
      "Draw:1/50, N:2/6, Repeat:4/10\n",
      "2023-09-27 17:19:40,768 - __main__ - INFO - Seed:822, Subjects: 98, 32, 121, 186\n",
      "2023-09-27 17:19:40,769 - hbmep.config - INFO - Verifying configuration ...\n",
      "2023-09-27 17:19:40,769 - hbmep.config - INFO - Success!\n",
      "2023-09-27 17:19:40,770 - hbmep.model.baseline - INFO - Initialized model with hierarchical_bayesian link\n",
      "2023-09-27 17:19:40,770 - hbmep.dataset.core - INFO - Artefacts will be stored here - /home/vishu/repos/hbmep-paper/reports/human/intraoperative/power-analysis/draw_2829/N_4/seed_822\n",
      "2023-09-27 17:19:40,770 - hbmep.dataset.core - INFO - Copied config to /home/vishu/repos/hbmep-paper/reports/human/intraoperative/power-analysis/draw_2829/N_4/seed_822\n",
      "2023-09-27 17:19:40,771 - hbmep.dataset.core - INFO - Processing data ...\n",
      "2023-09-27 17:19:40,772 - hbmep.utils.utils - INFO - func:load took: 0.00 sec\n",
      "2023-09-27 17:19:40,772 - __main__ - INFO - Fitting ...\n",
      "2023-09-27 17:19:40,772 - hbmep.model.baseline - INFO - Running inference with hierarchical_bayesian ...\n"
     ]
    },
    {
     "data": {
      "application/vnd.jupyter.widget-view+json": {
       "model_id": "cb5c04d592e545cdba966b8acc723b64",
       "version_major": 2,
       "version_minor": 0
      },
      "text/plain": [
       "  0%|          | 0/1500 [00:00<?, ?it/s]"
      ]
     },
     "metadata": {},
     "output_type": "display_data"
    },
    {
     "data": {
      "application/vnd.jupyter.widget-view+json": {
       "model_id": "1ac313046096424a90db129baa168010",
       "version_major": 2,
       "version_minor": 0
      },
      "text/plain": [
       "  0%|          | 0/1500 [00:00<?, ?it/s]"
      ]
     },
     "metadata": {},
     "output_type": "display_data"
    },
    {
     "data": {
      "application/vnd.jupyter.widget-view+json": {
       "model_id": "0d50c5acd20f49d5857c36b4d50fd509",
       "version_major": 2,
       "version_minor": 0
      },
      "text/plain": [
       "  0%|          | 0/1500 [00:00<?, ?it/s]"
      ]
     },
     "metadata": {},
     "output_type": "display_data"
    },
    {
     "data": {
      "application/vnd.jupyter.widget-view+json": {
       "model_id": "89d2f4b04e56461398bff587b52a0481",
       "version_major": 2,
       "version_minor": 0
      },
      "text/plain": [
       "  0%|          | 0/1500 [00:00<?, ?it/s]"
      ]
     },
     "metadata": {},
     "output_type": "display_data"
    },
    {
     "name": "stderr",
     "output_type": "stream",
     "text": [
      "2023-09-27 17:20:06,704 - hbmep.utils.utils - INFO - func:run_inference took: 25.93 sec\n",
      "2023-09-27 17:20:06,705 - __main__ - INFO - Predicting ...\n",
      "2023-09-27 17:20:06,709 - hbmep.utils.utils - INFO - func:make_prediction_dataset took: 0.00 sec\n",
      "2023-09-27 17:20:08,183 - hbmep.utils.utils - INFO - func:predict took: 1.47 sec\n",
      "2023-09-27 17:20:08,183 - __main__ - INFO - Plotting recruitment curves ...\n",
      "2023-09-27 17:20:08,189 - hbmep.model.baseline - INFO - Rendering ...\n",
      "2023-09-27 17:20:09,958 - hbmep.model.baseline - INFO - Saved to /home/vishu/repos/hbmep-paper/reports/human/intraoperative/power-analysis/draw_2829/N_4/seed_822/recruitment_curves.pdf\n",
      "2023-09-27 17:20:09,958 - hbmep.utils.utils - INFO - func:render_recruitment_curves took: 1.77 sec\n",
      "2023-09-27 17:20:09,958 - __main__ - INFO - Plotting posterior checks ...\n",
      "2023-09-27 17:20:09,965 - hbmep.model.baseline - INFO - Rendering Posterior Predictive Check ...\n",
      "2023-09-27 17:20:11,677 - hbmep.model.baseline - INFO - Saved to /home/vishu/repos/hbmep-paper/reports/human/intraoperative/power-analysis/draw_2829/N_4/seed_822/posterior_predictive_check.pdf\n",
      "2023-09-27 17:20:11,677 - hbmep.utils.utils - INFO - func:_render_predictive_check took: 1.72 sec\n",
      "2023-09-27 17:20:11,677 - hbmep.utils.utils - INFO - func:render_predictive_check took: 1.72 sec\n",
      "2023-09-27 17:20:11,967 - __main__ - INFO - \n",
      "\n",
      "Draw:1/50, N:2/6, Repeat:5/10\n",
      "2023-09-27 17:20:11,968 - __main__ - INFO - Seed:616, Subjects: 130, 39, 87, 96\n",
      "2023-09-27 17:20:11,969 - hbmep.config - INFO - Verifying configuration ...\n",
      "2023-09-27 17:20:11,969 - hbmep.config - INFO - Success!\n",
      "2023-09-27 17:20:11,970 - hbmep.model.baseline - INFO - Initialized model with hierarchical_bayesian link\n",
      "2023-09-27 17:20:11,970 - hbmep.dataset.core - INFO - Artefacts will be stored here - /home/vishu/repos/hbmep-paper/reports/human/intraoperative/power-analysis/draw_2829/N_4/seed_616\n",
      "2023-09-27 17:20:11,970 - hbmep.dataset.core - INFO - Copied config to /home/vishu/repos/hbmep-paper/reports/human/intraoperative/power-analysis/draw_2829/N_4/seed_616\n",
      "2023-09-27 17:20:11,971 - hbmep.dataset.core - INFO - Processing data ...\n",
      "2023-09-27 17:20:11,972 - hbmep.utils.utils - INFO - func:load took: 0.00 sec\n",
      "2023-09-27 17:20:11,972 - __main__ - INFO - Fitting ...\n",
      "2023-09-27 17:20:11,972 - hbmep.model.baseline - INFO - Running inference with hierarchical_bayesian ...\n"
     ]
    },
    {
     "data": {
      "application/vnd.jupyter.widget-view+json": {
       "model_id": "a0b35b396d3f43858364e31b86d583d6",
       "version_major": 2,
       "version_minor": 0
      },
      "text/plain": [
       "  0%|          | 0/1500 [00:00<?, ?it/s]"
      ]
     },
     "metadata": {},
     "output_type": "display_data"
    },
    {
     "data": {
      "application/vnd.jupyter.widget-view+json": {
       "model_id": "076d7a34b45542e28813b1bee597b665",
       "version_major": 2,
       "version_minor": 0
      },
      "text/plain": [
       "  0%|          | 0/1500 [00:00<?, ?it/s]"
      ]
     },
     "metadata": {},
     "output_type": "display_data"
    },
    {
     "data": {
      "application/vnd.jupyter.widget-view+json": {
       "model_id": "9ca25c2b815d43f89bd5f0db53ea8c92",
       "version_major": 2,
       "version_minor": 0
      },
      "text/plain": [
       "  0%|          | 0/1500 [00:00<?, ?it/s]"
      ]
     },
     "metadata": {},
     "output_type": "display_data"
    },
    {
     "data": {
      "application/vnd.jupyter.widget-view+json": {
       "model_id": "ebdc18bf56ce4164bbaaab4d5bac0f5f",
       "version_major": 2,
       "version_minor": 0
      },
      "text/plain": [
       "  0%|          | 0/1500 [00:00<?, ?it/s]"
      ]
     },
     "metadata": {},
     "output_type": "display_data"
    },
    {
     "name": "stderr",
     "output_type": "stream",
     "text": [
      "2023-09-27 17:20:36,381 - hbmep.utils.utils - INFO - func:run_inference took: 24.41 sec\n",
      "2023-09-27 17:20:36,382 - __main__ - INFO - Predicting ...\n",
      "2023-09-27 17:20:36,386 - hbmep.utils.utils - INFO - func:make_prediction_dataset took: 0.00 sec\n",
      "2023-09-27 17:20:37,850 - hbmep.utils.utils - INFO - func:predict took: 1.46 sec\n",
      "2023-09-27 17:20:37,850 - __main__ - INFO - Plotting recruitment curves ...\n",
      "2023-09-27 17:20:37,856 - hbmep.model.baseline - INFO - Rendering ...\n",
      "2023-09-27 17:20:39,403 - hbmep.model.baseline - INFO - Saved to /home/vishu/repos/hbmep-paper/reports/human/intraoperative/power-analysis/draw_2829/N_4/seed_616/recruitment_curves.pdf\n",
      "2023-09-27 17:20:39,403 - hbmep.utils.utils - INFO - func:render_recruitment_curves took: 1.55 sec\n",
      "2023-09-27 17:20:39,404 - __main__ - INFO - Plotting posterior checks ...\n",
      "2023-09-27 17:20:39,410 - hbmep.model.baseline - INFO - Rendering Posterior Predictive Check ...\n",
      "2023-09-27 17:20:41,513 - hbmep.model.baseline - INFO - Saved to /home/vishu/repos/hbmep-paper/reports/human/intraoperative/power-analysis/draw_2829/N_4/seed_616/posterior_predictive_check.pdf\n",
      "2023-09-27 17:20:41,514 - hbmep.utils.utils - INFO - func:_render_predictive_check took: 2.11 sec\n",
      "2023-09-27 17:20:41,514 - hbmep.utils.utils - INFO - func:render_predictive_check took: 2.11 sec\n",
      "2023-09-27 17:20:41,820 - __main__ - INFO - \n",
      "\n",
      "Draw:1/50, N:2/6, Repeat:6/10\n",
      "2023-09-27 17:20:41,823 - __main__ - INFO - Seed:214, Subjects: 120, 179, 25, 125\n",
      "2023-09-27 17:20:41,823 - hbmep.config - INFO - Verifying configuration ...\n",
      "2023-09-27 17:20:41,824 - hbmep.config - INFO - Success!\n",
      "2023-09-27 17:20:41,824 - hbmep.model.baseline - INFO - Initialized model with hierarchical_bayesian link\n",
      "2023-09-27 17:20:41,824 - hbmep.dataset.core - INFO - Artefacts will be stored here - /home/vishu/repos/hbmep-paper/reports/human/intraoperative/power-analysis/draw_2829/N_4/seed_214\n",
      "2023-09-27 17:20:41,824 - hbmep.dataset.core - INFO - Copied config to /home/vishu/repos/hbmep-paper/reports/human/intraoperative/power-analysis/draw_2829/N_4/seed_214\n",
      "2023-09-27 17:20:41,825 - hbmep.dataset.core - INFO - Processing data ...\n",
      "2023-09-27 17:20:41,826 - hbmep.utils.utils - INFO - func:load took: 0.00 sec\n",
      "2023-09-27 17:20:41,826 - __main__ - INFO - Fitting ...\n",
      "2023-09-27 17:20:41,826 - hbmep.model.baseline - INFO - Running inference with hierarchical_bayesian ...\n"
     ]
    },
    {
     "data": {
      "application/vnd.jupyter.widget-view+json": {
       "model_id": "8ea36551a7f3489cadff760a3fc823aa",
       "version_major": 2,
       "version_minor": 0
      },
      "text/plain": [
       "  0%|          | 0/1500 [00:00<?, ?it/s]"
      ]
     },
     "metadata": {},
     "output_type": "display_data"
    },
    {
     "data": {
      "application/vnd.jupyter.widget-view+json": {
       "model_id": "f0b258fa7f044698a1dce82e9015147d",
       "version_major": 2,
       "version_minor": 0
      },
      "text/plain": [
       "  0%|          | 0/1500 [00:00<?, ?it/s]"
      ]
     },
     "metadata": {},
     "output_type": "display_data"
    },
    {
     "data": {
      "application/vnd.jupyter.widget-view+json": {
       "model_id": "05ba515b9d8c462780ee7c3668a22cb9",
       "version_major": 2,
       "version_minor": 0
      },
      "text/plain": [
       "  0%|          | 0/1500 [00:00<?, ?it/s]"
      ]
     },
     "metadata": {},
     "output_type": "display_data"
    },
    {
     "data": {
      "application/vnd.jupyter.widget-view+json": {
       "model_id": "8acddd2c6dc94c8ead52c235f71ff401",
       "version_major": 2,
       "version_minor": 0
      },
      "text/plain": [
       "  0%|          | 0/1500 [00:00<?, ?it/s]"
      ]
     },
     "metadata": {},
     "output_type": "display_data"
    },
    {
     "name": "stderr",
     "output_type": "stream",
     "text": [
      "2023-09-27 17:21:24,640 - hbmep.utils.utils - INFO - func:run_inference took: 42.81 sec\n",
      "2023-09-27 17:21:24,641 - __main__ - INFO - Predicting ...\n",
      "2023-09-27 17:21:24,645 - hbmep.utils.utils - INFO - func:make_prediction_dataset took: 0.00 sec\n",
      "2023-09-27 17:21:26,112 - hbmep.utils.utils - INFO - func:predict took: 1.47 sec\n",
      "2023-09-27 17:21:26,112 - __main__ - INFO - Plotting recruitment curves ...\n",
      "2023-09-27 17:21:26,118 - hbmep.model.baseline - INFO - Rendering ...\n",
      "2023-09-27 17:21:27,682 - hbmep.model.baseline - INFO - Saved to /home/vishu/repos/hbmep-paper/reports/human/intraoperative/power-analysis/draw_2829/N_4/seed_214/recruitment_curves.pdf\n",
      "2023-09-27 17:21:27,683 - hbmep.utils.utils - INFO - func:render_recruitment_curves took: 1.57 sec\n",
      "2023-09-27 17:21:27,683 - __main__ - INFO - Plotting posterior checks ...\n",
      "2023-09-27 17:21:27,689 - hbmep.model.baseline - INFO - Rendering Posterior Predictive Check ...\n",
      "2023-09-27 17:21:29,763 - hbmep.model.baseline - INFO - Saved to /home/vishu/repos/hbmep-paper/reports/human/intraoperative/power-analysis/draw_2829/N_4/seed_214/posterior_predictive_check.pdf\n",
      "2023-09-27 17:21:29,763 - hbmep.utils.utils - INFO - func:_render_predictive_check took: 2.08 sec\n",
      "2023-09-27 17:21:29,764 - hbmep.utils.utils - INFO - func:render_predictive_check took: 2.08 sec\n",
      "2023-09-27 17:21:30,086 - __main__ - INFO - \n",
      "\n",
      "Draw:1/50, N:2/6, Repeat:7/10\n",
      "2023-09-27 17:21:30,088 - __main__ - INFO - Seed:204, Subjects: 195, 25, 42, 54\n",
      "2023-09-27 17:21:30,089 - hbmep.config - INFO - Verifying configuration ...\n",
      "2023-09-27 17:21:30,090 - hbmep.config - INFO - Success!\n",
      "2023-09-27 17:21:30,090 - hbmep.model.baseline - INFO - Initialized model with hierarchical_bayesian link\n",
      "2023-09-27 17:21:30,090 - hbmep.dataset.core - INFO - Artefacts will be stored here - /home/vishu/repos/hbmep-paper/reports/human/intraoperative/power-analysis/draw_2829/N_4/seed_204\n",
      "2023-09-27 17:21:30,090 - hbmep.dataset.core - INFO - Copied config to /home/vishu/repos/hbmep-paper/reports/human/intraoperative/power-analysis/draw_2829/N_4/seed_204\n",
      "2023-09-27 17:21:30,091 - hbmep.dataset.core - INFO - Processing data ...\n",
      "2023-09-27 17:21:30,092 - hbmep.utils.utils - INFO - func:load took: 0.00 sec\n",
      "2023-09-27 17:21:30,092 - __main__ - INFO - Fitting ...\n",
      "2023-09-27 17:21:30,092 - hbmep.model.baseline - INFO - Running inference with hierarchical_bayesian ...\n"
     ]
    },
    {
     "data": {
      "application/vnd.jupyter.widget-view+json": {
       "model_id": "d1317fb69e4a40d5ba2c62b4635cd912",
       "version_major": 2,
       "version_minor": 0
      },
      "text/plain": [
       "  0%|          | 0/1500 [00:00<?, ?it/s]"
      ]
     },
     "metadata": {},
     "output_type": "display_data"
    },
    {
     "data": {
      "application/vnd.jupyter.widget-view+json": {
       "model_id": "b97171c691a14735a1bc3106fdced8b7",
       "version_major": 2,
       "version_minor": 0
      },
      "text/plain": [
       "  0%|          | 0/1500 [00:00<?, ?it/s]"
      ]
     },
     "metadata": {},
     "output_type": "display_data"
    },
    {
     "data": {
      "application/vnd.jupyter.widget-view+json": {
       "model_id": "d6ac843261e24214b5a19e18d19d99c0",
       "version_major": 2,
       "version_minor": 0
      },
      "text/plain": [
       "  0%|          | 0/1500 [00:00<?, ?it/s]"
      ]
     },
     "metadata": {},
     "output_type": "display_data"
    },
    {
     "data": {
      "application/vnd.jupyter.widget-view+json": {
       "model_id": "cda5757908a9403fa72cdf223a3641f8",
       "version_major": 2,
       "version_minor": 0
      },
      "text/plain": [
       "  0%|          | 0/1500 [00:00<?, ?it/s]"
      ]
     },
     "metadata": {},
     "output_type": "display_data"
    },
    {
     "name": "stderr",
     "output_type": "stream",
     "text": [
      "2023-09-27 17:22:08,173 - hbmep.utils.utils - INFO - func:run_inference took: 38.08 sec\n",
      "2023-09-27 17:22:08,174 - __main__ - INFO - Predicting ...\n",
      "2023-09-27 17:22:08,178 - hbmep.utils.utils - INFO - func:make_prediction_dataset took: 0.00 sec\n",
      "2023-09-27 17:22:09,666 - hbmep.utils.utils - INFO - func:predict took: 1.49 sec\n",
      "2023-09-27 17:22:09,667 - __main__ - INFO - Plotting recruitment curves ...\n",
      "2023-09-27 17:22:09,672 - hbmep.model.baseline - INFO - Rendering ...\n",
      "2023-09-27 17:22:11,157 - hbmep.model.baseline - INFO - Saved to /home/vishu/repos/hbmep-paper/reports/human/intraoperative/power-analysis/draw_2829/N_4/seed_204/recruitment_curves.pdf\n",
      "2023-09-27 17:22:11,157 - hbmep.utils.utils - INFO - func:render_recruitment_curves took: 1.49 sec\n",
      "2023-09-27 17:22:11,157 - __main__ - INFO - Plotting posterior checks ...\n",
      "2023-09-27 17:22:11,164 - hbmep.model.baseline - INFO - Rendering Posterior Predictive Check ...\n",
      "2023-09-27 17:22:13,229 - hbmep.model.baseline - INFO - Saved to /home/vishu/repos/hbmep-paper/reports/human/intraoperative/power-analysis/draw_2829/N_4/seed_204/posterior_predictive_check.pdf\n",
      "2023-09-27 17:22:13,230 - hbmep.utils.utils - INFO - func:_render_predictive_check took: 2.07 sec\n",
      "2023-09-27 17:22:13,230 - hbmep.utils.utils - INFO - func:render_predictive_check took: 2.07 sec\n",
      "2023-09-27 17:22:13,571 - __main__ - INFO - \n",
      "\n",
      "Draw:1/50, N:2/6, Repeat:8/10\n",
      "2023-09-27 17:22:13,574 - __main__ - INFO - Seed:912, Subjects: 108, 85, 144, 90\n",
      "2023-09-27 17:22:13,574 - hbmep.config - INFO - Verifying configuration ...\n",
      "2023-09-27 17:22:13,575 - hbmep.config - INFO - Success!\n",
      "2023-09-27 17:22:13,575 - hbmep.model.baseline - INFO - Initialized model with hierarchical_bayesian link\n",
      "2023-09-27 17:22:13,575 - hbmep.dataset.core - INFO - Artefacts will be stored here - /home/vishu/repos/hbmep-paper/reports/human/intraoperative/power-analysis/draw_2829/N_4/seed_912\n",
      "2023-09-27 17:22:13,576 - hbmep.dataset.core - INFO - Copied config to /home/vishu/repos/hbmep-paper/reports/human/intraoperative/power-analysis/draw_2829/N_4/seed_912\n",
      "2023-09-27 17:22:13,577 - hbmep.dataset.core - INFO - Processing data ...\n",
      "2023-09-27 17:22:13,578 - hbmep.utils.utils - INFO - func:load took: 0.00 sec\n",
      "2023-09-27 17:22:13,578 - __main__ - INFO - Fitting ...\n",
      "2023-09-27 17:22:13,578 - hbmep.model.baseline - INFO - Running inference with hierarchical_bayesian ...\n"
     ]
    },
    {
     "data": {
      "application/vnd.jupyter.widget-view+json": {
       "model_id": "06c7ca06c62142718c7d12d5383cffd0",
       "version_major": 2,
       "version_minor": 0
      },
      "text/plain": [
       "  0%|          | 0/1500 [00:00<?, ?it/s]"
      ]
     },
     "metadata": {},
     "output_type": "display_data"
    },
    {
     "data": {
      "application/vnd.jupyter.widget-view+json": {
       "model_id": "6889e04539d1480c83e7446ec8930ed1",
       "version_major": 2,
       "version_minor": 0
      },
      "text/plain": [
       "  0%|          | 0/1500 [00:00<?, ?it/s]"
      ]
     },
     "metadata": {},
     "output_type": "display_data"
    },
    {
     "data": {
      "application/vnd.jupyter.widget-view+json": {
       "model_id": "8b6f51a97d024bc89ac935b2f4586374",
       "version_major": 2,
       "version_minor": 0
      },
      "text/plain": [
       "  0%|          | 0/1500 [00:00<?, ?it/s]"
      ]
     },
     "metadata": {},
     "output_type": "display_data"
    },
    {
     "data": {
      "application/vnd.jupyter.widget-view+json": {
       "model_id": "71e65727fff3452b861fbaa3796188e0",
       "version_major": 2,
       "version_minor": 0
      },
      "text/plain": [
       "  0%|          | 0/1500 [00:00<?, ?it/s]"
      ]
     },
     "metadata": {},
     "output_type": "display_data"
    },
    {
     "name": "stderr",
     "output_type": "stream",
     "text": [
      "2023-09-27 17:22:46,522 - hbmep.utils.utils - INFO - func:run_inference took: 32.94 sec\n",
      "2023-09-27 17:22:46,523 - __main__ - INFO - Predicting ...\n",
      "2023-09-27 17:22:46,527 - hbmep.utils.utils - INFO - func:make_prediction_dataset took: 0.00 sec\n",
      "2023-09-27 17:22:47,997 - hbmep.utils.utils - INFO - func:predict took: 1.47 sec\n",
      "2023-09-27 17:22:47,997 - __main__ - INFO - Plotting recruitment curves ...\n",
      "2023-09-27 17:22:48,003 - hbmep.model.baseline - INFO - Rendering ...\n",
      "2023-09-27 17:22:49,598 - hbmep.model.baseline - INFO - Saved to /home/vishu/repos/hbmep-paper/reports/human/intraoperative/power-analysis/draw_2829/N_4/seed_912/recruitment_curves.pdf\n",
      "2023-09-27 17:22:49,598 - hbmep.utils.utils - INFO - func:render_recruitment_curves took: 1.60 sec\n",
      "2023-09-27 17:22:49,598 - __main__ - INFO - Plotting posterior checks ...\n",
      "2023-09-27 17:22:49,605 - hbmep.model.baseline - INFO - Rendering Posterior Predictive Check ...\n",
      "2023-09-27 17:22:51,705 - hbmep.model.baseline - INFO - Saved to /home/vishu/repos/hbmep-paper/reports/human/intraoperative/power-analysis/draw_2829/N_4/seed_912/posterior_predictive_check.pdf\n",
      "2023-09-27 17:22:51,705 - hbmep.utils.utils - INFO - func:_render_predictive_check took: 2.11 sec\n",
      "2023-09-27 17:22:51,705 - hbmep.utils.utils - INFO - func:render_predictive_check took: 2.11 sec\n",
      "2023-09-27 17:22:52,058 - __main__ - INFO - \n",
      "\n",
      "Draw:1/50, N:2/6, Repeat:9/10\n",
      "2023-09-27 17:22:52,060 - __main__ - INFO - Seed:698, Subjects: 50, 190, 14, 153\n",
      "2023-09-27 17:22:52,061 - hbmep.config - INFO - Verifying configuration ...\n",
      "2023-09-27 17:22:52,061 - hbmep.config - INFO - Success!\n",
      "2023-09-27 17:22:52,062 - hbmep.model.baseline - INFO - Initialized model with hierarchical_bayesian link\n",
      "2023-09-27 17:22:52,062 - hbmep.dataset.core - INFO - Artefacts will be stored here - /home/vishu/repos/hbmep-paper/reports/human/intraoperative/power-analysis/draw_2829/N_4/seed_698\n",
      "2023-09-27 17:22:52,062 - hbmep.dataset.core - INFO - Copied config to /home/vishu/repos/hbmep-paper/reports/human/intraoperative/power-analysis/draw_2829/N_4/seed_698\n",
      "2023-09-27 17:22:52,063 - hbmep.dataset.core - INFO - Processing data ...\n",
      "2023-09-27 17:22:52,064 - hbmep.utils.utils - INFO - func:load took: 0.00 sec\n",
      "2023-09-27 17:22:52,064 - __main__ - INFO - Fitting ...\n",
      "2023-09-27 17:22:52,064 - hbmep.model.baseline - INFO - Running inference with hierarchical_bayesian ...\n"
     ]
    },
    {
     "data": {
      "application/vnd.jupyter.widget-view+json": {
       "model_id": "ed3bc0c072564e73a6a223638f0895df",
       "version_major": 2,
       "version_minor": 0
      },
      "text/plain": [
       "  0%|          | 0/1500 [00:00<?, ?it/s]"
      ]
     },
     "metadata": {},
     "output_type": "display_data"
    },
    {
     "data": {
      "application/vnd.jupyter.widget-view+json": {
       "model_id": "c82ed73e03614692b8231557bfc57a67",
       "version_major": 2,
       "version_minor": 0
      },
      "text/plain": [
       "  0%|          | 0/1500 [00:00<?, ?it/s]"
      ]
     },
     "metadata": {},
     "output_type": "display_data"
    },
    {
     "data": {
      "application/vnd.jupyter.widget-view+json": {
       "model_id": "0f2c1c3848c444f68590562a5573f239",
       "version_major": 2,
       "version_minor": 0
      },
      "text/plain": [
       "  0%|          | 0/1500 [00:00<?, ?it/s]"
      ]
     },
     "metadata": {},
     "output_type": "display_data"
    },
    {
     "data": {
      "application/vnd.jupyter.widget-view+json": {
       "model_id": "6364d4efcbf84180a38e63f0148d7c1f",
       "version_major": 2,
       "version_minor": 0
      },
      "text/plain": [
       "  0%|          | 0/1500 [00:00<?, ?it/s]"
      ]
     },
     "metadata": {},
     "output_type": "display_data"
    },
    {
     "name": "stderr",
     "output_type": "stream",
     "text": [
      "2023-09-27 17:23:19,784 - hbmep.utils.utils - INFO - func:run_inference took: 27.72 sec\n",
      "2023-09-27 17:23:19,785 - __main__ - INFO - Predicting ...\n",
      "2023-09-27 17:23:19,789 - hbmep.utils.utils - INFO - func:make_prediction_dataset took: 0.00 sec\n",
      "2023-09-27 17:23:21,259 - hbmep.utils.utils - INFO - func:predict took: 1.47 sec\n",
      "2023-09-27 17:23:21,259 - __main__ - INFO - Plotting recruitment curves ...\n",
      "2023-09-27 17:23:21,265 - hbmep.model.baseline - INFO - Rendering ...\n",
      "2023-09-27 17:23:22,702 - hbmep.model.baseline - INFO - Saved to /home/vishu/repos/hbmep-paper/reports/human/intraoperative/power-analysis/draw_2829/N_4/seed_698/recruitment_curves.pdf\n",
      "2023-09-27 17:23:22,703 - hbmep.utils.utils - INFO - func:render_recruitment_curves took: 1.44 sec\n",
      "2023-09-27 17:23:22,703 - __main__ - INFO - Plotting posterior checks ...\n",
      "2023-09-27 17:23:22,710 - hbmep.model.baseline - INFO - Rendering Posterior Predictive Check ...\n",
      "2023-09-27 17:23:24,805 - hbmep.model.baseline - INFO - Saved to /home/vishu/repos/hbmep-paper/reports/human/intraoperative/power-analysis/draw_2829/N_4/seed_698/posterior_predictive_check.pdf\n",
      "2023-09-27 17:23:24,806 - hbmep.utils.utils - INFO - func:_render_predictive_check took: 2.10 sec\n",
      "2023-09-27 17:23:24,806 - hbmep.utils.utils - INFO - func:render_predictive_check took: 2.10 sec\n",
      "2023-09-27 17:23:25,181 - __main__ - INFO - \n",
      "\n",
      "Draw:1/50, N:2/6, Repeat:10/10\n",
      "2023-09-27 17:23:25,183 - __main__ - INFO - Seed:677, Subjects: 156, 108, 186, 126\n",
      "2023-09-27 17:23:25,184 - hbmep.config - INFO - Verifying configuration ...\n",
      "2023-09-27 17:23:25,185 - hbmep.config - INFO - Success!\n",
      "2023-09-27 17:23:25,185 - hbmep.model.baseline - INFO - Initialized model with hierarchical_bayesian link\n",
      "2023-09-27 17:23:25,185 - hbmep.dataset.core - INFO - Artefacts will be stored here - /home/vishu/repos/hbmep-paper/reports/human/intraoperative/power-analysis/draw_2829/N_4/seed_677\n",
      "2023-09-27 17:23:25,185 - hbmep.dataset.core - INFO - Copied config to /home/vishu/repos/hbmep-paper/reports/human/intraoperative/power-analysis/draw_2829/N_4/seed_677\n",
      "2023-09-27 17:23:25,186 - hbmep.dataset.core - INFO - Processing data ...\n",
      "2023-09-27 17:23:25,187 - hbmep.utils.utils - INFO - func:load took: 0.00 sec\n",
      "2023-09-27 17:23:25,187 - __main__ - INFO - Fitting ...\n",
      "2023-09-27 17:23:25,187 - hbmep.model.baseline - INFO - Running inference with hierarchical_bayesian ...\n"
     ]
    },
    {
     "data": {
      "application/vnd.jupyter.widget-view+json": {
       "model_id": "64f51da72888451cb79eb69559e10b61",
       "version_major": 2,
       "version_minor": 0
      },
      "text/plain": [
       "  0%|          | 0/1500 [00:00<?, ?it/s]"
      ]
     },
     "metadata": {},
     "output_type": "display_data"
    },
    {
     "data": {
      "application/vnd.jupyter.widget-view+json": {
       "model_id": "e547a4ccae3d429fa448696fa4bb550d",
       "version_major": 2,
       "version_minor": 0
      },
      "text/plain": [
       "  0%|          | 0/1500 [00:00<?, ?it/s]"
      ]
     },
     "metadata": {},
     "output_type": "display_data"
    },
    {
     "data": {
      "application/vnd.jupyter.widget-view+json": {
       "model_id": "5e471bf88c8d4f6eba091f7cc424979e",
       "version_major": 2,
       "version_minor": 0
      },
      "text/plain": [
       "  0%|          | 0/1500 [00:00<?, ?it/s]"
      ]
     },
     "metadata": {},
     "output_type": "display_data"
    },
    {
     "data": {
      "application/vnd.jupyter.widget-view+json": {
       "model_id": "2653a4be9fe24be392dff0ab17b7d60b",
       "version_major": 2,
       "version_minor": 0
      },
      "text/plain": [
       "  0%|          | 0/1500 [00:00<?, ?it/s]"
      ]
     },
     "metadata": {},
     "output_type": "display_data"
    },
    {
     "name": "stderr",
     "output_type": "stream",
     "text": [
      "2023-09-27 17:23:52,814 - hbmep.utils.utils - INFO - func:run_inference took: 27.63 sec\n",
      "2023-09-27 17:23:52,814 - __main__ - INFO - Predicting ...\n",
      "2023-09-27 17:23:52,819 - hbmep.utils.utils - INFO - func:make_prediction_dataset took: 0.00 sec\n",
      "2023-09-27 17:23:54,284 - hbmep.utils.utils - INFO - func:predict took: 1.46 sec\n",
      "2023-09-27 17:23:54,285 - __main__ - INFO - Plotting recruitment curves ...\n",
      "2023-09-27 17:23:54,290 - hbmep.model.baseline - INFO - Rendering ...\n",
      "2023-09-27 17:23:55,905 - hbmep.model.baseline - INFO - Saved to /home/vishu/repos/hbmep-paper/reports/human/intraoperative/power-analysis/draw_2829/N_4/seed_677/recruitment_curves.pdf\n",
      "2023-09-27 17:23:55,906 - hbmep.utils.utils - INFO - func:render_recruitment_curves took: 1.62 sec\n",
      "2023-09-27 17:23:55,906 - __main__ - INFO - Plotting posterior checks ...\n",
      "2023-09-27 17:23:55,913 - hbmep.model.baseline - INFO - Rendering Posterior Predictive Check ...\n",
      "2023-09-27 17:23:58,022 - hbmep.model.baseline - INFO - Saved to /home/vishu/repos/hbmep-paper/reports/human/intraoperative/power-analysis/draw_2829/N_4/seed_677/posterior_predictive_check.pdf\n",
      "2023-09-27 17:23:58,022 - hbmep.utils.utils - INFO - func:_render_predictive_check took: 2.12 sec\n",
      "2023-09-27 17:23:58,023 - hbmep.utils.utils - INFO - func:render_predictive_check took: 2.12 sec\n",
      "2023-09-27 17:23:58,430 - __main__ - INFO - \n",
      "\n",
      "Draw:1/50, N:3/6, Repeat:1/10\n",
      "2023-09-27 17:23:58,439 - __main__ - INFO - Seed:339, Subjects: 67, 138, 116, 43, 140, 161, 181, 178\n",
      "2023-09-27 17:23:58,441 - hbmep.config - INFO - Verifying configuration ...\n",
      "2023-09-27 17:23:58,441 - hbmep.config - INFO - Success!\n",
      "2023-09-27 17:23:58,441 - hbmep.model.baseline - INFO - Initialized model with hierarchical_bayesian link\n",
      "2023-09-27 17:23:58,442 - hbmep.dataset.core - INFO - Artefacts will be stored here - /home/vishu/repos/hbmep-paper/reports/human/intraoperative/power-analysis/draw_2829/N_8/seed_339\n",
      "2023-09-27 17:23:58,442 - hbmep.dataset.core - INFO - Copied config to /home/vishu/repos/hbmep-paper/reports/human/intraoperative/power-analysis/draw_2829/N_8/seed_339\n",
      "2023-09-27 17:23:58,443 - hbmep.dataset.core - INFO - Processing data ...\n",
      "2023-09-27 17:23:58,443 - hbmep.utils.utils - INFO - func:load took: 0.00 sec\n",
      "2023-09-27 17:23:58,444 - __main__ - INFO - Fitting ...\n",
      "2023-09-27 17:23:58,444 - hbmep.model.baseline - INFO - Running inference with hierarchical_bayesian ...\n"
     ]
    },
    {
     "data": {
      "application/vnd.jupyter.widget-view+json": {
       "model_id": "d817386e723646febaac56291c63b445",
       "version_major": 2,
       "version_minor": 0
      },
      "text/plain": [
       "  0%|          | 0/1500 [00:00<?, ?it/s]"
      ]
     },
     "metadata": {},
     "output_type": "display_data"
    },
    {
     "data": {
      "application/vnd.jupyter.widget-view+json": {
       "model_id": "0769857dc7f246a2a5214837e3588ead",
       "version_major": 2,
       "version_minor": 0
      },
      "text/plain": [
       "  0%|          | 0/1500 [00:00<?, ?it/s]"
      ]
     },
     "metadata": {},
     "output_type": "display_data"
    },
    {
     "data": {
      "application/vnd.jupyter.widget-view+json": {
       "model_id": "2ebcbff55fd547cc8ed792e9e6d16c57",
       "version_major": 2,
       "version_minor": 0
      },
      "text/plain": [
       "  0%|          | 0/1500 [00:00<?, ?it/s]"
      ]
     },
     "metadata": {},
     "output_type": "display_data"
    },
    {
     "data": {
      "application/vnd.jupyter.widget-view+json": {
       "model_id": "3df816b583fa41e79c7ad6f711146ea5",
       "version_major": 2,
       "version_minor": 0
      },
      "text/plain": [
       "  0%|          | 0/1500 [00:00<?, ?it/s]"
      ]
     },
     "metadata": {},
     "output_type": "display_data"
    },
    {
     "name": "stderr",
     "output_type": "stream",
     "text": [
      "2023-09-27 17:25:19,438 - hbmep.utils.utils - INFO - func:run_inference took: 1 min and 20.99 sec\n",
      "2023-09-27 17:25:19,438 - __main__ - INFO - Predicting ...\n",
      "2023-09-27 17:25:19,443 - hbmep.utils.utils - INFO - func:make_prediction_dataset took: 0.00 sec\n",
      "2023-09-27 17:25:22,183 - hbmep.utils.utils - INFO - func:predict took: 2.74 sec\n",
      "2023-09-27 17:25:22,183 - __main__ - INFO - Plotting recruitment curves ...\n",
      "2023-09-27 17:25:22,192 - hbmep.model.baseline - INFO - Rendering ...\n",
      "2023-09-27 17:25:25,698 - hbmep.model.baseline - INFO - Saved to /home/vishu/repos/hbmep-paper/reports/human/intraoperative/power-analysis/draw_2829/N_8/seed_339/recruitment_curves.pdf\n",
      "2023-09-27 17:25:25,698 - hbmep.utils.utils - INFO - func:render_recruitment_curves took: 3.51 sec\n",
      "2023-09-27 17:25:25,698 - __main__ - INFO - Plotting posterior checks ...\n",
      "2023-09-27 17:25:25,713 - hbmep.model.baseline - INFO - Rendering Posterior Predictive Check ...\n",
      "2023-09-27 17:25:29,136 - hbmep.model.baseline - INFO - Saved to /home/vishu/repos/hbmep-paper/reports/human/intraoperative/power-analysis/draw_2829/N_8/seed_339/posterior_predictive_check.pdf\n",
      "2023-09-27 17:25:29,136 - hbmep.utils.utils - INFO - func:_render_predictive_check took: 3.44 sec\n",
      "2023-09-27 17:25:29,136 - hbmep.utils.utils - INFO - func:render_predictive_check took: 3.44 sec\n",
      "2023-09-27 17:25:29,593 - __main__ - INFO - \n",
      "\n",
      "Draw:1/50, N:3/6, Repeat:2/10\n",
      "2023-09-27 17:25:29,595 - __main__ - INFO - Seed:777, Subjects: 23, 34, 144, 97, 27, 47, 92, 191\n",
      "2023-09-27 17:25:29,596 - hbmep.config - INFO - Verifying configuration ...\n",
      "2023-09-27 17:25:29,596 - hbmep.config - INFO - Success!\n",
      "2023-09-27 17:25:29,597 - hbmep.model.baseline - INFO - Initialized model with hierarchical_bayesian link\n",
      "2023-09-27 17:25:29,597 - hbmep.dataset.core - INFO - Artefacts will be stored here - /home/vishu/repos/hbmep-paper/reports/human/intraoperative/power-analysis/draw_2829/N_8/seed_777\n",
      "2023-09-27 17:25:29,597 - hbmep.dataset.core - INFO - Copied config to /home/vishu/repos/hbmep-paper/reports/human/intraoperative/power-analysis/draw_2829/N_8/seed_777\n",
      "2023-09-27 17:25:29,598 - hbmep.dataset.core - INFO - Processing data ...\n",
      "2023-09-27 17:25:29,599 - hbmep.utils.utils - INFO - func:load took: 0.00 sec\n",
      "2023-09-27 17:25:29,599 - __main__ - INFO - Fitting ...\n",
      "2023-09-27 17:25:29,599 - hbmep.model.baseline - INFO - Running inference with hierarchical_bayesian ...\n"
     ]
    },
    {
     "data": {
      "application/vnd.jupyter.widget-view+json": {
       "model_id": "f877d1231a66439fbba492575e3d2bae",
       "version_major": 2,
       "version_minor": 0
      },
      "text/plain": [
       "  0%|          | 0/1500 [00:00<?, ?it/s]"
      ]
     },
     "metadata": {},
     "output_type": "display_data"
    },
    {
     "data": {
      "application/vnd.jupyter.widget-view+json": {
       "model_id": "0b13b98827024db49162344511bcce71",
       "version_major": 2,
       "version_minor": 0
      },
      "text/plain": [
       "  0%|          | 0/1500 [00:00<?, ?it/s]"
      ]
     },
     "metadata": {},
     "output_type": "display_data"
    },
    {
     "data": {
      "application/vnd.jupyter.widget-view+json": {
       "model_id": "ef8e51e0e326414b99b0cfbc67b03ea5",
       "version_major": 2,
       "version_minor": 0
      },
      "text/plain": [
       "  0%|          | 0/1500 [00:00<?, ?it/s]"
      ]
     },
     "metadata": {},
     "output_type": "display_data"
    },
    {
     "data": {
      "application/vnd.jupyter.widget-view+json": {
       "model_id": "b8fb7aa0467043fa890c9f7288f967d9",
       "version_major": 2,
       "version_minor": 0
      },
      "text/plain": [
       "  0%|          | 0/1500 [00:00<?, ?it/s]"
      ]
     },
     "metadata": {},
     "output_type": "display_data"
    },
    {
     "name": "stderr",
     "output_type": "stream",
     "text": [
      "2023-09-27 17:26:16,350 - hbmep.utils.utils - INFO - func:run_inference took: 46.75 sec\n",
      "2023-09-27 17:26:16,350 - __main__ - INFO - Predicting ...\n",
      "2023-09-27 17:26:16,355 - hbmep.utils.utils - INFO - func:make_prediction_dataset took: 0.00 sec\n",
      "2023-09-27 17:26:19,093 - hbmep.utils.utils - INFO - func:predict took: 2.74 sec\n",
      "2023-09-27 17:26:19,093 - __main__ - INFO - Plotting recruitment curves ...\n",
      "2023-09-27 17:26:19,101 - hbmep.model.baseline - INFO - Rendering ...\n",
      "2023-09-27 17:26:21,973 - hbmep.model.baseline - INFO - Saved to /home/vishu/repos/hbmep-paper/reports/human/intraoperative/power-analysis/draw_2829/N_8/seed_777/recruitment_curves.pdf\n",
      "2023-09-27 17:26:21,973 - hbmep.utils.utils - INFO - func:render_recruitment_curves took: 2.88 sec\n",
      "2023-09-27 17:26:21,973 - __main__ - INFO - Plotting posterior checks ...\n",
      "2023-09-27 17:26:21,988 - hbmep.model.baseline - INFO - Rendering Posterior Predictive Check ...\n",
      "2023-09-27 17:26:25,919 - hbmep.model.baseline - INFO - Saved to /home/vishu/repos/hbmep-paper/reports/human/intraoperative/power-analysis/draw_2829/N_8/seed_777/posterior_predictive_check.pdf\n",
      "2023-09-27 17:26:25,920 - hbmep.utils.utils - INFO - func:_render_predictive_check took: 3.95 sec\n",
      "2023-09-27 17:26:25,920 - hbmep.utils.utils - INFO - func:render_predictive_check took: 3.95 sec\n",
      "2023-09-27 17:26:26,405 - __main__ - INFO - \n",
      "\n",
      "Draw:1/50, N:3/6, Repeat:3/10\n",
      "2023-09-27 17:26:26,407 - __main__ - INFO - Seed:129, Subjects: 151, 192, 17, 74, 11, 14, 148, 173\n",
      "2023-09-27 17:26:26,408 - hbmep.config - INFO - Verifying configuration ...\n",
      "2023-09-27 17:26:26,408 - hbmep.config - INFO - Success!\n",
      "2023-09-27 17:26:26,409 - hbmep.model.baseline - INFO - Initialized model with hierarchical_bayesian link\n",
      "2023-09-27 17:26:26,409 - hbmep.dataset.core - INFO - Artefacts will be stored here - /home/vishu/repos/hbmep-paper/reports/human/intraoperative/power-analysis/draw_2829/N_8/seed_129\n",
      "2023-09-27 17:26:26,409 - hbmep.dataset.core - INFO - Copied config to /home/vishu/repos/hbmep-paper/reports/human/intraoperative/power-analysis/draw_2829/N_8/seed_129\n",
      "2023-09-27 17:26:26,410 - hbmep.dataset.core - INFO - Processing data ...\n",
      "2023-09-27 17:26:26,411 - hbmep.utils.utils - INFO - func:load took: 0.00 sec\n",
      "2023-09-27 17:26:26,411 - __main__ - INFO - Fitting ...\n",
      "2023-09-27 17:26:26,411 - hbmep.model.baseline - INFO - Running inference with hierarchical_bayesian ...\n"
     ]
    },
    {
     "data": {
      "application/vnd.jupyter.widget-view+json": {
       "model_id": "579291cd34844109a51eeb7d7bf361e7",
       "version_major": 2,
       "version_minor": 0
      },
      "text/plain": [
       "  0%|          | 0/1500 [00:00<?, ?it/s]"
      ]
     },
     "metadata": {},
     "output_type": "display_data"
    },
    {
     "data": {
      "application/vnd.jupyter.widget-view+json": {
       "model_id": "e087d7c7342840ee9944791df33de1bd",
       "version_major": 2,
       "version_minor": 0
      },
      "text/plain": [
       "  0%|          | 0/1500 [00:00<?, ?it/s]"
      ]
     },
     "metadata": {},
     "output_type": "display_data"
    },
    {
     "data": {
      "application/vnd.jupyter.widget-view+json": {
       "model_id": "8498b9a360824f7bae202e7e50f8a030",
       "version_major": 2,
       "version_minor": 0
      },
      "text/plain": [
       "  0%|          | 0/1500 [00:00<?, ?it/s]"
      ]
     },
     "metadata": {},
     "output_type": "display_data"
    },
    {
     "data": {
      "application/vnd.jupyter.widget-view+json": {
       "model_id": "f83fe821447343e492b52dde80813989",
       "version_major": 2,
       "version_minor": 0
      },
      "text/plain": [
       "  0%|          | 0/1500 [00:00<?, ?it/s]"
      ]
     },
     "metadata": {},
     "output_type": "display_data"
    },
    {
     "name": "stderr",
     "output_type": "stream",
     "text": [
      "2023-09-27 17:27:40,480 - hbmep.utils.utils - INFO - func:run_inference took: 1 min and 14.07 sec\n",
      "2023-09-27 17:27:40,480 - __main__ - INFO - Predicting ...\n",
      "2023-09-27 17:27:40,485 - hbmep.utils.utils - INFO - func:make_prediction_dataset took: 0.00 sec\n",
      "2023-09-27 17:27:43,238 - hbmep.utils.utils - INFO - func:predict took: 2.75 sec\n",
      "2023-09-27 17:27:43,239 - __main__ - INFO - Plotting recruitment curves ...\n",
      "2023-09-27 17:27:43,247 - hbmep.model.baseline - INFO - Rendering ...\n",
      "2023-09-27 17:27:46,084 - hbmep.model.baseline - INFO - Saved to /home/vishu/repos/hbmep-paper/reports/human/intraoperative/power-analysis/draw_2829/N_8/seed_129/recruitment_curves.pdf\n",
      "2023-09-27 17:27:46,084 - hbmep.utils.utils - INFO - func:render_recruitment_curves took: 2.85 sec\n",
      "2023-09-27 17:27:46,085 - __main__ - INFO - Plotting posterior checks ...\n",
      "2023-09-27 17:27:46,099 - hbmep.model.baseline - INFO - Rendering Posterior Predictive Check ...\n",
      "2023-09-27 17:27:50,021 - hbmep.model.baseline - INFO - Saved to /home/vishu/repos/hbmep-paper/reports/human/intraoperative/power-analysis/draw_2829/N_8/seed_129/posterior_predictive_check.pdf\n",
      "2023-09-27 17:27:50,022 - hbmep.utils.utils - INFO - func:_render_predictive_check took: 3.94 sec\n",
      "2023-09-27 17:27:50,022 - hbmep.utils.utils - INFO - func:render_predictive_check took: 3.94 sec\n",
      "2023-09-27 17:27:50,531 - __main__ - INFO - \n",
      "\n",
      "Draw:1/50, N:3/6, Repeat:4/10\n",
      "2023-09-27 17:27:50,533 - __main__ - INFO - Seed:822, Subjects: 98, 32, 121, 186, 20, 191, 147, 172\n",
      "2023-09-27 17:27:50,534 - hbmep.config - INFO - Verifying configuration ...\n",
      "2023-09-27 17:27:50,534 - hbmep.config - INFO - Success!\n",
      "2023-09-27 17:27:50,535 - hbmep.model.baseline - INFO - Initialized model with hierarchical_bayesian link\n",
      "2023-09-27 17:27:50,535 - hbmep.dataset.core - INFO - Artefacts will be stored here - /home/vishu/repos/hbmep-paper/reports/human/intraoperative/power-analysis/draw_2829/N_8/seed_822\n",
      "2023-09-27 17:27:50,535 - hbmep.dataset.core - INFO - Copied config to /home/vishu/repos/hbmep-paper/reports/human/intraoperative/power-analysis/draw_2829/N_8/seed_822\n",
      "2023-09-27 17:27:50,536 - hbmep.dataset.core - INFO - Processing data ...\n",
      "2023-09-27 17:27:50,537 - hbmep.utils.utils - INFO - func:load took: 0.00 sec\n",
      "2023-09-27 17:27:50,537 - __main__ - INFO - Fitting ...\n",
      "2023-09-27 17:27:50,537 - hbmep.model.baseline - INFO - Running inference with hierarchical_bayesian ...\n"
     ]
    },
    {
     "data": {
      "application/vnd.jupyter.widget-view+json": {
       "model_id": "cbb6298de9cb4216b8805ba21fba94ad",
       "version_major": 2,
       "version_minor": 0
      },
      "text/plain": [
       "  0%|          | 0/1500 [00:00<?, ?it/s]"
      ]
     },
     "metadata": {},
     "output_type": "display_data"
    },
    {
     "data": {
      "application/vnd.jupyter.widget-view+json": {
       "model_id": "e56f28a7baaa4afb9935792a77b177a5",
       "version_major": 2,
       "version_minor": 0
      },
      "text/plain": [
       "  0%|          | 0/1500 [00:00<?, ?it/s]"
      ]
     },
     "metadata": {},
     "output_type": "display_data"
    },
    {
     "data": {
      "application/vnd.jupyter.widget-view+json": {
       "model_id": "6c9693f395864863aa7ab1dbd238bcba",
       "version_major": 2,
       "version_minor": 0
      },
      "text/plain": [
       "  0%|          | 0/1500 [00:00<?, ?it/s]"
      ]
     },
     "metadata": {},
     "output_type": "display_data"
    },
    {
     "data": {
      "application/vnd.jupyter.widget-view+json": {
       "model_id": "ce02566ac7614b93906e2776d80badff",
       "version_major": 2,
       "version_minor": 0
      },
      "text/plain": [
       "  0%|          | 0/1500 [00:00<?, ?it/s]"
      ]
     },
     "metadata": {},
     "output_type": "display_data"
    },
    {
     "name": "stderr",
     "output_type": "stream",
     "text": [
      "2023-09-27 17:29:05,403 - hbmep.utils.utils - INFO - func:run_inference took: 1 min and 14.87 sec\n",
      "2023-09-27 17:29:05,403 - __main__ - INFO - Predicting ...\n",
      "2023-09-27 17:29:05,408 - hbmep.utils.utils - INFO - func:make_prediction_dataset took: 0.00 sec\n",
      "2023-09-27 17:29:08,141 - hbmep.utils.utils - INFO - func:predict took: 2.73 sec\n",
      "2023-09-27 17:29:08,141 - __main__ - INFO - Plotting recruitment curves ...\n",
      "2023-09-27 17:29:08,149 - hbmep.model.baseline - INFO - Rendering ...\n",
      "2023-09-27 17:29:11,000 - hbmep.model.baseline - INFO - Saved to /home/vishu/repos/hbmep-paper/reports/human/intraoperative/power-analysis/draw_2829/N_8/seed_822/recruitment_curves.pdf\n",
      "2023-09-27 17:29:11,001 - hbmep.utils.utils - INFO - func:render_recruitment_curves took: 2.86 sec\n",
      "2023-09-27 17:29:11,001 - __main__ - INFO - Plotting posterior checks ...\n",
      "2023-09-27 17:29:11,015 - hbmep.model.baseline - INFO - Rendering Posterior Predictive Check ...\n",
      "2023-09-27 17:29:14,982 - hbmep.model.baseline - INFO - Saved to /home/vishu/repos/hbmep-paper/reports/human/intraoperative/power-analysis/draw_2829/N_8/seed_822/posterior_predictive_check.pdf\n",
      "2023-09-27 17:29:14,982 - hbmep.utils.utils - INFO - func:_render_predictive_check took: 3.98 sec\n",
      "2023-09-27 17:29:14,983 - hbmep.utils.utils - INFO - func:render_predictive_check took: 3.98 sec\n",
      "2023-09-27 17:29:15,517 - __main__ - INFO - \n",
      "\n",
      "Draw:1/50, N:3/6, Repeat:5/10\n",
      "2023-09-27 17:29:15,520 - __main__ - INFO - Seed:616, Subjects: 130, 39, 87, 96, 158, 162, 160, 71\n",
      "2023-09-27 17:29:15,521 - hbmep.config - INFO - Verifying configuration ...\n",
      "2023-09-27 17:29:15,521 - hbmep.config - INFO - Success!\n",
      "2023-09-27 17:29:15,521 - hbmep.model.baseline - INFO - Initialized model with hierarchical_bayesian link\n",
      "2023-09-27 17:29:15,521 - hbmep.dataset.core - INFO - Artefacts will be stored here - /home/vishu/repos/hbmep-paper/reports/human/intraoperative/power-analysis/draw_2829/N_8/seed_616\n",
      "2023-09-27 17:29:15,522 - hbmep.dataset.core - INFO - Copied config to /home/vishu/repos/hbmep-paper/reports/human/intraoperative/power-analysis/draw_2829/N_8/seed_616\n",
      "2023-09-27 17:29:15,522 - hbmep.dataset.core - INFO - Processing data ...\n",
      "2023-09-27 17:29:15,523 - hbmep.utils.utils - INFO - func:load took: 0.00 sec\n",
      "2023-09-27 17:29:15,523 - __main__ - INFO - Fitting ...\n",
      "2023-09-27 17:29:15,524 - hbmep.model.baseline - INFO - Running inference with hierarchical_bayesian ...\n"
     ]
    },
    {
     "data": {
      "application/vnd.jupyter.widget-view+json": {
       "model_id": "1ec181e3bdd14b9085ddc4e27a74e7cb",
       "version_major": 2,
       "version_minor": 0
      },
      "text/plain": [
       "  0%|          | 0/1500 [00:00<?, ?it/s]"
      ]
     },
     "metadata": {},
     "output_type": "display_data"
    },
    {
     "data": {
      "application/vnd.jupyter.widget-view+json": {
       "model_id": "545106d2346a46a8bd6ae9db29a76f04",
       "version_major": 2,
       "version_minor": 0
      },
      "text/plain": [
       "  0%|          | 0/1500 [00:00<?, ?it/s]"
      ]
     },
     "metadata": {},
     "output_type": "display_data"
    },
    {
     "data": {
      "application/vnd.jupyter.widget-view+json": {
       "model_id": "4b55ed5db6c54c4c880a55ad50857373",
       "version_major": 2,
       "version_minor": 0
      },
      "text/plain": [
       "  0%|          | 0/1500 [00:00<?, ?it/s]"
      ]
     },
     "metadata": {},
     "output_type": "display_data"
    },
    {
     "data": {
      "application/vnd.jupyter.widget-view+json": {
       "model_id": "a6d72935c8c14a58be8ef048622dc08b",
       "version_major": 2,
       "version_minor": 0
      },
      "text/plain": [
       "  0%|          | 0/1500 [00:00<?, ?it/s]"
      ]
     },
     "metadata": {},
     "output_type": "display_data"
    },
    {
     "name": "stderr",
     "output_type": "stream",
     "text": [
      "2023-09-27 17:30:17,745 - hbmep.utils.utils - INFO - func:run_inference took: 1 min and 2.22 sec\n",
      "2023-09-27 17:30:17,745 - __main__ - INFO - Predicting ...\n",
      "2023-09-27 17:30:17,750 - hbmep.utils.utils - INFO - func:make_prediction_dataset took: 0.00 sec\n",
      "2023-09-27 17:30:20,502 - hbmep.utils.utils - INFO - func:predict took: 2.75 sec\n",
      "2023-09-27 17:30:20,502 - __main__ - INFO - Plotting recruitment curves ...\n",
      "2023-09-27 17:30:20,510 - hbmep.model.baseline - INFO - Rendering ...\n",
      "2023-09-27 17:30:23,367 - hbmep.model.baseline - INFO - Saved to /home/vishu/repos/hbmep-paper/reports/human/intraoperative/power-analysis/draw_2829/N_8/seed_616/recruitment_curves.pdf\n",
      "2023-09-27 17:30:23,368 - hbmep.utils.utils - INFO - func:render_recruitment_curves took: 2.87 sec\n",
      "2023-09-27 17:30:23,368 - __main__ - INFO - Plotting posterior checks ...\n",
      "2023-09-27 17:30:23,383 - hbmep.model.baseline - INFO - Rendering Posterior Predictive Check ...\n",
      "2023-09-27 17:30:27,409 - hbmep.model.baseline - INFO - Saved to /home/vishu/repos/hbmep-paper/reports/human/intraoperative/power-analysis/draw_2829/N_8/seed_616/posterior_predictive_check.pdf\n",
      "2023-09-27 17:30:27,409 - hbmep.utils.utils - INFO - func:_render_predictive_check took: 4.04 sec\n",
      "2023-09-27 17:30:27,410 - hbmep.utils.utils - INFO - func:render_predictive_check took: 4.04 sec\n",
      "2023-09-27 17:30:27,951 - __main__ - INFO - \n",
      "\n",
      "Draw:1/50, N:3/6, Repeat:6/10\n",
      "2023-09-27 17:30:27,954 - __main__ - INFO - Seed:214, Subjects: 120, 179, 25, 125, 196, 84, 64, 53\n",
      "2023-09-27 17:30:27,955 - hbmep.config - INFO - Verifying configuration ...\n",
      "2023-09-27 17:30:27,956 - hbmep.config - INFO - Success!\n",
      "2023-09-27 17:30:27,956 - hbmep.model.baseline - INFO - Initialized model with hierarchical_bayesian link\n",
      "2023-09-27 17:30:27,956 - hbmep.dataset.core - INFO - Artefacts will be stored here - /home/vishu/repos/hbmep-paper/reports/human/intraoperative/power-analysis/draw_2829/N_8/seed_214\n",
      "2023-09-27 17:30:27,956 - hbmep.dataset.core - INFO - Copied config to /home/vishu/repos/hbmep-paper/reports/human/intraoperative/power-analysis/draw_2829/N_8/seed_214\n",
      "2023-09-27 17:30:27,957 - hbmep.dataset.core - INFO - Processing data ...\n",
      "2023-09-27 17:30:27,958 - hbmep.utils.utils - INFO - func:load took: 0.00 sec\n",
      "2023-09-27 17:30:27,958 - __main__ - INFO - Fitting ...\n",
      "2023-09-27 17:30:27,958 - hbmep.model.baseline - INFO - Running inference with hierarchical_bayesian ...\n"
     ]
    },
    {
     "data": {
      "application/vnd.jupyter.widget-view+json": {
       "model_id": "831b1801ec13492dad0c8e2488c3d124",
       "version_major": 2,
       "version_minor": 0
      },
      "text/plain": [
       "  0%|          | 0/1500 [00:00<?, ?it/s]"
      ]
     },
     "metadata": {},
     "output_type": "display_data"
    },
    {
     "data": {
      "application/vnd.jupyter.widget-view+json": {
       "model_id": "e0f1b9069a224b38bc55b363bfe88194",
       "version_major": 2,
       "version_minor": 0
      },
      "text/plain": [
       "  0%|          | 0/1500 [00:00<?, ?it/s]"
      ]
     },
     "metadata": {},
     "output_type": "display_data"
    },
    {
     "data": {
      "application/vnd.jupyter.widget-view+json": {
       "model_id": "c2778c224fba4f90b93ea4df2aecbed4",
       "version_major": 2,
       "version_minor": 0
      },
      "text/plain": [
       "  0%|          | 0/1500 [00:00<?, ?it/s]"
      ]
     },
     "metadata": {},
     "output_type": "display_data"
    },
    {
     "data": {
      "application/vnd.jupyter.widget-view+json": {
       "model_id": "51a781e5706f4f0ba4023dde91b224b1",
       "version_major": 2,
       "version_minor": 0
      },
      "text/plain": [
       "  0%|          | 0/1500 [00:00<?, ?it/s]"
      ]
     },
     "metadata": {},
     "output_type": "display_data"
    },
    {
     "name": "stderr",
     "output_type": "stream",
     "text": [
      "2023-09-27 17:31:46,550 - hbmep.utils.utils - INFO - func:run_inference took: 1 min and 18.59 sec\n",
      "2023-09-27 17:31:46,551 - __main__ - INFO - Predicting ...\n",
      "2023-09-27 17:31:46,556 - hbmep.utils.utils - INFO - func:make_prediction_dataset took: 0.00 sec\n",
      "2023-09-27 17:31:49,282 - hbmep.utils.utils - INFO - func:predict took: 2.73 sec\n",
      "2023-09-27 17:31:49,283 - __main__ - INFO - Plotting recruitment curves ...\n",
      "2023-09-27 17:31:49,291 - hbmep.model.baseline - INFO - Rendering ...\n",
      "2023-09-27 17:31:52,177 - hbmep.model.baseline - INFO - Saved to /home/vishu/repos/hbmep-paper/reports/human/intraoperative/power-analysis/draw_2829/N_8/seed_214/recruitment_curves.pdf\n",
      "2023-09-27 17:31:52,177 - hbmep.utils.utils - INFO - func:render_recruitment_curves took: 2.89 sec\n",
      "2023-09-27 17:31:52,177 - __main__ - INFO - Plotting posterior checks ...\n",
      "2023-09-27 17:31:52,192 - hbmep.model.baseline - INFO - Rendering Posterior Predictive Check ...\n",
      "2023-09-27 17:31:56,232 - hbmep.model.baseline - INFO - Saved to /home/vishu/repos/hbmep-paper/reports/human/intraoperative/power-analysis/draw_2829/N_8/seed_214/posterior_predictive_check.pdf\n",
      "2023-09-27 17:31:56,233 - hbmep.utils.utils - INFO - func:_render_predictive_check took: 4.06 sec\n",
      "2023-09-27 17:31:56,233 - hbmep.utils.utils - INFO - func:render_predictive_check took: 4.06 sec\n",
      "2023-09-27 17:31:56,793 - __main__ - INFO - \n",
      "\n",
      "Draw:1/50, N:3/6, Repeat:7/10\n",
      "2023-09-27 17:31:56,795 - __main__ - INFO - Seed:204, Subjects: 195, 25, 42, 54, 1, 66, 19, 69\n",
      "2023-09-27 17:31:56,796 - hbmep.config - INFO - Verifying configuration ...\n",
      "2023-09-27 17:31:56,796 - hbmep.config - INFO - Success!\n",
      "2023-09-27 17:31:56,797 - hbmep.model.baseline - INFO - Initialized model with hierarchical_bayesian link\n",
      "2023-09-27 17:31:56,797 - hbmep.dataset.core - INFO - Artefacts will be stored here - /home/vishu/repos/hbmep-paper/reports/human/intraoperative/power-analysis/draw_2829/N_8/seed_204\n",
      "2023-09-27 17:31:56,798 - hbmep.dataset.core - INFO - Copied config to /home/vishu/repos/hbmep-paper/reports/human/intraoperative/power-analysis/draw_2829/N_8/seed_204\n",
      "2023-09-27 17:31:56,798 - hbmep.dataset.core - INFO - Processing data ...\n",
      "2023-09-27 17:31:56,799 - hbmep.utils.utils - INFO - func:load took: 0.00 sec\n",
      "2023-09-27 17:31:56,799 - __main__ - INFO - Fitting ...\n",
      "2023-09-27 17:31:56,800 - hbmep.model.baseline - INFO - Running inference with hierarchical_bayesian ...\n"
     ]
    },
    {
     "data": {
      "application/vnd.jupyter.widget-view+json": {
       "model_id": "11af0e8a9eab471ca0bb2f94e63114a7",
       "version_major": 2,
       "version_minor": 0
      },
      "text/plain": [
       "  0%|          | 0/1500 [00:00<?, ?it/s]"
      ]
     },
     "metadata": {},
     "output_type": "display_data"
    },
    {
     "data": {
      "application/vnd.jupyter.widget-view+json": {
       "model_id": "1c07585eb9cf4850b4e8367ab52cf0a0",
       "version_major": 2,
       "version_minor": 0
      },
      "text/plain": [
       "  0%|          | 0/1500 [00:00<?, ?it/s]"
      ]
     },
     "metadata": {},
     "output_type": "display_data"
    },
    {
     "data": {
      "application/vnd.jupyter.widget-view+json": {
       "model_id": "095b1245235a4923b7038ca6d242bb53",
       "version_major": 2,
       "version_minor": 0
      },
      "text/plain": [
       "  0%|          | 0/1500 [00:00<?, ?it/s]"
      ]
     },
     "metadata": {},
     "output_type": "display_data"
    },
    {
     "data": {
      "application/vnd.jupyter.widget-view+json": {
       "model_id": "0691d41e944b404ea886da8a0dd356de",
       "version_major": 2,
       "version_minor": 0
      },
      "text/plain": [
       "  0%|          | 0/1500 [00:00<?, ?it/s]"
      ]
     },
     "metadata": {},
     "output_type": "display_data"
    },
    {
     "name": "stderr",
     "output_type": "stream",
     "text": [
      "2023-09-27 17:33:05,136 - hbmep.utils.utils - INFO - func:run_inference took: 1 min and 8.34 sec\n",
      "2023-09-27 17:33:05,137 - __main__ - INFO - Predicting ...\n",
      "2023-09-27 17:33:05,141 - hbmep.utils.utils - INFO - func:make_prediction_dataset took: 0.00 sec\n",
      "2023-09-27 17:33:07,865 - hbmep.utils.utils - INFO - func:predict took: 2.72 sec\n",
      "2023-09-27 17:33:07,865 - __main__ - INFO - Plotting recruitment curves ...\n",
      "2023-09-27 17:33:07,874 - hbmep.model.baseline - INFO - Rendering ...\n",
      "2023-09-27 17:33:10,712 - hbmep.model.baseline - INFO - Saved to /home/vishu/repos/hbmep-paper/reports/human/intraoperative/power-analysis/draw_2829/N_8/seed_204/recruitment_curves.pdf\n",
      "2023-09-27 17:33:10,712 - hbmep.utils.utils - INFO - func:render_recruitment_curves took: 2.85 sec\n",
      "2023-09-27 17:33:10,712 - __main__ - INFO - Plotting posterior checks ...\n",
      "2023-09-27 17:33:10,727 - hbmep.model.baseline - INFO - Rendering Posterior Predictive Check ...\n",
      "2023-09-27 17:33:14,737 - hbmep.model.baseline - INFO - Saved to /home/vishu/repos/hbmep-paper/reports/human/intraoperative/power-analysis/draw_2829/N_8/seed_204/posterior_predictive_check.pdf\n",
      "2023-09-27 17:33:14,738 - hbmep.utils.utils - INFO - func:_render_predictive_check took: 4.03 sec\n",
      "2023-09-27 17:33:14,738 - hbmep.utils.utils - INFO - func:render_predictive_check took: 4.03 sec\n",
      "2023-09-27 17:33:15,318 - __main__ - INFO - \n",
      "\n",
      "Draw:1/50, N:3/6, Repeat:8/10\n",
      "2023-09-27 17:33:15,320 - __main__ - INFO - Seed:912, Subjects: 108, 85, 144, 90, 97, 14, 64, 164\n",
      "2023-09-27 17:33:15,321 - hbmep.config - INFO - Verifying configuration ...\n",
      "2023-09-27 17:33:15,322 - hbmep.config - INFO - Success!\n",
      "2023-09-27 17:33:15,322 - hbmep.model.baseline - INFO - Initialized model with hierarchical_bayesian link\n",
      "2023-09-27 17:33:15,322 - hbmep.dataset.core - INFO - Artefacts will be stored here - /home/vishu/repos/hbmep-paper/reports/human/intraoperative/power-analysis/draw_2829/N_8/seed_912\n",
      "2023-09-27 17:33:15,323 - hbmep.dataset.core - INFO - Copied config to /home/vishu/repos/hbmep-paper/reports/human/intraoperative/power-analysis/draw_2829/N_8/seed_912\n",
      "2023-09-27 17:33:15,323 - hbmep.dataset.core - INFO - Processing data ...\n",
      "2023-09-27 17:33:15,324 - hbmep.utils.utils - INFO - func:load took: 0.00 sec\n",
      "2023-09-27 17:33:15,325 - __main__ - INFO - Fitting ...\n",
      "2023-09-27 17:33:15,325 - hbmep.model.baseline - INFO - Running inference with hierarchical_bayesian ...\n"
     ]
    },
    {
     "data": {
      "application/vnd.jupyter.widget-view+json": {
       "model_id": "35f733620a6d4fb28305a93218ee3220",
       "version_major": 2,
       "version_minor": 0
      },
      "text/plain": [
       "  0%|          | 0/1500 [00:00<?, ?it/s]"
      ]
     },
     "metadata": {},
     "output_type": "display_data"
    },
    {
     "data": {
      "application/vnd.jupyter.widget-view+json": {
       "model_id": "96034cdc05b14f0c9af44802353e2422",
       "version_major": 2,
       "version_minor": 0
      },
      "text/plain": [
       "  0%|          | 0/1500 [00:00<?, ?it/s]"
      ]
     },
     "metadata": {},
     "output_type": "display_data"
    },
    {
     "data": {
      "application/vnd.jupyter.widget-view+json": {
       "model_id": "4402a9c101464c1486b48e67ee8f924b",
       "version_major": 2,
       "version_minor": 0
      },
      "text/plain": [
       "  0%|          | 0/1500 [00:00<?, ?it/s]"
      ]
     },
     "metadata": {},
     "output_type": "display_data"
    },
    {
     "data": {
      "application/vnd.jupyter.widget-view+json": {
       "model_id": "4ef67a9e9f5b4ea08768b6a8dc06914c",
       "version_major": 2,
       "version_minor": 0
      },
      "text/plain": [
       "  0%|          | 0/1500 [00:00<?, ?it/s]"
      ]
     },
     "metadata": {},
     "output_type": "display_data"
    },
    {
     "name": "stderr",
     "output_type": "stream",
     "text": [
      "2023-09-27 17:34:03,939 - hbmep.utils.utils - INFO - func:run_inference took: 48.61 sec\n",
      "2023-09-27 17:34:03,940 - __main__ - INFO - Predicting ...\n",
      "2023-09-27 17:34:03,944 - hbmep.utils.utils - INFO - func:make_prediction_dataset took: 0.00 sec\n",
      "2023-09-27 17:34:06,699 - hbmep.utils.utils - INFO - func:predict took: 2.75 sec\n",
      "2023-09-27 17:34:06,699 - __main__ - INFO - Plotting recruitment curves ...\n",
      "2023-09-27 17:34:06,708 - hbmep.model.baseline - INFO - Rendering ...\n",
      "2023-09-27 17:34:09,598 - hbmep.model.baseline - INFO - Saved to /home/vishu/repos/hbmep-paper/reports/human/intraoperative/power-analysis/draw_2829/N_8/seed_912/recruitment_curves.pdf\n",
      "2023-09-27 17:34:09,598 - hbmep.utils.utils - INFO - func:render_recruitment_curves took: 2.90 sec\n",
      "2023-09-27 17:34:09,599 - __main__ - INFO - Plotting posterior checks ...\n",
      "2023-09-27 17:34:09,613 - hbmep.model.baseline - INFO - Rendering Posterior Predictive Check ...\n",
      "2023-09-27 17:34:13,671 - hbmep.model.baseline - INFO - Saved to /home/vishu/repos/hbmep-paper/reports/human/intraoperative/power-analysis/draw_2829/N_8/seed_912/posterior_predictive_check.pdf\n",
      "2023-09-27 17:34:13,671 - hbmep.utils.utils - INFO - func:_render_predictive_check took: 4.07 sec\n",
      "2023-09-27 17:34:13,672 - hbmep.utils.utils - INFO - func:render_predictive_check took: 4.07 sec\n",
      "2023-09-27 17:34:14,264 - __main__ - INFO - \n",
      "\n",
      "Draw:1/50, N:3/6, Repeat:9/10\n",
      "2023-09-27 17:34:14,267 - __main__ - INFO - Seed:698, Subjects: 50, 190, 14, 153, 33, 159, 185, 131\n",
      "2023-09-27 17:34:14,274 - hbmep.config - INFO - Verifying configuration ...\n",
      "2023-09-27 17:34:14,274 - hbmep.config - INFO - Success!\n",
      "2023-09-27 17:34:14,275 - hbmep.model.baseline - INFO - Initialized model with hierarchical_bayesian link\n",
      "2023-09-27 17:34:14,275 - hbmep.dataset.core - INFO - Artefacts will be stored here - /home/vishu/repos/hbmep-paper/reports/human/intraoperative/power-analysis/draw_2829/N_8/seed_698\n",
      "2023-09-27 17:34:14,275 - hbmep.dataset.core - INFO - Copied config to /home/vishu/repos/hbmep-paper/reports/human/intraoperative/power-analysis/draw_2829/N_8/seed_698\n",
      "2023-09-27 17:34:14,276 - hbmep.dataset.core - INFO - Processing data ...\n",
      "2023-09-27 17:34:14,277 - hbmep.utils.utils - INFO - func:load took: 0.00 sec\n",
      "2023-09-27 17:34:14,277 - __main__ - INFO - Fitting ...\n",
      "2023-09-27 17:34:14,277 - hbmep.model.baseline - INFO - Running inference with hierarchical_bayesian ...\n"
     ]
    },
    {
     "data": {
      "application/vnd.jupyter.widget-view+json": {
       "model_id": "cea60de4e4ab4d58acbdbe2ac22cfe2a",
       "version_major": 2,
       "version_minor": 0
      },
      "text/plain": [
       "  0%|          | 0/1500 [00:00<?, ?it/s]"
      ]
     },
     "metadata": {},
     "output_type": "display_data"
    },
    {
     "data": {
      "application/vnd.jupyter.widget-view+json": {
       "model_id": "6a3f2579ef0c4f649065d29098a331ce",
       "version_major": 2,
       "version_minor": 0
      },
      "text/plain": [
       "  0%|          | 0/1500 [00:00<?, ?it/s]"
      ]
     },
     "metadata": {},
     "output_type": "display_data"
    },
    {
     "data": {
      "application/vnd.jupyter.widget-view+json": {
       "model_id": "ffe09f39f7ab42a79de29f6aa30bb33b",
       "version_major": 2,
       "version_minor": 0
      },
      "text/plain": [
       "  0%|          | 0/1500 [00:00<?, ?it/s]"
      ]
     },
     "metadata": {},
     "output_type": "display_data"
    },
    {
     "data": {
      "application/vnd.jupyter.widget-view+json": {
       "model_id": "392a601e3cb04dd397167ad311499796",
       "version_major": 2,
       "version_minor": 0
      },
      "text/plain": [
       "  0%|          | 0/1500 [00:00<?, ?it/s]"
      ]
     },
     "metadata": {},
     "output_type": "display_data"
    },
    {
     "name": "stderr",
     "output_type": "stream",
     "text": [
      "2023-09-27 17:35:25,197 - hbmep.utils.utils - INFO - func:run_inference took: 1 min and 10.92 sec\n",
      "2023-09-27 17:35:25,197 - __main__ - INFO - Predicting ...\n",
      "2023-09-27 17:35:25,202 - hbmep.utils.utils - INFO - func:make_prediction_dataset took: 0.00 sec\n",
      "2023-09-27 17:35:27,948 - hbmep.utils.utils - INFO - func:predict took: 2.75 sec\n",
      "2023-09-27 17:35:27,948 - __main__ - INFO - Plotting recruitment curves ...\n",
      "2023-09-27 17:35:27,957 - hbmep.model.baseline - INFO - Rendering ...\n",
      "2023-09-27 17:35:30,828 - hbmep.model.baseline - INFO - Saved to /home/vishu/repos/hbmep-paper/reports/human/intraoperative/power-analysis/draw_2829/N_8/seed_698/recruitment_curves.pdf\n",
      "2023-09-27 17:35:30,829 - hbmep.utils.utils - INFO - func:render_recruitment_curves took: 2.88 sec\n",
      "2023-09-27 17:35:30,829 - __main__ - INFO - Plotting posterior checks ...\n",
      "2023-09-27 17:35:30,844 - hbmep.model.baseline - INFO - Rendering Posterior Predictive Check ...\n",
      "2023-09-27 17:35:34,937 - hbmep.model.baseline - INFO - Saved to /home/vishu/repos/hbmep-paper/reports/human/intraoperative/power-analysis/draw_2829/N_8/seed_698/posterior_predictive_check.pdf\n",
      "2023-09-27 17:35:34,938 - hbmep.utils.utils - INFO - func:_render_predictive_check took: 4.11 sec\n",
      "2023-09-27 17:35:34,938 - hbmep.utils.utils - INFO - func:render_predictive_check took: 4.11 sec\n",
      "2023-09-27 17:35:35,546 - __main__ - INFO - \n",
      "\n",
      "Draw:1/50, N:3/6, Repeat:10/10\n",
      "2023-09-27 17:35:35,548 - __main__ - INFO - Seed:677, Subjects: 156, 108, 186, 126, 124, 173, 91, 18\n",
      "2023-09-27 17:35:35,556 - hbmep.config - INFO - Verifying configuration ...\n",
      "2023-09-27 17:35:35,556 - hbmep.config - INFO - Success!\n",
      "2023-09-27 17:35:35,557 - hbmep.model.baseline - INFO - Initialized model with hierarchical_bayesian link\n",
      "2023-09-27 17:35:35,557 - hbmep.dataset.core - INFO - Artefacts will be stored here - /home/vishu/repos/hbmep-paper/reports/human/intraoperative/power-analysis/draw_2829/N_8/seed_677\n",
      "2023-09-27 17:35:35,557 - hbmep.dataset.core - INFO - Copied config to /home/vishu/repos/hbmep-paper/reports/human/intraoperative/power-analysis/draw_2829/N_8/seed_677\n",
      "2023-09-27 17:35:35,558 - hbmep.dataset.core - INFO - Processing data ...\n",
      "2023-09-27 17:35:35,559 - hbmep.utils.utils - INFO - func:load took: 0.00 sec\n",
      "2023-09-27 17:35:35,559 - __main__ - INFO - Fitting ...\n",
      "2023-09-27 17:35:35,559 - hbmep.model.baseline - INFO - Running inference with hierarchical_bayesian ...\n"
     ]
    },
    {
     "data": {
      "application/vnd.jupyter.widget-view+json": {
       "model_id": "e91fc371a4484e419da205881896e285",
       "version_major": 2,
       "version_minor": 0
      },
      "text/plain": [
       "  0%|          | 0/1500 [00:00<?, ?it/s]"
      ]
     },
     "metadata": {},
     "output_type": "display_data"
    },
    {
     "data": {
      "application/vnd.jupyter.widget-view+json": {
       "model_id": "61d8751452f0464ab41bfe210a27b4f7",
       "version_major": 2,
       "version_minor": 0
      },
      "text/plain": [
       "  0%|          | 0/1500 [00:00<?, ?it/s]"
      ]
     },
     "metadata": {},
     "output_type": "display_data"
    },
    {
     "data": {
      "application/vnd.jupyter.widget-view+json": {
       "model_id": "10cdcc9c9a8c400d93f4a4e41358295f",
       "version_major": 2,
       "version_minor": 0
      },
      "text/plain": [
       "  0%|          | 0/1500 [00:00<?, ?it/s]"
      ]
     },
     "metadata": {},
     "output_type": "display_data"
    },
    {
     "data": {
      "application/vnd.jupyter.widget-view+json": {
       "model_id": "f7acd3199e8d4ba3a3923b6f9f64f1e9",
       "version_major": 2,
       "version_minor": 0
      },
      "text/plain": [
       "  0%|          | 0/1500 [00:00<?, ?it/s]"
      ]
     },
     "metadata": {},
     "output_type": "display_data"
    },
    {
     "name": "stderr",
     "output_type": "stream",
     "text": [
      "2023-09-27 17:36:26,340 - hbmep.utils.utils - INFO - func:run_inference took: 50.78 sec\n",
      "2023-09-27 17:36:26,340 - __main__ - INFO - Predicting ...\n",
      "2023-09-27 17:36:26,345 - hbmep.utils.utils - INFO - func:make_prediction_dataset took: 0.00 sec\n",
      "2023-09-27 17:36:29,036 - hbmep.utils.utils - INFO - func:predict took: 2.69 sec\n",
      "2023-09-27 17:36:29,037 - __main__ - INFO - Plotting recruitment curves ...\n",
      "2023-09-27 17:36:29,045 - hbmep.model.baseline - INFO - Rendering ...\n",
      "2023-09-27 17:36:31,945 - hbmep.model.baseline - INFO - Saved to /home/vishu/repos/hbmep-paper/reports/human/intraoperative/power-analysis/draw_2829/N_8/seed_677/recruitment_curves.pdf\n",
      "2023-09-27 17:36:31,946 - hbmep.utils.utils - INFO - func:render_recruitment_curves took: 2.91 sec\n",
      "2023-09-27 17:36:31,946 - __main__ - INFO - Plotting posterior checks ...\n",
      "2023-09-27 17:36:31,961 - hbmep.model.baseline - INFO - Rendering Posterior Predictive Check ...\n",
      "2023-09-27 17:36:36,066 - hbmep.model.baseline - INFO - Saved to /home/vishu/repos/hbmep-paper/reports/human/intraoperative/power-analysis/draw_2829/N_8/seed_677/posterior_predictive_check.pdf\n",
      "2023-09-27 17:36:36,067 - hbmep.utils.utils - INFO - func:_render_predictive_check took: 4.12 sec\n",
      "2023-09-27 17:36:36,067 - hbmep.utils.utils - INFO - func:render_predictive_check took: 4.12 sec\n",
      "2023-09-27 17:36:36,702 - __main__ - INFO - \n",
      "\n",
      "Draw:1/50, N:4/6, Repeat:1/10\n",
      "2023-09-27 17:36:36,711 - __main__ - INFO - Seed:339, Subjects: 67, 138, 116, 43, 140, 161, 181, 178, 17, 167, 102, 36\n",
      "2023-09-27 17:36:36,713 - hbmep.config - INFO - Verifying configuration ...\n",
      "2023-09-27 17:36:36,713 - hbmep.config - INFO - Success!\n",
      "2023-09-27 17:36:36,713 - hbmep.model.baseline - INFO - Initialized model with hierarchical_bayesian link\n",
      "2023-09-27 17:36:36,714 - hbmep.dataset.core - INFO - Artefacts will be stored here - /home/vishu/repos/hbmep-paper/reports/human/intraoperative/power-analysis/draw_2829/N_12/seed_339\n",
      "2023-09-27 17:36:36,714 - hbmep.dataset.core - INFO - Copied config to /home/vishu/repos/hbmep-paper/reports/human/intraoperative/power-analysis/draw_2829/N_12/seed_339\n",
      "2023-09-27 17:36:36,715 - hbmep.dataset.core - INFO - Processing data ...\n",
      "2023-09-27 17:36:36,716 - hbmep.utils.utils - INFO - func:load took: 0.00 sec\n",
      "2023-09-27 17:36:36,716 - __main__ - INFO - Fitting ...\n",
      "2023-09-27 17:36:36,716 - hbmep.model.baseline - INFO - Running inference with hierarchical_bayesian ...\n"
     ]
    },
    {
     "data": {
      "application/vnd.jupyter.widget-view+json": {
       "model_id": "75eae1555c644c338765b051cbfb5e56",
       "version_major": 2,
       "version_minor": 0
      },
      "text/plain": [
       "  0%|          | 0/1500 [00:00<?, ?it/s]"
      ]
     },
     "metadata": {},
     "output_type": "display_data"
    },
    {
     "data": {
      "application/vnd.jupyter.widget-view+json": {
       "model_id": "5b6f565d11924d778e4064aa2ffe51a4",
       "version_major": 2,
       "version_minor": 0
      },
      "text/plain": [
       "  0%|          | 0/1500 [00:00<?, ?it/s]"
      ]
     },
     "metadata": {},
     "output_type": "display_data"
    },
    {
     "data": {
      "application/vnd.jupyter.widget-view+json": {
       "model_id": "4865036e9386409eb4c73ceba166322f",
       "version_major": 2,
       "version_minor": 0
      },
      "text/plain": [
       "  0%|          | 0/1500 [00:00<?, ?it/s]"
      ]
     },
     "metadata": {},
     "output_type": "display_data"
    },
    {
     "data": {
      "application/vnd.jupyter.widget-view+json": {
       "model_id": "ab84ec0f5ce84c69af2927ca994cae91",
       "version_major": 2,
       "version_minor": 0
      },
      "text/plain": [
       "  0%|          | 0/1500 [00:00<?, ?it/s]"
      ]
     },
     "metadata": {},
     "output_type": "display_data"
    },
    {
     "name": "stderr",
     "output_type": "stream",
     "text": [
      "2023-09-27 17:38:31,696 - hbmep.utils.utils - INFO - func:run_inference took: 1 min and 54.98 sec\n",
      "2023-09-27 17:38:31,696 - __main__ - INFO - Predicting ...\n",
      "2023-09-27 17:38:31,701 - hbmep.utils.utils - INFO - func:make_prediction_dataset took: 0.00 sec\n",
      "2023-09-27 17:38:35,583 - hbmep.utils.utils - INFO - func:predict took: 3.88 sec\n",
      "2023-09-27 17:38:35,584 - __main__ - INFO - Plotting recruitment curves ...\n",
      "2023-09-27 17:38:35,596 - hbmep.model.baseline - INFO - Rendering ...\n",
      "2023-09-27 17:38:40,574 - hbmep.model.baseline - INFO - Saved to /home/vishu/repos/hbmep-paper/reports/human/intraoperative/power-analysis/draw_2829/N_12/seed_339/recruitment_curves.pdf\n",
      "2023-09-27 17:38:40,574 - hbmep.utils.utils - INFO - func:render_recruitment_curves took: 4.99 sec\n",
      "2023-09-27 17:38:40,574 - __main__ - INFO - Plotting posterior checks ...\n",
      "2023-09-27 17:38:40,595 - hbmep.model.baseline - INFO - Rendering Posterior Predictive Check ...\n",
      "2023-09-27 17:38:45,820 - hbmep.model.baseline - INFO - Saved to /home/vishu/repos/hbmep-paper/reports/human/intraoperative/power-analysis/draw_2829/N_12/seed_339/posterior_predictive_check.pdf\n",
      "2023-09-27 17:38:45,821 - hbmep.utils.utils - INFO - func:_render_predictive_check took: 5.25 sec\n",
      "2023-09-27 17:38:45,821 - hbmep.utils.utils - INFO - func:render_predictive_check took: 5.25 sec\n",
      "2023-09-27 17:38:46,520 - __main__ - INFO - \n",
      "\n",
      "Draw:1/50, N:4/6, Repeat:2/10\n",
      "2023-09-27 17:38:46,525 - __main__ - INFO - Seed:777, Subjects: 23, 34, 144, 97, 27, 47, 92, 191, 80, 148, 82, 15\n",
      "2023-09-27 17:38:46,525 - hbmep.config - INFO - Verifying configuration ...\n",
      "2023-09-27 17:38:46,526 - hbmep.config - INFO - Success!\n",
      "2023-09-27 17:38:46,526 - hbmep.model.baseline - INFO - Initialized model with hierarchical_bayesian link\n",
      "2023-09-27 17:38:46,526 - hbmep.dataset.core - INFO - Artefacts will be stored here - /home/vishu/repos/hbmep-paper/reports/human/intraoperative/power-analysis/draw_2829/N_12/seed_777\n",
      "2023-09-27 17:38:46,527 - hbmep.dataset.core - INFO - Copied config to /home/vishu/repos/hbmep-paper/reports/human/intraoperative/power-analysis/draw_2829/N_12/seed_777\n",
      "2023-09-27 17:38:46,527 - hbmep.dataset.core - INFO - Processing data ...\n",
      "2023-09-27 17:38:46,528 - hbmep.utils.utils - INFO - func:load took: 0.00 sec\n",
      "2023-09-27 17:38:46,529 - __main__ - INFO - Fitting ...\n",
      "2023-09-27 17:38:46,529 - hbmep.model.baseline - INFO - Running inference with hierarchical_bayesian ...\n"
     ]
    },
    {
     "data": {
      "application/vnd.jupyter.widget-view+json": {
       "model_id": "2304e5031ce3490286a6960a5cb6dde6",
       "version_major": 2,
       "version_minor": 0
      },
      "text/plain": [
       "  0%|          | 0/1500 [00:00<?, ?it/s]"
      ]
     },
     "metadata": {},
     "output_type": "display_data"
    },
    {
     "data": {
      "application/vnd.jupyter.widget-view+json": {
       "model_id": "61bd7ef108ba41b59a52f60456d4550d",
       "version_major": 2,
       "version_minor": 0
      },
      "text/plain": [
       "  0%|          | 0/1500 [00:00<?, ?it/s]"
      ]
     },
     "metadata": {},
     "output_type": "display_data"
    },
    {
     "data": {
      "application/vnd.jupyter.widget-view+json": {
       "model_id": "e6e5cff8545b41d7a50c43c8348e3cd6",
       "version_major": 2,
       "version_minor": 0
      },
      "text/plain": [
       "  0%|          | 0/1500 [00:00<?, ?it/s]"
      ]
     },
     "metadata": {},
     "output_type": "display_data"
    },
    {
     "data": {
      "application/vnd.jupyter.widget-view+json": {
       "model_id": "2d512a1c47394423a759ede923a08fcd",
       "version_major": 2,
       "version_minor": 0
      },
      "text/plain": [
       "  0%|          | 0/1500 [00:00<?, ?it/s]"
      ]
     },
     "metadata": {},
     "output_type": "display_data"
    },
    {
     "name": "stderr",
     "output_type": "stream",
     "text": [
      "2023-09-27 17:40:42,310 - hbmep.utils.utils - INFO - func:run_inference took: 1 min and 55.78 sec\n",
      "2023-09-27 17:40:42,310 - __main__ - INFO - Predicting ...\n",
      "2023-09-27 17:40:42,315 - hbmep.utils.utils - INFO - func:make_prediction_dataset took: 0.00 sec\n",
      "2023-09-27 17:40:46,177 - hbmep.utils.utils - INFO - func:predict took: 3.86 sec\n",
      "2023-09-27 17:40:46,177 - __main__ - INFO - Plotting recruitment curves ...\n",
      "2023-09-27 17:40:46,189 - hbmep.model.baseline - INFO - Rendering ...\n",
      "2023-09-27 17:40:50,538 - hbmep.model.baseline - INFO - Saved to /home/vishu/repos/hbmep-paper/reports/human/intraoperative/power-analysis/draw_2829/N_12/seed_777/recruitment_curves.pdf\n",
      "2023-09-27 17:40:50,538 - hbmep.utils.utils - INFO - func:render_recruitment_curves took: 4.36 sec\n",
      "2023-09-27 17:40:50,539 - __main__ - INFO - Plotting posterior checks ...\n",
      "2023-09-27 17:40:50,559 - hbmep.model.baseline - INFO - Rendering Posterior Predictive Check ...\n",
      "2023-09-27 17:40:56,498 - hbmep.model.baseline - INFO - Saved to /home/vishu/repos/hbmep-paper/reports/human/intraoperative/power-analysis/draw_2829/N_12/seed_777/posterior_predictive_check.pdf\n",
      "2023-09-27 17:40:56,499 - hbmep.utils.utils - INFO - func:_render_predictive_check took: 5.96 sec\n",
      "2023-09-27 17:40:56,499 - hbmep.utils.utils - INFO - func:render_predictive_check took: 5.96 sec\n",
      "2023-09-27 17:40:57,254 - __main__ - INFO - \n",
      "\n",
      "Draw:1/50, N:4/6, Repeat:3/10\n",
      "2023-09-27 17:40:57,257 - __main__ - INFO - Seed:129, Subjects: 151, 192, 17, 74, 11, 14, 148, 173, 164, 38, 85, 168\n",
      "2023-09-27 17:40:57,258 - hbmep.config - INFO - Verifying configuration ...\n",
      "2023-09-27 17:40:57,258 - hbmep.config - INFO - Success!\n",
      "2023-09-27 17:40:57,259 - hbmep.model.baseline - INFO - Initialized model with hierarchical_bayesian link\n",
      "2023-09-27 17:40:57,259 - hbmep.dataset.core - INFO - Artefacts will be stored here - /home/vishu/repos/hbmep-paper/reports/human/intraoperative/power-analysis/draw_2829/N_12/seed_129\n",
      "2023-09-27 17:40:57,259 - hbmep.dataset.core - INFO - Copied config to /home/vishu/repos/hbmep-paper/reports/human/intraoperative/power-analysis/draw_2829/N_12/seed_129\n",
      "2023-09-27 17:40:57,260 - hbmep.dataset.core - INFO - Processing data ...\n",
      "2023-09-27 17:40:57,261 - hbmep.utils.utils - INFO - func:load took: 0.00 sec\n",
      "2023-09-27 17:40:57,261 - __main__ - INFO - Fitting ...\n",
      "2023-09-27 17:40:57,261 - hbmep.model.baseline - INFO - Running inference with hierarchical_bayesian ...\n"
     ]
    },
    {
     "data": {
      "application/vnd.jupyter.widget-view+json": {
       "model_id": "4843e281ae5c4ce8a651ecea36a63b7d",
       "version_major": 2,
       "version_minor": 0
      },
      "text/plain": [
       "  0%|          | 0/1500 [00:00<?, ?it/s]"
      ]
     },
     "metadata": {},
     "output_type": "display_data"
    },
    {
     "data": {
      "application/vnd.jupyter.widget-view+json": {
       "model_id": "66da4071a3b841f287dd6195d2614ee6",
       "version_major": 2,
       "version_minor": 0
      },
      "text/plain": [
       "  0%|          | 0/1500 [00:00<?, ?it/s]"
      ]
     },
     "metadata": {},
     "output_type": "display_data"
    },
    {
     "data": {
      "application/vnd.jupyter.widget-view+json": {
       "model_id": "2b8c93b12d2d4895b2ea5ef3e4228064",
       "version_major": 2,
       "version_minor": 0
      },
      "text/plain": [
       "  0%|          | 0/1500 [00:00<?, ?it/s]"
      ]
     },
     "metadata": {},
     "output_type": "display_data"
    },
    {
     "data": {
      "application/vnd.jupyter.widget-view+json": {
       "model_id": "affa302830a74010a811b0e903d3333a",
       "version_major": 2,
       "version_minor": 0
      },
      "text/plain": [
       "  0%|          | 0/1500 [00:00<?, ?it/s]"
      ]
     },
     "metadata": {},
     "output_type": "display_data"
    },
    {
     "name": "stderr",
     "output_type": "stream",
     "text": [
      "2023-09-27 17:42:38,285 - hbmep.utils.utils - INFO - func:run_inference took: 1 min and 41.02 sec\n",
      "2023-09-27 17:42:38,285 - __main__ - INFO - Predicting ...\n",
      "2023-09-27 17:42:38,290 - hbmep.utils.utils - INFO - func:make_prediction_dataset took: 0.00 sec\n",
      "2023-09-27 17:42:42,164 - hbmep.utils.utils - INFO - func:predict took: 3.87 sec\n",
      "2023-09-27 17:42:42,164 - __main__ - INFO - Plotting recruitment curves ...\n",
      "2023-09-27 17:42:42,176 - hbmep.model.baseline - INFO - Rendering ...\n",
      "2023-09-27 17:42:46,523 - hbmep.model.baseline - INFO - Saved to /home/vishu/repos/hbmep-paper/reports/human/intraoperative/power-analysis/draw_2829/N_12/seed_129/recruitment_curves.pdf\n",
      "2023-09-27 17:42:46,524 - hbmep.utils.utils - INFO - func:render_recruitment_curves took: 4.36 sec\n",
      "2023-09-27 17:42:46,524 - __main__ - INFO - Plotting posterior checks ...\n",
      "2023-09-27 17:42:46,544 - hbmep.model.baseline - INFO - Rendering Posterior Predictive Check ...\n",
      "2023-09-27 17:42:52,543 - hbmep.model.baseline - INFO - Saved to /home/vishu/repos/hbmep-paper/reports/human/intraoperative/power-analysis/draw_2829/N_12/seed_129/posterior_predictive_check.pdf\n",
      "2023-09-27 17:42:52,544 - hbmep.utils.utils - INFO - func:_render_predictive_check took: 6.02 sec\n",
      "2023-09-27 17:42:52,544 - hbmep.utils.utils - INFO - func:render_predictive_check took: 6.02 sec\n",
      "2023-09-27 17:42:53,325 - __main__ - INFO - \n",
      "\n",
      "Draw:1/50, N:4/6, Repeat:4/10\n",
      "2023-09-27 17:42:53,329 - __main__ - INFO - Seed:822, Subjects: 98, 32, 121, 186, 20, 191, 147, 172, 14, 143, 189, 83\n",
      "2023-09-27 17:42:53,330 - hbmep.config - INFO - Verifying configuration ...\n",
      "2023-09-27 17:42:53,330 - hbmep.config - INFO - Success!\n",
      "2023-09-27 17:42:53,330 - hbmep.model.baseline - INFO - Initialized model with hierarchical_bayesian link\n",
      "2023-09-27 17:42:53,331 - hbmep.dataset.core - INFO - Artefacts will be stored here - /home/vishu/repos/hbmep-paper/reports/human/intraoperative/power-analysis/draw_2829/N_12/seed_822\n",
      "2023-09-27 17:42:53,331 - hbmep.dataset.core - INFO - Copied config to /home/vishu/repos/hbmep-paper/reports/human/intraoperative/power-analysis/draw_2829/N_12/seed_822\n",
      "2023-09-27 17:42:53,332 - hbmep.dataset.core - INFO - Processing data ...\n",
      "2023-09-27 17:42:53,332 - hbmep.utils.utils - INFO - func:load took: 0.00 sec\n",
      "2023-09-27 17:42:53,333 - __main__ - INFO - Fitting ...\n",
      "2023-09-27 17:42:53,333 - hbmep.model.baseline - INFO - Running inference with hierarchical_bayesian ...\n"
     ]
    },
    {
     "data": {
      "application/vnd.jupyter.widget-view+json": {
       "model_id": "2c01aaa05cc44eaf9420594aae0fed53",
       "version_major": 2,
       "version_minor": 0
      },
      "text/plain": [
       "  0%|          | 0/1500 [00:00<?, ?it/s]"
      ]
     },
     "metadata": {},
     "output_type": "display_data"
    },
    {
     "data": {
      "application/vnd.jupyter.widget-view+json": {
       "model_id": "a9f4720d641f4c10afed3de2bbdf387d",
       "version_major": 2,
       "version_minor": 0
      },
      "text/plain": [
       "  0%|          | 0/1500 [00:00<?, ?it/s]"
      ]
     },
     "metadata": {},
     "output_type": "display_data"
    },
    {
     "data": {
      "application/vnd.jupyter.widget-view+json": {
       "model_id": "b82babf2c9154b4c9da82819dda63b16",
       "version_major": 2,
       "version_minor": 0
      },
      "text/plain": [
       "  0%|          | 0/1500 [00:00<?, ?it/s]"
      ]
     },
     "metadata": {},
     "output_type": "display_data"
    },
    {
     "data": {
      "application/vnd.jupyter.widget-view+json": {
       "model_id": "42e37cf2863245b484ce08338aedd370",
       "version_major": 2,
       "version_minor": 0
      },
      "text/plain": [
       "  0%|          | 0/1500 [00:00<?, ?it/s]"
      ]
     },
     "metadata": {},
     "output_type": "display_data"
    },
    {
     "name": "stderr",
     "output_type": "stream",
     "text": [
      "2023-09-27 17:44:36,459 - hbmep.utils.utils - INFO - func:run_inference took: 1 min and 43.13 sec\n",
      "2023-09-27 17:44:36,460 - __main__ - INFO - Predicting ...\n",
      "2023-09-27 17:44:36,465 - hbmep.utils.utils - INFO - func:make_prediction_dataset took: 0.00 sec\n",
      "2023-09-27 17:44:40,328 - hbmep.utils.utils - INFO - func:predict took: 3.86 sec\n",
      "2023-09-27 17:44:40,328 - __main__ - INFO - Plotting recruitment curves ...\n",
      "2023-09-27 17:44:40,340 - hbmep.model.baseline - INFO - Rendering ...\n",
      "2023-09-27 17:44:44,745 - hbmep.model.baseline - INFO - Saved to /home/vishu/repos/hbmep-paper/reports/human/intraoperative/power-analysis/draw_2829/N_12/seed_822/recruitment_curves.pdf\n",
      "2023-09-27 17:44:44,746 - hbmep.utils.utils - INFO - func:render_recruitment_curves took: 4.42 sec\n",
      "2023-09-27 17:44:44,746 - __main__ - INFO - Plotting posterior checks ...\n",
      "2023-09-27 17:44:44,767 - hbmep.model.baseline - INFO - Rendering Posterior Predictive Check ...\n",
      "2023-09-27 17:44:50,772 - hbmep.model.baseline - INFO - Saved to /home/vishu/repos/hbmep-paper/reports/human/intraoperative/power-analysis/draw_2829/N_12/seed_822/posterior_predictive_check.pdf\n",
      "2023-09-27 17:44:50,773 - hbmep.utils.utils - INFO - func:_render_predictive_check took: 6.03 sec\n",
      "2023-09-27 17:44:50,773 - hbmep.utils.utils - INFO - func:render_predictive_check took: 6.03 sec\n",
      "2023-09-27 17:44:51,564 - __main__ - INFO - \n",
      "\n",
      "Draw:1/50, N:4/6, Repeat:5/10\n",
      "2023-09-27 17:44:51,567 - __main__ - INFO - Seed:616, Subjects: 130, 39, 87, 96, 158, 162, 160, 71, 142, 4, 8, 195\n",
      "2023-09-27 17:44:51,568 - hbmep.config - INFO - Verifying configuration ...\n",
      "2023-09-27 17:44:51,568 - hbmep.config - INFO - Success!\n",
      "2023-09-27 17:44:51,568 - hbmep.model.baseline - INFO - Initialized model with hierarchical_bayesian link\n",
      "2023-09-27 17:44:51,569 - hbmep.dataset.core - INFO - Artefacts will be stored here - /home/vishu/repos/hbmep-paper/reports/human/intraoperative/power-analysis/draw_2829/N_12/seed_616\n",
      "2023-09-27 17:44:51,569 - hbmep.dataset.core - INFO - Copied config to /home/vishu/repos/hbmep-paper/reports/human/intraoperative/power-analysis/draw_2829/N_12/seed_616\n",
      "2023-09-27 17:44:51,570 - hbmep.dataset.core - INFO - Processing data ...\n",
      "2023-09-27 17:44:51,570 - hbmep.utils.utils - INFO - func:load took: 0.00 sec\n",
      "2023-09-27 17:44:51,571 - __main__ - INFO - Fitting ...\n",
      "2023-09-27 17:44:51,571 - hbmep.model.baseline - INFO - Running inference with hierarchical_bayesian ...\n"
     ]
    },
    {
     "data": {
      "application/vnd.jupyter.widget-view+json": {
       "model_id": "75bb08ea06364e64b7099cc9eec83ee1",
       "version_major": 2,
       "version_minor": 0
      },
      "text/plain": [
       "  0%|          | 0/1500 [00:00<?, ?it/s]"
      ]
     },
     "metadata": {},
     "output_type": "display_data"
    },
    {
     "data": {
      "application/vnd.jupyter.widget-view+json": {
       "model_id": "62d74209b52441158733807ff75a1b18",
       "version_major": 2,
       "version_minor": 0
      },
      "text/plain": [
       "  0%|          | 0/1500 [00:00<?, ?it/s]"
      ]
     },
     "metadata": {},
     "output_type": "display_data"
    },
    {
     "data": {
      "application/vnd.jupyter.widget-view+json": {
       "model_id": "caa68c07c6334a48872377f456a27a41",
       "version_major": 2,
       "version_minor": 0
      },
      "text/plain": [
       "  0%|          | 0/1500 [00:00<?, ?it/s]"
      ]
     },
     "metadata": {},
     "output_type": "display_data"
    },
    {
     "data": {
      "application/vnd.jupyter.widget-view+json": {
       "model_id": "9df6c5453702440b972a6bcae8949775",
       "version_major": 2,
       "version_minor": 0
      },
      "text/plain": [
       "  0%|          | 0/1500 [00:00<?, ?it/s]"
      ]
     },
     "metadata": {},
     "output_type": "display_data"
    },
    {
     "name": "stderr",
     "output_type": "stream",
     "text": [
      "2023-09-27 17:46:35,216 - hbmep.utils.utils - INFO - func:run_inference took: 1 min and 43.65 sec\n",
      "2023-09-27 17:46:35,217 - __main__ - INFO - Predicting ...\n",
      "2023-09-27 17:46:35,222 - hbmep.utils.utils - INFO - func:make_prediction_dataset took: 0.00 sec\n",
      "2023-09-27 17:46:39,086 - hbmep.utils.utils - INFO - func:predict took: 3.86 sec\n",
      "2023-09-27 17:46:39,087 - __main__ - INFO - Plotting recruitment curves ...\n",
      "2023-09-27 17:46:39,099 - hbmep.model.baseline - INFO - Rendering ...\n",
      "2023-09-27 17:46:43,532 - hbmep.model.baseline - INFO - Saved to /home/vishu/repos/hbmep-paper/reports/human/intraoperative/power-analysis/draw_2829/N_12/seed_616/recruitment_curves.pdf\n",
      "2023-09-27 17:46:43,533 - hbmep.utils.utils - INFO - func:render_recruitment_curves took: 4.45 sec\n",
      "2023-09-27 17:46:43,533 - __main__ - INFO - Plotting posterior checks ...\n",
      "2023-09-27 17:46:43,554 - hbmep.model.baseline - INFO - Rendering Posterior Predictive Check ...\n",
      "2023-09-27 17:46:49,598 - hbmep.model.baseline - INFO - Saved to /home/vishu/repos/hbmep-paper/reports/human/intraoperative/power-analysis/draw_2829/N_12/seed_616/posterior_predictive_check.pdf\n",
      "2023-09-27 17:46:49,599 - hbmep.utils.utils - INFO - func:_render_predictive_check took: 6.07 sec\n",
      "2023-09-27 17:46:49,599 - hbmep.utils.utils - INFO - func:render_predictive_check took: 6.07 sec\n",
      "2023-09-27 17:46:50,423 - __main__ - INFO - \n",
      "\n",
      "Draw:1/50, N:4/6, Repeat:6/10\n",
      "2023-09-27 17:46:50,428 - __main__ - INFO - Seed:214, Subjects: 120, 179, 25, 125, 196, 84, 64, 53, 115, 72, 134, 106\n",
      "2023-09-27 17:46:50,429 - hbmep.config - INFO - Verifying configuration ...\n",
      "2023-09-27 17:46:50,429 - hbmep.config - INFO - Success!\n",
      "2023-09-27 17:46:50,430 - hbmep.model.baseline - INFO - Initialized model with hierarchical_bayesian link\n",
      "2023-09-27 17:46:50,430 - hbmep.dataset.core - INFO - Artefacts will be stored here - /home/vishu/repos/hbmep-paper/reports/human/intraoperative/power-analysis/draw_2829/N_12/seed_214\n",
      "2023-09-27 17:46:50,430 - hbmep.dataset.core - INFO - Copied config to /home/vishu/repos/hbmep-paper/reports/human/intraoperative/power-analysis/draw_2829/N_12/seed_214\n",
      "2023-09-27 17:46:50,431 - hbmep.dataset.core - INFO - Processing data ...\n",
      "2023-09-27 17:46:50,432 - hbmep.utils.utils - INFO - func:load took: 0.00 sec\n",
      "2023-09-27 17:46:50,432 - __main__ - INFO - Fitting ...\n",
      "2023-09-27 17:46:50,432 - hbmep.model.baseline - INFO - Running inference with hierarchical_bayesian ...\n"
     ]
    },
    {
     "data": {
      "application/vnd.jupyter.widget-view+json": {
       "model_id": "8244919c0fda40bd8d99b5d6d28ce821",
       "version_major": 2,
       "version_minor": 0
      },
      "text/plain": [
       "  0%|          | 0/1500 [00:00<?, ?it/s]"
      ]
     },
     "metadata": {},
     "output_type": "display_data"
    },
    {
     "data": {
      "application/vnd.jupyter.widget-view+json": {
       "model_id": "ca24921cffa24f209d7408328597130c",
       "version_major": 2,
       "version_minor": 0
      },
      "text/plain": [
       "  0%|          | 0/1500 [00:00<?, ?it/s]"
      ]
     },
     "metadata": {},
     "output_type": "display_data"
    },
    {
     "data": {
      "application/vnd.jupyter.widget-view+json": {
       "model_id": "d5a81809156142caaab7f0cbbf345aa6",
       "version_major": 2,
       "version_minor": 0
      },
      "text/plain": [
       "  0%|          | 0/1500 [00:00<?, ?it/s]"
      ]
     },
     "metadata": {},
     "output_type": "display_data"
    },
    {
     "data": {
      "application/vnd.jupyter.widget-view+json": {
       "model_id": "cf3c2b6cf6384ad7b301694c1fde27c3",
       "version_major": 2,
       "version_minor": 0
      },
      "text/plain": [
       "  0%|          | 0/1500 [00:00<?, ?it/s]"
      ]
     },
     "metadata": {},
     "output_type": "display_data"
    },
    {
     "name": "stderr",
     "output_type": "stream",
     "text": [
      "2023-09-27 17:48:44,165 - hbmep.utils.utils - INFO - func:run_inference took: 1 min and 53.73 sec\n",
      "2023-09-27 17:48:44,166 - __main__ - INFO - Predicting ...\n",
      "2023-09-27 17:48:44,170 - hbmep.utils.utils - INFO - func:make_prediction_dataset took: 0.00 sec\n",
      "2023-09-27 17:48:48,049 - hbmep.utils.utils - INFO - func:predict took: 3.88 sec\n",
      "2023-09-27 17:48:48,049 - __main__ - INFO - Plotting recruitment curves ...\n",
      "2023-09-27 17:48:48,061 - hbmep.model.baseline - INFO - Rendering ...\n",
      "2023-09-27 17:48:52,444 - hbmep.model.baseline - INFO - Saved to /home/vishu/repos/hbmep-paper/reports/human/intraoperative/power-analysis/draw_2829/N_12/seed_214/recruitment_curves.pdf\n",
      "2023-09-27 17:48:52,444 - hbmep.utils.utils - INFO - func:render_recruitment_curves took: 4.39 sec\n",
      "2023-09-27 17:48:52,444 - __main__ - INFO - Plotting posterior checks ...\n",
      "2023-09-27 17:48:52,465 - hbmep.model.baseline - INFO - Rendering Posterior Predictive Check ...\n",
      "2023-09-27 17:48:58,531 - hbmep.model.baseline - INFO - Saved to /home/vishu/repos/hbmep-paper/reports/human/intraoperative/power-analysis/draw_2829/N_12/seed_214/posterior_predictive_check.pdf\n",
      "2023-09-27 17:48:58,532 - hbmep.utils.utils - INFO - func:_render_predictive_check took: 6.09 sec\n",
      "2023-09-27 17:48:58,532 - hbmep.utils.utils - INFO - func:render_predictive_check took: 6.09 sec\n",
      "2023-09-27 17:48:59,371 - __main__ - INFO - \n",
      "\n",
      "Draw:1/50, N:4/6, Repeat:7/10\n",
      "2023-09-27 17:48:59,375 - __main__ - INFO - Seed:204, Subjects: 195, 25, 42, 54, 1, 66, 19, 69, 15, 105, 95, 163\n",
      "2023-09-27 17:48:59,376 - hbmep.config - INFO - Verifying configuration ...\n",
      "2023-09-27 17:48:59,376 - hbmep.config - INFO - Success!\n",
      "2023-09-27 17:48:59,377 - hbmep.model.baseline - INFO - Initialized model with hierarchical_bayesian link\n",
      "2023-09-27 17:48:59,377 - hbmep.dataset.core - INFO - Artefacts will be stored here - /home/vishu/repos/hbmep-paper/reports/human/intraoperative/power-analysis/draw_2829/N_12/seed_204\n",
      "2023-09-27 17:48:59,377 - hbmep.dataset.core - INFO - Copied config to /home/vishu/repos/hbmep-paper/reports/human/intraoperative/power-analysis/draw_2829/N_12/seed_204\n",
      "2023-09-27 17:48:59,378 - hbmep.dataset.core - INFO - Processing data ...\n",
      "2023-09-27 17:48:59,379 - hbmep.utils.utils - INFO - func:load took: 0.00 sec\n",
      "2023-09-27 17:48:59,379 - __main__ - INFO - Fitting ...\n",
      "2023-09-27 17:48:59,379 - hbmep.model.baseline - INFO - Running inference with hierarchical_bayesian ...\n"
     ]
    },
    {
     "data": {
      "application/vnd.jupyter.widget-view+json": {
       "model_id": "11b28d66cc5e4dccb9941f99d3d48a4a",
       "version_major": 2,
       "version_minor": 0
      },
      "text/plain": [
       "  0%|          | 0/1500 [00:00<?, ?it/s]"
      ]
     },
     "metadata": {},
     "output_type": "display_data"
    },
    {
     "data": {
      "application/vnd.jupyter.widget-view+json": {
       "model_id": "05a0c20615ff4078b38eb1f5694ff914",
       "version_major": 2,
       "version_minor": 0
      },
      "text/plain": [
       "  0%|          | 0/1500 [00:00<?, ?it/s]"
      ]
     },
     "metadata": {},
     "output_type": "display_data"
    },
    {
     "data": {
      "application/vnd.jupyter.widget-view+json": {
       "model_id": "6e284b6c2ea54857a1bed71cc6711f7a",
       "version_major": 2,
       "version_minor": 0
      },
      "text/plain": [
       "  0%|          | 0/1500 [00:00<?, ?it/s]"
      ]
     },
     "metadata": {},
     "output_type": "display_data"
    },
    {
     "data": {
      "application/vnd.jupyter.widget-view+json": {
       "model_id": "4e90924aa8b0489e804620e12ea6a980",
       "version_major": 2,
       "version_minor": 0
      },
      "text/plain": [
       "  0%|          | 0/1500 [00:00<?, ?it/s]"
      ]
     },
     "metadata": {},
     "output_type": "display_data"
    },
    {
     "name": "stderr",
     "output_type": "stream",
     "text": [
      "2023-09-27 17:50:43,640 - hbmep.utils.utils - INFO - func:run_inference took: 1 min and 44.26 sec\n",
      "2023-09-27 17:50:43,641 - __main__ - INFO - Predicting ...\n",
      "2023-09-27 17:50:43,646 - hbmep.utils.utils - INFO - func:make_prediction_dataset took: 0.00 sec\n",
      "2023-09-27 17:50:47,473 - hbmep.utils.utils - INFO - func:predict took: 3.83 sec\n",
      "2023-09-27 17:50:47,473 - __main__ - INFO - Plotting recruitment curves ...\n",
      "2023-09-27 17:50:47,485 - hbmep.model.baseline - INFO - Rendering ...\n",
      "2023-09-27 17:50:51,824 - hbmep.model.baseline - INFO - Saved to /home/vishu/repos/hbmep-paper/reports/human/intraoperative/power-analysis/draw_2829/N_12/seed_204/recruitment_curves.pdf\n",
      "2023-09-27 17:50:51,825 - hbmep.utils.utils - INFO - func:render_recruitment_curves took: 4.35 sec\n",
      "2023-09-27 17:50:51,825 - __main__ - INFO - Plotting posterior checks ...\n",
      "2023-09-27 17:50:51,846 - hbmep.model.baseline - INFO - Rendering Posterior Predictive Check ...\n",
      "2023-09-27 17:50:57,894 - hbmep.model.baseline - INFO - Saved to /home/vishu/repos/hbmep-paper/reports/human/intraoperative/power-analysis/draw_2829/N_12/seed_204/posterior_predictive_check.pdf\n",
      "2023-09-27 17:50:57,895 - hbmep.utils.utils - INFO - func:_render_predictive_check took: 6.07 sec\n",
      "2023-09-27 17:50:57,895 - hbmep.utils.utils - INFO - func:render_predictive_check took: 6.07 sec\n",
      "2023-09-27 17:50:58,752 - __main__ - INFO - \n",
      "\n",
      "Draw:1/50, N:4/6, Repeat:8/10\n",
      "2023-09-27 17:50:58,756 - __main__ - INFO - Seed:912, Subjects: 108, 85, 144, 90, 97, 14, 64, 164, 53, 135, 158, 126\n",
      "2023-09-27 17:50:58,757 - hbmep.config - INFO - Verifying configuration ...\n",
      "2023-09-27 17:50:58,757 - hbmep.config - INFO - Success!\n",
      "2023-09-27 17:50:58,758 - hbmep.model.baseline - INFO - Initialized model with hierarchical_bayesian link\n",
      "2023-09-27 17:50:58,758 - hbmep.dataset.core - INFO - Artefacts will be stored here - /home/vishu/repos/hbmep-paper/reports/human/intraoperative/power-analysis/draw_2829/N_12/seed_912\n",
      "2023-09-27 17:50:58,758 - hbmep.dataset.core - INFO - Copied config to /home/vishu/repos/hbmep-paper/reports/human/intraoperative/power-analysis/draw_2829/N_12/seed_912\n",
      "2023-09-27 17:50:58,759 - hbmep.dataset.core - INFO - Processing data ...\n",
      "2023-09-27 17:50:58,760 - hbmep.utils.utils - INFO - func:load took: 0.00 sec\n",
      "2023-09-27 17:50:58,760 - __main__ - INFO - Fitting ...\n",
      "2023-09-27 17:50:58,761 - hbmep.model.baseline - INFO - Running inference with hierarchical_bayesian ...\n"
     ]
    },
    {
     "data": {
      "application/vnd.jupyter.widget-view+json": {
       "model_id": "2a62826f3afc4d898530b82e520cf80f",
       "version_major": 2,
       "version_minor": 0
      },
      "text/plain": [
       "  0%|          | 0/1500 [00:00<?, ?it/s]"
      ]
     },
     "metadata": {},
     "output_type": "display_data"
    },
    {
     "data": {
      "application/vnd.jupyter.widget-view+json": {
       "model_id": "94e9953c2e9b40618331a1f3c8979bd2",
       "version_major": 2,
       "version_minor": 0
      },
      "text/plain": [
       "  0%|          | 0/1500 [00:00<?, ?it/s]"
      ]
     },
     "metadata": {},
     "output_type": "display_data"
    },
    {
     "data": {
      "application/vnd.jupyter.widget-view+json": {
       "model_id": "cffef57a86fc419e93e55e99a2fb2da4",
       "version_major": 2,
       "version_minor": 0
      },
      "text/plain": [
       "  0%|          | 0/1500 [00:00<?, ?it/s]"
      ]
     },
     "metadata": {},
     "output_type": "display_data"
    },
    {
     "data": {
      "application/vnd.jupyter.widget-view+json": {
       "model_id": "5a8d7dce43144c9998fd6705c4182833",
       "version_major": 2,
       "version_minor": 0
      },
      "text/plain": [
       "  0%|          | 0/1500 [00:00<?, ?it/s]"
      ]
     },
     "metadata": {},
     "output_type": "display_data"
    },
    {
     "name": "stderr",
     "output_type": "stream",
     "text": [
      "2023-09-27 17:52:06,921 - hbmep.utils.utils - INFO - func:run_inference took: 1 min and 8.16 sec\n",
      "2023-09-27 17:52:06,922 - __main__ - INFO - Predicting ...\n",
      "2023-09-27 17:52:06,927 - hbmep.utils.utils - INFO - func:make_prediction_dataset took: 0.00 sec\n",
      "2023-09-27 17:52:10,819 - hbmep.utils.utils - INFO - func:predict took: 3.89 sec\n",
      "2023-09-27 17:52:10,820 - __main__ - INFO - Plotting recruitment curves ...\n",
      "2023-09-27 17:52:10,831 - hbmep.model.baseline - INFO - Rendering ...\n",
      "2023-09-27 17:52:15,199 - hbmep.model.baseline - INFO - Saved to /home/vishu/repos/hbmep-paper/reports/human/intraoperative/power-analysis/draw_2829/N_12/seed_912/recruitment_curves.pdf\n",
      "2023-09-27 17:52:15,199 - hbmep.utils.utils - INFO - func:render_recruitment_curves took: 4.38 sec\n",
      "2023-09-27 17:52:15,200 - __main__ - INFO - Plotting posterior checks ...\n",
      "2023-09-27 17:52:15,221 - hbmep.model.baseline - INFO - Rendering Posterior Predictive Check ...\n",
      "2023-09-27 17:52:21,282 - hbmep.model.baseline - INFO - Saved to /home/vishu/repos/hbmep-paper/reports/human/intraoperative/power-analysis/draw_2829/N_12/seed_912/posterior_predictive_check.pdf\n",
      "2023-09-27 17:52:21,283 - hbmep.utils.utils - INFO - func:_render_predictive_check took: 6.08 sec\n",
      "2023-09-27 17:52:21,283 - hbmep.utils.utils - INFO - func:render_predictive_check took: 6.08 sec\n",
      "2023-09-27 17:52:22,142 - __main__ - INFO - \n",
      "\n",
      "Draw:1/50, N:4/6, Repeat:9/10\n",
      "2023-09-27 17:52:22,145 - __main__ - INFO - Seed:698, Subjects: 50, 190, 14, 153, 33, 159, 185, 131, 155, 187, 85, 129\n",
      "2023-09-27 17:52:22,146 - hbmep.config - INFO - Verifying configuration ...\n",
      "2023-09-27 17:52:22,146 - hbmep.config - INFO - Success!\n",
      "2023-09-27 17:52:22,147 - hbmep.model.baseline - INFO - Initialized model with hierarchical_bayesian link\n",
      "2023-09-27 17:52:22,147 - hbmep.dataset.core - INFO - Artefacts will be stored here - /home/vishu/repos/hbmep-paper/reports/human/intraoperative/power-analysis/draw_2829/N_12/seed_698\n",
      "2023-09-27 17:52:22,148 - hbmep.dataset.core - INFO - Copied config to /home/vishu/repos/hbmep-paper/reports/human/intraoperative/power-analysis/draw_2829/N_12/seed_698\n",
      "2023-09-27 17:52:22,148 - hbmep.dataset.core - INFO - Processing data ...\n",
      "2023-09-27 17:52:22,149 - hbmep.utils.utils - INFO - func:load took: 0.00 sec\n",
      "2023-09-27 17:52:22,149 - __main__ - INFO - Fitting ...\n",
      "2023-09-27 17:52:22,150 - hbmep.model.baseline - INFO - Running inference with hierarchical_bayesian ...\n"
     ]
    },
    {
     "data": {
      "application/vnd.jupyter.widget-view+json": {
       "model_id": "a22a713f56184de6bd149915f33b050e",
       "version_major": 2,
       "version_minor": 0
      },
      "text/plain": [
       "  0%|          | 0/1500 [00:00<?, ?it/s]"
      ]
     },
     "metadata": {},
     "output_type": "display_data"
    },
    {
     "data": {
      "application/vnd.jupyter.widget-view+json": {
       "model_id": "c6fe2cd1a5694b3580ba79a53d4114f1",
       "version_major": 2,
       "version_minor": 0
      },
      "text/plain": [
       "  0%|          | 0/1500 [00:00<?, ?it/s]"
      ]
     },
     "metadata": {},
     "output_type": "display_data"
    },
    {
     "data": {
      "application/vnd.jupyter.widget-view+json": {
       "model_id": "9b5b40086aa946268574823b91adbb01",
       "version_major": 2,
       "version_minor": 0
      },
      "text/plain": [
       "  0%|          | 0/1500 [00:00<?, ?it/s]"
      ]
     },
     "metadata": {},
     "output_type": "display_data"
    },
    {
     "data": {
      "application/vnd.jupyter.widget-view+json": {
       "model_id": "878567b3bb9444ae8ca456217dad2a63",
       "version_major": 2,
       "version_minor": 0
      },
      "text/plain": [
       "  0%|          | 0/1500 [00:00<?, ?it/s]"
      ]
     },
     "metadata": {},
     "output_type": "display_data"
    },
    {
     "name": "stderr",
     "output_type": "stream",
     "text": [
      "2023-09-27 17:54:03,363 - hbmep.utils.utils - INFO - func:run_inference took: 1 min and 41.21 sec\n",
      "2023-09-27 17:54:03,364 - __main__ - INFO - Predicting ...\n",
      "2023-09-27 17:54:03,369 - hbmep.utils.utils - INFO - func:make_prediction_dataset took: 0.00 sec\n",
      "2023-09-27 17:54:07,246 - hbmep.utils.utils - INFO - func:predict took: 3.88 sec\n",
      "2023-09-27 17:54:07,247 - __main__ - INFO - Plotting recruitment curves ...\n",
      "2023-09-27 17:54:07,258 - hbmep.model.baseline - INFO - Rendering ...\n",
      "2023-09-27 17:54:11,630 - hbmep.model.baseline - INFO - Saved to /home/vishu/repos/hbmep-paper/reports/human/intraoperative/power-analysis/draw_2829/N_12/seed_698/recruitment_curves.pdf\n",
      "2023-09-27 17:54:11,631 - hbmep.utils.utils - INFO - func:render_recruitment_curves took: 4.38 sec\n",
      "2023-09-27 17:54:11,631 - __main__ - INFO - Plotting posterior checks ...\n",
      "2023-09-27 17:54:11,652 - hbmep.model.baseline - INFO - Rendering Posterior Predictive Check ...\n",
      "2023-09-27 17:54:17,768 - hbmep.model.baseline - INFO - Saved to /home/vishu/repos/hbmep-paper/reports/human/intraoperative/power-analysis/draw_2829/N_12/seed_698/posterior_predictive_check.pdf\n",
      "2023-09-27 17:54:17,768 - hbmep.utils.utils - INFO - func:_render_predictive_check took: 6.14 sec\n",
      "2023-09-27 17:54:17,769 - hbmep.utils.utils - INFO - func:render_predictive_check took: 6.14 sec\n",
      "2023-09-27 17:54:18,649 - __main__ - INFO - \n",
      "\n",
      "Draw:1/50, N:4/6, Repeat:10/10\n",
      "2023-09-27 17:54:18,652 - __main__ - INFO - Seed:677, Subjects: 156, 108, 186, 126, 124, 173, 91, 18, 28, 178, 76, 122\n",
      "2023-09-27 17:54:18,653 - hbmep.config - INFO - Verifying configuration ...\n",
      "2023-09-27 17:54:18,653 - hbmep.config - INFO - Success!\n",
      "2023-09-27 17:54:18,654 - hbmep.model.baseline - INFO - Initialized model with hierarchical_bayesian link\n",
      "2023-09-27 17:54:18,654 - hbmep.dataset.core - INFO - Artefacts will be stored here - /home/vishu/repos/hbmep-paper/reports/human/intraoperative/power-analysis/draw_2829/N_12/seed_677\n",
      "2023-09-27 17:54:18,654 - hbmep.dataset.core - INFO - Copied config to /home/vishu/repos/hbmep-paper/reports/human/intraoperative/power-analysis/draw_2829/N_12/seed_677\n",
      "2023-09-27 17:54:18,655 - hbmep.dataset.core - INFO - Processing data ...\n",
      "2023-09-27 17:54:18,656 - hbmep.utils.utils - INFO - func:load took: 0.00 sec\n",
      "2023-09-27 17:54:18,656 - __main__ - INFO - Fitting ...\n",
      "2023-09-27 17:54:18,657 - hbmep.model.baseline - INFO - Running inference with hierarchical_bayesian ...\n"
     ]
    },
    {
     "data": {
      "application/vnd.jupyter.widget-view+json": {
       "model_id": "faf94aa6195742e8aaec40ef605072b4",
       "version_major": 2,
       "version_minor": 0
      },
      "text/plain": [
       "  0%|          | 0/1500 [00:00<?, ?it/s]"
      ]
     },
     "metadata": {},
     "output_type": "display_data"
    },
    {
     "data": {
      "application/vnd.jupyter.widget-view+json": {
       "model_id": "580a2cb9a1f0447bb9ee5a3fef8a2b74",
       "version_major": 2,
       "version_minor": 0
      },
      "text/plain": [
       "  0%|          | 0/1500 [00:00<?, ?it/s]"
      ]
     },
     "metadata": {},
     "output_type": "display_data"
    },
    {
     "data": {
      "application/vnd.jupyter.widget-view+json": {
       "model_id": "4ee87d4611254a4981e62cf012489335",
       "version_major": 2,
       "version_minor": 0
      },
      "text/plain": [
       "  0%|          | 0/1500 [00:00<?, ?it/s]"
      ]
     },
     "metadata": {},
     "output_type": "display_data"
    },
    {
     "data": {
      "application/vnd.jupyter.widget-view+json": {
       "model_id": "83a6a04e674c4f9cbff5fa8c11781cde",
       "version_major": 2,
       "version_minor": 0
      },
      "text/plain": [
       "  0%|          | 0/1500 [00:00<?, ?it/s]"
      ]
     },
     "metadata": {},
     "output_type": "display_data"
    },
    {
     "name": "stderr",
     "output_type": "stream",
     "text": [
      "2023-09-27 17:55:29,519 - hbmep.utils.utils - INFO - func:run_inference took: 1 min and 10.86 sec\n",
      "2023-09-27 17:55:29,520 - __main__ - INFO - Predicting ...\n",
      "2023-09-27 17:55:29,524 - hbmep.utils.utils - INFO - func:make_prediction_dataset took: 0.00 sec\n",
      "2023-09-27 17:55:33,384 - hbmep.utils.utils - INFO - func:predict took: 3.86 sec\n",
      "2023-09-27 17:55:33,384 - __main__ - INFO - Plotting recruitment curves ...\n",
      "2023-09-27 17:55:33,396 - hbmep.model.baseline - INFO - Rendering ...\n",
      "2023-09-27 17:55:37,776 - hbmep.model.baseline - INFO - Saved to /home/vishu/repos/hbmep-paper/reports/human/intraoperative/power-analysis/draw_2829/N_12/seed_677/recruitment_curves.pdf\n",
      "2023-09-27 17:55:37,777 - hbmep.utils.utils - INFO - func:render_recruitment_curves took: 4.39 sec\n",
      "2023-09-27 17:55:37,777 - __main__ - INFO - Plotting posterior checks ...\n",
      "2023-09-27 17:55:37,798 - hbmep.model.baseline - INFO - Rendering Posterior Predictive Check ...\n",
      "2023-09-27 17:55:43,923 - hbmep.model.baseline - INFO - Saved to /home/vishu/repos/hbmep-paper/reports/human/intraoperative/power-analysis/draw_2829/N_12/seed_677/posterior_predictive_check.pdf\n",
      "2023-09-27 17:55:43,923 - hbmep.utils.utils - INFO - func:_render_predictive_check took: 6.15 sec\n",
      "2023-09-27 17:55:43,924 - hbmep.utils.utils - INFO - func:render_predictive_check took: 6.15 sec\n",
      "2023-09-27 17:55:44,835 - __main__ - INFO - \n",
      "\n",
      "Draw:1/50, N:5/6, Repeat:1/10\n",
      "2023-09-27 17:55:44,844 - __main__ - INFO - Seed:339, Subjects: 67, 138, 116, 43, 140, 161, 181, 178, 17, 167, 102, 36, 190, 125, 53, 130\n",
      "2023-09-27 17:55:44,846 - hbmep.config - INFO - Verifying configuration ...\n",
      "2023-09-27 17:55:44,846 - hbmep.config - INFO - Success!\n",
      "2023-09-27 17:55:44,846 - hbmep.model.baseline - INFO - Initialized model with hierarchical_bayesian link\n",
      "2023-09-27 17:55:44,847 - hbmep.dataset.core - INFO - Artefacts will be stored here - /home/vishu/repos/hbmep-paper/reports/human/intraoperative/power-analysis/draw_2829/N_16/seed_339\n",
      "2023-09-27 17:55:44,847 - hbmep.dataset.core - INFO - Copied config to /home/vishu/repos/hbmep-paper/reports/human/intraoperative/power-analysis/draw_2829/N_16/seed_339\n",
      "2023-09-27 17:55:44,848 - hbmep.dataset.core - INFO - Processing data ...\n",
      "2023-09-27 17:55:44,848 - hbmep.utils.utils - INFO - func:load took: 0.00 sec\n",
      "2023-09-27 17:55:44,849 - __main__ - INFO - Fitting ...\n",
      "2023-09-27 17:55:44,849 - hbmep.model.baseline - INFO - Running inference with hierarchical_bayesian ...\n"
     ]
    },
    {
     "data": {
      "application/vnd.jupyter.widget-view+json": {
       "model_id": "438e9593f2354fe2a8961f497bc19dd8",
       "version_major": 2,
       "version_minor": 0
      },
      "text/plain": [
       "  0%|          | 0/1500 [00:00<?, ?it/s]"
      ]
     },
     "metadata": {},
     "output_type": "display_data"
    },
    {
     "data": {
      "application/vnd.jupyter.widget-view+json": {
       "model_id": "4b27dfebf03840e393de31e7bc0b55bb",
       "version_major": 2,
       "version_minor": 0
      },
      "text/plain": [
       "  0%|          | 0/1500 [00:00<?, ?it/s]"
      ]
     },
     "metadata": {},
     "output_type": "display_data"
    },
    {
     "data": {
      "application/vnd.jupyter.widget-view+json": {
       "model_id": "b48dfade8dce4e9a8344e117f1b4133a",
       "version_major": 2,
       "version_minor": 0
      },
      "text/plain": [
       "  0%|          | 0/1500 [00:00<?, ?it/s]"
      ]
     },
     "metadata": {},
     "output_type": "display_data"
    },
    {
     "data": {
      "application/vnd.jupyter.widget-view+json": {
       "model_id": "304512a2603e4c1a8220739770a7670a",
       "version_major": 2,
       "version_minor": 0
      },
      "text/plain": [
       "  0%|          | 0/1500 [00:00<?, ?it/s]"
      ]
     },
     "metadata": {},
     "output_type": "display_data"
    },
    {
     "name": "stderr",
     "output_type": "stream",
     "text": [
      "2023-09-27 17:58:17,536 - hbmep.utils.utils - INFO - func:run_inference took: 2 min and 32.69 sec\n",
      "2023-09-27 17:58:17,537 - __main__ - INFO - Predicting ...\n",
      "2023-09-27 17:58:17,542 - hbmep.utils.utils - INFO - func:make_prediction_dataset took: 0.00 sec\n",
      "2023-09-27 17:58:22,554 - hbmep.utils.utils - INFO - func:predict took: 5.01 sec\n",
      "2023-09-27 17:58:22,554 - __main__ - INFO - Plotting recruitment curves ...\n",
      "2023-09-27 17:58:22,569 - hbmep.model.baseline - INFO - Rendering ...\n",
      "2023-09-27 17:58:28,457 - hbmep.model.baseline - INFO - Saved to /home/vishu/repos/hbmep-paper/reports/human/intraoperative/power-analysis/draw_2829/N_16/seed_339/recruitment_curves.pdf\n",
      "2023-09-27 17:58:28,458 - hbmep.utils.utils - INFO - func:render_recruitment_curves took: 5.90 sec\n",
      "2023-09-27 17:58:28,458 - __main__ - INFO - Plotting posterior checks ...\n",
      "2023-09-27 17:58:28,485 - hbmep.model.baseline - INFO - Rendering Posterior Predictive Check ...\n",
      "2023-09-27 17:58:36,537 - hbmep.model.baseline - INFO - Saved to /home/vishu/repos/hbmep-paper/reports/human/intraoperative/power-analysis/draw_2829/N_16/seed_339/posterior_predictive_check.pdf\n",
      "2023-09-27 17:58:36,538 - hbmep.utils.utils - INFO - func:_render_predictive_check took: 8.08 sec\n",
      "2023-09-27 17:58:36,538 - hbmep.utils.utils - INFO - func:render_predictive_check took: 8.08 sec\n",
      "2023-09-27 17:58:37,525 - __main__ - INFO - \n",
      "\n",
      "Draw:1/50, N:5/6, Repeat:2/10\n",
      "2023-09-27 17:58:37,530 - __main__ - INFO - Seed:777, Subjects: 23, 34, 144, 97, 27, 47, 92, 191, 80, 148, 82, 15, 4, 81, 25, 166\n",
      "2023-09-27 17:58:37,531 - hbmep.config - INFO - Verifying configuration ...\n",
      "2023-09-27 17:58:37,532 - hbmep.config - INFO - Success!\n",
      "2023-09-27 17:58:37,532 - hbmep.model.baseline - INFO - Initialized model with hierarchical_bayesian link\n",
      "2023-09-27 17:58:37,533 - hbmep.dataset.core - INFO - Artefacts will be stored here - /home/vishu/repos/hbmep-paper/reports/human/intraoperative/power-analysis/draw_2829/N_16/seed_777\n",
      "2023-09-27 17:58:37,533 - hbmep.dataset.core - INFO - Copied config to /home/vishu/repos/hbmep-paper/reports/human/intraoperative/power-analysis/draw_2829/N_16/seed_777\n",
      "2023-09-27 17:58:37,534 - hbmep.dataset.core - INFO - Processing data ...\n",
      "2023-09-27 17:58:37,534 - hbmep.utils.utils - INFO - func:load took: 0.00 sec\n",
      "2023-09-27 17:58:37,535 - __main__ - INFO - Fitting ...\n",
      "2023-09-27 17:58:37,535 - hbmep.model.baseline - INFO - Running inference with hierarchical_bayesian ...\n"
     ]
    },
    {
     "data": {
      "application/vnd.jupyter.widget-view+json": {
       "model_id": "62fa728681514416ba2ad9cb75fc0dbd",
       "version_major": 2,
       "version_minor": 0
      },
      "text/plain": [
       "  0%|          | 0/1500 [00:00<?, ?it/s]"
      ]
     },
     "metadata": {},
     "output_type": "display_data"
    },
    {
     "data": {
      "application/vnd.jupyter.widget-view+json": {
       "model_id": "9d9be14872244a31b12d60a9299b1546",
       "version_major": 2,
       "version_minor": 0
      },
      "text/plain": [
       "  0%|          | 0/1500 [00:00<?, ?it/s]"
      ]
     },
     "metadata": {},
     "output_type": "display_data"
    },
    {
     "data": {
      "application/vnd.jupyter.widget-view+json": {
       "model_id": "faf49ad6927e4f2cac5d0bfed6b5c96d",
       "version_major": 2,
       "version_minor": 0
      },
      "text/plain": [
       "  0%|          | 0/1500 [00:00<?, ?it/s]"
      ]
     },
     "metadata": {},
     "output_type": "display_data"
    },
    {
     "data": {
      "application/vnd.jupyter.widget-view+json": {
       "model_id": "9154ac42045f4ed39dde92f93f84c577",
       "version_major": 2,
       "version_minor": 0
      },
      "text/plain": [
       "  0%|          | 0/1500 [00:00<?, ?it/s]"
      ]
     },
     "metadata": {},
     "output_type": "display_data"
    },
    {
     "name": "stderr",
     "output_type": "stream",
     "text": [
      "2023-09-27 18:00:59,447 - hbmep.utils.utils - INFO - func:run_inference took: 2 min and 21.91 sec\n",
      "2023-09-27 18:00:59,448 - __main__ - INFO - Predicting ...\n",
      "2023-09-27 18:00:59,453 - hbmep.utils.utils - INFO - func:make_prediction_dataset took: 0.00 sec\n",
      "2023-09-27 18:01:04,487 - hbmep.utils.utils - INFO - func:predict took: 5.03 sec\n",
      "2023-09-27 18:01:04,487 - __main__ - INFO - Plotting recruitment curves ...\n",
      "2023-09-27 18:01:04,502 - hbmep.model.baseline - INFO - Rendering ...\n",
      "2023-09-27 18:01:10,415 - hbmep.model.baseline - INFO - Saved to /home/vishu/repos/hbmep-paper/reports/human/intraoperative/power-analysis/draw_2829/N_16/seed_777/recruitment_curves.pdf\n",
      "2023-09-27 18:01:10,415 - hbmep.utils.utils - INFO - func:render_recruitment_curves took: 5.93 sec\n",
      "2023-09-27 18:01:10,416 - __main__ - INFO - Plotting posterior checks ...\n",
      "2023-09-27 18:01:10,443 - hbmep.model.baseline - INFO - Rendering Posterior Predictive Check ...\n",
      "2023-09-27 18:01:18,530 - hbmep.model.baseline - INFO - Saved to /home/vishu/repos/hbmep-paper/reports/human/intraoperative/power-analysis/draw_2829/N_16/seed_777/posterior_predictive_check.pdf\n",
      "2023-09-27 18:01:18,531 - hbmep.utils.utils - INFO - func:_render_predictive_check took: 8.11 sec\n",
      "2023-09-27 18:01:18,531 - hbmep.utils.utils - INFO - func:render_predictive_check took: 8.11 sec\n",
      "2023-09-27 18:01:19,551 - __main__ - INFO - \n",
      "\n",
      "Draw:1/50, N:5/6, Repeat:3/10\n",
      "2023-09-27 18:01:19,554 - __main__ - INFO - Seed:129, Subjects: 151, 192, 17, 74, 11, 14, 148, 173, 164, 38, 85, 168, 72, 79, 83, 30\n",
      "2023-09-27 18:01:19,555 - hbmep.config - INFO - Verifying configuration ...\n",
      "2023-09-27 18:01:19,555 - hbmep.config - INFO - Success!\n",
      "2023-09-27 18:01:19,556 - hbmep.model.baseline - INFO - Initialized model with hierarchical_bayesian link\n",
      "2023-09-27 18:01:19,556 - hbmep.dataset.core - INFO - Artefacts will be stored here - /home/vishu/repos/hbmep-paper/reports/human/intraoperative/power-analysis/draw_2829/N_16/seed_129\n",
      "2023-09-27 18:01:19,556 - hbmep.dataset.core - INFO - Copied config to /home/vishu/repos/hbmep-paper/reports/human/intraoperative/power-analysis/draw_2829/N_16/seed_129\n",
      "2023-09-27 18:01:19,557 - hbmep.dataset.core - INFO - Processing data ...\n",
      "2023-09-27 18:01:19,558 - hbmep.utils.utils - INFO - func:load took: 0.00 sec\n",
      "2023-09-27 18:01:19,558 - __main__ - INFO - Fitting ...\n",
      "2023-09-27 18:01:19,558 - hbmep.model.baseline - INFO - Running inference with hierarchical_bayesian ...\n"
     ]
    },
    {
     "data": {
      "application/vnd.jupyter.widget-view+json": {
       "model_id": "a5fa0f8b57504241a8599d05c6a25f86",
       "version_major": 2,
       "version_minor": 0
      },
      "text/plain": [
       "  0%|          | 0/1500 [00:00<?, ?it/s]"
      ]
     },
     "metadata": {},
     "output_type": "display_data"
    },
    {
     "data": {
      "application/vnd.jupyter.widget-view+json": {
       "model_id": "a5b02f7e6cb54cafbd5d77df6aa8090d",
       "version_major": 2,
       "version_minor": 0
      },
      "text/plain": [
       "  0%|          | 0/1500 [00:00<?, ?it/s]"
      ]
     },
     "metadata": {},
     "output_type": "display_data"
    },
    {
     "data": {
      "application/vnd.jupyter.widget-view+json": {
       "model_id": "a6c12af3c11d48f49a9013a3af34f01f",
       "version_major": 2,
       "version_minor": 0
      },
      "text/plain": [
       "  0%|          | 0/1500 [00:00<?, ?it/s]"
      ]
     },
     "metadata": {},
     "output_type": "display_data"
    },
    {
     "data": {
      "application/vnd.jupyter.widget-view+json": {
       "model_id": "d82da23ac189421c8eba30ca69bf9d1e",
       "version_major": 2,
       "version_minor": 0
      },
      "text/plain": [
       "  0%|          | 0/1500 [00:00<?, ?it/s]"
      ]
     },
     "metadata": {},
     "output_type": "display_data"
    },
    {
     "name": "stderr",
     "output_type": "stream",
     "text": [
      "2023-09-27 18:03:21,215 - hbmep.utils.utils - INFO - func:run_inference took: 2 min and 1.66 sec\n",
      "2023-09-27 18:03:21,215 - __main__ - INFO - Predicting ...\n",
      "2023-09-27 18:03:21,220 - hbmep.utils.utils - INFO - func:make_prediction_dataset took: 0.00 sec\n",
      "2023-09-27 18:03:26,222 - hbmep.utils.utils - INFO - func:predict took: 5.00 sec\n",
      "2023-09-27 18:03:26,223 - __main__ - INFO - Plotting recruitment curves ...\n",
      "2023-09-27 18:03:26,237 - hbmep.model.baseline - INFO - Rendering ...\n",
      "2023-09-27 18:03:32,205 - hbmep.model.baseline - INFO - Saved to /home/vishu/repos/hbmep-paper/reports/human/intraoperative/power-analysis/draw_2829/N_16/seed_129/recruitment_curves.pdf\n",
      "2023-09-27 18:03:32,205 - hbmep.utils.utils - INFO - func:render_recruitment_curves took: 5.98 sec\n",
      "2023-09-27 18:03:32,206 - __main__ - INFO - Plotting posterior checks ...\n",
      "2023-09-27 18:03:32,233 - hbmep.model.baseline - INFO - Rendering Posterior Predictive Check ...\n",
      "2023-09-27 18:03:40,335 - hbmep.model.baseline - INFO - Saved to /home/vishu/repos/hbmep-paper/reports/human/intraoperative/power-analysis/draw_2829/N_16/seed_129/posterior_predictive_check.pdf\n",
      "2023-09-27 18:03:40,336 - hbmep.utils.utils - INFO - func:_render_predictive_check took: 8.13 sec\n",
      "2023-09-27 18:03:40,336 - hbmep.utils.utils - INFO - func:render_predictive_check took: 8.13 sec\n",
      "2023-09-27 18:03:41,391 - __main__ - INFO - \n",
      "\n",
      "Draw:1/50, N:5/6, Repeat:4/10\n",
      "2023-09-27 18:03:41,394 - __main__ - INFO - Seed:822, Subjects: 98, 32, 121, 186, 20, 191, 147, 172, 14, 143, 189, 83, 62, 146, 67, 158\n",
      "2023-09-27 18:03:41,395 - hbmep.config - INFO - Verifying configuration ...\n",
      "2023-09-27 18:03:41,395 - hbmep.config - INFO - Success!\n",
      "2023-09-27 18:03:41,396 - hbmep.model.baseline - INFO - Initialized model with hierarchical_bayesian link\n",
      "2023-09-27 18:03:41,396 - hbmep.dataset.core - INFO - Artefacts will be stored here - /home/vishu/repos/hbmep-paper/reports/human/intraoperative/power-analysis/draw_2829/N_16/seed_822\n",
      "2023-09-27 18:03:41,397 - hbmep.dataset.core - INFO - Copied config to /home/vishu/repos/hbmep-paper/reports/human/intraoperative/power-analysis/draw_2829/N_16/seed_822\n",
      "2023-09-27 18:03:41,397 - hbmep.dataset.core - INFO - Processing data ...\n",
      "2023-09-27 18:03:41,398 - hbmep.utils.utils - INFO - func:load took: 0.00 sec\n",
      "2023-09-27 18:03:41,398 - __main__ - INFO - Fitting ...\n",
      "2023-09-27 18:03:41,398 - hbmep.model.baseline - INFO - Running inference with hierarchical_bayesian ...\n"
     ]
    },
    {
     "data": {
      "application/vnd.jupyter.widget-view+json": {
       "model_id": "3512f164095b4b74bea4a84ec69f961f",
       "version_major": 2,
       "version_minor": 0
      },
      "text/plain": [
       "  0%|          | 0/1500 [00:00<?, ?it/s]"
      ]
     },
     "metadata": {},
     "output_type": "display_data"
    },
    {
     "data": {
      "application/vnd.jupyter.widget-view+json": {
       "model_id": "2743197e0be941ccbfbbfe60e86361ca",
       "version_major": 2,
       "version_minor": 0
      },
      "text/plain": [
       "  0%|          | 0/1500 [00:00<?, ?it/s]"
      ]
     },
     "metadata": {},
     "output_type": "display_data"
    },
    {
     "data": {
      "application/vnd.jupyter.widget-view+json": {
       "model_id": "fd513f5319f14aa3ae274c953f9289be",
       "version_major": 2,
       "version_minor": 0
      },
      "text/plain": [
       "  0%|          | 0/1500 [00:00<?, ?it/s]"
      ]
     },
     "metadata": {},
     "output_type": "display_data"
    },
    {
     "data": {
      "application/vnd.jupyter.widget-view+json": {
       "model_id": "279029de653546498c4dacb5ba32c0af",
       "version_major": 2,
       "version_minor": 0
      },
      "text/plain": [
       "  0%|          | 0/1500 [00:00<?, ?it/s]"
      ]
     },
     "metadata": {},
     "output_type": "display_data"
    },
    {
     "name": "stderr",
     "output_type": "stream",
     "text": [
      "2023-09-27 18:06:02,857 - hbmep.utils.utils - INFO - func:run_inference took: 2 min and 21.46 sec\n",
      "2023-09-27 18:06:02,858 - __main__ - INFO - Predicting ...\n",
      "2023-09-27 18:06:02,863 - hbmep.utils.utils - INFO - func:make_prediction_dataset took: 0.00 sec\n",
      "2023-09-27 18:06:07,874 - hbmep.utils.utils - INFO - func:predict took: 5.01 sec\n",
      "2023-09-27 18:06:07,874 - __main__ - INFO - Plotting recruitment curves ...\n",
      "2023-09-27 18:06:07,889 - hbmep.model.baseline - INFO - Rendering ...\n",
      "2023-09-27 18:06:13,851 - hbmep.model.baseline - INFO - Saved to /home/vishu/repos/hbmep-paper/reports/human/intraoperative/power-analysis/draw_2829/N_16/seed_822/recruitment_curves.pdf\n",
      "2023-09-27 18:06:13,851 - hbmep.utils.utils - INFO - func:render_recruitment_curves took: 5.98 sec\n",
      "2023-09-27 18:06:13,851 - __main__ - INFO - Plotting posterior checks ...\n",
      "2023-09-27 18:06:13,879 - hbmep.model.baseline - INFO - Rendering Posterior Predictive Check ...\n",
      "2023-09-27 18:06:22,052 - hbmep.model.baseline - INFO - Saved to /home/vishu/repos/hbmep-paper/reports/human/intraoperative/power-analysis/draw_2829/N_16/seed_822/posterior_predictive_check.pdf\n",
      "2023-09-27 18:06:22,053 - hbmep.utils.utils - INFO - func:_render_predictive_check took: 8.20 sec\n",
      "2023-09-27 18:06:22,054 - hbmep.utils.utils - INFO - func:render_predictive_check took: 8.20 sec\n",
      "2023-09-27 18:06:23,116 - __main__ - INFO - \n",
      "\n",
      "Draw:1/50, N:5/6, Repeat:5/10\n",
      "2023-09-27 18:06:23,122 - __main__ - INFO - Seed:616, Subjects: 130, 39, 87, 96, 158, 162, 160, 71, 142, 4, 8, 195, 132, 76, 188, 50\n",
      "2023-09-27 18:06:23,123 - hbmep.config - INFO - Verifying configuration ...\n",
      "2023-09-27 18:06:23,123 - hbmep.config - INFO - Success!\n",
      "2023-09-27 18:06:23,124 - hbmep.model.baseline - INFO - Initialized model with hierarchical_bayesian link\n",
      "2023-09-27 18:06:23,124 - hbmep.dataset.core - INFO - Artefacts will be stored here - /home/vishu/repos/hbmep-paper/reports/human/intraoperative/power-analysis/draw_2829/N_16/seed_616\n",
      "2023-09-27 18:06:23,124 - hbmep.dataset.core - INFO - Copied config to /home/vishu/repos/hbmep-paper/reports/human/intraoperative/power-analysis/draw_2829/N_16/seed_616\n",
      "2023-09-27 18:06:23,125 - hbmep.dataset.core - INFO - Processing data ...\n",
      "2023-09-27 18:06:23,126 - hbmep.utils.utils - INFO - func:load took: 0.00 sec\n",
      "2023-09-27 18:06:23,126 - __main__ - INFO - Fitting ...\n",
      "2023-09-27 18:06:23,126 - hbmep.model.baseline - INFO - Running inference with hierarchical_bayesian ...\n"
     ]
    },
    {
     "data": {
      "application/vnd.jupyter.widget-view+json": {
       "model_id": "5f3378deb84c4aff971b1f1cc41c9adb",
       "version_major": 2,
       "version_minor": 0
      },
      "text/plain": [
       "  0%|          | 0/1500 [00:00<?, ?it/s]"
      ]
     },
     "metadata": {},
     "output_type": "display_data"
    },
    {
     "data": {
      "application/vnd.jupyter.widget-view+json": {
       "model_id": "d3167c35162f4e91b42efc8f3e1b1d93",
       "version_major": 2,
       "version_minor": 0
      },
      "text/plain": [
       "  0%|          | 0/1500 [00:00<?, ?it/s]"
      ]
     },
     "metadata": {},
     "output_type": "display_data"
    },
    {
     "data": {
      "application/vnd.jupyter.widget-view+json": {
       "model_id": "bbadefc9bc0c4b39976ed4ddcbe99439",
       "version_major": 2,
       "version_minor": 0
      },
      "text/plain": [
       "  0%|          | 0/1500 [00:00<?, ?it/s]"
      ]
     },
     "metadata": {},
     "output_type": "display_data"
    },
    {
     "data": {
      "application/vnd.jupyter.widget-view+json": {
       "model_id": "ddee14059c0048ed9bf219a36697ce74",
       "version_major": 2,
       "version_minor": 0
      },
      "text/plain": [
       "  0%|          | 0/1500 [00:00<?, ?it/s]"
      ]
     },
     "metadata": {},
     "output_type": "display_data"
    },
    {
     "name": "stderr",
     "output_type": "stream",
     "text": [
      "2023-09-27 18:08:39,613 - hbmep.utils.utils - INFO - func:run_inference took: 2 min and 16.49 sec\n",
      "2023-09-27 18:08:39,613 - __main__ - INFO - Predicting ...\n",
      "2023-09-27 18:08:39,618 - hbmep.utils.utils - INFO - func:make_prediction_dataset took: 0.00 sec\n",
      "2023-09-27 18:08:44,629 - hbmep.utils.utils - INFO - func:predict took: 5.01 sec\n",
      "2023-09-27 18:08:44,630 - __main__ - INFO - Plotting recruitment curves ...\n",
      "2023-09-27 18:08:44,645 - hbmep.model.baseline - INFO - Rendering ...\n",
      "2023-09-27 18:08:50,602 - hbmep.model.baseline - INFO - Saved to /home/vishu/repos/hbmep-paper/reports/human/intraoperative/power-analysis/draw_2829/N_16/seed_616/recruitment_curves.pdf\n",
      "2023-09-27 18:08:50,603 - hbmep.utils.utils - INFO - func:render_recruitment_curves took: 5.97 sec\n",
      "2023-09-27 18:08:50,603 - __main__ - INFO - Plotting posterior checks ...\n",
      "2023-09-27 18:08:50,630 - hbmep.model.baseline - INFO - Rendering Posterior Predictive Check ...\n",
      "2023-09-27 18:08:58,852 - hbmep.model.baseline - INFO - Saved to /home/vishu/repos/hbmep-paper/reports/human/intraoperative/power-analysis/draw_2829/N_16/seed_616/posterior_predictive_check.pdf\n",
      "2023-09-27 18:08:58,853 - hbmep.utils.utils - INFO - func:_render_predictive_check took: 8.25 sec\n",
      "2023-09-27 18:08:58,853 - hbmep.utils.utils - INFO - func:render_predictive_check took: 8.25 sec\n",
      "2023-09-27 18:08:59,935 - __main__ - INFO - \n",
      "\n",
      "Draw:1/50, N:5/6, Repeat:6/10\n",
      "2023-09-27 18:08:59,938 - __main__ - INFO - Seed:214, Subjects: 120, 179, 25, 125, 196, 84, 64, 53, 115, 72, 134, 106, 111, 70, 66, 36\n",
      "2023-09-27 18:08:59,939 - hbmep.config - INFO - Verifying configuration ...\n",
      "2023-09-27 18:08:59,939 - hbmep.config - INFO - Success!\n",
      "2023-09-27 18:08:59,940 - hbmep.model.baseline - INFO - Initialized model with hierarchical_bayesian link\n",
      "2023-09-27 18:08:59,940 - hbmep.dataset.core - INFO - Artefacts will be stored here - /home/vishu/repos/hbmep-paper/reports/human/intraoperative/power-analysis/draw_2829/N_16/seed_214\n",
      "2023-09-27 18:08:59,940 - hbmep.dataset.core - INFO - Copied config to /home/vishu/repos/hbmep-paper/reports/human/intraoperative/power-analysis/draw_2829/N_16/seed_214\n",
      "2023-09-27 18:08:59,941 - hbmep.dataset.core - INFO - Processing data ...\n",
      "2023-09-27 18:08:59,942 - hbmep.utils.utils - INFO - func:load took: 0.00 sec\n",
      "2023-09-27 18:08:59,942 - __main__ - INFO - Fitting ...\n",
      "2023-09-27 18:08:59,942 - hbmep.model.baseline - INFO - Running inference with hierarchical_bayesian ...\n"
     ]
    },
    {
     "data": {
      "application/vnd.jupyter.widget-view+json": {
       "model_id": "b8012f569b6f4291b0eeeefe402b2155",
       "version_major": 2,
       "version_minor": 0
      },
      "text/plain": [
       "  0%|          | 0/1500 [00:00<?, ?it/s]"
      ]
     },
     "metadata": {},
     "output_type": "display_data"
    },
    {
     "data": {
      "application/vnd.jupyter.widget-view+json": {
       "model_id": "b103fb4af44641d8863ed7460357193e",
       "version_major": 2,
       "version_minor": 0
      },
      "text/plain": [
       "  0%|          | 0/1500 [00:00<?, ?it/s]"
      ]
     },
     "metadata": {},
     "output_type": "display_data"
    },
    {
     "data": {
      "application/vnd.jupyter.widget-view+json": {
       "model_id": "8e47e702ea5b40eda5e982a62ef4f3a0",
       "version_major": 2,
       "version_minor": 0
      },
      "text/plain": [
       "  0%|          | 0/1500 [00:00<?, ?it/s]"
      ]
     },
     "metadata": {},
     "output_type": "display_data"
    },
    {
     "data": {
      "application/vnd.jupyter.widget-view+json": {
       "model_id": "c1c969f8349a40ce8ceb39b4d2c7b1cc",
       "version_major": 2,
       "version_minor": 0
      },
      "text/plain": [
       "  0%|          | 0/1500 [00:00<?, ?it/s]"
      ]
     },
     "metadata": {},
     "output_type": "display_data"
    },
    {
     "name": "stderr",
     "output_type": "stream",
     "text": [
      "2023-09-27 18:11:29,083 - hbmep.utils.utils - INFO - func:run_inference took: 2 min and 29.14 sec\n",
      "2023-09-27 18:11:29,084 - __main__ - INFO - Predicting ...\n",
      "2023-09-27 18:11:29,089 - hbmep.utils.utils - INFO - func:make_prediction_dataset took: 0.00 sec\n",
      "2023-09-27 18:11:34,094 - hbmep.utils.utils - INFO - func:predict took: 5.00 sec\n",
      "2023-09-27 18:11:34,095 - __main__ - INFO - Plotting recruitment curves ...\n",
      "2023-09-27 18:11:34,110 - hbmep.model.baseline - INFO - Rendering ...\n",
      "2023-09-27 18:11:40,066 - hbmep.model.baseline - INFO - Saved to /home/vishu/repos/hbmep-paper/reports/human/intraoperative/power-analysis/draw_2829/N_16/seed_214/recruitment_curves.pdf\n",
      "2023-09-27 18:11:40,067 - hbmep.utils.utils - INFO - func:render_recruitment_curves took: 5.97 sec\n",
      "2023-09-27 18:11:40,067 - __main__ - INFO - Plotting posterior checks ...\n",
      "2023-09-27 18:11:40,094 - hbmep.model.baseline - INFO - Rendering Posterior Predictive Check ...\n",
      "2023-09-27 18:11:48,305 - hbmep.model.baseline - INFO - Saved to /home/vishu/repos/hbmep-paper/reports/human/intraoperative/power-analysis/draw_2829/N_16/seed_214/posterior_predictive_check.pdf\n",
      "2023-09-27 18:11:48,306 - hbmep.utils.utils - INFO - func:_render_predictive_check took: 8.24 sec\n",
      "2023-09-27 18:11:48,306 - hbmep.utils.utils - INFO - func:render_predictive_check took: 8.24 sec\n",
      "2023-09-27 18:11:49,397 - __main__ - INFO - \n",
      "\n",
      "Draw:1/50, N:5/6, Repeat:7/10\n",
      "2023-09-27 18:11:49,403 - __main__ - INFO - Seed:204, Subjects: 195, 25, 42, 54, 1, 66, 19, 69, 15, 105, 95, 163, 22, 100, 32, 104\n",
      "2023-09-27 18:11:49,404 - hbmep.config - INFO - Verifying configuration ...\n",
      "2023-09-27 18:11:49,404 - hbmep.config - INFO - Success!\n",
      "2023-09-27 18:11:49,404 - hbmep.model.baseline - INFO - Initialized model with hierarchical_bayesian link\n",
      "2023-09-27 18:11:49,404 - hbmep.dataset.core - INFO - Artefacts will be stored here - /home/vishu/repos/hbmep-paper/reports/human/intraoperative/power-analysis/draw_2829/N_16/seed_204\n",
      "2023-09-27 18:11:49,405 - hbmep.dataset.core - INFO - Copied config to /home/vishu/repos/hbmep-paper/reports/human/intraoperative/power-analysis/draw_2829/N_16/seed_204\n",
      "2023-09-27 18:11:49,405 - hbmep.dataset.core - INFO - Processing data ...\n",
      "2023-09-27 18:11:49,406 - hbmep.utils.utils - INFO - func:load took: 0.00 sec\n",
      "2023-09-27 18:11:49,406 - __main__ - INFO - Fitting ...\n",
      "2023-09-27 18:11:49,407 - hbmep.model.baseline - INFO - Running inference with hierarchical_bayesian ...\n"
     ]
    },
    {
     "data": {
      "application/vnd.jupyter.widget-view+json": {
       "model_id": "c31be40f30f54ccb96cc5b7cecae968b",
       "version_major": 2,
       "version_minor": 0
      },
      "text/plain": [
       "  0%|          | 0/1500 [00:00<?, ?it/s]"
      ]
     },
     "metadata": {},
     "output_type": "display_data"
    },
    {
     "data": {
      "application/vnd.jupyter.widget-view+json": {
       "model_id": "81d1e3f82bab468b98343860c88a766a",
       "version_major": 2,
       "version_minor": 0
      },
      "text/plain": [
       "  0%|          | 0/1500 [00:00<?, ?it/s]"
      ]
     },
     "metadata": {},
     "output_type": "display_data"
    },
    {
     "data": {
      "application/vnd.jupyter.widget-view+json": {
       "model_id": "8964a6dd484f44f1b7a5575eaf27d029",
       "version_major": 2,
       "version_minor": 0
      },
      "text/plain": [
       "  0%|          | 0/1500 [00:00<?, ?it/s]"
      ]
     },
     "metadata": {},
     "output_type": "display_data"
    },
    {
     "data": {
      "application/vnd.jupyter.widget-view+json": {
       "model_id": "f287c6d2cab548d88a7bf84618d4d3bc",
       "version_major": 2,
       "version_minor": 0
      },
      "text/plain": [
       "  0%|          | 0/1500 [00:00<?, ?it/s]"
      ]
     },
     "metadata": {},
     "output_type": "display_data"
    },
    {
     "name": "stderr",
     "output_type": "stream",
     "text": [
      "2023-09-27 18:14:14,067 - hbmep.utils.utils - INFO - func:run_inference took: 2 min and 24.66 sec\n",
      "2023-09-27 18:14:14,067 - __main__ - INFO - Predicting ...\n",
      "2023-09-27 18:14:14,073 - hbmep.utils.utils - INFO - func:make_prediction_dataset took: 0.00 sec\n",
      "2023-09-27 18:14:19,093 - hbmep.utils.utils - INFO - func:predict took: 5.02 sec\n",
      "2023-09-27 18:14:19,094 - __main__ - INFO - Plotting recruitment curves ...\n",
      "2023-09-27 18:14:19,108 - hbmep.model.baseline - INFO - Rendering ...\n",
      "2023-09-27 18:14:25,018 - hbmep.model.baseline - INFO - Saved to /home/vishu/repos/hbmep-paper/reports/human/intraoperative/power-analysis/draw_2829/N_16/seed_204/recruitment_curves.pdf\n",
      "2023-09-27 18:14:25,019 - hbmep.utils.utils - INFO - func:render_recruitment_curves took: 5.93 sec\n",
      "2023-09-27 18:14:25,020 - __main__ - INFO - Plotting posterior checks ...\n",
      "2023-09-27 18:14:25,048 - hbmep.model.baseline - INFO - Rendering Posterior Predictive Check ...\n",
      "2023-09-27 18:14:33,241 - hbmep.model.baseline - INFO - Saved to /home/vishu/repos/hbmep-paper/reports/human/intraoperative/power-analysis/draw_2829/N_16/seed_204/posterior_predictive_check.pdf\n",
      "2023-09-27 18:14:33,241 - hbmep.utils.utils - INFO - func:_render_predictive_check took: 8.22 sec\n",
      "2023-09-27 18:14:33,242 - hbmep.utils.utils - INFO - func:render_predictive_check took: 8.22 sec\n",
      "2023-09-27 18:14:34,340 - __main__ - INFO - \n",
      "\n",
      "Draw:1/50, N:5/6, Repeat:8/10\n",
      "2023-09-27 18:14:34,343 - __main__ - INFO - Seed:912, Subjects: 108, 85, 144, 90, 97, 14, 64, 164, 53, 135, 158, 126, 11, 130, 162, 74\n",
      "2023-09-27 18:14:34,344 - hbmep.config - INFO - Verifying configuration ...\n",
      "2023-09-27 18:14:34,344 - hbmep.config - INFO - Success!\n",
      "2023-09-27 18:14:34,345 - hbmep.model.baseline - INFO - Initialized model with hierarchical_bayesian link\n",
      "2023-09-27 18:14:34,345 - hbmep.dataset.core - INFO - Artefacts will be stored here - /home/vishu/repos/hbmep-paper/reports/human/intraoperative/power-analysis/draw_2829/N_16/seed_912\n",
      "2023-09-27 18:14:34,345 - hbmep.dataset.core - INFO - Copied config to /home/vishu/repos/hbmep-paper/reports/human/intraoperative/power-analysis/draw_2829/N_16/seed_912\n",
      "2023-09-27 18:14:34,346 - hbmep.dataset.core - INFO - Processing data ...\n",
      "2023-09-27 18:14:34,347 - hbmep.utils.utils - INFO - func:load took: 0.00 sec\n",
      "2023-09-27 18:14:34,347 - __main__ - INFO - Fitting ...\n",
      "2023-09-27 18:14:34,347 - hbmep.model.baseline - INFO - Running inference with hierarchical_bayesian ...\n"
     ]
    },
    {
     "data": {
      "application/vnd.jupyter.widget-view+json": {
       "model_id": "16b39b2c68734adf8c1e1ccfe3dcefdd",
       "version_major": 2,
       "version_minor": 0
      },
      "text/plain": [
       "  0%|          | 0/1500 [00:00<?, ?it/s]"
      ]
     },
     "metadata": {},
     "output_type": "display_data"
    },
    {
     "data": {
      "application/vnd.jupyter.widget-view+json": {
       "model_id": "06d90bac56f948fea8ab424fabf18996",
       "version_major": 2,
       "version_minor": 0
      },
      "text/plain": [
       "  0%|          | 0/1500 [00:00<?, ?it/s]"
      ]
     },
     "metadata": {},
     "output_type": "display_data"
    },
    {
     "data": {
      "application/vnd.jupyter.widget-view+json": {
       "model_id": "67b6a29f6fc94cde80d5fd6b4ef91d5d",
       "version_major": 2,
       "version_minor": 0
      },
      "text/plain": [
       "  0%|          | 0/1500 [00:00<?, ?it/s]"
      ]
     },
     "metadata": {},
     "output_type": "display_data"
    },
    {
     "data": {
      "application/vnd.jupyter.widget-view+json": {
       "model_id": "d14a139dbe3f4b88864844fd2e2f8545",
       "version_major": 2,
       "version_minor": 0
      },
      "text/plain": [
       "  0%|          | 0/1500 [00:00<?, ?it/s]"
      ]
     },
     "metadata": {},
     "output_type": "display_data"
    },
    {
     "name": "stderr",
     "output_type": "stream",
     "text": [
      "2023-09-27 18:16:25,950 - hbmep.utils.utils - INFO - func:run_inference took: 1 min and 51.60 sec\n",
      "2023-09-27 18:16:25,951 - __main__ - INFO - Predicting ...\n",
      "2023-09-27 18:16:25,956 - hbmep.utils.utils - INFO - func:make_prediction_dataset took: 0.00 sec\n",
      "2023-09-27 18:16:30,944 - hbmep.utils.utils - INFO - func:predict took: 4.99 sec\n",
      "2023-09-27 18:16:30,945 - __main__ - INFO - Plotting recruitment curves ...\n",
      "2023-09-27 18:16:30,959 - hbmep.model.baseline - INFO - Rendering ...\n",
      "2023-09-27 18:16:36,937 - hbmep.model.baseline - INFO - Saved to /home/vishu/repos/hbmep-paper/reports/human/intraoperative/power-analysis/draw_2829/N_16/seed_912/recruitment_curves.pdf\n",
      "2023-09-27 18:16:36,938 - hbmep.utils.utils - INFO - func:render_recruitment_curves took: 5.99 sec\n",
      "2023-09-27 18:16:36,939 - __main__ - INFO - Plotting posterior checks ...\n",
      "2023-09-27 18:16:36,966 - hbmep.model.baseline - INFO - Rendering Posterior Predictive Check ...\n",
      "2023-09-27 18:16:45,241 - hbmep.model.baseline - INFO - Saved to /home/vishu/repos/hbmep-paper/reports/human/intraoperative/power-analysis/draw_2829/N_16/seed_912/posterior_predictive_check.pdf\n",
      "2023-09-27 18:16:45,242 - hbmep.utils.utils - INFO - func:_render_predictive_check took: 8.30 sec\n",
      "2023-09-27 18:16:45,242 - hbmep.utils.utils - INFO - func:render_predictive_check took: 8.30 sec\n",
      "2023-09-27 18:16:46,377 - __main__ - INFO - \n",
      "\n",
      "Draw:1/50, N:5/6, Repeat:9/10\n",
      "2023-09-27 18:16:46,381 - __main__ - INFO - Seed:698, Subjects: 50, 190, 14, 153, 33, 159, 185, 131, 155, 187, 85, 129, 97, 195, 48, 92\n",
      "2023-09-27 18:16:46,382 - hbmep.config - INFO - Verifying configuration ...\n",
      "2023-09-27 18:16:46,382 - hbmep.config - INFO - Success!\n",
      "2023-09-27 18:16:46,383 - hbmep.model.baseline - INFO - Initialized model with hierarchical_bayesian link\n",
      "2023-09-27 18:16:46,383 - hbmep.dataset.core - INFO - Artefacts will be stored here - /home/vishu/repos/hbmep-paper/reports/human/intraoperative/power-analysis/draw_2829/N_16/seed_698\n",
      "2023-09-27 18:16:46,383 - hbmep.dataset.core - INFO - Copied config to /home/vishu/repos/hbmep-paper/reports/human/intraoperative/power-analysis/draw_2829/N_16/seed_698\n",
      "2023-09-27 18:16:46,384 - hbmep.dataset.core - INFO - Processing data ...\n",
      "2023-09-27 18:16:46,385 - hbmep.utils.utils - INFO - func:load took: 0.00 sec\n",
      "2023-09-27 18:16:46,385 - __main__ - INFO - Fitting ...\n",
      "2023-09-27 18:16:46,385 - hbmep.model.baseline - INFO - Running inference with hierarchical_bayesian ...\n"
     ]
    },
    {
     "data": {
      "application/vnd.jupyter.widget-view+json": {
       "model_id": "5392ca9acc4e43e18146eeb7ea68e4e0",
       "version_major": 2,
       "version_minor": 0
      },
      "text/plain": [
       "  0%|          | 0/1500 [00:00<?, ?it/s]"
      ]
     },
     "metadata": {},
     "output_type": "display_data"
    },
    {
     "data": {
      "application/vnd.jupyter.widget-view+json": {
       "model_id": "7d9f9faaf95c4f729a1543dfd3e120b5",
       "version_major": 2,
       "version_minor": 0
      },
      "text/plain": [
       "  0%|          | 0/1500 [00:00<?, ?it/s]"
      ]
     },
     "metadata": {},
     "output_type": "display_data"
    },
    {
     "data": {
      "application/vnd.jupyter.widget-view+json": {
       "model_id": "9e3b52c967b0437498a300eb268e760d",
       "version_major": 2,
       "version_minor": 0
      },
      "text/plain": [
       "  0%|          | 0/1500 [00:00<?, ?it/s]"
      ]
     },
     "metadata": {},
     "output_type": "display_data"
    },
    {
     "data": {
      "application/vnd.jupyter.widget-view+json": {
       "model_id": "e2ea28d60985427f927fc876172c050e",
       "version_major": 2,
       "version_minor": 0
      },
      "text/plain": [
       "  0%|          | 0/1500 [00:00<?, ?it/s]"
      ]
     },
     "metadata": {},
     "output_type": "display_data"
    },
    {
     "name": "stderr",
     "output_type": "stream",
     "text": [
      "2023-09-27 18:18:40,599 - hbmep.utils.utils - INFO - func:run_inference took: 1 min and 54.21 sec\n",
      "2023-09-27 18:18:40,600 - __main__ - INFO - Predicting ...\n",
      "2023-09-27 18:18:40,605 - hbmep.utils.utils - INFO - func:make_prediction_dataset took: 0.00 sec\n",
      "2023-09-27 18:18:45,612 - hbmep.utils.utils - INFO - func:predict took: 5.01 sec\n",
      "2023-09-27 18:18:45,612 - __main__ - INFO - Plotting recruitment curves ...\n",
      "2023-09-27 18:18:45,627 - hbmep.model.baseline - INFO - Rendering ...\n",
      "2023-09-27 18:18:51,542 - hbmep.model.baseline - INFO - Saved to /home/vishu/repos/hbmep-paper/reports/human/intraoperative/power-analysis/draw_2829/N_16/seed_698/recruitment_curves.pdf\n",
      "2023-09-27 18:18:51,543 - hbmep.utils.utils - INFO - func:render_recruitment_curves took: 5.93 sec\n",
      "2023-09-27 18:18:51,543 - __main__ - INFO - Plotting posterior checks ...\n",
      "2023-09-27 18:18:51,570 - hbmep.model.baseline - INFO - Rendering Posterior Predictive Check ...\n",
      "2023-09-27 18:18:59,824 - hbmep.model.baseline - INFO - Saved to /home/vishu/repos/hbmep-paper/reports/human/intraoperative/power-analysis/draw_2829/N_16/seed_698/posterior_predictive_check.pdf\n",
      "2023-09-27 18:18:59,825 - hbmep.utils.utils - INFO - func:_render_predictive_check took: 8.28 sec\n",
      "2023-09-27 18:18:59,825 - hbmep.utils.utils - INFO - func:render_predictive_check took: 8.28 sec\n",
      "2023-09-27 18:19:00,995 - __main__ - INFO - \n",
      "\n",
      "Draw:1/50, N:5/6, Repeat:10/10\n",
      "2023-09-27 18:19:00,999 - __main__ - INFO - Seed:677, Subjects: 156, 108, 186, 126, 124, 173, 91, 18, 28, 178, 76, 122, 7, 26, 196, 96\n",
      "2023-09-27 18:19:01,000 - hbmep.config - INFO - Verifying configuration ...\n",
      "2023-09-27 18:19:01,001 - hbmep.config - INFO - Success!\n",
      "2023-09-27 18:19:01,001 - hbmep.model.baseline - INFO - Initialized model with hierarchical_bayesian link\n",
      "2023-09-27 18:19:01,001 - hbmep.dataset.core - INFO - Artefacts will be stored here - /home/vishu/repos/hbmep-paper/reports/human/intraoperative/power-analysis/draw_2829/N_16/seed_677\n",
      "2023-09-27 18:19:01,002 - hbmep.dataset.core - INFO - Copied config to /home/vishu/repos/hbmep-paper/reports/human/intraoperative/power-analysis/draw_2829/N_16/seed_677\n",
      "2023-09-27 18:19:01,002 - hbmep.dataset.core - INFO - Processing data ...\n",
      "2023-09-27 18:19:01,003 - hbmep.utils.utils - INFO - func:load took: 0.00 sec\n",
      "2023-09-27 18:19:01,004 - __main__ - INFO - Fitting ...\n",
      "2023-09-27 18:19:01,004 - hbmep.model.baseline - INFO - Running inference with hierarchical_bayesian ...\n"
     ]
    },
    {
     "data": {
      "application/vnd.jupyter.widget-view+json": {
       "model_id": "c144cc7be8a946bba8ab40ed49ecd080",
       "version_major": 2,
       "version_minor": 0
      },
      "text/plain": [
       "  0%|          | 0/1500 [00:00<?, ?it/s]"
      ]
     },
     "metadata": {},
     "output_type": "display_data"
    },
    {
     "data": {
      "application/vnd.jupyter.widget-view+json": {
       "model_id": "1c6aad4481af4a72856436ca38680bf1",
       "version_major": 2,
       "version_minor": 0
      },
      "text/plain": [
       "  0%|          | 0/1500 [00:00<?, ?it/s]"
      ]
     },
     "metadata": {},
     "output_type": "display_data"
    },
    {
     "data": {
      "application/vnd.jupyter.widget-view+json": {
       "model_id": "19af391421194c61880aa58e49074253",
       "version_major": 2,
       "version_minor": 0
      },
      "text/plain": [
       "  0%|          | 0/1500 [00:00<?, ?it/s]"
      ]
     },
     "metadata": {},
     "output_type": "display_data"
    },
    {
     "data": {
      "application/vnd.jupyter.widget-view+json": {
       "model_id": "92ff458e3b3c4c5aa4f091587f78e96a",
       "version_major": 2,
       "version_minor": 0
      },
      "text/plain": [
       "  0%|          | 0/1500 [00:00<?, ?it/s]"
      ]
     },
     "metadata": {},
     "output_type": "display_data"
    },
    {
     "name": "stderr",
     "output_type": "stream",
     "text": [
      "2023-09-27 18:21:29,493 - hbmep.utils.utils - INFO - func:run_inference took: 2 min and 28.49 sec\n",
      "2023-09-27 18:21:29,494 - __main__ - INFO - Predicting ...\n",
      "2023-09-27 18:21:29,499 - hbmep.utils.utils - INFO - func:make_prediction_dataset took: 0.00 sec\n",
      "2023-09-27 18:21:34,513 - hbmep.utils.utils - INFO - func:predict took: 5.01 sec\n",
      "2023-09-27 18:21:34,513 - __main__ - INFO - Plotting recruitment curves ...\n",
      "2023-09-27 18:21:34,528 - hbmep.model.baseline - INFO - Rendering ...\n",
      "2023-09-27 18:21:40,458 - hbmep.model.baseline - INFO - Saved to /home/vishu/repos/hbmep-paper/reports/human/intraoperative/power-analysis/draw_2829/N_16/seed_677/recruitment_curves.pdf\n",
      "2023-09-27 18:21:40,459 - hbmep.utils.utils - INFO - func:render_recruitment_curves took: 5.95 sec\n",
      "2023-09-27 18:21:40,459 - __main__ - INFO - Plotting posterior checks ...\n",
      "2023-09-27 18:21:40,486 - hbmep.model.baseline - INFO - Rendering Posterior Predictive Check ...\n",
      "2023-09-27 18:21:48,697 - hbmep.model.baseline - INFO - Saved to /home/vishu/repos/hbmep-paper/reports/human/intraoperative/power-analysis/draw_2829/N_16/seed_677/posterior_predictive_check.pdf\n",
      "2023-09-27 18:21:48,697 - hbmep.utils.utils - INFO - func:_render_predictive_check took: 8.24 sec\n",
      "2023-09-27 18:21:48,698 - hbmep.utils.utils - INFO - func:render_predictive_check took: 8.24 sec\n",
      "2023-09-27 18:21:49,854 - __main__ - INFO - \n",
      "\n",
      "Draw:1/50, N:6/6, Repeat:1/10\n",
      "2023-09-27 18:21:49,863 - __main__ - INFO - Seed:339, Subjects: 67, 138, 116, 43, 140, 161, 181, 178, 17, 167, 102, 36, 190, 125, 53, 130, 195, 198, 14, 30\n",
      "2023-09-27 18:21:49,864 - hbmep.config - INFO - Verifying configuration ...\n",
      "2023-09-27 18:21:49,864 - hbmep.config - INFO - Success!\n",
      "2023-09-27 18:21:49,865 - hbmep.model.baseline - INFO - Initialized model with hierarchical_bayesian link\n",
      "2023-09-27 18:21:49,865 - hbmep.dataset.core - INFO - Artefacts will be stored here - /home/vishu/repos/hbmep-paper/reports/human/intraoperative/power-analysis/draw_2829/N_20/seed_339\n",
      "2023-09-27 18:21:49,865 - hbmep.dataset.core - INFO - Copied config to /home/vishu/repos/hbmep-paper/reports/human/intraoperative/power-analysis/draw_2829/N_20/seed_339\n",
      "2023-09-27 18:21:49,866 - hbmep.dataset.core - INFO - Processing data ...\n",
      "2023-09-27 18:21:49,867 - hbmep.utils.utils - INFO - func:load took: 0.00 sec\n",
      "2023-09-27 18:21:49,867 - __main__ - INFO - Fitting ...\n",
      "2023-09-27 18:21:49,867 - hbmep.model.baseline - INFO - Running inference with hierarchical_bayesian ...\n"
     ]
    },
    {
     "data": {
      "application/vnd.jupyter.widget-view+json": {
       "model_id": "bf319823036b44b4946a7c1709ddbe25",
       "version_major": 2,
       "version_minor": 0
      },
      "text/plain": [
       "  0%|          | 0/1500 [00:00<?, ?it/s]"
      ]
     },
     "metadata": {},
     "output_type": "display_data"
    },
    {
     "data": {
      "application/vnd.jupyter.widget-view+json": {
       "model_id": "8a6ebe71020848ddbfeb39c9350ab670",
       "version_major": 2,
       "version_minor": 0
      },
      "text/plain": [
       "  0%|          | 0/1500 [00:00<?, ?it/s]"
      ]
     },
     "metadata": {},
     "output_type": "display_data"
    },
    {
     "data": {
      "application/vnd.jupyter.widget-view+json": {
       "model_id": "bff548fb84ac44d8aa2d52f001663c88",
       "version_major": 2,
       "version_minor": 0
      },
      "text/plain": [
       "  0%|          | 0/1500 [00:00<?, ?it/s]"
      ]
     },
     "metadata": {},
     "output_type": "display_data"
    },
    {
     "data": {
      "application/vnd.jupyter.widget-view+json": {
       "model_id": "ce5d1795924a4b9c999aa0fb7a397442",
       "version_major": 2,
       "version_minor": 0
      },
      "text/plain": [
       "  0%|          | 0/1500 [00:00<?, ?it/s]"
      ]
     },
     "metadata": {},
     "output_type": "display_data"
    },
    {
     "name": "stderr",
     "output_type": "stream",
     "text": [
      "2023-09-27 18:24:45,105 - hbmep.utils.utils - INFO - func:run_inference took: 2 min and 55.24 sec\n",
      "2023-09-27 18:24:45,106 - __main__ - INFO - Predicting ...\n",
      "2023-09-27 18:24:45,111 - hbmep.utils.utils - INFO - func:make_prediction_dataset took: 0.00 sec\n",
      "2023-09-27 18:24:51,222 - hbmep.utils.utils - INFO - func:predict took: 6.11 sec\n",
      "2023-09-27 18:24:51,223 - __main__ - INFO - Plotting recruitment curves ...\n",
      "2023-09-27 18:24:51,241 - hbmep.model.baseline - INFO - Rendering ...\n",
      "2023-09-27 18:24:58,630 - hbmep.model.baseline - INFO - Saved to /home/vishu/repos/hbmep-paper/reports/human/intraoperative/power-analysis/draw_2829/N_20/seed_339/recruitment_curves.pdf\n",
      "2023-09-27 18:24:58,631 - hbmep.utils.utils - INFO - func:render_recruitment_curves took: 7.41 sec\n",
      "2023-09-27 18:24:58,631 - __main__ - INFO - Plotting posterior checks ...\n",
      "2023-09-27 18:24:58,664 - hbmep.model.baseline - INFO - Rendering Posterior Predictive Check ...\n",
      "2023-09-27 18:25:08,762 - hbmep.model.baseline - INFO - Saved to /home/vishu/repos/hbmep-paper/reports/human/intraoperative/power-analysis/draw_2829/N_20/seed_339/posterior_predictive_check.pdf\n",
      "2023-09-27 18:25:08,762 - hbmep.utils.utils - INFO - func:_render_predictive_check took: 10.13 sec\n",
      "2023-09-27 18:25:08,763 - hbmep.utils.utils - INFO - func:render_predictive_check took: 10.13 sec\n",
      "2023-09-27 18:25:10,045 - __main__ - INFO - \n",
      "\n",
      "Draw:1/50, N:6/6, Repeat:2/10\n",
      "2023-09-27 18:25:10,051 - __main__ - INFO - Seed:777, Subjects: 23, 34, 144, 97, 27, 47, 92, 191, 80, 148, 82, 15, 4, 81, 25, 166, 99, 155, 84, 174\n",
      "2023-09-27 18:25:10,052 - hbmep.config - INFO - Verifying configuration ...\n",
      "2023-09-27 18:25:10,052 - hbmep.config - INFO - Success!\n",
      "2023-09-27 18:25:10,053 - hbmep.model.baseline - INFO - Initialized model with hierarchical_bayesian link\n",
      "2023-09-27 18:25:10,053 - hbmep.dataset.core - INFO - Artefacts will be stored here - /home/vishu/repos/hbmep-paper/reports/human/intraoperative/power-analysis/draw_2829/N_20/seed_777\n",
      "2023-09-27 18:25:10,053 - hbmep.dataset.core - INFO - Copied config to /home/vishu/repos/hbmep-paper/reports/human/intraoperative/power-analysis/draw_2829/N_20/seed_777\n",
      "2023-09-27 18:25:10,054 - hbmep.dataset.core - INFO - Processing data ...\n",
      "2023-09-27 18:25:10,055 - hbmep.utils.utils - INFO - func:load took: 0.00 sec\n",
      "2023-09-27 18:25:10,055 - __main__ - INFO - Fitting ...\n",
      "2023-09-27 18:25:10,055 - hbmep.model.baseline - INFO - Running inference with hierarchical_bayesian ...\n"
     ]
    },
    {
     "data": {
      "application/vnd.jupyter.widget-view+json": {
       "model_id": "df2da470dfed4a019263ae846866007b",
       "version_major": 2,
       "version_minor": 0
      },
      "text/plain": [
       "  0%|          | 0/1500 [00:00<?, ?it/s]"
      ]
     },
     "metadata": {},
     "output_type": "display_data"
    },
    {
     "data": {
      "application/vnd.jupyter.widget-view+json": {
       "model_id": "cf26fd2b38994591bf1e5a279c3e8765",
       "version_major": 2,
       "version_minor": 0
      },
      "text/plain": [
       "  0%|          | 0/1500 [00:00<?, ?it/s]"
      ]
     },
     "metadata": {},
     "output_type": "display_data"
    },
    {
     "data": {
      "application/vnd.jupyter.widget-view+json": {
       "model_id": "97bc7b5bd43b4218b9d069d0f41ae647",
       "version_major": 2,
       "version_minor": 0
      },
      "text/plain": [
       "  0%|          | 0/1500 [00:00<?, ?it/s]"
      ]
     },
     "metadata": {},
     "output_type": "display_data"
    },
    {
     "data": {
      "application/vnd.jupyter.widget-view+json": {
       "model_id": "49768d8178e94e7cbdbbdd942fc312f4",
       "version_major": 2,
       "version_minor": 0
      },
      "text/plain": [
       "  0%|          | 0/1500 [00:00<?, ?it/s]"
      ]
     },
     "metadata": {},
     "output_type": "display_data"
    },
    {
     "name": "stderr",
     "output_type": "stream",
     "text": [
      "2023-09-27 18:27:54,209 - hbmep.utils.utils - INFO - func:run_inference took: 2 min and 44.15 sec\n",
      "2023-09-27 18:27:54,210 - __main__ - INFO - Predicting ...\n",
      "2023-09-27 18:27:54,215 - hbmep.utils.utils - INFO - func:make_prediction_dataset took: 0.00 sec\n",
      "2023-09-27 18:28:00,345 - hbmep.utils.utils - INFO - func:predict took: 6.13 sec\n",
      "2023-09-27 18:28:00,346 - __main__ - INFO - Plotting recruitment curves ...\n",
      "2023-09-27 18:28:00,363 - hbmep.model.baseline - INFO - Rendering ...\n",
      "2023-09-27 18:28:07,781 - hbmep.model.baseline - INFO - Saved to /home/vishu/repos/hbmep-paper/reports/human/intraoperative/power-analysis/draw_2829/N_20/seed_777/recruitment_curves.pdf\n",
      "2023-09-27 18:28:07,782 - hbmep.utils.utils - INFO - func:render_recruitment_curves took: 7.44 sec\n",
      "2023-09-27 18:28:07,782 - __main__ - INFO - Plotting posterior checks ...\n",
      "2023-09-27 18:28:07,815 - hbmep.model.baseline - INFO - Rendering Posterior Predictive Check ...\n",
      "2023-09-27 18:28:17,982 - hbmep.model.baseline - INFO - Saved to /home/vishu/repos/hbmep-paper/reports/human/intraoperative/power-analysis/draw_2829/N_20/seed_777/posterior_predictive_check.pdf\n",
      "2023-09-27 18:28:17,982 - hbmep.utils.utils - INFO - func:_render_predictive_check took: 10.20 sec\n",
      "2023-09-27 18:28:17,983 - hbmep.utils.utils - INFO - func:render_predictive_check took: 10.20 sec\n",
      "2023-09-27 18:28:19,288 - __main__ - INFO - \n",
      "\n",
      "Draw:1/50, N:6/6, Repeat:3/10\n",
      "2023-09-27 18:28:19,292 - __main__ - INFO - Seed:129, Subjects: 151, 192, 17, 74, 11, 14, 148, 173, 164, 38, 85, 168, 72, 79, 83, 30, 87, 186, 3, 161\n",
      "2023-09-27 18:28:19,293 - hbmep.config - INFO - Verifying configuration ...\n",
      "2023-09-27 18:28:19,293 - hbmep.config - INFO - Success!\n",
      "2023-09-27 18:28:19,293 - hbmep.model.baseline - INFO - Initialized model with hierarchical_bayesian link\n",
      "2023-09-27 18:28:19,293 - hbmep.dataset.core - INFO - Artefacts will be stored here - /home/vishu/repos/hbmep-paper/reports/human/intraoperative/power-analysis/draw_2829/N_20/seed_129\n",
      "2023-09-27 18:28:19,294 - hbmep.dataset.core - INFO - Copied config to /home/vishu/repos/hbmep-paper/reports/human/intraoperative/power-analysis/draw_2829/N_20/seed_129\n",
      "2023-09-27 18:28:19,294 - hbmep.dataset.core - INFO - Processing data ...\n",
      "2023-09-27 18:28:19,295 - hbmep.utils.utils - INFO - func:load took: 0.00 sec\n",
      "2023-09-27 18:28:19,295 - __main__ - INFO - Fitting ...\n",
      "2023-09-27 18:28:19,296 - hbmep.model.baseline - INFO - Running inference with hierarchical_bayesian ...\n"
     ]
    },
    {
     "data": {
      "application/vnd.jupyter.widget-view+json": {
       "model_id": "51704faa794c4ae6a98debab4f183d97",
       "version_major": 2,
       "version_minor": 0
      },
      "text/plain": [
       "  0%|          | 0/1500 [00:00<?, ?it/s]"
      ]
     },
     "metadata": {},
     "output_type": "display_data"
    },
    {
     "data": {
      "application/vnd.jupyter.widget-view+json": {
       "model_id": "938391b17f92410882715b3716498b96",
       "version_major": 2,
       "version_minor": 0
      },
      "text/plain": [
       "  0%|          | 0/1500 [00:00<?, ?it/s]"
      ]
     },
     "metadata": {},
     "output_type": "display_data"
    },
    {
     "data": {
      "application/vnd.jupyter.widget-view+json": {
       "model_id": "ef9ca3f9d7af4e8297edfd4e94fd1f9f",
       "version_major": 2,
       "version_minor": 0
      },
      "text/plain": [
       "  0%|          | 0/1500 [00:00<?, ?it/s]"
      ]
     },
     "metadata": {},
     "output_type": "display_data"
    },
    {
     "data": {
      "application/vnd.jupyter.widget-view+json": {
       "model_id": "0beda03559e74d809e1cc36b74af9a07",
       "version_major": 2,
       "version_minor": 0
      },
      "text/plain": [
       "  0%|          | 0/1500 [00:00<?, ?it/s]"
      ]
     },
     "metadata": {},
     "output_type": "display_data"
    },
    {
     "name": "stderr",
     "output_type": "stream",
     "text": [
      "2023-09-27 18:31:13,932 - hbmep.utils.utils - INFO - func:run_inference took: 2 min and 54.64 sec\n",
      "2023-09-27 18:31:13,933 - __main__ - INFO - Predicting ...\n",
      "2023-09-27 18:31:13,938 - hbmep.utils.utils - INFO - func:make_prediction_dataset took: 0.00 sec\n",
      "2023-09-27 18:31:19,941 - hbmep.utils.utils - INFO - func:predict took: 6.00 sec\n",
      "2023-09-27 18:31:19,942 - __main__ - INFO - Plotting recruitment curves ...\n",
      "2023-09-27 18:31:19,959 - hbmep.model.baseline - INFO - Rendering ...\n",
      "2023-09-27 18:31:27,436 - hbmep.model.baseline - INFO - Saved to /home/vishu/repos/hbmep-paper/reports/human/intraoperative/power-analysis/draw_2829/N_20/seed_129/recruitment_curves.pdf\n",
      "2023-09-27 18:31:27,436 - hbmep.utils.utils - INFO - func:render_recruitment_curves took: 7.49 sec\n",
      "2023-09-27 18:31:27,437 - __main__ - INFO - Plotting posterior checks ...\n",
      "2023-09-27 18:31:27,470 - hbmep.model.baseline - INFO - Rendering Posterior Predictive Check ...\n",
      "2023-09-27 18:31:37,656 - hbmep.model.baseline - INFO - Saved to /home/vishu/repos/hbmep-paper/reports/human/intraoperative/power-analysis/draw_2829/N_20/seed_129/posterior_predictive_check.pdf\n",
      "2023-09-27 18:31:37,656 - hbmep.utils.utils - INFO - func:_render_predictive_check took: 10.22 sec\n",
      "2023-09-27 18:31:37,657 - hbmep.utils.utils - INFO - func:render_predictive_check took: 10.22 sec\n",
      "2023-09-27 18:31:38,989 - __main__ - INFO - \n",
      "\n",
      "Draw:1/50, N:6/6, Repeat:4/10\n",
      "2023-09-27 18:31:38,993 - __main__ - INFO - Seed:822, Subjects: 98, 32, 121, 186, 20, 191, 147, 172, 14, 143, 189, 83, 62, 146, 67, 158, 128, 155, 102, 152\n",
      "2023-09-27 18:31:38,994 - hbmep.config - INFO - Verifying configuration ...\n",
      "2023-09-27 18:31:38,994 - hbmep.config - INFO - Success!\n",
      "2023-09-27 18:31:38,995 - hbmep.model.baseline - INFO - Initialized model with hierarchical_bayesian link\n",
      "2023-09-27 18:31:38,995 - hbmep.dataset.core - INFO - Artefacts will be stored here - /home/vishu/repos/hbmep-paper/reports/human/intraoperative/power-analysis/draw_2829/N_20/seed_822\n",
      "2023-09-27 18:31:38,995 - hbmep.dataset.core - INFO - Copied config to /home/vishu/repos/hbmep-paper/reports/human/intraoperative/power-analysis/draw_2829/N_20/seed_822\n",
      "2023-09-27 18:31:38,996 - hbmep.dataset.core - INFO - Processing data ...\n",
      "2023-09-27 18:31:38,997 - hbmep.utils.utils - INFO - func:load took: 0.00 sec\n",
      "2023-09-27 18:31:38,997 - __main__ - INFO - Fitting ...\n",
      "2023-09-27 18:31:38,997 - hbmep.model.baseline - INFO - Running inference with hierarchical_bayesian ...\n"
     ]
    },
    {
     "data": {
      "application/vnd.jupyter.widget-view+json": {
       "model_id": "5c2653ce122c445e852beaa1ef658dd9",
       "version_major": 2,
       "version_minor": 0
      },
      "text/plain": [
       "  0%|          | 0/1500 [00:00<?, ?it/s]"
      ]
     },
     "metadata": {},
     "output_type": "display_data"
    },
    {
     "data": {
      "application/vnd.jupyter.widget-view+json": {
       "model_id": "25e9367533294ddd871d75432c73079d",
       "version_major": 2,
       "version_minor": 0
      },
      "text/plain": [
       "  0%|          | 0/1500 [00:00<?, ?it/s]"
      ]
     },
     "metadata": {},
     "output_type": "display_data"
    },
    {
     "data": {
      "application/vnd.jupyter.widget-view+json": {
       "model_id": "fc94e0c4bb504bb880f8f2cd809d9eb6",
       "version_major": 2,
       "version_minor": 0
      },
      "text/plain": [
       "  0%|          | 0/1500 [00:00<?, ?it/s]"
      ]
     },
     "metadata": {},
     "output_type": "display_data"
    },
    {
     "data": {
      "application/vnd.jupyter.widget-view+json": {
       "model_id": "f9a71f77de064159884a6b4e8d07c08d",
       "version_major": 2,
       "version_minor": 0
      },
      "text/plain": [
       "  0%|          | 0/1500 [00:00<?, ?it/s]"
      ]
     },
     "metadata": {},
     "output_type": "display_data"
    },
    {
     "name": "stderr",
     "output_type": "stream",
     "text": [
      "2023-09-27 18:34:39,541 - hbmep.utils.utils - INFO - func:run_inference took: 3 min and 0.54 sec\n",
      "2023-09-27 18:34:39,541 - __main__ - INFO - Predicting ...\n",
      "2023-09-27 18:34:39,547 - hbmep.utils.utils - INFO - func:make_prediction_dataset took: 0.00 sec\n",
      "2023-09-27 18:34:45,673 - hbmep.utils.utils - INFO - func:predict took: 6.13 sec\n",
      "2023-09-27 18:34:45,674 - __main__ - INFO - Plotting recruitment curves ...\n",
      "2023-09-27 18:34:45,691 - hbmep.model.baseline - INFO - Rendering ...\n",
      "2023-09-27 18:34:53,213 - hbmep.model.baseline - INFO - Saved to /home/vishu/repos/hbmep-paper/reports/human/intraoperative/power-analysis/draw_2829/N_20/seed_822/recruitment_curves.pdf\n",
      "2023-09-27 18:34:53,213 - hbmep.utils.utils - INFO - func:render_recruitment_curves took: 7.54 sec\n",
      "2023-09-27 18:34:53,214 - __main__ - INFO - Plotting posterior checks ...\n",
      "2023-09-27 18:34:53,247 - hbmep.model.baseline - INFO - Rendering Posterior Predictive Check ...\n",
      "2023-09-27 18:35:03,480 - hbmep.model.baseline - INFO - Saved to /home/vishu/repos/hbmep-paper/reports/human/intraoperative/power-analysis/draw_2829/N_20/seed_822/posterior_predictive_check.pdf\n",
      "2023-09-27 18:35:03,481 - hbmep.utils.utils - INFO - func:_render_predictive_check took: 10.27 sec\n",
      "2023-09-27 18:35:03,481 - hbmep.utils.utils - INFO - func:render_predictive_check took: 10.27 sec\n",
      "2023-09-27 18:35:04,836 - __main__ - INFO - \n",
      "\n",
      "Draw:1/50, N:6/6, Repeat:5/10\n",
      "2023-09-27 18:35:04,840 - __main__ - INFO - Seed:616, Subjects: 130, 39, 87, 96, 158, 162, 160, 71, 142, 4, 8, 195, 132, 76, 188, 50, 107, 121, 171, 168\n",
      "2023-09-27 18:35:04,841 - hbmep.config - INFO - Verifying configuration ...\n",
      "2023-09-27 18:35:04,841 - hbmep.config - INFO - Success!\n",
      "2023-09-27 18:35:04,841 - hbmep.model.baseline - INFO - Initialized model with hierarchical_bayesian link\n",
      "2023-09-27 18:35:04,842 - hbmep.dataset.core - INFO - Artefacts will be stored here - /home/vishu/repos/hbmep-paper/reports/human/intraoperative/power-analysis/draw_2829/N_20/seed_616\n",
      "2023-09-27 18:35:04,842 - hbmep.dataset.core - INFO - Copied config to /home/vishu/repos/hbmep-paper/reports/human/intraoperative/power-analysis/draw_2829/N_20/seed_616\n",
      "2023-09-27 18:35:04,842 - hbmep.dataset.core - INFO - Processing data ...\n",
      "2023-09-27 18:35:04,843 - hbmep.utils.utils - INFO - func:load took: 0.00 sec\n",
      "2023-09-27 18:35:04,843 - __main__ - INFO - Fitting ...\n",
      "2023-09-27 18:35:04,844 - hbmep.model.baseline - INFO - Running inference with hierarchical_bayesian ...\n"
     ]
    },
    {
     "data": {
      "application/vnd.jupyter.widget-view+json": {
       "model_id": "b7f68bf9b5684ded8608299459cce53f",
       "version_major": 2,
       "version_minor": 0
      },
      "text/plain": [
       "  0%|          | 0/1500 [00:00<?, ?it/s]"
      ]
     },
     "metadata": {},
     "output_type": "display_data"
    },
    {
     "data": {
      "application/vnd.jupyter.widget-view+json": {
       "model_id": "58519dbe5daf4aecafcfc88a12b5fd22",
       "version_major": 2,
       "version_minor": 0
      },
      "text/plain": [
       "  0%|          | 0/1500 [00:00<?, ?it/s]"
      ]
     },
     "metadata": {},
     "output_type": "display_data"
    },
    {
     "data": {
      "application/vnd.jupyter.widget-view+json": {
       "model_id": "8780c6906e5049648ac0080a1ae63ed5",
       "version_major": 2,
       "version_minor": 0
      },
      "text/plain": [
       "  0%|          | 0/1500 [00:00<?, ?it/s]"
      ]
     },
     "metadata": {},
     "output_type": "display_data"
    },
    {
     "data": {
      "application/vnd.jupyter.widget-view+json": {
       "model_id": "cda50baf2476401aafa6ab85e2ff6044",
       "version_major": 2,
       "version_minor": 0
      },
      "text/plain": [
       "  0%|          | 0/1500 [00:00<?, ?it/s]"
      ]
     },
     "metadata": {},
     "output_type": "display_data"
    },
    {
     "name": "stderr",
     "output_type": "stream",
     "text": [
      "2023-09-27 18:38:06,331 - hbmep.utils.utils - INFO - func:run_inference took: 3 min and 1.49 sec\n",
      "2023-09-27 18:38:06,332 - __main__ - INFO - Predicting ...\n",
      "2023-09-27 18:38:06,338 - hbmep.utils.utils - INFO - func:make_prediction_dataset took: 0.00 sec\n",
      "2023-09-27 18:38:12,376 - hbmep.utils.utils - INFO - func:predict took: 6.04 sec\n",
      "2023-09-27 18:38:12,377 - __main__ - INFO - Plotting recruitment curves ...\n",
      "2023-09-27 18:38:12,394 - hbmep.model.baseline - INFO - Rendering ...\n",
      "2023-09-27 18:38:19,883 - hbmep.model.baseline - INFO - Saved to /home/vishu/repos/hbmep-paper/reports/human/intraoperative/power-analysis/draw_2829/N_20/seed_616/recruitment_curves.pdf\n",
      "2023-09-27 18:38:19,884 - hbmep.utils.utils - INFO - func:render_recruitment_curves took: 7.51 sec\n",
      "2023-09-27 18:38:19,884 - __main__ - INFO - Plotting posterior checks ...\n",
      "2023-09-27 18:38:19,917 - hbmep.model.baseline - INFO - Rendering Posterior Predictive Check ...\n",
      "2023-09-27 18:38:30,211 - hbmep.model.baseline - INFO - Saved to /home/vishu/repos/hbmep-paper/reports/human/intraoperative/power-analysis/draw_2829/N_20/seed_616/posterior_predictive_check.pdf\n",
      "2023-09-27 18:38:30,212 - hbmep.utils.utils - INFO - func:_render_predictive_check took: 10.33 sec\n",
      "2023-09-27 18:38:30,212 - hbmep.utils.utils - INFO - func:render_predictive_check took: 10.33 sec\n",
      "2023-09-27 18:38:31,590 - __main__ - INFO - \n",
      "\n",
      "Draw:1/50, N:6/6, Repeat:6/10\n",
      "2023-09-27 18:38:31,595 - __main__ - INFO - Seed:214, Subjects: 120, 179, 25, 125, 196, 84, 64, 53, 115, 72, 134, 106, 111, 70, 66, 36, 69, 184, 124, 164\n",
      "2023-09-27 18:38:31,596 - hbmep.config - INFO - Verifying configuration ...\n",
      "2023-09-27 18:38:31,596 - hbmep.config - INFO - Success!\n",
      "2023-09-27 18:38:31,596 - hbmep.model.baseline - INFO - Initialized model with hierarchical_bayesian link\n",
      "2023-09-27 18:38:31,597 - hbmep.dataset.core - INFO - Artefacts will be stored here - /home/vishu/repos/hbmep-paper/reports/human/intraoperative/power-analysis/draw_2829/N_20/seed_214\n",
      "2023-09-27 18:38:31,597 - hbmep.dataset.core - INFO - Copied config to /home/vishu/repos/hbmep-paper/reports/human/intraoperative/power-analysis/draw_2829/N_20/seed_214\n",
      "2023-09-27 18:38:31,598 - hbmep.dataset.core - INFO - Processing data ...\n",
      "2023-09-27 18:38:31,599 - hbmep.utils.utils - INFO - func:load took: 0.00 sec\n",
      "2023-09-27 18:38:31,599 - __main__ - INFO - Fitting ...\n",
      "2023-09-27 18:38:31,599 - hbmep.model.baseline - INFO - Running inference with hierarchical_bayesian ...\n"
     ]
    },
    {
     "data": {
      "application/vnd.jupyter.widget-view+json": {
       "model_id": "d67e8d1d30c54d61b1ba3c9f1b6e733c",
       "version_major": 2,
       "version_minor": 0
      },
      "text/plain": [
       "  0%|          | 0/1500 [00:00<?, ?it/s]"
      ]
     },
     "metadata": {},
     "output_type": "display_data"
    },
    {
     "data": {
      "application/vnd.jupyter.widget-view+json": {
       "model_id": "7fdbcd4e10174ac88f1c8124c105b790",
       "version_major": 2,
       "version_minor": 0
      },
      "text/plain": [
       "  0%|          | 0/1500 [00:00<?, ?it/s]"
      ]
     },
     "metadata": {},
     "output_type": "display_data"
    },
    {
     "data": {
      "application/vnd.jupyter.widget-view+json": {
       "model_id": "38b68530aee04dcebd7a735d1d3439b3",
       "version_major": 2,
       "version_minor": 0
      },
      "text/plain": [
       "  0%|          | 0/1500 [00:00<?, ?it/s]"
      ]
     },
     "metadata": {},
     "output_type": "display_data"
    },
    {
     "data": {
      "application/vnd.jupyter.widget-view+json": {
       "model_id": "2e576dd796704977a68b7e356ed5d8bd",
       "version_major": 2,
       "version_minor": 0
      },
      "text/plain": [
       "  0%|          | 0/1500 [00:00<?, ?it/s]"
      ]
     },
     "metadata": {},
     "output_type": "display_data"
    },
    {
     "name": "stderr",
     "output_type": "stream",
     "text": [
      "2023-09-27 18:41:36,644 - hbmep.utils.utils - INFO - func:run_inference took: 3 min and 5.04 sec\n",
      "2023-09-27 18:41:36,644 - __main__ - INFO - Predicting ...\n",
      "2023-09-27 18:41:36,650 - hbmep.utils.utils - INFO - func:make_prediction_dataset took: 0.00 sec\n",
      "2023-09-27 18:41:42,759 - hbmep.utils.utils - INFO - func:predict took: 6.11 sec\n",
      "2023-09-27 18:41:42,760 - __main__ - INFO - Plotting recruitment curves ...\n",
      "2023-09-27 18:41:42,777 - hbmep.model.baseline - INFO - Rendering ...\n",
      "2023-09-27 18:41:50,263 - hbmep.model.baseline - INFO - Saved to /home/vishu/repos/hbmep-paper/reports/human/intraoperative/power-analysis/draw_2829/N_20/seed_214/recruitment_curves.pdf\n",
      "2023-09-27 18:41:50,263 - hbmep.utils.utils - INFO - func:render_recruitment_curves took: 7.50 sec\n",
      "2023-09-27 18:41:50,263 - __main__ - INFO - Plotting posterior checks ...\n",
      "2023-09-27 18:41:50,297 - hbmep.model.baseline - INFO - Rendering Posterior Predictive Check ...\n",
      "2023-09-27 18:42:00,587 - hbmep.model.baseline - INFO - Saved to /home/vishu/repos/hbmep-paper/reports/human/intraoperative/power-analysis/draw_2829/N_20/seed_214/posterior_predictive_check.pdf\n",
      "2023-09-27 18:42:00,588 - hbmep.utils.utils - INFO - func:_render_predictive_check took: 10.32 sec\n",
      "2023-09-27 18:42:00,588 - hbmep.utils.utils - INFO - func:render_predictive_check took: 10.32 sec\n",
      "2023-09-27 18:42:01,984 - __main__ - INFO - \n",
      "\n",
      "Draw:1/50, N:6/6, Repeat:7/10\n",
      "2023-09-27 18:42:01,989 - __main__ - INFO - Seed:204, Subjects: 195, 25, 42, 54, 1, 66, 19, 69, 15, 105, 95, 163, 22, 100, 32, 104, 60, 191, 97, 178\n",
      "2023-09-27 18:42:01,989 - hbmep.config - INFO - Verifying configuration ...\n",
      "2023-09-27 18:42:01,990 - hbmep.config - INFO - Success!\n",
      "2023-09-27 18:42:01,990 - hbmep.model.baseline - INFO - Initialized model with hierarchical_bayesian link\n",
      "2023-09-27 18:42:01,990 - hbmep.dataset.core - INFO - Artefacts will be stored here - /home/vishu/repos/hbmep-paper/reports/human/intraoperative/power-analysis/draw_2829/N_20/seed_204\n",
      "2023-09-27 18:42:01,990 - hbmep.dataset.core - INFO - Copied config to /home/vishu/repos/hbmep-paper/reports/human/intraoperative/power-analysis/draw_2829/N_20/seed_204\n",
      "2023-09-27 18:42:01,991 - hbmep.dataset.core - INFO - Processing data ...\n",
      "2023-09-27 18:42:01,992 - hbmep.utils.utils - INFO - func:load took: 0.00 sec\n",
      "2023-09-27 18:42:01,992 - __main__ - INFO - Fitting ...\n",
      "2023-09-27 18:42:01,992 - hbmep.model.baseline - INFO - Running inference with hierarchical_bayesian ...\n"
     ]
    },
    {
     "data": {
      "application/vnd.jupyter.widget-view+json": {
       "model_id": "83611e86a993429086b98a6511ac0cae",
       "version_major": 2,
       "version_minor": 0
      },
      "text/plain": [
       "  0%|          | 0/1500 [00:00<?, ?it/s]"
      ]
     },
     "metadata": {},
     "output_type": "display_data"
    },
    {
     "data": {
      "application/vnd.jupyter.widget-view+json": {
       "model_id": "9a6af9d04eb2471ca066248ef208e167",
       "version_major": 2,
       "version_minor": 0
      },
      "text/plain": [
       "  0%|          | 0/1500 [00:00<?, ?it/s]"
      ]
     },
     "metadata": {},
     "output_type": "display_data"
    },
    {
     "data": {
      "application/vnd.jupyter.widget-view+json": {
       "model_id": "ae96ac1782f84960b3a7f2ba27b9a09c",
       "version_major": 2,
       "version_minor": 0
      },
      "text/plain": [
       "  0%|          | 0/1500 [00:00<?, ?it/s]"
      ]
     },
     "metadata": {},
     "output_type": "display_data"
    },
    {
     "data": {
      "application/vnd.jupyter.widget-view+json": {
       "model_id": "5a5ea1aa012d43eea9fa013c5280c4d9",
       "version_major": 2,
       "version_minor": 0
      },
      "text/plain": [
       "  0%|          | 0/1500 [00:00<?, ?it/s]"
      ]
     },
     "metadata": {},
     "output_type": "display_data"
    },
    {
     "name": "stderr",
     "output_type": "stream",
     "text": [
      "2023-09-27 18:45:03,872 - hbmep.utils.utils - INFO - func:run_inference took: 3 min and 1.88 sec\n",
      "2023-09-27 18:45:03,873 - __main__ - INFO - Predicting ...\n",
      "2023-09-27 18:45:03,878 - hbmep.utils.utils - INFO - func:make_prediction_dataset took: 0.00 sec\n",
      "2023-09-27 18:45:09,944 - hbmep.utils.utils - INFO - func:predict took: 6.07 sec\n",
      "2023-09-27 18:45:09,945 - __main__ - INFO - Plotting recruitment curves ...\n",
      "2023-09-27 18:45:09,962 - hbmep.model.baseline - INFO - Rendering ...\n",
      "2023-09-27 18:45:17,490 - hbmep.model.baseline - INFO - Saved to /home/vishu/repos/hbmep-paper/reports/human/intraoperative/power-analysis/draw_2829/N_20/seed_204/recruitment_curves.pdf\n",
      "2023-09-27 18:45:17,491 - hbmep.utils.utils - INFO - func:render_recruitment_curves took: 7.55 sec\n",
      "2023-09-27 18:45:17,492 - __main__ - INFO - Plotting posterior checks ...\n",
      "2023-09-27 18:45:17,529 - hbmep.model.baseline - INFO - Rendering Posterior Predictive Check ...\n",
      "2023-09-27 18:45:27,911 - hbmep.model.baseline - INFO - Saved to /home/vishu/repos/hbmep-paper/reports/human/intraoperative/power-analysis/draw_2829/N_20/seed_204/posterior_predictive_check.pdf\n",
      "2023-09-27 18:45:27,912 - hbmep.utils.utils - INFO - func:_render_predictive_check took: 10.42 sec\n",
      "2023-09-27 18:45:27,912 - hbmep.utils.utils - INFO - func:render_predictive_check took: 10.42 sec\n",
      "2023-09-27 18:45:29,405 - __main__ - INFO - \n",
      "\n",
      "Draw:1/50, N:6/6, Repeat:8/10\n",
      "2023-09-27 18:45:29,409 - __main__ - INFO - Seed:912, Subjects: 108, 85, 144, 90, 97, 14, 64, 164, 53, 135, 158, 126, 11, 130, 162, 74, 124, 163, 179, 72\n",
      "2023-09-27 18:45:29,410 - hbmep.config - INFO - Verifying configuration ...\n",
      "2023-09-27 18:45:29,410 - hbmep.config - INFO - Success!\n",
      "2023-09-27 18:45:29,411 - hbmep.model.baseline - INFO - Initialized model with hierarchical_bayesian link\n",
      "2023-09-27 18:45:29,411 - hbmep.dataset.core - INFO - Artefacts will be stored here - /home/vishu/repos/hbmep-paper/reports/human/intraoperative/power-analysis/draw_2829/N_20/seed_912\n",
      "2023-09-27 18:45:29,411 - hbmep.dataset.core - INFO - Copied config to /home/vishu/repos/hbmep-paper/reports/human/intraoperative/power-analysis/draw_2829/N_20/seed_912\n",
      "2023-09-27 18:45:29,412 - hbmep.dataset.core - INFO - Processing data ...\n",
      "2023-09-27 18:45:29,413 - hbmep.utils.utils - INFO - func:load took: 0.00 sec\n",
      "2023-09-27 18:45:29,413 - __main__ - INFO - Fitting ...\n",
      "2023-09-27 18:45:29,413 - hbmep.model.baseline - INFO - Running inference with hierarchical_bayesian ...\n"
     ]
    },
    {
     "data": {
      "application/vnd.jupyter.widget-view+json": {
       "model_id": "7c96f734b13845fc959dc0ee0a6dc132",
       "version_major": 2,
       "version_minor": 0
      },
      "text/plain": [
       "  0%|          | 0/1500 [00:00<?, ?it/s]"
      ]
     },
     "metadata": {},
     "output_type": "display_data"
    },
    {
     "data": {
      "application/vnd.jupyter.widget-view+json": {
       "model_id": "0c9ac74bfdfd43978addb592bca4b27a",
       "version_major": 2,
       "version_minor": 0
      },
      "text/plain": [
       "  0%|          | 0/1500 [00:00<?, ?it/s]"
      ]
     },
     "metadata": {},
     "output_type": "display_data"
    },
    {
     "data": {
      "application/vnd.jupyter.widget-view+json": {
       "model_id": "5e4ad2b23b9b46f4b262cdf26d064de8",
       "version_major": 2,
       "version_minor": 0
      },
      "text/plain": [
       "  0%|          | 0/1500 [00:00<?, ?it/s]"
      ]
     },
     "metadata": {},
     "output_type": "display_data"
    },
    {
     "data": {
      "application/vnd.jupyter.widget-view+json": {
       "model_id": "206c00900227498f8bd4d0f6594b36b9",
       "version_major": 2,
       "version_minor": 0
      },
      "text/plain": [
       "  0%|          | 0/1500 [00:00<?, ?it/s]"
      ]
     },
     "metadata": {},
     "output_type": "display_data"
    },
    {
     "name": "stderr",
     "output_type": "stream",
     "text": [
      "2023-09-27 18:48:14,847 - hbmep.utils.utils - INFO - func:run_inference took: 2 min and 45.43 sec\n",
      "2023-09-27 18:48:14,848 - __main__ - INFO - Predicting ...\n",
      "2023-09-27 18:48:14,853 - hbmep.utils.utils - INFO - func:make_prediction_dataset took: 0.01 sec\n",
      "2023-09-27 18:48:20,973 - hbmep.utils.utils - INFO - func:predict took: 6.12 sec\n",
      "2023-09-27 18:48:20,973 - __main__ - INFO - Plotting recruitment curves ...\n",
      "2023-09-27 18:48:20,991 - hbmep.model.baseline - INFO - Rendering ...\n",
      "2023-09-27 18:48:28,493 - hbmep.model.baseline - INFO - Saved to /home/vishu/repos/hbmep-paper/reports/human/intraoperative/power-analysis/draw_2829/N_20/seed_912/recruitment_curves.pdf\n",
      "2023-09-27 18:48:28,494 - hbmep.utils.utils - INFO - func:render_recruitment_curves took: 7.52 sec\n",
      "2023-09-27 18:48:28,494 - __main__ - INFO - Plotting posterior checks ...\n",
      "2023-09-27 18:48:28,528 - hbmep.model.baseline - INFO - Rendering Posterior Predictive Check ...\n",
      "2023-09-27 18:48:38,835 - hbmep.model.baseline - INFO - Saved to /home/vishu/repos/hbmep-paper/reports/human/intraoperative/power-analysis/draw_2829/N_20/seed_912/posterior_predictive_check.pdf\n",
      "2023-09-27 18:48:38,836 - hbmep.utils.utils - INFO - func:_render_predictive_check took: 10.34 sec\n",
      "2023-09-27 18:48:38,836 - hbmep.utils.utils - INFO - func:render_predictive_check took: 10.34 sec\n",
      "2023-09-27 18:48:40,262 - __main__ - INFO - \n",
      "\n",
      "Draw:1/50, N:6/6, Repeat:9/10\n",
      "2023-09-27 18:48:40,265 - __main__ - INFO - Seed:698, Subjects: 50, 190, 14, 153, 33, 159, 185, 131, 155, 187, 85, 129, 97, 195, 48, 92, 36, 143, 35, 57\n",
      "2023-09-27 18:48:40,267 - hbmep.config - INFO - Verifying configuration ...\n",
      "2023-09-27 18:48:40,267 - hbmep.config - INFO - Success!\n",
      "2023-09-27 18:48:40,267 - hbmep.model.baseline - INFO - Initialized model with hierarchical_bayesian link\n",
      "2023-09-27 18:48:40,268 - hbmep.dataset.core - INFO - Artefacts will be stored here - /home/vishu/repos/hbmep-paper/reports/human/intraoperative/power-analysis/draw_2829/N_20/seed_698\n",
      "2023-09-27 18:48:40,268 - hbmep.dataset.core - INFO - Copied config to /home/vishu/repos/hbmep-paper/reports/human/intraoperative/power-analysis/draw_2829/N_20/seed_698\n",
      "2023-09-27 18:48:40,269 - hbmep.dataset.core - INFO - Processing data ...\n",
      "2023-09-27 18:48:40,270 - hbmep.utils.utils - INFO - func:load took: 0.00 sec\n",
      "2023-09-27 18:48:40,270 - __main__ - INFO - Fitting ...\n",
      "2023-09-27 18:48:40,270 - hbmep.model.baseline - INFO - Running inference with hierarchical_bayesian ...\n"
     ]
    },
    {
     "data": {
      "application/vnd.jupyter.widget-view+json": {
       "model_id": "b5f0db9d6704470f8e6173dc61b36dea",
       "version_major": 2,
       "version_minor": 0
      },
      "text/plain": [
       "  0%|          | 0/1500 [00:00<?, ?it/s]"
      ]
     },
     "metadata": {},
     "output_type": "display_data"
    },
    {
     "data": {
      "application/vnd.jupyter.widget-view+json": {
       "model_id": "0e81f48cef404cd7a119a1af988cf3e6",
       "version_major": 2,
       "version_minor": 0
      },
      "text/plain": [
       "  0%|          | 0/1500 [00:00<?, ?it/s]"
      ]
     },
     "metadata": {},
     "output_type": "display_data"
    },
    {
     "data": {
      "application/vnd.jupyter.widget-view+json": {
       "model_id": "6ae81a82af7844a2a1c58ae1d5cdef62",
       "version_major": 2,
       "version_minor": 0
      },
      "text/plain": [
       "  0%|          | 0/1500 [00:00<?, ?it/s]"
      ]
     },
     "metadata": {},
     "output_type": "display_data"
    },
    {
     "data": {
      "application/vnd.jupyter.widget-view+json": {
       "model_id": "282319fa5a674e07b5d12a5ee64ca7bf",
       "version_major": 2,
       "version_minor": 0
      },
      "text/plain": [
       "  0%|          | 0/1500 [00:00<?, ?it/s]"
      ]
     },
     "metadata": {},
     "output_type": "display_data"
    },
    {
     "name": "stderr",
     "output_type": "stream",
     "text": [
      "2023-09-27 18:51:41,831 - hbmep.utils.utils - INFO - func:run_inference took: 3 min and 1.56 sec\n",
      "2023-09-27 18:51:41,832 - __main__ - INFO - Predicting ...\n",
      "2023-09-27 18:51:41,837 - hbmep.utils.utils - INFO - func:make_prediction_dataset took: 0.00 sec\n",
      "2023-09-27 18:51:47,953 - hbmep.utils.utils - INFO - func:predict took: 6.12 sec\n",
      "2023-09-27 18:51:47,954 - __main__ - INFO - Plotting recruitment curves ...\n",
      "2023-09-27 18:51:47,971 - hbmep.model.baseline - INFO - Rendering ...\n",
      "2023-09-27 18:51:55,371 - hbmep.model.baseline - INFO - Saved to /home/vishu/repos/hbmep-paper/reports/human/intraoperative/power-analysis/draw_2829/N_20/seed_698/recruitment_curves.pdf\n",
      "2023-09-27 18:51:55,371 - hbmep.utils.utils - INFO - func:render_recruitment_curves took: 7.42 sec\n",
      "2023-09-27 18:51:55,372 - __main__ - INFO - Plotting posterior checks ...\n",
      "2023-09-27 18:51:55,406 - hbmep.model.baseline - INFO - Rendering Posterior Predictive Check ...\n",
      "2023-09-27 18:52:05,641 - hbmep.model.baseline - INFO - Saved to /home/vishu/repos/hbmep-paper/reports/human/intraoperative/power-analysis/draw_2829/N_20/seed_698/posterior_predictive_check.pdf\n",
      "2023-09-27 18:52:05,642 - hbmep.utils.utils - INFO - func:_render_predictive_check took: 10.27 sec\n",
      "2023-09-27 18:52:05,642 - hbmep.utils.utils - INFO - func:render_predictive_check took: 10.27 sec\n",
      "2023-09-27 18:52:07,000 - __main__ - INFO - \n",
      "\n",
      "Draw:1/50, N:6/6, Repeat:10/10\n",
      "2023-09-27 18:52:07,004 - __main__ - INFO - Seed:677, Subjects: 156, 108, 186, 126, 124, 173, 91, 18, 28, 178, 76, 122, 7, 26, 196, 96, 154, 99, 147, 123\n",
      "2023-09-27 18:52:07,005 - hbmep.config - INFO - Verifying configuration ...\n",
      "2023-09-27 18:52:07,005 - hbmep.config - INFO - Success!\n",
      "2023-09-27 18:52:07,006 - hbmep.model.baseline - INFO - Initialized model with hierarchical_bayesian link\n",
      "2023-09-27 18:52:07,006 - hbmep.dataset.core - INFO - Artefacts will be stored here - /home/vishu/repos/hbmep-paper/reports/human/intraoperative/power-analysis/draw_2829/N_20/seed_677\n",
      "2023-09-27 18:52:07,006 - hbmep.dataset.core - INFO - Copied config to /home/vishu/repos/hbmep-paper/reports/human/intraoperative/power-analysis/draw_2829/N_20/seed_677\n",
      "2023-09-27 18:52:07,007 - hbmep.dataset.core - INFO - Processing data ...\n",
      "2023-09-27 18:52:07,008 - hbmep.utils.utils - INFO - func:load took: 0.00 sec\n",
      "2023-09-27 18:52:07,008 - __main__ - INFO - Fitting ...\n",
      "2023-09-27 18:52:07,008 - hbmep.model.baseline - INFO - Running inference with hierarchical_bayesian ...\n"
     ]
    },
    {
     "data": {
      "application/vnd.jupyter.widget-view+json": {
       "model_id": "e1c9ad482e2f4ec18381c7217de69f13",
       "version_major": 2,
       "version_minor": 0
      },
      "text/plain": [
       "  0%|          | 0/1500 [00:00<?, ?it/s]"
      ]
     },
     "metadata": {},
     "output_type": "display_data"
    },
    {
     "data": {
      "application/vnd.jupyter.widget-view+json": {
       "model_id": "df0352b3270c41489c86a76ed4a6f4a2",
       "version_major": 2,
       "version_minor": 0
      },
      "text/plain": [
       "  0%|          | 0/1500 [00:00<?, ?it/s]"
      ]
     },
     "metadata": {},
     "output_type": "display_data"
    },
    {
     "data": {
      "application/vnd.jupyter.widget-view+json": {
       "model_id": "489ab45c9d65435abbd90f3081c27494",
       "version_major": 2,
       "version_minor": 0
      },
      "text/plain": [
       "  0%|          | 0/1500 [00:00<?, ?it/s]"
      ]
     },
     "metadata": {},
     "output_type": "display_data"
    },
    {
     "data": {
      "application/vnd.jupyter.widget-view+json": {
       "model_id": "a841e250287b4388a9e409573c82ec6f",
       "version_major": 2,
       "version_minor": 0
      },
      "text/plain": [
       "  0%|          | 0/1500 [00:00<?, ?it/s]"
      ]
     },
     "metadata": {},
     "output_type": "display_data"
    },
    {
     "name": "stderr",
     "output_type": "stream",
     "text": [
      "2023-09-27 18:55:15,091 - hbmep.utils.utils - INFO - func:run_inference took: 3 min and 8.08 sec\n",
      "2023-09-27 18:55:15,092 - __main__ - INFO - Predicting ...\n",
      "2023-09-27 18:55:15,098 - hbmep.utils.utils - INFO - func:make_prediction_dataset took: 0.01 sec\n",
      "2023-09-27 18:55:21,240 - hbmep.utils.utils - INFO - func:predict took: 6.14 sec\n",
      "2023-09-27 18:55:21,240 - __main__ - INFO - Plotting recruitment curves ...\n",
      "2023-09-27 18:55:21,258 - hbmep.model.baseline - INFO - Rendering ...\n",
      "2023-09-27 18:55:28,725 - hbmep.model.baseline - INFO - Saved to /home/vishu/repos/hbmep-paper/reports/human/intraoperative/power-analysis/draw_2829/N_20/seed_677/recruitment_curves.pdf\n",
      "2023-09-27 18:55:28,725 - hbmep.utils.utils - INFO - func:render_recruitment_curves took: 7.49 sec\n",
      "2023-09-27 18:55:28,726 - __main__ - INFO - Plotting posterior checks ...\n",
      "2023-09-27 18:55:28,759 - hbmep.model.baseline - INFO - Rendering Posterior Predictive Check ...\n",
      "2023-09-27 18:55:38,995 - hbmep.model.baseline - INFO - Saved to /home/vishu/repos/hbmep-paper/reports/human/intraoperative/power-analysis/draw_2829/N_20/seed_677/posterior_predictive_check.pdf\n",
      "2023-09-27 18:55:38,996 - hbmep.utils.utils - INFO - func:_render_predictive_check took: 10.27 sec\n",
      "2023-09-27 18:55:38,996 - hbmep.utils.utils - INFO - func:render_predictive_check took: 10.27 sec\n",
      "2023-09-27 18:55:40,378 - __main__ - INFO - Saved to /home/vishu/repos/hbmep-paper/reports/human/intraoperative/power-analysis/mu_delta_predicted_Draw_1.npy\n",
      "2023-09-27 18:55:40,379 - __main__ - INFO - \n",
      "\n",
      "Draw:2/50, N:1/6, Repeat:1/10\n",
      "2023-09-27 18:55:40,381 - __main__ - INFO - Seed:339, Subjects: 67, 138\n",
      "2023-09-27 18:55:40,382 - hbmep.config - INFO - Verifying configuration ...\n",
      "2023-09-27 18:55:40,382 - hbmep.config - INFO - Success!\n",
      "2023-09-27 18:55:40,383 - hbmep.model.baseline - INFO - Initialized model with hierarchical_bayesian link\n",
      "2023-09-27 18:55:40,383 - hbmep.dataset.core - INFO - Artefacts will be stored here - /home/vishu/repos/hbmep-paper/reports/human/intraoperative/power-analysis/draw_807/N_2/seed_339\n",
      "2023-09-27 18:55:40,383 - hbmep.dataset.core - INFO - Copied config to /home/vishu/repos/hbmep-paper/reports/human/intraoperative/power-analysis/draw_807/N_2/seed_339\n",
      "2023-09-27 18:55:40,384 - hbmep.dataset.core - INFO - Processing data ...\n",
      "2023-09-27 18:55:40,385 - hbmep.utils.utils - INFO - func:load took: 0.00 sec\n",
      "2023-09-27 18:55:40,385 - __main__ - INFO - Fitting ...\n",
      "2023-09-27 18:55:40,385 - hbmep.model.baseline - INFO - Running inference with hierarchical_bayesian ...\n"
     ]
    },
    {
     "data": {
      "application/vnd.jupyter.widget-view+json": {
       "model_id": "83b96c158e1445b0972a4ee33e5f9a77",
       "version_major": 2,
       "version_minor": 0
      },
      "text/plain": [
       "  0%|          | 0/1500 [00:00<?, ?it/s]"
      ]
     },
     "metadata": {},
     "output_type": "display_data"
    },
    {
     "data": {
      "application/vnd.jupyter.widget-view+json": {
       "model_id": "584b1ceaa8724e02aa5d2eb9f30073c6",
       "version_major": 2,
       "version_minor": 0
      },
      "text/plain": [
       "  0%|          | 0/1500 [00:00<?, ?it/s]"
      ]
     },
     "metadata": {},
     "output_type": "display_data"
    },
    {
     "data": {
      "application/vnd.jupyter.widget-view+json": {
       "model_id": "3593b789405d4b51b96c241d7016d380",
       "version_major": 2,
       "version_minor": 0
      },
      "text/plain": [
       "  0%|          | 0/1500 [00:00<?, ?it/s]"
      ]
     },
     "metadata": {},
     "output_type": "display_data"
    },
    {
     "data": {
      "application/vnd.jupyter.widget-view+json": {
       "model_id": "17652c58be6e4d669fcea965a0fed420",
       "version_major": 2,
       "version_minor": 0
      },
      "text/plain": [
       "  0%|          | 0/1500 [00:00<?, ?it/s]"
      ]
     },
     "metadata": {},
     "output_type": "display_data"
    },
    {
     "name": "stderr",
     "output_type": "stream",
     "text": [
      "2023-09-27 18:55:52,787 - hbmep.utils.utils - INFO - func:run_inference took: 12.40 sec\n",
      "2023-09-27 18:55:52,787 - __main__ - INFO - Predicting ...\n",
      "2023-09-27 18:55:52,792 - hbmep.utils.utils - INFO - func:make_prediction_dataset took: 0.00 sec\n",
      "2023-09-27 18:55:53,739 - hbmep.utils.utils - INFO - func:predict took: 0.95 sec\n",
      "2023-09-27 18:55:53,739 - __main__ - INFO - Plotting recruitment curves ...\n",
      "2023-09-27 18:55:53,743 - hbmep.model.baseline - INFO - Rendering ...\n",
      "2023-09-27 18:55:54,457 - hbmep.model.baseline - INFO - Saved to /home/vishu/repos/hbmep-paper/reports/human/intraoperative/power-analysis/draw_807/N_2/seed_339/recruitment_curves.pdf\n",
      "2023-09-27 18:55:54,458 - hbmep.utils.utils - INFO - func:render_recruitment_curves took: 0.72 sec\n",
      "2023-09-27 18:55:54,458 - __main__ - INFO - Plotting posterior checks ...\n",
      "2023-09-27 18:55:54,462 - hbmep.model.baseline - INFO - Rendering Posterior Predictive Check ...\n",
      "2023-09-27 18:55:55,323 - hbmep.model.baseline - INFO - Saved to /home/vishu/repos/hbmep-paper/reports/human/intraoperative/power-analysis/draw_807/N_2/seed_339/posterior_predictive_check.pdf\n",
      "2023-09-27 18:55:55,323 - hbmep.utils.utils - INFO - func:_render_predictive_check took: 0.87 sec\n",
      "2023-09-27 18:55:55,323 - hbmep.utils.utils - INFO - func:render_predictive_check took: 0.87 sec\n",
      "2023-09-27 18:55:56,535 - __main__ - INFO - \n",
      "\n",
      "Draw:2/50, N:1/6, Repeat:2/10\n",
      "2023-09-27 18:55:56,539 - __main__ - INFO - Seed:777, Subjects: 23, 34\n",
      "2023-09-27 18:55:56,541 - hbmep.config - INFO - Verifying configuration ...\n",
      "2023-09-27 18:55:56,541 - hbmep.config - INFO - Success!\n",
      "2023-09-27 18:55:56,541 - hbmep.model.baseline - INFO - Initialized model with hierarchical_bayesian link\n",
      "2023-09-27 18:55:56,541 - hbmep.dataset.core - INFO - Artefacts will be stored here - /home/vishu/repos/hbmep-paper/reports/human/intraoperative/power-analysis/draw_807/N_2/seed_777\n",
      "2023-09-27 18:55:56,542 - hbmep.dataset.core - INFO - Copied config to /home/vishu/repos/hbmep-paper/reports/human/intraoperative/power-analysis/draw_807/N_2/seed_777\n",
      "2023-09-27 18:55:56,542 - hbmep.dataset.core - INFO - Processing data ...\n",
      "2023-09-27 18:55:56,543 - hbmep.utils.utils - INFO - func:load took: 0.00 sec\n",
      "2023-09-27 18:55:56,543 - __main__ - INFO - Fitting ...\n",
      "2023-09-27 18:55:56,544 - hbmep.model.baseline - INFO - Running inference with hierarchical_bayesian ...\n"
     ]
    },
    {
     "data": {
      "application/vnd.jupyter.widget-view+json": {
       "model_id": "7373f27c941049ceb8d6545aec2a7e4a",
       "version_major": 2,
       "version_minor": 0
      },
      "text/plain": [
       "  0%|          | 0/1500 [00:00<?, ?it/s]"
      ]
     },
     "metadata": {},
     "output_type": "display_data"
    },
    {
     "data": {
      "application/vnd.jupyter.widget-view+json": {
       "model_id": "072c1eb54e9f47b3a2308bf83a1b9440",
       "version_major": 2,
       "version_minor": 0
      },
      "text/plain": [
       "  0%|          | 0/1500 [00:00<?, ?it/s]"
      ]
     },
     "metadata": {},
     "output_type": "display_data"
    },
    {
     "data": {
      "application/vnd.jupyter.widget-view+json": {
       "model_id": "d5d02f9e04de4c84bed0525c720f161f",
       "version_major": 2,
       "version_minor": 0
      },
      "text/plain": [
       "  0%|          | 0/1500 [00:00<?, ?it/s]"
      ]
     },
     "metadata": {},
     "output_type": "display_data"
    },
    {
     "data": {
      "application/vnd.jupyter.widget-view+json": {
       "model_id": "c9fa02355a2c4b4c980ac7babf5e5d40",
       "version_major": 2,
       "version_minor": 0
      },
      "text/plain": [
       "  0%|          | 0/1500 [00:00<?, ?it/s]"
      ]
     },
     "metadata": {},
     "output_type": "display_data"
    },
    {
     "name": "stderr",
     "output_type": "stream",
     "text": [
      "2023-09-27 18:56:17,056 - hbmep.utils.utils - INFO - func:run_inference took: 20.51 sec\n",
      "2023-09-27 18:56:17,057 - __main__ - INFO - Predicting ...\n",
      "2023-09-27 18:56:17,062 - hbmep.utils.utils - INFO - func:make_prediction_dataset took: 0.00 sec\n",
      "2023-09-27 18:56:18,038 - hbmep.utils.utils - INFO - func:predict took: 0.98 sec\n",
      "2023-09-27 18:56:18,039 - __main__ - INFO - Plotting recruitment curves ...\n",
      "2023-09-27 18:56:18,043 - hbmep.model.baseline - INFO - Rendering ...\n",
      "2023-09-27 18:56:18,782 - hbmep.model.baseline - INFO - Saved to /home/vishu/repos/hbmep-paper/reports/human/intraoperative/power-analysis/draw_807/N_2/seed_777/recruitment_curves.pdf\n",
      "2023-09-27 18:56:18,783 - hbmep.utils.utils - INFO - func:render_recruitment_curves took: 0.74 sec\n",
      "2023-09-27 18:56:18,783 - __main__ - INFO - Plotting posterior checks ...\n",
      "2023-09-27 18:56:18,786 - hbmep.model.baseline - INFO - Rendering Posterior Predictive Check ...\n",
      "2023-09-27 18:56:19,648 - hbmep.model.baseline - INFO - Saved to /home/vishu/repos/hbmep-paper/reports/human/intraoperative/power-analysis/draw_807/N_2/seed_777/posterior_predictive_check.pdf\n",
      "2023-09-27 18:56:19,649 - hbmep.utils.utils - INFO - func:_render_predictive_check took: 0.87 sec\n",
      "2023-09-27 18:56:19,649 - hbmep.utils.utils - INFO - func:render_predictive_check took: 0.87 sec\n",
      "2023-09-27 18:56:20,698 - __main__ - INFO - \n",
      "\n",
      "Draw:2/50, N:1/6, Repeat:3/10\n",
      "2023-09-27 18:56:20,700 - __main__ - INFO - Seed:129, Subjects: 151, 192\n",
      "2023-09-27 18:56:20,701 - hbmep.config - INFO - Verifying configuration ...\n",
      "2023-09-27 18:56:20,702 - hbmep.config - INFO - Success!\n",
      "2023-09-27 18:56:20,702 - hbmep.model.baseline - INFO - Initialized model with hierarchical_bayesian link\n",
      "2023-09-27 18:56:20,703 - hbmep.dataset.core - INFO - Artefacts will be stored here - /home/vishu/repos/hbmep-paper/reports/human/intraoperative/power-analysis/draw_807/N_2/seed_129\n",
      "2023-09-27 18:56:20,703 - hbmep.dataset.core - INFO - Copied config to /home/vishu/repos/hbmep-paper/reports/human/intraoperative/power-analysis/draw_807/N_2/seed_129\n",
      "2023-09-27 18:56:20,704 - hbmep.dataset.core - INFO - Processing data ...\n",
      "2023-09-27 18:56:20,704 - hbmep.utils.utils - INFO - func:load took: 0.00 sec\n",
      "2023-09-27 18:56:20,705 - __main__ - INFO - Fitting ...\n",
      "2023-09-27 18:56:20,705 - hbmep.model.baseline - INFO - Running inference with hierarchical_bayesian ...\n"
     ]
    },
    {
     "data": {
      "application/vnd.jupyter.widget-view+json": {
       "model_id": "5981ee52ae1145ef84549501bdefb5db",
       "version_major": 2,
       "version_minor": 0
      },
      "text/plain": [
       "  0%|          | 0/1500 [00:00<?, ?it/s]"
      ]
     },
     "metadata": {},
     "output_type": "display_data"
    },
    {
     "data": {
      "application/vnd.jupyter.widget-view+json": {
       "model_id": "527a4f77ade84265b7ff0d609c9be835",
       "version_major": 2,
       "version_minor": 0
      },
      "text/plain": [
       "  0%|          | 0/1500 [00:00<?, ?it/s]"
      ]
     },
     "metadata": {},
     "output_type": "display_data"
    },
    {
     "data": {
      "application/vnd.jupyter.widget-view+json": {
       "model_id": "c1b4818bb70e4fb6b409d35a03e68d48",
       "version_major": 2,
       "version_minor": 0
      },
      "text/plain": [
       "  0%|          | 0/1500 [00:00<?, ?it/s]"
      ]
     },
     "metadata": {},
     "output_type": "display_data"
    },
    {
     "data": {
      "application/vnd.jupyter.widget-view+json": {
       "model_id": "b85dec8385084632b7550a9209c1bc98",
       "version_major": 2,
       "version_minor": 0
      },
      "text/plain": [
       "  0%|          | 0/1500 [00:00<?, ?it/s]"
      ]
     },
     "metadata": {},
     "output_type": "display_data"
    },
    {
     "name": "stderr",
     "output_type": "stream",
     "text": [
      "2023-09-27 18:56:37,899 - hbmep.utils.utils - INFO - func:run_inference took: 17.19 sec\n",
      "2023-09-27 18:56:37,900 - __main__ - INFO - Predicting ...\n",
      "2023-09-27 18:56:37,904 - hbmep.utils.utils - INFO - func:make_prediction_dataset took: 0.00 sec\n",
      "2023-09-27 18:56:38,848 - hbmep.utils.utils - INFO - func:predict took: 0.94 sec\n",
      "2023-09-27 18:56:38,849 - __main__ - INFO - Plotting recruitment curves ...\n",
      "2023-09-27 18:56:38,852 - hbmep.model.baseline - INFO - Rendering ...\n",
      "2023-09-27 18:56:39,574 - hbmep.model.baseline - INFO - Saved to /home/vishu/repos/hbmep-paper/reports/human/intraoperative/power-analysis/draw_807/N_2/seed_129/recruitment_curves.pdf\n",
      "2023-09-27 18:56:39,574 - hbmep.utils.utils - INFO - func:render_recruitment_curves took: 0.72 sec\n",
      "2023-09-27 18:56:39,574 - __main__ - INFO - Plotting posterior checks ...\n",
      "2023-09-27 18:56:39,577 - hbmep.model.baseline - INFO - Rendering Posterior Predictive Check ...\n",
      "2023-09-27 18:56:40,445 - hbmep.model.baseline - INFO - Saved to /home/vishu/repos/hbmep-paper/reports/human/intraoperative/power-analysis/draw_807/N_2/seed_129/posterior_predictive_check.pdf\n",
      "2023-09-27 18:56:40,445 - hbmep.utils.utils - INFO - func:_render_predictive_check took: 0.87 sec\n",
      "2023-09-27 18:56:40,445 - hbmep.utils.utils - INFO - func:render_predictive_check took: 0.87 sec\n",
      "2023-09-27 18:56:41,502 - __main__ - INFO - \n",
      "\n",
      "Draw:2/50, N:1/6, Repeat:4/10\n",
      "2023-09-27 18:56:41,504 - __main__ - INFO - Seed:822, Subjects: 98, 32\n",
      "2023-09-27 18:56:41,505 - hbmep.config - INFO - Verifying configuration ...\n",
      "2023-09-27 18:56:41,505 - hbmep.config - INFO - Success!\n",
      "2023-09-27 18:56:41,506 - hbmep.model.baseline - INFO - Initialized model with hierarchical_bayesian link\n",
      "2023-09-27 18:56:41,506 - hbmep.dataset.core - INFO - Artefacts will be stored here - /home/vishu/repos/hbmep-paper/reports/human/intraoperative/power-analysis/draw_807/N_2/seed_822\n",
      "2023-09-27 18:56:41,506 - hbmep.dataset.core - INFO - Copied config to /home/vishu/repos/hbmep-paper/reports/human/intraoperative/power-analysis/draw_807/N_2/seed_822\n",
      "2023-09-27 18:56:41,507 - hbmep.dataset.core - INFO - Processing data ...\n",
      "2023-09-27 18:56:41,508 - hbmep.utils.utils - INFO - func:load took: 0.00 sec\n",
      "2023-09-27 18:56:41,508 - __main__ - INFO - Fitting ...\n",
      "2023-09-27 18:56:41,508 - hbmep.model.baseline - INFO - Running inference with hierarchical_bayesian ...\n"
     ]
    },
    {
     "data": {
      "application/vnd.jupyter.widget-view+json": {
       "model_id": "4ecd37be02a24038bba45c615490b67f",
       "version_major": 2,
       "version_minor": 0
      },
      "text/plain": [
       "  0%|          | 0/1500 [00:00<?, ?it/s]"
      ]
     },
     "metadata": {},
     "output_type": "display_data"
    },
    {
     "data": {
      "application/vnd.jupyter.widget-view+json": {
       "model_id": "db50f9418fea498e8b667b2edd52b8ec",
       "version_major": 2,
       "version_minor": 0
      },
      "text/plain": [
       "  0%|          | 0/1500 [00:00<?, ?it/s]"
      ]
     },
     "metadata": {},
     "output_type": "display_data"
    },
    {
     "data": {
      "application/vnd.jupyter.widget-view+json": {
       "model_id": "5e20358ff43d43348edf9c5591c42c82",
       "version_major": 2,
       "version_minor": 0
      },
      "text/plain": [
       "  0%|          | 0/1500 [00:00<?, ?it/s]"
      ]
     },
     "metadata": {},
     "output_type": "display_data"
    },
    {
     "data": {
      "application/vnd.jupyter.widget-view+json": {
       "model_id": "63f84ab5236d45b98dc3a9413d5ccbae",
       "version_major": 2,
       "version_minor": 0
      },
      "text/plain": [
       "  0%|          | 0/1500 [00:00<?, ?it/s]"
      ]
     },
     "metadata": {},
     "output_type": "display_data"
    },
    {
     "name": "stderr",
     "output_type": "stream",
     "text": [
      "2023-09-27 18:56:55,066 - hbmep.utils.utils - INFO - func:run_inference took: 13.56 sec\n",
      "2023-09-27 18:56:55,067 - __main__ - INFO - Predicting ...\n",
      "2023-09-27 18:56:55,072 - hbmep.utils.utils - INFO - func:make_prediction_dataset took: 0.00 sec\n",
      "2023-09-27 18:56:56,049 - hbmep.utils.utils - INFO - func:predict took: 0.98 sec\n",
      "2023-09-27 18:56:56,049 - __main__ - INFO - Plotting recruitment curves ...\n",
      "2023-09-27 18:56:56,053 - hbmep.model.baseline - INFO - Rendering ...\n",
      "2023-09-27 18:56:56,771 - hbmep.model.baseline - INFO - Saved to /home/vishu/repos/hbmep-paper/reports/human/intraoperative/power-analysis/draw_807/N_2/seed_822/recruitment_curves.pdf\n",
      "2023-09-27 18:56:56,771 - hbmep.utils.utils - INFO - func:render_recruitment_curves took: 0.72 sec\n",
      "2023-09-27 18:56:56,771 - __main__ - INFO - Plotting posterior checks ...\n",
      "2023-09-27 18:56:56,775 - hbmep.model.baseline - INFO - Rendering Posterior Predictive Check ...\n",
      "2023-09-27 18:56:57,637 - hbmep.model.baseline - INFO - Saved to /home/vishu/repos/hbmep-paper/reports/human/intraoperative/power-analysis/draw_807/N_2/seed_822/posterior_predictive_check.pdf\n",
      "2023-09-27 18:56:57,637 - hbmep.utils.utils - INFO - func:_render_predictive_check took: 0.87 sec\n",
      "2023-09-27 18:56:57,637 - hbmep.utils.utils - INFO - func:render_predictive_check took: 0.87 sec\n",
      "2023-09-27 18:56:58,713 - __main__ - INFO - \n",
      "\n",
      "Draw:2/50, N:1/6, Repeat:5/10\n",
      "2023-09-27 18:56:58,716 - __main__ - INFO - Seed:616, Subjects: 130, 39\n",
      "2023-09-27 18:56:58,717 - hbmep.config - INFO - Verifying configuration ...\n",
      "2023-09-27 18:56:58,717 - hbmep.config - INFO - Success!\n",
      "2023-09-27 18:56:58,718 - hbmep.model.baseline - INFO - Initialized model with hierarchical_bayesian link\n",
      "2023-09-27 18:56:58,718 - hbmep.dataset.core - INFO - Artefacts will be stored here - /home/vishu/repos/hbmep-paper/reports/human/intraoperative/power-analysis/draw_807/N_2/seed_616\n",
      "2023-09-27 18:56:58,718 - hbmep.dataset.core - INFO - Copied config to /home/vishu/repos/hbmep-paper/reports/human/intraoperative/power-analysis/draw_807/N_2/seed_616\n",
      "2023-09-27 18:56:58,719 - hbmep.dataset.core - INFO - Processing data ...\n",
      "2023-09-27 18:56:58,720 - hbmep.utils.utils - INFO - func:load took: 0.00 sec\n",
      "2023-09-27 18:56:58,720 - __main__ - INFO - Fitting ...\n",
      "2023-09-27 18:56:58,720 - hbmep.model.baseline - INFO - Running inference with hierarchical_bayesian ...\n"
     ]
    },
    {
     "data": {
      "application/vnd.jupyter.widget-view+json": {
       "model_id": "05fb5c7a1e4f4893a15e1b785f55ca65",
       "version_major": 2,
       "version_minor": 0
      },
      "text/plain": [
       "  0%|          | 0/1500 [00:00<?, ?it/s]"
      ]
     },
     "metadata": {},
     "output_type": "display_data"
    },
    {
     "data": {
      "application/vnd.jupyter.widget-view+json": {
       "model_id": "59bfc03f24b944f18ed2f100d34c72f7",
       "version_major": 2,
       "version_minor": 0
      },
      "text/plain": [
       "  0%|          | 0/1500 [00:00<?, ?it/s]"
      ]
     },
     "metadata": {},
     "output_type": "display_data"
    },
    {
     "data": {
      "application/vnd.jupyter.widget-view+json": {
       "model_id": "5b0f50fe9bff4bdba994963571a7a497",
       "version_major": 2,
       "version_minor": 0
      },
      "text/plain": [
       "  0%|          | 0/1500 [00:00<?, ?it/s]"
      ]
     },
     "metadata": {},
     "output_type": "display_data"
    },
    {
     "data": {
      "application/vnd.jupyter.widget-view+json": {
       "model_id": "a329d52d89ea490d982109fc850b9881",
       "version_major": 2,
       "version_minor": 0
      },
      "text/plain": [
       "  0%|          | 0/1500 [00:00<?, ?it/s]"
      ]
     },
     "metadata": {},
     "output_type": "display_data"
    },
    {
     "name": "stderr",
     "output_type": "stream",
     "text": [
      "2023-09-27 18:57:15,811 - hbmep.utils.utils - INFO - func:run_inference took: 17.09 sec\n",
      "2023-09-27 18:57:15,811 - __main__ - INFO - Predicting ...\n",
      "2023-09-27 18:57:15,816 - hbmep.utils.utils - INFO - func:make_prediction_dataset took: 0.00 sec\n",
      "2023-09-27 18:57:16,775 - hbmep.utils.utils - INFO - func:predict took: 0.96 sec\n",
      "2023-09-27 18:57:16,775 - __main__ - INFO - Plotting recruitment curves ...\n",
      "2023-09-27 18:57:16,779 - hbmep.model.baseline - INFO - Rendering ...\n",
      "2023-09-27 18:57:17,505 - hbmep.model.baseline - INFO - Saved to /home/vishu/repos/hbmep-paper/reports/human/intraoperative/power-analysis/draw_807/N_2/seed_616/recruitment_curves.pdf\n",
      "2023-09-27 18:57:17,505 - hbmep.utils.utils - INFO - func:render_recruitment_curves took: 0.73 sec\n",
      "2023-09-27 18:57:17,506 - __main__ - INFO - Plotting posterior checks ...\n",
      "2023-09-27 18:57:17,510 - hbmep.model.baseline - INFO - Rendering Posterior Predictive Check ...\n",
      "2023-09-27 18:57:18,387 - hbmep.model.baseline - INFO - Saved to /home/vishu/repos/hbmep-paper/reports/human/intraoperative/power-analysis/draw_807/N_2/seed_616/posterior_predictive_check.pdf\n",
      "2023-09-27 18:57:18,387 - hbmep.utils.utils - INFO - func:_render_predictive_check took: 0.88 sec\n",
      "2023-09-27 18:57:18,387 - hbmep.utils.utils - INFO - func:render_predictive_check took: 0.88 sec\n",
      "2023-09-27 18:57:19,502 - __main__ - INFO - \n",
      "\n",
      "Draw:2/50, N:1/6, Repeat:6/10\n",
      "2023-09-27 18:57:19,504 - __main__ - INFO - Seed:214, Subjects: 120, 179\n",
      "2023-09-27 18:57:19,505 - hbmep.config - INFO - Verifying configuration ...\n",
      "2023-09-27 18:57:19,505 - hbmep.config - INFO - Success!\n",
      "2023-09-27 18:57:19,506 - hbmep.model.baseline - INFO - Initialized model with hierarchical_bayesian link\n",
      "2023-09-27 18:57:19,506 - hbmep.dataset.core - INFO - Artefacts will be stored here - /home/vishu/repos/hbmep-paper/reports/human/intraoperative/power-analysis/draw_807/N_2/seed_214\n",
      "2023-09-27 18:57:19,506 - hbmep.dataset.core - INFO - Copied config to /home/vishu/repos/hbmep-paper/reports/human/intraoperative/power-analysis/draw_807/N_2/seed_214\n",
      "2023-09-27 18:57:19,507 - hbmep.dataset.core - INFO - Processing data ...\n",
      "2023-09-27 18:57:19,508 - hbmep.utils.utils - INFO - func:load took: 0.00 sec\n",
      "2023-09-27 18:57:19,508 - __main__ - INFO - Fitting ...\n",
      "2023-09-27 18:57:19,508 - hbmep.model.baseline - INFO - Running inference with hierarchical_bayesian ...\n"
     ]
    },
    {
     "data": {
      "application/vnd.jupyter.widget-view+json": {
       "model_id": "46665ad3f0124a71832dc01caff75209",
       "version_major": 2,
       "version_minor": 0
      },
      "text/plain": [
       "  0%|          | 0/1500 [00:00<?, ?it/s]"
      ]
     },
     "metadata": {},
     "output_type": "display_data"
    },
    {
     "data": {
      "application/vnd.jupyter.widget-view+json": {
       "model_id": "a9d81a3097f444d0b798b6eec59dbb45",
       "version_major": 2,
       "version_minor": 0
      },
      "text/plain": [
       "  0%|          | 0/1500 [00:00<?, ?it/s]"
      ]
     },
     "metadata": {},
     "output_type": "display_data"
    },
    {
     "data": {
      "application/vnd.jupyter.widget-view+json": {
       "model_id": "795822ad9e1945039357df9f83ca10bb",
       "version_major": 2,
       "version_minor": 0
      },
      "text/plain": [
       "  0%|          | 0/1500 [00:00<?, ?it/s]"
      ]
     },
     "metadata": {},
     "output_type": "display_data"
    },
    {
     "data": {
      "application/vnd.jupyter.widget-view+json": {
       "model_id": "217c305a4291466097b8cb714613a1d2",
       "version_major": 2,
       "version_minor": 0
      },
      "text/plain": [
       "  0%|          | 0/1500 [00:00<?, ?it/s]"
      ]
     },
     "metadata": {},
     "output_type": "display_data"
    },
    {
     "name": "stderr",
     "output_type": "stream",
     "text": [
      "2023-09-27 18:57:33,365 - hbmep.utils.utils - INFO - func:run_inference took: 13.86 sec\n",
      "2023-09-27 18:57:33,366 - __main__ - INFO - Predicting ...\n",
      "2023-09-27 18:57:33,371 - hbmep.utils.utils - INFO - func:make_prediction_dataset took: 0.00 sec\n",
      "2023-09-27 18:57:34,327 - hbmep.utils.utils - INFO - func:predict took: 0.96 sec\n",
      "2023-09-27 18:57:34,328 - __main__ - INFO - Plotting recruitment curves ...\n",
      "2023-09-27 18:57:34,331 - hbmep.model.baseline - INFO - Rendering ...\n",
      "2023-09-27 18:57:35,088 - hbmep.model.baseline - INFO - Saved to /home/vishu/repos/hbmep-paper/reports/human/intraoperative/power-analysis/draw_807/N_2/seed_214/recruitment_curves.pdf\n",
      "2023-09-27 18:57:35,088 - hbmep.utils.utils - INFO - func:render_recruitment_curves took: 0.76 sec\n",
      "2023-09-27 18:57:35,088 - __main__ - INFO - Plotting posterior checks ...\n",
      "2023-09-27 18:57:35,092 - hbmep.model.baseline - INFO - Rendering Posterior Predictive Check ...\n",
      "2023-09-27 18:57:35,955 - hbmep.model.baseline - INFO - Saved to /home/vishu/repos/hbmep-paper/reports/human/intraoperative/power-analysis/draw_807/N_2/seed_214/posterior_predictive_check.pdf\n",
      "2023-09-27 18:57:35,955 - hbmep.utils.utils - INFO - func:_render_predictive_check took: 0.87 sec\n",
      "2023-09-27 18:57:35,955 - hbmep.utils.utils - INFO - func:render_predictive_check took: 0.87 sec\n",
      "2023-09-27 18:57:37,084 - __main__ - INFO - \n",
      "\n",
      "Draw:2/50, N:1/6, Repeat:7/10\n",
      "2023-09-27 18:57:37,086 - __main__ - INFO - Seed:204, Subjects: 195, 25\n",
      "2023-09-27 18:57:37,088 - hbmep.config - INFO - Verifying configuration ...\n",
      "2023-09-27 18:57:37,088 - hbmep.config - INFO - Success!\n",
      "2023-09-27 18:57:37,088 - hbmep.model.baseline - INFO - Initialized model with hierarchical_bayesian link\n",
      "2023-09-27 18:57:37,089 - hbmep.dataset.core - INFO - Artefacts will be stored here - /home/vishu/repos/hbmep-paper/reports/human/intraoperative/power-analysis/draw_807/N_2/seed_204\n",
      "2023-09-27 18:57:37,089 - hbmep.dataset.core - INFO - Copied config to /home/vishu/repos/hbmep-paper/reports/human/intraoperative/power-analysis/draw_807/N_2/seed_204\n",
      "2023-09-27 18:57:37,090 - hbmep.dataset.core - INFO - Processing data ...\n",
      "2023-09-27 18:57:37,091 - hbmep.utils.utils - INFO - func:load took: 0.00 sec\n",
      "2023-09-27 18:57:37,091 - __main__ - INFO - Fitting ...\n",
      "2023-09-27 18:57:37,091 - hbmep.model.baseline - INFO - Running inference with hierarchical_bayesian ...\n"
     ]
    },
    {
     "data": {
      "application/vnd.jupyter.widget-view+json": {
       "model_id": "2e9e811072bc457b8890dc0da71b7e9e",
       "version_major": 2,
       "version_minor": 0
      },
      "text/plain": [
       "  0%|          | 0/1500 [00:00<?, ?it/s]"
      ]
     },
     "metadata": {},
     "output_type": "display_data"
    },
    {
     "data": {
      "application/vnd.jupyter.widget-view+json": {
       "model_id": "b8c23a2648a9449081faeda6203688f0",
       "version_major": 2,
       "version_minor": 0
      },
      "text/plain": [
       "  0%|          | 0/1500 [00:00<?, ?it/s]"
      ]
     },
     "metadata": {},
     "output_type": "display_data"
    },
    {
     "data": {
      "application/vnd.jupyter.widget-view+json": {
       "model_id": "a07d0280f2894acc96ca7d2c5dad88b3",
       "version_major": 2,
       "version_minor": 0
      },
      "text/plain": [
       "  0%|          | 0/1500 [00:00<?, ?it/s]"
      ]
     },
     "metadata": {},
     "output_type": "display_data"
    },
    {
     "data": {
      "application/vnd.jupyter.widget-view+json": {
       "model_id": "91a710e6634847d1b7173c624b5f7f7a",
       "version_major": 2,
       "version_minor": 0
      },
      "text/plain": [
       "  0%|          | 0/1500 [00:00<?, ?it/s]"
      ]
     },
     "metadata": {},
     "output_type": "display_data"
    },
    {
     "name": "stderr",
     "output_type": "stream",
     "text": [
      "2023-09-27 18:57:58,908 - hbmep.utils.utils - INFO - func:run_inference took: 21.82 sec\n",
      "2023-09-27 18:57:58,908 - __main__ - INFO - Predicting ...\n",
      "2023-09-27 18:57:58,913 - hbmep.utils.utils - INFO - func:make_prediction_dataset took: 0.00 sec\n",
      "2023-09-27 18:57:59,849 - hbmep.utils.utils - INFO - func:predict took: 0.94 sec\n",
      "2023-09-27 18:57:59,850 - __main__ - INFO - Plotting recruitment curves ...\n",
      "2023-09-27 18:57:59,854 - hbmep.model.baseline - INFO - Rendering ...\n",
      "2023-09-27 18:58:00,644 - hbmep.model.baseline - INFO - Saved to /home/vishu/repos/hbmep-paper/reports/human/intraoperative/power-analysis/draw_807/N_2/seed_204/recruitment_curves.pdf\n",
      "2023-09-27 18:58:00,645 - hbmep.utils.utils - INFO - func:render_recruitment_curves took: 0.79 sec\n",
      "2023-09-27 18:58:00,645 - __main__ - INFO - Plotting posterior checks ...\n",
      "2023-09-27 18:58:00,649 - hbmep.model.baseline - INFO - Rendering Posterior Predictive Check ...\n",
      "2023-09-27 18:58:01,503 - hbmep.model.baseline - INFO - Saved to /home/vishu/repos/hbmep-paper/reports/human/intraoperative/power-analysis/draw_807/N_2/seed_204/posterior_predictive_check.pdf\n",
      "2023-09-27 18:58:01,503 - hbmep.utils.utils - INFO - func:_render_predictive_check took: 0.86 sec\n",
      "2023-09-27 18:58:01,504 - hbmep.utils.utils - INFO - func:render_predictive_check took: 0.86 sec\n",
      "2023-09-27 18:58:02,628 - __main__ - INFO - \n",
      "\n",
      "Draw:2/50, N:1/6, Repeat:8/10\n",
      "2023-09-27 18:58:02,630 - __main__ - INFO - Seed:912, Subjects: 108, 85\n",
      "2023-09-27 18:58:02,631 - hbmep.config - INFO - Verifying configuration ...\n",
      "2023-09-27 18:58:02,631 - hbmep.config - INFO - Success!\n",
      "2023-09-27 18:58:02,632 - hbmep.model.baseline - INFO - Initialized model with hierarchical_bayesian link\n",
      "2023-09-27 18:58:02,632 - hbmep.dataset.core - INFO - Artefacts will be stored here - /home/vishu/repos/hbmep-paper/reports/human/intraoperative/power-analysis/draw_807/N_2/seed_912\n",
      "2023-09-27 18:58:02,632 - hbmep.dataset.core - INFO - Copied config to /home/vishu/repos/hbmep-paper/reports/human/intraoperative/power-analysis/draw_807/N_2/seed_912\n",
      "2023-09-27 18:58:02,633 - hbmep.dataset.core - INFO - Processing data ...\n",
      "2023-09-27 18:58:02,634 - hbmep.utils.utils - INFO - func:load took: 0.00 sec\n",
      "2023-09-27 18:58:02,634 - __main__ - INFO - Fitting ...\n",
      "2023-09-27 18:58:02,634 - hbmep.model.baseline - INFO - Running inference with hierarchical_bayesian ...\n"
     ]
    },
    {
     "data": {
      "application/vnd.jupyter.widget-view+json": {
       "model_id": "1baf91c92213433e9046c048dc925850",
       "version_major": 2,
       "version_minor": 0
      },
      "text/plain": [
       "  0%|          | 0/1500 [00:00<?, ?it/s]"
      ]
     },
     "metadata": {},
     "output_type": "display_data"
    },
    {
     "data": {
      "application/vnd.jupyter.widget-view+json": {
       "model_id": "3c2887b8b9e7400c82d68f8b30728361",
       "version_major": 2,
       "version_minor": 0
      },
      "text/plain": [
       "  0%|          | 0/1500 [00:00<?, ?it/s]"
      ]
     },
     "metadata": {},
     "output_type": "display_data"
    },
    {
     "data": {
      "application/vnd.jupyter.widget-view+json": {
       "model_id": "a2692d4450ec4d3d8bb4202f081d5baf",
       "version_major": 2,
       "version_minor": 0
      },
      "text/plain": [
       "  0%|          | 0/1500 [00:00<?, ?it/s]"
      ]
     },
     "metadata": {},
     "output_type": "display_data"
    },
    {
     "data": {
      "application/vnd.jupyter.widget-view+json": {
       "model_id": "40b93816f13a4067ae5fb4c14c494518",
       "version_major": 2,
       "version_minor": 0
      },
      "text/plain": [
       "  0%|          | 0/1500 [00:00<?, ?it/s]"
      ]
     },
     "metadata": {},
     "output_type": "display_data"
    },
    {
     "name": "stderr",
     "output_type": "stream",
     "text": [
      "2023-09-27 18:58:18,597 - hbmep.utils.utils - INFO - func:run_inference took: 15.96 sec\n",
      "2023-09-27 18:58:18,598 - __main__ - INFO - Predicting ...\n",
      "2023-09-27 18:58:18,602 - hbmep.utils.utils - INFO - func:make_prediction_dataset took: 0.00 sec\n",
      "2023-09-27 18:58:19,548 - hbmep.utils.utils - INFO - func:predict took: 0.95 sec\n",
      "2023-09-27 18:58:19,548 - __main__ - INFO - Plotting recruitment curves ...\n",
      "2023-09-27 18:58:19,552 - hbmep.model.baseline - INFO - Rendering ...\n",
      "2023-09-27 18:58:20,293 - hbmep.model.baseline - INFO - Saved to /home/vishu/repos/hbmep-paper/reports/human/intraoperative/power-analysis/draw_807/N_2/seed_912/recruitment_curves.pdf\n",
      "2023-09-27 18:58:20,293 - hbmep.utils.utils - INFO - func:render_recruitment_curves took: 0.74 sec\n",
      "2023-09-27 18:58:20,294 - __main__ - INFO - Plotting posterior checks ...\n",
      "2023-09-27 18:58:20,298 - hbmep.model.baseline - INFO - Rendering Posterior Predictive Check ...\n",
      "2023-09-27 18:58:21,155 - hbmep.model.baseline - INFO - Saved to /home/vishu/repos/hbmep-paper/reports/human/intraoperative/power-analysis/draw_807/N_2/seed_912/posterior_predictive_check.pdf\n",
      "2023-09-27 18:58:21,156 - hbmep.utils.utils - INFO - func:_render_predictive_check took: 0.86 sec\n",
      "2023-09-27 18:58:21,156 - hbmep.utils.utils - INFO - func:render_predictive_check took: 0.86 sec\n",
      "2023-09-27 18:58:22,297 - __main__ - INFO - \n",
      "\n",
      "Draw:2/50, N:1/6, Repeat:9/10\n",
      "2023-09-27 18:58:22,300 - __main__ - INFO - Seed:698, Subjects: 50, 190\n",
      "2023-09-27 18:58:22,301 - hbmep.config - INFO - Verifying configuration ...\n",
      "2023-09-27 18:58:22,301 - hbmep.config - INFO - Success!\n",
      "2023-09-27 18:58:22,301 - hbmep.model.baseline - INFO - Initialized model with hierarchical_bayesian link\n",
      "2023-09-27 18:58:22,302 - hbmep.dataset.core - INFO - Artefacts will be stored here - /home/vishu/repos/hbmep-paper/reports/human/intraoperative/power-analysis/draw_807/N_2/seed_698\n",
      "2023-09-27 18:58:22,302 - hbmep.dataset.core - INFO - Copied config to /home/vishu/repos/hbmep-paper/reports/human/intraoperative/power-analysis/draw_807/N_2/seed_698\n",
      "2023-09-27 18:58:22,303 - hbmep.dataset.core - INFO - Processing data ...\n",
      "2023-09-27 18:58:22,304 - hbmep.utils.utils - INFO - func:load took: 0.00 sec\n",
      "2023-09-27 18:58:22,304 - __main__ - INFO - Fitting ...\n",
      "2023-09-27 18:58:22,305 - hbmep.model.baseline - INFO - Running inference with hierarchical_bayesian ...\n"
     ]
    },
    {
     "data": {
      "application/vnd.jupyter.widget-view+json": {
       "model_id": "df94d9c4d1774d34a027cc68407960d3",
       "version_major": 2,
       "version_minor": 0
      },
      "text/plain": [
       "  0%|          | 0/1500 [00:00<?, ?it/s]"
      ]
     },
     "metadata": {},
     "output_type": "display_data"
    },
    {
     "data": {
      "application/vnd.jupyter.widget-view+json": {
       "model_id": "f42b5203706843f6824f0a7ade3d8763",
       "version_major": 2,
       "version_minor": 0
      },
      "text/plain": [
       "  0%|          | 0/1500 [00:00<?, ?it/s]"
      ]
     },
     "metadata": {},
     "output_type": "display_data"
    },
    {
     "data": {
      "application/vnd.jupyter.widget-view+json": {
       "model_id": "3cbf87b743754a02964f90958ff93d69",
       "version_major": 2,
       "version_minor": 0
      },
      "text/plain": [
       "  0%|          | 0/1500 [00:00<?, ?it/s]"
      ]
     },
     "metadata": {},
     "output_type": "display_data"
    },
    {
     "data": {
      "application/vnd.jupyter.widget-view+json": {
       "model_id": "ffe6504099e54cccaedcc09f4c0e3d47",
       "version_major": 2,
       "version_minor": 0
      },
      "text/plain": [
       "  0%|          | 0/1500 [00:00<?, ?it/s]"
      ]
     },
     "metadata": {},
     "output_type": "display_data"
    },
    {
     "name": "stderr",
     "output_type": "stream",
     "text": [
      "2023-09-27 18:58:34,576 - hbmep.utils.utils - INFO - func:run_inference took: 12.27 sec\n",
      "2023-09-27 18:58:34,577 - __main__ - INFO - Predicting ...\n",
      "2023-09-27 18:58:34,582 - hbmep.utils.utils - INFO - func:make_prediction_dataset took: 0.00 sec\n",
      "2023-09-27 18:58:35,535 - hbmep.utils.utils - INFO - func:predict took: 0.95 sec\n",
      "2023-09-27 18:58:35,536 - __main__ - INFO - Plotting recruitment curves ...\n",
      "2023-09-27 18:58:35,540 - hbmep.model.baseline - INFO - Rendering ...\n",
      "2023-09-27 18:58:36,335 - hbmep.model.baseline - INFO - Saved to /home/vishu/repos/hbmep-paper/reports/human/intraoperative/power-analysis/draw_807/N_2/seed_698/recruitment_curves.pdf\n",
      "2023-09-27 18:58:36,335 - hbmep.utils.utils - INFO - func:render_recruitment_curves took: 0.80 sec\n",
      "2023-09-27 18:58:36,335 - __main__ - INFO - Plotting posterior checks ...\n",
      "2023-09-27 18:58:36,339 - hbmep.model.baseline - INFO - Rendering Posterior Predictive Check ...\n",
      "2023-09-27 18:58:37,229 - hbmep.model.baseline - INFO - Saved to /home/vishu/repos/hbmep-paper/reports/human/intraoperative/power-analysis/draw_807/N_2/seed_698/posterior_predictive_check.pdf\n",
      "2023-09-27 18:58:37,229 - hbmep.utils.utils - INFO - func:_render_predictive_check took: 0.89 sec\n",
      "2023-09-27 18:58:37,230 - hbmep.utils.utils - INFO - func:render_predictive_check took: 0.89 sec\n",
      "2023-09-27 18:58:38,388 - __main__ - INFO - \n",
      "\n",
      "Draw:2/50, N:1/6, Repeat:10/10\n",
      "2023-09-27 18:58:38,390 - __main__ - INFO - Seed:677, Subjects: 156, 108\n",
      "2023-09-27 18:58:38,391 - hbmep.config - INFO - Verifying configuration ...\n",
      "2023-09-27 18:58:38,392 - hbmep.config - INFO - Success!\n",
      "2023-09-27 18:58:38,392 - hbmep.model.baseline - INFO - Initialized model with hierarchical_bayesian link\n",
      "2023-09-27 18:58:38,392 - hbmep.dataset.core - INFO - Artefacts will be stored here - /home/vishu/repos/hbmep-paper/reports/human/intraoperative/power-analysis/draw_807/N_2/seed_677\n",
      "2023-09-27 18:58:38,393 - hbmep.dataset.core - INFO - Copied config to /home/vishu/repos/hbmep-paper/reports/human/intraoperative/power-analysis/draw_807/N_2/seed_677\n",
      "2023-09-27 18:58:38,393 - hbmep.dataset.core - INFO - Processing data ...\n",
      "2023-09-27 18:58:38,394 - hbmep.utils.utils - INFO - func:load took: 0.00 sec\n",
      "2023-09-27 18:58:38,394 - __main__ - INFO - Fitting ...\n",
      "2023-09-27 18:58:38,394 - hbmep.model.baseline - INFO - Running inference with hierarchical_bayesian ...\n"
     ]
    },
    {
     "data": {
      "application/vnd.jupyter.widget-view+json": {
       "model_id": "f26e8bd9dbb5443d87b87138ee2657b0",
       "version_major": 2,
       "version_minor": 0
      },
      "text/plain": [
       "  0%|          | 0/1500 [00:00<?, ?it/s]"
      ]
     },
     "metadata": {},
     "output_type": "display_data"
    },
    {
     "data": {
      "application/vnd.jupyter.widget-view+json": {
       "model_id": "7f19c60654f847e8b4df13f363a9b42a",
       "version_major": 2,
       "version_minor": 0
      },
      "text/plain": [
       "  0%|          | 0/1500 [00:00<?, ?it/s]"
      ]
     },
     "metadata": {},
     "output_type": "display_data"
    },
    {
     "data": {
      "application/vnd.jupyter.widget-view+json": {
       "model_id": "2fb5f8ff97e5491f8b01fac084c89e72",
       "version_major": 2,
       "version_minor": 0
      },
      "text/plain": [
       "  0%|          | 0/1500 [00:00<?, ?it/s]"
      ]
     },
     "metadata": {},
     "output_type": "display_data"
    },
    {
     "data": {
      "application/vnd.jupyter.widget-view+json": {
       "model_id": "18b9770b467743a4aa4dab71fdc213fd",
       "version_major": 2,
       "version_minor": 0
      },
      "text/plain": [
       "  0%|          | 0/1500 [00:00<?, ?it/s]"
      ]
     },
     "metadata": {},
     "output_type": "display_data"
    },
    {
     "name": "stderr",
     "output_type": "stream",
     "text": [
      "2023-09-27 18:58:55,090 - hbmep.utils.utils - INFO - func:run_inference took: 16.70 sec\n",
      "2023-09-27 18:58:55,091 - __main__ - INFO - Predicting ...\n",
      "2023-09-27 18:58:55,095 - hbmep.utils.utils - INFO - func:make_prediction_dataset took: 0.00 sec\n",
      "2023-09-27 18:58:56,032 - hbmep.utils.utils - INFO - func:predict took: 0.94 sec\n",
      "2023-09-27 18:58:56,033 - __main__ - INFO - Plotting recruitment curves ...\n",
      "2023-09-27 18:58:56,036 - hbmep.model.baseline - INFO - Rendering ...\n",
      "2023-09-27 18:58:56,884 - hbmep.model.baseline - INFO - Saved to /home/vishu/repos/hbmep-paper/reports/human/intraoperative/power-analysis/draw_807/N_2/seed_677/recruitment_curves.pdf\n",
      "2023-09-27 18:58:56,884 - hbmep.utils.utils - INFO - func:render_recruitment_curves took: 0.85 sec\n",
      "2023-09-27 18:58:56,885 - __main__ - INFO - Plotting posterior checks ...\n",
      "2023-09-27 18:58:56,889 - hbmep.model.baseline - INFO - Rendering Posterior Predictive Check ...\n",
      "2023-09-27 18:58:57,748 - hbmep.model.baseline - INFO - Saved to /home/vishu/repos/hbmep-paper/reports/human/intraoperative/power-analysis/draw_807/N_2/seed_677/posterior_predictive_check.pdf\n",
      "2023-09-27 18:58:57,749 - hbmep.utils.utils - INFO - func:_render_predictive_check took: 0.86 sec\n",
      "2023-09-27 18:58:57,749 - hbmep.utils.utils - INFO - func:render_predictive_check took: 0.86 sec\n",
      "2023-09-27 18:58:59,062 - __main__ - INFO - \n",
      "\n",
      "Draw:2/50, N:2/6, Repeat:1/10\n",
      "2023-09-27 18:58:59,064 - __main__ - INFO - Seed:339, Subjects: 67, 138, 116, 43\n",
      "2023-09-27 18:58:59,065 - hbmep.config - INFO - Verifying configuration ...\n",
      "2023-09-27 18:58:59,065 - hbmep.config - INFO - Success!\n",
      "2023-09-27 18:58:59,065 - hbmep.model.baseline - INFO - Initialized model with hierarchical_bayesian link\n",
      "2023-09-27 18:58:59,066 - hbmep.dataset.core - INFO - Artefacts will be stored here - /home/vishu/repos/hbmep-paper/reports/human/intraoperative/power-analysis/draw_807/N_4/seed_339\n",
      "2023-09-27 18:58:59,066 - hbmep.dataset.core - INFO - Copied config to /home/vishu/repos/hbmep-paper/reports/human/intraoperative/power-analysis/draw_807/N_4/seed_339\n",
      "2023-09-27 18:58:59,066 - hbmep.dataset.core - INFO - Processing data ...\n",
      "2023-09-27 18:58:59,067 - hbmep.utils.utils - INFO - func:load took: 0.00 sec\n",
      "2023-09-27 18:58:59,067 - __main__ - INFO - Fitting ...\n",
      "2023-09-27 18:58:59,068 - hbmep.model.baseline - INFO - Running inference with hierarchical_bayesian ...\n"
     ]
    },
    {
     "data": {
      "application/vnd.jupyter.widget-view+json": {
       "model_id": "1ed57f852d204636b6f7dee35d27f13e",
       "version_major": 2,
       "version_minor": 0
      },
      "text/plain": [
       "  0%|          | 0/1500 [00:00<?, ?it/s]"
      ]
     },
     "metadata": {},
     "output_type": "display_data"
    },
    {
     "data": {
      "application/vnd.jupyter.widget-view+json": {
       "model_id": "f216ff3c4e7241ffb59b4d1dc42a691c",
       "version_major": 2,
       "version_minor": 0
      },
      "text/plain": [
       "  0%|          | 0/1500 [00:00<?, ?it/s]"
      ]
     },
     "metadata": {},
     "output_type": "display_data"
    },
    {
     "data": {
      "application/vnd.jupyter.widget-view+json": {
       "model_id": "0f3380fc08eb4f0ab3fedeb654bdb420",
       "version_major": 2,
       "version_minor": 0
      },
      "text/plain": [
       "  0%|          | 0/1500 [00:00<?, ?it/s]"
      ]
     },
     "metadata": {},
     "output_type": "display_data"
    },
    {
     "data": {
      "application/vnd.jupyter.widget-view+json": {
       "model_id": "994d23ca2d154b79b8e501af7a3951ab",
       "version_major": 2,
       "version_minor": 0
      },
      "text/plain": [
       "  0%|          | 0/1500 [00:00<?, ?it/s]"
      ]
     },
     "metadata": {},
     "output_type": "display_data"
    },
    {
     "name": "stderr",
     "output_type": "stream",
     "text": [
      "2023-09-27 18:59:36,793 - hbmep.utils.utils - INFO - func:run_inference took: 37.73 sec\n",
      "2023-09-27 18:59:36,794 - __main__ - INFO - Predicting ...\n",
      "2023-09-27 18:59:36,799 - hbmep.utils.utils - INFO - func:make_prediction_dataset took: 0.00 sec\n",
      "2023-09-27 18:59:38,279 - hbmep.utils.utils - INFO - func:predict took: 1.48 sec\n",
      "2023-09-27 18:59:38,279 - __main__ - INFO - Plotting recruitment curves ...\n",
      "2023-09-27 18:59:38,285 - hbmep.model.baseline - INFO - Rendering ...\n",
      "2023-09-27 18:59:39,710 - hbmep.model.baseline - INFO - Saved to /home/vishu/repos/hbmep-paper/reports/human/intraoperative/power-analysis/draw_807/N_4/seed_339/recruitment_curves.pdf\n",
      "2023-09-27 18:59:39,711 - hbmep.utils.utils - INFO - func:render_recruitment_curves took: 1.43 sec\n",
      "2023-09-27 18:59:39,711 - __main__ - INFO - Plotting posterior checks ...\n",
      "2023-09-27 18:59:39,717 - hbmep.model.baseline - INFO - Rendering Posterior Predictive Check ...\n",
      "2023-09-27 18:59:41,423 - hbmep.model.baseline - INFO - Saved to /home/vishu/repos/hbmep-paper/reports/human/intraoperative/power-analysis/draw_807/N_4/seed_339/posterior_predictive_check.pdf\n",
      "2023-09-27 18:59:41,424 - hbmep.utils.utils - INFO - func:_render_predictive_check took: 1.71 sec\n",
      "2023-09-27 18:59:41,424 - hbmep.utils.utils - INFO - func:render_predictive_check took: 1.71 sec\n",
      "2023-09-27 18:59:42,643 - __main__ - INFO - \n",
      "\n",
      "Draw:2/50, N:2/6, Repeat:2/10\n",
      "2023-09-27 18:59:42,645 - __main__ - INFO - Seed:777, Subjects: 23, 34, 144, 97\n",
      "2023-09-27 18:59:42,646 - hbmep.config - INFO - Verifying configuration ...\n",
      "2023-09-27 18:59:42,646 - hbmep.config - INFO - Success!\n",
      "2023-09-27 18:59:42,647 - hbmep.model.baseline - INFO - Initialized model with hierarchical_bayesian link\n",
      "2023-09-27 18:59:42,647 - hbmep.dataset.core - INFO - Artefacts will be stored here - /home/vishu/repos/hbmep-paper/reports/human/intraoperative/power-analysis/draw_807/N_4/seed_777\n",
      "2023-09-27 18:59:42,647 - hbmep.dataset.core - INFO - Copied config to /home/vishu/repos/hbmep-paper/reports/human/intraoperative/power-analysis/draw_807/N_4/seed_777\n",
      "2023-09-27 18:59:42,648 - hbmep.dataset.core - INFO - Processing data ...\n",
      "2023-09-27 18:59:42,649 - hbmep.utils.utils - INFO - func:load took: 0.00 sec\n",
      "2023-09-27 18:59:42,649 - __main__ - INFO - Fitting ...\n",
      "2023-09-27 18:59:42,649 - hbmep.model.baseline - INFO - Running inference with hierarchical_bayesian ...\n"
     ]
    },
    {
     "data": {
      "application/vnd.jupyter.widget-view+json": {
       "model_id": "1798a1581758476785c9ee8215234610",
       "version_major": 2,
       "version_minor": 0
      },
      "text/plain": [
       "  0%|          | 0/1500 [00:00<?, ?it/s]"
      ]
     },
     "metadata": {},
     "output_type": "display_data"
    },
    {
     "data": {
      "application/vnd.jupyter.widget-view+json": {
       "model_id": "7105f0805ea14943914b0b573fee7411",
       "version_major": 2,
       "version_minor": 0
      },
      "text/plain": [
       "  0%|          | 0/1500 [00:00<?, ?it/s]"
      ]
     },
     "metadata": {},
     "output_type": "display_data"
    },
    {
     "data": {
      "application/vnd.jupyter.widget-view+json": {
       "model_id": "2e462823b43240faa16eb7a28c941178",
       "version_major": 2,
       "version_minor": 0
      },
      "text/plain": [
       "  0%|          | 0/1500 [00:00<?, ?it/s]"
      ]
     },
     "metadata": {},
     "output_type": "display_data"
    },
    {
     "data": {
      "application/vnd.jupyter.widget-view+json": {
       "model_id": "30e66bc994e5468f97c84083ce3b6250",
       "version_major": 2,
       "version_minor": 0
      },
      "text/plain": [
       "  0%|          | 0/1500 [00:00<?, ?it/s]"
      ]
     },
     "metadata": {},
     "output_type": "display_data"
    },
    {
     "name": "stderr",
     "output_type": "stream",
     "text": [
      "2023-09-27 19:00:06,042 - hbmep.utils.utils - INFO - func:run_inference took: 23.39 sec\n",
      "2023-09-27 19:00:06,043 - __main__ - INFO - Predicting ...\n",
      "2023-09-27 19:00:06,047 - hbmep.utils.utils - INFO - func:make_prediction_dataset took: 0.00 sec\n",
      "2023-09-27 19:00:07,522 - hbmep.utils.utils - INFO - func:predict took: 1.47 sec\n",
      "2023-09-27 19:00:07,523 - __main__ - INFO - Plotting recruitment curves ...\n",
      "2023-09-27 19:00:07,528 - hbmep.model.baseline - INFO - Rendering ...\n",
      "2023-09-27 19:00:09,202 - hbmep.model.baseline - INFO - Saved to /home/vishu/repos/hbmep-paper/reports/human/intraoperative/power-analysis/draw_807/N_4/seed_777/recruitment_curves.pdf\n",
      "2023-09-27 19:00:09,202 - hbmep.utils.utils - INFO - func:render_recruitment_curves took: 1.68 sec\n",
      "2023-09-27 19:00:09,202 - __main__ - INFO - Plotting posterior checks ...\n",
      "2023-09-27 19:00:09,209 - hbmep.model.baseline - INFO - Rendering Posterior Predictive Check ...\n",
      "2023-09-27 19:00:10,901 - hbmep.model.baseline - INFO - Saved to /home/vishu/repos/hbmep-paper/reports/human/intraoperative/power-analysis/draw_807/N_4/seed_777/posterior_predictive_check.pdf\n",
      "2023-09-27 19:00:10,902 - hbmep.utils.utils - INFO - func:_render_predictive_check took: 1.70 sec\n",
      "2023-09-27 19:00:10,902 - hbmep.utils.utils - INFO - func:render_predictive_check took: 1.70 sec\n",
      "2023-09-27 19:00:12,188 - __main__ - INFO - \n",
      "\n",
      "Draw:2/50, N:2/6, Repeat:3/10\n",
      "2023-09-27 19:00:12,190 - __main__ - INFO - Seed:129, Subjects: 151, 192, 17, 74\n",
      "2023-09-27 19:00:12,191 - hbmep.config - INFO - Verifying configuration ...\n",
      "2023-09-27 19:00:12,191 - hbmep.config - INFO - Success!\n",
      "2023-09-27 19:00:12,192 - hbmep.model.baseline - INFO - Initialized model with hierarchical_bayesian link\n",
      "2023-09-27 19:00:12,192 - hbmep.dataset.core - INFO - Artefacts will be stored here - /home/vishu/repos/hbmep-paper/reports/human/intraoperative/power-analysis/draw_807/N_4/seed_129\n",
      "2023-09-27 19:00:12,192 - hbmep.dataset.core - INFO - Copied config to /home/vishu/repos/hbmep-paper/reports/human/intraoperative/power-analysis/draw_807/N_4/seed_129\n",
      "2023-09-27 19:00:12,193 - hbmep.dataset.core - INFO - Processing data ...\n",
      "2023-09-27 19:00:12,194 - hbmep.utils.utils - INFO - func:load took: 0.00 sec\n",
      "2023-09-27 19:00:12,194 - __main__ - INFO - Fitting ...\n",
      "2023-09-27 19:00:12,194 - hbmep.model.baseline - INFO - Running inference with hierarchical_bayesian ...\n"
     ]
    },
    {
     "data": {
      "application/vnd.jupyter.widget-view+json": {
       "model_id": "7b8dbe83a5b6452bb99690c039628a0a",
       "version_major": 2,
       "version_minor": 0
      },
      "text/plain": [
       "  0%|          | 0/1500 [00:00<?, ?it/s]"
      ]
     },
     "metadata": {},
     "output_type": "display_data"
    },
    {
     "data": {
      "application/vnd.jupyter.widget-view+json": {
       "model_id": "7abb38b78ab743298e3c57a3e8b54306",
       "version_major": 2,
       "version_minor": 0
      },
      "text/plain": [
       "  0%|          | 0/1500 [00:00<?, ?it/s]"
      ]
     },
     "metadata": {},
     "output_type": "display_data"
    },
    {
     "data": {
      "application/vnd.jupyter.widget-view+json": {
       "model_id": "660ecdcc9cd34d419b6dbcbcc8cd20ad",
       "version_major": 2,
       "version_minor": 0
      },
      "text/plain": [
       "  0%|          | 0/1500 [00:00<?, ?it/s]"
      ]
     },
     "metadata": {},
     "output_type": "display_data"
    },
    {
     "data": {
      "application/vnd.jupyter.widget-view+json": {
       "model_id": "d6849e8e2c9b440e8b5834d0df3e5cdf",
       "version_major": 2,
       "version_minor": 0
      },
      "text/plain": [
       "  0%|          | 0/1500 [00:00<?, ?it/s]"
      ]
     },
     "metadata": {},
     "output_type": "display_data"
    },
    {
     "name": "stderr",
     "output_type": "stream",
     "text": [
      "2023-09-27 19:00:43,902 - hbmep.utils.utils - INFO - func:run_inference took: 31.71 sec\n",
      "2023-09-27 19:00:43,902 - __main__ - INFO - Predicting ...\n",
      "2023-09-27 19:00:43,907 - hbmep.utils.utils - INFO - func:make_prediction_dataset took: 0.00 sec\n",
      "2023-09-27 19:00:45,379 - hbmep.utils.utils - INFO - func:predict took: 1.47 sec\n",
      "2023-09-27 19:00:45,380 - __main__ - INFO - Plotting recruitment curves ...\n",
      "2023-09-27 19:00:45,385 - hbmep.model.baseline - INFO - Rendering ...\n",
      "2023-09-27 19:00:46,904 - hbmep.model.baseline - INFO - Saved to /home/vishu/repos/hbmep-paper/reports/human/intraoperative/power-analysis/draw_807/N_4/seed_129/recruitment_curves.pdf\n",
      "2023-09-27 19:00:46,905 - hbmep.utils.utils - INFO - func:render_recruitment_curves took: 1.52 sec\n",
      "2023-09-27 19:00:46,905 - __main__ - INFO - Plotting posterior checks ...\n",
      "2023-09-27 19:00:46,911 - hbmep.model.baseline - INFO - Rendering Posterior Predictive Check ...\n",
      "2023-09-27 19:00:48,625 - hbmep.model.baseline - INFO - Saved to /home/vishu/repos/hbmep-paper/reports/human/intraoperative/power-analysis/draw_807/N_4/seed_129/posterior_predictive_check.pdf\n",
      "2023-09-27 19:00:48,625 - hbmep.utils.utils - INFO - func:_render_predictive_check took: 1.72 sec\n",
      "2023-09-27 19:00:48,625 - hbmep.utils.utils - INFO - func:render_predictive_check took: 1.72 sec\n",
      "2023-09-27 19:00:49,921 - __main__ - INFO - \n",
      "\n",
      "Draw:2/50, N:2/6, Repeat:4/10\n",
      "2023-09-27 19:00:49,925 - __main__ - INFO - Seed:822, Subjects: 98, 32, 121, 186\n",
      "2023-09-27 19:00:49,926 - hbmep.config - INFO - Verifying configuration ...\n",
      "2023-09-27 19:00:49,926 - hbmep.config - INFO - Success!\n",
      "2023-09-27 19:00:49,927 - hbmep.model.baseline - INFO - Initialized model with hierarchical_bayesian link\n",
      "2023-09-27 19:00:49,927 - hbmep.dataset.core - INFO - Artefacts will be stored here - /home/vishu/repos/hbmep-paper/reports/human/intraoperative/power-analysis/draw_807/N_4/seed_822\n",
      "2023-09-27 19:00:49,927 - hbmep.dataset.core - INFO - Copied config to /home/vishu/repos/hbmep-paper/reports/human/intraoperative/power-analysis/draw_807/N_4/seed_822\n",
      "2023-09-27 19:00:49,928 - hbmep.dataset.core - INFO - Processing data ...\n",
      "2023-09-27 19:00:49,929 - hbmep.utils.utils - INFO - func:load took: 0.00 sec\n",
      "2023-09-27 19:00:49,929 - __main__ - INFO - Fitting ...\n",
      "2023-09-27 19:00:49,929 - hbmep.model.baseline - INFO - Running inference with hierarchical_bayesian ...\n"
     ]
    },
    {
     "data": {
      "application/vnd.jupyter.widget-view+json": {
       "model_id": "0b1f5c07b62c4766a077a272b654bee3",
       "version_major": 2,
       "version_minor": 0
      },
      "text/plain": [
       "  0%|          | 0/1500 [00:00<?, ?it/s]"
      ]
     },
     "metadata": {},
     "output_type": "display_data"
    },
    {
     "data": {
      "application/vnd.jupyter.widget-view+json": {
       "model_id": "ee924cf437874bb18112d32cd347e05b",
       "version_major": 2,
       "version_minor": 0
      },
      "text/plain": [
       "  0%|          | 0/1500 [00:00<?, ?it/s]"
      ]
     },
     "metadata": {},
     "output_type": "display_data"
    },
    {
     "data": {
      "application/vnd.jupyter.widget-view+json": {
       "model_id": "cffd845e56454d179a80e3ba7ebe49cb",
       "version_major": 2,
       "version_minor": 0
      },
      "text/plain": [
       "  0%|          | 0/1500 [00:00<?, ?it/s]"
      ]
     },
     "metadata": {},
     "output_type": "display_data"
    },
    {
     "data": {
      "application/vnd.jupyter.widget-view+json": {
       "model_id": "9a9c2f086d5f49f69f09a21ce2770324",
       "version_major": 2,
       "version_minor": 0
      },
      "text/plain": [
       "  0%|          | 0/1500 [00:00<?, ?it/s]"
      ]
     },
     "metadata": {},
     "output_type": "display_data"
    },
    {
     "name": "stderr",
     "output_type": "stream",
     "text": [
      "2023-09-27 19:01:06,674 - hbmep.utils.utils - INFO - func:run_inference took: 16.74 sec\n",
      "2023-09-27 19:01:06,674 - __main__ - INFO - Predicting ...\n",
      "2023-09-27 19:01:06,679 - hbmep.utils.utils - INFO - func:make_prediction_dataset took: 0.00 sec\n",
      "2023-09-27 19:01:08,151 - hbmep.utils.utils - INFO - func:predict took: 1.47 sec\n",
      "2023-09-27 19:01:08,152 - __main__ - INFO - Plotting recruitment curves ...\n",
      "2023-09-27 19:01:08,157 - hbmep.model.baseline - INFO - Rendering ...\n",
      "2023-09-27 19:01:09,633 - hbmep.model.baseline - INFO - Saved to /home/vishu/repos/hbmep-paper/reports/human/intraoperative/power-analysis/draw_807/N_4/seed_822/recruitment_curves.pdf\n",
      "2023-09-27 19:01:09,634 - hbmep.utils.utils - INFO - func:render_recruitment_curves took: 1.48 sec\n",
      "2023-09-27 19:01:09,634 - __main__ - INFO - Plotting posterior checks ...\n",
      "2023-09-27 19:01:09,640 - hbmep.model.baseline - INFO - Rendering Posterior Predictive Check ...\n",
      "2023-09-27 19:01:11,354 - hbmep.model.baseline - INFO - Saved to /home/vishu/repos/hbmep-paper/reports/human/intraoperative/power-analysis/draw_807/N_4/seed_822/posterior_predictive_check.pdf\n",
      "2023-09-27 19:01:11,355 - hbmep.utils.utils - INFO - func:_render_predictive_check took: 1.72 sec\n",
      "2023-09-27 19:01:11,355 - hbmep.utils.utils - INFO - func:render_predictive_check took: 1.72 sec\n",
      "2023-09-27 19:01:12,662 - __main__ - INFO - \n",
      "\n",
      "Draw:2/50, N:2/6, Repeat:5/10\n",
      "2023-09-27 19:01:12,665 - __main__ - INFO - Seed:616, Subjects: 130, 39, 87, 96\n",
      "2023-09-27 19:01:12,666 - hbmep.config - INFO - Verifying configuration ...\n",
      "2023-09-27 19:01:12,666 - hbmep.config - INFO - Success!\n",
      "2023-09-27 19:01:12,667 - hbmep.model.baseline - INFO - Initialized model with hierarchical_bayesian link\n",
      "2023-09-27 19:01:12,667 - hbmep.dataset.core - INFO - Artefacts will be stored here - /home/vishu/repos/hbmep-paper/reports/human/intraoperative/power-analysis/draw_807/N_4/seed_616\n",
      "2023-09-27 19:01:12,667 - hbmep.dataset.core - INFO - Copied config to /home/vishu/repos/hbmep-paper/reports/human/intraoperative/power-analysis/draw_807/N_4/seed_616\n",
      "2023-09-27 19:01:12,668 - hbmep.dataset.core - INFO - Processing data ...\n",
      "2023-09-27 19:01:12,669 - hbmep.utils.utils - INFO - func:load took: 0.00 sec\n",
      "2023-09-27 19:01:12,669 - __main__ - INFO - Fitting ...\n",
      "2023-09-27 19:01:12,669 - hbmep.model.baseline - INFO - Running inference with hierarchical_bayesian ...\n"
     ]
    },
    {
     "data": {
      "application/vnd.jupyter.widget-view+json": {
       "model_id": "2afe4e8d7a6443fab82a21b8985387fa",
       "version_major": 2,
       "version_minor": 0
      },
      "text/plain": [
       "  0%|          | 0/1500 [00:00<?, ?it/s]"
      ]
     },
     "metadata": {},
     "output_type": "display_data"
    },
    {
     "data": {
      "application/vnd.jupyter.widget-view+json": {
       "model_id": "d27b9eebaffc4439bd0a418197924ef1",
       "version_major": 2,
       "version_minor": 0
      },
      "text/plain": [
       "  0%|          | 0/1500 [00:00<?, ?it/s]"
      ]
     },
     "metadata": {},
     "output_type": "display_data"
    },
    {
     "data": {
      "application/vnd.jupyter.widget-view+json": {
       "model_id": "b22b70ea793a4f79897c65525e7e5540",
       "version_major": 2,
       "version_minor": 0
      },
      "text/plain": [
       "  0%|          | 0/1500 [00:00<?, ?it/s]"
      ]
     },
     "metadata": {},
     "output_type": "display_data"
    },
    {
     "data": {
      "application/vnd.jupyter.widget-view+json": {
       "model_id": "c2163e3043e04a9fb3b5f4c695541d6a",
       "version_major": 2,
       "version_minor": 0
      },
      "text/plain": [
       "  0%|          | 0/1500 [00:00<?, ?it/s]"
      ]
     },
     "metadata": {},
     "output_type": "display_data"
    },
    {
     "name": "stderr",
     "output_type": "stream",
     "text": [
      "2023-09-27 19:01:53,379 - hbmep.utils.utils - INFO - func:run_inference took: 40.71 sec\n",
      "2023-09-27 19:01:53,380 - __main__ - INFO - Predicting ...\n",
      "2023-09-27 19:01:53,385 - hbmep.utils.utils - INFO - func:make_prediction_dataset took: 0.00 sec\n",
      "2023-09-27 19:01:54,860 - hbmep.utils.utils - INFO - func:predict took: 1.48 sec\n",
      "2023-09-27 19:01:54,860 - __main__ - INFO - Plotting recruitment curves ...\n",
      "2023-09-27 19:01:54,866 - hbmep.model.baseline - INFO - Rendering ...\n",
      "2023-09-27 19:01:56,296 - hbmep.model.baseline - INFO - Saved to /home/vishu/repos/hbmep-paper/reports/human/intraoperative/power-analysis/draw_807/N_4/seed_616/recruitment_curves.pdf\n",
      "2023-09-27 19:01:56,297 - hbmep.utils.utils - INFO - func:render_recruitment_curves took: 1.44 sec\n",
      "2023-09-27 19:01:56,297 - __main__ - INFO - Plotting posterior checks ...\n",
      "2023-09-27 19:01:56,303 - hbmep.model.baseline - INFO - Rendering Posterior Predictive Check ...\n",
      "2023-09-27 19:01:58,021 - hbmep.model.baseline - INFO - Saved to /home/vishu/repos/hbmep-paper/reports/human/intraoperative/power-analysis/draw_807/N_4/seed_616/posterior_predictive_check.pdf\n",
      "2023-09-27 19:01:58,022 - hbmep.utils.utils - INFO - func:_render_predictive_check took: 1.72 sec\n",
      "2023-09-27 19:01:58,022 - hbmep.utils.utils - INFO - func:render_predictive_check took: 1.73 sec\n",
      "2023-09-27 19:01:59,362 - __main__ - INFO - \n",
      "\n",
      "Draw:2/50, N:2/6, Repeat:6/10\n",
      "2023-09-27 19:01:59,365 - __main__ - INFO - Seed:214, Subjects: 120, 179, 25, 125\n",
      "2023-09-27 19:01:59,366 - hbmep.config - INFO - Verifying configuration ...\n",
      "2023-09-27 19:01:59,367 - hbmep.config - INFO - Success!\n",
      "2023-09-27 19:01:59,367 - hbmep.model.baseline - INFO - Initialized model with hierarchical_bayesian link\n",
      "2023-09-27 19:01:59,367 - hbmep.dataset.core - INFO - Artefacts will be stored here - /home/vishu/repos/hbmep-paper/reports/human/intraoperative/power-analysis/draw_807/N_4/seed_214\n",
      "2023-09-27 19:01:59,368 - hbmep.dataset.core - INFO - Copied config to /home/vishu/repos/hbmep-paper/reports/human/intraoperative/power-analysis/draw_807/N_4/seed_214\n",
      "2023-09-27 19:01:59,368 - hbmep.dataset.core - INFO - Processing data ...\n",
      "2023-09-27 19:01:59,369 - hbmep.utils.utils - INFO - func:load took: 0.00 sec\n",
      "2023-09-27 19:01:59,369 - __main__ - INFO - Fitting ...\n",
      "2023-09-27 19:01:59,370 - hbmep.model.baseline - INFO - Running inference with hierarchical_bayesian ...\n"
     ]
    },
    {
     "data": {
      "application/vnd.jupyter.widget-view+json": {
       "model_id": "ee7ec396745b4af0ac54b67f83f5e902",
       "version_major": 2,
       "version_minor": 0
      },
      "text/plain": [
       "  0%|          | 0/1500 [00:00<?, ?it/s]"
      ]
     },
     "metadata": {},
     "output_type": "display_data"
    },
    {
     "data": {
      "application/vnd.jupyter.widget-view+json": {
       "model_id": "825ae4e31e734948ade3c3cce6c60074",
       "version_major": 2,
       "version_minor": 0
      },
      "text/plain": [
       "  0%|          | 0/1500 [00:00<?, ?it/s]"
      ]
     },
     "metadata": {},
     "output_type": "display_data"
    },
    {
     "data": {
      "application/vnd.jupyter.widget-view+json": {
       "model_id": "cb313c153a144f35b024263a4a77a082",
       "version_major": 2,
       "version_minor": 0
      },
      "text/plain": [
       "  0%|          | 0/1500 [00:00<?, ?it/s]"
      ]
     },
     "metadata": {},
     "output_type": "display_data"
    },
    {
     "data": {
      "application/vnd.jupyter.widget-view+json": {
       "model_id": "763fdc30e0e34a52a87b173b3def1315",
       "version_major": 2,
       "version_minor": 0
      },
      "text/plain": [
       "  0%|          | 0/1500 [00:00<?, ?it/s]"
      ]
     },
     "metadata": {},
     "output_type": "display_data"
    },
    {
     "name": "stderr",
     "output_type": "stream",
     "text": [
      "2023-09-27 19:02:18,984 - hbmep.utils.utils - INFO - func:run_inference took: 19.61 sec\n",
      "2023-09-27 19:02:18,985 - __main__ - INFO - Predicting ...\n",
      "2023-09-27 19:02:18,989 - hbmep.utils.utils - INFO - func:make_prediction_dataset took: 0.00 sec\n",
      "2023-09-27 19:02:20,475 - hbmep.utils.utils - INFO - func:predict took: 1.48 sec\n",
      "2023-09-27 19:02:20,475 - __main__ - INFO - Plotting recruitment curves ...\n",
      "2023-09-27 19:02:20,480 - hbmep.model.baseline - INFO - Rendering ...\n",
      "2023-09-27 19:02:21,914 - hbmep.model.baseline - INFO - Saved to /home/vishu/repos/hbmep-paper/reports/human/intraoperative/power-analysis/draw_807/N_4/seed_214/recruitment_curves.pdf\n",
      "2023-09-27 19:02:21,914 - hbmep.utils.utils - INFO - func:render_recruitment_curves took: 1.44 sec\n",
      "2023-09-27 19:02:21,914 - __main__ - INFO - Plotting posterior checks ...\n",
      "2023-09-27 19:02:21,921 - hbmep.model.baseline - INFO - Rendering Posterior Predictive Check ...\n",
      "2023-09-27 19:02:23,622 - hbmep.model.baseline - INFO - Saved to /home/vishu/repos/hbmep-paper/reports/human/intraoperative/power-analysis/draw_807/N_4/seed_214/posterior_predictive_check.pdf\n",
      "2023-09-27 19:02:23,623 - hbmep.utils.utils - INFO - func:_render_predictive_check took: 1.71 sec\n",
      "2023-09-27 19:02:23,623 - hbmep.utils.utils - INFO - func:render_predictive_check took: 1.71 sec\n",
      "2023-09-27 19:02:24,994 - __main__ - INFO - \n",
      "\n",
      "Draw:2/50, N:2/6, Repeat:7/10\n",
      "2023-09-27 19:02:24,998 - __main__ - INFO - Seed:204, Subjects: 195, 25, 42, 54\n",
      "2023-09-27 19:02:24,999 - hbmep.config - INFO - Verifying configuration ...\n",
      "2023-09-27 19:02:25,000 - hbmep.config - INFO - Success!\n",
      "2023-09-27 19:02:25,000 - hbmep.model.baseline - INFO - Initialized model with hierarchical_bayesian link\n",
      "2023-09-27 19:02:25,000 - hbmep.dataset.core - INFO - Artefacts will be stored here - /home/vishu/repos/hbmep-paper/reports/human/intraoperative/power-analysis/draw_807/N_4/seed_204\n",
      "2023-09-27 19:02:25,000 - hbmep.dataset.core - INFO - Copied config to /home/vishu/repos/hbmep-paper/reports/human/intraoperative/power-analysis/draw_807/N_4/seed_204\n",
      "2023-09-27 19:02:25,001 - hbmep.dataset.core - INFO - Processing data ...\n",
      "2023-09-27 19:02:25,002 - hbmep.utils.utils - INFO - func:load took: 0.00 sec\n",
      "2023-09-27 19:02:25,002 - __main__ - INFO - Fitting ...\n",
      "2023-09-27 19:02:25,002 - hbmep.model.baseline - INFO - Running inference with hierarchical_bayesian ...\n"
     ]
    },
    {
     "data": {
      "application/vnd.jupyter.widget-view+json": {
       "model_id": "13d96d178bdb47008088ec06049d99d1",
       "version_major": 2,
       "version_minor": 0
      },
      "text/plain": [
       "  0%|          | 0/1500 [00:00<?, ?it/s]"
      ]
     },
     "metadata": {},
     "output_type": "display_data"
    },
    {
     "data": {
      "application/vnd.jupyter.widget-view+json": {
       "model_id": "cc66ca2ef1334f60937d0f6e00fa2513",
       "version_major": 2,
       "version_minor": 0
      },
      "text/plain": [
       "  0%|          | 0/1500 [00:00<?, ?it/s]"
      ]
     },
     "metadata": {},
     "output_type": "display_data"
    },
    {
     "data": {
      "application/vnd.jupyter.widget-view+json": {
       "model_id": "300ecf4251734a8aad1654172ad6a99e",
       "version_major": 2,
       "version_minor": 0
      },
      "text/plain": [
       "  0%|          | 0/1500 [00:00<?, ?it/s]"
      ]
     },
     "metadata": {},
     "output_type": "display_data"
    },
    {
     "data": {
      "application/vnd.jupyter.widget-view+json": {
       "model_id": "4907c609dd024dc2bc817045dd831686",
       "version_major": 2,
       "version_minor": 0
      },
      "text/plain": [
       "  0%|          | 0/1500 [00:00<?, ?it/s]"
      ]
     },
     "metadata": {},
     "output_type": "display_data"
    },
    {
     "name": "stderr",
     "output_type": "stream",
     "text": [
      "2023-09-27 19:03:06,571 - hbmep.utils.utils - INFO - func:run_inference took: 41.57 sec\n",
      "2023-09-27 19:03:06,571 - __main__ - INFO - Predicting ...\n",
      "2023-09-27 19:03:06,576 - hbmep.utils.utils - INFO - func:make_prediction_dataset took: 0.00 sec\n",
      "2023-09-27 19:03:08,046 - hbmep.utils.utils - INFO - func:predict took: 1.47 sec\n",
      "2023-09-27 19:03:08,047 - __main__ - INFO - Plotting recruitment curves ...\n",
      "2023-09-27 19:03:08,052 - hbmep.model.baseline - INFO - Rendering ...\n",
      "2023-09-27 19:03:09,503 - hbmep.model.baseline - INFO - Saved to /home/vishu/repos/hbmep-paper/reports/human/intraoperative/power-analysis/draw_807/N_4/seed_204/recruitment_curves.pdf\n",
      "2023-09-27 19:03:09,504 - hbmep.utils.utils - INFO - func:render_recruitment_curves took: 1.46 sec\n",
      "2023-09-27 19:03:09,504 - __main__ - INFO - Plotting posterior checks ...\n",
      "2023-09-27 19:03:09,510 - hbmep.model.baseline - INFO - Rendering Posterior Predictive Check ...\n",
      "2023-09-27 19:03:11,221 - hbmep.model.baseline - INFO - Saved to /home/vishu/repos/hbmep-paper/reports/human/intraoperative/power-analysis/draw_807/N_4/seed_204/posterior_predictive_check.pdf\n",
      "2023-09-27 19:03:11,221 - hbmep.utils.utils - INFO - func:_render_predictive_check took: 1.72 sec\n",
      "2023-09-27 19:03:11,222 - hbmep.utils.utils - INFO - func:render_predictive_check took: 1.72 sec\n",
      "2023-09-27 19:03:12,598 - __main__ - INFO - \n",
      "\n",
      "Draw:2/50, N:2/6, Repeat:8/10\n",
      "2023-09-27 19:03:12,601 - __main__ - INFO - Seed:912, Subjects: 108, 85, 144, 90\n",
      "2023-09-27 19:03:12,602 - hbmep.config - INFO - Verifying configuration ...\n",
      "2023-09-27 19:03:12,602 - hbmep.config - INFO - Success!\n",
      "2023-09-27 19:03:12,602 - hbmep.model.baseline - INFO - Initialized model with hierarchical_bayesian link\n",
      "2023-09-27 19:03:12,603 - hbmep.dataset.core - INFO - Artefacts will be stored here - /home/vishu/repos/hbmep-paper/reports/human/intraoperative/power-analysis/draw_807/N_4/seed_912\n",
      "2023-09-27 19:03:12,603 - hbmep.dataset.core - INFO - Copied config to /home/vishu/repos/hbmep-paper/reports/human/intraoperative/power-analysis/draw_807/N_4/seed_912\n",
      "2023-09-27 19:03:12,604 - hbmep.dataset.core - INFO - Processing data ...\n",
      "2023-09-27 19:03:12,605 - hbmep.utils.utils - INFO - func:load took: 0.00 sec\n",
      "2023-09-27 19:03:12,605 - __main__ - INFO - Fitting ...\n",
      "2023-09-27 19:03:12,605 - hbmep.model.baseline - INFO - Running inference with hierarchical_bayesian ...\n"
     ]
    },
    {
     "data": {
      "application/vnd.jupyter.widget-view+json": {
       "model_id": "a4b18864fa604721a36f1cb0e212732d",
       "version_major": 2,
       "version_minor": 0
      },
      "text/plain": [
       "  0%|          | 0/1500 [00:00<?, ?it/s]"
      ]
     },
     "metadata": {},
     "output_type": "display_data"
    },
    {
     "data": {
      "application/vnd.jupyter.widget-view+json": {
       "model_id": "f1a10645d5de4496afd4d407b042d11e",
       "version_major": 2,
       "version_minor": 0
      },
      "text/plain": [
       "  0%|          | 0/1500 [00:00<?, ?it/s]"
      ]
     },
     "metadata": {},
     "output_type": "display_data"
    },
    {
     "data": {
      "application/vnd.jupyter.widget-view+json": {
       "model_id": "3ed005a493a94165bbeafbb150b0fdc8",
       "version_major": 2,
       "version_minor": 0
      },
      "text/plain": [
       "  0%|          | 0/1500 [00:00<?, ?it/s]"
      ]
     },
     "metadata": {},
     "output_type": "display_data"
    },
    {
     "data": {
      "application/vnd.jupyter.widget-view+json": {
       "model_id": "46579a349a39450886d4e1c4161185cc",
       "version_major": 2,
       "version_minor": 0
      },
      "text/plain": [
       "  0%|          | 0/1500 [00:00<?, ?it/s]"
      ]
     },
     "metadata": {},
     "output_type": "display_data"
    },
    {
     "name": "stderr",
     "output_type": "stream",
     "text": [
      "2023-09-27 19:03:39,459 - hbmep.utils.utils - INFO - func:run_inference took: 26.85 sec\n",
      "2023-09-27 19:03:39,460 - __main__ - INFO - Predicting ...\n",
      "2023-09-27 19:03:39,464 - hbmep.utils.utils - INFO - func:make_prediction_dataset took: 0.00 sec\n",
      "2023-09-27 19:03:40,937 - hbmep.utils.utils - INFO - func:predict took: 1.47 sec\n",
      "2023-09-27 19:03:40,938 - __main__ - INFO - Plotting recruitment curves ...\n",
      "2023-09-27 19:03:40,943 - hbmep.model.baseline - INFO - Rendering ...\n",
      "2023-09-27 19:03:42,345 - hbmep.model.baseline - INFO - Saved to /home/vishu/repos/hbmep-paper/reports/human/intraoperative/power-analysis/draw_807/N_4/seed_912/recruitment_curves.pdf\n",
      "2023-09-27 19:03:42,346 - hbmep.utils.utils - INFO - func:render_recruitment_curves took: 1.41 sec\n",
      "2023-09-27 19:03:42,346 - __main__ - INFO - Plotting posterior checks ...\n",
      "2023-09-27 19:03:42,352 - hbmep.model.baseline - INFO - Rendering Posterior Predictive Check ...\n",
      "2023-09-27 19:03:44,073 - hbmep.model.baseline - INFO - Saved to /home/vishu/repos/hbmep-paper/reports/human/intraoperative/power-analysis/draw_807/N_4/seed_912/posterior_predictive_check.pdf\n",
      "2023-09-27 19:03:44,074 - hbmep.utils.utils - INFO - func:_render_predictive_check took: 1.73 sec\n",
      "2023-09-27 19:03:44,074 - hbmep.utils.utils - INFO - func:render_predictive_check took: 1.73 sec\n",
      "2023-09-27 19:03:45,475 - __main__ - INFO - \n",
      "\n",
      "Draw:2/50, N:2/6, Repeat:9/10\n",
      "2023-09-27 19:03:45,478 - __main__ - INFO - Seed:698, Subjects: 50, 190, 14, 153\n",
      "2023-09-27 19:03:45,479 - hbmep.config - INFO - Verifying configuration ...\n",
      "2023-09-27 19:03:45,479 - hbmep.config - INFO - Success!\n",
      "2023-09-27 19:03:45,480 - hbmep.model.baseline - INFO - Initialized model with hierarchical_bayesian link\n",
      "2023-09-27 19:03:45,480 - hbmep.dataset.core - INFO - Artefacts will be stored here - /home/vishu/repos/hbmep-paper/reports/human/intraoperative/power-analysis/draw_807/N_4/seed_698\n",
      "2023-09-27 19:03:45,480 - hbmep.dataset.core - INFO - Copied config to /home/vishu/repos/hbmep-paper/reports/human/intraoperative/power-analysis/draw_807/N_4/seed_698\n",
      "2023-09-27 19:03:45,481 - hbmep.dataset.core - INFO - Processing data ...\n",
      "2023-09-27 19:03:45,482 - hbmep.utils.utils - INFO - func:load took: 0.00 sec\n",
      "2023-09-27 19:03:45,482 - __main__ - INFO - Fitting ...\n",
      "2023-09-27 19:03:45,483 - hbmep.model.baseline - INFO - Running inference with hierarchical_bayesian ...\n"
     ]
    },
    {
     "data": {
      "application/vnd.jupyter.widget-view+json": {
       "model_id": "d9cc3c9d41014952868caa119e76e31f",
       "version_major": 2,
       "version_minor": 0
      },
      "text/plain": [
       "  0%|          | 0/1500 [00:00<?, ?it/s]"
      ]
     },
     "metadata": {},
     "output_type": "display_data"
    },
    {
     "data": {
      "application/vnd.jupyter.widget-view+json": {
       "model_id": "1d3feedd2c5d4af28356d766ff884810",
       "version_major": 2,
       "version_minor": 0
      },
      "text/plain": [
       "  0%|          | 0/1500 [00:00<?, ?it/s]"
      ]
     },
     "metadata": {},
     "output_type": "display_data"
    },
    {
     "data": {
      "application/vnd.jupyter.widget-view+json": {
       "model_id": "83096dc40b4f4ea684c9e0bd9bc0d360",
       "version_major": 2,
       "version_minor": 0
      },
      "text/plain": [
       "  0%|          | 0/1500 [00:00<?, ?it/s]"
      ]
     },
     "metadata": {},
     "output_type": "display_data"
    },
    {
     "data": {
      "application/vnd.jupyter.widget-view+json": {
       "model_id": "16b3b6612baf4f4793dc299705ddd054",
       "version_major": 2,
       "version_minor": 0
      },
      "text/plain": [
       "  0%|          | 0/1500 [00:00<?, ?it/s]"
      ]
     },
     "metadata": {},
     "output_type": "display_data"
    },
    {
     "name": "stderr",
     "output_type": "stream",
     "text": [
      "2023-09-27 19:04:04,324 - hbmep.utils.utils - INFO - func:run_inference took: 18.84 sec\n",
      "2023-09-27 19:04:04,325 - __main__ - INFO - Predicting ...\n",
      "2023-09-27 19:04:04,329 - hbmep.utils.utils - INFO - func:make_prediction_dataset took: 0.00 sec\n",
      "2023-09-27 19:04:05,811 - hbmep.utils.utils - INFO - func:predict took: 1.48 sec\n",
      "2023-09-27 19:04:05,811 - __main__ - INFO - Plotting recruitment curves ...\n",
      "2023-09-27 19:04:05,817 - hbmep.model.baseline - INFO - Rendering ...\n",
      "2023-09-27 19:04:07,265 - hbmep.model.baseline - INFO - Saved to /home/vishu/repos/hbmep-paper/reports/human/intraoperative/power-analysis/draw_807/N_4/seed_698/recruitment_curves.pdf\n",
      "2023-09-27 19:04:07,266 - hbmep.utils.utils - INFO - func:render_recruitment_curves took: 1.45 sec\n",
      "2023-09-27 19:04:07,266 - __main__ - INFO - Plotting posterior checks ...\n",
      "2023-09-27 19:04:07,273 - hbmep.model.baseline - INFO - Rendering Posterior Predictive Check ...\n",
      "2023-09-27 19:04:08,994 - hbmep.model.baseline - INFO - Saved to /home/vishu/repos/hbmep-paper/reports/human/intraoperative/power-analysis/draw_807/N_4/seed_698/posterior_predictive_check.pdf\n",
      "2023-09-27 19:04:08,994 - hbmep.utils.utils - INFO - func:_render_predictive_check took: 1.73 sec\n",
      "2023-09-27 19:04:08,995 - hbmep.utils.utils - INFO - func:render_predictive_check took: 1.73 sec\n",
      "2023-09-27 19:04:10,405 - __main__ - INFO - \n",
      "\n",
      "Draw:2/50, N:2/6, Repeat:10/10\n",
      "2023-09-27 19:04:10,408 - __main__ - INFO - Seed:677, Subjects: 156, 108, 186, 126\n",
      "2023-09-27 19:04:10,409 - hbmep.config - INFO - Verifying configuration ...\n",
      "2023-09-27 19:04:10,409 - hbmep.config - INFO - Success!\n",
      "2023-09-27 19:04:10,409 - hbmep.model.baseline - INFO - Initialized model with hierarchical_bayesian link\n",
      "2023-09-27 19:04:10,409 - hbmep.dataset.core - INFO - Artefacts will be stored here - /home/vishu/repos/hbmep-paper/reports/human/intraoperative/power-analysis/draw_807/N_4/seed_677\n",
      "2023-09-27 19:04:10,410 - hbmep.dataset.core - INFO - Copied config to /home/vishu/repos/hbmep-paper/reports/human/intraoperative/power-analysis/draw_807/N_4/seed_677\n",
      "2023-09-27 19:04:10,411 - hbmep.dataset.core - INFO - Processing data ...\n",
      "2023-09-27 19:04:10,411 - hbmep.utils.utils - INFO - func:load took: 0.00 sec\n",
      "2023-09-27 19:04:10,412 - __main__ - INFO - Fitting ...\n",
      "2023-09-27 19:04:10,412 - hbmep.model.baseline - INFO - Running inference with hierarchical_bayesian ...\n"
     ]
    },
    {
     "data": {
      "application/vnd.jupyter.widget-view+json": {
       "model_id": "a560622ce3ea4c3bb4247b0cd088c98a",
       "version_major": 2,
       "version_minor": 0
      },
      "text/plain": [
       "  0%|          | 0/1500 [00:00<?, ?it/s]"
      ]
     },
     "metadata": {},
     "output_type": "display_data"
    },
    {
     "data": {
      "application/vnd.jupyter.widget-view+json": {
       "model_id": "af22622657cd4e7599ee872ca4b4c2a5",
       "version_major": 2,
       "version_minor": 0
      },
      "text/plain": [
       "  0%|          | 0/1500 [00:00<?, ?it/s]"
      ]
     },
     "metadata": {},
     "output_type": "display_data"
    },
    {
     "data": {
      "application/vnd.jupyter.widget-view+json": {
       "model_id": "fdbee350128943e999af26e4f39e3434",
       "version_major": 2,
       "version_minor": 0
      },
      "text/plain": [
       "  0%|          | 0/1500 [00:00<?, ?it/s]"
      ]
     },
     "metadata": {},
     "output_type": "display_data"
    },
    {
     "data": {
      "application/vnd.jupyter.widget-view+json": {
       "model_id": "7ad81c71a8dd42f3ada1d75090c54823",
       "version_major": 2,
       "version_minor": 0
      },
      "text/plain": [
       "  0%|          | 0/1500 [00:00<?, ?it/s]"
      ]
     },
     "metadata": {},
     "output_type": "display_data"
    },
    {
     "name": "stderr",
     "output_type": "stream",
     "text": [
      "2023-09-27 19:04:51,151 - hbmep.utils.utils - INFO - func:run_inference took: 40.74 sec\n",
      "2023-09-27 19:04:51,151 - __main__ - INFO - Predicting ...\n",
      "2023-09-27 19:04:51,156 - hbmep.utils.utils - INFO - func:make_prediction_dataset took: 0.00 sec\n",
      "2023-09-27 19:04:52,641 - hbmep.utils.utils - INFO - func:predict took: 1.49 sec\n",
      "2023-09-27 19:04:52,642 - __main__ - INFO - Plotting recruitment curves ...\n",
      "2023-09-27 19:04:52,648 - hbmep.model.baseline - INFO - Rendering ...\n",
      "2023-09-27 19:04:54,048 - hbmep.model.baseline - INFO - Saved to /home/vishu/repos/hbmep-paper/reports/human/intraoperative/power-analysis/draw_807/N_4/seed_677/recruitment_curves.pdf\n",
      "2023-09-27 19:04:54,049 - hbmep.utils.utils - INFO - func:render_recruitment_curves took: 1.41 sec\n",
      "2023-09-27 19:04:54,049 - __main__ - INFO - Plotting posterior checks ...\n",
      "2023-09-27 19:04:54,055 - hbmep.model.baseline - INFO - Rendering Posterior Predictive Check ...\n",
      "2023-09-27 19:04:55,743 - hbmep.model.baseline - INFO - Saved to /home/vishu/repos/hbmep-paper/reports/human/intraoperative/power-analysis/draw_807/N_4/seed_677/posterior_predictive_check.pdf\n",
      "2023-09-27 19:04:55,744 - hbmep.utils.utils - INFO - func:_render_predictive_check took: 1.69 sec\n",
      "2023-09-27 19:04:55,744 - hbmep.utils.utils - INFO - func:render_predictive_check took: 1.69 sec\n",
      "2023-09-27 19:04:57,169 - __main__ - INFO - \n",
      "\n",
      "Draw:2/50, N:3/6, Repeat:1/10\n",
      "2023-09-27 19:04:57,171 - __main__ - INFO - Seed:339, Subjects: 67, 138, 116, 43, 140, 161, 181, 178\n",
      "2023-09-27 19:04:57,172 - hbmep.config - INFO - Verifying configuration ...\n",
      "2023-09-27 19:04:57,172 - hbmep.config - INFO - Success!\n",
      "2023-09-27 19:04:57,173 - hbmep.model.baseline - INFO - Initialized model with hierarchical_bayesian link\n",
      "2023-09-27 19:04:57,173 - hbmep.dataset.core - INFO - Artefacts will be stored here - /home/vishu/repos/hbmep-paper/reports/human/intraoperative/power-analysis/draw_807/N_8/seed_339\n",
      "2023-09-27 19:04:57,173 - hbmep.dataset.core - INFO - Copied config to /home/vishu/repos/hbmep-paper/reports/human/intraoperative/power-analysis/draw_807/N_8/seed_339\n",
      "2023-09-27 19:04:57,174 - hbmep.dataset.core - INFO - Processing data ...\n",
      "2023-09-27 19:04:57,175 - hbmep.utils.utils - INFO - func:load took: 0.00 sec\n",
      "2023-09-27 19:04:57,175 - __main__ - INFO - Fitting ...\n",
      "2023-09-27 19:04:57,175 - hbmep.model.baseline - INFO - Running inference with hierarchical_bayesian ...\n"
     ]
    },
    {
     "data": {
      "application/vnd.jupyter.widget-view+json": {
       "model_id": "f07c9660b6f44bcda7b38f9e5313fb66",
       "version_major": 2,
       "version_minor": 0
      },
      "text/plain": [
       "  0%|          | 0/1500 [00:00<?, ?it/s]"
      ]
     },
     "metadata": {},
     "output_type": "display_data"
    },
    {
     "data": {
      "application/vnd.jupyter.widget-view+json": {
       "model_id": "1323480f26c941b58a3dc1b52f5de269",
       "version_major": 2,
       "version_minor": 0
      },
      "text/plain": [
       "  0%|          | 0/1500 [00:00<?, ?it/s]"
      ]
     },
     "metadata": {},
     "output_type": "display_data"
    },
    {
     "data": {
      "application/vnd.jupyter.widget-view+json": {
       "model_id": "c9de6452637e4eaaab2bca340c7852dd",
       "version_major": 2,
       "version_minor": 0
      },
      "text/plain": [
       "  0%|          | 0/1500 [00:00<?, ?it/s]"
      ]
     },
     "metadata": {},
     "output_type": "display_data"
    },
    {
     "data": {
      "application/vnd.jupyter.widget-view+json": {
       "model_id": "3a1b410000e04d0f8d77666e38a61418",
       "version_major": 2,
       "version_minor": 0
      },
      "text/plain": [
       "  0%|          | 0/1500 [00:00<?, ?it/s]"
      ]
     },
     "metadata": {},
     "output_type": "display_data"
    },
    {
     "name": "stderr",
     "output_type": "stream",
     "text": [
      "2023-09-27 19:06:03,707 - hbmep.utils.utils - INFO - func:run_inference took: 1 min and 6.53 sec\n",
      "2023-09-27 19:06:03,708 - __main__ - INFO - Predicting ...\n",
      "2023-09-27 19:06:03,712 - hbmep.utils.utils - INFO - func:make_prediction_dataset took: 0.00 sec\n",
      "2023-09-27 19:06:06,463 - hbmep.utils.utils - INFO - func:predict took: 2.75 sec\n",
      "2023-09-27 19:06:06,463 - __main__ - INFO - Plotting recruitment curves ...\n",
      "2023-09-27 19:06:06,471 - hbmep.model.baseline - INFO - Rendering ...\n",
      "2023-09-27 19:06:09,572 - hbmep.model.baseline - INFO - Saved to /home/vishu/repos/hbmep-paper/reports/human/intraoperative/power-analysis/draw_807/N_8/seed_339/recruitment_curves.pdf\n",
      "2023-09-27 19:06:09,572 - hbmep.utils.utils - INFO - func:render_recruitment_curves took: 3.11 sec\n",
      "2023-09-27 19:06:09,572 - __main__ - INFO - Plotting posterior checks ...\n",
      "2023-09-27 19:06:09,587 - hbmep.model.baseline - INFO - Rendering Posterior Predictive Check ...\n",
      "2023-09-27 19:06:13,004 - hbmep.model.baseline - INFO - Saved to /home/vishu/repos/hbmep-paper/reports/human/intraoperative/power-analysis/draw_807/N_8/seed_339/posterior_predictive_check.pdf\n",
      "2023-09-27 19:06:13,004 - hbmep.utils.utils - INFO - func:_render_predictive_check took: 3.43 sec\n",
      "2023-09-27 19:06:13,005 - hbmep.utils.utils - INFO - func:render_predictive_check took: 3.43 sec\n",
      "2023-09-27 19:06:14,492 - __main__ - INFO - \n",
      "\n",
      "Draw:2/50, N:3/6, Repeat:2/10\n",
      "2023-09-27 19:06:14,495 - __main__ - INFO - Seed:777, Subjects: 23, 34, 144, 97, 27, 47, 92, 191\n",
      "2023-09-27 19:06:14,496 - hbmep.config - INFO - Verifying configuration ...\n",
      "2023-09-27 19:06:14,496 - hbmep.config - INFO - Success!\n",
      "2023-09-27 19:06:14,497 - hbmep.model.baseline - INFO - Initialized model with hierarchical_bayesian link\n",
      "2023-09-27 19:06:14,497 - hbmep.dataset.core - INFO - Artefacts will be stored here - /home/vishu/repos/hbmep-paper/reports/human/intraoperative/power-analysis/draw_807/N_8/seed_777\n",
      "2023-09-27 19:06:14,497 - hbmep.dataset.core - INFO - Copied config to /home/vishu/repos/hbmep-paper/reports/human/intraoperative/power-analysis/draw_807/N_8/seed_777\n",
      "2023-09-27 19:06:14,498 - hbmep.dataset.core - INFO - Processing data ...\n",
      "2023-09-27 19:06:14,498 - hbmep.utils.utils - INFO - func:load took: 0.00 sec\n",
      "2023-09-27 19:06:14,499 - __main__ - INFO - Fitting ...\n",
      "2023-09-27 19:06:14,499 - hbmep.model.baseline - INFO - Running inference with hierarchical_bayesian ...\n"
     ]
    },
    {
     "data": {
      "application/vnd.jupyter.widget-view+json": {
       "model_id": "9ad6f352d5a4446f8eb93e6870cd21a9",
       "version_major": 2,
       "version_minor": 0
      },
      "text/plain": [
       "  0%|          | 0/1500 [00:00<?, ?it/s]"
      ]
     },
     "metadata": {},
     "output_type": "display_data"
    },
    {
     "data": {
      "application/vnd.jupyter.widget-view+json": {
       "model_id": "42b43cfdf24c4311a5237331a0258d93",
       "version_major": 2,
       "version_minor": 0
      },
      "text/plain": [
       "  0%|          | 0/1500 [00:00<?, ?it/s]"
      ]
     },
     "metadata": {},
     "output_type": "display_data"
    },
    {
     "data": {
      "application/vnd.jupyter.widget-view+json": {
       "model_id": "e59bdb7e29d34f8f9c3729b2e113725d",
       "version_major": 2,
       "version_minor": 0
      },
      "text/plain": [
       "  0%|          | 0/1500 [00:00<?, ?it/s]"
      ]
     },
     "metadata": {},
     "output_type": "display_data"
    },
    {
     "data": {
      "application/vnd.jupyter.widget-view+json": {
       "model_id": "d04660cb3659485ebd1f79c07a2cf61f",
       "version_major": 2,
       "version_minor": 0
      },
      "text/plain": [
       "  0%|          | 0/1500 [00:00<?, ?it/s]"
      ]
     },
     "metadata": {},
     "output_type": "display_data"
    },
    {
     "name": "stderr",
     "output_type": "stream",
     "text": [
      "2023-09-27 19:06:49,572 - hbmep.utils.utils - INFO - func:run_inference took: 35.07 sec\n",
      "2023-09-27 19:06:49,573 - __main__ - INFO - Predicting ...\n",
      "2023-09-27 19:06:49,578 - hbmep.utils.utils - INFO - func:make_prediction_dataset took: 0.00 sec\n",
      "2023-09-27 19:06:52,265 - hbmep.utils.utils - INFO - func:predict took: 2.69 sec\n",
      "2023-09-27 19:06:52,266 - __main__ - INFO - Plotting recruitment curves ...\n",
      "2023-09-27 19:06:52,274 - hbmep.model.baseline - INFO - Rendering ...\n",
      "2023-09-27 19:06:55,136 - hbmep.model.baseline - INFO - Saved to /home/vishu/repos/hbmep-paper/reports/human/intraoperative/power-analysis/draw_807/N_8/seed_777/recruitment_curves.pdf\n",
      "2023-09-27 19:06:55,137 - hbmep.utils.utils - INFO - func:render_recruitment_curves took: 2.87 sec\n",
      "2023-09-27 19:06:55,137 - __main__ - INFO - Plotting posterior checks ...\n",
      "2023-09-27 19:06:55,151 - hbmep.model.baseline - INFO - Rendering Posterior Predictive Check ...\n",
      "2023-09-27 19:06:58,594 - hbmep.model.baseline - INFO - Saved to /home/vishu/repos/hbmep-paper/reports/human/intraoperative/power-analysis/draw_807/N_8/seed_777/posterior_predictive_check.pdf\n",
      "2023-09-27 19:06:58,594 - hbmep.utils.utils - INFO - func:_render_predictive_check took: 3.46 sec\n",
      "2023-09-27 19:06:58,594 - hbmep.utils.utils - INFO - func:render_predictive_check took: 3.46 sec\n",
      "2023-09-27 19:07:00,214 - __main__ - INFO - \n",
      "\n",
      "Draw:2/50, N:3/6, Repeat:3/10\n",
      "2023-09-27 19:07:00,217 - __main__ - INFO - Seed:129, Subjects: 151, 192, 17, 74, 11, 14, 148, 173\n",
      "2023-09-27 19:07:00,218 - hbmep.config - INFO - Verifying configuration ...\n",
      "2023-09-27 19:07:00,218 - hbmep.config - INFO - Success!\n",
      "2023-09-27 19:07:00,219 - hbmep.model.baseline - INFO - Initialized model with hierarchical_bayesian link\n",
      "2023-09-27 19:07:00,219 - hbmep.dataset.core - INFO - Artefacts will be stored here - /home/vishu/repos/hbmep-paper/reports/human/intraoperative/power-analysis/draw_807/N_8/seed_129\n",
      "2023-09-27 19:07:00,220 - hbmep.dataset.core - INFO - Copied config to /home/vishu/repos/hbmep-paper/reports/human/intraoperative/power-analysis/draw_807/N_8/seed_129\n",
      "2023-09-27 19:07:00,220 - hbmep.dataset.core - INFO - Processing data ...\n",
      "2023-09-27 19:07:00,221 - hbmep.utils.utils - INFO - func:load took: 0.00 sec\n",
      "2023-09-27 19:07:00,221 - __main__ - INFO - Fitting ...\n",
      "2023-09-27 19:07:00,221 - hbmep.model.baseline - INFO - Running inference with hierarchical_bayesian ...\n"
     ]
    },
    {
     "data": {
      "application/vnd.jupyter.widget-view+json": {
       "model_id": "2fc6952579734cf59209a261b532eb62",
       "version_major": 2,
       "version_minor": 0
      },
      "text/plain": [
       "  0%|          | 0/1500 [00:00<?, ?it/s]"
      ]
     },
     "metadata": {},
     "output_type": "display_data"
    },
    {
     "data": {
      "application/vnd.jupyter.widget-view+json": {
       "model_id": "b6124fc664d3457cb2839a83086970b0",
       "version_major": 2,
       "version_minor": 0
      },
      "text/plain": [
       "  0%|          | 0/1500 [00:00<?, ?it/s]"
      ]
     },
     "metadata": {},
     "output_type": "display_data"
    },
    {
     "data": {
      "application/vnd.jupyter.widget-view+json": {
       "model_id": "a6279b08174d4989b75869da4cdc19f4",
       "version_major": 2,
       "version_minor": 0
      },
      "text/plain": [
       "  0%|          | 0/1500 [00:00<?, ?it/s]"
      ]
     },
     "metadata": {},
     "output_type": "display_data"
    },
    {
     "data": {
      "application/vnd.jupyter.widget-view+json": {
       "model_id": "164bc2f5026a44a296bb3f276f685daf",
       "version_major": 2,
       "version_minor": 0
      },
      "text/plain": [
       "  0%|          | 0/1500 [00:00<?, ?it/s]"
      ]
     },
     "metadata": {},
     "output_type": "display_data"
    },
    {
     "name": "stderr",
     "output_type": "stream",
     "text": [
      "2023-09-27 19:08:17,137 - hbmep.utils.utils - INFO - func:run_inference took: 1 min and 16.92 sec\n",
      "2023-09-27 19:08:17,138 - __main__ - INFO - Predicting ...\n",
      "2023-09-27 19:08:17,142 - hbmep.utils.utils - INFO - func:make_prediction_dataset took: 0.00 sec\n",
      "2023-09-27 19:08:19,879 - hbmep.utils.utils - INFO - func:predict took: 2.74 sec\n",
      "2023-09-27 19:08:19,880 - __main__ - INFO - Plotting recruitment curves ...\n",
      "2023-09-27 19:08:19,888 - hbmep.model.baseline - INFO - Rendering ...\n",
      "2023-09-27 19:08:22,734 - hbmep.model.baseline - INFO - Saved to /home/vishu/repos/hbmep-paper/reports/human/intraoperative/power-analysis/draw_807/N_8/seed_129/recruitment_curves.pdf\n",
      "2023-09-27 19:08:22,734 - hbmep.utils.utils - INFO - func:render_recruitment_curves took: 2.85 sec\n",
      "2023-09-27 19:08:22,734 - __main__ - INFO - Plotting posterior checks ...\n",
      "2023-09-27 19:08:22,749 - hbmep.model.baseline - INFO - Rendering Posterior Predictive Check ...\n",
      "2023-09-27 19:08:26,177 - hbmep.model.baseline - INFO - Saved to /home/vishu/repos/hbmep-paper/reports/human/intraoperative/power-analysis/draw_807/N_8/seed_129/posterior_predictive_check.pdf\n",
      "2023-09-27 19:08:26,178 - hbmep.utils.utils - INFO - func:_render_predictive_check took: 3.44 sec\n",
      "2023-09-27 19:08:26,178 - hbmep.utils.utils - INFO - func:render_predictive_check took: 3.44 sec\n",
      "2023-09-27 19:08:27,823 - __main__ - INFO - \n",
      "\n",
      "Draw:2/50, N:3/6, Repeat:4/10\n",
      "2023-09-27 19:08:27,827 - __main__ - INFO - Seed:822, Subjects: 98, 32, 121, 186, 20, 191, 147, 172\n",
      "2023-09-27 19:08:27,827 - hbmep.config - INFO - Verifying configuration ...\n",
      "2023-09-27 19:08:27,828 - hbmep.config - INFO - Success!\n",
      "2023-09-27 19:08:27,828 - hbmep.model.baseline - INFO - Initialized model with hierarchical_bayesian link\n",
      "2023-09-27 19:08:27,828 - hbmep.dataset.core - INFO - Artefacts will be stored here - /home/vishu/repos/hbmep-paper/reports/human/intraoperative/power-analysis/draw_807/N_8/seed_822\n",
      "2023-09-27 19:08:27,829 - hbmep.dataset.core - INFO - Copied config to /home/vishu/repos/hbmep-paper/reports/human/intraoperative/power-analysis/draw_807/N_8/seed_822\n",
      "2023-09-27 19:08:27,829 - hbmep.dataset.core - INFO - Processing data ...\n",
      "2023-09-27 19:08:27,830 - hbmep.utils.utils - INFO - func:load took: 0.00 sec\n",
      "2023-09-27 19:08:27,830 - __main__ - INFO - Fitting ...\n",
      "2023-09-27 19:08:27,831 - hbmep.model.baseline - INFO - Running inference with hierarchical_bayesian ...\n"
     ]
    },
    {
     "data": {
      "application/vnd.jupyter.widget-view+json": {
       "model_id": "1b24b136231b41eb8cd17cb935532a58",
       "version_major": 2,
       "version_minor": 0
      },
      "text/plain": [
       "  0%|          | 0/1500 [00:00<?, ?it/s]"
      ]
     },
     "metadata": {},
     "output_type": "display_data"
    },
    {
     "data": {
      "application/vnd.jupyter.widget-view+json": {
       "model_id": "8e68c3b3eb104af2b148325ff592cce1",
       "version_major": 2,
       "version_minor": 0
      },
      "text/plain": [
       "  0%|          | 0/1500 [00:00<?, ?it/s]"
      ]
     },
     "metadata": {},
     "output_type": "display_data"
    },
    {
     "data": {
      "application/vnd.jupyter.widget-view+json": {
       "model_id": "1fa006e09d3e4e71bca78c4451565cd8",
       "version_major": 2,
       "version_minor": 0
      },
      "text/plain": [
       "  0%|          | 0/1500 [00:00<?, ?it/s]"
      ]
     },
     "metadata": {},
     "output_type": "display_data"
    },
    {
     "data": {
      "application/vnd.jupyter.widget-view+json": {
       "model_id": "6f7623531f844d608790f7addf694865",
       "version_major": 2,
       "version_minor": 0
      },
      "text/plain": [
       "  0%|          | 0/1500 [00:00<?, ?it/s]"
      ]
     },
     "metadata": {},
     "output_type": "display_data"
    },
    {
     "name": "stderr",
     "output_type": "stream",
     "text": [
      "2023-09-27 19:08:53,686 - hbmep.utils.utils - INFO - func:run_inference took: 25.86 sec\n",
      "2023-09-27 19:08:53,687 - __main__ - INFO - Predicting ...\n",
      "2023-09-27 19:08:53,691 - hbmep.utils.utils - INFO - func:make_prediction_dataset took: 0.00 sec\n",
      "2023-09-27 19:08:56,432 - hbmep.utils.utils - INFO - func:predict took: 2.74 sec\n",
      "2023-09-27 19:08:56,433 - __main__ - INFO - Plotting recruitment curves ...\n",
      "2023-09-27 19:08:56,441 - hbmep.model.baseline - INFO - Rendering ...\n",
      "2023-09-27 19:08:59,286 - hbmep.model.baseline - INFO - Saved to /home/vishu/repos/hbmep-paper/reports/human/intraoperative/power-analysis/draw_807/N_8/seed_822/recruitment_curves.pdf\n",
      "2023-09-27 19:08:59,287 - hbmep.utils.utils - INFO - func:render_recruitment_curves took: 2.85 sec\n",
      "2023-09-27 19:08:59,287 - __main__ - INFO - Plotting posterior checks ...\n",
      "2023-09-27 19:08:59,301 - hbmep.model.baseline - INFO - Rendering Posterior Predictive Check ...\n",
      "2023-09-27 19:09:02,728 - hbmep.model.baseline - INFO - Saved to /home/vishu/repos/hbmep-paper/reports/human/intraoperative/power-analysis/draw_807/N_8/seed_822/posterior_predictive_check.pdf\n",
      "2023-09-27 19:09:02,728 - hbmep.utils.utils - INFO - func:_render_predictive_check took: 3.44 sec\n",
      "2023-09-27 19:09:02,728 - hbmep.utils.utils - INFO - func:render_predictive_check took: 3.44 sec\n",
      "2023-09-27 19:09:04,387 - __main__ - INFO - \n",
      "\n",
      "Draw:2/50, N:3/6, Repeat:5/10\n",
      "2023-09-27 19:09:04,392 - __main__ - INFO - Seed:616, Subjects: 130, 39, 87, 96, 158, 162, 160, 71\n",
      "2023-09-27 19:09:04,393 - hbmep.config - INFO - Verifying configuration ...\n",
      "2023-09-27 19:09:04,393 - hbmep.config - INFO - Success!\n",
      "2023-09-27 19:09:04,393 - hbmep.model.baseline - INFO - Initialized model with hierarchical_bayesian link\n",
      "2023-09-27 19:09:04,393 - hbmep.dataset.core - INFO - Artefacts will be stored here - /home/vishu/repos/hbmep-paper/reports/human/intraoperative/power-analysis/draw_807/N_8/seed_616\n",
      "2023-09-27 19:09:04,394 - hbmep.dataset.core - INFO - Copied config to /home/vishu/repos/hbmep-paper/reports/human/intraoperative/power-analysis/draw_807/N_8/seed_616\n",
      "2023-09-27 19:09:04,394 - hbmep.dataset.core - INFO - Processing data ...\n",
      "2023-09-27 19:09:04,395 - hbmep.utils.utils - INFO - func:load took: 0.00 sec\n",
      "2023-09-27 19:09:04,395 - __main__ - INFO - Fitting ...\n",
      "2023-09-27 19:09:04,396 - hbmep.model.baseline - INFO - Running inference with hierarchical_bayesian ...\n"
     ]
    },
    {
     "data": {
      "application/vnd.jupyter.widget-view+json": {
       "model_id": "03a9d82986b14690b1d3d36fceec12b1",
       "version_major": 2,
       "version_minor": 0
      },
      "text/plain": [
       "  0%|          | 0/1500 [00:00<?, ?it/s]"
      ]
     },
     "metadata": {},
     "output_type": "display_data"
    },
    {
     "data": {
      "application/vnd.jupyter.widget-view+json": {
       "model_id": "1bbf3ae4a3f5447bb6812488dc7e9880",
       "version_major": 2,
       "version_minor": 0
      },
      "text/plain": [
       "  0%|          | 0/1500 [00:00<?, ?it/s]"
      ]
     },
     "metadata": {},
     "output_type": "display_data"
    },
    {
     "data": {
      "application/vnd.jupyter.widget-view+json": {
       "model_id": "ad4b52addd954e66917cbb2311e91f07",
       "version_major": 2,
       "version_minor": 0
      },
      "text/plain": [
       "  0%|          | 0/1500 [00:00<?, ?it/s]"
      ]
     },
     "metadata": {},
     "output_type": "display_data"
    },
    {
     "data": {
      "application/vnd.jupyter.widget-view+json": {
       "model_id": "bc04d71e653c4d30badc2bc84f9c4529",
       "version_major": 2,
       "version_minor": 0
      },
      "text/plain": [
       "  0%|          | 0/1500 [00:00<?, ?it/s]"
      ]
     },
     "metadata": {},
     "output_type": "display_data"
    },
    {
     "name": "stderr",
     "output_type": "stream",
     "text": [
      "2023-09-27 19:10:21,310 - hbmep.utils.utils - INFO - func:run_inference took: 1 min and 16.91 sec\n",
      "2023-09-27 19:10:21,310 - __main__ - INFO - Predicting ...\n",
      "2023-09-27 19:10:21,315 - hbmep.utils.utils - INFO - func:make_prediction_dataset took: 0.00 sec\n",
      "2023-09-27 19:10:24,054 - hbmep.utils.utils - INFO - func:predict took: 2.74 sec\n",
      "2023-09-27 19:10:24,055 - __main__ - INFO - Plotting recruitment curves ...\n",
      "2023-09-27 19:10:24,063 - hbmep.model.baseline - INFO - Rendering ...\n",
      "2023-09-27 19:10:26,959 - hbmep.model.baseline - INFO - Saved to /home/vishu/repos/hbmep-paper/reports/human/intraoperative/power-analysis/draw_807/N_8/seed_616/recruitment_curves.pdf\n",
      "2023-09-27 19:10:26,959 - hbmep.utils.utils - INFO - func:render_recruitment_curves took: 2.90 sec\n",
      "2023-09-27 19:10:26,960 - __main__ - INFO - Plotting posterior checks ...\n",
      "2023-09-27 19:10:26,974 - hbmep.model.baseline - INFO - Rendering Posterior Predictive Check ...\n",
      "2023-09-27 19:10:30,429 - hbmep.model.baseline - INFO - Saved to /home/vishu/repos/hbmep-paper/reports/human/intraoperative/power-analysis/draw_807/N_8/seed_616/posterior_predictive_check.pdf\n",
      "2023-09-27 19:10:30,430 - hbmep.utils.utils - INFO - func:_render_predictive_check took: 3.47 sec\n",
      "2023-09-27 19:10:30,430 - hbmep.utils.utils - INFO - func:render_predictive_check took: 3.47 sec\n",
      "2023-09-27 19:10:32,111 - __main__ - INFO - \n",
      "\n",
      "Draw:2/50, N:3/6, Repeat:6/10\n",
      "2023-09-27 19:10:32,114 - __main__ - INFO - Seed:214, Subjects: 120, 179, 25, 125, 196, 84, 64, 53\n",
      "2023-09-27 19:10:32,116 - hbmep.config - INFO - Verifying configuration ...\n",
      "2023-09-27 19:10:32,116 - hbmep.config - INFO - Success!\n",
      "2023-09-27 19:10:32,116 - hbmep.model.baseline - INFO - Initialized model with hierarchical_bayesian link\n",
      "2023-09-27 19:10:32,117 - hbmep.dataset.core - INFO - Artefacts will be stored here - /home/vishu/repos/hbmep-paper/reports/human/intraoperative/power-analysis/draw_807/N_8/seed_214\n",
      "2023-09-27 19:10:32,117 - hbmep.dataset.core - INFO - Copied config to /home/vishu/repos/hbmep-paper/reports/human/intraoperative/power-analysis/draw_807/N_8/seed_214\n",
      "2023-09-27 19:10:32,117 - hbmep.dataset.core - INFO - Processing data ...\n",
      "2023-09-27 19:10:32,118 - hbmep.utils.utils - INFO - func:load took: 0.00 sec\n",
      "2023-09-27 19:10:32,118 - __main__ - INFO - Fitting ...\n",
      "2023-09-27 19:10:32,119 - hbmep.model.baseline - INFO - Running inference with hierarchical_bayesian ...\n"
     ]
    },
    {
     "data": {
      "application/vnd.jupyter.widget-view+json": {
       "model_id": "e7002876f97b4970ae27964b96e1f319",
       "version_major": 2,
       "version_minor": 0
      },
      "text/plain": [
       "  0%|          | 0/1500 [00:00<?, ?it/s]"
      ]
     },
     "metadata": {},
     "output_type": "display_data"
    },
    {
     "data": {
      "application/vnd.jupyter.widget-view+json": {
       "model_id": "f2817131ec5f4cb9bbd476660df0c19d",
       "version_major": 2,
       "version_minor": 0
      },
      "text/plain": [
       "  0%|          | 0/1500 [00:00<?, ?it/s]"
      ]
     },
     "metadata": {},
     "output_type": "display_data"
    },
    {
     "data": {
      "application/vnd.jupyter.widget-view+json": {
       "model_id": "b47e3a2071e144a3bd7f95d8268d9cfd",
       "version_major": 2,
       "version_minor": 0
      },
      "text/plain": [
       "  0%|          | 0/1500 [00:00<?, ?it/s]"
      ]
     },
     "metadata": {},
     "output_type": "display_data"
    },
    {
     "data": {
      "application/vnd.jupyter.widget-view+json": {
       "model_id": "0870a13cb23c4b569566f42b264bc68e",
       "version_major": 2,
       "version_minor": 0
      },
      "text/plain": [
       "  0%|          | 0/1500 [00:00<?, ?it/s]"
      ]
     },
     "metadata": {},
     "output_type": "display_data"
    },
    {
     "name": "stderr",
     "output_type": "stream",
     "text": [
      "2023-09-27 19:11:07,102 - hbmep.utils.utils - INFO - func:run_inference took: 34.98 sec\n",
      "2023-09-27 19:11:07,103 - __main__ - INFO - Predicting ...\n",
      "2023-09-27 19:11:07,108 - hbmep.utils.utils - INFO - func:make_prediction_dataset took: 0.00 sec\n",
      "2023-09-27 19:11:09,839 - hbmep.utils.utils - INFO - func:predict took: 2.73 sec\n",
      "2023-09-27 19:11:09,839 - __main__ - INFO - Plotting recruitment curves ...\n",
      "2023-09-27 19:11:09,848 - hbmep.model.baseline - INFO - Rendering ...\n",
      "2023-09-27 19:11:12,725 - hbmep.model.baseline - INFO - Saved to /home/vishu/repos/hbmep-paper/reports/human/intraoperative/power-analysis/draw_807/N_8/seed_214/recruitment_curves.pdf\n",
      "2023-09-27 19:11:12,725 - hbmep.utils.utils - INFO - func:render_recruitment_curves took: 2.89 sec\n",
      "2023-09-27 19:11:12,725 - __main__ - INFO - Plotting posterior checks ...\n",
      "2023-09-27 19:11:12,740 - hbmep.model.baseline - INFO - Rendering Posterior Predictive Check ...\n",
      "2023-09-27 19:11:16,209 - hbmep.model.baseline - INFO - Saved to /home/vishu/repos/hbmep-paper/reports/human/intraoperative/power-analysis/draw_807/N_8/seed_214/posterior_predictive_check.pdf\n",
      "2023-09-27 19:11:16,209 - hbmep.utils.utils - INFO - func:_render_predictive_check took: 3.48 sec\n",
      "2023-09-27 19:11:16,209 - hbmep.utils.utils - INFO - func:render_predictive_check took: 3.48 sec\n",
      "2023-09-27 19:11:17,913 - __main__ - INFO - \n",
      "\n",
      "Draw:2/50, N:3/6, Repeat:7/10\n",
      "2023-09-27 19:11:17,919 - __main__ - INFO - Seed:204, Subjects: 195, 25, 42, 54, 1, 66, 19, 69\n",
      "2023-09-27 19:11:17,920 - hbmep.config - INFO - Verifying configuration ...\n",
      "2023-09-27 19:11:17,920 - hbmep.config - INFO - Success!\n",
      "2023-09-27 19:11:17,920 - hbmep.model.baseline - INFO - Initialized model with hierarchical_bayesian link\n",
      "2023-09-27 19:11:17,921 - hbmep.dataset.core - INFO - Artefacts will be stored here - /home/vishu/repos/hbmep-paper/reports/human/intraoperative/power-analysis/draw_807/N_8/seed_204\n",
      "2023-09-27 19:11:17,921 - hbmep.dataset.core - INFO - Copied config to /home/vishu/repos/hbmep-paper/reports/human/intraoperative/power-analysis/draw_807/N_8/seed_204\n",
      "2023-09-27 19:11:17,921 - hbmep.dataset.core - INFO - Processing data ...\n",
      "2023-09-27 19:11:17,922 - hbmep.utils.utils - INFO - func:load took: 0.00 sec\n",
      "2023-09-27 19:11:17,922 - __main__ - INFO - Fitting ...\n",
      "2023-09-27 19:11:17,923 - hbmep.model.baseline - INFO - Running inference with hierarchical_bayesian ...\n"
     ]
    },
    {
     "data": {
      "application/vnd.jupyter.widget-view+json": {
       "model_id": "3ae3dbff67fc40e084ffdf9e35824435",
       "version_major": 2,
       "version_minor": 0
      },
      "text/plain": [
       "  0%|          | 0/1500 [00:00<?, ?it/s]"
      ]
     },
     "metadata": {},
     "output_type": "display_data"
    },
    {
     "data": {
      "application/vnd.jupyter.widget-view+json": {
       "model_id": "ee726b254eb04831b64e7add403eb064",
       "version_major": 2,
       "version_minor": 0
      },
      "text/plain": [
       "  0%|          | 0/1500 [00:00<?, ?it/s]"
      ]
     },
     "metadata": {},
     "output_type": "display_data"
    },
    {
     "data": {
      "application/vnd.jupyter.widget-view+json": {
       "model_id": "87dfc5ee0b69478d99df8f9a2d9b24d1",
       "version_major": 2,
       "version_minor": 0
      },
      "text/plain": [
       "  0%|          | 0/1500 [00:00<?, ?it/s]"
      ]
     },
     "metadata": {},
     "output_type": "display_data"
    },
    {
     "data": {
      "application/vnd.jupyter.widget-view+json": {
       "model_id": "0eaee33ee85940d0a7b9806d17c5a23a",
       "version_major": 2,
       "version_minor": 0
      },
      "text/plain": [
       "  0%|          | 0/1500 [00:00<?, ?it/s]"
      ]
     },
     "metadata": {},
     "output_type": "display_data"
    },
    {
     "name": "stderr",
     "output_type": "stream",
     "text": [
      "2023-09-27 19:12:37,511 - hbmep.utils.utils - INFO - func:run_inference took: 1 min and 19.59 sec\n",
      "2023-09-27 19:12:37,511 - __main__ - INFO - Predicting ...\n",
      "2023-09-27 19:12:37,516 - hbmep.utils.utils - INFO - func:make_prediction_dataset took: 0.00 sec\n",
      "2023-09-27 19:12:40,275 - hbmep.utils.utils - INFO - func:predict took: 2.76 sec\n",
      "2023-09-27 19:12:40,276 - __main__ - INFO - Plotting recruitment curves ...\n",
      "2023-09-27 19:12:40,284 - hbmep.model.baseline - INFO - Rendering ...\n",
      "2023-09-27 19:12:43,180 - hbmep.model.baseline - INFO - Saved to /home/vishu/repos/hbmep-paper/reports/human/intraoperative/power-analysis/draw_807/N_8/seed_204/recruitment_curves.pdf\n",
      "2023-09-27 19:12:43,180 - hbmep.utils.utils - INFO - func:render_recruitment_curves took: 2.90 sec\n",
      "2023-09-27 19:12:43,181 - __main__ - INFO - Plotting posterior checks ...\n",
      "2023-09-27 19:12:43,195 - hbmep.model.baseline - INFO - Rendering Posterior Predictive Check ...\n",
      "2023-09-27 19:12:46,669 - hbmep.model.baseline - INFO - Saved to /home/vishu/repos/hbmep-paper/reports/human/intraoperative/power-analysis/draw_807/N_8/seed_204/posterior_predictive_check.pdf\n",
      "2023-09-27 19:12:46,670 - hbmep.utils.utils - INFO - func:_render_predictive_check took: 3.49 sec\n",
      "2023-09-27 19:12:46,670 - hbmep.utils.utils - INFO - func:render_predictive_check took: 3.49 sec\n",
      "2023-09-27 19:12:48,406 - __main__ - INFO - \n",
      "\n",
      "Draw:2/50, N:3/6, Repeat:8/10\n",
      "2023-09-27 19:12:48,412 - __main__ - INFO - Seed:912, Subjects: 108, 85, 144, 90, 97, 14, 64, 164\n",
      "2023-09-27 19:12:48,413 - hbmep.config - INFO - Verifying configuration ...\n",
      "2023-09-27 19:12:48,413 - hbmep.config - INFO - Success!\n",
      "2023-09-27 19:12:48,414 - hbmep.model.baseline - INFO - Initialized model with hierarchical_bayesian link\n",
      "2023-09-27 19:12:48,414 - hbmep.dataset.core - INFO - Artefacts will be stored here - /home/vishu/repos/hbmep-paper/reports/human/intraoperative/power-analysis/draw_807/N_8/seed_912\n",
      "2023-09-27 19:12:48,414 - hbmep.dataset.core - INFO - Copied config to /home/vishu/repos/hbmep-paper/reports/human/intraoperative/power-analysis/draw_807/N_8/seed_912\n",
      "2023-09-27 19:12:48,415 - hbmep.dataset.core - INFO - Processing data ...\n",
      "2023-09-27 19:12:48,416 - hbmep.utils.utils - INFO - func:load took: 0.00 sec\n",
      "2023-09-27 19:12:48,416 - __main__ - INFO - Fitting ...\n",
      "2023-09-27 19:12:48,417 - hbmep.model.baseline - INFO - Running inference with hierarchical_bayesian ...\n"
     ]
    },
    {
     "data": {
      "application/vnd.jupyter.widget-view+json": {
       "model_id": "be8a0ea710e84ebca39064c023d7c9cf",
       "version_major": 2,
       "version_minor": 0
      },
      "text/plain": [
       "  0%|          | 0/1500 [00:00<?, ?it/s]"
      ]
     },
     "metadata": {},
     "output_type": "display_data"
    },
    {
     "data": {
      "application/vnd.jupyter.widget-view+json": {
       "model_id": "8a0648b448474cb392e1cd3ff32d4604",
       "version_major": 2,
       "version_minor": 0
      },
      "text/plain": [
       "  0%|          | 0/1500 [00:00<?, ?it/s]"
      ]
     },
     "metadata": {},
     "output_type": "display_data"
    },
    {
     "data": {
      "application/vnd.jupyter.widget-view+json": {
       "model_id": "c450ab4dc32d41359ebcc7b818efcbc9",
       "version_major": 2,
       "version_minor": 0
      },
      "text/plain": [
       "  0%|          | 0/1500 [00:00<?, ?it/s]"
      ]
     },
     "metadata": {},
     "output_type": "display_data"
    },
    {
     "data": {
      "application/vnd.jupyter.widget-view+json": {
       "model_id": "c4dd482eac7d4da0a82f54481deec868",
       "version_major": 2,
       "version_minor": 0
      },
      "text/plain": [
       "  0%|          | 0/1500 [00:00<?, ?it/s]"
      ]
     },
     "metadata": {},
     "output_type": "display_data"
    },
    {
     "name": "stderr",
     "output_type": "stream",
     "text": [
      "2023-09-27 19:13:34,992 - hbmep.utils.utils - INFO - func:run_inference took: 46.58 sec\n",
      "2023-09-27 19:13:34,993 - __main__ - INFO - Predicting ...\n",
      "2023-09-27 19:13:34,997 - hbmep.utils.utils - INFO - func:make_prediction_dataset took: 0.00 sec\n",
      "2023-09-27 19:13:37,710 - hbmep.utils.utils - INFO - func:predict took: 2.71 sec\n",
      "2023-09-27 19:13:37,710 - __main__ - INFO - Plotting recruitment curves ...\n",
      "2023-09-27 19:13:37,718 - hbmep.model.baseline - INFO - Rendering ...\n",
      "2023-09-27 19:13:40,570 - hbmep.model.baseline - INFO - Saved to /home/vishu/repos/hbmep-paper/reports/human/intraoperative/power-analysis/draw_807/N_8/seed_912/recruitment_curves.pdf\n",
      "2023-09-27 19:13:40,570 - hbmep.utils.utils - INFO - func:render_recruitment_curves took: 2.86 sec\n",
      "2023-09-27 19:13:40,570 - __main__ - INFO - Plotting posterior checks ...\n",
      "2023-09-27 19:13:40,585 - hbmep.model.baseline - INFO - Rendering Posterior Predictive Check ...\n",
      "2023-09-27 19:13:44,040 - hbmep.model.baseline - INFO - Saved to /home/vishu/repos/hbmep-paper/reports/human/intraoperative/power-analysis/draw_807/N_8/seed_912/posterior_predictive_check.pdf\n",
      "2023-09-27 19:13:44,041 - hbmep.utils.utils - INFO - func:_render_predictive_check took: 3.47 sec\n",
      "2023-09-27 19:13:44,041 - hbmep.utils.utils - INFO - func:render_predictive_check took: 3.47 sec\n",
      "2023-09-27 19:13:45,791 - __main__ - INFO - \n",
      "\n",
      "Draw:2/50, N:3/6, Repeat:9/10\n",
      "2023-09-27 19:13:45,794 - __main__ - INFO - Seed:698, Subjects: 50, 190, 14, 153, 33, 159, 185, 131\n",
      "2023-09-27 19:13:45,795 - hbmep.config - INFO - Verifying configuration ...\n",
      "2023-09-27 19:13:45,795 - hbmep.config - INFO - Success!\n",
      "2023-09-27 19:13:45,796 - hbmep.model.baseline - INFO - Initialized model with hierarchical_bayesian link\n",
      "2023-09-27 19:13:45,796 - hbmep.dataset.core - INFO - Artefacts will be stored here - /home/vishu/repos/hbmep-paper/reports/human/intraoperative/power-analysis/draw_807/N_8/seed_698\n",
      "2023-09-27 19:13:45,796 - hbmep.dataset.core - INFO - Copied config to /home/vishu/repos/hbmep-paper/reports/human/intraoperative/power-analysis/draw_807/N_8/seed_698\n",
      "2023-09-27 19:13:45,797 - hbmep.dataset.core - INFO - Processing data ...\n",
      "2023-09-27 19:13:45,798 - hbmep.utils.utils - INFO - func:load took: 0.00 sec\n",
      "2023-09-27 19:13:45,798 - __main__ - INFO - Fitting ...\n",
      "2023-09-27 19:13:45,799 - hbmep.model.baseline - INFO - Running inference with hierarchical_bayesian ...\n"
     ]
    },
    {
     "data": {
      "application/vnd.jupyter.widget-view+json": {
       "model_id": "10c529cad0d84232b5f8caba54187f43",
       "version_major": 2,
       "version_minor": 0
      },
      "text/plain": [
       "  0%|          | 0/1500 [00:00<?, ?it/s]"
      ]
     },
     "metadata": {},
     "output_type": "display_data"
    },
    {
     "data": {
      "application/vnd.jupyter.widget-view+json": {
       "model_id": "31bea889b317499abdc485ee9d646677",
       "version_major": 2,
       "version_minor": 0
      },
      "text/plain": [
       "  0%|          | 0/1500 [00:00<?, ?it/s]"
      ]
     },
     "metadata": {},
     "output_type": "display_data"
    },
    {
     "data": {
      "application/vnd.jupyter.widget-view+json": {
       "model_id": "60021615fe404d019af751a13529be45",
       "version_major": 2,
       "version_minor": 0
      },
      "text/plain": [
       "  0%|          | 0/1500 [00:00<?, ?it/s]"
      ]
     },
     "metadata": {},
     "output_type": "display_data"
    },
    {
     "data": {
      "application/vnd.jupyter.widget-view+json": {
       "model_id": "28bd50e7d191445dbdcfb29b08d4454c",
       "version_major": 2,
       "version_minor": 0
      },
      "text/plain": [
       "  0%|          | 0/1500 [00:00<?, ?it/s]"
      ]
     },
     "metadata": {},
     "output_type": "display_data"
    },
    {
     "name": "stderr",
     "output_type": "stream",
     "text": [
      "2023-09-27 19:14:08,262 - hbmep.utils.utils - INFO - func:run_inference took: 22.46 sec\n",
      "2023-09-27 19:14:08,263 - __main__ - INFO - Predicting ...\n",
      "2023-09-27 19:14:08,267 - hbmep.utils.utils - INFO - func:make_prediction_dataset took: 0.00 sec\n",
      "2023-09-27 19:14:11,033 - hbmep.utils.utils - INFO - func:predict took: 2.77 sec\n",
      "2023-09-27 19:14:11,034 - __main__ - INFO - Plotting recruitment curves ...\n",
      "2023-09-27 19:14:11,042 - hbmep.model.baseline - INFO - Rendering ...\n",
      "2023-09-27 19:14:14,187 - hbmep.model.baseline - INFO - Saved to /home/vishu/repos/hbmep-paper/reports/human/intraoperative/power-analysis/draw_807/N_8/seed_698/recruitment_curves.pdf\n",
      "2023-09-27 19:14:14,187 - hbmep.utils.utils - INFO - func:render_recruitment_curves took: 3.15 sec\n",
      "2023-09-27 19:14:14,187 - __main__ - INFO - Plotting posterior checks ...\n",
      "2023-09-27 19:14:14,201 - hbmep.model.baseline - INFO - Rendering Posterior Predictive Check ...\n",
      "2023-09-27 19:14:17,672 - hbmep.model.baseline - INFO - Saved to /home/vishu/repos/hbmep-paper/reports/human/intraoperative/power-analysis/draw_807/N_8/seed_698/posterior_predictive_check.pdf\n",
      "2023-09-27 19:14:17,673 - hbmep.utils.utils - INFO - func:_render_predictive_check took: 3.49 sec\n",
      "2023-09-27 19:14:17,673 - hbmep.utils.utils - INFO - func:render_predictive_check took: 3.49 sec\n",
      "2023-09-27 19:14:19,442 - __main__ - INFO - \n",
      "\n",
      "Draw:2/50, N:3/6, Repeat:10/10\n",
      "2023-09-27 19:14:19,445 - __main__ - INFO - Seed:677, Subjects: 156, 108, 186, 126, 124, 173, 91, 18\n",
      "2023-09-27 19:14:19,446 - hbmep.config - INFO - Verifying configuration ...\n",
      "2023-09-27 19:14:19,447 - hbmep.config - INFO - Success!\n",
      "2023-09-27 19:14:19,447 - hbmep.model.baseline - INFO - Initialized model with hierarchical_bayesian link\n",
      "2023-09-27 19:14:19,447 - hbmep.dataset.core - INFO - Artefacts will be stored here - /home/vishu/repos/hbmep-paper/reports/human/intraoperative/power-analysis/draw_807/N_8/seed_677\n",
      "2023-09-27 19:14:19,448 - hbmep.dataset.core - INFO - Copied config to /home/vishu/repos/hbmep-paper/reports/human/intraoperative/power-analysis/draw_807/N_8/seed_677\n",
      "2023-09-27 19:14:19,449 - hbmep.dataset.core - INFO - Processing data ...\n",
      "2023-09-27 19:14:19,450 - hbmep.utils.utils - INFO - func:load took: 0.00 sec\n",
      "2023-09-27 19:14:19,450 - __main__ - INFO - Fitting ...\n",
      "2023-09-27 19:14:19,450 - hbmep.model.baseline - INFO - Running inference with hierarchical_bayesian ...\n"
     ]
    },
    {
     "data": {
      "application/vnd.jupyter.widget-view+json": {
       "model_id": "da1ee3ef78f7410ba7a173f04efcdc09",
       "version_major": 2,
       "version_minor": 0
      },
      "text/plain": [
       "  0%|          | 0/1500 [00:00<?, ?it/s]"
      ]
     },
     "metadata": {},
     "output_type": "display_data"
    },
    {
     "data": {
      "application/vnd.jupyter.widget-view+json": {
       "model_id": "673a10b85f144cd9ac7520baf5fd86ba",
       "version_major": 2,
       "version_minor": 0
      },
      "text/plain": [
       "  0%|          | 0/1500 [00:00<?, ?it/s]"
      ]
     },
     "metadata": {},
     "output_type": "display_data"
    },
    {
     "data": {
      "application/vnd.jupyter.widget-view+json": {
       "model_id": "17febc87d8824a30b8c74cccd4934e01",
       "version_major": 2,
       "version_minor": 0
      },
      "text/plain": [
       "  0%|          | 0/1500 [00:00<?, ?it/s]"
      ]
     },
     "metadata": {},
     "output_type": "display_data"
    },
    {
     "data": {
      "application/vnd.jupyter.widget-view+json": {
       "model_id": "350aee350f6c494e9d19bbf9e5fb0cab",
       "version_major": 2,
       "version_minor": 0
      },
      "text/plain": [
       "  0%|          | 0/1500 [00:00<?, ?it/s]"
      ]
     },
     "metadata": {},
     "output_type": "display_data"
    },
    {
     "name": "stderr",
     "output_type": "stream",
     "text": [
      "2023-09-27 19:15:02,288 - hbmep.utils.utils - INFO - func:run_inference took: 42.84 sec\n",
      "2023-09-27 19:15:02,288 - __main__ - INFO - Predicting ...\n",
      "2023-09-27 19:15:02,293 - hbmep.utils.utils - INFO - func:make_prediction_dataset took: 0.00 sec\n",
      "2023-09-27 19:15:05,035 - hbmep.utils.utils - INFO - func:predict took: 2.74 sec\n",
      "2023-09-27 19:15:05,036 - __main__ - INFO - Plotting recruitment curves ...\n",
      "2023-09-27 19:15:05,044 - hbmep.model.baseline - INFO - Rendering ...\n",
      "2023-09-27 19:15:07,981 - hbmep.model.baseline - INFO - Saved to /home/vishu/repos/hbmep-paper/reports/human/intraoperative/power-analysis/draw_807/N_8/seed_677/recruitment_curves.pdf\n",
      "2023-09-27 19:15:07,981 - hbmep.utils.utils - INFO - func:render_recruitment_curves took: 2.95 sec\n",
      "2023-09-27 19:15:07,982 - __main__ - INFO - Plotting posterior checks ...\n",
      "2023-09-27 19:15:07,996 - hbmep.model.baseline - INFO - Rendering Posterior Predictive Check ...\n",
      "2023-09-27 19:15:11,424 - hbmep.model.baseline - INFO - Saved to /home/vishu/repos/hbmep-paper/reports/human/intraoperative/power-analysis/draw_807/N_8/seed_677/posterior_predictive_check.pdf\n",
      "2023-09-27 19:15:11,425 - hbmep.utils.utils - INFO - func:_render_predictive_check took: 3.44 sec\n",
      "2023-09-27 19:15:11,425 - hbmep.utils.utils - INFO - func:render_predictive_check took: 3.44 sec\n",
      "2023-09-27 19:15:13,210 - __main__ - INFO - \n",
      "\n",
      "Draw:2/50, N:4/6, Repeat:1/10\n",
      "2023-09-27 19:15:13,211 - __main__ - INFO - Seed:339, Subjects: 67, 138, 116, 43, 140, 161, 181, 178, 17, 167, 102, 36\n",
      "2023-09-27 19:15:13,212 - hbmep.config - INFO - Verifying configuration ...\n",
      "2023-09-27 19:15:13,212 - hbmep.config - INFO - Success!\n",
      "2023-09-27 19:15:13,213 - hbmep.model.baseline - INFO - Initialized model with hierarchical_bayesian link\n",
      "2023-09-27 19:15:13,213 - hbmep.dataset.core - INFO - Artefacts will be stored here - /home/vishu/repos/hbmep-paper/reports/human/intraoperative/power-analysis/draw_807/N_12/seed_339\n",
      "2023-09-27 19:15:13,213 - hbmep.dataset.core - INFO - Copied config to /home/vishu/repos/hbmep-paper/reports/human/intraoperative/power-analysis/draw_807/N_12/seed_339\n",
      "2023-09-27 19:15:13,214 - hbmep.dataset.core - INFO - Processing data ...\n",
      "2023-09-27 19:15:13,215 - hbmep.utils.utils - INFO - func:load took: 0.00 sec\n",
      "2023-09-27 19:15:13,215 - __main__ - INFO - Fitting ...\n",
      "2023-09-27 19:15:13,215 - hbmep.model.baseline - INFO - Running inference with hierarchical_bayesian ...\n"
     ]
    },
    {
     "data": {
      "application/vnd.jupyter.widget-view+json": {
       "model_id": "03249946065f4b018972ccf8abfdad26",
       "version_major": 2,
       "version_minor": 0
      },
      "text/plain": [
       "  0%|          | 0/1500 [00:00<?, ?it/s]"
      ]
     },
     "metadata": {},
     "output_type": "display_data"
    },
    {
     "data": {
      "application/vnd.jupyter.widget-view+json": {
       "model_id": "eaefd6cf04844e189338cd14e2128619",
       "version_major": 2,
       "version_minor": 0
      },
      "text/plain": [
       "  0%|          | 0/1500 [00:00<?, ?it/s]"
      ]
     },
     "metadata": {},
     "output_type": "display_data"
    },
    {
     "data": {
      "application/vnd.jupyter.widget-view+json": {
       "model_id": "8f1b29325ab34440a16d4e570e0d0574",
       "version_major": 2,
       "version_minor": 0
      },
      "text/plain": [
       "  0%|          | 0/1500 [00:00<?, ?it/s]"
      ]
     },
     "metadata": {},
     "output_type": "display_data"
    },
    {
     "data": {
      "application/vnd.jupyter.widget-view+json": {
       "model_id": "e1d1631638b74a3eaaa769d4e35371c1",
       "version_major": 2,
       "version_minor": 0
      },
      "text/plain": [
       "  0%|          | 0/1500 [00:00<?, ?it/s]"
      ]
     },
     "metadata": {},
     "output_type": "display_data"
    },
    {
     "name": "stderr",
     "output_type": "stream",
     "text": [
      "2023-09-27 19:16:51,145 - hbmep.utils.utils - INFO - func:run_inference took: 1 min and 37.93 sec\n",
      "2023-09-27 19:16:51,146 - __main__ - INFO - Predicting ...\n",
      "2023-09-27 19:16:51,150 - hbmep.utils.utils - INFO - func:make_prediction_dataset took: 0.00 sec\n",
      "2023-09-27 19:16:55,003 - hbmep.utils.utils - INFO - func:predict took: 3.85 sec\n",
      "2023-09-27 19:16:55,004 - __main__ - INFO - Plotting recruitment curves ...\n",
      "2023-09-27 19:16:55,015 - hbmep.model.baseline - INFO - Rendering ...\n",
      "2023-09-27 19:16:59,332 - hbmep.model.baseline - INFO - Saved to /home/vishu/repos/hbmep-paper/reports/human/intraoperative/power-analysis/draw_807/N_12/seed_339/recruitment_curves.pdf\n",
      "2023-09-27 19:16:59,333 - hbmep.utils.utils - INFO - func:render_recruitment_curves took: 4.33 sec\n",
      "2023-09-27 19:16:59,333 - __main__ - INFO - Plotting posterior checks ...\n",
      "2023-09-27 19:16:59,354 - hbmep.model.baseline - INFO - Rendering Posterior Predictive Check ...\n",
      "2023-09-27 19:17:04,522 - hbmep.model.baseline - INFO - Saved to /home/vishu/repos/hbmep-paper/reports/human/intraoperative/power-analysis/draw_807/N_12/seed_339/posterior_predictive_check.pdf\n",
      "2023-09-27 19:17:04,523 - hbmep.utils.utils - INFO - func:_render_predictive_check took: 5.19 sec\n",
      "2023-09-27 19:17:04,523 - hbmep.utils.utils - INFO - func:render_predictive_check took: 5.19 sec\n",
      "2023-09-27 19:17:06,413 - __main__ - INFO - \n",
      "\n",
      "Draw:2/50, N:4/6, Repeat:2/10\n",
      "2023-09-27 19:17:06,416 - __main__ - INFO - Seed:777, Subjects: 23, 34, 144, 97, 27, 47, 92, 191, 80, 148, 82, 15\n",
      "2023-09-27 19:17:06,423 - hbmep.config - INFO - Verifying configuration ...\n",
      "2023-09-27 19:17:06,424 - hbmep.config - INFO - Success!\n",
      "2023-09-27 19:17:06,424 - hbmep.model.baseline - INFO - Initialized model with hierarchical_bayesian link\n",
      "2023-09-27 19:17:06,425 - hbmep.dataset.core - INFO - Artefacts will be stored here - /home/vishu/repos/hbmep-paper/reports/human/intraoperative/power-analysis/draw_807/N_12/seed_777\n",
      "2023-09-27 19:17:06,425 - hbmep.dataset.core - INFO - Copied config to /home/vishu/repos/hbmep-paper/reports/human/intraoperative/power-analysis/draw_807/N_12/seed_777\n",
      "2023-09-27 19:17:06,426 - hbmep.dataset.core - INFO - Processing data ...\n",
      "2023-09-27 19:17:06,426 - hbmep.utils.utils - INFO - func:load took: 0.00 sec\n",
      "2023-09-27 19:17:06,427 - __main__ - INFO - Fitting ...\n",
      "2023-09-27 19:17:06,427 - hbmep.model.baseline - INFO - Running inference with hierarchical_bayesian ...\n"
     ]
    },
    {
     "data": {
      "application/vnd.jupyter.widget-view+json": {
       "model_id": "d56996872d634f35ac11bbc4fabf917b",
       "version_major": 2,
       "version_minor": 0
      },
      "text/plain": [
       "  0%|          | 0/1500 [00:00<?, ?it/s]"
      ]
     },
     "metadata": {},
     "output_type": "display_data"
    },
    {
     "data": {
      "application/vnd.jupyter.widget-view+json": {
       "model_id": "948a2a44679e42f28ae76cc9241476d0",
       "version_major": 2,
       "version_minor": 0
      },
      "text/plain": [
       "  0%|          | 0/1500 [00:00<?, ?it/s]"
      ]
     },
     "metadata": {},
     "output_type": "display_data"
    },
    {
     "data": {
      "application/vnd.jupyter.widget-view+json": {
       "model_id": "b929e17944a44f8ba4d14ed491801460",
       "version_major": 2,
       "version_minor": 0
      },
      "text/plain": [
       "  0%|          | 0/1500 [00:00<?, ?it/s]"
      ]
     },
     "metadata": {},
     "output_type": "display_data"
    },
    {
     "data": {
      "application/vnd.jupyter.widget-view+json": {
       "model_id": "e415a78d9ef8410cbb2d8a6d45796d8e",
       "version_major": 2,
       "version_minor": 0
      },
      "text/plain": [
       "  0%|          | 0/1500 [00:00<?, ?it/s]"
      ]
     },
     "metadata": {},
     "output_type": "display_data"
    },
    {
     "name": "stderr",
     "output_type": "stream",
     "text": [
      "2023-09-27 19:18:58,923 - hbmep.utils.utils - INFO - func:run_inference took: 1 min and 52.50 sec\n",
      "2023-09-27 19:18:58,924 - __main__ - INFO - Predicting ...\n",
      "2023-09-27 19:18:58,928 - hbmep.utils.utils - INFO - func:make_prediction_dataset took: 0.00 sec\n",
      "2023-09-27 19:19:02,799 - hbmep.utils.utils - INFO - func:predict took: 3.87 sec\n",
      "2023-09-27 19:19:02,799 - __main__ - INFO - Plotting recruitment curves ...\n",
      "2023-09-27 19:19:02,810 - hbmep.model.baseline - INFO - Rendering ...\n",
      "2023-09-27 19:19:07,385 - hbmep.model.baseline - INFO - Saved to /home/vishu/repos/hbmep-paper/reports/human/intraoperative/power-analysis/draw_807/N_12/seed_777/recruitment_curves.pdf\n",
      "2023-09-27 19:19:07,386 - hbmep.utils.utils - INFO - func:render_recruitment_curves took: 4.59 sec\n",
      "2023-09-27 19:19:07,386 - __main__ - INFO - Plotting posterior checks ...\n",
      "2023-09-27 19:19:07,407 - hbmep.model.baseline - INFO - Rendering Posterior Predictive Check ...\n",
      "2023-09-27 19:19:12,641 - hbmep.model.baseline - INFO - Saved to /home/vishu/repos/hbmep-paper/reports/human/intraoperative/power-analysis/draw_807/N_12/seed_777/posterior_predictive_check.pdf\n",
      "2023-09-27 19:19:12,642 - hbmep.utils.utils - INFO - func:_render_predictive_check took: 5.26 sec\n",
      "2023-09-27 19:19:12,642 - hbmep.utils.utils - INFO - func:render_predictive_check took: 5.26 sec\n",
      "2023-09-27 19:19:14,673 - __main__ - INFO - \n",
      "\n",
      "Draw:2/50, N:4/6, Repeat:3/10\n",
      "2023-09-27 19:19:14,676 - __main__ - INFO - Seed:129, Subjects: 151, 192, 17, 74, 11, 14, 148, 173, 164, 38, 85, 168\n",
      "2023-09-27 19:19:14,678 - hbmep.config - INFO - Verifying configuration ...\n",
      "2023-09-27 19:19:14,678 - hbmep.config - INFO - Success!\n",
      "2023-09-27 19:19:14,678 - hbmep.model.baseline - INFO - Initialized model with hierarchical_bayesian link\n",
      "2023-09-27 19:19:14,678 - hbmep.dataset.core - INFO - Artefacts will be stored here - /home/vishu/repos/hbmep-paper/reports/human/intraoperative/power-analysis/draw_807/N_12/seed_129\n",
      "2023-09-27 19:19:14,678 - hbmep.dataset.core - INFO - Copied config to /home/vishu/repos/hbmep-paper/reports/human/intraoperative/power-analysis/draw_807/N_12/seed_129\n",
      "2023-09-27 19:19:14,679 - hbmep.dataset.core - INFO - Processing data ...\n",
      "2023-09-27 19:19:14,680 - hbmep.utils.utils - INFO - func:load took: 0.00 sec\n",
      "2023-09-27 19:19:14,680 - __main__ - INFO - Fitting ...\n",
      "2023-09-27 19:19:14,680 - hbmep.model.baseline - INFO - Running inference with hierarchical_bayesian ...\n"
     ]
    },
    {
     "data": {
      "application/vnd.jupyter.widget-view+json": {
       "model_id": "10772fdfb2154303add94076aa8c8b83",
       "version_major": 2,
       "version_minor": 0
      },
      "text/plain": [
       "  0%|          | 0/1500 [00:00<?, ?it/s]"
      ]
     },
     "metadata": {},
     "output_type": "display_data"
    },
    {
     "data": {
      "application/vnd.jupyter.widget-view+json": {
       "model_id": "50601030647c42b7bc25b1ad8d7b1f46",
       "version_major": 2,
       "version_minor": 0
      },
      "text/plain": [
       "  0%|          | 0/1500 [00:00<?, ?it/s]"
      ]
     },
     "metadata": {},
     "output_type": "display_data"
    },
    {
     "data": {
      "application/vnd.jupyter.widget-view+json": {
       "model_id": "1f26239bd3324aeba4f692c8c0a47ede",
       "version_major": 2,
       "version_minor": 0
      },
      "text/plain": [
       "  0%|          | 0/1500 [00:00<?, ?it/s]"
      ]
     },
     "metadata": {},
     "output_type": "display_data"
    },
    {
     "data": {
      "application/vnd.jupyter.widget-view+json": {
       "model_id": "46df63be1272473d9371aa8c6682b8f9",
       "version_major": 2,
       "version_minor": 0
      },
      "text/plain": [
       "  0%|          | 0/1500 [00:00<?, ?it/s]"
      ]
     },
     "metadata": {},
     "output_type": "display_data"
    },
    {
     "name": "stderr",
     "output_type": "stream",
     "text": [
      "2023-09-27 19:21:05,345 - hbmep.utils.utils - INFO - func:run_inference took: 1 min and 50.66 sec\n",
      "2023-09-27 19:21:05,346 - __main__ - INFO - Predicting ...\n",
      "2023-09-27 19:21:05,350 - hbmep.utils.utils - INFO - func:make_prediction_dataset took: 0.00 sec\n",
      "2023-09-27 19:21:09,211 - hbmep.utils.utils - INFO - func:predict took: 3.86 sec\n",
      "2023-09-27 19:21:09,212 - __main__ - INFO - Plotting recruitment curves ...\n",
      "2023-09-27 19:21:09,227 - hbmep.model.baseline - INFO - Rendering ...\n",
      "2023-09-27 19:21:13,717 - hbmep.model.baseline - INFO - Saved to /home/vishu/repos/hbmep-paper/reports/human/intraoperative/power-analysis/draw_807/N_12/seed_129/recruitment_curves.pdf\n",
      "2023-09-27 19:21:13,717 - hbmep.utils.utils - INFO - func:render_recruitment_curves took: 4.50 sec\n",
      "2023-09-27 19:21:13,717 - __main__ - INFO - Plotting posterior checks ...\n",
      "2023-09-27 19:21:13,738 - hbmep.model.baseline - INFO - Rendering Posterior Predictive Check ...\n",
      "2023-09-27 19:21:18,928 - hbmep.model.baseline - INFO - Saved to /home/vishu/repos/hbmep-paper/reports/human/intraoperative/power-analysis/draw_807/N_12/seed_129/posterior_predictive_check.pdf\n",
      "2023-09-27 19:21:18,929 - hbmep.utils.utils - INFO - func:_render_predictive_check took: 5.21 sec\n",
      "2023-09-27 19:21:18,929 - hbmep.utils.utils - INFO - func:render_predictive_check took: 5.21 sec\n",
      "2023-09-27 19:21:20,988 - __main__ - INFO - \n",
      "\n",
      "Draw:2/50, N:4/6, Repeat:4/10\n",
      "2023-09-27 19:21:20,991 - __main__ - INFO - Seed:822, Subjects: 98, 32, 121, 186, 20, 191, 147, 172, 14, 143, 189, 83\n",
      "2023-09-27 19:21:20,992 - hbmep.config - INFO - Verifying configuration ...\n",
      "2023-09-27 19:21:20,993 - hbmep.config - INFO - Success!\n",
      "2023-09-27 19:21:20,993 - hbmep.model.baseline - INFO - Initialized model with hierarchical_bayesian link\n",
      "2023-09-27 19:21:20,993 - hbmep.dataset.core - INFO - Artefacts will be stored here - /home/vishu/repos/hbmep-paper/reports/human/intraoperative/power-analysis/draw_807/N_12/seed_822\n",
      "2023-09-27 19:21:20,994 - hbmep.dataset.core - INFO - Copied config to /home/vishu/repos/hbmep-paper/reports/human/intraoperative/power-analysis/draw_807/N_12/seed_822\n",
      "2023-09-27 19:21:20,995 - hbmep.dataset.core - INFO - Processing data ...\n",
      "2023-09-27 19:21:20,995 - hbmep.utils.utils - INFO - func:load took: 0.00 sec\n",
      "2023-09-27 19:21:20,996 - __main__ - INFO - Fitting ...\n",
      "2023-09-27 19:21:20,996 - hbmep.model.baseline - INFO - Running inference with hierarchical_bayesian ...\n"
     ]
    },
    {
     "data": {
      "application/vnd.jupyter.widget-view+json": {
       "model_id": "5eccdb78255543beae98c1f078d29fb1",
       "version_major": 2,
       "version_minor": 0
      },
      "text/plain": [
       "  0%|          | 0/1500 [00:00<?, ?it/s]"
      ]
     },
     "metadata": {},
     "output_type": "display_data"
    },
    {
     "data": {
      "application/vnd.jupyter.widget-view+json": {
       "model_id": "2618015eab9e4015a516403ed1190585",
       "version_major": 2,
       "version_minor": 0
      },
      "text/plain": [
       "  0%|          | 0/1500 [00:00<?, ?it/s]"
      ]
     },
     "metadata": {},
     "output_type": "display_data"
    },
    {
     "data": {
      "application/vnd.jupyter.widget-view+json": {
       "model_id": "3ab7417b428f497d8389b4e076acded3",
       "version_major": 2,
       "version_minor": 0
      },
      "text/plain": [
       "  0%|          | 0/1500 [00:00<?, ?it/s]"
      ]
     },
     "metadata": {},
     "output_type": "display_data"
    },
    {
     "data": {
      "application/vnd.jupyter.widget-view+json": {
       "model_id": "06057f455bb842c596d429adcbddbd7d",
       "version_major": 2,
       "version_minor": 0
      },
      "text/plain": [
       "  0%|          | 0/1500 [00:00<?, ?it/s]"
      ]
     },
     "metadata": {},
     "output_type": "display_data"
    },
    {
     "name": "stderr",
     "output_type": "stream",
     "text": [
      "2023-09-27 19:22:12,162 - hbmep.utils.utils - INFO - func:run_inference took: 51.17 sec\n",
      "2023-09-27 19:22:12,162 - __main__ - INFO - Predicting ...\n",
      "2023-09-27 19:22:12,167 - hbmep.utils.utils - INFO - func:make_prediction_dataset took: 0.00 sec\n",
      "2023-09-27 19:22:16,056 - hbmep.utils.utils - INFO - func:predict took: 3.89 sec\n",
      "2023-09-27 19:22:16,056 - __main__ - INFO - Plotting recruitment curves ...\n",
      "2023-09-27 19:22:16,067 - hbmep.model.baseline - INFO - Rendering ...\n",
      "2023-09-27 19:22:20,404 - hbmep.model.baseline - INFO - Saved to /home/vishu/repos/hbmep-paper/reports/human/intraoperative/power-analysis/draw_807/N_12/seed_822/recruitment_curves.pdf\n",
      "2023-09-27 19:22:20,404 - hbmep.utils.utils - INFO - func:render_recruitment_curves took: 4.35 sec\n",
      "2023-09-27 19:22:20,405 - __main__ - INFO - Plotting posterior checks ...\n",
      "2023-09-27 19:22:20,426 - hbmep.model.baseline - INFO - Rendering Posterior Predictive Check ...\n",
      "2023-09-27 19:22:25,643 - hbmep.model.baseline - INFO - Saved to /home/vishu/repos/hbmep-paper/reports/human/intraoperative/power-analysis/draw_807/N_12/seed_822/posterior_predictive_check.pdf\n",
      "2023-09-27 19:22:25,643 - hbmep.utils.utils - INFO - func:_render_predictive_check took: 5.24 sec\n",
      "2023-09-27 19:22:25,644 - hbmep.utils.utils - INFO - func:render_predictive_check took: 5.24 sec\n",
      "2023-09-27 19:22:27,737 - __main__ - INFO - \n",
      "\n",
      "Draw:2/50, N:4/6, Repeat:5/10\n",
      "2023-09-27 19:22:27,740 - __main__ - INFO - Seed:616, Subjects: 130, 39, 87, 96, 158, 162, 160, 71, 142, 4, 8, 195\n",
      "2023-09-27 19:22:27,741 - hbmep.config - INFO - Verifying configuration ...\n",
      "2023-09-27 19:22:27,741 - hbmep.config - INFO - Success!\n",
      "2023-09-27 19:22:27,742 - hbmep.model.baseline - INFO - Initialized model with hierarchical_bayesian link\n",
      "2023-09-27 19:22:27,742 - hbmep.dataset.core - INFO - Artefacts will be stored here - /home/vishu/repos/hbmep-paper/reports/human/intraoperative/power-analysis/draw_807/N_12/seed_616\n",
      "2023-09-27 19:22:27,742 - hbmep.dataset.core - INFO - Copied config to /home/vishu/repos/hbmep-paper/reports/human/intraoperative/power-analysis/draw_807/N_12/seed_616\n",
      "2023-09-27 19:22:27,743 - hbmep.dataset.core - INFO - Processing data ...\n",
      "2023-09-27 19:22:27,744 - hbmep.utils.utils - INFO - func:load took: 0.00 sec\n",
      "2023-09-27 19:22:27,744 - __main__ - INFO - Fitting ...\n",
      "2023-09-27 19:22:27,744 - hbmep.model.baseline - INFO - Running inference with hierarchical_bayesian ...\n"
     ]
    },
    {
     "data": {
      "application/vnd.jupyter.widget-view+json": {
       "model_id": "df4c42f6909b400ab467ee0ee90170a6",
       "version_major": 2,
       "version_minor": 0
      },
      "text/plain": [
       "  0%|          | 0/1500 [00:00<?, ?it/s]"
      ]
     },
     "metadata": {},
     "output_type": "display_data"
    },
    {
     "data": {
      "application/vnd.jupyter.widget-view+json": {
       "model_id": "e945b06a9e6542a9a6140d847ebf054c",
       "version_major": 2,
       "version_minor": 0
      },
      "text/plain": [
       "  0%|          | 0/1500 [00:00<?, ?it/s]"
      ]
     },
     "metadata": {},
     "output_type": "display_data"
    },
    {
     "data": {
      "application/vnd.jupyter.widget-view+json": {
       "model_id": "40c0254d22924dfaa4265565dd463323",
       "version_major": 2,
       "version_minor": 0
      },
      "text/plain": [
       "  0%|          | 0/1500 [00:00<?, ?it/s]"
      ]
     },
     "metadata": {},
     "output_type": "display_data"
    },
    {
     "data": {
      "application/vnd.jupyter.widget-view+json": {
       "model_id": "e5bbad1fd03548039a95c064c8dc6880",
       "version_major": 2,
       "version_minor": 0
      },
      "text/plain": [
       "  0%|          | 0/1500 [00:00<?, ?it/s]"
      ]
     },
     "metadata": {},
     "output_type": "display_data"
    },
    {
     "name": "stderr",
     "output_type": "stream",
     "text": [
      "2023-09-27 19:24:19,085 - hbmep.utils.utils - INFO - func:run_inference took: 1 min and 51.34 sec\n",
      "2023-09-27 19:24:19,085 - __main__ - INFO - Predicting ...\n",
      "2023-09-27 19:24:19,090 - hbmep.utils.utils - INFO - func:make_prediction_dataset took: 0.00 sec\n",
      "2023-09-27 19:24:22,976 - hbmep.utils.utils - INFO - func:predict took: 3.89 sec\n",
      "2023-09-27 19:24:22,976 - __main__ - INFO - Plotting recruitment curves ...\n",
      "2023-09-27 19:24:22,987 - hbmep.model.baseline - INFO - Rendering ...\n",
      "2023-09-27 19:24:27,388 - hbmep.model.baseline - INFO - Saved to /home/vishu/repos/hbmep-paper/reports/human/intraoperative/power-analysis/draw_807/N_12/seed_616/recruitment_curves.pdf\n",
      "2023-09-27 19:24:27,389 - hbmep.utils.utils - INFO - func:render_recruitment_curves took: 4.41 sec\n",
      "2023-09-27 19:24:27,389 - __main__ - INFO - Plotting posterior checks ...\n",
      "2023-09-27 19:24:27,410 - hbmep.model.baseline - INFO - Rendering Posterior Predictive Check ...\n",
      "2023-09-27 19:24:32,630 - hbmep.model.baseline - INFO - Saved to /home/vishu/repos/hbmep-paper/reports/human/intraoperative/power-analysis/draw_807/N_12/seed_616/posterior_predictive_check.pdf\n",
      "2023-09-27 19:24:32,631 - hbmep.utils.utils - INFO - func:_render_predictive_check took: 5.24 sec\n",
      "2023-09-27 19:24:32,631 - hbmep.utils.utils - INFO - func:render_predictive_check took: 5.24 sec\n",
      "2023-09-27 19:24:34,755 - __main__ - INFO - \n",
      "\n",
      "Draw:2/50, N:4/6, Repeat:6/10\n",
      "2023-09-27 19:24:34,759 - __main__ - INFO - Seed:214, Subjects: 120, 179, 25, 125, 196, 84, 64, 53, 115, 72, 134, 106\n",
      "2023-09-27 19:24:34,760 - hbmep.config - INFO - Verifying configuration ...\n",
      "2023-09-27 19:24:34,760 - hbmep.config - INFO - Success!\n",
      "2023-09-27 19:24:34,760 - hbmep.model.baseline - INFO - Initialized model with hierarchical_bayesian link\n",
      "2023-09-27 19:24:34,760 - hbmep.dataset.core - INFO - Artefacts will be stored here - /home/vishu/repos/hbmep-paper/reports/human/intraoperative/power-analysis/draw_807/N_12/seed_214\n",
      "2023-09-27 19:24:34,760 - hbmep.dataset.core - INFO - Copied config to /home/vishu/repos/hbmep-paper/reports/human/intraoperative/power-analysis/draw_807/N_12/seed_214\n",
      "2023-09-27 19:24:34,761 - hbmep.dataset.core - INFO - Processing data ...\n",
      "2023-09-27 19:24:34,762 - hbmep.utils.utils - INFO - func:load took: 0.00 sec\n",
      "2023-09-27 19:24:34,762 - __main__ - INFO - Fitting ...\n",
      "2023-09-27 19:24:34,762 - hbmep.model.baseline - INFO - Running inference with hierarchical_bayesian ...\n"
     ]
    },
    {
     "data": {
      "application/vnd.jupyter.widget-view+json": {
       "model_id": "7159481db0854db7a65ed505fbed484c",
       "version_major": 2,
       "version_minor": 0
      },
      "text/plain": [
       "  0%|          | 0/1500 [00:00<?, ?it/s]"
      ]
     },
     "metadata": {},
     "output_type": "display_data"
    },
    {
     "data": {
      "application/vnd.jupyter.widget-view+json": {
       "model_id": "0c774cdf276e4bdfbe56c4fd383bffcb",
       "version_major": 2,
       "version_minor": 0
      },
      "text/plain": [
       "  0%|          | 0/1500 [00:00<?, ?it/s]"
      ]
     },
     "metadata": {},
     "output_type": "display_data"
    },
    {
     "data": {
      "application/vnd.jupyter.widget-view+json": {
       "model_id": "0b3e37e88be24cd6817b2f98c03710aa",
       "version_major": 2,
       "version_minor": 0
      },
      "text/plain": [
       "  0%|          | 0/1500 [00:00<?, ?it/s]"
      ]
     },
     "metadata": {},
     "output_type": "display_data"
    },
    {
     "data": {
      "application/vnd.jupyter.widget-view+json": {
       "model_id": "7b19f9b205c44031b751460ea5cba22e",
       "version_major": 2,
       "version_minor": 0
      },
      "text/plain": [
       "  0%|          | 0/1500 [00:00<?, ?it/s]"
      ]
     },
     "metadata": {},
     "output_type": "display_data"
    },
    {
     "name": "stderr",
     "output_type": "stream",
     "text": [
      "2023-09-27 19:25:17,015 - hbmep.utils.utils - INFO - func:run_inference took: 42.25 sec\n",
      "2023-09-27 19:25:17,016 - __main__ - INFO - Predicting ...\n",
      "2023-09-27 19:25:17,020 - hbmep.utils.utils - INFO - func:make_prediction_dataset took: 0.00 sec\n",
      "2023-09-27 19:25:20,901 - hbmep.utils.utils - INFO - func:predict took: 3.88 sec\n",
      "2023-09-27 19:25:20,901 - __main__ - INFO - Plotting recruitment curves ...\n",
      "2023-09-27 19:25:20,912 - hbmep.model.baseline - INFO - Rendering ...\n",
      "2023-09-27 19:25:25,300 - hbmep.model.baseline - INFO - Saved to /home/vishu/repos/hbmep-paper/reports/human/intraoperative/power-analysis/draw_807/N_12/seed_214/recruitment_curves.pdf\n",
      "2023-09-27 19:25:25,300 - hbmep.utils.utils - INFO - func:render_recruitment_curves took: 4.40 sec\n",
      "2023-09-27 19:25:25,300 - __main__ - INFO - Plotting posterior checks ...\n",
      "2023-09-27 19:25:25,321 - hbmep.model.baseline - INFO - Rendering Posterior Predictive Check ...\n",
      "2023-09-27 19:25:30,564 - hbmep.model.baseline - INFO - Saved to /home/vishu/repos/hbmep-paper/reports/human/intraoperative/power-analysis/draw_807/N_12/seed_214/posterior_predictive_check.pdf\n",
      "2023-09-27 19:25:30,564 - hbmep.utils.utils - INFO - func:_render_predictive_check took: 5.26 sec\n",
      "2023-09-27 19:25:30,564 - hbmep.utils.utils - INFO - func:render_predictive_check took: 5.26 sec\n",
      "2023-09-27 19:25:32,698 - __main__ - INFO - \n",
      "\n",
      "Draw:2/50, N:4/6, Repeat:7/10\n",
      "2023-09-27 19:25:32,701 - __main__ - INFO - Seed:204, Subjects: 195, 25, 42, 54, 1, 66, 19, 69, 15, 105, 95, 163\n",
      "2023-09-27 19:25:32,703 - hbmep.config - INFO - Verifying configuration ...\n",
      "2023-09-27 19:25:32,703 - hbmep.config - INFO - Success!\n",
      "2023-09-27 19:25:32,703 - hbmep.model.baseline - INFO - Initialized model with hierarchical_bayesian link\n",
      "2023-09-27 19:25:32,703 - hbmep.dataset.core - INFO - Artefacts will be stored here - /home/vishu/repos/hbmep-paper/reports/human/intraoperative/power-analysis/draw_807/N_12/seed_204\n",
      "2023-09-27 19:25:32,704 - hbmep.dataset.core - INFO - Copied config to /home/vishu/repos/hbmep-paper/reports/human/intraoperative/power-analysis/draw_807/N_12/seed_204\n",
      "2023-09-27 19:25:32,704 - hbmep.dataset.core - INFO - Processing data ...\n",
      "2023-09-27 19:25:32,705 - hbmep.utils.utils - INFO - func:load took: 0.00 sec\n",
      "2023-09-27 19:25:32,705 - __main__ - INFO - Fitting ...\n",
      "2023-09-27 19:25:32,706 - hbmep.model.baseline - INFO - Running inference with hierarchical_bayesian ...\n"
     ]
    },
    {
     "data": {
      "application/vnd.jupyter.widget-view+json": {
       "model_id": "f886a996fda44268b40764fa32c7c064",
       "version_major": 2,
       "version_minor": 0
      },
      "text/plain": [
       "  0%|          | 0/1500 [00:00<?, ?it/s]"
      ]
     },
     "metadata": {},
     "output_type": "display_data"
    },
    {
     "data": {
      "application/vnd.jupyter.widget-view+json": {
       "model_id": "2c9a5bff0d3049e5ae5606b3188d7f31",
       "version_major": 2,
       "version_minor": 0
      },
      "text/plain": [
       "  0%|          | 0/1500 [00:00<?, ?it/s]"
      ]
     },
     "metadata": {},
     "output_type": "display_data"
    },
    {
     "data": {
      "application/vnd.jupyter.widget-view+json": {
       "model_id": "04dcf0efce3f465ebd0d860b2937e72e",
       "version_major": 2,
       "version_minor": 0
      },
      "text/plain": [
       "  0%|          | 0/1500 [00:00<?, ?it/s]"
      ]
     },
     "metadata": {},
     "output_type": "display_data"
    },
    {
     "data": {
      "application/vnd.jupyter.widget-view+json": {
       "model_id": "f96832d6abe249b98a644c38d442bd5f",
       "version_major": 2,
       "version_minor": 0
      },
      "text/plain": [
       "  0%|          | 0/1500 [00:00<?, ?it/s]"
      ]
     },
     "metadata": {},
     "output_type": "display_data"
    },
    {
     "name": "stderr",
     "output_type": "stream",
     "text": [
      "2023-09-27 19:27:27,922 - hbmep.utils.utils - INFO - func:run_inference took: 1 min and 55.22 sec\n",
      "2023-09-27 19:27:27,923 - __main__ - INFO - Predicting ...\n",
      "2023-09-27 19:27:27,928 - hbmep.utils.utils - INFO - func:make_prediction_dataset took: 0.00 sec\n",
      "2023-09-27 19:27:31,821 - hbmep.utils.utils - INFO - func:predict took: 3.89 sec\n",
      "2023-09-27 19:27:31,822 - __main__ - INFO - Plotting recruitment curves ...\n",
      "2023-09-27 19:27:31,833 - hbmep.model.baseline - INFO - Rendering ...\n",
      "2023-09-27 19:27:36,236 - hbmep.model.baseline - INFO - Saved to /home/vishu/repos/hbmep-paper/reports/human/intraoperative/power-analysis/draw_807/N_12/seed_204/recruitment_curves.pdf\n",
      "2023-09-27 19:27:36,237 - hbmep.utils.utils - INFO - func:render_recruitment_curves took: 4.41 sec\n",
      "2023-09-27 19:27:36,237 - __main__ - INFO - Plotting posterior checks ...\n",
      "2023-09-27 19:27:36,258 - hbmep.model.baseline - INFO - Rendering Posterior Predictive Check ...\n",
      "2023-09-27 19:27:41,532 - hbmep.model.baseline - INFO - Saved to /home/vishu/repos/hbmep-paper/reports/human/intraoperative/power-analysis/draw_807/N_12/seed_204/posterior_predictive_check.pdf\n",
      "2023-09-27 19:27:41,533 - hbmep.utils.utils - INFO - func:_render_predictive_check took: 5.30 sec\n",
      "2023-09-27 19:27:41,533 - hbmep.utils.utils - INFO - func:render_predictive_check took: 5.30 sec\n",
      "2023-09-27 19:27:43,706 - __main__ - INFO - \n",
      "\n",
      "Draw:2/50, N:4/6, Repeat:8/10\n",
      "2023-09-27 19:27:43,711 - __main__ - INFO - Seed:912, Subjects: 108, 85, 144, 90, 97, 14, 64, 164, 53, 135, 158, 126\n",
      "2023-09-27 19:27:43,712 - hbmep.config - INFO - Verifying configuration ...\n",
      "2023-09-27 19:27:43,713 - hbmep.config - INFO - Success!\n",
      "2023-09-27 19:27:43,713 - hbmep.model.baseline - INFO - Initialized model with hierarchical_bayesian link\n",
      "2023-09-27 19:27:43,713 - hbmep.dataset.core - INFO - Artefacts will be stored here - /home/vishu/repos/hbmep-paper/reports/human/intraoperative/power-analysis/draw_807/N_12/seed_912\n",
      "2023-09-27 19:27:43,714 - hbmep.dataset.core - INFO - Copied config to /home/vishu/repos/hbmep-paper/reports/human/intraoperative/power-analysis/draw_807/N_12/seed_912\n",
      "2023-09-27 19:27:43,714 - hbmep.dataset.core - INFO - Processing data ...\n",
      "2023-09-27 19:27:43,715 - hbmep.utils.utils - INFO - func:load took: 0.00 sec\n",
      "2023-09-27 19:27:43,715 - __main__ - INFO - Fitting ...\n",
      "2023-09-27 19:27:43,716 - hbmep.model.baseline - INFO - Running inference with hierarchical_bayesian ...\n"
     ]
    },
    {
     "data": {
      "application/vnd.jupyter.widget-view+json": {
       "model_id": "ecf5aa6fcb6943ee86f77ae003dc647a",
       "version_major": 2,
       "version_minor": 0
      },
      "text/plain": [
       "  0%|          | 0/1500 [00:00<?, ?it/s]"
      ]
     },
     "metadata": {},
     "output_type": "display_data"
    },
    {
     "data": {
      "application/vnd.jupyter.widget-view+json": {
       "model_id": "060d6b4faad743b5b7297f319ebabedf",
       "version_major": 2,
       "version_minor": 0
      },
      "text/plain": [
       "  0%|          | 0/1500 [00:00<?, ?it/s]"
      ]
     },
     "metadata": {},
     "output_type": "display_data"
    },
    {
     "data": {
      "application/vnd.jupyter.widget-view+json": {
       "model_id": "0f0ad52aa96f422698cbc0df8d7425ce",
       "version_major": 2,
       "version_minor": 0
      },
      "text/plain": [
       "  0%|          | 0/1500 [00:00<?, ?it/s]"
      ]
     },
     "metadata": {},
     "output_type": "display_data"
    },
    {
     "data": {
      "application/vnd.jupyter.widget-view+json": {
       "model_id": "b52b2d2910b347a883904a6bf65e31f0",
       "version_major": 2,
       "version_minor": 0
      },
      "text/plain": [
       "  0%|          | 0/1500 [00:00<?, ?it/s]"
      ]
     },
     "metadata": {},
     "output_type": "display_data"
    },
    {
     "name": "stderr",
     "output_type": "stream",
     "text": [
      "2023-09-27 19:28:54,129 - hbmep.utils.utils - INFO - func:run_inference took: 1 min and 10.41 sec\n",
      "2023-09-27 19:28:54,130 - __main__ - INFO - Predicting ...\n",
      "2023-09-27 19:28:54,135 - hbmep.utils.utils - INFO - func:make_prediction_dataset took: 0.00 sec\n",
      "2023-09-27 19:28:58,006 - hbmep.utils.utils - INFO - func:predict took: 3.87 sec\n",
      "2023-09-27 19:28:58,006 - __main__ - INFO - Plotting recruitment curves ...\n",
      "2023-09-27 19:28:58,017 - hbmep.model.baseline - INFO - Rendering ...\n",
      "2023-09-27 19:29:02,407 - hbmep.model.baseline - INFO - Saved to /home/vishu/repos/hbmep-paper/reports/human/intraoperative/power-analysis/draw_807/N_12/seed_912/recruitment_curves.pdf\n",
      "2023-09-27 19:29:02,408 - hbmep.utils.utils - INFO - func:render_recruitment_curves took: 4.40 sec\n",
      "2023-09-27 19:29:02,408 - __main__ - INFO - Plotting posterior checks ...\n",
      "2023-09-27 19:29:02,429 - hbmep.model.baseline - INFO - Rendering Posterior Predictive Check ...\n",
      "2023-09-27 19:29:07,675 - hbmep.model.baseline - INFO - Saved to /home/vishu/repos/hbmep-paper/reports/human/intraoperative/power-analysis/draw_807/N_12/seed_912/posterior_predictive_check.pdf\n",
      "2023-09-27 19:29:07,676 - hbmep.utils.utils - INFO - func:_render_predictive_check took: 5.27 sec\n",
      "2023-09-27 19:29:07,676 - hbmep.utils.utils - INFO - func:render_predictive_check took: 5.27 sec\n",
      "2023-09-27 19:29:09,909 - __main__ - INFO - \n",
      "\n",
      "Draw:2/50, N:4/6, Repeat:9/10\n",
      "2023-09-27 19:29:09,913 - __main__ - INFO - Seed:698, Subjects: 50, 190, 14, 153, 33, 159, 185, 131, 155, 187, 85, 129\n",
      "2023-09-27 19:29:09,915 - hbmep.config - INFO - Verifying configuration ...\n",
      "2023-09-27 19:29:09,915 - hbmep.config - INFO - Success!\n",
      "2023-09-27 19:29:09,915 - hbmep.model.baseline - INFO - Initialized model with hierarchical_bayesian link\n",
      "2023-09-27 19:29:09,916 - hbmep.dataset.core - INFO - Artefacts will be stored here - /home/vishu/repos/hbmep-paper/reports/human/intraoperative/power-analysis/draw_807/N_12/seed_698\n",
      "2023-09-27 19:29:09,916 - hbmep.dataset.core - INFO - Copied config to /home/vishu/repos/hbmep-paper/reports/human/intraoperative/power-analysis/draw_807/N_12/seed_698\n",
      "2023-09-27 19:29:09,917 - hbmep.dataset.core - INFO - Processing data ...\n",
      "2023-09-27 19:29:09,917 - hbmep.utils.utils - INFO - func:load took: 0.00 sec\n",
      "2023-09-27 19:29:09,917 - __main__ - INFO - Fitting ...\n",
      "2023-09-27 19:29:09,918 - hbmep.model.baseline - INFO - Running inference with hierarchical_bayesian ...\n"
     ]
    },
    {
     "data": {
      "application/vnd.jupyter.widget-view+json": {
       "model_id": "50ca7aefcfa940ae8627e5e1bcdbee62",
       "version_major": 2,
       "version_minor": 0
      },
      "text/plain": [
       "  0%|          | 0/1500 [00:00<?, ?it/s]"
      ]
     },
     "metadata": {},
     "output_type": "display_data"
    },
    {
     "data": {
      "application/vnd.jupyter.widget-view+json": {
       "model_id": "e471b03035df43ce935e5b74ca4e55db",
       "version_major": 2,
       "version_minor": 0
      },
      "text/plain": [
       "  0%|          | 0/1500 [00:00<?, ?it/s]"
      ]
     },
     "metadata": {},
     "output_type": "display_data"
    },
    {
     "data": {
      "application/vnd.jupyter.widget-view+json": {
       "model_id": "0c7b439e03594e86bda2346ee33272a6",
       "version_major": 2,
       "version_minor": 0
      },
      "text/plain": [
       "  0%|          | 0/1500 [00:00<?, ?it/s]"
      ]
     },
     "metadata": {},
     "output_type": "display_data"
    },
    {
     "data": {
      "application/vnd.jupyter.widget-view+json": {
       "model_id": "062cdb9e278c488c95b9b0a01e5d3b44",
       "version_major": 2,
       "version_minor": 0
      },
      "text/plain": [
       "  0%|          | 0/1500 [00:00<?, ?it/s]"
      ]
     },
     "metadata": {},
     "output_type": "display_data"
    },
    {
     "name": "stderr",
     "output_type": "stream",
     "text": [
      "2023-09-27 19:29:46,259 - hbmep.utils.utils - INFO - func:run_inference took: 36.34 sec\n",
      "2023-09-27 19:29:46,260 - __main__ - INFO - Predicting ...\n",
      "2023-09-27 19:29:46,264 - hbmep.utils.utils - INFO - func:make_prediction_dataset took: 0.00 sec\n",
      "2023-09-27 19:29:50,158 - hbmep.utils.utils - INFO - func:predict took: 3.89 sec\n",
      "2023-09-27 19:29:50,158 - __main__ - INFO - Plotting recruitment curves ...\n",
      "2023-09-27 19:29:50,169 - hbmep.model.baseline - INFO - Rendering ...\n",
      "2023-09-27 19:29:54,532 - hbmep.model.baseline - INFO - Saved to /home/vishu/repos/hbmep-paper/reports/human/intraoperative/power-analysis/draw_807/N_12/seed_698/recruitment_curves.pdf\n",
      "2023-09-27 19:29:54,533 - hbmep.utils.utils - INFO - func:render_recruitment_curves took: 4.37 sec\n",
      "2023-09-27 19:29:54,533 - __main__ - INFO - Plotting posterior checks ...\n",
      "2023-09-27 19:29:54,554 - hbmep.model.baseline - INFO - Rendering Posterior Predictive Check ...\n",
      "2023-09-27 19:29:59,823 - hbmep.model.baseline - INFO - Saved to /home/vishu/repos/hbmep-paper/reports/human/intraoperative/power-analysis/draw_807/N_12/seed_698/posterior_predictive_check.pdf\n",
      "2023-09-27 19:29:59,824 - hbmep.utils.utils - INFO - func:_render_predictive_check took: 5.29 sec\n",
      "2023-09-27 19:29:59,824 - hbmep.utils.utils - INFO - func:render_predictive_check took: 5.29 sec\n",
      "2023-09-27 19:30:02,029 - __main__ - INFO - \n",
      "\n",
      "Draw:2/50, N:4/6, Repeat:10/10\n",
      "2023-09-27 19:30:02,033 - __main__ - INFO - Seed:677, Subjects: 156, 108, 186, 126, 124, 173, 91, 18, 28, 178, 76, 122\n",
      "2023-09-27 19:30:02,034 - hbmep.config - INFO - Verifying configuration ...\n",
      "2023-09-27 19:30:02,035 - hbmep.config - INFO - Success!\n",
      "2023-09-27 19:30:02,035 - hbmep.model.baseline - INFO - Initialized model with hierarchical_bayesian link\n",
      "2023-09-27 19:30:02,035 - hbmep.dataset.core - INFO - Artefacts will be stored here - /home/vishu/repos/hbmep-paper/reports/human/intraoperative/power-analysis/draw_807/N_12/seed_677\n",
      "2023-09-27 19:30:02,035 - hbmep.dataset.core - INFO - Copied config to /home/vishu/repos/hbmep-paper/reports/human/intraoperative/power-analysis/draw_807/N_12/seed_677\n",
      "2023-09-27 19:30:02,036 - hbmep.dataset.core - INFO - Processing data ...\n",
      "2023-09-27 19:30:02,037 - hbmep.utils.utils - INFO - func:load took: 0.00 sec\n",
      "2023-09-27 19:30:02,037 - __main__ - INFO - Fitting ...\n",
      "2023-09-27 19:30:02,037 - hbmep.model.baseline - INFO - Running inference with hierarchical_bayesian ...\n"
     ]
    },
    {
     "data": {
      "application/vnd.jupyter.widget-view+json": {
       "model_id": "ac2fecec691e45ca8cf13745b4fa8b97",
       "version_major": 2,
       "version_minor": 0
      },
      "text/plain": [
       "  0%|          | 0/1500 [00:00<?, ?it/s]"
      ]
     },
     "metadata": {},
     "output_type": "display_data"
    },
    {
     "data": {
      "application/vnd.jupyter.widget-view+json": {
       "model_id": "1562e49285c44ba2b47a046f81ae2e9d",
       "version_major": 2,
       "version_minor": 0
      },
      "text/plain": [
       "  0%|          | 0/1500 [00:00<?, ?it/s]"
      ]
     },
     "metadata": {},
     "output_type": "display_data"
    },
    {
     "data": {
      "application/vnd.jupyter.widget-view+json": {
       "model_id": "a251d676788b4be18bff85ffcf9e61ea",
       "version_major": 2,
       "version_minor": 0
      },
      "text/plain": [
       "  0%|          | 0/1500 [00:00<?, ?it/s]"
      ]
     },
     "metadata": {},
     "output_type": "display_data"
    },
    {
     "data": {
      "application/vnd.jupyter.widget-view+json": {
       "model_id": "a77d51f94d9f4b309b0f2034bf6e8dce",
       "version_major": 2,
       "version_minor": 0
      },
      "text/plain": [
       "  0%|          | 0/1500 [00:00<?, ?it/s]"
      ]
     },
     "metadata": {},
     "output_type": "display_data"
    },
    {
     "name": "stderr",
     "output_type": "stream",
     "text": [
      "2023-09-27 19:31:50,715 - hbmep.utils.utils - INFO - func:run_inference took: 1 min and 48.68 sec\n",
      "2023-09-27 19:31:50,715 - __main__ - INFO - Predicting ...\n",
      "2023-09-27 19:31:50,720 - hbmep.utils.utils - INFO - func:make_prediction_dataset took: 0.00 sec\n",
      "2023-09-27 19:31:54,596 - hbmep.utils.utils - INFO - func:predict took: 3.88 sec\n",
      "2023-09-27 19:31:54,597 - __main__ - INFO - Plotting recruitment curves ...\n",
      "2023-09-27 19:31:54,608 - hbmep.model.baseline - INFO - Rendering ...\n",
      "2023-09-27 19:31:58,996 - hbmep.model.baseline - INFO - Saved to /home/vishu/repos/hbmep-paper/reports/human/intraoperative/power-analysis/draw_807/N_12/seed_677/recruitment_curves.pdf\n",
      "2023-09-27 19:31:58,997 - hbmep.utils.utils - INFO - func:render_recruitment_curves took: 4.40 sec\n",
      "2023-09-27 19:31:58,997 - __main__ - INFO - Plotting posterior checks ...\n",
      "2023-09-27 19:31:59,018 - hbmep.model.baseline - INFO - Rendering Posterior Predictive Check ...\n",
      "2023-09-27 19:32:04,229 - hbmep.model.baseline - INFO - Saved to /home/vishu/repos/hbmep-paper/reports/human/intraoperative/power-analysis/draw_807/N_12/seed_677/posterior_predictive_check.pdf\n",
      "2023-09-27 19:32:04,230 - hbmep.utils.utils - INFO - func:_render_predictive_check took: 5.23 sec\n",
      "2023-09-27 19:32:04,230 - hbmep.utils.utils - INFO - func:render_predictive_check took: 5.23 sec\n",
      "2023-09-27 19:32:06,446 - __main__ - INFO - \n",
      "\n",
      "Draw:2/50, N:5/6, Repeat:1/10\n",
      "2023-09-27 19:32:06,448 - __main__ - INFO - Seed:339, Subjects: 67, 138, 116, 43, 140, 161, 181, 178, 17, 167, 102, 36, 190, 125, 53, 130\n",
      "2023-09-27 19:32:06,449 - hbmep.config - INFO - Verifying configuration ...\n",
      "2023-09-27 19:32:06,449 - hbmep.config - INFO - Success!\n",
      "2023-09-27 19:32:06,450 - hbmep.model.baseline - INFO - Initialized model with hierarchical_bayesian link\n",
      "2023-09-27 19:32:06,450 - hbmep.dataset.core - INFO - Artefacts will be stored here - /home/vishu/repos/hbmep-paper/reports/human/intraoperative/power-analysis/draw_807/N_16/seed_339\n",
      "2023-09-27 19:32:06,450 - hbmep.dataset.core - INFO - Copied config to /home/vishu/repos/hbmep-paper/reports/human/intraoperative/power-analysis/draw_807/N_16/seed_339\n",
      "2023-09-27 19:32:06,451 - hbmep.dataset.core - INFO - Processing data ...\n",
      "2023-09-27 19:32:06,452 - hbmep.utils.utils - INFO - func:load took: 0.00 sec\n",
      "2023-09-27 19:32:06,452 - __main__ - INFO - Fitting ...\n",
      "2023-09-27 19:32:06,453 - hbmep.model.baseline - INFO - Running inference with hierarchical_bayesian ...\n"
     ]
    },
    {
     "data": {
      "application/vnd.jupyter.widget-view+json": {
       "model_id": "83634bd4e96e45e497b669ba5d14eaa0",
       "version_major": 2,
       "version_minor": 0
      },
      "text/plain": [
       "  0%|          | 0/1500 [00:00<?, ?it/s]"
      ]
     },
     "metadata": {},
     "output_type": "display_data"
    },
    {
     "data": {
      "application/vnd.jupyter.widget-view+json": {
       "model_id": "3e5daba730ec4bf7ab7aa14fda2798c6",
       "version_major": 2,
       "version_minor": 0
      },
      "text/plain": [
       "  0%|          | 0/1500 [00:00<?, ?it/s]"
      ]
     },
     "metadata": {},
     "output_type": "display_data"
    },
    {
     "data": {
      "application/vnd.jupyter.widget-view+json": {
       "model_id": "e5eb101922eb49cfab5a9adb6bdf3155",
       "version_major": 2,
       "version_minor": 0
      },
      "text/plain": [
       "  0%|          | 0/1500 [00:00<?, ?it/s]"
      ]
     },
     "metadata": {},
     "output_type": "display_data"
    },
    {
     "data": {
      "application/vnd.jupyter.widget-view+json": {
       "model_id": "97fb2dbbba764d8fa314b47294b78682",
       "version_major": 2,
       "version_minor": 0
      },
      "text/plain": [
       "  0%|          | 0/1500 [00:00<?, ?it/s]"
      ]
     },
     "metadata": {},
     "output_type": "display_data"
    },
    {
     "name": "stderr",
     "output_type": "stream",
     "text": [
      "2023-09-27 19:34:27,763 - hbmep.utils.utils - INFO - func:run_inference took: 2 min and 21.31 sec\n",
      "2023-09-27 19:34:27,763 - __main__ - INFO - Predicting ...\n",
      "2023-09-27 19:34:27,769 - hbmep.utils.utils - INFO - func:make_prediction_dataset took: 0.00 sec\n",
      "2023-09-27 19:34:32,775 - hbmep.utils.utils - INFO - func:predict took: 5.01 sec\n",
      "2023-09-27 19:34:32,775 - __main__ - INFO - Plotting recruitment curves ...\n",
      "2023-09-27 19:34:32,790 - hbmep.model.baseline - INFO - Rendering ...\n",
      "2023-09-27 19:34:38,825 - hbmep.model.baseline - INFO - Saved to /home/vishu/repos/hbmep-paper/reports/human/intraoperative/power-analysis/draw_807/N_16/seed_339/recruitment_curves.pdf\n",
      "2023-09-27 19:34:38,825 - hbmep.utils.utils - INFO - func:render_recruitment_curves took: 6.05 sec\n",
      "2023-09-27 19:34:38,826 - __main__ - INFO - Plotting posterior checks ...\n",
      "2023-09-27 19:34:38,853 - hbmep.model.baseline - INFO - Rendering Posterior Predictive Check ...\n",
      "2023-09-27 19:34:45,986 - hbmep.model.baseline - INFO - Saved to /home/vishu/repos/hbmep-paper/reports/human/intraoperative/power-analysis/draw_807/N_16/seed_339/posterior_predictive_check.pdf\n",
      "2023-09-27 19:34:45,986 - hbmep.utils.utils - INFO - func:_render_predictive_check took: 7.16 sec\n",
      "2023-09-27 19:34:45,987 - hbmep.utils.utils - INFO - func:render_predictive_check took: 7.16 sec\n",
      "2023-09-27 19:34:48,281 - __main__ - INFO - \n",
      "\n",
      "Draw:2/50, N:5/6, Repeat:2/10\n",
      "2023-09-27 19:34:48,285 - __main__ - INFO - Seed:777, Subjects: 23, 34, 144, 97, 27, 47, 92, 191, 80, 148, 82, 15, 4, 81, 25, 166\n",
      "2023-09-27 19:34:48,286 - hbmep.config - INFO - Verifying configuration ...\n",
      "2023-09-27 19:34:48,286 - hbmep.config - INFO - Success!\n",
      "2023-09-27 19:34:48,287 - hbmep.model.baseline - INFO - Initialized model with hierarchical_bayesian link\n",
      "2023-09-27 19:34:48,287 - hbmep.dataset.core - INFO - Artefacts will be stored here - /home/vishu/repos/hbmep-paper/reports/human/intraoperative/power-analysis/draw_807/N_16/seed_777\n",
      "2023-09-27 19:34:48,287 - hbmep.dataset.core - INFO - Copied config to /home/vishu/repos/hbmep-paper/reports/human/intraoperative/power-analysis/draw_807/N_16/seed_777\n",
      "2023-09-27 19:34:48,288 - hbmep.dataset.core - INFO - Processing data ...\n",
      "2023-09-27 19:34:48,289 - hbmep.utils.utils - INFO - func:load took: 0.00 sec\n",
      "2023-09-27 19:34:48,289 - __main__ - INFO - Fitting ...\n",
      "2023-09-27 19:34:48,289 - hbmep.model.baseline - INFO - Running inference with hierarchical_bayesian ...\n"
     ]
    },
    {
     "data": {
      "application/vnd.jupyter.widget-view+json": {
       "model_id": "e695dbbb519d4fdd8dc75604c43199de",
       "version_major": 2,
       "version_minor": 0
      },
      "text/plain": [
       "  0%|          | 0/1500 [00:00<?, ?it/s]"
      ]
     },
     "metadata": {},
     "output_type": "display_data"
    },
    {
     "data": {
      "application/vnd.jupyter.widget-view+json": {
       "model_id": "0dd844bab5c7479384db3d63dadada34",
       "version_major": 2,
       "version_minor": 0
      },
      "text/plain": [
       "  0%|          | 0/1500 [00:00<?, ?it/s]"
      ]
     },
     "metadata": {},
     "output_type": "display_data"
    },
    {
     "data": {
      "application/vnd.jupyter.widget-view+json": {
       "model_id": "65f9b16a4b6c48158e4a8aa23cd4a04b",
       "version_major": 2,
       "version_minor": 0
      },
      "text/plain": [
       "  0%|          | 0/1500 [00:00<?, ?it/s]"
      ]
     },
     "metadata": {},
     "output_type": "display_data"
    },
    {
     "data": {
      "application/vnd.jupyter.widget-view+json": {
       "model_id": "7ca86be121e244469f3924c14e012390",
       "version_major": 2,
       "version_minor": 0
      },
      "text/plain": [
       "  0%|          | 0/1500 [00:00<?, ?it/s]"
      ]
     },
     "metadata": {},
     "output_type": "display_data"
    },
    {
     "name": "stderr",
     "output_type": "stream",
     "text": [
      "2023-09-27 19:37:16,630 - hbmep.utils.utils - INFO - func:run_inference took: 2 min and 28.34 sec\n",
      "2023-09-27 19:37:16,631 - __main__ - INFO - Predicting ...\n",
      "2023-09-27 19:37:16,636 - hbmep.utils.utils - INFO - func:make_prediction_dataset took: 0.00 sec\n",
      "2023-09-27 19:37:21,659 - hbmep.utils.utils - INFO - func:predict took: 5.02 sec\n",
      "2023-09-27 19:37:21,659 - __main__ - INFO - Plotting recruitment curves ...\n",
      "2023-09-27 19:37:21,674 - hbmep.model.baseline - INFO - Rendering ...\n",
      "2023-09-27 19:37:27,675 - hbmep.model.baseline - INFO - Saved to /home/vishu/repos/hbmep-paper/reports/human/intraoperative/power-analysis/draw_807/N_16/seed_777/recruitment_curves.pdf\n",
      "2023-09-27 19:37:27,676 - hbmep.utils.utils - INFO - func:render_recruitment_curves took: 6.02 sec\n",
      "2023-09-27 19:37:27,676 - __main__ - INFO - Plotting posterior checks ...\n",
      "2023-09-27 19:37:27,705 - hbmep.model.baseline - INFO - Rendering Posterior Predictive Check ...\n",
      "2023-09-27 19:37:34,862 - hbmep.model.baseline - INFO - Saved to /home/vishu/repos/hbmep-paper/reports/human/intraoperative/power-analysis/draw_807/N_16/seed_777/posterior_predictive_check.pdf\n",
      "2023-09-27 19:37:34,863 - hbmep.utils.utils - INFO - func:_render_predictive_check took: 7.19 sec\n",
      "2023-09-27 19:37:34,863 - hbmep.utils.utils - INFO - func:render_predictive_check took: 7.19 sec\n",
      "2023-09-27 19:37:37,365 - __main__ - INFO - \n",
      "\n",
      "Draw:2/50, N:5/6, Repeat:3/10\n",
      "2023-09-27 19:37:37,369 - __main__ - INFO - Seed:129, Subjects: 151, 192, 17, 74, 11, 14, 148, 173, 164, 38, 85, 168, 72, 79, 83, 30\n",
      "2023-09-27 19:37:37,370 - hbmep.config - INFO - Verifying configuration ...\n",
      "2023-09-27 19:37:37,370 - hbmep.config - INFO - Success!\n",
      "2023-09-27 19:37:37,370 - hbmep.model.baseline - INFO - Initialized model with hierarchical_bayesian link\n",
      "2023-09-27 19:37:37,371 - hbmep.dataset.core - INFO - Artefacts will be stored here - /home/vishu/repos/hbmep-paper/reports/human/intraoperative/power-analysis/draw_807/N_16/seed_129\n",
      "2023-09-27 19:37:37,371 - hbmep.dataset.core - INFO - Copied config to /home/vishu/repos/hbmep-paper/reports/human/intraoperative/power-analysis/draw_807/N_16/seed_129\n",
      "2023-09-27 19:37:37,371 - hbmep.dataset.core - INFO - Processing data ...\n",
      "2023-09-27 19:37:37,372 - hbmep.utils.utils - INFO - func:load took: 0.00 sec\n",
      "2023-09-27 19:37:37,373 - __main__ - INFO - Fitting ...\n",
      "2023-09-27 19:37:37,373 - hbmep.model.baseline - INFO - Running inference with hierarchical_bayesian ...\n"
     ]
    },
    {
     "data": {
      "application/vnd.jupyter.widget-view+json": {
       "model_id": "797590be52af46f89fddca8f0a4981ad",
       "version_major": 2,
       "version_minor": 0
      },
      "text/plain": [
       "  0%|          | 0/1500 [00:00<?, ?it/s]"
      ]
     },
     "metadata": {},
     "output_type": "display_data"
    },
    {
     "data": {
      "application/vnd.jupyter.widget-view+json": {
       "model_id": "33ef0c9d32fb442e80f708e4286df41d",
       "version_major": 2,
       "version_minor": 0
      },
      "text/plain": [
       "  0%|          | 0/1500 [00:00<?, ?it/s]"
      ]
     },
     "metadata": {},
     "output_type": "display_data"
    },
    {
     "data": {
      "application/vnd.jupyter.widget-view+json": {
       "model_id": "ff6b6bd060314944b707461387189645",
       "version_major": 2,
       "version_minor": 0
      },
      "text/plain": [
       "  0%|          | 0/1500 [00:00<?, ?it/s]"
      ]
     },
     "metadata": {},
     "output_type": "display_data"
    },
    {
     "data": {
      "application/vnd.jupyter.widget-view+json": {
       "model_id": "38ef65da8a1b4d87a3cbbc917a9ffd28",
       "version_major": 2,
       "version_minor": 0
      },
      "text/plain": [
       "  0%|          | 0/1500 [00:00<?, ?it/s]"
      ]
     },
     "metadata": {},
     "output_type": "display_data"
    },
    {
     "name": "stderr",
     "output_type": "stream",
     "text": [
      "2023-09-27 19:39:09,806 - hbmep.utils.utils - INFO - func:run_inference took: 1 min and 32.43 sec\n",
      "2023-09-27 19:39:09,806 - __main__ - INFO - Predicting ...\n",
      "2023-09-27 19:39:09,812 - hbmep.utils.utils - INFO - func:make_prediction_dataset took: 0.00 sec\n",
      "2023-09-27 19:39:14,784 - hbmep.utils.utils - INFO - func:predict took: 4.97 sec\n",
      "2023-09-27 19:39:14,784 - __main__ - INFO - Plotting recruitment curves ...\n",
      "2023-09-27 19:39:14,798 - hbmep.model.baseline - INFO - Rendering ...\n",
      "2023-09-27 19:39:20,763 - hbmep.model.baseline - INFO - Saved to /home/vishu/repos/hbmep-paper/reports/human/intraoperative/power-analysis/draw_807/N_16/seed_129/recruitment_curves.pdf\n",
      "2023-09-27 19:39:20,763 - hbmep.utils.utils - INFO - func:render_recruitment_curves took: 5.98 sec\n",
      "2023-09-27 19:39:20,764 - __main__ - INFO - Plotting posterior checks ...\n",
      "2023-09-27 19:39:20,791 - hbmep.model.baseline - INFO - Rendering Posterior Predictive Check ...\n",
      "2023-09-27 19:39:27,889 - hbmep.model.baseline - INFO - Saved to /home/vishu/repos/hbmep-paper/reports/human/intraoperative/power-analysis/draw_807/N_16/seed_129/posterior_predictive_check.pdf\n",
      "2023-09-27 19:39:27,889 - hbmep.utils.utils - INFO - func:_render_predictive_check took: 7.13 sec\n",
      "2023-09-27 19:39:27,889 - hbmep.utils.utils - INFO - func:render_predictive_check took: 7.13 sec\n",
      "2023-09-27 19:39:30,411 - __main__ - INFO - \n",
      "\n",
      "Draw:2/50, N:5/6, Repeat:4/10\n",
      "2023-09-27 19:39:30,416 - __main__ - INFO - Seed:822, Subjects: 98, 32, 121, 186, 20, 191, 147, 172, 14, 143, 189, 83, 62, 146, 67, 158\n",
      "2023-09-27 19:39:30,416 - hbmep.config - INFO - Verifying configuration ...\n",
      "2023-09-27 19:39:30,417 - hbmep.config - INFO - Success!\n",
      "2023-09-27 19:39:30,417 - hbmep.model.baseline - INFO - Initialized model with hierarchical_bayesian link\n",
      "2023-09-27 19:39:30,417 - hbmep.dataset.core - INFO - Artefacts will be stored here - /home/vishu/repos/hbmep-paper/reports/human/intraoperative/power-analysis/draw_807/N_16/seed_822\n",
      "2023-09-27 19:39:30,417 - hbmep.dataset.core - INFO - Copied config to /home/vishu/repos/hbmep-paper/reports/human/intraoperative/power-analysis/draw_807/N_16/seed_822\n",
      "2023-09-27 19:39:30,418 - hbmep.dataset.core - INFO - Processing data ...\n",
      "2023-09-27 19:39:30,419 - hbmep.utils.utils - INFO - func:load took: 0.00 sec\n",
      "2023-09-27 19:39:30,419 - __main__ - INFO - Fitting ...\n",
      "2023-09-27 19:39:30,419 - hbmep.model.baseline - INFO - Running inference with hierarchical_bayesian ...\n"
     ]
    },
    {
     "data": {
      "application/vnd.jupyter.widget-view+json": {
       "model_id": "1c2b844f5c914ac8b86f50ed5c572c14",
       "version_major": 2,
       "version_minor": 0
      },
      "text/plain": [
       "  0%|          | 0/1500 [00:00<?, ?it/s]"
      ]
     },
     "metadata": {},
     "output_type": "display_data"
    },
    {
     "data": {
      "application/vnd.jupyter.widget-view+json": {
       "model_id": "4c7fa8fd02514edf8d12abede2579f52",
       "version_major": 2,
       "version_minor": 0
      },
      "text/plain": [
       "  0%|          | 0/1500 [00:00<?, ?it/s]"
      ]
     },
     "metadata": {},
     "output_type": "display_data"
    },
    {
     "data": {
      "application/vnd.jupyter.widget-view+json": {
       "model_id": "ffaef3a642ad4035b0bf9209acebbaf9",
       "version_major": 2,
       "version_minor": 0
      },
      "text/plain": [
       "  0%|          | 0/1500 [00:00<?, ?it/s]"
      ]
     },
     "metadata": {},
     "output_type": "display_data"
    },
    {
     "data": {
      "application/vnd.jupyter.widget-view+json": {
       "model_id": "f17146ec097d4602baabcdb3e529ee41",
       "version_major": 2,
       "version_minor": 0
      },
      "text/plain": [
       "  0%|          | 0/1500 [00:00<?, ?it/s]"
      ]
     },
     "metadata": {},
     "output_type": "display_data"
    },
    {
     "name": "stderr",
     "output_type": "stream",
     "text": [
      "2023-09-27 19:40:53,129 - hbmep.utils.utils - INFO - func:run_inference took: 1 min and 22.71 sec\n",
      "2023-09-27 19:40:53,130 - __main__ - INFO - Predicting ...\n",
      "2023-09-27 19:40:53,135 - hbmep.utils.utils - INFO - func:make_prediction_dataset took: 0.00 sec\n",
      "2023-09-27 19:40:58,027 - hbmep.utils.utils - INFO - func:predict took: 4.89 sec\n",
      "2023-09-27 19:40:58,028 - __main__ - INFO - Plotting recruitment curves ...\n",
      "2023-09-27 19:40:58,042 - hbmep.model.baseline - INFO - Rendering ...\n",
      "2023-09-27 19:41:04,024 - hbmep.model.baseline - INFO - Saved to /home/vishu/repos/hbmep-paper/reports/human/intraoperative/power-analysis/draw_807/N_16/seed_822/recruitment_curves.pdf\n",
      "2023-09-27 19:41:04,024 - hbmep.utils.utils - INFO - func:render_recruitment_curves took: 6.00 sec\n",
      "2023-09-27 19:41:04,024 - __main__ - INFO - Plotting posterior checks ...\n",
      "2023-09-27 19:41:04,052 - hbmep.model.baseline - INFO - Rendering Posterior Predictive Check ...\n",
      "2023-09-27 19:41:11,203 - hbmep.model.baseline - INFO - Saved to /home/vishu/repos/hbmep-paper/reports/human/intraoperative/power-analysis/draw_807/N_16/seed_822/posterior_predictive_check.pdf\n",
      "2023-09-27 19:41:11,204 - hbmep.utils.utils - INFO - func:_render_predictive_check took: 7.18 sec\n",
      "2023-09-27 19:41:11,204 - hbmep.utils.utils - INFO - func:render_predictive_check took: 7.18 sec\n",
      "2023-09-27 19:41:13,740 - __main__ - INFO - \n",
      "\n",
      "Draw:2/50, N:5/6, Repeat:5/10\n",
      "2023-09-27 19:41:13,744 - __main__ - INFO - Seed:616, Subjects: 130, 39, 87, 96, 158, 162, 160, 71, 142, 4, 8, 195, 132, 76, 188, 50\n",
      "2023-09-27 19:41:13,745 - hbmep.config - INFO - Verifying configuration ...\n",
      "2023-09-27 19:41:13,746 - hbmep.config - INFO - Success!\n",
      "2023-09-27 19:41:13,746 - hbmep.model.baseline - INFO - Initialized model with hierarchical_bayesian link\n",
      "2023-09-27 19:41:13,746 - hbmep.dataset.core - INFO - Artefacts will be stored here - /home/vishu/repos/hbmep-paper/reports/human/intraoperative/power-analysis/draw_807/N_16/seed_616\n",
      "2023-09-27 19:41:13,746 - hbmep.dataset.core - INFO - Copied config to /home/vishu/repos/hbmep-paper/reports/human/intraoperative/power-analysis/draw_807/N_16/seed_616\n",
      "2023-09-27 19:41:13,747 - hbmep.dataset.core - INFO - Processing data ...\n",
      "2023-09-27 19:41:13,748 - hbmep.utils.utils - INFO - func:load took: 0.00 sec\n",
      "2023-09-27 19:41:13,748 - __main__ - INFO - Fitting ...\n",
      "2023-09-27 19:41:13,748 - hbmep.model.baseline - INFO - Running inference with hierarchical_bayesian ...\n"
     ]
    },
    {
     "data": {
      "application/vnd.jupyter.widget-view+json": {
       "model_id": "351d4c5ca9524d49b9cdb99e1432f8a3",
       "version_major": 2,
       "version_minor": 0
      },
      "text/plain": [
       "  0%|          | 0/1500 [00:00<?, ?it/s]"
      ]
     },
     "metadata": {},
     "output_type": "display_data"
    },
    {
     "data": {
      "application/vnd.jupyter.widget-view+json": {
       "model_id": "6356917e3ed94b63b60db13f97797218",
       "version_major": 2,
       "version_minor": 0
      },
      "text/plain": [
       "  0%|          | 0/1500 [00:00<?, ?it/s]"
      ]
     },
     "metadata": {},
     "output_type": "display_data"
    },
    {
     "data": {
      "application/vnd.jupyter.widget-view+json": {
       "model_id": "342dfb26825f4c6ea57e101d417a3d5d",
       "version_major": 2,
       "version_minor": 0
      },
      "text/plain": [
       "  0%|          | 0/1500 [00:00<?, ?it/s]"
      ]
     },
     "metadata": {},
     "output_type": "display_data"
    },
    {
     "data": {
      "application/vnd.jupyter.widget-view+json": {
       "model_id": "620cbdf887944a5aa8bb2a321169df3f",
       "version_major": 2,
       "version_minor": 0
      },
      "text/plain": [
       "  0%|          | 0/1500 [00:00<?, ?it/s]"
      ]
     },
     "metadata": {},
     "output_type": "display_data"
    },
    {
     "name": "stderr",
     "output_type": "stream",
     "text": [
      "2023-09-27 19:43:35,803 - hbmep.utils.utils - INFO - func:run_inference took: 2 min and 22.05 sec\n",
      "2023-09-27 19:43:35,804 - __main__ - INFO - Predicting ...\n",
      "2023-09-27 19:43:35,809 - hbmep.utils.utils - INFO - func:make_prediction_dataset took: 0.00 sec\n",
      "2023-09-27 19:43:40,817 - hbmep.utils.utils - INFO - func:predict took: 5.01 sec\n",
      "2023-09-27 19:43:40,818 - __main__ - INFO - Plotting recruitment curves ...\n",
      "2023-09-27 19:43:40,833 - hbmep.model.baseline - INFO - Rendering ...\n",
      "2023-09-27 19:43:46,829 - hbmep.model.baseline - INFO - Saved to /home/vishu/repos/hbmep-paper/reports/human/intraoperative/power-analysis/draw_807/N_16/seed_616/recruitment_curves.pdf\n",
      "2023-09-27 19:43:46,830 - hbmep.utils.utils - INFO - func:render_recruitment_curves took: 6.01 sec\n",
      "2023-09-27 19:43:46,830 - __main__ - INFO - Plotting posterior checks ...\n",
      "2023-09-27 19:43:46,857 - hbmep.model.baseline - INFO - Rendering Posterior Predictive Check ...\n",
      "2023-09-27 19:43:54,024 - hbmep.model.baseline - INFO - Saved to /home/vishu/repos/hbmep-paper/reports/human/intraoperative/power-analysis/draw_807/N_16/seed_616/posterior_predictive_check.pdf\n",
      "2023-09-27 19:43:54,025 - hbmep.utils.utils - INFO - func:_render_predictive_check took: 7.20 sec\n",
      "2023-09-27 19:43:54,025 - hbmep.utils.utils - INFO - func:render_predictive_check took: 7.20 sec\n",
      "2023-09-27 19:43:56,585 - __main__ - INFO - \n",
      "\n",
      "Draw:2/50, N:5/6, Repeat:6/10\n",
      "2023-09-27 19:43:56,589 - __main__ - INFO - Seed:214, Subjects: 120, 179, 25, 125, 196, 84, 64, 53, 115, 72, 134, 106, 111, 70, 66, 36\n",
      "2023-09-27 19:43:56,591 - hbmep.config - INFO - Verifying configuration ...\n",
      "2023-09-27 19:43:56,591 - hbmep.config - INFO - Success!\n",
      "2023-09-27 19:43:56,591 - hbmep.model.baseline - INFO - Initialized model with hierarchical_bayesian link\n",
      "2023-09-27 19:43:56,592 - hbmep.dataset.core - INFO - Artefacts will be stored here - /home/vishu/repos/hbmep-paper/reports/human/intraoperative/power-analysis/draw_807/N_16/seed_214\n",
      "2023-09-27 19:43:56,592 - hbmep.dataset.core - INFO - Copied config to /home/vishu/repos/hbmep-paper/reports/human/intraoperative/power-analysis/draw_807/N_16/seed_214\n",
      "2023-09-27 19:43:56,593 - hbmep.dataset.core - INFO - Processing data ...\n",
      "2023-09-27 19:43:56,593 - hbmep.utils.utils - INFO - func:load took: 0.00 sec\n",
      "2023-09-27 19:43:56,594 - __main__ - INFO - Fitting ...\n",
      "2023-09-27 19:43:56,594 - hbmep.model.baseline - INFO - Running inference with hierarchical_bayesian ...\n"
     ]
    },
    {
     "data": {
      "application/vnd.jupyter.widget-view+json": {
       "model_id": "3f6c7f5a188b40d688108f030174294b",
       "version_major": 2,
       "version_minor": 0
      },
      "text/plain": [
       "  0%|          | 0/1500 [00:00<?, ?it/s]"
      ]
     },
     "metadata": {},
     "output_type": "display_data"
    },
    {
     "data": {
      "application/vnd.jupyter.widget-view+json": {
       "model_id": "2bf49a2fa01e44cfafdcf5c62a9ab7fe",
       "version_major": 2,
       "version_minor": 0
      },
      "text/plain": [
       "  0%|          | 0/1500 [00:00<?, ?it/s]"
      ]
     },
     "metadata": {},
     "output_type": "display_data"
    },
    {
     "data": {
      "application/vnd.jupyter.widget-view+json": {
       "model_id": "9e9f6abbb89b4d4a9b5c1347f8e32b22",
       "version_major": 2,
       "version_minor": 0
      },
      "text/plain": [
       "  0%|          | 0/1500 [00:00<?, ?it/s]"
      ]
     },
     "metadata": {},
     "output_type": "display_data"
    },
    {
     "data": {
      "application/vnd.jupyter.widget-view+json": {
       "model_id": "29b2721007174e5fb83dd2f789f07f99",
       "version_major": 2,
       "version_minor": 0
      },
      "text/plain": [
       "  0%|          | 0/1500 [00:00<?, ?it/s]"
      ]
     },
     "metadata": {},
     "output_type": "display_data"
    },
    {
     "name": "stderr",
     "output_type": "stream",
     "text": [
      "2023-09-27 19:46:00,551 - hbmep.utils.utils - INFO - func:run_inference took: 2 min and 3.96 sec\n",
      "2023-09-27 19:46:00,552 - __main__ - INFO - Predicting ...\n",
      "2023-09-27 19:46:00,557 - hbmep.utils.utils - INFO - func:make_prediction_dataset took: 0.00 sec\n",
      "2023-09-27 19:46:05,547 - hbmep.utils.utils - INFO - func:predict took: 4.99 sec\n",
      "2023-09-27 19:46:05,547 - __main__ - INFO - Plotting recruitment curves ...\n",
      "2023-09-27 19:46:05,562 - hbmep.model.baseline - INFO - Rendering ...\n",
      "2023-09-27 19:46:11,577 - hbmep.model.baseline - INFO - Saved to /home/vishu/repos/hbmep-paper/reports/human/intraoperative/power-analysis/draw_807/N_16/seed_214/recruitment_curves.pdf\n",
      "2023-09-27 19:46:11,577 - hbmep.utils.utils - INFO - func:render_recruitment_curves took: 6.03 sec\n",
      "2023-09-27 19:46:11,578 - __main__ - INFO - Plotting posterior checks ...\n",
      "2023-09-27 19:46:11,605 - hbmep.model.baseline - INFO - Rendering Posterior Predictive Check ...\n",
      "2023-09-27 19:46:18,739 - hbmep.model.baseline - INFO - Saved to /home/vishu/repos/hbmep-paper/reports/human/intraoperative/power-analysis/draw_807/N_16/seed_214/posterior_predictive_check.pdf\n",
      "2023-09-27 19:46:18,740 - hbmep.utils.utils - INFO - func:_render_predictive_check took: 7.16 sec\n",
      "2023-09-27 19:46:18,740 - hbmep.utils.utils - INFO - func:render_predictive_check took: 7.16 sec\n",
      "2023-09-27 19:46:21,322 - __main__ - INFO - \n",
      "\n",
      "Draw:2/50, N:5/6, Repeat:7/10\n",
      "2023-09-27 19:46:21,331 - __main__ - INFO - Seed:204, Subjects: 195, 25, 42, 54, 1, 66, 19, 69, 15, 105, 95, 163, 22, 100, 32, 104\n",
      "2023-09-27 19:46:21,332 - hbmep.config - INFO - Verifying configuration ...\n",
      "2023-09-27 19:46:21,332 - hbmep.config - INFO - Success!\n",
      "2023-09-27 19:46:21,333 - hbmep.model.baseline - INFO - Initialized model with hierarchical_bayesian link\n",
      "2023-09-27 19:46:21,333 - hbmep.dataset.core - INFO - Artefacts will be stored here - /home/vishu/repos/hbmep-paper/reports/human/intraoperative/power-analysis/draw_807/N_16/seed_204\n",
      "2023-09-27 19:46:21,333 - hbmep.dataset.core - INFO - Copied config to /home/vishu/repos/hbmep-paper/reports/human/intraoperative/power-analysis/draw_807/N_16/seed_204\n",
      "2023-09-27 19:46:21,334 - hbmep.dataset.core - INFO - Processing data ...\n",
      "2023-09-27 19:46:21,334 - hbmep.utils.utils - INFO - func:load took: 0.00 sec\n",
      "2023-09-27 19:46:21,335 - __main__ - INFO - Fitting ...\n",
      "2023-09-27 19:46:21,335 - hbmep.model.baseline - INFO - Running inference with hierarchical_bayesian ...\n"
     ]
    },
    {
     "data": {
      "application/vnd.jupyter.widget-view+json": {
       "model_id": "ff1ad244401140a893ae0467f3c50bb3",
       "version_major": 2,
       "version_minor": 0
      },
      "text/plain": [
       "  0%|          | 0/1500 [00:00<?, ?it/s]"
      ]
     },
     "metadata": {},
     "output_type": "display_data"
    },
    {
     "data": {
      "application/vnd.jupyter.widget-view+json": {
       "model_id": "add69ea404e74be98972294048e13306",
       "version_major": 2,
       "version_minor": 0
      },
      "text/plain": [
       "  0%|          | 0/1500 [00:00<?, ?it/s]"
      ]
     },
     "metadata": {},
     "output_type": "display_data"
    },
    {
     "data": {
      "application/vnd.jupyter.widget-view+json": {
       "model_id": "f8305356faf94370868d935261d13846",
       "version_major": 2,
       "version_minor": 0
      },
      "text/plain": [
       "  0%|          | 0/1500 [00:00<?, ?it/s]"
      ]
     },
     "metadata": {},
     "output_type": "display_data"
    },
    {
     "data": {
      "application/vnd.jupyter.widget-view+json": {
       "model_id": "f889df2f7861401aaa5a44683507cfa0",
       "version_major": 2,
       "version_minor": 0
      },
      "text/plain": [
       "  0%|          | 0/1500 [00:00<?, ?it/s]"
      ]
     },
     "metadata": {},
     "output_type": "display_data"
    },
    {
     "name": "stderr",
     "output_type": "stream",
     "text": [
      "2023-09-27 19:48:49,211 - hbmep.utils.utils - INFO - func:run_inference took: 2 min and 27.88 sec\n",
      "2023-09-27 19:48:49,212 - __main__ - INFO - Predicting ...\n",
      "2023-09-27 19:48:49,217 - hbmep.utils.utils - INFO - func:make_prediction_dataset took: 0.00 sec\n",
      "2023-09-27 19:48:54,152 - hbmep.utils.utils - INFO - func:predict took: 4.93 sec\n",
      "2023-09-27 19:48:54,152 - __main__ - INFO - Plotting recruitment curves ...\n",
      "2023-09-27 19:48:54,167 - hbmep.model.baseline - INFO - Rendering ...\n",
      "2023-09-27 19:49:00,183 - hbmep.model.baseline - INFO - Saved to /home/vishu/repos/hbmep-paper/reports/human/intraoperative/power-analysis/draw_807/N_16/seed_204/recruitment_curves.pdf\n",
      "2023-09-27 19:49:00,184 - hbmep.utils.utils - INFO - func:render_recruitment_curves took: 6.03 sec\n",
      "2023-09-27 19:49:00,184 - __main__ - INFO - Plotting posterior checks ...\n",
      "2023-09-27 19:49:00,212 - hbmep.model.baseline - INFO - Rendering Posterior Predictive Check ...\n",
      "2023-09-27 19:49:07,392 - hbmep.model.baseline - INFO - Saved to /home/vishu/repos/hbmep-paper/reports/human/intraoperative/power-analysis/draw_807/N_16/seed_204/posterior_predictive_check.pdf\n",
      "2023-09-27 19:49:07,392 - hbmep.utils.utils - INFO - func:_render_predictive_check took: 7.21 sec\n",
      "2023-09-27 19:49:07,393 - hbmep.utils.utils - INFO - func:render_predictive_check took: 7.21 sec\n",
      "2023-09-27 19:49:09,987 - __main__ - INFO - \n",
      "\n",
      "Draw:2/50, N:5/6, Repeat:8/10\n",
      "2023-09-27 19:49:09,998 - __main__ - INFO - Seed:912, Subjects: 108, 85, 144, 90, 97, 14, 64, 164, 53, 135, 158, 126, 11, 130, 162, 74\n",
      "2023-09-27 19:49:09,999 - hbmep.config - INFO - Verifying configuration ...\n",
      "2023-09-27 19:49:09,999 - hbmep.config - INFO - Success!\n",
      "2023-09-27 19:49:10,000 - hbmep.model.baseline - INFO - Initialized model with hierarchical_bayesian link\n",
      "2023-09-27 19:49:10,000 - hbmep.dataset.core - INFO - Artefacts will be stored here - /home/vishu/repos/hbmep-paper/reports/human/intraoperative/power-analysis/draw_807/N_16/seed_912\n",
      "2023-09-27 19:49:10,000 - hbmep.dataset.core - INFO - Copied config to /home/vishu/repos/hbmep-paper/reports/human/intraoperative/power-analysis/draw_807/N_16/seed_912\n",
      "2023-09-27 19:49:10,001 - hbmep.dataset.core - INFO - Processing data ...\n",
      "2023-09-27 19:49:10,002 - hbmep.utils.utils - INFO - func:load took: 0.00 sec\n",
      "2023-09-27 19:49:10,002 - __main__ - INFO - Fitting ...\n",
      "2023-09-27 19:49:10,002 - hbmep.model.baseline - INFO - Running inference with hierarchical_bayesian ...\n"
     ]
    },
    {
     "data": {
      "application/vnd.jupyter.widget-view+json": {
       "model_id": "e5e6c08e7dac4114aa948493da0807d8",
       "version_major": 2,
       "version_minor": 0
      },
      "text/plain": [
       "  0%|          | 0/1500 [00:00<?, ?it/s]"
      ]
     },
     "metadata": {},
     "output_type": "display_data"
    },
    {
     "data": {
      "application/vnd.jupyter.widget-view+json": {
       "model_id": "9bab4131f9d94c44815c84bc5389d716",
       "version_major": 2,
       "version_minor": 0
      },
      "text/plain": [
       "  0%|          | 0/1500 [00:00<?, ?it/s]"
      ]
     },
     "metadata": {},
     "output_type": "display_data"
    },
    {
     "data": {
      "application/vnd.jupyter.widget-view+json": {
       "model_id": "cfbf79684c4e4027b0420fa76cdbdf41",
       "version_major": 2,
       "version_minor": 0
      },
      "text/plain": [
       "  0%|          | 0/1500 [00:00<?, ?it/s]"
      ]
     },
     "metadata": {},
     "output_type": "display_data"
    },
    {
     "data": {
      "application/vnd.jupyter.widget-view+json": {
       "model_id": "0298f6e2211f4910be4f1c260e31a487",
       "version_major": 2,
       "version_minor": 0
      },
      "text/plain": [
       "  0%|          | 0/1500 [00:00<?, ?it/s]"
      ]
     },
     "metadata": {},
     "output_type": "display_data"
    },
    {
     "name": "stderr",
     "output_type": "stream",
     "text": [
      "2023-09-27 19:51:30,963 - hbmep.utils.utils - INFO - func:run_inference took: 2 min and 20.96 sec\n",
      "2023-09-27 19:51:30,964 - __main__ - INFO - Predicting ...\n",
      "2023-09-27 19:51:30,969 - hbmep.utils.utils - INFO - func:make_prediction_dataset took: 0.00 sec\n",
      "2023-09-27 19:51:35,961 - hbmep.utils.utils - INFO - func:predict took: 4.99 sec\n",
      "2023-09-27 19:51:35,962 - __main__ - INFO - Plotting recruitment curves ...\n",
      "2023-09-27 19:51:35,976 - hbmep.model.baseline - INFO - Rendering ...\n",
      "2023-09-27 19:51:41,973 - hbmep.model.baseline - INFO - Saved to /home/vishu/repos/hbmep-paper/reports/human/intraoperative/power-analysis/draw_807/N_16/seed_912/recruitment_curves.pdf\n",
      "2023-09-27 19:51:41,973 - hbmep.utils.utils - INFO - func:render_recruitment_curves took: 6.01 sec\n",
      "2023-09-27 19:51:41,974 - __main__ - INFO - Plotting posterior checks ...\n",
      "2023-09-27 19:51:42,001 - hbmep.model.baseline - INFO - Rendering Posterior Predictive Check ...\n",
      "2023-09-27 19:51:49,187 - hbmep.model.baseline - INFO - Saved to /home/vishu/repos/hbmep-paper/reports/human/intraoperative/power-analysis/draw_807/N_16/seed_912/posterior_predictive_check.pdf\n",
      "2023-09-27 19:51:49,187 - hbmep.utils.utils - INFO - func:_render_predictive_check took: 7.21 sec\n",
      "2023-09-27 19:51:49,188 - hbmep.utils.utils - INFO - func:render_predictive_check took: 7.21 sec\n",
      "2023-09-27 19:51:51,800 - __main__ - INFO - \n",
      "\n",
      "Draw:2/50, N:5/6, Repeat:9/10\n",
      "2023-09-27 19:51:51,804 - __main__ - INFO - Seed:698, Subjects: 50, 190, 14, 153, 33, 159, 185, 131, 155, 187, 85, 129, 97, 195, 48, 92\n",
      "2023-09-27 19:51:51,805 - hbmep.config - INFO - Verifying configuration ...\n",
      "2023-09-27 19:51:51,806 - hbmep.config - INFO - Success!\n",
      "2023-09-27 19:51:51,806 - hbmep.model.baseline - INFO - Initialized model with hierarchical_bayesian link\n",
      "2023-09-27 19:51:51,806 - hbmep.dataset.core - INFO - Artefacts will be stored here - /home/vishu/repos/hbmep-paper/reports/human/intraoperative/power-analysis/draw_807/N_16/seed_698\n",
      "2023-09-27 19:51:51,807 - hbmep.dataset.core - INFO - Copied config to /home/vishu/repos/hbmep-paper/reports/human/intraoperative/power-analysis/draw_807/N_16/seed_698\n",
      "2023-09-27 19:51:51,807 - hbmep.dataset.core - INFO - Processing data ...\n",
      "2023-09-27 19:51:51,808 - hbmep.utils.utils - INFO - func:load took: 0.00 sec\n",
      "2023-09-27 19:51:51,809 - __main__ - INFO - Fitting ...\n",
      "2023-09-27 19:51:51,809 - hbmep.model.baseline - INFO - Running inference with hierarchical_bayesian ...\n"
     ]
    },
    {
     "data": {
      "application/vnd.jupyter.widget-view+json": {
       "model_id": "9c9533762702461db0ec0a24ddaaae08",
       "version_major": 2,
       "version_minor": 0
      },
      "text/plain": [
       "  0%|          | 0/1500 [00:00<?, ?it/s]"
      ]
     },
     "metadata": {},
     "output_type": "display_data"
    },
    {
     "data": {
      "application/vnd.jupyter.widget-view+json": {
       "model_id": "59ee4c0ca6e24ad6b62bd2f204bf02c0",
       "version_major": 2,
       "version_minor": 0
      },
      "text/plain": [
       "  0%|          | 0/1500 [00:00<?, ?it/s]"
      ]
     },
     "metadata": {},
     "output_type": "display_data"
    },
    {
     "data": {
      "application/vnd.jupyter.widget-view+json": {
       "model_id": "2c4a3bba11b0483ba3443a3160ef36cf",
       "version_major": 2,
       "version_minor": 0
      },
      "text/plain": [
       "  0%|          | 0/1500 [00:00<?, ?it/s]"
      ]
     },
     "metadata": {},
     "output_type": "display_data"
    },
    {
     "data": {
      "application/vnd.jupyter.widget-view+json": {
       "model_id": "9c6c22546337427e8c5d051a97266dfc",
       "version_major": 2,
       "version_minor": 0
      },
      "text/plain": [
       "  0%|          | 0/1500 [00:00<?, ?it/s]"
      ]
     },
     "metadata": {},
     "output_type": "display_data"
    },
    {
     "name": "stderr",
     "output_type": "stream",
     "text": [
      "2023-09-27 19:54:14,580 - hbmep.utils.utils - INFO - func:run_inference took: 2 min and 22.77 sec\n",
      "2023-09-27 19:54:14,581 - __main__ - INFO - Predicting ...\n",
      "2023-09-27 19:54:14,586 - hbmep.utils.utils - INFO - func:make_prediction_dataset took: 0.00 sec\n",
      "2023-09-27 19:54:19,582 - hbmep.utils.utils - INFO - func:predict took: 5.00 sec\n",
      "2023-09-27 19:54:19,582 - __main__ - INFO - Plotting recruitment curves ...\n",
      "2023-09-27 19:54:19,597 - hbmep.model.baseline - INFO - Rendering ...\n",
      "2023-09-27 19:54:25,603 - hbmep.model.baseline - INFO - Saved to /home/vishu/repos/hbmep-paper/reports/human/intraoperative/power-analysis/draw_807/N_16/seed_698/recruitment_curves.pdf\n",
      "2023-09-27 19:54:25,604 - hbmep.utils.utils - INFO - func:render_recruitment_curves took: 6.02 sec\n",
      "2023-09-27 19:54:25,604 - __main__ - INFO - Plotting posterior checks ...\n",
      "2023-09-27 19:54:25,631 - hbmep.model.baseline - INFO - Rendering Posterior Predictive Check ...\n",
      "2023-09-27 19:54:32,812 - hbmep.model.baseline - INFO - Saved to /home/vishu/repos/hbmep-paper/reports/human/intraoperative/power-analysis/draw_807/N_16/seed_698/posterior_predictive_check.pdf\n",
      "2023-09-27 19:54:32,813 - hbmep.utils.utils - INFO - func:_render_predictive_check took: 7.21 sec\n",
      "2023-09-27 19:54:32,813 - hbmep.utils.utils - INFO - func:render_predictive_check took: 7.21 sec\n",
      "2023-09-27 19:54:35,490 - __main__ - INFO - \n",
      "\n",
      "Draw:2/50, N:5/6, Repeat:10/10\n",
      "2023-09-27 19:54:35,494 - __main__ - INFO - Seed:677, Subjects: 156, 108, 186, 126, 124, 173, 91, 18, 28, 178, 76, 122, 7, 26, 196, 96\n",
      "2023-09-27 19:54:35,495 - hbmep.config - INFO - Verifying configuration ...\n",
      "2023-09-27 19:54:35,495 - hbmep.config - INFO - Success!\n",
      "2023-09-27 19:54:35,495 - hbmep.model.baseline - INFO - Initialized model with hierarchical_bayesian link\n",
      "2023-09-27 19:54:35,496 - hbmep.dataset.core - INFO - Artefacts will be stored here - /home/vishu/repos/hbmep-paper/reports/human/intraoperative/power-analysis/draw_807/N_16/seed_677\n",
      "2023-09-27 19:54:35,496 - hbmep.dataset.core - INFO - Copied config to /home/vishu/repos/hbmep-paper/reports/human/intraoperative/power-analysis/draw_807/N_16/seed_677\n",
      "2023-09-27 19:54:35,497 - hbmep.dataset.core - INFO - Processing data ...\n",
      "2023-09-27 19:54:35,497 - hbmep.utils.utils - INFO - func:load took: 0.00 sec\n",
      "2023-09-27 19:54:35,497 - __main__ - INFO - Fitting ...\n",
      "2023-09-27 19:54:35,498 - hbmep.model.baseline - INFO - Running inference with hierarchical_bayesian ...\n"
     ]
    },
    {
     "data": {
      "application/vnd.jupyter.widget-view+json": {
       "model_id": "88dab1a6c91c48bfacea17be151ec774",
       "version_major": 2,
       "version_minor": 0
      },
      "text/plain": [
       "  0%|          | 0/1500 [00:00<?, ?it/s]"
      ]
     },
     "metadata": {},
     "output_type": "display_data"
    },
    {
     "data": {
      "application/vnd.jupyter.widget-view+json": {
       "model_id": "f6057da2013b40a58387b0d1cd45b719",
       "version_major": 2,
       "version_minor": 0
      },
      "text/plain": [
       "  0%|          | 0/1500 [00:00<?, ?it/s]"
      ]
     },
     "metadata": {},
     "output_type": "display_data"
    },
    {
     "data": {
      "application/vnd.jupyter.widget-view+json": {
       "model_id": "55d876ada4b04382b5111a8613ccaec5",
       "version_major": 2,
       "version_minor": 0
      },
      "text/plain": [
       "  0%|          | 0/1500 [00:00<?, ?it/s]"
      ]
     },
     "metadata": {},
     "output_type": "display_data"
    },
    {
     "data": {
      "application/vnd.jupyter.widget-view+json": {
       "model_id": "f87bc7a8394841549a5b9c956a7b660d",
       "version_major": 2,
       "version_minor": 0
      },
      "text/plain": [
       "  0%|          | 0/1500 [00:00<?, ?it/s]"
      ]
     },
     "metadata": {},
     "output_type": "display_data"
    },
    {
     "name": "stderr",
     "output_type": "stream",
     "text": [
      "2023-09-27 19:55:32,594 - hbmep.utils.utils - INFO - func:run_inference took: 57.10 sec\n",
      "2023-09-27 19:55:32,594 - __main__ - INFO - Predicting ...\n",
      "2023-09-27 19:55:32,600 - hbmep.utils.utils - INFO - func:make_prediction_dataset took: 0.00 sec\n",
      "2023-09-27 19:55:37,588 - hbmep.utils.utils - INFO - func:predict took: 4.99 sec\n",
      "2023-09-27 19:55:37,589 - __main__ - INFO - Plotting recruitment curves ...\n",
      "2023-09-27 19:55:37,603 - hbmep.model.baseline - INFO - Rendering ...\n",
      "2023-09-27 19:55:43,593 - hbmep.model.baseline - INFO - Saved to /home/vishu/repos/hbmep-paper/reports/human/intraoperative/power-analysis/draw_807/N_16/seed_677/recruitment_curves.pdf\n",
      "2023-09-27 19:55:43,594 - hbmep.utils.utils - INFO - func:render_recruitment_curves took: 6.00 sec\n",
      "2023-09-27 19:55:43,594 - __main__ - INFO - Plotting posterior checks ...\n",
      "2023-09-27 19:55:43,621 - hbmep.model.baseline - INFO - Rendering Posterior Predictive Check ...\n",
      "2023-09-27 19:55:50,744 - hbmep.model.baseline - INFO - Saved to /home/vishu/repos/hbmep-paper/reports/human/intraoperative/power-analysis/draw_807/N_16/seed_677/posterior_predictive_check.pdf\n",
      "2023-09-27 19:55:50,745 - hbmep.utils.utils - INFO - func:_render_predictive_check took: 7.15 sec\n",
      "2023-09-27 19:55:50,745 - hbmep.utils.utils - INFO - func:render_predictive_check took: 7.15 sec\n",
      "2023-09-27 19:55:53,402 - __main__ - INFO - \n",
      "\n",
      "Draw:2/50, N:6/6, Repeat:1/10\n",
      "2023-09-27 19:55:53,405 - __main__ - INFO - Seed:339, Subjects: 67, 138, 116, 43, 140, 161, 181, 178, 17, 167, 102, 36, 190, 125, 53, 130, 195, 198, 14, 30\n",
      "2023-09-27 19:55:53,406 - hbmep.config - INFO - Verifying configuration ...\n",
      "2023-09-27 19:55:53,406 - hbmep.config - INFO - Success!\n",
      "2023-09-27 19:55:53,407 - hbmep.model.baseline - INFO - Initialized model with hierarchical_bayesian link\n",
      "2023-09-27 19:55:53,407 - hbmep.dataset.core - INFO - Artefacts will be stored here - /home/vishu/repos/hbmep-paper/reports/human/intraoperative/power-analysis/draw_807/N_20/seed_339\n",
      "2023-09-27 19:55:53,407 - hbmep.dataset.core - INFO - Copied config to /home/vishu/repos/hbmep-paper/reports/human/intraoperative/power-analysis/draw_807/N_20/seed_339\n",
      "2023-09-27 19:55:53,408 - hbmep.dataset.core - INFO - Processing data ...\n",
      "2023-09-27 19:55:53,409 - hbmep.utils.utils - INFO - func:load took: 0.00 sec\n",
      "2023-09-27 19:55:53,410 - __main__ - INFO - Fitting ...\n",
      "2023-09-27 19:55:53,410 - hbmep.model.baseline - INFO - Running inference with hierarchical_bayesian ...\n"
     ]
    },
    {
     "data": {
      "application/vnd.jupyter.widget-view+json": {
       "model_id": "42403ac7ec184fe5ac1b66ae17ceffa4",
       "version_major": 2,
       "version_minor": 0
      },
      "text/plain": [
       "  0%|          | 0/1500 [00:00<?, ?it/s]"
      ]
     },
     "metadata": {},
     "output_type": "display_data"
    },
    {
     "data": {
      "application/vnd.jupyter.widget-view+json": {
       "model_id": "10d424e620674ac1afdc6923eed888da",
       "version_major": 2,
       "version_minor": 0
      },
      "text/plain": [
       "  0%|          | 0/1500 [00:00<?, ?it/s]"
      ]
     },
     "metadata": {},
     "output_type": "display_data"
    },
    {
     "data": {
      "application/vnd.jupyter.widget-view+json": {
       "model_id": "8cf860a18b1b4c1fb4582bcd5536a269",
       "version_major": 2,
       "version_minor": 0
      },
      "text/plain": [
       "  0%|          | 0/1500 [00:00<?, ?it/s]"
      ]
     },
     "metadata": {},
     "output_type": "display_data"
    },
    {
     "data": {
      "application/vnd.jupyter.widget-view+json": {
       "model_id": "c53310fa6b1745969d0e68a0e67e1547",
       "version_major": 2,
       "version_minor": 0
      },
      "text/plain": [
       "  0%|          | 0/1500 [00:00<?, ?it/s]"
      ]
     },
     "metadata": {},
     "output_type": "display_data"
    },
    {
     "name": "stderr",
     "output_type": "stream",
     "text": [
      "2023-09-27 19:58:47,715 - hbmep.utils.utils - INFO - func:run_inference took: 2 min and 54.30 sec\n",
      "2023-09-27 19:58:47,715 - __main__ - INFO - Predicting ...\n",
      "2023-09-27 19:58:47,721 - hbmep.utils.utils - INFO - func:make_prediction_dataset took: 0.00 sec\n",
      "2023-09-27 19:58:53,865 - hbmep.utils.utils - INFO - func:predict took: 6.14 sec\n",
      "2023-09-27 19:58:53,865 - __main__ - INFO - Plotting recruitment curves ...\n",
      "2023-09-27 19:58:53,883 - hbmep.model.baseline - INFO - Rendering ...\n",
      "2023-09-27 19:59:01,376 - hbmep.model.baseline - INFO - Saved to /home/vishu/repos/hbmep-paper/reports/human/intraoperative/power-analysis/draw_807/N_20/seed_339/recruitment_curves.pdf\n",
      "2023-09-27 19:59:01,376 - hbmep.utils.utils - INFO - func:render_recruitment_curves took: 7.51 sec\n",
      "2023-09-27 19:59:01,376 - __main__ - INFO - Plotting posterior checks ...\n",
      "2023-09-27 19:59:01,409 - hbmep.model.baseline - INFO - Rendering Posterior Predictive Check ...\n",
      "2023-09-27 19:59:10,354 - hbmep.model.baseline - INFO - Saved to /home/vishu/repos/hbmep-paper/reports/human/intraoperative/power-analysis/draw_807/N_20/seed_339/posterior_predictive_check.pdf\n",
      "2023-09-27 19:59:10,355 - hbmep.utils.utils - INFO - func:_render_predictive_check took: 8.98 sec\n",
      "2023-09-27 19:59:10,355 - hbmep.utils.utils - INFO - func:render_predictive_check took: 8.98 sec\n",
      "2023-09-27 19:59:13,100 - __main__ - INFO - \n",
      "\n",
      "Draw:2/50, N:6/6, Repeat:2/10\n",
      "2023-09-27 19:59:13,103 - __main__ - INFO - Seed:777, Subjects: 23, 34, 144, 97, 27, 47, 92, 191, 80, 148, 82, 15, 4, 81, 25, 166, 99, 155, 84, 174\n",
      "2023-09-27 19:59:13,105 - hbmep.config - INFO - Verifying configuration ...\n",
      "2023-09-27 19:59:13,106 - hbmep.config - INFO - Success!\n",
      "2023-09-27 19:59:13,106 - hbmep.model.baseline - INFO - Initialized model with hierarchical_bayesian link\n",
      "2023-09-27 19:59:13,106 - hbmep.dataset.core - INFO - Artefacts will be stored here - /home/vishu/repos/hbmep-paper/reports/human/intraoperative/power-analysis/draw_807/N_20/seed_777\n",
      "2023-09-27 19:59:13,106 - hbmep.dataset.core - INFO - Copied config to /home/vishu/repos/hbmep-paper/reports/human/intraoperative/power-analysis/draw_807/N_20/seed_777\n",
      "2023-09-27 19:59:13,107 - hbmep.dataset.core - INFO - Processing data ...\n",
      "2023-09-27 19:59:13,108 - hbmep.utils.utils - INFO - func:load took: 0.00 sec\n",
      "2023-09-27 19:59:13,108 - __main__ - INFO - Fitting ...\n",
      "2023-09-27 19:59:13,108 - hbmep.model.baseline - INFO - Running inference with hierarchical_bayesian ...\n"
     ]
    },
    {
     "data": {
      "application/vnd.jupyter.widget-view+json": {
       "model_id": "c9fc3207edd14cfaa7bb5db68edc5279",
       "version_major": 2,
       "version_minor": 0
      },
      "text/plain": [
       "  0%|          | 0/1500 [00:00<?, ?it/s]"
      ]
     },
     "metadata": {},
     "output_type": "display_data"
    },
    {
     "data": {
      "application/vnd.jupyter.widget-view+json": {
       "model_id": "b931b998240b41eb8693c26407aa87e1",
       "version_major": 2,
       "version_minor": 0
      },
      "text/plain": [
       "  0%|          | 0/1500 [00:00<?, ?it/s]"
      ]
     },
     "metadata": {},
     "output_type": "display_data"
    },
    {
     "data": {
      "application/vnd.jupyter.widget-view+json": {
       "model_id": "8c9e4c364a474359a65f37add629f336",
       "version_major": 2,
       "version_minor": 0
      },
      "text/plain": [
       "  0%|          | 0/1500 [00:00<?, ?it/s]"
      ]
     },
     "metadata": {},
     "output_type": "display_data"
    },
    {
     "data": {
      "application/vnd.jupyter.widget-view+json": {
       "model_id": "785432d0abaa4caca19f1b309cd35b4b",
       "version_major": 2,
       "version_minor": 0
      },
      "text/plain": [
       "  0%|          | 0/1500 [00:00<?, ?it/s]"
      ]
     },
     "metadata": {},
     "output_type": "display_data"
    },
    {
     "name": "stderr",
     "output_type": "stream",
     "text": [
      "2023-09-27 20:02:05,564 - hbmep.utils.utils - INFO - func:run_inference took: 2 min and 52.46 sec\n",
      "2023-09-27 20:02:05,565 - __main__ - INFO - Predicting ...\n",
      "2023-09-27 20:02:05,570 - hbmep.utils.utils - INFO - func:make_prediction_dataset took: 0.00 sec\n",
      "2023-09-27 20:02:11,703 - hbmep.utils.utils - INFO - func:predict took: 6.13 sec\n",
      "2023-09-27 20:02:11,704 - __main__ - INFO - Plotting recruitment curves ...\n",
      "2023-09-27 20:02:11,721 - hbmep.model.baseline - INFO - Rendering ...\n",
      "2023-09-27 20:02:19,319 - hbmep.model.baseline - INFO - Saved to /home/vishu/repos/hbmep-paper/reports/human/intraoperative/power-analysis/draw_807/N_20/seed_777/recruitment_curves.pdf\n",
      "2023-09-27 20:02:19,320 - hbmep.utils.utils - INFO - func:render_recruitment_curves took: 7.62 sec\n",
      "2023-09-27 20:02:19,320 - __main__ - INFO - Plotting posterior checks ...\n",
      "2023-09-27 20:02:19,353 - hbmep.model.baseline - INFO - Rendering Posterior Predictive Check ...\n",
      "2023-09-27 20:02:28,350 - hbmep.model.baseline - INFO - Saved to /home/vishu/repos/hbmep-paper/reports/human/intraoperative/power-analysis/draw_807/N_20/seed_777/posterior_predictive_check.pdf\n",
      "2023-09-27 20:02:28,350 - hbmep.utils.utils - INFO - func:_render_predictive_check took: 9.03 sec\n",
      "2023-09-27 20:02:28,351 - hbmep.utils.utils - INFO - func:render_predictive_check took: 9.03 sec\n",
      "2023-09-27 20:02:31,299 - __main__ - INFO - \n",
      "\n",
      "Draw:2/50, N:6/6, Repeat:3/10\n",
      "2023-09-27 20:02:31,303 - __main__ - INFO - Seed:129, Subjects: 151, 192, 17, 74, 11, 14, 148, 173, 164, 38, 85, 168, 72, 79, 83, 30, 87, 186, 3, 161\n",
      "2023-09-27 20:02:31,304 - hbmep.config - INFO - Verifying configuration ...\n",
      "2023-09-27 20:02:31,305 - hbmep.config - INFO - Success!\n",
      "2023-09-27 20:02:31,305 - hbmep.model.baseline - INFO - Initialized model with hierarchical_bayesian link\n",
      "2023-09-27 20:02:31,305 - hbmep.dataset.core - INFO - Artefacts will be stored here - /home/vishu/repos/hbmep-paper/reports/human/intraoperative/power-analysis/draw_807/N_20/seed_129\n",
      "2023-09-27 20:02:31,306 - hbmep.dataset.core - INFO - Copied config to /home/vishu/repos/hbmep-paper/reports/human/intraoperative/power-analysis/draw_807/N_20/seed_129\n",
      "2023-09-27 20:02:31,307 - hbmep.dataset.core - INFO - Processing data ...\n",
      "2023-09-27 20:02:31,307 - hbmep.utils.utils - INFO - func:load took: 0.00 sec\n",
      "2023-09-27 20:02:31,308 - __main__ - INFO - Fitting ...\n",
      "2023-09-27 20:02:31,308 - hbmep.model.baseline - INFO - Running inference with hierarchical_bayesian ...\n"
     ]
    },
    {
     "data": {
      "application/vnd.jupyter.widget-view+json": {
       "model_id": "ecff31c926cb43fb9a5c279c76c16f3f",
       "version_major": 2,
       "version_minor": 0
      },
      "text/plain": [
       "  0%|          | 0/1500 [00:00<?, ?it/s]"
      ]
     },
     "metadata": {},
     "output_type": "display_data"
    },
    {
     "data": {
      "application/vnd.jupyter.widget-view+json": {
       "model_id": "55011e431f414726aa6253bf969f4907",
       "version_major": 2,
       "version_minor": 0
      },
      "text/plain": [
       "  0%|          | 0/1500 [00:00<?, ?it/s]"
      ]
     },
     "metadata": {},
     "output_type": "display_data"
    },
    {
     "data": {
      "application/vnd.jupyter.widget-view+json": {
       "model_id": "82010e18e0884610bece4ef7d6220bf6",
       "version_major": 2,
       "version_minor": 0
      },
      "text/plain": [
       "  0%|          | 0/1500 [00:00<?, ?it/s]"
      ]
     },
     "metadata": {},
     "output_type": "display_data"
    },
    {
     "data": {
      "application/vnd.jupyter.widget-view+json": {
       "model_id": "c436dc7b88c84780b10fe78e4190f091",
       "version_major": 2,
       "version_minor": 0
      },
      "text/plain": [
       "  0%|          | 0/1500 [00:00<?, ?it/s]"
      ]
     },
     "metadata": {},
     "output_type": "display_data"
    },
    {
     "name": "stderr",
     "output_type": "stream",
     "text": [
      "2023-09-27 20:05:29,541 - hbmep.utils.utils - INFO - func:run_inference took: 2 min and 58.23 sec\n",
      "2023-09-27 20:05:29,541 - __main__ - INFO - Predicting ...\n",
      "2023-09-27 20:05:29,547 - hbmep.utils.utils - INFO - func:make_prediction_dataset took: 0.01 sec\n",
      "2023-09-27 20:05:35,573 - hbmep.utils.utils - INFO - func:predict took: 6.03 sec\n",
      "2023-09-27 20:05:35,574 - __main__ - INFO - Plotting recruitment curves ...\n",
      "2023-09-27 20:05:35,592 - hbmep.model.baseline - INFO - Rendering ...\n",
      "2023-09-27 20:05:43,121 - hbmep.model.baseline - INFO - Saved to /home/vishu/repos/hbmep-paper/reports/human/intraoperative/power-analysis/draw_807/N_20/seed_129/recruitment_curves.pdf\n",
      "2023-09-27 20:05:43,122 - hbmep.utils.utils - INFO - func:render_recruitment_curves took: 7.55 sec\n",
      "2023-09-27 20:05:43,122 - __main__ - INFO - Plotting posterior checks ...\n",
      "2023-09-27 20:05:43,155 - hbmep.model.baseline - INFO - Rendering Posterior Predictive Check ...\n",
      "2023-09-27 20:05:52,066 - hbmep.model.baseline - INFO - Saved to /home/vishu/repos/hbmep-paper/reports/human/intraoperative/power-analysis/draw_807/N_20/seed_129/posterior_predictive_check.pdf\n",
      "2023-09-27 20:05:52,067 - hbmep.utils.utils - INFO - func:_render_predictive_check took: 8.94 sec\n",
      "2023-09-27 20:05:52,067 - hbmep.utils.utils - INFO - func:render_predictive_check took: 8.94 sec\n",
      "2023-09-27 20:05:55,041 - __main__ - INFO - \n",
      "\n",
      "Draw:2/50, N:6/6, Repeat:4/10\n",
      "2023-09-27 20:05:55,046 - __main__ - INFO - Seed:822, Subjects: 98, 32, 121, 186, 20, 191, 147, 172, 14, 143, 189, 83, 62, 146, 67, 158, 128, 155, 102, 152\n",
      "2023-09-27 20:05:55,047 - hbmep.config - INFO - Verifying configuration ...\n",
      "2023-09-27 20:05:55,047 - hbmep.config - INFO - Success!\n",
      "2023-09-27 20:05:55,047 - hbmep.model.baseline - INFO - Initialized model with hierarchical_bayesian link\n",
      "2023-09-27 20:05:55,048 - hbmep.dataset.core - INFO - Artefacts will be stored here - /home/vishu/repos/hbmep-paper/reports/human/intraoperative/power-analysis/draw_807/N_20/seed_822\n",
      "2023-09-27 20:05:55,048 - hbmep.dataset.core - INFO - Copied config to /home/vishu/repos/hbmep-paper/reports/human/intraoperative/power-analysis/draw_807/N_20/seed_822\n",
      "2023-09-27 20:05:55,049 - hbmep.dataset.core - INFO - Processing data ...\n",
      "2023-09-27 20:05:55,050 - hbmep.utils.utils - INFO - func:load took: 0.00 sec\n",
      "2023-09-27 20:05:55,050 - __main__ - INFO - Fitting ...\n",
      "2023-09-27 20:05:55,050 - hbmep.model.baseline - INFO - Running inference with hierarchical_bayesian ...\n"
     ]
    },
    {
     "data": {
      "application/vnd.jupyter.widget-view+json": {
       "model_id": "5db08451906a4db5853b0d0e8d518490",
       "version_major": 2,
       "version_minor": 0
      },
      "text/plain": [
       "  0%|          | 0/1500 [00:00<?, ?it/s]"
      ]
     },
     "metadata": {},
     "output_type": "display_data"
    },
    {
     "data": {
      "application/vnd.jupyter.widget-view+json": {
       "model_id": "5f3813754ca8429aa37f9c2b79c0cbc1",
       "version_major": 2,
       "version_minor": 0
      },
      "text/plain": [
       "  0%|          | 0/1500 [00:00<?, ?it/s]"
      ]
     },
     "metadata": {},
     "output_type": "display_data"
    },
    {
     "data": {
      "application/vnd.jupyter.widget-view+json": {
       "model_id": "b1856217f94d42498945ec2a21fe3541",
       "version_major": 2,
       "version_minor": 0
      },
      "text/plain": [
       "  0%|          | 0/1500 [00:00<?, ?it/s]"
      ]
     },
     "metadata": {},
     "output_type": "display_data"
    },
    {
     "data": {
      "application/vnd.jupyter.widget-view+json": {
       "model_id": "03f84f936a6e44e5a42999349a6d0b54",
       "version_major": 2,
       "version_minor": 0
      },
      "text/plain": [
       "  0%|          | 0/1500 [00:00<?, ?it/s]"
      ]
     },
     "metadata": {},
     "output_type": "display_data"
    },
    {
     "name": "stderr",
     "output_type": "stream",
     "text": [
      "2023-09-27 20:08:17,244 - hbmep.utils.utils - INFO - func:run_inference took: 2 min and 22.19 sec\n",
      "2023-09-27 20:08:17,245 - __main__ - INFO - Predicting ...\n",
      "2023-09-27 20:08:17,250 - hbmep.utils.utils - INFO - func:make_prediction_dataset took: 0.00 sec\n",
      "2023-09-27 20:08:23,343 - hbmep.utils.utils - INFO - func:predict took: 6.09 sec\n",
      "2023-09-27 20:08:23,343 - __main__ - INFO - Plotting recruitment curves ...\n",
      "2023-09-27 20:08:23,362 - hbmep.model.baseline - INFO - Rendering ...\n",
      "2023-09-27 20:08:30,961 - hbmep.model.baseline - INFO - Saved to /home/vishu/repos/hbmep-paper/reports/human/intraoperative/power-analysis/draw_807/N_20/seed_822/recruitment_curves.pdf\n",
      "2023-09-27 20:08:30,962 - hbmep.utils.utils - INFO - func:render_recruitment_curves took: 7.62 sec\n",
      "2023-09-27 20:08:30,962 - __main__ - INFO - Plotting posterior checks ...\n",
      "2023-09-27 20:08:30,995 - hbmep.model.baseline - INFO - Rendering Posterior Predictive Check ...\n",
      "2023-09-27 20:08:39,992 - hbmep.model.baseline - INFO - Saved to /home/vishu/repos/hbmep-paper/reports/human/intraoperative/power-analysis/draw_807/N_20/seed_822/posterior_predictive_check.pdf\n",
      "2023-09-27 20:08:39,993 - hbmep.utils.utils - INFO - func:_render_predictive_check took: 9.03 sec\n",
      "2023-09-27 20:08:39,993 - hbmep.utils.utils - INFO - func:render_predictive_check took: 9.03 sec\n",
      "2023-09-27 20:08:43,000 - __main__ - INFO - \n",
      "\n",
      "Draw:2/50, N:6/6, Repeat:5/10\n",
      "2023-09-27 20:08:43,004 - __main__ - INFO - Seed:616, Subjects: 130, 39, 87, 96, 158, 162, 160, 71, 142, 4, 8, 195, 132, 76, 188, 50, 107, 121, 171, 168\n",
      "2023-09-27 20:08:43,005 - hbmep.config - INFO - Verifying configuration ...\n",
      "2023-09-27 20:08:43,006 - hbmep.config - INFO - Success!\n",
      "2023-09-27 20:08:43,006 - hbmep.model.baseline - INFO - Initialized model with hierarchical_bayesian link\n",
      "2023-09-27 20:08:43,006 - hbmep.dataset.core - INFO - Artefacts will be stored here - /home/vishu/repos/hbmep-paper/reports/human/intraoperative/power-analysis/draw_807/N_20/seed_616\n",
      "2023-09-27 20:08:43,007 - hbmep.dataset.core - INFO - Copied config to /home/vishu/repos/hbmep-paper/reports/human/intraoperative/power-analysis/draw_807/N_20/seed_616\n",
      "2023-09-27 20:08:43,007 - hbmep.dataset.core - INFO - Processing data ...\n",
      "2023-09-27 20:08:43,008 - hbmep.utils.utils - INFO - func:load took: 0.00 sec\n",
      "2023-09-27 20:08:43,008 - __main__ - INFO - Fitting ...\n",
      "2023-09-27 20:08:43,009 - hbmep.model.baseline - INFO - Running inference with hierarchical_bayesian ...\n"
     ]
    },
    {
     "data": {
      "application/vnd.jupyter.widget-view+json": {
       "model_id": "86f3b2c84a8c4ed69892531e18d218fa",
       "version_major": 2,
       "version_minor": 0
      },
      "text/plain": [
       "  0%|          | 0/1500 [00:00<?, ?it/s]"
      ]
     },
     "metadata": {},
     "output_type": "display_data"
    },
    {
     "data": {
      "application/vnd.jupyter.widget-view+json": {
       "model_id": "c9f1dc057e344705a655a1b29cc596f1",
       "version_major": 2,
       "version_minor": 0
      },
      "text/plain": [
       "  0%|          | 0/1500 [00:00<?, ?it/s]"
      ]
     },
     "metadata": {},
     "output_type": "display_data"
    },
    {
     "data": {
      "application/vnd.jupyter.widget-view+json": {
       "model_id": "d40d4f588bf74a8f8828fa0c2ae77dbe",
       "version_major": 2,
       "version_minor": 0
      },
      "text/plain": [
       "  0%|          | 0/1500 [00:00<?, ?it/s]"
      ]
     },
     "metadata": {},
     "output_type": "display_data"
    },
    {
     "data": {
      "application/vnd.jupyter.widget-view+json": {
       "model_id": "fbea9f39cd444b3eaee716605dc2601f",
       "version_major": 2,
       "version_minor": 0
      },
      "text/plain": [
       "  0%|          | 0/1500 [00:00<?, ?it/s]"
      ]
     },
     "metadata": {},
     "output_type": "display_data"
    },
    {
     "name": "stderr",
     "output_type": "stream",
     "text": [
      "2023-09-27 20:11:42,696 - hbmep.utils.utils - INFO - func:run_inference took: 2 min and 59.69 sec\n",
      "2023-09-27 20:11:42,696 - __main__ - INFO - Predicting ...\n",
      "2023-09-27 20:11:42,701 - hbmep.utils.utils - INFO - func:make_prediction_dataset took: 0.00 sec\n",
      "2023-09-27 20:11:48,811 - hbmep.utils.utils - INFO - func:predict took: 6.11 sec\n",
      "2023-09-27 20:11:48,812 - __main__ - INFO - Plotting recruitment curves ...\n",
      "2023-09-27 20:11:48,830 - hbmep.model.baseline - INFO - Rendering ...\n",
      "2023-09-27 20:11:56,642 - hbmep.model.baseline - INFO - Saved to /home/vishu/repos/hbmep-paper/reports/human/intraoperative/power-analysis/draw_807/N_20/seed_616/recruitment_curves.pdf\n",
      "2023-09-27 20:11:56,643 - hbmep.utils.utils - INFO - func:render_recruitment_curves took: 7.83 sec\n",
      "2023-09-27 20:11:56,643 - __main__ - INFO - Plotting posterior checks ...\n",
      "2023-09-27 20:11:56,677 - hbmep.model.baseline - INFO - Rendering Posterior Predictive Check ...\n",
      "2023-09-27 20:12:05,638 - hbmep.model.baseline - INFO - Saved to /home/vishu/repos/hbmep-paper/reports/human/intraoperative/power-analysis/draw_807/N_20/seed_616/posterior_predictive_check.pdf\n",
      "2023-09-27 20:12:05,638 - hbmep.utils.utils - INFO - func:_render_predictive_check took: 8.99 sec\n",
      "2023-09-27 20:12:05,638 - hbmep.utils.utils - INFO - func:render_predictive_check took: 8.99 sec\n",
      "2023-09-27 20:12:08,658 - __main__ - INFO - \n",
      "\n",
      "Draw:2/50, N:6/6, Repeat:6/10\n",
      "2023-09-27 20:12:08,663 - __main__ - INFO - Seed:214, Subjects: 120, 179, 25, 125, 196, 84, 64, 53, 115, 72, 134, 106, 111, 70, 66, 36, 69, 184, 124, 164\n",
      "2023-09-27 20:12:08,664 - hbmep.config - INFO - Verifying configuration ...\n",
      "2023-09-27 20:12:08,664 - hbmep.config - INFO - Success!\n",
      "2023-09-27 20:12:08,664 - hbmep.model.baseline - INFO - Initialized model with hierarchical_bayesian link\n",
      "2023-09-27 20:12:08,665 - hbmep.dataset.core - INFO - Artefacts will be stored here - /home/vishu/repos/hbmep-paper/reports/human/intraoperative/power-analysis/draw_807/N_20/seed_214\n",
      "2023-09-27 20:12:08,665 - hbmep.dataset.core - INFO - Copied config to /home/vishu/repos/hbmep-paper/reports/human/intraoperative/power-analysis/draw_807/N_20/seed_214\n",
      "2023-09-27 20:12:08,666 - hbmep.dataset.core - INFO - Processing data ...\n",
      "2023-09-27 20:12:08,667 - hbmep.utils.utils - INFO - func:load took: 0.00 sec\n",
      "2023-09-27 20:12:08,667 - __main__ - INFO - Fitting ...\n",
      "2023-09-27 20:12:08,667 - hbmep.model.baseline - INFO - Running inference with hierarchical_bayesian ...\n"
     ]
    },
    {
     "data": {
      "application/vnd.jupyter.widget-view+json": {
       "model_id": "a9b3103370d54c13adad27ce626fd231",
       "version_major": 2,
       "version_minor": 0
      },
      "text/plain": [
       "  0%|          | 0/1500 [00:00<?, ?it/s]"
      ]
     },
     "metadata": {},
     "output_type": "display_data"
    },
    {
     "data": {
      "application/vnd.jupyter.widget-view+json": {
       "model_id": "ef32f6518ae14741b33e82a046c7fe00",
       "version_major": 2,
       "version_minor": 0
      },
      "text/plain": [
       "  0%|          | 0/1500 [00:00<?, ?it/s]"
      ]
     },
     "metadata": {},
     "output_type": "display_data"
    },
    {
     "data": {
      "application/vnd.jupyter.widget-view+json": {
       "model_id": "60acbc79c0774cc7b1d8d8e82f9a8b20",
       "version_major": 2,
       "version_minor": 0
      },
      "text/plain": [
       "  0%|          | 0/1500 [00:00<?, ?it/s]"
      ]
     },
     "metadata": {},
     "output_type": "display_data"
    },
    {
     "data": {
      "application/vnd.jupyter.widget-view+json": {
       "model_id": "c5b425c1dbac40e1850a0bb93bccd46b",
       "version_major": 2,
       "version_minor": 0
      },
      "text/plain": [
       "  0%|          | 0/1500 [00:00<?, ?it/s]"
      ]
     },
     "metadata": {},
     "output_type": "display_data"
    },
    {
     "name": "stderr",
     "output_type": "stream",
     "text": [
      "2023-09-27 20:14:44,661 - hbmep.utils.utils - INFO - func:run_inference took: 2 min and 35.99 sec\n",
      "2023-09-27 20:14:44,662 - __main__ - INFO - Predicting ...\n",
      "2023-09-27 20:14:44,667 - hbmep.utils.utils - INFO - func:make_prediction_dataset took: 0.00 sec\n",
      "2023-09-27 20:14:50,783 - hbmep.utils.utils - INFO - func:predict took: 6.12 sec\n",
      "2023-09-27 20:14:50,784 - __main__ - INFO - Plotting recruitment curves ...\n",
      "2023-09-27 20:14:50,801 - hbmep.model.baseline - INFO - Rendering ...\n",
      "2023-09-27 20:14:58,950 - hbmep.model.baseline - INFO - Saved to /home/vishu/repos/hbmep-paper/reports/human/intraoperative/power-analysis/draw_807/N_20/seed_214/recruitment_curves.pdf\n",
      "2023-09-27 20:14:58,951 - hbmep.utils.utils - INFO - func:render_recruitment_curves took: 8.17 sec\n",
      "2023-09-27 20:14:58,951 - __main__ - INFO - Plotting posterior checks ...\n",
      "2023-09-27 20:14:58,985 - hbmep.model.baseline - INFO - Rendering Posterior Predictive Check ...\n",
      "2023-09-27 20:15:07,907 - hbmep.model.baseline - INFO - Saved to /home/vishu/repos/hbmep-paper/reports/human/intraoperative/power-analysis/draw_807/N_20/seed_214/posterior_predictive_check.pdf\n",
      "2023-09-27 20:15:07,908 - hbmep.utils.utils - INFO - func:_render_predictive_check took: 8.96 sec\n",
      "2023-09-27 20:15:07,908 - hbmep.utils.utils - INFO - func:render_predictive_check took: 8.96 sec\n",
      "2023-09-27 20:15:10,992 - __main__ - INFO - \n",
      "\n",
      "Draw:2/50, N:6/6, Repeat:7/10\n",
      "2023-09-27 20:15:10,997 - __main__ - INFO - Seed:204, Subjects: 195, 25, 42, 54, 1, 66, 19, 69, 15, 105, 95, 163, 22, 100, 32, 104, 60, 191, 97, 178\n",
      "2023-09-27 20:15:10,998 - hbmep.config - INFO - Verifying configuration ...\n",
      "2023-09-27 20:15:10,998 - hbmep.config - INFO - Success!\n",
      "2023-09-27 20:15:10,999 - hbmep.model.baseline - INFO - Initialized model with hierarchical_bayesian link\n",
      "2023-09-27 20:15:10,999 - hbmep.dataset.core - INFO - Artefacts will be stored here - /home/vishu/repos/hbmep-paper/reports/human/intraoperative/power-analysis/draw_807/N_20/seed_204\n",
      "2023-09-27 20:15:11,000 - hbmep.dataset.core - INFO - Copied config to /home/vishu/repos/hbmep-paper/reports/human/intraoperative/power-analysis/draw_807/N_20/seed_204\n",
      "2023-09-27 20:15:11,000 - hbmep.dataset.core - INFO - Processing data ...\n",
      "2023-09-27 20:15:11,001 - hbmep.utils.utils - INFO - func:load took: 0.00 sec\n",
      "2023-09-27 20:15:11,001 - __main__ - INFO - Fitting ...\n",
      "2023-09-27 20:15:11,002 - hbmep.model.baseline - INFO - Running inference with hierarchical_bayesian ...\n"
     ]
    },
    {
     "data": {
      "application/vnd.jupyter.widget-view+json": {
       "model_id": "02d1d5ce0b3540b19753ecd6516cbedc",
       "version_major": 2,
       "version_minor": 0
      },
      "text/plain": [
       "  0%|          | 0/1500 [00:00<?, ?it/s]"
      ]
     },
     "metadata": {},
     "output_type": "display_data"
    },
    {
     "data": {
      "application/vnd.jupyter.widget-view+json": {
       "model_id": "374c601fe72f4a90a86ed36c660e680b",
       "version_major": 2,
       "version_minor": 0
      },
      "text/plain": [
       "  0%|          | 0/1500 [00:00<?, ?it/s]"
      ]
     },
     "metadata": {},
     "output_type": "display_data"
    },
    {
     "data": {
      "application/vnd.jupyter.widget-view+json": {
       "model_id": "4c571b337e3e40e78d9b96800425bb0f",
       "version_major": 2,
       "version_minor": 0
      },
      "text/plain": [
       "  0%|          | 0/1500 [00:00<?, ?it/s]"
      ]
     },
     "metadata": {},
     "output_type": "display_data"
    },
    {
     "data": {
      "application/vnd.jupyter.widget-view+json": {
       "model_id": "3f267334deda4b9fb6d97a6dec4e95c8",
       "version_major": 2,
       "version_minor": 0
      },
      "text/plain": [
       "  0%|          | 0/1500 [00:00<?, ?it/s]"
      ]
     },
     "metadata": {},
     "output_type": "display_data"
    },
    {
     "name": "stderr",
     "output_type": "stream",
     "text": [
      "2023-09-27 20:18:13,763 - hbmep.utils.utils - INFO - func:run_inference took: 3 min and 2.76 sec\n",
      "2023-09-27 20:18:13,764 - __main__ - INFO - Predicting ...\n",
      "2023-09-27 20:18:13,769 - hbmep.utils.utils - INFO - func:make_prediction_dataset took: 0.00 sec\n",
      "2023-09-27 20:18:19,898 - hbmep.utils.utils - INFO - func:predict took: 6.13 sec\n",
      "2023-09-27 20:18:19,898 - __main__ - INFO - Plotting recruitment curves ...\n",
      "2023-09-27 20:18:19,915 - hbmep.model.baseline - INFO - Rendering ...\n",
      "2023-09-27 20:18:27,880 - hbmep.model.baseline - INFO - Saved to /home/vishu/repos/hbmep-paper/reports/human/intraoperative/power-analysis/draw_807/N_20/seed_204/recruitment_curves.pdf\n",
      "2023-09-27 20:18:27,881 - hbmep.utils.utils - INFO - func:render_recruitment_curves took: 7.98 sec\n",
      "2023-09-27 20:18:27,881 - __main__ - INFO - Plotting posterior checks ...\n",
      "2023-09-27 20:18:27,915 - hbmep.model.baseline - INFO - Rendering Posterior Predictive Check ...\n",
      "2023-09-27 20:18:36,903 - hbmep.model.baseline - INFO - Saved to /home/vishu/repos/hbmep-paper/reports/human/intraoperative/power-analysis/draw_807/N_20/seed_204/posterior_predictive_check.pdf\n",
      "2023-09-27 20:18:36,903 - hbmep.utils.utils - INFO - func:_render_predictive_check took: 9.02 sec\n",
      "2023-09-27 20:18:36,904 - hbmep.utils.utils - INFO - func:render_predictive_check took: 9.02 sec\n",
      "2023-09-27 20:18:39,978 - __main__ - INFO - \n",
      "\n",
      "Draw:2/50, N:6/6, Repeat:8/10\n",
      "2023-09-27 20:18:39,983 - __main__ - INFO - Seed:912, Subjects: 108, 85, 144, 90, 97, 14, 64, 164, 53, 135, 158, 126, 11, 130, 162, 74, 124, 163, 179, 72\n",
      "2023-09-27 20:18:39,984 - hbmep.config - INFO - Verifying configuration ...\n",
      "2023-09-27 20:18:39,984 - hbmep.config - INFO - Success!\n",
      "2023-09-27 20:18:39,985 - hbmep.model.baseline - INFO - Initialized model with hierarchical_bayesian link\n",
      "2023-09-27 20:18:39,985 - hbmep.dataset.core - INFO - Artefacts will be stored here - /home/vishu/repos/hbmep-paper/reports/human/intraoperative/power-analysis/draw_807/N_20/seed_912\n",
      "2023-09-27 20:18:39,986 - hbmep.dataset.core - INFO - Copied config to /home/vishu/repos/hbmep-paper/reports/human/intraoperative/power-analysis/draw_807/N_20/seed_912\n",
      "2023-09-27 20:18:39,986 - hbmep.dataset.core - INFO - Processing data ...\n",
      "2023-09-27 20:18:39,987 - hbmep.utils.utils - INFO - func:load took: 0.00 sec\n",
      "2023-09-27 20:18:39,987 - __main__ - INFO - Fitting ...\n",
      "2023-09-27 20:18:39,988 - hbmep.model.baseline - INFO - Running inference with hierarchical_bayesian ...\n"
     ]
    },
    {
     "data": {
      "application/vnd.jupyter.widget-view+json": {
       "model_id": "86845f3601384edd941f90cc2182b30b",
       "version_major": 2,
       "version_minor": 0
      },
      "text/plain": [
       "  0%|          | 0/1500 [00:00<?, ?it/s]"
      ]
     },
     "metadata": {},
     "output_type": "display_data"
    },
    {
     "data": {
      "application/vnd.jupyter.widget-view+json": {
       "model_id": "8ab47570c449463ea1a5e797f17907a2",
       "version_major": 2,
       "version_minor": 0
      },
      "text/plain": [
       "  0%|          | 0/1500 [00:00<?, ?it/s]"
      ]
     },
     "metadata": {},
     "output_type": "display_data"
    },
    {
     "data": {
      "application/vnd.jupyter.widget-view+json": {
       "model_id": "c79f4575ad7246ee8da6d4e79774460d",
       "version_major": 2,
       "version_minor": 0
      },
      "text/plain": [
       "  0%|          | 0/1500 [00:00<?, ?it/s]"
      ]
     },
     "metadata": {},
     "output_type": "display_data"
    },
    {
     "data": {
      "application/vnd.jupyter.widget-view+json": {
       "model_id": "070687125ecf480bba197314f7921343",
       "version_major": 2,
       "version_minor": 0
      },
      "text/plain": [
       "  0%|          | 0/1500 [00:00<?, ?it/s]"
      ]
     },
     "metadata": {},
     "output_type": "display_data"
    },
    {
     "name": "stderr",
     "output_type": "stream",
     "text": [
      "2023-09-27 20:21:02,132 - hbmep.utils.utils - INFO - func:run_inference took: 2 min and 22.14 sec\n",
      "2023-09-27 20:21:02,133 - __main__ - INFO - Predicting ...\n",
      "2023-09-27 20:21:02,138 - hbmep.utils.utils - INFO - func:make_prediction_dataset took: 0.00 sec\n",
      "2023-09-27 20:21:08,217 - hbmep.utils.utils - INFO - func:predict took: 6.08 sec\n",
      "2023-09-27 20:21:08,217 - __main__ - INFO - Plotting recruitment curves ...\n",
      "2023-09-27 20:21:08,235 - hbmep.model.baseline - INFO - Rendering ...\n",
      "2023-09-27 20:21:15,960 - hbmep.model.baseline - INFO - Saved to /home/vishu/repos/hbmep-paper/reports/human/intraoperative/power-analysis/draw_807/N_20/seed_912/recruitment_curves.pdf\n",
      "2023-09-27 20:21:15,960 - hbmep.utils.utils - INFO - func:render_recruitment_curves took: 7.74 sec\n",
      "2023-09-27 20:21:15,961 - __main__ - INFO - Plotting posterior checks ...\n",
      "2023-09-27 20:21:15,993 - hbmep.model.baseline - INFO - Rendering Posterior Predictive Check ...\n",
      "2023-09-27 20:21:24,961 - hbmep.model.baseline - INFO - Saved to /home/vishu/repos/hbmep-paper/reports/human/intraoperative/power-analysis/draw_807/N_20/seed_912/posterior_predictive_check.pdf\n",
      "2023-09-27 20:21:24,962 - hbmep.utils.utils - INFO - func:_render_predictive_check took: 9.00 sec\n",
      "2023-09-27 20:21:24,962 - hbmep.utils.utils - INFO - func:render_predictive_check took: 9.00 sec\n",
      "2023-09-27 20:21:28,079 - __main__ - INFO - \n",
      "\n",
      "Draw:2/50, N:6/6, Repeat:9/10\n",
      "2023-09-27 20:21:28,084 - __main__ - INFO - Seed:698, Subjects: 50, 190, 14, 153, 33, 159, 185, 131, 155, 187, 85, 129, 97, 195, 48, 92, 36, 143, 35, 57\n",
      "2023-09-27 20:21:28,085 - hbmep.config - INFO - Verifying configuration ...\n",
      "2023-09-27 20:21:28,086 - hbmep.config - INFO - Success!\n",
      "2023-09-27 20:21:28,086 - hbmep.model.baseline - INFO - Initialized model with hierarchical_bayesian link\n",
      "2023-09-27 20:21:28,086 - hbmep.dataset.core - INFO - Artefacts will be stored here - /home/vishu/repos/hbmep-paper/reports/human/intraoperative/power-analysis/draw_807/N_20/seed_698\n",
      "2023-09-27 20:21:28,086 - hbmep.dataset.core - INFO - Copied config to /home/vishu/repos/hbmep-paper/reports/human/intraoperative/power-analysis/draw_807/N_20/seed_698\n",
      "2023-09-27 20:21:28,087 - hbmep.dataset.core - INFO - Processing data ...\n",
      "2023-09-27 20:21:28,088 - hbmep.utils.utils - INFO - func:load took: 0.00 sec\n",
      "2023-09-27 20:21:28,088 - __main__ - INFO - Fitting ...\n",
      "2023-09-27 20:21:28,089 - hbmep.model.baseline - INFO - Running inference with hierarchical_bayesian ...\n"
     ]
    },
    {
     "data": {
      "application/vnd.jupyter.widget-view+json": {
       "model_id": "aeed648105fc47b29bf39d24ca64ece4",
       "version_major": 2,
       "version_minor": 0
      },
      "text/plain": [
       "  0%|          | 0/1500 [00:00<?, ?it/s]"
      ]
     },
     "metadata": {},
     "output_type": "display_data"
    },
    {
     "data": {
      "application/vnd.jupyter.widget-view+json": {
       "model_id": "597f7d710c8c425db9ee16cce351a1e3",
       "version_major": 2,
       "version_minor": 0
      },
      "text/plain": [
       "  0%|          | 0/1500 [00:00<?, ?it/s]"
      ]
     },
     "metadata": {},
     "output_type": "display_data"
    },
    {
     "data": {
      "application/vnd.jupyter.widget-view+json": {
       "model_id": "3562633063a445f080414d0f601c42ba",
       "version_major": 2,
       "version_minor": 0
      },
      "text/plain": [
       "  0%|          | 0/1500 [00:00<?, ?it/s]"
      ]
     },
     "metadata": {},
     "output_type": "display_data"
    },
    {
     "data": {
      "application/vnd.jupyter.widget-view+json": {
       "model_id": "9eeaa5cbc30a4ebe8b3baded190d25ef",
       "version_major": 2,
       "version_minor": 0
      },
      "text/plain": [
       "  0%|          | 0/1500 [00:00<?, ?it/s]"
      ]
     },
     "metadata": {},
     "output_type": "display_data"
    },
    {
     "name": "stderr",
     "output_type": "stream",
     "text": [
      "2023-09-27 20:23:14,527 - hbmep.utils.utils - INFO - func:run_inference took: 1 min and 46.44 sec\n",
      "2023-09-27 20:23:14,528 - __main__ - INFO - Predicting ...\n",
      "2023-09-27 20:23:14,533 - hbmep.utils.utils - INFO - func:make_prediction_dataset took: 0.01 sec\n",
      "2023-09-27 20:23:20,660 - hbmep.utils.utils - INFO - func:predict took: 6.13 sec\n",
      "2023-09-27 20:23:20,660 - __main__ - INFO - Plotting recruitment curves ...\n",
      "2023-09-27 20:23:20,678 - hbmep.model.baseline - INFO - Rendering ...\n",
      "2023-09-27 20:23:28,251 - hbmep.model.baseline - INFO - Saved to /home/vishu/repos/hbmep-paper/reports/human/intraoperative/power-analysis/draw_807/N_20/seed_698/recruitment_curves.pdf\n",
      "2023-09-27 20:23:28,252 - hbmep.utils.utils - INFO - func:render_recruitment_curves took: 7.59 sec\n",
      "2023-09-27 20:23:28,252 - __main__ - INFO - Plotting posterior checks ...\n",
      "2023-09-27 20:23:28,285 - hbmep.model.baseline - INFO - Rendering Posterior Predictive Check ...\n",
      "2023-09-27 20:23:37,269 - hbmep.model.baseline - INFO - Saved to /home/vishu/repos/hbmep-paper/reports/human/intraoperative/power-analysis/draw_807/N_20/seed_698/posterior_predictive_check.pdf\n",
      "2023-09-27 20:23:37,270 - hbmep.utils.utils - INFO - func:_render_predictive_check took: 9.02 sec\n",
      "2023-09-27 20:23:37,270 - hbmep.utils.utils - INFO - func:render_predictive_check took: 9.02 sec\n",
      "2023-09-27 20:23:40,288 - __main__ - INFO - \n",
      "\n",
      "Draw:2/50, N:6/6, Repeat:10/10\n",
      "2023-09-27 20:23:40,293 - __main__ - INFO - Seed:677, Subjects: 156, 108, 186, 126, 124, 173, 91, 18, 28, 178, 76, 122, 7, 26, 196, 96, 154, 99, 147, 123\n",
      "2023-09-27 20:23:40,294 - hbmep.config - INFO - Verifying configuration ...\n",
      "2023-09-27 20:23:40,294 - hbmep.config - INFO - Success!\n",
      "2023-09-27 20:23:40,294 - hbmep.model.baseline - INFO - Initialized model with hierarchical_bayesian link\n",
      "2023-09-27 20:23:40,295 - hbmep.dataset.core - INFO - Artefacts will be stored here - /home/vishu/repos/hbmep-paper/reports/human/intraoperative/power-analysis/draw_807/N_20/seed_677\n",
      "2023-09-27 20:23:40,295 - hbmep.dataset.core - INFO - Copied config to /home/vishu/repos/hbmep-paper/reports/human/intraoperative/power-analysis/draw_807/N_20/seed_677\n",
      "2023-09-27 20:23:40,295 - hbmep.dataset.core - INFO - Processing data ...\n",
      "2023-09-27 20:23:40,296 - hbmep.utils.utils - INFO - func:load took: 0.00 sec\n",
      "2023-09-27 20:23:40,296 - __main__ - INFO - Fitting ...\n",
      "2023-09-27 20:23:40,297 - hbmep.model.baseline - INFO - Running inference with hierarchical_bayesian ...\n"
     ]
    },
    {
     "data": {
      "application/vnd.jupyter.widget-view+json": {
       "model_id": "a8d1dac56b134a169afbe55f4ccc321e",
       "version_major": 2,
       "version_minor": 0
      },
      "text/plain": [
       "  0%|          | 0/1500 [00:00<?, ?it/s]"
      ]
     },
     "metadata": {},
     "output_type": "display_data"
    },
    {
     "data": {
      "application/vnd.jupyter.widget-view+json": {
       "model_id": "1219ab1d9ef14d3484dd03033478adbe",
       "version_major": 2,
       "version_minor": 0
      },
      "text/plain": [
       "  0%|          | 0/1500 [00:00<?, ?it/s]"
      ]
     },
     "metadata": {},
     "output_type": "display_data"
    },
    {
     "data": {
      "application/vnd.jupyter.widget-view+json": {
       "model_id": "a00a48e4ae6d449f9ade8fabab5eefc1",
       "version_major": 2,
       "version_minor": 0
      },
      "text/plain": [
       "  0%|          | 0/1500 [00:00<?, ?it/s]"
      ]
     },
     "metadata": {},
     "output_type": "display_data"
    },
    {
     "data": {
      "application/vnd.jupyter.widget-view+json": {
       "model_id": "1500924ab76948bea0ce33aa7380e822",
       "version_major": 2,
       "version_minor": 0
      },
      "text/plain": [
       "  0%|          | 0/1500 [00:00<?, ?it/s]"
      ]
     },
     "metadata": {},
     "output_type": "display_data"
    },
    {
     "name": "stderr",
     "output_type": "stream",
     "text": [
      "2023-09-27 20:26:22,995 - hbmep.utils.utils - INFO - func:run_inference took: 2 min and 42.70 sec\n",
      "2023-09-27 20:26:22,996 - __main__ - INFO - Predicting ...\n",
      "2023-09-27 20:26:23,001 - hbmep.utils.utils - INFO - func:make_prediction_dataset took: 0.00 sec\n",
      "2023-09-27 20:26:29,130 - hbmep.utils.utils - INFO - func:predict took: 6.13 sec\n",
      "2023-09-27 20:26:29,130 - __main__ - INFO - Plotting recruitment curves ...\n",
      "2023-09-27 20:26:29,148 - hbmep.model.baseline - INFO - Rendering ...\n",
      "2023-09-27 20:26:37,273 - hbmep.model.baseline - INFO - Saved to /home/vishu/repos/hbmep-paper/reports/human/intraoperative/power-analysis/draw_807/N_20/seed_677/recruitment_curves.pdf\n",
      "2023-09-27 20:26:37,274 - hbmep.utils.utils - INFO - func:render_recruitment_curves took: 8.14 sec\n",
      "2023-09-27 20:26:37,274 - __main__ - INFO - Plotting posterior checks ...\n",
      "2023-09-27 20:26:37,308 - hbmep.model.baseline - INFO - Rendering Posterior Predictive Check ...\n",
      "2023-09-27 20:26:46,221 - hbmep.model.baseline - INFO - Saved to /home/vishu/repos/hbmep-paper/reports/human/intraoperative/power-analysis/draw_807/N_20/seed_677/posterior_predictive_check.pdf\n",
      "2023-09-27 20:26:46,222 - hbmep.utils.utils - INFO - func:_render_predictive_check took: 8.95 sec\n",
      "2023-09-27 20:26:46,222 - hbmep.utils.utils - INFO - func:render_predictive_check took: 8.95 sec\n",
      "2023-09-27 20:26:49,228 - __main__ - INFO - Saved to /home/vishu/repos/hbmep-paper/reports/human/intraoperative/power-analysis/mu_delta_predicted_Draw_2.npy\n",
      "2023-09-27 20:26:49,229 - __main__ - INFO - \n",
      "\n",
      "Draw:3/50, N:1/6, Repeat:1/10\n",
      "2023-09-27 20:26:49,230 - __main__ - INFO - Seed:339, Subjects: 67, 138\n",
      "2023-09-27 20:26:49,231 - hbmep.config - INFO - Verifying configuration ...\n",
      "2023-09-27 20:26:49,231 - hbmep.config - INFO - Success!\n",
      "2023-09-27 20:26:49,232 - hbmep.model.baseline - INFO - Initialized model with hierarchical_bayesian link\n",
      "2023-09-27 20:26:49,232 - hbmep.dataset.core - INFO - Artefacts will be stored here - /home/vishu/repos/hbmep-paper/reports/human/intraoperative/power-analysis/draw_3728/N_2/seed_339\n",
      "2023-09-27 20:26:49,232 - hbmep.dataset.core - INFO - Copied config to /home/vishu/repos/hbmep-paper/reports/human/intraoperative/power-analysis/draw_3728/N_2/seed_339\n",
      "2023-09-27 20:26:49,233 - hbmep.dataset.core - INFO - Processing data ...\n",
      "2023-09-27 20:26:49,233 - hbmep.utils.utils - INFO - func:load took: 0.00 sec\n",
      "2023-09-27 20:26:49,233 - __main__ - INFO - Fitting ...\n",
      "2023-09-27 20:26:49,234 - hbmep.model.baseline - INFO - Running inference with hierarchical_bayesian ...\n"
     ]
    },
    {
     "data": {
      "application/vnd.jupyter.widget-view+json": {
       "model_id": "19dae91c41dc42629838af59011528ac",
       "version_major": 2,
       "version_minor": 0
      },
      "text/plain": [
       "  0%|          | 0/1500 [00:00<?, ?it/s]"
      ]
     },
     "metadata": {},
     "output_type": "display_data"
    },
    {
     "data": {
      "application/vnd.jupyter.widget-view+json": {
       "model_id": "6b3bd4b6b682418d838f6efa9dcf2032",
       "version_major": 2,
       "version_minor": 0
      },
      "text/plain": [
       "  0%|          | 0/1500 [00:00<?, ?it/s]"
      ]
     },
     "metadata": {},
     "output_type": "display_data"
    },
    {
     "data": {
      "application/vnd.jupyter.widget-view+json": {
       "model_id": "ce87508edbff401fb2d333cec3f1bb42",
       "version_major": 2,
       "version_minor": 0
      },
      "text/plain": [
       "  0%|          | 0/1500 [00:00<?, ?it/s]"
      ]
     },
     "metadata": {},
     "output_type": "display_data"
    },
    {
     "data": {
      "application/vnd.jupyter.widget-view+json": {
       "model_id": "217146275fc04d3fbbf4560410d8a233",
       "version_major": 2,
       "version_minor": 0
      },
      "text/plain": [
       "  0%|          | 0/1500 [00:00<?, ?it/s]"
      ]
     },
     "metadata": {},
     "output_type": "display_data"
    },
    {
     "name": "stderr",
     "output_type": "stream",
     "text": [
      "2023-09-27 20:27:02,976 - hbmep.utils.utils - INFO - func:run_inference took: 13.74 sec\n",
      "2023-09-27 20:27:02,977 - __main__ - INFO - Predicting ...\n",
      "2023-09-27 20:27:02,981 - hbmep.utils.utils - INFO - func:make_prediction_dataset took: 0.00 sec\n",
      "2023-09-27 20:27:03,927 - hbmep.utils.utils - INFO - func:predict took: 0.95 sec\n",
      "2023-09-27 20:27:03,928 - __main__ - INFO - Plotting recruitment curves ...\n",
      "2023-09-27 20:27:03,931 - hbmep.model.baseline - INFO - Rendering ...\n",
      "2023-09-27 20:27:04,735 - hbmep.model.baseline - INFO - Saved to /home/vishu/repos/hbmep-paper/reports/human/intraoperative/power-analysis/draw_3728/N_2/seed_339/recruitment_curves.pdf\n",
      "2023-09-27 20:27:04,736 - hbmep.utils.utils - INFO - func:render_recruitment_curves took: 0.81 sec\n",
      "2023-09-27 20:27:04,736 - __main__ - INFO - Plotting posterior checks ...\n",
      "2023-09-27 20:27:04,740 - hbmep.model.baseline - INFO - Rendering Posterior Predictive Check ...\n",
      "2023-09-27 20:27:05,618 - hbmep.model.baseline - INFO - Saved to /home/vishu/repos/hbmep-paper/reports/human/intraoperative/power-analysis/draw_3728/N_2/seed_339/posterior_predictive_check.pdf\n",
      "2023-09-27 20:27:05,618 - hbmep.utils.utils - INFO - func:_render_predictive_check took: 0.88 sec\n",
      "2023-09-27 20:27:05,618 - hbmep.utils.utils - INFO - func:render_predictive_check took: 0.88 sec\n",
      "2023-09-27 20:27:08,385 - __main__ - INFO - \n",
      "\n",
      "Draw:3/50, N:1/6, Repeat:2/10\n",
      "2023-09-27 20:27:08,390 - __main__ - INFO - Seed:777, Subjects: 23, 34\n",
      "2023-09-27 20:27:08,391 - hbmep.config - INFO - Verifying configuration ...\n",
      "2023-09-27 20:27:08,391 - hbmep.config - INFO - Success!\n",
      "2023-09-27 20:27:08,392 - hbmep.model.baseline - INFO - Initialized model with hierarchical_bayesian link\n",
      "2023-09-27 20:27:08,392 - hbmep.dataset.core - INFO - Artefacts will be stored here - /home/vishu/repos/hbmep-paper/reports/human/intraoperative/power-analysis/draw_3728/N_2/seed_777\n",
      "2023-09-27 20:27:08,393 - hbmep.dataset.core - INFO - Copied config to /home/vishu/repos/hbmep-paper/reports/human/intraoperative/power-analysis/draw_3728/N_2/seed_777\n",
      "2023-09-27 20:27:08,393 - hbmep.dataset.core - INFO - Processing data ...\n",
      "2023-09-27 20:27:08,394 - hbmep.utils.utils - INFO - func:load took: 0.00 sec\n",
      "2023-09-27 20:27:08,394 - __main__ - INFO - Fitting ...\n",
      "2023-09-27 20:27:08,395 - hbmep.model.baseline - INFO - Running inference with hierarchical_bayesian ...\n"
     ]
    },
    {
     "data": {
      "application/vnd.jupyter.widget-view+json": {
       "model_id": "5a477640190f4461b1d0044914a35661",
       "version_major": 2,
       "version_minor": 0
      },
      "text/plain": [
       "  0%|          | 0/1500 [00:00<?, ?it/s]"
      ]
     },
     "metadata": {},
     "output_type": "display_data"
    },
    {
     "data": {
      "application/vnd.jupyter.widget-view+json": {
       "model_id": "4137becaa41d4cfabf9f59c3748ac140",
       "version_major": 2,
       "version_minor": 0
      },
      "text/plain": [
       "  0%|          | 0/1500 [00:00<?, ?it/s]"
      ]
     },
     "metadata": {},
     "output_type": "display_data"
    },
    {
     "data": {
      "application/vnd.jupyter.widget-view+json": {
       "model_id": "58d7abd16bf54bb49f5f860144826053",
       "version_major": 2,
       "version_minor": 0
      },
      "text/plain": [
       "  0%|          | 0/1500 [00:00<?, ?it/s]"
      ]
     },
     "metadata": {},
     "output_type": "display_data"
    },
    {
     "data": {
      "application/vnd.jupyter.widget-view+json": {
       "model_id": "ce5bfb219cb44bc3924a7559cb7d7c5d",
       "version_major": 2,
       "version_minor": 0
      },
      "text/plain": [
       "  0%|          | 0/1500 [00:00<?, ?it/s]"
      ]
     },
     "metadata": {},
     "output_type": "display_data"
    },
    {
     "name": "stderr",
     "output_type": "stream",
     "text": [
      "2023-09-27 20:27:22,465 - hbmep.utils.utils - INFO - func:run_inference took: 14.07 sec\n",
      "2023-09-27 20:27:22,466 - __main__ - INFO - Predicting ...\n",
      "2023-09-27 20:27:22,472 - hbmep.utils.utils - INFO - func:make_prediction_dataset took: 0.00 sec\n",
      "2023-09-27 20:27:23,423 - hbmep.utils.utils - INFO - func:predict took: 0.95 sec\n",
      "2023-09-27 20:27:23,424 - __main__ - INFO - Plotting recruitment curves ...\n",
      "2023-09-27 20:27:23,428 - hbmep.model.baseline - INFO - Rendering ...\n",
      "2023-09-27 20:27:24,172 - hbmep.model.baseline - INFO - Saved to /home/vishu/repos/hbmep-paper/reports/human/intraoperative/power-analysis/draw_3728/N_2/seed_777/recruitment_curves.pdf\n",
      "2023-09-27 20:27:24,173 - hbmep.utils.utils - INFO - func:render_recruitment_curves took: 0.75 sec\n",
      "2023-09-27 20:27:24,173 - __main__ - INFO - Plotting posterior checks ...\n",
      "2023-09-27 20:27:24,177 - hbmep.model.baseline - INFO - Rendering Posterior Predictive Check ...\n",
      "2023-09-27 20:27:25,029 - hbmep.model.baseline - INFO - Saved to /home/vishu/repos/hbmep-paper/reports/human/intraoperative/power-analysis/draw_3728/N_2/seed_777/posterior_predictive_check.pdf\n",
      "2023-09-27 20:27:25,029 - hbmep.utils.utils - INFO - func:_render_predictive_check took: 0.86 sec\n",
      "2023-09-27 20:27:25,029 - hbmep.utils.utils - INFO - func:render_predictive_check took: 0.86 sec\n",
      "2023-09-27 20:27:27,035 - __main__ - INFO - \n",
      "\n",
      "Draw:3/50, N:1/6, Repeat:3/10\n",
      "2023-09-27 20:27:27,038 - __main__ - INFO - Seed:129, Subjects: 151, 192\n",
      "2023-09-27 20:27:27,039 - hbmep.config - INFO - Verifying configuration ...\n",
      "2023-09-27 20:27:27,039 - hbmep.config - INFO - Success!\n",
      "2023-09-27 20:27:27,040 - hbmep.model.baseline - INFO - Initialized model with hierarchical_bayesian link\n",
      "2023-09-27 20:27:27,040 - hbmep.dataset.core - INFO - Artefacts will be stored here - /home/vishu/repos/hbmep-paper/reports/human/intraoperative/power-analysis/draw_3728/N_2/seed_129\n",
      "2023-09-27 20:27:27,040 - hbmep.dataset.core - INFO - Copied config to /home/vishu/repos/hbmep-paper/reports/human/intraoperative/power-analysis/draw_3728/N_2/seed_129\n",
      "2023-09-27 20:27:27,041 - hbmep.dataset.core - INFO - Processing data ...\n",
      "2023-09-27 20:27:27,042 - hbmep.utils.utils - INFO - func:load took: 0.00 sec\n",
      "2023-09-27 20:27:27,042 - __main__ - INFO - Fitting ...\n",
      "2023-09-27 20:27:27,043 - hbmep.model.baseline - INFO - Running inference with hierarchical_bayesian ...\n"
     ]
    },
    {
     "data": {
      "application/vnd.jupyter.widget-view+json": {
       "model_id": "a0822cfbc4e642a484e7ee4399f6e26c",
       "version_major": 2,
       "version_minor": 0
      },
      "text/plain": [
       "  0%|          | 0/1500 [00:00<?, ?it/s]"
      ]
     },
     "metadata": {},
     "output_type": "display_data"
    },
    {
     "data": {
      "application/vnd.jupyter.widget-view+json": {
       "model_id": "5ed74de8b40d4e239dc41e10c27714e2",
       "version_major": 2,
       "version_minor": 0
      },
      "text/plain": [
       "  0%|          | 0/1500 [00:00<?, ?it/s]"
      ]
     },
     "metadata": {},
     "output_type": "display_data"
    },
    {
     "data": {
      "application/vnd.jupyter.widget-view+json": {
       "model_id": "6a8d4637936a4810b56226b0fa30715f",
       "version_major": 2,
       "version_minor": 0
      },
      "text/plain": [
       "  0%|          | 0/1500 [00:00<?, ?it/s]"
      ]
     },
     "metadata": {},
     "output_type": "display_data"
    },
    {
     "data": {
      "application/vnd.jupyter.widget-view+json": {
       "model_id": "358adb7632ad4f799a4c3a420375359a",
       "version_major": 2,
       "version_minor": 0
      },
      "text/plain": [
       "  0%|          | 0/1500 [00:00<?, ?it/s]"
      ]
     },
     "metadata": {},
     "output_type": "display_data"
    },
    {
     "name": "stderr",
     "output_type": "stream",
     "text": [
      "2023-09-27 20:27:40,298 - hbmep.utils.utils - INFO - func:run_inference took: 13.26 sec\n",
      "2023-09-27 20:27:40,298 - __main__ - INFO - Predicting ...\n",
      "2023-09-27 20:27:40,304 - hbmep.utils.utils - INFO - func:make_prediction_dataset took: 0.00 sec\n",
      "2023-09-27 20:27:41,268 - hbmep.utils.utils - INFO - func:predict took: 0.96 sec\n",
      "2023-09-27 20:27:41,268 - __main__ - INFO - Plotting recruitment curves ...\n",
      "2023-09-27 20:27:41,272 - hbmep.model.baseline - INFO - Rendering ...\n",
      "2023-09-27 20:27:42,033 - hbmep.model.baseline - INFO - Saved to /home/vishu/repos/hbmep-paper/reports/human/intraoperative/power-analysis/draw_3728/N_2/seed_129/recruitment_curves.pdf\n",
      "2023-09-27 20:27:42,033 - hbmep.utils.utils - INFO - func:render_recruitment_curves took: 0.76 sec\n",
      "2023-09-27 20:27:42,034 - __main__ - INFO - Plotting posterior checks ...\n",
      "2023-09-27 20:27:42,038 - hbmep.model.baseline - INFO - Rendering Posterior Predictive Check ...\n",
      "2023-09-27 20:27:42,909 - hbmep.model.baseline - INFO - Saved to /home/vishu/repos/hbmep-paper/reports/human/intraoperative/power-analysis/draw_3728/N_2/seed_129/posterior_predictive_check.pdf\n",
      "2023-09-27 20:27:42,909 - hbmep.utils.utils - INFO - func:_render_predictive_check took: 0.88 sec\n",
      "2023-09-27 20:27:42,910 - hbmep.utils.utils - INFO - func:render_predictive_check took: 0.88 sec\n",
      "2023-09-27 20:27:44,923 - __main__ - INFO - \n",
      "\n",
      "Draw:3/50, N:1/6, Repeat:4/10\n",
      "2023-09-27 20:27:44,925 - __main__ - INFO - Seed:822, Subjects: 98, 32\n",
      "2023-09-27 20:27:44,927 - hbmep.config - INFO - Verifying configuration ...\n",
      "2023-09-27 20:27:44,927 - hbmep.config - INFO - Success!\n",
      "2023-09-27 20:27:44,927 - hbmep.model.baseline - INFO - Initialized model with hierarchical_bayesian link\n",
      "2023-09-27 20:27:44,928 - hbmep.dataset.core - INFO - Artefacts will be stored here - /home/vishu/repos/hbmep-paper/reports/human/intraoperative/power-analysis/draw_3728/N_2/seed_822\n",
      "2023-09-27 20:27:44,928 - hbmep.dataset.core - INFO - Copied config to /home/vishu/repos/hbmep-paper/reports/human/intraoperative/power-analysis/draw_3728/N_2/seed_822\n",
      "2023-09-27 20:27:44,929 - hbmep.dataset.core - INFO - Processing data ...\n",
      "2023-09-27 20:27:44,930 - hbmep.utils.utils - INFO - func:load took: 0.00 sec\n",
      "2023-09-27 20:27:44,930 - __main__ - INFO - Fitting ...\n",
      "2023-09-27 20:27:44,930 - hbmep.model.baseline - INFO - Running inference with hierarchical_bayesian ...\n"
     ]
    },
    {
     "data": {
      "application/vnd.jupyter.widget-view+json": {
       "model_id": "cea5734c6da64b8a9330e084ae2af042",
       "version_major": 2,
       "version_minor": 0
      },
      "text/plain": [
       "  0%|          | 0/1500 [00:00<?, ?it/s]"
      ]
     },
     "metadata": {},
     "output_type": "display_data"
    },
    {
     "data": {
      "application/vnd.jupyter.widget-view+json": {
       "model_id": "06175a36e0e841a9ab1070a3adfbaf20",
       "version_major": 2,
       "version_minor": 0
      },
      "text/plain": [
       "  0%|          | 0/1500 [00:00<?, ?it/s]"
      ]
     },
     "metadata": {},
     "output_type": "display_data"
    },
    {
     "data": {
      "application/vnd.jupyter.widget-view+json": {
       "model_id": "404e9470f01f42a8ab71372cc0081e2a",
       "version_major": 2,
       "version_minor": 0
      },
      "text/plain": [
       "  0%|          | 0/1500 [00:00<?, ?it/s]"
      ]
     },
     "metadata": {},
     "output_type": "display_data"
    },
    {
     "data": {
      "application/vnd.jupyter.widget-view+json": {
       "model_id": "0cec0ed3c3ce4ae5984b3b205018bb0e",
       "version_major": 2,
       "version_minor": 0
      },
      "text/plain": [
       "  0%|          | 0/1500 [00:00<?, ?it/s]"
      ]
     },
     "metadata": {},
     "output_type": "display_data"
    },
    {
     "name": "stderr",
     "output_type": "stream",
     "text": [
      "2023-09-27 20:27:56,513 - hbmep.utils.utils - INFO - func:run_inference took: 11.58 sec\n",
      "2023-09-27 20:27:56,515 - __main__ - INFO - Predicting ...\n",
      "2023-09-27 20:27:56,519 - hbmep.utils.utils - INFO - func:make_prediction_dataset took: 0.00 sec\n",
      "2023-09-27 20:27:57,460 - hbmep.utils.utils - INFO - func:predict took: 0.94 sec\n",
      "2023-09-27 20:27:57,460 - __main__ - INFO - Plotting recruitment curves ...\n",
      "2023-09-27 20:27:57,464 - hbmep.model.baseline - INFO - Rendering ...\n",
      "2023-09-27 20:27:58,190 - hbmep.model.baseline - INFO - Saved to /home/vishu/repos/hbmep-paper/reports/human/intraoperative/power-analysis/draw_3728/N_2/seed_822/recruitment_curves.pdf\n",
      "2023-09-27 20:27:58,191 - hbmep.utils.utils - INFO - func:render_recruitment_curves took: 0.73 sec\n",
      "2023-09-27 20:27:58,191 - __main__ - INFO - Plotting posterior checks ...\n",
      "2023-09-27 20:27:58,195 - hbmep.model.baseline - INFO - Rendering Posterior Predictive Check ...\n",
      "2023-09-27 20:27:59,060 - hbmep.model.baseline - INFO - Saved to /home/vishu/repos/hbmep-paper/reports/human/intraoperative/power-analysis/draw_3728/N_2/seed_822/posterior_predictive_check.pdf\n",
      "2023-09-27 20:27:59,061 - hbmep.utils.utils - INFO - func:_render_predictive_check took: 0.87 sec\n",
      "2023-09-27 20:27:59,061 - hbmep.utils.utils - INFO - func:render_predictive_check took: 0.87 sec\n",
      "2023-09-27 20:28:01,095 - __main__ - INFO - \n",
      "\n",
      "Draw:3/50, N:1/6, Repeat:5/10\n",
      "2023-09-27 20:28:01,097 - __main__ - INFO - Seed:616, Subjects: 130, 39\n",
      "2023-09-27 20:28:01,098 - hbmep.config - INFO - Verifying configuration ...\n",
      "2023-09-27 20:28:01,098 - hbmep.config - INFO - Success!\n",
      "2023-09-27 20:28:01,099 - hbmep.model.baseline - INFO - Initialized model with hierarchical_bayesian link\n",
      "2023-09-27 20:28:01,099 - hbmep.dataset.core - INFO - Artefacts will be stored here - /home/vishu/repos/hbmep-paper/reports/human/intraoperative/power-analysis/draw_3728/N_2/seed_616\n",
      "2023-09-27 20:28:01,099 - hbmep.dataset.core - INFO - Copied config to /home/vishu/repos/hbmep-paper/reports/human/intraoperative/power-analysis/draw_3728/N_2/seed_616\n",
      "2023-09-27 20:28:01,100 - hbmep.dataset.core - INFO - Processing data ...\n",
      "2023-09-27 20:28:01,101 - hbmep.utils.utils - INFO - func:load took: 0.00 sec\n",
      "2023-09-27 20:28:01,101 - __main__ - INFO - Fitting ...\n",
      "2023-09-27 20:28:01,101 - hbmep.model.baseline - INFO - Running inference with hierarchical_bayesian ...\n"
     ]
    },
    {
     "data": {
      "application/vnd.jupyter.widget-view+json": {
       "model_id": "35afdfb475c949e8a455adc1e9491ab5",
       "version_major": 2,
       "version_minor": 0
      },
      "text/plain": [
       "  0%|          | 0/1500 [00:00<?, ?it/s]"
      ]
     },
     "metadata": {},
     "output_type": "display_data"
    },
    {
     "data": {
      "application/vnd.jupyter.widget-view+json": {
       "model_id": "27959cd7f8f44629b19fed9c6e47700b",
       "version_major": 2,
       "version_minor": 0
      },
      "text/plain": [
       "  0%|          | 0/1500 [00:00<?, ?it/s]"
      ]
     },
     "metadata": {},
     "output_type": "display_data"
    },
    {
     "data": {
      "application/vnd.jupyter.widget-view+json": {
       "model_id": "8ba96c6f0c714406bcff1ec766cb0d48",
       "version_major": 2,
       "version_minor": 0
      },
      "text/plain": [
       "  0%|          | 0/1500 [00:00<?, ?it/s]"
      ]
     },
     "metadata": {},
     "output_type": "display_data"
    },
    {
     "data": {
      "application/vnd.jupyter.widget-view+json": {
       "model_id": "ec9a8b45c70246eb90383d24e482f560",
       "version_major": 2,
       "version_minor": 0
      },
      "text/plain": [
       "  0%|          | 0/1500 [00:00<?, ?it/s]"
      ]
     },
     "metadata": {},
     "output_type": "display_data"
    },
    {
     "name": "stderr",
     "output_type": "stream",
     "text": [
      "2023-09-27 20:28:11,629 - hbmep.utils.utils - INFO - func:run_inference took: 10.53 sec\n",
      "2023-09-27 20:28:11,630 - __main__ - INFO - Predicting ...\n",
      "2023-09-27 20:28:11,635 - hbmep.utils.utils - INFO - func:make_prediction_dataset took: 0.00 sec\n",
      "2023-09-27 20:28:12,584 - hbmep.utils.utils - INFO - func:predict took: 0.95 sec\n",
      "2023-09-27 20:28:12,584 - __main__ - INFO - Plotting recruitment curves ...\n",
      "2023-09-27 20:28:12,588 - hbmep.model.baseline - INFO - Rendering ...\n",
      "2023-09-27 20:28:13,340 - hbmep.model.baseline - INFO - Saved to /home/vishu/repos/hbmep-paper/reports/human/intraoperative/power-analysis/draw_3728/N_2/seed_616/recruitment_curves.pdf\n",
      "2023-09-27 20:28:13,340 - hbmep.utils.utils - INFO - func:render_recruitment_curves took: 0.76 sec\n",
      "2023-09-27 20:28:13,341 - __main__ - INFO - Plotting posterior checks ...\n",
      "2023-09-27 20:28:13,344 - hbmep.model.baseline - INFO - Rendering Posterior Predictive Check ...\n",
      "2023-09-27 20:28:14,192 - hbmep.model.baseline - INFO - Saved to /home/vishu/repos/hbmep-paper/reports/human/intraoperative/power-analysis/draw_3728/N_2/seed_616/posterior_predictive_check.pdf\n",
      "2023-09-27 20:28:14,193 - hbmep.utils.utils - INFO - func:_render_predictive_check took: 0.85 sec\n",
      "2023-09-27 20:28:14,193 - hbmep.utils.utils - INFO - func:render_predictive_check took: 0.85 sec\n",
      "2023-09-27 20:28:16,246 - __main__ - INFO - \n",
      "\n",
      "Draw:3/50, N:1/6, Repeat:6/10\n",
      "2023-09-27 20:28:16,248 - __main__ - INFO - Seed:214, Subjects: 120, 179\n",
      "2023-09-27 20:28:16,249 - hbmep.config - INFO - Verifying configuration ...\n",
      "2023-09-27 20:28:16,249 - hbmep.config - INFO - Success!\n",
      "2023-09-27 20:28:16,250 - hbmep.model.baseline - INFO - Initialized model with hierarchical_bayesian link\n",
      "2023-09-27 20:28:16,250 - hbmep.dataset.core - INFO - Artefacts will be stored here - /home/vishu/repos/hbmep-paper/reports/human/intraoperative/power-analysis/draw_3728/N_2/seed_214\n",
      "2023-09-27 20:28:16,250 - hbmep.dataset.core - INFO - Copied config to /home/vishu/repos/hbmep-paper/reports/human/intraoperative/power-analysis/draw_3728/N_2/seed_214\n",
      "2023-09-27 20:28:16,251 - hbmep.dataset.core - INFO - Processing data ...\n",
      "2023-09-27 20:28:16,252 - hbmep.utils.utils - INFO - func:load took: 0.00 sec\n",
      "2023-09-27 20:28:16,252 - __main__ - INFO - Fitting ...\n",
      "2023-09-27 20:28:16,252 - hbmep.model.baseline - INFO - Running inference with hierarchical_bayesian ...\n"
     ]
    },
    {
     "data": {
      "application/vnd.jupyter.widget-view+json": {
       "model_id": "5494d89d8a6445f4972e540d05179b31",
       "version_major": 2,
       "version_minor": 0
      },
      "text/plain": [
       "  0%|          | 0/1500 [00:00<?, ?it/s]"
      ]
     },
     "metadata": {},
     "output_type": "display_data"
    },
    {
     "data": {
      "application/vnd.jupyter.widget-view+json": {
       "model_id": "d75ad3bf884d40bbba855bdd925d30a5",
       "version_major": 2,
       "version_minor": 0
      },
      "text/plain": [
       "  0%|          | 0/1500 [00:00<?, ?it/s]"
      ]
     },
     "metadata": {},
     "output_type": "display_data"
    },
    {
     "data": {
      "application/vnd.jupyter.widget-view+json": {
       "model_id": "f50e00634f6b4754946ad0a40b1562a8",
       "version_major": 2,
       "version_minor": 0
      },
      "text/plain": [
       "  0%|          | 0/1500 [00:00<?, ?it/s]"
      ]
     },
     "metadata": {},
     "output_type": "display_data"
    },
    {
     "data": {
      "application/vnd.jupyter.widget-view+json": {
       "model_id": "497c9b25b9d145f3814514540f99608f",
       "version_major": 2,
       "version_minor": 0
      },
      "text/plain": [
       "  0%|          | 0/1500 [00:00<?, ?it/s]"
      ]
     },
     "metadata": {},
     "output_type": "display_data"
    },
    {
     "name": "stderr",
     "output_type": "stream",
     "text": [
      "2023-09-27 20:28:33,312 - hbmep.utils.utils - INFO - func:run_inference took: 17.06 sec\n",
      "2023-09-27 20:28:33,313 - __main__ - INFO - Predicting ...\n",
      "2023-09-27 20:28:33,317 - hbmep.utils.utils - INFO - func:make_prediction_dataset took: 0.00 sec\n",
      "2023-09-27 20:28:34,257 - hbmep.utils.utils - INFO - func:predict took: 0.94 sec\n",
      "2023-09-27 20:28:34,257 - __main__ - INFO - Plotting recruitment curves ...\n",
      "2023-09-27 20:28:34,261 - hbmep.model.baseline - INFO - Rendering ...\n",
      "2023-09-27 20:28:34,978 - hbmep.model.baseline - INFO - Saved to /home/vishu/repos/hbmep-paper/reports/human/intraoperative/power-analysis/draw_3728/N_2/seed_214/recruitment_curves.pdf\n",
      "2023-09-27 20:28:34,978 - hbmep.utils.utils - INFO - func:render_recruitment_curves took: 0.72 sec\n",
      "2023-09-27 20:28:34,978 - __main__ - INFO - Plotting posterior checks ...\n",
      "2023-09-27 20:28:34,982 - hbmep.model.baseline - INFO - Rendering Posterior Predictive Check ...\n",
      "2023-09-27 20:28:35,833 - hbmep.model.baseline - INFO - Saved to /home/vishu/repos/hbmep-paper/reports/human/intraoperative/power-analysis/draw_3728/N_2/seed_214/posterior_predictive_check.pdf\n",
      "2023-09-27 20:28:35,833 - hbmep.utils.utils - INFO - func:_render_predictive_check took: 0.85 sec\n",
      "2023-09-27 20:28:35,833 - hbmep.utils.utils - INFO - func:render_predictive_check took: 0.85 sec\n",
      "2023-09-27 20:28:37,885 - __main__ - INFO - \n",
      "\n",
      "Draw:3/50, N:1/6, Repeat:7/10\n",
      "2023-09-27 20:28:37,887 - __main__ - INFO - Seed:204, Subjects: 195, 25\n",
      "2023-09-27 20:28:37,888 - hbmep.config - INFO - Verifying configuration ...\n",
      "2023-09-27 20:28:37,888 - hbmep.config - INFO - Success!\n",
      "2023-09-27 20:28:37,889 - hbmep.model.baseline - INFO - Initialized model with hierarchical_bayesian link\n",
      "2023-09-27 20:28:37,889 - hbmep.dataset.core - INFO - Artefacts will be stored here - /home/vishu/repos/hbmep-paper/reports/human/intraoperative/power-analysis/draw_3728/N_2/seed_204\n",
      "2023-09-27 20:28:37,889 - hbmep.dataset.core - INFO - Copied config to /home/vishu/repos/hbmep-paper/reports/human/intraoperative/power-analysis/draw_3728/N_2/seed_204\n",
      "2023-09-27 20:28:37,890 - hbmep.dataset.core - INFO - Processing data ...\n",
      "2023-09-27 20:28:37,891 - hbmep.utils.utils - INFO - func:load took: 0.00 sec\n",
      "2023-09-27 20:28:37,891 - __main__ - INFO - Fitting ...\n",
      "2023-09-27 20:28:37,891 - hbmep.model.baseline - INFO - Running inference with hierarchical_bayesian ...\n"
     ]
    },
    {
     "data": {
      "application/vnd.jupyter.widget-view+json": {
       "model_id": "86153bcdbf204a008c69a8d204fae0aa",
       "version_major": 2,
       "version_minor": 0
      },
      "text/plain": [
       "  0%|          | 0/1500 [00:00<?, ?it/s]"
      ]
     },
     "metadata": {},
     "output_type": "display_data"
    },
    {
     "data": {
      "application/vnd.jupyter.widget-view+json": {
       "model_id": "13dc9c48da434ec1a1ede62eb40b3a49",
       "version_major": 2,
       "version_minor": 0
      },
      "text/plain": [
       "  0%|          | 0/1500 [00:00<?, ?it/s]"
      ]
     },
     "metadata": {},
     "output_type": "display_data"
    },
    {
     "data": {
      "application/vnd.jupyter.widget-view+json": {
       "model_id": "d5b8679fb55c478eabea685628b35d51",
       "version_major": 2,
       "version_minor": 0
      },
      "text/plain": [
       "  0%|          | 0/1500 [00:00<?, ?it/s]"
      ]
     },
     "metadata": {},
     "output_type": "display_data"
    },
    {
     "data": {
      "application/vnd.jupyter.widget-view+json": {
       "model_id": "ca99c6cb096f4001a1fef613552d56a5",
       "version_major": 2,
       "version_minor": 0
      },
      "text/plain": [
       "  0%|          | 0/1500 [00:00<?, ?it/s]"
      ]
     },
     "metadata": {},
     "output_type": "display_data"
    },
    {
     "name": "stderr",
     "output_type": "stream",
     "text": [
      "2023-09-27 20:28:51,311 - hbmep.utils.utils - INFO - func:run_inference took: 13.42 sec\n",
      "2023-09-27 20:28:51,312 - __main__ - INFO - Predicting ...\n",
      "2023-09-27 20:28:51,316 - hbmep.utils.utils - INFO - func:make_prediction_dataset took: 0.00 sec\n",
      "2023-09-27 20:28:52,257 - hbmep.utils.utils - INFO - func:predict took: 0.94 sec\n",
      "2023-09-27 20:28:52,257 - __main__ - INFO - Plotting recruitment curves ...\n",
      "2023-09-27 20:28:52,261 - hbmep.model.baseline - INFO - Rendering ...\n",
      "2023-09-27 20:28:53,043 - hbmep.model.baseline - INFO - Saved to /home/vishu/repos/hbmep-paper/reports/human/intraoperative/power-analysis/draw_3728/N_2/seed_204/recruitment_curves.pdf\n",
      "2023-09-27 20:28:53,043 - hbmep.utils.utils - INFO - func:render_recruitment_curves took: 0.79 sec\n",
      "2023-09-27 20:28:53,043 - __main__ - INFO - Plotting posterior checks ...\n",
      "2023-09-27 20:28:53,048 - hbmep.model.baseline - INFO - Rendering Posterior Predictive Check ...\n",
      "2023-09-27 20:28:53,878 - hbmep.model.baseline - INFO - Saved to /home/vishu/repos/hbmep-paper/reports/human/intraoperative/power-analysis/draw_3728/N_2/seed_204/posterior_predictive_check.pdf\n",
      "2023-09-27 20:28:53,878 - hbmep.utils.utils - INFO - func:_render_predictive_check took: 0.83 sec\n",
      "2023-09-27 20:28:53,878 - hbmep.utils.utils - INFO - func:render_predictive_check took: 0.84 sec\n",
      "2023-09-27 20:28:55,949 - __main__ - INFO - \n",
      "\n",
      "Draw:3/50, N:1/6, Repeat:8/10\n",
      "2023-09-27 20:28:55,950 - __main__ - INFO - Seed:912, Subjects: 108, 85\n",
      "2023-09-27 20:28:55,951 - hbmep.config - INFO - Verifying configuration ...\n",
      "2023-09-27 20:28:55,951 - hbmep.config - INFO - Success!\n",
      "2023-09-27 20:28:55,952 - hbmep.model.baseline - INFO - Initialized model with hierarchical_bayesian link\n",
      "2023-09-27 20:28:55,952 - hbmep.dataset.core - INFO - Artefacts will be stored here - /home/vishu/repos/hbmep-paper/reports/human/intraoperative/power-analysis/draw_3728/N_2/seed_912\n",
      "2023-09-27 20:28:55,952 - hbmep.dataset.core - INFO - Copied config to /home/vishu/repos/hbmep-paper/reports/human/intraoperative/power-analysis/draw_3728/N_2/seed_912\n",
      "2023-09-27 20:28:55,953 - hbmep.dataset.core - INFO - Processing data ...\n",
      "2023-09-27 20:28:55,954 - hbmep.utils.utils - INFO - func:load took: 0.00 sec\n",
      "2023-09-27 20:28:55,954 - __main__ - INFO - Fitting ...\n",
      "2023-09-27 20:28:55,954 - hbmep.model.baseline - INFO - Running inference with hierarchical_bayesian ...\n"
     ]
    },
    {
     "data": {
      "application/vnd.jupyter.widget-view+json": {
       "model_id": "cbe2943a683143a7b23fcee32b0bddc5",
       "version_major": 2,
       "version_minor": 0
      },
      "text/plain": [
       "  0%|          | 0/1500 [00:00<?, ?it/s]"
      ]
     },
     "metadata": {},
     "output_type": "display_data"
    },
    {
     "data": {
      "application/vnd.jupyter.widget-view+json": {
       "model_id": "d4fafe82b720476d821d615cd18e0748",
       "version_major": 2,
       "version_minor": 0
      },
      "text/plain": [
       "  0%|          | 0/1500 [00:00<?, ?it/s]"
      ]
     },
     "metadata": {},
     "output_type": "display_data"
    },
    {
     "data": {
      "application/vnd.jupyter.widget-view+json": {
       "model_id": "0cd6fc8d899244b59da2459ee0356498",
       "version_major": 2,
       "version_minor": 0
      },
      "text/plain": [
       "  0%|          | 0/1500 [00:00<?, ?it/s]"
      ]
     },
     "metadata": {},
     "output_type": "display_data"
    },
    {
     "data": {
      "application/vnd.jupyter.widget-view+json": {
       "model_id": "9df7600d8802464495d8fd27639a0068",
       "version_major": 2,
       "version_minor": 0
      },
      "text/plain": [
       "  0%|          | 0/1500 [00:00<?, ?it/s]"
      ]
     },
     "metadata": {},
     "output_type": "display_data"
    },
    {
     "name": "stderr",
     "output_type": "stream",
     "text": [
      "2023-09-27 20:29:06,433 - hbmep.utils.utils - INFO - func:run_inference took: 10.48 sec\n",
      "2023-09-27 20:29:06,434 - __main__ - INFO - Predicting ...\n",
      "2023-09-27 20:29:06,439 - hbmep.utils.utils - INFO - func:make_prediction_dataset took: 0.00 sec\n",
      "2023-09-27 20:29:07,401 - hbmep.utils.utils - INFO - func:predict took: 0.96 sec\n",
      "2023-09-27 20:29:07,402 - __main__ - INFO - Plotting recruitment curves ...\n",
      "2023-09-27 20:29:07,405 - hbmep.model.baseline - INFO - Rendering ...\n",
      "2023-09-27 20:29:08,185 - hbmep.model.baseline - INFO - Saved to /home/vishu/repos/hbmep-paper/reports/human/intraoperative/power-analysis/draw_3728/N_2/seed_912/recruitment_curves.pdf\n",
      "2023-09-27 20:29:08,186 - hbmep.utils.utils - INFO - func:render_recruitment_curves took: 0.78 sec\n",
      "2023-09-27 20:29:08,186 - __main__ - INFO - Plotting posterior checks ...\n",
      "2023-09-27 20:29:08,190 - hbmep.model.baseline - INFO - Rendering Posterior Predictive Check ...\n",
      "2023-09-27 20:29:09,046 - hbmep.model.baseline - INFO - Saved to /home/vishu/repos/hbmep-paper/reports/human/intraoperative/power-analysis/draw_3728/N_2/seed_912/posterior_predictive_check.pdf\n",
      "2023-09-27 20:29:09,046 - hbmep.utils.utils - INFO - func:_render_predictive_check took: 0.86 sec\n",
      "2023-09-27 20:29:09,046 - hbmep.utils.utils - INFO - func:render_predictive_check took: 0.86 sec\n",
      "2023-09-27 20:29:11,130 - __main__ - INFO - \n",
      "\n",
      "Draw:3/50, N:1/6, Repeat:9/10\n",
      "2023-09-27 20:29:11,133 - __main__ - INFO - Seed:698, Subjects: 50, 190\n",
      "2023-09-27 20:29:11,134 - hbmep.config - INFO - Verifying configuration ...\n",
      "2023-09-27 20:29:11,134 - hbmep.config - INFO - Success!\n",
      "2023-09-27 20:29:11,134 - hbmep.model.baseline - INFO - Initialized model with hierarchical_bayesian link\n",
      "2023-09-27 20:29:11,135 - hbmep.dataset.core - INFO - Artefacts will be stored here - /home/vishu/repos/hbmep-paper/reports/human/intraoperative/power-analysis/draw_3728/N_2/seed_698\n",
      "2023-09-27 20:29:11,135 - hbmep.dataset.core - INFO - Copied config to /home/vishu/repos/hbmep-paper/reports/human/intraoperative/power-analysis/draw_3728/N_2/seed_698\n",
      "2023-09-27 20:29:11,136 - hbmep.dataset.core - INFO - Processing data ...\n",
      "2023-09-27 20:29:11,137 - hbmep.utils.utils - INFO - func:load took: 0.00 sec\n",
      "2023-09-27 20:29:11,137 - __main__ - INFO - Fitting ...\n",
      "2023-09-27 20:29:11,137 - hbmep.model.baseline - INFO - Running inference with hierarchical_bayesian ...\n"
     ]
    },
    {
     "data": {
      "application/vnd.jupyter.widget-view+json": {
       "model_id": "aabefe309f4f49adbcf0bbe61a16011d",
       "version_major": 2,
       "version_minor": 0
      },
      "text/plain": [
       "  0%|          | 0/1500 [00:00<?, ?it/s]"
      ]
     },
     "metadata": {},
     "output_type": "display_data"
    },
    {
     "data": {
      "application/vnd.jupyter.widget-view+json": {
       "model_id": "1854c180e2bc46218797d37a27264da1",
       "version_major": 2,
       "version_minor": 0
      },
      "text/plain": [
       "  0%|          | 0/1500 [00:00<?, ?it/s]"
      ]
     },
     "metadata": {},
     "output_type": "display_data"
    },
    {
     "data": {
      "application/vnd.jupyter.widget-view+json": {
       "model_id": "630c2593ba3a4619886d35987466aa78",
       "version_major": 2,
       "version_minor": 0
      },
      "text/plain": [
       "  0%|          | 0/1500 [00:00<?, ?it/s]"
      ]
     },
     "metadata": {},
     "output_type": "display_data"
    },
    {
     "data": {
      "application/vnd.jupyter.widget-view+json": {
       "model_id": "a1ce3f885bb74782baff40362774abdb",
       "version_major": 2,
       "version_minor": 0
      },
      "text/plain": [
       "  0%|          | 0/1500 [00:00<?, ?it/s]"
      ]
     },
     "metadata": {},
     "output_type": "display_data"
    },
    {
     "name": "stderr",
     "output_type": "stream",
     "text": [
      "2023-09-27 20:29:33,109 - hbmep.utils.utils - INFO - func:run_inference took: 21.97 sec\n",
      "2023-09-27 20:29:33,110 - __main__ - INFO - Predicting ...\n",
      "2023-09-27 20:29:33,115 - hbmep.utils.utils - INFO - func:make_prediction_dataset took: 0.00 sec\n",
      "2023-09-27 20:29:34,059 - hbmep.utils.utils - INFO - func:predict took: 0.94 sec\n",
      "2023-09-27 20:29:34,059 - __main__ - INFO - Plotting recruitment curves ...\n",
      "2023-09-27 20:29:34,063 - hbmep.model.baseline - INFO - Rendering ...\n",
      "2023-09-27 20:29:34,774 - hbmep.model.baseline - INFO - Saved to /home/vishu/repos/hbmep-paper/reports/human/intraoperative/power-analysis/draw_3728/N_2/seed_698/recruitment_curves.pdf\n",
      "2023-09-27 20:29:34,774 - hbmep.utils.utils - INFO - func:render_recruitment_curves took: 0.71 sec\n",
      "2023-09-27 20:29:34,774 - __main__ - INFO - Plotting posterior checks ...\n",
      "2023-09-27 20:29:34,778 - hbmep.model.baseline - INFO - Rendering Posterior Predictive Check ...\n",
      "2023-09-27 20:29:35,626 - hbmep.model.baseline - INFO - Saved to /home/vishu/repos/hbmep-paper/reports/human/intraoperative/power-analysis/draw_3728/N_2/seed_698/posterior_predictive_check.pdf\n",
      "2023-09-27 20:29:35,626 - hbmep.utils.utils - INFO - func:_render_predictive_check took: 0.85 sec\n",
      "2023-09-27 20:29:35,626 - hbmep.utils.utils - INFO - func:render_predictive_check took: 0.85 sec\n",
      "2023-09-27 20:29:37,724 - __main__ - INFO - \n",
      "\n",
      "Draw:3/50, N:1/6, Repeat:10/10\n",
      "2023-09-27 20:29:37,727 - __main__ - INFO - Seed:677, Subjects: 156, 108\n",
      "2023-09-27 20:29:37,728 - hbmep.config - INFO - Verifying configuration ...\n",
      "2023-09-27 20:29:37,728 - hbmep.config - INFO - Success!\n",
      "2023-09-27 20:29:37,728 - hbmep.model.baseline - INFO - Initialized model with hierarchical_bayesian link\n",
      "2023-09-27 20:29:37,728 - hbmep.dataset.core - INFO - Artefacts will be stored here - /home/vishu/repos/hbmep-paper/reports/human/intraoperative/power-analysis/draw_3728/N_2/seed_677\n",
      "2023-09-27 20:29:37,729 - hbmep.dataset.core - INFO - Copied config to /home/vishu/repos/hbmep-paper/reports/human/intraoperative/power-analysis/draw_3728/N_2/seed_677\n",
      "2023-09-27 20:29:37,729 - hbmep.dataset.core - INFO - Processing data ...\n",
      "2023-09-27 20:29:37,730 - hbmep.utils.utils - INFO - func:load took: 0.00 sec\n",
      "2023-09-27 20:29:37,730 - __main__ - INFO - Fitting ...\n",
      "2023-09-27 20:29:37,730 - hbmep.model.baseline - INFO - Running inference with hierarchical_bayesian ...\n"
     ]
    },
    {
     "data": {
      "application/vnd.jupyter.widget-view+json": {
       "model_id": "6ae0a5b36424495daa6a9d37cf491f7f",
       "version_major": 2,
       "version_minor": 0
      },
      "text/plain": [
       "  0%|          | 0/1500 [00:00<?, ?it/s]"
      ]
     },
     "metadata": {},
     "output_type": "display_data"
    },
    {
     "data": {
      "application/vnd.jupyter.widget-view+json": {
       "model_id": "56209ece04354e20b5cebea0ee3f5055",
       "version_major": 2,
       "version_minor": 0
      },
      "text/plain": [
       "  0%|          | 0/1500 [00:00<?, ?it/s]"
      ]
     },
     "metadata": {},
     "output_type": "display_data"
    },
    {
     "data": {
      "application/vnd.jupyter.widget-view+json": {
       "model_id": "ea5f017f483043fba070a53446b3a37d",
       "version_major": 2,
       "version_minor": 0
      },
      "text/plain": [
       "  0%|          | 0/1500 [00:00<?, ?it/s]"
      ]
     },
     "metadata": {},
     "output_type": "display_data"
    },
    {
     "data": {
      "application/vnd.jupyter.widget-view+json": {
       "model_id": "2c8725d9a187467cb8cbb25507a78774",
       "version_major": 2,
       "version_minor": 0
      },
      "text/plain": [
       "  0%|          | 0/1500 [00:00<?, ?it/s]"
      ]
     },
     "metadata": {},
     "output_type": "display_data"
    },
    {
     "name": "stderr",
     "output_type": "stream",
     "text": [
      "2023-09-27 20:29:55,358 - hbmep.utils.utils - INFO - func:run_inference took: 17.63 sec\n",
      "2023-09-27 20:29:55,359 - __main__ - INFO - Predicting ...\n",
      "2023-09-27 20:29:55,363 - hbmep.utils.utils - INFO - func:make_prediction_dataset took: 0.00 sec\n",
      "2023-09-27 20:29:56,305 - hbmep.utils.utils - INFO - func:predict took: 0.94 sec\n",
      "2023-09-27 20:29:56,306 - __main__ - INFO - Plotting recruitment curves ...\n",
      "2023-09-27 20:29:56,309 - hbmep.model.baseline - INFO - Rendering ...\n",
      "2023-09-27 20:29:57,020 - hbmep.model.baseline - INFO - Saved to /home/vishu/repos/hbmep-paper/reports/human/intraoperative/power-analysis/draw_3728/N_2/seed_677/recruitment_curves.pdf\n",
      "2023-09-27 20:29:57,020 - hbmep.utils.utils - INFO - func:render_recruitment_curves took: 0.71 sec\n",
      "2023-09-27 20:29:57,021 - __main__ - INFO - Plotting posterior checks ...\n",
      "2023-09-27 20:29:57,025 - hbmep.model.baseline - INFO - Rendering Posterior Predictive Check ...\n",
      "2023-09-27 20:29:57,879 - hbmep.model.baseline - INFO - Saved to /home/vishu/repos/hbmep-paper/reports/human/intraoperative/power-analysis/draw_3728/N_2/seed_677/posterior_predictive_check.pdf\n",
      "2023-09-27 20:29:57,880 - hbmep.utils.utils - INFO - func:_render_predictive_check took: 0.86 sec\n",
      "2023-09-27 20:29:57,880 - hbmep.utils.utils - INFO - func:render_predictive_check took: 0.86 sec\n",
      "2023-09-27 20:29:59,992 - __main__ - INFO - \n",
      "\n",
      "Draw:3/50, N:2/6, Repeat:1/10\n",
      "2023-09-27 20:29:59,994 - __main__ - INFO - Seed:339, Subjects: 67, 138, 116, 43\n",
      "2023-09-27 20:29:59,995 - hbmep.config - INFO - Verifying configuration ...\n",
      "2023-09-27 20:29:59,995 - hbmep.config - INFO - Success!\n",
      "2023-09-27 20:29:59,996 - hbmep.model.baseline - INFO - Initialized model with hierarchical_bayesian link\n",
      "2023-09-27 20:29:59,996 - hbmep.dataset.core - INFO - Artefacts will be stored here - /home/vishu/repos/hbmep-paper/reports/human/intraoperative/power-analysis/draw_3728/N_4/seed_339\n",
      "2023-09-27 20:29:59,997 - hbmep.dataset.core - INFO - Copied config to /home/vishu/repos/hbmep-paper/reports/human/intraoperative/power-analysis/draw_3728/N_4/seed_339\n",
      "2023-09-27 20:29:59,997 - hbmep.dataset.core - INFO - Processing data ...\n",
      "2023-09-27 20:29:59,998 - hbmep.utils.utils - INFO - func:load took: 0.00 sec\n",
      "2023-09-27 20:29:59,998 - __main__ - INFO - Fitting ...\n",
      "2023-09-27 20:29:59,999 - hbmep.model.baseline - INFO - Running inference with hierarchical_bayesian ...\n"
     ]
    },
    {
     "data": {
      "application/vnd.jupyter.widget-view+json": {
       "model_id": "3e311bdca06341cba08097e13d90dacd",
       "version_major": 2,
       "version_minor": 0
      },
      "text/plain": [
       "  0%|          | 0/1500 [00:00<?, ?it/s]"
      ]
     },
     "metadata": {},
     "output_type": "display_data"
    },
    {
     "data": {
      "application/vnd.jupyter.widget-view+json": {
       "model_id": "ce2743b51e6641b2959cb13a53856e5d",
       "version_major": 2,
       "version_minor": 0
      },
      "text/plain": [
       "  0%|          | 0/1500 [00:00<?, ?it/s]"
      ]
     },
     "metadata": {},
     "output_type": "display_data"
    },
    {
     "data": {
      "application/vnd.jupyter.widget-view+json": {
       "model_id": "581294561fff4abdbf8c3b45258ade72",
       "version_major": 2,
       "version_minor": 0
      },
      "text/plain": [
       "  0%|          | 0/1500 [00:00<?, ?it/s]"
      ]
     },
     "metadata": {},
     "output_type": "display_data"
    },
    {
     "data": {
      "application/vnd.jupyter.widget-view+json": {
       "model_id": "e23811e9eb1947ed8f3aa2dd924ae48e",
       "version_major": 2,
       "version_minor": 0
      },
      "text/plain": [
       "  0%|          | 0/1500 [00:00<?, ?it/s]"
      ]
     },
     "metadata": {},
     "output_type": "display_data"
    },
    {
     "name": "stderr",
     "output_type": "stream",
     "text": [
      "2023-09-27 20:30:24,416 - hbmep.utils.utils - INFO - func:run_inference took: 24.42 sec\n",
      "2023-09-27 20:30:24,416 - __main__ - INFO - Predicting ...\n",
      "2023-09-27 20:30:24,421 - hbmep.utils.utils - INFO - func:make_prediction_dataset took: 0.00 sec\n",
      "2023-09-27 20:30:25,891 - hbmep.utils.utils - INFO - func:predict took: 1.47 sec\n",
      "2023-09-27 20:30:25,891 - __main__ - INFO - Plotting recruitment curves ...\n",
      "2023-09-27 20:30:25,896 - hbmep.model.baseline - INFO - Rendering ...\n",
      "2023-09-27 20:30:27,405 - hbmep.model.baseline - INFO - Saved to /home/vishu/repos/hbmep-paper/reports/human/intraoperative/power-analysis/draw_3728/N_4/seed_339/recruitment_curves.pdf\n",
      "2023-09-27 20:30:27,405 - hbmep.utils.utils - INFO - func:render_recruitment_curves took: 1.51 sec\n",
      "2023-09-27 20:30:27,405 - __main__ - INFO - Plotting posterior checks ...\n",
      "2023-09-27 20:30:27,411 - hbmep.model.baseline - INFO - Rendering Posterior Predictive Check ...\n",
      "2023-09-27 20:30:29,072 - hbmep.model.baseline - INFO - Saved to /home/vishu/repos/hbmep-paper/reports/human/intraoperative/power-analysis/draw_3728/N_4/seed_339/posterior_predictive_check.pdf\n",
      "2023-09-27 20:30:29,072 - hbmep.utils.utils - INFO - func:_render_predictive_check took: 1.67 sec\n",
      "2023-09-27 20:30:29,072 - hbmep.utils.utils - INFO - func:render_predictive_check took: 1.67 sec\n",
      "2023-09-27 20:30:31,243 - __main__ - INFO - \n",
      "\n",
      "Draw:3/50, N:2/6, Repeat:2/10\n",
      "2023-09-27 20:30:31,246 - __main__ - INFO - Seed:777, Subjects: 23, 34, 144, 97\n",
      "2023-09-27 20:30:31,247 - hbmep.config - INFO - Verifying configuration ...\n",
      "2023-09-27 20:30:31,247 - hbmep.config - INFO - Success!\n",
      "2023-09-27 20:30:31,247 - hbmep.model.baseline - INFO - Initialized model with hierarchical_bayesian link\n",
      "2023-09-27 20:30:31,247 - hbmep.dataset.core - INFO - Artefacts will be stored here - /home/vishu/repos/hbmep-paper/reports/human/intraoperative/power-analysis/draw_3728/N_4/seed_777\n",
      "2023-09-27 20:30:31,248 - hbmep.dataset.core - INFO - Copied config to /home/vishu/repos/hbmep-paper/reports/human/intraoperative/power-analysis/draw_3728/N_4/seed_777\n",
      "2023-09-27 20:30:31,248 - hbmep.dataset.core - INFO - Processing data ...\n",
      "2023-09-27 20:30:31,249 - hbmep.utils.utils - INFO - func:load took: 0.00 sec\n",
      "2023-09-27 20:30:31,249 - __main__ - INFO - Fitting ...\n",
      "2023-09-27 20:30:31,250 - hbmep.model.baseline - INFO - Running inference with hierarchical_bayesian ...\n"
     ]
    },
    {
     "data": {
      "application/vnd.jupyter.widget-view+json": {
       "model_id": "1559429b7d324ee2a7540b077ae5681c",
       "version_major": 2,
       "version_minor": 0
      },
      "text/plain": [
       "  0%|          | 0/1500 [00:00<?, ?it/s]"
      ]
     },
     "metadata": {},
     "output_type": "display_data"
    },
    {
     "data": {
      "application/vnd.jupyter.widget-view+json": {
       "model_id": "fe2d641b3168434d87352402cd6d9cc7",
       "version_major": 2,
       "version_minor": 0
      },
      "text/plain": [
       "  0%|          | 0/1500 [00:00<?, ?it/s]"
      ]
     },
     "metadata": {},
     "output_type": "display_data"
    },
    {
     "data": {
      "application/vnd.jupyter.widget-view+json": {
       "model_id": "f17a2cec5d15409b840d4b2f34f674f3",
       "version_major": 2,
       "version_minor": 0
      },
      "text/plain": [
       "  0%|          | 0/1500 [00:00<?, ?it/s]"
      ]
     },
     "metadata": {},
     "output_type": "display_data"
    },
    {
     "data": {
      "application/vnd.jupyter.widget-view+json": {
       "model_id": "7c1edc76cdbf46e69a3333386ff2fb3a",
       "version_major": 2,
       "version_minor": 0
      },
      "text/plain": [
       "  0%|          | 0/1500 [00:00<?, ?it/s]"
      ]
     },
     "metadata": {},
     "output_type": "display_data"
    },
    {
     "name": "stderr",
     "output_type": "stream",
     "text": [
      "2023-09-27 20:30:54,556 - hbmep.utils.utils - INFO - func:run_inference took: 23.31 sec\n",
      "2023-09-27 20:30:54,557 - __main__ - INFO - Predicting ...\n",
      "2023-09-27 20:30:54,561 - hbmep.utils.utils - INFO - func:make_prediction_dataset took: 0.00 sec\n",
      "2023-09-27 20:30:56,023 - hbmep.utils.utils - INFO - func:predict took: 1.46 sec\n",
      "2023-09-27 20:30:56,024 - __main__ - INFO - Plotting recruitment curves ...\n",
      "2023-09-27 20:30:56,029 - hbmep.model.baseline - INFO - Rendering ...\n",
      "2023-09-27 20:30:57,543 - hbmep.model.baseline - INFO - Saved to /home/vishu/repos/hbmep-paper/reports/human/intraoperative/power-analysis/draw_3728/N_4/seed_777/recruitment_curves.pdf\n",
      "2023-09-27 20:30:57,543 - hbmep.utils.utils - INFO - func:render_recruitment_curves took: 1.52 sec\n",
      "2023-09-27 20:30:57,544 - __main__ - INFO - Plotting posterior checks ...\n",
      "2023-09-27 20:30:57,550 - hbmep.model.baseline - INFO - Rendering Posterior Predictive Check ...\n",
      "2023-09-27 20:30:59,256 - hbmep.model.baseline - INFO - Saved to /home/vishu/repos/hbmep-paper/reports/human/intraoperative/power-analysis/draw_3728/N_4/seed_777/posterior_predictive_check.pdf\n",
      "2023-09-27 20:30:59,257 - hbmep.utils.utils - INFO - func:_render_predictive_check took: 1.71 sec\n",
      "2023-09-27 20:30:59,257 - hbmep.utils.utils - INFO - func:render_predictive_check took: 1.71 sec\n",
      "2023-09-27 20:31:01,495 - __main__ - INFO - \n",
      "\n",
      "Draw:3/50, N:2/6, Repeat:3/10\n",
      "2023-09-27 20:31:01,497 - __main__ - INFO - Seed:129, Subjects: 151, 192, 17, 74\n",
      "2023-09-27 20:31:01,498 - hbmep.config - INFO - Verifying configuration ...\n",
      "2023-09-27 20:31:01,499 - hbmep.config - INFO - Success!\n",
      "2023-09-27 20:31:01,499 - hbmep.model.baseline - INFO - Initialized model with hierarchical_bayesian link\n",
      "2023-09-27 20:31:01,499 - hbmep.dataset.core - INFO - Artefacts will be stored here - /home/vishu/repos/hbmep-paper/reports/human/intraoperative/power-analysis/draw_3728/N_4/seed_129\n",
      "2023-09-27 20:31:01,499 - hbmep.dataset.core - INFO - Copied config to /home/vishu/repos/hbmep-paper/reports/human/intraoperative/power-analysis/draw_3728/N_4/seed_129\n",
      "2023-09-27 20:31:01,500 - hbmep.dataset.core - INFO - Processing data ...\n",
      "2023-09-27 20:31:01,501 - hbmep.utils.utils - INFO - func:load took: 0.00 sec\n",
      "2023-09-27 20:31:01,501 - __main__ - INFO - Fitting ...\n",
      "2023-09-27 20:31:01,501 - hbmep.model.baseline - INFO - Running inference with hierarchical_bayesian ...\n"
     ]
    },
    {
     "data": {
      "application/vnd.jupyter.widget-view+json": {
       "model_id": "1feb7d9981584d318e7918b36683ff23",
       "version_major": 2,
       "version_minor": 0
      },
      "text/plain": [
       "  0%|          | 0/1500 [00:00<?, ?it/s]"
      ]
     },
     "metadata": {},
     "output_type": "display_data"
    },
    {
     "data": {
      "application/vnd.jupyter.widget-view+json": {
       "model_id": "75e440d3a34b4e6eb65d8acf46a5fde7",
       "version_major": 2,
       "version_minor": 0
      },
      "text/plain": [
       "  0%|          | 0/1500 [00:00<?, ?it/s]"
      ]
     },
     "metadata": {},
     "output_type": "display_data"
    },
    {
     "data": {
      "application/vnd.jupyter.widget-view+json": {
       "model_id": "b2423f044154409cbd9b7a10b773f375",
       "version_major": 2,
       "version_minor": 0
      },
      "text/plain": [
       "  0%|          | 0/1500 [00:00<?, ?it/s]"
      ]
     },
     "metadata": {},
     "output_type": "display_data"
    },
    {
     "data": {
      "application/vnd.jupyter.widget-view+json": {
       "model_id": "e166dddd343146f7872736773a9baddb",
       "version_major": 2,
       "version_minor": 0
      },
      "text/plain": [
       "  0%|          | 0/1500 [00:00<?, ?it/s]"
      ]
     },
     "metadata": {},
     "output_type": "display_data"
    },
    {
     "name": "stderr",
     "output_type": "stream",
     "text": [
      "2023-09-27 20:31:29,747 - hbmep.utils.utils - INFO - func:run_inference took: 28.25 sec\n",
      "2023-09-27 20:31:29,748 - __main__ - INFO - Predicting ...\n",
      "2023-09-27 20:31:29,752 - hbmep.utils.utils - INFO - func:make_prediction_dataset took: 0.00 sec\n",
      "2023-09-27 20:31:31,223 - hbmep.utils.utils - INFO - func:predict took: 1.47 sec\n",
      "2023-09-27 20:31:31,223 - __main__ - INFO - Plotting recruitment curves ...\n",
      "2023-09-27 20:31:31,229 - hbmep.model.baseline - INFO - Rendering ...\n",
      "2023-09-27 20:31:32,631 - hbmep.model.baseline - INFO - Saved to /home/vishu/repos/hbmep-paper/reports/human/intraoperative/power-analysis/draw_3728/N_4/seed_129/recruitment_curves.pdf\n",
      "2023-09-27 20:31:32,632 - hbmep.utils.utils - INFO - func:render_recruitment_curves took: 1.41 sec\n",
      "2023-09-27 20:31:32,632 - __main__ - INFO - Plotting posterior checks ...\n",
      "2023-09-27 20:31:32,638 - hbmep.model.baseline - INFO - Rendering Posterior Predictive Check ...\n",
      "2023-09-27 20:31:34,354 - hbmep.model.baseline - INFO - Saved to /home/vishu/repos/hbmep-paper/reports/human/intraoperative/power-analysis/draw_3728/N_4/seed_129/posterior_predictive_check.pdf\n",
      "2023-09-27 20:31:34,354 - hbmep.utils.utils - INFO - func:_render_predictive_check took: 1.72 sec\n",
      "2023-09-27 20:31:34,355 - hbmep.utils.utils - INFO - func:render_predictive_check took: 1.72 sec\n",
      "2023-09-27 20:31:36,594 - __main__ - INFO - \n",
      "\n",
      "Draw:3/50, N:2/6, Repeat:4/10\n",
      "2023-09-27 20:31:36,597 - __main__ - INFO - Seed:822, Subjects: 98, 32, 121, 186\n",
      "2023-09-27 20:31:36,598 - hbmep.config - INFO - Verifying configuration ...\n",
      "2023-09-27 20:31:36,598 - hbmep.config - INFO - Success!\n",
      "2023-09-27 20:31:36,598 - hbmep.model.baseline - INFO - Initialized model with hierarchical_bayesian link\n",
      "2023-09-27 20:31:36,599 - hbmep.dataset.core - INFO - Artefacts will be stored here - /home/vishu/repos/hbmep-paper/reports/human/intraoperative/power-analysis/draw_3728/N_4/seed_822\n",
      "2023-09-27 20:31:36,599 - hbmep.dataset.core - INFO - Copied config to /home/vishu/repos/hbmep-paper/reports/human/intraoperative/power-analysis/draw_3728/N_4/seed_822\n",
      "2023-09-27 20:31:36,599 - hbmep.dataset.core - INFO - Processing data ...\n",
      "2023-09-27 20:31:36,600 - hbmep.utils.utils - INFO - func:load took: 0.00 sec\n",
      "2023-09-27 20:31:36,600 - __main__ - INFO - Fitting ...\n",
      "2023-09-27 20:31:36,601 - hbmep.model.baseline - INFO - Running inference with hierarchical_bayesian ...\n"
     ]
    },
    {
     "data": {
      "application/vnd.jupyter.widget-view+json": {
       "model_id": "f9918d3f66db41a0b3ff1d38d3275724",
       "version_major": 2,
       "version_minor": 0
      },
      "text/plain": [
       "  0%|          | 0/1500 [00:00<?, ?it/s]"
      ]
     },
     "metadata": {},
     "output_type": "display_data"
    },
    {
     "data": {
      "application/vnd.jupyter.widget-view+json": {
       "model_id": "69fdba96cd9840258b88623a05f8dfd6",
       "version_major": 2,
       "version_minor": 0
      },
      "text/plain": [
       "  0%|          | 0/1500 [00:00<?, ?it/s]"
      ]
     },
     "metadata": {},
     "output_type": "display_data"
    },
    {
     "data": {
      "application/vnd.jupyter.widget-view+json": {
       "model_id": "c0c63efde04d4342867d0d21a38da3bc",
       "version_major": 2,
       "version_minor": 0
      },
      "text/plain": [
       "  0%|          | 0/1500 [00:00<?, ?it/s]"
      ]
     },
     "metadata": {},
     "output_type": "display_data"
    },
    {
     "data": {
      "application/vnd.jupyter.widget-view+json": {
       "model_id": "74101c04d66d45e2b63a61faa56f4ee0",
       "version_major": 2,
       "version_minor": 0
      },
      "text/plain": [
       "  0%|          | 0/1500 [00:00<?, ?it/s]"
      ]
     },
     "metadata": {},
     "output_type": "display_data"
    },
    {
     "name": "stderr",
     "output_type": "stream",
     "text": [
      "2023-09-27 20:31:57,405 - hbmep.utils.utils - INFO - func:run_inference took: 20.80 sec\n",
      "2023-09-27 20:31:57,405 - __main__ - INFO - Predicting ...\n",
      "2023-09-27 20:31:57,410 - hbmep.utils.utils - INFO - func:make_prediction_dataset took: 0.00 sec\n",
      "2023-09-27 20:31:58,878 - hbmep.utils.utils - INFO - func:predict took: 1.47 sec\n",
      "2023-09-27 20:31:58,878 - __main__ - INFO - Plotting recruitment curves ...\n",
      "2023-09-27 20:31:58,883 - hbmep.model.baseline - INFO - Rendering ...\n",
      "2023-09-27 20:32:00,305 - hbmep.model.baseline - INFO - Saved to /home/vishu/repos/hbmep-paper/reports/human/intraoperative/power-analysis/draw_3728/N_4/seed_822/recruitment_curves.pdf\n",
      "2023-09-27 20:32:00,305 - hbmep.utils.utils - INFO - func:render_recruitment_curves took: 1.43 sec\n",
      "2023-09-27 20:32:00,306 - __main__ - INFO - Plotting posterior checks ...\n",
      "2023-09-27 20:32:00,312 - hbmep.model.baseline - INFO - Rendering Posterior Predictive Check ...\n",
      "2023-09-27 20:32:02,029 - hbmep.model.baseline - INFO - Saved to /home/vishu/repos/hbmep-paper/reports/human/intraoperative/power-analysis/draw_3728/N_4/seed_822/posterior_predictive_check.pdf\n",
      "2023-09-27 20:32:02,029 - hbmep.utils.utils - INFO - func:_render_predictive_check took: 1.72 sec\n",
      "2023-09-27 20:32:02,030 - hbmep.utils.utils - INFO - func:render_predictive_check took: 1.72 sec\n",
      "2023-09-27 20:32:04,288 - __main__ - INFO - \n",
      "\n",
      "Draw:3/50, N:2/6, Repeat:5/10\n",
      "2023-09-27 20:32:04,290 - __main__ - INFO - Seed:616, Subjects: 130, 39, 87, 96\n",
      "2023-09-27 20:32:04,291 - hbmep.config - INFO - Verifying configuration ...\n",
      "2023-09-27 20:32:04,292 - hbmep.config - INFO - Success!\n",
      "2023-09-27 20:32:04,292 - hbmep.model.baseline - INFO - Initialized model with hierarchical_bayesian link\n",
      "2023-09-27 20:32:04,292 - hbmep.dataset.core - INFO - Artefacts will be stored here - /home/vishu/repos/hbmep-paper/reports/human/intraoperative/power-analysis/draw_3728/N_4/seed_616\n",
      "2023-09-27 20:32:04,293 - hbmep.dataset.core - INFO - Copied config to /home/vishu/repos/hbmep-paper/reports/human/intraoperative/power-analysis/draw_3728/N_4/seed_616\n",
      "2023-09-27 20:32:04,293 - hbmep.dataset.core - INFO - Processing data ...\n",
      "2023-09-27 20:32:04,294 - hbmep.utils.utils - INFO - func:load took: 0.00 sec\n",
      "2023-09-27 20:32:04,294 - __main__ - INFO - Fitting ...\n",
      "2023-09-27 20:32:04,295 - hbmep.model.baseline - INFO - Running inference with hierarchical_bayesian ...\n"
     ]
    },
    {
     "data": {
      "application/vnd.jupyter.widget-view+json": {
       "model_id": "b3741267dd6e4ab682eaae7b50397e28",
       "version_major": 2,
       "version_minor": 0
      },
      "text/plain": [
       "  0%|          | 0/1500 [00:00<?, ?it/s]"
      ]
     },
     "metadata": {},
     "output_type": "display_data"
    },
    {
     "data": {
      "application/vnd.jupyter.widget-view+json": {
       "model_id": "9e8ab7a5774345b1b7f44f5fec3dda0d",
       "version_major": 2,
       "version_minor": 0
      },
      "text/plain": [
       "  0%|          | 0/1500 [00:00<?, ?it/s]"
      ]
     },
     "metadata": {},
     "output_type": "display_data"
    },
    {
     "data": {
      "application/vnd.jupyter.widget-view+json": {
       "model_id": "563ae28a58e3495aac0ae58a51c513a8",
       "version_major": 2,
       "version_minor": 0
      },
      "text/plain": [
       "  0%|          | 0/1500 [00:00<?, ?it/s]"
      ]
     },
     "metadata": {},
     "output_type": "display_data"
    },
    {
     "data": {
      "application/vnd.jupyter.widget-view+json": {
       "model_id": "088bff34371e446290d4dded59adcb02",
       "version_major": 2,
       "version_minor": 0
      },
      "text/plain": [
       "  0%|          | 0/1500 [00:00<?, ?it/s]"
      ]
     },
     "metadata": {},
     "output_type": "display_data"
    },
    {
     "name": "stderr",
     "output_type": "stream",
     "text": [
      "2023-09-27 20:32:43,289 - hbmep.utils.utils - INFO - func:run_inference took: 38.99 sec\n",
      "2023-09-27 20:32:43,290 - __main__ - INFO - Predicting ...\n",
      "2023-09-27 20:32:43,295 - hbmep.utils.utils - INFO - func:make_prediction_dataset took: 0.00 sec\n",
      "2023-09-27 20:32:44,767 - hbmep.utils.utils - INFO - func:predict took: 1.47 sec\n",
      "2023-09-27 20:32:44,768 - __main__ - INFO - Plotting recruitment curves ...\n",
      "2023-09-27 20:32:44,773 - hbmep.model.baseline - INFO - Rendering ...\n",
      "2023-09-27 20:32:46,183 - hbmep.model.baseline - INFO - Saved to /home/vishu/repos/hbmep-paper/reports/human/intraoperative/power-analysis/draw_3728/N_4/seed_616/recruitment_curves.pdf\n",
      "2023-09-27 20:32:46,184 - hbmep.utils.utils - INFO - func:render_recruitment_curves took: 1.42 sec\n",
      "2023-09-27 20:32:46,184 - __main__ - INFO - Plotting posterior checks ...\n",
      "2023-09-27 20:32:46,190 - hbmep.model.baseline - INFO - Rendering Posterior Predictive Check ...\n",
      "2023-09-27 20:32:47,894 - hbmep.model.baseline - INFO - Saved to /home/vishu/repos/hbmep-paper/reports/human/intraoperative/power-analysis/draw_3728/N_4/seed_616/posterior_predictive_check.pdf\n",
      "2023-09-27 20:32:47,894 - hbmep.utils.utils - INFO - func:_render_predictive_check took: 1.71 sec\n",
      "2023-09-27 20:32:47,895 - hbmep.utils.utils - INFO - func:render_predictive_check took: 1.71 sec\n",
      "2023-09-27 20:32:50,189 - __main__ - INFO - \n",
      "\n",
      "Draw:3/50, N:2/6, Repeat:6/10\n",
      "2023-09-27 20:32:50,192 - __main__ - INFO - Seed:214, Subjects: 120, 179, 25, 125\n",
      "2023-09-27 20:32:50,193 - hbmep.config - INFO - Verifying configuration ...\n",
      "2023-09-27 20:32:50,193 - hbmep.config - INFO - Success!\n",
      "2023-09-27 20:32:50,194 - hbmep.model.baseline - INFO - Initialized model with hierarchical_bayesian link\n",
      "2023-09-27 20:32:50,194 - hbmep.dataset.core - INFO - Artefacts will be stored here - /home/vishu/repos/hbmep-paper/reports/human/intraoperative/power-analysis/draw_3728/N_4/seed_214\n",
      "2023-09-27 20:32:50,194 - hbmep.dataset.core - INFO - Copied config to /home/vishu/repos/hbmep-paper/reports/human/intraoperative/power-analysis/draw_3728/N_4/seed_214\n",
      "2023-09-27 20:32:50,195 - hbmep.dataset.core - INFO - Processing data ...\n",
      "2023-09-27 20:32:50,196 - hbmep.utils.utils - INFO - func:load took: 0.00 sec\n",
      "2023-09-27 20:32:50,196 - __main__ - INFO - Fitting ...\n",
      "2023-09-27 20:32:50,197 - hbmep.model.baseline - INFO - Running inference with hierarchical_bayesian ...\n"
     ]
    },
    {
     "data": {
      "application/vnd.jupyter.widget-view+json": {
       "model_id": "a54a2f3938f142ce8d831ef01bfab54d",
       "version_major": 2,
       "version_minor": 0
      },
      "text/plain": [
       "  0%|          | 0/1500 [00:00<?, ?it/s]"
      ]
     },
     "metadata": {},
     "output_type": "display_data"
    },
    {
     "data": {
      "application/vnd.jupyter.widget-view+json": {
       "model_id": "c72867d8a67040819d4f8408df2c6fac",
       "version_major": 2,
       "version_minor": 0
      },
      "text/plain": [
       "  0%|          | 0/1500 [00:00<?, ?it/s]"
      ]
     },
     "metadata": {},
     "output_type": "display_data"
    },
    {
     "data": {
      "application/vnd.jupyter.widget-view+json": {
       "model_id": "194f055f4e754bfc941d737ecc12d4df",
       "version_major": 2,
       "version_minor": 0
      },
      "text/plain": [
       "  0%|          | 0/1500 [00:00<?, ?it/s]"
      ]
     },
     "metadata": {},
     "output_type": "display_data"
    },
    {
     "data": {
      "application/vnd.jupyter.widget-view+json": {
       "model_id": "5efec88668e44531bbd2992995fa2831",
       "version_major": 2,
       "version_minor": 0
      },
      "text/plain": [
       "  0%|          | 0/1500 [00:00<?, ?it/s]"
      ]
     },
     "metadata": {},
     "output_type": "display_data"
    },
    {
     "name": "stderr",
     "output_type": "stream",
     "text": [
      "2023-09-27 20:33:15,922 - hbmep.utils.utils - INFO - func:run_inference took: 25.73 sec\n",
      "2023-09-27 20:33:15,923 - __main__ - INFO - Predicting ...\n",
      "2023-09-27 20:33:15,927 - hbmep.utils.utils - INFO - func:make_prediction_dataset took: 0.00 sec\n",
      "2023-09-27 20:33:17,391 - hbmep.utils.utils - INFO - func:predict took: 1.46 sec\n",
      "2023-09-27 20:33:17,392 - __main__ - INFO - Plotting recruitment curves ...\n",
      "2023-09-27 20:33:17,397 - hbmep.model.baseline - INFO - Rendering ...\n",
      "2023-09-27 20:33:18,794 - hbmep.model.baseline - INFO - Saved to /home/vishu/repos/hbmep-paper/reports/human/intraoperative/power-analysis/draw_3728/N_4/seed_214/recruitment_curves.pdf\n",
      "2023-09-27 20:33:18,795 - hbmep.utils.utils - INFO - func:render_recruitment_curves took: 1.40 sec\n",
      "2023-09-27 20:33:18,795 - __main__ - INFO - Plotting posterior checks ...\n",
      "2023-09-27 20:33:18,801 - hbmep.model.baseline - INFO - Rendering Posterior Predictive Check ...\n",
      "2023-09-27 20:33:20,490 - hbmep.model.baseline - INFO - Saved to /home/vishu/repos/hbmep-paper/reports/human/intraoperative/power-analysis/draw_3728/N_4/seed_214/posterior_predictive_check.pdf\n",
      "2023-09-27 20:33:20,490 - hbmep.utils.utils - INFO - func:_render_predictive_check took: 1.70 sec\n",
      "2023-09-27 20:33:20,491 - hbmep.utils.utils - INFO - func:render_predictive_check took: 1.70 sec\n",
      "2023-09-27 20:33:22,783 - __main__ - INFO - \n",
      "\n",
      "Draw:3/50, N:2/6, Repeat:7/10\n",
      "2023-09-27 20:33:22,785 - __main__ - INFO - Seed:204, Subjects: 195, 25, 42, 54\n",
      "2023-09-27 20:33:22,786 - hbmep.config - INFO - Verifying configuration ...\n",
      "2023-09-27 20:33:22,787 - hbmep.config - INFO - Success!\n",
      "2023-09-27 20:33:22,787 - hbmep.model.baseline - INFO - Initialized model with hierarchical_bayesian link\n",
      "2023-09-27 20:33:22,787 - hbmep.dataset.core - INFO - Artefacts will be stored here - /home/vishu/repos/hbmep-paper/reports/human/intraoperative/power-analysis/draw_3728/N_4/seed_204\n",
      "2023-09-27 20:33:22,787 - hbmep.dataset.core - INFO - Copied config to /home/vishu/repos/hbmep-paper/reports/human/intraoperative/power-analysis/draw_3728/N_4/seed_204\n",
      "2023-09-27 20:33:22,788 - hbmep.dataset.core - INFO - Processing data ...\n",
      "2023-09-27 20:33:22,789 - hbmep.utils.utils - INFO - func:load took: 0.00 sec\n",
      "2023-09-27 20:33:22,789 - __main__ - INFO - Fitting ...\n",
      "2023-09-27 20:33:22,789 - hbmep.model.baseline - INFO - Running inference with hierarchical_bayesian ...\n"
     ]
    },
    {
     "data": {
      "application/vnd.jupyter.widget-view+json": {
       "model_id": "4f538cb6b0a049ba892a2e05bfddf139",
       "version_major": 2,
       "version_minor": 0
      },
      "text/plain": [
       "  0%|          | 0/1500 [00:00<?, ?it/s]"
      ]
     },
     "metadata": {},
     "output_type": "display_data"
    },
    {
     "data": {
      "application/vnd.jupyter.widget-view+json": {
       "model_id": "37e523ec8fe0460083edab238dad886a",
       "version_major": 2,
       "version_minor": 0
      },
      "text/plain": [
       "  0%|          | 0/1500 [00:00<?, ?it/s]"
      ]
     },
     "metadata": {},
     "output_type": "display_data"
    },
    {
     "data": {
      "application/vnd.jupyter.widget-view+json": {
       "model_id": "9bf49c7c58494c27bb2785c794759521",
       "version_major": 2,
       "version_minor": 0
      },
      "text/plain": [
       "  0%|          | 0/1500 [00:00<?, ?it/s]"
      ]
     },
     "metadata": {},
     "output_type": "display_data"
    },
    {
     "data": {
      "application/vnd.jupyter.widget-view+json": {
       "model_id": "5ba73915fe6f4e04871902676e882d66",
       "version_major": 2,
       "version_minor": 0
      },
      "text/plain": [
       "  0%|          | 0/1500 [00:00<?, ?it/s]"
      ]
     },
     "metadata": {},
     "output_type": "display_data"
    },
    {
     "name": "stderr",
     "output_type": "stream",
     "text": [
      "2023-09-27 20:33:42,949 - hbmep.utils.utils - INFO - func:run_inference took: 20.16 sec\n",
      "2023-09-27 20:33:42,949 - __main__ - INFO - Predicting ...\n",
      "2023-09-27 20:33:42,954 - hbmep.utils.utils - INFO - func:make_prediction_dataset took: 0.00 sec\n",
      "2023-09-27 20:33:44,422 - hbmep.utils.utils - INFO - func:predict took: 1.47 sec\n",
      "2023-09-27 20:33:44,423 - __main__ - INFO - Plotting recruitment curves ...\n",
      "2023-09-27 20:33:44,428 - hbmep.model.baseline - INFO - Rendering ...\n",
      "2023-09-27 20:33:45,835 - hbmep.model.baseline - INFO - Saved to /home/vishu/repos/hbmep-paper/reports/human/intraoperative/power-analysis/draw_3728/N_4/seed_204/recruitment_curves.pdf\n",
      "2023-09-27 20:33:45,835 - hbmep.utils.utils - INFO - func:render_recruitment_curves took: 1.41 sec\n",
      "2023-09-27 20:33:45,835 - __main__ - INFO - Plotting posterior checks ...\n",
      "2023-09-27 20:33:45,842 - hbmep.model.baseline - INFO - Rendering Posterior Predictive Check ...\n",
      "2023-09-27 20:33:47,506 - hbmep.model.baseline - INFO - Saved to /home/vishu/repos/hbmep-paper/reports/human/intraoperative/power-analysis/draw_3728/N_4/seed_204/posterior_predictive_check.pdf\n",
      "2023-09-27 20:33:47,506 - hbmep.utils.utils - INFO - func:_render_predictive_check took: 1.67 sec\n",
      "2023-09-27 20:33:47,507 - hbmep.utils.utils - INFO - func:render_predictive_check took: 1.67 sec\n",
      "2023-09-27 20:33:49,809 - __main__ - INFO - \n",
      "\n",
      "Draw:3/50, N:2/6, Repeat:8/10\n",
      "2023-09-27 20:33:49,811 - __main__ - INFO - Seed:912, Subjects: 108, 85, 144, 90\n",
      "2023-09-27 20:33:49,812 - hbmep.config - INFO - Verifying configuration ...\n",
      "2023-09-27 20:33:49,812 - hbmep.config - INFO - Success!\n",
      "2023-09-27 20:33:49,812 - hbmep.model.baseline - INFO - Initialized model with hierarchical_bayesian link\n",
      "2023-09-27 20:33:49,813 - hbmep.dataset.core - INFO - Artefacts will be stored here - /home/vishu/repos/hbmep-paper/reports/human/intraoperative/power-analysis/draw_3728/N_4/seed_912\n",
      "2023-09-27 20:33:49,813 - hbmep.dataset.core - INFO - Copied config to /home/vishu/repos/hbmep-paper/reports/human/intraoperative/power-analysis/draw_3728/N_4/seed_912\n",
      "2023-09-27 20:33:49,814 - hbmep.dataset.core - INFO - Processing data ...\n",
      "2023-09-27 20:33:49,814 - hbmep.utils.utils - INFO - func:load took: 0.00 sec\n",
      "2023-09-27 20:33:49,815 - __main__ - INFO - Fitting ...\n",
      "2023-09-27 20:33:49,815 - hbmep.model.baseline - INFO - Running inference with hierarchical_bayesian ...\n"
     ]
    },
    {
     "data": {
      "application/vnd.jupyter.widget-view+json": {
       "model_id": "0db6afd716ee426aab68706f480a97d8",
       "version_major": 2,
       "version_minor": 0
      },
      "text/plain": [
       "  0%|          | 0/1500 [00:00<?, ?it/s]"
      ]
     },
     "metadata": {},
     "output_type": "display_data"
    },
    {
     "data": {
      "application/vnd.jupyter.widget-view+json": {
       "model_id": "0941409fd9ff4e95898e1324595cde72",
       "version_major": 2,
       "version_minor": 0
      },
      "text/plain": [
       "  0%|          | 0/1500 [00:00<?, ?it/s]"
      ]
     },
     "metadata": {},
     "output_type": "display_data"
    },
    {
     "data": {
      "application/vnd.jupyter.widget-view+json": {
       "model_id": "85e0935e62e24027aa5a868c5b7cef3a",
       "version_major": 2,
       "version_minor": 0
      },
      "text/plain": [
       "  0%|          | 0/1500 [00:00<?, ?it/s]"
      ]
     },
     "metadata": {},
     "output_type": "display_data"
    },
    {
     "data": {
      "application/vnd.jupyter.widget-view+json": {
       "model_id": "77b3be378cdc46978f2e235ba8fcbcb9",
       "version_major": 2,
       "version_minor": 0
      },
      "text/plain": [
       "  0%|          | 0/1500 [00:00<?, ?it/s]"
      ]
     },
     "metadata": {},
     "output_type": "display_data"
    },
    {
     "name": "stderr",
     "output_type": "stream",
     "text": [
      "2023-09-27 20:34:26,759 - hbmep.utils.utils - INFO - func:run_inference took: 36.94 sec\n",
      "2023-09-27 20:34:26,760 - __main__ - INFO - Predicting ...\n",
      "2023-09-27 20:34:26,764 - hbmep.utils.utils - INFO - func:make_prediction_dataset took: 0.00 sec\n",
      "2023-09-27 20:34:28,229 - hbmep.utils.utils - INFO - func:predict took: 1.46 sec\n",
      "2023-09-27 20:34:28,229 - __main__ - INFO - Plotting recruitment curves ...\n",
      "2023-09-27 20:34:28,234 - hbmep.model.baseline - INFO - Rendering ...\n",
      "2023-09-27 20:34:29,633 - hbmep.model.baseline - INFO - Saved to /home/vishu/repos/hbmep-paper/reports/human/intraoperative/power-analysis/draw_3728/N_4/seed_912/recruitment_curves.pdf\n",
      "2023-09-27 20:34:29,633 - hbmep.utils.utils - INFO - func:render_recruitment_curves took: 1.40 sec\n",
      "2023-09-27 20:34:29,633 - __main__ - INFO - Plotting posterior checks ...\n",
      "2023-09-27 20:34:29,639 - hbmep.model.baseline - INFO - Rendering Posterior Predictive Check ...\n",
      "2023-09-27 20:34:31,318 - hbmep.model.baseline - INFO - Saved to /home/vishu/repos/hbmep-paper/reports/human/intraoperative/power-analysis/draw_3728/N_4/seed_912/posterior_predictive_check.pdf\n",
      "2023-09-27 20:34:31,319 - hbmep.utils.utils - INFO - func:_render_predictive_check took: 1.69 sec\n",
      "2023-09-27 20:34:31,319 - hbmep.utils.utils - INFO - func:render_predictive_check took: 1.69 sec\n",
      "2023-09-27 20:34:33,637 - __main__ - INFO - \n",
      "\n",
      "Draw:3/50, N:2/6, Repeat:9/10\n",
      "2023-09-27 20:34:33,640 - __main__ - INFO - Seed:698, Subjects: 50, 190, 14, 153\n",
      "2023-09-27 20:34:33,641 - hbmep.config - INFO - Verifying configuration ...\n",
      "2023-09-27 20:34:33,641 - hbmep.config - INFO - Success!\n",
      "2023-09-27 20:34:33,642 - hbmep.model.baseline - INFO - Initialized model with hierarchical_bayesian link\n",
      "2023-09-27 20:34:33,642 - hbmep.dataset.core - INFO - Artefacts will be stored here - /home/vishu/repos/hbmep-paper/reports/human/intraoperative/power-analysis/draw_3728/N_4/seed_698\n",
      "2023-09-27 20:34:33,642 - hbmep.dataset.core - INFO - Copied config to /home/vishu/repos/hbmep-paper/reports/human/intraoperative/power-analysis/draw_3728/N_4/seed_698\n",
      "2023-09-27 20:34:33,643 - hbmep.dataset.core - INFO - Processing data ...\n",
      "2023-09-27 20:34:33,644 - hbmep.utils.utils - INFO - func:load took: 0.00 sec\n",
      "2023-09-27 20:34:33,644 - __main__ - INFO - Fitting ...\n",
      "2023-09-27 20:34:33,644 - hbmep.model.baseline - INFO - Running inference with hierarchical_bayesian ...\n"
     ]
    },
    {
     "data": {
      "application/vnd.jupyter.widget-view+json": {
       "model_id": "d5f6d1e0429a4a5892c82bc7b47a7f4b",
       "version_major": 2,
       "version_minor": 0
      },
      "text/plain": [
       "  0%|          | 0/1500 [00:00<?, ?it/s]"
      ]
     },
     "metadata": {},
     "output_type": "display_data"
    },
    {
     "data": {
      "application/vnd.jupyter.widget-view+json": {
       "model_id": "ab44c6d244a34f90beaa55c4df56721e",
       "version_major": 2,
       "version_minor": 0
      },
      "text/plain": [
       "  0%|          | 0/1500 [00:00<?, ?it/s]"
      ]
     },
     "metadata": {},
     "output_type": "display_data"
    },
    {
     "data": {
      "application/vnd.jupyter.widget-view+json": {
       "model_id": "9b1cfa105b2c4bb2b1852fb846ccf355",
       "version_major": 2,
       "version_minor": 0
      },
      "text/plain": [
       "  0%|          | 0/1500 [00:00<?, ?it/s]"
      ]
     },
     "metadata": {},
     "output_type": "display_data"
    },
    {
     "data": {
      "application/vnd.jupyter.widget-view+json": {
       "model_id": "80876a6b8bf147cfbf722875f3defe23",
       "version_major": 2,
       "version_minor": 0
      },
      "text/plain": [
       "  0%|          | 0/1500 [00:00<?, ?it/s]"
      ]
     },
     "metadata": {},
     "output_type": "display_data"
    },
    {
     "name": "stderr",
     "output_type": "stream",
     "text": [
      "2023-09-27 20:35:07,066 - hbmep.utils.utils - INFO - func:run_inference took: 33.42 sec\n",
      "2023-09-27 20:35:07,067 - __main__ - INFO - Predicting ...\n",
      "2023-09-27 20:35:07,072 - hbmep.utils.utils - INFO - func:make_prediction_dataset took: 0.00 sec\n",
      "2023-09-27 20:35:08,547 - hbmep.utils.utils - INFO - func:predict took: 1.47 sec\n",
      "2023-09-27 20:35:08,547 - __main__ - INFO - Plotting recruitment curves ...\n",
      "2023-09-27 20:35:08,552 - hbmep.model.baseline - INFO - Rendering ...\n",
      "2023-09-27 20:35:09,962 - hbmep.model.baseline - INFO - Saved to /home/vishu/repos/hbmep-paper/reports/human/intraoperative/power-analysis/draw_3728/N_4/seed_698/recruitment_curves.pdf\n",
      "2023-09-27 20:35:09,963 - hbmep.utils.utils - INFO - func:render_recruitment_curves took: 1.41 sec\n",
      "2023-09-27 20:35:09,963 - __main__ - INFO - Plotting posterior checks ...\n",
      "2023-09-27 20:35:09,969 - hbmep.model.baseline - INFO - Rendering Posterior Predictive Check ...\n",
      "2023-09-27 20:35:11,653 - hbmep.model.baseline - INFO - Saved to /home/vishu/repos/hbmep-paper/reports/human/intraoperative/power-analysis/draw_3728/N_4/seed_698/posterior_predictive_check.pdf\n",
      "2023-09-27 20:35:11,654 - hbmep.utils.utils - INFO - func:_render_predictive_check took: 1.69 sec\n",
      "2023-09-27 20:35:11,654 - hbmep.utils.utils - INFO - func:render_predictive_check took: 1.69 sec\n",
      "2023-09-27 20:35:13,998 - __main__ - INFO - \n",
      "\n",
      "Draw:3/50, N:2/6, Repeat:10/10\n",
      "2023-09-27 20:35:14,000 - __main__ - INFO - Seed:677, Subjects: 156, 108, 186, 126\n",
      "2023-09-27 20:35:14,001 - hbmep.config - INFO - Verifying configuration ...\n",
      "2023-09-27 20:35:14,001 - hbmep.config - INFO - Success!\n",
      "2023-09-27 20:35:14,002 - hbmep.model.baseline - INFO - Initialized model with hierarchical_bayesian link\n",
      "2023-09-27 20:35:14,002 - hbmep.dataset.core - INFO - Artefacts will be stored here - /home/vishu/repos/hbmep-paper/reports/human/intraoperative/power-analysis/draw_3728/N_4/seed_677\n",
      "2023-09-27 20:35:14,002 - hbmep.dataset.core - INFO - Copied config to /home/vishu/repos/hbmep-paper/reports/human/intraoperative/power-analysis/draw_3728/N_4/seed_677\n",
      "2023-09-27 20:35:14,003 - hbmep.dataset.core - INFO - Processing data ...\n",
      "2023-09-27 20:35:14,004 - hbmep.utils.utils - INFO - func:load took: 0.00 sec\n",
      "2023-09-27 20:35:14,004 - __main__ - INFO - Fitting ...\n",
      "2023-09-27 20:35:14,004 - hbmep.model.baseline - INFO - Running inference with hierarchical_bayesian ...\n"
     ]
    },
    {
     "data": {
      "application/vnd.jupyter.widget-view+json": {
       "model_id": "1e7029a931aa4022aa745748fcea5096",
       "version_major": 2,
       "version_minor": 0
      },
      "text/plain": [
       "  0%|          | 0/1500 [00:00<?, ?it/s]"
      ]
     },
     "metadata": {},
     "output_type": "display_data"
    },
    {
     "data": {
      "application/vnd.jupyter.widget-view+json": {
       "model_id": "d7bdfcd3385747f3bd17913643e9878f",
       "version_major": 2,
       "version_minor": 0
      },
      "text/plain": [
       "  0%|          | 0/1500 [00:00<?, ?it/s]"
      ]
     },
     "metadata": {},
     "output_type": "display_data"
    },
    {
     "data": {
      "application/vnd.jupyter.widget-view+json": {
       "model_id": "44de91f10ad5463b9719778454b8ea0a",
       "version_major": 2,
       "version_minor": 0
      },
      "text/plain": [
       "  0%|          | 0/1500 [00:00<?, ?it/s]"
      ]
     },
     "metadata": {},
     "output_type": "display_data"
    },
    {
     "data": {
      "application/vnd.jupyter.widget-view+json": {
       "model_id": "dca93834e4de4e009c35f6905c9afc32",
       "version_major": 2,
       "version_minor": 0
      },
      "text/plain": [
       "  0%|          | 0/1500 [00:00<?, ?it/s]"
      ]
     },
     "metadata": {},
     "output_type": "display_data"
    },
    {
     "name": "stderr",
     "output_type": "stream",
     "text": [
      "2023-09-27 20:35:41,867 - hbmep.utils.utils - INFO - func:run_inference took: 27.86 sec\n",
      "2023-09-27 20:35:41,867 - __main__ - INFO - Predicting ...\n",
      "2023-09-27 20:35:41,872 - hbmep.utils.utils - INFO - func:make_prediction_dataset took: 0.00 sec\n",
      "2023-09-27 20:35:43,341 - hbmep.utils.utils - INFO - func:predict took: 1.47 sec\n",
      "2023-09-27 20:35:43,342 - __main__ - INFO - Plotting recruitment curves ...\n",
      "2023-09-27 20:35:43,347 - hbmep.model.baseline - INFO - Rendering ...\n",
      "2023-09-27 20:35:44,788 - hbmep.model.baseline - INFO - Saved to /home/vishu/repos/hbmep-paper/reports/human/intraoperative/power-analysis/draw_3728/N_4/seed_677/recruitment_curves.pdf\n",
      "2023-09-27 20:35:44,789 - hbmep.utils.utils - INFO - func:render_recruitment_curves took: 1.45 sec\n",
      "2023-09-27 20:35:44,789 - __main__ - INFO - Plotting posterior checks ...\n",
      "2023-09-27 20:35:44,795 - hbmep.model.baseline - INFO - Rendering Posterior Predictive Check ...\n",
      "2023-09-27 20:35:46,487 - hbmep.model.baseline - INFO - Saved to /home/vishu/repos/hbmep-paper/reports/human/intraoperative/power-analysis/draw_3728/N_4/seed_677/posterior_predictive_check.pdf\n",
      "2023-09-27 20:35:46,488 - hbmep.utils.utils - INFO - func:_render_predictive_check took: 1.70 sec\n",
      "2023-09-27 20:35:46,488 - hbmep.utils.utils - INFO - func:render_predictive_check took: 1.70 sec\n",
      "2023-09-27 20:35:48,836 - __main__ - INFO - \n",
      "\n",
      "Draw:3/50, N:3/6, Repeat:1/10\n",
      "2023-09-27 20:35:48,838 - __main__ - INFO - Seed:339, Subjects: 67, 138, 116, 43, 140, 161, 181, 178\n",
      "2023-09-27 20:35:48,839 - hbmep.config - INFO - Verifying configuration ...\n",
      "2023-09-27 20:35:48,839 - hbmep.config - INFO - Success!\n",
      "2023-09-27 20:35:48,840 - hbmep.model.baseline - INFO - Initialized model with hierarchical_bayesian link\n",
      "2023-09-27 20:35:48,840 - hbmep.dataset.core - INFO - Artefacts will be stored here - /home/vishu/repos/hbmep-paper/reports/human/intraoperative/power-analysis/draw_3728/N_8/seed_339\n",
      "2023-09-27 20:35:48,840 - hbmep.dataset.core - INFO - Copied config to /home/vishu/repos/hbmep-paper/reports/human/intraoperative/power-analysis/draw_3728/N_8/seed_339\n",
      "2023-09-27 20:35:48,841 - hbmep.dataset.core - INFO - Processing data ...\n",
      "2023-09-27 20:35:48,841 - hbmep.utils.utils - INFO - func:load took: 0.00 sec\n",
      "2023-09-27 20:35:48,842 - __main__ - INFO - Fitting ...\n",
      "2023-09-27 20:35:48,842 - hbmep.model.baseline - INFO - Running inference with hierarchical_bayesian ...\n"
     ]
    },
    {
     "data": {
      "application/vnd.jupyter.widget-view+json": {
       "model_id": "7aee3ef920fc40208fec1049b92fc4fb",
       "version_major": 2,
       "version_minor": 0
      },
      "text/plain": [
       "  0%|          | 0/1500 [00:00<?, ?it/s]"
      ]
     },
     "metadata": {},
     "output_type": "display_data"
    },
    {
     "data": {
      "application/vnd.jupyter.widget-view+json": {
       "model_id": "b5a409426e734cdca8358d0c6a1b2fa1",
       "version_major": 2,
       "version_minor": 0
      },
      "text/plain": [
       "  0%|          | 0/1500 [00:00<?, ?it/s]"
      ]
     },
     "metadata": {},
     "output_type": "display_data"
    },
    {
     "data": {
      "application/vnd.jupyter.widget-view+json": {
       "model_id": "b85cf09226634809bfe4a0fbf87d724c",
       "version_major": 2,
       "version_minor": 0
      },
      "text/plain": [
       "  0%|          | 0/1500 [00:00<?, ?it/s]"
      ]
     },
     "metadata": {},
     "output_type": "display_data"
    },
    {
     "data": {
      "application/vnd.jupyter.widget-view+json": {
       "model_id": "131c5da8b4ab4e7f975442e2f811d169",
       "version_major": 2,
       "version_minor": 0
      },
      "text/plain": [
       "  0%|          | 0/1500 [00:00<?, ?it/s]"
      ]
     },
     "metadata": {},
     "output_type": "display_data"
    },
    {
     "name": "stderr",
     "output_type": "stream",
     "text": [
      "2023-09-27 20:36:35,897 - hbmep.utils.utils - INFO - func:run_inference took: 47.05 sec\n",
      "2023-09-27 20:36:35,897 - __main__ - INFO - Predicting ...\n",
      "2023-09-27 20:36:35,902 - hbmep.utils.utils - INFO - func:make_prediction_dataset took: 0.00 sec\n",
      "2023-09-27 20:36:38,647 - hbmep.utils.utils - INFO - func:predict took: 2.74 sec\n",
      "2023-09-27 20:36:38,648 - __main__ - INFO - Plotting recruitment curves ...\n",
      "2023-09-27 20:36:38,656 - hbmep.model.baseline - INFO - Rendering ...\n",
      "2023-09-27 20:36:41,495 - hbmep.model.baseline - INFO - Saved to /home/vishu/repos/hbmep-paper/reports/human/intraoperative/power-analysis/draw_3728/N_8/seed_339/recruitment_curves.pdf\n",
      "2023-09-27 20:36:41,496 - hbmep.utils.utils - INFO - func:render_recruitment_curves took: 2.85 sec\n",
      "2023-09-27 20:36:41,496 - __main__ - INFO - Plotting posterior checks ...\n",
      "2023-09-27 20:36:41,510 - hbmep.model.baseline - INFO - Rendering Posterior Predictive Check ...\n",
      "2023-09-27 20:36:44,951 - hbmep.model.baseline - INFO - Saved to /home/vishu/repos/hbmep-paper/reports/human/intraoperative/power-analysis/draw_3728/N_8/seed_339/posterior_predictive_check.pdf\n",
      "2023-09-27 20:36:44,951 - hbmep.utils.utils - INFO - func:_render_predictive_check took: 3.45 sec\n",
      "2023-09-27 20:36:44,951 - hbmep.utils.utils - INFO - func:render_predictive_check took: 3.45 sec\n",
      "2023-09-27 20:36:47,407 - __main__ - INFO - \n",
      "\n",
      "Draw:3/50, N:3/6, Repeat:2/10\n",
      "2023-09-27 20:36:47,410 - __main__ - INFO - Seed:777, Subjects: 23, 34, 144, 97, 27, 47, 92, 191\n",
      "2023-09-27 20:36:47,411 - hbmep.config - INFO - Verifying configuration ...\n",
      "2023-09-27 20:36:47,411 - hbmep.config - INFO - Success!\n",
      "2023-09-27 20:36:47,412 - hbmep.model.baseline - INFO - Initialized model with hierarchical_bayesian link\n",
      "2023-09-27 20:36:47,412 - hbmep.dataset.core - INFO - Artefacts will be stored here - /home/vishu/repos/hbmep-paper/reports/human/intraoperative/power-analysis/draw_3728/N_8/seed_777\n",
      "2023-09-27 20:36:47,412 - hbmep.dataset.core - INFO - Copied config to /home/vishu/repos/hbmep-paper/reports/human/intraoperative/power-analysis/draw_3728/N_8/seed_777\n",
      "2023-09-27 20:36:47,413 - hbmep.dataset.core - INFO - Processing data ...\n",
      "2023-09-27 20:36:47,414 - hbmep.utils.utils - INFO - func:load took: 0.00 sec\n",
      "2023-09-27 20:36:47,414 - __main__ - INFO - Fitting ...\n",
      "2023-09-27 20:36:47,414 - hbmep.model.baseline - INFO - Running inference with hierarchical_bayesian ...\n"
     ]
    },
    {
     "data": {
      "application/vnd.jupyter.widget-view+json": {
       "model_id": "5147b3c19dab4ecfa933c1cda0b265eb",
       "version_major": 2,
       "version_minor": 0
      },
      "text/plain": [
       "  0%|          | 0/1500 [00:00<?, ?it/s]"
      ]
     },
     "metadata": {},
     "output_type": "display_data"
    },
    {
     "data": {
      "application/vnd.jupyter.widget-view+json": {
       "model_id": "94d0ab17b2a04ec7a5461e35c8fcf9fa",
       "version_major": 2,
       "version_minor": 0
      },
      "text/plain": [
       "  0%|          | 0/1500 [00:00<?, ?it/s]"
      ]
     },
     "metadata": {},
     "output_type": "display_data"
    },
    {
     "data": {
      "application/vnd.jupyter.widget-view+json": {
       "model_id": "aca05d6e552f46ba963df8d7adf52609",
       "version_major": 2,
       "version_minor": 0
      },
      "text/plain": [
       "  0%|          | 0/1500 [00:00<?, ?it/s]"
      ]
     },
     "metadata": {},
     "output_type": "display_data"
    },
    {
     "data": {
      "application/vnd.jupyter.widget-view+json": {
       "model_id": "7bdbc54009ff45dcad6748661775224b",
       "version_major": 2,
       "version_minor": 0
      },
      "text/plain": [
       "  0%|          | 0/1500 [00:00<?, ?it/s]"
      ]
     },
     "metadata": {},
     "output_type": "display_data"
    },
    {
     "name": "stderr",
     "output_type": "stream",
     "text": [
      "2023-09-27 20:38:04,217 - hbmep.utils.utils - INFO - func:run_inference took: 1 min and 16.80 sec\n",
      "2023-09-27 20:38:04,218 - __main__ - INFO - Predicting ...\n",
      "2023-09-27 20:38:04,222 - hbmep.utils.utils - INFO - func:make_prediction_dataset took: 0.00 sec\n",
      "2023-09-27 20:38:06,969 - hbmep.utils.utils - INFO - func:predict took: 2.75 sec\n",
      "2023-09-27 20:38:06,969 - __main__ - INFO - Plotting recruitment curves ...\n",
      "2023-09-27 20:38:06,978 - hbmep.model.baseline - INFO - Rendering ...\n",
      "2023-09-27 20:38:09,823 - hbmep.model.baseline - INFO - Saved to /home/vishu/repos/hbmep-paper/reports/human/intraoperative/power-analysis/draw_3728/N_8/seed_777/recruitment_curves.pdf\n",
      "2023-09-27 20:38:09,824 - hbmep.utils.utils - INFO - func:render_recruitment_curves took: 2.85 sec\n",
      "2023-09-27 20:38:09,824 - __main__ - INFO - Plotting posterior checks ...\n",
      "2023-09-27 20:38:09,839 - hbmep.model.baseline - INFO - Rendering Posterior Predictive Check ...\n",
      "2023-09-27 20:38:13,291 - hbmep.model.baseline - INFO - Saved to /home/vishu/repos/hbmep-paper/reports/human/intraoperative/power-analysis/draw_3728/N_8/seed_777/posterior_predictive_check.pdf\n",
      "2023-09-27 20:38:13,292 - hbmep.utils.utils - INFO - func:_render_predictive_check took: 3.47 sec\n",
      "2023-09-27 20:38:13,292 - hbmep.utils.utils - INFO - func:render_predictive_check took: 3.47 sec\n",
      "2023-09-27 20:38:15,894 - __main__ - INFO - \n",
      "\n",
      "Draw:3/50, N:3/6, Repeat:3/10\n",
      "2023-09-27 20:38:15,897 - __main__ - INFO - Seed:129, Subjects: 151, 192, 17, 74, 11, 14, 148, 173\n",
      "2023-09-27 20:38:15,898 - hbmep.config - INFO - Verifying configuration ...\n",
      "2023-09-27 20:38:15,898 - hbmep.config - INFO - Success!\n",
      "2023-09-27 20:38:15,898 - hbmep.model.baseline - INFO - Initialized model with hierarchical_bayesian link\n",
      "2023-09-27 20:38:15,898 - hbmep.dataset.core - INFO - Artefacts will be stored here - /home/vishu/repos/hbmep-paper/reports/human/intraoperative/power-analysis/draw_3728/N_8/seed_129\n",
      "2023-09-27 20:38:15,899 - hbmep.dataset.core - INFO - Copied config to /home/vishu/repos/hbmep-paper/reports/human/intraoperative/power-analysis/draw_3728/N_8/seed_129\n",
      "2023-09-27 20:38:15,900 - hbmep.dataset.core - INFO - Processing data ...\n",
      "2023-09-27 20:38:15,900 - hbmep.utils.utils - INFO - func:load took: 0.00 sec\n",
      "2023-09-27 20:38:15,901 - __main__ - INFO - Fitting ...\n",
      "2023-09-27 20:38:15,901 - hbmep.model.baseline - INFO - Running inference with hierarchical_bayesian ...\n"
     ]
    },
    {
     "data": {
      "application/vnd.jupyter.widget-view+json": {
       "model_id": "c36112a109df433a9a2716f812742c5e",
       "version_major": 2,
       "version_minor": 0
      },
      "text/plain": [
       "  0%|          | 0/1500 [00:00<?, ?it/s]"
      ]
     },
     "metadata": {},
     "output_type": "display_data"
    },
    {
     "data": {
      "application/vnd.jupyter.widget-view+json": {
       "model_id": "6062bd09de0241babb79628b7d5eae4a",
       "version_major": 2,
       "version_minor": 0
      },
      "text/plain": [
       "  0%|          | 0/1500 [00:00<?, ?it/s]"
      ]
     },
     "metadata": {},
     "output_type": "display_data"
    },
    {
     "data": {
      "application/vnd.jupyter.widget-view+json": {
       "model_id": "f1879471d2b342e59df6c43c8eb7801e",
       "version_major": 2,
       "version_minor": 0
      },
      "text/plain": [
       "  0%|          | 0/1500 [00:00<?, ?it/s]"
      ]
     },
     "metadata": {},
     "output_type": "display_data"
    },
    {
     "data": {
      "application/vnd.jupyter.widget-view+json": {
       "model_id": "08b018960e214ae38d25ec6880d3fc06",
       "version_major": 2,
       "version_minor": 0
      },
      "text/plain": [
       "  0%|          | 0/1500 [00:00<?, ?it/s]"
      ]
     },
     "metadata": {},
     "output_type": "display_data"
    },
    {
     "name": "stderr",
     "output_type": "stream",
     "text": [
      "2023-09-27 20:39:36,036 - hbmep.utils.utils - INFO - func:run_inference took: 1 min and 20.14 sec\n",
      "2023-09-27 20:39:36,037 - __main__ - INFO - Predicting ...\n",
      "2023-09-27 20:39:36,042 - hbmep.utils.utils - INFO - func:make_prediction_dataset took: 0.00 sec\n",
      "2023-09-27 20:39:38,794 - hbmep.utils.utils - INFO - func:predict took: 2.75 sec\n",
      "2023-09-27 20:39:38,794 - __main__ - INFO - Plotting recruitment curves ...\n",
      "2023-09-27 20:39:38,802 - hbmep.model.baseline - INFO - Rendering ...\n",
      "2023-09-27 20:39:41,663 - hbmep.model.baseline - INFO - Saved to /home/vishu/repos/hbmep-paper/reports/human/intraoperative/power-analysis/draw_3728/N_8/seed_129/recruitment_curves.pdf\n",
      "2023-09-27 20:39:41,663 - hbmep.utils.utils - INFO - func:render_recruitment_curves took: 2.87 sec\n",
      "2023-09-27 20:39:41,664 - __main__ - INFO - Plotting posterior checks ...\n",
      "2023-09-27 20:39:41,678 - hbmep.model.baseline - INFO - Rendering Posterior Predictive Check ...\n",
      "2023-09-27 20:39:45,142 - hbmep.model.baseline - INFO - Saved to /home/vishu/repos/hbmep-paper/reports/human/intraoperative/power-analysis/draw_3728/N_8/seed_129/posterior_predictive_check.pdf\n",
      "2023-09-27 20:39:45,143 - hbmep.utils.utils - INFO - func:_render_predictive_check took: 3.48 sec\n",
      "2023-09-27 20:39:45,143 - hbmep.utils.utils - INFO - func:render_predictive_check took: 3.48 sec\n",
      "2023-09-27 20:39:47,759 - __main__ - INFO - \n",
      "\n",
      "Draw:3/50, N:3/6, Repeat:4/10\n",
      "2023-09-27 20:39:47,765 - __main__ - INFO - Seed:822, Subjects: 98, 32, 121, 186, 20, 191, 147, 172\n",
      "2023-09-27 20:39:47,765 - hbmep.config - INFO - Verifying configuration ...\n",
      "2023-09-27 20:39:47,766 - hbmep.config - INFO - Success!\n",
      "2023-09-27 20:39:47,766 - hbmep.model.baseline - INFO - Initialized model with hierarchical_bayesian link\n",
      "2023-09-27 20:39:47,766 - hbmep.dataset.core - INFO - Artefacts will be stored here - /home/vishu/repos/hbmep-paper/reports/human/intraoperative/power-analysis/draw_3728/N_8/seed_822\n",
      "2023-09-27 20:39:47,767 - hbmep.dataset.core - INFO - Copied config to /home/vishu/repos/hbmep-paper/reports/human/intraoperative/power-analysis/draw_3728/N_8/seed_822\n",
      "2023-09-27 20:39:47,767 - hbmep.dataset.core - INFO - Processing data ...\n",
      "2023-09-27 20:39:47,768 - hbmep.utils.utils - INFO - func:load took: 0.00 sec\n",
      "2023-09-27 20:39:47,768 - __main__ - INFO - Fitting ...\n",
      "2023-09-27 20:39:47,769 - hbmep.model.baseline - INFO - Running inference with hierarchical_bayesian ...\n"
     ]
    },
    {
     "data": {
      "application/vnd.jupyter.widget-view+json": {
       "model_id": "f5ad2d5fd521437a823f92ecf0cc5c97",
       "version_major": 2,
       "version_minor": 0
      },
      "text/plain": [
       "  0%|          | 0/1500 [00:00<?, ?it/s]"
      ]
     },
     "metadata": {},
     "output_type": "display_data"
    },
    {
     "data": {
      "application/vnd.jupyter.widget-view+json": {
       "model_id": "7584ab53e24c42f69fd86115aa21ed62",
       "version_major": 2,
       "version_minor": 0
      },
      "text/plain": [
       "  0%|          | 0/1500 [00:00<?, ?it/s]"
      ]
     },
     "metadata": {},
     "output_type": "display_data"
    },
    {
     "data": {
      "application/vnd.jupyter.widget-view+json": {
       "model_id": "8241b5ffeaf643c1962fc3feabe9487c",
       "version_major": 2,
       "version_minor": 0
      },
      "text/plain": [
       "  0%|          | 0/1500 [00:00<?, ?it/s]"
      ]
     },
     "metadata": {},
     "output_type": "display_data"
    },
    {
     "data": {
      "application/vnd.jupyter.widget-view+json": {
       "model_id": "5a44b55a8c2141d883ca0ec75f6c6eb1",
       "version_major": 2,
       "version_minor": 0
      },
      "text/plain": [
       "  0%|          | 0/1500 [00:00<?, ?it/s]"
      ]
     },
     "metadata": {},
     "output_type": "display_data"
    },
    {
     "name": "stderr",
     "output_type": "stream",
     "text": [
      "2023-09-27 20:40:54,585 - hbmep.utils.utils - INFO - func:run_inference took: 1 min and 6.82 sec\n",
      "2023-09-27 20:40:54,586 - __main__ - INFO - Predicting ...\n",
      "2023-09-27 20:40:54,590 - hbmep.utils.utils - INFO - func:make_prediction_dataset took: 0.00 sec\n",
      "2023-09-27 20:40:57,342 - hbmep.utils.utils - INFO - func:predict took: 2.75 sec\n",
      "2023-09-27 20:40:57,342 - __main__ - INFO - Plotting recruitment curves ...\n",
      "2023-09-27 20:40:57,350 - hbmep.model.baseline - INFO - Rendering ...\n",
      "2023-09-27 20:41:00,232 - hbmep.model.baseline - INFO - Saved to /home/vishu/repos/hbmep-paper/reports/human/intraoperative/power-analysis/draw_3728/N_8/seed_822/recruitment_curves.pdf\n",
      "2023-09-27 20:41:00,232 - hbmep.utils.utils - INFO - func:render_recruitment_curves took: 2.89 sec\n",
      "2023-09-27 20:41:00,232 - __main__ - INFO - Plotting posterior checks ...\n",
      "2023-09-27 20:41:00,247 - hbmep.model.baseline - INFO - Rendering Posterior Predictive Check ...\n",
      "2023-09-27 20:41:03,698 - hbmep.model.baseline - INFO - Saved to /home/vishu/repos/hbmep-paper/reports/human/intraoperative/power-analysis/draw_3728/N_8/seed_822/posterior_predictive_check.pdf\n",
      "2023-09-27 20:41:03,699 - hbmep.utils.utils - INFO - func:_render_predictive_check took: 3.47 sec\n",
      "2023-09-27 20:41:03,699 - hbmep.utils.utils - INFO - func:render_predictive_check took: 3.47 sec\n",
      "2023-09-27 20:41:06,350 - __main__ - INFO - \n",
      "\n",
      "Draw:3/50, N:3/6, Repeat:5/10\n",
      "2023-09-27 20:41:06,353 - __main__ - INFO - Seed:616, Subjects: 130, 39, 87, 96, 158, 162, 160, 71\n",
      "2023-09-27 20:41:06,354 - hbmep.config - INFO - Verifying configuration ...\n",
      "2023-09-27 20:41:06,354 - hbmep.config - INFO - Success!\n",
      "2023-09-27 20:41:06,355 - hbmep.model.baseline - INFO - Initialized model with hierarchical_bayesian link\n",
      "2023-09-27 20:41:06,355 - hbmep.dataset.core - INFO - Artefacts will be stored here - /home/vishu/repos/hbmep-paper/reports/human/intraoperative/power-analysis/draw_3728/N_8/seed_616\n",
      "2023-09-27 20:41:06,355 - hbmep.dataset.core - INFO - Copied config to /home/vishu/repos/hbmep-paper/reports/human/intraoperative/power-analysis/draw_3728/N_8/seed_616\n",
      "2023-09-27 20:41:06,356 - hbmep.dataset.core - INFO - Processing data ...\n",
      "2023-09-27 20:41:06,357 - hbmep.utils.utils - INFO - func:load took: 0.00 sec\n",
      "2023-09-27 20:41:06,357 - __main__ - INFO - Fitting ...\n",
      "2023-09-27 20:41:06,357 - hbmep.model.baseline - INFO - Running inference with hierarchical_bayesian ...\n"
     ]
    },
    {
     "data": {
      "application/vnd.jupyter.widget-view+json": {
       "model_id": "4b02413edf9646e38f1d007ad6bc2276",
       "version_major": 2,
       "version_minor": 0
      },
      "text/plain": [
       "  0%|          | 0/1500 [00:00<?, ?it/s]"
      ]
     },
     "metadata": {},
     "output_type": "display_data"
    },
    {
     "data": {
      "application/vnd.jupyter.widget-view+json": {
       "model_id": "8608ddfe99904605b339dec86a1ebb59",
       "version_major": 2,
       "version_minor": 0
      },
      "text/plain": [
       "  0%|          | 0/1500 [00:00<?, ?it/s]"
      ]
     },
     "metadata": {},
     "output_type": "display_data"
    },
    {
     "data": {
      "application/vnd.jupyter.widget-view+json": {
       "model_id": "029ed43cdecf4fa8ba863b02198ed137",
       "version_major": 2,
       "version_minor": 0
      },
      "text/plain": [
       "  0%|          | 0/1500 [00:00<?, ?it/s]"
      ]
     },
     "metadata": {},
     "output_type": "display_data"
    },
    {
     "data": {
      "application/vnd.jupyter.widget-view+json": {
       "model_id": "16615b6574774e88a498d4ad57d05657",
       "version_major": 2,
       "version_minor": 0
      },
      "text/plain": [
       "  0%|          | 0/1500 [00:00<?, ?it/s]"
      ]
     },
     "metadata": {},
     "output_type": "display_data"
    },
    {
     "name": "stderr",
     "output_type": "stream",
     "text": [
      "2023-09-27 20:42:20,182 - hbmep.utils.utils - INFO - func:run_inference took: 1 min and 13.82 sec\n",
      "2023-09-27 20:42:20,182 - __main__ - INFO - Predicting ...\n",
      "2023-09-27 20:42:20,187 - hbmep.utils.utils - INFO - func:make_prediction_dataset took: 0.00 sec\n",
      "2023-09-27 20:42:22,939 - hbmep.utils.utils - INFO - func:predict took: 2.75 sec\n",
      "2023-09-27 20:42:22,940 - __main__ - INFO - Plotting recruitment curves ...\n",
      "2023-09-27 20:42:22,948 - hbmep.model.baseline - INFO - Rendering ...\n",
      "2023-09-27 20:42:25,828 - hbmep.model.baseline - INFO - Saved to /home/vishu/repos/hbmep-paper/reports/human/intraoperative/power-analysis/draw_3728/N_8/seed_616/recruitment_curves.pdf\n",
      "2023-09-27 20:42:25,829 - hbmep.utils.utils - INFO - func:render_recruitment_curves took: 2.89 sec\n",
      "2023-09-27 20:42:25,829 - __main__ - INFO - Plotting posterior checks ...\n",
      "2023-09-27 20:42:25,843 - hbmep.model.baseline - INFO - Rendering Posterior Predictive Check ...\n",
      "2023-09-27 20:42:29,288 - hbmep.model.baseline - INFO - Saved to /home/vishu/repos/hbmep-paper/reports/human/intraoperative/power-analysis/draw_3728/N_8/seed_616/posterior_predictive_check.pdf\n",
      "2023-09-27 20:42:29,289 - hbmep.utils.utils - INFO - func:_render_predictive_check took: 3.46 sec\n",
      "2023-09-27 20:42:29,289 - hbmep.utils.utils - INFO - func:render_predictive_check took: 3.46 sec\n",
      "2023-09-27 20:42:31,945 - __main__ - INFO - \n",
      "\n",
      "Draw:3/50, N:3/6, Repeat:6/10\n",
      "2023-09-27 20:42:31,949 - __main__ - INFO - Seed:214, Subjects: 120, 179, 25, 125, 196, 84, 64, 53\n",
      "2023-09-27 20:42:31,950 - hbmep.config - INFO - Verifying configuration ...\n",
      "2023-09-27 20:42:31,950 - hbmep.config - INFO - Success!\n",
      "2023-09-27 20:42:31,951 - hbmep.model.baseline - INFO - Initialized model with hierarchical_bayesian link\n",
      "2023-09-27 20:42:31,951 - hbmep.dataset.core - INFO - Artefacts will be stored here - /home/vishu/repos/hbmep-paper/reports/human/intraoperative/power-analysis/draw_3728/N_8/seed_214\n",
      "2023-09-27 20:42:31,951 - hbmep.dataset.core - INFO - Copied config to /home/vishu/repos/hbmep-paper/reports/human/intraoperative/power-analysis/draw_3728/N_8/seed_214\n",
      "2023-09-27 20:42:31,952 - hbmep.dataset.core - INFO - Processing data ...\n",
      "2023-09-27 20:42:31,953 - hbmep.utils.utils - INFO - func:load took: 0.00 sec\n",
      "2023-09-27 20:42:31,953 - __main__ - INFO - Fitting ...\n",
      "2023-09-27 20:42:31,953 - hbmep.model.baseline - INFO - Running inference with hierarchical_bayesian ...\n"
     ]
    },
    {
     "data": {
      "application/vnd.jupyter.widget-view+json": {
       "model_id": "622860ec48ed4dc4988f5a5421fb4831",
       "version_major": 2,
       "version_minor": 0
      },
      "text/plain": [
       "  0%|          | 0/1500 [00:00<?, ?it/s]"
      ]
     },
     "metadata": {},
     "output_type": "display_data"
    },
    {
     "data": {
      "application/vnd.jupyter.widget-view+json": {
       "model_id": "9b21a99b8d9e4e928f3aa6492b94fb9e",
       "version_major": 2,
       "version_minor": 0
      },
      "text/plain": [
       "  0%|          | 0/1500 [00:00<?, ?it/s]"
      ]
     },
     "metadata": {},
     "output_type": "display_data"
    },
    {
     "data": {
      "application/vnd.jupyter.widget-view+json": {
       "model_id": "a697dacc2cf24372b0c677f9d7d77c5b",
       "version_major": 2,
       "version_minor": 0
      },
      "text/plain": [
       "  0%|          | 0/1500 [00:00<?, ?it/s]"
      ]
     },
     "metadata": {},
     "output_type": "display_data"
    },
    {
     "data": {
      "application/vnd.jupyter.widget-view+json": {
       "model_id": "5fb49cac753e4592aa117e88983e92be",
       "version_major": 2,
       "version_minor": 0
      },
      "text/plain": [
       "  0%|          | 0/1500 [00:00<?, ?it/s]"
      ]
     },
     "metadata": {},
     "output_type": "display_data"
    },
    {
     "name": "stderr",
     "output_type": "stream",
     "text": [
      "2023-09-27 20:43:38,152 - hbmep.utils.utils - INFO - func:run_inference took: 1 min and 6.20 sec\n",
      "2023-09-27 20:43:38,153 - __main__ - INFO - Predicting ...\n",
      "2023-09-27 20:43:38,158 - hbmep.utils.utils - INFO - func:make_prediction_dataset took: 0.00 sec\n",
      "2023-09-27 20:43:40,904 - hbmep.utils.utils - INFO - func:predict took: 2.75 sec\n",
      "2023-09-27 20:43:40,904 - __main__ - INFO - Plotting recruitment curves ...\n",
      "2023-09-27 20:43:40,912 - hbmep.model.baseline - INFO - Rendering ...\n",
      "2023-09-27 20:43:43,780 - hbmep.model.baseline - INFO - Saved to /home/vishu/repos/hbmep-paper/reports/human/intraoperative/power-analysis/draw_3728/N_8/seed_214/recruitment_curves.pdf\n",
      "2023-09-27 20:43:43,781 - hbmep.utils.utils - INFO - func:render_recruitment_curves took: 2.88 sec\n",
      "2023-09-27 20:43:43,781 - __main__ - INFO - Plotting posterior checks ...\n",
      "2023-09-27 20:43:43,795 - hbmep.model.baseline - INFO - Rendering Posterior Predictive Check ...\n",
      "2023-09-27 20:43:47,226 - hbmep.model.baseline - INFO - Saved to /home/vishu/repos/hbmep-paper/reports/human/intraoperative/power-analysis/draw_3728/N_8/seed_214/posterior_predictive_check.pdf\n",
      "2023-09-27 20:43:47,227 - hbmep.utils.utils - INFO - func:_render_predictive_check took: 3.45 sec\n",
      "2023-09-27 20:43:47,227 - hbmep.utils.utils - INFO - func:render_predictive_check took: 3.45 sec\n",
      "2023-09-27 20:43:49,921 - __main__ - INFO - \n",
      "\n",
      "Draw:3/50, N:3/6, Repeat:7/10\n",
      "2023-09-27 20:43:49,925 - __main__ - INFO - Seed:204, Subjects: 195, 25, 42, 54, 1, 66, 19, 69\n",
      "2023-09-27 20:43:49,926 - hbmep.config - INFO - Verifying configuration ...\n",
      "2023-09-27 20:43:49,926 - hbmep.config - INFO - Success!\n",
      "2023-09-27 20:43:49,927 - hbmep.model.baseline - INFO - Initialized model with hierarchical_bayesian link\n",
      "2023-09-27 20:43:49,927 - hbmep.dataset.core - INFO - Artefacts will be stored here - /home/vishu/repos/hbmep-paper/reports/human/intraoperative/power-analysis/draw_3728/N_8/seed_204\n",
      "2023-09-27 20:43:49,927 - hbmep.dataset.core - INFO - Copied config to /home/vishu/repos/hbmep-paper/reports/human/intraoperative/power-analysis/draw_3728/N_8/seed_204\n",
      "2023-09-27 20:43:49,928 - hbmep.dataset.core - INFO - Processing data ...\n",
      "2023-09-27 20:43:49,929 - hbmep.utils.utils - INFO - func:load took: 0.00 sec\n",
      "2023-09-27 20:43:49,929 - __main__ - INFO - Fitting ...\n",
      "2023-09-27 20:43:49,929 - hbmep.model.baseline - INFO - Running inference with hierarchical_bayesian ...\n"
     ]
    },
    {
     "data": {
      "application/vnd.jupyter.widget-view+json": {
       "model_id": "eb50604164d541d998a2c1a7e159bab4",
       "version_major": 2,
       "version_minor": 0
      },
      "text/plain": [
       "  0%|          | 0/1500 [00:00<?, ?it/s]"
      ]
     },
     "metadata": {},
     "output_type": "display_data"
    },
    {
     "data": {
      "application/vnd.jupyter.widget-view+json": {
       "model_id": "fb589d10deda4b35a1b5bff9235e4c07",
       "version_major": 2,
       "version_minor": 0
      },
      "text/plain": [
       "  0%|          | 0/1500 [00:00<?, ?it/s]"
      ]
     },
     "metadata": {},
     "output_type": "display_data"
    },
    {
     "data": {
      "application/vnd.jupyter.widget-view+json": {
       "model_id": "f0c67280f4634fe1b2e4db26aa970d2e",
       "version_major": 2,
       "version_minor": 0
      },
      "text/plain": [
       "  0%|          | 0/1500 [00:00<?, ?it/s]"
      ]
     },
     "metadata": {},
     "output_type": "display_data"
    },
    {
     "data": {
      "application/vnd.jupyter.widget-view+json": {
       "model_id": "5adec29f4f894a3b888764e43239d424",
       "version_major": 2,
       "version_minor": 0
      },
      "text/plain": [
       "  0%|          | 0/1500 [00:00<?, ?it/s]"
      ]
     },
     "metadata": {},
     "output_type": "display_data"
    },
    {
     "name": "stderr",
     "output_type": "stream",
     "text": [
      "2023-09-27 20:44:40,710 - hbmep.utils.utils - INFO - func:run_inference took: 50.78 sec\n",
      "2023-09-27 20:44:40,710 - __main__ - INFO - Predicting ...\n",
      "2023-09-27 20:44:40,715 - hbmep.utils.utils - INFO - func:make_prediction_dataset took: 0.00 sec\n",
      "2023-09-27 20:44:43,462 - hbmep.utils.utils - INFO - func:predict took: 2.75 sec\n",
      "2023-09-27 20:44:43,462 - __main__ - INFO - Plotting recruitment curves ...\n",
      "2023-09-27 20:44:43,471 - hbmep.model.baseline - INFO - Rendering ...\n",
      "2023-09-27 20:44:46,319 - hbmep.model.baseline - INFO - Saved to /home/vishu/repos/hbmep-paper/reports/human/intraoperative/power-analysis/draw_3728/N_8/seed_204/recruitment_curves.pdf\n",
      "2023-09-27 20:44:46,320 - hbmep.utils.utils - INFO - func:render_recruitment_curves took: 2.86 sec\n",
      "2023-09-27 20:44:46,320 - __main__ - INFO - Plotting posterior checks ...\n",
      "2023-09-27 20:44:46,334 - hbmep.model.baseline - INFO - Rendering Posterior Predictive Check ...\n",
      "2023-09-27 20:44:49,745 - hbmep.model.baseline - INFO - Saved to /home/vishu/repos/hbmep-paper/reports/human/intraoperative/power-analysis/draw_3728/N_8/seed_204/posterior_predictive_check.pdf\n",
      "2023-09-27 20:44:49,745 - hbmep.utils.utils - INFO - func:_render_predictive_check took: 3.43 sec\n",
      "2023-09-27 20:44:49,746 - hbmep.utils.utils - INFO - func:render_predictive_check took: 3.43 sec\n",
      "2023-09-27 20:44:52,439 - __main__ - INFO - \n",
      "\n",
      "Draw:3/50, N:3/6, Repeat:8/10\n",
      "2023-09-27 20:44:52,443 - __main__ - INFO - Seed:912, Subjects: 108, 85, 144, 90, 97, 14, 64, 164\n",
      "2023-09-27 20:44:52,444 - hbmep.config - INFO - Verifying configuration ...\n",
      "2023-09-27 20:44:52,444 - hbmep.config - INFO - Success!\n",
      "2023-09-27 20:44:52,444 - hbmep.model.baseline - INFO - Initialized model with hierarchical_bayesian link\n",
      "2023-09-27 20:44:52,444 - hbmep.dataset.core - INFO - Artefacts will be stored here - /home/vishu/repos/hbmep-paper/reports/human/intraoperative/power-analysis/draw_3728/N_8/seed_912\n",
      "2023-09-27 20:44:52,445 - hbmep.dataset.core - INFO - Copied config to /home/vishu/repos/hbmep-paper/reports/human/intraoperative/power-analysis/draw_3728/N_8/seed_912\n",
      "2023-09-27 20:44:52,445 - hbmep.dataset.core - INFO - Processing data ...\n",
      "2023-09-27 20:44:52,446 - hbmep.utils.utils - INFO - func:load took: 0.00 sec\n",
      "2023-09-27 20:44:52,446 - __main__ - INFO - Fitting ...\n",
      "2023-09-27 20:44:52,447 - hbmep.model.baseline - INFO - Running inference with hierarchical_bayesian ...\n"
     ]
    },
    {
     "data": {
      "application/vnd.jupyter.widget-view+json": {
       "model_id": "c19bbff7747b41099979ee2a7cf0355f",
       "version_major": 2,
       "version_minor": 0
      },
      "text/plain": [
       "  0%|          | 0/1500 [00:00<?, ?it/s]"
      ]
     },
     "metadata": {},
     "output_type": "display_data"
    },
    {
     "data": {
      "application/vnd.jupyter.widget-view+json": {
       "model_id": "4a85e0a80d8c47e483654d9f5e52e466",
       "version_major": 2,
       "version_minor": 0
      },
      "text/plain": [
       "  0%|          | 0/1500 [00:00<?, ?it/s]"
      ]
     },
     "metadata": {},
     "output_type": "display_data"
    },
    {
     "data": {
      "application/vnd.jupyter.widget-view+json": {
       "model_id": "40f2e387862749d2859114f4f58557b6",
       "version_major": 2,
       "version_minor": 0
      },
      "text/plain": [
       "  0%|          | 0/1500 [00:00<?, ?it/s]"
      ]
     },
     "metadata": {},
     "output_type": "display_data"
    },
    {
     "data": {
      "application/vnd.jupyter.widget-view+json": {
       "model_id": "c955c6ccfd11458e848ffffc1f711b51",
       "version_major": 2,
       "version_minor": 0
      },
      "text/plain": [
       "  0%|          | 0/1500 [00:00<?, ?it/s]"
      ]
     },
     "metadata": {},
     "output_type": "display_data"
    },
    {
     "name": "stderr",
     "output_type": "stream",
     "text": [
      "2023-09-27 20:46:00,729 - hbmep.utils.utils - INFO - func:run_inference took: 1 min and 8.28 sec\n",
      "2023-09-27 20:46:00,729 - __main__ - INFO - Predicting ...\n",
      "2023-09-27 20:46:00,734 - hbmep.utils.utils - INFO - func:make_prediction_dataset took: 0.00 sec\n",
      "2023-09-27 20:46:03,477 - hbmep.utils.utils - INFO - func:predict took: 2.74 sec\n",
      "2023-09-27 20:46:03,478 - __main__ - INFO - Plotting recruitment curves ...\n",
      "2023-09-27 20:46:03,486 - hbmep.model.baseline - INFO - Rendering ...\n",
      "2023-09-27 20:46:06,337 - hbmep.model.baseline - INFO - Saved to /home/vishu/repos/hbmep-paper/reports/human/intraoperative/power-analysis/draw_3728/N_8/seed_912/recruitment_curves.pdf\n",
      "2023-09-27 20:46:06,337 - hbmep.utils.utils - INFO - func:render_recruitment_curves took: 2.86 sec\n",
      "2023-09-27 20:46:06,338 - __main__ - INFO - Plotting posterior checks ...\n",
      "2023-09-27 20:46:06,352 - hbmep.model.baseline - INFO - Rendering Posterior Predictive Check ...\n",
      "2023-09-27 20:46:09,797 - hbmep.model.baseline - INFO - Saved to /home/vishu/repos/hbmep-paper/reports/human/intraoperative/power-analysis/draw_3728/N_8/seed_912/posterior_predictive_check.pdf\n",
      "2023-09-27 20:46:09,798 - hbmep.utils.utils - INFO - func:_render_predictive_check took: 3.46 sec\n",
      "2023-09-27 20:46:09,798 - hbmep.utils.utils - INFO - func:render_predictive_check took: 3.46 sec\n",
      "2023-09-27 20:46:12,503 - __main__ - INFO - \n",
      "\n",
      "Draw:3/50, N:3/6, Repeat:9/10\n",
      "2023-09-27 20:46:12,506 - __main__ - INFO - Seed:698, Subjects: 50, 190, 14, 153, 33, 159, 185, 131\n",
      "2023-09-27 20:46:12,507 - hbmep.config - INFO - Verifying configuration ...\n",
      "2023-09-27 20:46:12,508 - hbmep.config - INFO - Success!\n",
      "2023-09-27 20:46:12,508 - hbmep.model.baseline - INFO - Initialized model with hierarchical_bayesian link\n",
      "2023-09-27 20:46:12,508 - hbmep.dataset.core - INFO - Artefacts will be stored here - /home/vishu/repos/hbmep-paper/reports/human/intraoperative/power-analysis/draw_3728/N_8/seed_698\n",
      "2023-09-27 20:46:12,509 - hbmep.dataset.core - INFO - Copied config to /home/vishu/repos/hbmep-paper/reports/human/intraoperative/power-analysis/draw_3728/N_8/seed_698\n",
      "2023-09-27 20:46:12,510 - hbmep.dataset.core - INFO - Processing data ...\n",
      "2023-09-27 20:46:12,510 - hbmep.utils.utils - INFO - func:load took: 0.00 sec\n",
      "2023-09-27 20:46:12,510 - __main__ - INFO - Fitting ...\n",
      "2023-09-27 20:46:12,511 - hbmep.model.baseline - INFO - Running inference with hierarchical_bayesian ...\n"
     ]
    },
    {
     "data": {
      "application/vnd.jupyter.widget-view+json": {
       "model_id": "abc4bb985ebd4372ac3af7a870be8443",
       "version_major": 2,
       "version_minor": 0
      },
      "text/plain": [
       "  0%|          | 0/1500 [00:00<?, ?it/s]"
      ]
     },
     "metadata": {},
     "output_type": "display_data"
    },
    {
     "data": {
      "application/vnd.jupyter.widget-view+json": {
       "model_id": "acaf5704e37b4e63b5a0f1f1e3a3f56e",
       "version_major": 2,
       "version_minor": 0
      },
      "text/plain": [
       "  0%|          | 0/1500 [00:00<?, ?it/s]"
      ]
     },
     "metadata": {},
     "output_type": "display_data"
    },
    {
     "data": {
      "application/vnd.jupyter.widget-view+json": {
       "model_id": "401bbfb1824b4234ab4f9141b3dbc703",
       "version_major": 2,
       "version_minor": 0
      },
      "text/plain": [
       "  0%|          | 0/1500 [00:00<?, ?it/s]"
      ]
     },
     "metadata": {},
     "output_type": "display_data"
    },
    {
     "data": {
      "application/vnd.jupyter.widget-view+json": {
       "model_id": "e05a650e64004a32aebd2a5fd2e18c17",
       "version_major": 2,
       "version_minor": 0
      },
      "text/plain": [
       "  0%|          | 0/1500 [00:00<?, ?it/s]"
      ]
     },
     "metadata": {},
     "output_type": "display_data"
    },
    {
     "name": "stderr",
     "output_type": "stream",
     "text": [
      "2023-09-27 20:47:24,686 - hbmep.utils.utils - INFO - func:run_inference took: 1 min and 12.18 sec\n",
      "2023-09-27 20:47:24,687 - __main__ - INFO - Predicting ...\n",
      "2023-09-27 20:47:24,691 - hbmep.utils.utils - INFO - func:make_prediction_dataset took: 0.00 sec\n",
      "2023-09-27 20:47:27,445 - hbmep.utils.utils - INFO - func:predict took: 2.75 sec\n",
      "2023-09-27 20:47:27,445 - __main__ - INFO - Plotting recruitment curves ...\n",
      "2023-09-27 20:47:27,453 - hbmep.model.baseline - INFO - Rendering ...\n",
      "2023-09-27 20:47:30,493 - hbmep.model.baseline - INFO - Saved to /home/vishu/repos/hbmep-paper/reports/human/intraoperative/power-analysis/draw_3728/N_8/seed_698/recruitment_curves.pdf\n",
      "2023-09-27 20:47:30,494 - hbmep.utils.utils - INFO - func:render_recruitment_curves took: 3.05 sec\n",
      "2023-09-27 20:47:30,494 - __main__ - INFO - Plotting posterior checks ...\n",
      "2023-09-27 20:47:30,508 - hbmep.model.baseline - INFO - Rendering Posterior Predictive Check ...\n",
      "2023-09-27 20:47:33,950 - hbmep.model.baseline - INFO - Saved to /home/vishu/repos/hbmep-paper/reports/human/intraoperative/power-analysis/draw_3728/N_8/seed_698/posterior_predictive_check.pdf\n",
      "2023-09-27 20:47:33,951 - hbmep.utils.utils - INFO - func:_render_predictive_check took: 3.46 sec\n",
      "2023-09-27 20:47:33,951 - hbmep.utils.utils - INFO - func:render_predictive_check took: 3.46 sec\n",
      "2023-09-27 20:47:36,687 - __main__ - INFO - \n",
      "\n",
      "Draw:3/50, N:3/6, Repeat:10/10\n",
      "2023-09-27 20:47:36,689 - __main__ - INFO - Seed:677, Subjects: 156, 108, 186, 126, 124, 173, 91, 18\n",
      "2023-09-27 20:47:36,691 - hbmep.config - INFO - Verifying configuration ...\n",
      "2023-09-27 20:47:36,691 - hbmep.config - INFO - Success!\n",
      "2023-09-27 20:47:36,691 - hbmep.model.baseline - INFO - Initialized model with hierarchical_bayesian link\n",
      "2023-09-27 20:47:36,691 - hbmep.dataset.core - INFO - Artefacts will be stored here - /home/vishu/repos/hbmep-paper/reports/human/intraoperative/power-analysis/draw_3728/N_8/seed_677\n",
      "2023-09-27 20:47:36,692 - hbmep.dataset.core - INFO - Copied config to /home/vishu/repos/hbmep-paper/reports/human/intraoperative/power-analysis/draw_3728/N_8/seed_677\n",
      "2023-09-27 20:47:36,692 - hbmep.dataset.core - INFO - Processing data ...\n",
      "2023-09-27 20:47:36,693 - hbmep.utils.utils - INFO - func:load took: 0.00 sec\n",
      "2023-09-27 20:47:36,693 - __main__ - INFO - Fitting ...\n",
      "2023-09-27 20:47:36,693 - hbmep.model.baseline - INFO - Running inference with hierarchical_bayesian ...\n"
     ]
    },
    {
     "data": {
      "application/vnd.jupyter.widget-view+json": {
       "model_id": "49db253731bd4de599501e4d8832452d",
       "version_major": 2,
       "version_minor": 0
      },
      "text/plain": [
       "  0%|          | 0/1500 [00:00<?, ?it/s]"
      ]
     },
     "metadata": {},
     "output_type": "display_data"
    },
    {
     "data": {
      "application/vnd.jupyter.widget-view+json": {
       "model_id": "ac8ed98ab6c14359a724172cfd25862d",
       "version_major": 2,
       "version_minor": 0
      },
      "text/plain": [
       "  0%|          | 0/1500 [00:00<?, ?it/s]"
      ]
     },
     "metadata": {},
     "output_type": "display_data"
    },
    {
     "data": {
      "application/vnd.jupyter.widget-view+json": {
       "model_id": "2aa6f4cc97094fd0a94fdb3f9cbbbfda",
       "version_major": 2,
       "version_minor": 0
      },
      "text/plain": [
       "  0%|          | 0/1500 [00:00<?, ?it/s]"
      ]
     },
     "metadata": {},
     "output_type": "display_data"
    },
    {
     "data": {
      "application/vnd.jupyter.widget-view+json": {
       "model_id": "cd7e2d927b70401995bef98de8b12223",
       "version_major": 2,
       "version_minor": 0
      },
      "text/plain": [
       "  0%|          | 0/1500 [00:00<?, ?it/s]"
      ]
     },
     "metadata": {},
     "output_type": "display_data"
    },
    {
     "name": "stderr",
     "output_type": "stream",
     "text": [
      "2023-09-27 20:48:46,694 - hbmep.utils.utils - INFO - func:run_inference took: 1 min and 10.00 sec\n",
      "2023-09-27 20:48:46,695 - __main__ - INFO - Predicting ...\n",
      "2023-09-27 20:48:46,700 - hbmep.utils.utils - INFO - func:make_prediction_dataset took: 0.00 sec\n",
      "2023-09-27 20:48:49,463 - hbmep.utils.utils - INFO - func:predict took: 2.76 sec\n",
      "2023-09-27 20:48:49,463 - __main__ - INFO - Plotting recruitment curves ...\n",
      "2023-09-27 20:48:49,471 - hbmep.model.baseline - INFO - Rendering ...\n",
      "2023-09-27 20:48:52,605 - hbmep.model.baseline - INFO - Saved to /home/vishu/repos/hbmep-paper/reports/human/intraoperative/power-analysis/draw_3728/N_8/seed_677/recruitment_curves.pdf\n",
      "2023-09-27 20:48:52,605 - hbmep.utils.utils - INFO - func:render_recruitment_curves took: 3.14 sec\n",
      "2023-09-27 20:48:52,605 - __main__ - INFO - Plotting posterior checks ...\n",
      "2023-09-27 20:48:52,619 - hbmep.model.baseline - INFO - Rendering Posterior Predictive Check ...\n",
      "2023-09-27 20:48:56,059 - hbmep.model.baseline - INFO - Saved to /home/vishu/repos/hbmep-paper/reports/human/intraoperative/power-analysis/draw_3728/N_8/seed_677/posterior_predictive_check.pdf\n",
      "2023-09-27 20:48:56,060 - hbmep.utils.utils - INFO - func:_render_predictive_check took: 3.45 sec\n",
      "2023-09-27 20:48:56,060 - hbmep.utils.utils - INFO - func:render_predictive_check took: 3.45 sec\n",
      "2023-09-27 20:48:58,823 - __main__ - INFO - \n",
      "\n",
      "Draw:3/50, N:4/6, Repeat:1/10\n",
      "2023-09-27 20:48:58,825 - __main__ - INFO - Seed:339, Subjects: 67, 138, 116, 43, 140, 161, 181, 178, 17, 167, 102, 36\n",
      "2023-09-27 20:48:58,826 - hbmep.config - INFO - Verifying configuration ...\n",
      "2023-09-27 20:48:58,827 - hbmep.config - INFO - Success!\n",
      "2023-09-27 20:48:58,827 - hbmep.model.baseline - INFO - Initialized model with hierarchical_bayesian link\n",
      "2023-09-27 20:48:58,827 - hbmep.dataset.core - INFO - Artefacts will be stored here - /home/vishu/repos/hbmep-paper/reports/human/intraoperative/power-analysis/draw_3728/N_12/seed_339\n",
      "2023-09-27 20:48:58,828 - hbmep.dataset.core - INFO - Copied config to /home/vishu/repos/hbmep-paper/reports/human/intraoperative/power-analysis/draw_3728/N_12/seed_339\n",
      "2023-09-27 20:48:58,828 - hbmep.dataset.core - INFO - Processing data ...\n",
      "2023-09-27 20:48:58,829 - hbmep.utils.utils - INFO - func:load took: 0.00 sec\n",
      "2023-09-27 20:48:58,829 - __main__ - INFO - Fitting ...\n",
      "2023-09-27 20:48:58,830 - hbmep.model.baseline - INFO - Running inference with hierarchical_bayesian ...\n"
     ]
    },
    {
     "data": {
      "application/vnd.jupyter.widget-view+json": {
       "model_id": "7f9e354824f141c6b84f46f1e51ae95e",
       "version_major": 2,
       "version_minor": 0
      },
      "text/plain": [
       "  0%|          | 0/1500 [00:00<?, ?it/s]"
      ]
     },
     "metadata": {},
     "output_type": "display_data"
    },
    {
     "data": {
      "application/vnd.jupyter.widget-view+json": {
       "model_id": "c4d67d7572fa475c9740e17c07c4b5d0",
       "version_major": 2,
       "version_minor": 0
      },
      "text/plain": [
       "  0%|          | 0/1500 [00:00<?, ?it/s]"
      ]
     },
     "metadata": {},
     "output_type": "display_data"
    },
    {
     "data": {
      "application/vnd.jupyter.widget-view+json": {
       "model_id": "2c575e77f2ac40699cf9ea2dbb60f4e9",
       "version_major": 2,
       "version_minor": 0
      },
      "text/plain": [
       "  0%|          | 0/1500 [00:00<?, ?it/s]"
      ]
     },
     "metadata": {},
     "output_type": "display_data"
    },
    {
     "data": {
      "application/vnd.jupyter.widget-view+json": {
       "model_id": "641c390e9c1b48388ef607e26ce20c3e",
       "version_major": 2,
       "version_minor": 0
      },
      "text/plain": [
       "  0%|          | 0/1500 [00:00<?, ?it/s]"
      ]
     },
     "metadata": {},
     "output_type": "display_data"
    },
    {
     "name": "stderr",
     "output_type": "stream",
     "text": [
      "2023-09-27 20:50:37,777 - hbmep.utils.utils - INFO - func:run_inference took: 1 min and 38.95 sec\n",
      "2023-09-27 20:50:37,778 - __main__ - INFO - Predicting ...\n",
      "2023-09-27 20:50:37,782 - hbmep.utils.utils - INFO - func:make_prediction_dataset took: 0.00 sec\n",
      "2023-09-27 20:50:41,679 - hbmep.utils.utils - INFO - func:predict took: 3.90 sec\n",
      "2023-09-27 20:50:41,680 - __main__ - INFO - Plotting recruitment curves ...\n",
      "2023-09-27 20:50:41,691 - hbmep.model.baseline - INFO - Rendering ...\n",
      "2023-09-27 20:50:46,226 - hbmep.model.baseline - INFO - Saved to /home/vishu/repos/hbmep-paper/reports/human/intraoperative/power-analysis/draw_3728/N_12/seed_339/recruitment_curves.pdf\n",
      "2023-09-27 20:50:46,227 - hbmep.utils.utils - INFO - func:render_recruitment_curves took: 4.55 sec\n",
      "2023-09-27 20:50:46,227 - __main__ - INFO - Plotting posterior checks ...\n",
      "2023-09-27 20:50:46,248 - hbmep.model.baseline - INFO - Rendering Posterior Predictive Check ...\n",
      "2023-09-27 20:50:51,418 - hbmep.model.baseline - INFO - Saved to /home/vishu/repos/hbmep-paper/reports/human/intraoperative/power-analysis/draw_3728/N_12/seed_339/posterior_predictive_check.pdf\n",
      "2023-09-27 20:50:51,419 - hbmep.utils.utils - INFO - func:_render_predictive_check took: 5.19 sec\n",
      "2023-09-27 20:50:51,419 - hbmep.utils.utils - INFO - func:render_predictive_check took: 5.19 sec\n",
      "2023-09-27 20:50:54,258 - __main__ - INFO - \n",
      "\n",
      "Draw:3/50, N:4/6, Repeat:2/10\n",
      "2023-09-27 20:50:54,262 - __main__ - INFO - Seed:777, Subjects: 23, 34, 144, 97, 27, 47, 92, 191, 80, 148, 82, 15\n",
      "2023-09-27 20:50:54,262 - hbmep.config - INFO - Verifying configuration ...\n",
      "2023-09-27 20:50:54,263 - hbmep.config - INFO - Success!\n",
      "2023-09-27 20:50:54,263 - hbmep.model.baseline - INFO - Initialized model with hierarchical_bayesian link\n",
      "2023-09-27 20:50:54,263 - hbmep.dataset.core - INFO - Artefacts will be stored here - /home/vishu/repos/hbmep-paper/reports/human/intraoperative/power-analysis/draw_3728/N_12/seed_777\n",
      "2023-09-27 20:50:54,263 - hbmep.dataset.core - INFO - Copied config to /home/vishu/repos/hbmep-paper/reports/human/intraoperative/power-analysis/draw_3728/N_12/seed_777\n",
      "2023-09-27 20:50:54,264 - hbmep.dataset.core - INFO - Processing data ...\n",
      "2023-09-27 20:50:54,265 - hbmep.utils.utils - INFO - func:load took: 0.00 sec\n",
      "2023-09-27 20:50:54,265 - __main__ - INFO - Fitting ...\n",
      "2023-09-27 20:50:54,266 - hbmep.model.baseline - INFO - Running inference with hierarchical_bayesian ...\n"
     ]
    },
    {
     "data": {
      "application/vnd.jupyter.widget-view+json": {
       "model_id": "37d3172478d146e99d2c702a5e177558",
       "version_major": 2,
       "version_minor": 0
      },
      "text/plain": [
       "  0%|          | 0/1500 [00:00<?, ?it/s]"
      ]
     },
     "metadata": {},
     "output_type": "display_data"
    },
    {
     "data": {
      "application/vnd.jupyter.widget-view+json": {
       "model_id": "21d715e902d94548876012d047a69ade",
       "version_major": 2,
       "version_minor": 0
      },
      "text/plain": [
       "  0%|          | 0/1500 [00:00<?, ?it/s]"
      ]
     },
     "metadata": {},
     "output_type": "display_data"
    },
    {
     "data": {
      "application/vnd.jupyter.widget-view+json": {
       "model_id": "a6f2e155a2d5453b8e31a49002e16bdd",
       "version_major": 2,
       "version_minor": 0
      },
      "text/plain": [
       "  0%|          | 0/1500 [00:00<?, ?it/s]"
      ]
     },
     "metadata": {},
     "output_type": "display_data"
    },
    {
     "data": {
      "application/vnd.jupyter.widget-view+json": {
       "model_id": "b3292bd1b7474032b483ffc633a5b7b6",
       "version_major": 2,
       "version_minor": 0
      },
      "text/plain": [
       "  0%|          | 0/1500 [00:00<?, ?it/s]"
      ]
     },
     "metadata": {},
     "output_type": "display_data"
    }
   ],
   "source": [
    "logger.info(f\"BUILD_DIR: {os.path.join(MODEL.build_dir, prefix)}\")\n",
    "logger.info(f\"N_space: {', '.join(map(str, N_space))}\")\n",
    "\n",
    "logger.info(f\"n_draws: {n_draws}\")\n",
    "logger.info(f\"draws: {', '.join(map(str, draws_space))}\")\n",
    "\n",
    "logger.info(f\"n_repeats: {n_repeats}\")\n",
    "logger.info(f\"seeds: {', '.join(map(str, repeats_space))}\")\n",
    "\n",
    "mu_delta_predicted = None\n",
    "\n",
    "for draw_counter, draw_ind in enumerate(draws_space):\n",
    "    curr_draw_mu_delta = None\n",
    "\n",
    "    for N_counter, N in enumerate(N_space):\n",
    "        N_dir = f\"N_{N}\"\n",
    "        curr_N_mu_delta = None\n",
    "\n",
    "        for repeat_counter, seed in enumerate(repeats_space):\n",
    "            seed_dir = f\"seed_{seed}\"\n",
    "            logger.info(f\"\\n\\nDraw:{draw_counter + 1}/{n_draws}, N:{N_counter + 1}/{len(N_space)}, Repeat:{repeat_counter + 1}/{n_repeats}\")\n",
    "\n",
    "            subjects_ind = \\\n",
    "                jax.random.choice(\n",
    "                    key=jax.random.PRNGKey(seed),\n",
    "                    a=np.arange(0, TOTAL_SUBJECTS, 1),\n",
    "                    shape=(N,),\n",
    "                    replace=False\n",
    "                ) \\\n",
    "                .tolist()\n",
    "            logger.info(f\"Seed:{seed}, Subjects: {', '.join(map(str, subjects_ind))}\")\n",
    "\n",
    "            ind = PREDICTION_DF[MODEL.subject].isin(subjects_ind)\n",
    "            curr_df = PREDICTION_DF[ind].reset_index(drop=True).copy()\n",
    "\n",
    "            df = curr_df.copy()\n",
    "            df[MODEL.response] = OBS[draw_ind, ...][ind, ...]\n",
    "\n",
    "            \"\"\" Build model \"\"\"\n",
    "            config = Config(toml_path=toml_path)\n",
    "            config.BUILD_DIR = os.path.join(CONFIG.BUILD_DIR, prefix, draw_dir, N_dir, seed_dir)\n",
    "            model = HierarchicalBayesianModel(config=config)\n",
    "\n",
    "            \"\"\" Load data \"\"\"\n",
    "            df, encoder_dict = model.load(df=df)\n",
    "\n",
    "            \"\"\" Fit \"\"\"\n",
    "            logger.info(\"Fitting ...\")\n",
    "            mcmc, posterior_samples = model.run_inference(df=df)\n",
    "\n",
    "            \"\"\" Predict \"\"\"\n",
    "            logger.info(\"Predicting ...\")\n",
    "            prediction_df = model.make_prediction_dataset(df=df, num_points=100)\n",
    "            ppd = model.predict(df=prediction_df, posterior_samples=posterior_samples)\n",
    "\n",
    "            \"\"\" Plot \"\"\"\n",
    "            logger.info(\"Plotting recruitment curves ...\")\n",
    "            model.render_recruitment_curves(df=df, posterior_samples=posterior_samples, prediction_df=prediction_df, posterior_predictive=ppd)\n",
    "            logger.info(\"Plotting posterior checks ...\")\n",
    "            model.render_predictive_check(df=df, prediction_df=prediction_df, posterior_predictive=ppd)\n",
    "\n",
    "            \"\"\" Power \"\"\"\n",
    "            mu_delta = posterior_samples[\"mu_delta\"]\n",
    "            mu_delta = np.array(mu_delta[None, ...])\n",
    "\n",
    "            \"\"\" Concatenate \"\"\"\n",
    "            if curr_N_mu_delta is None:\n",
    "                curr_N_mu_delta = mu_delta\n",
    "            else:\n",
    "                curr_N_mu_delta = np.concatenate([curr_N_mu_delta, mu_delta], axis=0)\n",
    "\n",
    "            config, curr_df, df, encoder_dict,  = None, None, None, None\n",
    "            mcmc, model, posterior_samples = None, None, None\n",
    "            prediction_df, ppd = None, None\n",
    "            mu_delta = None\n",
    "\n",
    "            del config, curr_df, df, encoder_dict, mcmc, model, posterior_samples, prediction_df, ppd, mu_delta\n",
    "            gc.collect()\n",
    "\n",
    "        \"\"\" Concatenate \"\"\"\n",
    "        curr_N_mu_delta = curr_N_mu_delta[None, ...]\n",
    "\n",
    "        if curr_draw_mu_delta is None:\n",
    "            curr_draw_mu_delta = curr_N_mu_delta\n",
    "        else:\n",
    "            curr_draw_mu_delta = np.concatenate([curr_draw_mu_delta, curr_N_mu_delta], axis=0)\n",
    "\n",
    "    \"\"\" Concatenate \"\"\"\n",
    "    curr_draw_mu_delta = curr_draw_mu_delta[None, ...]\n",
    "\n",
    "    if mu_delta_predicted is None:\n",
    "        mu_delta_predicted = curr_draw_mu_delta\n",
    "    else:\n",
    "        mu_delta_predicted = np.concatenate([mu_delta_predicted, curr_draw_mu_delta], axis=0)\n",
    "\n",
    "    dst = os.path.join(MODEL.build_dir, prefix, f\"mu_delta_predicted_Draw_{draw_counter + 1}.npy\")\n",
    "    np.save(dst, mu_delta_predicted)\n",
    "    logger.info(f\"Saved to {dst}\")\n"
   ]
  },
  {
   "cell_type": "code",
   "execution_count": 9,
   "metadata": {},
   "outputs": [
    {
     "data": {
      "text/plain": [
       "(4, 3, 2, 4000, 1, 1)"
      ]
     },
     "execution_count": 9,
     "metadata": {},
     "output_type": "execute_result"
    }
   ],
   "source": [
    "mu_delta_predicted.shape"
   ]
  },
  {
   "cell_type": "code",
   "execution_count": 24,
   "metadata": {},
   "outputs": [
    {
     "data": {
      "text/plain": [
       "array([[[0.90875, 0.93075],\n",
       "        [0.9585 , 0.9145 ],\n",
       "        [0.989  , 0.98525]],\n",
       "\n",
       "       [[0.74775, 0.78825],\n",
       "        [0.91425, 0.9245 ],\n",
       "        [0.75575, 0.953  ]],\n",
       "\n",
       "       [[0.789  , 0.724  ],\n",
       "        [0.82375, 0.85025],\n",
       "        [0.73375, 0.90625]],\n",
       "\n",
       "       [[0.93575, 0.89575],\n",
       "        [0.951  , 0.973  ],\n",
       "        [0.98275, 0.8855 ]]])"
      ]
     },
     "execution_count": 24,
     "metadata": {},
     "output_type": "execute_result"
    }
   ],
   "source": [
    "(mu_delta_predicted > 0).mean(axis=(-1, -2, -3))"
   ]
  },
  {
   "cell_type": "code",
   "execution_count": 25,
   "metadata": {},
   "outputs": [
    {
     "data": {
      "text/plain": [
       "array([0.   , 0.375, 0.5  ])"
      ]
     },
     "execution_count": 25,
     "metadata": {},
     "output_type": "execute_result"
    }
   ],
   "source": [
    "((mu_delta_predicted > 0).mean(axis=(-1, -2, -3)) > .95).mean(axis=(0, -1))"
   ]
  },
  {
   "cell_type": "code",
   "execution_count": 11,
   "metadata": {},
   "outputs": [
    {
     "data": {
      "text/plain": [
       "array([0.02, 0.48, 0.8 , 0.94, 1.  , 0.98])"
      ]
     },
     "execution_count": 11,
     "metadata": {},
     "output_type": "execute_result"
    }
   ],
   "source": [
    "((mu_delta_predicted > 0).mean(axis=(-1, -2, -3)) > .95).mean(axis=-1)"
   ]
  },
  {
   "cell_type": "code",
   "execution_count": 14,
   "metadata": {},
   "outputs": [
    {
     "data": {
      "text/plain": [
       "[2, 4, 6, 8, 10, 12]"
      ]
     },
     "execution_count": 14,
     "metadata": {},
     "output_type": "execute_result"
    }
   ],
   "source": [
    "N_space"
   ]
  },
  {
   "cell_type": "code",
   "execution_count": 51,
   "metadata": {},
   "outputs": [
    {
     "data": {
      "image/png": "[encoded data removed]",
      "text/plain": [
       "<Figure size 2000x300 with 4 Axes>"
      ]
     },
     "metadata": {},
     "output_type": "display_data"
    }
   ],
   "source": [
    "rope_space = [0, 1, 1.5, 2]\n",
    "\n",
    "nrows, ncols = 1, len(rope_space)\n",
    "fig, axes = plt.subplots(nrows=nrows, ncols=ncols, figsize=(5 * ncols, 3 * nrows), squeeze=False, constrained_layout=True, sharex=True, sharey=True)\n",
    "\n",
    "i = 0\n",
    "for rope in rope_space:\n",
    "    ax = axes[i // ncols, i % ncols]\n",
    "\n",
    "    power = ((mu_delta_predicted > rope).mean(axis=(-1, -2, -3)) > .95).mean(axis=-1)\n",
    "\n",
    "    sns.lineplot(x=N_space, y=power, marker=\"o\", linestyle=\"--\", color=\"r\", ax=ax)\n",
    "\n",
    "    ax.grid(linewidth=.3, linestyle=\"--\", axis=\"both\")\n",
    "    ax.set_yticks(np.arange(0, 1.2, .2))\n",
    "    ax.set_xticks(N_space)\n",
    "\n",
    "    ax.set_title(f\"Power Curve - H1: Δ > {rope}, ROPE: ({-1 * rope}, {rope})\")\n",
    "    ax.set_xlabel(\"Sample Size (N)\")\n",
    "    ax.set_ylabel(\"Power (β)\")\n",
    "\n",
    "    ax.yaxis.set_tick_params(labelleft=True)\n",
    "\n",
    "    i += 1\n"
   ]
  },
  {
   "cell_type": "code",
   "execution_count": null,
   "metadata": {},
   "outputs": [],
   "source": []
  }
 ],
 "metadata": {
  "kernelspec": {
   "display_name": "Python 3 (ipykernel)",
   "language": "python",
   "name": "python3"
  },
  "orig_nbformat": 4
 },
 "nbformat": 4,
 "nbformat_minor": 2
}
