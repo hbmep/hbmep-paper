{
 "cells": [
  {
   "cell_type": "code",
   "execution_count": 1,
   "metadata": {},
   "outputs": [],
   "source": [
    "%reload_ext autoreload\n",
    "%autoreload 2\n",
    "\n",
    "import os\n",
    "import gc\n",
    "import sys\n",
    "import logging\n",
    "import multiprocessing\n",
    "from pathlib import Path\n",
    "from typing import Optional\n",
    "from tqdm import tqdm\n",
    "\n",
    "import pandas as pd\n",
    "import numpy as np\n",
    "import jax\n",
    "import jax.numpy as jnp\n",
    "import numpyro\n",
    "\n",
    "import matplotlib\n",
    "import matplotlib.pyplot as plt\n",
    "from matplotlib.backends.backend_pdf import PdfPages\n",
    "import seaborn as sns\n",
    "\n",
    "from hbmep.config import Config\n",
    "from hbmep.model.utils import Site as site\n",
    "\n",
    "PLATFORM = \"cpu\"\n",
    "jax.config.update(\"jax_platforms\", PLATFORM)\n",
    "numpyro.set_platform(PLATFORM)\n",
    "\n",
    "cpu_count = multiprocessing.cpu_count() - 2\n",
    "numpyro.set_host_device_count(cpu_count)\n",
    "numpyro.enable_x64()\n",
    "numpyro.enable_validation()\n",
    "\n",
    "logger = logging.getLogger(__name__)\n",
    "logger.setLevel(logging.INFO)\n",
    "\n",
    "FORMAT = \"%(asctime)s - %(name)s - %(levelname)s - %(message)s\"\n",
    "formatter = logging.Formatter(FORMAT)\n",
    "\n",
    "fhandler = logging.FileHandler(filename='power-analysis.log', mode=\"w\")\n",
    "fhandler.setFormatter(formatter)\n",
    "fhandler.setLevel(logging.INFO)\n",
    "logger.addHandler(fhandler)\n",
    "\n",
    "# consoleHandler = logging.StreamHandler(sys.stdout)\n",
    "# consoleHandler.setFormatter(formatter)\n",
    "# logger.addHandler(consoleHandler)\n"
   ]
  },
  {
   "cell_type": "code",
   "execution_count": 2,
   "metadata": {},
   "outputs": [],
   "source": [
    "import numpyro.distributions as dist\n",
    "from hbmep.model import Baseline\n",
    "from hbmep_paper.utils.constants import HBM\n",
    "\n",
    "\n",
    "class HierarchicalBayesianModel(Baseline):\n",
    "    LINK = HBM\n",
    "\n",
    "    def __init__(self, config: Config):\n",
    "        super(HierarchicalBayesianModel, self).__init__(config=config)\n",
    "        self.combination_columns = self.features + [self.subject]\n",
    "        self.priors = {\"baseline\", \"delta\", site.a, site.b, site.L, site.H, site.v, site.g_1, site.g_2}\n",
    "\n",
    "    def _model(self, subject, features, intensity, response_obs=None):\n",
    "        intensity = intensity.reshape(-1, 1)\n",
    "        intensity = np.tile(intensity, (1, self.n_response))\n",
    "\n",
    "        feature0 = features[0].reshape(-1,)\n",
    "\n",
    "        n_data = intensity.shape[0]\n",
    "        n_subject = np.unique(subject).shape[0]\n",
    "        n_feature0 = np.unique(feature0).shape[0]\n",
    "\n",
    "        n_baseline = 1\n",
    "        n_delta = n_feature0 - 1\n",
    "\n",
    "        \"\"\" Baseline \"\"\"\n",
    "        with numpyro.plate(site.n_response, self.n_response, dim=-1):\n",
    "            with numpyro.plate(\"n_baseline\", n_baseline, dim=-2):\n",
    "                mu_baseline = numpyro.sample(\n",
    "                    \"mu_baseline\",\n",
    "                    dist.TruncatedNormal(5, 10, low=0)\n",
    "                )\n",
    "                sigma_baseline = numpyro.sample(\n",
    "                    \"sigma_baseline\",\n",
    "                    dist.HalfNormal(10.0)\n",
    "                )\n",
    "\n",
    "                with numpyro.plate(site.n_subject, n_subject, dim=-3):\n",
    "                    baseline = numpyro.sample(\n",
    "                        \"baseline\",\n",
    "                        dist.TruncatedNormal(mu_baseline, sigma_baseline, low=0)\n",
    "                    )\n",
    "\n",
    "        \"\"\" Delta \"\"\"\n",
    "        with numpyro.plate(site.n_response, self.n_response, dim=-1):\n",
    "            with numpyro.plate(\"n_delta\", n_delta, dim=-2):\n",
    "                mu_delta = numpyro.sample(\"mu_delta\", dist.Normal(0, 10))\n",
    "                sigma_delta = numpyro.sample(\"sigma_delta\", dist.HalfNormal(10.0))\n",
    "\n",
    "                with numpyro.plate(site.n_subject, n_subject, dim=-3):\n",
    "                    delta = numpyro.sample(\"delta\", dist.Normal(mu_delta, sigma_delta))\n",
    "\n",
    "        with numpyro.plate(site.n_response, self.n_response, dim=-1):\n",
    "            with numpyro.plate(\"n_feature0\", n_feature0, dim=-2):\n",
    "                \"\"\" Hyper-priors \"\"\"\n",
    "                sigma_b = numpyro.sample(site.sigma_b, dist.HalfNormal(10))\n",
    "\n",
    "                sigma_L = numpyro.sample(site.sigma_L, dist.HalfNormal(2))\n",
    "                sigma_H = numpyro.sample(site.sigma_H, dist.HalfNormal(10))\n",
    "                sigma_v = numpyro.sample(site.sigma_v, dist.HalfNormal(10))\n",
    "\n",
    "                with numpyro.plate(site.n_subject, n_subject, dim=-3):\n",
    "                    \"\"\" Priors \"\"\"\n",
    "                    a = numpyro.deterministic(\n",
    "                        site.a,\n",
    "                        jnp.concatenate([baseline, baseline + delta], axis=1)\n",
    "                    )\n",
    "                    b = numpyro.sample(site.b, dist.HalfNormal(sigma_b))\n",
    "\n",
    "                    L = numpyro.sample(site.L, dist.HalfNormal(sigma_L))\n",
    "                    H = numpyro.sample(site.H, dist.HalfNormal(sigma_H))\n",
    "                    v = numpyro.sample(site.v, dist.HalfNormal(sigma_v))\n",
    "\n",
    "                    g_1 = numpyro.sample(site.g_1, dist.Exponential(0.01))\n",
    "                    g_2 = numpyro.sample(site.g_2, dist.Exponential(0.01))\n",
    "\n",
    "        \"\"\" Model \"\"\"\n",
    "        mu = numpyro.deterministic(\n",
    "            site.mu,\n",
    "            L[subject, feature0]\n",
    "            + jnp.maximum(\n",
    "                0,\n",
    "                -1\n",
    "                + (H[subject, feature0] + 1)\n",
    "                / jnp.power(\n",
    "                    1\n",
    "                    + (jnp.power(1 + H[subject, feature0], v[subject, feature0]) - 1)\n",
    "                    * jnp.exp(-b[subject, feature0] * (intensity - a[subject, feature0])),\n",
    "                    1 / v[subject, feature0]\n",
    "                )\n",
    "            )\n",
    "        )\n",
    "        beta = numpyro.deterministic(\n",
    "            site.beta,\n",
    "            g_1[subject, feature0] + g_2[subject, feature0] * (1 / mu) ** 2\n",
    "        )\n",
    "\n",
    "        \"\"\" Penalty \"\"\"\n",
    "        penalty = (jnp.fabs(baseline + delta) - (baseline + delta))\n",
    "        numpyro.factor(\"penalty\", -penalty)\n",
    "\n",
    "        \"\"\" Observation \"\"\"\n",
    "        with numpyro.plate(site.data, n_data):\n",
    "            return numpyro.sample(\n",
    "                site.obs,\n",
    "                dist.Gamma(concentration=mu * beta, rate=beta).to_event(1),\n",
    "                obs=response_obs\n",
    "            )\n"
   ]
  },
  {
   "cell_type": "code",
   "execution_count": 3,
   "metadata": {},
   "outputs": [
    {
     "name": "stderr",
     "output_type": "stream",
     "text": [
      "2023-09-27 17:14:24,262 - hbmep.config - INFO - Verifying configuration ...\n",
      "2023-09-27 17:14:24,262 - hbmep.config - INFO - Success!\n",
      "2023-09-27 17:14:24,278 - hbmep.model.baseline - INFO - Initialized model with hierarchical_bayesian link\n",
      "2023-09-27 17:14:24,295 - hbmep.dataset.core - INFO - Artefacts will be stored here - /home/vishu/repos/hbmep-paper/reports/human/intraoperative\n",
      "2023-09-27 17:14:24,295 - hbmep.dataset.core - INFO - Copied config to /home/vishu/repos/hbmep-paper/reports/human/intraoperative\n",
      "2023-09-27 17:14:24,296 - hbmep.dataset.core - INFO - Processing data ...\n",
      "2023-09-27 17:14:24,297 - hbmep.utils.utils - INFO - func:load took: 0.00 sec\n"
     ]
    }
   ],
   "source": [
    "import pickle\n",
    "\n",
    "\n",
    "root_path = Path(os.getcwd()).parent.parent.parent.absolute()\n",
    "toml_path = os.path.join(root_path, \"configs/human/intraoperative/config.toml\")\n",
    "\n",
    "CONFIG = Config(toml_path=toml_path)\n",
    "MODEL = HierarchicalBayesianModel(config=CONFIG)\n",
    "\n",
    "src = \"/home/vishu/data/hbmep-processed/human/intraoperative/data.csv\"\n",
    "DF = pd.read_csv(src)\n",
    "\n",
    "subset = [\n",
    "    'scapptio001'\n",
    "]\n",
    "ind = ~DF[MODEL.subject].isin(subset)\n",
    "DF = DF[ind].reset_index(drop=True).copy()\n",
    "\n",
    "DF, ENCODER_DICT = MODEL.load(df=DF)\n",
    "\n",
    "dest = os.path.join(MODEL.build_dir, \"inference.pkl\")\n",
    "with open(dest, \"rb\") as g:\n",
    "    _, MCMC, POSTERIOR_SAMPLES = pickle.load(g)\n"
   ]
  },
  {
   "cell_type": "code",
   "execution_count": null,
   "metadata": {},
   "outputs": [],
   "source": [
    "df"
   ]
  },
  {
   "cell_type": "code",
   "execution_count": 4,
   "metadata": {},
   "outputs": [
    {
     "name": "stderr",
     "output_type": "stream",
     "text": [
      "2023-09-27 17:14:24,365 - hbmep.utils.utils - INFO - func:make_prediction_dataset took: 0.01 sec\n"
     ]
    },
    {
     "data": {
      "text/plain": [
       "(8000, 3)"
      ]
     },
     "execution_count": 4,
     "metadata": {},
     "output_type": "execute_result"
    }
   ],
   "source": [
    "TOTAL_SUBJECTS = 200\n",
    "\n",
    "PREDICTION_DF = \\\n",
    "    pd.DataFrame(np.arange(0, TOTAL_SUBJECTS, 1), columns=[MODEL.subject]) \\\n",
    "    .merge(\n",
    "        pd.DataFrame(np.arange(0, 2, 1), columns=MODEL.features),\n",
    "        how=\"cross\"\n",
    "    ) \\\n",
    "    .merge(\n",
    "        pd.DataFrame([0, 10], columns=[MODEL.intensity]),\n",
    "        how=\"cross\"\n",
    "    )\n",
    "\n",
    "PREDICTION_DF = MODEL.make_prediction_dataset(df=PREDICTION_DF, num_points=20)\n",
    "PREDICTION_DF.shape"
   ]
  },
  {
   "cell_type": "code",
   "execution_count": 5,
   "metadata": {},
   "outputs": [
    {
     "name": "stderr",
     "output_type": "stream",
     "text": [
      "2023-09-27 17:14:38,296 - hbmep.utils.utils - INFO - func:predict took: 13.89 sec\n"
     ]
    },
    {
     "data": {
      "text/plain": [
       "(4000, 8000, 1)"
      ]
     },
     "execution_count": 5,
     "metadata": {},
     "output_type": "execute_result"
    }
   ],
   "source": [
    "POST = {u: v for u, v in POSTERIOR_SAMPLES.items() if u not in MODEL.priors}\n",
    "POSTERIOR_PREDICTIVE = MODEL.predict(df=PREDICTION_DF, posterior_samples=POST)\n",
    "\n",
    "OBS = np.array(POSTERIOR_PREDICTIVE[site.obs])\n",
    "OBS.shape"
   ]
  },
  {
   "cell_type": "code",
   "execution_count": 6,
   "metadata": {},
   "outputs": [
    {
     "data": {
      "text/plain": [
       "(4000, 1, 1)"
      ]
     },
     "execution_count": 6,
     "metadata": {},
     "output_type": "execute_result"
    }
   ],
   "source": [
    "mu_delta_true = POSTERIOR_SAMPLES[\"mu_delta\"]\n",
    "mu_delta_true.shape"
   ]
  },
  {
   "cell_type": "code",
   "execution_count": 7,
   "metadata": {},
   "outputs": [],
   "source": [
    "prefix = \"power-analysis\"\n",
    "N_space = [2, 4, 8, 12, 16, 20]\n",
    "\n",
    "n_draws = 50\n",
    "draws_space = \\\n",
    "    jax.random.choice(\n",
    "        key=MODEL.rng_key,\n",
    "        a=np.arange(0, mu_delta_true.shape[0], 1),\n",
    "        shape=(n_draws,),\n",
    "        replace=False\n",
    "    ) \\\n",
    "    .tolist()\n",
    "\n",
    "n_repeats = 10\n",
    "repeats_space = \\\n",
    "    jax.random.choice(\n",
    "        key=MODEL.rng_key,\n",
    "        a=np.arange(0, 100 * n_repeats, 1),\n",
    "        shape=(n_repeats,),\n",
    "        replace=False\n",
    "    )\n",
    "\n",
    "# \"\"\" Test \"\"\"\n",
    "# N_space = [2, 3, 4]\n",
    "\n",
    "# n_draws = 4\n",
    "# draws_space = \\\n",
    "#     jax.random.choice(\n",
    "#         key=MODEL.rng_key,\n",
    "#         a=np.arange(0, mu_delta_true.shape[0], 1),\n",
    "#         shape=(n_draws,),\n",
    "#         replace=False\n",
    "#     ) \\\n",
    "#     .tolist()\n",
    "\n",
    "# n_repeats = 2\n",
    "# repeats_space = \\\n",
    "#     jax.random.choice(\n",
    "#         key=MODEL.rng_key,\n",
    "#         a=np.arange(0, 100 * n_repeats, 1),\n",
    "#         shape=(n_repeats,),\n",
    "#         replace=False\n",
    "#     )\n",
    "\n"
   ]
  },
  {
   "cell_type": "code",
   "execution_count": null,
   "metadata": {},
   "outputs": [],
   "source": [
    "logger.info(f\"BUILD_DIR: {os.path.join(MODEL.build_dir, prefix)}\")\n",
    "logger.info(f\"N_space: {', '.join(map(str, N_space))}\")\n",
    "\n",
    "logger.info(f\"n_draws: {n_draws}\")\n",
    "logger.info(f\"draws: {', '.join(map(str, draws_space))}\")\n",
    "\n",
    "logger.info(f\"n_repeats: {n_repeats}\")\n",
    "logger.info(f\"seeds: {', '.join(map(str, repeats_space))}\")\n",
    "\n",
    "mu_delta_predicted = None\n",
    "\n",
    "for draw_counter, draw_ind in enumerate(draws_space):\n",
    "    draw_dir = f\"draw_{draw_ind}\"\n",
    "    curr_draw_mu_delta = None\n",
    "\n",
    "    for N_counter, N in enumerate(N_space):\n",
    "        N_dir = f\"N_{N}\"\n",
    "        curr_N_mu_delta = None\n",
    "\n",
    "        for repeat_counter, seed in enumerate(repeats_space):\n",
    "            seed_dir = f\"seed_{seed}\"\n",
    "            logger.info(f\"\\n\\nDraw:{draw_counter + 1}/{n_draws}, N:{N_counter + 1}/{len(N_space)}, Repeat:{repeat_counter + 1}/{n_repeats}\")\n",
    "\n",
    "            subjects_ind = \\\n",
    "                jax.random.choice(\n",
    "                    key=jax.random.PRNGKey(seed),\n",
    "                    a=np.arange(0, TOTAL_SUBJECTS, 1),\n",
    "                    shape=(N,),\n",
    "                    replace=False\n",
    "                ) \\\n",
    "                .tolist()\n",
    "            logger.info(f\"Seed:{seed}, Subjects: {', '.join(map(str, subjects_ind))}\")\n",
    "\n",
    "            ind = PREDICTION_DF[MODEL.subject].isin(subjects_ind)\n",
    "            curr_df = PREDICTION_DF[ind].reset_index(drop=True).copy()\n",
    "\n",
    "            df = curr_df.copy()\n",
    "            df[MODEL.response] = OBS[draw_ind, ...][ind, ...]\n",
    "\n",
    "            \"\"\" Build model \"\"\"\n",
    "            config = Config(toml_path=toml_path)\n",
    "            config.BUILD_DIR = os.path.join(CONFIG.BUILD_DIR, prefix, draw_dir, N_dir, seed_dir)\n",
    "            model = HierarchicalBayesianModel(config=config)\n",
    "\n",
    "            \"\"\" Load data \"\"\"\n",
    "            df, encoder_dict = model.load(df=df)\n",
    "\n",
    "            \"\"\" Fit \"\"\"\n",
    "            logger.info(\"Fitting ...\")\n",
    "            mcmc, posterior_samples = model.run_inference(df=df)\n",
    "\n",
    "            \"\"\" Predict \"\"\"\n",
    "            logger.info(\"Predicting ...\")\n",
    "            prediction_df = model.make_prediction_dataset(df=df, num_points=100)\n",
    "            ppd = model.predict(df=prediction_df, posterior_samples=posterior_samples)\n",
    "\n",
    "            \"\"\" Plot \"\"\"\n",
    "            logger.info(\"Plotting recruitment curves ...\")\n",
    "            model.render_recruitment_curves(df=df, posterior_samples=posterior_samples, prediction_df=prediction_df, posterior_predictive=ppd)\n",
    "            logger.info(\"Plotting posterior checks ...\")\n",
    "            model.render_predictive_check(df=df, prediction_df=prediction_df, posterior_predictive=ppd)\n",
    "\n",
    "            \"\"\" Power \"\"\"\n",
    "            mu_delta = posterior_samples[\"mu_delta\"]\n",
    "            mu_delta = np.array(mu_delta[None, ...])\n",
    "\n",
    "            \"\"\" Concatenate \"\"\"\n",
    "            if curr_N_mu_delta is None:\n",
    "                curr_N_mu_delta = mu_delta\n",
    "            else:\n",
    "                curr_N_mu_delta = np.concatenate([curr_N_mu_delta, mu_delta], axis=0)\n",
    "\n",
    "            config, curr_df, df, encoder_dict,  = None, None, None, None\n",
    "            mcmc, model, posterior_samples = None, None, None\n",
    "            prediction_df, ppd = None, None\n",
    "            mu_delta = None\n",
    "\n",
    "            del config, curr_df, df, encoder_dict, mcmc, model, posterior_samples, prediction_df, ppd, mu_delta\n",
    "            gc.collect()\n",
    "\n",
    "        \"\"\" Concatenate \"\"\"\n",
    "        curr_N_mu_delta = curr_N_mu_delta[None, ...]\n",
    "\n",
    "        if curr_draw_mu_delta is None:\n",
    "            curr_draw_mu_delta = curr_N_mu_delta\n",
    "        else:\n",
    "            curr_draw_mu_delta = np.concatenate([curr_draw_mu_delta, curr_N_mu_delta], axis=0)\n",
    "\n",
    "    \"\"\" Concatenate \"\"\"\n",
    "    curr_draw_mu_delta = curr_draw_mu_delta[None, ...]\n",
    "\n",
    "    if mu_delta_predicted is None:\n",
    "        mu_delta_predicted = curr_draw_mu_delta\n",
    "    else:\n",
    "        mu_delta_predicted = np.concatenate([mu_delta_predicted, curr_draw_mu_delta], axis=0)\n",
    "\n",
    "    dst = os.path.join(MODEL.build_dir, prefix, f\"mu_delta_predicted_Draw_{draw_counter + 1}.npy\")\n",
    "    np.save(dst, mu_delta_predicted)\n",
    "    logger.info(f\"Saved to {dst}\")\n"
   ]
  },
  {
   "cell_type": "code",
   "execution_count": 27,
   "metadata": {},
   "outputs": [
    {
     "data": {
      "text/plain": [
       "19200192"
      ]
     },
     "execution_count": 27,
     "metadata": {},
     "output_type": "execute_result"
    }
   ],
   "source": [
    "from sys import getsizeof\n",
    "getsizeof(mu_delta_predicted)"
   ]
  },
  {
   "cell_type": "code",
   "execution_count": 25,
   "metadata": {},
   "outputs": [
    {
     "data": {
      "text/plain": [
       "<module 'gc' (built-in)>"
      ]
     },
     "execution_count": 25,
     "metadata": {},
     "output_type": "execute_result"
    }
   ],
   "source": [
    "gc"
   ]
  },
  {
   "cell_type": "code",
   "execution_count": 16,
   "metadata": {},
   "outputs": [
    {
     "data": {
      "text/plain": [
       "(10, 6, 10, 4000, 1, 1)"
      ]
     },
     "execution_count": 16,
     "metadata": {},
     "output_type": "execute_result"
    }
   ],
   "source": [
    "mu_delta_predicted.shape"
   ]
  },
  {
   "cell_type": "code",
   "execution_count": null,
   "metadata": {},
   "outputs": [],
   "source": []
  },
  {
   "cell_type": "code",
   "execution_count": 24,
   "metadata": {},
   "outputs": [
    {
     "data": {
      "text/plain": [
       "array([[[0.90875, 0.93075],\n",
       "        [0.9585 , 0.9145 ],\n",
       "        [0.989  , 0.98525]],\n",
       "\n",
       "       [[0.74775, 0.78825],\n",
       "        [0.91425, 0.9245 ],\n",
       "        [0.75575, 0.953  ]],\n",
       "\n",
       "       [[0.789  , 0.724  ],\n",
       "        [0.82375, 0.85025],\n",
       "        [0.73375, 0.90625]],\n",
       "\n",
       "       [[0.93575, 0.89575],\n",
       "        [0.951  , 0.973  ],\n",
       "        [0.98275, 0.8855 ]]])"
      ]
     },
     "execution_count": 24,
     "metadata": {},
     "output_type": "execute_result"
    }
   ],
   "source": [
    "(mu_delta_predicted > 0).mean(axis=(-1, -2, -3))"
   ]
  },
  {
   "cell_type": "code",
   "execution_count": 25,
   "metadata": {},
   "outputs": [
    {
     "data": {
      "text/plain": [
       "array([0.   , 0.375, 0.5  ])"
      ]
     },
     "execution_count": 25,
     "metadata": {},
     "output_type": "execute_result"
    }
   ],
   "source": [
    "((mu_delta_predicted > 0).mean(axis=(-1, -2, -3)) > .95).mean(axis=(0, -1))"
   ]
  },
  {
   "cell_type": "code",
   "execution_count": 11,
   "metadata": {},
   "outputs": [
    {
     "data": {
      "text/plain": [
       "array([0.02, 0.48, 0.8 , 0.94, 1.  , 0.98])"
      ]
     },
     "execution_count": 11,
     "metadata": {},
     "output_type": "execute_result"
    }
   ],
   "source": [
    "((mu_delta_predicted > 0).mean(axis=(-1, -2, -3)) > .95).mean(axis=-1)"
   ]
  },
  {
   "cell_type": "code",
   "execution_count": 14,
   "metadata": {},
   "outputs": [
    {
     "data": {
      "text/plain": [
       "[2, 4, 6, 8, 10, 12]"
      ]
     },
     "execution_count": 14,
     "metadata": {},
     "output_type": "execute_result"
    }
   ],
   "source": [
    "N_space"
   ]
  },
  {
   "cell_type": "code",
   "execution_count": 51,
   "metadata": {},
   "outputs": [
    {
     "data": {
      "image/png": "[encoded data removed]",
      "text/plain": [
       "<Figure size 2000x300 with 4 Axes>"
      ]
     },
     "metadata": {},
     "output_type": "display_data"
    }
   ],
   "source": [
    "rope_space = [0, 1, 1.5, 2]\n",
    "\n",
    "nrows, ncols = 1, len(rope_space)\n",
    "fig, axes = plt.subplots(nrows=nrows, ncols=ncols, figsize=(5 * ncols, 3 * nrows), squeeze=False, constrained_layout=True, sharex=True, sharey=True)\n",
    "\n",
    "i = 0\n",
    "for rope in rope_space:\n",
    "    ax = axes[i // ncols, i % ncols]\n",
    "\n",
    "    power = ((mu_delta_predicted > rope).mean(axis=(-1, -2, -3)) > .95).mean(axis=-1)\n",
    "\n",
    "    sns.lineplot(x=N_space, y=power, marker=\"o\", linestyle=\"--\", color=\"r\", ax=ax)\n",
    "\n",
    "    ax.grid(linewidth=.3, linestyle=\"--\", axis=\"both\")\n",
    "    ax.set_yticks(np.arange(0, 1.2, .2))\n",
    "    ax.set_xticks(N_space)\n",
    "\n",
    "    ax.set_title(f\"Power Curve - H1: Δ > {rope}, ROPE: ({-1 * rope}, {rope})\")\n",
    "    ax.set_xlabel(\"Sample Size (N)\")\n",
    "    ax.set_ylabel(\"Power (β)\")\n",
    "\n",
    "    ax.yaxis.set_tick_params(labelleft=True)\n",
    "\n",
    "    i += 1\n"
   ]
  },
  {
   "cell_type": "code",
   "execution_count": null,
   "metadata": {},
   "outputs": [],
   "source": []
  }
 ],
 "metadata": {
  "kernelspec": {
   "display_name": "Python 3 (ipykernel)",
   "language": "python",
   "name": "python3"
  },
  "language_info": {
   "codemirror_mode": {
    "name": "ipython",
    "version": 3
   },
   "file_extension": ".py",
   "mimetype": "text/x-python",
   "name": "python",
   "nbconvert_exporter": "python",
   "pygments_lexer": "ipython3",
   "version": "3.11.4"
  },
  "orig_nbformat": 4
 },
 "nbformat": 4,
 "nbformat_minor": 2
}
