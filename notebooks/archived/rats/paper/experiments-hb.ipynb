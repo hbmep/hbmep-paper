{
 "cells": [
  {
   "cell_type": "code",
   "execution_count": 1,
   "metadata": {},
   "outputs": [],
   "source": [
    "%reload_ext autoreload\n",
    "%autoreload 2\n",
    "\n",
    "import os\n",
    "from pathlib import Path\n",
    "import multiprocessing\n",
    "\n",
    "import numpy as np\n",
    "import jax\n",
    "import numpyro\n",
    "\n",
    "from hbmep.config import Config\n",
    "from hbmep.model import Model\n",
    "from hbmep.model.utils import Site as site\n",
    "\n",
    "from hbmep_paper.model import HierarchicalBayesian, MaximumLikelihood\n",
    "from hbmep_paper.utils import simulate, run_experiment\n",
    "\n",
    "PLATFORM = \"cpu\"\n",
    "jax.config.update(\"jax_platforms\", PLATFORM)\n",
    "numpyro.set_platform(PLATFORM)\n",
    "\n",
    "cpu_count = multiprocessing.cpu_count() - 2\n",
    "numpyro.set_host_device_count(cpu_count)\n",
    "numpyro.enable_x64()\n"
   ]
  },
  {
   "cell_type": "code",
   "execution_count": 2,
   "metadata": {},
   "outputs": [
    {
     "name": "stderr",
     "output_type": "stream",
     "text": [
      "2023-08-01 11:12:00,051 - hbmep.config - INFO - Verifying configuration ...\n",
      "2023-08-01 11:12:00,051 - hbmep.config - INFO - Success!\n"
     ]
    }
   ],
   "source": [
    "root_path = Path(os.getcwd()).parent.parent.parent.absolute()\n",
    "toml_path = os.path.join(root_path, \"configs/experiments.toml\")\n",
    "\n",
    "config = Config(toml_path=toml_path)\n",
    "config.BUILD_DIR = \"/home/vishu/repos/hbmep-paper/reports/hb/\"\n"
   ]
  },
  {
   "cell_type": "code",
   "execution_count": 3,
   "metadata": {},
   "outputs": [
    {
     "name": "stderr",
     "output_type": "stream",
     "text": [
      "2023-08-01 11:12:00,112 - hbmep.model.baseline - INFO - Initialized model with rectified_logistic link\n"
     ]
    }
   ],
   "source": [
    "# Initialize model\n",
    "model = Model(config=config)"
   ]
  },
  {
   "cell_type": "code",
   "execution_count": 4,
   "metadata": {},
   "outputs": [
    {
     "name": "stderr",
     "output_type": "stream",
     "text": [
      "2023-08-01 11:12:00,153 - hbmep_paper.utils.utils - INFO - Simulating data ...\n"
     ]
    },
    {
     "name": "stderr",
     "output_type": "stream",
     "text": [
      "2023-08-01 11:12:03,823 - hbmep.utils.utils - INFO - func:predict took: 3.67 sec\n",
      "2023-08-01 11:12:03,823 - hbmep.utils.utils - INFO - func:simulate took: 3.67 sec\n"
     ]
    }
   ],
   "source": [
    "# Load data\n",
    "simulation_params = {\n",
    "    \"n_subject\": 3,\n",
    "    \"n_feature0\": 10,\n",
    "    \"n_repeats\": 10\n",
    "}\n",
    "df, posterior_samples_true = simulate(model=model.model, **simulation_params)\n",
    "\n",
    "obs = np.array(posterior_samples_true[site.obs])\n",
    "\n",
    "# ind = df[[\"participant\", \"compound_position\"]].apply(tuple, axis=1).isin([(0, 0)])\n",
    "ind = df[\"participant\"].isin([1])\n",
    "\n",
    "df = df[ind].copy()\n",
    "df.reset_index(drop=True, inplace=True)\n",
    "\n",
    "obs = obs[:, ind, :]"
   ]
  },
  {
   "cell_type": "code",
   "execution_count": 5,
   "metadata": {},
   "outputs": [
    {
     "name": "stderr",
     "output_type": "stream",
     "text": [
      "2023-08-01 11:12:03,876 - hbmep.dataset.core - INFO - Artefacts will be stored here - /home/vishu/repos/hbmep-paper/reports/hb/\n",
      "2023-08-01 11:12:03,876 - hbmep.dataset.core - INFO - Copied config to /home/vishu/repos/hbmep-paper/reports/hb/\n",
      "2023-08-01 11:12:03,876 - hbmep.dataset.core - INFO - Processing data ...\n",
      "2023-08-01 11:12:03,878 - hbmep.utils.utils - INFO - func:load took: 0.00 sec\n"
     ]
    }
   ],
   "source": [
    "df, encoder_dict = model.load(df=df)\n",
    "\n",
    "df[model.model.response] = obs[-1, ...]"
   ]
  },
  {
   "cell_type": "code",
   "execution_count": 6,
   "metadata": {},
   "outputs": [
    {
     "name": "stderr",
     "output_type": "stream",
     "text": [
      "2023-08-01 11:12:03,950 - hbmep.dataset.core - INFO - Plotting dataset ...\n"
     ]
    },
    {
     "name": "stderr",
     "output_type": "stream",
     "text": [
      "2023-08-01 11:12:06,831 - hbmep.dataset.core - INFO - Saved to /home/vishu/repos/hbmep-paper/reports/hb/dataset.pdf\n",
      "2023-08-01 11:12:06,831 - hbmep.utils.utils - INFO - func:plot took: 2.88 sec\n"
     ]
    }
   ],
   "source": [
    "model.plot(df=df, encoder_dict=encoder_dict)"
   ]
  },
  {
   "cell_type": "code",
   "execution_count": 7,
   "metadata": {},
   "outputs": [
    {
     "name": "stderr",
     "output_type": "stream",
     "text": [
      "2023-08-01 11:12:06,883 - hbmep.model.baseline - INFO - Running inference with rectified_logistic ...\n"
     ]
    },
    {
     "data": {
      "application/vnd.jupyter.widget-view+json": {
       "model_id": "3c3a90d1cd1448679e1ca9bd96b4b7d2",
       "version_major": 2,
       "version_minor": 0
      },
      "text/plain": [
       "  0%|          | 0/10000 [00:00<?, ?it/s]"
      ]
     },
     "metadata": {},
     "output_type": "display_data"
    },
    {
     "data": {
      "application/vnd.jupyter.widget-view+json": {
       "model_id": "dfb7130b3c2c4c559efdfbb63ad730a7",
       "version_major": 2,
       "version_minor": 0
      },
      "text/plain": [
       "  0%|          | 0/10000 [00:00<?, ?it/s]"
      ]
     },
     "metadata": {},
     "output_type": "display_data"
    },
    {
     "data": {
      "application/vnd.jupyter.widget-view+json": {
       "model_id": "617a1d953f624ba7a0d4963f1e514df8",
       "version_major": 2,
       "version_minor": 0
      },
      "text/plain": [
       "  0%|          | 0/10000 [00:00<?, ?it/s]"
      ]
     },
     "metadata": {},
     "output_type": "display_data"
    },
    {
     "data": {
      "application/vnd.jupyter.widget-view+json": {
       "model_id": "941b542374924626b205fbb5f8c5fe93",
       "version_major": 2,
       "version_minor": 0
      },
      "text/plain": [
       "  0%|          | 0/10000 [00:00<?, ?it/s]"
      ]
     },
     "metadata": {},
     "output_type": "display_data"
    },
    {
     "name": "stderr",
     "output_type": "stream",
     "text": [
      "2023-08-01 11:29:20,851 - hbmep.utils.utils - INFO - func:run_inference took: 17 min and 13.97 sec\n"
     ]
    }
   ],
   "source": [
    "mcmc, posterior_samples = model.run_inference(df=df)"
   ]
  },
  {
   "cell_type": "code",
   "execution_count": 9,
   "metadata": {},
   "outputs": [
    {
     "name": "stdout",
     "output_type": "stream",
     "text": [
      "\n",
      "                mean       std    median      2.5%     97.5%     n_eff     r_hat\n",
      "  H[0,0,0]      1.73      0.05      1.72      1.62      1.84  22464.84      1.00\n",
      "  H[1,0,0]      1.05      0.02      1.05      1.01      1.08  28465.17      1.00\n",
      "  H[2,0,0]      3.50      1.36      3.05      2.36      6.19   4193.27      1.00\n",
      "  H[3,0,0]      1.12      0.02      1.12      1.08      1.15  23343.08      1.00\n",
      "  H[4,0,0]      1.57      0.05      1.57      1.48      1.68  13004.32      1.00\n",
      "  H[5,0,0]      3.84      0.05      3.84      3.74      3.94  27868.07      1.00\n",
      "  H[6,0,0]      4.01      2.55      3.33      0.96      8.96  16587.49      1.00\n",
      "  H[7,0,0]      3.85      0.04      3.85      3.78      3.92  24332.47      1.00\n",
      "  H[8,0,0]      8.83      0.16      8.81      8.52      9.15  12538.41      1.00\n",
      "  H[9,0,0]      1.88      0.02      1.88      1.85      1.92  24618.94      1.00\n",
      "  L[0,0,0]      0.00      0.00      0.00      0.00      0.00  31003.95      1.00\n",
      "  L[1,0,0]      0.05      0.00      0.05      0.05      0.05  29833.50      1.00\n",
      "  L[2,0,0]      0.01      0.00      0.01      0.01      0.01  31896.63      1.00\n",
      "  L[3,0,0]      0.03      0.00      0.03      0.03      0.03  30337.61      1.00\n",
      "  L[4,0,0]      0.00      0.00      0.00      0.00      0.00  26099.09      1.00\n",
      "  L[5,0,0]      0.03      0.00      0.03      0.03      0.03  30484.15      1.00\n",
      "  L[6,0,0]      0.04      0.00      0.04      0.04      0.04  30055.05      1.00\n",
      "  L[7,0,0]      0.00      0.00      0.00      0.00      0.00  30764.34      1.00\n",
      "  L[8,0,0]      0.01      0.00      0.01      0.01      0.01  30632.17      1.00\n",
      "  L[9,0,0]      0.02      0.00      0.02      0.02      0.02  30605.86      1.00\n",
      "  a[0,0,0]    236.72      0.47    236.68    235.98    237.58  18688.23      1.00\n",
      "  a[1,0,0]    232.77      0.56    232.72    231.85    233.81  18016.65      1.00\n",
      "  a[2,0,0]    229.92      0.32    229.94    229.31    230.54  27095.91      1.00\n",
      "  a[3,0,0]    237.43      0.42    237.46    236.57    238.21  21001.35      1.00\n",
      "  a[4,0,0]    232.37      0.38    232.35    231.84    233.06   5645.42      1.00\n",
      "  a[5,0,0]    240.29      0.24    240.25    239.93    240.76  13418.97      1.00\n",
      "  a[6,0,0]    231.95      0.39    231.94    231.20    232.76  31108.86      1.00\n",
      "  a[7,0,0]    240.74      0.39    240.73    240.00    241.41  15127.85      1.00\n",
      "  a[8,0,0]    231.66      0.25    231.68    231.12    232.14  28413.75      1.00\n",
      "  a[9,0,0]    230.92      0.11    230.92    230.70    231.14  18192.08      1.00\n",
      "  b[0,0,0]      0.16      0.06      0.15      0.06      0.29  12741.11      1.00\n",
      "  b[1,0,0]      0.23      0.06      0.22      0.15      0.35  14203.92      1.00\n",
      "  b[2,0,0]      0.10      0.05      0.09      0.02      0.18   9361.66      1.00\n",
      "  b[3,0,0]      0.15      0.04      0.14      0.08      0.22  12687.52      1.00\n",
      "  b[4,0,0]      0.09      0.03      0.09      0.05      0.15   9714.12      1.00\n",
      "  b[5,0,0]      0.28      0.07      0.27      0.17      0.42  12078.31      1.00\n",
      "  b[6,0,0]      0.05      0.03      0.04      0.01      0.10  12922.12      1.00\n",
      "  b[7,0,0]      0.19      0.03      0.19      0.13      0.26  11079.90      1.00\n",
      "  b[8,0,0]      0.17      0.03      0.16      0.11      0.24  10092.57      1.00\n",
      "  b[9,0,0]      0.15      0.02      0.15      0.11      0.19  14006.16      1.00\n",
      "g_1[0,0,0]     20.71     11.27     19.55      0.01     41.09  19108.67      1.00\n",
      "g_1[1,0,0]     55.77     36.86     50.24      0.03    123.88  20909.44      1.00\n",
      "g_1[2,0,0]     16.32     13.21     13.25      0.00     42.40  20518.43      1.00\n",
      "g_1[3,0,0]    124.33     64.08    118.38      5.82    244.37  19092.70      1.00\n",
      "g_1[4,0,0]     99.78     49.88     94.73      9.73    198.32  20636.73      1.00\n",
      "g_1[5,0,0]     29.90     19.75     26.93      0.03     66.91  17530.34      1.00\n",
      "g_1[6,0,0]    159.38    119.21    135.41      0.03    386.21  22906.19      1.00\n",
      "g_1[7,0,0]    126.50     42.21    122.98     49.26    211.57  27835.69      1.00\n",
      "g_1[8,0,0]    250.49     67.63    244.69    124.98    386.42  23517.84      1.00\n",
      "g_1[9,0,0]    112.83     76.61    100.42      0.05    256.24  22653.30      1.00\n",
      "g_2[0,0,0]     31.10      5.42     30.78     20.93     42.05  25879.80      1.00\n",
      "g_2[1,0,0]    108.78     19.78    108.09     70.80    147.85  25678.85      1.00\n",
      "g_2[2,0,0]     80.54     13.28     79.86     55.91    107.64  28008.79      1.00\n",
      "g_2[3,0,0]    108.97     20.77    107.91     69.99    150.10  24637.08      1.00\n",
      "g_2[4,0,0]     83.03     14.90     82.10     53.62    111.35  24016.01      1.00\n",
      "g_2[5,0,0]    182.18     31.33    180.50    123.17    245.00  24813.23      1.00\n",
      "g_2[6,0,0]    222.68     39.37    220.67    146.96    300.27  26952.13      1.00\n",
      "g_2[7,0,0]    105.14     18.74    103.90     70.06    142.56  32511.00      1.00\n",
      "g_2[8,0,0]      8.92      2.12      8.81      4.93     13.18  28180.21      1.00\n",
      "g_2[9,0,0]    398.61     70.40    395.26    264.81    539.00  26819.34      1.00\n",
      "  v[0,0,0]      6.23      2.87      5.70      1.58     12.08  12499.19      1.00\n",
      "  v[1,0,0]      1.56      1.21      1.28      0.05      3.91  11642.56      1.00\n",
      "  v[2,0,0]      8.14      3.90      7.51      1.65     15.69   9430.71      1.00\n",
      "  v[3,0,0]      6.24      2.03      5.95      2.74     10.28  12575.77      1.00\n",
      "  v[4,0,0]      7.62      2.43      7.23      3.56     12.44   9364.35      1.00\n",
      "  v[5,0,0]      4.55      1.23      4.38      2.36      6.96  11867.83      1.00\n",
      "  v[6,0,0]      8.27      5.27      7.19      0.78     18.58  12890.06      1.00\n",
      "  v[7,0,0]      2.24      0.62      2.20      1.04      3.45  10903.94      1.00\n",
      "  v[8,0,0]      7.57      1.61      7.35      4.77     10.82  10095.63      1.00\n",
      "  v[9,0,0]      1.51      0.53      1.47      0.49      2.55  13774.70      1.00\n",
      "  µ_a[0,0]    234.41      1.57    234.42    231.26    237.48  18914.05      1.00\n",
      "  σ_H[0,0]      4.27      1.09      4.08      2.46      6.43  18687.46      1.00\n",
      "  σ_L[0,0]      0.03      0.01      0.03      0.02      0.04  22111.60      1.00\n",
      "  σ_a[0,0]      4.68      1.38      4.41      2.53      7.37  17580.47      1.00\n",
      "  σ_b[0,0]      0.17      0.04      0.16      0.11      0.24  17991.48      1.00\n",
      "  σ_v[0,0]      7.03      2.27      6.61      3.42     11.63  12112.62      1.00\n",
      "\n",
      "Number of divergences: 1087\n"
     ]
    }
   ],
   "source": [
    "mcmc.print_summary(prob=.95)"
   ]
  },
  {
   "cell_type": "code",
   "execution_count": 10,
   "metadata": {},
   "outputs": [
    {
     "name": "stderr",
     "output_type": "stream",
     "text": [
      "2023-08-01 11:30:01,349 - hbmep.model.baseline - INFO - Generating predictions ...\n"
     ]
    },
    {
     "name": "stderr",
     "output_type": "stream",
     "text": [
      "2023-08-01 11:30:15,783 - hbmep.utils.utils - INFO - func:predict took: 14.43 sec\n",
      "2023-08-01 11:30:15,856 - hbmep.model.baseline - INFO - Rendering recruitment curves ...\n",
      "2023-08-01 11:30:23,055 - hbmep.model.baseline - INFO - Saved to /home/vishu/repos/hbmep-paper/reports/hb/recruitment_curves.pdf\n",
      "2023-08-01 11:30:23,055 - hbmep.utils.utils - INFO - func:render_recruitment_curves took: 21.71 sec\n"
     ]
    }
   ],
   "source": [
    "model.render_recruitment_curves(df=df, encoder_dict=encoder_dict, posterior_samples=posterior_samples)\n"
   ]
  },
  {
   "cell_type": "code",
   "execution_count": 11,
   "metadata": {},
   "outputs": [
    {
     "name": "stderr",
     "output_type": "stream",
     "text": [
      "2023-08-01 11:30:23,128 - hbmep.model.baseline - INFO - Generating predictions ...\n"
     ]
    },
    {
     "name": "stderr",
     "output_type": "stream",
     "text": [
      "2023-08-01 11:30:37,665 - hbmep.utils.utils - INFO - func:predict took: 14.53 sec\n",
      "2023-08-01 11:30:37,770 - hbmep.model.baseline - INFO - Rendering Posterior Predictive Check ...\n",
      "2023-08-01 11:30:46,702 - hbmep.model.baseline - INFO - Saved to /home/vishu/repos/hbmep-paper/reports/hb/posterior_predictive_check.pdf\n",
      "2023-08-01 11:30:46,704 - hbmep.utils.utils - INFO - func:render_predictive_check took: 23.58 sec\n"
     ]
    }
   ],
   "source": [
    "model.render_predictive_check(df=df, encoder_dict=encoder_dict, posterior_samples=posterior_samples)\n"
   ]
  },
  {
   "cell_type": "code",
   "execution_count": 17,
   "metadata": {},
   "outputs": [
    {
     "data": {
      "text/plain": [
       "(10, 10, 3, 1)"
      ]
     },
     "execution_count": 17,
     "metadata": {},
     "output_type": "execute_result"
    }
   ],
   "source": []
  },
  {
   "cell_type": "code",
   "execution_count": null,
   "metadata": {},
   "outputs": [],
   "source": []
  },
  {
   "cell_type": "code",
   "execution_count": null,
   "metadata": {},
   "outputs": [],
   "source": []
  },
  {
   "cell_type": "code",
   "execution_count": 25,
   "metadata": {},
   "outputs": [],
   "source": [
    "combinations = model.model._make_combinations(df=df, columns=model.model.combination_columns)\n",
    "combinations = [[slice(None)] + list(c) for c in combinations]\n",
    "combinations = [tuple(c[::-1]) for c in combinations]\n",
    "\n",
    "a_true = np.array(posterior_samples_true[site.a])\n",
    "a_true = a_true[9, :, 1, 0]\n",
    "\n",
    "a = np.array(posterior_samples[site.a])     # n_posterior_samples x ... x n_muscles\n",
    "a = a.mean(axis=0)      # ... x n_muscles\n",
    "a = np.array([a[c] for c in combinations])      # n_combinations x n_muscles\n",
    "a = a.reshape(-1, )"
   ]
  },
  {
   "cell_type": "code",
   "execution_count": 26,
   "metadata": {},
   "outputs": [
    {
     "data": {
      "text/plain": [
       "array([237.73228229, 232.88597116, 229.95561155, 236.35789639,\n",
       "       231.92548811, 240.19545285, 232.17914188, 240.53928484,\n",
       "       231.7539535 , 230.77401365])"
      ]
     },
     "execution_count": 26,
     "metadata": {},
     "output_type": "execute_result"
    }
   ],
   "source": [
    "a_true"
   ]
  },
  {
   "cell_type": "code",
   "execution_count": 27,
   "metadata": {},
   "outputs": [
    {
     "data": {
      "text/plain": [
       "array([236.72332566, 232.76817896, 229.92469533, 237.42854246,\n",
       "       232.36914194, 240.28812928, 231.95209277, 240.73974195,\n",
       "       231.66133812, 230.91878115])"
      ]
     },
     "execution_count": 27,
     "metadata": {},
     "output_type": "execute_result"
    }
   ],
   "source": [
    "a"
   ]
  }
 ],
 "metadata": {
  "kernelspec": {
   "display_name": ".venv",
   "language": "python",
   "name": "python3"
  },
  "language_info": {
   "codemirror_mode": {
    "name": "ipython",
    "version": 3
   },
   "file_extension": ".py",
   "mimetype": "text/x-python",
   "name": "python",
   "nbconvert_exporter": "python",
   "pygments_lexer": "ipython3",
   "version": "3.11.4"
  },
  "orig_nbformat": 4,
  "vscode": {
   "interpreter": {
    "hash": "850bfd4e6f5ddd996dd5cd5088beecd08558625e274540230e1444ec52025b11"
   }
  }
 },
 "nbformat": 4,
 "nbformat_minor": 2
}
