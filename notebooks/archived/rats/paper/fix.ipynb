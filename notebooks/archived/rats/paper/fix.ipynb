{
 "cells": [
  {
   "cell_type": "code",
   "execution_count": 1,
   "metadata": {},
   "outputs": [],
   "source": [
    "%reload_ext autoreload\n",
    "%autoreload 2\n",
    "\n",
    "import os\n",
    "from pathlib import Path\n",
    "import multiprocessing\n",
    "\n",
    "import jax\n",
    "import jax.numpy as jnp\n",
    "import pandas as pd\n",
    "import numpy as np\n",
    "import numpyro\n",
    "import numpyro.distributions as dist\n",
    "\n",
    "from hbmep.config import Config\n",
    "from hbmep.model import Baseline\n",
    "from hbmep.model.utils import Site as site\n",
    "from hbmep.utils.constants import RECTIFIED_LOGISTIC\n",
    "\n",
    "PLATFORM = \"cpu\"\n",
    "jax.config.update(\"jax_platforms\", PLATFORM)\n",
    "numpyro.set_platform(PLATFORM)\n",
    "\n",
    "cpu_count = multiprocessing.cpu_count() - 2\n",
    "numpyro.set_host_device_count(cpu_count)\n",
    "numpyro.enable_x64()\n"
   ]
  },
  {
   "attachments": {},
   "cell_type": "markdown",
   "metadata": {},
   "source": [
    "#### Load config"
   ]
  },
  {
   "cell_type": "code",
   "execution_count": 2,
   "metadata": {},
   "outputs": [
    {
     "name": "stderr",
     "output_type": "stream",
     "text": [
      "2023-07-21 13:53:40,827 - hbmep.config - INFO - Verifying configuration ...\n",
      "2023-07-21 13:53:40,828 - hbmep.config - INFO - Success!\n"
     ]
    }
   ],
   "source": [
    "root_path = Path(os.getcwd()).parent.parent.parent.absolute()\n",
    "toml_path = os.path.join(root_path, \"configs/gamma_fix.toml\")\n",
    "\n",
    "config = Config(toml_path=toml_path)\n",
    "\n",
    "config.BUILD_DIR = \"/home/vishu/repos/hbmep-paper/reports/fix\"\n"
   ]
  },
  {
   "cell_type": "code",
   "execution_count": 3,
   "metadata": {},
   "outputs": [],
   "source": [
    "class RectifiedLogistic(Baseline):\n",
    "    LINK = RECTIFIED_LOGISTIC\n",
    "\n",
    "    def __init__(self, config: Config):\n",
    "        super(RectifiedLogistic, self).__init__(config=config)\n",
    "\n",
    "    def _model(self, subject, features, intensity, response_obs=None):\n",
    "        intensity = intensity.reshape(-1, 1)\n",
    "        intensity = np.tile(intensity, (1, self.n_response))\n",
    "\n",
    "        feature0 = features[0].reshape(-1,)\n",
    "\n",
    "        n_data = intensity.shape[0]\n",
    "        n_subject = np.unique(subject).shape[0]\n",
    "        n_feature0 = np.unique(feature0).shape[0]\n",
    "\n",
    "        with numpyro.plate(site.n_response, self.n_response, dim=-1):\n",
    "            with numpyro.plate(site.n_subject, n_subject, dim=-2):\n",
    "                \"\"\" Hyper-priors \"\"\"\n",
    "                mu_a = numpyro.sample(\n",
    "                    site.mu_a,\n",
    "                    dist.TruncatedNormal(150, 50, low=0)\n",
    "                )\n",
    "                sigma_a = numpyro.sample(site.sigma_a, dist.HalfNormal(50))\n",
    "\n",
    "                sigma_b = numpyro.sample(site.sigma_b, dist.HalfNormal(0.1))\n",
    "\n",
    "                sigma_L = numpyro.sample(site.sigma_L, dist.HalfNormal(0.05))\n",
    "                sigma_H = numpyro.sample(site.sigma_H, dist.HalfNormal(5))\n",
    "                sigma_v = numpyro.sample(site.sigma_v, dist.HalfNormal(10))\n",
    "\n",
    "                with numpyro.plate(\"n_feature0\", n_feature0, dim=-3):\n",
    "                    \"\"\" Priors \"\"\"\n",
    "                    a = numpyro.sample(\n",
    "                        site.a,\n",
    "                        dist.TruncatedNormal(mu_a, sigma_a, low=0)\n",
    "                    )\n",
    "                    b = numpyro.sample(site.b, dist.HalfNormal(sigma_b))\n",
    "\n",
    "                    L = numpyro.sample(site.L, dist.HalfNormal(sigma_L))\n",
    "                    H = numpyro.sample(site.H, dist.HalfNormal(sigma_H))\n",
    "                    v = numpyro.sample(site.v, dist.HalfNormal(sigma_v))\n",
    "\n",
    "                    g_1 = numpyro.sample(\"g_1\", dist.Exponential(1 / 100))\n",
    "                    g_2 = numpyro.sample(\"g_2\", dist.Exponential(1 / 100))\n",
    "\n",
    "        \"\"\" Model \"\"\"\n",
    "        mu = numpyro.deterministic(\n",
    "            site.mu,\n",
    "            L[feature0, subject]\n",
    "            + jnp.maximum(\n",
    "                0,\n",
    "                -1\n",
    "                + (H[feature0, subject] + 1)\n",
    "                / jnp.power(\n",
    "                    1\n",
    "                    + (jnp.power(1 + H[feature0, subject], v[feature0, subject]) - 1)\n",
    "                    * jnp.exp(-b[feature0, subject] * (intensity - a[feature0, subject])),\n",
    "                    1 / v[feature0, subject]\n",
    "                )\n",
    "            )\n",
    "        )\n",
    "        beta = numpyro.deterministic(\n",
    "            site.beta,\n",
    "            g_1[feature0, subject] + g_2[feature0, subject] * (1 / mu)\n",
    "        )\n",
    "\n",
    "        with numpyro.plate(site.data, n_data):\n",
    "            return numpyro.sample(\n",
    "                site.obs,\n",
    "                dist.Gamma(concentration=mu * beta, rate=beta).to_event(1),\n",
    "                obs=response_obs\n",
    "            )\n",
    "\n",
    "\n",
    "model = RectifiedLogistic(config=config)"
   ]
  },
  {
   "cell_type": "code",
   "execution_count": 4,
   "metadata": {},
   "outputs": [
    {
     "name": "stderr",
     "output_type": "stream",
     "text": [
      "2023-07-21 13:53:41,257 - hbmep.dataset.core - INFO - Artefacts will be stored here - /home/vishu/repos/hbmep-paper/reports/fix\n",
      "2023-07-21 13:53:41,257 - hbmep.dataset.core - INFO - Copied config to /home/vishu/repos/hbmep-paper/reports/fix\n",
      "2023-07-21 13:53:41,258 - hbmep.dataset.core - INFO - Processing data ...\n",
      "2023-07-21 13:53:41,259 - hbmep.utils.utils - INFO - func:load took: 0.00 sec\n"
     ]
    },
    {
     "name": "stdout",
     "output_type": "stream",
     "text": [
      "(100, 43)\n"
     ]
    }
   ],
   "source": [
    "df = pd.read_csv(model.csv_path)\n",
    "\n",
    "sub = [\"amap01\", \"amap02\", \"amap03\", \"amap04\"]\n",
    "sub += [\"amap05\", \"amap06\", \"amap07\", \"amap08\"]\n",
    "\n",
    "ind = df.participant.isin(sub)\n",
    "\n",
    "df = df[ind].copy()\n",
    "df.reset_index(drop=True, inplace=True)\n",
    "print(df.shape)\n",
    "\n",
    "df, encoder_dict = model.load(df=df)\n"
   ]
  },
  {
   "cell_type": "code",
   "execution_count": 5,
   "metadata": {},
   "outputs": [
    {
     "name": "stderr",
     "output_type": "stream",
     "text": [
      "2023-07-21 13:53:41,362 - hbmep.model.baseline - INFO - Running inference with rectified_logistic ...\n"
     ]
    },
    {
     "data": {
      "application/vnd.jupyter.widget-view+json": {
       "model_id": "856a9aed7e3244809a5a232bf364897e",
       "version_major": 2,
       "version_minor": 0
      },
      "text/plain": [
       "  0%|          | 0/10000 [00:00<?, ?it/s]"
      ]
     },
     "metadata": {},
     "output_type": "display_data"
    },
    {
     "data": {
      "application/vnd.jupyter.widget-view+json": {
       "model_id": "3f653981410a4a41aca4848a11df5b51",
       "version_major": 2,
       "version_minor": 0
      },
      "text/plain": [
       "  0%|          | 0/10000 [00:00<?, ?it/s]"
      ]
     },
     "metadata": {},
     "output_type": "display_data"
    },
    {
     "data": {
      "application/vnd.jupyter.widget-view+json": {
       "model_id": "a473aa17b47646d3ac89dd92b8460f55",
       "version_major": 2,
       "version_minor": 0
      },
      "text/plain": [
       "  0%|          | 0/10000 [00:00<?, ?it/s]"
      ]
     },
     "metadata": {},
     "output_type": "display_data"
    },
    {
     "data": {
      "application/vnd.jupyter.widget-view+json": {
       "model_id": "3622722aface40c98cd1973f6ec24e13",
       "version_major": 2,
       "version_minor": 0
      },
      "text/plain": [
       "  0%|          | 0/10000 [00:00<?, ?it/s]"
      ]
     },
     "metadata": {},
     "output_type": "display_data"
    },
    {
     "name": "stderr",
     "output_type": "stream",
     "text": [
      "2023-07-21 13:54:20,418 - hbmep.utils.utils - INFO - func:run_inference took: 39.06 sec\n"
     ]
    }
   ],
   "source": [
    "mcmc, posterior_samples = model.run_inference(df=df)\n"
   ]
  },
  {
   "cell_type": "code",
   "execution_count": 6,
   "metadata": {},
   "outputs": [
    {
     "name": "stdout",
     "output_type": "stream",
     "text": [
      "\n",
      "                mean       std    median      2.5%     97.5%     n_eff     r_hat\n",
      "  H[0,0,0]      6.01      0.10      6.01      5.82      6.20  17501.71      1.00\n",
      "  H[0,0,1]      3.78      0.06      3.78      3.67      3.89  23813.35      1.00\n",
      "  H[1,0,0]      4.28      0.19      4.27      3.92      4.66  12821.53      1.00\n",
      "  H[1,0,1]      1.49      0.03      1.49      1.42      1.56  21866.55      1.00\n",
      "  L[0,0,0]      0.05      0.01      0.05      0.03      0.06  17920.35      1.00\n",
      "  L[0,0,1]      0.05      0.01      0.05      0.04      0.07  23048.75      1.00\n",
      "  L[1,0,0]      0.05      0.01      0.05      0.04      0.07   6192.25      1.00\n",
      "  L[1,0,1]      0.02      0.00      0.02      0.02      0.03  20246.87      1.00\n",
      "  a[0,0,0]    118.72      2.90    118.22    114.21    125.14   7055.26      1.00\n",
      "  a[0,0,1]    132.20      1.71    132.30    128.65    135.34  20909.66      1.00\n",
      "  a[1,0,0]    159.15      4.84    159.24    151.52    166.84   1019.90      1.00\n",
      "  a[1,0,1]    164.74      0.93    164.82    162.89    166.49  18014.87      1.00\n",
      "  b[0,0,0]      0.06      0.01      0.06      0.03      0.09   8363.17      1.00\n",
      "  b[0,0,1]      0.25      0.09      0.24      0.10      0.44  10454.02      1.00\n",
      "  b[1,0,0]      0.02      0.01      0.02      0.02      0.04   1604.69      1.00\n",
      "  b[1,0,1]      0.19      0.07      0.17      0.07      0.34  11253.12      1.00\n",
      "g_1[0,0,0]     39.70      9.07     39.09     22.90     57.66  18603.77      1.00\n",
      "g_1[0,0,1]     51.22     11.26     50.46     29.41     73.10  20696.59      1.00\n",
      "g_1[1,0,0]     29.77      7.35     29.48     15.55     44.36   4881.28      1.00\n",
      "g_1[1,0,1]     56.13     20.64     54.40     17.87     97.38  17771.77      1.00\n",
      "g_2[0,0,0]      0.62      0.52      0.49      0.00      1.65  20021.48      1.00\n",
      "g_2[0,0,1]      0.40      0.37      0.29      0.00      1.15  28639.71      1.00\n",
      "g_2[1,0,0]      0.42      0.40      0.32      0.00      1.15   1817.14      1.00\n",
      "g_2[1,0,1]     18.61      6.24     17.98      7.07     30.95  19723.69      1.00\n",
      "  v[0,0,0]      2.27      0.78      2.19      0.87      3.84   7425.45      1.00\n",
      "  v[0,0,1]      9.98      3.80      9.34      3.73     17.60  10425.29      1.00\n",
      "  v[1,0,0]      0.76      0.79      0.58      0.00      1.92   1084.84      1.00\n",
      "  v[1,0,1]     12.99      5.24     12.01      4.79     23.82  11163.48      1.00\n",
      "  µ_a[0,0]    140.92     25.55    140.53     88.44    194.15  11980.84      1.00\n",
      "  µ_a[0,1]    148.33     23.65    148.61     98.33    197.85  13477.10      1.00\n",
      "  σ_H[0,0]      5.70      2.17      5.27      2.33     10.12  22503.05      1.00\n",
      "  σ_H[0,1]      4.05      1.95      3.59      1.27      7.96  20593.66      1.00\n",
      "  σ_L[0,0]      0.05      0.02      0.05      0.02      0.10  22937.58      1.00\n",
      "  σ_L[0,1]      0.05      0.02      0.05      0.02      0.09  22087.96      1.00\n",
      "  σ_a[0,0]     41.45     22.65     36.08      9.40     88.02  13024.09      1.00\n",
      "  σ_a[0,1]     37.30     21.87     31.75      8.20     82.26  14453.02      1.00\n",
      "  σ_b[0,0]      0.07      0.04      0.06      0.02      0.15  17945.17      1.00\n",
      "  σ_b[0,1]      0.17      0.05      0.17      0.08      0.28  15073.55      1.00\n",
      "  σ_v[0,0]      3.82      3.11      2.85      0.42     10.13  14019.38      1.00\n",
      "  σ_v[0,1]     12.07      4.80     11.32      4.11     21.53  18042.90      1.00\n",
      "\n",
      "Number of divergences: 1\n"
     ]
    }
   ],
   "source": [
    "mcmc.print_summary(prob=.95)\n"
   ]
  },
  {
   "cell_type": "code",
   "execution_count": 7,
   "metadata": {},
   "outputs": [
    {
     "name": "stderr",
     "output_type": "stream",
     "text": [
      "2023-07-21 13:54:20,608 - hbmep.model.baseline - INFO - Rendering recruitment curves ...\n",
      "2023-07-21 13:54:25,988 - hbmep.model.baseline - INFO - Saved to /home/vishu/repos/hbmep-paper/reports/fix/recruitment_curves.pdf\n",
      "2023-07-21 13:54:25,988 - hbmep.utils.utils - INFO - func:render_recruitment_curves took: 5.38 sec\n"
     ]
    }
   ],
   "source": [
    "model.render_recruitment_curves(df=df, encoder_dict=encoder_dict, posterior_samples=posterior_samples)\n"
   ]
  },
  {
   "cell_type": "code",
   "execution_count": 8,
   "metadata": {},
   "outputs": [
    {
     "name": "stderr",
     "output_type": "stream",
     "text": [
      "2023-07-21 13:54:26,050 - hbmep.model.baseline - INFO - Rendering Posterior Predictive Check ...\n"
     ]
    },
    {
     "name": "stderr",
     "output_type": "stream",
     "text": [
      "2023-07-21 13:54:32,329 - hbmep.model.baseline - INFO - Saved to /home/vishu/repos/hbmep-paper/reports/fix/posterior_predictive_check.pdf\n",
      "2023-07-21 13:54:32,332 - hbmep.utils.utils - INFO - func:render_predictive_check took: 6.28 sec\n"
     ]
    }
   ],
   "source": [
    "model.render_predictive_check(df=df, encoder_dict=encoder_dict, posterior_samples=posterior_samples)\n"
   ]
  },
  {
   "cell_type": "code",
   "execution_count": null,
   "metadata": {},
   "outputs": [],
   "source": []
  }
 ],
 "metadata": {
  "kernelspec": {
   "display_name": ".venv",
   "language": "python",
   "name": "python3"
  },
  "language_info": {
   "codemirror_mode": {
    "name": "ipython",
    "version": 3
   },
   "file_extension": ".py",
   "mimetype": "text/x-python",
   "name": "python",
   "nbconvert_exporter": "python",
   "pygments_lexer": "ipython3",
   "version": "3.11.4"
  },
  "orig_nbformat": 4,
  "vscode": {
   "interpreter": {
    "hash": "850bfd4e6f5ddd996dd5cd5088beecd08558625e274540230e1444ec52025b11"
   }
  }
 },
 "nbformat": 4,
 "nbformat_minor": 2
}
