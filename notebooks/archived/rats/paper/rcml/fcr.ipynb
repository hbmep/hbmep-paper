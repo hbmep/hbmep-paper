{
 "cells": [
  {
   "cell_type": "code",
   "execution_count": 1,
   "metadata": {},
   "outputs": [],
   "source": [
    "%reload_ext autoreload\n",
    "%autoreload 2\n",
    "\n",
    "import os\n",
    "from pathlib import Path\n",
    "import multiprocessing\n",
    "\n",
    "import jax\n",
    "import jax.numpy as jnp\n",
    "import pandas as pd\n",
    "import numpy as np\n",
    "import numpyro\n",
    "import numpyro.distributions as dist\n",
    "\n",
    "from hbmep.config import Config\n",
    "from hbmep.model import Baseline\n",
    "from hbmep.model.utils import Site as site\n",
    "from hbmep.utils.constants import RECTIFIED_LOGISTIC\n",
    "\n",
    "PLATFORM = \"cpu\"\n",
    "jax.config.update(\"jax_platforms\", PLATFORM)\n",
    "numpyro.set_platform(PLATFORM)\n",
    "\n",
    "cpu_count = multiprocessing.cpu_count() - 2\n",
    "numpyro.set_host_device_count(cpu_count)\n",
    "numpyro.enable_x64()\n",
    "numpyro.enable_validation()\n"
   ]
  },
  {
   "cell_type": "code",
   "execution_count": 2,
   "metadata": {},
   "outputs": [
    {
     "name": "stderr",
     "output_type": "stream",
     "text": [
      "2023-08-09 13:01:13,286 - hbmep.config - INFO - Verifying configuration ...\n",
      "2023-08-09 13:01:13,287 - hbmep.config - INFO - Success!\n"
     ]
    }
   ],
   "source": [
    "root_path = Path(os.getcwd()).parent.parent.parent.parent.absolute()\n",
    "toml_path = os.path.join(root_path, \"configs/rcml/fcr.toml\")\n",
    "\n",
    "config = Config(toml_path=toml_path)\n"
   ]
  },
  {
   "attachments": {},
   "cell_type": "markdown",
   "metadata": {},
   "source": [
    "#### Load data and preprocess"
   ]
  },
  {
   "cell_type": "code",
   "execution_count": 3,
   "metadata": {},
   "outputs": [
    {
     "name": "stderr",
     "output_type": "stream",
     "text": [
      "2023-08-09 13:01:13,327 - hbmep.model.baseline - INFO - Initialized model with rectified_logistic link\n"
     ]
    }
   ],
   "source": [
    "class RectifiedLogistic(Baseline):\n",
    "    LINK = RECTIFIED_LOGISTIC\n",
    "\n",
    "    def __init__(self, config: Config):\n",
    "        super(RectifiedLogistic, self).__init__(config=config)\n",
    "\n",
    "    def _model(self, subject, features, intensity, response_obs=None):\n",
    "        intensity = intensity.reshape(-1, 1)\n",
    "        intensity = np.tile(intensity, (1, self.n_response))\n",
    "\n",
    "        feature0 = features[0, ...].reshape(-1,)\n",
    "\n",
    "        n_data = intensity.shape[0]\n",
    "        n_subject = np.unique(subject).shape[0]\n",
    "        n_feature0 = np.unique(feature0).shape[0]\n",
    "\n",
    "        with numpyro.plate(site.n_response, self.n_response, dim=-1):\n",
    "            with numpyro.plate(site.n_subject, n_subject, dim=-2):\n",
    "                \"\"\" Hyper-priors \"\"\"\n",
    "                mu_a = numpyro.sample(\n",
    "                    site.mu_a,\n",
    "                    dist.TruncatedNormal(150, 50, low=0)\n",
    "                )\n",
    "                sigma_a = numpyro.sample(site.sigma_a, dist.HalfNormal(50))\n",
    "\n",
    "                sigma_b = numpyro.sample(site.sigma_b, dist.HalfNormal(0.1))\n",
    "\n",
    "                sigma_L = numpyro.sample(site.sigma_L, dist.HalfNormal(0.05))\n",
    "                sigma_H = numpyro.sample(site.sigma_H, dist.HalfNormal(5))\n",
    "                sigma_v = numpyro.sample(site.sigma_v, dist.HalfNormal(10))\n",
    "\n",
    "                with numpyro.plate(\"n_feature0\", n_feature0, dim=-3):\n",
    "                    \"\"\" Priors \"\"\"\n",
    "                    a = numpyro.sample(\n",
    "                        site.a,\n",
    "                        dist.TruncatedNormal(mu_a, sigma_a, low=0)\n",
    "                    )\n",
    "                    b = numpyro.sample(site.b, dist.HalfNormal(sigma_b))\n",
    "\n",
    "                    L = numpyro.sample(site.L, dist.HalfNormal(sigma_L))\n",
    "                    H = numpyro.sample(site.H, dist.HalfNormal(sigma_H))\n",
    "                    v = numpyro.sample(site.v, dist.HalfNormal(sigma_v))\n",
    "\n",
    "                    g_1 = numpyro.sample(site.g_1, dist.Exponential(0.01))\n",
    "                    g_2 = numpyro.sample(site.g_2, dist.Exponential(0.01))\n",
    "\n",
    "        \"\"\" Model \"\"\"\n",
    "        mu = numpyro.deterministic(\n",
    "            site.mu,\n",
    "            L[feature0, subject]\n",
    "            + jnp.maximum(\n",
    "                0,\n",
    "                -1\n",
    "                + (H[feature0, subject] + 1)\n",
    "                / jnp.power(\n",
    "                    1\n",
    "                    + (jnp.power(1 + H[feature0, subject], v[feature0, subject]) - 1)\n",
    "                    * jnp.exp(-b[feature0, subject] * (intensity - a[feature0, subject])),\n",
    "                    1 / v[feature0, subject]\n",
    "                )\n",
    "            )\n",
    "        )\n",
    "        beta = numpyro.deterministic(\n",
    "            site.beta,\n",
    "            g_1[feature0, subject] + g_2[feature0, subject] * (1 / mu)\n",
    "        )\n",
    "\n",
    "        \"\"\" Observation \"\"\"\n",
    "        with numpyro.plate(site.data, n_data):\n",
    "            return numpyro.sample(\n",
    "                site.obs,\n",
    "                dist.Gamma(concentration=mu * beta, rate=beta).to_event(1),\n",
    "                obs=response_obs\n",
    "            )\n",
    "\n",
    "\n",
    "model = RectifiedLogistic(config=config)\n"
   ]
  },
  {
   "cell_type": "code",
   "execution_count": 4,
   "metadata": {},
   "outputs": [
    {
     "name": "stderr",
     "output_type": "stream",
     "text": [
      "2023-08-09 13:01:13,368 - hbmep.dataset.core - INFO - Artefacts will be stored here - /home/vishu/repos/hbmep-paper/reports/J_RCML_000/fcr\n",
      "2023-08-09 13:01:13,368 - hbmep.dataset.core - INFO - Copied config to /home/vishu/repos/hbmep-paper/reports/J_RCML_000/fcr\n",
      "2023-08-09 13:01:13,370 - hbmep.dataset.core - INFO - Processing data ...\n",
      "2023-08-09 13:01:13,371 - hbmep.utils.utils - INFO - func:load took: 0.00 sec\n",
      "2023-08-09 13:01:13,374 - hbmep.dataset.core - INFO - Plotting dataset ...\n"
     ]
    },
    {
     "name": "stderr",
     "output_type": "stream",
     "text": [
      "2023-08-09 13:01:23,333 - hbmep.dataset.core - INFO - Saved to /home/vishu/repos/hbmep-paper/reports/J_RCML_000/fcr/dataset.pdf\n",
      "2023-08-09 13:01:23,333 - hbmep.utils.utils - INFO - func:plot took: 9.96 sec\n"
     ]
    }
   ],
   "source": [
    "df = pd.read_csv(model.csv_path)\n",
    "\n",
    "ind = df.pulse_amplitude.isin([0])\n",
    "df = df[~ind].reset_index(drop=True).copy()\n",
    "\n",
    "subset = ['-C5L', '-C6L', '-C7L', '-C8L']\n",
    "ind = df.compound_position.isin(subset)\n",
    "df = df[ind].reset_index(drop=True).copy()\n",
    "\n",
    "# df[model.features] = \\\n",
    "#     df.compound_position \\\n",
    "#         .apply(lambda x: x.split(\"-\")) \\\n",
    "#         .apply(lambda x: (x[0][:2] + \"-\" + x[1][:2], x[0][-1])) \\\n",
    "#         .apply(pd.Series)\n",
    "\n",
    "\"\"\" Process \"\"\"\n",
    "df, encoder_dict = model.load(df=df)\n",
    "\n",
    "\"\"\" Plot \"\"\"\n",
    "model.plot(df=df, encoder_dict=encoder_dict)"
   ]
  },
  {
   "cell_type": "code",
   "execution_count": 5,
   "metadata": {},
   "outputs": [
    {
     "data": {
      "text/plain": [
       "(1604, 44)"
      ]
     },
     "execution_count": 5,
     "metadata": {},
     "output_type": "execute_result"
    }
   ],
   "source": [
    "df.shape"
   ]
  },
  {
   "cell_type": "code",
   "execution_count": 6,
   "metadata": {},
   "outputs": [
    {
     "name": "stderr",
     "output_type": "stream",
     "text": [
      "2023-08-09 13:01:23,378 - hbmep.model.baseline - INFO - Running inference with rectified_logistic ...\n"
     ]
    },
    {
     "data": {
      "application/vnd.jupyter.widget-view+json": {
       "model_id": "28d895060105450b8f708774b3a5c731",
       "version_major": 2,
       "version_minor": 0
      },
      "text/plain": [
       "  0%|          | 0/10000 [00:00<?, ?it/s]"
      ]
     },
     "metadata": {},
     "output_type": "display_data"
    },
    {
     "data": {
      "application/vnd.jupyter.widget-view+json": {
       "model_id": "b406570b1f5b4694958da167e676ed40",
       "version_major": 2,
       "version_minor": 0
      },
      "text/plain": [
       "  0%|          | 0/10000 [00:00<?, ?it/s]"
      ]
     },
     "metadata": {},
     "output_type": "display_data"
    },
    {
     "data": {
      "application/vnd.jupyter.widget-view+json": {
       "model_id": "170a44552e2a4c26a97aa8e5dea51b1a",
       "version_major": 2,
       "version_minor": 0
      },
      "text/plain": [
       "  0%|          | 0/10000 [00:00<?, ?it/s]"
      ]
     },
     "metadata": {},
     "output_type": "display_data"
    },
    {
     "data": {
      "application/vnd.jupyter.widget-view+json": {
       "model_id": "52ac7e2fdd5f419abbafbe8fbb4e0339",
       "version_major": 2,
       "version_minor": 0
      },
      "text/plain": [
       "  0%|          | 0/10000 [00:00<?, ?it/s]"
      ]
     },
     "metadata": {},
     "output_type": "display_data"
    },
    {
     "name": "stderr",
     "output_type": "stream",
     "text": [
      "2023-08-09 13:23:18,228 - hbmep.utils.utils - INFO - func:run_inference took: 21 min and 54.85 sec\n"
     ]
    }
   ],
   "source": [
    "mcmc, posterior_samples = model.run_inference(df=df)\n"
   ]
  },
  {
   "cell_type": "code",
   "execution_count": 7,
   "metadata": {},
   "outputs": [
    {
     "name": "stdout",
     "output_type": "stream",
     "text": [
      "\n",
      "                mean       std    median      2.5%     97.5%     n_eff     r_hat\n",
      "  H[0,0,0]      4.00      4.00      2.62      0.44     12.05  13629.49      1.00\n",
      "  H[0,1,0]      0.41      0.06      0.40      0.33      0.51   3521.73      1.00\n",
      "  H[0,2,0]      8.96      2.85      8.32      4.78     14.59   9995.52      1.00\n",
      "  H[0,3,0]      5.60      4.85      4.29      0.11     14.99  23678.63      1.00\n",
      "  H[0,4,0]      0.18      0.08      0.17      0.12      0.27   2979.79      1.00\n",
      "  H[0,5,0]      7.48      5.65      6.15      0.40     18.47  26188.03      1.00\n",
      "  H[0,6,0]      6.97      5.14      5.74      0.55     16.95  22515.08      1.00\n",
      "  H[0,7,0]      0.08      0.01      0.08      0.06      0.09  17978.94      1.00\n",
      "  H[1,0,0]      4.22      3.96      2.89      0.44     12.08  14259.66      1.00\n",
      "  H[1,1,0]      0.92      0.13      0.90      0.72      1.18   5859.17      1.00\n",
      "  H[1,2,0]     13.25      5.41     11.95      6.02     24.06   5694.88      1.00\n",
      "  H[1,3,0]      5.93      4.73      4.69      0.36     15.18  22248.07      1.00\n",
      "  H[1,4,0]      0.48      0.11      0.46      0.33      0.67   6666.24      1.00\n",
      "  H[1,5,0]      7.30      5.46      5.82      0.99     18.27  20615.63      1.00\n",
      "  H[1,6,0]      1.22      2.08      0.81      0.52      2.32   2406.62      1.00\n",
      "  H[1,7,0]      1.48      0.06      1.47      1.35      1.60  15673.34      1.00\n",
      "  H[2,0,0]      4.27      4.10      2.97      0.21     12.40  16094.82      1.00\n",
      "  H[2,1,0]      1.17      0.90      0.93      0.51      2.43   5720.70      1.00\n",
      "  H[2,2,0]     11.73      3.25     11.05      6.88     18.15   8575.91      1.00\n",
      "  H[2,3,0]      6.05      4.50      4.67      1.28     15.01  15112.00      1.00\n",
      "  H[2,4,0]      0.57      0.06      0.56      0.47      0.68   9657.63      1.00\n",
      "  H[2,5,0]      2.74      0.14      2.74      2.47      3.02  18461.71      1.00\n",
      "  H[2,6,0]      8.62      5.00      7.34      2.30     18.60  16392.88      1.00\n",
      "  H[2,7,0]      1.50      0.05      1.50      1.41      1.59  22219.45      1.00\n",
      "  H[3,0,0]      4.27      4.09      2.95      0.26     12.44  15621.30      1.00\n",
      "  H[3,1,0]      1.57      1.51      1.11      0.21      4.33  11580.12      1.00\n",
      "  H[3,2,0]     12.08      5.21     10.90      4.60     22.34   9515.28      1.00\n",
      "  H[3,3,0]      8.12      0.61      8.07      7.00      9.35  15651.09      1.00\n",
      "  H[3,4,0]      1.01      0.30      0.94      0.64      1.55   6804.84      1.00\n",
      "  H[3,5,0]     15.56      0.25     15.56     15.08     16.07  21182.39      1.00\n",
      "  H[3,6,0]     12.62      0.73     12.56     11.31     14.07  11649.77      1.00\n",
      "  H[3,7,0]      1.60      1.69      1.09      0.10      4.67  15873.34      1.00\n",
      "  L[0,0,0]      0.02      0.00      0.02      0.02      0.03  24430.75      1.00\n",
      "  L[0,1,0]      0.02      0.00      0.02      0.02      0.03  17027.97      1.00\n",
      "  L[0,2,0]      0.02      0.00      0.01      0.01      0.02  18606.48      1.00\n",
      "  L[0,3,0]      0.02      0.00      0.02      0.01      0.03  14305.74      1.00\n",
      "  L[0,4,0]      0.01      0.00      0.01      0.01      0.02  22377.67      1.00\n",
      "  L[0,5,0]      0.02      0.00      0.02      0.01      0.03   5621.92      1.00\n",
      "  L[0,6,0]      0.02      0.00      0.02      0.01      0.02  22337.92      1.00\n",
      "  L[0,7,0]      0.01      0.00      0.01      0.01      0.02  21871.77      1.00\n",
      "  L[1,0,0]      0.02      0.00      0.02      0.01      0.02  27961.53      1.00\n",
      "  L[1,1,0]      0.02      0.00      0.02      0.02      0.03   4283.92      1.00\n",
      "  L[1,2,0]      0.02      0.00      0.02      0.01      0.02  22943.23      1.00\n",
      "  L[1,3,0]      0.02      0.01      0.02      0.01      0.03   3412.43      1.00\n",
      "  L[1,4,0]      0.01      0.00      0.01      0.01      0.02  14847.04      1.00\n",
      "  L[1,5,0]      0.02      0.00      0.02      0.02      0.03  19536.07      1.00\n",
      "  L[1,6,0]      0.02      0.01      0.02      0.01      0.04   3265.19      1.00\n",
      "  L[1,7,0]      0.02      0.00      0.01      0.01      0.02  16507.69      1.00\n",
      "  L[2,0,0]      0.02      0.00      0.02      0.02      0.02   6515.95      1.00\n",
      "  L[2,1,0]      0.02      0.00      0.02      0.02      0.03  21520.77      1.00\n",
      "  L[2,2,0]      0.04      0.01      0.04      0.02      0.06  20055.18      1.00\n",
      "  L[2,3,0]      0.06      0.01      0.06      0.04      0.07  22021.94      1.00\n",
      "  L[2,4,0]      0.01      0.00      0.01      0.01      0.02  13054.40      1.00\n",
      "  L[2,5,0]      0.02      0.00      0.02      0.01      0.02  14554.28      1.00\n",
      "  L[2,6,0]      0.02      0.01      0.02      0.01      0.04    149.62      1.03\n",
      "  L[2,7,0]      0.02      0.00      0.02      0.01      0.02  21770.58      1.00\n",
      "  L[3,0,0]      0.02      0.00      0.02      0.02      0.02  25865.53      1.00\n",
      "  L[3,1,0]      0.03      0.00      0.03      0.02      0.03  29728.45      1.00\n",
      "  L[3,2,0]      0.04      0.01      0.04      0.03      0.05  23004.78      1.00\n",
      "  L[3,3,0]      0.02      0.00      0.02      0.02      0.03  15779.96      1.00\n",
      "  L[3,4,0]      0.01      0.00      0.01      0.01      0.02  22412.92      1.00\n",
      "  L[3,5,0]      0.02      0.00      0.02      0.02      0.03  19509.86      1.00\n",
      "  L[3,6,0]      0.03      0.00      0.03      0.02      0.04  10406.50      1.00\n",
      "  L[3,7,0]      0.01      0.00      0.01      0.01      0.02  25263.54      1.00\n",
      "  a[0,0,0]    117.92      6.17    118.42    106.41    129.36  15130.61      1.00\n",
      "  a[0,1,0]     48.75      4.20     49.15     40.30     56.60   5399.70      1.00\n",
      "  a[0,2,0]     40.01      2.40     40.37     35.16     43.75  13748.17      1.00\n",
      "  a[0,3,0]     35.49     12.61     36.48      5.81     58.09   8957.83      1.00\n",
      "  a[0,4,0]     26.21      3.18     26.66     19.75     32.12   8813.02      1.00\n",
      "  a[0,5,0]     87.71     23.21     79.22     57.29    141.39   4753.33      1.00\n",
      "  a[0,6,0]     36.40      2.86     36.40     30.73     42.01  21106.92      1.00\n",
      "  a[0,7,0]     68.08      2.96     68.20     61.77     74.32  12975.64      1.00\n",
      "  a[1,0,0]    135.84      2.10    136.02    131.43    139.48  16328.10      1.00\n",
      "  a[1,1,0]    104.54      6.82    102.05     96.60    119.94   1769.54      1.00\n",
      "  a[1,2,0]     80.31      1.86     80.20     76.81     84.32  16063.04      1.00\n",
      "  a[1,3,0]     57.61     17.63     55.13     32.67     81.69   2554.78      1.00\n",
      "  a[1,4,0]     24.99      2.24     25.04     20.40     29.79  13037.33      1.00\n",
      "  a[1,5,0]     87.37      6.16     87.55     75.09     99.23  12215.92      1.00\n",
      "  a[1,6,0]     61.40     12.49     56.97     43.69     86.48   2251.44      1.00\n",
      "  a[1,7,0]     31.15      1.04     31.44     28.78     32.71   9282.76      1.00\n",
      "  a[2,0,0]    215.01      7.67    212.59    204.20    230.91   2351.80      1.00\n",
      "  a[2,1,0]    194.94      6.24    193.54    185.34    206.75   3668.97      1.00\n",
      "  a[2,2,0]    150.94      6.68    151.30    138.93    164.23   5552.75      1.00\n",
      "  a[2,3,0]    172.15      6.53    171.72    160.22    185.67  13576.26      1.00\n",
      "  a[2,4,0]     39.96      1.73     39.60     37.08     43.15   6757.91      1.00\n",
      "  a[2,5,0]     40.15      1.39     40.11     37.95     42.93   5160.93      1.00\n",
      "  a[2,6,0]     86.31     12.96     84.52     69.43    117.03    134.74      1.03\n",
      "  a[2,7,0]     58.02      0.70     58.11     56.60     59.26  11958.27      1.00\n",
      "  a[3,0,0]    213.71      2.58    213.84    208.29    218.88  22417.48      1.00\n",
      "  a[3,1,0]    299.17      3.89    299.52    291.55    306.26  17376.24      1.00\n",
      "  a[3,2,0]    233.05      5.00    233.23    223.05    241.67  15647.98      1.00\n",
      "  a[3,3,0]    167.35      1.95    166.93    164.25    171.89   5512.82      1.00\n",
      "  a[3,4,0]     47.48      2.19     47.30     43.44     51.62  14950.68      1.00\n",
      "  a[3,5,0]    146.94      1.76    147.26    143.14    149.72   4280.39      1.00\n",
      "  a[3,6,0]    156.82      3.70    157.13    150.31    164.22   3013.91      1.00\n",
      "  a[3,7,0]     75.92      6.71     76.52     62.02     88.34  15643.90      1.00\n",
      "  b[0,0,0]      0.02      0.02      0.01      0.00      0.05   5899.82      1.00\n",
      "  b[0,1,0]      0.02      0.01      0.01      0.01      0.03   7461.49      1.00\n",
      "  b[0,2,0]      0.00      0.00      0.00      0.00      0.01   8663.42      1.00\n",
      "  b[0,3,0]      0.01      0.01      0.01      0.00      0.02  12160.62      1.00\n",
      "  b[0,4,0]      0.01      0.01      0.01      0.00      0.02   9843.54      1.00\n",
      "  b[0,5,0]      0.01      0.01      0.01      0.00      0.02   9788.48      1.00\n",
      "  b[0,6,0]      0.03      0.02      0.03      0.00      0.07  10674.59      1.00\n",
      "  b[0,7,0]      0.06      0.02      0.06      0.03      0.11  13924.37      1.00\n",
      "  b[1,0,0]      0.02      0.02      0.01      0.00      0.06   5612.53      1.00\n",
      "  b[1,1,0]      0.03      0.02      0.02      0.01      0.06   6415.52      1.00\n",
      "  b[1,2,0]      0.01      0.01      0.01      0.00      0.02   5545.98      1.00\n",
      "  b[1,3,0]      0.02      0.01      0.02      0.00      0.04   9802.16      1.00\n",
      "  b[1,4,0]      0.02      0.01      0.01      0.01      0.03   8363.55      1.00\n",
      "  b[1,5,0]      0.03      0.02      0.02      0.00      0.07   9858.87      1.00\n",
      "  b[1,6,0]      0.10      0.08      0.08      0.00      0.26   6221.03      1.00\n",
      "  b[1,7,0]      0.04      0.01      0.04      0.03      0.05  10719.77      1.00\n",
      "  b[2,0,0]      0.02      0.02      0.01      0.00      0.05   5720.24      1.00\n",
      "  b[2,1,0]      0.03      0.03      0.02      0.00      0.08   6203.19      1.00\n",
      "  b[2,2,0]      0.01      0.00      0.01      0.00      0.02   5530.22      1.00\n",
      "  b[2,3,0]      0.07      0.05      0.06      0.00      0.16   9885.63      1.00\n",
      "  b[2,4,0]      0.03      0.01      0.03      0.01      0.05   5551.64      1.00\n",
      "  b[2,5,0]      0.02      0.01      0.01      0.01      0.02   3145.82      1.00\n",
      "  b[2,6,0]      0.10      0.06      0.08      0.01      0.21   4628.32      1.00\n",
      "  b[2,7,0]      0.09      0.03      0.09      0.05      0.15   9395.55      1.00\n",
      "  b[3,0,0]      0.02      0.02      0.02      0.00      0.06   5961.35      1.00\n",
      "  b[3,1,0]      0.02      0.02      0.02      0.00      0.06   6907.79      1.00\n",
      "  b[3,2,0]      0.01      0.01      0.01      0.00      0.03   5323.68      1.00\n",
      "  b[3,3,0]      0.15      0.07      0.14      0.04      0.30   9007.12      1.00\n",
      "  b[3,4,0]      0.02      0.01      0.02      0.00      0.04   5566.87      1.00\n",
      "  b[3,5,0]      0.11      0.03      0.11      0.06      0.18   7726.75      1.00\n",
      "  b[3,6,0]      0.22      0.10      0.20      0.06      0.40   8188.30      1.00\n",
      "  b[3,7,0]      0.01      0.01      0.01      0.00      0.04  13073.12      1.00\n",
      "g_1[0,0,0]     53.66     15.98     52.75     23.09     85.10  22833.25      1.00\n",
      "g_1[0,1,0]     16.39     10.63     15.00      0.00     35.93  12212.27      1.00\n",
      "g_1[0,2,0]      1.19      0.94      0.98      0.00      3.01  13578.62      1.00\n",
      "g_1[0,3,0]     13.09     12.41      9.41      0.00     37.92  19443.06      1.00\n",
      "g_1[0,4,0]     41.78     32.29     34.89      0.00    104.41  14639.57      1.00\n",
      "g_1[0,5,0]      9.28      9.53      6.29      0.00     28.38   6463.57      1.00\n",
      "g_1[0,6,0]      6.60      5.64      5.10      0.00     17.82  19587.00      1.00\n",
      "g_1[0,7,0]     12.40     11.73      8.98      0.00     36.29  24371.58      1.00\n",
      "g_1[1,0,0]     12.97     11.81      9.51      0.00     36.61  26840.49      1.00\n",
      "g_1[1,1,0]      7.32      4.16      6.89      0.01     14.81  11423.65      1.00\n",
      "g_1[1,2,0]      1.76      1.08      1.63      0.00      3.73  16554.74      1.00\n",
      "g_1[1,3,0]      3.86      3.62      2.80      0.00     11.04   9641.56      1.00\n",
      "g_1[1,4,0]     17.40     11.84     15.52      0.00     39.63  13089.09      1.00\n",
      "g_1[1,5,0]     11.23      5.92     10.69      0.29     21.95  18496.69      1.00\n",
      "g_1[1,6,0]      0.84      0.71      0.66      0.00      2.25  14311.02      1.00\n",
      "g_1[1,7,0]     26.21      8.27     25.86     10.55     43.16  16551.61      1.00\n",
      "g_1[2,0,0]     34.04     24.66     29.28      0.01     81.04  10651.47      1.00\n",
      "g_1[2,1,0]      1.29      1.21      0.93      0.00      3.74  28500.73      1.00\n",
      "g_1[2,2,0]      5.15      1.47      5.03      2.56      8.17  24433.90      1.00\n",
      "g_1[2,3,0]     17.71      6.04     17.20      6.45     29.50  19034.46      1.00\n",
      "g_1[2,4,0]      8.44      6.40      7.14      0.00     20.73  16560.96      1.00\n",
      "g_1[2,5,0]      7.61      4.45      7.24      0.05     15.56  11778.62      1.00\n",
      "g_1[2,6,0]      0.85      0.80      0.70      0.00      2.02    244.99      1.02\n",
      "g_1[2,7,0]     33.93     11.93     33.13     11.81     58.22  26621.48      1.00\n",
      "g_1[3,0,0]     28.59     23.39     22.86      0.00     74.46  24327.66      1.00\n",
      "g_1[3,1,0]     34.49     27.75     28.05      0.01     89.13  13866.77      1.00\n",
      "g_1[3,2,0]      4.87      1.74      4.68      1.77      8.37  25746.46      1.00\n",
      "g_1[3,3,0]      2.13      1.07      2.02      0.13      4.16  17599.96      1.00\n",
      "g_1[3,4,0]     10.67      5.89     10.11      0.03     21.28  17422.23      1.00\n",
      "g_1[3,5,0]     13.54      3.77     13.19      6.71     21.10  17815.44      1.00\n",
      "g_1[3,6,0]      9.04      3.34      8.64      3.25     15.77  10083.63      1.00\n",
      "g_1[3,7,0]      2.47      2.33      1.76      0.00      7.16  28162.24      1.00\n",
      "g_2[0,0,0]      1.97      1.17      1.83      0.01      4.12  19428.28      1.00\n",
      "g_2[0,1,0]      7.54      3.04      7.46      1.63     13.34  11311.85      1.00\n",
      "g_2[0,2,0]      9.31      2.88      9.25      3.47     14.71  14733.19      1.00\n",
      "g_2[0,3,0]      9.31      2.24      9.22      4.98     13.79  23236.20      1.00\n",
      "g_2[0,4,0]     11.49      3.97     11.49      3.69     19.16  14444.26      1.00\n",
      "g_2[0,5,0]      6.66      1.89      6.65      2.83     10.34   9174.64      1.00\n",
      "g_2[0,6,0]     10.96      2.81     10.85      5.48     16.49  20940.41      1.00\n",
      "g_2[0,7,0]      7.57      1.75      7.50      4.24     11.02  23400.75      1.00\n",
      "g_2[1,0,0]     27.32      6.15     27.01     15.99     39.74  27129.40      1.00\n",
      "g_2[1,1,0]      5.20      1.79      5.05      1.98      8.74   8949.09      1.00\n",
      "g_2[1,2,0]      9.20      2.88      9.01      3.77     14.75  16167.09      1.00\n",
      "g_2[1,3,0]      4.98      1.24      4.94      2.53      7.41  13224.99      1.00\n",
      "g_2[1,4,0]      8.05      3.02      7.93      2.16     13.81  13062.29      1.00\n",
      "g_2[1,5,0]      7.14      2.43      6.96      2.64     11.95  18109.34      1.00\n",
      "g_2[1,6,0]      2.23      0.59      2.22      1.09      3.42  13797.42      1.00\n",
      "g_2[1,7,0]      6.21      3.71      5.44      0.55     13.64  10907.09      1.00\n",
      "g_2[2,0,0]      7.01      2.00      6.92      3.28     11.01  12705.55      1.00\n",
      "g_2[2,1,0]      4.81      1.03      4.75      2.88      6.87  27132.68      1.00\n",
      "g_2[2,2,0]      1.20      0.44      1.15      0.40      2.08  26530.74      1.00\n",
      "g_2[2,3,0]      1.57      0.78      1.51      0.10      3.02  18259.85      1.00\n",
      "g_2[2,4,0]      9.51      2.88      9.41      3.96     15.10  15921.32      1.00\n",
      "g_2[2,5,0]     16.36      7.49     15.86      2.60     30.58  10058.09      1.00\n",
      "g_2[2,6,0]      1.79      0.54      1.79      0.73      2.86    529.24      1.01\n",
      "g_2[2,7,0]     13.54      5.00     12.96      4.81     23.64  23769.15      1.00\n",
      "g_2[3,0,0]     15.83      3.74     15.63      8.66     23.17  23963.45      1.00\n",
      "g_2[3,1,0]      5.54      1.55      5.52      2.41      8.54  18530.14      1.00\n",
      "g_2[3,2,0]      1.59      0.46      1.56      0.74      2.50  26651.64      1.00\n",
      "g_2[3,3,0]      6.25      1.69      6.11      3.09      9.59  17318.04      1.00\n",
      "g_2[3,4,0]      5.90      1.99      5.76      2.27      9.82  18250.96      1.00\n",
      "g_2[3,5,0]      4.20      1.46      4.04      1.53      7.04  20796.28      1.00\n",
      "g_2[3,6,0]      1.58      0.50      1.54      0.69      2.59  16150.84      1.00\n",
      "g_2[3,7,0]      2.46      0.53      2.44      1.45      3.51  28560.60      1.00\n",
      "  v[0,0,0]      9.21      9.07      6.53      0.00     27.26   5631.16      1.00\n",
      "  v[0,1,0]      1.95      2.56      1.08      0.00      6.75   7054.17      1.00\n",
      "  v[0,2,0]      0.25      0.26      0.17      0.00      0.76   8911.09      1.00\n",
      "  v[0,3,0]     17.57     12.43     14.87      0.01     41.73  11993.29      1.00\n",
      "  v[0,4,0]      1.79      2.57      0.88      0.00      6.57   8892.93      1.00\n",
      "  v[0,5,0]     10.76      8.98      8.32      0.01     28.31  10279.77      1.00\n",
      "  v[0,6,0]     16.59     11.21     14.08      0.72     38.78  10655.80      1.00\n",
      "  v[0,7,0]      6.30      7.30      3.82      0.00     20.87  12795.67      1.00\n",
      "  v[1,0,0]      9.31      9.01      6.71      0.00     27.04   5469.52      1.00\n",
      "  v[1,1,0]      2.43      3.15      1.33      0.00      8.50   5180.75      1.00\n",
      "  v[1,2,0]      1.02      0.87      0.82      0.00      2.66   5404.19      1.00\n",
      "  v[1,3,0]     17.45     12.08     14.67      0.58     41.12  11590.55      1.00\n",
      "  v[1,4,0]      1.37      1.74      0.76      0.00      4.79   7834.83      1.00\n",
      "  v[1,5,0]      9.03      7.70      6.96      0.00     24.18   9620.96      1.00\n",
      "  v[1,6,0]     10.31      8.49      8.26      0.00     26.75   9686.57      1.00\n",
      "  v[1,7,0]      0.40      0.44      0.26      0.00      1.22  12053.59      1.00\n",
      "  v[2,0,0]     10.46      9.34      7.88      0.00     29.27   5520.22      1.00\n",
      "  v[2,1,0]      2.00      2.83      1.03      0.00      7.33   6555.85      1.00\n",
      "  v[2,2,0]      0.46      0.51      0.30      0.00      1.38   4789.52      1.00\n",
      "  v[2,3,0]     10.97      8.32      9.19      0.01     26.94   9528.48      1.00\n",
      "  v[2,4,0]      1.25      1.66      0.68      0.00      4.37   5299.74      1.00\n",
      "  v[2,5,0]      0.73      1.17      0.49      0.00      1.93   3041.91      1.00\n",
      "  v[2,6,0]     13.67      8.31     11.95      1.67     30.31   8200.79      1.00\n",
      "  v[2,7,0]      3.88      1.76      3.63      0.74      7.26   9156.96      1.00\n",
      "  v[3,0,0]      9.53      8.73      7.14      0.00     26.53   5836.76      1.00\n",
      "  v[3,1,0]      3.18      3.83      1.88      0.00     10.58   6185.19      1.00\n",
      "  v[3,2,0]      0.78      0.83      0.54      0.00      2.32   5233.74      1.00\n",
      "  v[3,3,0]      7.61      3.80      6.86      1.86     15.21   8860.41      1.00\n",
      "  v[3,4,0]      1.81      2.36      1.00      0.00      6.35   5318.03      1.00\n",
      "  v[3,5,0]      2.61      0.94      2.44      1.17      4.42   6702.57      1.00\n",
      "  v[3,6,0]      9.78      4.42      9.02      2.61     18.58   8246.51      1.00\n",
      "  v[3,7,0]      8.06      7.93      5.66      0.00     23.89  11294.48      1.00\n",
      "  µ_a[0,0]    164.49     25.82    165.56    111.44    214.06  11906.56      1.00\n",
      "  µ_a[1,0]    150.65     35.24    151.70     79.93    218.86  20395.57      1.00\n",
      "  µ_a[2,0]    128.71     32.52    129.16     63.83    193.24  20372.08      1.00\n",
      "  µ_a[3,0]    115.96     31.36    115.99     54.49    179.50  14970.23      1.00\n",
      "  µ_a[4,0]     38.95     15.26     36.99      7.91     70.33  10271.62      1.00\n",
      "  µ_a[5,0]     99.29     26.99     98.80     42.45    151.22   5757.03      1.00\n",
      "  µ_a[6,0]     96.89     28.00     96.22     42.28    155.88  15635.86      1.00\n",
      "  µ_a[7,0]     65.21     18.97     63.25     27.25    106.60  12179.65      1.00\n",
      "  σ_H[0,0]      5.00      2.83      4.48      0.66     10.50  11027.39      1.00\n",
      "  σ_H[1,0]      1.67      1.20      1.31      0.36      4.00  10447.75      1.00\n",
      "  σ_H[2,0]      9.67      2.60      9.39      4.93     14.83  11186.52      1.00\n",
      "  σ_H[3,0]      6.93      2.44      6.55      2.73     11.63  19003.32      1.00\n",
      "  σ_H[4,0]      0.97      0.59      0.81      0.29      2.09  12988.35      1.00\n",
      "  σ_H[5,0]      8.67      2.30      8.36      4.78     13.32  24177.00      1.00\n",
      "  σ_H[6,0]      8.05      2.35      7.68      4.02     12.75  20896.42      1.00\n",
      "  σ_H[7,0]      2.00      1.20      1.65      0.60      4.37  17067.60      1.00\n",
      "  σ_L[0,0]      0.03      0.01      0.02      0.01      0.05  17420.13      1.00\n",
      "  σ_L[1,0]      0.03      0.01      0.03      0.01      0.06  19744.13      1.00\n",
      "  σ_L[2,0]      0.04      0.02      0.04      0.02      0.07  23060.01      1.00\n",
      "  σ_L[3,0]      0.04      0.02      0.04      0.02      0.07  23701.60      1.00\n",
      "  σ_L[4,0]      0.02      0.01      0.02      0.01      0.04  18604.25      1.00\n",
      "  σ_L[5,0]      0.03      0.01      0.03      0.01      0.05  19593.74      1.00\n",
      "  σ_L[6,0]      0.03      0.01      0.03      0.01      0.06   2419.19      1.00\n",
      "  σ_L[7,0]      0.02      0.01      0.02      0.01      0.04  17221.86      1.00\n",
      "  σ_a[0,0]     56.36     20.19     52.26     24.82     97.72  15160.37      1.00\n",
      "  σ_a[1,0]     91.08     22.88     88.10     51.33    136.48  25164.52      1.00\n",
      "  σ_a[2,0]     78.84     22.39     75.62     41.04    123.62  24277.82      1.00\n",
      "  σ_a[3,0]     72.66     22.27     69.28     34.92    116.80  22947.91      1.00\n",
      "  σ_a[4,0]     23.98     17.24     18.40      4.40     59.52  11877.15      1.00\n",
      "  σ_a[5,0]     55.51     21.27     51.19     22.80     98.58  21058.71      1.00\n",
      "  σ_a[6,0]     61.55     21.81     57.70     26.24    104.89  21373.89      1.00\n",
      "  σ_a[7,0]     33.82     19.12     28.47      9.28     73.63  13903.26      1.00\n",
      "  σ_b[0,0]      0.03      0.03      0.02      0.00      0.08   5818.34      1.00\n",
      "  σ_b[1,0]      0.04      0.03      0.03      0.01      0.09   7184.62      1.00\n",
      "  σ_b[2,0]      0.01      0.01      0.01      0.00      0.03   8181.72      1.00\n",
      "  σ_b[3,0]      0.10      0.04      0.09      0.02      0.19  10492.46      1.00\n",
      "  σ_b[4,0]      0.03      0.02      0.03      0.01      0.07   9115.55      1.00\n",
      "  σ_b[5,0]      0.07      0.03      0.07      0.02      0.14  14417.13      1.00\n",
      "  σ_b[6,0]      0.13      0.05      0.13      0.04      0.24   8797.06      1.00\n",
      "  σ_b[7,0]      0.08      0.03      0.07      0.03      0.14  17123.16      1.00\n",
      "  σ_v[0,0]     10.49      6.51      9.66      0.01     22.55   3862.56      1.00\n",
      "  σ_v[1,0]      3.72      3.57      2.62      0.00     10.91   5001.55      1.00\n",
      "  σ_v[2,0]      1.17      1.18      0.84      0.00      3.28   6242.40      1.00\n",
      "  σ_v[3,0]     14.13      5.93     13.39      3.80     25.79   9735.63      1.00\n",
      "  σ_v[4,0]      2.62      2.78      1.73      0.00      8.21   5470.86      1.00\n",
      "  σ_v[5,0]      8.52      5.19      7.50      0.92     18.55   9100.41      1.00\n",
      "  σ_v[6,0]     13.44      5.44     12.77      3.88     24.09   9472.92      1.00\n",
      "  σ_v[7,0]      7.04      4.83      5.82      0.51     16.88  10878.33      1.00\n",
      "\n",
      "Number of divergences: 164\n"
     ]
    }
   ],
   "source": [
    "mcmc.print_summary(prob=.95)\n"
   ]
  },
  {
   "cell_type": "code",
   "execution_count": 8,
   "metadata": {},
   "outputs": [
    {
     "name": "stderr",
     "output_type": "stream",
     "text": [
      "2023-08-09 13:23:19,676 - hbmep.model.baseline - INFO - Generating predictions ...\n",
      "2023-08-09 13:24:05,225 - hbmep.utils.utils - INFO - func:predict took: 45.54 sec\n",
      "2023-08-09 13:24:05,436 - hbmep.model.baseline - INFO - Rendering recruitment curves ...\n",
      "2023-08-09 13:24:27,017 - hbmep.model.baseline - INFO - Saved to /home/vishu/repos/hbmep-paper/reports/J_RCML_000/fcr/recruitment_curves.pdf\n",
      "2023-08-09 13:24:27,017 - hbmep.utils.utils - INFO - func:render_recruitment_curves took: 1 min and 7.34 sec\n"
     ]
    }
   ],
   "source": [
    "model.render_recruitment_curves(df=df, encoder_dict=encoder_dict, posterior_samples=posterior_samples)\n",
    "\n"
   ]
  },
  {
   "cell_type": "code",
   "execution_count": 9,
   "metadata": {},
   "outputs": [
    {
     "name": "stderr",
     "output_type": "stream",
     "text": [
      "2023-08-09 13:24:27,150 - hbmep.model.baseline - INFO - Generating predictions ...\n"
     ]
    },
    {
     "name": "stderr",
     "output_type": "stream",
     "text": [
      "2023-08-09 13:25:13,654 - hbmep.utils.utils - INFO - func:predict took: 46.49 sec\n",
      "2023-08-09 13:25:14,062 - hbmep.model.baseline - INFO - Rendering Posterior Predictive Check ...\n",
      "2023-08-09 13:25:38,053 - hbmep.model.baseline - INFO - Saved to /home/vishu/repos/hbmep-paper/reports/J_RCML_000/fcr/posterior_predictive_check.pdf\n",
      "2023-08-09 13:25:38,056 - hbmep.utils.utils - INFO - func:render_predictive_check took: 1 min and 10.91 sec\n"
     ]
    }
   ],
   "source": [
    "model.render_predictive_check(df=df, encoder_dict=encoder_dict, posterior_samples=posterior_samples)\n"
   ]
  },
  {
   "cell_type": "code",
   "execution_count": 10,
   "metadata": {},
   "outputs": [
    {
     "name": "stderr",
     "output_type": "stream",
     "text": [
      "2023-08-09 13:25:38,179 - hbmep.model.baseline - INFO - Saving inference data ...\n"
     ]
    },
    {
     "name": "stderr",
     "output_type": "stream",
     "text": [
      "2023-08-09 13:26:09,013 - hbmep.model.baseline - INFO - Saved to /home/vishu/repos/hbmep-paper/reports/J_RCML_000/fcr/mcmc.nc\n",
      "2023-08-09 13:26:09,014 - hbmep.model.baseline - INFO - Rendering convergence diagnostics ...\n",
      "2023-08-09 13:26:45,057 - hbmep.model.baseline - INFO - Saved to /home/vishu/repos/hbmep-paper/reports/J_RCML_000/fcr/diagnostics.csv\n",
      "2023-08-09 13:26:45,057 - hbmep.model.baseline - INFO - Evaluating model ...\n",
      "/home/vishu/repos/hbmep-paper/.venv/lib/python3.11/site-packages/arviz/stats/stats.py:1037: RuntimeWarning: overflow encountered in exp\n",
      "  weights = 1 / np.exp(len_scale - len_scale[:, None]).sum(axis=1)\n",
      "/home/vishu/repos/hbmep-paper/.venv/lib/python3.11/site-packages/arviz/stats/stats.py:803: UserWarning: Estimated shape parameter of Pareto distribution is greater than 0.7 for one or more samples. You should consider using a more robust model, this is because importance sampling is less likely to work well if the marginal posterior and LOO posterior are very different. This is more likely to happen with a non-robust model and highly influential observations.\n",
      "  warnings.warn(\n",
      "2023-08-09 13:26:50,600 - hbmep.model.baseline - INFO - ELPD LOO (Log): 2105.97\n",
      "/home/vishu/repos/hbmep-paper/.venv/lib/python3.11/site-packages/arviz/stats/stats.py:1645: UserWarning: For one or more samples the posterior variance of the log predictive densities exceeds 0.4. This could be indication of WAIC starting to fail. \n",
      "See http://arxiv.org/abs/1507.04544 for details\n",
      "  warnings.warn(\n",
      "2023-08-09 13:26:51,409 - hbmep.model.baseline - INFO - ELPD WAIC (Log): 2123.02\n",
      "2023-08-09 13:26:51,425 - hbmep.utils.utils - INFO - func:save took: 1 min and 13.25 sec\n"
     ]
    }
   ],
   "source": [
    "model.save(mcmc=mcmc)"
   ]
  },
  {
   "cell_type": "code",
   "execution_count": null,
   "metadata": {},
   "outputs": [],
   "source": []
  }
 ],
 "metadata": {
  "kernelspec": {
   "display_name": ".venv",
   "language": "python",
   "name": "python3"
  },
  "language_info": {
   "codemirror_mode": {
    "name": "ipython",
    "version": 3
   },
   "file_extension": ".py",
   "mimetype": "text/x-python",
   "name": "python",
   "nbconvert_exporter": "python",
   "pygments_lexer": "ipython3",
   "version": "3.11.4"
  },
  "orig_nbformat": 4,
  "vscode": {
   "interpreter": {
    "hash": "850bfd4e6f5ddd996dd5cd5088beecd08558625e274540230e1444ec52025b11"
   }
  }
 },
 "nbformat": 4,
 "nbformat_minor": 2
}
