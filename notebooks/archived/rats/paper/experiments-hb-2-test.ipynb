{
 "cells": [
  {
   "cell_type": "code",
   "execution_count": 1,
   "metadata": {},
   "outputs": [],
   "source": [
    "%reload_ext autoreload\n",
    "%autoreload 2\n",
    "\n",
    "import os\n",
    "from pathlib import Path\n",
    "import multiprocessing\n",
    "\n",
    "import numpy as np\n",
    "import jax\n",
    "import numpyro\n",
    "\n",
    "from hbmep.config import Config\n",
    "from hbmep.model import Model\n",
    "from hbmep.model.utils import Site as site\n",
    "\n",
    "from hbmep_paper.model import HierarchicalBayesian, MaximumLikelihood\n",
    "from hbmep_paper.utils import simulate, run_experiment\n",
    "\n",
    "PLATFORM = \"cpu\"\n",
    "jax.config.update(\"jax_platforms\", PLATFORM)\n",
    "numpyro.set_platform(PLATFORM)\n",
    "\n",
    "cpu_count = multiprocessing.cpu_count() - 2\n",
    "numpyro.set_host_device_count(cpu_count)\n",
    "numpyro.enable_x64()\n"
   ]
  },
  {
   "cell_type": "code",
   "execution_count": 2,
   "metadata": {},
   "outputs": [
    {
     "name": "stderr",
     "output_type": "stream",
     "text": [
      "2023-08-01 13:07:12,183 - hbmep.config - INFO - Verifying configuration ...\n",
      "2023-08-01 13:07:12,184 - hbmep.config - INFO - Success!\n"
     ]
    }
   ],
   "source": [
    "root_path = Path(os.getcwd()).parent.parent.parent.absolute()\n",
    "toml_path = os.path.join(root_path, \"configs/experiments.toml\")\n",
    "\n",
    "config = Config(toml_path=toml_path)\n",
    "config.BUILD_DIR = \"/home/vishu/repos/hbmep-paper/reports/hb-cp/\"\n"
   ]
  },
  {
   "cell_type": "code",
   "execution_count": 3,
   "metadata": {},
   "outputs": [],
   "source": [
    "import jax.numpy as jnp\n",
    "import numpyro.distributions as dist\n",
    "\n",
    "from hbmep.model import Baseline\n",
    "from hbmep.utils.constants import RECTIFIED_LOGISTIC\n",
    "\n",
    "\n",
    "class RectifiedLogistic(Baseline):\n",
    "    LINK = RECTIFIED_LOGISTIC\n",
    "\n",
    "    def __init__(self, config: Config):\n",
    "        super(RectifiedLogistic, self).__init__(config=config)\n",
    "\n",
    "    def _model(self, subject, features, intensity, response_obs=None):\n",
    "        intensity = intensity.reshape(-1, 1)\n",
    "        intensity = np.tile(intensity, (1, self.n_response))\n",
    "\n",
    "        feature0 = features[0].reshape(-1,)\n",
    "\n",
    "        n_data = intensity.shape[0]\n",
    "        n_subject = np.unique(subject).shape[0]\n",
    "        n_feature0 = np.unique(feature0).shape[0]\n",
    "\n",
    "        with numpyro.plate(site.n_response, self.n_response, dim=-1):\n",
    "            with numpyro.plate(site.n_subject, n_subject, dim=-2):\n",
    "                \"\"\" Hyper-priors \"\"\"\n",
    "                mu_a = numpyro.sample(\n",
    "                    site.mu_a,\n",
    "                    dist.TruncatedNormal(150, 50, low=0)\n",
    "                )\n",
    "                sigma_a = numpyro.sample(site.sigma_a, dist.HalfNormal(50))\n",
    "\n",
    "                sigma_b = numpyro.sample(site.sigma_b, dist.HalfNormal(0.1))\n",
    "\n",
    "                sigma_L = numpyro.sample(site.sigma_L, dist.HalfNormal(0.05))\n",
    "                sigma_H = numpyro.sample(site.sigma_H, dist.HalfNormal(5))\n",
    "                sigma_v = numpyro.sample(site.sigma_v, dist.HalfNormal(10))\n",
    "\n",
    "                with numpyro.plate(\"n_feature0\", n_feature0, dim=-3):\n",
    "                    \"\"\" Priors \"\"\"\n",
    "                    a = numpyro.sample(\n",
    "                        site.a,\n",
    "                        dist.TruncatedNormal(mu_a, sigma_a, low=0)\n",
    "                    )\n",
    "                    b = numpyro.sample(site.b, dist.HalfNormal(sigma_b))\n",
    "\n",
    "                    L = numpyro.sample(site.L, dist.HalfNormal(sigma_L))\n",
    "                    H = numpyro.sample(site.H, dist.HalfNormal(sigma_H))\n",
    "                    v = numpyro.sample(site.v, dist.HalfNormal(sigma_v))\n",
    "\n",
    "                    g_1 = numpyro.sample(site.g_1, dist.Exponential(0.01))\n",
    "                    g_2 = numpyro.sample(site.g_2, dist.Exponential(0.01))\n",
    "\n",
    "        with numpyro.plate(site.n_response, self.n_response, dim=-1):\n",
    "            with numpyro.plate(site.data, n_data, dim=-2):\n",
    "                \"\"\" Model \"\"\"\n",
    "                mu = numpyro.deterministic(\n",
    "                    site.mu,\n",
    "                    L[feature0, subject]\n",
    "                    + jnp.maximum(\n",
    "                        0,\n",
    "                        -1\n",
    "                        + (H[feature0, subject] + 1)\n",
    "                        / jnp.power(\n",
    "                            1\n",
    "                            + (jnp.power(1 + H[feature0, subject], v[feature0, subject]) - 1)\n",
    "                            * jnp.exp(-b[feature0, subject] * (intensity - a[feature0, subject])),\n",
    "                            1 / v[feature0, subject]\n",
    "                        )\n",
    "                    )\n",
    "                )\n",
    "                beta = numpyro.deterministic(\n",
    "                    site.beta,\n",
    "                    g_1[feature0, subject] + g_2[feature0, subject] * (1 / mu)\n",
    "                )\n",
    "\n",
    "        \"\"\" Observation \"\"\"\n",
    "        with numpyro.plate(site.data, n_data):\n",
    "            return numpyro.sample(\n",
    "                site.obs,\n",
    "                dist.Gamma(concentration=mu * beta, rate=beta).to_event(1),\n",
    "                obs=response_obs\n",
    "            )\n"
   ]
  },
  {
   "cell_type": "code",
   "execution_count": 4,
   "metadata": {},
   "outputs": [
    {
     "name": "stderr",
     "output_type": "stream",
     "text": [
      "2023-08-01 13:07:12,370 - hbmep.model.baseline - INFO - Initialized model with rectified_logistic link\n",
      "2023-08-01 13:07:12,371 - hbmep_paper.utils.utils - INFO - Simulating data ...\n"
     ]
    },
    {
     "name": "stderr",
     "output_type": "stream",
     "text": [
      "2023-08-01 13:07:15,556 - hbmep.utils.utils - INFO - func:predict took: 3.18 sec\n",
      "2023-08-01 13:07:15,557 - hbmep.utils.utils - INFO - func:simulate took: 3.19 sec\n",
      "2023-08-01 13:07:15,558 - hbmep.dataset.core - INFO - Artefacts will be stored here - /home/vishu/repos/hbmep-paper/reports/hb-cp/\n",
      "2023-08-01 13:07:15,559 - hbmep.dataset.core - INFO - Copied config to /home/vishu/repos/hbmep-paper/reports/hb-cp/\n",
      "2023-08-01 13:07:15,559 - hbmep.dataset.core - INFO - Processing data ...\n",
      "2023-08-01 13:07:15,561 - hbmep.utils.utils - INFO - func:load took: 0.00 sec\n"
     ]
    },
    {
     "name": "stdout",
     "output_type": "stream",
     "text": [
      "(2430, 4)\n"
     ]
    }
   ],
   "source": [
    "model = RectifiedLogistic(config=config)\n",
    "\n",
    "# Load data\n",
    "simulation_params = {\n",
    "    \"n_subject\": 3,\n",
    "    \"n_feature0\": 10,\n",
    "    \"n_repeats\": 10\n",
    "}\n",
    "df, posterior_samples_true = simulate(model=model, **simulation_params)\n",
    "obs = np.array(posterior_samples_true[site.obs])\n",
    "\n",
    "ind = df.compound_position.isin([0, 1, 2, 3, 4, 5, 6, 7, 8])\n",
    "df = df[ind].copy()\n",
    "df.reset_index(drop=True, inplace=True)\n",
    "obs = obs[:, ind, :]\n",
    "\n",
    "df, encoder_dict = model.load(df=df)\n",
    "\n",
    "df[model.response] = obs[-1, ...]\n",
    "\n",
    "print(df.shape)"
   ]
  },
  {
   "cell_type": "code",
   "execution_count": 5,
   "metadata": {},
   "outputs": [
    {
     "name": "stderr",
     "output_type": "stream",
     "text": [
      "2023-08-01 13:07:15,618 - hbmep.model.baseline - INFO - Running inference with rectified_logistic ...\n"
     ]
    },
    {
     "data": {
      "application/vnd.jupyter.widget-view+json": {
       "model_id": "63de1fa65747427c98c681e02323e17a",
       "version_major": 2,
       "version_minor": 0
      },
      "text/plain": [
       "  0%|          | 0/10000 [00:00<?, ?it/s]"
      ]
     },
     "metadata": {},
     "output_type": "display_data"
    },
    {
     "data": {
      "application/vnd.jupyter.widget-view+json": {
       "model_id": "5189a6614f6e47a1afae42409a3c2a7f",
       "version_major": 2,
       "version_minor": 0
      },
      "text/plain": [
       "  0%|          | 0/10000 [00:00<?, ?it/s]"
      ]
     },
     "metadata": {},
     "output_type": "display_data"
    },
    {
     "data": {
      "application/vnd.jupyter.widget-view+json": {
       "model_id": "8065b8748e3c460888deeab60b0fa0d4",
       "version_major": 2,
       "version_minor": 0
      },
      "text/plain": [
       "  0%|          | 0/10000 [00:00<?, ?it/s]"
      ]
     },
     "metadata": {},
     "output_type": "display_data"
    },
    {
     "data": {
      "application/vnd.jupyter.widget-view+json": {
       "model_id": "99ebb20c20274bd182aafede3dc7178b",
       "version_major": 2,
       "version_minor": 0
      },
      "text/plain": [
       "  0%|          | 0/10000 [00:00<?, ?it/s]"
      ]
     },
     "metadata": {},
     "output_type": "display_data"
    },
    {
     "name": "stderr",
     "output_type": "stream",
     "text": [
      "2023-08-01 13:43:13,332 - hbmep.utils.utils - INFO - func:run_inference took: 35 min and 57.71 sec\n"
     ]
    }
   ],
   "source": [
    "mcmc, posterior_samples = model.run_inference(df=df)"
   ]
  },
  {
   "cell_type": "code",
   "execution_count": 7,
   "metadata": {},
   "outputs": [
    {
     "name": "stdout",
     "output_type": "stream",
     "text": [
      "\n",
      "                mean       std    median      2.5%     97.5%     n_eff     r_hat\n",
      "  H[0,0,0]      1.46      1.06      1.19      0.16      3.54  15859.33      1.00\n",
      "  H[0,1,0]      1.72      0.05      1.72      1.62      1.83  19323.58      1.00\n",
      "  H[0,2,0]      2.39      3.38      1.10      0.00      9.18   7360.66      1.00\n",
      "  H[1,0,0]      0.79      0.02      0.79      0.75      0.84  26480.45      1.00\n",
      "  H[1,1,0]      1.05      0.02      1.05      1.01      1.08  24409.16      1.00\n",
      "  H[1,2,0]      2.34      3.35      1.06      0.00      9.02   6798.68      1.00\n",
      "  H[2,0,0]      0.33      0.01      0.33      0.31      0.34  24222.87      1.00\n",
      "  H[2,1,0]      3.55      1.63      3.03      2.33      6.51   3989.68      1.00\n",
      "  H[2,2,0]      2.63      3.41      1.39      0.02      9.31   6866.62      1.00\n",
      "  H[3,0,0]      0.34      0.01      0.34      0.33      0.36  15436.37      1.00\n",
      "  H[3,1,0]      1.12      0.02      1.12      1.08      1.15  20063.45      1.00\n",
      "  H[3,2,0]      2.40      3.34      1.13      0.00      9.23   6663.68      1.00\n",
      "  H[4,0,0]      1.32      0.02      1.32      1.28      1.36  21413.51      1.00\n",
      "  H[4,1,0]      1.57      0.05      1.56      1.47      1.67  10175.87      1.00\n",
      "  H[4,2,0]      2.63      3.37      1.38      0.00      9.19   7417.54      1.00\n",
      "  H[5,0,0]      1.17      1.04      0.82      0.24      3.21   9325.96      1.00\n",
      "  H[5,1,0]      3.84      0.05      3.84      3.74      3.94  23866.47      1.00\n",
      "  H[5,2,0]      2.31      3.40      0.99      0.01      9.08   6904.95      1.00\n",
      "  H[6,0,0]      2.54      0.28      2.47      2.20      3.04   3445.14      1.00\n",
      "  H[6,1,0]      4.21      2.74      3.49      0.95      9.47  14616.73      1.00\n",
      "  H[6,2,0]      2.26      3.18      0.95      0.10      8.70   6870.78      1.00\n",
      "  H[7,0,0]      1.02      0.03      1.02      0.97      1.08  20781.86      1.00\n",
      "  H[7,1,0]      3.85      0.04      3.85      3.78      3.92  20604.49      1.00\n",
      "  H[7,2,0]      2.83      3.38      1.61      0.10      9.57   6402.81      1.00\n",
      "  H[8,0,0]      1.13      0.65      0.92      0.75      2.29   2679.54      1.00\n",
      "  H[8,1,0]      8.82      0.16      8.81      8.54      9.15  10110.36      1.00\n",
      "  H[8,2,0]      2.43      3.32      1.17      0.02      9.15   7510.40      1.00\n",
      "  L[0,0,0]      0.01      0.00      0.01      0.01      0.01  27391.80      1.00\n",
      "  L[0,1,0]      0.00      0.00      0.00      0.00      0.00  25800.05      1.00\n",
      "  L[0,2,0]      0.02      0.00      0.02      0.02      0.02  18753.57      1.00\n",
      "  L[1,0,0]      0.09      0.00      0.09      0.09      0.09  25949.82      1.00\n",
      "  L[1,1,0]      0.05      0.00      0.05      0.05      0.05  27263.30      1.00\n",
      "  L[1,2,0]      0.01      0.00      0.01      0.01      0.01  20047.84      1.00\n",
      "  L[2,0,0]      0.14      0.00      0.14      0.14      0.14  24367.92      1.00\n",
      "  L[2,1,0]      0.01      0.00      0.01      0.01      0.01  27196.89      1.00\n",
      "  L[2,2,0]      0.04      0.00      0.04      0.03      0.04  21057.74      1.00\n",
      "  L[3,0,0]      0.02      0.00      0.02      0.02      0.02  26841.44      1.00\n",
      "  L[3,1,0]      0.03      0.00      0.03      0.03      0.03  26278.05      1.00\n",
      "  L[3,2,0]      0.04      0.00      0.04      0.04      0.04  10565.68      1.00\n",
      "  L[4,0,0]      0.03      0.00      0.03      0.03      0.03  27758.54      1.00\n",
      "  L[4,1,0]      0.00      0.00      0.00      0.00      0.00  24307.08      1.00\n",
      "  L[4,2,0]      0.00      0.00      0.00      0.00      0.00  28548.37      1.00\n",
      "  L[5,0,0]      0.06      0.00      0.06      0.06      0.06  25940.72      1.00\n",
      "  L[5,1,0]      0.03      0.00      0.03      0.03      0.03  25767.39      1.00\n",
      "  L[5,2,0]      0.01      0.00      0.01      0.01      0.01  20814.25      1.00\n",
      "  L[6,0,0]      0.03      0.00      0.03      0.03      0.03  27505.32      1.00\n",
      "  L[6,1,0]      0.04      0.00      0.04      0.04      0.04  27655.31      1.00\n",
      "  L[6,2,0]      0.01      0.00      0.01      0.01      0.01  25501.03      1.00\n",
      "  L[7,0,0]      0.02      0.00      0.02      0.02      0.02  23468.90      1.00\n",
      "  L[7,1,0]      0.00      0.00      0.00      0.00      0.00  28201.85      1.00\n",
      "  L[7,2,0]      0.01      0.00      0.01      0.00      0.01  24985.00      1.00\n",
      "  L[8,0,0]      0.03      0.00      0.03      0.03      0.04  27031.49      1.00\n",
      "  L[8,1,0]      0.01      0.00      0.01      0.01      0.01  27078.42      1.00\n",
      "  L[8,2,0]      0.01      0.00      0.01      0.01      0.01  22902.77      1.00\n",
      "  a[0,0,0]    195.07      0.99    195.06    193.15    197.08  25924.99      1.00\n",
      "  a[0,1,0]    236.72      0.47    236.67    235.98    237.59  15872.55      1.00\n",
      "  a[0,2,0]    323.96     78.93    337.28    165.75    474.86   3272.64      1.00\n",
      "  a[1,0,0]    217.21      0.89    217.27    215.48    218.78  18459.83      1.00\n",
      "  a[1,1,0]    232.77      0.56    232.74    231.84    233.79  15608.11      1.00\n",
      "  a[1,2,0]    327.46     56.14    334.19    190.65    442.20   4601.29      1.00\n",
      "  a[2,0,0]    230.74      0.64    230.87    229.47    231.71  12343.35      1.00\n",
      "  a[2,1,0]    229.92      0.32    229.94    229.30    230.54  29259.12      1.00\n",
      "  a[2,2,0]    287.46     20.12    291.41    238.26    317.98   7294.09      1.00\n",
      "  a[3,0,0]    206.95      0.38    206.96    206.19    207.66  28796.72      1.00\n",
      "  a[3,1,0]    237.42      0.43    237.45    236.57    238.23  18922.22      1.00\n",
      "  a[3,2,0]    301.66     81.10    330.63    114.03    428.34   4016.47      1.00\n",
      "  a[4,0,0]    245.36      0.49    245.39    244.37    246.28  11427.67      1.00\n",
      "  a[4,1,0]    232.36      0.37    232.33    231.83    233.04   5456.88      1.00\n",
      "  a[4,2,0]    338.49     19.03    341.93    326.01    348.71    106.40      1.03\n",
      "  a[5,0,0]    256.62      2.15    256.73    252.50    260.54  12902.96      1.00\n",
      "  a[5,1,0]    240.28      0.24    240.24    239.93    240.76  13267.14      1.00\n",
      "  a[5,2,0]    163.75      9.05    163.48    147.03    181.34  16121.29      1.00\n",
      "  a[6,0,0]    208.58      0.44    208.55    207.80    209.46  22568.50      1.00\n",
      "  a[6,1,0]    231.94      0.38    231.93    231.20    232.71  31812.55      1.00\n",
      "  a[6,2,0]    195.43      1.48    195.34    192.65    198.36  10123.14      1.00\n",
      "  a[7,0,0]    211.39      1.60    211.57    208.15    214.71   6587.99      1.00\n",
      "  a[7,1,0]    240.75      0.39    240.74    240.00    241.41  14427.05      1.00\n",
      "  a[7,2,0]    252.24      2.22    252.35    247.66    256.21  19089.49      1.00\n",
      "  a[8,0,0]    235.31      0.92    235.31    233.50    237.18  21061.74      1.00\n",
      "  a[8,1,0]    231.66      0.25    231.68    231.13    232.14  28787.29      1.00\n",
      "  a[8,2,0]    265.35      4.87    265.89    254.78    273.85  15420.03      1.00\n",
      "  b[0,0,0]      0.01      0.01      0.01      0.00      0.03  10257.35      1.00\n",
      "  b[0,1,0]      0.17      0.07      0.15      0.06      0.31  10310.48      1.00\n",
      "  b[0,2,0]      0.00      0.00      0.00      0.00      0.01   7120.70      1.00\n",
      "  b[1,0,0]      0.31      0.12      0.29      0.11      0.54  10996.53      1.00\n",
      "  b[1,1,0]      0.24      0.06      0.23      0.15      0.35  11726.11      1.00\n",
      "  b[1,2,0]      0.00      0.00      0.00      0.00      0.01   7665.76      1.00\n",
      "  b[2,0,0]      0.34      0.10      0.32      0.19      0.53  13114.16      1.00\n",
      "  b[2,1,0]      0.10      0.05      0.09      0.02      0.20  10084.28      1.00\n",
      "  b[2,2,0]      0.00      0.00      0.00      0.00      0.01   4968.07      1.00\n",
      "  b[3,0,0]      0.09      0.03      0.09      0.05      0.15   8831.60      1.00\n",
      "  b[3,1,0]      0.15      0.04      0.14      0.09      0.23   8589.56      1.00\n",
      "  b[3,2,0]      0.00      0.00      0.00      0.00      0.01   6314.28      1.00\n",
      "  b[4,0,0]      0.21      0.06      0.20      0.10      0.33   9840.96      1.00\n",
      "  b[4,1,0]      0.10      0.03      0.09      0.05      0.16   7499.73      1.00\n",
      "  b[4,2,0]      0.00      0.00      0.00      0.00      0.01   3995.27      1.00\n",
      "  b[5,0,0]      0.05      0.03      0.04      0.00      0.11  10133.31      1.00\n",
      "  b[5,1,0]      0.29      0.07      0.28      0.17      0.43   9031.56      1.00\n",
      "  b[5,2,0]      0.00      0.00      0.00      0.00      0.00   7016.11      1.00\n",
      "  b[6,0,0]      0.14      0.08      0.12      0.02      0.29   9443.79      1.00\n",
      "  b[6,1,0]      0.05      0.03      0.04      0.01      0.11  10258.54      1.00\n",
      "  b[6,2,0]      0.00      0.00      0.00      0.00      0.01   4769.97      1.00\n",
      "  b[7,0,0]      0.16      0.08      0.14      0.05      0.31  10363.86      1.00\n",
      "  b[7,1,0]      0.19      0.03      0.19      0.13      0.26  11071.42      1.00\n",
      "  b[7,2,0]      0.01      0.00      0.00      0.00      0.01   4301.86      1.00\n",
      "  b[8,0,0]      0.12      0.06      0.11      0.01      0.24   8652.83      1.00\n",
      "  b[8,1,0]      0.17      0.03      0.16      0.11      0.24   8314.51      1.00\n",
      "  b[8,2,0]      0.00      0.00      0.00      0.00      0.01   5168.05      1.00\n",
      "g_1[0,0,0]     95.97     93.78     67.60      0.00    284.98  30158.80      1.00\n",
      "g_1[0,1,0]     20.84     11.14     19.62      0.17     40.92  20235.57      1.00\n",
      "g_1[0,2,0]    101.93     96.94     72.43      0.00    301.04   9510.99      1.00\n",
      "g_1[1,0,0]     14.91     11.54     12.43      0.00     37.26  17751.72      1.00\n",
      "g_1[1,1,0]     56.38     37.36     50.63      0.00    125.97  19886.59      1.00\n",
      "g_1[1,2,0]     99.77     98.36     70.21      0.01    295.27  30142.63      1.00\n",
      "g_1[2,0,0]    158.98    116.20    136.66      0.08    382.66  13030.04      1.00\n",
      "g_1[2,1,0]     16.15     13.09     13.10      0.00     41.66  20810.69      1.00\n",
      "g_1[2,2,0]     52.84     48.98     38.56      0.00    152.69   7646.04      1.00\n",
      "g_1[3,0,0]     91.08     81.20     67.70      0.00    253.67  28909.96      1.00\n",
      "g_1[3,1,0]    124.17     64.44    117.48      5.13    243.46  18593.39      1.00\n",
      "g_1[3,2,0]    104.57    105.79     71.67      0.00    318.74  22851.62      1.00\n",
      "g_1[4,0,0]     38.86     33.02     30.31      0.01    103.97  26958.74      1.00\n",
      "g_1[4,1,0]     99.29     48.99     94.72      5.09    190.08  19558.02      1.00\n",
      "g_1[4,2,0]     98.58     94.88     70.29      0.00    290.82   8567.59      1.00\n",
      "g_1[5,0,0]     56.12     52.71     40.88      0.00    162.45  23342.79      1.00\n",
      "g_1[5,1,0]     30.29     20.07     27.23      0.00     67.81  19385.95      1.00\n",
      "g_1[5,2,0]    100.65     99.64     70.11      0.00    300.91  31425.09      1.00\n",
      "g_1[6,0,0]     30.23     21.77     26.22      0.00     71.67  19626.85      1.00\n",
      "g_1[6,1,0]    156.81    118.09    131.84      0.01    384.44  21489.11      1.00\n",
      "g_1[6,2,0]    101.47    100.54     70.61      0.00    304.24  28729.77      1.00\n",
      "g_1[7,0,0]     74.06     18.49     73.03     40.03    111.33  14310.19      1.00\n",
      "g_1[7,1,0]    126.38     42.99    122.57     47.21    211.36  22439.45      1.00\n",
      "g_1[7,2,0]     54.74     44.39     44.08      0.00    141.87  22738.19      1.00\n",
      "g_1[8,0,0]     74.77     45.40     68.53      0.00    157.99  11103.74      1.00\n",
      "g_1[8,1,0]    250.89     67.76    244.71    125.06    385.37  19364.62      1.00\n",
      "g_1[8,2,0]    109.00    109.04     75.91      0.00    324.19  27861.95      1.00\n",
      "g_2[0,0,0]    187.00     28.89    185.74    130.53    242.43  26440.31      1.00\n",
      "g_2[0,1,0]     31.08      5.48     30.83     20.70     42.05  24073.08      1.00\n",
      "g_2[0,2,0]     10.17      2.35     10.29      5.25     14.63  11801.87      1.00\n",
      "g_2[1,0,0]     37.13      6.90     36.94     23.90     50.71  19953.99      1.00\n",
      "g_2[1,1,0]    108.65     20.09    107.81     71.39    149.24  20685.79      1.00\n",
      "g_2[1,2,0]     55.52      8.50     55.14     39.75     72.69  27400.60      1.00\n",
      "g_2[2,0,0]    118.67     32.60    119.46     53.36    181.36  14386.85      1.00\n",
      "g_2[2,1,0]     80.49     13.07     79.91     55.61    106.46  25272.90      1.00\n",
      "g_2[2,2,0]      9.22      2.47      9.42      3.85     13.71   8860.24      1.00\n",
      "g_2[3,0,0]    193.48     31.30    192.18    133.79    255.60  24798.24      1.00\n",
      "g_2[3,1,0]    108.85     20.46    107.90     69.65    148.67  20440.98      1.00\n",
      "g_2[3,2,0]     95.16     15.55     94.52     65.15    125.67  24587.13      1.00\n",
      "g_2[4,0,0]    197.21     32.48    195.77    137.51    264.06  25402.33      1.00\n",
      "g_2[4,1,0]     82.89     14.94     82.08     55.32    113.30  21828.28      1.00\n",
      "g_2[4,2,0]      2.90      0.63      2.93      1.59      4.11  10574.15      1.00\n",
      "g_2[5,0,0]     84.12     14.12     83.60     57.16    112.61  22975.38      1.00\n",
      "g_2[5,1,0]    182.05     31.17    180.57    121.12    241.73  23385.10      1.00\n",
      "g_2[5,2,0]    159.14     23.81    157.98    112.76    205.65  26042.58      1.00\n",
      "g_2[6,0,0]     99.23     17.15     98.46     66.68    133.12  22489.05      1.00\n",
      "g_2[6,1,0]    223.11     39.35    221.60    146.65    299.44  24009.31      1.00\n",
      "g_2[6,2,0]    109.04     16.99    108.17     76.86    143.38  27297.71      1.00\n",
      "g_2[7,0,0]      1.46      0.68      1.43      0.11      2.70  13996.84      1.00\n",
      "g_2[7,1,0]    104.91     18.76    103.91     69.78    141.77  25063.94      1.00\n",
      "g_2[7,2,0]     10.59      1.79     10.53      7.13     14.10  23095.36      1.00\n",
      "g_2[8,0,0]     41.23      8.08     40.88     26.00     57.49  19423.20      1.00\n",
      "g_2[8,1,0]      8.92      2.11      8.80      4.80     13.00  23801.06      1.00\n",
      "g_2[8,2,0]     64.45     10.13     63.95     45.09     84.27  23198.96      1.00\n",
      "  v[0,0,0]     21.68     12.64     19.33      1.99     46.11  10245.16      1.00\n",
      "  v[0,1,0]      6.46      3.03      5.88      1.57     12.62  10067.71      1.00\n",
      "  v[0,2,0]      9.58     10.28      6.25      0.00     30.25   6091.86      1.00\n",
      "  v[1,0,0]      8.80      4.45      8.31      0.47     17.16  10016.56      1.00\n",
      "  v[1,1,0]      1.59      1.24      1.30      0.06      3.99   9866.81      1.00\n",
      "  v[1,2,0]     10.15     10.47      6.88      0.00     31.05   5438.93      1.00\n",
      "  v[2,0,0]      5.29      4.29      4.25      0.07     13.70  10891.24      1.00\n",
      "  v[2,1,0]      8.57      4.26      7.84      1.63     16.93  10122.66      1.00\n",
      "  v[2,2,0]      6.20      6.77      4.07      0.00     19.57   4985.05      1.00\n",
      "  v[3,0,0]     25.34      8.00     23.97     12.24     41.25   8817.30      1.00\n",
      "  v[3,1,0]      6.38      2.13      6.05      2.65     10.53   8509.51      1.00\n",
      "  v[3,2,0]      9.59     10.11      6.34      0.00     29.59   5519.76      1.00\n",
      "  v[4,0,0]      3.90      2.00      3.63      0.31      7.68   9391.73      1.00\n",
      "  v[4,1,0]      7.80      2.58      7.37      3.56     12.91   7335.97      1.00\n",
      "  v[4,2,0]      5.79      6.82      3.54      0.00     19.18   4114.69      1.00\n",
      "  v[5,0,0]     18.19     12.49     15.82      0.01     42.29   9684.90      1.00\n",
      "  v[5,1,0]      4.63      1.29      4.44      2.41      7.24   8981.07      1.00\n",
      "  v[5,2,0]     11.21     11.21      7.93      0.00     33.51   4617.43      1.00\n",
      "  v[6,0,0]     14.10      8.11     12.44      1.99     30.23   9456.60      1.00\n",
      "  v[6,1,0]      8.98      5.63      7.85      0.72     19.92  10211.58      1.00\n",
      "  v[6,2,0]      5.97      6.73      3.76      0.00     19.37   4423.25      1.00\n",
      "  v[7,0,0]     12.84      6.72     11.53      2.32     26.39   9708.52      1.00\n",
      "  v[7,1,0]      2.25      0.63      2.20      1.04      3.48  10873.25      1.00\n",
      "  v[7,2,0]      4.68      5.22      3.02      0.00     15.03   4223.36      1.00\n",
      "  v[8,0,0]     19.86     10.57     18.43      2.06     40.13   8795.91      1.00\n",
      "  v[8,1,0]      7.63      1.60      7.41      4.85     10.81   8333.26      1.00\n",
      "  v[8,2,0]      9.70      9.63      6.89      0.00     28.88   4292.35      1.00\n",
      "  µ_a[0,0]    221.09      8.40    221.33    203.83    237.36  14968.20      1.00\n",
      "  µ_a[1,0]    234.78      1.69    234.78    231.45    238.17  16454.08      1.00\n",
      "  µ_a[2,0]    245.80     28.27    247.79    186.52    297.41   5874.99      1.00\n",
      "  σ_H[0,0]      1.58      0.58      1.45      0.74      2.69   9529.07      1.00\n",
      "  σ_H[1,0]      4.50      1.21      4.30      2.48      6.85  15647.72      1.00\n",
      "  σ_H[2,0]      3.18      2.78      2.34      0.10      8.73   3957.61      1.00\n",
      "  σ_L[0,0]      0.06      0.01      0.06      0.04      0.09  23870.74      1.00\n",
      "  σ_L[1,0]      0.03      0.01      0.03      0.02      0.05  20752.43      1.00\n",
      "  σ_L[2,0]      0.02      0.01      0.02      0.01      0.04  18605.92      1.00\n",
      "  σ_a[0,0]     23.76      7.10     22.38     12.88     37.84  14802.09      1.00\n",
      "  σ_a[1,0]      4.82      1.57      4.50      2.56      7.88  12094.95      1.00\n",
      "  σ_a[2,0]     76.37     22.13     72.62     39.30    121.27   8217.04      1.00\n",
      "  σ_b[0,0]      0.18      0.04      0.18      0.10      0.27  11590.89      1.00\n",
      "  σ_b[1,0]      0.17      0.04      0.17      0.10      0.24  14046.36      1.00\n",
      "  σ_b[2,0]      0.00      0.00      0.00      0.00      0.01   3840.60      1.00\n",
      "  σ_v[0,0]     16.59      4.75     16.02      8.17     26.06   8404.69      1.00\n",
      "  σ_v[1,0]      7.73      2.58      7.26      3.55     12.80  11058.30      1.00\n",
      "  σ_v[2,0]      9.78      6.61      8.71      0.00     22.04   2913.18      1.00\n",
      "\n",
      "Number of divergences: 1294\n"
     ]
    }
   ],
   "source": [
    "mcmc.print_summary(prob=.95)"
   ]
  },
  {
   "cell_type": "code",
   "execution_count": null,
   "metadata": {},
   "outputs": [
    {
     "name": "stderr",
     "output_type": "stream",
     "text": [
      "2023-08-01 12:20:06,025 - hbmep.model.baseline - INFO - Generating predictions ...\n"
     ]
    },
    {
     "name": "stderr",
     "output_type": "stream",
     "text": [
      "2023-08-01 12:20:22,094 - hbmep.utils.utils - INFO - func:predict took: 16.06 sec\n",
      "2023-08-01 12:20:22,153 - hbmep.model.baseline - INFO - Rendering recruitment curves ...\n",
      "2023-08-01 12:20:27,405 - hbmep.model.baseline - INFO - Saved to /home/vishu/repos/hbmep-paper/reports/hb-cp/recruitment_curves.pdf\n",
      "2023-08-01 12:20:27,405 - hbmep.utils.utils - INFO - func:render_recruitment_curves took: 21.38 sec\n"
     ]
    }
   ],
   "source": [
    "model.render_recruitment_curves(df=df, encoder_dict=encoder_dict, posterior_samples=posterior_samples)\n"
   ]
  },
  {
   "cell_type": "code",
   "execution_count": null,
   "metadata": {},
   "outputs": [
    {
     "name": "stderr",
     "output_type": "stream",
     "text": [
      "2023-08-01 12:20:27,429 - hbmep.model.baseline - INFO - Generating predictions ...\n",
      "2023-08-01 12:20:43,380 - hbmep.utils.utils - INFO - func:predict took: 15.95 sec\n",
      "2023-08-01 12:20:43,480 - hbmep.model.baseline - INFO - Rendering Posterior Predictive Check ...\n",
      "2023-08-01 12:20:53,592 - hbmep.model.baseline - INFO - Saved to /home/vishu/repos/hbmep-paper/reports/hb-cp/posterior_predictive_check.pdf\n",
      "2023-08-01 12:20:53,594 - hbmep.utils.utils - INFO - func:render_predictive_check took: 26.16 sec\n"
     ]
    }
   ],
   "source": [
    "model.render_predictive_check(df=df, encoder_dict=encoder_dict, posterior_samples=posterior_samples)\n"
   ]
  },
  {
   "cell_type": "code",
   "execution_count": null,
   "metadata": {},
   "outputs": [],
   "source": [
    "combinations = model._make_combinations(df=df, columns=model.combination_columns)\n",
    "combinations = [[slice(None)] + list(c) for c in combinations]\n",
    "combinations = [tuple(c[::-1]) for c in combinations]"
   ]
  },
  {
   "cell_type": "code",
   "execution_count": null,
   "metadata": {},
   "outputs": [
    {
     "data": {
      "text/plain": [
       "(10, 10, 3, 1)"
      ]
     },
     "execution_count": 16,
     "metadata": {},
     "output_type": "execute_result"
    }
   ],
   "source": [
    "posterior_samples_true[site.a].shape"
   ]
  },
  {
   "cell_type": "code",
   "execution_count": null,
   "metadata": {},
   "outputs": [
    {
     "data": {
      "text/plain": [
       "(10, 10, 3, 1)"
      ]
     },
     "execution_count": 17,
     "metadata": {},
     "output_type": "execute_result"
    }
   ],
   "source": [
    "a_true = np.array(posterior_samples_true[site.a]) \n",
    "\n",
    "a_true.shape"
   ]
  },
  {
   "cell_type": "code",
   "execution_count": null,
   "metadata": {},
   "outputs": [],
   "source": [
    "a_true = a_true[9, :, 2, 0]"
   ]
  },
  {
   "cell_type": "code",
   "execution_count": null,
   "metadata": {},
   "outputs": [
    {
     "data": {
      "text/plain": [
       "(10,)"
      ]
     },
     "execution_count": 20,
     "metadata": {},
     "output_type": "execute_result"
    }
   ],
   "source": [
    "a_true.shape"
   ]
  },
  {
   "cell_type": "code",
   "execution_count": null,
   "metadata": {},
   "outputs": [],
   "source": [
    "a_true = np.array(posterior_samples_true[site.a])       # n_repeats x ... x n_muscles\n",
    "a_true = a_true[9, ...]      # ... x n_muscles\n",
    "a_true = np.array([a_true[c] for c in combinations])    # n_combinations x n_muscles\n",
    "a_true = a_true.reshape(-1, )\n",
    "\n",
    "a = np.array(posterior_samples[site.a])     # n_posterior_samples x ... x n_muscles\n",
    "a = a.mean(axis=0)      # ... x n_muscles\n",
    "a = np.array([a[c] for c in combinations])      # n_combinations x n_muscles\n",
    "a = a.reshape(-1, )"
   ]
  },
  {
   "cell_type": "code",
   "execution_count": null,
   "metadata": {},
   "outputs": [
    {
     "data": {
      "text/plain": [
       "array([275.42469838, 340.28460268, 262.262484  , 323.92206672,\n",
       "       344.05620336, 172.30172065, 195.74205704, 251.44240172,\n",
       "       271.29628746, 344.83168449])"
      ]
     },
     "execution_count": 22,
     "metadata": {},
     "output_type": "execute_result"
    }
   ],
   "source": [
    "a_true"
   ]
  },
  {
   "cell_type": "code",
   "execution_count": null,
   "metadata": {},
   "outputs": [
    {
     "data": {
      "text/plain": [
       "array([330.58424049, 332.24919439, 287.82485427, 312.69409475,\n",
       "       340.68593192, 163.95536421, 195.46873313, 252.2635708 ,\n",
       "       265.39433827, 334.82226092])"
      ]
     },
     "execution_count": 23,
     "metadata": {},
     "output_type": "execute_result"
    }
   ],
   "source": [
    "a"
   ]
  }
 ],
 "metadata": {
  "kernelspec": {
   "display_name": ".venv",
   "language": "python",
   "name": "python3"
  },
  "language_info": {
   "codemirror_mode": {
    "name": "ipython",
    "version": 3
   },
   "file_extension": ".py",
   "mimetype": "text/x-python",
   "name": "python",
   "nbconvert_exporter": "python",
   "pygments_lexer": "ipython3",
   "version": "3.11.4"
  },
  "orig_nbformat": 4,
  "vscode": {
   "interpreter": {
    "hash": "850bfd4e6f5ddd996dd5cd5088beecd08558625e274540230e1444ec52025b11"
   }
  }
 },
 "nbformat": 4,
 "nbformat_minor": 2
}
