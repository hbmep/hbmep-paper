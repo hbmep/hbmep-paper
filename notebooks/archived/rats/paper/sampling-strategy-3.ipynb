{
 "cells": [
  {
   "cell_type": "code",
   "execution_count": 1,
   "metadata": {},
   "outputs": [],
   "source": [
    "%reload_ext autoreload\n",
    "%autoreload 2\n",
    "\n",
    "import os\n",
    "import logging\n",
    "import multiprocessing\n",
    "from pathlib import Path\n",
    "from tqdm import tqdm\n",
    "\n",
    "import arviz as az\n",
    "import matplotlib\n",
    "import matplotlib.pyplot as plt\n",
    "from matplotlib.backends.backend_pdf import PdfPages\n",
    "import seaborn as sns\n",
    "\n",
    "import numpy as np\n",
    "import jax\n",
    "import jax.numpy as jnp\n",
    "import pandas as pd\n",
    "import scipy.stats as stats\n",
    "import numpyro\n",
    "from numpyro.diagnostics import hpdi\n",
    "\n",
    "from hbmep.config import Config\n",
    "from hbmep_paper.simulator import HierarchicalBayesianModel\n",
    "from hbmep.model.utils import Site as site\n",
    "\n",
    "PLATFORM = \"cpu\"\n",
    "jax.config.update(\"jax_platforms\", PLATFORM)\n",
    "numpyro.set_platform(PLATFORM)\n",
    "\n",
    "cpu_count = multiprocessing.cpu_count() - 2\n",
    "numpyro.set_host_device_count(cpu_count)\n",
    "numpyro.enable_x64()\n",
    "numpyro.enable_validation()\n",
    "\n",
    "logger = logging.getLogger(__name__)\n"
   ]
  },
  {
   "cell_type": "code",
   "execution_count": 2,
   "metadata": {},
   "outputs": [
    {
     "name": "stderr",
     "output_type": "stream",
     "text": [
      "2023-09-14 19:16:39,414 - hbmep.config - INFO - Verifying configuration ...\n",
      "2023-09-14 19:16:39,415 - hbmep.config - INFO - Success!\n",
      "2023-09-14 19:16:39,427 - hbmep.model.baseline - INFO - Initialized model with hierarchical_bayesian link\n"
     ]
    }
   ],
   "source": [
    "root_path = Path(os.getcwd()).parent.parent.parent.absolute()\n",
    "toml_path = os.path.join(root_path, \"configs/simulation.toml\")\n",
    "\n",
    "config = Config(toml_path=toml_path)\n",
    "\n",
    "model = HierarchicalBayesianModel(config=config)\n",
    "\n"
   ]
  },
  {
   "cell_type": "code",
   "execution_count": 3,
   "metadata": {},
   "outputs": [
    {
     "name": "stderr",
     "output_type": "stream",
     "text": [
      "2023-09-14 19:16:39,462 - hbmep.model.baseline - INFO - Simulating data ...\n"
     ]
    },
    {
     "name": "stderr",
     "output_type": "stream",
     "text": [
      "2023-09-14 19:16:41,815 - hbmep.utils.utils - INFO - func:predict took: 2.35 sec\n",
      "2023-09-14 19:16:41,816 - hbmep.utils.utils - INFO - func:simulate took: 2.35 sec\n"
     ]
    }
   ],
   "source": [
    "# Load data\n",
    "simulation_params = {\n",
    "    \"n_subject\": 6,\n",
    "    \"n_feature0\": 1,\n",
    "    \"n_draws\": 5,\n",
    "    \"n_repeats\": 10\n",
    "}\n",
    "\n",
    "df_full, posterior_samples_true = model.simulate(**simulation_params)\n",
    "\n",
    "obs = np.array(posterior_samples_true[site.obs])\n"
   ]
  },
  {
   "cell_type": "code",
   "execution_count": 4,
   "metadata": {},
   "outputs": [
    {
     "name": "stderr",
     "output_type": "stream",
     "text": [
      "2023-09-14 19:16:41,829 - __main__ - INFO - N: 15, m: 1\n",
      "2023-09-14 19:16:41,837 - hbmep.config - INFO - Verifying configuration ...\n",
      "2023-09-14 19:16:41,837 - hbmep.config - INFO - Success!\n",
      "2023-09-14 19:16:41,837 - hbmep.model.baseline - INFO - Initialized model with hierarchical_bayesian link\n",
      "2023-09-14 19:16:41,838 - hbmep.dataset.core - INFO - Artefacts will be stored here - /home/vishu/repos/hbmep-paper/reports/simulation/\n",
      "2023-09-14 19:16:41,838 - hbmep.dataset.core - INFO - Copied config to /home/vishu/repos/hbmep-paper/reports/simulation/\n",
      "2023-09-14 19:16:41,838 - hbmep.dataset.core - INFO - Processing data ...\n",
      "2023-09-14 19:16:41,839 - hbmep.utils.utils - INFO - func:load took: 0.00 sec\n",
      "2023-09-14 19:16:41,840 - hbmep.model.baseline - INFO - Running inference with hierarchical_bayesian ...\n"
     ]
    },
    {
     "data": {
      "application/vnd.jupyter.widget-view+json": {
       "model_id": "8b187f1d88674c2f82eefd5f5aa25c2e",
       "version_major": 2,
       "version_minor": 0
      },
      "text/plain": [
       "  0%|          | 0/10000 [00:00<?, ?it/s]"
      ]
     },
     "metadata": {},
     "output_type": "display_data"
    },
    {
     "data": {
      "application/vnd.jupyter.widget-view+json": {
       "model_id": "89d85944e28b4fbf991cf53724516951",
       "version_major": 2,
       "version_minor": 0
      },
      "text/plain": [
       "  0%|          | 0/10000 [00:00<?, ?it/s]"
      ]
     },
     "metadata": {},
     "output_type": "display_data"
    },
    {
     "data": {
      "application/vnd.jupyter.widget-view+json": {
       "model_id": "bc03d1279df5467c9ecad64cf6a71ea0",
       "version_major": 2,
       "version_minor": 0
      },
      "text/plain": [
       "  0%|          | 0/10000 [00:00<?, ?it/s]"
      ]
     },
     "metadata": {},
     "output_type": "display_data"
    },
    {
     "data": {
      "application/vnd.jupyter.widget-view+json": {
       "model_id": "a3ab05eeade548ab86d0a2bf770986a4",
       "version_major": 2,
       "version_minor": 0
      },
      "text/plain": [
       "  0%|          | 0/10000 [00:00<?, ?it/s]"
      ]
     },
     "metadata": {},
     "output_type": "display_data"
    },
    {
     "name": "stderr",
     "output_type": "stream",
     "text": [
      "2023-09-14 19:20:48,216 - hbmep.utils.utils - INFO - func:run_inference took: 4 min and 6.38 sec\n",
      "2023-09-14 19:20:48,217 - hbmep.model.baseline - INFO - Generating predictions ...\n",
      "2023-09-14 19:21:04,259 - hbmep.utils.utils - INFO - func:predict took: 16.04 sec\n",
      "2023-09-14 19:21:04,320 - hbmep.model.baseline - INFO - Rendering recruitment curves ...\n",
      "2023-09-14 19:21:09,495 - hbmep.model.baseline - INFO - Saved to /home/vishu/repos/hbmep-paper/reports/simulation/checks-3/rec_m01_N15.pdf\n",
      "2023-09-14 19:21:09,496 - hbmep.utils.utils - INFO - func:render_recruitment_curves took: 21.28 sec\n",
      "2023-09-14 19:21:09,496 - hbmep.model.baseline - INFO - Generating predictions ...\n",
      "2023-09-14 19:21:25,401 - hbmep.utils.utils - INFO - func:predict took: 15.90 sec\n",
      "2023-09-14 19:21:25,505 - hbmep.model.baseline - INFO - Rendering Posterior Predictive Check ...\n",
      "2023-09-14 19:21:35,629 - hbmep.model.baseline - INFO - Saved to /home/vishu/repos/hbmep-paper/reports/simulation/checks-3/ppd_m01_N15.pdf\n",
      "2023-09-14 19:21:35,631 - hbmep.utils.utils - INFO - func:render_predictive_check took: 26.13 sec\n",
      "/home/vishu/repos/hbmep-paper/.venv/lib/python3.11/site-packages/arviz/stats/stats.py:803: UserWarning: Estimated shape parameter of Pareto distribution is greater than 0.7 for one or more samples. You should consider using a more robust model, this is because importance sampling is less likely to work well if the marginal posterior and LOO posterior are very different. This is more likely to happen with a non-robust model and highly influential observations.\n",
      "  warnings.warn(\n",
      "/home/vishu/repos/hbmep-paper/.venv/lib/python3.11/site-packages/arviz/stats/stats.py:1645: UserWarning: For one or more samples the posterior variance of the log predictive densities exceeds 0.4. This could be indication of WAIC starting to fail. \n",
      "See http://arxiv.org/abs/1507.04544 for details\n",
      "  warnings.warn(\n",
      "2023-09-14 19:21:37,876 - __main__ - INFO - N: 30, m: 1\n",
      "2023-09-14 19:21:37,883 - hbmep.config - INFO - Verifying configuration ...\n",
      "2023-09-14 19:21:37,883 - hbmep.config - INFO - Success!\n",
      "2023-09-14 19:21:37,884 - hbmep.model.baseline - INFO - Initialized model with hierarchical_bayesian link\n",
      "2023-09-14 19:21:37,884 - hbmep.dataset.core - INFO - Artefacts will be stored here - /home/vishu/repos/hbmep-paper/reports/simulation/\n",
      "2023-09-14 19:21:37,884 - hbmep.dataset.core - INFO - Copied config to /home/vishu/repos/hbmep-paper/reports/simulation/\n",
      "2023-09-14 19:21:37,885 - hbmep.dataset.core - INFO - Processing data ...\n",
      "2023-09-14 19:21:37,886 - hbmep.utils.utils - INFO - func:load took: 0.00 sec\n",
      "2023-09-14 19:21:37,886 - hbmep.model.baseline - INFO - Running inference with hierarchical_bayesian ...\n"
     ]
    },
    {
     "data": {
      "application/vnd.jupyter.widget-view+json": {
       "model_id": "34844decb1054b5a97aa117ce3d4ff4f",
       "version_major": 2,
       "version_minor": 0
      },
      "text/plain": [
       "  0%|          | 0/10000 [00:00<?, ?it/s]"
      ]
     },
     "metadata": {},
     "output_type": "display_data"
    },
    {
     "data": {
      "application/vnd.jupyter.widget-view+json": {
       "model_id": "67480b33397c42e087ff6da6c3443dfa",
       "version_major": 2,
       "version_minor": 0
      },
      "text/plain": [
       "  0%|          | 0/10000 [00:00<?, ?it/s]"
      ]
     },
     "metadata": {},
     "output_type": "display_data"
    },
    {
     "data": {
      "application/vnd.jupyter.widget-view+json": {
       "model_id": "e74aa784ed1445f8a65784f5ef16f0a1",
       "version_major": 2,
       "version_minor": 0
      },
      "text/plain": [
       "  0%|          | 0/10000 [00:00<?, ?it/s]"
      ]
     },
     "metadata": {},
     "output_type": "display_data"
    },
    {
     "data": {
      "application/vnd.jupyter.widget-view+json": {
       "model_id": "2fb11680f1084890b33b80eb346ec5e2",
       "version_major": 2,
       "version_minor": 0
      },
      "text/plain": [
       "  0%|          | 0/10000 [00:00<?, ?it/s]"
      ]
     },
     "metadata": {},
     "output_type": "display_data"
    },
    {
     "name": "stderr",
     "output_type": "stream",
     "text": [
      "2023-09-14 19:27:48,242 - hbmep.utils.utils - INFO - func:run_inference took: 6 min and 10.36 sec\n",
      "2023-09-14 19:27:48,242 - hbmep.model.baseline - INFO - Generating predictions ...\n",
      "2023-09-14 19:28:04,215 - hbmep.utils.utils - INFO - func:predict took: 15.97 sec\n",
      "2023-09-14 19:28:04,273 - hbmep.model.baseline - INFO - Rendering recruitment curves ...\n",
      "2023-09-14 19:28:09,557 - hbmep.model.baseline - INFO - Saved to /home/vishu/repos/hbmep-paper/reports/simulation/checks-3/rec_m01_N30.pdf\n",
      "2023-09-14 19:28:09,558 - hbmep.utils.utils - INFO - func:render_recruitment_curves took: 21.32 sec\n",
      "2023-09-14 19:28:09,558 - hbmep.model.baseline - INFO - Generating predictions ...\n",
      "2023-09-14 19:28:25,487 - hbmep.utils.utils - INFO - func:predict took: 15.93 sec\n",
      "2023-09-14 19:28:25,611 - hbmep.model.baseline - INFO - Rendering Posterior Predictive Check ...\n",
      "2023-09-14 19:28:35,834 - hbmep.model.baseline - INFO - Saved to /home/vishu/repos/hbmep-paper/reports/simulation/checks-3/ppd_m01_N30.pdf\n",
      "2023-09-14 19:28:35,836 - hbmep.utils.utils - INFO - func:render_predictive_check took: 26.28 sec\n",
      "/home/vishu/repos/hbmep-paper/.venv/lib/python3.11/site-packages/arviz/stats/stats.py:803: UserWarning: Estimated shape parameter of Pareto distribution is greater than 0.7 for one or more samples. You should consider using a more robust model, this is because importance sampling is less likely to work well if the marginal posterior and LOO posterior are very different. This is more likely to happen with a non-robust model and highly influential observations.\n",
      "  warnings.warn(\n",
      "/home/vishu/repos/hbmep-paper/.venv/lib/python3.11/site-packages/arviz/stats/stats.py:1645: UserWarning: For one or more samples the posterior variance of the log predictive densities exceeds 0.4. This could be indication of WAIC starting to fail. \n",
      "See http://arxiv.org/abs/1507.04544 for details\n",
      "  warnings.warn(\n",
      "2023-09-14 19:28:38,292 - __main__ - INFO - N: 45, m: 1\n",
      "2023-09-14 19:28:38,299 - hbmep.config - INFO - Verifying configuration ...\n",
      "2023-09-14 19:28:38,299 - hbmep.config - INFO - Success!\n",
      "2023-09-14 19:28:38,300 - hbmep.model.baseline - INFO - Initialized model with hierarchical_bayesian link\n",
      "2023-09-14 19:28:38,300 - hbmep.dataset.core - INFO - Artefacts will be stored here - /home/vishu/repos/hbmep-paper/reports/simulation/\n",
      "2023-09-14 19:28:38,300 - hbmep.dataset.core - INFO - Copied config to /home/vishu/repos/hbmep-paper/reports/simulation/\n",
      "2023-09-14 19:28:38,301 - hbmep.dataset.core - INFO - Processing data ...\n",
      "2023-09-14 19:28:38,302 - hbmep.utils.utils - INFO - func:load took: 0.00 sec\n",
      "2023-09-14 19:28:38,302 - hbmep.model.baseline - INFO - Running inference with hierarchical_bayesian ...\n"
     ]
    },
    {
     "data": {
      "application/vnd.jupyter.widget-view+json": {
       "model_id": "e43af3587ddb4a65b8285a7eec7d698b",
       "version_major": 2,
       "version_minor": 0
      },
      "text/plain": [
       "  0%|          | 0/10000 [00:00<?, ?it/s]"
      ]
     },
     "metadata": {},
     "output_type": "display_data"
    },
    {
     "data": {
      "application/vnd.jupyter.widget-view+json": {
       "model_id": "983e188984c944d38c5ce72bbfa4a756",
       "version_major": 2,
       "version_minor": 0
      },
      "text/plain": [
       "  0%|          | 0/10000 [00:00<?, ?it/s]"
      ]
     },
     "metadata": {},
     "output_type": "display_data"
    },
    {
     "data": {
      "application/vnd.jupyter.widget-view+json": {
       "model_id": "0d2fdc6255db480cb1b4e5de36b6bd8e",
       "version_major": 2,
       "version_minor": 0
      },
      "text/plain": [
       "  0%|          | 0/10000 [00:00<?, ?it/s]"
      ]
     },
     "metadata": {},
     "output_type": "display_data"
    },
    {
     "data": {
      "application/vnd.jupyter.widget-view+json": {
       "model_id": "77be383717844f42bf0420948b04abf7",
       "version_major": 2,
       "version_minor": 0
      },
      "text/plain": [
       "  0%|          | 0/10000 [00:00<?, ?it/s]"
      ]
     },
     "metadata": {},
     "output_type": "display_data"
    },
    {
     "name": "stderr",
     "output_type": "stream",
     "text": [
      "2023-09-14 19:43:06,856 - hbmep.utils.utils - INFO - func:run_inference took: 14 min and 28.55 sec\n",
      "2023-09-14 19:43:06,857 - hbmep.model.baseline - INFO - Generating predictions ...\n",
      "2023-09-14 19:43:22,972 - hbmep.utils.utils - INFO - func:predict took: 16.11 sec\n",
      "2023-09-14 19:43:23,031 - hbmep.model.baseline - INFO - Rendering recruitment curves ...\n",
      "2023-09-14 19:43:28,892 - hbmep.model.baseline - INFO - Saved to /home/vishu/repos/hbmep-paper/reports/simulation/checks-3/rec_m01_N45.pdf\n",
      "2023-09-14 19:43:28,892 - hbmep.utils.utils - INFO - func:render_recruitment_curves took: 22.04 sec\n",
      "2023-09-14 19:43:28,892 - hbmep.model.baseline - INFO - Generating predictions ...\n",
      "2023-09-14 19:43:44,951 - hbmep.utils.utils - INFO - func:predict took: 16.06 sec\n",
      "2023-09-14 19:43:45,054 - hbmep.model.baseline - INFO - Rendering Posterior Predictive Check ...\n",
      "2023-09-14 19:43:55,563 - hbmep.model.baseline - INFO - Saved to /home/vishu/repos/hbmep-paper/reports/simulation/checks-3/ppd_m01_N45.pdf\n",
      "2023-09-14 19:43:55,565 - hbmep.utils.utils - INFO - func:render_predictive_check took: 26.67 sec\n",
      "/home/vishu/repos/hbmep-paper/.venv/lib/python3.11/site-packages/arviz/stats/stats.py:803: UserWarning: Estimated shape parameter of Pareto distribution is greater than 0.7 for one or more samples. You should consider using a more robust model, this is because importance sampling is less likely to work well if the marginal posterior and LOO posterior are very different. This is more likely to happen with a non-robust model and highly influential observations.\n",
      "  warnings.warn(\n",
      "/home/vishu/repos/hbmep-paper/.venv/lib/python3.11/site-packages/arviz/stats/stats.py:1645: UserWarning: For one or more samples the posterior variance of the log predictive densities exceeds 0.4. This could be indication of WAIC starting to fail. \n",
      "See http://arxiv.org/abs/1507.04544 for details\n",
      "  warnings.warn(\n",
      "2023-09-14 19:43:58,798 - __main__ - INFO - N: 60, m: 1\n",
      "2023-09-14 19:43:58,805 - hbmep.config - INFO - Verifying configuration ...\n",
      "2023-09-14 19:43:58,805 - hbmep.config - INFO - Success!\n",
      "2023-09-14 19:43:58,806 - hbmep.model.baseline - INFO - Initialized model with hierarchical_bayesian link\n",
      "2023-09-14 19:43:58,806 - hbmep.dataset.core - INFO - Artefacts will be stored here - /home/vishu/repos/hbmep-paper/reports/simulation/\n",
      "2023-09-14 19:43:58,807 - hbmep.dataset.core - INFO - Copied config to /home/vishu/repos/hbmep-paper/reports/simulation/\n",
      "2023-09-14 19:43:58,807 - hbmep.dataset.core - INFO - Processing data ...\n",
      "2023-09-14 19:43:58,808 - hbmep.utils.utils - INFO - func:load took: 0.00 sec\n",
      "2023-09-14 19:43:58,809 - hbmep.model.baseline - INFO - Running inference with hierarchical_bayesian ...\n"
     ]
    },
    {
     "data": {
      "application/vnd.jupyter.widget-view+json": {
       "model_id": "6b90bdf5902f4afdbc1ab6a4ac04fac6",
       "version_major": 2,
       "version_minor": 0
      },
      "text/plain": [
       "  0%|          | 0/10000 [00:00<?, ?it/s]"
      ]
     },
     "metadata": {},
     "output_type": "display_data"
    },
    {
     "data": {
      "application/vnd.jupyter.widget-view+json": {
       "model_id": "d74c657bcb2e432c975d5142204982ec",
       "version_major": 2,
       "version_minor": 0
      },
      "text/plain": [
       "  0%|          | 0/10000 [00:00<?, ?it/s]"
      ]
     },
     "metadata": {},
     "output_type": "display_data"
    },
    {
     "data": {
      "application/vnd.jupyter.widget-view+json": {
       "model_id": "49d3162938b64b2a920ca14d0b5935ce",
       "version_major": 2,
       "version_minor": 0
      },
      "text/plain": [
       "  0%|          | 0/10000 [00:00<?, ?it/s]"
      ]
     },
     "metadata": {},
     "output_type": "display_data"
    },
    {
     "data": {
      "application/vnd.jupyter.widget-view+json": {
       "model_id": "35e78e91c68548bbb81bc3b1ae34a0de",
       "version_major": 2,
       "version_minor": 0
      },
      "text/plain": [
       "  0%|          | 0/10000 [00:00<?, ?it/s]"
      ]
     },
     "metadata": {},
     "output_type": "display_data"
    },
    {
     "name": "stderr",
     "output_type": "stream",
     "text": [
      "2023-09-14 20:03:49,879 - hbmep.utils.utils - INFO - func:run_inference took: 19 min and 51.07 sec\n",
      "2023-09-14 20:03:49,880 - hbmep.model.baseline - INFO - Generating predictions ...\n",
      "2023-09-14 20:04:05,976 - hbmep.utils.utils - INFO - func:predict took: 16.09 sec\n",
      "2023-09-14 20:04:06,037 - hbmep.model.baseline - INFO - Rendering recruitment curves ...\n",
      "2023-09-14 20:04:12,014 - hbmep.model.baseline - INFO - Saved to /home/vishu/repos/hbmep-paper/reports/simulation/checks-3/rec_m01_N60.pdf\n",
      "2023-09-14 20:04:12,015 - hbmep.utils.utils - INFO - func:render_recruitment_curves took: 22.13 sec\n",
      "2023-09-14 20:04:12,015 - hbmep.model.baseline - INFO - Generating predictions ...\n",
      "2023-09-14 20:04:28,095 - hbmep.utils.utils - INFO - func:predict took: 16.08 sec\n",
      "2023-09-14 20:04:28,198 - hbmep.model.baseline - INFO - Rendering Posterior Predictive Check ...\n",
      "2023-09-14 20:04:38,765 - hbmep.model.baseline - INFO - Saved to /home/vishu/repos/hbmep-paper/reports/simulation/checks-3/ppd_m01_N60.pdf\n",
      "2023-09-14 20:04:38,766 - hbmep.utils.utils - INFO - func:render_predictive_check took: 26.75 sec\n",
      "/home/vishu/repos/hbmep-paper/.venv/lib/python3.11/site-packages/arviz/stats/stats.py:803: UserWarning: Estimated shape parameter of Pareto distribution is greater than 0.7 for one or more samples. You should consider using a more robust model, this is because importance sampling is less likely to work well if the marginal posterior and LOO posterior are very different. This is more likely to happen with a non-robust model and highly influential observations.\n",
      "  warnings.warn(\n",
      "/home/vishu/repos/hbmep-paper/.venv/lib/python3.11/site-packages/arviz/stats/stats.py:1645: UserWarning: For one or more samples the posterior variance of the log predictive densities exceeds 0.4. This could be indication of WAIC starting to fail. \n",
      "See http://arxiv.org/abs/1507.04544 for details\n",
      "  warnings.warn(\n",
      "2023-09-14 20:04:44,744 - __main__ - INFO - N: 75, m: 1\n",
      "2023-09-14 20:04:44,751 - hbmep.config - INFO - Verifying configuration ...\n",
      "2023-09-14 20:04:44,751 - hbmep.config - INFO - Success!\n",
      "2023-09-14 20:04:44,752 - hbmep.model.baseline - INFO - Initialized model with hierarchical_bayesian link\n",
      "2023-09-14 20:04:44,752 - hbmep.dataset.core - INFO - Artefacts will be stored here - /home/vishu/repos/hbmep-paper/reports/simulation/\n",
      "2023-09-14 20:04:44,752 - hbmep.dataset.core - INFO - Copied config to /home/vishu/repos/hbmep-paper/reports/simulation/\n",
      "2023-09-14 20:04:44,753 - hbmep.dataset.core - INFO - Processing data ...\n",
      "2023-09-14 20:04:44,754 - hbmep.utils.utils - INFO - func:load took: 0.00 sec\n",
      "2023-09-14 20:04:44,754 - hbmep.model.baseline - INFO - Running inference with hierarchical_bayesian ...\n"
     ]
    },
    {
     "data": {
      "application/vnd.jupyter.widget-view+json": {
       "model_id": "49e3c8acdf874b91a1ef3072fac4e430",
       "version_major": 2,
       "version_minor": 0
      },
      "text/plain": [
       "  0%|          | 0/10000 [00:00<?, ?it/s]"
      ]
     },
     "metadata": {},
     "output_type": "display_data"
    },
    {
     "data": {
      "application/vnd.jupyter.widget-view+json": {
       "model_id": "8390012a5aab4c02b84e6458e744c306",
       "version_major": 2,
       "version_minor": 0
      },
      "text/plain": [
       "  0%|          | 0/10000 [00:00<?, ?it/s]"
      ]
     },
     "metadata": {},
     "output_type": "display_data"
    },
    {
     "data": {
      "application/vnd.jupyter.widget-view+json": {
       "model_id": "fd988b4a16de4b28beb7e860390e0830",
       "version_major": 2,
       "version_minor": 0
      },
      "text/plain": [
       "  0%|          | 0/10000 [00:00<?, ?it/s]"
      ]
     },
     "metadata": {},
     "output_type": "display_data"
    },
    {
     "data": {
      "application/vnd.jupyter.widget-view+json": {
       "model_id": "408e7791c90e49178c5548d8773a45a1",
       "version_major": 2,
       "version_minor": 0
      },
      "text/plain": [
       "  0%|          | 0/10000 [00:00<?, ?it/s]"
      ]
     },
     "metadata": {},
     "output_type": "display_data"
    },
    {
     "name": "stderr",
     "output_type": "stream",
     "text": [
      "2023-09-14 20:30:30,037 - hbmep.utils.utils - INFO - func:run_inference took: 25 min and 45.28 sec\n",
      "2023-09-14 20:30:30,038 - hbmep.model.baseline - INFO - Generating predictions ...\n",
      "2023-09-14 20:30:46,183 - hbmep.utils.utils - INFO - func:predict took: 16.14 sec\n",
      "2023-09-14 20:30:46,241 - hbmep.model.baseline - INFO - Rendering recruitment curves ...\n",
      "2023-09-14 20:30:51,987 - hbmep.model.baseline - INFO - Saved to /home/vishu/repos/hbmep-paper/reports/simulation/checks-3/rec_m01_N75.pdf\n",
      "2023-09-14 20:30:51,988 - hbmep.utils.utils - INFO - func:render_recruitment_curves took: 21.95 sec\n",
      "2023-09-14 20:30:51,988 - hbmep.model.baseline - INFO - Generating predictions ...\n",
      "2023-09-14 20:31:08,099 - hbmep.utils.utils - INFO - func:predict took: 16.11 sec\n",
      "2023-09-14 20:31:08,203 - hbmep.model.baseline - INFO - Rendering Posterior Predictive Check ...\n",
      "2023-09-14 20:31:18,827 - hbmep.model.baseline - INFO - Saved to /home/vishu/repos/hbmep-paper/reports/simulation/checks-3/ppd_m01_N75.pdf\n",
      "2023-09-14 20:31:18,829 - hbmep.utils.utils - INFO - func:render_predictive_check took: 26.84 sec\n",
      "/home/vishu/repos/hbmep-paper/.venv/lib/python3.11/site-packages/arviz/stats/stats.py:803: UserWarning: Estimated shape parameter of Pareto distribution is greater than 0.7 for one or more samples. You should consider using a more robust model, this is because importance sampling is less likely to work well if the marginal posterior and LOO posterior are very different. This is more likely to happen with a non-robust model and highly influential observations.\n",
      "  warnings.warn(\n",
      "/home/vishu/repos/hbmep-paper/.venv/lib/python3.11/site-packages/arviz/stats/stats.py:1645: UserWarning: For one or more samples the posterior variance of the log predictive densities exceeds 0.4. This could be indication of WAIC starting to fail. \n",
      "See http://arxiv.org/abs/1507.04544 for details\n",
      "  warnings.warn(\n",
      "2023-09-14 20:31:24,030 - __main__ - INFO - N: 90, m: 1\n",
      "2023-09-14 20:31:24,037 - hbmep.config - INFO - Verifying configuration ...\n",
      "2023-09-14 20:31:24,037 - hbmep.config - INFO - Success!\n",
      "2023-09-14 20:31:24,038 - hbmep.model.baseline - INFO - Initialized model with hierarchical_bayesian link\n",
      "2023-09-14 20:31:24,038 - hbmep.dataset.core - INFO - Artefacts will be stored here - /home/vishu/repos/hbmep-paper/reports/simulation/\n",
      "2023-09-14 20:31:24,038 - hbmep.dataset.core - INFO - Copied config to /home/vishu/repos/hbmep-paper/reports/simulation/\n",
      "2023-09-14 20:31:24,039 - hbmep.dataset.core - INFO - Processing data ...\n",
      "2023-09-14 20:31:24,040 - hbmep.utils.utils - INFO - func:load took: 0.00 sec\n",
      "2023-09-14 20:31:24,040 - hbmep.model.baseline - INFO - Running inference with hierarchical_bayesian ...\n"
     ]
    },
    {
     "data": {
      "application/vnd.jupyter.widget-view+json": {
       "model_id": "9c25e98f95874f64bb840253294784d3",
       "version_major": 2,
       "version_minor": 0
      },
      "text/plain": [
       "  0%|          | 0/10000 [00:00<?, ?it/s]"
      ]
     },
     "metadata": {},
     "output_type": "display_data"
    },
    {
     "data": {
      "application/vnd.jupyter.widget-view+json": {
       "model_id": "67888610493f415c8f5bf79d7a1ffd14",
       "version_major": 2,
       "version_minor": 0
      },
      "text/plain": [
       "  0%|          | 0/10000 [00:00<?, ?it/s]"
      ]
     },
     "metadata": {},
     "output_type": "display_data"
    },
    {
     "data": {
      "application/vnd.jupyter.widget-view+json": {
       "model_id": "932401210a73438c8eceadd172f97cdd",
       "version_major": 2,
       "version_minor": 0
      },
      "text/plain": [
       "  0%|          | 0/10000 [00:00<?, ?it/s]"
      ]
     },
     "metadata": {},
     "output_type": "display_data"
    },
    {
     "data": {
      "application/vnd.jupyter.widget-view+json": {
       "model_id": "377253b48555408ea4cd296537aeadb1",
       "version_major": 2,
       "version_minor": 0
      },
      "text/plain": [
       "  0%|          | 0/10000 [00:00<?, ?it/s]"
      ]
     },
     "metadata": {},
     "output_type": "display_data"
    },
    {
     "name": "stderr",
     "output_type": "stream",
     "text": [
      "2023-09-14 21:02:02,951 - hbmep.utils.utils - INFO - func:run_inference took: 30 min and 38.91 sec\n",
      "2023-09-14 21:02:02,952 - hbmep.model.baseline - INFO - Generating predictions ...\n",
      "2023-09-14 21:02:19,074 - hbmep.utils.utils - INFO - func:predict took: 16.12 sec\n",
      "2023-09-14 21:02:19,133 - hbmep.model.baseline - INFO - Rendering recruitment curves ...\n",
      "2023-09-14 21:02:24,988 - hbmep.model.baseline - INFO - Saved to /home/vishu/repos/hbmep-paper/reports/simulation/checks-3/rec_m01_N90.pdf\n",
      "2023-09-14 21:02:24,989 - hbmep.utils.utils - INFO - func:render_recruitment_curves took: 22.04 sec\n",
      "2023-09-14 21:02:24,989 - hbmep.model.baseline - INFO - Generating predictions ...\n",
      "2023-09-14 21:02:41,015 - hbmep.utils.utils - INFO - func:predict took: 16.02 sec\n",
      "2023-09-14 21:02:41,117 - hbmep.model.baseline - INFO - Rendering Posterior Predictive Check ...\n",
      "2023-09-14 21:02:51,970 - hbmep.model.baseline - INFO - Saved to /home/vishu/repos/hbmep-paper/reports/simulation/checks-3/ppd_m01_N90.pdf\n",
      "2023-09-14 21:02:51,972 - hbmep.utils.utils - INFO - func:render_predictive_check took: 26.98 sec\n",
      "/home/vishu/repos/hbmep-paper/.venv/lib/python3.11/site-packages/arviz/stats/stats.py:803: UserWarning: Estimated shape parameter of Pareto distribution is greater than 0.7 for one or more samples. You should consider using a more robust model, this is because importance sampling is less likely to work well if the marginal posterior and LOO posterior are very different. This is more likely to happen with a non-robust model and highly influential observations.\n",
      "  warnings.warn(\n",
      "/home/vishu/repos/hbmep-paper/.venv/lib/python3.11/site-packages/arviz/stats/stats.py:1645: UserWarning: For one or more samples the posterior variance of the log predictive densities exceeds 0.4. This could be indication of WAIC starting to fail. \n",
      "See http://arxiv.org/abs/1507.04544 for details\n",
      "  warnings.warn(\n",
      "2023-09-14 21:02:58,114 - __main__ - INFO - N: 15, m: 3\n",
      "2023-09-14 21:02:58,122 - hbmep.config - INFO - Verifying configuration ...\n",
      "2023-09-14 21:02:58,122 - hbmep.config - INFO - Success!\n",
      "2023-09-14 21:02:58,123 - hbmep.model.baseline - INFO - Initialized model with hierarchical_bayesian link\n",
      "2023-09-14 21:02:58,123 - hbmep.dataset.core - INFO - Artefacts will be stored here - /home/vishu/repos/hbmep-paper/reports/simulation/\n",
      "2023-09-14 21:02:58,123 - hbmep.dataset.core - INFO - Copied config to /home/vishu/repos/hbmep-paper/reports/simulation/\n",
      "2023-09-14 21:02:58,124 - hbmep.dataset.core - INFO - Processing data ...\n",
      "2023-09-14 21:02:58,125 - hbmep.utils.utils - INFO - func:load took: 0.00 sec\n",
      "2023-09-14 21:02:58,125 - hbmep.model.baseline - INFO - Running inference with hierarchical_bayesian ...\n"
     ]
    },
    {
     "data": {
      "application/vnd.jupyter.widget-view+json": {
       "model_id": "54600d34e9a34b32869ae447f50f639c",
       "version_major": 2,
       "version_minor": 0
      },
      "text/plain": [
       "  0%|          | 0/10000 [00:00<?, ?it/s]"
      ]
     },
     "metadata": {},
     "output_type": "display_data"
    },
    {
     "data": {
      "application/vnd.jupyter.widget-view+json": {
       "model_id": "e9a1d56e1cbc48629f73e34c26eef2f2",
       "version_major": 2,
       "version_minor": 0
      },
      "text/plain": [
       "  0%|          | 0/10000 [00:00<?, ?it/s]"
      ]
     },
     "metadata": {},
     "output_type": "display_data"
    },
    {
     "data": {
      "application/vnd.jupyter.widget-view+json": {
       "model_id": "ba495c5c35494fa789649ea61b1e851a",
       "version_major": 2,
       "version_minor": 0
      },
      "text/plain": [
       "  0%|          | 0/10000 [00:00<?, ?it/s]"
      ]
     },
     "metadata": {},
     "output_type": "display_data"
    },
    {
     "data": {
      "application/vnd.jupyter.widget-view+json": {
       "model_id": "a2e31ad6f7aa48e1a5287ca37f011237",
       "version_major": 2,
       "version_minor": 0
      },
      "text/plain": [
       "  0%|          | 0/10000 [00:00<?, ?it/s]"
      ]
     },
     "metadata": {},
     "output_type": "display_data"
    },
    {
     "name": "stderr",
     "output_type": "stream",
     "text": [
      "2023-09-14 21:08:45,166 - hbmep.utils.utils - INFO - func:run_inference took: 5 min and 47.04 sec\n",
      "2023-09-14 21:08:45,167 - hbmep.model.baseline - INFO - Generating predictions ...\n",
      "2023-09-14 21:09:01,207 - hbmep.utils.utils - INFO - func:predict took: 16.04 sec\n",
      "2023-09-14 21:09:01,266 - hbmep.model.baseline - INFO - Rendering recruitment curves ...\n",
      "2023-09-14 21:09:06,767 - hbmep.model.baseline - INFO - Saved to /home/vishu/repos/hbmep-paper/reports/simulation/checks-3/rec_m03_N15.pdf\n",
      "2023-09-14 21:09:06,768 - hbmep.utils.utils - INFO - func:render_recruitment_curves took: 21.60 sec\n",
      "2023-09-14 21:09:06,768 - hbmep.model.baseline - INFO - Generating predictions ...\n",
      "2023-09-14 21:09:22,865 - hbmep.utils.utils - INFO - func:predict took: 16.09 sec\n",
      "2023-09-14 21:09:22,968 - hbmep.model.baseline - INFO - Rendering Posterior Predictive Check ...\n",
      "2023-09-14 21:09:33,588 - hbmep.model.baseline - INFO - Saved to /home/vishu/repos/hbmep-paper/reports/simulation/checks-3/ppd_m03_N15.pdf\n",
      "2023-09-14 21:09:33,590 - hbmep.utils.utils - INFO - func:render_predictive_check took: 26.82 sec\n",
      "/home/vishu/repos/hbmep-paper/.venv/lib/python3.11/site-packages/arviz/stats/stats.py:803: UserWarning: Estimated shape parameter of Pareto distribution is greater than 0.7 for one or more samples. You should consider using a more robust model, this is because importance sampling is less likely to work well if the marginal posterior and LOO posterior are very different. This is more likely to happen with a non-robust model and highly influential observations.\n",
      "  warnings.warn(\n",
      "/home/vishu/repos/hbmep-paper/.venv/lib/python3.11/site-packages/arviz/stats/stats.py:1645: UserWarning: For one or more samples the posterior variance of the log predictive densities exceeds 0.4. This could be indication of WAIC starting to fail. \n",
      "See http://arxiv.org/abs/1507.04544 for details\n",
      "  warnings.warn(\n",
      "2023-09-14 21:09:34,795 - __main__ - INFO - N: 30, m: 3\n",
      "2023-09-14 21:09:34,802 - hbmep.config - INFO - Verifying configuration ...\n",
      "2023-09-14 21:09:34,802 - hbmep.config - INFO - Success!\n",
      "2023-09-14 21:09:34,803 - hbmep.model.baseline - INFO - Initialized model with hierarchical_bayesian link\n",
      "2023-09-14 21:09:34,803 - hbmep.dataset.core - INFO - Artefacts will be stored here - /home/vishu/repos/hbmep-paper/reports/simulation/\n",
      "2023-09-14 21:09:34,803 - hbmep.dataset.core - INFO - Copied config to /home/vishu/repos/hbmep-paper/reports/simulation/\n",
      "2023-09-14 21:09:34,804 - hbmep.dataset.core - INFO - Processing data ...\n",
      "2023-09-14 21:09:34,805 - hbmep.utils.utils - INFO - func:load took: 0.00 sec\n",
      "2023-09-14 21:09:34,805 - hbmep.model.baseline - INFO - Running inference with hierarchical_bayesian ...\n"
     ]
    },
    {
     "data": {
      "application/vnd.jupyter.widget-view+json": {
       "model_id": "14d4baf75d97454a98ee738046bc1e0d",
       "version_major": 2,
       "version_minor": 0
      },
      "text/plain": [
       "  0%|          | 0/10000 [00:00<?, ?it/s]"
      ]
     },
     "metadata": {},
     "output_type": "display_data"
    },
    {
     "data": {
      "application/vnd.jupyter.widget-view+json": {
       "model_id": "d1dfb5675d5544ffac048b73de00766d",
       "version_major": 2,
       "version_minor": 0
      },
      "text/plain": [
       "  0%|          | 0/10000 [00:00<?, ?it/s]"
      ]
     },
     "metadata": {},
     "output_type": "display_data"
    },
    {
     "data": {
      "application/vnd.jupyter.widget-view+json": {
       "model_id": "f7a1eb68f98e47408550ce5bff01d992",
       "version_major": 2,
       "version_minor": 0
      },
      "text/plain": [
       "  0%|          | 0/10000 [00:00<?, ?it/s]"
      ]
     },
     "metadata": {},
     "output_type": "display_data"
    },
    {
     "data": {
      "application/vnd.jupyter.widget-view+json": {
       "model_id": "612ebe8c87af4171b058d8df6e8f15ce",
       "version_major": 2,
       "version_minor": 0
      },
      "text/plain": [
       "  0%|          | 0/10000 [00:00<?, ?it/s]"
      ]
     },
     "metadata": {},
     "output_type": "display_data"
    },
    {
     "name": "stderr",
     "output_type": "stream",
     "text": [
      "2023-09-14 21:18:03,279 - hbmep.utils.utils - INFO - func:run_inference took: 8 min and 28.47 sec\n",
      "2023-09-14 21:18:03,279 - hbmep.model.baseline - INFO - Generating predictions ...\n",
      "2023-09-14 21:18:19,343 - hbmep.utils.utils - INFO - func:predict took: 16.06 sec\n",
      "2023-09-14 21:18:19,403 - hbmep.model.baseline - INFO - Rendering recruitment curves ...\n",
      "2023-09-14 21:18:25,417 - hbmep.model.baseline - INFO - Saved to /home/vishu/repos/hbmep-paper/reports/simulation/checks-3/rec_m03_N30.pdf\n",
      "2023-09-14 21:18:25,417 - hbmep.utils.utils - INFO - func:render_recruitment_curves took: 22.14 sec\n",
      "2023-09-14 21:18:25,417 - hbmep.model.baseline - INFO - Generating predictions ...\n",
      "2023-09-14 21:18:41,468 - hbmep.utils.utils - INFO - func:predict took: 16.05 sec\n",
      "2023-09-14 21:18:41,570 - hbmep.model.baseline - INFO - Rendering Posterior Predictive Check ...\n",
      "2023-09-14 21:18:52,631 - hbmep.model.baseline - INFO - Saved to /home/vishu/repos/hbmep-paper/reports/simulation/checks-3/ppd_m03_N30.pdf\n",
      "2023-09-14 21:18:52,633 - hbmep.utils.utils - INFO - func:render_predictive_check took: 27.22 sec\n",
      "/home/vishu/repos/hbmep-paper/.venv/lib/python3.11/site-packages/arviz/stats/stats.py:803: UserWarning: Estimated shape parameter of Pareto distribution is greater than 0.7 for one or more samples. You should consider using a more robust model, this is because importance sampling is less likely to work well if the marginal posterior and LOO posterior are very different. This is more likely to happen with a non-robust model and highly influential observations.\n",
      "  warnings.warn(\n",
      "/home/vishu/repos/hbmep-paper/.venv/lib/python3.11/site-packages/arviz/stats/stats.py:1645: UserWarning: For one or more samples the posterior variance of the log predictive densities exceeds 0.4. This could be indication of WAIC starting to fail. \n",
      "See http://arxiv.org/abs/1507.04544 for details\n",
      "  warnings.warn(\n",
      "2023-09-14 21:18:54,830 - __main__ - INFO - N: 45, m: 3\n",
      "2023-09-14 21:18:54,837 - hbmep.config - INFO - Verifying configuration ...\n",
      "2023-09-14 21:18:54,837 - hbmep.config - INFO - Success!\n",
      "2023-09-14 21:18:54,838 - hbmep.model.baseline - INFO - Initialized model with hierarchical_bayesian link\n",
      "2023-09-14 21:18:54,838 - hbmep.dataset.core - INFO - Artefacts will be stored here - /home/vishu/repos/hbmep-paper/reports/simulation/\n",
      "2023-09-14 21:18:54,838 - hbmep.dataset.core - INFO - Copied config to /home/vishu/repos/hbmep-paper/reports/simulation/\n",
      "2023-09-14 21:18:54,839 - hbmep.dataset.core - INFO - Processing data ...\n",
      "2023-09-14 21:18:54,840 - hbmep.utils.utils - INFO - func:load took: 0.00 sec\n",
      "2023-09-14 21:18:54,840 - hbmep.model.baseline - INFO - Running inference with hierarchical_bayesian ...\n"
     ]
    },
    {
     "data": {
      "application/vnd.jupyter.widget-view+json": {
       "model_id": "1c644bb95e004cf8a2a3c8db5bcd33d6",
       "version_major": 2,
       "version_minor": 0
      },
      "text/plain": [
       "  0%|          | 0/10000 [00:00<?, ?it/s]"
      ]
     },
     "metadata": {},
     "output_type": "display_data"
    },
    {
     "data": {
      "application/vnd.jupyter.widget-view+json": {
       "model_id": "e04931fc028b4a5dbfeb8d45ce97fb65",
       "version_major": 2,
       "version_minor": 0
      },
      "text/plain": [
       "  0%|          | 0/10000 [00:00<?, ?it/s]"
      ]
     },
     "metadata": {},
     "output_type": "display_data"
    },
    {
     "data": {
      "application/vnd.jupyter.widget-view+json": {
       "model_id": "0b8e4c8f5220402190f3fdf319767850",
       "version_major": 2,
       "version_minor": 0
      },
      "text/plain": [
       "  0%|          | 0/10000 [00:00<?, ?it/s]"
      ]
     },
     "metadata": {},
     "output_type": "display_data"
    },
    {
     "data": {
      "application/vnd.jupyter.widget-view+json": {
       "model_id": "7962d4d3c16e432c9a5c53243b8036a2",
       "version_major": 2,
       "version_minor": 0
      },
      "text/plain": [
       "  0%|          | 0/10000 [00:00<?, ?it/s]"
      ]
     },
     "metadata": {},
     "output_type": "display_data"
    },
    {
     "name": "stderr",
     "output_type": "stream",
     "text": [
      "2023-09-14 21:34:08,161 - hbmep.utils.utils - INFO - func:run_inference took: 15 min and 13.32 sec\n",
      "2023-09-14 21:34:08,162 - hbmep.model.baseline - INFO - Generating predictions ...\n",
      "2023-09-14 21:34:24,271 - hbmep.utils.utils - INFO - func:predict took: 16.10 sec\n",
      "2023-09-14 21:34:24,331 - hbmep.model.baseline - INFO - Rendering recruitment curves ...\n",
      "2023-09-14 21:34:30,443 - hbmep.model.baseline - INFO - Saved to /home/vishu/repos/hbmep-paper/reports/simulation/checks-3/rec_m03_N45.pdf\n",
      "2023-09-14 21:34:30,443 - hbmep.utils.utils - INFO - func:render_recruitment_curves took: 22.28 sec\n",
      "2023-09-14 21:34:30,443 - hbmep.model.baseline - INFO - Generating predictions ...\n",
      "2023-09-14 21:34:46,508 - hbmep.utils.utils - INFO - func:predict took: 16.06 sec\n",
      "2023-09-14 21:34:46,612 - hbmep.model.baseline - INFO - Rendering Posterior Predictive Check ...\n",
      "2023-09-14 21:34:57,281 - hbmep.model.baseline - INFO - Saved to /home/vishu/repos/hbmep-paper/reports/simulation/checks-3/ppd_m03_N45.pdf\n",
      "2023-09-14 21:34:57,283 - hbmep.utils.utils - INFO - func:render_predictive_check took: 26.84 sec\n",
      "/home/vishu/repos/hbmep-paper/.venv/lib/python3.11/site-packages/arviz/stats/stats.py:803: UserWarning: Estimated shape parameter of Pareto distribution is greater than 0.7 for one or more samples. You should consider using a more robust model, this is because importance sampling is less likely to work well if the marginal posterior and LOO posterior are very different. This is more likely to happen with a non-robust model and highly influential observations.\n",
      "  warnings.warn(\n",
      "/home/vishu/repos/hbmep-paper/.venv/lib/python3.11/site-packages/arviz/stats/stats.py:1645: UserWarning: For one or more samples the posterior variance of the log predictive densities exceeds 0.4. This could be indication of WAIC starting to fail. \n",
      "See http://arxiv.org/abs/1507.04544 for details\n",
      "  warnings.warn(\n",
      "2023-09-14 21:35:00,453 - __main__ - INFO - N: 60, m: 3\n",
      "2023-09-14 21:35:00,460 - hbmep.config - INFO - Verifying configuration ...\n",
      "2023-09-14 21:35:00,460 - hbmep.config - INFO - Success!\n",
      "2023-09-14 21:35:00,461 - hbmep.model.baseline - INFO - Initialized model with hierarchical_bayesian link\n",
      "2023-09-14 21:35:00,461 - hbmep.dataset.core - INFO - Artefacts will be stored here - /home/vishu/repos/hbmep-paper/reports/simulation/\n",
      "2023-09-14 21:35:00,462 - hbmep.dataset.core - INFO - Copied config to /home/vishu/repos/hbmep-paper/reports/simulation/\n",
      "2023-09-14 21:35:00,462 - hbmep.dataset.core - INFO - Processing data ...\n",
      "2023-09-14 21:35:00,463 - hbmep.utils.utils - INFO - func:load took: 0.00 sec\n",
      "2023-09-14 21:35:00,464 - hbmep.model.baseline - INFO - Running inference with hierarchical_bayesian ...\n"
     ]
    },
    {
     "data": {
      "application/vnd.jupyter.widget-view+json": {
       "model_id": "c2917610690f41108505cd46e646d330",
       "version_major": 2,
       "version_minor": 0
      },
      "text/plain": [
       "  0%|          | 0/10000 [00:00<?, ?it/s]"
      ]
     },
     "metadata": {},
     "output_type": "display_data"
    },
    {
     "data": {
      "application/vnd.jupyter.widget-view+json": {
       "model_id": "72b395fde91e4b6d84971ddf206dd7a3",
       "version_major": 2,
       "version_minor": 0
      },
      "text/plain": [
       "  0%|          | 0/10000 [00:00<?, ?it/s]"
      ]
     },
     "metadata": {},
     "output_type": "display_data"
    },
    {
     "data": {
      "application/vnd.jupyter.widget-view+json": {
       "model_id": "f3bafbf703404ba8879ca067e05373c5",
       "version_major": 2,
       "version_minor": 0
      },
      "text/plain": [
       "  0%|          | 0/10000 [00:00<?, ?it/s]"
      ]
     },
     "metadata": {},
     "output_type": "display_data"
    },
    {
     "data": {
      "application/vnd.jupyter.widget-view+json": {
       "model_id": "2f5af9984fd445989f758eb5ec422c54",
       "version_major": 2,
       "version_minor": 0
      },
      "text/plain": [
       "  0%|          | 0/10000 [00:00<?, ?it/s]"
      ]
     },
     "metadata": {},
     "output_type": "display_data"
    },
    {
     "name": "stderr",
     "output_type": "stream",
     "text": [
      "2023-09-14 21:52:46,370 - hbmep.utils.utils - INFO - func:run_inference took: 17 min and 45.91 sec\n",
      "2023-09-14 21:52:46,371 - hbmep.model.baseline - INFO - Generating predictions ...\n",
      "2023-09-14 21:53:02,402 - hbmep.utils.utils - INFO - func:predict took: 16.03 sec\n",
      "2023-09-14 21:53:02,461 - hbmep.model.baseline - INFO - Rendering recruitment curves ...\n",
      "2023-09-14 21:53:08,474 - hbmep.model.baseline - INFO - Saved to /home/vishu/repos/hbmep-paper/reports/simulation/checks-3/rec_m03_N60.pdf\n",
      "2023-09-14 21:53:08,474 - hbmep.utils.utils - INFO - func:render_recruitment_curves took: 22.10 sec\n",
      "2023-09-14 21:53:08,474 - hbmep.model.baseline - INFO - Generating predictions ...\n",
      "2023-09-14 21:53:24,523 - hbmep.utils.utils - INFO - func:predict took: 16.05 sec\n",
      "2023-09-14 21:53:24,653 - hbmep.model.baseline - INFO - Rendering Posterior Predictive Check ...\n",
      "2023-09-14 21:53:35,453 - hbmep.model.baseline - INFO - Saved to /home/vishu/repos/hbmep-paper/reports/simulation/checks-3/ppd_m03_N60.pdf\n",
      "2023-09-14 21:53:35,455 - hbmep.utils.utils - INFO - func:render_predictive_check took: 26.98 sec\n",
      "/home/vishu/repos/hbmep-paper/.venv/lib/python3.11/site-packages/arviz/stats/stats.py:803: UserWarning: Estimated shape parameter of Pareto distribution is greater than 0.7 for one or more samples. You should consider using a more robust model, this is because importance sampling is less likely to work well if the marginal posterior and LOO posterior are very different. This is more likely to happen with a non-robust model and highly influential observations.\n",
      "  warnings.warn(\n",
      "/home/vishu/repos/hbmep-paper/.venv/lib/python3.11/site-packages/arviz/stats/stats.py:1645: UserWarning: For one or more samples the posterior variance of the log predictive densities exceeds 0.4. This could be indication of WAIC starting to fail. \n",
      "See http://arxiv.org/abs/1507.04544 for details\n",
      "  warnings.warn(\n",
      "2023-09-14 21:53:39,525 - __main__ - INFO - N: 75, m: 3\n",
      "2023-09-14 21:53:39,533 - hbmep.config - INFO - Verifying configuration ...\n",
      "2023-09-14 21:53:39,533 - hbmep.config - INFO - Success!\n",
      "2023-09-14 21:53:39,533 - hbmep.model.baseline - INFO - Initialized model with hierarchical_bayesian link\n",
      "2023-09-14 21:53:39,534 - hbmep.dataset.core - INFO - Artefacts will be stored here - /home/vishu/repos/hbmep-paper/reports/simulation/\n",
      "2023-09-14 21:53:39,534 - hbmep.dataset.core - INFO - Copied config to /home/vishu/repos/hbmep-paper/reports/simulation/\n",
      "2023-09-14 21:53:39,534 - hbmep.dataset.core - INFO - Processing data ...\n",
      "2023-09-14 21:53:39,535 - hbmep.utils.utils - INFO - func:load took: 0.00 sec\n",
      "2023-09-14 21:53:39,535 - hbmep.model.baseline - INFO - Running inference with hierarchical_bayesian ...\n"
     ]
    },
    {
     "data": {
      "application/vnd.jupyter.widget-view+json": {
       "model_id": "20b279ac8f4643b6b54187b7d795e0d6",
       "version_major": 2,
       "version_minor": 0
      },
      "text/plain": [
       "  0%|          | 0/10000 [00:00<?, ?it/s]"
      ]
     },
     "metadata": {},
     "output_type": "display_data"
    },
    {
     "data": {
      "application/vnd.jupyter.widget-view+json": {
       "model_id": "306f4fe71b0d4a16b57bcbb946d4128c",
       "version_major": 2,
       "version_minor": 0
      },
      "text/plain": [
       "  0%|          | 0/10000 [00:00<?, ?it/s]"
      ]
     },
     "metadata": {},
     "output_type": "display_data"
    },
    {
     "data": {
      "application/vnd.jupyter.widget-view+json": {
       "model_id": "aefd2a20a6844a4b935e60337b05ae6c",
       "version_major": 2,
       "version_minor": 0
      },
      "text/plain": [
       "  0%|          | 0/10000 [00:00<?, ?it/s]"
      ]
     },
     "metadata": {},
     "output_type": "display_data"
    },
    {
     "data": {
      "application/vnd.jupyter.widget-view+json": {
       "model_id": "86e46f1b3c4f4cc8862f2b03dd63e20b",
       "version_major": 2,
       "version_minor": 0
      },
      "text/plain": [
       "  0%|          | 0/10000 [00:00<?, ?it/s]"
      ]
     },
     "metadata": {},
     "output_type": "display_data"
    },
    {
     "name": "stderr",
     "output_type": "stream",
     "text": [
      "2023-09-14 22:21:01,855 - hbmep.utils.utils - INFO - func:run_inference took: 27 min and 22.32 sec\n",
      "2023-09-14 22:21:01,857 - hbmep.model.baseline - INFO - Generating predictions ...\n",
      "2023-09-14 22:21:17,967 - hbmep.utils.utils - INFO - func:predict took: 16.11 sec\n",
      "2023-09-14 22:21:18,027 - hbmep.model.baseline - INFO - Rendering recruitment curves ...\n",
      "2023-09-14 22:21:24,082 - hbmep.model.baseline - INFO - Saved to /home/vishu/repos/hbmep-paper/reports/simulation/checks-3/rec_m03_N75.pdf\n",
      "2023-09-14 22:21:24,082 - hbmep.utils.utils - INFO - func:render_recruitment_curves took: 22.23 sec\n",
      "2023-09-14 22:21:24,082 - hbmep.model.baseline - INFO - Generating predictions ...\n",
      "2023-09-14 22:21:40,139 - hbmep.utils.utils - INFO - func:predict took: 16.05 sec\n",
      "2023-09-14 22:21:40,241 - hbmep.model.baseline - INFO - Rendering Posterior Predictive Check ...\n",
      "2023-09-14 22:21:50,975 - hbmep.model.baseline - INFO - Saved to /home/vishu/repos/hbmep-paper/reports/simulation/checks-3/ppd_m03_N75.pdf\n",
      "2023-09-14 22:21:50,976 - hbmep.utils.utils - INFO - func:render_predictive_check took: 26.89 sec\n",
      "/home/vishu/repos/hbmep-paper/.venv/lib/python3.11/site-packages/arviz/stats/stats.py:803: UserWarning: Estimated shape parameter of Pareto distribution is greater than 0.7 for one or more samples. You should consider using a more robust model, this is because importance sampling is less likely to work well if the marginal posterior and LOO posterior are very different. This is more likely to happen with a non-robust model and highly influential observations.\n",
      "  warnings.warn(\n",
      "/home/vishu/repos/hbmep-paper/.venv/lib/python3.11/site-packages/arviz/stats/stats.py:1645: UserWarning: For one or more samples the posterior variance of the log predictive densities exceeds 0.4. This could be indication of WAIC starting to fail. \n",
      "See http://arxiv.org/abs/1507.04544 for details\n",
      "  warnings.warn(\n",
      "2023-09-14 22:22:00,374 - __main__ - INFO - N: 90, m: 3\n",
      "2023-09-14 22:22:00,382 - hbmep.config - INFO - Verifying configuration ...\n",
      "2023-09-14 22:22:00,382 - hbmep.config - INFO - Success!\n",
      "2023-09-14 22:22:00,382 - hbmep.model.baseline - INFO - Initialized model with hierarchical_bayesian link\n",
      "2023-09-14 22:22:00,383 - hbmep.dataset.core - INFO - Artefacts will be stored here - /home/vishu/repos/hbmep-paper/reports/simulation/\n",
      "2023-09-14 22:22:00,383 - hbmep.dataset.core - INFO - Copied config to /home/vishu/repos/hbmep-paper/reports/simulation/\n",
      "2023-09-14 22:22:00,384 - hbmep.dataset.core - INFO - Processing data ...\n",
      "2023-09-14 22:22:00,384 - hbmep.utils.utils - INFO - func:load took: 0.00 sec\n",
      "2023-09-14 22:22:00,385 - hbmep.model.baseline - INFO - Running inference with hierarchical_bayesian ...\n"
     ]
    },
    {
     "data": {
      "application/vnd.jupyter.widget-view+json": {
       "model_id": "959e74d1c4a74c539cda8a0fc74b3c62",
       "version_major": 2,
       "version_minor": 0
      },
      "text/plain": [
       "  0%|          | 0/10000 [00:00<?, ?it/s]"
      ]
     },
     "metadata": {},
     "output_type": "display_data"
    },
    {
     "data": {
      "application/vnd.jupyter.widget-view+json": {
       "model_id": "e02c094ce54a429588afe1a41972f3d3",
       "version_major": 2,
       "version_minor": 0
      },
      "text/plain": [
       "  0%|          | 0/10000 [00:00<?, ?it/s]"
      ]
     },
     "metadata": {},
     "output_type": "display_data"
    },
    {
     "data": {
      "application/vnd.jupyter.widget-view+json": {
       "model_id": "e49099009aea447681829a369e191cf0",
       "version_major": 2,
       "version_minor": 0
      },
      "text/plain": [
       "  0%|          | 0/10000 [00:00<?, ?it/s]"
      ]
     },
     "metadata": {},
     "output_type": "display_data"
    },
    {
     "data": {
      "application/vnd.jupyter.widget-view+json": {
       "model_id": "31048afa959b4a6099194b01d27f5cc4",
       "version_major": 2,
       "version_minor": 0
      },
      "text/plain": [
       "  0%|          | 0/10000 [00:00<?, ?it/s]"
      ]
     },
     "metadata": {},
     "output_type": "display_data"
    },
    {
     "name": "stderr",
     "output_type": "stream",
     "text": [
      "2023-09-14 22:52:16,658 - hbmep.utils.utils - INFO - func:run_inference took: 30 min and 16.27 sec\n",
      "2023-09-14 22:52:16,659 - hbmep.model.baseline - INFO - Generating predictions ...\n",
      "2023-09-14 22:52:32,726 - hbmep.utils.utils - INFO - func:predict took: 16.06 sec\n",
      "2023-09-14 22:52:32,785 - hbmep.model.baseline - INFO - Rendering recruitment curves ...\n",
      "2023-09-14 22:52:38,463 - hbmep.model.baseline - INFO - Saved to /home/vishu/repos/hbmep-paper/reports/simulation/checks-3/rec_m03_N90.pdf\n",
      "2023-09-14 22:52:38,463 - hbmep.utils.utils - INFO - func:render_recruitment_curves took: 21.80 sec\n",
      "2023-09-14 22:52:38,463 - hbmep.model.baseline - INFO - Generating predictions ...\n",
      "2023-09-14 22:52:54,511 - hbmep.utils.utils - INFO - func:predict took: 16.04 sec\n",
      "2023-09-14 22:52:54,614 - hbmep.model.baseline - INFO - Rendering Posterior Predictive Check ...\n",
      "2023-09-14 22:53:05,456 - hbmep.model.baseline - INFO - Saved to /home/vishu/repos/hbmep-paper/reports/simulation/checks-3/ppd_m03_N90.pdf\n",
      "2023-09-14 22:53:05,457 - hbmep.utils.utils - INFO - func:render_predictive_check took: 26.99 sec\n",
      "/home/vishu/repos/hbmep-paper/.venv/lib/python3.11/site-packages/arviz/stats/stats.py:803: UserWarning: Estimated shape parameter of Pareto distribution is greater than 0.7 for one or more samples. You should consider using a more robust model, this is because importance sampling is less likely to work well if the marginal posterior and LOO posterior are very different. This is more likely to happen with a non-robust model and highly influential observations.\n",
      "  warnings.warn(\n",
      "/home/vishu/repos/hbmep-paper/.venv/lib/python3.11/site-packages/arviz/stats/stats.py:1645: UserWarning: For one or more samples the posterior variance of the log predictive densities exceeds 0.4. This could be indication of WAIC starting to fail. \n",
      "See http://arxiv.org/abs/1507.04544 for details\n",
      "  warnings.warn(\n",
      "2023-09-14 22:53:11,526 - __main__ - INFO - N: 15, m: 5\n",
      "2023-09-14 22:53:11,534 - hbmep.config - INFO - Verifying configuration ...\n",
      "2023-09-14 22:53:11,534 - hbmep.config - INFO - Success!\n",
      "2023-09-14 22:53:11,534 - hbmep.model.baseline - INFO - Initialized model with hierarchical_bayesian link\n",
      "2023-09-14 22:53:11,534 - hbmep.dataset.core - INFO - Artefacts will be stored here - /home/vishu/repos/hbmep-paper/reports/simulation/\n",
      "2023-09-14 22:53:11,535 - hbmep.dataset.core - INFO - Copied config to /home/vishu/repos/hbmep-paper/reports/simulation/\n",
      "2023-09-14 22:53:11,535 - hbmep.dataset.core - INFO - Processing data ...\n",
      "2023-09-14 22:53:11,536 - hbmep.utils.utils - INFO - func:load took: 0.00 sec\n",
      "2023-09-14 22:53:11,536 - hbmep.model.baseline - INFO - Running inference with hierarchical_bayesian ...\n"
     ]
    },
    {
     "data": {
      "application/vnd.jupyter.widget-view+json": {
       "model_id": "add7cd82492e4a0c95ec5c0cbbc6e099",
       "version_major": 2,
       "version_minor": 0
      },
      "text/plain": [
       "  0%|          | 0/10000 [00:00<?, ?it/s]"
      ]
     },
     "metadata": {},
     "output_type": "display_data"
    },
    {
     "data": {
      "application/vnd.jupyter.widget-view+json": {
       "model_id": "7b18bd4d566b4f6c98490a142e238ed5",
       "version_major": 2,
       "version_minor": 0
      },
      "text/plain": [
       "  0%|          | 0/10000 [00:00<?, ?it/s]"
      ]
     },
     "metadata": {},
     "output_type": "display_data"
    },
    {
     "data": {
      "application/vnd.jupyter.widget-view+json": {
       "model_id": "8ae07a6afa6d49f78b72ae02b73a2bc2",
       "version_major": 2,
       "version_minor": 0
      },
      "text/plain": [
       "  0%|          | 0/10000 [00:00<?, ?it/s]"
      ]
     },
     "metadata": {},
     "output_type": "display_data"
    },
    {
     "data": {
      "application/vnd.jupyter.widget-view+json": {
       "model_id": "674dc5b9076d4d64b0108bc81db6ebe0",
       "version_major": 2,
       "version_minor": 0
      },
      "text/plain": [
       "  0%|          | 0/10000 [00:00<?, ?it/s]"
      ]
     },
     "metadata": {},
     "output_type": "display_data"
    },
    {
     "name": "stderr",
     "output_type": "stream",
     "text": [
      "2023-09-14 22:59:06,394 - hbmep.utils.utils - INFO - func:run_inference took: 5 min and 54.86 sec\n",
      "2023-09-14 22:59:06,395 - hbmep.model.baseline - INFO - Generating predictions ...\n",
      "2023-09-14 22:59:22,394 - hbmep.utils.utils - INFO - func:predict took: 15.99 sec\n",
      "2023-09-14 22:59:22,453 - hbmep.model.baseline - INFO - Rendering recruitment curves ...\n",
      "2023-09-14 22:59:27,737 - hbmep.model.baseline - INFO - Saved to /home/vishu/repos/hbmep-paper/reports/simulation/checks-3/rec_m05_N15.pdf\n",
      "2023-09-14 22:59:27,737 - hbmep.utils.utils - INFO - func:render_recruitment_curves took: 21.34 sec\n",
      "2023-09-14 22:59:27,738 - hbmep.model.baseline - INFO - Generating predictions ...\n",
      "2023-09-14 22:59:43,726 - hbmep.utils.utils - INFO - func:predict took: 15.99 sec\n",
      "2023-09-14 22:59:43,830 - hbmep.model.baseline - INFO - Rendering Posterior Predictive Check ...\n",
      "2023-09-14 22:59:54,592 - hbmep.model.baseline - INFO - Saved to /home/vishu/repos/hbmep-paper/reports/simulation/checks-3/ppd_m05_N15.pdf\n",
      "2023-09-14 22:59:54,594 - hbmep.utils.utils - INFO - func:render_predictive_check took: 26.86 sec\n",
      "/home/vishu/repos/hbmep-paper/.venv/lib/python3.11/site-packages/arviz/stats/stats.py:803: UserWarning: Estimated shape parameter of Pareto distribution is greater than 0.7 for one or more samples. You should consider using a more robust model, this is because importance sampling is less likely to work well if the marginal posterior and LOO posterior are very different. This is more likely to happen with a non-robust model and highly influential observations.\n",
      "  warnings.warn(\n",
      "/home/vishu/repos/hbmep-paper/.venv/lib/python3.11/site-packages/arviz/stats/stats.py:1645: UserWarning: For one or more samples the posterior variance of the log predictive densities exceeds 0.4. This could be indication of WAIC starting to fail. \n",
      "See http://arxiv.org/abs/1507.04544 for details\n",
      "  warnings.warn(\n",
      "2023-09-14 22:59:55,875 - __main__ - INFO - N: 30, m: 5\n",
      "2023-09-14 22:59:55,883 - hbmep.config - INFO - Verifying configuration ...\n",
      "2023-09-14 22:59:55,883 - hbmep.config - INFO - Success!\n",
      "2023-09-14 22:59:55,884 - hbmep.model.baseline - INFO - Initialized model with hierarchical_bayesian link\n",
      "2023-09-14 22:59:55,884 - hbmep.dataset.core - INFO - Artefacts will be stored here - /home/vishu/repos/hbmep-paper/reports/simulation/\n",
      "2023-09-14 22:59:55,884 - hbmep.dataset.core - INFO - Copied config to /home/vishu/repos/hbmep-paper/reports/simulation/\n",
      "2023-09-14 22:59:55,885 - hbmep.dataset.core - INFO - Processing data ...\n",
      "2023-09-14 22:59:55,885 - hbmep.utils.utils - INFO - func:load took: 0.00 sec\n",
      "2023-09-14 22:59:55,886 - hbmep.model.baseline - INFO - Running inference with hierarchical_bayesian ...\n"
     ]
    },
    {
     "data": {
      "application/vnd.jupyter.widget-view+json": {
       "model_id": "418a331749b04fca9ab2290bf3e27bcf",
       "version_major": 2,
       "version_minor": 0
      },
      "text/plain": [
       "  0%|          | 0/10000 [00:00<?, ?it/s]"
      ]
     },
     "metadata": {},
     "output_type": "display_data"
    },
    {
     "data": {
      "application/vnd.jupyter.widget-view+json": {
       "model_id": "477d0b47de924b4f83640185e024829e",
       "version_major": 2,
       "version_minor": 0
      },
      "text/plain": [
       "  0%|          | 0/10000 [00:00<?, ?it/s]"
      ]
     },
     "metadata": {},
     "output_type": "display_data"
    },
    {
     "data": {
      "application/vnd.jupyter.widget-view+json": {
       "model_id": "ec26f90ffc4b4bb4ae0cb1823d0a9e20",
       "version_major": 2,
       "version_minor": 0
      },
      "text/plain": [
       "  0%|          | 0/10000 [00:00<?, ?it/s]"
      ]
     },
     "metadata": {},
     "output_type": "display_data"
    },
    {
     "data": {
      "application/vnd.jupyter.widget-view+json": {
       "model_id": "11f95641ccdf464abaeea6ff1ad2fd3b",
       "version_major": 2,
       "version_minor": 0
      },
      "text/plain": [
       "  0%|          | 0/10000 [00:00<?, ?it/s]"
      ]
     },
     "metadata": {},
     "output_type": "display_data"
    },
    {
     "name": "stderr",
     "output_type": "stream",
     "text": [
      "2023-09-14 23:12:01,939 - hbmep.utils.utils - INFO - func:run_inference took: 12 min and 6.05 sec\n",
      "2023-09-14 23:12:01,940 - hbmep.model.baseline - INFO - Generating predictions ...\n",
      "2023-09-14 23:12:18,012 - hbmep.utils.utils - INFO - func:predict took: 16.07 sec\n",
      "2023-09-14 23:12:18,072 - hbmep.model.baseline - INFO - Rendering recruitment curves ...\n",
      "2023-09-14 23:12:23,942 - hbmep.model.baseline - INFO - Saved to /home/vishu/repos/hbmep-paper/reports/simulation/checks-3/rec_m05_N30.pdf\n",
      "2023-09-14 23:12:23,943 - hbmep.utils.utils - INFO - func:render_recruitment_curves took: 22.00 sec\n",
      "2023-09-14 23:12:23,943 - hbmep.model.baseline - INFO - Generating predictions ...\n",
      "2023-09-14 23:12:39,979 - hbmep.utils.utils - INFO - func:predict took: 16.03 sec\n",
      "2023-09-14 23:12:40,082 - hbmep.model.baseline - INFO - Rendering Posterior Predictive Check ...\n",
      "2023-09-14 23:12:50,494 - hbmep.model.baseline - INFO - Saved to /home/vishu/repos/hbmep-paper/reports/simulation/checks-3/ppd_m05_N30.pdf\n",
      "2023-09-14 23:12:50,495 - hbmep.utils.utils - INFO - func:render_predictive_check took: 26.55 sec\n",
      "/home/vishu/repos/hbmep-paper/.venv/lib/python3.11/site-packages/arviz/stats/stats.py:803: UserWarning: Estimated shape parameter of Pareto distribution is greater than 0.7 for one or more samples. You should consider using a more robust model, this is because importance sampling is less likely to work well if the marginal posterior and LOO posterior are very different. This is more likely to happen with a non-robust model and highly influential observations.\n",
      "  warnings.warn(\n",
      "/home/vishu/repos/hbmep-paper/.venv/lib/python3.11/site-packages/arviz/stats/stats.py:1645: UserWarning: For one or more samples the posterior variance of the log predictive densities exceeds 0.4. This could be indication of WAIC starting to fail. \n",
      "See http://arxiv.org/abs/1507.04544 for details\n",
      "  warnings.warn(\n",
      "2023-09-14 23:12:53,078 - __main__ - INFO - N: 45, m: 5\n",
      "2023-09-14 23:12:53,086 - hbmep.config - INFO - Verifying configuration ...\n",
      "2023-09-14 23:12:53,087 - hbmep.config - INFO - Success!\n",
      "2023-09-14 23:12:53,087 - hbmep.model.baseline - INFO - Initialized model with hierarchical_bayesian link\n",
      "2023-09-14 23:12:53,087 - hbmep.dataset.core - INFO - Artefacts will be stored here - /home/vishu/repos/hbmep-paper/reports/simulation/\n",
      "2023-09-14 23:12:53,087 - hbmep.dataset.core - INFO - Copied config to /home/vishu/repos/hbmep-paper/reports/simulation/\n",
      "2023-09-14 23:12:53,088 - hbmep.dataset.core - INFO - Processing data ...\n",
      "2023-09-14 23:12:53,089 - hbmep.utils.utils - INFO - func:load took: 0.00 sec\n",
      "2023-09-14 23:12:53,089 - hbmep.model.baseline - INFO - Running inference with hierarchical_bayesian ...\n"
     ]
    },
    {
     "data": {
      "application/vnd.jupyter.widget-view+json": {
       "model_id": "48d92764a55940d58ec9fd2d5b70d86d",
       "version_major": 2,
       "version_minor": 0
      },
      "text/plain": [
       "  0%|          | 0/10000 [00:00<?, ?it/s]"
      ]
     },
     "metadata": {},
     "output_type": "display_data"
    },
    {
     "data": {
      "application/vnd.jupyter.widget-view+json": {
       "model_id": "8ecceee7e60f470289df4f3269a64fdf",
       "version_major": 2,
       "version_minor": 0
      },
      "text/plain": [
       "  0%|          | 0/10000 [00:00<?, ?it/s]"
      ]
     },
     "metadata": {},
     "output_type": "display_data"
    },
    {
     "data": {
      "application/vnd.jupyter.widget-view+json": {
       "model_id": "ffadb3db4a79453985e639078bd4c407",
       "version_major": 2,
       "version_minor": 0
      },
      "text/plain": [
       "  0%|          | 0/10000 [00:00<?, ?it/s]"
      ]
     },
     "metadata": {},
     "output_type": "display_data"
    },
    {
     "data": {
      "application/vnd.jupyter.widget-view+json": {
       "model_id": "ee736da589a6448b98e0ccd03a45fad4",
       "version_major": 2,
       "version_minor": 0
      },
      "text/plain": [
       "  0%|          | 0/10000 [00:00<?, ?it/s]"
      ]
     },
     "metadata": {},
     "output_type": "display_data"
    },
    {
     "name": "stderr",
     "output_type": "stream",
     "text": [
      "2023-09-14 23:27:06,968 - hbmep.utils.utils - INFO - func:run_inference took: 14 min and 13.88 sec\n",
      "2023-09-14 23:27:06,969 - hbmep.model.baseline - INFO - Generating predictions ...\n",
      "2023-09-14 23:27:23,027 - hbmep.utils.utils - INFO - func:predict took: 16.05 sec\n",
      "2023-09-14 23:27:23,087 - hbmep.model.baseline - INFO - Rendering recruitment curves ...\n",
      "2023-09-14 23:27:28,529 - hbmep.model.baseline - INFO - Saved to /home/vishu/repos/hbmep-paper/reports/simulation/checks-3/rec_m05_N45.pdf\n",
      "2023-09-14 23:27:28,529 - hbmep.utils.utils - INFO - func:render_recruitment_curves took: 21.56 sec\n",
      "2023-09-14 23:27:28,530 - hbmep.model.baseline - INFO - Generating predictions ...\n",
      "2023-09-14 23:27:44,522 - hbmep.utils.utils - INFO - func:predict took: 15.99 sec\n",
      "2023-09-14 23:27:44,627 - hbmep.model.baseline - INFO - Rendering Posterior Predictive Check ...\n",
      "2023-09-14 23:27:55,392 - hbmep.model.baseline - INFO - Saved to /home/vishu/repos/hbmep-paper/reports/simulation/checks-3/ppd_m05_N45.pdf\n",
      "2023-09-14 23:27:55,394 - hbmep.utils.utils - INFO - func:render_predictive_check took: 26.86 sec\n",
      "/home/vishu/repos/hbmep-paper/.venv/lib/python3.11/site-packages/arviz/stats/stats.py:803: UserWarning: Estimated shape parameter of Pareto distribution is greater than 0.7 for one or more samples. You should consider using a more robust model, this is because importance sampling is less likely to work well if the marginal posterior and LOO posterior are very different. This is more likely to happen with a non-robust model and highly influential observations.\n",
      "  warnings.warn(\n",
      "/home/vishu/repos/hbmep-paper/.venv/lib/python3.11/site-packages/arviz/stats/stats.py:1645: UserWarning: For one or more samples the posterior variance of the log predictive densities exceeds 0.4. This could be indication of WAIC starting to fail. \n",
      "See http://arxiv.org/abs/1507.04544 for details\n",
      "  warnings.warn(\n",
      "2023-09-14 23:27:59,126 - __main__ - INFO - N: 60, m: 5\n",
      "2023-09-14 23:27:59,134 - hbmep.config - INFO - Verifying configuration ...\n",
      "2023-09-14 23:27:59,134 - hbmep.config - INFO - Success!\n",
      "2023-09-14 23:27:59,135 - hbmep.model.baseline - INFO - Initialized model with hierarchical_bayesian link\n",
      "2023-09-14 23:27:59,135 - hbmep.dataset.core - INFO - Artefacts will be stored here - /home/vishu/repos/hbmep-paper/reports/simulation/\n",
      "2023-09-14 23:27:59,135 - hbmep.dataset.core - INFO - Copied config to /home/vishu/repos/hbmep-paper/reports/simulation/\n",
      "2023-09-14 23:27:59,136 - hbmep.dataset.core - INFO - Processing data ...\n",
      "2023-09-14 23:27:59,137 - hbmep.utils.utils - INFO - func:load took: 0.00 sec\n",
      "2023-09-14 23:27:59,137 - hbmep.model.baseline - INFO - Running inference with hierarchical_bayesian ...\n"
     ]
    },
    {
     "data": {
      "application/vnd.jupyter.widget-view+json": {
       "model_id": "3131eec1e9324041b674b3290af8836e",
       "version_major": 2,
       "version_minor": 0
      },
      "text/plain": [
       "  0%|          | 0/10000 [00:00<?, ?it/s]"
      ]
     },
     "metadata": {},
     "output_type": "display_data"
    },
    {
     "data": {
      "application/vnd.jupyter.widget-view+json": {
       "model_id": "5b904c58a3a5408cb4cefa30c8291e5a",
       "version_major": 2,
       "version_minor": 0
      },
      "text/plain": [
       "  0%|          | 0/10000 [00:00<?, ?it/s]"
      ]
     },
     "metadata": {},
     "output_type": "display_data"
    },
    {
     "data": {
      "application/vnd.jupyter.widget-view+json": {
       "model_id": "392ea638c6f0408b8a1b13b73a742bbd",
       "version_major": 2,
       "version_minor": 0
      },
      "text/plain": [
       "  0%|          | 0/10000 [00:00<?, ?it/s]"
      ]
     },
     "metadata": {},
     "output_type": "display_data"
    },
    {
     "data": {
      "application/vnd.jupyter.widget-view+json": {
       "model_id": "a50104b9046a46bcb335015b22653741",
       "version_major": 2,
       "version_minor": 0
      },
      "text/plain": [
       "  0%|          | 0/10000 [00:00<?, ?it/s]"
      ]
     },
     "metadata": {},
     "output_type": "display_data"
    },
    {
     "name": "stderr",
     "output_type": "stream",
     "text": [
      "2023-09-14 23:49:16,075 - hbmep.utils.utils - INFO - func:run_inference took: 21 min and 16.94 sec\n",
      "2023-09-14 23:49:16,076 - hbmep.model.baseline - INFO - Generating predictions ...\n",
      "2023-09-14 23:49:32,137 - hbmep.utils.utils - INFO - func:predict took: 16.06 sec\n",
      "2023-09-14 23:49:32,197 - hbmep.model.baseline - INFO - Rendering recruitment curves ...\n",
      "2023-09-14 23:49:37,779 - hbmep.model.baseline - INFO - Saved to /home/vishu/repos/hbmep-paper/reports/simulation/checks-3/rec_m05_N60.pdf\n",
      "2023-09-14 23:49:37,779 - hbmep.utils.utils - INFO - func:render_recruitment_curves took: 21.70 sec\n",
      "2023-09-14 23:49:37,780 - hbmep.model.baseline - INFO - Generating predictions ...\n",
      "2023-09-14 23:49:53,848 - hbmep.utils.utils - INFO - func:predict took: 16.07 sec\n",
      "2023-09-14 23:49:53,950 - hbmep.model.baseline - INFO - Rendering Posterior Predictive Check ...\n",
      "2023-09-14 23:50:04,732 - hbmep.model.baseline - INFO - Saved to /home/vishu/repos/hbmep-paper/reports/simulation/checks-3/ppd_m05_N60.pdf\n",
      "2023-09-14 23:50:04,734 - hbmep.utils.utils - INFO - func:render_predictive_check took: 26.95 sec\n",
      "/home/vishu/repos/hbmep-paper/.venv/lib/python3.11/site-packages/arviz/stats/stats.py:1645: UserWarning: For one or more samples the posterior variance of the log predictive densities exceeds 0.4. This could be indication of WAIC starting to fail. \n",
      "See http://arxiv.org/abs/1507.04544 for details\n",
      "  warnings.warn(\n",
      "2023-09-14 23:50:08,846 - __main__ - INFO - N: 75, m: 5\n",
      "2023-09-14 23:50:08,854 - hbmep.config - INFO - Verifying configuration ...\n",
      "2023-09-14 23:50:08,855 - hbmep.config - INFO - Success!\n",
      "2023-09-14 23:50:08,855 - hbmep.model.baseline - INFO - Initialized model with hierarchical_bayesian link\n",
      "2023-09-14 23:50:08,856 - hbmep.dataset.core - INFO - Artefacts will be stored here - /home/vishu/repos/hbmep-paper/reports/simulation/\n",
      "2023-09-14 23:50:08,856 - hbmep.dataset.core - INFO - Copied config to /home/vishu/repos/hbmep-paper/reports/simulation/\n",
      "2023-09-14 23:50:08,857 - hbmep.dataset.core - INFO - Processing data ...\n",
      "2023-09-14 23:50:08,858 - hbmep.utils.utils - INFO - func:load took: 0.00 sec\n",
      "2023-09-14 23:50:08,858 - hbmep.model.baseline - INFO - Running inference with hierarchical_bayesian ...\n"
     ]
    },
    {
     "data": {
      "application/vnd.jupyter.widget-view+json": {
       "model_id": "629709471c124f208d8a84256077b150",
       "version_major": 2,
       "version_minor": 0
      },
      "text/plain": [
       "  0%|          | 0/10000 [00:00<?, ?it/s]"
      ]
     },
     "metadata": {},
     "output_type": "display_data"
    },
    {
     "data": {
      "application/vnd.jupyter.widget-view+json": {
       "model_id": "4bedbe8bb7e34886bb3677a28b8f9f5e",
       "version_major": 2,
       "version_minor": 0
      },
      "text/plain": [
       "  0%|          | 0/10000 [00:00<?, ?it/s]"
      ]
     },
     "metadata": {},
     "output_type": "display_data"
    },
    {
     "data": {
      "application/vnd.jupyter.widget-view+json": {
       "model_id": "8eb75858184e4956af49afbe28d5f6a3",
       "version_major": 2,
       "version_minor": 0
      },
      "text/plain": [
       "  0%|          | 0/10000 [00:00<?, ?it/s]"
      ]
     },
     "metadata": {},
     "output_type": "display_data"
    },
    {
     "data": {
      "application/vnd.jupyter.widget-view+json": {
       "model_id": "4da8c9ff9ae34744a5504c11283d35c1",
       "version_major": 2,
       "version_minor": 0
      },
      "text/plain": [
       "  0%|          | 0/10000 [00:00<?, ?it/s]"
      ]
     },
     "metadata": {},
     "output_type": "display_data"
    },
    {
     "name": "stderr",
     "output_type": "stream",
     "text": [
      "2023-09-15 00:15:12,029 - hbmep.utils.utils - INFO - func:run_inference took: 25 min and 3.17 sec\n",
      "2023-09-15 00:15:12,030 - hbmep.model.baseline - INFO - Generating predictions ...\n",
      "2023-09-15 00:15:28,088 - hbmep.utils.utils - INFO - func:predict took: 16.05 sec\n",
      "2023-09-15 00:15:28,148 - hbmep.model.baseline - INFO - Rendering recruitment curves ...\n",
      "2023-09-15 00:15:34,254 - hbmep.model.baseline - INFO - Saved to /home/vishu/repos/hbmep-paper/reports/simulation/checks-3/rec_m05_N75.pdf\n",
      "2023-09-15 00:15:34,254 - hbmep.utils.utils - INFO - func:render_recruitment_curves took: 22.22 sec\n",
      "2023-09-15 00:15:34,254 - hbmep.model.baseline - INFO - Generating predictions ...\n",
      "2023-09-15 00:15:50,301 - hbmep.utils.utils - INFO - func:predict took: 16.04 sec\n",
      "2023-09-15 00:15:50,404 - hbmep.model.baseline - INFO - Rendering Posterior Predictive Check ...\n",
      "2023-09-15 00:16:01,319 - hbmep.model.baseline - INFO - Saved to /home/vishu/repos/hbmep-paper/reports/simulation/checks-3/ppd_m05_N75.pdf\n",
      "2023-09-15 00:16:01,321 - hbmep.utils.utils - INFO - func:render_predictive_check took: 27.07 sec\n",
      "/home/vishu/repos/hbmep-paper/.venv/lib/python3.11/site-packages/arviz/stats/stats.py:1645: UserWarning: For one or more samples the posterior variance of the log predictive densities exceeds 0.4. This could be indication of WAIC starting to fail. \n",
      "See http://arxiv.org/abs/1507.04544 for details\n",
      "  warnings.warn(\n",
      "2023-09-15 00:16:06,396 - __main__ - INFO - N: 90, m: 5\n",
      "2023-09-15 00:16:06,404 - hbmep.config - INFO - Verifying configuration ...\n",
      "2023-09-15 00:16:06,404 - hbmep.config - INFO - Success!\n",
      "2023-09-15 00:16:06,405 - hbmep.model.baseline - INFO - Initialized model with hierarchical_bayesian link\n",
      "2023-09-15 00:16:06,405 - hbmep.dataset.core - INFO - Artefacts will be stored here - /home/vishu/repos/hbmep-paper/reports/simulation/\n",
      "2023-09-15 00:16:06,406 - hbmep.dataset.core - INFO - Copied config to /home/vishu/repos/hbmep-paper/reports/simulation/\n",
      "2023-09-15 00:16:06,406 - hbmep.dataset.core - INFO - Processing data ...\n",
      "2023-09-15 00:16:06,407 - hbmep.utils.utils - INFO - func:load took: 0.00 sec\n",
      "2023-09-15 00:16:06,408 - hbmep.model.baseline - INFO - Running inference with hierarchical_bayesian ...\n"
     ]
    },
    {
     "data": {
      "application/vnd.jupyter.widget-view+json": {
       "model_id": "43c016d487a9452cbdb336dda617755f",
       "version_major": 2,
       "version_minor": 0
      },
      "text/plain": [
       "  0%|          | 0/10000 [00:00<?, ?it/s]"
      ]
     },
     "metadata": {},
     "output_type": "display_data"
    },
    {
     "data": {
      "application/vnd.jupyter.widget-view+json": {
       "model_id": "6fb651aa11cf4e84b48734d2ebf33f21",
       "version_major": 2,
       "version_minor": 0
      },
      "text/plain": [
       "  0%|          | 0/10000 [00:00<?, ?it/s]"
      ]
     },
     "metadata": {},
     "output_type": "display_data"
    },
    {
     "data": {
      "application/vnd.jupyter.widget-view+json": {
       "model_id": "38e1204714f54c1ca4b7710917edfdb9",
       "version_major": 2,
       "version_minor": 0
      },
      "text/plain": [
       "  0%|          | 0/10000 [00:00<?, ?it/s]"
      ]
     },
     "metadata": {},
     "output_type": "display_data"
    },
    {
     "data": {
      "application/vnd.jupyter.widget-view+json": {
       "model_id": "b951d71667094b68bee76d9eaf216d23",
       "version_major": 2,
       "version_minor": 0
      },
      "text/plain": [
       "  0%|          | 0/10000 [00:00<?, ?it/s]"
      ]
     },
     "metadata": {},
     "output_type": "display_data"
    },
    {
     "name": "stderr",
     "output_type": "stream",
     "text": [
      "2023-09-15 00:47:31,474 - hbmep.utils.utils - INFO - func:run_inference took: 31 min and 25.07 sec\n",
      "2023-09-15 00:47:31,475 - hbmep.model.baseline - INFO - Generating predictions ...\n",
      "2023-09-15 00:47:47,522 - hbmep.utils.utils - INFO - func:predict took: 16.04 sec\n",
      "2023-09-15 00:47:47,584 - hbmep.model.baseline - INFO - Rendering recruitment curves ...\n",
      "2023-09-15 00:47:53,254 - hbmep.model.baseline - INFO - Saved to /home/vishu/repos/hbmep-paper/reports/simulation/checks-3/rec_m05_N90.pdf\n",
      "2023-09-15 00:47:53,254 - hbmep.utils.utils - INFO - func:render_recruitment_curves took: 21.78 sec\n",
      "2023-09-15 00:47:53,254 - hbmep.model.baseline - INFO - Generating predictions ...\n",
      "2023-09-15 00:48:09,277 - hbmep.utils.utils - INFO - func:predict took: 16.02 sec\n",
      "2023-09-15 00:48:09,379 - hbmep.model.baseline - INFO - Rendering Posterior Predictive Check ...\n",
      "2023-09-15 00:48:20,250 - hbmep.model.baseline - INFO - Saved to /home/vishu/repos/hbmep-paper/reports/simulation/checks-3/ppd_m05_N90.pdf\n",
      "2023-09-15 00:48:20,251 - hbmep.utils.utils - INFO - func:render_predictive_check took: 27.00 sec\n",
      "/home/vishu/repos/hbmep-paper/.venv/lib/python3.11/site-packages/arviz/stats/stats.py:1645: UserWarning: For one or more samples the posterior variance of the log predictive densities exceeds 0.4. This could be indication of WAIC starting to fail. \n",
      "See http://arxiv.org/abs/1507.04544 for details\n",
      "  warnings.warn(\n",
      "2023-09-15 00:48:26,359 - __main__ - INFO - N: 15, m: 10\n",
      "2023-09-15 00:48:26,368 - hbmep.config - INFO - Verifying configuration ...\n",
      "2023-09-15 00:48:26,368 - hbmep.config - INFO - Success!\n",
      "2023-09-15 00:48:26,368 - hbmep.model.baseline - INFO - Initialized model with hierarchical_bayesian link\n",
      "2023-09-15 00:48:26,369 - hbmep.dataset.core - INFO - Artefacts will be stored here - /home/vishu/repos/hbmep-paper/reports/simulation/\n",
      "2023-09-15 00:48:26,369 - hbmep.dataset.core - INFO - Copied config to /home/vishu/repos/hbmep-paper/reports/simulation/\n",
      "2023-09-15 00:48:26,370 - hbmep.dataset.core - INFO - Processing data ...\n",
      "2023-09-15 00:48:26,371 - hbmep.utils.utils - INFO - func:load took: 0.00 sec\n",
      "2023-09-15 00:48:26,371 - hbmep.model.baseline - INFO - Running inference with hierarchical_bayesian ...\n"
     ]
    },
    {
     "data": {
      "application/vnd.jupyter.widget-view+json": {
       "model_id": "d07d7667f9e048f083d5c52b0a0cf64d",
       "version_major": 2,
       "version_minor": 0
      },
      "text/plain": [
       "  0%|          | 0/10000 [00:00<?, ?it/s]"
      ]
     },
     "metadata": {},
     "output_type": "display_data"
    },
    {
     "data": {
      "application/vnd.jupyter.widget-view+json": {
       "model_id": "44dded3563134379b194337128b936ac",
       "version_major": 2,
       "version_minor": 0
      },
      "text/plain": [
       "  0%|          | 0/10000 [00:00<?, ?it/s]"
      ]
     },
     "metadata": {},
     "output_type": "display_data"
    },
    {
     "data": {
      "application/vnd.jupyter.widget-view+json": {
       "model_id": "498de90a364c409cbc885864c963ce16",
       "version_major": 2,
       "version_minor": 0
      },
      "text/plain": [
       "  0%|          | 0/10000 [00:00<?, ?it/s]"
      ]
     },
     "metadata": {},
     "output_type": "display_data"
    },
    {
     "data": {
      "application/vnd.jupyter.widget-view+json": {
       "model_id": "b44779fa7d254549a69dd7f0544b6b88",
       "version_major": 2,
       "version_minor": 0
      },
      "text/plain": [
       "  0%|          | 0/10000 [00:00<?, ?it/s]"
      ]
     },
     "metadata": {},
     "output_type": "display_data"
    },
    {
     "name": "stderr",
     "output_type": "stream",
     "text": [
      "2023-09-15 00:49:30,227 - hbmep.utils.utils - INFO - func:run_inference took: 1 min and 3.86 sec\n",
      "2023-09-15 00:49:30,228 - hbmep.model.baseline - INFO - Generating predictions ...\n",
      "2023-09-15 00:49:47,168 - hbmep.utils.utils - INFO - func:predict took: 16.94 sec\n",
      "2023-09-15 00:49:47,227 - hbmep.model.baseline - INFO - Rendering recruitment curves ...\n",
      "2023-09-15 00:49:52,100 - hbmep.model.baseline - INFO - Saved to /home/vishu/repos/hbmep-paper/reports/simulation/checks-3/rec_m10_N15.pdf\n",
      "2023-09-15 00:49:52,100 - hbmep.utils.utils - INFO - func:render_recruitment_curves took: 21.87 sec\n",
      "2023-09-15 00:49:52,100 - hbmep.model.baseline - INFO - Generating predictions ...\n",
      "2023-09-15 00:50:08,113 - hbmep.utils.utils - INFO - func:predict took: 16.01 sec\n",
      "2023-09-15 00:50:08,214 - hbmep.model.baseline - INFO - Rendering Posterior Predictive Check ...\n",
      "2023-09-15 00:50:18,241 - hbmep.model.baseline - INFO - Saved to /home/vishu/repos/hbmep-paper/reports/simulation/checks-3/ppd_m10_N15.pdf\n",
      "2023-09-15 00:50:18,243 - hbmep.utils.utils - INFO - func:render_predictive_check took: 26.14 sec\n",
      "/home/vishu/repos/hbmep-paper/.venv/lib/python3.11/site-packages/arviz/stats/stats.py:1037: RuntimeWarning: overflow encountered in exp\n",
      "  weights = 1 / np.exp(len_scale - len_scale[:, None]).sum(axis=1)\n",
      "/home/vishu/repos/hbmep-paper/.venv/lib/python3.11/site-packages/arviz/stats/stats.py:803: UserWarning: Estimated shape parameter of Pareto distribution is greater than 0.7 for one or more samples. You should consider using a more robust model, this is because importance sampling is less likely to work well if the marginal posterior and LOO posterior are very different. This is more likely to happen with a non-robust model and highly influential observations.\n",
      "  warnings.warn(\n",
      "/home/vishu/repos/hbmep-paper/.venv/lib/python3.11/site-packages/arviz/stats/stats.py:1645: UserWarning: For one or more samples the posterior variance of the log predictive densities exceeds 0.4. This could be indication of WAIC starting to fail. \n",
      "See http://arxiv.org/abs/1507.04544 for details\n",
      "  warnings.warn(\n",
      "2023-09-15 00:50:20,648 - __main__ - INFO - N: 30, m: 10\n",
      "2023-09-15 00:50:20,657 - hbmep.config - INFO - Verifying configuration ...\n",
      "2023-09-15 00:50:20,658 - hbmep.config - INFO - Success!\n",
      "2023-09-15 00:50:20,658 - hbmep.model.baseline - INFO - Initialized model with hierarchical_bayesian link\n",
      "2023-09-15 00:50:20,658 - hbmep.dataset.core - INFO - Artefacts will be stored here - /home/vishu/repos/hbmep-paper/reports/simulation/\n",
      "2023-09-15 00:50:20,659 - hbmep.dataset.core - INFO - Copied config to /home/vishu/repos/hbmep-paper/reports/simulation/\n",
      "2023-09-15 00:50:20,660 - hbmep.dataset.core - INFO - Processing data ...\n",
      "2023-09-15 00:50:20,661 - hbmep.utils.utils - INFO - func:load took: 0.00 sec\n",
      "2023-09-15 00:50:20,661 - hbmep.model.baseline - INFO - Running inference with hierarchical_bayesian ...\n"
     ]
    },
    {
     "data": {
      "application/vnd.jupyter.widget-view+json": {
       "model_id": "b9d2f17e8e894d84a3f7ff48ecef1d65",
       "version_major": 2,
       "version_minor": 0
      },
      "text/plain": [
       "  0%|          | 0/10000 [00:00<?, ?it/s]"
      ]
     },
     "metadata": {},
     "output_type": "display_data"
    },
    {
     "data": {
      "application/vnd.jupyter.widget-view+json": {
       "model_id": "c31d50134c324c92afb1c8fa4e7d623f",
       "version_major": 2,
       "version_minor": 0
      },
      "text/plain": [
       "  0%|          | 0/10000 [00:00<?, ?it/s]"
      ]
     },
     "metadata": {},
     "output_type": "display_data"
    },
    {
     "data": {
      "application/vnd.jupyter.widget-view+json": {
       "model_id": "7e51a9ecb7da47fe967d8799b62305d1",
       "version_major": 2,
       "version_minor": 0
      },
      "text/plain": [
       "  0%|          | 0/10000 [00:00<?, ?it/s]"
      ]
     },
     "metadata": {},
     "output_type": "display_data"
    },
    {
     "data": {
      "application/vnd.jupyter.widget-view+json": {
       "model_id": "83322167eb9143e7a3b80d7fb7e4770f",
       "version_major": 2,
       "version_minor": 0
      },
      "text/plain": [
       "  0%|          | 0/10000 [00:00<?, ?it/s]"
      ]
     },
     "metadata": {},
     "output_type": "display_data"
    },
    {
     "name": "stderr",
     "output_type": "stream",
     "text": [
      "2023-09-15 01:01:37,347 - hbmep.utils.utils - INFO - func:run_inference took: 11 min and 16.69 sec\n",
      "2023-09-15 01:01:37,348 - hbmep.model.baseline - INFO - Generating predictions ...\n",
      "2023-09-15 01:01:53,401 - hbmep.utils.utils - INFO - func:predict took: 16.05 sec\n",
      "2023-09-15 01:01:53,460 - hbmep.model.baseline - INFO - Rendering recruitment curves ...\n",
      "2023-09-15 01:01:58,907 - hbmep.model.baseline - INFO - Saved to /home/vishu/repos/hbmep-paper/reports/simulation/checks-3/rec_m10_N30.pdf\n",
      "2023-09-15 01:01:58,908 - hbmep.utils.utils - INFO - func:render_recruitment_curves took: 21.56 sec\n",
      "2023-09-15 01:01:58,908 - hbmep.model.baseline - INFO - Generating predictions ...\n",
      "2023-09-15 01:02:14,941 - hbmep.utils.utils - INFO - func:predict took: 16.03 sec\n",
      "2023-09-15 01:02:15,037 - hbmep.model.baseline - INFO - Rendering Posterior Predictive Check ...\n",
      "2023-09-15 01:02:25,875 - hbmep.model.baseline - INFO - Saved to /home/vishu/repos/hbmep-paper/reports/simulation/checks-3/ppd_m10_N30.pdf\n",
      "2023-09-15 01:02:25,877 - hbmep.utils.utils - INFO - func:render_predictive_check took: 26.97 sec\n",
      "/home/vishu/repos/hbmep-paper/.venv/lib/python3.11/site-packages/arviz/stats/stats.py:1037: RuntimeWarning: overflow encountered in exp\n",
      "  weights = 1 / np.exp(len_scale - len_scale[:, None]).sum(axis=1)\n",
      "/home/vishu/repos/hbmep-paper/.venv/lib/python3.11/site-packages/arviz/stats/stats.py:803: UserWarning: Estimated shape parameter of Pareto distribution is greater than 0.7 for one or more samples. You should consider using a more robust model, this is because importance sampling is less likely to work well if the marginal posterior and LOO posterior are very different. This is more likely to happen with a non-robust model and highly influential observations.\n",
      "  warnings.warn(\n",
      "/home/vishu/repos/hbmep-paper/.venv/lib/python3.11/site-packages/arviz/stats/stats.py:1645: UserWarning: For one or more samples the posterior variance of the log predictive densities exceeds 0.4. This could be indication of WAIC starting to fail. \n",
      "See http://arxiv.org/abs/1507.04544 for details\n",
      "  warnings.warn(\n",
      "2023-09-15 01:02:28,102 - __main__ - INFO - N: 45, m: 10\n",
      "2023-09-15 01:02:28,111 - hbmep.config - INFO - Verifying configuration ...\n",
      "2023-09-15 01:02:28,111 - hbmep.config - INFO - Success!\n",
      "2023-09-15 01:02:28,111 - hbmep.model.baseline - INFO - Initialized model with hierarchical_bayesian link\n",
      "2023-09-15 01:02:28,112 - hbmep.dataset.core - INFO - Artefacts will be stored here - /home/vishu/repos/hbmep-paper/reports/simulation/\n",
      "2023-09-15 01:02:28,112 - hbmep.dataset.core - INFO - Copied config to /home/vishu/repos/hbmep-paper/reports/simulation/\n",
      "2023-09-15 01:02:28,113 - hbmep.dataset.core - INFO - Processing data ...\n",
      "2023-09-15 01:02:28,114 - hbmep.utils.utils - INFO - func:load took: 0.00 sec\n",
      "2023-09-15 01:02:28,115 - hbmep.model.baseline - INFO - Running inference with hierarchical_bayesian ...\n"
     ]
    },
    {
     "data": {
      "application/vnd.jupyter.widget-view+json": {
       "model_id": "7a6628f7ec7049ce90fe04f67a000784",
       "version_major": 2,
       "version_minor": 0
      },
      "text/plain": [
       "  0%|          | 0/10000 [00:00<?, ?it/s]"
      ]
     },
     "metadata": {},
     "output_type": "display_data"
    },
    {
     "data": {
      "application/vnd.jupyter.widget-view+json": {
       "model_id": "45569a73c92e487e8ef174fadffb1bc7",
       "version_major": 2,
       "version_minor": 0
      },
      "text/plain": [
       "  0%|          | 0/10000 [00:00<?, ?it/s]"
      ]
     },
     "metadata": {},
     "output_type": "display_data"
    },
    {
     "data": {
      "application/vnd.jupyter.widget-view+json": {
       "model_id": "eaec5c1f4fce442fa229cc981e1b74a0",
       "version_major": 2,
       "version_minor": 0
      },
      "text/plain": [
       "  0%|          | 0/10000 [00:00<?, ?it/s]"
      ]
     },
     "metadata": {},
     "output_type": "display_data"
    },
    {
     "data": {
      "application/vnd.jupyter.widget-view+json": {
       "model_id": "8638dcd6dd0c4704bc9a4b5e9d50d36b",
       "version_major": 2,
       "version_minor": 0
      },
      "text/plain": [
       "  0%|          | 0/10000 [00:00<?, ?it/s]"
      ]
     },
     "metadata": {},
     "output_type": "display_data"
    },
    {
     "name": "stderr",
     "output_type": "stream",
     "text": [
      "2023-09-15 01:17:08,044 - hbmep.utils.utils - INFO - func:run_inference took: 14 min and 39.93 sec\n",
      "2023-09-15 01:17:08,045 - hbmep.model.baseline - INFO - Generating predictions ...\n",
      "2023-09-15 01:17:24,131 - hbmep.utils.utils - INFO - func:predict took: 16.08 sec\n",
      "2023-09-15 01:17:24,192 - hbmep.model.baseline - INFO - Rendering recruitment curves ...\n",
      "2023-09-15 01:17:30,096 - hbmep.model.baseline - INFO - Saved to /home/vishu/repos/hbmep-paper/reports/simulation/checks-3/rec_m10_N45.pdf\n",
      "2023-09-15 01:17:30,096 - hbmep.utils.utils - INFO - func:render_recruitment_curves took: 22.05 sec\n",
      "2023-09-15 01:17:30,097 - hbmep.model.baseline - INFO - Generating predictions ...\n",
      "2023-09-15 01:17:46,126 - hbmep.utils.utils - INFO - func:predict took: 16.03 sec\n",
      "2023-09-15 01:17:46,230 - hbmep.model.baseline - INFO - Rendering Posterior Predictive Check ...\n",
      "2023-09-15 01:17:57,180 - hbmep.model.baseline - INFO - Saved to /home/vishu/repos/hbmep-paper/reports/simulation/checks-3/ppd_m10_N45.pdf\n",
      "2023-09-15 01:17:57,182 - hbmep.utils.utils - INFO - func:render_predictive_check took: 27.09 sec\n",
      "/home/vishu/repos/hbmep-paper/.venv/lib/python3.11/site-packages/arviz/stats/stats.py:1037: RuntimeWarning: overflow encountered in exp\n",
      "  weights = 1 / np.exp(len_scale - len_scale[:, None]).sum(axis=1)\n",
      "/home/vishu/repos/hbmep-paper/.venv/lib/python3.11/site-packages/arviz/stats/stats.py:803: UserWarning: Estimated shape parameter of Pareto distribution is greater than 0.7 for one or more samples. You should consider using a more robust model, this is because importance sampling is less likely to work well if the marginal posterior and LOO posterior are very different. This is more likely to happen with a non-robust model and highly influential observations.\n",
      "  warnings.warn(\n",
      "/home/vishu/repos/hbmep-paper/.venv/lib/python3.11/site-packages/arviz/stats/stats.py:1645: UserWarning: For one or more samples the posterior variance of the log predictive densities exceeds 0.4. This could be indication of WAIC starting to fail. \n",
      "See http://arxiv.org/abs/1507.04544 for details\n",
      "  warnings.warn(\n",
      "2023-09-15 01:18:00,454 - __main__ - INFO - N: 60, m: 10\n",
      "2023-09-15 01:18:00,463 - hbmep.config - INFO - Verifying configuration ...\n",
      "2023-09-15 01:18:00,463 - hbmep.config - INFO - Success!\n",
      "2023-09-15 01:18:00,464 - hbmep.model.baseline - INFO - Initialized model with hierarchical_bayesian link\n",
      "2023-09-15 01:18:00,464 - hbmep.dataset.core - INFO - Artefacts will be stored here - /home/vishu/repos/hbmep-paper/reports/simulation/\n",
      "2023-09-15 01:18:00,464 - hbmep.dataset.core - INFO - Copied config to /home/vishu/repos/hbmep-paper/reports/simulation/\n",
      "2023-09-15 01:18:00,465 - hbmep.dataset.core - INFO - Processing data ...\n",
      "2023-09-15 01:18:00,466 - hbmep.utils.utils - INFO - func:load took: 0.00 sec\n",
      "2023-09-15 01:18:00,466 - hbmep.model.baseline - INFO - Running inference with hierarchical_bayesian ...\n"
     ]
    },
    {
     "data": {
      "application/vnd.jupyter.widget-view+json": {
       "model_id": "597d21362165462a8c01d8b3677721d3",
       "version_major": 2,
       "version_minor": 0
      },
      "text/plain": [
       "  0%|          | 0/10000 [00:00<?, ?it/s]"
      ]
     },
     "metadata": {},
     "output_type": "display_data"
    },
    {
     "data": {
      "application/vnd.jupyter.widget-view+json": {
       "model_id": "0c631ade35bb454899f5d6dd1591451c",
       "version_major": 2,
       "version_minor": 0
      },
      "text/plain": [
       "  0%|          | 0/10000 [00:00<?, ?it/s]"
      ]
     },
     "metadata": {},
     "output_type": "display_data"
    },
    {
     "data": {
      "application/vnd.jupyter.widget-view+json": {
       "model_id": "ca9a99b8786d4feb8e6830029c91fcfa",
       "version_major": 2,
       "version_minor": 0
      },
      "text/plain": [
       "  0%|          | 0/10000 [00:00<?, ?it/s]"
      ]
     },
     "metadata": {},
     "output_type": "display_data"
    },
    {
     "data": {
      "application/vnd.jupyter.widget-view+json": {
       "model_id": "8785dde7234847448d589d6520ea2c2f",
       "version_major": 2,
       "version_minor": 0
      },
      "text/plain": [
       "  0%|          | 0/10000 [00:00<?, ?it/s]"
      ]
     },
     "metadata": {},
     "output_type": "display_data"
    },
    {
     "name": "stderr",
     "output_type": "stream",
     "text": [
      "2023-09-15 01:40:10,690 - hbmep.utils.utils - INFO - func:run_inference took: 22 min and 10.22 sec\n",
      "2023-09-15 01:40:10,691 - hbmep.model.baseline - INFO - Generating predictions ...\n",
      "2023-09-15 01:40:26,737 - hbmep.utils.utils - INFO - func:predict took: 16.04 sec\n",
      "2023-09-15 01:40:26,797 - hbmep.model.baseline - INFO - Rendering recruitment curves ...\n",
      "2023-09-15 01:40:32,905 - hbmep.model.baseline - INFO - Saved to /home/vishu/repos/hbmep-paper/reports/simulation/checks-3/rec_m10_N60.pdf\n",
      "2023-09-15 01:40:32,906 - hbmep.utils.utils - INFO - func:render_recruitment_curves took: 22.21 sec\n",
      "2023-09-15 01:40:32,906 - hbmep.model.baseline - INFO - Generating predictions ...\n",
      "2023-09-15 01:40:48,916 - hbmep.utils.utils - INFO - func:predict took: 16.01 sec\n",
      "2023-09-15 01:40:49,019 - hbmep.model.baseline - INFO - Rendering Posterior Predictive Check ...\n",
      "2023-09-15 01:40:59,438 - hbmep.model.baseline - INFO - Saved to /home/vishu/repos/hbmep-paper/reports/simulation/checks-3/ppd_m10_N60.pdf\n",
      "2023-09-15 01:40:59,440 - hbmep.utils.utils - INFO - func:render_predictive_check took: 26.53 sec\n",
      "/home/vishu/repos/hbmep-paper/.venv/lib/python3.11/site-packages/arviz/stats/stats.py:803: UserWarning: Estimated shape parameter of Pareto distribution is greater than 0.7 for one or more samples. You should consider using a more robust model, this is because importance sampling is less likely to work well if the marginal posterior and LOO posterior are very different. This is more likely to happen with a non-robust model and highly influential observations.\n",
      "  warnings.warn(\n",
      "/home/vishu/repos/hbmep-paper/.venv/lib/python3.11/site-packages/arviz/stats/stats.py:1645: UserWarning: For one or more samples the posterior variance of the log predictive densities exceeds 0.4. This could be indication of WAIC starting to fail. \n",
      "See http://arxiv.org/abs/1507.04544 for details\n",
      "  warnings.warn(\n",
      "2023-09-15 01:41:03,477 - __main__ - INFO - N: 75, m: 10\n",
      "2023-09-15 01:41:03,487 - hbmep.config - INFO - Verifying configuration ...\n",
      "2023-09-15 01:41:03,487 - hbmep.config - INFO - Success!\n",
      "2023-09-15 01:41:03,488 - hbmep.model.baseline - INFO - Initialized model with hierarchical_bayesian link\n",
      "2023-09-15 01:41:03,488 - hbmep.dataset.core - INFO - Artefacts will be stored here - /home/vishu/repos/hbmep-paper/reports/simulation/\n",
      "2023-09-15 01:41:03,488 - hbmep.dataset.core - INFO - Copied config to /home/vishu/repos/hbmep-paper/reports/simulation/\n",
      "2023-09-15 01:41:03,489 - hbmep.dataset.core - INFO - Processing data ...\n",
      "2023-09-15 01:41:03,490 - hbmep.utils.utils - INFO - func:load took: 0.00 sec\n",
      "2023-09-15 01:41:03,490 - hbmep.model.baseline - INFO - Running inference with hierarchical_bayesian ...\n"
     ]
    },
    {
     "data": {
      "application/vnd.jupyter.widget-view+json": {
       "model_id": "5ab21da602564c90b8525d1115381654",
       "version_major": 2,
       "version_minor": 0
      },
      "text/plain": [
       "  0%|          | 0/10000 [00:00<?, ?it/s]"
      ]
     },
     "metadata": {},
     "output_type": "display_data"
    },
    {
     "data": {
      "application/vnd.jupyter.widget-view+json": {
       "model_id": "034087f3a0aa40dbb6b06065dc397309",
       "version_major": 2,
       "version_minor": 0
      },
      "text/plain": [
       "  0%|          | 0/10000 [00:00<?, ?it/s]"
      ]
     },
     "metadata": {},
     "output_type": "display_data"
    },
    {
     "data": {
      "application/vnd.jupyter.widget-view+json": {
       "model_id": "ba91bb2615c944febb16c51472db2b8b",
       "version_major": 2,
       "version_minor": 0
      },
      "text/plain": [
       "  0%|          | 0/10000 [00:00<?, ?it/s]"
      ]
     },
     "metadata": {},
     "output_type": "display_data"
    },
    {
     "data": {
      "application/vnd.jupyter.widget-view+json": {
       "model_id": "3c1c9e77e04e4ad8908deaa7c2cc1543",
       "version_major": 2,
       "version_minor": 0
      },
      "text/plain": [
       "  0%|          | 0/10000 [00:00<?, ?it/s]"
      ]
     },
     "metadata": {},
     "output_type": "display_data"
    },
    {
     "name": "stderr",
     "output_type": "stream",
     "text": [
      "2023-09-15 02:04:12,199 - hbmep.utils.utils - INFO - func:run_inference took: 23 min and 8.71 sec\n",
      "2023-09-15 02:04:12,200 - hbmep.model.baseline - INFO - Generating predictions ...\n",
      "2023-09-15 02:04:28,334 - hbmep.utils.utils - INFO - func:predict took: 16.13 sec\n",
      "2023-09-15 02:04:28,393 - hbmep.model.baseline - INFO - Rendering recruitment curves ...\n",
      "2023-09-15 02:04:33,849 - hbmep.model.baseline - INFO - Saved to /home/vishu/repos/hbmep-paper/reports/simulation/checks-3/rec_m10_N75.pdf\n",
      "2023-09-15 02:04:33,849 - hbmep.utils.utils - INFO - func:render_recruitment_curves took: 21.65 sec\n",
      "2023-09-15 02:04:33,850 - hbmep.model.baseline - INFO - Generating predictions ...\n",
      "2023-09-15 02:04:49,896 - hbmep.utils.utils - INFO - func:predict took: 16.04 sec\n",
      "2023-09-15 02:04:49,998 - hbmep.model.baseline - INFO - Rendering Posterior Predictive Check ...\n",
      "2023-09-15 02:05:01,159 - hbmep.model.baseline - INFO - Saved to /home/vishu/repos/hbmep-paper/reports/simulation/checks-3/ppd_m10_N75.pdf\n",
      "2023-09-15 02:05:01,161 - hbmep.utils.utils - INFO - func:render_predictive_check took: 27.31 sec\n",
      "/home/vishu/repos/hbmep-paper/.venv/lib/python3.11/site-packages/arviz/stats/stats.py:803: UserWarning: Estimated shape parameter of Pareto distribution is greater than 0.7 for one or more samples. You should consider using a more robust model, this is because importance sampling is less likely to work well if the marginal posterior and LOO posterior are very different. This is more likely to happen with a non-robust model and highly influential observations.\n",
      "  warnings.warn(\n",
      "/home/vishu/repos/hbmep-paper/.venv/lib/python3.11/site-packages/arviz/stats/stats.py:1645: UserWarning: For one or more samples the posterior variance of the log predictive densities exceeds 0.4. This could be indication of WAIC starting to fail. \n",
      "See http://arxiv.org/abs/1507.04544 for details\n",
      "  warnings.warn(\n",
      "2023-09-15 02:05:06,059 - __main__ - INFO - N: 90, m: 10\n",
      "2023-09-15 02:05:06,068 - hbmep.config - INFO - Verifying configuration ...\n",
      "2023-09-15 02:05:06,068 - hbmep.config - INFO - Success!\n",
      "2023-09-15 02:05:06,069 - hbmep.model.baseline - INFO - Initialized model with hierarchical_bayesian link\n",
      "2023-09-15 02:05:06,069 - hbmep.dataset.core - INFO - Artefacts will be stored here - /home/vishu/repos/hbmep-paper/reports/simulation/\n",
      "2023-09-15 02:05:06,070 - hbmep.dataset.core - INFO - Copied config to /home/vishu/repos/hbmep-paper/reports/simulation/\n",
      "2023-09-15 02:05:06,070 - hbmep.dataset.core - INFO - Processing data ...\n",
      "2023-09-15 02:05:06,071 - hbmep.utils.utils - INFO - func:load took: 0.00 sec\n",
      "2023-09-15 02:05:06,072 - hbmep.model.baseline - INFO - Running inference with hierarchical_bayesian ...\n"
     ]
    },
    {
     "data": {
      "application/vnd.jupyter.widget-view+json": {
       "model_id": "3e0b4a03b58d427daf7fefb3e7ff0bc2",
       "version_major": 2,
       "version_minor": 0
      },
      "text/plain": [
       "  0%|          | 0/10000 [00:00<?, ?it/s]"
      ]
     },
     "metadata": {},
     "output_type": "display_data"
    },
    {
     "data": {
      "application/vnd.jupyter.widget-view+json": {
       "model_id": "753c9e6abbef4dfe845cdb375faf2f66",
       "version_major": 2,
       "version_minor": 0
      },
      "text/plain": [
       "  0%|          | 0/10000 [00:00<?, ?it/s]"
      ]
     },
     "metadata": {},
     "output_type": "display_data"
    },
    {
     "data": {
      "application/vnd.jupyter.widget-view+json": {
       "model_id": "a01c3f82579248e794d1ce1082fbc052",
       "version_major": 2,
       "version_minor": 0
      },
      "text/plain": [
       "  0%|          | 0/10000 [00:00<?, ?it/s]"
      ]
     },
     "metadata": {},
     "output_type": "display_data"
    },
    {
     "data": {
      "application/vnd.jupyter.widget-view+json": {
       "model_id": "8a205ef0049a43a191f6aa106cf17305",
       "version_major": 2,
       "version_minor": 0
      },
      "text/plain": [
       "  0%|          | 0/10000 [00:00<?, ?it/s]"
      ]
     },
     "metadata": {},
     "output_type": "display_data"
    }
   ],
   "source": [
    "subdir = \"checks-3\"\n",
    "\n",
    "x_space = df_full[model.intensity].unique()\n",
    "\n",
    "N_space = [15, 30, 45, 60, 75, 90]\n",
    "m_space = [1, 3, 5, 10]\n",
    "\n",
    "# N_space = [15, 30]\n",
    "# m_space = [1]\n",
    "\n",
    "scores = []\n",
    "err_mae = []\n",
    "err_mse = []\n",
    "\n",
    "N_space_counter = 0\n",
    "m_space_counter = 0\n",
    "\n",
    "draw_ind = 0\n",
    "\n",
    "for m_ind, m in enumerate(m_space):\n",
    "    curr_scores = []\n",
    "    curr_mae = []\n",
    "    curr_mse = []\n",
    "\n",
    "    for N_ind, N in enumerate(N_space):\n",
    "        logger.info(f\"N: {N}, m: {m}\")\n",
    "        N_eff = N // m\n",
    "\n",
    "        ind = np.round(np.linspace(0, x_space.shape[0] - 1, N_eff)).astype(int)\n",
    "        ind = df_full[model.intensity].isin(x_space[ind])\n",
    "        df = df_full[ind].reset_index(drop=True).copy()\n",
    "\n",
    "        for muscle_ind, muscle in enumerate(model.response):\n",
    "            reponse_columns = [muscle + f\"{i:02}\" for i in range(m)]\n",
    "            df[reponse_columns] = obs[..., :m, ind, muscle_ind][draw_ind, ...].T\n",
    "\n",
    "        df[\"id\"] = df.index\n",
    "        df = pd.wide_to_long(df, stubnames=model.response, i=\"id\", j=\"var_name\").reset_index(drop=True)\n",
    "\n",
    "        \"\"\" Build model \"\"\"\n",
    "        config = Config(toml_path=toml_path)\n",
    "        model = HierarchicalBayesianModel(config=config)\n",
    "        model.recruitment_curves_path = os.path.join(model.build_dir, subdir, f\"rec_m{m:02}_N{N:02}.pdf\")\n",
    "        model.posterior_predictive_path = os.path.join(model.build_dir, subdir, f\"ppd_m{m:02}_N{N:02}.pdf\")\n",
    "\n",
    "        \"\"\" Load \"\"\"\n",
    "        df, encoder_dict = model.load(df=df)\n",
    "\n",
    "        \"\"\" Fit \"\"\"\n",
    "        mcmc, posterior_samples = model.run_inference(df=df)\n",
    "\n",
    "        \"\"\" Plot \"\"\"\n",
    "        model.render_recruitment_curves(df=df, encoder_dict=encoder_dict, posterior_samples=posterior_samples)\n",
    "        model.render_predictive_check(df=df, encoder_dict=encoder_dict, posterior_samples=posterior_samples)\n",
    "\n",
    "        \"\"\" Threshold \"\"\"\n",
    "        threshold = posterior_samples[site.a].mean(axis=0)\n",
    "        threshold_true = posterior_samples_true[site.a][draw_ind, ...]\n",
    "\n",
    "        \"\"\" Scores \"\"\"\n",
    "        mae = np.abs(threshold - threshold_true)\n",
    "        mse = (mae ** 2).mean(axis=-1).reshape(-1,).tolist()\n",
    "        mae = mae.mean(axis=-1).reshape(-1,).tolist()\n",
    "\n",
    "        numpyro_data = az.from_numpyro(mcmc)\n",
    "        loo_score = az.loo(numpyro_data).elpd_loo\n",
    "        waic_score = az.waic(numpyro_data).elpd_waic\n",
    "\n",
    "        scores_row = [loo_score, waic_score]\n",
    "        curr_scores.append(scores_row)\n",
    "        curr_mae.append(mae)\n",
    "        curr_mse.append(mse)\n",
    "\n",
    "    scores.append(curr_scores)\n",
    "    err_mae.append(curr_mae)\n",
    "    err_mse.append(curr_mse)\n",
    "\n",
    "scores = np.array(scores)\n",
    "err_mae = np.array(err_mae)\n",
    "err_mse = np.array(err_mse)\n"
   ]
  },
  {
   "cell_type": "code",
   "execution_count": 9,
   "metadata": {},
   "outputs": [
    {
     "data": {
      "text/plain": [
       "(2, 3, 2)"
      ]
     },
     "execution_count": 9,
     "metadata": {},
     "output_type": "execute_result"
    }
   ],
   "source": [
    "err_mae.shape"
   ]
  },
  {
   "cell_type": "code",
   "execution_count": 15,
   "metadata": {},
   "outputs": [],
   "source": [
    "err_mae_mean = err_mae.mean(axis=-1)\n",
    "err_mse_mean = err_mse.mean(axis=-1)"
   ]
  },
  {
   "cell_type": "code",
   "execution_count": 11,
   "metadata": {},
   "outputs": [
    {
     "data": {
      "text/plain": [
       "(2, 3)"
      ]
     },
     "execution_count": 11,
     "metadata": {},
     "output_type": "execute_result"
    }
   ],
   "source": [
    "err_mae_mean.shape"
   ]
  },
  {
   "cell_type": "code",
   "execution_count": 16,
   "metadata": {},
   "outputs": [
    {
     "data": {
      "image/png": "[encoded data removed]",
      "text/plain": [
       "<Figure size 2000x300 with 4 Axes>"
      ]
     },
     "metadata": {},
     "output_type": "display_data"
    }
   ],
   "source": [
    "nrows, ncols = 1, 4\n",
    "fig, axes = plt.subplots(nrows=nrows, ncols=ncols, figsize=(5 * ncols, 3 * nrows), squeeze=False, constrained_layout=True, sharex=\"row\")\n",
    "\n",
    "metrics = [\"loo\", \"waic\"]\n",
    "for j, m in enumerate(m_space):\n",
    "    for i, metric in enumerate(metrics):\n",
    "        ax = axes[0, i]\n",
    "        sns.lineplot(x=N_space, y=scores[j, ..., i], marker=\"o\", linestyle=\"dashed\", ms=8, ax=ax, label=f\"m = {m}\")\n",
    "\n",
    "    ax = axes[0, 2]\n",
    "    sns.lineplot(x=N_space, y=err_mae_mean[j, ...], marker=\"o\", linestyle=\"dashed\", ms=8, ax=ax, label=f\"m = {m}\")\n",
    "\n",
    "    ax = axes[0, 3]\n",
    "    sns.lineplot(x=N_space, y=err_mse_mean[j, ...], marker=\"o\", linestyle=\"dashed\", ms=8, ax=ax, label=f\"m = {m}\")\n",
    "\n",
    "for i, metric in enumerate(metrics):\n",
    "    ax.set_title(metric)\n",
    "\n",
    "\n",
    "\n",
    "\n"
   ]
  },
  {
   "cell_type": "code",
   "execution_count": null,
   "metadata": {},
   "outputs": [],
   "source": []
  },
  {
   "cell_type": "code",
   "execution_count": 8,
   "metadata": {},
   "outputs": [
    {
     "data": {
      "text/plain": [
       "(1, 3, 4)"
      ]
     },
     "execution_count": 8,
     "metadata": {},
     "output_type": "execute_result"
    }
   ],
   "source": [
    "scores.shape"
   ]
  },
  {
   "cell_type": "code",
   "execution_count": 9,
   "metadata": {},
   "outputs": [
    {
     "data": {
      "text/plain": [
       "(5, 2, 3, 3)"
      ]
     },
     "execution_count": 9,
     "metadata": {},
     "output_type": "execute_result"
    }
   ],
   "source": [
    "posterior_samples_true[site.a].shape"
   ]
  },
  {
   "cell_type": "code",
   "execution_count": 37,
   "metadata": {},
   "outputs": [
    {
     "data": {
      "text/html": [
       "<div>\n",
       "<style scoped>\n",
       "    .dataframe tbody tr th:only-of-type {\n",
       "        vertical-align: middle;\n",
       "    }\n",
       "\n",
       "    .dataframe tbody tr th {\n",
       "        vertical-align: top;\n",
       "    }\n",
       "\n",
       "    .dataframe thead th {\n",
       "        text-align: right;\n",
       "    }\n",
       "</style>\n",
       "<table border=\"1\" class=\"dataframe\">\n",
       "  <thead>\n",
       "    <tr style=\"text-align: right;\">\n",
       "      <th></th>\n",
       "      <th>participant</th>\n",
       "      <th>compound_position</th>\n",
       "      <th>pulse_amplitude</th>\n",
       "    </tr>\n",
       "  </thead>\n",
       "  <tbody>\n",
       "    <tr>\n",
       "      <th>0</th>\n",
       "      <td>0</td>\n",
       "      <td>0</td>\n",
       "      <td>0.000000</td>\n",
       "    </tr>\n",
       "    <tr>\n",
       "      <th>1</th>\n",
       "      <td>0</td>\n",
       "      <td>0</td>\n",
       "      <td>3.636364</td>\n",
       "    </tr>\n",
       "    <tr>\n",
       "      <th>2</th>\n",
       "      <td>0</td>\n",
       "      <td>0</td>\n",
       "      <td>7.272727</td>\n",
       "    </tr>\n",
       "    <tr>\n",
       "      <th>3</th>\n",
       "      <td>0</td>\n",
       "      <td>0</td>\n",
       "      <td>10.909091</td>\n",
       "    </tr>\n",
       "    <tr>\n",
       "      <th>4</th>\n",
       "      <td>0</td>\n",
       "      <td>0</td>\n",
       "      <td>14.545455</td>\n",
       "    </tr>\n",
       "    <tr>\n",
       "      <th>...</th>\n",
       "      <td>...</td>\n",
       "      <td>...</td>\n",
       "      <td>...</td>\n",
       "    </tr>\n",
       "    <tr>\n",
       "      <th>95</th>\n",
       "      <td>0</td>\n",
       "      <td>0</td>\n",
       "      <td>345.454545</td>\n",
       "    </tr>\n",
       "    <tr>\n",
       "      <th>96</th>\n",
       "      <td>0</td>\n",
       "      <td>0</td>\n",
       "      <td>349.090909</td>\n",
       "    </tr>\n",
       "    <tr>\n",
       "      <th>97</th>\n",
       "      <td>0</td>\n",
       "      <td>0</td>\n",
       "      <td>352.727273</td>\n",
       "    </tr>\n",
       "    <tr>\n",
       "      <th>98</th>\n",
       "      <td>0</td>\n",
       "      <td>0</td>\n",
       "      <td>356.363636</td>\n",
       "    </tr>\n",
       "    <tr>\n",
       "      <th>99</th>\n",
       "      <td>0</td>\n",
       "      <td>0</td>\n",
       "      <td>360.000000</td>\n",
       "    </tr>\n",
       "  </tbody>\n",
       "</table>\n",
       "<p>100 rows × 3 columns</p>\n",
       "</div>"
      ],
      "text/plain": [
       "    participant  compound_position  pulse_amplitude\n",
       "0             0                  0         0.000000\n",
       "1             0                  0         3.636364\n",
       "2             0                  0         7.272727\n",
       "3             0                  0        10.909091\n",
       "4             0                  0        14.545455\n",
       "..          ...                ...              ...\n",
       "95            0                  0       345.454545\n",
       "96            0                  0       349.090909\n",
       "97            0                  0       352.727273\n",
       "98            0                  0       356.363636\n",
       "99            0                  0       360.000000\n",
       "\n",
       "[100 rows x 3 columns]"
      ]
     },
     "execution_count": 37,
     "metadata": {},
     "output_type": "execute_result"
    }
   ],
   "source": [
    "pred_df"
   ]
  },
  {
   "cell_type": "code",
   "execution_count": 35,
   "metadata": {},
   "outputs": [
    {
     "data": {
      "text/plain": [
       "(24000, 100, 3)"
      ]
     },
     "execution_count": 35,
     "metadata": {},
     "output_type": "execute_result"
    }
   ],
   "source": [
    "mu_posterior.shape"
   ]
  },
  {
   "cell_type": "code",
   "execution_count": 34,
   "metadata": {},
   "outputs": [
    {
     "data": {
      "text/plain": [
       "(2, 100, 3)"
      ]
     },
     "execution_count": 34,
     "metadata": {},
     "output_type": "execute_result"
    }
   ],
   "source": [
    "hpdi_mu_95[0, ...]"
   ]
  },
  {
   "cell_type": "code",
   "execution_count": 33,
   "metadata": {},
   "outputs": [
    {
     "data": {
      "text/plain": [
       "(24000, 1, 1, 3)"
      ]
     },
     "execution_count": 33,
     "metadata": {},
     "output_type": "execute_result"
    }
   ],
   "source": [
    "threshold_posterior.shape"
   ]
  },
  {
   "cell_type": "code",
   "execution_count": 32,
   "metadata": {},
   "outputs": [
    {
     "data": {
      "text/plain": [
       "(1, 1, 3)"
      ]
     },
     "execution_count": 32,
     "metadata": {},
     "output_type": "execute_result"
    }
   ],
   "source": [
    "threshold.shape"
   ]
  },
  {
   "cell_type": "code",
   "execution_count": 31,
   "metadata": {},
   "outputs": [
    {
     "data": {
      "text/plain": [
       "(1, 1)"
      ]
     },
     "execution_count": 31,
     "metadata": {},
     "output_type": "execute_result"
    }
   ],
   "source": [
    "hpdi_interval[0, ..., 0].shape"
   ]
  },
  {
   "cell_type": "code",
   "execution_count": 25,
   "metadata": {},
   "outputs": [
    {
     "data": {
      "text/plain": [
       "(100, 3)"
      ]
     },
     "execution_count": 25,
     "metadata": {},
     "output_type": "execute_result"
    }
   ],
   "source": [
    "curr_mu_posterior_mean.shape"
   ]
  },
  {
   "cell_type": "code",
   "execution_count": null,
   "metadata": {},
   "outputs": [
    {
     "data": {
      "image/png": "[encoded data removed]",
      "text/plain": [
       "<Figure size 2000x300 with 4 Axes>"
      ]
     },
     "metadata": {},
     "output_type": "display_data"
    }
   ],
   "source": [
    "nrows, ncols = 1, 4\n",
    "fig, axes = plt.subplots(nrows=nrows, ncols=ncols, figsize=(5 * ncols, 3 * nrows), squeeze=False, constrained_layout=True, sharex=\"row\")\n",
    "\n",
    "metrics = [\"loo\", \"waic\", \"mae\", \"mse\"]\n",
    "for i, metric in enumerate(metrics):\n",
    "    ax = axes[0, i]\n",
    "    for j, m in enumerate(m_space):\n",
    "        sns.lineplot(x=N_space, y=np.log(scores[j, ..., i]), marker=\"o\", linestyle=\"dashed\", ms=8, ax=ax, label=f\"m = {m}\")\n",
    "    ax.set_title(metric)"
   ]
  },
  {
   "cell_type": "code",
   "execution_count": null,
   "metadata": {},
   "outputs": [],
   "source": []
  },
  {
   "cell_type": "code",
   "execution_count": 22,
   "metadata": {},
   "outputs": [
    {
     "data": {
      "text/plain": [
       "3"
      ]
     },
     "execution_count": 22,
     "metadata": {},
     "output_type": "execute_result"
    }
   ],
   "source": []
  },
  {
   "cell_type": "code",
   "execution_count": 24,
   "metadata": {},
   "outputs": [
    {
     "data": {
      "text/plain": [
       "6.061084977897591"
      ]
     },
     "execution_count": 24,
     "metadata": {},
     "output_type": "execute_result"
    }
   ],
   "source": [
    "np.abs(posterior_samples[site.a].mean(axis=0) - predictions[site.a][0, ...]).mean() "
   ]
  },
  {
   "cell_type": "code",
   "execution_count": 12,
   "metadata": {},
   "outputs": [
    {
     "data": {
      "text/plain": [
       "(2, 100, 3)"
      ]
     },
     "execution_count": 12,
     "metadata": {},
     "output_type": "execute_result"
    }
   ],
   "source": [
    "hpdi_mu_95.shape"
   ]
  },
  {
   "cell_type": "code",
   "execution_count": 16,
   "metadata": {},
   "outputs": [
    {
     "data": {
      "text/plain": [
       "(1, 1, 3)"
      ]
     },
     "execution_count": 16,
     "metadata": {},
     "output_type": "execute_result"
    }
   ],
   "source": [
    "predictions[site.a][0, ...].shape"
   ]
  },
  {
   "cell_type": "code",
   "execution_count": 9,
   "metadata": {},
   "outputs": [
    {
     "data": {
      "text/plain": [
       "(1, 1, 3)"
      ]
     },
     "execution_count": 9,
     "metadata": {},
     "output_type": "execute_result"
    }
   ],
   "source": [
    "posterior_samples[site.a].mean(axis=0).shape"
   ]
  },
  {
   "cell_type": "code",
   "execution_count": 20,
   "metadata": {},
   "outputs": [
    {
     "data": {
      "image/png": "[encoded data removed]",
      "text/plain": [
       "<Figure size 2000x300 with 4 Axes>"
      ]
     },
     "metadata": {},
     "output_type": "display_data"
    }
   ],
   "source": [
    "nrows, ncols = 1, 4\n",
    "fig, axes = plt.subplots(nrows=nrows, ncols=ncols, figsize=(5 * ncols, 3 * nrows), squeeze=False, constrained_layout=True, sharex=\"row\")\n",
    "\n",
    "metrics = [\"loo\", \"waic\", \"mae\", \"mse\"]\n",
    "for i, metric in enumerate(metrics):\n",
    "    ax = axes[0, i]\n",
    "    for j, m in enumerate(m_space):\n",
    "        sns.lineplot(x=N_space, y=np.log(scores[j, ..., i]), marker=\"o\", linestyle=\"dashed\", ms=8, ax=ax, label=f\"m = {m}\")\n",
    "    ax.set_title(metric)"
   ]
  },
  {
   "cell_type": "code",
   "execution_count": 55,
   "metadata": {},
   "outputs": [],
   "source": [
    "scores = np.array(scores)"
   ]
  },
  {
   "cell_type": "code",
   "execution_count": 71,
   "metadata": {},
   "outputs": [
    {
     "data": {
      "text/plain": [
       "(10, 1, 1, 1)"
      ]
     },
     "execution_count": 71,
     "metadata": {},
     "output_type": "execute_result"
    }
   ],
   "source": [
    "posterior_samples_true[site.b].shape"
   ]
  },
  {
   "cell_type": "code",
   "execution_count": null,
   "metadata": {},
   "outputs": [],
   "source": [
    "fig, axes = "
   ]
  },
  {
   "cell_type": "code",
   "execution_count": 57,
   "metadata": {},
   "outputs": [
    {
     "data": {
      "text/plain": [
       "<Axes: >"
      ]
     },
     "execution_count": 57,
     "metadata": {},
     "output_type": "execute_result"
    },
    {
     "data": {
      "image/png": "[encoded data removed]",
      "text/plain": [
       "<Figure size 640x480 with 1 Axes>"
      ]
     },
     "metadata": {},
     "output_type": "display_data"
    }
   ],
   "source": [
    "m = 0\n",
    "sns.lineplot(x=N_space, y=scores[0, ..., m], label=f\"m = {m}\")\n",
    "\n",
    "m = 1\n",
    "sns.lineplot(x=N_space, y=scores[1, ..., m], label=f\"m = {m}\")"
   ]
  },
  {
   "cell_type": "code",
   "execution_count": 39,
   "metadata": {},
   "outputs": [
    {
     "data": {
      "text/plain": [
       "[[42.44940147116906, 43.18916559657801, 2.8651050168656127, 8.208826757668502]]"
      ]
     },
     "execution_count": 39,
     "metadata": {},
     "output_type": "execute_result"
    }
   ],
   "source": [
    "curr_scores"
   ]
  },
  {
   "cell_type": "code",
   "execution_count": 152,
   "metadata": {},
   "outputs": [
    {
     "name": "stderr",
     "output_type": "stream",
     "text": [
      "2023-09-13 14:38:35,844 - __main__ - INFO - (4, 4)\n",
      "2023-09-13 14:38:35,845 - hbmep.dataset.core - INFO - Artefacts will be stored here - /home/vishu/repos/hbmep-paper/reports/simulation/\n",
      "2023-09-13 14:38:35,845 - hbmep.dataset.core - INFO - Copied config to /home/vishu/repos/hbmep-paper/reports/simulation/\n",
      "2023-09-13 14:38:35,846 - hbmep.dataset.core - INFO - Processing data ...\n",
      "2023-09-13 14:38:35,847 - hbmep.utils.utils - INFO - func:load took: 0.00 sec\n",
      "2023-09-13 14:38:35,856 - hbmep.model.baseline - INFO - Running inference with hierarchical_bayesian ...\n"
     ]
    },
    {
     "data": {
      "application/vnd.jupyter.widget-view+json": {
       "model_id": "d3c24ede0b014608841d0cbb82fa1ceb",
       "version_major": 2,
       "version_minor": 0
      },
      "text/plain": [
       "  0%|          | 0/10000 [00:00<?, ?it/s]"
      ]
     },
     "metadata": {},
     "output_type": "display_data"
    },
    {
     "data": {
      "application/vnd.jupyter.widget-view+json": {
       "model_id": "f5f10cedca7a4be29ee4dda06a9bb28e",
       "version_major": 2,
       "version_minor": 0
      },
      "text/plain": [
       "  0%|          | 0/10000 [00:00<?, ?it/s]"
      ]
     },
     "metadata": {},
     "output_type": "display_data"
    },
    {
     "data": {
      "application/vnd.jupyter.widget-view+json": {
       "model_id": "6200da182703463d951035ef2b3b0b0e",
       "version_major": 2,
       "version_minor": 0
      },
      "text/plain": [
       "  0%|          | 0/10000 [00:00<?, ?it/s]"
      ]
     },
     "metadata": {},
     "output_type": "display_data"
    },
    {
     "data": {
      "application/vnd.jupyter.widget-view+json": {
       "model_id": "5cc28451f5c74610a204dbb4933d0e24",
       "version_major": 2,
       "version_minor": 0
      },
      "text/plain": [
       "  0%|          | 0/10000 [00:00<?, ?it/s]"
      ]
     },
     "metadata": {},
     "output_type": "display_data"
    },
    {
     "name": "stderr",
     "output_type": "stream",
     "text": [
      "2023-09-13 14:38:42,962 - hbmep.utils.utils - INFO - func:run_inference took: 7.11 sec\n",
      "2023-09-13 14:38:44,138 - hbmep.utils.utils - INFO - func:predict took: 1.17 sec\n",
      "/home/vishu/repos/hbmep-paper/.venv/lib/python3.11/site-packages/arviz/stats/stats.py:1037: RuntimeWarning: overflow encountered in exp\n",
      "  weights = 1 / np.exp(len_scale - len_scale[:, None]).sum(axis=1)\n",
      "/home/vishu/repos/hbmep-paper/.venv/lib/python3.11/site-packages/arviz/stats/stats.py:803: UserWarning: Estimated shape parameter of Pareto distribution is greater than 0.7 for one or more samples. You should consider using a more robust model, this is because importance sampling is less likely to work well if the marginal posterior and LOO posterior are very different. This is more likely to happen with a non-robust model and highly influential observations.\n",
      "  warnings.warn(\n",
      "/home/vishu/repos/hbmep-paper/.venv/lib/python3.11/site-packages/arviz/stats/stats.py:1645: UserWarning: For one or more samples the posterior variance of the log predictive densities exceeds 0.4. This could be indication of WAIC starting to fail. \n",
      "See http://arxiv.org/abs/1507.04544 for details\n",
      "  warnings.warn(\n",
      "2023-09-13 14:38:44,761 - __main__ - INFO - (5, 4)\n",
      "2023-09-13 14:38:44,762 - hbmep.dataset.core - INFO - Artefacts will be stored here - /home/vishu/repos/hbmep-paper/reports/simulation/\n",
      "2023-09-13 14:38:44,762 - hbmep.dataset.core - INFO - Copied config to /home/vishu/repos/hbmep-paper/reports/simulation/\n",
      "2023-09-13 14:38:44,763 - hbmep.dataset.core - INFO - Processing data ...\n",
      "2023-09-13 14:38:44,764 - hbmep.utils.utils - INFO - func:load took: 0.00 sec\n",
      "2023-09-13 14:38:44,775 - hbmep.model.baseline - INFO - Running inference with hierarchical_bayesian ...\n"
     ]
    },
    {
     "data": {
      "application/vnd.jupyter.widget-view+json": {
       "model_id": "4df038a992554837bd297b091e01f7f8",
       "version_major": 2,
       "version_minor": 0
      },
      "text/plain": [
       "  0%|          | 0/10000 [00:00<?, ?it/s]"
      ]
     },
     "metadata": {},
     "output_type": "display_data"
    },
    {
     "data": {
      "application/vnd.jupyter.widget-view+json": {
       "model_id": "3ddb4032136f4b37b65ff086f5631a7a",
       "version_major": 2,
       "version_minor": 0
      },
      "text/plain": [
       "  0%|          | 0/10000 [00:00<?, ?it/s]"
      ]
     },
     "metadata": {},
     "output_type": "display_data"
    },
    {
     "data": {
      "application/vnd.jupyter.widget-view+json": {
       "model_id": "b30fe5af014b436586c187aa32332016",
       "version_major": 2,
       "version_minor": 0
      },
      "text/plain": [
       "  0%|          | 0/10000 [00:00<?, ?it/s]"
      ]
     },
     "metadata": {},
     "output_type": "display_data"
    },
    {
     "data": {
      "application/vnd.jupyter.widget-view+json": {
       "model_id": "ebc3bf71dd2d4a938017eaa5e220fe44",
       "version_major": 2,
       "version_minor": 0
      },
      "text/plain": [
       "  0%|          | 0/10000 [00:00<?, ?it/s]"
      ]
     },
     "metadata": {},
     "output_type": "display_data"
    },
    {
     "name": "stderr",
     "output_type": "stream",
     "text": [
      "2023-09-13 14:38:52,177 - hbmep.utils.utils - INFO - func:run_inference took: 7.40 sec\n",
      "2023-09-13 14:38:53,351 - hbmep.utils.utils - INFO - func:predict took: 1.17 sec\n",
      "/home/vishu/repos/hbmep-paper/.venv/lib/python3.11/site-packages/arviz/stats/stats.py:1037: RuntimeWarning: overflow encountered in exp\n",
      "  weights = 1 / np.exp(len_scale - len_scale[:, None]).sum(axis=1)\n",
      "/home/vishu/repos/hbmep-paper/.venv/lib/python3.11/site-packages/arviz/stats/stats.py:803: UserWarning: Estimated shape parameter of Pareto distribution is greater than 0.7 for one or more samples. You should consider using a more robust model, this is because importance sampling is less likely to work well if the marginal posterior and LOO posterior are very different. This is more likely to happen with a non-robust model and highly influential observations.\n",
      "  warnings.warn(\n",
      "/home/vishu/repos/hbmep-paper/.venv/lib/python3.11/site-packages/arviz/stats/stats.py:1645: UserWarning: For one or more samples the posterior variance of the log predictive densities exceeds 0.4. This could be indication of WAIC starting to fail. \n",
      "See http://arxiv.org/abs/1507.04544 for details\n",
      "  warnings.warn(\n",
      "2023-09-13 14:38:53,966 - __main__ - INFO - (6, 4)\n",
      "2023-09-13 14:38:53,966 - hbmep.dataset.core - INFO - Artefacts will be stored here - /home/vishu/repos/hbmep-paper/reports/simulation/\n",
      "2023-09-13 14:38:53,967 - hbmep.dataset.core - INFO - Copied config to /home/vishu/repos/hbmep-paper/reports/simulation/\n",
      "2023-09-13 14:38:53,967 - hbmep.dataset.core - INFO - Processing data ...\n",
      "2023-09-13 14:38:53,968 - hbmep.utils.utils - INFO - func:load took: 0.00 sec\n",
      "2023-09-13 14:38:53,979 - hbmep.model.baseline - INFO - Running inference with hierarchical_bayesian ...\n"
     ]
    },
    {
     "data": {
      "application/vnd.jupyter.widget-view+json": {
       "model_id": "d95c7c63619d4f03888c10616ba9afbf",
       "version_major": 2,
       "version_minor": 0
      },
      "text/plain": [
       "  0%|          | 0/10000 [00:00<?, ?it/s]"
      ]
     },
     "metadata": {},
     "output_type": "display_data"
    },
    {
     "data": {
      "application/vnd.jupyter.widget-view+json": {
       "model_id": "18824bd2f5d048849c209b9b7348d920",
       "version_major": 2,
       "version_minor": 0
      },
      "text/plain": [
       "  0%|          | 0/10000 [00:00<?, ?it/s]"
      ]
     },
     "metadata": {},
     "output_type": "display_data"
    },
    {
     "data": {
      "application/vnd.jupyter.widget-view+json": {
       "model_id": "0165c4d9f1454eb1a36adf1b7b1e8768",
       "version_major": 2,
       "version_minor": 0
      },
      "text/plain": [
       "  0%|          | 0/10000 [00:00<?, ?it/s]"
      ]
     },
     "metadata": {},
     "output_type": "display_data"
    },
    {
     "data": {
      "application/vnd.jupyter.widget-view+json": {
       "model_id": "71897fb457c140d2bd83083f37cc040c",
       "version_major": 2,
       "version_minor": 0
      },
      "text/plain": [
       "  0%|          | 0/10000 [00:00<?, ?it/s]"
      ]
     },
     "metadata": {},
     "output_type": "display_data"
    },
    {
     "name": "stderr",
     "output_type": "stream",
     "text": [
      "2023-09-13 14:39:03,667 - hbmep.utils.utils - INFO - func:run_inference took: 9.69 sec\n",
      "2023-09-13 14:39:04,837 - hbmep.utils.utils - INFO - func:predict took: 1.16 sec\n",
      "/home/vishu/repos/hbmep-paper/.venv/lib/python3.11/site-packages/arviz/stats/stats.py:803: UserWarning: Estimated shape parameter of Pareto distribution is greater than 0.7 for one or more samples. You should consider using a more robust model, this is because importance sampling is less likely to work well if the marginal posterior and LOO posterior are very different. This is more likely to happen with a non-robust model and highly influential observations.\n",
      "  warnings.warn(\n",
      "/home/vishu/repos/hbmep-paper/.venv/lib/python3.11/site-packages/arviz/stats/stats.py:1645: UserWarning: For one or more samples the posterior variance of the log predictive densities exceeds 0.4. This could be indication of WAIC starting to fail. \n",
      "See http://arxiv.org/abs/1507.04544 for details\n",
      "  warnings.warn(\n",
      "2023-09-13 14:39:05,410 - __main__ - INFO - (7, 4)\n",
      "2023-09-13 14:39:05,410 - hbmep.dataset.core - INFO - Artefacts will be stored here - /home/vishu/repos/hbmep-paper/reports/simulation/\n",
      "2023-09-13 14:39:05,410 - hbmep.dataset.core - INFO - Copied config to /home/vishu/repos/hbmep-paper/reports/simulation/\n",
      "2023-09-13 14:39:05,411 - hbmep.dataset.core - INFO - Processing data ...\n",
      "2023-09-13 14:39:05,412 - hbmep.utils.utils - INFO - func:load took: 0.00 sec\n",
      "2023-09-13 14:39:05,427 - hbmep.model.baseline - INFO - Running inference with hierarchical_bayesian ...\n"
     ]
    },
    {
     "data": {
      "application/vnd.jupyter.widget-view+json": {
       "model_id": "778f881db10e4afea534c4a082dd8af5",
       "version_major": 2,
       "version_minor": 0
      },
      "text/plain": [
       "  0%|          | 0/10000 [00:00<?, ?it/s]"
      ]
     },
     "metadata": {},
     "output_type": "display_data"
    },
    {
     "data": {
      "application/vnd.jupyter.widget-view+json": {
       "model_id": "164a794e135948749313576184b4c026",
       "version_major": 2,
       "version_minor": 0
      },
      "text/plain": [
       "  0%|          | 0/10000 [00:00<?, ?it/s]"
      ]
     },
     "metadata": {},
     "output_type": "display_data"
    },
    {
     "data": {
      "application/vnd.jupyter.widget-view+json": {
       "model_id": "8a52af1011ef47bc9190a48fadbe10e7",
       "version_major": 2,
       "version_minor": 0
      },
      "text/plain": [
       "  0%|          | 0/10000 [00:00<?, ?it/s]"
      ]
     },
     "metadata": {},
     "output_type": "display_data"
    },
    {
     "data": {
      "application/vnd.jupyter.widget-view+json": {
       "model_id": "84a0954597a44dac8492382c1d805d5b",
       "version_major": 2,
       "version_minor": 0
      },
      "text/plain": [
       "  0%|          | 0/10000 [00:00<?, ?it/s]"
      ]
     },
     "metadata": {},
     "output_type": "display_data"
    },
    {
     "name": "stderr",
     "output_type": "stream",
     "text": [
      "2023-09-13 14:39:13,777 - hbmep.utils.utils - INFO - func:run_inference took: 8.35 sec\n",
      "2023-09-13 14:39:14,943 - hbmep.utils.utils - INFO - func:predict took: 1.16 sec\n",
      "/home/vishu/repos/hbmep-paper/.venv/lib/python3.11/site-packages/arviz/stats/stats.py:803: UserWarning: Estimated shape parameter of Pareto distribution is greater than 0.7 for one or more samples. You should consider using a more robust model, this is because importance sampling is less likely to work well if the marginal posterior and LOO posterior are very different. This is more likely to happen with a non-robust model and highly influential observations.\n",
      "  warnings.warn(\n",
      "/home/vishu/repos/hbmep-paper/.venv/lib/python3.11/site-packages/arviz/stats/stats.py:1645: UserWarning: For one or more samples the posterior variance of the log predictive densities exceeds 0.4. This could be indication of WAIC starting to fail. \n",
      "See http://arxiv.org/abs/1507.04544 for details\n",
      "  warnings.warn(\n",
      "2023-09-13 14:39:15,528 - __main__ - INFO - (8, 4)\n",
      "2023-09-13 14:39:15,528 - hbmep.dataset.core - INFO - Artefacts will be stored here - /home/vishu/repos/hbmep-paper/reports/simulation/\n",
      "2023-09-13 14:39:15,529 - hbmep.dataset.core - INFO - Copied config to /home/vishu/repos/hbmep-paper/reports/simulation/\n",
      "2023-09-13 14:39:15,529 - hbmep.dataset.core - INFO - Processing data ...\n",
      "2023-09-13 14:39:15,530 - hbmep.utils.utils - INFO - func:load took: 0.00 sec\n",
      "2023-09-13 14:39:15,545 - hbmep.model.baseline - INFO - Running inference with hierarchical_bayesian ...\n"
     ]
    },
    {
     "data": {
      "application/vnd.jupyter.widget-view+json": {
       "model_id": "e49458a2e22a4b2b82f650492e664df5",
       "version_major": 2,
       "version_minor": 0
      },
      "text/plain": [
       "  0%|          | 0/10000 [00:00<?, ?it/s]"
      ]
     },
     "metadata": {},
     "output_type": "display_data"
    },
    {
     "data": {
      "application/vnd.jupyter.widget-view+json": {
       "model_id": "c497c57275074074a06e40904ee255ac",
       "version_major": 2,
       "version_minor": 0
      },
      "text/plain": [
       "  0%|          | 0/10000 [00:00<?, ?it/s]"
      ]
     },
     "metadata": {},
     "output_type": "display_data"
    },
    {
     "data": {
      "application/vnd.jupyter.widget-view+json": {
       "model_id": "86a8b421a1fe4bf99c548b1fcc29c25e",
       "version_major": 2,
       "version_minor": 0
      },
      "text/plain": [
       "  0%|          | 0/10000 [00:00<?, ?it/s]"
      ]
     },
     "metadata": {},
     "output_type": "display_data"
    },
    {
     "data": {
      "application/vnd.jupyter.widget-view+json": {
       "model_id": "188ce90745c74b83a04254ae3ec16633",
       "version_major": 2,
       "version_minor": 0
      },
      "text/plain": [
       "  0%|          | 0/10000 [00:00<?, ?it/s]"
      ]
     },
     "metadata": {},
     "output_type": "display_data"
    },
    {
     "name": "stderr",
     "output_type": "stream",
     "text": [
      "2023-09-13 14:39:24,361 - hbmep.utils.utils - INFO - func:run_inference took: 8.82 sec\n",
      "2023-09-13 14:39:25,525 - hbmep.utils.utils - INFO - func:predict took: 1.16 sec\n",
      "/home/vishu/repos/hbmep-paper/.venv/lib/python3.11/site-packages/arviz/stats/stats.py:803: UserWarning: Estimated shape parameter of Pareto distribution is greater than 0.7 for one or more samples. You should consider using a more robust model, this is because importance sampling is less likely to work well if the marginal posterior and LOO posterior are very different. This is more likely to happen with a non-robust model and highly influential observations.\n",
      "  warnings.warn(\n",
      "/home/vishu/repos/hbmep-paper/.venv/lib/python3.11/site-packages/arviz/stats/stats.py:1645: UserWarning: For one or more samples the posterior variance of the log predictive densities exceeds 0.4. This could be indication of WAIC starting to fail. \n",
      "See http://arxiv.org/abs/1507.04544 for details\n",
      "  warnings.warn(\n",
      "2023-09-13 14:39:26,115 - __main__ - INFO - (9, 4)\n",
      "2023-09-13 14:39:26,115 - hbmep.dataset.core - INFO - Artefacts will be stored here - /home/vishu/repos/hbmep-paper/reports/simulation/\n",
      "2023-09-13 14:39:26,116 - hbmep.dataset.core - INFO - Copied config to /home/vishu/repos/hbmep-paper/reports/simulation/\n",
      "2023-09-13 14:39:26,116 - hbmep.dataset.core - INFO - Processing data ...\n",
      "2023-09-13 14:39:26,117 - hbmep.utils.utils - INFO - func:load took: 0.00 sec\n",
      "2023-09-13 14:39:26,143 - hbmep.model.baseline - INFO - Running inference with hierarchical_bayesian ...\n"
     ]
    },
    {
     "data": {
      "application/vnd.jupyter.widget-view+json": {
       "model_id": "42024a733c97401394a946999c3462d4",
       "version_major": 2,
       "version_minor": 0
      },
      "text/plain": [
       "  0%|          | 0/10000 [00:00<?, ?it/s]"
      ]
     },
     "metadata": {},
     "output_type": "display_data"
    },
    {
     "data": {
      "application/vnd.jupyter.widget-view+json": {
       "model_id": "a42bc107fa1a4f0a82c21f115af4c241",
       "version_major": 2,
       "version_minor": 0
      },
      "text/plain": [
       "  0%|          | 0/10000 [00:00<?, ?it/s]"
      ]
     },
     "metadata": {},
     "output_type": "display_data"
    },
    {
     "data": {
      "application/vnd.jupyter.widget-view+json": {
       "model_id": "85d0f7c817ab4a34a07a432bc6b2c5bc",
       "version_major": 2,
       "version_minor": 0
      },
      "text/plain": [
       "  0%|          | 0/10000 [00:00<?, ?it/s]"
      ]
     },
     "metadata": {},
     "output_type": "display_data"
    },
    {
     "data": {
      "application/vnd.jupyter.widget-view+json": {
       "model_id": "1d09b4f750d84236bddae8a87347b954",
       "version_major": 2,
       "version_minor": 0
      },
      "text/plain": [
       "  0%|          | 0/10000 [00:00<?, ?it/s]"
      ]
     },
     "metadata": {},
     "output_type": "display_data"
    },
    {
     "name": "stderr",
     "output_type": "stream",
     "text": [
      "2023-09-13 14:39:35,756 - hbmep.utils.utils - INFO - func:run_inference took: 9.61 sec\n",
      "2023-09-13 14:39:36,931 - hbmep.utils.utils - INFO - func:predict took: 1.17 sec\n",
      "/home/vishu/repos/hbmep-paper/.venv/lib/python3.11/site-packages/arviz/stats/stats.py:803: UserWarning: Estimated shape parameter of Pareto distribution is greater than 0.7 for one or more samples. You should consider using a more robust model, this is because importance sampling is less likely to work well if the marginal posterior and LOO posterior are very different. This is more likely to happen with a non-robust model and highly influential observations.\n",
      "  warnings.warn(\n",
      "/home/vishu/repos/hbmep-paper/.venv/lib/python3.11/site-packages/arviz/stats/stats.py:1645: UserWarning: For one or more samples the posterior variance of the log predictive densities exceeds 0.4. This could be indication of WAIC starting to fail. \n",
      "See http://arxiv.org/abs/1507.04544 for details\n",
      "  warnings.warn(\n",
      "2023-09-13 14:39:37,565 - __main__ - INFO - (10, 4)\n",
      "2023-09-13 14:39:37,566 - hbmep.dataset.core - INFO - Artefacts will be stored here - /home/vishu/repos/hbmep-paper/reports/simulation/\n",
      "2023-09-13 14:39:37,566 - hbmep.dataset.core - INFO - Copied config to /home/vishu/repos/hbmep-paper/reports/simulation/\n",
      "2023-09-13 14:39:37,567 - hbmep.dataset.core - INFO - Processing data ...\n",
      "2023-09-13 14:39:37,568 - hbmep.utils.utils - INFO - func:load took: 0.00 sec\n",
      "2023-09-13 14:39:37,579 - hbmep.model.baseline - INFO - Running inference with hierarchical_bayesian ...\n"
     ]
    },
    {
     "data": {
      "application/vnd.jupyter.widget-view+json": {
       "model_id": "6e28ab51320b4eb298d15bff23d5d532",
       "version_major": 2,
       "version_minor": 0
      },
      "text/plain": [
       "  0%|          | 0/10000 [00:00<?, ?it/s]"
      ]
     },
     "metadata": {},
     "output_type": "display_data"
    },
    {
     "data": {
      "application/vnd.jupyter.widget-view+json": {
       "model_id": "01de17d2e2004f29bd640e88202552cf",
       "version_major": 2,
       "version_minor": 0
      },
      "text/plain": [
       "  0%|          | 0/10000 [00:00<?, ?it/s]"
      ]
     },
     "metadata": {},
     "output_type": "display_data"
    },
    {
     "data": {
      "application/vnd.jupyter.widget-view+json": {
       "model_id": "256aa5b333a8403aa5c81a2105d96e9f",
       "version_major": 2,
       "version_minor": 0
      },
      "text/plain": [
       "  0%|          | 0/10000 [00:00<?, ?it/s]"
      ]
     },
     "metadata": {},
     "output_type": "display_data"
    },
    {
     "data": {
      "application/vnd.jupyter.widget-view+json": {
       "model_id": "e7d9d61bcbdc45f687029f1be57d9386",
       "version_major": 2,
       "version_minor": 0
      },
      "text/plain": [
       "  0%|          | 0/10000 [00:00<?, ?it/s]"
      ]
     },
     "metadata": {},
     "output_type": "display_data"
    },
    {
     "name": "stderr",
     "output_type": "stream",
     "text": [
      "2023-09-13 14:39:46,448 - hbmep.utils.utils - INFO - func:run_inference took: 8.87 sec\n",
      "2023-09-13 14:39:47,612 - hbmep.utils.utils - INFO - func:predict took: 1.16 sec\n",
      "/home/vishu/repos/hbmep-paper/.venv/lib/python3.11/site-packages/arviz/stats/stats.py:803: UserWarning: Estimated shape parameter of Pareto distribution is greater than 0.7 for one or more samples. You should consider using a more robust model, this is because importance sampling is less likely to work well if the marginal posterior and LOO posterior are very different. This is more likely to happen with a non-robust model and highly influential observations.\n",
      "  warnings.warn(\n",
      "/home/vishu/repos/hbmep-paper/.venv/lib/python3.11/site-packages/arviz/stats/stats.py:1645: UserWarning: For one or more samples the posterior variance of the log predictive densities exceeds 0.4. This could be indication of WAIC starting to fail. \n",
      "See http://arxiv.org/abs/1507.04544 for details\n",
      "  warnings.warn(\n",
      "2023-09-13 14:39:48,258 - __main__ - INFO - (11, 4)\n",
      "2023-09-13 14:39:48,259 - hbmep.dataset.core - INFO - Artefacts will be stored here - /home/vishu/repos/hbmep-paper/reports/simulation/\n",
      "2023-09-13 14:39:48,259 - hbmep.dataset.core - INFO - Copied config to /home/vishu/repos/hbmep-paper/reports/simulation/\n",
      "2023-09-13 14:39:48,260 - hbmep.dataset.core - INFO - Processing data ...\n",
      "2023-09-13 14:39:48,261 - hbmep.utils.utils - INFO - func:load took: 0.00 sec\n",
      "2023-09-13 14:39:48,273 - hbmep.model.baseline - INFO - Running inference with hierarchical_bayesian ...\n"
     ]
    },
    {
     "data": {
      "application/vnd.jupyter.widget-view+json": {
       "model_id": "d8b5e76df6744997989ea2bedc73bd4b",
       "version_major": 2,
       "version_minor": 0
      },
      "text/plain": [
       "  0%|          | 0/10000 [00:00<?, ?it/s]"
      ]
     },
     "metadata": {},
     "output_type": "display_data"
    },
    {
     "data": {
      "application/vnd.jupyter.widget-view+json": {
       "model_id": "412b079cbe37486db45d09012fcb2e86",
       "version_major": 2,
       "version_minor": 0
      },
      "text/plain": [
       "  0%|          | 0/10000 [00:00<?, ?it/s]"
      ]
     },
     "metadata": {},
     "output_type": "display_data"
    },
    {
     "data": {
      "application/vnd.jupyter.widget-view+json": {
       "model_id": "6d029ceba4154e9b9f92e42d6734cefa",
       "version_major": 2,
       "version_minor": 0
      },
      "text/plain": [
       "  0%|          | 0/10000 [00:00<?, ?it/s]"
      ]
     },
     "metadata": {},
     "output_type": "display_data"
    },
    {
     "data": {
      "application/vnd.jupyter.widget-view+json": {
       "model_id": "905918dbb63141ab9c781d9f51893733",
       "version_major": 2,
       "version_minor": 0
      },
      "text/plain": [
       "  0%|          | 0/10000 [00:00<?, ?it/s]"
      ]
     },
     "metadata": {},
     "output_type": "display_data"
    },
    {
     "name": "stderr",
     "output_type": "stream",
     "text": [
      "2023-09-13 14:39:57,177 - hbmep.utils.utils - INFO - func:run_inference took: 8.90 sec\n",
      "2023-09-13 14:39:58,348 - hbmep.utils.utils - INFO - func:predict took: 1.17 sec\n",
      "/home/vishu/repos/hbmep-paper/.venv/lib/python3.11/site-packages/arviz/stats/stats.py:803: UserWarning: Estimated shape parameter of Pareto distribution is greater than 0.7 for one or more samples. You should consider using a more robust model, this is because importance sampling is less likely to work well if the marginal posterior and LOO posterior are very different. This is more likely to happen with a non-robust model and highly influential observations.\n",
      "  warnings.warn(\n",
      "/home/vishu/repos/hbmep-paper/.venv/lib/python3.11/site-packages/arviz/stats/stats.py:1645: UserWarning: For one or more samples the posterior variance of the log predictive densities exceeds 0.4. This could be indication of WAIC starting to fail. \n",
      "See http://arxiv.org/abs/1507.04544 for details\n",
      "  warnings.warn(\n",
      "2023-09-13 14:39:58,992 - __main__ - INFO - (12, 4)\n",
      "2023-09-13 14:39:58,992 - hbmep.dataset.core - INFO - Artefacts will be stored here - /home/vishu/repos/hbmep-paper/reports/simulation/\n",
      "2023-09-13 14:39:58,992 - hbmep.dataset.core - INFO - Copied config to /home/vishu/repos/hbmep-paper/reports/simulation/\n",
      "2023-09-13 14:39:58,993 - hbmep.dataset.core - INFO - Processing data ...\n",
      "2023-09-13 14:39:58,994 - hbmep.utils.utils - INFO - func:load took: 0.00 sec\n",
      "2023-09-13 14:39:59,005 - hbmep.model.baseline - INFO - Running inference with hierarchical_bayesian ...\n"
     ]
    },
    {
     "data": {
      "application/vnd.jupyter.widget-view+json": {
       "model_id": "1adbb1c0fc2049fcaf28849742271fef",
       "version_major": 2,
       "version_minor": 0
      },
      "text/plain": [
       "  0%|          | 0/10000 [00:00<?, ?it/s]"
      ]
     },
     "metadata": {},
     "output_type": "display_data"
    },
    {
     "data": {
      "application/vnd.jupyter.widget-view+json": {
       "model_id": "2de83fb51bca4935b0013392876b9217",
       "version_major": 2,
       "version_minor": 0
      },
      "text/plain": [
       "  0%|          | 0/10000 [00:00<?, ?it/s]"
      ]
     },
     "metadata": {},
     "output_type": "display_data"
    },
    {
     "data": {
      "application/vnd.jupyter.widget-view+json": {
       "model_id": "5020b8f774314b849a11e0267c4e5944",
       "version_major": 2,
       "version_minor": 0
      },
      "text/plain": [
       "  0%|          | 0/10000 [00:00<?, ?it/s]"
      ]
     },
     "metadata": {},
     "output_type": "display_data"
    },
    {
     "data": {
      "application/vnd.jupyter.widget-view+json": {
       "model_id": "95f4358c6919470a8f2d17c38c4fa6ba",
       "version_major": 2,
       "version_minor": 0
      },
      "text/plain": [
       "  0%|          | 0/10000 [00:00<?, ?it/s]"
      ]
     },
     "metadata": {},
     "output_type": "display_data"
    },
    {
     "name": "stderr",
     "output_type": "stream",
     "text": [
      "2023-09-13 14:40:07,671 - hbmep.utils.utils - INFO - func:run_inference took: 8.67 sec\n",
      "2023-09-13 14:40:08,854 - hbmep.utils.utils - INFO - func:predict took: 1.18 sec\n",
      "/home/vishu/repos/hbmep-paper/.venv/lib/python3.11/site-packages/arviz/stats/stats.py:803: UserWarning: Estimated shape parameter of Pareto distribution is greater than 0.7 for one or more samples. You should consider using a more robust model, this is because importance sampling is less likely to work well if the marginal posterior and LOO posterior are very different. This is more likely to happen with a non-robust model and highly influential observations.\n",
      "  warnings.warn(\n",
      "/home/vishu/repos/hbmep-paper/.venv/lib/python3.11/site-packages/arviz/stats/stats.py:1645: UserWarning: For one or more samples the posterior variance of the log predictive densities exceeds 0.4. This could be indication of WAIC starting to fail. \n",
      "See http://arxiv.org/abs/1507.04544 for details\n",
      "  warnings.warn(\n",
      "2023-09-13 14:40:09,510 - __main__ - INFO - (13, 4)\n",
      "2023-09-13 14:40:09,511 - hbmep.dataset.core - INFO - Artefacts will be stored here - /home/vishu/repos/hbmep-paper/reports/simulation/\n",
      "2023-09-13 14:40:09,511 - hbmep.dataset.core - INFO - Copied config to /home/vishu/repos/hbmep-paper/reports/simulation/\n",
      "2023-09-13 14:40:09,512 - hbmep.dataset.core - INFO - Processing data ...\n",
      "2023-09-13 14:40:09,513 - hbmep.utils.utils - INFO - func:load took: 0.00 sec\n",
      "2023-09-13 14:40:09,526 - hbmep.model.baseline - INFO - Running inference with hierarchical_bayesian ...\n"
     ]
    },
    {
     "data": {
      "application/vnd.jupyter.widget-view+json": {
       "model_id": "2906dbe953c849288dfbc59120c9d120",
       "version_major": 2,
       "version_minor": 0
      },
      "text/plain": [
       "  0%|          | 0/10000 [00:00<?, ?it/s]"
      ]
     },
     "metadata": {},
     "output_type": "display_data"
    },
    {
     "data": {
      "application/vnd.jupyter.widget-view+json": {
       "model_id": "6e79971613774df29632d568637cc78a",
       "version_major": 2,
       "version_minor": 0
      },
      "text/plain": [
       "  0%|          | 0/10000 [00:00<?, ?it/s]"
      ]
     },
     "metadata": {},
     "output_type": "display_data"
    },
    {
     "data": {
      "application/vnd.jupyter.widget-view+json": {
       "model_id": "b3140f5ba76a42da9f7473de7280c5eb",
       "version_major": 2,
       "version_minor": 0
      },
      "text/plain": [
       "  0%|          | 0/10000 [00:00<?, ?it/s]"
      ]
     },
     "metadata": {},
     "output_type": "display_data"
    },
    {
     "data": {
      "application/vnd.jupyter.widget-view+json": {
       "model_id": "24cf69d778424cd6afa5aa2b2c00145a",
       "version_major": 2,
       "version_minor": 0
      },
      "text/plain": [
       "  0%|          | 0/10000 [00:00<?, ?it/s]"
      ]
     },
     "metadata": {},
     "output_type": "display_data"
    },
    {
     "name": "stderr",
     "output_type": "stream",
     "text": [
      "2023-09-13 14:40:18,784 - hbmep.utils.utils - INFO - func:run_inference took: 9.26 sec\n",
      "2023-09-13 14:40:19,949 - hbmep.utils.utils - INFO - func:predict took: 1.16 sec\n",
      "/home/vishu/repos/hbmep-paper/.venv/lib/python3.11/site-packages/arviz/stats/stats.py:803: UserWarning: Estimated shape parameter of Pareto distribution is greater than 0.7 for one or more samples. You should consider using a more robust model, this is because importance sampling is less likely to work well if the marginal posterior and LOO posterior are very different. This is more likely to happen with a non-robust model and highly influential observations.\n",
      "  warnings.warn(\n",
      "/home/vishu/repos/hbmep-paper/.venv/lib/python3.11/site-packages/arviz/stats/stats.py:1645: UserWarning: For one or more samples the posterior variance of the log predictive densities exceeds 0.4. This could be indication of WAIC starting to fail. \n",
      "See http://arxiv.org/abs/1507.04544 for details\n",
      "  warnings.warn(\n"
     ]
    }
   ],
   "source": [
    "ind = [0, 30, 60, 89]\n",
    "n_iter = 9\n",
    "n_after_every_space = n_iter + 1\n",
    "after_every_counter = 0\n",
    "\n",
    "n_fig_rows = 10\n",
    "n_columns_per_response = 4\n",
    "n_fig_columns = n_columns_per_response * model.n_response\n",
    "\n",
    "n_combinations = n_iter + 1\n",
    "n_pdf_pages = n_combinations // n_fig_rows\n",
    "if n_combinations % n_fig_rows: n_pdf_pages += 1\n",
    "\n",
    "dst = os.path.join(model.build_dir, \"checks.pdf\")\n",
    "pdf = PdfPages(dst)\n",
    "\n",
    "argmin = None\n",
    "score_df = None\n",
    "score_columns = [\"num_points\", \"loo\", \"waic\", \"mae\", \"mse\"]\n",
    "\n",
    "for page in range(n_pdf_pages):\n",
    "    \"\"\" No. of rows for current page \"\"\"\n",
    "    n_rows_current_page = min(\n",
    "        n_fig_rows,\n",
    "        n_combinations - page * n_fig_rows\n",
    "    )\n",
    "\n",
    "    \"\"\" Figure for current page \"\"\"\n",
    "    fig, axes = plt.subplots(\n",
    "        n_rows_current_page,\n",
    "        n_fig_columns,\n",
    "        figsize=(\n",
    "            n_fig_columns * model.subplot_cell_width,\n",
    "            n_rows_current_page * model.subplot_cell_height\n",
    "        ),\n",
    "        constrained_layout=True,\n",
    "        squeeze=False,\n",
    "        sharex=\"col\"\n",
    "    )\n",
    "\n",
    "    for i in range(n_rows_current_page):\n",
    "        df = df_full.iloc[ind].reset_index(drop=True).copy()\n",
    "        logger.info(df.shape)\n",
    "\n",
    "        df, encoder_dict = model.load(df=df)\n",
    "\n",
    "        ax = axes[i, 0]\n",
    "        sns.scatterplot(x=df[model.intensity], y=df[model.response[0]], ax=ax)\n",
    "        if argmin is not None:\n",
    "            sns.scatterplot(\n",
    "                x=[df_full[model.intensity][argmin]],\n",
    "                y=[df_full[model.response[0]][argmin]],\n",
    "                color=\"black\",\n",
    "                edgecolor=\"black\",\n",
    "                ax=ax\n",
    "            )\n",
    "        title = f\"Num points: {df.shape[0]}\"\n",
    "        ax.set_title(title)\n",
    "\n",
    "        mcmc, posterior_samples = model.run_inference(df=df)\n",
    "\n",
    "        pred_df = model._make_prediction_dataset(df=df)\n",
    "        obs_posterior = model.predict(df=pred_df, posterior_samples=posterior_samples)\n",
    "        mu_posterior = np.array(obs_posterior[site.mu])\n",
    "        obs_posterior = np.array(obs_posterior[site.obs])\n",
    "\n",
    "        \"\"\" Filter prediction dataframe based on current combination \"\"\"\n",
    "        temp_pred_df = pred_df.copy()\n",
    "\n",
    "        curr_obs_posterior = obs_posterior\n",
    "        curr_mu_posterior = mu_posterior\n",
    "\n",
    "        \"\"\" Posterior mean \"\"\"\n",
    "        curr_obs_posterior_mean = curr_obs_posterior.mean(axis=0)\n",
    "        curr_mu_posterior_mean = curr_mu_posterior.mean(axis=0)\n",
    "\n",
    "        \"\"\" HPDI intervals \"\"\"\n",
    "        hpdi_obs_95 = hpdi(curr_obs_posterior, prob=.95)\n",
    "        hpdi_obs_85 = hpdi(curr_obs_posterior, prob=.85)\n",
    "        hpdi_obs_65 = hpdi(curr_obs_posterior, prob=.65)\n",
    "\n",
    "        hpdi_mu_95 = hpdi(curr_mu_posterior, prob=.95)\n",
    "\n",
    "        \"\"\" Threshold \"\"\"\n",
    "        threshold_posterior = posterior_samples[site.a].reshape(-1,)\n",
    "        threshold = threshold_posterior.mean().item()\n",
    "        threshold_true = posterior_samples_true[site.a][0].reshape(-1,).item()\n",
    "        hpdi_interval = hpdi(threshold_posterior, prob=0.95)\n",
    "\n",
    "        \"\"\" Scores \"\"\"\n",
    "        numpyro_data = az.from_numpyro(mcmc)\n",
    "        loo_score = az.loo(numpyro_data).elpd_loo\n",
    "        waic_score = az.waic(numpyro_data).elpd_waic\n",
    "        mae = abs(threshold_true - threshold)\n",
    "        mse = mae ** 2\n",
    "\n",
    "        ax = axes[i, 1]\n",
    "        sns.lineplot(x=temp_pred_df[model.intensity], y=curr_obs_posterior_mean[:, 0], color=\"k\", ax=ax, linestyle=\"dashed\")\n",
    "        sns.scatterplot(x=df[model.intensity], y=df[model.response[0]], ax=ax)\n",
    "        if argmin is not None:\n",
    "            sns.scatterplot(\n",
    "                x=[df_full[model.intensity][argmin]],\n",
    "                y=[df_full[model.response[0]][argmin]],\n",
    "                color=\"black\",\n",
    "                edgecolor=\"black\",\n",
    "                ax=ax\n",
    "            )\n",
    "        ax.axvline(\n",
    "            threshold,\n",
    "            linestyle=\"--\",\n",
    "            color=\"r\",\n",
    "            label=f\"Predicted Threshold\"\n",
    "        )\n",
    "        ax.axvline(\n",
    "            threshold_true,\n",
    "            linestyle=\"--\",\n",
    "            color=\"g\",\n",
    "            label=f\"Actual Threshold\"\n",
    "        )\n",
    "        ax.legend()\n",
    "\n",
    "        ax = axes[i, 2]\n",
    "        sns.kdeplot(\n",
    "            x=threshold_posterior,\n",
    "            color=\"b\",\n",
    "            ax=ax,\n",
    "            alpha=.4\n",
    "        )\n",
    "        ax.axvline(\n",
    "            threshold,\n",
    "            linestyle=\"--\",\n",
    "            color=\"r\",\n",
    "            label=f\"Predicted Threshold\"\n",
    "        )\n",
    "        ax.axvline(\n",
    "            threshold_true,\n",
    "            linestyle=\"--\",\n",
    "            color=\"g\",\n",
    "            label=f\"Actual Threshold\"\n",
    "        )\n",
    "        ax.legend()\n",
    "\n",
    "        ax = axes[i, 3]\n",
    "        sns.lineplot(x=temp_pred_df[model.intensity], y=curr_obs_posterior_mean[:, 0], color=\"k\", ax=ax, linestyle=\"dashed\")\n",
    "        ax.fill_between(\n",
    "            temp_pred_df[model.intensity],\n",
    "            hpdi_mu_95[0, :, 0],\n",
    "            hpdi_mu_95[1, :, 0],\n",
    "            color=\"C1\",\n",
    "            linestyle=\"dashed\"\n",
    "        )\n",
    "        sns.scatterplot(\n",
    "            data=df,\n",
    "            x=model.intensity,\n",
    "            y=model.response[0],\n",
    "            color=\"y\",\n",
    "            edgecolor=\"black\",\n",
    "            ax=ax\n",
    "        )\n",
    "        if argmin is not None:\n",
    "            sns.scatterplot(\n",
    "                x=[df_full[model.intensity][argmin]],\n",
    "                y=[df_full[model.response[0]][argmin]],\n",
    "                color=\"black\",\n",
    "                edgecolor=\"black\",\n",
    "                ax=ax\n",
    "            )\n",
    "        title = f\"Loo: {loo_score: .2f}, WAIC: {waic_score: .2f}\"\n",
    "        ax.set_title(title)\n",
    "\n",
    "        score_row = [[df.shape[0], loo_score, waic_score, mae, mse]]\n",
    "        temp_score_df = pd.DataFrame(score_row, columns=score_columns)\n",
    "        if score_df is None:\n",
    "            score_df = temp_score_df.copy()\n",
    "        else:\n",
    "            score_df = pd.concat([score_df, temp_score_df])\n",
    "\n",
    "        ind_filter = \\\n",
    "            (pred_df[model.intensity] > df_full[model.intensity][ind[0]]) & \\\n",
    "            (pred_df[model.intensity] < df_full[model.intensity][ind[-1]])\n",
    "        argmax = np.argmax(hpdi_mu_95[1, ind_filter, ...] - hpdi_mu_95[0, ind_filter, ...])\n",
    "        argmin = abs(df_full[model.intensity] - pred_df[model.intensity][argmax]).argmin()\n",
    "        ind.append(argmin)\n",
    "        ind = sorted(ind)\n",
    "\n",
    "    pdf.savefig(fig)\n",
    "    plt.close()\n",
    "\n",
    "nrows, ncols = 1, 4\n",
    "fig, axes = plt.subplots(nrows=nrows, ncols=ncols, figsize=(5 * ncols, 3 * nrows), squeeze=False, constrained_layout=True, sharex=\"row\")\n",
    "\n",
    "metrics = [\"loo\", \"waic\", \"mae\", \"mse\"]\n",
    "for i, metric in enumerate(metrics):\n",
    "    ax = axes[0, i]\n",
    "    sns.lineplot(data=score_df, x=\"num_points\", y=metric, marker=\"o\", linestyle=\"dashed\", ms=8, ax=ax)\n",
    "    ax.set_title(metric)\n",
    "    ax.set_xticks(score_df[\"num_points\"])\n",
    "\n",
    "pdf.savefig(fig)\n",
    "plt.close()\n",
    "\n",
    "pdf.close();\n"
   ]
  },
  {
   "cell_type": "code",
   "execution_count": 5,
   "metadata": {},
   "outputs": [
    {
     "data": {
      "text/html": [
       "<div>\n",
       "<style scoped>\n",
       "    .dataframe tbody tr th:only-of-type {\n",
       "        vertical-align: middle;\n",
       "    }\n",
       "\n",
       "    .dataframe tbody tr th {\n",
       "        vertical-align: top;\n",
       "    }\n",
       "\n",
       "    .dataframe thead th {\n",
       "        text-align: right;\n",
       "    }\n",
       "</style>\n",
       "<table border=\"1\" class=\"dataframe\">\n",
       "  <thead>\n",
       "    <tr style=\"text-align: right;\">\n",
       "      <th></th>\n",
       "      <th>pulse_amplitude</th>\n",
       "      <th>compound_position</th>\n",
       "      <th>participant</th>\n",
       "      <th>Biceps</th>\n",
       "      <th>Triceps</th>\n",
       "      <th>APB</th>\n",
       "    </tr>\n",
       "  </thead>\n",
       "  <tbody>\n",
       "    <tr>\n",
       "      <th>0</th>\n",
       "      <td>0.0</td>\n",
       "      <td>0</td>\n",
       "      <td>0</td>\n",
       "      <td>0.016175</td>\n",
       "      <td>0.154478</td>\n",
       "      <td>0.014103</td>\n",
       "    </tr>\n",
       "    <tr>\n",
       "      <th>1</th>\n",
       "      <td>44.0</td>\n",
       "      <td>0</td>\n",
       "      <td>0</td>\n",
       "      <td>0.019536</td>\n",
       "      <td>0.114382</td>\n",
       "      <td>0.014754</td>\n",
       "    </tr>\n",
       "    <tr>\n",
       "      <th>2</th>\n",
       "      <td>88.0</td>\n",
       "      <td>0</td>\n",
       "      <td>0</td>\n",
       "      <td>0.016855</td>\n",
       "      <td>0.164685</td>\n",
       "      <td>0.011458</td>\n",
       "    </tr>\n",
       "    <tr>\n",
       "      <th>3</th>\n",
       "      <td>132.0</td>\n",
       "      <td>0</td>\n",
       "      <td>0</td>\n",
       "      <td>0.016967</td>\n",
       "      <td>0.146734</td>\n",
       "      <td>0.016941</td>\n",
       "    </tr>\n",
       "    <tr>\n",
       "      <th>4</th>\n",
       "      <td>176.0</td>\n",
       "      <td>0</td>\n",
       "      <td>0</td>\n",
       "      <td>0.013771</td>\n",
       "      <td>0.561963</td>\n",
       "      <td>0.876413</td>\n",
       "    </tr>\n",
       "    <tr>\n",
       "      <th>...</th>\n",
       "      <td>...</td>\n",
       "      <td>...</td>\n",
       "      <td>...</td>\n",
       "      <td>...</td>\n",
       "      <td>...</td>\n",
       "      <td>...</td>\n",
       "    </tr>\n",
       "    <tr>\n",
       "      <th>895</th>\n",
       "      <td>176.0</td>\n",
       "      <td>0</td>\n",
       "      <td>9</td>\n",
       "      <td>0.028445</td>\n",
       "      <td>0.000122</td>\n",
       "      <td>3.970674</td>\n",
       "    </tr>\n",
       "    <tr>\n",
       "      <th>896</th>\n",
       "      <td>224.0</td>\n",
       "      <td>0</td>\n",
       "      <td>9</td>\n",
       "      <td>0.042657</td>\n",
       "      <td>0.151382</td>\n",
       "      <td>6.816915</td>\n",
       "    </tr>\n",
       "    <tr>\n",
       "      <th>897</th>\n",
       "      <td>268.0</td>\n",
       "      <td>0</td>\n",
       "      <td>9</td>\n",
       "      <td>0.433376</td>\n",
       "      <td>0.476729</td>\n",
       "      <td>7.085731</td>\n",
       "    </tr>\n",
       "    <tr>\n",
       "      <th>898</th>\n",
       "      <td>312.0</td>\n",
       "      <td>0</td>\n",
       "      <td>9</td>\n",
       "      <td>0.950837</td>\n",
       "      <td>0.646506</td>\n",
       "      <td>7.978973</td>\n",
       "    </tr>\n",
       "    <tr>\n",
       "      <th>899</th>\n",
       "      <td>356.0</td>\n",
       "      <td>0</td>\n",
       "      <td>9</td>\n",
       "      <td>1.285035</td>\n",
       "      <td>0.992742</td>\n",
       "      <td>7.801035</td>\n",
       "    </tr>\n",
       "  </tbody>\n",
       "</table>\n",
       "<p>900 rows × 6 columns</p>\n",
       "</div>"
      ],
      "text/plain": [
       "     pulse_amplitude  compound_position  participant    Biceps   Triceps  \\\n",
       "0                0.0                  0            0  0.016175  0.154478   \n",
       "1               44.0                  0            0  0.019536  0.114382   \n",
       "2               88.0                  0            0  0.016855  0.164685   \n",
       "3              132.0                  0            0  0.016967  0.146734   \n",
       "4              176.0                  0            0  0.013771  0.561963   \n",
       "..               ...                ...          ...       ...       ...   \n",
       "895            176.0                  0            9  0.028445  0.000122   \n",
       "896            224.0                  0            9  0.042657  0.151382   \n",
       "897            268.0                  0            9  0.433376  0.476729   \n",
       "898            312.0                  0            9  0.950837  0.646506   \n",
       "899            356.0                  0            9  1.285035  0.992742   \n",
       "\n",
       "          APB  \n",
       "0    0.014103  \n",
       "1    0.014754  \n",
       "2    0.011458  \n",
       "3    0.016941  \n",
       "4    0.876413  \n",
       "..        ...  \n",
       "895  3.970674  \n",
       "896  6.816915  \n",
       "897  7.085731  \n",
       "898  7.978973  \n",
       "899  7.801035  \n",
       "\n",
       "[900 rows x 6 columns]"
      ]
     },
     "execution_count": 5,
     "metadata": {},
     "output_type": "execute_result"
    }
   ],
   "source": [
    "df"
   ]
  },
  {
   "cell_type": "code",
   "execution_count": 17,
   "metadata": {},
   "outputs": [
    {
     "name": "stderr",
     "output_type": "stream",
     "text": [
      "2023-09-13 11:16:37,829 - hbmep.dataset.core - INFO - Artefacts will be stored here - /home/vishu/repos/hbmep-paper/reports/simulation/\n",
      "2023-09-13 11:16:37,829 - hbmep.dataset.core - INFO - Copied config to /home/vishu/repos/hbmep-paper/reports/simulation/\n",
      "2023-09-13 11:16:37,830 - hbmep.dataset.core - INFO - Processing data ...\n",
      "2023-09-13 11:16:37,831 - hbmep.utils.utils - INFO - func:load took: 0.00 sec\n"
     ]
    }
   ],
   "source": [
    "df, encoder_dict = model.load(df)"
   ]
  },
  {
   "cell_type": "code",
   "execution_count": 18,
   "metadata": {},
   "outputs": [
    {
     "name": "stderr",
     "output_type": "stream",
     "text": [
      "2023-09-13 11:16:39,386 - hbmep.dataset.core - INFO - Plotting dataset ...\n"
     ]
    },
    {
     "name": "stderr",
     "output_type": "stream",
     "text": [
      "2023-09-13 11:16:39,621 - hbmep.dataset.core - INFO - Saved to /home/vishu/repos/hbmep-paper/reports/simulation/dataset.pdf\n",
      "2023-09-13 11:16:39,621 - hbmep.utils.utils - INFO - func:plot took: 0.24 sec\n"
     ]
    }
   ],
   "source": [
    "model.plot(df=df, encoder_dict=encoder_dict)"
   ]
  },
  {
   "cell_type": "code",
   "execution_count": 19,
   "metadata": {},
   "outputs": [
    {
     "name": "stderr",
     "output_type": "stream",
     "text": [
      "2023-09-13 11:16:41,156 - hbmep.model.baseline - INFO - Running inference with hierarchical_bayesian ...\n"
     ]
    },
    {
     "data": {
      "application/vnd.jupyter.widget-view+json": {
       "model_id": "13e8619484024ec19347341e615bfa4c",
       "version_major": 2,
       "version_minor": 0
      },
      "text/plain": [
       "  0%|          | 0/10000 [00:00<?, ?it/s]"
      ]
     },
     "metadata": {},
     "output_type": "display_data"
    },
    {
     "data": {
      "application/vnd.jupyter.widget-view+json": {
       "model_id": "70c6ab9d80a840c9a3f14c3ec5183919",
       "version_major": 2,
       "version_minor": 0
      },
      "text/plain": [
       "  0%|          | 0/10000 [00:00<?, ?it/s]"
      ]
     },
     "metadata": {},
     "output_type": "display_data"
    },
    {
     "data": {
      "application/vnd.jupyter.widget-view+json": {
       "model_id": "7530b4a705804bca8a63f8125fffd936",
       "version_major": 2,
       "version_minor": 0
      },
      "text/plain": [
       "  0%|          | 0/10000 [00:00<?, ?it/s]"
      ]
     },
     "metadata": {},
     "output_type": "display_data"
    },
    {
     "data": {
      "application/vnd.jupyter.widget-view+json": {
       "model_id": "37dd973a2f294c55ab7297548ce54b4c",
       "version_major": 2,
       "version_minor": 0
      },
      "text/plain": [
       "  0%|          | 0/10000 [00:00<?, ?it/s]"
      ]
     },
     "metadata": {},
     "output_type": "display_data"
    },
    {
     "name": "stderr",
     "output_type": "stream",
     "text": [
      "2023-09-13 11:16:49,276 - hbmep.utils.utils - INFO - func:run_inference took: 8.12 sec\n"
     ]
    }
   ],
   "source": [
    "mcmc, posterior_samples = model.run_inference(df=df)\n"
   ]
  },
  {
   "cell_type": "code",
   "execution_count": 20,
   "metadata": {},
   "outputs": [
    {
     "name": "stdout",
     "output_type": "stream",
     "text": [
      "\n",
      "                mean       std    median      2.5%     97.5%     n_eff     r_hat\n",
      "  H[0,0,0]      5.31      4.31      3.97      0.68     13.84  10133.07      1.00\n",
      "  L[0,0,0]      0.01      0.00      0.01      0.00      0.01  10471.45      1.00\n",
      "  a[0,0,0]    174.69      8.12    175.24    158.56    188.84  11181.13      1.00\n",
      "  b[0,0,0]      0.05      0.04      0.04      0.00      0.13   7635.79      1.00\n",
      "g_1[0,0,0]     68.10     46.92     57.94      0.59    160.79   7898.05      1.00\n",
      "g_2[0,0,0]      1.03      0.70      0.90      0.00      2.36  12838.31      1.00\n",
      "  v[0,0,0]      8.92      7.19      7.16      0.00     23.00   7346.79      1.00\n",
      "  µ_a[0,0]    167.47     28.75    170.38    106.38    225.07   7577.30      1.00\n",
      "  σ_H[0,0]      5.36      2.95      4.86      0.77     11.13  10448.30      1.00\n",
      "  σ_L[0,0]      0.02      0.02      0.02      0.00      0.07  13094.44      1.00\n",
      "  σ_a[0,0]     34.85     26.94     28.86      0.54     88.32   8499.37      1.00\n",
      "  σ_b[0,0]      0.08      0.05      0.07      0.00      0.18  11861.70      1.00\n",
      "  σ_v[0,0]      9.75      5.80      8.84      0.28     20.75  10619.00      1.00\n",
      "\n",
      "Number of divergences: 310\n"
     ]
    }
   ],
   "source": [
    "mcmc.print_summary(prob=.95)\n"
   ]
  },
  {
   "cell_type": "code",
   "execution_count": 21,
   "metadata": {},
   "outputs": [
    {
     "name": "stderr",
     "output_type": "stream",
     "text": [
      "2023-09-13 11:16:53,055 - hbmep.model.baseline - INFO - Generating predictions ...\n",
      "2023-09-13 11:16:54,239 - hbmep.utils.utils - INFO - func:predict took: 1.18 sec\n",
      "2023-09-13 11:16:54,244 - hbmep.model.baseline - INFO - Rendering recruitment curves ...\n",
      "2023-09-13 11:16:54,551 - hbmep.model.baseline - INFO - Saved to /home/vishu/repos/hbmep-paper/reports/simulation/recruitment_curves.pdf\n",
      "2023-09-13 11:16:54,551 - hbmep.utils.utils - INFO - func:render_recruitment_curves took: 1.50 sec\n"
     ]
    }
   ],
   "source": [
    "model.render_recruitment_curves(df=df, encoder_dict=encoder_dict, posterior_samples=posterior_samples)\n"
   ]
  },
  {
   "cell_type": "code",
   "execution_count": 22,
   "metadata": {},
   "outputs": [
    {
     "name": "stderr",
     "output_type": "stream",
     "text": [
      "2023-09-13 11:16:56,304 - hbmep.model.baseline - INFO - Generating predictions ...\n"
     ]
    },
    {
     "name": "stderr",
     "output_type": "stream",
     "text": [
      "2023-09-13 11:16:57,472 - hbmep.utils.utils - INFO - func:predict took: 1.16 sec\n",
      "2023-09-13 11:16:57,479 - hbmep.model.baseline - INFO - Rendering Posterior Predictive Check ...\n",
      "2023-09-13 11:16:58,022 - hbmep.model.baseline - INFO - Saved to /home/vishu/repos/hbmep-paper/reports/simulation/posterior_predictive_check.pdf\n",
      "2023-09-13 11:16:58,024 - hbmep.utils.utils - INFO - func:render_predictive_check took: 1.72 sec\n"
     ]
    }
   ],
   "source": [
    "model.render_predictive_check(df=df, encoder_dict=encoder_dict, posterior_samples=posterior_samples)\n"
   ]
  },
  {
   "cell_type": "code",
   "execution_count": 24,
   "metadata": {},
   "outputs": [
    {
     "name": "stdout",
     "output_type": "stream",
     "text": [
      "ELPD LOO (Log): 21.18\n",
      "ELPD WAIC (Log): 22.31\n"
     ]
    },
    {
     "name": "stderr",
     "output_type": "stream",
     "text": [
      "/home/vishu/repos/hbmep-paper/.venv/lib/python3.11/site-packages/arviz/stats/stats.py:803: UserWarning: Estimated shape parameter of Pareto distribution is greater than 0.7 for one or more samples. You should consider using a more robust model, this is because importance sampling is less likely to work well if the marginal posterior and LOO posterior are very different. This is more likely to happen with a non-robust model and highly influential observations.\n",
      "  warnings.warn(\n",
      "/home/vishu/repos/hbmep-paper/.venv/lib/python3.11/site-packages/arviz/stats/stats.py:1645: UserWarning: For one or more samples the posterior variance of the log predictive densities exceeds 0.4. This could be indication of WAIC starting to fail. \n",
      "See http://arxiv.org/abs/1507.04544 for details\n",
      "  warnings.warn(\n"
     ]
    }
   ],
   "source": [
    "numpyro_data = az.from_numpyro(mcmc)\n",
    "\n",
    "loo_score = az.loo(numpyro_data)\n",
    "print(f\"ELPD LOO (Log): {loo_score.elpd_loo:.2f}\")\n",
    "\n",
    "waic_score = az.waic(numpyro_data)\n",
    "print(f\"ELPD WAIC (Log): {waic_score.elpd_waic:.2f}\")\n",
    "\n"
   ]
  },
  {
   "cell_type": "code",
   "execution_count": 1,
   "metadata": {},
   "outputs": [
    {
     "ename": "NameError",
     "evalue": "name 'posterior_samples_true' is not defined",
     "output_type": "error",
     "traceback": [
      "\u001b[0;31m---------------------------------------------------------------------------\u001b[0m",
      "\u001b[0;31mNameError\u001b[0m                                 Traceback (most recent call last)",
      "\u001b[1;32m/home/vishu/repos/hbmep-paper/notebooks/rats/paper/sampling-strategy.ipynb Cell 13\u001b[0m line \u001b[0;36m1\n\u001b[0;32m----> <a href='vscode-notebook-cell://ssh-remote%2Bcumc00/home/vishu/repos/hbmep-paper/notebooks/rats/paper/sampling-strategy.ipynb#X34sdnNjb2RlLXJlbW90ZQ%3D%3D?line=0'>1</a>\u001b[0m posterior_samples_true[site\u001b[39m.\u001b[39ma][\u001b[39m0\u001b[39m, \u001b[39m.\u001b[39m\u001b[39m.\u001b[39m\u001b[39m.\u001b[39m]\n",
      "\u001b[0;31mNameError\u001b[0m: name 'posterior_samples_true' is not defined"
     ]
    }
   ],
   "source": [
    "posterior_samples_true[site.a][0, ...]\n"
   ]
  }
 ],
 "metadata": {
  "kernelspec": {
   "display_name": "Python 3 (ipykernel)",
   "language": "python",
   "name": "python3"
  },
  "orig_nbformat": 4
 },
 "nbformat": 4,
 "nbformat_minor": 2
}
