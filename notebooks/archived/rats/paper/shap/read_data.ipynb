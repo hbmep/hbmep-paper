{
 "cells": [
  {
   "cell_type": "code",
   "execution_count": 1,
   "metadata": {},
   "outputs": [],
   "source": [
    "%reload_ext autoreload\n",
    "%autoreload 2\n",
    "\n",
    "import os\n",
    "from pathlib import Path\n",
    "\n",
    "import numpy as np\n",
    "\n",
    "from hbmep_paper.utils import load_rats_data\n"
   ]
  },
  {
   "cell_type": "code",
   "execution_count": 2,
   "metadata": {},
   "outputs": [
    {
     "name": "stderr",
     "output_type": "stream",
     "text": [
      "100%|██████████| 8/8 [00:05<00:00,  1.34it/s]\n",
      "2023-08-12 19:31:43,290 - hbmep.utils.utils - INFO - func:load_rats_data took: 5.98 sec\n"
     ]
    }
   ],
   "source": [
    "dir = \"/mount/hdd1/acute_mapping/proc/physio\"\n",
    "subdir_pattern = [\"*J_SHAP*\"]\n",
    "subjects = range(1, 9)\n",
    "\n",
    "df, mat, time, auc_window, muscles_map = load_rats_data(dir=dir, subdir_pattern=subdir_pattern, subjects=subjects)\n",
    "\n",
    "df.pulse_amplitude = \\\n",
    "    df.apply(\n",
    "        lambda x: (x.pulse_amplitude * 4) if x.compound_charge_params == \"80-0-20-400\" else x.pulse_amplitude,\n",
    "        axis=1\n",
    "    )"
   ]
  },
  {
   "cell_type": "code",
   "execution_count": 3,
   "metadata": {},
   "outputs": [],
   "source": [
    "dst = \"/home/vishu/data/hbmep-processed/J_SHAP\"\n",
    "df.to_csv(os.path.join(dst, \"data.csv\"), index=False)\n",
    "\n",
    "np.save(os.path.join(dst, \"mat.npy\"), mat)\n",
    "np.save(os.path.join(dst, \"auc_window.npy\"), np.array(auc_window))"
   ]
  },
  {
   "cell_type": "code",
   "execution_count": 4,
   "metadata": {},
   "outputs": [],
   "source": [
    "import json\n",
    "\n",
    "f = open(os.path.join(dst, \"muscles_map.json\"), \"w\")\n",
    "f.write(json.dumps(muscles_map))\n",
    "f.close;"
   ]
  },
  {
   "cell_type": "code",
   "execution_count": 5,
   "metadata": {},
   "outputs": [
    {
     "data": {
      "text/plain": [
       "{'auc_1': 'LADM',\n",
       " 'auc_2': 'LBiceps',\n",
       " 'auc_3': 'LBicepsFemoris',\n",
       " 'auc_4': 'LDeltoid',\n",
       " 'auc_5': 'LECR',\n",
       " 'auc_6': 'LFCR',\n",
       " 'auc_7': 'LTriceps',\n",
       " 'auc_8': 'RBiceps'}"
      ]
     },
     "execution_count": 5,
     "metadata": {},
     "output_type": "execute_result"
    }
   ],
   "source": [
    "muscles_map"
   ]
  },
  {
   "cell_type": "code",
   "execution_count": 6,
   "metadata": {},
   "outputs": [
    {
     "data": {
      "text/plain": [
       "(16440, 44)"
      ]
     },
     "execution_count": 6,
     "metadata": {},
     "output_type": "execute_result"
    }
   ],
   "source": [
    "df.shape"
   ]
  },
  {
   "cell_type": "code",
   "execution_count": null,
   "metadata": {},
   "outputs": [],
   "source": []
  }
 ],
 "metadata": {
  "kernelspec": {
   "display_name": ".venv",
   "language": "python",
   "name": "python3"
  },
  "language_info": {
   "codemirror_mode": {
    "name": "ipython",
    "version": 3
   },
   "file_extension": ".py",
   "mimetype": "text/x-python",
   "name": "python",
   "nbconvert_exporter": "python",
   "pygments_lexer": "ipython3",
   "version": "3.11.4"
  },
  "orig_nbformat": 4,
  "vscode": {
   "interpreter": {
    "hash": "850bfd4e6f5ddd996dd5cd5088beecd08558625e274540230e1444ec52025b11"
   }
  }
 },
 "nbformat": 4,
 "nbformat_minor": 2
}
