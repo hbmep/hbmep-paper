{
 "cells": [
  {
   "cell_type": "code",
   "execution_count": 1,
   "metadata": {},
   "outputs": [],
   "source": [
    "%reload_ext autoreload\n",
    "%autoreload 2\n",
    "\n",
    "import os\n",
    "from pathlib import Path\n",
    "import multiprocessing\n",
    "\n",
    "import jax\n",
    "import jax.numpy as jnp\n",
    "import pandas as pd\n",
    "import numpy as np\n",
    "import numpyro\n",
    "import numpyro.distributions as dist\n",
    "\n",
    "from hbmep.config import Config\n",
    "from hbmep.model import Baseline\n",
    "from hbmep.model.utils import Site as site\n",
    "from hbmep.utils.constants import RECTIFIED_LOGISTIC\n",
    "\n",
    "PLATFORM = \"cpu\"\n",
    "jax.config.update(\"jax_platforms\", PLATFORM)\n",
    "numpyro.set_platform(PLATFORM)\n",
    "\n",
    "cpu_count = multiprocessing.cpu_count() - 2\n",
    "numpyro.set_host_device_count(cpu_count)\n",
    "numpyro.enable_x64()\n"
   ]
  },
  {
   "attachments": {},
   "cell_type": "markdown",
   "metadata": {},
   "source": [
    "#### Load config"
   ]
  },
  {
   "cell_type": "code",
   "execution_count": 2,
   "metadata": {},
   "outputs": [
    {
     "name": "stderr",
     "output_type": "stream",
     "text": [
      "2023-07-21 16:28:35,462 - hbmep.config - INFO - Verifying configuration ...\n",
      "2023-07-21 16:28:35,462 - hbmep.config - INFO - Success!\n"
     ]
    }
   ],
   "source": [
    "root_path = Path(os.getcwd()).parent.parent.parent.absolute()\n",
    "toml_path = os.path.join(root_path, \"configs/human_midline_lateral.toml\")\n",
    "\n",
    "config = Config(toml_path=toml_path)\n",
    "\n",
    "config.BUILD_DIR = \"/home/vishu/repos/hbmep-paper/reports/human/nb\"\n"
   ]
  },
  {
   "cell_type": "code",
   "execution_count": 3,
   "metadata": {},
   "outputs": [],
   "source": [
    "class RectifiedLogistic(Baseline):\n",
    "    LINK = RECTIFIED_LOGISTIC\n",
    "\n",
    "    def __init__(self, config: Config):\n",
    "        super(RectifiedLogistic, self).__init__(config=config)\n",
    "\n",
    "    def _model(self, subject, features, intensity, response_obs=None):\n",
    "        intensity = intensity.reshape(-1, 1)\n",
    "        intensity = np.tile(intensity, (1, self.n_response))\n",
    "\n",
    "        feature0 = features[0].reshape(-1,)\n",
    "\n",
    "        n_data = intensity.shape[0]\n",
    "        n_subject = np.unique(subject).shape[0]\n",
    "        n_feature0 = np.unique(feature0).shape[0]\n",
    "\n",
    "        with numpyro.plate(site.n_response, self.n_response, dim=-1):\n",
    "            with numpyro.plate(site.n_subject, n_subject, dim=-2):\n",
    "                \"\"\" Hyper-priors \"\"\"\n",
    "                mu_a = numpyro.sample(\n",
    "                    site.mu_a,\n",
    "                    dist.TruncatedNormal(3, 10, low=0)\n",
    "                )\n",
    "                sigma_a = numpyro.sample(site.sigma_a, dist.HalfNormal(2))\n",
    "\n",
    "                sigma_b = numpyro.sample(site.sigma_b, dist.HalfNormal(10))\n",
    "\n",
    "                sigma_L = numpyro.sample(site.sigma_L, dist.HalfNormal(2))\n",
    "                sigma_H = numpyro.sample(site.sigma_H, dist.HalfNormal(10))\n",
    "                sigma_v = numpyro.sample(site.sigma_v, dist.HalfNormal(10))\n",
    "\n",
    "                with numpyro.plate(\"n_feature0\", n_feature0, dim=-3):\n",
    "                    \"\"\" Priors \"\"\"\n",
    "                    a = numpyro.sample(\n",
    "                        site.a,\n",
    "                        dist.TruncatedNormal(mu_a, sigma_a, low=0)\n",
    "                    )\n",
    "                    b = numpyro.sample(site.b, dist.HalfNormal(sigma_b))\n",
    "\n",
    "                    L = numpyro.sample(site.L, dist.HalfNormal(sigma_L))\n",
    "                    H = numpyro.sample(site.H, dist.HalfNormal(sigma_H))\n",
    "                    v = numpyro.sample(site.v, dist.HalfNormal(sigma_v))\n",
    "\n",
    "                    g_1 = numpyro.sample(\"g_1\", dist.Exponential(1 / 100))\n",
    "                    g_2 = numpyro.sample(\"g_2\", dist.Exponential(1 / 100))\n",
    "\n",
    "        \"\"\" Model \"\"\"\n",
    "        mu = numpyro.deterministic(\n",
    "            site.mu,\n",
    "            L[feature0, subject]\n",
    "            + jnp.maximum(\n",
    "                0,\n",
    "                -1\n",
    "                + (H[feature0, subject] + 1)\n",
    "                / jnp.power(\n",
    "                    1\n",
    "                    + (jnp.power(1 + H[feature0, subject], v[feature0, subject]) - 1)\n",
    "                    * jnp.exp(-b[feature0, subject] * (intensity - a[feature0, subject])),\n",
    "                    1 / v[feature0, subject]\n",
    "                )\n",
    "            )\n",
    "        )\n",
    "        beta = numpyro.deterministic(\n",
    "            site.beta,\n",
    "            g_1[feature0, subject] + g_2[feature0, subject] * (1 / mu)\n",
    "        )\n",
    "\n",
    "        with numpyro.plate(site.data, n_data):\n",
    "            return numpyro.sample(\n",
    "                site.obs,\n",
    "                dist.Gamma(concentration=mu * beta, rate=beta).to_event(1),\n",
    "                obs=response_obs\n",
    "            )\n",
    "\n",
    "\n",
    "model = RectifiedLogistic(config=config)"
   ]
  },
  {
   "cell_type": "code",
   "execution_count": 4,
   "metadata": {},
   "outputs": [
    {
     "name": "stderr",
     "output_type": "stream",
     "text": [
      "2023-07-21 16:28:35,774 - hbmep.dataset.core - INFO - Artefacts will be stored here - /home/vishu/repos/hbmep-paper/reports/human/nb\n",
      "2023-07-21 16:28:35,775 - hbmep.dataset.core - INFO - Copied config to /home/vishu/repos/hbmep-paper/reports/human/nb\n",
      "2023-07-21 16:28:35,775 - hbmep.dataset.core - INFO - Processing data ...\n",
      "2023-07-21 16:28:35,776 - hbmep.utils.utils - INFO - func:load took: 0.00 sec\n"
     ]
    }
   ],
   "source": [
    "df = pd.read_csv(model.csv_path)\n",
    "\n",
    "df = df.dropna(subset=model.response, axis=\"rows\", how=\"any\").copy()\n",
    "df.reset_index(drop=True, inplace=True)\n",
    "\n",
    "ind = df[model.response].apply(lambda x: (x > 0).all(), axis=1)\n",
    "df = df[ind].copy()\n",
    "df.reset_index(drop=True, inplace=True)\n",
    "\n",
    "# sub = [\"amap01\", \"amap02\", \"amap03\", \"amap04\"]\n",
    "# sub += [\"amap05\", \"amap06\", \"amap07\", \"amap08\"]\n",
    "\n",
    "# ind = df.participant.isin(sub)\n",
    "\n",
    "# df = df[ind].copy()\n",
    "# df.reset_index(drop=True, inplace=True)\n",
    "\n",
    "df, encoder_dict = model.load(df=df)"
   ]
  },
  {
   "cell_type": "code",
   "execution_count": 5,
   "metadata": {},
   "outputs": [
    {
     "name": "stderr",
     "output_type": "stream",
     "text": [
      "2023-07-21 16:28:35,925 - hbmep.dataset.core - INFO - Plotting dataset ...\n"
     ]
    },
    {
     "name": "stderr",
     "output_type": "stream",
     "text": [
      "2023-07-21 16:28:39,786 - hbmep.dataset.core - INFO - Saved to /home/vishu/repos/hbmep-paper/reports/human/nb/dataset.pdf\n",
      "2023-07-21 16:28:39,787 - hbmep.utils.utils - INFO - func:plot took: 3.86 sec\n"
     ]
    }
   ],
   "source": [
    "model.plot(df=df, encoder_dict=encoder_dict)"
   ]
  },
  {
   "cell_type": "code",
   "execution_count": 6,
   "metadata": {},
   "outputs": [
    {
     "name": "stderr",
     "output_type": "stream",
     "text": [
      "2023-07-21 16:28:39,921 - hbmep.model.baseline - INFO - Running inference with rectified_logistic ...\n"
     ]
    },
    {
     "data": {
      "application/vnd.jupyter.widget-view+json": {
       "model_id": "8b9ad4d6f60f41e7814961864931ff08",
       "version_major": 2,
       "version_minor": 0
      },
      "text/plain": [
       "  0%|          | 0/10000 [00:00<?, ?it/s]"
      ]
     },
     "metadata": {},
     "output_type": "display_data"
    },
    {
     "data": {
      "application/vnd.jupyter.widget-view+json": {
       "model_id": "aede9274bb864e5bafdaaa3bd8b9802c",
       "version_major": 2,
       "version_minor": 0
      },
      "text/plain": [
       "  0%|          | 0/10000 [00:00<?, ?it/s]"
      ]
     },
     "metadata": {},
     "output_type": "display_data"
    },
    {
     "data": {
      "application/vnd.jupyter.widget-view+json": {
       "model_id": "61b9c08c54ae40eebc58e11c9315e6ba",
       "version_major": 2,
       "version_minor": 0
      },
      "text/plain": [
       "  0%|          | 0/10000 [00:00<?, ?it/s]"
      ]
     },
     "metadata": {},
     "output_type": "display_data"
    },
    {
     "data": {
      "application/vnd.jupyter.widget-view+json": {
       "model_id": "efa2aa2353204f9fa08d362bd1176ba2",
       "version_major": 2,
       "version_minor": 0
      },
      "text/plain": [
       "  0%|          | 0/10000 [00:00<?, ?it/s]"
      ]
     },
     "metadata": {},
     "output_type": "display_data"
    },
    {
     "name": "stderr",
     "output_type": "stream",
     "text": [
      "2023-07-21 16:47:01,394 - hbmep.utils.utils - INFO - func:run_inference took: 18 min and 21.47 sec\n"
     ]
    }
   ],
   "source": [
    "mcmc, posterior_samples = model.run_inference(df=df)\n"
   ]
  },
  {
   "cell_type": "code",
   "execution_count": 7,
   "metadata": {},
   "outputs": [
    {
     "name": "stdout",
     "output_type": "stream",
     "text": [
      "\n",
      "                 mean       std    median      2.5%     97.5%     n_eff     r_hat\n",
      "   H[0,0,0]      8.65      8.44      5.89      0.34     25.49  10543.95      1.00\n",
      "   H[0,1,0]      1.49      0.08      1.48      1.35      1.66   5220.02      1.00\n",
      "   H[0,2,0]      5.87      7.57      3.12      0.01     20.92  10236.38      1.00\n",
      "   H[0,3,0]      1.13      2.96      0.50      0.38      3.93   1344.73      1.00\n",
      "   H[0,4,0]      6.72      6.17      3.99      2.86     19.13   4869.31      1.00\n",
      "   H[0,5,0]      4.47      6.72      1.79      0.00     17.91   3873.58      1.00\n",
      "   H[0,6,0]      0.80      0.12      0.79      0.59      1.04  12978.22      1.00\n",
      "   H[0,7,0]     11.55      2.43     11.17      7.73     16.47   5365.07      1.00\n",
      "   H[0,8,0]     13.59      0.17     13.59     13.27     13.91    462.10      1.00\n",
      "   H[0,9,0]     12.07      7.60      9.39      4.93     27.65   6842.69      1.00\n",
      "  H[0,10,0]      0.21      0.02      0.21      0.18      0.25   5641.45      1.00\n",
      "  H[0,11,0]      2.26      3.71      1.28      0.48      7.50   3916.29      1.00\n",
      "  H[0,12,0]     13.12      0.83     13.05     11.57     14.75   8075.12      1.00\n",
      "   H[1,0,0]      9.26      8.37      6.60      0.93     25.82  10083.76      1.00\n",
      "   H[1,1,0]      4.65      5.47      2.72      0.22     15.36   8091.21      1.00\n",
      "   H[1,2,0]      6.47      7.64      3.78      0.16     21.79  11076.17      1.00\n",
      "   H[1,3,0]      4.06      5.62      1.98      0.15     14.96   6990.45      1.00\n",
      "   H[1,4,0]      3.75      6.27      0.97      0.19     16.20   5040.27      1.00\n",
      "   H[1,5,0]      5.73      6.77      3.38      0.00     19.18   7213.95      1.00\n",
      "   H[1,6,0]      2.09      3.40      1.06      0.58      7.31   4112.36      1.00\n",
      "   H[1,7,0]     10.12      7.04      7.68      3.18     24.24   6972.57      1.00\n",
      "   H[1,8,0]     10.96      0.49     10.94      9.98     11.91  11047.29      1.00\n",
      "   H[1,9,0]      6.76      8.37      3.46      0.52     24.13   3290.07      1.00\n",
      "  H[1,10,0]      1.42      3.36      0.22      0.04      7.18   7980.10      1.00\n",
      "  H[1,11,0]      4.56      5.84      2.46      0.13     15.73   9835.79      1.00\n",
      "  H[1,12,0]     13.55      1.57     13.33     11.14     16.46   3387.94      1.00\n",
      "   L[0,0,0]      0.50      0.16      0.52      0.19      0.76   3439.89      1.00\n",
      "   L[0,1,0]      0.05      0.02      0.05      0.02      0.10   3069.31      1.00\n",
      "   L[0,2,0]      0.08      0.01      0.08      0.04      0.10   1556.03      1.00\n",
      "   L[0,3,0]      0.03      0.01      0.03      0.02      0.05   1592.36      1.00\n",
      "   L[0,4,0]      0.89      0.04      0.89      0.81      0.98  12586.85      1.00\n",
      "   L[0,5,0]      1.85      0.60      2.03      0.22      2.61   1223.70      1.00\n",
      "   L[0,6,0]      0.03      0.00      0.03      0.02      0.04  13121.38      1.00\n",
      "   L[0,7,0]      0.11      0.05      0.10      0.03      0.21   7878.53      1.00\n",
      "   L[0,8,0]      0.07      0.01      0.07      0.04      0.09  13426.10      1.00\n",
      "   L[0,9,0]      0.13      0.02      0.13      0.10      0.17   7013.21      1.00\n",
      "  L[0,10,0]      0.03      0.00      0.03      0.03      0.03  14290.31      1.00\n",
      "  L[0,11,0]      0.29      0.05      0.30      0.19      0.39   8393.01      1.00\n",
      "  L[0,12,0]      0.05      0.00      0.05      0.05      0.06  13148.20      1.00\n",
      "   L[1,0,0]      0.19      0.06      0.20      0.03      0.27   1959.89      1.00\n",
      "   L[1,1,0]      0.06      0.01      0.06      0.04      0.09    439.57      1.01\n",
      "   L[1,2,0]      0.05      0.01      0.05      0.04      0.06   2740.46      1.00\n",
      "   L[1,3,0]      0.03      0.00      0.03      0.03      0.04   2707.90      1.00\n",
      "   L[1,4,0]      0.23      0.06      0.22      0.12      0.37   6309.09      1.00\n",
      "   L[1,5,0]      2.08      0.88      2.38      0.26      3.20   1458.89      1.00\n",
      "   L[1,6,0]      0.03      0.00      0.03      0.02      0.04  13511.37      1.00\n",
      "   L[1,7,0]      0.08      0.01      0.08      0.07      0.10  12723.34      1.00\n",
      "   L[1,8,0]      0.13      0.06      0.12      0.04      0.26   2188.00      1.00\n",
      "   L[1,9,0]      0.12      0.01      0.11      0.10      0.13   1556.77      1.00\n",
      "  L[1,10,0]      0.03      0.00      0.03      0.03      0.03  11040.71      1.00\n",
      "  L[1,11,0]      0.26      0.00      0.26      0.25      0.27  13629.67      1.00\n",
      "  L[1,12,0]      0.08      0.01      0.08      0.06      0.09   1854.33      1.00\n",
      "   a[0,0,0]      2.87      1.60      2.84      0.00      5.62   3408.67      1.00\n",
      "   a[0,1,0]      1.32      0.05      1.32      1.22      1.43   2841.93      1.00\n",
      "   a[0,2,0]      3.67      1.12      3.96      1.02      5.47   1543.34      1.00\n",
      "   a[0,3,0]      4.29      0.27      4.37      3.60      4.63    686.56      1.01\n",
      "   a[0,4,0]      7.18      1.01      7.37      5.02      8.74   5078.16      1.00\n",
      "   a[0,5,0]      6.91      6.19      5.82      0.00     19.02   1363.04      1.00\n",
      "   a[0,6,0]      3.26      0.21      3.25      2.90      3.64   9305.29      1.00\n",
      "   a[0,7,0]      1.40      0.28      1.45      0.82      1.80   5588.45      1.00\n",
      "   a[0,8,0]      1.98      0.01      1.98      1.97      1.99    462.08      1.01\n",
      "   a[0,9,0]      1.62      0.11      1.63      1.41      1.82   6732.33      1.00\n",
      "  a[0,10,0]      3.27      0.19      3.24      2.99      3.64   4465.24      1.00\n",
      "  a[0,11,0]      3.02      0.24      2.99      2.61      3.50   3933.40      1.00\n",
      "  a[0,12,0]      1.39      0.08      1.36      1.28      1.57   5946.69      1.00\n",
      "   a[1,0,0]      5.18      0.58      5.35      3.71      5.99   1879.35      1.00\n",
      "   a[1,1,0]      2.77      0.18      2.71      2.54      3.22    366.01      1.01\n",
      "   a[1,2,0]      4.84      0.32      4.93      4.30      5.34   2212.66      1.00\n",
      "   a[1,3,0]      6.79      0.44      6.66      6.16      7.51   1023.51      1.00\n",
      "   a[1,4,0]      7.57      0.56      7.60      6.67      8.58   2455.37      1.00\n",
      "   a[1,5,0]      6.23      5.91      4.49      0.00     18.88   1634.67      1.00\n",
      "   a[1,6,0]      5.49      0.14      5.53      5.22      5.67   2744.22      1.00\n",
      "   a[1,7,0]      5.28      0.16      5.30      4.95      5.56   6235.59      1.00\n",
      "   a[1,8,0]      6.68      0.23      6.62      6.43      7.40   1040.93      1.00\n",
      "   a[1,9,0]      5.57      0.16      5.51      5.41      5.96    611.47      1.00\n",
      "  a[1,10,0]      9.01      0.58      9.01      8.08      9.92   6181.46      1.00\n",
      "  a[1,11,0]      3.53      0.37      3.51      2.84      4.29   6921.86      1.00\n",
      "  a[1,12,0]      3.53      0.04      3.53      3.48      3.57    317.82      1.01\n",
      "   b[0,0,0]      1.71      1.58      1.29      0.04      4.66   5997.31      1.00\n",
      "   b[0,1,0]      3.84      2.47      3.20      1.02      8.41   5919.07      1.00\n",
      "   b[0,2,0]      0.46      1.13      0.23      0.00      1.32   5020.57      1.00\n",
      "   b[0,3,0]      1.22      1.06      0.87      0.03      3.36   5527.74      1.00\n",
      "   b[0,4,0]      7.88      7.47      5.59      0.24     22.43   7656.23      1.00\n",
      "   b[0,5,0]      5.22      6.78      2.75      0.00     19.00   6167.68      1.00\n",
      "   b[0,6,0]      7.63      6.67      5.52      0.60     20.85   8824.67      1.00\n",
      "   b[0,7,0]      3.27      3.66      1.80      0.27     10.69   5000.86      1.00\n",
      "   b[0,8,0]     15.15     13.37      8.63      3.28     40.75    308.50      1.01\n",
      "   b[0,9,0]      3.61      2.72      2.90      0.21      9.01   6300.07      1.00\n",
      "  b[0,10,0]      1.68      1.57      1.33      0.55      3.45   3334.50      1.00\n",
      "  b[0,11,0]      4.35      4.27      3.00      0.18     12.60   6709.34      1.00\n",
      "  b[0,12,0]      5.33      6.21      2.77      1.22     18.27   4580.97      1.00\n",
      "   b[1,0,0]      1.93      1.54      1.52      0.08      5.01   6072.53      1.00\n",
      "   b[1,1,0]      3.75      3.73      2.72      0.12     10.51   2057.90      1.00\n",
      "   b[1,2,0]      0.74      0.67      0.55      0.02      2.06   6680.45      1.00\n",
      "   b[1,3,0]      0.79      0.69      0.59      0.03      2.16   5645.69      1.00\n",
      "   b[1,4,0]      6.84      7.69      4.30      0.05     22.04   5499.50      1.00\n",
      "   b[1,5,0]      4.06      5.44      2.11      0.00     14.98   5552.27      1.00\n",
      "   b[1,6,0]      3.75      3.38      2.68      0.11     10.31   7105.93      1.00\n",
      "   b[1,7,0]      3.69      3.91      2.25      0.26     11.68   4834.71      1.00\n",
      "   b[1,8,0]     10.25      6.75      8.54      1.48     23.30   2591.32      1.00\n",
      "   b[1,9,0]      4.42      4.17      3.23      0.13     12.20   1614.20      1.00\n",
      "  b[1,10,0]      2.41      4.04      1.01      0.01      9.63   6951.80      1.00\n",
      "  b[1,11,0]      0.70      0.68      0.51      0.02      1.96   7708.75      1.00\n",
      "  b[1,12,0]      6.45      4.07      5.39      1.02     14.62   5632.43      1.00\n",
      " g_1[0,0,0]     50.14     41.76     40.15      0.00    130.91  14159.26      1.00\n",
      " g_1[0,1,0]     86.27     32.40     83.08     25.34    148.86  12996.85      1.00\n",
      " g_1[0,2,0]    126.34    118.93     90.26      0.01    369.03  11196.15      1.00\n",
      " g_1[0,3,0]     99.61     52.92     93.38      2.14    196.39   8148.42      1.00\n",
      " g_1[0,4,0]      1.80      1.67      1.32      0.00      5.14  14888.06      1.00\n",
      " g_1[0,5,0]      0.77      0.52      0.72      0.00      1.70   9655.59      1.00\n",
      " g_1[0,6,0]      0.11      0.11      0.08      0.00      0.32  15724.22      1.00\n",
      " g_1[0,7,0]      0.22      0.11      0.21      0.01      0.42   9332.60      1.00\n",
      " g_1[0,8,0]     25.45      5.66     25.06     14.88     36.71  11684.49      1.00\n",
      " g_1[0,9,0]      0.29      0.25      0.22      0.00      0.79  12312.35      1.00\n",
      "g_1[0,10,0]     64.57     64.24     44.57      0.00    193.43  17895.28      1.00\n",
      "g_1[0,11,0]      0.87      0.82      0.62      0.00      2.51   9822.53      1.00\n",
      "g_1[0,12,0]      0.08      0.07      0.05      0.00      0.22  13664.75      1.00\n",
      " g_1[1,0,0]     12.08     10.59      9.20      0.00     33.23  10255.77      1.00\n",
      " g_1[1,1,0]      4.56      4.33      3.31      0.00     13.15   2567.17      1.00\n",
      " g_1[1,2,0]     52.50     39.76     44.41      0.00    128.87   9509.48      1.00\n",
      " g_1[1,3,0]     72.96     62.79     56.30      0.00    199.79   3410.94      1.00\n",
      " g_1[1,4,0]      0.79      0.67      0.63      0.00      2.13   6551.95      1.00\n",
      " g_1[1,5,0]      4.20      2.95      3.73      0.00      9.72  10481.43      1.00\n",
      " g_1[1,6,0]      2.89      1.80      2.62      0.01      6.25   9525.71      1.00\n",
      " g_1[1,7,0]      0.38      0.35      0.28      0.00      1.08  15339.96      1.00\n",
      " g_1[1,8,0]      3.34      1.15      3.22      1.26      5.61   9508.72      1.00\n",
      " g_1[1,9,0]     12.78      8.72     11.24      0.02     29.39   3924.44      1.00\n",
      "g_1[1,10,0]     51.04     50.84     35.48      0.00    152.80  17603.37      1.00\n",
      "g_1[1,11,0]     47.58     47.01     33.35      0.01    143.14   6571.16      1.00\n",
      "g_1[1,12,0]      1.20      0.49      1.15      0.29      2.17   7967.54      1.00\n",
      " g_2[0,0,0]     56.68     44.04     47.16      0.00    141.65  12275.66      1.00\n",
      " g_2[0,1,0]      6.55      6.30      4.71      0.00     18.99  12332.96      1.00\n",
      " g_2[0,2,0]     66.73     28.24     64.81     13.97    125.45  10004.73      1.00\n",
      " g_2[0,3,0]     12.99      9.41     11.16      0.00     31.09   8614.37      1.00\n",
      " g_2[0,4,0]     35.35     11.48     34.52     13.38     57.69  13659.32      1.00\n",
      " g_2[0,5,0]      1.77      1.11      1.70      0.00      3.70  10567.96      1.00\n",
      " g_2[0,6,0]      1.22      0.20      1.21      0.84      1.61  15517.44      1.00\n",
      " g_2[0,7,0]      1.06      0.39      1.02      0.36      1.86   8494.04      1.00\n",
      " g_2[0,8,0]      0.26      0.26      0.18      0.00      0.78   6410.98      1.00\n",
      " g_2[0,9,0]      6.19      1.21      6.13      3.92      8.64  13050.64      1.00\n",
      "g_2[0,10,0]    135.10     26.95    133.62     84.50    188.74  14018.31      1.00\n",
      "g_2[0,11,0]      4.28      1.09      4.25      2.16      6.46   8324.80      1.00\n",
      "g_2[0,12,0]     10.11      1.96     10.00      6.35     13.94  11663.99      1.00\n",
      " g_2[1,0,0]     24.53     11.35     23.69      2.57     46.47   7870.57      1.00\n",
      " g_2[1,1,0]      4.27      1.20      4.23      1.95      6.67   2408.91      1.00\n",
      " g_2[1,2,0]     10.62      4.86     10.56      0.59     19.23  10183.17      1.00\n",
      " g_2[1,3,0]     11.91      5.22     11.70      1.55     22.07   3720.65      1.00\n",
      " g_2[1,4,0]      0.97      0.36      0.97      0.22      1.69   6480.14      1.00\n",
      " g_2[1,5,0]     11.81      8.46     10.44      0.00     27.64   8582.22      1.00\n",
      " g_2[1,6,0]      2.04      0.43      2.02      1.22      2.89  10995.59      1.00\n",
      " g_2[1,7,0]      6.79      1.79      6.66      3.44     10.32  13770.53      1.00\n",
      " g_2[1,8,0]      0.93      0.59      0.84      0.00      2.05   6274.67      1.00\n",
      " g_2[1,9,0]      8.72      2.92      8.66      3.18     14.57   7587.30      1.00\n",
      "g_2[1,10,0]    146.94     22.47    145.68    103.97    191.48  11995.53      1.00\n",
      "g_2[1,11,0]     95.90     25.65     95.76     43.51    146.74   7845.39      1.00\n",
      "g_2[1,12,0]      3.13      0.54      3.10      2.12      4.20  10299.10      1.00\n",
      "   v[0,0,0]     12.28     10.04      9.77      0.00     31.93   6619.25      1.00\n",
      "   v[0,1,0]      4.49      3.88      3.59      0.00     11.52   5482.66      1.00\n",
      "   v[0,2,0]     13.01     11.24     10.05      0.00     35.33   7088.86      1.00\n",
      "   v[0,3,0]      8.32      8.95      5.30      0.00     26.38   6492.73      1.00\n",
      "   v[0,4,0]      4.81      5.52      2.98      0.00     15.65   6965.51      1.00\n",
      "   v[0,5,0]      7.37      8.34      4.58      0.00     24.01   8350.46      1.00\n",
      "   v[0,6,0]      4.89      5.58      3.01      0.00     16.13   8105.47      1.00\n",
      "   v[0,7,0]      4.43      5.53      2.29      0.00     15.76   4660.77      1.00\n",
      "   v[0,8,0]      0.36      0.45      0.22      0.00      1.16   4273.61      1.00\n",
      "   v[0,9,0]     11.05      8.33      8.93      0.45     27.64   6136.66      1.00\n",
      "  v[0,10,0]      4.54      5.15      2.88      0.00     14.51   7821.05      1.00\n",
      "  v[0,11,0]      4.54      5.36      2.68      0.00     15.47   6821.68      1.00\n",
      "  v[0,12,0]      1.23      2.09      0.33      0.00      5.60   4526.16      1.00\n",
      "   v[1,0,0]     12.16      9.60      9.69      0.01     31.14   6327.74      1.00\n",
      "   v[1,1,0]      7.83      6.98      6.04      0.00     21.31   3965.65      1.00\n",
      "   v[1,2,0]     10.79      9.79      8.08      0.00     30.28   6410.57      1.00\n",
      "   v[1,3,0]     11.77     10.40      9.00      0.00     32.22   7054.08      1.00\n",
      "   v[1,4,0]      6.29      7.08      3.85      0.00     20.59   7331.09      1.00\n",
      "   v[1,5,0]      7.42      8.22      4.66      0.00     23.81  10926.97      1.00\n",
      "   v[1,6,0]      7.33      7.42      5.10      0.00     21.93   6831.55      1.00\n",
      "   v[1,7,0]      4.42      5.20      2.56      0.00     14.82   4668.55      1.00\n",
      "   v[1,8,0]      5.99      4.65      5.02      0.00     14.94   1986.81      1.00\n",
      "   v[1,9,0]      9.05      8.15      6.85      0.00     24.99   5262.48      1.00\n",
      "  v[1,10,0]      7.40      8.22      4.64      0.00     24.28  10702.17      1.00\n",
      "  v[1,11,0]     11.37     10.55      8.45      0.00     32.05   8474.91      1.00\n",
      "  v[1,12,0]      8.54      5.45      7.13      1.04     19.31   5580.85      1.00\n",
      "   µ_a[0,0]      3.86      1.73      3.99      0.04      6.42   4616.02      1.00\n",
      "   µ_a[1,0]      1.96      1.16      1.88      0.00      4.00  10385.74      1.00\n",
      "   µ_a[2,0]      4.12      1.42      4.34      0.48      6.47   3301.52      1.00\n",
      "   µ_a[3,0]      5.32      1.67      5.40      1.44      8.54   8037.27      1.00\n",
      "   µ_a[4,0]      7.26      1.38      7.45      4.30      9.97   3131.68      1.00\n",
      "   µ_a[5,0]      6.43      5.94      4.82      0.00     18.57   1473.70      1.00\n",
      "   µ_a[6,0]      4.15      1.59      4.24      0.39      6.92   6957.74      1.00\n",
      "   µ_a[7,0]      3.06      1.72      2.97      0.00      6.04  10579.21      1.00\n",
      "   µ_a[8,0]      3.96      1.96      3.94      0.02      7.25  10026.89      1.00\n",
      "   µ_a[9,0]      3.25      1.79      3.19      0.00      6.38   9085.21      1.00\n",
      "  µ_a[10,0]      5.66      2.29      5.74      0.74      9.98   6867.00      1.00\n",
      "  µ_a[11,0]      3.17      1.04      3.20      0.43      5.08   4241.91      1.00\n",
      "  µ_a[12,0]      2.31      1.34      2.24      0.00      4.67  10952.94      1.00\n",
      "   σ_H[0,0]     10.25      5.89      9.19      1.26     21.81   9975.02      1.00\n",
      "   σ_H[1,0]      5.56      4.50      4.12      0.56     14.89   9322.54      1.00\n",
      "   σ_H[2,0]      7.86      6.02      6.55      0.11     19.48   9080.34      1.00\n",
      "   σ_H[3,0]      4.80      4.73      3.10      0.20     14.65   4794.27      1.00\n",
      "   σ_H[4,0]      7.67      5.20      6.20      1.05     18.13   6270.81      1.00\n",
      "   σ_H[5,0]      7.13      5.67      5.62      0.00     18.63   5418.22      1.00\n",
      "   σ_H[6,0]      3.33      3.43      2.07      0.34     10.61   5729.35      1.00\n",
      "   σ_H[7,0]     11.64      4.78     10.72      4.11     21.11  10330.15      1.00\n",
      "   σ_H[8,0]     12.48      4.41     11.64      5.35     21.36  15331.45      1.00\n",
      "   σ_H[9,0]     10.97      5.52      9.94      2.46     21.71   6647.84      1.00\n",
      "  σ_H[10,0]      2.05      3.22      0.70      0.06      8.90   7922.09      1.00\n",
      "  σ_H[11,0]      5.69      4.82      4.16      0.34     15.49   8326.20      1.00\n",
      "  σ_H[12,0]     12.97      4.34     12.24      5.76     21.64  12011.82      1.00\n",
      "   σ_L[0,0]      0.82      0.64      0.62      0.09      2.13  10824.50      1.00\n",
      "   σ_L[1,0]      0.23      0.35      0.12      0.02      0.82   6499.28      1.00\n",
      "   σ_L[2,0]      0.24      0.34      0.13      0.02      0.85   8869.81      1.00\n",
      "   σ_L[3,0]      0.15      0.27      0.07      0.01      0.55   8195.39      1.00\n",
      "   σ_L[4,0]      1.17      0.72      0.96      0.28      2.62  11403.47      1.00\n",
      "   σ_L[5,0]      2.17      0.96      2.07      0.30      4.10   3652.67      1.00\n",
      "   σ_L[6,0]      0.13      0.26      0.06      0.01      0.49   5490.09      1.00\n",
      "   σ_L[7,0]      0.32      0.40      0.18      0.03      1.08  10204.54      1.00\n",
      "   σ_L[8,0]      0.34      0.42      0.20      0.03      1.13   7829.14      1.00\n",
      "   σ_L[9,0]      0.40      0.45      0.24      0.05      1.27   9540.06      1.00\n",
      "  σ_L[10,0]      0.14      0.27      0.07      0.01      0.51   8366.08      1.00\n",
      "  σ_L[11,0]      0.68      0.57      0.48      0.11      1.86  11591.52      1.00\n",
      "  σ_L[12,0]      0.24      0.34      0.13      0.02      0.83   9905.37      1.00\n",
      "   σ_a[0,0]      2.00      1.15      1.89      0.02      4.09   5180.11      1.00\n",
      "   σ_a[1,0]      1.78      0.95      1.60      0.40      3.67   9819.33      1.00\n",
      "   σ_a[2,0]      1.53      1.11      1.29      0.01      3.71   2787.26      1.00\n",
      "   σ_a[3,0]      2.15      1.02      1.95      0.55      4.13   7631.58      1.00\n",
      "   σ_a[4,0]      1.24      1.04      0.96      0.01      3.35   4181.72      1.00\n",
      "   σ_a[5,0]      1.74      1.23      1.50      0.01      4.11   6548.05      1.00\n",
      "   σ_a[6,0]      2.09      1.02      1.88      0.54      4.10   7932.56      1.00\n",
      "   σ_a[7,0]      2.62      0.96      2.48      1.00      4.50  13306.37      1.00\n",
      "   σ_a[8,0]      2.85      0.99      2.70      1.20      4.82  13633.39      1.00\n",
      "   σ_a[9,0]      2.65      0.97      2.50      1.00      4.54  11865.41      1.00\n",
      "  σ_a[10,0]      3.09      1.02      2.95      1.34      5.09  11011.41      1.00\n",
      "  σ_a[11,0]      1.18      1.00      0.89      0.00      3.22   4908.67      1.00\n",
      "  σ_a[12,0]      2.05      0.96      1.87      0.58      3.94  10766.91      1.00\n",
      "   σ_b[0,0]      3.90      3.46      2.83      0.09     10.90   7663.82      1.00\n",
      "   σ_b[1,0]      6.29      4.30      5.16      0.78     15.04   5518.57      1.00\n",
      "   σ_b[2,0]      1.93      2.57      1.01      0.02      7.07   6092.01      1.00\n",
      "   σ_b[3,0]      2.69      2.86      1.73      0.03      8.38   9037.56      1.00\n",
      "   σ_b[4,0]      9.00      5.85      7.92      0.32     20.24   7230.90      1.00\n",
      "   σ_b[5,0]      6.63      5.47      5.24      0.00     17.57   6436.18      1.00\n",
      "   σ_b[6,0]      8.02      5.02      6.88      0.81     18.10   7746.49      1.00\n",
      "   σ_b[7,0]      5.62      4.56      4.33      0.31     14.80   6162.88      1.00\n",
      "   σ_b[8,0]     12.50      6.32     11.74      2.29     24.36    575.95      1.00\n",
      "   σ_b[9,0]      6.41      4.52      5.30      0.23     15.46   5020.39      1.00\n",
      "  σ_b[10,0]      4.17      3.89      2.81      0.29     12.29   7238.58      1.00\n",
      "  σ_b[11,0]      5.12      4.24      3.91      0.13     13.75   8594.81      1.00\n",
      "  σ_b[12,0]      8.13      4.96      7.03      1.16     17.96   7289.84      1.00\n",
      "   σ_v[0,0]     12.02      6.21     11.28      1.45     24.07   6637.89      1.00\n",
      "   σ_v[1,0]      8.22      5.25      7.21      0.00     18.31   5373.51      1.00\n",
      "   σ_v[2,0]     11.75      6.50     10.98      0.31     23.83   6235.62      1.00\n",
      "   σ_v[3,0]     10.67      6.45      9.82      0.10     22.61   6744.67      1.00\n",
      "   σ_v[4,0]      7.42      5.59      6.21      0.01     18.20   7749.18      1.00\n",
      "   σ_v[5,0]      8.87      6.18      7.80      0.01     20.60   8269.84      1.00\n",
      "   σ_v[6,0]      7.98      5.64      6.91      0.02     18.75   6822.87      1.00\n",
      "   σ_v[7,0]      6.32      5.33      4.97      0.00     16.86   4821.50      1.00\n",
      "   σ_v[8,0]      6.21      4.59      5.24      0.00     15.11   3486.78      1.00\n",
      "   σ_v[9,0]     10.88      5.84     10.06      1.13     22.09   7392.19      1.00\n",
      "  σ_v[10,0]      7.89      5.82      6.73      0.00     19.13   9250.53      1.00\n",
      "  σ_v[11,0]      9.60      6.19      8.66      0.01     21.25   6966.32      1.00\n",
      "  σ_v[12,0]      8.02      4.81      6.99      0.93     17.49   8483.88      1.00\n",
      "\n",
      "Number of divergences: 6565\n"
     ]
    }
   ],
   "source": [
    "mcmc.print_summary(prob=.95)\n"
   ]
  },
  {
   "cell_type": "code",
   "execution_count": 8,
   "metadata": {},
   "outputs": [
    {
     "name": "stderr",
     "output_type": "stream",
     "text": [
      "2023-07-21 16:47:03,119 - hbmep.model.baseline - INFO - Rendering recruitment curves ...\n"
     ]
    },
    {
     "name": "stderr",
     "output_type": "stream",
     "text": [
      "2023-07-21 16:47:41,230 - hbmep.model.baseline - INFO - Saved to /home/vishu/repos/hbmep-paper/reports/human/nb/recruitment_curves.pdf\n",
      "2023-07-21 16:47:41,230 - hbmep.utils.utils - INFO - func:render_recruitment_curves took: 38.11 sec\n"
     ]
    }
   ],
   "source": [
    "model.render_recruitment_curves(df=df, encoder_dict=encoder_dict, posterior_samples=posterior_samples)\n"
   ]
  },
  {
   "cell_type": "code",
   "execution_count": 9,
   "metadata": {},
   "outputs": [
    {
     "name": "stderr",
     "output_type": "stream",
     "text": [
      "2023-07-21 16:47:41,301 - hbmep.model.baseline - INFO - Rendering Posterior Predictive Check ...\n"
     ]
    },
    {
     "name": "stderr",
     "output_type": "stream",
     "text": [
      "2023-07-21 16:48:26,092 - hbmep.model.baseline - INFO - Saved to /home/vishu/repos/hbmep-paper/reports/human/nb/posterior_predictive_check.pdf\n",
      "2023-07-21 16:48:26,094 - hbmep.utils.utils - INFO - func:render_predictive_check took: 44.79 sec\n"
     ]
    }
   ],
   "source": [
    "model.render_predictive_check(df=df, encoder_dict=encoder_dict, posterior_samples=posterior_samples)\n"
   ]
  },
  {
   "cell_type": "code",
   "execution_count": 10,
   "metadata": {},
   "outputs": [
    {
     "name": "stderr",
     "output_type": "stream",
     "text": [
      "2023-07-21 16:48:26,188 - hbmep.model.baseline - INFO - Saving inference data ...\n"
     ]
    },
    {
     "name": "stderr",
     "output_type": "stream",
     "text": [
      "2023-07-21 16:48:36,644 - hbmep.model.baseline - INFO - Saved to /home/vishu/repos/hbmep-paper/reports/human/nb/mcmc.nc\n",
      "2023-07-21 16:48:36,645 - hbmep.model.baseline - INFO - Rendering convergence diagnostics ...\n",
      "2023-07-21 16:48:58,581 - hbmep.model.baseline - INFO - Saved to /home/vishu/repos/hbmep-paper/reports/human/nb/diagnostics.csv\n",
      "2023-07-21 16:48:58,581 - hbmep.model.baseline - INFO - Evaluating model ...\n",
      "/home/vishu/repos/hbmep-paper/.venv/lib/python3.11/site-packages/arviz/stats/stats.py:1037: RuntimeWarning: overflow encountered in exp\n",
      "  weights = 1 / np.exp(len_scale - len_scale[:, None]).sum(axis=1)\n",
      "/home/vishu/repos/hbmep-paper/.venv/lib/python3.11/site-packages/arviz/stats/stats.py:803: UserWarning: Estimated shape parameter of Pareto distribution is greater than 0.7 for one or more samples. You should consider using a more robust model, this is because importance sampling is less likely to work well if the marginal posterior and LOO posterior are very different. This is more likely to happen with a non-robust model and highly influential observations.\n",
      "  warnings.warn(\n",
      "2023-07-21 16:49:02,228 - hbmep.model.baseline - INFO - ELPD LOO (Log): 904.93\n",
      "/home/vishu/repos/hbmep-paper/.venv/lib/python3.11/site-packages/arviz/stats/stats.py:1645: UserWarning: For one or more samples the posterior variance of the log predictive densities exceeds 0.4. This could be indication of WAIC starting to fail. \n",
      "See http://arxiv.org/abs/1507.04544 for details\n",
      "  warnings.warn(\n",
      "2023-07-21 16:49:02,586 - hbmep.model.baseline - INFO - ELPD WAIC (Log): 915.05\n",
      "2023-07-21 16:49:02,592 - hbmep.utils.utils - INFO - func:save took: 36.40 sec\n"
     ]
    }
   ],
   "source": [
    "model.save(mcmc=mcmc)"
   ]
  }
 ],
 "metadata": {
  "kernelspec": {
   "display_name": ".venv",
   "language": "python",
   "name": "python3"
  },
  "language_info": {
   "codemirror_mode": {
    "name": "ipython",
    "version": 3
   },
   "file_extension": ".py",
   "mimetype": "text/x-python",
   "name": "python",
   "nbconvert_exporter": "python",
   "pygments_lexer": "ipython3",
   "version": "3.11.4"
  },
  "orig_nbformat": 4,
  "vscode": {
   "interpreter": {
    "hash": "850bfd4e6f5ddd996dd5cd5088beecd08558625e274540230e1444ec52025b11"
   }
  }
 },
 "nbformat": 4,
 "nbformat_minor": 2
}
