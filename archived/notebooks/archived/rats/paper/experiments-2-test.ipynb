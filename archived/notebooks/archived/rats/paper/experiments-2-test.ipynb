{
 "cells": [
  {
   "cell_type": "code",
   "execution_count": 1,
   "metadata": {},
   "outputs": [],
   "source": [
    "%reload_ext autoreload\n",
    "%autoreload 2\n",
    "\n",
    "import os\n",
    "from pathlib import Path\n",
    "import multiprocessing\n",
    "\n",
    "import numpy as np\n",
    "import jax\n",
    "import numpyro\n",
    "\n",
    "from hbmep.config import Config\n",
    "from hbmep.model import Model\n",
    "from hbmep.model import RectifiedLogistic\n",
    "from hbmep.model.utils import Site as site\n",
    "\n",
    "from hbmep_paper.utils import simulate, run_experiment\n",
    "\n",
    "PLATFORM = \"cpu\"\n",
    "jax.config.update(\"jax_platforms\", PLATFORM)\n",
    "numpyro.set_platform(PLATFORM)\n",
    "\n",
    "cpu_count = multiprocessing.cpu_count() - 2\n",
    "numpyro.set_host_device_count(cpu_count)\n",
    "numpyro.enable_x64()\n"
   ]
  },
  {
   "attachments": {},
   "cell_type": "markdown",
   "metadata": {},
   "source": [
    "#### Load config"
   ]
  },
  {
   "cell_type": "code",
   "execution_count": 2,
   "metadata": {},
   "outputs": [],
   "source": [
    "root_path = Path(os.getcwd()).parent.parent.parent.absolute()\n",
    "toml_path = os.path.join(root_path, \"configs/experiments.toml\")\n"
   ]
  },
  {
   "cell_type": "code",
   "execution_count": 3,
   "metadata": {},
   "outputs": [
    {
     "name": "stderr",
     "output_type": "stream",
     "text": [
      "2023-08-01 11:19:15,334 - hbmep.config - INFO - Verifying configuration ...\n",
      "2023-08-01 11:19:15,335 - hbmep.config - INFO - Success!\n"
     ]
    }
   ],
   "source": [
    "# Initialize and validate configuration\n",
    "config = Config(toml_path=toml_path)\n",
    "\n",
    "config.BUILD_DIR = \"/home/vishu/repos/hbmep-paper/reports/experiments-2/\"\n"
   ]
  },
  {
   "cell_type": "code",
   "execution_count": 4,
   "metadata": {},
   "outputs": [
    {
     "name": "stderr",
     "output_type": "stream",
     "text": [
      "2023-08-01 11:19:15,368 - hbmep.model.baseline - INFO - Initialized model with rectified_logistic link\n"
     ]
    }
   ],
   "source": [
    "# Initialize model\n",
    "model = Model(config=config)"
   ]
  },
  {
   "cell_type": "code",
   "execution_count": 5,
   "metadata": {},
   "outputs": [
    {
     "name": "stderr",
     "output_type": "stream",
     "text": [
      "2023-08-01 11:19:15,385 - hbmep_paper.utils.utils - INFO - Simulating data ...\n"
     ]
    },
    {
     "name": "stderr",
     "output_type": "stream",
     "text": [
      "2023-08-01 11:19:18,418 - hbmep.utils.utils - INFO - func:predict took: 3.03 sec\n",
      "2023-08-01 11:19:18,418 - hbmep.utils.utils - INFO - func:simulate took: 3.03 sec\n"
     ]
    }
   ],
   "source": [
    "# Load data\n",
    "simulation_params = {\n",
    "    \"n_subject\": 3,\n",
    "    \"n_feature0\": 10,\n",
    "    \"n_repeats\": 10\n",
    "}\n",
    "df, posterior_samples_true = simulate(model=model.model, **simulation_params)\n",
    "\n",
    "obs = np.array(posterior_samples_true[site.obs])\n",
    "\n",
    "# ind = df[[\"participant\", \"compound_position\"]].apply(tuple, axis=1).isin([(0, 0)])\n",
    "ind = df.compound_position.isin([0, 1, 2])\n",
    "df = df[ind].copy()\n",
    "df.reset_index(drop=True, inplace=True)\n",
    "obs = obs[:, ind, :]"
   ]
  },
  {
   "cell_type": "code",
   "execution_count": 6,
   "metadata": {},
   "outputs": [
    {
     "name": "stderr",
     "output_type": "stream",
     "text": [
      "2023-08-01 11:19:18,436 - hbmep.dataset.core - INFO - Artefacts will be stored here - /home/vishu/repos/hbmep-paper/reports/experiments-2/\n",
      "2023-08-01 11:19:18,437 - hbmep.dataset.core - INFO - Copied config to /home/vishu/repos/hbmep-paper/reports/experiments-2/\n",
      "2023-08-01 11:19:18,437 - hbmep.dataset.core - INFO - Processing data ...\n",
      "2023-08-01 11:19:18,438 - hbmep.utils.utils - INFO - func:load took: 0.00 sec\n"
     ]
    }
   ],
   "source": [
    "df, encoder_dict = model.load(df=df)\n",
    "\n",
    "df[model.model.response] = obs[-1, ...]"
   ]
  },
  {
   "cell_type": "code",
   "execution_count": 7,
   "metadata": {},
   "outputs": [
    {
     "name": "stderr",
     "output_type": "stream",
     "text": [
      "2023-08-01 11:19:18,456 - hbmep.dataset.core - INFO - Plotting dataset ...\n"
     ]
    },
    {
     "name": "stderr",
     "output_type": "stream",
     "text": [
      "2023-08-01 11:19:21,449 - hbmep.dataset.core - INFO - Saved to /home/vishu/repos/hbmep-paper/reports/experiments-2/dataset.pdf\n",
      "2023-08-01 11:19:21,450 - hbmep.utils.utils - INFO - func:plot took: 3.00 sec\n"
     ]
    }
   ],
   "source": [
    "model.plot(df=df, encoder_dict=encoder_dict)"
   ]
  },
  {
   "cell_type": "code",
   "execution_count": 8,
   "metadata": {},
   "outputs": [
    {
     "name": "stderr",
     "output_type": "stream",
     "text": [
      "2023-08-01 11:19:21,467 - hbmep.model.baseline - INFO - Running inference with rectified_logistic ...\n"
     ]
    },
    {
     "data": {
      "application/vnd.jupyter.widget-view+json": {
       "model_id": "de9680521544430d8542cd7e943b5cea",
       "version_major": 2,
       "version_minor": 0
      },
      "text/plain": [
       "  0%|          | 0/10000 [00:00<?, ?it/s]"
      ]
     },
     "metadata": {},
     "output_type": "display_data"
    },
    {
     "data": {
      "application/vnd.jupyter.widget-view+json": {
       "model_id": "383cb76dd3a040f6aefb9908f15e136b",
       "version_major": 2,
       "version_minor": 0
      },
      "text/plain": [
       "  0%|          | 0/10000 [00:00<?, ?it/s]"
      ]
     },
     "metadata": {},
     "output_type": "display_data"
    },
    {
     "data": {
      "application/vnd.jupyter.widget-view+json": {
       "model_id": "ba4911b4480f4f7b94f24bb1acb37378",
       "version_major": 2,
       "version_minor": 0
      },
      "text/plain": [
       "  0%|          | 0/10000 [00:00<?, ?it/s]"
      ]
     },
     "metadata": {},
     "output_type": "display_data"
    },
    {
     "data": {
      "application/vnd.jupyter.widget-view+json": {
       "model_id": "4ca2e1129fa94737b9c281699d0a0cb6",
       "version_major": 2,
       "version_minor": 0
      },
      "text/plain": [
       "  0%|          | 0/10000 [00:00<?, ?it/s]"
      ]
     },
     "metadata": {},
     "output_type": "display_data"
    },
    {
     "name": "stderr",
     "output_type": "stream",
     "text": [
      "2023-08-01 11:34:23,078 - hbmep.utils.utils - INFO - func:run_inference took: 15 min and 1.61 sec\n"
     ]
    }
   ],
   "source": [
    "mcmc, posterior_samples = model.run_inference(df=df)"
   ]
  },
  {
   "cell_type": "code",
   "execution_count": 13,
   "metadata": {},
   "outputs": [
    {
     "name": "stdout",
     "output_type": "stream",
     "text": [
      "\n",
      "                mean       std    median      2.5%     97.5%     n_eff     r_hat\n",
      "  H[0,0,0]      1.71      1.84      1.14      0.18      5.04   8195.40      1.00\n",
      "  H[0,1,0]      1.73      0.06      1.72      1.62      1.83  12658.58      1.00\n",
      "  H[0,2,0]      2.64      3.58      1.28      0.00      9.96   9231.85      1.00\n",
      "  H[1,0,0]      0.79      0.02      0.79      0.75      0.84  16779.64      1.00\n",
      "  H[1,1,0]      1.05      0.02      1.05      1.01      1.08  14889.45      1.00\n",
      "  H[1,2,0]      2.58      3.55      1.24      0.00      9.64   9922.21      1.00\n",
      "  H[2,0,0]      0.33      0.01      0.33      0.31      0.34  13233.07      1.00\n",
      "  H[2,1,0]      3.34      1.39      2.97      2.33      5.36   3472.10      1.00\n",
      "  H[2,2,0]      2.77      3.59      1.43      0.01      9.89  10439.10      1.00\n",
      "  L[0,0,0]      0.01      0.00      0.01      0.01      0.01  14321.01      1.00\n",
      "  L[0,1,0]      0.00      0.00      0.00      0.00      0.00  15611.73      1.00\n",
      "  L[0,2,0]      0.02      0.00      0.02      0.02      0.02  12606.68      1.00\n",
      "  L[1,0,0]      0.09      0.00      0.09      0.09      0.09  15674.45      1.00\n",
      "  L[1,1,0]      0.05      0.00      0.05      0.05      0.05  16363.95      1.00\n",
      "  L[1,2,0]      0.01      0.00      0.01      0.01      0.01  11144.27      1.00\n",
      "  L[2,0,0]      0.14      0.00      0.14      0.14      0.14  15085.62      1.00\n",
      "  L[2,1,0]      0.01      0.00      0.01      0.01      0.01  14996.90      1.00\n",
      "  L[2,2,0]      0.04      0.00      0.04      0.03      0.04   9701.31      1.00\n",
      "  a[0,0,0]    195.09      1.02    195.07    193.05    197.09  15079.91      1.00\n",
      "  a[0,1,0]    236.73      0.47    236.68    235.97    237.59  10788.81      1.00\n",
      "  a[0,2,0]    331.55     81.43    343.99    170.08    496.15   2969.59      1.00\n",
      "  a[1,0,0]    217.29      0.89    217.35    215.61    218.92  11572.46      1.00\n",
      "  a[1,1,0]    232.74      0.56    232.70    231.84    233.77  11462.27      1.00\n",
      "  a[1,2,0]    334.51     66.30    336.02    190.58    470.91   3179.90      1.00\n",
      "  a[2,0,0]    230.80      0.60    230.92    229.62    231.72   8539.51      1.00\n",
      "  a[2,1,0]    229.92      0.32    229.94    229.29    230.52  20936.59      1.00\n",
      "  a[2,2,0]    289.86     23.10    294.47    241.81    341.37   3539.27      1.00\n",
      "  b[0,0,0]      0.01      0.01      0.01      0.00      0.02   7102.11      1.00\n",
      "  b[0,1,0]      0.16      0.07      0.14      0.06      0.29   6810.87      1.00\n",
      "  b[0,2,0]      0.01      0.04      0.00      0.00      0.07   3204.64      1.00\n",
      "  b[1,0,0]      0.30      0.12      0.27      0.10      0.53   6424.88      1.00\n",
      "  b[1,1,0]      0.23      0.06      0.22      0.14      0.34   7406.11      1.00\n",
      "  b[1,2,0]      0.01      0.03      0.00      0.00      0.06   3093.77      1.00\n",
      "  b[2,0,0]      0.34      0.10      0.32      0.18      0.54   7102.88      1.00\n",
      "  b[2,1,0]      0.10      0.05      0.09      0.02      0.20   5687.84      1.00\n",
      "  b[2,2,0]      0.01      0.02      0.00      0.00      0.03   2876.45      1.00\n",
      "g_1[0,0,0]     95.69     95.26     66.07      0.00    284.25  20120.62      1.00\n",
      "g_1[0,1,0]     20.67     11.19     19.48      0.00     40.92  14257.46      1.00\n",
      "g_1[0,2,0]    101.43     99.94     70.42      0.01    307.32   5953.36      1.00\n",
      "g_1[1,0,0]     14.71     11.59     12.13      0.00     37.18  13669.65      1.00\n",
      "g_1[1,1,0]     56.14     37.50     49.91      0.00    126.43  14124.55      1.00\n",
      "g_1[1,2,0]    101.74    100.34     71.23      0.01    298.70  20351.38      1.00\n",
      "g_1[2,0,0]    158.78    117.58    136.05      0.03    384.16   7355.66      1.00\n",
      "g_1[2,1,0]     16.46     13.32     13.27      0.00     42.64  15666.30      1.00\n",
      "g_1[2,2,0]     54.48     51.60     38.80      0.00    162.01   4971.95      1.00\n",
      "g_2[0,0,0]    186.35     28.78    185.02    132.07    243.08  15317.52      1.00\n",
      "g_2[0,1,0]     31.13      5.39     30.87     20.79     41.74  15153.98      1.00\n",
      "g_2[0,2,0]     10.18      2.42     10.33      5.19     14.94   7979.91      1.00\n",
      "g_2[1,0,0]     37.16      6.87     36.90     23.97     50.73  14035.91      1.00\n",
      "g_2[1,1,0]    108.74     19.90    107.95     71.07    147.97  14986.54      1.00\n",
      "g_2[1,2,0]     55.20      8.45     54.78     38.90     71.87  16553.32      1.00\n",
      "g_2[2,0,0]    118.75     32.76    119.95     53.90    182.51   8022.14      1.00\n",
      "g_2[2,1,0]     80.79     13.21     80.11     55.69    106.71  14207.53      1.00\n",
      "g_2[2,2,0]      9.13      2.55      9.36      3.60     13.95   6411.08      1.00\n",
      "  v[0,0,0]     14.85     10.43     12.29      0.07     35.24   7068.14      1.00\n",
      "  v[0,1,0]      6.03      3.01      5.42      1.55     12.42   6697.14      1.00\n",
      "  v[0,2,0]     10.49     10.52      7.27      0.00     31.63   9165.20      1.00\n",
      "  v[1,0,0]      8.15      4.46      7.55      0.04     16.31   5697.69      1.00\n",
      "  v[1,1,0]      1.46      1.19      1.17      0.05      3.76   6626.49      1.00\n",
      "  v[1,2,0]     11.04     11.05      7.74      0.00     32.77   9792.12      1.00\n",
      "  v[2,0,0]      4.89      4.13      3.86      0.05     13.00   6560.09      1.00\n",
      "  v[2,1,0]      8.69      4.45      7.82      1.54     17.22   5722.17      1.00\n",
      "  v[2,2,0]      8.06      8.66      5.18      0.00     25.45   6681.51      1.00\n",
      "  µ_a[0,0]    206.20     19.79    208.90    163.91    242.50   5747.28      1.00\n",
      "  µ_a[1,0]    230.85      9.35    232.52    210.33    246.36   2191.59      1.00\n",
      "  µ_a[2,0]    249.99     47.46    254.24    157.80    337.81   7136.20      1.00\n",
      "  σ_H[0,0]      1.81      1.53      1.31      0.29      4.96   8362.50      1.00\n",
      "  σ_H[1,0]      3.20      1.66      2.76      0.97      6.59   8175.12      1.00\n",
      "  σ_H[2,0]      3.45      2.95      2.77      0.01      9.27   6731.05      1.00\n",
      "  σ_L[0,0]      0.08      0.02      0.08      0.05      0.13  15681.31      1.00\n",
      "  σ_L[1,0]      0.04      0.02      0.04      0.02      0.08  13062.94      1.00\n",
      "  σ_L[2,0]      0.03      0.02      0.03      0.01      0.06  13737.20      1.00\n",
      "  σ_a[0,0]     31.36     19.05     25.92      7.74     70.00   6421.23      1.00\n",
      "  σ_a[1,0]     10.77     12.18      6.50      1.27     34.49   3350.50      1.00\n",
      "  σ_a[2,0]     70.44     39.86     67.93      0.56    140.31   3894.60      1.00\n",
      "  σ_b[0,0]      0.20      0.05      0.19      0.10      0.30   8648.48      1.00\n",
      "  σ_b[1,0]      0.16      0.05      0.15      0.07      0.25  11485.87      1.00\n",
      "  σ_b[2,0]      0.02      0.03      0.01      0.00      0.09   3023.03      1.00\n",
      "  σ_v[0,0]     11.20      5.39     10.39      2.08     21.90   6990.10      1.00\n",
      "  σ_v[1,0]      8.02      4.04      7.22      1.80     15.99   8649.43      1.00\n",
      "  σ_v[2,0]     10.91      6.63     10.10      0.00     23.08   6613.97      1.00\n",
      "\n",
      "Number of divergences: 2333\n"
     ]
    }
   ],
   "source": [
    "mcmc.print_summary(prob=0.95)"
   ]
  },
  {
   "cell_type": "code",
   "execution_count": 15,
   "metadata": {},
   "outputs": [
    {
     "name": "stderr",
     "output_type": "stream",
     "text": [
      "2023-08-01 11:43:36,634 - hbmep.model.baseline - INFO - Generating predictions ...\n"
     ]
    },
    {
     "name": "stderr",
     "output_type": "stream",
     "text": [
      "2023-08-01 11:43:45,115 - hbmep.utils.utils - INFO - func:predict took: 8.47 sec\n",
      "2023-08-01 11:43:45,147 - hbmep.model.baseline - INFO - Rendering recruitment curves ...\n",
      "2023-08-01 11:43:48,608 - hbmep.model.baseline - INFO - Saved to /home/vishu/repos/hbmep-paper/reports/experiments-2/recruitment_curves.pdf\n",
      "2023-08-01 11:43:48,609 - hbmep.utils.utils - INFO - func:render_recruitment_curves took: 11.97 sec\n"
     ]
    }
   ],
   "source": [
    "model.render_recruitment_curves(df=df, posterior_samples=posterior_samples, encoder_dict=encoder_dict)"
   ]
  },
  {
   "cell_type": "code",
   "execution_count": null,
   "metadata": {},
   "outputs": [
    {
     "name": "stderr",
     "output_type": "stream",
     "text": [
      "2023-07-31 15:19:56,754 - hbmep.model.baseline - INFO - Initialized model with baseline link\n",
      "2023-07-31 15:19:56,755 - hbmep.dataset.core - INFO - Artefacts will be stored here - /home/vishu/repos/hbmep-paper/reports/experiments-2/\n",
      "2023-07-31 15:19:56,755 - hbmep.dataset.core - INFO - Copied config to /home/vishu/repos/hbmep-paper/reports/experiments-2/\n",
      "2023-07-31 15:19:56,755 - hbmep.dataset.core - INFO - Processing data ...\n",
      "2023-07-31 15:19:56,756 - hbmep.utils.utils - INFO - func:load took: 0.00 sec\n",
      "2023-07-31 15:19:56,758 - hbmep_paper.utils.utils - INFO - \n",
      "\n",
      "\n",
      "2023-07-31 15:19:56,758 - hbmep_paper.utils.utils - INFO -  Experiment: 1/2, Model: 1/1 (rectified_logistic) \n",
      "2023-07-31 15:19:56,758 - hbmep.model.baseline - INFO - Initialized model with rectified_logistic link\n"
     ]
    },
    {
     "name": "stderr",
     "output_type": "stream",
     "text": [
      "2023-07-31 15:19:56,773 - hbmep.model.baseline - INFO - Running inference with rectified_logistic ...\n"
     ]
    },
    {
     "data": {
      "application/vnd.jupyter.widget-view+json": {
       "model_id": "0528dc442ab84572b1f909096cadc61f",
       "version_major": 2,
       "version_minor": 0
      },
      "text/plain": [
       "  0%|          | 0/10000 [00:00<?, ?it/s]"
      ]
     },
     "metadata": {},
     "output_type": "display_data"
    },
    {
     "data": {
      "application/vnd.jupyter.widget-view+json": {
       "model_id": "036097bd097f41f98d4cb95bdaae484e",
       "version_major": 2,
       "version_minor": 0
      },
      "text/plain": [
       "  0%|          | 0/10000 [00:00<?, ?it/s]"
      ]
     },
     "metadata": {},
     "output_type": "display_data"
    },
    {
     "data": {
      "application/vnd.jupyter.widget-view+json": {
       "model_id": "9932cbaabee546fa921dd64eb9a611ff",
       "version_major": 2,
       "version_minor": 0
      },
      "text/plain": [
       "  0%|          | 0/10000 [00:00<?, ?it/s]"
      ]
     },
     "metadata": {},
     "output_type": "display_data"
    },
    {
     "data": {
      "application/vnd.jupyter.widget-view+json": {
       "model_id": "20814448e791494688357dadaa43622e",
       "version_major": 2,
       "version_minor": 0
      },
      "text/plain": [
       "  0%|          | 0/10000 [00:00<?, ?it/s]"
      ]
     },
     "metadata": {},
     "output_type": "display_data"
    },
    {
     "name": "stderr",
     "output_type": "stream",
     "text": [
      "2023-07-31 15:29:11,901 - hbmep.utils.utils - INFO - func:run_inference took: 9 min and 15.13 sec\n",
      "2023-07-31 15:29:11,904 - hbmep_paper.utils.utils - INFO - Experiment: 1/2, Model: 1/1 (rectified_logistic), MSE: 0.5332164992237368, MAE: 0.493328597916945\n",
      "2023-07-31 15:29:11,905 - hbmep_paper.utils.utils - INFO - Saving artefacts to /home/vishu/repos/hbmep-paper/reports/experiments-2/experiment_0/rectified_logistic\n",
      "2023-07-31 15:29:11,905 - hbmep.model.baseline - INFO - Generating predictions ...\n",
      "2023-07-31 15:29:17,100 - hbmep.utils.utils - INFO - func:predict took: 5.19 sec\n",
      "2023-07-31 15:29:17,121 - hbmep.model.baseline - INFO - Rendering recruitment curves ...\n",
      "2023-07-31 15:29:18,890 - hbmep.model.baseline - INFO - Saved to /home/vishu/repos/hbmep-paper/reports/experiments-2/experiment_0/rectified_logistic/recruitment_curves.pdf\n",
      "2023-07-31 15:29:18,891 - hbmep.utils.utils - INFO - func:render_recruitment_curves took: 6.99 sec\n",
      "2023-07-31 15:29:18,891 - hbmep.model.baseline - INFO - Saving inference data ...\n",
      "2023-07-31 15:29:24,250 - hbmep.model.baseline - INFO - Saved to /home/vishu/repos/hbmep-paper/reports/experiments-2/experiment_0/rectified_logistic/mcmc.nc\n",
      "2023-07-31 15:29:24,251 - hbmep.model.baseline - INFO - Rendering convergence diagnostics ...\n",
      "2023-07-31 15:29:33,547 - hbmep.model.baseline - INFO - Saved to /home/vishu/repos/hbmep-paper/reports/experiments-2/experiment_0/rectified_logistic/diagnostics.csv\n",
      "2023-07-31 15:29:33,548 - hbmep.model.baseline - INFO - Evaluating model ...\n",
      "/home/vishu/repos/hbmep-paper/.venv/lib/python3.11/site-packages/arviz/stats/stats.py:803: UserWarning: Estimated shape parameter of Pareto distribution is greater than 0.7 for one or more samples. You should consider using a more robust model, this is because importance sampling is less likely to work well if the marginal posterior and LOO posterior are very different. This is more likely to happen with a non-robust model and highly influential observations.\n",
      "  warnings.warn(\n",
      "2023-07-31 15:29:35,088 - hbmep.model.baseline - INFO - ELPD LOO (Log): 2049.26\n",
      "/home/vishu/repos/hbmep-paper/.venv/lib/python3.11/site-packages/arviz/stats/stats.py:1645: UserWarning: For one or more samples the posterior variance of the log predictive densities exceeds 0.4. This could be indication of WAIC starting to fail. \n",
      "See http://arxiv.org/abs/1507.04544 for details\n",
      "  warnings.warn(\n",
      "2023-07-31 15:29:35,246 - hbmep.model.baseline - INFO - ELPD WAIC (Log): 2050.80\n",
      "2023-07-31 15:29:35,249 - hbmep.utils.utils - INFO - func:save took: 16.36 sec\n",
      "2023-07-31 15:29:35,250 - hbmep_paper.utils.utils - INFO - \n",
      "\n",
      "\n",
      "2023-07-31 15:29:35,250 - hbmep_paper.utils.utils - INFO -  Experiment: 2/2, Model: 1/1 (rectified_logistic) \n",
      "2023-07-31 15:29:35,250 - hbmep.model.baseline - INFO - Initialized model with rectified_logistic link\n",
      "2023-07-31 15:29:35,251 - hbmep.model.baseline - INFO - Running inference with rectified_logistic ...\n"
     ]
    },
    {
     "data": {
      "application/vnd.jupyter.widget-view+json": {
       "model_id": "16baf493850f4ded887f5282c1be3a05",
       "version_major": 2,
       "version_minor": 0
      },
      "text/plain": [
       "  0%|          | 0/10000 [00:00<?, ?it/s]"
      ]
     },
     "metadata": {},
     "output_type": "display_data"
    },
    {
     "data": {
      "application/vnd.jupyter.widget-view+json": {
       "model_id": "ded484c1071a4d408be3dd68f9f08563",
       "version_major": 2,
       "version_minor": 0
      },
      "text/plain": [
       "  0%|          | 0/10000 [00:00<?, ?it/s]"
      ]
     },
     "metadata": {},
     "output_type": "display_data"
    },
    {
     "data": {
      "application/vnd.jupyter.widget-view+json": {
       "model_id": "b985b8f7276448e68002197447c404f0",
       "version_major": 2,
       "version_minor": 0
      },
      "text/plain": [
       "  0%|          | 0/10000 [00:00<?, ?it/s]"
      ]
     },
     "metadata": {},
     "output_type": "display_data"
    },
    {
     "data": {
      "application/vnd.jupyter.widget-view+json": {
       "model_id": "0a8620235d9145058d9b7932e9c664c7",
       "version_major": 2,
       "version_minor": 0
      },
      "text/plain": [
       "  0%|          | 0/10000 [00:00<?, ?it/s]"
      ]
     },
     "metadata": {},
     "output_type": "display_data"
    },
    {
     "name": "stderr",
     "output_type": "stream",
     "text": [
      "2023-07-31 15:36:30,399 - hbmep.utils.utils - INFO - func:run_inference took: 6 min and 55.15 sec\n",
      "2023-07-31 15:36:30,401 - hbmep_paper.utils.utils - INFO - Experiment: 2/2, Model: 1/1 (rectified_logistic), MSE: 0.6190056204100881, MAE: 0.6837121217823968\n",
      "2023-07-31 15:36:30,402 - hbmep_paper.utils.utils - INFO - Saving artefacts to /home/vishu/repos/hbmep-paper/reports/experiments-2/experiment_1/rectified_logistic\n",
      "2023-07-31 15:36:30,402 - hbmep.model.baseline - INFO - Generating predictions ...\n",
      "2023-07-31 15:36:35,531 - hbmep.utils.utils - INFO - func:predict took: 5.12 sec\n",
      "2023-07-31 15:36:35,552 - hbmep.model.baseline - INFO - Rendering recruitment curves ...\n",
      "2023-07-31 15:36:37,179 - hbmep.model.baseline - INFO - Saved to /home/vishu/repos/hbmep-paper/reports/experiments-2/experiment_1/rectified_logistic/recruitment_curves.pdf\n",
      "2023-07-31 15:36:37,179 - hbmep.utils.utils - INFO - func:render_recruitment_curves took: 6.78 sec\n",
      "2023-07-31 15:36:37,179 - hbmep.model.baseline - INFO - Saving inference data ...\n",
      "2023-07-31 15:36:41,452 - hbmep.model.baseline - INFO - Saved to /home/vishu/repos/hbmep-paper/reports/experiments-2/experiment_1/rectified_logistic/mcmc.nc\n",
      "2023-07-31 15:36:41,453 - hbmep.model.baseline - INFO - Rendering convergence diagnostics ...\n",
      "2023-07-31 15:36:51,095 - hbmep.model.baseline - INFO - Saved to /home/vishu/repos/hbmep-paper/reports/experiments-2/experiment_1/rectified_logistic/diagnostics.csv\n",
      "2023-07-31 15:36:51,096 - hbmep.model.baseline - INFO - Evaluating model ...\n",
      "/home/vishu/repos/hbmep-paper/.venv/lib/python3.11/site-packages/arviz/stats/stats.py:803: UserWarning: Estimated shape parameter of Pareto distribution is greater than 0.7 for one or more samples. You should consider using a more robust model, this is because importance sampling is less likely to work well if the marginal posterior and LOO posterior are very different. This is more likely to happen with a non-robust model and highly influential observations.\n",
      "  warnings.warn(\n",
      "2023-07-31 15:36:52,732 - hbmep.model.baseline - INFO - ELPD LOO (Log): 1639.21\n",
      "/home/vishu/repos/hbmep-paper/.venv/lib/python3.11/site-packages/arviz/stats/stats.py:1645: UserWarning: For one or more samples the posterior variance of the log predictive densities exceeds 0.4. This could be indication of WAIC starting to fail. \n",
      "See http://arxiv.org/abs/1507.04544 for details\n",
      "  warnings.warn(\n",
      "2023-07-31 15:36:52,893 - hbmep.model.baseline - INFO - ELPD WAIC (Log): 1641.27\n",
      "2023-07-31 15:36:52,895 - hbmep.utils.utils - INFO - func:save took: 15.72 sec\n",
      "2023-07-31 15:36:52,896 - hbmep.utils.utils - INFO - func:run_experiment took: 16 min and 56.14 sec\n"
     ]
    }
   ],
   "source": [
    "models = [RectifiedLogistic]\n",
    "\n",
    "run_experiment(\n",
    "    config=config, models=models, df=df, posterior_samples_true=posterior_samples_true\n",
    ")"
   ]
  },
  {
   "cell_type": "code",
   "execution_count": null,
   "metadata": {},
   "outputs": [],
   "source": []
  }
 ],
 "metadata": {
  "kernelspec": {
   "display_name": ".venv",
   "language": "python",
   "name": "python3"
  },
  "language_info": {
   "codemirror_mode": {
    "name": "ipython",
    "version": 3
   },
   "file_extension": ".py",
   "mimetype": "text/x-python",
   "name": "python",
   "nbconvert_exporter": "python",
   "pygments_lexer": "ipython3",
   "version": "3.11.4"
  },
  "orig_nbformat": 4,
  "vscode": {
   "interpreter": {
    "hash": "850bfd4e6f5ddd996dd5cd5088beecd08558625e274540230e1444ec52025b11"
   }
  }
 },
 "nbformat": 4,
 "nbformat_minor": 2
}
