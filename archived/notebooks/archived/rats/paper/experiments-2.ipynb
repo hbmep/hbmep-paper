{
 "cells": [
  {
   "cell_type": "code",
   "execution_count": 1,
   "metadata": {},
   "outputs": [],
   "source": [
    "%reload_ext autoreload\n",
    "%autoreload 2\n",
    "\n",
    "import os\n",
    "from pathlib import Path\n",
    "import multiprocessing\n",
    "\n",
    "import numpy as np\n",
    "import jax\n",
    "import numpyro\n",
    "\n",
    "from hbmep.config import Config\n",
    "from hbmep.model import Model\n",
    "from hbmep.model import RectifiedLogistic\n",
    "from hbmep.model.utils import Site as site\n",
    "\n",
    "from hbmep_paper.utils import simulate, run_experiment\n",
    "\n",
    "PLATFORM = \"cpu\"\n",
    "jax.config.update(\"jax_platforms\", PLATFORM)\n",
    "numpyro.set_platform(PLATFORM)\n",
    "\n",
    "cpu_count = multiprocessing.cpu_count() - 2\n",
    "numpyro.set_host_device_count(cpu_count)\n",
    "numpyro.enable_x64()\n"
   ]
  },
  {
   "attachments": {},
   "cell_type": "markdown",
   "metadata": {},
   "source": [
    "#### Load config"
   ]
  },
  {
   "cell_type": "code",
   "execution_count": 2,
   "metadata": {},
   "outputs": [],
   "source": [
    "root_path = Path(os.getcwd()).parent.parent.parent.absolute()\n",
    "toml_path = os.path.join(root_path, \"configs/experiments.toml\")\n"
   ]
  },
  {
   "cell_type": "code",
   "execution_count": 3,
   "metadata": {},
   "outputs": [
    {
     "name": "stderr",
     "output_type": "stream",
     "text": [
      "2023-08-01 13:55:12,269 - hbmep.config - INFO - Verifying configuration ...\n",
      "2023-08-01 13:55:12,269 - hbmep.config - INFO - Success!\n"
     ]
    }
   ],
   "source": [
    "# Initialize and validate configuration\n",
    "config = Config(toml_path=toml_path)\n",
    "\n",
    "config.BUILD_DIR = \"/home/vishu/repos/hbmep-paper/reports/experiments-2/\"\n"
   ]
  },
  {
   "cell_type": "code",
   "execution_count": 4,
   "metadata": {},
   "outputs": [
    {
     "name": "stderr",
     "output_type": "stream",
     "text": [
      "2023-08-01 13:55:12,335 - hbmep.model.baseline - INFO - Initialized model with rectified_logistic link\n"
     ]
    }
   ],
   "source": [
    "# Initialize model\n",
    "model = Model(config=config)"
   ]
  },
  {
   "cell_type": "code",
   "execution_count": 5,
   "metadata": {},
   "outputs": [
    {
     "name": "stderr",
     "output_type": "stream",
     "text": [
      "2023-08-01 13:55:12,400 - hbmep_paper.utils.utils - INFO - Simulating data ...\n",
      "2023-08-01 13:55:14,540 - hbmep.utils.utils - INFO - func:predict took: 2.14 sec\n",
      "2023-08-01 13:55:14,540 - hbmep.utils.utils - INFO - func:simulate took: 2.14 sec\n"
     ]
    }
   ],
   "source": [
    "# Load data\n",
    "simulation_params = {\n",
    "    \"n_subject\": 3,\n",
    "    \"n_feature0\": 10,\n",
    "    \"n_repeats\": 10\n",
    "}\n",
    "df, posterior_samples_true = simulate(model=model.model, **simulation_params)\n",
    "\n",
    "obs = np.array(posterior_samples_true[site.obs])\n",
    "\n",
    "# ind = df[[\"participant\", \"compound_position\"]].apply(tuple, axis=1).isin([(0, 0)])\n",
    "# df = df[ind].copy()\n",
    "# df.reset_index(drop=True, inplace=True)\n",
    "# obs = obs[:, ind, :]"
   ]
  },
  {
   "cell_type": "code",
   "execution_count": 6,
   "metadata": {},
   "outputs": [
    {
     "name": "stderr",
     "output_type": "stream",
     "text": [
      "2023-08-01 13:55:14,632 - hbmep.dataset.core - INFO - Artefacts will be stored here - /home/vishu/repos/hbmep-paper/reports/experiments-2/\n",
      "2023-08-01 13:55:14,633 - hbmep.dataset.core - INFO - Copied config to /home/vishu/repos/hbmep-paper/reports/experiments-2/\n",
      "2023-08-01 13:55:14,633 - hbmep.dataset.core - INFO - Processing data ...\n",
      "2023-08-01 13:55:14,635 - hbmep.utils.utils - INFO - func:load took: 0.00 sec\n"
     ]
    }
   ],
   "source": [
    "df, encoder_dict = model.load(df=df)\n",
    "\n",
    "df[model.model.response] = obs[-1, ...]"
   ]
  },
  {
   "cell_type": "code",
   "execution_count": 7,
   "metadata": {},
   "outputs": [
    {
     "name": "stderr",
     "output_type": "stream",
     "text": [
      "2023-08-01 13:55:14,836 - hbmep.dataset.core - INFO - Plotting dataset ...\n",
      "2023-08-01 13:55:19,693 - hbmep.dataset.core - INFO - Saved to /home/vishu/repos/hbmep-paper/reports/experiments-2/dataset.pdf\n",
      "2023-08-01 13:55:19,694 - hbmep.utils.utils - INFO - func:plot took: 4.86 sec\n"
     ]
    }
   ],
   "source": [
    "model.plot(df=df, encoder_dict=encoder_dict)"
   ]
  },
  {
   "cell_type": "code",
   "execution_count": 8,
   "metadata": {},
   "outputs": [
    {
     "name": "stderr",
     "output_type": "stream",
     "text": [
      "2023-08-01 13:55:19,763 - hbmep.model.baseline - INFO - Running inference with rectified_logistic ...\n"
     ]
    },
    {
     "data": {
      "application/vnd.jupyter.widget-view+json": {
       "model_id": "c9a8b6aee4b445aea48dcbd67789e1aa",
       "version_major": 2,
       "version_minor": 0
      },
      "text/plain": [
       "  0%|          | 0/10000 [00:00<?, ?it/s]"
      ]
     },
     "metadata": {},
     "output_type": "display_data"
    },
    {
     "data": {
      "application/vnd.jupyter.widget-view+json": {
       "model_id": "3333ba2ad5fa4589ab487380881e1729",
       "version_major": 2,
       "version_minor": 0
      },
      "text/plain": [
       "  0%|          | 0/10000 [00:00<?, ?it/s]"
      ]
     },
     "metadata": {},
     "output_type": "display_data"
    },
    {
     "data": {
      "application/vnd.jupyter.widget-view+json": {
       "model_id": "401315fd477d4405aa240752f19a460f",
       "version_major": 2,
       "version_minor": 0
      },
      "text/plain": [
       "  0%|          | 0/10000 [00:00<?, ?it/s]"
      ]
     },
     "metadata": {},
     "output_type": "display_data"
    },
    {
     "data": {
      "application/vnd.jupyter.widget-view+json": {
       "model_id": "114543a265a9497e966a46dea677d457",
       "version_major": 2,
       "version_minor": 0
      },
      "text/plain": [
       "  0%|          | 0/10000 [00:00<?, ?it/s]"
      ]
     },
     "metadata": {},
     "output_type": "display_data"
    },
    {
     "name": "stderr",
     "output_type": "stream",
     "text": [
      "2023-08-01 14:35:00,887 - hbmep.utils.utils - INFO - func:run_inference took: 39 min and 41.12 sec\n"
     ]
    }
   ],
   "source": [
    "mcmc, posterior_samples = model.run_inference(df=df)"
   ]
  },
  {
   "cell_type": "code",
   "execution_count": 10,
   "metadata": {},
   "outputs": [
    {
     "name": "stdout",
     "output_type": "stream",
     "text": [
      "\n",
      "                mean       std    median      2.5%     97.5%     n_eff     r_hat\n",
      "  H[0,0,0]      1.37      0.96      1.14      0.18      3.24  19147.66      1.00\n",
      "  H[0,1,0]      1.73      0.05      1.72      1.62      1.84  19871.45      1.00\n",
      "  H[0,2,0]      2.39      3.38      1.11      0.00      9.30   7114.01      1.00\n",
      "  H[1,0,0]      0.79      0.02      0.79      0.75      0.84  26267.49      1.00\n",
      "  H[1,1,0]      1.05      0.02      1.05      1.01      1.08  25583.88      1.00\n",
      "  H[1,2,0]      2.36      3.34      1.06      0.00      9.06   6755.63      1.00\n",
      "  H[2,0,0]      0.33      0.01      0.33      0.31      0.34  25415.15      1.00\n",
      "  H[2,1,0]      3.49      1.36      3.05      2.37      6.11   4601.65      1.00\n",
      "  H[2,2,0]      2.64      3.37      1.37      0.03      9.43   6298.28      1.00\n",
      "  H[3,0,0]      0.34      0.01      0.34      0.33      0.36  14814.42      1.00\n",
      "  H[3,1,0]      1.12      0.02      1.12      1.08      1.15  19636.46      1.00\n",
      "  H[3,2,0]      2.39      3.39      1.09      0.00      9.09   5940.14      1.00\n",
      "  H[4,0,0]      1.32      0.02      1.32      1.28      1.36  22590.21      1.00\n",
      "  H[4,1,0]      1.57      0.05      1.57      1.47      1.68  10672.54      1.00\n",
      "  H[4,2,0]      2.64      3.37      1.38      0.00      9.46   6378.29      1.00\n",
      "  H[5,0,0]      1.07      0.91      0.76      0.24      2.85   9579.18      1.00\n",
      "  H[5,1,0]      3.84      0.05      3.84      3.74      3.94  22367.72      1.00\n",
      "  H[5,2,0]      2.30      3.39      0.96      0.01      9.15   6302.40      1.00\n",
      "  H[6,0,0]      2.53      0.27      2.47      2.20      3.02   5099.90      1.00\n",
      "  H[6,1,0]      4.06      2.58      3.36      0.98      9.11  15381.45      1.00\n",
      "  H[6,2,0]      2.28      3.22      0.95      0.10      8.95   5872.17      1.00\n",
      "  H[7,0,0]      1.02      0.03      1.02      0.97      1.08  19220.66      1.00\n",
      "  H[7,1,0]      3.85      0.04      3.85      3.78      3.93  21621.01      1.00\n",
      "  H[7,2,0]      2.83      3.40      1.57      0.10      9.71   6062.37      1.00\n",
      "  H[8,0,0]      1.10      0.50      0.93      0.76      2.05   3143.56      1.00\n",
      "  H[8,1,0]      8.83      0.16      8.82      8.52      9.15   9915.50      1.00\n",
      "  H[8,2,0]      2.44      3.35      1.16      0.02      9.09   6268.12      1.00\n",
      "  H[9,0,0]      0.43      0.01      0.43      0.42      0.45  13677.83      1.00\n",
      "  H[9,1,0]      1.88      0.02      1.88      1.85      1.92  18758.07      1.00\n",
      "  H[9,2,0]      2.47      3.32      1.22      0.01      9.19   6281.31      1.00\n",
      "  L[0,0,0]      0.01      0.00      0.01      0.01      0.01  26726.49      1.00\n",
      "  L[0,1,0]      0.00      0.00      0.00      0.00      0.00  26602.75      1.00\n",
      "  L[0,2,0]      0.02      0.00      0.02      0.02      0.02  22397.02      1.00\n",
      "  L[1,0,0]      0.09      0.00      0.09      0.09      0.09  27247.35      1.00\n",
      "  L[1,1,0]      0.05      0.00      0.05      0.05      0.05  28068.70      1.00\n",
      "  L[1,2,0]      0.01      0.00      0.01      0.01      0.01  22783.97      1.00\n",
      "  L[2,0,0]      0.14      0.00      0.14      0.14      0.14  25655.37      1.00\n",
      "  L[2,1,0]      0.01      0.00      0.01      0.01      0.01  27033.41      1.00\n",
      "  L[2,2,0]      0.04      0.00      0.04      0.03      0.04  21462.00      1.00\n",
      "  L[3,0,0]      0.02      0.00      0.02      0.02      0.02  28529.62      1.00\n",
      "  L[3,1,0]      0.03      0.00      0.03      0.03      0.03  28580.28      1.00\n",
      "  L[3,2,0]      0.04      0.00      0.04      0.04      0.04  14089.30      1.00\n",
      "  L[4,0,0]      0.03      0.00      0.03      0.03      0.03  30907.97      1.00\n",
      "  L[4,1,0]      0.00      0.00      0.00      0.00      0.00  25203.94      1.00\n",
      "  L[4,2,0]      0.00      0.00      0.00      0.00      0.00  28007.57      1.00\n",
      "  L[5,0,0]      0.06      0.00      0.06      0.06      0.06  26511.53      1.00\n",
      "  L[5,1,0]      0.03      0.00      0.03      0.03      0.03  26915.61      1.00\n",
      "  L[5,2,0]      0.01      0.00      0.01      0.01      0.01  20704.17      1.00\n",
      "  L[6,0,0]      0.03      0.00      0.03      0.03      0.03  29520.36      1.00\n",
      "  L[6,1,0]      0.04      0.00      0.04      0.04      0.04  25033.52      1.00\n",
      "  L[6,2,0]      0.01      0.00      0.01      0.01      0.01  24016.86      1.00\n",
      "  L[7,0,0]      0.02      0.00      0.02      0.02      0.02  24594.27      1.00\n",
      "  L[7,1,0]      0.00      0.00      0.00      0.00      0.00  27994.81      1.00\n",
      "  L[7,2,0]      0.01      0.00      0.01      0.00      0.01  27279.66      1.00\n",
      "  L[8,0,0]      0.03      0.00      0.03      0.03      0.04  25312.21      1.00\n",
      "  L[8,1,0]      0.01      0.00      0.01      0.01      0.01  28742.68      1.00\n",
      "  L[8,2,0]      0.01      0.00      0.01      0.01      0.01  26251.45      1.00\n",
      "  L[9,0,0]      0.01      0.00      0.01      0.01      0.01  27622.32      1.00\n",
      "  L[9,1,0]      0.02      0.00      0.02      0.02      0.02  26495.52      1.00\n",
      "  L[9,2,0]      0.00      0.00      0.00      0.00      0.00  27646.90      1.00\n",
      "  a[0,0,0]    195.09      1.01    195.07    193.14    197.14  28109.55      1.00\n",
      "  a[0,1,0]    236.72      0.47    236.67    235.98    237.60  15483.07      1.00\n",
      "  a[0,2,0]    330.59     72.34    343.55    179.41    462.20   6815.88      1.00\n",
      "  a[1,0,0]    217.23      0.89    217.28    215.57    218.87  18246.17      1.00\n",
      "  a[1,1,0]    232.77      0.56    232.72    231.84    233.79  15660.03      1.00\n",
      "  a[1,2,0]    332.28     49.90    335.73    216.69    435.83   6623.96      1.00\n",
      "  a[2,0,0]    230.74      0.64    230.87    229.50    231.72  12209.01      1.00\n",
      "  a[2,1,0]    229.93      0.31    229.95    229.31    230.54  30998.90      1.00\n",
      "  a[2,2,0]    288.54     18.77    292.08    246.78    318.77   7120.87      1.00\n",
      "  a[3,0,0]    206.96      0.38    206.98    206.20    207.67  27396.66      1.00\n",
      "  a[3,1,0]    237.43      0.43    237.46    236.57    238.24  18624.51      1.00\n",
      "  a[3,2,0]    311.15     74.89    333.98    131.10    436.95   5688.71      1.00\n",
      "  a[4,0,0]    245.38      0.48    245.40    244.44    246.32  11484.43      1.00\n",
      "  a[4,1,0]    232.37      0.37    232.35    231.82    233.03   4968.53      1.00\n",
      "  a[4,2,0]    340.50      8.01    341.98    329.55    347.52    924.64      1.00\n",
      "  a[5,0,0]    256.67      2.16    256.79    252.49    260.62  12273.47      1.00\n",
      "  a[5,1,0]    240.29      0.24    240.24    239.92    240.76  13644.71      1.00\n",
      "  a[5,2,0]    163.95      8.94    163.71    147.13    181.29  16141.86      1.00\n",
      "  a[6,0,0]    208.58      0.44    208.55    207.83    209.46  20421.38      1.00\n",
      "  a[6,1,0]    231.95      0.38    231.94    231.23    232.74  30292.49      1.00\n",
      "  a[6,2,0]    195.45      1.45    195.34    192.76    198.41   9757.51      1.00\n",
      "  a[7,0,0]    211.43      1.58    211.60    208.35    214.62   7829.80      1.00\n",
      "  a[7,1,0]    240.74      0.39    240.72    240.00    241.42  14389.85      1.00\n",
      "  a[7,2,0]    252.25      2.21    252.37    247.82    256.29  19343.15      1.00\n",
      "  a[8,0,0]    235.32      0.92    235.32    233.47    237.15  21811.95      1.00\n",
      "  a[8,1,0]    231.66      0.25    231.67    231.14    232.16  28237.75      1.00\n",
      "  a[8,2,0]    265.35      4.94    265.93    255.23    274.39  15826.90      1.00\n",
      "  a[9,0,0]    208.74      0.44    208.76    207.83    209.51  15018.60      1.00\n",
      "  a[9,1,0]    230.92      0.11    230.92    230.70    231.14  16182.15      1.00\n",
      "  a[9,2,0]    334.80      3.85    335.48    327.40    341.62   6587.63      1.00\n",
      "  b[0,0,0]      0.01      0.01      0.01      0.00      0.03  10801.94      1.00\n",
      "  b[0,1,0]      0.16      0.06      0.15      0.06      0.29  10391.83      1.00\n",
      "  b[0,2,0]      0.00      0.00      0.00      0.00      0.01   8464.51      1.00\n",
      "  b[1,0,0]      0.29      0.11      0.28      0.11      0.52   9692.88      1.00\n",
      "  b[1,1,0]      0.23      0.06      0.22      0.14      0.35  11678.12      1.00\n",
      "  b[1,2,0]      0.00      0.00      0.00      0.00      0.01   7812.21      1.00\n",
      "  b[2,0,0]      0.33      0.09      0.31      0.18      0.50  13367.30      1.00\n",
      "  b[2,1,0]      0.09      0.04      0.09      0.02      0.18   9633.50      1.00\n",
      "  b[2,2,0]      0.00      0.01      0.00      0.00      0.01   5904.41      1.00\n",
      "  b[3,0,0]      0.09      0.03      0.09      0.05      0.14   8655.12      1.00\n",
      "  b[3,1,0]      0.15      0.04      0.14      0.08      0.22  10180.89      1.00\n",
      "  b[3,2,0]      0.00      0.01      0.00      0.00      0.01   9966.21      1.00\n",
      "  b[4,0,0]      0.20      0.06      0.19      0.10      0.32  10006.91      1.00\n",
      "  b[4,1,0]      0.09      0.03      0.09      0.05      0.15   7566.71      1.00\n",
      "  b[4,2,0]      0.00      0.01      0.00      0.00      0.01   5382.90      1.00\n",
      "  b[5,0,0]      0.05      0.03      0.04      0.00      0.11   9799.07      1.00\n",
      "  b[5,1,0]      0.28      0.07      0.27      0.17      0.42  10037.69      1.00\n",
      "  b[5,2,0]      0.00      0.00      0.00      0.00      0.00   6216.74      1.00\n",
      "  b[6,0,0]      0.13      0.07      0.12      0.02      0.28   9404.30      1.00\n",
      "  b[6,1,0]      0.05      0.03      0.04      0.01      0.11  11480.76      1.00\n",
      "  b[6,2,0]      0.00      0.00      0.00      0.00      0.01   4332.16      1.00\n",
      "  b[7,0,0]      0.15      0.07      0.14      0.05      0.30   9802.09      1.00\n",
      "  b[7,1,0]      0.19      0.03      0.19      0.13      0.26  10607.08      1.00\n",
      "  b[7,2,0]      0.00      0.00      0.00      0.00      0.01   4139.84      1.00\n",
      "  b[8,0,0]      0.11      0.06      0.10      0.01      0.22   8159.41      1.00\n",
      "  b[8,1,0]      0.17      0.03      0.16      0.11      0.24   8480.88      1.00\n",
      "  b[8,2,0]      0.00      0.00      0.00      0.00      0.01   4906.57      1.00\n",
      "  b[9,0,0]      0.06      0.01      0.06      0.04      0.08   9848.26      1.00\n",
      "  b[9,1,0]      0.15      0.02      0.15      0.11      0.19  11594.03      1.00\n",
      "  b[9,2,0]      0.00      0.00      0.00      0.00      0.01   5302.24      1.00\n",
      "g_1[0,0,0]     96.53     94.40     67.51      0.04    286.48  31297.41      1.00\n",
      "g_1[0,1,0]     20.83     11.17     19.62      0.78     41.62  18810.31      1.00\n",
      "g_1[0,2,0]    101.51     99.08     70.81      0.00    302.15  10331.45      1.00\n",
      "g_1[1,0,0]     14.62     11.51     12.05      0.00     37.27  19604.39      1.00\n",
      "g_1[1,1,0]     55.60     37.15     50.38      0.05    124.55  19254.93      1.00\n",
      "g_1[1,2,0]    101.44    102.03     70.37      0.01    305.44  29568.39      1.00\n",
      "g_1[2,0,0]    156.64    116.47    133.98      0.01    380.92  12020.47      1.00\n",
      "g_1[2,1,0]     16.20     13.44     12.87      0.00     42.72  22918.77      1.00\n",
      "g_1[2,2,0]     52.96     49.66     38.05      0.00    154.33   4586.08      1.00\n",
      "g_1[3,0,0]     90.56     82.17     67.47      0.01    256.66  28372.88      1.00\n",
      "g_1[3,1,0]    122.95     64.31    116.49      3.50    242.23  17117.47      1.00\n",
      "g_1[3,2,0]    104.09    101.92     73.15      0.02    306.59  27350.09      1.00\n",
      "g_1[4,0,0]     39.14     32.54     31.37      0.02    103.48  25535.08      1.00\n",
      "g_1[4,1,0]     99.51     49.03     94.56      5.63    191.67  16857.22      1.00\n",
      "g_1[4,2,0]     99.96     97.80     69.75      0.00    296.33   7819.72      1.00\n",
      "g_1[5,0,0]     56.75     53.24     40.98      0.01    165.87  23067.35      1.00\n",
      "g_1[5,1,0]     30.38     19.94     27.27      0.01     67.60  21457.74      1.00\n",
      "g_1[5,2,0]    101.44    101.14     70.21      0.02    302.01  29075.69      1.00\n",
      "g_1[6,0,0]     30.54     21.78     26.74      0.00     72.12  20197.29      1.00\n",
      "g_1[6,1,0]    157.42    118.96    132.88      0.01    385.93  20497.19      1.00\n",
      "g_1[6,2,0]    101.63    100.39     70.89      0.03    298.68  25764.91      1.00\n",
      "g_1[7,0,0]     74.21     18.65     73.00     39.98    111.75  15417.47      1.00\n",
      "g_1[7,1,0]    126.06     42.70    122.04     47.82    210.43  25050.71      1.00\n",
      "g_1[7,2,0]     54.37     44.34     43.59      0.01    142.76  22346.31      1.00\n",
      "g_1[8,0,0]     74.51     44.89     68.44      0.34    157.77  11524.47      1.00\n",
      "g_1[8,1,0]    250.01     68.06    245.02    125.01    383.85  20513.65      1.00\n",
      "g_1[8,2,0]    107.08    106.10     74.79      0.00    319.63  28427.46      1.00\n",
      "g_1[9,0,0]    143.20    114.55    116.44      0.01    366.41  21560.53      1.00\n",
      "g_1[9,1,0]    111.95     75.48    100.70      0.01    254.04  20793.14      1.00\n",
      "g_1[9,2,0]    101.85    100.55     70.68      0.00    304.83  26687.66      1.00\n",
      "g_2[0,0,0]    186.62     28.67    185.01    131.49    242.58  25610.86      1.00\n",
      "g_2[0,1,0]     31.08      5.45     30.84     20.65     41.81  23137.38      1.00\n",
      "g_2[0,2,0]     10.19      2.40     10.33      5.37     14.89  12822.36      1.00\n",
      "g_2[1,0,0]     37.14      6.87     36.89     23.85     50.64  20517.41      1.00\n",
      "g_2[1,1,0]    108.97     19.89    108.15     71.79    149.13  20399.20      1.00\n",
      "g_2[1,2,0]     55.55      8.62     55.10     39.07     72.51  27079.04      1.00\n",
      "g_2[2,0,0]    119.17     32.93    120.27     50.17    179.79  13681.49      1.00\n",
      "g_2[2,1,0]     80.68     13.08     80.06     55.36    106.27  23560.12      1.00\n",
      "g_2[2,2,0]      9.24      2.51      9.43      4.18     14.22   5662.94      1.00\n",
      "g_2[3,0,0]    192.98     31.49    191.70    133.11    256.30  23688.06      1.00\n",
      "g_2[3,1,0]    109.25     20.53    108.12     70.04    148.99  21440.62      1.00\n",
      "g_2[3,2,0]     95.17     15.28     94.67     65.79    125.01  26943.51      1.00\n",
      "g_2[4,0,0]    197.44     32.47    195.81    136.12    261.68  23698.14      1.00\n",
      "g_2[4,1,0]     82.74     14.83     81.81     54.86    112.05  19263.26      1.00\n",
      "g_2[4,2,0]      2.91      0.64      2.94      1.61      4.17   9856.01      1.00\n",
      "g_2[5,0,0]     84.14     14.14     83.71     56.77    112.15  21151.56      1.00\n",
      "g_2[5,1,0]    181.53     31.35    179.89    121.27    243.68  23571.75      1.00\n",
      "g_2[5,2,0]    159.28     24.11    158.11    112.29    205.98  26159.27      1.00\n",
      "g_2[6,0,0]     98.92     17.12     98.10     66.66    133.63  22769.97      1.00\n",
      "g_2[6,1,0]    222.90     39.21    221.42    147.35    298.55  21375.34      1.00\n",
      "g_2[6,2,0]    109.14     17.12    108.33     75.06    141.67  25652.35      1.00\n",
      "g_2[7,0,0]      1.47      0.68      1.44      0.14      2.74  15968.37      1.00\n",
      "g_2[7,1,0]    105.12     18.96    103.78     71.04    144.21  26059.87      1.00\n",
      "g_2[7,2,0]     10.61      1.78     10.54      7.22     14.14  22979.82      1.00\n",
      "g_2[8,0,0]     41.27      8.09     40.90     26.28     57.76  21406.74      1.00\n",
      "g_2[8,1,0]      8.94      2.11      8.83      4.97     13.16  22958.27      1.00\n",
      "g_2[8,2,0]     64.38     10.02     63.83     45.32     84.40  25816.54      1.00\n",
      "g_2[9,0,0]    212.69     36.83    210.71    143.43    286.20  23162.93      1.00\n",
      "g_2[9,1,0]    398.37     70.75    394.85    263.22    537.39  20705.16      1.00\n",
      "g_2[9,2,0]      5.72      0.90      5.68      4.00      7.48  25855.97      1.00\n",
      "  v[0,0,0]     20.17     11.81     17.93      1.83     44.02  10810.27      1.00\n",
      "  v[0,1,0]      6.18      2.83      5.63      1.57     11.86  10231.74      1.00\n",
      "  v[0,2,0]      9.28      9.83      6.08      0.00     29.14   5736.33      1.00\n",
      "  v[1,0,0]      8.26      4.23      7.77      0.02     15.86   8747.57      1.00\n",
      "  v[1,1,0]      1.57      1.24      1.29      0.05      3.96   9764.57      1.00\n",
      "  v[1,2,0]     10.05     10.49      6.77      0.00     31.18   5166.90      1.00\n",
      "  v[2,0,0]      4.95      4.01      3.97      0.06     12.84  11215.34      1.00\n",
      "  v[2,1,0]      8.12      3.87      7.50      1.51     15.43   9689.97      1.00\n",
      "  v[2,2,0]      6.10      6.63      3.95      0.00     19.41   5048.41      1.00\n",
      "  v[3,0,0]     24.37      7.63     23.17     11.57     39.66   8664.84      1.00\n",
      "  v[3,1,0]      6.25      2.01      5.94      2.88     10.38  10120.97      1.00\n",
      "  v[3,2,0]      9.39     10.01      6.17      0.00     29.90   5304.40      1.00\n",
      "  v[4,0,0]      3.80      1.89      3.54      0.43      7.51   9506.14      1.00\n",
      "  v[4,1,0]      7.63      2.45      7.23      3.46     12.49   7399.97      1.00\n",
      "  v[4,2,0]      5.65      6.58      3.44      0.00     18.52   5425.91      1.00\n",
      "  v[5,0,0]     16.79     11.81     14.55      0.03     39.40   9189.46      1.00\n",
      "  v[5,1,0]      4.55      1.24      4.37      2.44      7.06   9880.04      1.00\n",
      "  v[5,2,0]     11.03     10.98      7.75      0.00     32.72   4436.72      1.00\n",
      "  v[6,0,0]     13.58      7.54     12.12      1.95     28.39   9380.05      1.00\n",
      "  v[6,1,0]      8.24      5.29      7.12      0.79     18.71  11436.56      1.00\n",
      "  v[6,2,0]      5.95      6.59      3.75      0.00     19.15   4211.00      1.00\n",
      "  v[7,0,0]     12.30      6.35     11.12      2.41     25.23   9281.52      1.00\n",
      "  v[7,1,0]      2.25      0.63      2.20      1.09      3.53  10425.51      1.00\n",
      "  v[7,2,0]      4.58      4.96      3.02      0.00     14.51   4244.92      1.00\n",
      "  v[8,0,0]     18.37      9.89     16.89      1.87     37.61   8341.05      1.00\n",
      "  v[8,1,0]      7.55      1.57      7.33      4.82     10.75   8498.83      1.00\n",
      "  v[8,2,0]      9.78      9.67      6.88      0.00     29.01   4325.84      1.00\n",
      "  v[9,0,0]      6.02      2.26      5.81      1.91     10.51   9584.45      1.00\n",
      "  v[9,1,0]      1.49      0.53      1.46      0.44      2.52  11392.19      1.00\n",
      "  v[9,2,0]      8.46      8.63      5.80      0.00     26.12   4541.55      1.00\n",
      "  µ_a[0,0]    220.04      7.40    220.27    204.74    234.45  17233.49      1.00\n",
      "  µ_a[1,0]    234.40      1.53    234.42    231.35    237.42  20176.02      1.00\n",
      "  µ_a[2,0]    255.98     26.14    257.84    205.64    307.13  11624.60      1.00\n",
      "  σ_H[0,0]      1.44      0.46      1.35      0.74      2.34  12296.26      1.00\n",
      "  σ_H[1,0]      4.26      1.08      4.08      2.50      6.41  18180.05      1.00\n",
      "  σ_H[2,0]      3.17      2.80      2.30      0.09      8.78   3651.86      1.00\n",
      "  σ_L[0,0]      0.06      0.01      0.06      0.04      0.09  24072.18      1.00\n",
      "  σ_L[1,0]      0.03      0.01      0.03      0.02      0.04  20118.21      1.00\n",
      "  σ_L[2,0]      0.02      0.01      0.02      0.01      0.03  17921.20      1.00\n",
      "  σ_a[0,0]     22.60      6.32     21.41     12.32     34.85  15142.55      1.00\n",
      "  σ_a[1,0]      4.67      1.35      4.41      2.56      7.30  17228.32      1.00\n",
      "  σ_a[2,0]     75.09     20.33     71.61     42.04    116.60  11469.18      1.00\n",
      "  σ_b[0,0]      0.17      0.04      0.17      0.10      0.25  11668.13      1.00\n",
      "  σ_b[1,0]      0.17      0.04      0.16      0.10      0.24  14864.34      1.00\n",
      "  σ_b[2,0]      0.00      0.00      0.00      0.00      0.01   3732.89      1.00\n",
      "  σ_v[0,0]     15.33      4.50     14.78      7.38     24.19   8518.38      1.00\n",
      "  σ_v[1,0]      7.00      2.25      6.61      3.44     11.57  10277.81      1.00\n",
      "  σ_v[2,0]      9.73      6.55      8.62      0.02     22.08   2752.93      1.00\n",
      "\n",
      "Number of divergences: 1461\n"
     ]
    }
   ],
   "source": [
    "mcmc.print_summary(prob=0.95)"
   ]
  },
  {
   "cell_type": "code",
   "execution_count": 11,
   "metadata": {},
   "outputs": [
    {
     "data": {
      "text/plain": [
       "'0.15.1'"
      ]
     },
     "execution_count": 11,
     "metadata": {},
     "output_type": "execute_result"
    }
   ],
   "source": [
    "import arviz as az\n",
    "\n",
    "az.__version__"
   ]
  },
  {
   "cell_type": "code",
   "execution_count": 15,
   "metadata": {},
   "outputs": [],
   "source": [
    "numpyro_data = az.from_numpyro(mcmc)"
   ]
  },
  {
   "cell_type": "code",
   "execution_count": 19,
   "metadata": {},
   "outputs": [
    {
     "data": {
      "text/plain": [
       "(24000, 10, 3, 1)"
      ]
     },
     "execution_count": 19,
     "metadata": {},
     "output_type": "execute_result"
    }
   ],
   "source": [
    "posterior_samples[\"a\"].shape"
   ]
  },
  {
   "cell_type": "code",
   "execution_count": null,
   "metadata": {},
   "outputs": [
    {
     "name": "stderr",
     "output_type": "stream",
     "text": [
      "2023-07-31 15:19:56,754 - hbmep.model.baseline - INFO - Initialized model with baseline link\n",
      "2023-07-31 15:19:56,755 - hbmep.dataset.core - INFO - Artefacts will be stored here - /home/vishu/repos/hbmep-paper/reports/experiments-2/\n",
      "2023-07-31 15:19:56,755 - hbmep.dataset.core - INFO - Copied config to /home/vishu/repos/hbmep-paper/reports/experiments-2/\n",
      "2023-07-31 15:19:56,755 - hbmep.dataset.core - INFO - Processing data ...\n",
      "2023-07-31 15:19:56,756 - hbmep.utils.utils - INFO - func:load took: 0.00 sec\n",
      "2023-07-31 15:19:56,758 - hbmep_paper.utils.utils - INFO - \n",
      "\n",
      "\n",
      "2023-07-31 15:19:56,758 - hbmep_paper.utils.utils - INFO -  Experiment: 1/2, Model: 1/1 (rectified_logistic) \n",
      "2023-07-31 15:19:56,758 - hbmep.model.baseline - INFO - Initialized model with rectified_logistic link\n"
     ]
    },
    {
     "name": "stderr",
     "output_type": "stream",
     "text": [
      "2023-07-31 15:19:56,773 - hbmep.model.baseline - INFO - Running inference with rectified_logistic ...\n"
     ]
    },
    {
     "data": {
      "application/vnd.jupyter.widget-view+json": {
       "model_id": "0528dc442ab84572b1f909096cadc61f",
       "version_major": 2,
       "version_minor": 0
      },
      "text/plain": [
       "  0%|          | 0/10000 [00:00<?, ?it/s]"
      ]
     },
     "metadata": {},
     "output_type": "display_data"
    },
    {
     "data": {
      "application/vnd.jupyter.widget-view+json": {
       "model_id": "036097bd097f41f98d4cb95bdaae484e",
       "version_major": 2,
       "version_minor": 0
      },
      "text/plain": [
       "  0%|          | 0/10000 [00:00<?, ?it/s]"
      ]
     },
     "metadata": {},
     "output_type": "display_data"
    },
    {
     "data": {
      "application/vnd.jupyter.widget-view+json": {
       "model_id": "9932cbaabee546fa921dd64eb9a611ff",
       "version_major": 2,
       "version_minor": 0
      },
      "text/plain": [
       "  0%|          | 0/10000 [00:00<?, ?it/s]"
      ]
     },
     "metadata": {},
     "output_type": "display_data"
    },
    {
     "data": {
      "application/vnd.jupyter.widget-view+json": {
       "model_id": "20814448e791494688357dadaa43622e",
       "version_major": 2,
       "version_minor": 0
      },
      "text/plain": [
       "  0%|          | 0/10000 [00:00<?, ?it/s]"
      ]
     },
     "metadata": {},
     "output_type": "display_data"
    },
    {
     "name": "stderr",
     "output_type": "stream",
     "text": [
      "2023-07-31 15:29:11,901 - hbmep.utils.utils - INFO - func:run_inference took: 9 min and 15.13 sec\n",
      "2023-07-31 15:29:11,904 - hbmep_paper.utils.utils - INFO - Experiment: 1/2, Model: 1/1 (rectified_logistic), MSE: 0.5332164992237368, MAE: 0.493328597916945\n",
      "2023-07-31 15:29:11,905 - hbmep_paper.utils.utils - INFO - Saving artefacts to /home/vishu/repos/hbmep-paper/reports/experiments-2/experiment_0/rectified_logistic\n",
      "2023-07-31 15:29:11,905 - hbmep.model.baseline - INFO - Generating predictions ...\n",
      "2023-07-31 15:29:17,100 - hbmep.utils.utils - INFO - func:predict took: 5.19 sec\n",
      "2023-07-31 15:29:17,121 - hbmep.model.baseline - INFO - Rendering recruitment curves ...\n",
      "2023-07-31 15:29:18,890 - hbmep.model.baseline - INFO - Saved to /home/vishu/repos/hbmep-paper/reports/experiments-2/experiment_0/rectified_logistic/recruitment_curves.pdf\n",
      "2023-07-31 15:29:18,891 - hbmep.utils.utils - INFO - func:render_recruitment_curves took: 6.99 sec\n",
      "2023-07-31 15:29:18,891 - hbmep.model.baseline - INFO - Saving inference data ...\n",
      "2023-07-31 15:29:24,250 - hbmep.model.baseline - INFO - Saved to /home/vishu/repos/hbmep-paper/reports/experiments-2/experiment_0/rectified_logistic/mcmc.nc\n",
      "2023-07-31 15:29:24,251 - hbmep.model.baseline - INFO - Rendering convergence diagnostics ...\n",
      "2023-07-31 15:29:33,547 - hbmep.model.baseline - INFO - Saved to /home/vishu/repos/hbmep-paper/reports/experiments-2/experiment_0/rectified_logistic/diagnostics.csv\n",
      "2023-07-31 15:29:33,548 - hbmep.model.baseline - INFO - Evaluating model ...\n",
      "/home/vishu/repos/hbmep-paper/.venv/lib/python3.11/site-packages/arviz/stats/stats.py:803: UserWarning: Estimated shape parameter of Pareto distribution is greater than 0.7 for one or more samples. You should consider using a more robust model, this is because importance sampling is less likely to work well if the marginal posterior and LOO posterior are very different. This is more likely to happen with a non-robust model and highly influential observations.\n",
      "  warnings.warn(\n",
      "2023-07-31 15:29:35,088 - hbmep.model.baseline - INFO - ELPD LOO (Log): 2049.26\n",
      "/home/vishu/repos/hbmep-paper/.venv/lib/python3.11/site-packages/arviz/stats/stats.py:1645: UserWarning: For one or more samples the posterior variance of the log predictive densities exceeds 0.4. This could be indication of WAIC starting to fail. \n",
      "See http://arxiv.org/abs/1507.04544 for details\n",
      "  warnings.warn(\n",
      "2023-07-31 15:29:35,246 - hbmep.model.baseline - INFO - ELPD WAIC (Log): 2050.80\n",
      "2023-07-31 15:29:35,249 - hbmep.utils.utils - INFO - func:save took: 16.36 sec\n",
      "2023-07-31 15:29:35,250 - hbmep_paper.utils.utils - INFO - \n",
      "\n",
      "\n",
      "2023-07-31 15:29:35,250 - hbmep_paper.utils.utils - INFO -  Experiment: 2/2, Model: 1/1 (rectified_logistic) \n",
      "2023-07-31 15:29:35,250 - hbmep.model.baseline - INFO - Initialized model with rectified_logistic link\n",
      "2023-07-31 15:29:35,251 - hbmep.model.baseline - INFO - Running inference with rectified_logistic ...\n"
     ]
    },
    {
     "data": {
      "application/vnd.jupyter.widget-view+json": {
       "model_id": "16baf493850f4ded887f5282c1be3a05",
       "version_major": 2,
       "version_minor": 0
      },
      "text/plain": [
       "  0%|          | 0/10000 [00:00<?, ?it/s]"
      ]
     },
     "metadata": {},
     "output_type": "display_data"
    },
    {
     "data": {
      "application/vnd.jupyter.widget-view+json": {
       "model_id": "ded484c1071a4d408be3dd68f9f08563",
       "version_major": 2,
       "version_minor": 0
      },
      "text/plain": [
       "  0%|          | 0/10000 [00:00<?, ?it/s]"
      ]
     },
     "metadata": {},
     "output_type": "display_data"
    },
    {
     "data": {
      "application/vnd.jupyter.widget-view+json": {
       "model_id": "b985b8f7276448e68002197447c404f0",
       "version_major": 2,
       "version_minor": 0
      },
      "text/plain": [
       "  0%|          | 0/10000 [00:00<?, ?it/s]"
      ]
     },
     "metadata": {},
     "output_type": "display_data"
    },
    {
     "data": {
      "application/vnd.jupyter.widget-view+json": {
       "model_id": "0a8620235d9145058d9b7932e9c664c7",
       "version_major": 2,
       "version_minor": 0
      },
      "text/plain": [
       "  0%|          | 0/10000 [00:00<?, ?it/s]"
      ]
     },
     "metadata": {},
     "output_type": "display_data"
    },
    {
     "name": "stderr",
     "output_type": "stream",
     "text": [
      "2023-07-31 15:36:30,399 - hbmep.utils.utils - INFO - func:run_inference took: 6 min and 55.15 sec\n",
      "2023-07-31 15:36:30,401 - hbmep_paper.utils.utils - INFO - Experiment: 2/2, Model: 1/1 (rectified_logistic), MSE: 0.6190056204100881, MAE: 0.6837121217823968\n",
      "2023-07-31 15:36:30,402 - hbmep_paper.utils.utils - INFO - Saving artefacts to /home/vishu/repos/hbmep-paper/reports/experiments-2/experiment_1/rectified_logistic\n",
      "2023-07-31 15:36:30,402 - hbmep.model.baseline - INFO - Generating predictions ...\n",
      "2023-07-31 15:36:35,531 - hbmep.utils.utils - INFO - func:predict took: 5.12 sec\n",
      "2023-07-31 15:36:35,552 - hbmep.model.baseline - INFO - Rendering recruitment curves ...\n",
      "2023-07-31 15:36:37,179 - hbmep.model.baseline - INFO - Saved to /home/vishu/repos/hbmep-paper/reports/experiments-2/experiment_1/rectified_logistic/recruitment_curves.pdf\n",
      "2023-07-31 15:36:37,179 - hbmep.utils.utils - INFO - func:render_recruitment_curves took: 6.78 sec\n",
      "2023-07-31 15:36:37,179 - hbmep.model.baseline - INFO - Saving inference data ...\n",
      "2023-07-31 15:36:41,452 - hbmep.model.baseline - INFO - Saved to /home/vishu/repos/hbmep-paper/reports/experiments-2/experiment_1/rectified_logistic/mcmc.nc\n",
      "2023-07-31 15:36:41,453 - hbmep.model.baseline - INFO - Rendering convergence diagnostics ...\n",
      "2023-07-31 15:36:51,095 - hbmep.model.baseline - INFO - Saved to /home/vishu/repos/hbmep-paper/reports/experiments-2/experiment_1/rectified_logistic/diagnostics.csv\n",
      "2023-07-31 15:36:51,096 - hbmep.model.baseline - INFO - Evaluating model ...\n",
      "/home/vishu/repos/hbmep-paper/.venv/lib/python3.11/site-packages/arviz/stats/stats.py:803: UserWarning: Estimated shape parameter of Pareto distribution is greater than 0.7 for one or more samples. You should consider using a more robust model, this is because importance sampling is less likely to work well if the marginal posterior and LOO posterior are very different. This is more likely to happen with a non-robust model and highly influential observations.\n",
      "  warnings.warn(\n",
      "2023-07-31 15:36:52,732 - hbmep.model.baseline - INFO - ELPD LOO (Log): 1639.21\n",
      "/home/vishu/repos/hbmep-paper/.venv/lib/python3.11/site-packages/arviz/stats/stats.py:1645: UserWarning: For one or more samples the posterior variance of the log predictive densities exceeds 0.4. This could be indication of WAIC starting to fail. \n",
      "See http://arxiv.org/abs/1507.04544 for details\n",
      "  warnings.warn(\n",
      "2023-07-31 15:36:52,893 - hbmep.model.baseline - INFO - ELPD WAIC (Log): 1641.27\n",
      "2023-07-31 15:36:52,895 - hbmep.utils.utils - INFO - func:save took: 15.72 sec\n",
      "2023-07-31 15:36:52,896 - hbmep.utils.utils - INFO - func:run_experiment took: 16 min and 56.14 sec\n"
     ]
    }
   ],
   "source": [
    "models = [RectifiedLogistic]\n",
    "\n",
    "run_experiment(\n",
    "    config=config, models=models, df=df, posterior_samples_true=posterior_samples_true\n",
    ")"
   ]
  },
  {
   "cell_type": "code",
   "execution_count": null,
   "metadata": {},
   "outputs": [],
   "source": []
  }
 ],
 "metadata": {
  "kernelspec": {
   "display_name": ".venv",
   "language": "python",
   "name": "python3"
  },
  "language_info": {
   "codemirror_mode": {
    "name": "ipython",
    "version": 3
   },
   "file_extension": ".py",
   "mimetype": "text/x-python",
   "name": "python",
   "nbconvert_exporter": "python",
   "pygments_lexer": "ipython3",
   "version": "3.11.4"
  },
  "orig_nbformat": 4,
  "vscode": {
   "interpreter": {
    "hash": "850bfd4e6f5ddd996dd5cd5088beecd08558625e274540230e1444ec52025b11"
   }
  }
 },
 "nbformat": 4,
 "nbformat_minor": 2
}
