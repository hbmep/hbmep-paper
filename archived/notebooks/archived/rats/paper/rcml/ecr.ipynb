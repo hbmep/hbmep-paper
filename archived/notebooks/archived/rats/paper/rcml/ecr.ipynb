{
 "cells": [
  {
   "cell_type": "code",
   "execution_count": 1,
   "metadata": {},
   "outputs": [],
   "source": [
    "%reload_ext autoreload\n",
    "%autoreload 2\n",
    "\n",
    "import os\n",
    "from pathlib import Path\n",
    "import multiprocessing\n",
    "\n",
    "import jax\n",
    "import jax.numpy as jnp\n",
    "import pandas as pd\n",
    "import numpy as np\n",
    "import numpyro\n",
    "import numpyro.distributions as dist\n",
    "\n",
    "from hbmep.config import Config\n",
    "from hbmep.model import Baseline\n",
    "from hbmep.model.utils import Site as site\n",
    "from hbmep.utils.constants import RECTIFIED_LOGISTIC\n",
    "\n",
    "PLATFORM = \"cpu\"\n",
    "jax.config.update(\"jax_platforms\", PLATFORM)\n",
    "numpyro.set_platform(PLATFORM)\n",
    "\n",
    "cpu_count = multiprocessing.cpu_count() - 2\n",
    "numpyro.set_host_device_count(cpu_count)\n",
    "numpyro.enable_x64()\n",
    "numpyro.enable_validation()\n"
   ]
  },
  {
   "cell_type": "code",
   "execution_count": 2,
   "metadata": {},
   "outputs": [
    {
     "name": "stderr",
     "output_type": "stream",
     "text": [
      "2023-08-09 13:14:53,169 - hbmep.config - INFO - Verifying configuration ...\n",
      "2023-08-09 13:14:53,170 - hbmep.config - INFO - Success!\n"
     ]
    }
   ],
   "source": [
    "root_path = Path(os.getcwd()).parent.parent.parent.parent.absolute()\n",
    "toml_path = os.path.join(root_path, \"configs/rcml/ecr.toml\")\n",
    "\n",
    "config = Config(toml_path=toml_path)\n"
   ]
  },
  {
   "attachments": {},
   "cell_type": "markdown",
   "metadata": {},
   "source": [
    "#### Load data and preprocess"
   ]
  },
  {
   "cell_type": "code",
   "execution_count": 3,
   "metadata": {},
   "outputs": [
    {
     "name": "stderr",
     "output_type": "stream",
     "text": [
      "2023-08-09 13:14:53,216 - hbmep.model.baseline - INFO - Initialized model with rectified_logistic link\n"
     ]
    }
   ],
   "source": [
    "class RectifiedLogistic(Baseline):\n",
    "    LINK = RECTIFIED_LOGISTIC\n",
    "\n",
    "    def __init__(self, config: Config):\n",
    "        super(RectifiedLogistic, self).__init__(config=config)\n",
    "\n",
    "    def _model(self, subject, features, intensity, response_obs=None):\n",
    "        intensity = intensity.reshape(-1, 1)\n",
    "        intensity = np.tile(intensity, (1, self.n_response))\n",
    "\n",
    "        feature0 = features[0, ...].reshape(-1,)\n",
    "\n",
    "        n_data = intensity.shape[0]\n",
    "        n_subject = np.unique(subject).shape[0]\n",
    "        n_feature0 = np.unique(feature0).shape[0]\n",
    "\n",
    "        with numpyro.plate(site.n_response, self.n_response, dim=-1):\n",
    "            with numpyro.plate(site.n_subject, n_subject, dim=-2):\n",
    "                \"\"\" Hyper-priors \"\"\"\n",
    "                mu_a = numpyro.sample(\n",
    "                    site.mu_a,\n",
    "                    dist.TruncatedNormal(150, 50, low=0)\n",
    "                )\n",
    "                sigma_a = numpyro.sample(site.sigma_a, dist.HalfNormal(50))\n",
    "\n",
    "                sigma_b = numpyro.sample(site.sigma_b, dist.HalfNormal(0.1))\n",
    "\n",
    "                sigma_L = numpyro.sample(site.sigma_L, dist.HalfNormal(0.05))\n",
    "                sigma_H = numpyro.sample(site.sigma_H, dist.HalfNormal(5))\n",
    "                sigma_v = numpyro.sample(site.sigma_v, dist.HalfNormal(10))\n",
    "\n",
    "                with numpyro.plate(\"n_feature0\", n_feature0, dim=-3):\n",
    "                    \"\"\" Priors \"\"\"\n",
    "                    a = numpyro.sample(\n",
    "                        site.a,\n",
    "                        dist.TruncatedNormal(mu_a, sigma_a, low=0)\n",
    "                    )\n",
    "                    b = numpyro.sample(site.b, dist.HalfNormal(sigma_b))\n",
    "\n",
    "                    L = numpyro.sample(site.L, dist.HalfNormal(sigma_L))\n",
    "                    H = numpyro.sample(site.H, dist.HalfNormal(sigma_H))\n",
    "                    v = numpyro.sample(site.v, dist.HalfNormal(sigma_v))\n",
    "\n",
    "                    g_1 = numpyro.sample(site.g_1, dist.Exponential(0.01))\n",
    "                    g_2 = numpyro.sample(site.g_2, dist.Exponential(0.01))\n",
    "\n",
    "        \"\"\" Model \"\"\"\n",
    "        mu = numpyro.deterministic(\n",
    "            site.mu,\n",
    "            L[feature0, subject]\n",
    "            + jnp.maximum(\n",
    "                0,\n",
    "                -1\n",
    "                + (H[feature0, subject] + 1)\n",
    "                / jnp.power(\n",
    "                    1\n",
    "                    + (jnp.power(1 + H[feature0, subject], v[feature0, subject]) - 1)\n",
    "                    * jnp.exp(-b[feature0, subject] * (intensity - a[feature0, subject])),\n",
    "                    1 / v[feature0, subject]\n",
    "                )\n",
    "            )\n",
    "        )\n",
    "        beta = numpyro.deterministic(\n",
    "            site.beta,\n",
    "            g_1[feature0, subject] + g_2[feature0, subject] * (1 / mu)\n",
    "        )\n",
    "\n",
    "        \"\"\" Observation \"\"\"\n",
    "        with numpyro.plate(site.data, n_data):\n",
    "            return numpyro.sample(\n",
    "                site.obs,\n",
    "                dist.Gamma(concentration=mu * beta, rate=beta).to_event(1),\n",
    "                obs=response_obs\n",
    "            )\n",
    "\n",
    "\n",
    "model = RectifiedLogistic(config=config)\n"
   ]
  },
  {
   "cell_type": "code",
   "execution_count": 4,
   "metadata": {},
   "outputs": [
    {
     "name": "stderr",
     "output_type": "stream",
     "text": [
      "2023-08-09 13:14:53,262 - hbmep.dataset.core - INFO - Artefacts will be stored here - /home/vishu/repos/hbmep-paper/reports/J_RCML_000/ecr\n",
      "2023-08-09 13:14:53,262 - hbmep.dataset.core - INFO - Copied config to /home/vishu/repos/hbmep-paper/reports/J_RCML_000/ecr\n",
      "2023-08-09 13:14:53,264 - hbmep.dataset.core - INFO - Processing data ...\n",
      "2023-08-09 13:14:53,266 - hbmep.utils.utils - INFO - func:load took: 0.00 sec\n",
      "2023-08-09 13:14:53,268 - hbmep.dataset.core - INFO - Plotting dataset ...\n"
     ]
    },
    {
     "name": "stderr",
     "output_type": "stream",
     "text": [
      "2023-08-09 13:15:03,000 - hbmep.dataset.core - INFO - Saved to /home/vishu/repos/hbmep-paper/reports/J_RCML_000/ecr/dataset.pdf\n",
      "2023-08-09 13:15:03,001 - hbmep.utils.utils - INFO - func:plot took: 9.73 sec\n"
     ]
    }
   ],
   "source": [
    "df = pd.read_csv(model.csv_path)\n",
    "\n",
    "ind = df.pulse_amplitude.isin([0])\n",
    "df = df[~ind].reset_index(drop=True).copy()\n",
    "\n",
    "subset = ['-C5L', '-C6L', '-C7L', '-C8L']\n",
    "ind = df.compound_position.isin(subset)\n",
    "df = df[ind].reset_index(drop=True).copy()\n",
    "\n",
    "# df[model.features] = \\\n",
    "#     df.compound_position \\\n",
    "#         .apply(lambda x: x.split(\"-\")) \\\n",
    "#         .apply(lambda x: (x[0][:2] + \"-\" + x[1][:2], x[0][-1])) \\\n",
    "#         .apply(pd.Series)\n",
    "\n",
    "\"\"\" Process \"\"\"\n",
    "df, encoder_dict = model.load(df=df)\n",
    "\n",
    "\"\"\" Plot \"\"\"\n",
    "model.plot(df=df, encoder_dict=encoder_dict)"
   ]
  },
  {
   "cell_type": "code",
   "execution_count": 5,
   "metadata": {},
   "outputs": [
    {
     "data": {
      "text/plain": [
       "(1604, 44)"
      ]
     },
     "execution_count": 5,
     "metadata": {},
     "output_type": "execute_result"
    }
   ],
   "source": [
    "df.shape"
   ]
  },
  {
   "cell_type": "code",
   "execution_count": 6,
   "metadata": {},
   "outputs": [
    {
     "name": "stderr",
     "output_type": "stream",
     "text": [
      "2023-08-09 13:15:03,042 - hbmep.model.baseline - INFO - Running inference with rectified_logistic ...\n"
     ]
    },
    {
     "data": {
      "application/vnd.jupyter.widget-view+json": {
       "model_id": "82ca77d0d70f4e9c84934a04ca5105cc",
       "version_major": 2,
       "version_minor": 0
      },
      "text/plain": [
       "  0%|          | 0/10000 [00:00<?, ?it/s]"
      ]
     },
     "metadata": {},
     "output_type": "display_data"
    },
    {
     "data": {
      "application/vnd.jupyter.widget-view+json": {
       "model_id": "b7f6a33901284c9786e857514bc82e47",
       "version_major": 2,
       "version_minor": 0
      },
      "text/plain": [
       "  0%|          | 0/10000 [00:00<?, ?it/s]"
      ]
     },
     "metadata": {},
     "output_type": "display_data"
    },
    {
     "data": {
      "application/vnd.jupyter.widget-view+json": {
       "model_id": "08aab2a94fe442b798e8060ae0d11720",
       "version_major": 2,
       "version_minor": 0
      },
      "text/plain": [
       "  0%|          | 0/10000 [00:00<?, ?it/s]"
      ]
     },
     "metadata": {},
     "output_type": "display_data"
    },
    {
     "data": {
      "application/vnd.jupyter.widget-view+json": {
       "model_id": "f9a2292225504832b1a261bd0936c5b9",
       "version_major": 2,
       "version_minor": 0
      },
      "text/plain": [
       "  0%|          | 0/10000 [00:00<?, ?it/s]"
      ]
     },
     "metadata": {},
     "output_type": "display_data"
    },
    {
     "name": "stderr",
     "output_type": "stream",
     "text": [
      "2023-08-09 13:36:56,816 - hbmep.utils.utils - INFO - func:run_inference took: 21 min and 53.77 sec\n"
     ]
    }
   ],
   "source": [
    "mcmc, posterior_samples = model.run_inference(df=df)\n"
   ]
  },
  {
   "cell_type": "code",
   "execution_count": 7,
   "metadata": {},
   "outputs": [
    {
     "name": "stdout",
     "output_type": "stream",
     "text": [
      "\n",
      "                mean       std    median      2.5%     97.5%     n_eff     r_hat\n",
      "  H[0,0,0]      0.77      0.06      0.77      0.67      0.89  11312.13      1.00\n",
      "  H[0,1,0]      0.68      0.04      0.68      0.61      0.76  18848.30      1.00\n",
      "  H[0,2,0]      1.60      0.05      1.60      1.50      1.71  23192.28      1.00\n",
      "  H[0,3,0]      9.31      5.95      7.90      1.61     20.93  18310.61      1.00\n",
      "  H[0,4,0]      5.70      3.93      4.65      0.89     13.37  11056.85      1.00\n",
      "  H[0,5,0]      6.63      3.02      5.66      4.16     12.90   3157.69      1.00\n",
      "  H[0,6,0]      6.00      4.38      4.80      0.89     14.58  14605.82      1.00\n",
      "  H[0,7,0]      1.39      2.10      0.67      0.02      5.25  10072.14      1.00\n",
      "  H[1,0,0]      0.45      0.03      0.45      0.39      0.52  11197.99      1.00\n",
      "  H[1,1,0]      0.64      0.03      0.64      0.58      0.71  22075.05      1.00\n",
      "  H[1,2,0]      1.50      0.04      1.50      1.41      1.58  22133.28      1.00\n",
      "  H[1,3,0]      9.52      5.93      8.04      1.85     21.35  16644.23      1.00\n",
      "  H[1,4,0]      3.38      2.04      2.75      1.45      7.28   6166.69      1.00\n",
      "  H[1,5,0]     16.21      2.89     15.59     11.89     22.07   9750.09      1.00\n",
      "  H[1,6,0]      5.98      4.38      4.81      0.81     14.66  14129.51      1.00\n",
      "  H[1,7,0]      1.11      1.51      0.65      0.41      3.36   4874.23      1.00\n",
      "  H[2,0,0]      0.21      0.12      0.19      0.15      0.29    491.10      1.01\n",
      "  H[2,1,0]      1.30      0.95      1.04      0.61      2.67   4195.85      1.00\n",
      "  H[2,2,0]      1.54      0.06      1.54      1.42      1.66  20897.39      1.00\n",
      "  H[2,3,0]     11.44      5.72     10.04      3.66     22.62  13939.22      1.00\n",
      "  H[2,4,0]      4.31      2.91      3.37      1.57      9.92   7778.21      1.00\n",
      "  H[2,5,0]      3.78      0.06      3.78      3.67      3.89  22529.71      1.00\n",
      "  H[2,6,0]      4.18      1.74      3.77      2.97      6.23   2063.29      1.00\n",
      "  H[2,7,0]      0.46      0.03      0.45      0.40      0.51  11514.40      1.00\n",
      "  H[3,0,0]      0.38      0.54      0.20      0.07      1.20   7638.95      1.00\n",
      "  H[3,1,0]      1.20      1.24      0.80      0.30      3.30   7829.63      1.00\n",
      "  H[3,2,0]      1.72      0.12      1.71      1.50      1.96  20208.70      1.00\n",
      "  H[3,3,0]     13.29      0.29     13.29     12.71     13.86  16063.37      1.00\n",
      "  H[3,4,0]      4.51      3.61      3.37      0.82     11.60  11716.90      1.00\n",
      "  H[3,5,0]      1.49      0.03      1.49      1.42      1.56  19579.41      1.00\n",
      "  H[3,6,0]      6.78      3.05      5.82      3.45     12.97   7725.65      1.00\n",
      "  H[3,7,0]      1.86      2.15      1.15      0.21      5.82   8457.60      1.00\n",
      "  L[0,0,0]      0.02      0.00      0.02      0.02      0.02  20481.40      1.00\n",
      "  L[0,1,0]      0.02      0.01      0.02      0.01      0.03  11950.26      1.00\n",
      "  L[0,2,0]      0.01      0.00      0.01      0.01      0.02  14044.38      1.00\n",
      "  L[0,3,0]      0.14      0.04      0.13      0.07      0.23   1720.40      1.00\n",
      "  L[0,4,0]      0.02      0.00      0.02      0.01      0.03  17201.38      1.00\n",
      "  L[0,5,0]      0.05      0.00      0.04      0.04      0.05   2842.93      1.00\n",
      "  L[0,6,0]      0.02      0.00      0.02      0.01      0.03  18445.49      1.00\n",
      "  L[0,7,0]      0.02      0.00      0.02      0.01      0.02  10477.44      1.00\n",
      "  L[1,0,0]      0.02      0.00      0.02      0.02      0.02  20454.57      1.00\n",
      "  L[1,1,0]      0.02      0.00      0.02      0.02      0.02  20001.33      1.00\n",
      "  L[1,2,0]      0.02      0.00      0.02      0.01      0.02  11907.66      1.00\n",
      "  L[1,3,0]      0.19      0.03      0.19      0.12      0.26  10504.56      1.00\n",
      "  L[1,4,0]      0.01      0.00      0.01      0.01      0.02  12565.96      1.00\n",
      "  L[1,5,0]      0.12      0.02      0.12      0.08      0.16  17352.57      1.00\n",
      "  L[1,6,0]      0.02      0.00      0.02      0.01      0.03   7463.52      1.00\n",
      "  L[1,7,0]      0.02      0.00      0.02      0.01      0.02  16565.69      1.00\n",
      "  L[2,0,0]      0.03      0.00      0.03      0.02      0.03   1325.45      1.00\n",
      "  L[2,1,0]      0.02      0.00      0.02      0.02      0.02  20099.74      1.00\n",
      "  L[2,2,0]      0.01      0.00      0.01      0.01      0.02  22379.09      1.00\n",
      "  L[2,3,0]      0.19      0.02      0.19      0.15      0.24  15767.42      1.00\n",
      "  L[2,4,0]      0.07      0.02      0.07      0.03      0.11  14852.91      1.00\n",
      "  L[2,5,0]      0.05      0.01      0.05      0.04      0.07  21023.35      1.00\n",
      "  L[2,6,0]      0.07      0.01      0.07      0.05      0.09   6012.70      1.00\n",
      "  L[2,7,0]      0.02      0.00      0.02      0.01      0.02  19798.63      1.00\n",
      "  L[3,0,0]      0.02      0.00      0.02      0.02      0.03  19933.30      1.00\n",
      "  L[3,1,0]      0.02      0.00      0.02      0.02      0.02  22306.93      1.00\n",
      "  L[3,2,0]      0.01      0.00      0.01      0.01      0.02  20972.60      1.00\n",
      "  L[3,3,0]      0.08      0.01      0.08      0.06      0.11  13191.87      1.00\n",
      "  L[3,4,0]      0.02      0.00      0.02      0.01      0.03  19479.40      1.00\n",
      "  L[3,5,0]      0.03      0.00      0.02      0.02      0.03  21224.87      1.00\n",
      "  L[3,6,0]      0.02      0.00      0.02      0.02      0.02  22732.26      1.00\n",
      "  L[3,7,0]      0.02      0.00      0.02      0.01      0.02  19861.62      1.00\n",
      "  a[0,0,0]    124.25      1.82    124.47    121.06    127.34  10718.81      1.00\n",
      "  a[0,1,0]     48.13      2.66     48.45     42.41     52.93   9750.02      1.00\n",
      "  a[0,2,0]     48.35      1.91     48.38     44.90     51.58  14544.88      1.00\n",
      "  a[0,3,0]     87.90     33.62     83.12     28.82    133.97   1387.09      1.00\n",
      "  a[0,4,0]     31.90      3.12     31.89     25.74     38.26  17461.09      1.00\n",
      "  a[0,5,0]    296.16      5.87    294.14    286.73    308.93    871.04      1.00\n",
      "  a[0,6,0]     42.55      4.46     42.70     33.49     50.98  16193.70      1.00\n",
      "  a[0,7,0]     52.48     13.00     52.61     27.63     77.12   7344.07      1.00\n",
      "  a[1,0,0]    141.76      1.59    141.76    138.88    144.72  14430.98      1.00\n",
      "  a[1,1,0]    120.23      1.16    119.99    118.53    122.70  10053.81      1.00\n",
      "  a[1,2,0]    118.47      1.76    117.97    116.52    121.99   3847.25      1.00\n",
      "  a[1,3,0]    108.45     22.10    111.33     62.50    150.84   7406.48      1.00\n",
      "  a[1,4,0]     24.64      1.36     24.68     22.04     27.23  12233.73      1.00\n",
      "  a[1,5,0]    218.73     10.65    218.85    197.54    239.57   8032.29      1.00\n",
      "  a[1,6,0]     46.14      5.48     46.18     34.82     54.37   6040.99      1.00\n",
      "  a[1,7,0]     28.62      2.17     28.76     24.33     32.66  10841.55      1.00\n",
      "  a[2,0,0]    250.28      6.86    252.26    229.66    257.52    168.06      1.03\n",
      "  a[2,1,0]    215.08      2.87    215.36    207.89    220.39   4309.99      1.00\n",
      "  a[2,2,0]    154.67      1.60    154.54    152.27    157.66   9191.49      1.00\n",
      "  a[2,3,0]    193.18      8.79    192.92    177.42    210.09  13018.80      1.00\n",
      "  a[2,4,0]     34.09      5.54     34.24     22.88     44.97  10829.81      1.00\n",
      "  a[2,5,0]    132.23      1.72    132.31    128.80    135.53  19455.60      1.00\n",
      "  a[2,6,0]    194.31      9.89    196.45    172.61    208.56   2105.73      1.00\n",
      "  a[2,7,0]     32.05      1.24     32.08     29.65     34.45  14298.34      1.00\n",
      "  a[3,0,0]    246.43      6.43    246.99    232.53    259.59   7642.29      1.00\n",
      "  a[3,1,0]    302.29      2.62    302.52    297.81    306.80   9254.56      1.00\n",
      "  a[3,2,0]    211.52      1.66    211.77    207.97    214.30  14396.12      1.00\n",
      "  a[3,3,0]    178.27      2.65    178.50    171.66    183.60   3821.49      1.00\n",
      "  a[3,4,0]     43.41      2.65     43.64     38.26     48.43  10848.75      1.00\n",
      "  a[3,5,0]    164.78      0.94    164.87    162.95    166.55  15416.19      1.00\n",
      "  a[3,6,0]    157.30      1.63    157.47    154.23    160.15  13500.87      1.00\n",
      "  a[3,7,0]     79.35      2.74     79.56     74.02     84.59  15272.67      1.00\n",
      "  b[0,0,0]      0.04      0.02      0.03      0.02      0.06   7478.22      1.00\n",
      "  b[0,1,0]      0.06      0.04      0.05      0.02      0.15   6922.09      1.00\n",
      "  b[0,2,0]      0.17      0.08      0.14      0.06      0.33  11558.27      1.00\n",
      "  b[0,3,0]      0.05      0.03      0.04      0.00      0.11   5998.30      1.00\n",
      "  b[0,4,0]      0.02      0.02      0.02      0.00      0.06   5357.57      1.00\n",
      "  b[0,5,0]      0.17      0.09      0.15      0.02      0.35   8862.47      1.00\n",
      "  b[0,6,0]      0.04      0.02      0.03      0.00      0.08   8159.12      1.00\n",
      "  b[0,7,0]      0.00      0.00      0.00      0.00      0.01   9084.03      1.00\n",
      "  b[1,0,0]      0.02      0.01      0.02      0.01      0.03   8152.96      1.00\n",
      "  b[1,1,0]      0.22      0.10      0.20      0.07      0.41   8948.36      1.00\n",
      "  b[1,2,0]      0.17      0.08      0.14      0.06      0.33   9579.65      1.00\n",
      "  b[1,3,0]      0.05      0.04      0.04      0.00      0.12   8679.52      1.00\n",
      "  b[1,4,0]      0.02      0.02      0.02      0.00      0.06   5897.84      1.00\n",
      "  b[1,5,0]      0.11      0.08      0.08      0.02      0.26   7672.25      1.00\n",
      "  b[1,6,0]      0.03      0.02      0.03      0.00      0.08   7824.87      1.00\n",
      "  b[1,7,0]      0.03      0.02      0.03      0.00      0.08   5999.30      1.00\n",
      "  b[2,0,0]      0.08      0.04      0.07      0.00      0.15    725.60      1.01\n",
      "  b[2,1,0]      0.03      0.03      0.02      0.00      0.09   6080.14      1.00\n",
      "  b[2,2,0]      0.12      0.07      0.10      0.04      0.27   9270.47      1.00\n",
      "  b[2,3,0]      0.09      0.05      0.08      0.01      0.20   7813.56      1.00\n",
      "  b[2,4,0]      0.03      0.03      0.02      0.00      0.07   5439.04      1.00\n",
      "  b[2,5,0]      0.24      0.09      0.23      0.10      0.43   8956.83      1.00\n",
      "  b[2,6,0]      0.12      0.07      0.11      0.01      0.25   6346.06      1.00\n",
      "  b[2,7,0]      0.04      0.02      0.04      0.02      0.07   6815.36      1.00\n",
      "  b[3,0,0]      0.01      0.01      0.01      0.00      0.03   8978.00      1.00\n",
      "  b[3,1,0]      0.07      0.05      0.06      0.01      0.17   7154.47      1.00\n",
      "  b[3,2,0]      0.11      0.06      0.10      0.03      0.23   8151.55      1.00\n",
      "  b[3,3,0]      0.08      0.02      0.08      0.05      0.13   6055.61      1.00\n",
      "  b[3,4,0]      0.02      0.02      0.01      0.00      0.07   5459.39      1.00\n",
      "  b[3,5,0]      0.18      0.07      0.17      0.06      0.32   8031.42      1.00\n",
      "  b[3,6,0]      0.07      0.06      0.06      0.01      0.20   6535.83      1.00\n",
      "  b[3,7,0]      0.02      0.02      0.02      0.00      0.05   7297.31      1.00\n",
      "g_1[0,0,0]      5.73      4.54      4.68      0.00     14.52  13172.80      1.00\n",
      "g_1[0,1,0]     14.15      5.74     13.94      2.77     25.34  10412.86      1.00\n",
      "g_1[0,2,0]      3.52      2.87      2.81      0.00      9.19  11786.38      1.00\n",
      "g_1[0,3,0]      0.92      0.84      0.72      0.00      2.37   2169.06      1.00\n",
      "g_1[0,4,0]      0.67      0.62      0.48      0.00      1.92  21614.37      1.00\n",
      "g_1[0,5,0]      9.82      8.12      7.35      0.07     26.33   1279.82      1.00\n",
      "g_1[0,6,0]      0.85      0.80      0.62      0.00      2.47  21091.44      1.00\n",
      "g_1[0,7,0]     44.24     43.47     30.79      0.00    132.80  22270.97      1.00\n",
      "g_1[1,0,0]     14.50     12.09     11.41      0.00     38.42  15336.29      1.00\n",
      "g_1[1,1,0]     12.44      6.69     11.91      0.13     24.38  15474.91      1.00\n",
      "g_1[1,2,0]      4.43      3.80      3.43      0.00     11.98  16688.45      1.00\n",
      "g_1[1,3,0]      2.38      1.40      2.21      0.00      4.93   9714.56      1.00\n",
      "g_1[1,4,0]      1.47      1.18      1.20      0.00      3.77  13947.65      1.00\n",
      "g_1[1,5,0]      5.86      1.77      5.75      2.47      9.25  10681.10      1.00\n",
      "g_1[1,6,0]      1.61      1.48      1.19      0.00      4.56  13558.35      1.00\n",
      "g_1[1,7,0]     28.18     16.47     26.49      0.02     57.83  11165.89      1.00\n",
      "g_1[2,0,0]     84.77     52.04     77.95      0.00    180.81   1336.66      1.00\n",
      "g_1[2,1,0]     23.28     15.99     20.65      0.00     53.17  17850.60      1.00\n",
      "g_1[2,2,0]      2.09      1.94      1.52      0.00      5.99  20863.24      1.00\n",
      "g_1[2,3,0]      6.33      2.72      6.05      1.45     11.73  12356.97      1.00\n",
      "g_1[2,4,0]      6.22      1.38      6.13      3.70      9.04  19857.20      1.00\n",
      "g_1[2,5,0]     50.74     11.07     50.05     29.75     72.49  19441.86      1.00\n",
      "g_1[2,6,0]     12.11      5.43     11.97      1.70     21.68   3736.63      1.00\n",
      "g_1[2,7,0]     25.67     15.14     24.34      0.02     53.03  13582.45      1.00\n",
      "g_1[3,0,0]     24.12     23.02     17.49      0.00     70.12  22192.45      1.00\n",
      "g_1[3,1,0]     13.73     12.02     10.53      0.00     37.45  24034.50      1.00\n",
      "g_1[3,2,0]      2.71      1.98      2.33      0.00      6.55  17836.10      1.00\n",
      "g_1[3,3,0]     14.54      4.28     14.20      6.67     22.96  12203.74      1.00\n",
      "g_1[3,4,0]      2.08      1.68      1.70      0.00      5.41  15362.13      1.00\n",
      "g_1[3,5,0]     56.19     20.51     54.27     19.05     97.41  16841.78      1.00\n",
      "g_1[3,6,0]      6.19      3.11      5.84      0.69     12.31  17077.70      1.00\n",
      "g_1[3,7,0]      7.14      6.79      5.10      0.00     20.90  24153.04      1.00\n",
      "g_2[0,0,0]     10.18      2.96     10.08      4.46     16.06  13886.07      1.00\n",
      "g_2[0,1,0]      4.25      2.24      3.92      0.50      8.75   8481.21      1.00\n",
      "g_2[0,2,0]     16.77      5.51     16.77      5.80     27.37  12446.25      1.00\n",
      "g_2[0,3,0]      2.18      0.68      2.18      0.86      3.56   4213.60      1.00\n",
      "g_2[0,4,0]      3.05      0.67      3.01      1.80      4.42  19862.56      1.00\n",
      "g_2[0,5,0]      3.52      1.20      3.50      1.05      5.86   1788.49      1.00\n",
      "g_2[0,6,0]      4.34      0.96      4.29      2.53      6.23  20196.82      1.00\n",
      "g_2[0,7,0]     15.22      3.42     15.08      8.69     22.11  22257.87      1.00\n",
      "g_2[1,0,0]     19.65      5.06     19.45      9.75     29.56  16482.51      1.00\n",
      "g_2[1,1,0]      7.97      2.65      7.73      3.18     13.19  14988.85      1.00\n",
      "g_2[1,2,0]     29.95      7.89     29.53     14.56     45.37  12680.80      1.00\n",
      "g_2[1,3,0]      2.62      0.99      2.57      0.74      4.58  10889.20      1.00\n",
      "g_2[1,4,0]      5.82      1.62      5.77      2.72      8.98  14023.75      1.00\n",
      "g_2[1,5,0]      0.31      0.23      0.26      0.00      0.75  12107.47      1.00\n",
      "g_2[1,6,0]      4.70      1.14      4.67      2.48      6.94  14626.67      1.00\n",
      "g_2[1,7,0]      9.85      3.82      9.58      2.74     17.40  13769.54      1.00\n",
      "g_2[2,0,0]      7.34      2.77      7.27      1.87     12.73   6193.44      1.00\n",
      "g_2[2,1,0]     13.85      3.46     13.61      7.27     20.67  18064.60      1.00\n",
      "g_2[2,2,0]     21.97      5.07     21.69     12.69     32.36  18732.58      1.00\n",
      "g_2[2,3,0]      2.06      1.01      2.00      0.01      3.82  12741.73      1.00\n",
      "g_2[2,4,0]      0.12      0.11      0.09      0.00      0.34  20999.49      1.00\n",
      "g_2[2,5,0]      0.41      0.38      0.30      0.00      1.16  26093.69      1.00\n",
      "g_2[2,6,0]      0.82      0.54      0.74      0.00      1.82   3724.12      1.00\n",
      "g_2[2,7,0]     11.73      4.73     11.40      3.32     21.19  12694.53      1.00\n",
      "g_2[3,0,0]     14.62      3.23     14.44      8.58     21.05  19947.74      1.00\n",
      "g_2[3,1,0]      7.95      1.72      7.85      4.73     11.38  21281.32      1.00\n",
      "g_2[3,2,0]      8.50      2.10      8.35      4.52     12.60  19763.66      1.00\n",
      "g_2[3,3,0]      1.15      0.68      1.09      0.00      2.36   9258.38      1.00\n",
      "g_2[3,4,0]      4.58      1.20      4.53      2.26      6.91  15319.67      1.00\n",
      "g_2[3,5,0]     18.53      6.42     17.90      6.90     31.24  18406.64      1.00\n",
      "g_2[3,6,0]      7.10      1.88      6.94      3.63     10.86  19922.13      1.00\n",
      "g_2[3,7,0]     10.58      2.32     10.44      6.18     15.17  21090.91      1.00\n",
      "  v[0,0,0]      0.72      1.00      0.38      0.00      2.55   8541.28      1.00\n",
      "  v[0,1,0]      4.16      4.85      2.45      0.00     14.00   5976.73      1.00\n",
      "  v[0,2,0]      2.45      2.14      1.91      0.00      6.57  10261.75      1.00\n",
      "  v[0,3,0]     11.07      7.59      9.27      0.54     26.08   8929.86      1.00\n",
      "  v[0,4,0]      5.64      5.53      4.05      0.00     16.26   5271.48      1.00\n",
      "  v[0,5,0]      7.27      4.30      6.37      0.74     15.98   6684.03      1.00\n",
      "  v[0,6,0]     13.00      9.14     10.78      0.74     31.55   8160.82      1.00\n",
      "  v[0,7,0]     13.05     11.35     10.17      0.00     34.95   8398.64      1.00\n",
      "  v[1,0,0]      0.79      1.09      0.43      0.00      2.76   7401.21      1.00\n",
      "  v[1,1,0]      1.51      1.61      0.99      0.01      4.67   9452.76      1.00\n",
      "  v[1,2,0]      2.26      2.08      1.69      0.00      6.35   7457.09      1.00\n",
      "  v[1,3,0]     10.51      7.17      8.80      0.78     24.92   8929.91      1.00\n",
      "  v[1,4,0]      2.13      2.80      1.26      0.00      7.13   5730.99      1.00\n",
      "  v[1,5,0]      6.34      4.96      4.87      0.29     16.30   7444.91      1.00\n",
      "  v[1,6,0]     13.46      9.28     11.23      0.95     32.34   7835.23      1.00\n",
      "  v[1,7,0]     10.16      7.83      8.51      0.00     25.10   6205.17      1.00\n",
      "  v[2,0,0]      1.49      2.37      0.62      0.00      5.94   9551.37      1.00\n",
      "  v[2,1,0]      4.94      5.76      2.98      0.00     16.52   5321.91      1.00\n",
      "  v[2,2,0]      4.66      3.45      3.92      0.00     11.25   8342.26      1.00\n",
      "  v[2,3,0]      8.11      4.85      7.01      1.26     17.82   7791.75      1.00\n",
      "  v[2,4,0]      2.61      3.46      1.45      0.00      9.14   5277.71      1.00\n",
      "  v[2,5,0]      9.60      3.65      8.97      3.54     16.81   8831.69      1.00\n",
      "  v[2,6,0]      5.00      3.31      4.35      0.00     11.16   7633.65      1.00\n",
      "  v[2,7,0]      2.29      2.61      1.48      0.00      7.08   7013.61      1.00\n",
      "  v[3,0,0]      2.08      3.74      0.73      0.00      8.92   8360.22      1.00\n",
      "  v[3,1,0]      4.87      5.29      3.12      0.00     15.55   5987.78      1.00\n",
      "  v[3,2,0]      8.76      4.80      7.78      0.93     18.16   7884.69      1.00\n",
      "  v[3,3,0]      1.22      0.67      1.13      0.03      2.38   5190.06      1.00\n",
      "  v[3,4,0]      4.04      4.82      2.38      0.00     13.72   5283.32      1.00\n",
      "  v[3,5,0]     12.42      5.01     11.47      4.64     22.88   8140.60      1.00\n",
      "  v[3,6,0]      5.33      4.48      3.95      0.18     14.51   6352.82      1.00\n",
      "  v[3,7,0]     12.25      9.22     10.15      0.00     29.76   7087.01      1.00\n",
      "  µ_a[0,0]    176.64     29.19    178.15    115.92    232.07  15753.10      1.00\n",
      "  µ_a[1,0]    156.43     35.48    157.71     85.06    224.98  16974.84      1.00\n",
      "  µ_a[2,0]    134.56     29.22    134.73     75.78    193.41  17143.44      1.00\n",
      "  µ_a[3,0]    141.92     27.62    142.49     85.00    195.65   8932.36      1.00\n",
      "  µ_a[4,0]     36.66     12.94     35.03     10.53     64.08   8752.37      1.00\n",
      "  µ_a[5,0]    183.29     31.55    185.72    120.51    244.25  12052.66      1.00\n",
      "  µ_a[6,0]    117.61     31.73    117.62     52.62    180.24  16879.33      1.00\n",
      "  µ_a[7,0]     57.15     22.52     54.93     11.41    104.00  10458.51      1.00\n",
      "  σ_H[0,0]      0.81      0.57      0.66      0.24      1.84  10153.14      1.00\n",
      "  σ_H[1,0]      1.54      1.09      1.22      0.36      3.64   8021.68      1.00\n",
      "  σ_H[2,0]      2.27      1.13      1.97      0.81      4.47  14350.63      1.00\n",
      "  σ_H[3,0]      9.52      2.56      9.22      5.10     14.70  15402.41      1.00\n",
      "  σ_H[4,0]      5.31      2.44      4.86      1.47     10.09   9668.22      1.00\n",
      "  σ_H[5,0]      8.15      2.21      7.85      4.33     12.61  15057.50      1.00\n",
      "  σ_H[6,0]      6.28      2.44      5.86      2.39     11.21  10629.90      1.00\n",
      "  σ_H[7,0]      1.96      1.76      1.34      0.24      5.62   7049.58      1.00\n",
      "  σ_L[0,0]      0.03      0.01      0.03      0.01      0.06  16195.81      1.00\n",
      "  σ_L[1,0]      0.03      0.01      0.03      0.01      0.05  15304.34      1.00\n",
      "  σ_L[2,0]      0.02      0.01      0.02      0.01      0.04  15169.80      1.00\n",
      "  σ_L[3,0]      0.12      0.02      0.11      0.07      0.16  13941.01      1.00\n",
      "  σ_L[4,0]      0.04      0.02      0.04      0.02      0.08  16480.45      1.00\n",
      "  σ_L[5,0]      0.07      0.02      0.07      0.03      0.11  19513.94      1.00\n",
      "  σ_L[6,0]      0.05      0.02      0.04      0.02      0.08  16855.15      1.00\n",
      "  σ_L[7,0]      0.02      0.01      0.02      0.01      0.05  15187.89      1.00\n",
      "  σ_a[0,0]     67.49     21.50     63.68     31.86    110.42  15981.39      1.00\n",
      "  σ_a[1,0]     91.45     22.95     88.62     51.45    137.64  19086.41      1.00\n",
      "  σ_a[2,0]     68.64     21.58     64.83     33.28    112.02  18949.91      1.00\n",
      "  σ_a[3,0]     58.92     21.86     55.22     22.82    102.76  12745.19      1.00\n",
      "  σ_a[4,0]     18.79     15.33     13.55      3.23     50.10   8298.73      1.00\n",
      "  σ_a[5,0]     71.33     22.52     67.44     35.13    116.45  14597.49      1.00\n",
      "  σ_a[6,0]     75.55     22.22     72.19     38.07    119.84  19753.88      1.00\n",
      "  σ_a[7,0]     40.47     20.31     35.59     11.91     81.49  15747.97      1.00\n",
      "  σ_b[0,0]      0.06      0.03      0.05      0.01      0.12   2320.32      1.00\n",
      "  σ_b[1,0]      0.13      0.05      0.12      0.04      0.22   9752.32      1.00\n",
      "  σ_b[2,0]      0.14      0.05      0.14      0.06      0.24  10307.64      1.00\n",
      "  σ_b[3,0]      0.09      0.04      0.08      0.03      0.16  10154.44      1.00\n",
      "  σ_b[4,0]      0.04      0.03      0.03      0.00      0.09   4974.44      1.00\n",
      "  σ_b[5,0]      0.17      0.05      0.16      0.08      0.27   9865.78      1.00\n",
      "  σ_b[6,0]      0.09      0.05      0.08      0.02      0.18   6968.12      1.00\n",
      "  σ_b[7,0]      0.04      0.03      0.04      0.01      0.09   9180.32      1.00\n",
      "  σ_v[0,0]      2.23      2.84      1.19      0.00      8.03   7491.80      1.00\n",
      "  σ_v[1,0]      5.65      4.62      4.49      0.02     14.78   4729.31      1.00\n",
      "  σ_v[2,0]      6.92      3.72      6.15      1.14     14.42   9422.47      1.00\n",
      "  σ_v[3,0]     10.04      4.89      9.24      2.22     19.75   9109.11      1.00\n",
      "  σ_v[4,0]      5.25      4.35      4.03      0.00     14.06   4573.94      1.00\n",
      "  σ_v[5,0]     10.61      4.17      9.89      3.82     18.99   9445.99      1.00\n",
      "  σ_v[6,0]     11.14      5.33     10.33      2.05     21.40   6915.27      1.00\n",
      "  σ_v[7,0]     11.28      5.95     10.59      0.65     22.52   5457.85      1.00\n",
      "\n",
      "Number of divergences: 3193\n"
     ]
    }
   ],
   "source": [
    "mcmc.print_summary(prob=.95)\n"
   ]
  },
  {
   "cell_type": "code",
   "execution_count": 8,
   "metadata": {},
   "outputs": [
    {
     "name": "stderr",
     "output_type": "stream",
     "text": [
      "2023-08-09 13:36:57,808 - hbmep.model.baseline - INFO - Generating predictions ...\n",
      "2023-08-09 13:37:40,797 - hbmep.utils.utils - INFO - func:predict took: 42.98 sec\n",
      "2023-08-09 13:37:40,909 - hbmep.model.baseline - INFO - Rendering recruitment curves ...\n",
      "2023-08-09 13:37:54,029 - hbmep.model.baseline - INFO - Saved to /home/vishu/repos/hbmep-paper/reports/J_RCML_000/ecr/recruitment_curves.pdf\n",
      "2023-08-09 13:37:54,029 - hbmep.utils.utils - INFO - func:render_recruitment_curves took: 56.22 sec\n"
     ]
    }
   ],
   "source": [
    "model.render_recruitment_curves(df=df, encoder_dict=encoder_dict, posterior_samples=posterior_samples)\n",
    "\n"
   ]
  },
  {
   "cell_type": "code",
   "execution_count": 9,
   "metadata": {},
   "outputs": [
    {
     "name": "stderr",
     "output_type": "stream",
     "text": [
      "2023-08-09 13:37:54,073 - hbmep.model.baseline - INFO - Generating predictions ...\n"
     ]
    },
    {
     "name": "stderr",
     "output_type": "stream",
     "text": [
      "2023-08-09 13:38:37,199 - hbmep.utils.utils - INFO - func:predict took: 43.12 sec\n",
      "2023-08-09 13:38:37,557 - hbmep.model.baseline - INFO - Rendering Posterior Predictive Check ...\n",
      "2023-08-09 13:39:06,480 - hbmep.model.baseline - INFO - Saved to /home/vishu/repos/hbmep-paper/reports/J_RCML_000/ecr/posterior_predictive_check.pdf\n",
      "2023-08-09 13:39:06,484 - hbmep.utils.utils - INFO - func:render_predictive_check took: 1 min and 12.41 sec\n"
     ]
    }
   ],
   "source": [
    "model.render_predictive_check(df=df, encoder_dict=encoder_dict, posterior_samples=posterior_samples)\n"
   ]
  },
  {
   "cell_type": "code",
   "execution_count": 10,
   "metadata": {},
   "outputs": [
    {
     "name": "stderr",
     "output_type": "stream",
     "text": [
      "2023-08-09 13:39:06,523 - hbmep.model.baseline - INFO - Saving inference data ...\n"
     ]
    },
    {
     "name": "stderr",
     "output_type": "stream",
     "text": [
      "2023-08-09 13:39:35,478 - hbmep.model.baseline - INFO - Saved to /home/vishu/repos/hbmep-paper/reports/J_RCML_000/ecr/mcmc.nc\n",
      "2023-08-09 13:39:35,478 - hbmep.model.baseline - INFO - Rendering convergence diagnostics ...\n",
      "2023-08-09 13:40:07,405 - hbmep.model.baseline - INFO - Saved to /home/vishu/repos/hbmep-paper/reports/J_RCML_000/ecr/diagnostics.csv\n",
      "2023-08-09 13:40:07,405 - hbmep.model.baseline - INFO - Evaluating model ...\n",
      "/home/vishu/repos/hbmep-paper/.venv/lib/python3.11/site-packages/arviz/stats/stats.py:803: UserWarning: Estimated shape parameter of Pareto distribution is greater than 0.7 for one or more samples. You should consider using a more robust model, this is because importance sampling is less likely to work well if the marginal posterior and LOO posterior are very different. This is more likely to happen with a non-robust model and highly influential observations.\n",
      "  warnings.warn(\n",
      "2023-08-09 13:40:12,563 - hbmep.model.baseline - INFO - ELPD LOO (Log): 1969.18\n",
      "/home/vishu/repos/hbmep-paper/.venv/lib/python3.11/site-packages/arviz/stats/stats.py:1645: UserWarning: For one or more samples the posterior variance of the log predictive densities exceeds 0.4. This could be indication of WAIC starting to fail. \n",
      "See http://arxiv.org/abs/1507.04544 for details\n",
      "  warnings.warn(\n",
      "2023-08-09 13:40:13,078 - hbmep.model.baseline - INFO - ELPD WAIC (Log): 1988.51\n",
      "2023-08-09 13:40:13,085 - hbmep.utils.utils - INFO - func:save took: 1 min and 6.56 sec\n"
     ]
    }
   ],
   "source": [
    "model.save(mcmc=mcmc)"
   ]
  },
  {
   "cell_type": "code",
   "execution_count": null,
   "metadata": {},
   "outputs": [],
   "source": []
  }
 ],
 "metadata": {
  "kernelspec": {
   "display_name": ".venv",
   "language": "python",
   "name": "python3"
  },
  "language_info": {
   "codemirror_mode": {
    "name": "ipython",
    "version": 3
   },
   "file_extension": ".py",
   "mimetype": "text/x-python",
   "name": "python",
   "nbconvert_exporter": "python",
   "pygments_lexer": "ipython3",
   "version": "3.11.4"
  },
  "orig_nbformat": 4,
  "vscode": {
   "interpreter": {
    "hash": "850bfd4e6f5ddd996dd5cd5088beecd08558625e274540230e1444ec52025b11"
   }
  }
 },
 "nbformat": 4,
 "nbformat_minor": 2
}
