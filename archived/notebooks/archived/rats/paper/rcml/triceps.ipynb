{
 "cells": [
  {
   "cell_type": "code",
   "execution_count": 1,
   "metadata": {},
   "outputs": [],
   "source": [
    "%reload_ext autoreload\n",
    "%autoreload 2\n",
    "\n",
    "import os\n",
    "from pathlib import Path\n",
    "import multiprocessing\n",
    "\n",
    "import jax\n",
    "import jax.numpy as jnp\n",
    "import pandas as pd\n",
    "import numpy as np\n",
    "import numpyro\n",
    "import numpyro.distributions as dist\n",
    "\n",
    "from hbmep.config import Config\n",
    "from hbmep.model import Baseline\n",
    "from hbmep.model.utils import Site as site\n",
    "from hbmep.utils.constants import RECTIFIED_LOGISTIC\n",
    "\n",
    "PLATFORM = \"cpu\"\n",
    "jax.config.update(\"jax_platforms\", PLATFORM)\n",
    "numpyro.set_platform(PLATFORM)\n",
    "\n",
    "cpu_count = multiprocessing.cpu_count() - 2\n",
    "numpyro.set_host_device_count(cpu_count)\n",
    "numpyro.enable_x64()\n",
    "numpyro.enable_validation()\n"
   ]
  },
  {
   "cell_type": "code",
   "execution_count": 2,
   "metadata": {},
   "outputs": [
    {
     "name": "stderr",
     "output_type": "stream",
     "text": [
      "2023-08-09 13:21:17,397 - hbmep.config - INFO - Verifying configuration ...\n",
      "2023-08-09 13:21:17,397 - hbmep.config - INFO - Success!\n"
     ]
    }
   ],
   "source": [
    "root_path = Path(os.getcwd()).parent.parent.parent.parent.absolute()\n",
    "toml_path = os.path.join(root_path, \"configs/rcml/triceps.toml\")\n",
    "\n",
    "config = Config(toml_path=toml_path)\n"
   ]
  },
  {
   "attachments": {},
   "cell_type": "markdown",
   "metadata": {},
   "source": [
    "#### Load data and preprocess"
   ]
  },
  {
   "cell_type": "code",
   "execution_count": 3,
   "metadata": {},
   "outputs": [
    {
     "name": "stderr",
     "output_type": "stream",
     "text": [
      "2023-08-09 13:21:17,436 - hbmep.model.baseline - INFO - Initialized model with rectified_logistic link\n"
     ]
    }
   ],
   "source": [
    "class RectifiedLogistic(Baseline):\n",
    "    LINK = RECTIFIED_LOGISTIC\n",
    "\n",
    "    def __init__(self, config: Config):\n",
    "        super(RectifiedLogistic, self).__init__(config=config)\n",
    "\n",
    "    def _model(self, subject, features, intensity, response_obs=None):\n",
    "        intensity = intensity.reshape(-1, 1)\n",
    "        intensity = np.tile(intensity, (1, self.n_response))\n",
    "\n",
    "        feature0 = features[0, ...].reshape(-1,)\n",
    "\n",
    "        n_data = intensity.shape[0]\n",
    "        n_subject = np.unique(subject).shape[0]\n",
    "        n_feature0 = np.unique(feature0).shape[0]\n",
    "\n",
    "        with numpyro.plate(site.n_response, self.n_response, dim=-1):\n",
    "            with numpyro.plate(site.n_subject, n_subject, dim=-2):\n",
    "                \"\"\" Hyper-priors \"\"\"\n",
    "                mu_a = numpyro.sample(\n",
    "                    site.mu_a,\n",
    "                    dist.TruncatedNormal(150, 50, low=0)\n",
    "                )\n",
    "                sigma_a = numpyro.sample(site.sigma_a, dist.HalfNormal(50))\n",
    "\n",
    "                sigma_b = numpyro.sample(site.sigma_b, dist.HalfNormal(0.1))\n",
    "\n",
    "                sigma_L = numpyro.sample(site.sigma_L, dist.HalfNormal(0.05))\n",
    "                sigma_H = numpyro.sample(site.sigma_H, dist.HalfNormal(5))\n",
    "                sigma_v = numpyro.sample(site.sigma_v, dist.HalfNormal(10))\n",
    "\n",
    "                with numpyro.plate(\"n_feature0\", n_feature0, dim=-3):\n",
    "                    \"\"\" Priors \"\"\"\n",
    "                    a = numpyro.sample(\n",
    "                        site.a,\n",
    "                        dist.TruncatedNormal(mu_a, sigma_a, low=0)\n",
    "                    )\n",
    "                    b = numpyro.sample(site.b, dist.HalfNormal(sigma_b))\n",
    "\n",
    "                    L = numpyro.sample(site.L, dist.HalfNormal(sigma_L))\n",
    "                    H = numpyro.sample(site.H, dist.HalfNormal(sigma_H))\n",
    "                    v = numpyro.sample(site.v, dist.HalfNormal(sigma_v))\n",
    "\n",
    "                    g_1 = numpyro.sample(site.g_1, dist.Exponential(0.01))\n",
    "                    g_2 = numpyro.sample(site.g_2, dist.Exponential(0.01))\n",
    "\n",
    "        \"\"\" Model \"\"\"\n",
    "        mu = numpyro.deterministic(\n",
    "            site.mu,\n",
    "            L[feature0, subject]\n",
    "            + jnp.maximum(\n",
    "                0,\n",
    "                -1\n",
    "                + (H[feature0, subject] + 1)\n",
    "                / jnp.power(\n",
    "                    1\n",
    "                    + (jnp.power(1 + H[feature0, subject], v[feature0, subject]) - 1)\n",
    "                    * jnp.exp(-b[feature0, subject] * (intensity - a[feature0, subject])),\n",
    "                    1 / v[feature0, subject]\n",
    "                )\n",
    "            )\n",
    "        )\n",
    "        beta = numpyro.deterministic(\n",
    "            site.beta,\n",
    "            g_1[feature0, subject] + g_2[feature0, subject] * (1 / mu)\n",
    "        )\n",
    "\n",
    "        \"\"\" Observation \"\"\"\n",
    "        with numpyro.plate(site.data, n_data):\n",
    "            return numpyro.sample(\n",
    "                site.obs,\n",
    "                dist.Gamma(concentration=mu * beta, rate=beta).to_event(1),\n",
    "                obs=response_obs\n",
    "            )\n",
    "\n",
    "\n",
    "model = RectifiedLogistic(config=config)\n"
   ]
  },
  {
   "cell_type": "code",
   "execution_count": 4,
   "metadata": {},
   "outputs": [
    {
     "name": "stderr",
     "output_type": "stream",
     "text": [
      "2023-08-09 13:21:17,475 - hbmep.dataset.core - INFO - Artefacts will be stored here - /home/vishu/repos/hbmep-paper/reports/J_RCML_000/triceps\n",
      "2023-08-09 13:21:17,476 - hbmep.dataset.core - INFO - Copied config to /home/vishu/repos/hbmep-paper/reports/J_RCML_000/triceps\n",
      "2023-08-09 13:21:17,477 - hbmep.dataset.core - INFO - Processing data ...\n",
      "2023-08-09 13:21:17,479 - hbmep.utils.utils - INFO - func:load took: 0.00 sec\n",
      "2023-08-09 13:21:17,481 - hbmep.dataset.core - INFO - Plotting dataset ...\n"
     ]
    },
    {
     "name": "stderr",
     "output_type": "stream",
     "text": [
      "2023-08-09 13:21:28,413 - hbmep.dataset.core - INFO - Saved to /home/vishu/repos/hbmep-paper/reports/J_RCML_000/triceps/dataset.pdf\n",
      "2023-08-09 13:21:28,413 - hbmep.utils.utils - INFO - func:plot took: 10.93 sec\n"
     ]
    }
   ],
   "source": [
    "df = pd.read_csv(model.csv_path)\n",
    "\n",
    "ind = df.pulse_amplitude.isin([0])\n",
    "df = df[~ind].reset_index(drop=True).copy()\n",
    "\n",
    "subset = ['-C5L', '-C6L', '-C7L', '-C8L']\n",
    "ind = df.compound_position.isin(subset)\n",
    "df = df[ind].reset_index(drop=True).copy()\n",
    "\n",
    "# df[model.features] = \\\n",
    "#     df.compound_position \\\n",
    "#         .apply(lambda x: x.split(\"-\")) \\\n",
    "#         .apply(lambda x: (x[0][:2] + \"-\" + x[1][:2], x[0][-1])) \\\n",
    "#         .apply(pd.Series)\n",
    "\n",
    "\"\"\" Process \"\"\"\n",
    "df, encoder_dict = model.load(df=df)\n",
    "\n",
    "\"\"\" Plot \"\"\"\n",
    "model.plot(df=df, encoder_dict=encoder_dict)"
   ]
  },
  {
   "cell_type": "code",
   "execution_count": 5,
   "metadata": {},
   "outputs": [
    {
     "data": {
      "text/plain": [
       "(1604, 44)"
      ]
     },
     "execution_count": 5,
     "metadata": {},
     "output_type": "execute_result"
    }
   ],
   "source": [
    "df.shape"
   ]
  },
  {
   "cell_type": "code",
   "execution_count": 6,
   "metadata": {},
   "outputs": [
    {
     "name": "stderr",
     "output_type": "stream",
     "text": [
      "2023-08-09 13:21:28,446 - hbmep.model.baseline - INFO - Running inference with rectified_logistic ...\n"
     ]
    },
    {
     "data": {
      "application/vnd.jupyter.widget-view+json": {
       "model_id": "60772f06af6d4b3e8f7570dfa650694b",
       "version_major": 2,
       "version_minor": 0
      },
      "text/plain": [
       "  0%|          | 0/10000 [00:00<?, ?it/s]"
      ]
     },
     "metadata": {},
     "output_type": "display_data"
    },
    {
     "data": {
      "application/vnd.jupyter.widget-view+json": {
       "model_id": "4315c50182a544ce98f7b378cc37bc46",
       "version_major": 2,
       "version_minor": 0
      },
      "text/plain": [
       "  0%|          | 0/10000 [00:00<?, ?it/s]"
      ]
     },
     "metadata": {},
     "output_type": "display_data"
    },
    {
     "data": {
      "application/vnd.jupyter.widget-view+json": {
       "model_id": "2263973855c940359b0e0a62acf556f0",
       "version_major": 2,
       "version_minor": 0
      },
      "text/plain": [
       "  0%|          | 0/10000 [00:00<?, ?it/s]"
      ]
     },
     "metadata": {},
     "output_type": "display_data"
    },
    {
     "data": {
      "application/vnd.jupyter.widget-view+json": {
       "model_id": "919f98b8b20149a6bc1b74785f9b6a05",
       "version_major": 2,
       "version_minor": 0
      },
      "text/plain": [
       "  0%|          | 0/10000 [00:00<?, ?it/s]"
      ]
     },
     "metadata": {},
     "output_type": "display_data"
    },
    {
     "name": "stderr",
     "output_type": "stream",
     "text": [
      "2023-08-09 13:55:53,333 - hbmep.utils.utils - INFO - func:run_inference took: 34 min and 24.89 sec\n"
     ]
    }
   ],
   "source": [
    "mcmc, posterior_samples = model.run_inference(df=df)\n"
   ]
  },
  {
   "cell_type": "code",
   "execution_count": 7,
   "metadata": {},
   "outputs": [
    {
     "name": "stdout",
     "output_type": "stream",
     "text": [
      "\n",
      "                mean       std    median      2.5%     97.5%     n_eff     r_hat\n",
      "  H[0,0,0]      3.47      0.35      3.44      2.83      4.17    548.88      1.01\n",
      "  H[0,1,0]      3.83      0.18      3.83      3.49      4.20  11335.01      1.00\n",
      "  H[0,2,0]      4.54      0.17      4.54      4.22      4.88  25428.31      1.00\n",
      "  H[0,3,0]      3.48      4.11      1.87      0.23     11.87    402.95      1.01\n",
      "  H[0,4,0]      3.72      0.13      3.72      3.48      3.97    200.45      1.01\n",
      "  H[0,5,0]      8.74      6.32      7.09      0.51     20.98    352.53      1.03\n",
      "  H[0,6,0]      1.87      3.39      0.54      0.32     10.38     12.16      1.58\n",
      "  H[0,7,0]      0.96      1.42      0.49      0.07      4.04     17.93      1.24\n",
      "  H[1,0,0]      2.75      0.50      2.69      2.34      3.17    111.64      1.03\n",
      "  H[1,1,0]      1.98      0.26      1.95      1.53      2.50   2477.62      1.00\n",
      "  H[1,2,0]      2.72      0.16      2.71      2.41      3.04   3651.84      1.00\n",
      "  H[1,3,0]      5.77      4.53      4.71      0.46     14.44    158.22      1.03\n",
      "  H[1,4,0]      3.15      0.12      3.15      2.92      3.39  24768.23      1.00\n",
      "  H[1,5,0]     11.27      6.30      9.88      2.69     23.66   2137.74      1.00\n",
      "  H[1,6,0]      4.08      4.59      1.97      0.44     13.14     66.20      1.04\n",
      "  H[1,7,0]      0.97      2.36      0.38      0.26      5.55     12.38      1.36\n",
      "  H[2,0,0]      2.12      0.45      2.04      1.48      2.97   1882.73      1.00\n",
      "  H[2,1,0]      4.04      3.70      2.93      0.50     10.97    134.11      1.04\n",
      "  H[2,2,0]      2.25      0.14      2.24      2.00      2.55   4599.38      1.00\n",
      "  H[2,3,0]      8.27      2.10      7.73      5.72     12.06   1191.58      1.01\n",
      "  H[2,4,0]      2.23      0.15      2.23      1.95      2.52  22835.68      1.00\n",
      "  H[2,5,0]     15.31      0.19     15.31     14.93     15.69  23668.50      1.00\n",
      "  H[2,6,0]      6.95      0.34      6.93      6.34      7.62   1823.63      1.00\n",
      "  H[2,7,0]      0.68      1.37      0.32      0.20      3.17     17.45      1.21\n",
      "  H[3,0,0]      1.79      0.15      1.78      1.53      2.08    794.52      1.01\n",
      "  H[3,1,0]      3.39      3.76      1.91      0.47     10.87     15.59      1.14\n",
      "  H[3,2,0]      2.40      0.26      2.35      1.98      2.92    306.07      1.01\n",
      "  H[3,3,0]      4.69      0.10      4.69      4.51      4.88  24120.52      1.00\n",
      "  H[3,4,0]      1.82      0.10      1.82      1.64      2.03   1839.75      1.01\n",
      "  H[3,5,0]     15.67      0.19     15.67     15.30     16.07  15109.78      1.00\n",
      "  H[3,6,0]     12.05      3.57     10.97      7.55     19.41   3336.41      1.00\n",
      "  H[3,7,0]      0.77      0.66      0.63      0.40      1.41     94.11      1.05\n",
      "  L[0,0,0]      0.02      0.00      0.02      0.02      0.02  30839.21      1.00\n",
      "  L[0,1,0]      0.02      0.01      0.02      0.02      0.04   2737.18      1.00\n",
      "  L[0,2,0]      0.02      0.00      0.02      0.01      0.02   6150.11      1.00\n",
      "  L[0,3,0]      0.03      0.01      0.03      0.01      0.04    558.10      1.01\n",
      "  L[0,4,0]      0.03      0.01      0.03      0.02      0.04  23419.37      1.00\n",
      "  L[0,5,0]      0.03      0.00      0.03      0.02      0.04  25288.93      1.00\n",
      "  L[0,6,0]      0.02      0.01      0.02      0.01      0.04    288.86      1.03\n",
      "  L[0,7,0]      0.03      0.01      0.03      0.02      0.04   4963.99      1.00\n",
      "  L[1,0,0]      0.02      0.00      0.02      0.01      0.02     40.74      1.07\n",
      "  L[1,1,0]      0.02      0.00      0.02      0.01      0.02  30652.65      1.00\n",
      "  L[1,2,0]      0.02      0.00      0.02      0.01      0.02  15966.49      1.00\n",
      "  L[1,3,0]      0.02      0.00      0.02      0.01      0.02   2218.12      1.00\n",
      "  L[1,4,0]      0.02      0.00      0.02      0.01      0.02   9577.91      1.00\n",
      "  L[1,5,0]      0.03      0.01      0.02      0.02      0.06   1985.98      1.01\n",
      "  L[1,6,0]      0.02      0.00      0.02      0.01      0.02  12476.30      1.00\n",
      "  L[1,7,0]      0.02      0.01      0.02      0.01      0.03   4783.78      1.00\n",
      "  L[2,0,0]      0.02      0.00      0.02      0.01      0.02  33218.00      1.00\n",
      "  L[2,1,0]      0.02      0.00      0.02      0.02      0.02  16734.45      1.00\n",
      "  L[2,2,0]      0.02      0.00      0.02      0.02      0.02  18571.10      1.00\n",
      "  L[2,3,0]      0.05      0.00      0.05      0.04      0.05   8512.19      1.00\n",
      "  L[2,4,0]      0.02      0.00      0.02      0.01      0.03  20178.06      1.00\n",
      "  L[2,5,0]      0.05      0.01      0.05      0.04      0.07  19695.50      1.00\n",
      "  L[2,6,0]      0.07      0.01      0.07      0.05      0.09   4066.82      1.00\n",
      "  L[2,7,0]      0.04      0.01      0.04      0.02      0.05    159.42      1.03\n",
      "  L[3,0,0]      0.02      0.00      0.02      0.02      0.02  31331.79      1.00\n",
      "  L[3,1,0]      0.02      0.00      0.02      0.02      0.02  24290.72      1.00\n",
      "  L[3,2,0]      0.03      0.00      0.03      0.02      0.04   1980.49      1.00\n",
      "  L[3,3,0]      0.05      0.00      0.05      0.04      0.06   9013.20      1.00\n",
      "  L[3,4,0]      0.02      0.00      0.02      0.02      0.02  28345.24      1.00\n",
      "  L[3,5,0]      0.06      0.01      0.05      0.04      0.07  22050.51      1.00\n",
      "  L[3,6,0]      0.03      0.01      0.03      0.02      0.05   2034.37      1.00\n",
      "  L[3,7,0]      0.03      0.01      0.03      0.02      0.04  15187.86      1.00\n",
      "  a[0,0,0]    124.70      1.53    124.94    121.70    127.21   6950.91      1.00\n",
      "  a[0,1,0]     47.69      2.37     47.69     43.01     53.18    167.12      1.01\n",
      "  a[0,2,0]     46.43      1.61     46.22     44.30     49.57   5866.72      1.00\n",
      "  a[0,3,0]     45.03     16.94     46.65     15.26     71.85     97.22      1.04\n",
      "  a[0,4,0]     28.15      1.24     28.18     25.75     30.69     44.69      1.04\n",
      "  a[0,5,0]    176.61      6.64    176.75    163.01    189.24  22828.22      1.00\n",
      "  a[0,6,0]     21.83      8.83     22.90      3.95     36.51     31.34      1.13\n",
      "  a[0,7,0]     73.83     14.72     76.58     35.54     95.89   1529.83      1.00\n",
      "  a[1,0,0]    129.19     11.58    130.91    128.22    132.76     33.99      1.08\n",
      "  a[1,1,0]    118.40      2.78    118.48    112.97    123.91   6925.87      1.00\n",
      "  a[1,2,0]    123.05      1.91    123.53    119.32    125.55   1095.34      1.01\n",
      "  a[1,3,0]     11.21      4.40     11.91      0.44     17.57   2128.12      1.00\n",
      "  a[1,4,0]     23.87      0.41     23.81     23.17     24.94   2262.01      1.01\n",
      "  a[1,5,0]     93.43     13.03     90.27     75.87    127.27   1658.16      1.01\n",
      "  a[1,6,0]     40.21      3.55     40.50     33.52     46.91    124.59      1.03\n",
      "  a[1,7,0]     20.12      5.52     21.10      7.75     29.12     15.09      1.22\n",
      "  a[2,0,0]    203.14      2.01    203.41    199.32    206.30   2701.85      1.01\n",
      "  a[2,1,0]    252.12      5.21    253.34    238.84    258.85   2380.39      1.00\n",
      "  a[2,2,0]    168.97      1.96    169.43    164.85    171.85    604.46      1.00\n",
      "  a[2,3,0]    226.80      4.02    227.54    219.43    235.17   2316.55      1.00\n",
      "  a[2,4,0]     36.21      1.23     36.31     34.32     38.44     52.91      1.04\n",
      "  a[2,5,0]    134.78      2.32    134.31    131.16    140.11   3814.24      1.00\n",
      "  a[2,6,0]    192.20      3.35    192.27    185.32    198.33   1581.18      1.01\n",
      "  a[2,7,0]     36.95     10.42     39.55      8.25     51.22     27.40      1.13\n",
      "  a[3,0,0]    197.82      0.98    198.02    195.95    199.31   2635.93      1.00\n",
      "  a[3,1,0]    295.70      3.35    296.18    290.09    300.73     30.88      1.05\n",
      "  a[3,2,0]    230.96      5.15    231.63    220.73    240.27   2899.06      1.01\n",
      "  a[3,3,0]    169.60      2.27    170.11    165.52    173.24   3116.51      1.00\n",
      "  a[3,4,0]     46.73      0.89     47.00     44.74     47.83   3225.27      1.00\n",
      "  a[3,5,0]    152.98      2.66    153.16    148.56    157.55   2873.18      1.00\n",
      "  a[3,6,0]    169.09      8.57    170.87    153.01    182.84   1300.70      1.00\n",
      "  a[3,7,0]     40.29      4.55     40.93     31.38     47.99    704.09      1.01\n",
      "  b[0,0,0]      0.02      0.00      0.02      0.01      0.03    155.30      1.02\n",
      "  b[0,1,0]      0.08      0.05      0.06      0.02      0.19     23.43      1.08\n",
      "  b[0,2,0]      0.04      0.01      0.04      0.03      0.06    857.51      1.01\n",
      "  b[0,3,0]      0.01      0.01      0.01      0.00      0.03    202.82      1.00\n",
      "  b[0,4,0]      0.07      0.03      0.06      0.04      0.12     14.71      1.15\n",
      "  b[0,5,0]      0.02      0.01      0.01      0.00      0.04    362.43      1.00\n",
      "  b[0,6,0]      0.01      0.01      0.01      0.00      0.03     52.11      1.02\n",
      "  b[0,7,0]      0.01      0.01      0.01      0.00      0.02    213.47      1.02\n",
      "  b[1,0,0]      0.04      0.02      0.04      0.01      0.09    707.92      1.01\n",
      "  b[1,1,0]      0.05      0.04      0.04      0.01      0.14     64.06      1.04\n",
      "  b[1,2,0]      0.02      0.01      0.02      0.01      0.04    175.31      1.02\n",
      "  b[1,3,0]      0.02      0.01      0.01      0.00      0.04    809.18      1.00\n",
      "  b[1,4,0]      0.10      0.03      0.09      0.06      0.16     28.04      1.11\n",
      "  b[1,5,0]      0.04      0.02      0.03      0.00      0.08    247.37      1.04\n",
      "  b[1,6,0]      0.01      0.01      0.01      0.00      0.05     48.78      1.10\n",
      "  b[1,7,0]      0.02      0.01      0.02      0.00      0.03     10.47      1.20\n",
      "  b[2,0,0]      0.02      0.01      0.02      0.01      0.04    311.12      1.01\n",
      "  b[2,1,0]      0.04      0.04      0.03      0.00      0.11     16.10      1.14\n",
      "  b[2,2,0]      0.02      0.00      0.02      0.01      0.03    673.96      1.01\n",
      "  b[2,3,0]      0.17      0.08      0.15      0.04      0.33     70.46      1.09\n",
      "  b[2,4,0]      0.08      0.03      0.07      0.04      0.15      8.10      1.19\n",
      "  b[2,5,0]      0.04      0.01      0.04      0.03      0.06   6539.55      1.00\n",
      "  b[2,6,0]      0.15      0.07      0.13      0.05      0.27    348.83      1.02\n",
      "  b[2,7,0]      0.02      0.01      0.02      0.00      0.03     26.16      1.10\n",
      "  b[3,0,0]      0.03      0.01      0.03      0.02      0.06    358.52      1.03\n",
      "  b[3,1,0]      0.07      0.05      0.06      0.01      0.16     27.78      1.07\n",
      "  b[3,2,0]      0.03      0.02      0.02      0.01      0.06    132.11      1.03\n",
      "  b[3,3,0]      0.19      0.07      0.18      0.08      0.34   1633.41      1.01\n",
      "  b[3,4,0]      0.08      0.02      0.07      0.04      0.12     45.73      1.07\n",
      "  b[3,5,0]      0.07      0.02      0.07      0.05      0.10   2910.08      1.00\n",
      "  b[3,6,0]      0.13      0.07      0.12      0.03      0.26    380.65      1.00\n",
      "  b[3,7,0]      0.01      0.01      0.01      0.00      0.03     91.71      1.03\n",
      "g_1[0,0,0]      7.34      3.18      7.11      1.38     13.65   7143.73      1.00\n",
      "g_1[0,1,0]      3.35      1.24      3.30      0.97      5.82   6017.12      1.00\n",
      "g_1[0,2,0]      1.41      1.13      1.15      0.00      3.62   3114.18      1.00\n",
      "g_1[0,3,0]     81.38     25.49     80.81     31.19    131.89  10648.24      1.00\n",
      "g_1[0,4,0]     10.45      2.61     10.28      5.48     15.60  23599.57      1.00\n",
      "g_1[0,5,0]     81.76     20.22     80.74     42.65    121.74   5414.15      1.00\n",
      "g_1[0,6,0]     59.24     16.03     58.43     28.97     91.85   2778.49      1.01\n",
      "g_1[0,7,0]     50.16     16.45     50.01     18.51     83.39   7690.52      1.00\n",
      "g_1[1,0,0]      1.50      1.28      1.18      0.00      4.06  12097.84      1.00\n",
      "g_1[1,1,0]      0.45      0.41      0.34      0.00      1.27  13476.91      1.00\n",
      "g_1[1,2,0]      5.33      2.97      5.08      0.00     10.67   6790.91      1.00\n",
      "g_1[1,3,0]     32.28     27.08     25.66      0.00     86.12   1272.68      1.01\n",
      "g_1[1,4,0]      2.23      1.67      1.91      0.00      5.40   7683.82      1.00\n",
      "g_1[1,5,0]      6.57      3.42      6.02      0.71     13.56   3246.36      1.00\n",
      "g_1[1,6,0]     23.58     17.62     20.36      0.01     57.24   1027.32      1.01\n",
      "g_1[1,7,0]     65.61     23.95     64.90     17.77    111.25   1710.46      1.01\n",
      "g_1[2,0,0]     11.11      5.33     10.62      1.04     21.28  10404.36      1.00\n",
      "g_1[2,1,0]      2.44      2.25      1.78      0.00      6.97   1736.57      1.00\n",
      "g_1[2,2,0]     11.36      5.27     10.97      1.25     21.37  11638.33      1.00\n",
      "g_1[2,3,0]      4.45      2.56      4.00      0.40      9.63   4184.52      1.00\n",
      "g_1[2,4,0]      1.86      1.13      1.75      0.00      3.88  11379.46      1.00\n",
      "g_1[2,5,0]     26.33      6.06     25.91     14.66     38.03  13418.02      1.00\n",
      "g_1[2,6,0]     15.37      3.95     15.18      8.00     23.31   8985.95      1.00\n",
      "g_1[2,7,0]     49.91     11.96     49.16     27.65     73.58    258.06      1.01\n",
      "g_1[3,0,0]     26.32     12.03     25.40      3.38     49.25    938.61      1.00\n",
      "g_1[3,1,0]      4.25      3.95      3.07      0.00     12.14    235.27      1.01\n",
      "g_1[3,2,0]     12.60      4.42     12.13      4.62     21.41  13052.91      1.00\n",
      "g_1[3,3,0]     33.54     10.49     32.58     14.32     54.67   1085.99      1.00\n",
      "g_1[3,4,0]      2.75      1.99      2.36      0.00      6.56   8371.31      1.00\n",
      "g_1[3,5,0]     25.73      6.21     25.33     13.84     37.88  22733.84      1.00\n",
      "g_1[3,6,0]      4.73      2.94      4.13      0.39     10.55   2208.55      1.00\n",
      "g_1[3,7,0]     61.38     15.13     60.56     31.77     90.25   7102.57      1.00\n",
      "g_2[0,0,0]      8.72      3.07      8.37      3.26     14.93  14233.34      1.00\n",
      "g_2[0,1,0]      4.65      2.24      4.31      0.89      9.16   4899.08      1.00\n",
      "g_2[0,2,0]     16.78      5.75     16.79      5.42     27.89   2809.96      1.00\n",
      "g_2[0,3,0]      2.97      2.34      2.44      0.00      7.50   2978.33      1.01\n",
      "g_2[0,4,0]      2.96      1.59      2.70      0.39      6.13  19696.38      1.00\n",
      "g_2[0,5,0]      0.61      0.54      0.47      0.00      1.71   7335.37      1.00\n",
      "g_2[0,6,0]      1.57      1.59      1.07      0.00      4.72    211.37      1.02\n",
      "g_2[0,7,0]      0.78      0.64      0.62      0.00      2.06   8065.09      1.00\n",
      "g_2[1,0,0]     14.65      4.23     14.64      7.36     23.30    195.45      1.02\n",
      "g_2[1,1,0]      4.17      0.97      4.10      2.35      6.12  13973.33      1.00\n",
      "g_2[1,2,0]     12.51      4.10     12.17      4.73     20.37  10397.35      1.00\n",
      "g_2[1,3,0]     29.24      8.81     29.16     11.26     46.06   2987.07      1.00\n",
      "g_2[1,4,0]     14.25      5.41     14.26      3.61     24.32   6225.61      1.00\n",
      "g_2[1,5,0]      3.32      1.61      3.25      0.14      6.22   4020.41      1.00\n",
      "g_2[1,6,0]     13.30      5.28     13.10      3.39     23.56    318.13      1.02\n",
      "g_2[1,7,0]      5.00      3.49      4.38      0.01     11.68    437.98      1.01\n",
      "g_2[2,0,0]      6.10      1.69      5.95      2.93      9.41  14030.44      1.00\n",
      "g_2[2,1,0]      5.62      1.17      5.54      3.40      7.94  26458.49      1.00\n",
      "g_2[2,2,0]     11.91      3.85     11.53      4.91     19.59  12012.71      1.00\n",
      "g_2[2,3,0]      4.06      1.06      3.98      2.06      6.15  10656.56      1.00\n",
      "g_2[2,4,0]      5.01      1.87      4.88      1.58      8.62   2148.93      1.01\n",
      "g_2[2,5,0]      0.56      0.45      0.46      0.00      1.45  19447.59      1.00\n",
      "g_2[2,6,0]      0.21      0.19      0.16      0.00      0.58   5666.01      1.00\n",
      "g_2[2,7,0]      0.33      0.32      0.23      0.00      0.96   2822.11      1.00\n",
      "g_2[3,0,0]     17.51      4.84     17.09      8.71     27.16   6281.05      1.00\n",
      "g_2[3,1,0]      6.87      1.43      6.77      4.18      9.69  25366.33      1.00\n",
      "g_2[3,2,0]      2.40      0.75      2.34      1.05      3.92  17045.34      1.00\n",
      "g_2[3,3,0]      2.96      1.39      2.85      0.43      5.66   1572.41      1.00\n",
      "g_2[3,4,0]     10.31      3.24     10.17      4.07     16.51   9304.63      1.00\n",
      "g_2[3,5,0]      0.62      0.48      0.52      0.00      1.54  16314.08      1.00\n",
      "g_2[3,6,0]      1.84      0.70      1.75      0.63      3.27   2385.81      1.00\n",
      "g_2[3,7,0]      1.03      0.85      0.82      0.00      2.69  14203.09      1.00\n",
      "  v[0,0,0]      0.37      0.39      0.25      0.00      1.14    134.45      1.03\n",
      "  v[0,1,0]      3.07      2.82      2.30      0.00      8.63     20.26      1.09\n",
      "  v[0,2,0]      0.55      0.51      0.41      0.00      1.55    691.40      1.01\n",
      "  v[0,3,0]     10.08     10.21      7.22      0.00     29.56    160.75      1.01\n",
      "  v[0,4,0]      1.10      1.03      0.84      0.00      3.05     12.26      1.17\n",
      "  v[0,5,0]      9.24      7.46      7.23      0.00     23.80    352.24      1.00\n",
      "  v[0,6,0]      3.93      6.11      1.81      0.00     17.42     32.99      1.08\n",
      "  v[0,7,0]      3.48      4.70      1.74      0.00     12.53    455.91      1.01\n",
      "  v[1,0,0]      2.14      1.70      1.85      0.00      5.23    515.91      1.01\n",
      "  v[1,1,0]      2.20      2.78      1.24      0.00      7.96     60.99      1.05\n",
      "  v[1,2,0]      0.82      0.83      0.58      0.00      2.37    164.47      1.03\n",
      "  v[1,3,0]     13.48     10.13     11.13      0.00     33.39    796.01      1.00\n",
      "  v[1,4,0]      0.70      0.65      0.53      0.00      2.17     20.61      1.13\n",
      "  v[1,5,0]      7.94      5.11      6.67      1.03     18.17    264.01      1.04\n",
      "  v[1,6,0]      6.98      8.54      3.40      0.00     24.62     43.43      1.11\n",
      "  v[1,7,0]      1.27      1.61      0.70      0.00      4.45    295.28      1.01\n",
      "  v[2,0,0]      0.80      0.92      0.52      0.00      2.54    216.92      1.02\n",
      "  v[2,1,0]      5.85      5.52      4.48      0.00     16.79     14.03      1.14\n",
      "  v[2,2,0]      0.46      0.57      0.28      0.00      1.49    421.10      1.01\n",
      "  v[2,3,0]      7.94      4.04      7.12      1.82     15.90     75.86      1.08\n",
      "  v[2,4,0]      0.96      1.07      0.55      0.00      3.04      4.99      1.35\n",
      "  v[2,5,0]      0.68      0.26      0.69      0.14      1.15   4441.73      1.00\n",
      "  v[2,6,0]      4.12      2.15      3.70      0.76      8.41    332.52      1.02\n",
      "  v[2,7,0]      2.01      2.87      1.02      0.00      7.29    255.64      1.02\n",
      "  v[3,0,0]      1.15      1.13      0.84      0.00      3.29    338.27      1.03\n",
      "  v[3,1,0]      4.10      4.07      2.84      0.00     12.12      8.36      1.20\n",
      "  v[3,2,0]      1.48      1.73      0.88      0.00      4.85    111.15      1.04\n",
      "  v[3,3,0]      5.40      2.39      4.94      1.68     10.21   1672.25      1.01\n",
      "  v[3,4,0]      0.53      0.58      0.33      0.00      1.73     33.46      1.11\n",
      "  v[3,5,0]      1.15      0.50      1.10      0.27      2.09   2570.16      1.00\n",
      "  v[3,6,0]      6.63      3.28      5.92      1.71     13.18    330.28      1.01\n",
      "  v[3,7,0]      1.64      2.23      0.87      0.00      5.73   1135.00      1.01\n",
      "  µ_a[0,0]    160.30     22.87    160.95    113.87    206.04   4869.27      1.00\n",
      "  µ_a[1,0]    159.55     36.06    160.58     85.90    228.73   2976.43      1.00\n",
      "  µ_a[2,0]    139.11     31.53    140.31     73.86    199.75   1004.44      1.01\n",
      "  µ_a[3,0]    122.02     34.02    122.44     52.99    189.08   1121.68      1.01\n",
      "  µ_a[4,0]     37.36     13.64     35.70      9.82     65.89   2417.55      1.00\n",
      "  µ_a[5,0]    139.25     21.77    140.26     96.21    184.44   1211.80      1.01\n",
      "  µ_a[6,0]    114.32     33.98    114.79     44.58    181.83   2102.33      1.00\n",
      "  µ_a[7,0]     52.08     23.29     48.93      6.46    100.39   2174.90      1.00\n",
      "  σ_H[0,0]      3.44      1.43      3.13      1.35      6.25   3747.25      1.00\n",
      "  σ_H[1,0]      4.51      2.35      3.90      1.31      9.26     22.49      1.12\n",
      "  σ_H[2,0]      3.92      1.46      3.63      1.66      6.78   1924.17      1.00\n",
      "  σ_H[3,0]      6.43      2.30      6.04      2.76     11.01    455.90      1.01\n",
      "  σ_H[4,0]      3.64      1.41      3.34      1.52      6.46    363.88      1.02\n",
      "  σ_H[5,0]     10.45      2.40     10.17      6.03     15.08   1671.98      1.00\n",
      "  σ_H[6,0]      7.36      2.32      7.00      3.52     11.98    878.37      1.01\n",
      "  σ_H[7,0]      1.24      1.43      0.76      0.20      4.05     15.01      1.27\n",
      "  σ_L[0,0]      0.02      0.01      0.02      0.01      0.05  13422.49      1.00\n",
      "  σ_L[1,0]      0.03      0.01      0.03      0.01      0.06    929.46      1.00\n",
      "  σ_L[2,0]      0.03      0.01      0.02      0.01      0.05   1964.76      1.00\n",
      "  σ_L[3,0]      0.04      0.02      0.04      0.02      0.08    800.70      1.01\n",
      "  σ_L[4,0]      0.03      0.01      0.03      0.01      0.06  12236.55      1.00\n",
      "  σ_L[5,0]      0.05      0.02      0.05      0.02      0.09  25638.40      1.00\n",
      "  σ_L[6,0]      0.05      0.02      0.04      0.02      0.08   2338.90      1.00\n",
      "  σ_L[7,0]      0.04      0.02      0.04      0.02      0.07  19782.32      1.00\n",
      "  σ_a[0,0]     49.94     19.41     45.84     20.91     89.72   1268.56      1.00\n",
      "  σ_a[1,0]     93.91     23.36     90.92     52.06    139.65  18737.48      1.00\n",
      "  σ_a[2,0]     73.85     22.06     70.28     38.20    119.73   2423.87      1.00\n",
      "  σ_a[3,0]     88.31     22.60     85.45     47.75    132.37   6188.14      1.00\n",
      "  σ_a[4,0]     21.03     15.51     15.82      4.79     52.40    443.82      1.01\n",
      "  σ_a[5,0]     42.63     18.79     38.22     13.76     81.37    258.32      1.01\n",
      "  σ_a[6,0]     81.37     22.36     78.34     42.85    126.13  14903.28      1.00\n",
      "  σ_a[7,0]     39.81     21.57     35.10      5.54     82.83   2443.10      1.01\n",
      "  σ_b[0,0]      0.04      0.02      0.04      0.01      0.09    530.82      1.01\n",
      "  σ_b[1,0]      0.08      0.05      0.07      0.02      0.17     15.87      1.12\n",
      "  σ_b[2,0]      0.04      0.02      0.03      0.01      0.09    704.44      1.01\n",
      "  σ_b[3,0]      0.13      0.05      0.12      0.05      0.23    361.70      1.03\n",
      "  σ_b[4,0]      0.10      0.04      0.09      0.04      0.17     83.35      1.04\n",
      "  σ_b[5,0]      0.06      0.03      0.06      0.02      0.12    681.73      1.00\n",
      "  σ_b[6,0]      0.11      0.04      0.10      0.03      0.19    257.22      1.01\n",
      "  σ_b[7,0]      0.02      0.02      0.02      0.00      0.05     66.95      1.04\n",
      "  σ_v[0,0]      2.09      1.84      1.64      0.00      5.59    462.62      1.02\n",
      "  σ_v[1,0]      5.59      4.32      4.59      0.00     14.10     12.27      1.13\n",
      "  σ_v[2,0]      1.54      1.61      1.01      0.00      4.56     83.41      1.04\n",
      "  σ_v[3,0]     11.09      5.44     10.25      2.32     21.75    325.02      1.00\n",
      "  σ_v[4,0]      1.46      1.49      1.03      0.00      4.29     14.88      1.13\n",
      "  σ_v[5,0]      7.76      4.58      6.84      0.91     16.72    328.26      1.01\n",
      "  σ_v[6,0]      7.44      4.50      6.29      1.26     16.88     75.65      1.04\n",
      "  σ_v[7,0]      3.38      3.47      2.19      0.00     10.43    352.19      1.02\n",
      "\n",
      "Number of divergences: 201\n"
     ]
    }
   ],
   "source": [
    "mcmc.print_summary(prob=.95)\n"
   ]
  },
  {
   "cell_type": "code",
   "execution_count": 8,
   "metadata": {},
   "outputs": [
    {
     "name": "stderr",
     "output_type": "stream",
     "text": [
      "2023-08-09 13:55:54,150 - hbmep.model.baseline - INFO - Generating predictions ...\n",
      "2023-08-09 13:56:22,340 - hbmep.utils.utils - INFO - func:predict took: 28.19 sec\n",
      "2023-08-09 13:56:22,446 - hbmep.model.baseline - INFO - Rendering recruitment curves ...\n",
      "2023-08-09 13:56:32,556 - hbmep.model.baseline - INFO - Saved to /home/vishu/repos/hbmep-paper/reports/J_RCML_000/triceps/recruitment_curves.pdf\n",
      "2023-08-09 13:56:32,556 - hbmep.utils.utils - INFO - func:render_recruitment_curves took: 38.41 sec\n"
     ]
    }
   ],
   "source": [
    "model.render_recruitment_curves(df=df, encoder_dict=encoder_dict, posterior_samples=posterior_samples)\n",
    "\n"
   ]
  },
  {
   "cell_type": "code",
   "execution_count": 9,
   "metadata": {},
   "outputs": [
    {
     "name": "stderr",
     "output_type": "stream",
     "text": [
      "2023-08-09 13:56:32,640 - hbmep.model.baseline - INFO - Generating predictions ...\n",
      "2023-08-09 13:57:00,658 - hbmep.utils.utils - INFO - func:predict took: 28.01 sec\n",
      "2023-08-09 13:57:00,845 - hbmep.model.baseline - INFO - Rendering Posterior Predictive Check ...\n",
      "2023-08-09 13:57:19,476 - hbmep.model.baseline - INFO - Saved to /home/vishu/repos/hbmep-paper/reports/J_RCML_000/triceps/posterior_predictive_check.pdf\n",
      "2023-08-09 13:57:19,479 - hbmep.utils.utils - INFO - func:render_predictive_check took: 46.84 sec\n"
     ]
    }
   ],
   "source": [
    "model.render_predictive_check(df=df, encoder_dict=encoder_dict, posterior_samples=posterior_samples)\n"
   ]
  },
  {
   "cell_type": "code",
   "execution_count": 10,
   "metadata": {},
   "outputs": [
    {
     "name": "stderr",
     "output_type": "stream",
     "text": [
      "2023-08-09 13:57:19,611 - hbmep.model.baseline - INFO - Saving inference data ...\n",
      "2023-08-09 13:57:39,212 - hbmep.model.baseline - INFO - Saved to /home/vishu/repos/hbmep-paper/reports/J_RCML_000/triceps/mcmc.nc\n",
      "2023-08-09 13:57:39,213 - hbmep.model.baseline - INFO - Rendering convergence diagnostics ...\n",
      "2023-08-09 13:58:28,333 - hbmep.model.baseline - INFO - Saved to /home/vishu/repos/hbmep-paper/reports/J_RCML_000/triceps/diagnostics.csv\n",
      "2023-08-09 13:58:28,334 - hbmep.model.baseline - INFO - Evaluating model ...\n",
      "/home/vishu/repos/hbmep-paper/.venv/lib/python3.11/site-packages/arviz/stats/stats.py:1037: RuntimeWarning: overflow encountered in exp\n",
      "  weights = 1 / np.exp(len_scale - len_scale[:, None]).sum(axis=1)\n",
      "/home/vishu/repos/hbmep-paper/.venv/lib/python3.11/site-packages/arviz/stats/stats.py:803: UserWarning: Estimated shape parameter of Pareto distribution is greater than 0.7 for one or more samples. You should consider using a more robust model, this is because importance sampling is less likely to work well if the marginal posterior and LOO posterior are very different. This is more likely to happen with a non-robust model and highly influential observations.\n",
      "  warnings.warn(\n",
      "2023-08-09 13:58:37,469 - hbmep.model.baseline - INFO - ELPD LOO (Log): 1543.58\n",
      "/home/vishu/repos/hbmep-paper/.venv/lib/python3.11/site-packages/arviz/stats/stats.py:1645: UserWarning: For one or more samples the posterior variance of the log predictive densities exceeds 0.4. This could be indication of WAIC starting to fail. \n",
      "See http://arxiv.org/abs/1507.04544 for details\n",
      "  warnings.warn(\n",
      "2023-08-09 13:58:37,973 - hbmep.model.baseline - INFO - ELPD WAIC (Log): 1572.71\n",
      "2023-08-09 13:58:37,989 - hbmep.utils.utils - INFO - func:save took: 1 min and 18.38 sec\n"
     ]
    }
   ],
   "source": [
    "model.save(mcmc=mcmc)"
   ]
  },
  {
   "cell_type": "code",
   "execution_count": null,
   "metadata": {},
   "outputs": [],
   "source": []
  }
 ],
 "metadata": {
  "kernelspec": {
   "display_name": ".venv",
   "language": "python",
   "name": "python3"
  },
  "language_info": {
   "codemirror_mode": {
    "name": "ipython",
    "version": 3
   },
   "file_extension": ".py",
   "mimetype": "text/x-python",
   "name": "python",
   "nbconvert_exporter": "python",
   "pygments_lexer": "ipython3",
   "version": "3.11.4"
  },
  "orig_nbformat": 4,
  "vscode": {
   "interpreter": {
    "hash": "850bfd4e6f5ddd996dd5cd5088beecd08558625e274540230e1444ec52025b11"
   }
  }
 },
 "nbformat": 4,
 "nbformat_minor": 2
}
