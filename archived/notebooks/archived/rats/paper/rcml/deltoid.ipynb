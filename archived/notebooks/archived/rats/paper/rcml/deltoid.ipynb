{
 "cells": [
  {
   "cell_type": "code",
   "execution_count": 1,
   "metadata": {},
   "outputs": [],
   "source": [
    "%reload_ext autoreload\n",
    "%autoreload 2\n",
    "\n",
    "import os\n",
    "from pathlib import Path\n",
    "import multiprocessing\n",
    "\n",
    "import jax\n",
    "import jax.numpy as jnp\n",
    "import pandas as pd\n",
    "import numpy as np\n",
    "import numpyro\n",
    "import numpyro.distributions as dist\n",
    "\n",
    "from hbmep.config import Config\n",
    "from hbmep.model import Baseline\n",
    "from hbmep.model.utils import Site as site\n",
    "from hbmep.utils.constants import RECTIFIED_LOGISTIC\n",
    "\n",
    "PLATFORM = \"cpu\"\n",
    "jax.config.update(\"jax_platforms\", PLATFORM)\n",
    "numpyro.set_platform(PLATFORM)\n",
    "\n",
    "cpu_count = multiprocessing.cpu_count() - 2\n",
    "numpyro.set_host_device_count(cpu_count)\n",
    "numpyro.enable_x64()\n",
    "numpyro.enable_validation()\n"
   ]
  },
  {
   "cell_type": "code",
   "execution_count": 2,
   "metadata": {},
   "outputs": [
    {
     "name": "stderr",
     "output_type": "stream",
     "text": [
      "2023-08-09 13:18:41,047 - hbmep.config - INFO - Verifying configuration ...\n",
      "2023-08-09 13:18:41,048 - hbmep.config - INFO - Success!\n"
     ]
    }
   ],
   "source": [
    "root_path = Path(os.getcwd()).parent.parent.parent.parent.absolute()\n",
    "toml_path = os.path.join(root_path, \"configs/rcml/deltoid.toml\")\n",
    "\n",
    "config = Config(toml_path=toml_path)\n"
   ]
  },
  {
   "attachments": {},
   "cell_type": "markdown",
   "metadata": {},
   "source": [
    "#### Load data and preprocess"
   ]
  },
  {
   "cell_type": "code",
   "execution_count": 3,
   "metadata": {},
   "outputs": [
    {
     "name": "stderr",
     "output_type": "stream",
     "text": [
      "2023-08-09 13:18:41,089 - hbmep.model.baseline - INFO - Initialized model with rectified_logistic link\n"
     ]
    }
   ],
   "source": [
    "class RectifiedLogistic(Baseline):\n",
    "    LINK = RECTIFIED_LOGISTIC\n",
    "\n",
    "    def __init__(self, config: Config):\n",
    "        super(RectifiedLogistic, self).__init__(config=config)\n",
    "\n",
    "    def _model(self, subject, features, intensity, response_obs=None):\n",
    "        intensity = intensity.reshape(-1, 1)\n",
    "        intensity = np.tile(intensity, (1, self.n_response))\n",
    "\n",
    "        feature0 = features[0, ...].reshape(-1,)\n",
    "\n",
    "        n_data = intensity.shape[0]\n",
    "        n_subject = np.unique(subject).shape[0]\n",
    "        n_feature0 = np.unique(feature0).shape[0]\n",
    "\n",
    "        with numpyro.plate(site.n_response, self.n_response, dim=-1):\n",
    "            with numpyro.plate(site.n_subject, n_subject, dim=-2):\n",
    "                \"\"\" Hyper-priors \"\"\"\n",
    "                mu_a = numpyro.sample(\n",
    "                    site.mu_a,\n",
    "                    dist.TruncatedNormal(150, 50, low=0)\n",
    "                )\n",
    "                sigma_a = numpyro.sample(site.sigma_a, dist.HalfNormal(50))\n",
    "\n",
    "                sigma_b = numpyro.sample(site.sigma_b, dist.HalfNormal(0.1))\n",
    "\n",
    "                sigma_L = numpyro.sample(site.sigma_L, dist.HalfNormal(0.05))\n",
    "                sigma_H = numpyro.sample(site.sigma_H, dist.HalfNormal(5))\n",
    "                sigma_v = numpyro.sample(site.sigma_v, dist.HalfNormal(10))\n",
    "\n",
    "                with numpyro.plate(\"n_feature0\", n_feature0, dim=-3):\n",
    "                    \"\"\" Priors \"\"\"\n",
    "                    a = numpyro.sample(\n",
    "                        site.a,\n",
    "                        dist.TruncatedNormal(mu_a, sigma_a, low=0)\n",
    "                    )\n",
    "                    b = numpyro.sample(site.b, dist.HalfNormal(sigma_b))\n",
    "\n",
    "                    L = numpyro.sample(site.L, dist.HalfNormal(sigma_L))\n",
    "                    H = numpyro.sample(site.H, dist.HalfNormal(sigma_H))\n",
    "                    v = numpyro.sample(site.v, dist.HalfNormal(sigma_v))\n",
    "\n",
    "                    g_1 = numpyro.sample(site.g_1, dist.Exponential(0.01))\n",
    "                    g_2 = numpyro.sample(site.g_2, dist.Exponential(0.01))\n",
    "\n",
    "        \"\"\" Model \"\"\"\n",
    "        mu = numpyro.deterministic(\n",
    "            site.mu,\n",
    "            L[feature0, subject]\n",
    "            + jnp.maximum(\n",
    "                0,\n",
    "                -1\n",
    "                + (H[feature0, subject] + 1)\n",
    "                / jnp.power(\n",
    "                    1\n",
    "                    + (jnp.power(1 + H[feature0, subject], v[feature0, subject]) - 1)\n",
    "                    * jnp.exp(-b[feature0, subject] * (intensity - a[feature0, subject])),\n",
    "                    1 / v[feature0, subject]\n",
    "                )\n",
    "            )\n",
    "        )\n",
    "        beta = numpyro.deterministic(\n",
    "            site.beta,\n",
    "            g_1[feature0, subject] + g_2[feature0, subject] * (1 / mu)\n",
    "        )\n",
    "\n",
    "        \"\"\" Observation \"\"\"\n",
    "        with numpyro.plate(site.data, n_data):\n",
    "            return numpyro.sample(\n",
    "                site.obs,\n",
    "                dist.Gamma(concentration=mu * beta, rate=beta).to_event(1),\n",
    "                obs=response_obs\n",
    "            )\n",
    "\n",
    "\n",
    "model = RectifiedLogistic(config=config)\n"
   ]
  },
  {
   "cell_type": "code",
   "execution_count": 4,
   "metadata": {},
   "outputs": [
    {
     "name": "stderr",
     "output_type": "stream",
     "text": [
      "2023-08-09 13:18:41,134 - hbmep.dataset.core - INFO - Artefacts will be stored here - /home/vishu/repos/hbmep-paper/reports/J_RCML_000/deltoid\n",
      "2023-08-09 13:18:41,134 - hbmep.dataset.core - INFO - Copied config to /home/vishu/repos/hbmep-paper/reports/J_RCML_000/deltoid\n",
      "2023-08-09 13:18:41,136 - hbmep.dataset.core - INFO - Processing data ...\n",
      "2023-08-09 13:18:41,137 - hbmep.utils.utils - INFO - func:load took: 0.00 sec\n",
      "2023-08-09 13:18:41,139 - hbmep.dataset.core - INFO - Plotting dataset ...\n"
     ]
    },
    {
     "name": "stderr",
     "output_type": "stream",
     "text": [
      "2023-08-09 13:18:50,785 - hbmep.dataset.core - INFO - Saved to /home/vishu/repos/hbmep-paper/reports/J_RCML_000/deltoid/dataset.pdf\n",
      "2023-08-09 13:18:50,786 - hbmep.utils.utils - INFO - func:plot took: 9.65 sec\n"
     ]
    }
   ],
   "source": [
    "df = pd.read_csv(model.csv_path)\n",
    "\n",
    "ind = df.pulse_amplitude.isin([0])\n",
    "df = df[~ind].reset_index(drop=True).copy()\n",
    "\n",
    "subset = ['-C5L', '-C6L', '-C7L', '-C8L']\n",
    "ind = df.compound_position.isin(subset)\n",
    "df = df[ind].reset_index(drop=True).copy()\n",
    "\n",
    "# df[model.features] = \\\n",
    "#     df.compound_position \\\n",
    "#         .apply(lambda x: x.split(\"-\")) \\\n",
    "#         .apply(lambda x: (x[0][:2] + \"-\" + x[1][:2], x[0][-1])) \\\n",
    "#         .apply(pd.Series)\n",
    "\n",
    "\"\"\" Process \"\"\"\n",
    "df, encoder_dict = model.load(df=df)\n",
    "\n",
    "\"\"\" Plot \"\"\"\n",
    "model.plot(df=df, encoder_dict=encoder_dict)"
   ]
  },
  {
   "cell_type": "code",
   "execution_count": 5,
   "metadata": {},
   "outputs": [
    {
     "data": {
      "text/plain": [
       "(1604, 44)"
      ]
     },
     "execution_count": 5,
     "metadata": {},
     "output_type": "execute_result"
    }
   ],
   "source": [
    "df.shape"
   ]
  },
  {
   "cell_type": "code",
   "execution_count": 6,
   "metadata": {},
   "outputs": [
    {
     "name": "stderr",
     "output_type": "stream",
     "text": [
      "2023-08-09 13:18:50,834 - hbmep.model.baseline - INFO - Running inference with rectified_logistic ...\n"
     ]
    },
    {
     "data": {
      "application/vnd.jupyter.widget-view+json": {
       "model_id": "0a4279d0b9004c0f8a54e8acb3394c27",
       "version_major": 2,
       "version_minor": 0
      },
      "text/plain": [
       "  0%|          | 0/10000 [00:00<?, ?it/s]"
      ]
     },
     "metadata": {},
     "output_type": "display_data"
    },
    {
     "data": {
      "application/vnd.jupyter.widget-view+json": {
       "model_id": "f6654013822745df98b8e5a6d87cd3de",
       "version_major": 2,
       "version_minor": 0
      },
      "text/plain": [
       "  0%|          | 0/10000 [00:00<?, ?it/s]"
      ]
     },
     "metadata": {},
     "output_type": "display_data"
    },
    {
     "data": {
      "application/vnd.jupyter.widget-view+json": {
       "model_id": "5d3c8334d51c484f83c604d4a90c3cba",
       "version_major": 2,
       "version_minor": 0
      },
      "text/plain": [
       "  0%|          | 0/10000 [00:00<?, ?it/s]"
      ]
     },
     "metadata": {},
     "output_type": "display_data"
    },
    {
     "data": {
      "application/vnd.jupyter.widget-view+json": {
       "model_id": "01bb426a61a54598ba7585a8e0fb5d02",
       "version_major": 2,
       "version_minor": 0
      },
      "text/plain": [
       "  0%|          | 0/10000 [00:00<?, ?it/s]"
      ]
     },
     "metadata": {},
     "output_type": "display_data"
    },
    {
     "name": "stderr",
     "output_type": "stream",
     "text": [
      "2023-08-09 13:35:02,811 - hbmep.utils.utils - INFO - func:run_inference took: 16 min and 11.98 sec\n"
     ]
    }
   ],
   "source": [
    "mcmc, posterior_samples = model.run_inference(df=df)\n"
   ]
  },
  {
   "cell_type": "code",
   "execution_count": 7,
   "metadata": {},
   "outputs": [
    {
     "name": "stdout",
     "output_type": "stream",
     "text": [
      "\n",
      "                mean       std    median      2.5%     97.5%     n_eff     r_hat\n",
      "  H[0,0,0]      2.89      3.24      1.65      0.48      9.34  11072.20      1.00\n",
      "  H[0,1,0]      2.93      0.85      2.72      2.16      4.32   3825.81      1.00\n",
      "  H[0,2,0]      1.02      0.03      1.02      0.97      1.07  27156.67      1.00\n",
      "  H[0,3,0]      5.85      3.68      4.75      1.69     13.14  14157.54      1.00\n",
      "  H[0,4,0]      2.06      0.10      2.06      1.87      2.27  22809.24      1.00\n",
      "  H[0,5,0]      8.53      3.65      7.46      4.05     15.90  11422.18      1.00\n",
      "  H[0,6,0]      7.54      4.84      6.16      1.82     17.19  16854.46      1.00\n",
      "  H[0,7,0]      1.21      0.71      1.05      0.68      2.07   4287.70      1.00\n",
      "  H[1,0,0]      3.56      3.47      2.37      0.40     10.60  12276.68      1.00\n",
      "  H[1,1,0]      1.06      1.13      0.80      0.52      2.10   3236.74      1.00\n",
      "  H[1,2,0]      1.09      0.07      1.08      0.95      1.23  11063.89      1.00\n",
      "  H[1,3,0]      5.06      3.77      3.93      0.94     12.50  13888.46      1.00\n",
      "  H[1,4,0]      0.86      0.03      0.86      0.80      0.91  28740.13      1.00\n",
      "  H[1,5,0]      7.90      1.94      7.36      5.53     11.63   7343.69      1.00\n",
      "  H[1,6,0]      6.59      4.97      5.17      0.94     16.56  18820.09      1.00\n",
      "  H[1,7,0]      2.41      2.14      1.74      0.41      6.40  12120.45      1.00\n",
      "  H[2,0,0]      2.19      3.47      0.65      0.07      9.15   6897.47      1.00\n",
      "  H[2,1,0]      3.16      2.90      2.26      0.34      8.89  15461.64      1.00\n",
      "  H[2,2,0]      1.26      1.06      0.99      0.77      2.56   3059.24      1.00\n",
      "  H[2,3,0]      3.32      3.18      2.05      0.99      9.80   7258.24      1.00\n",
      "  H[2,4,0]      0.77      0.03      0.77      0.71      0.83  16054.87      1.00\n",
      "  H[2,5,0]      3.34      0.05      3.34      3.23      3.43  21311.29      1.00\n",
      "  H[2,6,0]      6.39      5.04      4.95      0.66     16.42  18874.96      1.00\n",
      "  H[2,7,0]      1.44      2.00      0.67      0.11      5.30  10312.40      1.00\n",
      "  H[3,0,0]      3.03      3.55      1.78      0.07      9.99  13660.03      1.00\n",
      "  H[3,1,0]      3.12      2.94      2.22      0.26      8.78  16331.00      1.00\n",
      "  H[3,2,0]      2.25      1.79      1.68      0.61      5.70  10586.50      1.00\n",
      "  H[3,3,0]      1.08      0.03      1.08      1.02      1.14  18519.88      1.00\n",
      "  H[3,4,0]      0.98      0.03      0.98      0.93      1.04  21417.27      1.00\n",
      "  H[3,5,0]      1.70      0.23      1.66      1.33      2.16  11739.05      1.00\n",
      "  H[3,6,0]      6.49      5.06      5.05      0.74     16.43  18706.73      1.00\n",
      "  H[3,7,0]      0.18      0.02      0.18      0.15      0.22  10709.49      1.00\n",
      "  L[0,0,0]      0.02      0.00      0.02      0.02      0.03  23763.43      1.00\n",
      "  L[0,1,0]      0.02      0.00      0.02      0.01      0.03  10593.69      1.00\n",
      "  L[0,2,0]      0.02      0.00      0.02      0.02      0.02  14955.81      1.00\n",
      "  L[0,3,0]      0.10      0.02      0.10      0.07      0.14   7132.70      1.00\n",
      "  L[0,4,0]      0.03      0.01      0.03      0.01      0.04  13043.16      1.00\n",
      "  L[0,5,0]      0.05      0.01      0.05      0.04      0.07  18184.13      1.00\n",
      "  L[0,6,0]      0.02      0.01      0.02      0.01      0.04  14373.93      1.00\n",
      "  L[0,7,0]      0.03      0.00      0.02      0.02      0.03  24721.85      1.00\n",
      "  L[1,0,0]      0.02      0.00      0.02      0.02      0.02  23744.06      1.00\n",
      "  L[1,1,0]      0.02      0.00      0.02      0.01      0.02  24285.39      1.00\n",
      "  L[1,2,0]      0.02      0.00      0.02      0.01      0.02   9084.39      1.00\n",
      "  L[1,3,0]      0.06      0.01      0.05      0.04      0.08  19990.23      1.00\n",
      "  L[1,4,0]      0.03      0.00      0.03      0.02      0.04  14739.67      1.00\n",
      "  L[1,5,0]      0.06      0.01      0.06      0.04      0.08  14899.15      1.00\n",
      "  L[1,6,0]      0.02      0.00      0.02      0.01      0.03  11907.47      1.00\n",
      "  L[1,7,0]      0.02      0.00      0.02      0.01      0.03  22220.59      1.00\n",
      "  L[2,0,0]      0.02      0.00      0.02      0.02      0.03  12110.89      1.00\n",
      "  L[2,1,0]      0.02      0.00      0.02      0.01      0.02  22774.09      1.00\n",
      "  L[2,2,0]      0.02      0.00      0.02      0.02      0.02  26604.18      1.00\n",
      "  L[2,3,0]      0.07      0.01      0.07      0.06      0.08  27093.36      1.00\n",
      "  L[2,4,0]      0.02      0.00      0.02      0.01      0.03  17515.81      1.00\n",
      "  L[2,5,0]      0.03      0.00      0.03      0.02      0.04  24956.23      1.00\n",
      "  L[2,6,0]      0.02      0.00      0.02      0.01      0.03   2049.53      1.00\n",
      "  L[2,7,0]      0.02      0.01      0.02      0.01      0.04   7540.49      1.00\n",
      "  L[3,0,0]      0.02      0.00      0.02      0.02      0.02  25391.97      1.00\n",
      "  L[3,1,0]      0.02      0.00      0.02      0.02      0.02  28178.29      1.00\n",
      "  L[3,2,0]      0.02      0.00      0.02      0.02      0.03  25712.72      1.00\n",
      "  L[3,3,0]      0.06      0.00      0.06      0.06      0.07  27264.37      1.00\n",
      "  L[3,4,0]      0.03      0.00      0.03      0.02      0.04  27330.78      1.00\n",
      "  L[3,5,0]      0.04      0.01      0.04      0.03      0.05  21486.78      1.00\n",
      "  L[3,6,0]      0.02      0.00      0.02      0.02      0.02  24585.84      1.00\n",
      "  L[3,7,0]      0.02      0.00      0.02      0.02      0.03  25236.88      1.00\n",
      "  a[0,0,0]    132.56      7.97    132.55    117.54    147.63  14520.43      1.00\n",
      "  a[0,1,0]     52.97      3.95     52.89     45.44     60.53   8222.67      1.00\n",
      "  a[0,2,0]     53.16      0.69     53.20     51.61     54.39   7815.47      1.00\n",
      "  a[0,3,0]    103.53     16.88    101.15     75.47    130.87   5571.97      1.00\n",
      "  a[0,4,0]     24.72      1.28     24.70     22.27     27.33  19077.21      1.00\n",
      "  a[0,5,0]    196.84      8.34    196.01    182.74    213.73  13629.56      1.00\n",
      "  a[0,6,0]     31.80      5.01     32.45     20.21     40.05   4803.65      1.00\n",
      "  a[0,7,0]     72.85      2.84     73.10     67.04     78.22  15504.45      1.00\n",
      "  a[1,0,0]    136.04      5.72    136.86    123.28    145.54  16037.94      1.00\n",
      "  a[1,1,0]    122.91      3.25    122.99    116.97    129.77  14348.43      1.00\n",
      "  a[1,2,0]    119.37      3.53    120.46    113.07    124.46   2370.45      1.00\n",
      "  a[1,3,0]     59.01      9.30     58.14     42.14     78.54  17338.40      1.00\n",
      "  a[1,4,0]     26.23      0.86     26.42     24.38     27.52  12330.53      1.00\n",
      "  a[1,5,0]    171.72      9.58    171.36    154.25    192.77   9717.41      1.00\n",
      "  a[1,6,0]     49.04      4.37     48.77     40.69     56.91  10665.59      1.00\n",
      "  a[1,7,0]     27.85      3.66     27.90     20.35     34.64  16546.62      1.00\n",
      "  a[2,0,0]    214.00     13.02    210.84    193.12    237.94   3039.53      1.00\n",
      "  a[2,1,0]    240.56      5.02    241.53    231.18    249.38   7691.91      1.00\n",
      "  a[2,2,0]    168.55      1.80    168.60    164.79    172.32  16914.75      1.00\n",
      "  a[2,3,0]    209.39      6.27    210.02    196.34    220.22   9194.24      1.00\n",
      "  a[2,4,0]     35.52      1.19     35.81     32.96     37.63   6037.73      1.00\n",
      "  a[2,5,0]    124.85      1.16    125.01    122.49    126.83  15044.20      1.00\n",
      "  a[2,6,0]    101.83      9.74     97.59     89.31    120.49   1357.16      1.00\n",
      "  a[2,7,0]     23.91     12.30     27.09      1.48     42.35   4394.01      1.00\n",
      "  a[3,0,0]    197.34      8.17    197.30    182.08    213.55  21748.43      1.00\n",
      "  a[3,1,0]    300.11      4.34    300.07    291.41    307.28  15353.01      1.00\n",
      "  a[3,2,0]    232.25      5.40    232.03    222.07    242.60  22218.25      1.00\n",
      "  a[3,3,0]    177.81      2.27    177.90    172.90    181.52  11051.49      1.00\n",
      "  a[3,4,0]     47.18      0.87     47.25     45.33     48.80  18785.71      1.00\n",
      "  a[3,5,0]    148.04      4.77    148.35    138.44    156.98  20329.86      1.00\n",
      "  a[3,6,0]    121.25      3.76    121.49    114.08    129.16  21170.05      1.00\n",
      "  a[3,7,0]     41.81      3.59     41.66     35.02     48.89  17022.49      1.00\n",
      "  b[0,0,0]      0.02      0.02      0.02      0.00      0.07   9622.87      1.00\n",
      "  b[0,1,0]      0.06      0.04      0.04      0.00      0.13   8867.32      1.00\n",
      "  b[0,2,0]      0.04      0.01      0.03      0.02      0.06   8946.48      1.00\n",
      "  b[0,3,0]      0.05      0.03      0.05      0.01      0.12  11803.97      1.00\n",
      "  b[0,4,0]      0.04      0.01      0.03      0.02      0.05   8562.67      1.00\n",
      "  b[0,5,0]      0.05      0.03      0.04      0.01      0.11  10435.30      1.00\n",
      "  b[0,6,0]      0.05      0.04      0.04      0.00      0.12  11231.82      1.00\n",
      "  b[0,7,0]      0.03      0.02      0.03      0.01      0.08  10269.74      1.00\n",
      "  b[1,0,0]      0.02      0.02      0.01      0.00      0.05   9059.49      1.00\n",
      "  b[1,1,0]      0.03      0.03      0.02      0.00      0.08  10610.07      1.00\n",
      "  b[1,2,0]      0.04      0.02      0.03      0.01      0.09  10542.02      1.00\n",
      "  b[1,3,0]      0.03      0.02      0.03      0.00      0.08  12615.30      1.00\n",
      "  b[1,4,0]      0.30      0.10      0.28      0.13      0.50  15489.14      1.00\n",
      "  b[1,5,0]      0.05      0.03      0.04      0.01      0.10   9961.30      1.00\n",
      "  b[1,6,0]      0.04      0.03      0.03      0.00      0.09  11461.53      1.00\n",
      "  b[1,7,0]      0.02      0.02      0.02      0.00      0.05   9621.56      1.00\n",
      "  b[2,0,0]      0.02      0.02      0.01      0.00      0.05   3774.66      1.00\n",
      "  b[2,1,0]      0.04      0.03      0.03      0.00      0.10   9752.18      1.00\n",
      "  b[2,2,0]      0.05      0.03      0.04      0.00      0.09   8413.04      1.00\n",
      "  b[2,3,0]      0.05      0.04      0.04      0.00      0.12  10529.81      1.00\n",
      "  b[2,4,0]      0.16      0.10      0.13      0.04      0.37   9233.27      1.00\n",
      "  b[2,5,0]      0.04      0.01      0.04      0.03      0.06  12335.46      1.00\n",
      "  b[2,6,0]      0.04      0.03      0.03      0.00      0.09  11205.76      1.00\n",
      "  b[2,7,0]      0.01      0.01      0.01      0.00      0.03  13405.25      1.00\n",
      "  b[3,0,0]      0.01      0.01      0.01      0.00      0.02  10821.37      1.00\n",
      "  b[3,1,0]      0.06      0.05      0.04      0.00      0.15   9991.74      1.00\n",
      "  b[3,2,0]      0.04      0.02      0.03      0.00      0.08  11761.10      1.00\n",
      "  b[3,3,0]      0.08      0.04      0.07      0.03      0.16  11512.80      1.00\n",
      "  b[3,4,0]      0.05      0.01      0.05      0.04      0.06  11205.23      1.00\n",
      "  b[3,5,0]      0.03      0.02      0.02      0.01      0.06   9499.58      1.00\n",
      "  b[3,6,0]      0.04      0.03      0.04      0.00      0.10  10682.60      1.00\n",
      "  b[3,7,0]      0.02      0.01      0.02      0.01      0.04  11756.34      1.00\n",
      "g_1[0,0,0]      1.12      0.91      0.90      0.00      2.88  19470.76      1.00\n",
      "g_1[0,1,0]      3.20      1.66      3.07      0.00      6.16  16425.29      1.00\n",
      "g_1[0,2,0]     24.19     16.22     22.09      0.00     54.35  14093.86      1.00\n",
      "g_1[0,3,0]      0.50      0.54      0.35      0.00      1.47   8727.68      1.00\n",
      "g_1[0,4,0]     12.35      3.38     12.14      6.00     19.20  22955.05      1.00\n",
      "g_1[0,5,0]      3.00      1.21      2.86      0.88      5.46  21888.99      1.00\n",
      "g_1[0,6,0]      0.33      0.30      0.25      0.00      0.95  24619.31      1.00\n",
      "g_1[0,7,0]      7.02      3.92      6.63      0.00     14.12  20370.13      1.00\n",
      "g_1[1,0,0]      1.85      1.78      1.33      0.00      5.36  27253.23      1.00\n",
      "g_1[1,1,0]      1.62      1.53      1.15      0.00      4.73  23690.54      1.00\n",
      "g_1[1,2,0]     15.89      9.31     14.98      0.06     32.80  14997.16      1.00\n",
      "g_1[1,3,0]      0.79      0.77      0.56      0.00      2.32  25949.28      1.00\n",
      "g_1[1,4,0]     11.11      7.26     10.24      0.00     24.26  16932.06      1.00\n",
      "g_1[1,5,0]      5.90      1.95      5.71      2.30      9.74  18422.68      1.00\n",
      "g_1[1,6,0]     24.08      8.14     23.56      8.48     39.99  20500.86      1.00\n",
      "g_1[1,7,0]      4.46      3.93      3.41      0.00     12.27  21330.73      1.00\n",
      "g_1[2,0,0]     29.81     29.49     20.99      0.00     88.55  10436.00      1.00\n",
      "g_1[2,1,0]      1.19      1.19      0.83      0.00      3.56  31114.39      1.00\n",
      "g_1[2,2,0]     10.27      9.00      7.83      0.00     28.02  16155.41      1.00\n",
      "g_1[2,3,0]     44.17     13.46     43.67     18.31     70.13  18512.40      1.00\n",
      "g_1[2,4,0]     26.21     10.03     26.19      5.72     45.03  11243.93      1.00\n",
      "g_1[2,5,0]     66.13     16.11     64.86     36.35     98.06  24130.57      1.00\n",
      "g_1[2,6,0]      7.53      6.27      5.93      0.00     20.06   3272.81      1.00\n",
      "g_1[2,7,0]     47.20     26.15     45.19      0.02     93.26  18228.82      1.00\n",
      "g_1[3,0,0]    134.02    100.46    113.03      0.01    329.92  12975.01      1.00\n",
      "g_1[3,1,0]      2.88      2.78      2.06      0.00      8.36  30167.72      1.00\n",
      "g_1[3,2,0]     13.72      7.64     12.82      0.02     27.66  22113.59      1.00\n",
      "g_1[3,3,0]    105.99     27.97    104.42     53.64    162.03  22182.24      1.00\n",
      "g_1[3,4,0]     84.58     20.39     83.19     46.09    124.66  23908.66      1.00\n",
      "g_1[3,5,0]     12.09      3.82     11.79      4.96     19.70  20064.89      1.00\n",
      "g_1[3,6,0]      2.78      2.43      2.11      0.00      7.57  20668.75      1.00\n",
      "g_1[3,7,0]    169.31     47.64    167.28     78.32    263.96  20268.11      1.00\n",
      "g_2[0,0,0]      2.27      0.55      2.24      1.20      3.35  22334.31      1.00\n",
      "g_2[0,1,0]      4.93      1.81      4.76      1.72      8.65  14478.67      1.00\n",
      "g_2[0,2,0]     36.15     15.37     35.71      6.15     63.80  10699.81      1.00\n",
      "g_2[0,3,0]      4.07      0.92      4.03      2.30      5.89  16758.66      1.00\n",
      "g_2[0,4,0]      2.83      1.64      2.56      0.02      5.94  17069.04      1.00\n",
      "g_2[0,5,0]      1.55      0.46      1.51      0.69      2.45  22304.91      1.00\n",
      "g_2[0,6,0]      3.01      0.67      2.97      1.75      4.34  22405.07      1.00\n",
      "g_2[0,7,0]      4.08      1.27      3.98      1.79      6.65  18461.01      1.00\n",
      "g_2[1,0,0]      5.50      1.16      5.42      3.32      7.80  24562.29      1.00\n",
      "g_2[1,1,0]      6.93      1.54      6.82      4.02      9.99  24815.65      1.00\n",
      "g_2[1,2,0]     15.45      5.07     15.06      6.09     25.44  15759.37      1.00\n",
      "g_2[1,3,0]      5.86      1.26      5.80      3.41      8.32  26513.08      1.00\n",
      "g_2[1,4,0]     14.15      5.99     13.86      3.14     25.51  15760.48      1.00\n",
      "g_2[1,5,0]      1.11      0.43      1.08      0.28      1.96  19122.85      1.00\n",
      "g_2[1,6,0]      3.07      1.52      2.90      0.35      6.04  16040.67      1.00\n",
      "g_2[1,7,0]      6.25      1.58      6.21      3.12      9.38  19886.85      1.00\n",
      "g_2[2,0,0]     10.91      2.69     10.79      5.94     16.53  20293.19      1.00\n",
      "g_2[2,1,0]      6.27      1.26      6.19      3.88      8.73  28092.25      1.00\n",
      "g_2[2,2,0]     24.21      5.94     23.88     13.21     36.14  19824.46      1.00\n",
      "g_2[2,3,0]      1.44      1.08      1.24      0.00      3.51  20029.77      1.00\n",
      "g_2[2,4,0]      5.28      3.63      4.41      0.00     12.57   8085.79      1.00\n",
      "g_2[2,5,0]      3.05      1.76      2.84      0.00      6.27  21116.37      1.00\n",
      "g_2[2,6,0]      5.98      1.80      5.92      2.50      9.37   4256.37      1.00\n",
      "g_2[2,7,0]      4.83      2.48      4.66      0.12      9.28  18372.14      1.00\n",
      "g_2[3,0,0]     14.13      5.04     14.15      4.07     23.82  13379.35      1.00\n",
      "g_2[3,1,0]      4.31      0.87      4.25      2.69      6.04  27899.73      1.00\n",
      "g_2[3,2,0]      5.14      1.42      5.03      2.47      7.91  23306.22      1.00\n",
      "g_2[3,3,0]      2.79      2.15      2.33      0.00      6.93  20724.53      1.00\n",
      "g_2[3,4,0]      2.60      1.77      2.29      0.00      5.96  22234.03      1.00\n",
      "g_2[3,5,0]      1.87      0.74      1.81      0.48      3.36  21946.01      1.00\n",
      "g_2[3,6,0]      5.52      1.27      5.45      2.97      7.92  23557.88      1.00\n",
      "g_2[3,7,0]      3.07      2.43      2.51      0.00      7.78  18589.08      1.00\n",
      "  v[0,0,0]      5.47      6.21      3.35      0.00     17.90   8919.82      1.00\n",
      "  v[0,1,0]      8.43      6.31      6.89      0.02     20.68   8699.72      1.00\n",
      "  v[0,2,0]      1.61      1.64      1.16      0.00      4.54   8574.41      1.00\n",
      "  v[0,3,0]     11.81      7.30     10.12      1.77     26.80  11776.05      1.00\n",
      "  v[0,4,0]      0.34      0.50      0.17      0.00      1.18   7741.42      1.00\n",
      "  v[0,5,0]      4.58      3.18      3.81      0.06     10.59  10284.83      1.00\n",
      "  v[0,6,0]     11.80      8.01      9.84      0.67     27.92  11198.36      1.00\n",
      "  v[0,7,0]      3.00      3.32      1.94      0.00      9.43   9688.26      1.00\n",
      "  v[1,0,0]     10.29      8.75      7.92      0.00     27.45   8850.20      1.00\n",
      "  v[1,1,0]      7.24      7.06      5.18      0.00     21.03  10165.71      1.00\n",
      "  v[1,2,0]      8.42      5.57      7.17      0.41     19.34   8385.37      1.00\n",
      "  v[1,3,0]     13.33      8.88     11.25      1.14     30.87  12585.07      1.00\n",
      "  v[1,4,0]      0.41      0.60      0.20      0.00      1.51  13183.43      1.00\n",
      "  v[1,5,0]      4.01      2.79      3.40      0.06      9.31   9574.34      1.00\n",
      "  v[1,6,0]     13.84      9.57     11.55      0.68     33.06  11490.02      1.00\n",
      "  v[1,7,0]      9.08      7.05      7.40      0.00     22.79   9387.53      1.00\n",
      "  v[2,0,0]     10.69     10.22      7.75      0.00     31.11  11240.18      1.00\n",
      "  v[2,1,0]      9.55      7.84      7.59      0.00     25.03   9517.58      1.00\n",
      "  v[2,2,0]     14.94      8.54     13.53      1.22     31.53   8736.95      1.00\n",
      "  v[2,3,0]      6.90      6.21      5.15      0.00     19.33   9290.66      1.00\n",
      "  v[2,4,0]      0.35      0.51      0.18      0.00      1.27  13805.12      1.00\n",
      "  v[2,5,0]      0.50      0.39      0.42      0.00      1.26  11036.74      1.00\n",
      "  v[2,6,0]     13.81      9.44     11.59      0.69     32.28  11658.39      1.00\n",
      "  v[2,7,0]      8.10      8.07      5.69      0.00     24.14   9293.40      1.00\n",
      "  v[3,0,0]     12.62     10.96      9.64      0.00     34.05  10155.25      1.00\n",
      "  v[3,1,0]      6.75      6.03      5.12      0.00     18.54   9939.55      1.00\n",
      "  v[3,2,0]     11.33      7.96      9.55      0.01     26.88  11574.08      1.00\n",
      "  v[3,3,0]      5.00      3.44      4.32      0.01     11.28  10926.29      1.00\n",
      "  v[3,4,0]      0.32      0.43      0.17      0.00      1.15   8022.01      1.00\n",
      "  v[3,5,0]      1.82      2.34      1.06      0.00      6.09   9530.93      1.00\n",
      "  v[3,6,0]     13.18      9.06     11.02      0.78     30.72  10592.77      1.00\n",
      "  v[3,7,0]      3.65      3.84      2.48      0.00     11.16  13069.13      1.00\n",
      "  µ_a[0,0]    165.24     23.05    166.07    117.93    210.35  13560.01      1.00\n",
      "  µ_a[1,0]    161.01     35.75    162.32     86.91    228.47  18307.05      1.00\n",
      "  µ_a[2,0]    141.68     30.46    142.40     80.04    201.97  18361.21      1.00\n",
      "  µ_a[3,0]    137.61     30.04    138.20     77.69    197.66  16991.16      1.00\n",
      "  µ_a[4,0]     37.30     14.75     35.57      7.22     67.95  11262.17      1.00\n",
      "  µ_a[5,0]    158.32     19.90    158.56    118.03    199.32  14428.66      1.00\n",
      "  µ_a[6,0]     87.13     26.18     86.11     34.04    141.05  13171.04      1.00\n",
      "  µ_a[7,0]     50.39     22.23     48.30      4.69     93.26  14894.00      1.00\n",
      "  σ_H[0,0]      3.85      2.72      3.12      0.41      9.39   8668.30      1.00\n",
      "  σ_H[1,0]      3.63      2.00      3.11      0.94      7.70  13636.71      1.00\n",
      "  σ_H[2,0]      2.17      1.39      1.75      0.57      4.95   8861.43      1.00\n",
      "  σ_H[3,0]      4.96      2.42      4.45      1.40      9.92  12084.73      1.00\n",
      "  σ_H[4,0]      1.85      0.94      1.60      0.66      3.66  17402.35      1.00\n",
      "  σ_H[5,0]      6.32      2.16      5.95      2.79     10.57  16023.69      1.00\n",
      "  σ_H[6,0]      7.00      2.92      6.61      2.02     12.75  14352.63      1.00\n",
      "  σ_H[7,0]      2.25      1.68      1.73      0.35      5.70  10206.13      1.00\n",
      "  σ_L[0,0]      0.03      0.01      0.03      0.01      0.06  19783.20      1.00\n",
      "  σ_L[1,0]      0.03      0.01      0.02      0.01      0.05  18438.07      1.00\n",
      "  σ_L[2,0]      0.03      0.01      0.02      0.01      0.05  15093.07      1.00\n",
      "  σ_L[3,0]      0.07      0.02      0.07      0.04      0.11  24176.95      1.00\n",
      "  σ_L[4,0]      0.04      0.01      0.03      0.01      0.06  19642.28      1.00\n",
      "  σ_L[5,0]      0.05      0.02      0.05      0.02      0.09  22809.36      1.00\n",
      "  σ_L[6,0]      0.03      0.01      0.02      0.01      0.05  18494.99      1.00\n",
      "  σ_L[7,0]      0.03      0.01      0.03      0.01      0.06  18728.19      1.00\n",
      "  σ_a[0,0]     49.36     19.58     45.18     19.62     88.99  13394.56      1.00\n",
      "  σ_a[1,0]     92.05     23.10     89.06     52.85    139.69  23789.97      1.00\n",
      "  σ_a[2,0]     72.99     21.84     69.54     36.90    117.37  23264.46      1.00\n",
      "  σ_a[3,0]     69.23     21.75     65.59     33.67    114.15  22168.93      1.00\n",
      "  σ_a[4,0]     22.89     16.63     17.46      4.79     56.97  10829.69      1.00\n",
      "  σ_a[5,0]     40.37     17.89     36.13     15.14     77.52  13953.34      1.00\n",
      "  σ_a[6,0]     54.80     21.27     50.65     22.16     97.82  18209.29      1.00\n",
      "  σ_a[7,0]     39.58     20.66     34.52     10.82     82.06  15367.85      1.00\n",
      "  σ_b[0,0]      0.03      0.02      0.02      0.00      0.08   7825.10      1.00\n",
      "  σ_b[1,0]      0.06      0.04      0.05      0.01      0.14   8678.31      1.00\n",
      "  σ_b[2,0]      0.06      0.03      0.05      0.01      0.12  11934.31      1.00\n",
      "  σ_b[3,0]      0.08      0.04      0.07      0.02      0.15  12905.32      1.00\n",
      "  σ_b[4,0]      0.16      0.05      0.15      0.07      0.26  16003.65      1.00\n",
      "  σ_b[5,0]      0.06      0.03      0.05      0.02      0.12  12467.48      1.00\n",
      "  σ_b[6,0]      0.06      0.04      0.05      0.01      0.13  10607.93      1.00\n",
      "  σ_b[7,0]      0.04      0.02      0.03      0.01      0.08  12446.38      1.00\n",
      "  σ_v[0,0]     11.09      6.36     10.26      0.30     23.13   8023.75      1.00\n",
      "  σ_v[1,0]      9.51      5.42      8.68      0.58     20.05   7639.79      1.00\n",
      "  σ_v[2,0]     11.29      5.12     10.57      2.54     21.35  10321.10      1.00\n",
      "  σ_v[3,0]     11.10      5.18     10.33      2.53     21.35  11261.44      1.00\n",
      "  σ_v[4,0]      0.67      0.88      0.39      0.00      2.18  10721.42      1.00\n",
      "  σ_v[5,0]      4.61      3.10      3.83      0.46     10.98  10243.02      1.00\n",
      "  σ_v[6,0]     13.53      5.90     12.83      3.20     25.12   9716.48      1.00\n",
      "  σ_v[7,0]      8.13      5.09      7.25      0.04     17.89   8845.89      1.00\n",
      "\n",
      "Number of divergences: 1674\n"
     ]
    }
   ],
   "source": [
    "mcmc.print_summary(prob=.95)\n"
   ]
  },
  {
   "cell_type": "code",
   "execution_count": 8,
   "metadata": {},
   "outputs": [
    {
     "name": "stderr",
     "output_type": "stream",
     "text": [
      "2023-08-09 13:35:03,651 - hbmep.model.baseline - INFO - Generating predictions ...\n"
     ]
    },
    {
     "name": "stderr",
     "output_type": "stream",
     "text": [
      "2023-08-09 13:35:44,873 - hbmep.utils.utils - INFO - func:predict took: 41.22 sec\n",
      "2023-08-09 13:35:44,984 - hbmep.model.baseline - INFO - Rendering recruitment curves ...\n",
      "2023-08-09 13:35:57,691 - hbmep.model.baseline - INFO - Saved to /home/vishu/repos/hbmep-paper/reports/J_RCML_000/deltoid/recruitment_curves.pdf\n",
      "2023-08-09 13:35:57,691 - hbmep.utils.utils - INFO - func:render_recruitment_curves took: 54.04 sec\n"
     ]
    }
   ],
   "source": [
    "model.render_recruitment_curves(df=df, encoder_dict=encoder_dict, posterior_samples=posterior_samples)\n",
    "\n"
   ]
  },
  {
   "cell_type": "code",
   "execution_count": 9,
   "metadata": {},
   "outputs": [
    {
     "name": "stderr",
     "output_type": "stream",
     "text": [
      "2023-08-09 13:35:57,730 - hbmep.model.baseline - INFO - Generating predictions ...\n",
      "2023-08-09 13:36:37,248 - hbmep.utils.utils - INFO - func:predict took: 39.51 sec\n",
      "2023-08-09 13:36:37,435 - hbmep.model.baseline - INFO - Rendering Posterior Predictive Check ...\n",
      "2023-08-09 13:36:57,464 - hbmep.model.baseline - INFO - Saved to /home/vishu/repos/hbmep-paper/reports/J_RCML_000/deltoid/posterior_predictive_check.pdf\n",
      "2023-08-09 13:36:57,467 - hbmep.utils.utils - INFO - func:render_predictive_check took: 59.74 sec\n"
     ]
    }
   ],
   "source": [
    "model.render_predictive_check(df=df, encoder_dict=encoder_dict, posterior_samples=posterior_samples)\n"
   ]
  },
  {
   "cell_type": "code",
   "execution_count": 10,
   "metadata": {},
   "outputs": [
    {
     "name": "stderr",
     "output_type": "stream",
     "text": [
      "2023-08-09 13:36:57,497 - hbmep.model.baseline - INFO - Saving inference data ...\n"
     ]
    },
    {
     "name": "stderr",
     "output_type": "stream",
     "text": [
      "2023-08-09 13:37:25,112 - hbmep.model.baseline - INFO - Saved to /home/vishu/repos/hbmep-paper/reports/J_RCML_000/deltoid/mcmc.nc\n",
      "2023-08-09 13:37:25,113 - hbmep.model.baseline - INFO - Rendering convergence diagnostics ...\n",
      "2023-08-09 13:38:10,951 - hbmep.model.baseline - INFO - Saved to /home/vishu/repos/hbmep-paper/reports/J_RCML_000/deltoid/diagnostics.csv\n",
      "2023-08-09 13:38:10,951 - hbmep.model.baseline - INFO - Evaluating model ...\n",
      "/home/vishu/repos/hbmep-paper/.venv/lib/python3.11/site-packages/arviz/stats/stats.py:803: UserWarning: Estimated shape parameter of Pareto distribution is greater than 0.7 for one or more samples. You should consider using a more robust model, this is because importance sampling is less likely to work well if the marginal posterior and LOO posterior are very different. This is more likely to happen with a non-robust model and highly influential observations.\n",
      "  warnings.warn(\n",
      "2023-08-09 13:38:19,375 - hbmep.model.baseline - INFO - ELPD LOO (Log): 2116.56\n",
      "/home/vishu/repos/hbmep-paper/.venv/lib/python3.11/site-packages/arviz/stats/stats.py:1645: UserWarning: For one or more samples the posterior variance of the log predictive densities exceeds 0.4. This could be indication of WAIC starting to fail. \n",
      "See http://arxiv.org/abs/1507.04544 for details\n",
      "  warnings.warn(\n",
      "2023-08-09 13:38:20,144 - hbmep.model.baseline - INFO - ELPD WAIC (Log): 2137.25\n",
      "2023-08-09 13:38:20,153 - hbmep.utils.utils - INFO - func:save took: 1 min and 22.66 sec\n"
     ]
    }
   ],
   "source": [
    "model.save(mcmc=mcmc)"
   ]
  },
  {
   "cell_type": "code",
   "execution_count": null,
   "metadata": {},
   "outputs": [],
   "source": []
  }
 ],
 "metadata": {
  "kernelspec": {
   "display_name": ".venv",
   "language": "python",
   "name": "python3"
  },
  "language_info": {
   "codemirror_mode": {
    "name": "ipython",
    "version": 3
   },
   "file_extension": ".py",
   "mimetype": "text/x-python",
   "name": "python",
   "nbconvert_exporter": "python",
   "pygments_lexer": "ipython3",
   "version": "3.11.4"
  },
  "orig_nbformat": 4,
  "vscode": {
   "interpreter": {
    "hash": "850bfd4e6f5ddd996dd5cd5088beecd08558625e274540230e1444ec52025b11"
   }
  }
 },
 "nbformat": 4,
 "nbformat_minor": 2
}
