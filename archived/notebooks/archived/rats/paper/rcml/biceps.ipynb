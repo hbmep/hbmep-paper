{
 "cells": [
  {
   "cell_type": "code",
   "execution_count": 1,
   "metadata": {},
   "outputs": [],
   "source": [
    "%reload_ext autoreload\n",
    "%autoreload 2\n",
    "\n",
    "import os\n",
    "from pathlib import Path\n",
    "import multiprocessing\n",
    "\n",
    "import jax\n",
    "import jax.numpy as jnp\n",
    "import pandas as pd\n",
    "import numpy as np\n",
    "import numpyro\n",
    "import numpyro.distributions as dist\n",
    "\n",
    "from hbmep.config import Config\n",
    "from hbmep.model import Baseline\n",
    "from hbmep.model.utils import Site as site\n",
    "from hbmep.utils.constants import RECTIFIED_LOGISTIC\n",
    "\n",
    "PLATFORM = \"cpu\"\n",
    "jax.config.update(\"jax_platforms\", PLATFORM)\n",
    "numpyro.set_platform(PLATFORM)\n",
    "\n",
    "cpu_count = multiprocessing.cpu_count() - 2\n",
    "numpyro.set_host_device_count(cpu_count)\n",
    "numpyro.enable_x64()\n",
    "numpyro.enable_validation()\n"
   ]
  },
  {
   "cell_type": "code",
   "execution_count": 2,
   "metadata": {},
   "outputs": [
    {
     "name": "stderr",
     "output_type": "stream",
     "text": [
      "2023-08-09 12:58:16,589 - hbmep.config - INFO - Verifying configuration ...\n",
      "2023-08-09 12:58:16,589 - hbmep.config - INFO - Success!\n"
     ]
    }
   ],
   "source": [
    "root_path = Path(os.getcwd()).parent.parent.parent.parent.absolute()\n",
    "toml_path = os.path.join(root_path, \"configs/rcml/biceps.toml\")\n",
    "\n",
    "config = Config(toml_path=toml_path)\n"
   ]
  },
  {
   "attachments": {},
   "cell_type": "markdown",
   "metadata": {},
   "source": [
    "#### Load data and preprocess"
   ]
  },
  {
   "cell_type": "code",
   "execution_count": 3,
   "metadata": {},
   "outputs": [
    {
     "name": "stderr",
     "output_type": "stream",
     "text": [
      "2023-08-09 12:58:16,623 - hbmep.model.baseline - INFO - Initialized model with rectified_logistic link\n"
     ]
    }
   ],
   "source": [
    "class RectifiedLogistic(Baseline):\n",
    "    LINK = RECTIFIED_LOGISTIC\n",
    "\n",
    "    def __init__(self, config: Config):\n",
    "        super(RectifiedLogistic, self).__init__(config=config)\n",
    "\n",
    "    def _model(self, subject, features, intensity, response_obs=None):\n",
    "        intensity = intensity.reshape(-1, 1)\n",
    "        intensity = np.tile(intensity, (1, self.n_response))\n",
    "\n",
    "        feature0 = features[0, ...].reshape(-1,)\n",
    "\n",
    "        n_data = intensity.shape[0]\n",
    "        n_subject = np.unique(subject).shape[0]\n",
    "        n_feature0 = np.unique(feature0).shape[0]\n",
    "\n",
    "        with numpyro.plate(site.n_response, self.n_response, dim=-1):\n",
    "            with numpyro.plate(site.n_subject, n_subject, dim=-2):\n",
    "                \"\"\" Hyper-priors \"\"\"\n",
    "                mu_a = numpyro.sample(\n",
    "                    site.mu_a,\n",
    "                    dist.TruncatedNormal(150, 50, low=0)\n",
    "                )\n",
    "                sigma_a = numpyro.sample(site.sigma_a, dist.HalfNormal(50))\n",
    "\n",
    "                sigma_b = numpyro.sample(site.sigma_b, dist.HalfNormal(0.1))\n",
    "\n",
    "                sigma_L = numpyro.sample(site.sigma_L, dist.HalfNormal(0.05))\n",
    "                sigma_H = numpyro.sample(site.sigma_H, dist.HalfNormal(5))\n",
    "                sigma_v = numpyro.sample(site.sigma_v, dist.HalfNormal(10))\n",
    "\n",
    "                with numpyro.plate(\"n_feature0\", n_feature0, dim=-3):\n",
    "                    \"\"\" Priors \"\"\"\n",
    "                    a = numpyro.sample(\n",
    "                        site.a,\n",
    "                        dist.TruncatedNormal(mu_a, sigma_a, low=0)\n",
    "                    )\n",
    "                    b = numpyro.sample(site.b, dist.HalfNormal(sigma_b))\n",
    "\n",
    "                    L = numpyro.sample(site.L, dist.HalfNormal(sigma_L))\n",
    "                    H = numpyro.sample(site.H, dist.HalfNormal(sigma_H))\n",
    "                    v = numpyro.sample(site.v, dist.HalfNormal(sigma_v))\n",
    "\n",
    "                    g_1 = numpyro.sample(site.g_1, dist.Exponential(0.01))\n",
    "                    g_2 = numpyro.sample(site.g_2, dist.Exponential(0.01))\n",
    "\n",
    "        \"\"\" Model \"\"\"\n",
    "        mu = numpyro.deterministic(\n",
    "            site.mu,\n",
    "            L[feature0, subject]\n",
    "            + jnp.maximum(\n",
    "                0,\n",
    "                -1\n",
    "                + (H[feature0, subject] + 1)\n",
    "                / jnp.power(\n",
    "                    1\n",
    "                    + (jnp.power(1 + H[feature0, subject], v[feature0, subject]) - 1)\n",
    "                    * jnp.exp(-b[feature0, subject] * (intensity - a[feature0, subject])),\n",
    "                    1 / v[feature0, subject]\n",
    "                )\n",
    "            )\n",
    "        )\n",
    "        beta = numpyro.deterministic(\n",
    "            site.beta,\n",
    "            g_1[feature0, subject] + g_2[feature0, subject] * (1 / mu)\n",
    "        )\n",
    "\n",
    "        \"\"\" Observation \"\"\"\n",
    "        with numpyro.plate(site.data, n_data):\n",
    "            return numpyro.sample(\n",
    "                site.obs,\n",
    "                dist.Gamma(concentration=mu * beta, rate=beta).to_event(1),\n",
    "                obs=response_obs\n",
    "            )\n",
    "\n",
    "\n",
    "model = RectifiedLogistic(config=config)\n"
   ]
  },
  {
   "cell_type": "code",
   "execution_count": 4,
   "metadata": {},
   "outputs": [
    {
     "name": "stderr",
     "output_type": "stream",
     "text": [
      "2023-08-09 12:58:16,661 - hbmep.dataset.core - INFO - Artefacts will be stored here - /home/vishu/repos/hbmep-paper/reports/J_RCML_000/biceps\n",
      "2023-08-09 12:58:16,662 - hbmep.dataset.core - INFO - Copied config to /home/vishu/repos/hbmep-paper/reports/J_RCML_000/biceps\n",
      "2023-08-09 12:58:16,663 - hbmep.dataset.core - INFO - Processing data ...\n",
      "2023-08-09 12:58:16,664 - hbmep.utils.utils - INFO - func:load took: 0.00 sec\n",
      "2023-08-09 12:58:16,666 - hbmep.dataset.core - INFO - Plotting dataset ...\n"
     ]
    },
    {
     "name": "stderr",
     "output_type": "stream",
     "text": [
      "2023-08-09 12:58:22,576 - hbmep.dataset.core - INFO - Saved to /home/vishu/repos/hbmep-paper/reports/J_RCML_000/biceps/dataset.pdf\n",
      "2023-08-09 12:58:22,576 - hbmep.utils.utils - INFO - func:plot took: 5.91 sec\n"
     ]
    }
   ],
   "source": [
    "df = pd.read_csv(model.csv_path)\n",
    "\n",
    "ind = df.pulse_amplitude.isin([0])\n",
    "df = df[~ind].reset_index(drop=True).copy()\n",
    "\n",
    "subset = ['-C5L', '-C6L', '-C7L', '-C8L']\n",
    "ind = df.compound_position.isin(subset)\n",
    "df = df[ind].reset_index(drop=True).copy()\n",
    "\n",
    "# df[model.features] = \\\n",
    "#     df.compound_position \\\n",
    "#         .apply(lambda x: x.split(\"-\")) \\\n",
    "#         .apply(lambda x: (x[0][:2] + \"-\" + x[1][:2], x[0][-1])) \\\n",
    "#         .apply(pd.Series)\n",
    "\n",
    "\"\"\" Process \"\"\"\n",
    "df, encoder_dict = model.load(df=df)\n",
    "\n",
    "\"\"\" Plot \"\"\"\n",
    "model.plot(df=df, encoder_dict=encoder_dict)"
   ]
  },
  {
   "cell_type": "code",
   "execution_count": 5,
   "metadata": {},
   "outputs": [
    {
     "data": {
      "text/plain": [
       "(1604, 44)"
      ]
     },
     "execution_count": 5,
     "metadata": {},
     "output_type": "execute_result"
    }
   ],
   "source": [
    "df.shape"
   ]
  },
  {
   "cell_type": "code",
   "execution_count": 7,
   "metadata": {},
   "outputs": [
    {
     "name": "stderr",
     "output_type": "stream",
     "text": [
      "2023-08-09 12:58:36,149 - hbmep.model.baseline - INFO - Running inference with rectified_logistic ...\n"
     ]
    },
    {
     "data": {
      "application/vnd.jupyter.widget-view+json": {
       "model_id": "4b87200fa8d54efeafbe602bf50d8691",
       "version_major": 2,
       "version_minor": 0
      },
      "text/plain": [
       "  0%|          | 0/10000 [00:00<?, ?it/s]"
      ]
     },
     "metadata": {},
     "output_type": "display_data"
    },
    {
     "data": {
      "application/vnd.jupyter.widget-view+json": {
       "model_id": "5b0d551caa6c4098924256701c7ea94a",
       "version_major": 2,
       "version_minor": 0
      },
      "text/plain": [
       "  0%|          | 0/10000 [00:00<?, ?it/s]"
      ]
     },
     "metadata": {},
     "output_type": "display_data"
    },
    {
     "data": {
      "application/vnd.jupyter.widget-view+json": {
       "model_id": "756acee90b9c4149b3afba9f599213d8",
       "version_major": 2,
       "version_minor": 0
      },
      "text/plain": [
       "  0%|          | 0/10000 [00:00<?, ?it/s]"
      ]
     },
     "metadata": {},
     "output_type": "display_data"
    },
    {
     "data": {
      "application/vnd.jupyter.widget-view+json": {
       "model_id": "c4986f33ffcc4dcaa3fa47346fbef293",
       "version_major": 2,
       "version_minor": 0
      },
      "text/plain": [
       "  0%|          | 0/10000 [00:00<?, ?it/s]"
      ]
     },
     "metadata": {},
     "output_type": "display_data"
    },
    {
     "name": "stderr",
     "output_type": "stream",
     "text": [
      "2023-08-09 13:30:22,416 - hbmep.utils.utils - INFO - func:run_inference took: 31 min and 46.27 sec\n"
     ]
    }
   ],
   "source": [
    "mcmc, posterior_samples = model.run_inference(df=df)\n"
   ]
  },
  {
   "cell_type": "code",
   "execution_count": 8,
   "metadata": {},
   "outputs": [
    {
     "name": "stdout",
     "output_type": "stream",
     "text": [
      "\n",
      "                mean       std    median      2.5%     97.5%     n_eff     r_hat\n",
      "  H[0,0,0]      3.30      1.39      2.95      1.55      5.89   8835.76      1.00\n",
      "  H[0,1,0]      4.70      0.50      4.62      3.87      5.72   8325.09      1.00\n",
      "  H[0,2,0]      3.04      0.06      3.03      2.92      3.16  21070.21      1.00\n",
      "  H[0,3,0]      5.53      1.94      5.06      3.05      9.14   4379.40      1.00\n",
      "  H[0,4,0]      2.73      0.21      2.69      2.38      3.16   5135.56      1.00\n",
      "  H[0,5,0]     13.16      5.24     11.92      5.82     23.70  12987.01      1.00\n",
      "  H[0,6,0]      4.28      0.67      4.17      3.15      5.59  11568.25      1.00\n",
      "  H[0,7,0]      2.26      1.60      1.77      0.83      5.16   8726.68      1.00\n",
      "  H[1,0,0]      1.11      0.15      1.09      0.86      1.41   8384.04      1.00\n",
      "  H[1,1,0]      6.19      4.25      4.98      1.37     14.70  14598.60      1.00\n",
      "  H[1,2,0]      1.99      0.09      1.98      1.81      2.17   8819.18      1.00\n",
      "  H[1,3,0]      9.32      4.71      8.19      2.98     18.62  12426.54      1.00\n",
      "  H[1,4,0]      5.80      2.67      5.12      2.41     11.06   9649.42      1.00\n",
      "  H[1,5,0]     13.63      4.96     12.40      6.85     23.81  12849.68      1.00\n",
      "  H[1,6,0]      5.09      3.25      3.99      1.96     11.58   8819.50      1.00\n",
      "  H[1,7,0]      0.22      0.02      0.22      0.19      0.27  12187.55      1.00\n",
      "  H[2,0,0]      1.68      1.25      1.30      0.61      3.92   7346.08      1.00\n",
      "  H[2,1,0]      5.77      4.38      4.58      0.64     14.33  15215.51      1.00\n",
      "  H[2,2,0]      1.66      0.10      1.65      1.47      1.87   8474.72      1.00\n",
      "  H[2,3,0]      8.33      4.08      6.95      4.16     16.54   6263.99      1.00\n",
      "  H[2,4,0]      1.25      0.17      1.22      0.97      1.60   9075.94      1.00\n",
      "  H[2,5,0]      6.00      0.10      6.00      5.81      6.19  20475.51      1.00\n",
      "  H[2,6,0]      7.87      4.83      6.64      1.58     17.35  13526.24      1.00\n",
      "  H[2,7,0]      0.23      0.02      0.23      0.20      0.27   6411.86      1.00\n",
      "  H[3,0,0]      0.88      0.34      0.81      0.55      1.35   4788.40      1.00\n",
      "  H[3,1,0]      5.25      4.35      4.04      0.30     13.83  19395.30      1.00\n",
      "  H[3,2,0]      1.31      0.05      1.30      1.21      1.40  14208.04      1.00\n",
      "  H[3,3,0]      4.59      0.27      4.56      4.10      5.15  12483.56      1.00\n",
      "  H[3,4,0]      1.05      0.24      1.00      0.73      1.46   6578.63      1.00\n",
      "  H[3,5,0]      4.26      0.20      4.25      3.89      4.65   7633.35      1.00\n",
      "  H[3,6,0]      9.30      4.87      8.09      2.90     19.02  11832.13      1.00\n",
      "  H[3,7,0]      0.62      0.82      0.43      0.28      1.49   3215.98      1.00\n",
      "  L[0,0,0]      0.04      0.01      0.04      0.03      0.05  21944.89      1.00\n",
      "  L[0,1,0]      0.04      0.01      0.04      0.02      0.06  10825.17      1.00\n",
      "  L[0,2,0]      0.02      0.00      0.02      0.01      0.02  11908.92      1.00\n",
      "  L[0,3,0]      0.09      0.05      0.08      0.00      0.19   3907.26      1.00\n",
      "  L[0,4,0]      0.03      0.01      0.02      0.01      0.04   7419.77      1.00\n",
      "  L[0,5,0]      0.05      0.01      0.05      0.03      0.07   8237.12      1.00\n",
      "  L[0,6,0]      0.02      0.00      0.02      0.01      0.02  20494.21      1.00\n",
      "  L[0,7,0]      0.02      0.00      0.02      0.02      0.03  23418.35      1.00\n",
      "  L[1,0,0]      0.03      0.00      0.03      0.02      0.04  19339.97      1.00\n",
      "  L[1,1,0]      0.02      0.00      0.02      0.01      0.02  25853.67      1.00\n",
      "  L[1,2,0]      0.03      0.00      0.03      0.02      0.04  16157.70      1.00\n",
      "  L[1,3,0]      0.08      0.02      0.08      0.05      0.12  21543.32      1.00\n",
      "  L[1,4,0]      0.02      0.00      0.02      0.01      0.02  11775.25      1.00\n",
      "  L[1,5,0]      0.05      0.02      0.05      0.02      0.09   6557.09      1.00\n",
      "  L[1,6,0]      0.02      0.00      0.02      0.01      0.02  18835.11      1.00\n",
      "  L[1,7,0]      0.02      0.00      0.02      0.01      0.02  19748.07      1.00\n",
      "  L[2,0,0]      0.04      0.00      0.04      0.03      0.04  22552.83      1.00\n",
      "  L[2,1,0]      0.02      0.00      0.02      0.01      0.02  23170.45      1.00\n",
      "  L[2,2,0]      0.03      0.00      0.03      0.02      0.04  22247.95      1.00\n",
      "  L[2,3,0]      0.17      0.01      0.17      0.15      0.20  24784.91      1.00\n",
      "  L[2,4,0]      0.01      0.00      0.01      0.01      0.02  21521.20      1.00\n",
      "  L[2,5,0]      0.05      0.01      0.05      0.03      0.06  18615.08      1.00\n",
      "  L[2,6,0]      0.02      0.00      0.02      0.02      0.02  25098.56      1.00\n",
      "  L[2,7,0]      0.02      0.00      0.02      0.02      0.02  16677.78      1.00\n",
      "  L[3,0,0]      0.03      0.00      0.03      0.03      0.04  25520.96      1.00\n",
      "  L[3,1,0]      0.02      0.00      0.02      0.02      0.02  22648.27      1.00\n",
      "  L[3,2,0]      0.04      0.00      0.04      0.03      0.04  21089.23      1.00\n",
      "  L[3,3,0]      0.15      0.01      0.15      0.12      0.18  21015.60      1.00\n",
      "  L[3,4,0]      0.02      0.00      0.01      0.01      0.02  19112.79      1.00\n",
      "  L[3,5,0]      0.05      0.01      0.05      0.03      0.07   1935.01      1.00\n",
      "  L[3,6,0]      0.02      0.00      0.02      0.01      0.03   1684.29      1.00\n",
      "  L[3,7,0]      0.02      0.00      0.02      0.01      0.02  13240.22      1.00\n",
      "  a[0,0,0]    118.49      4.71    118.90    108.88    127.39   9042.35      1.00\n",
      "  a[0,1,0]     46.29      4.35     45.99     38.27     54.71   9254.13      1.00\n",
      "  a[0,2,0]     43.66      0.44     43.74     42.83     44.35   6045.42      1.00\n",
      "  a[0,3,0]      8.52      5.14      8.38      0.00     16.83   9501.67      1.00\n",
      "  a[0,4,0]     30.87      2.60     30.32     26.56     36.62   4434.04      1.00\n",
      "  a[0,5,0]    122.50      9.06    122.38    105.10    141.91   2412.38      1.00\n",
      "  a[0,6,0]     38.78      1.80     39.06     35.33     41.54  13402.76      1.00\n",
      "  a[0,7,0]     66.42      2.07     66.68     62.03     70.11  13237.40      1.00\n",
      "  a[1,0,0]    127.79      3.17    127.87    121.40    133.37  15012.59      1.00\n",
      "  a[1,1,0]    118.22      2.14    118.45    113.73    122.23  19528.89      1.00\n",
      "  a[1,2,0]    120.05      4.56    121.10    110.65    128.10   5299.35      1.00\n",
      "  a[1,3,0]     34.61      6.15     34.79     21.78     45.63  17740.93      1.00\n",
      "  a[1,4,0]     17.31      1.88     17.53     13.68     20.53   6387.06      1.00\n",
      "  a[1,5,0]     97.87     14.13     96.31     65.92    128.84   4278.36      1.00\n",
      "  a[1,6,0]     50.18      2.40     50.46     44.99     54.39  13582.53      1.00\n",
      "  a[1,7,0]     27.07      2.25     27.32     22.52     31.16   9640.68      1.00\n",
      "  a[2,0,0]    207.27      3.54    207.08    200.28    215.08  12692.21      1.00\n",
      "  a[2,1,0]    225.94      2.81    226.47    220.64    230.08   3710.26      1.00\n",
      "  a[2,2,0]    172.74      3.51    173.13    166.00    178.73  13242.59      1.00\n",
      "  a[2,3,0]    212.85      5.12    212.70    203.14    223.36  17926.24      1.00\n",
      "  a[2,4,0]     34.12      1.12     34.33     31.80     35.89  10903.08      1.00\n",
      "  a[2,5,0]    118.06      2.76    117.78    113.46    124.42   7581.86      1.00\n",
      "  a[2,6,0]     89.24      1.57     89.24     86.13     92.33  23907.11      1.00\n",
      "  a[2,7,0]     44.93      2.84     45.16     39.71     50.22   8877.94      1.00\n",
      "  a[3,0,0]    207.36      3.23    207.37    200.95    214.65  12302.53      1.00\n",
      "  a[3,1,0]    225.88      5.61    225.63    216.21    237.70  13801.06      1.00\n",
      "  a[3,2,0]    232.96      3.90    232.49    226.39    240.67   5758.51      1.00\n",
      "  a[3,3,0]    169.87      4.98    170.71    160.01    178.96   8543.61      1.00\n",
      "  a[3,4,0]     39.21      1.47     39.39     35.99     41.77  13312.08      1.00\n",
      "  a[3,5,0]    157.37      7.42    158.60    137.19    167.33    501.42      1.01\n",
      "  a[3,6,0]     98.09      7.43     96.94     86.66    112.14   1181.76      1.00\n",
      "  a[3,7,0]     39.00      4.27     40.02     30.14     45.87   3679.76      1.00\n",
      "  b[0,0,0]      0.01      0.01      0.01      0.00      0.02   3381.88      1.00\n",
      "  b[0,1,0]      0.03      0.02      0.02      0.01      0.06   7682.04      1.00\n",
      "  b[0,2,0]      0.03      0.00      0.03      0.03      0.04   9076.19      1.00\n",
      "  b[0,3,0]      0.01      0.02      0.01      0.00      0.03   3141.22      1.00\n",
      "  b[0,4,0]      0.04      0.02      0.04      0.01      0.09   4666.83      1.00\n",
      "  b[0,5,0]      0.06      0.03      0.06      0.01      0.13   9028.57      1.00\n",
      "  b[0,6,0]      0.01      0.00      0.01      0.01      0.02   9655.55      1.00\n",
      "  b[0,7,0]      0.07      0.04      0.06      0.01      0.15   7550.68      1.00\n",
      "  b[1,0,0]      0.02      0.01      0.01      0.01      0.03   6247.73      1.00\n",
      "  b[1,1,0]      0.04      0.03      0.03      0.00      0.09   7249.60      1.00\n",
      "  b[1,2,0]      0.02      0.01      0.02      0.01      0.04   5480.74      1.00\n",
      "  b[1,3,0]      0.03      0.02      0.03      0.00      0.08   6622.71      1.00\n",
      "  b[1,4,0]      0.02      0.02      0.01      0.00      0.05   5197.83      1.00\n",
      "  b[1,5,0]      0.06      0.03      0.06      0.01      0.13   9233.44      1.00\n",
      "  b[1,6,0]      0.02      0.02      0.02      0.00      0.07   7510.75      1.00\n",
      "  b[1,7,0]      0.03      0.01      0.02      0.01      0.05  10020.21      1.00\n",
      "  b[2,0,0]      0.02      0.02      0.01      0.00      0.04   3735.98      1.00\n",
      "  b[2,1,0]      0.03      0.03      0.03      0.00      0.09   7322.51      1.00\n",
      "  b[2,2,0]      0.02      0.01      0.02      0.01      0.04   4899.55      1.00\n",
      "  b[2,3,0]      0.07      0.04      0.06      0.01      0.15   5293.96      1.00\n",
      "  b[2,4,0]      0.01      0.00      0.01      0.01      0.02   8408.63      1.00\n",
      "  b[2,5,0]      0.06      0.02      0.06      0.04      0.09   9203.04      1.00\n",
      "  b[2,6,0]      0.04      0.03      0.03      0.00      0.09   5992.57      1.00\n",
      "  b[2,7,0]      0.06      0.03      0.06      0.01      0.12   5789.12      1.00\n",
      "  b[3,0,0]      0.02      0.01      0.02      0.00      0.05   3622.55      1.00\n",
      "  b[3,1,0]      0.02      0.02      0.02      0.00      0.05   8156.75      1.00\n",
      "  b[3,2,0]      0.06      0.03      0.05      0.02      0.11   5224.68      1.00\n",
      "  b[3,3,0]      0.04      0.02      0.03      0.02      0.06   6052.37      1.00\n",
      "  b[3,4,0]      0.02      0.01      0.02      0.01      0.03   7639.46      1.00\n",
      "  b[3,5,0]      0.03      0.01      0.02      0.01      0.05    717.06      1.01\n",
      "  b[3,6,0]      0.05      0.03      0.04      0.01      0.11   6058.46      1.00\n",
      "  b[3,7,0]      0.02      0.01      0.02      0.00      0.05   5646.84      1.00\n",
      "g_1[0,0,0]     16.17      5.07     15.85      6.89     26.39  18494.71      1.00\n",
      "g_1[0,1,0]      4.19      1.23      4.12      1.87      6.65  19669.10      1.00\n",
      "g_1[0,2,0]     14.53      8.45     14.00      0.00     29.33  11244.95      1.00\n",
      "g_1[0,3,0]      0.21      0.19      0.15      0.00      0.59   8321.27      1.00\n",
      "g_1[0,4,0]     15.70      4.00     15.41      8.10     23.53  19656.82      1.00\n",
      "g_1[0,5,0]      4.16      1.49      4.00      1.35      7.05  10301.52      1.00\n",
      "g_1[0,6,0]      1.37      1.01      1.18      0.00      3.29  14497.05      1.00\n",
      "g_1[0,7,0]      3.42      2.90      2.65      0.00      9.15  26421.69      1.00\n",
      "g_1[1,0,0]     22.22      7.19     21.74      8.82     36.63  21281.37      1.00\n",
      "g_1[1,1,0]      0.67      0.65      0.47      0.00      1.97  27393.81      1.00\n",
      "g_1[1,2,0]     27.16      7.43     26.63     13.43     42.07  16914.57      1.00\n",
      "g_1[1,3,0]      0.89      0.74      0.70      0.00      2.37  16776.49      1.00\n",
      "g_1[1,4,0]     17.80      7.98     17.49      2.10     33.10   7456.32      1.00\n",
      "g_1[1,5,0]      1.90      0.86      1.81      0.33      3.62   8338.25      1.00\n",
      "g_1[1,6,0]      2.99      1.86      2.77      0.00      6.38  15468.42      1.00\n",
      "g_1[1,7,0]     23.25     20.31     17.70      0.00     64.11  17412.05      1.00\n",
      "g_1[2,0,0]     36.13     14.25     34.76      9.72     63.72  14866.69      1.00\n",
      "g_1[2,1,0]      3.95      3.75      2.84      0.00     11.48  32032.06      1.00\n",
      "g_1[2,2,0]     32.81      9.88     32.01     14.61     52.41  22695.52      1.00\n",
      "g_1[2,3,0]     16.74      5.66     16.42      5.91     27.64  12744.59      1.00\n",
      "g_1[2,4,0]     23.72     14.93     21.98      0.02     50.94  11787.14      1.00\n",
      "g_1[2,5,0]     39.59      8.97     38.98     22.86     57.57  19865.72      1.00\n",
      "g_1[2,6,0]      2.65      2.29      2.04      0.00      7.16  22131.67      1.00\n",
      "g_1[2,7,0]     26.11     23.30     19.71      0.00     72.79  20941.86      1.00\n",
      "g_1[3,0,0]     74.07     24.79     72.51     28.91    123.66  15268.41      1.00\n",
      "g_1[3,1,0]     10.91      9.67      8.32      0.00     30.05  24678.62      1.00\n",
      "g_1[3,2,0]     54.88     16.51     53.60     23.98     87.22  12101.49      1.00\n",
      "g_1[3,3,0]     22.06      6.09     21.69     10.33     33.89  17200.86      1.00\n",
      "g_1[3,4,0]     22.29      9.44     21.72      4.38     40.73  19022.56      1.00\n",
      "g_1[3,5,0]     28.57      8.06     28.56     11.28     44.07   1367.05      1.00\n",
      "g_1[3,6,0]      4.37      3.88      3.53      0.00     11.00   1694.60      1.00\n",
      "g_1[3,7,0]     74.09     36.17     72.10      2.02    137.84  12891.43      1.00\n",
      "g_2[0,0,0]      2.27      1.14      2.14      0.28      4.53  14354.74      1.00\n",
      "g_2[0,1,0]      2.27      1.11      2.13      0.37      4.47  17236.07      1.00\n",
      "g_2[0,2,0]     40.35     20.10     38.67      4.67     78.15   9564.25      1.00\n",
      "g_2[0,3,0]      3.28      0.89      3.26      1.52      5.04  10498.54      1.00\n",
      "g_2[0,4,0]      1.82      1.07      1.63      0.08      3.87  11609.31      1.00\n",
      "g_2[0,5,0]      1.55      0.60      1.49      0.44      2.74  11598.68      1.00\n",
      "g_2[0,6,0]      7.65      2.50      7.56      2.98     12.61  15404.50      1.00\n",
      "g_2[0,7,0]      9.42      2.22      9.29      5.15     13.78  22727.42      1.00\n",
      "g_2[1,0,0]      3.50      1.53      3.33      0.84      6.65  19411.66      1.00\n",
      "g_2[1,1,0]      6.94      1.48      6.84      4.05      9.81  24401.22      1.00\n",
      "g_2[1,2,0]      3.23      1.54      3.04      0.47      6.25  19252.22      1.00\n",
      "g_2[1,3,0]      5.69      1.48      5.64      2.84      8.58  21740.21      1.00\n",
      "g_2[1,4,0]      8.06      4.64      7.27      0.43     17.27   6174.91      1.00\n",
      "g_2[1,5,0]      1.88      0.79      1.78      0.49      3.45   7994.57      1.00\n",
      "g_2[1,6,0]      6.55      2.08      6.42      2.59     10.57  14824.99      1.00\n",
      "g_2[1,7,0]     17.76      4.99     17.71      7.76     27.40  17006.56      1.00\n",
      "g_2[2,0,0]      2.89      1.27      2.82      0.39      5.29  15800.15      1.00\n",
      "g_2[2,1,0]     10.91      2.31     10.77      6.65     15.68  22877.92      1.00\n",
      "g_2[2,2,0]      3.56      1.47      3.43      0.85      6.48  23834.43      1.00\n",
      "g_2[2,3,0]      1.81      1.24      1.62      0.00      4.14  14054.10      1.00\n",
      "g_2[2,4,0]     19.20      7.76     18.62      4.63     33.98  11179.74      1.00\n",
      "g_2[2,5,0]      0.64      0.54      0.50      0.00      1.70  23279.72      1.00\n",
      "g_2[2,6,0]     11.99      2.83     11.84      6.57     17.53  22441.41      1.00\n",
      "g_2[2,7,0]     22.35      6.16     21.99     10.67     34.46  14390.70      1.00\n",
      "g_2[3,0,0]      2.41      1.40      2.27      0.00      4.93  16651.23      1.00\n",
      "g_2[3,1,0]      6.99      1.56      6.91      3.94     10.02  24004.65      1.00\n",
      "g_2[3,2,0]      1.43      0.92      1.31      0.00      3.14  17710.91      1.00\n",
      "g_2[3,3,0]      1.53      1.15      1.31      0.00      3.74  18255.88      1.00\n",
      "g_2[3,4,0]      6.82      2.80      6.49      1.93     12.48  16979.61      1.00\n",
      "g_2[3,5,0]      0.51      0.57      0.35      0.00      1.59    720.12      1.01\n",
      "g_2[3,6,0]      4.54      1.77      4.45      1.19      8.19   2647.74      1.00\n",
      "g_2[3,7,0]      9.94      4.97      9.39      1.19     19.86   8557.40      1.00\n",
      "  v[0,0,0]      1.06      2.31      0.44      0.00      3.72   3256.01      1.00\n",
      "  v[0,1,0]      2.00      1.83      1.60      0.00      5.02   7554.74      1.00\n",
      "  v[0,2,0]      0.23      0.23      0.15      0.00      0.69   8825.09      1.00\n",
      "  v[0,3,0]      0.71      1.60      0.33      0.00      2.26   1649.39      1.00\n",
      "  v[0,4,0]      2.09      1.64      1.79      0.00      5.16   4091.93      1.00\n",
      "  v[0,5,0]      8.48      4.71      7.42      1.60     17.90   9061.11      1.00\n",
      "  v[0,6,0]      0.39      0.42      0.27      0.00      1.18  10060.02      1.00\n",
      "  v[0,7,0]     11.73      7.42     10.11      0.70     26.23   7535.47      1.00\n",
      "  v[1,0,0]      0.62      0.83      0.34      0.00      2.13   6270.58      1.00\n",
      "  v[1,1,0]      7.45      5.81      5.89      0.01     18.83   7202.82      1.00\n",
      "  v[1,2,0]      1.56      1.63      1.11      0.00      4.55   4704.19      1.00\n",
      "  v[1,3,0]      6.97      4.96      5.66      0.58     16.90   6591.42      1.00\n",
      "  v[1,4,0]      2.36      2.53      1.59      0.00      7.29   4915.53      1.00\n",
      "  v[1,5,0]      8.13      4.47      7.12      1.78     17.07   9351.43      1.00\n",
      "  v[1,6,0]      3.59      4.06      2.34      0.00     11.35   7303.96      1.00\n",
      "  v[1,7,0]      6.04      6.17      4.23      0.00     17.90   9028.57      1.00\n",
      "  v[2,0,0]      1.88      3.11      0.74      0.00      7.84   3755.19      1.00\n",
      "  v[2,1,0]      8.06      6.32      6.37      0.08     20.56   6894.81      1.00\n",
      "  v[2,2,0]      1.21      1.45      0.77      0.00      3.73   4700.91      1.00\n",
      "  v[2,3,0]      4.59      3.08      3.85      0.32     10.67   5460.43      1.00\n",
      "  v[2,4,0]      0.48      0.51      0.31      0.00      1.49   8458.44      1.00\n",
      "  v[2,5,0]      2.55      0.86      2.43      1.07      4.27   8134.55      1.00\n",
      "  v[2,6,0]      7.11      5.07      5.73      0.76     17.23   6112.29      1.00\n",
      "  v[2,7,0]     23.01     14.64     21.54      0.00     49.72   5332.17      1.00\n",
      "  v[3,0,0]      1.80      3.07      0.66      0.00      7.75   3551.45      1.00\n",
      "  v[3,1,0]      9.61      7.76      7.64      0.01     24.61   8083.06      1.00\n",
      "  v[3,2,0]      2.93      2.69      2.33      0.00      8.04   4337.08      1.00\n",
      "  v[3,3,0]      1.13      1.15      0.82      0.00      3.19   5724.11      1.00\n",
      "  v[3,4,0]      1.01      1.08      0.66      0.00      3.10   7417.12      1.00\n",
      "  v[3,5,0]      1.07      1.45      0.69      0.00      3.50    568.44      1.01\n",
      "  v[3,6,0]      6.58      4.39      5.40      1.14     15.30   6469.27      1.00\n",
      "  v[3,7,0]      5.70      7.53      3.04      0.00     20.93   4137.15      1.00\n",
      "  µ_a[0,0]    160.79     24.81    161.48    109.91    209.48  13109.74      1.00\n",
      "  µ_a[1,0]    147.95     32.40    148.95     82.29    211.75  20092.71      1.00\n",
      "  µ_a[2,0]    140.33     31.83    141.04     76.34    202.82  17967.89      1.00\n",
      "  µ_a[3,0]    115.66     34.79    115.58     45.73    184.03  17933.31      1.00\n",
      "  µ_a[4,0]     33.99     14.16     32.17      3.27     61.14   8092.74      1.00\n",
      "  µ_a[5,0]    126.02     18.37    126.03     88.36    163.62  10152.01      1.00\n",
      "  µ_a[6,0]     78.38     22.16     76.52     36.68    128.34  13561.63      1.00\n",
      "  µ_a[7,0]     50.83     18.48     48.68     14.54     90.60  12110.18      1.00\n",
      "  σ_H[0,0]      2.74      1.46      2.37      0.81      5.69  12567.98      1.00\n",
      "  σ_H[1,0]      6.09      2.51      5.64      2.08     11.13  14823.86      1.00\n",
      "  σ_H[2,0]      2.85      1.28      2.54      1.09      5.39  16603.75      1.00\n",
      "  σ_H[3,0]      7.14      2.40      6.79      3.13     11.91  11409.50      1.00\n",
      "  σ_H[4,0]      4.03      1.80      3.63      1.39      7.65  13252.91      1.00\n",
      "  σ_H[5,0]      8.83      2.50      8.50      4.61     13.91  16437.32      1.00\n",
      "  σ_H[6,0]      6.99      2.57      6.58      2.62     12.05  13133.09      1.00\n",
      "  σ_H[7,0]      1.69      1.25      1.31      0.35      4.19   8784.74      1.00\n",
      "  σ_L[0,0]      0.04      0.02      0.04      0.02      0.07  20449.85      1.00\n",
      "  σ_L[1,0]      0.03      0.01      0.03      0.01      0.06  16427.07      1.00\n",
      "  σ_L[2,0]      0.04      0.01      0.03      0.02      0.07  21073.50      1.00\n",
      "  σ_L[3,0]      0.10      0.02      0.10      0.06      0.15  19763.09      1.00\n",
      "  σ_L[4,0]      0.03      0.01      0.02      0.01      0.05  14621.69      1.00\n",
      "  σ_L[5,0]      0.05      0.02      0.05      0.03      0.09  20437.52      1.00\n",
      "  σ_L[6,0]      0.03      0.01      0.02      0.01      0.05  18028.36      1.00\n",
      "  σ_L[7,0]      0.03      0.01      0.02      0.01      0.05  17518.70      1.00\n",
      "  σ_a[0,0]     54.44     19.91     50.38     24.42     95.35  16983.36      1.00\n",
      "  σ_a[1,0]     79.67     22.07     76.42     41.82    123.42  23514.08      1.00\n",
      "  σ_a[2,0]     75.73     22.03     72.16     38.74    119.69  21511.28      1.00\n",
      "  σ_a[3,0]     87.92     23.05     84.95     47.39    134.24  26243.18      1.00\n",
      "  σ_a[4,0]     21.69     16.68     16.05      4.34     55.87  10731.40      1.00\n",
      "  σ_a[5,0]     35.33     17.87     31.24      8.63     73.41   5922.29      1.00\n",
      "  σ_a[6,0]     43.21     20.29     38.44     14.28     84.34  16124.13      1.00\n",
      "  σ_a[7,0]     31.60     19.00     26.04      7.81     70.83  13559.33      1.00\n",
      "  σ_b[0,0]      0.02      0.02      0.02      0.00      0.06   5023.26      1.00\n",
      "  σ_b[1,0]      0.04      0.03      0.04      0.01      0.10   7859.56      1.00\n",
      "  σ_b[2,0]      0.05      0.03      0.04      0.01      0.10  10109.60      1.00\n",
      "  σ_b[3,0]      0.06      0.03      0.05      0.01      0.13   7234.17      1.00\n",
      "  σ_b[4,0]      0.04      0.02      0.03      0.01      0.09   7114.96      1.00\n",
      "  σ_b[5,0]      0.07      0.03      0.07      0.02      0.14  12018.94      1.00\n",
      "  σ_b[6,0]      0.05      0.03      0.04      0.01      0.11   6792.32      1.00\n",
      "  σ_b[7,0]      0.06      0.04      0.06      0.01      0.13   8445.12      1.00\n",
      "  σ_v[0,0]      2.24      2.95      1.16      0.00      8.17   3439.66      1.00\n",
      "  σ_v[1,0]      8.83      5.06      7.91      0.98     18.82   6219.69      1.00\n",
      "  σ_v[2,0]      2.76      2.52      2.12      0.00      7.62   5234.35      1.00\n",
      "  σ_v[3,0]      5.67      3.63      4.75      0.70     13.05   6597.96      1.00\n",
      "  σ_v[4,0]      2.66      2.35      2.01      0.00      7.26   5374.28      1.00\n",
      "  σ_v[5,0]      7.65      3.88      6.85      1.81     15.40  10105.91      1.00\n",
      "  σ_v[6,0]      6.73      4.07      5.76      1.08     14.93   6508.20      1.00\n",
      "  σ_v[7,0]     13.46      6.38     12.97      1.97     25.46   5653.57      1.00\n",
      "\n",
      "Number of divergences: 304\n"
     ]
    }
   ],
   "source": [
    "mcmc.print_summary(prob=.95)\n"
   ]
  },
  {
   "cell_type": "code",
   "execution_count": 9,
   "metadata": {},
   "outputs": [
    {
     "name": "stderr",
     "output_type": "stream",
     "text": [
      "2023-08-09 13:30:23,308 - hbmep.model.baseline - INFO - Generating predictions ...\n"
     ]
    },
    {
     "name": "stderr",
     "output_type": "stream",
     "text": [
      "2023-08-09 13:31:02,619 - hbmep.utils.utils - INFO - func:predict took: 39.30 sec\n",
      "2023-08-09 13:31:02,853 - hbmep.model.baseline - INFO - Rendering recruitment curves ...\n",
      "2023-08-09 13:31:19,011 - hbmep.model.baseline - INFO - Saved to /home/vishu/repos/hbmep-paper/reports/J_RCML_000/biceps/recruitment_curves.pdf\n",
      "2023-08-09 13:31:19,012 - hbmep.utils.utils - INFO - func:render_recruitment_curves took: 55.70 sec\n"
     ]
    }
   ],
   "source": [
    "model.render_recruitment_curves(df=df, encoder_dict=encoder_dict, posterior_samples=posterior_samples)\n",
    "\n"
   ]
  },
  {
   "cell_type": "code",
   "execution_count": 10,
   "metadata": {},
   "outputs": [
    {
     "name": "stderr",
     "output_type": "stream",
     "text": [
      "2023-08-09 13:31:19,048 - hbmep.model.baseline - INFO - Generating predictions ...\n"
     ]
    },
    {
     "name": "stderr",
     "output_type": "stream",
     "text": [
      "2023-08-09 13:32:02,977 - hbmep.utils.utils - INFO - func:predict took: 43.92 sec\n",
      "2023-08-09 13:32:03,432 - hbmep.model.baseline - INFO - Rendering Posterior Predictive Check ...\n",
      "2023-08-09 13:32:23,718 - hbmep.model.baseline - INFO - Saved to /home/vishu/repos/hbmep-paper/reports/J_RCML_000/biceps/posterior_predictive_check.pdf\n",
      "2023-08-09 13:32:23,720 - hbmep.utils.utils - INFO - func:render_predictive_check took: 1 min and 4.67 sec\n"
     ]
    }
   ],
   "source": [
    "model.render_predictive_check(df=df, encoder_dict=encoder_dict, posterior_samples=posterior_samples)\n"
   ]
  },
  {
   "cell_type": "code",
   "execution_count": 11,
   "metadata": {},
   "outputs": [
    {
     "name": "stderr",
     "output_type": "stream",
     "text": [
      "2023-08-09 13:32:23,860 - hbmep.model.baseline - INFO - Saving inference data ...\n"
     ]
    },
    {
     "name": "stderr",
     "output_type": "stream",
     "text": [
      "2023-08-09 13:32:49,869 - hbmep.model.baseline - INFO - Saved to /home/vishu/repos/hbmep-paper/reports/J_RCML_000/biceps/mcmc.nc\n",
      "2023-08-09 13:32:49,870 - hbmep.model.baseline - INFO - Rendering convergence diagnostics ...\n",
      "2023-08-09 13:33:24,225 - hbmep.model.baseline - INFO - Saved to /home/vishu/repos/hbmep-paper/reports/J_RCML_000/biceps/diagnostics.csv\n",
      "2023-08-09 13:33:24,226 - hbmep.model.baseline - INFO - Evaluating model ...\n",
      "/home/vishu/repos/hbmep-paper/.venv/lib/python3.11/site-packages/arviz/stats/stats.py:803: UserWarning: Estimated shape parameter of Pareto distribution is greater than 0.7 for one or more samples. You should consider using a more robust model, this is because importance sampling is less likely to work well if the marginal posterior and LOO posterior are very different. This is more likely to happen with a non-robust model and highly influential observations.\n",
      "  warnings.warn(\n",
      "2023-08-09 13:33:29,532 - hbmep.model.baseline - INFO - ELPD LOO (Log): 1432.28\n",
      "/home/vishu/repos/hbmep-paper/.venv/lib/python3.11/site-packages/arviz/stats/stats.py:1645: UserWarning: For one or more samples the posterior variance of the log predictive densities exceeds 0.4. This could be indication of WAIC starting to fail. \n",
      "See http://arxiv.org/abs/1507.04544 for details\n",
      "  warnings.warn(\n",
      "2023-08-09 13:33:30,049 - hbmep.model.baseline - INFO - ELPD WAIC (Log): 1449.37\n",
      "2023-08-09 13:33:30,056 - hbmep.utils.utils - INFO - func:save took: 1 min and 6.20 sec\n"
     ]
    }
   ],
   "source": [
    "model.save(mcmc=mcmc)"
   ]
  },
  {
   "cell_type": "code",
   "execution_count": null,
   "metadata": {},
   "outputs": [],
   "source": []
  }
 ],
 "metadata": {
  "kernelspec": {
   "display_name": ".venv",
   "language": "python",
   "name": "python3"
  },
  "language_info": {
   "codemirror_mode": {
    "name": "ipython",
    "version": 3
   },
   "file_extension": ".py",
   "mimetype": "text/x-python",
   "name": "python",
   "nbconvert_exporter": "python",
   "pygments_lexer": "ipython3",
   "version": "3.11.4"
  },
  "orig_nbformat": 4,
  "vscode": {
   "interpreter": {
    "hash": "850bfd4e6f5ddd996dd5cd5088beecd08558625e274540230e1444ec52025b11"
   }
  }
 },
 "nbformat": 4,
 "nbformat_minor": 2
}
