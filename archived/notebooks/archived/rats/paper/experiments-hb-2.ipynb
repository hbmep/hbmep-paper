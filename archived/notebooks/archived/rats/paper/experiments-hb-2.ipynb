{
 "cells": [
  {
   "cell_type": "code",
   "execution_count": 1,
   "metadata": {},
   "outputs": [],
   "source": [
    "%reload_ext autoreload\n",
    "%autoreload 2\n",
    "\n",
    "import os\n",
    "from pathlib import Path\n",
    "import multiprocessing\n",
    "\n",
    "import numpy as np\n",
    "import jax\n",
    "import numpyro\n",
    "\n",
    "from hbmep.config import Config\n",
    "from hbmep.model import Model\n",
    "from hbmep.model.utils import Site as site\n",
    "\n",
    "from hbmep_paper.model import HierarchicalBayesian\n",
    "from hbmep_paper.utils import simulate, run_experiment\n",
    "\n",
    "PLATFORM = \"cpu\"\n",
    "jax.config.update(\"jax_platforms\", PLATFORM)\n",
    "numpyro.set_platform(PLATFORM)\n",
    "\n",
    "cpu_count = multiprocessing.cpu_count() - 2\n",
    "numpyro.set_host_device_count(cpu_count)\n",
    "numpyro.enable_x64()\n",
    "numpyro.enable_validation()\n",
    "\n"
   ]
  },
  {
   "cell_type": "code",
   "execution_count": 2,
   "metadata": {},
   "outputs": [
    {
     "name": "stderr",
     "output_type": "stream",
     "text": [
      "2023-08-02 14:27:52,566 - hbmep.config - INFO - Verifying configuration ...\n",
      "2023-08-02 14:27:52,566 - hbmep.config - INFO - Success!\n"
     ]
    }
   ],
   "source": [
    "root_path = Path(os.getcwd()).parent.parent.parent.absolute()\n",
    "toml_path = os.path.join(root_path, \"configs/experiments.toml\")\n",
    "\n",
    "config = Config(toml_path=toml_path)\n",
    "config.BUILD_DIR = \"/home/vishu/repos/hbmep-paper/reports/reparam/\"\n"
   ]
  },
  {
   "cell_type": "code",
   "execution_count": 3,
   "metadata": {},
   "outputs": [
    {
     "name": "stderr",
     "output_type": "stream",
     "text": [
      "2023-08-02 14:27:52,638 - hbmep.model.baseline - INFO - Initialized model with rectified_logistic link\n",
      "2023-08-02 14:27:52,639 - hbmep_paper.utils.utils - INFO - Simulating data ...\n"
     ]
    },
    {
     "name": "stderr",
     "output_type": "stream",
     "text": [
      "2023-08-02 14:27:55,210 - hbmep.utils.utils - INFO - func:predict took: 2.57 sec\n",
      "2023-08-02 14:27:55,211 - hbmep.utils.utils - INFO - func:simulate took: 2.57 sec\n",
      "2023-08-02 14:27:55,212 - hbmep.model.baseline - INFO - Initialized model with rectified_logistic link\n",
      "2023-08-02 14:27:55,213 - hbmep.dataset.core - INFO - Artefacts will be stored here - /home/vishu/repos/hbmep-paper/reports/reparam/\n",
      "2023-08-02 14:27:55,213 - hbmep.dataset.core - INFO - Copied config to /home/vishu/repos/hbmep-paper/reports/reparam/\n",
      "2023-08-02 14:27:55,214 - hbmep.dataset.core - INFO - Processing data ...\n",
      "2023-08-02 14:27:55,215 - hbmep.utils.utils - INFO - func:load took: 0.00 sec\n"
     ]
    }
   ],
   "source": [
    "import pandas as pd\n",
    "\n",
    "from numpyro.infer import MCMC, NUTS, Predictive\n",
    "\n",
    "\n",
    "import jax.numpy as jnp\n",
    "import numpyro.distributions as dist\n",
    "\n",
    "from hbmep.model import Baseline\n",
    "from hbmep.utils.constants import RECTIFIED_LOGISTIC\n",
    "from hbmep.utils import timing\n",
    "\n",
    "from numpyro.infer.reparam import TransformReparam\n",
    "from numpyro.distributions.transforms import AffineTransform, AbsTransform\n",
    "\n",
    "\n",
    "class RectifiedLogistic(Baseline):\n",
    "    LINK = RECTIFIED_LOGISTIC\n",
    "\n",
    "    def __init__(self, config: Config):\n",
    "        super(RectifiedLogistic, self).__init__(config=config)\n",
    "\n",
    "    def _model(self, subject, features, intensity, response_obs=None):\n",
    "        intensity = intensity.reshape(-1, 1)\n",
    "        intensity = np.tile(intensity, (1, self.n_response))\n",
    "\n",
    "        feature0 = features[0].reshape(-1,)\n",
    "\n",
    "        n_data = intensity.shape[0]\n",
    "        n_subject = np.unique(subject).shape[0]\n",
    "        n_feature0 = np.unique(feature0).shape[0]\n",
    "\n",
    "        with numpyro.plate(site.n_response, self.n_response, dim=-1):\n",
    "            with numpyro.plate(site.n_subject, n_subject, dim=-2):\n",
    "                \"\"\" Hyper-priors \"\"\"\n",
    "                # _mu_a = numpyro.deterministic(\"_mu_a\", 0)\n",
    "                # _sigma_a = numpyro.deterministic(\"_sigma_a\", 1)\n",
    "                mu_a = numpyro.sample(\n",
    "                    site.mu_a,\n",
    "                    dist.TruncatedNormal(150, 50, low=0)\n",
    "                )\n",
    "                sigma_a = numpyro.sample(site.sigma_a, dist.HalfNormal(50))\n",
    "\n",
    "                sigma_b = numpyro.sample(site.sigma_b, dist.HalfNormal(0.1))\n",
    "\n",
    "                sigma_L = numpyro.sample(site.sigma_L, dist.HalfNormal(0.05))\n",
    "                sigma_H = numpyro.sample(site.sigma_H, dist.HalfNormal(5))\n",
    "                sigma_v = numpyro.sample(site.sigma_v, dist.HalfNormal(10))\n",
    "\n",
    "                with numpyro.plate(\"n_feature0\", n_feature0, dim=-3):\n",
    "                    \"\"\" Priors \"\"\"\n",
    "                    # a = numpyro.sample(\n",
    "                    #     site.a,\n",
    "                    #     dist.TruncatedNormal(mu_a, sigma_a, low=0)\n",
    "                    # )\n",
    "                    # b = numpyro.sample(site.b, dist.HalfNormal(sigma_b))\n",
    "\n",
    "                    # L = numpyro.sample(site.L, dist.HalfNormal(sigma_L))\n",
    "                    # H = numpyro.sample(site.H, dist.HalfNormal(sigma_H))\n",
    "                    # v = numpyro.sample(site.v, dist.HalfNormal(sigma_v))\n",
    "\n",
    "                    reparam_config = {\n",
    "                        var: TransformReparam() for var in [site.a, site.b, site.L, site.H, site.v]\n",
    "                    }\n",
    "\n",
    "                    with numpyro.handlers.reparam(config=reparam_config):\n",
    "                        a = numpyro.sample(\n",
    "                            site.a,\n",
    "                            dist.TransformedDistribution(\n",
    "                                dist.Normal(0, 1),\n",
    "                                [AffineTransform(mu_a, sigma_a), AbsTransform()]\n",
    "                            )\n",
    "                        )\n",
    "                        b = numpyro.sample(\n",
    "                            site.b,\n",
    "                            dist.TransformedDistribution(\n",
    "                                dist.Normal(0, 1),\n",
    "                                [AffineTransform(0, sigma_b), AbsTransform()]\n",
    "                            )\n",
    "                        )\n",
    "\n",
    "                        L = numpyro.sample(\n",
    "                            site.L,\n",
    "                            dist.TransformedDistribution(\n",
    "                                dist.Normal(0, 1),\n",
    "                                [AffineTransform(0, sigma_L), AbsTransform()]\n",
    "                            )\n",
    "                        )\n",
    "                        H = numpyro.sample(\n",
    "                            site.H,\n",
    "                            dist.TransformedDistribution(\n",
    "                                dist.Normal(0, 1),\n",
    "                                [AffineTransform(0, sigma_H), AbsTransform()]\n",
    "                            )\n",
    "                        )\n",
    "                        v = numpyro.sample(\n",
    "                            site.v,\n",
    "                            dist.TransformedDistribution(\n",
    "                                dist.Normal(0, 1),\n",
    "                                [AffineTransform(0, sigma_v), AbsTransform()]\n",
    "                            )\n",
    "                        )\n",
    "\n",
    "                    g_1 = numpyro.sample(site.g_1, dist.Exponential(0.01))\n",
    "                    g_2 = numpyro.sample(site.g_2, dist.Exponential(0.01))\n",
    "\n",
    "        \"\"\" Model \"\"\"\n",
    "        mu = numpyro.deterministic(\n",
    "            site.mu,\n",
    "            L[feature0, subject]\n",
    "            + jnp.maximum(\n",
    "                0,\n",
    "                -1\n",
    "                + (H[feature0, subject] + 1)\n",
    "                / jnp.power(\n",
    "                    1\n",
    "                    + (jnp.power(1 + H[feature0, subject], v[feature0, subject]) - 1)\n",
    "                    * jnp.exp(-b[feature0, subject] * (intensity - a[feature0, subject])),\n",
    "                    1 / v[feature0, subject]\n",
    "                )\n",
    "            )\n",
    "        )\n",
    "        beta = numpyro.deterministic(\n",
    "            site.beta,\n",
    "            g_1[feature0, subject] + g_2[feature0, subject] * (1 / mu)\n",
    "        )\n",
    "\n",
    "        \"\"\" Observation \"\"\"\n",
    "        with numpyro.plate(site.data, n_data):\n",
    "            return numpyro.sample(\n",
    "                site.obs,\n",
    "                dist.Gamma(concentration=mu * beta, rate=beta).to_event(1),\n",
    "                obs=response_obs\n",
    "            )\n",
    "\n",
    "    # @timing\n",
    "    # def run_inference(self, df: pd.DataFrame) -> tuple[numpyro.infer.mcmc.MCMC, dict]:\n",
    "    #     \"\"\" Set up NUTS sampler \"\"\"\n",
    "    #     nuts_kernel = NUTS(self._model, init_strategy=numpyro.infer.init_to_sample, max_tree_depth=20)\n",
    "    #     mcmc = MCMC(nuts_kernel, **self.mcmc_params)\n",
    "    #     rng_key = jax.random.PRNGKey(self.random_state)\n",
    "\n",
    "    #     \"\"\" MCMC inference \"\"\"\n",
    "    #     mcmc.run(rng_key, *self._collect_regressors(df=df), *self._collect_response(df=df))\n",
    "    #     posterior_samples = mcmc.get_samples()\n",
    "    #     return mcmc, posterior_samples\n",
    "\n",
    "\n",
    "simulator = RectifiedLogistic(config=config)\n",
    "\n",
    "simulation_params = {\n",
    "    \"n_subject\": 5,\n",
    "    \"n_feature0\": 15,\n",
    "    \"n_repeats\": 100\n",
    "}\n",
    "df, posterior_samples_true = simulate(model=simulator, **simulation_params)\n",
    "obs = np.array(posterior_samples_true[site.obs])\n",
    "\n",
    "# # ind = df[[\"participant\", \"compound_position\"]].apply(tuple, axis=1).isin([(0, 0)])\n",
    "# ind = df.participant.isin([2])\n",
    "# df = df[ind].copy()\n",
    "# df.reset_index(drop=True, inplace=True)\n",
    "# obs = obs[:, ind, :]\n",
    "\n",
    "model = RectifiedLogistic(config=config)\n",
    "df[model.response] = obs[0, ...]\n",
    "\n",
    "df, encoder_dict = model.load(df=df)\n",
    "\n"
   ]
  },
  {
   "cell_type": "code",
   "execution_count": 4,
   "metadata": {},
   "outputs": [
    {
     "name": "stderr",
     "output_type": "stream",
     "text": [
      "2023-08-02 14:28:00,666 - hbmep.dataset.core - INFO - Plotting dataset ...\n",
      "2023-08-02 14:28:14,264 - hbmep.dataset.core - INFO - Saved to /home/vishu/repos/hbmep-paper/reports/reparam/dataset.pdf\n",
      "2023-08-02 14:28:14,264 - hbmep.utils.utils - INFO - func:plot took: 13.60 sec\n"
     ]
    }
   ],
   "source": [
    "model.plot(df=df, encoder_dict=encoder_dict)"
   ]
  },
  {
   "cell_type": "code",
   "execution_count": 5,
   "metadata": {},
   "outputs": [
    {
     "name": "stderr",
     "output_type": "stream",
     "text": [
      "2023-08-02 14:29:31,275 - hbmep.model.baseline - INFO - Running inference with rectified_logistic ...\n"
     ]
    },
    {
     "data": {
      "application/vnd.jupyter.widget-view+json": {
       "model_id": "9b7cb42c4d8e428ebf6b5481c14e8d4c",
       "version_major": 2,
       "version_minor": 0
      },
      "text/plain": [
       "  0%|          | 0/10000 [00:00<?, ?it/s]"
      ]
     },
     "metadata": {},
     "output_type": "display_data"
    },
    {
     "data": {
      "application/vnd.jupyter.widget-view+json": {
       "model_id": "f80f25b85732435c9c656761afc365c9",
       "version_major": 2,
       "version_minor": 0
      },
      "text/plain": [
       "  0%|          | 0/10000 [00:00<?, ?it/s]"
      ]
     },
     "metadata": {},
     "output_type": "display_data"
    },
    {
     "data": {
      "application/vnd.jupyter.widget-view+json": {
       "model_id": "3cf10050a750491aa63f687d0473320a",
       "version_major": 2,
       "version_minor": 0
      },
      "text/plain": [
       "  0%|          | 0/10000 [00:00<?, ?it/s]"
      ]
     },
     "metadata": {},
     "output_type": "display_data"
    },
    {
     "data": {
      "application/vnd.jupyter.widget-view+json": {
       "model_id": "38dab8e2115b46898e9b8168ec0e50ba",
       "version_major": 2,
       "version_minor": 0
      },
      "text/plain": [
       "  0%|          | 0/10000 [00:00<?, ?it/s]"
      ]
     },
     "metadata": {},
     "output_type": "display_data"
    }
   ],
   "source": [
    "mcmc, posterior_samples = model.run_inference(df=df)"
   ]
  },
  {
   "cell_type": "code",
   "execution_count": null,
   "metadata": {},
   "outputs": [
    {
     "ename": "NameError",
     "evalue": "name 'mcmc' is not defined",
     "output_type": "error",
     "traceback": [
      "\u001b[0;31m---------------------------------------------------------------------------\u001b[0m",
      "\u001b[0;31mNameError\u001b[0m                                 Traceback (most recent call last)",
      "Cell \u001b[0;32mIn[1], line 1\u001b[0m\n\u001b[0;32m----> 1\u001b[0m mcmc\u001b[39m.\u001b[39mprint_summary(prob\u001b[39m=\u001b[39m\u001b[39m.95\u001b[39m)\n",
      "\u001b[0;31mNameError\u001b[0m: name 'mcmc' is not defined"
     ]
    }
   ],
   "source": [
    "mcmc.print_summary(prob=.95)"
   ]
  },
  {
   "cell_type": "code",
   "execution_count": null,
   "metadata": {},
   "outputs": [
    {
     "name": "stderr",
     "output_type": "stream",
     "text": [
      "2023-08-02 13:55:02,118 - hbmep.model.baseline - INFO - Generating predictions ...\n",
      "2023-08-02 13:55:07,365 - hbmep.utils.utils - INFO - func:predict took: 5.24 sec\n",
      "2023-08-02 13:55:07,387 - hbmep.model.baseline - INFO - Rendering recruitment curves ...\n",
      "2023-08-02 13:55:09,222 - hbmep.model.baseline - INFO - Saved to /home/vishu/repos/hbmep-paper/reports/reparam/recruitment_curves.pdf\n",
      "2023-08-02 13:55:09,223 - hbmep.utils.utils - INFO - func:render_recruitment_curves took: 7.10 sec\n"
     ]
    }
   ],
   "source": [
    "model.render_recruitment_curves(df=df, encoder_dict=encoder_dict, posterior_samples=posterior_samples)\n"
   ]
  },
  {
   "cell_type": "code",
   "execution_count": null,
   "metadata": {},
   "outputs": [
    {
     "name": "stderr",
     "output_type": "stream",
     "text": [
      "2023-08-02 13:55:09,331 - hbmep.model.baseline - INFO - Generating predictions ...\n",
      "2023-08-02 13:55:14,501 - hbmep.utils.utils - INFO - func:predict took: 5.17 sec\n",
      "2023-08-02 13:55:14,538 - hbmep.model.baseline - INFO - Rendering Posterior Predictive Check ...\n",
      "2023-08-02 13:55:17,750 - hbmep.model.baseline - INFO - Saved to /home/vishu/repos/hbmep-paper/reports/reparam/posterior_predictive_check.pdf\n",
      "2023-08-02 13:55:17,751 - hbmep.utils.utils - INFO - func:render_predictive_check took: 8.42 sec\n"
     ]
    }
   ],
   "source": [
    "model.render_predictive_check(df=df, encoder_dict=encoder_dict, posterior_samples=posterior_samples)\n"
   ]
  },
  {
   "cell_type": "code",
   "execution_count": 8,
   "metadata": {},
   "outputs": [],
   "source": [
    "import arviz as az\n",
    "import numpy as np\n",
    "import matplotlib.pyplot as plt\n",
    "import seaborn as sns\n",
    "\n",
    "posterior_samples_2 = mcmc.get_samples(group_by_chain=True)\n",
    "a = np.array(posterior_samples_2[\"a\"])\n",
    "a_base = np.array(posterior_samples_2[\"a_base\"])\n",
    "µ_a = np.array(posterior_samples_2[\"µ_a\"])\n",
    "H = np.array(posterior_samples_2[\"H\"])"
   ]
  },
  {
   "cell_type": "code",
   "execution_count": null,
   "metadata": {},
   "outputs": [],
   "source": [
    "a_dict = {\"a\": posterior_samples_2[\"a\"]}"
   ]
  },
  {
   "cell_type": "code",
   "execution_count": 11,
   "metadata": {},
   "outputs": [
    {
     "data": {
      "text/plain": [
       "1.0049830437306058"
      ]
     },
     "execution_count": 11,
     "metadata": {},
     "output_type": "execute_result"
    }
   ],
   "source": [
    "var = \"\"\n",
    "\n",
    "az.rhat(posterior_samples_2, var_names=[var])[var].to_numpy().max()"
   ]
  },
  {
   "cell_type": "code",
   "execution_count": null,
   "metadata": {},
   "outputs": [
    {
     "data": {
      "image/png": "[encoded data removed]",
      "text/plain": [
       "<Figure size 640x480 with 1 Axes>"
      ]
     },
     "metadata": {},
     "output_type": "display_data"
    }
   ],
   "source": [
    "p, q, r = 1,0,0\n",
    "\n",
    "color = iter(plt.cm.rainbow(np.linspace(0, 1, 4)))\n",
    "x = np.linspace(0, 1, 6000)\n",
    "\n",
    "for i in range(4):\n",
    "    c = next(color)\n",
    "    # sns.lineplot(x=x, y=a_base[i, :, p, q, r], color=c, label=f\"chain={i+1}\")\n",
    "    sns.lineplot(x=x, y=µ_a[i, :, 0, 0], color=c, label=f\"chain={i+1}\")\n",
    "\n"
   ]
  }
 ],
 "metadata": {
  "kernelspec": {
   "display_name": ".venv",
   "language": "python",
   "name": "python3"
  },
  "language_info": {
   "codemirror_mode": {
    "name": "ipython",
    "version": 3
   },
   "file_extension": ".py",
   "mimetype": "text/x-python",
   "name": "python",
   "nbconvert_exporter": "python",
   "pygments_lexer": "ipython3",
   "version": "3.11.4"
  },
  "orig_nbformat": 4,
  "vscode": {
   "interpreter": {
    "hash": "850bfd4e6f5ddd996dd5cd5088beecd08558625e274540230e1444ec52025b11"
   }
  }
 },
 "nbformat": 4,
 "nbformat_minor": 2
}
