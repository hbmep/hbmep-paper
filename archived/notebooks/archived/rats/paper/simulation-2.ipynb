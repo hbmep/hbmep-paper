{
 "cells": [
  {
   "cell_type": "code",
   "execution_count": 1,
   "metadata": {},
   "outputs": [],
   "source": [
    "%reload_ext autoreload\n",
    "%autoreload 2\n",
    "\n",
    "import os\n",
    "from pathlib import Path\n",
    "import multiprocessing\n",
    "\n",
    "import jax\n",
    "import jax.numpy as jnp\n",
    "import pandas as pd\n",
    "import numpy as np\n",
    "import numpyro\n",
    "import numpyro.distributions as dist\n",
    "\n",
    "from hbmep.config import Config\n",
    "from hbmep.model import Baseline\n",
    "from hbmep.model.utils import Site as site\n",
    "from hbmep.utils.constants import RECTIFIED_LOGISTIC\n",
    "\n",
    "PLATFORM = \"cpu\"\n",
    "jax.config.update(\"jax_platforms\", PLATFORM)\n",
    "numpyro.set_platform(PLATFORM)\n",
    "\n",
    "cpu_count = multiprocessing.cpu_count() - 2\n",
    "numpyro.set_host_device_count(cpu_count)\n",
    "numpyro.enable_x64()\n"
   ]
  },
  {
   "attachments": {},
   "cell_type": "markdown",
   "metadata": {},
   "source": [
    "#### Load config"
   ]
  },
  {
   "cell_type": "code",
   "execution_count": 2,
   "metadata": {},
   "outputs": [
    {
     "name": "stderr",
     "output_type": "stream",
     "text": [
      "2023-07-18 14:32:18,169 - hbmep.config - INFO - Verifying configuration ...\n",
      "2023-07-18 14:32:18,169 - hbmep.config - INFO - Success!\n"
     ]
    }
   ],
   "source": [
    "root_path = Path(os.getcwd()).parent.parent.parent.absolute()\n",
    "toml_path = os.path.join(root_path, \"configs/simulation.toml\")\n",
    "\n",
    "config = Config(toml_path=toml_path)\n"
   ]
  },
  {
   "attachments": {},
   "cell_type": "markdown",
   "metadata": {},
   "source": [
    "#### Load data and preprocess"
   ]
  },
  {
   "cell_type": "code",
   "execution_count": 3,
   "metadata": {},
   "outputs": [],
   "source": [
    "# class RectifiedLogistic(Baseline):\n",
    "#     def __init__(self, config: Config):\n",
    "#         super(RectifiedLogistic, self).__init__(config=config)\n",
    "#         self.link = RECTIFIED_LOGISTIC\n",
    "\n",
    "#     def _model(self, subject, features, intensity, response_obs=None):\n",
    "#         intensity = intensity.reshape(-1, 1)\n",
    "#         intensity = np.tile(intensity, (1, self.n_response))\n",
    "\n",
    "#         feature0 = features[0].reshape(-1,)\n",
    "\n",
    "#         n_data = intensity.shape[0]\n",
    "#         n_subject = np.unique(subject).shape[0]\n",
    "#         n_feature0 = np.unique(feature0).shape[0]\n",
    "\n",
    "#         with numpyro.plate(site.n_response, self.n_response, dim=-1):\n",
    "#             with numpyro.plate(site.n_subject, n_subject, dim=-2):\n",
    "#                 \"\"\" Hyper-priors \"\"\"\n",
    "#                 mu_a = numpyro.sample(\n",
    "#                     site.mu_a,\n",
    "#                     dist.TruncatedNormal(100, 100, low=0)\n",
    "#                 )\n",
    "#                 sigma_a = numpyro.sample(site.sigma_a, dist.HalfCauchy(20))\n",
    "\n",
    "#                 sigma_b = numpyro.sample(site.sigma_b, dist.HalfCauchy(0.5))\n",
    "\n",
    "#                 sigma_L = numpyro.sample(site.sigma_L, dist.HalfCauchy(0.05))\n",
    "#                 sigma_H = numpyro.sample(site.sigma_H, dist.HalfCauchy(5))\n",
    "#                 sigma_v = numpyro.sample(site.sigma_v, dist.HalfCauchy(5))\n",
    "\n",
    "#                 with numpyro.plate(\"n_feature0\", n_feature0, dim=-3):\n",
    "#                     \"\"\" Priors \"\"\"\n",
    "#                     a = numpyro.sample(\n",
    "#                         site.a,\n",
    "#                         dist.TruncatedNormal(mu_a, sigma_a, low=0)\n",
    "#                     )\n",
    "#                     b = numpyro.sample(site.b, dist.HalfNormal(sigma_b))\n",
    "\n",
    "#                     L = numpyro.sample(site.L, dist.HalfNormal(sigma_L))\n",
    "#                     H = numpyro.sample(site.H, dist.HalfNormal(sigma_H))\n",
    "#                     v = numpyro.sample(site.v, dist.HalfNormal(sigma_v))\n",
    "\n",
    "#                     p = numpyro.sample(site.p, dist.HalfNormal(10))\n",
    "\n",
    "#                     g_1 = numpyro.sample(\n",
    "#                         site.g_1, dist.HalfCauchy(20)\n",
    "#                     )\n",
    "#                     g_2 = numpyro.sample(\n",
    "#                         site.g_2, dist.HalfCauchy(20)\n",
    "#                     )\n",
    "\n",
    "#         \"\"\" Model \"\"\"\n",
    "#         mu = numpyro.deterministic(\n",
    "#             site.mu,\n",
    "#             L[feature0, subject]\n",
    "#             + jnp.maximum(\n",
    "#                 0,\n",
    "#                 -1\n",
    "#                 + (H[feature0, subject] + 1)\n",
    "#                 / jnp.power(\n",
    "#                     1\n",
    "#                     + (jnp.power(1 + H[feature0, subject], v[feature0, subject]) - 1)\n",
    "#                     * jnp.exp(-b[feature0, subject] * (intensity - a[feature0, subject])),\n",
    "#                     1 / v[feature0, subject]\n",
    "#                 )\n",
    "#             )\n",
    "#         )\n",
    "#         beta = numpyro.deterministic(\n",
    "#             site.beta,\n",
    "#             g_1[feature0, subject]\n",
    "#             + g_2[feature0, subject] * jnp.power(1 / mu, p[feature0, subject])\n",
    "#         )\n",
    "\n",
    "#         with numpyro.plate(site.data, n_data):\n",
    "#             return numpyro.sample(\n",
    "#                 site.obs,\n",
    "#                 dist.Gamma(mu * beta, beta).to_event(1),\n",
    "#                 obs=response_obs\n",
    "#             )\n",
    "\n",
    "\n",
    "# model = RectifiedLogistic(config=config)"
   ]
  },
  {
   "cell_type": "code",
   "execution_count": 4,
   "metadata": {},
   "outputs": [],
   "source": [
    "# class RectifiedLogistic(Baseline):\n",
    "#     def __init__(self, config: Config):\n",
    "#         super(RectifiedLogistic, self).__init__(config=config)\n",
    "#         self.link = RECTIFIED_LOGISTIC\n",
    "\n",
    "#         self.mu_a = config.PRIORS[site.mu_a]\n",
    "#         self.sigma_a = config.PRIORS[site.sigma_a]\n",
    "\n",
    "#         self.sigma_b = config.PRIORS[site.sigma_b]\n",
    "\n",
    "#         self.sigma_L = config.PRIORS[site.sigma_L]\n",
    "#         self.sigma_H = config.PRIORS[site.sigma_H]\n",
    "#         self.sigma_v = config.PRIORS[site.sigma_v]\n",
    "\n",
    "#         self.g_1 = config.PRIORS[site.g_1]\n",
    "#         self.g_2 = config.PRIORS[site.g_2]\n",
    "\n",
    "#         self.p = config.PRIORS[site.p]\n",
    "\n",
    "#     def _model(self, subject, features, intensity, response_obs=None):\n",
    "#         intensity = intensity.reshape(-1, 1)\n",
    "#         intensity = np.tile(intensity, (1, self.n_response))\n",
    "\n",
    "#         feature0 = features[0].reshape(-1,)\n",
    "\n",
    "#         n_data = intensity.shape[0]\n",
    "#         n_subject = np.unique(subject).shape[0]\n",
    "#         n_feature0 = np.unique(feature0).shape[0]\n",
    "\n",
    "#         with numpyro.plate(site.n_response, self.n_response, dim=-1):\n",
    "#             with numpyro.plate(site.n_subject, n_subject, dim=-2):\n",
    "#                 \"\"\" Hyper-priors \"\"\"\n",
    "#                 mu_a = numpyro.sample(\n",
    "#                     site.mu_a,\n",
    "#                     dist.TruncatedNormal(150, 20, low=0)\n",
    "#                 )\n",
    "#                 sigma_a = numpyro.sample(site.sigma_a, dist.HalfNormal(20))\n",
    "\n",
    "#                 sigma_b = numpyro.sample(site.sigma_b, dist.HalfNormal(0.1))\n",
    "\n",
    "#                 sigma_L = numpyro.sample(site.sigma_L, dist.HalfNormal(0.05))\n",
    "#                 sigma_H = numpyro.sample(site.sigma_H, dist.HalfNormal(5))\n",
    "#                 sigma_v = numpyro.sample(site.sigma_v, dist.HalfNormal(5))\n",
    "\n",
    "#                 with numpyro.plate(\"n_feature0\", n_feature0, dim=-3):\n",
    "#                     \"\"\" Priors \"\"\"\n",
    "#                     a = numpyro.sample(\n",
    "#                         site.a,\n",
    "#                         dist.TruncatedNormal(mu_a, sigma_a, low=0)\n",
    "#                     )\n",
    "#                     b = numpyro.sample(site.b, dist.HalfNormal(sigma_b))\n",
    "\n",
    "#                     L = numpyro.sample(site.L, dist.HalfNormal(sigma_L))\n",
    "#                     H = numpyro.sample(site.H, dist.HalfNormal(sigma_H))\n",
    "#                     v = numpyro.sample(site.v, dist.HalfNormal(sigma_v))\n",
    "\n",
    "#                     g_1 = numpyro.sample(\n",
    "#                         site.g_1, dist.HalfCauchy(20)\n",
    "#                     )\n",
    "#                     g_2 = numpyro.sample(\n",
    "#                         site.g_2, dist.HalfCauchy(20)\n",
    "#                     )\n",
    "\n",
    "#                     p = numpyro.sample(site.p, dist.HalfCauchy(10))\n",
    "\n",
    "#         \"\"\" Model \"\"\"\n",
    "#         mu = numpyro.deterministic(\n",
    "#             site.mu,\n",
    "#             L[feature0, subject]\n",
    "#             + jnp.maximum(\n",
    "#                 0,\n",
    "#                 -1\n",
    "#                 + (H[feature0, subject] + 1)\n",
    "#                 / jnp.power(\n",
    "#                     1\n",
    "#                     + (jnp.power(1 + H[feature0, subject], v[feature0, subject]) - 1)\n",
    "#                     * jnp.exp(-b[feature0, subject] * (intensity - a[feature0, subject])),\n",
    "#                     1 / v[feature0, subject]\n",
    "#                 )\n",
    "#             )\n",
    "#         )\n",
    "#         beta = numpyro.deterministic(\n",
    "#             site.beta,\n",
    "#             g_1[feature0, subject]\n",
    "#             + g_2[feature0, subject] * (1 / (mu + 1 + p[feature0, subject]))\n",
    "#         )\n",
    "\n",
    "#         with numpyro.plate(site.data, n_data):\n",
    "#             return numpyro.sample(\n",
    "#                 site.obs,\n",
    "#                 dist.Gamma(mu * beta, beta).to_event(1),\n",
    "#                 obs=response_obs\n",
    "#             )\n",
    "\n",
    "\n",
    "# model = RectifiedLogistic(config=config)"
   ]
  },
  {
   "cell_type": "code",
   "execution_count": 5,
   "metadata": {},
   "outputs": [],
   "source": [
    "class RectifiedLogistic(Baseline):\n",
    "    def __init__(self, config: Config):\n",
    "        super(RectifiedLogistic, self).__init__(config=config)\n",
    "        self.link = RECTIFIED_LOGISTIC\n",
    "\n",
    "        self.mu_a = config.PRIORS[site.mu_a]\n",
    "        self.sigma_a = config.PRIORS[site.sigma_a]\n",
    "\n",
    "        self.sigma_b = config.PRIORS[site.sigma_b]\n",
    "\n",
    "        self.sigma_L = config.PRIORS[site.sigma_L]\n",
    "        self.sigma_H = config.PRIORS[site.sigma_H]\n",
    "        self.sigma_v = config.PRIORS[site.sigma_v]\n",
    "\n",
    "        self.g_1 = config.PRIORS[site.g_1]\n",
    "        self.g_2 = config.PRIORS[site.g_2]\n",
    "\n",
    "        self.p = config.PRIORS[site.p]\n",
    "\n",
    "    def _model(self, subject, features, intensity, response_obs=None):\n",
    "        intensity = intensity.reshape(-1, 1)\n",
    "        intensity = np.tile(intensity, (1, self.n_response))\n",
    "\n",
    "        feature0 = features[0].reshape(-1,)\n",
    "\n",
    "        n_data = intensity.shape[0]\n",
    "        n_subject = np.unique(subject).shape[0]\n",
    "        n_feature0 = np.unique(feature0).shape[0]\n",
    "\n",
    "        with numpyro.plate(site.n_response, self.n_response, dim=-1):\n",
    "            with numpyro.plate(site.n_subject, n_subject, dim=-2):\n",
    "                \"\"\" Hyper-priors \"\"\"\n",
    "                mu_a = numpyro.sample(\n",
    "                    site.mu_a,\n",
    "                    dist.TruncatedNormal(150, 20, low=0)\n",
    "                )\n",
    "                sigma_a = numpyro.sample(site.sigma_a, dist.HalfNormal(20))\n",
    "\n",
    "                sigma_b = numpyro.sample(site.sigma_b, dist.HalfNormal(0.1))\n",
    "\n",
    "                sigma_L = numpyro.sample(site.sigma_L, dist.HalfNormal(0.05))\n",
    "                sigma_H = numpyro.sample(site.sigma_H, dist.HalfNormal(5))\n",
    "                sigma_v = numpyro.sample(site.sigma_v, dist.HalfNormal(5))\n",
    "\n",
    "                with numpyro.plate(\"n_feature0\", n_feature0, dim=-3):\n",
    "                    \"\"\" Priors \"\"\"\n",
    "                    a = numpyro.sample(\n",
    "                        site.a,\n",
    "                        dist.TruncatedNormal(mu_a, sigma_a, low=0)\n",
    "                    )\n",
    "                    b = numpyro.sample(site.b, dist.HalfNormal(sigma_b))\n",
    "\n",
    "                    L = numpyro.sample(site.L, dist.HalfNormal(sigma_L))\n",
    "                    H = numpyro.sample(site.H, dist.HalfNormal(sigma_H))\n",
    "                    v = numpyro.sample(site.v, dist.HalfNormal(sigma_v))\n",
    "\n",
    "                    g_1 = numpyro.sample(\n",
    "                        site.g_1, dist.HalfCauchy(20)\n",
    "                    )\n",
    "                    g_2 = numpyro.sample(\n",
    "                        site.g_2, dist.HalfCauchy(20)\n",
    "                    )\n",
    "\n",
    "                    p = numpyro.sample(site.p, dist.HalfCauchy(10))\n",
    "                    # p = numpyro.sample(site.p, dist.Gamma(2, 0.005))\n",
    "\n",
    "        \"\"\" Model \"\"\"\n",
    "        mu = numpyro.deterministic(\n",
    "            site.mu,\n",
    "            L[feature0, subject]\n",
    "            + jnp.maximum(\n",
    "                0,\n",
    "                -1\n",
    "                + (H[feature0, subject] + 1)\n",
    "                / jnp.power(\n",
    "                    1\n",
    "                    + (jnp.power(1 + H[feature0, subject], v[feature0, subject]) - 1)\n",
    "                    * jnp.exp(-b[feature0, subject] * (intensity - a[feature0, subject])),\n",
    "                    1 / v[feature0, subject]\n",
    "                )\n",
    "            )\n",
    "        )\n",
    "        beta = numpyro.deterministic(\n",
    "            site.beta,\n",
    "            g_1[feature0, subject]\n",
    "            + g_2[feature0, subject] * jnp.power(1 / (mu + 1), p[feature0, subject])\n",
    "        )\n",
    "\n",
    "        with numpyro.plate(site.data, n_data):\n",
    "            return numpyro.sample(\n",
    "                site.obs,\n",
    "                dist.Gamma(mu * beta, beta).to_event(1),\n",
    "                obs=response_obs\n",
    "            )\n",
    "\n",
    "\n",
    "model = RectifiedLogistic(config=config)"
   ]
  },
  {
   "cell_type": "code",
   "execution_count": 6,
   "metadata": {},
   "outputs": [
    {
     "name": "stderr",
     "output_type": "stream",
     "text": [
      "2023-07-18 14:32:20,879 - hbmep.model.baseline - INFO - Simulating data ...\n"
     ]
    },
    {
     "name": "stdout",
     "output_type": "stream",
     "text": [
      "[3, 2]\n",
      "[(0, 0), (0, 1), (1, 0), (1, 1), (2, 0), (2, 1)]\n",
      "[(0, 0), (0, 1), (1, 0), (2, 0), (2, 1)]\n"
     ]
    },
    {
     "name": "stderr",
     "output_type": "stream",
     "text": [
      "2023-07-18 14:32:23,235 - hbmep.model.baseline - INFO - obs (90, 2)\n",
      "2023-07-18 14:32:25,409 - hbmep.model.baseline - INFO - obs (180, 2)\n",
      "2023-07-18 14:32:27,651 - hbmep.model.baseline - INFO - obs (270, 2)\n",
      "2023-07-18 14:32:29,873 - hbmep.model.baseline - INFO - obs (360, 2)\n",
      "2023-07-18 14:32:32,105 - hbmep.model.baseline - INFO - obs (450, 2)\n",
      "2023-07-18 14:32:32,108 - hbmep.utils.utils - INFO - func:simulate took: 11.50 sec\n"
     ]
    }
   ],
   "source": [
    "df = model.simulate()"
   ]
  },
  {
   "cell_type": "code",
   "execution_count": 7,
   "metadata": {},
   "outputs": [
    {
     "name": "stderr",
     "output_type": "stream",
     "text": [
      "2023-07-18 14:32:32,468 - hbmep.dataset.core - INFO - Artefacts will be stored here - /home/vishu/repos/reports/paper/simulation/run01\n",
      "2023-07-18 14:32:32,468 - hbmep.dataset.core - INFO - Copied config to /home/vishu/repos/reports/paper/simulation/run01\n",
      "2023-07-18 14:32:32,469 - hbmep.dataset.core - INFO - Processing data ...\n",
      "2023-07-18 14:32:32,470 - hbmep.utils.utils - INFO - func:load took: 0.00 sec\n"
     ]
    }
   ],
   "source": [
    "df, encoder_dict = model.load(df=df)"
   ]
  },
  {
   "cell_type": "code",
   "execution_count": 8,
   "metadata": {},
   "outputs": [
    {
     "name": "stderr",
     "output_type": "stream",
     "text": [
      "2023-07-18 14:32:33,118 - hbmep.dataset.core - INFO - Plotting dataset ...\n"
     ]
    },
    {
     "name": "stderr",
     "output_type": "stream",
     "text": [
      "2023-07-18 14:32:34,245 - hbmep.dataset.core - INFO - Saved to /home/vishu/repos/reports/paper/simulation/run01/dataset.pdf\n",
      "2023-07-18 14:32:34,245 - hbmep.utils.utils - INFO - func:plot took: 1.13 sec\n"
     ]
    }
   ],
   "source": [
    "model.plot(df=df, encoder_dict=encoder_dict)"
   ]
  },
  {
   "cell_type": "code",
   "execution_count": 9,
   "metadata": {},
   "outputs": [
    {
     "name": "stderr",
     "output_type": "stream",
     "text": [
      "2023-07-18 14:32:34,674 - hbmep.model.baseline - INFO - Running inference with rectified_logistic ...\n"
     ]
    },
    {
     "data": {
      "application/vnd.jupyter.widget-view+json": {
       "model_id": "a6fab58dc18543519cf133aad8755d71",
       "version_major": 2,
       "version_minor": 0
      },
      "text/plain": [
       "  0%|          | 0/10000 [00:00<?, ?it/s]"
      ]
     },
     "metadata": {},
     "output_type": "display_data"
    },
    {
     "data": {
      "application/vnd.jupyter.widget-view+json": {
       "model_id": "f159d1fe88ab43deb17564f7a562dc11",
       "version_major": 2,
       "version_minor": 0
      },
      "text/plain": [
       "  0%|          | 0/10000 [00:00<?, ?it/s]"
      ]
     },
     "metadata": {},
     "output_type": "display_data"
    },
    {
     "data": {
      "application/vnd.jupyter.widget-view+json": {
       "model_id": "72e6000e59a444f2badc13db16e81c99",
       "version_major": 2,
       "version_minor": 0
      },
      "text/plain": [
       "  0%|          | 0/10000 [00:00<?, ?it/s]"
      ]
     },
     "metadata": {},
     "output_type": "display_data"
    },
    {
     "data": {
      "application/vnd.jupyter.widget-view+json": {
       "model_id": "2a722d313f894c03b2350489e55ab00a",
       "version_major": 2,
       "version_minor": 0
      },
      "text/plain": [
       "  0%|          | 0/10000 [00:00<?, ?it/s]"
      ]
     },
     "metadata": {},
     "output_type": "display_data"
    }
   ],
   "source": [
    "mcmc, posterior_samples = model.run_inference(df=df)\n"
   ]
  },
  {
   "cell_type": "code",
   "execution_count": null,
   "metadata": {},
   "outputs": [
    {
     "name": "stdout",
     "output_type": "stream",
     "text": [
      "\n",
      "                mean       std    median      2.5%     97.5%     n_eff     r_hat\n",
      "  H[0,0,0]      1.65      2.87      0.24      0.00      7.49   6580.94      1.00\n",
      "  H[0,0,1]      0.86      0.67      0.75      0.52      1.35   2803.90      1.00\n",
      "  H[0,1,0]      2.66      0.01      2.66      2.65      2.67   9334.37      1.00\n",
      "  H[0,1,1]      0.81      0.05      0.80      0.71      0.91  13616.08      1.00\n",
      "  H[0,2,0]      2.65      3.02      1.64      0.00      8.50  12391.05      1.00\n",
      "  H[0,2,1]      2.33      2.84      1.37      0.00      7.88   9412.37      1.00\n",
      "  H[1,0,0]      3.19      1.23      2.87      1.88      5.34   6482.08      1.00\n",
      "  H[1,0,1]      0.28      0.72      0.17      0.10      0.58   1210.05      1.00\n",
      "  H[1,1,0]      3.29      3.43      2.23      0.00     10.03   8384.47      1.00\n",
      "  H[1,1,1]      2.10      2.71      1.16      0.00      7.33  12036.33      1.00\n",
      "  H[1,2,0]      1.51      0.03      1.51      1.45      1.57  21443.90      1.00\n",
      "  H[1,2,1]      1.07      0.18      1.03      0.80      1.42   6019.18      1.00\n",
      "  L[0,0,0]      0.11      0.01      0.11      0.09      0.13  13546.20      1.00\n",
      "  L[0,0,1]      0.07      0.01      0.07      0.05      0.08   1123.83      1.00\n",
      "  L[0,1,0]      0.00      0.00      0.00      0.00      0.00  26596.31      1.00\n",
      "  L[0,1,1]      0.08      0.01      0.08      0.07      0.10    857.02      1.01\n",
      "  L[0,2,0]      0.01      0.02      0.00      0.00      0.05  14792.02      1.00\n",
      "  L[0,2,1]      0.01      0.02      0.00      0.00      0.07    190.17      1.02\n",
      "  L[1,0,0]      0.15      0.02      0.15      0.10      0.20   3465.98      1.00\n",
      "  L[1,0,1]      0.02      0.00      0.02      0.02      0.03  19055.81      1.00\n",
      "  L[1,1,0]      0.02      0.03      0.01      0.00      0.07   2164.99      1.00\n",
      "  L[1,1,1]      0.05      0.05      0.04      0.00      0.15   2451.93      1.00\n",
      "  L[1,2,0]      0.00      0.00      0.00      0.00      0.00  17323.88      1.00\n",
      "  L[1,2,1]      0.00      0.00      0.00      0.00      0.00   8037.76      1.00\n",
      "  a[0,0,0]    136.08     19.08    134.83     99.42    177.56   3981.76      1.00\n",
      "  a[0,0,1]    125.20     10.63    126.16    103.51    143.15   1708.15      1.00\n",
      "  a[0,1,0]    164.28      0.18    164.26    163.98    164.62  10172.80      1.00\n",
      "  a[0,1,1]    138.77      3.37    138.64    132.26    145.55  18614.73      1.00\n",
      "  a[0,2,0]    147.87     19.42    147.11    104.74    188.94   9066.64      1.00\n",
      "  a[0,2,1]    170.99     25.81    176.36    112.39    217.98   7462.41      1.00\n",
      "  a[1,0,0]    128.90      7.91    128.58    113.58    145.36  13555.28      1.00\n",
      "  a[1,0,1]    198.16     10.42    200.66    175.34    210.43    592.46      1.00\n",
      "  a[1,1,0]    159.79     21.20    162.85    108.07    198.91   7748.76      1.00\n",
      "  a[1,1,1]    141.60     21.02    139.99    102.77    190.28   1161.49      1.01\n",
      "  a[1,2,0]    146.33      0.77    146.47    144.69    147.61   7605.40      1.00\n",
      "  a[1,2,1]    184.48      0.93    184.43    182.95    186.36  12852.66      1.00\n",
      "  b[0,0,0]      0.02      0.04      0.00      0.00      0.08   6834.21      1.00\n",
      "  b[0,0,1]      0.01      0.01      0.01      0.00      0.03   9538.83      1.00\n",
      "  b[0,1,0]      0.05      0.00      0.05      0.05      0.05   2185.16      1.00\n",
      "  b[0,1,1]      0.02      0.00      0.02      0.01      0.03   7592.13      1.00\n",
      "  b[0,2,0]      0.12      0.10      0.09      0.00      0.32  18996.94      1.00\n",
      "  b[0,2,1]      0.04      0.05      0.02      0.00      0.15  11263.83      1.00\n",
      "  b[1,0,0]      0.04      0.03      0.03      0.00      0.10   8576.21      1.00\n",
      "  b[1,0,1]      0.07      0.05      0.05      0.00      0.16   3669.05      1.00\n",
      "  b[1,1,0]      0.07      0.07      0.05      0.00      0.20  18716.60      1.00\n",
      "  b[1,1,1]      0.04      0.05      0.03      0.00      0.15  15742.11      1.00\n",
      "  b[1,2,0]      0.20      0.06      0.19      0.11      0.32    745.79      1.01\n",
      "  b[1,2,1]      0.02      0.01      0.01      0.01      0.03   5629.52      1.00\n",
      "g_1[0,0,0]     24.75      8.15     26.13      6.01     38.67   6962.42      1.00\n",
      "g_1[0,0,1]     20.45      6.48     21.36      5.13     31.83   8154.39      1.00\n",
      "g_1[0,1,0]   2970.86    560.20   2949.62   2116.91   4131.44    309.61      1.02\n",
      "g_1[0,1,1]     55.44     15.75     57.65     17.82     85.18   6791.94      1.00\n",
      "g_1[0,2,0]    115.89   1216.58     21.06      0.00    250.33  14530.21      1.00\n",
      "g_1[0,2,1]    141.25   4961.18     20.85      0.00    256.31  18834.31      1.00\n",
      "g_1[1,0,0]      0.05      0.05      0.03      0.00      0.14  17696.43      1.00\n",
      "g_1[1,0,1]      5.37      1.99      5.71      0.12      8.09    229.94      1.02\n",
      "g_1[1,1,0]    207.04   5790.86     19.10      0.00    259.58  11719.61      1.00\n",
      "g_1[1,1,1]    207.25  13323.96     21.13      0.00    234.95  19421.01      1.00\n",
      "g_1[1,2,0]     31.47     10.39     32.45      7.39     50.51   7741.66      1.00\n",
      "g_1[1,2,1]    387.25    115.59    397.35      0.85    545.34    747.06      1.01\n",
      "g_2[0,0,0]     52.12    125.58     23.14      0.00    183.70  12580.48      1.00\n",
      "g_2[0,0,1]     45.93     94.83     20.43      0.00    167.10  11917.49      1.00\n",
      "g_2[0,1,0]    518.28   8263.13     20.92      0.00    294.88   1266.96      1.00\n",
      "g_2[0,1,1]     80.40    260.44     22.31      0.00    313.35   9833.94      1.00\n",
      "g_2[0,2,0]    228.96  17441.39     20.27      0.00    248.46  22427.09      1.00\n",
      "g_2[0,2,1]    103.99   1862.26     20.73      0.00    255.20  22248.76      1.00\n",
      "g_2[1,0,0]      2.38      0.31      2.36      1.79      3.01  13434.66      1.00\n",
      "g_2[1,0,1]     28.08    142.03     14.68      0.00     84.56  13552.32      1.00\n",
      "g_2[1,1,0]    109.57   1062.81     19.41      0.00    266.40  15933.55      1.00\n",
      "g_2[1,1,1]    104.55   1477.36     19.14      0.01    236.72  19008.83      1.00\n",
      "g_2[1,2,0]     63.39    169.53     23.76      0.00    234.56  12115.54      1.00\n",
      "g_2[1,2,1]    330.51   1910.65     21.68      0.00   1344.94   1540.45      1.00\n",
      "  p[0,0,0]     56.26   1623.13      9.41      0.00    106.60  22254.19      1.00\n",
      "  p[0,0,1]     76.14   1997.68     10.02      0.00    115.95  15033.38      1.00\n",
      "  p[0,1,0]     76.43   1868.58     10.09      0.00    124.59  11378.02      1.00\n",
      "  p[0,1,1]     50.18   1300.68      9.40      0.00    111.11  16885.39      1.00\n",
      "  p[0,2,0]    351.60  26212.31      9.76      0.00    124.59   7938.15      1.00\n",
      "  p[0,2,1]     70.80   1705.66     10.30      0.00    124.26  21545.52      1.00\n",
      "  p[1,0,0]      0.12      0.14      0.07      0.00      0.36  11305.83      1.00\n",
      "  p[1,0,1]    226.56  16169.77     14.08      0.01    160.33  21251.62      1.00\n",
      "  p[1,1,0]     94.34   3276.56      9.65      0.00    137.43  19430.14      1.00\n",
      "  p[1,1,1]     51.38    750.32     10.34      0.00    117.33  16879.60      1.00\n",
      "  p[1,2,0]     45.89    550.72      9.46      0.00    107.80  12323.15      1.00\n",
      "  p[1,2,1]     43.54    387.06      9.16      0.00    114.15  15423.63      1.00\n",
      "  v[0,0,0]      4.62      5.02      3.00      0.00     14.86  10366.87      1.00\n",
      "  v[0,0,1]      2.41      3.01      1.33      0.00      8.35   6784.03      1.00\n",
      "  v[0,1,0]      0.31      0.10      0.31      0.11      0.49   1821.43      1.00\n",
      "  v[0,1,1]      0.89      1.01      0.57      0.00      2.84   6364.32      1.00\n",
      "  v[0,2,0]      2.43      3.08      1.29      0.00      8.65    626.03      1.01\n",
      "  v[0,2,1]      3.00      3.44      1.86      0.00      9.90   4361.25      1.00\n",
      "  v[1,0,0]      3.26      3.34      2.23      0.00     10.00   8737.37      1.00\n",
      "  v[1,0,1]      2.49      3.11      1.35      0.00      8.72   8131.84      1.00\n",
      "  v[1,1,0]      1.65      2.44      0.75      0.00      6.35  12224.63      1.00\n",
      "  v[1,1,1]      2.03      2.78      1.04      0.00      7.35  16833.82      1.00\n",
      "  v[1,2,0]      1.25      1.20      0.89      0.02      3.57   2463.33      1.00\n",
      "  v[1,2,1]      2.46      1.83      2.11      0.00      5.91   4777.87      1.00\n",
      "  µ_a[0,0]    136.22     13.07    135.16    110.48    162.40  11757.79      1.00\n",
      "  µ_a[0,1]    155.03     15.12    155.01    125.70    185.39   7381.97      1.00\n",
      "  µ_a[1,0]    159.91     11.65    162.30    132.72    181.24   9532.88      1.00\n",
      "  µ_a[1,1]    141.68     11.89    140.60    119.46    167.77    737.34      1.01\n",
      "  µ_a[2,0]    147.71     10.69    146.99    125.03    170.46   1542.14      1.00\n",
      "  µ_a[2,1]    170.81     15.43    173.79    138.05    195.73   3587.73      1.00\n",
      "  σ_H[0,0]      3.99      2.29      3.42      0.79      8.45   2587.25      1.00\n",
      "  σ_H[0,1]      1.59      1.53      1.05      0.20      4.78   4697.17      1.00\n",
      "  σ_H[1,0]      4.15      2.35      3.58      0.97      8.88   3342.00      1.00\n",
      "  σ_H[1,1]      2.67      2.19      1.93      0.27      7.25  16925.70      1.00\n",
      "  σ_H[2,0]      3.37      2.23      2.77      0.57      7.94  19388.28      1.00\n",
      "  σ_H[2,1]      2.92      2.26      2.24      0.31      7.60   1604.07      1.00\n",
      "  σ_L[0,0]      0.09      0.02      0.09      0.05      0.14  21940.07      1.00\n",
      "  σ_L[0,1]      0.06      0.02      0.05      0.02      0.10  21304.72      1.00\n",
      "  σ_L[1,0]      0.02      0.02      0.02      0.00      0.07  13801.39      1.00\n",
      "  σ_L[1,1]      0.07      0.02      0.07      0.03      0.12  20286.65      1.00\n",
      "  σ_L[2,0]      0.01      0.02      0.01      0.00      0.06  10640.16      1.00\n",
      "  σ_L[2,1]      0.02      0.02      0.01      0.00      0.06    622.80      1.01\n",
      "  σ_a[0,0]     14.58     10.55     12.85      0.18     34.76   7660.59      1.00\n",
      "  σ_a[0,1]     31.98      9.80     30.83     15.19     52.47   6342.47      1.00\n",
      "  σ_a[1,0]     13.97     10.91     11.61      0.17     35.01   1179.13      1.01\n",
      "  σ_a[1,1]     13.62     10.56     11.07      0.15     34.07   5174.09      1.00\n",
      "  σ_a[2,0]     13.26     10.24     10.63      0.14     33.38   6330.15      1.00\n",
      "  σ_a[2,1]     17.76     11.84     16.05      0.26     39.61   5500.69      1.00\n",
      "  σ_b[0,0]      0.05      0.04      0.04      0.00      0.14  12927.44      1.00\n",
      "  σ_b[0,1]      0.07      0.05      0.06      0.00      0.16   3369.46      1.00\n",
      "  σ_b[1,0]      0.08      0.05      0.07      0.02      0.18  22087.49      1.00\n",
      "  σ_b[1,1]      0.06      0.04      0.04      0.01      0.15   4536.94      1.00\n",
      "  σ_b[2,0]      0.15      0.05      0.14      0.06      0.25   9496.65      1.00\n",
      "  σ_b[2,1]      0.05      0.04      0.04      0.00      0.14   9302.81      1.00\n",
      "  σ_v[0,0]      4.59      3.08      4.04      0.00     10.44  10859.08      1.00\n",
      "  σ_v[0,1]      3.40      2.75      2.72      0.00      8.87   3425.57      1.00\n",
      "  σ_v[1,0]      2.07      2.14      1.27      0.01      6.41   1282.93      1.00\n",
      "  σ_v[1,1]      2.53      2.37      1.78      0.00      7.38   9486.98      1.00\n",
      "  σ_v[2,0]      2.98      2.49      2.29      0.01      7.90    687.13      1.01\n",
      "  σ_v[2,1]      3.80      2.62      3.26      0.00      8.84   2859.17      1.00\n",
      "\n",
      "Number of divergences: 3595\n"
     ]
    }
   ],
   "source": [
    "mcmc.print_summary(prob=.95)\n"
   ]
  },
  {
   "cell_type": "code",
   "execution_count": null,
   "metadata": {},
   "outputs": [
    {
     "name": "stderr",
     "output_type": "stream",
     "text": [
      "2023-07-18 14:00:39,372 - hbmep.model.baseline - INFO - Rendering recruitment curves ...\n"
     ]
    },
    {
     "ename": "IndexError",
     "evalue": "Too many indices for array: 5 non-None/Ellipsis indices for dim 4.",
     "output_type": "error",
     "traceback": [
      "\u001b[0;31m---------------------------------------------------------------------------\u001b[0m",
      "\u001b[0;31mIndexError\u001b[0m                                Traceback (most recent call last)",
      "Cell \u001b[0;32mIn[12], line 1\u001b[0m\n\u001b[0;32m----> 1\u001b[0m model\u001b[39m.\u001b[39;49mrender_recruitment_curves(df\u001b[39m=\u001b[39;49mdf, encoder_dict\u001b[39m=\u001b[39;49mencoder_dict, posterior_samples\u001b[39m=\u001b[39;49mposterior_samples)\n",
      "File \u001b[0;32m~/repos/hbmep/src/hbmep/utils/utils.py:15\u001b[0m, in \u001b[0;36mtiming.<locals>.wrap\u001b[0;34m(*args, **kw)\u001b[0m\n\u001b[1;32m     12\u001b[0m \u001b[39m@wraps\u001b[39m(f)\n\u001b[1;32m     13\u001b[0m \u001b[39mdef\u001b[39;00m \u001b[39mwrap\u001b[39m(\u001b[39m*\u001b[39margs, \u001b[39m*\u001b[39m\u001b[39m*\u001b[39mkw):\n\u001b[1;32m     14\u001b[0m     ts \u001b[39m=\u001b[39m time()\n\u001b[0;32m---> 15\u001b[0m     result \u001b[39m=\u001b[39m f(\u001b[39m*\u001b[39;49margs, \u001b[39m*\u001b[39;49m\u001b[39m*\u001b[39;49mkw)\n\u001b[1;32m     16\u001b[0m     te \u001b[39m=\u001b[39m time()\n\u001b[1;32m     17\u001b[0m     time_taken \u001b[39m=\u001b[39m te \u001b[39m-\u001b[39m ts\n",
      "File \u001b[0;32m~/repos/hbmep/src/hbmep/model/baseline.py:262\u001b[0m, in \u001b[0;36mBaseline.render_recruitment_curves\u001b[0;34m(self, df, encoder_dict, posterior_samples)\u001b[0m\n\u001b[1;32m    258\u001b[0m mu_posterior_mean \u001b[39m=\u001b[39m evaluate_posterior_mean(mu)\n\u001b[1;32m    260\u001b[0m \u001b[39m\u001b[39m\u001b[39m\"\"\" Threshold estimate \"\"\"\u001b[39;00m\n\u001b[1;32m    261\u001b[0m threshold, threshold_posterior, hpdi_interval \u001b[39m=\u001b[39m \\\n\u001b[0;32m--> 262\u001b[0m     \u001b[39mself\u001b[39;49m\u001b[39m.\u001b[39;49m_estimate_threshold(combination, posterior_samples)\n\u001b[1;32m    264\u001b[0m \u001b[39m\u001b[39m\u001b[39m\"\"\" Iterate over responses \"\"\"\u001b[39;00m\n\u001b[1;32m    265\u001b[0m \u001b[39mfor\u001b[39;00m (r, response) \u001b[39min\u001b[39;00m \u001b[39menumerate\u001b[39m(\u001b[39mself\u001b[39m\u001b[39m.\u001b[39mresponse):\n",
      "File \u001b[0;32m~/repos/hbmep/src/hbmep/model/baseline.py:142\u001b[0m, in \u001b[0;36mBaseline._estimate_threshold\u001b[0;34m(self, combination, posterior_samples, prob)\u001b[0m\n\u001b[1;32m    139\u001b[0m ind \u001b[39m=\u001b[39m ind[::\u001b[39m-\u001b[39m\u001b[39m1\u001b[39m]\n\u001b[1;32m    141\u001b[0m \u001b[39m\u001b[39m\u001b[39m\"\"\" Posterior mean \"\"\"\u001b[39;00m\n\u001b[0;32m--> 142\u001b[0m posterior_samples \u001b[39m=\u001b[39m posterior_samples[site\u001b[39m.\u001b[39;49ma][\u001b[39mtuple\u001b[39;49m(ind)]\n\u001b[1;32m    143\u001b[0m threshold \u001b[39m=\u001b[39m evaluate_posterior_mean(\n\u001b[1;32m    144\u001b[0m     posterior_samples\u001b[39m=\u001b[39mposterior_samples,\n\u001b[1;32m    145\u001b[0m     prob\u001b[39m=\u001b[39mprob\n\u001b[1;32m    146\u001b[0m )\n\u001b[1;32m    148\u001b[0m \u001b[39m\u001b[39m\u001b[39m\"\"\" HPDI Interval \"\"\"\u001b[39;00m\n",
      "File \u001b[0;32m~/repos/hbmep-paper/.venv/lib/python3.11/site-packages/jax/_src/array.py:317\u001b[0m, in \u001b[0;36mArrayImpl.__getitem__\u001b[0;34m(self, idx)\u001b[0m\n\u001b[1;32m    315\u001b[0m   \u001b[39mreturn\u001b[39;00m lax_numpy\u001b[39m.\u001b[39m_rewriting_take(\u001b[39mself\u001b[39m, idx)\n\u001b[1;32m    316\u001b[0m \u001b[39melse\u001b[39;00m:\n\u001b[0;32m--> 317\u001b[0m   \u001b[39mreturn\u001b[39;00m lax_numpy\u001b[39m.\u001b[39;49m_rewriting_take(\u001b[39mself\u001b[39;49m, idx)\n",
      "File \u001b[0;32m~/repos/hbmep-paper/.venv/lib/python3.11/site-packages/jax/_src/numpy/lax_numpy.py:4120\u001b[0m, in \u001b[0;36m_rewriting_take\u001b[0;34m(arr, idx, indices_are_sorted, unique_indices, mode, fill_value)\u001b[0m\n\u001b[1;32m   4117\u001b[0m       \u001b[39mreturn\u001b[39;00m lax\u001b[39m.\u001b[39mdynamic_index_in_dim(arr, idx, keepdims\u001b[39m=\u001b[39m\u001b[39mFalse\u001b[39;00m)\n\u001b[1;32m   4119\u001b[0m treedef, static_idx, dynamic_idx \u001b[39m=\u001b[39m _split_index_for_jit(idx, arr\u001b[39m.\u001b[39mshape)\n\u001b[0;32m-> 4120\u001b[0m \u001b[39mreturn\u001b[39;00m _gather(arr, treedef, static_idx, dynamic_idx, indices_are_sorted,\n\u001b[1;32m   4121\u001b[0m                unique_indices, mode, fill_value)\n",
      "File \u001b[0;32m~/repos/hbmep-paper/.venv/lib/python3.11/site-packages/jax/_src/numpy/lax_numpy.py:4129\u001b[0m, in \u001b[0;36m_gather\u001b[0;34m(arr, treedef, static_idx, dynamic_idx, indices_are_sorted, unique_indices, mode, fill_value)\u001b[0m\n\u001b[1;32m   4126\u001b[0m \u001b[39mdef\u001b[39;00m \u001b[39m_gather\u001b[39m(arr, treedef, static_idx, dynamic_idx, indices_are_sorted,\n\u001b[1;32m   4127\u001b[0m             unique_indices, mode, fill_value):\n\u001b[1;32m   4128\u001b[0m   idx \u001b[39m=\u001b[39m _merge_static_and_dynamic_indices(treedef, static_idx, dynamic_idx)\n\u001b[0;32m-> 4129\u001b[0m   indexer \u001b[39m=\u001b[39m _index_to_gather(shape(arr), idx)  \u001b[39m# shared with _scatter_update\u001b[39;00m\n\u001b[1;32m   4130\u001b[0m   y \u001b[39m=\u001b[39m arr\n\u001b[1;32m   4132\u001b[0m   \u001b[39mif\u001b[39;00m fill_value \u001b[39mis\u001b[39;00m \u001b[39mnot\u001b[39;00m \u001b[39mNone\u001b[39;00m:\n",
      "File \u001b[0;32m~/repos/hbmep-paper/.venv/lib/python3.11/site-packages/jax/_src/numpy/lax_numpy.py:4230\u001b[0m, in \u001b[0;36m_index_to_gather\u001b[0;34m(x_shape, idx, normalize_indices)\u001b[0m\n\u001b[1;32m   4227\u001b[0m \u001b[39mdef\u001b[39;00m \u001b[39m_index_to_gather\u001b[39m(x_shape: Sequence[\u001b[39mint\u001b[39m], idx: Sequence[Any],\n\u001b[1;32m   4228\u001b[0m                      normalize_indices: \u001b[39mbool\u001b[39m \u001b[39m=\u001b[39m \u001b[39mTrue\u001b[39;00m) \u001b[39m-\u001b[39m\u001b[39m>\u001b[39m _Indexer:\n\u001b[1;32m   4229\u001b[0m   \u001b[39m# Remove ellipses and add trailing slice(None)s.\u001b[39;00m\n\u001b[0;32m-> 4230\u001b[0m   idx \u001b[39m=\u001b[39m _canonicalize_tuple_index(\u001b[39mlen\u001b[39;49m(x_shape), idx)\n\u001b[1;32m   4232\u001b[0m   \u001b[39m# Check for advanced indexing:\u001b[39;00m\n\u001b[1;32m   4233\u001b[0m   \u001b[39m# https://docs.scipy.org/doc/numpy/reference/arrays.indexing.html#advanced-indexing\u001b[39;00m\n\u001b[1;32m   4234\u001b[0m \n\u001b[1;32m   4235\u001b[0m   \u001b[39m# Do the advanced indexing axes appear contiguously? If not, NumPy semantics\u001b[39;00m\n\u001b[1;32m   4236\u001b[0m   \u001b[39m# move the advanced axes to the front.\u001b[39;00m\n\u001b[1;32m   4237\u001b[0m   advanced_axes_are_contiguous \u001b[39m=\u001b[39m \u001b[39mFalse\u001b[39;00m\n",
      "File \u001b[0;32m~/repos/hbmep-paper/.venv/lib/python3.11/site-packages/jax/_src/numpy/lax_numpy.py:4563\u001b[0m, in \u001b[0;36m_canonicalize_tuple_index\u001b[0;34m(arr_ndim, idx, array_name)\u001b[0m\n\u001b[1;32m   4561\u001b[0m len_without_none \u001b[39m=\u001b[39m \u001b[39msum\u001b[39m(\u001b[39m1\u001b[39m \u001b[39mfor\u001b[39;00m e \u001b[39min\u001b[39;00m idx \u001b[39mif\u001b[39;00m e \u001b[39mis\u001b[39;00m \u001b[39mnot\u001b[39;00m \u001b[39mNone\u001b[39;00m \u001b[39mand\u001b[39;00m e \u001b[39mis\u001b[39;00m \u001b[39mnot\u001b[39;00m \u001b[39mEllipsis\u001b[39m)\n\u001b[1;32m   4562\u001b[0m \u001b[39mif\u001b[39;00m len_without_none \u001b[39m>\u001b[39m arr_ndim:\n\u001b[0;32m-> 4563\u001b[0m   \u001b[39mraise\u001b[39;00m \u001b[39mIndexError\u001b[39;00m(\n\u001b[1;32m   4564\u001b[0m       \u001b[39mf\u001b[39m\u001b[39m\"\u001b[39m\u001b[39mToo many indices for \u001b[39m\u001b[39m{\u001b[39;00marray_name\u001b[39m}\u001b[39;00m\u001b[39m: \u001b[39m\u001b[39m{\u001b[39;00mlen_without_none\u001b[39m}\u001b[39;00m\u001b[39m \u001b[39m\u001b[39m\"\u001b[39m\n\u001b[1;32m   4565\u001b[0m       \u001b[39mf\u001b[39m\u001b[39m\"\u001b[39m\u001b[39mnon-None/Ellipsis indices for dim \u001b[39m\u001b[39m{\u001b[39;00marr_ndim\u001b[39m}\u001b[39;00m\u001b[39m.\u001b[39m\u001b[39m\"\u001b[39m)\n\u001b[1;32m   4566\u001b[0m ellipses \u001b[39m=\u001b[39m (i \u001b[39mfor\u001b[39;00m i, elt \u001b[39min\u001b[39;00m \u001b[39menumerate\u001b[39m(idx) \u001b[39mif\u001b[39;00m elt \u001b[39mis\u001b[39;00m \u001b[39mEllipsis\u001b[39m)\n\u001b[1;32m   4567\u001b[0m ellipsis_index \u001b[39m=\u001b[39m \u001b[39mnext\u001b[39m(ellipses, \u001b[39mNone\u001b[39;00m)\n",
      "\u001b[0;31mIndexError\u001b[0m: Too many indices for array: 5 non-None/Ellipsis indices for dim 4."
     ]
    },
    {
     "data": {
      "image/png": "[encoded data removed]",
      "text/plain": [
       "<Figure size 3000x1500 with 30 Axes>"
      ]
     },
     "metadata": {},
     "output_type": "display_data"
    }
   ],
   "source": [
    "model.render_recruitment_curves(df=df, encoder_dict=encoder_dict, posterior_samples=posterior_samples)\n"
   ]
  },
  {
   "cell_type": "code",
   "execution_count": null,
   "metadata": {},
   "outputs": [
    {
     "name": "stderr",
     "output_type": "stream",
     "text": [
      "2023-07-18 13:06:40,802 - hbmep.model.baseline - INFO - Rendering Posterior Predictive Check ...\n",
      "2023-07-18 13:06:56,487 - hbmep.model.baseline - INFO - Saved to /home/vishu/repos/reports/paper/simulation/run01/posterior_predictive_check.pdf\n",
      "2023-07-18 13:06:56,489 - hbmep.utils.utils - INFO - func:render_predictive_check took: 15.69 sec\n"
     ]
    }
   ],
   "source": [
    "model.render_predictive_check(df=df, encoder_dict=encoder_dict, posterior_samples=posterior_samples)\n"
   ]
  },
  {
   "cell_type": "code",
   "execution_count": null,
   "metadata": {},
   "outputs": [],
   "source": []
  }
 ],
 "metadata": {
  "kernelspec": {
   "display_name": ".venv",
   "language": "python",
   "name": "python3"
  },
  "language_info": {
   "codemirror_mode": {
    "name": "ipython",
    "version": 3
   },
   "file_extension": ".py",
   "mimetype": "text/x-python",
   "name": "python",
   "nbconvert_exporter": "python",
   "pygments_lexer": "ipython3",
   "version": "3.11.4"
  },
  "orig_nbformat": 4,
  "vscode": {
   "interpreter": {
    "hash": "850bfd4e6f5ddd996dd5cd5088beecd08558625e274540230e1444ec52025b11"
   }
  }
 },
 "nbformat": 4,
 "nbformat_minor": 2
}
