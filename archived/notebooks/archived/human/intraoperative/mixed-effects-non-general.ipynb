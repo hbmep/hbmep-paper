{
 "cells": [
  {
   "cell_type": "code",
   "execution_count": 1,
   "metadata": {},
   "outputs": [],
   "source": [
    "%reload_ext autoreload\n",
    "%autoreload 2\n",
    "\n",
    "import os\n",
    "import logging\n",
    "import multiprocessing\n",
    "from pathlib import Path\n",
    "\n",
    "import pandas as pd\n",
    "import numpy as np\n",
    "import jax\n",
    "import jax.numpy as jnp\n",
    "import numpyro\n",
    "\n",
    "import matplotlib.pyplot as plt\n",
    "import seaborn as sns\n",
    "\n",
    "from hbmep.config import Config\n",
    "from hbmep.model.utils import Site as site\n",
    "\n",
    "PLATFORM = \"cpu\"\n",
    "jax.config.update(\"jax_platforms\", PLATFORM)\n",
    "numpyro.set_platform(PLATFORM)\n",
    "\n",
    "cpu_count = multiprocessing.cpu_count() - 2\n",
    "numpyro.set_host_device_count(cpu_count)\n",
    "numpyro.enable_x64()\n",
    "numpyro.enable_validation()\n",
    "\n",
    "logger = logging.getLogger(__name__)"
   ]
  },
  {
   "cell_type": "code",
   "execution_count": 2,
   "metadata": {},
   "outputs": [],
   "source": [
    "import numpyro.distributions as dist\n",
    "from hbmep.model import Baseline\n",
    "from hbmep_paper.utils.constants import HBM\n",
    "\n",
    "\n",
    "class HierarchicalBayesianModel(Baseline):\n",
    "    LINK = HBM\n",
    "\n",
    "    def __init__(self, config: Config):\n",
    "        super(HierarchicalBayesianModel, self).__init__(config=config)\n",
    "\n",
    "    def _model(self, subject, features, intensity, response_obs=None):\n",
    "        intensity = intensity.reshape(-1, 1)\n",
    "        intensity = np.tile(intensity, (1, self.n_response))\n",
    "\n",
    "        feature0 = features[0].reshape(-1,)\n",
    "\n",
    "        n_data = intensity.shape[0]\n",
    "        n_subject = np.unique(subject).shape[0]\n",
    "        n_feature0 = np.unique(feature0).shape[0]\n",
    "\n",
    "        with numpyro.plate(site.n_response, self.n_response, dim=-1):\n",
    "            \"\"\" Delta \"\"\"\n",
    "            mu_delta = numpyro.sample(\"mu_delta\", dist.Normal(0, 10))\n",
    "            sigma_delta = numpyro.sample(\"sigma_delta\", dist.HalfNormal(10.0))\n",
    "\n",
    "            \"\"\" Baseline \"\"\"\n",
    "            mu_baseline = numpyro.sample(\n",
    "                \"mu_baseline\",\n",
    "                dist.TruncatedNormal(5, 10, low=0)\n",
    "            )\n",
    "            sigma_baseline = numpyro.sample(\n",
    "                \"sigma_baseline\",\n",
    "                dist.HalfNormal(10.0)\n",
    "            )\n",
    "\n",
    "            with numpyro.plate(site.n_subject, n_subject, dim=-2):\n",
    "                \"\"\" Hyper-priors \"\"\"\n",
    "                baseline = numpyro.sample(\n",
    "                    \"baseline\",\n",
    "                    dist.TruncatedNormal(mu_baseline, sigma_baseline, low=0)\n",
    "                )\n",
    "                delta = numpyro.sample(\"delta\", dist.Normal(mu_delta, sigma_delta))\n",
    "\n",
    "                # mu_a = numpyro.sample(\n",
    "                #     site.mu_a,\n",
    "                #     dist.TruncatedNormal(5, 10, low=0)\n",
    "                # )\n",
    "                # sigma_a = numpyro.sample(site.sigma_a, dist.HalfNormal(5))\n",
    "\n",
    "                sigma_b = numpyro.sample(site.sigma_b, dist.HalfNormal(10))\n",
    "\n",
    "                sigma_L = numpyro.sample(site.sigma_L, dist.HalfNormal(2))\n",
    "                sigma_H = numpyro.sample(site.sigma_H, dist.HalfNormal(10))\n",
    "                sigma_v = numpyro.sample(site.sigma_v, dist.HalfNormal(10))\n",
    "\n",
    "                with numpyro.plate(\"n_feature0\", n_feature0, dim=-3):\n",
    "                    \"\"\" Priors \"\"\"\n",
    "                    a = numpyro.deterministic(\n",
    "                        site.a,\n",
    "                        jnp.array([baseline, baseline + delta])\n",
    "                    )\n",
    "                    # a = numpyro.sample(\n",
    "                    #     site.a,\n",
    "                    #     dist.TruncatedNormal(mu_a, sigma_a, low=0)\n",
    "                    # )\n",
    "                    b = numpyro.sample(site.b, dist.HalfNormal(sigma_b))\n",
    "\n",
    "                    L = numpyro.sample(site.L, dist.HalfNormal(sigma_L))\n",
    "                    H = numpyro.sample(site.H, dist.HalfNormal(sigma_H))\n",
    "                    v = numpyro.sample(site.v, dist.HalfNormal(sigma_v))\n",
    "\n",
    "                    g_1 = numpyro.sample(site.g_1, dist.Exponential(0.01))\n",
    "                    g_2 = numpyro.sample(site.g_2, dist.Exponential(0.01))\n",
    "\n",
    "        \"\"\" Model \"\"\"\n",
    "        mu = numpyro.deterministic(\n",
    "            site.mu,\n",
    "            L[feature0, subject]\n",
    "            + jnp.maximum(\n",
    "                0,\n",
    "                -1\n",
    "                + (H[feature0, subject] + 1)\n",
    "                / jnp.power(\n",
    "                    1\n",
    "                    + (jnp.power(1 + H[feature0, subject], v[feature0, subject]) - 1)\n",
    "                    * jnp.exp(-b[feature0, subject] * (intensity - a[feature0, subject])),\n",
    "                    1 / v[feature0, subject]\n",
    "                )\n",
    "            )\n",
    "        )\n",
    "        beta = numpyro.deterministic(\n",
    "            site.beta,\n",
    "            g_1[feature0, subject] + g_2[feature0, subject] * (1 / mu) ** 2\n",
    "        )\n",
    "\n",
    "        \"\"\" Penalty \"\"\"\n",
    "        penalty = (jnp.fabs(baseline + delta) - (baseline + delta))\n",
    "        numpyro.factor(\"penalty\", -penalty)\n",
    "\n",
    "        \"\"\" Observation \"\"\"\n",
    "        with numpyro.plate(site.data, n_data):\n",
    "            return numpyro.sample(\n",
    "                site.obs,\n",
    "                dist.Gamma(concentration=mu * beta, rate=beta).to_event(1),\n",
    "                obs=response_obs\n",
    "            )\n"
   ]
  },
  {
   "cell_type": "code",
   "execution_count": 3,
   "metadata": {},
   "outputs": [
    {
     "name": "stderr",
     "output_type": "stream",
     "text": [
      "2023-09-25 13:44:35,170 - hbmep.config - INFO - Verifying configuration ...\n",
      "2023-09-25 13:44:35,171 - hbmep.config - INFO - Success!\n",
      "2023-09-25 13:44:35,187 - hbmep.model.baseline - INFO - Initialized model with hierarchical_bayesian link\n"
     ]
    }
   ],
   "source": [
    "root_path = Path(os.getcwd()).parent.parent.parent.absolute()\n",
    "toml_path = os.path.join(root_path, \"configs/human/intraoperative/config.toml\")\n",
    "\n",
    "config = Config(toml_path=toml_path)\n",
    "\n",
    "model = HierarchicalBayesianModel(config=config)\n"
   ]
  },
  {
   "cell_type": "code",
   "execution_count": 4,
   "metadata": {},
   "outputs": [
    {
     "name": "stderr",
     "output_type": "stream",
     "text": [
      "2023-09-25 13:44:35,498 - hbmep.dataset.core - INFO - Artefacts will be stored here - /home/vishu/repos/hbmep-paper/reports/human/intraoperative\n",
      "2023-09-25 13:44:35,498 - hbmep.dataset.core - INFO - Copied config to /home/vishu/repos/hbmep-paper/reports/human/intraoperative\n",
      "2023-09-25 13:44:35,499 - hbmep.dataset.core - INFO - Processing data ...\n",
      "2023-09-25 13:44:35,500 - hbmep.utils.utils - INFO - func:load took: 0.00 sec\n"
     ]
    }
   ],
   "source": [
    "src = \"/home/vishu/data/hbmep-processed/human/intraoperative/data.csv\"\n",
    "df = pd.read_csv(src)\n",
    "\n",
    "subset = [\n",
    "    'scapptio001'\n",
    "]\n",
    "ind = ~df[model.subject].isin(subset)\n",
    "df = df[ind].reset_index(drop=True).copy()\n",
    "\n",
    "df, encoder_dict = model.load(df=df)"
   ]
  },
  {
   "cell_type": "code",
   "execution_count": 5,
   "metadata": {},
   "outputs": [
    {
     "name": "stderr",
     "output_type": "stream",
     "text": [
      "2023-09-25 13:44:35,618 - hbmep.model.baseline - INFO - Running inference with hierarchical_bayesian ...\n"
     ]
    },
    {
     "data": {
      "application/vnd.jupyter.widget-view+json": {
       "model_id": "1744cedad1c64c3ea18eb4a0877e65b4",
       "version_major": 2,
       "version_minor": 0
      },
      "text/plain": [
       "  0%|          | 0/1500 [00:00<?, ?it/s]"
      ]
     },
     "metadata": {},
     "output_type": "display_data"
    },
    {
     "data": {
      "application/vnd.jupyter.widget-view+json": {
       "model_id": "d3d7f83fdab94d79abdc54e5efb50c36",
       "version_major": 2,
       "version_minor": 0
      },
      "text/plain": [
       "  0%|          | 0/1500 [00:00<?, ?it/s]"
      ]
     },
     "metadata": {},
     "output_type": "display_data"
    },
    {
     "data": {
      "application/vnd.jupyter.widget-view+json": {
       "model_id": "732213e0440540b9a5a869fdb95befd1",
       "version_major": 2,
       "version_minor": 0
      },
      "text/plain": [
       "  0%|          | 0/1500 [00:00<?, ?it/s]"
      ]
     },
     "metadata": {},
     "output_type": "display_data"
    },
    {
     "data": {
      "application/vnd.jupyter.widget-view+json": {
       "model_id": "8221a6b3d56a48afb72cfed87b8a8dbb",
       "version_major": 2,
       "version_minor": 0
      },
      "text/plain": [
       "  0%|          | 0/1500 [00:00<?, ?it/s]"
      ]
     },
     "metadata": {},
     "output_type": "display_data"
    },
    {
     "name": "stderr",
     "output_type": "stream",
     "text": [
      "2023-09-25 13:46:39,944 - hbmep.utils.utils - INFO - func:run_inference took: 2 min and 4.33 sec\n"
     ]
    }
   ],
   "source": [
    "mcmc, posterior_samples = model.run_inference(df=df)\n"
   ]
  },
  {
   "cell_type": "code",
   "execution_count": 7,
   "metadata": {},
   "outputs": [
    {
     "name": "stdout",
     "output_type": "stream",
     "text": [
      "\n",
      "                       mean       std    median      2.5%     97.5%     n_eff     r_hat\n",
      "         H[0,0,0]      8.85      8.01      6.55      0.66     25.09   2306.02      1.00\n",
      "         H[0,1,0]      1.50      0.11      1.48      1.35      1.68    381.82      1.01\n",
      "         H[0,2,0]      6.14      7.59      3.55      0.03     20.89   2057.73      1.00\n",
      "         H[0,3,0]      1.83      3.55      0.55      0.41      8.68     51.47      1.09\n",
      "         H[0,4,0]      5.80      5.43      3.68      3.02     16.49    612.71      1.01\n",
      "         H[0,5,0]      2.31      4.27      1.05      0.00     10.45    490.41      1.01\n",
      "         H[0,6,0]      0.98      0.17      0.96      0.70      1.33   1831.98      1.00\n",
      "         H[0,7,0]     12.27      2.77     11.68      7.98     17.02    786.67      1.01\n",
      "         H[0,8,0]     13.61      0.17     13.61     13.29     13.94     49.49      1.08\n",
      "         H[0,9,0]     12.31      8.01      9.50      4.81     27.81   1318.62      1.00\n",
      "        H[0,10,0]      0.21      0.02      0.20      0.17      0.25    895.00      1.01\n",
      "        H[0,11,0]      1.84      2.47      1.25      0.52      4.38    357.65      1.00\n",
      "         H[1,0,0]      9.51      8.47      6.85      0.92     26.38   2057.65      1.00\n",
      "         H[1,1,0]      4.71      5.63      2.68      0.23     15.77   1468.81      1.00\n",
      "         H[1,2,0]      6.45      7.45      3.82      0.16     21.66   1937.72      1.00\n",
      "         H[1,3,0]      4.09      5.47      2.05      0.12     14.86    705.78      1.01\n",
      "         H[1,4,0]      3.76      6.05      1.05      0.22     16.03    775.14      1.01\n",
      "         H[1,5,0]      4.30      5.40      2.57      0.00     15.10   1297.27      1.00\n",
      "         H[1,6,0]      5.53      5.69      3.50      0.58     17.14   2031.76      1.00\n",
      "         H[1,7,0]      9.80      6.93      7.42      2.78     23.89   1912.90      1.00\n",
      "         H[1,8,0]     10.91      0.50     10.89      9.94     11.87   1788.98      1.00\n",
      "         H[1,9,0]      8.10      8.72      5.18      0.53     26.75   1409.15      1.00\n",
      "        H[1,10,0]      1.32      3.15      0.18      0.04      7.13   1632.36      1.00\n",
      "        H[1,11,0]      4.39      5.65      2.31      0.12     16.36   1807.54      1.00\n",
      "         L[0,0,0]      0.41      0.12      0.42      0.17      0.60    730.87      1.01\n",
      "         L[0,1,0]      0.05      0.01      0.05      0.03      0.08    320.11      1.01\n",
      "         L[0,2,0]      0.06      0.02      0.07      0.03      0.09    576.97      1.00\n",
      "         L[0,3,0]      0.03      0.01      0.03      0.00      0.04     19.56      1.18\n",
      "         L[0,4,0]      0.89      0.02      0.89      0.85      0.93   2828.83      1.00\n",
      "         L[0,5,0]      1.54      0.66      1.72      0.05      2.41    359.42      1.01\n",
      "         L[0,6,0]      0.03      0.00      0.03      0.02      0.03   1802.03      1.00\n",
      "         L[0,7,0]      0.09      0.01      0.08      0.07      0.11   1635.10      1.00\n",
      "         L[0,8,0]      0.07      0.01      0.07      0.04      0.10   2597.95      1.00\n",
      "         L[0,9,0]      0.13      0.01      0.13      0.12      0.14   2273.08      1.00\n",
      "        L[0,10,0]      0.03      0.00      0.03      0.03      0.03   2731.22      1.00\n",
      "        L[0,11,0]      0.28      0.03      0.28      0.22      0.34   1006.55      1.00\n",
      "         L[1,0,0]      0.21      0.03      0.21      0.16      0.27    229.57      1.01\n",
      "         L[1,1,0]      0.06      0.00      0.06      0.05      0.06   2315.50      1.00\n",
      "         L[1,2,0]      0.05      0.01      0.05      0.04      0.06    575.82      1.01\n",
      "         L[1,3,0]      0.03      0.00      0.03      0.03      0.04    451.90      1.01\n",
      "         L[1,4,0]      0.23      0.06      0.22      0.13      0.34    851.24      1.00\n",
      "         L[1,5,0]      1.97      0.78      2.12      0.31      3.13    417.18      1.01\n",
      "         L[1,6,0]      0.02      0.00      0.02      0.02      0.03   2871.30      1.00\n",
      "         L[1,7,0]      0.08      0.00      0.08      0.08      0.09   3171.88      1.00\n",
      "         L[1,8,0]      0.16      0.07      0.14      0.05      0.31    275.62      1.03\n",
      "         L[1,9,0]      0.11      0.01      0.11      0.10      0.13   1086.63      1.00\n",
      "        L[1,10,0]      0.03      0.00      0.03      0.03      0.03   3162.68      1.00\n",
      "        L[1,11,0]      0.26      0.00      0.26      0.25      0.27   2708.78      1.00\n",
      "         b[0,0,0]      1.44      1.21      1.12      0.05      3.77    654.71      1.00\n",
      "         b[0,1,0]      3.95      2.65      3.23      0.90      9.23    866.42      1.00\n",
      "         b[0,2,0]      0.27      0.58      0.18      0.01      0.67    836.25      1.00\n",
      "         b[0,3,0]      1.05      0.96      0.74      0.04      2.91    763.48      1.01\n",
      "         b[0,4,0]      6.82      7.18      4.59      0.17     20.50   1377.73      1.00\n",
      "         b[0,5,0]      5.39      7.02      2.90      0.00     18.70    847.12      1.00\n",
      "         b[0,6,0]     11.20      8.53      8.83      1.23     28.24   1533.38      1.00\n",
      "         b[0,7,0]      3.68      3.77      2.30      0.25     11.54   1055.51      1.00\n",
      "         b[0,8,0]     12.77     12.02      4.96      3.36     36.21     23.57      1.21\n",
      "         b[0,9,0]      3.50      2.74      2.77      0.26      8.82   1262.24      1.00\n",
      "        b[0,10,0]      2.55      3.45      1.58      0.40      7.55    388.93      1.01\n",
      "        b[0,11,0]      5.27      5.11      3.60      0.27     15.87   1366.19      1.00\n",
      "         b[1,0,0]      1.90      1.55      1.48      0.06      4.81    840.62      1.00\n",
      "         b[1,1,0]      2.91      2.50      2.22      0.12      7.81    879.82      1.01\n",
      "         b[1,2,0]      0.72      0.64      0.53      0.03      1.94   1685.68      1.00\n",
      "         b[1,3,0]      0.77      0.68      0.58      0.01      2.13   1095.57      1.00\n",
      "         b[1,4,0]      6.62      7.46      4.16      0.09     21.98   1221.53      1.00\n",
      "         b[1,5,0]      3.95      5.15      2.14      0.00     14.06   1565.67      1.00\n",
      "         b[1,6,0]      2.48      2.01      2.00      0.08      6.38   1743.98      1.00\n",
      "         b[1,7,0]      4.35      4.38      2.80      0.30     13.12   1148.09      1.00\n",
      "         b[1,8,0]     10.02      6.73      8.34      1.41     22.51    406.86      1.02\n",
      "         b[1,9,0]      3.34      2.81      2.55      0.11      9.08   1015.34      1.00\n",
      "        b[1,10,0]      2.90      4.82      1.11      0.03     12.15    721.60      1.00\n",
      "        b[1,11,0]      0.87      0.93      0.62      0.03      2.42    721.03      1.00\n",
      "    baseline[0,0]      1.89      0.96      1.91      0.07      3.40    675.38      1.01\n",
      "    baseline[1,0]      1.31      0.04      1.31      1.23      1.37    363.81      1.01\n",
      "    baseline[2,0]      2.49      1.26      2.45      0.16      4.22    464.36      1.01\n",
      "    baseline[3,0]      4.10      0.36      4.23      3.43      4.55     11.06      1.28\n",
      "    baseline[4,0]      5.52      0.68      5.34      4.47      6.95    997.85      1.00\n",
      "    baseline[5,0]      1.77      1.40      1.45      0.00      4.29    925.17      1.00\n",
      "    baseline[6,0]      3.22      0.17      3.18      2.99      3.55   1350.72      1.00\n",
      "    baseline[7,0]      1.23      0.19      1.22      0.89      1.57    996.78      1.00\n",
      "    baseline[8,0]      1.98      0.01      1.98      1.97      1.99     38.80      1.10\n",
      "    baseline[9,0]      1.66      0.05      1.66      1.55      1.76   1692.36      1.00\n",
      "   baseline[10,0]      3.35      0.25      3.32      2.99      3.84    699.57      1.01\n",
      "   baseline[11,0]      3.03      0.16      2.98      2.80      3.43    708.62      1.00\n",
      "       delta[0,0]      3.40      0.98      3.38      1.68      5.24    701.16      1.01\n",
      "       delta[1,0]      1.33      0.08      1.34      1.15      1.47    749.42      1.00\n",
      "       delta[2,0]      2.33      1.27      2.34      0.24      4.61    523.01      1.01\n",
      "       delta[3,0]      2.71      0.53      2.76      1.80      3.79     53.89      1.07\n",
      "       delta[4,0]      2.10      0.77      2.23      0.50      3.45    776.98      1.00\n",
      "       delta[5,0]      2.50      1.60      2.56     -0.54      5.75   1407.28      1.00\n",
      "       delta[6,0]      1.41      0.19      1.44      1.04      1.70   1280.17      1.00\n",
      "       delta[7,0]      4.07      0.24      4.07      3.60      4.53   1155.44      1.00\n",
      "       delta[8,0]      4.78      0.31      4.66      4.48      5.58     90.32      1.07\n",
      "       delta[9,0]      3.84      0.09      3.83      3.68      3.99    361.60      1.01\n",
      "      delta[10,0]      5.52      0.60      5.47      4.53      6.72    923.42      1.01\n",
      "      delta[11,0]      0.67      0.43      0.65     -0.11      1.59    898.77      1.00\n",
      "       g_1[0,0,0]     49.61     42.40     39.46      0.08    132.36   2730.74      1.00\n",
      "       g_1[0,1,0]     89.28     32.26     86.00     31.59    154.19   1917.34      1.00\n",
      "       g_1[0,2,0]    138.97    128.22     99.61      0.02    404.63   2037.33      1.00\n",
      "       g_1[0,3,0]    107.01     47.93    100.19     26.57    202.43    300.73      1.03\n",
      "       g_1[0,4,0]      1.49      1.37      1.12      0.00      4.26   3351.61      1.00\n",
      "       g_1[0,5,0]      0.70      0.49      0.63      0.00      1.58   1768.27      1.00\n",
      "       g_1[0,6,0]      0.11      0.11      0.08      0.00      0.32   2415.29      1.00\n",
      "       g_1[0,7,0]      0.35      0.09      0.34      0.17      0.53   2518.32      1.00\n",
      "       g_1[0,8,0]     25.24      5.43     24.74     15.22     36.09   2181.91      1.00\n",
      "       g_1[0,9,0]      0.89      0.32      0.86      0.33      1.55   2608.70      1.00\n",
      "      g_1[0,10,0]    132.89     99.28    112.09      0.21    329.12   2281.07      1.00\n",
      "      g_1[0,11,0]      0.73      0.63      0.56      0.00      2.02   2364.80      1.00\n",
      "       g_1[1,0,0]     14.66     10.78     12.50      0.02     35.27   2806.15      1.00\n",
      "       g_1[1,1,0]      4.78      3.62      4.04      0.00     11.95   2239.00      1.00\n",
      "       g_1[1,2,0]     80.51     39.90     79.07      1.74    151.12   1470.51      1.00\n",
      "       g_1[1,3,0]    108.07     65.37     94.83      4.03    236.44    519.71      1.01\n",
      "       g_1[1,4,0]      1.24      0.65      1.15      0.01      2.48   1247.61      1.00\n",
      "       g_1[1,5,0]      4.60      3.13      4.20      0.00     10.43   1718.62      1.00\n",
      "       g_1[1,6,0]      2.36      0.93      2.26      0.67      4.18   2406.29      1.00\n",
      "       g_1[1,7,0]      0.96      0.52      0.89      0.03      1.93   2944.44      1.00\n",
      "       g_1[1,8,0]      3.43      1.15      3.30      1.39      5.69   1761.24      1.00\n",
      "       g_1[1,9,0]     18.75      7.04     18.06      6.10     32.87   1866.14      1.00\n",
      "      g_1[1,10,0]     40.65     40.75     28.14      0.01    117.66   3823.13      1.00\n",
      "      g_1[1,11,0]     31.60     31.48     21.35      0.00     92.52   1777.51      1.00\n",
      "       g_2[0,0,0]     67.30     46.61     59.20      0.12    155.07   2038.59      1.00\n",
      "       g_2[0,1,0]      1.23      1.19      0.85      0.00      3.56   1990.91      1.00\n",
      "       g_2[0,2,0]      6.49      2.82      6.40      1.04     11.96   2199.19      1.00\n",
      "       g_2[0,3,0]      1.25      0.86      1.09      0.00      2.87   1465.59      1.00\n",
      "       g_2[0,4,0]    141.53     43.11    137.30     65.03    227.76   2924.70      1.00\n",
      "       g_2[0,5,0]      4.18      2.51      3.96      0.01      8.69   1779.01      1.00\n",
      "       g_2[0,6,0]      0.98      0.20      0.97      0.61      1.40   1846.90      1.00\n",
      "       g_2[0,7,0]      0.91      0.36      0.87      0.27      1.62   2510.04      1.00\n",
      "       g_2[0,8,0]      0.02      0.02      0.01      0.00      0.06   2385.52      1.00\n",
      "       g_2[0,9,0]      6.43      1.50      6.35      3.73      9.49   2265.13      1.00\n",
      "      g_2[0,10,0]      8.52      1.88      8.37      4.82     12.06   2959.57      1.00\n",
      "      g_2[0,11,0]      3.78      0.91      3.73      2.06      5.56   2209.89      1.00\n",
      "       g_2[1,0,0]     13.40      6.43     12.72      1.78     25.49   1912.52      1.00\n",
      "       g_2[1,1,0]      0.65      0.17      0.63      0.30      0.97   2263.48      1.00\n",
      "       g_2[1,2,0]      0.60      0.36      0.55      0.00      1.27   1446.66      1.00\n",
      "       g_2[1,3,0]      0.40      0.21      0.38      0.02      0.79    496.57      1.01\n",
      "       g_2[1,4,0]      0.25      0.10      0.24      0.04      0.44   1306.70      1.00\n",
      "       g_2[1,5,0]     34.07     24.60     29.52      0.03     80.73   1565.94      1.00\n",
      "       g_2[1,6,0]      0.34      0.08      0.34      0.20      0.49   2542.29      1.00\n",
      "       g_2[1,7,0]      5.24      1.67      5.09      2.24      8.60   1859.40      1.00\n",
      "       g_2[1,8,0]      0.13      0.09      0.11      0.00      0.31   2358.05      1.00\n",
      "       g_2[1,9,0]      1.42      0.46      1.40      0.54      2.30   1981.14      1.00\n",
      "      g_2[1,10,0]      8.96      1.31      8.87      6.32     11.45   2335.23      1.00\n",
      "      g_2[1,11,0]     36.48      7.96     36.20     21.21     51.83   2492.33      1.00\n",
      "   mu_baseline[0]      1.88      0.92      1.99      0.00      3.21    659.89      1.01\n",
      "      mu_delta[0]      2.88      0.61      2.88      1.61      4.02   1705.98      1.00\n",
      "sigma_baseline[0]      2.23      0.83      2.10      0.89      3.82    939.16      1.01\n",
      "   sigma_delta[0]      1.86      0.53      1.77      0.98      2.93   1376.21      1.00\n",
      "         v[0,0,0]     12.91     10.79     10.26      0.01     34.18    633.72      1.00\n",
      "         v[0,1,0]      4.78      4.17      3.71      0.00     12.95    834.95      1.00\n",
      "         v[0,2,0]     13.75     11.87     10.51      0.01     37.27   1363.06      1.00\n",
      "         v[0,3,0]      8.54      9.34      5.47      0.00     27.15    868.46      1.01\n",
      "         v[0,4,0]      5.47      6.18      3.37      0.00     17.88   1519.18      1.00\n",
      "         v[0,5,0]      6.76      8.67      3.60      0.00     23.61    974.69      1.00\n",
      "         v[0,6,0]      4.64      4.77      3.09      0.01     14.11   1584.14      1.00\n",
      "         v[0,7,0]      5.70      6.23      3.55      0.00     18.17   1009.78      1.00\n",
      "         v[0,8,0]      0.33      0.41      0.19      0.00      1.14    653.74      1.02\n",
      "         v[0,9,0]     10.49      8.22      8.33      0.60     26.43   1250.45      1.00\n",
      "        v[0,10,0]      4.94      5.74      2.97      0.00     16.56   1599.51      1.00\n",
      "        v[0,11,0]      4.77      5.38      2.90      0.00     15.90   1373.94      1.00\n",
      "         v[1,0,0]     11.93      9.72      9.41      0.01     30.47    867.50      1.00\n",
      "         v[1,1,0]      8.56      7.37      6.68      0.00     23.18    954.88      1.00\n",
      "         v[1,2,0]     10.72      9.58      8.06      0.01     29.54   1550.29      1.00\n",
      "         v[1,3,0]     11.29      9.88      8.67      0.00     30.35   1123.72      1.00\n",
      "         v[1,4,0]      6.21      6.93      3.90      0.00     20.35   1446.30      1.00\n",
      "         v[1,5,0]      6.82      7.92      4.30      0.00     21.97   1681.19      1.00\n",
      "         v[1,6,0]     11.98      9.70      9.78      0.01     30.66   1700.24      1.00\n",
      "         v[1,7,0]      4.97      5.55      3.08      0.00     16.40   1004.89      1.01\n",
      "         v[1,8,0]      5.38      4.55      4.49      0.00     14.14    209.15      1.04\n",
      "         v[1,9,0]      9.28      7.95      7.08      0.02     25.76   1265.20      1.00\n",
      "        v[1,10,0]      7.55      8.55      4.64      0.01     24.52   1925.20      1.00\n",
      "        v[1,11,0]     11.51     10.00      8.90      0.00     30.70   1246.12      1.00\n",
      "         σ_H[0,0]     10.30      5.75      9.37      1.44     21.23   1727.01      1.00\n",
      "         σ_H[1,0]      5.53      4.35      4.07      0.59     14.56   1546.56      1.00\n",
      "         σ_H[2,0]      8.02      5.96      6.63      0.19     19.74   1767.49      1.00\n",
      "         σ_H[3,0]      5.21      4.90      3.59      0.19     15.36    160.49      1.03\n",
      "         σ_H[4,0]      7.24      4.93      5.82      1.33     17.28   1007.22      1.01\n",
      "         σ_H[5,0]      5.45      4.89      3.89      0.11     15.73   1135.64      1.00\n",
      "         σ_H[6,0]      5.92      4.60      4.63      0.59     15.47   1990.48      1.00\n",
      "         σ_H[7,0]     11.88      4.77     10.97      4.64     21.74   2131.92      1.00\n",
      "         σ_H[8,0]     12.51      4.45     11.73      5.44     21.23   2488.46      1.00\n",
      "         σ_H[9,0]     11.25      5.56     10.18      2.86     22.53   1660.46      1.00\n",
      "        σ_H[10,0]      1.96      3.16      0.65      0.06      8.82   1617.59      1.00\n",
      "        σ_H[11,0]      5.33      4.60      3.82      0.38     14.78   1758.06      1.00\n",
      "         σ_L[0,0]      0.78      0.68      0.57      0.10      2.15   1167.16      1.00\n",
      "         σ_L[1,0]      0.20      0.27      0.11      0.02      0.64   1660.50      1.00\n",
      "         σ_L[2,0]      0.23      0.35      0.11      0.02      0.79   1204.54      1.00\n",
      "         σ_L[3,0]      0.14      0.27      0.06      0.01      0.49   1527.62      1.00\n",
      "         σ_L[4,0]      1.16      0.70      0.96      0.30      2.56   2102.27      1.00\n",
      "         σ_L[5,0]      2.05      0.95      1.93      0.29      3.95    959.98      1.00\n",
      "         σ_L[6,0]      0.12      0.22      0.05      0.01      0.45   1531.93      1.00\n",
      "         σ_L[7,0]      0.31      0.43      0.17      0.03      1.02   1987.28      1.00\n",
      "         σ_L[8,0]      0.40      0.48      0.24      0.04      1.31   1559.59      1.00\n",
      "         σ_L[9,0]      0.39      0.45      0.23      0.05      1.28   1795.43      1.00\n",
      "        σ_L[10,0]      0.16      0.32      0.07      0.01      0.53    396.46      1.01\n",
      "        σ_L[11,0]      0.66      0.57      0.46      0.11      1.78   2054.99      1.00\n",
      "         σ_b[0,0]      3.71      3.33      2.69      0.09     10.51   1370.07      1.00\n",
      "         σ_b[1,0]      5.96      4.00      4.97      0.78     13.83   1304.34      1.00\n",
      "         σ_b[2,0]      1.70      2.29      0.92      0.01      6.60   2284.45      1.00\n",
      "         σ_b[3,0]      2.43      2.68      1.50      0.04      7.87   1175.11      1.00\n",
      "         σ_b[4,0]      8.46      5.73      7.23      0.49     19.56   1085.33      1.00\n",
      "         σ_b[5,0]      6.67      5.46      5.23      0.00     17.46    983.23      1.00\n",
      "         σ_b[6,0]      9.26      5.29      8.28      1.68     19.93   2143.54      1.00\n",
      "         σ_b[7,0]      6.17      4.69      5.10      0.24     15.28   1255.51      1.00\n",
      "         σ_b[8,0]     11.58      5.97     10.70      2.46     23.11     58.38      1.08\n",
      "         σ_b[9,0]      5.74      4.16      4.73      0.20     14.21   1415.63      1.00\n",
      "        σ_b[10,0]      4.88      4.44      3.36      0.28     14.15   1034.22      1.00\n",
      "        σ_b[11,0]      5.80      4.58      4.53      0.32     15.10   1470.93      1.00\n",
      "         σ_v[0,0]     12.12      6.33     11.41      1.32     24.60    708.52      1.00\n",
      "         σ_v[1,0]      8.41      5.18      7.57      0.05     18.28   1114.41      1.00\n",
      "         σ_v[2,0]     11.92      6.45     11.01      0.76     24.16   1363.84      1.00\n",
      "         σ_v[3,0]     10.38      6.53      9.45      0.02     22.61    877.83      1.00\n",
      "         σ_v[4,0]      7.57      5.68      6.43      0.04     18.43   1322.56      1.00\n",
      "         σ_v[5,0]      8.20      6.19      6.98      0.00     19.97   1060.74      1.00\n",
      "         σ_v[6,0]     10.00      5.89      9.11      0.23     21.11   1723.75      1.00\n",
      "         σ_v[7,0]      7.10      5.58      6.03      0.00     17.87    990.44      1.00\n",
      "         σ_v[8,0]      5.81      4.58      4.88      0.01     14.63    562.12      1.02\n",
      "         σ_v[9,0]     10.60      5.80      9.92      0.96     21.75   1152.86      1.00\n",
      "        σ_v[10,0]      8.12      5.82      6.88      0.13     19.37   1668.37      1.00\n",
      "        σ_v[11,0]      9.66      6.11      8.84      0.02     21.02   1491.77      1.00\n",
      "\n",
      "Number of divergences: 884\n"
     ]
    }
   ],
   "source": [
    "mcmc.print_summary(prob=.95)"
   ]
  },
  {
   "cell_type": "code",
   "execution_count": 7,
   "metadata": {},
   "outputs": [
    {
     "name": "stderr",
     "output_type": "stream",
     "text": [
      "2023-09-25 13:37:51,421 - hbmep.utils.utils - INFO - func:make_prediction_dataset took: 0.01 sec\n"
     ]
    },
    {
     "data": {
      "text/plain": [
       "(2400, 3)"
      ]
     },
     "execution_count": 7,
     "metadata": {},
     "output_type": "execute_result"
    }
   ],
   "source": [
    "prediction_df = model.make_prediction_dataset(df=df)\n",
    "prediction_df.shape"
   ]
  },
  {
   "cell_type": "code",
   "execution_count": 8,
   "metadata": {},
   "outputs": [
    {
     "name": "stderr",
     "output_type": "stream",
     "text": [
      "2023-09-25 13:37:55,492 - hbmep.utils.utils - INFO - func:predict took: 3.98 sec\n"
     ]
    }
   ],
   "source": [
    "posterior_predictive = model.predict(df=prediction_df, posterior_samples=posterior_samples)"
   ]
  },
  {
   "cell_type": "code",
   "execution_count": 9,
   "metadata": {},
   "outputs": [
    {
     "name": "stderr",
     "output_type": "stream",
     "text": [
      "2023-09-25 13:37:55,591 - hbmep.model.baseline - INFO - Rendering ...\n"
     ]
    },
    {
     "name": "stderr",
     "output_type": "stream",
     "text": [
      "2023-09-25 13:37:59,982 - hbmep.model.baseline - INFO - Saved to /home/vishu/repos/hbmep-paper/reports/human/intraoperative/recruitment_curves.pdf\n",
      "2023-09-25 13:37:59,982 - hbmep.utils.utils - INFO - func:render_recruitment_curves took: 4.40 sec\n"
     ]
    }
   ],
   "source": [
    "model.render_recruitment_curves(df=df, encoder_dict=encoder_dict, posterior_samples=posterior_samples, prediction_df=prediction_df, posterior_predictive=posterior_predictive)\n"
   ]
  },
  {
   "cell_type": "code",
   "execution_count": 10,
   "metadata": {},
   "outputs": [
    {
     "name": "stderr",
     "output_type": "stream",
     "text": [
      "2023-09-25 13:38:00,269 - hbmep.model.baseline - INFO - Rendering Posterior Predictive Check ...\n"
     ]
    },
    {
     "name": "stderr",
     "output_type": "stream",
     "text": [
      "2023-09-25 13:38:05,237 - hbmep.model.baseline - INFO - Saved to /home/vishu/repos/hbmep-paper/reports/human/intraoperative/posterior_predictive_check.pdf\n",
      "2023-09-25 13:38:05,237 - hbmep.utils.utils - INFO - func:_render_predictive_check took: 4.99 sec\n",
      "2023-09-25 13:38:05,237 - hbmep.utils.utils - INFO - func:render_predictive_check took: 4.99 sec\n"
     ]
    }
   ],
   "source": [
    "model.render_predictive_check(df=df, encoder_dict=encoder_dict, prediction_df=prediction_df, posterior_predictive=posterior_predictive)\n"
   ]
  },
  {
   "cell_type": "code",
   "execution_count": 11,
   "metadata": {},
   "outputs": [
    {
     "data": {
      "text/plain": [
       "(4000, 1)"
      ]
     },
     "execution_count": 11,
     "metadata": {},
     "output_type": "execute_result"
    }
   ],
   "source": [
    "mu_delta = posterior_samples[\"mu_delta\"]\n",
    "mu_delta.shape\n"
   ]
  },
  {
   "cell_type": "code",
   "execution_count": 12,
   "metadata": {},
   "outputs": [
    {
     "data": {
      "text/plain": [
       "array(['L', 'M'], dtype=object)"
      ]
     },
     "execution_count": 12,
     "metadata": {},
     "output_type": "execute_result"
    }
   ],
   "source": [
    "encoder_dict[model.features[0]].inverse_transform(np.array([0, 1]))"
   ]
  },
  {
   "cell_type": "code",
   "execution_count": 14,
   "metadata": {},
   "outputs": [
    {
     "data": {
      "text/plain": [
       "<matplotlib.legend.Legend at 0x7fea2c642b10>"
      ]
     },
     "execution_count": 14,
     "metadata": {},
     "output_type": "execute_result"
    },
    {
     "data": {
      "image/png": "[encoded data removed]",
      "text/plain": [
       "<Figure size 640x480 with 1 Axes>"
      ]
     },
     "metadata": {},
     "output_type": "display_data"
    }
   ],
   "source": [
    "posterior = mu_delta.reshape(-1,)\n",
    "prior = dist.Normal(0, 10).sample(model.rng_key, sample_shape=(100,))\n",
    "\n",
    "sns.kdeplot(mu_delta, label=\"Posterior\")\n",
    "sns.kdeplot(prior, label=\"Prior / Null Model\")\n",
    "\n",
    "plt.title(f\"Pr (Midline > Lateral) = {(mu_delta > 0).mean()}\")\n",
    "plt.xlabel(\"α\")\n",
    "plt.legend(loc=\"upper left\")"
   ]
  },
  {
   "cell_type": "code",
   "execution_count": 15,
   "metadata": {},
   "outputs": [],
   "source": [
    "import pickle\n",
    "\n",
    "dest = os.path.join(model.build_dir, \"inference.pkl\")\n",
    "with open(dest, \"wb\") as f:\n",
    "    pickle.dump((model, mcmc, posterior_samples), f)"
   ]
  },
  {
   "cell_type": "code",
   "execution_count": 72,
   "metadata": {},
   "outputs": [],
   "source": [
    "# import pickle\n",
    "\n",
    "# with open(dest, \"rb\") as g:\n",
    "#     model_, mcmc_, posterior_samples_ = pickle.load(g)\n"
   ]
  },
  {
   "cell_type": "code",
   "execution_count": null,
   "metadata": {},
   "outputs": [],
   "source": []
  }
 ],
 "metadata": {
  "kernelspec": {
   "display_name": "Python 3 (ipykernel)",
   "language": "python",
   "name": "python3"
  },
  "orig_nbformat": 4
 },
 "nbformat": 4,
 "nbformat_minor": 2
}
