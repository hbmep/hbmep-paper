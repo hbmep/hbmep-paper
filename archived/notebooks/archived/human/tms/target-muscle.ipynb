{
 "cells": [
  {
   "cell_type": "code",
   "execution_count": 212,
   "metadata": {},
   "outputs": [],
   "source": [
    "%reload_ext autoreload\n",
    "%autoreload 2\n",
    "\n",
    "import os\n",
    "import logging\n",
    "import multiprocessing\n",
    "from pathlib import Path\n",
    "from tqdm import tqdm\n",
    "\n",
    "import arviz as az\n",
    "import matplotlib\n",
    "import matplotlib.pyplot as plt\n",
    "from matplotlib.backends.backend_pdf import PdfPages\n",
    "import seaborn as sns\n",
    "\n",
    "import numpy as np\n",
    "import jax\n",
    "import jax.numpy as jnp\n",
    "import pandas as pd\n",
    "import scipy.stats as stats\n",
    "import numpyro\n",
    "from numpyro.diagnostics import hpdi\n",
    "\n",
    "from hbmep.config import Config\n",
    "# from hbmep_paper.simulator import HierarchicalBayesianModel\n",
    "from hbmep.model.utils import Site as site\n",
    "\n",
    "PLATFORM = \"cpu\"\n",
    "jax.config.update(\"jax_platforms\", PLATFORM)\n",
    "numpyro.set_platform(PLATFORM)\n",
    "\n",
    "cpu_count = multiprocessing.cpu_count() - 2\n",
    "numpyro.set_host_device_count(cpu_count)\n",
    "numpyro.enable_x64()\n",
    "numpyro.enable_validation()\n",
    "\n",
    "logger = logging.getLogger(__name__)"
   ]
  },
  {
   "cell_type": "code",
   "execution_count": 213,
   "metadata": {},
   "outputs": [],
   "source": [
    "import numpyro.distributions as dist\n",
    "from hbmep.model import Baseline\n",
    "from hbmep_paper.utils.constants import HBM\n",
    "\n",
    "\n",
    "class HierarchicalBayesianModel(Baseline):\n",
    "    LINK = HBM\n",
    "\n",
    "    def __init__(self, config: Config):\n",
    "        super(HierarchicalBayesianModel, self).__init__(config=config)\n",
    "        self.combination_columns = self.features + [self.subject]\n",
    "\n",
    "    def _model(self, subject, features, intensity, response_obs=None):\n",
    "        intensity = intensity.reshape(-1, 1)\n",
    "        intensity = np.tile(intensity, (1, self.n_response))\n",
    "\n",
    "        feature0 = features[0].reshape(-1,)\n",
    "\n",
    "        n_data = intensity.shape[0]\n",
    "        n_subject = np.unique(subject).shape[0]\n",
    "        n_feature0 = np.unique(feature0).shape[0]\n",
    "\n",
    "        with numpyro.plate(site.n_response, self.n_response, dim=-1):\n",
    "            with numpyro.plate(\"n_feature0\", n_feature0, dim=-2):\n",
    "                \"\"\" Hyper-priors \"\"\"\n",
    "                mu_a = numpyro.sample(\n",
    "                    site.mu_a,\n",
    "                    dist.TruncatedNormal(50, 50, low=0, high=100)\n",
    "                )\n",
    "                sigma_a = numpyro.sample(site.sigma_a, dist.HalfNormal(50))\n",
    "\n",
    "                sigma_b = numpyro.sample(site.sigma_b, dist.HalfNormal(0.1))\n",
    "\n",
    "                sigma_L = numpyro.sample(site.sigma_L, dist.HalfNormal(0.5))\n",
    "                sigma_H = numpyro.sample(site.sigma_H, dist.HalfNormal(5))\n",
    "                sigma_v = numpyro.sample(site.sigma_v, dist.HalfNormal(10))\n",
    "\n",
    "                with numpyro.plate(site.n_subject, n_subject, dim=-3):\n",
    "                    \"\"\" Priors \"\"\"\n",
    "                    a = numpyro.sample(\n",
    "                        site.a,\n",
    "                        dist.TruncatedNormal(mu_a, sigma_a, low=0, high=100)\n",
    "                    )\n",
    "                    b = numpyro.sample(site.b, dist.HalfNormal(sigma_b))\n",
    "\n",
    "                    L = numpyro.sample(site.L, dist.HalfNormal(sigma_L))\n",
    "                    H = numpyro.sample(site.H, dist.HalfNormal(sigma_H))\n",
    "                    v = numpyro.sample(site.v, dist.HalfNormal(sigma_v))\n",
    "\n",
    "                    g_1 = numpyro.sample(site.g_1, dist.Exponential(0.01))\n",
    "                    g_2 = numpyro.sample(site.g_2, dist.Exponential(0.01))\n",
    "\n",
    "        \"\"\" Model \"\"\"\n",
    "        mu = numpyro.deterministic(\n",
    "            site.mu,\n",
    "            L[subject, feature0]\n",
    "            + jnp.maximum(\n",
    "                0,\n",
    "                -1\n",
    "                + (H[subject, feature0] + 1)\n",
    "                / jnp.power(\n",
    "                    1\n",
    "                    + (jnp.power(1 + H[subject, feature0], v[subject, feature0]) - 1)\n",
    "                    * jnp.exp(-b[subject, feature0] * (intensity - a[subject, feature0])),\n",
    "                    1 / v[subject, feature0]\n",
    "                )\n",
    "            )\n",
    "        )\n",
    "        beta = numpyro.deterministic(\n",
    "            site.beta,\n",
    "            g_1[subject, feature0] + g_2[subject, feature0] * (1 / mu) ** 2\n",
    "        )\n",
    "\n",
    "        \"\"\" Observation \"\"\"\n",
    "        with numpyro.plate(site.data, n_data):\n",
    "            return numpyro.sample(\n",
    "                site.obs,\n",
    "                dist.Gamma(concentration=mu * beta, rate=beta).to_event(1),\n",
    "                obs=response_obs\n",
    "            )"
   ]
  },
  {
   "cell_type": "code",
   "execution_count": 214,
   "metadata": {},
   "outputs": [
    {
     "name": "stderr",
     "output_type": "stream",
     "text": [
      "2023-09-22 15:21:29,324 - hbmep.config - INFO - Verifying configuration ...\n",
      "2023-09-22 15:21:29,324 - hbmep.config - INFO - Success!\n",
      "2023-09-22 15:21:29,325 - hbmep.model.baseline - INFO - Initialized model with hierarchical_bayesian link\n",
      "2023-09-22 15:21:29,328 - hbmep.dataset.core - INFO - Artefacts will be stored here - /home/vishu/repos/hbmep-paper/reports/human/tms/hbm-chains\n",
      "2023-09-22 15:21:29,329 - hbmep.dataset.core - INFO - Copied config to /home/vishu/repos/hbmep-paper/reports/human/tms/hbm-chains\n",
      "2023-09-22 15:21:29,330 - hbmep.dataset.core - INFO - Processing data ...\n",
      "2023-09-22 15:21:29,330 - hbmep.utils.utils - INFO - func:load took: 0.00 sec\n"
     ]
    }
   ],
   "source": [
    "import pickle\n",
    "\n",
    "\n",
    "root_path = Path(os.getcwd()).parent.parent.parent.absolute()\n",
    "toml_path = os.path.join(root_path, \"configs/human/tms/hbm-chains.toml\")\n",
    "\n",
    "CONFIG = Config(toml_path=toml_path)\n",
    "MODEL = HierarchicalBayesianModel(config=CONFIG)\n",
    "\n",
    "src = \"/home/vishu/data/hbmep-processed/human/tms/data.csv\"\n",
    "DF = pd.read_csv(src)\n",
    "\n",
    "DF, ENCODER_DICT = MODEL.load(df=DF)\n",
    "\n",
    "dest = os.path.join(MODEL.build_dir, \"inference.pkl\")\n",
    "with open(dest, \"rb\") as g:\n",
    "    _, MCMC, POSTERIOR_SAMPLES = pickle.load(g)\n",
    "\n",
    "combinations = MODEL._make_combinations(df=DF, columns=MODEL.combination_columns)\n",
    "combinations = [list(c[::-1]) for c in combinations]"
   ]
  },
  {
   "cell_type": "code",
   "execution_count": 5,
   "metadata": {},
   "outputs": [],
   "source": [
    "combinations = MODEL._make_combinations(df=DF, columns=MODEL.combination_columns)\n",
    "combinations = [list(c[::-1]) for c in combinations]"
   ]
  },
  {
   "cell_type": "code",
   "execution_count": 235,
   "metadata": {},
   "outputs": [
    {
     "name": "stderr",
     "output_type": "stream",
     "text": [
      "2023-09-22 15:44:08,753 - __main__ - INFO - Rendering ...\n"
     ]
    },
    {
     "name": "stderr",
     "output_type": "stream",
     "text": [
      "2023-09-22 15:44:21,502 - __main__ - INFO - Saved to /home/vishu/repos/hbmep-paper/reports/human/tms/hbm-chains/target-muscle/comparison.pdf\n"
     ]
    }
   ],
   "source": [
    "# df1 = DF[MODEL.combination_columns].drop_duplicates().reset_index(drop=True)\n",
    "# prefix = \"target-muscle\"\n",
    "# target_muscle_ind = 1\n",
    "\n",
    "# perc_space = [\n",
    "#     (.5, 1.75),\n",
    "#     (.6, 1.75),\n",
    "#     (.7, 1.75),\n",
    "#     (.8, 1.75),\n",
    "#     (.9, 1.75)\n",
    "# ]\n",
    "# n_draws = 1\n",
    "\n",
    "# N = 56\n",
    "# m = 4\n",
    "# N_eff = N // m\n",
    "\n",
    "# dfs = []\n",
    "# threshold_dfs = []\n",
    "# target_threshold_dict = {}\n",
    "\n",
    "# for draw_ind in range(n_draws):\n",
    "#     curr_draw_threshold_true = np.array(POSTERIOR_SAMPLES[site.a][draw_ind, ...])\n",
    "#     curr_draw_threshold_true = curr_draw_threshold_true[None, ...]\n",
    "#     target_threshold = curr_draw_threshold_true[0, :, :, target_muscle_ind]\n",
    "#     target_threshold_dict[draw_ind] = {}\n",
    "\n",
    "#     df2 = df1.copy()\n",
    "#     df2[MODEL.intensity] = 0\n",
    "\n",
    "#     for c in combinations:\n",
    "#         ind = df2[MODEL.combination_columns[::-1]].apply(tuple, axis=1).isin([tuple(c)])\n",
    "#         df2.loc[ind, MODEL.intensity] = target_threshold[*c]\n",
    "#         target_threshold_dict[draw_ind][tuple(c)] = target_threshold[*c]\n",
    "\n",
    "#     threshold_df = df1.copy()\n",
    "#     threshold_df[MODEL.response] = 0\n",
    "\n",
    "#     for c in combinations:\n",
    "#         ind = threshold_df[MODEL.combination_columns[::-1]].apply(tuple, axis=1).isin([tuple(c)])\n",
    "#         threshold_df.loc[ind, MODEL.response] = curr_draw_threshold_true[0, *c, :]\n",
    "\n",
    "#     threshold_dfs.append(threshold_df)\n",
    "\n",
    "#     for start_perc, end_perc in perc_space:\n",
    "#         logger.info(f\"draw:{draw_ind}, start:{start_perc}, end:{end_perc}\")\n",
    "\n",
    "#         df = df2.copy()\n",
    "#         df[MODEL.intensity] = \\\n",
    "#             df[MODEL.intensity] \\\n",
    "#             .apply(lambda x: [round(start_perc * x), round(min(end_perc * x, 100))]) \\\n",
    "#             .apply(lambda x: np.linspace(x[0], x[1], N_eff))\n",
    "\n",
    "#         df = df.explode(column=MODEL.intensity, ignore_index=True).copy()\n",
    "#         df[MODEL.intensity] = df[MODEL.intensity].astype(float)\n",
    "#         df = pd.concat([df] * m, ignore_index=True).reset_index(drop=True).copy()\n",
    "\n",
    "#         ppd = MODEL.predict(df=df, posterior_samples=POSTERIOR_SAMPLES)\n",
    "#         df[MODEL.response] = ppd[site.obs][draw_ind, ...]\n",
    "\n",
    "#         dfs.append(df)\n",
    "\n",
    "# def _plot(\n",
    "#     self,\n",
    "#     df: pd.DataFrame,\n",
    "#     dfs: list[pd.DataFrame],\n",
    "#     threshold_df: pd.DataFrame,\n",
    "#     destination_path: str,\n",
    "#     target_threshold_dict: dict = None\n",
    "# ):\n",
    "#     \"\"\" Setup pdf layout \"\"\"\n",
    "#     combinations = self._make_combinations(df=df, columns=self.combination_columns)\n",
    "#     n_combinations = len(combinations)\n",
    "\n",
    "#     n_columns_per_response = 1 + len(dfs)\n",
    "\n",
    "#     n_fig_rows = 10\n",
    "#     n_fig_columns = n_columns_per_response * self.n_response\n",
    "\n",
    "#     n_pdf_pages = n_combinations // n_fig_rows\n",
    "#     if n_combinations % n_fig_rows: n_pdf_pages += 1\n",
    "#     logger.info(\"Rendering ...\")\n",
    "\n",
    "#     \"\"\" Iterate over pdf pages \"\"\"\n",
    "#     pdf = PdfPages(destination_path)\n",
    "#     combination_counter = 0\n",
    "\n",
    "#     for page in range(n_pdf_pages):\n",
    "#         n_rows_current_page = min(\n",
    "#             n_fig_rows,\n",
    "#             n_combinations - page * n_fig_rows\n",
    "#         )\n",
    "\n",
    "#         fig, axes = plt.subplots(\n",
    "#             n_rows_current_page,\n",
    "#             n_fig_columns,\n",
    "#             figsize=(\n",
    "#                 n_fig_columns * self.subplot_cell_width,\n",
    "#                 n_rows_current_page * self.subplot_cell_height\n",
    "#             ),\n",
    "#             constrained_layout=True,\n",
    "#             squeeze=False\n",
    "#         )\n",
    "\n",
    "#         \"\"\" Iterate over combinations \"\"\"\n",
    "#         for i in range(n_rows_current_page):\n",
    "#             curr_combination = combinations[combination_counter]\n",
    "\n",
    "#             \"\"\" Filter dataframe based on current combination \"\"\"\n",
    "#             df_ind = df[self.combination_columns].apply(tuple, axis=1).isin([curr_combination])\n",
    "#             curr_df = df[df_ind].reset_index(drop=True).copy()\n",
    "\n",
    "#             th_ind = threshold_df[self.combination_columns].apply(tuple, axis=1).isin([curr_combination])\n",
    "#             curr_th_df = threshold_df[th_ind].reset_index(drop=True).copy()\n",
    "#             curr_ths = curr_th_df[self.response].values[0]\n",
    "\n",
    "#             \"\"\" Iterate over responses \"\"\"\n",
    "#             j = 0\n",
    "#             for r, response in enumerate(self.response):\n",
    "#                 \"\"\" Plots: Scatter Plot \"\"\"\n",
    "#                 ax = axes[i, j]\n",
    "#                 sns.scatterplot(data=curr_df, x=self.intensity, y=response, color=self.response_colors[r], ax=ax)\n",
    "\n",
    "#                 if j == 1:\n",
    "#                     ax.legend(loc=\"upper right\")\n",
    "\n",
    "#                 ax.set_title(\"Real Data - \" + response)\n",
    "\n",
    "#                 j += 1\n",
    "\n",
    "#                 for sim_ind, curr_sim in enumerate(dfs):\n",
    "#                     curr_sim = curr_sim.copy()\n",
    "#                     curr_sim_ind = curr_sim[self.combination_columns].apply(tuple, axis=1).isin([curr_combination])\n",
    "#                     curr_sim = curr_sim[curr_sim_ind].reset_index(drop=True).copy()\n",
    "\n",
    "#                     ax = axes[i, j]\n",
    "#                     sns.scatterplot(data=curr_sim, x=self.intensity, y=response, color=self.response_colors[r], ax=ax)\n",
    "#                     if r != 1:\n",
    "#                         ax.axvline(curr_ths[r], color=\"black\", label=\"True Threshold\")\n",
    "#                         ax.axvline(target_threshold_dict[curr_combination[::-1]], label=\"Target Threshold\", color=self.response_colors[1])\n",
    "\n",
    "#                     if r == 1:\n",
    "#                         ax.axvline(curr_ths[r], color=\"black\", label=\"True Threshold\")\n",
    "\n",
    "#                     ax.set_title(f\"Simulated Data: {perc_space[sim_ind][0] * 100:.0f}% - {perc_space[sim_ind][1] * 100:.0f}% of Target Threshold\")\n",
    "\n",
    "#                     if not sim_ind:\n",
    "#                         ax.legend(loc=\"upper right\")\n",
    "\n",
    "#                     j += 1\n",
    "\n",
    "#             combination_counter += 1\n",
    "\n",
    "#         pdf.savefig(fig)\n",
    "#         plt.close()\n",
    "\n",
    "#     pdf.close()\n",
    "#     plt.show()\n",
    "\n",
    "#     logger.info(f\"Saved to {destination_path}\")\n",
    "#     return\n",
    "\n",
    "# dest = os.path.join(MODEL.build_dir, \"target-muscle\", \"comparison.pdf\")\n",
    "# _plot(self=MODEL, df=DF, dfs=dfs, threshold_df=threshold_dfs[0], target_threshold_dict=target_threshold_dict[0], destination_path=dest)"
   ]
  },
  {
   "cell_type": "code",
   "execution_count": 7,
   "metadata": {},
   "outputs": [
    {
     "name": "stderr",
     "output_type": "stream",
     "text": [
      "2023-09-21 16:16:54,946 - __main__ - INFO - draw:0, start:0.5, end:1.75\n",
      "2023-09-21 16:16:58,438 - hbmep.utils.utils - INFO - func:predict took: 3.49 sec\n",
      "2023-09-21 16:16:58,448 - hbmep.config - INFO - Verifying configuration ...\n",
      "2023-09-21 16:16:58,448 - hbmep.config - INFO - Success!\n",
      "2023-09-21 16:16:58,449 - hbmep.model.baseline - INFO - Initialized model with hierarchical_bayesian link\n",
      "2023-09-21 16:16:58,450 - hbmep.model.baseline - INFO - Running inference with hierarchical_bayesian ...\n"
     ]
    },
    {
     "data": {
      "application/vnd.jupyter.widget-view+json": {
       "model_id": "e2bc83e2dd784724ae0644dc13969ae2",
       "version_major": 2,
       "version_minor": 0
      },
      "text/plain": [
       "  0%|          | 0/1500 [00:00<?, ?it/s]"
      ]
     },
     "metadata": {},
     "output_type": "display_data"
    },
    {
     "data": {
      "application/vnd.jupyter.widget-view+json": {
       "model_id": "f8a9821bc9c54d71a8987e2dd8ee227e",
       "version_major": 2,
       "version_minor": 0
      },
      "text/plain": [
       "  0%|          | 0/1500 [00:00<?, ?it/s]"
      ]
     },
     "metadata": {},
     "output_type": "display_data"
    },
    {
     "data": {
      "application/vnd.jupyter.widget-view+json": {
       "model_id": "027d3e6c6c7048bf963d9cb69cbc62d8",
       "version_major": 2,
       "version_minor": 0
      },
      "text/plain": [
       "  0%|          | 0/1500 [00:00<?, ?it/s]"
      ]
     },
     "metadata": {},
     "output_type": "display_data"
    },
    {
     "data": {
      "application/vnd.jupyter.widget-view+json": {
       "model_id": "70e5d876f327429da97eec0cba6216e5",
       "version_major": 2,
       "version_minor": 0
      },
      "text/plain": [
       "  0%|          | 0/1500 [00:00<?, ?it/s]"
      ]
     },
     "metadata": {},
     "output_type": "display_data"
    },
    {
     "name": "stderr",
     "output_type": "stream",
     "text": [
      "2023-09-21 16:22:54,601 - hbmep.utils.utils - INFO - func:run_inference took: 5 min and 56.15 sec\n",
      "2023-09-21 16:22:54,606 - hbmep.utils.utils - INFO - func:make_prediction_dataset took: 0.00 sec\n",
      "2023-09-21 16:23:00,255 - hbmep.utils.utils - INFO - func:predict took: 5.65 sec\n",
      "2023-09-21 16:23:00,277 - hbmep.model.baseline - INFO - Rendering ...\n",
      "2023-09-21 16:23:06,837 - hbmep.model.baseline - INFO - Saved to /home/vishu/repos/hbmep-paper/reports/human/tms/hbm-chains/target-muscle/draw00/start50.0_end175.0/recruitment_curves.pdf\n",
      "2023-09-21 16:23:06,838 - hbmep.utils.utils - INFO - func:render_recruitment_curves took: 6.58 sec\n",
      "2023-09-21 16:23:06,869 - hbmep.model.baseline - INFO - Rendering Posterior Predictive Check ...\n",
      "2023-09-21 16:23:14,478 - hbmep.model.baseline - INFO - Saved to /home/vishu/repos/hbmep-paper/reports/human/tms/hbm-chains/target-muscle/draw00/start50.0_end175.0/posterior_predictive_check.pdf\n",
      "2023-09-21 16:23:14,479 - hbmep.utils.utils - INFO - func:_render_predictive_check took: 7.64 sec\n",
      "2023-09-21 16:23:14,480 - hbmep.utils.utils - INFO - func:render_predictive_check took: 7.64 sec\n",
      "2023-09-21 16:23:14,481 - __main__ - INFO - draw:0, start:0.6, end:1.75\n",
      "2023-09-21 16:23:17,866 - hbmep.utils.utils - INFO - func:predict took: 3.38 sec\n",
      "2023-09-21 16:23:17,874 - hbmep.config - INFO - Verifying configuration ...\n",
      "2023-09-21 16:23:17,874 - hbmep.config - INFO - Success!\n",
      "2023-09-21 16:23:17,874 - hbmep.model.baseline - INFO - Initialized model with hierarchical_bayesian link\n",
      "2023-09-21 16:23:17,875 - hbmep.model.baseline - INFO - Running inference with hierarchical_bayesian ...\n"
     ]
    },
    {
     "data": {
      "application/vnd.jupyter.widget-view+json": {
       "model_id": "abfcdd1ffa774b35acc8d6d58cc2ed87",
       "version_major": 2,
       "version_minor": 0
      },
      "text/plain": [
       "  0%|          | 0/1500 [00:00<?, ?it/s]"
      ]
     },
     "metadata": {},
     "output_type": "display_data"
    },
    {
     "data": {
      "application/vnd.jupyter.widget-view+json": {
       "model_id": "91f0287a2fc84be889006d208999a0fc",
       "version_major": 2,
       "version_minor": 0
      },
      "text/plain": [
       "  0%|          | 0/1500 [00:00<?, ?it/s]"
      ]
     },
     "metadata": {},
     "output_type": "display_data"
    },
    {
     "data": {
      "application/vnd.jupyter.widget-view+json": {
       "model_id": "9b91f1037a5c4358a824bc27abb3bafb",
       "version_major": 2,
       "version_minor": 0
      },
      "text/plain": [
       "  0%|          | 0/1500 [00:00<?, ?it/s]"
      ]
     },
     "metadata": {},
     "output_type": "display_data"
    },
    {
     "data": {
      "application/vnd.jupyter.widget-view+json": {
       "model_id": "1bfe28ce84a44a65ac4f5e804f35c0be",
       "version_major": 2,
       "version_minor": 0
      },
      "text/plain": [
       "  0%|          | 0/1500 [00:00<?, ?it/s]"
      ]
     },
     "metadata": {},
     "output_type": "display_data"
    }
   ],
   "source": [
    "df1 = DF[MODEL.combination_columns].drop_duplicates().reset_index(drop=True)\n",
    "prefix = \"target-muscle\"\n",
    "target_muscle_ind = 1\n",
    "\n",
    "perc_space = [\n",
    "    (.5, 1.75),\n",
    "    (.6, 1.75),\n",
    "    (.7, 1.75),\n",
    "    (.8, 1.75),\n",
    "    (.9, 1.75)\n",
    "]\n",
    "n_draws = 10\n",
    "\n",
    "N = 56\n",
    "m = 1\n",
    "N_eff = N // m\n",
    "\n",
    "# \"\"\" Test \"\"\"\n",
    "# perc_space = [\n",
    "#     (.5, 1.75),\n",
    "#     (.6, 1.75),\n",
    "#     (.7, 1.75)\n",
    "# ]\n",
    "# n_draws = 2\n",
    "\n",
    "# N = 5\n",
    "# m = 1\n",
    "# N_eff = N // m\n",
    "\n",
    "\n",
    "threshold = None\n",
    "threshold_true = None\n",
    "target_threshold_dict = {}\n",
    "\n",
    "for draw_ind in range(n_draws):\n",
    "    curr_draw_threshold = None\n",
    "\n",
    "    curr_draw_threshold_true = np.array(POSTERIOR_SAMPLES[site.a][draw_ind, ...])\n",
    "    curr_draw_threshold_true = curr_draw_threshold_true[None, ...]\n",
    "    target_threshold = curr_draw_threshold_true[0, :, :, target_muscle_ind]\n",
    "    target_threshold_dict[draw_ind] = {}\n",
    "\n",
    "    if threshold_true is None:\n",
    "        threshold_true = curr_draw_threshold_true\n",
    "    else:\n",
    "        threshold_true = np.concatenate([threshold_true, curr_draw_threshold_true], axis=0)\n",
    "\n",
    "    df2 = df1.copy()\n",
    "    df2[MODEL.intensity] = 0\n",
    "\n",
    "    for c in combinations:\n",
    "        ind = df2[MODEL.combination_columns[::-1]].apply(tuple, axis=1).isin([tuple(c)])\n",
    "        df2.loc[ind, MODEL.intensity] = target_threshold[*c]\n",
    "        target_threshold_dict[draw_ind][tuple(c)] = target_threshold[*c]\n",
    "\n",
    "    for start_perc, end_perc in perc_space:\n",
    "        logger.info(f\"draw:{draw_ind}, start:{start_perc}, end:{end_perc}\")\n",
    "        draw_dir = f\"draw{draw_ind:02}\"\n",
    "        subdir = f\"start{start_perc * 100}_end{end_perc * 100}\"\n",
    "\n",
    "        df = df2.copy()\n",
    "        df[MODEL.intensity] = \\\n",
    "            df[MODEL.intensity] \\\n",
    "            .apply(lambda x: [round(start_perc * x), round(min(end_perc * x, 100))]) \\\n",
    "            .apply(lambda x: np.linspace(x[0], x[1], N_eff))\n",
    "\n",
    "        df = df.explode(column=MODEL.intensity, ignore_index=True).copy()\n",
    "        df[MODEL.intensity] = df[MODEL.intensity].astype(float)\n",
    "        df = pd.concat([df] * m, ignore_index=True).reset_index(drop=True).copy()\n",
    "\n",
    "        ppd = MODEL.predict(df=df, posterior_samples=POSTERIOR_SAMPLES)\n",
    "        df[MODEL.response] = ppd[site.obs][draw_ind, ...]\n",
    "\n",
    "        \"\"\" Build model \"\"\"\n",
    "        config = Config(toml_path=toml_path)\n",
    "        config.BUILD_DIR = os.path.join(CONFIG.BUILD_DIR, prefix, draw_dir, subdir)\n",
    "        model = HierarchicalBayesianModel(config=config)\n",
    "        model._make_dir(dir=model.build_dir)\n",
    "\n",
    "        \"\"\" Fit \"\"\"\n",
    "        mcmc, posterior_samples = model.run_inference(df=df)\n",
    "\n",
    "        \"\"\" Predict \"\"\"\n",
    "        prediction_df = model.make_prediction_dataset(df=df)\n",
    "        ppd = model.predict(df=prediction_df, posterior_samples=posterior_samples)\n",
    "\n",
    "        \"\"\" Plot \"\"\"\n",
    "        model.render_recruitment_curves(df=df, posterior_samples=posterior_samples, prediction_df=prediction_df, posterior_predictive=ppd)\n",
    "        model.render_predictive_check(df=df, prediction_df=prediction_df, posterior_predictive=ppd)\n",
    "\n",
    "        \"\"\" Threshold \"\"\"\n",
    "        th = np.array(posterior_samples[site.a]).mean(axis=0)\n",
    "        th = th[None, ...]\n",
    "\n",
    "        if curr_draw_threshold is None:\n",
    "            curr_draw_threshold = th\n",
    "        else:\n",
    "            curr_draw_threshold = np.concatenate([curr_draw_threshold, th], axis=0)\n",
    "\n",
    "    curr_draw_threshold = curr_draw_threshold[None, ...]\n",
    "\n",
    "    if threshold is None:\n",
    "        threshold = curr_draw_threshold\n",
    "    else:\n",
    "        threshold = np.concatenate([threshold, curr_draw_threshold], axis=0)\n"
   ]
  },
  {
   "cell_type": "code",
   "execution_count": 174,
   "metadata": {},
   "outputs": [
    {
     "data": {
      "text/plain": [
       "(10, 5, 6, 2, 6)"
      ]
     },
     "execution_count": 174,
     "metadata": {},
     "output_type": "execute_result"
    }
   ],
   "source": [
    "threshold.shape"
   ]
  },
  {
   "cell_type": "code",
   "execution_count": 175,
   "metadata": {},
   "outputs": [
    {
     "data": {
      "text/plain": [
       "(10, 6, 2, 6)"
      ]
     },
     "execution_count": 175,
     "metadata": {},
     "output_type": "execute_result"
    }
   ],
   "source": [
    "threshold_true.shape"
   ]
  },
  {
   "cell_type": "code",
   "execution_count": 200,
   "metadata": {},
   "outputs": [],
   "source": [
    "dest = os.path.join(MODEL.build_dir, prefix, \"threshold.npy\")\n",
    "np.save(dest, threshold)\n",
    "\n",
    "dest = os.path.join(MODEL.build_dir, prefix, \"threshold_true.npy\")\n",
    "np.save(dest, threshold_true)"
   ]
  },
  {
   "cell_type": "code",
   "execution_count": 201,
   "metadata": {},
   "outputs": [
    {
     "data": {
      "text/plain": [
       "True"
      ]
     },
     "execution_count": 201,
     "metadata": {},
     "output_type": "execute_result"
    }
   ],
   "source": [
    "src = os.path.join(MODEL.build_dir, prefix, \"threshold.npy\")\n",
    "th_ = np.load(src)\n",
    "\n",
    "(th_ == threshold).all()"
   ]
  },
  {
   "cell_type": "code",
   "execution_count": 202,
   "metadata": {},
   "outputs": [
    {
     "data": {
      "text/plain": [
       "True"
      ]
     },
     "execution_count": 202,
     "metadata": {},
     "output_type": "execute_result"
    }
   ],
   "source": [
    "src = os.path.join(MODEL.build_dir, prefix, \"threshold_true.npy\")\n",
    "th_true = np.load(src)\n",
    "\n",
    "(th_true == threshold_true).all()"
   ]
  },
  {
   "cell_type": "code",
   "execution_count": 176,
   "metadata": {},
   "outputs": [
    {
     "name": "stdout",
     "output_type": "stream",
     "text": [
      "(10, 5, 6, 2, 6) (10, 6, 2, 6)\n"
     ]
    }
   ],
   "source": [
    "y = threshold\n",
    "y_true = threshold_true\n",
    "\n",
    "print(y.shape, y_true.shape)\n"
   ]
  },
  {
   "cell_type": "code",
   "execution_count": 177,
   "metadata": {},
   "outputs": [
    {
     "name": "stdout",
     "output_type": "stream",
     "text": [
      "(6, 2, 6)\n",
      "(10, 5, 6, 2, 6)\n",
      "(10, 6, 2, 6)\n"
     ]
    }
   ],
   "source": [
    "a = POSTERIOR_SAMPLES[site.a].mean(axis=0)\n",
    "print(a.shape)\n",
    "\n",
    "combinations = MODEL._make_combinations(df=DF, columns=MODEL.combination_columns)\n",
    "combinations = [list(c[::-1]) for c in combinations]\n",
    "\n",
    "y_mask = np.full(y.shape, True)\n",
    "y_mask[:, :, *map(list, zip(*combinations)), :] = False\n",
    "print(y_mask.shape)\n",
    "\n",
    "y_true_mask = np.full(y_true.shape, True)\n",
    "y_true_mask[:, *map(list, zip(*combinations)), :] = False\n",
    "print(y_true_mask.shape)"
   ]
  },
  {
   "cell_type": "code",
   "execution_count": 178,
   "metadata": {},
   "outputs": [],
   "source": [
    "for i in range(10):\n",
    "    for j in range(5):\n",
    "            assert (~y_mask[i, j, ...]).sum() == len(combinations) * MODEL.n_response\n",
    "            assert (y_mask[i, j, ...] == y_mask[0, 0, ...]).all()\n",
    "\n",
    "for i in range(10):\n",
    "    assert (~y_true_mask[i, ...]).sum() == len(combinations) * MODEL.n_response\n",
    "    assert (y_true_mask[i, ...] == y_true_mask[0, ...]).all()"
   ]
  },
  {
   "cell_type": "code",
   "execution_count": 179,
   "metadata": {},
   "outputs": [],
   "source": [
    "# Additional masks\n",
    "additional_masks = [\n",
    "    (2, 1, 0),\n",
    "    (1, 1, 1),\n",
    "    (0, 1, 2),\n",
    "    (1, 1, 2),\n",
    "    (2, 1, 2),\n",
    "    (4, 1, 2),\n",
    "    (3, 1, 2),\n",
    "    (1, 1, 3),\n",
    "    (1, 1, 4),\n",
    "    (0, 1, 5),\n",
    "    (4, 1, 5)\n",
    "]\n",
    "\n",
    "y_mask[:, :, *map(list, zip(*additional_masks))] = True\n",
    "y_true_mask[:, *map(list, zip(*additional_masks))] = True\n"
   ]
  },
  {
   "cell_type": "code",
   "execution_count": 180,
   "metadata": {},
   "outputs": [
    {
     "name": "stdout",
     "output_type": "stream",
     "text": [
      "(10, 5, 6, 2, 6) (10, 6, 2, 6)\n"
     ]
    }
   ],
   "source": [
    "y = np.ma.array(y, mask=y_mask)\n",
    "y_true = np.ma.array(y_true, mask=y_true_mask)\n",
    "\n",
    "print(y.shape, y_true.shape)"
   ]
  },
  {
   "cell_type": "code",
   "execution_count": 181,
   "metadata": {},
   "outputs": [
    {
     "data": {
      "text/plain": [
       "(10, 5, 6, 2, 6)"
      ]
     },
     "execution_count": 181,
     "metadata": {},
     "output_type": "execute_result"
    }
   ],
   "source": [
    "mae = np.ma.abs(y - y_true[:, None, ...])\n",
    "mae.shape"
   ]
  },
  {
   "cell_type": "code",
   "execution_count": 182,
   "metadata": {},
   "outputs": [
    {
     "data": {
      "text/plain": [
       "(5, 6, 2, 6)"
      ]
     },
     "execution_count": 182,
     "metadata": {},
     "output_type": "execute_result"
    }
   ],
   "source": [
    "mae[0, ...].shape"
   ]
  },
  {
   "cell_type": "code",
   "execution_count": 186,
   "metadata": {},
   "outputs": [
    {
     "data": {
      "text/plain": [
       "(5, 6, 2)"
      ]
     },
     "execution_count": 186,
     "metadata": {},
     "output_type": "execute_result"
    }
   ],
   "source": [
    "mae[0, ...].mean(axis=-1).shape"
   ]
  },
  {
   "cell_type": "code",
   "execution_count": 184,
   "metadata": {},
   "outputs": [
    {
     "data": {
      "text/plain": [
       "(5,)"
      ]
     },
     "execution_count": 184,
     "metadata": {},
     "output_type": "execute_result"
    }
   ],
   "source": [
    "mae[0, ...].mean(axis=-1).std(axis=(-1, -2)).shape"
   ]
  },
  {
   "cell_type": "code",
   "execution_count": 183,
   "metadata": {},
   "outputs": [
    {
     "data": {
      "text/plain": [
       "(10, 5, 6, 2, 6)"
      ]
     },
     "execution_count": 183,
     "metadata": {},
     "output_type": "execute_result"
    }
   ],
   "source": [
    "mae.shape"
   ]
  },
  {
   "cell_type": "code",
   "execution_count": 185,
   "metadata": {},
   "outputs": [
    {
     "data": {
      "text/plain": [
       "(10, 5, 6, 2, 6)"
      ]
     },
     "execution_count": 185,
     "metadata": {},
     "output_type": "execute_result"
    }
   ],
   "source": [
    "mae.shape"
   ]
  },
  {
   "cell_type": "code",
   "execution_count": 187,
   "metadata": {},
   "outputs": [
    {
     "data": {
      "text/plain": [
       "(5,)"
      ]
     },
     "execution_count": 187,
     "metadata": {},
     "output_type": "execute_result"
    }
   ],
   "source": [
    "mae[0, ...].mean(axis=-1).mean(axis=(-1, -2)).shape"
   ]
  },
  {
   "cell_type": "code",
   "execution_count": 188,
   "metadata": {},
   "outputs": [
    {
     "data": {
      "image/png": "[encoded data removed]",
      "text/plain": [
       "<Figure size 1000x1500 with 10 Axes>"
      ]
     },
     "metadata": {},
     "output_type": "display_data"
    }
   ],
   "source": [
    "nrows, ncols = 5, 2\n",
    "fig, axes = plt.subplots(nrows=nrows, ncols=ncols, figsize=(5 * ncols, 3 * nrows), constrained_layout=True, squeeze=False)\n",
    "\n",
    "counter = 0\n",
    "for draw_ind in range(n_draws):\n",
    "    ax = axes[counter // ncols, counter % ncols]\n",
    "    ax.bar(x=list(map(str, perc_space)), height=mae[draw_ind, ...].mean(axis=-1).mean(axis=(-1, -2)))\n",
    "    counter += 1"
   ]
  },
  {
   "cell_type": "code",
   "execution_count": 189,
   "metadata": {},
   "outputs": [
    {
     "data": {
      "image/png": "[encoded data removed]",
      "text/plain": [
       "<Figure size 640x480 with 1 Axes>"
      ]
     },
     "metadata": {},
     "output_type": "display_data"
    }
   ],
   "source": [
    "curr_mae = mae.mean(axis=0).mean(axis=-1)\n",
    "\n",
    "me = curr_mae.mean(axis=(-1, -2))\n",
    "sem = stats.sem(curr_mae, axis=(-1, -2))\n",
    "\n",
    "plt.bar(x=list(map(str, perc_space)), height=me, yerr=sem)\n",
    "plt.grid()"
   ]
  },
  {
   "cell_type": "code",
   "execution_count": 199,
   "metadata": {},
   "outputs": [
    {
     "data": {
      "text/plain": [
       "Text(0.5, -0.3, '6 Participants, 6 Muscles, 10 Experiments\\n\\nH0: (0.5, 1.75) = (0.8, 1.75) vs H1: (0.5, 1.75) < (0.8, 1.75)\\np-value$(df = 5)$: 0.09')"
      ]
     },
     "execution_count": 199,
     "metadata": {},
     "output_type": "execute_result"
    },
    {
     "data": {
      "image/png": "[encoded data removed]",
      "text/plain": [
       "<Figure size 800x600 with 1 Axes>"
      ]
     },
     "metadata": {},
     "output_type": "display_data"
    }
   ],
   "source": [
    "fig, axes = plt.subplots(nrows=1, ncols=1, figsize=(8, 6), squeeze=False, constrained_layout=True)\n",
    "ax = axes[0, 0]\n",
    "\n",
    "curr_mae = mae.mean(axis=0).mean(axis=-1)\n",
    "\n",
    "me = curr_mae.mean(axis=(-1, -2))\n",
    "sem = stats.sem(curr_mae, axis=(-1, -2))\n",
    "\n",
    "ax.bar(x=list(map(str, perc_space)), height=me, yerr=sem)\n",
    "ax.grid(axis=\"y\", linestyle='--', linewidth=.4)\n",
    "# ax.set_yticks(np.arange(0, 15, 1))\n",
    "ax.set_xlabel(\"Pulse Interval w.r.t Target Threshold (60 Pulses, 1 Rep)\")\n",
    "ax.set_ylabel(\"Mean Absolute Error (6 Participants)\")\n",
    "ax.set_title(\n",
    "    f'6 Participants, 6 Muscles, 10 Experiments\\n\\nH0: (0.5, 1.75) = (0.8, 1.75) vs H1: (0.5, 1.75) < (0.8, 1.75)\\np-value$(df = 5)$: 0.09',\n",
    "    y=-0.3\n",
    ")\n"
   ]
  },
  {
   "cell_type": "code",
   "execution_count": 191,
   "metadata": {},
   "outputs": [],
   "source": [
    "labs = list(map(str, perc_space))"
   ]
  },
  {
   "cell_type": "code",
   "execution_count": 192,
   "metadata": {},
   "outputs": [
    {
     "name": "stdout",
     "output_type": "stream",
     "text": [
      "(0.8, 1.75)  vs  (0.5, 1.75)\n",
      "p-value (one-sided): 0.09\n"
     ]
    }
   ],
   "source": [
    "curr_mae = mae.mean(axis=0).mean(axis=-1)\n",
    "\n",
    "compare_ind = 3\n",
    "t = (curr_mae[compare_ind, ...] - curr_mae[0, ...])\n",
    "t = t.reshape(t.shape[0], -1)\n",
    "t.shape\n",
    "\n",
    "p = stats.ttest_1samp(t[t.mask == False].data, popmean=0, alternative=\"greater\").pvalue\n",
    "print(labs[compare_ind], \" vs \", labs[0])\n",
    "print(f\"p-value (one-sided): {p:.2f}\")"
   ]
  },
  {
   "cell_type": "code",
   "execution_count": null,
   "metadata": {},
   "outputs": [],
   "source": []
  }
 ],
 "metadata": {
  "kernelspec": {
   "display_name": "Python 3 (ipykernel)",
   "language": "python",
   "name": "python3"
  },
  "orig_nbformat": 4
 },
 "nbformat": 4,
 "nbformat_minor": 2
}
