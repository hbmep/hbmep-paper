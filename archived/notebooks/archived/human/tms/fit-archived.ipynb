{
 "cells": [
  {
   "cell_type": "code",
   "execution_count": 1,
   "metadata": {},
   "outputs": [],
   "source": [
    "%reload_ext autoreload\n",
    "%autoreload 2\n",
    "\n",
    "import os\n",
    "import logging\n",
    "import multiprocessing\n",
    "from pathlib import Path\n",
    "from tqdm import tqdm\n",
    "\n",
    "import arviz as az\n",
    "import matplotlib\n",
    "import matplotlib.pyplot as plt\n",
    "from matplotlib.backends.backend_pdf import PdfPages\n",
    "import seaborn as sns\n",
    "\n",
    "import numpy as np\n",
    "import jax\n",
    "import jax.numpy as jnp\n",
    "import pandas as pd\n",
    "import scipy.stats as stats\n",
    "import numpyro\n",
    "from numpyro.diagnostics import hpdi\n",
    "\n",
    "from hbmep.config import Config\n",
    "# from hbmep_paper.simulator import HierarchicalBayesianModel\n",
    "from hbmep.model.utils import Site as site\n",
    "\n",
    "PLATFORM = \"cpu\"\n",
    "jax.config.update(\"jax_platforms\", PLATFORM)\n",
    "numpyro.set_platform(PLATFORM)\n",
    "\n",
    "cpu_count = multiprocessing.cpu_count() - 2\n",
    "numpyro.set_host_device_count(cpu_count)\n",
    "numpyro.enable_x64()\n",
    "numpyro.enable_validation()\n",
    "\n",
    "logger = logging.getLogger(__name__)"
   ]
  },
  {
   "cell_type": "code",
   "execution_count": 2,
   "metadata": {},
   "outputs": [],
   "source": [
    "# import numpyro.distributions as dist\n",
    "# from hbmep.model import Baseline\n",
    "# from hbmep_paper.utils.constants import HBM\n",
    "\n",
    "\n",
    "# class HierarchicalBayesianModel(Baseline):\n",
    "#     LINK = HBM\n",
    "\n",
    "#     def __init__(self, config: Config):\n",
    "#         super(HierarchicalBayesianModel, self).__init__(config=config)\n",
    "#         self.combination_columns = self.features + [self.subject]\n",
    "\n",
    "#     def _model(self, subject, features, intensity, response_obs=None):\n",
    "#         intensity = intensity.reshape(-1, 1)\n",
    "#         intensity = np.tile(intensity, (1, self.n_response))\n",
    "\n",
    "#         feature0 = features[0].reshape(-1,)\n",
    "\n",
    "#         n_data = intensity.shape[0]\n",
    "#         n_subject = np.unique(subject).shape[0]\n",
    "#         n_feature0 = np.unique(feature0).shape[0]\n",
    "\n",
    "#         global_sigma_b = numpyro.sample(\"global_sigma_b\", dist.HalfNormal(100))\n",
    "#         global_sigma_v = numpyro.sample(\"global_sigma_v\", dist.HalfNormal(100))\n",
    "\n",
    "#         global_sigma_L = numpyro.sample(\"global_sigma_L\", dist.HalfNormal(10))\n",
    "#         global_sigma_H = numpyro.sample(\"global_sigma_H\", dist.HalfNormal(500))\n",
    "\n",
    "#         global_sigma_g_1 = numpyro.sample(\"global_sigma_g_1\", dist.HalfNormal(5))\n",
    "#         global_sigma_g_2 = numpyro.sample(\"global_sigma_g_2\", dist.HalfNormal(5))\n",
    "\n",
    "#         with numpyro.plate(site.n_response, self.n_response, dim=-1):\n",
    "#             with numpyro.plate(\"n_feature0\", n_feature0, dim=-2):\n",
    "#                 \"\"\" Hyper-priors \"\"\"\n",
    "#                 mu_a = numpyro.sample(\n",
    "#                     site.mu_a,\n",
    "#                     dist.TruncatedNormal(50, 50, low=0)\n",
    "#                 )\n",
    "#                 sigma_a = numpyro.sample(site.sigma_a, dist.HalfNormal(50))\n",
    "\n",
    "#                 sigma_b = numpyro.sample(site.sigma_b, dist.HalfNormal(global_sigma_b))\n",
    "#                 sigma_v = numpyro.sample(site.sigma_v, dist.HalfNormal(global_sigma_v))\n",
    "\n",
    "#                 sigma_L = numpyro.sample(site.sigma_L, dist.HalfNormal(global_sigma_L))\n",
    "#                 sigma_H = numpyro.sample(site.sigma_H, dist.HalfNormal(global_sigma_H))\n",
    "\n",
    "#                 sigma_g_1 = numpyro.sample(\"sigma_g_1\", dist.HalfNormal(global_sigma_g_1))\n",
    "#                 sigma_g_2 = numpyro.sample(\"sigma_g_2\", dist.HalfNormal(global_sigma_g_2))\n",
    "\n",
    "#                 with numpyro.plate(site.n_subject, n_subject, dim=-3):\n",
    "#                     \"\"\" Priors \"\"\"\n",
    "#                     a = numpyro.sample(\n",
    "#                         site.a,\n",
    "#                         dist.TruncatedNormal(mu_a, sigma_a, low=0)\n",
    "#                     )\n",
    "#                     b = numpyro.sample(site.b, dist.HalfNormal(sigma_b))\n",
    "#                     v = numpyro.sample(site.v, dist.HalfNormal(sigma_v))\n",
    "\n",
    "#                     L = numpyro.sample(site.L, dist.HalfNormal(sigma_L))\n",
    "#                     H = numpyro.sample(site.H, dist.HalfNormal(sigma_H))\n",
    "\n",
    "#                     g_1 = numpyro.sample(site.g_1, dist.Exponential(sigma_g_1))\n",
    "#                     g_2 = numpyro.sample(site.g_2, dist.Exponential(sigma_g_2))\n",
    "\n",
    "#         \"\"\" Model \"\"\"\n",
    "#         mu = numpyro.deterministic(\n",
    "#             site.mu,\n",
    "#             L[subject, feature0]\n",
    "#             + jnp.maximum(\n",
    "#                 0,\n",
    "#                 -1\n",
    "#                 + (H[subject, feature0] + 1)\n",
    "#                 / jnp.power(\n",
    "#                     1\n",
    "#                     + (jnp.power(1 + H[subject, feature0], v[subject, feature0]) - 1)\n",
    "#                     * jnp.exp(-b[subject, feature0] * (intensity - a[subject, feature0])),\n",
    "#                     1 / v[subject, feature0]\n",
    "#                 )\n",
    "#             )\n",
    "#         )\n",
    "#         beta = numpyro.deterministic(\n",
    "#             site.beta,\n",
    "#             g_1[subject, feature0] + g_2[subject, feature0] * (1 / mu) ** 2\n",
    "#         )\n",
    "\n",
    "#         \"\"\" Observation \"\"\"\n",
    "#         with numpyro.plate(site.data, n_data):\n",
    "#             return numpyro.sample(\n",
    "#                 site.obs,\n",
    "#                 dist.Gamma(concentration=mu * beta, rate=beta).to_event(1),\n",
    "#                 obs=response_obs\n",
    "#             )\n"
   ]
  },
  {
   "cell_type": "code",
   "execution_count": 3,
   "metadata": {},
   "outputs": [],
   "source": [
    "import numpyro.distributions as dist\n",
    "from hbmep.model import Baseline\n",
    "from hbmep_paper.utils.constants import HBM\n",
    "\n",
    "\n",
    "class HierarchicalBayesianModel(Baseline):\n",
    "    LINK = HBM\n",
    "\n",
    "    def __init__(self, config: Config):\n",
    "        super(HierarchicalBayesianModel, self).__init__(config=config)\n",
    "        self.combination_columns = self.features + [self.subject]\n",
    "\n",
    "    def _model(self, subject, features, intensity, response_obs=None):\n",
    "        intensity = intensity.reshape(-1, 1)\n",
    "        intensity = np.tile(intensity, (1, self.n_response))\n",
    "\n",
    "        feature0 = features[0].reshape(-1,)\n",
    "\n",
    "        n_data = intensity.shape[0]\n",
    "        n_subject = np.unique(subject).shape[0]\n",
    "        n_feature0 = np.unique(feature0).shape[0]\n",
    "\n",
    "        global_sigma_b = numpyro.sample(\"global_sigma_b\", dist.HalfNormal(100))\n",
    "        global_sigma_v = numpyro.sample(\"global_sigma_v\", dist.HalfNormal(100))\n",
    "\n",
    "        global_sigma_L = numpyro.sample(\"global_sigma_L\", dist.HalfNormal(10))\n",
    "        global_sigma_H = numpyro.sample(\"global_sigma_H\", dist.HalfNormal(500))\n",
    "\n",
    "        global_sigma_g_1 = numpyro.sample(\"global_sigma_g_1\", dist.HalfNormal(5))\n",
    "        global_sigma_g_2 = numpyro.sample(\"global_sigma_g_2\", dist.HalfNormal(5))\n",
    "\n",
    "        with numpyro.plate(site.n_response, self.n_response, dim=-1):\n",
    "            with numpyro.plate(\"n_feature0\", n_feature0, dim=-2):\n",
    "                \"\"\" Hyper-priors \"\"\"\n",
    "                mu_a = numpyro.sample(\n",
    "                    site.mu_a,\n",
    "                    dist.Normal(50, 50)\n",
    "                )\n",
    "                sigma_a = numpyro.sample(site.sigma_a, dist.HalfNormal(50))\n",
    "\n",
    "                sigma_b = numpyro.sample(site.sigma_b, dist.HalfNormal(global_sigma_b))\n",
    "                sigma_v = numpyro.sample(site.sigma_v, dist.HalfNormal(global_sigma_v))\n",
    "\n",
    "                sigma_L = numpyro.sample(site.sigma_L, dist.HalfNormal(global_sigma_L))\n",
    "                sigma_H = numpyro.sample(site.sigma_H, dist.HalfNormal(global_sigma_H))\n",
    "\n",
    "                sigma_g_1 = numpyro.sample(\"sigma_g_1\", dist.HalfNormal(global_sigma_g_1))\n",
    "                sigma_g_2 = numpyro.sample(\"sigma_g_2\", dist.HalfNormal(global_sigma_g_2))\n",
    "\n",
    "                with numpyro.plate(site.n_subject, n_subject, dim=-3):\n",
    "                    \"\"\" Priors \"\"\"\n",
    "                    a = numpyro.sample(\n",
    "                        site.a,\n",
    "                        dist.Normal(mu_a, sigma_a, low=0)\n",
    "                    )\n",
    "                    b = numpyro.sample(site.b, dist.HalfNormal(sigma_b))\n",
    "                    v = numpyro.sample(site.v, dist.HalfNormal(sigma_v))\n",
    "\n",
    "                    L = numpyro.sample(site.L, dist.HalfNormal(sigma_L))\n",
    "                    H = numpyro.sample(site.H, dist.HalfNormal(sigma_H))\n",
    "\n",
    "                    g_1 = numpyro.sample(site.g_1, dist.Exponential(sigma_g_1))\n",
    "                    g_2 = numpyro.sample(site.g_2, dist.Exponential(sigma_g_2))\n",
    "\n",
    "        \"\"\" Model \"\"\"\n",
    "        mu = numpyro.deterministic(\n",
    "            site.mu,\n",
    "            L[subject, feature0]\n",
    "            + jnp.maximum(\n",
    "                0,\n",
    "                -1\n",
    "                + (H[subject, feature0] + 1)\n",
    "                / jnp.power(\n",
    "                    1\n",
    "                    + (jnp.power(1 + H[subject, feature0], v[subject, feature0]) - 1)\n",
    "                    * jnp.exp(-b[subject, feature0] * (intensity - a[subject, feature0])),\n",
    "                    1 / v[subject, feature0]\n",
    "                )\n",
    "            )\n",
    "        )\n",
    "        beta = numpyro.deterministic(\n",
    "            site.beta,\n",
    "            g_1[subject, feature0] + g_2[subject, feature0] * (1 / mu)\n",
    "        )\n",
    "\n",
    "        \"\"\" Observation \"\"\"\n",
    "        with numpyro.plate(site.data, n_data):\n",
    "            return numpyro.sample(\n",
    "                site.obs,\n",
    "                dist.Gamma(concentration=mu * beta, rate=beta).to_event(1),\n",
    "                obs=response_obs\n",
    "            )\n"
   ]
  },
  {
   "cell_type": "code",
   "execution_count": 4,
   "metadata": {},
   "outputs": [
    {
     "name": "stderr",
     "output_type": "stream",
     "text": [
      "2023-10-06 15:14:44,944 - hbmep.config - INFO - Verifying configuration ...\n",
      "2023-10-06 15:14:44,944 - hbmep.config - INFO - Success!\n",
      "2023-10-06 15:14:45,184 - hbmep.model.baseline - INFO - Initialized model with hierarchical_bayesian link\n"
     ]
    }
   ],
   "source": [
    "root_path = Path(os.getcwd()).parent.parent.parent.absolute()\n",
    "toml_path = os.path.join(root_path, \"configs/human/tms/fit.toml\")\n",
    "\n",
    "config = Config(toml_path=toml_path)\n",
    "\n",
    "model = HierarchicalBayesianModel(config=config)\n"
   ]
  },
  {
   "cell_type": "code",
   "execution_count": 5,
   "metadata": {},
   "outputs": [
    {
     "name": "stderr",
     "output_type": "stream",
     "text": [
      "2023-10-06 15:14:45,253 - hbmep.dataset.core - INFO - Artefacts will be stored here - /home/vishu/repos/hbmep-paper/reports/human/tms/fit\n",
      "2023-10-06 15:14:45,253 - hbmep.dataset.core - INFO - Copied config to /home/vishu/repos/hbmep-paper/reports/human/tms/fit\n",
      "2023-10-06 15:14:45,254 - hbmep.dataset.core - INFO - Processing data ...\n",
      "2023-10-06 15:14:45,256 - hbmep.utils.utils - INFO - func:load took: 0.00 sec\n"
     ]
    }
   ],
   "source": [
    "src = \"/home/vishu/data/hbmep-processed/human/tms/data.csv\"\n",
    "df = pd.read_csv(src)\n",
    "\n",
    "subset = [\"SCA01\"]\n",
    "ind = df[model.subject].isin(subset)\n",
    "df = df[ind].reset_index(drop=True).copy()\n",
    "\n",
    "df, encoder_dict = model.load(df=df)\n"
   ]
  },
  {
   "cell_type": "code",
   "execution_count": 6,
   "metadata": {},
   "outputs": [
    {
     "name": "stderr",
     "output_type": "stream",
     "text": [
      "2023-10-06 15:14:45,335 - hbmep.model.baseline - INFO - Running inference with hierarchical_bayesian ...\n"
     ]
    },
    {
     "data": {
      "application/vnd.jupyter.widget-view+json": {
       "model_id": "c05fbffc9f4d409fa0a8d3026449c24a",
       "version_major": 2,
       "version_minor": 0
      },
      "text/plain": [
       "  0%|          | 0/1500 [00:00<?, ?it/s]"
      ]
     },
     "metadata": {},
     "output_type": "display_data"
    },
    {
     "data": {
      "application/vnd.jupyter.widget-view+json": {
       "model_id": "8c487717b76140e6a2d53f970a7b402a",
       "version_major": 2,
       "version_minor": 0
      },
      "text/plain": [
       "  0%|          | 0/1500 [00:00<?, ?it/s]"
      ]
     },
     "metadata": {},
     "output_type": "display_data"
    },
    {
     "data": {
      "application/vnd.jupyter.widget-view+json": {
       "model_id": "1f0a8f49652844d1abe10b67432a27e4",
       "version_major": 2,
       "version_minor": 0
      },
      "text/plain": [
       "  0%|          | 0/1500 [00:00<?, ?it/s]"
      ]
     },
     "metadata": {},
     "output_type": "display_data"
    },
    {
     "data": {
      "application/vnd.jupyter.widget-view+json": {
       "model_id": "3b0c3edaae4b4e0fb5a02f4016155c5d",
       "version_major": 2,
       "version_minor": 0
      },
      "text/plain": [
       "  0%|          | 0/1500 [00:00<?, ?it/s]"
      ]
     },
     "metadata": {},
     "output_type": "display_data"
    },
    {
     "name": "stderr",
     "output_type": "stream",
     "text": [
      "2023-10-06 15:15:41,613 - hbmep.utils.utils - INFO - func:run_inference took: 56.28 sec\n"
     ]
    }
   ],
   "source": [
    "mcmc, posterior_samples = model.run_inference(df=df)\n"
   ]
  },
  {
   "cell_type": "code",
   "execution_count": 7,
   "metadata": {},
   "outputs": [
    {
     "name": "stdout",
     "output_type": "stream",
     "text": [
      "\n",
      "                        mean       std    median      2.5%     97.5%     n_eff     r_hat\n",
      "          H[0,0,0]      1.53      1.76      1.12      0.72      4.35     36.84      1.19\n",
      "          H[0,0,1]      1.10      0.09      1.09      0.92      1.28    493.02      1.01\n",
      "          H[0,0,2]      4.02     13.84      1.08      0.00     14.58    292.12      1.01\n",
      "          H[0,0,3]      0.11      0.01      0.11      0.10      0.13    471.15      1.02\n",
      "          H[0,0,4]      4.50     12.68      1.27      0.05     16.70    168.31      1.01\n",
      "          H[0,0,5]      4.72     25.16      0.93      0.00     16.41    675.93      1.00\n",
      "          L[0,0,0]      0.01      0.00      0.01      0.01      0.01    403.70      1.01\n",
      "          L[0,0,1]      0.01      0.00      0.01      0.00      0.01    395.40      1.00\n",
      "          L[0,0,2]      0.01      0.00      0.01      0.00      0.01      8.47      1.21\n",
      "          L[0,0,3]      0.01      0.00      0.01      0.01      0.01    509.79      1.00\n",
      "          L[0,0,4]      0.01      0.00      0.01      0.01      0.01    398.24      1.01\n",
      "          L[0,0,5]      0.01      0.00      0.01      0.01      0.01   1287.45      1.01\n",
      "          a[0,0,0]     39.84      0.37     39.89     38.97     40.43    160.49      1.05\n",
      "          a[0,0,1]     35.63      0.54     35.75     34.56     36.51    254.80      1.02\n",
      "          a[0,0,2]     54.00     44.09     41.39      0.82    145.65      5.24      1.46\n",
      "          a[0,0,3]     40.15      0.38     40.21     39.42     40.75    312.51      1.01\n",
      "          a[0,0,4]     37.15      1.06     37.15     35.12     39.25    443.83      1.01\n",
      "          a[0,0,5]    110.33     42.65     98.52     63.01    192.39    558.41      1.02\n",
      "          b[0,0,0]      1.76      2.04      1.00      0.03      6.39     92.29      1.06\n",
      "          b[0,0,1]      2.33      2.37      1.56      0.12      7.18     97.03      1.04\n",
      "          b[0,0,2]      0.51      1.24      0.01      0.00      3.16     14.95      1.21\n",
      "          b[0,0,3]      0.93      1.00      0.57      0.13      2.89    128.97      1.04\n",
      "          b[0,0,4]      0.22      0.25      0.14      0.00      0.70    225.10      1.03\n",
      "          b[0,0,5]      1.49      1.80      0.78      0.00      5.71    105.29      1.05\n",
      "        g_1[0,0,0]      2.00      1.43      1.76      0.01      4.69    479.42      1.01\n",
      "        g_1[0,0,1]      3.28      1.26      3.23      0.75      5.56    381.53      1.01\n",
      "        g_1[0,0,2]      9.82     31.66      1.78      0.00     40.64    330.30      1.02\n",
      "        g_1[0,0,3]     96.11     37.86     95.33     21.01    171.11    510.30      1.00\n",
      "        g_1[0,0,4]      3.70      6.21      1.37      0.00     15.42    595.52      1.01\n",
      "        g_1[0,0,5]    385.46   1181.33      1.96      0.00   3901.35     14.16      1.30\n",
      "        g_2[0,0,0]      2.94      0.64      2.92      1.68      4.14    380.90      1.01\n",
      "        g_2[0,0,1]      1.47      0.43      1.43      0.70      2.36    267.59      1.01\n",
      "        g_2[0,0,2]     14.69      2.62     14.56     10.07     20.11     63.09      1.06\n",
      "        g_2[0,0,3]      2.82      1.17      2.69      0.74      5.26    357.00      1.01\n",
      "        g_2[0,0,4]      4.40      0.73      4.37      3.05      5.84    464.45      1.01\n",
      "        g_2[0,0,5]     28.22      9.74     30.03      0.18     39.55     17.42      1.22\n",
      "    global_sigma_H      7.30     15.34      3.11      0.30     23.51    133.90      1.01\n",
      "    global_sigma_L      0.03      0.02      0.02      0.00      0.06    257.37      1.02\n",
      "    global_sigma_b      3.71      4.12      2.37      0.16     11.79     64.12      1.10\n",
      "  global_sigma_g_1      0.98      1.16      0.56      0.01      3.32    177.83      1.00\n",
      "  global_sigma_g_2      0.40      0.33      0.32      0.07      0.93    241.97      1.02\n",
      "    global_sigma_v     99.05     58.97     89.40     11.18    215.96    101.52      1.06\n",
      "    sigma_g_1[0,0]      0.73      1.06      0.36      0.00      2.67    233.77      1.00\n",
      "    sigma_g_1[0,1]      0.41      0.39      0.29      0.00      1.11    221.60      1.01\n",
      "    sigma_g_1[0,2]      0.82      1.27      0.35      0.00      3.18    231.80      1.01\n",
      "    sigma_g_1[0,3]      0.04      0.19      0.02      0.00      0.08    214.78      1.02\n",
      "    sigma_g_1[0,4]      0.87      1.22      0.43      0.00      3.32    198.83      1.01\n",
      "    sigma_g_1[0,5]      0.75      1.29      0.32      0.00      2.91    236.29      1.00\n",
      "    sigma_g_2[0,0]      0.31      0.24      0.24      0.03      0.80    588.20      1.01\n",
      "    sigma_g_2[0,1]      0.38      0.35      0.29      0.01      1.01    341.17      1.02\n",
      "    sigma_g_2[0,2]      0.12      0.09      0.10      0.00      0.28    600.85      1.01\n",
      "    sigma_g_2[0,3]      0.32      0.26      0.25      0.00      0.83    416.58      1.02\n",
      "    sigma_g_2[0,4]      0.27      0.19      0.23      0.01      0.66    509.00      1.01\n",
      "    sigma_g_2[0,5]      0.10      0.21      0.05      0.00      0.29     43.52      1.09\n",
      "          v[0,0,0]     40.43     48.30     22.36      0.10    152.81     84.11      1.06\n",
      "          v[0,0,1]     33.18     35.07     22.09      0.21    106.78     95.57      1.05\n",
      "          v[0,0,2]    103.46    128.70     57.07      0.05    350.22    219.01      1.02\n",
      "          v[0,0,3]     61.90     79.41     34.34      0.02    220.22    108.71      1.04\n",
      "          v[0,0,4]    107.49    116.45     68.63      0.01    333.33    208.89      1.03\n",
      "          v[0,0,5]     50.72     74.42     24.05      0.01    186.01    408.34      1.01\n",
      "          µ_a[0,0]     44.14     24.20     41.05      0.18     87.52    358.95      1.01\n",
      "          µ_a[0,1]     42.33     23.36     37.62      2.88     89.96    377.72      1.01\n",
      "          µ_a[0,2]     52.11     32.39     44.60      0.05    114.13      7.68      1.23\n",
      "          µ_a[0,3]     43.98     23.44     41.07      1.31     88.82    468.70      1.01\n",
      "          µ_a[0,4]     41.76     23.36     38.52      0.04     85.41    265.39      1.01\n",
      "          µ_a[0,5]     84.52     36.83     84.33     11.33    154.88    578.96      1.01\n",
      "          σ_H[0,0]      3.35      4.06      1.86      0.34     11.02    149.39      1.03\n",
      "          σ_H[0,1]      3.85      7.17      1.73      0.31     14.02     66.57      1.05\n",
      "          σ_H[0,2]      5.63     15.49      1.80      0.00     20.19    201.61      1.01\n",
      "          σ_H[0,3]      1.96     10.55      0.53      0.04      6.34    589.68      1.00\n",
      "          σ_H[0,4]      5.66     13.95      2.06      0.03     18.63    152.54      1.01\n",
      "          σ_H[0,5]      5.51     18.15      1.62      0.00     19.34    262.18      1.01\n",
      "          σ_L[0,0]      0.02      0.02      0.01      0.00      0.04    408.16      1.00\n",
      "          σ_L[0,1]      0.02      0.02      0.01      0.00      0.05    185.70      1.03\n",
      "          σ_L[0,2]      0.02      0.02      0.01      0.00      0.04    409.70      1.01\n",
      "          σ_L[0,3]      0.02      0.02      0.01      0.00      0.05    449.72      1.02\n",
      "          σ_L[0,4]      0.02      0.02      0.01      0.00      0.06     98.59      1.05\n",
      "          σ_L[0,5]      0.02      0.02      0.01      0.00      0.04    438.68      1.01\n",
      "          σ_a[0,0]     33.75     26.64     27.67      0.13     84.55    403.17      1.01\n",
      "          σ_a[0,1]     38.58     27.04     33.59      0.31     88.98    258.45      1.02\n",
      "          σ_a[0,2]     34.94     27.65     28.55      0.19     90.51    448.94      1.01\n",
      "          σ_a[0,3]     35.11     26.98     28.62      0.56     87.74    634.10      1.01\n",
      "          σ_a[0,4]     34.65     26.27     28.90      0.14     86.23    724.29      1.01\n",
      "          σ_a[0,5]     42.01     30.37     36.96      0.46    101.56    512.80      1.01\n",
      "          σ_b[0,0]      2.35      2.76      1.49      0.04      7.52    173.05      1.04\n",
      "          σ_b[0,1]      3.20      3.50      1.96      0.13     10.40    102.75      1.06\n",
      "          σ_b[0,2]      1.16      2.05      0.27      0.00      5.54     15.97      1.13\n",
      "          σ_b[0,3]      2.58      4.74      1.21      0.08      8.11     41.49      1.12\n",
      "          σ_b[0,4]      1.45      2.28      0.63      0.00      6.06     98.90      1.07\n",
      "          σ_b[0,5]      3.03      5.25      1.35      0.00     11.65     58.41      1.10\n",
      "          σ_v[0,0]     68.45     76.76     42.44      0.27    215.96    157.11      1.03\n",
      "          σ_v[0,1]     61.88     59.95     43.60      0.81    176.31    153.19      1.04\n",
      "          σ_v[0,2]     98.46     90.85     73.35      0.43    279.81    162.34      1.04\n",
      "          σ_v[0,3]     79.78     78.78     53.39      0.15    246.20    144.34      1.04\n",
      "          σ_v[0,4]    103.71     87.81     79.44      0.63    275.62    188.60      1.03\n",
      "          σ_v[0,5]     70.75     73.88     46.68      0.27    215.91    194.34      1.03\n",
      "\n",
      "Number of divergences: 3074\n"
     ]
    }
   ],
   "source": [
    "mcmc.print_summary(prob=.95)"
   ]
  },
  {
   "cell_type": "code",
   "execution_count": 8,
   "metadata": {},
   "outputs": [
    {
     "name": "stderr",
     "output_type": "stream",
     "text": [
      "2023-10-06 15:16:16,262 - hbmep.utils.utils - INFO - func:make_prediction_dataset took: 0.01 sec\n"
     ]
    },
    {
     "name": "stderr",
     "output_type": "stream",
     "text": [
      "2023-10-06 15:16:18,939 - hbmep.utils.utils - INFO - func:predict took: 2.68 sec\n",
      "2023-10-06 15:16:18,952 - hbmep.model.baseline - INFO - Rendering ...\n",
      "2023-10-06 15:16:21,751 - hbmep.model.baseline - INFO - Saved to /home/vishu/repos/hbmep-paper/reports/human/tms/fit/recruitment_curves.pdf\n",
      "2023-10-06 15:16:21,753 - hbmep.utils.utils - INFO - func:render_recruitment_curves took: 2.81 sec\n",
      "2023-10-06 15:16:21,767 - hbmep.model.baseline - INFO - Rendering Posterior Predictive Check ...\n",
      "2023-10-06 15:16:24,415 - hbmep.model.baseline - INFO - Saved to /home/vishu/repos/hbmep-paper/reports/human/tms/fit/posterior_predictive_check.pdf\n",
      "2023-10-06 15:16:24,420 - hbmep.utils.utils - INFO - func:_render_predictive_check took: 2.67 sec\n",
      "2023-10-06 15:16:24,421 - hbmep.utils.utils - INFO - func:render_predictive_check took: 2.67 sec\n"
     ]
    }
   ],
   "source": [
    "prediction_df = model.make_prediction_dataset(df=df)\n",
    "\n",
    "posterior_predictive = model.predict(df=prediction_df, posterior_samples=posterior_samples)\n",
    "\n",
    "model.render_recruitment_curves(df=df, encoder_dict=encoder_dict, posterior_samples=posterior_samples, prediction_df=prediction_df, posterior_predictive=posterior_predictive)\n",
    "\n",
    "model.render_predictive_check(df=df, encoder_dict=encoder_dict, prediction_df=prediction_df, posterior_predictive=posterior_predictive)\n"
   ]
  },
  {
   "cell_type": "code",
   "execution_count": 10,
   "metadata": {},
   "outputs": [],
   "source": [
    "import pickle\n",
    "\n",
    "dest = os.path.join(model.build_dir, \"inference.pkl\")\n",
    "with open(dest, \"wb\") as f:\n",
    "    pickle.dump((model, mcmc, posterior_samples), f)"
   ]
  },
  {
   "cell_type": "code",
   "execution_count": 11,
   "metadata": {},
   "outputs": [],
   "source": [
    "import pickle\n",
    "\n",
    "with open(dest, \"rb\") as g:\n",
    "    model_, mcmc_, posterior_samples_ = pickle.load(g)\n"
   ]
  },
  {
   "cell_type": "code",
   "execution_count": 16,
   "metadata": {},
   "outputs": [
    {
     "data": {
      "text/plain": [
       "'/home/vishu/repos/hbmep-paper/reports/human/tms/fit/inference.pkl'"
      ]
     },
     "execution_count": 16,
     "metadata": {},
     "output_type": "execute_result"
    }
   ],
   "source": [
    "dest"
   ]
  }
 ],
 "metadata": {
  "kernelspec": {
   "display_name": "Python 3 (ipykernel)",
   "language": "python",
   "name": "python3"
  },
  "language_info": {
   "codemirror_mode": {
    "name": "ipython",
    "version": 3
   },
   "file_extension": ".py",
   "mimetype": "text/x-python",
   "name": "python",
   "nbconvert_exporter": "python",
   "pygments_lexer": "ipython3",
   "version": "3.11.4"
  },
  "orig_nbformat": 4
 },
 "nbformat": 4,
 "nbformat_minor": 2
}
