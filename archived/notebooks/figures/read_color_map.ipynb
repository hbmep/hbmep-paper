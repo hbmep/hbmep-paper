{
 "cells": [
  {
   "cell_type": "code",
   "execution_count": 1,
   "metadata": {},
   "outputs": [],
   "source": [
    "import pickle\n"
   ]
  },
  {
   "cell_type": "code",
   "execution_count": 2,
   "metadata": {},
   "outputs": [],
   "source": [
    "cmap_mus_dark = {\n",
    "    \"Trapezius\": (0.5000, 0.0614, 0.1449),\n",
    "    \"Deltoid\": (0.0039, 0.5216, 0.4431),\n",
    "    \"Biceps\": (0.6510, 0.3804, 0.1020),\n",
    "    \"Triceps\": (0.1725, 0.4824, 0.7137),\n",
    "    \"ECR\": (0.2055, 0., 0.4000),\n",
    "    \"FCR\": (0.3000, 0.3000, 0.3000),\n",
    "    \"APB\": (0.8157, 0.1098, 0.5451),\n",
    "    \"ADM\": (0.3020, 0.6745, 0.1490),\n",
    "    \"TA\": (0.8431, 0.0980, 0.1098),\n",
    "    \"EDB\": (0.4824, 0.1961, 0.5804),\n",
    "    \"AH\": (0.4000, 0.2065, 0.),\n",
    "    \"FDI\": (0.0902, 0.2118, 0.4863)\n",
    "}\n",
    "\n",
    "cmap_mus_light = {\n",
    "    \"Trapezius\": (0.8000, 0.0983, 0.2318),\n",
    "    \"Deltoid\": (0.5020, 0.8039, 0.7569),\n",
    "    \"Biceps\": (0.8745, 0.7608, 0.4902),\n",
    "    \"Triceps\": (0.6706, 0.8510, 0.9137),\n",
    "    \"ECR\": (0.3082, 0., 0.6000),\n",
    "    \"FCR\": (0.6000, 0.6000, 0.6000),\n",
    "    \"APB\": (0.9451, 0.7137, 0.8549),\n",
    "    \"ADM\": (0.7216, 0.8824, 0.5255),\n",
    "    \"TA\": (0.9922, 0.6824, 0.3804),\n",
    "    \"EDB\": (0.7608, 0.6471, 0.8118),\n",
    "    \"AH\": (0.6000, 0.3098, 0.),\n",
    "    \"FDI\": (0.1113, 0.2613, 0.6000)\n",
    "}"
   ]
  },
  {
   "cell_type": "code",
   "execution_count": null,
   "metadata": {},
   "outputs": [],
   "source": [
    "dest = \"/home/vishu/data/hbmep-processed/colormap\""
   ]
  }
 ],
 "metadata": {
  "kernelspec": {
   "display_name": "Python 3 (ipykernel)",
   "language": "python",
   "name": "python3"
  },
  "language_info": {
   "codemirror_mode": {
    "name": "ipython",
    "version": 3
   },
   "file_extension": ".py",
   "mimetype": "text/x-python",
   "name": "python",
   "nbconvert_exporter": "python",
   "pygments_lexer": "ipython3",
   "version": "3.11.4"
  }
 },
 "nbformat": 4,
 "nbformat_minor": 2
}
