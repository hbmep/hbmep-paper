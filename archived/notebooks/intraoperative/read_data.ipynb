{
 "cells": [
  {
   "cell_type": "code",
   "execution_count": 1,
   "metadata": {},
   "outputs": [],
   "source": [
    "%reload_ext autoreload\n",
    "%autoreload 2\n",
    "\n",
    "import os\n",
    "from pathlib import Path\n",
    "\n",
    "import pandas as pd\n",
    "import numpy as np\n",
    "\n",
    "from hbmep_paper.utils import load_intraoperative_data"
   ]
  },
  {
   "cell_type": "code",
   "execution_count": 2,
   "metadata": {},
   "outputs": [
    {
     "name": "stderr",
     "output_type": "stream",
     "text": [
      "2023-11-02 14:52:10,350 - hbmep.utils.utils - INFO - func:load_intraoperative_data took: 0.14 sec\n"
     ]
    }
   ],
   "source": [
    "dir = \"/home/vishu/data/\"\n",
    "sc_approach = \"posterior\"\n",
    "df = load_intraoperative_data(dir=dir, sc_approach=sc_approach)\n"
   ]
  },
  {
   "cell_type": "code",
   "execution_count": 3,
   "metadata": {},
   "outputs": [
    {
     "data": {
      "text/plain": [
       "Index(['ix', 'datetime', 'TrialNumberOriginal', 'cx_biphasic', 'cx_count',\n",
       "       'cx_current', 'cx_displacement', 'cx_frequency', 'cx_ipi', 'cx_iti',\n",
       "       ...\n",
       "       'rpkmax31', 'rpkmax32', 'rpkmax33', 'rpkmax34', 'Trapezius', 'Deltoid',\n",
       "       'Biceps', 'Triceps', 'APB', 'ADM'],\n",
       "      dtype='object', length=228)"
      ]
     },
     "execution_count": 3,
     "metadata": {},
     "output_type": "execute_result"
    }
   ],
   "source": [
    "df.columns"
   ]
  },
  {
   "cell_type": "code",
   "execution_count": 4,
   "metadata": {},
   "outputs": [],
   "source": [
    "MUSCLES = [\"Trapezius\", \"Deltoid\", \"Biceps\", \"Triceps\", \"APB\", \"ADM\"]\n",
    "ind = df[MUSCLES].apply(lambda x: (x <= 0).any(), axis=1)\n",
    "\n",
    "df = df[~ind].reset_index(drop=True).copy()"
   ]
  },
  {
   "cell_type": "code",
   "execution_count": 5,
   "metadata": {},
   "outputs": [
    {
     "data": {
      "text/html": [
       "<div>\n",
       "<style scoped>\n",
       "    .dataframe tbody tr th:only-of-type {\n",
       "        vertical-align: middle;\n",
       "    }\n",
       "\n",
       "    .dataframe tbody tr th {\n",
       "        vertical-align: top;\n",
       "    }\n",
       "\n",
       "    .dataframe thead th {\n",
       "        text-align: right;\n",
       "    }\n",
       "</style>\n",
       "<table border=\"1\" class=\"dataframe\">\n",
       "  <thead>\n",
       "    <tr style=\"text-align: right;\">\n",
       "      <th></th>\n",
       "      <th>participant</th>\n",
       "      <th>sc_level</th>\n",
       "      <th>sc_laterality</th>\n",
       "    </tr>\n",
       "  </thead>\n",
       "  <tbody>\n",
       "    <tr>\n",
       "      <th>0</th>\n",
       "      <td>cornptio001</td>\n",
       "      <td>[C7]</td>\n",
       "      <td>[L, M]</td>\n",
       "    </tr>\n",
       "    <tr>\n",
       "      <th>1</th>\n",
       "      <td>cornptio003</td>\n",
       "      <td>[C7]</td>\n",
       "      <td>[L, M]</td>\n",
       "    </tr>\n",
       "    <tr>\n",
       "      <th>2</th>\n",
       "      <td>cornptio004</td>\n",
       "      <td>[C7]</td>\n",
       "      <td>[L, M]</td>\n",
       "    </tr>\n",
       "    <tr>\n",
       "      <th>3</th>\n",
       "      <td>cornptio007</td>\n",
       "      <td>[C6]</td>\n",
       "      <td>[L, M]</td>\n",
       "    </tr>\n",
       "    <tr>\n",
       "      <th>4</th>\n",
       "      <td>cornptio008</td>\n",
       "      <td>[C8]</td>\n",
       "      <td>[L, M]</td>\n",
       "    </tr>\n",
       "    <tr>\n",
       "      <th>5</th>\n",
       "      <td>cornptio010</td>\n",
       "      <td>[C6]</td>\n",
       "      <td>[L, M]</td>\n",
       "    </tr>\n",
       "    <tr>\n",
       "      <th>6</th>\n",
       "      <td>cornptio011</td>\n",
       "      <td>[C7]</td>\n",
       "      <td>[L, M]</td>\n",
       "    </tr>\n",
       "    <tr>\n",
       "      <th>7</th>\n",
       "      <td>cornptio012</td>\n",
       "      <td>[C8]</td>\n",
       "      <td>[L, M]</td>\n",
       "    </tr>\n",
       "    <tr>\n",
       "      <th>8</th>\n",
       "      <td>cornptio013</td>\n",
       "      <td>[C7]</td>\n",
       "      <td>[L, M]</td>\n",
       "    </tr>\n",
       "    <tr>\n",
       "      <th>9</th>\n",
       "      <td>cornptio014</td>\n",
       "      <td>[C7]</td>\n",
       "      <td>[L, M]</td>\n",
       "    </tr>\n",
       "    <tr>\n",
       "      <th>10</th>\n",
       "      <td>cornptio015</td>\n",
       "      <td>[T1]</td>\n",
       "      <td>[L, M]</td>\n",
       "    </tr>\n",
       "    <tr>\n",
       "      <th>11</th>\n",
       "      <td>cornptio017</td>\n",
       "      <td>[C4]</td>\n",
       "      <td>[L, M]</td>\n",
       "    </tr>\n",
       "    <tr>\n",
       "      <th>12</th>\n",
       "      <td>scapptio001</td>\n",
       "      <td>[C8]</td>\n",
       "      <td>[L, M]</td>\n",
       "    </tr>\n",
       "  </tbody>\n",
       "</table>\n",
       "</div>"
      ],
      "text/plain": [
       "    participant sc_level sc_laterality\n",
       "0   cornptio001     [C7]        [L, M]\n",
       "1   cornptio003     [C7]        [L, M]\n",
       "2   cornptio004     [C7]        [L, M]\n",
       "3   cornptio007     [C6]        [L, M]\n",
       "4   cornptio008     [C8]        [L, M]\n",
       "5   cornptio010     [C6]        [L, M]\n",
       "6   cornptio011     [C7]        [L, M]\n",
       "7   cornptio012     [C8]        [L, M]\n",
       "8   cornptio013     [C7]        [L, M]\n",
       "9   cornptio014     [C7]        [L, M]\n",
       "10  cornptio015     [T1]        [L, M]\n",
       "11  cornptio017     [C4]        [L, M]\n",
       "12  scapptio001     [C8]        [L, M]"
      ]
     },
     "execution_count": 5,
     "metadata": {},
     "output_type": "execute_result"
    }
   ],
   "source": [
    "df.groupby(by=[\"participant\"], as_index=False).agg({\n",
    "    \"sc_level\": np.unique,\n",
    "    \"sc_laterality\": np.unique\n",
    "})\n"
   ]
  },
  {
   "cell_type": "code",
   "execution_count": 6,
   "metadata": {},
   "outputs": [],
   "source": [
    "dst = \"/home/vishu/data/hbmep-processed/human/intraoperative\"\n",
    "df.to_csv(os.path.join(dst, \"data.csv\"), index=False)\n"
   ]
  },
  {
   "cell_type": "code",
   "execution_count": null,
   "metadata": {},
   "outputs": [],
   "source": []
  }
 ],
 "metadata": {
  "kernelspec": {
   "display_name": "Python 3 (ipykernel)",
   "language": "python",
   "name": "python3"
  },
  "language_info": {
   "codemirror_mode": {
    "name": "ipython",
    "version": 3
   },
   "file_extension": ".py",
   "mimetype": "text/x-python",
   "name": "python",
   "nbconvert_exporter": "python",
   "pygments_lexer": "ipython3",
   "version": "3.11.4"
  }
 },
 "nbformat": 4,
 "nbformat_minor": 2
}
