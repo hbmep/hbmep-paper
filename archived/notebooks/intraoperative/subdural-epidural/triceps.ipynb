{
 "cells": [
  {
   "cell_type": "code",
   "execution_count": 1,
   "metadata": {},
   "outputs": [],
   "source": [
    "%reload_ext autoreload\n",
    "%autoreload 2\n",
    "\n",
    "import os\n",
    "import pickle\n",
    "import logging\n",
    "import multiprocessing\n",
    "from pathlib import Path\n",
    "\n",
    "import pandas as pd\n",
    "import numpy as np\n",
    "import jax\n",
    "import jax.numpy as jnp\n",
    "\n",
    "import arviz as az\n",
    "import numpyro\n",
    "\n",
    "from hbmep.config import Config\n",
    "from hbmep.model.utils import Site as site\n",
    "\n",
    "from hbmep_paper.utils import load_intraoperative_data\n",
    "\n",
    "\n",
    "PLATFORM = \"cpu\"\n",
    "jax.config.update(\"jax_platforms\", PLATFORM)\n",
    "numpyro.set_platform(PLATFORM)\n",
    "\n",
    "cpu_count = multiprocessing.cpu_count() - 2\n",
    "numpyro.set_host_device_count(cpu_count)\n",
    "numpyro.enable_x64()\n",
    "numpyro.enable_validation()\n",
    "\n",
    "logger = logging.getLogger(__name__)\n"
   ]
  },
  {
   "cell_type": "code",
   "execution_count": 2,
   "metadata": {},
   "outputs": [],
   "source": [
    "import numpyro.distributions as dist\n",
    "from hbmep.model import BaseModel\n",
    "\n",
    "\n",
    "class MixedEffects(BaseModel):\n",
    "    LINK = \"mixed_effects\"\n",
    "\n",
    "    def __init__(self, config: Config):\n",
    "        super(MixedEffects, self).__init__(config=config)\n",
    "        self.combination_columns =  self.features[::-1] + [self.subject]\n",
    "\n",
    "    def fn(self, x, a, b, v, L, ell, H):\n",
    "        return (\n",
    "            L\n",
    "            + jnp.where(\n",
    "                jnp.less(x, a),\n",
    "                0.,\n",
    "                -ell + jnp.true_divide(\n",
    "                    H + ell,\n",
    "                    jnp.power(\n",
    "                        1\n",
    "                        + jnp.multiply(\n",
    "                            -1\n",
    "                            + jnp.power(\n",
    "                                jnp.true_divide(H + ell, ell),\n",
    "                                v\n",
    "                            ),\n",
    "                            jnp.exp(jnp.multiply(-b, x - a))\n",
    "                        ),\n",
    "                        jnp.true_divide(1, v)\n",
    "                    )\n",
    "                )\n",
    "            )\n",
    "        )\n",
    "\n",
    "    def _model(self, subject, features, intensity, response_obs=None):\n",
    "        subject, n_subject = subject\n",
    "        features, n_features = features\n",
    "        intensity, n_data = intensity\n",
    "\n",
    "        intensity = intensity.reshape(-1, 1)\n",
    "        intensity = np.tile(intensity, (1, self.n_response))\n",
    "\n",
    "        feature0 = features[0].reshape(-1,)\n",
    "        n_feature0 = n_features[0]\n",
    "\n",
    "        feature1 = features[1].reshape(-1,)\n",
    "        n_feature1 = n_features[1]\n",
    "\n",
    "        with numpyro.plate(site.n_response, self.n_response):\n",
    "            \"\"\" Global Priors \"\"\"\n",
    "            b_scale_global_scale = numpyro.sample(\"b_scale_global_scale\", dist.HalfNormal(1))\n",
    "            v_scale_global_scale = numpyro.sample(\"v_scale_global_scale\", dist.HalfNormal(1))\n",
    "\n",
    "            L_scale_global_scale = numpyro.sample(\"L_scale_global_scale\", dist.HalfNormal(.5))\n",
    "            ell_scale_global_scale = numpyro.sample(\"ell_scale_global_scale\", dist.HalfNormal(100))\n",
    "            H_scale_global_scale = numpyro.sample(\"H_scale_global_scale\", dist.HalfNormal(5))\n",
    "\n",
    "            g_1_scale_global_scale = numpyro.sample(\"g_1_scale_global_scale\", dist.HalfNormal(100))\n",
    "            g_2_scale_global_scale = numpyro.sample(\"g_2_scale_global_scale\", dist.HalfNormal(100))\n",
    "\n",
    "            with numpyro.plate(\"n_feature1\", n_feature1):\n",
    "                with numpyro.plate(\"n_feature0\", n_feature0):\n",
    "                    \"\"\" Hyper-priors \"\"\"\n",
    "                    a_mean = numpyro.sample(\"a_mean\", dist.TruncatedNormal(5, 10, low=0))\n",
    "                    a_scale = numpyro.sample(\"a_scale\", dist.HalfNormal(10.0))\n",
    "\n",
    "                    b_scale_raw = numpyro.sample(\"b_scale_raw\", dist.HalfNormal(scale=1))\n",
    "                    b_scale = numpyro.deterministic(\"b_scale\", jnp.multiply(b_scale_global_scale, b_scale_raw))\n",
    "\n",
    "                    v_scale_raw = numpyro.sample(\"v_scale_raw\", dist.HalfNormal(scale=1))\n",
    "                    v_scale = numpyro.deterministic(\"v_scale\", jnp.multiply(v_scale_global_scale, v_scale_raw))\n",
    "\n",
    "                    L_scale_raw = numpyro.sample(\"L_scale_raw\", dist.HalfNormal(scale=1))\n",
    "                    L_scale = numpyro.deterministic(\"L_scale\", jnp.multiply(L_scale_global_scale, L_scale_raw))\n",
    "\n",
    "                    ell_scale_raw = numpyro.sample(\"ell_scale_raw\", dist.HalfNormal(scale=1))\n",
    "                    ell_scale = numpyro.deterministic(\"sigma_ell\", jnp.multiply(ell_scale_global_scale, ell_scale_raw))\n",
    "\n",
    "                    H_scale_raw = numpyro.sample(\"H_scale_raw\", dist.HalfNormal(scale=1))\n",
    "                    H_scale = numpyro.deterministic(\"H_scale\", jnp.multiply(H_scale_global_scale, H_scale_raw))\n",
    "\n",
    "                    g_1_scale_raw = numpyro.sample(\"g_1_scale_raw\", dist.HalfNormal(scale=1))\n",
    "                    g_1_scale = numpyro.deterministic(\"g_1_scale\", jnp.multiply(g_1_scale_global_scale, g_1_scale_raw))\n",
    "\n",
    "                    g_2_scale_raw = numpyro.sample(\"g_2_scale_raw\", dist.HalfNormal(scale=1))\n",
    "                    g_2_scale = numpyro.deterministic(\"g_2_scale\", jnp.multiply(g_2_scale_global_scale, g_2_scale_raw))\n",
    "\n",
    "                    with numpyro.plate(site.n_subject, n_subject):\n",
    "                        \"\"\" Priors \"\"\"\n",
    "                        a = numpyro.sample(\"a\", dist.TruncatedNormal(a_mean, a_scale, low=0))\n",
    "\n",
    "                        b_raw = numpyro.sample(\"b_raw\", dist.HalfNormal(scale=1))\n",
    "                        b = numpyro.deterministic(site.b, jnp.multiply(b_scale, b_raw))\n",
    "\n",
    "                        v_raw = numpyro.sample(\"v_raw\", dist.HalfNormal(scale=1))\n",
    "                        v = numpyro.deterministic(site.v, jnp.multiply(v_scale, v_raw))\n",
    "\n",
    "                        L_raw = numpyro.sample(\"L_raw\", dist.HalfNormal(scale=1))\n",
    "                        L = numpyro.deterministic(site.L, jnp.multiply(L_scale, L_raw))\n",
    "\n",
    "                        ell_raw = numpyro.sample(\"ell_raw\", dist.HalfNormal(scale=1))\n",
    "                        ell = numpyro.deterministic(\"ell\", jnp.multiply(ell_scale, ell_raw))\n",
    "\n",
    "                        H_raw = numpyro.sample(\"H_raw\", dist.HalfNormal(scale=1))\n",
    "                        H = numpyro.deterministic(site.H, jnp.multiply(H_scale, H_raw))\n",
    "\n",
    "                        g_1_raw = numpyro.sample(\"g_1_raw\", dist.HalfCauchy(scale=1))\n",
    "                        g_1 = numpyro.deterministic(site.g_1, jnp.multiply(g_1_scale, g_1_raw))\n",
    "\n",
    "                        g_2_raw = numpyro.sample(\"g_2_raw\", dist.HalfCauchy(scale=1))\n",
    "                        g_2 = numpyro.deterministic(site.g_2, jnp.multiply(g_2_scale, g_2_raw))\n",
    "\n",
    "        \"\"\" Outlier Distribution \"\"\"\n",
    "        outlier_prob = numpyro.sample(\"outlier_prob\", dist.Uniform(0., .05))\n",
    "        outlier_scale = numpyro.sample(\"outlier_scale\", dist.HalfNormal(20))\n",
    "\n",
    "        with numpyro.plate(site.n_response, self.n_response):\n",
    "            with numpyro.plate(site.n_data, n_data):\n",
    "                \"\"\" Model \"\"\"\n",
    "                mu = numpyro.deterministic(\n",
    "                    site.mu,\n",
    "                    self.fn(\n",
    "                        x=intensity,\n",
    "                        a=a[subject, feature0, feature1],\n",
    "                        b=b[subject, feature0, feature1],\n",
    "                        v=v[subject, feature0, feature1],\n",
    "                        L=L[subject, feature0, feature1],\n",
    "                        ell=ell[subject, feature0, feature1],\n",
    "                        H=H[subject, feature0, feature1]\n",
    "                    )\n",
    "                )\n",
    "                beta = numpyro.deterministic(\n",
    "                    site.beta,\n",
    "                    g_1[subject, feature0, feature1] + jnp.true_divide(g_2[subject, feature0, feature1], mu)\n",
    "                )\n",
    "\n",
    "                q = numpyro.deterministic(\"q\", outlier_prob * jnp.ones((n_data, self.n_response)))\n",
    "                bg_scale = numpyro.deterministic(\"bg_scale\", outlier_scale * jnp.ones((n_data, self.n_response)))\n",
    "\n",
    "                mixing_distribution = dist.Categorical(\n",
    "                    probs=jnp.stack([1 - q, q], axis=-1)\n",
    "                )\n",
    "                component_distributions=[\n",
    "                    dist.Gamma(concentration=jnp.multiply(mu, beta), rate=beta),\n",
    "                    dist.HalfNormal(scale=bg_scale)\n",
    "                ]\n",
    "\n",
    "                \"\"\" Mixture \"\"\"\n",
    "                Mixture = dist.MixtureGeneral(\n",
    "                    mixing_distribution=mixing_distribution,\n",
    "                    component_distributions=component_distributions\n",
    "                )\n",
    "\n",
    "                \"\"\" Observation \"\"\"\n",
    "                numpyro.sample(\n",
    "                    site.obs,\n",
    "                    Mixture,\n",
    "                    obs=response_obs\n",
    "                )\n"
   ]
  },
  {
   "cell_type": "code",
   "execution_count": 3,
   "metadata": {},
   "outputs": [
    {
     "name": "stderr",
     "output_type": "stream",
     "text": [
      "2023-11-20 09:35:30,135 - hbmep.config - INFO - Verifying configuration ...\n",
      "2023-11-20 09:35:30,135 - hbmep.config - INFO - Success!\n",
      "2023-11-20 09:35:30,150 - hbmep.model.baseline - INFO - Initialized base_model\n"
     ]
    }
   ],
   "source": [
    "toml_path = \"/home/vishu/repos/hbmep-paper/configs/paper/intraoperative/config.toml\"\n",
    "\n",
    "config = Config(toml_path=toml_path)\n",
    "config.BUILD_DIR = os.path.join(config.BUILD_DIR, \"subdural-epidural\", \"triceps\")\n",
    "config.FEATURES = [\"sc_depth\", \"sc_laterality\"]\n",
    "# config.RESPONSE = [\"Triceps\", \"APB\", \"ADM\"]\n",
    "config.RESPONSE = [\"Triceps\"]\n",
    "\n",
    "\n",
    "config.MCMC_PARAMS[\"num_warmup\"] = 3000\n",
    "config.MCMC_PARAMS[\"num_samples\"] = 1000\n",
    "\n",
    "model = MixedEffects(config=config)\n"
   ]
  },
  {
   "cell_type": "code",
   "execution_count": 4,
   "metadata": {},
   "outputs": [
    {
     "name": "stderr",
     "output_type": "stream",
     "text": [
      "2023-11-20 09:35:30,227 - hbmep.utils.utils - INFO - func:load_intraoperative_data took: 0.04 sec\n",
      "2023-11-20 09:35:30,229 - hbmep.dataset.core - INFO - Artefacts will be stored here - /home/vishu/repos/hbmep-paper/reports/paper/intraoperative/subdural-epidural/triceps\n",
      "2023-11-20 09:35:30,229 - hbmep.dataset.core - INFO - Copied config to /home/vishu/repos/hbmep-paper/reports/paper/intraoperative/subdural-epidural/triceps\n",
      "2023-11-20 09:35:30,230 - hbmep.dataset.core - INFO - Processing data ...\n",
      "2023-11-20 09:35:30,231 - hbmep.utils.utils - INFO - func:load took: 0.00 sec\n"
     ]
    },
    {
     "data": {
      "text/plain": [
       "(188, 229)"
      ]
     },
     "execution_count": 4,
     "metadata": {},
     "output_type": "execute_result"
    }
   ],
   "source": [
    "dir = \"/home/vishu/data/\"\n",
    "sc_approach = \"posterior\"\n",
    "df = load_intraoperative_data(dir=dir, sc_approach=sc_approach, subdural_epidural_only=True)\n",
    "\n",
    "df[model.features[0]] = df[model.features[0]].replace({\"epidural\": \"01_epidural\", \"subdural\": \"02_subdural\"})\n",
    "df[model.features[1]] = df[model.features[1]].replace({\"R\": \"01_R\", \"M\": \"02_M\"})\n",
    "\n",
    "df, encoder_dict = model.load(df=df)\n",
    "\n",
    "df.shape"
   ]
  },
  {
   "cell_type": "code",
   "execution_count": 5,
   "metadata": {},
   "outputs": [
    {
     "name": "stderr",
     "output_type": "stream",
     "text": [
      "2023-11-20 09:35:30,242 - hbmep.model.baseline - INFO - Running inference with base_model ...\n"
     ]
    },
    {
     "data": {
      "application/vnd.jupyter.widget-view+json": {
       "model_id": "a3750cba4ddb4c279174e9b2256cce7e",
       "version_major": 2,
       "version_minor": 0
      },
      "text/plain": [
       "  0%|          | 0/4000 [00:00<?, ?it/s]"
      ]
     },
     "metadata": {},
     "output_type": "display_data"
    },
    {
     "data": {
      "application/vnd.jupyter.widget-view+json": {
       "model_id": "5dbea2b878eb41c28cc8cf26ba2baed4",
       "version_major": 2,
       "version_minor": 0
      },
      "text/plain": [
       "  0%|          | 0/4000 [00:00<?, ?it/s]"
      ]
     },
     "metadata": {},
     "output_type": "display_data"
    },
    {
     "data": {
      "application/vnd.jupyter.widget-view+json": {
       "model_id": "5b3ee76e85ca4dc79030a4316a2904b6",
       "version_major": 2,
       "version_minor": 0
      },
      "text/plain": [
       "  0%|          | 0/4000 [00:00<?, ?it/s]"
      ]
     },
     "metadata": {},
     "output_type": "display_data"
    },
    {
     "data": {
      "application/vnd.jupyter.widget-view+json": {
       "model_id": "44682891704049528d7744697f915706",
       "version_major": 2,
       "version_minor": 0
      },
      "text/plain": [
       "  0%|          | 0/4000 [00:00<?, ?it/s]"
      ]
     },
     "metadata": {},
     "output_type": "display_data"
    },
    {
     "name": "stderr",
     "output_type": "stream",
     "text": [
      "2023-11-20 09:36:09,542 - hbmep.utils.utils - INFO - func:run_inference took: 39.30 sec\n"
     ]
    }
   ],
   "source": [
    "mcmc, posterior_samples = model.run_inference(df=df)\n"
   ]
  },
  {
   "cell_type": "code",
   "execution_count": 7,
   "metadata": {},
   "outputs": [
    {
     "name": "stderr",
     "output_type": "stream",
     "text": [
      "2023-11-20 09:37:23,704 - hbmep.utils.utils - INFO - func:make_prediction_dataset took: 0.00 sec\n",
      "2023-11-20 09:37:24,882 - hbmep.utils.utils - INFO - func:predict took: 1.18 sec\n",
      "2023-11-20 09:37:24,882 - hbmep.model.baseline - INFO - Rendering recruitment curves ...\n",
      "2023-11-20 09:37:25,523 - hbmep.model.baseline - INFO - Saved to /home/vishu/repos/hbmep-paper/reports/paper/intraoperative/subdural-epidural/triceps/recruitment_curves.pdf\n",
      "2023-11-20 09:37:25,524 - hbmep.utils.utils - INFO - func:render_recruitment_curves took: 0.64 sec\n",
      "2023-11-20 09:37:25,524 - hbmep.model.baseline - INFO - Rendering posterior predictive checks ...\n",
      "2023-11-20 09:37:26,314 - hbmep.model.baseline - INFO - Saved to /home/vishu/repos/hbmep-paper/reports/paper/intraoperative/subdural-epidural/triceps/posterior_predictive_check.pdf\n",
      "2023-11-20 09:37:26,314 - hbmep.utils.utils - INFO - func:predictive_checks_renderer took: 0.79 sec\n",
      "2023-11-20 09:37:26,314 - hbmep.utils.utils - INFO - func:render_predictive_check took: 0.79 sec\n"
     ]
    }
   ],
   "source": [
    "_posterior_samples = posterior_samples.copy()\n",
    "_posterior_samples[\"outlier_prob\"] = _posterior_samples[\"outlier_prob\"] * 0\n",
    "\n",
    "prediction_df = model.make_prediction_dataset(df=df)\n",
    "posterior_predictive = model.predict(df=prediction_df, posterior_samples=_posterior_samples)\n",
    "\n",
    "model.render_recruitment_curves(df=df, encoder_dict=encoder_dict, posterior_samples=_posterior_samples, prediction_df=prediction_df, posterior_predictive=posterior_predictive)\n",
    "model.render_predictive_check(df=df, encoder_dict=encoder_dict, prediction_df=prediction_df, posterior_predictive=posterior_predictive)\n"
   ]
  },
  {
   "cell_type": "code",
   "execution_count": 8,
   "metadata": {},
   "outputs": [
    {
     "data": {
      "text/plain": [
       "(4000, 1, 2, 2, 1)"
      ]
     },
     "execution_count": 8,
     "metadata": {},
     "output_type": "execute_result"
    }
   ],
   "source": [
    "a = posterior_samples[site.a]\n",
    "a.shape\n"
   ]
  },
  {
   "cell_type": "code",
   "execution_count": 10,
   "metadata": {},
   "outputs": [
    {
     "data": {
      "text/plain": [
       "Text(0.5, 0.98, 'Triceps')"
      ]
     },
     "execution_count": 10,
     "metadata": {},
     "output_type": "execute_result"
    },
    {
     "data": {
      "image/png": "[encoded data removed]",
      "text/plain": [
       "<Figure size 900x450 with 9 Axes>"
      ]
     },
     "metadata": {},
     "output_type": "display_data"
    }
   ],
   "source": [
    "import matplotlib.pyplot as plt\n",
    "import seaborn as sns\n",
    "\n",
    "\n",
    "nrows, ncols = 3, 3\n",
    "fig, axes = plt.subplots(nrows=nrows, ncols=ncols, figsize=(3 * ncols, 1.5 * nrows), squeeze=False, constrained_layout=True)\n",
    "\n",
    "muscle_ind = 0\n",
    "c = [(0, 0, 0), (0, 0, 1), (0, 1, 0), (0, 1, 1)]\n",
    "\n",
    "counter = 0\n",
    "for _ in range(nrows * ncols):\n",
    "    i, j = counter // ncols, counter % ncols\n",
    "    ax = axes[i, j]\n",
    "\n",
    "    if i in {0, 1} and j < 2:\n",
    "        sns.kdeplot(a[:, 0, i, j, muscle_ind], ax=ax, cut=0)\n",
    "        c_inv = []\n",
    "        c_inv.append(encoder_dict[model.features[0]].inverse_transform([i])[0][3:])\n",
    "        c_inv.append(encoder_dict[model.features[1]].inverse_transform([j])[0][3:])\n",
    "        c_inv = \", \".join(c_inv)\n",
    "        ax.set_title(c_inv)\n",
    "    counter += 1\n",
    "\n",
    "    if i in {0, 1} and j == 2:\n",
    "        samples = a[:, 0, i, 1, muscle_ind] - a[:, 0, i, 0, muscle_ind]\n",
    "        sns.kdeplot(samples, ax=ax)\n",
    "        prob = (samples > 0).mean()\n",
    "        ax.set_title(f\"$Pr($M - L $> 0) = ${prob:.2f}\")\n",
    "\n",
    "    if i == 2 and j in {0, 1}:\n",
    "        ax = axes[i, j]\n",
    "        samples = a[:, 0, 0, j, muscle_ind] - a[:, 0, 1, j, muscle_ind]\n",
    "        sns.kdeplot(samples, ax=ax)\n",
    "        prob = (samples > 0).mean()\n",
    "        ax.set_title(f\"$Pr($Epidural - Subdural $> 0) = ${prob:.2f}\")\n",
    "\n",
    "\n",
    "fig.suptitle(\"Triceps\")\n"
   ]
  },
  {
   "cell_type": "code",
   "execution_count": 10,
   "metadata": {},
   "outputs": [
    {
     "name": "stderr",
     "output_type": "stream",
     "text": [
      "2023-11-16 15:28:49,714 - __main__ - INFO - Evaluating model ...\n",
      "/home/vishu/repos/hbmep-paper/.venv/lib/python3.11/site-packages/arviz/stats/stats.py:803: UserWarning: Estimated shape parameter of Pareto distribution is greater than 0.7 for one or more samples. You should consider using a more robust model, this is because importance sampling is less likely to work well if the marginal posterior and LOO posterior are very different. This is more likely to happen with a non-robust model and highly influential observations.\n",
      "  warnings.warn(\n",
      "2023-11-16 15:28:53,635 - __main__ - INFO - ELPD LOO (Log): 1231.18\n",
      "/home/vishu/repos/hbmep-paper/.venv/lib/python3.11/site-packages/arviz/stats/stats.py:1645: UserWarning: For one or more samples the posterior variance of the log predictive densities exceeds 0.4. This could be indication of WAIC starting to fail. \n",
      "See http://arxiv.org/abs/1507.04544 for details\n",
      "  warnings.warn(\n",
      "2023-11-16 15:28:53,697 - __main__ - INFO - ELPD WAIC (Log): 1214.50\n"
     ]
    }
   ],
   "source": [
    "numpyro_data = az.from_numpyro(mcmc)\n",
    "\n",
    "\"\"\" Model evaluation \"\"\"\n",
    "logger.info(\"Evaluating model ...\")\n",
    "\n",
    "score = az.loo(numpyro_data, var_name=site.obs)\n",
    "logger.info(f\"ELPD LOO (Log): {score.elpd_loo:.2f}\")\n",
    "\n",
    "score = az.waic(numpyro_data, var_name=site.obs)\n",
    "logger.info(f\"ELPD WAIC (Log): {score.elpd_waic:.2f}\")\n"
   ]
  },
  {
   "cell_type": "code",
   "execution_count": 11,
   "metadata": {},
   "outputs": [],
   "source": [
    "import pickle\n",
    "\n",
    "dest = os.path.join(model.build_dir, \"inference.pkl\")\n",
    "with open(dest, \"wb\") as f:\n",
    "    pickle.dump((model, mcmc, posterior_samples), f)\n"
   ]
  },
  {
   "cell_type": "code",
   "execution_count": 14,
   "metadata": {},
   "outputs": [
    {
     "data": {
      "text/plain": [
       "'/home/vishu/repos/hbmep-paper/reports/paper/intraoperative/midline-lateral/inference.pkl'"
      ]
     },
     "execution_count": 14,
     "metadata": {},
     "output_type": "execute_result"
    }
   ],
   "source": [
    "os.path.join(model.build_dir, \"inference.pkl\")"
   ]
  },
  {
   "cell_type": "code",
   "execution_count": 12,
   "metadata": {},
   "outputs": [
    {
     "data": {
      "text/plain": [
       "'/home/vishu/repos/hbmep-paper/reports/paper/intraoperative/midline-lateral/inference.nc'"
      ]
     },
     "execution_count": 12,
     "metadata": {},
     "output_type": "execute_result"
    }
   ],
   "source": [
    "dest = os.path.join(model.build_dir, \"inference.nc\")\n",
    "az.to_netcdf(mcmc, dest)\n"
   ]
  },
  {
   "cell_type": "code",
   "execution_count": null,
   "metadata": {},
   "outputs": [],
   "source": []
  }
 ],
 "metadata": {
  "kernelspec": {
   "display_name": "Python 3 (ipykernel)",
   "language": "python",
   "name": "python3"
  },
  "language_info": {
   "codemirror_mode": {
    "name": "ipython",
    "version": 3
   },
   "file_extension": ".py",
   "mimetype": "text/x-python",
   "name": "python",
   "nbconvert_exporter": "python",
   "pygments_lexer": "ipython3",
   "version": "3.11.4"
  }
 },
 "nbformat": 4,
 "nbformat_minor": 2
}
